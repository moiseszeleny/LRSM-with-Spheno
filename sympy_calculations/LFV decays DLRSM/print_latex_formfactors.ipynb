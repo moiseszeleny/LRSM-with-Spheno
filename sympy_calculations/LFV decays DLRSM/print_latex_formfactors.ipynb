{
 "cells": [
  {
   "cell_type": "code",
   "execution_count": 2,
   "id": "2c23d180",
   "metadata": {},
   "outputs": [
    {
     "name": "stdout",
     "output_type": "stream",
     "text": [
      "\n",
      "--- Calculating H10 Interactions ---\n",
      "\n",
      "--- Calculating Z1 Interactions ---\n",
      "\n",
      "--- Defining Lepton Interactions with charged fields ---\n",
      "\n",
      "Refactored script execution finished.\n"
     ]
    },
    {
     "name": "stderr",
     "output_type": "stream",
     "text": [
      "INFO: --- Creating Diagram: triangle_ni_GLp_GLm (FSS) ---\n",
      "INFO: Vertex 1 ({{H_1^0}}-{{G_L^+}}-{{G_L^-}}) coupling found: -\\alpha_{13}**2*k_1/\\rho_1 + 4*\\lambda_{12}*k_1\n",
      "INFO: Vertex 2 ({{G_L^+}}-\\overline{n}[i]-\\ell[b]) coupling found: L=-sqrt(2)*T_{RL}[i, b]/k_1, R=sqrt(2)*conjugate(Q_L[b, i])*m_\\ell[b]/k_1\n",
      "INFO: Vertex 3 ({{G_L^-}}-\\overline{\\ell}[a]-n[i]) coupling found: L=sqrt(2)*Q_L[a, i]*m_\\ell[a]/k_1, R=-sqrt(2)*conjugate(T_{RL}[i, a])/k_1\n",
      "INFO: Mass List for TriangleFSS: [m_{H_1^0}, m_\\ell[a], m_\\ell[b], mn[i], m_{W_1}, m_{W_1}]\n",
      "INFO: Successfully created triangle_ni_GLp_GLm (FSS)\n",
      "INFO: --- Creating Diagram: triangle_ni_GRp_GRm (FSS) ---\n",
      "INFO: Vertex 1 ({{H_1^0}}-{{G_R^+}}-{{G_R^-}}) coupling found: -\\alpha_{13}**2*k_1**3/(\\rho_1*v_R**2) + 4*\\lambda_{12}*k_1**3/v_R**2\n",
      "INFO: Vertex 2 ({{G_R^+}}-\\overline{n}[i]-\\ell[b]) coupling found: L=-sqrt(2)*conjugate(Q_R[b, i])*m_\\ell[b]/v_R, R=sqrt(2)*conjugate(J[b, i])/v_R\n",
      "INFO: Vertex 3 ({{G_R^-}}-\\overline{\\ell}[a]-n[i]) coupling found: L=sqrt(2)*J[a, i]/v_R, R=-sqrt(2)*Q_R[a, i]*m_\\ell[a]/v_R\n",
      "INFO: Mass List for TriangleFSS: [m_{H_1^0}, m_\\ell[a], m_\\ell[b], mn[i], m_{W_2}, m_{W_2}]\n",
      "INFO: Successfully created triangle_ni_GRp_GRm (FSS)\n",
      "INFO: --- Creating Diagram: triangle_ni_HRp_HRm (FSS) ---\n",
      "INFO: Vertex 1 ({{H_1^0}}-{{H_R^+}}-{{H_R^-}}) coupling found: 2*\\alpha_{23}*k_1**3/v_R**2 + 2*k_1*(\\alpha_{23} + 2*\\lambda_{12}) + (-\\alpha_{12}*\\alpha_{13}*k_1 - \\alpha_{13}*\\alpha_{23}*k_1**3/v_R**2)/\\rho_1\n",
      "INFO: Vertex 2 ({{H_R^+}}-\\overline{n}[i]-\\ell[b]) coupling found: L=sqrt(2)*conjugate(Q_R[b, i])*m_\\ell[b]/k_1, R=-sqrt(2)*conjugate(K[b, i])/k_1\n",
      "INFO: Vertex 3 ({{H_R^-}}-\\overline{\\ell}[a]-n[i]) coupling found: L=-sqrt(2)*K[a, i]/k_1, R=sqrt(2)*Q_R[a, i]*m_\\ell[a]/k_1\n",
      "INFO: Mass List for TriangleFSS: [m_{H_1^0}, m_\\ell[a], m_\\ell[b], mn[i], m_{H_R^+}, m_{H_R^+}]\n",
      "INFO: Successfully created triangle_ni_HRp_HRm (FSS)\n",
      "INFO: --- Creating Diagram: triangle_ni_GRp_HRm (FSS) ---\n",
      "INFO: Vertex 1 ({{H_1^0}}-{{G_R^+}}-{{H_R^-}}) coupling found: \\alpha_{23}*v_R + k_1**2*(\\alpha_{23} - 4*\\lambda_{12})/v_R + (\\alpha_{13}*\\alpha_{23}*k_1**4/(2*v_R**3) + \\alpha_{13}*k_1**2*(\\alpha_{12} + \\alpha_{13})/(2*v_R))/\\rho_1\n",
      "INFO: Vertex 2 ({{G_R^+}}-\\overline{n}[i]-\\ell[b]) coupling found: L=-sqrt(2)*conjugate(Q_R[b, i])*m_\\ell[b]/v_R, R=sqrt(2)*conjugate(J[b, i])/v_R\n",
      "INFO: Vertex 3 ({{H_R^-}}-\\overline{\\ell}[a]-n[i]) coupling found: L=-sqrt(2)*K[a, i]/k_1, R=sqrt(2)*Q_R[a, i]*m_\\ell[a]/k_1\n",
      "INFO: Mass List for TriangleFSS: [m_{H_1^0}, m_\\ell[a], m_\\ell[b], mn[i], m_{W_2}, m_{H_R^+}]\n",
      "INFO: Successfully created triangle_ni_GRp_HRm (FSS)\n",
      "INFO: --- Creating Diagram: triangle_ni_HRp_GRm (FSS) ---\n",
      "INFO: Vertex 1 ({{H_1^0}}-{{H_R^+}}-{{G_R^-}}) coupling found: \\alpha_{23}*v_R + k_1**2*(\\alpha_{23} - 4*\\lambda_{12})/v_R + (\\alpha_{13}*\\alpha_{23}*k_1**4/(2*v_R**3) + \\alpha_{13}*k_1**2*(\\alpha_{12} + \\alpha_{13})/(2*v_R))/\\rho_1\n",
      "INFO: Vertex 2 ({{H_R^+}}-\\overline{n}[i]-\\ell[b]) coupling found: L=sqrt(2)*conjugate(Q_R[b, i])*m_\\ell[b]/k_1, R=-sqrt(2)*conjugate(K[b, i])/k_1\n",
      "INFO: Vertex 3 ({{G_R^-}}-\\overline{\\ell}[a]-n[i]) coupling found: L=sqrt(2)*J[a, i]/v_R, R=-sqrt(2)*Q_R[a, i]*m_\\ell[a]/v_R\n",
      "INFO: Mass List for TriangleFSS: [m_{H_1^0}, m_\\ell[a], m_\\ell[b], mn[i], m_{H_R^+}, m_{W_2}]\n",
      "INFO: Successfully created triangle_ni_HRp_GRm (FSS)\n",
      "INFO: --- Creating Diagram: triangle_ni_W1p_W1m (FVV) ---\n",
      "INFO: Vertex 1 ({{H_1^0}}-W_1^+-W_1^-) coupling found: g**2*k_1/2\n",
      "INFO: Vertex 2 (W_1^+-\\overline{n}[i]-\\ell[b]) coupling found: L=g*conjugate(Q_L[b, i])/2, R=0\n",
      "INFO: Vertex 3 (W_1^--\\overline{\\ell}[a]-n[i]) coupling found: L=g*Q_L[a, i]/2, R=0\n",
      "INFO: Mass List for TriangleFVV: [m_{H_1^0}, m_\\ell[a], m_\\ell[b], mn[i], m_{W_1}, m_{W_1}]\n",
      "INFO: Successfully created triangle_ni_W1p_W1m (FVV)\n",
      "INFO: --- Creating Diagram: triangle_ni_W2p_W2m (FVV) ---\n",
      "INFO: Vertex 1 ({{H_1^0}}-W_2^+-W_2^-) coupling found: -g**2*k_1*(\\alpha_{13} - 2*\\rho_1)/(4*\\rho_1)\n",
      "INFO: Vertex 2 (W_2^+-\\overline{n}[i]-\\ell[b]) coupling found: L=0, R=g*conjugate(Q_R[b, i])/2\n",
      "INFO: Vertex 3 (W_2^--\\overline{\\ell}[a]-n[i]) coupling found: L=0, R=g*Q_R[a, i]/2\n",
      "INFO: Mass List for TriangleFVV: [m_{H_1^0}, m_\\ell[a], m_\\ell[b], mn[i], m_{W_2}, m_{W_2}]\n",
      "INFO: Successfully created triangle_ni_W2p_W2m (FVV)\n",
      "INFO: --- Creating Diagram: triangle_ni_W1p_GLm (FSV) ---\n",
      "INFO: Vertex 1 ({{H_1^0}}-W_1^+-{{G_L^-}}) coupling found: g/2\n",
      "INFO: Vertex 2 (W_1^+-\\overline{n}[i]-\\ell[b]) coupling found: L=g*conjugate(Q_L[b, i])/2, R=0\n",
      "INFO: Vertex 3 ({{G_L^-}}-\\overline{\\ell}[a]-n[i]) coupling found: L=sqrt(2)*Q_L[a, i]*m_\\ell[a]/k_1, R=-sqrt(2)*conjugate(T_{RL}[i, a])/k_1\n",
      "INFO: Mass List for TriangleFSV: [m_{H_1^0}, m_\\ell[a], m_\\ell[b], mn[i], m_{W_1}, m_{W_1}]\n",
      "INFO: Successfully created triangle_ni_W1p_GLm (FSV)\n",
      "INFO: --- Creating Diagram: triangle_ni_W2p_GRm (FSV) ---\n",
      "INFO: Vertex 1 ({{H_1^0}}-W_2^+-{{G_R^-}}) coupling found: \\alpha_{13}*g*k_1/(4*\\rho_1*v_R) - g*k_1/(2*v_R)\n",
      "INFO: Vertex 2 (W_2^+-\\overline{n}[i]-\\ell[b]) coupling found: L=0, R=g*conjugate(Q_R[b, i])/2\n",
      "INFO: Vertex 3 ({{G_R^-}}-\\overline{\\ell}[a]-n[i]) coupling found: L=sqrt(2)*J[a, i]/v_R, R=-sqrt(2)*Q_R[a, i]*m_\\ell[a]/v_R\n",
      "INFO: Mass List for TriangleFSV: [m_{H_1^0}, m_\\ell[a], m_\\ell[b], mn[i], m_{W_2}, m_{W_2}]\n",
      "INFO: Successfully created triangle_ni_W2p_GRm (FSV)\n",
      "INFO: --- Creating Diagram: triangle_ni_W2p_HRm (FSV) ---\n",
      "INFO: Vertex 1 ({{H_1^0}}-W_2^+-{{H_R^-}}) coupling found: \\alpha_{13}*g*k_1**2/(4*\\rho_1*v_R**2) + g/2\n",
      "INFO: Vertex 2 (W_2^+-\\overline{n}[i]-\\ell[b]) coupling found: L=0, R=g*conjugate(Q_R[b, i])/2\n",
      "INFO: Vertex 3 ({{H_R^-}}-\\overline{\\ell}[a]-n[i]) coupling found: L=-sqrt(2)*K[a, i]/k_1, R=sqrt(2)*Q_R[a, i]*m_\\ell[a]/k_1\n",
      "INFO: Mass List for TriangleFSV: [m_{H_1^0}, m_\\ell[a], m_\\ell[b], mn[i], m_{W_2}, m_{H_R^+}]\n",
      "INFO: Successfully created triangle_ni_W2p_HRm (FSV)\n",
      "INFO: --- Creating Diagram: triangle_ni_GLp_W1m (FVS) ---\n",
      "INFO: Vertex 1 ({{H_1^0}}-{{G_L^+}}-W_1^-) coupling found: g/2\n",
      "INFO: Vertex 2 ({{G_L^+}}-\\overline{n}[i]-\\ell[b]) coupling found: L=-sqrt(2)*T_{RL}[i, b]/k_1, R=sqrt(2)*conjugate(Q_L[b, i])*m_\\ell[b]/k_1\n",
      "INFO: Vertex 3 (W_1^--\\overline{\\ell}[a]-n[i]) coupling found: L=g*Q_L[a, i]/2, R=0\n",
      "INFO: Mass List for TriangleFVS: [m_{H_1^0}, m_\\ell[a], m_\\ell[b], mn[i], m_{W_1}, m_{W_1}]\n",
      "INFO: Successfully created triangle_ni_GLp_W1m (FVS)\n",
      "INFO: --- Creating Diagram: triangle_ni_GRp_W2m (FVS) ---\n",
      "INFO: Vertex 1 ({{H_1^0}}-{{G_R^+}}-W_2^-) coupling found: \\alpha_{13}*g*k_1/(4*\\rho_1*v_R) - g*k_1/(2*v_R)\n",
      "INFO: Vertex 2 ({{G_R^+}}-\\overline{n}[i]-\\ell[b]) coupling found: L=-sqrt(2)*conjugate(Q_R[b, i])*m_\\ell[b]/v_R, R=sqrt(2)*conjugate(J[b, i])/v_R\n",
      "INFO: Vertex 3 (W_2^--\\overline{\\ell}[a]-n[i]) coupling found: L=0, R=g*Q_R[a, i]/2\n",
      "INFO: Mass List for TriangleFVS: [m_{H_1^0}, m_\\ell[a], m_\\ell[b], mn[i], m_{W_2}, m_{W_2}]\n",
      "INFO: Successfully created triangle_ni_GRp_W2m (FVS)\n",
      "INFO: --- Creating Diagram: triangle_ni_HRp_W2m (FVS) ---\n",
      "INFO: Vertex 1 ({{H_1^0}}-{{H_R^+}}-W_2^-) coupling found: \\alpha_{13}*g*k_1**2/(4*\\rho_1*v_R**2) + g/2\n",
      "INFO: Vertex 2 ({{H_R^+}}-\\overline{n}[i]-\\ell[b]) coupling found: L=sqrt(2)*conjugate(Q_R[b, i])*m_\\ell[b]/k_1, R=-sqrt(2)*conjugate(K[b, i])/k_1\n",
      "INFO: Vertex 3 (W_2^--\\overline{\\ell}[a]-n[i]) coupling found: L=0, R=g*Q_R[a, i]/2\n",
      "INFO: Mass List for TriangleFVS: [m_{H_1^0}, m_\\ell[a], m_\\ell[b], mn[i], m_{H_R^+}, m_{W_2}]\n",
      "INFO: Successfully created triangle_ni_HRp_W2m (FVS)\n",
      "INFO: --- Creating Diagram: bubble_ni_W1 (FV) ---\n",
      "INFO: Vertex 1 ({{H_1^0}}-\\ell[b]-\\overline{\\ell}[b]) coupling found: L=sqrt(2)*m_\\ell[b]/k_1, R=sqrt(2)*m_\\ell[b]/k_1\n",
      "INFO: Vertex 2 (W_1^+-\\overline{n}[i]-\\ell[b]) coupling found: L=g*conjugate(Q_L[b, i])/2, R=0\n",
      "INFO: Vertex 3 (W_1^--\\overline{\\ell}[a]-n[i]) coupling found: L=g*Q_L[a, i]/2, R=0\n",
      "INFO: Mass List for BubbleFV: [m_\\ell[a], m_\\ell[b], mn[i], m_{W_1}]\n",
      "INFO: Successfully created bubble_ni_W1 (FV)\n",
      "INFO: --- Creating Diagram: bubble_ni_W2 (FV) ---\n",
      "INFO: Vertex 1 ({{H_1^0}}-\\ell[b]-\\overline{\\ell}[b]) coupling found: L=sqrt(2)*m_\\ell[b]/k_1, R=sqrt(2)*m_\\ell[b]/k_1\n",
      "INFO: Vertex 2 (W_2^+-\\overline{n}[i]-\\ell[b]) coupling found: L=0, R=g*conjugate(Q_R[b, i])/2\n",
      "INFO: Vertex 3 (W_2^--\\overline{\\ell}[a]-n[i]) coupling found: L=0, R=g*Q_R[a, i]/2\n",
      "INFO: Mass List for BubbleFV: [m_\\ell[a], m_\\ell[b], mn[i], m_{W_2}]\n",
      "INFO: Successfully created bubble_ni_W2 (FV)\n",
      "INFO: --- Creating Diagram: bubble_W1_ni (VF) ---\n",
      "INFO: Vertex 1 ({{H_1^0}}-\\ell[a]-\\overline{\\ell}[a]) coupling found: L=sqrt(2)*m_\\ell[a]/k_1, R=sqrt(2)*m_\\ell[a]/k_1\n",
      "INFO: Vertex 2 (W_1^+-\\overline{n}[i]-\\ell[a]) coupling found: L=g*conjugate(Q_L[a, i])/2, R=0\n",
      "INFO: Vertex 3 (W_1^--\\overline{\\ell}[b]-n[i]) coupling found: L=g*Q_L[b, i]/2, R=0\n",
      "INFO: Mass List for BubbleVF: [m_\\ell[a], m_\\ell[b], mn[i], m_{W_1}]\n",
      "INFO: Successfully created bubble_W1_ni (VF)\n",
      "INFO: --- Creating Diagram: bubble_W2_ni (VF) ---\n",
      "INFO: Vertex 1 ({{H_1^0}}-\\ell[a]-\\overline{\\ell}[a]) coupling found: L=sqrt(2)*m_\\ell[a]/k_1, R=sqrt(2)*m_\\ell[a]/k_1\n",
      "INFO: Vertex 2 (W_2^+-\\overline{n}[i]-\\ell[a]) coupling found: L=0, R=g*conjugate(Q_R[a, i])/2\n",
      "INFO: Vertex 3 (W_2^--\\overline{\\ell}[b]-n[i]) coupling found: L=0, R=g*Q_R[b, i]/2\n",
      "INFO: Mass List for BubbleVF: [m_\\ell[a], m_\\ell[b], mn[i], m_{W_2}]\n",
      "INFO: Successfully created bubble_W2_ni (VF)\n",
      "INFO: --- Creating Diagram: bubble_ni_GL (FS) ---\n",
      "INFO: Vertex 1 ({{H_1^0}}-\\ell[b]-\\overline{\\ell}[b]) coupling found: L=sqrt(2)*m_\\ell[b]/k_1, R=sqrt(2)*m_\\ell[b]/k_1\n",
      "INFO: Vertex 2 ({{G_L^+}}-\\overline{n}[i]-\\ell[b]) coupling found: L=-sqrt(2)*T_{RL}[i, b]/k_1, R=sqrt(2)*conjugate(Q_L[b, i])*m_\\ell[b]/k_1\n",
      "INFO: Vertex 3 ({{G_L^-}}-\\overline{\\ell}[a]-n[i]) coupling found: L=sqrt(2)*Q_L[a, i]*m_\\ell[a]/k_1, R=-sqrt(2)*conjugate(T_{RL}[i, a])/k_1\n",
      "INFO: Mass List for BubbleFS: [m_\\ell[a], m_\\ell[b], mn[i], m_{W_1}]\n",
      "INFO: Successfully created bubble_ni_GL (FS)\n",
      "INFO: --- Creating Diagram: bubble_ni_GR (FS) ---\n",
      "INFO: Vertex 1 ({{H_1^0}}-\\ell[b]-\\overline{\\ell}[b]) coupling found: L=sqrt(2)*m_\\ell[b]/k_1, R=sqrt(2)*m_\\ell[b]/k_1\n",
      "INFO: Vertex 2 ({{G_R^+}}-\\overline{n}[i]-\\ell[b]) coupling found: L=-sqrt(2)*conjugate(Q_R[b, i])*m_\\ell[b]/v_R, R=sqrt(2)*conjugate(J[b, i])/v_R\n",
      "INFO: Vertex 3 ({{G_R^-}}-\\overline{\\ell}[a]-n[i]) coupling found: L=sqrt(2)*J[a, i]/v_R, R=-sqrt(2)*Q_R[a, i]*m_\\ell[a]/v_R\n",
      "INFO: Mass List for BubbleFS: [m_\\ell[a], m_\\ell[b], mn[i], m_{W_2}]\n",
      "INFO: Successfully created bubble_ni_GR (FS)\n",
      "INFO: --- Creating Diagram: bubble_ni_HR (FS) ---\n",
      "INFO: Vertex 1 ({{H_1^0}}-\\ell[b]-\\overline{\\ell}[b]) coupling found: L=sqrt(2)*m_\\ell[b]/k_1, R=sqrt(2)*m_\\ell[b]/k_1\n",
      "INFO: Vertex 2 ({{H_R^+}}-\\overline{n}[i]-\\ell[b]) coupling found: L=sqrt(2)*conjugate(Q_R[b, i])*m_\\ell[b]/k_1, R=-sqrt(2)*conjugate(K[b, i])/k_1\n",
      "INFO: Vertex 3 ({{H_R^-}}-\\overline{\\ell}[a]-n[i]) coupling found: L=-sqrt(2)*K[a, i]/k_1, R=sqrt(2)*Q_R[a, i]*m_\\ell[a]/k_1\n",
      "INFO: Mass List for BubbleFS: [m_\\ell[a], m_\\ell[b], mn[i], m_{H_R^+}]\n",
      "INFO: Successfully created bubble_ni_HR (FS)\n",
      "INFO: --- Creating Diagram: bubble_GL_ni (SF) ---\n",
      "INFO: Vertex 1 ({{H_1^0}}-\\ell[a]-\\overline{\\ell}[a]) coupling found: L=sqrt(2)*m_\\ell[a]/k_1, R=sqrt(2)*m_\\ell[a]/k_1\n",
      "INFO: Vertex 2 ({{G_L^+}}-\\overline{n}[i]-\\ell[a]) coupling found: L=-sqrt(2)*T_{RL}[i, a]/k_1, R=sqrt(2)*conjugate(Q_L[a, i])*m_\\ell[a]/k_1\n",
      "INFO: Vertex 3 ({{G_L^-}}-\\overline{\\ell}[b]-n[i]) coupling found: L=sqrt(2)*Q_L[b, i]*m_\\ell[b]/k_1, R=-sqrt(2)*conjugate(T_{RL}[i, b])/k_1\n",
      "INFO: Mass List for BubbleSF: [m_\\ell[a], m_\\ell[b], mn[i], m_{W_1}]\n",
      "INFO: Successfully created bubble_GL_ni (SF)\n",
      "INFO: --- Creating Diagram: bubble_GR_ni (SF) ---\n",
      "INFO: Vertex 1 ({{H_1^0}}-\\ell[a]-\\overline{\\ell}[a]) coupling found: L=sqrt(2)*m_\\ell[a]/k_1, R=sqrt(2)*m_\\ell[a]/k_1\n",
      "INFO: Vertex 2 ({{G_R^+}}-\\overline{n}[i]-\\ell[a]) coupling found: L=-sqrt(2)*conjugate(Q_R[a, i])*m_\\ell[a]/v_R, R=sqrt(2)*conjugate(J[a, i])/v_R\n",
      "INFO: Vertex 3 ({{G_R^-}}-\\overline{\\ell}[b]-n[i]) coupling found: L=sqrt(2)*J[b, i]/v_R, R=-sqrt(2)*Q_R[b, i]*m_\\ell[b]/v_R\n",
      "INFO: Mass List for BubbleSF: [m_\\ell[a], m_\\ell[b], mn[i], m_{W_2}]\n",
      "INFO: Successfully created bubble_GR_ni (SF)\n",
      "INFO: --- Creating Diagram: bubble_HR_ni (SF) ---\n",
      "INFO: Vertex 1 ({{H_1^0}}-\\ell[a]-\\overline{\\ell}[a]) coupling found: L=sqrt(2)*m_\\ell[a]/k_1, R=sqrt(2)*m_\\ell[a]/k_1\n",
      "INFO: Vertex 2 ({{H_R^+}}-\\overline{n}[i]-\\ell[a]) coupling found: L=sqrt(2)*conjugate(Q_R[a, i])*m_\\ell[a]/k_1, R=-sqrt(2)*conjugate(K[a, i])/k_1\n",
      "INFO: Vertex 3 ({{H_R^-}}-\\overline{\\ell}[b]-n[i]) coupling found: L=-sqrt(2)*K[b, i]/k_1, R=sqrt(2)*Q_R[b, i]*m_\\ell[b]/k_1\n",
      "INFO: Mass List for BubbleSF: [m_\\ell[a], m_\\ell[b], mn[i], m_{H_R^+}]\n",
      "INFO: Successfully created bubble_HR_ni (SF)\n",
      "INFO: --- Creating Diagram: triangle_GL_ninj (SFF) ---\n",
      "INFO: Vertex 1 ({{H_1^0}}-n[i]-\\overline{n}[j]) coupling found: L=-sqrt(2)*\\alpha_{13}*epsilon**2*conjugate(\\Omega_{SR}[i, j])/(4*\\rho_1*k_1) + sqrt(2)*\\Omega_{RL}[i, j]/(2*k_1), R=-sqrt(2)*\\alpha_{13}*epsilon**2*\\Omega_{SR}[i, j]/(4*\\rho_1*k_1) + sqrt(2)*conjugate(\\Omega_{RL}[i, j])/(2*k_1)\n",
      "INFO: Vertex 2 ({{G_L^+}}-\\overline{n}[j]-\\ell[b]) coupling found: L=-sqrt(2)*T_{RL}[j, b]/k_1, R=sqrt(2)*conjugate(Q_L[b, j])*m_\\ell[b]/k_1\n",
      "INFO: Vertex 3 ({{G_L^-}}-\\overline{\\ell}[a]-n[i]) coupling found: L=sqrt(2)*Q_L[a, i]*m_\\ell[a]/k_1, R=-sqrt(2)*conjugate(T_{RL}[i, a])/k_1\n",
      "INFO: Mass List for TriangleSFF: [m_{H_1^0}, m_\\ell[a], m_\\ell[b], m_{W_1}, mn[i], mn[j]]\n",
      "INFO: Successfully created triangle_GL_ninj (SFF)\n",
      "INFO: --- Creating Diagram: triangle_GR_ninj (SFF) ---\n",
      "INFO: Vertex 1 ({{H_1^0}}-n[i]-\\overline{n}[j]) coupling found: L=-sqrt(2)*\\alpha_{13}*epsilon**2*conjugate(\\Omega_{SR}[i, j])/(4*\\rho_1*k_1) + sqrt(2)*\\Omega_{RL}[i, j]/(2*k_1), R=-sqrt(2)*\\alpha_{13}*epsilon**2*\\Omega_{SR}[i, j]/(4*\\rho_1*k_1) + sqrt(2)*conjugate(\\Omega_{RL}[i, j])/(2*k_1)\n",
      "INFO: Vertex 2 ({{G_R^+}}-\\overline{n}[j]-\\ell[b]) coupling found: L=-sqrt(2)*conjugate(Q_R[b, j])*m_\\ell[b]/v_R, R=sqrt(2)*conjugate(J[b, j])/v_R\n",
      "INFO: Vertex 3 ({{G_R^-}}-\\overline{\\ell}[a]-n[i]) coupling found: L=sqrt(2)*J[a, i]/v_R, R=-sqrt(2)*Q_R[a, i]*m_\\ell[a]/v_R\n",
      "INFO: Mass List for TriangleSFF: [m_{H_1^0}, m_\\ell[a], m_\\ell[b], m_{W_2}, mn[i], mn[j]]\n",
      "INFO: Successfully created triangle_GR_ninj (SFF)\n",
      "INFO: --- Creating Diagram: triangle_HR_ninj (SFF) ---\n",
      "INFO: Vertex 1 ({{H_1^0}}-n[i]-\\overline{n}[j]) coupling found: L=-sqrt(2)*\\alpha_{13}*epsilon**2*conjugate(\\Omega_{SR}[i, j])/(4*\\rho_1*k_1) + sqrt(2)*\\Omega_{RL}[i, j]/(2*k_1), R=-sqrt(2)*\\alpha_{13}*epsilon**2*\\Omega_{SR}[i, j]/(4*\\rho_1*k_1) + sqrt(2)*conjugate(\\Omega_{RL}[i, j])/(2*k_1)\n",
      "INFO: Vertex 2 ({{H_R^+}}-\\overline{n}[j]-\\ell[b]) coupling found: L=sqrt(2)*conjugate(Q_R[b, j])*m_\\ell[b]/k_1, R=-sqrt(2)*conjugate(K[b, j])/k_1\n",
      "INFO: Vertex 3 ({{H_R^-}}-\\overline{\\ell}[a]-n[i]) coupling found: L=-sqrt(2)*K[a, i]/k_1, R=sqrt(2)*Q_R[a, i]*m_\\ell[a]/k_1\n",
      "INFO: Mass List for TriangleSFF: [m_{H_1^0}, m_\\ell[a], m_\\ell[b], m_{H_R^+}, mn[i], mn[j]]\n",
      "INFO: Successfully created triangle_HR_ninj (SFF)\n",
      "INFO: --- Creating Diagram: triangle_W1_ninj (VFF) ---\n",
      "INFO: Vertex 1 ({{H_1^0}}-n[i]-\\overline{n}[j]) coupling found: L=-sqrt(2)*\\alpha_{13}*epsilon**2*conjugate(\\Omega_{SR}[i, j])/(4*\\rho_1*k_1) + sqrt(2)*\\Omega_{RL}[i, j]/(2*k_1), R=-sqrt(2)*\\alpha_{13}*epsilon**2*\\Omega_{SR}[i, j]/(4*\\rho_1*k_1) + sqrt(2)*conjugate(\\Omega_{RL}[i, j])/(2*k_1)\n",
      "INFO: Vertex 2 (W_1^+-\\overline{n}[j]-\\ell[b]) coupling found: L=g*conjugate(Q_L[b, j])/2, R=0\n",
      "INFO: Vertex 3 (W_1^--\\overline{\\ell}[a]-n[i]) coupling found: L=g*Q_L[a, i]/2, R=0\n",
      "INFO: Mass List for TriangleVFF: [m_{H_1^0}, m_\\ell[a], m_\\ell[b], m_{W_1}, mn[i], mn[j]]\n",
      "INFO: Successfully created triangle_W1_ninj (VFF)\n",
      "INFO: --- Creating Diagram: triangle_W2_ninj (VFF) ---\n",
      "INFO: Vertex 1 ({{H_1^0}}-n[i]-\\overline{n}[j]) coupling found: L=-sqrt(2)*\\alpha_{13}*epsilon**2*conjugate(\\Omega_{SR}[i, j])/(4*\\rho_1*k_1) + sqrt(2)*\\Omega_{RL}[i, j]/(2*k_1), R=-sqrt(2)*\\alpha_{13}*epsilon**2*\\Omega_{SR}[i, j]/(4*\\rho_1*k_1) + sqrt(2)*conjugate(\\Omega_{RL}[i, j])/(2*k_1)\n",
      "INFO: Vertex 2 (W_2^+-\\overline{n}[j]-\\ell[b]) coupling found: L=0, R=g*conjugate(Q_R[b, j])/2\n",
      "INFO: Vertex 3 (W_2^--\\overline{\\ell}[a]-n[i]) coupling found: L=0, R=g*Q_R[a, i]/2\n",
      "INFO: Mass List for TriangleVFF: [m_{H_1^0}, m_\\ell[a], m_\\ell[b], m_{W_2}, mn[i], mn[j]]\n",
      "INFO: Successfully created triangle_W2_ninj (VFF)\n"
     ]
    },
    {
     "name": "stdout",
     "output_type": "stream",
     "text": [
      "28 diagrams created and stored in all_diagrams dictionary.\n"
     ]
    }
   ],
   "source": [
    "from symbolic_formfactors import symbolic_formfactor"
   ]
  },
  {
   "cell_type": "code",
   "execution_count": 3,
   "id": "a61b21fa",
   "metadata": {},
   "outputs": [],
   "source": [
    "from print_latex_formfactor import latex_formfactor"
   ]
  },
  {
   "cell_type": "code",
   "execution_count": 4,
   "id": "140efe4a",
   "metadata": {},
   "outputs": [],
   "source": [
    "from sympy import latex, Function, simplify, factor, multiline_latex"
   ]
  },
  {
   "cell_type": "code",
   "execution_count": 5,
   "id": "ba47cbcc",
   "metadata": {},
   "outputs": [],
   "source": [
    "# Extract the form factor 'AL' from the symbolic_formfactor dictionary\n",
    "# and its PV associated functions\n",
    "AL = symbolic_formfactor['ni_GL']['AL']\n",
    "AR = symbolic_formfactor['ni_GL']['AR']\n",
    "AL_PV_functions = AL.atoms(Function)\n",
    "AR_PV_functions = AR.atoms(Function)\n",
    "# Factor out the PV functions from AL\n",
    "AL_PV_factored = AL.expand().collect(AL_PV_functions, simplify)\n",
    "AR_PV_factored = AR.expand().collect(AR_PV_functions, simplify)"
   ]
  },
  {
   "cell_type": "code",
   "execution_count": 6,
   "id": "2b984ac7",
   "metadata": {},
   "outputs": [
    {
     "data": {
      "text/latex": [
       "$\\displaystyle \\frac{\\sqrt{2} i m_{l_a} m_{l_b}^{2} m_{n_i} \\left(Q_{Lai} T_{RLib} + \\overline{Q_{Lbi}} \\overline{T_{RLia}}\\right) B^{\\left(1\\right)}_0(m_{l_a}, m_{n_i}, m_{W_1})}{8 \\pi^{2} k_{1}^{3} \\left(m_{l_a}^{2} - m_{l_b}^{2}\\right)} + \\frac{\\sqrt{2} i m_{l_a} m_{l_b}^{2} \\left(- Q_{Lai} \\overline{Q_{Lbi}} m_{l_a}^{2} - T_{RLib} \\overline{T_{RLia}}\\right) B^{\\left(1\\right)}_1(m_{l_a}, m_{n_i}, m_{W_1})}{8 \\pi^{2} k_{1}^{3} \\left(m_{l_a}^{2} - m_{l_b}^{2}\\right)}$"
      ],
      "text/plain": [
       "sqrt(2)*I*m_{l_a}*m_{l_b}**2*m_{n_i}*(Q_{Lai}*T_{RLib} + \\overline{Q_{Lbi}}*\\overline{T_{RLia}})*B1_0(m_{l_a}, m_{n_i}, m_{W_1})/(8*pi**2*k_1**3*(m_{l_a}**2 - m_{l_b}**2)) + sqrt(2)*I*m_{l_a}*m_{l_b}**2*(-Q_{Lai}*\\overline{Q_{Lbi}}*m_{l_a}**2 - T_{RLib}*\\overline{T_{RLia}})*B1_1(m_{l_a}, m_{n_i}, m_{W_1})/(8*pi**2*k_1**3*(m_{l_a}**2 - m_{l_b}**2))"
      ]
     },
     "execution_count": 6,
     "metadata": {},
     "output_type": "execute_result"
    }
   ],
   "source": [
    "AL_PV_factored"
   ]
  },
  {
   "cell_type": "code",
   "execution_count": 7,
   "id": "926a516c",
   "metadata": {},
   "outputs": [
    {
     "name": "stdout",
     "output_type": "stream",
     "text": [
      "\\frac{\\sqrt{2} i m_{l_a} m_{l_b}^{2} m_{n_i} \\left(Q_{Lai} T_{RLib} + \\overline{Q_{Lbi}} \\overline{T_{RLia}}\\right) B^{\\left(1\\right)}_0(m_{l_a}, m_{n_i}, m_{W_1})}{8 \\pi^{2} k_{1}^{3} \\left(m_{l_a}^{2} - m_{l_b}^{2}\\right)} + \\frac{\\sqrt{2} i m_{l_a} m_{l_b}^{2} \\left(- Q_{Lai} \\overline{Q_{Lbi}} m_{l_a}^{2} - T_{RLib} \\overline{T_{RLia}}\\right) B^{\\left(1\\right)}_1(m_{l_a}, m_{n_i}, m_{W_1})}{8 \\pi^{2} k_{1}^{3} \\left(m_{l_a}^{2} - m_{l_b}^{2}\\right)}\n"
     ]
    }
   ],
   "source": [
    "print(latex(AL_PV_factored))"
   ]
  },
  {
   "cell_type": "code",
   "execution_count": 8,
   "id": "f307457b",
   "metadata": {},
   "outputs": [
    {
     "name": "stdout",
     "output_type": "stream",
     "text": [
      "\\frac{\\sqrt{2} i m_{l_a}^{2} m_{l_b} \\left(- Q_{Lai} \\overline{Q_{Lbi}} m_{l_b}^{2} - T_{RLib} \\overline{T_{RLia}}\\right) B^{\\left(1\\right)}_1(m_{l_a}, m_{n_i}, m_{W_1})}{8 \\pi^{2} k_{1}^{3} \\left(m_{l_a}^{2} - m_{l_b}^{2}\\right)} + \\frac{\\sqrt{2} i m_{l_b} m_{n_i} \\left(Q_{Lai} T_{RLib} m_{l_a}^{2} + \\overline{Q_{Lbi}} \\overline{T_{RLia}} m_{l_b}^{2}\\right) B^{\\left(1\\right)}_0(m_{l_a}, m_{n_i}, m_{W_1})}{8 \\pi^{2} k_{1}^{3} \\left(m_{l_a}^{2} - m_{l_b}^{2}\\right)}\n"
     ]
    }
   ],
   "source": [
    "print(latex(AR_PV_factored))"
   ]
  },
  {
   "cell_type": "markdown",
   "id": "432f034c",
   "metadata": {},
   "source": [
    "\\begin{align*}\n",
    "\\mathtt{\\text{AL(niGL)}} = & \\frac{\\sqrt{2} i m_{l_a} m_{l_b}^{2} m_{n_i} \\left(Q_{Lai} T_{RLib} + \\overline{Q_{Lbi}} \\overline{T_{RLia}}\\right) B^{\\left(1\\right)}_0(m_{l_a}, m_{n_i}, m_{W_1})}{8 \\pi^{2} k_{1}^{3} \\left(m_{l_a}^{2} - m_{l_b}^{2}\\right)} \\\\\n",
    "& + \\frac{\\sqrt{2} i m_{l_a} m_{l_b}^{2} \\left(- Q_{Lai} \\overline{Q_{Lbi}} m_{l_a}^{2} - T_{RLib} \\overline{T_{RLia}}\\right) B^{\\left(1\\right)}_1(m_{l_a}, m_{n_i}, m_{W_1})}{8 \\pi^{2} k_{1}^{3} \\left(m_{l_a}^{2} - m_{l_b}^{2}\\right)} \n",
    "\\end{align*}"
   ]
  },
  {
   "cell_type": "code",
   "execution_count": 142,
   "id": "194a7465",
   "metadata": {},
   "outputs": [
    {
     "data": {
      "text/plain": [
       "('from', 'sympy', 'import', 'Add,', 'Mul,', 'fraction')"
      ]
     },
     "execution_count": 142,
     "metadata": {},
     "output_type": "execute_result"
    }
   ],
   "source": [
    ", from sympy import Add, Mul, fraction"
   ]
  },
  {
   "cell_type": "code",
   "execution_count": 150,
   "id": "6047da67",
   "metadata": {},
   "outputs": [],
   "source": [
    "from sympy import Add, fraction\n",
    "\n",
    "\n",
    "symbolic_formfactor_factored = {}\n",
    "for diagram, formfactors in symbolic_formfactor.items():\n",
    "    factored_formfactors = {}\n",
    "    for ff_name, ff_expr in formfactors.items():\n",
    "        if ff_name == 'AL':\n",
    "            ff_AL_PV_functions = ff_expr.atoms(Function)\n",
    "            ff_AL_factored = ff_expr.expand().collect(ff_AL_PV_functions, simplify)\n",
    "            # factor a common factor if possible\n",
    "            if isinstance(ff_AL_factored, Add):\n",
    "                terms = ff_AL_factored.as_ordered_terms()\n",
    "                if len(terms) >1:\n",
    "                    numerators = []\n",
    "                    denominators = []\n",
    "                    for term in terms:\n",
    "                        if isinstance(term, Mul):\n",
    "                            numerator, denominator = fraction(term)\n",
    "                            numerators.append(numerator)\n",
    "                            denominators.append(denominator)\n",
    "                    # All denominators are equal?\n",
    "                    cond = True\n",
    "                    for i in range(1, len(denominators)):\n",
    "                        if denominators[i] != denominators[0]:\n",
    "                            cond = False\n",
    "                        else:\n",
    "                            pass\n",
    "                    if cond:\n",
    "                        total_numerator = Add(*numerators).expand().collect(ff_AL_PV_functions, factor)\n",
    "                        ff_AL_factored = total_numerator / denominators[0]\n",
    "                    else:\n",
    "                        # If denominators are not equal, keep the original expression\n",
    "                        ff_AL_factored = ff_AL_factored\n",
    "            else:\n",
    "                # If ff_AL_factored is not an Add, just use the original expression\n",
    "                ff_AL_factored = ff_AL_factored\n",
    "\n",
    "            factored_formfactors[ff_name] = ff_AL_factored\n",
    "        elif ff_name == 'AR':\n",
    "            ff_AR_PV_functions = ff_expr.atoms(Function)\n",
    "            ff_AR_factored = ff_expr.expand().collect(ff_AR_PV_functions, simplify)\n",
    "            # factor a common factor if possible\n",
    "            if isinstance(ff_AR_factored, Add):\n",
    "                terms = ff_AR_factored.as_ordered_terms()\n",
    "                if len(terms) > 1:\n",
    "                    numerators = []\n",
    "                    denominators = []\n",
    "                    for term in terms:\n",
    "                        if isinstance(term, Mul):\n",
    "                            numerator, denominator = fraction(term)\n",
    "                            numerators.append(numerator)\n",
    "                            denominators.append(denominator)\n",
    "                    # All denominators are equal?\n",
    "                    cond = True\n",
    "                    for i in range(1, len(denominators)):\n",
    "                        if denominators[i] != denominators[0]:\n",
    "                            cond = False\n",
    "                        else:\n",
    "                            pass\n",
    "                    if cond:\n",
    "                        total_numerator = Add(*numerators).expand().collect(ff_AR_PV_functions, factor)\n",
    "                        ff_AR_factored = total_numerator / denominators[0]\n",
    "                    else:\n",
    "                        # If denominators are not equal, keep the original expression\n",
    "                        ff_AR_factored = ff_AR_factored\n",
    "            factored_formfactors[ff_name] = ff_AR_factored\n",
    "\n",
    "        else:\n",
    "            # For other form factors, just use the original expression\n",
    "            factored_formfactors[ff_name] = ff_expr\n",
    "    symbolic_formfactor_factored[diagram] = factored_formfactors\n"
   ]
  },
  {
   "cell_type": "markdown",
   "id": "f7798c46",
   "metadata": {},
   "source": [
    "\\subsubsection{Diagram niGL}\n",
    "\n",
    "\\begin{align}\n",
    "A_{L}(\\text{ni\\_GL})&=\t\\frac{\\sqrt{2}im_{l_{a}}m_{l_{b}}^{2}m_{n_{i}}\\left(Q_{Lai}T_{RLib}+\\overline{Q_{Lbi}}\\overline{T_{RLia}}\\right)B_{0}^{\\left(1\\right)}(m_{l_{a}},m_{n_{i}},m_{W_{1}})}{8\\pi^{2}k_{1}^{3}\\left(m_{l_{a}}^{2}-m_{l_{b}}^{2}\\right)}+\\frac{\\sqrt{2}im_{l_{a}}m_{l_{b}}^{2}\\left(-Q_{Lai}\\overline{Q_{Lbi}}m_{l_{a}}^{2}-T_{RLib}\\overline{T_{RLia}}\\right)B_{1}^{\\left(1\\right)}(m_{l_{a}},m_{n_{i}},m_{W_{1}})}{8\\pi^{2}k_{1}^{3}\\left(m_{l_{a}}^{2}-m_{l_{b}}^{2}\\right)}\\\\\n",
    "A_{R}(\\text{ni\\_GL})&=\t\\frac{\\sqrt{2}im_{l_{a}}^{2}m_{l_{b}}\\left(-Q_{Lai}\\overline{Q_{Lbi}}m_{l_{b}}^{2}-T_{RLib}\\overline{T_{RLia}}\\right)B_{1}^{\\left(1\\right)}(m_{l_{a}},m_{n_{i}},m_{W_{1}})}{8\\pi^{2}k_{1}^{3}\\left(m_{l_{a}}^{2}-m_{l_{b}}^{2}\\right)}+\\frac{\\sqrt{2}im_{l_{b}}m_{n_{i}}\\left(Q_{Lai}T_{RLib}m_{l_{a}}^{2}+\\overline{Q_{Lbi}}\\overline{T_{RLia}}m_{l_{b}}^{2}\\right)B_{0}^{\\left(1\\right)}(m_{l_{a}},m_{n_{i}},m_{W_{1}})}{8\\pi^{2}k_{1}^{3}\\left(m_{l_{a}}^{2}-m_{l_{b}}^{2}\\right)}\n",
    "\\end{align}"
   ]
  },
  {
   "cell_type": "code",
   "execution_count": 159,
   "id": "8869533d",
   "metadata": {},
   "outputs": [],
   "source": [
    "two_neutrinos_diagrams = [\n",
    "    'GL_ninj',\n",
    "    'GR_ninj',\n",
    "    'HR_ninj',\n",
    "    'W1_ninj',\n",
    "    'W2_ninj'\n",
    "]"
   ]
  },
  {
   "cell_type": "code",
   "execution_count": 165,
   "id": "f427a547",
   "metadata": {},
   "outputs": [
    {
     "name": "stdout",
     "output_type": "stream",
     "text": [
      "GL_ninj\n"
     ]
    },
    {
     "data": {
      "text/latex": [
       "$\\displaystyle - \\frac{\\sqrt{2} i m_{l_a} \\left(- 2 Q_{Lai} T_{RLjb} \\Omega_{RLij} \\rho_{1} m_{n_i} m_{n_j} C_0(m_{H_1^0}, m_{l_a}, m_{l_b}, m_{W_1}, m_{n_i}, m_{n_j}) + Q_{Lai} T_{RLjb} \\Omega_{SRij} \\alpha_{13} \\epsilon^{2} m_{W_1}^{2} C_0(m_{H_1^0}, m_{l_a}, m_{l_b}, m_{W_1}, m_{n_i}, m_{n_j}) - Q_{Lai} T_{RLjb} \\Omega_{SRij} \\alpha_{13} \\epsilon^{2} m_{l_a}^{2} C_1(m_{H_1^0}, m_{l_a}, m_{l_b}, m_{W_1}, m_{n_i}, m_{n_j}) + Q_{Lai} T_{RLjb} \\Omega_{SRij} \\alpha_{13} \\epsilon^{2} m_{l_b}^{2} C_2(m_{H_1^0}, m_{l_a}, m_{l_b}, m_{W_1}, m_{n_i}, m_{n_j}) + Q_{Lai} T_{RLjb} \\Omega_{SRij} \\alpha_{13} \\epsilon^{2} B^{\\left(12\\right)}_0(m_{H_1^0}, m_{n_i}, m_{n_j}) + Q_{Lai} T_{RLjb} \\alpha_{13} \\overline{\\Omega_{SRij}} \\epsilon^{2} m_{n_i} m_{n_j} C_0(m_{H_1^0}, m_{l_a}, m_{l_b}, m_{W_1}, m_{n_i}, m_{n_j}) - 2 Q_{Lai} T_{RLjb} \\overline{\\Omega_{RLij}} \\rho_{1} m_{W_1}^{2} C_0(m_{H_1^0}, m_{l_a}, m_{l_b}, m_{W_1}, m_{n_i}, m_{n_j}) + 2 Q_{Lai} T_{RLjb} \\overline{\\Omega_{RLij}} \\rho_{1} m_{l_a}^{2} C_1(m_{H_1^0}, m_{l_a}, m_{l_b}, m_{W_1}, m_{n_i}, m_{n_j}) - 2 Q_{Lai} T_{RLjb} \\overline{\\Omega_{RLij}} \\rho_{1} m_{l_b}^{2} C_2(m_{H_1^0}, m_{l_a}, m_{l_b}, m_{W_1}, m_{n_i}, m_{n_j}) - 2 Q_{Lai} T_{RLjb} \\overline{\\Omega_{RLij}} \\rho_{1} B^{\\left(12\\right)}_0(m_{H_1^0}, m_{n_i}, m_{n_j}) + 2 Q_{Lai} \\Omega_{RLij} \\overline{Q_{Lbj}} \\rho_{1} m_{l_b}^{2} m_{n_i} C_0(m_{H_1^0}, m_{l_a}, m_{l_b}, m_{W_1}, m_{n_i}, m_{n_j}) + 2 Q_{Lai} \\Omega_{RLij} \\overline{Q_{Lbj}} \\rho_{1} m_{l_b}^{2} m_{n_i} C_2(m_{H_1^0}, m_{l_a}, m_{l_b}, m_{W_1}, m_{n_i}, m_{n_j}) - Q_{Lai} \\Omega_{SRij} \\alpha_{13} \\overline{Q_{Lbj}} \\epsilon^{2} m_{l_b}^{2} m_{n_j} C_2(m_{H_1^0}, m_{l_a}, m_{l_b}, m_{W_1}, m_{n_i}, m_{n_j}) - Q_{Lai} \\alpha_{13} \\overline{Q_{Lbj}} \\overline{\\Omega_{SRij}} \\epsilon^{2} m_{l_b}^{2} m_{n_i} C_0(m_{H_1^0}, m_{l_a}, m_{l_b}, m_{W_1}, m_{n_i}, m_{n_j}) - Q_{Lai} \\alpha_{13} \\overline{Q_{Lbj}} \\overline{\\Omega_{SRij}} \\epsilon^{2} m_{l_b}^{2} m_{n_i} C_2(m_{H_1^0}, m_{l_a}, m_{l_b}, m_{W_1}, m_{n_i}, m_{n_j}) + 2 Q_{Lai} \\overline{Q_{Lbj}} \\overline{\\Omega_{RLij}} \\rho_{1} m_{l_b}^{2} m_{n_j} C_2(m_{H_1^0}, m_{l_a}, m_{l_b}, m_{W_1}, m_{n_i}, m_{n_j}) + 2 T_{RLjb} \\Omega_{RLij} \\overline{T_{RLia}} \\rho_{1} m_{n_j} C_0(m_{H_1^0}, m_{l_a}, m_{l_b}, m_{W_1}, m_{n_i}, m_{n_j}) - 2 T_{RLjb} \\Omega_{RLij} \\overline{T_{RLia}} \\rho_{1} m_{n_j} C_1(m_{H_1^0}, m_{l_a}, m_{l_b}, m_{W_1}, m_{n_i}, m_{n_j}) + T_{RLjb} \\Omega_{SRij} \\alpha_{13} \\overline{T_{RLia}} \\epsilon^{2} m_{n_i} C_1(m_{H_1^0}, m_{l_a}, m_{l_b}, m_{W_1}, m_{n_i}, m_{n_j}) - T_{RLjb} \\alpha_{13} \\overline{T_{RLia}} \\overline{\\Omega_{SRij}} \\epsilon^{2} m_{n_j} C_0(m_{H_1^0}, m_{l_a}, m_{l_b}, m_{W_1}, m_{n_i}, m_{n_j}) + T_{RLjb} \\alpha_{13} \\overline{T_{RLia}} \\overline{\\Omega_{SRij}} \\epsilon^{2} m_{n_j} C_1(m_{H_1^0}, m_{l_a}, m_{l_b}, m_{W_1}, m_{n_i}, m_{n_j}) - 2 T_{RLjb} \\overline{T_{RLia}} \\overline{\\Omega_{RLij}} \\rho_{1} m_{n_i} C_1(m_{H_1^0}, m_{l_a}, m_{l_b}, m_{W_1}, m_{n_i}, m_{n_j}) - 2 \\Omega_{RLij} \\overline{Q_{Lbj}} \\overline{T_{RLia}} \\rho_{1} m_{l_b}^{2} C_0(m_{H_1^0}, m_{l_a}, m_{l_b}, m_{W_1}, m_{n_i}, m_{n_j}) + 2 \\Omega_{RLij} \\overline{Q_{Lbj}} \\overline{T_{RLia}} \\rho_{1} m_{l_b}^{2} C_1(m_{H_1^0}, m_{l_a}, m_{l_b}, m_{W_1}, m_{n_i}, m_{n_j}) - 2 \\Omega_{RLij} \\overline{Q_{Lbj}} \\overline{T_{RLia}} \\rho_{1} m_{l_b}^{2} C_2(m_{H_1^0}, m_{l_a}, m_{l_b}, m_{W_1}, m_{n_i}, m_{n_j}) + \\alpha_{13} \\overline{Q_{Lbj}} \\overline{T_{RLia}} \\overline{\\Omega_{SRij}} \\epsilon^{2} m_{l_b}^{2} C_0(m_{H_1^0}, m_{l_a}, m_{l_b}, m_{W_1}, m_{n_i}, m_{n_j}) - \\alpha_{13} \\overline{Q_{Lbj}} \\overline{T_{RLia}} \\overline{\\Omega_{SRij}} \\epsilon^{2} m_{l_b}^{2} C_1(m_{H_1^0}, m_{l_a}, m_{l_b}, m_{W_1}, m_{n_i}, m_{n_j}) + \\alpha_{13} \\overline{Q_{Lbj}} \\overline{T_{RLia}} \\overline{\\Omega_{SRij}} \\epsilon^{2} m_{l_b}^{2} C_2(m_{H_1^0}, m_{l_a}, m_{l_b}, m_{W_1}, m_{n_i}, m_{n_j})\\right)}{32 \\pi^{2} \\rho_{1} k_{1}^{3}}$"
      ],
      "text/plain": [
       "-sqrt(2)*I*m_{l_a}*(-2*Q_{Lai}*T_{RLjb}*\\Omega_{RLij}*\\rho_1*m_{n_i}*m_{n_j}*C0(m_{H_1^0}, m_{l_a}, m_{l_b}, m_{W_1}, m_{n_i}, m_{n_j}) + Q_{Lai}*T_{RLjb}*\\Omega_{SRij}*\\alpha_{13}*epsilon**2*m_{W_1}**2*C0(m_{H_1^0}, m_{l_a}, m_{l_b}, m_{W_1}, m_{n_i}, m_{n_j}) - Q_{Lai}*T_{RLjb}*\\Omega_{SRij}*\\alpha_{13}*epsilon**2*m_{l_a}**2*C1(m_{H_1^0}, m_{l_a}, m_{l_b}, m_{W_1}, m_{n_i}, m_{n_j}) + Q_{Lai}*T_{RLjb}*\\Omega_{SRij}*\\alpha_{13}*epsilon**2*m_{l_b}**2*C2(m_{H_1^0}, m_{l_a}, m_{l_b}, m_{W_1}, m_{n_i}, m_{n_j}) + Q_{Lai}*T_{RLjb}*\\Omega_{SRij}*\\alpha_{13}*epsilon**2*B12_0(m_{H_1^0}, m_{n_i}, m_{n_j}) + Q_{Lai}*T_{RLjb}*\\alpha_{13}*\\overline{\\Omega_{SRij}}*epsilon**2*m_{n_i}*m_{n_j}*C0(m_{H_1^0}, m_{l_a}, m_{l_b}, m_{W_1}, m_{n_i}, m_{n_j}) - 2*Q_{Lai}*T_{RLjb}*\\overline{\\Omega_{RLij}}*\\rho_1*m_{W_1}**2*C0(m_{H_1^0}, m_{l_a}, m_{l_b}, m_{W_1}, m_{n_i}, m_{n_j}) + 2*Q_{Lai}*T_{RLjb}*\\overline{\\Omega_{RLij}}*\\rho_1*m_{l_a}**2*C1(m_{H_1^0}, m_{l_a}, m_{l_b}, m_{W_1}, m_{n_i}, m_{n_j}) - 2*Q_{Lai}*T_{RLjb}*\\overline{\\Omega_{RLij}}*\\rho_1*m_{l_b}**2*C2(m_{H_1^0}, m_{l_a}, m_{l_b}, m_{W_1}, m_{n_i}, m_{n_j}) - 2*Q_{Lai}*T_{RLjb}*\\overline{\\Omega_{RLij}}*\\rho_1*B12_0(m_{H_1^0}, m_{n_i}, m_{n_j}) + 2*Q_{Lai}*\\Omega_{RLij}*\\overline{Q_{Lbj}}*\\rho_1*m_{l_b}**2*m_{n_i}*C0(m_{H_1^0}, m_{l_a}, m_{l_b}, m_{W_1}, m_{n_i}, m_{n_j}) + 2*Q_{Lai}*\\Omega_{RLij}*\\overline{Q_{Lbj}}*\\rho_1*m_{l_b}**2*m_{n_i}*C2(m_{H_1^0}, m_{l_a}, m_{l_b}, m_{W_1}, m_{n_i}, m_{n_j}) - Q_{Lai}*\\Omega_{SRij}*\\alpha_{13}*\\overline{Q_{Lbj}}*epsilon**2*m_{l_b}**2*m_{n_j}*C2(m_{H_1^0}, m_{l_a}, m_{l_b}, m_{W_1}, m_{n_i}, m_{n_j}) - Q_{Lai}*\\alpha_{13}*\\overline{Q_{Lbj}}*\\overline{\\Omega_{SRij}}*epsilon**2*m_{l_b}**2*m_{n_i}*C0(m_{H_1^0}, m_{l_a}, m_{l_b}, m_{W_1}, m_{n_i}, m_{n_j}) - Q_{Lai}*\\alpha_{13}*\\overline{Q_{Lbj}}*\\overline{\\Omega_{SRij}}*epsilon**2*m_{l_b}**2*m_{n_i}*C2(m_{H_1^0}, m_{l_a}, m_{l_b}, m_{W_1}, m_{n_i}, m_{n_j}) + 2*Q_{Lai}*\\overline{Q_{Lbj}}*\\overline{\\Omega_{RLij}}*\\rho_1*m_{l_b}**2*m_{n_j}*C2(m_{H_1^0}, m_{l_a}, m_{l_b}, m_{W_1}, m_{n_i}, m_{n_j}) + 2*T_{RLjb}*\\Omega_{RLij}*\\overline{T_{RLia}}*\\rho_1*m_{n_j}*C0(m_{H_1^0}, m_{l_a}, m_{l_b}, m_{W_1}, m_{n_i}, m_{n_j}) - 2*T_{RLjb}*\\Omega_{RLij}*\\overline{T_{RLia}}*\\rho_1*m_{n_j}*C1(m_{H_1^0}, m_{l_a}, m_{l_b}, m_{W_1}, m_{n_i}, m_{n_j}) + T_{RLjb}*\\Omega_{SRij}*\\alpha_{13}*\\overline{T_{RLia}}*epsilon**2*m_{n_i}*C1(m_{H_1^0}, m_{l_a}, m_{l_b}, m_{W_1}, m_{n_i}, m_{n_j}) - T_{RLjb}*\\alpha_{13}*\\overline{T_{RLia}}*\\overline{\\Omega_{SRij}}*epsilon**2*m_{n_j}*C0(m_{H_1^0}, m_{l_a}, m_{l_b}, m_{W_1}, m_{n_i}, m_{n_j}) + T_{RLjb}*\\alpha_{13}*\\overline{T_{RLia}}*\\overline{\\Omega_{SRij}}*epsilon**2*m_{n_j}*C1(m_{H_1^0}, m_{l_a}, m_{l_b}, m_{W_1}, m_{n_i}, m_{n_j}) - 2*T_{RLjb}*\\overline{T_{RLia}}*\\overline{\\Omega_{RLij}}*\\rho_1*m_{n_i}*C1(m_{H_1^0}, m_{l_a}, m_{l_b}, m_{W_1}, m_{n_i}, m_{n_j}) - 2*\\Omega_{RLij}*\\overline{Q_{Lbj}}*\\overline{T_{RLia}}*\\rho_1*m_{l_b}**2*C0(m_{H_1^0}, m_{l_a}, m_{l_b}, m_{W_1}, m_{n_i}, m_{n_j}) + 2*\\Omega_{RLij}*\\overline{Q_{Lbj}}*\\overline{T_{RLia}}*\\rho_1*m_{l_b}**2*C1(m_{H_1^0}, m_{l_a}, m_{l_b}, m_{W_1}, m_{n_i}, m_{n_j}) - 2*\\Omega_{RLij}*\\overline{Q_{Lbj}}*\\overline{T_{RLia}}*\\rho_1*m_{l_b}**2*C2(m_{H_1^0}, m_{l_a}, m_{l_b}, m_{W_1}, m_{n_i}, m_{n_j}) + \\alpha_{13}*\\overline{Q_{Lbj}}*\\overline{T_{RLia}}*\\overline{\\Omega_{SRij}}*epsilon**2*m_{l_b}**2*C0(m_{H_1^0}, m_{l_a}, m_{l_b}, m_{W_1}, m_{n_i}, m_{n_j}) - \\alpha_{13}*\\overline{Q_{Lbj}}*\\overline{T_{RLia}}*\\overline{\\Omega_{SRij}}*epsilon**2*m_{l_b}**2*C1(m_{H_1^0}, m_{l_a}, m_{l_b}, m_{W_1}, m_{n_i}, m_{n_j}) + \\alpha_{13}*\\overline{Q_{Lbj}}*\\overline{T_{RLia}}*\\overline{\\Omega_{SRij}}*epsilon**2*m_{l_b}**2*C2(m_{H_1^0}, m_{l_a}, m_{l_b}, m_{W_1}, m_{n_i}, m_{n_j}))/(32*pi**2*\\rho_1*k_1**3)"
      ]
     },
     "metadata": {},
     "output_type": "display_data"
    },
    {
     "name": "stdout",
     "output_type": "stream",
     "text": [
      "GR_ninj\n"
     ]
    },
    {
     "data": {
      "text/latex": [
       "$\\displaystyle - \\frac{\\sqrt{2} i m_{l_b} \\left(2 J_{ai} \\Omega_{RLij} \\overline{J_{bj}} \\rho_{1} m_{n_i} C_0(m_{H_1^0}, m_{l_a}, m_{l_b}, m_{W_2}, m_{n_i}, m_{n_j}) + 2 J_{ai} \\Omega_{RLij} \\overline{J_{bj}} \\rho_{1} m_{n_i} C_2(m_{H_1^0}, m_{l_a}, m_{l_b}, m_{W_2}, m_{n_i}, m_{n_j}) - 2 J_{ai} \\Omega_{RLij} \\overline{Q_{Rbj}} \\rho_{1} m_{n_i} m_{n_j} C_0(m_{H_1^0}, m_{l_a}, m_{l_b}, m_{W_2}, m_{n_i}, m_{n_j}) - J_{ai} \\Omega_{SRij} \\alpha_{13} \\overline{J_{bj}} \\epsilon^{2} m_{n_j} C_2(m_{H_1^0}, m_{l_a}, m_{l_b}, m_{W_2}, m_{n_i}, m_{n_j}) + J_{ai} \\Omega_{SRij} \\alpha_{13} \\overline{Q_{Rbj}} \\epsilon^{2} m_{W_2}^{2} C_0(m_{H_1^0}, m_{l_a}, m_{l_b}, m_{W_2}, m_{n_i}, m_{n_j}) - J_{ai} \\Omega_{SRij} \\alpha_{13} \\overline{Q_{Rbj}} \\epsilon^{2} m_{l_a}^{2} C_1(m_{H_1^0}, m_{l_a}, m_{l_b}, m_{W_2}, m_{n_i}, m_{n_j}) + J_{ai} \\Omega_{SRij} \\alpha_{13} \\overline{Q_{Rbj}} \\epsilon^{2} m_{l_b}^{2} C_2(m_{H_1^0}, m_{l_a}, m_{l_b}, m_{W_2}, m_{n_i}, m_{n_j}) + J_{ai} \\Omega_{SRij} \\alpha_{13} \\overline{Q_{Rbj}} \\epsilon^{2} B^{\\left(12\\right)}_0(m_{H_1^0}, m_{n_i}, m_{n_j}) - J_{ai} \\alpha_{13} \\overline{J_{bj}} \\overline{\\Omega_{SRij}} \\epsilon^{2} m_{n_i} C_0(m_{H_1^0}, m_{l_a}, m_{l_b}, m_{W_2}, m_{n_i}, m_{n_j}) - J_{ai} \\alpha_{13} \\overline{J_{bj}} \\overline{\\Omega_{SRij}} \\epsilon^{2} m_{n_i} C_2(m_{H_1^0}, m_{l_a}, m_{l_b}, m_{W_2}, m_{n_i}, m_{n_j}) + J_{ai} \\alpha_{13} \\overline{Q_{Rbj}} \\overline{\\Omega_{SRij}} \\epsilon^{2} m_{n_i} m_{n_j} C_0(m_{H_1^0}, m_{l_a}, m_{l_b}, m_{W_2}, m_{n_i}, m_{n_j}) + 2 J_{ai} \\overline{J_{bj}} \\overline{\\Omega_{RLij}} \\rho_{1} m_{n_j} C_2(m_{H_1^0}, m_{l_a}, m_{l_b}, m_{W_2}, m_{n_i}, m_{n_j}) - 2 J_{ai} \\overline{Q_{Rbj}} \\overline{\\Omega_{RLij}} \\rho_{1} m_{W_2}^{2} C_0(m_{H_1^0}, m_{l_a}, m_{l_b}, m_{W_2}, m_{n_i}, m_{n_j}) + 2 J_{ai} \\overline{Q_{Rbj}} \\overline{\\Omega_{RLij}} \\rho_{1} m_{l_a}^{2} C_1(m_{H_1^0}, m_{l_a}, m_{l_b}, m_{W_2}, m_{n_i}, m_{n_j}) - 2 J_{ai} \\overline{Q_{Rbj}} \\overline{\\Omega_{RLij}} \\rho_{1} m_{l_b}^{2} C_2(m_{H_1^0}, m_{l_a}, m_{l_b}, m_{W_2}, m_{n_i}, m_{n_j}) - 2 J_{ai} \\overline{Q_{Rbj}} \\overline{\\Omega_{RLij}} \\rho_{1} B^{\\left(12\\right)}_0(m_{H_1^0}, m_{n_i}, m_{n_j}) - 2 Q_{Rai} \\Omega_{RLij} \\overline{J_{bj}} \\rho_{1} m_{l_a}^{2} C_0(m_{H_1^0}, m_{l_a}, m_{l_b}, m_{W_2}, m_{n_i}, m_{n_j}) + 2 Q_{Rai} \\Omega_{RLij} \\overline{J_{bj}} \\rho_{1} m_{l_a}^{2} C_1(m_{H_1^0}, m_{l_a}, m_{l_b}, m_{W_2}, m_{n_i}, m_{n_j}) - 2 Q_{Rai} \\Omega_{RLij} \\overline{J_{bj}} \\rho_{1} m_{l_a}^{2} C_2(m_{H_1^0}, m_{l_a}, m_{l_b}, m_{W_2}, m_{n_i}, m_{n_j}) + 2 Q_{Rai} \\Omega_{RLij} \\overline{Q_{Rbj}} \\rho_{1} m_{l_a}^{2} m_{n_j} C_0(m_{H_1^0}, m_{l_a}, m_{l_b}, m_{W_2}, m_{n_i}, m_{n_j}) - 2 Q_{Rai} \\Omega_{RLij} \\overline{Q_{Rbj}} \\rho_{1} m_{l_a}^{2} m_{n_j} C_1(m_{H_1^0}, m_{l_a}, m_{l_b}, m_{W_2}, m_{n_i}, m_{n_j}) + Q_{Rai} \\Omega_{SRij} \\alpha_{13} \\overline{Q_{Rbj}} \\epsilon^{2} m_{l_a}^{2} m_{n_i} C_1(m_{H_1^0}, m_{l_a}, m_{l_b}, m_{W_2}, m_{n_i}, m_{n_j}) + Q_{Rai} \\alpha_{13} \\overline{J_{bj}} \\overline{\\Omega_{SRij}} \\epsilon^{2} m_{l_a}^{2} C_0(m_{H_1^0}, m_{l_a}, m_{l_b}, m_{W_2}, m_{n_i}, m_{n_j}) - Q_{Rai} \\alpha_{13} \\overline{J_{bj}} \\overline{\\Omega_{SRij}} \\epsilon^{2} m_{l_a}^{2} C_1(m_{H_1^0}, m_{l_a}, m_{l_b}, m_{W_2}, m_{n_i}, m_{n_j}) + Q_{Rai} \\alpha_{13} \\overline{J_{bj}} \\overline{\\Omega_{SRij}} \\epsilon^{2} m_{l_a}^{2} C_2(m_{H_1^0}, m_{l_a}, m_{l_b}, m_{W_2}, m_{n_i}, m_{n_j}) - Q_{Rai} \\alpha_{13} \\overline{Q_{Rbj}} \\overline{\\Omega_{SRij}} \\epsilon^{2} m_{l_a}^{2} m_{n_j} C_0(m_{H_1^0}, m_{l_a}, m_{l_b}, m_{W_2}, m_{n_i}, m_{n_j}) + Q_{Rai} \\alpha_{13} \\overline{Q_{Rbj}} \\overline{\\Omega_{SRij}} \\epsilon^{2} m_{l_a}^{2} m_{n_j} C_1(m_{H_1^0}, m_{l_a}, m_{l_b}, m_{W_2}, m_{n_i}, m_{n_j}) - 2 Q_{Rai} \\overline{Q_{Rbj}} \\overline{\\Omega_{RLij}} \\rho_{1} m_{l_a}^{2} m_{n_i} C_1(m_{H_1^0}, m_{l_a}, m_{l_b}, m_{W_2}, m_{n_i}, m_{n_j})\\right)}{32 \\pi^{2} \\rho_{1} k_{1} v_{R}^{2}}$"
      ],
      "text/plain": [
       "-sqrt(2)*I*m_{l_b}*(2*J_{ai}*\\Omega_{RLij}*\\overline{J_{bj}}*\\rho_1*m_{n_i}*C0(m_{H_1^0}, m_{l_a}, m_{l_b}, m_{W_2}, m_{n_i}, m_{n_j}) + 2*J_{ai}*\\Omega_{RLij}*\\overline{J_{bj}}*\\rho_1*m_{n_i}*C2(m_{H_1^0}, m_{l_a}, m_{l_b}, m_{W_2}, m_{n_i}, m_{n_j}) - 2*J_{ai}*\\Omega_{RLij}*\\overline{Q_{Rbj}}*\\rho_1*m_{n_i}*m_{n_j}*C0(m_{H_1^0}, m_{l_a}, m_{l_b}, m_{W_2}, m_{n_i}, m_{n_j}) - J_{ai}*\\Omega_{SRij}*\\alpha_{13}*\\overline{J_{bj}}*epsilon**2*m_{n_j}*C2(m_{H_1^0}, m_{l_a}, m_{l_b}, m_{W_2}, m_{n_i}, m_{n_j}) + J_{ai}*\\Omega_{SRij}*\\alpha_{13}*\\overline{Q_{Rbj}}*epsilon**2*m_{W_2}**2*C0(m_{H_1^0}, m_{l_a}, m_{l_b}, m_{W_2}, m_{n_i}, m_{n_j}) - J_{ai}*\\Omega_{SRij}*\\alpha_{13}*\\overline{Q_{Rbj}}*epsilon**2*m_{l_a}**2*C1(m_{H_1^0}, m_{l_a}, m_{l_b}, m_{W_2}, m_{n_i}, m_{n_j}) + J_{ai}*\\Omega_{SRij}*\\alpha_{13}*\\overline{Q_{Rbj}}*epsilon**2*m_{l_b}**2*C2(m_{H_1^0}, m_{l_a}, m_{l_b}, m_{W_2}, m_{n_i}, m_{n_j}) + J_{ai}*\\Omega_{SRij}*\\alpha_{13}*\\overline{Q_{Rbj}}*epsilon**2*B12_0(m_{H_1^0}, m_{n_i}, m_{n_j}) - J_{ai}*\\alpha_{13}*\\overline{J_{bj}}*\\overline{\\Omega_{SRij}}*epsilon**2*m_{n_i}*C0(m_{H_1^0}, m_{l_a}, m_{l_b}, m_{W_2}, m_{n_i}, m_{n_j}) - J_{ai}*\\alpha_{13}*\\overline{J_{bj}}*\\overline{\\Omega_{SRij}}*epsilon**2*m_{n_i}*C2(m_{H_1^0}, m_{l_a}, m_{l_b}, m_{W_2}, m_{n_i}, m_{n_j}) + J_{ai}*\\alpha_{13}*\\overline{Q_{Rbj}}*\\overline{\\Omega_{SRij}}*epsilon**2*m_{n_i}*m_{n_j}*C0(m_{H_1^0}, m_{l_a}, m_{l_b}, m_{W_2}, m_{n_i}, m_{n_j}) + 2*J_{ai}*\\overline{J_{bj}}*\\overline{\\Omega_{RLij}}*\\rho_1*m_{n_j}*C2(m_{H_1^0}, m_{l_a}, m_{l_b}, m_{W_2}, m_{n_i}, m_{n_j}) - 2*J_{ai}*\\overline{Q_{Rbj}}*\\overline{\\Omega_{RLij}}*\\rho_1*m_{W_2}**2*C0(m_{H_1^0}, m_{l_a}, m_{l_b}, m_{W_2}, m_{n_i}, m_{n_j}) + 2*J_{ai}*\\overline{Q_{Rbj}}*\\overline{\\Omega_{RLij}}*\\rho_1*m_{l_a}**2*C1(m_{H_1^0}, m_{l_a}, m_{l_b}, m_{W_2}, m_{n_i}, m_{n_j}) - 2*J_{ai}*\\overline{Q_{Rbj}}*\\overline{\\Omega_{RLij}}*\\rho_1*m_{l_b}**2*C2(m_{H_1^0}, m_{l_a}, m_{l_b}, m_{W_2}, m_{n_i}, m_{n_j}) - 2*J_{ai}*\\overline{Q_{Rbj}}*\\overline{\\Omega_{RLij}}*\\rho_1*B12_0(m_{H_1^0}, m_{n_i}, m_{n_j}) - 2*Q_{Rai}*\\Omega_{RLij}*\\overline{J_{bj}}*\\rho_1*m_{l_a}**2*C0(m_{H_1^0}, m_{l_a}, m_{l_b}, m_{W_2}, m_{n_i}, m_{n_j}) + 2*Q_{Rai}*\\Omega_{RLij}*\\overline{J_{bj}}*\\rho_1*m_{l_a}**2*C1(m_{H_1^0}, m_{l_a}, m_{l_b}, m_{W_2}, m_{n_i}, m_{n_j}) - 2*Q_{Rai}*\\Omega_{RLij}*\\overline{J_{bj}}*\\rho_1*m_{l_a}**2*C2(m_{H_1^0}, m_{l_a}, m_{l_b}, m_{W_2}, m_{n_i}, m_{n_j}) + 2*Q_{Rai}*\\Omega_{RLij}*\\overline{Q_{Rbj}}*\\rho_1*m_{l_a}**2*m_{n_j}*C0(m_{H_1^0}, m_{l_a}, m_{l_b}, m_{W_2}, m_{n_i}, m_{n_j}) - 2*Q_{Rai}*\\Omega_{RLij}*\\overline{Q_{Rbj}}*\\rho_1*m_{l_a}**2*m_{n_j}*C1(m_{H_1^0}, m_{l_a}, m_{l_b}, m_{W_2}, m_{n_i}, m_{n_j}) + Q_{Rai}*\\Omega_{SRij}*\\alpha_{13}*\\overline{Q_{Rbj}}*epsilon**2*m_{l_a}**2*m_{n_i}*C1(m_{H_1^0}, m_{l_a}, m_{l_b}, m_{W_2}, m_{n_i}, m_{n_j}) + Q_{Rai}*\\alpha_{13}*\\overline{J_{bj}}*\\overline{\\Omega_{SRij}}*epsilon**2*m_{l_a}**2*C0(m_{H_1^0}, m_{l_a}, m_{l_b}, m_{W_2}, m_{n_i}, m_{n_j}) - Q_{Rai}*\\alpha_{13}*\\overline{J_{bj}}*\\overline{\\Omega_{SRij}}*epsilon**2*m_{l_a}**2*C1(m_{H_1^0}, m_{l_a}, m_{l_b}, m_{W_2}, m_{n_i}, m_{n_j}) + Q_{Rai}*\\alpha_{13}*\\overline{J_{bj}}*\\overline{\\Omega_{SRij}}*epsilon**2*m_{l_a}**2*C2(m_{H_1^0}, m_{l_a}, m_{l_b}, m_{W_2}, m_{n_i}, m_{n_j}) - Q_{Rai}*\\alpha_{13}*\\overline{Q_{Rbj}}*\\overline{\\Omega_{SRij}}*epsilon**2*m_{l_a}**2*m_{n_j}*C0(m_{H_1^0}, m_{l_a}, m_{l_b}, m_{W_2}, m_{n_i}, m_{n_j}) + Q_{Rai}*\\alpha_{13}*\\overline{Q_{Rbj}}*\\overline{\\Omega_{SRij}}*epsilon**2*m_{l_a}**2*m_{n_j}*C1(m_{H_1^0}, m_{l_a}, m_{l_b}, m_{W_2}, m_{n_i}, m_{n_j}) - 2*Q_{Rai}*\\overline{Q_{Rbj}}*\\overline{\\Omega_{RLij}}*\\rho_1*m_{l_a}**2*m_{n_i}*C1(m_{H_1^0}, m_{l_a}, m_{l_b}, m_{W_2}, m_{n_i}, m_{n_j}))/(32*pi**2*\\rho_1*k_1*v_R**2)"
      ]
     },
     "metadata": {},
     "output_type": "display_data"
    },
    {
     "name": "stdout",
     "output_type": "stream",
     "text": [
      "HR_ninj\n"
     ]
    },
    {
     "data": {
      "text/latex": [
       "$\\displaystyle - \\frac{\\sqrt{2} i m_{l_b} \\left(2 K_{ai} \\Omega_{RLij} \\overline{K_{bj}} \\rho_{1} m_{n_i} C_0(m_{H_1^0}, m_{l_a}, m_{l_b}, m_{H_R^+}, m_{n_i}, m_{n_j}) + 2 K_{ai} \\Omega_{RLij} \\overline{K_{bj}} \\rho_{1} m_{n_i} C_2(m_{H_1^0}, m_{l_a}, m_{l_b}, m_{H_R^+}, m_{n_i}, m_{n_j}) - 2 K_{ai} \\Omega_{RLij} \\overline{Q_{Rbj}} \\rho_{1} m_{n_i} m_{n_j} C_0(m_{H_1^0}, m_{l_a}, m_{l_b}, m_{H_R^+}, m_{n_i}, m_{n_j}) - K_{ai} \\Omega_{SRij} \\alpha_{13} \\overline{K_{bj}} \\epsilon^{2} m_{n_j} C_2(m_{H_1^0}, m_{l_a}, m_{l_b}, m_{H_R^+}, m_{n_i}, m_{n_j}) + K_{ai} \\Omega_{SRij} \\alpha_{13} \\overline{Q_{Rbj}} \\epsilon^{2} \\left(m_{H_R^+}\\right)^{2} C_0(m_{H_1^0}, m_{l_a}, m_{l_b}, m_{H_R^+}, m_{n_i}, m_{n_j}) - K_{ai} \\Omega_{SRij} \\alpha_{13} \\overline{Q_{Rbj}} \\epsilon^{2} m_{l_a}^{2} C_1(m_{H_1^0}, m_{l_a}, m_{l_b}, m_{H_R^+}, m_{n_i}, m_{n_j}) + K_{ai} \\Omega_{SRij} \\alpha_{13} \\overline{Q_{Rbj}} \\epsilon^{2} m_{l_b}^{2} C_2(m_{H_1^0}, m_{l_a}, m_{l_b}, m_{H_R^+}, m_{n_i}, m_{n_j}) + K_{ai} \\Omega_{SRij} \\alpha_{13} \\overline{Q_{Rbj}} \\epsilon^{2} B^{\\left(12\\right)}_0(m_{H_1^0}, m_{n_i}, m_{n_j}) - K_{ai} \\alpha_{13} \\overline{K_{bj}} \\overline{\\Omega_{SRij}} \\epsilon^{2} m_{n_i} C_0(m_{H_1^0}, m_{l_a}, m_{l_b}, m_{H_R^+}, m_{n_i}, m_{n_j}) - K_{ai} \\alpha_{13} \\overline{K_{bj}} \\overline{\\Omega_{SRij}} \\epsilon^{2} m_{n_i} C_2(m_{H_1^0}, m_{l_a}, m_{l_b}, m_{H_R^+}, m_{n_i}, m_{n_j}) + K_{ai} \\alpha_{13} \\overline{Q_{Rbj}} \\overline{\\Omega_{SRij}} \\epsilon^{2} m_{n_i} m_{n_j} C_0(m_{H_1^0}, m_{l_a}, m_{l_b}, m_{H_R^+}, m_{n_i}, m_{n_j}) + 2 K_{ai} \\overline{K_{bj}} \\overline{\\Omega_{RLij}} \\rho_{1} m_{n_j} C_2(m_{H_1^0}, m_{l_a}, m_{l_b}, m_{H_R^+}, m_{n_i}, m_{n_j}) - 2 K_{ai} \\overline{Q_{Rbj}} \\overline{\\Omega_{RLij}} \\rho_{1} \\left(m_{H_R^+}\\right)^{2} C_0(m_{H_1^0}, m_{l_a}, m_{l_b}, m_{H_R^+}, m_{n_i}, m_{n_j}) + 2 K_{ai} \\overline{Q_{Rbj}} \\overline{\\Omega_{RLij}} \\rho_{1} m_{l_a}^{2} C_1(m_{H_1^0}, m_{l_a}, m_{l_b}, m_{H_R^+}, m_{n_i}, m_{n_j}) - 2 K_{ai} \\overline{Q_{Rbj}} \\overline{\\Omega_{RLij}} \\rho_{1} m_{l_b}^{2} C_2(m_{H_1^0}, m_{l_a}, m_{l_b}, m_{H_R^+}, m_{n_i}, m_{n_j}) - 2 K_{ai} \\overline{Q_{Rbj}} \\overline{\\Omega_{RLij}} \\rho_{1} B^{\\left(12\\right)}_0(m_{H_1^0}, m_{n_i}, m_{n_j}) - 2 Q_{Rai} \\Omega_{RLij} \\overline{K_{bj}} \\rho_{1} m_{l_a}^{2} C_0(m_{H_1^0}, m_{l_a}, m_{l_b}, m_{H_R^+}, m_{n_i}, m_{n_j}) + 2 Q_{Rai} \\Omega_{RLij} \\overline{K_{bj}} \\rho_{1} m_{l_a}^{2} C_1(m_{H_1^0}, m_{l_a}, m_{l_b}, m_{H_R^+}, m_{n_i}, m_{n_j}) - 2 Q_{Rai} \\Omega_{RLij} \\overline{K_{bj}} \\rho_{1} m_{l_a}^{2} C_2(m_{H_1^0}, m_{l_a}, m_{l_b}, m_{H_R^+}, m_{n_i}, m_{n_j}) + 2 Q_{Rai} \\Omega_{RLij} \\overline{Q_{Rbj}} \\rho_{1} m_{l_a}^{2} m_{n_j} C_0(m_{H_1^0}, m_{l_a}, m_{l_b}, m_{H_R^+}, m_{n_i}, m_{n_j}) - 2 Q_{Rai} \\Omega_{RLij} \\overline{Q_{Rbj}} \\rho_{1} m_{l_a}^{2} m_{n_j} C_1(m_{H_1^0}, m_{l_a}, m_{l_b}, m_{H_R^+}, m_{n_i}, m_{n_j}) + Q_{Rai} \\Omega_{SRij} \\alpha_{13} \\overline{Q_{Rbj}} \\epsilon^{2} m_{l_a}^{2} m_{n_i} C_1(m_{H_1^0}, m_{l_a}, m_{l_b}, m_{H_R^+}, m_{n_i}, m_{n_j}) + Q_{Rai} \\alpha_{13} \\overline{K_{bj}} \\overline{\\Omega_{SRij}} \\epsilon^{2} m_{l_a}^{2} C_0(m_{H_1^0}, m_{l_a}, m_{l_b}, m_{H_R^+}, m_{n_i}, m_{n_j}) - Q_{Rai} \\alpha_{13} \\overline{K_{bj}} \\overline{\\Omega_{SRij}} \\epsilon^{2} m_{l_a}^{2} C_1(m_{H_1^0}, m_{l_a}, m_{l_b}, m_{H_R^+}, m_{n_i}, m_{n_j}) + Q_{Rai} \\alpha_{13} \\overline{K_{bj}} \\overline{\\Omega_{SRij}} \\epsilon^{2} m_{l_a}^{2} C_2(m_{H_1^0}, m_{l_a}, m_{l_b}, m_{H_R^+}, m_{n_i}, m_{n_j}) - Q_{Rai} \\alpha_{13} \\overline{Q_{Rbj}} \\overline{\\Omega_{SRij}} \\epsilon^{2} m_{l_a}^{2} m_{n_j} C_0(m_{H_1^0}, m_{l_a}, m_{l_b}, m_{H_R^+}, m_{n_i}, m_{n_j}) + Q_{Rai} \\alpha_{13} \\overline{Q_{Rbj}} \\overline{\\Omega_{SRij}} \\epsilon^{2} m_{l_a}^{2} m_{n_j} C_1(m_{H_1^0}, m_{l_a}, m_{l_b}, m_{H_R^+}, m_{n_i}, m_{n_j}) - 2 Q_{Rai} \\overline{Q_{Rbj}} \\overline{\\Omega_{RLij}} \\rho_{1} m_{l_a}^{2} m_{n_i} C_1(m_{H_1^0}, m_{l_a}, m_{l_b}, m_{H_R^+}, m_{n_i}, m_{n_j})\\right)}{32 \\pi^{2} \\rho_{1} k_{1}^{3}}$"
      ],
      "text/plain": [
       "-sqrt(2)*I*m_{l_b}*(2*K_{ai}*\\Omega_{RLij}*\\overline{K_{bj}}*\\rho_1*m_{n_i}*C0(m_{H_1^0}, m_{l_a}, m_{l_b}, m_{H_R^+}, m_{n_i}, m_{n_j}) + 2*K_{ai}*\\Omega_{RLij}*\\overline{K_{bj}}*\\rho_1*m_{n_i}*C2(m_{H_1^0}, m_{l_a}, m_{l_b}, m_{H_R^+}, m_{n_i}, m_{n_j}) - 2*K_{ai}*\\Omega_{RLij}*\\overline{Q_{Rbj}}*\\rho_1*m_{n_i}*m_{n_j}*C0(m_{H_1^0}, m_{l_a}, m_{l_b}, m_{H_R^+}, m_{n_i}, m_{n_j}) - K_{ai}*\\Omega_{SRij}*\\alpha_{13}*\\overline{K_{bj}}*epsilon**2*m_{n_j}*C2(m_{H_1^0}, m_{l_a}, m_{l_b}, m_{H_R^+}, m_{n_i}, m_{n_j}) + K_{ai}*\\Omega_{SRij}*\\alpha_{13}*\\overline{Q_{Rbj}}*epsilon**2*m_{H_R^+}**2*C0(m_{H_1^0}, m_{l_a}, m_{l_b}, m_{H_R^+}, m_{n_i}, m_{n_j}) - K_{ai}*\\Omega_{SRij}*\\alpha_{13}*\\overline{Q_{Rbj}}*epsilon**2*m_{l_a}**2*C1(m_{H_1^0}, m_{l_a}, m_{l_b}, m_{H_R^+}, m_{n_i}, m_{n_j}) + K_{ai}*\\Omega_{SRij}*\\alpha_{13}*\\overline{Q_{Rbj}}*epsilon**2*m_{l_b}**2*C2(m_{H_1^0}, m_{l_a}, m_{l_b}, m_{H_R^+}, m_{n_i}, m_{n_j}) + K_{ai}*\\Omega_{SRij}*\\alpha_{13}*\\overline{Q_{Rbj}}*epsilon**2*B12_0(m_{H_1^0}, m_{n_i}, m_{n_j}) - K_{ai}*\\alpha_{13}*\\overline{K_{bj}}*\\overline{\\Omega_{SRij}}*epsilon**2*m_{n_i}*C0(m_{H_1^0}, m_{l_a}, m_{l_b}, m_{H_R^+}, m_{n_i}, m_{n_j}) - K_{ai}*\\alpha_{13}*\\overline{K_{bj}}*\\overline{\\Omega_{SRij}}*epsilon**2*m_{n_i}*C2(m_{H_1^0}, m_{l_a}, m_{l_b}, m_{H_R^+}, m_{n_i}, m_{n_j}) + K_{ai}*\\alpha_{13}*\\overline{Q_{Rbj}}*\\overline{\\Omega_{SRij}}*epsilon**2*m_{n_i}*m_{n_j}*C0(m_{H_1^0}, m_{l_a}, m_{l_b}, m_{H_R^+}, m_{n_i}, m_{n_j}) + 2*K_{ai}*\\overline{K_{bj}}*\\overline{\\Omega_{RLij}}*\\rho_1*m_{n_j}*C2(m_{H_1^0}, m_{l_a}, m_{l_b}, m_{H_R^+}, m_{n_i}, m_{n_j}) - 2*K_{ai}*\\overline{Q_{Rbj}}*\\overline{\\Omega_{RLij}}*\\rho_1*m_{H_R^+}**2*C0(m_{H_1^0}, m_{l_a}, m_{l_b}, m_{H_R^+}, m_{n_i}, m_{n_j}) + 2*K_{ai}*\\overline{Q_{Rbj}}*\\overline{\\Omega_{RLij}}*\\rho_1*m_{l_a}**2*C1(m_{H_1^0}, m_{l_a}, m_{l_b}, m_{H_R^+}, m_{n_i}, m_{n_j}) - 2*K_{ai}*\\overline{Q_{Rbj}}*\\overline{\\Omega_{RLij}}*\\rho_1*m_{l_b}**2*C2(m_{H_1^0}, m_{l_a}, m_{l_b}, m_{H_R^+}, m_{n_i}, m_{n_j}) - 2*K_{ai}*\\overline{Q_{Rbj}}*\\overline{\\Omega_{RLij}}*\\rho_1*B12_0(m_{H_1^0}, m_{n_i}, m_{n_j}) - 2*Q_{Rai}*\\Omega_{RLij}*\\overline{K_{bj}}*\\rho_1*m_{l_a}**2*C0(m_{H_1^0}, m_{l_a}, m_{l_b}, m_{H_R^+}, m_{n_i}, m_{n_j}) + 2*Q_{Rai}*\\Omega_{RLij}*\\overline{K_{bj}}*\\rho_1*m_{l_a}**2*C1(m_{H_1^0}, m_{l_a}, m_{l_b}, m_{H_R^+}, m_{n_i}, m_{n_j}) - 2*Q_{Rai}*\\Omega_{RLij}*\\overline{K_{bj}}*\\rho_1*m_{l_a}**2*C2(m_{H_1^0}, m_{l_a}, m_{l_b}, m_{H_R^+}, m_{n_i}, m_{n_j}) + 2*Q_{Rai}*\\Omega_{RLij}*\\overline{Q_{Rbj}}*\\rho_1*m_{l_a}**2*m_{n_j}*C0(m_{H_1^0}, m_{l_a}, m_{l_b}, m_{H_R^+}, m_{n_i}, m_{n_j}) - 2*Q_{Rai}*\\Omega_{RLij}*\\overline{Q_{Rbj}}*\\rho_1*m_{l_a}**2*m_{n_j}*C1(m_{H_1^0}, m_{l_a}, m_{l_b}, m_{H_R^+}, m_{n_i}, m_{n_j}) + Q_{Rai}*\\Omega_{SRij}*\\alpha_{13}*\\overline{Q_{Rbj}}*epsilon**2*m_{l_a}**2*m_{n_i}*C1(m_{H_1^0}, m_{l_a}, m_{l_b}, m_{H_R^+}, m_{n_i}, m_{n_j}) + Q_{Rai}*\\alpha_{13}*\\overline{K_{bj}}*\\overline{\\Omega_{SRij}}*epsilon**2*m_{l_a}**2*C0(m_{H_1^0}, m_{l_a}, m_{l_b}, m_{H_R^+}, m_{n_i}, m_{n_j}) - Q_{Rai}*\\alpha_{13}*\\overline{K_{bj}}*\\overline{\\Omega_{SRij}}*epsilon**2*m_{l_a}**2*C1(m_{H_1^0}, m_{l_a}, m_{l_b}, m_{H_R^+}, m_{n_i}, m_{n_j}) + Q_{Rai}*\\alpha_{13}*\\overline{K_{bj}}*\\overline{\\Omega_{SRij}}*epsilon**2*m_{l_a}**2*C2(m_{H_1^0}, m_{l_a}, m_{l_b}, m_{H_R^+}, m_{n_i}, m_{n_j}) - Q_{Rai}*\\alpha_{13}*\\overline{Q_{Rbj}}*\\overline{\\Omega_{SRij}}*epsilon**2*m_{l_a}**2*m_{n_j}*C0(m_{H_1^0}, m_{l_a}, m_{l_b}, m_{H_R^+}, m_{n_i}, m_{n_j}) + Q_{Rai}*\\alpha_{13}*\\overline{Q_{Rbj}}*\\overline{\\Omega_{SRij}}*epsilon**2*m_{l_a}**2*m_{n_j}*C1(m_{H_1^0}, m_{l_a}, m_{l_b}, m_{H_R^+}, m_{n_i}, m_{n_j}) - 2*Q_{Rai}*\\overline{Q_{Rbj}}*\\overline{\\Omega_{RLij}}*\\rho_1*m_{l_a}**2*m_{n_i}*C1(m_{H_1^0}, m_{l_a}, m_{l_b}, m_{H_R^+}, m_{n_i}, m_{n_j}))/(32*pi**2*\\rho_1*k_1**3)"
      ]
     },
     "metadata": {},
     "output_type": "display_data"
    },
    {
     "name": "stdout",
     "output_type": "stream",
     "text": [
      "W1_ninj\n"
     ]
    },
    {
     "data": {
      "text/latex": [
       "$\\displaystyle - \\frac{\\sqrt{2} i Q_{Lai} \\overline{Q_{Lbj}} g^{2} m_{l_a} \\left(2 \\Omega_{RLij} \\rho_{1} m_{n_i} C_1(m_{H_1^0}, m_{l_a}, m_{l_b}, m_{W_1}, m_{n_i}, m_{n_j}) + \\Omega_{SRij} \\alpha_{13} \\epsilon^{2} m_{n_j} C_0(m_{H_1^0}, m_{l_a}, m_{l_b}, m_{W_1}, m_{n_i}, m_{n_j}) - \\Omega_{SRij} \\alpha_{13} \\epsilon^{2} m_{n_j} C_1(m_{H_1^0}, m_{l_a}, m_{l_b}, m_{W_1}, m_{n_i}, m_{n_j}) - \\alpha_{13} \\overline{\\Omega_{SRij}} \\epsilon^{2} m_{n_i} C_1(m_{H_1^0}, m_{l_a}, m_{l_b}, m_{W_1}, m_{n_i}, m_{n_j}) - 2 \\overline{\\Omega_{RLij}} \\rho_{1} m_{n_j} C_0(m_{H_1^0}, m_{l_a}, m_{l_b}, m_{W_1}, m_{n_i}, m_{n_j}) + 2 \\overline{\\Omega_{RLij}} \\rho_{1} m_{n_j} C_1(m_{H_1^0}, m_{l_a}, m_{l_b}, m_{W_1}, m_{n_i}, m_{n_j})\\right)}{128 \\pi^{2} \\rho_{1} k_{1}}$"
      ],
      "text/plain": [
       "-sqrt(2)*I*Q_{Lai}*\\overline{Q_{Lbj}}*g**2*m_{l_a}*(2*\\Omega_{RLij}*\\rho_1*m_{n_i}*C1(m_{H_1^0}, m_{l_a}, m_{l_b}, m_{W_1}, m_{n_i}, m_{n_j}) + \\Omega_{SRij}*\\alpha_{13}*epsilon**2*m_{n_j}*C0(m_{H_1^0}, m_{l_a}, m_{l_b}, m_{W_1}, m_{n_i}, m_{n_j}) - \\Omega_{SRij}*\\alpha_{13}*epsilon**2*m_{n_j}*C1(m_{H_1^0}, m_{l_a}, m_{l_b}, m_{W_1}, m_{n_i}, m_{n_j}) - \\alpha_{13}*\\overline{\\Omega_{SRij}}*epsilon**2*m_{n_i}*C1(m_{H_1^0}, m_{l_a}, m_{l_b}, m_{W_1}, m_{n_i}, m_{n_j}) - 2*\\overline{\\Omega_{RLij}}*\\rho_1*m_{n_j}*C0(m_{H_1^0}, m_{l_a}, m_{l_b}, m_{W_1}, m_{n_i}, m_{n_j}) + 2*\\overline{\\Omega_{RLij}}*\\rho_1*m_{n_j}*C1(m_{H_1^0}, m_{l_a}, m_{l_b}, m_{W_1}, m_{n_i}, m_{n_j}))/(128*pi**2*\\rho_1*k_1)"
      ]
     },
     "metadata": {},
     "output_type": "display_data"
    },
    {
     "name": "stdout",
     "output_type": "stream",
     "text": [
      "W2_ninj\n"
     ]
    },
    {
     "data": {
      "text/latex": [
       "$\\displaystyle - \\frac{\\sqrt{2} i Q_{Rai} \\overline{Q_{Rbj}} g^{2} m_{l_b} \\left(- 2 \\Omega_{RLij} \\rho_{1} m_{n_j} C_2(m_{H_1^0}, m_{l_a}, m_{l_b}, m_{W_2}, m_{n_i}, m_{n_j}) + \\Omega_{SRij} \\alpha_{13} \\epsilon^{2} m_{n_i} C_0(m_{H_1^0}, m_{l_a}, m_{l_b}, m_{W_2}, m_{n_i}, m_{n_j}) + \\Omega_{SRij} \\alpha_{13} \\epsilon^{2} m_{n_i} C_2(m_{H_1^0}, m_{l_a}, m_{l_b}, m_{W_2}, m_{n_i}, m_{n_j}) + \\alpha_{13} \\overline{\\Omega_{SRij}} \\epsilon^{2} m_{n_j} C_2(m_{H_1^0}, m_{l_a}, m_{l_b}, m_{W_2}, m_{n_i}, m_{n_j}) - 2 \\overline{\\Omega_{RLij}} \\rho_{1} m_{n_i} C_0(m_{H_1^0}, m_{l_a}, m_{l_b}, m_{W_2}, m_{n_i}, m_{n_j}) - 2 \\overline{\\Omega_{RLij}} \\rho_{1} m_{n_i} C_2(m_{H_1^0}, m_{l_a}, m_{l_b}, m_{W_2}, m_{n_i}, m_{n_j})\\right)}{128 \\pi^{2} \\rho_{1} k_{1}}$"
      ],
      "text/plain": [
       "-sqrt(2)*I*Q_{Rai}*\\overline{Q_{Rbj}}*g**2*m_{l_b}*(-2*\\Omega_{RLij}*\\rho_1*m_{n_j}*C2(m_{H_1^0}, m_{l_a}, m_{l_b}, m_{W_2}, m_{n_i}, m_{n_j}) + \\Omega_{SRij}*\\alpha_{13}*epsilon**2*m_{n_i}*C0(m_{H_1^0}, m_{l_a}, m_{l_b}, m_{W_2}, m_{n_i}, m_{n_j}) + \\Omega_{SRij}*\\alpha_{13}*epsilon**2*m_{n_i}*C2(m_{H_1^0}, m_{l_a}, m_{l_b}, m_{W_2}, m_{n_i}, m_{n_j}) + \\alpha_{13}*\\overline{\\Omega_{SRij}}*epsilon**2*m_{n_j}*C2(m_{H_1^0}, m_{l_a}, m_{l_b}, m_{W_2}, m_{n_i}, m_{n_j}) - 2*\\overline{\\Omega_{RLij}}*\\rho_1*m_{n_i}*C0(m_{H_1^0}, m_{l_a}, m_{l_b}, m_{W_2}, m_{n_i}, m_{n_j}) - 2*\\overline{\\Omega_{RLij}}*\\rho_1*m_{n_i}*C2(m_{H_1^0}, m_{l_a}, m_{l_b}, m_{W_2}, m_{n_i}, m_{n_j}))/(128*pi**2*\\rho_1*k_1)"
      ]
     },
     "metadata": {},
     "output_type": "display_data"
    }
   ],
   "source": [
    "for diagram, formfactors in symbolic_formfactor.items():\n",
    "    if diagram in two_neutrinos_diagrams:\n",
    "        print(diagram)\n",
    "        display(formfactors['AL'])"
   ]
  },
  {
   "cell_type": "code",
   "execution_count": 192,
   "id": "cf507104",
   "metadata": {},
   "outputs": [],
   "source": [
    "from DLRSM1.potential_senjanovic_HiggsDoublets import epsilon\n",
    "from formfactors_functions import QLai, QLbjc, TRLjb, TRLiac, QRai, QRbjc, Jai, Jbjc, Kai, Kbjc\n",
    "from formfactors_functions import OmegaRLij, OmegaRLijc, OmegaSRij, OmegaSRijc"
   ]
  },
  {
   "cell_type": "code",
   "execution_count": 174,
   "id": "4738ff17",
   "metadata": {},
   "outputs": [
    {
     "data": {
      "text/latex": [
       "$\\displaystyle Q_{Lai}$"
      ],
      "text/plain": [
       "Q_{Lai}"
      ]
     },
     "execution_count": 174,
     "metadata": {},
     "output_type": "execute_result"
    }
   ],
   "source": [
    "QLai"
   ]
  },
  {
   "cell_type": "code",
   "execution_count": 196,
   "id": "012b133e",
   "metadata": {},
   "outputs": [
    {
     "data": {
      "text/latex": [
       "$\\displaystyle \\Omega_{RLij} \\left(\\frac{\\sqrt{2} i \\overline{Q_{Lbj}} m_{l_a} m_{l_b}^{2} \\left(- Q_{Lai} m_{n_i} + \\overline{T_{RLia}}\\right) C_2(m_{H_1^0}, m_{l_a}, m_{l_b}, m_{W_1}, m_{n_i}, m_{n_j})}{16 \\pi^{2} k_{1}^{3}} + \\frac{\\sqrt{2} i \\overline{T_{RLia}} m_{l_a} \\left(T_{RLjb} m_{n_j} - \\overline{Q_{Lbj}} m_{l_b}^{2}\\right) C_1(m_{H_1^0}, m_{l_a}, m_{l_b}, m_{W_1}, m_{n_i}, m_{n_j})}{16 \\pi^{2} k_{1}^{3}} + \\frac{\\sqrt{2} i m_{l_a} \\left(Q_{Lai} T_{RLjb} m_{n_i} m_{n_j} - Q_{Lai} \\overline{Q_{Lbj}} m_{l_b}^{2} m_{n_i} - T_{RLjb} \\overline{T_{RLia}} m_{n_j} + \\overline{Q_{Lbj}} \\overline{T_{RLia}} m_{l_b}^{2}\\right) C_0(m_{H_1^0}, m_{l_a}, m_{l_b}, m_{W_1}, m_{n_i}, m_{n_j})}{16 \\pi^{2} k_{1}^{3}}\\right) + \\Omega_{SRij} \\left(- \\frac{\\sqrt{2} i Q_{Lai} T_{RLjb} \\alpha_{13} \\epsilon^{2} m_{W_1}^{2} m_{l_a} C_0(m_{H_1^0}, m_{l_a}, m_{l_b}, m_{W_1}, m_{n_i}, m_{n_j})}{32 \\pi^{2} \\rho_{1} k_{1}^{3}} - \\frac{\\sqrt{2} i Q_{Lai} T_{RLjb} \\alpha_{13} \\epsilon^{2} m_{l_a} B^{\\left(12\\right)}_0(m_{H_1^0}, m_{n_i}, m_{n_j})}{32 \\pi^{2} \\rho_{1} k_{1}^{3}} + \\frac{\\sqrt{2} i Q_{Lai} \\alpha_{13} \\epsilon^{2} m_{l_a} m_{l_b}^{2} \\left(- T_{RLjb} + \\overline{Q_{Lbj}} m_{n_j}\\right) C_2(m_{H_1^0}, m_{l_a}, m_{l_b}, m_{W_1}, m_{n_i}, m_{n_j})}{32 \\pi^{2} \\rho_{1} k_{1}^{3}} + \\frac{\\sqrt{2} i T_{RLjb} \\alpha_{13} \\epsilon^{2} m_{l_a} \\left(Q_{Lai} m_{l_a}^{2} - \\overline{T_{RLia}} m_{n_i}\\right) C_1(m_{H_1^0}, m_{l_a}, m_{l_b}, m_{W_1}, m_{n_i}, m_{n_j})}{32 \\pi^{2} \\rho_{1} k_{1}^{3}}\\right) + \\overline{\\Omega_{RLij}} \\left(\\frac{\\sqrt{2} i Q_{Lai} T_{RLjb} m_{W_1}^{2} m_{l_a} C_0(m_{H_1^0}, m_{l_a}, m_{l_b}, m_{W_1}, m_{n_i}, m_{n_j})}{16 \\pi^{2} k_{1}^{3}} + \\frac{\\sqrt{2} i Q_{Lai} T_{RLjb} m_{l_a} B^{\\left(12\\right)}_0(m_{H_1^0}, m_{n_i}, m_{n_j})}{16 \\pi^{2} k_{1}^{3}} + \\frac{\\sqrt{2} i Q_{Lai} m_{l_a} m_{l_b}^{2} \\left(T_{RLjb} - \\overline{Q_{Lbj}} m_{n_j}\\right) C_2(m_{H_1^0}, m_{l_a}, m_{l_b}, m_{W_1}, m_{n_i}, m_{n_j})}{16 \\pi^{2} k_{1}^{3}} + \\frac{\\sqrt{2} i T_{RLjb} m_{l_a} \\left(- Q_{Lai} m_{l_a}^{2} + \\overline{T_{RLia}} m_{n_i}\\right) C_1(m_{H_1^0}, m_{l_a}, m_{l_b}, m_{W_1}, m_{n_i}, m_{n_j})}{16 \\pi^{2} k_{1}^{3}}\\right) + \\overline{\\Omega_{SRij}} \\left(\\frac{\\sqrt{2} i \\alpha_{13} \\overline{Q_{Lbj}} \\epsilon^{2} m_{l_a} m_{l_b}^{2} \\left(Q_{Lai} m_{n_i} - \\overline{T_{RLia}}\\right) C_2(m_{H_1^0}, m_{l_a}, m_{l_b}, m_{W_1}, m_{n_i}, m_{n_j})}{32 \\pi^{2} \\rho_{1} k_{1}^{3}} + \\frac{\\sqrt{2} i \\alpha_{13} \\overline{T_{RLia}} \\epsilon^{2} m_{l_a} \\left(- T_{RLjb} m_{n_j} + \\overline{Q_{Lbj}} m_{l_b}^{2}\\right) C_1(m_{H_1^0}, m_{l_a}, m_{l_b}, m_{W_1}, m_{n_i}, m_{n_j})}{32 \\pi^{2} \\rho_{1} k_{1}^{3}} + \\frac{\\sqrt{2} i \\alpha_{13} \\epsilon^{2} m_{l_a} \\left(- Q_{Lai} T_{RLjb} m_{n_i} m_{n_j} + Q_{Lai} \\overline{Q_{Lbj}} m_{l_b}^{2} m_{n_i} + T_{RLjb} \\overline{T_{RLia}} m_{n_j} - \\overline{Q_{Lbj}} \\overline{T_{RLia}} m_{l_b}^{2}\\right) C_0(m_{H_1^0}, m_{l_a}, m_{l_b}, m_{W_1}, m_{n_i}, m_{n_j})}{32 \\pi^{2} \\rho_{1} k_{1}^{3}}\\right)$"
      ],
      "text/plain": [
       "\\Omega_{RLij}*(sqrt(2)*I*\\overline{Q_{Lbj}}*m_{l_a}*m_{l_b}**2*(-Q_{Lai}*m_{n_i} + \\overline{T_{RLia}})*C2(m_{H_1^0}, m_{l_a}, m_{l_b}, m_{W_1}, m_{n_i}, m_{n_j})/(16*pi**2*k_1**3) + sqrt(2)*I*\\overline{T_{RLia}}*m_{l_a}*(T_{RLjb}*m_{n_j} - \\overline{Q_{Lbj}}*m_{l_b}**2)*C1(m_{H_1^0}, m_{l_a}, m_{l_b}, m_{W_1}, m_{n_i}, m_{n_j})/(16*pi**2*k_1**3) + sqrt(2)*I*m_{l_a}*(Q_{Lai}*T_{RLjb}*m_{n_i}*m_{n_j} - Q_{Lai}*\\overline{Q_{Lbj}}*m_{l_b}**2*m_{n_i} - T_{RLjb}*\\overline{T_{RLia}}*m_{n_j} + \\overline{Q_{Lbj}}*\\overline{T_{RLia}}*m_{l_b}**2)*C0(m_{H_1^0}, m_{l_a}, m_{l_b}, m_{W_1}, m_{n_i}, m_{n_j})/(16*pi**2*k_1**3)) + \\Omega_{SRij}*(-sqrt(2)*I*Q_{Lai}*T_{RLjb}*\\alpha_{13}*epsilon**2*m_{W_1}**2*m_{l_a}*C0(m_{H_1^0}, m_{l_a}, m_{l_b}, m_{W_1}, m_{n_i}, m_{n_j})/(32*pi**2*\\rho_1*k_1**3) - sqrt(2)*I*Q_{Lai}*T_{RLjb}*\\alpha_{13}*epsilon**2*m_{l_a}*B12_0(m_{H_1^0}, m_{n_i}, m_{n_j})/(32*pi**2*\\rho_1*k_1**3) + sqrt(2)*I*Q_{Lai}*\\alpha_{13}*epsilon**2*m_{l_a}*m_{l_b}**2*(-T_{RLjb} + \\overline{Q_{Lbj}}*m_{n_j})*C2(m_{H_1^0}, m_{l_a}, m_{l_b}, m_{W_1}, m_{n_i}, m_{n_j})/(32*pi**2*\\rho_1*k_1**3) + sqrt(2)*I*T_{RLjb}*\\alpha_{13}*epsilon**2*m_{l_a}*(Q_{Lai}*m_{l_a}**2 - \\overline{T_{RLia}}*m_{n_i})*C1(m_{H_1^0}, m_{l_a}, m_{l_b}, m_{W_1}, m_{n_i}, m_{n_j})/(32*pi**2*\\rho_1*k_1**3)) + \\overline{\\Omega_{RLij}}*(sqrt(2)*I*Q_{Lai}*T_{RLjb}*m_{W_1}**2*m_{l_a}*C0(m_{H_1^0}, m_{l_a}, m_{l_b}, m_{W_1}, m_{n_i}, m_{n_j})/(16*pi**2*k_1**3) + sqrt(2)*I*Q_{Lai}*T_{RLjb}*m_{l_a}*B12_0(m_{H_1^0}, m_{n_i}, m_{n_j})/(16*pi**2*k_1**3) + sqrt(2)*I*Q_{Lai}*m_{l_a}*m_{l_b}**2*(T_{RLjb} - \\overline{Q_{Lbj}}*m_{n_j})*C2(m_{H_1^0}, m_{l_a}, m_{l_b}, m_{W_1}, m_{n_i}, m_{n_j})/(16*pi**2*k_1**3) + sqrt(2)*I*T_{RLjb}*m_{l_a}*(-Q_{Lai}*m_{l_a}**2 + \\overline{T_{RLia}}*m_{n_i})*C1(m_{H_1^0}, m_{l_a}, m_{l_b}, m_{W_1}, m_{n_i}, m_{n_j})/(16*pi**2*k_1**3)) + \\overline{\\Omega_{SRij}}*(sqrt(2)*I*\\alpha_{13}*\\overline{Q_{Lbj}}*epsilon**2*m_{l_a}*m_{l_b}**2*(Q_{Lai}*m_{n_i} - \\overline{T_{RLia}})*C2(m_{H_1^0}, m_{l_a}, m_{l_b}, m_{W_1}, m_{n_i}, m_{n_j})/(32*pi**2*\\rho_1*k_1**3) + sqrt(2)*I*\\alpha_{13}*\\overline{T_{RLia}}*epsilon**2*m_{l_a}*(-T_{RLjb}*m_{n_j} + \\overline{Q_{Lbj}}*m_{l_b}**2)*C1(m_{H_1^0}, m_{l_a}, m_{l_b}, m_{W_1}, m_{n_i}, m_{n_j})/(32*pi**2*\\rho_1*k_1**3) + sqrt(2)*I*\\alpha_{13}*epsilon**2*m_{l_a}*(-Q_{Lai}*T_{RLjb}*m_{n_i}*m_{n_j} + Q_{Lai}*\\overline{Q_{Lbj}}*m_{l_b}**2*m_{n_i} + T_{RLjb}*\\overline{T_{RLia}}*m_{n_j} - \\overline{Q_{Lbj}}*\\overline{T_{RLia}}*m_{l_b}**2)*C0(m_{H_1^0}, m_{l_a}, m_{l_b}, m_{W_1}, m_{n_i}, m_{n_j})/(32*pi**2*\\rho_1*k_1**3))"
      ]
     },
     "metadata": {},
     "output_type": "display_data"
    },
    {
     "data": {
      "text/latex": [
       "$\\displaystyle \\Omega_{RLij} \\left(\\frac{\\sqrt{2} i \\overline{Q_{Lbj}} \\overline{T_{RLia}} m_{W_1}^{2} m_{l_b} C_0(m_{H_1^0}, m_{l_a}, m_{l_b}, m_{W_1}, m_{n_i}, m_{n_j})}{16 \\pi^{2} k_{1}^{3}} + \\frac{\\sqrt{2} i \\overline{Q_{Lbj}} \\overline{T_{RLia}} m_{l_b} B^{\\left(12\\right)}_0(m_{H_1^0}, m_{n_i}, m_{n_j})}{16 \\pi^{2} k_{1}^{3}} + \\frac{\\sqrt{2} i \\overline{Q_{Lbj}} m_{l_a}^{2} m_{l_b} \\left(Q_{Lai} m_{n_i} - \\overline{T_{RLia}}\\right) C_1(m_{H_1^0}, m_{l_a}, m_{l_b}, m_{W_1}, m_{n_i}, m_{n_j})}{16 \\pi^{2} k_{1}^{3}} + \\frac{\\sqrt{2} i \\overline{T_{RLia}} m_{l_b} \\left(- T_{RLjb} m_{n_j} + \\overline{Q_{Lbj}} m_{l_b}^{2}\\right) C_2(m_{H_1^0}, m_{l_a}, m_{l_b}, m_{W_1}, m_{n_i}, m_{n_j})}{16 \\pi^{2} k_{1}^{3}}\\right) + \\Omega_{SRij} \\left(\\frac{\\sqrt{2} i Q_{Lai} \\alpha_{13} \\epsilon^{2} m_{l_a}^{2} m_{l_b} \\left(T_{RLjb} - \\overline{Q_{Lbj}} m_{n_j}\\right) C_1(m_{H_1^0}, m_{l_a}, m_{l_b}, m_{W_1}, m_{n_i}, m_{n_j})}{32 \\pi^{2} \\rho_{1} k_{1}^{3}} + \\frac{\\sqrt{2} i T_{RLjb} \\alpha_{13} \\epsilon^{2} m_{l_b} \\left(- Q_{Lai} m_{l_a}^{2} + \\overline{T_{RLia}} m_{n_i}\\right) C_2(m_{H_1^0}, m_{l_a}, m_{l_b}, m_{W_1}, m_{n_i}, m_{n_j})}{32 \\pi^{2} \\rho_{1} k_{1}^{3}} + \\frac{\\sqrt{2} i \\alpha_{13} \\epsilon^{2} m_{l_b} \\left(- Q_{Lai} T_{RLjb} m_{l_a}^{2} + Q_{Lai} \\overline{Q_{Lbj}} m_{l_a}^{2} m_{n_j} + T_{RLjb} \\overline{T_{RLia}} m_{n_i} - \\overline{Q_{Lbj}} \\overline{T_{RLia}} m_{n_i} m_{n_j}\\right) C_0(m_{H_1^0}, m_{l_a}, m_{l_b}, m_{W_1}, m_{n_i}, m_{n_j})}{32 \\pi^{2} \\rho_{1} k_{1}^{3}}\\right) + \\overline{\\Omega_{RLij}} \\left(\\frac{\\sqrt{2} i Q_{Lai} m_{l_a}^{2} m_{l_b} \\left(- T_{RLjb} + \\overline{Q_{Lbj}} m_{n_j}\\right) C_1(m_{H_1^0}, m_{l_a}, m_{l_b}, m_{W_1}, m_{n_i}, m_{n_j})}{16 \\pi^{2} k_{1}^{3}} + \\frac{\\sqrt{2} i T_{RLjb} m_{l_b} \\left(Q_{Lai} m_{l_a}^{2} - \\overline{T_{RLia}} m_{n_i}\\right) C_2(m_{H_1^0}, m_{l_a}, m_{l_b}, m_{W_1}, m_{n_i}, m_{n_j})}{16 \\pi^{2} k_{1}^{3}} + \\frac{\\sqrt{2} i m_{l_b} \\left(Q_{Lai} T_{RLjb} m_{l_a}^{2} - Q_{Lai} \\overline{Q_{Lbj}} m_{l_a}^{2} m_{n_j} - T_{RLjb} \\overline{T_{RLia}} m_{n_i} + \\overline{Q_{Lbj}} \\overline{T_{RLia}} m_{n_i} m_{n_j}\\right) C_0(m_{H_1^0}, m_{l_a}, m_{l_b}, m_{W_1}, m_{n_i}, m_{n_j})}{16 \\pi^{2} k_{1}^{3}}\\right) + \\overline{\\Omega_{SRij}} \\left(- \\frac{\\sqrt{2} i \\alpha_{13} \\overline{Q_{Lbj}} \\overline{T_{RLia}} \\epsilon^{2} m_{W_1}^{2} m_{l_b} C_0(m_{H_1^0}, m_{l_a}, m_{l_b}, m_{W_1}, m_{n_i}, m_{n_j})}{32 \\pi^{2} \\rho_{1} k_{1}^{3}} - \\frac{\\sqrt{2} i \\alpha_{13} \\overline{Q_{Lbj}} \\overline{T_{RLia}} \\epsilon^{2} m_{l_b} B^{\\left(12\\right)}_0(m_{H_1^0}, m_{n_i}, m_{n_j})}{32 \\pi^{2} \\rho_{1} k_{1}^{3}} + \\frac{\\sqrt{2} i \\alpha_{13} \\overline{Q_{Lbj}} \\epsilon^{2} m_{l_a}^{2} m_{l_b} \\left(- Q_{Lai} m_{n_i} + \\overline{T_{RLia}}\\right) C_1(m_{H_1^0}, m_{l_a}, m_{l_b}, m_{W_1}, m_{n_i}, m_{n_j})}{32 \\pi^{2} \\rho_{1} k_{1}^{3}} + \\frac{\\sqrt{2} i \\alpha_{13} \\overline{T_{RLia}} \\epsilon^{2} m_{l_b} \\left(T_{RLjb} m_{n_j} - \\overline{Q_{Lbj}} m_{l_b}^{2}\\right) C_2(m_{H_1^0}, m_{l_a}, m_{l_b}, m_{W_1}, m_{n_i}, m_{n_j})}{32 \\pi^{2} \\rho_{1} k_{1}^{3}}\\right)$"
      ],
      "text/plain": [
       "\\Omega_{RLij}*(sqrt(2)*I*\\overline{Q_{Lbj}}*\\overline{T_{RLia}}*m_{W_1}**2*m_{l_b}*C0(m_{H_1^0}, m_{l_a}, m_{l_b}, m_{W_1}, m_{n_i}, m_{n_j})/(16*pi**2*k_1**3) + sqrt(2)*I*\\overline{Q_{Lbj}}*\\overline{T_{RLia}}*m_{l_b}*B12_0(m_{H_1^0}, m_{n_i}, m_{n_j})/(16*pi**2*k_1**3) + sqrt(2)*I*\\overline{Q_{Lbj}}*m_{l_a}**2*m_{l_b}*(Q_{Lai}*m_{n_i} - \\overline{T_{RLia}})*C1(m_{H_1^0}, m_{l_a}, m_{l_b}, m_{W_1}, m_{n_i}, m_{n_j})/(16*pi**2*k_1**3) + sqrt(2)*I*\\overline{T_{RLia}}*m_{l_b}*(-T_{RLjb}*m_{n_j} + \\overline{Q_{Lbj}}*m_{l_b}**2)*C2(m_{H_1^0}, m_{l_a}, m_{l_b}, m_{W_1}, m_{n_i}, m_{n_j})/(16*pi**2*k_1**3)) + \\Omega_{SRij}*(sqrt(2)*I*Q_{Lai}*\\alpha_{13}*epsilon**2*m_{l_a}**2*m_{l_b}*(T_{RLjb} - \\overline{Q_{Lbj}}*m_{n_j})*C1(m_{H_1^0}, m_{l_a}, m_{l_b}, m_{W_1}, m_{n_i}, m_{n_j})/(32*pi**2*\\rho_1*k_1**3) + sqrt(2)*I*T_{RLjb}*\\alpha_{13}*epsilon**2*m_{l_b}*(-Q_{Lai}*m_{l_a}**2 + \\overline{T_{RLia}}*m_{n_i})*C2(m_{H_1^0}, m_{l_a}, m_{l_b}, m_{W_1}, m_{n_i}, m_{n_j})/(32*pi**2*\\rho_1*k_1**3) + sqrt(2)*I*\\alpha_{13}*epsilon**2*m_{l_b}*(-Q_{Lai}*T_{RLjb}*m_{l_a}**2 + Q_{Lai}*\\overline{Q_{Lbj}}*m_{l_a}**2*m_{n_j} + T_{RLjb}*\\overline{T_{RLia}}*m_{n_i} - \\overline{Q_{Lbj}}*\\overline{T_{RLia}}*m_{n_i}*m_{n_j})*C0(m_{H_1^0}, m_{l_a}, m_{l_b}, m_{W_1}, m_{n_i}, m_{n_j})/(32*pi**2*\\rho_1*k_1**3)) + \\overline{\\Omega_{RLij}}*(sqrt(2)*I*Q_{Lai}*m_{l_a}**2*m_{l_b}*(-T_{RLjb} + \\overline{Q_{Lbj}}*m_{n_j})*C1(m_{H_1^0}, m_{l_a}, m_{l_b}, m_{W_1}, m_{n_i}, m_{n_j})/(16*pi**2*k_1**3) + sqrt(2)*I*T_{RLjb}*m_{l_b}*(Q_{Lai}*m_{l_a}**2 - \\overline{T_{RLia}}*m_{n_i})*C2(m_{H_1^0}, m_{l_a}, m_{l_b}, m_{W_1}, m_{n_i}, m_{n_j})/(16*pi**2*k_1**3) + sqrt(2)*I*m_{l_b}*(Q_{Lai}*T_{RLjb}*m_{l_a}**2 - Q_{Lai}*\\overline{Q_{Lbj}}*m_{l_a}**2*m_{n_j} - T_{RLjb}*\\overline{T_{RLia}}*m_{n_i} + \\overline{Q_{Lbj}}*\\overline{T_{RLia}}*m_{n_i}*m_{n_j})*C0(m_{H_1^0}, m_{l_a}, m_{l_b}, m_{W_1}, m_{n_i}, m_{n_j})/(16*pi**2*k_1**3)) + \\overline{\\Omega_{SRij}}*(-sqrt(2)*I*\\alpha_{13}*\\overline{Q_{Lbj}}*\\overline{T_{RLia}}*epsilon**2*m_{W_1}**2*m_{l_b}*C0(m_{H_1^0}, m_{l_a}, m_{l_b}, m_{W_1}, m_{n_i}, m_{n_j})/(32*pi**2*\\rho_1*k_1**3) - sqrt(2)*I*\\alpha_{13}*\\overline{Q_{Lbj}}*\\overline{T_{RLia}}*epsilon**2*m_{l_b}*B12_0(m_{H_1^0}, m_{n_i}, m_{n_j})/(32*pi**2*\\rho_1*k_1**3) + sqrt(2)*I*\\alpha_{13}*\\overline{Q_{Lbj}}*epsilon**2*m_{l_a}**2*m_{l_b}*(-Q_{Lai}*m_{n_i} + \\overline{T_{RLia}})*C1(m_{H_1^0}, m_{l_a}, m_{l_b}, m_{W_1}, m_{n_i}, m_{n_j})/(32*pi**2*\\rho_1*k_1**3) + sqrt(2)*I*\\alpha_{13}*\\overline{T_{RLia}}*epsilon**2*m_{l_b}*(T_{RLjb}*m_{n_j} - \\overline{Q_{Lbj}}*m_{l_b}**2)*C2(m_{H_1^0}, m_{l_a}, m_{l_b}, m_{W_1}, m_{n_i}, m_{n_j})/(32*pi**2*\\rho_1*k_1**3))"
      ]
     },
     "metadata": {},
     "output_type": "display_data"
    },
    {
     "data": {
      "text/latex": [
       "$\\displaystyle \\Omega_{RLij} \\left(\\frac{\\sqrt{2} i Q_{Rai} m_{l_a}^{2} m_{l_b} \\left(- \\overline{J_{bj}} + \\overline{Q_{Rbj}} m_{n_j}\\right) C_1(m_{H_1^0}, m_{l_a}, m_{l_b}, m_{W_2}, m_{n_i}, m_{n_j})}{16 \\pi^{2} k_{1} v_{R}^{2}} + \\frac{\\sqrt{2} i \\overline{J_{bj}} m_{l_b} \\left(- J_{ai} m_{n_i} + Q_{Rai} m_{l_a}^{2}\\right) C_2(m_{H_1^0}, m_{l_a}, m_{l_b}, m_{W_2}, m_{n_i}, m_{n_j})}{16 \\pi^{2} k_{1} v_{R}^{2}} + \\frac{\\sqrt{2} i m_{l_b} \\left(- J_{ai} \\overline{J_{bj}} m_{n_i} + J_{ai} \\overline{Q_{Rbj}} m_{n_i} m_{n_j} + Q_{Rai} \\overline{J_{bj}} m_{l_a}^{2} - Q_{Rai} \\overline{Q_{Rbj}} m_{l_a}^{2} m_{n_j}\\right) C_0(m_{H_1^0}, m_{l_a}, m_{l_b}, m_{W_2}, m_{n_i}, m_{n_j})}{16 \\pi^{2} k_{1} v_{R}^{2}}\\right) + \\Omega_{SRij} \\left(- \\frac{\\sqrt{2} i J_{ai} \\alpha_{13} \\overline{Q_{Rbj}} \\epsilon^{2} m_{W_2}^{2} m_{l_b} C_0(m_{H_1^0}, m_{l_a}, m_{l_b}, m_{W_2}, m_{n_i}, m_{n_j})}{32 \\pi^{2} \\rho_{1} k_{1} v_{R}^{2}} - \\frac{\\sqrt{2} i J_{ai} \\alpha_{13} \\overline{Q_{Rbj}} \\epsilon^{2} m_{l_b} B^{\\left(12\\right)}_0(m_{H_1^0}, m_{n_i}, m_{n_j})}{32 \\pi^{2} \\rho_{1} k_{1} v_{R}^{2}} + \\frac{\\sqrt{2} i J_{ai} \\alpha_{13} \\epsilon^{2} m_{l_b} \\left(\\overline{J_{bj}} m_{n_j} - \\overline{Q_{Rbj}} m_{l_b}^{2}\\right) C_2(m_{H_1^0}, m_{l_a}, m_{l_b}, m_{W_2}, m_{n_i}, m_{n_j})}{32 \\pi^{2} \\rho_{1} k_{1} v_{R}^{2}} + \\frac{\\sqrt{2} i \\alpha_{13} \\overline{Q_{Rbj}} \\epsilon^{2} m_{l_a}^{2} m_{l_b} \\left(J_{ai} - Q_{Rai} m_{n_i}\\right) C_1(m_{H_1^0}, m_{l_a}, m_{l_b}, m_{W_2}, m_{n_i}, m_{n_j})}{32 \\pi^{2} \\rho_{1} k_{1} v_{R}^{2}}\\right) + \\overline{\\Omega_{RLij}} \\left(\\frac{\\sqrt{2} i J_{ai} \\overline{Q_{Rbj}} m_{W_2}^{2} m_{l_b} C_0(m_{H_1^0}, m_{l_a}, m_{l_b}, m_{W_2}, m_{n_i}, m_{n_j})}{16 \\pi^{2} k_{1} v_{R}^{2}} + \\frac{\\sqrt{2} i J_{ai} \\overline{Q_{Rbj}} m_{l_b} B^{\\left(12\\right)}_0(m_{H_1^0}, m_{n_i}, m_{n_j})}{16 \\pi^{2} k_{1} v_{R}^{2}} + \\frac{\\sqrt{2} i J_{ai} m_{l_b} \\left(- \\overline{J_{bj}} m_{n_j} + \\overline{Q_{Rbj}} m_{l_b}^{2}\\right) C_2(m_{H_1^0}, m_{l_a}, m_{l_b}, m_{W_2}, m_{n_i}, m_{n_j})}{16 \\pi^{2} k_{1} v_{R}^{2}} + \\frac{\\sqrt{2} i \\overline{Q_{Rbj}} m_{l_a}^{2} m_{l_b} \\left(- J_{ai} + Q_{Rai} m_{n_i}\\right) C_1(m_{H_1^0}, m_{l_a}, m_{l_b}, m_{W_2}, m_{n_i}, m_{n_j})}{16 \\pi^{2} k_{1} v_{R}^{2}}\\right) + \\overline{\\Omega_{SRij}} \\left(\\frac{\\sqrt{2} i Q_{Rai} \\alpha_{13} \\epsilon^{2} m_{l_a}^{2} m_{l_b} \\left(\\overline{J_{bj}} - \\overline{Q_{Rbj}} m_{n_j}\\right) C_1(m_{H_1^0}, m_{l_a}, m_{l_b}, m_{W_2}, m_{n_i}, m_{n_j})}{32 \\pi^{2} \\rho_{1} k_{1} v_{R}^{2}} + \\frac{\\sqrt{2} i \\alpha_{13} \\overline{J_{bj}} \\epsilon^{2} m_{l_b} \\left(J_{ai} m_{n_i} - Q_{Rai} m_{l_a}^{2}\\right) C_2(m_{H_1^0}, m_{l_a}, m_{l_b}, m_{W_2}, m_{n_i}, m_{n_j})}{32 \\pi^{2} \\rho_{1} k_{1} v_{R}^{2}} + \\frac{\\sqrt{2} i \\alpha_{13} \\epsilon^{2} m_{l_b} \\left(J_{ai} \\overline{J_{bj}} m_{n_i} - J_{ai} \\overline{Q_{Rbj}} m_{n_i} m_{n_j} - Q_{Rai} \\overline{J_{bj}} m_{l_a}^{2} + Q_{Rai} \\overline{Q_{Rbj}} m_{l_a}^{2} m_{n_j}\\right) C_0(m_{H_1^0}, m_{l_a}, m_{l_b}, m_{W_2}, m_{n_i}, m_{n_j})}{32 \\pi^{2} \\rho_{1} k_{1} v_{R}^{2}}\\right)$"
      ],
      "text/plain": [
       "\\Omega_{RLij}*(sqrt(2)*I*Q_{Rai}*m_{l_a}**2*m_{l_b}*(-\\overline{J_{bj}} + \\overline{Q_{Rbj}}*m_{n_j})*C1(m_{H_1^0}, m_{l_a}, m_{l_b}, m_{W_2}, m_{n_i}, m_{n_j})/(16*pi**2*k_1*v_R**2) + sqrt(2)*I*\\overline{J_{bj}}*m_{l_b}*(-J_{ai}*m_{n_i} + Q_{Rai}*m_{l_a}**2)*C2(m_{H_1^0}, m_{l_a}, m_{l_b}, m_{W_2}, m_{n_i}, m_{n_j})/(16*pi**2*k_1*v_R**2) + sqrt(2)*I*m_{l_b}*(-J_{ai}*\\overline{J_{bj}}*m_{n_i} + J_{ai}*\\overline{Q_{Rbj}}*m_{n_i}*m_{n_j} + Q_{Rai}*\\overline{J_{bj}}*m_{l_a}**2 - Q_{Rai}*\\overline{Q_{Rbj}}*m_{l_a}**2*m_{n_j})*C0(m_{H_1^0}, m_{l_a}, m_{l_b}, m_{W_2}, m_{n_i}, m_{n_j})/(16*pi**2*k_1*v_R**2)) + \\Omega_{SRij}*(-sqrt(2)*I*J_{ai}*\\alpha_{13}*\\overline{Q_{Rbj}}*epsilon**2*m_{W_2}**2*m_{l_b}*C0(m_{H_1^0}, m_{l_a}, m_{l_b}, m_{W_2}, m_{n_i}, m_{n_j})/(32*pi**2*\\rho_1*k_1*v_R**2) - sqrt(2)*I*J_{ai}*\\alpha_{13}*\\overline{Q_{Rbj}}*epsilon**2*m_{l_b}*B12_0(m_{H_1^0}, m_{n_i}, m_{n_j})/(32*pi**2*\\rho_1*k_1*v_R**2) + sqrt(2)*I*J_{ai}*\\alpha_{13}*epsilon**2*m_{l_b}*(\\overline{J_{bj}}*m_{n_j} - \\overline{Q_{Rbj}}*m_{l_b}**2)*C2(m_{H_1^0}, m_{l_a}, m_{l_b}, m_{W_2}, m_{n_i}, m_{n_j})/(32*pi**2*\\rho_1*k_1*v_R**2) + sqrt(2)*I*\\alpha_{13}*\\overline{Q_{Rbj}}*epsilon**2*m_{l_a}**2*m_{l_b}*(J_{ai} - Q_{Rai}*m_{n_i})*C1(m_{H_1^0}, m_{l_a}, m_{l_b}, m_{W_2}, m_{n_i}, m_{n_j})/(32*pi**2*\\rho_1*k_1*v_R**2)) + \\overline{\\Omega_{RLij}}*(sqrt(2)*I*J_{ai}*\\overline{Q_{Rbj}}*m_{W_2}**2*m_{l_b}*C0(m_{H_1^0}, m_{l_a}, m_{l_b}, m_{W_2}, m_{n_i}, m_{n_j})/(16*pi**2*k_1*v_R**2) + sqrt(2)*I*J_{ai}*\\overline{Q_{Rbj}}*m_{l_b}*B12_0(m_{H_1^0}, m_{n_i}, m_{n_j})/(16*pi**2*k_1*v_R**2) + sqrt(2)*I*J_{ai}*m_{l_b}*(-\\overline{J_{bj}}*m_{n_j} + \\overline{Q_{Rbj}}*m_{l_b}**2)*C2(m_{H_1^0}, m_{l_a}, m_{l_b}, m_{W_2}, m_{n_i}, m_{n_j})/(16*pi**2*k_1*v_R**2) + sqrt(2)*I*\\overline{Q_{Rbj}}*m_{l_a}**2*m_{l_b}*(-J_{ai} + Q_{Rai}*m_{n_i})*C1(m_{H_1^0}, m_{l_a}, m_{l_b}, m_{W_2}, m_{n_i}, m_{n_j})/(16*pi**2*k_1*v_R**2)) + \\overline{\\Omega_{SRij}}*(sqrt(2)*I*Q_{Rai}*\\alpha_{13}*epsilon**2*m_{l_a}**2*m_{l_b}*(\\overline{J_{bj}} - \\overline{Q_{Rbj}}*m_{n_j})*C1(m_{H_1^0}, m_{l_a}, m_{l_b}, m_{W_2}, m_{n_i}, m_{n_j})/(32*pi**2*\\rho_1*k_1*v_R**2) + sqrt(2)*I*\\alpha_{13}*\\overline{J_{bj}}*epsilon**2*m_{l_b}*(J_{ai}*m_{n_i} - Q_{Rai}*m_{l_a}**2)*C2(m_{H_1^0}, m_{l_a}, m_{l_b}, m_{W_2}, m_{n_i}, m_{n_j})/(32*pi**2*\\rho_1*k_1*v_R**2) + sqrt(2)*I*\\alpha_{13}*epsilon**2*m_{l_b}*(J_{ai}*\\overline{J_{bj}}*m_{n_i} - J_{ai}*\\overline{Q_{Rbj}}*m_{n_i}*m_{n_j} - Q_{Rai}*\\overline{J_{bj}}*m_{l_a}**2 + Q_{Rai}*\\overline{Q_{Rbj}}*m_{l_a}**2*m_{n_j})*C0(m_{H_1^0}, m_{l_a}, m_{l_b}, m_{W_2}, m_{n_i}, m_{n_j})/(32*pi**2*\\rho_1*k_1*v_R**2))"
      ]
     },
     "metadata": {},
     "output_type": "display_data"
    },
    {
     "data": {
      "text/latex": [
       "$\\displaystyle \\Omega_{RLij} \\left(\\frac{\\sqrt{2} i Q_{Rai} \\overline{J_{bj}} m_{W_2}^{2} m_{l_a} C_0(m_{H_1^0}, m_{l_a}, m_{l_b}, m_{W_2}, m_{n_i}, m_{n_j})}{16 \\pi^{2} k_{1} v_{R}^{2}} + \\frac{\\sqrt{2} i Q_{Rai} \\overline{J_{bj}} m_{l_a} B^{\\left(12\\right)}_0(m_{H_1^0}, m_{n_i}, m_{n_j})}{16 \\pi^{2} k_{1} v_{R}^{2}} + \\frac{\\sqrt{2} i Q_{Rai} m_{l_a} m_{l_b}^{2} \\left(\\overline{J_{bj}} - \\overline{Q_{Rbj}} m_{n_j}\\right) C_2(m_{H_1^0}, m_{l_a}, m_{l_b}, m_{W_2}, m_{n_i}, m_{n_j})}{16 \\pi^{2} k_{1} v_{R}^{2}} + \\frac{\\sqrt{2} i \\overline{J_{bj}} m_{l_a} \\left(J_{ai} m_{n_i} - Q_{Rai} m_{l_a}^{2}\\right) C_1(m_{H_1^0}, m_{l_a}, m_{l_b}, m_{W_2}, m_{n_i}, m_{n_j})}{16 \\pi^{2} k_{1} v_{R}^{2}}\\right) + \\Omega_{SRij} \\left(\\frac{\\sqrt{2} i J_{ai} \\alpha_{13} \\epsilon^{2} m_{l_a} \\left(- \\overline{J_{bj}} m_{n_j} + \\overline{Q_{Rbj}} m_{l_b}^{2}\\right) C_1(m_{H_1^0}, m_{l_a}, m_{l_b}, m_{W_2}, m_{n_i}, m_{n_j})}{32 \\pi^{2} \\rho_{1} k_{1} v_{R}^{2}} + \\frac{\\sqrt{2} i \\alpha_{13} \\overline{Q_{Rbj}} \\epsilon^{2} m_{l_a} m_{l_b}^{2} \\left(- J_{ai} + Q_{Rai} m_{n_i}\\right) C_2(m_{H_1^0}, m_{l_a}, m_{l_b}, m_{W_2}, m_{n_i}, m_{n_j})}{32 \\pi^{2} \\rho_{1} k_{1} v_{R}^{2}} + \\frac{\\sqrt{2} i \\alpha_{13} \\epsilon^{2} m_{l_a} \\left(J_{ai} \\overline{J_{bj}} m_{n_j} - J_{ai} \\overline{Q_{Rbj}} m_{l_b}^{2} - Q_{Rai} \\overline{J_{bj}} m_{n_i} m_{n_j} + Q_{Rai} \\overline{Q_{Rbj}} m_{l_b}^{2} m_{n_i}\\right) C_0(m_{H_1^0}, m_{l_a}, m_{l_b}, m_{W_2}, m_{n_i}, m_{n_j})}{32 \\pi^{2} \\rho_{1} k_{1} v_{R}^{2}}\\right) + \\overline{\\Omega_{RLij}} \\left(\\frac{\\sqrt{2} i J_{ai} m_{l_a} \\left(\\overline{J_{bj}} m_{n_j} - \\overline{Q_{Rbj}} m_{l_b}^{2}\\right) C_1(m_{H_1^0}, m_{l_a}, m_{l_b}, m_{W_2}, m_{n_i}, m_{n_j})}{16 \\pi^{2} k_{1} v_{R}^{2}} + \\frac{\\sqrt{2} i \\overline{Q_{Rbj}} m_{l_a} m_{l_b}^{2} \\left(J_{ai} - Q_{Rai} m_{n_i}\\right) C_2(m_{H_1^0}, m_{l_a}, m_{l_b}, m_{W_2}, m_{n_i}, m_{n_j})}{16 \\pi^{2} k_{1} v_{R}^{2}} + \\frac{\\sqrt{2} i m_{l_a} \\left(- J_{ai} \\overline{J_{bj}} m_{n_j} + J_{ai} \\overline{Q_{Rbj}} m_{l_b}^{2} + Q_{Rai} \\overline{J_{bj}} m_{n_i} m_{n_j} - Q_{Rai} \\overline{Q_{Rbj}} m_{l_b}^{2} m_{n_i}\\right) C_0(m_{H_1^0}, m_{l_a}, m_{l_b}, m_{W_2}, m_{n_i}, m_{n_j})}{16 \\pi^{2} k_{1} v_{R}^{2}}\\right) + \\overline{\\Omega_{SRij}} \\left(- \\frac{\\sqrt{2} i Q_{Rai} \\alpha_{13} \\overline{J_{bj}} \\epsilon^{2} m_{W_2}^{2} m_{l_a} C_0(m_{H_1^0}, m_{l_a}, m_{l_b}, m_{W_2}, m_{n_i}, m_{n_j})}{32 \\pi^{2} \\rho_{1} k_{1} v_{R}^{2}} - \\frac{\\sqrt{2} i Q_{Rai} \\alpha_{13} \\overline{J_{bj}} \\epsilon^{2} m_{l_a} B^{\\left(12\\right)}_0(m_{H_1^0}, m_{n_i}, m_{n_j})}{32 \\pi^{2} \\rho_{1} k_{1} v_{R}^{2}} + \\frac{\\sqrt{2} i Q_{Rai} \\alpha_{13} \\epsilon^{2} m_{l_a} m_{l_b}^{2} \\left(- \\overline{J_{bj}} + \\overline{Q_{Rbj}} m_{n_j}\\right) C_2(m_{H_1^0}, m_{l_a}, m_{l_b}, m_{W_2}, m_{n_i}, m_{n_j})}{32 \\pi^{2} \\rho_{1} k_{1} v_{R}^{2}} + \\frac{\\sqrt{2} i \\alpha_{13} \\overline{J_{bj}} \\epsilon^{2} m_{l_a} \\left(- J_{ai} m_{n_i} + Q_{Rai} m_{l_a}^{2}\\right) C_1(m_{H_1^0}, m_{l_a}, m_{l_b}, m_{W_2}, m_{n_i}, m_{n_j})}{32 \\pi^{2} \\rho_{1} k_{1} v_{R}^{2}}\\right)$"
      ],
      "text/plain": [
       "\\Omega_{RLij}*(sqrt(2)*I*Q_{Rai}*\\overline{J_{bj}}*m_{W_2}**2*m_{l_a}*C0(m_{H_1^0}, m_{l_a}, m_{l_b}, m_{W_2}, m_{n_i}, m_{n_j})/(16*pi**2*k_1*v_R**2) + sqrt(2)*I*Q_{Rai}*\\overline{J_{bj}}*m_{l_a}*B12_0(m_{H_1^0}, m_{n_i}, m_{n_j})/(16*pi**2*k_1*v_R**2) + sqrt(2)*I*Q_{Rai}*m_{l_a}*m_{l_b}**2*(\\overline{J_{bj}} - \\overline{Q_{Rbj}}*m_{n_j})*C2(m_{H_1^0}, m_{l_a}, m_{l_b}, m_{W_2}, m_{n_i}, m_{n_j})/(16*pi**2*k_1*v_R**2) + sqrt(2)*I*\\overline{J_{bj}}*m_{l_a}*(J_{ai}*m_{n_i} - Q_{Rai}*m_{l_a}**2)*C1(m_{H_1^0}, m_{l_a}, m_{l_b}, m_{W_2}, m_{n_i}, m_{n_j})/(16*pi**2*k_1*v_R**2)) + \\Omega_{SRij}*(sqrt(2)*I*J_{ai}*\\alpha_{13}*epsilon**2*m_{l_a}*(-\\overline{J_{bj}}*m_{n_j} + \\overline{Q_{Rbj}}*m_{l_b}**2)*C1(m_{H_1^0}, m_{l_a}, m_{l_b}, m_{W_2}, m_{n_i}, m_{n_j})/(32*pi**2*\\rho_1*k_1*v_R**2) + sqrt(2)*I*\\alpha_{13}*\\overline{Q_{Rbj}}*epsilon**2*m_{l_a}*m_{l_b}**2*(-J_{ai} + Q_{Rai}*m_{n_i})*C2(m_{H_1^0}, m_{l_a}, m_{l_b}, m_{W_2}, m_{n_i}, m_{n_j})/(32*pi**2*\\rho_1*k_1*v_R**2) + sqrt(2)*I*\\alpha_{13}*epsilon**2*m_{l_a}*(J_{ai}*\\overline{J_{bj}}*m_{n_j} - J_{ai}*\\overline{Q_{Rbj}}*m_{l_b}**2 - Q_{Rai}*\\overline{J_{bj}}*m_{n_i}*m_{n_j} + Q_{Rai}*\\overline{Q_{Rbj}}*m_{l_b}**2*m_{n_i})*C0(m_{H_1^0}, m_{l_a}, m_{l_b}, m_{W_2}, m_{n_i}, m_{n_j})/(32*pi**2*\\rho_1*k_1*v_R**2)) + \\overline{\\Omega_{RLij}}*(sqrt(2)*I*J_{ai}*m_{l_a}*(\\overline{J_{bj}}*m_{n_j} - \\overline{Q_{Rbj}}*m_{l_b}**2)*C1(m_{H_1^0}, m_{l_a}, m_{l_b}, m_{W_2}, m_{n_i}, m_{n_j})/(16*pi**2*k_1*v_R**2) + sqrt(2)*I*\\overline{Q_{Rbj}}*m_{l_a}*m_{l_b}**2*(J_{ai} - Q_{Rai}*m_{n_i})*C2(m_{H_1^0}, m_{l_a}, m_{l_b}, m_{W_2}, m_{n_i}, m_{n_j})/(16*pi**2*k_1*v_R**2) + sqrt(2)*I*m_{l_a}*(-J_{ai}*\\overline{J_{bj}}*m_{n_j} + J_{ai}*\\overline{Q_{Rbj}}*m_{l_b}**2 + Q_{Rai}*\\overline{J_{bj}}*m_{n_i}*m_{n_j} - Q_{Rai}*\\overline{Q_{Rbj}}*m_{l_b}**2*m_{n_i})*C0(m_{H_1^0}, m_{l_a}, m_{l_b}, m_{W_2}, m_{n_i}, m_{n_j})/(16*pi**2*k_1*v_R**2)) + \\overline{\\Omega_{SRij}}*(-sqrt(2)*I*Q_{Rai}*\\alpha_{13}*\\overline{J_{bj}}*epsilon**2*m_{W_2}**2*m_{l_a}*C0(m_{H_1^0}, m_{l_a}, m_{l_b}, m_{W_2}, m_{n_i}, m_{n_j})/(32*pi**2*\\rho_1*k_1*v_R**2) - sqrt(2)*I*Q_{Rai}*\\alpha_{13}*\\overline{J_{bj}}*epsilon**2*m_{l_a}*B12_0(m_{H_1^0}, m_{n_i}, m_{n_j})/(32*pi**2*\\rho_1*k_1*v_R**2) + sqrt(2)*I*Q_{Rai}*\\alpha_{13}*epsilon**2*m_{l_a}*m_{l_b}**2*(-\\overline{J_{bj}} + \\overline{Q_{Rbj}}*m_{n_j})*C2(m_{H_1^0}, m_{l_a}, m_{l_b}, m_{W_2}, m_{n_i}, m_{n_j})/(32*pi**2*\\rho_1*k_1*v_R**2) + sqrt(2)*I*\\alpha_{13}*\\overline{J_{bj}}*epsilon**2*m_{l_a}*(-J_{ai}*m_{n_i} + Q_{Rai}*m_{l_a}**2)*C1(m_{H_1^0}, m_{l_a}, m_{l_b}, m_{W_2}, m_{n_i}, m_{n_j})/(32*pi**2*\\rho_1*k_1*v_R**2))"
      ]
     },
     "metadata": {},
     "output_type": "display_data"
    },
    {
     "data": {
      "text/latex": [
       "$\\displaystyle \\Omega_{RLij} \\left(\\frac{\\sqrt{2} i Q_{Rai} m_{l_a}^{2} m_{l_b} \\left(- \\overline{K_{bj}} + \\overline{Q_{Rbj}} m_{n_j}\\right) C_1(m_{H_1^0}, m_{l_a}, m_{l_b}, m_{H_R^+}, m_{n_i}, m_{n_j})}{16 \\pi^{2} k_{1}^{3}} + \\frac{\\sqrt{2} i \\overline{K_{bj}} m_{l_b} \\left(- K_{ai} m_{n_i} + Q_{Rai} m_{l_a}^{2}\\right) C_2(m_{H_1^0}, m_{l_a}, m_{l_b}, m_{H_R^+}, m_{n_i}, m_{n_j})}{16 \\pi^{2} k_{1}^{3}} + \\frac{\\sqrt{2} i m_{l_b} \\left(- K_{ai} \\overline{K_{bj}} m_{n_i} + K_{ai} \\overline{Q_{Rbj}} m_{n_i} m_{n_j} + Q_{Rai} \\overline{K_{bj}} m_{l_a}^{2} - Q_{Rai} \\overline{Q_{Rbj}} m_{l_a}^{2} m_{n_j}\\right) C_0(m_{H_1^0}, m_{l_a}, m_{l_b}, m_{H_R^+}, m_{n_i}, m_{n_j})}{16 \\pi^{2} k_{1}^{3}}\\right) + \\Omega_{SRij} \\left(- \\frac{\\sqrt{2} i K_{ai} \\alpha_{13} \\overline{Q_{Rbj}} \\epsilon^{2} \\left(m_{H_R^+}\\right)^{2} m_{l_b} C_0(m_{H_1^0}, m_{l_a}, m_{l_b}, m_{H_R^+}, m_{n_i}, m_{n_j})}{32 \\pi^{2} \\rho_{1} k_{1}^{3}} - \\frac{\\sqrt{2} i K_{ai} \\alpha_{13} \\overline{Q_{Rbj}} \\epsilon^{2} m_{l_b} B^{\\left(12\\right)}_0(m_{H_1^0}, m_{n_i}, m_{n_j})}{32 \\pi^{2} \\rho_{1} k_{1}^{3}} + \\frac{\\sqrt{2} i K_{ai} \\alpha_{13} \\epsilon^{2} m_{l_b} \\left(\\overline{K_{bj}} m_{n_j} - \\overline{Q_{Rbj}} m_{l_b}^{2}\\right) C_2(m_{H_1^0}, m_{l_a}, m_{l_b}, m_{H_R^+}, m_{n_i}, m_{n_j})}{32 \\pi^{2} \\rho_{1} k_{1}^{3}} + \\frac{\\sqrt{2} i \\alpha_{13} \\overline{Q_{Rbj}} \\epsilon^{2} m_{l_a}^{2} m_{l_b} \\left(K_{ai} - Q_{Rai} m_{n_i}\\right) C_1(m_{H_1^0}, m_{l_a}, m_{l_b}, m_{H_R^+}, m_{n_i}, m_{n_j})}{32 \\pi^{2} \\rho_{1} k_{1}^{3}}\\right) + \\overline{\\Omega_{RLij}} \\left(\\frac{\\sqrt{2} i K_{ai} \\overline{Q_{Rbj}} \\left(m_{H_R^+}\\right)^{2} m_{l_b} C_0(m_{H_1^0}, m_{l_a}, m_{l_b}, m_{H_R^+}, m_{n_i}, m_{n_j})}{16 \\pi^{2} k_{1}^{3}} + \\frac{\\sqrt{2} i K_{ai} \\overline{Q_{Rbj}} m_{l_b} B^{\\left(12\\right)}_0(m_{H_1^0}, m_{n_i}, m_{n_j})}{16 \\pi^{2} k_{1}^{3}} + \\frac{\\sqrt{2} i K_{ai} m_{l_b} \\left(- \\overline{K_{bj}} m_{n_j} + \\overline{Q_{Rbj}} m_{l_b}^{2}\\right) C_2(m_{H_1^0}, m_{l_a}, m_{l_b}, m_{H_R^+}, m_{n_i}, m_{n_j})}{16 \\pi^{2} k_{1}^{3}} + \\frac{\\sqrt{2} i \\overline{Q_{Rbj}} m_{l_a}^{2} m_{l_b} \\left(- K_{ai} + Q_{Rai} m_{n_i}\\right) C_1(m_{H_1^0}, m_{l_a}, m_{l_b}, m_{H_R^+}, m_{n_i}, m_{n_j})}{16 \\pi^{2} k_{1}^{3}}\\right) + \\overline{\\Omega_{SRij}} \\left(\\frac{\\sqrt{2} i Q_{Rai} \\alpha_{13} \\epsilon^{2} m_{l_a}^{2} m_{l_b} \\left(\\overline{K_{bj}} - \\overline{Q_{Rbj}} m_{n_j}\\right) C_1(m_{H_1^0}, m_{l_a}, m_{l_b}, m_{H_R^+}, m_{n_i}, m_{n_j})}{32 \\pi^{2} \\rho_{1} k_{1}^{3}} + \\frac{\\sqrt{2} i \\alpha_{13} \\overline{K_{bj}} \\epsilon^{2} m_{l_b} \\left(K_{ai} m_{n_i} - Q_{Rai} m_{l_a}^{2}\\right) C_2(m_{H_1^0}, m_{l_a}, m_{l_b}, m_{H_R^+}, m_{n_i}, m_{n_j})}{32 \\pi^{2} \\rho_{1} k_{1}^{3}} + \\frac{\\sqrt{2} i \\alpha_{13} \\epsilon^{2} m_{l_b} \\left(K_{ai} \\overline{K_{bj}} m_{n_i} - K_{ai} \\overline{Q_{Rbj}} m_{n_i} m_{n_j} - Q_{Rai} \\overline{K_{bj}} m_{l_a}^{2} + Q_{Rai} \\overline{Q_{Rbj}} m_{l_a}^{2} m_{n_j}\\right) C_0(m_{H_1^0}, m_{l_a}, m_{l_b}, m_{H_R^+}, m_{n_i}, m_{n_j})}{32 \\pi^{2} \\rho_{1} k_{1}^{3}}\\right)$"
      ],
      "text/plain": [
       "\\Omega_{RLij}*(sqrt(2)*I*Q_{Rai}*m_{l_a}**2*m_{l_b}*(-\\overline{K_{bj}} + \\overline{Q_{Rbj}}*m_{n_j})*C1(m_{H_1^0}, m_{l_a}, m_{l_b}, m_{H_R^+}, m_{n_i}, m_{n_j})/(16*pi**2*k_1**3) + sqrt(2)*I*\\overline{K_{bj}}*m_{l_b}*(-K_{ai}*m_{n_i} + Q_{Rai}*m_{l_a}**2)*C2(m_{H_1^0}, m_{l_a}, m_{l_b}, m_{H_R^+}, m_{n_i}, m_{n_j})/(16*pi**2*k_1**3) + sqrt(2)*I*m_{l_b}*(-K_{ai}*\\overline{K_{bj}}*m_{n_i} + K_{ai}*\\overline{Q_{Rbj}}*m_{n_i}*m_{n_j} + Q_{Rai}*\\overline{K_{bj}}*m_{l_a}**2 - Q_{Rai}*\\overline{Q_{Rbj}}*m_{l_a}**2*m_{n_j})*C0(m_{H_1^0}, m_{l_a}, m_{l_b}, m_{H_R^+}, m_{n_i}, m_{n_j})/(16*pi**2*k_1**3)) + \\Omega_{SRij}*(-sqrt(2)*I*K_{ai}*\\alpha_{13}*\\overline{Q_{Rbj}}*epsilon**2*m_{H_R^+}**2*m_{l_b}*C0(m_{H_1^0}, m_{l_a}, m_{l_b}, m_{H_R^+}, m_{n_i}, m_{n_j})/(32*pi**2*\\rho_1*k_1**3) - sqrt(2)*I*K_{ai}*\\alpha_{13}*\\overline{Q_{Rbj}}*epsilon**2*m_{l_b}*B12_0(m_{H_1^0}, m_{n_i}, m_{n_j})/(32*pi**2*\\rho_1*k_1**3) + sqrt(2)*I*K_{ai}*\\alpha_{13}*epsilon**2*m_{l_b}*(\\overline{K_{bj}}*m_{n_j} - \\overline{Q_{Rbj}}*m_{l_b}**2)*C2(m_{H_1^0}, m_{l_a}, m_{l_b}, m_{H_R^+}, m_{n_i}, m_{n_j})/(32*pi**2*\\rho_1*k_1**3) + sqrt(2)*I*\\alpha_{13}*\\overline{Q_{Rbj}}*epsilon**2*m_{l_a}**2*m_{l_b}*(K_{ai} - Q_{Rai}*m_{n_i})*C1(m_{H_1^0}, m_{l_a}, m_{l_b}, m_{H_R^+}, m_{n_i}, m_{n_j})/(32*pi**2*\\rho_1*k_1**3)) + \\overline{\\Omega_{RLij}}*(sqrt(2)*I*K_{ai}*\\overline{Q_{Rbj}}*m_{H_R^+}**2*m_{l_b}*C0(m_{H_1^0}, m_{l_a}, m_{l_b}, m_{H_R^+}, m_{n_i}, m_{n_j})/(16*pi**2*k_1**3) + sqrt(2)*I*K_{ai}*\\overline{Q_{Rbj}}*m_{l_b}*B12_0(m_{H_1^0}, m_{n_i}, m_{n_j})/(16*pi**2*k_1**3) + sqrt(2)*I*K_{ai}*m_{l_b}*(-\\overline{K_{bj}}*m_{n_j} + \\overline{Q_{Rbj}}*m_{l_b}**2)*C2(m_{H_1^0}, m_{l_a}, m_{l_b}, m_{H_R^+}, m_{n_i}, m_{n_j})/(16*pi**2*k_1**3) + sqrt(2)*I*\\overline{Q_{Rbj}}*m_{l_a}**2*m_{l_b}*(-K_{ai} + Q_{Rai}*m_{n_i})*C1(m_{H_1^0}, m_{l_a}, m_{l_b}, m_{H_R^+}, m_{n_i}, m_{n_j})/(16*pi**2*k_1**3)) + \\overline{\\Omega_{SRij}}*(sqrt(2)*I*Q_{Rai}*\\alpha_{13}*epsilon**2*m_{l_a}**2*m_{l_b}*(\\overline{K_{bj}} - \\overline{Q_{Rbj}}*m_{n_j})*C1(m_{H_1^0}, m_{l_a}, m_{l_b}, m_{H_R^+}, m_{n_i}, m_{n_j})/(32*pi**2*\\rho_1*k_1**3) + sqrt(2)*I*\\alpha_{13}*\\overline{K_{bj}}*epsilon**2*m_{l_b}*(K_{ai}*m_{n_i} - Q_{Rai}*m_{l_a}**2)*C2(m_{H_1^0}, m_{l_a}, m_{l_b}, m_{H_R^+}, m_{n_i}, m_{n_j})/(32*pi**2*\\rho_1*k_1**3) + sqrt(2)*I*\\alpha_{13}*epsilon**2*m_{l_b}*(K_{ai}*\\overline{K_{bj}}*m_{n_i} - K_{ai}*\\overline{Q_{Rbj}}*m_{n_i}*m_{n_j} - Q_{Rai}*\\overline{K_{bj}}*m_{l_a}**2 + Q_{Rai}*\\overline{Q_{Rbj}}*m_{l_a}**2*m_{n_j})*C0(m_{H_1^0}, m_{l_a}, m_{l_b}, m_{H_R^+}, m_{n_i}, m_{n_j})/(32*pi**2*\\rho_1*k_1**3))"
      ]
     },
     "metadata": {},
     "output_type": "display_data"
    },
    {
     "data": {
      "text/latex": [
       "$\\displaystyle \\Omega_{RLij} \\left(\\frac{\\sqrt{2} i Q_{Rai} \\overline{K_{bj}} \\left(m_{H_R^+}\\right)^{2} m_{l_a} C_0(m_{H_1^0}, m_{l_a}, m_{l_b}, m_{H_R^+}, m_{n_i}, m_{n_j})}{16 \\pi^{2} k_{1}^{3}} + \\frac{\\sqrt{2} i Q_{Rai} \\overline{K_{bj}} m_{l_a} B^{\\left(12\\right)}_0(m_{H_1^0}, m_{n_i}, m_{n_j})}{16 \\pi^{2} k_{1}^{3}} + \\frac{\\sqrt{2} i Q_{Rai} m_{l_a} m_{l_b}^{2} \\left(\\overline{K_{bj}} - \\overline{Q_{Rbj}} m_{n_j}\\right) C_2(m_{H_1^0}, m_{l_a}, m_{l_b}, m_{H_R^+}, m_{n_i}, m_{n_j})}{16 \\pi^{2} k_{1}^{3}} + \\frac{\\sqrt{2} i \\overline{K_{bj}} m_{l_a} \\left(K_{ai} m_{n_i} - Q_{Rai} m_{l_a}^{2}\\right) C_1(m_{H_1^0}, m_{l_a}, m_{l_b}, m_{H_R^+}, m_{n_i}, m_{n_j})}{16 \\pi^{2} k_{1}^{3}}\\right) + \\Omega_{SRij} \\left(\\frac{\\sqrt{2} i K_{ai} \\alpha_{13} \\epsilon^{2} m_{l_a} \\left(- \\overline{K_{bj}} m_{n_j} + \\overline{Q_{Rbj}} m_{l_b}^{2}\\right) C_1(m_{H_1^0}, m_{l_a}, m_{l_b}, m_{H_R^+}, m_{n_i}, m_{n_j})}{32 \\pi^{2} \\rho_{1} k_{1}^{3}} + \\frac{\\sqrt{2} i \\alpha_{13} \\overline{Q_{Rbj}} \\epsilon^{2} m_{l_a} m_{l_b}^{2} \\left(- K_{ai} + Q_{Rai} m_{n_i}\\right) C_2(m_{H_1^0}, m_{l_a}, m_{l_b}, m_{H_R^+}, m_{n_i}, m_{n_j})}{32 \\pi^{2} \\rho_{1} k_{1}^{3}} + \\frac{\\sqrt{2} i \\alpha_{13} \\epsilon^{2} m_{l_a} \\left(K_{ai} \\overline{K_{bj}} m_{n_j} - K_{ai} \\overline{Q_{Rbj}} m_{l_b}^{2} - Q_{Rai} \\overline{K_{bj}} m_{n_i} m_{n_j} + Q_{Rai} \\overline{Q_{Rbj}} m_{l_b}^{2} m_{n_i}\\right) C_0(m_{H_1^0}, m_{l_a}, m_{l_b}, m_{H_R^+}, m_{n_i}, m_{n_j})}{32 \\pi^{2} \\rho_{1} k_{1}^{3}}\\right) + \\overline{\\Omega_{RLij}} \\left(\\frac{\\sqrt{2} i K_{ai} m_{l_a} \\left(\\overline{K_{bj}} m_{n_j} - \\overline{Q_{Rbj}} m_{l_b}^{2}\\right) C_1(m_{H_1^0}, m_{l_a}, m_{l_b}, m_{H_R^+}, m_{n_i}, m_{n_j})}{16 \\pi^{2} k_{1}^{3}} + \\frac{\\sqrt{2} i \\overline{Q_{Rbj}} m_{l_a} m_{l_b}^{2} \\left(K_{ai} - Q_{Rai} m_{n_i}\\right) C_2(m_{H_1^0}, m_{l_a}, m_{l_b}, m_{H_R^+}, m_{n_i}, m_{n_j})}{16 \\pi^{2} k_{1}^{3}} + \\frac{\\sqrt{2} i m_{l_a} \\left(- K_{ai} \\overline{K_{bj}} m_{n_j} + K_{ai} \\overline{Q_{Rbj}} m_{l_b}^{2} + Q_{Rai} \\overline{K_{bj}} m_{n_i} m_{n_j} - Q_{Rai} \\overline{Q_{Rbj}} m_{l_b}^{2} m_{n_i}\\right) C_0(m_{H_1^0}, m_{l_a}, m_{l_b}, m_{H_R^+}, m_{n_i}, m_{n_j})}{16 \\pi^{2} k_{1}^{3}}\\right) + \\overline{\\Omega_{SRij}} \\left(- \\frac{\\sqrt{2} i Q_{Rai} \\alpha_{13} \\overline{K_{bj}} \\epsilon^{2} \\left(m_{H_R^+}\\right)^{2} m_{l_a} C_0(m_{H_1^0}, m_{l_a}, m_{l_b}, m_{H_R^+}, m_{n_i}, m_{n_j})}{32 \\pi^{2} \\rho_{1} k_{1}^{3}} - \\frac{\\sqrt{2} i Q_{Rai} \\alpha_{13} \\overline{K_{bj}} \\epsilon^{2} m_{l_a} B^{\\left(12\\right)}_0(m_{H_1^0}, m_{n_i}, m_{n_j})}{32 \\pi^{2} \\rho_{1} k_{1}^{3}} + \\frac{\\sqrt{2} i Q_{Rai} \\alpha_{13} \\epsilon^{2} m_{l_a} m_{l_b}^{2} \\left(- \\overline{K_{bj}} + \\overline{Q_{Rbj}} m_{n_j}\\right) C_2(m_{H_1^0}, m_{l_a}, m_{l_b}, m_{H_R^+}, m_{n_i}, m_{n_j})}{32 \\pi^{2} \\rho_{1} k_{1}^{3}} + \\frac{\\sqrt{2} i \\alpha_{13} \\overline{K_{bj}} \\epsilon^{2} m_{l_a} \\left(- K_{ai} m_{n_i} + Q_{Rai} m_{l_a}^{2}\\right) C_1(m_{H_1^0}, m_{l_a}, m_{l_b}, m_{H_R^+}, m_{n_i}, m_{n_j})}{32 \\pi^{2} \\rho_{1} k_{1}^{3}}\\right)$"
      ],
      "text/plain": [
       "\\Omega_{RLij}*(sqrt(2)*I*Q_{Rai}*\\overline{K_{bj}}*m_{H_R^+}**2*m_{l_a}*C0(m_{H_1^0}, m_{l_a}, m_{l_b}, m_{H_R^+}, m_{n_i}, m_{n_j})/(16*pi**2*k_1**3) + sqrt(2)*I*Q_{Rai}*\\overline{K_{bj}}*m_{l_a}*B12_0(m_{H_1^0}, m_{n_i}, m_{n_j})/(16*pi**2*k_1**3) + sqrt(2)*I*Q_{Rai}*m_{l_a}*m_{l_b}**2*(\\overline{K_{bj}} - \\overline{Q_{Rbj}}*m_{n_j})*C2(m_{H_1^0}, m_{l_a}, m_{l_b}, m_{H_R^+}, m_{n_i}, m_{n_j})/(16*pi**2*k_1**3) + sqrt(2)*I*\\overline{K_{bj}}*m_{l_a}*(K_{ai}*m_{n_i} - Q_{Rai}*m_{l_a}**2)*C1(m_{H_1^0}, m_{l_a}, m_{l_b}, m_{H_R^+}, m_{n_i}, m_{n_j})/(16*pi**2*k_1**3)) + \\Omega_{SRij}*(sqrt(2)*I*K_{ai}*\\alpha_{13}*epsilon**2*m_{l_a}*(-\\overline{K_{bj}}*m_{n_j} + \\overline{Q_{Rbj}}*m_{l_b}**2)*C1(m_{H_1^0}, m_{l_a}, m_{l_b}, m_{H_R^+}, m_{n_i}, m_{n_j})/(32*pi**2*\\rho_1*k_1**3) + sqrt(2)*I*\\alpha_{13}*\\overline{Q_{Rbj}}*epsilon**2*m_{l_a}*m_{l_b}**2*(-K_{ai} + Q_{Rai}*m_{n_i})*C2(m_{H_1^0}, m_{l_a}, m_{l_b}, m_{H_R^+}, m_{n_i}, m_{n_j})/(32*pi**2*\\rho_1*k_1**3) + sqrt(2)*I*\\alpha_{13}*epsilon**2*m_{l_a}*(K_{ai}*\\overline{K_{bj}}*m_{n_j} - K_{ai}*\\overline{Q_{Rbj}}*m_{l_b}**2 - Q_{Rai}*\\overline{K_{bj}}*m_{n_i}*m_{n_j} + Q_{Rai}*\\overline{Q_{Rbj}}*m_{l_b}**2*m_{n_i})*C0(m_{H_1^0}, m_{l_a}, m_{l_b}, m_{H_R^+}, m_{n_i}, m_{n_j})/(32*pi**2*\\rho_1*k_1**3)) + \\overline{\\Omega_{RLij}}*(sqrt(2)*I*K_{ai}*m_{l_a}*(\\overline{K_{bj}}*m_{n_j} - \\overline{Q_{Rbj}}*m_{l_b}**2)*C1(m_{H_1^0}, m_{l_a}, m_{l_b}, m_{H_R^+}, m_{n_i}, m_{n_j})/(16*pi**2*k_1**3) + sqrt(2)*I*\\overline{Q_{Rbj}}*m_{l_a}*m_{l_b}**2*(K_{ai} - Q_{Rai}*m_{n_i})*C2(m_{H_1^0}, m_{l_a}, m_{l_b}, m_{H_R^+}, m_{n_i}, m_{n_j})/(16*pi**2*k_1**3) + sqrt(2)*I*m_{l_a}*(-K_{ai}*\\overline{K_{bj}}*m_{n_j} + K_{ai}*\\overline{Q_{Rbj}}*m_{l_b}**2 + Q_{Rai}*\\overline{K_{bj}}*m_{n_i}*m_{n_j} - Q_{Rai}*\\overline{Q_{Rbj}}*m_{l_b}**2*m_{n_i})*C0(m_{H_1^0}, m_{l_a}, m_{l_b}, m_{H_R^+}, m_{n_i}, m_{n_j})/(16*pi**2*k_1**3)) + \\overline{\\Omega_{SRij}}*(-sqrt(2)*I*Q_{Rai}*\\alpha_{13}*\\overline{K_{bj}}*epsilon**2*m_{H_R^+}**2*m_{l_a}*C0(m_{H_1^0}, m_{l_a}, m_{l_b}, m_{H_R^+}, m_{n_i}, m_{n_j})/(32*pi**2*\\rho_1*k_1**3) - sqrt(2)*I*Q_{Rai}*\\alpha_{13}*\\overline{K_{bj}}*epsilon**2*m_{l_a}*B12_0(m_{H_1^0}, m_{n_i}, m_{n_j})/(32*pi**2*\\rho_1*k_1**3) + sqrt(2)*I*Q_{Rai}*\\alpha_{13}*epsilon**2*m_{l_a}*m_{l_b}**2*(-\\overline{K_{bj}} + \\overline{Q_{Rbj}}*m_{n_j})*C2(m_{H_1^0}, m_{l_a}, m_{l_b}, m_{H_R^+}, m_{n_i}, m_{n_j})/(32*pi**2*\\rho_1*k_1**3) + sqrt(2)*I*\\alpha_{13}*\\overline{K_{bj}}*epsilon**2*m_{l_a}*(-K_{ai}*m_{n_i} + Q_{Rai}*m_{l_a}**2)*C1(m_{H_1^0}, m_{l_a}, m_{l_b}, m_{H_R^+}, m_{n_i}, m_{n_j})/(32*pi**2*\\rho_1*k_1**3))"
      ]
     },
     "metadata": {},
     "output_type": "display_data"
    },
    {
     "data": {
      "text/latex": [
       "$\\displaystyle - \\frac{\\sqrt{2} i Q_{Lai} \\Omega_{RLij} \\overline{Q_{Lbj}} g^{2} m_{l_a} m_{n_i} C_1(m_{H_1^0}, m_{l_a}, m_{l_b}, m_{W_1}, m_{n_i}, m_{n_j})}{64 \\pi^{2} k_{1}} + \\frac{\\sqrt{2} i Q_{Lai} \\alpha_{13} \\overline{Q_{Lbj}} \\overline{\\Omega_{SRij}} \\epsilon^{2} g^{2} m_{l_a} m_{n_i} C_1(m_{H_1^0}, m_{l_a}, m_{l_b}, m_{W_1}, m_{n_i}, m_{n_j})}{128 \\pi^{2} \\rho_{1} k_{1}} + \\Omega_{SRij} \\left(- \\frac{\\sqrt{2} i Q_{Lai} \\alpha_{13} \\overline{Q_{Lbj}} \\epsilon^{2} g^{2} m_{l_a} m_{n_j} C_0(m_{H_1^0}, m_{l_a}, m_{l_b}, m_{W_1}, m_{n_i}, m_{n_j})}{128 \\pi^{2} \\rho_{1} k_{1}} + \\frac{\\sqrt{2} i Q_{Lai} \\alpha_{13} \\overline{Q_{Lbj}} \\epsilon^{2} g^{2} m_{l_a} m_{n_j} C_1(m_{H_1^0}, m_{l_a}, m_{l_b}, m_{W_1}, m_{n_i}, m_{n_j})}{128 \\pi^{2} \\rho_{1} k_{1}}\\right) + \\overline{\\Omega_{RLij}} \\left(\\frac{\\sqrt{2} i Q_{Lai} \\overline{Q_{Lbj}} g^{2} m_{l_a} m_{n_j} C_0(m_{H_1^0}, m_{l_a}, m_{l_b}, m_{W_1}, m_{n_i}, m_{n_j})}{64 \\pi^{2} k_{1}} - \\frac{\\sqrt{2} i Q_{Lai} \\overline{Q_{Lbj}} g^{2} m_{l_a} m_{n_j} C_1(m_{H_1^0}, m_{l_a}, m_{l_b}, m_{W_1}, m_{n_i}, m_{n_j})}{64 \\pi^{2} k_{1}}\\right)$"
      ],
      "text/plain": [
       "-sqrt(2)*I*Q_{Lai}*\\Omega_{RLij}*\\overline{Q_{Lbj}}*g**2*m_{l_a}*m_{n_i}*C1(m_{H_1^0}, m_{l_a}, m_{l_b}, m_{W_1}, m_{n_i}, m_{n_j})/(64*pi**2*k_1) + sqrt(2)*I*Q_{Lai}*\\alpha_{13}*\\overline{Q_{Lbj}}*\\overline{\\Omega_{SRij}}*epsilon**2*g**2*m_{l_a}*m_{n_i}*C1(m_{H_1^0}, m_{l_a}, m_{l_b}, m_{W_1}, m_{n_i}, m_{n_j})/(128*pi**2*\\rho_1*k_1) + \\Omega_{SRij}*(-sqrt(2)*I*Q_{Lai}*\\alpha_{13}*\\overline{Q_{Lbj}}*epsilon**2*g**2*m_{l_a}*m_{n_j}*C0(m_{H_1^0}, m_{l_a}, m_{l_b}, m_{W_1}, m_{n_i}, m_{n_j})/(128*pi**2*\\rho_1*k_1) + sqrt(2)*I*Q_{Lai}*\\alpha_{13}*\\overline{Q_{Lbj}}*epsilon**2*g**2*m_{l_a}*m_{n_j}*C1(m_{H_1^0}, m_{l_a}, m_{l_b}, m_{W_1}, m_{n_i}, m_{n_j})/(128*pi**2*\\rho_1*k_1)) + \\overline{\\Omega_{RLij}}*(sqrt(2)*I*Q_{Lai}*\\overline{Q_{Lbj}}*g**2*m_{l_a}*m_{n_j}*C0(m_{H_1^0}, m_{l_a}, m_{l_b}, m_{W_1}, m_{n_i}, m_{n_j})/(64*pi**2*k_1) - sqrt(2)*I*Q_{Lai}*\\overline{Q_{Lbj}}*g**2*m_{l_a}*m_{n_j}*C1(m_{H_1^0}, m_{l_a}, m_{l_b}, m_{W_1}, m_{n_i}, m_{n_j})/(64*pi**2*k_1))"
      ]
     },
     "metadata": {},
     "output_type": "display_data"
    },
    {
     "data": {
      "text/latex": [
       "$\\displaystyle - \\frac{\\sqrt{2} i Q_{Lai} \\Omega_{SRij} \\alpha_{13} \\overline{Q_{Lbj}} \\epsilon^{2} g^{2} m_{l_b} m_{n_j} C_2(m_{H_1^0}, m_{l_a}, m_{l_b}, m_{W_1}, m_{n_i}, m_{n_j})}{128 \\pi^{2} \\rho_{1} k_{1}} + \\frac{\\sqrt{2} i Q_{Lai} \\overline{Q_{Lbj}} \\overline{\\Omega_{RLij}} g^{2} m_{l_b} m_{n_j} C_2(m_{H_1^0}, m_{l_a}, m_{l_b}, m_{W_1}, m_{n_i}, m_{n_j})}{64 \\pi^{2} k_{1}} + \\Omega_{RLij} \\left(\\frac{\\sqrt{2} i Q_{Lai} \\overline{Q_{Lbj}} g^{2} m_{l_b} m_{n_i} C_0(m_{H_1^0}, m_{l_a}, m_{l_b}, m_{W_1}, m_{n_i}, m_{n_j})}{64 \\pi^{2} k_{1}} + \\frac{\\sqrt{2} i Q_{Lai} \\overline{Q_{Lbj}} g^{2} m_{l_b} m_{n_i} C_2(m_{H_1^0}, m_{l_a}, m_{l_b}, m_{W_1}, m_{n_i}, m_{n_j})}{64 \\pi^{2} k_{1}}\\right) + \\overline{\\Omega_{SRij}} \\left(- \\frac{\\sqrt{2} i Q_{Lai} \\alpha_{13} \\overline{Q_{Lbj}} \\epsilon^{2} g^{2} m_{l_b} m_{n_i} C_0(m_{H_1^0}, m_{l_a}, m_{l_b}, m_{W_1}, m_{n_i}, m_{n_j})}{128 \\pi^{2} \\rho_{1} k_{1}} - \\frac{\\sqrt{2} i Q_{Lai} \\alpha_{13} \\overline{Q_{Lbj}} \\epsilon^{2} g^{2} m_{l_b} m_{n_i} C_2(m_{H_1^0}, m_{l_a}, m_{l_b}, m_{W_1}, m_{n_i}, m_{n_j})}{128 \\pi^{2} \\rho_{1} k_{1}}\\right)$"
      ],
      "text/plain": [
       "-sqrt(2)*I*Q_{Lai}*\\Omega_{SRij}*\\alpha_{13}*\\overline{Q_{Lbj}}*epsilon**2*g**2*m_{l_b}*m_{n_j}*C2(m_{H_1^0}, m_{l_a}, m_{l_b}, m_{W_1}, m_{n_i}, m_{n_j})/(128*pi**2*\\rho_1*k_1) + sqrt(2)*I*Q_{Lai}*\\overline{Q_{Lbj}}*\\overline{\\Omega_{RLij}}*g**2*m_{l_b}*m_{n_j}*C2(m_{H_1^0}, m_{l_a}, m_{l_b}, m_{W_1}, m_{n_i}, m_{n_j})/(64*pi**2*k_1) + \\Omega_{RLij}*(sqrt(2)*I*Q_{Lai}*\\overline{Q_{Lbj}}*g**2*m_{l_b}*m_{n_i}*C0(m_{H_1^0}, m_{l_a}, m_{l_b}, m_{W_1}, m_{n_i}, m_{n_j})/(64*pi**2*k_1) + sqrt(2)*I*Q_{Lai}*\\overline{Q_{Lbj}}*g**2*m_{l_b}*m_{n_i}*C2(m_{H_1^0}, m_{l_a}, m_{l_b}, m_{W_1}, m_{n_i}, m_{n_j})/(64*pi**2*k_1)) + \\overline{\\Omega_{SRij}}*(-sqrt(2)*I*Q_{Lai}*\\alpha_{13}*\\overline{Q_{Lbj}}*epsilon**2*g**2*m_{l_b}*m_{n_i}*C0(m_{H_1^0}, m_{l_a}, m_{l_b}, m_{W_1}, m_{n_i}, m_{n_j})/(128*pi**2*\\rho_1*k_1) - sqrt(2)*I*Q_{Lai}*\\alpha_{13}*\\overline{Q_{Lbj}}*epsilon**2*g**2*m_{l_b}*m_{n_i}*C2(m_{H_1^0}, m_{l_a}, m_{l_b}, m_{W_1}, m_{n_i}, m_{n_j})/(128*pi**2*\\rho_1*k_1))"
      ]
     },
     "metadata": {},
     "output_type": "display_data"
    },
    {
     "data": {
      "text/latex": [
       "$\\displaystyle \\frac{\\sqrt{2} i Q_{Rai} \\Omega_{RLij} \\overline{Q_{Rbj}} g^{2} m_{l_b} m_{n_j} C_2(m_{H_1^0}, m_{l_a}, m_{l_b}, m_{W_2}, m_{n_i}, m_{n_j})}{64 \\pi^{2} k_{1}} - \\frac{\\sqrt{2} i Q_{Rai} \\alpha_{13} \\overline{Q_{Rbj}} \\overline{\\Omega_{SRij}} \\epsilon^{2} g^{2} m_{l_b} m_{n_j} C_2(m_{H_1^0}, m_{l_a}, m_{l_b}, m_{W_2}, m_{n_i}, m_{n_j})}{128 \\pi^{2} \\rho_{1} k_{1}} + \\Omega_{SRij} \\left(- \\frac{\\sqrt{2} i Q_{Rai} \\alpha_{13} \\overline{Q_{Rbj}} \\epsilon^{2} g^{2} m_{l_b} m_{n_i} C_0(m_{H_1^0}, m_{l_a}, m_{l_b}, m_{W_2}, m_{n_i}, m_{n_j})}{128 \\pi^{2} \\rho_{1} k_{1}} - \\frac{\\sqrt{2} i Q_{Rai} \\alpha_{13} \\overline{Q_{Rbj}} \\epsilon^{2} g^{2} m_{l_b} m_{n_i} C_2(m_{H_1^0}, m_{l_a}, m_{l_b}, m_{W_2}, m_{n_i}, m_{n_j})}{128 \\pi^{2} \\rho_{1} k_{1}}\\right) + \\overline{\\Omega_{RLij}} \\left(\\frac{\\sqrt{2} i Q_{Rai} \\overline{Q_{Rbj}} g^{2} m_{l_b} m_{n_i} C_0(m_{H_1^0}, m_{l_a}, m_{l_b}, m_{W_2}, m_{n_i}, m_{n_j})}{64 \\pi^{2} k_{1}} + \\frac{\\sqrt{2} i Q_{Rai} \\overline{Q_{Rbj}} g^{2} m_{l_b} m_{n_i} C_2(m_{H_1^0}, m_{l_a}, m_{l_b}, m_{W_2}, m_{n_i}, m_{n_j})}{64 \\pi^{2} k_{1}}\\right)$"
      ],
      "text/plain": [
       "sqrt(2)*I*Q_{Rai}*\\Omega_{RLij}*\\overline{Q_{Rbj}}*g**2*m_{l_b}*m_{n_j}*C2(m_{H_1^0}, m_{l_a}, m_{l_b}, m_{W_2}, m_{n_i}, m_{n_j})/(64*pi**2*k_1) - sqrt(2)*I*Q_{Rai}*\\alpha_{13}*\\overline{Q_{Rbj}}*\\overline{\\Omega_{SRij}}*epsilon**2*g**2*m_{l_b}*m_{n_j}*C2(m_{H_1^0}, m_{l_a}, m_{l_b}, m_{W_2}, m_{n_i}, m_{n_j})/(128*pi**2*\\rho_1*k_1) + \\Omega_{SRij}*(-sqrt(2)*I*Q_{Rai}*\\alpha_{13}*\\overline{Q_{Rbj}}*epsilon**2*g**2*m_{l_b}*m_{n_i}*C0(m_{H_1^0}, m_{l_a}, m_{l_b}, m_{W_2}, m_{n_i}, m_{n_j})/(128*pi**2*\\rho_1*k_1) - sqrt(2)*I*Q_{Rai}*\\alpha_{13}*\\overline{Q_{Rbj}}*epsilon**2*g**2*m_{l_b}*m_{n_i}*C2(m_{H_1^0}, m_{l_a}, m_{l_b}, m_{W_2}, m_{n_i}, m_{n_j})/(128*pi**2*\\rho_1*k_1)) + \\overline{\\Omega_{RLij}}*(sqrt(2)*I*Q_{Rai}*\\overline{Q_{Rbj}}*g**2*m_{l_b}*m_{n_i}*C0(m_{H_1^0}, m_{l_a}, m_{l_b}, m_{W_2}, m_{n_i}, m_{n_j})/(64*pi**2*k_1) + sqrt(2)*I*Q_{Rai}*\\overline{Q_{Rbj}}*g**2*m_{l_b}*m_{n_i}*C2(m_{H_1^0}, m_{l_a}, m_{l_b}, m_{W_2}, m_{n_i}, m_{n_j})/(64*pi**2*k_1))"
      ]
     },
     "metadata": {},
     "output_type": "display_data"
    },
    {
     "data": {
      "text/latex": [
       "$\\displaystyle \\frac{\\sqrt{2} i Q_{Rai} \\Omega_{SRij} \\alpha_{13} \\overline{Q_{Rbj}} \\epsilon^{2} g^{2} m_{l_a} m_{n_i} C_1(m_{H_1^0}, m_{l_a}, m_{l_b}, m_{W_2}, m_{n_i}, m_{n_j})}{128 \\pi^{2} \\rho_{1} k_{1}} - \\frac{\\sqrt{2} i Q_{Rai} \\overline{Q_{Rbj}} \\overline{\\Omega_{RLij}} g^{2} m_{l_a} m_{n_i} C_1(m_{H_1^0}, m_{l_a}, m_{l_b}, m_{W_2}, m_{n_i}, m_{n_j})}{64 \\pi^{2} k_{1}} + \\Omega_{RLij} \\left(\\frac{\\sqrt{2} i Q_{Rai} \\overline{Q_{Rbj}} g^{2} m_{l_a} m_{n_j} C_0(m_{H_1^0}, m_{l_a}, m_{l_b}, m_{W_2}, m_{n_i}, m_{n_j})}{64 \\pi^{2} k_{1}} - \\frac{\\sqrt{2} i Q_{Rai} \\overline{Q_{Rbj}} g^{2} m_{l_a} m_{n_j} C_1(m_{H_1^0}, m_{l_a}, m_{l_b}, m_{W_2}, m_{n_i}, m_{n_j})}{64 \\pi^{2} k_{1}}\\right) + \\overline{\\Omega_{SRij}} \\left(- \\frac{\\sqrt{2} i Q_{Rai} \\alpha_{13} \\overline{Q_{Rbj}} \\epsilon^{2} g^{2} m_{l_a} m_{n_j} C_0(m_{H_1^0}, m_{l_a}, m_{l_b}, m_{W_2}, m_{n_i}, m_{n_j})}{128 \\pi^{2} \\rho_{1} k_{1}} + \\frac{\\sqrt{2} i Q_{Rai} \\alpha_{13} \\overline{Q_{Rbj}} \\epsilon^{2} g^{2} m_{l_a} m_{n_j} C_1(m_{H_1^0}, m_{l_a}, m_{l_b}, m_{W_2}, m_{n_i}, m_{n_j})}{128 \\pi^{2} \\rho_{1} k_{1}}\\right)$"
      ],
      "text/plain": [
       "sqrt(2)*I*Q_{Rai}*\\Omega_{SRij}*\\alpha_{13}*\\overline{Q_{Rbj}}*epsilon**2*g**2*m_{l_a}*m_{n_i}*C1(m_{H_1^0}, m_{l_a}, m_{l_b}, m_{W_2}, m_{n_i}, m_{n_j})/(128*pi**2*\\rho_1*k_1) - sqrt(2)*I*Q_{Rai}*\\overline{Q_{Rbj}}*\\overline{\\Omega_{RLij}}*g**2*m_{l_a}*m_{n_i}*C1(m_{H_1^0}, m_{l_a}, m_{l_b}, m_{W_2}, m_{n_i}, m_{n_j})/(64*pi**2*k_1) + \\Omega_{RLij}*(sqrt(2)*I*Q_{Rai}*\\overline{Q_{Rbj}}*g**2*m_{l_a}*m_{n_j}*C0(m_{H_1^0}, m_{l_a}, m_{l_b}, m_{W_2}, m_{n_i}, m_{n_j})/(64*pi**2*k_1) - sqrt(2)*I*Q_{Rai}*\\overline{Q_{Rbj}}*g**2*m_{l_a}*m_{n_j}*C1(m_{H_1^0}, m_{l_a}, m_{l_b}, m_{W_2}, m_{n_i}, m_{n_j})/(64*pi**2*k_1)) + \\overline{\\Omega_{SRij}}*(-sqrt(2)*I*Q_{Rai}*\\alpha_{13}*\\overline{Q_{Rbj}}*epsilon**2*g**2*m_{l_a}*m_{n_j}*C0(m_{H_1^0}, m_{l_a}, m_{l_b}, m_{W_2}, m_{n_i}, m_{n_j})/(128*pi**2*\\rho_1*k_1) + sqrt(2)*I*Q_{Rai}*\\alpha_{13}*\\overline{Q_{Rbj}}*epsilon**2*g**2*m_{l_a}*m_{n_j}*C1(m_{H_1^0}, m_{l_a}, m_{l_b}, m_{W_2}, m_{n_i}, m_{n_j})/(128*pi**2*\\rho_1*k_1))"
      ]
     },
     "metadata": {},
     "output_type": "display_data"
    }
   ],
   "source": [
    "symbolic_formfactor_factored_two_neutrinos = {}\n",
    "for diagram, formfactors in symbolic_formfactor.items():\n",
    "    factored_formfactors = {}\n",
    "    if diagram in two_neutrinos_diagrams:\n",
    "        for ff_name, ff_expr in formfactors.items():\n",
    "            if ff_name == 'AL':\n",
    "                ff_AL_PV_functions = ff_expr.atoms(Function)\n",
    "                ff_AL_factored = ff_expr.expand().collect([OmegaRLij, OmegaRLijc, OmegaSRij, OmegaSRijc], lambda x:x.collect(ff_AL_PV_functions, simplify))\n",
    "                display(ff_AL_factored)\n",
    "                factored_formfactors[ff_name] = ff_AL_factored\n",
    "            elif ff_name == 'AR':\n",
    "                ff_AR_PV_functions = ff_expr.atoms(Function)\n",
    "                ff_AR_factored = ff_expr.expand().collect([OmegaRLij, OmegaRLijc, OmegaSRij, OmegaSRijc], lambda x:x.collect(ff_AR_PV_functions, simplify))\n",
    "                display(ff_AR_factored)\n",
    "                factored_formfactors[ff_name] = ff_AR_factored\n",
    "            else:\n",
    "                # For other form factors, just use the original expression\n",
    "                factored_formfactors[ff_name] = ff_expr\n",
    "        symbolic_formfactor_factored_two_neutrinos[diagram] = factored_formfactors\n",
    "            "
   ]
  },
  {
   "cell_type": "code",
   "execution_count": 151,
   "id": "e97e2e9b",
   "metadata": {},
   "outputs": [],
   "source": [
    "from sympy import Function, sympify\n",
    "AL = Function('A_L')\n",
    "AR = Function('A_R')"
   ]
  },
  {
   "cell_type": "code",
   "execution_count": 161,
   "id": "05f8b85e",
   "metadata": {},
   "outputs": [],
   "source": [
    "field_string_name_replacements = {\n",
    "    'ni': 'n_i',\n",
    "    'nj': 'n_j',\n",
    "    'W1p': 'W^p',\n",
    "    'W2m': 'W_2^m',\n",
    "    'W1m': 'W^m',\n",
    "    'W2p': 'W_2^p',\n",
    "    'GRp': 'G_R^p',\n",
    "    'GRm': 'G_R^m',\n",
    "    'GLp': 'G_L^p',\n",
    "    'GLm': 'G_L^m',\n",
    "    'HRp': 'H_R^p',\n",
    "    'HRm': 'H_R^m',\n",
    "}\n",
    "field_string_name_replacements_no_charge = {\n",
    "    'GL': 'G_L',\n",
    "    'GR': 'G_R',\n",
    "    'HR': 'H_R',\n",
    "    'W1': 'W',\n",
    "    'W2': r'W_2'\n",
    "    }"
   ]
  },
  {
   "cell_type": "code",
   "execution_count": 198,
   "id": "af6f7e31",
   "metadata": {},
   "outputs": [
    {
     "name": "stdout",
     "output_type": "stream",
     "text": [
      "A_{L}{\\left(\\left( G_{L}, \\  n_{i} n_{j}\\right) \\right)} = & \\Omega_{RLij} \\left(\\frac{\\sqrt{2} i Q_{Lbj}^* m_{l_a} m_{l_b}^{2} \\left(- Q_{Lai} m_{n_i} + T_{RLia}^*\\right) C_2(m_{H_1^0}, m_{l_a}, m_{l_b}, m_{W_1}, m_{n_i}, m_{n_j})}{16 \\pi^{2} k_{1}^{3}} + \\frac{\\sqrt{2} i T_{RLia}^* m_{l_a} \\left(T_{RLjb} m_{n_j} - Q_{Lbj}^* m_{l_b}^{2}\\right) C_1(m_{H_1^0}, m_{l_a}, m_{l_b}, m_{W_1}, m_{n_i}, m_{n_j})}{16 \\pi^{2} k_{1}^{3}} + \\frac{\\sqrt{2} i m_{l_a} \\left(Q_{Lai} T_{RLjb} m_{n_i} m_{n_j} - Q_{Lai} Q_{Lbj}^* m_{l_b}^{2} m_{n_i} - T_{RLjb} T_{RLia}^* m_{n_j} + Q_{Lbj}^* T_{RLia}^* m_{l_b}^{2}\\right) C_0(m_{H_1^0}, m_{l_a}, m_{l_b}, m_{W_1}, m_{n_i}, m_{n_j})}{16 \\pi^{2} k_{1}^{3}}\\right) \\\\\n",
      "& + \\Omega_{SRij} \\left(- \\frac{\\sqrt{2} i Q_{Lai} T_{RLjb} \\alpha_{13} \\epsilon^{2} m_{W_1}^{2} m_{l_a} C_0(m_{H_1^0}, m_{l_a}, m_{l_b}, m_{W_1}, m_{n_i}, m_{n_j})}{32 \\pi^{2} \\rho_{1} k_{1}^{3}} - \\frac{\\sqrt{2} i Q_{Lai} T_{RLjb} \\alpha_{13} \\epsilon^{2} m_{l_a} B^{\\left(12\\right)}_0(m_{H_1^0}, m_{n_i}, m_{n_j})}{32 \\pi^{2} \\rho_{1} k_{1}^{3}} + \\frac{\\sqrt{2} i Q_{Lai} \\alpha_{13} \\epsilon^{2} m_{l_a} m_{l_b}^{2} \\left(- T_{RLjb} + Q_{Lbj}^* m_{n_j}\\right) C_2(m_{H_1^0}, m_{l_a}, m_{l_b}, m_{W_1}, m_{n_i}, m_{n_j})}{32 \\pi^{2} \\rho_{1} k_{1}^{3}} + \\frac{\\sqrt{2} i T_{RLjb} \\alpha_{13} \\epsilon^{2} m_{l_a} \\left(Q_{Lai} m_{l_a}^{2} - T_{RLia}^* m_{n_i}\\right) C_1(m_{H_1^0}, m_{l_a}, m_{l_b}, m_{W_1}, m_{n_i}, m_{n_j})}{32 \\pi^{2} \\rho_{1} k_{1}^{3}}\\right) \\\\\n",
      "& + \\Omega_{RLij}^* \\left(\\frac{\\sqrt{2} i Q_{Lai} T_{RLjb} m_{W_1}^{2} m_{l_a} C_0(m_{H_1^0}, m_{l_a}, m_{l_b}, m_{W_1}, m_{n_i}, m_{n_j})}{16 \\pi^{2} k_{1}^{3}} + \\frac{\\sqrt{2} i Q_{Lai} T_{RLjb} m_{l_a} B^{\\left(12\\right)}_0(m_{H_1^0}, m_{n_i}, m_{n_j})}{16 \\pi^{2} k_{1}^{3}} + \\frac{\\sqrt{2} i Q_{Lai} m_{l_a} m_{l_b}^{2} \\left(T_{RLjb} - Q_{Lbj}^* m_{n_j}\\right) C_2(m_{H_1^0}, m_{l_a}, m_{l_b}, m_{W_1}, m_{n_i}, m_{n_j})}{16 \\pi^{2} k_{1}^{3}} + \\frac{\\sqrt{2} i T_{RLjb} m_{l_a} \\left(- Q_{Lai} m_{l_a}^{2} + T_{RLia}^* m_{n_i}\\right) C_1(m_{H_1^0}, m_{l_a}, m_{l_b}, m_{W_1}, m_{n_i}, m_{n_j})}{16 \\pi^{2} k_{1}^{3}}\\right) \\\\\n",
      "& + \\Omega_{SRij}^* \\left(\\frac{\\sqrt{2} i \\alpha_{13} Q_{Lbj}^* \\epsilon^{2} m_{l_a} m_{l_b}^{2} \\left(Q_{Lai} m_{n_i} - T_{RLia}^*\\right) C_2(m_{H_1^0}, m_{l_a}, m_{l_b}, m_{W_1}, m_{n_i}, m_{n_j})}{32 \\pi^{2} \\rho_{1} k_{1}^{3}} + \\frac{\\sqrt{2} i \\alpha_{13} T_{RLia}^* \\epsilon^{2} m_{l_a} \\left(- T_{RLjb} m_{n_j} + Q_{Lbj}^* m_{l_b}^{2}\\right) C_1(m_{H_1^0}, m_{l_a}, m_{l_b}, m_{W_1}, m_{n_i}, m_{n_j})}{32 \\pi^{2} \\rho_{1} k_{1}^{3}} + \\frac{\\sqrt{2} i \\alpha_{13} \\epsilon^{2} m_{l_a} \\left(- Q_{Lai} T_{RLjb} m_{n_i} m_{n_j} + Q_{Lai} Q_{Lbj}^* m_{l_b}^{2} m_{n_i} + T_{RLjb} T_{RLia}^* m_{n_j} - Q_{Lbj}^* T_{RLia}^* m_{l_b}^{2}\\right) C_0(m_{H_1^0}, m_{l_a}, m_{l_b}, m_{W_1}, m_{n_i}, m_{n_j})}{32 \\pi^{2} \\rho_{1} k_{1}^{3}}\\right) \\\\\n",
      "A_{R}{\\left(\\left( G_{L}, \\  n_{i} n_{j}\\right) \\right)} = & \\Omega_{RLij} \\left(\\frac{\\sqrt{2} i Q_{Lbj}^* T_{RLia}^* m_{W_1}^{2} m_{l_b} C_0(m_{H_1^0}, m_{l_a}, m_{l_b}, m_{W_1}, m_{n_i}, m_{n_j})}{16 \\pi^{2} k_{1}^{3}} + \\frac{\\sqrt{2} i Q_{Lbj}^* T_{RLia}^* m_{l_b} B^{\\left(12\\right)}_0(m_{H_1^0}, m_{n_i}, m_{n_j})}{16 \\pi^{2} k_{1}^{3}} + \\frac{\\sqrt{2} i Q_{Lbj}^* m_{l_a}^{2} m_{l_b} \\left(Q_{Lai} m_{n_i} - T_{RLia}^*\\right) C_1(m_{H_1^0}, m_{l_a}, m_{l_b}, m_{W_1}, m_{n_i}, m_{n_j})}{16 \\pi^{2} k_{1}^{3}} + \\frac{\\sqrt{2} i T_{RLia}^* m_{l_b} \\left(- T_{RLjb} m_{n_j} + Q_{Lbj}^* m_{l_b}^{2}\\right) C_2(m_{H_1^0}, m_{l_a}, m_{l_b}, m_{W_1}, m_{n_i}, m_{n_j})}{16 \\pi^{2} k_{1}^{3}}\\right) \\\\\n",
      "& + \\Omega_{SRij} \\left(\\frac{\\sqrt{2} i Q_{Lai} \\alpha_{13} \\epsilon^{2} m_{l_a}^{2} m_{l_b} \\left(T_{RLjb} - Q_{Lbj}^* m_{n_j}\\right) C_1(m_{H_1^0}, m_{l_a}, m_{l_b}, m_{W_1}, m_{n_i}, m_{n_j})}{32 \\pi^{2} \\rho_{1} k_{1}^{3}} + \\frac{\\sqrt{2} i T_{RLjb} \\alpha_{13} \\epsilon^{2} m_{l_b} \\left(- Q_{Lai} m_{l_a}^{2} + T_{RLia}^* m_{n_i}\\right) C_2(m_{H_1^0}, m_{l_a}, m_{l_b}, m_{W_1}, m_{n_i}, m_{n_j})}{32 \\pi^{2} \\rho_{1} k_{1}^{3}} + \\frac{\\sqrt{2} i \\alpha_{13} \\epsilon^{2} m_{l_b} \\left(- Q_{Lai} T_{RLjb} m_{l_a}^{2} + Q_{Lai} Q_{Lbj}^* m_{l_a}^{2} m_{n_j} + T_{RLjb} T_{RLia}^* m_{n_i} - Q_{Lbj}^* T_{RLia}^* m_{n_i} m_{n_j}\\right) C_0(m_{H_1^0}, m_{l_a}, m_{l_b}, m_{W_1}, m_{n_i}, m_{n_j})}{32 \\pi^{2} \\rho_{1} k_{1}^{3}}\\right) \\\\\n",
      "& + \\Omega_{RLij}^* \\left(\\frac{\\sqrt{2} i Q_{Lai} m_{l_a}^{2} m_{l_b} \\left(- T_{RLjb} + Q_{Lbj}^* m_{n_j}\\right) C_1(m_{H_1^0}, m_{l_a}, m_{l_b}, m_{W_1}, m_{n_i}, m_{n_j})}{16 \\pi^{2} k_{1}^{3}} + \\frac{\\sqrt{2} i T_{RLjb} m_{l_b} \\left(Q_{Lai} m_{l_a}^{2} - T_{RLia}^* m_{n_i}\\right) C_2(m_{H_1^0}, m_{l_a}, m_{l_b}, m_{W_1}, m_{n_i}, m_{n_j})}{16 \\pi^{2} k_{1}^{3}} + \\frac{\\sqrt{2} i m_{l_b} \\left(Q_{Lai} T_{RLjb} m_{l_a}^{2} - Q_{Lai} Q_{Lbj}^* m_{l_a}^{2} m_{n_j} - T_{RLjb} T_{RLia}^* m_{n_i} + Q_{Lbj}^* T_{RLia}^* m_{n_i} m_{n_j}\\right) C_0(m_{H_1^0}, m_{l_a}, m_{l_b}, m_{W_1}, m_{n_i}, m_{n_j})}{16 \\pi^{2} k_{1}^{3}}\\right) \\\\\n",
      "& + \\Omega_{SRij}^* \\left(- \\frac{\\sqrt{2} i \\alpha_{13} Q_{Lbj}^* T_{RLia}^* \\epsilon^{2} m_{W_1}^{2} m_{l_b} C_0(m_{H_1^0}, m_{l_a}, m_{l_b}, m_{W_1}, m_{n_i}, m_{n_j})}{32 \\pi^{2} \\rho_{1} k_{1}^{3}} - \\frac{\\sqrt{2} i \\alpha_{13} Q_{Lbj}^* T_{RLia}^* \\epsilon^{2} m_{l_b} B^{\\left(12\\right)}_0(m_{H_1^0}, m_{n_i}, m_{n_j})}{32 \\pi^{2} \\rho_{1} k_{1}^{3}} + \\frac{\\sqrt{2} i \\alpha_{13} Q_{Lbj}^* \\epsilon^{2} m_{l_a}^{2} m_{l_b} \\left(- Q_{Lai} m_{n_i} + T_{RLia}^*\\right) C_1(m_{H_1^0}, m_{l_a}, m_{l_b}, m_{W_1}, m_{n_i}, m_{n_j})}{32 \\pi^{2} \\rho_{1} k_{1}^{3}} + \\frac{\\sqrt{2} i \\alpha_{13} T_{RLia}^* \\epsilon^{2} m_{l_b} \\left(T_{RLjb} m_{n_j} - Q_{Lbj}^* m_{l_b}^{2}\\right) C_2(m_{H_1^0}, m_{l_a}, m_{l_b}, m_{W_1}, m_{n_i}, m_{n_j})}{32 \\pi^{2} \\rho_{1} k_{1}^{3}}\\right) \\\\\n",
      "A_{L}{\\left(\\left( G_{R}, \\  n_{i} n_{j}\\right) \\right)} = & \\Omega_{RLij} \\left(\\frac{\\sqrt{2} i Q_{Rai} m_{l_a}^{2} m_{l_b} \\left(- J_{bj}^* + Q_{Rbj}^* m_{n_j}\\right) C_1(m_{H_1^0}, m_{l_a}, m_{l_b}, m_{W_2}, m_{n_i}, m_{n_j})}{16 \\pi^{2} k_{1} v_{R}^{2}} + \\frac{\\sqrt{2} i J_{bj}^* m_{l_b} \\left(- J_{ai} m_{n_i} + Q_{Rai} m_{l_a}^{2}\\right) C_2(m_{H_1^0}, m_{l_a}, m_{l_b}, m_{W_2}, m_{n_i}, m_{n_j})}{16 \\pi^{2} k_{1} v_{R}^{2}} + \\frac{\\sqrt{2} i m_{l_b} \\left(- J_{ai} J_{bj}^* m_{n_i} + J_{ai} Q_{Rbj}^* m_{n_i} m_{n_j} + Q_{Rai} J_{bj}^* m_{l_a}^{2} - Q_{Rai} Q_{Rbj}^* m_{l_a}^{2} m_{n_j}\\right) C_0(m_{H_1^0}, m_{l_a}, m_{l_b}, m_{W_2}, m_{n_i}, m_{n_j})}{16 \\pi^{2} k_{1} v_{R}^{2}}\\right) \\\\\n",
      "& + \\Omega_{SRij} \\left(- \\frac{\\sqrt{2} i J_{ai} \\alpha_{13} Q_{Rbj}^* \\epsilon^{2} m_{W_2}^{2} m_{l_b} C_0(m_{H_1^0}, m_{l_a}, m_{l_b}, m_{W_2}, m_{n_i}, m_{n_j})}{32 \\pi^{2} \\rho_{1} k_{1} v_{R}^{2}} - \\frac{\\sqrt{2} i J_{ai} \\alpha_{13} Q_{Rbj}^* \\epsilon^{2} m_{l_b} B^{\\left(12\\right)}_0(m_{H_1^0}, m_{n_i}, m_{n_j})}{32 \\pi^{2} \\rho_{1} k_{1} v_{R}^{2}} + \\frac{\\sqrt{2} i J_{ai} \\alpha_{13} \\epsilon^{2} m_{l_b} \\left(J_{bj}^* m_{n_j} - Q_{Rbj}^* m_{l_b}^{2}\\right) C_2(m_{H_1^0}, m_{l_a}, m_{l_b}, m_{W_2}, m_{n_i}, m_{n_j})}{32 \\pi^{2} \\rho_{1} k_{1} v_{R}^{2}} + \\frac{\\sqrt{2} i \\alpha_{13} Q_{Rbj}^* \\epsilon^{2} m_{l_a}^{2} m_{l_b} \\left(J_{ai} - Q_{Rai} m_{n_i}\\right) C_1(m_{H_1^0}, m_{l_a}, m_{l_b}, m_{W_2}, m_{n_i}, m_{n_j})}{32 \\pi^{2} \\rho_{1} k_{1} v_{R}^{2}}\\right) \\\\\n",
      "& + \\Omega_{RLij}^* \\left(\\frac{\\sqrt{2} i J_{ai} Q_{Rbj}^* m_{W_2}^{2} m_{l_b} C_0(m_{H_1^0}, m_{l_a}, m_{l_b}, m_{W_2}, m_{n_i}, m_{n_j})}{16 \\pi^{2} k_{1} v_{R}^{2}} + \\frac{\\sqrt{2} i J_{ai} Q_{Rbj}^* m_{l_b} B^{\\left(12\\right)}_0(m_{H_1^0}, m_{n_i}, m_{n_j})}{16 \\pi^{2} k_{1} v_{R}^{2}} + \\frac{\\sqrt{2} i J_{ai} m_{l_b} \\left(- J_{bj}^* m_{n_j} + Q_{Rbj}^* m_{l_b}^{2}\\right) C_2(m_{H_1^0}, m_{l_a}, m_{l_b}, m_{W_2}, m_{n_i}, m_{n_j})}{16 \\pi^{2} k_{1} v_{R}^{2}} + \\frac{\\sqrt{2} i Q_{Rbj}^* m_{l_a}^{2} m_{l_b} \\left(- J_{ai} + Q_{Rai} m_{n_i}\\right) C_1(m_{H_1^0}, m_{l_a}, m_{l_b}, m_{W_2}, m_{n_i}, m_{n_j})}{16 \\pi^{2} k_{1} v_{R}^{2}}\\right) \\\\\n",
      "& + \\Omega_{SRij}^* \\left(\\frac{\\sqrt{2} i Q_{Rai} \\alpha_{13} \\epsilon^{2} m_{l_a}^{2} m_{l_b} \\left(J_{bj}^* - Q_{Rbj}^* m_{n_j}\\right) C_1(m_{H_1^0}, m_{l_a}, m_{l_b}, m_{W_2}, m_{n_i}, m_{n_j})}{32 \\pi^{2} \\rho_{1} k_{1} v_{R}^{2}} + \\frac{\\sqrt{2} i \\alpha_{13} J_{bj}^* \\epsilon^{2} m_{l_b} \\left(J_{ai} m_{n_i} - Q_{Rai} m_{l_a}^{2}\\right) C_2(m_{H_1^0}, m_{l_a}, m_{l_b}, m_{W_2}, m_{n_i}, m_{n_j})}{32 \\pi^{2} \\rho_{1} k_{1} v_{R}^{2}} + \\frac{\\sqrt{2} i \\alpha_{13} \\epsilon^{2} m_{l_b} \\left(J_{ai} J_{bj}^* m_{n_i} - J_{ai} Q_{Rbj}^* m_{n_i} m_{n_j} - Q_{Rai} J_{bj}^* m_{l_a}^{2} + Q_{Rai} Q_{Rbj}^* m_{l_a}^{2} m_{n_j}\\right) C_0(m_{H_1^0}, m_{l_a}, m_{l_b}, m_{W_2}, m_{n_i}, m_{n_j})}{32 \\pi^{2} \\rho_{1} k_{1} v_{R}^{2}}\\right) \\\\\n",
      "A_{R}{\\left(\\left( G_{R}, \\  n_{i} n_{j}\\right) \\right)} = & \\Omega_{RLij} \\left(\\frac{\\sqrt{2} i Q_{Rai} J_{bj}^* m_{W_2}^{2} m_{l_a} C_0(m_{H_1^0}, m_{l_a}, m_{l_b}, m_{W_2}, m_{n_i}, m_{n_j})}{16 \\pi^{2} k_{1} v_{R}^{2}} + \\frac{\\sqrt{2} i Q_{Rai} J_{bj}^* m_{l_a} B^{\\left(12\\right)}_0(m_{H_1^0}, m_{n_i}, m_{n_j})}{16 \\pi^{2} k_{1} v_{R}^{2}} + \\frac{\\sqrt{2} i Q_{Rai} m_{l_a} m_{l_b}^{2} \\left(J_{bj}^* - Q_{Rbj}^* m_{n_j}\\right) C_2(m_{H_1^0}, m_{l_a}, m_{l_b}, m_{W_2}, m_{n_i}, m_{n_j})}{16 \\pi^{2} k_{1} v_{R}^{2}} + \\frac{\\sqrt{2} i J_{bj}^* m_{l_a} \\left(J_{ai} m_{n_i} - Q_{Rai} m_{l_a}^{2}\\right) C_1(m_{H_1^0}, m_{l_a}, m_{l_b}, m_{W_2}, m_{n_i}, m_{n_j})}{16 \\pi^{2} k_{1} v_{R}^{2}}\\right) \\\\\n",
      "& + \\Omega_{SRij} \\left(\\frac{\\sqrt{2} i J_{ai} \\alpha_{13} \\epsilon^{2} m_{l_a} \\left(- J_{bj}^* m_{n_j} + Q_{Rbj}^* m_{l_b}^{2}\\right) C_1(m_{H_1^0}, m_{l_a}, m_{l_b}, m_{W_2}, m_{n_i}, m_{n_j})}{32 \\pi^{2} \\rho_{1} k_{1} v_{R}^{2}} + \\frac{\\sqrt{2} i \\alpha_{13} Q_{Rbj}^* \\epsilon^{2} m_{l_a} m_{l_b}^{2} \\left(- J_{ai} + Q_{Rai} m_{n_i}\\right) C_2(m_{H_1^0}, m_{l_a}, m_{l_b}, m_{W_2}, m_{n_i}, m_{n_j})}{32 \\pi^{2} \\rho_{1} k_{1} v_{R}^{2}} + \\frac{\\sqrt{2} i \\alpha_{13} \\epsilon^{2} m_{l_a} \\left(J_{ai} J_{bj}^* m_{n_j} - J_{ai} Q_{Rbj}^* m_{l_b}^{2} - Q_{Rai} J_{bj}^* m_{n_i} m_{n_j} + Q_{Rai} Q_{Rbj}^* m_{l_b}^{2} m_{n_i}\\right) C_0(m_{H_1^0}, m_{l_a}, m_{l_b}, m_{W_2}, m_{n_i}, m_{n_j})}{32 \\pi^{2} \\rho_{1} k_{1} v_{R}^{2}}\\right) \\\\\n",
      "& + \\Omega_{RLij}^* \\left(\\frac{\\sqrt{2} i J_{ai} m_{l_a} \\left(J_{bj}^* m_{n_j} - Q_{Rbj}^* m_{l_b}^{2}\\right) C_1(m_{H_1^0}, m_{l_a}, m_{l_b}, m_{W_2}, m_{n_i}, m_{n_j})}{16 \\pi^{2} k_{1} v_{R}^{2}} + \\frac{\\sqrt{2} i Q_{Rbj}^* m_{l_a} m_{l_b}^{2} \\left(J_{ai} - Q_{Rai} m_{n_i}\\right) C_2(m_{H_1^0}, m_{l_a}, m_{l_b}, m_{W_2}, m_{n_i}, m_{n_j})}{16 \\pi^{2} k_{1} v_{R}^{2}} + \\frac{\\sqrt{2} i m_{l_a} \\left(- J_{ai} J_{bj}^* m_{n_j} + J_{ai} Q_{Rbj}^* m_{l_b}^{2} + Q_{Rai} J_{bj}^* m_{n_i} m_{n_j} - Q_{Rai} Q_{Rbj}^* m_{l_b}^{2} m_{n_i}\\right) C_0(m_{H_1^0}, m_{l_a}, m_{l_b}, m_{W_2}, m_{n_i}, m_{n_j})}{16 \\pi^{2} k_{1} v_{R}^{2}}\\right) \\\\\n",
      "& + \\Omega_{SRij}^* \\left(- \\frac{\\sqrt{2} i Q_{Rai} \\alpha_{13} J_{bj}^* \\epsilon^{2} m_{W_2}^{2} m_{l_a} C_0(m_{H_1^0}, m_{l_a}, m_{l_b}, m_{W_2}, m_{n_i}, m_{n_j})}{32 \\pi^{2} \\rho_{1} k_{1} v_{R}^{2}} - \\frac{\\sqrt{2} i Q_{Rai} \\alpha_{13} J_{bj}^* \\epsilon^{2} m_{l_a} B^{\\left(12\\right)}_0(m_{H_1^0}, m_{n_i}, m_{n_j})}{32 \\pi^{2} \\rho_{1} k_{1} v_{R}^{2}} + \\frac{\\sqrt{2} i Q_{Rai} \\alpha_{13} \\epsilon^{2} m_{l_a} m_{l_b}^{2} \\left(- J_{bj}^* + Q_{Rbj}^* m_{n_j}\\right) C_2(m_{H_1^0}, m_{l_a}, m_{l_b}, m_{W_2}, m_{n_i}, m_{n_j})}{32 \\pi^{2} \\rho_{1} k_{1} v_{R}^{2}} + \\frac{\\sqrt{2} i \\alpha_{13} J_{bj}^* \\epsilon^{2} m_{l_a} \\left(- J_{ai} m_{n_i} + Q_{Rai} m_{l_a}^{2}\\right) C_1(m_{H_1^0}, m_{l_a}, m_{l_b}, m_{W_2}, m_{n_i}, m_{n_j})}{32 \\pi^{2} \\rho_{1} k_{1} v_{R}^{2}}\\right) \\\\\n",
      "A_{L}{\\left(\\left( H_{R}, \\  n_{i} n_{j}\\right) \\right)} = & \\Omega_{RLij} \\left(\\frac{\\sqrt{2} i Q_{Rai} m_{l_a}^{2} m_{l_b} \\left(- K_{bj}^* + Q_{Rbj}^* m_{n_j}\\right) C_1(m_{H_1^0}, m_{l_a}, m_{l_b}, m_{H_R^+}, m_{n_i}, m_{n_j})}{16 \\pi^{2} k_{1}^{3}} + \\frac{\\sqrt{2} i K_{bj}^* m_{l_b} \\left(- K_{ai} m_{n_i} + Q_{Rai} m_{l_a}^{2}\\right) C_2(m_{H_1^0}, m_{l_a}, m_{l_b}, m_{H_R^+}, m_{n_i}, m_{n_j})}{16 \\pi^{2} k_{1}^{3}} + \\frac{\\sqrt{2} i m_{l_b} \\left(- K_{ai} K_{bj}^* m_{n_i} + K_{ai} Q_{Rbj}^* m_{n_i} m_{n_j} + Q_{Rai} K_{bj}^* m_{l_a}^{2} - Q_{Rai} Q_{Rbj}^* m_{l_a}^{2} m_{n_j}\\right) C_0(m_{H_1^0}, m_{l_a}, m_{l_b}, m_{H_R^+}, m_{n_i}, m_{n_j})}{16 \\pi^{2} k_{1}^{3}}\\right) \\\\\n",
      "& + \\Omega_{SRij} \\left(- \\frac{\\sqrt{2} i K_{ai} \\alpha_{13} Q_{Rbj}^* \\epsilon^{2} \\left(m_{H_R^+}\\right)^{2} m_{l_b} C_0(m_{H_1^0}, m_{l_a}, m_{l_b}, m_{H_R^+}, m_{n_i}, m_{n_j})}{32 \\pi^{2} \\rho_{1} k_{1}^{3}} - \\frac{\\sqrt{2} i K_{ai} \\alpha_{13} Q_{Rbj}^* \\epsilon^{2} m_{l_b} B^{\\left(12\\right)}_0(m_{H_1^0}, m_{n_i}, m_{n_j})}{32 \\pi^{2} \\rho_{1} k_{1}^{3}} + \\frac{\\sqrt{2} i K_{ai} \\alpha_{13} \\epsilon^{2} m_{l_b} \\left(K_{bj}^* m_{n_j} - Q_{Rbj}^* m_{l_b}^{2}\\right) C_2(m_{H_1^0}, m_{l_a}, m_{l_b}, m_{H_R^+}, m_{n_i}, m_{n_j})}{32 \\pi^{2} \\rho_{1} k_{1}^{3}} + \\frac{\\sqrt{2} i \\alpha_{13} Q_{Rbj}^* \\epsilon^{2} m_{l_a}^{2} m_{l_b} \\left(K_{ai} - Q_{Rai} m_{n_i}\\right) C_1(m_{H_1^0}, m_{l_a}, m_{l_b}, m_{H_R^+}, m_{n_i}, m_{n_j})}{32 \\pi^{2} \\rho_{1} k_{1}^{3}}\\right) \\\\\n",
      "& + \\Omega_{RLij}^* \\left(\\frac{\\sqrt{2} i K_{ai} Q_{Rbj}^* \\left(m_{H_R^+}\\right)^{2} m_{l_b} C_0(m_{H_1^0}, m_{l_a}, m_{l_b}, m_{H_R^+}, m_{n_i}, m_{n_j})}{16 \\pi^{2} k_{1}^{3}} + \\frac{\\sqrt{2} i K_{ai} Q_{Rbj}^* m_{l_b} B^{\\left(12\\right)}_0(m_{H_1^0}, m_{n_i}, m_{n_j})}{16 \\pi^{2} k_{1}^{3}} + \\frac{\\sqrt{2} i K_{ai} m_{l_b} \\left(- K_{bj}^* m_{n_j} + Q_{Rbj}^* m_{l_b}^{2}\\right) C_2(m_{H_1^0}, m_{l_a}, m_{l_b}, m_{H_R^+}, m_{n_i}, m_{n_j})}{16 \\pi^{2} k_{1}^{3}} + \\frac{\\sqrt{2} i Q_{Rbj}^* m_{l_a}^{2} m_{l_b} \\left(- K_{ai} + Q_{Rai} m_{n_i}\\right) C_1(m_{H_1^0}, m_{l_a}, m_{l_b}, m_{H_R^+}, m_{n_i}, m_{n_j})}{16 \\pi^{2} k_{1}^{3}}\\right) \\\\\n",
      "& + \\Omega_{SRij}^* \\left(\\frac{\\sqrt{2} i Q_{Rai} \\alpha_{13} \\epsilon^{2} m_{l_a}^{2} m_{l_b} \\left(K_{bj}^* - Q_{Rbj}^* m_{n_j}\\right) C_1(m_{H_1^0}, m_{l_a}, m_{l_b}, m_{H_R^+}, m_{n_i}, m_{n_j})}{32 \\pi^{2} \\rho_{1} k_{1}^{3}} + \\frac{\\sqrt{2} i \\alpha_{13} K_{bj}^* \\epsilon^{2} m_{l_b} \\left(K_{ai} m_{n_i} - Q_{Rai} m_{l_a}^{2}\\right) C_2(m_{H_1^0}, m_{l_a}, m_{l_b}, m_{H_R^+}, m_{n_i}, m_{n_j})}{32 \\pi^{2} \\rho_{1} k_{1}^{3}} + \\frac{\\sqrt{2} i \\alpha_{13} \\epsilon^{2} m_{l_b} \\left(K_{ai} K_{bj}^* m_{n_i} - K_{ai} Q_{Rbj}^* m_{n_i} m_{n_j} - Q_{Rai} K_{bj}^* m_{l_a}^{2} + Q_{Rai} Q_{Rbj}^* m_{l_a}^{2} m_{n_j}\\right) C_0(m_{H_1^0}, m_{l_a}, m_{l_b}, m_{H_R^+}, m_{n_i}, m_{n_j})}{32 \\pi^{2} \\rho_{1} k_{1}^{3}}\\right) \\\\\n",
      "A_{R}{\\left(\\left( H_{R}, \\  n_{i} n_{j}\\right) \\right)} = & \\Omega_{RLij} \\left(\\frac{\\sqrt{2} i Q_{Rai} K_{bj}^* \\left(m_{H_R^+}\\right)^{2} m_{l_a} C_0(m_{H_1^0}, m_{l_a}, m_{l_b}, m_{H_R^+}, m_{n_i}, m_{n_j})}{16 \\pi^{2} k_{1}^{3}} + \\frac{\\sqrt{2} i Q_{Rai} K_{bj}^* m_{l_a} B^{\\left(12\\right)}_0(m_{H_1^0}, m_{n_i}, m_{n_j})}{16 \\pi^{2} k_{1}^{3}} + \\frac{\\sqrt{2} i Q_{Rai} m_{l_a} m_{l_b}^{2} \\left(K_{bj}^* - Q_{Rbj}^* m_{n_j}\\right) C_2(m_{H_1^0}, m_{l_a}, m_{l_b}, m_{H_R^+}, m_{n_i}, m_{n_j})}{16 \\pi^{2} k_{1}^{3}} + \\frac{\\sqrt{2} i K_{bj}^* m_{l_a} \\left(K_{ai} m_{n_i} - Q_{Rai} m_{l_a}^{2}\\right) C_1(m_{H_1^0}, m_{l_a}, m_{l_b}, m_{H_R^+}, m_{n_i}, m_{n_j})}{16 \\pi^{2} k_{1}^{3}}\\right) \\\\\n",
      "& + \\Omega_{SRij} \\left(\\frac{\\sqrt{2} i K_{ai} \\alpha_{13} \\epsilon^{2} m_{l_a} \\left(- K_{bj}^* m_{n_j} + Q_{Rbj}^* m_{l_b}^{2}\\right) C_1(m_{H_1^0}, m_{l_a}, m_{l_b}, m_{H_R^+}, m_{n_i}, m_{n_j})}{32 \\pi^{2} \\rho_{1} k_{1}^{3}} + \\frac{\\sqrt{2} i \\alpha_{13} Q_{Rbj}^* \\epsilon^{2} m_{l_a} m_{l_b}^{2} \\left(- K_{ai} + Q_{Rai} m_{n_i}\\right) C_2(m_{H_1^0}, m_{l_a}, m_{l_b}, m_{H_R^+}, m_{n_i}, m_{n_j})}{32 \\pi^{2} \\rho_{1} k_{1}^{3}} + \\frac{\\sqrt{2} i \\alpha_{13} \\epsilon^{2} m_{l_a} \\left(K_{ai} K_{bj}^* m_{n_j} - K_{ai} Q_{Rbj}^* m_{l_b}^{2} - Q_{Rai} K_{bj}^* m_{n_i} m_{n_j} + Q_{Rai} Q_{Rbj}^* m_{l_b}^{2} m_{n_i}\\right) C_0(m_{H_1^0}, m_{l_a}, m_{l_b}, m_{H_R^+}, m_{n_i}, m_{n_j})}{32 \\pi^{2} \\rho_{1} k_{1}^{3}}\\right) \\\\\n",
      "& + \\Omega_{RLij}^* \\left(\\frac{\\sqrt{2} i K_{ai} m_{l_a} \\left(K_{bj}^* m_{n_j} - Q_{Rbj}^* m_{l_b}^{2}\\right) C_1(m_{H_1^0}, m_{l_a}, m_{l_b}, m_{H_R^+}, m_{n_i}, m_{n_j})}{16 \\pi^{2} k_{1}^{3}} + \\frac{\\sqrt{2} i Q_{Rbj}^* m_{l_a} m_{l_b}^{2} \\left(K_{ai} - Q_{Rai} m_{n_i}\\right) C_2(m_{H_1^0}, m_{l_a}, m_{l_b}, m_{H_R^+}, m_{n_i}, m_{n_j})}{16 \\pi^{2} k_{1}^{3}} + \\frac{\\sqrt{2} i m_{l_a} \\left(- K_{ai} K_{bj}^* m_{n_j} + K_{ai} Q_{Rbj}^* m_{l_b}^{2} + Q_{Rai} K_{bj}^* m_{n_i} m_{n_j} - Q_{Rai} Q_{Rbj}^* m_{l_b}^{2} m_{n_i}\\right) C_0(m_{H_1^0}, m_{l_a}, m_{l_b}, m_{H_R^+}, m_{n_i}, m_{n_j})}{16 \\pi^{2} k_{1}^{3}}\\right) \\\\\n",
      "& + \\Omega_{SRij}^* \\left(- \\frac{\\sqrt{2} i Q_{Rai} \\alpha_{13} K_{bj}^* \\epsilon^{2} \\left(m_{H_R^+}\\right)^{2} m_{l_a} C_0(m_{H_1^0}, m_{l_a}, m_{l_b}, m_{H_R^+}, m_{n_i}, m_{n_j})}{32 \\pi^{2} \\rho_{1} k_{1}^{3}} - \\frac{\\sqrt{2} i Q_{Rai} \\alpha_{13} K_{bj}^* \\epsilon^{2} m_{l_a} B^{\\left(12\\right)}_0(m_{H_1^0}, m_{n_i}, m_{n_j})}{32 \\pi^{2} \\rho_{1} k_{1}^{3}} + \\frac{\\sqrt{2} i Q_{Rai} \\alpha_{13} \\epsilon^{2} m_{l_a} m_{l_b}^{2} \\left(- K_{bj}^* + Q_{Rbj}^* m_{n_j}\\right) C_2(m_{H_1^0}, m_{l_a}, m_{l_b}, m_{H_R^+}, m_{n_i}, m_{n_j})}{32 \\pi^{2} \\rho_{1} k_{1}^{3}} + \\frac{\\sqrt{2} i \\alpha_{13} K_{bj}^* \\epsilon^{2} m_{l_a} \\left(- K_{ai} m_{n_i} + Q_{Rai} m_{l_a}^{2}\\right) C_1(m_{H_1^0}, m_{l_a}, m_{l_b}, m_{H_R^+}, m_{n_i}, m_{n_j})}{32 \\pi^{2} \\rho_{1} k_{1}^{3}}\\right) \\\\\n",
      "A_{L}{\\left(\\left( W, \\  n_{i} n_{j}\\right) \\right)} = &- \\frac{\\sqrt{2} i Q_{Lai} \\Omega_{RLij} Q_{Lbj}^* g^{2} m_{l_a} m_{n_i} C_1(m_{H_1^0}, m_{l_a}, m_{l_b}, m_{W_1}, m_{n_i}, m_{n_j})}{64 \\pi^{2} k_{1}} \\\\\n",
      "& + \\frac{\\sqrt{2} i Q_{Lai} \\alpha_{13} Q_{Lbj}^* \\Omega_{SRij}^* \\epsilon^{2} g^{2} m_{l_a} m_{n_i} C_1(m_{H_1^0}, m_{l_a}, m_{l_b}, m_{W_1}, m_{n_i}, m_{n_j})}{128 \\pi^{2} \\rho_{1} k_{1}} \\\\\n",
      "& + \\Omega_{SRij} \\left(- \\frac{\\sqrt{2} i Q_{Lai} \\alpha_{13} Q_{Lbj}^* \\epsilon^{2} g^{2} m_{l_a} m_{n_j} C_0(m_{H_1^0}, m_{l_a}, m_{l_b}, m_{W_1}, m_{n_i}, m_{n_j})}{128 \\pi^{2} \\rho_{1} k_{1}} + \\frac{\\sqrt{2} i Q_{Lai} \\alpha_{13} Q_{Lbj}^* \\epsilon^{2} g^{2} m_{l_a} m_{n_j} C_1(m_{H_1^0}, m_{l_a}, m_{l_b}, m_{W_1}, m_{n_i}, m_{n_j})}{128 \\pi^{2} \\rho_{1} k_{1}}\\right) \\\\\n",
      "& + \\Omega_{RLij}^* \\left(\\frac{\\sqrt{2} i Q_{Lai} Q_{Lbj}^* g^{2} m_{l_a} m_{n_j} C_0(m_{H_1^0}, m_{l_a}, m_{l_b}, m_{W_1}, m_{n_i}, m_{n_j})}{64 \\pi^{2} k_{1}} - \\frac{\\sqrt{2} i Q_{Lai} Q_{Lbj}^* g^{2} m_{l_a} m_{n_j} C_1(m_{H_1^0}, m_{l_a}, m_{l_b}, m_{W_1}, m_{n_i}, m_{n_j})}{64 \\pi^{2} k_{1}}\\right) \\\\\n",
      "A_{R}{\\left(\\left( W, \\  n_{i} n_{j}\\right) \\right)} = &- \\frac{\\sqrt{2} i Q_{Lai} \\Omega_{SRij} \\alpha_{13} Q_{Lbj}^* \\epsilon^{2} g^{2} m_{l_b} m_{n_j} C_2(m_{H_1^0}, m_{l_a}, m_{l_b}, m_{W_1}, m_{n_i}, m_{n_j})}{128 \\pi^{2} \\rho_{1} k_{1}} \\\\\n",
      "& + \\frac{\\sqrt{2} i Q_{Lai} Q_{Lbj}^* \\Omega_{RLij}^* g^{2} m_{l_b} m_{n_j} C_2(m_{H_1^0}, m_{l_a}, m_{l_b}, m_{W_1}, m_{n_i}, m_{n_j})}{64 \\pi^{2} k_{1}} \\\\\n",
      "& + \\Omega_{RLij} \\left(\\frac{\\sqrt{2} i Q_{Lai} Q_{Lbj}^* g^{2} m_{l_b} m_{n_i} C_0(m_{H_1^0}, m_{l_a}, m_{l_b}, m_{W_1}, m_{n_i}, m_{n_j})}{64 \\pi^{2} k_{1}} + \\frac{\\sqrt{2} i Q_{Lai} Q_{Lbj}^* g^{2} m_{l_b} m_{n_i} C_2(m_{H_1^0}, m_{l_a}, m_{l_b}, m_{W_1}, m_{n_i}, m_{n_j})}{64 \\pi^{2} k_{1}}\\right) \\\\\n",
      "& + \\Omega_{SRij}^* \\left(- \\frac{\\sqrt{2} i Q_{Lai} \\alpha_{13} Q_{Lbj}^* \\epsilon^{2} g^{2} m_{l_b} m_{n_i} C_0(m_{H_1^0}, m_{l_a}, m_{l_b}, m_{W_1}, m_{n_i}, m_{n_j})}{128 \\pi^{2} \\rho_{1} k_{1}} - \\frac{\\sqrt{2} i Q_{Lai} \\alpha_{13} Q_{Lbj}^* \\epsilon^{2} g^{2} m_{l_b} m_{n_i} C_2(m_{H_1^0}, m_{l_a}, m_{l_b}, m_{W_1}, m_{n_i}, m_{n_j})}{128 \\pi^{2} \\rho_{1} k_{1}}\\right) \\\\\n",
      "A_{L}{\\left(\\left( W_{2}, \\  n_{i} n_{j}\\right) \\right)} = & \\frac{\\sqrt{2} i Q_{Rai} \\Omega_{RLij} Q_{Rbj}^* g^{2} m_{l_b} m_{n_j} C_2(m_{H_1^0}, m_{l_a}, m_{l_b}, m_{W_2}, m_{n_i}, m_{n_j})}{64 \\pi^{2} k_{1}} \\\\\n",
      "& - \\frac{\\sqrt{2} i Q_{Rai} \\alpha_{13} Q_{Rbj}^* \\Omega_{SRij}^* \\epsilon^{2} g^{2} m_{l_b} m_{n_j} C_2(m_{H_1^0}, m_{l_a}, m_{l_b}, m_{W_2}, m_{n_i}, m_{n_j})}{128 \\pi^{2} \\rho_{1} k_{1}} \\\\\n",
      "& + \\Omega_{SRij} \\left(- \\frac{\\sqrt{2} i Q_{Rai} \\alpha_{13} Q_{Rbj}^* \\epsilon^{2} g^{2} m_{l_b} m_{n_i} C_0(m_{H_1^0}, m_{l_a}, m_{l_b}, m_{W_2}, m_{n_i}, m_{n_j})}{128 \\pi^{2} \\rho_{1} k_{1}} - \\frac{\\sqrt{2} i Q_{Rai} \\alpha_{13} Q_{Rbj}^* \\epsilon^{2} g^{2} m_{l_b} m_{n_i} C_2(m_{H_1^0}, m_{l_a}, m_{l_b}, m_{W_2}, m_{n_i}, m_{n_j})}{128 \\pi^{2} \\rho_{1} k_{1}}\\right) \\\\\n",
      "& + \\Omega_{RLij}^* \\left(\\frac{\\sqrt{2} i Q_{Rai} Q_{Rbj}^* g^{2} m_{l_b} m_{n_i} C_0(m_{H_1^0}, m_{l_a}, m_{l_b}, m_{W_2}, m_{n_i}, m_{n_j})}{64 \\pi^{2} k_{1}} + \\frac{\\sqrt{2} i Q_{Rai} Q_{Rbj}^* g^{2} m_{l_b} m_{n_i} C_2(m_{H_1^0}, m_{l_a}, m_{l_b}, m_{W_2}, m_{n_i}, m_{n_j})}{64 \\pi^{2} k_{1}}\\right) \\\\\n",
      "A_{R}{\\left(\\left( W_{2}, \\  n_{i} n_{j}\\right) \\right)} = & \\frac{\\sqrt{2} i Q_{Rai} \\Omega_{SRij} \\alpha_{13} Q_{Rbj}^* \\epsilon^{2} g^{2} m_{l_a} m_{n_i} C_1(m_{H_1^0}, m_{l_a}, m_{l_b}, m_{W_2}, m_{n_i}, m_{n_j})}{128 \\pi^{2} \\rho_{1} k_{1}} \\\\\n",
      "& - \\frac{\\sqrt{2} i Q_{Rai} Q_{Rbj}^* \\Omega_{RLij}^* g^{2} m_{l_a} m_{n_i} C_1(m_{H_1^0}, m_{l_a}, m_{l_b}, m_{W_2}, m_{n_i}, m_{n_j})}{64 \\pi^{2} k_{1}} \\\\\n",
      "& + \\Omega_{RLij} \\left(\\frac{\\sqrt{2} i Q_{Rai} Q_{Rbj}^* g^{2} m_{l_a} m_{n_j} C_0(m_{H_1^0}, m_{l_a}, m_{l_b}, m_{W_2}, m_{n_i}, m_{n_j})}{64 \\pi^{2} k_{1}} - \\frac{\\sqrt{2} i Q_{Rai} Q_{Rbj}^* g^{2} m_{l_a} m_{n_j} C_1(m_{H_1^0}, m_{l_a}, m_{l_b}, m_{W_2}, m_{n_i}, m_{n_j})}{64 \\pi^{2} k_{1}}\\right) \\\\\n",
      "& + \\Omega_{SRij}^* \\left(- \\frac{\\sqrt{2} i Q_{Rai} \\alpha_{13} Q_{Rbj}^* \\epsilon^{2} g^{2} m_{l_a} m_{n_j} C_0(m_{H_1^0}, m_{l_a}, m_{l_b}, m_{W_2}, m_{n_i}, m_{n_j})}{128 \\pi^{2} \\rho_{1} k_{1}} + \\frac{\\sqrt{2} i Q_{Rai} \\alpha_{13} Q_{Rbj}^* \\epsilon^{2} g^{2} m_{l_a} m_{n_j} C_1(m_{H_1^0}, m_{l_a}, m_{l_b}, m_{W_2}, m_{n_i}, m_{n_j})}{128 \\pi^{2} \\rho_{1} k_{1}}\\right) \\\\\n"
     ]
    },
    {
     "name": "stderr",
     "output_type": "stream",
     "text": [
      "<>:2: SyntaxWarning: invalid escape sequence '\\o'\n",
      "<>:2: SyntaxWarning: invalid escape sequence '\\o'\n",
      "/tmp/ipykernel_7575/250234023.py:2: SyntaxWarning: invalid escape sequence '\\o'\n",
      "  \"\"\"Replace all instances of \\overline{X} with X^* in LaTeX strings, handling nested braces iteratively.\"\"\"\n"
     ]
    }
   ],
   "source": [
    "def replace_overline_with_conjugate(latex_line):\n",
    "    \"\"\"Replace all instances of \\overline{X} with X^* in LaTeX strings, handling nested braces iteratively.\"\"\"\n",
    "    while '\\\\overline{' in latex_line:\n",
    "        start = latex_line.find('\\\\overline{')\n",
    "        # Find the matching closing brace\n",
    "        open_count = 1\n",
    "        end = start + 10\n",
    "        while end < len(latex_line) and open_count > 0:\n",
    "            if latex_line[end] == '{':\n",
    "                open_count += 1\n",
    "            elif latex_line[end] == '}':\n",
    "                open_count -= 1\n",
    "            end += 1\n",
    "        if open_count == 0:\n",
    "            # Process the nested content\n",
    "            nested_content = latex_line[start + 10:end - 1]\n",
    "            replaced_content = replace_overline_with_conjugate(nested_content) + '^*'\n",
    "            latex_line = latex_line[:start] + replaced_content + latex_line[end:]\n",
    "        else:\n",
    "            # Unmatched braces, break the loop\n",
    "            break\n",
    "    return latex_line\n",
    "\n",
    "for diagram, formfactors in symbolic_formfactor_factored_two_neutrinos.items():\n",
    "    # Get LaTeX lines for AL and AR form factors\n",
    "    diagram_escaped = diagram.replace('_', ',').replace('&', '\\\\&').replace('%', '\\\\%')\n",
    "    # Replace field string names with their LaTeX equivalents\n",
    "    for old_name, new_name in field_string_name_replacements.items():\n",
    "        diagram_escaped = diagram_escaped.replace(old_name, new_name)\n",
    "    for old_name, new_name in field_string_name_replacements_no_charge.items():\n",
    "        diagram_escaped = diagram_escaped.replace(old_name, new_name)\n",
    "    # sympify the diagram string to ensure it's valid for further processing\n",
    "    if 'n_j' in diagram_escaped:\n",
    "        diagram_escaped = diagram_escaped.replace('n_in_j', 'n_i*n_j')\n",
    "    \n",
    "    left_ff_latex = multiline_latex(AL(diagram_escaped), formfactors['AL'], environment='align*', terms_per_line=1).split('\\n')\n",
    "    right_ff_latex = multiline_latex(AR(diagram_escaped), formfactors['AR'], environment='align*', terms_per_line=1).split('\\n')\n",
    "\n",
    "    # Replace \\overline{X} with X^* using the refined iterative function\n",
    "    for line in left_ff_latex + right_ff_latex:\n",
    "        if line != r\"\\begin{align*}\" and line != r\"\\end{align*}\":\n",
    "            line = replace_overline_with_conjugate(line)\n",
    "            if r'\\\\' in line:\n",
    "                print(line)\n",
    "            else:\n",
    "                print(line + R'\\\\')\n",
    "    #print('\\n')"
   ]
  },
  {
   "cell_type": "code",
   "execution_count": 85,
   "id": "9b0ed631",
   "metadata": {},
   "outputs": [],
   "source": [
    "# Open the file to write the LaTeX expressions\n",
    "with open('formfactors.tex', 'w') as f:\n",
    "    f.write(\"\\\\documentclass{article}\\n\")\n",
    "    f.write(\"\\\\usepackage{amsmath}\\n\")\n",
    "    f.write(\"\\\\begin{document}\\n\")\n",
    "    f.write(\"\\\\section*{Form Factors for LFV Higgs Decays in the DLRSM Model}\\n\")\n",
    "    for diagram, formfactors in symbolic_formfactor_factored.items():\n",
    "        # Escape special LaTeX characters in diagram name\n",
    "        #diagram_escaped = diagram.replace('_', '\\\\_').replace('&', '\\\\&').replace('%', '\\\\%')\n",
    "        diagram_escaped = diagram.replace('_', '')\n",
    "        f.write(f\"\\\\subsubsection{{Diagram {diagram_escaped}}}\\n\")\n",
    "        # Write Left Form Factor using multiline_latex\n",
    "        left_ff_latex = multiline_latex(f'A_L(\\\\text{{{diagram_escaped}}})', formfactors['AL'], environment='align*')\n",
    "        f.write(replace_overline_with_conjugate(left_ff_latex) + \"\\n\")\n",
    "        # Write Right Form Factor using multiline_latex\n",
    "        right_ff_latex = multiline_latex(f'A_R(\\\\text{{{diagram_escaped}}})', formfactors['AR'], environment='align*')\n",
    "        f.write(replace_overline_with_conjugate(right_ff_latex) + \"\\n\")\n",
    "    f.write(\"\\\\end{document}\\n\")"
   ]
  },
  {
   "cell_type": "code",
   "execution_count": null,
   "id": "275116ea",
   "metadata": {},
   "outputs": [],
   "source": []
  }
 ],
 "metadata": {
  "kernelspec": {
   "display_name": "base",
   "language": "python",
   "name": "python3"
  },
  "language_info": {
   "codemirror_mode": {
    "name": "ipython",
    "version": 3
   },
   "file_extension": ".py",
   "mimetype": "text/x-python",
   "name": "python",
   "nbconvert_exporter": "python",
   "pygments_lexer": "ipython3",
   "version": "3.13.2"
  }
 },
 "nbformat": 4,
 "nbformat_minor": 5
}
