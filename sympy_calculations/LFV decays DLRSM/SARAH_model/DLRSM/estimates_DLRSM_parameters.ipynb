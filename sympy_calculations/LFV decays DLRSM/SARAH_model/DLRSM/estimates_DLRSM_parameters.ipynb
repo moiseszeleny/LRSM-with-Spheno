{
 "cells": [
  {
   "cell_type": "code",
   "execution_count": 5,
   "id": "866e391a",
   "metadata": {},
   "outputs": [],
   "source": [
    "from sympy import symbols, sin, cos, pi, atan, sqrt, init_printing\n",
    "init_printing()"
   ]
  },
  {
   "cell_type": "code",
   "execution_count": 6,
   "id": "e8290f49",
   "metadata": {},
   "outputs": [
    {
     "data": {
      "image/png": "[encoded data removed]",
      "text/latex": [
       "$\\displaystyle 0.491877565733518$"
      ],
      "text/plain": [
       "0.491877565733518"
      ]
     },
     "execution_count": 6,
     "metadata": {},
     "output_type": "execute_result"
    }
   ],
   "source": [
    "sinthW_square = 0.22305\n",
    "costhW_square = 1 - sinthW_square\n",
    "costhW = sqrt(costhW_square)\n",
    "sinthW = sqrt(sinthW_square)\n",
    "tanthW = sinthW / costhW\n",
    "thW = atan(tanthW)\n",
    "thW"
   ]
  },
  {
   "cell_type": "code",
   "execution_count": 11,
   "id": "6b45c906",
   "metadata": {},
   "outputs": [
    {
     "data": {
      "image/png": "[encoded data removed]",
      "text/latex": [
       "$\\displaystyle \\left( 0.653487804878049, \\  0.414689384920189\\right)$"
      ],
      "text/plain": [
       "(0.6534878048780488, 0.414689384920189)"
      ]
     },
     "execution_count": 11,
     "metadata": {},
     "output_type": "execute_result"
    }
   ],
   "source": [
    "mW = 80.379  # GeV\n",
    "mZ = 91.1876  # GeV\n",
    "k1 = 246\n",
    "g2 = 2*mW/k1  # SU(2) coupling constant\n",
    "g1 = g2*tanthW # Hypercharge coupling\n",
    "e = g1 * sinthW  # Electric charge\n",
    "gBL = (g2*(sinthW/sqrt(cos(2*thW)))).n()\n",
    "g2, gBL"
   ]
  },
  {
   "cell_type": "code",
   "execution_count": 12,
   "id": "8a1f4309",
   "metadata": {},
   "outputs": [
    {
     "data": {
      "text/plain": [
       "True"
      ]
     },
     "execution_count": 12,
     "metadata": {},
     "output_type": "execute_result"
    }
   ],
   "source": [
    "alp1 = 0.1\n",
    "alp2 = 0.2\n",
    "alp3 = 0.1\n",
    "alp2-alp3>0"
   ]
  },
  {
   "cell_type": "code",
   "execution_count": 16,
   "id": "68c019ae",
   "metadata": {},
   "outputs": [
    {
     "data": {
      "image/png": "[encoded data removed]",
      "text/latex": [
       "$\\displaystyle 0.214285714285714$"
      ],
      "text/plain": [
       "0.2142857142857143"
      ]
     },
     "execution_count": 16,
     "metadata": {},
     "output_type": "execute_result"
    }
   ],
   "source": [
    "rho1 = 0.7\n",
    "lam12 = 2*(alp1+alp3)**2/rho1+0.1\n",
    "lam12"
   ]
  },
  {
   "cell_type": "code",
   "execution_count": 17,
   "id": "22b66ad3",
   "metadata": {},
   "outputs": [
    {
     "data": {
      "image/png": "[encoded data removed]",
      "text/latex": [
       "$\\displaystyle -1.4$"
      ],
      "text/plain": [
       "-1.4"
      ]
     },
     "execution_count": 17,
     "metadata": {},
     "output_type": "execute_result"
    }
   ],
   "source": [
    "-2*rho1"
   ]
  },
  {
   "cell_type": "code",
   "execution_count": 19,
   "id": "65c501d2",
   "metadata": {},
   "outputs": [
    {
     "data": {
      "image/png": "[encoded data removed]",
      "text/latex": [
       "$\\displaystyle 0.114285714285714$"
      ],
      "text/plain": [
       "0.1142857142857143"
      ]
     },
     "execution_count": 19,
     "metadata": {},
     "output_type": "execute_result"
    }
   ],
   "source": [
    "lam2 = 0.1\n",
    "lam1 = lam12 - lam2\n",
    "lam1"
   ]
  },
  {
   "cell_type": "code",
   "execution_count": 21,
   "id": "c870b9de",
   "metadata": {},
   "outputs": [
    {
     "data": {
      "image/png": "[encoded data removed]",
      "text/latex": [
       "$\\displaystyle 0.7$"
      ],
      "text/plain": [
       "0.7000000000000001"
      ]
     },
     "execution_count": 21,
     "metadata": {},
     "output_type": "execute_result"
    }
   ],
   "source": [
    "lam4 = 0.05\n",
    "lam6 = 0.3\n",
    "lam5 = lam2 + 4*lam4 + lam6 + 0.1\n",
    "lam5"
   ]
  },
  {
   "cell_type": "code",
   "execution_count": 22,
   "id": "38bb7dfe",
   "metadata": {},
   "outputs": [
    {
     "data": {
      "image/png": "[encoded data removed]",
      "text/latex": [
       "$\\displaystyle -0.125$"
      ],
      "text/plain": [
       "-0.12500000000000003"
      ]
     },
     "execution_count": 22,
     "metadata": {},
     "output_type": "execute_result"
    }
   ],
   "source": [
    "lam3 = (lam2 - lam5 - lam6)/4 + 0.1\n",
    "lam3"
   ]
  },
  {
   "cell_type": "code",
   "execution_count": null,
   "id": "15c7680c",
   "metadata": {},
   "outputs": [],
   "source": []
  }
 ],
 "metadata": {
  "kernelspec": {
   "display_name": "base",
   "language": "python",
   "name": "python3"
  },
  "language_info": {
   "codemirror_mode": {
    "name": "ipython",
    "version": 3
   },
   "file_extension": ".py",
   "mimetype": "text/x-python",
   "name": "python",
   "nbconvert_exporter": "python",
   "pygments_lexer": "ipython3",
   "version": "3.13.2"
  }
 },
 "nbformat": 4,
 "nbformat_minor": 5
}
