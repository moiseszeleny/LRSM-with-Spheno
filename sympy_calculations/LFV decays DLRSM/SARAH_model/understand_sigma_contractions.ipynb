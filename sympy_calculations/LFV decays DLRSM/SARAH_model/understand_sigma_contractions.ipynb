{
 "cells": [
  {
   "cell_type": "code",
   "execution_count": 62,
   "id": "58802ebe",
   "metadata": {},
   "outputs": [],
   "source": [
    "from sympy import symbols, Matrix, init_printing, I, eye, Eq, solve, MatrixSymbol, trace, conjugate\n",
    "from sympy.physics.quantum import Dagger\n",
    "from sympy import LeviCivita\n",
    "init_printing()"
   ]
  },
  {
   "cell_type": "code",
   "execution_count": 37,
   "id": "3083eb7c",
   "metadata": {},
   "outputs": [],
   "source": [
    "a, b, c, d = symbols('a b c d', real=True)\n",
    "M = Matrix(\n",
    "    [\n",
    "        [a, b - I*c],\n",
    "        [b + I*c, d]\n",
    "    ]\n",
    ")"
   ]
  },
  {
   "cell_type": "code",
   "execution_count": 38,
   "id": "63244ac4",
   "metadata": {},
   "outputs": [],
   "source": [
    "sigma1 = Matrix(\n",
    "    [\n",
    "        [0, 1],\n",
    "        [1, 0]\n",
    "    ]\n",
    ")\n",
    "sigma2 = Matrix(\n",
    "    [\n",
    "        [0, -I],\n",
    "        [I, 0]\n",
    "    ]\n",
    ")\n",
    "sigma3 = Matrix(\n",
    "    [\n",
    "        [1, 0],\n",
    "        [0, -1]\n",
    "    ]\n",
    ")\n",
    "sigma0 = eye(2)"
   ]
  },
  {
   "cell_type": "code",
   "execution_count": 81,
   "id": "b2fbd6b1",
   "metadata": {},
   "outputs": [
    {
     "data": {
      "image/png": "[encoded data removed]",
      "text/latex": [
       "$\\displaystyle \\left[\\begin{matrix}1 & 0\\\\0 & 1\\end{matrix}\\right]$"
      ],
      "text/plain": [
       "⎡1  0⎤\n",
       "⎢    ⎥\n",
       "⎣0  1⎦"
      ]
     },
     "execution_count": 81,
     "metadata": {},
     "output_type": "execute_result"
    }
   ],
   "source": [
    "sigma2*sigma2"
   ]
  },
  {
   "cell_type": "code",
   "execution_count": 82,
   "id": "bb63f548",
   "metadata": {},
   "outputs": [
    {
     "data": {
      "image/png": "[encoded data removed]",
      "text/latex": [
       "$\\displaystyle -1$"
      ],
      "text/plain": [
       "-1"
      ]
     },
     "execution_count": 82,
     "metadata": {},
     "output_type": "execute_result"
    }
   ],
   "source": [
    "LeviCivita(0,0)*LeviCivita(0,0) + LeviCivita(0,1)*LeviCivita(1,0)"
   ]
  },
  {
   "cell_type": "code",
   "execution_count": 84,
   "id": "cfc8bbcb",
   "metadata": {},
   "outputs": [
    {
     "data": {
      "image/png": "[encoded data removed]",
      "text/latex": [
       "$\\displaystyle 0$"
      ],
      "text/plain": [
       "0"
      ]
     },
     "execution_count": 84,
     "metadata": {},
     "output_type": "execute_result"
    }
   ],
   "source": [
    "LeviCivita(0,0)*LeviCivita(0,1) + LeviCivita(0,1)*LeviCivita(1,1)"
   ]
  },
  {
   "cell_type": "code",
   "execution_count": 86,
   "id": "f56049e8",
   "metadata": {},
   "outputs": [
    {
     "data": {
      "image/png": "[encoded data removed]",
      "text/latex": [
       "$\\displaystyle -1$"
      ],
      "text/plain": [
       "-1"
      ]
     },
     "execution_count": 86,
     "metadata": {},
     "output_type": "execute_result"
    }
   ],
   "source": [
    "k=1\n",
    "m=1\n",
    "res = 0\n",
    "for l in range(2):\n",
    "    res += LeviCivita(k,l)*LeviCivita(l,m)\n",
    "res"
   ]
  },
  {
   "cell_type": "code",
   "execution_count": 39,
   "id": "2e67846d",
   "metadata": {},
   "outputs": [
    {
     "data": {
      "image/png": "[encoded data removed]",
      "text/latex": [
       "$\\displaystyle \\left[\\begin{matrix}x_{0} + x_{3} & x_{1} - i x_{2}\\\\x_{1} + i x_{2} & x_{0} - x_{3}\\end{matrix}\\right]$"
      ],
      "text/plain": [
       "⎡ x₀ + x₃   x₁ - ⅈ⋅x₂⎤\n",
       "⎢                    ⎥\n",
       "⎣x₁ + ⅈ⋅x₂   x₀ - x₃ ⎦"
      ]
     },
     "execution_count": 39,
     "metadata": {},
     "output_type": "execute_result"
    }
   ],
   "source": [
    "x0, x1, x2, x3 = symbols('x0 x1 x2 x3', real=True)\n",
    "R = x0*sigma0 + x1*sigma1 + x2*sigma2 + x3*sigma3\n",
    "R"
   ]
  },
  {
   "cell_type": "code",
   "execution_count": 40,
   "id": "0c56e143",
   "metadata": {},
   "outputs": [
    {
     "data": {
      "image/png": "[encoded data removed]",
      "text/latex": [
       "$\\displaystyle \\left[ a = x_{0} + x_{3}, \\  b - i c = x_{1} - i x_{2}, \\  b + i c = x_{1} + i x_{2}, \\  d = x_{0} - x_{3}\\right]$"
      ],
      "text/plain": [
       "[a = x₀ + x₃, b - ⅈ⋅c = x₁ - ⅈ⋅x₂, b + ⅈ⋅c = x₁ + ⅈ⋅x₂, d = x₀ - x₃]"
      ]
     },
     "execution_count": 40,
     "metadata": {},
     "output_type": "execute_result"
    }
   ],
   "source": [
    "eqs = []\n",
    "for i in range(2):\n",
    "    for j in range(2):\n",
    "        eqs.append(Eq(M[i, j], R[i, j]))\n",
    "eqs"
   ]
  },
  {
   "cell_type": "code",
   "execution_count": 41,
   "id": "13df50b8",
   "metadata": {},
   "outputs": [
    {
     "data": {
      "image/png": "[encoded data removed]",
      "text/latex": [
       "$\\displaystyle \\left\\{ x_{0} : \\frac{a}{2} + \\frac{d}{2}, \\  x_{1} : b, \\  x_{2} : c, \\  x_{3} : \\frac{a}{2} - \\frac{d}{2}\\right\\}$"
      ],
      "text/plain": [
       "⎧    a   d                    a   d⎫\n",
       "⎨x₀: ─ + ─, x₁: b, x₂: c, x₃: ─ - ─⎬\n",
       "⎩    2   2                    2   2⎭"
      ]
     },
     "execution_count": 41,
     "metadata": {},
     "output_type": "execute_result"
    }
   ],
   "source": [
    "solve(eqs, (x0, x1, x2, x3), dict=True)[0]"
   ]
  },
  {
   "cell_type": "code",
   "execution_count": 42,
   "id": "6c8c1b12",
   "metadata": {},
   "outputs": [],
   "source": [
    "phi10, phi1p = symbols(r'\\phi_1^0, \\phi_1^+')\n",
    "phi20, phi2p = symbols(r'\\phi_2^0, \\phi_2^+')\n",
    "Phi1 = Matrix(\n",
    "    [\n",
    "        [phi1p],\n",
    "        [phi10]\n",
    "    ]\n",
    ")\n",
    "Phi2 = Matrix(\n",
    "    [\n",
    "        [phi2p],\n",
    "        [phi20]\n",
    "    ]\n",
    ")"
   ]
  },
  {
   "cell_type": "code",
   "execution_count": 43,
   "id": "f4fad363",
   "metadata": {},
   "outputs": [
    {
     "data": {
      "image/png": "[encoded data removed]",
      "text/latex": [
       "$\\displaystyle \\phi^{+}_{1} \\overline{\\phi^{+}_{1}} + \\phi^{0}_{1} \\overline{\\phi^{0}_{1}}$"
      ],
      "text/plain": [
       "       ______          ______\n",
       "\\phi⁺₁⋅\\phi⁺₁ + \\phi⁰₁⋅\\phi⁰₁"
      ]
     },
     "execution_count": 43,
     "metadata": {},
     "output_type": "execute_result"
    }
   ],
   "source": [
    "Phi1DPhi1 = (Dagger(Phi1)*sigma0*Phi1)[0]\n",
    "Phi1DPhi1 "
   ]
  },
  {
   "cell_type": "markdown",
   "id": "ca6cdf7d",
   "metadata": {},
   "source": [
    "## Bidoublet contractions"
   ]
  },
  {
   "cell_type": "code",
   "execution_count": 44,
   "id": "377c6d7c",
   "metadata": {},
   "outputs": [
    {
     "data": {
      "image/png": "[encoded data removed]",
      "text/latex": [
       "$\\displaystyle \\Phi^{\\dagger} \\Phi$"
      ],
      "text/plain": [
       " †  \n",
       "Φ ⋅Φ"
      ]
     },
     "execution_count": 44,
     "metadata": {},
     "output_type": "execute_result"
    }
   ],
   "source": [
    "Phi = MatrixSymbol('Phi', 2, 2)\n",
    "PhiDPhi = Dagger(Phi)*Phi\n",
    "PhiDPhi"
   ]
  },
  {
   "cell_type": "code",
   "execution_count": 46,
   "id": "5a6bc1f4",
   "metadata": {},
   "outputs": [
    {
     "data": {
      "image/png": "[encoded data removed]",
      "text/latex": [
       "$\\displaystyle \\left[\\begin{matrix}{\\Phi}_{0,0} & {\\Phi}_{0,1}\\\\{\\Phi}_{1,0} & {\\Phi}_{1,1}\\end{matrix}\\right]$"
      ],
      "text/plain": [
       "⎡Φ₀₀  Φ₀₁⎤\n",
       "⎢        ⎥\n",
       "⎣Φ₁₀  Φ₁₁⎦"
      ]
     },
     "execution_count": 46,
     "metadata": {},
     "output_type": "execute_result"
    }
   ],
   "source": [
    "Phi.as_explicit()"
   ]
  },
  {
   "cell_type": "code",
   "execution_count": null,
   "id": "d9d97202",
   "metadata": {},
   "outputs": [
    {
     "data": {
      "image/png": "[encoded data removed]",
      "text/latex": [
       "$\\displaystyle \\left[\\begin{matrix}\\overline{{\\Phi}_{0,0}} {\\Phi}_{0,0} + \\overline{{\\Phi}_{1,0}} {\\Phi}_{1,0} & \\overline{{\\Phi}_{0,0}} {\\Phi}_{0,1} + \\overline{{\\Phi}_{1,0}} {\\Phi}_{1,1}\\\\\\overline{{\\Phi}_{0,1}} {\\Phi}_{0,0} + \\overline{{\\Phi}_{1,1}} {\\Phi}_{1,0} & \\overline{{\\Phi}_{0,1}} {\\Phi}_{0,1} + \\overline{{\\Phi}_{1,1}} {\\Phi}_{1,1}\\end{matrix}\\right]$"
      ],
      "text/plain": [
       "⎡___       ___      ___       ___    ⎤\n",
       "⎢Φ₀₀⋅Φ₀₀ + Φ₁₀⋅Φ₁₀  Φ₀₀⋅Φ₀₁ + Φ₁₀⋅Φ₁₁⎥\n",
       "⎢                                    ⎥\n",
       "⎢___       ___      ___       ___    ⎥\n",
       "⎣Φ₀₁⋅Φ₀₀ + Φ₁₁⋅Φ₁₀  Φ₀₁⋅Φ₀₁ + Φ₁₁⋅Φ₁₁⎦"
      ]
     },
     "execution_count": 45,
     "metadata": {},
     "output_type": "execute_result"
    }
   ],
   "source": [
    "PhiDPhi.as_explicit()"
   ]
  },
  {
   "cell_type": "code",
   "execution_count": 48,
   "id": "83556da8",
   "metadata": {},
   "outputs": [
    {
     "data": {
      "image/png": "[encoded data removed]",
      "text/latex": [
       "$\\displaystyle \\overline{{\\Phi}_{0,0}} {\\Phi}_{0,0} + \\overline{{\\Phi}_{0,1}} {\\Phi}_{0,1} + \\overline{{\\Phi}_{1,0}} {\\Phi}_{1,0} + \\overline{{\\Phi}_{1,1}} {\\Phi}_{1,1}$"
      ],
      "text/plain": [
       "___       ___       ___       ___    \n",
       "Φ₀₀⋅Φ₀₀ + Φ₀₁⋅Φ₀₁ + Φ₁₀⋅Φ₁₀ + Φ₁₁⋅Φ₁₁"
      ]
     },
     "execution_count": 48,
     "metadata": {},
     "output_type": "execute_result"
    }
   ],
   "source": [
    "trace(PhiDPhi.as_explicit())"
   ]
  },
  {
   "cell_type": "code",
   "execution_count": 52,
   "id": "b9ae547d",
   "metadata": {},
   "outputs": [
    {
     "data": {
      "image/png": "[encoded data removed]",
      "text/latex": [
       "$\\displaystyle {\\Phi}_{0,0}$"
      ],
      "text/plain": [
       "Φ₀₀"
      ]
     },
     "execution_count": 52,
     "metadata": {},
     "output_type": "execute_result"
    }
   ],
   "source": [
    "Phi[0,0]"
   ]
  },
  {
   "cell_type": "code",
   "execution_count": 58,
   "id": "27f2867b",
   "metadata": {},
   "outputs": [
    {
     "data": {
      "image/png": "[encoded data removed]",
      "text/latex": [
       "$\\displaystyle \\overline{{\\Phi}_{0,0}} {\\Phi}_{0,0} + \\overline{{\\Phi}_{0,1}} {\\Phi}_{0,1} + \\overline{{\\Phi}_{1,0}} {\\Phi}_{1,0} + \\overline{{\\Phi}_{1,1}} {\\Phi}_{1,1}$"
      ],
      "text/plain": [
       "___       ___       ___       ___    \n",
       "Φ₀₀⋅Φ₀₀ + Φ₀₁⋅Φ₀₁ + Φ₁₀⋅Φ₁₀ + Φ₁₁⋅Φ₁₁"
      ]
     },
     "execution_count": 58,
     "metadata": {},
     "output_type": "execute_result"
    }
   ],
   "source": [
    "#i=1\n",
    "#j=1\n",
    "res = 0\n",
    "for k in range(2):\n",
    "    for i in range(2):\n",
    "        term = conjugate(Phi[k, i])*Phi[k, i]\n",
    "        #display(term)\n",
    "        res += term\n",
    "res\n"
   ]
  },
  {
   "cell_type": "code",
   "execution_count": 50,
   "id": "b2adcde1",
   "metadata": {},
   "outputs": [
    {
     "data": {
      "image/png": "[encoded data removed]",
      "text/latex": [
       "$\\displaystyle \\left[\\begin{matrix}\\overline{{\\Phi}_{1,1}} & - \\overline{{\\Phi}_{1,0}}\\\\- \\overline{{\\Phi}_{0,1}} & \\overline{{\\Phi}_{0,0}}\\end{matrix}\\right]$"
      ],
      "text/plain": [
       "⎡___    ___⎤\n",
       "⎢Φ₁₁   -Φ₁₀⎥\n",
       "⎢          ⎥\n",
       "⎢ ___  ___ ⎥\n",
       "⎣-Φ₀₁  Φ₀₀ ⎦"
      ]
     },
     "execution_count": 50,
     "metadata": {},
     "output_type": "execute_result"
    }
   ],
   "source": [
    "Phitilde = sigma2*conjugate(Phi)*sigma2\n",
    "Phitilde.as_explicit()"
   ]
  },
  {
   "cell_type": "markdown",
   "id": "c5a45824",
   "metadata": {},
   "source": [
    "We have the following result \n",
    "$$\n",
    "\\text{Tr}\\left(\\Phi^{\\dagger}\\tilde{\\Phi}\\right)^{2} = \\epsilon_{kl}\\epsilon_{mi}\\epsilon_{pq}\\epsilon_{rs}\\Phi_{ki}^{*}\\Phi_{lm}^{*}\\Phi_{ps}^{*}\\Phi_{qr}^{*}\n",
    "$$"
   ]
  },
  {
   "cell_type": "code",
   "execution_count": 59,
   "id": "ea2641af",
   "metadata": {},
   "outputs": [
    {
     "data": {
      "image/png": "[encoded data removed]",
      "text/latex": [
       "$\\displaystyle \\left[\\begin{matrix}i \\left(- i \\overline{{\\Phi}_{0,0}} \\overline{{\\Phi}_{1,1}} + i \\overline{{\\Phi}_{0,1}} \\overline{{\\Phi}_{1,0}}\\right) & 0\\\\0 & - i \\left(i \\overline{{\\Phi}_{0,0}} \\overline{{\\Phi}_{1,1}} - i \\overline{{\\Phi}_{0,1}} \\overline{{\\Phi}_{1,0}}\\right)\\end{matrix}\\right]$"
      ],
      "text/plain": [
       "⎡  ⎛    ___ ___     ___ ___⎞                            ⎤\n",
       "⎢ⅈ⋅⎝- ⅈ⋅Φ₀₀⋅Φ₁₁ + ⅈ⋅Φ₀₁⋅Φ₁₀⎠              0             ⎥\n",
       "⎢                                                       ⎥\n",
       "⎢                                ⎛  ___ ___     ___ ___⎞⎥\n",
       "⎣             0               -ⅈ⋅⎝ⅈ⋅Φ₀₀⋅Φ₁₁ - ⅈ⋅Φ₀₁⋅Φ₁₀⎠⎦"
      ]
     },
     "execution_count": 59,
     "metadata": {},
     "output_type": "execute_result"
    }
   ],
   "source": [
    "PhiDPhitilde = Dagger(Phi)*Phitilde\n",
    "PhiDPhitilde.as_explicit()"
   ]
  },
  {
   "cell_type": "code",
   "execution_count": 69,
   "id": "ef488ce0",
   "metadata": {},
   "outputs": [],
   "source": [
    "# \\epsilon_{kl}\\epsilon_{mi}\\epsilon_{pq}\\epsilon_{rs}\\Phi_{ki}^{*}\\Phi_{lm}^{*}\\Phi_{ps}^{*}\\Phi_{qr}^{*}\n",
    "res = 0\n",
    "for i in range(2):\n",
    "    for k in range(2):\n",
    "        for l in range(2):\n",
    "            for m in range(2):\n",
    "                for p in range(2):\n",
    "                    for q in range(2):\n",
    "                        for r in range(2):\n",
    "                            for s in range(2):\n",
    "                                term = (\n",
    "                                    LeviCivita(k,l)*LeviCivita(m,i)*LeviCivita(p,q)*LeviCivita(r,s)*\n",
    "                                    conjugate(Phi[k,i])*conjugate(Phi[l,m])*\n",
    "                                    conjugate(Phi[p,s])*conjugate(Phi[q,r])\n",
    "                                )\n",
    "\n",
    "                                res += term"
   ]
  },
  {
   "cell_type": "code",
   "execution_count": 76,
   "id": "a79a81b8",
   "metadata": {},
   "outputs": [
    {
     "data": {
      "text/plain": [
       "True"
      ]
     },
     "execution_count": 76,
     "metadata": {},
     "output_type": "execute_result"
    }
   ],
   "source": [
    "# Test of the result is equal to the trace squared of PhiDPhitilde\n",
    "res.factor() == (trace(PhiDPhitilde.as_explicit())**2).factor()"
   ]
  },
  {
   "cell_type": "code",
   "execution_count": 71,
   "id": "574b549f",
   "metadata": {},
   "outputs": [],
   "source": [
    "import itertools\n",
    "\n",
    "# Assume LeviCivita, conjugate, and Phi are defined in the global scope\n",
    "# as they were for the original code.\n",
    "# For example:\n",
    "# import cmath\n",
    "# import numpy as np\n",
    "# conjugate = np.conjugate # or cmath.conjugate if Phi elements are scalar\n",
    "# Phi = np.zeros((2,2), dtype=complex) # Example initialization\n",
    "# def LeviCivita(a, b): # Example definition, properties are used implicitly below\n",
    "#     if a == b: return 0\n",
    "#     if (a,b) == (0,1): return 1\n",
    "#     if (a,b) == (1,0): return -1\n",
    "#     return 0 # Should not happen for a,b in {0,1}\n",
    "\n",
    "res_improved = 0\n",
    "\n",
    "# The original loop over 'j' was unused. If it was intended to multiply\n",
    "# the result by 2, that factor should be applied to 'res_improved' at the end.\n",
    "# We assume here it was an oversight.\n",
    "\n",
    "# We iterate over the 4 independent indices: k, m, p, r.\n",
    "# Each ranges from 0 to 1.\n",
    "for k_idx, m_idx, p_idx, r_idx in itertools.product(range(2), repeat=4):\n",
    "    \n",
    "    # Determine dependent indices based on Levi-Civita properties\n",
    "    # l_idx = 1 - k_idx (from LeviCivita(k,l))\n",
    "    # i_idx = 1 - m_idx (from LeviCivita(m,i))\n",
    "    # q_idx = 1 - p_idx (from LeviCivita(p,q))\n",
    "    # s_idx = 1 - r_idx (from LeviCivita(r,s))\n",
    "\n",
    "    # The product of LeviCivita symbols results in a sign factor:\n",
    "    # LeviCivita(k,1-k) * LeviCivita(m,1-m) * LeviCivita(p,1-p) * LeviCivita(r,1-r)\n",
    "    # Assuming LeviCivita(x, 1-x) = (-1)^x (e.g., LC(0,1)=1, LC(1,0)=-1),\n",
    "    # the product is (-1)^(k_idx + m_idx + p_idx + r_idx).\n",
    "    exponent_sum = k_idx + m_idx + p_idx + r_idx\n",
    "    sign = 1 if exponent_sum % 2 == 0 else -1\n",
    "    \n",
    "    # Original Phi term product:\n",
    "    # conjugate(Phi[k,i])*conjugate(Phi[l,m])*conjugate(Phi[p,s])*conjugate(Phi[q,r])\n",
    "    # Substitute dependent indices:\n",
    "    # i_idx = 1-m_idx\n",
    "    # l_idx = 1-k_idx\n",
    "    # s_idx = 1-r_idx\n",
    "    # q_idx = 1-p_idx\n",
    "    \n",
    "    phi_term_product = (\n",
    "        conjugate(Phi[k_idx, 1-m_idx]) *    # conjugate(Phi[k,i])\n",
    "        conjugate(Phi[1-k_idx, m_idx]) *    # conjugate(Phi[l,m])\n",
    "        conjugate(Phi[p_idx, 1-r_idx]) *    # conjugate(Phi[p,s])\n",
    "        conjugate(Phi[1-p_idx, r_idx])     # conjugate(Phi[q,r])\n",
    "    )\n",
    "    \n",
    "    res_improved += sign * phi_term_product\n",
    "\n",
    "# At this point, res_improved holds the calculated sum.\n",
    "# If the original 'j' loop meant to double the result:\n",
    "# res_improved *= 2\n"
   ]
  },
  {
   "cell_type": "markdown",
   "id": "630fbf7a",
   "metadata": {},
   "source": [
    "Now, for \n",
    "$$\n",
    "\\text{Tr}\\left(\\tilde{\\Phi}^{\\dagger}\\Phi\\right)^{2} = \\epsilon_{ik}\\epsilon_{lm}\\epsilon_{pq}\\epsilon_{rs}\\Phi_{lk}\\Phi_{mi}\\Phi_{rq}\\Phi_{sp}\n",
    "$$"
   ]
  },
  {
   "cell_type": "code",
   "execution_count": 77,
   "id": "41be8691",
   "metadata": {},
   "outputs": [
    {
     "data": {
      "image/png": "[encoded data removed]",
      "text/latex": [
       "$\\displaystyle \\left[\\begin{matrix}- i \\left(i {\\Phi}_{0,0} {\\Phi}_{1,1} - i {\\Phi}_{0,1} {\\Phi}_{1,0}\\right) & 0\\\\0 & i \\left(- i {\\Phi}_{0,0} {\\Phi}_{1,1} + i {\\Phi}_{0,1} {\\Phi}_{1,0}\\right)\\end{matrix}\\right]$"
      ],
      "text/plain": [
       "⎡-ⅈ⋅(ⅈ⋅Φ₀₀⋅Φ₁₁ - ⅈ⋅Φ₀₁⋅Φ₁₀)              0             ⎤\n",
       "⎢                                                      ⎥\n",
       "⎣            0               ⅈ⋅(-ⅈ⋅Φ₀₀⋅Φ₁₁ + ⅈ⋅Φ₀₁⋅Φ₁₀)⎦"
      ]
     },
     "execution_count": 77,
     "metadata": {},
     "output_type": "execute_result"
    }
   ],
   "source": [
    "PhitildeDPhi = Dagger(Phitilde)*Phi\n",
    "PhitildeDPhi.as_explicit()"
   ]
  },
  {
   "cell_type": "code",
   "execution_count": 78,
   "id": "1ccfe69c",
   "metadata": {},
   "outputs": [],
   "source": [
    "# \\epsilon_{ik}\\epsilon_{lm}\\epsilon_{pq}\\epsilon_{rs}\\Phi_{lk}\\Phi_{mi}\\Phi_{rq}\\Phi_{sp}\n",
    "res = 0\n",
    "for i in range(2):\n",
    "    for k in range(2):\n",
    "        for l in range(2):\n",
    "            for m in range(2):\n",
    "                for p in range(2):\n",
    "                    for q in range(2):\n",
    "                        for r in range(2):\n",
    "                            for s in range(2):\n",
    "                                term = (\n",
    "                                    LeviCivita(i,k)*LeviCivita(l,m)*LeviCivita(p,q)*LeviCivita(r,s)*\n",
    "                                    Phi[l,k]*Phi[m,i]*\n",
    "                                    Phi[r,q]*Phi[s,p]\n",
    "                                )\n",
    "\n",
    "                                res += term"
   ]
  },
  {
   "cell_type": "code",
   "execution_count": 79,
   "id": "74dd1481",
   "metadata": {},
   "outputs": [
    {
     "data": {
      "text/plain": [
       "True"
      ]
     },
     "execution_count": 79,
     "metadata": {},
     "output_type": "execute_result"
    }
   ],
   "source": [
    "# Test of the result is equal to the trace squared of PhitildeDPhi\n",
    "res.factor() == (trace(PhitildeDPhi.as_explicit())**2).factor()"
   ]
  },
  {
   "cell_type": "code",
   "execution_count": 80,
   "id": "7859012d",
   "metadata": {},
   "outputs": [
    {
     "data": {
      "image/png": "[encoded data removed]",
      "text/latex": [
       "$\\displaystyle 4 \\left({\\Phi}_{0,0} {\\Phi}_{1,1} - {\\Phi}_{0,1} {\\Phi}_{1,0}\\right)^{2}$"
      ],
      "text/plain": [
       "                     2\n",
       "4⋅(Φ₀₀⋅Φ₁₁ - Φ₀₁⋅Φ₁₀) "
      ]
     },
     "execution_count": 80,
     "metadata": {},
     "output_type": "execute_result"
    }
   ],
   "source": [
    "res.factor()"
   ]
  },
  {
   "cell_type": "code",
   "execution_count": null,
   "id": "b064888f",
   "metadata": {},
   "outputs": [],
   "source": []
  }
 ],
 "metadata": {
  "kernelspec": {
   "display_name": "py311",
   "language": "python",
   "name": "python3"
  },
  "language_info": {
   "codemirror_mode": {
    "name": "ipython",
    "version": 3
   },
   "file_extension": ".py",
   "mimetype": "text/x-python",
   "name": "python",
   "nbconvert_exporter": "python",
   "pygments_lexer": "ipython3",
   "version": "3.11.11"
  }
 },
 "nbformat": 4,
 "nbformat_minor": 5
}
