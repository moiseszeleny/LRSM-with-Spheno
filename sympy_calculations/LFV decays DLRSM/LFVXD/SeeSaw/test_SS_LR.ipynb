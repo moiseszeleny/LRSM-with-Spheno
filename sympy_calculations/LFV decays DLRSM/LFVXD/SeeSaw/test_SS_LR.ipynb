{
 "cells": [
  {
   "cell_type": "code",
   "execution_count": 54,
   "metadata": {},
   "outputs": [],
   "source": [
    "from Unu_seesaw_LR import R, R2, MD,vL,vR, mn1, mn2, mn3, mn4, mn5, mn6\n",
    "from Unu_seesaw_LR import mlight, Osc_data\n",
    "from sympy.physics.quantum import Dagger\n",
    "from sympy import sqrt, I"
   ]
  },
  {
   "cell_type": "code",
   "execution_count": 26,
   "metadata": {},
   "outputs": [
    {
     "data": {
      "text/plain": [
       "{m_{n_2}: sqrt(m_{n_1}**2 + 7.39e-23), m_{n3}: sqrt(m_{n_1}**2 + 2.523e-21)}"
      ]
     },
     "execution_count": 26,
     "metadata": {},
     "output_type": "execute_result"
    }
   ],
   "source": [
    "mlight"
   ]
  },
  {
   "cell_type": "markdown",
   "metadata": {},
   "source": [
    "# Heavy neutrino degenerate"
   ]
  },
  {
   "cell_type": "code",
   "execution_count": 14,
   "metadata": {},
   "outputs": [],
   "source": [
    "mN_deg = {mn4:mn6, mn5:mn6}"
   ]
  },
  {
   "cell_type": "code",
   "execution_count": 6,
   "metadata": {},
   "outputs": [
    {
     "data": {
      "text/latex": [
       "$\\displaystyle \\left[\\begin{matrix}- \\frac{m_{n_1}}{m_{n_4}} + \\frac{v_{L}}{v_{R}} & 0 & 0\\\\0 & - \\frac{m_{n_2}}{m_{n_5}} + \\frac{v_{L}}{v_{R}} & 0\\\\0 & 0 & - \\frac{m_{n3}}{m_{n_6}} + \\frac{v_{L}}{v_{R}}\\end{matrix}\\right]$"
      ],
      "text/plain": [
       "Matrix([\n",
       "[-m_{n_1}/m_{n_4} + v_L/v_R,                          0,                         0],\n",
       "[                         0, -m_{n_2}/m_{n_5} + v_L/v_R,                         0],\n",
       "[                         0,                          0, -m_{n3}/m_{n_6} + v_L/v_R]])"
      ]
     },
     "execution_count": 6,
     "metadata": {},
     "output_type": "execute_result"
    }
   ],
   "source": [
    "R2"
   ]
  },
  {
   "cell_type": "code",
   "execution_count": 7,
   "metadata": {},
   "outputs": [
    {
     "data": {
      "text/latex": [
       "$\\displaystyle \\left[\\begin{matrix}\\sqrt{- \\frac{m_{n_1}}{m_{n_4}} + \\frac{v_{L}}{v_{R}}} & 0 & 0\\\\0 & \\sqrt{\\frac{v_{L}}{v_{R}} - \\frac{m_{n_2}}{m_{n3}}} & 0\\\\0 & 0 & \\sqrt{- \\frac{m_{n3}}{m_{n_6}} + \\frac{v_{L}}{v_{R}}}\\end{matrix}\\right]$"
      ],
      "text/plain": [
       "Matrix([\n",
       "[sqrt(-m_{n_1}/m_{n_4} + v_L/v_R),                              0,                               0],\n",
       "[                               0, sqrt(v_L/v_R - m_{n_2}/m_{n3}),                               0],\n",
       "[                               0,                              0, sqrt(-m_{n3}/m_{n_6} + v_L/v_R)]])"
      ]
     },
     "execution_count": 7,
     "metadata": {},
     "output_type": "execute_result"
    }
   ],
   "source": [
    "R"
   ]
  },
  {
   "cell_type": "code",
   "execution_count": 8,
   "metadata": {},
   "outputs": [
    {
     "data": {
      "text/latex": [
       "$\\displaystyle \\left[\\begin{matrix}m_{n_4} \\sqrt{- \\frac{m_{n_1}}{m_{n_4}} + \\frac{v_{L}}{v_{R}}} \\cos^{2}{\\left(\\theta_{12} \\right)} \\cos^{2}{\\left(\\theta_{13} \\right)} + m_{n_5} \\sqrt{\\frac{v_{L}}{v_{R}} - \\frac{m_{n_2}}{m_{n3}}} \\sin^{2}{\\left(\\theta_{12} \\right)} \\cos^{2}{\\left(\\theta_{13} \\right)} + m_{n_6} \\sqrt{- \\frac{m_{n3}}{m_{n_6}} + \\frac{v_{L}}{v_{R}}} \\sin^{2}{\\left(\\theta_{13} \\right)} & m_{n_4} \\sqrt{- \\frac{m_{n_1}}{m_{n_4}} + \\frac{v_{L}}{v_{R}}} \\left(- \\sin{\\left(\\theta_{12} \\right)} \\cos{\\left(\\theta_{23} \\right)} - \\sin{\\left(\\theta_{13} \\right)} \\sin{\\left(\\theta_{23} \\right)} \\cos{\\left(\\theta_{12} \\right)}\\right) \\cos{\\left(\\theta_{12} \\right)} \\cos{\\left(\\theta_{13} \\right)} + m_{n_5} \\sqrt{\\frac{v_{L}}{v_{R}} - \\frac{m_{n_2}}{m_{n3}}} \\left(- \\sin{\\left(\\theta_{12} \\right)} \\sin{\\left(\\theta_{13} \\right)} \\sin{\\left(\\theta_{23} \\right)} + \\cos{\\left(\\theta_{12} \\right)} \\cos{\\left(\\theta_{23} \\right)}\\right) \\sin{\\left(\\theta_{12} \\right)} \\cos{\\left(\\theta_{13} \\right)} + m_{n_6} \\sqrt{- \\frac{m_{n3}}{m_{n_6}} + \\frac{v_{L}}{v_{R}}} \\sin{\\left(\\theta_{13} \\right)} \\sin{\\left(\\theta_{23} \\right)} \\cos{\\left(\\theta_{13} \\right)} & m_{n_4} \\sqrt{- \\frac{m_{n_1}}{m_{n_4}} + \\frac{v_{L}}{v_{R}}} \\left(\\sin{\\left(\\theta_{12} \\right)} \\sin{\\left(\\theta_{23} \\right)} - \\sin{\\left(\\theta_{13} \\right)} \\cos{\\left(\\theta_{12} \\right)} \\cos{\\left(\\theta_{23} \\right)}\\right) \\cos{\\left(\\theta_{12} \\right)} \\cos{\\left(\\theta_{13} \\right)} + m_{n_5} \\sqrt{\\frac{v_{L}}{v_{R}} - \\frac{m_{n_2}}{m_{n3}}} \\left(- \\sin{\\left(\\theta_{12} \\right)} \\sin{\\left(\\theta_{13} \\right)} \\cos{\\left(\\theta_{23} \\right)} - \\sin{\\left(\\theta_{23} \\right)} \\cos{\\left(\\theta_{12} \\right)}\\right) \\sin{\\left(\\theta_{12} \\right)} \\cos{\\left(\\theta_{13} \\right)} + m_{n_6} \\sqrt{- \\frac{m_{n3}}{m_{n_6}} + \\frac{v_{L}}{v_{R}}} \\sin{\\left(\\theta_{13} \\right)} \\cos{\\left(\\theta_{13} \\right)} \\cos{\\left(\\theta_{23} \\right)}\\\\m_{n_4} \\sqrt{- \\frac{m_{n_1}}{m_{n_4}} + \\frac{v_{L}}{v_{R}}} \\left(- \\sin{\\left(\\theta_{12} \\right)} \\cos{\\left(\\theta_{23} \\right)} - \\sin{\\left(\\theta_{13} \\right)} \\sin{\\left(\\theta_{23} \\right)} \\cos{\\left(\\theta_{12} \\right)}\\right) \\cos{\\left(\\theta_{12} \\right)} \\cos{\\left(\\theta_{13} \\right)} + m_{n_5} \\sqrt{\\frac{v_{L}}{v_{R}} - \\frac{m_{n_2}}{m_{n3}}} \\left(- \\sin{\\left(\\theta_{12} \\right)} \\sin{\\left(\\theta_{13} \\right)} \\sin{\\left(\\theta_{23} \\right)} + \\cos{\\left(\\theta_{12} \\right)} \\cos{\\left(\\theta_{23} \\right)}\\right) \\sin{\\left(\\theta_{12} \\right)} \\cos{\\left(\\theta_{13} \\right)} + m_{n_6} \\sqrt{- \\frac{m_{n3}}{m_{n_6}} + \\frac{v_{L}}{v_{R}}} \\sin{\\left(\\theta_{13} \\right)} \\sin{\\left(\\theta_{23} \\right)} \\cos{\\left(\\theta_{13} \\right)} & m_{n_4} \\sqrt{- \\frac{m_{n_1}}{m_{n_4}} + \\frac{v_{L}}{v_{R}}} \\left(- \\sin{\\left(\\theta_{12} \\right)} \\cos{\\left(\\theta_{23} \\right)} - \\sin{\\left(\\theta_{13} \\right)} \\sin{\\left(\\theta_{23} \\right)} \\cos{\\left(\\theta_{12} \\right)}\\right)^{2} + m_{n_5} \\sqrt{\\frac{v_{L}}{v_{R}} - \\frac{m_{n_2}}{m_{n3}}} \\left(- \\sin{\\left(\\theta_{12} \\right)} \\sin{\\left(\\theta_{13} \\right)} \\sin{\\left(\\theta_{23} \\right)} + \\cos{\\left(\\theta_{12} \\right)} \\cos{\\left(\\theta_{23} \\right)}\\right)^{2} + m_{n_6} \\sqrt{- \\frac{m_{n3}}{m_{n_6}} + \\frac{v_{L}}{v_{R}}} \\sin^{2}{\\left(\\theta_{23} \\right)} \\cos^{2}{\\left(\\theta_{13} \\right)} & m_{n_4} \\sqrt{- \\frac{m_{n_1}}{m_{n_4}} + \\frac{v_{L}}{v_{R}}} \\left(\\sin{\\left(\\theta_{12} \\right)} \\sin{\\left(\\theta_{23} \\right)} - \\sin{\\left(\\theta_{13} \\right)} \\cos{\\left(\\theta_{12} \\right)} \\cos{\\left(\\theta_{23} \\right)}\\right) \\left(- \\sin{\\left(\\theta_{12} \\right)} \\cos{\\left(\\theta_{23} \\right)} - \\sin{\\left(\\theta_{13} \\right)} \\sin{\\left(\\theta_{23} \\right)} \\cos{\\left(\\theta_{12} \\right)}\\right) + m_{n_5} \\sqrt{\\frac{v_{L}}{v_{R}} - \\frac{m_{n_2}}{m_{n3}}} \\left(- \\sin{\\left(\\theta_{12} \\right)} \\sin{\\left(\\theta_{13} \\right)} \\sin{\\left(\\theta_{23} \\right)} + \\cos{\\left(\\theta_{12} \\right)} \\cos{\\left(\\theta_{23} \\right)}\\right) \\left(- \\sin{\\left(\\theta_{12} \\right)} \\sin{\\left(\\theta_{13} \\right)} \\cos{\\left(\\theta_{23} \\right)} - \\sin{\\left(\\theta_{23} \\right)} \\cos{\\left(\\theta_{12} \\right)}\\right) + m_{n_6} \\sqrt{- \\frac{m_{n3}}{m_{n_6}} + \\frac{v_{L}}{v_{R}}} \\sin{\\left(\\theta_{23} \\right)} \\cos^{2}{\\left(\\theta_{13} \\right)} \\cos{\\left(\\theta_{23} \\right)}\\\\m_{n_4} \\sqrt{- \\frac{m_{n_1}}{m_{n_4}} + \\frac{v_{L}}{v_{R}}} \\left(\\sin{\\left(\\theta_{12} \\right)} \\sin{\\left(\\theta_{23} \\right)} - \\sin{\\left(\\theta_{13} \\right)} \\cos{\\left(\\theta_{12} \\right)} \\cos{\\left(\\theta_{23} \\right)}\\right) \\cos{\\left(\\theta_{12} \\right)} \\cos{\\left(\\theta_{13} \\right)} + m_{n_5} \\sqrt{\\frac{v_{L}}{v_{R}} - \\frac{m_{n_2}}{m_{n3}}} \\left(- \\sin{\\left(\\theta_{12} \\right)} \\sin{\\left(\\theta_{13} \\right)} \\cos{\\left(\\theta_{23} \\right)} - \\sin{\\left(\\theta_{23} \\right)} \\cos{\\left(\\theta_{12} \\right)}\\right) \\sin{\\left(\\theta_{12} \\right)} \\cos{\\left(\\theta_{13} \\right)} + m_{n_6} \\sqrt{- \\frac{m_{n3}}{m_{n_6}} + \\frac{v_{L}}{v_{R}}} \\sin{\\left(\\theta_{13} \\right)} \\cos{\\left(\\theta_{13} \\right)} \\cos{\\left(\\theta_{23} \\right)} & m_{n_4} \\sqrt{- \\frac{m_{n_1}}{m_{n_4}} + \\frac{v_{L}}{v_{R}}} \\left(\\sin{\\left(\\theta_{12} \\right)} \\sin{\\left(\\theta_{23} \\right)} - \\sin{\\left(\\theta_{13} \\right)} \\cos{\\left(\\theta_{12} \\right)} \\cos{\\left(\\theta_{23} \\right)}\\right) \\left(- \\sin{\\left(\\theta_{12} \\right)} \\cos{\\left(\\theta_{23} \\right)} - \\sin{\\left(\\theta_{13} \\right)} \\sin{\\left(\\theta_{23} \\right)} \\cos{\\left(\\theta_{12} \\right)}\\right) + m_{n_5} \\sqrt{\\frac{v_{L}}{v_{R}} - \\frac{m_{n_2}}{m_{n3}}} \\left(- \\sin{\\left(\\theta_{12} \\right)} \\sin{\\left(\\theta_{13} \\right)} \\sin{\\left(\\theta_{23} \\right)} + \\cos{\\left(\\theta_{12} \\right)} \\cos{\\left(\\theta_{23} \\right)}\\right) \\left(- \\sin{\\left(\\theta_{12} \\right)} \\sin{\\left(\\theta_{13} \\right)} \\cos{\\left(\\theta_{23} \\right)} - \\sin{\\left(\\theta_{23} \\right)} \\cos{\\left(\\theta_{12} \\right)}\\right) + m_{n_6} \\sqrt{- \\frac{m_{n3}}{m_{n_6}} + \\frac{v_{L}}{v_{R}}} \\sin{\\left(\\theta_{23} \\right)} \\cos^{2}{\\left(\\theta_{13} \\right)} \\cos{\\left(\\theta_{23} \\right)} & m_{n_4} \\sqrt{- \\frac{m_{n_1}}{m_{n_4}} + \\frac{v_{L}}{v_{R}}} \\left(\\sin{\\left(\\theta_{12} \\right)} \\sin{\\left(\\theta_{23} \\right)} - \\sin{\\left(\\theta_{13} \\right)} \\cos{\\left(\\theta_{12} \\right)} \\cos{\\left(\\theta_{23} \\right)}\\right)^{2} + m_{n_5} \\sqrt{\\frac{v_{L}}{v_{R}} - \\frac{m_{n_2}}{m_{n3}}} \\left(- \\sin{\\left(\\theta_{12} \\right)} \\sin{\\left(\\theta_{13} \\right)} \\cos{\\left(\\theta_{23} \\right)} - \\sin{\\left(\\theta_{23} \\right)} \\cos{\\left(\\theta_{12} \\right)}\\right)^{2} + m_{n_6} \\sqrt{- \\frac{m_{n3}}{m_{n_6}} + \\frac{v_{L}}{v_{R}}} \\cos^{2}{\\left(\\theta_{13} \\right)} \\cos^{2}{\\left(\\theta_{23} \\right)}\\end{matrix}\\right]$"
      ],
      "text/plain": [
       "Matrix([\n",
       "[                                                                                                                                                                                                       m_{n_4}*sqrt(-m_{n_1}/m_{n_4} + v_L/v_R)*cos(\\theta_{12})**2*cos(\\theta_{13})**2 + m_{n_5}*sqrt(v_L/v_R - m_{n_2}/m_{n3})*sin(\\theta_{12})**2*cos(\\theta_{13})**2 + m_{n_6}*sqrt(-m_{n3}/m_{n_6} + v_L/v_R)*sin(\\theta_{13})**2,                                                                                                                   m_{n_4}*sqrt(-m_{n_1}/m_{n_4} + v_L/v_R)*(-sin(\\theta_{12})*cos(\\theta_{23}) - sin(\\theta_{13})*sin(\\theta_{23})*cos(\\theta_{12}))*cos(\\theta_{12})*cos(\\theta_{13}) + m_{n_5}*sqrt(v_L/v_R - m_{n_2}/m_{n3})*(-sin(\\theta_{12})*sin(\\theta_{13})*sin(\\theta_{23}) + cos(\\theta_{12})*cos(\\theta_{23}))*sin(\\theta_{12})*cos(\\theta_{13}) + m_{n_6}*sqrt(-m_{n3}/m_{n_6} + v_L/v_R)*sin(\\theta_{13})*sin(\\theta_{23})*cos(\\theta_{13}),                                                                                                                    m_{n_4}*sqrt(-m_{n_1}/m_{n_4} + v_L/v_R)*(sin(\\theta_{12})*sin(\\theta_{23}) - sin(\\theta_{13})*cos(\\theta_{12})*cos(\\theta_{23}))*cos(\\theta_{12})*cos(\\theta_{13}) + m_{n_5}*sqrt(v_L/v_R - m_{n_2}/m_{n3})*(-sin(\\theta_{12})*sin(\\theta_{13})*cos(\\theta_{23}) - sin(\\theta_{23})*cos(\\theta_{12}))*sin(\\theta_{12})*cos(\\theta_{13}) + m_{n_6}*sqrt(-m_{n3}/m_{n_6} + v_L/v_R)*sin(\\theta_{13})*cos(\\theta_{13})*cos(\\theta_{23})],\n",
       "[m_{n_4}*sqrt(-m_{n_1}/m_{n_4} + v_L/v_R)*(-sin(\\theta_{12})*cos(\\theta_{23}) - sin(\\theta_{13})*sin(\\theta_{23})*cos(\\theta_{12}))*cos(\\theta_{12})*cos(\\theta_{13}) + m_{n_5}*sqrt(v_L/v_R - m_{n_2}/m_{n3})*(-sin(\\theta_{12})*sin(\\theta_{13})*sin(\\theta_{23}) + cos(\\theta_{12})*cos(\\theta_{23}))*sin(\\theta_{12})*cos(\\theta_{13}) + m_{n_6}*sqrt(-m_{n3}/m_{n_6} + v_L/v_R)*sin(\\theta_{13})*sin(\\theta_{23})*cos(\\theta_{13}),                                                                                                                                                                                            m_{n_4}*sqrt(-m_{n_1}/m_{n_4} + v_L/v_R)*(-sin(\\theta_{12})*cos(\\theta_{23}) - sin(\\theta_{13})*sin(\\theta_{23})*cos(\\theta_{12}))**2 + m_{n_5}*sqrt(v_L/v_R - m_{n_2}/m_{n3})*(-sin(\\theta_{12})*sin(\\theta_{13})*sin(\\theta_{23}) + cos(\\theta_{12})*cos(\\theta_{23}))**2 + m_{n_6}*sqrt(-m_{n3}/m_{n_6} + v_L/v_R)*sin(\\theta_{23})**2*cos(\\theta_{13})**2, m_{n_4}*sqrt(-m_{n_1}/m_{n_4} + v_L/v_R)*(sin(\\theta_{12})*sin(\\theta_{23}) - sin(\\theta_{13})*cos(\\theta_{12})*cos(\\theta_{23}))*(-sin(\\theta_{12})*cos(\\theta_{23}) - sin(\\theta_{13})*sin(\\theta_{23})*cos(\\theta_{12})) + m_{n_5}*sqrt(v_L/v_R - m_{n_2}/m_{n3})*(-sin(\\theta_{12})*sin(\\theta_{13})*sin(\\theta_{23}) + cos(\\theta_{12})*cos(\\theta_{23}))*(-sin(\\theta_{12})*sin(\\theta_{13})*cos(\\theta_{23}) - sin(\\theta_{23})*cos(\\theta_{12})) + m_{n_6}*sqrt(-m_{n3}/m_{n_6} + v_L/v_R)*sin(\\theta_{23})*cos(\\theta_{13})**2*cos(\\theta_{23})],\n",
       "[ m_{n_4}*sqrt(-m_{n_1}/m_{n_4} + v_L/v_R)*(sin(\\theta_{12})*sin(\\theta_{23}) - sin(\\theta_{13})*cos(\\theta_{12})*cos(\\theta_{23}))*cos(\\theta_{12})*cos(\\theta_{13}) + m_{n_5}*sqrt(v_L/v_R - m_{n_2}/m_{n3})*(-sin(\\theta_{12})*sin(\\theta_{13})*cos(\\theta_{23}) - sin(\\theta_{23})*cos(\\theta_{12}))*sin(\\theta_{12})*cos(\\theta_{13}) + m_{n_6}*sqrt(-m_{n3}/m_{n_6} + v_L/v_R)*sin(\\theta_{13})*cos(\\theta_{13})*cos(\\theta_{23}), m_{n_4}*sqrt(-m_{n_1}/m_{n_4} + v_L/v_R)*(sin(\\theta_{12})*sin(\\theta_{23}) - sin(\\theta_{13})*cos(\\theta_{12})*cos(\\theta_{23}))*(-sin(\\theta_{12})*cos(\\theta_{23}) - sin(\\theta_{13})*sin(\\theta_{23})*cos(\\theta_{12})) + m_{n_5}*sqrt(v_L/v_R - m_{n_2}/m_{n3})*(-sin(\\theta_{12})*sin(\\theta_{13})*sin(\\theta_{23}) + cos(\\theta_{12})*cos(\\theta_{23}))*(-sin(\\theta_{12})*sin(\\theta_{13})*cos(\\theta_{23}) - sin(\\theta_{23})*cos(\\theta_{12})) + m_{n_6}*sqrt(-m_{n3}/m_{n_6} + v_L/v_R)*sin(\\theta_{23})*cos(\\theta_{13})**2*cos(\\theta_{23}),                                                                                                                                                                                             m_{n_4}*sqrt(-m_{n_1}/m_{n_4} + v_L/v_R)*(sin(\\theta_{12})*sin(\\theta_{23}) - sin(\\theta_{13})*cos(\\theta_{12})*cos(\\theta_{23}))**2 + m_{n_5}*sqrt(v_L/v_R - m_{n_2}/m_{n3})*(-sin(\\theta_{12})*sin(\\theta_{13})*cos(\\theta_{23}) - sin(\\theta_{23})*cos(\\theta_{12}))**2 + m_{n_6}*sqrt(-m_{n3}/m_{n_6} + v_L/v_R)*cos(\\theta_{13})**2*cos(\\theta_{23})**2]])"
      ]
     },
     "execution_count": 8,
     "metadata": {},
     "output_type": "execute_result"
    }
   ],
   "source": [
    "MD"
   ]
  },
  {
   "cell_type": "code",
   "execution_count": 55,
   "metadata": {},
   "outputs": [],
   "source": [
    "x = 1000\n",
    "mn1_val = 1e-12\n",
    "def diferencias_eigenvals_masas(x):\n",
    "    MD1 = MD.subs(vL,vR/x).subs(mN_deg).subs(mlight).subs(Osc_data).subs(mn1, mn1_val).subs(mn6, x).n()\n",
    "    md1 = list((MD1).eigenvals().keys())\n",
    "    #md1\n",
    "    display(1*(md1[0]- mn1_val))\n",
    "    display(1*(md1[1]- mlight[mn2].subs(mn1, mn1_val)))\n",
    "    display(1*(md1[2]- mlight[mn3].subs(mn1, mn1_val)))\n",
    "\n",
    "def diferencias_eigenvals_masas2(x):\n",
    "    MD1 = I*MD.subs(vL,vR/x).subs(mN_deg).subs(mlight).subs(Osc_data).subs(mn1, mn1_val).subs(mn6, x).n()\n",
    "    MD1_dagger = Dagger(MD1)\n",
    "    md1 = list((MD1*MD1_dagger).eigenvals().keys())\n",
    "    #md1\n",
    "    display(1*(sqrt(md1[0]).n() - mn1_val))\n",
    "    display(1*(sqrt(md1[1]).n() - mlight[mn2].subs(mn1, mn1_val)))\n",
    "    display(1*(sqrt(md1[2]).n() - mlight[mn3].subs(mn1, mn1_val)))"
   ]
  },
  {
   "cell_type": "code",
   "execution_count": 56,
   "metadata": {},
   "outputs": [
    {
     "data": {
      "text/latex": [
       "$\\displaystyle -9.98152785533729 \\cdot 10^{-13} + 413.84136666023 i$"
      ],
      "text/plain": [
       "-9.98152785533729e-13 + 413.84136666023*I"
      ]
     },
     "metadata": {},
     "output_type": "display_data"
    },
    {
     "data": {
      "text/latex": [
       "$\\displaystyle 31.6227766016593 + 1.38588735257023 \\cdot 10^{-14} i$"
      ],
      "text/plain": [
       "31.6227766016593 + 1.38588735257023e-14*I"
      ]
     },
     "metadata": {},
     "output_type": "display_data"
    },
    {
     "data": {
      "text/latex": [
       "$\\displaystyle 31.6227766008392 + 4.36943726739017 \\cdot 10^{-14} i$"
      ],
      "text/plain": [
       "31.6227766008392 + 4.36943726739017e-14*I"
      ]
     },
     "metadata": {},
     "output_type": "display_data"
    },
    {
     "data": {
      "text/latex": [
       "$\\displaystyle 413.841366660229 + 7.0 \\cdot 10^{-68} i$"
      ],
      "text/plain": [
       "413.841366660229 + 0.e-67*I"
      ]
     },
     "metadata": {},
     "output_type": "display_data"
    },
    {
     "data": {
      "text/latex": [
       "$\\displaystyle 31.6227766016593 - 5.0 \\cdot 10^{-66} i$"
      ],
      "text/plain": [
       "31.6227766016593 - 0.e-66*I"
      ]
     },
     "metadata": {},
     "output_type": "display_data"
    },
    {
     "data": {
      "text/latex": [
       "$\\displaystyle 31.6227766008392 + 5.0 \\cdot 10^{-66} i$"
      ],
      "text/plain": [
       "31.6227766008392 + 0.e-66*I"
      ]
     },
     "metadata": {},
     "output_type": "display_data"
    }
   ],
   "source": [
    "diferencias_eigenvals_masas(1000)\n",
    "diferencias_eigenvals_masas2(1000)"
   ]
  },
  {
   "cell_type": "code",
   "execution_count": 57,
   "metadata": {},
   "outputs": [
    {
     "data": {
      "text/latex": [
       "$\\displaystyle -9.99686200772129 \\cdot 10^{-13} + 40.2820899109278 i$"
      ],
      "text/plain": [
       "-9.99686200772129e-13 + 40.2820899109278*I"
      ]
     },
     "metadata": {},
     "output_type": "display_data"
    },
    {
     "data": {
      "text/latex": [
       "$\\displaystyle 9.99999999998635 + 7.29189623649666 \\cdot 10^{-16} i$"
      ],
      "text/plain": [
       "9.99999999998635 + 7.29189623649666e-16*I"
      ]
     },
     "metadata": {},
     "output_type": "display_data"
    },
    {
     "data": {
      "text/latex": [
       "$\\displaystyle 9.99999999969856 + 3.92274243629439 \\cdot 10^{-15} i$"
      ],
      "text/plain": [
       "9.99999999969856 + 3.92274243629439e-15*I"
      ]
     },
     "metadata": {},
     "output_type": "display_data"
    },
    {
     "data": {
      "text/latex": [
       "$\\displaystyle 40.2820899109268 + 1.0 \\cdot 10^{-69} i$"
      ],
      "text/plain": [
       "40.2820899109268 + 0.e-69*I"
      ]
     },
     "metadata": {},
     "output_type": "display_data"
    },
    {
     "data": {
      "text/latex": [
       "$\\displaystyle 9.99999999998635 + 5.0 \\cdot 10^{-69} i$"
      ],
      "text/plain": [
       "9.99999999998635 + 0.e-69*I"
      ]
     },
     "metadata": {},
     "output_type": "display_data"
    },
    {
     "data": {
      "text/latex": [
       "$\\displaystyle 9.99999999969856 - 2.0 \\cdot 10^{-68} i$"
      ],
      "text/plain": [
       "9.99999999969856 - 0.e-68*I"
      ]
     },
     "metadata": {},
     "output_type": "display_data"
    }
   ],
   "source": [
    "diferencias_eigenvals_masas(100)\n",
    "diferencias_eigenvals_masas2(100)"
   ]
  },
  {
   "cell_type": "code",
   "execution_count": 58,
   "metadata": {},
   "outputs": [
    {
     "data": {
      "text/latex": [
       "$\\displaystyle -1.01186057211874 \\cdot 10^{-12} + 4149.27315031449 i$"
      ],
      "text/plain": [
       "-1.01186057211874e-12 + 4149.27315031449*I"
      ]
     },
     "metadata": {},
     "output_type": "display_data"
    },
    {
     "data": {
      "text/latex": [
       "$\\displaystyle 99.9999999999414 + 4.86274652526825 \\cdot 10^{-14} i$"
      ],
      "text/plain": [
       "99.9999999999414 + 4.86274652526825e-14*I"
      ]
     },
     "metadata": {},
     "output_type": "display_data"
    },
    {
     "data": {
      "text/latex": [
       "$\\displaystyle 99.9999999974378 + 3.0442490597654 \\cdot 10^{-13} i$"
      ],
      "text/plain": [
       "99.9999999974378 + 3.0442490597654e-13*I"
      ]
     },
     "metadata": {},
     "output_type": "display_data"
    },
    {
     "data": {
      "text/latex": [
       "$\\displaystyle 4149.27315031448 - 2.0 \\cdot 10^{-66} i$"
      ],
      "text/plain": [
       "4149.27315031448 - 0.e-66*I"
      ]
     },
     "metadata": {},
     "output_type": "display_data"
    },
    {
     "data": {
      "text/latex": [
       "$\\displaystyle 99.9999999999415 + 4.0 \\cdot 10^{-65} i$"
      ],
      "text/plain": [
       "99.9999999999415 + 0.e-65*I"
      ]
     },
     "metadata": {},
     "output_type": "display_data"
    },
    {
     "data": {
      "text/latex": [
       "$\\displaystyle 99.9999999974355 - 2.0 \\cdot 10^{-65} i$"
      ],
      "text/plain": [
       "99.9999999974355 - 0.e-65*I"
      ]
     },
     "metadata": {},
     "output_type": "display_data"
    }
   ],
   "source": [
    "diferencias_eigenvals_masas(10000)\n",
    "diferencias_eigenvals_masas2(10000)"
   ]
  },
  {
   "cell_type": "code",
   "execution_count": null,
   "metadata": {},
   "outputs": [],
   "source": []
  },
  {
   "cell_type": "code",
   "execution_count": null,
   "metadata": {},
   "outputs": [],
   "source": []
  }
 ],
 "metadata": {
  "kernelspec": {
   "display_name": "py37",
   "language": "python",
   "name": "python3"
  },
  "language_info": {
   "codemirror_mode": {
    "name": "ipython",
    "version": 3
   },
   "file_extension": ".py",
   "mimetype": "text/x-python",
   "name": "python",
   "nbconvert_exporter": "python",
   "pygments_lexer": "ipython3",
   "version": "3.7.12"
  }
 },
 "nbformat": 4,
 "nbformat_minor": 2
}
