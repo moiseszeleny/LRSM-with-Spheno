{
 "cells": [
  {
   "cell_type": "code",
   "execution_count": 1,
   "id": "f5e24ed9",
   "metadata": {},
   "outputs": [],
   "source": [
    "import matplotlib.pyplot as plt\n",
    "import mpmath as mp\n",
    "mp.dps = 120; mp.pretty = True\n",
    "\n",
    "from neutrinos import UpmnsStandardParametrization, NuOscObservables\n",
    "Nudata = NuOscObservables"
   ]
  },
  {
   "cell_type": "code",
   "execution_count": 2,
   "id": "f93e1d54",
   "metadata": {},
   "outputs": [
    {
     "name": "stdout",
     "output_type": "stream",
     "text": [
      "\u001b[34m\n",
      "      ____  __________  __                    \n",
      "     / __ \\/ ____/ __ \\/ /   ____  ____  ____ \n",
      "    / / / / /   / / / / /   / __ \\/ __ \\/ __ \\\n",
      "   / /_/ / /___/ /_/ / /___/ /_/ / /_/ / /_/ /\n",
      "   \\___\\_\\____/_____/_____/\\____/\\____/ .___/ \n",
      "                                     /_/      \n",
      "   ___git___: 2.1.0 | __authors__: S.C., K.E., G.Z.\u001b[39m\n",
      "\n",
      "--- Calculating H10 Interactions ---\n",
      "\n",
      "--- Calculating Z1 Interactions ---\n",
      "\n",
      "--- Defining Lepton Interactions with charged fields ---\n",
      "\n",
      "Refactored script execution finished.\n"
     ]
    },
    {
     "name": "stderr",
     "output_type": "stream",
     "text": [
      "INFO: --- Creating Diagram: triangle_ni_GLp_GLm (FSS) ---\n",
      "INFO: Vertex 1 ({{H_1^0}}-{{G_L^+}}-{{G_L^-}}) coupling found: -\\alpha_{13}**2*k_1/\\rho_1 + 4*\\lambda_{12}*k_1\n",
      "INFO: Vertex 2 ({{G_L^+}}-\\overline{n}[i]-\\ell[b]) coupling found: L=-sqrt(2)*T_{RL}[i, b]/k_1, R=sqrt(2)*conjugate(Q_L[b, i])*m_\\ell[b]/k_1\n",
      "INFO: Vertex 3 ({{G_L^-}}-\\overline{\\ell}[a]-n[i]) coupling found: L=sqrt(2)*Q_L[a, i]*m_\\ell[a]/k_1, R=-sqrt(2)*conjugate(T_{RL}[i, a])/k_1\n",
      "INFO: Mass List for TriangleFSS: [m_{H_1^0}, m_\\ell[a], m_\\ell[b], mn[i], m_{W_1}, m_{W_1}]\n",
      "INFO: Successfully created triangle_ni_GLp_GLm (FSS)\n",
      "INFO: --- Creating Diagram: triangle_ni_GRp_GRm (FSS) ---\n",
      "INFO: Vertex 1 ({{H_1^0}}-{{G_R^+}}-{{G_R^-}}) coupling found: -\\alpha_{13}**2*k_1**3/(\\rho_1*v_R**2) + 4*\\lambda_{12}*k_1**3/v_R**2\n",
      "INFO: Vertex 2 ({{G_R^+}}-\\overline{n}[i]-\\ell[b]) coupling found: L=-sqrt(2)*conjugate(Q_R[b, i])*m_\\ell[b]/v_R, R=sqrt(2)*conjugate(J[b, i])/v_R\n",
      "INFO: Vertex 3 ({{G_R^-}}-\\overline{\\ell}[a]-n[i]) coupling found: L=sqrt(2)*J[a, i]/v_R, R=-sqrt(2)*Q_R[a, i]*m_\\ell[a]/v_R\n",
      "INFO: Mass List for TriangleFSS: [m_{H_1^0}, m_\\ell[a], m_\\ell[b], mn[i], m_{W_2}, m_{W_2}]\n",
      "INFO: Successfully created triangle_ni_GRp_GRm (FSS)\n",
      "INFO: --- Creating Diagram: triangle_ni_HRp_HRm (FSS) ---\n",
      "INFO: Vertex 1 ({{H_1^0}}-{{H_R^+}}-{{H_R^-}}) coupling found: 2*\\alpha_{23}*k_1**3/v_R**2 + 2*k_1*(\\alpha_{23} + 2*\\lambda_{12}) + (-\\alpha_{12}*\\alpha_{13}*k_1 - \\alpha_{13}*\\alpha_{23}*k_1**3/v_R**2)/\\rho_1\n",
      "INFO: Vertex 2 ({{H_R^+}}-\\overline{n}[i]-\\ell[b]) coupling found: L=sqrt(2)*conjugate(Q_R[b, i])*m_\\ell[b]/k_1, R=-sqrt(2)*conjugate(K[b, i])/k_1\n",
      "INFO: Vertex 3 ({{H_R^-}}-\\overline{\\ell}[a]-n[i]) coupling found: L=-sqrt(2)*K[a, i]/k_1, R=sqrt(2)*Q_R[a, i]*m_\\ell[a]/k_1\n",
      "INFO: Mass List for TriangleFSS: [m_{H_1^0}, m_\\ell[a], m_\\ell[b], mn[i], m_{H_R^+}, m_{H_R^+}]\n",
      "INFO: Successfully created triangle_ni_HRp_HRm (FSS)\n",
      "INFO: --- Creating Diagram: triangle_ni_GRp_HRm (FSS) ---\n",
      "INFO: Vertex 1 ({{H_1^0}}-{{G_R^+}}-{{H_R^-}}) coupling found: \\alpha_{23}*v_R + k_1**2*(\\alpha_{23} - 4*\\lambda_{12})/v_R + (\\alpha_{13}*\\alpha_{23}*k_1**4/(2*v_R**3) + \\alpha_{13}*k_1**2*(\\alpha_{12} + \\alpha_{13})/(2*v_R))/\\rho_1\n",
      "INFO: Vertex 2 ({{G_R^+}}-\\overline{n}[i]-\\ell[b]) coupling found: L=-sqrt(2)*conjugate(Q_R[b, i])*m_\\ell[b]/v_R, R=sqrt(2)*conjugate(J[b, i])/v_R\n",
      "INFO: Vertex 3 ({{H_R^-}}-\\overline{\\ell}[a]-n[i]) coupling found: L=-sqrt(2)*K[a, i]/k_1, R=sqrt(2)*Q_R[a, i]*m_\\ell[a]/k_1\n",
      "INFO: Mass List for TriangleFSS: [m_{H_1^0}, m_\\ell[a], m_\\ell[b], mn[i], m_{W_2}, m_{H_R^+}]\n",
      "INFO: Successfully created triangle_ni_GRp_HRm (FSS)\n",
      "INFO: --- Creating Diagram: triangle_ni_HRp_GRm (FSS) ---\n",
      "INFO: Vertex 1 ({{H_1^0}}-{{H_R^+}}-{{G_R^-}}) coupling found: \\alpha_{23}*v_R + k_1**2*(\\alpha_{23} - 4*\\lambda_{12})/v_R + (\\alpha_{13}*\\alpha_{23}*k_1**4/(2*v_R**3) + \\alpha_{13}*k_1**2*(\\alpha_{12} + \\alpha_{13})/(2*v_R))/\\rho_1\n",
      "INFO: Vertex 2 ({{H_R^+}}-\\overline{n}[i]-\\ell[b]) coupling found: L=sqrt(2)*conjugate(Q_R[b, i])*m_\\ell[b]/k_1, R=-sqrt(2)*conjugate(K[b, i])/k_1\n",
      "INFO: Vertex 3 ({{G_R^-}}-\\overline{\\ell}[a]-n[i]) coupling found: L=sqrt(2)*J[a, i]/v_R, R=-sqrt(2)*Q_R[a, i]*m_\\ell[a]/v_R\n",
      "INFO: Mass List for TriangleFSS: [m_{H_1^0}, m_\\ell[a], m_\\ell[b], mn[i], m_{H_R^+}, m_{W_2}]\n",
      "INFO: Successfully created triangle_ni_HRp_GRm (FSS)\n",
      "INFO: --- Creating Diagram: triangle_ni_W1p_W1m (FVV) ---\n",
      "INFO: Vertex 1 ({{H_1^0}}-W_1^+-W_1^-) coupling found: g**2*k_1/2\n",
      "INFO: Vertex 2 (W_1^+-\\overline{n}[i]-\\ell[b]) coupling found: L=g*conjugate(Q_L[b, i])/2, R=0\n",
      "INFO: Vertex 3 (W_1^--\\overline{\\ell}[a]-n[i]) coupling found: L=g*Q_L[a, i]/2, R=0\n",
      "INFO: Mass List for TriangleFVV: [m_{H_1^0}, m_\\ell[a], m_\\ell[b], mn[i], m_{W_1}, m_{W_1}]\n",
      "INFO: Successfully created triangle_ni_W1p_W1m (FVV)\n",
      "INFO: --- Creating Diagram: triangle_ni_W2p_W2m (FVV) ---\n",
      "INFO: Vertex 1 ({{H_1^0}}-W_2^+-W_2^-) coupling found: -g**2*k_1*(\\alpha_{13} - 2*\\rho_1)/(4*\\rho_1)\n",
      "INFO: Vertex 2 (W_2^+-\\overline{n}[i]-\\ell[b]) coupling found: L=0, R=g*conjugate(Q_R[b, i])/2\n",
      "INFO: Vertex 3 (W_2^--\\overline{\\ell}[a]-n[i]) coupling found: L=0, R=g*Q_R[a, i]/2\n",
      "INFO: Mass List for TriangleFVV: [m_{H_1^0}, m_\\ell[a], m_\\ell[b], mn[i], m_{W_2}, m_{W_2}]\n",
      "INFO: Successfully created triangle_ni_W2p_W2m (FVV)\n",
      "INFO: --- Creating Diagram: triangle_ni_W1p_GLm (FSV) ---\n",
      "INFO: Vertex 1 ({{H_1^0}}-W_1^+-{{G_L^-}}) coupling found: g/2\n",
      "INFO: Vertex 2 (W_1^+-\\overline{n}[i]-\\ell[b]) coupling found: L=g*conjugate(Q_L[b, i])/2, R=0\n",
      "INFO: Vertex 3 ({{G_L^-}}-\\overline{\\ell}[a]-n[i]) coupling found: L=sqrt(2)*Q_L[a, i]*m_\\ell[a]/k_1, R=-sqrt(2)*conjugate(T_{RL}[i, a])/k_1\n",
      "INFO: Mass List for TriangleFSV: [m_{H_1^0}, m_\\ell[a], m_\\ell[b], mn[i], m_{W_1}, m_{W_1}]\n",
      "INFO: Successfully created triangle_ni_W1p_GLm (FSV)\n",
      "INFO: --- Creating Diagram: triangle_ni_W2p_GRm (FSV) ---\n",
      "INFO: Vertex 1 ({{H_1^0}}-W_2^+-{{G_R^-}}) coupling found: \\alpha_{13}*g*k_1/(4*\\rho_1*v_R) - g*k_1/(2*v_R)\n",
      "INFO: Vertex 2 (W_2^+-\\overline{n}[i]-\\ell[b]) coupling found: L=0, R=g*conjugate(Q_R[b, i])/2\n",
      "INFO: Vertex 3 ({{G_R^-}}-\\overline{\\ell}[a]-n[i]) coupling found: L=sqrt(2)*J[a, i]/v_R, R=-sqrt(2)*Q_R[a, i]*m_\\ell[a]/v_R\n",
      "INFO: Mass List for TriangleFSV: [m_{H_1^0}, m_\\ell[a], m_\\ell[b], mn[i], m_{W_2}, m_{W_2}]\n",
      "INFO: Successfully created triangle_ni_W2p_GRm (FSV)\n",
      "INFO: --- Creating Diagram: triangle_ni_W2p_HRm (FSV) ---\n",
      "INFO: Vertex 1 ({{H_1^0}}-W_2^+-{{H_R^-}}) coupling found: \\alpha_{13}*g*k_1**2/(4*\\rho_1*v_R**2) + g/2\n",
      "INFO: Vertex 2 (W_2^+-\\overline{n}[i]-\\ell[b]) coupling found: L=0, R=g*conjugate(Q_R[b, i])/2\n",
      "INFO: Vertex 3 ({{H_R^-}}-\\overline{\\ell}[a]-n[i]) coupling found: L=-sqrt(2)*K[a, i]/k_1, R=sqrt(2)*Q_R[a, i]*m_\\ell[a]/k_1\n",
      "INFO: Mass List for TriangleFSV: [m_{H_1^0}, m_\\ell[a], m_\\ell[b], mn[i], m_{W_2}, m_{H_R^+}]\n",
      "INFO: Successfully created triangle_ni_W2p_HRm (FSV)\n",
      "INFO: --- Creating Diagram: triangle_ni_GLp_W1m (FVS) ---\n",
      "INFO: Vertex 1 ({{H_1^0}}-{{G_L^+}}-W_1^-) coupling found: g/2\n",
      "INFO: Vertex 2 ({{G_L^+}}-\\overline{n}[i]-\\ell[b]) coupling found: L=-sqrt(2)*T_{RL}[i, b]/k_1, R=sqrt(2)*conjugate(Q_L[b, i])*m_\\ell[b]/k_1\n",
      "INFO: Vertex 3 (W_1^--\\overline{\\ell}[a]-n[i]) coupling found: L=g*Q_L[a, i]/2, R=0\n",
      "INFO: Mass List for TriangleFVS: [m_{H_1^0}, m_\\ell[a], m_\\ell[b], mn[i], m_{W_1}, m_{W_1}]\n",
      "INFO: Successfully created triangle_ni_GLp_W1m (FVS)\n",
      "INFO: --- Creating Diagram: triangle_ni_GRp_W2m (FVS) ---\n",
      "INFO: Vertex 1 ({{H_1^0}}-{{G_R^+}}-W_2^-) coupling found: \\alpha_{13}*g*k_1/(4*\\rho_1*v_R) - g*k_1/(2*v_R)\n",
      "INFO: Vertex 2 ({{G_R^+}}-\\overline{n}[i]-\\ell[b]) coupling found: L=-sqrt(2)*conjugate(Q_R[b, i])*m_\\ell[b]/v_R, R=sqrt(2)*conjugate(J[b, i])/v_R\n",
      "INFO: Vertex 3 (W_2^--\\overline{\\ell}[a]-n[i]) coupling found: L=0, R=g*Q_R[a, i]/2\n",
      "INFO: Mass List for TriangleFVS: [m_{H_1^0}, m_\\ell[a], m_\\ell[b], mn[i], m_{W_2}, m_{W_2}]\n",
      "INFO: Successfully created triangle_ni_GRp_W2m (FVS)\n",
      "INFO: --- Creating Diagram: triangle_ni_HRp_W2m (FVS) ---\n",
      "INFO: Vertex 1 ({{H_1^0}}-{{H_R^+}}-W_2^-) coupling found: \\alpha_{13}*g*k_1**2/(4*\\rho_1*v_R**2) + g/2\n",
      "INFO: Vertex 2 ({{H_R^+}}-\\overline{n}[i]-\\ell[b]) coupling found: L=sqrt(2)*conjugate(Q_R[b, i])*m_\\ell[b]/k_1, R=-sqrt(2)*conjugate(K[b, i])/k_1\n",
      "INFO: Vertex 3 (W_2^--\\overline{\\ell}[a]-n[i]) coupling found: L=0, R=g*Q_R[a, i]/2\n",
      "INFO: Mass List for TriangleFVS: [m_{H_1^0}, m_\\ell[a], m_\\ell[b], mn[i], m_{H_R^+}, m_{W_2}]\n",
      "INFO: Successfully created triangle_ni_HRp_W2m (FVS)\n",
      "INFO: --- Creating Diagram: bubble_ni_W1 (FV) ---\n",
      "INFO: Vertex 1 ({{H_1^0}}-\\ell[b]-\\overline{\\ell}[b]) coupling found: L=sqrt(2)*m_\\ell[b]/k_1, R=sqrt(2)*m_\\ell[b]/k_1\n",
      "INFO: Vertex 2 (W_1^+-\\overline{n}[i]-\\ell[b]) coupling found: L=g*conjugate(Q_L[b, i])/2, R=0\n",
      "INFO: Vertex 3 (W_1^--\\overline{\\ell}[a]-n[i]) coupling found: L=g*Q_L[a, i]/2, R=0\n",
      "INFO: Mass List for BubbleFV: [m_\\ell[a], m_\\ell[b], mn[i], m_{W_1}]\n",
      "INFO: Successfully created bubble_ni_W1 (FV)\n",
      "INFO: --- Creating Diagram: bubble_ni_W2 (FV) ---\n",
      "INFO: Vertex 1 ({{H_1^0}}-\\ell[b]-\\overline{\\ell}[b]) coupling found: L=sqrt(2)*m_\\ell[b]/k_1, R=sqrt(2)*m_\\ell[b]/k_1\n",
      "INFO: Vertex 2 (W_2^+-\\overline{n}[i]-\\ell[b]) coupling found: L=0, R=g*conjugate(Q_R[b, i])/2\n",
      "INFO: Vertex 3 (W_2^--\\overline{\\ell}[a]-n[i]) coupling found: L=0, R=g*Q_R[a, i]/2\n",
      "INFO: Mass List for BubbleFV: [m_\\ell[a], m_\\ell[b], mn[i], m_{W_2}]\n",
      "INFO: Successfully created bubble_ni_W2 (FV)\n",
      "INFO: --- Creating Diagram: bubble_W1_ni (VF) ---\n",
      "INFO: Vertex 1 ({{H_1^0}}-\\ell[a]-\\overline{\\ell}[a]) coupling found: L=sqrt(2)*m_\\ell[a]/k_1, R=sqrt(2)*m_\\ell[a]/k_1\n",
      "INFO: Vertex 2 (W_1^+-\\overline{n}[i]-\\ell[a]) coupling found: L=g*conjugate(Q_L[a, i])/2, R=0\n",
      "INFO: Vertex 3 (W_1^--\\overline{\\ell}[b]-n[i]) coupling found: L=g*Q_L[b, i]/2, R=0\n",
      "INFO: Mass List for BubbleVF: [m_\\ell[a], m_\\ell[b], mn[i], m_{W_1}]\n",
      "INFO: Successfully created bubble_W1_ni (VF)\n",
      "INFO: --- Creating Diagram: bubble_W2_ni (VF) ---\n",
      "INFO: Vertex 1 ({{H_1^0}}-\\ell[a]-\\overline{\\ell}[a]) coupling found: L=sqrt(2)*m_\\ell[a]/k_1, R=sqrt(2)*m_\\ell[a]/k_1\n",
      "INFO: Vertex 2 (W_2^+-\\overline{n}[i]-\\ell[a]) coupling found: L=0, R=g*conjugate(Q_R[a, i])/2\n",
      "INFO: Vertex 3 (W_2^--\\overline{\\ell}[b]-n[i]) coupling found: L=0, R=g*Q_R[b, i]/2\n",
      "INFO: Mass List for BubbleVF: [m_\\ell[a], m_\\ell[b], mn[i], m_{W_2}]\n",
      "INFO: Successfully created bubble_W2_ni (VF)\n",
      "INFO: --- Creating Diagram: bubble_ni_GL (FS) ---\n",
      "INFO: Vertex 1 ({{H_1^0}}-\\ell[b]-\\overline{\\ell}[b]) coupling found: L=sqrt(2)*m_\\ell[b]/k_1, R=sqrt(2)*m_\\ell[b]/k_1\n",
      "INFO: Vertex 2 ({{G_L^+}}-\\overline{n}[i]-\\ell[b]) coupling found: L=-sqrt(2)*T_{RL}[i, b]/k_1, R=sqrt(2)*conjugate(Q_L[b, i])*m_\\ell[b]/k_1\n",
      "INFO: Vertex 3 ({{G_L^-}}-\\overline{\\ell}[a]-n[i]) coupling found: L=sqrt(2)*Q_L[a, i]*m_\\ell[a]/k_1, R=-sqrt(2)*conjugate(T_{RL}[i, a])/k_1\n",
      "INFO: Mass List for BubbleFS: [m_\\ell[a], m_\\ell[b], mn[i], m_{W_1}]\n",
      "INFO: Successfully created bubble_ni_GL (FS)\n",
      "INFO: --- Creating Diagram: bubble_ni_GR (FS) ---\n",
      "INFO: Vertex 1 ({{H_1^0}}-\\ell[b]-\\overline{\\ell}[b]) coupling found: L=sqrt(2)*m_\\ell[b]/k_1, R=sqrt(2)*m_\\ell[b]/k_1\n",
      "INFO: Vertex 2 ({{G_R^+}}-\\overline{n}[i]-\\ell[b]) coupling found: L=-sqrt(2)*conjugate(Q_R[b, i])*m_\\ell[b]/v_R, R=sqrt(2)*conjugate(J[b, i])/v_R\n",
      "INFO: Vertex 3 ({{G_R^-}}-\\overline{\\ell}[a]-n[i]) coupling found: L=sqrt(2)*J[a, i]/v_R, R=-sqrt(2)*Q_R[a, i]*m_\\ell[a]/v_R\n",
      "INFO: Mass List for BubbleFS: [m_\\ell[a], m_\\ell[b], mn[i], m_{W_2}]\n",
      "INFO: Successfully created bubble_ni_GR (FS)\n",
      "INFO: --- Creating Diagram: bubble_ni_HR (FS) ---\n",
      "INFO: Vertex 1 ({{H_1^0}}-\\ell[b]-\\overline{\\ell}[b]) coupling found: L=sqrt(2)*m_\\ell[b]/k_1, R=sqrt(2)*m_\\ell[b]/k_1\n",
      "INFO: Vertex 2 ({{H_R^+}}-\\overline{n}[i]-\\ell[b]) coupling found: L=sqrt(2)*conjugate(Q_R[b, i])*m_\\ell[b]/k_1, R=-sqrt(2)*conjugate(K[b, i])/k_1\n",
      "INFO: Vertex 3 ({{H_R^-}}-\\overline{\\ell}[a]-n[i]) coupling found: L=-sqrt(2)*K[a, i]/k_1, R=sqrt(2)*Q_R[a, i]*m_\\ell[a]/k_1\n",
      "INFO: Mass List for BubbleFS: [m_\\ell[a], m_\\ell[b], mn[i], m_{H_R^+}]\n",
      "INFO: Successfully created bubble_ni_HR (FS)\n",
      "INFO: --- Creating Diagram: bubble_GL_ni (SF) ---\n",
      "INFO: Vertex 1 ({{H_1^0}}-\\ell[a]-\\overline{\\ell}[a]) coupling found: L=sqrt(2)*m_\\ell[a]/k_1, R=sqrt(2)*m_\\ell[a]/k_1\n",
      "INFO: Vertex 2 ({{G_L^+}}-\\overline{n}[i]-\\ell[a]) coupling found: L=-sqrt(2)*T_{RL}[i, a]/k_1, R=sqrt(2)*conjugate(Q_L[a, i])*m_\\ell[a]/k_1\n",
      "INFO: Vertex 3 ({{G_L^-}}-\\overline{\\ell}[b]-n[i]) coupling found: L=sqrt(2)*Q_L[b, i]*m_\\ell[b]/k_1, R=-sqrt(2)*conjugate(T_{RL}[i, b])/k_1\n",
      "INFO: Mass List for BubbleSF: [m_\\ell[a], m_\\ell[b], mn[i], m_{W_1}]\n",
      "INFO: Successfully created bubble_GL_ni (SF)\n",
      "INFO: --- Creating Diagram: bubble_GR_ni (SF) ---\n",
      "INFO: Vertex 1 ({{H_1^0}}-\\ell[a]-\\overline{\\ell}[a]) coupling found: L=sqrt(2)*m_\\ell[a]/k_1, R=sqrt(2)*m_\\ell[a]/k_1\n",
      "INFO: Vertex 2 ({{G_R^+}}-\\overline{n}[i]-\\ell[a]) coupling found: L=-sqrt(2)*conjugate(Q_R[a, i])*m_\\ell[a]/v_R, R=sqrt(2)*conjugate(J[a, i])/v_R\n",
      "INFO: Vertex 3 ({{G_R^-}}-\\overline{\\ell}[b]-n[i]) coupling found: L=sqrt(2)*J[b, i]/v_R, R=-sqrt(2)*Q_R[b, i]*m_\\ell[b]/v_R\n",
      "INFO: Mass List for BubbleSF: [m_\\ell[a], m_\\ell[b], mn[i], m_{W_2}]\n",
      "INFO: Successfully created bubble_GR_ni (SF)\n",
      "INFO: --- Creating Diagram: bubble_HR_ni (SF) ---\n",
      "INFO: Vertex 1 ({{H_1^0}}-\\ell[a]-\\overline{\\ell}[a]) coupling found: L=sqrt(2)*m_\\ell[a]/k_1, R=sqrt(2)*m_\\ell[a]/k_1\n",
      "INFO: Vertex 2 ({{H_R^+}}-\\overline{n}[i]-\\ell[a]) coupling found: L=sqrt(2)*conjugate(Q_R[a, i])*m_\\ell[a]/k_1, R=-sqrt(2)*conjugate(K[a, i])/k_1\n",
      "INFO: Vertex 3 ({{H_R^-}}-\\overline{\\ell}[b]-n[i]) coupling found: L=-sqrt(2)*K[b, i]/k_1, R=sqrt(2)*Q_R[b, i]*m_\\ell[b]/k_1\n",
      "INFO: Mass List for BubbleSF: [m_\\ell[a], m_\\ell[b], mn[i], m_{H_R^+}]\n",
      "INFO: Successfully created bubble_HR_ni (SF)\n",
      "INFO: --- Creating Diagram: triangle_GL_ninj (SFF) ---\n",
      "INFO: Vertex 1 ({{H_1^0}}-n[i]-\\overline{n}[j]) coupling found: L=-sqrt(2)*\\alpha_{13}*epsilon**2*conjugate(\\Omega_{SR}[i, j])/(4*\\rho_1*k_1) + sqrt(2)*\\Omega_{RL}[i, j]/(2*k_1), R=-sqrt(2)*\\alpha_{13}*epsilon**2*\\Omega_{SR}[i, j]/(4*\\rho_1*k_1) + sqrt(2)*conjugate(\\Omega_{RL}[i, j])/(2*k_1)\n",
      "INFO: Vertex 2 ({{G_L^+}}-\\overline{n}[j]-\\ell[b]) coupling found: L=-sqrt(2)*T_{RL}[j, b]/k_1, R=sqrt(2)*conjugate(Q_L[b, j])*m_\\ell[b]/k_1\n",
      "INFO: Vertex 3 ({{G_L^-}}-\\overline{\\ell}[a]-n[i]) coupling found: L=sqrt(2)*Q_L[a, i]*m_\\ell[a]/k_1, R=-sqrt(2)*conjugate(T_{RL}[i, a])/k_1\n",
      "INFO: Mass List for TriangleSFF: [m_{H_1^0}, m_\\ell[a], m_\\ell[b], m_{W_1}, mn[i], mn[j]]\n",
      "INFO: Successfully created triangle_GL_ninj (SFF)\n",
      "INFO: --- Creating Diagram: triangle_GR_ninj (SFF) ---\n",
      "INFO: Vertex 1 ({{H_1^0}}-n[i]-\\overline{n}[j]) coupling found: L=-sqrt(2)*\\alpha_{13}*epsilon**2*conjugate(\\Omega_{SR}[i, j])/(4*\\rho_1*k_1) + sqrt(2)*\\Omega_{RL}[i, j]/(2*k_1), R=-sqrt(2)*\\alpha_{13}*epsilon**2*\\Omega_{SR}[i, j]/(4*\\rho_1*k_1) + sqrt(2)*conjugate(\\Omega_{RL}[i, j])/(2*k_1)\n",
      "INFO: Vertex 2 ({{G_R^+}}-\\overline{n}[j]-\\ell[b]) coupling found: L=-sqrt(2)*conjugate(Q_R[b, j])*m_\\ell[b]/v_R, R=sqrt(2)*conjugate(J[b, j])/v_R\n",
      "INFO: Vertex 3 ({{G_R^-}}-\\overline{\\ell}[a]-n[i]) coupling found: L=sqrt(2)*J[a, i]/v_R, R=-sqrt(2)*Q_R[a, i]*m_\\ell[a]/v_R\n",
      "INFO: Mass List for TriangleSFF: [m_{H_1^0}, m_\\ell[a], m_\\ell[b], m_{W_2}, mn[i], mn[j]]\n",
      "INFO: Successfully created triangle_GR_ninj (SFF)\n",
      "INFO: --- Creating Diagram: triangle_HR_ninj (SFF) ---\n",
      "INFO: Vertex 1 ({{H_1^0}}-n[i]-\\overline{n}[j]) coupling found: L=-sqrt(2)*\\alpha_{13}*epsilon**2*conjugate(\\Omega_{SR}[i, j])/(4*\\rho_1*k_1) + sqrt(2)*\\Omega_{RL}[i, j]/(2*k_1), R=-sqrt(2)*\\alpha_{13}*epsilon**2*\\Omega_{SR}[i, j]/(4*\\rho_1*k_1) + sqrt(2)*conjugate(\\Omega_{RL}[i, j])/(2*k_1)\n",
      "INFO: Vertex 2 ({{H_R^+}}-\\overline{n}[j]-\\ell[b]) coupling found: L=sqrt(2)*conjugate(Q_R[b, j])*m_\\ell[b]/k_1, R=-sqrt(2)*conjugate(K[b, j])/k_1\n",
      "INFO: Vertex 3 ({{H_R^-}}-\\overline{\\ell}[a]-n[i]) coupling found: L=-sqrt(2)*K[a, i]/k_1, R=sqrt(2)*Q_R[a, i]*m_\\ell[a]/k_1\n",
      "INFO: Mass List for TriangleSFF: [m_{H_1^0}, m_\\ell[a], m_\\ell[b], m_{H_R^+}, mn[i], mn[j]]\n",
      "INFO: Successfully created triangle_HR_ninj (SFF)\n",
      "INFO: --- Creating Diagram: triangle_W1_ninj (VFF) ---\n",
      "INFO: Vertex 1 ({{H_1^0}}-n[i]-\\overline{n}[j]) coupling found: L=-sqrt(2)*\\alpha_{13}*epsilon**2*conjugate(\\Omega_{SR}[i, j])/(4*\\rho_1*k_1) + sqrt(2)*\\Omega_{RL}[i, j]/(2*k_1), R=-sqrt(2)*\\alpha_{13}*epsilon**2*\\Omega_{SR}[i, j]/(4*\\rho_1*k_1) + sqrt(2)*conjugate(\\Omega_{RL}[i, j])/(2*k_1)\n",
      "INFO: Vertex 2 (W_1^+-\\overline{n}[j]-\\ell[b]) coupling found: L=g*conjugate(Q_L[b, j])/2, R=0\n",
      "INFO: Vertex 3 (W_1^--\\overline{\\ell}[a]-n[i]) coupling found: L=g*Q_L[a, i]/2, R=0\n",
      "INFO: Mass List for TriangleVFF: [m_{H_1^0}, m_\\ell[a], m_\\ell[b], m_{W_1}, mn[i], mn[j]]\n",
      "INFO: Successfully created triangle_W1_ninj (VFF)\n",
      "INFO: --- Creating Diagram: triangle_W2_ninj (VFF) ---\n",
      "INFO: Vertex 1 ({{H_1^0}}-n[i]-\\overline{n}[j]) coupling found: L=-sqrt(2)*\\alpha_{13}*epsilon**2*conjugate(\\Omega_{SR}[i, j])/(4*\\rho_1*k_1) + sqrt(2)*\\Omega_{RL}[i, j]/(2*k_1), R=-sqrt(2)*\\alpha_{13}*epsilon**2*\\Omega_{SR}[i, j]/(4*\\rho_1*k_1) + sqrt(2)*conjugate(\\Omega_{RL}[i, j])/(2*k_1)\n",
      "INFO: Vertex 2 (W_2^+-\\overline{n}[j]-\\ell[b]) coupling found: L=0, R=g*conjugate(Q_R[b, j])/2\n",
      "INFO: Vertex 3 (W_2^--\\overline{\\ell}[a]-n[i]) coupling found: L=0, R=g*Q_R[a, i]/2\n",
      "INFO: Mass List for TriangleVFF: [m_{H_1^0}, m_\\ell[a], m_\\ell[b], m_{W_2}, mn[i], mn[j]]\n",
      "INFO: Successfully created triangle_W2_ninj (VFF)\n"
     ]
    },
    {
     "name": "stdout",
     "output_type": "stream",
     "text": [
      "28 diagrams created and stored in all_diagrams dictionary.\n"
     ]
    }
   ],
   "source": [
    "from formfactors_functions import formfactors_neutrino_sum"
   ]
  },
  {
   "cell_type": "code",
   "execution_count": 3,
   "id": "9eb146fc",
   "metadata": {},
   "outputs": [],
   "source": [
    "# Numeric benchmark\n",
    "k1_val = mp.mpf('246')\n",
    "vR_val = mp.mpf('5000')\n",
    "mW1_val = mp.mpf('80.3692')\n",
    "epsilon_val = k1_val/vR_val\n",
    "mW2_squared_val = (mW1_val**2/k1_val**2)*(k1_val**2 + vR_val**2)\n",
    "mW2_val = mp.sqrt(mW2_squared_val)\n",
    "\n",
    "rho1_val = mp.mpf('0.1')\n",
    "alpha13_val = mp.mpf('0.1')\n",
    "alpha12_val = mp.mpf('0.1')\n",
    "alpha23_val = mp.mpf('0.1') # alpha2 - alpha3 > 0\n",
    "lamb12_val = mp.mpf('0.1')\n",
    "#alpha2_3 = mp.mpf('0.2') # alpha2 - alpha3 > 0\n",
    "mHR_squared_val = (alpha23_val)*(k1_val**2 + vR_val**2)\n",
    "mHR_val = mp.sqrt(mHR_squared_val)\n",
    "mH10_val = mp.mpf('125')\n",
    "\n",
    "d21 = mp.mpf(str(Nudata.squareDm21.central))*mp.mpf('1e-18')# factor to convert eV^2 to GeV^2\n",
    "d31 = mp.mpf(str(Nudata.squareDm31.central))*mp.mpf('1e-18')\n",
    "mn1_val = mp.mpf('1e-12')  #GeV \n",
    "mn2_val = mp.sqrt(mn1_val**2 + d21)\n",
    "mn3_val = mp.sqrt(mn1_val**2 + d31)\n",
    "mn4_val = mp.mpf('1000')\n",
    "mn5_val = mp.mpf('2000')\n",
    "mn6_val = mp.mpf('3000')\n",
    "mn7_val = mn4_val + epsilon_val\n",
    "mn8_val = mn5_val + epsilon_val\n",
    "mn9_val = mn6_val + epsilon_val \n",
    "mni_vals = [\n",
    "    mn1_val,\n",
    "    mn2_val,\n",
    "    mn3_val,\n",
    "    mn4_val,\n",
    "    mn5_val,\n",
    "    mn6_val,\n",
    "    mn7_val,\n",
    "    mn8_val,\n",
    "    mn9_val\n",
    "]\n",
    "me_val = mp.mpf('0.001')\n",
    "mmu_val = mp.mpf('0.105')\n",
    "mtau_val = mp.mpf('1.776')\n",
    "ml_vals = [\n",
    "    me_val,\n",
    "    mmu_val,\n",
    "    mtau_val\n",
    "]\n",
    "    \n"
   ]
  },
  {
   "cell_type": "code",
   "execution_count": 4,
   "id": "da51c083",
   "metadata": {},
   "outputs": [
    {
     "name": "stdout",
     "output_type": "stream",
     "text": [
      "Diagram:  ni_GL\n",
      "AL = (0.0 + 4.03896783473158e-28j)\n",
      "AR = (0.0 + 6.46234853557053e-27j)\n",
      "Diagram:  GL_ni\n",
      "AL = (0.0 + 0.0j)\n",
      "AR = (0.0 - 6.46234853557053e-27j)\n",
      "Diagram:  ni_GR\n",
      "AL = (0.0 + 4.13590306276514e-25j)\n",
      "AR = (0.0 - 6.61744490042422e-24j)\n",
      "Diagram:  GR_ni\n",
      "AL = (0.0 - 4.13590306276514e-25j)\n",
      "AR = (0.0 + 0.0j)\n",
      "Diagram:  ni_HR\n",
      "AL = (0.0 + 0.0j)\n",
      "AR = (0.0 - 8.470329472543e-22j)\n",
      "Diagram:  HR_ni\n",
      "AL = (0.0 + 0.0j)\n",
      "AR = (0.0 + 8.470329472543e-22j)\n",
      "Diagram:  ni_W1\n",
      "AL = (0.0 + 2.11758236813575e-22j)\n",
      "AR = (0.0 + 0.0j)\n",
      "Diagram:  W1_ni\n",
      "AL = (0.0 - 4.2351647362715e-22j)\n",
      "AR = (0.0 - 1.32348898008484e-23j)\n",
      "Diagram:  ni_W2\n",
      "AL = (0.0 + 0.0j)\n",
      "AR = (0.0 + 0.0j)\n",
      "Diagram:  W2_ni\n",
      "AL = (0.0 + 0.0j)\n",
      "AR = (0.0 + 0.0j)\n",
      "Diagram:  ni_GLp_GLm\n",
      "AL = (1.03397576569128e-25 - 1.6940658945086e-21j)\n",
      "AR = (0.0 + 2.11758236813575e-22j)\n",
      "Diagram:  ni_GRp_GRm\n",
      "AL = (-9.4039548065783e-38 + 0.0j)\n",
      "AR = (5.87747175411144e-39 + 1.0842021724855e-19j)\n",
      "Diagram:  ni_HRp_HRm\n",
      "AL = (1.92592994438724e-34 + 2.27373675443232e-13j)\n",
      "AR = (-4.81482486096809e-35 - 1.4210854715202e-14j)\n",
      "Diagram:  ni_W1p_W1m\n",
      "AL = (6.35274710440725e-22 - 1.73472347597681e-18j)\n",
      "AR = (0.0 + 0.0j)\n",
      "Diagram:  ni_W2p_W2m\n",
      "AL = (0.0 + 0.0j)\n",
      "AR = (0.0 + 0.0j)\n",
      "Diagram:  ni_GRp_HRm\n",
      "AL = (-1.23259516440783e-32 - 2.8421709430404e-14j)\n",
      "AR = (1.54074395550979e-33 + 1.77635683940025e-15j)\n",
      "Diagram:  ni_HRp_GRm\n",
      "AL = (4.81482486096809e-35 - 5.6843418860808e-14j)\n",
      "AR = (-1.20370621524202e-35 + 7.105427357601e-15j)\n",
      "Diagram:  ni_W1p_GLm\n",
      "AL = (0.0 + 0.0j)\n",
      "AR = (1.61558713389263e-27 + 2.64697796016969e-23j)\n",
      "Diagram:  ni_W2p_GRm\n",
      "AL = (0.0 + 0.0j)\n",
      "AR = (0.0 + 0.0j)\n",
      "Diagram:  ni_W2p_HRm\n",
      "AL = (0.0 + 0.0j)\n",
      "AR = (0.0 + 0.0j)\n",
      "Diagram:  ni_GLp_W1m\n",
      "AL = (1.03397576569128e-25 - 8.470329472543e-22j)\n",
      "AR = (1.35525271560688e-20 + 0.0j)\n",
      "Diagram:  ni_GRp_W2m\n",
      "AL = (0.0 + 0.0j)\n",
      "AR = (0.0 + 0.0j)\n",
      "Diagram:  ni_HRp_W2m\n",
      "AL = (0.0 + 0.0j)\n",
      "AR = (0.0 + 0.0j)\n",
      "Diagram:  GL_ninj\n",
      "AL = (-4.04881748787556e-19 + 8.51514414534904e-11j)\n",
      "AR = (1.35525271560688e-19 - 4.54747350886464e-12j)\n",
      "Diagram:  GR_ninj\n",
      "AL = (1.55626479382001e-26 - 1.15782022476196e-5j)\n",
      "AR = (-1.80728033386134e-27 + 9.21078026294708e-7j)\n",
      "Diagram:  HR_ninj\n",
      "AL = (-2.01191085267567e-26 + 1.14887952804565e-5j)\n",
      "AR = (1.45150406560666e-28 - 9.32253897190094e-7j)\n",
      "Diagram:  W1_ninj\n",
      "AL = (-1.20042864537595e-15 + 2.28872522711754e-7j)\n",
      "AR = (1.36557432028894e-14 - 2.9783695936203e-6j)\n",
      "Diagram:  W2_ninj\n",
      "AL = (0.0 + 0.0j)\n",
      "AR = (0.0 + 0.0j)\n"
     ]
    }
   ],
   "source": [
    "ff = formfactors_neutrino_sum(\n",
    "    mni_vals, ml_vals, rho1_val, alpha13_val, alpha12_val, \n",
    "    alpha23_val, lamb12_val, idx_a=1, idx_b=2, k1_val=k1_val, \n",
    "    vR_val=vR_val, mHR_val=mHR_val, verbose=False\n",
    ")\n",
    "\n",
    "ALsum = 0\n",
    "ARsum = 0\n",
    "for interaction, formfactor in ff.items():\n",
    "    ffL = formfactor['AL']\n",
    "    ffR = formfactor['AR']\n",
    "    print('Diagram: ', interaction)\n",
    "    print(f'AL = {ffL}')\n",
    "    print(f'AR = {ffR}')\n",
    "    ALsum += ffL\n",
    "    ARsum += ffR\n",
    "#print('ALsum: ', ALsum)\n",
    "#print('ARsum: ', ARsum)"
   ]
  },
  {
   "cell_type": "code",
   "execution_count": 5,
   "id": "452d240b",
   "metadata": {},
   "outputs": [],
   "source": [
    "def total_formfactors(formfactors_dict):\n",
    "    ALsum = 0\n",
    "    ARsum = 0\n",
    "    for interaction, formfactor in ff.items():\n",
    "        ffL = formfactor['AL']\n",
    "        ffR = formfactor['AR']\n",
    "        ALsum += ffL\n",
    "        ARsum += ffR\n",
    "    return {'AL':ALsum, 'AR':ARsum}"
   ]
  },
  {
   "cell_type": "code",
   "execution_count": 20,
   "id": "9dc7df69",
   "metadata": {},
   "outputs": [],
   "source": [
    "formfactor_results = []\n",
    "vR_range = mp.linspace(500, 50000, 100)\n",
    "for vR_val in vR_range:\n",
    "    epsilon_val = k1_val/vR_val\n",
    "    mW2_squared_val = (mW1_val**2/k1_val**2)*(k1_val**2 + vR_val**2)\n",
    "    mW2_val = mp.sqrt(mW2_squared_val)\n",
    "    mHR_squared_val = (alpha23_val)*(k1_val**2 + vR_val**2)\n",
    "    mHR_val = mp.sqrt(mHR_squared_val)\n",
    "\n",
    "    ff = formfactors_neutrino_sum(\n",
    "        mni_vals, ml_vals, rho1_val, alpha13_val, alpha12_val, \n",
    "        alpha23_val, lamb12_val, idx_a=1, idx_b=2, k1_val=k1_val, \n",
    "        vR_val=vR_val, mHR_val=mHR_val, verbose=False\n",
    "    )\n",
    "    total_ff = total_formfactors(ff)\n",
    "    formfactor_results.append(total_ff)"
   ]
  },
  {
   "cell_type": "code",
   "execution_count": 15,
   "id": "defd2887",
   "metadata": {},
   "outputs": [],
   "source": [
    "#formfactor_results"
   ]
  },
  {
   "cell_type": "code",
   "execution_count": 21,
   "id": "087a4f97",
   "metadata": {},
   "outputs": [
    {
     "data": {
      "text/plain": [
       "<matplotlib.legend.Legend at 0x7fe60bdb2210>"
      ]
     },
     "execution_count": 21,
     "metadata": {},
     "output_type": "execute_result"
    },
    {
     "data": {
      "image/png": "[encoded data removed]",
      "text/plain": [
       "<Figure size 640x480 with 1 Axes>"
      ]
     },
     "metadata": {},
     "output_type": "display_data"
    }
   ],
   "source": [
    "AL_resuls = [abs(formfactor['AL']) for formfactor in formfactor_results]\n",
    "AR_resuls = [abs(formfactor['AR']) for formfactor in formfactor_results]\n",
    "plt.semilogy(vR_range, AL_resuls, label='Total $A_L$')\n",
    "plt.semilogy(vR_range, AR_resuls, label='Total $A_R$')\n",
    "plt.ylabel('form factor')\n",
    "plt.xlabel('$v_R$[GeV]')\n",
    "plt.legend()"
   ]
  },
  {
   "cell_type": "code",
   "execution_count": 24,
   "id": "65d41e79",
   "metadata": {},
   "outputs": [],
   "source": [
    "from LFVXD.Hdecay_diagrams_v2 import calculate_decay_width, calculate_branching_ratio"
   ]
  },
  {
   "cell_type": "code",
   "execution_count": 23,
   "id": "534d4796",
   "metadata": {},
   "outputs": [
    {
     "data": {
      "text/plain": [
       "<matplotlib.legend.Legend at 0x7fe60baaccd0>"
      ]
     },
     "execution_count": 23,
     "metadata": {},
     "output_type": "execute_result"
    },
    {
     "data": {
      "image/png": "[encoded data removed]",
      "text/plain": [
       "<Figure size 640x480 with 1 Axes>"
      ]
     },
     "metadata": {},
     "output_type": "display_data"
    }
   ],
   "source": [
    "Hwidth_resulta = [calculate_decay_width(AL, AR, mH10_val, ml_vals[1], ml_vals[2]) for AL, AR in zip(AL_resuls, AR_resuls)]\n",
    "plt.semilogy(vR_range, Hwidth_resulta, label=r'$\\Gamma(h \\to \\mu \\tau)$')\n",
    "plt.xlabel('$v_R$[GeV]')\n",
    "plt.legend()"
   ]
  },
  {
   "cell_type": "code",
   "execution_count": 26,
   "id": "b1a2884e",
   "metadata": {},
   "outputs": [
    {
     "data": {
      "text/plain": [
       "<matplotlib.legend.Legend at 0x7fe60ba80b90>"
      ]
     },
     "execution_count": 26,
     "metadata": {},
     "output_type": "execute_result"
    },
    {
     "name": "stderr",
     "output_type": "stream",
     "text": [
      "INFO: Substituting symbol B from STIXNonUnicode\n",
      "INFO: Substituting symbol r from STIXGeneral\n",
      "INFO: Substituting symbol B from STIXNonUnicode\n",
      "INFO: Substituting symbol r from STIXGeneral\n"
     ]
    },
    {
     "data": {
      "image/png": "[encoded data removed]",
      "text/plain": [
       "<Figure size 640x480 with 1 Axes>"
      ]
     },
     "metadata": {},
     "output_type": "display_data"
    }
   ],
   "source": [
    "HBr_resulta = [calculate_branching_ratio(AL, AR, mH10_val, ml_vals[1], ml_vals[2]) for AL, AR in zip(AL_resuls, AR_resuls)]\n",
    "plt.semilogy(vR_range, HBr_resulta, label=r'$\\mathcal{Br}(h \\to \\mu \\tau)$');\n",
    "plt.xlabel('$v_R$[GeV]');\n",
    "plt.legend()"
   ]
  },
  {
   "cell_type": "code",
   "execution_count": null,
   "id": "816f3ea2",
   "metadata": {},
   "outputs": [],
   "source": []
  }
 ],
 "metadata": {
  "kernelspec": {
   "display_name": "base",
   "language": "python",
   "name": "python3"
  },
  "language_info": {
   "codemirror_mode": {
    "name": "ipython",
    "version": 3
   },
   "file_extension": ".py",
   "mimetype": "text/x-python",
   "name": "python",
   "nbconvert_exporter": "python",
   "pygments_lexer": "ipython3",
   "version": "3.13.2"
  }
 },
 "nbformat": 4,
 "nbformat_minor": 5
}
