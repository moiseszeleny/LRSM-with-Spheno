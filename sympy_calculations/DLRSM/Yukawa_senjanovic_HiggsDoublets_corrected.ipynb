{
 "cells": [
  {
   "cell_type": "markdown",
   "metadata": {},
   "source": [
    "# Minimal Left Right Symmetric models with Higgs doublets"
   ]
  },
  {
   "cell_type": "markdown",
   "metadata": {},
   "source": [
    "In this notebook we study the gauge-Higgs sector"
   ]
  },
  {
   "cell_type": "code",
   "execution_count": 3,
   "metadata": {},
   "outputs": [],
   "source": [
    "from sympy import symbols, init_printing, I, eye, conjugate\n",
    "from sympy import Matrix, KroneckerDelta\n",
    "from sympy.physics.quantum import Dagger\n",
    "init_printing()"
   ]
  },
  {
   "cell_type": "markdown",
   "metadata": {},
   "source": [
    "# Yukawa interactions"
   ]
  },
  {
   "cell_type": "code",
   "execution_count": 4,
   "metadata": {},
   "outputs": [],
   "source": [
    "from potential_senjanovic_HiggsDoublets import ChiL, ChiR, Phi, Phitilde, PhiDagger, PhitildeDagger, k1, k2, vL, vR\n",
    "from potential_senjanovic_HiggsDoublets import complex_scalar_fields, vevL, vevR, vevPhi, change_scalar_fields"
   ]
  },
  {
   "cell_type": "code",
   "execution_count": 5,
   "metadata": {},
   "outputs": [],
   "source": [
    "from sympy import IndexedBase, Idx\n",
    "i, j, k, l, m, n = symbols('i, j, k, l, m, n', cls=Idx)"
   ]
  },
  {
   "cell_type": "code",
   "execution_count": 6,
   "metadata": {},
   "outputs": [],
   "source": [
    "Y = IndexedBase('Y')\n",
    "Ytilde = IndexedBase(r'\\tilde{Y}')\n",
    "YL = IndexedBase('Y_L')\n",
    "YR = IndexedBase('Y_R')\n",
    "h = IndexedBase('h')\n",
    "htilde = IndexedBase(r'\\tilde{h}')\n",
    "mu = IndexedBase(r'\\mu')"
   ]
  },
  {
   "cell_type": "markdown",
   "metadata": {},
   "source": [
    "## Lepton doublets"
   ]
  },
  {
   "cell_type": "code",
   "execution_count": 7,
   "metadata": {},
   "outputs": [],
   "source": [
    "lLp = IndexedBase(r'\\ell_L^{\\prime}')\n",
    "lRp = IndexedBase(r'\\ell_R^{\\prime}')\n",
    "nuLp = IndexedBase(r'\\nu_L^{\\prime}')\n",
    "nuRp = IndexedBase(r'\\nu_R^{\\prime}')\n",
    "Singlet = IndexedBase('S')\n",
    "SingletC = IndexedBase(r'S^c')"
   ]
  },
  {
   "cell_type": "code",
   "execution_count": 8,
   "metadata": {},
   "outputs": [
    {
     "data": {
      "text/latex": [
       "$\\displaystyle \\left( \\left[\\begin{matrix}{\\nu_L^{\\prime}}_{i}\\\\{\\ell_L^{\\prime}}_{i}\\end{matrix}\\right], \\  \\left[\\begin{matrix}\\overline{{\\nu_L^{\\prime}}_{i}} & \\overline{{\\ell_L^{\\prime}}_{i}}\\end{matrix}\\right], \\  \\overline{{\\ell_L^{\\prime}}_{i}} {\\ell_L^{\\prime}}_{i} + \\overline{{\\nu_L^{\\prime}}_{i}} {\\nu_L^{\\prime}}_{i}\\right)$"
      ],
      "text/plain": [
       "⎛⎡\\nu_L^{\\prime}[i] ⎤  ⎡_________________  __________________⎤  ______________ ↪\n",
       "⎜⎢                  ⎥, ⎣\\nu_L^{\\prime}[i]  \\ell_L^{\\prime}[i]⎦, \\ell_L^{\\prime ↪\n",
       "⎝⎣\\ell_L^{\\prime}[i]⎦                                                          ↪\n",
       "\n",
       "↪ ____                      _________________                  ⎞\n",
       "↪ }[i]⋅\\ell_L^{\\prime}[i] + \\nu_L^{\\prime}[i]⋅\\nu_L^{\\prime}[i]⎟\n",
       "↪                                                              ⎠"
      ]
     },
     "execution_count": 8,
     "metadata": {},
     "output_type": "execute_result"
    }
   ],
   "source": [
    "def LL(idx):\n",
    "    return Matrix(\n",
    "        [\n",
    "            [nuLp[idx]],\n",
    "            [lLp[idx]]\n",
    "        ]\n",
    "    )\n",
    "\n",
    "def LR(idx):\n",
    "    return Matrix(\n",
    "        [\n",
    "            [nuRp[idx]],\n",
    "            [lRp[idx]]\n",
    "        ]\n",
    "    )\n",
    "\n",
    "LL(i), Dagger(LL(i)), (Dagger(LL(i))*LL(i))[0]"
   ]
  },
  {
   "cell_type": "markdown",
   "metadata": {},
   "source": [
    "### Charged leptons\n",
    "$$\\mathcal{L_{yuk}} = -\\overline{L_{iL}}\\left(h_{ij}\\Phi+\\tilde{h}_{ij}\\tilde{\\Phi}\\right)L_{jR}$$\n",
    "\n",
    "$$-\\overline{L}_{iR}Y_{ij}\\Phi^{\\dagger}L_{jL}-\\overline{L}_{iR}\\tilde{Y}_{ij}\\tilde{\\Phi}^{\\dagger}L_{jL}-\\overline{S}_{i}Y_{ijL}\\tilde{\\chi}_{L}^{\\dagger}L_{jL}-\\overline{S}_{i}^{c}Y_{ijR}\\tilde{\\chi}_{R}^{\\dagger}L_{jR}-\\frac{1}{2}\\overline{S}_{i}^{c}\\mu_{ij}S_{j}+\\text{h.c.}$$"
   ]
  },
  {
   "cell_type": "code",
   "execution_count": 9,
   "metadata": {},
   "outputs": [
    {
     "data": {
      "text/latex": [
       "$\\displaystyle \\left( \\left[\\begin{matrix}\\chi^{0}_{L}\\\\- {{\\chi_L^+}}\\end{matrix}\\right], \\  \\left[\\begin{matrix}\\overline{\\chi^{0}_{L}} & - \\overline{{{\\chi_L^+}}}\\end{matrix}\\right]\\right)$"
      ],
      "text/plain": [
       "⎛⎡  \\chi_L__0   ⎤  ⎡_________   _____________⎤⎞\n",
       "⎜⎢              ⎥, ⎣\\chi_L__0  -{{\\chi_L__+}}⎦⎟\n",
       "⎝⎣-{{\\chi_L__+}}⎦                             ⎠"
      ]
     },
     "execution_count": 9,
     "metadata": {},
     "output_type": "execute_result"
    }
   ],
   "source": [
    "from sympy.physics import msigma\n",
    "\n",
    "ChiLtilde = I*msigma(2)*ChiL\n",
    "ChiRtilde = I*msigma(2)*ChiR\n",
    "ChiLtildeDagger = Dagger(ChiLtilde)\n",
    "ChiRtildeDagger = Dagger(ChiRtilde)\n",
    "ChiLtilde, ChiLtildeDagger"
   ]
  },
  {
   "cell_type": "code",
   "execution_count": 10,
   "metadata": {},
   "outputs": [
    {
     "data": {
      "image/png": "[encoded data removed]",
      "text/latex": [
       "$\\displaystyle \\left(\\chi^{0}_{L} \\overline{{\\nu_L^{\\prime}}_{j}} - {{\\chi_L^+}} \\overline{{\\ell_L^{\\prime}}_{j}}\\right) {S}_{i} {Y_{L}}_{i,j} + \\left(\\chi^{0}_{R} \\overline{{\\nu_R^{\\prime}}_{j}} - {{\\chi_R^+}} \\overline{{\\ell_R^{\\prime}}_{j}}\\right) {S^{c}}_{i} {Y_{R}}_{i,j} + \\left(\\overline{\\chi^{0}_{L}} {\\nu_L^{\\prime}}_{j} - \\overline{{{\\chi_L^+}}} {\\ell_L^{\\prime}}_{j}\\right) \\overline{{S}_{i}} {Y_{L}}_{i,j} + \\left(\\overline{\\chi^{0}_{R}} {\\nu_R^{\\prime}}_{j} - \\overline{{{\\chi_R^+}}} {\\ell_R^{\\prime}}_{j}\\right) \\overline{{S^{c}}_{i}} {Y_{R}}_{i,j} + \\left(\\phi^{0}_{1} \\overline{{\\ell_R^{\\prime}}_{j}} {\\tilde{Y}}_{i,j} - {{\\phi_1^+}} \\overline{{\\nu_R^{\\prime}}_{j}} {\\tilde{Y}}_{i,j}\\right) {\\ell_L^{\\prime}}_{i} + \\left(\\phi^{0}_{1} \\overline{{\\nu_L^{\\prime}}_{i}} {Y}_{i,j} + \\overline{{{\\phi_2^+}}} \\overline{{\\ell_L^{\\prime}}_{i}} {Y}_{i,j}\\right) {\\nu_R^{\\prime}}_{j} + \\left(\\phi^{0}_{2} \\overline{{\\ell_L^{\\prime}}_{i}} {Y}_{i,j} + {{\\phi_1^+}} \\overline{{\\nu_L^{\\prime}}_{i}} {Y}_{i,j}\\right) {\\ell_R^{\\prime}}_{j} + \\left(\\phi^{0}_{2} \\overline{{\\nu_R^{\\prime}}_{j}} {\\tilde{Y}}_{i,j} - \\overline{{{\\phi_2^+}}} \\overline{{\\ell_R^{\\prime}}_{j}} {\\tilde{Y}}_{i,j}\\right) {\\nu_L^{\\prime}}_{i} + \\left(- {{\\phi_2^+}} \\overline{{\\nu_L^{\\prime}}_{i}} {\\tilde{Y}}_{i,j} + \\overline{\\phi^{0}_{1}} \\overline{{\\ell_L^{\\prime}}_{i}} {\\tilde{Y}}_{i,j}\\right) {\\ell_R^{\\prime}}_{j} + \\left({{\\phi_2^+}} \\overline{{\\nu_R^{\\prime}}_{j}} {Y}_{i,j} + \\overline{\\phi^{0}_{2}} \\overline{{\\ell_R^{\\prime}}_{j}} {Y}_{i,j}\\right) {\\ell_L^{\\prime}}_{i} + \\left(\\overline{\\phi^{0}_{1}} \\overline{{\\nu_R^{\\prime}}_{j}} {Y}_{i,j} + \\overline{{{\\phi_1^+}}} \\overline{{\\ell_R^{\\prime}}_{j}} {Y}_{i,j}\\right) {\\nu_L^{\\prime}}_{i} + \\left(\\overline{\\phi^{0}_{2}} \\overline{{\\nu_L^{\\prime}}_{i}} {\\tilde{Y}}_{i,j} - \\overline{{{\\phi_1^+}}} \\overline{{\\ell_L^{\\prime}}_{i}} {\\tilde{Y}}_{i,j}\\right) {\\nu_R^{\\prime}}_{j} + \\frac{\\overline{{S}_{j}} {S^{c}}_{i} {\\mu}_{i,j}}{2} + \\frac{\\overline{{S^{c}}_{i}} {S}_{j} {\\mu}_{i,j}}{2}$"
      ],
      "text/plain": [
       "                                                                               ↪\n",
       "⎛          _________________                 __________________⎞               ↪\n",
       "⎝\\chi_L__0⋅\\nu_L^{\\prime}[j] - {{\\chi_L__+}}⋅\\ell_L^{\\prime}[j]⎠⋅S[i]⋅Y_L[i, j ↪\n",
       "                                                                               ↪\n",
       "\n",
       "↪                                                                              ↪\n",
       "↪     ⎛          _________________                 __________________⎞         ↪\n",
       "↪ ] + ⎝\\chi_R__0⋅\\nu_R^{\\prime}[j] - {{\\chi_R__+}}⋅\\ell_R^{\\prime}[j]⎠⋅S^c[i]⋅ ↪\n",
       "↪                                                                              ↪\n",
       "\n",
       "↪                                                                              ↪\n",
       "↪             ⎛_________                     _____________                   ⎞ ↪\n",
       "↪ Y_R[i, j] + ⎝\\chi_L__0⋅\\nu_L^{\\prime}[j] - {{\\chi_L__+}}⋅\\ell_L^{\\prime}[j]⎠ ↪\n",
       "↪                                                                              ↪\n",
       "\n",
       "↪                                                                              ↪\n",
       "↪  ____             ⎛_________                     _____________               ↪\n",
       "↪ ⋅S[i]⋅Y_L[i, j] + ⎝\\chi_R__0⋅\\nu_R^{\\prime}[j] - {{\\chi_R__+}}⋅\\ell_R^{\\prim ↪\n",
       "↪                                                                              ↪\n",
       "\n",
       "↪                                                                              ↪\n",
       "↪      ⎞ ______             ⎛       __________________                         ↪\n",
       "↪ e}[j]⎠⋅S^c[i]⋅Y_R[i, j] + ⎝\\phi⁰₁⋅\\ell_R^{\\prime}[j]⋅\\tilde{Y}[i, j] - {{\\ph ↪\n",
       "↪                                                                              ↪\n",
       "\n",
       "↪                                                                              ↪\n",
       "↪          _________________                ⎞                      ⎛       ___ ↪\n",
       "↪ i_1__+}}⋅\\nu_R^{\\prime}[j]⋅\\tilde{Y}[i, j]⎠⋅\\ell_L^{\\prime}[i] + ⎝\\phi⁰₁⋅\\nu ↪\n",
       "↪                                                                              ↪\n",
       "\n",
       "↪                                                                              ↪\n",
       "↪ ______________           _____________ __________________        ⎞           ↪\n",
       "↪ _L^{\\prime}[i]⋅Y[i, j] + {{\\phi_2__+}}⋅\\ell_L^{\\prime}[i]⋅Y[i, j]⎠⋅\\nu_R^{\\p ↪\n",
       "↪                                                                              ↪\n",
       "\n",
       "↪                                                                              ↪\n",
       "↪            ⎛       __________________                         ______________ ↪\n",
       "↪ rime}[j] + ⎝\\phi⁰₂⋅\\ell_L^{\\prime}[i]⋅Y[i, j] + {{\\phi_1__+}}⋅\\nu_L^{\\prime} ↪\n",
       "↪                                                                              ↪\n",
       "\n",
       "↪                                                                              ↪\n",
       "↪ ___        ⎞                      ⎛       _________________                  ↪\n",
       "↪ [i]⋅Y[i, j]⎠⋅\\ell_R^{\\prime}[j] + ⎝\\phi⁰₂⋅\\nu_R^{\\prime}[j]⋅\\tilde{Y}[i, j]  ↪\n",
       "↪                                                                              ↪\n",
       "\n",
       "↪                                                                              ↪\n",
       "↪   _____________ __________________                ⎞                     ⎛    ↪\n",
       "↪ - {{\\phi_2__+}}⋅\\ell_R^{\\prime}[j]⋅\\tilde{Y}[i, j]⎠⋅\\nu_L^{\\prime}[i] + ⎝- { ↪\n",
       "↪                                                                              ↪\n",
       "\n",
       "↪                                                                              ↪\n",
       "↪              _________________                   ______ __________________   ↪\n",
       "↪ {\\phi_2__+}}⋅\\nu_L^{\\prime}[i]⋅\\tilde{Y}[i, j] + \\phi⁰₁⋅\\ell_L^{\\prime}[i]⋅\\ ↪\n",
       "↪                                                                              ↪\n",
       "\n",
       "↪                                                                              ↪\n",
       "↪               ⎞                      ⎛              _________________        ↪\n",
       "↪ tilde{Y}[i, j]⎠⋅\\ell_R^{\\prime}[j] + ⎝{{\\phi_2__+}}⋅\\nu_R^{\\prime}[j]⋅Y[i, j ↪\n",
       "↪                                                                              ↪\n",
       "\n",
       "↪                                                                              ↪\n",
       "↪     ______ __________________        ⎞                      ⎛______ ________ ↪\n",
       "↪ ] + \\phi⁰₂⋅\\ell_R^{\\prime}[j]⋅Y[i, j]⎠⋅\\ell_L^{\\prime}[i] + ⎝\\phi⁰₁⋅\\nu_R^{\\ ↪\n",
       "↪                                                                              ↪\n",
       "\n",
       "↪                                                                              ↪\n",
       "↪ _________           _____________ __________________        ⎞                ↪\n",
       "↪ prime}[j]⋅Y[i, j] + {{\\phi_1__+}}⋅\\ell_R^{\\prime}[j]⋅Y[i, j]⎠⋅\\nu_L^{\\prime} ↪\n",
       "↪                                                                              ↪\n",
       "\n",
       "↪                                                                              ↪\n",
       "↪       ⎛______ _________________                   _____________ ____________ ↪\n",
       "↪ [i] + ⎝\\phi⁰₂⋅\\nu_L^{\\prime}[i]⋅\\tilde{Y}[i, j] - {{\\phi_1__+}}⋅\\ell_L^{\\pri ↪\n",
       "↪                                                                              ↪\n",
       "\n",
       "↪                                             ____                    ______   ↪\n",
       "↪ ______                ⎞                     S[j]⋅S^c[i]⋅\\mu[i, j]   S^c[i]⋅S ↪\n",
       "↪ me}[i]⋅\\tilde{Y}[i, j]⎠⋅\\nu_R^{\\prime}[j] + ───────────────────── + ──────── ↪\n",
       "↪                                                       2                      ↪\n",
       "\n",
       "↪              \n",
       "↪ [j]⋅\\mu[i, j]\n",
       "↪ ─────────────\n",
       "↪   2          "
      ]
     },
     "execution_count": 10,
     "metadata": {},
     "output_type": "execute_result"
    }
   ],
   "source": [
    "Lyuk_lep = (\n",
    "    (Dagger(LL(i))*Y[i, j]*Phi*LR(j))[0] + \n",
    "    (Dagger(LL(i))*Ytilde[i, j]*Phitilde*LR(j))[0] +\n",
    "    (Dagger(LR(j))*Y[i, j]*PhiDagger*LL(i))[0] + \n",
    "    (Dagger(LR(j))*Ytilde[i, j]*PhitildeDagger*LL(i))[0] +\n",
    "    conjugate(Singlet[i])*YL[i,j]*(ChiLtildeDagger*LL(j))[0] +\n",
    "    (Dagger(LL(j))*ChiLtilde)[0]*YL[i,j]*Singlet[i] + \n",
    "    conjugate(SingletC[i])*YR[i,j]*(ChiRtildeDagger*LR(j))[0] +\n",
    "    (Dagger(LR(j))*ChiRtilde)[0]*YR[i,j]*SingletC[i] + \n",
    "    mu[i,j]/2*conjugate(SingletC[i])*Singlet[j] + \n",
    "    mu[i,j]/2*conjugate(Singlet[j])*SingletC[i]\n",
    ")\n",
    "Lyuk_lep"
   ]
  },
  {
   "cell_type": "code",
   "execution_count": 11,
   "metadata": {},
   "outputs": [
    {
     "data": {
      "image/png": "[encoded data removed]",
      "text/latex": [
       "$\\displaystyle k_{1} \\overline{{\\ell_L^{\\prime}}_{i}} {\\ell_R^{\\prime}}_{j} {\\tilde{Y}}_{i,j} + k_{1} \\overline{{\\ell_R^{\\prime}}_{j}} {\\ell_L^{\\prime}}_{i} {\\tilde{Y}}_{i,j} + k_{1} \\overline{{\\nu_L^{\\prime}}_{i}} {Y}_{i,j} {\\nu_R^{\\prime}}_{j} + k_{1} \\overline{{\\nu_R^{\\prime}}_{j}} {Y}_{i,j} {\\nu_L^{\\prime}}_{i} + k_{2} \\overline{{\\ell_L^{\\prime}}_{i}} {Y}_{i,j} {\\ell_R^{\\prime}}_{j} + k_{2} \\overline{{\\ell_R^{\\prime}}_{j}} {Y}_{i,j} {\\ell_L^{\\prime}}_{i} + k_{2} \\overline{{\\nu_L^{\\prime}}_{i}} {\\nu_R^{\\prime}}_{j} {\\tilde{Y}}_{i,j} + k_{2} \\overline{{\\nu_R^{\\prime}}_{j}} {\\nu_L^{\\prime}}_{i} {\\tilde{Y}}_{i,j} + v_{L} \\overline{{S}_{i}} {Y_{L}}_{i,j} {\\nu_L^{\\prime}}_{j} + v_{L} \\overline{{\\nu_L^{\\prime}}_{j}} {S}_{i} {Y_{L}}_{i,j} + v_{R} \\overline{{S^{c}}_{i}} {Y_{R}}_{i,j} {\\nu_R^{\\prime}}_{j} + v_{R} \\overline{{\\nu_R^{\\prime}}_{j}} {S^{c}}_{i} {Y_{R}}_{i,j} + \\frac{\\overline{{S}_{j}} {S^{c}}_{i} {\\mu}_{i,j}}{2} + \\frac{\\overline{{S^{c}}_{i}} {S}_{j} {\\mu}_{i,j}}{2}$"
      ],
      "text/plain": [
       "                                                                               ↪\n",
       "   __________________                                         ________________ ↪\n",
       "k₁⋅\\ell_L^{\\prime}[i]⋅\\ell_R^{\\prime}[j]⋅\\tilde{Y}[i, j] + k₁⋅\\ell_R^{\\prime}[ ↪\n",
       "                                                                               ↪\n",
       "\n",
       "↪                                                                              ↪\n",
       "↪ __                                         _________________                 ↪\n",
       "↪ j]⋅\\ell_L^{\\prime}[i]⋅\\tilde{Y}[i, j] + k₁⋅\\nu_L^{\\prime}[i]⋅Y[i, j]⋅\\nu_R^{ ↪\n",
       "↪                                                                              ↪\n",
       "\n",
       "↪                                                                              ↪\n",
       "↪                 _________________                                ___________ ↪\n",
       "↪ \\prime}[j] + k₁⋅\\nu_R^{\\prime}[j]⋅Y[i, j]⋅\\nu_L^{\\prime}[i] + k₂⋅\\ell_L^{\\pr ↪\n",
       "↪                                                                              ↪\n",
       "\n",
       "↪                                                                              ↪\n",
       "↪ _______                                 __________________                   ↪\n",
       "↪ ime}[i]⋅Y[i, j]⋅\\ell_R^{\\prime}[j] + k₂⋅\\ell_R^{\\prime}[j]⋅Y[i, j]⋅\\ell_L^{\\ ↪\n",
       "↪                                                                              ↪\n",
       "\n",
       "↪                                                                              ↪\n",
       "↪                _________________                                        ____ ↪\n",
       "↪ prime}[i] + k₂⋅\\nu_L^{\\prime}[i]⋅\\nu_R^{\\prime}[j]⋅\\tilde{Y}[i, j] + k₂⋅\\nu_ ↪\n",
       "↪                                                                              ↪\n",
       "\n",
       "↪                                                                              ↪\n",
       "↪ _____________                                         ____                   ↪\n",
       "↪ R^{\\prime}[j]⋅\\nu_L^{\\prime}[i]⋅\\tilde{Y}[i, j] + v_L⋅S[i]⋅Y_L[i, j]⋅\\nu_L^{ ↪\n",
       "↪                                                                              ↪\n",
       "\n",
       "↪                                                                              ↪\n",
       "↪                  _________________                      ______               ↪\n",
       "↪ \\prime}[j] + v_L⋅\\nu_L^{\\prime}[j]⋅S[i]⋅Y_L[i, j] + v_R⋅S^c[i]⋅Y_R[i, j]⋅\\nu ↪\n",
       "↪                                                                              ↪\n",
       "\n",
       "↪                                                           ____               ↪\n",
       "↪                      _________________                    S[j]⋅S^c[i]⋅\\mu[i, ↪\n",
       "↪ _R^{\\prime}[j] + v_R⋅\\nu_R^{\\prime}[j]⋅S^c[i]⋅Y_R[i, j] + ────────────────── ↪\n",
       "↪                                                                     2        ↪\n",
       "\n",
       "↪       ______               \n",
       "↪  j]   S^c[i]⋅S[j]⋅\\mu[i, j]\n",
       "↪ ─── + ─────────────────────\n",
       "↪                 2          "
      ]
     },
     "execution_count": 11,
     "metadata": {},
     "output_type": "execute_result"
    }
   ],
   "source": [
    "Lyuk_lep_vev = Lyuk_lep.subs(vevPhi).subs(vevL).subs(vevR).expand()\n",
    "Lyuk_lep_vev"
   ]
  },
  {
   "cell_type": "code",
   "execution_count": 12,
   "metadata": {},
   "outputs": [
    {
     "data": {
      "image/png": "[encoded data removed]",
      "text/latex": [
       "$\\displaystyle k_{1} {\\tilde{Y}}_{i,j} + k_{2} {Y}_{i,j}$"
      ],
      "text/plain": [
       "k₁⋅\\tilde{Y}[i, j] + k₂⋅Y[i, j]"
      ]
     },
     "execution_count": 12,
     "metadata": {},
     "output_type": "execute_result"
    }
   ],
   "source": [
    "Ml = Lyuk_lep_vev.coeff(conjugate(lLp[i])).coeff(lRp[j])\n",
    "Ml"
   ]
  },
  {
   "cell_type": "code",
   "execution_count": 13,
   "metadata": {},
   "outputs": [
    {
     "data": {
      "image/png": "[encoded data removed]",
      "text/latex": [
       "$\\displaystyle {M_{\\ell}}_{i,j}$"
      ],
      "text/plain": [
       "M_\\ell[i, j]"
      ]
     },
     "execution_count": 13,
     "metadata": {},
     "output_type": "execute_result"
    }
   ],
   "source": [
    "Ml_sym = IndexedBase(r'M_\\ell')\n",
    "Ml_sym[i,j]"
   ]
  },
  {
   "cell_type": "code",
   "execution_count": 14,
   "metadata": {},
   "outputs": [
    {
     "data": {
      "image/png": "[encoded data removed]",
      "text/latex": [
       "$\\displaystyle k_{1} {\\tilde{Y}}_{i,j} + k_{2} {Y}_{i,j}$"
      ],
      "text/plain": [
       "k₁⋅\\tilde{Y}[i, j] + k₂⋅Y[i, j]"
      ]
     },
     "execution_count": 14,
     "metadata": {},
     "output_type": "execute_result"
    }
   ],
   "source": [
    "def Ml_expr(idx1, idx2):\n",
    "    Ml = k1*Ytilde[idx1, idx2] + k2*Y[idx1, idx2]\n",
    "    return Ml\n",
    "Ml_expr(i,j)"
   ]
  },
  {
   "cell_type": "code",
   "execution_count": 15,
   "metadata": {},
   "outputs": [
    {
     "name": "stderr",
     "output_type": "stream",
     "text": [
      "<>:1: SyntaxWarning: invalid escape sequence '\\e'\n",
      "<>:2: SyntaxWarning: invalid escape sequence '\\e'\n",
      "<>:1: SyntaxWarning: invalid escape sequence '\\e'\n",
      "<>:2: SyntaxWarning: invalid escape sequence '\\e'\n",
      "/tmp/ipykernel_1891/1224181315.py:1: SyntaxWarning: invalid escape sequence '\\e'\n",
      "  VlL = IndexedBase('V_{L}^\\ell')\n",
      "/tmp/ipykernel_1891/1224181315.py:2: SyntaxWarning: invalid escape sequence '\\e'\n",
      "  VlR = IndexedBase('V_{R}^\\ell')\n"
     ]
    }
   ],
   "source": [
    "VlL = IndexedBase('V_{L}^\\ell')\n",
    "VlR = IndexedBase('V_{R}^\\ell')"
   ]
  },
  {
   "cell_type": "code",
   "execution_count": 16,
   "metadata": {},
   "outputs": [
    {
     "data": {
      "image/png": "[encoded data removed]",
      "text/latex": [
       "$\\displaystyle \\overline{{V_{L}^\\ell}_{k,m}} {M_{\\ell}}_{k,l} {V_{R}^\\ell}_{l,n}$"
      ],
      "text/plain": [
       "________________                              \n",
       "V_{L}^\\ell[k, m]⋅M_\\ell[k, l]⋅V_{R}^\\ell[l, n]"
      ]
     },
     "execution_count": 16,
     "metadata": {},
     "output_type": "execute_result"
    }
   ],
   "source": [
    "def Ml_diag_expr(idx1, idx2, idx3, idx4):\n",
    "    Ml_diag = conjugate(VlL[idx2, idx1])*Ml_sym[idx2, idx3]*VlR[idx3, idx4]\n",
    "    return Ml_diag\n",
    "\n",
    "Ml_diag_expr(m, k, l, n)"
   ]
  },
  {
   "cell_type": "code",
   "execution_count": 17,
   "metadata": {},
   "outputs": [
    {
     "data": {
      "image/png": "[encoded data removed]",
      "text/latex": [
       "$\\displaystyle \\left(k_{1} {\\tilde{Y}}_{k,l} + k_{2} {Y}_{k,l}\\right) \\overline{{V_{L}^\\ell}_{k,m}} {V_{R}^\\ell}_{l,n}$"
      ],
      "text/plain": [
       "                                  ________________                 \n",
       "(k₁⋅\\tilde{Y}[k, l] + k₂⋅Y[k, l])⋅V_{L}^\\ell[k, m]⋅V_{R}^\\ell[l, n]"
      ]
     },
     "execution_count": 17,
     "metadata": {},
     "output_type": "execute_result"
    }
   ],
   "source": [
    "Ml_diag_expr(m, k, l, n).subs(Ml_sym[k, l], Ml_expr(k, l))"
   ]
  },
  {
   "cell_type": "code",
   "execution_count": 18,
   "metadata": {},
   "outputs": [],
   "source": [
    "lL = IndexedBase(r'\\ell_L')\n",
    "lR = IndexedBase(r'\\ell_R')\n",
    "nL = IndexedBase(r'n_L')\n",
    "nR = IndexedBase(r'n_R')"
   ]
  },
  {
   "cell_type": "code",
   "execution_count": 19,
   "metadata": {},
   "outputs": [],
   "source": [
    "def lLp_expr(idx1, idx2):\n",
    "    return VlL[idx1,idx2]*lL[idx2]\n",
    "def lRp_expr(idx1, idx2):\n",
    "    return VlR[idx1,idx2]*lR[idx2]\n",
    "def lLp_adj_expr(idx1, idx2):\n",
    "    return conjugate(VlL[idx2,idx1])*conjugate(lL[idx2])\n",
    "def lRp_adj_expr(idx1, idx2):\n",
    "    return conjugate(VlR[idx2,idx1])*conjugate(lR[idx2])"
   ]
  },
  {
   "cell_type": "code",
   "execution_count": 20,
   "metadata": {},
   "outputs": [
    {
     "data": {
      "image/png": "[encoded data removed]",
      "text/latex": [
       "$\\displaystyle \\left( {V_{L}^\\ell}_{i,j} {\\ell_{L}}_{j}, \\  \\overline{{V_{L}^\\ell}_{j,i}} \\overline{{\\ell_{L}}_{j}}\\right)$"
      ],
      "text/plain": [
       "⎛                            ________________ _________⎞\n",
       "⎝V_{L}^\\ell[i, j]⋅\\ell_L[j], V_{L}^\\ell[j, i]⋅\\ell_L[j]⎠"
      ]
     },
     "execution_count": 20,
     "metadata": {},
     "output_type": "execute_result"
    }
   ],
   "source": [
    "lLp_expr(i,j), lLp_adj_expr(i,j)"
   ]
  },
  {
   "cell_type": "code",
   "execution_count": 21,
   "metadata": {},
   "outputs": [
    {
     "data": {
      "image/png": "[encoded data removed]",
      "text/latex": [
       "$\\displaystyle \\left\\{ \\overline{{\\ell_L^{\\prime}}_{i}} : \\overline{{V_{L}^\\ell}_{j,i}} \\overline{{\\ell_{L}}_{j}}, \\  \\overline{{\\ell_R^{\\prime}}_{i}} : \\overline{{V_{R}^\\ell}_{j,i}} \\overline{{\\ell_{R}}_{j}}, \\  {\\ell_L^{\\prime}}_{i} : {V_{L}^\\ell}_{j,i} {\\ell_{L}}_{i}, \\  {\\ell_R^{\\prime}}_{j} : {V_{R}^\\ell}_{i,j} {\\ell_{R}}_{j}\\right\\}$"
      ],
      "text/plain": [
       "⎧__________________  ________________ _________  __________________  _________ ↪\n",
       "⎨\\ell_L^{\\prime}[i]: V_{L}^\\ell[j, i]⋅\\ell_L[j], \\ell_R^{\\prime}[i]: V_{R}^\\el ↪\n",
       "⎩                                                                              ↪\n",
       "\n",
       "↪ _______ _________                                                            ↪\n",
       "↪ l[j, i]⋅\\ell_R[j], \\ell_L^{\\prime}[i]: V_{L}^\\ell[j, i]⋅\\ell_L[i], \\ell_R^{\\ ↪\n",
       "↪                                                                              ↪\n",
       "\n",
       "↪                                      ⎫\n",
       "↪ prime}[j]: V_{R}^\\ell[i, j]⋅\\ell_R[j]⎬\n",
       "↪                                      ⎭"
      ]
     },
     "execution_count": 21,
     "metadata": {},
     "output_type": "execute_result"
    }
   ],
   "source": [
    "def change_charged_leptons(idx1, idx2):\n",
    "    return {\n",
    "        lLp[idx1]: lLp_expr(idx2, idx1),\n",
    "        lRp[idx2]: lRp_expr(idx1, idx2),\n",
    "        conjugate(lLp[idx1]): lLp_adj_expr(idx1, idx2),\n",
    "        conjugate(lRp[idx1]): lRp_adj_expr(idx1, idx2)\n",
    "    }\n",
    "change_charged_leptons(i,j)"
   ]
  },
  {
   "cell_type": "code",
   "execution_count": 22,
   "metadata": {},
   "outputs": [
    {
     "data": {
      "image/png": "[encoded data removed]",
      "text/latex": [
       "$\\displaystyle k_{1} \\overline{{\\ell_L^{\\prime}}_{i}} {\\ell_R^{\\prime}}_{j} {\\tilde{Y}}_{i,j}$"
      ],
      "text/plain": [
       "   __________________                                   \n",
       "k₁⋅\\ell_L^{\\prime}[i]⋅\\ell_R^{\\prime}[j]⋅\\tilde{Y}[i, j]"
      ]
     },
     "metadata": {},
     "output_type": "display_data"
    },
    {
     "data": {
      "image/png": "[encoded data removed]",
      "text/latex": [
       "$\\displaystyle k_{1} \\overline{{\\ell_R^{\\prime}}_{j}} {\\ell_L^{\\prime}}_{i} {\\tilde{Y}}_{i,j}$"
      ],
      "text/plain": [
       "   __________________                                   \n",
       "k₁⋅\\ell_R^{\\prime}[j]⋅\\ell_L^{\\prime}[i]⋅\\tilde{Y}[i, j]"
      ]
     },
     "metadata": {},
     "output_type": "display_data"
    },
    {
     "data": {
      "image/png": "[encoded data removed]",
      "text/latex": [
       "$\\displaystyle k_{1} \\overline{{\\nu_L^{\\prime}}_{i}} {Y}_{i,j} {\\nu_R^{\\prime}}_{j}$"
      ],
      "text/plain": [
       "   _________________                          \n",
       "k₁⋅\\nu_L^{\\prime}[i]⋅Y[i, j]⋅\\nu_R^{\\prime}[j]"
      ]
     },
     "metadata": {},
     "output_type": "display_data"
    },
    {
     "data": {
      "image/png": "[encoded data removed]",
      "text/latex": [
       "$\\displaystyle k_{1} \\overline{{\\nu_R^{\\prime}}_{j}} {Y}_{i,j} {\\nu_L^{\\prime}}_{i}$"
      ],
      "text/plain": [
       "   _________________                          \n",
       "k₁⋅\\nu_R^{\\prime}[j]⋅Y[i, j]⋅\\nu_L^{\\prime}[i]"
      ]
     },
     "metadata": {},
     "output_type": "display_data"
    },
    {
     "data": {
      "image/png": "[encoded data removed]",
      "text/latex": [
       "$\\displaystyle k_{2} \\overline{{\\ell_L^{\\prime}}_{i}} {Y}_{i,j} {\\ell_R^{\\prime}}_{j}$"
      ],
      "text/plain": [
       "   __________________                           \n",
       "k₂⋅\\ell_L^{\\prime}[i]⋅Y[i, j]⋅\\ell_R^{\\prime}[j]"
      ]
     },
     "metadata": {},
     "output_type": "display_data"
    },
    {
     "data": {
      "image/png": "[encoded data removed]",
      "text/latex": [
       "$\\displaystyle k_{2} \\overline{{\\ell_R^{\\prime}}_{j}} {Y}_{i,j} {\\ell_L^{\\prime}}_{i}$"
      ],
      "text/plain": [
       "   __________________                           \n",
       "k₂⋅\\ell_R^{\\prime}[j]⋅Y[i, j]⋅\\ell_L^{\\prime}[i]"
      ]
     },
     "metadata": {},
     "output_type": "display_data"
    },
    {
     "data": {
      "image/png": "[encoded data removed]",
      "text/latex": [
       "$\\displaystyle k_{2} \\overline{{\\nu_L^{\\prime}}_{i}} {\\nu_R^{\\prime}}_{j} {\\tilde{Y}}_{i,j}$"
      ],
      "text/plain": [
       "   _________________                                  \n",
       "k₂⋅\\nu_L^{\\prime}[i]⋅\\nu_R^{\\prime}[j]⋅\\tilde{Y}[i, j]"
      ]
     },
     "metadata": {},
     "output_type": "display_data"
    },
    {
     "data": {
      "image/png": "[encoded data removed]",
      "text/latex": [
       "$\\displaystyle k_{2} \\overline{{\\nu_R^{\\prime}}_{j}} {\\nu_L^{\\prime}}_{i} {\\tilde{Y}}_{i,j}$"
      ],
      "text/plain": [
       "   _________________                                  \n",
       "k₂⋅\\nu_R^{\\prime}[j]⋅\\nu_L^{\\prime}[i]⋅\\tilde{Y}[i, j]"
      ]
     },
     "metadata": {},
     "output_type": "display_data"
    },
    {
     "data": {
      "image/png": "[encoded data removed]",
      "text/latex": [
       "$\\displaystyle v_{L} \\overline{{S}_{i}} {Y_{L}}_{i,j} {\\nu_L^{\\prime}}_{j}$"
      ],
      "text/plain": [
       "    ____                            \n",
       "v_L⋅S[i]⋅Y_L[i, j]⋅\\nu_L^{\\prime}[j]"
      ]
     },
     "metadata": {},
     "output_type": "display_data"
    },
    {
     "data": {
      "image/png": "[encoded data removed]",
      "text/latex": [
       "$\\displaystyle v_{L} \\overline{{\\nu_L^{\\prime}}_{j}} {S}_{i} {Y_{L}}_{i,j}$"
      ],
      "text/plain": [
       "    _________________               \n",
       "v_L⋅\\nu_L^{\\prime}[j]⋅S[i]⋅Y_L[i, j]"
      ]
     },
     "metadata": {},
     "output_type": "display_data"
    },
    {
     "data": {
      "image/png": "[encoded data removed]",
      "text/latex": [
       "$\\displaystyle v_{R} \\overline{{S^{c}}_{i}} {Y_{R}}_{i,j} {\\nu_R^{\\prime}}_{j}$"
      ],
      "text/plain": [
       "    ______                            \n",
       "v_R⋅S^c[i]⋅Y_R[i, j]⋅\\nu_R^{\\prime}[j]"
      ]
     },
     "metadata": {},
     "output_type": "display_data"
    },
    {
     "data": {
      "image/png": "[encoded data removed]",
      "text/latex": [
       "$\\displaystyle v_{R} \\overline{{\\nu_R^{\\prime}}_{j}} {S^{c}}_{i} {Y_{R}}_{i,j}$"
      ],
      "text/plain": [
       "    _________________                 \n",
       "v_R⋅\\nu_R^{\\prime}[j]⋅S^c[i]⋅Y_R[i, j]"
      ]
     },
     "metadata": {},
     "output_type": "display_data"
    },
    {
     "data": {
      "image/png": "[encoded data removed]",
      "text/latex": [
       "$\\displaystyle \\frac{\\overline{{S}_{j}} {S^{c}}_{i} {\\mu}_{i,j}}{2}$"
      ],
      "text/plain": [
       "____                 \n",
       "S[j]⋅S^c[i]⋅\\mu[i, j]\n",
       "─────────────────────\n",
       "          2          "
      ]
     },
     "metadata": {},
     "output_type": "display_data"
    },
    {
     "data": {
      "image/png": "[encoded data removed]",
      "text/latex": [
       "$\\displaystyle \\frac{\\overline{{S^{c}}_{i}} {S}_{j} {\\mu}_{i,j}}{2}$"
      ],
      "text/plain": [
       "______               \n",
       "S^c[i]⋅S[j]⋅\\mu[i, j]\n",
       "─────────────────────\n",
       "          2          "
      ]
     },
     "metadata": {},
     "output_type": "display_data"
    }
   ],
   "source": [
    "terms = Lyuk_lep_vev.expand().as_ordered_terms()\n",
    "for term in terms:\n",
    "    for t in term.args:\n",
    "        if t.has(lLp):\n",
    "            idx1 = t.args[0]\n",
    "        if t.has(lRp):\n",
    "            idx2 = t.args[0]\n",
    "    display(term)\n"
   ]
  },
  {
   "cell_type": "code",
   "execution_count": 23,
   "metadata": {},
   "outputs": [
    {
     "data": {
      "image/png": "[encoded data removed]",
      "text/latex": [
       "$\\displaystyle \\chi^{0}_{L} \\overline{{\\nu_L^{\\prime}}_{j}} {S}_{i} {Y_{L}}_{i,j} + \\chi^{0}_{R} \\overline{{\\nu_R^{\\prime}}_{j}} {S^{c}}_{i} {Y_{R}}_{i,j} + \\phi^{0}_{1} \\overline{{V_{R}^\\ell}_{i,j}} \\overline{{\\ell_{R}}_{j}} {V_{L}^\\ell}_{j,i} {\\ell_{L}}_{i} {\\tilde{Y}}_{i,j} + \\phi^{0}_{1} \\overline{{\\nu_L^{\\prime}}_{i}} {Y}_{i,j} {\\nu_R^{\\prime}}_{j} + \\phi^{0}_{2} \\overline{{V_{L}^\\ell}_{j,i}} \\overline{{\\ell_{L}}_{j}} {V_{R}^\\ell}_{i,j} {Y}_{i,j} {\\ell_{R}}_{j} + \\phi^{0}_{2} \\overline{{\\nu_R^{\\prime}}_{j}} {\\nu_L^{\\prime}}_{i} {\\tilde{Y}}_{i,j} - {{\\chi_L^+}} \\overline{{\\ell_L^{\\prime}}_{j}} {S}_{i} {Y_{L}}_{i,j} - {{\\chi_R^+}} \\overline{{V_{R}^\\ell}_{i,j}} \\overline{{\\ell_{R}}_{j}} {S^{c}}_{i} {Y_{R}}_{i,j} + {{\\phi_1^+}} \\overline{{\\nu_L^{\\prime}}_{i}} {V_{R}^\\ell}_{i,j} {Y}_{i,j} {\\ell_{R}}_{j} - {{\\phi_1^+}} \\overline{{\\nu_R^{\\prime}}_{j}} {V_{L}^\\ell}_{j,i} {\\ell_{L}}_{i} {\\tilde{Y}}_{i,j} - {{\\phi_2^+}} \\overline{{\\nu_L^{\\prime}}_{i}} {V_{R}^\\ell}_{i,j} {\\ell_{R}}_{j} {\\tilde{Y}}_{i,j} + {{\\phi_2^+}} \\overline{{\\nu_R^{\\prime}}_{j}} {V_{L}^\\ell}_{j,i} {Y}_{i,j} {\\ell_{L}}_{i} + \\overline{\\chi^{0}_{L}} \\overline{{S}_{i}} {Y_{L}}_{i,j} {\\nu_L^{\\prime}}_{j} + \\overline{\\chi^{0}_{R}} \\overline{{S^{c}}_{i}} {Y_{R}}_{i,j} {\\nu_R^{\\prime}}_{j} + \\overline{\\phi^{0}_{1}} \\overline{{V_{L}^\\ell}_{j,i}} \\overline{{\\ell_{L}}_{j}} {V_{R}^\\ell}_{i,j} {\\ell_{R}}_{j} {\\tilde{Y}}_{i,j} + \\overline{\\phi^{0}_{1}} \\overline{{\\nu_R^{\\prime}}_{j}} {Y}_{i,j} {\\nu_L^{\\prime}}_{i} + \\overline{\\phi^{0}_{2}} \\overline{{V_{R}^\\ell}_{i,j}} \\overline{{\\ell_{R}}_{j}} {V_{L}^\\ell}_{j,i} {Y}_{i,j} {\\ell_{L}}_{i} + \\overline{\\phi^{0}_{2}} \\overline{{\\nu_L^{\\prime}}_{i}} {\\nu_R^{\\prime}}_{j} {\\tilde{Y}}_{i,j} - \\overline{{{\\chi_L^+}}} \\overline{{S}_{i}} {Y_{L}}_{i,j} {\\ell_L^{\\prime}}_{j} - \\overline{{{\\chi_R^+}}} \\overline{{S^{c}}_{i}} {V_{R}^\\ell}_{i,j} {Y_{R}}_{i,j} {\\ell_{R}}_{j} - \\overline{{{\\phi_1^+}}} \\overline{{V_{L}^\\ell}_{j,i}} \\overline{{\\ell_{L}}_{j}} {\\nu_R^{\\prime}}_{j} {\\tilde{Y}}_{i,j} + \\overline{{{\\phi_1^+}}} \\overline{{V_{R}^\\ell}_{i,j}} \\overline{{\\ell_{R}}_{j}} {Y}_{i,j} {\\nu_L^{\\prime}}_{i} + \\overline{{{\\phi_2^+}}} \\overline{{V_{L}^\\ell}_{j,i}} \\overline{{\\ell_{L}}_{j}} {Y}_{i,j} {\\nu_R^{\\prime}}_{j} - \\overline{{{\\phi_2^+}}} \\overline{{V_{R}^\\ell}_{i,j}} \\overline{{\\ell_{R}}_{j}} {\\nu_L^{\\prime}}_{i} {\\tilde{Y}}_{i,j} + \\frac{\\overline{{S}_{j}} {S^{c}}_{i} {\\mu}_{i,j}}{2} + \\frac{\\overline{{S^{c}}_{i}} {S}_{j} {\\mu}_{i,j}}{2}$"
      ],
      "text/plain": [
       "                                                                               ↪\n",
       "          _________________                            _________________       ↪\n",
       "\\chi_L__0⋅\\nu_L^{\\prime}[j]⋅S[i]⋅Y_L[i, j] + \\chi_R__0⋅\\nu_R^{\\prime}[j]⋅S^c[i ↪\n",
       "                                                                               ↪\n",
       "\n",
       "↪                                                                              ↪\n",
       "↪                      ________________ _________                              ↪\n",
       "↪ ]⋅Y_R[i, j] + \\phi⁰₁⋅V_{R}^\\ell[i, j]⋅\\ell_R[j]⋅V_{L}^\\ell[j, i]⋅\\ell_L[i]⋅\\ ↪\n",
       "↪                                                                              ↪\n",
       "\n",
       "↪                                                                              ↪\n",
       "↪                         _________________                                    ↪\n",
       "↪ tilde{Y}[i, j] + \\phi⁰₁⋅\\nu_L^{\\prime}[i]⋅Y[i, j]⋅\\nu_R^{\\prime}[j] + \\phi⁰₂ ↪\n",
       "↪                                                                              ↪\n",
       "\n",
       "↪                                                                              ↪\n",
       "↪  ________________ _________                                             ____ ↪\n",
       "↪ ⋅V_{L}^\\ell[j, i]⋅\\ell_L[j]⋅V_{R}^\\ell[i, j]⋅Y[i, j]⋅\\ell_R[j] + \\phi⁰₂⋅\\nu_ ↪\n",
       "↪                                                                              ↪\n",
       "\n",
       "↪                                                                              ↪\n",
       "↪ _____________                                                   ____________ ↪\n",
       "↪ R^{\\prime}[j]⋅\\nu_L^{\\prime}[i]⋅\\tilde{Y}[i, j] - {{\\chi_L__+}}⋅\\ell_L^{\\pri ↪\n",
       "↪                                                                              ↪\n",
       "\n",
       "↪                                                                              ↪\n",
       "↪ ______                                ________________ _________             ↪\n",
       "↪ me}[j]⋅S[i]⋅Y_L[i, j] - {{\\chi_R__+}}⋅V_{R}^\\ell[i, j]⋅\\ell_R[j]⋅S^c[i]⋅Y_R[ ↪\n",
       "↪                                                                              ↪\n",
       "\n",
       "↪                                                                              ↪\n",
       "↪                       _________________                                      ↪\n",
       "↪ i, j] + {{\\phi_1__+}}⋅\\nu_L^{\\prime}[i]⋅V_{R}^\\ell[i, j]⋅Y[i, j]⋅\\ell_R[j] - ↪\n",
       "↪                                                                              ↪\n",
       "\n",
       "↪                                                                              ↪\n",
       "↪                _________________                                             ↪\n",
       "↪  {{\\phi_1__+}}⋅\\nu_R^{\\prime}[j]⋅V_{L}^\\ell[j, i]⋅\\ell_L[i]⋅\\tilde{Y}[i, j]  ↪\n",
       "↪                                                                              ↪\n",
       "\n",
       "↪                                                                              ↪\n",
       "↪                 _________________                                            ↪\n",
       "↪ - {{\\phi_2__+}}⋅\\nu_L^{\\prime}[i]⋅V_{R}^\\ell[i, j]⋅\\ell_R[j]⋅\\tilde{Y}[i, j] ↪\n",
       "↪                                                                              ↪\n",
       "\n",
       "↪                                                                              ↪\n",
       "↪                  _________________                                      ____ ↪\n",
       "↪  + {{\\phi_2__+}}⋅\\nu_R^{\\prime}[j]⋅V_{L}^\\ell[j, i]⋅Y[i, j]⋅\\ell_L[i] + \\chi ↪\n",
       "↪                                                                              ↪\n",
       "\n",
       "↪                                                                              ↪\n",
       "↪ _____ ____                               _________ ______                    ↪\n",
       "↪ _L__0⋅S[i]⋅Y_L[i, j]⋅\\nu_L^{\\prime}[j] + \\chi_R__0⋅S^c[i]⋅Y_R[i, j]⋅\\nu_R^{\\ ↪\n",
       "↪                                                                              ↪\n",
       "\n",
       "↪                                                                              ↪\n",
       "↪             ______ ________________ _________                                ↪\n",
       "↪ prime}[j] + \\phi⁰₁⋅V_{L}^\\ell[j, i]⋅\\ell_L[j]⋅V_{R}^\\ell[i, j]⋅\\ell_R[j]⋅\\ti ↪\n",
       "↪                                                                              ↪\n",
       "\n",
       "↪                                                                              ↪\n",
       "↪                ______ _________________                             ______ _ ↪\n",
       "↪ lde{Y}[i, j] + \\phi⁰₁⋅\\nu_R^{\\prime}[j]⋅Y[i, j]⋅\\nu_L^{\\prime}[i] + \\phi⁰₂⋅V ↪\n",
       "↪                                                                              ↪\n",
       "\n",
       "↪                                                                              ↪\n",
       "↪ _______________ _________                                      ______ ______ ↪\n",
       "↪ _{R}^\\ell[i, j]⋅\\ell_R[j]⋅V_{L}^\\ell[j, i]⋅Y[i, j]⋅\\ell_L[i] + \\phi⁰₂⋅\\nu_L^ ↪\n",
       "↪                                                                              ↪\n",
       "\n",
       "↪                                                                              ↪\n",
       "↪ ___________                                     _____________ ____           ↪\n",
       "↪ {\\prime}[i]⋅\\nu_R^{\\prime}[j]⋅\\tilde{Y}[i, j] - {{\\chi_L__+}}⋅S[i]⋅Y_L[i, j] ↪\n",
       "↪                                                                              ↪\n",
       "\n",
       "↪                                                                              ↪\n",
       "↪                       _____________ ______                                   ↪\n",
       "↪ ⋅\\ell_L^{\\prime}[j] - {{\\chi_R__+}}⋅S^c[i]⋅V_{R}^\\ell[i, j]⋅Y_R[i, j]⋅\\ell_R ↪\n",
       "↪                                                                              ↪\n",
       "\n",
       "↪                                                                              ↪\n",
       "↪       _____________ ________________ _________                               ↪\n",
       "↪ [j] - {{\\phi_1__+}}⋅V_{L}^\\ell[j, i]⋅\\ell_L[j]⋅\\nu_R^{\\prime}[j]⋅\\tilde{Y}[i ↪\n",
       "↪                                                                              ↪\n",
       "\n",
       "↪                                                                              ↪\n",
       "↪        _____________ ________________ _________                              ↪\n",
       "↪ , j] + {{\\phi_1__+}}⋅V_{R}^\\ell[i, j]⋅\\ell_R[j]⋅Y[i, j]⋅\\nu_L^{\\prime}[i] +  ↪\n",
       "↪                                                                              ↪\n",
       "\n",
       "↪                                                                              ↪\n",
       "↪ _____________ ________________ _________                             _______ ↪\n",
       "↪ {{\\phi_2__+}}⋅V_{L}^\\ell[j, i]⋅\\ell_L[j]⋅Y[i, j]⋅\\nu_R^{\\prime}[j] - {{\\phi_ ↪\n",
       "↪                                                                              ↪\n",
       "\n",
       "↪                                                                       ____   ↪\n",
       "↪ ______ ________________ _________                                     S[j]⋅S ↪\n",
       "↪ 2__+}}⋅V_{R}^\\ell[i, j]⋅\\ell_R[j]⋅\\nu_L^{\\prime}[i]⋅\\tilde{Y}[i, j] + ────── ↪\n",
       "↪                                                                              ↪\n",
       "\n",
       "↪                   ______               \n",
       "↪ ^c[i]⋅\\mu[i, j]   S^c[i]⋅S[j]⋅\\mu[i, j]\n",
       "↪ ─────────────── + ─────────────────────\n",
       "↪     2                       2          "
      ]
     },
     "execution_count": 23,
     "metadata": {},
     "output_type": "execute_result"
    }
   ],
   "source": [
    "Lyuk_lep_massbasis = Lyuk_lep.subs(change_charged_leptons(i,j)).expand()#.coeff(conjugate(lL[i])).coeff(lR[j]).subs(vevPhi)\n",
    "Lyuk_lep_massbasis"
   ]
  },
  {
   "cell_type": "markdown",
   "metadata": {},
   "source": [
    "If $$V_L^\\ell = V_R^\\ell = V^\\ell$$"
   ]
  },
  {
   "cell_type": "code",
   "execution_count": 24,
   "metadata": {},
   "outputs": [
    {
     "name": "stderr",
     "output_type": "stream",
     "text": [
      "<>:1: SyntaxWarning: invalid escape sequence '\\e'\n",
      "<>:1: SyntaxWarning: invalid escape sequence '\\e'\n",
      "/tmp/ipykernel_1891/606368589.py:1: SyntaxWarning: invalid escape sequence '\\e'\n",
      "  Ul = IndexedBase('U^\\ell')\n"
     ]
    }
   ],
   "source": [
    "Ul = IndexedBase('U^\\ell')"
   ]
  },
  {
   "cell_type": "markdown",
   "metadata": {},
   "source": [
    "if $V^\\ell = \\mathbf{1}$, then,\n",
    "$$\\overline{{V^{\\ell}}_{j,i}} {V^{\\ell}}_{i,j} = \\delta_{i,j} $$"
   ]
  },
  {
   "cell_type": "code",
   "execution_count": 25,
   "metadata": {},
   "outputs": [
    {
     "data": {
      "image/png": "[encoded data removed]",
      "text/latex": [
       "$\\displaystyle \\chi^{0}_{L} \\overline{{\\nu_L^{\\prime}}_{i}} {S}_{i} {Y_{L}}_{i,i} + \\chi^{0}_{R} \\overline{{\\nu_R^{\\prime}}_{i}} {S^{c}}_{i} {Y_{R}}_{i,i} + \\phi^{0}_{1} \\overline{{U^{\\ell}}_{i,i}} \\overline{{\\ell_{R}}_{i}} {U^{\\ell}}_{i,i} {\\ell_{L}}_{i} {\\tilde{Y}}_{i,i} + \\phi^{0}_{1} \\overline{{\\nu_L^{\\prime}}_{i}} {Y}_{i,i} {\\nu_R^{\\prime}}_{i} + \\phi^{0}_{2} \\overline{{\\ell_{L}}_{i}} {Y}_{i,i} {\\ell_{R}}_{i} + \\phi^{0}_{2} \\overline{{\\nu_R^{\\prime}}_{i}} {\\nu_L^{\\prime}}_{i} {\\tilde{Y}}_{i,i} - {{\\chi_L^+}} \\overline{{\\ell_L^{\\prime}}_{i}} {S}_{i} {Y_{L}}_{i,i} - {{\\chi_R^+}} \\overline{{U^{\\ell}}_{i,i}} \\overline{{\\ell_{R}}_{i}} {S^{c}}_{i} {Y_{R}}_{i,i} + {{\\phi_1^+}} \\overline{{\\nu_L^{\\prime}}_{i}} {U^{\\ell}}_{i,i} {Y}_{i,i} {\\ell_{R}}_{i} - {{\\phi_1^+}} \\overline{{\\nu_R^{\\prime}}_{i}} {U^{\\ell}}_{i,i} {\\ell_{L}}_{i} {\\tilde{Y}}_{i,i} - {{\\phi_2^+}} \\overline{{\\nu_L^{\\prime}}_{i}} {U^{\\ell}}_{i,i} {\\ell_{R}}_{i} {\\tilde{Y}}_{i,i} + {{\\phi_2^+}} \\overline{{\\nu_R^{\\prime}}_{i}} {U^{\\ell}}_{i,i} {Y}_{i,i} {\\ell_{L}}_{i} + \\overline{\\chi^{0}_{L}} \\overline{{S}_{i}} {Y_{L}}_{i,i} {\\nu_L^{\\prime}}_{i} + \\overline{\\chi^{0}_{R}} \\overline{{S^{c}}_{i}} {Y_{R}}_{i,i} {\\nu_R^{\\prime}}_{i} + \\overline{\\phi^{0}_{1}} \\overline{{\\ell_{L}}_{i}} {\\ell_{R}}_{i} {\\tilde{Y}}_{i,i} + \\overline{\\phi^{0}_{1}} \\overline{{\\nu_R^{\\prime}}_{i}} {Y}_{i,i} {\\nu_L^{\\prime}}_{i} + \\overline{\\phi^{0}_{2}} \\overline{{U^{\\ell}}_{i,i}} \\overline{{\\ell_{R}}_{i}} {U^{\\ell}}_{i,i} {Y}_{i,i} {\\ell_{L}}_{i} + \\overline{\\phi^{0}_{2}} \\overline{{\\nu_L^{\\prime}}_{i}} {\\nu_R^{\\prime}}_{i} {\\tilde{Y}}_{i,i} - \\overline{{{\\chi_L^+}}} \\overline{{S}_{i}} {Y_{L}}_{i,i} {\\ell_L^{\\prime}}_{i} - \\overline{{{\\chi_R^+}}} \\overline{{S^{c}}_{i}} {U^{\\ell}}_{i,i} {Y_{R}}_{i,i} {\\ell_{R}}_{i} - \\overline{{{\\phi_1^+}}} \\overline{{U^{\\ell}}_{i,i}} \\overline{{\\ell_{L}}_{i}} {\\nu_R^{\\prime}}_{i} {\\tilde{Y}}_{i,i} + \\overline{{{\\phi_1^+}}} \\overline{{U^{\\ell}}_{i,i}} \\overline{{\\ell_{R}}_{i}} {Y}_{i,i} {\\nu_L^{\\prime}}_{i} + \\overline{{{\\phi_2^+}}} \\overline{{U^{\\ell}}_{i,i}} \\overline{{\\ell_{L}}_{i}} {Y}_{i,i} {\\nu_R^{\\prime}}_{i} - \\overline{{{\\phi_2^+}}} \\overline{{U^{\\ell}}_{i,i}} \\overline{{\\ell_{R}}_{i}} {\\nu_L^{\\prime}}_{i} {\\tilde{Y}}_{i,i} + \\frac{\\overline{{S}_{i}} {S^{c}}_{i} {\\mu}_{i,i}}{2} + \\frac{\\overline{{S^{c}}_{i}} {S}_{i} {\\mu}_{i,i}}{2}$"
      ],
      "text/plain": [
       "                                                                               ↪\n",
       "          _________________                            _________________       ↪\n",
       "\\chi_L__0⋅\\nu_L^{\\prime}[i]⋅S[i]⋅Y_L[i, i] + \\chi_R__0⋅\\nu_R^{\\prime}[i]⋅S^c[i ↪\n",
       "                                                                               ↪\n",
       "\n",
       "↪                                                                              ↪\n",
       "↪                      ____________ _________                                  ↪\n",
       "↪ ]⋅Y_R[i, i] + \\phi⁰₁⋅U^\\ell[i, i]⋅\\ell_R[i]⋅U^\\ell[i, i]⋅\\ell_L[i]⋅\\tilde{Y} ↪\n",
       "↪                                                                              ↪\n",
       "\n",
       "↪                                                                              ↪\n",
       "↪                 _________________                                    _______ ↪\n",
       "↪ [i, i] + \\phi⁰₁⋅\\nu_L^{\\prime}[i]⋅Y[i, i]⋅\\nu_R^{\\prime}[i] + \\phi⁰₂⋅\\ell_L[ ↪\n",
       "↪                                                                              ↪\n",
       "\n",
       "↪                                                                              ↪\n",
       "↪ __                            _________________                              ↪\n",
       "↪ i]⋅Y[i, i]⋅\\ell_R[i] + \\phi⁰₂⋅\\nu_R^{\\prime}[i]⋅\\nu_L^{\\prime}[i]⋅\\tilde{Y}[ ↪\n",
       "↪                                                                              ↪\n",
       "\n",
       "↪                                                                              ↪\n",
       "↪                       __________________                                ____ ↪\n",
       "↪ i, i] - {{\\chi_L__+}}⋅\\ell_L^{\\prime}[i]⋅S[i]⋅Y_L[i, i] - {{\\chi_R__+}}⋅U^\\e ↪\n",
       "↪                                                                              ↪\n",
       "\n",
       "↪                                                                              ↪\n",
       "↪ ________ _________                                  _________________        ↪\n",
       "↪ ll[i, i]⋅\\ell_R[i]⋅S^c[i]⋅Y_R[i, i] + {{\\phi_1__+}}⋅\\nu_L^{\\prime}[i]⋅U^\\ell ↪\n",
       "↪                                                                              ↪\n",
       "\n",
       "↪                                                                              ↪\n",
       "↪                                          _________________                   ↪\n",
       "↪ [i, i]⋅Y[i, i]⋅\\ell_R[i] - {{\\phi_1__+}}⋅\\nu_R^{\\prime}[i]⋅U^\\ell[i, i]⋅\\ell ↪\n",
       "↪                                                                              ↪\n",
       "\n",
       "↪                                                                              ↪\n",
       "↪                                       _________________                      ↪\n",
       "↪ _L[i]⋅\\tilde{Y}[i, i] - {{\\phi_2__+}}⋅\\nu_L^{\\prime}[i]⋅U^\\ell[i, i]⋅\\ell_R[ ↪\n",
       "↪                                                                              ↪\n",
       "\n",
       "↪                                                                              ↪\n",
       "↪                                    _________________                         ↪\n",
       "↪ i]⋅\\tilde{Y}[i, i] + {{\\phi_2__+}}⋅\\nu_R^{\\prime}[i]⋅U^\\ell[i, i]⋅Y[i, i]⋅\\e ↪\n",
       "↪                                                                              ↪\n",
       "\n",
       "↪                                                                              ↪\n",
       "↪           _________ ____                               _________ ______      ↪\n",
       "↪ ll_L[i] + \\chi_L__0⋅S[i]⋅Y_L[i, i]⋅\\nu_L^{\\prime}[i] + \\chi_R__0⋅S^c[i]⋅Y_R[ ↪\n",
       "↪                                                                              ↪\n",
       "\n",
       "↪                                                                              ↪\n",
       "↪                           ______ _________                             _____ ↪\n",
       "↪ i, i]⋅\\nu_R^{\\prime}[i] + \\phi⁰₁⋅\\ell_L[i]⋅\\ell_R[i]⋅\\tilde{Y}[i, i] + \\phi⁰ ↪\n",
       "↪                                                                              ↪\n",
       "\n",
       "↪                                                                              ↪\n",
       "↪ _ _________________                             ______ ____________ ________ ↪\n",
       "↪ ₁⋅\\nu_R^{\\prime}[i]⋅Y[i, i]⋅\\nu_L^{\\prime}[i] + \\phi⁰₂⋅U^\\ell[i, i]⋅\\ell_R[i ↪\n",
       "↪                                                                              ↪\n",
       "\n",
       "↪                                                                              ↪\n",
       "↪ _                                  ______ _________________                  ↪\n",
       "↪ ]⋅U^\\ell[i, i]⋅Y[i, i]⋅\\ell_L[i] + \\phi⁰₂⋅\\nu_L^{\\prime}[i]⋅\\nu_R^{\\prime}[i ↪\n",
       "↪                                                                              ↪\n",
       "\n",
       "↪                                                                              ↪\n",
       "↪                     _____________ ____                                ______ ↪\n",
       "↪ ]⋅\\tilde{Y}[i, i] - {{\\chi_L__+}}⋅S[i]⋅Y_L[i, i]⋅\\ell_L^{\\prime}[i] - {{\\chi ↪\n",
       "↪                                                                              ↪\n",
       "\n",
       "↪                                                                              ↪\n",
       "↪ _______ ______                                    _____________ ____________ ↪\n",
       "↪ _R__+}}⋅S^c[i]⋅U^\\ell[i, i]⋅Y_R[i, i]⋅\\ell_R[i] - {{\\phi_1__+}}⋅U^\\ell[i, i] ↪\n",
       "↪                                                                              ↪\n",
       "\n",
       "↪                                                                              ↪\n",
       "↪  _________                                     _____________ ____________ __ ↪\n",
       "↪ ⋅\\ell_L[i]⋅\\nu_R^{\\prime}[i]⋅\\tilde{Y}[i, i] + {{\\phi_1__+}}⋅U^\\ell[i, i]⋅\\e ↪\n",
       "↪                                                                              ↪\n",
       "\n",
       "↪                                                                              ↪\n",
       "↪ _______                             _____________ ____________ _________     ↪\n",
       "↪ ll_R[i]⋅Y[i, i]⋅\\nu_L^{\\prime}[i] + {{\\phi_2__+}}⋅U^\\ell[i, i]⋅\\ell_L[i]⋅Y[i ↪\n",
       "↪                                                                              ↪\n",
       "\n",
       "↪                                                                              ↪\n",
       "↪                          _____________ ____________ _________                ↪\n",
       "↪ , i]⋅\\nu_R^{\\prime}[i] - {{\\phi_2__+}}⋅U^\\ell[i, i]⋅\\ell_R[i]⋅\\nu_L^{\\prime} ↪\n",
       "↪                                                                              ↪\n",
       "\n",
       "↪                       ____                    ______               \n",
       "↪                       S[i]⋅S^c[i]⋅\\mu[i, i]   S^c[i]⋅S[i]⋅\\mu[i, i]\n",
       "↪ [i]⋅\\tilde{Y}[i, i] + ───────────────────── + ─────────────────────\n",
       "↪                                 2                       2          "
      ]
     },
     "execution_count": 25,
     "metadata": {},
     "output_type": "execute_result"
    }
   ],
   "source": [
    "Lyuk_lep_massbasis.replace(VlL, Ul).subs(VlR, Ul).subs(conjugate(Ul[j, i])*Ul[i,j], KroneckerDelta(i,j)).subs(j,i)"
   ]
  },
  {
   "cell_type": "markdown",
   "metadata": {},
   "source": [
    "#### Leptons interaction with scalars"
   ]
  },
  {
   "cell_type": "code",
   "execution_count": 26,
   "metadata": {},
   "outputs": [
    {
     "data": {
      "image/png": "[encoded data removed]",
      "text/latex": [
       "$\\displaystyle \\chi^{0}_{L} \\overline{{\\nu_L^{\\prime}}_{j}} {S}_{i} {Y_{L}}_{i,j} + \\chi^{0}_{R} \\overline{{\\nu_R^{\\prime}}_{j}} {S^{c}}_{i} {Y_{R}}_{i,j} + \\phi^{0}_{1} \\overline{{U^{\\ell}}_{i,j}} \\overline{{\\ell_{R}}_{j}} {U^{\\ell}}_{j,i} {\\ell_{L}}_{i} {\\tilde{Y}}_{i,j} + \\phi^{0}_{1} \\overline{{\\nu_L^{\\prime}}_{i}} {Y}_{i,j} {\\nu_R^{\\prime}}_{j} + \\phi^{0}_{2} \\overline{{U^{\\ell}}_{j,i}} \\overline{{\\ell_{L}}_{j}} {U^{\\ell}}_{i,j} {Y}_{i,j} {\\ell_{R}}_{j} + \\phi^{0}_{2} \\overline{{\\nu_R^{\\prime}}_{j}} {\\nu_L^{\\prime}}_{i} {\\tilde{Y}}_{i,j} - {{\\chi_L^+}} \\overline{{\\ell_L^{\\prime}}_{j}} {S}_{i} {Y_{L}}_{i,j} - {{\\chi_R^+}} \\overline{{U^{\\ell}}_{i,j}} \\overline{{\\ell_{R}}_{j}} {S^{c}}_{i} {Y_{R}}_{i,j} + {{\\phi_1^+}} \\overline{{\\nu_L^{\\prime}}_{i}} {U^{\\ell}}_{i,j} {Y}_{i,j} {\\ell_{R}}_{j} - {{\\phi_1^+}} \\overline{{\\nu_R^{\\prime}}_{j}} {U^{\\ell}}_{j,i} {\\ell_{L}}_{i} {\\tilde{Y}}_{i,j} - {{\\phi_2^+}} \\overline{{\\nu_L^{\\prime}}_{i}} {U^{\\ell}}_{i,j} {\\ell_{R}}_{j} {\\tilde{Y}}_{i,j} + {{\\phi_2^+}} \\overline{{\\nu_R^{\\prime}}_{j}} {U^{\\ell}}_{j,i} {Y}_{i,j} {\\ell_{L}}_{i} + \\overline{\\chi^{0}_{L}} \\overline{{S}_{i}} {Y_{L}}_{i,j} {\\nu_L^{\\prime}}_{j} + \\overline{\\chi^{0}_{R}} \\overline{{S^{c}}_{i}} {Y_{R}}_{i,j} {\\nu_R^{\\prime}}_{j} + \\overline{\\phi^{0}_{1}} \\overline{{U^{\\ell}}_{j,i}} \\overline{{\\ell_{L}}_{j}} {U^{\\ell}}_{i,j} {\\ell_{R}}_{j} {\\tilde{Y}}_{i,j} + \\overline{\\phi^{0}_{1}} \\overline{{\\nu_R^{\\prime}}_{j}} {Y}_{i,j} {\\nu_L^{\\prime}}_{i} + \\overline{\\phi^{0}_{2}} \\overline{{U^{\\ell}}_{i,j}} \\overline{{\\ell_{R}}_{j}} {U^{\\ell}}_{j,i} {Y}_{i,j} {\\ell_{L}}_{i} + \\overline{\\phi^{0}_{2}} \\overline{{\\nu_L^{\\prime}}_{i}} {\\nu_R^{\\prime}}_{j} {\\tilde{Y}}_{i,j} - \\overline{{{\\chi_L^+}}} \\overline{{S}_{i}} {Y_{L}}_{i,j} {\\ell_L^{\\prime}}_{j} - \\overline{{{\\chi_R^+}}} \\overline{{S^{c}}_{i}} {U^{\\ell}}_{i,j} {Y_{R}}_{i,j} {\\ell_{R}}_{j} + \\overline{{{\\phi_1^+}}} \\overline{{U^{\\ell}}_{i,j}} \\overline{{\\ell_{R}}_{j}} {Y}_{i,j} {\\nu_L^{\\prime}}_{i} - \\overline{{{\\phi_1^+}}} \\overline{{U^{\\ell}}_{j,i}} \\overline{{\\ell_{L}}_{j}} {\\nu_R^{\\prime}}_{j} {\\tilde{Y}}_{i,j} - \\overline{{{\\phi_2^+}}} \\overline{{U^{\\ell}}_{i,j}} \\overline{{\\ell_{R}}_{j}} {\\nu_L^{\\prime}}_{i} {\\tilde{Y}}_{i,j} + \\overline{{{\\phi_2^+}}} \\overline{{U^{\\ell}}_{j,i}} \\overline{{\\ell_{L}}_{j}} {Y}_{i,j} {\\nu_R^{\\prime}}_{j} + \\frac{\\overline{{S}_{j}} {S^{c}}_{i} {\\mu}_{i,j}}{2} + \\frac{\\overline{{S^{c}}_{i}} {S}_{j} {\\mu}_{i,j}}{2}$"
      ],
      "text/plain": [
       "                                                                               ↪\n",
       "          _________________                            _________________       ↪\n",
       "\\chi_L__0⋅\\nu_L^{\\prime}[j]⋅S[i]⋅Y_L[i, j] + \\chi_R__0⋅\\nu_R^{\\prime}[j]⋅S^c[i ↪\n",
       "                                                                               ↪\n",
       "\n",
       "↪                                                                              ↪\n",
       "↪                      ____________ _________                                  ↪\n",
       "↪ ]⋅Y_R[i, j] + \\phi⁰₁⋅U^\\ell[i, j]⋅\\ell_R[j]⋅U^\\ell[j, i]⋅\\ell_L[i]⋅\\tilde{Y} ↪\n",
       "↪                                                                              ↪\n",
       "\n",
       "↪                                                                              ↪\n",
       "↪                 _________________                                    _______ ↪\n",
       "↪ [i, j] + \\phi⁰₁⋅\\nu_L^{\\prime}[i]⋅Y[i, j]⋅\\nu_R^{\\prime}[j] + \\phi⁰₂⋅U^\\ell[ ↪\n",
       "↪                                                                              ↪\n",
       "\n",
       "↪                                                                              ↪\n",
       "↪ _____ _________                                         _________________    ↪\n",
       "↪ j, i]⋅\\ell_L[j]⋅U^\\ell[i, j]⋅Y[i, j]⋅\\ell_R[j] + \\phi⁰₂⋅\\nu_R^{\\prime}[j]⋅\\n ↪\n",
       "↪                                                                              ↪\n",
       "\n",
       "↪                                                                              ↪\n",
       "↪                                                 __________________           ↪\n",
       "↪ u_L^{\\prime}[i]⋅\\tilde{Y}[i, j] - {{\\chi_L__+}}⋅\\ell_L^{\\prime}[j]⋅S[i]⋅Y_L[ ↪\n",
       "↪                                                                              ↪\n",
       "\n",
       "↪                                                                              ↪\n",
       "↪                       ____________ _________                                 ↪\n",
       "↪ i, j] - {{\\chi_R__+}}⋅U^\\ell[i, j]⋅\\ell_R[j]⋅S^c[i]⋅Y_R[i, j] + {{\\phi_1__+} ↪\n",
       "↪                                                                              ↪\n",
       "\n",
       "↪                                                                              ↪\n",
       "↪   _________________                                                _________ ↪\n",
       "↪ }⋅\\nu_L^{\\prime}[i]⋅U^\\ell[i, j]⋅Y[i, j]⋅\\ell_R[j] - {{\\phi_1__+}}⋅\\nu_R^{\\p ↪\n",
       "↪                                                                              ↪\n",
       "\n",
       "↪                                                                              ↪\n",
       "↪ ________                                                        ____________ ↪\n",
       "↪ rime}[j]⋅U^\\ell[j, i]⋅\\ell_L[i]⋅\\tilde{Y}[i, j] - {{\\phi_2__+}}⋅\\nu_L^{\\prim ↪\n",
       "↪                                                                              ↪\n",
       "\n",
       "↪                                                                              ↪\n",
       "↪ _____                                                        _______________ ↪\n",
       "↪ e}[i]⋅U^\\ell[i, j]⋅\\ell_R[j]⋅\\tilde{Y}[i, j] + {{\\phi_2__+}}⋅\\nu_R^{\\prime}[ ↪\n",
       "↪                                                                              ↪\n",
       "\n",
       "↪                                                                              ↪\n",
       "↪ __                                  _________ ____                           ↪\n",
       "↪ j]⋅U^\\ell[j, i]⋅Y[i, j]⋅\\ell_L[i] + \\chi_L__0⋅S[i]⋅Y_L[i, j]⋅\\nu_L^{\\prime}[ ↪\n",
       "↪                                                                              ↪\n",
       "\n",
       "↪                                                                              ↪\n",
       "↪      _________ ______                               ______ ____________ ____ ↪\n",
       "↪ j] + \\chi_R__0⋅S^c[i]⋅Y_R[i, j]⋅\\nu_R^{\\prime}[j] + \\phi⁰₁⋅U^\\ell[j, i]⋅\\ell ↪\n",
       "↪                                                                              ↪\n",
       "\n",
       "↪                                                                              ↪\n",
       "↪ _____                                          ______ _________________      ↪\n",
       "↪ _L[j]⋅U^\\ell[i, j]⋅\\ell_R[j]⋅\\tilde{Y}[i, j] + \\phi⁰₁⋅\\nu_R^{\\prime}[j]⋅Y[i, ↪\n",
       "↪                                                                              ↪\n",
       "\n",
       "↪                                                                              ↪\n",
       "↪                         ______ ____________ _________                        ↪\n",
       "↪  j]⋅\\nu_L^{\\prime}[i] + \\phi⁰₂⋅U^\\ell[i, j]⋅\\ell_R[j]⋅U^\\ell[j, i]⋅Y[i, j]⋅\\ ↪\n",
       "↪                                                                              ↪\n",
       "\n",
       "↪                                                                              ↪\n",
       "↪            ______ _________________                                     ____ ↪\n",
       "↪ ell_L[i] + \\phi⁰₂⋅\\nu_L^{\\prime}[i]⋅\\nu_R^{\\prime}[j]⋅\\tilde{Y}[i, j] - {{\\c ↪\n",
       "↪                                                                              ↪\n",
       "\n",
       "↪                                                                              ↪\n",
       "↪ _________ ____                                _____________ ______           ↪\n",
       "↪ hi_L__+}}⋅S[i]⋅Y_L[i, j]⋅\\ell_L^{\\prime}[j] - {{\\chi_R__+}}⋅S^c[i]⋅U^\\ell[i, ↪\n",
       "↪                                                                              ↪\n",
       "\n",
       "↪                                                                              ↪\n",
       "↪                           _____________ ____________ _________               ↪\n",
       "↪  j]⋅Y_R[i, j]⋅\\ell_R[j] + {{\\phi_1__+}}⋅U^\\ell[i, j]⋅\\ell_R[j]⋅Y[i, j]⋅\\nu_L ↪\n",
       "↪                                                                              ↪\n",
       "\n",
       "↪                                                                              ↪\n",
       "↪                _____________ ____________ _________                          ↪\n",
       "↪ ^{\\prime}[i] - {{\\phi_1__+}}⋅U^\\ell[j, i]⋅\\ell_L[j]⋅\\nu_R^{\\prime}[j]⋅\\tilde ↪\n",
       "↪                                                                              ↪\n",
       "\n",
       "↪                                                                              ↪\n",
       "↪             _____________ ____________ _________                             ↪\n",
       "↪ {Y}[i, j] - {{\\phi_2__+}}⋅U^\\ell[i, j]⋅\\ell_R[j]⋅\\nu_L^{\\prime}[i]⋅\\tilde{Y} ↪\n",
       "↪                                                                              ↪\n",
       "\n",
       "↪                                                                           __ ↪\n",
       "↪          _____________ ____________ _________                             S[ ↪\n",
       "↪ [i, j] + {{\\phi_2__+}}⋅U^\\ell[j, i]⋅\\ell_L[j]⋅Y[i, j]⋅\\nu_R^{\\prime}[j] + ── ↪\n",
       "↪                                                                              ↪\n",
       "\n",
       "↪ __                    ______               \n",
       "↪ j]⋅S^c[i]⋅\\mu[i, j]   S^c[i]⋅S[j]⋅\\mu[i, j]\n",
       "↪ ─────────────────── + ─────────────────────\n",
       "↪         2                       2          "
      ]
     },
     "execution_count": 26,
     "metadata": {},
     "output_type": "execute_result"
    }
   ],
   "source": [
    "Lyuk_charged_lep_basis = Lyuk_lep.subs(change_charged_leptons(i,j)).expand().replace(VlL, Ul).subs(VlR, Ul)\n",
    "Lyuk_charged_lep_basis"
   ]
  },
  {
   "cell_type": "code",
   "execution_count": 27,
   "metadata": {},
   "outputs": [],
   "source": [
    "Lyuk_charged_leptons_physical_basis = 0\n",
    "for term in Lyuk_charged_lep_basis.args:\n",
    "    if term.has(lL) and term.has(lR) and not(term.has(nuLp) or term.has(nuRp)):\n",
    "        Lyuk_charged_leptons_physical_basis += term"
   ]
  },
  {
   "cell_type": "code",
   "execution_count": 28,
   "metadata": {},
   "outputs": [
    {
     "data": {
      "image/png": "[encoded data removed]",
      "text/latex": [
       "$\\displaystyle \\left(k_{2} - i {{A_1^0}} + {{H_3^0}}\\right) \\overline{{U^{\\ell}}_{i,j}} \\overline{{\\ell_{R}}_{j}} {U^{\\ell}}_{j,i} {Y}_{i,j} {\\ell_{L}}_{i} + \\left(k_{2} + i {{A_1^0}} + {{H_3^0}}\\right) \\overline{{U^{\\ell}}_{j,i}} \\overline{{\\ell_{L}}_{j}} {U^{\\ell}}_{i,j} {Y}_{i,j} {\\ell_{R}}_{j} + \\left(\\frac{2 \\rho_{1} v_{R} \\left(\\alpha_{1} k_{1} {{H_2^0}} + \\alpha_{3} k_{1} {{H_2^0}} + 2 \\rho_{1} v_{R} {{H_1^0}}\\right)}{\\alpha_{1}^{2} k_{1}^{2} + 2 \\alpha_{1} \\alpha_{3} k_{1}^{2} + \\alpha_{3}^{2} k_{1}^{2} + 4 \\rho_{1}^{2} v_{R}^{2}} + k_{1} - i {{G_{Z_1}}}\\right) \\overline{{U^{\\ell}}_{j,i}} \\overline{{\\ell_{L}}_{j}} {U^{\\ell}}_{i,j} {\\ell_{R}}_{j} {\\tilde{Y}}_{i,j} + \\left(\\frac{2 \\rho_{1} v_{R} \\left(\\alpha_{1} k_{1} {{H_2^0}} + \\alpha_{3} k_{1} {{H_2^0}} + 2 \\rho_{1} v_{R} {{H_1^0}}\\right)}{\\alpha_{1}^{2} k_{1}^{2} + 2 \\alpha_{1} \\alpha_{3} k_{1}^{2} + \\alpha_{3}^{2} k_{1}^{2} + 4 \\rho_{1}^{2} v_{R}^{2}} + k_{1} + i {{G_{Z_1}}}\\right) \\overline{{U^{\\ell}}_{i,j}} \\overline{{\\ell_{R}}_{j}} {U^{\\ell}}_{j,i} {\\ell_{L}}_{i} {\\tilde{Y}}_{i,j}$"
      ],
      "text/plain": [
       "                                 ____________ _________                        ↪\n",
       "(k₂ - ⅈ⋅{{A_1__0}} + {{H_3__0}})⋅U^\\ell[i, j]⋅\\ell_R[j]⋅U^\\ell[j, i]⋅Y[i, j]⋅\\ ↪\n",
       "                                                                               ↪\n",
       "                                                                               ↪\n",
       "\n",
       "↪                                             ____________ _________           ↪\n",
       "↪ ell_L[i] + (k₂ + ⅈ⋅{{A_1__0}} + {{H_3__0}})⋅U^\\ell[j, i]⋅\\ell_L[j]⋅U^\\ell[i, ↪\n",
       "↪                                                                              ↪\n",
       "↪                                                                              ↪\n",
       "\n",
       "↪                         ⎛2⋅\\rho₁⋅v_R⋅(\\alpha₁⋅k₁⋅{{H_2__0}} + \\alpha₃⋅k₁⋅{{H ↪\n",
       "↪  j]⋅Y[i, j]⋅\\ell_R[j] + ⎜─────────────────────────────────────────────────── ↪\n",
       "↪                         ⎜               2   2                       2        ↪\n",
       "↪                         ⎝        \\alpha₁ ⋅k₁  + 2⋅\\alpha₁⋅\\alpha₃⋅k₁  + \\alp ↪\n",
       "\n",
       "↪ _2__0}} + 2⋅\\rho₁⋅v_R⋅{{H_1__0}})                     ⎞ ____________ _______ ↪\n",
       "↪ ───────────────────────────────── + k₁ - ⅈ⋅{{G_{Z_1}}}⎟⋅U^\\ell[j, i]⋅\\ell_L[ ↪\n",
       "↪    2   2          2    2                              ⎟                      ↪\n",
       "↪ ha₃ ⋅k₁  + 4⋅\\rho₁ ⋅v_R                               ⎠                      ↪\n",
       "\n",
       "↪ __                                          ⎛2⋅\\rho₁⋅v_R⋅(\\alpha₁⋅k₁⋅{{H_2__ ↪\n",
       "↪ j]⋅U^\\ell[i, j]⋅\\ell_R[j]⋅\\tilde{Y}[i, j] + ⎜─────────────────────────────── ↪\n",
       "↪                                             ⎜               2   2            ↪\n",
       "↪                                             ⎝        \\alpha₁ ⋅k₁  + 2⋅\\alpha ↪\n",
       "\n",
       "↪ 0}} + \\alpha₃⋅k₁⋅{{H_2__0}} + 2⋅\\rho₁⋅v_R⋅{{H_1__0}})                     ⎞  ↪\n",
       "↪ ───────────────────────────────────────────────────── + k₁ + ⅈ⋅{{G_{Z_1}}}⎟⋅ ↪\n",
       "↪             2          2   2          2    2                              ⎟  ↪\n",
       "↪ ₁⋅\\alpha₃⋅k₁  + \\alpha₃ ⋅k₁  + 4⋅\\rho₁ ⋅v_R                               ⎠  ↪\n",
       "\n",
       "↪ ____________ _________                                       \n",
       "↪ U^\\ell[i, j]⋅\\ell_R[j]⋅U^\\ell[j, i]⋅\\ell_L[i]⋅\\tilde{Y}[i, j]\n",
       "↪                                                              \n",
       "↪                                                              "
      ]
     },
     "execution_count": 28,
     "metadata": {},
     "output_type": "execute_result"
    }
   ],
   "source": [
    "Lyuk_charged_leptons_physical_basis.subs(complex_scalar_fields).subs(change_scalar_fields)"
   ]
  },
  {
   "cell_type": "code",
   "execution_count": 29,
   "metadata": {},
   "outputs": [
    {
     "data": {
      "image/png": "[encoded data removed]",
      "text/latex": [
       "$\\displaystyle \\left(\\left(k_{2} - i {{A_1^0}} + {{H_3^0}}\\right) \\overline{{\\ell_{R}}_{i}} {\\ell_{L}}_{i} + \\left(k_{2} + i {{A_1^0}} + {{H_3^0}}\\right) \\overline{{\\ell_{L}}_{i}} {\\ell_{R}}_{i}\\right) {Y}_{i,i} + \\left(\\left(\\frac{2 \\rho_{1} v_{R} \\left(\\alpha_{1} k_{1} {{H_2^0}} + \\alpha_{3} k_{1} {{H_2^0}} + 2 \\rho_{1} v_{R} {{H_1^0}}\\right)}{\\alpha_{1}^{2} k_{1}^{2} + 2 \\alpha_{1} \\alpha_{3} k_{1}^{2} + \\alpha_{3}^{2} k_{1}^{2} + 4 \\rho_{1}^{2} v_{R}^{2}} + k_{1} - i {{G_{Z_1}}}\\right) \\overline{{\\ell_{L}}_{i}} {\\ell_{R}}_{i} + \\left(\\frac{2 \\rho_{1} v_{R} \\left(\\alpha_{1} k_{1} {{H_2^0}} + \\alpha_{3} k_{1} {{H_2^0}} + 2 \\rho_{1} v_{R} {{H_1^0}}\\right)}{\\alpha_{1}^{2} k_{1}^{2} + 2 \\alpha_{1} \\alpha_{3} k_{1}^{2} + \\alpha_{3}^{2} k_{1}^{2} + 4 \\rho_{1}^{2} v_{R}^{2}} + k_{1} + i {{G_{Z_1}}}\\right) \\overline{{\\ell_{R}}_{i}} {\\ell_{L}}_{i}\\right) {\\tilde{Y}}_{i,i}$"
      ],
      "text/plain": [
       "⎛                                 _________                                    ↪\n",
       "⎝(k₂ - ⅈ⋅{{A_1__0}} + {{H_3__0}})⋅\\ell_R[i]⋅\\ell_L[i] + (k₂ + ⅈ⋅{{A_1__0}} + { ↪\n",
       "                                                                               ↪\n",
       "                                                                               ↪\n",
       "\n",
       "↪            _________          ⎞           ⎛⎛2⋅\\rho₁⋅v_R⋅(\\alpha₁⋅k₁⋅{{H_2__0 ↪\n",
       "↪ {H_3__0}})⋅\\ell_L[i]⋅\\ell_R[i]⎠⋅Y[i, i] + ⎜⎜──────────────────────────────── ↪\n",
       "↪                                           ⎜⎜               2   2             ↪\n",
       "↪                                           ⎝⎝        \\alpha₁ ⋅k₁  + 2⋅\\alpha₁ ↪\n",
       "\n",
       "↪ }} + \\alpha₃⋅k₁⋅{{H_2__0}} + 2⋅\\rho₁⋅v_R⋅{{H_1__0}})                     ⎞ _ ↪\n",
       "↪ ──────────────────────────────────────────────────── + k₁ - ⅈ⋅{{G_{Z_1}}}⎟⋅\\ ↪\n",
       "↪            2          2   2          2    2                              ⎟   ↪\n",
       "↪ ⋅\\alpha₃⋅k₁  + \\alpha₃ ⋅k₁  + 4⋅\\rho₁ ⋅v_R                               ⎠   ↪\n",
       "\n",
       "↪ ________             ⎛2⋅\\rho₁⋅v_R⋅(\\alpha₁⋅k₁⋅{{H_2__0}} + \\alpha₃⋅k₁⋅{{H_2_ ↪\n",
       "↪ ell_L[i]⋅\\ell_R[i] + ⎜────────────────────────────────────────────────────── ↪\n",
       "↪                      ⎜               2   2                       2           ↪\n",
       "↪                      ⎝        \\alpha₁ ⋅k₁  + 2⋅\\alpha₁⋅\\alpha₃⋅k₁  + \\alpha₃ ↪\n",
       "\n",
       "↪ _0}} + 2⋅\\rho₁⋅v_R⋅{{H_1__0}})                     ⎞ _________          ⎞    ↪\n",
       "↪ ────────────────────────────── + k₁ + ⅈ⋅{{G_{Z_1}}}⎟⋅\\ell_R[i]⋅\\ell_L[i]⎟⋅\\t ↪\n",
       "↪ 2   2          2    2                              ⎟                    ⎟    ↪\n",
       "↪  ⋅k₁  + 4⋅\\rho₁ ⋅v_R                               ⎠                    ⎠    ↪\n",
       "\n",
       "↪              \n",
       "↪ ilde{Y}[i, i]\n",
       "↪              \n",
       "↪              "
      ]
     },
     "execution_count": 29,
     "metadata": {},
     "output_type": "execute_result"
    }
   ],
   "source": [
    "Lyuk_charged_leptons_physical_basis.subs(complex_scalar_fields).subs(change_scalar_fields).replace(VlL, Ul).subs(VlR, Ul).subs(\n",
    "    conjugate(Ul[j, i]), KroneckerDelta(i,j)/Ul[i,j]\n",
    ").subs(\n",
    "    conjugate(Ul[i, j])*Ul[j,i], KroneckerDelta(i,j)\n",
    ").subs(j,i).collect([Y[i,i], Ytilde[i,i]])"
   ]
  },
  {
   "cell_type": "markdown",
   "metadata": {},
   "source": [
    "### Neutrino sector"
   ]
  },
  {
   "cell_type": "code",
   "execution_count": 30,
   "metadata": {},
   "outputs": [
    {
     "data": {
      "image/png": "[encoded data removed]",
      "text/latex": [
       "$\\displaystyle k_{1} \\overline{{\\ell_L^{\\prime}}_{i}} {\\ell_R^{\\prime}}_{j} {\\tilde{Y}}_{i,j} + k_{1} \\overline{{\\ell_R^{\\prime}}_{j}} {\\ell_L^{\\prime}}_{i} {\\tilde{Y}}_{i,j} + k_{1} \\overline{{\\nu_L^{\\prime}}_{i}} {Y}_{i,j} {\\nu_R^{\\prime}}_{j} + k_{1} \\overline{{\\nu_R^{\\prime}}_{j}} {Y}_{i,j} {\\nu_L^{\\prime}}_{i} + k_{2} \\overline{{\\ell_L^{\\prime}}_{i}} {Y}_{i,j} {\\ell_R^{\\prime}}_{j} + k_{2} \\overline{{\\ell_R^{\\prime}}_{j}} {Y}_{i,j} {\\ell_L^{\\prime}}_{i} + k_{2} \\overline{{\\nu_L^{\\prime}}_{i}} {\\nu_R^{\\prime}}_{j} {\\tilde{Y}}_{i,j} + k_{2} \\overline{{\\nu_R^{\\prime}}_{j}} {\\nu_L^{\\prime}}_{i} {\\tilde{Y}}_{i,j} + v_{L} \\overline{{S}_{i}} {Y_{L}}_{i,j} {\\nu_L^{\\prime}}_{j} + v_{L} \\overline{{\\nu_L^{\\prime}}_{j}} {S}_{i} {Y_{L}}_{i,j} + v_{R} \\overline{{S^{c}}_{i}} {Y_{R}}_{i,j} {\\nu_R^{\\prime}}_{j} + v_{R} \\overline{{\\nu_R^{\\prime}}_{j}} {S^{c}}_{i} {Y_{R}}_{i,j} + \\frac{\\overline{{S}_{j}} {S^{c}}_{i} {\\mu}_{i,j}}{2} + \\frac{\\overline{{S^{c}}_{i}} {S}_{j} {\\mu}_{i,j}}{2}$"
      ],
      "text/plain": [
       "                                                                               ↪\n",
       "   __________________                                         ________________ ↪\n",
       "k₁⋅\\ell_L^{\\prime}[i]⋅\\ell_R^{\\prime}[j]⋅\\tilde{Y}[i, j] + k₁⋅\\ell_R^{\\prime}[ ↪\n",
       "                                                                               ↪\n",
       "\n",
       "↪                                                                              ↪\n",
       "↪ __                                         _________________                 ↪\n",
       "↪ j]⋅\\ell_L^{\\prime}[i]⋅\\tilde{Y}[i, j] + k₁⋅\\nu_L^{\\prime}[i]⋅Y[i, j]⋅\\nu_R^{ ↪\n",
       "↪                                                                              ↪\n",
       "\n",
       "↪                                                                              ↪\n",
       "↪                 _________________                                ___________ ↪\n",
       "↪ \\prime}[j] + k₁⋅\\nu_R^{\\prime}[j]⋅Y[i, j]⋅\\nu_L^{\\prime}[i] + k₂⋅\\ell_L^{\\pr ↪\n",
       "↪                                                                              ↪\n",
       "\n",
       "↪                                                                              ↪\n",
       "↪ _______                                 __________________                   ↪\n",
       "↪ ime}[i]⋅Y[i, j]⋅\\ell_R^{\\prime}[j] + k₂⋅\\ell_R^{\\prime}[j]⋅Y[i, j]⋅\\ell_L^{\\ ↪\n",
       "↪                                                                              ↪\n",
       "\n",
       "↪                                                                              ↪\n",
       "↪                _________________                                        ____ ↪\n",
       "↪ prime}[i] + k₂⋅\\nu_L^{\\prime}[i]⋅\\nu_R^{\\prime}[j]⋅\\tilde{Y}[i, j] + k₂⋅\\nu_ ↪\n",
       "↪                                                                              ↪\n",
       "\n",
       "↪                                                                              ↪\n",
       "↪ _____________                                         ____                   ↪\n",
       "↪ R^{\\prime}[j]⋅\\nu_L^{\\prime}[i]⋅\\tilde{Y}[i, j] + v_L⋅S[i]⋅Y_L[i, j]⋅\\nu_L^{ ↪\n",
       "↪                                                                              ↪\n",
       "\n",
       "↪                                                                              ↪\n",
       "↪                  _________________                      ______               ↪\n",
       "↪ \\prime}[j] + v_L⋅\\nu_L^{\\prime}[j]⋅S[i]⋅Y_L[i, j] + v_R⋅S^c[i]⋅Y_R[i, j]⋅\\nu ↪\n",
       "↪                                                                              ↪\n",
       "\n",
       "↪                                                           ____               ↪\n",
       "↪                      _________________                    S[j]⋅S^c[i]⋅\\mu[i, ↪\n",
       "↪ _R^{\\prime}[j] + v_R⋅\\nu_R^{\\prime}[j]⋅S^c[i]⋅Y_R[i, j] + ────────────────── ↪\n",
       "↪                                                                     2        ↪\n",
       "\n",
       "↪       ______               \n",
       "↪  j]   S^c[i]⋅S[j]⋅\\mu[i, j]\n",
       "↪ ─── + ─────────────────────\n",
       "↪                 2          "
      ]
     },
     "execution_count": 30,
     "metadata": {},
     "output_type": "execute_result"
    }
   ],
   "source": [
    "Lyuk_lep_vev"
   ]
  },
  {
   "cell_type": "code",
   "execution_count": 31,
   "metadata": {},
   "outputs": [
    {
     "data": {
      "image/png": "[encoded data removed]",
      "text/latex": [
       "$\\displaystyle k_{1} {Y}_{i,j} + k_{2} {\\tilde{Y}}_{i,j}$"
      ],
      "text/plain": [
       "k₁⋅Y[i, j] + k₂⋅\\tilde{Y}[i, j]"
      ]
     },
     "execution_count": 31,
     "metadata": {},
     "output_type": "execute_result"
    }
   ],
   "source": [
    "mD = Lyuk_lep_vev.coeff(conjugate(nuLp[i])).coeff(nuRp[j])\n",
    "mD"
   ]
  },
  {
   "cell_type": "code",
   "execution_count": 32,
   "metadata": {},
   "outputs": [
    {
     "data": {
      "image/png": "[encoded data removed]",
      "text/latex": [
       "$\\displaystyle v_{L} {Y_{L}}_{i,j}$"
      ],
      "text/plain": [
       "v_L⋅Y_L[i, j]"
      ]
     },
     "execution_count": 32,
     "metadata": {},
     "output_type": "execute_result"
    }
   ],
   "source": [
    "mDp = Lyuk_lep_vev.coeff(conjugate(Singlet[i])).coeff(nuLp[j])\n",
    "mDp"
   ]
  },
  {
   "cell_type": "code",
   "execution_count": 33,
   "metadata": {},
   "outputs": [
    {
     "data": {
      "image/png": "[encoded data removed]",
      "text/latex": [
       "$\\displaystyle v_{R} {Y_{R}}_{i,j}$"
      ],
      "text/plain": [
       "v_R⋅Y_R[i, j]"
      ]
     },
     "execution_count": 33,
     "metadata": {},
     "output_type": "execute_result"
    }
   ],
   "source": [
    "MD = Lyuk_lep_vev.coeff(conjugate(SingletC[i])).coeff(nuRp[j])\n",
    "MD"
   ]
  },
  {
   "cell_type": "code",
   "execution_count": 34,
   "metadata": {},
   "outputs": [
    {
     "data": {
      "image/png": "[encoded data removed]",
      "text/latex": [
       "$\\displaystyle k_{1} {\\tilde{Y}}_{i,j} + k_{2} {Y}_{i,j}$"
      ],
      "text/plain": [
       "k₁⋅\\tilde{Y}[i, j] + k₂⋅Y[i, j]"
      ]
     },
     "execution_count": 34,
     "metadata": {},
     "output_type": "execute_result"
    }
   ],
   "source": [
    "Ml"
   ]
  },
  {
   "cell_type": "code",
   "execution_count": 35,
   "metadata": {},
   "outputs": [
    {
     "name": "stderr",
     "output_type": "stream",
     "text": [
      "<>:2: SyntaxWarning: invalid escape sequence '\\p'\n",
      "<>:2: SyntaxWarning: invalid escape sequence '\\p'\n",
      "/tmp/ipykernel_1891/702323764.py:2: SyntaxWarning: invalid escape sequence '\\p'\n",
      "  mDp_sym = IndexedBase('m_D^\\prime')\n"
     ]
    }
   ],
   "source": [
    "mD_sym = IndexedBase('m_D')\n",
    "mDp_sym = IndexedBase('m_D^\\prime')\n",
    "MD_sym = IndexedBase('M_D')"
   ]
  },
  {
   "cell_type": "code",
   "execution_count": 36,
   "metadata": {},
   "outputs": [
    {
     "data": {
      "text/latex": [
       "$\\displaystyle \\left[\\begin{matrix}0 & k_{1} {Y}_{i,i} & v_{L} {Y_{L}}_{i,i}\\\\k_{1} {Y}_{i,i} & 0 & v_{R} {Y_{R}}_{i,i}\\\\v_{L} {Y_{L}}_{i,i} & v_{R} {Y_{R}}_{i,i} & {\\mu}_{i,i}\\end{matrix}\\right]$"
      ],
      "text/plain": [
       "⎡      0         k₁⋅Y[i, i]    v_L⋅Y_L[i, i]⎤\n",
       "⎢                                           ⎥\n",
       "⎢ k₁⋅Y[i, i]          0        v_R⋅Y_R[i, i]⎥\n",
       "⎢                                           ⎥\n",
       "⎣v_L⋅Y_L[i, i]  v_R⋅Y_R[i, i]    \\mu[i, i]  ⎦"
      ]
     },
     "execution_count": 36,
     "metadata": {},
     "output_type": "execute_result"
    }
   ],
   "source": [
    "Mnu1 = Matrix(\n",
    "    [\n",
    "        [0, mD, mDp],\n",
    "        [mD, 0, MD],\n",
    "        [mDp, MD, mu[i,j]]\n",
    "    ]\n",
    ").subs(k2, 0).subs(j, i)\n",
    "Mnu1"
   ]
  },
  {
   "cell_type": "code",
   "execution_count": 37,
   "metadata": {},
   "outputs": [
    {
     "data": {
      "text/latex": [
       "$\\displaystyle \\left[\\begin{matrix}0 & k_{1} {Y}_{i,i} & 0\\\\k_{1} {Y}_{i,i} & 0 & v_{R} {Y}_{i,i}\\\\0 & v_{R} {Y}_{i,i} & {\\mu}_{i,i}\\end{matrix}\\right]$"
      ],
      "text/plain": [
       "⎡    0       k₁⋅Y[i, i]        0     ⎤\n",
       "⎢                                    ⎥\n",
       "⎢k₁⋅Y[i, i]       0       v_R⋅Y[i, i]⎥\n",
       "⎢                                    ⎥\n",
       "⎣    0       v_R⋅Y[i, i]   \\mu[i, i] ⎦"
      ]
     },
     "execution_count": 37,
     "metadata": {},
     "output_type": "execute_result"
    }
   ],
   "source": [
    "Mnu1Y = Mnu1.replace(YL[i,i], 0).replace(YR, Y)\n",
    "Mnu1Y"
   ]
  },
  {
   "cell_type": "code",
   "execution_count": 38,
   "metadata": {},
   "outputs": [
    {
     "data": {
      "image/png": "[encoded data removed]",
      "text/latex": [
       "$\\displaystyle \\left[ - \\frac{- 3 \\left(- k_{1}^{2} - v_{R}^{2}\\right) {Y}_{i,i}^{2} + {\\mu}_{i,i}^{2}}{3 \\sqrt[3]{\\frac{27 k_{1}^{2} {Y}_{i,i}^{2} {\\mu}_{i,i}}{2} + \\frac{9 \\left(- k_{1}^{2} - v_{R}^{2}\\right) {Y}_{i,i}^{2} {\\mu}_{i,i}}{2} + \\frac{\\sqrt{- 4 \\left(- 3 \\left(- k_{1}^{2} - v_{R}^{2}\\right) {Y}_{i,i}^{2} + {\\mu}_{i,i}^{2}\\right)^{3} + \\left(27 k_{1}^{2} {Y}_{i,i}^{2} {\\mu}_{i,i} + 9 \\left(- k_{1}^{2} - v_{R}^{2}\\right) {Y}_{i,i}^{2} {\\mu}_{i,i} - 2 {\\mu}_{i,i}^{3}\\right)^{2}}}{2} - {\\mu}_{i,i}^{3}}} - \\frac{\\sqrt[3]{\\frac{27 k_{1}^{2} {Y}_{i,i}^{2} {\\mu}_{i,i}}{2} + \\frac{9 \\left(- k_{1}^{2} - v_{R}^{2}\\right) {Y}_{i,i}^{2} {\\mu}_{i,i}}{2} + \\frac{\\sqrt{- 4 \\left(- 3 \\left(- k_{1}^{2} - v_{R}^{2}\\right) {Y}_{i,i}^{2} + {\\mu}_{i,i}^{2}\\right)^{3} + \\left(27 k_{1}^{2} {Y}_{i,i}^{2} {\\mu}_{i,i} + 9 \\left(- k_{1}^{2} - v_{R}^{2}\\right) {Y}_{i,i}^{2} {\\mu}_{i,i} - 2 {\\mu}_{i,i}^{3}\\right)^{2}}}{2} - {\\mu}_{i,i}^{3}}}{3} + \\frac{{\\mu}_{i,i}}{3}, \\  - \\frac{- 3 \\left(- k_{1}^{2} - v_{R}^{2}\\right) {Y}_{i,i}^{2} + {\\mu}_{i,i}^{2}}{3 \\left(- \\frac{1}{2} + \\frac{\\sqrt{3} i}{2}\\right) \\sqrt[3]{\\frac{27 k_{1}^{2} {Y}_{i,i}^{2} {\\mu}_{i,i}}{2} + \\frac{9 \\left(- k_{1}^{2} - v_{R}^{2}\\right) {Y}_{i,i}^{2} {\\mu}_{i,i}}{2} + \\frac{\\sqrt{- 4 \\left(- 3 \\left(- k_{1}^{2} - v_{R}^{2}\\right) {Y}_{i,i}^{2} + {\\mu}_{i,i}^{2}\\right)^{3} + \\left(27 k_{1}^{2} {Y}_{i,i}^{2} {\\mu}_{i,i} + 9 \\left(- k_{1}^{2} - v_{R}^{2}\\right) {Y}_{i,i}^{2} {\\mu}_{i,i} - 2 {\\mu}_{i,i}^{3}\\right)^{2}}}{2} - {\\mu}_{i,i}^{3}}} - \\frac{\\left(- \\frac{1}{2} + \\frac{\\sqrt{3} i}{2}\\right) \\sqrt[3]{\\frac{27 k_{1}^{2} {Y}_{i,i}^{2} {\\mu}_{i,i}}{2} + \\frac{9 \\left(- k_{1}^{2} - v_{R}^{2}\\right) {Y}_{i,i}^{2} {\\mu}_{i,i}}{2} + \\frac{\\sqrt{- 4 \\left(- 3 \\left(- k_{1}^{2} - v_{R}^{2}\\right) {Y}_{i,i}^{2} + {\\mu}_{i,i}^{2}\\right)^{3} + \\left(27 k_{1}^{2} {Y}_{i,i}^{2} {\\mu}_{i,i} + 9 \\left(- k_{1}^{2} - v_{R}^{2}\\right) {Y}_{i,i}^{2} {\\mu}_{i,i} - 2 {\\mu}_{i,i}^{3}\\right)^{2}}}{2} - {\\mu}_{i,i}^{3}}}{3} + \\frac{{\\mu}_{i,i}}{3}, \\  - \\frac{- 3 \\left(- k_{1}^{2} - v_{R}^{2}\\right) {Y}_{i,i}^{2} + {\\mu}_{i,i}^{2}}{3 \\left(- \\frac{1}{2} - \\frac{\\sqrt{3} i}{2}\\right) \\sqrt[3]{\\frac{27 k_{1}^{2} {Y}_{i,i}^{2} {\\mu}_{i,i}}{2} + \\frac{9 \\left(- k_{1}^{2} - v_{R}^{2}\\right) {Y}_{i,i}^{2} {\\mu}_{i,i}}{2} + \\frac{\\sqrt{- 4 \\left(- 3 \\left(- k_{1}^{2} - v_{R}^{2}\\right) {Y}_{i,i}^{2} + {\\mu}_{i,i}^{2}\\right)^{3} + \\left(27 k_{1}^{2} {Y}_{i,i}^{2} {\\mu}_{i,i} + 9 \\left(- k_{1}^{2} - v_{R}^{2}\\right) {Y}_{i,i}^{2} {\\mu}_{i,i} - 2 {\\mu}_{i,i}^{3}\\right)^{2}}}{2} - {\\mu}_{i,i}^{3}}} - \\frac{\\left(- \\frac{1}{2} - \\frac{\\sqrt{3} i}{2}\\right) \\sqrt[3]{\\frac{27 k_{1}^{2} {Y}_{i,i}^{2} {\\mu}_{i,i}}{2} + \\frac{9 \\left(- k_{1}^{2} - v_{R}^{2}\\right) {Y}_{i,i}^{2} {\\mu}_{i,i}}{2} + \\frac{\\sqrt{- 4 \\left(- 3 \\left(- k_{1}^{2} - v_{R}^{2}\\right) {Y}_{i,i}^{2} + {\\mu}_{i,i}^{2}\\right)^{3} + \\left(27 k_{1}^{2} {Y}_{i,i}^{2} {\\mu}_{i,i} + 9 \\left(- k_{1}^{2} - v_{R}^{2}\\right) {Y}_{i,i}^{2} {\\mu}_{i,i} - 2 {\\mu}_{i,i}^{3}\\right)^{2}}}{2} - {\\mu}_{i,i}^{3}}}{3} + \\frac{{\\mu}_{i,i}}{3}\\right]$"
      ],
      "text/plain": [
       "⎡                                                                              ↪\n",
       "⎢                                                                              ↪\n",
       "⎢                                                                              ↪\n",
       "⎢                                                                              ↪\n",
       "⎢                                                                              ↪\n",
       "⎢                                                                              ↪\n",
       "⎢                                                                              ↪\n",
       "⎢- ─────────────────────────────────────────────────────────────────────────── ↪\n",
       "⎢           __________________________________________________________________ ↪\n",
       "⎢          ╱                                                                   ↪\n",
       "⎢         ╱                                                                    ↪\n",
       "⎢        ╱        2        2               ⎛    2      2⎞        2             ↪\n",
       "⎢       ╱    27⋅k₁ ⋅Y[i, i] ⋅\\mu[i, i]   9⋅⎝- k₁  - v_R ⎠⋅Y[i, i] ⋅\\mu[i, i]   ↪\n",
       "⎢  3⋅3 ╱     ───────────────────────── + ─────────────────────────────────── + ↪\n",
       "⎣    ╲╱                  2                                2                    ↪\n",
       "\n",
       "↪                                                                              ↪\n",
       "↪                                                                              ↪\n",
       "↪                                                                              ↪\n",
       "↪                                                                              ↪\n",
       "↪                                                                              ↪\n",
       "↪                       ⎛    2      2⎞        2            2                   ↪\n",
       "↪                   - 3⋅⎝- k₁  - v_R ⎠⋅Y[i, i]  + \\mu[i, i]                    ↪\n",
       "↪ ──────────────────────────────────────────────────────────────────────────── ↪\n",
       "↪ ____________________________________________________________________________ ↪\n",
       "↪      _______________________________________________________________________ ↪\n",
       "↪     ╱                                               3                        ↪\n",
       "↪    ╱      ⎛    ⎛    2      2⎞        2            2⎞    ⎛     2        2     ↪\n",
       "↪  ╲╱   - 4⋅⎝- 3⋅⎝- k₁  - v_R ⎠⋅Y[i, i]  + \\mu[i, i] ⎠  + ⎝27⋅k₁ ⋅Y[i, i] ⋅\\mu ↪\n",
       "↪  ─────────────────────────────────────────────────────────────────────────── ↪\n",
       "↪                                                                      2       ↪\n",
       "\n",
       "↪                                                                              ↪\n",
       "↪                                                                              ↪\n",
       "↪                                                                              ↪\n",
       "↪                                                                              ↪\n",
       "↪                                                                              ↪\n",
       "↪                                                                              ↪\n",
       "↪                                                                              ↪\n",
       "↪ ──────────────────────────────────────────────────────────────────────────── ↪\n",
       "↪ ____________________________________________________________________________ ↪\n",
       "↪ ______________________________________________________________               ↪\n",
       "↪                                                             2                ↪\n",
       "↪            ⎛    2      2⎞        2                        3⎞                 ↪\n",
       "↪ [i, i] + 9⋅⎝- k₁  - v_R ⎠⋅Y[i, i] ⋅\\mu[i, i] - 2⋅\\mu[i, i] ⎠              3  ↪\n",
       "↪ ────────────────────────────────────────────────────────────── - \\mu[i, i]   ↪\n",
       "↪                                                                              ↪\n",
       "\n",
       "↪           __________________________________________________________________ ↪\n",
       "↪          ╱                                                                   ↪\n",
       "↪         ╱                                                                    ↪\n",
       "↪        ╱        2        2               ⎛    2      2⎞        2             ↪\n",
       "↪       ╱    27⋅k₁ ⋅Y[i, i] ⋅\\mu[i, i]   9⋅⎝- k₁  - v_R ⎠⋅Y[i, i] ⋅\\mu[i, i]   ↪\n",
       "↪    3 ╱     ───────────────────────── + ─────────────────────────────────── + ↪\n",
       "↪    ╲╱                  2                                2                    ↪\n",
       "↪  - ───────────────────────────────────────────────────────────────────────── ↪\n",
       "↪                                                                              ↪\n",
       "↪                                                                              ↪\n",
       "↪                                                                              ↪\n",
       "↪                                                                              ↪\n",
       "↪                                                                              ↪\n",
       "↪                                                                              ↪\n",
       "↪                                                                              ↪\n",
       "\n",
       "↪ ____________________________________________________________________________ ↪\n",
       "↪      _______________________________________________________________________ ↪\n",
       "↪     ╱                                               3                        ↪\n",
       "↪    ╱      ⎛    ⎛    2      2⎞        2            2⎞    ⎛     2        2     ↪\n",
       "↪  ╲╱   - 4⋅⎝- 3⋅⎝- k₁  - v_R ⎠⋅Y[i, i]  + \\mu[i, i] ⎠  + ⎝27⋅k₁ ⋅Y[i, i] ⋅\\mu ↪\n",
       "↪  ─────────────────────────────────────────────────────────────────────────── ↪\n",
       "↪                                                                      2       ↪\n",
       "↪ ──────────────────────────────────────────────────────────────────────────── ↪\n",
       "↪                                        3                                     ↪\n",
       "↪                                                                              ↪\n",
       "↪                                                                              ↪\n",
       "↪                                                                              ↪\n",
       "↪                                                                              ↪\n",
       "↪                                                                              ↪\n",
       "↪                                                                              ↪\n",
       "\n",
       "↪ ____________________________________________________________________________ ↪\n",
       "↪ ______________________________________________________________               ↪\n",
       "↪                                                             2                ↪\n",
       "↪            ⎛    2      2⎞        2                        3⎞                 ↪\n",
       "↪ [i, i] + 9⋅⎝- k₁  - v_R ⎠⋅Y[i, i] ⋅\\mu[i, i] - 2⋅\\mu[i, i] ⎠              3  ↪\n",
       "↪ ────────────────────────────────────────────────────────────── - \\mu[i, i]   ↪\n",
       "↪                                                                              ↪\n",
       "↪ ──────────────────────────────────────────────────────────────────────────── ↪\n",
       "↪                                                                              ↪\n",
       "↪                                                                              ↪\n",
       "↪                                                                              ↪\n",
       "↪                                                                              ↪\n",
       "↪                                                                              ↪\n",
       "↪                                                                              ↪\n",
       "↪                                                                              ↪\n",
       "\n",
       "↪                                                                              ↪\n",
       "↪                                                                              ↪\n",
       "↪                                                                              ↪\n",
       "↪                                                                              ↪\n",
       "↪                                                                              ↪\n",
       "↪                                                                              ↪\n",
       "↪    \\mu[i, i]                                                                 ↪\n",
       "↪  + ─────────, - ──────────────────────────────────────────────────────────── ↪\n",
       "↪        3                              ______________________________________ ↪\n",
       "↪                                      ╱                                       ↪\n",
       "↪                                     ╱                                        ↪\n",
       "↪                                    ╱        2        2               ⎛    2  ↪\n",
       "↪                   ⎛  1   √3⋅ⅈ⎞    ╱    27⋅k₁ ⋅Y[i, i] ⋅\\mu[i, i]   9⋅⎝- k₁   ↪\n",
       "↪                 3⋅⎜- ─ + ────⎟⋅3 ╱     ───────────────────────── + ───────── ↪\n",
       "↪                   ⎝  2    2  ⎠ ╲╱                  2                         ↪\n",
       "\n",
       "↪                                                                              ↪\n",
       "↪                                                                              ↪\n",
       "↪                                                                              ↪\n",
       "↪                                                                              ↪\n",
       "↪                                                                              ↪\n",
       "↪                                             ⎛    2      2⎞        2          ↪\n",
       "↪                                         - 3⋅⎝- k₁  - v_R ⎠⋅Y[i, i]  + \\mu[i, ↪\n",
       "↪ ──────────────────────────────────────────────────────────────────────────── ↪\n",
       "↪ ____________________________________________________________________________ ↪\n",
       "↪                                  ___________________________________________ ↪\n",
       "↪                                 ╱                                            ↪\n",
       "↪      2⎞        2               ╱      ⎛    ⎛    2      2⎞        2           ↪\n",
       "↪ - v_R ⎠⋅Y[i, i] ⋅\\mu[i, i]   ╲╱   - 4⋅⎝- 3⋅⎝- k₁  - v_R ⎠⋅Y[i, i]  + \\mu[i,  ↪\n",
       "↪ ────────────────────────── + ─────────────────────────────────────────────── ↪\n",
       "↪         2                                                                    ↪\n",
       "\n",
       "↪                                                                              ↪\n",
       "↪                                                                              ↪\n",
       "↪                                                                              ↪\n",
       "↪                                                                              ↪\n",
       "↪                                                                              ↪\n",
       "↪    2                                                                         ↪\n",
       "↪  i]                                                                          ↪\n",
       "↪ ──────────────────────────────────────────────────────────────────────────── ↪\n",
       "↪ ____________________________________________________________________________ ↪\n",
       "↪ ____________________________________________________________________________ ↪\n",
       "↪     3                                                                        ↪\n",
       "↪   2⎞    ⎛     2        2               ⎛    2      2⎞        2               ↪\n",
       "↪ i] ⎠  + ⎝27⋅k₁ ⋅Y[i, i] ⋅\\mu[i, i] + 9⋅⎝- k₁  - v_R ⎠⋅Y[i, i] ⋅\\mu[i, i] - 2 ↪\n",
       "↪ ──────────────────────────────────────────────────────────────────────────── ↪\n",
       "↪                      2                                                       ↪\n",
       "\n",
       "↪                                                    _________________________ ↪\n",
       "↪                                                   ╱                          ↪\n",
       "↪                                                  ╱                           ↪\n",
       "↪                                                 ╱        2        2          ↪\n",
       "↪                                ⎛  1   √3⋅ⅈ⎞    ╱    27⋅k₁ ⋅Y[i, i] ⋅\\mu[i, i ↪\n",
       "↪                                ⎜- ─ + ────⎟⋅3 ╱     ──────────────────────── ↪\n",
       "↪                                ⎝  2    2  ⎠ ╲╱                  2            ↪\n",
       "↪ ──────────────────────────── - ───────────────────────────────────────────── ↪\n",
       "↪ ____________________________                                                 ↪\n",
       "↪ ______________                                                               ↪\n",
       "↪             2                                                                ↪\n",
       "↪           3⎞                                                                 ↪\n",
       "↪ ⋅\\mu[i, i] ⎠              3                                                  ↪\n",
       "↪ ────────────── - \\mu[i, i]                                                   ↪\n",
       "↪                                                                              ↪\n",
       "\n",
       "↪ ____________________________________________________________________________ ↪\n",
       "↪                                               ______________________________ ↪\n",
       "↪                                              ╱                               ↪\n",
       "↪       ⎛    2      2⎞        2               ╱      ⎛    ⎛    2      2⎞       ↪\n",
       "↪ ]   9⋅⎝- k₁  - v_R ⎠⋅Y[i, i] ⋅\\mu[i, i]   ╲╱   - 4⋅⎝- 3⋅⎝- k₁  - v_R ⎠⋅Y[i,  ↪\n",
       "↪ ─ + ─────────────────────────────────── + ────────────────────────────────── ↪\n",
       "↪                      2                                                       ↪\n",
       "↪ ──────────────────────────────────────────────────────────────────────────── ↪\n",
       "↪                                                                          3   ↪\n",
       "↪                                                                              ↪\n",
       "↪                                                                              ↪\n",
       "↪                                                                              ↪\n",
       "↪                                                                              ↪\n",
       "↪                                                                              ↪\n",
       "↪                                                                              ↪\n",
       "\n",
       "↪ ____________________________________________________________________________ ↪\n",
       "↪ ____________________________________________________________________________ ↪\n",
       "↪                  3                                                           ↪\n",
       "↪   2            2⎞    ⎛     2        2               ⎛    2      2⎞        2  ↪\n",
       "↪ i]  + \\mu[i, i] ⎠  + ⎝27⋅k₁ ⋅Y[i, i] ⋅\\mu[i, i] + 9⋅⎝- k₁  - v_R ⎠⋅Y[i, i] ⋅ ↪\n",
       "↪ ──────────────────────────────────────────────────────────────────────────── ↪\n",
       "↪                                   2                                          ↪\n",
       "↪ ──────────────────────────────────────────────────────────────────────────── ↪\n",
       "↪                                                                              ↪\n",
       "↪                                                                              ↪\n",
       "↪                                                                              ↪\n",
       "↪                                                                              ↪\n",
       "↪                                                                              ↪\n",
       "↪                                                                              ↪\n",
       "↪                                                                              ↪\n",
       "\n",
       "↪ _________________________________________                                    ↪\n",
       "↪ ___________________________                                                  ↪\n",
       "↪                          2                                                   ↪\n",
       "↪                        3⎞                                                    ↪\n",
       "↪ \\mu[i, i] - 2⋅\\mu[i, i] ⎠              3                                     ↪\n",
       "↪ ─────────────────────────── - \\mu[i, i]                                      ↪\n",
       "↪                                             \\mu[i, i]                        ↪\n",
       "↪ ───────────────────────────────────────── + ─────────, - ─────────────────── ↪\n",
       "↪                                                 3                            ↪\n",
       "↪                                                                              ↪\n",
       "↪                                                                              ↪\n",
       "↪                                                                              ↪\n",
       "↪                                                            ⎛  1   √3⋅ⅈ⎞    ╱ ↪\n",
       "↪                                                          3⋅⎜- ─ - ────⎟⋅3 ╱  ↪\n",
       "↪                                                            ⎝  2    2  ⎠ ╲╱   ↪\n",
       "\n",
       "↪                                                                              ↪\n",
       "↪                                                                              ↪\n",
       "↪                                                                              ↪\n",
       "↪                                                                              ↪\n",
       "↪                                                                              ↪\n",
       "↪                                                                              ↪\n",
       "↪                                                                              ↪\n",
       "↪ ──────────────────────────────────────────────────────────────────────────── ↪\n",
       "↪    _________________________________________________________________________ ↪\n",
       "↪   ╱                                                                       __ ↪\n",
       "↪  ╱                                                                       ╱   ↪\n",
       "↪ ╱        2        2               ⎛    2      2⎞        2               ╱    ↪\n",
       "↪     27⋅k₁ ⋅Y[i, i] ⋅\\mu[i, i]   9⋅⎝- k₁  - v_R ⎠⋅Y[i, i] ⋅\\mu[i, i]   ╲╱   - ↪\n",
       "↪     ───────────────────────── + ─────────────────────────────────── + ────── ↪\n",
       "↪                 2                                2                           ↪\n",
       "\n",
       "↪                                                                              ↪\n",
       "↪                                                                              ↪\n",
       "↪                                                                              ↪\n",
       "↪                                                                              ↪\n",
       "↪                                                                              ↪\n",
       "↪          ⎛    2      2⎞        2            2                                ↪\n",
       "↪      - 3⋅⎝- k₁  - v_R ⎠⋅Y[i, i]  + \\mu[i, i]                                 ↪\n",
       "↪ ──────────────────────────────────────────────────────────────────────────── ↪\n",
       "↪ ____________________________________________________________________________ ↪\n",
       "↪ ____________________________________________________________________________ ↪\n",
       "↪                                              3                               ↪\n",
       "↪    ⎛    ⎛    2      2⎞        2            2⎞    ⎛     2        2            ↪\n",
       "↪  4⋅⎝- 3⋅⎝- k₁  - v_R ⎠⋅Y[i, i]  + \\mu[i, i] ⎠  + ⎝27⋅k₁ ⋅Y[i, i] ⋅\\mu[i, i]  ↪\n",
       "↪ ──────────────────────────────────────────────────────────────────────────── ↪\n",
       "↪                                                               2              ↪\n",
       "\n",
       "↪                                                                              ↪\n",
       "↪                                                                              ↪\n",
       "↪                                                                              ↪\n",
       "↪                                                                              ↪\n",
       "↪                                                                         ⎛  1 ↪\n",
       "↪                                                                         ⎜- ─ ↪\n",
       "↪                                                                         ⎝  2 ↪\n",
       "↪ ───────────────────────────────────────────────────────────────────── - ──── ↪\n",
       "↪ _____________________________________________________________________        ↪\n",
       "↪ _______________________________________________________                      ↪\n",
       "↪                                                      2                       ↪\n",
       "↪     ⎛    2      2⎞        2                        3⎞                        ↪\n",
       "↪ + 9⋅⎝- k₁  - v_R ⎠⋅Y[i, i] ⋅\\mu[i, i] - 2⋅\\mu[i, i] ⎠              3         ↪\n",
       "↪ ─────────────────────────────────────────────────────── - \\mu[i, i]          ↪\n",
       "↪                                                                              ↪\n",
       "\n",
       "↪                 ____________________________________________________________ ↪\n",
       "↪                ╱                                                             ↪\n",
       "↪               ╱                                                              ↪\n",
       "↪              ╱        2        2               ⎛    2      2⎞        2       ↪\n",
       "↪    √3⋅ⅈ⎞    ╱    27⋅k₁ ⋅Y[i, i] ⋅\\mu[i, i]   9⋅⎝- k₁  - v_R ⎠⋅Y[i, i] ⋅\\mu[i ↪\n",
       "↪  - ────⎟⋅3 ╱     ───────────────────────── + ─────────────────────────────── ↪\n",
       "↪     2  ⎠ ╲╱                  2                                2              ↪\n",
       "↪ ──────────────────────────────────────────────────────────────────────────── ↪\n",
       "↪                                                                              ↪\n",
       "↪                                                                              ↪\n",
       "↪                                                                              ↪\n",
       "↪                                                                              ↪\n",
       "↪                                                                              ↪\n",
       "↪                                                                              ↪\n",
       "↪                                                                              ↪\n",
       "\n",
       "↪ ____________________________________________________________________________ ↪\n",
       "↪            _________________________________________________________________ ↪\n",
       "↪           ╱                                               3                  ↪\n",
       "↪          ╱      ⎛    ⎛    2      2⎞        2            2⎞    ⎛     2        ↪\n",
       "↪ , i]   ╲╱   - 4⋅⎝- 3⋅⎝- k₁  - v_R ⎠⋅Y[i, i]  + \\mu[i, i] ⎠  + ⎝27⋅k₁ ⋅Y[i, i ↪\n",
       "↪ ──── + ───────────────────────────────────────────────────────────────────── ↪\n",
       "↪                                                                            2 ↪\n",
       "↪ ──────────────────────────────────────────────────────────────────────────── ↪\n",
       "↪                                       3                                      ↪\n",
       "↪                                                                              ↪\n",
       "↪                                                                              ↪\n",
       "↪                                                                              ↪\n",
       "↪                                                                              ↪\n",
       "↪                                                                              ↪\n",
       "↪                                                                              ↪\n",
       "\n",
       "↪ ____________________________________________________________________________ ↪\n",
       "↪ ____________________________________________________________________         ↪\n",
       "↪                                                                   2          ↪\n",
       "↪  2               ⎛    2      2⎞        2                        3⎞           ↪\n",
       "↪ ] ⋅\\mu[i, i] + 9⋅⎝- k₁  - v_R ⎠⋅Y[i, i] ⋅\\mu[i, i] - 2⋅\\mu[i, i] ⎠           ↪\n",
       "↪ ──────────────────────────────────────────────────────────────────── - \\mu[i ↪\n",
       "↪                                                                              ↪\n",
       "↪ ──────────────────────────────────────────────────────────────────────────── ↪\n",
       "↪                                                                              ↪\n",
       "↪                                                                              ↪\n",
       "↪                                                                              ↪\n",
       "↪                                                                              ↪\n",
       "↪                                                                              ↪\n",
       "↪                                                                              ↪\n",
       "↪                                                                              ↪\n",
       "\n",
       "↪ ______            ⎤\n",
       "↪                   ⎥\n",
       "↪                   ⎥\n",
       "↪                   ⎥\n",
       "↪     3             ⎥\n",
       "↪ , i]              ⎥\n",
       "↪          \\mu[i, i]⎥\n",
       "↪ ────── + ─────────⎥\n",
       "↪              3    ⎥\n",
       "↪                   ⎥\n",
       "↪                   ⎥\n",
       "↪                   ⎥\n",
       "↪                   ⎥\n",
       "↪                   ⎥\n",
       "↪                   ⎦"
      ]
     },
     "execution_count": 38,
     "metadata": {},
     "output_type": "execute_result"
    }
   ],
   "source": [
    "eigenvals1Y = list(Mnu1Y.eigenvals().keys())\n",
    "eigenvals1Y"
   ]
  },
  {
   "cell_type": "code",
   "execution_count": 39,
   "metadata": {},
   "outputs": [],
   "source": [
    "#epsilonL = symbols('epsilon_L')\n",
    "epsilon1 = symbols('epsilon_1')\n",
    "epsilon = symbols('epsilon')"
   ]
  },
  {
   "cell_type": "code",
   "execution_count": 40,
   "metadata": {},
   "outputs": [
    {
     "data": {
      "image/png": "[encoded data removed]",
      "text/latex": [
       "$\\displaystyle \\sqrt{- 4 \\left(- 3 \\left(- k_{1}^{2} - v_{R}^{2}\\right) {Y}_{i,i}^{2} + {\\mu}_{i,i}^{2}\\right)^{3} + \\left(27 k_{1}^{2} {Y}_{i,i}^{2} {\\mu}_{i,i} + 9 \\left(- k_{1}^{2} - v_{R}^{2}\\right) {Y}_{i,i}^{2} {\\mu}_{i,i} - 2 {\\mu}_{i,i}^{3}\\right)^{2}}$"
      ],
      "text/plain": [
       "    __________________________________________________________________________ ↪\n",
       "   ╱                                               3                           ↪\n",
       "  ╱      ⎛    ⎛    2      2⎞        2            2⎞    ⎛     2        2        ↪\n",
       "╲╱   - 4⋅⎝- 3⋅⎝- k₁  - v_R ⎠⋅Y[i, i]  + \\mu[i, i] ⎠  + ⎝27⋅k₁ ⋅Y[i, i] ⋅\\mu[i, ↪\n",
       "\n",
       "↪ ___________________________________________________________\n",
       "↪                                                          2 \n",
       "↪         ⎛    2      2⎞        2                        3⎞  \n",
       "↪  i] + 9⋅⎝- k₁  - v_R ⎠⋅Y[i, i] ⋅\\mu[i, i] - 2⋅\\mu[i, i] ⎠  "
      ]
     },
     "execution_count": 40,
     "metadata": {},
     "output_type": "execute_result"
    }
   ],
   "source": [
    "sqrt_iss = eigenvals1Y[0].args[0].args[1].args[0].args[0].args[1]\n",
    "sqrt_iss"
   ]
  },
  {
   "cell_type": "code",
   "execution_count": 41,
   "metadata": {},
   "outputs": [],
   "source": [
    "from symbolic_tools import multivariable_taylor_optimized"
   ]
  },
  {
   "cell_type": "code",
   "execution_count": 42,
   "metadata": {},
   "outputs": [
    {
     "data": {
      "image/png": "[encoded data removed]",
      "text/latex": [
       "$\\displaystyle - \\frac{3 \\sqrt{3} \\left(6 k_{1}^{2} v_{R}^{4} {Y}_{i,i}^{4} + 10 k_{1}^{2} v_{R}^{2} {Y}_{i,i}^{2} {\\mu}_{i,i}^{2} + 2 k_{1}^{2} {\\mu}_{i,i}^{4} + 4 v_{R}^{6} {Y}_{i,i}^{4} + v_{R}^{4} {Y}_{i,i}^{2} {\\mu}_{i,i}^{2}\\right) {Y}_{i,i}^{2}}{v_{R}^{2} \\sqrt{- \\left(4 v_{R}^{2} {Y}_{i,i}^{2} + {\\mu}_{i,i}^{2}\\right) {Y}_{i,i}^{4}}}$"
      ],
      "text/plain": [
       "      ⎛    2    4        4        2    2        2          2       2           ↪\n",
       "-3⋅√3⋅⎝6⋅k₁ ⋅v_R ⋅Y[i, i]  + 10⋅k₁ ⋅v_R ⋅Y[i, i] ⋅\\mu[i, i]  + 2⋅k₁ ⋅\\mu[i, i] ↪\n",
       "────────────────────────────────────────────────────────────────────────────── ↪\n",
       "                                                  ____________________________ ↪\n",
       "                                             2   ╱  ⎛     2        2           ↪\n",
       "                                          v_R ⋅╲╱  -⎝4⋅v_R ⋅Y[i, i]  + \\mu[i,  ↪\n",
       "\n",
       "↪ 4        6        4      4        2          2⎞        2 \n",
       "↪   + 4⋅v_R ⋅Y[i, i]  + v_R ⋅Y[i, i] ⋅\\mu[i, i] ⎠⋅Y[i, i]  \n",
       "↪ ─────────────────────────────────────────────────────────\n",
       "↪ ______________                                           \n",
       "↪   2⎞        4                                            \n",
       "↪ i] ⎠⋅Y[i, i]                                             "
      ]
     },
     "execution_count": 42,
     "metadata": {},
     "output_type": "execute_result"
    }
   ],
   "source": [
    "multivariable_taylor_optimized(\n",
    "    sqrt_iss.subs(k1, epsilon1*vR), [epsilon1], [0], 2\n",
    ").subs(epsilon1, k1/vR).factor()"
   ]
  },
  {
   "cell_type": "code",
   "execution_count": 43,
   "metadata": {},
   "outputs": [
    {
     "data": {
      "image/png": "[encoded data removed]",
      "text/latex": [
       "$\\displaystyle - \\frac{\\sqrt{3} \\left(- 162 \\sqrt[3]{2} k_{1}^{2} v_{R}^{6} \\sqrt[3]{- 9 v_{R}^{2} {Y}_{i,i}^{2} {\\mu}_{i,i} + \\sqrt{- 108 v_{R}^{6} {Y}_{i,i}^{6} - 27 v_{R}^{4} {Y}_{i,i}^{4} {\\mu}_{i,i}^{2}} - 2 {\\mu}_{i,i}^{3}} {Y}_{i,i}^{8} - 81 \\cdot 2^{\\frac{2}{3}} k_{1}^{2} v_{R}^{6} {Y}_{i,i}^{8} {\\mu}_{i,i} - 27 \\cdot 2^{\\frac{2}{3}} k_{1}^{2} v_{R}^{4} \\sqrt{- 108 v_{R}^{6} {Y}_{i,i}^{6} - 27 v_{R}^{4} {Y}_{i,i}^{4} {\\mu}_{i,i}^{2}} {Y}_{i,i}^{6} + 243 \\sqrt[3]{2} k_{1}^{2} v_{R}^{4} \\sqrt[3]{- 9 v_{R}^{2} {Y}_{i,i}^{2} {\\mu}_{i,i} + \\sqrt{- 108 v_{R}^{6} {Y}_{i,i}^{6} - 27 v_{R}^{4} {Y}_{i,i}^{4} {\\mu}_{i,i}^{2}} - 2 {\\mu}_{i,i}^{3}} {Y}_{i,i}^{6} {\\mu}_{i,i}^{2} + 378 \\cdot 2^{\\frac{2}{3}} k_{1}^{2} v_{R}^{4} {Y}_{i,i}^{6} {\\mu}_{i,i}^{3} - 45 \\sqrt[3]{2} k_{1}^{2} v_{R}^{2} \\sqrt{- 108 v_{R}^{6} {Y}_{i,i}^{6} - 27 v_{R}^{4} {Y}_{i,i}^{4} {\\mu}_{i,i}^{2}} \\sqrt[3]{- 9 v_{R}^{2} {Y}_{i,i}^{2} {\\mu}_{i,i} + \\sqrt{- 108 v_{R}^{6} {Y}_{i,i}^{6} - 27 v_{R}^{4} {Y}_{i,i}^{4} {\\mu}_{i,i}^{2}} - 2 {\\mu}_{i,i}^{3}} {Y}_{i,i}^{4} {\\mu}_{i,i} - 72 \\cdot 2^{\\frac{2}{3}} k_{1}^{2} v_{R}^{2} \\sqrt{- 108 v_{R}^{6} {Y}_{i,i}^{6} - 27 v_{R}^{4} {Y}_{i,i}^{4} {\\mu}_{i,i}^{2}} {Y}_{i,i}^{4} {\\mu}_{i,i}^{2} + 144 \\sqrt[3]{2} k_{1}^{2} v_{R}^{2} \\sqrt[3]{- 9 v_{R}^{2} {Y}_{i,i}^{2} {\\mu}_{i,i} + \\sqrt{- 108 v_{R}^{6} {Y}_{i,i}^{6} - 27 v_{R}^{4} {Y}_{i,i}^{4} {\\mu}_{i,i}^{2}} - 2 {\\mu}_{i,i}^{3}} {Y}_{i,i}^{4} {\\mu}_{i,i}^{4} + 171 \\cdot 2^{\\frac{2}{3}} k_{1}^{2} v_{R}^{2} {Y}_{i,i}^{4} {\\mu}_{i,i}^{5} - 12 \\sqrt[3]{2} k_{1}^{2} \\sqrt{- 108 v_{R}^{6} {Y}_{i,i}^{6} - 27 v_{R}^{4} {Y}_{i,i}^{4} {\\mu}_{i,i}^{2}} \\sqrt[3]{- 9 v_{R}^{2} {Y}_{i,i}^{2} {\\mu}_{i,i} + \\sqrt{- 108 v_{R}^{6} {Y}_{i,i}^{6} - 27 v_{R}^{4} {Y}_{i,i}^{4} {\\mu}_{i,i}^{2}} - 2 {\\mu}_{i,i}^{3}} {Y}_{i,i}^{2} {\\mu}_{i,i}^{3} - 15 \\cdot 2^{\\frac{2}{3}} k_{1}^{2} \\sqrt{- 108 v_{R}^{6} {Y}_{i,i}^{6} - 27 v_{R}^{4} {Y}_{i,i}^{4} {\\mu}_{i,i}^{2}} {Y}_{i,i}^{2} {\\mu}_{i,i}^{4} + 18 \\sqrt[3]{2} k_{1}^{2} \\sqrt[3]{- 9 v_{R}^{2} {Y}_{i,i}^{2} {\\mu}_{i,i} + \\sqrt{- 108 v_{R}^{6} {Y}_{i,i}^{6} - 27 v_{R}^{4} {Y}_{i,i}^{4} {\\mu}_{i,i}^{2}} - 2 {\\mu}_{i,i}^{3}} {Y}_{i,i}^{2} {\\mu}_{i,i}^{6} + 18 \\cdot 2^{\\frac{2}{3}} k_{1}^{2} {Y}_{i,i}^{2} {\\mu}_{i,i}^{7} - 324 \\sqrt[3]{2} v_{R}^{8} \\sqrt[3]{- 9 v_{R}^{2} {Y}_{i,i}^{2} {\\mu}_{i,i} + \\sqrt{- 108 v_{R}^{6} {Y}_{i,i}^{6} - 27 v_{R}^{4} {Y}_{i,i}^{4} {\\mu}_{i,i}^{2}} - 2 {\\mu}_{i,i}^{3}} {Y}_{i,i}^{8} + 972 \\cdot 2^{\\frac{2}{3}} v_{R}^{8} {Y}_{i,i}^{8} {\\mu}_{i,i} - 54 \\cdot 2^{\\frac{2}{3}} v_{R}^{6} \\sqrt{- 108 v_{R}^{6} {Y}_{i,i}^{6} - 27 v_{R}^{4} {Y}_{i,i}^{4} {\\mu}_{i,i}^{2}} {Y}_{i,i}^{6} + 108 v_{R}^{6} \\left(- 9 v_{R}^{2} {Y}_{i,i}^{2} {\\mu}_{i,i} + \\sqrt{- 108 v_{R}^{6} {Y}_{i,i}^{6} - 27 v_{R}^{4} {Y}_{i,i}^{4} {\\mu}_{i,i}^{2}} - 2 {\\mu}_{i,i}^{3}\\right)^{\\frac{2}{3}} {Y}_{i,i}^{6} {\\mu}_{i,i} - 189 \\sqrt[3]{2} v_{R}^{6} \\sqrt[3]{- 9 v_{R}^{2} {Y}_{i,i}^{2} {\\mu}_{i,i} + \\sqrt{- 108 v_{R}^{6} {Y}_{i,i}^{6} - 27 v_{R}^{4} {Y}_{i,i}^{4} {\\mu}_{i,i}^{2}} - 2 {\\mu}_{i,i}^{3}} {Y}_{i,i}^{6} {\\mu}_{i,i}^{2} + 459 \\cdot 2^{\\frac{2}{3}} v_{R}^{6} {Y}_{i,i}^{6} {\\mu}_{i,i}^{3} - 27 \\sqrt[3]{2} v_{R}^{4} \\sqrt{- 108 v_{R}^{6} {Y}_{i,i}^{6} - 27 v_{R}^{4} {Y}_{i,i}^{4} {\\mu}_{i,i}^{2}} \\sqrt[3]{- 9 v_{R}^{2} {Y}_{i,i}^{2} {\\mu}_{i,i} + \\sqrt{- 108 v_{R}^{6} {Y}_{i,i}^{6} - 27 v_{R}^{4} {Y}_{i,i}^{4} {\\mu}_{i,i}^{2}} - 2 {\\mu}_{i,i}^{3}} {Y}_{i,i}^{4} {\\mu}_{i,i} + 27 \\cdot 2^{\\frac{2}{3}} v_{R}^{4} \\sqrt{- 108 v_{R}^{6} {Y}_{i,i}^{6} - 27 v_{R}^{4} {Y}_{i,i}^{4} {\\mu}_{i,i}^{2}} {Y}_{i,i}^{4} {\\mu}_{i,i}^{2} + 27 v_{R}^{4} \\left(- 9 v_{R}^{2} {Y}_{i,i}^{2} {\\mu}_{i,i} + \\sqrt{- 108 v_{R}^{6} {Y}_{i,i}^{6} - 27 v_{R}^{4} {Y}_{i,i}^{4} {\\mu}_{i,i}^{2}} - 2 {\\mu}_{i,i}^{3}\\right)^{\\frac{2}{3}} {Y}_{i,i}^{4} {\\mu}_{i,i}^{3} - 27 \\sqrt[3]{2} v_{R}^{4} \\sqrt[3]{- 9 v_{R}^{2} {Y}_{i,i}^{2} {\\mu}_{i,i} + \\sqrt{- 108 v_{R}^{6} {Y}_{i,i}^{6} - 27 v_{R}^{4} {Y}_{i,i}^{4} {\\mu}_{i,i}^{2}} - 2 {\\mu}_{i,i}^{3}} {Y}_{i,i}^{4} {\\mu}_{i,i}^{4} + 54 \\cdot 2^{\\frac{2}{3}} v_{R}^{4} {Y}_{i,i}^{4} {\\mu}_{i,i}^{5} + 9 v_{R}^{2} \\sqrt{- 108 v_{R}^{6} {Y}_{i,i}^{6} - 27 v_{R}^{4} {Y}_{i,i}^{4} {\\mu}_{i,i}^{2}} \\left(- 9 v_{R}^{2} {Y}_{i,i}^{2} {\\mu}_{i,i} + \\sqrt{- 108 v_{R}^{6} {Y}_{i,i}^{6} - 27 v_{R}^{4} {Y}_{i,i}^{4} {\\mu}_{i,i}^{2}} - 2 {\\mu}_{i,i}^{3}\\right)^{\\frac{2}{3}} {Y}_{i,i}^{2} {\\mu}_{i,i}^{2} - 15 \\sqrt[3]{2} v_{R}^{2} \\sqrt{- 108 v_{R}^{6} {Y}_{i,i}^{6} - 27 v_{R}^{4} {Y}_{i,i}^{4} {\\mu}_{i,i}^{2}} \\sqrt[3]{- 9 v_{R}^{2} {Y}_{i,i}^{2} {\\mu}_{i,i} + \\sqrt{- 108 v_{R}^{6} {Y}_{i,i}^{6} - 27 v_{R}^{4} {Y}_{i,i}^{4} {\\mu}_{i,i}^{2}} - 2 {\\mu}_{i,i}^{3}} {Y}_{i,i}^{2} {\\mu}_{i,i}^{3} + 18 \\cdot 2^{\\frac{2}{3}} v_{R}^{2} \\sqrt{- 108 v_{R}^{6} {Y}_{i,i}^{6} - 27 v_{R}^{4} {Y}_{i,i}^{4} {\\mu}_{i,i}^{2}} {Y}_{i,i}^{2} {\\mu}_{i,i}^{4} + 2 \\sqrt{- 108 v_{R}^{6} {Y}_{i,i}^{6} - 27 v_{R}^{4} {Y}_{i,i}^{4} {\\mu}_{i,i}^{2}} \\left(- 9 v_{R}^{2} {Y}_{i,i}^{2} {\\mu}_{i,i} + \\sqrt{- 108 v_{R}^{6} {Y}_{i,i}^{6} - 27 v_{R}^{4} {Y}_{i,i}^{4} {\\mu}_{i,i}^{2}} - 2 {\\mu}_{i,i}^{3}\\right)^{\\frac{2}{3}} {\\mu}_{i,i}^{4} - 2 \\sqrt[3]{2} \\sqrt{- 108 v_{R}^{6} {Y}_{i,i}^{6} - 27 v_{R}^{4} {Y}_{i,i}^{4} {\\mu}_{i,i}^{2}} \\sqrt[3]{- 9 v_{R}^{2} {Y}_{i,i}^{2} {\\mu}_{i,i} + \\sqrt{- 108 v_{R}^{6} {Y}_{i,i}^{6} - 27 v_{R}^{4} {Y}_{i,i}^{4} {\\mu}_{i,i}^{2}} - 2 {\\mu}_{i,i}^{3}} {\\mu}_{i,i}^{5} + 2 \\cdot 2^{\\frac{2}{3}} \\sqrt{- 108 v_{R}^{6} {Y}_{i,i}^{6} - 27 v_{R}^{4} {Y}_{i,i}^{4} {\\mu}_{i,i}^{2}} {\\mu}_{i,i}^{6}\\right)}{27 v_{R}^{2} \\sqrt{- \\left(4 v_{R}^{2} {Y}_{i,i}^{2} + {\\mu}_{i,i}^{2}\\right) {Y}_{i,i}^{4}} \\left(- 9 v_{R}^{2} {Y}_{i,i}^{2} {\\mu}_{i,i} + \\sqrt{- 108 v_{R}^{6} {Y}_{i,i}^{6} - 27 v_{R}^{4} {Y}_{i,i}^{4} {\\mu}_{i,i}^{2}} - 2 {\\mu}_{i,i}^{3}\\right)^{\\frac{5}{3}}}$"
      ],
      "text/plain": [
       "    ⎛                         ________________________________________________ ↪\n",
       "    ⎜                        ╱                                  ______________ ↪\n",
       "    ⎜      3 ___   2    6 3 ╱         2        2               ╱          6    ↪\n",
       "-√3⋅⎝- 162⋅╲╱ 2 ⋅k₁ ⋅v_R ⋅╲╱   - 9⋅v_R ⋅Y[i, i] ⋅\\mu[i, i] + ╲╱  - 108⋅v_R ⋅Y[ ↪\n",
       "────────────────────────────────────────────────────────────────────────────── ↪\n",
       "                                                                               ↪\n",
       "                                                                               ↪\n",
       "                                                                               ↪\n",
       "                                                                               ↪\n",
       "\n",
       "↪ _____________________________________________________                        ↪\n",
       "↪ _____________________________________                                        ↪\n",
       "↪      6         4        4          2               3         8       2/3   2 ↪\n",
       "↪ i, i]  - 27⋅v_R ⋅Y[i, i] ⋅\\mu[i, i]   - 2⋅\\mu[i, i]  ⋅Y[i, i]  - 81⋅2   ⋅k₁  ↪\n",
       "↪ ──────────────────────────────────────────────────────────────────────────── ↪\n",
       "↪                                                                              ↪\n",
       "↪                                                                              ↪\n",
       "↪                                                                              ↪\n",
       "↪                                                                              ↪\n",
       "\n",
       "↪                                                                              ↪\n",
       "↪                                                _____________________________ ↪\n",
       "↪     6        8                 2/3   2    4   ╱          6        6          ↪\n",
       "↪ ⋅v_R ⋅Y[i, i] ⋅\\mu[i, i] - 27⋅2   ⋅k₁ ⋅v_R ⋅╲╱  - 108⋅v_R ⋅Y[i, i]  - 27⋅v_R ↪\n",
       "↪ ──────────────────────────────────────────────────────────────────────────── ↪\n",
       "↪                                                                              ↪\n",
       "↪                                                                              ↪\n",
       "↪                                                                              ↪\n",
       "↪                                                                              ↪\n",
       "\n",
       "↪                                                          ___________________ ↪\n",
       "↪ ______________________                                  ╱                    ↪\n",
       "↪ 4        4          2         6       3 ___   2    4 3 ╱         2        2  ↪\n",
       "↪  ⋅Y[i, i] ⋅\\mu[i, i]  ⋅Y[i, i]  + 243⋅╲╱ 2 ⋅k₁ ⋅v_R ⋅╲╱   - 9⋅v_R ⋅Y[i, i] ⋅ ↪\n",
       "↪ ──────────────────────────────────────────────────────────────────────────── ↪\n",
       "↪                                                                              ↪\n",
       "↪                                                                              ↪\n",
       "↪                                                                              ↪\n",
       "↪                                                                              ↪\n",
       "\n",
       "↪ ____________________________________________________________________________ ↪\n",
       "↪                ___________________________________________________           ↪\n",
       "↪               ╱          6        6         4        4          2            ↪\n",
       "↪ \\mu[i, i] + ╲╱  - 108⋅v_R ⋅Y[i, i]  - 27⋅v_R ⋅Y[i, i] ⋅\\mu[i, i]   - 2⋅\\mu[i ↪\n",
       "↪ ──────────────────────────────────────────────────────────────────────────── ↪\n",
       "↪                                                                              ↪\n",
       "↪                                                                              ↪\n",
       "↪                                                                              ↪\n",
       "↪                                                                              ↪\n",
       "\n",
       "↪ ______                                                                       ↪\n",
       "↪                                                                              ↪\n",
       "↪     3         6          2        2/3   2    4        6          3      3 __ ↪\n",
       "↪ , i]  ⋅Y[i, i] ⋅\\mu[i, i]  + 378⋅2   ⋅k₁ ⋅v_R ⋅Y[i, i] ⋅\\mu[i, i]  - 45⋅╲╱ 2 ↪\n",
       "↪ ──────────────────────────────────────────────────────────────────────────── ↪\n",
       "↪                                                                              ↪\n",
       "↪                                                                              ↪\n",
       "↪                                                                              ↪\n",
       "↪                                                                              ↪\n",
       "\n",
       "↪                                                                       ______ ↪\n",
       "↪               ___________________________________________________    ╱       ↪\n",
       "↪ _   2    2   ╱          6        6         4        4          2  3 ╱        ↪\n",
       "↪  ⋅k₁ ⋅v_R ⋅╲╱  - 108⋅v_R ⋅Y[i, i]  - 27⋅v_R ⋅Y[i, i] ⋅\\mu[i, i]  ⋅╲╱   - 9⋅v ↪\n",
       "↪ ──────────────────────────────────────────────────────────────────────────── ↪\n",
       "↪                                                                              ↪\n",
       "↪                                                                              ↪\n",
       "↪                                                                              ↪\n",
       "↪                                                                              ↪\n",
       "\n",
       "↪ ____________________________________________________________________________ ↪\n",
       "↪                             ________________________________________________ ↪\n",
       "↪   2        2               ╱          6        6         4        4          ↪\n",
       "↪ _R ⋅Y[i, i] ⋅\\mu[i, i] + ╲╱  - 108⋅v_R ⋅Y[i, i]  - 27⋅v_R ⋅Y[i, i] ⋅\\mu[i, i ↪\n",
       "↪ ──────────────────────────────────────────────────────────────────────────── ↪\n",
       "↪                                                                              ↪\n",
       "↪                                                                              ↪\n",
       "↪                                                                              ↪\n",
       "↪                                                                              ↪\n",
       "\n",
       "↪ ___________________                                                          ↪\n",
       "↪ ___                                                          _______________ ↪\n",
       "↪  2               3         4                 2/3   2    2   ╱          6     ↪\n",
       "↪ ]   - 2⋅\\mu[i, i]  ⋅Y[i, i] ⋅\\mu[i, i] - 72⋅2   ⋅k₁ ⋅v_R ⋅╲╱  - 108⋅v_R ⋅Y[i ↪\n",
       "↪ ──────────────────────────────────────────────────────────────────────────── ↪\n",
       "↪                                                                              ↪\n",
       "↪                                                                              ↪\n",
       "↪                                                                              ↪\n",
       "↪                                                                              ↪\n",
       "\n",
       "↪                                                                              ↪\n",
       "↪ ____________________________________                                         ↪\n",
       "↪     6         4        4          2         4          2       3 ___   2     ↪\n",
       "↪ , i]  - 27⋅v_R ⋅Y[i, i] ⋅\\mu[i, i]  ⋅Y[i, i] ⋅\\mu[i, i]  + 144⋅╲╱ 2 ⋅k₁ ⋅v_R ↪\n",
       "↪ ──────────────────────────────────────────────────────────────────────────── ↪\n",
       "↪                                                                              ↪\n",
       "↪                                                                              ↪\n",
       "↪                                                                              ↪\n",
       "↪                                                                              ↪\n",
       "\n",
       "↪       ______________________________________________________________________ ↪\n",
       "↪      ╱                                  ____________________________________ ↪\n",
       "↪ 2 3 ╱         2        2               ╱          6        6         4       ↪\n",
       "↪  ⋅╲╱   - 9⋅v_R ⋅Y[i, i] ⋅\\mu[i, i] + ╲╱  - 108⋅v_R ⋅Y[i, i]  - 27⋅v_R ⋅Y[i,  ↪\n",
       "↪ ──────────────────────────────────────────────────────────────────────────── ↪\n",
       "↪                                                                              ↪\n",
       "↪                                                                              ↪\n",
       "↪                                                                              ↪\n",
       "↪                                                                              ↪\n",
       "\n",
       "↪ _______________________________                                              ↪\n",
       "↪ _______________                                                              ↪\n",
       "↪   4          2               3         4          4        2/3   2    2      ↪\n",
       "↪ i] ⋅\\mu[i, i]   - 2⋅\\mu[i, i]  ⋅Y[i, i] ⋅\\mu[i, i]  + 171⋅2   ⋅k₁ ⋅v_R ⋅Y[i, ↪\n",
       "↪ ──────────────────────────────────────────────────────────────────────────── ↪\n",
       "↪                                                                              ↪\n",
       "↪                                                                              ↪\n",
       "↪                                                                              ↪\n",
       "↪                                                                              ↪\n",
       "\n",
       "↪                                                                              ↪\n",
       "↪                                   __________________________________________ ↪\n",
       "↪    4          5      3 ___   2   ╱          6        6         4        4    ↪\n",
       "↪  i] ⋅\\mu[i, i]  - 12⋅╲╱ 2 ⋅k₁ ⋅╲╱  - 108⋅v_R ⋅Y[i, i]  - 27⋅v_R ⋅Y[i, i] ⋅\\m ↪\n",
       "↪ ──────────────────────────────────────────────────────────────────────────── ↪\n",
       "↪                                                                              ↪\n",
       "↪                                                                              ↪\n",
       "↪                                                                              ↪\n",
       "↪                                                                              ↪\n",
       "\n",
       "↪               ______________________________________________________________ ↪\n",
       "↪ _________    ╱                                  ____________________________ ↪\n",
       "↪        2  3 ╱         2        2               ╱          6        6         ↪\n",
       "↪ u[i, i]  ⋅╲╱   - 9⋅v_R ⋅Y[i, i] ⋅\\mu[i, i] + ╲╱  - 108⋅v_R ⋅Y[i, i]  - 27⋅v_ ↪\n",
       "↪ ──────────────────────────────────────────────────────────────────────────── ↪\n",
       "↪                                                                              ↪\n",
       "↪                                                                              ↪\n",
       "↪                                                                              ↪\n",
       "↪                                                                              ↪\n",
       "\n",
       "↪ _______________________________________                                      ↪\n",
       "↪ _______________________                                                      ↪\n",
       "↪  4        4          2               3         2          3       2/3   2    ↪\n",
       "↪ R ⋅Y[i, i] ⋅\\mu[i, i]   - 2⋅\\mu[i, i]  ⋅Y[i, i] ⋅\\mu[i, i]  - 15⋅2   ⋅k₁ ⋅╲╱ ↪\n",
       "↪ ──────────────────────────────────────────────────────────────────────────── ↪\n",
       "↪                                                                              ↪\n",
       "↪                                                                              ↪\n",
       "↪                                                                              ↪\n",
       "↪                                                                              ↪\n",
       "\n",
       "↪                                                                              ↪\n",
       "↪  ___________________________________________________                         ↪\n",
       "↪ ╱          6        6         4        4          2         2          4     ↪\n",
       "↪   - 108⋅v_R ⋅Y[i, i]  - 27⋅v_R ⋅Y[i, i] ⋅\\mu[i, i]  ⋅Y[i, i] ⋅\\mu[i, i]  + 1 ↪\n",
       "↪ ──────────────────────────────────────────────────────────────────────────── ↪\n",
       "↪                                                                              ↪\n",
       "↪                                                                              ↪\n",
       "↪                                                                              ↪\n",
       "↪                                                                              ↪\n",
       "\n",
       "↪                 ____________________________________________________________ ↪\n",
       "↪                ╱                                  __________________________ ↪\n",
       "↪   3 ___   2 3 ╱         2        2               ╱          6        6       ↪\n",
       "↪ 8⋅╲╱ 2 ⋅k₁ ⋅╲╱   - 9⋅v_R ⋅Y[i, i] ⋅\\mu[i, i] + ╲╱  - 108⋅v_R ⋅Y[i, i]  - 27⋅ ↪\n",
       "↪ ──────────────────────────────────────────────────────────────────────────── ↪\n",
       "↪                                                                              ↪\n",
       "↪                                                                              ↪\n",
       "↪                                                                              ↪\n",
       "↪                                                                              ↪\n",
       "\n",
       "↪ _________________________________________                                    ↪\n",
       "↪ _________________________                                                    ↪\n",
       "↪    4        4          2               3         2          6       2/3   2  ↪\n",
       "↪ v_R ⋅Y[i, i] ⋅\\mu[i, i]   - 2⋅\\mu[i, i]  ⋅Y[i, i] ⋅\\mu[i, i]  + 18⋅2   ⋅k₁ ⋅ ↪\n",
       "↪ ──────────────────────────────────────────────────────────────────────────── ↪\n",
       "↪                                                                              ↪\n",
       "↪                                                                              ↪\n",
       "↪                                                                              ↪\n",
       "↪                                                                              ↪\n",
       "\n",
       "↪                                          ___________________________________ ↪\n",
       "↪                                         ╱                                  _ ↪\n",
       "↪        2          7       3 ___    8 3 ╱         2        2               ╱  ↪\n",
       "↪ Y[i, i] ⋅\\mu[i, i]  - 324⋅╲╱ 2 ⋅v_R ⋅╲╱   - 9⋅v_R ⋅Y[i, i] ⋅\\mu[i, i] + ╲╱   ↪\n",
       "↪ ──────────────────────────────────────────────────────────────────────────── ↪\n",
       "↪                                                                              ↪\n",
       "↪                                                                              ↪\n",
       "↪                                                                              ↪\n",
       "↪                                                                              ↪\n",
       "\n",
       "↪ __________________________________________________________________           ↪\n",
       "↪ __________________________________________________                           ↪\n",
       "↪          6        6         4        4          2               3         8  ↪\n",
       "↪ - 108⋅v_R ⋅Y[i, i]  - 27⋅v_R ⋅Y[i, i] ⋅\\mu[i, i]   - 2⋅\\mu[i, i]  ⋅Y[i, i]   ↪\n",
       "↪ ──────────────────────────────────────────────────────────────────────────── ↪\n",
       "↪                                                                              ↪\n",
       "↪                                                                              ↪\n",
       "↪                                                                              ↪\n",
       "↪                                                                              ↪\n",
       "\n",
       "↪                                                                              ↪\n",
       "↪                                                      _______________________ ↪\n",
       "↪        2/3    8        8                 2/3    6   ╱          6        6    ↪\n",
       "↪ + 972⋅2   ⋅v_R ⋅Y[i, i] ⋅\\mu[i, i] - 54⋅2   ⋅v_R ⋅╲╱  - 108⋅v_R ⋅Y[i, i]  -  ↪\n",
       "↪ ──────────────────────────────────────────────────────────────────────────── ↪\n",
       "↪                                                                              ↪\n",
       "↪                                                                              ↪\n",
       "↪                                                                              ↪\n",
       "↪                                                                              ↪\n",
       "\n",
       "↪                                                                              ↪\n",
       "↪ ____________________________                     ⎛                           ↪\n",
       "↪       4        4          2         6          6 ⎜       2        2          ↪\n",
       "↪ 27⋅v_R ⋅Y[i, i] ⋅\\mu[i, i]  ⋅Y[i, i]  + 108⋅v_R ⋅⎝- 9⋅v_R ⋅Y[i, i] ⋅\\mu[i, i ↪\n",
       "↪ ──────────────────────────────────────────────────────────────────────────── ↪\n",
       "↪                                                                              ↪\n",
       "↪                                                               ______________ ↪\n",
       "↪                                                          2   ╱  ⎛     2      ↪\n",
       "↪                                                    27⋅v_R ⋅╲╱  -⎝4⋅v_R ⋅Y[i, ↪\n",
       "\n",
       "↪                                                                           2/ ↪\n",
       "↪        ___________________________________________________               ⎞   ↪\n",
       "↪       ╱          6        6         4        4          2               3⎟   ↪\n",
       "↪ ] + ╲╱  - 108⋅v_R ⋅Y[i, i]  - 27⋅v_R ⋅Y[i, i] ⋅\\mu[i, i]   - 2⋅\\mu[i, i] ⎠   ↪\n",
       "↪ ──────────────────────────────────────────────────────────────────────────── ↪\n",
       "↪                                                                              ↪\n",
       "↪ ____________________________ ⎛                                 _____________ ↪\n",
       "↪    2            2⎞        4  ⎜       2        2               ╱          6   ↪\n",
       "↪  i]  + \\mu[i, i] ⎠⋅Y[i, i]  ⋅⎝- 9⋅v_R ⋅Y[i, i] ⋅\\mu[i, i] + ╲╱  - 108⋅v_R ⋅Y ↪\n",
       "\n",
       "↪ 3                                         __________________________________ ↪\n",
       "↪                                          ╱                                   ↪\n",
       "↪          6                 3 ___    6 3 ╱         2        2               ╱ ↪\n",
       "↪  ⋅Y[i, i] ⋅\\mu[i, i] - 189⋅╲╱ 2 ⋅v_R ⋅╲╱   - 9⋅v_R ⋅Y[i, i] ⋅\\mu[i, i] + ╲╱  ↪\n",
       "↪ ──────────────────────────────────────────────────────────────────────────── ↪\n",
       "↪                                                       5/3                    ↪\n",
       "↪ ______________________________________               ⎞                       ↪\n",
       "↪       6         4        4          2               3⎟                       ↪\n",
       "↪ [i, i]  - 27⋅v_R ⋅Y[i, i] ⋅\\mu[i, i]   - 2⋅\\mu[i, i] ⎠                       ↪\n",
       "\n",
       "↪ ___________________________________________________________________          ↪\n",
       "↪ ___________________________________________________                          ↪\n",
       "↪           6        6         4        4          2               3         6 ↪\n",
       "↪  - 108⋅v_R ⋅Y[i, i]  - 27⋅v_R ⋅Y[i, i] ⋅\\mu[i, i]   - 2⋅\\mu[i, i]  ⋅Y[i, i]  ↪\n",
       "↪ ──────────────────────────────────────────────────────────────────────────── ↪\n",
       "↪                                                                              ↪\n",
       "↪                                                                              ↪\n",
       "↪                                                                              ↪\n",
       "↪                                                                              ↪\n",
       "\n",
       "↪                                                                              ↪\n",
       "↪                                                                    _________ ↪\n",
       "↪           2        2/3    6        6          3      3 ___    4   ╱          ↪\n",
       "↪ ⋅\\mu[i, i]  + 459⋅2   ⋅v_R ⋅Y[i, i] ⋅\\mu[i, i]  - 27⋅╲╱ 2 ⋅v_R ⋅╲╱  - 108⋅v_ ↪\n",
       "↪ ──────────────────────────────────────────────────────────────────────────── ↪\n",
       "↪                                                                              ↪\n",
       "↪                                                                              ↪\n",
       "↪                                                                              ↪\n",
       "↪                                                                              ↪\n",
       "\n",
       "↪                                                _____________________________ ↪\n",
       "↪ __________________________________________    ╱                              ↪\n",
       "↪  6        6         4        4          2  3 ╱         2        2            ↪\n",
       "↪ R ⋅Y[i, i]  - 27⋅v_R ⋅Y[i, i] ⋅\\mu[i, i]  ⋅╲╱   - 9⋅v_R ⋅Y[i, i] ⋅\\mu[i, i]  ↪\n",
       "↪ ──────────────────────────────────────────────────────────────────────────── ↪\n",
       "↪                                                                              ↪\n",
       "↪                                                                              ↪\n",
       "↪                                                                              ↪\n",
       "↪                                                                              ↪\n",
       "\n",
       "↪ ________________________________________________________________________     ↪\n",
       "↪      ___________________________________________________                     ↪\n",
       "↪     ╱          6        6         4        4          2               3      ↪\n",
       "↪ + ╲╱  - 108⋅v_R ⋅Y[i, i]  - 27⋅v_R ⋅Y[i, i] ⋅\\mu[i, i]   - 2⋅\\mu[i, i]  ⋅Y[i ↪\n",
       "↪ ──────────────────────────────────────────────────────────────────────────── ↪\n",
       "↪                                                                              ↪\n",
       "↪                                                                              ↪\n",
       "↪                                                                              ↪\n",
       "↪                                                                              ↪\n",
       "\n",
       "↪                                                                              ↪\n",
       "↪                                   __________________________________________ ↪\n",
       "↪     4                 2/3    4   ╱          6        6         4        4    ↪\n",
       "↪ , i] ⋅\\mu[i, i] + 27⋅2   ⋅v_R ⋅╲╱  - 108⋅v_R ⋅Y[i, i]  - 27⋅v_R ⋅Y[i, i] ⋅\\m ↪\n",
       "↪ ──────────────────────────────────────────────────────────────────────────── ↪\n",
       "↪                                                                              ↪\n",
       "↪                                                                              ↪\n",
       "↪                                                                              ↪\n",
       "↪                                                                              ↪\n",
       "\n",
       "↪                                                                              ↪\n",
       "↪ _________                               ⎛                                 __ ↪\n",
       "↪        2         4          2         4 ⎜       2        2               ╱   ↪\n",
       "↪ u[i, i]  ⋅Y[i, i] ⋅\\mu[i, i]  + 27⋅v_R ⋅⎝- 9⋅v_R ⋅Y[i, i] ⋅\\mu[i, i] + ╲╱  - ↪\n",
       "↪ ──────────────────────────────────────────────────────────────────────────── ↪\n",
       "↪                                                                              ↪\n",
       "↪                                                                              ↪\n",
       "↪                                                                              ↪\n",
       "↪                                                                              ↪\n",
       "\n",
       "↪                                                                  2/3         ↪\n",
       "↪ _________________________________________________               ⎞            ↪\n",
       "↪         6        6         4        4          2               3⎟            ↪\n",
       "↪  108⋅v_R ⋅Y[i, i]  - 27⋅v_R ⋅Y[i, i] ⋅\\mu[i, i]   - 2⋅\\mu[i, i] ⎠   ⋅Y[i, i] ↪\n",
       "↪ ──────────────────────────────────────────────────────────────────────────── ↪\n",
       "↪                                                                              ↪\n",
       "↪                                                                              ↪\n",
       "↪                                                                              ↪\n",
       "↪                                                                              ↪\n",
       "\n",
       "↪                                  ___________________________________________ ↪\n",
       "↪                                 ╱                                  _________ ↪\n",
       "↪ 4          3      3 ___    4 3 ╱         2        2               ╱          ↪\n",
       "↪  ⋅\\mu[i, i]  - 27⋅╲╱ 2 ⋅v_R ⋅╲╱   - 9⋅v_R ⋅Y[i, i] ⋅\\mu[i, i] + ╲╱  - 108⋅v_ ↪\n",
       "↪ ──────────────────────────────────────────────────────────────────────────── ↪\n",
       "↪                                                                              ↪\n",
       "↪                                                                              ↪\n",
       "↪                                                                              ↪\n",
       "↪                                                                              ↪\n",
       "\n",
       "↪ __________________________________________________________                   ↪\n",
       "↪ __________________________________________                                   ↪\n",
       "↪  6        6         4        4          2               3         4          ↪\n",
       "↪ R ⋅Y[i, i]  - 27⋅v_R ⋅Y[i, i] ⋅\\mu[i, i]   - 2⋅\\mu[i, i]  ⋅Y[i, i] ⋅\\mu[i, i ↪\n",
       "↪ ──────────────────────────────────────────────────────────────────────────── ↪\n",
       "↪                                                                              ↪\n",
       "↪                                                                              ↪\n",
       "↪                                                                              ↪\n",
       "↪                                                                              ↪\n",
       "\n",
       "↪                                                                              ↪\n",
       "↪                                                   __________________________ ↪\n",
       "↪  4       2/3    4        4          5        2   ╱          6        6       ↪\n",
       "↪ ]  + 54⋅2   ⋅v_R ⋅Y[i, i] ⋅\\mu[i, i]  + 9⋅v_R ⋅╲╱  - 108⋅v_R ⋅Y[i, i]  - 27⋅ ↪\n",
       "↪ ──────────────────────────────────────────────────────────────────────────── ↪\n",
       "↪                                                                              ↪\n",
       "↪                                                                              ↪\n",
       "↪                                                                              ↪\n",
       "↪                                                                              ↪\n",
       "\n",
       "↪                                                                              ↪\n",
       "↪ _________________________ ⎛                                 ________________ ↪\n",
       "↪    4        4          2  ⎜       2        2               ╱          6      ↪\n",
       "↪ v_R ⋅Y[i, i] ⋅\\mu[i, i]  ⋅⎝- 9⋅v_R ⋅Y[i, i] ⋅\\mu[i, i] + ╲╱  - 108⋅v_R ⋅Y[i, ↪\n",
       "↪ ──────────────────────────────────────────────────────────────────────────── ↪\n",
       "↪                                                                              ↪\n",
       "↪                                                                              ↪\n",
       "↪                                                                              ↪\n",
       "↪                                                                              ↪\n",
       "\n",
       "↪                                                    2/3                       ↪\n",
       "↪ ___________________________________               ⎞                          ↪\n",
       "↪    6         4        4          2               3⎟           2          2   ↪\n",
       "↪  i]  - 27⋅v_R ⋅Y[i, i] ⋅\\mu[i, i]   - 2⋅\\mu[i, i] ⎠   ⋅Y[i, i] ⋅\\mu[i, i]  - ↪\n",
       "↪ ──────────────────────────────────────────────────────────────────────────── ↪\n",
       "↪                                                                              ↪\n",
       "↪                                                                              ↪\n",
       "↪                                                                              ↪\n",
       "↪                                                                              ↪\n",
       "\n",
       "↪                                                                           __ ↪\n",
       "↪                   ___________________________________________________    ╱   ↪\n",
       "↪     3 ___    2   ╱          6        6         4        4          2  3 ╱    ↪\n",
       "↪  15⋅╲╱ 2 ⋅v_R ⋅╲╱  - 108⋅v_R ⋅Y[i, i]  - 27⋅v_R ⋅Y[i, i] ⋅\\mu[i, i]  ⋅╲╱   - ↪\n",
       "↪ ──────────────────────────────────────────────────────────────────────────── ↪\n",
       "↪                                                                              ↪\n",
       "↪                                                                              ↪\n",
       "↪                                                                              ↪\n",
       "↪                                                                              ↪\n",
       "\n",
       "↪ ____________________________________________________________________________ ↪\n",
       "↪                                 ____________________________________________ ↪\n",
       "↪       2        2               ╱          6        6         4        4      ↪\n",
       "↪  9⋅v_R ⋅Y[i, i] ⋅\\mu[i, i] + ╲╱  - 108⋅v_R ⋅Y[i, i]  - 27⋅v_R ⋅Y[i, i] ⋅\\mu[ ↪\n",
       "↪ ──────────────────────────────────────────────────────────────────────────── ↪\n",
       "↪                                                                              ↪\n",
       "↪                                                                              ↪\n",
       "↪                                                                              ↪\n",
       "↪                                                                              ↪\n",
       "\n",
       "↪ _______________________                                                      ↪\n",
       "↪ _______                                                       ______________ ↪\n",
       "↪      2               3         2          3       2/3    2   ╱          6    ↪\n",
       "↪ i, i]   - 2⋅\\mu[i, i]  ⋅Y[i, i] ⋅\\mu[i, i]  + 18⋅2   ⋅v_R ⋅╲╱  - 108⋅v_R ⋅Y[ ↪\n",
       "↪ ──────────────────────────────────────────────────────────────────────────── ↪\n",
       "↪                                                                              ↪\n",
       "↪                                                                              ↪\n",
       "↪                                                                              ↪\n",
       "↪                                                                              ↪\n",
       "\n",
       "↪                                                                              ↪\n",
       "↪ _____________________________________                            ___________ ↪\n",
       "↪      6         4        4          2         2          4       ╱          6 ↪\n",
       "↪ i, i]  - 27⋅v_R ⋅Y[i, i] ⋅\\mu[i, i]  ⋅Y[i, i] ⋅\\mu[i, i]  + 2⋅╲╱  - 108⋅v_R  ↪\n",
       "↪ ──────────────────────────────────────────────────────────────────────────── ↪\n",
       "↪                                                                              ↪\n",
       "↪                                                                              ↪\n",
       "↪                                                                              ↪\n",
       "↪                                                                              ↪\n",
       "\n",
       "↪                                                                              ↪\n",
       "↪ ________________________________________ ⎛                                 _ ↪\n",
       "↪         6         4        4          2  ⎜       2        2               ╱  ↪\n",
       "↪ ⋅Y[i, i]  - 27⋅v_R ⋅Y[i, i] ⋅\\mu[i, i]  ⋅⎝- 9⋅v_R ⋅Y[i, i] ⋅\\mu[i, i] + ╲╱   ↪\n",
       "↪ ──────────────────────────────────────────────────────────────────────────── ↪\n",
       "↪                                                                              ↪\n",
       "↪                                                                              ↪\n",
       "↪                                                                              ↪\n",
       "↪                                                                              ↪\n",
       "\n",
       "↪                                                                   2/3        ↪\n",
       "↪ __________________________________________________               ⎞           ↪\n",
       "↪          6        6         4        4          2               3⎟           ↪\n",
       "↪ - 108⋅v_R ⋅Y[i, i]  - 27⋅v_R ⋅Y[i, i] ⋅\\mu[i, i]   - 2⋅\\mu[i, i] ⎠   ⋅\\mu[i, ↪\n",
       "↪ ──────────────────────────────────────────────────────────────────────────── ↪\n",
       "↪                                                                              ↪\n",
       "↪                                                                              ↪\n",
       "↪                                                                              ↪\n",
       "↪                                                                              ↪\n",
       "\n",
       "↪                                                                           __ ↪\n",
       "↪                   ___________________________________________________    ╱   ↪\n",
       "↪    4     3 ___   ╱          6        6         4        4          2  3 ╱    ↪\n",
       "↪  i]  - 2⋅╲╱ 2 ⋅╲╱  - 108⋅v_R ⋅Y[i, i]  - 27⋅v_R ⋅Y[i, i] ⋅\\mu[i, i]  ⋅╲╱   - ↪\n",
       "↪ ──────────────────────────────────────────────────────────────────────────── ↪\n",
       "↪                                                                              ↪\n",
       "↪                                                                              ↪\n",
       "↪                                                                              ↪\n",
       "↪                                                                              ↪\n",
       "\n",
       "↪ ____________________________________________________________________________ ↪\n",
       "↪                                 ____________________________________________ ↪\n",
       "↪       2        2               ╱          6        6         4        4      ↪\n",
       "↪  9⋅v_R ⋅Y[i, i] ⋅\\mu[i, i] + ╲╱  - 108⋅v_R ⋅Y[i, i]  - 27⋅v_R ⋅Y[i, i] ⋅\\mu[ ↪\n",
       "↪ ──────────────────────────────────────────────────────────────────────────── ↪\n",
       "↪                                                                              ↪\n",
       "↪                                                                              ↪\n",
       "↪                                                                              ↪\n",
       "↪                                                                              ↪\n",
       "\n",
       "↪ _______________________                                                      ↪\n",
       "↪ _______                                        _____________________________ ↪\n",
       "↪      2               3           5      2/3   ╱          6        6          ↪\n",
       "↪ i, i]   - 2⋅\\mu[i, i]  ⋅\\mu[i, i]  + 2⋅2   ⋅╲╱  - 108⋅v_R ⋅Y[i, i]  - 27⋅v_R ↪\n",
       "↪ ──────────────────────────────────────────────────────────────────────────── ↪\n",
       "↪                                                                              ↪\n",
       "↪                                                                              ↪\n",
       "↪                                                                              ↪\n",
       "↪                                                                              ↪\n",
       "\n",
       "↪                                  ⎞ \n",
       "↪ ______________________           ⎟ \n",
       "↪ 4        4          2           6⎟ \n",
       "↪  ⋅Y[i, i] ⋅\\mu[i, i]  ⋅\\mu[i, i] ⎠ \n",
       "↪ ───────────────────────────────────\n",
       "↪                                    \n",
       "↪                                    \n",
       "↪                                    \n",
       "↪                                    "
      ]
     },
     "execution_count": 43,
     "metadata": {},
     "output_type": "execute_result"
    }
   ],
   "source": [
    "multivariable_taylor_optimized(\n",
    "    eigenvals1Y[0].subs(k1, epsilon1*vR), [epsilon1], [0], 2\n",
    ").subs(epsilon1, k1/vR).factor()"
   ]
  },
  {
   "cell_type": "code",
   "execution_count": 44,
   "metadata": {},
   "outputs": [],
   "source": [
    "from sympy import Eq, solve"
   ]
  },
  {
   "cell_type": "code",
   "execution_count": 45,
   "metadata": {},
   "outputs": [
    {
     "data": {
      "image/png": "[encoded data removed]",
      "text/latex": [
       "$\\displaystyle \\left\\{ {Y}_{i,j} : \\frac{k_{1} {m_{D}}_{i,j}}{k_{1}^{2} - k_{2}^{2}} - \\frac{k_{2} {M_{\\ell}}_{i,j}}{k_{1}^{2} - k_{2}^{2}}, \\  {\\tilde{Y}}_{i,j} : \\frac{k_{1} {M_{\\ell}}_{i,j}}{k_{1}^{2} - k_{2}^{2}} - \\frac{k_{2} {m_{D}}_{i,j}}{k_{1}^{2} - k_{2}^{2}}\\right\\}$"
      ],
      "text/plain": [
       "⎧         k₁⋅m_D[i, j]   k₂⋅M_\\ell[i, j]                   k₁⋅M_\\ell[i, j]   k ↪\n",
       "⎪Y[i, j]: ──────────── - ───────────────, \\tilde{Y}[i, j]: ─────────────── - ─ ↪\n",
       "⎨            2     2          2     2                           2     2        ↪\n",
       "⎪          k₁  - k₂         k₁  - k₂                          k₁  - k₂         ↪\n",
       "⎩                                                                              ↪\n",
       "\n",
       "↪ ₂⋅m_D[i, j]⎫\n",
       "↪ ───────────⎪\n",
       "↪   2     2  ⎬\n",
       "↪ k₁  - k₂   ⎪\n",
       "↪            ⎭"
      ]
     },
     "execution_count": 45,
     "metadata": {},
     "output_type": "execute_result"
    }
   ],
   "source": [
    "YYtilde_sol = solve([Eq(Ml_sym[i,j], Ml), Eq(mD_sym[i,j], mD)], [Y[i,j], Ytilde[i,j]], dict=True)[0]\n",
    "YYtilde_sol"
   ]
  },
  {
   "cell_type": "code",
   "execution_count": 46,
   "metadata": {},
   "outputs": [],
   "source": [
    "for y in YYtilde_sol:\n",
    "    YYtilde_sol[y] = YYtilde_sol[y].simplify()"
   ]
  },
  {
   "cell_type": "code",
   "execution_count": 47,
   "metadata": {},
   "outputs": [
    {
     "data": {
      "image/png": "[encoded data removed]",
      "text/latex": [
       "$\\displaystyle \\left\\{ {Y}_{i,j} : \\frac{k_{1} {m_{D}}_{i,j} - k_{2} {M_{\\ell}}_{i,j}}{k_{1}^{2} - k_{2}^{2}}, \\  {\\tilde{Y}}_{i,j} : \\frac{k_{1} {M_{\\ell}}_{i,j} - k_{2} {m_{D}}_{i,j}}{k_{1}^{2} - k_{2}^{2}}\\right\\}$"
      ],
      "text/plain": [
       "⎧         k₁⋅m_D[i, j] - k₂⋅M_\\ell[i, j]                   k₁⋅M_\\ell[i, j] - k ↪\n",
       "⎪Y[i, j]: ──────────────────────────────, \\tilde{Y}[i, j]: ─────────────────── ↪\n",
       "⎨                     2     2                                          2     2 ↪\n",
       "⎪                   k₁  - k₂                                         k₁  - k₂  ↪\n",
       "⎩                                                                              ↪\n",
       "\n",
       "↪ ₂⋅m_D[i, j]⎫\n",
       "↪ ───────────⎪\n",
       "↪            ⎬\n",
       "↪            ⎪\n",
       "↪            ⎭"
      ]
     },
     "execution_count": 47,
     "metadata": {},
     "output_type": "execute_result"
    }
   ],
   "source": [
    "YYtilde_sol"
   ]
  },
  {
   "cell_type": "code",
   "execution_count": 48,
   "metadata": {},
   "outputs": [
    {
     "data": {
      "image/png": "[encoded data removed]",
      "text/latex": [
       "$\\displaystyle \\left\\{ {Y}_{i,j} : \\frac{{m_{D}}_{i,j}}{k_{1}}, \\  {\\tilde{Y}}_{i,j} : \\frac{{M_{\\ell}}_{i,j}}{k_{1}}\\right\\}$"
      ],
      "text/plain": [
       "⎧         m_D[i, j]                   M_\\ell[i, j]⎫\n",
       "⎨Y[i, j]: ─────────, \\tilde{Y}[i, j]: ────────────⎬\n",
       "⎩            k₁                            k₁     ⎭"
      ]
     },
     "execution_count": 48,
     "metadata": {},
     "output_type": "execute_result"
    }
   ],
   "source": [
    "YYtilde_sol_k2_0 = {}\n",
    "for y in YYtilde_sol:\n",
    "    YYtilde_sol_k2_0[y] = YYtilde_sol[y].subs(k2,0)\n",
    "\n",
    "YYtilde_sol_k2_0"
   ]
  },
  {
   "cell_type": "markdown",
   "metadata": {},
   "source": [
    "## Covariant derivative"
   ]
  },
  {
   "cell_type": "code",
   "execution_count": 49,
   "metadata": {},
   "outputs": [],
   "source": [
    "from Gauge_Higgs_senjanovic_HiggsDoublets import WsigmaL, WsigmaR, partial_mu, Bmu, g, gBL"
   ]
  },
  {
   "cell_type": "code",
   "execution_count": 50,
   "metadata": {},
   "outputs": [
    {
     "data": {
      "text/latex": [
       "$\\displaystyle \\left( \\left[\\begin{matrix}W^{3}_{L} & W^{+}_{L}\\\\W^{-}_{L} & - W^{3}_{L}\\end{matrix}\\right], \\  \\left[\\begin{matrix}W^{3}_{R} & W^{+}_{R}\\\\W^{-}_{R} & - W^{3}_{R}\\end{matrix}\\right]\\right)$"
      ],
      "text/plain": [
       "⎛⎡W_L__3  W_L__+ ⎤  ⎡W_R__3  W_R__+ ⎤⎞\n",
       "⎜⎢               ⎥, ⎢               ⎥⎟\n",
       "⎝⎣W_L__-  -W_L__3⎦  ⎣W_R__-  -W_R__3⎦⎠"
      ]
     },
     "execution_count": 50,
     "metadata": {},
     "output_type": "execute_result"
    }
   ],
   "source": [
    "WsigmaL, WsigmaR"
   ]
  },
  {
   "cell_type": "code",
   "execution_count": 51,
   "metadata": {},
   "outputs": [
    {
     "data": {
      "text/latex": [
       "$\\displaystyle \\left( \\left[\\begin{matrix}\\partial_{\\mu}{\\left({\\nu_L^{\\prime}}_{i} \\right)}\\\\\\partial_{\\mu}{\\left({\\ell_L^{\\prime}}_{i} \\right)}\\end{matrix}\\right], \\  \\left[\\begin{matrix}\\partial_{\\mu}{\\left({\\nu_R^{\\prime}}_{i} \\right)}\\\\\\partial_{\\mu}{\\left({\\ell_R^{\\prime}}_{i} \\right)}\\end{matrix}\\right]\\right)$"
      ],
      "text/plain": [
       "⎛⎡\\partial_\\mu(\\nu_L^{\\prime}[i]) ⎤  ⎡\\partial_\\mu(\\nu_R^{\\prime}[i]) ⎤⎞\n",
       "⎜⎢                                ⎥, ⎢                                ⎥⎟\n",
       "⎝⎣\\partial_\\mu(\\ell_L^{\\prime}[i])⎦  ⎣\\partial_\\mu(\\ell_R^{\\prime}[i])⎦⎠"
      ]
     },
     "execution_count": 51,
     "metadata": {},
     "output_type": "execute_result"
    }
   ],
   "source": [
    "def partial_mu_LL(idx):\n",
    "    return Matrix(\n",
    "        [\n",
    "            [partial_mu(nuLp[idx])],\n",
    "            [partial_mu(lLp[idx])]\n",
    "        ]\n",
    "    )\n",
    "def partial_mu_LR(idx):\n",
    "    return Matrix(\n",
    "        [\n",
    "            [partial_mu(nuRp[idx])],\n",
    "            [partial_mu(lRp[idx])]\n",
    "        ]\n",
    "    )\n",
    "partial_mu_LL(i), partial_mu_LR(i)"
   ]
  },
  {
   "cell_type": "code",
   "execution_count": 52,
   "metadata": {},
   "outputs": [],
   "source": [
    "DmuL = - I*g/2*WsigmaL + I*gBL/2*Bmu*eye(2)\n",
    "DmuR = - I*g/2*WsigmaR + I*gBL/2*Bmu*eye(2)"
   ]
  },
  {
   "cell_type": "code",
   "execution_count": 53,
   "metadata": {},
   "outputs": [
    {
     "data": {
      "text/latex": [
       "$\\displaystyle \\left( \\left[\\begin{matrix}\\frac{i B_{\\mu} g_{B-L}}{2} - \\frac{i W^{3}_{L} g}{2} & - \\frac{i W^{+}_{L} g}{2}\\\\- \\frac{i W^{-}_{L} g}{2} & \\frac{i B_{\\mu} g_{B-L}}{2} + \\frac{i W^{3}_{L} g}{2}\\end{matrix}\\right], \\  \\left[\\begin{matrix}\\frac{i B_{\\mu} g_{B-L}}{2} - \\frac{i W^{3}_{R} g}{2} & - \\frac{i W^{+}_{R} g}{2}\\\\- \\frac{i W^{-}_{R} g}{2} & \\frac{i B_{\\mu} g_{B-L}}{2} + \\frac{i W^{3}_{R} g}{2}\\end{matrix}\\right]\\right)$"
      ],
      "text/plain": [
       "⎛⎡ⅈ⋅B_\\mu⋅g_{B-L}   ⅈ⋅W_L__3⋅g          -ⅈ⋅W_L__+⋅g         ⎤  ⎡ⅈ⋅B_\\mu⋅g_{B-L ↪\n",
       "⎜⎢─────────────── - ──────────          ────────────        ⎥  ⎢────────────── ↪\n",
       "⎜⎢       2              2                    2              ⎥  ⎢       2       ↪\n",
       "⎜⎢                                                          ⎥, ⎢               ↪\n",
       "⎜⎢        -ⅈ⋅W_L__-⋅g           ⅈ⋅B_\\mu⋅g_{B-L}   ⅈ⋅W_L__3⋅g⎥  ⎢        -ⅈ⋅W_R ↪\n",
       "⎜⎢        ────────────          ─────────────── + ──────────⎥  ⎢        ────── ↪\n",
       "⎝⎣             2                       2              2     ⎦  ⎣             2 ↪\n",
       "\n",
       "↪ }   ⅈ⋅W_R__3⋅g          -ⅈ⋅W_R__+⋅g         ⎤⎞\n",
       "↪ ─ - ──────────          ────────────        ⎥⎟\n",
       "↪         2                    2              ⎥⎟\n",
       "↪                                             ⎥⎟\n",
       "↪ __-⋅g           ⅈ⋅B_\\mu⋅g_{B-L}   ⅈ⋅W_R__3⋅g⎥⎟\n",
       "↪ ──────          ─────────────── + ──────────⎥⎟\n",
       "↪                        2              2     ⎦⎠"
      ]
     },
     "execution_count": 53,
     "metadata": {},
     "output_type": "execute_result"
    }
   ],
   "source": [
    "DmuL, DmuR"
   ]
  },
  {
   "cell_type": "code",
   "execution_count": 54,
   "metadata": {},
   "outputs": [],
   "source": [
    "def Dmu_LL(idx):\n",
    "    return partial_mu_LL(idx) +  DmuL*LL(idx) \n",
    "def Dmu_LR(idx):\n",
    "    return partial_mu_LR(idx) + DmuR*LR(idx)"
   ]
  },
  {
   "cell_type": "code",
   "execution_count": 55,
   "metadata": {},
   "outputs": [
    {
     "data": {
      "text/latex": [
       "$\\displaystyle \\left( \\left[\\begin{matrix}\\frac{i B_{\\mu} g_{B-L} {\\nu_L^{\\prime}}_{i}}{2} - \\frac{i W^{3}_{L} g {\\nu_L^{\\prime}}_{i}}{2} - \\frac{i W^{+}_{L} g {\\ell_L^{\\prime}}_{i}}{2} + \\partial_{\\mu}{\\left({\\nu_L^{\\prime}}_{i} \\right)}\\\\\\frac{i B_{\\mu} g_{B-L} {\\ell_L^{\\prime}}_{i}}{2} + \\frac{i W^{3}_{L} g {\\ell_L^{\\prime}}_{i}}{2} - \\frac{i W^{-}_{L} g {\\nu_L^{\\prime}}_{i}}{2} + \\partial_{\\mu}{\\left({\\ell_L^{\\prime}}_{i} \\right)}\\end{matrix}\\right], \\  \\left[\\begin{matrix}\\frac{i B_{\\mu} g_{B-L} {\\nu_R^{\\prime}}_{j}}{2} - \\frac{i W^{3}_{R} g {\\nu_R^{\\prime}}_{j}}{2} - \\frac{i W^{+}_{R} g {\\ell_R^{\\prime}}_{j}}{2} + \\partial_{\\mu}{\\left({\\nu_R^{\\prime}}_{j} \\right)}\\\\\\frac{i B_{\\mu} g_{B-L} {\\ell_R^{\\prime}}_{j}}{2} + \\frac{i W^{3}_{R} g {\\ell_R^{\\prime}}_{j}}{2} - \\frac{i W^{-}_{R} g {\\nu_R^{\\prime}}_{j}}{2} + \\partial_{\\mu}{\\left({\\ell_R^{\\prime}}_{j} \\right)}\\end{matrix}\\right]\\right)$"
      ],
      "text/plain": [
       "⎛⎡ ⅈ⋅B_\\mu⋅g_{B-L}⋅\\nu_L^{\\prime}[i]   ⅈ⋅W_L__3⋅g⋅\\nu_L^{\\prime}[i]   ⅈ⋅W_L__+ ↪\n",
       "⎜⎢ ───────────────────────────────── - ──────────────────────────── - ──────── ↪\n",
       "⎜⎢                 2                                2                          ↪\n",
       "⎜⎢                                                                             ↪\n",
       "⎜⎢ⅈ⋅B_\\mu⋅g_{B-L}⋅\\ell_L^{\\prime}[i]   ⅈ⋅W_L__3⋅g⋅\\ell_L^{\\prime}[i]   ⅈ⋅W_L__ ↪\n",
       "⎜⎢────────────────────────────────── + ───────────────────────────── - ─────── ↪\n",
       "⎝⎣                2                                  2                         ↪\n",
       "\n",
       "↪ ⋅g⋅\\ell_L^{\\prime}[i]                                   ⎤  ⎡ ⅈ⋅B_\\mu⋅g_{B-L} ↪\n",
       "↪ ───────────────────── + \\partial_\\mu(\\nu_L^{\\prime}[i]) ⎥  ⎢ ─────────────── ↪\n",
       "↪       2                                                 ⎥  ⎢                 ↪\n",
       "↪                                                         ⎥, ⎢                 ↪\n",
       "↪ -⋅g⋅\\nu_L^{\\prime}[i]                                   ⎥  ⎢ⅈ⋅B_\\mu⋅g_{B-L}⋅ ↪\n",
       "↪ ───────────────────── + \\partial_\\mu(\\ell_L^{\\prime}[i])⎥  ⎢──────────────── ↪\n",
       "↪       2                                                 ⎦  ⎣                 ↪\n",
       "\n",
       "↪ ⋅\\nu_R^{\\prime}[j]   ⅈ⋅W_R__3⋅g⋅\\nu_R^{\\prime}[j]   ⅈ⋅W_R__+⋅g⋅\\ell_R^{\\prim ↪\n",
       "↪ ────────────────── - ──────────────────────────── - ──────────────────────── ↪\n",
       "↪  2                                2                               2          ↪\n",
       "↪                                                                              ↪\n",
       "↪ \\ell_R^{\\prime}[j]   ⅈ⋅W_R__3⋅g⋅\\ell_R^{\\prime}[j]   ⅈ⋅W_R__-⋅g⋅\\nu_R^{\\prim ↪\n",
       "↪ ────────────────── + ───────────────────────────── - ─────────────────────── ↪\n",
       "↪ 2                                  2                              2          ↪\n",
       "\n",
       "↪ e}[j]                                   ⎤⎞\n",
       "↪ ───── + \\partial_\\mu(\\nu_R^{\\prime}[j]) ⎥⎟\n",
       "↪                                         ⎥⎟\n",
       "↪                                         ⎥⎟\n",
       "↪ e}[j]                                   ⎥⎟\n",
       "↪ ───── + \\partial_\\mu(\\ell_R^{\\prime}[j])⎥⎟\n",
       "↪                                         ⎦⎠"
      ]
     },
     "execution_count": 55,
     "metadata": {},
     "output_type": "execute_result"
    }
   ],
   "source": [
    "Dmu_LL(i).applyfunc(lambda x:x.expand()), Dmu_LR(j).applyfunc(lambda x:x.expand())"
   ]
  },
  {
   "cell_type": "code",
   "execution_count": 56,
   "metadata": {},
   "outputs": [],
   "source": [
    "from Gauge_Higgs_senjanovic_HiggsDoublets import WLp, WRp, WLm, WRm"
   ]
  },
  {
   "cell_type": "code",
   "execution_count": 57,
   "metadata": {},
   "outputs": [],
   "source": [
    "conjugate_fields = {\n",
    "    conjugate(WLp):WLm,\n",
    "    conjugate(WLm):WLp,\n",
    "    conjugate(WRm):WRp,\n",
    "    conjugate(WRp):WRm,\n",
    "    #conjugate(chiL0): chiL0,\n",
    "    #conjugate(partial_mu(chiRp)): partial_mu(chiRm)\n",
    "}"
   ]
  },
  {
   "cell_type": "code",
   "execution_count": 58,
   "metadata": {},
   "outputs": [
    {
     "data": {
      "image/png": "[encoded data removed]",
      "text/latex": [
       "$\\displaystyle \\left\\{ \\overline{W^{+}_{L}} : W^{-}_{L}, \\  \\overline{W^{-}_{L}} : W^{+}_{L}, \\  \\overline{W^{+}_{R}} : W^{-}_{R}, \\  \\overline{W^{-}_{R}} : W^{+}_{R}\\right\\}$"
      ],
      "text/plain": [
       "⎧______          ______          ______          ______        ⎫\n",
       "⎨W_L__+: W_L__-, W_L__-: W_L__+, W_R__+: W_R__-, W_R__-: W_R__+⎬\n",
       "⎩                                                              ⎭"
      ]
     },
     "execution_count": 58,
     "metadata": {},
     "output_type": "execute_result"
    }
   ],
   "source": [
    "conjugate_fields"
   ]
  },
  {
   "cell_type": "code",
   "execution_count": 59,
   "metadata": {},
   "outputs": [
    {
     "data": {
      "image/png": "[encoded data removed]",
      "text/latex": [
       "$\\displaystyle \\left(- \\frac{i W^{+}_{L} g {\\ell_L^{\\prime}}_{i}}{2} + \\left(\\frac{i B_{\\mu} g_{B-L}}{2} - \\frac{i W^{3}_{L} g}{2}\\right) {\\nu_L^{\\prime}}_{i} + \\partial_{\\mu}{\\left({\\nu_L^{\\prime}}_{i} \\right)}\\right) \\overline{{\\nu_L^{\\prime}}_{i}} + \\left(- \\frac{i W^{-}_{L} g {\\nu_L^{\\prime}}_{i}}{2} + \\left(\\frac{i B_{\\mu} g_{B-L}}{2} + \\frac{i W^{3}_{L} g}{2}\\right) {\\ell_L^{\\prime}}_{i} + \\partial_{\\mu}{\\left({\\ell_L^{\\prime}}_{i} \\right)}\\right) \\overline{{\\ell_L^{\\prime}}_{i}}$"
      ],
      "text/plain": [
       "⎛  ⅈ⋅W_L__+⋅g⋅\\ell_L^{\\prime}[i]   ⎛ⅈ⋅B_\\mu⋅g_{B-L}   ⅈ⋅W_L__3⋅g⎞              ↪\n",
       "⎜- ───────────────────────────── + ⎜─────────────── - ──────────⎟⋅\\nu_L^{\\prim ↪\n",
       "⎝                2                 ⎝       2              2     ⎠              ↪\n",
       "\n",
       "↪                                        ⎞ _________________   ⎛  ⅈ⋅W_L__-⋅g⋅\\ ↪\n",
       "↪ e}[i] + \\partial_\\mu(\\nu_L^{\\prime}[i])⎟⋅\\nu_L^{\\prime}[i] + ⎜- ──────────── ↪\n",
       "↪                                        ⎠                     ⎝               ↪\n",
       "\n",
       "↪ nu_L^{\\prime}[i]   ⎛ⅈ⋅B_\\mu⋅g_{B-L}   ⅈ⋅W_L__3⋅g⎞                            ↪\n",
       "↪ ──────────────── + ⎜─────────────── + ──────────⎟⋅\\ell_L^{\\prime}[i] + \\part ↪\n",
       "↪  2                 ⎝       2              2     ⎠                            ↪\n",
       "\n",
       "↪                            ⎞ __________________\n",
       "↪ ial_\\mu(\\ell_L^{\\prime}[i])⎟⋅\\ell_L^{\\prime}[i]\n",
       "↪                            ⎠                   "
      ]
     },
     "execution_count": 59,
     "metadata": {},
     "output_type": "execute_result"
    }
   ],
   "source": [
    "def LL_Dmu_LL(idx):\n",
    "    return (Dagger(LL(idx))*Dmu_LL(idx))[0]\n",
    "LL_Dmu_LL(i)\n"
   ]
  },
  {
   "cell_type": "code",
   "execution_count": 60,
   "metadata": {},
   "outputs": [
    {
     "data": {
      "image/png": "[encoded data removed]",
      "text/latex": [
       "$\\displaystyle \\frac{i B_{\\mu} g_{B-L} \\overline{{\\ell_L^{\\prime}}_{i}} {\\ell_L^{\\prime}}_{i}}{2} + \\frac{i B_{\\mu} g_{B-L} \\overline{{\\nu_L^{\\prime}}_{i}} {\\nu_L^{\\prime}}_{i}}{2} + \\frac{i W^{3}_{L} g \\overline{{\\ell_L^{\\prime}}_{i}} {\\ell_L^{\\prime}}_{i}}{2} - \\frac{i W^{3}_{L} g \\overline{{\\nu_L^{\\prime}}_{i}} {\\nu_L^{\\prime}}_{i}}{2} - \\frac{i W^{+}_{L} g \\overline{{\\nu_L^{\\prime}}_{i}} {\\ell_L^{\\prime}}_{i}}{2} - \\frac{i W^{-}_{L} g \\overline{{\\ell_L^{\\prime}}_{i}} {\\nu_L^{\\prime}}_{i}}{2} + \\partial_{\\mu}{\\left({\\ell_L^{\\prime}}_{i} \\right)} \\overline{{\\ell_L^{\\prime}}_{i}} + \\partial_{\\mu}{\\left({\\nu_L^{\\prime}}_{i} \\right)} \\overline{{\\nu_L^{\\prime}}_{i}}$"
      ],
      "text/plain": [
       "                __________________                                      ______ ↪\n",
       "ⅈ⋅B_\\mu⋅g_{B-L}⋅\\ell_L^{\\prime}[i]⋅\\ell_L^{\\prime}[i]   ⅈ⋅B_\\mu⋅g_{B-L}⋅\\nu_L^ ↪\n",
       "───────────────────────────────────────────────────── + ────────────────────── ↪\n",
       "                          2                                                    ↪\n",
       "\n",
       "↪ ___________                                __________________                ↪\n",
       "↪ {\\prime}[i]⋅\\nu_L^{\\prime}[i]   ⅈ⋅W_L__3⋅g⋅\\ell_L^{\\prime}[i]⋅\\ell_L^{\\prime ↪\n",
       "↪ ───────────────────────────── + ──────────────────────────────────────────── ↪\n",
       "↪    2                                                   2                     ↪\n",
       "\n",
       "↪                   _________________                                _________ ↪\n",
       "↪ }[i]   ⅈ⋅W_L__3⋅g⋅\\nu_L^{\\prime}[i]⋅\\nu_L^{\\prime}[i]   ⅈ⋅W_L__+⋅g⋅\\nu_L^{\\p ↪\n",
       "↪ ──── - ────────────────────────────────────────────── - ──────────────────── ↪\n",
       "↪                              2                                               ↪\n",
       "\n",
       "↪ ________                                 __________________                  ↪\n",
       "↪ rime}[i]⋅\\ell_L^{\\prime}[i]   ⅈ⋅W_L__-⋅g⋅\\ell_L^{\\prime}[i]⋅\\nu_L^{\\prime}[i ↪\n",
       "↪ ─────────────────────────── - ────────────────────────────────────────────── ↪\n",
       "↪    2                                                 2                       ↪\n",
       "\n",
       "↪                                                                              ↪\n",
       "↪ ]                                    __________________                      ↪\n",
       "↪ ─ + \\partial_\\mu(\\ell_L^{\\prime}[i])⋅\\ell_L^{\\prime}[i] + \\partial_\\mu(\\nu_L ↪\n",
       "↪                                                                              ↪\n",
       "\n",
       "↪                                \n",
       "↪               _________________\n",
       "↪ ^{\\prime}[i])⋅\\nu_L^{\\prime}[i]\n",
       "↪                                "
      ]
     },
     "execution_count": 60,
     "metadata": {},
     "output_type": "execute_result"
    }
   ],
   "source": [
    "LL_Dmu_LL(i).expand()"
   ]
  },
  {
   "cell_type": "code",
   "execution_count": 61,
   "metadata": {},
   "outputs": [
    {
     "data": {
      "image/png": "[encoded data removed]",
      "text/latex": [
       "$\\displaystyle \\left(- \\frac{i W^{+}_{R} g {\\ell_R^{\\prime}}_{i}}{2} + \\left(\\frac{i B_{\\mu} g_{B-L}}{2} - \\frac{i W^{3}_{R} g}{2}\\right) {\\nu_R^{\\prime}}_{i} + \\partial_{\\mu}{\\left({\\nu_R^{\\prime}}_{i} \\right)}\\right) \\overline{{\\nu_R^{\\prime}}_{i}} + \\left(- \\frac{i W^{-}_{R} g {\\nu_R^{\\prime}}_{i}}{2} + \\left(\\frac{i B_{\\mu} g_{B-L}}{2} + \\frac{i W^{3}_{R} g}{2}\\right) {\\ell_R^{\\prime}}_{i} + \\partial_{\\mu}{\\left({\\ell_R^{\\prime}}_{i} \\right)}\\right) \\overline{{\\ell_R^{\\prime}}_{i}}$"
      ],
      "text/plain": [
       "⎛  ⅈ⋅W_R__+⋅g⋅\\ell_R^{\\prime}[i]   ⎛ⅈ⋅B_\\mu⋅g_{B-L}   ⅈ⋅W_R__3⋅g⎞              ↪\n",
       "⎜- ───────────────────────────── + ⎜─────────────── - ──────────⎟⋅\\nu_R^{\\prim ↪\n",
       "⎝                2                 ⎝       2              2     ⎠              ↪\n",
       "\n",
       "↪                                        ⎞ _________________   ⎛  ⅈ⋅W_R__-⋅g⋅\\ ↪\n",
       "↪ e}[i] + \\partial_\\mu(\\nu_R^{\\prime}[i])⎟⋅\\nu_R^{\\prime}[i] + ⎜- ──────────── ↪\n",
       "↪                                        ⎠                     ⎝               ↪\n",
       "\n",
       "↪ nu_R^{\\prime}[i]   ⎛ⅈ⋅B_\\mu⋅g_{B-L}   ⅈ⋅W_R__3⋅g⎞                            ↪\n",
       "↪ ──────────────── + ⎜─────────────── + ──────────⎟⋅\\ell_R^{\\prime}[i] + \\part ↪\n",
       "↪  2                 ⎝       2              2     ⎠                            ↪\n",
       "\n",
       "↪                            ⎞ __________________\n",
       "↪ ial_\\mu(\\ell_R^{\\prime}[i])⎟⋅\\ell_R^{\\prime}[i]\n",
       "↪                            ⎠                   "
      ]
     },
     "execution_count": 61,
     "metadata": {},
     "output_type": "execute_result"
    }
   ],
   "source": [
    "def LR_Dmu_LR(idx):\n",
    "    return (Dagger(LR(idx))*Dmu_LR(idx))[0]\n",
    "LR_Dmu_LR(i)"
   ]
  },
  {
   "cell_type": "code",
   "execution_count": 62,
   "metadata": {},
   "outputs": [
    {
     "data": {
      "image/png": "[encoded data removed]",
      "text/latex": [
       "$\\displaystyle \\frac{i B_{\\mu} g_{B-L} \\overline{{\\ell_R^{\\prime}}_{i}} {\\ell_R^{\\prime}}_{i}}{2} + \\frac{i B_{\\mu} g_{B-L} \\overline{{\\nu_R^{\\prime}}_{i}} {\\nu_R^{\\prime}}_{i}}{2} + \\frac{i W^{3}_{R} g \\overline{{\\ell_R^{\\prime}}_{i}} {\\ell_R^{\\prime}}_{i}}{2} - \\frac{i W^{3}_{R} g \\overline{{\\nu_R^{\\prime}}_{i}} {\\nu_R^{\\prime}}_{i}}{2} - \\frac{i W^{+}_{R} g \\overline{{\\nu_R^{\\prime}}_{i}} {\\ell_R^{\\prime}}_{i}}{2} - \\frac{i W^{-}_{R} g \\overline{{\\ell_R^{\\prime}}_{i}} {\\nu_R^{\\prime}}_{i}}{2} + \\partial_{\\mu}{\\left({\\ell_R^{\\prime}}_{i} \\right)} \\overline{{\\ell_R^{\\prime}}_{i}} + \\partial_{\\mu}{\\left({\\nu_R^{\\prime}}_{i} \\right)} \\overline{{\\nu_R^{\\prime}}_{i}}$"
      ],
      "text/plain": [
       "                __________________                                      ______ ↪\n",
       "ⅈ⋅B_\\mu⋅g_{B-L}⋅\\ell_R^{\\prime}[i]⋅\\ell_R^{\\prime}[i]   ⅈ⋅B_\\mu⋅g_{B-L}⋅\\nu_R^ ↪\n",
       "───────────────────────────────────────────────────── + ────────────────────── ↪\n",
       "                          2                                                    ↪\n",
       "\n",
       "↪ ___________                                __________________                ↪\n",
       "↪ {\\prime}[i]⋅\\nu_R^{\\prime}[i]   ⅈ⋅W_R__3⋅g⋅\\ell_R^{\\prime}[i]⋅\\ell_R^{\\prime ↪\n",
       "↪ ───────────────────────────── + ──────────────────────────────────────────── ↪\n",
       "↪    2                                                   2                     ↪\n",
       "\n",
       "↪                   _________________                                _________ ↪\n",
       "↪ }[i]   ⅈ⋅W_R__3⋅g⋅\\nu_R^{\\prime}[i]⋅\\nu_R^{\\prime}[i]   ⅈ⋅W_R__+⋅g⋅\\nu_R^{\\p ↪\n",
       "↪ ──── - ────────────────────────────────────────────── - ──────────────────── ↪\n",
       "↪                              2                                               ↪\n",
       "\n",
       "↪ ________                                 __________________                  ↪\n",
       "↪ rime}[i]⋅\\ell_R^{\\prime}[i]   ⅈ⋅W_R__-⋅g⋅\\ell_R^{\\prime}[i]⋅\\nu_R^{\\prime}[i ↪\n",
       "↪ ─────────────────────────── - ────────────────────────────────────────────── ↪\n",
       "↪    2                                                 2                       ↪\n",
       "\n",
       "↪                                                                              ↪\n",
       "↪ ]                                    __________________                      ↪\n",
       "↪ ─ + \\partial_\\mu(\\ell_R^{\\prime}[i])⋅\\ell_R^{\\prime}[i] + \\partial_\\mu(\\nu_R ↪\n",
       "↪                                                                              ↪\n",
       "\n",
       "↪                                \n",
       "↪               _________________\n",
       "↪ ^{\\prime}[i])⋅\\nu_R^{\\prime}[i]\n",
       "↪                                "
      ]
     },
     "execution_count": 62,
     "metadata": {},
     "output_type": "execute_result"
    }
   ],
   "source": [
    "LR_Dmu_LR(i).expand()"
   ]
  },
  {
   "cell_type": "markdown",
   "metadata": {},
   "source": [
    "## Kinetic Lagrangian of fermions"
   ]
  },
  {
   "cell_type": "code",
   "execution_count": 63,
   "metadata": {},
   "outputs": [],
   "source": [
    "gamma = symbols(r'\\gamma')"
   ]
  },
  {
   "cell_type": "code",
   "execution_count": 64,
   "metadata": {},
   "outputs": [
    {
     "data": {
      "image/png": "[encoded data removed]",
      "text/latex": [
       "$\\displaystyle i \\gamma \\left(\\left(- \\frac{i W^{+}_{L} g {\\ell_L^{\\prime}}_{i}}{2} + \\left(\\frac{i B_{\\mu} g_{B-L}}{2} - \\frac{i W^{3}_{L} g}{2}\\right) {\\nu_L^{\\prime}}_{i} + \\partial_{\\mu}{\\left({\\nu_L^{\\prime}}_{i} \\right)}\\right) \\overline{{\\nu_L^{\\prime}}_{i}} + \\left(- \\frac{i W^{-}_{L} g {\\nu_L^{\\prime}}_{i}}{2} + \\left(\\frac{i B_{\\mu} g_{B-L}}{2} + \\frac{i W^{3}_{L} g}{2}\\right) {\\ell_L^{\\prime}}_{i} + \\partial_{\\mu}{\\left({\\ell_L^{\\prime}}_{i} \\right)}\\right) \\overline{{\\ell_L^{\\prime}}_{i}}\\right) + i \\gamma \\left(\\left(- \\frac{i W^{+}_{R} g {\\ell_R^{\\prime}}_{i}}{2} + \\left(\\frac{i B_{\\mu} g_{B-L}}{2} - \\frac{i W^{3}_{R} g}{2}\\right) {\\nu_R^{\\prime}}_{i} + \\partial_{\\mu}{\\left({\\nu_R^{\\prime}}_{i} \\right)}\\right) \\overline{{\\nu_R^{\\prime}}_{i}} + \\left(- \\frac{i W^{-}_{R} g {\\nu_R^{\\prime}}_{i}}{2} + \\left(\\frac{i B_{\\mu} g_{B-L}}{2} + \\frac{i W^{3}_{R} g}{2}\\right) {\\ell_R^{\\prime}}_{i} + \\partial_{\\mu}{\\left({\\ell_R^{\\prime}}_{i} \\right)}\\right) \\overline{{\\ell_R^{\\prime}}_{i}}\\right)$"
      ],
      "text/plain": [
       "         ⎛⎛  ⅈ⋅W_L__+⋅g⋅\\ell_L^{\\prime}[i]   ⎛ⅈ⋅B_\\mu⋅g_{B-L}   ⅈ⋅W_L__3⋅g⎞    ↪\n",
       "ⅈ⋅\\gamma⋅⎜⎜- ───────────────────────────── + ⎜─────────────── - ──────────⎟⋅\\n ↪\n",
       "         ⎝⎝                2                 ⎝       2              2     ⎠    ↪\n",
       "\n",
       "↪                                                  ⎞ _________________   ⎛  ⅈ⋅ ↪\n",
       "↪ u_L^{\\prime}[i] + \\partial_\\mu(\\nu_L^{\\prime}[i])⎟⋅\\nu_L^{\\prime}[i] + ⎜- ── ↪\n",
       "↪                                                  ⎠                     ⎝     ↪\n",
       "\n",
       "↪ W_L__-⋅g⋅\\nu_L^{\\prime}[i]   ⎛ⅈ⋅B_\\mu⋅g_{B-L}   ⅈ⋅W_L__3⋅g⎞                  ↪\n",
       "↪ ────────────────────────── + ⎜─────────────── + ──────────⎟⋅\\ell_L^{\\prime}[ ↪\n",
       "↪            2                 ⎝       2              2     ⎠                  ↪\n",
       "\n",
       "↪                                      ⎞ __________________⎞            ⎛⎛  ⅈ⋅ ↪\n",
       "↪ i] + \\partial_\\mu(\\ell_L^{\\prime}[i])⎟⋅\\ell_L^{\\prime}[i]⎟ + ⅈ⋅\\gamma⋅⎜⎜- ── ↪\n",
       "↪                                      ⎠                   ⎠            ⎝⎝     ↪\n",
       "\n",
       "↪ W_R__+⋅g⋅\\ell_R^{\\prime}[i]   ⎛ⅈ⋅B_\\mu⋅g_{B-L}   ⅈ⋅W_R__3⋅g⎞                 ↪\n",
       "↪ ─────────────────────────── + ⎜─────────────── - ──────────⎟⋅\\nu_R^{\\prime}[ ↪\n",
       "↪             2                 ⎝       2              2     ⎠                 ↪\n",
       "\n",
       "↪                                     ⎞ _________________   ⎛  ⅈ⋅W_R__-⋅g⋅\\nu_ ↪\n",
       "↪ i] + \\partial_\\mu(\\nu_R^{\\prime}[i])⎟⋅\\nu_R^{\\prime}[i] + ⎜- ─────────────── ↪\n",
       "↪                                     ⎠                     ⎝               2  ↪\n",
       "\n",
       "↪ R^{\\prime}[i]   ⎛ⅈ⋅B_\\mu⋅g_{B-L}   ⅈ⋅W_R__3⋅g⎞                               ↪\n",
       "↪ ───────────── + ⎜─────────────── + ──────────⎟⋅\\ell_R^{\\prime}[i] + \\partial ↪\n",
       "↪                 ⎝       2              2     ⎠                               ↪\n",
       "\n",
       "↪                         ⎞ __________________⎞\n",
       "↪ _\\mu(\\ell_R^{\\prime}[i])⎟⋅\\ell_R^{\\prime}[i]⎟\n",
       "↪                         ⎠                   ⎠"
      ]
     },
     "execution_count": 64,
     "metadata": {},
     "output_type": "execute_result"
    }
   ],
   "source": [
    "Lag_leptons = I*gamma*LL_Dmu_LL(i) + I*gamma*LR_Dmu_LR(i)\n",
    "Lag_leptons"
   ]
  },
  {
   "cell_type": "code",
   "execution_count": 65,
   "metadata": {},
   "outputs": [
    {
     "data": {
      "image/png": "[encoded data removed]",
      "text/latex": [
       "$\\displaystyle - \\frac{B_{\\mu} \\gamma g_{B-L} \\overline{{\\ell_L^{\\prime}}_{i}} {\\ell_L^{\\prime}}_{i}}{2} - \\frac{B_{\\mu} \\gamma g_{B-L} \\overline{{\\ell_R^{\\prime}}_{i}} {\\ell_R^{\\prime}}_{i}}{2} - \\frac{B_{\\mu} \\gamma g_{B-L} \\overline{{\\nu_L^{\\prime}}_{i}} {\\nu_L^{\\prime}}_{i}}{2} - \\frac{B_{\\mu} \\gamma g_{B-L} \\overline{{\\nu_R^{\\prime}}_{i}} {\\nu_R^{\\prime}}_{i}}{2} - \\frac{W^{3}_{L} \\gamma g \\overline{{\\ell_L^{\\prime}}_{i}} {\\ell_L^{\\prime}}_{i}}{2} + \\frac{W^{3}_{L} \\gamma g \\overline{{\\nu_L^{\\prime}}_{i}} {\\nu_L^{\\prime}}_{i}}{2} - \\frac{W^{3}_{R} \\gamma g \\overline{{\\ell_R^{\\prime}}_{i}} {\\ell_R^{\\prime}}_{i}}{2} + \\frac{W^{3}_{R} \\gamma g \\overline{{\\nu_R^{\\prime}}_{i}} {\\nu_R^{\\prime}}_{i}}{2} + \\frac{W^{+}_{L} \\gamma g \\overline{{\\nu_L^{\\prime}}_{i}} {\\ell_L^{\\prime}}_{i}}{2} + \\frac{W^{-}_{L} \\gamma g \\overline{{\\ell_L^{\\prime}}_{i}} {\\nu_L^{\\prime}}_{i}}{2} + \\frac{W^{+}_{R} \\gamma g \\overline{{\\nu_R^{\\prime}}_{i}} {\\ell_R^{\\prime}}_{i}}{2} + \\frac{W^{-}_{R} \\gamma g \\overline{{\\ell_R^{\\prime}}_{i}} {\\nu_R^{\\prime}}_{i}}{2} + i \\gamma \\partial_{\\mu}{\\left({\\ell_L^{\\prime}}_{i} \\right)} \\overline{{\\ell_L^{\\prime}}_{i}} + i \\gamma \\partial_{\\mu}{\\left({\\ell_R^{\\prime}}_{i} \\right)} \\overline{{\\ell_R^{\\prime}}_{i}} + i \\gamma \\partial_{\\mu}{\\left({\\nu_L^{\\prime}}_{i} \\right)} \\overline{{\\nu_L^{\\prime}}_{i}} + i \\gamma \\partial_{\\mu}{\\left({\\nu_R^{\\prime}}_{i} \\right)} \\overline{{\\nu_R^{\\prime}}_{i}}$"
      ],
      "text/plain": [
       "                       __________________                                      ↪\n",
       "  B_\\mu⋅\\gamma⋅g_{B-L}⋅\\ell_L^{\\prime}[i]⋅\\ell_L^{\\prime}[i]   B_\\mu⋅\\gamma⋅g_ ↪\n",
       "- ────────────────────────────────────────────────────────── - ─────────────── ↪\n",
       "                              2                                                ↪\n",
       "\n",
       "↪       __________________                                           _________ ↪\n",
       "↪ {B-L}⋅\\ell_R^{\\prime}[i]⋅\\ell_R^{\\prime}[i]   B_\\mu⋅\\gamma⋅g_{B-L}⋅\\nu_L^{\\p ↪\n",
       "↪ ─────────────────────────────────────────── - ────────────────────────────── ↪\n",
       "↪              2                                                           2   ↪\n",
       "\n",
       "↪ ________                                          _________________          ↪\n",
       "↪ rime}[i]⋅\\nu_L^{\\prime}[i]   B_\\mu⋅\\gamma⋅g_{B-L}⋅\\nu_R^{\\prime}[i]⋅\\nu_R^{\\ ↪\n",
       "↪ ────────────────────────── - ─────────────────────────────────────────────── ↪\n",
       "↪                                                         2                    ↪\n",
       "\n",
       "↪                             __________________                               ↪\n",
       "↪ prime}[i]   W_L__3⋅\\gamma⋅g⋅\\ell_L^{\\prime}[i]⋅\\ell_L^{\\prime}[i]   W_L__3⋅\\ ↪\n",
       "↪ ───────── - ───────────────────────────────────────────────────── + ──────── ↪\n",
       "↪                                       2                                      ↪\n",
       "\n",
       "↪         _________________                                     ______________ ↪\n",
       "↪ gamma⋅g⋅\\nu_L^{\\prime}[i]⋅\\nu_L^{\\prime}[i]   W_R__3⋅\\gamma⋅g⋅\\ell_R^{\\prime ↪\n",
       "↪ ─────────────────────────────────────────── - ────────────────────────────── ↪\n",
       "↪                  2                                                      2    ↪\n",
       "\n",
       "↪ ____                                      _________________                  ↪\n",
       "↪ }[i]⋅\\ell_R^{\\prime}[i]   W_R__3⋅\\gamma⋅g⋅\\nu_R^{\\prime}[i]⋅\\nu_R^{\\prime}[i ↪\n",
       "↪ ─────────────────────── + ────────────────────────────────────────────────── ↪\n",
       "↪                                                    2                         ↪\n",
       "\n",
       "↪                     _________________                                      _ ↪\n",
       "↪ ]   W_L__+⋅\\gamma⋅g⋅\\nu_L^{\\prime}[i]⋅\\ell_L^{\\prime}[i]   W_L__-⋅\\gamma⋅g⋅\\ ↪\n",
       "↪ ─ + ──────────────────────────────────────────────────── + ───────────────── ↪\n",
       "↪                              2                                               ↪\n",
       "\n",
       "↪ _________________                                     _________________      ↪\n",
       "↪ ell_L^{\\prime}[i]⋅\\nu_L^{\\prime}[i]   W_R__+⋅\\gamma⋅g⋅\\nu_R^{\\prime}[i]⋅\\ell ↪\n",
       "↪ ─────────────────────────────────── + ────────────────────────────────────── ↪\n",
       "↪         2                                                      2             ↪\n",
       "\n",
       "↪                                  __________________                          ↪\n",
       "↪ _R^{\\prime}[i]   W_R__-⋅\\gamma⋅g⋅\\ell_R^{\\prime}[i]⋅\\nu_R^{\\prime}[i]        ↪\n",
       "↪ ────────────── + ──────────────────────────────────────────────────── + ⅈ⋅\\g ↪\n",
       "↪                                           2                                  ↪\n",
       "\n",
       "↪                                                                              ↪\n",
       "↪                                       __________________                     ↪\n",
       "↪ amma⋅\\partial_\\mu(\\ell_L^{\\prime}[i])⋅\\ell_L^{\\prime}[i] + ⅈ⋅\\gamma⋅\\partial ↪\n",
       "↪                                                                              ↪\n",
       "\n",
       "↪                                                                              ↪\n",
       "↪                          __________________                                  ↪\n",
       "↪ _\\mu(\\ell_R^{\\prime}[i])⋅\\ell_R^{\\prime}[i] + ⅈ⋅\\gamma⋅\\partial_\\mu(\\nu_L^{\\ ↪\n",
       "↪                                                                              ↪\n",
       "\n",
       "↪                                                                              ↪\n",
       "↪            _________________                                            ____ ↪\n",
       "↪ prime}[i])⋅\\nu_L^{\\prime}[i] + ⅈ⋅\\gamma⋅\\partial_\\mu(\\nu_R^{\\prime}[i])⋅\\nu_ ↪\n",
       "↪                                                                              ↪\n",
       "\n",
       "↪              \n",
       "↪ _____________\n",
       "↪ R^{\\prime}[i]\n",
       "↪              "
      ]
     },
     "execution_count": 65,
     "metadata": {},
     "output_type": "execute_result"
    }
   ],
   "source": [
    "Lag_leptons.expand()"
   ]
  },
  {
   "cell_type": "code",
   "execution_count": 66,
   "metadata": {},
   "outputs": [],
   "source": [
    "from symbolic_tools import PL, PR"
   ]
  },
  {
   "cell_type": "code",
   "execution_count": 67,
   "metadata": {},
   "outputs": [],
   "source": [
    "from Gauge_Higgs_senjanovic_HiggsDoublets import change_charged_bosons_approx, change_neutral_bosons_approx\n",
    "from Gauge_Higgs_senjanovic_HiggsDoublets import W1p, W1m, W2p, W2m"
   ]
  },
  {
   "cell_type": "code",
   "execution_count": 68,
   "metadata": {},
   "outputs": [],
   "source": [
    "#lL = IndexedBase(r'\\ell_L')\n",
    "#lR = IndexedBase(r'\\ell_R')\n",
    "#nuL = IndexedBase(r'\\nu_L')\n",
    "#nuR = IndexedBase(r'\\nu_R')"
   ]
  },
  {
   "cell_type": "code",
   "execution_count": 69,
   "metadata": {},
   "outputs": [],
   "source": [
    "#conjugate(nuL[i])*PL"
   ]
  },
  {
   "cell_type": "code",
   "execution_count": 70,
   "metadata": {},
   "outputs": [],
   "source": [
    "#changes_chiral_fermions = {\n",
    "#    nuLp[i]:PL*nuL[i],\n",
    "#    conjugate(nuLp[i]): conjugate(nuL[i])*PR,\n",
    "#    nuRp[i]:PR*nuR[i],\n",
    "#    conjugate(nuRp[i]): conjugate(nuR[i])*PL,\n",
    "#    lLp[i]:PL*lL[i],\n",
    "#    conjugate(lLp[i]): conjugate(lL[i])*PR,\n",
    "#    lRp[i]:PR*lR[i],\n",
    "#    conjugate(lRp[i]): conjugate(lR[i])*PL\n",
    "#}\n",
    "#changes_chiral_fermions"
   ]
  },
  {
   "cell_type": "code",
   "execution_count": 71,
   "metadata": {},
   "outputs": [],
   "source": [
    "from sympy import sin, cos, sqrt, factor\n",
    "from Gauge_Higgs_senjanovic_HiggsDoublets import thw, Z1, Z2"
   ]
  },
  {
   "cell_type": "code",
   "execution_count": 72,
   "metadata": {},
   "outputs": [
    {
     "data": {
      "image/png": "[encoded data removed]",
      "text/latex": [
       "$\\displaystyle \\left\\{ g \\sin{\\left(\\theta_{W} \\right)} : e, \\  g_{B-L} \\sqrt{\\cos{\\left(2 \\theta_{W} \\right)}} : e\\right\\}$"
      ],
      "text/plain": [
       "⎧                              _________________   ⎫\n",
       "⎨g⋅sin(\\theta_W): e, g_{B-L}⋅╲╱ cos(2⋅\\theta_W) : e⎬\n",
       "⎩                                                  ⎭"
      ]
     },
     "execution_count": 72,
     "metadata": {},
     "output_type": "execute_result"
    }
   ],
   "source": [
    "e = symbols('e', positive=True)\n",
    "e_changes = {\n",
    "    g*sin(thw):e,\n",
    "    gBL*sqrt(cos(2*thw)):e\n",
    "}\n",
    "e_changes"
   ]
  },
  {
   "cell_type": "code",
   "execution_count": 73,
   "metadata": {},
   "outputs": [
    {
     "data": {
      "image/png": "[encoded data removed]",
      "text/latex": [
       "$\\displaystyle - A \\gamma e \\overline{{\\ell_L^{\\prime}}_{i}} {\\ell_L^{\\prime}}_{i} - A \\gamma e \\overline{{\\ell_R^{\\prime}}_{i}} {\\ell_R^{\\prime}}_{i} + \\frac{W^{+}_{1} \\gamma g \\overline{{\\nu_L^{\\prime}}_{i}} {\\ell_L^{\\prime}}_{i}}{2} + \\frac{W^{-}_{1} \\gamma g \\overline{{\\ell_L^{\\prime}}_{i}} {\\nu_L^{\\prime}}_{i}}{2} + \\frac{W^{+}_{2} \\gamma g \\overline{{\\nu_R^{\\prime}}_{i}} {\\ell_R^{\\prime}}_{i}}{2} + \\frac{W^{-}_{2} \\gamma g \\overline{{\\ell_R^{\\prime}}_{i}} {\\nu_R^{\\prime}}_{i}}{2} - \\frac{Z_{1} \\gamma e \\tan{\\left(\\theta_{W} \\right)} \\overline{{\\ell_L^{\\prime}}_{i}} {\\ell_L^{\\prime}}_{i}}{2} - Z_{1} \\gamma e \\tan{\\left(\\theta_{W} \\right)} \\overline{{\\ell_R^{\\prime}}_{i}} {\\ell_R^{\\prime}}_{i} - \\frac{Z_{1} \\gamma e \\tan{\\left(\\theta_{W} \\right)} \\overline{{\\nu_L^{\\prime}}_{i}} {\\nu_L^{\\prime}}_{i}}{2} + \\frac{Z_{1} \\gamma g \\cos{\\left(\\theta_{W} \\right)} \\overline{{\\ell_L^{\\prime}}_{i}} {\\ell_L^{\\prime}}_{i}}{2} - \\frac{Z_{1} \\gamma g \\cos{\\left(\\theta_{W} \\right)} \\overline{{\\nu_L^{\\prime}}_{i}} {\\nu_L^{\\prime}}_{i}}{2} + \\frac{Z_{2} \\gamma g \\sqrt{\\cos{\\left(2 \\theta_{W} \\right)}} \\overline{{\\ell_R^{\\prime}}_{i}} {\\ell_R^{\\prime}}_{i}}{2 \\cos{\\left(\\theta_{W} \\right)}} - \\frac{Z_{2} \\gamma g \\sqrt{\\cos{\\left(2 \\theta_{W} \\right)}} \\overline{{\\nu_R^{\\prime}}_{i}} {\\nu_R^{\\prime}}_{i}}{2 \\cos{\\left(\\theta_{W} \\right)}} - \\frac{Z_{2} \\gamma g_{B-L} \\tan{\\left(\\theta_{W} \\right)} \\overline{{\\ell_L^{\\prime}}_{i}} {\\ell_L^{\\prime}}_{i}}{2} - \\frac{Z_{2} \\gamma g_{B-L} \\tan{\\left(\\theta_{W} \\right)} \\overline{{\\ell_R^{\\prime}}_{i}} {\\ell_R^{\\prime}}_{i}}{2} - \\frac{Z_{2} \\gamma g_{B-L} \\tan{\\left(\\theta_{W} \\right)} \\overline{{\\nu_L^{\\prime}}_{i}} {\\nu_L^{\\prime}}_{i}}{2} - \\frac{Z_{2} \\gamma g_{B-L} \\tan{\\left(\\theta_{W} \\right)} \\overline{{\\nu_R^{\\prime}}_{i}} {\\nu_R^{\\prime}}_{i}}{2} + i \\gamma \\partial_{\\mu}{\\left({\\ell_L^{\\prime}}_{i} \\right)} \\overline{{\\ell_L^{\\prime}}_{i}} + i \\gamma \\partial_{\\mu}{\\left({\\ell_R^{\\prime}}_{i} \\right)} \\overline{{\\ell_R^{\\prime}}_{i}} + i \\gamma \\partial_{\\mu}{\\left({\\nu_L^{\\prime}}_{i} \\right)} \\overline{{\\nu_L^{\\prime}}_{i}} + i \\gamma \\partial_{\\mu}{\\left({\\nu_R^{\\prime}}_{i} \\right)} \\overline{{\\nu_R^{\\prime}}_{i}}$"
      ],
      "text/plain": [
       "                                                                               ↪\n",
       "             __________________                                 ______________ ↪\n",
       "- A⋅\\gamma⋅e⋅\\ell_L^{\\prime}[i]⋅\\ell_L^{\\prime}[i] - A⋅\\gamma⋅e⋅\\ell_R^{\\prime ↪\n",
       "                                                                               ↪\n",
       "\n",
       "↪                                        _________________                     ↪\n",
       "↪ ____                      W⁺₁⋅\\gamma⋅g⋅\\nu_L^{\\prime}[i]⋅\\ell_L^{\\prime}[i]  ↪\n",
       "↪ }[i]⋅\\ell_R^{\\prime}[i] + ─────────────────────────────────────────────────  ↪\n",
       "↪                                                   2                          ↪\n",
       "\n",
       "↪                __________________                                  _________ ↪\n",
       "↪   W⁻₁⋅\\gamma⋅g⋅\\ell_L^{\\prime}[i]⋅\\nu_L^{\\prime}[i]   W⁺₂⋅\\gamma⋅g⋅\\nu_R^{\\p ↪\n",
       "↪ + ───────────────────────────────────────────────── + ────────────────────── ↪\n",
       "↪                           2                                                  ↪\n",
       "\n",
       "↪ ________                                   __________________                ↪\n",
       "↪ rime}[i]⋅\\ell_R^{\\prime}[i]   W⁻₂⋅\\gamma⋅g⋅\\ell_R^{\\prime}[i]⋅\\nu_R^{\\prime} ↪\n",
       "↪ ─────────────────────────── + ────────────────────────────────────────────── ↪\n",
       "↪   2                                                   2                      ↪\n",
       "\n",
       "↪                                 __________________                           ↪\n",
       "↪ [i]   Z₁⋅\\gamma⋅e⋅tan(\\theta_W)⋅\\ell_L^{\\prime}[i]⋅\\ell_L^{\\prime}[i]        ↪\n",
       "↪ ─── - ─────────────────────────────────────────────────────────────── - Z₁⋅\\ ↪\n",
       "↪                                      2                                       ↪\n",
       "\n",
       "↪                                                                              ↪\n",
       "↪                       __________________                      Z₁⋅\\gamma⋅e⋅ta ↪\n",
       "↪ gamma⋅e⋅tan(\\theta_W)⋅\\ell_R^{\\prime}[i]⋅\\ell_R^{\\prime}[i] - ────────────── ↪\n",
       "↪                                                                              ↪\n",
       "\n",
       "↪             _________________                                                ↪\n",
       "↪ n(\\theta_W)⋅\\nu_L^{\\prime}[i]⋅\\nu_L^{\\prime}[i]   Z₁⋅\\gamma⋅g⋅cos(\\theta_W)⋅ ↪\n",
       "↪ ─────────────────────────────────────────────── + ────────────────────────── ↪\n",
       "↪                 2                                                            ↪\n",
       "\n",
       "↪ __________________                                                __________ ↪\n",
       "↪ \\ell_L^{\\prime}[i]⋅\\ell_L^{\\prime}[i]   Z₁⋅\\gamma⋅g⋅cos(\\theta_W)⋅\\nu_L^{\\pr ↪\n",
       "↪ ───────────────────────────────────── - ──────────────────────────────────── ↪\n",
       "↪      2                                                                2      ↪\n",
       "\n",
       "↪ _______                                   _________________ ________________ ↪\n",
       "↪ ime}[i]⋅\\nu_L^{\\prime}[i]   Z₂⋅\\gamma⋅g⋅╲╱ cos(2⋅\\theta_W) ⋅\\ell_R^{\\prime}[ ↪\n",
       "↪ ───────────────────────── + ──────────────────────────────────────────────── ↪\n",
       "↪                                                        2⋅cos(\\theta_W)       ↪\n",
       "\n",
       "↪ __                                    _________________ _________________    ↪\n",
       "↪ i]⋅\\ell_R^{\\prime}[i]   Z₂⋅\\gamma⋅g⋅╲╱ cos(2⋅\\theta_W) ⋅\\nu_R^{\\prime}[i]⋅\\n ↪\n",
       "↪ ───────────────────── - ──────────────────────────────────────────────────── ↪\n",
       "↪                                                   2⋅cos(\\theta_W)            ↪\n",
       "\n",
       "↪                                                   __________________         ↪\n",
       "↪ u_R^{\\prime}[i]   Z₂⋅\\gamma⋅g_{B-L}⋅tan(\\theta_W)⋅\\ell_L^{\\prime}[i]⋅\\ell_L^ ↪\n",
       "↪ ─────────────── - ────────────────────────────────────────────────────────── ↪\n",
       "↪                                                     2                        ↪\n",
       "\n",
       "↪                                               __________________             ↪\n",
       "↪ {\\prime}[i]   Z₂⋅\\gamma⋅g_{B-L}⋅tan(\\theta_W)⋅\\ell_R^{\\prime}[i]⋅\\ell_R^{\\pr ↪\n",
       "↪ ─────────── - ────────────────────────────────────────────────────────────── ↪\n",
       "↪                                                 2                            ↪\n",
       "\n",
       "↪                                           _________________                  ↪\n",
       "↪ ime}[i]   Z₂⋅\\gamma⋅g_{B-L}⋅tan(\\theta_W)⋅\\nu_L^{\\prime}[i]⋅\\nu_L^{\\prime}[i ↪\n",
       "↪ ─────── - ────────────────────────────────────────────────────────────────── ↪\n",
       "↪                                            2                                 ↪\n",
       "\n",
       "↪                                     _________________                        ↪\n",
       "↪ ]   Z₂⋅\\gamma⋅g_{B-L}⋅tan(\\theta_W)⋅\\nu_R^{\\prime}[i]⋅\\nu_R^{\\prime}[i]      ↪\n",
       "↪ ─ - ─────────────────────────────────────────────────────────────────── + ⅈ⋅ ↪\n",
       "↪                                      2                                       ↪\n",
       "\n",
       "↪                                                                              ↪\n",
       "↪                                         __________________                   ↪\n",
       "↪ \\gamma⋅\\partial_\\mu(\\ell_L^{\\prime}[i])⋅\\ell_L^{\\prime}[i] + ⅈ⋅\\gamma⋅\\parti ↪\n",
       "↪                                                                              ↪\n",
       "\n",
       "↪                                                                              ↪\n",
       "↪                            __________________                                ↪\n",
       "↪ al_\\mu(\\ell_R^{\\prime}[i])⋅\\ell_R^{\\prime}[i] + ⅈ⋅\\gamma⋅\\partial_\\mu(\\nu_L^ ↪\n",
       "↪                                                                              ↪\n",
       "\n",
       "↪                                                                              ↪\n",
       "↪              _________________                                            __ ↪\n",
       "↪ {\\prime}[i])⋅\\nu_L^{\\prime}[i] + ⅈ⋅\\gamma⋅\\partial_\\mu(\\nu_R^{\\prime}[i])⋅\\n ↪\n",
       "↪                                                                              ↪\n",
       "\n",
       "↪                \n",
       "↪ _______________\n",
       "↪ u_R^{\\prime}[i]\n",
       "↪                "
      ]
     },
     "execution_count": 73,
     "metadata": {},
     "output_type": "execute_result"
    }
   ],
   "source": [
    "Lag_leptons_phys1 = Lag_leptons.subs(change_charged_bosons_approx).subs(change_neutral_bosons_approx).expand().subs(e_changes)\n",
    "Lag_leptons_phys1"
   ]
  },
  {
   "cell_type": "code",
   "execution_count": 74,
   "metadata": {},
   "outputs": [
    {
     "data": {
      "image/png": "[encoded data removed]",
      "text/latex": [
       "$\\displaystyle Z_{1} \\left(- \\gamma e \\tan{\\left(\\theta_{W} \\right)} \\overline{{\\ell_R^{\\prime}}_{i}} {\\ell_R^{\\prime}}_{i} - \\frac{\\gamma \\left(e \\tan{\\left(\\theta_{W} \\right)} - g \\cos{\\left(\\theta_{W} \\right)}\\right) \\overline{{\\ell_L^{\\prime}}_{i}} {\\ell_L^{\\prime}}_{i}}{2} - \\frac{\\gamma \\left(e \\tan{\\left(\\theta_{W} \\right)} + g \\cos{\\left(\\theta_{W} \\right)}\\right) \\overline{{\\nu_L^{\\prime}}_{i}} {\\nu_L^{\\prime}}_{i}}{2}\\right)$"
      ],
      "text/plain": [
       "   ⎛                                                                           ↪\n",
       "   ⎜                         __________________                      \\gamma⋅(e ↪\n",
       "Z₁⋅⎜- \\gamma⋅e⋅tan(\\theta_W)⋅\\ell_R^{\\prime}[i]⋅\\ell_R^{\\prime}[i] - ───────── ↪\n",
       "   ⎝                                                                           ↪\n",
       "\n",
       "↪                                   __________________                         ↪\n",
       "↪ ⋅tan(\\theta_W) - g⋅cos(\\theta_W))⋅\\ell_L^{\\prime}[i]⋅\\ell_L^{\\prime}[i]   \\g ↪\n",
       "↪ ─────────────────────────────────────────────────────────────────────── - ── ↪\n",
       "↪                               2                                              ↪\n",
       "\n",
       "↪                                          _________________                   ↪\n",
       "↪ amma⋅(e⋅tan(\\theta_W) + g⋅cos(\\theta_W))⋅\\nu_L^{\\prime}[i]⋅\\nu_L^{\\prime}[i] ↪\n",
       "↪ ──────────────────────────────────────────────────────────────────────────── ↪\n",
       "↪                                     2                                        ↪\n",
       "\n",
       "↪ ⎞\n",
       "↪ ⎟\n",
       "↪ ⎟\n",
       "↪ ⎠"
      ]
     },
     "execution_count": 74,
     "metadata": {},
     "output_type": "execute_result"
    }
   ],
   "source": [
    "Z1*(Lag_leptons_phys1.coeff(Z1).collect([conjugate(lLp[i])*lLp[i], conjugate(nuLp[i])*nuLp[i]], factor))"
   ]
  },
  {
   "cell_type": "code",
   "execution_count": 75,
   "metadata": {},
   "outputs": [
    {
     "data": {
      "image/png": "[encoded data removed]",
      "text/latex": [
       "$\\displaystyle Z_{2} \\left(- \\frac{\\gamma e \\tan{\\left(\\theta_{W} \\right)} \\overline{{\\ell_L^{\\prime}}_{i}} {\\ell_L^{\\prime}}_{i}}{2 \\sqrt{\\cos{\\left(2 \\theta_{W} \\right)}}} - \\frac{\\gamma e \\tan{\\left(\\theta_{W} \\right)} \\overline{{\\nu_L^{\\prime}}_{i}} {\\nu_L^{\\prime}}_{i}}{2 \\sqrt{\\cos{\\left(2 \\theta_{W} \\right)}}} - \\frac{\\gamma \\left(e \\cos{\\left(\\theta_{W} \\right)} \\tan{\\left(\\theta_{W} \\right)} - g \\cos{\\left(2 \\theta_{W} \\right)}\\right) \\overline{{\\ell_R^{\\prime}}_{i}} {\\ell_R^{\\prime}}_{i}}{2 \\cos{\\left(\\theta_{W} \\right)} \\sqrt{\\cos{\\left(2 \\theta_{W} \\right)}}} - \\frac{\\gamma \\left(e \\cos{\\left(\\theta_{W} \\right)} \\tan{\\left(\\theta_{W} \\right)} + g \\cos{\\left(2 \\theta_{W} \\right)}\\right) \\overline{{\\nu_R^{\\prime}}_{i}} {\\nu_R^{\\prime}}_{i}}{2 \\cos{\\left(\\theta_{W} \\right)} \\sqrt{\\cos{\\left(2 \\theta_{W} \\right)}}}\\right)$"
      ],
      "text/plain": [
       "   ⎛                         __________________                                ↪\n",
       "   ⎜  \\gamma⋅e⋅tan(\\theta_W)⋅\\ell_L^{\\prime}[i]⋅\\ell_L^{\\prime}[i]   \\gamma⋅e⋅ ↪\n",
       "Z₂⋅⎜- ──────────────────────────────────────────────────────────── - ───────── ↪\n",
       "   ⎜                         _________________                                 ↪\n",
       "   ⎝                     2⋅╲╱ cos(2⋅\\theta_W)                                  ↪\n",
       "\n",
       "↪               _________________                                              ↪\n",
       "↪ tan(\\theta_W)⋅\\nu_L^{\\prime}[i]⋅\\nu_L^{\\prime}[i]   \\gamma⋅(e⋅cos(\\theta_W)⋅ ↪\n",
       "↪ ───────────────────────────────────────────────── - ──────────────────────── ↪\n",
       "↪              _________________                                               ↪\n",
       "↪          2⋅╲╱ cos(2⋅\\theta_W)                                                ↪\n",
       "\n",
       "↪                                    __________________                        ↪\n",
       "↪ tan(\\theta_W) - g⋅cos(2⋅\\theta_W))⋅\\ell_R^{\\prime}[i]⋅\\ell_R^{\\prime}[i]   \\ ↪\n",
       "↪ ──────────────────────────────────────────────────────────────────────── - ─ ↪\n",
       "↪                         _________________                                    ↪\n",
       "↪       2⋅cos(\\theta_W)⋅╲╱ cos(2⋅\\theta_W)                                     ↪\n",
       "\n",
       "↪                                                           _________________  ↪\n",
       "↪ gamma⋅(e⋅cos(\\theta_W)⋅tan(\\theta_W) + g⋅cos(2⋅\\theta_W))⋅\\nu_R^{\\prime}[i]⋅ ↪\n",
       "↪ ──────────────────────────────────────────────────────────────────────────── ↪\n",
       "↪                                               _________________              ↪\n",
       "↪                             2⋅cos(\\theta_W)⋅╲╱ cos(2⋅\\theta_W)               ↪\n",
       "\n",
       "↪                  ⎞\n",
       "↪ \\nu_R^{\\prime}[i]⎟\n",
       "↪ ─────────────────⎟\n",
       "↪                  ⎟\n",
       "↪                  ⎠"
      ]
     },
     "execution_count": 75,
     "metadata": {},
     "output_type": "execute_result"
    }
   ],
   "source": [
    "Z2*(Lag_leptons_phys1.coeff(Z2).collect(\n",
    "    [\n",
    "        conjugate(lLp[i])*lLp[i], conjugate(lRp[i])*lRp[i],\n",
    "        conjugate(nuLp[i])*nuLp[i], conjugate(nuRp[i])*nuRp[i]\n",
    "    ], lambda x:x.factor().subs(gBL, g*sin(thw)/sqrt(cos(2*thw))).expand().subs(e_changes).factor()\n",
    ")\n",
    ")"
   ]
  },
  {
   "cell_type": "code",
   "execution_count": 76,
   "metadata": {},
   "outputs": [],
   "source": [
    "from potential_senjanovic_HiggsDoublets import change_scalar_fields_approx, complex_scalar_fields, H10"
   ]
  },
  {
   "cell_type": "code",
   "execution_count": 77,
   "metadata": {},
   "outputs": [
    {
     "data": {
      "image/png": "[encoded data removed]",
      "text/latex": [
       "$\\displaystyle \\left\\{ \\chi^{-}_{L} : {{H_L^-}}, \\  \\chi_L^{0i} : {{A_2^0}}, \\  \\chi_L^{0r} : {{H_4^0}}, \\  \\chi^{-}_{R} : \\frac{k_{1} {{H_R^-}}}{v_{R}} + {{G_R^-}}, \\  \\chi_R^{0i} : {{G_{Z_2}}}, \\  \\chi_R^{0r} : - \\frac{\\alpha_{1} k_{1} {{H_1^0}}}{2 \\rho_{1} v_{R}} - \\frac{\\alpha_{3} k_{1} {{H_1^0}}}{2 \\rho_{1} v_{R}} + {{H_2^0}}, \\  \\phi^{-}_{1} : - \\frac{k_{1} {{G_R^-}}}{v_{R}} + {{H_R^-}}, \\  \\phi_1^{0i} : {{G_{Z_1}}}, \\  \\phi_1^{0r} : \\frac{\\alpha_{1} k_{1} {{H_2^0}}}{2 \\rho_{1} v_{R}} + \\frac{\\alpha_{3} k_{1} {{H_2^0}}}{2 \\rho_{1} v_{R}} + {{H_1^0}}, \\  \\phi^{-}_{2} : {{G_L^-}}, \\  \\phi_2^{0i} : {{A_1^0}}, \\  \\phi_2^{0r} : {{H_3^0}}, \\  {{\\chi_L^+}} : {{H_L^+}}, \\  {{\\chi_R^+}} : \\frac{k_{1} {{H_R^+}}}{v_{R}} + {{G_R^+}}, \\  {{\\phi_1^+}} : - \\frac{k_{1} {{G_R^+}}}{v_{R}} + {{H_R^+}}, \\  {{\\phi_2^+}} : {{G_L^+}}\\right\\}$"
      ],
      "text/plain": [
       "⎧                                                                              ↪\n",
       "⎨\\chi_L__-: {{H_L__-}}, \\chi_L__{0i}: {{A_2__0}}, \\chi_L__{0r}: {{H_4__0}}, \\c ↪\n",
       "⎩                                                                              ↪\n",
       "\n",
       "↪          k₁⋅{{H_R__-}}                                                       ↪\n",
       "↪ hi_R__-: ───────────── + {{G_R__-}}, \\chi_R__{0i}: {{G_{Z_2}}}, \\chi_R__{0r} ↪\n",
       "↪               v_R                                                            ↪\n",
       "\n",
       "↪     \\alpha₁⋅k₁⋅{{H_1__0}}   \\alpha₃⋅k₁⋅{{H_1__0}}                         k₁ ↪\n",
       "↪ : - ───────────────────── - ───────────────────── + {{H_2__0}}, \\phi⁻₁: - ── ↪\n",
       "↪          2⋅\\rho₁⋅v_R             2⋅\\rho₁⋅v_R                                 ↪\n",
       "\n",
       "↪ ⋅{{G_R__-}}                                                        \\alpha₁⋅k ↪\n",
       "↪ ─────────── + {{H_R__-}}, \\phi_1__{0i}: {{G_{Z_1}}}, \\phi_1__{0r}: ───────── ↪\n",
       "↪    v_R                                                                  2⋅\\r ↪\n",
       "\n",
       "↪ ₁⋅{{H_2__0}}   \\alpha₃⋅k₁⋅{{H_2__0}}                                         ↪\n",
       "↪ ──────────── + ───────────────────── + {{H_1__0}}, \\phi⁻₂: {{G_L__-}}, \\phi_ ↪\n",
       "↪ ho₁⋅v_R             2⋅\\rho₁⋅v_R                                              ↪\n",
       "\n",
       "↪                                                                              ↪\n",
       "↪ 2__{0i}: {{A_1__0}}, \\phi_2__{0r}: {{H_3__0}}, {{\\chi_L__+}}: {{H_L__+}}, {{ ↪\n",
       "↪                                                                              ↪\n",
       "\n",
       "↪              k₁⋅{{H_R__+}}                                k₁⋅{{G_R__+}}      ↪\n",
       "↪ \\chi_R__+}}: ───────────── + {{G_R__+}}, {{\\phi_1__+}}: - ───────────── + {{ ↪\n",
       "↪                   v_R                                          v_R           ↪\n",
       "\n",
       "↪                                    ⎫\n",
       "↪ H_R__+}}, {{\\phi_2__+}}: {{G_L__+}}⎬\n",
       "↪                                    ⎭"
      ]
     },
     "execution_count": 77,
     "metadata": {},
     "output_type": "execute_result"
    }
   ],
   "source": [
    "change_scalar_fields_approx"
   ]
  },
  {
   "cell_type": "code",
   "execution_count": 78,
   "metadata": {},
   "outputs": [
    {
     "data": {
      "image/png": "[encoded data removed]",
      "text/latex": [
       "$\\displaystyle - \\frac{\\alpha_{1} k_{1} {{H_1^0}} \\overline{{S^{c}}_{i}} {Y_{R}}_{i,j} {\\nu_R^{\\prime}}_{j}}{2 \\rho_{1} v_{R}} - \\frac{\\alpha_{1} k_{1} {{H_1^0}} \\overline{{\\nu_R^{\\prime}}_{j}} {S^{c}}_{i} {Y_{R}}_{i,j}}{2 \\rho_{1} v_{R}} + \\frac{\\alpha_{1} k_{1} {{H_2^0}} \\overline{{\\ell_L^{\\prime}}_{i}} {\\ell_R^{\\prime}}_{j} {\\tilde{Y}}_{i,j}}{2 \\rho_{1} v_{R}} + \\frac{\\alpha_{1} k_{1} {{H_2^0}} \\overline{{\\ell_R^{\\prime}}_{j}} {\\ell_L^{\\prime}}_{i} {\\tilde{Y}}_{i,j}}{2 \\rho_{1} v_{R}} + \\frac{\\alpha_{1} k_{1} {{H_2^0}} \\overline{{\\nu_L^{\\prime}}_{i}} {Y}_{i,j} {\\nu_R^{\\prime}}_{j}}{2 \\rho_{1} v_{R}} + \\frac{\\alpha_{1} k_{1} {{H_2^0}} \\overline{{\\nu_R^{\\prime}}_{j}} {Y}_{i,j} {\\nu_L^{\\prime}}_{i}}{2 \\rho_{1} v_{R}} - \\frac{\\alpha_{3} k_{1} {{H_1^0}} \\overline{{S^{c}}_{i}} {Y_{R}}_{i,j} {\\nu_R^{\\prime}}_{j}}{2 \\rho_{1} v_{R}} - \\frac{\\alpha_{3} k_{1} {{H_1^0}} \\overline{{\\nu_R^{\\prime}}_{j}} {S^{c}}_{i} {Y_{R}}_{i,j}}{2 \\rho_{1} v_{R}} + \\frac{\\alpha_{3} k_{1} {{H_2^0}} \\overline{{\\ell_L^{\\prime}}_{i}} {\\ell_R^{\\prime}}_{j} {\\tilde{Y}}_{i,j}}{2 \\rho_{1} v_{R}} + \\frac{\\alpha_{3} k_{1} {{H_2^0}} \\overline{{\\ell_R^{\\prime}}_{j}} {\\ell_L^{\\prime}}_{i} {\\tilde{Y}}_{i,j}}{2 \\rho_{1} v_{R}} + \\frac{\\alpha_{3} k_{1} {{H_2^0}} \\overline{{\\nu_L^{\\prime}}_{i}} {Y}_{i,j} {\\nu_R^{\\prime}}_{j}}{2 \\rho_{1} v_{R}} + \\frac{\\alpha_{3} k_{1} {{H_2^0}} \\overline{{\\nu_R^{\\prime}}_{j}} {Y}_{i,j} {\\nu_L^{\\prime}}_{i}}{2 \\rho_{1} v_{R}} + k_{1} \\overline{{\\ell_L^{\\prime}}_{i}} {\\ell_R^{\\prime}}_{j} {\\tilde{Y}}_{i,j} + k_{1} \\overline{{\\ell_R^{\\prime}}_{j}} {\\ell_L^{\\prime}}_{i} {\\tilde{Y}}_{i,j} + k_{1} \\overline{{\\nu_L^{\\prime}}_{i}} {Y}_{i,j} {\\nu_R^{\\prime}}_{j} + k_{1} \\overline{{\\nu_R^{\\prime}}_{j}} {Y}_{i,j} {\\nu_L^{\\prime}}_{i} - \\frac{k_{1} {{G_R^+}} \\overline{{\\nu_L^{\\prime}}_{i}} {Y}_{i,j} {\\ell_R^{\\prime}}_{j}}{v_{R}} + \\frac{k_{1} {{G_R^+}} \\overline{{\\nu_R^{\\prime}}_{j}} {\\ell_L^{\\prime}}_{i} {\\tilde{Y}}_{i,j}}{v_{R}} - \\frac{k_{1} {{H_R^+}} \\overline{{\\ell_R^{\\prime}}_{j}} {S^{c}}_{i} {Y_{R}}_{i,j}}{v_{R}} + \\frac{k_{1} \\overline{{{G_R^+}}} \\overline{{\\ell_L^{\\prime}}_{i}} {\\nu_R^{\\prime}}_{j} {\\tilde{Y}}_{i,j}}{v_{R}} - \\frac{k_{1} \\overline{{{G_R^+}}} \\overline{{\\ell_R^{\\prime}}_{j}} {Y}_{i,j} {\\nu_L^{\\prime}}_{i}}{v_{R}} - \\frac{k_{1} \\overline{{{H_R^+}}} \\overline{{S^{c}}_{i}} {Y_{R}}_{i,j} {\\ell_R^{\\prime}}_{j}}{v_{R}} + k_{2} \\overline{{\\ell_L^{\\prime}}_{i}} {Y}_{i,j} {\\ell_R^{\\prime}}_{j} + k_{2} \\overline{{\\ell_R^{\\prime}}_{j}} {Y}_{i,j} {\\ell_L^{\\prime}}_{i} + k_{2} \\overline{{\\nu_L^{\\prime}}_{i}} {\\nu_R^{\\prime}}_{j} {\\tilde{Y}}_{i,j} + k_{2} \\overline{{\\nu_R^{\\prime}}_{j}} {\\nu_L^{\\prime}}_{i} {\\tilde{Y}}_{i,j} + v_{L} \\overline{{S}_{i}} {Y_{L}}_{i,j} {\\nu_L^{\\prime}}_{j} + v_{L} \\overline{{\\nu_L^{\\prime}}_{j}} {S}_{i} {Y_{L}}_{i,j} + v_{R} \\overline{{S^{c}}_{i}} {Y_{R}}_{i,j} {\\nu_R^{\\prime}}_{j} + v_{R} \\overline{{\\nu_R^{\\prime}}_{j}} {S^{c}}_{i} {Y_{R}}_{i,j} + i {{A_1^0}} \\overline{{\\ell_L^{\\prime}}_{i}} {Y}_{i,j} {\\ell_R^{\\prime}}_{j} - i {{A_1^0}} \\overline{{\\ell_R^{\\prime}}_{j}} {Y}_{i,j} {\\ell_L^{\\prime}}_{i} - i {{A_1^0}} \\overline{{\\nu_L^{\\prime}}_{i}} {\\nu_R^{\\prime}}_{j} {\\tilde{Y}}_{i,j} + i {{A_1^0}} \\overline{{\\nu_R^{\\prime}}_{j}} {\\nu_L^{\\prime}}_{i} {\\tilde{Y}}_{i,j} - i {{A_2^0}} \\overline{{S}_{i}} {Y_{L}}_{i,j} {\\nu_L^{\\prime}}_{j} + i {{A_2^0}} \\overline{{\\nu_L^{\\prime}}_{j}} {S}_{i} {Y_{L}}_{i,j} - {{G_L^+}} \\overline{{\\nu_L^{\\prime}}_{i}} {\\ell_R^{\\prime}}_{j} {\\tilde{Y}}_{i,j} + {{G_L^+}} \\overline{{\\nu_R^{\\prime}}_{j}} {Y}_{i,j} {\\ell_L^{\\prime}}_{i} - {{G_R^+}} \\overline{{\\ell_R^{\\prime}}_{j}} {S^{c}}_{i} {Y_{R}}_{i,j} - i {{G_{Z_1}}} \\overline{{\\ell_L^{\\prime}}_{i}} {\\ell_R^{\\prime}}_{j} {\\tilde{Y}}_{i,j} + i {{G_{Z_1}}} \\overline{{\\ell_R^{\\prime}}_{j}} {\\ell_L^{\\prime}}_{i} {\\tilde{Y}}_{i,j} + i {{G_{Z_1}}} \\overline{{\\nu_L^{\\prime}}_{i}} {Y}_{i,j} {\\nu_R^{\\prime}}_{j} - i {{G_{Z_1}}} \\overline{{\\nu_R^{\\prime}}_{j}} {Y}_{i,j} {\\nu_L^{\\prime}}_{i} - i {{G_{Z_2}}} \\overline{{S^{c}}_{i}} {Y_{R}}_{i,j} {\\nu_R^{\\prime}}_{j} + i {{G_{Z_2}}} \\overline{{\\nu_R^{\\prime}}_{j}} {S^{c}}_{i} {Y_{R}}_{i,j} + {{H_1^0}} \\overline{{\\ell_L^{\\prime}}_{i}} {\\ell_R^{\\prime}}_{j} {\\tilde{Y}}_{i,j} + {{H_1^0}} \\overline{{\\ell_R^{\\prime}}_{j}} {\\ell_L^{\\prime}}_{i} {\\tilde{Y}}_{i,j} + {{H_1^0}} \\overline{{\\nu_L^{\\prime}}_{i}} {Y}_{i,j} {\\nu_R^{\\prime}}_{j} + {{H_1^0}} \\overline{{\\nu_R^{\\prime}}_{j}} {Y}_{i,j} {\\nu_L^{\\prime}}_{i} + {{H_2^0}} \\overline{{S^{c}}_{i}} {Y_{R}}_{i,j} {\\nu_R^{\\prime}}_{j} + {{H_2^0}} \\overline{{\\nu_R^{\\prime}}_{j}} {S^{c}}_{i} {Y_{R}}_{i,j} + {{H_3^0}} \\overline{{\\ell_L^{\\prime}}_{i}} {Y}_{i,j} {\\ell_R^{\\prime}}_{j} + {{H_3^0}} \\overline{{\\ell_R^{\\prime}}_{j}} {Y}_{i,j} {\\ell_L^{\\prime}}_{i} + {{H_3^0}} \\overline{{\\nu_L^{\\prime}}_{i}} {\\nu_R^{\\prime}}_{j} {\\tilde{Y}}_{i,j} + {{H_3^0}} \\overline{{\\nu_R^{\\prime}}_{j}} {\\nu_L^{\\prime}}_{i} {\\tilde{Y}}_{i,j} + {{H_4^0}} \\overline{{S}_{i}} {Y_{L}}_{i,j} {\\nu_L^{\\prime}}_{j} + {{H_4^0}} \\overline{{\\nu_L^{\\prime}}_{j}} {S}_{i} {Y_{L}}_{i,j} - {{H_L^+}} \\overline{{\\ell_L^{\\prime}}_{j}} {S}_{i} {Y_{L}}_{i,j} + {{H_R^+}} \\overline{{\\nu_L^{\\prime}}_{i}} {Y}_{i,j} {\\ell_R^{\\prime}}_{j} - {{H_R^+}} \\overline{{\\nu_R^{\\prime}}_{j}} {\\ell_L^{\\prime}}_{i} {\\tilde{Y}}_{i,j} + \\overline{{{G_L^+}}} \\overline{{\\ell_L^{\\prime}}_{i}} {Y}_{i,j} {\\nu_R^{\\prime}}_{j} - \\overline{{{G_L^+}}} \\overline{{\\ell_R^{\\prime}}_{j}} {\\nu_L^{\\prime}}_{i} {\\tilde{Y}}_{i,j} - \\overline{{{G_R^+}}} \\overline{{S^{c}}_{i}} {Y_{R}}_{i,j} {\\ell_R^{\\prime}}_{j} - \\overline{{{H_L^+}}} \\overline{{S}_{i}} {Y_{L}}_{i,j} {\\ell_L^{\\prime}}_{j} - \\overline{{{H_R^+}}} \\overline{{\\ell_L^{\\prime}}_{i}} {\\nu_R^{\\prime}}_{j} {\\tilde{Y}}_{i,j} + \\overline{{{H_R^+}}} \\overline{{\\ell_R^{\\prime}}_{j}} {Y}_{i,j} {\\nu_L^{\\prime}}_{i} + \\frac{\\overline{{S}_{j}} {S^{c}}_{i} {\\mu}_{i,j}}{2} + \\frac{\\overline{{S^{c}}_{i}} {S}_{j} {\\mu}_{i,j}}{2}$"
      ],
      "text/plain": [
       "                        ______                                                 ↪\n",
       "  \\alpha₁⋅k₁⋅{{H_1__0}}⋅S^c[i]⋅Y_R[i, j]⋅\\nu_R^{\\prime}[j]   \\alpha₁⋅k₁⋅{{H_1_ ↪\n",
       "- ──────────────────────────────────────────────────────── - ───────────────── ↪\n",
       "                        2⋅\\rho₁⋅v_R                                            ↪\n",
       "\n",
       "↪      _________________                                          ____________ ↪\n",
       "↪ _0}}⋅\\nu_R^{\\prime}[j]⋅S^c[i]⋅Y_R[i, j]   \\alpha₁⋅k₁⋅{{H_2__0}}⋅\\ell_L^{\\pri ↪\n",
       "↪ ─────────────────────────────────────── + ────────────────────────────────── ↪\n",
       "↪      2⋅\\rho₁⋅v_R                                                          2⋅ ↪\n",
       "\n",
       "↪ ______                                                            __________ ↪\n",
       "↪ me}[i]⋅\\ell_R^{\\prime}[j]⋅\\tilde{Y}[i, j]   \\alpha₁⋅k₁⋅{{H_2__0}}⋅\\ell_R^{\\p ↪\n",
       "↪ ───────────────────────────────────────── + ──────────────────────────────── ↪\n",
       "↪ \\rho₁⋅v_R                                                                    ↪\n",
       "\n",
       "↪ ________                                                            ________ ↪\n",
       "↪ rime}[j]⋅\\ell_L^{\\prime}[i]⋅\\tilde{Y}[i, j]   \\alpha₁⋅k₁⋅{{H_2__0}}⋅\\nu_L^{\\ ↪\n",
       "↪ ─────────────────────────────────────────── + ────────────────────────────── ↪\n",
       "↪ 2⋅\\rho₁⋅v_R                                                              2⋅\\ ↪\n",
       "\n",
       "↪ _________                                                   ________________ ↪\n",
       "↪ prime}[i]⋅Y[i, j]⋅\\nu_R^{\\prime}[j]   \\alpha₁⋅k₁⋅{{H_2__0}}⋅\\nu_R^{\\prime}[j ↪\n",
       "↪ ─────────────────────────────────── + ────────────────────────────────────── ↪\n",
       "↪ rho₁⋅v_R                                                         2⋅\\rho₁⋅v_R ↪\n",
       "\n",
       "↪ _                                                   ______                   ↪\n",
       "↪ ]⋅Y[i, j]⋅\\nu_L^{\\prime}[i]   \\alpha₃⋅k₁⋅{{H_1__0}}⋅S^c[i]⋅Y_R[i, j]⋅\\nu_R^{ ↪\n",
       "↪ ─────────────────────────── - ────────────────────────────────────────────── ↪\n",
       "↪                                                     2⋅\\rho₁⋅v_R              ↪\n",
       "\n",
       "↪                                    _________________                         ↪\n",
       "↪ \\prime}[j]   \\alpha₃⋅k₁⋅{{H_1__0}}⋅\\nu_R^{\\prime}[j]⋅S^c[i]⋅Y_R[i, j]   \\alp ↪\n",
       "↪ ────────── - ──────────────────────────────────────────────────────── + ──── ↪\n",
       "↪                                    2⋅\\rho₁⋅v_R                               ↪\n",
       "\n",
       "↪                   __________________                                         ↪\n",
       "↪ ha₃⋅k₁⋅{{H_2__0}}⋅\\ell_L^{\\prime}[i]⋅\\ell_R^{\\prime}[j]⋅\\tilde{Y}[i, j]   \\a ↪\n",
       "↪ ─────────────────────────────────────────────────────────────────────── + ── ↪\n",
       "↪                             2⋅\\rho₁⋅v_R                                      ↪\n",
       "\n",
       "↪                     __________________                                       ↪\n",
       "↪ lpha₃⋅k₁⋅{{H_2__0}}⋅\\ell_R^{\\prime}[j]⋅\\ell_L^{\\prime}[i]⋅\\tilde{Y}[i, j]    ↪\n",
       "↪ ───────────────────────────────────────────────────────────────────────── +  ↪\n",
       "↪                               2⋅\\rho₁⋅v_R                                    ↪\n",
       "\n",
       "↪                       _________________                                      ↪\n",
       "↪ \\alpha₃⋅k₁⋅{{H_2__0}}⋅\\nu_L^{\\prime}[i]⋅Y[i, j]⋅\\nu_R^{\\prime}[j]   \\alpha₃⋅ ↪\n",
       "↪ ───────────────────────────────────────────────────────────────── + ──────── ↪\n",
       "↪                            2⋅\\rho₁⋅v_R                                       ↪\n",
       "\n",
       "↪               _________________                                              ↪\n",
       "↪ k₁⋅{{H_2__0}}⋅\\nu_R^{\\prime}[j]⋅Y[i, j]⋅\\nu_L^{\\prime}[i]      _____________ ↪\n",
       "↪ ───────────────────────────────────────────────────────── + k₁⋅\\ell_L^{\\prim ↪\n",
       "↪                    2⋅\\rho₁⋅v_R                                               ↪\n",
       "\n",
       "↪                                                                              ↪\n",
       "↪ _____                                         __________________             ↪\n",
       "↪ e}[i]⋅\\ell_R^{\\prime}[j]⋅\\tilde{Y}[i, j] + k₁⋅\\ell_R^{\\prime}[j]⋅\\ell_L^{\\pr ↪\n",
       "↪                                                                              ↪\n",
       "\n",
       "↪                                                                              ↪\n",
       "↪                              _________________                               ↪\n",
       "↪ ime}[i]⋅\\tilde{Y}[i, j] + k₁⋅\\nu_L^{\\prime}[i]⋅Y[i, j]⋅\\nu_R^{\\prime}[j] + k ↪\n",
       "↪                                                                              ↪\n",
       "\n",
       "↪                                                               ______________ ↪\n",
       "↪   _________________                             k₁⋅{{G_R__+}}⋅\\nu_L^{\\prime} ↪\n",
       "↪ ₁⋅\\nu_R^{\\prime}[j]⋅Y[i, j]⋅\\nu_L^{\\prime}[i] - ──────────────────────────── ↪\n",
       "↪                                                                            v ↪\n",
       "\n",
       "↪ ___                                            _________________             ↪\n",
       "↪ [i]⋅Y[i, j]⋅\\ell_R^{\\prime}[j]   k₁⋅{{G_R__+}}⋅\\nu_R^{\\prime}[j]⋅\\ell_L^{\\pr ↪\n",
       "↪ ────────────────────────────── + ─────────────────────────────────────────── ↪\n",
       "↪ _R                                                              v_R          ↪\n",
       "\n",
       "↪                                         __________________                   ↪\n",
       "↪ ime}[i]⋅\\tilde{Y}[i, j]   k₁⋅{{H_R__+}}⋅\\ell_R^{\\prime}[j]⋅S^c[i]⋅Y_R[i, j]  ↪\n",
       "↪ ─────────────────────── - ─────────────────────────────────────────────────  ↪\n",
       "↪                                                  v_R                         ↪\n",
       "\n",
       "↪      __________ __________________                                        __ ↪\n",
       "↪   k₁⋅{{G_R__+}}⋅\\ell_L^{\\prime}[i]⋅\\nu_R^{\\prime}[j]⋅\\tilde{Y}[i, j]   k₁⋅{{ ↪\n",
       "↪ + ────────────────────────────────────────────────────────────────── - ───── ↪\n",
       "↪                                  v_R                                         ↪\n",
       "\n",
       "↪ ________ __________________                                __________ ______ ↪\n",
       "↪ G_R__+}}⋅\\ell_R^{\\prime}[j]⋅Y[i, j]⋅\\nu_L^{\\prime}[i]   k₁⋅{{H_R__+}}⋅S^c[i] ↪\n",
       "↪ ───────────────────────────────────────────────────── - ──────────────────── ↪\n",
       "↪                       v_R                                                    ↪\n",
       "\n",
       "↪                                                                              ↪\n",
       "↪ ⋅Y_R[i, j]⋅\\ell_R^{\\prime}[j]      __________________                        ↪\n",
       "↪ ───────────────────────────── + k₂⋅\\ell_L^{\\prime}[i]⋅Y[i, j]⋅\\ell_R^{\\prime ↪\n",
       "↪    v_R                                                                       ↪\n",
       "\n",
       "↪                                                                              ↪\n",
       "↪           __________________                                 _______________ ↪\n",
       "↪ }[j] + k₂⋅\\ell_R^{\\prime}[j]⋅Y[i, j]⋅\\ell_L^{\\prime}[i] + k₂⋅\\nu_L^{\\prime}[ ↪\n",
       "↪                                                                              ↪\n",
       "\n",
       "↪                                                                              ↪\n",
       "↪ __                                        _________________                  ↪\n",
       "↪ i]⋅\\nu_R^{\\prime}[j]⋅\\tilde{Y}[i, j] + k₂⋅\\nu_R^{\\prime}[j]⋅\\nu_L^{\\prime}[i ↪\n",
       "↪                                                                              ↪\n",
       "\n",
       "↪                                                                              ↪\n",
       "↪                         ____                                   _____________ ↪\n",
       "↪ ]⋅\\tilde{Y}[i, j] + v_L⋅S[i]⋅Y_L[i, j]⋅\\nu_L^{\\prime}[j] + v_L⋅\\nu_L^{\\prime ↪\n",
       "↪                                                                              ↪\n",
       "\n",
       "↪                                                                              ↪\n",
       "↪ ____                      ______                                   _________ ↪\n",
       "↪ }[j]⋅S[i]⋅Y_L[i, j] + v_R⋅S^c[i]⋅Y_R[i, j]⋅\\nu_R^{\\prime}[j] + v_R⋅\\nu_R^{\\p ↪\n",
       "↪                                                                              ↪\n",
       "\n",
       "↪                                                                              ↪\n",
       "↪ ________                                 __________________                  ↪\n",
       "↪ rime}[j]⋅S^c[i]⋅Y_R[i, j] + ⅈ⋅{{A_1__0}}⋅\\ell_L^{\\prime}[i]⋅Y[i, j]⋅\\ell_R^{ ↪\n",
       "↪                                                                              ↪\n",
       "\n",
       "↪                                                                              ↪\n",
       "↪                           __________________                                 ↪\n",
       "↪ \\prime}[j] - ⅈ⋅{{A_1__0}}⋅\\ell_R^{\\prime}[j]⋅Y[i, j]⋅\\ell_L^{\\prime}[i] - ⅈ⋅ ↪\n",
       "↪                                                                              ↪\n",
       "\n",
       "↪                                                                              ↪\n",
       "↪            _________________                                                 ↪\n",
       "↪ {{A_1__0}}⋅\\nu_L^{\\prime}[i]⋅\\nu_R^{\\prime}[j]⋅\\tilde{Y}[i, j] + ⅈ⋅{{A_1__0} ↪\n",
       "↪                                                                              ↪\n",
       "\n",
       "↪                                                                              ↪\n",
       "↪   _________________                                                  ____    ↪\n",
       "↪ }⋅\\nu_R^{\\prime}[j]⋅\\nu_L^{\\prime}[i]⋅\\tilde{Y}[i, j] - ⅈ⋅{{A_2__0}}⋅S[i]⋅Y_ ↪\n",
       "↪                                                                              ↪\n",
       "\n",
       "↪                                                                              ↪\n",
       "↪                                          _________________                   ↪\n",
       "↪ L[i, j]⋅\\nu_L^{\\prime}[j] + ⅈ⋅{{A_2__0}}⋅\\nu_L^{\\prime}[j]⋅S[i]⋅Y_L[i, j] -  ↪\n",
       "↪                                                                              ↪\n",
       "\n",
       "↪                                                                              ↪\n",
       "↪            _________________                                                 ↪\n",
       "↪ {{G_L__+}}⋅\\nu_L^{\\prime}[i]⋅\\ell_R^{\\prime}[j]⋅\\tilde{Y}[i, j] + {{G_L__+}} ↪\n",
       "↪                                                                              ↪\n",
       "\n",
       "↪                                                                              ↪\n",
       "↪  _________________                                         _________________ ↪\n",
       "↪ ⋅\\nu_R^{\\prime}[j]⋅Y[i, j]⋅\\ell_L^{\\prime}[i] - {{G_R__+}}⋅\\ell_R^{\\prime}[j ↪\n",
       "↪                                                                              ↪\n",
       "\n",
       "↪                                                                              ↪\n",
       "↪ _                                  __________________                        ↪\n",
       "↪ ]⋅S^c[i]⋅Y_R[i, j] - ⅈ⋅{{G_{Z_1}}}⋅\\ell_L^{\\prime}[i]⋅\\ell_R^{\\prime}[j]⋅\\ti ↪\n",
       "↪                                                                              ↪\n",
       "\n",
       "↪                                                                              ↪\n",
       "↪                              __________________                              ↪\n",
       "↪ lde{Y}[i, j] + ⅈ⋅{{G_{Z_1}}}⋅\\ell_R^{\\prime}[j]⋅\\ell_L^{\\prime}[i]⋅\\tilde{Y} ↪\n",
       "↪                                                                              ↪\n",
       "\n",
       "↪                                                                              ↪\n",
       "↪                        _________________                                     ↪\n",
       "↪ [i, j] + ⅈ⋅{{G_{Z_1}}}⋅\\nu_L^{\\prime}[i]⋅Y[i, j]⋅\\nu_R^{\\prime}[j] - ⅈ⋅{{G_{ ↪\n",
       "↪                                                                              ↪\n",
       "\n",
       "↪                                                                              ↪\n",
       "↪        _________________                                           ______    ↪\n",
       "↪ Z_1}}}⋅\\nu_R^{\\prime}[j]⋅Y[i, j]⋅\\nu_L^{\\prime}[i] - ⅈ⋅{{G_{Z_2}}}⋅S^c[i]⋅Y_ ↪\n",
       "↪                                                                              ↪\n",
       "\n",
       "↪                                                                              ↪\n",
       "↪                                           _________________                  ↪\n",
       "↪ R[i, j]⋅\\nu_R^{\\prime}[j] + ⅈ⋅{{G_{Z_2}}}⋅\\nu_R^{\\prime}[j]⋅S^c[i]⋅Y_R[i, j] ↪\n",
       "↪                                                                              ↪\n",
       "\n",
       "↪                                                                              ↪\n",
       "↪               __________________                                             ↪\n",
       "↪  + {{H_1__0}}⋅\\ell_L^{\\prime}[i]⋅\\ell_R^{\\prime}[j]⋅\\tilde{Y}[i, j] + {{H_1_ ↪\n",
       "↪                                                                              ↪\n",
       "\n",
       "↪                                                                              ↪\n",
       "↪      __________________                                                 ____ ↪\n",
       "↪ _0}}⋅\\ell_R^{\\prime}[j]⋅\\ell_L^{\\prime}[i]⋅\\tilde{Y}[i, j] + {{H_1__0}}⋅\\nu_ ↪\n",
       "↪                                                                              ↪\n",
       "\n",
       "↪                                                                              ↪\n",
       "↪ _____________                                        _________________       ↪\n",
       "↪ L^{\\prime}[i]⋅Y[i, j]⋅\\nu_R^{\\prime}[j] + {{H_1__0}}⋅\\nu_R^{\\prime}[j]⋅Y[i,  ↪\n",
       "↪                                                                              ↪\n",
       "\n",
       "↪                                                                              ↪\n",
       "↪                                   ______                                     ↪\n",
       "↪ j]⋅\\nu_L^{\\prime}[i] + {{H_2__0}}⋅S^c[i]⋅Y_R[i, j]⋅\\nu_R^{\\prime}[j] + {{H_2 ↪\n",
       "↪                                                                              ↪\n",
       "\n",
       "↪                                                                              ↪\n",
       "↪       _________________                               __________________     ↪\n",
       "↪ __0}}⋅\\nu_R^{\\prime}[j]⋅S^c[i]⋅Y_R[i, j] + {{H_3__0}}⋅\\ell_L^{\\prime}[i]⋅Y[i ↪\n",
       "↪                                                                              ↪\n",
       "\n",
       "↪                                                                              ↪\n",
       "↪                                      __________________                      ↪\n",
       "↪ , j]⋅\\ell_R^{\\prime}[j] + {{H_3__0}}⋅\\ell_R^{\\prime}[j]⋅Y[i, j]⋅\\ell_L^{\\pri ↪\n",
       "↪                                                                              ↪\n",
       "\n",
       "↪                                                                              ↪\n",
       "↪                     _________________                                        ↪\n",
       "↪ me}[i] + {{H_3__0}}⋅\\nu_L^{\\prime}[i]⋅\\nu_R^{\\prime}[j]⋅\\tilde{Y}[i, j] + {{ ↪\n",
       "↪                                                                              ↪\n",
       "\n",
       "↪                                                                              ↪\n",
       "↪          _________________                                                __ ↪\n",
       "↪ H_3__0}}⋅\\nu_R^{\\prime}[j]⋅\\nu_L^{\\prime}[i]⋅\\tilde{Y}[i, j] + {{H_4__0}}⋅S[ ↪\n",
       "↪                                                                              ↪\n",
       "\n",
       "↪                                                                              ↪\n",
       "↪ __                                          _________________                ↪\n",
       "↪ i]⋅Y_L[i, j]⋅\\nu_L^{\\prime}[j] + {{H_4__0}}⋅\\nu_L^{\\prime}[j]⋅S[i]⋅Y_L[i, j] ↪\n",
       "↪                                                                              ↪\n",
       "\n",
       "↪                                                                              ↪\n",
       "↪               __________________                             _______________ ↪\n",
       "↪  - {{H_L__+}}⋅\\ell_L^{\\prime}[j]⋅S[i]⋅Y_L[i, j] + {{H_R__+}}⋅\\nu_L^{\\prime}[ ↪\n",
       "↪                                                                              ↪\n",
       "\n",
       "↪                                                                              ↪\n",
       "↪ __                                         _________________                 ↪\n",
       "↪ i]⋅Y[i, j]⋅\\ell_R^{\\prime}[j] - {{H_R__+}}⋅\\nu_R^{\\prime}[j]⋅\\ell_L^{\\prime} ↪\n",
       "↪                                                                              ↪\n",
       "\n",
       "↪                                                                              ↪\n",
       "↪                       __________ __________________                          ↪\n",
       "↪ [i]⋅\\tilde{Y}[i, j] + {{G_L__+}}⋅\\ell_L^{\\prime}[i]⋅Y[i, j]⋅\\nu_R^{\\prime}[j ↪\n",
       "↪                                                                              ↪\n",
       "\n",
       "↪                                                                              ↪\n",
       "↪     __________ __________________                                     ______ ↪\n",
       "↪ ] - {{G_L__+}}⋅\\ell_R^{\\prime}[j]⋅\\nu_L^{\\prime}[i]⋅\\tilde{Y}[i, j] - {{G_R_ ↪\n",
       "↪                                                                              ↪\n",
       "\n",
       "↪                                                                              ↪\n",
       "↪ ____ ______                                __________ ____                   ↪\n",
       "↪ _+}}⋅S^c[i]⋅Y_R[i, j]⋅\\ell_R^{\\prime}[j] - {{H_L__+}}⋅S[i]⋅Y_L[i, j]⋅\\ell_L^ ↪\n",
       "↪                                                                              ↪\n",
       "\n",
       "↪                                                                              ↪\n",
       "↪               __________ __________________                                  ↪\n",
       "↪ {\\prime}[j] - {{H_R__+}}⋅\\ell_L^{\\prime}[i]⋅\\nu_R^{\\prime}[j]⋅\\tilde{Y}[i, j ↪\n",
       "↪                                                                              ↪\n",
       "\n",
       "↪                                                               ____           ↪\n",
       "↪     __________ __________________                             S[j]⋅S^c[i]⋅\\m ↪\n",
       "↪ ] + {{H_R__+}}⋅\\ell_R^{\\prime}[j]⋅Y[i, j]⋅\\nu_L^{\\prime}[i] + ────────────── ↪\n",
       "↪                                                                         2    ↪\n",
       "\n",
       "↪           ______               \n",
       "↪ u[i, j]   S^c[i]⋅S[j]⋅\\mu[i, j]\n",
       "↪ ─────── + ─────────────────────\n",
       "↪                     2          "
      ]
     },
     "execution_count": 78,
     "metadata": {},
     "output_type": "execute_result"
    }
   ],
   "source": [
    "Lyuk_lep_phys1 = Lyuk_lep.subs(complex_scalar_fields).subs(change_scalar_fields_approx).expand()\n",
    "Lyuk_lep_phys1"
   ]
  },
  {
   "cell_type": "code",
   "execution_count": 79,
   "metadata": {},
   "outputs": [
    {
     "data": {
      "image/png": "[encoded data removed]",
      "text/latex": [
       "$\\displaystyle - \\frac{\\alpha_{1} k_{1} {{H_1^0}} \\overline{{S^{c}}_{i}} {Y_{R}}_{i,j} {\\nu_R^{\\prime}}_{j}}{2 \\rho_{1} v_{R}} - \\frac{\\alpha_{1} k_{1} {{H_1^0}} \\overline{{\\nu_R^{\\prime}}_{j}} {S^{c}}_{i} {Y_{R}}_{i,j}}{2 \\rho_{1} v_{R}} + \\frac{\\alpha_{1} k_{1} {{H_2^0}} \\overline{{\\ell_L^{\\prime}}_{i}} {\\ell_R^{\\prime}}_{j} {\\tilde{Y}}_{i,j}}{2 \\rho_{1} v_{R}} + \\frac{\\alpha_{1} k_{1} {{H_2^0}} \\overline{{\\ell_R^{\\prime}}_{j}} {\\ell_L^{\\prime}}_{i} {\\tilde{Y}}_{i,j}}{2 \\rho_{1} v_{R}} + \\frac{\\alpha_{1} k_{1} {{H_2^0}} \\overline{{\\nu_L^{\\prime}}_{i}} {Y}_{i,j} {\\nu_R^{\\prime}}_{j}}{2 \\rho_{1} v_{R}} + \\frac{\\alpha_{1} k_{1} {{H_2^0}} \\overline{{\\nu_R^{\\prime}}_{j}} {Y}_{i,j} {\\nu_L^{\\prime}}_{i}}{2 \\rho_{1} v_{R}} - \\frac{\\alpha_{3} k_{1} {{H_1^0}} \\overline{{S^{c}}_{i}} {Y_{R}}_{i,j} {\\nu_R^{\\prime}}_{j}}{2 \\rho_{1} v_{R}} - \\frac{\\alpha_{3} k_{1} {{H_1^0}} \\overline{{\\nu_R^{\\prime}}_{j}} {S^{c}}_{i} {Y_{R}}_{i,j}}{2 \\rho_{1} v_{R}} + \\frac{\\alpha_{3} k_{1} {{H_2^0}} \\overline{{\\ell_L^{\\prime}}_{i}} {\\ell_R^{\\prime}}_{j} {\\tilde{Y}}_{i,j}}{2 \\rho_{1} v_{R}} + \\frac{\\alpha_{3} k_{1} {{H_2^0}} \\overline{{\\ell_R^{\\prime}}_{j}} {\\ell_L^{\\prime}}_{i} {\\tilde{Y}}_{i,j}}{2 \\rho_{1} v_{R}} + \\frac{\\alpha_{3} k_{1} {{H_2^0}} \\overline{{\\nu_L^{\\prime}}_{i}} {Y}_{i,j} {\\nu_R^{\\prime}}_{j}}{2 \\rho_{1} v_{R}} + \\frac{\\alpha_{3} k_{1} {{H_2^0}} \\overline{{\\nu_R^{\\prime}}_{j}} {Y}_{i,j} {\\nu_L^{\\prime}}_{i}}{2 \\rho_{1} v_{R}} + k_{1} \\overline{{\\ell_L^{\\prime}}_{i}} {\\ell_R^{\\prime}}_{j} {\\tilde{Y}}_{i,j} + k_{1} \\overline{{\\ell_R^{\\prime}}_{j}} {\\ell_L^{\\prime}}_{i} {\\tilde{Y}}_{i,j} + k_{1} \\overline{{\\nu_L^{\\prime}}_{i}} {Y}_{i,j} {\\nu_R^{\\prime}}_{j} + k_{1} \\overline{{\\nu_R^{\\prime}}_{j}} {Y}_{i,j} {\\nu_L^{\\prime}}_{i} - \\frac{k_{1} {{G_R^+}} \\overline{{\\nu_L^{\\prime}}_{i}} {Y}_{i,j} {\\ell_R^{\\prime}}_{j}}{v_{R}} + \\frac{k_{1} {{G_R^+}} \\overline{{\\nu_R^{\\prime}}_{j}} {\\ell_L^{\\prime}}_{i} {\\tilde{Y}}_{i,j}}{v_{R}} - \\frac{k_{1} {{H_R^+}} \\overline{{\\ell_R^{\\prime}}_{j}} {S^{c}}_{i} {Y_{R}}_{i,j}}{v_{R}} + \\frac{k_{1} \\overline{{{G_R^+}}} \\overline{{\\ell_L^{\\prime}}_{i}} {\\nu_R^{\\prime}}_{j} {\\tilde{Y}}_{i,j}}{v_{R}} - \\frac{k_{1} \\overline{{{G_R^+}}} \\overline{{\\ell_R^{\\prime}}_{j}} {Y}_{i,j} {\\nu_L^{\\prime}}_{i}}{v_{R}} - \\frac{k_{1} \\overline{{{H_R^+}}} \\overline{{S^{c}}_{i}} {Y_{R}}_{i,j} {\\ell_R^{\\prime}}_{j}}{v_{R}} + v_{R} \\overline{{S^{c}}_{i}} {Y_{R}}_{i,j} {\\nu_R^{\\prime}}_{j} + v_{R} \\overline{{\\nu_R^{\\prime}}_{j}} {S^{c}}_{i} {Y_{R}}_{i,j} + i {{A_1^0}} \\overline{{\\ell_L^{\\prime}}_{i}} {Y}_{i,j} {\\ell_R^{\\prime}}_{j} - i {{A_1^0}} \\overline{{\\ell_R^{\\prime}}_{j}} {Y}_{i,j} {\\ell_L^{\\prime}}_{i} - i {{A_1^0}} \\overline{{\\nu_L^{\\prime}}_{i}} {\\nu_R^{\\prime}}_{j} {\\tilde{Y}}_{i,j} + i {{A_1^0}} \\overline{{\\nu_R^{\\prime}}_{j}} {\\nu_L^{\\prime}}_{i} {\\tilde{Y}}_{i,j} - i {{A_2^0}} \\overline{{S}_{i}} {Y_{L}}_{i,j} {\\nu_L^{\\prime}}_{j} + i {{A_2^0}} \\overline{{\\nu_L^{\\prime}}_{j}} {S}_{i} {Y_{L}}_{i,j} - {{G_L^+}} \\overline{{\\nu_L^{\\prime}}_{i}} {\\ell_R^{\\prime}}_{j} {\\tilde{Y}}_{i,j} + {{G_L^+}} \\overline{{\\nu_R^{\\prime}}_{j}} {Y}_{i,j} {\\ell_L^{\\prime}}_{i} - {{G_R^+}} \\overline{{\\ell_R^{\\prime}}_{j}} {S^{c}}_{i} {Y_{R}}_{i,j} - i {{G_{Z_1}}} \\overline{{\\ell_L^{\\prime}}_{i}} {\\ell_R^{\\prime}}_{j} {\\tilde{Y}}_{i,j} + i {{G_{Z_1}}} \\overline{{\\ell_R^{\\prime}}_{j}} {\\ell_L^{\\prime}}_{i} {\\tilde{Y}}_{i,j} + i {{G_{Z_1}}} \\overline{{\\nu_L^{\\prime}}_{i}} {Y}_{i,j} {\\nu_R^{\\prime}}_{j} - i {{G_{Z_1}}} \\overline{{\\nu_R^{\\prime}}_{j}} {Y}_{i,j} {\\nu_L^{\\prime}}_{i} - i {{G_{Z_2}}} \\overline{{S^{c}}_{i}} {Y_{R}}_{i,j} {\\nu_R^{\\prime}}_{j} + i {{G_{Z_2}}} \\overline{{\\nu_R^{\\prime}}_{j}} {S^{c}}_{i} {Y_{R}}_{i,j} + {{H_1^0}} \\overline{{\\ell_L^{\\prime}}_{i}} {\\ell_R^{\\prime}}_{j} {\\tilde{Y}}_{i,j} + {{H_1^0}} \\overline{{\\ell_R^{\\prime}}_{j}} {\\ell_L^{\\prime}}_{i} {\\tilde{Y}}_{i,j} + {{H_1^0}} \\overline{{\\nu_L^{\\prime}}_{i}} {Y}_{i,j} {\\nu_R^{\\prime}}_{j} + {{H_1^0}} \\overline{{\\nu_R^{\\prime}}_{j}} {Y}_{i,j} {\\nu_L^{\\prime}}_{i} + {{H_2^0}} \\overline{{S^{c}}_{i}} {Y_{R}}_{i,j} {\\nu_R^{\\prime}}_{j} + {{H_2^0}} \\overline{{\\nu_R^{\\prime}}_{j}} {S^{c}}_{i} {Y_{R}}_{i,j} + {{H_3^0}} \\overline{{\\ell_L^{\\prime}}_{i}} {Y}_{i,j} {\\ell_R^{\\prime}}_{j} + {{H_3^0}} \\overline{{\\ell_R^{\\prime}}_{j}} {Y}_{i,j} {\\ell_L^{\\prime}}_{i} + {{H_3^0}} \\overline{{\\nu_L^{\\prime}}_{i}} {\\nu_R^{\\prime}}_{j} {\\tilde{Y}}_{i,j} + {{H_3^0}} \\overline{{\\nu_R^{\\prime}}_{j}} {\\nu_L^{\\prime}}_{i} {\\tilde{Y}}_{i,j} + {{H_4^0}} \\overline{{S}_{i}} {Y_{L}}_{i,j} {\\nu_L^{\\prime}}_{j} + {{H_4^0}} \\overline{{\\nu_L^{\\prime}}_{j}} {S}_{i} {Y_{L}}_{i,j} - {{H_L^+}} \\overline{{\\ell_L^{\\prime}}_{j}} {S}_{i} {Y_{L}}_{i,j} + {{H_R^+}} \\overline{{\\nu_L^{\\prime}}_{i}} {Y}_{i,j} {\\ell_R^{\\prime}}_{j} - {{H_R^+}} \\overline{{\\nu_R^{\\prime}}_{j}} {\\ell_L^{\\prime}}_{i} {\\tilde{Y}}_{i,j} + \\overline{{{G_L^+}}} \\overline{{\\ell_L^{\\prime}}_{i}} {Y}_{i,j} {\\nu_R^{\\prime}}_{j} - \\overline{{{G_L^+}}} \\overline{{\\ell_R^{\\prime}}_{j}} {\\nu_L^{\\prime}}_{i} {\\tilde{Y}}_{i,j} - \\overline{{{G_R^+}}} \\overline{{S^{c}}_{i}} {Y_{R}}_{i,j} {\\ell_R^{\\prime}}_{j} - \\overline{{{H_L^+}}} \\overline{{S}_{i}} {Y_{L}}_{i,j} {\\ell_L^{\\prime}}_{j} - \\overline{{{H_R^+}}} \\overline{{\\ell_L^{\\prime}}_{i}} {\\nu_R^{\\prime}}_{j} {\\tilde{Y}}_{i,j} + \\overline{{{H_R^+}}} \\overline{{\\ell_R^{\\prime}}_{j}} {Y}_{i,j} {\\nu_L^{\\prime}}_{i} + \\frac{\\overline{{S}_{j}} {S^{c}}_{i} {\\mu}_{i,j}}{2} + \\frac{\\overline{{S^{c}}_{i}} {S}_{j} {\\mu}_{i,j}}{2}$"
      ],
      "text/plain": [
       "                        ______                                                 ↪\n",
       "  \\alpha₁⋅k₁⋅{{H_1__0}}⋅S^c[i]⋅Y_R[i, j]⋅\\nu_R^{\\prime}[j]   \\alpha₁⋅k₁⋅{{H_1_ ↪\n",
       "- ──────────────────────────────────────────────────────── - ───────────────── ↪\n",
       "                        2⋅\\rho₁⋅v_R                                            ↪\n",
       "\n",
       "↪      _________________                                          ____________ ↪\n",
       "↪ _0}}⋅\\nu_R^{\\prime}[j]⋅S^c[i]⋅Y_R[i, j]   \\alpha₁⋅k₁⋅{{H_2__0}}⋅\\ell_L^{\\pri ↪\n",
       "↪ ─────────────────────────────────────── + ────────────────────────────────── ↪\n",
       "↪      2⋅\\rho₁⋅v_R                                                          2⋅ ↪\n",
       "\n",
       "↪ ______                                                            __________ ↪\n",
       "↪ me}[i]⋅\\ell_R^{\\prime}[j]⋅\\tilde{Y}[i, j]   \\alpha₁⋅k₁⋅{{H_2__0}}⋅\\ell_R^{\\p ↪\n",
       "↪ ───────────────────────────────────────── + ──────────────────────────────── ↪\n",
       "↪ \\rho₁⋅v_R                                                                    ↪\n",
       "\n",
       "↪ ________                                                            ________ ↪\n",
       "↪ rime}[j]⋅\\ell_L^{\\prime}[i]⋅\\tilde{Y}[i, j]   \\alpha₁⋅k₁⋅{{H_2__0}}⋅\\nu_L^{\\ ↪\n",
       "↪ ─────────────────────────────────────────── + ────────────────────────────── ↪\n",
       "↪ 2⋅\\rho₁⋅v_R                                                              2⋅\\ ↪\n",
       "\n",
       "↪ _________                                                   ________________ ↪\n",
       "↪ prime}[i]⋅Y[i, j]⋅\\nu_R^{\\prime}[j]   \\alpha₁⋅k₁⋅{{H_2__0}}⋅\\nu_R^{\\prime}[j ↪\n",
       "↪ ─────────────────────────────────── + ────────────────────────────────────── ↪\n",
       "↪ rho₁⋅v_R                                                         2⋅\\rho₁⋅v_R ↪\n",
       "\n",
       "↪ _                                                   ______                   ↪\n",
       "↪ ]⋅Y[i, j]⋅\\nu_L^{\\prime}[i]   \\alpha₃⋅k₁⋅{{H_1__0}}⋅S^c[i]⋅Y_R[i, j]⋅\\nu_R^{ ↪\n",
       "↪ ─────────────────────────── - ────────────────────────────────────────────── ↪\n",
       "↪                                                     2⋅\\rho₁⋅v_R              ↪\n",
       "\n",
       "↪                                    _________________                         ↪\n",
       "↪ \\prime}[j]   \\alpha₃⋅k₁⋅{{H_1__0}}⋅\\nu_R^{\\prime}[j]⋅S^c[i]⋅Y_R[i, j]   \\alp ↪\n",
       "↪ ────────── - ──────────────────────────────────────────────────────── + ──── ↪\n",
       "↪                                    2⋅\\rho₁⋅v_R                               ↪\n",
       "\n",
       "↪                   __________________                                         ↪\n",
       "↪ ha₃⋅k₁⋅{{H_2__0}}⋅\\ell_L^{\\prime}[i]⋅\\ell_R^{\\prime}[j]⋅\\tilde{Y}[i, j]   \\a ↪\n",
       "↪ ─────────────────────────────────────────────────────────────────────── + ── ↪\n",
       "↪                             2⋅\\rho₁⋅v_R                                      ↪\n",
       "\n",
       "↪                     __________________                                       ↪\n",
       "↪ lpha₃⋅k₁⋅{{H_2__0}}⋅\\ell_R^{\\prime}[j]⋅\\ell_L^{\\prime}[i]⋅\\tilde{Y}[i, j]    ↪\n",
       "↪ ───────────────────────────────────────────────────────────────────────── +  ↪\n",
       "↪                               2⋅\\rho₁⋅v_R                                    ↪\n",
       "\n",
       "↪                       _________________                                      ↪\n",
       "↪ \\alpha₃⋅k₁⋅{{H_2__0}}⋅\\nu_L^{\\prime}[i]⋅Y[i, j]⋅\\nu_R^{\\prime}[j]   \\alpha₃⋅ ↪\n",
       "↪ ───────────────────────────────────────────────────────────────── + ──────── ↪\n",
       "↪                            2⋅\\rho₁⋅v_R                                       ↪\n",
       "\n",
       "↪               _________________                                              ↪\n",
       "↪ k₁⋅{{H_2__0}}⋅\\nu_R^{\\prime}[j]⋅Y[i, j]⋅\\nu_L^{\\prime}[i]      _____________ ↪\n",
       "↪ ───────────────────────────────────────────────────────── + k₁⋅\\ell_L^{\\prim ↪\n",
       "↪                    2⋅\\rho₁⋅v_R                                               ↪\n",
       "\n",
       "↪                                                                              ↪\n",
       "↪ _____                                         __________________             ↪\n",
       "↪ e}[i]⋅\\ell_R^{\\prime}[j]⋅\\tilde{Y}[i, j] + k₁⋅\\ell_R^{\\prime}[j]⋅\\ell_L^{\\pr ↪\n",
       "↪                                                                              ↪\n",
       "\n",
       "↪                                                                              ↪\n",
       "↪                              _________________                               ↪\n",
       "↪ ime}[i]⋅\\tilde{Y}[i, j] + k₁⋅\\nu_L^{\\prime}[i]⋅Y[i, j]⋅\\nu_R^{\\prime}[j] + k ↪\n",
       "↪                                                                              ↪\n",
       "\n",
       "↪                                                               ______________ ↪\n",
       "↪   _________________                             k₁⋅{{G_R__+}}⋅\\nu_L^{\\prime} ↪\n",
       "↪ ₁⋅\\nu_R^{\\prime}[j]⋅Y[i, j]⋅\\nu_L^{\\prime}[i] - ──────────────────────────── ↪\n",
       "↪                                                                            v ↪\n",
       "\n",
       "↪ ___                                            _________________             ↪\n",
       "↪ [i]⋅Y[i, j]⋅\\ell_R^{\\prime}[j]   k₁⋅{{G_R__+}}⋅\\nu_R^{\\prime}[j]⋅\\ell_L^{\\pr ↪\n",
       "↪ ────────────────────────────── + ─────────────────────────────────────────── ↪\n",
       "↪ _R                                                              v_R          ↪\n",
       "\n",
       "↪                                         __________________                   ↪\n",
       "↪ ime}[i]⋅\\tilde{Y}[i, j]   k₁⋅{{H_R__+}}⋅\\ell_R^{\\prime}[j]⋅S^c[i]⋅Y_R[i, j]  ↪\n",
       "↪ ─────────────────────── - ─────────────────────────────────────────────────  ↪\n",
       "↪                                                  v_R                         ↪\n",
       "\n",
       "↪      __________ __________________                                        __ ↪\n",
       "↪   k₁⋅{{G_R__+}}⋅\\ell_L^{\\prime}[i]⋅\\nu_R^{\\prime}[j]⋅\\tilde{Y}[i, j]   k₁⋅{{ ↪\n",
       "↪ + ────────────────────────────────────────────────────────────────── - ───── ↪\n",
       "↪                                  v_R                                         ↪\n",
       "\n",
       "↪ ________ __________________                                __________ ______ ↪\n",
       "↪ G_R__+}}⋅\\ell_R^{\\prime}[j]⋅Y[i, j]⋅\\nu_L^{\\prime}[i]   k₁⋅{{H_R__+}}⋅S^c[i] ↪\n",
       "↪ ───────────────────────────────────────────────────── - ──────────────────── ↪\n",
       "↪                       v_R                                                    ↪\n",
       "\n",
       "↪                                                                              ↪\n",
       "↪ ⋅Y_R[i, j]⋅\\ell_R^{\\prime}[j]       ______                                   ↪\n",
       "↪ ───────────────────────────── + v_R⋅S^c[i]⋅Y_R[i, j]⋅\\nu_R^{\\prime}[j] + v_R ↪\n",
       "↪    v_R                                                                       ↪\n",
       "\n",
       "↪                                                                              ↪\n",
       "↪  _________________                                 __________________        ↪\n",
       "↪ ⋅\\nu_R^{\\prime}[j]⋅S^c[i]⋅Y_R[i, j] + ⅈ⋅{{A_1__0}}⋅\\ell_L^{\\prime}[i]⋅Y[i, j ↪\n",
       "↪                                                                              ↪\n",
       "\n",
       "↪                                                                              ↪\n",
       "↪                                     __________________                       ↪\n",
       "↪ ]⋅\\ell_R^{\\prime}[j] - ⅈ⋅{{A_1__0}}⋅\\ell_R^{\\prime}[j]⋅Y[i, j]⋅\\ell_L^{\\prim ↪\n",
       "↪                                                                              ↪\n",
       "\n",
       "↪                                                                              ↪\n",
       "↪                      _________________                                       ↪\n",
       "↪ e}[i] - ⅈ⋅{{A_1__0}}⋅\\nu_L^{\\prime}[i]⋅\\nu_R^{\\prime}[j]⋅\\tilde{Y}[i, j] + ⅈ ↪\n",
       "↪                                                                              ↪\n",
       "\n",
       "↪                                                                              ↪\n",
       "↪             _________________                                                ↪\n",
       "↪ ⋅{{A_1__0}}⋅\\nu_R^{\\prime}[j]⋅\\nu_L^{\\prime}[i]⋅\\tilde{Y}[i, j] - ⅈ⋅{{A_2__0 ↪\n",
       "↪                                                                              ↪\n",
       "\n",
       "↪                                                                              ↪\n",
       "↪    ____                                            _________________         ↪\n",
       "↪ }}⋅S[i]⋅Y_L[i, j]⋅\\nu_L^{\\prime}[j] + ⅈ⋅{{A_2__0}}⋅\\nu_L^{\\prime}[j]⋅S[i]⋅Y_ ↪\n",
       "↪                                                                              ↪\n",
       "\n",
       "↪                                                                              ↪\n",
       "↪                      _________________                                       ↪\n",
       "↪ L[i, j] - {{G_L__+}}⋅\\nu_L^{\\prime}[i]⋅\\ell_R^{\\prime}[j]⋅\\tilde{Y}[i, j] +  ↪\n",
       "↪                                                                              ↪\n",
       "\n",
       "↪                                                                              ↪\n",
       "↪            _________________                                         _______ ↪\n",
       "↪ {{G_L__+}}⋅\\nu_R^{\\prime}[j]⋅Y[i, j]⋅\\ell_L^{\\prime}[i] - {{G_R__+}}⋅\\ell_R^ ↪\n",
       "↪                                                                              ↪\n",
       "\n",
       "↪                                                                              ↪\n",
       "↪ ___________                                  __________________              ↪\n",
       "↪ {\\prime}[j]⋅S^c[i]⋅Y_R[i, j] - ⅈ⋅{{G_{Z_1}}}⋅\\ell_L^{\\prime}[i]⋅\\ell_R^{\\pri ↪\n",
       "↪                                                                              ↪\n",
       "\n",
       "↪                                                                              ↪\n",
       "↪                                        __________________                    ↪\n",
       "↪ me}[j]⋅\\tilde{Y}[i, j] + ⅈ⋅{{G_{Z_1}}}⋅\\ell_R^{\\prime}[j]⋅\\ell_L^{\\prime}[i] ↪\n",
       "↪                                                                              ↪\n",
       "\n",
       "↪                                                                              ↪\n",
       "↪                                  _________________                           ↪\n",
       "↪ ⋅\\tilde{Y}[i, j] + ⅈ⋅{{G_{Z_1}}}⋅\\nu_L^{\\prime}[i]⋅Y[i, j]⋅\\nu_R^{\\prime}[j] ↪\n",
       "↪                                                                              ↪\n",
       "\n",
       "↪                                                                              ↪\n",
       "↪                  _________________                                           ↪\n",
       "↪  - ⅈ⋅{{G_{Z_1}}}⋅\\nu_R^{\\prime}[j]⋅Y[i, j]⋅\\nu_L^{\\prime}[i] - ⅈ⋅{{G_{Z_2}}} ↪\n",
       "↪                                                                              ↪\n",
       "\n",
       "↪                                                                              ↪\n",
       "↪  ______                                             _________________        ↪\n",
       "↪ ⋅S^c[i]⋅Y_R[i, j]⋅\\nu_R^{\\prime}[j] + ⅈ⋅{{G_{Z_2}}}⋅\\nu_R^{\\prime}[j]⋅S^c[i] ↪\n",
       "↪                                                                              ↪\n",
       "\n",
       "↪                                                                              ↪\n",
       "↪                         __________________                                   ↪\n",
       "↪ ⋅Y_R[i, j] + {{H_1__0}}⋅\\ell_L^{\\prime}[i]⋅\\ell_R^{\\prime}[j]⋅\\tilde{Y}[i, j ↪\n",
       "↪                                                                              ↪\n",
       "\n",
       "↪                                                                              ↪\n",
       "↪                __________________                                            ↪\n",
       "↪ ] + {{H_1__0}}⋅\\ell_R^{\\prime}[j]⋅\\ell_L^{\\prime}[i]⋅\\tilde{Y}[i, j] + {{H_1 ↪\n",
       "↪                                                                              ↪\n",
       "\n",
       "↪                                                                              ↪\n",
       "↪       _________________                                        _____________ ↪\n",
       "↪ __0}}⋅\\nu_L^{\\prime}[i]⋅Y[i, j]⋅\\nu_R^{\\prime}[j] + {{H_1__0}}⋅\\nu_R^{\\prime ↪\n",
       "↪                                                                              ↪\n",
       "\n",
       "↪                                                                              ↪\n",
       "↪ ____                                        ______                           ↪\n",
       "↪ }[j]⋅Y[i, j]⋅\\nu_L^{\\prime}[i] + {{H_2__0}}⋅S^c[i]⋅Y_R[i, j]⋅\\nu_R^{\\prime}[ ↪\n",
       "↪                                                                              ↪\n",
       "\n",
       "↪                                                                              ↪\n",
       "↪                 _________________                               ____________ ↪\n",
       "↪ j] + {{H_2__0}}⋅\\nu_R^{\\prime}[j]⋅S^c[i]⋅Y_R[i, j] + {{H_3__0}}⋅\\ell_L^{\\pri ↪\n",
       "↪                                                                              ↪\n",
       "\n",
       "↪                                                                              ↪\n",
       "↪ ______                                         __________________            ↪\n",
       "↪ me}[i]⋅Y[i, j]⋅\\ell_R^{\\prime}[j] + {{H_3__0}}⋅\\ell_R^{\\prime}[j]⋅Y[i, j]⋅\\e ↪\n",
       "↪                                                                              ↪\n",
       "\n",
       "↪                                                                              ↪\n",
       "↪                               _________________                              ↪\n",
       "↪ ll_L^{\\prime}[i] + {{H_3__0}}⋅\\nu_L^{\\prime}[i]⋅\\nu_R^{\\prime}[j]⋅\\tilde{Y}[ ↪\n",
       "↪                                                                              ↪\n",
       "\n",
       "↪                                                                              ↪\n",
       "↪                    _________________                                         ↪\n",
       "↪ i, j] + {{H_3__0}}⋅\\nu_R^{\\prime}[j]⋅\\nu_L^{\\prime}[i]⋅\\tilde{Y}[i, j] + {{H ↪\n",
       "↪                                                                              ↪\n",
       "\n",
       "↪                                                                              ↪\n",
       "↪         ____                                          _________________      ↪\n",
       "↪ _4__0}}⋅S[i]⋅Y_L[i, j]⋅\\nu_L^{\\prime}[j] + {{H_4__0}}⋅\\nu_L^{\\prime}[j]⋅S[i] ↪\n",
       "↪                                                                              ↪\n",
       "\n",
       "↪                                                                              ↪\n",
       "↪                         __________________                             _____ ↪\n",
       "↪ ⋅Y_L[i, j] - {{H_L__+}}⋅\\ell_L^{\\prime}[j]⋅S[i]⋅Y_L[i, j] + {{H_R__+}}⋅\\nu_L ↪\n",
       "↪                                                                              ↪\n",
       "\n",
       "↪                                                                              ↪\n",
       "↪ ____________                                         _________________       ↪\n",
       "↪ ^{\\prime}[i]⋅Y[i, j]⋅\\ell_R^{\\prime}[j] - {{H_R__+}}⋅\\nu_R^{\\prime}[j]⋅\\ell_ ↪\n",
       "↪                                                                              ↪\n",
       "\n",
       "↪                                                                              ↪\n",
       "↪                                 __________ __________________                ↪\n",
       "↪ L^{\\prime}[i]⋅\\tilde{Y}[i, j] + {{G_L__+}}⋅\\ell_L^{\\prime}[i]⋅Y[i, j]⋅\\nu_R^ ↪\n",
       "↪                                                                              ↪\n",
       "\n",
       "↪                                                                              ↪\n",
       "↪               __________ __________________                                  ↪\n",
       "↪ {\\prime}[j] - {{G_L__+}}⋅\\ell_R^{\\prime}[j]⋅\\nu_L^{\\prime}[i]⋅\\tilde{Y}[i, j ↪\n",
       "↪                                                                              ↪\n",
       "\n",
       "↪                                                                              ↪\n",
       "↪     __________ ______                                __________ ____         ↪\n",
       "↪ ] - {{G_R__+}}⋅S^c[i]⋅Y_R[i, j]⋅\\ell_R^{\\prime}[j] - {{H_L__+}}⋅S[i]⋅Y_L[i,  ↪\n",
       "↪                                                                              ↪\n",
       "\n",
       "↪                                                                              ↪\n",
       "↪                         __________ __________________                        ↪\n",
       "↪ j]⋅\\ell_L^{\\prime}[j] - {{H_R__+}}⋅\\ell_L^{\\prime}[i]⋅\\nu_R^{\\prime}[j]⋅\\til ↪\n",
       "↪                                                                              ↪\n",
       "\n",
       "↪                                                                         ____ ↪\n",
       "↪               __________ __________________                             S[j] ↪\n",
       "↪ de{Y}[i, j] + {{H_R__+}}⋅\\ell_R^{\\prime}[j]⋅Y[i, j]⋅\\nu_L^{\\prime}[i] + ──── ↪\n",
       "↪                                                                              ↪\n",
       "\n",
       "↪                     ______               \n",
       "↪ ⋅S^c[i]⋅\\mu[i, j]   S^c[i]⋅S[j]⋅\\mu[i, j]\n",
       "↪ ───────────────── + ─────────────────────\n",
       "↪       2                       2          "
      ]
     },
     "execution_count": 79,
     "metadata": {},
     "output_type": "execute_result"
    }
   ],
   "source": [
    "Lyuk_lep_phys1.subs(vL, 0).subs(k2, 0)"
   ]
  },
  {
   "cell_type": "code",
   "execution_count": 104,
   "metadata": {},
   "outputs": [],
   "source": [
    "MD = IndexedBase('M_D')\n",
    "mD = IndexedBase('m_D')\n"
   ]
  },
  {
   "cell_type": "code",
   "execution_count": 105,
   "metadata": {},
   "outputs": [
    {
     "data": {
      "image/png": "[encoded data removed]",
      "text/latex": [
       "$\\displaystyle {{H_1^0}} \\left(- \\frac{\\sqrt{2} \\alpha_{1} k_{1} \\overline{{S^{c}}_{i}} {M_{D}}_{i,j} {\\nu_R^{\\prime}}_{j}}{2 \\rho_{1} v_{R}^{2}} - \\frac{\\sqrt{2} \\alpha_{1} k_{1} \\overline{{\\nu_R^{\\prime}}_{j}} {M_{D}}_{i,j} {S^{c}}_{i}}{2 \\rho_{1} v_{R}^{2}} - \\frac{\\sqrt{2} \\alpha_{3} k_{1} \\overline{{S^{c}}_{i}} {M_{D}}_{i,j} {\\nu_R^{\\prime}}_{j}}{2 \\rho_{1} v_{R}^{2}} - \\frac{\\sqrt{2} \\alpha_{3} k_{1} \\overline{{\\nu_R^{\\prime}}_{j}} {M_{D}}_{i,j} {S^{c}}_{i}}{2 \\rho_{1} v_{R}^{2}} + \\overline{{\\ell_L^{\\prime}}_{i}} {\\ell_R^{\\prime}}_{j} {\\tilde{Y}}_{i,j} + \\overline{{\\ell_R^{\\prime}}_{j}} {\\ell_L^{\\prime}}_{i} {\\tilde{Y}}_{i,j} + \\frac{\\sqrt{2} \\overline{{\\nu_L^{\\prime}}_{i}} {M_{D}}_{i,j} {\\nu_R^{\\prime}}_{j}}{v_{R}} + \\frac{\\sqrt{2} \\overline{{\\nu_R^{\\prime}}_{j}} {M_{D}}_{i,j} {\\nu_L^{\\prime}}_{i}}{v_{R}}\\right)$"
      ],
      "text/plain": [
       "           ⎛                ______                                             ↪\n",
       "           ⎜  √2⋅\\alpha₁⋅k₁⋅S^c[i]⋅M_D[i, j]⋅\\nu_R^{\\prime}[j]   √2⋅\\alpha₁⋅k₁ ↪\n",
       "{{H_1__0}}⋅⎜- ──────────────────────────────────────────────── - ───────────── ↪\n",
       "           ⎜                               2                                   ↪\n",
       "           ⎝                    2⋅\\rho₁⋅v_R                                    ↪\n",
       "\n",
       "↪  _________________                                  ______                   ↪\n",
       "↪ ⋅\\nu_R^{\\prime}[j]⋅M_D[i, j]⋅S^c[i]   √2⋅\\alpha₃⋅k₁⋅S^c[i]⋅M_D[i, j]⋅\\nu_R^{ ↪\n",
       "↪ ─────────────────────────────────── - ────────────────────────────────────── ↪\n",
       "↪                 2                                                  2         ↪\n",
       "↪      2⋅\\rho₁⋅v_R                                        2⋅\\rho₁⋅v_R          ↪\n",
       "\n",
       "↪                            _________________                                 ↪\n",
       "↪ \\prime}[j]   √2⋅\\alpha₃⋅k₁⋅\\nu_R^{\\prime}[j]⋅M_D[i, j]⋅S^c[i]   ____________ ↪\n",
       "↪ ────────── - ──────────────────────────────────────────────── + \\ell_L^{\\pri ↪\n",
       "↪                                           2                                  ↪\n",
       "↪                                2⋅\\rho₁⋅v_R                                   ↪\n",
       "\n",
       "↪                                                                              ↪\n",
       "↪ ______                                      __________________               ↪\n",
       "↪ me}[i]⋅\\ell_R^{\\prime}[j]⋅\\tilde{Y}[i, j] + \\ell_R^{\\prime}[j]⋅\\ell_L^{\\prim ↪\n",
       "↪                                                                              ↪\n",
       "↪                                                                              ↪\n",
       "\n",
       "↪                            _________________                                 ↪\n",
       "↪                         √2⋅\\nu_L^{\\prime}[i]⋅M_D[i, j]⋅\\nu_R^{\\prime}[j]   √ ↪\n",
       "↪ e}[i]⋅\\tilde{Y}[i, j] + ──────────────────────────────────────────────── + ─ ↪\n",
       "↪                                               v_R                            ↪\n",
       "↪                                                                              ↪\n",
       "\n",
       "↪   _________________                            ⎞\n",
       "↪ 2⋅\\nu_R^{\\prime}[j]⋅M_D[i, j]⋅\\nu_L^{\\prime}[i]⎟\n",
       "↪ ───────────────────────────────────────────────⎟\n",
       "↪                      v_R                       ⎟\n",
       "↪                                                ⎠"
      ]
     },
     "execution_count": 105,
     "metadata": {},
     "output_type": "execute_result"
    }
   ],
   "source": [
    "L_H10 = H10*(Lyuk_lep_phys1.subs(vL, 0).subs(k2, 0).coeff(H10).collect(\n",
    "    [\n",
    "        conjugate(lLp[i])*lLp[i], conjugate(lRp[i])*lRp[i],\n",
    "        conjugate(nuLp[i])*nuLp[i], conjugate(nuRp[i])*nuRp[i]\n",
    "    ], lambda x:x.expand()\n",
    ").subs(\n",
    "    Y[i,j], (sqrt(2)/k1)*mD[i, j]\n",
    ").subs(\n",
    "    YR[i,j], (sqrt(2)/vR)*MD[i, j]\n",
    ").subs(\n",
    "    mD[i,j], (k1/vR)*MD[i,j]\n",
    ")\n",
    ")\n",
    "L_H10"
   ]
  },
  {
   "cell_type": "code",
   "execution_count": 106,
   "metadata": {},
   "outputs": [
    {
     "data": {
      "image/png": "[encoded data removed]",
      "text/latex": [
       "$\\displaystyle 0$"
      ],
      "text/plain": [
       "0"
      ]
     },
     "execution_count": 106,
     "metadata": {},
     "output_type": "execute_result"
    }
   ],
   "source": [
    "KroneckerDelta(1,2)"
   ]
  },
  {
   "cell_type": "code",
   "execution_count": 94,
   "metadata": {},
   "outputs": [],
   "source": [
    "nu = IndexedBase('n')\n",
    "l = IndexedBase(r'\\ell')\n",
    "UR = IndexedBase('U^R')\n",
    "UL = IndexedBase('U^L')\n",
    "US = IndexedBase('U^S')\n",
    "\n",
    "\n",
    "n_changes = {\n",
    "    conjugate(nuLp[i])*Y[i,j]*nuRp[j]:conjugate(nu[i])*conjugate(UL[k,i])*Y[k,l]*UR[l,j]*nu[j],\n",
    "    conjugate(nuRp[j])*Y[i,j]*nuLp[i]:conjugate(nu[j])*conjugate(UR[k,j])*Y[k,l]*UL[l, i]*nu[i],\n",
    "    conjugate(nuRp[j])*SingletC[i]*Y[i,j]:conjugate(nu[j])*conjugate(UR[k,j])*Y[k,l]*US[l, i]*nu[i],\n",
    "    conjugate(SingletC[i])*Y[i,j]*nuRp[j]:conjugate(nu[i])*conjugate(US[k,i])*Y[k,l]*UR[l,j]*nu[j],\n",
    "}\n",
    "l_changes = {\n",
    "    conjugate(lLp[i])*lRp[j]:conjugate(l[i])*l[j]*KroneckerDelta(i,j),\n",
    "    conjugate(lRp[j])*lLp[i]:conjugate(l[j])*l[i]*KroneckerDelta(i,j)\n",
    "}\n"
   ]
  },
  {
   "cell_type": "code",
   "execution_count": 95,
   "metadata": {},
   "outputs": [
    {
     "name": "stdout",
     "output_type": "stream",
     "text": [
      "Basis changes\n",
      "Weak: \n"
     ]
    },
    {
     "data": {
      "image/png": "[encoded data removed]",
      "text/latex": [
       "$\\displaystyle \\overline{{\\nu_L^{\\prime}}_{i}} {Y}_{i,j} {\\nu_R^{\\prime}}_{j}$"
      ],
      "text/plain": [
       "_________________                          \n",
       "\\nu_L^{\\prime}[i]⋅Y[i, j]⋅\\nu_R^{\\prime}[j]"
      ]
     },
     "metadata": {},
     "output_type": "display_data"
    },
    {
     "name": "stdout",
     "output_type": "stream",
     "text": [
      "Physical: \n"
     ]
    },
    {
     "data": {
      "image/png": "[encoded data removed]",
      "text/latex": [
       "$\\displaystyle \\overline{{U^{L}}_{k,i}} \\overline{{n}_{i}} {U^{R}}_{\\ell,j} {Y}_{k,\\ell} {n}_{j}$"
      ],
      "text/plain": [
       "_________ ____                             \n",
       "U^L[k, i]⋅n[i]⋅U^R[\\ell, j]⋅Y[k, \\ell]⋅n[j]"
      ]
     },
     "metadata": {},
     "output_type": "display_data"
    },
    {
     "name": "stdout",
     "output_type": "stream",
     "text": [
      "Basis changes\n",
      "Weak: \n"
     ]
    },
    {
     "data": {
      "image/png": "[encoded data removed]",
      "text/latex": [
       "$\\displaystyle \\overline{{\\nu_R^{\\prime}}_{j}} {Y}_{i,j} {\\nu_L^{\\prime}}_{i}$"
      ],
      "text/plain": [
       "_________________                          \n",
       "\\nu_R^{\\prime}[j]⋅Y[i, j]⋅\\nu_L^{\\prime}[i]"
      ]
     },
     "metadata": {},
     "output_type": "display_data"
    },
    {
     "name": "stdout",
     "output_type": "stream",
     "text": [
      "Physical: \n"
     ]
    },
    {
     "data": {
      "image/png": "[encoded data removed]",
      "text/latex": [
       "$\\displaystyle \\overline{{U^{R}}_{k,j}} \\overline{{n}_{j}} {U^{L}}_{\\ell,i} {Y}_{k,\\ell} {n}_{i}$"
      ],
      "text/plain": [
       "_________ ____                             \n",
       "U^R[k, j]⋅n[j]⋅U^L[\\ell, i]⋅Y[k, \\ell]⋅n[i]"
      ]
     },
     "metadata": {},
     "output_type": "display_data"
    },
    {
     "name": "stdout",
     "output_type": "stream",
     "text": [
      "Basis changes\n",
      "Weak: \n"
     ]
    },
    {
     "data": {
      "image/png": "[encoded data removed]",
      "text/latex": [
       "$\\displaystyle \\overline{{\\nu_R^{\\prime}}_{j}} {S^{c}}_{i} {Y}_{i,j}$"
      ],
      "text/plain": [
       "_________________               \n",
       "\\nu_R^{\\prime}[j]⋅S^c[i]⋅Y[i, j]"
      ]
     },
     "metadata": {},
     "output_type": "display_data"
    },
    {
     "name": "stdout",
     "output_type": "stream",
     "text": [
      "Physical: \n"
     ]
    },
    {
     "data": {
      "image/png": "[encoded data removed]",
      "text/latex": [
       "$\\displaystyle \\overline{{U^{R}}_{k,j}} \\overline{{n}_{j}} {U^{S}}_{\\ell,i} {Y}_{k,\\ell} {n}_{i}$"
      ],
      "text/plain": [
       "_________ ____                             \n",
       "U^R[k, j]⋅n[j]⋅U^S[\\ell, i]⋅Y[k, \\ell]⋅n[i]"
      ]
     },
     "metadata": {},
     "output_type": "display_data"
    },
    {
     "name": "stdout",
     "output_type": "stream",
     "text": [
      "Basis changes\n",
      "Weak: \n"
     ]
    },
    {
     "data": {
      "image/png": "[encoded data removed]",
      "text/latex": [
       "$\\displaystyle \\overline{{S^{c}}_{i}} {Y}_{i,j} {\\nu_R^{\\prime}}_{j}$"
      ],
      "text/plain": [
       "______                          \n",
       "S^c[i]⋅Y[i, j]⋅\\nu_R^{\\prime}[j]"
      ]
     },
     "metadata": {},
     "output_type": "display_data"
    },
    {
     "name": "stdout",
     "output_type": "stream",
     "text": [
      "Physical: \n"
     ]
    },
    {
     "data": {
      "image/png": "[encoded data removed]",
      "text/latex": [
       "$\\displaystyle \\overline{{U^{S}}_{k,i}} \\overline{{n}_{i}} {U^{R}}_{\\ell,j} {Y}_{k,\\ell} {n}_{j}$"
      ],
      "text/plain": [
       "_________ ____                             \n",
       "U^S[k, i]⋅n[i]⋅U^R[\\ell, j]⋅Y[k, \\ell]⋅n[j]"
      ]
     },
     "metadata": {},
     "output_type": "display_data"
    }
   ],
   "source": [
    "for exp_weak, exp_phys in n_changes.items():\n",
    "    print('Basis changes')\n",
    "    print(f'Weak: ')\n",
    "    display(exp_weak)\n",
    "    print(f'Physical: ')\n",
    "    display(exp_phys)"
   ]
  },
  {
   "cell_type": "code",
   "execution_count": 96,
   "metadata": {},
   "outputs": [
    {
     "data": {
      "image/png": "[encoded data removed]",
      "text/latex": [
       "$\\displaystyle {{H_1^0}} \\left(- \\frac{\\alpha_{1} k_{1} \\overline{{U^{R}}_{k,j}} \\overline{{n}_{j}} {U^{S}}_{\\ell,i} {Y}_{k,\\ell} {n}_{i}}{2 \\rho_{1} v_{R}} - \\frac{\\alpha_{1} k_{1} \\overline{{U^{S}}_{k,i}} \\overline{{n}_{i}} {U^{R}}_{\\ell,j} {Y}_{k,\\ell} {n}_{j}}{2 \\rho_{1} v_{R}} - \\frac{\\alpha_{3} k_{1} \\overline{{U^{R}}_{k,j}} \\overline{{n}_{j}} {U^{S}}_{\\ell,i} {Y}_{k,\\ell} {n}_{i}}{2 \\rho_{1} v_{R}} - \\frac{\\alpha_{3} k_{1} \\overline{{U^{S}}_{k,i}} \\overline{{n}_{i}} {U^{R}}_{\\ell,j} {Y}_{k,\\ell} {n}_{j}}{2 \\rho_{1} v_{R}} + \\overline{{U^{L}}_{k,i}} \\overline{{n}_{i}} {U^{R}}_{\\ell,j} {Y}_{k,\\ell} {n}_{j} + \\overline{{U^{R}}_{k,j}} \\overline{{n}_{j}} {U^{L}}_{\\ell,i} {Y}_{k,\\ell} {n}_{i} + \\overline{{\\ell}_{i}} \\delta_{i j} {\\ell}_{j} {\\tilde{Y}}_{i,j} + \\overline{{\\ell}_{j}} \\delta_{i j} {\\ell}_{i} {\\tilde{Y}}_{i,j}\\right)$"
      ],
      "text/plain": [
       "           ⎛             _________ ____                                        ↪\n",
       "           ⎜  \\alpha₁⋅k₁⋅U^R[k, j]⋅n[j]⋅U^S[\\ell, i]⋅Y[k, \\ell]⋅n[i]   \\alpha₁ ↪\n",
       "{{H_1__0}}⋅⎜- ────────────────────────────────────────────────────── - ─────── ↪\n",
       "           ⎝                       2⋅\\rho₁⋅v_R                                 ↪\n",
       "\n",
       "↪     _________ ____                                           _________ ____  ↪\n",
       "↪ ⋅k₁⋅U^S[k, i]⋅n[i]⋅U^R[\\ell, j]⋅Y[k, \\ell]⋅n[j]   \\alpha₃⋅k₁⋅U^R[k, j]⋅n[j]⋅ ↪\n",
       "↪ ─────────────────────────────────────────────── - ────────────────────────── ↪\n",
       "↪               2⋅\\rho₁⋅v_R                                              2⋅\\rh ↪\n",
       "\n",
       "↪                                           _________ ____                     ↪\n",
       "↪ U^S[\\ell, i]⋅Y[k, \\ell]⋅n[i]   \\alpha₃⋅k₁⋅U^S[k, i]⋅n[i]⋅U^R[\\ell, j]⋅Y[k, \\ ↪\n",
       "↪ ──────────────────────────── - ───────────────────────────────────────────── ↪\n",
       "↪ o₁⋅v_R                                              2⋅\\rho₁⋅v_R              ↪\n",
       "\n",
       "↪                                                                              ↪\n",
       "↪ ell]⋅n[j]   _________ ____                                _________ ____     ↪\n",
       "↪ ───────── + U^L[k, i]⋅n[i]⋅U^R[\\ell, j]⋅Y[k, \\ell]⋅n[j] + U^R[k, j]⋅n[j]⋅U^L ↪\n",
       "↪                                                                              ↪\n",
       "\n",
       "↪                                                                              ↪\n",
       "↪                             _______                                _______   ↪\n",
       "↪ [\\ell, i]⋅Y[k, \\ell]⋅n[i] + \\ell[i]⋅δ   ⋅\\ell[j]⋅\\tilde{Y}[i, j] + \\ell[j]⋅δ ↪\n",
       "↪                                      i,j                                     ↪\n",
       "\n",
       "↪                            ⎞\n",
       "↪                            ⎟\n",
       "↪    ⋅\\ell[i]⋅\\tilde{Y}[i, j]⎟\n",
       "↪ i,j                        ⎠"
      ]
     },
     "execution_count": 96,
     "metadata": {},
     "output_type": "execute_result"
    }
   ],
   "source": [
    "L_H10_phys = L_H10.subs(n_changes).subs(l_changes)\n",
    "L_H10_phys"
   ]
  },
  {
   "cell_type": "code",
   "execution_count": 97,
   "metadata": {},
   "outputs": [],
   "source": [
    "terms_L_H10 = L_H10_phys.expand().as_ordered_terms()\n",
    "H10ll = 0\n",
    "H10nn = 0\n",
    "for term in terms_L_H10:\n",
    "    if term.has(l[i]) or term.has(l[j]):\n",
    "        H10ll += term\n",
    "    else:\n",
    "        H10nn += term"
   ]
  },
  {
   "cell_type": "code",
   "execution_count": 98,
   "metadata": {},
   "outputs": [
    {
     "data": {
      "image/png": "[encoded data removed]",
      "text/latex": [
       "$\\displaystyle 2 {{H_1^0}} \\overline{{\\ell}_{i}} {\\ell}_{i} {\\tilde{Y}}_{i,i}$"
      ],
      "text/plain": [
       "             _______                        \n",
       "2⋅{{H_1__0}}⋅\\ell[i]⋅\\ell[i]⋅\\tilde{Y}[i, i]"
      ]
     },
     "execution_count": 98,
     "metadata": {},
     "output_type": "execute_result"
    }
   ],
   "source": [
    "H10ll.subs(j,i)"
   ]
  },
  {
   "cell_type": "code",
   "execution_count": 99,
   "metadata": {},
   "outputs": [
    {
     "data": {
      "image/png": "[encoded data removed]",
      "text/latex": [
       "$\\displaystyle - \\frac{{{H_1^0}} \\left(- 2 \\rho_{1} v_{R} \\overline{{U^{L}}_{k,i}} + k_{1} \\left(\\alpha_{1} + \\alpha_{3}\\right) \\overline{{U^{S}}_{k,i}}\\right) \\overline{{n}_{i}} {U^{R}}_{\\ell,j} {Y}_{k,\\ell} {n}_{j}}{2 \\rho_{1} v_{R}} + \\frac{{{H_1^0}} \\left(2 \\rho_{1} v_{R} {U^{L}}_{\\ell,i} - k_{1} \\left(\\alpha_{1} + \\alpha_{3}\\right) {U^{S}}_{\\ell,i}\\right) \\overline{{U^{R}}_{k,j}} \\overline{{n}_{j}} {Y}_{k,\\ell} {n}_{i}}{2 \\rho_{1} v_{R}}$"
      ],
      "text/plain": [
       "             ⎛              _________                          _________⎞ ____ ↪\n",
       "  {{H_1__0}}⋅⎝- 2⋅\\rho₁⋅v_R⋅U^L[k, i] + k₁⋅(\\alpha₁ + \\alpha₃)⋅U^S[k, i]⎠⋅n[i] ↪\n",
       "- ──────────────────────────────────────────────────────────────────────────── ↪\n",
       "                                                 2⋅\\rho₁⋅v_R                   ↪\n",
       "\n",
       "↪                                                                              ↪\n",
       "↪ ⋅U^R[\\ell, j]⋅Y[k, \\ell]⋅n[j]   {{H_1__0}}⋅(2⋅\\rho₁⋅v_R⋅U^L[\\ell, i] - k₁⋅(\\ ↪\n",
       "↪ ───────────────────────────── + ──────────────────────────────────────────── ↪\n",
       "↪                                                                              ↪\n",
       "\n",
       "↪                                 _________ ____                \n",
       "↪ alpha₁ + \\alpha₃)⋅U^S[\\ell, i])⋅U^R[k, j]⋅n[j]⋅Y[k, \\ell]⋅n[i]\n",
       "↪ ──────────────────────────────────────────────────────────────\n",
       "↪    2⋅\\rho₁⋅v_R                                                "
      ]
     },
     "execution_count": 99,
     "metadata": {},
     "output_type": "execute_result"
    }
   ],
   "source": [
    "H10nn.collect(\n",
    "    [conjugate(nu[i])*nu[j], conjugate(nu[j])*nu[i]], \n",
    "    lambda x:x.collect(H10, lambda x:x.factor().collect(vR, factor))\n",
    ")"
   ]
  },
  {
   "cell_type": "code",
   "execution_count": null,
   "metadata": {},
   "outputs": [],
   "source": []
  }
 ],
 "metadata": {
  "kernelspec": {
   "display_name": "Python 3",
   "language": "python",
   "name": "python3"
  },
  "language_info": {
   "codemirror_mode": {
    "name": "ipython",
    "version": 3
   },
   "file_extension": ".py",
   "mimetype": "text/x-python",
   "name": "python",
   "nbconvert_exporter": "python",
   "pygments_lexer": "ipython3",
   "version": "3.12.1"
  }
 },
 "nbformat": 4,
 "nbformat_minor": 2
}
