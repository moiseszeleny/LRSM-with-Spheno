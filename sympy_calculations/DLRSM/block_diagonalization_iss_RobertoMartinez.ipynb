{
 "cells": [
  {
   "cell_type": "markdown",
   "metadata": {},
   "source": [
    "# Understanding the Inverse Seesaw in a gauged non-universal U(1)_X model\n",
    "\n",
    "In this notebook we follow the implementation of the ISS in the work [A gauged non-universal U(1)_X model to study g-2 and B meson anomalies](https://arxiv.org/abs/2105.04715)"
   ]
  },
  {
   "cell_type": "code",
   "execution_count": 3,
   "metadata": {},
   "outputs": [],
   "source": [
    "from sympy import MatrixSymbol, BlockMatrix, init_printing, ZeroMatrix, symbols, Identity, block_collapse\n",
    "from sympy import DiagonalMatrix, conjugate, factor, expand\n",
    "from sympy.physics.quantum import Dagger\n",
    "init_printing()"
   ]
  },
  {
   "cell_type": "markdown",
   "metadata": {},
   "source": [
    "If $m_D^\\prime = 0$ and $m_D = \\xi M_D$"
   ]
  },
  {
   "cell_type": "code",
   "execution_count": 4,
   "metadata": {},
   "outputs": [],
   "source": [
    "n = 3\n",
    "mD = MatrixSymbol('m_D', n,n)\n",
    "MD = MatrixSymbol('M', n,n)\n",
    "#MD = DiagonalMatrix(MD)\n",
    "mu = MatrixSymbol(r'mu', n,n)\n",
    "#mu = DiagonalMatrix(mu)\n",
    "Z1 = ZeroMatrix(n,n)\n",
    "In = Identity(n)\n",
    "epsilon = symbols(r'\\epsilon', positive=True)\n"
   ]
  },
  {
   "cell_type": "markdown",
   "metadata": {},
   "source": [
    "# Seesaw"
   ]
  },
  {
   "cell_type": "code",
   "execution_count": 5,
   "metadata": {},
   "outputs": [
    {
     "data": {
      "image/png": "[encoded data removed]",
      "text/latex": [
       "$\\displaystyle \\left[\\begin{matrix}0 & m_{D}\\\\m_{D}^{T} & M\\end{matrix}\\right]$"
      ],
      "text/plain": [
       "⎡ 𝟘    m_D⎤\n",
       "⎢         ⎥\n",
       "⎢   T     ⎥\n",
       "⎣m_D    M ⎦"
      ]
     },
     "execution_count": 5,
     "metadata": {},
     "output_type": "execute_result"
    }
   ],
   "source": [
    "\n",
    "MSS = BlockMatrix(\n",
    "    [\n",
    "        [Z1, mD],\n",
    "        [mD.T, MD]\n",
    "    ]\n",
    ")\n",
    "MSS"
   ]
  },
  {
   "cell_type": "code",
   "execution_count": 6,
   "metadata": {},
   "outputs": [],
   "source": [
    "from sympy import exp"
   ]
  },
  {
   "cell_type": "code",
   "execution_count": 7,
   "metadata": {},
   "outputs": [
    {
     "data": {
      "image/png": "[encoded data removed]",
      "text/latex": [
       "$\\displaystyle \\left( \\left[\\begin{matrix}0 & R\\\\- R^{\\dagger} & 0\\end{matrix}\\right], \\  e^{\\left[\\begin{matrix}0 & R\\\\- R^{\\dagger} & 0\\end{matrix}\\right]}\\right)$"
      ],
      "text/plain": [
       "⎛           ⎡ 𝟘   R⎤⎞\n",
       "⎜           ⎢      ⎥⎟\n",
       "⎜⎡ 𝟘   R⎤   ⎢  †   ⎥⎟\n",
       "⎜⎢      ⎥   ⎣-R   𝟘⎦⎟\n",
       "⎜⎢  †   ⎥, ℯ        ⎟\n",
       "⎝⎣-R   𝟘⎦           ⎠"
      ]
     },
     "execution_count": 7,
     "metadata": {},
     "output_type": "execute_result"
    }
   ],
   "source": [
    "R = MatrixSymbol('R', 3 , 3)\n",
    "X = BlockMatrix(\n",
    "    [\n",
    "        [Z1, R],\n",
    "        [-Dagger(R), Z1]\n",
    "    ]\n",
    ")\n",
    "Omega = exp(X)\n",
    "X,Omega"
   ]
  },
  {
   "cell_type": "code",
   "execution_count": 8,
   "metadata": {},
   "outputs": [
    {
     "data": {
      "image/png": "[encoded data removed]",
      "text/latex": [
       "$\\displaystyle \\left[\\begin{matrix}\\mathbb{I} & R\\\\- R^{\\dagger} & \\mathbb{I}\\end{matrix}\\right]$"
      ],
      "text/plain": [
       "⎡ 𝕀   R⎤\n",
       "⎢      ⎥\n",
       "⎢  †   ⎥\n",
       "⎣-R   𝕀⎦"
      ]
     },
     "execution_count": 8,
     "metadata": {},
     "output_type": "execute_result"
    }
   ],
   "source": [
    "I6 = BlockMatrix(\n",
    "    [\n",
    "        [In, Z1],\n",
    "        [Z1, In]\n",
    "    ]\n",
    ")\n",
    "#Omega_approx = block_collapse(I6 + X + X**2/2)\n",
    "Omega_approx = block_collapse(I6 + X)\n",
    "Omega_approx"
   ]
  },
  {
   "cell_type": "code",
   "execution_count": 9,
   "metadata": {},
   "outputs": [
    {
     "data": {
      "image/png": "[encoded data removed]",
      "text/latex": [
       "$\\displaystyle \\left[\\begin{matrix}\\mathbb{I} + R R^{\\dagger} & 0\\\\0 & R^{\\dagger} R + \\mathbb{I}\\end{matrix}\\right]$"
      ],
      "text/plain": [
       "⎡   †              ⎤\n",
       "⎢R⋅R  + 𝕀     𝟘    ⎥\n",
       "⎢                  ⎥\n",
       "⎢           †      ⎥\n",
       "⎣   𝟘      R ⋅R + 𝕀⎦"
      ]
     },
     "execution_count": 9,
     "metadata": {},
     "output_type": "execute_result"
    }
   ],
   "source": [
    "Omega_approxDaggerOmega_approx = block_collapse(Dagger(Omega_approx)*Omega_approx)\n",
    "Omega_approxDaggerOmega_approx"
   ]
  },
  {
   "cell_type": "code",
   "execution_count": 10,
   "metadata": {},
   "outputs": [
    {
     "data": {
      "image/png": "[encoded data removed]",
      "text/latex": [
       "$\\displaystyle 0$"
      ],
      "text/plain": [
       "𝟘"
      ]
     },
     "execution_count": 10,
     "metadata": {},
     "output_type": "execute_result"
    }
   ],
   "source": [
    "block_collapse(Omega_approxDaggerOmega_approx.blocks[0,1]).expand()"
   ]
  },
  {
   "cell_type": "code",
   "execution_count": 11,
   "metadata": {},
   "outputs": [
    {
     "data": {
      "image/png": "[encoded data removed]",
      "text/latex": [
       "$\\displaystyle 0$"
      ],
      "text/plain": [
       "𝟘"
      ]
     },
     "execution_count": 11,
     "metadata": {},
     "output_type": "execute_result"
    }
   ],
   "source": [
    "block_collapse(Omega_approxDaggerOmega_approx.blocks[1,0]).expand()"
   ]
  },
  {
   "cell_type": "code",
   "execution_count": 12,
   "metadata": {},
   "outputs": [
    {
     "data": {
      "image/png": "[encoded data removed]",
      "text/latex": [
       "$\\displaystyle \\mathbb{I} + R R^{\\dagger}$"
      ],
      "text/plain": [
       "   †    \n",
       "R⋅R  + 𝕀"
      ]
     },
     "execution_count": 12,
     "metadata": {},
     "output_type": "execute_result"
    }
   ],
   "source": [
    "block_collapse(Omega_approxDaggerOmega_approx.blocks[0,0].expand())"
   ]
  },
  {
   "cell_type": "code",
   "execution_count": 13,
   "metadata": {},
   "outputs": [
    {
     "data": {
      "image/png": "[encoded data removed]",
      "text/latex": [
       "$\\displaystyle R^{\\dagger} R + \\mathbb{I}$"
      ],
      "text/plain": [
       " †      \n",
       "R ⋅R + 𝕀"
      ]
     },
     "execution_count": 13,
     "metadata": {},
     "output_type": "execute_result"
    }
   ],
   "source": [
    "block_collapse(Omega_approxDaggerOmega_approx.blocks[1, 1].expand())"
   ]
  },
  {
   "cell_type": "code",
   "execution_count": 14,
   "metadata": {},
   "outputs": [
    {
     "data": {
      "image/png": "[encoded data removed]",
      "text/latex": [
       "$\\displaystyle \\left[\\begin{matrix}- \\left(- \\left(R^{T}\\right)^{\\dagger} M + m_{D}\\right) R^{\\dagger} - \\left(R^{T}\\right)^{\\dagger} m_{D}^{T} & - \\left(R^{T}\\right)^{\\dagger} M - \\left(R^{T}\\right)^{\\dagger} m_{D}^{T} R + m_{D}\\\\- \\left(M + R^{T} m_{D}\\right) R^{\\dagger} + m_{D}^{T} & M + R^{T} m_{D} + m_{D}^{T} R\\end{matrix}\\right]$"
      ],
      "text/plain": [
       "⎡ ⎛     †        ⎞         †            †        †             ⎤\n",
       "⎢ ⎜ ⎛ T⎞         ⎟  †  ⎛ T⎞     T   ⎛ T⎞     ⎛ T⎞     T        ⎥\n",
       "⎢-⎝-⎝R ⎠ ⋅M + m_D⎠⋅R  -⎝R ⎠ ⋅m_D   -⎝R ⎠ ⋅M -⎝R ⎠ ⋅m_D ⋅R + m_D⎥\n",
       "⎢                                                              ⎥\n",
       "⎢     ⎛ T        ⎞  †      T            T          T           ⎥\n",
       "⎣    -⎝R ⋅m_D + M⎠⋅R  + m_D            R ⋅m_D + m_D ⋅R + M     ⎦"
      ]
     },
     "execution_count": 14,
     "metadata": {},
     "output_type": "execute_result"
    }
   ],
   "source": [
    "OmegaTMSSOmega = block_collapse(Omega_approx.T*MSS*Omega_approx)\n",
    "OmegaTMSSOmega"
   ]
  },
  {
   "cell_type": "code",
   "execution_count": 15,
   "metadata": {},
   "outputs": [
    {
     "data": {
      "image/png": "[encoded data removed]",
      "text/latex": [
       "$\\displaystyle - \\left(R^{T}\\right)^{\\dagger} M - \\left(R^{T}\\right)^{\\dagger} m_{D}^{T} R + m_{D}$"
      ],
      "text/plain": [
       "     †        †             \n",
       " ⎛ T⎞     ⎛ T⎞     T        \n",
       "-⎝R ⎠ ⋅M -⎝R ⎠ ⋅m_D ⋅R + m_D"
      ]
     },
     "execution_count": 15,
     "metadata": {},
     "output_type": "execute_result"
    }
   ],
   "source": [
    "block_collapse(OmegaTMSSOmega.blocks[0,1].expand())\n"
   ]
  },
  {
   "cell_type": "code",
   "execution_count": 16,
   "metadata": {},
   "outputs": [],
   "source": [
    "from sympy import Sum, Add, MatAdd, Basic\n",
    "\n",
    "def count_symbol_occurrences_in_terms(expr, target_symbol):\n",
    "    \"\"\"\n",
    "    Counts the number of times a target symbol appears within each\n",
    "    additive term of a SymPy expression.\n",
    "\n",
    "    Args:\n",
    "        expr: The SymPy expression (e.g., Add, MatAdd, or a single term).\n",
    "        target_symbol: The SymPy symbol (e.g., MatrixSymbol) to count within\n",
    "                    each term.\n",
    "\n",
    "    Returns:\n",
    "        list: A list of integers. Each integer represents the number of times\n",
    "            target_symbol occurs in the corresponding additive term of expr.\n",
    "            The order matches the order of terms in expr.args if expr is\n",
    "            an Add/MatAdd. If expr is not an addition, it returns a list\n",
    "            with a single count for the entire expression.\n",
    "\n",
    "    Raises:\n",
    "        TypeError: If expr or target_symbol are not SymPy Basic objects.\n",
    "    \"\"\"\n",
    "    # Input validation\n",
    "    if not isinstance(expr, Basic):\n",
    "        raise TypeError(f\"Expected a SymPy Basic object for expr, but got {type(expr)}\")\n",
    "    if not isinstance(target_symbol, Basic):\n",
    "        raise TypeError(f\"Expected a SymPy Basic object for target_symbol, but got {type(target_symbol)}\")\n",
    "\n",
    "    # Identify the additive terms\n",
    "    # Terms are arguments of Add or MatAdd at the top level.\n",
    "    if isinstance(expr, (Add, MatAdd)):\n",
    "        terms = expr.args\n",
    "    else:\n",
    "        # If the expression is not an addition (e.g., just R, R*R, I),\n",
    "        # treat the entire expression as a single term.\n",
    "        terms = [expr]\n",
    "\n",
    "    # Count occurrences within each term\n",
    "    occurrence_counts = {}\n",
    "    #print(f\"--- Analyzing Expression: {expr} ---\")\n",
    "    #print(f\"Target Symbol: {target_symbol}\")\n",
    "    #print(f\"Identified Terms: {terms}\")\n",
    "\n",
    "    for i, term in enumerate(terms):\n",
    "        # Use the .count() method to find occurrences within the term's tree\n",
    "        count = term.count(target_symbol)\n",
    "        #print(f\"  Term {i+1}: {term} -> Occurrences of {target_symbol}: {count}\")\n",
    "        occurrence_counts[term] = count\n",
    "\n",
    "    #print(f\"Resulting counts per term: {occurrence_counts}\")\n",
    "    #print(\"-\"*(25+len(str(expr))))\n",
    "    return occurrence_counts"
   ]
  },
  {
   "cell_type": "code",
   "execution_count": 17,
   "metadata": {},
   "outputs": [],
   "source": [
    "def approximate_block(block, order=2):\n",
    "    dict_ocurrences = count_symbol_occurrences_in_terms(\n",
    "        block_collapse(block.expand()), R\n",
    "    )\n",
    "    term_approx = Z1\n",
    "    for term, count in dict_ocurrences.items():\n",
    "        if count<order:\n",
    "            term_approx += term\n",
    "    \n",
    "    return term_approx"
   ]
  },
  {
   "cell_type": "code",
   "execution_count": 18,
   "metadata": {},
   "outputs": [
    {
     "data": {
      "image/png": "[encoded data removed]",
      "text/latex": [
       "$\\displaystyle - \\left(- \\left(R^{T}\\right)^{\\dagger} M + m_{D}\\right) R^{\\dagger} - \\left(R^{T}\\right)^{\\dagger} m_{D}^{T}$"
      ],
      "text/plain": [
       " ⎛     †        ⎞         †     \n",
       " ⎜ ⎛ T⎞         ⎟  †  ⎛ T⎞     T\n",
       "-⎝-⎝R ⎠ ⋅M + m_D⎠⋅R  -⎝R ⎠ ⋅m_D "
      ]
     },
     "metadata": {},
     "output_type": "display_data"
    },
    {
     "data": {
      "image/png": "[encoded data removed]",
      "text/latex": [
       "$\\displaystyle - \\left(R^{T}\\right)^{\\dagger} m_{D}^{T} - m_{D} R^{\\dagger}$"
      ],
      "text/plain": [
       "     †             \n",
       " ⎛ T⎞     T       †\n",
       "-⎝R ⎠ ⋅m_D  -m_D⋅R "
      ]
     },
     "metadata": {},
     "output_type": "display_data"
    },
    {
     "data": {
      "image/png": "[encoded data removed]",
      "text/latex": [
       "$\\displaystyle - \\left(R^{T}\\right)^{\\dagger} M - \\left(R^{T}\\right)^{\\dagger} m_{D}^{T} R + m_{D}$"
      ],
      "text/plain": [
       "     †        †             \n",
       " ⎛ T⎞     ⎛ T⎞     T        \n",
       "-⎝R ⎠ ⋅M -⎝R ⎠ ⋅m_D ⋅R + m_D"
      ]
     },
     "metadata": {},
     "output_type": "display_data"
    },
    {
     "data": {
      "image/png": "[encoded data removed]",
      "text/latex": [
       "$\\displaystyle - \\left(R^{T}\\right)^{\\dagger} M + m_{D}$"
      ],
      "text/plain": [
       "     †        \n",
       " ⎛ T⎞         \n",
       "-⎝R ⎠ ⋅M + m_D"
      ]
     },
     "metadata": {},
     "output_type": "display_data"
    },
    {
     "data": {
      "image/png": "[encoded data removed]",
      "text/latex": [
       "$\\displaystyle - \\left(M + R^{T} m_{D}\\right) R^{\\dagger} + m_{D}^{T}$"
      ],
      "text/plain": [
       " ⎛ T        ⎞  †      T\n",
       "-⎝R ⋅m_D + M⎠⋅R  + m_D "
      ]
     },
     "metadata": {},
     "output_type": "display_data"
    },
    {
     "data": {
      "image/png": "[encoded data removed]",
      "text/latex": [
       "$\\displaystyle - M R^{\\dagger} + m_{D}^{T}$"
      ],
      "text/plain": [
       "    †      T\n",
       "-M⋅R  + m_D "
      ]
     },
     "metadata": {},
     "output_type": "display_data"
    },
    {
     "data": {
      "image/png": "[encoded data removed]",
      "text/latex": [
       "$\\displaystyle M + R^{T} m_{D} + m_{D}^{T} R$"
      ],
      "text/plain": [
       " T          T      \n",
       "R ⋅m_D + m_D ⋅R + M"
      ]
     },
     "metadata": {},
     "output_type": "display_data"
    },
    {
     "data": {
      "image/png": "[encoded data removed]",
      "text/latex": [
       "$\\displaystyle M + R^{T} m_{D} + m_{D}^{T} R$"
      ],
      "text/plain": [
       " T          T      \n",
       "R ⋅m_D + m_D ⋅R + M"
      ]
     },
     "metadata": {},
     "output_type": "display_data"
    }
   ],
   "source": [
    "OmegaTMSSOmega_block_approx = []\n",
    "for block in OmegaTMSSOmega.blocks:\n",
    "    block_approx = approximate_block(block)\n",
    "    display(block)\n",
    "    display(block_approx)\n",
    "    OmegaTMSSOmega_block_approx.append(block_approx)\n"
   ]
  },
  {
   "cell_type": "code",
   "execution_count": 19,
   "metadata": {},
   "outputs": [
    {
     "data": {
      "image/png": "[encoded data removed]",
      "text/latex": [
       "$\\displaystyle - 2 m_{D} M^{-1} m_{D}^{T}$"
      ],
      "text/plain": [
       "        -1    T\n",
       "-2⋅m_D⋅M  ⋅m_D "
      ]
     },
     "execution_count": 19,
     "metadata": {},
     "output_type": "execute_result"
    }
   ],
   "source": [
    "block_collapse(OmegaTMSSOmega_block_approx[0].subs(\n",
    "    conjugate(R), mD*MD.inv()\n",
    ").subs(\n",
    "    Dagger(R), MD.inv()*mD.T\n",
    "))"
   ]
  },
  {
   "cell_type": "code",
   "execution_count": 20,
   "metadata": {},
   "outputs": [
    {
     "data": {
      "image/png": "[encoded data removed]",
      "text/latex": [
       "$\\displaystyle 0$"
      ],
      "text/plain": [
       "𝟘"
      ]
     },
     "execution_count": 20,
     "metadata": {},
     "output_type": "execute_result"
    }
   ],
   "source": [
    "block_collapse(OmegaTMSSOmega_block_approx[1].subs(\n",
    "    conjugate(R), mD*MD.inv()\n",
    ")\n",
    ")"
   ]
  },
  {
   "cell_type": "code",
   "execution_count": 21,
   "metadata": {},
   "outputs": [
    {
     "data": {
      "image/png": "[encoded data removed]",
      "text/latex": [
       "$\\displaystyle 0$"
      ],
      "text/plain": [
       "𝟘"
      ]
     },
     "execution_count": 21,
     "metadata": {},
     "output_type": "execute_result"
    }
   ],
   "source": [
    "block_collapse(OmegaTMSSOmega_block_approx[2].subs(\n",
    "    Dagger(R), MD.inv()*mD.T\n",
    ")\n",
    ")"
   ]
  },
  {
   "cell_type": "code",
   "execution_count": 22,
   "metadata": {},
   "outputs": [
    {
     "data": {
      "image/png": "[encoded data removed]",
      "text/latex": [
       "$\\displaystyle \\left( M + R^{T} m_{D} + m_{D}^{T} R, \\  \\left(M^{\\dagger}\\right)^{-1} m_{D}^{\\dagger} m_{D} + M + m_{D}^{T} \\left(m_{D}^{T}\\right)^{\\dagger} \\left(\\left(M^{T}\\right)^{\\dagger}\\right)^{-1}\\right)$"
      ],
      "text/plain": [
       "⎛                                                           -1    ⎞\n",
       "⎜                         -1                       † ⎛    †⎞      ⎟\n",
       "⎜ T          T        ⎛ †⎞      †          T ⎛   T⎞  ⎜⎛ T⎞ ⎟      ⎟\n",
       "⎝R ⋅m_D + m_D ⋅R + M, ⎝M ⎠  ⋅m_D ⋅m_D + m_D ⋅⎝m_D ⎠ ⋅⎝⎝M ⎠ ⎠   + M⎠"
      ]
     },
     "execution_count": 22,
     "metadata": {},
     "output_type": "execute_result"
    }
   ],
   "source": [
    "OmegaTMSSOmega_block_approx[3], block_collapse(OmegaTMSSOmega_block_approx[3].subs(\n",
    "    R, conjugate(mD*MD.inv())\n",
    ").subs(\n",
    "    Dagger(R), MD.inv()*mD.T\n",
    "))"
   ]
  },
  {
   "cell_type": "markdown",
   "metadata": {},
   "source": [
    "# Inverse Seesaw"
   ]
  },
  {
   "cell_type": "code",
   "execution_count": 23,
   "metadata": {},
   "outputs": [
    {
     "data": {
      "image/png": "[encoded data removed]",
      "text/latex": [
       "$\\displaystyle \\left[\\begin{matrix}0 & m_{D}^{T} & 0\\\\m_{D} & 0 & M^{T}\\\\0 & M & \\mu\\end{matrix}\\right]$"
      ],
      "text/plain": [
       "⎡        T    ⎤\n",
       "⎢ 𝟘   m_D   𝟘 ⎥\n",
       "⎢             ⎥\n",
       "⎢            T⎥\n",
       "⎢m_D   𝟘    M ⎥\n",
       "⎢             ⎥\n",
       "⎣ 𝟘    M    μ ⎦"
      ]
     },
     "execution_count": 23,
     "metadata": {},
     "output_type": "execute_result"
    }
   ],
   "source": [
    "MISS = BlockMatrix(\n",
    "    [\n",
    "        [Z1, mD.T, Z1],\n",
    "        [mD, Z1, MD.T],\n",
    "        [Z1, MD, mu]\n",
    "    ]\n",
    ")\n",
    "MISS"
   ]
  },
  {
   "cell_type": "code",
   "execution_count": 24,
   "metadata": {},
   "outputs": [
    {
     "data": {
      "image/png": "[encoded data removed]",
      "text/latex": [
       "$\\displaystyle \\left( \\left[\\begin{matrix}m_{D}^{\\dagger} & 0\\end{matrix}\\right], \\  \\left[\\begin{matrix}0 & M^{T}\\\\M & \\mu\\end{matrix}\\right]\\right)$"
      ],
      "text/plain": [
       "⎛           ⎡    T⎤⎞\n",
       "⎜⎡   †   ⎤  ⎢𝟘  M ⎥⎟\n",
       "⎜⎣m_D   𝟘⎦, ⎢     ⎥⎟\n",
       "⎝           ⎣M  μ ⎦⎠"
      ]
     },
     "execution_count": 24,
     "metadata": {},
     "output_type": "execute_result"
    }
   ],
   "source": [
    "B = BlockMatrix(\n",
    "    [\n",
    "        [Dagger(mD), Z1]\n",
    "    ]\n",
    ")\n",
    "C = BlockMatrix(\n",
    "    [\n",
    "        [Z1, MD.T],\n",
    "        [MD, mu]\n",
    "    ]\n",
    ")\n",
    "B, C\n"
   ]
  },
  {
   "cell_type": "code",
   "execution_count": 25,
   "metadata": {},
   "outputs": [
    {
     "data": {
      "image/png": "[encoded data removed]",
      "text/latex": [
       "$\\displaystyle \\left[\\begin{matrix}0 & \\left[\\begin{matrix}m_{D}^{T} & 0\\end{matrix}\\right]\\\\\\left[\\begin{matrix}m_{D}\\\\0\\end{matrix}\\right] & \\left[\\begin{matrix}0 & M^{T}\\\\M & \\mu\\end{matrix}\\right]\\end{matrix}\\right]$"
      ],
      "text/plain": [
       "⎡       ⎡   T   ⎤⎤\n",
       "⎢  𝟘    ⎣m_D   𝟘⎦⎥\n",
       "⎢                ⎥\n",
       "⎢        ⎡    T⎤ ⎥\n",
       "⎢⎡m_D⎤   ⎢𝟘  M ⎥ ⎥\n",
       "⎢⎢   ⎥   ⎢     ⎥ ⎥\n",
       "⎣⎣ 𝟘 ⎦   ⎣M  μ ⎦ ⎦"
      ]
     },
     "execution_count": 25,
     "metadata": {},
     "output_type": "execute_result"
    }
   ],
   "source": [
    "MISS_BC = BlockMatrix(\n",
    "    [\n",
    "        [Z1, block_collapse(conjugate(B))],\n",
    "        [block_collapse(conjugate(B).T), C]\n",
    "    ]\n",
    ")\n",
    "MISS_BC"
   ]
  },
  {
   "cell_type": "code",
   "execution_count": 26,
   "metadata": {},
   "outputs": [
    {
     "data": {
      "image/png": "[encoded data removed]",
      "text/latex": [
       "$\\displaystyle \\left[\\begin{matrix}- m_{D}^{\\dagger} M^{-1} \\mu \\left(M^{T}\\right)^{-1} & m_{D}^{\\dagger} M^{-1}\\end{matrix}\\right]$"
      ],
      "text/plain": [
       "⎡                -1          ⎤\n",
       "⎢    †  -1   ⎛ T⎞       †  -1⎥\n",
       "⎣-m_D ⋅M  ⋅μ⋅⎝M ⎠    m_D ⋅M  ⎦"
      ]
     },
     "execution_count": 26,
     "metadata": {},
     "output_type": "execute_result"
    }
   ],
   "source": [
    "Theta_nu = block_collapse(B*conjugate(block_collapse(conjugate(C.inv()))))\n",
    "Theta_nu"
   ]
  },
  {
   "cell_type": "code",
   "execution_count": 27,
   "metadata": {},
   "outputs": [
    {
     "data": {
      "image/png": "[encoded data removed]",
      "text/latex": [
       "$\\displaystyle \\left( 3, \\  6\\right)$"
      ],
      "text/plain": [
       "(3, 6)"
      ]
     },
     "execution_count": 27,
     "metadata": {},
     "output_type": "execute_result"
    }
   ],
   "source": [
    "Theta_nu.shape"
   ]
  },
  {
   "cell_type": "code",
   "execution_count": 28,
   "metadata": {},
   "outputs": [
    {
     "data": {
      "image/png": "[encoded data removed]",
      "text/latex": [
       "$\\displaystyle \\left[\\begin{matrix}- M^{-1} \\mu \\left(M^{T}\\right)^{-1} \\left(m_{D}^{T}\\right)^{\\dagger}\\\\\\left(M^{T}\\right)^{-1} \\left(m_{D}^{T}\\right)^{\\dagger}\\end{matrix}\\right]$"
      ],
      "text/plain": [
       "⎡           -1       †⎤\n",
       "⎢  -1   ⎛ T⎞   ⎛   T⎞ ⎥\n",
       "⎢-M  ⋅μ⋅⎝M ⎠  ⋅⎝m_D ⎠ ⎥\n",
       "⎢                     ⎥\n",
       "⎢       -1       †    ⎥\n",
       "⎢   ⎛ T⎞   ⎛   T⎞     ⎥\n",
       "⎣   ⎝M ⎠  ⋅⎝m_D ⎠     ⎦"
      ]
     },
     "execution_count": 28,
     "metadata": {},
     "output_type": "execute_result"
    }
   ],
   "source": [
    "Theta_nu_dagger = block_collapse(C.inv()*B.T)\n",
    "Theta_nu_dagger"
   ]
  },
  {
   "cell_type": "code",
   "execution_count": 29,
   "metadata": {},
   "outputs": [
    {
     "data": {
      "image/png": "[encoded data removed]",
      "text/latex": [
       "$\\displaystyle \\left( 6, \\  3\\right)$"
      ],
      "text/plain": [
       "(6, 3)"
      ]
     },
     "execution_count": 29,
     "metadata": {},
     "output_type": "execute_result"
    }
   ],
   "source": [
    "Theta_nu_dagger.shape"
   ]
  },
  {
   "cell_type": "code",
   "execution_count": 30,
   "metadata": {},
   "outputs": [
    {
     "data": {
      "image/png": "[encoded data removed]",
      "text/latex": [
       "$\\displaystyle \\left[\\begin{matrix}\\mathbb{I} & - \\left[\\begin{matrix}- m_{D}^{\\dagger} M^{-1} \\mu \\left(M^{T}\\right)^{-1} & m_{D}^{\\dagger} M^{-1}\\end{matrix}\\right]\\\\\\left[\\begin{matrix}- M^{-1} \\mu \\left(M^{T}\\right)^{-1} \\left(m_{D}^{T}\\right)^{\\dagger}\\\\\\left(M^{T}\\right)^{-1} \\left(m_{D}^{T}\\right)^{\\dagger}\\end{matrix}\\right] & \\left[\\begin{matrix}\\mathbb{I} & 0\\\\0 & \\mathbb{I}\\end{matrix}\\right]\\end{matrix}\\right]$"
      ],
      "text/plain": [
       "⎡                          ⎡                -1          ⎤⎤\n",
       "⎢           𝕀             -⎢    †  -1   ⎛ T⎞       †  -1⎥⎥\n",
       "⎢                          ⎣-m_D ⋅M  ⋅μ⋅⎝M ⎠    m_D ⋅M  ⎦⎥\n",
       "⎢                                                        ⎥\n",
       "⎢⎡           -1       †⎤                                 ⎥\n",
       "⎢⎢  -1   ⎛ T⎞   ⎛   T⎞ ⎥                                 ⎥\n",
       "⎢⎢-M  ⋅μ⋅⎝M ⎠  ⋅⎝m_D ⎠ ⎥              ⎡𝕀  𝟘⎤             ⎥\n",
       "⎢⎢                     ⎥              ⎢    ⎥             ⎥\n",
       "⎢⎢       -1       †    ⎥              ⎣𝟘  𝕀⎦             ⎥\n",
       "⎢⎢   ⎛ T⎞   ⎛   T⎞     ⎥                                 ⎥\n",
       "⎣⎣   ⎝M ⎠  ⋅⎝m_D ⎠     ⎦                                 ⎦"
      ]
     },
     "execution_count": 30,
     "metadata": {},
     "output_type": "execute_result"
    }
   ],
   "source": [
    "VSS = BlockMatrix(\n",
    "    [\n",
    "        [In, -block_collapse(Theta_nu)],\n",
    "        [Theta_nu_dagger, I6]\n",
    "    ]\n",
    ")\n",
    "VSS"
   ]
  },
  {
   "cell_type": "code",
   "execution_count": 31,
   "metadata": {},
   "outputs": [
    {
     "data": {
      "image/png": "[encoded data removed]",
      "text/latex": [
       "$\\displaystyle \\left[\\begin{matrix}0 & m_{D}^{T} & 0\\\\m_{D} & 0 & M^{T}\\\\0 & M & \\mu\\end{matrix}\\right]$"
      ],
      "text/plain": [
       "⎡        T    ⎤\n",
       "⎢ 𝟘   m_D   𝟘 ⎥\n",
       "⎢             ⎥\n",
       "⎢            T⎥\n",
       "⎢m_D   𝟘    M ⎥\n",
       "⎢             ⎥\n",
       "⎣ 𝟘    M    μ ⎦"
      ]
     },
     "execution_count": 31,
     "metadata": {},
     "output_type": "execute_result"
    }
   ],
   "source": [
    "block_collapse(MISS_BC)"
   ]
  },
  {
   "cell_type": "code",
   "execution_count": 32,
   "metadata": {},
   "outputs": [
    {
     "data": {
      "image/png": "[encoded data removed]",
      "text/latex": [
       "$\\displaystyle \\left[\\begin{matrix}\\left(m_{D}^{\\dagger} M^{-1} \\mu - m_{D}^{\\dagger} M^{-1} \\mu^{T}\\right) \\left(M^{T}\\right)^{-1} \\left(m_{D}^{T}\\right)^{\\dagger} - \\left(m_{D}^{\\dagger} + m_{D}^{T}\\right) M^{-1} \\mu \\left(M^{T}\\right)^{-1} \\left(m_{D}^{T}\\right)^{\\dagger} - m_{D}^{\\dagger} M^{-1} \\mu^{T} \\left(M^{T}\\right)^{-1} m_{D} & m_{D}^{\\dagger} - m_{D}^{\\dagger} M^{-1} \\mu^{T} \\left(M^{T}\\right)^{-1} m_{D} m_{D}^{\\dagger} M^{-1} \\mu \\left(M^{T}\\right)^{-1} + m_{D}^{T} & m_{D}^{\\dagger} M^{-1} \\mu - m_{D}^{\\dagger} M^{-1} \\mu^{T} + m_{D}^{\\dagger} M^{-1} \\mu^{T} \\left(M^{T}\\right)^{-1} m_{D} m_{D}^{\\dagger} M^{-1}\\\\\\left(m_{D}^{T}\\right)^{\\dagger} - M^{-1} \\mu^{T} \\left(M^{T}\\right)^{-1} \\left(m_{D}^{T}\\right)^{\\dagger} m_{D}^{T} M^{-1} \\mu \\left(M^{T}\\right)^{-1} \\left(m_{D}^{T}\\right)^{\\dagger} + m_{D} & M^{-1} \\mu^{T} \\left(M^{T}\\right)^{-1} \\left(m_{D}^{T}\\right)^{\\dagger} m_{D}^{T} + m_{D} m_{D}^{\\dagger} M^{-1} \\mu \\left(M^{T}\\right)^{-1} & - m_{D} m_{D}^{\\dagger} M^{-1} + M^{T}\\\\- \\left(- \\left(M^{T}\\right)^{-1} \\left(m_{D}^{T}\\right)^{\\dagger} m_{D}^{T} + M\\right) M^{-1} \\mu \\left(M^{T}\\right)^{-1} \\left(m_{D}^{T}\\right)^{\\dagger} + \\mu \\left(M^{T}\\right)^{-1} \\left(m_{D}^{T}\\right)^{\\dagger} & - \\left(M^{T}\\right)^{-1} \\left(m_{D}^{T}\\right)^{\\dagger} m_{D}^{T} + M & \\mu\\end{matrix}\\right]$"
      ],
      "text/plain": [
       "⎡                              -1       †                          -1       †  ↪\n",
       "⎢⎛   †  -1       †  -1  T⎞ ⎛ T⎞   ⎛   T⎞   ⎛   †      T⎞  -1   ⎛ T⎞   ⎛   T⎞   ↪\n",
       "⎢⎝m_D ⋅M  ⋅μ -m_D ⋅M  ⋅μ ⎠⋅⎝M ⎠  ⋅⎝m_D ⎠  -⎝m_D  + m_D ⎠⋅M  ⋅μ⋅⎝M ⎠  ⋅⎝m_D ⎠   ↪\n",
       "⎢                                                                              ↪\n",
       "⎢                              -1       †                -1       †         †  ↪\n",
       "⎢                    -1  T ⎛ T⎞   ⎛   T⎞     T  -1   ⎛ T⎞   ⎛   T⎞    ⎛   T⎞   ↪\n",
       "⎢                  -M  ⋅μ ⋅⎝M ⎠  ⋅⎝m_D ⎠ ⋅m_D ⋅M  ⋅μ⋅⎝M ⎠  ⋅⎝m_D ⎠  + ⎝m_D ⎠   ↪\n",
       "⎢                                                                              ↪\n",
       "⎢                       -1       †  ⎛     -1       †         ⎞           -1    ↪\n",
       "⎢                   ⎛ T⎞   ⎛   T⎞   ⎜ ⎛ T⎞   ⎛   T⎞     T    ⎟  -1   ⎛ T⎞   ⎛  ↪\n",
       "⎣                 μ⋅⎝M ⎠  ⋅⎝m_D ⎠  -⎝-⎝M ⎠  ⋅⎝m_D ⎠ ⋅m_D  + M⎠⋅M  ⋅μ⋅⎝M ⎠  ⋅⎝m ↪\n",
       "\n",
       "↪                  -1                       -1                    -1           ↪\n",
       "↪     †  -1  T ⎛ T⎞            †  -1  T ⎛ T⎞          †  -1   ⎛ T⎞        †    ↪\n",
       "↪ -m_D ⋅M  ⋅μ ⋅⎝M ⎠  ⋅m_D  -m_D ⋅M  ⋅μ ⋅⎝M ⎠  ⋅m_D⋅m_D ⋅M  ⋅μ⋅⎝M ⎠   + m_D  +  ↪\n",
       "↪                                                                              ↪\n",
       "↪                                       -1       †                           - ↪\n",
       "↪                             -1  T ⎛ T⎞   ⎛   T⎞     T          †  -1   ⎛ T⎞  ↪\n",
       "↪ + m_D                      M  ⋅μ ⋅⎝M ⎠  ⋅⎝m_D ⎠ ⋅m_D  + m_D⋅m_D ⋅M  ⋅μ⋅⎝M ⎠  ↪\n",
       "↪                                                                              ↪\n",
       "↪     †                                        -1       †                      ↪\n",
       "↪   T⎞                                     ⎛ T⎞   ⎛   T⎞     T                 ↪\n",
       "↪ _D ⎠                                    -⎝M ⎠  ⋅⎝m_D ⎠ ⋅m_D  + M             ↪\n",
       "\n",
       "↪                                                 -1             ⎤\n",
       "↪    T     †  -1       †  -1  T      †  -1  T ⎛ T⎞          †  -1⎥\n",
       "↪ m_D   m_D ⋅M  ⋅μ -m_D ⋅M  ⋅μ  + m_D ⋅M  ⋅μ ⋅⎝M ⎠  ⋅m_D⋅m_D ⋅M  ⎥\n",
       "↪                                                                ⎥\n",
       "↪ 1                                                              ⎥\n",
       "↪                                  †  -1    T                    ⎥\n",
       "↪                          -m_D⋅m_D ⋅M   + M                     ⎥\n",
       "↪                                                                ⎥\n",
       "↪                                                                ⎥\n",
       "↪                                                                ⎥\n",
       "↪                                   μ                            ⎦"
      ]
     },
     "execution_count": 32,
     "metadata": {},
     "output_type": "execute_result"
    }
   ],
   "source": [
    "VSSTMISSVSS = block_collapse(VSS.T*MISS*VSS)\n",
    "VSSTMISSVSS"
   ]
  },
  {
   "cell_type": "code",
   "execution_count": 33,
   "metadata": {},
   "outputs": [
    {
     "data": {
      "image/png": "[encoded data removed]",
      "text/latex": [
       "$\\displaystyle - \\left(m_{D}^{\\dagger} + m_{D}^{T}\\right) M^{-1} \\mu M^{-1} \\left(m_{D}^{T}\\right)^{\\dagger} - m_{D}^{\\dagger} M^{-1} \\mu M^{-1} m_{D}$"
      ],
      "text/plain": [
       "                               †                    \n",
       " ⎛   †      T⎞  -1    -1 ⎛   T⎞      †  -1    -1    \n",
       "-⎝m_D  + m_D ⎠⋅M  ⋅μ⋅M  ⋅⎝m_D ⎠  -m_D ⋅M  ⋅μ⋅M  ⋅m_D"
      ]
     },
     "execution_count": 33,
     "metadata": {},
     "output_type": "execute_result"
    }
   ],
   "source": [
    "block_collapse(VSSTMISSVSS.blocks[0,0].subs(MD.T, MD).subs(mu.T, mu))"
   ]
  },
  {
   "cell_type": "code",
   "execution_count": 34,
   "metadata": {},
   "outputs": [
    {
     "data": {
      "image/png": "[encoded data removed]",
      "text/latex": [
       "$\\displaystyle m_{D} - m_{D} M^{-1} \\mu M^{-1} m_{D}^{2} M^{-1} \\mu M^{-1} + m_{D}^{T}$"
      ],
      "text/plain": [
       "      -1    -1    2  -1    -1            T\n",
       "-m_D⋅M  ⋅μ⋅M  ⋅m_D ⋅M  ⋅μ⋅M   + m_D + m_D "
      ]
     },
     "execution_count": 34,
     "metadata": {},
     "output_type": "execute_result"
    }
   ],
   "source": [
    "block_collapse(VSSTMISSVSS.blocks[0,1].subs(MD.T, MD).subs(mu.T, mu).subs(Dagger(mD), mD))"
   ]
  },
  {
   "cell_type": "code",
   "execution_count": 35,
   "metadata": {},
   "outputs": [
    {
     "data": {
      "image/png": "[encoded data removed]",
      "text/latex": [
       "$\\displaystyle m_{D} M^{-1} \\mu M^{-1} m_{D}^{2} M^{-1}$"
      ],
      "text/plain": [
       "     -1    -1    2  -1\n",
       "m_D⋅M  ⋅μ⋅M  ⋅m_D ⋅M  "
      ]
     },
     "execution_count": 35,
     "metadata": {},
     "output_type": "execute_result"
    }
   ],
   "source": [
    "block_collapse(VSSTMISSVSS.blocks[0,2].subs(MD.T, MD).subs(mu.T, mu).subs(Dagger(mD), mD))"
   ]
  },
  {
   "cell_type": "markdown",
   "metadata": {},
   "source": [
    "## Particular cases"
   ]
  },
  {
   "cell_type": "code",
   "execution_count": 36,
   "metadata": {},
   "outputs": [
    {
     "data": {
      "image/png": "[encoded data removed]",
      "text/latex": [
       "$\\displaystyle \\left[\\begin{matrix}- \\mu_{N} \\left(m_{D} + m_{D}^{T}\\right) M^{-2} \\left(m_{D}^{T}\\right)^{\\dagger} + - \\mu_{N} m_{D} M^{-2} m_{D} & - \\mu_{N}^{2} m_{D} M^{-2} m_{D}^{2} M^{-2} + m_{D} + m_{D}^{T} & \\mu_{N} m_{D} M^{-2} m_{D}^{2} M^{-1}\\\\- \\mu_{N}^{2} M^{-2} \\left(m_{D}^{T}\\right)^{\\dagger} m_{D}^{T} M^{-2} \\left(m_{D}^{T}\\right)^{\\dagger} + \\left(m_{D}^{T}\\right)^{\\dagger} + m_{D} & \\mu_{N} M^{-2} \\left(m_{D}^{T}\\right)^{\\dagger} m_{D}^{T} + \\mu_{N} m_{D}^{2} M^{-2} & - m_{D}^{2} M^{-1} + M\\\\- \\mu_{N} \\left(- M^{-1} \\left(m_{D}^{T}\\right)^{\\dagger} m_{D}^{T} + M\\right) M^{-2} \\left(m_{D}^{T}\\right)^{\\dagger} + \\mu_{N} M^{-1} \\left(m_{D}^{T}\\right)^{\\dagger} & - M^{-1} \\left(m_{D}^{T}\\right)^{\\dagger} m_{D}^{T} + M & \\mu_{N} \\mathbb{I}\\end{matrix}\\right]$"
      ],
      "text/plain": [
       "⎡                                   †                                          ↪\n",
       "⎢            ⎛         T⎞  -2 ⎛   T⎞              -2                  2      - ↪\n",
       "⎢     -\\mu_N⋅⎝m_D + m_D ⎠⋅M  ⋅⎝m_D ⎠  -\\mu_N⋅m_D⋅M  ⋅m_D        -\\mu_N ⋅m_D⋅M  ↪\n",
       "⎢                                                                              ↪\n",
       "⎢                      †                †         †                            ↪\n",
       "⎢          2  -2 ⎛   T⎞     T  -2 ⎛   T⎞    ⎛   T⎞                      2  -2  ↪\n",
       "⎢    -\\mu_N ⋅M  ⋅⎝m_D ⎠ ⋅m_D ⋅M  ⋅⎝m_D ⎠  + ⎝m_D ⎠  + m_D      \\mu_N⋅m_D ⋅M    ↪\n",
       "⎢                                                                              ↪\n",
       "⎢                †        ⎛           †         ⎞           †                  ↪\n",
       "⎢       -1 ⎛   T⎞         ⎜  -1 ⎛   T⎞     T    ⎟  -2 ⎛   T⎞              -1 ⎛ ↪\n",
       "⎣\\mu_N⋅M  ⋅⎝m_D ⎠  -\\mu_N⋅⎝-M  ⋅⎝m_D ⎠ ⋅m_D  + M⎠⋅M  ⋅⎝m_D ⎠            -M  ⋅⎝ ↪\n",
       "\n",
       "↪                                                 ⎤\n",
       "↪ 2    2  -2            T              -2    2  -1⎥\n",
       "↪  ⋅m_D ⋅M   + m_D + m_D    \\mu_N⋅m_D⋅M  ⋅m_D ⋅M  ⎥\n",
       "↪                                                 ⎥\n",
       "↪                   †                             ⎥\n",
       "↪          -2 ⎛   T⎞     T          2  -1         ⎥\n",
       "↪ + \\mu_N⋅M  ⋅⎝m_D ⎠ ⋅m_D       -m_D ⋅M   + M     ⎥\n",
       "↪                                                 ⎥\n",
       "↪      †                                          ⎥\n",
       "↪    T⎞     T                                     ⎥\n",
       "↪ m_D ⎠ ⋅m_D  + M                  \\mu_N⋅𝕀        ⎦"
      ]
     },
     "execution_count": 36,
     "metadata": {},
     "output_type": "execute_result"
    }
   ],
   "source": [
    "MR, muN = symbols(r'M_R, \\mu_N', positive=True)\n",
    "VSSTMISSVSS_1 = block_collapse(VSSTMISSVSS.subs(MD.T, MD).subs(mu.T, mu).subs(\n",
    "    Dagger(mD), mD\n",
    ").subs(mu, muN*In))#.subs(mD, DiagonalMatrix(mD))\n",
    "VSSTMISSVSS_1"
   ]
  },
  {
   "cell_type": "code",
   "execution_count": 37,
   "metadata": {},
   "outputs": [
    {
     "data": {
      "image/png": "[encoded data removed]",
      "text/latex": [
       "$\\displaystyle m_{D} M^{-1} \\mu M^{-1} \\left(m_{D}^{T}\\right)^{\\dagger}$"
      ],
      "text/plain": [
       "                    †\n",
       "     -1    -1 ⎛   T⎞ \n",
       "m_D⋅M  ⋅μ⋅M  ⋅⎝m_D ⎠ "
      ]
     },
     "execution_count": 37,
     "metadata": {},
     "output_type": "execute_result"
    }
   ],
   "source": [
    "mnu_def = block_collapse((-B*C.inv()*B.T).subs(MD.T, MD).subs(Dagger(mD), mD))\n",
    "mnu_def"
   ]
  },
  {
   "cell_type": "code",
   "execution_count": 38,
   "metadata": {},
   "outputs": [
    {
     "data": {
      "image/png": "[encoded data removed]",
      "text/latex": [
       "$\\displaystyle \\left[\\begin{matrix}\\mu_{N} \\left(\\frac{\\overline{{m_{D}}_{0,0}} {m_{D}}_{0,0}}{{M}_{0,0}^{2}} + \\frac{\\overline{{m_{D}}_{1,0}} {m_{D}}_{0,1}}{{M}_{1,1}^{2}} + \\frac{\\overline{{m_{D}}_{2,0}} {m_{D}}_{0,2}}{{M}_{2,2}^{2}}\\right) & \\mu_{N} \\left(\\frac{\\overline{{m_{D}}_{0,1}} {m_{D}}_{0,0}}{{M}_{0,0}^{2}} + \\frac{\\overline{{m_{D}}_{1,1}} {m_{D}}_{0,1}}{{M}_{1,1}^{2}} + \\frac{\\overline{{m_{D}}_{2,1}} {m_{D}}_{0,2}}{{M}_{2,2}^{2}}\\right) & \\mu_{N} \\left(\\frac{\\overline{{m_{D}}_{0,2}} {m_{D}}_{0,0}}{{M}_{0,0}^{2}} + \\frac{\\overline{{m_{D}}_{1,2}} {m_{D}}_{0,1}}{{M}_{1,1}^{2}} + \\frac{\\overline{{m_{D}}_{2,2}} {m_{D}}_{0,2}}{{M}_{2,2}^{2}}\\right)\\\\\\mu_{N} \\left(\\frac{\\overline{{m_{D}}_{0,0}} {m_{D}}_{1,0}}{{M}_{0,0}^{2}} + \\frac{\\overline{{m_{D}}_{1,0}} {m_{D}}_{1,1}}{{M}_{1,1}^{2}} + \\frac{\\overline{{m_{D}}_{2,0}} {m_{D}}_{1,2}}{{M}_{2,2}^{2}}\\right) & \\mu_{N} \\left(\\frac{\\overline{{m_{D}}_{0,1}} {m_{D}}_{1,0}}{{M}_{0,0}^{2}} + \\frac{\\overline{{m_{D}}_{1,1}} {m_{D}}_{1,1}}{{M}_{1,1}^{2}} + \\frac{\\overline{{m_{D}}_{2,1}} {m_{D}}_{1,2}}{{M}_{2,2}^{2}}\\right) & \\mu_{N} \\left(\\frac{\\overline{{m_{D}}_{0,2}} {m_{D}}_{1,0}}{{M}_{0,0}^{2}} + \\frac{\\overline{{m_{D}}_{1,2}} {m_{D}}_{1,1}}{{M}_{1,1}^{2}} + \\frac{\\overline{{m_{D}}_{2,2}} {m_{D}}_{1,2}}{{M}_{2,2}^{2}}\\right)\\\\\\mu_{N} \\left(\\frac{\\overline{{m_{D}}_{0,0}} {m_{D}}_{2,0}}{{M}_{0,0}^{2}} + \\frac{\\overline{{m_{D}}_{1,0}} {m_{D}}_{2,1}}{{M}_{1,1}^{2}} + \\frac{\\overline{{m_{D}}_{2,0}} {m_{D}}_{2,2}}{{M}_{2,2}^{2}}\\right) & \\mu_{N} \\left(\\frac{\\overline{{m_{D}}_{0,1}} {m_{D}}_{2,0}}{{M}_{0,0}^{2}} + \\frac{\\overline{{m_{D}}_{1,1}} {m_{D}}_{2,1}}{{M}_{1,1}^{2}} + \\frac{\\overline{{m_{D}}_{2,1}} {m_{D}}_{2,2}}{{M}_{2,2}^{2}}\\right) & \\mu_{N} \\left(\\frac{\\overline{{m_{D}}_{0,2}} {m_{D}}_{2,0}}{{M}_{0,0}^{2}} + \\frac{\\overline{{m_{D}}_{1,2}} {m_{D}}_{2,1}}{{M}_{1,1}^{2}} + \\frac{\\overline{{m_{D}}_{2,2}} {m_{D}}_{2,2}}{{M}_{2,2}^{2}}\\right)\\end{matrix}\\right]$"
      ],
      "text/plain": [
       "⎡      ⎛______          ______          ______       ⎞        ⎛______          ↪\n",
       "⎢      ⎜m_D_00⋅m_D_00   m_D_10⋅m_D_01   m_D_20⋅m_D_02⎟        ⎜m_D_01⋅m_D_00   ↪\n",
       "⎢\\mu_N⋅⎜───────────── + ───────────── + ─────────────⎟  \\mu_N⋅⎜───────────── + ↪\n",
       "⎢      ⎜       2               2               2     ⎟        ⎜       2        ↪\n",
       "⎢      ⎝    M₀₀             M₁₁             M₂₂      ⎠        ⎝    M₀₀         ↪\n",
       "⎢                                                                              ↪\n",
       "⎢      ⎛______          ______          ______       ⎞        ⎛______          ↪\n",
       "⎢      ⎜m_D_00⋅m_D_10   m_D_10⋅m_D_11   m_D_20⋅m_D_12⎟        ⎜m_D_01⋅m_D_10   ↪\n",
       "⎢\\mu_N⋅⎜───────────── + ───────────── + ─────────────⎟  \\mu_N⋅⎜───────────── + ↪\n",
       "⎢      ⎜       2               2               2     ⎟        ⎜       2        ↪\n",
       "⎢      ⎝    M₀₀             M₁₁             M₂₂      ⎠        ⎝    M₀₀         ↪\n",
       "⎢                                                                              ↪\n",
       "⎢      ⎛______          ______          ______       ⎞        ⎛______          ↪\n",
       "⎢      ⎜m_D_00⋅m_D_20   m_D_10⋅m_D_21   m_D_20⋅m_D_22⎟        ⎜m_D_01⋅m_D_20   ↪\n",
       "⎢\\mu_N⋅⎜───────────── + ───────────── + ─────────────⎟  \\mu_N⋅⎜───────────── + ↪\n",
       "⎢      ⎜       2               2               2     ⎟        ⎜       2        ↪\n",
       "⎣      ⎝    M₀₀             M₁₁             M₂₂      ⎠        ⎝    M₀₀         ↪\n",
       "\n",
       "↪  ______          ______       ⎞        ⎛______          ______          ____ ↪\n",
       "↪  m_D_11⋅m_D_01   m_D_21⋅m_D_02⎟        ⎜m_D_02⋅m_D_00   m_D_12⋅m_D_01   m_D_ ↪\n",
       "↪  ───────────── + ─────────────⎟  \\mu_N⋅⎜───────────── + ───────────── + ──── ↪\n",
       "↪         2               2     ⎟        ⎜       2               2             ↪\n",
       "↪      M₁₁             M₂₂      ⎠        ⎝    M₀₀             M₁₁              ↪\n",
       "↪                                                                              ↪\n",
       "↪  ______          ______       ⎞        ⎛______          ______          ____ ↪\n",
       "↪  m_D_11⋅m_D_11   m_D_21⋅m_D_12⎟        ⎜m_D_02⋅m_D_10   m_D_12⋅m_D_11   m_D_ ↪\n",
       "↪  ───────────── + ─────────────⎟  \\mu_N⋅⎜───────────── + ───────────── + ──── ↪\n",
       "↪         2               2     ⎟        ⎜       2               2             ↪\n",
       "↪      M₁₁             M₂₂      ⎠        ⎝    M₀₀             M₁₁              ↪\n",
       "↪                                                                              ↪\n",
       "↪  ______          ______       ⎞        ⎛______          ______          ____ ↪\n",
       "↪  m_D_11⋅m_D_21   m_D_21⋅m_D_22⎟        ⎜m_D_02⋅m_D_20   m_D_12⋅m_D_21   m_D_ ↪\n",
       "↪  ───────────── + ─────────────⎟  \\mu_N⋅⎜───────────── + ───────────── + ──── ↪\n",
       "↪         2               2     ⎟        ⎜       2               2             ↪\n",
       "↪      M₁₁             M₂₂      ⎠        ⎝    M₀₀             M₁₁              ↪\n",
       "\n",
       "↪ __       ⎞⎤\n",
       "↪ 22⋅m_D_02⎟⎥\n",
       "↪ ─────────⎟⎥\n",
       "↪    2     ⎟⎥\n",
       "↪ M₂₂      ⎠⎥\n",
       "↪           ⎥\n",
       "↪ __       ⎞⎥\n",
       "↪ 22⋅m_D_12⎟⎥\n",
       "↪ ─────────⎟⎥\n",
       "↪    2     ⎟⎥\n",
       "↪ M₂₂      ⎠⎥\n",
       "↪           ⎥\n",
       "↪ __       ⎞⎥\n",
       "↪ 22⋅m_D_22⎟⎥\n",
       "↪ ─────────⎟⎥\n",
       "↪    2     ⎟⎥\n",
       "↪ M₂₂      ⎠⎦"
      ]
     },
     "execution_count": 38,
     "metadata": {},
     "output_type": "execute_result"
    }
   ],
   "source": [
    "(mnu_def.subs(mu, muN*In).subs(MD, DiagonalMatrix(MD))).as_explicit()"
   ]
  },
  {
   "cell_type": "code",
   "execution_count": 39,
   "metadata": {},
   "outputs": [
    {
     "data": {
      "image/png": "[encoded data removed]",
      "text/latex": [
       "$\\displaystyle \\left[\\begin{matrix}0 & M^{T}\\\\M & \\mu\\end{matrix}\\right]$"
      ],
      "text/plain": [
       "⎡    T⎤\n",
       "⎢𝟘  M ⎥\n",
       "⎢     ⎥\n",
       "⎣M  μ ⎦"
      ]
     },
     "execution_count": 39,
     "metadata": {},
     "output_type": "execute_result"
    }
   ],
   "source": [
    "C"
   ]
  },
  {
   "cell_type": "code",
   "execution_count": 41,
   "metadata": {},
   "outputs": [
    {
     "data": {
      "image/png": "[encoded data removed]",
      "text/latex": [
       "$\\displaystyle \\left[\\begin{matrix}0 & S\\\\- S^{\\dagger} & 0\\end{matrix}\\right]$"
      ],
      "text/plain": [
       "⎡ 𝟘   S⎤\n",
       "⎢      ⎥\n",
       "⎢  †   ⎥\n",
       "⎣-S   𝟘⎦"
      ]
     },
     "execution_count": 41,
     "metadata": {},
     "output_type": "execute_result"
    }
   ],
   "source": [
    "S = MatrixSymbol('S', 3, 3)\n",
    "Y = BlockMatrix(\n",
    "    [\n",
    "        [Z1, S],\n",
    "        [-Dagger(S), Z1]\n",
    "    ]\n",
    ")\n",
    "Y"
   ]
  },
  {
   "cell_type": "code",
   "execution_count": 44,
   "metadata": {},
   "outputs": [
    {
     "data": {
      "image/png": "[encoded data removed]",
      "text/latex": [
       "$\\displaystyle \\left[\\begin{matrix}\\mathbb{I} & S\\\\- S^{\\dagger} & \\mathbb{I}\\end{matrix}\\right]$"
      ],
      "text/plain": [
       "⎡ 𝕀   S⎤\n",
       "⎢      ⎥\n",
       "⎢  †   ⎥\n",
       "⎣-S   𝕀⎦"
      ]
     },
     "execution_count": 44,
     "metadata": {},
     "output_type": "execute_result"
    }
   ],
   "source": [
    "Uapr = block_collapse(I6 + Y)\n",
    "Uapr"
   ]
  },
  {
   "cell_type": "code",
   "execution_count": 50,
   "metadata": {},
   "outputs": [
    {
     "data": {
      "image/png": "[encoded data removed]",
      "text/latex": [
       "$\\displaystyle \\left[\\begin{matrix}\\mathbb{I} + S S^{\\dagger} & 0\\\\0 & S^{\\dagger} S + \\mathbb{I}\\end{matrix}\\right]$"
      ],
      "text/plain": [
       "⎡   †              ⎤\n",
       "⎢S⋅S  + 𝕀     𝟘    ⎥\n",
       "⎢                  ⎥\n",
       "⎢           †      ⎥\n",
       "⎣   𝟘      S ⋅S + 𝕀⎦"
      ]
     },
     "execution_count": 50,
     "metadata": {},
     "output_type": "execute_result"
    }
   ],
   "source": [
    "block_collapse(Dagger(Uapr)*Uapr)"
   ]
  },
  {
   "cell_type": "code",
   "execution_count": 46,
   "metadata": {},
   "outputs": [
    {
     "data": {
      "image/png": "[encoded data removed]",
      "text/latex": [
       "$\\displaystyle \\left[\\begin{matrix}- \\left(- \\left(S^{T}\\right)^{\\dagger} \\mu + M^{T}\\right) S^{\\dagger} - \\left(S^{T}\\right)^{\\dagger} M & - \\left(S^{T}\\right)^{\\dagger} M S - \\left(S^{T}\\right)^{\\dagger} \\mu + M^{T}\\\\- \\left(\\mu + S^{T} M^{T}\\right) S^{\\dagger} + M & M S + \\mu + S^{T} M^{T}\\end{matrix}\\right]$"
      ],
      "text/plain": [
       "⎡ ⎛     †       ⎞         †         †        †         ⎤\n",
       "⎢ ⎜ ⎛ T⎞       T⎟  †  ⎛ T⎞      ⎛ T⎞     ⎛ T⎞         T⎥\n",
       "⎢-⎝-⎝S ⎠ ⋅μ + M ⎠⋅S  -⎝S ⎠ ⋅M  -⎝S ⎠ ⋅μ -⎝S ⎠ ⋅M⋅S + M ⎥\n",
       "⎢                                                      ⎥\n",
       "⎢     ⎛ T  T    ⎞  †                      T  T         ⎥\n",
       "⎣    -⎝S ⋅M  + μ⎠⋅S  + M           M⋅S + S ⋅M  + μ     ⎦"
      ]
     },
     "execution_count": 46,
     "metadata": {},
     "output_type": "execute_result"
    }
   ],
   "source": [
    "UTCU = block_collapse(Uapr.T*C*Uapr)\n",
    "UTCU"
   ]
  },
  {
   "cell_type": "code",
   "execution_count": 47,
   "metadata": {},
   "outputs": [
    {
     "data": {
      "image/png": "[encoded data removed]",
      "text/latex": [
       "$\\displaystyle \\left[\\begin{matrix}- \\left(S^{T}\\right)^{\\dagger} M - M^{T} S^{\\dagger} & - \\left(S^{T}\\right)^{\\dagger} M S + M^{T}\\\\M - S^{T} M^{T} S^{\\dagger} & M S + S^{T} M^{T}\\end{matrix}\\right]$"
      ],
      "text/plain": [
       "⎡     †                †         ⎤\n",
       "⎢ ⎛ T⎞      T  †   ⎛ T⎞         T⎥\n",
       "⎢-⎝S ⎠ ⋅M -M ⋅S   -⎝S ⎠ ⋅M⋅S + M ⎥\n",
       "⎢                                ⎥\n",
       "⎢   T  T  †                T  T  ⎥\n",
       "⎣ -S ⋅M ⋅S  + M     M⋅S + S ⋅M   ⎦"
      ]
     },
     "execution_count": 47,
     "metadata": {},
     "output_type": "execute_result"
    }
   ],
   "source": [
    "UTCU_dirac = block_collapse(Uapr.T*C.subs(mu, Z1)*Uapr)\n",
    "UTCU_dirac"
   ]
  },
  {
   "cell_type": "code",
   "execution_count": 53,
   "metadata": {},
   "outputs": [
    {
     "data": {
      "image/png": "[encoded data removed]",
      "text/latex": [
       "$\\displaystyle \\left[\\begin{matrix}- \\left(S^{T}\\right)^{-1} M - M S^{-1} & 0\\\\0 & M S + S^{T} M\\end{matrix}\\right]$"
      ],
      "text/plain": [
       "⎡     -1                     ⎤\n",
       "⎢ ⎛ T⎞         -1            ⎥\n",
       "⎢-⎝S ⎠  ⋅M -M⋅S        𝟘     ⎥\n",
       "⎢                            ⎥\n",
       "⎢                         T  ⎥\n",
       "⎣       𝟘          M⋅S + S ⋅M⎦"
      ]
     },
     "execution_count": 53,
     "metadata": {},
     "output_type": "execute_result"
    }
   ],
   "source": [
    "block_collapse(UTCU_dirac.subs(MD.T, MD).subs(conjugate(S)*MD, MD*S.inv()).subs(MD*Dagger(S), (S.T).inv()*MD))"
   ]
  },
  {
   "cell_type": "code",
   "execution_count": 54,
   "metadata": {},
   "outputs": [
    {
     "data": {
      "image/png": "[encoded data removed]",
      "text/latex": [
       "$\\displaystyle \\left[\\begin{matrix}0 & 0\\\\0 & \\mu\\end{matrix}\\right]$"
      ],
      "text/plain": [
       "⎡𝟘  𝟘⎤\n",
       "⎢    ⎥\n",
       "⎣𝟘  μ⎦"
      ]
     },
     "execution_count": 54,
     "metadata": {},
     "output_type": "execute_result"
    }
   ],
   "source": [
    "MU = BlockMatrix(\n",
    "    [\n",
    "        [Z1, Z1],\n",
    "        [Z1, mu]\n",
    "    ]\n",
    ")\n",
    "MU"
   ]
  },
  {
   "cell_type": "code",
   "execution_count": 55,
   "metadata": {},
   "outputs": [
    {
     "data": {
      "image/png": "[encoded data removed]",
      "text/latex": [
       "$\\displaystyle \\left[\\begin{matrix}\\left(S^{T}\\right)^{\\dagger} \\mu S^{\\dagger} & - \\left(S^{T}\\right)^{\\dagger} \\mu\\\\- \\mu S^{\\dagger} & \\mu\\end{matrix}\\right]$"
      ],
      "text/plain": [
       "⎡    †            †  ⎤\n",
       "⎢⎛ T⎞     †   ⎛ T⎞   ⎥\n",
       "⎢⎝S ⎠ ⋅μ⋅S   -⎝S ⎠ ⋅μ⎥\n",
       "⎢                    ⎥\n",
       "⎢      †             ⎥\n",
       "⎣  -μ⋅S         μ    ⎦"
      ]
     },
     "execution_count": 55,
     "metadata": {},
     "output_type": "execute_result"
    }
   ],
   "source": [
    "UTMUU = block_collapse(Uapr.T*MU*Uapr)\n",
    "UTMUU"
   ]
  },
  {
   "cell_type": "code",
   "execution_count": 57,
   "metadata": {},
   "outputs": [
    {
     "data": {
      "image/png": "[encoded data removed]",
      "text/latex": [
       "$\\displaystyle \\left[\\begin{matrix}\\left(S^{T}\\right)^{\\dagger} \\mu S^{\\dagger} - \\left(S^{T}\\right)^{-1} M - M S^{-1} & - \\left(S^{T}\\right)^{\\dagger} \\mu\\\\- \\mu S^{\\dagger} & M S + \\mu + S^{T} M\\end{matrix}\\right]$"
      ],
      "text/plain": [
       "⎡     -1                †               †     ⎤\n",
       "⎢ ⎛ T⎞         -1   ⎛ T⎞     †      ⎛ T⎞      ⎥\n",
       "⎢-⎝S ⎠  ⋅M -M⋅S   + ⎝S ⎠ ⋅μ⋅S      -⎝S ⎠ ⋅μ   ⎥\n",
       "⎢                                             ⎥\n",
       "⎢                †                     T      ⎥\n",
       "⎣            -μ⋅S               M⋅S + S ⋅M + μ⎦"
      ]
     },
     "execution_count": 57,
     "metadata": {},
     "output_type": "execute_result"
    }
   ],
   "source": [
    "block_collapse((UTCU_dirac + UTMUU).subs(MD.T, MD).subs(conjugate(S)*MD, MD*S.inv()).subs(MD*Dagger(S), (S.T).inv()*MD))"
   ]
  },
  {
   "cell_type": "code",
   "execution_count": 58,
   "metadata": {},
   "outputs": [
    {
     "data": {
      "image/png": "[encoded data removed]",
      "text/latex": [
       "$\\displaystyle \\left[\\begin{matrix}- \\left(S^{T}\\right)^{\\dagger} M + \\left(S^{T}\\right)^{\\dagger} \\mu S^{\\dagger} - M^{T} S^{\\dagger} & - \\left(S^{T}\\right)^{\\dagger} M S - \\left(S^{T}\\right)^{\\dagger} \\mu + M^{T}\\\\M - \\mu S^{\\dagger} - S^{T} M^{T} S^{\\dagger} & M S + \\mu + S^{T} M^{T}\\end{matrix}\\right]$"
      ],
      "text/plain": [
       "⎡     †                †            †        †         ⎤\n",
       "⎢ ⎛ T⎞      T  †   ⎛ T⎞     †   ⎛ T⎞     ⎛ T⎞         T⎥\n",
       "⎢-⎝S ⎠ ⋅M -M ⋅S  + ⎝S ⎠ ⋅μ⋅S   -⎝S ⎠ ⋅μ -⎝S ⎠ ⋅M⋅S + M ⎥\n",
       "⎢                                                      ⎥\n",
       "⎢        †   T  T  †                      T  T         ⎥\n",
       "⎣    -μ⋅S  -S ⋅M ⋅S  + M           M⋅S + S ⋅M  + μ     ⎦"
      ]
     },
     "execution_count": 58,
     "metadata": {},
     "output_type": "execute_result"
    }
   ],
   "source": [
    "block_collapse(\n",
    "    (UTCU_dirac + UTMUU)\n",
    "    )"
   ]
  },
  {
   "cell_type": "code",
   "execution_count": 63,
   "metadata": {},
   "outputs": [
    {
     "data": {
      "image/png": "[encoded data removed]",
      "text/latex": [
       "$\\displaystyle \\left[\\begin{matrix}- 2 \\mu + \\mu M^{-1} \\mu M^{-1} \\mu & M - 2 \\mu M^{-1} \\mu\\\\M - 2 \\mu M^{-1} \\mu & 3 \\mu\\end{matrix}\\right]$"
      ],
      "text/plain": [
       "⎡          -1    -1          -1      ⎤\n",
       "⎢-2⋅μ + μ⋅M  ⋅μ⋅M  ⋅μ  -2⋅μ⋅M  ⋅μ + M⎥\n",
       "⎢                                    ⎥\n",
       "⎢         -1                         ⎥\n",
       "⎣   -2⋅μ⋅M  ⋅μ + M          3⋅μ      ⎦"
      ]
     },
     "execution_count": 63,
     "metadata": {},
     "output_type": "execute_result"
    }
   ],
   "source": [
    "block_collapse(\n",
    "    (UTCU_dirac + UTMUU).subs(MD.T,MD).subs(\n",
    "        {\n",
    "            Dagger(S):MD.inv()*mu,\n",
    "            S:MD.inv()*mu,\n",
    "            conjugate(S):mu*MD.inv(),\n",
    "            S.T:mu*MD.inv()\n",
    "        }\n",
    "    )\n",
    ")"
   ]
  },
  {
   "cell_type": "code",
   "execution_count": null,
   "metadata": {},
   "outputs": [],
   "source": []
  }
 ],
 "metadata": {
  "kernelspec": {
   "display_name": "py311",
   "language": "python",
   "name": "python3"
  },
  "language_info": {
   "codemirror_mode": {
    "name": "ipython",
    "version": 3
   },
   "file_extension": ".py",
   "mimetype": "text/x-python",
   "name": "python",
   "nbconvert_exporter": "python",
   "pygments_lexer": "ipython3",
   "version": "3.11.11"
  }
 },
 "nbformat": 4,
 "nbformat_minor": 2
}
