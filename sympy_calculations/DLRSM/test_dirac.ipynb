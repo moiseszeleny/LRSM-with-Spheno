{
 "cells": [
  {
   "cell_type": "code",
   "execution_count": 1,
   "id": "9aa38a76",
   "metadata": {},
   "outputs": [],
   "source": [
    "from dirac import DiracGamma, DiracGammaLower, diracI, dirac0, DiracLatexPrinter\n",
    "from sympy import symbols, init_printing, latex\n",
    "\n",
    "# Use this factory function with init_printing\n",
    "#init_printing(\n",
    "#    latex_printer=DiracLatexPrinter,\n",
    "#    use_latex='mathjax' # Or 'katex'\n",
    "#)\n",
    "init_printing()"
   ]
  },
  {
   "cell_type": "code",
   "execution_count": 2,
   "id": "153da0bb",
   "metadata": {},
   "outputs": [
    {
     "name": "stdout",
     "output_type": "stream",
     "text": [
      "\n",
      "--- Dirac Objects Examples ---\n"
     ]
    }
   ],
   "source": [
    "print(\"\\n--- Dirac Objects Examples ---\")\n",
    "mu, nu, rho = symbols('mu nu rho', integer=True) # Keep as generic symbols for now\n",
    "\n",
    "gamma_mu = DiracGamma(mu)\n",
    "gamma_nu = DiracGamma(nu)\n",
    "gamma_0 = DiracGamma(0) \n",
    "gamma_1 = DiracGamma(1)"
   ]
  },
  {
   "cell_type": "code",
   "execution_count": 3,
   "id": "d6595f89",
   "metadata": {},
   "outputs": [
    {
     "data": {
      "image/png": "[encoded data removed]",
      "text/latex": [
       "$\\displaystyle \\left( \\gamma^{\\mu}, \\  \\gamma^{\\nu}, \\  \\gamma^{0}, \\  \\gamma^{1}\\right)$"
      ],
      "text/plain": [
       "(gamma(mu), gamma(nu), gamma(0), gamma(1))"
      ]
     },
     "execution_count": 3,
     "metadata": {},
     "output_type": "execute_result"
    }
   ],
   "source": [
    "gamma_mu, gamma_nu, gamma_0, gamma_1"
   ]
  },
  {
   "cell_type": "markdown",
   "id": "00e0d452",
   "metadata": {},
   "source": [
    "## Basic algebra"
   ]
  },
  {
   "cell_type": "code",
   "execution_count": 4,
   "id": "d3cf65d5",
   "metadata": {},
   "outputs": [
    {
     "name": "stdout",
     "output_type": "stream",
     "text": [
      "gamma_mu * I = \n"
     ]
    },
    {
     "data": {
      "image/png": "[encoded data removed]",
      "text/latex": [
       "$\\displaystyle I_{4} \\gamma^{\\mu}$"
      ],
      "text/plain": [
       "DiracI⋅gamma(mu)"
      ]
     },
     "execution_count": 4,
     "metadata": {},
     "output_type": "execute_result"
    }
   ],
   "source": [
    "expr1 = gamma_mu * diracI\n",
    "print(f\"gamma_mu * I = \")\n",
    "expr1"
   ]
  },
  {
   "cell_type": "code",
   "execution_count": 5,
   "id": "8844cc28",
   "metadata": {},
   "outputs": [
    {
     "name": "stdout",
     "output_type": "stream",
     "text": [
      "0 * gamma_mu = \n"
     ]
    },
    {
     "data": {
      "image/png": "[encoded data removed]",
      "text/latex": [
       "$\\displaystyle 0_{4}$"
      ],
      "text/plain": [
       "DiracZero()"
      ]
     },
     "execution_count": 5,
     "metadata": {},
     "output_type": "execute_result"
    }
   ],
   "source": [
    "expr2 = dirac0 * gamma_mu\n",
    "print(f\"0 * gamma_mu = \")\n",
    "expr2"
   ]
  },
  {
   "cell_type": "code",
   "execution_count": 6,
   "id": "dfb31ce6",
   "metadata": {},
   "outputs": [
    {
     "name": "stdout",
     "output_type": "stream",
     "text": [
      "I * 5 * gamma_mu = \n"
     ]
    },
    {
     "data": {
      "image/png": "[encoded data removed]",
      "text/latex": [
       "$\\displaystyle 5 I_{4} \\gamma^{\\mu}$"
      ],
      "text/plain": [
       "5⋅DiracI⋅gamma(mu)"
      ]
     },
     "execution_count": 6,
     "metadata": {},
     "output_type": "execute_result"
    }
   ],
   "source": [
    "expr3 = diracI * 5 * gamma_mu\n",
    "print(f\"I * 5 * gamma_mu = \")\n",
    "expr3"
   ]
  },
  {
   "cell_type": "code",
   "execution_count": 7,
   "id": "4b60b43a",
   "metadata": {},
   "outputs": [
    {
     "name": "stdout",
     "output_type": "stream",
     "text": [
      "I + I = \n"
     ]
    },
    {
     "data": {
      "image/png": "[encoded data removed]",
      "text/latex": [
       "$\\displaystyle 2 I_{4}$"
      ],
      "text/plain": [
       "2⋅DiracI"
      ]
     },
     "execution_count": 7,
     "metadata": {},
     "output_type": "execute_result"
    }
   ],
   "source": [
    "expr4 = diracI + diracI\n",
    "print(f\"I + I = \")\n",
    "expr4"
   ]
  },
  {
   "cell_type": "code",
   "execution_count": 8,
   "id": "46591d0c",
   "metadata": {},
   "outputs": [
    {
     "name": "stdout",
     "output_type": "stream",
     "text": [
      "0 + gamma_mu = \n"
     ]
    },
    {
     "data": {
      "image/png": "[encoded data removed]",
      "text/latex": [
       "$\\displaystyle \\gamma^{\\mu}$"
      ],
      "text/plain": [
       "DiracGamma(mu)"
      ]
     },
     "execution_count": 8,
     "metadata": {},
     "output_type": "execute_result"
    }
   ],
   "source": [
    "expr5 = dirac0 + gamma_mu\n",
    "print(f\"0 + gamma_mu = \")\n",
    "expr5"
   ]
  },
  {
   "cell_type": "markdown",
   "id": "5c57c900",
   "metadata": {},
   "source": [
    "## Clifford simplification"
   ]
  },
  {
   "cell_type": "code",
   "execution_count": 9,
   "id": "17abfa97",
   "metadata": {},
   "outputs": [],
   "source": [
    "from dirac import gamma_simplify, dirac_printer"
   ]
  },
  {
   "cell_type": "code",
   "execution_count": 10,
   "id": "2faff8ee",
   "metadata": {},
   "outputs": [
    {
     "name": "stdout",
     "output_type": "stream",
     "text": [
      "Product gamma(mu)*gamma(mu): \n",
      "(\\gamma^{\\mu})^{2}\n"
     ]
    },
    {
     "data": {
      "text/latex": [
       "$\\displaystyle \\gamma^{\\mu}^{2}$"
      ],
      "text/plain": [
       "         2\n",
       "gamma(mu) "
      ]
     },
     "metadata": {},
     "output_type": "display_data"
    },
    {
     "name": "stdout",
     "output_type": "stream",
     "text": [
      "Simplified: \n"
     ]
    },
    {
     "data": {
      "image/png": "[encoded data removed]",
      "text/latex": [
       "$\\displaystyle 2 \\delta_{0 \\mu} - 1$"
      ],
      "text/plain": [
       "2⋅δ    - 1\n",
       "   0,μ    "
      ]
     },
     "execution_count": 10,
     "metadata": {},
     "output_type": "execute_result"
    }
   ],
   "source": [
    "# Case 1: mu == nu (symbolic)\n",
    "prod_mu_mu = gamma_mu * gamma_mu\n",
    "print(f\"Product gamma(mu)*gamma(mu): \")\n",
    "print(dirac_printer.doprint(prod_mu_mu))\n",
    "display(prod_mu_mu)\n",
    "simp_mu_mu = gamma_simplify(prod_mu_mu)\n",
    "print(f\"Simplified: \")\n",
    "simp_mu_mu"
   ]
  },
  {
   "cell_type": "code",
   "execution_count": 17,
   "id": "e969ab6f",
   "metadata": {},
   "outputs": [
    {
     "name": "stdout",
     "output_type": "stream",
     "text": [
      "Product gamma(0)*gamma(0): gamma(0)**2\n",
      "Simplified: DiracI\n",
      "LaTeX: I_{4}\n",
      "Product gamma(1)*gamma(1): gamma(1)**2\n",
      "Simplified: -1\n",
      "LaTeX: -1\n"
     ]
    }
   ],
   "source": [
    "# Case 2: mu == nu (concrete)\n",
    "prod_0_0 = gamma_0 * gamma_0\n",
    "print(f\"Product gamma(0)*gamma(0): {prod_0_0}\")\n",
    "simp_0_0 = gamma_simplify(prod_0_0)\n",
    "print(f\"Simplified: {simp_0_0}\") # Should be 1 * I_4\n",
    "print(f\"LaTeX: {latex(simp_0_0)}\")\n",
    "\n",
    "prod_1_1 = gamma_1 * gamma_1\n",
    "print(f\"Product gamma(1)*gamma(1): {prod_1_1}\")\n",
    "simp_1_1 = gamma_simplify(prod_1_1)\n",
    "print(f\"Simplified: {simp_1_1}\") # Should be -1 * I_4\n",
    "print(f\"LaTeX: {latex(simp_1_1)}\")"
   ]
  },
  {
   "cell_type": "code",
   "execution_count": 18,
   "id": "f903ac55",
   "metadata": {},
   "outputs": [
    {
     "name": "stdout",
     "output_type": "stream",
     "text": [
      "Product gamma(mu)*gamma(nu): gamma(mu)*gamma(nu)\n",
      "Simplified (no change expected): gamma(mu)*gamma(nu)\n"
     ]
    }
   ],
   "source": [
    "# Case 3: mu != nu (symbolic)\n",
    "prod_mu_nu = gamma_mu * gamma_nu\n",
    "print(f\"Product gamma(mu)*gamma(nu): {prod_mu_nu}\")\n",
    "# Simplification only swaps or introduces metric if indices known\n",
    "simp_mu_nu = gamma_simplify(prod_mu_nu) \n",
    "print(f\"Simplified (no change expected): {simp_mu_nu}\") "
   ]
  },
  {
   "cell_type": "code",
   "execution_count": 20,
   "id": "612964f2",
   "metadata": {},
   "outputs": [
    {
     "name": "stdout",
     "output_type": "stream",
     "text": [
      "Anticommutator {gamma_mu, gamma_nu}: gamma(mu)*gamma(nu) + gamma(nu)*gamma(mu)\n",
      "Simplified: 4*KroneckerDelta(0, nu)*KroneckerDelta(mu, nu) - 2*KroneckerDelta(mu, nu)\n",
      "LaTeX: 4 \\delta_{0 \\nu} \\delta_{\\mu \\nu} - 2 \\delta_{\\mu \\nu}\n"
     ]
    },
    {
     "data": {
      "image/png": "[encoded data removed]",
      "text/latex": [
       "$\\displaystyle 4 \\delta_{0 \\nu} \\delta_{\\mu \\nu} - 2 \\delta_{\\mu \\nu}$"
      ],
      "text/plain": [
       "4⋅δ   ⋅δ    - 2⋅δ   \n",
       "   0,ν  μ,ν      μ,ν"
      ]
     },
     "execution_count": 20,
     "metadata": {},
     "output_type": "execute_result"
    }
   ],
   "source": [
    "# Case 4: Anticommutator (symbolic)\n",
    "anticomm_sym = gamma_mu * gamma_nu + gamma_nu * gamma_mu\n",
    "print(f\"Anticommutator {{gamma_mu, gamma_nu}}: {anticomm_sym}\")\n",
    "simp_anticomm_sym = gamma_simplify(anticomm_sym)\n",
    "print(f\"Simplified: {simp_anticomm_sym}\") # Should be 2*g(mu, nu)*I_4\n",
    "print(f\"LaTeX: {latex(simp_anticomm_sym)}\")\n",
    "simp_anticomm_sym"
   ]
  },
  {
   "cell_type": "code",
   "execution_count": 21,
   "id": "f11ba1e9",
   "metadata": {},
   "outputs": [
    {
     "data": {
      "image/png": "[encoded data removed]",
      "text/latex": [
       "$\\displaystyle -2$"
      ],
      "text/plain": [
       "-2"
      ]
     },
     "execution_count": 21,
     "metadata": {},
     "output_type": "execute_result"
    }
   ],
   "source": [
    "simp_anticomm_sym.subs(mu,1).subs(nu,1)"
   ]
  },
  {
   "cell_type": "code",
   "execution_count": 22,
   "id": "c6cca035",
   "metadata": {},
   "outputs": [
    {
     "name": "stdout",
     "output_type": "stream",
     "text": [
      "Anticommutator {gamma_0, gamma_1}: gamma(0)*gamma(1) + gamma(1)*gamma(0)\n",
      "Simplified: 0\n",
      "LaTeX: 0\n"
     ]
    }
   ],
   "source": [
    "# Case 5: Anticommutator (concrete, mu != nu)\n",
    "anticomm_01 = gamma_0 * gamma_1 + gamma_1 * gamma_0\n",
    "print(f\"Anticommutator {{gamma_0, gamma_1}}: {anticomm_01}\")\n",
    "simp_anticomm_01 = gamma_simplify(anticomm_01)\n",
    "print(f\"Simplified: {simp_anticomm_01}\") # Should be 2*g(0, 1)*I_4 = 0\n",
    "print(f\"LaTeX: {latex(simp_anticomm_01)}\")"
   ]
  },
  {
   "cell_type": "code",
   "execution_count": 23,
   "id": "ef81c559",
   "metadata": {},
   "outputs": [
    {
     "name": "stdout",
     "output_type": "stream",
     "text": [
      "Product gamma_mu * gamma_nu * gamma_mu: gamma(mu)*gamma(nu)*gamma(mu)\n",
      "Simplified: -2*KroneckerDelta(0, mu)*gamma(nu) + 4*KroneckerDelta(0, nu)*KroneckerDelta(mu, nu)*gamma(mu) - 2*KroneckerDelta(mu, nu)*gamma(mu) + gamma(nu)\n",
      "LaTeX: - 2 \\delta_{0 \\mu} \\gamma^{\\nu} + 4 \\delta_{0 \\nu} \\delta_{\\mu \\nu} \\gamma^{\\mu} - 2 \\delta_{\\mu \\nu} \\gamma^{\\mu} + \\gamma^{\\nu}\n"
     ]
    }
   ],
   "source": [
    "# Case 6: Longer product\n",
    "prod_long = gamma_mu * gamma_nu * gamma_mu\n",
    "print(f\"Product gamma_mu * gamma_nu * gamma_mu: {prod_long}\")\n",
    "simp_long = gamma_simplify(prod_long)\n",
    "# Expect: gamma_mu * (2*g_nu_mu*I - gamma_mu*gamma_nu) = 2*g_nu_mu*gamma_mu - gamma_mu*gamma_mu*gamma_nu = 2*g_nu_mu*gamma_mu - g_mu_mu*I*gamma_nu\n",
    "print(f\"Simplified: {simp_long}\") \n",
    "print(f\"LaTeX: {latex(simp_long)}\")"
   ]
  },
  {
   "cell_type": "code",
   "execution_count": 27,
   "id": "9f9dc25c",
   "metadata": {},
   "outputs": [
    {
     "data": {
      "image/png": "[encoded data removed]",
      "text/latex": [
       "$\\displaystyle - 2 \\delta_{0 \\mu} \\gamma^{\\nu} + 4 \\delta_{0 \\nu} \\delta_{\\mu \\nu} \\gamma^{\\mu} - 2 \\delta_{\\mu \\nu} \\gamma^{\\mu} + \\gamma^{\\nu}$"
      ],
      "text/plain": [
       "- 2⋅δ   ⋅gamma(nu) + 4⋅δ   ⋅δ   ⋅gamma(mu) - 2⋅δ   ⋅gamma(mu) + gamma(nu)\n",
       "     0,μ                0,ν  μ,ν                μ,ν                      "
      ]
     },
     "execution_count": 27,
     "metadata": {},
     "output_type": "execute_result"
    }
   ],
   "source": [
    "simp_long"
   ]
  },
  {
   "cell_type": "code",
   "execution_count": 28,
   "id": "914b93fb",
   "metadata": {},
   "outputs": [
    {
     "name": "stdout",
     "output_type": "stream",
     "text": [
      "Product g_mu * I * g_nu: DiracI*gamma(mu)*gamma(nu)\n",
      "Simplified: gamma(mu)*gamma(nu)\n"
     ]
    }
   ],
   "source": [
    "# Case 7: Product involving identity\n",
    "prod_with_I = gamma_mu * diracI * gamma_nu\n",
    "print(f\"Product g_mu * I * g_nu: {prod_with_I}\")\n",
    "simp_with_I = gamma_simplify(prod_with_I)\n",
    "print(f\"Simplified: {simp_with_I}\")"
   ]
  },
  {
   "cell_type": "code",
   "execution_count": 29,
   "id": "844df58b",
   "metadata": {},
   "outputs": [
    {
     "data": {
      "image/png": "[encoded data removed]",
      "text/latex": [
       "$\\displaystyle \\gamma^{\\mu} \\gamma^{\\nu}$"
      ],
      "text/plain": [
       "gamma(mu)⋅gamma(nu)"
      ]
     },
     "execution_count": 29,
     "metadata": {},
     "output_type": "execute_result"
    }
   ],
   "source": [
    "simp_with_I"
   ]
  },
  {
   "cell_type": "code",
   "execution_count": null,
   "id": "6e157230",
   "metadata": {},
   "outputs": [],
   "source": []
  }
 ],
 "metadata": {
  "kernelspec": {
   "display_name": "py311",
   "language": "python",
   "name": "python3"
  },
  "language_info": {
   "codemirror_mode": {
    "name": "ipython",
    "version": 3
   },
   "file_extension": ".py",
   "mimetype": "text/x-python",
   "name": "python",
   "nbconvert_exporter": "python",
   "pygments_lexer": "ipython3",
   "version": "3.11.11"
  }
 },
 "nbformat": 4,
 "nbformat_minor": 5
}
