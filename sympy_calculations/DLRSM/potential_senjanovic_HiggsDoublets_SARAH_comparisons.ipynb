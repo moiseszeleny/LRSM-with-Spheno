{
 "cells": [
  {
   "cell_type": "markdown",
   "metadata": {},
   "source": [
    "# Minimal Left Right Symmetric models with Higgs doublets"
   ]
  },
  {
   "cell_type": "markdown",
   "metadata": {},
   "source": [
    "In this notebook we work the potential of MLRSM with Higgs doublets "
   ]
  },
  {
   "cell_type": "code",
   "execution_count": 1,
   "metadata": {},
   "outputs": [],
   "source": [
    "from sympy import symbols, init_printing, Matrix, I, sqrt, conjugate, trace, factor, simplify\n",
    "from sympy.physics import msigma \n",
    "init_printing()"
   ]
  },
  {
   "cell_type": "markdown",
   "metadata": {},
   "source": [
    "## Scalars"
   ]
  },
  {
   "cell_type": "markdown",
   "metadata": {},
   "source": [
    "### Bidoublet"
   ]
  },
  {
   "cell_type": "code",
   "execution_count": 2,
   "metadata": {},
   "outputs": [],
   "source": [
    "phi1p = symbols(r'{{\\phi_1^+}}')\n",
    "phi2p = symbols(r'{{\\phi_2^+}}')\n",
    "\n",
    "phi10, phi20 = symbols(r'\\phi_1^0, \\phi_2^0')"
   ]
  },
  {
   "cell_type": "code",
   "execution_count": 3,
   "metadata": {},
   "outputs": [
    {
     "data": {
      "image/png": "[encoded data removed]",
      "text/latex": [
       "$\\displaystyle \\left[\\begin{matrix}\\phi^{0}_{1} & {{\\phi_1^+}}\\\\\\overline{{{\\phi_2^+}}} & \\phi^{0}_{2}\\end{matrix}\\right]$"
      ],
      "text/plain": [
       "⎡   \\phi⁰₁      {{\\phi_1__+}}⎤\n",
       "⎢                            ⎥\n",
       "⎢_____________               ⎥\n",
       "⎣{{\\phi_2__+}}     \\phi⁰₂    ⎦"
      ]
     },
     "execution_count": 3,
     "metadata": {},
     "output_type": "execute_result"
    }
   ],
   "source": [
    "Phi = Matrix(\n",
    "    [\n",
    "        [phi10, phi1p],\n",
    "        [conjugate(phi2p), phi20]\n",
    "    ]\n",
    ")\n",
    "Phi"
   ]
  },
  {
   "cell_type": "code",
   "execution_count": 4,
   "metadata": {},
   "outputs": [
    {
     "data": {
      "image/png": "[encoded data removed]",
      "text/latex": [
       "$\\displaystyle \\left[\\begin{matrix}k_{1} & 0\\\\0 & k_{2}\\end{matrix}\\right]$"
      ],
      "text/plain": [
       "⎡k₁  0 ⎤\n",
       "⎢      ⎥\n",
       "⎣0   k₂⎦"
      ]
     },
     "execution_count": 4,
     "metadata": {},
     "output_type": "execute_result"
    }
   ],
   "source": [
    "k1, k2 = symbols(r\"k_1, k_2\", positive=True)\n",
    "sqrt2 = sqrt(2)\n",
    "vevPhi = {phi10:k1, phi20:k2, phi1p:0, phi2p:0}\n",
    "Phi.subs(vevPhi)"
   ]
  },
  {
   "cell_type": "markdown",
   "metadata": {},
   "source": [
    "### Doublets"
   ]
  },
  {
   "cell_type": "code",
   "execution_count": 5,
   "metadata": {},
   "outputs": [],
   "source": [
    "chiL0 = symbols(r'\\chi_L^0')\n",
    "chiR0 = symbols(r'\\chi_R^0')\n",
    "\n",
    "chiLp = symbols(r'{{\\chi_L^+}}')\n",
    "chiRp = symbols(r'{{\\chi_R^+}}')"
   ]
  },
  {
   "cell_type": "code",
   "execution_count": 6,
   "metadata": {},
   "outputs": [],
   "source": [
    "ChiL = Matrix(\n",
    "    [\n",
    "        [chiLp],\n",
    "        [chiL0]\n",
    "    ]\n",
    ")\n",
    "\n",
    "ChiR = Matrix(\n",
    "    [\n",
    "        [chiRp],\n",
    "        [chiR0]\n",
    "    ]\n",
    ")"
   ]
  },
  {
   "cell_type": "code",
   "execution_count": 7,
   "metadata": {},
   "outputs": [
    {
     "data": {
      "image/png": "[encoded data removed]",
      "text/latex": [
       "$\\displaystyle \\left( \\left[\\begin{matrix}{{\\chi_L^+}}\\\\\\chi^{0}_{L}\\end{matrix}\\right], \\  \\left[\\begin{matrix}{{\\chi_R^+}}\\\\\\chi^{0}_{R}\\end{matrix}\\right]\\right)$"
      ],
      "text/plain": [
       "⎛⎡{{\\chi_L__+}}⎤  ⎡{{\\chi_R__+}}⎤⎞\n",
       "⎜⎢             ⎥, ⎢             ⎥⎟\n",
       "⎝⎣  \\chi_L__0  ⎦  ⎣  \\chi_R__0  ⎦⎠"
      ]
     },
     "execution_count": 7,
     "metadata": {},
     "output_type": "execute_result"
    }
   ],
   "source": [
    "ChiL, ChiR"
   ]
  },
  {
   "cell_type": "code",
   "execution_count": 8,
   "metadata": {},
   "outputs": [
    {
     "data": {
      "image/png": "[encoded data removed]",
      "text/latex": [
       "$\\displaystyle \\left( \\left[\\begin{matrix}0\\\\v_{L}\\end{matrix}\\right], \\  \\left[\\begin{matrix}0\\\\v_{R}\\end{matrix}\\right]\\right)$"
      ],
      "text/plain": [
       "⎛⎡ 0 ⎤  ⎡ 0 ⎤⎞\n",
       "⎜⎢   ⎥, ⎢   ⎥⎟\n",
       "⎝⎣v_L⎦  ⎣v_R⎦⎠"
      ]
     },
     "execution_count": 8,
     "metadata": {},
     "output_type": "execute_result"
    }
   ],
   "source": [
    "vL, vR = symbols(r'v_L, v_R', positive=True)\n",
    "vevL = {chiL0:vL, chiLp:0}\n",
    "vevR = {chiR0:vR, chiRp:0}\n",
    "ChiL.subs(vevL), ChiR.subs(vevR)"
   ]
  },
  {
   "cell_type": "markdown",
   "metadata": {},
   "source": [
    "## Scalar potential"
   ]
  },
  {
   "cell_type": "code",
   "execution_count": 9,
   "metadata": {},
   "outputs": [],
   "source": [
    "from sympy.physics.quantum import Dagger\n",
    "from sympy import solve"
   ]
  },
  {
   "cell_type": "code",
   "execution_count": 10,
   "metadata": {},
   "outputs": [
    {
     "data": {
      "image/png": "[encoded data removed]",
      "text/latex": [
       "$\\displaystyle \\left[\\begin{matrix}\\phi^{0}_{1} \\overline{\\phi^{0}_{1}} + {{\\phi_2^+}} \\overline{{{\\phi_2^+}}} & \\phi^{0}_{2} {{\\phi_2^+}} + {{\\phi_1^+}} \\overline{\\phi^{0}_{1}}\\\\\\phi^{0}_{1} \\overline{{{\\phi_1^+}}} + \\overline{\\phi^{0}_{2}} \\overline{{{\\phi_2^+}}} & \\phi^{0}_{2} \\overline{\\phi^{0}_{2}} + {{\\phi_1^+}} \\overline{{{\\phi_1^+}}}\\end{matrix}\\right]$"
      ],
      "text/plain": [
       "⎡       ______                 _____________                                   ↪\n",
       "⎢\\phi⁰₁⋅\\phi⁰₁ + {{\\phi_2__+}}⋅{{\\phi_2__+}}  \\phi⁰₂⋅{{\\phi_2__+}} + {{\\phi_1_ ↪\n",
       "⎢                                                                              ↪\n",
       "⎢       _____________   ______ _____________         ______                 __ ↪\n",
       "⎣\\phi⁰₁⋅{{\\phi_1__+}} + \\phi⁰₂⋅{{\\phi_2__+}}  \\phi⁰₂⋅\\phi⁰₂ + {{\\phi_1__+}}⋅{{ ↪\n",
       "\n",
       "↪      ______⎤\n",
       "↪ _+}}⋅\\phi⁰₁⎥\n",
       "↪            ⎥\n",
       "↪ ___________⎥\n",
       "↪ \\phi_1__+}}⎦"
      ]
     },
     "metadata": {},
     "output_type": "display_data"
    },
    {
     "data": {
      "image/png": "[encoded data removed]",
      "text/latex": [
       "$\\displaystyle \\left[\\begin{matrix}\\overline{\\phi^{0}_{2}} & - {{\\phi_2^+}}\\\\- \\overline{{{\\phi_1^+}}} & \\overline{\\phi^{0}_{1}}\\end{matrix}\\right]$"
      ],
      "text/plain": [
       "⎡    ______                    ⎤\n",
       "⎢    \\phi⁰₂      -{{\\phi_2__+}}⎥\n",
       "⎢                              ⎥\n",
       "⎢ _____________      ______    ⎥\n",
       "⎣-{{\\phi_1__+}}      \\phi⁰₁    ⎦"
      ]
     },
     "metadata": {},
     "output_type": "display_data"
    },
    {
     "data": {
      "image/png": "[encoded data removed]",
      "text/latex": [
       "$\\displaystyle \\left[\\begin{matrix}- {{\\phi_2^+}} \\overline{{{\\phi_1^+}}} + \\overline{\\phi^{0}_{1}} \\overline{\\phi^{0}_{2}} & 0\\\\0 & - {{\\phi_2^+}} \\overline{{{\\phi_1^+}}} + \\overline{\\phi^{0}_{1}} \\overline{\\phi^{0}_{2}}\\end{matrix}\\right]$"
      ],
      "text/plain": [
       "⎡                _____________   ______ ______                                 ↪\n",
       "⎢- {{\\phi_2__+}}⋅{{\\phi_1__+}} + \\phi⁰₁⋅\\phi⁰₂                        0        ↪\n",
       "⎢                                                                              ↪\n",
       "⎢                                                               _____________  ↪\n",
       "⎣                      0                        - {{\\phi_2__+}}⋅{{\\phi_1__+}}  ↪\n",
       "\n",
       "↪                ⎤\n",
       "↪                ⎥\n",
       "↪                ⎥\n",
       "↪   ______ ______⎥\n",
       "↪ + \\phi⁰₁⋅\\phi⁰₂⎦"
      ]
     },
     "metadata": {},
     "output_type": "display_data"
    },
    {
     "data": {
      "image/png": "[encoded data removed]",
      "text/latex": [
       "$\\displaystyle \\left[\\begin{matrix}\\phi^{0}_{2} & - {{\\phi_1^+}}\\\\- \\overline{{{\\phi_2^+}}} & \\phi^{0}_{1}\\end{matrix}\\right]$"
      ],
      "text/plain": [
       "⎡    \\phi⁰₂      -{{\\phi_1__+}}⎤\n",
       "⎢                              ⎥\n",
       "⎢ _____________                ⎥\n",
       "⎣-{{\\phi_2__+}}      \\phi⁰₁    ⎦"
      ]
     },
     "metadata": {},
     "output_type": "display_data"
    },
    {
     "data": {
      "image/png": "[encoded data removed]",
      "text/latex": [
       "$\\displaystyle \\left[\\begin{matrix}\\phi^{0}_{1} \\phi^{0}_{2} - {{\\phi_1^+}} \\overline{{{\\phi_2^+}}} & 0\\\\0 & \\phi^{0}_{1} \\phi^{0}_{2} - {{\\phi_1^+}} \\overline{{{\\phi_2^+}}}\\end{matrix}\\right]$"
      ],
      "text/plain": [
       "⎡                              _____________                                   ↪\n",
       "⎢\\phi⁰₁⋅\\phi⁰₂ - {{\\phi_1__+}}⋅{{\\phi_2__+}}                       0           ↪\n",
       "⎢                                                                              ↪\n",
       "⎢                                                                           __ ↪\n",
       "⎣                     0                       \\phi⁰₁⋅\\phi⁰₂ - {{\\phi_1__+}}⋅{{ ↪\n",
       "\n",
       "↪            ⎤\n",
       "↪            ⎥\n",
       "↪            ⎥\n",
       "↪ ___________⎥\n",
       "↪ \\phi_2__+}}⎦"
      ]
     },
     "metadata": {},
     "output_type": "display_data"
    },
    {
     "data": {
      "image/png": "[encoded data removed]",
      "text/latex": [
       "$\\displaystyle \\left[\\begin{matrix}\\phi^{0}_{2} \\overline{\\phi^{0}_{2}} + {{\\phi_1^+}} \\overline{{{\\phi_1^+}}} & - \\phi^{0}_{2} {{\\phi_2^+}} - {{\\phi_1^+}} \\overline{\\phi^{0}_{1}}\\\\- \\phi^{0}_{1} \\overline{{{\\phi_1^+}}} - \\overline{\\phi^{0}_{2}} \\overline{{{\\phi_2^+}}} & \\phi^{0}_{1} \\overline{\\phi^{0}_{1}} + {{\\phi_2^+}} \\overline{{{\\phi_2^+}}}\\end{matrix}\\right]$"
      ],
      "text/plain": [
       "⎡        ______                 _____________                                  ↪\n",
       "⎢ \\phi⁰₂⋅\\phi⁰₂ + {{\\phi_1__+}}⋅{{\\phi_1__+}}   -\\phi⁰₂⋅{{\\phi_2__+}} - {{\\phi ↪\n",
       "⎢                                                                              ↪\n",
       "⎢         _____________   ______ _____________         ______                  ↪\n",
       "⎣- \\phi⁰₁⋅{{\\phi_1__+}} - \\phi⁰₂⋅{{\\phi_2__+}}  \\phi⁰₁⋅\\phi⁰₁ + {{\\phi_2__+}}⋅ ↪\n",
       "\n",
       "↪         ______⎤\n",
       "↪ _1__+}}⋅\\phi⁰₁⎥\n",
       "↪               ⎥\n",
       "↪ _____________ ⎥\n",
       "↪ {{\\phi_2__+}} ⎦"
      ]
     },
     "metadata": {},
     "output_type": "display_data"
    },
    {
     "data": {
      "image/png": "[encoded data removed]",
      "text/latex": [
       "$\\displaystyle \\left[\\begin{matrix}\\phi^{0}_{1} \\overline{\\phi^{0}_{1}} + {{\\phi_1^+}} \\overline{{{\\phi_1^+}}} & \\phi^{0}_{1} {{\\phi_2^+}} + {{\\phi_1^+}} \\overline{\\phi^{0}_{2}}\\\\\\phi^{0}_{2} \\overline{{{\\phi_1^+}}} + \\overline{\\phi^{0}_{1}} \\overline{{{\\phi_2^+}}} & \\phi^{0}_{2} \\overline{\\phi^{0}_{2}} + {{\\phi_2^+}} \\overline{{{\\phi_2^+}}}\\end{matrix}\\right]$"
      ],
      "text/plain": [
       "⎡       ______                 _____________                                   ↪\n",
       "⎢\\phi⁰₁⋅\\phi⁰₁ + {{\\phi_1__+}}⋅{{\\phi_1__+}}  \\phi⁰₁⋅{{\\phi_2__+}} + {{\\phi_1_ ↪\n",
       "⎢                                                                              ↪\n",
       "⎢       _____________   ______ _____________         ______                 __ ↪\n",
       "⎣\\phi⁰₂⋅{{\\phi_1__+}} + \\phi⁰₁⋅{{\\phi_2__+}}  \\phi⁰₂⋅\\phi⁰₂ + {{\\phi_2__+}}⋅{{ ↪\n",
       "\n",
       "↪      ______⎤\n",
       "↪ _+}}⋅\\phi⁰₂⎥\n",
       "↪            ⎥\n",
       "↪ ___________⎥\n",
       "↪ \\phi_2__+}}⎦"
      ]
     },
     "metadata": {},
     "output_type": "display_data"
    },
    {
     "data": {
      "image/png": "[encoded data removed]",
      "text/latex": [
       "$\\displaystyle \\left[\\begin{matrix}\\phi^{0}_{1} \\phi^{0}_{2} - {{\\phi_1^+}} \\overline{{{\\phi_2^+}}} & 0\\\\0 & \\phi^{0}_{1} \\phi^{0}_{2} - {{\\phi_1^+}} \\overline{{{\\phi_2^+}}}\\end{matrix}\\right]$"
      ],
      "text/plain": [
       "⎡                              _____________                                   ↪\n",
       "⎢\\phi⁰₁⋅\\phi⁰₂ - {{\\phi_1__+}}⋅{{\\phi_2__+}}                       0           ↪\n",
       "⎢                                                                              ↪\n",
       "⎢                                                                           __ ↪\n",
       "⎣                     0                       \\phi⁰₁⋅\\phi⁰₂ - {{\\phi_1__+}}⋅{{ ↪\n",
       "\n",
       "↪            ⎤\n",
       "↪            ⎥\n",
       "↪            ⎥\n",
       "↪ ___________⎥\n",
       "↪ \\phi_2__+}}⎦"
      ]
     },
     "metadata": {},
     "output_type": "display_data"
    }
   ],
   "source": [
    "PhiDagger = Dagger(Phi)\n",
    "#PhiDagger\n",
    "PhiDaggerPhi = PhiDagger*Phi\n",
    "display(PhiDaggerPhi)\n",
    "Phitilde = (msigma(2)*conjugate(Phi)*msigma(2))\n",
    "#Phitilde\n",
    "display(Phitilde)\n",
    "PhitildeDagger = Dagger(Phitilde)\n",
    "PhiDaggerPhitilde = PhiDagger*Phitilde\n",
    "display(PhiDaggerPhitilde)\n",
    "#PhitildeDagger\n",
    "display(PhitildeDagger)\n",
    "PhitildeDaggerPhi = PhitildeDagger*Phi\n",
    "display(PhitildeDaggerPhi)\n",
    "PhitildeDaggerPhitilde = PhitildeDagger*Phitilde\n",
    "display(PhitildeDaggerPhitilde)\n",
    "PhiPhiDagger = Phi*PhiDagger\n",
    "display(PhiPhiDagger)\n",
    "PhiPhitildeDagger = Phi*PhitildeDagger\n",
    "display(PhiPhitildeDagger)"
   ]
  },
  {
   "cell_type": "code",
   "execution_count": 11,
   "metadata": {},
   "outputs": [
    {
     "data": {
      "image/png": "[encoded data removed]",
      "text/latex": [
       "$\\displaystyle \\left( \\left[\\begin{matrix}\\overline{\\phi^{0}_{1}} & {{\\phi_2^+}}\\\\\\overline{{{\\phi_1^+}}} & \\overline{\\phi^{0}_{2}}\\end{matrix}\\right], \\  \\left[\\begin{matrix}\\overline{\\phi^{0}_{2}} & - {{\\phi_2^+}}\\\\- \\overline{{{\\phi_1^+}}} & \\overline{\\phi^{0}_{1}}\\end{matrix}\\right]\\right)$"
      ],
      "text/plain": [
       "⎛⎡   ______                   ⎤  ⎡    ______                    ⎤⎞\n",
       "⎜⎢   \\phi⁰₁      {{\\phi_2__+}}⎥  ⎢    \\phi⁰₂      -{{\\phi_2__+}}⎥⎟\n",
       "⎜⎢                            ⎥, ⎢                              ⎥⎟\n",
       "⎜⎢_____________     ______    ⎥  ⎢ _____________      ______    ⎥⎟\n",
       "⎝⎣{{\\phi_1__+}}     \\phi⁰₂    ⎦  ⎣-{{\\phi_1__+}}      \\phi⁰₁    ⎦⎠"
      ]
     },
     "execution_count": 11,
     "metadata": {},
     "output_type": "execute_result"
    }
   ],
   "source": [
    "PhiDagger, Phitilde"
   ]
  },
  {
   "cell_type": "code",
   "execution_count": 12,
   "metadata": {},
   "outputs": [
    {
     "data": {
      "image/png": "[encoded data removed]",
      "text/latex": [
       "$\\displaystyle \\chi^{0}_{L} \\overline{\\chi^{0}_{L}} + {{\\chi_L^+}} \\overline{{{\\chi_L^+}}}$"
      ],
      "text/plain": [
       "          _________                 _____________\n",
       "\\chi_L__0⋅\\chi_L__0 + {{\\chi_L__+}}⋅{{\\chi_L__+}}"
      ]
     },
     "metadata": {},
     "output_type": "display_data"
    },
    {
     "data": {
      "image/png": "[encoded data removed]",
      "text/latex": [
       "$\\displaystyle \\chi^{0}_{R} \\overline{\\chi^{0}_{R}} + {{\\chi_R^+}} \\overline{{{\\chi_R^+}}}$"
      ],
      "text/plain": [
       "          _________                 _____________\n",
       "\\chi_R__0⋅\\chi_R__0 + {{\\chi_R__+}}⋅{{\\chi_R__+}}"
      ]
     },
     "metadata": {},
     "output_type": "display_data"
    }
   ],
   "source": [
    "ChiLDagger = Dagger(ChiL)\n",
    "ChiRDagger = Dagger(ChiR)\n",
    "\n",
    "ChiLDaggerChiL = (ChiLDagger*ChiL)[0]\n",
    "display(ChiLDaggerChiL)\n",
    "ChiRDaggerChiR = (ChiRDagger*ChiR)[0]\n",
    "display(ChiRDaggerChiR)"
   ]
  },
  {
   "cell_type": "code",
   "execution_count": 13,
   "metadata": {},
   "outputs": [],
   "source": [
    "mu12, mu22 = symbols(r'\\mu_1^2, \\mu_2^2', real=True)\n",
    "lamb1, lamb2, lamb3, lamb4, lamb5, lamb6 = symbols(r'\\lambda_1, \\lambda_2, \\lambda_3, \\lambda_4, \\lambda_5, \\lambda_6', real=True)\n",
    "alpha1, alpha2, alpha3 = symbols(r'\\alpha_1, \\alpha_2, \\alpha_3', real=True)\n",
    "rho1, rho2,= symbols(r'\\rho_1, \\rho_2', real=True)\n"
   ]
  },
  {
   "cell_type": "code",
   "execution_count": 14,
   "metadata": {},
   "outputs": [],
   "source": [
    "#conjugate(trace(PhiDaggerPhitilde*PhiDaggerPhitilde))"
   ]
  },
  {
   "cell_type": "code",
   "execution_count": 15,
   "metadata": {},
   "outputs": [],
   "source": [
    "#trace(PhitildeDaggerPhi*PhitildeDaggerPhi)"
   ]
  },
  {
   "cell_type": "code",
   "execution_count": 16,
   "metadata": {},
   "outputs": [],
   "source": [
    "V = (\n",
    "    - mu12*trace(PhiDaggerPhi)\n",
    "    + lamb1*trace(PhiDaggerPhi)**2\n",
    "    + lamb2*trace(PhiDaggerPhi*PhiDaggerPhi)\n",
    "    + lamb3/2*(trace(PhiDaggerPhitilde) + trace(PhitildeDaggerPhi))**2\n",
    "    + lamb4/2*(trace(PhiDaggerPhitilde) - trace(PhitildeDaggerPhi))**2\n",
    "    + lamb5*trace(PhiDaggerPhi*PhitildeDaggerPhitilde)\n",
    "    + lamb6/2*(trace(PhiDaggerPhitilde*PhiDaggerPhitilde) + conjugate(trace(PhiDaggerPhitilde*PhiDaggerPhitilde)))\n",
    "    - mu22*(ChiLDaggerChiL + ChiRDaggerChiR)\n",
    "    + rho1*(ChiLDaggerChiL**2 + ChiRDaggerChiR**2)\n",
    "    + rho2*(ChiLDaggerChiL*ChiRDaggerChiR)\n",
    "    + alpha1*trace(PhiDaggerPhi)*(ChiLDaggerChiL + ChiRDaggerChiR)\n",
    "    + alpha2*(\n",
    "        ChiLDagger*Phi*PhiDagger*ChiL\n",
    "        + ChiRDagger*PhiDagger*Phi*ChiR\n",
    "    )[0]\n",
    "    + alpha3*(\n",
    "        ChiLDagger*Phitilde*PhitildeDagger*ChiL\n",
    "        + ChiRDagger*PhitildeDagger*Phitilde*ChiR\n",
    "    )[0]\n",
    ")"
   ]
  },
  {
   "cell_type": "code",
   "execution_count": 17,
   "metadata": {},
   "outputs": [
    {
     "data": {
      "image/png": "[encoded data removed]",
      "text/latex": [
       "$\\displaystyle \\left\\{ \\chi^{0}_{R} : v_{R}, \\  {{\\chi_R^+}} : 0\\right\\}$"
      ],
      "text/plain": [
       "{\\chi_R__0: v_R, {{\\chi_R__+}}: 0}"
      ]
     },
     "execution_count": 17,
     "metadata": {},
     "output_type": "execute_result"
    }
   ],
   "source": [
    "vevR"
   ]
  },
  {
   "cell_type": "code",
   "execution_count": 18,
   "metadata": {},
   "outputs": [
    {
     "data": {
      "image/png": "[encoded data removed]",
      "text/latex": [
       "$\\displaystyle \\alpha_{1} \\left(k_{1}^{2} + k_{2}^{2}\\right) \\left(v_{L}^{2} + v_{R}^{2}\\right) + \\alpha_{2} k_{2}^{2} \\left(v_{L}^{2} + v_{R}^{2}\\right) + \\alpha_{3} k_{1}^{2} \\left(v_{L}^{2} + v_{R}^{2}\\right) + \\lambda_{1} \\left(k_{1}^{2} + k_{2}^{2}\\right)^{2} + \\lambda_{2} \\left(k_{1}^{4} + k_{2}^{4}\\right) + 8 \\lambda_{3} k_{1}^{2} k_{2}^{2} + 2 \\lambda_{5} k_{1}^{2} k_{2}^{2} + 2 \\lambda_{6} k_{1}^{2} k_{2}^{2} - \\mu^{2}_{1} \\left(k_{1}^{2} + k_{2}^{2}\\right) - \\mu^{2}_{2} \\left(v_{L}^{2} + v_{R}^{2}\\right) + \\rho_{1} \\left(v_{L}^{4} + v_{R}^{4}\\right) + \\rho_{2} v_{L}^{2} v_{R}^{2}$"
      ],
      "text/plain": [
       "                                                                               ↪\n",
       "        ⎛  2     2⎞ ⎛   2      2⎞             2 ⎛   2      2⎞             2 ⎛  ↪\n",
       "\\alpha₁⋅⎝k₁  + k₂ ⎠⋅⎝v_L  + v_R ⎠ + \\alpha₂⋅k₂ ⋅⎝v_L  + v_R ⎠ + \\alpha₃⋅k₁ ⋅⎝v ↪\n",
       "\n",
       "↪                                   2                                          ↪\n",
       "↪   2      2⎞            ⎛  2     2⎞             ⎛  4     4⎞                2  ↪\n",
       "↪ _L  + v_R ⎠ + \\lambda₁⋅⎝k₁  + k₂ ⎠  + \\lambda₂⋅⎝k₁  + k₂ ⎠ + 8⋅\\lambda₃⋅k₁ ⋅ ↪\n",
       "\n",
       "↪                                                                              ↪\n",
       "↪   2                2   2                2   2         ⎛  2     2⎞         ⎛  ↪\n",
       "↪ k₂  + 2⋅\\lambda₅⋅k₁ ⋅k₂  + 2⋅\\lambda₆⋅k₁ ⋅k₂  - \\mu²₁⋅⎝k₁  + k₂ ⎠ - \\mu²₂⋅⎝v ↪\n",
       "\n",
       "↪                                                    \n",
       "↪   2      2⎞         ⎛   4      4⎞            2    2\n",
       "↪ _L  + v_R ⎠ + \\rho₁⋅⎝v_L  + v_R ⎠ + \\rho₂⋅v_L ⋅v_R "
      ]
     },
     "execution_count": 18,
     "metadata": {},
     "output_type": "execute_result"
    }
   ],
   "source": [
    "VLRPhi_vev = V.subs(vevL).subs(vevR).subs(vevPhi).simplify()#.collect([mu12, mu22, mu32, lamb2, rho1, beta2], factor)#.subs(k1ri)\n",
    "VLRPhi_vev"
   ]
  },
  {
   "cell_type": "markdown",
   "metadata": {},
   "source": [
    "### Tadpole conditions"
   ]
  },
  {
   "cell_type": "code",
   "execution_count": 19,
   "metadata": {},
   "outputs": [],
   "source": [
    "scalar_vevs = [k1, k2, vL, vR]\n",
    "tadpoles_relations = {}\n",
    "for vev in scalar_vevs:\n",
    "    tadpoles_relations[vev] = VLRPhi_vev.diff(vev).factor()"
   ]
  },
  {
   "cell_type": "code",
   "execution_count": 20,
   "metadata": {},
   "outputs": [
    {
     "data": {
      "image/png": "[encoded data removed]",
      "text/latex": [
       "$\\displaystyle k_{1}$"
      ],
      "text/plain": [
       "k₁"
      ]
     },
     "metadata": {},
     "output_type": "display_data"
    },
    {
     "data": {
      "image/png": "[encoded data removed]",
      "text/latex": [
       "$\\displaystyle 2 k_{1} \\left(- \\mu^{2}_{1} + 2 k_{1}^{2} \\left(\\lambda_{1} + \\lambda_{2}\\right) + 2 k_{2}^{2} \\left(\\lambda_{1} + 4 \\lambda_{3} + \\lambda_{5} + \\lambda_{6}\\right) + v_{L}^{2} \\left(\\alpha_{1} + \\alpha_{3}\\right) + v_{R}^{2} \\left(\\alpha_{1} + \\alpha_{3}\\right)\\right)$"
      ],
      "text/plain": [
       "     ⎛             2                             2                             ↪\n",
       "2⋅k₁⋅⎝-\\mu²₁ + 2⋅k₁ ⋅(\\lambda₁ + \\lambda₂) + 2⋅k₂ ⋅(\\lambda₁ + 4⋅\\lambda₃ + \\l ↪\n",
       "\n",
       "↪                         2                          2                    ⎞\n",
       "↪ ambda₅ + \\lambda₆) + v_L ⋅(\\alpha₁ + \\alpha₃) + v_R ⋅(\\alpha₁ + \\alpha₃)⎠"
      ]
     },
     "metadata": {},
     "output_type": "display_data"
    },
    {
     "data": {
      "image/png": "[encoded data removed]",
      "text/latex": [
       "$\\displaystyle k_{2}$"
      ],
      "text/plain": [
       "k₂"
      ]
     },
     "metadata": {},
     "output_type": "display_data"
    },
    {
     "data": {
      "image/png": "[encoded data removed]",
      "text/latex": [
       "$\\displaystyle 2 k_{2} \\left(- \\mu^{2}_{1} + 2 k_{1}^{2} \\left(\\lambda_{1} + 4 \\lambda_{3} + \\lambda_{5} + \\lambda_{6}\\right) + 2 k_{2}^{2} \\left(\\lambda_{1} + \\lambda_{2}\\right) + v_{L}^{2} \\left(\\alpha_{1} + \\alpha_{2}\\right) + v_{R}^{2} \\left(\\alpha_{1} + \\alpha_{2}\\right)\\right)$"
      ],
      "text/plain": [
       "     ⎛             2                                                     2     ↪\n",
       "2⋅k₂⋅⎝-\\mu²₁ + 2⋅k₁ ⋅(\\lambda₁ + 4⋅\\lambda₃ + \\lambda₅ + \\lambda₆) + 2⋅k₂ ⋅(\\l ↪\n",
       "\n",
       "↪                         2                          2                    ⎞\n",
       "↪ ambda₁ + \\lambda₂) + v_L ⋅(\\alpha₁ + \\alpha₂) + v_R ⋅(\\alpha₁ + \\alpha₂)⎠"
      ]
     },
     "metadata": {},
     "output_type": "display_data"
    },
    {
     "data": {
      "image/png": "[encoded data removed]",
      "text/latex": [
       "$\\displaystyle v_{L}$"
      ],
      "text/plain": [
       "v_L"
      ]
     },
     "metadata": {},
     "output_type": "display_data"
    },
    {
     "data": {
      "image/png": "[encoded data removed]",
      "text/latex": [
       "$\\displaystyle 2 v_{L} \\left(- \\mu^{2}_{2} + 2 \\rho_{1} v_{L}^{2} + \\rho_{2} v_{R}^{2} + k_{1}^{2} \\left(\\alpha_{1} + \\alpha_{3}\\right) + k_{2}^{2} \\left(\\alpha_{1} + \\alpha_{2}\\right)\\right)$"
      ],
      "text/plain": [
       "      ⎛                    2            2     2                         2      ↪\n",
       "2⋅v_L⋅⎝-\\mu²₂ + 2⋅\\rho₁⋅v_L  + \\rho₂⋅v_R  + k₁ ⋅(\\alpha₁ + \\alpha₃) + k₂ ⋅(\\al ↪\n",
       "\n",
       "↪                ⎞\n",
       "↪ pha₁ + \\alpha₂)⎠"
      ]
     },
     "metadata": {},
     "output_type": "display_data"
    },
    {
     "data": {
      "image/png": "[encoded data removed]",
      "text/latex": [
       "$\\displaystyle v_{R}$"
      ],
      "text/plain": [
       "v_R"
      ]
     },
     "metadata": {},
     "output_type": "display_data"
    },
    {
     "data": {
      "image/png": "[encoded data removed]",
      "text/latex": [
       "$\\displaystyle 2 v_{R} \\left(- \\mu^{2}_{2} + 2 \\rho_{1} v_{R}^{2} + \\rho_{2} v_{L}^{2} + k_{1}^{2} \\left(\\alpha_{1} + \\alpha_{3}\\right) + k_{2}^{2} \\left(\\alpha_{1} + \\alpha_{2}\\right)\\right)$"
      ],
      "text/plain": [
       "      ⎛                    2            2     2                         2      ↪\n",
       "2⋅v_R⋅⎝-\\mu²₂ + 2⋅\\rho₁⋅v_R  + \\rho₂⋅v_L  + k₁ ⋅(\\alpha₁ + \\alpha₃) + k₂ ⋅(\\al ↪\n",
       "\n",
       "↪                ⎞\n",
       "↪ pha₁ + \\alpha₂)⎠"
      ]
     },
     "metadata": {},
     "output_type": "display_data"
    }
   ],
   "source": [
    "for muij, tadpole in tadpoles_relations.items():\n",
    "    display(muij)\n",
    "    tadpole_simplified = tadpole.collect([k1, k2, vL, vR], factor)\n",
    "    display(tadpole_simplified)"
   ]
  },
  {
   "cell_type": "code",
   "execution_count": 21,
   "metadata": {},
   "outputs": [
    {
     "data": {
      "image/png": "[encoded data removed]",
      "text/latex": [
       "$\\displaystyle 2 k_{1} \\left(\\alpha_{1} v_{R}^{2} + \\alpha_{3} v_{R}^{2} + 2 \\lambda_{1} k_{1}^{2} + 2 \\lambda_{2} k_{1}^{2} - \\mu^{2}_{1}\\right)$"
      ],
      "text/plain": [
       "     ⎛           2              2                2                2        ⎞\n",
       "2⋅k₁⋅⎝\\alpha₁⋅v_R  + \\alpha₃⋅v_R  + 2⋅\\lambda₁⋅k₁  + 2⋅\\lambda₂⋅k₁  - \\mu²₁⎠"
      ]
     },
     "execution_count": 21,
     "metadata": {},
     "output_type": "execute_result"
    }
   ],
   "source": [
    "tadpoles_relations[k1].subs(k2,0).subs(vL, 0).factor()"
   ]
  },
  {
   "cell_type": "code",
   "execution_count": 22,
   "metadata": {},
   "outputs": [
    {
     "data": {
      "image/png": "[encoded data removed]",
      "text/latex": [
       "$\\displaystyle 2 v_{R} \\left(\\alpha_{1} k_{1}^{2} + \\alpha_{3} k_{1}^{2} - \\mu^{2}_{2} + 2 \\rho_{1} v_{R}^{2}\\right)$"
      ],
      "text/plain": [
       "      ⎛          2             2                      2⎞\n",
       "2⋅v_R⋅⎝\\alpha₁⋅k₁  + \\alpha₃⋅k₁  - \\mu²₂ + 2⋅\\rho₁⋅v_R ⎠"
      ]
     },
     "execution_count": 22,
     "metadata": {},
     "output_type": "execute_result"
    }
   ],
   "source": [
    "tadpoles_relations[vR].subs(k2,0).subs(vL, 0)"
   ]
  },
  {
   "cell_type": "code",
   "execution_count": 23,
   "metadata": {},
   "outputs": [
    {
     "data": {
      "image/png": "[encoded data removed]",
      "text/latex": [
       "$\\displaystyle \\left\\{ \\mu^{2}_{1} : \\alpha_{1} v_{L}^{2} + \\alpha_{1} v_{R}^{2} + \\alpha_{3} v_{L}^{2} + \\alpha_{3} v_{R}^{2} + 2 \\lambda_{1} k_{1}^{2} + 2 \\lambda_{1} k_{2}^{2} + 2 \\lambda_{2} k_{1}^{2} + 8 \\lambda_{3} k_{2}^{2} + 2 \\lambda_{5} k_{2}^{2} + 2 \\lambda_{6} k_{2}^{2}, \\  \\mu^{2}_{2} : \\alpha_{1} k_{1}^{2} + \\alpha_{1} k_{2}^{2} + \\alpha_{2} k_{2}^{2} + \\alpha_{3} k_{1}^{2} + 2 \\rho_{1} v_{R}^{2} + \\rho_{2} v_{L}^{2}\\right\\}$"
      ],
      "text/plain": [
       "⎧                  2              2              2              2              ↪\n",
       "⎨\\mu²₁: \\alpha₁⋅v_L  + \\alpha₁⋅v_R  + \\alpha₃⋅v_L  + \\alpha₃⋅v_R  + 2⋅\\lambda₁ ↪\n",
       "⎩                                                                              ↪\n",
       "\n",
       "↪    2                2                2                2                2     ↪\n",
       "↪ ⋅k₁  + 2⋅\\lambda₁⋅k₂  + 2⋅\\lambda₂⋅k₁  + 8⋅\\lambda₃⋅k₂  + 2⋅\\lambda₅⋅k₂  + 2 ↪\n",
       "↪                                                                              ↪\n",
       "\n",
       "↪             2                   2             2             2             2  ↪\n",
       "↪ ⋅\\lambda₆⋅k₂ , \\mu²₂: \\alpha₁⋅k₁  + \\alpha₁⋅k₂  + \\alpha₂⋅k₂  + \\alpha₃⋅k₁   ↪\n",
       "↪                                                                              ↪\n",
       "\n",
       "↪              2            2⎫\n",
       "↪ + 2⋅\\rho₁⋅v_R  + \\rho₂⋅v_L ⎬\n",
       "↪                            ⎭"
      ]
     },
     "execution_count": 23,
     "metadata": {},
     "output_type": "execute_result"
    }
   ],
   "source": [
    "tadpole12_sol = solve([tadpoles_relations[k1], tadpoles_relations[vR]], [mu12, mu22], dict=True)[0]\n",
    "tadpole12_sol"
   ]
  },
  {
   "cell_type": "code",
   "execution_count": 24,
   "metadata": {},
   "outputs": [
    {
     "data": {
      "image/png": "[encoded data removed]",
      "text/latex": [
       "$\\displaystyle \\mu^{2}_{1}$"
      ],
      "text/plain": [
       "\\mu²₁"
      ]
     },
     "metadata": {},
     "output_type": "display_data"
    },
    {
     "data": {
      "image/png": "[encoded data removed]",
      "text/latex": [
       "$\\displaystyle 2 k_{1}^{2} \\left(\\lambda_{1} + \\lambda_{2}\\right) + v_{R}^{2} \\left(\\alpha_{1} + \\alpha_{3}\\right)$"
      ],
      "text/plain": [
       "    2                            2                    \n",
       "2⋅k₁ ⋅(\\lambda₁ + \\lambda₂) + v_R ⋅(\\alpha₁ + \\alpha₃)"
      ]
     },
     "metadata": {},
     "output_type": "display_data"
    },
    {
     "data": {
      "image/png": "[encoded data removed]",
      "text/latex": [
       "$\\displaystyle \\mu^{2}_{2}$"
      ],
      "text/plain": [
       "\\mu²₂"
      ]
     },
     "metadata": {},
     "output_type": "display_data"
    },
    {
     "data": {
      "image/png": "[encoded data removed]",
      "text/latex": [
       "$\\displaystyle 2 \\rho_{1} v_{R}^{2} + k_{1}^{2} \\left(\\alpha_{1} + \\alpha_{3}\\right)$"
      ],
      "text/plain": [
       "           2     2                    \n",
       "2⋅\\rho₁⋅v_R  + k₁ ⋅(\\alpha₁ + \\alpha₃)"
      ]
     },
     "metadata": {},
     "output_type": "display_data"
    }
   ],
   "source": [
    "tadpoles_relations_simplified = {}\n",
    "for muij, tadpole in tadpole12_sol.items():\n",
    "    display(muij)\n",
    "    tadpole_simplified = tadpole.collect([k1, k2, vL, vR], factor).subs(k2,0).subs(vL, 0) # remove vL and vR\n",
    "    display(tadpole_simplified)\n",
    "    tadpoles_relations_simplified[muij] = tadpole_simplified"
   ]
  },
  {
   "cell_type": "code",
   "execution_count": 25,
   "metadata": {},
   "outputs": [
    {
     "data": {
      "image/png": "[encoded data removed]",
      "text/latex": [
       "$\\displaystyle \\left\\{ \\alpha_{1} : \\frac{\\mu^{2}_{2}}{k_{1}^{2}} + \\frac{- \\alpha_{3} k_{1}^{2} v_{L}^{2} - \\alpha_{3} k_{1}^{2} v_{R}^{2} + 2 \\lambda_{1} k_{1}^{2} k_{2}^{2} + 2 \\lambda_{1} k_{2}^{4} + 2 \\lambda_{2} k_{2}^{4} + 8 \\lambda_{3} k_{1}^{2} k_{2}^{2} + 2 \\lambda_{5} k_{1}^{2} k_{2}^{2} + 2 \\lambda_{6} k_{1}^{2} k_{2}^{2} - \\mu^{2}_{1} k_{2}^{2} - 2 \\rho_{1} v_{L}^{4} - 2 \\rho_{1} v_{L}^{2} v_{R}^{2} - \\rho_{2} v_{L}^{2} v_{R}^{2} - \\rho_{2} v_{R}^{4}}{k_{1}^{2} v_{L}^{2} + k_{1}^{2} v_{R}^{2}}, \\  \\alpha_{2} : - \\frac{\\mu^{2}_{2}}{k_{1}^{2}} + \\frac{\\alpha_{3} k_{1}^{2} v_{L}^{2} + \\alpha_{3} k_{1}^{2} v_{R}^{2} - 2 \\lambda_{1} k_{1}^{4} - 4 \\lambda_{1} k_{1}^{2} k_{2}^{2} - 2 \\lambda_{1} k_{2}^{4} - 2 \\lambda_{2} k_{1}^{2} k_{2}^{2} - 2 \\lambda_{2} k_{2}^{4} - 8 \\lambda_{3} k_{1}^{4} - 8 \\lambda_{3} k_{1}^{2} k_{2}^{2} - 2 \\lambda_{5} k_{1}^{4} - 2 \\lambda_{5} k_{1}^{2} k_{2}^{2} - 2 \\lambda_{6} k_{1}^{4} - 2 \\lambda_{6} k_{1}^{2} k_{2}^{2} + \\mu^{2}_{1} k_{1}^{2} + \\mu^{2}_{1} k_{2}^{2} + 2 \\rho_{1} v_{L}^{4} + 2 \\rho_{1} v_{L}^{2} v_{R}^{2} + \\rho_{2} v_{L}^{2} v_{R}^{2} + \\rho_{2} v_{R}^{4}}{k_{1}^{2} v_{L}^{2} + k_{1}^{2} v_{R}^{2}}\\right\\}$"
      ],
      "text/plain": [
       "⎧                             2    2             2    2                2   2   ↪\n",
       "⎪         \\mu²₂   - \\alpha₃⋅k₁ ⋅v_L  - \\alpha₃⋅k₁ ⋅v_R  + 2⋅\\lambda₁⋅k₁ ⋅k₂  + ↪\n",
       "⎨\\alpha₁: ───── + ──────────────────────────────────────────────────────────── ↪\n",
       "⎪            2                                                                 ↪\n",
       "⎩          k₁                                                                  ↪\n",
       "\n",
       "↪               4                4                2   2                2   2   ↪\n",
       "↪  2⋅\\lambda₁⋅k₂  + 2⋅\\lambda₂⋅k₂  + 8⋅\\lambda₃⋅k₁ ⋅k₂  + 2⋅\\lambda₅⋅k₁ ⋅k₂  + ↪\n",
       "↪ ──────────────────────────────────────────────────────────────────────────── ↪\n",
       "↪                                                  2    2     2    2           ↪\n",
       "↪                                                k₁ ⋅v_L  + k₁ ⋅v_R            ↪\n",
       "\n",
       "↪               2   2           2              4              2    2           ↪\n",
       "↪  2⋅\\lambda₆⋅k₁ ⋅k₂  - \\mu²₁⋅k₂  - 2⋅\\rho₁⋅v_L  - 2⋅\\rho₁⋅v_L ⋅v_R  - \\rho₂⋅v ↪\n",
       "↪ ──────────────────────────────────────────────────────────────────────────── ↪\n",
       "↪                                                                              ↪\n",
       "↪                                                                              ↪\n",
       "\n",
       "↪   2    2            4                               2    2             2     ↪\n",
       "↪ _L ⋅v_R  - \\rho₂⋅v_R              \\mu²₂   \\alpha₃⋅k₁ ⋅v_L  + \\alpha₃⋅k₁ ⋅v_R ↪\n",
       "↪ ─────────────────────, \\alpha₂: - ───── + ────────────────────────────────── ↪\n",
       "↪                                      2                                       ↪\n",
       "↪                                    k₁                                        ↪\n",
       "\n",
       "↪ 2                4                2   2                4                2    ↪\n",
       "↪   - 2⋅\\lambda₁⋅k₁  - 4⋅\\lambda₁⋅k₁ ⋅k₂  - 2⋅\\lambda₁⋅k₂  - 2⋅\\lambda₂⋅k₁ ⋅k₂ ↪\n",
       "↪ ──────────────────────────────────────────────────────────────────────────── ↪\n",
       "↪                                                                              ↪\n",
       "↪                                                                              ↪\n",
       "\n",
       "↪ 2                4                4                2   2                4    ↪\n",
       "↪   - 2⋅\\lambda₂⋅k₂  - 8⋅\\lambda₃⋅k₁  - 8⋅\\lambda₃⋅k₁ ⋅k₂  - 2⋅\\lambda₅⋅k₁  -  ↪\n",
       "↪ ──────────────────────────────────────────────────────────────────────────── ↪\n",
       "↪                                                 2    2     2    2            ↪\n",
       "↪                                               k₁ ⋅v_L  + k₁ ⋅v_R             ↪\n",
       "\n",
       "↪              2   2                4                2   2           2         ↪\n",
       "↪ 2⋅\\lambda₅⋅k₁ ⋅k₂  - 2⋅\\lambda₆⋅k₁  - 2⋅\\lambda₆⋅k₁ ⋅k₂  + \\mu²₁⋅k₁  + \\mu²₁ ↪\n",
       "↪ ──────────────────────────────────────────────────────────────────────────── ↪\n",
       "↪                                                                              ↪\n",
       "↪                                                                              ↪\n",
       "\n",
       "↪    2              4              2    2            2    2            4⎫\n",
       "↪ ⋅k₂  + 2⋅\\rho₁⋅v_L  + 2⋅\\rho₁⋅v_L ⋅v_R  + \\rho₂⋅v_L ⋅v_R  + \\rho₂⋅v_R ⎪\n",
       "↪ ──────────────────────────────────────────────────────────────────────⎬\n",
       "↪                                                                       ⎪\n",
       "↪                                                                       ⎭"
      ]
     },
     "execution_count": 25,
     "metadata": {},
     "output_type": "execute_result"
    }
   ],
   "source": [
    "tadpole12_sol_2L = solve([tadpoles_relations[k2], tadpoles_relations[vL]], [alpha1, alpha2, mu22], dict=True)[0]\n",
    "tadpole12_sol_2L"
   ]
  },
  {
   "cell_type": "code",
   "execution_count": 26,
   "metadata": {},
   "outputs": [
    {
     "data": {
      "image/png": "[encoded data removed]",
      "text/latex": [
       "$\\displaystyle \\alpha_{1}$"
      ],
      "text/plain": [
       "\\alpha₁"
      ]
     },
     "metadata": {},
     "output_type": "display_data"
    },
    {
     "data": {
      "image/png": "[encoded data removed]",
      "text/latex": [
       "$\\displaystyle - \\alpha_{3} + \\frac{\\mu^{2}_{2} v_{R}^{2} - \\rho_{2} v_{R}^{4}}{k_{1}^{2} v_{R}^{2}}$"
      ],
      "text/plain": [
       "                    2            4\n",
       "           \\mu²₂⋅v_R  - \\rho₂⋅v_R \n",
       "-\\alpha₃ + ───────────────────────\n",
       "                    2    2        \n",
       "                  k₁ ⋅v_R         "
      ]
     },
     "metadata": {},
     "output_type": "display_data"
    },
    {
     "data": {
      "image/png": "[encoded data removed]",
      "text/latex": [
       "$\\displaystyle \\alpha_{2}$"
      ],
      "text/plain": [
       "\\alpha₂"
      ]
     },
     "metadata": {},
     "output_type": "display_data"
    },
    {
     "data": {
      "image/png": "[encoded data removed]",
      "text/latex": [
       "$\\displaystyle \\alpha_{3} + \\frac{\\mu^{2}_{1}}{v_{R}^{2}} - \\frac{2 k_{1}^{2} \\left(\\lambda_{1} + 4 \\lambda_{3} + \\lambda_{5} + \\lambda_{6}\\right)}{v_{R}^{2}} - \\frac{\\mu^{2}_{2} v_{R}^{2} - \\rho_{2} v_{R}^{4}}{k_{1}^{2} v_{R}^{2}}$"
      ],
      "text/plain": [
       "                      2                                                        ↪\n",
       "          \\mu²₁   2⋅k₁ ⋅(\\lambda₁ + 4⋅\\lambda₃ + \\lambda₅ + \\lambda₆)   \\mu²₂⋅ ↪\n",
       "\\alpha₃ + ───── - ─────────────────────────────────────────────────── - ────── ↪\n",
       "             2                              2                                  ↪\n",
       "          v_R                            v_R                                   ↪\n",
       "\n",
       "↪    2            4\n",
       "↪ v_R  - \\rho₂⋅v_R \n",
       "↪ ─────────────────\n",
       "↪    2    2        \n",
       "↪  k₁ ⋅v_R         "
      ]
     },
     "metadata": {},
     "output_type": "display_data"
    }
   ],
   "source": [
    "tadpoles_relations_simplified_2L = {}\n",
    "for muij, tadpole in tadpole12_sol_2L.items():\n",
    "    display(muij)\n",
    "    tadpole_simplified = tadpole.expand().collect([k1, k2, vL, vR], factor).subs(k2,0).subs(vL, 0)\n",
    "    display(tadpole_simplified)\n",
    "    tadpoles_relations_simplified_2L[muij] = tadpole_simplified"
   ]
  },
  {
   "cell_type": "markdown",
   "metadata": {},
   "source": []
  },
  {
   "cell_type": "code",
   "execution_count": 27,
   "metadata": {},
   "outputs": [
    {
     "data": {
      "image/png": "[encoded data removed]",
      "text/latex": [
       "$\\displaystyle \\left[\\begin{matrix}- {{\\phi_2^+}} \\overline{{{\\phi_1^+}}} + \\overline{\\phi^{0}_{1}} \\overline{\\phi^{0}_{2}} & 0\\\\0 & - {{\\phi_2^+}} \\overline{{{\\phi_1^+}}} + \\overline{\\phi^{0}_{1}} \\overline{\\phi^{0}_{2}}\\end{matrix}\\right]$"
      ],
      "text/plain": [
       "⎡                _____________   ______ ______                                 ↪\n",
       "⎢- {{\\phi_2__+}}⋅{{\\phi_1__+}} + \\phi⁰₁⋅\\phi⁰₂                        0        ↪\n",
       "⎢                                                                              ↪\n",
       "⎢                                                               _____________  ↪\n",
       "⎣                      0                        - {{\\phi_2__+}}⋅{{\\phi_1__+}}  ↪\n",
       "\n",
       "↪                ⎤\n",
       "↪                ⎥\n",
       "↪                ⎥\n",
       "↪   ______ ______⎥\n",
       "↪ + \\phi⁰₁⋅\\phi⁰₂⎦"
      ]
     },
     "execution_count": 27,
     "metadata": {},
     "output_type": "execute_result"
    }
   ],
   "source": [
    "PhiDagger * Phitilde"
   ]
  },
  {
   "cell_type": "code",
   "execution_count": 31,
   "metadata": {},
   "outputs": [
    {
     "name": "stdout",
     "output_type": "stream",
     "text": [
      "Comparison for Tr(Phi† Phi):\n",
      "  ✔️ Equivalent\n",
      "\n",
      "Comparison for Tr(Phi† Phi)^2:\n",
      "  ✔️ Equivalent\n",
      "\n",
      "Comparison for Tr(Phi† Phi Phi† Phi):\n",
      "  ✔️ Equivalent\n",
      "\n",
      "Comparison for Tr(Phi† Phitilde):\n",
      "  ✔️ Equivalent\n",
      "\n",
      "Comparison for Tr(Phitilde† Phi):\n",
      "  ✔️ Equivalent\n",
      "\n",
      "Comparison for Tr(Phi† Phi Phitilde† Phitilde):\n",
      "  ✔️ Equivalent\n",
      "\n",
      "Comparison for Tr(Phi† Phitilde Phi† Phitilde):\n",
      "  ✔️ Equivalent\n",
      "\n",
      "Comparison for Tr(Phitilde† Phi Phitilde† Phi):\n",
      "  ✔️ Equivalent\n",
      "\n",
      "Comparison for ChiL† ChiL:\n",
      "  ✔️ Equivalent\n",
      "\n",
      "Comparison for ChiR† ChiR:\n",
      "  ✔️ Equivalent\n",
      "\n",
      "Comparison for ChiL† Phi Phi† ChiL:\n",
      "  ✔️ Equivalent\n",
      "\n",
      "Comparison for ChiR† Phi† Phi ChiR:\n",
      "  ✔️ Equivalent\n",
      "\n",
      "Comparison for ChiL† Phitilde Phitilde† ChiL:\n",
      "  ✔️ Equivalent\n",
      "\n",
      "Comparison for ChiR† Phitilde† Phitilde ChiR:\n",
      "  ✔️ Equivalent\n",
      "\n"
     ]
    }
   ],
   "source": [
    "# ...existing code...\n",
    "# filepath: c:\\Users\\moise\\OneDrive\\Escritorio\\LRSM-with-Spheno\\sympy_calculations\\DLRSM\\potential_senjanovic_HiggsDoublets_SARAH_comparisons.ipynb\n",
    "\n",
    "from sympy import Eq, simplify, expand, Matrix, symbols, conjugate, trace, I, KroneckerDelta, LeviCivita\n",
    "from sympy.physics.quantum import Dagger\n",
    "\n",
    "# --- Define all symbols and matrices as in your notebook ---\n",
    "# (Assume: Phi, ChiL, ChiR, etc. are already defined)\n",
    "\n",
    "# --- SARAH-style contractions as Python functions ---\n",
    "def sarah_trace_PhiDaggerPhi(Phi):\n",
    "    # trace(Dagger(Phi) * Phi)\n",
    "    res = 0\n",
    "    for rig1 in range(2):\n",
    "        for rig2 in range(2):\n",
    "            for lef1 in range(2):\n",
    "                for lef2 in range(2):\n",
    "                    res += KroneckerDelta(lef1, lef2) * KroneckerDelta(rig1, rig2) * conjugate(Phi[lef1, rig1]) * Phi[lef2, rig2]\n",
    "    return res\n",
    "\n",
    "def sarah_trace_PhiDaggerPhi_squared(Phi):\n",
    "    # trace(Dagger(Phi) * Phi) ** 2\n",
    "    res = 0\n",
    "    for rig1 in range(2):\n",
    "        for rig2 in range(2):\n",
    "            for lef1 in range(2):\n",
    "                for lef2 in range(2):\n",
    "                    for rig3 in range(2):\n",
    "                        for rig4 in range(2):\n",
    "                            for lef3 in range(2):\n",
    "                                for lef4 in range(2):\n",
    "                                    res += (KroneckerDelta(lef1, lef2) * KroneckerDelta(rig1, rig2) *\n",
    "                                            conjugate(Phi[lef1, rig1]) * Phi[lef2, rig2] *\n",
    "                                            KroneckerDelta(lef3, lef4) * KroneckerDelta(rig3, rig4) *\n",
    "                                            conjugate(Phi[lef3, rig3]) * Phi[lef4, rig4])\n",
    "    return res\n",
    "\n",
    "def sarah_trace_PhiDaggerPhi_PhiDaggerPhi(Phi):\n",
    "    # \\delta_{l_{1}l_{2}}\\delta_{r_{2}r_{3}}\\delta_{l_{3}l_{4}}\\delta_{r_{1}r_{4}}\n",
    "    # \\Phi_{l_{1}r_{1}}^{*}\\Phi_{l_{2}r_{2}}\\Phi_{l_{3}r_{3}}^{*}\\Phi_{l_{4}r_{4}}\n",
    "    res = 0\n",
    "    for rig1 in range(2):\n",
    "        for rig2 in range(2):\n",
    "            for lef1 in range(2):\n",
    "                for lef2 in range(2):\n",
    "                    for rig3 in range(2):\n",
    "                        for rig4 in range(2):\n",
    "                            for lef3 in range(2):\n",
    "                                for lef4 in range(2):\n",
    "                                    res += (KroneckerDelta(lef1, lef2) * KroneckerDelta(rig2, rig3) *\n",
    "                                            KroneckerDelta(lef3, lef4) * KroneckerDelta(rig1, rig4) *\n",
    "                                            conjugate(Phi[lef1, rig1]) * Phi[lef2, rig2] *\n",
    "                                            conjugate(Phi[lef3, rig3]) * Phi[lef4, rig4])\n",
    "    return res\n",
    "\n",
    "def sarah_trace_PhiDaggerPhitilde(Phi):\n",
    "    # \\epsilon_{l_{1}l_{2}}\\epsilon_{r_{1}r_{2}}\\Phi_{l_{1}r_{1}}^{*}\\Phi_{l_{2}r_{2}}^{*}\n",
    "    res = 0\n",
    "    for rig1 in range(2):\n",
    "        for rig2 in range(2):\n",
    "            for lef1 in range(2):\n",
    "                for lef2 in range(2):\n",
    "                    res += (LeviCivita(lef1, lef2) * LeviCivita(rig1, rig2) *\n",
    "                            conjugate(Phi[lef1, rig1]) * conjugate(Phi[lef2, rig2]))\n",
    "    return res\n",
    "        \n",
    "def sarah_trace_PhitildeDaggerPhi(Phi):\n",
    "    # \\epsilon_{r_{1}r_{2}}\\epsilon_{l_{1}l_{2}}\\Phi_{l_{1}r_{1}}\\Phi_{l_{2}r_{2}}\n",
    "    res = 0\n",
    "    for rig1 in range(2):\n",
    "        for rig2 in range(2):\n",
    "            for lef1 in range(2):\n",
    "                for lef2 in range(2):\n",
    "                    res += (LeviCivita(rig1, rig2) * LeviCivita(lef1, lef2) *\n",
    "                            Phi[lef1, rig1] * Phi[lef2, rig2])\n",
    "    return res\n",
    "\n",
    "def sarah_trace_PhiDaggerPhi_PhitildeDaggerPhitilde(Phi):\n",
    "    # \\epsilon_{r_{2}r_{3}}\\epsilon_{r_{1}r_{4}}\\delta_{l_{1}l_{2}}\\delta_{l_{3}l_{4}}\n",
    "    # \\Phi_{l_{1}r_{1}}^{*}\\Phi_{l_{2}r_{2}}\\Phi_{l_{3}r_{3}}\\Phi_{l_{4}r_{4}}^{*}\n",
    "    res = 0\n",
    "    for rig1 in range(2):\n",
    "        for rig2 in range(2):\n",
    "            for lef1 in range(2):\n",
    "                for lef2 in range(2):\n",
    "                    for rig3 in range(2):\n",
    "                        for rig4 in range(2):\n",
    "                            for lef3 in range(2):\n",
    "                                for lef4 in range(2):\n",
    "                                    res += (LeviCivita(rig2, rig3) * LeviCivita(rig1, rig4) *\n",
    "                                            KroneckerDelta(lef1, lef2) * KroneckerDelta(lef3, lef4) *\n",
    "                                            conjugate(Phi[lef1, rig1]) * Phi[lef2, rig2] *\n",
    "                                            Phi[lef3, rig3] * conjugate(Phi[lef4, rig4]))\n",
    "    return res\n",
    "\n",
    "def sarah_trace_PhiDaggerPhitilde_PhiDaggerPhitilde(Phi):\n",
    "    # \\epsilon_{l_{1}l_{2}}\\epsilon_{r_{2}r_{3}}\\epsilon_{l_{3}l_{4}}\\epsilon_{r_{4}r_{1}}\n",
    "    # \\Phi_{l_{1}r_{1}}^{*}\\Phi_{l_{2}r_{2}}^{*}\\Phi_{l_{3}r_{3}}^{*}\\Phi_{l_{4}r_{4}}^{*}\n",
    "    res = 0\n",
    "    for rig1 in range(2):\n",
    "        for rig2 in range(2):\n",
    "            for lef1 in range(2):\n",
    "                for lef2 in range(2):\n",
    "                    for rig3 in range(2):\n",
    "                        for rig4 in range(2):\n",
    "                            for lef3 in range(2):\n",
    "                                for lef4 in range(2):\n",
    "                                    res += (LeviCivita(lef1, lef2) * LeviCivita(rig2, rig3) *\n",
    "                                            LeviCivita(lef3, lef4) * LeviCivita(rig4, rig1) *\n",
    "                                            conjugate(Phi[lef1, rig1]) * conjugate(Phi[lef2, rig2]) *\n",
    "                                            conjugate(Phi[lef3, rig3]) * conjugate(Phi[lef4, rig4]))\n",
    "    return res\n",
    "\n",
    "def sarah_trace_PhitildeDaggerPhi_PhitildeDaggerPhi(Phi):\n",
    "    # \\epsilon_{r_{4}r_{1}}\\epsilon_{l_{1}l_{2}}\\epsilon_{r_{2}r_{3}}\\epsilon_{l_{3}l_{4}}\n",
    "    # \\Phi_{l_{1}r_{1}}\\Phi_{l_{2}r_{2}}\\Phi_{l_{3}r_{3}}\\Phi_{l_{4}r_{4}}\n",
    "    res = 0\n",
    "    for rig1 in range(2):\n",
    "        for rig2 in range(2):\n",
    "            for lef1 in range(2):\n",
    "                for lef2 in range(2):\n",
    "                    for rig3 in range(2):\n",
    "                        for rig4 in range(2):\n",
    "                            for lef3 in range(2):\n",
    "                                for lef4 in range(2):\n",
    "                                    res += (LeviCivita(rig4, rig1) * LeviCivita(lef1, lef2) *\n",
    "                                            LeviCivita(rig2, rig3) * LeviCivita(lef3, lef4) *\n",
    "                                            Phi[lef1, rig1] * Phi[lef2, rig2] *\n",
    "                                            Phi[lef3, rig3] * Phi[lef4, rig4])\n",
    "    return res\n",
    "\n",
    "def sarah_ChiLDaggerChiL(ChiL):\n",
    "    return (Dagger(ChiL) * ChiL)[0]\n",
    "\n",
    "def sarah_ChiRDaggerChiR(ChiR):\n",
    "    return (Dagger(ChiR) * ChiR)[0]\n",
    "\n",
    "def sarah_chiLDaggerPhiPhiDaggerchiL(ChiL, Phi):\n",
    "    # \\delta_{l_{1}l_{2}}\\delta_{r_{2}r_{3}}\\delta_{l_{3}l_{4}}\n",
    "    # \\chi_{L,l_{1}}^{*}\\Phi_{l_{2}r_{2}}\\Phi_{l_{3}r_{3}}^{*}\\chi_{L,l_{4}}\n",
    "    res = 0\n",
    "    for rig2 in range(2):\n",
    "        for lef1 in range(2):\n",
    "            for lef2 in range(2):\n",
    "                for rig3 in range(2):\n",
    "                    for lef3 in range(2):\n",
    "                        for lef4 in range(2):    \n",
    "                            res += (KroneckerDelta(lef1, lef2) * KroneckerDelta(rig2, rig3) *\n",
    "                                    KroneckerDelta(lef3, lef4) *\n",
    "                                    conjugate(ChiL[lef1]) * Phi[lef2, rig2] *\n",
    "                                    conjugate(Phi[lef3, rig3]) * ChiL[lef4])\n",
    "    return res\n",
    "\n",
    "def sarah_chiRDaggerPhiDaggerPhichiR(ChiR, Phi):\n",
    "    # \\delta_{r_{1}r_{2}}\\delta_{l_{2}l_{3}}\\delta_{r_{3}r_{4}}\n",
    "    # \\chi_{R,r_{1}}^{*}\\Phi_{l_{2}r_{2}}^{*}\\Phi_{l_{3}r_{3}}\\chi_{R,r_{4}}\n",
    "    res = 0\n",
    "    for rig1 in range(2):\n",
    "        for lef2 in range(2):\n",
    "            for lef3 in range(2):\n",
    "                for rig2 in range(2):\n",
    "                    for rig3 in range(2):\n",
    "                        for rig4 in range(2):\n",
    "                            res += (KroneckerDelta(rig1, rig2) * KroneckerDelta(lef2, lef3) *\n",
    "                                    KroneckerDelta(rig3, rig4) *\n",
    "                                    conjugate(ChiR[rig1]) * conjugate(Phi[lef2, rig2]) *\n",
    "                                    Phi[lef3, rig3] * ChiR[rig4])\n",
    "    return res\n",
    "\n",
    "def sarah_chiLDaggerPhitildePhitildeDaggerchiL(ChiL, Phi):\n",
    "    # \\epsilon_{l_{2}l_{1}}\\epsilon_{l_{3}l_{4}}\\delta_{r_{2}r_{3}}\n",
    "    # \\chi_{L,l_{1}}^{*}\\Phi_{l_{2}r_{2}}^{*}\\Phi_{l_{3}r_{3}}\\chi_{L,l_{4}}\n",
    "    res = 0\n",
    "    for rig2 in range(2):\n",
    "        for lef1 in range(2):\n",
    "            for lef2 in range(2):\n",
    "                for rig3 in range(2):\n",
    "                    for lef3 in range(2):\n",
    "                        for lef4 in range(2):    \n",
    "                            res += (LeviCivita(lef2, lef1) * LeviCivita(lef3, lef4) *\n",
    "                                    KroneckerDelta(rig2, rig3) *\n",
    "                                    conjugate(ChiL[lef1]) * conjugate(Phi[lef2, rig2]) *\n",
    "                                    Phi[lef3, rig3] * ChiL[lef4])\n",
    "    return res\n",
    "\n",
    "def sarah_chiRDaggerPhitildeDaggerPhitildechiR(ChiR, Phi):\n",
    "    # \\epsilon_{r_{1}r_{2}}\\epsilon_{r_{4}r_{3}}\\delta_{l_{2}l_{3}}\n",
    "    # \\chi_{R,r_{1}}\\Phi_{l_{2}r_{2}}\\Phi_{l_{3}r_{3}}^{*}\\chi_{R,r_{4}}\n",
    "    res = 0\n",
    "    for rig1 in range(2):\n",
    "        for lef2 in range(2):\n",
    "            for lef3 in range(2):\n",
    "                for rig2 in range(2):\n",
    "                    for rig3 in range(2):\n",
    "                        for rig4 in range(2):\n",
    "                            res += (LeviCivita(rig1, rig2) * LeviCivita(rig4, rig3) *\n",
    "                                    KroneckerDelta(lef2, lef3) *\n",
    "                                    conjugate(ChiR[rig1]) * Phi[lef2, rig2] *\n",
    "                                    conjugate(Phi[lef3, rig3]) * ChiR[rig4])\n",
    "    return res\n",
    "\n",
    "# --- Build SARAH-style terms ---\n",
    "PhiDaggerPhi = sarah_trace_PhiDaggerPhi(Phi)\n",
    "PhiDaggerPhi_sq = sarah_trace_PhiDaggerPhi_squared(Phi)\n",
    "PhiDaggerPhiPhiDaggerPhi = sarah_trace_PhiDaggerPhi_PhiDaggerPhi(Phi)\n",
    "PhiDaggerPhitilde = sarah_trace_PhiDaggerPhitilde(Phi)\n",
    "PhitildeDaggerPhi = sarah_trace_PhitildeDaggerPhi(Phi)\n",
    "PhiDaggerPhiPhitildeDaggerPhitilde = sarah_trace_PhiDaggerPhi_PhitildeDaggerPhitilde(Phi)\n",
    "PhiDaggerPhitildePhiDaggerPhitilde = sarah_trace_PhiDaggerPhitilde_PhiDaggerPhitilde(Phi)\n",
    "PhitildeDaggerPhiPhitildeDaggerPhi = sarah_trace_PhitildeDaggerPhi_PhitildeDaggerPhi(Phi)\n",
    "ChiLDaggerChiL = sarah_ChiLDaggerChiL(ChiL)\n",
    "ChiRDaggerChiR = sarah_ChiRDaggerChiR(ChiR)\n",
    "chiLDaggerPhiPhiDaggerchiL = sarah_chiLDaggerPhiPhiDaggerchiL(ChiL, Phi)\n",
    "chiRDaggerPhiDaggerPhichiR = sarah_chiRDaggerPhiDaggerPhichiR(ChiR, Phi)\n",
    "chiLDaggerPhitildePhitildeDaggerchiL = sarah_chiLDaggerPhitildePhitildeDaggerchiL(ChiL, Phi)\n",
    "chiRDaggerPhitildeDaggerPhitildechiR = sarah_chiRDaggerPhitildeDaggerPhitildechiR(ChiR, Phi)\n",
    "\n",
    "# --- Explicit terms from your notebook ---\n",
    "# (Assume: you have already defined these as in your notebook)\n",
    "\n",
    "# --- Comparison function ---\n",
    "def compare_terms(term1, term2, name):\n",
    "    eq = simplify(expand(term1 - term2))\n",
    "    print(f\"Comparison for {name}:\")\n",
    "    if eq == 0:\n",
    "        print(\"  ✔️ Equivalent\")\n",
    "    else:\n",
    "        print(\"  ❌ Not equivalent\")\n",
    "        print(\"  Difference:\", eq)\n",
    "    print()\n",
    "\n",
    "# --- Compare each term ---\n",
    "compare_terms(PhiDaggerPhi, trace(Dagger(Phi)*Phi), \"Tr(Phi† Phi)\")\n",
    "compare_terms(PhiDaggerPhi_sq, trace(Dagger(Phi)*Phi)**2, \"Tr(Phi† Phi)^2\")\n",
    "compare_terms(PhiDaggerPhiPhiDaggerPhi, trace(PhiDagger*Phi*PhiDagger*Phi), \"Tr(Phi† Phi Phi† Phi)\")\n",
    "compare_terms(PhiDaggerPhitilde, trace(PhiDagger * Phitilde), \"Tr(Phi† Phitilde)\")\n",
    "compare_terms(PhitildeDaggerPhi, trace(Dagger(Phitilde) * Phi), \"Tr(Phitilde† Phi)\")\n",
    "compare_terms(PhiDaggerPhiPhitildeDaggerPhitilde, trace(PhiDagger*Phi * PhitildeDagger*Phitilde), \"Tr(Phi† Phi Phitilde† Phitilde)\")\n",
    "compare_terms(PhiDaggerPhitildePhiDaggerPhitilde, trace(PhiDagger*Phitilde * PhiDagger*Phitilde), \"Tr(Phi† Phitilde Phi† Phitilde)\")\n",
    "compare_terms(PhitildeDaggerPhiPhitildeDaggerPhi, trace(Dagger(Phitilde)*Phi * Dagger(Phitilde)*Phi), \"Tr(Phitilde† Phi Phitilde† Phi)\")\n",
    "compare_terms(ChiLDaggerChiL, (Dagger(ChiL) * ChiL)[0], \"ChiL† ChiL\")\n",
    "compare_terms(ChiRDaggerChiR, (Dagger(ChiR) * ChiR)[0], \"ChiR† ChiR\")\n",
    "compare_terms(chiLDaggerPhiPhiDaggerchiL, (Dagger(ChiL) * Phi * Dagger(Phi) * ChiL)[0], \"ChiL† Phi Phi† ChiL\")\n",
    "compare_terms(chiRDaggerPhiDaggerPhichiR, (Dagger(ChiR) * Dagger(Phi) * Phi * ChiR)[0], \"ChiR† Phi† Phi ChiR\")\n",
    "compare_terms(chiLDaggerPhitildePhitildeDaggerchiL, (Dagger(ChiL) * Phitilde * Dagger(Phitilde) * ChiL)[0], \"ChiL† Phitilde Phitilde† ChiL\")\n",
    "compare_terms(chiRDaggerPhitildeDaggerPhitildechiR, (Dagger(ChiR) * Dagger(Phitilde) * Phitilde * ChiR)[0], \"ChiR† Phitilde† Phitilde ChiR\")\n",
    "\n",
    "\n",
    "# --- You can add more terms as needed following the above pattern ---"
   ]
  },
  {
   "cell_type": "code",
   "execution_count": 54,
   "metadata": {},
   "outputs": [
    {
     "data": {
      "image/png": "[encoded data removed]",
      "text/latex": [
       "$\\displaystyle 0$"
      ],
      "text/plain": [
       "0"
      ]
     },
     "execution_count": 54,
     "metadata": {},
     "output_type": "execute_result"
    }
   ],
   "source": [
    "((Dagger(ChiR) * Dagger(Phitilde) * Phitilde * ChiR)[0]- sarah_chiRDaggerPhitildeDaggerPhitildechiR(ChiR, Phi)).expand()"
   ]
  },
  {
   "cell_type": "code",
   "execution_count": 55,
   "metadata": {},
   "outputs": [
    {
     "data": {
      "image/png": "[encoded data removed]",
      "text/latex": [
       "$\\displaystyle \\chi^{0}_{R} \\phi^{0}_{1} \\overline{\\chi^{0}_{R}} \\overline{\\phi^{0}_{1}} - \\chi^{0}_{R} \\phi^{0}_{2} {{\\phi_2^+}} \\overline{{{\\chi_R^+}}} - \\chi^{0}_{R} {{\\phi_1^+}} \\overline{\\phi^{0}_{1}} \\overline{{{\\chi_R^+}}} + \\chi^{0}_{R} {{\\phi_2^+}} \\overline{\\chi^{0}_{R}} \\overline{{{\\phi_2^+}}} - \\phi^{0}_{1} {{\\chi_R^+}} \\overline{\\chi^{0}_{R}} \\overline{{{\\phi_1^+}}} + \\phi^{0}_{2} {{\\chi_R^+}} \\overline{\\phi^{0}_{2}} \\overline{{{\\chi_R^+}}} + {{\\chi_R^+}} {{\\phi_1^+}} \\overline{{{\\chi_R^+}}} \\overline{{{\\phi_1^+}}} - {{\\chi_R^+}} \\overline{\\chi^{0}_{R}} \\overline{\\phi^{0}_{2}} \\overline{{{\\phi_2^+}}}$"
      ],
      "text/plain": [
       "                 _________ ______                                  ___________ ↪\n",
       "\\chi_R__0⋅\\phi⁰₁⋅\\chi_R__0⋅\\phi⁰₁ - \\chi_R__0⋅\\phi⁰₂⋅{{\\phi_2__+}}⋅{{\\chi_R__+ ↪\n",
       "\n",
       "↪ __                           ______ _____________                            ↪\n",
       "↪ }} - \\chi_R__0⋅{{\\phi_1__+}}⋅\\phi⁰₁⋅{{\\chi_R__+}} + \\chi_R__0⋅{{\\phi_2__+}}⋅ ↪\n",
       "\n",
       "↪ _________ _____________                        _________ _____________       ↪\n",
       "↪ \\chi_R__0⋅{{\\phi_2__+}} - \\phi⁰₁⋅{{\\chi_R__+}}⋅\\chi_R__0⋅{{\\phi_1__+}} + \\ph ↪\n",
       "\n",
       "↪                   ______ _____________                               _______ ↪\n",
       "↪ i⁰₂⋅{{\\chi_R__+}}⋅\\phi⁰₂⋅{{\\chi_R__+}} + {{\\chi_R__+}}⋅{{\\phi_1__+}}⋅{{\\chi_ ↪\n",
       "\n",
       "↪ ______ _____________                 _________ ______ _____________\n",
       "↪ R__+}}⋅{{\\phi_1__+}} - {{\\chi_R__+}}⋅\\chi_R__0⋅\\phi⁰₂⋅{{\\phi_2__+}}"
      ]
     },
     "execution_count": 55,
     "metadata": {},
     "output_type": "execute_result"
    }
   ],
   "source": [
    "sarah_chiRDaggerPhitildeDaggerPhitildechiR(ChiR, Phi)"
   ]
  },
  {
   "cell_type": "code",
   "execution_count": 56,
   "metadata": {},
   "outputs": [
    {
     "data": {
      "image/png": "[encoded data removed]",
      "text/latex": [
       "$\\displaystyle \\chi^{0}_{R} \\phi^{0}_{1} \\overline{\\chi^{0}_{R}} \\overline{\\phi^{0}_{1}} - \\chi^{0}_{R} \\phi^{0}_{2} {{\\phi_2^+}} \\overline{{{\\chi_R^+}}} - \\chi^{0}_{R} {{\\phi_1^+}} \\overline{\\phi^{0}_{1}} \\overline{{{\\chi_R^+}}} + \\chi^{0}_{R} {{\\phi_2^+}} \\overline{\\chi^{0}_{R}} \\overline{{{\\phi_2^+}}} - \\phi^{0}_{1} {{\\chi_R^+}} \\overline{\\chi^{0}_{R}} \\overline{{{\\phi_1^+}}} + \\phi^{0}_{2} {{\\chi_R^+}} \\overline{\\phi^{0}_{2}} \\overline{{{\\chi_R^+}}} + {{\\chi_R^+}} {{\\phi_1^+}} \\overline{{{\\chi_R^+}}} \\overline{{{\\phi_1^+}}} - {{\\chi_R^+}} \\overline{\\chi^{0}_{R}} \\overline{\\phi^{0}_{2}} \\overline{{{\\phi_2^+}}}$"
      ],
      "text/plain": [
       "                 _________ ______                                  ___________ ↪\n",
       "\\chi_R__0⋅\\phi⁰₁⋅\\chi_R__0⋅\\phi⁰₁ - \\chi_R__0⋅\\phi⁰₂⋅{{\\phi_2__+}}⋅{{\\chi_R__+ ↪\n",
       "\n",
       "↪ __                           ______ _____________                            ↪\n",
       "↪ }} - \\chi_R__0⋅{{\\phi_1__+}}⋅\\phi⁰₁⋅{{\\chi_R__+}} + \\chi_R__0⋅{{\\phi_2__+}}⋅ ↪\n",
       "\n",
       "↪ _________ _____________                        _________ _____________       ↪\n",
       "↪ \\chi_R__0⋅{{\\phi_2__+}} - \\phi⁰₁⋅{{\\chi_R__+}}⋅\\chi_R__0⋅{{\\phi_1__+}} + \\ph ↪\n",
       "\n",
       "↪                   ______ _____________                               _______ ↪\n",
       "↪ i⁰₂⋅{{\\chi_R__+}}⋅\\phi⁰₂⋅{{\\chi_R__+}} + {{\\chi_R__+}}⋅{{\\phi_1__+}}⋅{{\\chi_ ↪\n",
       "\n",
       "↪ ______ _____________                 _________ ______ _____________\n",
       "↪ R__+}}⋅{{\\phi_1__+}} - {{\\chi_R__+}}⋅\\chi_R__0⋅\\phi⁰₂⋅{{\\phi_2__+}}"
      ]
     },
     "execution_count": 56,
     "metadata": {},
     "output_type": "execute_result"
    }
   ],
   "source": [
    "(Dagger(ChiR) * Dagger(Phitilde) * Phitilde * ChiR)[0].expand()"
   ]
  },
  {
   "cell_type": "code",
   "execution_count": null,
   "metadata": {},
   "outputs": [],
   "source": []
  }
 ],
 "metadata": {
  "kernelspec": {
   "display_name": "py311",
   "language": "python",
   "name": "python3"
  },
  "language_info": {
   "codemirror_mode": {
    "name": "ipython",
    "version": 3
   },
   "file_extension": ".py",
   "mimetype": "text/x-python",
   "name": "python",
   "nbconvert_exporter": "python",
   "pygments_lexer": "ipython3",
   "version": "3.11.11"
  }
 },
 "nbformat": 4,
 "nbformat_minor": 2
}
