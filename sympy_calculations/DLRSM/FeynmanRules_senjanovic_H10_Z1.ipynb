{
 "cells": [
  {
   "cell_type": "markdown",
   "metadata": {},
   "source": [
    "# Minimal Left Right Symmetric models with Higgs doublets"
   ]
  },
  {
   "cell_type": "markdown",
   "metadata": {},
   "source": [
    "In this notebook we start to extract the feynman rules of the defined lagrangians"
   ]
  },
  {
   "cell_type": "code",
   "execution_count": 69,
   "metadata": {},
   "outputs": [],
   "source": [
    "from sympy import init_printing, sin, cos, tan, factor, Mul, simplify\n",
    "init_printing()"
   ]
  },
  {
   "cell_type": "code",
   "execution_count": 70,
   "metadata": {},
   "outputs": [],
   "source": [
    "from FeynmanRules_senjanovic_SW import interactions_gauge_scalars\n",
    "from FeynmanRules_senjanovic_SW import interactions_gauge_scalars_approx\n",
    "from FeynmanRules_senjanovic_SW import scalar_fields, gauge_fields"
   ]
  },
  {
   "cell_type": "code",
   "execution_count": 71,
   "metadata": {},
   "outputs": [],
   "source": [
    "#for interaction in interactions_gauge_scalars[2]:\n",
    "#    print(interaction)\n"
   ]
  },
  {
   "cell_type": "code",
   "execution_count": 72,
   "metadata": {},
   "outputs": [
    {
     "data": {
      "text/plain": [
       "dict_keys([4, 3, 2, 1, 0])"
      ]
     },
     "execution_count": 72,
     "metadata": {},
     "output_type": "execute_result"
    }
   ],
   "source": [
    "interactions_gauge_scalars_approx.keys()"
   ]
  },
  {
   "cell_type": "code",
   "execution_count": 73,
   "metadata": {},
   "outputs": [
    {
     "data": {
      "image/png": "[encoded data removed]",
      "text/latex": [
       "$\\displaystyle \\left\\{A, W^{+}_{1}, W^{-}_{1}, W^{+}_{2}, W^{-}_{2}, Z_{1}, Z_{2}, {{A_1^0}}, {{A_2^0}}, {{G_L^+}}, {{G_L^-}}, {{G_R^+}}, {{G_R^-}}, {{G_{Z_1}}}, {{G_{Z_2}}}, {{H_1^0}}, {{H_2^0}}, {{H_3^0}}, {{H_4^0}}, {{H_L^+}}, {{H_L^-}}, {{H_R^+}}, {{H_R^-}}\\right\\}$"
      ],
      "text/plain": [
       "{A, W⁺₁, W⁻₁, W⁺₂, W⁻₂, Z₁, Z₂, {{A_1__0}}, {{A_2__0}}, {{G_L__+}}, {{G_L__-}} ↪\n",
       "\n",
       "↪ , {{G_R__+}}, {{G_R__-}}, {{G_{Z_1}}}, {{G_{Z_2}}}, {{H_1__0}}, {{H_2__0}},  ↪\n",
       "\n",
       "↪ {{H_3__0}}, {{H_4__0}}, {{H_L__+}}, {{H_L__-}}, {{H_R__+}}, {{H_R__-}}}"
      ]
     },
     "execution_count": 73,
     "metadata": {},
     "output_type": "execute_result"
    }
   ],
   "source": [
    "set(scalar_fields + gauge_fields)"
   ]
  },
  {
   "cell_type": "code",
   "execution_count": 74,
   "metadata": {},
   "outputs": [
    {
     "name": "stdout",
     "output_type": "stream",
     "text": [
      "Interaction\n",
      "(A, A, {{H_2^0}})\n",
      "Coefficient\n",
      "R_{11}**2*\\alpha_1*\\rho_1*g**2*k_1**2*v_R/(\\alpha_1**2*k_1**2 + 2*\\alpha_1*\\alpha_3*k_1**2 + \\alpha_3**2*k_1**2 + 4*\\rho_1**2*v_R**2) + R_{11}**2*\\alpha_3*\\rho_1*g**2*k_1**2*v_R/(\\alpha_1**2*k_1**2 + 2*\\alpha_1*\\alpha_3*k_1**2 + \\alpha_3**2*k_1**2 + 4*\\rho_1**2*v_R**2) - 2*R_{11}*R_{21}*\\alpha_1*\\rho_1*g**2*k_1**2*v_R/(\\alpha_1**2*k_1**2 + 2*\\alpha_1*\\alpha_3*k_1**2 + \\alpha_3**2*k_1**2 + 4*\\rho_1**2*v_R**2) - 2*R_{11}*R_{21}*\\alpha_3*\\rho_1*g**2*k_1**2*v_R/(\\alpha_1**2*k_1**2 + 2*\\alpha_1*\\alpha_3*k_1**2 + \\alpha_3**2*k_1**2 + 4*\\rho_1**2*v_R**2) + R_{21}**2*\\alpha_1*\\rho_1*g**2*k_1**2*v_R/(\\alpha_1**2*k_1**2 + 2*\\alpha_1*\\alpha_3*k_1**2 + \\alpha_3**2*k_1**2 + 4*\\rho_1**2*v_R**2) + R_{21}**2*\\alpha_3*\\rho_1*g**2*k_1**2*v_R/(\\alpha_1**2*k_1**2 + 2*\\alpha_1*\\alpha_3*k_1**2 + \\alpha_3**2*k_1**2 + 4*\\rho_1**2*v_R**2) + 2*R_{21}**2*\\rho_1**2*g**2*v_R**3/(\\alpha_1**2*k_1**2 + 2*\\alpha_1*\\alpha_3*k_1**2 + \\alpha_3**2*k_1**2 + 4*\\rho_1**2*v_R**2) - 4*R_{21}*R_{31}*\\rho_1**2*g*g_{B-L}*v_R**3/(\\alpha_1**2*k_1**2 + 2*\\alpha_1*\\alpha_3*k_1**2 + \\alpha_3**2*k_1**2 + 4*\\rho_1**2*v_R**2) + 2*R_{31}**2*\\rho_1**2*g_{B-L}**2*v_R**3/(\\alpha_1**2*k_1**2 + 2*\\alpha_1*\\alpha_3*k_1**2 + \\alpha_3**2*k_1**2 + 4*\\rho_1**2*v_R**2)\n",
      "Approximation: \n",
      "g**2*v_R*sin(\\theta_W)**2/2 - g*g_{B-L}*v_R*sin(\\theta_W)*sqrt(cos(2*\\theta_W)) + g_{B-L}**2*v_R*cos(2*\\theta_W)/2\n",
      "Interaction\n",
      "(A, A, {{H_1^0}})\n",
      "Coefficient\n",
      "2*R_{11}**2*\\rho_1**2*g**2*k_1*v_R**2/(\\alpha_1**2*k_1**2 + 2*\\alpha_1*\\alpha_3*k_1**2 + \\alpha_3**2*k_1**2 + 4*\\rho_1**2*v_R**2) - 4*R_{11}*R_{21}*\\rho_1**2*g**2*k_1*v_R**2/(\\alpha_1**2*k_1**2 + 2*\\alpha_1*\\alpha_3*k_1**2 + \\alpha_3**2*k_1**2 + 4*\\rho_1**2*v_R**2) - R_{21}**2*\\alpha_1*\\rho_1*g**2*k_1*v_R**2/(\\alpha_1**2*k_1**2 + 2*\\alpha_1*\\alpha_3*k_1**2 + \\alpha_3**2*k_1**2 + 4*\\rho_1**2*v_R**2) - R_{21}**2*\\alpha_3*\\rho_1*g**2*k_1*v_R**2/(\\alpha_1**2*k_1**2 + 2*\\alpha_1*\\alpha_3*k_1**2 + \\alpha_3**2*k_1**2 + 4*\\rho_1**2*v_R**2) + 2*R_{21}**2*\\rho_1**2*g**2*k_1*v_R**2/(\\alpha_1**2*k_1**2 + 2*\\alpha_1*\\alpha_3*k_1**2 + \\alpha_3**2*k_1**2 + 4*\\rho_1**2*v_R**2) + 2*R_{21}*R_{31}*\\alpha_1*\\rho_1*g*g_{B-L}*k_1*v_R**2/(\\alpha_1**2*k_1**2 + 2*\\alpha_1*\\alpha_3*k_1**2 + \\alpha_3**2*k_1**2 + 4*\\rho_1**2*v_R**2) + 2*R_{21}*R_{31}*\\alpha_3*\\rho_1*g*g_{B-L}*k_1*v_R**2/(\\alpha_1**2*k_1**2 + 2*\\alpha_1*\\alpha_3*k_1**2 + \\alpha_3**2*k_1**2 + 4*\\rho_1**2*v_R**2) - R_{31}**2*\\alpha_1*\\rho_1*g_{B-L}**2*k_1*v_R**2/(\\alpha_1**2*k_1**2 + 2*\\alpha_1*\\alpha_3*k_1**2 + \\alpha_3**2*k_1**2 + 4*\\rho_1**2*v_R**2) - R_{31}**2*\\alpha_3*\\rho_1*g_{B-L}**2*k_1*v_R**2/(\\alpha_1**2*k_1**2 + 2*\\alpha_1*\\alpha_3*k_1**2 + \\alpha_3**2*k_1**2 + 4*\\rho_1**2*v_R**2)\n",
      "Approximation: \n",
      "-\\alpha_1*g**2*k_1*sin(\\theta_W)**2/(4*\\rho_1) + \\alpha_1*g*g_{B-L}*k_1*sin(\\theta_W)*sqrt(cos(2*\\theta_W))/(2*\\rho_1) - \\alpha_1*g_{B-L}**2*k_1*cos(2*\\theta_W)/(4*\\rho_1) - \\alpha_3*g**2*k_1*sin(\\theta_W)**2/(4*\\rho_1) + \\alpha_3*g*g_{B-L}*k_1*sin(\\theta_W)*sqrt(cos(2*\\theta_W))/(2*\\rho_1) - \\alpha_3*g_{B-L}**2*k_1*cos(2*\\theta_W)/(4*\\rho_1)\n",
      "Interaction\n",
      "(A, A, {{G_{Z_1}}})\n",
      "Coefficient\n",
      "I*R_{11}**2*g**2*k_1/2 - I*R_{11}*R_{21}*g**2*k_1 + I*R_{21}**2*g**2*k_1/2\n",
      "Approximation: \n",
      "In the parroximation this interaction is not present\n",
      "Interaction\n",
      "(A, A, {{A_1^0}})\n",
      "Coefficient\n",
      "I*R_{11}**2*g**2*k_2/2 - I*R_{11}*R_{21}*g**2*k_2 + I*R_{21}**2*g**2*k_2/2\n",
      "Approximation: \n",
      "In the parroximation this interaction is not present\n",
      "Interaction\n",
      "(A, A, {{H_3^0}})\n",
      "Coefficient\n",
      "R_{11}**2*g**2*k_2/2 - R_{11}*R_{21}*g**2*k_2 + R_{21}**2*g**2*k_2/2\n",
      "Approximation: \n",
      "In the parroximation this interaction is not present\n",
      "Interaction\n",
      "(A, A, {{A_2^0}})\n",
      "Coefficient\n",
      "I*R_{11}**2*g**2*v_L/2 - I*R_{11}*R_{31}*g*g_{B-L}*v_L + I*R_{31}**2*g_{B-L}**2*v_L/2\n",
      "Approximation: \n",
      "In the parroximation this interaction is not present\n",
      "Interaction\n",
      "(A, A, {{H_4^0}})\n",
      "Coefficient\n",
      "R_{11}**2*g**2*v_L/2 - R_{11}*R_{31}*g*g_{B-L}*v_L + R_{31}**2*g_{B-L}**2*v_L/2\n",
      "Approximation: \n",
      "In the parroximation this interaction is not present\n",
      "Interaction\n",
      "(A, A, {{G_{Z_2}}})\n",
      "Coefficient\n",
      "I*R_{21}**2*g**2*v_R/2 - I*R_{21}*R_{31}*g*g_{B-L}*v_R + I*R_{31}**2*g_{B-L}**2*v_R/2\n",
      "Approximation: \n",
      "I*g**2*v_R*sin(\\theta_W)**2/2 - I*g*g_{B-L}*v_R*sin(\\theta_W)*sqrt(cos(2*\\theta_W)) + I*g_{B-L}**2*v_R*cos(2*\\theta_W)/2\n",
      "Interaction\n",
      "(A, Z1, {{H_2^0}})\n",
      "Coefficient\n",
      "2*R_{11}*R_{12}*\\alpha_1*\\rho_1*g**2*k_1**2*v_R/(\\alpha_1**2*k_1**2 + 2*\\alpha_1*\\alpha_3*k_1**2 + \\alpha_3**2*k_1**2 + 4*\\rho_1**2*v_R**2) + 2*R_{11}*R_{12}*\\alpha_3*\\rho_1*g**2*k_1**2*v_R/(\\alpha_1**2*k_1**2 + 2*\\alpha_1*\\alpha_3*k_1**2 + \\alpha_3**2*k_1**2 + 4*\\rho_1**2*v_R**2) - 2*R_{11}*R_{22}*\\alpha_1*\\rho_1*g**2*k_1**2*v_R/(\\alpha_1**2*k_1**2 + 2*\\alpha_1*\\alpha_3*k_1**2 + \\alpha_3**2*k_1**2 + 4*\\rho_1**2*v_R**2) - 2*R_{11}*R_{22}*\\alpha_3*\\rho_1*g**2*k_1**2*v_R/(\\alpha_1**2*k_1**2 + 2*\\alpha_1*\\alpha_3*k_1**2 + \\alpha_3**2*k_1**2 + 4*\\rho_1**2*v_R**2) - 2*R_{12}*R_{21}*\\alpha_1*\\rho_1*g**2*k_1**2*v_R/(\\alpha_1**2*k_1**2 + 2*\\alpha_1*\\alpha_3*k_1**2 + \\alpha_3**2*k_1**2 + 4*\\rho_1**2*v_R**2) - 2*R_{12}*R_{21}*\\alpha_3*\\rho_1*g**2*k_1**2*v_R/(\\alpha_1**2*k_1**2 + 2*\\alpha_1*\\alpha_3*k_1**2 + \\alpha_3**2*k_1**2 + 4*\\rho_1**2*v_R**2) + 2*R_{21}*R_{22}*\\alpha_1*\\rho_1*g**2*k_1**2*v_R/(\\alpha_1**2*k_1**2 + 2*\\alpha_1*\\alpha_3*k_1**2 + \\alpha_3**2*k_1**2 + 4*\\rho_1**2*v_R**2) + 2*R_{21}*R_{22}*\\alpha_3*\\rho_1*g**2*k_1**2*v_R/(\\alpha_1**2*k_1**2 + 2*\\alpha_1*\\alpha_3*k_1**2 + \\alpha_3**2*k_1**2 + 4*\\rho_1**2*v_R**2) + 4*R_{21}*R_{22}*\\rho_1**2*g**2*v_R**3/(\\alpha_1**2*k_1**2 + 2*\\alpha_1*\\alpha_3*k_1**2 + \\alpha_3**2*k_1**2 + 4*\\rho_1**2*v_R**2) - 4*R_{21}*R_{32}*\\rho_1**2*g*g_{B-L}*v_R**3/(\\alpha_1**2*k_1**2 + 2*\\alpha_1*\\alpha_3*k_1**2 + \\alpha_3**2*k_1**2 + 4*\\rho_1**2*v_R**2) - 4*R_{22}*R_{31}*\\rho_1**2*g*g_{B-L}*v_R**3/(\\alpha_1**2*k_1**2 + 2*\\alpha_1*\\alpha_3*k_1**2 + \\alpha_3**2*k_1**2 + 4*\\rho_1**2*v_R**2) + 4*R_{31}*R_{32}*\\rho_1**2*g_{B-L}**2*v_R**3/(\\alpha_1**2*k_1**2 + 2*\\alpha_1*\\alpha_3*k_1**2 + \\alpha_3**2*k_1**2 + 4*\\rho_1**2*v_R**2)\n",
      "Approximation: \n",
      "g**2*v_R*sin(\\theta_W)**2*tan(\\theta_W) - 2*g*g_{B-L}*v_R*sin(\\theta_W)*sqrt(cos(2*\\theta_W))*tan(\\theta_W) + g_{B-L}**2*v_R*cos(2*\\theta_W)*tan(\\theta_W)\n",
      "Interaction\n",
      "(A, Z1, {{H_1^0}})\n",
      "Coefficient\n",
      "4*R_{11}*R_{12}*\\rho_1**2*g**2*k_1*v_R**2/(\\alpha_1**2*k_1**2 + 2*\\alpha_1*\\alpha_3*k_1**2 + \\alpha_3**2*k_1**2 + 4*\\rho_1**2*v_R**2) - 4*R_{11}*R_{22}*\\rho_1**2*g**2*k_1*v_R**2/(\\alpha_1**2*k_1**2 + 2*\\alpha_1*\\alpha_3*k_1**2 + \\alpha_3**2*k_1**2 + 4*\\rho_1**2*v_R**2) - 4*R_{12}*R_{21}*\\rho_1**2*g**2*k_1*v_R**2/(\\alpha_1**2*k_1**2 + 2*\\alpha_1*\\alpha_3*k_1**2 + \\alpha_3**2*k_1**2 + 4*\\rho_1**2*v_R**2) - 2*R_{21}*R_{22}*\\alpha_1*\\rho_1*g**2*k_1*v_R**2/(\\alpha_1**2*k_1**2 + 2*\\alpha_1*\\alpha_3*k_1**2 + \\alpha_3**2*k_1**2 + 4*\\rho_1**2*v_R**2) - 2*R_{21}*R_{22}*\\alpha_3*\\rho_1*g**2*k_1*v_R**2/(\\alpha_1**2*k_1**2 + 2*\\alpha_1*\\alpha_3*k_1**2 + \\alpha_3**2*k_1**2 + 4*\\rho_1**2*v_R**2) + 4*R_{21}*R_{22}*\\rho_1**2*g**2*k_1*v_R**2/(\\alpha_1**2*k_1**2 + 2*\\alpha_1*\\alpha_3*k_1**2 + \\alpha_3**2*k_1**2 + 4*\\rho_1**2*v_R**2) + 2*R_{21}*R_{32}*\\alpha_1*\\rho_1*g*g_{B-L}*k_1*v_R**2/(\\alpha_1**2*k_1**2 + 2*\\alpha_1*\\alpha_3*k_1**2 + \\alpha_3**2*k_1**2 + 4*\\rho_1**2*v_R**2) + 2*R_{21}*R_{32}*\\alpha_3*\\rho_1*g*g_{B-L}*k_1*v_R**2/(\\alpha_1**2*k_1**2 + 2*\\alpha_1*\\alpha_3*k_1**2 + \\alpha_3**2*k_1**2 + 4*\\rho_1**2*v_R**2) + 2*R_{22}*R_{31}*\\alpha_1*\\rho_1*g*g_{B-L}*k_1*v_R**2/(\\alpha_1**2*k_1**2 + 2*\\alpha_1*\\alpha_3*k_1**2 + \\alpha_3**2*k_1**2 + 4*\\rho_1**2*v_R**2) + 2*R_{22}*R_{31}*\\alpha_3*\\rho_1*g*g_{B-L}*k_1*v_R**2/(\\alpha_1**2*k_1**2 + 2*\\alpha_1*\\alpha_3*k_1**2 + \\alpha_3**2*k_1**2 + 4*\\rho_1**2*v_R**2) - 2*R_{31}*R_{32}*\\alpha_1*\\rho_1*g_{B-L}**2*k_1*v_R**2/(\\alpha_1**2*k_1**2 + 2*\\alpha_1*\\alpha_3*k_1**2 + \\alpha_3**2*k_1**2 + 4*\\rho_1**2*v_R**2) - 2*R_{31}*R_{32}*\\alpha_3*\\rho_1*g_{B-L}**2*k_1*v_R**2/(\\alpha_1**2*k_1**2 + 2*\\alpha_1*\\alpha_3*k_1**2 + \\alpha_3**2*k_1**2 + 4*\\rho_1**2*v_R**2)\n",
      "Approximation: \n",
      "-\\alpha_1*g**2*k_1*sin(\\theta_W)**2*tan(\\theta_W)/(2*\\rho_1) + \\alpha_1*g*g_{B-L}*k_1*sin(\\theta_W)*sqrt(cos(2*\\theta_W))*tan(\\theta_W)/\\rho_1 - \\alpha_1*g_{B-L}**2*k_1*cos(2*\\theta_W)*tan(\\theta_W)/(2*\\rho_1) - \\alpha_3*g**2*k_1*sin(\\theta_W)**2*tan(\\theta_W)/(2*\\rho_1) + \\alpha_3*g*g_{B-L}*k_1*sin(\\theta_W)*sqrt(cos(2*\\theta_W))*tan(\\theta_W)/\\rho_1 - \\alpha_3*g_{B-L}**2*k_1*cos(2*\\theta_W)*tan(\\theta_W)/(2*\\rho_1)\n",
      "Interaction\n",
      "(A, Z1, {{G_{Z_1}}})\n",
      "Coefficient\n",
      "I*R_{11}*R_{12}*g**2*k_1 - I*R_{11}*R_{22}*g**2*k_1 - I*R_{12}*R_{21}*g**2*k_1 + I*R_{21}*R_{22}*g**2*k_1\n",
      "Approximation: \n",
      "In the parroximation this interaction is not present\n",
      "Interaction\n",
      "(A, Z1, {{A_1^0}})\n",
      "Coefficient\n",
      "I*R_{11}*R_{12}*g**2*k_2 - I*R_{11}*R_{22}*g**2*k_2 - I*R_{12}*R_{21}*g**2*k_2 + I*R_{21}*R_{22}*g**2*k_2\n",
      "Approximation: \n",
      "In the parroximation this interaction is not present\n",
      "Interaction\n",
      "(A, Z1, {{H_3^0}})\n",
      "Coefficient\n",
      "R_{11}*R_{12}*g**2*k_2 - R_{11}*R_{22}*g**2*k_2 - R_{12}*R_{21}*g**2*k_2 + R_{21}*R_{22}*g**2*k_2\n",
      "Approximation: \n",
      "In the parroximation this interaction is not present\n",
      "Interaction\n",
      "(A, Z1, {{A_2^0}})\n",
      "Coefficient\n",
      "I*R_{11}*R_{12}*g**2*v_L - I*R_{11}*R_{32}*g*g_{B-L}*v_L - I*R_{12}*R_{31}*g*g_{B-L}*v_L + I*R_{31}*R_{32}*g_{B-L}**2*v_L\n",
      "Approximation: \n",
      "In the parroximation this interaction is not present\n",
      "Interaction\n",
      "(A, Z1, {{H_4^0}})\n",
      "Coefficient\n",
      "R_{11}*R_{12}*g**2*v_L - R_{11}*R_{32}*g*g_{B-L}*v_L - R_{12}*R_{31}*g*g_{B-L}*v_L + R_{31}*R_{32}*g_{B-L}**2*v_L\n",
      "Approximation: \n",
      "In the parroximation this interaction is not present\n",
      "Interaction\n",
      "(A, Z2, {{H_2^0}})\n",
      "Coefficient\n",
      "2*R_{11}*R_{13}*\\alpha_1*\\rho_1*g**2*k_1**2*v_R/(\\alpha_1**2*k_1**2 + 2*\\alpha_1*\\alpha_3*k_1**2 + \\alpha_3**2*k_1**2 + 4*\\rho_1**2*v_R**2) + 2*R_{11}*R_{13}*\\alpha_3*\\rho_1*g**2*k_1**2*v_R/(\\alpha_1**2*k_1**2 + 2*\\alpha_1*\\alpha_3*k_1**2 + \\alpha_3**2*k_1**2 + 4*\\rho_1**2*v_R**2) - 2*R_{11}*R_{23}*\\alpha_1*\\rho_1*g**2*k_1**2*v_R/(\\alpha_1**2*k_1**2 + 2*\\alpha_1*\\alpha_3*k_1**2 + \\alpha_3**2*k_1**2 + 4*\\rho_1**2*v_R**2) - 2*R_{11}*R_{23}*\\alpha_3*\\rho_1*g**2*k_1**2*v_R/(\\alpha_1**2*k_1**2 + 2*\\alpha_1*\\alpha_3*k_1**2 + \\alpha_3**2*k_1**2 + 4*\\rho_1**2*v_R**2) - 2*R_{13}*R_{21}*\\alpha_1*\\rho_1*g**2*k_1**2*v_R/(\\alpha_1**2*k_1**2 + 2*\\alpha_1*\\alpha_3*k_1**2 + \\alpha_3**2*k_1**2 + 4*\\rho_1**2*v_R**2) - 2*R_{13}*R_{21}*\\alpha_3*\\rho_1*g**2*k_1**2*v_R/(\\alpha_1**2*k_1**2 + 2*\\alpha_1*\\alpha_3*k_1**2 + \\alpha_3**2*k_1**2 + 4*\\rho_1**2*v_R**2) + 2*R_{21}*R_{23}*\\alpha_1*\\rho_1*g**2*k_1**2*v_R/(\\alpha_1**2*k_1**2 + 2*\\alpha_1*\\alpha_3*k_1**2 + \\alpha_3**2*k_1**2 + 4*\\rho_1**2*v_R**2) + 2*R_{21}*R_{23}*\\alpha_3*\\rho_1*g**2*k_1**2*v_R/(\\alpha_1**2*k_1**2 + 2*\\alpha_1*\\alpha_3*k_1**2 + \\alpha_3**2*k_1**2 + 4*\\rho_1**2*v_R**2) + 4*R_{21}*R_{23}*\\rho_1**2*g**2*v_R**3/(\\alpha_1**2*k_1**2 + 2*\\alpha_1*\\alpha_3*k_1**2 + \\alpha_3**2*k_1**2 + 4*\\rho_1**2*v_R**2) - 4*R_{21}*R_{33}*\\rho_1**2*g*g_{B-L}*v_R**3/(\\alpha_1**2*k_1**2 + 2*\\alpha_1*\\alpha_3*k_1**2 + \\alpha_3**2*k_1**2 + 4*\\rho_1**2*v_R**2) - 4*R_{23}*R_{31}*\\rho_1**2*g*g_{B-L}*v_R**3/(\\alpha_1**2*k_1**2 + 2*\\alpha_1*\\alpha_3*k_1**2 + \\alpha_3**2*k_1**2 + 4*\\rho_1**2*v_R**2) + 4*R_{31}*R_{33}*\\rho_1**2*g_{B-L}**2*v_R**3/(\\alpha_1**2*k_1**2 + 2*\\alpha_1*\\alpha_3*k_1**2 + \\alpha_3**2*k_1**2 + 4*\\rho_1**2*v_R**2)\n",
      "Approximation: \n",
      "-g**2*v_R*sin(\\theta_W)*sqrt(cos(2*\\theta_W))/cos(\\theta_W) - g*g_{B-L}*v_R*sin(\\theta_W)*tan(\\theta_W) + g*g_{B-L}*v_R*cos(2*\\theta_W)/cos(\\theta_W) + g_{B-L}**2*v_R*sqrt(cos(2*\\theta_W))*tan(\\theta_W)\n",
      "Interaction\n",
      "(A, Z2, {{H_1^0}})\n",
      "Coefficient\n",
      "4*R_{11}*R_{13}*\\rho_1**2*g**2*k_1*v_R**2/(\\alpha_1**2*k_1**2 + 2*\\alpha_1*\\alpha_3*k_1**2 + \\alpha_3**2*k_1**2 + 4*\\rho_1**2*v_R**2) - 4*R_{11}*R_{23}*\\rho_1**2*g**2*k_1*v_R**2/(\\alpha_1**2*k_1**2 + 2*\\alpha_1*\\alpha_3*k_1**2 + \\alpha_3**2*k_1**2 + 4*\\rho_1**2*v_R**2) - 4*R_{13}*R_{21}*\\rho_1**2*g**2*k_1*v_R**2/(\\alpha_1**2*k_1**2 + 2*\\alpha_1*\\alpha_3*k_1**2 + \\alpha_3**2*k_1**2 + 4*\\rho_1**2*v_R**2) - 2*R_{21}*R_{23}*\\alpha_1*\\rho_1*g**2*k_1*v_R**2/(\\alpha_1**2*k_1**2 + 2*\\alpha_1*\\alpha_3*k_1**2 + \\alpha_3**2*k_1**2 + 4*\\rho_1**2*v_R**2) - 2*R_{21}*R_{23}*\\alpha_3*\\rho_1*g**2*k_1*v_R**2/(\\alpha_1**2*k_1**2 + 2*\\alpha_1*\\alpha_3*k_1**2 + \\alpha_3**2*k_1**2 + 4*\\rho_1**2*v_R**2) + 4*R_{21}*R_{23}*\\rho_1**2*g**2*k_1*v_R**2/(\\alpha_1**2*k_1**2 + 2*\\alpha_1*\\alpha_3*k_1**2 + \\alpha_3**2*k_1**2 + 4*\\rho_1**2*v_R**2) + 2*R_{21}*R_{33}*\\alpha_1*\\rho_1*g*g_{B-L}*k_1*v_R**2/(\\alpha_1**2*k_1**2 + 2*\\alpha_1*\\alpha_3*k_1**2 + \\alpha_3**2*k_1**2 + 4*\\rho_1**2*v_R**2) + 2*R_{21}*R_{33}*\\alpha_3*\\rho_1*g*g_{B-L}*k_1*v_R**2/(\\alpha_1**2*k_1**2 + 2*\\alpha_1*\\alpha_3*k_1**2 + \\alpha_3**2*k_1**2 + 4*\\rho_1**2*v_R**2) + 2*R_{23}*R_{31}*\\alpha_1*\\rho_1*g*g_{B-L}*k_1*v_R**2/(\\alpha_1**2*k_1**2 + 2*\\alpha_1*\\alpha_3*k_1**2 + \\alpha_3**2*k_1**2 + 4*\\rho_1**2*v_R**2) + 2*R_{23}*R_{31}*\\alpha_3*\\rho_1*g*g_{B-L}*k_1*v_R**2/(\\alpha_1**2*k_1**2 + 2*\\alpha_1*\\alpha_3*k_1**2 + \\alpha_3**2*k_1**2 + 4*\\rho_1**2*v_R**2) - 2*R_{31}*R_{33}*\\alpha_1*\\rho_1*g_{B-L}**2*k_1*v_R**2/(\\alpha_1**2*k_1**2 + 2*\\alpha_1*\\alpha_3*k_1**2 + \\alpha_3**2*k_1**2 + 4*\\rho_1**2*v_R**2) - 2*R_{31}*R_{33}*\\alpha_3*\\rho_1*g_{B-L}**2*k_1*v_R**2/(\\alpha_1**2*k_1**2 + 2*\\alpha_1*\\alpha_3*k_1**2 + \\alpha_3**2*k_1**2 + 4*\\rho_1**2*v_R**2)\n",
      "Approximation: \n",
      "\\alpha_1*g**2*k_1*sin(\\theta_W)*sqrt(cos(2*\\theta_W))/(2*\\rho_1*cos(\\theta_W)) + \\alpha_1*g*g_{B-L}*k_1*sin(\\theta_W)*tan(\\theta_W)/(2*\\rho_1) - \\alpha_1*g*g_{B-L}*k_1*cos(2*\\theta_W)/(2*\\rho_1*cos(\\theta_W)) - \\alpha_1*g_{B-L}**2*k_1*sqrt(cos(2*\\theta_W))*tan(\\theta_W)/(2*\\rho_1) + \\alpha_3*g**2*k_1*sin(\\theta_W)*sqrt(cos(2*\\theta_W))/(2*\\rho_1*cos(\\theta_W)) + \\alpha_3*g*g_{B-L}*k_1*sin(\\theta_W)*tan(\\theta_W)/(2*\\rho_1) - \\alpha_3*g*g_{B-L}*k_1*cos(2*\\theta_W)/(2*\\rho_1*cos(\\theta_W)) - \\alpha_3*g_{B-L}**2*k_1*sqrt(cos(2*\\theta_W))*tan(\\theta_W)/(2*\\rho_1)\n",
      "Interaction\n",
      "(A, Z2, {{G_{Z_1}}})\n",
      "Coefficient\n",
      "I*R_{11}*R_{13}*g**2*k_1 - I*R_{11}*R_{23}*g**2*k_1 - I*R_{13}*R_{21}*g**2*k_1 + I*R_{21}*R_{23}*g**2*k_1\n",
      "Approximation: \n",
      "In the parroximation this interaction is not present\n",
      "Interaction\n",
      "(A, Z2, {{A_1^0}})\n",
      "Coefficient\n",
      "I*R_{11}*R_{13}*g**2*k_2 - I*R_{11}*R_{23}*g**2*k_2 - I*R_{13}*R_{21}*g**2*k_2 + I*R_{21}*R_{23}*g**2*k_2\n",
      "Approximation: \n",
      "In the parroximation this interaction is not present\n",
      "Interaction\n",
      "(A, Z2, {{H_3^0}})\n",
      "Coefficient\n",
      "R_{11}*R_{13}*g**2*k_2 - R_{11}*R_{23}*g**2*k_2 - R_{13}*R_{21}*g**2*k_2 + R_{21}*R_{23}*g**2*k_2\n",
      "Approximation: \n",
      "In the parroximation this interaction is not present\n",
      "Interaction\n",
      "(A, Z2, {{A_2^0}})\n",
      "Coefficient\n",
      "I*R_{11}*R_{13}*g**2*v_L - I*R_{11}*R_{33}*g*g_{B-L}*v_L - I*R_{13}*R_{31}*g*g_{B-L}*v_L + I*R_{31}*R_{33}*g_{B-L}**2*v_L\n",
      "Approximation: \n",
      "In the parroximation this interaction is not present\n",
      "Interaction\n",
      "(A, Z2, {{H_4^0}})\n",
      "Coefficient\n",
      "R_{11}*R_{13}*g**2*v_L - R_{11}*R_{33}*g*g_{B-L}*v_L - R_{13}*R_{31}*g*g_{B-L}*v_L + R_{31}*R_{33}*g_{B-L}**2*v_L\n",
      "Approximation: \n",
      "In the parroximation this interaction is not present\n",
      "Interaction\n",
      "(A, W_1^+, {{G_R^-}})\n",
      "Coefficient\n",
      "R_{11}*g**2*k_1**2*v_R*sin(\\xi)/(2*k_1**2 + 2*v_R**2) - R_{21}*g**2*k_1*k_2*v_R*cos(\\xi)/(2*k_1**2 + 2*v_R**2) + R_{31}*g*g_{B-L}*v_R**3*sin(\\xi)/(2*k_1**2 + 2*v_R**2)\n",
      "Approximation: \n",
      "In the parroximation this interaction is not present\n",
      "Interaction\n",
      "(A, W_1^+, {{H_R^-}})\n",
      "Coefficient\n",
      "-R_{11}*g**2*k_1*v_R**2*sin(\\xi)/(2*k_1**2 + 2*v_R**2) + R_{21}*g**2*k_2*v_R**2*cos(\\xi)/(2*k_1**2 + 2*v_R**2) + R_{31}*g*g_{B-L}*k_1*v_R**2*sin(\\xi)/(2*k_1**2 + 2*v_R**2)\n",
      "Approximation: \n",
      "In the parroximation this interaction is not present\n",
      "Interaction\n",
      "(A, W_1^+, {{G_L^-}})\n",
      "Coefficient\n",
      "R_{11}*g**2*k_2*sin(\\xi)/2 - R_{21}*g**2*k_1*cos(\\xi)/2\n",
      "Approximation: \n",
      "-g**2*k_1*sin(\\theta_W)/2\n",
      "Interaction\n",
      "(A, W_1^-, {{G_R^+}})\n",
      "Coefficient\n",
      "R_{11}*g**2*k_1**2*v_R*sin(\\xi)/(2*k_1**2 + 2*v_R**2) - R_{21}*g**2*k_1*k_2*v_R*cos(\\xi)/(2*k_1**2 + 2*v_R**2) + R_{31}*g*g_{B-L}*v_R**3*sin(\\xi)/(2*k_1**2 + 2*v_R**2)\n",
      "Approximation: \n",
      "In the parroximation this interaction is not present\n",
      "Interaction\n",
      "(A, W_1^-, {{H_R^+}})\n",
      "Coefficient\n",
      "-R_{11}*g**2*k_1*v_R**2*sin(\\xi)/(2*k_1**2 + 2*v_R**2) + R_{21}*g**2*k_2*v_R**2*cos(\\xi)/(2*k_1**2 + 2*v_R**2) + R_{31}*g*g_{B-L}*k_1*v_R**2*sin(\\xi)/(2*k_1**2 + 2*v_R**2)\n",
      "Approximation: \n",
      "In the parroximation this interaction is not present\n",
      "Interaction\n",
      "(A, W_1^-, {{G_L^+}})\n",
      "Coefficient\n",
      "R_{11}*g**2*k_2*sin(\\xi)/2 - R_{21}*g**2*k_1*cos(\\xi)/2\n",
      "Approximation: \n",
      "-g**2*k_1*sin(\\theta_W)/2\n",
      "Interaction\n",
      "(A, W_2^+, {{G_R^-}})\n",
      "Coefficient\n",
      "R_{11}*g**2*k_1**2*v_R*cos(\\xi)/(2*k_1**2 + 2*v_R**2) + R_{21}*g**2*k_1*k_2*v_R*sin(\\xi)/(2*k_1**2 + 2*v_R**2) + R_{31}*g*g_{B-L}*v_R**3*cos(\\xi)/(2*k_1**2 + 2*v_R**2)\n",
      "Approximation: \n",
      "g**2*k_1**2*sin(\\theta_W)/(2*v_R) + g*g_{B-L}*v_R*sqrt(cos(2*\\theta_W))/2\n",
      "Interaction\n",
      "(A, W_2^+, {{H_R^-}})\n",
      "Coefficient\n",
      "-R_{11}*g**2*k_1*v_R**2*cos(\\xi)/(2*k_1**2 + 2*v_R**2) - R_{21}*g**2*k_2*v_R**2*sin(\\xi)/(2*k_1**2 + 2*v_R**2) + R_{31}*g*g_{B-L}*k_1*v_R**2*cos(\\xi)/(2*k_1**2 + 2*v_R**2)\n",
      "Approximation: \n",
      "-g**2*k_1*sin(\\theta_W)/2 + g*g_{B-L}*k_1*sqrt(cos(2*\\theta_W))/2\n",
      "Interaction\n",
      "(A, W_2^+, {{G_L^-}})\n",
      "Coefficient\n",
      "R_{11}*g**2*k_2*cos(\\xi)/2 + R_{21}*g**2*k_1*sin(\\xi)/2\n",
      "Approximation: \n",
      "In the parroximation this interaction is not present\n",
      "Interaction\n",
      "(A, W_2^-, {{G_R^+}})\n",
      "Coefficient\n",
      "R_{11}*g**2*k_1**2*v_R*cos(\\xi)/(2*k_1**2 + 2*v_R**2) + R_{21}*g**2*k_1*k_2*v_R*sin(\\xi)/(2*k_1**2 + 2*v_R**2) + R_{31}*g*g_{B-L}*v_R**3*cos(\\xi)/(2*k_1**2 + 2*v_R**2)\n",
      "Approximation: \n",
      "g**2*k_1**2*sin(\\theta_W)/(2*v_R) + g*g_{B-L}*v_R*sqrt(cos(2*\\theta_W))/2\n",
      "Interaction\n",
      "(A, W_2^-, {{H_R^+}})\n",
      "Coefficient\n",
      "-R_{11}*g**2*k_1*v_R**2*cos(\\xi)/(2*k_1**2 + 2*v_R**2) - R_{21}*g**2*k_2*v_R**2*sin(\\xi)/(2*k_1**2 + 2*v_R**2) + R_{31}*g*g_{B-L}*k_1*v_R**2*cos(\\xi)/(2*k_1**2 + 2*v_R**2)\n",
      "Approximation: \n",
      "-g**2*k_1*sin(\\theta_W)/2 + g*g_{B-L}*k_1*sqrt(cos(2*\\theta_W))/2\n",
      "Interaction\n",
      "(A, W_2^-, {{G_L^+}})\n",
      "Coefficient\n",
      "R_{11}*g**2*k_2*cos(\\xi)/2 + R_{21}*g**2*k_1*sin(\\xi)/2\n",
      "Approximation: \n",
      "In the parroximation this interaction is not present\n",
      "Interaction\n",
      "(A, {{G_R^+}}, {{G_R^-}})\n",
      "Coefficient\n",
      "-R_{11}*g*k_1**2*v_R**2*p({{G_R^+}})/(2*k_1**4 + 4*k_1**2*v_R**2 + 2*v_R**4) + R_{11}*g*k_1**2*v_R**2*p({{G_R^-}})/(2*k_1**4 + 4*k_1**2*v_R**2 + 2*v_R**4) - R_{21}*g*k_1**2*v_R**2*p({{G_R^+}})/(2*k_1**4 + 4*k_1**2*v_R**2 + 2*v_R**4) + R_{21}*g*k_1**2*v_R**2*p({{G_R^-}})/(2*k_1**4 + 4*k_1**2*v_R**2 + 2*v_R**4) - R_{21}*g*v_R**4*p({{G_R^+}})/(2*k_1**4 + 4*k_1**2*v_R**2 + 2*v_R**4) + R_{21}*g*v_R**4*p({{G_R^-}})/(2*k_1**4 + 4*k_1**2*v_R**2 + 2*v_R**4) - R_{31}*g_{B-L}*v_R**4*p({{G_R^+}})/(2*k_1**4 + 4*k_1**2*v_R**2 + 2*v_R**4) + R_{31}*g_{B-L}*v_R**4*p({{G_R^-}})/(2*k_1**4 + 4*k_1**2*v_R**2 + 2*v_R**4)\n",
      "Approximation: \n",
      "-g*k_1**2*p({{G_R^+}})*sin(\\theta_W)/v_R**2 + g*k_1**2*p({{G_R^-}})*sin(\\theta_W)/v_R**2 - g*p({{G_R^+}})*sin(\\theta_W)/2 + g*p({{G_R^-}})*sin(\\theta_W)/2 - g_{B-L}*p({{G_R^+}})*sqrt(cos(2*\\theta_W))/2 + g_{B-L}*p({{G_R^-}})*sqrt(cos(2*\\theta_W))/2\n",
      "Interaction\n",
      "(A, {{G_R^+}}, {{H_R^-}})\n",
      "Coefficient\n",
      "R_{11}*g*k_1*v_R**3*p({{G_R^+}})/(2*k_1**4 + 4*k_1**2*v_R**2 + 2*v_R**4) - R_{11}*g*k_1*v_R**3*p({{H_R^-}})/(2*k_1**4 + 4*k_1**2*v_R**2 + 2*v_R**4) - R_{31}*g_{B-L}*k_1*v_R**3*p({{G_R^+}})/(2*k_1**4 + 4*k_1**2*v_R**2 + 2*v_R**4) + R_{31}*g_{B-L}*k_1*v_R**3*p({{H_R^-}})/(2*k_1**4 + 4*k_1**2*v_R**2 + 2*v_R**4)\n",
      "Approximation: \n",
      "g*k_1*p({{G_R^+}})*sin(\\theta_W)/(2*v_R) - g*k_1*p({{H_R^-}})*sin(\\theta_W)/(2*v_R) - g_{B-L}*k_1*p({{G_R^+}})*sqrt(cos(2*\\theta_W))/(2*v_R) + g_{B-L}*k_1*p({{H_R^-}})*sqrt(cos(2*\\theta_W))/(2*v_R)\n",
      "Interaction\n",
      "(A, {{G_R^-}}, {{H_R^+}})\n",
      "Coefficient\n",
      "-R_{11}*g*k_1*v_R**3*p({{G_R^-}})/(2*k_1**4 + 4*k_1**2*v_R**2 + 2*v_R**4) + R_{11}*g*k_1*v_R**3*p({{H_R^+}})/(2*k_1**4 + 4*k_1**2*v_R**2 + 2*v_R**4) + R_{31}*g_{B-L}*k_1*v_R**3*p({{G_R^-}})/(2*k_1**4 + 4*k_1**2*v_R**2 + 2*v_R**4) - R_{31}*g_{B-L}*k_1*v_R**3*p({{H_R^+}})/(2*k_1**4 + 4*k_1**2*v_R**2 + 2*v_R**4)\n",
      "Approximation: \n",
      "-g*k_1*p({{G_R^-}})*sin(\\theta_W)/(2*v_R) + g*k_1*p({{H_R^+}})*sin(\\theta_W)/(2*v_R) + g_{B-L}*k_1*p({{G_R^-}})*sqrt(cos(2*\\theta_W))/(2*v_R) - g_{B-L}*k_1*p({{H_R^+}})*sqrt(cos(2*\\theta_W))/(2*v_R)\n",
      "Interaction\n",
      "(A, {{H_R^+}}, {{H_R^-}})\n",
      "Coefficient\n",
      "-R_{11}*g*v_R**4*p({{H_R^+}})/(2*k_1**4 + 4*k_1**2*v_R**2 + 2*v_R**4) + R_{11}*g*v_R**4*p({{H_R^-}})/(2*k_1**4 + 4*k_1**2*v_R**2 + 2*v_R**4) - R_{21}*g*k_1**2*v_R**2*p({{H_R^+}})/(2*k_1**4 + 4*k_1**2*v_R**2 + 2*v_R**4) + R_{21}*g*k_1**2*v_R**2*p({{H_R^-}})/(2*k_1**4 + 4*k_1**2*v_R**2 + 2*v_R**4) - R_{21}*g*v_R**4*p({{H_R^+}})/(2*k_1**4 + 4*k_1**2*v_R**2 + 2*v_R**4) + R_{21}*g*v_R**4*p({{H_R^-}})/(2*k_1**4 + 4*k_1**2*v_R**2 + 2*v_R**4) - R_{31}*g_{B-L}*k_1**2*v_R**2*p({{H_R^+}})/(2*k_1**4 + 4*k_1**2*v_R**2 + 2*v_R**4) + R_{31}*g_{B-L}*k_1**2*v_R**2*p({{H_R^-}})/(2*k_1**4 + 4*k_1**2*v_R**2 + 2*v_R**4)\n",
      "Approximation: \n",
      "-g*k_1**2*p({{H_R^+}})*sin(\\theta_W)/(2*v_R**2) + g*k_1**2*p({{H_R^-}})*sin(\\theta_W)/(2*v_R**2) - g*p({{H_R^+}})*sin(\\theta_W) + g*p({{H_R^-}})*sin(\\theta_W) - g_{B-L}*k_1**2*p({{H_R^+}})*sqrt(cos(2*\\theta_W))/(2*v_R**2) + g_{B-L}*k_1**2*p({{H_R^-}})*sqrt(cos(2*\\theta_W))/(2*v_R**2)\n",
      "Interaction\n",
      "(A, {{G_L^+}}, {{G_L^-}})\n",
      "Coefficient\n",
      "-R_{11}*g*p({{G_L^+}})/2 + R_{11}*g*p({{G_L^-}})/2 - R_{21}*g*p({{G_L^+}})/2 + R_{21}*g*p({{G_L^-}})/2\n",
      "Approximation: \n",
      "-g*p({{G_L^+}})*sin(\\theta_W) + g*p({{G_L^-}})*sin(\\theta_W)\n",
      "Interaction\n",
      "(A, {{H_L^+}}, {{H_L^-}})\n",
      "Coefficient\n",
      "-R_{11}*g*p({{H_L^+}})/2 + R_{11}*g*p({{H_L^-}})/2 - R_{31}*g_{B-L}*p({{H_L^+}})/2 + R_{31}*g_{B-L}*p({{H_L^-}})/2\n",
      "Approximation: \n",
      "-g*p({{H_L^+}})*sin(\\theta_W)/2 + g*p({{H_L^-}})*sin(\\theta_W)/2 - g_{B-L}*p({{H_L^+}})*sqrt(cos(2*\\theta_W))/2 + g_{B-L}*p({{H_L^-}})*sqrt(cos(2*\\theta_W))/2\n",
      "Interaction\n",
      "(A, Z1, {{G_{Z_2}}})\n",
      "Coefficient\n",
      "I*R_{21}*R_{22}*g**2*v_R - I*R_{21}*R_{32}*g*g_{B-L}*v_R - I*R_{22}*R_{31}*g*g_{B-L}*v_R + I*R_{31}*R_{32}*g_{B-L}**2*v_R\n",
      "Approximation: \n",
      "I*g**2*v_R*sin(\\theta_W)**2*tan(\\theta_W) - 2*I*g*g_{B-L}*v_R*sin(\\theta_W)*sqrt(cos(2*\\theta_W))*tan(\\theta_W) + I*g_{B-L}**2*v_R*cos(2*\\theta_W)*tan(\\theta_W)\n",
      "Interaction\n",
      "(A, Z2, {{G_{Z_2}}})\n",
      "Coefficient\n",
      "I*R_{21}*R_{23}*g**2*v_R - I*R_{21}*R_{33}*g*g_{B-L}*v_R - I*R_{23}*R_{31}*g*g_{B-L}*v_R + I*R_{31}*R_{33}*g_{B-L}**2*v_R\n",
      "Approximation: \n",
      "-I*g**2*v_R*sin(\\theta_W)*sqrt(cos(2*\\theta_W))/cos(\\theta_W) - I*g*g_{B-L}*v_R*sin(\\theta_W)*tan(\\theta_W) + I*g*g_{B-L}*v_R*cos(2*\\theta_W)/cos(\\theta_W) + I*g_{B-L}**2*v_R*sqrt(cos(2*\\theta_W))*tan(\\theta_W)\n",
      "Interaction\n",
      "(A, W_1^+, {{H_L^-}})\n",
      "Coefficient\n",
      "R_{31}*g*g_{B-L}*v_L*cos(\\xi)/2\n",
      "Approximation: \n",
      "In the parroximation this interaction is not present\n",
      "Interaction\n",
      "(A, W_1^-, {{H_L^+}})\n",
      "Coefficient\n",
      "R_{31}*g*g_{B-L}*v_L*cos(\\xi)/2\n",
      "Approximation: \n",
      "In the parroximation this interaction is not present\n",
      "Interaction\n",
      "(A, W_2^+, {{H_L^-}})\n",
      "Coefficient\n",
      "-R_{31}*g*g_{B-L}*v_L*sin(\\xi)/2\n",
      "Approximation: \n",
      "In the parroximation this interaction is not present\n",
      "Interaction\n",
      "(A, W_2^-, {{H_L^+}})\n",
      "Coefficient\n",
      "-R_{31}*g*g_{B-L}*v_L*sin(\\xi)/2\n",
      "Approximation: \n",
      "In the parroximation this interaction is not present\n",
      "Interaction\n",
      "(Z1, Z1, {{H_2^0}})\n",
      "Coefficient\n",
      "R_{12}**2*\\alpha_1*\\rho_1*g**2*k_1**2*v_R/(\\alpha_1**2*k_1**2 + 2*\\alpha_1*\\alpha_3*k_1**2 + \\alpha_3**2*k_1**2 + 4*\\rho_1**2*v_R**2) + R_{12}**2*\\alpha_3*\\rho_1*g**2*k_1**2*v_R/(\\alpha_1**2*k_1**2 + 2*\\alpha_1*\\alpha_3*k_1**2 + \\alpha_3**2*k_1**2 + 4*\\rho_1**2*v_R**2) - 2*R_{12}*R_{22}*\\alpha_1*\\rho_1*g**2*k_1**2*v_R/(\\alpha_1**2*k_1**2 + 2*\\alpha_1*\\alpha_3*k_1**2 + \\alpha_3**2*k_1**2 + 4*\\rho_1**2*v_R**2) - 2*R_{12}*R_{22}*\\alpha_3*\\rho_1*g**2*k_1**2*v_R/(\\alpha_1**2*k_1**2 + 2*\\alpha_1*\\alpha_3*k_1**2 + \\alpha_3**2*k_1**2 + 4*\\rho_1**2*v_R**2) + R_{22}**2*\\alpha_1*\\rho_1*g**2*k_1**2*v_R/(\\alpha_1**2*k_1**2 + 2*\\alpha_1*\\alpha_3*k_1**2 + \\alpha_3**2*k_1**2 + 4*\\rho_1**2*v_R**2) + R_{22}**2*\\alpha_3*\\rho_1*g**2*k_1**2*v_R/(\\alpha_1**2*k_1**2 + 2*\\alpha_1*\\alpha_3*k_1**2 + \\alpha_3**2*k_1**2 + 4*\\rho_1**2*v_R**2) + 2*R_{22}**2*\\rho_1**2*g**2*v_R**3/(\\alpha_1**2*k_1**2 + 2*\\alpha_1*\\alpha_3*k_1**2 + \\alpha_3**2*k_1**2 + 4*\\rho_1**2*v_R**2) - 4*R_{22}*R_{32}*\\rho_1**2*g*g_{B-L}*v_R**3/(\\alpha_1**2*k_1**2 + 2*\\alpha_1*\\alpha_3*k_1**2 + \\alpha_3**2*k_1**2 + 4*\\rho_1**2*v_R**2) + 2*R_{32}**2*\\rho_1**2*g_{B-L}**2*v_R**3/(\\alpha_1**2*k_1**2 + 2*\\alpha_1*\\alpha_3*k_1**2 + \\alpha_3**2*k_1**2 + 4*\\rho_1**2*v_R**2)\n",
      "Approximation: \n",
      "\\alpha_1*g**2*k_1**2*sin(\\theta_W)**2*tan(\\theta_W)**2/(4*\\rho_1*v_R) + \\alpha_1*g**2*k_1**2*sin(\\theta_W)*cos(\\theta_W)*tan(\\theta_W)/(2*\\rho_1*v_R) + \\alpha_1*g**2*k_1**2*cos(\\theta_W)**2/(4*\\rho_1*v_R) + \\alpha_3*g**2*k_1**2*sin(\\theta_W)**2*tan(\\theta_W)**2/(4*\\rho_1*v_R) + \\alpha_3*g**2*k_1**2*sin(\\theta_W)*cos(\\theta_W)*tan(\\theta_W)/(2*\\rho_1*v_R) + \\alpha_3*g**2*k_1**2*cos(\\theta_W)**2/(4*\\rho_1*v_R) + g**2*v_R*sin(\\theta_W)**2*tan(\\theta_W)**2/2 - g*g_{B-L}*v_R*sin(\\theta_W)*sqrt(cos(2*\\theta_W))*tan(\\theta_W)**2 + g_{B-L}**2*v_R*cos(2*\\theta_W)*tan(\\theta_W)**2/2\n",
      "Interaction\n",
      "(Z1, Z1, {{H_1^0}})\n",
      "Coefficient\n",
      "2*R_{12}**2*\\rho_1**2*g**2*k_1*v_R**2/(\\alpha_1**2*k_1**2 + 2*\\alpha_1*\\alpha_3*k_1**2 + \\alpha_3**2*k_1**2 + 4*\\rho_1**2*v_R**2) - 4*R_{12}*R_{22}*\\rho_1**2*g**2*k_1*v_R**2/(\\alpha_1**2*k_1**2 + 2*\\alpha_1*\\alpha_3*k_1**2 + \\alpha_3**2*k_1**2 + 4*\\rho_1**2*v_R**2) - R_{22}**2*\\alpha_1*\\rho_1*g**2*k_1*v_R**2/(\\alpha_1**2*k_1**2 + 2*\\alpha_1*\\alpha_3*k_1**2 + \\alpha_3**2*k_1**2 + 4*\\rho_1**2*v_R**2) - R_{22}**2*\\alpha_3*\\rho_1*g**2*k_1*v_R**2/(\\alpha_1**2*k_1**2 + 2*\\alpha_1*\\alpha_3*k_1**2 + \\alpha_3**2*k_1**2 + 4*\\rho_1**2*v_R**2) + 2*R_{22}**2*\\rho_1**2*g**2*k_1*v_R**2/(\\alpha_1**2*k_1**2 + 2*\\alpha_1*\\alpha_3*k_1**2 + \\alpha_3**2*k_1**2 + 4*\\rho_1**2*v_R**2) + 2*R_{22}*R_{32}*\\alpha_1*\\rho_1*g*g_{B-L}*k_1*v_R**2/(\\alpha_1**2*k_1**2 + 2*\\alpha_1*\\alpha_3*k_1**2 + \\alpha_3**2*k_1**2 + 4*\\rho_1**2*v_R**2) + 2*R_{22}*R_{32}*\\alpha_3*\\rho_1*g*g_{B-L}*k_1*v_R**2/(\\alpha_1**2*k_1**2 + 2*\\alpha_1*\\alpha_3*k_1**2 + \\alpha_3**2*k_1**2 + 4*\\rho_1**2*v_R**2) - R_{32}**2*\\alpha_1*\\rho_1*g_{B-L}**2*k_1*v_R**2/(\\alpha_1**2*k_1**2 + 2*\\alpha_1*\\alpha_3*k_1**2 + \\alpha_3**2*k_1**2 + 4*\\rho_1**2*v_R**2) - R_{32}**2*\\alpha_3*\\rho_1*g_{B-L}**2*k_1*v_R**2/(\\alpha_1**2*k_1**2 + 2*\\alpha_1*\\alpha_3*k_1**2 + \\alpha_3**2*k_1**2 + 4*\\rho_1**2*v_R**2)\n",
      "Approximation: \n",
      "-\\alpha_1*g**2*k_1*sin(\\theta_W)**2*tan(\\theta_W)**2/(4*\\rho_1) + \\alpha_1*g*g_{B-L}*k_1*sin(\\theta_W)*sqrt(cos(2*\\theta_W))*tan(\\theta_W)**2/(2*\\rho_1) - \\alpha_1*g_{B-L}**2*k_1*cos(2*\\theta_W)*tan(\\theta_W)**2/(4*\\rho_1) - \\alpha_3*g**2*k_1*sin(\\theta_W)**2*tan(\\theta_W)**2/(4*\\rho_1) + \\alpha_3*g*g_{B-L}*k_1*sin(\\theta_W)*sqrt(cos(2*\\theta_W))*tan(\\theta_W)**2/(2*\\rho_1) - \\alpha_3*g_{B-L}**2*k_1*cos(2*\\theta_W)*tan(\\theta_W)**2/(4*\\rho_1) + g**2*k_1*sin(\\theta_W)**2*tan(\\theta_W)**2/2 + g**2*k_1*sin(\\theta_W)*cos(\\theta_W)*tan(\\theta_W) + g**2*k_1*cos(\\theta_W)**2/2\n",
      "Interaction\n",
      "(Z1, Z1, {{G_{Z_1}}})\n",
      "Coefficient\n",
      "I*R_{12}**2*g**2*k_1/2 - I*R_{12}*R_{22}*g**2*k_1 + I*R_{22}**2*g**2*k_1/2\n",
      "Approximation: \n",
      "I*g**2*k_1*sin(\\theta_W)**2*tan(\\theta_W)**2/2 + I*g**2*k_1*sin(\\theta_W)*cos(\\theta_W)*tan(\\theta_W) + I*g**2*k_1*cos(\\theta_W)**2/2\n",
      "Interaction\n",
      "(Z1, Z1, {{A_1^0}})\n",
      "Coefficient\n",
      "I*R_{12}**2*g**2*k_2/2 - I*R_{12}*R_{22}*g**2*k_2 + I*R_{22}**2*g**2*k_2/2\n",
      "Approximation: \n",
      "In the parroximation this interaction is not present\n",
      "Interaction\n",
      "(Z1, Z1, {{H_3^0}})\n",
      "Coefficient\n",
      "R_{12}**2*g**2*k_2/2 - R_{12}*R_{22}*g**2*k_2 + R_{22}**2*g**2*k_2/2\n",
      "Approximation: \n",
      "In the parroximation this interaction is not present\n",
      "Interaction\n",
      "(Z1, Z1, {{A_2^0}})\n",
      "Coefficient\n",
      "I*R_{12}**2*g**2*v_L/2 - I*R_{12}*R_{32}*g*g_{B-L}*v_L + I*R_{32}**2*g_{B-L}**2*v_L/2\n",
      "Approximation: \n",
      "In the parroximation this interaction is not present\n",
      "Interaction\n",
      "(Z1, Z1, {{H_4^0}})\n",
      "Coefficient\n",
      "R_{12}**2*g**2*v_L/2 - R_{12}*R_{32}*g*g_{B-L}*v_L + R_{32}**2*g_{B-L}**2*v_L/2\n",
      "Approximation: \n",
      "In the parroximation this interaction is not present\n",
      "Interaction\n",
      "(Z1, Z2, {{H_2^0}})\n",
      "Coefficient\n",
      "2*R_{12}*R_{13}*\\alpha_1*\\rho_1*g**2*k_1**2*v_R/(\\alpha_1**2*k_1**2 + 2*\\alpha_1*\\alpha_3*k_1**2 + \\alpha_3**2*k_1**2 + 4*\\rho_1**2*v_R**2) + 2*R_{12}*R_{13}*\\alpha_3*\\rho_1*g**2*k_1**2*v_R/(\\alpha_1**2*k_1**2 + 2*\\alpha_1*\\alpha_3*k_1**2 + \\alpha_3**2*k_1**2 + 4*\\rho_1**2*v_R**2) - 2*R_{12}*R_{23}*\\alpha_1*\\rho_1*g**2*k_1**2*v_R/(\\alpha_1**2*k_1**2 + 2*\\alpha_1*\\alpha_3*k_1**2 + \\alpha_3**2*k_1**2 + 4*\\rho_1**2*v_R**2) - 2*R_{12}*R_{23}*\\alpha_3*\\rho_1*g**2*k_1**2*v_R/(\\alpha_1**2*k_1**2 + 2*\\alpha_1*\\alpha_3*k_1**2 + \\alpha_3**2*k_1**2 + 4*\\rho_1**2*v_R**2) - 2*R_{13}*R_{22}*\\alpha_1*\\rho_1*g**2*k_1**2*v_R/(\\alpha_1**2*k_1**2 + 2*\\alpha_1*\\alpha_3*k_1**2 + \\alpha_3**2*k_1**2 + 4*\\rho_1**2*v_R**2) - 2*R_{13}*R_{22}*\\alpha_3*\\rho_1*g**2*k_1**2*v_R/(\\alpha_1**2*k_1**2 + 2*\\alpha_1*\\alpha_3*k_1**2 + \\alpha_3**2*k_1**2 + 4*\\rho_1**2*v_R**2) + 2*R_{22}*R_{23}*\\alpha_1*\\rho_1*g**2*k_1**2*v_R/(\\alpha_1**2*k_1**2 + 2*\\alpha_1*\\alpha_3*k_1**2 + \\alpha_3**2*k_1**2 + 4*\\rho_1**2*v_R**2) + 2*R_{22}*R_{23}*\\alpha_3*\\rho_1*g**2*k_1**2*v_R/(\\alpha_1**2*k_1**2 + 2*\\alpha_1*\\alpha_3*k_1**2 + \\alpha_3**2*k_1**2 + 4*\\rho_1**2*v_R**2) + 4*R_{22}*R_{23}*\\rho_1**2*g**2*v_R**3/(\\alpha_1**2*k_1**2 + 2*\\alpha_1*\\alpha_3*k_1**2 + \\alpha_3**2*k_1**2 + 4*\\rho_1**2*v_R**2) - 4*R_{22}*R_{33}*\\rho_1**2*g*g_{B-L}*v_R**3/(\\alpha_1**2*k_1**2 + 2*\\alpha_1*\\alpha_3*k_1**2 + \\alpha_3**2*k_1**2 + 4*\\rho_1**2*v_R**2) - 4*R_{23}*R_{32}*\\rho_1**2*g*g_{B-L}*v_R**3/(\\alpha_1**2*k_1**2 + 2*\\alpha_1*\\alpha_3*k_1**2 + \\alpha_3**2*k_1**2 + 4*\\rho_1**2*v_R**2) + 4*R_{32}*R_{33}*\\rho_1**2*g_{B-L}**2*v_R**3/(\\alpha_1**2*k_1**2 + 2*\\alpha_1*\\alpha_3*k_1**2 + \\alpha_3**2*k_1**2 + 4*\\rho_1**2*v_R**2)\n",
      "Approximation: \n",
      "-\\alpha_1*g**2*k_1**2*sin(\\theta_W)*sqrt(cos(2*\\theta_W))*tan(\\theta_W)/(2*\\rho_1*v_R*cos(\\theta_W)) - \\alpha_1*g**2*k_1**2*sqrt(cos(2*\\theta_W))/(2*\\rho_1*v_R) - \\alpha_3*g**2*k_1**2*sin(\\theta_W)*sqrt(cos(2*\\theta_W))*tan(\\theta_W)/(2*\\rho_1*v_R*cos(\\theta_W)) - \\alpha_3*g**2*k_1**2*sqrt(cos(2*\\theta_W))/(2*\\rho_1*v_R) - g**2*v_R*sin(\\theta_W)*sqrt(cos(2*\\theta_W))*tan(\\theta_W)/cos(\\theta_W) - g*g_{B-L}*v_R*sin(\\theta_W)*tan(\\theta_W)**2 + g*g_{B-L}*v_R*cos(2*\\theta_W)*tan(\\theta_W)/cos(\\theta_W) + g_{B-L}**2*v_R*sqrt(cos(2*\\theta_W))*tan(\\theta_W)**2\n",
      "Interaction\n",
      "(Z1, Z2, {{H_1^0}})\n",
      "Coefficient\n",
      "4*R_{12}*R_{13}*\\rho_1**2*g**2*k_1*v_R**2/(\\alpha_1**2*k_1**2 + 2*\\alpha_1*\\alpha_3*k_1**2 + \\alpha_3**2*k_1**2 + 4*\\rho_1**2*v_R**2) - 4*R_{12}*R_{23}*\\rho_1**2*g**2*k_1*v_R**2/(\\alpha_1**2*k_1**2 + 2*\\alpha_1*\\alpha_3*k_1**2 + \\alpha_3**2*k_1**2 + 4*\\rho_1**2*v_R**2) - 4*R_{13}*R_{22}*\\rho_1**2*g**2*k_1*v_R**2/(\\alpha_1**2*k_1**2 + 2*\\alpha_1*\\alpha_3*k_1**2 + \\alpha_3**2*k_1**2 + 4*\\rho_1**2*v_R**2) - 2*R_{22}*R_{23}*\\alpha_1*\\rho_1*g**2*k_1*v_R**2/(\\alpha_1**2*k_1**2 + 2*\\alpha_1*\\alpha_3*k_1**2 + \\alpha_3**2*k_1**2 + 4*\\rho_1**2*v_R**2) - 2*R_{22}*R_{23}*\\alpha_3*\\rho_1*g**2*k_1*v_R**2/(\\alpha_1**2*k_1**2 + 2*\\alpha_1*\\alpha_3*k_1**2 + \\alpha_3**2*k_1**2 + 4*\\rho_1**2*v_R**2) + 4*R_{22}*R_{23}*\\rho_1**2*g**2*k_1*v_R**2/(\\alpha_1**2*k_1**2 + 2*\\alpha_1*\\alpha_3*k_1**2 + \\alpha_3**2*k_1**2 + 4*\\rho_1**2*v_R**2) + 2*R_{22}*R_{33}*\\alpha_1*\\rho_1*g*g_{B-L}*k_1*v_R**2/(\\alpha_1**2*k_1**2 + 2*\\alpha_1*\\alpha_3*k_1**2 + \\alpha_3**2*k_1**2 + 4*\\rho_1**2*v_R**2) + 2*R_{22}*R_{33}*\\alpha_3*\\rho_1*g*g_{B-L}*k_1*v_R**2/(\\alpha_1**2*k_1**2 + 2*\\alpha_1*\\alpha_3*k_1**2 + \\alpha_3**2*k_1**2 + 4*\\rho_1**2*v_R**2) + 2*R_{23}*R_{32}*\\alpha_1*\\rho_1*g*g_{B-L}*k_1*v_R**2/(\\alpha_1**2*k_1**2 + 2*\\alpha_1*\\alpha_3*k_1**2 + \\alpha_3**2*k_1**2 + 4*\\rho_1**2*v_R**2) + 2*R_{23}*R_{32}*\\alpha_3*\\rho_1*g*g_{B-L}*k_1*v_R**2/(\\alpha_1**2*k_1**2 + 2*\\alpha_1*\\alpha_3*k_1**2 + \\alpha_3**2*k_1**2 + 4*\\rho_1**2*v_R**2) - 2*R_{32}*R_{33}*\\alpha_1*\\rho_1*g_{B-L}**2*k_1*v_R**2/(\\alpha_1**2*k_1**2 + 2*\\alpha_1*\\alpha_3*k_1**2 + \\alpha_3**2*k_1**2 + 4*\\rho_1**2*v_R**2) - 2*R_{32}*R_{33}*\\alpha_3*\\rho_1*g_{B-L}**2*k_1*v_R**2/(\\alpha_1**2*k_1**2 + 2*\\alpha_1*\\alpha_3*k_1**2 + \\alpha_3**2*k_1**2 + 4*\\rho_1**2*v_R**2)\n",
      "Approximation: \n",
      "\\alpha_1*g**2*k_1*sin(\\theta_W)*sqrt(cos(2*\\theta_W))*tan(\\theta_W)/(2*\\rho_1*cos(\\theta_W)) + \\alpha_1*g*g_{B-L}*k_1*sin(\\theta_W)*tan(\\theta_W)**2/(2*\\rho_1) - \\alpha_1*g*g_{B-L}*k_1*cos(2*\\theta_W)*tan(\\theta_W)/(2*\\rho_1*cos(\\theta_W)) - \\alpha_1*g_{B-L}**2*k_1*sqrt(cos(2*\\theta_W))*tan(\\theta_W)**2/(2*\\rho_1) + \\alpha_3*g**2*k_1*sin(\\theta_W)*sqrt(cos(2*\\theta_W))*tan(\\theta_W)/(2*\\rho_1*cos(\\theta_W)) + \\alpha_3*g*g_{B-L}*k_1*sin(\\theta_W)*tan(\\theta_W)**2/(2*\\rho_1) - \\alpha_3*g*g_{B-L}*k_1*cos(2*\\theta_W)*tan(\\theta_W)/(2*\\rho_1*cos(\\theta_W)) - \\alpha_3*g_{B-L}**2*k_1*sqrt(cos(2*\\theta_W))*tan(\\theta_W)**2/(2*\\rho_1) - g**2*k_1*sin(\\theta_W)*sqrt(cos(2*\\theta_W))*tan(\\theta_W)/cos(\\theta_W) - g**2*k_1*sqrt(cos(2*\\theta_W))\n",
      "Interaction\n",
      "(Z1, Z2, {{G_{Z_1}}})\n",
      "Coefficient\n",
      "I*R_{12}*R_{13}*g**2*k_1 - I*R_{12}*R_{23}*g**2*k_1 - I*R_{13}*R_{22}*g**2*k_1 + I*R_{22}*R_{23}*g**2*k_1\n",
      "Approximation: \n",
      "-I*g**2*k_1*sin(\\theta_W)*sqrt(cos(2*\\theta_W))*tan(\\theta_W)/cos(\\theta_W) - I*g**2*k_1*sqrt(cos(2*\\theta_W))\n",
      "Interaction\n",
      "(Z1, Z2, {{A_1^0}})\n",
      "Coefficient\n",
      "I*R_{12}*R_{13}*g**2*k_2 - I*R_{12}*R_{23}*g**2*k_2 - I*R_{13}*R_{22}*g**2*k_2 + I*R_{22}*R_{23}*g**2*k_2\n",
      "Approximation: \n",
      "In the parroximation this interaction is not present\n",
      "Interaction\n",
      "(Z1, Z2, {{H_3^0}})\n",
      "Coefficient\n",
      "R_{12}*R_{13}*g**2*k_2 - R_{12}*R_{23}*g**2*k_2 - R_{13}*R_{22}*g**2*k_2 + R_{22}*R_{23}*g**2*k_2\n",
      "Approximation: \n",
      "In the parroximation this interaction is not present\n",
      "Interaction\n",
      "(Z1, Z2, {{A_2^0}})\n",
      "Coefficient\n",
      "I*R_{12}*R_{13}*g**2*v_L - I*R_{12}*R_{33}*g*g_{B-L}*v_L - I*R_{13}*R_{32}*g*g_{B-L}*v_L + I*R_{32}*R_{33}*g_{B-L}**2*v_L\n",
      "Approximation: \n",
      "In the parroximation this interaction is not present\n",
      "Interaction\n",
      "(Z1, Z2, {{H_4^0}})\n",
      "Coefficient\n",
      "R_{12}*R_{13}*g**2*v_L - R_{12}*R_{33}*g*g_{B-L}*v_L - R_{13}*R_{32}*g*g_{B-L}*v_L + R_{32}*R_{33}*g_{B-L}**2*v_L\n",
      "Approximation: \n",
      "In the parroximation this interaction is not present\n",
      "Interaction\n",
      "(W_1^+, Z1, {{G_R^-}})\n",
      "Coefficient\n",
      "R_{12}*g**2*k_1**2*v_R*sin(\\xi)/(2*k_1**2 + 2*v_R**2) - R_{22}*g**2*k_1*k_2*v_R*cos(\\xi)/(2*k_1**2 + 2*v_R**2) + R_{32}*g*g_{B-L}*v_R**3*sin(\\xi)/(2*k_1**2 + 2*v_R**2)\n",
      "Approximation: \n",
      "In the parroximation this interaction is not present\n",
      "Interaction\n",
      "(W_1^+, Z1, {{H_R^-}})\n",
      "Coefficient\n",
      "-R_{12}*g**2*k_1*v_R**2*sin(\\xi)/(2*k_1**2 + 2*v_R**2) + R_{22}*g**2*k_2*v_R**2*cos(\\xi)/(2*k_1**2 + 2*v_R**2) + R_{32}*g*g_{B-L}*k_1*v_R**2*sin(\\xi)/(2*k_1**2 + 2*v_R**2)\n",
      "Approximation: \n",
      "In the parroximation this interaction is not present\n",
      "Interaction\n",
      "(W_1^+, Z1, {{G_L^-}})\n",
      "Coefficient\n",
      "R_{12}*g**2*k_2*sin(\\xi)/2 - R_{22}*g**2*k_1*cos(\\xi)/2\n",
      "Approximation: \n",
      "-g**2*k_1*sin(\\theta_W)*tan(\\theta_W)/2\n",
      "Interaction\n",
      "(W_1^-, Z1, {{G_R^+}})\n",
      "Coefficient\n",
      "R_{12}*g**2*k_1**2*v_R*sin(\\xi)/(2*k_1**2 + 2*v_R**2) - R_{22}*g**2*k_1*k_2*v_R*cos(\\xi)/(2*k_1**2 + 2*v_R**2) + R_{32}*g*g_{B-L}*v_R**3*sin(\\xi)/(2*k_1**2 + 2*v_R**2)\n",
      "Approximation: \n",
      "In the parroximation this interaction is not present\n",
      "Interaction\n",
      "(W_1^-, Z1, {{H_R^+}})\n",
      "Coefficient\n",
      "-R_{12}*g**2*k_1*v_R**2*sin(\\xi)/(2*k_1**2 + 2*v_R**2) + R_{22}*g**2*k_2*v_R**2*cos(\\xi)/(2*k_1**2 + 2*v_R**2) + R_{32}*g*g_{B-L}*k_1*v_R**2*sin(\\xi)/(2*k_1**2 + 2*v_R**2)\n",
      "Approximation: \n",
      "In the parroximation this interaction is not present\n",
      "Interaction\n",
      "(W_1^-, Z1, {{G_L^+}})\n",
      "Coefficient\n",
      "R_{12}*g**2*k_2*sin(\\xi)/2 - R_{22}*g**2*k_1*cos(\\xi)/2\n",
      "Approximation: \n",
      "-g**2*k_1*sin(\\theta_W)*tan(\\theta_W)/2\n",
      "Interaction\n",
      "(W_2^+, Z1, {{G_R^-}})\n",
      "Coefficient\n",
      "R_{12}*g**2*k_1**2*v_R*cos(\\xi)/(2*k_1**2 + 2*v_R**2) + R_{22}*g**2*k_1*k_2*v_R*sin(\\xi)/(2*k_1**2 + 2*v_R**2) + R_{32}*g*g_{B-L}*v_R**3*cos(\\xi)/(2*k_1**2 + 2*v_R**2)\n",
      "Approximation: \n",
      "-g**2*k_1**2*cos(\\theta_W)/(2*v_R) + g*g_{B-L}*v_R*sqrt(cos(2*\\theta_W))*tan(\\theta_W)/2\n",
      "Interaction\n",
      "(W_2^+, Z1, {{H_R^-}})\n",
      "Coefficient\n",
      "-R_{12}*g**2*k_1*v_R**2*cos(\\xi)/(2*k_1**2 + 2*v_R**2) - R_{22}*g**2*k_2*v_R**2*sin(\\xi)/(2*k_1**2 + 2*v_R**2) + R_{32}*g*g_{B-L}*k_1*v_R**2*cos(\\xi)/(2*k_1**2 + 2*v_R**2)\n",
      "Approximation: \n",
      "g**2*k_1*cos(\\theta_W)/2 + g*g_{B-L}*k_1*sqrt(cos(2*\\theta_W))*tan(\\theta_W)/2\n",
      "Interaction\n",
      "(W_2^+, Z1, {{G_L^-}})\n",
      "Coefficient\n",
      "R_{12}*g**2*k_2*cos(\\xi)/2 + R_{22}*g**2*k_1*sin(\\xi)/2\n",
      "Approximation: \n",
      "In the parroximation this interaction is not present\n",
      "Interaction\n",
      "(W_2^-, Z1, {{G_R^+}})\n",
      "Coefficient\n",
      "R_{12}*g**2*k_1**2*v_R*cos(\\xi)/(2*k_1**2 + 2*v_R**2) + R_{22}*g**2*k_1*k_2*v_R*sin(\\xi)/(2*k_1**2 + 2*v_R**2) + R_{32}*g*g_{B-L}*v_R**3*cos(\\xi)/(2*k_1**2 + 2*v_R**2)\n",
      "Approximation: \n",
      "-g**2*k_1**2*cos(\\theta_W)/(2*v_R) + g*g_{B-L}*v_R*sqrt(cos(2*\\theta_W))*tan(\\theta_W)/2\n",
      "Interaction\n",
      "(W_2^-, Z1, {{H_R^+}})\n",
      "Coefficient\n",
      "-R_{12}*g**2*k_1*v_R**2*cos(\\xi)/(2*k_1**2 + 2*v_R**2) - R_{22}*g**2*k_2*v_R**2*sin(\\xi)/(2*k_1**2 + 2*v_R**2) + R_{32}*g*g_{B-L}*k_1*v_R**2*cos(\\xi)/(2*k_1**2 + 2*v_R**2)\n",
      "Approximation: \n",
      "g**2*k_1*cos(\\theta_W)/2 + g*g_{B-L}*k_1*sqrt(cos(2*\\theta_W))*tan(\\theta_W)/2\n",
      "Interaction\n",
      "(W_2^-, Z1, {{G_L^+}})\n",
      "Coefficient\n",
      "R_{12}*g**2*k_2*cos(\\xi)/2 + R_{22}*g**2*k_1*sin(\\xi)/2\n",
      "Approximation: \n",
      "In the parroximation this interaction is not present\n",
      "Interaction\n",
      "(Z1, {{G_R^+}}, {{G_R^-}})\n",
      "Coefficient\n",
      "-R_{12}*g*k_1**2*v_R**2*p({{G_R^+}})/(2*k_1**4 + 4*k_1**2*v_R**2 + 2*v_R**4) + R_{12}*g*k_1**2*v_R**2*p({{G_R^-}})/(2*k_1**4 + 4*k_1**2*v_R**2 + 2*v_R**4) - R_{22}*g*k_1**2*v_R**2*p({{G_R^+}})/(2*k_1**4 + 4*k_1**2*v_R**2 + 2*v_R**4) + R_{22}*g*k_1**2*v_R**2*p({{G_R^-}})/(2*k_1**4 + 4*k_1**2*v_R**2 + 2*v_R**4) - R_{22}*g*v_R**4*p({{G_R^+}})/(2*k_1**4 + 4*k_1**2*v_R**2 + 2*v_R**4) + R_{22}*g*v_R**4*p({{G_R^-}})/(2*k_1**4 + 4*k_1**2*v_R**2 + 2*v_R**4) - R_{32}*g_{B-L}*v_R**4*p({{G_R^+}})/(2*k_1**4 + 4*k_1**2*v_R**2 + 2*v_R**4) + R_{32}*g_{B-L}*v_R**4*p({{G_R^-}})/(2*k_1**4 + 4*k_1**2*v_R**2 + 2*v_R**4)\n",
      "Approximation: \n",
      "-g*k_1**2*p({{G_R^+}})*sin(\\theta_W)*tan(\\theta_W)/(2*v_R**2) + g*k_1**2*p({{G_R^+}})*cos(\\theta_W)/(2*v_R**2) + g*k_1**2*p({{G_R^-}})*sin(\\theta_W)*tan(\\theta_W)/(2*v_R**2) - g*k_1**2*p({{G_R^-}})*cos(\\theta_W)/(2*v_R**2) - g*p({{G_R^+}})*sin(\\theta_W)*tan(\\theta_W)/2 + g*p({{G_R^-}})*sin(\\theta_W)*tan(\\theta_W)/2 - g_{B-L}*p({{G_R^+}})*sqrt(cos(2*\\theta_W))*tan(\\theta_W)/2 + g_{B-L}*p({{G_R^-}})*sqrt(cos(2*\\theta_W))*tan(\\theta_W)/2\n",
      "Interaction\n",
      "(Z1, {{G_R^+}}, {{H_R^-}})\n",
      "Coefficient\n",
      "R_{12}*g*k_1*v_R**3*p({{G_R^+}})/(2*k_1**4 + 4*k_1**2*v_R**2 + 2*v_R**4) - R_{12}*g*k_1*v_R**3*p({{H_R^-}})/(2*k_1**4 + 4*k_1**2*v_R**2 + 2*v_R**4) - R_{32}*g_{B-L}*k_1*v_R**3*p({{G_R^+}})/(2*k_1**4 + 4*k_1**2*v_R**2 + 2*v_R**4) + R_{32}*g_{B-L}*k_1*v_R**3*p({{H_R^-}})/(2*k_1**4 + 4*k_1**2*v_R**2 + 2*v_R**4)\n",
      "Approximation: \n",
      "-g*k_1*p({{G_R^+}})*cos(\\theta_W)/(2*v_R) + g*k_1*p({{H_R^-}})*cos(\\theta_W)/(2*v_R) - g_{B-L}*k_1*p({{G_R^+}})*sqrt(cos(2*\\theta_W))*tan(\\theta_W)/(2*v_R) + g_{B-L}*k_1*p({{H_R^-}})*sqrt(cos(2*\\theta_W))*tan(\\theta_W)/(2*v_R)\n",
      "Interaction\n",
      "(Z1, {{G_R^-}}, {{H_R^+}})\n",
      "Coefficient\n",
      "-R_{12}*g*k_1*v_R**3*p({{G_R^-}})/(2*k_1**4 + 4*k_1**2*v_R**2 + 2*v_R**4) + R_{12}*g*k_1*v_R**3*p({{H_R^+}})/(2*k_1**4 + 4*k_1**2*v_R**2 + 2*v_R**4) + R_{32}*g_{B-L}*k_1*v_R**3*p({{G_R^-}})/(2*k_1**4 + 4*k_1**2*v_R**2 + 2*v_R**4) - R_{32}*g_{B-L}*k_1*v_R**3*p({{H_R^+}})/(2*k_1**4 + 4*k_1**2*v_R**2 + 2*v_R**4)\n",
      "Approximation: \n",
      "g*k_1*p({{G_R^-}})*cos(\\theta_W)/(2*v_R) - g*k_1*p({{H_R^+}})*cos(\\theta_W)/(2*v_R) + g_{B-L}*k_1*p({{G_R^-}})*sqrt(cos(2*\\theta_W))*tan(\\theta_W)/(2*v_R) - g_{B-L}*k_1*p({{H_R^+}})*sqrt(cos(2*\\theta_W))*tan(\\theta_W)/(2*v_R)\n",
      "Interaction\n",
      "(Z1, {{H_R^+}}, {{H_R^-}})\n",
      "Coefficient\n",
      "-R_{12}*g*v_R**4*p({{H_R^+}})/(2*k_1**4 + 4*k_1**2*v_R**2 + 2*v_R**4) + R_{12}*g*v_R**4*p({{H_R^-}})/(2*k_1**4 + 4*k_1**2*v_R**2 + 2*v_R**4) - R_{22}*g*k_1**2*v_R**2*p({{H_R^+}})/(2*k_1**4 + 4*k_1**2*v_R**2 + 2*v_R**4) + R_{22}*g*k_1**2*v_R**2*p({{H_R^-}})/(2*k_1**4 + 4*k_1**2*v_R**2 + 2*v_R**4) - R_{22}*g*v_R**4*p({{H_R^+}})/(2*k_1**4 + 4*k_1**2*v_R**2 + 2*v_R**4) + R_{22}*g*v_R**4*p({{H_R^-}})/(2*k_1**4 + 4*k_1**2*v_R**2 + 2*v_R**4) - R_{32}*g_{B-L}*k_1**2*v_R**2*p({{H_R^+}})/(2*k_1**4 + 4*k_1**2*v_R**2 + 2*v_R**4) + R_{32}*g_{B-L}*k_1**2*v_R**2*p({{H_R^-}})/(2*k_1**4 + 4*k_1**2*v_R**2 + 2*v_R**4)\n",
      "Approximation: \n",
      "-g*k_1**2*p({{H_R^+}})*sin(\\theta_W)*tan(\\theta_W)/(2*v_R**2) + g*k_1**2*p({{H_R^-}})*sin(\\theta_W)*tan(\\theta_W)/(2*v_R**2) - g*p({{H_R^+}})*sin(\\theta_W)*tan(\\theta_W)/2 + g*p({{H_R^+}})*cos(\\theta_W)/2 + g*p({{H_R^-}})*sin(\\theta_W)*tan(\\theta_W)/2 - g*p({{H_R^-}})*cos(\\theta_W)/2 - g_{B-L}*k_1**2*p({{H_R^+}})*sqrt(cos(2*\\theta_W))*tan(\\theta_W)/(2*v_R**2) + g_{B-L}*k_1**2*p({{H_R^-}})*sqrt(cos(2*\\theta_W))*tan(\\theta_W)/(2*v_R**2)\n",
      "Interaction\n",
      "(Z1, {{G_L^+}}, {{G_L^-}})\n",
      "Coefficient\n",
      "-R_{12}*g*p({{G_L^+}})/2 + R_{12}*g*p({{G_L^-}})/2 - R_{22}*g*p({{G_L^+}})/2 + R_{22}*g*p({{G_L^-}})/2\n",
      "Approximation: \n",
      "-g*p({{G_L^+}})*sin(\\theta_W)*tan(\\theta_W)/2 + g*p({{G_L^+}})*cos(\\theta_W)/2 + g*p({{G_L^-}})*sin(\\theta_W)*tan(\\theta_W)/2 - g*p({{G_L^-}})*cos(\\theta_W)/2\n",
      "Interaction\n",
      "(Z1, {{H_L^+}}, {{H_L^-}})\n",
      "Coefficient\n",
      "-R_{12}*g*p({{H_L^+}})/2 + R_{12}*g*p({{H_L^-}})/2 - R_{32}*g_{B-L}*p({{H_L^+}})/2 + R_{32}*g_{B-L}*p({{H_L^-}})/2\n",
      "Approximation: \n",
      "g*p({{H_L^+}})*cos(\\theta_W)/2 - g*p({{H_L^-}})*cos(\\theta_W)/2 - g_{B-L}*p({{H_L^+}})*sqrt(cos(2*\\theta_W))*tan(\\theta_W)/2 + g_{B-L}*p({{H_L^-}})*sqrt(cos(2*\\theta_W))*tan(\\theta_W)/2\n",
      "Interaction\n",
      "(Z2, Z2, {{H_2^0}})\n",
      "Coefficient\n",
      "R_{13}**2*\\alpha_1*\\rho_1*g**2*k_1**2*v_R/(\\alpha_1**2*k_1**2 + 2*\\alpha_1*\\alpha_3*k_1**2 + \\alpha_3**2*k_1**2 + 4*\\rho_1**2*v_R**2) + R_{13}**2*\\alpha_3*\\rho_1*g**2*k_1**2*v_R/(\\alpha_1**2*k_1**2 + 2*\\alpha_1*\\alpha_3*k_1**2 + \\alpha_3**2*k_1**2 + 4*\\rho_1**2*v_R**2) - 2*R_{13}*R_{23}*\\alpha_1*\\rho_1*g**2*k_1**2*v_R/(\\alpha_1**2*k_1**2 + 2*\\alpha_1*\\alpha_3*k_1**2 + \\alpha_3**2*k_1**2 + 4*\\rho_1**2*v_R**2) - 2*R_{13}*R_{23}*\\alpha_3*\\rho_1*g**2*k_1**2*v_R/(\\alpha_1**2*k_1**2 + 2*\\alpha_1*\\alpha_3*k_1**2 + \\alpha_3**2*k_1**2 + 4*\\rho_1**2*v_R**2) + R_{23}**2*\\alpha_1*\\rho_1*g**2*k_1**2*v_R/(\\alpha_1**2*k_1**2 + 2*\\alpha_1*\\alpha_3*k_1**2 + \\alpha_3**2*k_1**2 + 4*\\rho_1**2*v_R**2) + R_{23}**2*\\alpha_3*\\rho_1*g**2*k_1**2*v_R/(\\alpha_1**2*k_1**2 + 2*\\alpha_1*\\alpha_3*k_1**2 + \\alpha_3**2*k_1**2 + 4*\\rho_1**2*v_R**2) + 2*R_{23}**2*\\rho_1**2*g**2*v_R**3/(\\alpha_1**2*k_1**2 + 2*\\alpha_1*\\alpha_3*k_1**2 + \\alpha_3**2*k_1**2 + 4*\\rho_1**2*v_R**2) - 4*R_{23}*R_{33}*\\rho_1**2*g*g_{B-L}*v_R**3/(\\alpha_1**2*k_1**2 + 2*\\alpha_1*\\alpha_3*k_1**2 + \\alpha_3**2*k_1**2 + 4*\\rho_1**2*v_R**2) + 2*R_{33}**2*\\rho_1**2*g_{B-L}**2*v_R**3/(\\alpha_1**2*k_1**2 + 2*\\alpha_1*\\alpha_3*k_1**2 + \\alpha_3**2*k_1**2 + 4*\\rho_1**2*v_R**2)\n",
      "Approximation: \n",
      "\\alpha_1*g**2*k_1**2*cos(2*\\theta_W)/(4*\\rho_1*v_R*cos(\\theta_W)**2) + \\alpha_3*g**2*k_1**2*cos(2*\\theta_W)/(4*\\rho_1*v_R*cos(\\theta_W)**2) + g**2*v_R*cos(2*\\theta_W)/(2*cos(\\theta_W)**2) + g*g_{B-L}*v_R*sqrt(cos(2*\\theta_W))*tan(\\theta_W)/cos(\\theta_W) + g_{B-L}**2*v_R*tan(\\theta_W)**2/2\n",
      "Interaction\n",
      "(Z2, Z2, {{H_1^0}})\n",
      "Coefficient\n",
      "2*R_{13}**2*\\rho_1**2*g**2*k_1*v_R**2/(\\alpha_1**2*k_1**2 + 2*\\alpha_1*\\alpha_3*k_1**2 + \\alpha_3**2*k_1**2 + 4*\\rho_1**2*v_R**2) - 4*R_{13}*R_{23}*\\rho_1**2*g**2*k_1*v_R**2/(\\alpha_1**2*k_1**2 + 2*\\alpha_1*\\alpha_3*k_1**2 + \\alpha_3**2*k_1**2 + 4*\\rho_1**2*v_R**2) - R_{23}**2*\\alpha_1*\\rho_1*g**2*k_1*v_R**2/(\\alpha_1**2*k_1**2 + 2*\\alpha_1*\\alpha_3*k_1**2 + \\alpha_3**2*k_1**2 + 4*\\rho_1**2*v_R**2) - R_{23}**2*\\alpha_3*\\rho_1*g**2*k_1*v_R**2/(\\alpha_1**2*k_1**2 + 2*\\alpha_1*\\alpha_3*k_1**2 + \\alpha_3**2*k_1**2 + 4*\\rho_1**2*v_R**2) + 2*R_{23}**2*\\rho_1**2*g**2*k_1*v_R**2/(\\alpha_1**2*k_1**2 + 2*\\alpha_1*\\alpha_3*k_1**2 + \\alpha_3**2*k_1**2 + 4*\\rho_1**2*v_R**2) + 2*R_{23}*R_{33}*\\alpha_1*\\rho_1*g*g_{B-L}*k_1*v_R**2/(\\alpha_1**2*k_1**2 + 2*\\alpha_1*\\alpha_3*k_1**2 + \\alpha_3**2*k_1**2 + 4*\\rho_1**2*v_R**2) + 2*R_{23}*R_{33}*\\alpha_3*\\rho_1*g*g_{B-L}*k_1*v_R**2/(\\alpha_1**2*k_1**2 + 2*\\alpha_1*\\alpha_3*k_1**2 + \\alpha_3**2*k_1**2 + 4*\\rho_1**2*v_R**2) - R_{33}**2*\\alpha_1*\\rho_1*g_{B-L}**2*k_1*v_R**2/(\\alpha_1**2*k_1**2 + 2*\\alpha_1*\\alpha_3*k_1**2 + \\alpha_3**2*k_1**2 + 4*\\rho_1**2*v_R**2) - R_{33}**2*\\alpha_3*\\rho_1*g_{B-L}**2*k_1*v_R**2/(\\alpha_1**2*k_1**2 + 2*\\alpha_1*\\alpha_3*k_1**2 + \\alpha_3**2*k_1**2 + 4*\\rho_1**2*v_R**2)\n",
      "Approximation: \n",
      "-\\alpha_1*g**2*k_1*cos(2*\\theta_W)/(4*\\rho_1*cos(\\theta_W)**2) - \\alpha_1*g*g_{B-L}*k_1*sqrt(cos(2*\\theta_W))*tan(\\theta_W)/(2*\\rho_1*cos(\\theta_W)) - \\alpha_1*g_{B-L}**2*k_1*tan(\\theta_W)**2/(4*\\rho_1) - \\alpha_3*g**2*k_1*cos(2*\\theta_W)/(4*\\rho_1*cos(\\theta_W)**2) - \\alpha_3*g*g_{B-L}*k_1*sqrt(cos(2*\\theta_W))*tan(\\theta_W)/(2*\\rho_1*cos(\\theta_W)) - \\alpha_3*g_{B-L}**2*k_1*tan(\\theta_W)**2/(4*\\rho_1) + g**2*k_1*cos(2*\\theta_W)/(2*cos(\\theta_W)**2)\n",
      "Interaction\n",
      "(Z2, Z2, {{G_{Z_1}}})\n",
      "Coefficient\n",
      "I*R_{13}**2*g**2*k_1/2 - I*R_{13}*R_{23}*g**2*k_1 + I*R_{23}**2*g**2*k_1/2\n",
      "Approximation: \n",
      "I*g**2*k_1*cos(2*\\theta_W)/(2*cos(\\theta_W)**2)\n",
      "Interaction\n",
      "(Z2, Z2, {{A_1^0}})\n",
      "Coefficient\n",
      "I*R_{13}**2*g**2*k_2/2 - I*R_{13}*R_{23}*g**2*k_2 + I*R_{23}**2*g**2*k_2/2\n",
      "Approximation: \n",
      "In the parroximation this interaction is not present\n",
      "Interaction\n",
      "(Z2, Z2, {{H_3^0}})\n",
      "Coefficient\n",
      "R_{13}**2*g**2*k_2/2 - R_{13}*R_{23}*g**2*k_2 + R_{23}**2*g**2*k_2/2\n",
      "Approximation: \n",
      "In the parroximation this interaction is not present\n",
      "Interaction\n",
      "(Z2, Z2, {{A_2^0}})\n",
      "Coefficient\n",
      "I*R_{13}**2*g**2*v_L/2 - I*R_{13}*R_{33}*g*g_{B-L}*v_L + I*R_{33}**2*g_{B-L}**2*v_L/2\n",
      "Approximation: \n",
      "In the parroximation this interaction is not present\n",
      "Interaction\n",
      "(Z2, Z2, {{H_4^0}})\n",
      "Coefficient\n",
      "R_{13}**2*g**2*v_L/2 - R_{13}*R_{33}*g*g_{B-L}*v_L + R_{33}**2*g_{B-L}**2*v_L/2\n",
      "Approximation: \n",
      "In the parroximation this interaction is not present\n",
      "Interaction\n",
      "(W_1^+, Z2, {{G_R^-}})\n",
      "Coefficient\n",
      "R_{13}*g**2*k_1**2*v_R*sin(\\xi)/(2*k_1**2 + 2*v_R**2) - R_{23}*g**2*k_1*k_2*v_R*cos(\\xi)/(2*k_1**2 + 2*v_R**2) + R_{33}*g*g_{B-L}*v_R**3*sin(\\xi)/(2*k_1**2 + 2*v_R**2)\n",
      "Approximation: \n",
      "In the parroximation this interaction is not present\n",
      "Interaction\n",
      "(W_1^+, Z2, {{H_R^-}})\n",
      "Coefficient\n",
      "-R_{13}*g**2*k_1*v_R**2*sin(\\xi)/(2*k_1**2 + 2*v_R**2) + R_{23}*g**2*k_2*v_R**2*cos(\\xi)/(2*k_1**2 + 2*v_R**2) + R_{33}*g*g_{B-L}*k_1*v_R**2*sin(\\xi)/(2*k_1**2 + 2*v_R**2)\n",
      "Approximation: \n",
      "In the parroximation this interaction is not present\n",
      "Interaction\n",
      "(W_1^+, Z2, {{G_L^-}})\n",
      "Coefficient\n",
      "R_{13}*g**2*k_2*sin(\\xi)/2 - R_{23}*g**2*k_1*cos(\\xi)/2\n",
      "Approximation: \n",
      "g**2*k_1*sqrt(cos(2*\\theta_W))/(2*cos(\\theta_W))\n",
      "Interaction\n",
      "(W_1^-, Z2, {{G_R^+}})\n",
      "Coefficient\n",
      "R_{13}*g**2*k_1**2*v_R*sin(\\xi)/(2*k_1**2 + 2*v_R**2) - R_{23}*g**2*k_1*k_2*v_R*cos(\\xi)/(2*k_1**2 + 2*v_R**2) + R_{33}*g*g_{B-L}*v_R**3*sin(\\xi)/(2*k_1**2 + 2*v_R**2)\n",
      "Approximation: \n",
      "In the parroximation this interaction is not present\n",
      "Interaction\n",
      "(W_1^-, Z2, {{H_R^+}})\n",
      "Coefficient\n",
      "-R_{13}*g**2*k_1*v_R**2*sin(\\xi)/(2*k_1**2 + 2*v_R**2) + R_{23}*g**2*k_2*v_R**2*cos(\\xi)/(2*k_1**2 + 2*v_R**2) + R_{33}*g*g_{B-L}*k_1*v_R**2*sin(\\xi)/(2*k_1**2 + 2*v_R**2)\n",
      "Approximation: \n",
      "In the parroximation this interaction is not present\n",
      "Interaction\n",
      "(W_1^-, Z2, {{G_L^+}})\n",
      "Coefficient\n",
      "R_{13}*g**2*k_2*sin(\\xi)/2 - R_{23}*g**2*k_1*cos(\\xi)/2\n",
      "Approximation: \n",
      "g**2*k_1*sqrt(cos(2*\\theta_W))/(2*cos(\\theta_W))\n",
      "Interaction\n",
      "(W_2^+, Z2, {{G_R^-}})\n",
      "Coefficient\n",
      "R_{13}*g**2*k_1**2*v_R*cos(\\xi)/(2*k_1**2 + 2*v_R**2) + R_{23}*g**2*k_1*k_2*v_R*sin(\\xi)/(2*k_1**2 + 2*v_R**2) + R_{33}*g*g_{B-L}*v_R**3*cos(\\xi)/(2*k_1**2 + 2*v_R**2)\n",
      "Approximation: \n",
      "g*g_{B-L}*v_R*tan(\\theta_W)/2\n",
      "Interaction\n",
      "(W_2^+, Z2, {{H_R^-}})\n",
      "Coefficient\n",
      "-R_{13}*g**2*k_1*v_R**2*cos(\\xi)/(2*k_1**2 + 2*v_R**2) - R_{23}*g**2*k_2*v_R**2*sin(\\xi)/(2*k_1**2 + 2*v_R**2) + R_{33}*g*g_{B-L}*k_1*v_R**2*cos(\\xi)/(2*k_1**2 + 2*v_R**2)\n",
      "Approximation: \n",
      "g*g_{B-L}*k_1*tan(\\theta_W)/2\n",
      "Interaction\n",
      "(W_2^+, Z2, {{G_L^-}})\n",
      "Coefficient\n",
      "R_{13}*g**2*k_2*cos(\\xi)/2 + R_{23}*g**2*k_1*sin(\\xi)/2\n",
      "Approximation: \n",
      "In the parroximation this interaction is not present\n",
      "Interaction\n",
      "(W_2^-, Z2, {{G_R^+}})\n",
      "Coefficient\n",
      "R_{13}*g**2*k_1**2*v_R*cos(\\xi)/(2*k_1**2 + 2*v_R**2) + R_{23}*g**2*k_1*k_2*v_R*sin(\\xi)/(2*k_1**2 + 2*v_R**2) + R_{33}*g*g_{B-L}*v_R**3*cos(\\xi)/(2*k_1**2 + 2*v_R**2)\n",
      "Approximation: \n",
      "g*g_{B-L}*v_R*tan(\\theta_W)/2\n",
      "Interaction\n",
      "(W_2^-, Z2, {{H_R^+}})\n",
      "Coefficient\n",
      "-R_{13}*g**2*k_1*v_R**2*cos(\\xi)/(2*k_1**2 + 2*v_R**2) - R_{23}*g**2*k_2*v_R**2*sin(\\xi)/(2*k_1**2 + 2*v_R**2) + R_{33}*g*g_{B-L}*k_1*v_R**2*cos(\\xi)/(2*k_1**2 + 2*v_R**2)\n",
      "Approximation: \n",
      "g*g_{B-L}*k_1*tan(\\theta_W)/2\n",
      "Interaction\n",
      "(W_2^-, Z2, {{G_L^+}})\n",
      "Coefficient\n",
      "R_{13}*g**2*k_2*cos(\\xi)/2 + R_{23}*g**2*k_1*sin(\\xi)/2\n",
      "Approximation: \n",
      "In the parroximation this interaction is not present\n",
      "Interaction\n",
      "(Z2, {{G_R^+}}, {{G_R^-}})\n",
      "Coefficient\n",
      "-R_{13}*g*k_1**2*v_R**2*p({{G_R^+}})/(2*k_1**4 + 4*k_1**2*v_R**2 + 2*v_R**4) + R_{13}*g*k_1**2*v_R**2*p({{G_R^-}})/(2*k_1**4 + 4*k_1**2*v_R**2 + 2*v_R**4) - R_{23}*g*k_1**2*v_R**2*p({{G_R^+}})/(2*k_1**4 + 4*k_1**2*v_R**2 + 2*v_R**4) + R_{23}*g*k_1**2*v_R**2*p({{G_R^-}})/(2*k_1**4 + 4*k_1**2*v_R**2 + 2*v_R**4) - R_{23}*g*v_R**4*p({{G_R^+}})/(2*k_1**4 + 4*k_1**2*v_R**2 + 2*v_R**4) + R_{23}*g*v_R**4*p({{G_R^-}})/(2*k_1**4 + 4*k_1**2*v_R**2 + 2*v_R**4) - R_{33}*g_{B-L}*v_R**4*p({{G_R^+}})/(2*k_1**4 + 4*k_1**2*v_R**2 + 2*v_R**4) + R_{33}*g_{B-L}*v_R**4*p({{G_R^-}})/(2*k_1**4 + 4*k_1**2*v_R**2 + 2*v_R**4)\n",
      "Approximation: \n",
      "g*k_1**2*p({{G_R^+}})*sqrt(cos(2*\\theta_W))/(2*v_R**2*cos(\\theta_W)) - g*k_1**2*p({{G_R^-}})*sqrt(cos(2*\\theta_W))/(2*v_R**2*cos(\\theta_W)) + g*p({{G_R^+}})*sqrt(cos(2*\\theta_W))/(2*cos(\\theta_W)) - g*p({{G_R^-}})*sqrt(cos(2*\\theta_W))/(2*cos(\\theta_W)) - g_{B-L}*p({{G_R^+}})*tan(\\theta_W)/2 + g_{B-L}*p({{G_R^-}})*tan(\\theta_W)/2\n",
      "Interaction\n",
      "(Z2, {{G_R^+}}, {{H_R^-}})\n",
      "Coefficient\n",
      "R_{13}*g*k_1*v_R**3*p({{G_R^+}})/(2*k_1**4 + 4*k_1**2*v_R**2 + 2*v_R**4) - R_{13}*g*k_1*v_R**3*p({{H_R^-}})/(2*k_1**4 + 4*k_1**2*v_R**2 + 2*v_R**4) - R_{33}*g_{B-L}*k_1*v_R**3*p({{G_R^+}})/(2*k_1**4 + 4*k_1**2*v_R**2 + 2*v_R**4) + R_{33}*g_{B-L}*k_1*v_R**3*p({{H_R^-}})/(2*k_1**4 + 4*k_1**2*v_R**2 + 2*v_R**4)\n",
      "Approximation: \n",
      "-g_{B-L}*k_1*p({{G_R^+}})*tan(\\theta_W)/(2*v_R) + g_{B-L}*k_1*p({{H_R^-}})*tan(\\theta_W)/(2*v_R)\n",
      "Interaction\n",
      "(Z2, {{G_R^-}}, {{H_R^+}})\n",
      "Coefficient\n",
      "-R_{13}*g*k_1*v_R**3*p({{G_R^-}})/(2*k_1**4 + 4*k_1**2*v_R**2 + 2*v_R**4) + R_{13}*g*k_1*v_R**3*p({{H_R^+}})/(2*k_1**4 + 4*k_1**2*v_R**2 + 2*v_R**4) + R_{33}*g_{B-L}*k_1*v_R**3*p({{G_R^-}})/(2*k_1**4 + 4*k_1**2*v_R**2 + 2*v_R**4) - R_{33}*g_{B-L}*k_1*v_R**3*p({{H_R^+}})/(2*k_1**4 + 4*k_1**2*v_R**2 + 2*v_R**4)\n",
      "Approximation: \n",
      "g_{B-L}*k_1*p({{G_R^-}})*tan(\\theta_W)/(2*v_R) - g_{B-L}*k_1*p({{H_R^+}})*tan(\\theta_W)/(2*v_R)\n",
      "Interaction\n",
      "(Z2, {{H_R^+}}, {{H_R^-}})\n",
      "Coefficient\n",
      "-R_{13}*g*v_R**4*p({{H_R^+}})/(2*k_1**4 + 4*k_1**2*v_R**2 + 2*v_R**4) + R_{13}*g*v_R**4*p({{H_R^-}})/(2*k_1**4 + 4*k_1**2*v_R**2 + 2*v_R**4) - R_{23}*g*k_1**2*v_R**2*p({{H_R^+}})/(2*k_1**4 + 4*k_1**2*v_R**2 + 2*v_R**4) + R_{23}*g*k_1**2*v_R**2*p({{H_R^-}})/(2*k_1**4 + 4*k_1**2*v_R**2 + 2*v_R**4) - R_{23}*g*v_R**4*p({{H_R^+}})/(2*k_1**4 + 4*k_1**2*v_R**2 + 2*v_R**4) + R_{23}*g*v_R**4*p({{H_R^-}})/(2*k_1**4 + 4*k_1**2*v_R**2 + 2*v_R**4) - R_{33}*g_{B-L}*k_1**2*v_R**2*p({{H_R^+}})/(2*k_1**4 + 4*k_1**2*v_R**2 + 2*v_R**4) + R_{33}*g_{B-L}*k_1**2*v_R**2*p({{H_R^-}})/(2*k_1**4 + 4*k_1**2*v_R**2 + 2*v_R**4)\n",
      "Approximation: \n",
      "g*k_1**2*p({{H_R^+}})*sqrt(cos(2*\\theta_W))/(2*v_R**2*cos(\\theta_W)) - g*k_1**2*p({{H_R^-}})*sqrt(cos(2*\\theta_W))/(2*v_R**2*cos(\\theta_W)) + g*p({{H_R^+}})*sqrt(cos(2*\\theta_W))/(2*cos(\\theta_W)) - g*p({{H_R^-}})*sqrt(cos(2*\\theta_W))/(2*cos(\\theta_W)) - g_{B-L}*k_1**2*p({{H_R^+}})*tan(\\theta_W)/(2*v_R**2) + g_{B-L}*k_1**2*p({{H_R^-}})*tan(\\theta_W)/(2*v_R**2)\n",
      "Interaction\n",
      "(Z2, {{G_L^+}}, {{G_L^-}})\n",
      "Coefficient\n",
      "-R_{13}*g*p({{G_L^+}})/2 + R_{13}*g*p({{G_L^-}})/2 - R_{23}*g*p({{G_L^+}})/2 + R_{23}*g*p({{G_L^-}})/2\n",
      "Approximation: \n",
      "g*p({{G_L^+}})*sqrt(cos(2*\\theta_W))/(2*cos(\\theta_W)) - g*p({{G_L^-}})*sqrt(cos(2*\\theta_W))/(2*cos(\\theta_W))\n",
      "Interaction\n",
      "(Z2, {{H_L^+}}, {{H_L^-}})\n",
      "Coefficient\n",
      "-R_{13}*g*p({{H_L^+}})/2 + R_{13}*g*p({{H_L^-}})/2 - R_{33}*g_{B-L}*p({{H_L^+}})/2 + R_{33}*g_{B-L}*p({{H_L^-}})/2\n",
      "Approximation: \n",
      "-g_{B-L}*p({{H_L^+}})*tan(\\theta_W)/2 + g_{B-L}*p({{H_L^-}})*tan(\\theta_W)/2\n",
      "Interaction\n",
      "(Z1, Z1, {{G_{Z_2}}})\n",
      "Coefficient\n",
      "I*R_{22}**2*g**2*v_R/2 - I*R_{22}*R_{32}*g*g_{B-L}*v_R + I*R_{32}**2*g_{B-L}**2*v_R/2\n",
      "Approximation: \n",
      "I*g**2*v_R*sin(\\theta_W)**2*tan(\\theta_W)**2/2 - I*g*g_{B-L}*v_R*sin(\\theta_W)*sqrt(cos(2*\\theta_W))*tan(\\theta_W)**2 + I*g_{B-L}**2*v_R*cos(2*\\theta_W)*tan(\\theta_W)**2/2\n",
      "Interaction\n",
      "(Z1, Z2, {{G_{Z_2}}})\n",
      "Coefficient\n",
      "I*R_{22}*R_{23}*g**2*v_R - I*R_{22}*R_{33}*g*g_{B-L}*v_R - I*R_{23}*R_{32}*g*g_{B-L}*v_R + I*R_{32}*R_{33}*g_{B-L}**2*v_R\n",
      "Approximation: \n",
      "-I*g**2*v_R*sin(\\theta_W)*sqrt(cos(2*\\theta_W))*tan(\\theta_W)/cos(\\theta_W) - I*g*g_{B-L}*v_R*sin(\\theta_W)*tan(\\theta_W)**2 + I*g*g_{B-L}*v_R*cos(2*\\theta_W)*tan(\\theta_W)/cos(\\theta_W) + I*g_{B-L}**2*v_R*sqrt(cos(2*\\theta_W))*tan(\\theta_W)**2\n",
      "Interaction\n",
      "(Z2, Z2, {{G_{Z_2}}})\n",
      "Coefficient\n",
      "I*R_{23}**2*g**2*v_R/2 - I*R_{23}*R_{33}*g*g_{B-L}*v_R + I*R_{33}**2*g_{B-L}**2*v_R/2\n",
      "Approximation: \n",
      "I*g**2*v_R*cos(2*\\theta_W)/(2*cos(\\theta_W)**2) + I*g*g_{B-L}*v_R*sqrt(cos(2*\\theta_W))*tan(\\theta_W)/cos(\\theta_W) + I*g_{B-L}**2*v_R*tan(\\theta_W)**2/2\n",
      "Interaction\n",
      "(W_1^+, Z1, {{H_L^-}})\n",
      "Coefficient\n",
      "R_{32}*g*g_{B-L}*v_L*cos(\\xi)/2\n",
      "Approximation: \n",
      "In the parroximation this interaction is not present\n",
      "Interaction\n",
      "(W_1^-, Z1, {{H_L^+}})\n",
      "Coefficient\n",
      "R_{32}*g*g_{B-L}*v_L*cos(\\xi)/2\n",
      "Approximation: \n",
      "In the parroximation this interaction is not present\n",
      "Interaction\n",
      "(W_2^+, Z1, {{H_L^-}})\n",
      "Coefficient\n",
      "-R_{32}*g*g_{B-L}*v_L*sin(\\xi)/2\n",
      "Approximation: \n",
      "In the parroximation this interaction is not present\n",
      "Interaction\n",
      "(W_2^-, Z1, {{H_L^+}})\n",
      "Coefficient\n",
      "-R_{32}*g*g_{B-L}*v_L*sin(\\xi)/2\n",
      "Approximation: \n",
      "In the parroximation this interaction is not present\n",
      "Interaction\n",
      "(W_1^+, Z2, {{H_L^-}})\n",
      "Coefficient\n",
      "R_{33}*g*g_{B-L}*v_L*cos(\\xi)/2\n",
      "Approximation: \n",
      "In the parroximation this interaction is not present\n",
      "Interaction\n",
      "(W_1^-, Z2, {{H_L^+}})\n",
      "Coefficient\n",
      "R_{33}*g*g_{B-L}*v_L*cos(\\xi)/2\n",
      "Approximation: \n",
      "In the parroximation this interaction is not present\n",
      "Interaction\n",
      "(W_2^+, Z2, {{H_L^-}})\n",
      "Coefficient\n",
      "-R_{33}*g*g_{B-L}*v_L*sin(\\xi)/2\n",
      "Approximation: \n",
      "In the parroximation this interaction is not present\n",
      "Interaction\n",
      "(W_2^-, Z2, {{H_L^+}})\n",
      "Coefficient\n",
      "-R_{33}*g*g_{B-L}*v_L*sin(\\xi)/2\n",
      "Approximation: \n",
      "In the parroximation this interaction is not present\n",
      "Interaction\n",
      "(W_1^+, W_1^-, {{H_2^0}})\n",
      "Coefficient\n",
      "\\alpha_1*\\rho_1*g**2*k_1**2*v_R*sin(\\xi)**2/(\\alpha_1**2*k_1**2 + 2*\\alpha_1*\\alpha_3*k_1**2 + \\alpha_3**2*k_1**2 + 4*\\rho_1**2*v_R**2) + \\alpha_1*\\rho_1*g**2*k_1**2*v_R*cos(\\xi)**2/(\\alpha_1**2*k_1**2 + 2*\\alpha_1*\\alpha_3*k_1**2 + \\alpha_3**2*k_1**2 + 4*\\rho_1**2*v_R**2) - 2*\\alpha_1*\\rho_1*g**2*k_1*k_2*v_R*sin(\\xi)*cos(\\xi)/(\\alpha_1**2*k_1**2 + 2*\\alpha_1*\\alpha_3*k_1**2 + \\alpha_3**2*k_1**2 + 4*\\rho_1**2*v_R**2) + \\alpha_3*\\rho_1*g**2*k_1**2*v_R*sin(\\xi)**2/(\\alpha_1**2*k_1**2 + 2*\\alpha_1*\\alpha_3*k_1**2 + \\alpha_3**2*k_1**2 + 4*\\rho_1**2*v_R**2) + \\alpha_3*\\rho_1*g**2*k_1**2*v_R*cos(\\xi)**2/(\\alpha_1**2*k_1**2 + 2*\\alpha_1*\\alpha_3*k_1**2 + \\alpha_3**2*k_1**2 + 4*\\rho_1**2*v_R**2) - 2*\\alpha_3*\\rho_1*g**2*k_1*k_2*v_R*sin(\\xi)*cos(\\xi)/(\\alpha_1**2*k_1**2 + 2*\\alpha_1*\\alpha_3*k_1**2 + \\alpha_3**2*k_1**2 + 4*\\rho_1**2*v_R**2) + 2*\\rho_1**2*g**2*v_R**3*sin(\\xi)**2/(\\alpha_1**2*k_1**2 + 2*\\alpha_1*\\alpha_3*k_1**2 + \\alpha_3**2*k_1**2 + 4*\\rho_1**2*v_R**2)\n",
      "Approximation: \n",
      "\\alpha_1*g**2*k_1**2/(4*\\rho_1*v_R) + \\alpha_3*g**2*k_1**2/(4*\\rho_1*v_R)\n",
      "Interaction\n",
      "(W_1^+, W_1^-, {{H_1^0}})\n",
      "Coefficient\n",
      "-\\alpha_1*\\rho_1*g**2*k_1*v_R**2*sin(\\xi)**2/(\\alpha_1**2*k_1**2 + 2*\\alpha_1*\\alpha_3*k_1**2 + \\alpha_3**2*k_1**2 + 4*\\rho_1**2*v_R**2) - \\alpha_3*\\rho_1*g**2*k_1*v_R**2*sin(\\xi)**2/(\\alpha_1**2*k_1**2 + 2*\\alpha_1*\\alpha_3*k_1**2 + \\alpha_3**2*k_1**2 + 4*\\rho_1**2*v_R**2) + 2*\\rho_1**2*g**2*k_1*v_R**2*sin(\\xi)**2/(\\alpha_1**2*k_1**2 + 2*\\alpha_1*\\alpha_3*k_1**2 + \\alpha_3**2*k_1**2 + 4*\\rho_1**2*v_R**2) + 2*\\rho_1**2*g**2*k_1*v_R**2*cos(\\xi)**2/(\\alpha_1**2*k_1**2 + 2*\\alpha_1*\\alpha_3*k_1**2 + \\alpha_3**2*k_1**2 + 4*\\rho_1**2*v_R**2) - 4*\\rho_1**2*g**2*k_2*v_R**2*sin(\\xi)*cos(\\xi)/(\\alpha_1**2*k_1**2 + 2*\\alpha_1*\\alpha_3*k_1**2 + \\alpha_3**2*k_1**2 + 4*\\rho_1**2*v_R**2)\n",
      "Approximation: \n",
      "g**2*k_1/2\n",
      "Interaction\n",
      "(W_1^+, W_1^-, {{A_1^0}})\n",
      "Coefficient\n",
      "-I*g**2*k_1*sin(\\xi)*cos(\\xi) + I*g**2*k_2*sin(\\xi)**2/2 + I*g**2*k_2*cos(\\xi)**2/2\n",
      "Approximation: \n",
      "In the parroximation this interaction is not present\n",
      "Interaction\n",
      "(W_1^+, W_1^-, {{G_{Z_1}}})\n",
      "Coefficient\n",
      "I*g**2*k_1*sin(\\xi)**2/2 + I*g**2*k_1*cos(\\xi)**2/2 - I*g**2*k_2*sin(\\xi)*cos(\\xi)\n",
      "Approximation: \n",
      "I*g**2*k_1/2\n",
      "Interaction\n",
      "(W_1^+, W_1^-, {{H_3^0}})\n",
      "Coefficient\n",
      "-g**2*k_1*sin(\\xi)*cos(\\xi) + g**2*k_2*sin(\\xi)**2/2 + g**2*k_2*cos(\\xi)**2/2\n",
      "Approximation: \n",
      "In the parroximation this interaction is not present\n",
      "Interaction\n",
      "(W_1^+, W_1^-, {{A_2^0}})\n",
      "Coefficient\n",
      "I*g**2*v_L*cos(\\xi)**2/2\n",
      "Approximation: \n",
      "In the parroximation this interaction is not present\n",
      "Interaction\n",
      "(W_1^+, W_1^-, {{H_4^0}})\n",
      "Coefficient\n",
      "g**2*v_L*cos(\\xi)**2/2\n",
      "Approximation: \n",
      "In the parroximation this interaction is not present\n",
      "Interaction\n",
      "(W_1^+, W_1^-, {{G_{Z_2}}})\n",
      "Coefficient\n",
      "I*g**2*v_R*sin(\\xi)**2/2\n",
      "Approximation: \n",
      "In the parroximation this interaction is not present\n",
      "Interaction\n",
      "(W_1^+, W_2^-, {{H_2^0}})\n",
      "Coefficient\n",
      "\\alpha_1*\\rho_1*g**2*k_1*k_2*v_R*sin(\\xi)**2/(\\alpha_1**2*k_1**2 + 2*\\alpha_1*\\alpha_3*k_1**2 + \\alpha_3**2*k_1**2 + 4*\\rho_1**2*v_R**2) - \\alpha_1*\\rho_1*g**2*k_1*k_2*v_R*cos(\\xi)**2/(\\alpha_1**2*k_1**2 + 2*\\alpha_1*\\alpha_3*k_1**2 + \\alpha_3**2*k_1**2 + 4*\\rho_1**2*v_R**2) + \\alpha_3*\\rho_1*g**2*k_1*k_2*v_R*sin(\\xi)**2/(\\alpha_1**2*k_1**2 + 2*\\alpha_1*\\alpha_3*k_1**2 + \\alpha_3**2*k_1**2 + 4*\\rho_1**2*v_R**2) - \\alpha_3*\\rho_1*g**2*k_1*k_2*v_R*cos(\\xi)**2/(\\alpha_1**2*k_1**2 + 2*\\alpha_1*\\alpha_3*k_1**2 + \\alpha_3**2*k_1**2 + 4*\\rho_1**2*v_R**2) + 2*\\rho_1**2*g**2*v_R**3*sin(\\xi)*cos(\\xi)/(\\alpha_1**2*k_1**2 + 2*\\alpha_1*\\alpha_3*k_1**2 + \\alpha_3**2*k_1**2 + 4*\\rho_1**2*v_R**2)\n",
      "Approximation: \n",
      "In the parroximation this interaction is not present\n",
      "Interaction\n",
      "(W_1^+, W_2^-, {{H_1^0}})\n",
      "Coefficient\n",
      "-\\alpha_1*\\rho_1*g**2*k_1*v_R**2*sin(\\xi)*cos(\\xi)/(\\alpha_1**2*k_1**2 + 2*\\alpha_1*\\alpha_3*k_1**2 + \\alpha_3**2*k_1**2 + 4*\\rho_1**2*v_R**2) - \\alpha_3*\\rho_1*g**2*k_1*v_R**2*sin(\\xi)*cos(\\xi)/(\\alpha_1**2*k_1**2 + 2*\\alpha_1*\\alpha_3*k_1**2 + \\alpha_3**2*k_1**2 + 4*\\rho_1**2*v_R**2) + 2*\\rho_1**2*g**2*k_2*v_R**2*sin(\\xi)**2/(\\alpha_1**2*k_1**2 + 2*\\alpha_1*\\alpha_3*k_1**2 + \\alpha_3**2*k_1**2 + 4*\\rho_1**2*v_R**2) - 2*\\rho_1**2*g**2*k_2*v_R**2*cos(\\xi)**2/(\\alpha_1**2*k_1**2 + 2*\\alpha_1*\\alpha_3*k_1**2 + \\alpha_3**2*k_1**2 + 4*\\rho_1**2*v_R**2)\n",
      "Approximation: \n",
      "In the parroximation this interaction is not present\n",
      "Interaction\n",
      "(W_1^+, W_2^-, {{A_1^0}})\n",
      "Coefficient\n",
      "I*g**2*k_1*sin(\\xi)**2/2 - I*g**2*k_1*cos(\\xi)**2/2\n",
      "Approximation: \n",
      "-I*g**2*k_1/2\n",
      "Interaction\n",
      "(W_1^+, W_2^-, {{H_3^0}})\n",
      "Coefficient\n",
      "g**2*k_1*sin(\\xi)**2/2 - g**2*k_1*cos(\\xi)**2/2\n",
      "Approximation: \n",
      "-g**2*k_1/2\n",
      "Interaction\n",
      "(W_1^+, W_2^-, {{G_{Z_1}}})\n",
      "Coefficient\n",
      "I*g**2*k_2*sin(\\xi)**2/2 - I*g**2*k_2*cos(\\xi)**2/2\n",
      "Approximation: \n",
      "In the parroximation this interaction is not present\n",
      "Interaction\n",
      "(W_1^+, W_2^-, {{A_2^0}})\n",
      "Coefficient\n",
      "-I*g**2*v_L*sin(\\xi)*cos(\\xi)/2\n",
      "Approximation: \n",
      "In the parroximation this interaction is not present\n",
      "Interaction\n",
      "(W_1^+, W_2^-, {{H_4^0}})\n",
      "Coefficient\n",
      "-g**2*v_L*sin(\\xi)*cos(\\xi)/2\n",
      "Approximation: \n",
      "In the parroximation this interaction is not present\n",
      "Interaction\n",
      "(W_1^+, W_2^-, {{G_{Z_2}}})\n",
      "Coefficient\n",
      "I*g**2*v_R*sin(\\xi)*cos(\\xi)/2\n",
      "Approximation: \n",
      "In the parroximation this interaction is not present\n",
      "Interaction\n",
      "(W_1^+, {{G_R^-}}, {{H_2^0}})\n",
      "Coefficient\n",
      "\\alpha_1*\\rho_1*g*k_1**2*v_R**2*p({{G_R^-}})*sin(\\xi)/(\\alpha_1**2*k_1**4 + \\alpha_1**2*k_1**2*v_R**2 + 2*\\alpha_1*\\alpha_3*k_1**4 + 2*\\alpha_1*\\alpha_3*k_1**2*v_R**2 + \\alpha_3**2*k_1**4 + \\alpha_3**2*k_1**2*v_R**2 + 4*\\rho_1**2*k_1**2*v_R**2 + 4*\\rho_1**2*v_R**4) - \\alpha_1*\\rho_1*g*k_1**2*v_R**2*p({{H_2^0}})*sin(\\xi)/(\\alpha_1**2*k_1**4 + \\alpha_1**2*k_1**2*v_R**2 + 2*\\alpha_1*\\alpha_3*k_1**4 + 2*\\alpha_1*\\alpha_3*k_1**2*v_R**2 + \\alpha_3**2*k_1**4 + \\alpha_3**2*k_1**2*v_R**2 + 4*\\rho_1**2*k_1**2*v_R**2 + 4*\\rho_1**2*v_R**4) + \\alpha_3*\\rho_1*g*k_1**2*v_R**2*p({{G_R^-}})*sin(\\xi)/(\\alpha_1**2*k_1**4 + \\alpha_1**2*k_1**2*v_R**2 + 2*\\alpha_1*\\alpha_3*k_1**4 + 2*\\alpha_1*\\alpha_3*k_1**2*v_R**2 + \\alpha_3**2*k_1**4 + \\alpha_3**2*k_1**2*v_R**2 + 4*\\rho_1**2*k_1**2*v_R**2 + 4*\\rho_1**2*v_R**4) - \\alpha_3*\\rho_1*g*k_1**2*v_R**2*p({{H_2^0}})*sin(\\xi)/(\\alpha_1**2*k_1**4 + \\alpha_1**2*k_1**2*v_R**2 + 2*\\alpha_1*\\alpha_3*k_1**4 + 2*\\alpha_1*\\alpha_3*k_1**2*v_R**2 + \\alpha_3**2*k_1**4 + \\alpha_3**2*k_1**2*v_R**2 + 4*\\rho_1**2*k_1**2*v_R**2 + 4*\\rho_1**2*v_R**4) + 2*\\rho_1**2*g*v_R**4*p({{G_R^-}})*sin(\\xi)/(\\alpha_1**2*k_1**4 + \\alpha_1**2*k_1**2*v_R**2 + 2*\\alpha_1*\\alpha_3*k_1**4 + 2*\\alpha_1*\\alpha_3*k_1**2*v_R**2 + \\alpha_3**2*k_1**4 + \\alpha_3**2*k_1**2*v_R**2 + 4*\\rho_1**2*k_1**2*v_R**2 + 4*\\rho_1**2*v_R**4) - 2*\\rho_1**2*g*v_R**4*p({{H_2^0}})*sin(\\xi)/(\\alpha_1**2*k_1**4 + \\alpha_1**2*k_1**2*v_R**2 + 2*\\alpha_1*\\alpha_3*k_1**4 + 2*\\alpha_1*\\alpha_3*k_1**2*v_R**2 + \\alpha_3**2*k_1**4 + \\alpha_3**2*k_1**2*v_R**2 + 4*\\rho_1**2*k_1**2*v_R**2 + 4*\\rho_1**2*v_R**4)\n",
      "Approximation: \n",
      "In the parroximation this interaction is not present\n",
      "Interaction\n",
      "(W_1^+, {{H_1^0}}, {{H_R^-}})\n",
      "Coefficient\n",
      "\\alpha_1*\\rho_1*g*k_1**2*v_R**2*p({{H_1^0}})*sin(\\xi)/(\\alpha_1**2*k_1**4 + \\alpha_1**2*k_1**2*v_R**2 + 2*\\alpha_1*\\alpha_3*k_1**4 + 2*\\alpha_1*\\alpha_3*k_1**2*v_R**2 + \\alpha_3**2*k_1**4 + \\alpha_3**2*k_1**2*v_R**2 + 4*\\rho_1**2*k_1**2*v_R**2 + 4*\\rho_1**2*v_R**4) - \\alpha_1*\\rho_1*g*k_1**2*v_R**2*p({{H_R^-}})*sin(\\xi)/(\\alpha_1**2*k_1**4 + \\alpha_1**2*k_1**2*v_R**2 + 2*\\alpha_1*\\alpha_3*k_1**4 + 2*\\alpha_1*\\alpha_3*k_1**2*v_R**2 + \\alpha_3**2*k_1**4 + \\alpha_3**2*k_1**2*v_R**2 + 4*\\rho_1**2*k_1**2*v_R**2 + 4*\\rho_1**2*v_R**4) + \\alpha_3*\\rho_1*g*k_1**2*v_R**2*p({{H_1^0}})*sin(\\xi)/(\\alpha_1**2*k_1**4 + \\alpha_1**2*k_1**2*v_R**2 + 2*\\alpha_1*\\alpha_3*k_1**4 + 2*\\alpha_1*\\alpha_3*k_1**2*v_R**2 + \\alpha_3**2*k_1**4 + \\alpha_3**2*k_1**2*v_R**2 + 4*\\rho_1**2*k_1**2*v_R**2 + 4*\\rho_1**2*v_R**4) - \\alpha_3*\\rho_1*g*k_1**2*v_R**2*p({{H_R^-}})*sin(\\xi)/(\\alpha_1**2*k_1**4 + \\alpha_1**2*k_1**2*v_R**2 + 2*\\alpha_1*\\alpha_3*k_1**4 + 2*\\alpha_1*\\alpha_3*k_1**2*v_R**2 + \\alpha_3**2*k_1**4 + \\alpha_3**2*k_1**2*v_R**2 + 4*\\rho_1**2*k_1**2*v_R**2 + 4*\\rho_1**2*v_R**4) + 2*\\rho_1**2*g*v_R**4*p({{H_1^0}})*sin(\\xi)/(\\alpha_1**2*k_1**4 + \\alpha_1**2*k_1**2*v_R**2 + 2*\\alpha_1*\\alpha_3*k_1**4 + 2*\\alpha_1*\\alpha_3*k_1**2*v_R**2 + \\alpha_3**2*k_1**4 + \\alpha_3**2*k_1**2*v_R**2 + 4*\\rho_1**2*k_1**2*v_R**2 + 4*\\rho_1**2*v_R**4) - 2*\\rho_1**2*g*v_R**4*p({{H_R^-}})*sin(\\xi)/(\\alpha_1**2*k_1**4 + \\alpha_1**2*k_1**2*v_R**2 + 2*\\alpha_1*\\alpha_3*k_1**4 + 2*\\alpha_1*\\alpha_3*k_1**2*v_R**2 + \\alpha_3**2*k_1**4 + \\alpha_3**2*k_1**2*v_R**2 + 4*\\rho_1**2*k_1**2*v_R**2 + 4*\\rho_1**2*v_R**4)\n",
      "Approximation: \n",
      "In the parroximation this interaction is not present\n",
      "Interaction\n",
      "(W_1^+, {{G_R^-}}, {{H_1^0}})\n",
      "Coefficient\n",
      "-\\alpha_1*\\rho_1*g*k_1*v_R**3*p({{G_R^-}})*sin(\\xi)/(\\alpha_1**2*k_1**4 + \\alpha_1**2*k_1**2*v_R**2 + 2*\\alpha_1*\\alpha_3*k_1**4 + 2*\\alpha_1*\\alpha_3*k_1**2*v_R**2 + \\alpha_3**2*k_1**4 + \\alpha_3**2*k_1**2*v_R**2 + 4*\\rho_1**2*k_1**2*v_R**2 + 4*\\rho_1**2*v_R**4) + \\alpha_1*\\rho_1*g*k_1*v_R**3*p({{H_1^0}})*sin(\\xi)/(\\alpha_1**2*k_1**4 + \\alpha_1**2*k_1**2*v_R**2 + 2*\\alpha_1*\\alpha_3*k_1**4 + 2*\\alpha_1*\\alpha_3*k_1**2*v_R**2 + \\alpha_3**2*k_1**4 + \\alpha_3**2*k_1**2*v_R**2 + 4*\\rho_1**2*k_1**2*v_R**2 + 4*\\rho_1**2*v_R**4) - \\alpha_3*\\rho_1*g*k_1*v_R**3*p({{G_R^-}})*sin(\\xi)/(\\alpha_1**2*k_1**4 + \\alpha_1**2*k_1**2*v_R**2 + 2*\\alpha_1*\\alpha_3*k_1**4 + 2*\\alpha_1*\\alpha_3*k_1**2*v_R**2 + \\alpha_3**2*k_1**4 + \\alpha_3**2*k_1**2*v_R**2 + 4*\\rho_1**2*k_1**2*v_R**2 + 4*\\rho_1**2*v_R**4) + \\alpha_3*\\rho_1*g*k_1*v_R**3*p({{H_1^0}})*sin(\\xi)/(\\alpha_1**2*k_1**4 + \\alpha_1**2*k_1**2*v_R**2 + 2*\\alpha_1*\\alpha_3*k_1**4 + 2*\\alpha_1*\\alpha_3*k_1**2*v_R**2 + \\alpha_3**2*k_1**4 + \\alpha_3**2*k_1**2*v_R**2 + 4*\\rho_1**2*k_1**2*v_R**2 + 4*\\rho_1**2*v_R**4) + 2*\\rho_1**2*g*k_1*v_R**3*p({{G_R^-}})*sin(\\xi)/(\\alpha_1**2*k_1**4 + \\alpha_1**2*k_1**2*v_R**2 + 2*\\alpha_1*\\alpha_3*k_1**4 + 2*\\alpha_1*\\alpha_3*k_1**2*v_R**2 + \\alpha_3**2*k_1**4 + \\alpha_3**2*k_1**2*v_R**2 + 4*\\rho_1**2*k_1**2*v_R**2 + 4*\\rho_1**2*v_R**4) - 2*\\rho_1**2*g*k_1*v_R**3*p({{H_1^0}})*sin(\\xi)/(\\alpha_1**2*k_1**4 + \\alpha_1**2*k_1**2*v_R**2 + 2*\\alpha_1*\\alpha_3*k_1**4 + 2*\\alpha_1*\\alpha_3*k_1**2*v_R**2 + \\alpha_3**2*k_1**4 + \\alpha_3**2*k_1**2*v_R**2 + 4*\\rho_1**2*k_1**2*v_R**2 + 4*\\rho_1**2*v_R**4)\n",
      "Approximation: \n",
      "In the parroximation this interaction is not present\n",
      "Interaction\n",
      "(W_1^+, {{H_2^0}}, {{H_R^-}})\n",
      "Coefficient\n",
      "\\alpha_1*\\rho_1*g*k_1*v_R**3*p({{H_2^0}})*sin(\\xi)/(\\alpha_1**2*k_1**4 + \\alpha_1**2*k_1**2*v_R**2 + 2*\\alpha_1*\\alpha_3*k_1**4 + 2*\\alpha_1*\\alpha_3*k_1**2*v_R**2 + \\alpha_3**2*k_1**4 + \\alpha_3**2*k_1**2*v_R**2 + 4*\\rho_1**2*k_1**2*v_R**2 + 4*\\rho_1**2*v_R**4) - \\alpha_1*\\rho_1*g*k_1*v_R**3*p({{H_R^-}})*sin(\\xi)/(\\alpha_1**2*k_1**4 + \\alpha_1**2*k_1**2*v_R**2 + 2*\\alpha_1*\\alpha_3*k_1**4 + 2*\\alpha_1*\\alpha_3*k_1**2*v_R**2 + \\alpha_3**2*k_1**4 + \\alpha_3**2*k_1**2*v_R**2 + 4*\\rho_1**2*k_1**2*v_R**2 + 4*\\rho_1**2*v_R**4) + \\alpha_3*\\rho_1*g*k_1*v_R**3*p({{H_2^0}})*sin(\\xi)/(\\alpha_1**2*k_1**4 + \\alpha_1**2*k_1**2*v_R**2 + 2*\\alpha_1*\\alpha_3*k_1**4 + 2*\\alpha_1*\\alpha_3*k_1**2*v_R**2 + \\alpha_3**2*k_1**4 + \\alpha_3**2*k_1**2*v_R**2 + 4*\\rho_1**2*k_1**2*v_R**2 + 4*\\rho_1**2*v_R**4) - \\alpha_3*\\rho_1*g*k_1*v_R**3*p({{H_R^-}})*sin(\\xi)/(\\alpha_1**2*k_1**4 + \\alpha_1**2*k_1**2*v_R**2 + 2*\\alpha_1*\\alpha_3*k_1**4 + 2*\\alpha_1*\\alpha_3*k_1**2*v_R**2 + \\alpha_3**2*k_1**4 + \\alpha_3**2*k_1**2*v_R**2 + 4*\\rho_1**2*k_1**2*v_R**2 + 4*\\rho_1**2*v_R**4) - 2*\\rho_1**2*g*k_1*v_R**3*p({{H_2^0}})*sin(\\xi)/(\\alpha_1**2*k_1**4 + \\alpha_1**2*k_1**2*v_R**2 + 2*\\alpha_1*\\alpha_3*k_1**4 + 2*\\alpha_1*\\alpha_3*k_1**2*v_R**2 + \\alpha_3**2*k_1**4 + \\alpha_3**2*k_1**2*v_R**2 + 4*\\rho_1**2*k_1**2*v_R**2 + 4*\\rho_1**2*v_R**4) + 2*\\rho_1**2*g*k_1*v_R**3*p({{H_R^-}})*sin(\\xi)/(\\alpha_1**2*k_1**4 + \\alpha_1**2*k_1**2*v_R**2 + 2*\\alpha_1*\\alpha_3*k_1**4 + 2*\\alpha_1*\\alpha_3*k_1**2*v_R**2 + \\alpha_3**2*k_1**4 + \\alpha_3**2*k_1**2*v_R**2 + 4*\\rho_1**2*k_1**2*v_R**2 + 4*\\rho_1**2*v_R**4)\n",
      "Approximation: \n",
      "In the parroximation this interaction is not present\n",
      "Interaction\n",
      "(W_1^+, {{G_L^-}}, {{H_2^0}})\n",
      "Coefficient\n",
      "-\\alpha_1*\\rho_1*g*k_1*v_R*p({{G_L^-}})*cos(\\xi)/(\\alpha_1**2*k_1**2 + 2*\\alpha_1*\\alpha_3*k_1**2 + \\alpha_3**2*k_1**2 + 4*\\rho_1**2*v_R**2) + \\alpha_1*\\rho_1*g*k_1*v_R*p({{H_2^0}})*cos(\\xi)/(\\alpha_1**2*k_1**2 + 2*\\alpha_1*\\alpha_3*k_1**2 + \\alpha_3**2*k_1**2 + 4*\\rho_1**2*v_R**2) - \\alpha_3*\\rho_1*g*k_1*v_R*p({{G_L^-}})*cos(\\xi)/(\\alpha_1**2*k_1**2 + 2*\\alpha_1*\\alpha_3*k_1**2 + \\alpha_3**2*k_1**2 + 4*\\rho_1**2*v_R**2) + \\alpha_3*\\rho_1*g*k_1*v_R*p({{H_2^0}})*cos(\\xi)/(\\alpha_1**2*k_1**2 + 2*\\alpha_1*\\alpha_3*k_1**2 + \\alpha_3**2*k_1**2 + 4*\\rho_1**2*v_R**2)\n",
      "Approximation: \n",
      "-\\alpha_1*g*k_1*p({{G_L^-}})/(4*\\rho_1*v_R) + \\alpha_1*g*k_1*p({{H_2^0}})/(4*\\rho_1*v_R) - \\alpha_3*g*k_1*p({{G_L^-}})/(4*\\rho_1*v_R) + \\alpha_3*g*k_1*p({{H_2^0}})/(4*\\rho_1*v_R)\n",
      "Interaction\n",
      "(W_1^+, {{G_L^-}}, {{H_1^0}})\n",
      "Coefficient\n",
      "-2*\\rho_1**2*g*v_R**2*p({{G_L^-}})*cos(\\xi)/(\\alpha_1**2*k_1**2 + 2*\\alpha_1*\\alpha_3*k_1**2 + \\alpha_3**2*k_1**2 + 4*\\rho_1**2*v_R**2) + 2*\\rho_1**2*g*v_R**2*p({{H_1^0}})*cos(\\xi)/(\\alpha_1**2*k_1**2 + 2*\\alpha_1*\\alpha_3*k_1**2 + \\alpha_3**2*k_1**2 + 4*\\rho_1**2*v_R**2)\n",
      "Approximation: \n",
      "-g*p({{G_L^-}})/2 + g*p({{H_1^0}})/2\n",
      "Interaction\n",
      "(W_1^+, {{A_1^0}}, {{G_R^-}})\n",
      "Coefficient\n",
      "I*g*k_1*v_R*p({{A_1^0}})*cos(\\xi)/(2*k_1**2 + 2*v_R**2) - I*g*k_1*v_R*p({{G_R^-}})*cos(\\xi)/(2*k_1**2 + 2*v_R**2)\n",
      "Approximation: \n",
      "I*g*k_1*p({{A_1^0}})/(2*v_R) - I*g*k_1*p({{G_R^-}})/(2*v_R)\n",
      "Interaction\n",
      "(W_1^+, {{G_R^-}}, {{G_{Z_1}}})\n",
      "Coefficient\n",
      "I*g*k_1*v_R*p({{G_R^-}})*sin(\\xi)/(2*k_1**2 + 2*v_R**2) - I*g*k_1*v_R*p({{G_{Z_1}}})*sin(\\xi)/(2*k_1**2 + 2*v_R**2)\n",
      "Approximation: \n",
      "In the parroximation this interaction is not present\n",
      "Interaction\n",
      "(W_1^+, {{G_R^-}}, {{H_3^0}})\n",
      "Coefficient\n",
      "-g*k_1*v_R*p({{G_R^-}})*cos(\\xi)/(2*k_1**2 + 2*v_R**2) + g*k_1*v_R*p({{H_3^0}})*cos(\\xi)/(2*k_1**2 + 2*v_R**2)\n",
      "Approximation: \n",
      "-g*k_1*p({{G_R^-}})/(2*v_R) + g*k_1*p({{H_3^0}})/(2*v_R)\n",
      "Interaction\n",
      "(W_1^+, {{G_{Z_2}}}, {{H_R^-}})\n",
      "Coefficient\n",
      "-I*g*k_1*v_R*p({{G_{Z_2}}})*sin(\\xi)/(2*k_1**2 + 2*v_R**2) + I*g*k_1*v_R*p({{H_R^-}})*sin(\\xi)/(2*k_1**2 + 2*v_R**2)\n",
      "Approximation: \n",
      "In the parroximation this interaction is not present\n",
      "Interaction\n",
      "(W_1^+, {{A_1^0}}, {{H_R^-}})\n",
      "Coefficient\n",
      "-I*g*v_R**2*p({{A_1^0}})*cos(\\xi)/(2*k_1**2 + 2*v_R**2) + I*g*v_R**2*p({{H_R^-}})*cos(\\xi)/(2*k_1**2 + 2*v_R**2)\n",
      "Approximation: \n",
      "-I*g*p({{A_1^0}})/2 + I*g*p({{H_R^-}})/2\n",
      "Interaction\n",
      "(W_1^+, {{G_R^-}}, {{G_{Z_2}}})\n",
      "Coefficient\n",
      "I*g*v_R**2*p({{G_R^-}})*sin(\\xi)/(2*k_1**2 + 2*v_R**2) - I*g*v_R**2*p({{G_{Z_2}}})*sin(\\xi)/(2*k_1**2 + 2*v_R**2)\n",
      "Approximation: \n",
      "In the parroximation this interaction is not present\n",
      "Interaction\n",
      "(W_1^+, {{G_{Z_1}}}, {{H_R^-}})\n",
      "Coefficient\n",
      "I*g*v_R**2*p({{G_{Z_1}}})*sin(\\xi)/(2*k_1**2 + 2*v_R**2) - I*g*v_R**2*p({{H_R^-}})*sin(\\xi)/(2*k_1**2 + 2*v_R**2)\n",
      "Approximation: \n",
      "In the parroximation this interaction is not present\n",
      "Interaction\n",
      "(W_1^+, {{H_3^0}}, {{H_R^-}})\n",
      "Coefficient\n",
      "-g*v_R**2*p({{H_3^0}})*cos(\\xi)/(2*k_1**2 + 2*v_R**2) + g*v_R**2*p({{H_R^-}})*cos(\\xi)/(2*k_1**2 + 2*v_R**2)\n",
      "Approximation: \n",
      "-g*p({{H_3^0}})/2 + g*p({{H_R^-}})/2\n",
      "Interaction\n",
      "(W_1^+, {{A_1^0}}, {{G_L^-}})\n",
      "Coefficient\n",
      "-I*g*p({{A_1^0}})*sin(\\xi)/2 + I*g*p({{G_L^-}})*sin(\\xi)/2\n",
      "Approximation: \n",
      "In the parroximation this interaction is not present\n",
      "Interaction\n",
      "(W_1^+, {{A_2^0}}, {{H_L^-}})\n",
      "Coefficient\n",
      "-I*g*p({{A_2^0}})*cos(\\xi)/2 + I*g*p({{H_L^-}})*cos(\\xi)/2\n",
      "Approximation: \n",
      "-I*g*p({{A_2^0}})/2 + I*g*p({{H_L^-}})/2\n",
      "Interaction\n",
      "(W_1^+, {{G_L^-}}, {{G_{Z_1}}})\n",
      "Coefficient\n",
      "-I*g*p({{G_L^-}})*cos(\\xi)/2 + I*g*p({{G_{Z_1}}})*cos(\\xi)/2\n",
      "Approximation: \n",
      "-I*g*p({{G_L^-}})/2 + I*g*p({{G_{Z_1}}})/2\n",
      "Interaction\n",
      "(W_1^+, {{G_L^-}}, {{H_3^0}})\n",
      "Coefficient\n",
      "g*p({{G_L^-}})*sin(\\xi)/2 - g*p({{H_3^0}})*sin(\\xi)/2\n",
      "Approximation: \n",
      "In the parroximation this interaction is not present\n",
      "Interaction\n",
      "(W_1^+, {{H_4^0}}, {{H_L^-}})\n",
      "Coefficient\n",
      "-g*p({{H_4^0}})*cos(\\xi)/2 + g*p({{H_L^-}})*cos(\\xi)/2\n",
      "Approximation: \n",
      "-g*p({{H_4^0}})/2 + g*p({{H_L^-}})/2\n",
      "Interaction\n",
      "(W_1^-, W_2^+, {{H_2^0}})\n",
      "Coefficient\n",
      "\\alpha_1*\\rho_1*g**2*k_1*k_2*v_R*sin(\\xi)**2/(\\alpha_1**2*k_1**2 + 2*\\alpha_1*\\alpha_3*k_1**2 + \\alpha_3**2*k_1**2 + 4*\\rho_1**2*v_R**2) - \\alpha_1*\\rho_1*g**2*k_1*k_2*v_R*cos(\\xi)**2/(\\alpha_1**2*k_1**2 + 2*\\alpha_1*\\alpha_3*k_1**2 + \\alpha_3**2*k_1**2 + 4*\\rho_1**2*v_R**2) + \\alpha_3*\\rho_1*g**2*k_1*k_2*v_R*sin(\\xi)**2/(\\alpha_1**2*k_1**2 + 2*\\alpha_1*\\alpha_3*k_1**2 + \\alpha_3**2*k_1**2 + 4*\\rho_1**2*v_R**2) - \\alpha_3*\\rho_1*g**2*k_1*k_2*v_R*cos(\\xi)**2/(\\alpha_1**2*k_1**2 + 2*\\alpha_1*\\alpha_3*k_1**2 + \\alpha_3**2*k_1**2 + 4*\\rho_1**2*v_R**2) + 2*\\rho_1**2*g**2*v_R**3*sin(\\xi)*cos(\\xi)/(\\alpha_1**2*k_1**2 + 2*\\alpha_1*\\alpha_3*k_1**2 + \\alpha_3**2*k_1**2 + 4*\\rho_1**2*v_R**2)\n",
      "Approximation: \n",
      "In the parroximation this interaction is not present\n",
      "Interaction\n",
      "(W_1^-, W_2^+, {{H_1^0}})\n",
      "Coefficient\n",
      "-\\alpha_1*\\rho_1*g**2*k_1*v_R**2*sin(\\xi)*cos(\\xi)/(\\alpha_1**2*k_1**2 + 2*\\alpha_1*\\alpha_3*k_1**2 + \\alpha_3**2*k_1**2 + 4*\\rho_1**2*v_R**2) - \\alpha_3*\\rho_1*g**2*k_1*v_R**2*sin(\\xi)*cos(\\xi)/(\\alpha_1**2*k_1**2 + 2*\\alpha_1*\\alpha_3*k_1**2 + \\alpha_3**2*k_1**2 + 4*\\rho_1**2*v_R**2) + 2*\\rho_1**2*g**2*k_2*v_R**2*sin(\\xi)**2/(\\alpha_1**2*k_1**2 + 2*\\alpha_1*\\alpha_3*k_1**2 + \\alpha_3**2*k_1**2 + 4*\\rho_1**2*v_R**2) - 2*\\rho_1**2*g**2*k_2*v_R**2*cos(\\xi)**2/(\\alpha_1**2*k_1**2 + 2*\\alpha_1*\\alpha_3*k_1**2 + \\alpha_3**2*k_1**2 + 4*\\rho_1**2*v_R**2)\n",
      "Approximation: \n",
      "In the parroximation this interaction is not present\n",
      "Interaction\n",
      "(W_1^-, W_2^+, {{A_1^0}})\n",
      "Coefficient\n",
      "I*g**2*k_1*sin(\\xi)**2/2 - I*g**2*k_1*cos(\\xi)**2/2\n",
      "Approximation: \n",
      "-I*g**2*k_1/2\n",
      "Interaction\n",
      "(W_1^-, W_2^+, {{H_3^0}})\n",
      "Coefficient\n",
      "g**2*k_1*sin(\\xi)**2/2 - g**2*k_1*cos(\\xi)**2/2\n",
      "Approximation: \n",
      "-g**2*k_1/2\n",
      "Interaction\n",
      "(W_1^-, W_2^+, {{G_{Z_1}}})\n",
      "Coefficient\n",
      "I*g**2*k_2*sin(\\xi)**2/2 - I*g**2*k_2*cos(\\xi)**2/2\n",
      "Approximation: \n",
      "In the parroximation this interaction is not present\n",
      "Interaction\n",
      "(W_1^-, W_2^+, {{A_2^0}})\n",
      "Coefficient\n",
      "-I*g**2*v_L*sin(\\xi)*cos(\\xi)/2\n",
      "Approximation: \n",
      "In the parroximation this interaction is not present\n",
      "Interaction\n",
      "(W_1^-, W_2^+, {{H_4^0}})\n",
      "Coefficient\n",
      "-g**2*v_L*sin(\\xi)*cos(\\xi)/2\n",
      "Approximation: \n",
      "In the parroximation this interaction is not present\n",
      "Interaction\n",
      "(W_1^-, W_2^+, {{G_{Z_2}}})\n",
      "Coefficient\n",
      "I*g**2*v_R*sin(\\xi)*cos(\\xi)/2\n",
      "Approximation: \n",
      "In the parroximation this interaction is not present\n",
      "Interaction\n",
      "(W_1^-, {{G_R^+}}, {{H_2^0}})\n",
      "Coefficient\n",
      "-\\alpha_1*\\rho_1*g*k_1**2*v_R**2*p({{G_R^+}})*sin(\\xi)/(\\alpha_1**2*k_1**4 + \\alpha_1**2*k_1**2*v_R**2 + 2*\\alpha_1*\\alpha_3*k_1**4 + 2*\\alpha_1*\\alpha_3*k_1**2*v_R**2 + \\alpha_3**2*k_1**4 + \\alpha_3**2*k_1**2*v_R**2 + 4*\\rho_1**2*k_1**2*v_R**2 + 4*\\rho_1**2*v_R**4) + \\alpha_1*\\rho_1*g*k_1**2*v_R**2*p({{H_2^0}})*sin(\\xi)/(\\alpha_1**2*k_1**4 + \\alpha_1**2*k_1**2*v_R**2 + 2*\\alpha_1*\\alpha_3*k_1**4 + 2*\\alpha_1*\\alpha_3*k_1**2*v_R**2 + \\alpha_3**2*k_1**4 + \\alpha_3**2*k_1**2*v_R**2 + 4*\\rho_1**2*k_1**2*v_R**2 + 4*\\rho_1**2*v_R**4) - \\alpha_3*\\rho_1*g*k_1**2*v_R**2*p({{G_R^+}})*sin(\\xi)/(\\alpha_1**2*k_1**4 + \\alpha_1**2*k_1**2*v_R**2 + 2*\\alpha_1*\\alpha_3*k_1**4 + 2*\\alpha_1*\\alpha_3*k_1**2*v_R**2 + \\alpha_3**2*k_1**4 + \\alpha_3**2*k_1**2*v_R**2 + 4*\\rho_1**2*k_1**2*v_R**2 + 4*\\rho_1**2*v_R**4) + \\alpha_3*\\rho_1*g*k_1**2*v_R**2*p({{H_2^0}})*sin(\\xi)/(\\alpha_1**2*k_1**4 + \\alpha_1**2*k_1**2*v_R**2 + 2*\\alpha_1*\\alpha_3*k_1**4 + 2*\\alpha_1*\\alpha_3*k_1**2*v_R**2 + \\alpha_3**2*k_1**4 + \\alpha_3**2*k_1**2*v_R**2 + 4*\\rho_1**2*k_1**2*v_R**2 + 4*\\rho_1**2*v_R**4) - 2*\\rho_1**2*g*v_R**4*p({{G_R^+}})*sin(\\xi)/(\\alpha_1**2*k_1**4 + \\alpha_1**2*k_1**2*v_R**2 + 2*\\alpha_1*\\alpha_3*k_1**4 + 2*\\alpha_1*\\alpha_3*k_1**2*v_R**2 + \\alpha_3**2*k_1**4 + \\alpha_3**2*k_1**2*v_R**2 + 4*\\rho_1**2*k_1**2*v_R**2 + 4*\\rho_1**2*v_R**4) + 2*\\rho_1**2*g*v_R**4*p({{H_2^0}})*sin(\\xi)/(\\alpha_1**2*k_1**4 + \\alpha_1**2*k_1**2*v_R**2 + 2*\\alpha_1*\\alpha_3*k_1**4 + 2*\\alpha_1*\\alpha_3*k_1**2*v_R**2 + \\alpha_3**2*k_1**4 + \\alpha_3**2*k_1**2*v_R**2 + 4*\\rho_1**2*k_1**2*v_R**2 + 4*\\rho_1**2*v_R**4)\n",
      "Approximation: \n",
      "In the parroximation this interaction is not present\n",
      "Interaction\n",
      "(W_1^-, {{H_1^0}}, {{H_R^+}})\n",
      "Coefficient\n",
      "-\\alpha_1*\\rho_1*g*k_1**2*v_R**2*p({{H_1^0}})*sin(\\xi)/(\\alpha_1**2*k_1**4 + \\alpha_1**2*k_1**2*v_R**2 + 2*\\alpha_1*\\alpha_3*k_1**4 + 2*\\alpha_1*\\alpha_3*k_1**2*v_R**2 + \\alpha_3**2*k_1**4 + \\alpha_3**2*k_1**2*v_R**2 + 4*\\rho_1**2*k_1**2*v_R**2 + 4*\\rho_1**2*v_R**4) + \\alpha_1*\\rho_1*g*k_1**2*v_R**2*p({{H_R^+}})*sin(\\xi)/(\\alpha_1**2*k_1**4 + \\alpha_1**2*k_1**2*v_R**2 + 2*\\alpha_1*\\alpha_3*k_1**4 + 2*\\alpha_1*\\alpha_3*k_1**2*v_R**2 + \\alpha_3**2*k_1**4 + \\alpha_3**2*k_1**2*v_R**2 + 4*\\rho_1**2*k_1**2*v_R**2 + 4*\\rho_1**2*v_R**4) - \\alpha_3*\\rho_1*g*k_1**2*v_R**2*p({{H_1^0}})*sin(\\xi)/(\\alpha_1**2*k_1**4 + \\alpha_1**2*k_1**2*v_R**2 + 2*\\alpha_1*\\alpha_3*k_1**4 + 2*\\alpha_1*\\alpha_3*k_1**2*v_R**2 + \\alpha_3**2*k_1**4 + \\alpha_3**2*k_1**2*v_R**2 + 4*\\rho_1**2*k_1**2*v_R**2 + 4*\\rho_1**2*v_R**4) + \\alpha_3*\\rho_1*g*k_1**2*v_R**2*p({{H_R^+}})*sin(\\xi)/(\\alpha_1**2*k_1**4 + \\alpha_1**2*k_1**2*v_R**2 + 2*\\alpha_1*\\alpha_3*k_1**4 + 2*\\alpha_1*\\alpha_3*k_1**2*v_R**2 + \\alpha_3**2*k_1**4 + \\alpha_3**2*k_1**2*v_R**2 + 4*\\rho_1**2*k_1**2*v_R**2 + 4*\\rho_1**2*v_R**4) - 2*\\rho_1**2*g*v_R**4*p({{H_1^0}})*sin(\\xi)/(\\alpha_1**2*k_1**4 + \\alpha_1**2*k_1**2*v_R**2 + 2*\\alpha_1*\\alpha_3*k_1**4 + 2*\\alpha_1*\\alpha_3*k_1**2*v_R**2 + \\alpha_3**2*k_1**4 + \\alpha_3**2*k_1**2*v_R**2 + 4*\\rho_1**2*k_1**2*v_R**2 + 4*\\rho_1**2*v_R**4) + 2*\\rho_1**2*g*v_R**4*p({{H_R^+}})*sin(\\xi)/(\\alpha_1**2*k_1**4 + \\alpha_1**2*k_1**2*v_R**2 + 2*\\alpha_1*\\alpha_3*k_1**4 + 2*\\alpha_1*\\alpha_3*k_1**2*v_R**2 + \\alpha_3**2*k_1**4 + \\alpha_3**2*k_1**2*v_R**2 + 4*\\rho_1**2*k_1**2*v_R**2 + 4*\\rho_1**2*v_R**4)\n",
      "Approximation: \n",
      "In the parroximation this interaction is not present\n",
      "Interaction\n",
      "(W_1^-, {{G_R^+}}, {{H_1^0}})\n",
      "Coefficient\n",
      "\\alpha_1*\\rho_1*g*k_1*v_R**3*p({{G_R^+}})*sin(\\xi)/(\\alpha_1**2*k_1**4 + \\alpha_1**2*k_1**2*v_R**2 + 2*\\alpha_1*\\alpha_3*k_1**4 + 2*\\alpha_1*\\alpha_3*k_1**2*v_R**2 + \\alpha_3**2*k_1**4 + \\alpha_3**2*k_1**2*v_R**2 + 4*\\rho_1**2*k_1**2*v_R**2 + 4*\\rho_1**2*v_R**4) - \\alpha_1*\\rho_1*g*k_1*v_R**3*p({{H_1^0}})*sin(\\xi)/(\\alpha_1**2*k_1**4 + \\alpha_1**2*k_1**2*v_R**2 + 2*\\alpha_1*\\alpha_3*k_1**4 + 2*\\alpha_1*\\alpha_3*k_1**2*v_R**2 + \\alpha_3**2*k_1**4 + \\alpha_3**2*k_1**2*v_R**2 + 4*\\rho_1**2*k_1**2*v_R**2 + 4*\\rho_1**2*v_R**4) + \\alpha_3*\\rho_1*g*k_1*v_R**3*p({{G_R^+}})*sin(\\xi)/(\\alpha_1**2*k_1**4 + \\alpha_1**2*k_1**2*v_R**2 + 2*\\alpha_1*\\alpha_3*k_1**4 + 2*\\alpha_1*\\alpha_3*k_1**2*v_R**2 + \\alpha_3**2*k_1**4 + \\alpha_3**2*k_1**2*v_R**2 + 4*\\rho_1**2*k_1**2*v_R**2 + 4*\\rho_1**2*v_R**4) - \\alpha_3*\\rho_1*g*k_1*v_R**3*p({{H_1^0}})*sin(\\xi)/(\\alpha_1**2*k_1**4 + \\alpha_1**2*k_1**2*v_R**2 + 2*\\alpha_1*\\alpha_3*k_1**4 + 2*\\alpha_1*\\alpha_3*k_1**2*v_R**2 + \\alpha_3**2*k_1**4 + \\alpha_3**2*k_1**2*v_R**2 + 4*\\rho_1**2*k_1**2*v_R**2 + 4*\\rho_1**2*v_R**4) - 2*\\rho_1**2*g*k_1*v_R**3*p({{G_R^+}})*sin(\\xi)/(\\alpha_1**2*k_1**4 + \\alpha_1**2*k_1**2*v_R**2 + 2*\\alpha_1*\\alpha_3*k_1**4 + 2*\\alpha_1*\\alpha_3*k_1**2*v_R**2 + \\alpha_3**2*k_1**4 + \\alpha_3**2*k_1**2*v_R**2 + 4*\\rho_1**2*k_1**2*v_R**2 + 4*\\rho_1**2*v_R**4) + 2*\\rho_1**2*g*k_1*v_R**3*p({{H_1^0}})*sin(\\xi)/(\\alpha_1**2*k_1**4 + \\alpha_1**2*k_1**2*v_R**2 + 2*\\alpha_1*\\alpha_3*k_1**4 + 2*\\alpha_1*\\alpha_3*k_1**2*v_R**2 + \\alpha_3**2*k_1**4 + \\alpha_3**2*k_1**2*v_R**2 + 4*\\rho_1**2*k_1**2*v_R**2 + 4*\\rho_1**2*v_R**4)\n",
      "Approximation: \n",
      "In the parroximation this interaction is not present\n",
      "Interaction\n",
      "(W_1^-, {{H_2^0}}, {{H_R^+}})\n",
      "Coefficient\n",
      "-\\alpha_1*\\rho_1*g*k_1*v_R**3*p({{H_2^0}})*sin(\\xi)/(\\alpha_1**2*k_1**4 + \\alpha_1**2*k_1**2*v_R**2 + 2*\\alpha_1*\\alpha_3*k_1**4 + 2*\\alpha_1*\\alpha_3*k_1**2*v_R**2 + \\alpha_3**2*k_1**4 + \\alpha_3**2*k_1**2*v_R**2 + 4*\\rho_1**2*k_1**2*v_R**2 + 4*\\rho_1**2*v_R**4) + \\alpha_1*\\rho_1*g*k_1*v_R**3*p({{H_R^+}})*sin(\\xi)/(\\alpha_1**2*k_1**4 + \\alpha_1**2*k_1**2*v_R**2 + 2*\\alpha_1*\\alpha_3*k_1**4 + 2*\\alpha_1*\\alpha_3*k_1**2*v_R**2 + \\alpha_3**2*k_1**4 + \\alpha_3**2*k_1**2*v_R**2 + 4*\\rho_1**2*k_1**2*v_R**2 + 4*\\rho_1**2*v_R**4) - \\alpha_3*\\rho_1*g*k_1*v_R**3*p({{H_2^0}})*sin(\\xi)/(\\alpha_1**2*k_1**4 + \\alpha_1**2*k_1**2*v_R**2 + 2*\\alpha_1*\\alpha_3*k_1**4 + 2*\\alpha_1*\\alpha_3*k_1**2*v_R**2 + \\alpha_3**2*k_1**4 + \\alpha_3**2*k_1**2*v_R**2 + 4*\\rho_1**2*k_1**2*v_R**2 + 4*\\rho_1**2*v_R**4) + \\alpha_3*\\rho_1*g*k_1*v_R**3*p({{H_R^+}})*sin(\\xi)/(\\alpha_1**2*k_1**4 + \\alpha_1**2*k_1**2*v_R**2 + 2*\\alpha_1*\\alpha_3*k_1**4 + 2*\\alpha_1*\\alpha_3*k_1**2*v_R**2 + \\alpha_3**2*k_1**4 + \\alpha_3**2*k_1**2*v_R**2 + 4*\\rho_1**2*k_1**2*v_R**2 + 4*\\rho_1**2*v_R**4) + 2*\\rho_1**2*g*k_1*v_R**3*p({{H_2^0}})*sin(\\xi)/(\\alpha_1**2*k_1**4 + \\alpha_1**2*k_1**2*v_R**2 + 2*\\alpha_1*\\alpha_3*k_1**4 + 2*\\alpha_1*\\alpha_3*k_1**2*v_R**2 + \\alpha_3**2*k_1**4 + \\alpha_3**2*k_1**2*v_R**2 + 4*\\rho_1**2*k_1**2*v_R**2 + 4*\\rho_1**2*v_R**4) - 2*\\rho_1**2*g*k_1*v_R**3*p({{H_R^+}})*sin(\\xi)/(\\alpha_1**2*k_1**4 + \\alpha_1**2*k_1**2*v_R**2 + 2*\\alpha_1*\\alpha_3*k_1**4 + 2*\\alpha_1*\\alpha_3*k_1**2*v_R**2 + \\alpha_3**2*k_1**4 + \\alpha_3**2*k_1**2*v_R**2 + 4*\\rho_1**2*k_1**2*v_R**2 + 4*\\rho_1**2*v_R**4)\n",
      "Approximation: \n",
      "In the parroximation this interaction is not present\n",
      "Interaction\n",
      "(W_1^-, {{G_L^+}}, {{H_2^0}})\n",
      "Coefficient\n",
      "\\alpha_1*\\rho_1*g*k_1*v_R*p({{G_L^+}})*cos(\\xi)/(\\alpha_1**2*k_1**2 + 2*\\alpha_1*\\alpha_3*k_1**2 + \\alpha_3**2*k_1**2 + 4*\\rho_1**2*v_R**2) - \\alpha_1*\\rho_1*g*k_1*v_R*p({{H_2^0}})*cos(\\xi)/(\\alpha_1**2*k_1**2 + 2*\\alpha_1*\\alpha_3*k_1**2 + \\alpha_3**2*k_1**2 + 4*\\rho_1**2*v_R**2) + \\alpha_3*\\rho_1*g*k_1*v_R*p({{G_L^+}})*cos(\\xi)/(\\alpha_1**2*k_1**2 + 2*\\alpha_1*\\alpha_3*k_1**2 + \\alpha_3**2*k_1**2 + 4*\\rho_1**2*v_R**2) - \\alpha_3*\\rho_1*g*k_1*v_R*p({{H_2^0}})*cos(\\xi)/(\\alpha_1**2*k_1**2 + 2*\\alpha_1*\\alpha_3*k_1**2 + \\alpha_3**2*k_1**2 + 4*\\rho_1**2*v_R**2)\n",
      "Approximation: \n",
      "\\alpha_1*g*k_1*p({{G_L^+}})/(4*\\rho_1*v_R) - \\alpha_1*g*k_1*p({{H_2^0}})/(4*\\rho_1*v_R) + \\alpha_3*g*k_1*p({{G_L^+}})/(4*\\rho_1*v_R) - \\alpha_3*g*k_1*p({{H_2^0}})/(4*\\rho_1*v_R)\n",
      "Interaction\n",
      "(W_1^-, {{G_L^+}}, {{H_1^0}})\n",
      "Coefficient\n",
      "2*\\rho_1**2*g*v_R**2*p({{G_L^+}})*cos(\\xi)/(\\alpha_1**2*k_1**2 + 2*\\alpha_1*\\alpha_3*k_1**2 + \\alpha_3**2*k_1**2 + 4*\\rho_1**2*v_R**2) - 2*\\rho_1**2*g*v_R**2*p({{H_1^0}})*cos(\\xi)/(\\alpha_1**2*k_1**2 + 2*\\alpha_1*\\alpha_3*k_1**2 + \\alpha_3**2*k_1**2 + 4*\\rho_1**2*v_R**2)\n",
      "Approximation: \n",
      "g*p({{G_L^+}})/2 - g*p({{H_1^0}})/2\n",
      "Interaction\n",
      "(W_1^-, {{A_1^0}}, {{G_R^+}})\n",
      "Coefficient\n",
      "-I*g*k_1*v_R*p({{A_1^0}})*cos(\\xi)/(2*k_1**2 + 2*v_R**2) + I*g*k_1*v_R*p({{G_R^+}})*cos(\\xi)/(2*k_1**2 + 2*v_R**2)\n",
      "Approximation: \n",
      "-I*g*k_1*p({{A_1^0}})/(2*v_R) + I*g*k_1*p({{G_R^+}})/(2*v_R)\n",
      "Interaction\n",
      "(W_1^-, {{G_R^+}}, {{G_{Z_1}}})\n",
      "Coefficient\n",
      "-I*g*k_1*v_R*p({{G_R^+}})*sin(\\xi)/(2*k_1**2 + 2*v_R**2) + I*g*k_1*v_R*p({{G_{Z_1}}})*sin(\\xi)/(2*k_1**2 + 2*v_R**2)\n",
      "Approximation: \n",
      "In the parroximation this interaction is not present\n",
      "Interaction\n",
      "(W_1^-, {{G_R^+}}, {{H_3^0}})\n",
      "Coefficient\n",
      "g*k_1*v_R*p({{G_R^+}})*cos(\\xi)/(2*k_1**2 + 2*v_R**2) - g*k_1*v_R*p({{H_3^0}})*cos(\\xi)/(2*k_1**2 + 2*v_R**2)\n",
      "Approximation: \n",
      "g*k_1*p({{G_R^+}})/(2*v_R) - g*k_1*p({{H_3^0}})/(2*v_R)\n",
      "Interaction\n",
      "(W_1^-, {{G_{Z_2}}}, {{H_R^+}})\n",
      "Coefficient\n",
      "I*g*k_1*v_R*p({{G_{Z_2}}})*sin(\\xi)/(2*k_1**2 + 2*v_R**2) - I*g*k_1*v_R*p({{H_R^+}})*sin(\\xi)/(2*k_1**2 + 2*v_R**2)\n",
      "Approximation: \n",
      "In the parroximation this interaction is not present\n",
      "Interaction\n",
      "(W_1^-, {{A_1^0}}, {{H_R^+}})\n",
      "Coefficient\n",
      "I*g*v_R**2*p({{A_1^0}})*cos(\\xi)/(2*k_1**2 + 2*v_R**2) - I*g*v_R**2*p({{H_R^+}})*cos(\\xi)/(2*k_1**2 + 2*v_R**2)\n",
      "Approximation: \n",
      "I*g*p({{A_1^0}})/2 - I*g*p({{H_R^+}})/2\n",
      "Interaction\n",
      "(W_1^-, {{G_R^+}}, {{G_{Z_2}}})\n",
      "Coefficient\n",
      "-I*g*v_R**2*p({{G_R^+}})*sin(\\xi)/(2*k_1**2 + 2*v_R**2) + I*g*v_R**2*p({{G_{Z_2}}})*sin(\\xi)/(2*k_1**2 + 2*v_R**2)\n",
      "Approximation: \n",
      "In the parroximation this interaction is not present\n",
      "Interaction\n",
      "(W_1^-, {{G_{Z_1}}}, {{H_R^+}})\n",
      "Coefficient\n",
      "-I*g*v_R**2*p({{G_{Z_1}}})*sin(\\xi)/(2*k_1**2 + 2*v_R**2) + I*g*v_R**2*p({{H_R^+}})*sin(\\xi)/(2*k_1**2 + 2*v_R**2)\n",
      "Approximation: \n",
      "In the parroximation this interaction is not present\n",
      "Interaction\n",
      "(W_1^-, {{H_3^0}}, {{H_R^+}})\n",
      "Coefficient\n",
      "g*v_R**2*p({{H_3^0}})*cos(\\xi)/(2*k_1**2 + 2*v_R**2) - g*v_R**2*p({{H_R^+}})*cos(\\xi)/(2*k_1**2 + 2*v_R**2)\n",
      "Approximation: \n",
      "g*p({{H_3^0}})/2 - g*p({{H_R^+}})/2\n",
      "Interaction\n",
      "(W_1^-, {{A_1^0}}, {{G_L^+}})\n",
      "Coefficient\n",
      "I*g*p({{A_1^0}})*sin(\\xi)/2 - I*g*p({{G_L^+}})*sin(\\xi)/2\n",
      "Approximation: \n",
      "In the parroximation this interaction is not present\n",
      "Interaction\n",
      "(W_1^-, {{A_2^0}}, {{H_L^+}})\n",
      "Coefficient\n",
      "I*g*p({{A_2^0}})*cos(\\xi)/2 - I*g*p({{H_L^+}})*cos(\\xi)/2\n",
      "Approximation: \n",
      "I*g*p({{A_2^0}})/2 - I*g*p({{H_L^+}})/2\n",
      "Interaction\n",
      "(W_1^-, {{G_L^+}}, {{G_{Z_1}}})\n",
      "Coefficient\n",
      "I*g*p({{G_L^+}})*cos(\\xi)/2 - I*g*p({{G_{Z_1}}})*cos(\\xi)/2\n",
      "Approximation: \n",
      "I*g*p({{G_L^+}})/2 - I*g*p({{G_{Z_1}}})/2\n",
      "Interaction\n",
      "(W_1^-, {{G_L^+}}, {{H_3^0}})\n",
      "Coefficient\n",
      "-g*p({{G_L^+}})*sin(\\xi)/2 + g*p({{H_3^0}})*sin(\\xi)/2\n",
      "Approximation: \n",
      "In the parroximation this interaction is not present\n",
      "Interaction\n",
      "(W_1^-, {{H_4^0}}, {{H_L^+}})\n",
      "Coefficient\n",
      "g*p({{H_4^0}})*cos(\\xi)/2 - g*p({{H_L^+}})*cos(\\xi)/2\n",
      "Approximation: \n",
      "g*p({{H_4^0}})/2 - g*p({{H_L^+}})/2\n",
      "Interaction\n",
      "(W_2^+, W_2^-, {{H_2^0}})\n",
      "Coefficient\n",
      "\\alpha_1*\\rho_1*g**2*k_1**2*v_R*sin(\\xi)**2/(\\alpha_1**2*k_1**2 + 2*\\alpha_1*\\alpha_3*k_1**2 + \\alpha_3**2*k_1**2 + 4*\\rho_1**2*v_R**2) + \\alpha_1*\\rho_1*g**2*k_1**2*v_R*cos(\\xi)**2/(\\alpha_1**2*k_1**2 + 2*\\alpha_1*\\alpha_3*k_1**2 + \\alpha_3**2*k_1**2 + 4*\\rho_1**2*v_R**2) + 2*\\alpha_1*\\rho_1*g**2*k_1*k_2*v_R*sin(\\xi)*cos(\\xi)/(\\alpha_1**2*k_1**2 + 2*\\alpha_1*\\alpha_3*k_1**2 + \\alpha_3**2*k_1**2 + 4*\\rho_1**2*v_R**2) + \\alpha_3*\\rho_1*g**2*k_1**2*v_R*sin(\\xi)**2/(\\alpha_1**2*k_1**2 + 2*\\alpha_1*\\alpha_3*k_1**2 + \\alpha_3**2*k_1**2 + 4*\\rho_1**2*v_R**2) + \\alpha_3*\\rho_1*g**2*k_1**2*v_R*cos(\\xi)**2/(\\alpha_1**2*k_1**2 + 2*\\alpha_1*\\alpha_3*k_1**2 + \\alpha_3**2*k_1**2 + 4*\\rho_1**2*v_R**2) + 2*\\alpha_3*\\rho_1*g**2*k_1*k_2*v_R*sin(\\xi)*cos(\\xi)/(\\alpha_1**2*k_1**2 + 2*\\alpha_1*\\alpha_3*k_1**2 + \\alpha_3**2*k_1**2 + 4*\\rho_1**2*v_R**2) + 2*\\rho_1**2*g**2*v_R**3*cos(\\xi)**2/(\\alpha_1**2*k_1**2 + 2*\\alpha_1*\\alpha_3*k_1**2 + \\alpha_3**2*k_1**2 + 4*\\rho_1**2*v_R**2)\n",
      "Approximation: \n",
      "\\alpha_1*g**2*k_1**2/(4*\\rho_1*v_R) + \\alpha_3*g**2*k_1**2/(4*\\rho_1*v_R) + g**2*v_R/2\n",
      "Interaction\n",
      "(W_2^+, W_2^-, {{H_1^0}})\n",
      "Coefficient\n",
      "-\\alpha_1*\\rho_1*g**2*k_1*v_R**2*cos(\\xi)**2/(\\alpha_1**2*k_1**2 + 2*\\alpha_1*\\alpha_3*k_1**2 + \\alpha_3**2*k_1**2 + 4*\\rho_1**2*v_R**2) - \\alpha_3*\\rho_1*g**2*k_1*v_R**2*cos(\\xi)**2/(\\alpha_1**2*k_1**2 + 2*\\alpha_1*\\alpha_3*k_1**2 + \\alpha_3**2*k_1**2 + 4*\\rho_1**2*v_R**2) + 2*\\rho_1**2*g**2*k_1*v_R**2*sin(\\xi)**2/(\\alpha_1**2*k_1**2 + 2*\\alpha_1*\\alpha_3*k_1**2 + \\alpha_3**2*k_1**2 + 4*\\rho_1**2*v_R**2) + 2*\\rho_1**2*g**2*k_1*v_R**2*cos(\\xi)**2/(\\alpha_1**2*k_1**2 + 2*\\alpha_1*\\alpha_3*k_1**2 + \\alpha_3**2*k_1**2 + 4*\\rho_1**2*v_R**2) + 4*\\rho_1**2*g**2*k_2*v_R**2*sin(\\xi)*cos(\\xi)/(\\alpha_1**2*k_1**2 + 2*\\alpha_1*\\alpha_3*k_1**2 + \\alpha_3**2*k_1**2 + 4*\\rho_1**2*v_R**2)\n",
      "Approximation: \n",
      "-\\alpha_1*g**2*k_1/(4*\\rho_1) - \\alpha_3*g**2*k_1/(4*\\rho_1) + g**2*k_1/2\n",
      "Interaction\n",
      "(W_2^+, W_2^-, {{A_1^0}})\n",
      "Coefficient\n",
      "I*g**2*k_1*sin(\\xi)*cos(\\xi) + I*g**2*k_2*sin(\\xi)**2/2 + I*g**2*k_2*cos(\\xi)**2/2\n",
      "Approximation: \n",
      "In the parroximation this interaction is not present\n",
      "Interaction\n",
      "(W_2^+, W_2^-, {{G_{Z_1}}})\n",
      "Coefficient\n",
      "I*g**2*k_1*sin(\\xi)**2/2 + I*g**2*k_1*cos(\\xi)**2/2 + I*g**2*k_2*sin(\\xi)*cos(\\xi)\n",
      "Approximation: \n",
      "I*g**2*k_1/2\n",
      "Interaction\n",
      "(W_2^+, W_2^-, {{H_3^0}})\n",
      "Coefficient\n",
      "g**2*k_1*sin(\\xi)*cos(\\xi) + g**2*k_2*sin(\\xi)**2/2 + g**2*k_2*cos(\\xi)**2/2\n",
      "Approximation: \n",
      "In the parroximation this interaction is not present\n",
      "Interaction\n",
      "(W_2^+, W_2^-, {{A_2^0}})\n",
      "Coefficient\n",
      "I*g**2*v_L*sin(\\xi)**2/2\n",
      "Approximation: \n",
      "In the parroximation this interaction is not present\n",
      "Interaction\n",
      "(W_2^+, W_2^-, {{H_4^0}})\n",
      "Coefficient\n",
      "g**2*v_L*sin(\\xi)**2/2\n",
      "Approximation: \n",
      "In the parroximation this interaction is not present\n",
      "Interaction\n",
      "(W_2^+, W_2^-, {{G_{Z_2}}})\n",
      "Coefficient\n",
      "I*g**2*v_R*cos(\\xi)**2/2\n",
      "Approximation: \n",
      "I*g**2*v_R/2\n",
      "Interaction\n",
      "(W_2^+, {{G_R^-}}, {{H_2^0}})\n",
      "Coefficient\n",
      "\\alpha_1*\\rho_1*g*k_1**2*v_R**2*p({{G_R^-}})*cos(\\xi)/(\\alpha_1**2*k_1**4 + \\alpha_1**2*k_1**2*v_R**2 + 2*\\alpha_1*\\alpha_3*k_1**4 + 2*\\alpha_1*\\alpha_3*k_1**2*v_R**2 + \\alpha_3**2*k_1**4 + \\alpha_3**2*k_1**2*v_R**2 + 4*\\rho_1**2*k_1**2*v_R**2 + 4*\\rho_1**2*v_R**4) - \\alpha_1*\\rho_1*g*k_1**2*v_R**2*p({{H_2^0}})*cos(\\xi)/(\\alpha_1**2*k_1**4 + \\alpha_1**2*k_1**2*v_R**2 + 2*\\alpha_1*\\alpha_3*k_1**4 + 2*\\alpha_1*\\alpha_3*k_1**2*v_R**2 + \\alpha_3**2*k_1**4 + \\alpha_3**2*k_1**2*v_R**2 + 4*\\rho_1**2*k_1**2*v_R**2 + 4*\\rho_1**2*v_R**4) + \\alpha_3*\\rho_1*g*k_1**2*v_R**2*p({{G_R^-}})*cos(\\xi)/(\\alpha_1**2*k_1**4 + \\alpha_1**2*k_1**2*v_R**2 + 2*\\alpha_1*\\alpha_3*k_1**4 + 2*\\alpha_1*\\alpha_3*k_1**2*v_R**2 + \\alpha_3**2*k_1**4 + \\alpha_3**2*k_1**2*v_R**2 + 4*\\rho_1**2*k_1**2*v_R**2 + 4*\\rho_1**2*v_R**4) - \\alpha_3*\\rho_1*g*k_1**2*v_R**2*p({{H_2^0}})*cos(\\xi)/(\\alpha_1**2*k_1**4 + \\alpha_1**2*k_1**2*v_R**2 + 2*\\alpha_1*\\alpha_3*k_1**4 + 2*\\alpha_1*\\alpha_3*k_1**2*v_R**2 + \\alpha_3**2*k_1**4 + \\alpha_3**2*k_1**2*v_R**2 + 4*\\rho_1**2*k_1**2*v_R**2 + 4*\\rho_1**2*v_R**4) + 2*\\rho_1**2*g*v_R**4*p({{G_R^-}})*cos(\\xi)/(\\alpha_1**2*k_1**4 + \\alpha_1**2*k_1**2*v_R**2 + 2*\\alpha_1*\\alpha_3*k_1**4 + 2*\\alpha_1*\\alpha_3*k_1**2*v_R**2 + \\alpha_3**2*k_1**4 + \\alpha_3**2*k_1**2*v_R**2 + 4*\\rho_1**2*k_1**2*v_R**2 + 4*\\rho_1**2*v_R**4) - 2*\\rho_1**2*g*v_R**4*p({{H_2^0}})*cos(\\xi)/(\\alpha_1**2*k_1**4 + \\alpha_1**2*k_1**2*v_R**2 + 2*\\alpha_1*\\alpha_3*k_1**4 + 2*\\alpha_1*\\alpha_3*k_1**2*v_R**2 + \\alpha_3**2*k_1**4 + \\alpha_3**2*k_1**2*v_R**2 + 4*\\rho_1**2*k_1**2*v_R**2 + 4*\\rho_1**2*v_R**4)\n",
      "Approximation: \n",
      "\\alpha_1*g*k_1**2*p({{G_R^-}})/(4*\\rho_1*v_R**2) - \\alpha_1*g*k_1**2*p({{H_2^0}})/(4*\\rho_1*v_R**2) + \\alpha_3*g*k_1**2*p({{G_R^-}})/(4*\\rho_1*v_R**2) - \\alpha_3*g*k_1**2*p({{H_2^0}})/(4*\\rho_1*v_R**2) + g*p({{G_R^-}})/2 - g*p({{H_2^0}})/2\n",
      "Interaction\n",
      "(W_2^+, {{H_1^0}}, {{H_R^-}})\n",
      "Coefficient\n",
      "\\alpha_1*\\rho_1*g*k_1**2*v_R**2*p({{H_1^0}})*cos(\\xi)/(\\alpha_1**2*k_1**4 + \\alpha_1**2*k_1**2*v_R**2 + 2*\\alpha_1*\\alpha_3*k_1**4 + 2*\\alpha_1*\\alpha_3*k_1**2*v_R**2 + \\alpha_3**2*k_1**4 + \\alpha_3**2*k_1**2*v_R**2 + 4*\\rho_1**2*k_1**2*v_R**2 + 4*\\rho_1**2*v_R**4) - \\alpha_1*\\rho_1*g*k_1**2*v_R**2*p({{H_R^-}})*cos(\\xi)/(\\alpha_1**2*k_1**4 + \\alpha_1**2*k_1**2*v_R**2 + 2*\\alpha_1*\\alpha_3*k_1**4 + 2*\\alpha_1*\\alpha_3*k_1**2*v_R**2 + \\alpha_3**2*k_1**4 + \\alpha_3**2*k_1**2*v_R**2 + 4*\\rho_1**2*k_1**2*v_R**2 + 4*\\rho_1**2*v_R**4) + \\alpha_3*\\rho_1*g*k_1**2*v_R**2*p({{H_1^0}})*cos(\\xi)/(\\alpha_1**2*k_1**4 + \\alpha_1**2*k_1**2*v_R**2 + 2*\\alpha_1*\\alpha_3*k_1**4 + 2*\\alpha_1*\\alpha_3*k_1**2*v_R**2 + \\alpha_3**2*k_1**4 + \\alpha_3**2*k_1**2*v_R**2 + 4*\\rho_1**2*k_1**2*v_R**2 + 4*\\rho_1**2*v_R**4) - \\alpha_3*\\rho_1*g*k_1**2*v_R**2*p({{H_R^-}})*cos(\\xi)/(\\alpha_1**2*k_1**4 + \\alpha_1**2*k_1**2*v_R**2 + 2*\\alpha_1*\\alpha_3*k_1**4 + 2*\\alpha_1*\\alpha_3*k_1**2*v_R**2 + \\alpha_3**2*k_1**4 + \\alpha_3**2*k_1**2*v_R**2 + 4*\\rho_1**2*k_1**2*v_R**2 + 4*\\rho_1**2*v_R**4) + 2*\\rho_1**2*g*v_R**4*p({{H_1^0}})*cos(\\xi)/(\\alpha_1**2*k_1**4 + \\alpha_1**2*k_1**2*v_R**2 + 2*\\alpha_1*\\alpha_3*k_1**4 + 2*\\alpha_1*\\alpha_3*k_1**2*v_R**2 + \\alpha_3**2*k_1**4 + \\alpha_3**2*k_1**2*v_R**2 + 4*\\rho_1**2*k_1**2*v_R**2 + 4*\\rho_1**2*v_R**4) - 2*\\rho_1**2*g*v_R**4*p({{H_R^-}})*cos(\\xi)/(\\alpha_1**2*k_1**4 + \\alpha_1**2*k_1**2*v_R**2 + 2*\\alpha_1*\\alpha_3*k_1**4 + 2*\\alpha_1*\\alpha_3*k_1**2*v_R**2 + \\alpha_3**2*k_1**4 + \\alpha_3**2*k_1**2*v_R**2 + 4*\\rho_1**2*k_1**2*v_R**2 + 4*\\rho_1**2*v_R**4)\n",
      "Approximation: \n",
      "\\alpha_1*g*k_1**2*p({{H_1^0}})/(4*\\rho_1*v_R**2) - \\alpha_1*g*k_1**2*p({{H_R^-}})/(4*\\rho_1*v_R**2) + \\alpha_3*g*k_1**2*p({{H_1^0}})/(4*\\rho_1*v_R**2) - \\alpha_3*g*k_1**2*p({{H_R^-}})/(4*\\rho_1*v_R**2) + g*p({{H_1^0}})/2 - g*p({{H_R^-}})/2\n",
      "Interaction\n",
      "(W_2^+, {{G_R^-}}, {{H_1^0}})\n",
      "Coefficient\n",
      "-\\alpha_1*\\rho_1*g*k_1*v_R**3*p({{G_R^-}})*cos(\\xi)/(\\alpha_1**2*k_1**4 + \\alpha_1**2*k_1**2*v_R**2 + 2*\\alpha_1*\\alpha_3*k_1**4 + 2*\\alpha_1*\\alpha_3*k_1**2*v_R**2 + \\alpha_3**2*k_1**4 + \\alpha_3**2*k_1**2*v_R**2 + 4*\\rho_1**2*k_1**2*v_R**2 + 4*\\rho_1**2*v_R**4) + \\alpha_1*\\rho_1*g*k_1*v_R**3*p({{H_1^0}})*cos(\\xi)/(\\alpha_1**2*k_1**4 + \\alpha_1**2*k_1**2*v_R**2 + 2*\\alpha_1*\\alpha_3*k_1**4 + 2*\\alpha_1*\\alpha_3*k_1**2*v_R**2 + \\alpha_3**2*k_1**4 + \\alpha_3**2*k_1**2*v_R**2 + 4*\\rho_1**2*k_1**2*v_R**2 + 4*\\rho_1**2*v_R**4) - \\alpha_3*\\rho_1*g*k_1*v_R**3*p({{G_R^-}})*cos(\\xi)/(\\alpha_1**2*k_1**4 + \\alpha_1**2*k_1**2*v_R**2 + 2*\\alpha_1*\\alpha_3*k_1**4 + 2*\\alpha_1*\\alpha_3*k_1**2*v_R**2 + \\alpha_3**2*k_1**4 + \\alpha_3**2*k_1**2*v_R**2 + 4*\\rho_1**2*k_1**2*v_R**2 + 4*\\rho_1**2*v_R**4) + \\alpha_3*\\rho_1*g*k_1*v_R**3*p({{H_1^0}})*cos(\\xi)/(\\alpha_1**2*k_1**4 + \\alpha_1**2*k_1**2*v_R**2 + 2*\\alpha_1*\\alpha_3*k_1**4 + 2*\\alpha_1*\\alpha_3*k_1**2*v_R**2 + \\alpha_3**2*k_1**4 + \\alpha_3**2*k_1**2*v_R**2 + 4*\\rho_1**2*k_1**2*v_R**2 + 4*\\rho_1**2*v_R**4) + 2*\\rho_1**2*g*k_1*v_R**3*p({{G_R^-}})*cos(\\xi)/(\\alpha_1**2*k_1**4 + \\alpha_1**2*k_1**2*v_R**2 + 2*\\alpha_1*\\alpha_3*k_1**4 + 2*\\alpha_1*\\alpha_3*k_1**2*v_R**2 + \\alpha_3**2*k_1**4 + \\alpha_3**2*k_1**2*v_R**2 + 4*\\rho_1**2*k_1**2*v_R**2 + 4*\\rho_1**2*v_R**4) - 2*\\rho_1**2*g*k_1*v_R**3*p({{H_1^0}})*cos(\\xi)/(\\alpha_1**2*k_1**4 + \\alpha_1**2*k_1**2*v_R**2 + 2*\\alpha_1*\\alpha_3*k_1**4 + 2*\\alpha_1*\\alpha_3*k_1**2*v_R**2 + \\alpha_3**2*k_1**4 + \\alpha_3**2*k_1**2*v_R**2 + 4*\\rho_1**2*k_1**2*v_R**2 + 4*\\rho_1**2*v_R**4)\n",
      "Approximation: \n",
      "-\\alpha_1*g*k_1*p({{G_R^-}})/(4*\\rho_1*v_R) + \\alpha_1*g*k_1*p({{H_1^0}})/(4*\\rho_1*v_R) - \\alpha_3*g*k_1*p({{G_R^-}})/(4*\\rho_1*v_R) + \\alpha_3*g*k_1*p({{H_1^0}})/(4*\\rho_1*v_R) + g*k_1*p({{G_R^-}})/(2*v_R) - g*k_1*p({{H_1^0}})/(2*v_R)\n",
      "Interaction\n",
      "(W_2^+, {{H_2^0}}, {{H_R^-}})\n",
      "Coefficient\n",
      "\\alpha_1*\\rho_1*g*k_1*v_R**3*p({{H_2^0}})*cos(\\xi)/(\\alpha_1**2*k_1**4 + \\alpha_1**2*k_1**2*v_R**2 + 2*\\alpha_1*\\alpha_3*k_1**4 + 2*\\alpha_1*\\alpha_3*k_1**2*v_R**2 + \\alpha_3**2*k_1**4 + \\alpha_3**2*k_1**2*v_R**2 + 4*\\rho_1**2*k_1**2*v_R**2 + 4*\\rho_1**2*v_R**4) - \\alpha_1*\\rho_1*g*k_1*v_R**3*p({{H_R^-}})*cos(\\xi)/(\\alpha_1**2*k_1**4 + \\alpha_1**2*k_1**2*v_R**2 + 2*\\alpha_1*\\alpha_3*k_1**4 + 2*\\alpha_1*\\alpha_3*k_1**2*v_R**2 + \\alpha_3**2*k_1**4 + \\alpha_3**2*k_1**2*v_R**2 + 4*\\rho_1**2*k_1**2*v_R**2 + 4*\\rho_1**2*v_R**4) + \\alpha_3*\\rho_1*g*k_1*v_R**3*p({{H_2^0}})*cos(\\xi)/(\\alpha_1**2*k_1**4 + \\alpha_1**2*k_1**2*v_R**2 + 2*\\alpha_1*\\alpha_3*k_1**4 + 2*\\alpha_1*\\alpha_3*k_1**2*v_R**2 + \\alpha_3**2*k_1**4 + \\alpha_3**2*k_1**2*v_R**2 + 4*\\rho_1**2*k_1**2*v_R**2 + 4*\\rho_1**2*v_R**4) - \\alpha_3*\\rho_1*g*k_1*v_R**3*p({{H_R^-}})*cos(\\xi)/(\\alpha_1**2*k_1**4 + \\alpha_1**2*k_1**2*v_R**2 + 2*\\alpha_1*\\alpha_3*k_1**4 + 2*\\alpha_1*\\alpha_3*k_1**2*v_R**2 + \\alpha_3**2*k_1**4 + \\alpha_3**2*k_1**2*v_R**2 + 4*\\rho_1**2*k_1**2*v_R**2 + 4*\\rho_1**2*v_R**4) - 2*\\rho_1**2*g*k_1*v_R**3*p({{H_2^0}})*cos(\\xi)/(\\alpha_1**2*k_1**4 + \\alpha_1**2*k_1**2*v_R**2 + 2*\\alpha_1*\\alpha_3*k_1**4 + 2*\\alpha_1*\\alpha_3*k_1**2*v_R**2 + \\alpha_3**2*k_1**4 + \\alpha_3**2*k_1**2*v_R**2 + 4*\\rho_1**2*k_1**2*v_R**2 + 4*\\rho_1**2*v_R**4) + 2*\\rho_1**2*g*k_1*v_R**3*p({{H_R^-}})*cos(\\xi)/(\\alpha_1**2*k_1**4 + \\alpha_1**2*k_1**2*v_R**2 + 2*\\alpha_1*\\alpha_3*k_1**4 + 2*\\alpha_1*\\alpha_3*k_1**2*v_R**2 + \\alpha_3**2*k_1**4 + \\alpha_3**2*k_1**2*v_R**2 + 4*\\rho_1**2*k_1**2*v_R**2 + 4*\\rho_1**2*v_R**4)\n",
      "Approximation: \n",
      "\\alpha_1*g*k_1*p({{H_2^0}})/(4*\\rho_1*v_R) - \\alpha_1*g*k_1*p({{H_R^-}})/(4*\\rho_1*v_R) + \\alpha_3*g*k_1*p({{H_2^0}})/(4*\\rho_1*v_R) - \\alpha_3*g*k_1*p({{H_R^-}})/(4*\\rho_1*v_R) - g*k_1*p({{H_2^0}})/(2*v_R) + g*k_1*p({{H_R^-}})/(2*v_R)\n",
      "Interaction\n",
      "(W_2^+, {{G_L^-}}, {{H_2^0}})\n",
      "Coefficient\n",
      "\\alpha_1*\\rho_1*g*k_1*v_R*p({{G_L^-}})*sin(\\xi)/(\\alpha_1**2*k_1**2 + 2*\\alpha_1*\\alpha_3*k_1**2 + \\alpha_3**2*k_1**2 + 4*\\rho_1**2*v_R**2) - \\alpha_1*\\rho_1*g*k_1*v_R*p({{H_2^0}})*sin(\\xi)/(\\alpha_1**2*k_1**2 + 2*\\alpha_1*\\alpha_3*k_1**2 + \\alpha_3**2*k_1**2 + 4*\\rho_1**2*v_R**2) + \\alpha_3*\\rho_1*g*k_1*v_R*p({{G_L^-}})*sin(\\xi)/(\\alpha_1**2*k_1**2 + 2*\\alpha_1*\\alpha_3*k_1**2 + \\alpha_3**2*k_1**2 + 4*\\rho_1**2*v_R**2) - \\alpha_3*\\rho_1*g*k_1*v_R*p({{H_2^0}})*sin(\\xi)/(\\alpha_1**2*k_1**2 + 2*\\alpha_1*\\alpha_3*k_1**2 + \\alpha_3**2*k_1**2 + 4*\\rho_1**2*v_R**2)\n",
      "Approximation: \n",
      "In the parroximation this interaction is not present\n",
      "Interaction\n",
      "(W_2^+, {{G_L^-}}, {{H_1^0}})\n",
      "Coefficient\n",
      "2*\\rho_1**2*g*v_R**2*p({{G_L^-}})*sin(\\xi)/(\\alpha_1**2*k_1**2 + 2*\\alpha_1*\\alpha_3*k_1**2 + \\alpha_3**2*k_1**2 + 4*\\rho_1**2*v_R**2) - 2*\\rho_1**2*g*v_R**2*p({{H_1^0}})*sin(\\xi)/(\\alpha_1**2*k_1**2 + 2*\\alpha_1*\\alpha_3*k_1**2 + \\alpha_3**2*k_1**2 + 4*\\rho_1**2*v_R**2)\n",
      "Approximation: \n",
      "In the parroximation this interaction is not present\n",
      "Interaction\n",
      "(W_2^+, {{A_1^0}}, {{G_R^-}})\n",
      "Coefficient\n",
      "-I*g*k_1*v_R*p({{A_1^0}})*sin(\\xi)/(2*k_1**2 + 2*v_R**2) + I*g*k_1*v_R*p({{G_R^-}})*sin(\\xi)/(2*k_1**2 + 2*v_R**2)\n",
      "Approximation: \n",
      "In the parroximation this interaction is not present\n",
      "Interaction\n",
      "(W_2^+, {{G_R^-}}, {{G_{Z_1}}})\n",
      "Coefficient\n",
      "I*g*k_1*v_R*p({{G_R^-}})*cos(\\xi)/(2*k_1**2 + 2*v_R**2) - I*g*k_1*v_R*p({{G_{Z_1}}})*cos(\\xi)/(2*k_1**2 + 2*v_R**2)\n",
      "Approximation: \n",
      "I*g*k_1*p({{G_R^-}})/(2*v_R) - I*g*k_1*p({{G_{Z_1}}})/(2*v_R)\n",
      "Interaction\n",
      "(W_2^+, {{G_R^-}}, {{H_3^0}})\n",
      "Coefficient\n",
      "g*k_1*v_R*p({{G_R^-}})*sin(\\xi)/(2*k_1**2 + 2*v_R**2) - g*k_1*v_R*p({{H_3^0}})*sin(\\xi)/(2*k_1**2 + 2*v_R**2)\n",
      "Approximation: \n",
      "In the parroximation this interaction is not present\n",
      "Interaction\n",
      "(W_2^+, {{G_{Z_2}}}, {{H_R^-}})\n",
      "Coefficient\n",
      "-I*g*k_1*v_R*p({{G_{Z_2}}})*cos(\\xi)/(2*k_1**2 + 2*v_R**2) + I*g*k_1*v_R*p({{H_R^-}})*cos(\\xi)/(2*k_1**2 + 2*v_R**2)\n",
      "Approximation: \n",
      "-I*g*k_1*p({{G_{Z_2}}})/(2*v_R) + I*g*k_1*p({{H_R^-}})/(2*v_R)\n",
      "Interaction\n",
      "(W_2^+, {{A_1^0}}, {{H_R^-}})\n",
      "Coefficient\n",
      "I*g*v_R**2*p({{A_1^0}})*sin(\\xi)/(2*k_1**2 + 2*v_R**2) - I*g*v_R**2*p({{H_R^-}})*sin(\\xi)/(2*k_1**2 + 2*v_R**2)\n",
      "Approximation: \n",
      "In the parroximation this interaction is not present\n",
      "Interaction\n",
      "(W_2^+, {{G_R^-}}, {{G_{Z_2}}})\n",
      "Coefficient\n",
      "I*g*v_R**2*p({{G_R^-}})*cos(\\xi)/(2*k_1**2 + 2*v_R**2) - I*g*v_R**2*p({{G_{Z_2}}})*cos(\\xi)/(2*k_1**2 + 2*v_R**2)\n",
      "Approximation: \n",
      "I*g*p({{G_R^-}})/2 - I*g*p({{G_{Z_2}}})/2\n",
      "Interaction\n",
      "(W_2^+, {{G_{Z_1}}}, {{H_R^-}})\n",
      "Coefficient\n",
      "I*g*v_R**2*p({{G_{Z_1}}})*cos(\\xi)/(2*k_1**2 + 2*v_R**2) - I*g*v_R**2*p({{H_R^-}})*cos(\\xi)/(2*k_1**2 + 2*v_R**2)\n",
      "Approximation: \n",
      "I*g*p({{G_{Z_1}}})/2 - I*g*p({{H_R^-}})/2\n",
      "Interaction\n",
      "(W_2^+, {{H_3^0}}, {{H_R^-}})\n",
      "Coefficient\n",
      "g*v_R**2*p({{H_3^0}})*sin(\\xi)/(2*k_1**2 + 2*v_R**2) - g*v_R**2*p({{H_R^-}})*sin(\\xi)/(2*k_1**2 + 2*v_R**2)\n",
      "Approximation: \n",
      "In the parroximation this interaction is not present\n",
      "Interaction\n",
      "(W_2^+, {{A_1^0}}, {{G_L^-}})\n",
      "Coefficient\n",
      "-I*g*p({{A_1^0}})*cos(\\xi)/2 + I*g*p({{G_L^-}})*cos(\\xi)/2\n",
      "Approximation: \n",
      "-I*g*p({{A_1^0}})/2 + I*g*p({{G_L^-}})/2\n",
      "Interaction\n",
      "(W_2^+, {{A_2^0}}, {{H_L^-}})\n",
      "Coefficient\n",
      "I*g*p({{A_2^0}})*sin(\\xi)/2 - I*g*p({{H_L^-}})*sin(\\xi)/2\n",
      "Approximation: \n",
      "In the parroximation this interaction is not present\n",
      "Interaction\n",
      "(W_2^+, {{G_L^-}}, {{G_{Z_1}}})\n",
      "Coefficient\n",
      "I*g*p({{G_L^-}})*sin(\\xi)/2 - I*g*p({{G_{Z_1}}})*sin(\\xi)/2\n",
      "Approximation: \n",
      "In the parroximation this interaction is not present\n",
      "Interaction\n",
      "(W_2^+, {{G_L^-}}, {{H_3^0}})\n",
      "Coefficient\n",
      "g*p({{G_L^-}})*cos(\\xi)/2 - g*p({{H_3^0}})*cos(\\xi)/2\n",
      "Approximation: \n",
      "g*p({{G_L^-}})/2 - g*p({{H_3^0}})/2\n",
      "Interaction\n",
      "(W_2^+, {{H_4^0}}, {{H_L^-}})\n",
      "Coefficient\n",
      "g*p({{H_4^0}})*sin(\\xi)/2 - g*p({{H_L^-}})*sin(\\xi)/2\n",
      "Approximation: \n",
      "In the parroximation this interaction is not present\n",
      "Interaction\n",
      "(W_2^-, {{G_R^+}}, {{H_2^0}})\n",
      "Coefficient\n",
      "-\\alpha_1*\\rho_1*g*k_1**2*v_R**2*p({{G_R^+}})*cos(\\xi)/(\\alpha_1**2*k_1**4 + \\alpha_1**2*k_1**2*v_R**2 + 2*\\alpha_1*\\alpha_3*k_1**4 + 2*\\alpha_1*\\alpha_3*k_1**2*v_R**2 + \\alpha_3**2*k_1**4 + \\alpha_3**2*k_1**2*v_R**2 + 4*\\rho_1**2*k_1**2*v_R**2 + 4*\\rho_1**2*v_R**4) + \\alpha_1*\\rho_1*g*k_1**2*v_R**2*p({{H_2^0}})*cos(\\xi)/(\\alpha_1**2*k_1**4 + \\alpha_1**2*k_1**2*v_R**2 + 2*\\alpha_1*\\alpha_3*k_1**4 + 2*\\alpha_1*\\alpha_3*k_1**2*v_R**2 + \\alpha_3**2*k_1**4 + \\alpha_3**2*k_1**2*v_R**2 + 4*\\rho_1**2*k_1**2*v_R**2 + 4*\\rho_1**2*v_R**4) - \\alpha_3*\\rho_1*g*k_1**2*v_R**2*p({{G_R^+}})*cos(\\xi)/(\\alpha_1**2*k_1**4 + \\alpha_1**2*k_1**2*v_R**2 + 2*\\alpha_1*\\alpha_3*k_1**4 + 2*\\alpha_1*\\alpha_3*k_1**2*v_R**2 + \\alpha_3**2*k_1**4 + \\alpha_3**2*k_1**2*v_R**2 + 4*\\rho_1**2*k_1**2*v_R**2 + 4*\\rho_1**2*v_R**4) + \\alpha_3*\\rho_1*g*k_1**2*v_R**2*p({{H_2^0}})*cos(\\xi)/(\\alpha_1**2*k_1**4 + \\alpha_1**2*k_1**2*v_R**2 + 2*\\alpha_1*\\alpha_3*k_1**4 + 2*\\alpha_1*\\alpha_3*k_1**2*v_R**2 + \\alpha_3**2*k_1**4 + \\alpha_3**2*k_1**2*v_R**2 + 4*\\rho_1**2*k_1**2*v_R**2 + 4*\\rho_1**2*v_R**4) - 2*\\rho_1**2*g*v_R**4*p({{G_R^+}})*cos(\\xi)/(\\alpha_1**2*k_1**4 + \\alpha_1**2*k_1**2*v_R**2 + 2*\\alpha_1*\\alpha_3*k_1**4 + 2*\\alpha_1*\\alpha_3*k_1**2*v_R**2 + \\alpha_3**2*k_1**4 + \\alpha_3**2*k_1**2*v_R**2 + 4*\\rho_1**2*k_1**2*v_R**2 + 4*\\rho_1**2*v_R**4) + 2*\\rho_1**2*g*v_R**4*p({{H_2^0}})*cos(\\xi)/(\\alpha_1**2*k_1**4 + \\alpha_1**2*k_1**2*v_R**2 + 2*\\alpha_1*\\alpha_3*k_1**4 + 2*\\alpha_1*\\alpha_3*k_1**2*v_R**2 + \\alpha_3**2*k_1**4 + \\alpha_3**2*k_1**2*v_R**2 + 4*\\rho_1**2*k_1**2*v_R**2 + 4*\\rho_1**2*v_R**4)\n",
      "Approximation: \n",
      "-\\alpha_1*g*k_1**2*p({{G_R^+}})/(4*\\rho_1*v_R**2) + \\alpha_1*g*k_1**2*p({{H_2^0}})/(4*\\rho_1*v_R**2) - \\alpha_3*g*k_1**2*p({{G_R^+}})/(4*\\rho_1*v_R**2) + \\alpha_3*g*k_1**2*p({{H_2^0}})/(4*\\rho_1*v_R**2) - g*p({{G_R^+}})/2 + g*p({{H_2^0}})/2\n",
      "Interaction\n",
      "(W_2^-, {{H_1^0}}, {{H_R^+}})\n",
      "Coefficient\n",
      "-\\alpha_1*\\rho_1*g*k_1**2*v_R**2*p({{H_1^0}})*cos(\\xi)/(\\alpha_1**2*k_1**4 + \\alpha_1**2*k_1**2*v_R**2 + 2*\\alpha_1*\\alpha_3*k_1**4 + 2*\\alpha_1*\\alpha_3*k_1**2*v_R**2 + \\alpha_3**2*k_1**4 + \\alpha_3**2*k_1**2*v_R**2 + 4*\\rho_1**2*k_1**2*v_R**2 + 4*\\rho_1**2*v_R**4) + \\alpha_1*\\rho_1*g*k_1**2*v_R**2*p({{H_R^+}})*cos(\\xi)/(\\alpha_1**2*k_1**4 + \\alpha_1**2*k_1**2*v_R**2 + 2*\\alpha_1*\\alpha_3*k_1**4 + 2*\\alpha_1*\\alpha_3*k_1**2*v_R**2 + \\alpha_3**2*k_1**4 + \\alpha_3**2*k_1**2*v_R**2 + 4*\\rho_1**2*k_1**2*v_R**2 + 4*\\rho_1**2*v_R**4) - \\alpha_3*\\rho_1*g*k_1**2*v_R**2*p({{H_1^0}})*cos(\\xi)/(\\alpha_1**2*k_1**4 + \\alpha_1**2*k_1**2*v_R**2 + 2*\\alpha_1*\\alpha_3*k_1**4 + 2*\\alpha_1*\\alpha_3*k_1**2*v_R**2 + \\alpha_3**2*k_1**4 + \\alpha_3**2*k_1**2*v_R**2 + 4*\\rho_1**2*k_1**2*v_R**2 + 4*\\rho_1**2*v_R**4) + \\alpha_3*\\rho_1*g*k_1**2*v_R**2*p({{H_R^+}})*cos(\\xi)/(\\alpha_1**2*k_1**4 + \\alpha_1**2*k_1**2*v_R**2 + 2*\\alpha_1*\\alpha_3*k_1**4 + 2*\\alpha_1*\\alpha_3*k_1**2*v_R**2 + \\alpha_3**2*k_1**4 + \\alpha_3**2*k_1**2*v_R**2 + 4*\\rho_1**2*k_1**2*v_R**2 + 4*\\rho_1**2*v_R**4) - 2*\\rho_1**2*g*v_R**4*p({{H_1^0}})*cos(\\xi)/(\\alpha_1**2*k_1**4 + \\alpha_1**2*k_1**2*v_R**2 + 2*\\alpha_1*\\alpha_3*k_1**4 + 2*\\alpha_1*\\alpha_3*k_1**2*v_R**2 + \\alpha_3**2*k_1**4 + \\alpha_3**2*k_1**2*v_R**2 + 4*\\rho_1**2*k_1**2*v_R**2 + 4*\\rho_1**2*v_R**4) + 2*\\rho_1**2*g*v_R**4*p({{H_R^+}})*cos(\\xi)/(\\alpha_1**2*k_1**4 + \\alpha_1**2*k_1**2*v_R**2 + 2*\\alpha_1*\\alpha_3*k_1**4 + 2*\\alpha_1*\\alpha_3*k_1**2*v_R**2 + \\alpha_3**2*k_1**4 + \\alpha_3**2*k_1**2*v_R**2 + 4*\\rho_1**2*k_1**2*v_R**2 + 4*\\rho_1**2*v_R**4)\n",
      "Approximation: \n",
      "-\\alpha_1*g*k_1**2*p({{H_1^0}})/(4*\\rho_1*v_R**2) + \\alpha_1*g*k_1**2*p({{H_R^+}})/(4*\\rho_1*v_R**2) - \\alpha_3*g*k_1**2*p({{H_1^0}})/(4*\\rho_1*v_R**2) + \\alpha_3*g*k_1**2*p({{H_R^+}})/(4*\\rho_1*v_R**2) - g*p({{H_1^0}})/2 + g*p({{H_R^+}})/2\n",
      "Interaction\n",
      "(W_2^-, {{G_R^+}}, {{H_1^0}})\n",
      "Coefficient\n",
      "\\alpha_1*\\rho_1*g*k_1*v_R**3*p({{G_R^+}})*cos(\\xi)/(\\alpha_1**2*k_1**4 + \\alpha_1**2*k_1**2*v_R**2 + 2*\\alpha_1*\\alpha_3*k_1**4 + 2*\\alpha_1*\\alpha_3*k_1**2*v_R**2 + \\alpha_3**2*k_1**4 + \\alpha_3**2*k_1**2*v_R**2 + 4*\\rho_1**2*k_1**2*v_R**2 + 4*\\rho_1**2*v_R**4) - \\alpha_1*\\rho_1*g*k_1*v_R**3*p({{H_1^0}})*cos(\\xi)/(\\alpha_1**2*k_1**4 + \\alpha_1**2*k_1**2*v_R**2 + 2*\\alpha_1*\\alpha_3*k_1**4 + 2*\\alpha_1*\\alpha_3*k_1**2*v_R**2 + \\alpha_3**2*k_1**4 + \\alpha_3**2*k_1**2*v_R**2 + 4*\\rho_1**2*k_1**2*v_R**2 + 4*\\rho_1**2*v_R**4) + \\alpha_3*\\rho_1*g*k_1*v_R**3*p({{G_R^+}})*cos(\\xi)/(\\alpha_1**2*k_1**4 + \\alpha_1**2*k_1**2*v_R**2 + 2*\\alpha_1*\\alpha_3*k_1**4 + 2*\\alpha_1*\\alpha_3*k_1**2*v_R**2 + \\alpha_3**2*k_1**4 + \\alpha_3**2*k_1**2*v_R**2 + 4*\\rho_1**2*k_1**2*v_R**2 + 4*\\rho_1**2*v_R**4) - \\alpha_3*\\rho_1*g*k_1*v_R**3*p({{H_1^0}})*cos(\\xi)/(\\alpha_1**2*k_1**4 + \\alpha_1**2*k_1**2*v_R**2 + 2*\\alpha_1*\\alpha_3*k_1**4 + 2*\\alpha_1*\\alpha_3*k_1**2*v_R**2 + \\alpha_3**2*k_1**4 + \\alpha_3**2*k_1**2*v_R**2 + 4*\\rho_1**2*k_1**2*v_R**2 + 4*\\rho_1**2*v_R**4) - 2*\\rho_1**2*g*k_1*v_R**3*p({{G_R^+}})*cos(\\xi)/(\\alpha_1**2*k_1**4 + \\alpha_1**2*k_1**2*v_R**2 + 2*\\alpha_1*\\alpha_3*k_1**4 + 2*\\alpha_1*\\alpha_3*k_1**2*v_R**2 + \\alpha_3**2*k_1**4 + \\alpha_3**2*k_1**2*v_R**2 + 4*\\rho_1**2*k_1**2*v_R**2 + 4*\\rho_1**2*v_R**4) + 2*\\rho_1**2*g*k_1*v_R**3*p({{H_1^0}})*cos(\\xi)/(\\alpha_1**2*k_1**4 + \\alpha_1**2*k_1**2*v_R**2 + 2*\\alpha_1*\\alpha_3*k_1**4 + 2*\\alpha_1*\\alpha_3*k_1**2*v_R**2 + \\alpha_3**2*k_1**4 + \\alpha_3**2*k_1**2*v_R**2 + 4*\\rho_1**2*k_1**2*v_R**2 + 4*\\rho_1**2*v_R**4)\n",
      "Approximation: \n",
      "\\alpha_1*g*k_1*p({{G_R^+}})/(4*\\rho_1*v_R) - \\alpha_1*g*k_1*p({{H_1^0}})/(4*\\rho_1*v_R) + \\alpha_3*g*k_1*p({{G_R^+}})/(4*\\rho_1*v_R) - \\alpha_3*g*k_1*p({{H_1^0}})/(4*\\rho_1*v_R) - g*k_1*p({{G_R^+}})/(2*v_R) + g*k_1*p({{H_1^0}})/(2*v_R)\n",
      "Interaction\n",
      "(W_2^-, {{H_2^0}}, {{H_R^+}})\n",
      "Coefficient\n",
      "-\\alpha_1*\\rho_1*g*k_1*v_R**3*p({{H_2^0}})*cos(\\xi)/(\\alpha_1**2*k_1**4 + \\alpha_1**2*k_1**2*v_R**2 + 2*\\alpha_1*\\alpha_3*k_1**4 + 2*\\alpha_1*\\alpha_3*k_1**2*v_R**2 + \\alpha_3**2*k_1**4 + \\alpha_3**2*k_1**2*v_R**2 + 4*\\rho_1**2*k_1**2*v_R**2 + 4*\\rho_1**2*v_R**4) + \\alpha_1*\\rho_1*g*k_1*v_R**3*p({{H_R^+}})*cos(\\xi)/(\\alpha_1**2*k_1**4 + \\alpha_1**2*k_1**2*v_R**2 + 2*\\alpha_1*\\alpha_3*k_1**4 + 2*\\alpha_1*\\alpha_3*k_1**2*v_R**2 + \\alpha_3**2*k_1**4 + \\alpha_3**2*k_1**2*v_R**2 + 4*\\rho_1**2*k_1**2*v_R**2 + 4*\\rho_1**2*v_R**4) - \\alpha_3*\\rho_1*g*k_1*v_R**3*p({{H_2^0}})*cos(\\xi)/(\\alpha_1**2*k_1**4 + \\alpha_1**2*k_1**2*v_R**2 + 2*\\alpha_1*\\alpha_3*k_1**4 + 2*\\alpha_1*\\alpha_3*k_1**2*v_R**2 + \\alpha_3**2*k_1**4 + \\alpha_3**2*k_1**2*v_R**2 + 4*\\rho_1**2*k_1**2*v_R**2 + 4*\\rho_1**2*v_R**4) + \\alpha_3*\\rho_1*g*k_1*v_R**3*p({{H_R^+}})*cos(\\xi)/(\\alpha_1**2*k_1**4 + \\alpha_1**2*k_1**2*v_R**2 + 2*\\alpha_1*\\alpha_3*k_1**4 + 2*\\alpha_1*\\alpha_3*k_1**2*v_R**2 + \\alpha_3**2*k_1**4 + \\alpha_3**2*k_1**2*v_R**2 + 4*\\rho_1**2*k_1**2*v_R**2 + 4*\\rho_1**2*v_R**4) + 2*\\rho_1**2*g*k_1*v_R**3*p({{H_2^0}})*cos(\\xi)/(\\alpha_1**2*k_1**4 + \\alpha_1**2*k_1**2*v_R**2 + 2*\\alpha_1*\\alpha_3*k_1**4 + 2*\\alpha_1*\\alpha_3*k_1**2*v_R**2 + \\alpha_3**2*k_1**4 + \\alpha_3**2*k_1**2*v_R**2 + 4*\\rho_1**2*k_1**2*v_R**2 + 4*\\rho_1**2*v_R**4) - 2*\\rho_1**2*g*k_1*v_R**3*p({{H_R^+}})*cos(\\xi)/(\\alpha_1**2*k_1**4 + \\alpha_1**2*k_1**2*v_R**2 + 2*\\alpha_1*\\alpha_3*k_1**4 + 2*\\alpha_1*\\alpha_3*k_1**2*v_R**2 + \\alpha_3**2*k_1**4 + \\alpha_3**2*k_1**2*v_R**2 + 4*\\rho_1**2*k_1**2*v_R**2 + 4*\\rho_1**2*v_R**4)\n",
      "Approximation: \n",
      "-\\alpha_1*g*k_1*p({{H_2^0}})/(4*\\rho_1*v_R) + \\alpha_1*g*k_1*p({{H_R^+}})/(4*\\rho_1*v_R) - \\alpha_3*g*k_1*p({{H_2^0}})/(4*\\rho_1*v_R) + \\alpha_3*g*k_1*p({{H_R^+}})/(4*\\rho_1*v_R) + g*k_1*p({{H_2^0}})/(2*v_R) - g*k_1*p({{H_R^+}})/(2*v_R)\n",
      "Interaction\n",
      "(W_2^-, {{G_L^+}}, {{H_2^0}})\n",
      "Coefficient\n",
      "-\\alpha_1*\\rho_1*g*k_1*v_R*p({{G_L^+}})*sin(\\xi)/(\\alpha_1**2*k_1**2 + 2*\\alpha_1*\\alpha_3*k_1**2 + \\alpha_3**2*k_1**2 + 4*\\rho_1**2*v_R**2) + \\alpha_1*\\rho_1*g*k_1*v_R*p({{H_2^0}})*sin(\\xi)/(\\alpha_1**2*k_1**2 + 2*\\alpha_1*\\alpha_3*k_1**2 + \\alpha_3**2*k_1**2 + 4*\\rho_1**2*v_R**2) - \\alpha_3*\\rho_1*g*k_1*v_R*p({{G_L^+}})*sin(\\xi)/(\\alpha_1**2*k_1**2 + 2*\\alpha_1*\\alpha_3*k_1**2 + \\alpha_3**2*k_1**2 + 4*\\rho_1**2*v_R**2) + \\alpha_3*\\rho_1*g*k_1*v_R*p({{H_2^0}})*sin(\\xi)/(\\alpha_1**2*k_1**2 + 2*\\alpha_1*\\alpha_3*k_1**2 + \\alpha_3**2*k_1**2 + 4*\\rho_1**2*v_R**2)\n",
      "Approximation: \n",
      "In the parroximation this interaction is not present\n",
      "Interaction\n",
      "(W_2^-, {{G_L^+}}, {{H_1^0}})\n",
      "Coefficient\n",
      "-2*\\rho_1**2*g*v_R**2*p({{G_L^+}})*sin(\\xi)/(\\alpha_1**2*k_1**2 + 2*\\alpha_1*\\alpha_3*k_1**2 + \\alpha_3**2*k_1**2 + 4*\\rho_1**2*v_R**2) + 2*\\rho_1**2*g*v_R**2*p({{H_1^0}})*sin(\\xi)/(\\alpha_1**2*k_1**2 + 2*\\alpha_1*\\alpha_3*k_1**2 + \\alpha_3**2*k_1**2 + 4*\\rho_1**2*v_R**2)\n",
      "Approximation: \n",
      "In the parroximation this interaction is not present\n",
      "Interaction\n",
      "(W_2^-, {{A_1^0}}, {{G_R^+}})\n",
      "Coefficient\n",
      "I*g*k_1*v_R*p({{A_1^0}})*sin(\\xi)/(2*k_1**2 + 2*v_R**2) - I*g*k_1*v_R*p({{G_R^+}})*sin(\\xi)/(2*k_1**2 + 2*v_R**2)\n",
      "Approximation: \n",
      "In the parroximation this interaction is not present\n",
      "Interaction\n",
      "(W_2^-, {{G_R^+}}, {{G_{Z_1}}})\n",
      "Coefficient\n",
      "-I*g*k_1*v_R*p({{G_R^+}})*cos(\\xi)/(2*k_1**2 + 2*v_R**2) + I*g*k_1*v_R*p({{G_{Z_1}}})*cos(\\xi)/(2*k_1**2 + 2*v_R**2)\n",
      "Approximation: \n",
      "-I*g*k_1*p({{G_R^+}})/(2*v_R) + I*g*k_1*p({{G_{Z_1}}})/(2*v_R)\n",
      "Interaction\n",
      "(W_2^-, {{G_R^+}}, {{H_3^0}})\n",
      "Coefficient\n",
      "-g*k_1*v_R*p({{G_R^+}})*sin(\\xi)/(2*k_1**2 + 2*v_R**2) + g*k_1*v_R*p({{H_3^0}})*sin(\\xi)/(2*k_1**2 + 2*v_R**2)\n",
      "Approximation: \n",
      "In the parroximation this interaction is not present\n",
      "Interaction\n",
      "(W_2^-, {{G_{Z_2}}}, {{H_R^+}})\n",
      "Coefficient\n",
      "I*g*k_1*v_R*p({{G_{Z_2}}})*cos(\\xi)/(2*k_1**2 + 2*v_R**2) - I*g*k_1*v_R*p({{H_R^+}})*cos(\\xi)/(2*k_1**2 + 2*v_R**2)\n",
      "Approximation: \n",
      "I*g*k_1*p({{G_{Z_2}}})/(2*v_R) - I*g*k_1*p({{H_R^+}})/(2*v_R)\n",
      "Interaction\n",
      "(W_2^-, {{A_1^0}}, {{H_R^+}})\n",
      "Coefficient\n",
      "-I*g*v_R**2*p({{A_1^0}})*sin(\\xi)/(2*k_1**2 + 2*v_R**2) + I*g*v_R**2*p({{H_R^+}})*sin(\\xi)/(2*k_1**2 + 2*v_R**2)\n",
      "Approximation: \n",
      "In the parroximation this interaction is not present\n",
      "Interaction\n",
      "(W_2^-, {{G_R^+}}, {{G_{Z_2}}})\n",
      "Coefficient\n",
      "-I*g*v_R**2*p({{G_R^+}})*cos(\\xi)/(2*k_1**2 + 2*v_R**2) + I*g*v_R**2*p({{G_{Z_2}}})*cos(\\xi)/(2*k_1**2 + 2*v_R**2)\n",
      "Approximation: \n",
      "-I*g*p({{G_R^+}})/2 + I*g*p({{G_{Z_2}}})/2\n",
      "Interaction\n",
      "(W_2^-, {{G_{Z_1}}}, {{H_R^+}})\n",
      "Coefficient\n",
      "-I*g*v_R**2*p({{G_{Z_1}}})*cos(\\xi)/(2*k_1**2 + 2*v_R**2) + I*g*v_R**2*p({{H_R^+}})*cos(\\xi)/(2*k_1**2 + 2*v_R**2)\n",
      "Approximation: \n",
      "-I*g*p({{G_{Z_1}}})/2 + I*g*p({{H_R^+}})/2\n",
      "Interaction\n",
      "(W_2^-, {{H_3^0}}, {{H_R^+}})\n",
      "Coefficient\n",
      "-g*v_R**2*p({{H_3^0}})*sin(\\xi)/(2*k_1**2 + 2*v_R**2) + g*v_R**2*p({{H_R^+}})*sin(\\xi)/(2*k_1**2 + 2*v_R**2)\n",
      "Approximation: \n",
      "In the parroximation this interaction is not present\n",
      "Interaction\n",
      "(W_2^-, {{A_1^0}}, {{G_L^+}})\n",
      "Coefficient\n",
      "I*g*p({{A_1^0}})*cos(\\xi)/2 - I*g*p({{G_L^+}})*cos(\\xi)/2\n",
      "Approximation: \n",
      "I*g*p({{A_1^0}})/2 - I*g*p({{G_L^+}})/2\n",
      "Interaction\n",
      "(W_2^-, {{A_2^0}}, {{H_L^+}})\n",
      "Coefficient\n",
      "-I*g*p({{A_2^0}})*sin(\\xi)/2 + I*g*p({{H_L^+}})*sin(\\xi)/2\n",
      "Approximation: \n",
      "In the parroximation this interaction is not present\n",
      "Interaction\n",
      "(W_2^-, {{G_L^+}}, {{G_{Z_1}}})\n",
      "Coefficient\n",
      "-I*g*p({{G_L^+}})*sin(\\xi)/2 + I*g*p({{G_{Z_1}}})*sin(\\xi)/2\n",
      "Approximation: \n",
      "In the parroximation this interaction is not present\n",
      "Interaction\n",
      "(W_2^-, {{G_L^+}}, {{H_3^0}})\n",
      "Coefficient\n",
      "-g*p({{G_L^+}})*cos(\\xi)/2 + g*p({{H_3^0}})*cos(\\xi)/2\n",
      "Approximation: \n",
      "-g*p({{G_L^+}})/2 + g*p({{H_3^0}})/2\n",
      "Interaction\n",
      "(W_2^-, {{H_4^0}}, {{H_L^+}})\n",
      "Coefficient\n",
      "-g*p({{H_4^0}})*sin(\\xi)/2 + g*p({{H_L^+}})*sin(\\xi)/2\n",
      "Approximation: \n",
      "In the parroximation this interaction is not present\n"
     ]
    }
   ],
   "source": [
    "for interaction, coeff in interactions_gauge_scalars[3].items():\n",
    "    print('Interaction')\n",
    "    print(interaction)\n",
    "    print('Coefficient')\n",
    "    print(coeff)\n",
    "    try:\n",
    "        print('Approximation: ')\n",
    "        print(interactions_gauge_scalars_approx[3][interaction])\n",
    "    except:\n",
    "        print('In the parroximation this interaction is not present')"
   ]
  },
  {
   "cell_type": "code",
   "execution_count": 75,
   "metadata": {},
   "outputs": [],
   "source": [
    "from potential_senjanovic_HiggsDoublets import GRp, GRm, H10, vR\n",
    "from Gauge_Higgs_senjanovic_HiggsDoublets import A, W1p, W1m, W2p, Z1, W2m, xi, tan2xi_sol"
   ]
  },
  {
   "cell_type": "code",
   "execution_count": 76,
   "metadata": {},
   "outputs": [
    {
     "data": {
      "image/png": "[encoded data removed]",
      "text/latex": [
       "$\\displaystyle - \\frac{v_{R}^{2} \\left(p{\\left({{G_R^+}} \\right)} - p{\\left({{G_R^-}} \\right)}\\right) \\left(R_{11} g k_{1}^{2} + R_{21} g k_{1}^{2} + R_{21} g v_{R}^{2} + R_{31} g_{B-L} v_{R}^{2}\\right)}{2 \\left(k_{1}^{2} + v_{R}^{2}\\right)^{2}}$"
      ],
      "text/plain": [
       "    2                                 ⎛           2              2             ↪\n",
       "-v_R ⋅(p({{G_R__+}}) - p({{G_R__-}}))⋅⎝R_{11}⋅g⋅k₁  + R_{21}⋅g⋅k₁  + R_{21}⋅g⋅ ↪\n",
       "────────────────────────────────────────────────────────────────────────────── ↪\n",
       "                                                           2                   ↪\n",
       "                                               ⎛  2      2⎞                    ↪\n",
       "                                             2⋅⎝k₁  + v_R ⎠                    ↪\n",
       "\n",
       "↪    2                     2⎞ \n",
       "↪ v_R  + R_{31}⋅g_{B-L}⋅v_R ⎠ \n",
       "↪ ────────────────────────────\n",
       "↪                             \n",
       "↪                             \n",
       "↪                             "
      ]
     },
     "execution_count": 76,
     "metadata": {},
     "output_type": "execute_result"
    }
   ],
   "source": [
    "interactions_gauge_scalars[3][(A, GRp, GRm)].factor()"
   ]
  },
  {
   "cell_type": "markdown",
   "metadata": {},
   "source": [
    "### Interaction H10 WW"
   ]
  },
  {
   "cell_type": "code",
   "execution_count": 77,
   "metadata": {},
   "outputs": [
    {
     "name": "stdout",
     "output_type": "stream",
     "text": [
      "(A, A, {{H_1^0}})\n",
      "Approximation: \n",
      "-\\alpha_1*g**2*k_1*sin(\\theta_W)**2/(4*\\rho_1) + \\alpha_1*g*g_{B-L}*k_1*sin(\\theta_W)*sqrt(cos(2*\\theta_W))/(2*\\rho_1) - \\alpha_1*g_{B-L}**2*k_1*cos(2*\\theta_W)/(4*\\rho_1) - \\alpha_3*g**2*k_1*sin(\\theta_W)**2/(4*\\rho_1) + \\alpha_3*g*g_{B-L}*k_1*sin(\\theta_W)*sqrt(cos(2*\\theta_W))/(2*\\rho_1) - \\alpha_3*g_{B-L}**2*k_1*cos(2*\\theta_W)/(4*\\rho_1)\n",
      "(A, Z1, {{H_1^0}})\n",
      "Approximation: \n",
      "-\\alpha_1*g**2*k_1*sin(\\theta_W)**2*tan(\\theta_W)/(2*\\rho_1) + \\alpha_1*g*g_{B-L}*k_1*sin(\\theta_W)*sqrt(cos(2*\\theta_W))*tan(\\theta_W)/\\rho_1 - \\alpha_1*g_{B-L}**2*k_1*cos(2*\\theta_W)*tan(\\theta_W)/(2*\\rho_1) - \\alpha_3*g**2*k_1*sin(\\theta_W)**2*tan(\\theta_W)/(2*\\rho_1) + \\alpha_3*g*g_{B-L}*k_1*sin(\\theta_W)*sqrt(cos(2*\\theta_W))*tan(\\theta_W)/\\rho_1 - \\alpha_3*g_{B-L}**2*k_1*cos(2*\\theta_W)*tan(\\theta_W)/(2*\\rho_1)\n",
      "(A, Z2, {{H_1^0}})\n",
      "Approximation: \n",
      "\\alpha_1*g**2*k_1*sin(\\theta_W)*sqrt(cos(2*\\theta_W))/(2*\\rho_1*cos(\\theta_W)) + \\alpha_1*g*g_{B-L}*k_1*sin(\\theta_W)*tan(\\theta_W)/(2*\\rho_1) - \\alpha_1*g*g_{B-L}*k_1*cos(2*\\theta_W)/(2*\\rho_1*cos(\\theta_W)) - \\alpha_1*g_{B-L}**2*k_1*sqrt(cos(2*\\theta_W))*tan(\\theta_W)/(2*\\rho_1) + \\alpha_3*g**2*k_1*sin(\\theta_W)*sqrt(cos(2*\\theta_W))/(2*\\rho_1*cos(\\theta_W)) + \\alpha_3*g*g_{B-L}*k_1*sin(\\theta_W)*tan(\\theta_W)/(2*\\rho_1) - \\alpha_3*g*g_{B-L}*k_1*cos(2*\\theta_W)/(2*\\rho_1*cos(\\theta_W)) - \\alpha_3*g_{B-L}**2*k_1*sqrt(cos(2*\\theta_W))*tan(\\theta_W)/(2*\\rho_1)\n",
      "(Z1, Z1, {{H_1^0}})\n",
      "Approximation: \n",
      "-\\alpha_1*g**2*k_1*sin(\\theta_W)**2*tan(\\theta_W)**2/(4*\\rho_1) + \\alpha_1*g*g_{B-L}*k_1*sin(\\theta_W)*sqrt(cos(2*\\theta_W))*tan(\\theta_W)**2/(2*\\rho_1) - \\alpha_1*g_{B-L}**2*k_1*cos(2*\\theta_W)*tan(\\theta_W)**2/(4*\\rho_1) - \\alpha_3*g**2*k_1*sin(\\theta_W)**2*tan(\\theta_W)**2/(4*\\rho_1) + \\alpha_3*g*g_{B-L}*k_1*sin(\\theta_W)*sqrt(cos(2*\\theta_W))*tan(\\theta_W)**2/(2*\\rho_1) - \\alpha_3*g_{B-L}**2*k_1*cos(2*\\theta_W)*tan(\\theta_W)**2/(4*\\rho_1) + g**2*k_1*sin(\\theta_W)**2*tan(\\theta_W)**2/2 + g**2*k_1*sin(\\theta_W)*cos(\\theta_W)*tan(\\theta_W) + g**2*k_1*cos(\\theta_W)**2/2\n",
      "(Z1, Z2, {{H_1^0}})\n",
      "Approximation: \n",
      "\\alpha_1*g**2*k_1*sin(\\theta_W)*sqrt(cos(2*\\theta_W))*tan(\\theta_W)/(2*\\rho_1*cos(\\theta_W)) + \\alpha_1*g*g_{B-L}*k_1*sin(\\theta_W)*tan(\\theta_W)**2/(2*\\rho_1) - \\alpha_1*g*g_{B-L}*k_1*cos(2*\\theta_W)*tan(\\theta_W)/(2*\\rho_1*cos(\\theta_W)) - \\alpha_1*g_{B-L}**2*k_1*sqrt(cos(2*\\theta_W))*tan(\\theta_W)**2/(2*\\rho_1) + \\alpha_3*g**2*k_1*sin(\\theta_W)*sqrt(cos(2*\\theta_W))*tan(\\theta_W)/(2*\\rho_1*cos(\\theta_W)) + \\alpha_3*g*g_{B-L}*k_1*sin(\\theta_W)*tan(\\theta_W)**2/(2*\\rho_1) - \\alpha_3*g*g_{B-L}*k_1*cos(2*\\theta_W)*tan(\\theta_W)/(2*\\rho_1*cos(\\theta_W)) - \\alpha_3*g_{B-L}**2*k_1*sqrt(cos(2*\\theta_W))*tan(\\theta_W)**2/(2*\\rho_1) - g**2*k_1*sin(\\theta_W)*sqrt(cos(2*\\theta_W))*tan(\\theta_W)/cos(\\theta_W) - g**2*k_1*sqrt(cos(2*\\theta_W))\n",
      "(Z2, Z2, {{H_1^0}})\n",
      "Approximation: \n",
      "-\\alpha_1*g**2*k_1*cos(2*\\theta_W)/(4*\\rho_1*cos(\\theta_W)**2) - \\alpha_1*g*g_{B-L}*k_1*sqrt(cos(2*\\theta_W))*tan(\\theta_W)/(2*\\rho_1*cos(\\theta_W)) - \\alpha_1*g_{B-L}**2*k_1*tan(\\theta_W)**2/(4*\\rho_1) - \\alpha_3*g**2*k_1*cos(2*\\theta_W)/(4*\\rho_1*cos(\\theta_W)**2) - \\alpha_3*g*g_{B-L}*k_1*sqrt(cos(2*\\theta_W))*tan(\\theta_W)/(2*\\rho_1*cos(\\theta_W)) - \\alpha_3*g_{B-L}**2*k_1*tan(\\theta_W)**2/(4*\\rho_1) + g**2*k_1*cos(2*\\theta_W)/(2*cos(\\theta_W)**2)\n",
      "(W_1^+, W_1^-, {{H_1^0}})\n",
      "Approximation: \n",
      "g**2*k_1/2\n",
      "(W_1^+, W_2^-, {{H_1^0}})\n",
      "Approximation: \n",
      "No approximation available\n",
      "(W_1^+, {{H_1^0}}, {{H_R^-}})\n",
      "Approximation: \n",
      "No approximation available\n",
      "(W_1^+, {{G_R^-}}, {{H_1^0}})\n",
      "Approximation: \n",
      "No approximation available\n",
      "(W_1^+, {{G_L^-}}, {{H_1^0}})\n",
      "Approximation: \n",
      "-g*p({{G_L^-}})/2 + g*p({{H_1^0}})/2\n",
      "(W_1^-, W_2^+, {{H_1^0}})\n",
      "Approximation: \n",
      "No approximation available\n",
      "(W_1^-, {{H_1^0}}, {{H_R^+}})\n",
      "Approximation: \n",
      "No approximation available\n",
      "(W_1^-, {{G_R^+}}, {{H_1^0}})\n",
      "Approximation: \n",
      "No approximation available\n",
      "(W_1^-, {{G_L^+}}, {{H_1^0}})\n",
      "Approximation: \n",
      "g*p({{G_L^+}})/2 - g*p({{H_1^0}})/2\n",
      "(W_2^+, W_2^-, {{H_1^0}})\n",
      "Approximation: \n",
      "-\\alpha_1*g**2*k_1/(4*\\rho_1) - \\alpha_3*g**2*k_1/(4*\\rho_1) + g**2*k_1/2\n",
      "(W_2^+, {{H_1^0}}, {{H_R^-}})\n",
      "Approximation: \n",
      "\\alpha_1*g*k_1**2*p({{H_1^0}})/(4*\\rho_1*v_R**2) - \\alpha_1*g*k_1**2*p({{H_R^-}})/(4*\\rho_1*v_R**2) + \\alpha_3*g*k_1**2*p({{H_1^0}})/(4*\\rho_1*v_R**2) - \\alpha_3*g*k_1**2*p({{H_R^-}})/(4*\\rho_1*v_R**2) + g*p({{H_1^0}})/2 - g*p({{H_R^-}})/2\n",
      "(W_2^+, {{G_R^-}}, {{H_1^0}})\n",
      "Approximation: \n",
      "-\\alpha_1*g*k_1*p({{G_R^-}})/(4*\\rho_1*v_R) + \\alpha_1*g*k_1*p({{H_1^0}})/(4*\\rho_1*v_R) - \\alpha_3*g*k_1*p({{G_R^-}})/(4*\\rho_1*v_R) + \\alpha_3*g*k_1*p({{H_1^0}})/(4*\\rho_1*v_R) + g*k_1*p({{G_R^-}})/(2*v_R) - g*k_1*p({{H_1^0}})/(2*v_R)\n",
      "(W_2^+, {{G_L^-}}, {{H_1^0}})\n",
      "Approximation: \n",
      "No approximation available\n",
      "(W_2^-, {{H_1^0}}, {{H_R^+}})\n",
      "Approximation: \n",
      "-\\alpha_1*g*k_1**2*p({{H_1^0}})/(4*\\rho_1*v_R**2) + \\alpha_1*g*k_1**2*p({{H_R^+}})/(4*\\rho_1*v_R**2) - \\alpha_3*g*k_1**2*p({{H_1^0}})/(4*\\rho_1*v_R**2) + \\alpha_3*g*k_1**2*p({{H_R^+}})/(4*\\rho_1*v_R**2) - g*p({{H_1^0}})/2 + g*p({{H_R^+}})/2\n",
      "(W_2^-, {{G_R^+}}, {{H_1^0}})\n",
      "Approximation: \n",
      "\\alpha_1*g*k_1*p({{G_R^+}})/(4*\\rho_1*v_R) - \\alpha_1*g*k_1*p({{H_1^0}})/(4*\\rho_1*v_R) + \\alpha_3*g*k_1*p({{G_R^+}})/(4*\\rho_1*v_R) - \\alpha_3*g*k_1*p({{H_1^0}})/(4*\\rho_1*v_R) - g*k_1*p({{G_R^+}})/(2*v_R) + g*k_1*p({{H_1^0}})/(2*v_R)\n",
      "(W_2^-, {{G_L^+}}, {{H_1^0}})\n",
      "Approximation: \n",
      "No approximation available\n"
     ]
    }
   ],
   "source": [
    "for interaction, coeff in interactions_gauge_scalars[3].items():\n",
    "    if H10 in interaction:\n",
    "        #display(interaction, coeff.factor())\n",
    "        print(interaction)\n",
    "        try:\n",
    "            print('Approximation: ')\n",
    "            print(interactions_gauge_scalars_approx[3][interaction])\n",
    "        except:\n",
    "            print('No approximation available')"
   ]
  },
  {
   "cell_type": "code",
   "execution_count": 78,
   "metadata": {},
   "outputs": [
    {
     "data": {
      "image/png": "[encoded data removed]",
      "text/latex": [
       "$\\displaystyle - \\frac{\\rho_{1} g^{2} v_{R}^{2} \\left(\\alpha_{1} k_{1} \\sin^{2}{\\left(\\xi \\right)} + \\alpha_{3} k_{1} \\sin^{2}{\\left(\\xi \\right)} - 2 \\rho_{1} k_{1} \\sin^{2}{\\left(\\xi \\right)} - 2 \\rho_{1} k_{1} \\cos^{2}{\\left(\\xi \\right)} + 4 \\rho_{1} k_{2} \\sin{\\left(\\xi \\right)} \\cos{\\left(\\xi \\right)}\\right)}{\\alpha_{1}^{2} k_{1}^{2} + 2 \\alpha_{1} \\alpha_{3} k_{1}^{2} + \\alpha_{3}^{2} k_{1}^{2} + 4 \\rho_{1}^{2} v_{R}^{2}}$"
      ],
      "text/plain": [
       "        2    2 ⎛              2                      2                      2  ↪\n",
       "-\\rho₁⋅g ⋅v_R ⋅⎝\\alpha₁⋅k₁⋅sin (\\xi) + \\alpha₃⋅k₁⋅sin (\\xi) - 2⋅\\rho₁⋅k₁⋅sin ( ↪\n",
       "────────────────────────────────────────────────────────────────────────────── ↪\n",
       "                                          2   2                       2        ↪\n",
       "                                   \\alpha₁ ⋅k₁  + 2⋅\\alpha₁⋅\\alpha₃⋅k₁  + \\alp ↪\n",
       "\n",
       "↪                      2                                    ⎞ \n",
       "↪ \\xi) - 2⋅\\rho₁⋅k₁⋅cos (\\xi) + 4⋅\\rho₁⋅k₂⋅sin(\\xi)⋅cos(\\xi)⎠ \n",
       "↪ ────────────────────────────────────────────────────────────\n",
       "↪    2   2          2    2                                    \n",
       "↪ ha₃ ⋅k₁  + 4⋅\\rho₁ ⋅v_R                                     "
      ]
     },
     "execution_count": 78,
     "metadata": {},
     "output_type": "execute_result"
    }
   ],
   "source": [
    "interactions_gauge_scalars[3][(W1p, W1m, H10)].factor()"
   ]
  },
  {
   "cell_type": "code",
   "execution_count": 79,
   "metadata": {},
   "outputs": [
    {
     "data": {
      "image/png": "[encoded data removed]",
      "text/latex": [
       "$\\displaystyle \\frac{g^{2} k_{1}}{2}$"
      ],
      "text/plain": [
       " 2   \n",
       "g ⋅k₁\n",
       "─────\n",
       "  2  "
      ]
     },
     "execution_count": 79,
     "metadata": {},
     "output_type": "execute_result"
    }
   ],
   "source": [
    "interactions_gauge_scalars_approx[3][(W1p, W1m, H10)].factor()"
   ]
  },
  {
   "cell_type": "code",
   "execution_count": 80,
   "metadata": {},
   "outputs": [],
   "source": [
    "interactionsH10_WW = [(W1p, W1m, H10), (W1p, W2m, H10), (W1m, W2p, H10), (W2p, W2m, H10)]"
   ]
  },
  {
   "cell_type": "code",
   "execution_count": 81,
   "metadata": {},
   "outputs": [],
   "source": [
    "from sympy import fraction\n",
    "\n",
    "def full_factor_vR(expr):\n",
    "    \"\"\"\n",
    "    Factorizes both the numerator and denominator of a given expression.\n",
    "    \n",
    "    Parameters:\n",
    "    expr (sympy expression): The input expression to be factorized.\n",
    "    \n",
    "    Returns:\n",
    "    sympy expression: The fully factorized expression.\n",
    "    \"\"\"\n",
    "    # Separate numerator and denominator\n",
    "    numerator, denominator = fraction(expr)\n",
    "    numerator = numerator.collect(vR, lambda x:x.factor(deep=True))\n",
    "    denominator = denominator.collect(vR, lambda x:x.factor(deep=True))\n",
    "    \n",
    "    # Factorize both\n",
    "    factored_expr = numerator / denominator\n",
    "    \n",
    "    return factored_expr"
   ]
  },
  {
   "cell_type": "code",
   "execution_count": 82,
   "metadata": {},
   "outputs": [
    {
     "name": "stdout",
     "output_type": "stream",
     "text": [
      "Interaction: \n"
     ]
    },
    {
     "data": {
      "image/png": "[encoded data removed]",
      "text/latex": [
       "$\\displaystyle W^{+}_{1} W^{-}_{1} {{H_1^0}}$"
      ],
      "text/plain": [
       "W⁺₁⋅W⁻₁⋅{{H_1__0}}"
      ]
     },
     "metadata": {},
     "output_type": "display_data"
    },
    {
     "name": "stdout",
     "output_type": "stream",
     "text": [
      "Coefficient: \n",
      "-\\rho_1*g**2*v_R**2*(\\alpha_1*k_1 + \\alpha_3*k_1 - 4*\\rho_1*k_1 + 4*\\rho_1*k_2*sin(2*\\xi) - k_1*(\\alpha_1 + \\alpha_3)*cos(2*\\xi))/(8*\\rho_1**2*v_R**2 + 2*k_1**2*(\\alpha_1 + \\alpha_3)**2)\n",
      "Coefficient approximation: \n"
     ]
    },
    {
     "data": {
      "image/png": "[encoded data removed]",
      "text/latex": [
       "$\\displaystyle \\frac{g^{2} k_{1}}{2}$"
      ],
      "text/plain": [
       " 2   \n",
       "g ⋅k₁\n",
       "─────\n",
       "  2  "
      ]
     },
     "metadata": {},
     "output_type": "display_data"
    },
    {
     "name": "stdout",
     "output_type": "stream",
     "text": [
      "Interaction: \n"
     ]
    },
    {
     "data": {
      "image/png": "[encoded data removed]",
      "text/latex": [
       "$\\displaystyle W^{+}_{1} W^{-}_{2} {{H_1^0}}$"
      ],
      "text/plain": [
       "W⁺₁⋅W⁻₂⋅{{H_1__0}}"
      ]
     },
     "metadata": {},
     "output_type": "display_data"
    },
    {
     "name": "stdout",
     "output_type": "stream",
     "text": [
      "Coefficient: \n",
      "\\rho_1*g**2*v_R**2*(-4*\\rho_1*k_2*cos(2*\\xi) - k_1*(\\alpha_1 + \\alpha_3)*sin(2*\\xi))/(8*\\rho_1**2*v_R**2 + 2*k_1**2*(\\alpha_1 + \\alpha_3)**2)\n",
      "Coefficient approximation: \n",
      "No approximation available\n",
      "Interaction: \n"
     ]
    },
    {
     "data": {
      "image/png": "[encoded data removed]",
      "text/latex": [
       "$\\displaystyle W^{-}_{1} W^{+}_{2} {{H_1^0}}$"
      ],
      "text/plain": [
       "W⁻₁⋅W⁺₂⋅{{H_1__0}}"
      ]
     },
     "metadata": {},
     "output_type": "display_data"
    },
    {
     "name": "stdout",
     "output_type": "stream",
     "text": [
      "Coefficient: \n",
      "\\rho_1*g**2*v_R**2*(-4*\\rho_1*k_2*cos(2*\\xi) - k_1*(\\alpha_1 + \\alpha_3)*sin(2*\\xi))/(8*\\rho_1**2*v_R**2 + 2*k_1**2*(\\alpha_1 + \\alpha_3)**2)\n",
      "Coefficient approximation: \n",
      "No approximation available\n",
      "Interaction: \n"
     ]
    },
    {
     "data": {
      "image/png": "[encoded data removed]",
      "text/latex": [
       "$\\displaystyle W^{+}_{2} W^{-}_{2} {{H_1^0}}$"
      ],
      "text/plain": [
       "W⁺₂⋅W⁻₂⋅{{H_1__0}}"
      ]
     },
     "metadata": {},
     "output_type": "display_data"
    },
    {
     "name": "stdout",
     "output_type": "stream",
     "text": [
      "Coefficient: \n",
      "-\\rho_1*g**2*v_R**2*(\\alpha_1*k_1 + \\alpha_3*k_1 - 4*\\rho_1*k_1 - 4*\\rho_1*k_2*sin(2*\\xi) + k_1*(\\alpha_1 + \\alpha_3)*cos(2*\\xi))/(8*\\rho_1**2*v_R**2 + 2*k_1**2*(\\alpha_1 + \\alpha_3)**2)\n",
      "Coefficient approximation: \n"
     ]
    },
    {
     "data": {
      "image/png": "[encoded data removed]",
      "text/latex": [
       "$\\displaystyle - \\frac{g^{2} k_{1} \\left(\\alpha_{1} + \\alpha_{3} - 2 \\rho_{1}\\right)}{4 \\rho_{1}}$"
      ],
      "text/plain": [
       "  2                                  \n",
       "-g ⋅k₁⋅(\\alpha₁ + \\alpha₃ - 2⋅\\rho₁) \n",
       "─────────────────────────────────────\n",
       "               4⋅\\rho₁               "
      ]
     },
     "metadata": {},
     "output_type": "display_data"
    }
   ],
   "source": [
    "for interaction_tuple in interactionsH10_WW:\n",
    "    coeff = interactions_gauge_scalars[3][interaction_tuple].factor()\n",
    "    print('Interaction: ')\n",
    "    display(Mul(*interaction_tuple))\n",
    "    print('Coefficient: ')\n",
    "    print(full_factor_vR(\n",
    "        coeff.expand().collect([sin(xi), cos(xi)], factor).subs(\n",
    "        sin(xi)**2,(1 - cos(2*xi)) / 2\n",
    "        ).subs(\n",
    "        cos(xi)**2,(1 + cos(2*xi)) / 2\n",
    "        ).collect(cos(2*xi), lambda x:x.trigsimp()).collect([cos(2*xi), sin(2*xi)]).simplify()\n",
    "    )\n",
    "    )\n",
    "    #display(coeff.trigsimp().factor())\n",
    "    try:\n",
    "        print('Coefficient approximation: ')\n",
    "        display(\n",
    "            full_factor_vR(\n",
    "            interactions_gauge_scalars_approx[3][interaction_tuple].factor()\n",
    "            )\n",
    "        )\n",
    "    except:\n",
    "        print('No approximation available')"
   ]
  },
  {
   "cell_type": "code",
   "execution_count": 83,
   "metadata": {},
   "outputs": [],
   "source": [
    "from symbolic_tools import generate_latex_table_dict, generate_latex_table_dict_2col"
   ]
  },
  {
   "cell_type": "code",
   "execution_count": 84,
   "metadata": {},
   "outputs": [],
   "source": [
    "def simplification_coeff(coeff):\n",
    "    coeff_simplified = full_factor_vR(\n",
    "        coeff.expand().collect([sin(xi), cos(xi)], factor).subs(\n",
    "        sin(xi)**2,(1 - cos(2*xi)) / 2\n",
    "        ).subs(\n",
    "        cos(xi)**2,(1 + cos(2*xi)) / 2\n",
    "        ).collect(cos(2*xi), lambda x:x.trigsimp()).collect([cos(2*xi), sin(2*xi)]).simplify()\n",
    "    )\n",
    "    numerator, denominator = fraction(coeff_simplified) \n",
    "    #return (1/denominator), numerator\n",
    "    return Mul((1/denominator), numerator, evaluate=True)\n",
    "    \n",
    "\n",
    "def simplification_approx(coeff):\n",
    "    coeff_simplified = full_factor_vR(\n",
    "            coeff.subs(cos(xi),1).subs(sin(xi), tan2xi_sol[tan(2*xi)]/2).expand().collect(vR, factor).simplify()\n",
    "        )\n",
    "    numerator, denominator = fraction(coeff_simplified) \n",
    "    return Mul((1/denominator), numerator, evaluate=False)"
   ]
  },
  {
   "cell_type": "code",
   "execution_count": 85,
   "metadata": {},
   "outputs": [],
   "source": [
    "interactionsH10_WW_dict = {interaction:interactions_gauge_scalars[3][interaction] for interaction in interactionsH10_WW}\n",
    "interactionsH10_WW_dict_approx = {}\n",
    "for interaction in interactionsH10_WW:\n",
    "    try:\n",
    "        interactionsH10_WW_dict_approx[interaction] = interactions_gauge_scalars_approx[3][interaction]\n",
    "    except:\n",
    "        pass\n"
   ]
  },
  {
   "cell_type": "code",
   "execution_count": 86,
   "metadata": {},
   "outputs": [
    {
     "name": "stdout",
     "output_type": "stream",
     "text": [
      "\\begin{array}{|c|c|c|}\n",
      "\\hline\n",
      "\\textbf{Interaction} & \\textbf{Coefficient} & \\textbf{Simplified} \\\\\n",
      "\\hline\n",
      "$W^{+}_{1} W^{-}_{1} {{H_1^0}}$ & $- \\frac{\\rho_{1} g^{2} v_{R}^{2} \\left(\\alpha_{1} k_{1} + \\alpha_{3} k_{1} - 4 \\rho_{1} k_{1} + 4 \\rho_{1} k_{2} \\sin{\\left(2 \\xi \\right)} - k_{1} \\left(\\alpha_{1} + \\alpha_{3}\\right) \\cos{\\left(2 \\xi \\right)}\\right)}{8 \\rho_{1}^{2} v_{R}^{2} + 2 k_{1}^{2} \\left(\\alpha_{1} + \\alpha_{3}\\right)^{2}}$ & $\\frac{1}{v_{R}^{2} \\left(4 \\rho_{1}^{2} v_{R}^{2} + k_{1}^{2} \\left(\\alpha_{1} + \\alpha_{3}\\right)^{2}\\right)} 2 \\rho_{1} g^{2} k_{1} \\left(\\rho_{1} v_{R}^{4} - 2 k_{2}^{2} \\left(\\alpha_{1} k_{1}^{2} + \\alpha_{3} k_{1}^{2} - 2 \\rho_{1} k_{1}^{2} + 2 \\rho_{1} v_{R}^{2}\\right)\\right)$ \\\\ \n",
      "\\hline\n",
      "$W^{+}_{1} W^{-}_{2} {{H_1^0}}$ & $\\frac{\\rho_{1} g^{2} v_{R}^{2} \\left(- 4 \\rho_{1} k_{2} \\cos{\\left(2 \\xi \\right)} - k_{1} \\left(\\alpha_{1} + \\alpha_{3}\\right) \\sin{\\left(2 \\xi \\right)}\\right)}{8 \\rho_{1}^{2} v_{R}^{2} + 2 k_{1}^{2} \\left(\\alpha_{1} + \\alpha_{3}\\right)^{2}}$ & $\\frac{1}{v_{R}^{2} \\left(4 \\rho_{1}^{2} v_{R}^{2} + k_{1}^{2} \\left(\\alpha_{1} + \\alpha_{3}\\right)^{2}\\right)} 2 \\rho_{1} g^{2} k_{2} \\left(- \\rho_{1} v_{R}^{4} - k_{1}^{2} \\left(\\alpha_{1} v_{R}^{2} + \\alpha_{3} v_{R}^{2} - 4 \\rho_{1} k_{2}^{2}\\right)\\right)$ \\\\ \n",
      "\\hline\n",
      "$W^{-}_{1} W^{+}_{2} {{H_1^0}}$ & $\\frac{\\rho_{1} g^{2} v_{R}^{2} \\left(- 4 \\rho_{1} k_{2} \\cos{\\left(2 \\xi \\right)} - k_{1} \\left(\\alpha_{1} + \\alpha_{3}\\right) \\sin{\\left(2 \\xi \\right)}\\right)}{8 \\rho_{1}^{2} v_{R}^{2} + 2 k_{1}^{2} \\left(\\alpha_{1} + \\alpha_{3}\\right)^{2}}$ & $\\frac{1}{v_{R}^{2} \\left(4 \\rho_{1}^{2} v_{R}^{2} + k_{1}^{2} \\left(\\alpha_{1} + \\alpha_{3}\\right)^{2}\\right)} 2 \\rho_{1} g^{2} k_{2} \\left(- \\rho_{1} v_{R}^{4} - k_{1}^{2} \\left(\\alpha_{1} v_{R}^{2} + \\alpha_{3} v_{R}^{2} - 4 \\rho_{1} k_{2}^{2}\\right)\\right)$ \\\\ \n",
      "\\hline\n",
      "$W^{+}_{2} W^{-}_{2} {{H_1^0}}$ & $- \\frac{\\rho_{1} g^{2} v_{R}^{2} \\left(\\alpha_{1} k_{1} + \\alpha_{3} k_{1} - 4 \\rho_{1} k_{1} - 4 \\rho_{1} k_{2} \\sin{\\left(2 \\xi \\right)} + k_{1} \\left(\\alpha_{1} + \\alpha_{3}\\right) \\cos{\\left(2 \\xi \\right)}\\right)}{8 \\rho_{1}^{2} v_{R}^{2} + 2 k_{1}^{2} \\left(\\alpha_{1} + \\alpha_{3}\\right)^{2}}$ & $\\frac{1}{v_{R}^{2} \\left(4 \\rho_{1}^{2} v_{R}^{2} + k_{1}^{2} \\left(\\alpha_{1} + \\alpha_{3}\\right)^{2}\\right)} \\rho_{1} g^{2} k_{1} \\left(8 \\rho_{1} k_{2}^{2} \\left(k_{1}^{2} + v_{R}^{2}\\right) + v_{R}^{4} \\left(- \\alpha_{1} - \\alpha_{3} + 2 \\rho_{1}\\right)\\right)$ \\\\ \n",
      "\\hline\n",
      "\\end{array}\n"
     ]
    }
   ],
   "source": [
    "print(generate_latex_table_dict(\n",
    "    interactionsH10_WW_dict, \n",
    "    simplification_coeff=simplification_coeff,\n",
    "    simplification_approx=simplification_approx\n",
    "))"
   ]
  },
  {
   "cell_type": "code",
   "execution_count": 87,
   "metadata": {},
   "outputs": [
    {
     "data": {
      "image/png": "[encoded data removed]",
      "text/latex": [
       "$\\displaystyle \\left\\{ \\left( W^{+}_{1}, \\  W^{-}_{1}, \\  {{H_1^0}}\\right) : \\frac{g^{2} k_{1}}{2}, \\  \\left( W^{+}_{2}, \\  W^{-}_{2}, \\  {{H_1^0}}\\right) : - \\frac{\\alpha_{1} g^{2} k_{1}}{4 \\rho_{1}} - \\frac{\\alpha_{3} g^{2} k_{1}}{4 \\rho_{1}} + \\frac{g^{2} k_{1}}{2}\\right\\}$"
      ],
      "text/plain": [
       "⎧                         2                                        2           ↪\n",
       "⎪                        g ⋅k₁                            \\alpha₁⋅g ⋅k₁   \\alp ↪\n",
       "⎨(W⁺₁, W⁻₁, {{H_1__0}}): ─────, (W⁺₂, W⁻₂, {{H_1__0}}): - ───────────── - ──── ↪\n",
       "⎪                          2                                 4⋅\\rho₁         4 ↪\n",
       "⎩                                                                              ↪\n",
       "\n",
       "↪      2       2   ⎫\n",
       "↪ ha₃⋅g ⋅k₁   g ⋅k₁⎪\n",
       "↪ ───────── + ─────⎬\n",
       "↪ ⋅\\rho₁        2  ⎪\n",
       "↪                  ⎭"
      ]
     },
     "execution_count": 87,
     "metadata": {},
     "output_type": "execute_result"
    }
   ],
   "source": [
    "interactionsH10_WW_dict_approx"
   ]
  },
  {
   "cell_type": "code",
   "execution_count": 88,
   "metadata": {},
   "outputs": [
    {
     "name": "stdout",
     "output_type": "stream",
     "text": [
      "\\begin{array}{|c|c|}\n",
      "\\hline\n",
      "\\textbf{Interaction} & \\textbf{Coefficient} \\\\\n",
      "\\hline\n",
      "$W^{+}_{1} W^{-}_{1} {{H_1^0}}$ & $\\frac{g^{2} k_{1}}{2}$ \\\\ \n",
      "\\hline\n",
      "$W^{+}_{2} W^{-}_{2} {{H_1^0}}$ & $\\frac{g^{2} k_{1} \\left(- \\alpha_{1} - \\alpha_{3} + 2 \\rho_{1}\\right)}{4 \\rho_{1}}$ \\\\ \n",
      "\\hline\n",
      "\\end{array}\n"
     ]
    }
   ],
   "source": [
    "print(generate_latex_table_dict_2col(\n",
    "    interactionsH10_WW_dict_approx,\n",
    "    simplification_coeff=simplify\n",
    "))"
   ]
  },
  {
   "cell_type": "markdown",
   "metadata": {},
   "source": [
    "### Interaction $H_1^0 W_1^+ S^-$"
   ]
  },
  {
   "cell_type": "code",
   "execution_count": 89,
   "metadata": {},
   "outputs": [],
   "source": [
    "from potential_senjanovic_HiggsDoublets import GRp, GLp, HLp, HRp, GRm, GLm, HLm, HRm"
   ]
  },
  {
   "cell_type": "code",
   "execution_count": 90,
   "metadata": {},
   "outputs": [],
   "source": [
    "interactionsH10_W1pSm = []\n",
    "for S in [GLm, GRm, HLm, HRm, H10]:\n",
    "    for S1 in [GLm, GRm, HLm, HRm, H10]:\n",
    "        if (S1 == H10 or S == H10):\n",
    "            interaction_tuple = (W1p, S, S1)\n",
    "            if interaction_tuple not in interactionsH10_W1pSm:\n",
    "                interactionsH10_W1pSm.append(interaction_tuple)\n",
    "\n",
    "interactionsH10_W2pSm = []\n",
    "for S in [GLm, GRm, HLm, HRm, H10]:\n",
    "    for S1 in [GLm, GRm, HLm, HRm, H10]:\n",
    "        if (S1 == H10 or S == H10):\n",
    "            interaction_tuple = (W2p, S, S1)\n",
    "            if interaction_tuple not in interactionsH10_W2pSm:\n",
    "                interactionsH10_W2pSm.append(interaction_tuple)\n",
    "################################################################3\n",
    "interactionsH10_W1mSp = []\n",
    "for S in [GLp, GRp, HLp, HRp, H10]:\n",
    "    for S1 in [GLp, GRp, HLp, HRp, H10]:\n",
    "        if (S1 == H10 or S == H10):\n",
    "            interaction_tuple = (W1m, S, S1)\n",
    "            if interaction_tuple not in interactionsH10_W1mSp:\n",
    "                interactionsH10_W1mSp.append(interaction_tuple)\n",
    "\n",
    "interactionsH10_W2mSp = []\n",
    "for S in [GLp, GRp, HLp, HRp, H10]:\n",
    "    for S1 in [GLp, GRp, HLp, HRp, H10]:\n",
    "        if (S1 == H10 or S == H10):\n",
    "            interaction_tuple = (W2m, S, S1)\n",
    "            if interaction_tuple not in interactionsH10_W2mSp:\n",
    "                interactionsH10_W2mSp.append(interaction_tuple)"
   ]
  },
  {
   "cell_type": "code",
   "execution_count": 91,
   "metadata": {},
   "outputs": [
    {
     "name": "stdout",
     "output_type": "stream",
     "text": [
      "interaction: (W_1^+, {{G_L^-}}, {{H_1^0}})\n",
      "interaction: (W_1^+, {{G_R^-}}, {{H_1^0}})\n",
      "This interaction is not present in this model: (W_1^+, {{H_L^-}}, {{H_1^0}})\n",
      "This interaction is not present in this model: (W_1^+, {{H_R^-}}, {{H_1^0}})\n",
      "This interaction is not present in this model: (W_1^+, {{H_1^0}}, {{G_L^-}})\n",
      "This interaction is not present in this model: (W_1^+, {{H_1^0}}, {{G_R^-}})\n",
      "This interaction is not present in this model: (W_1^+, {{H_1^0}}, {{H_L^-}})\n",
      "interaction: (W_1^+, {{H_1^0}}, {{H_R^-}})\n",
      "This interaction is not present in this model: (W_1^+, {{H_1^0}}, {{H_1^0}})\n",
      "interaction: (W_2^+, {{G_L^-}}, {{H_1^0}})\n",
      "interaction: (W_2^+, {{G_R^-}}, {{H_1^0}})\n",
      "This interaction is not present in this model: (W_2^+, {{H_L^-}}, {{H_1^0}})\n",
      "This interaction is not present in this model: (W_2^+, {{H_R^-}}, {{H_1^0}})\n",
      "This interaction is not present in this model: (W_2^+, {{H_1^0}}, {{G_L^-}})\n",
      "This interaction is not present in this model: (W_2^+, {{H_1^0}}, {{G_R^-}})\n",
      "This interaction is not present in this model: (W_2^+, {{H_1^0}}, {{H_L^-}})\n",
      "interaction: (W_2^+, {{H_1^0}}, {{H_R^-}})\n",
      "This interaction is not present in this model: (W_2^+, {{H_1^0}}, {{H_1^0}})\n",
      "##################################################\n",
      "interaction: (W_1^-, {{G_L^+}}, {{H_1^0}})\n",
      "interaction: (W_1^-, {{G_R^+}}, {{H_1^0}})\n",
      "This interaction is not present in this model: (W_1^-, {{H_L^+}}, {{H_1^0}})\n",
      "This interaction is not present in this model: (W_1^-, {{H_R^+}}, {{H_1^0}})\n",
      "This interaction is not present in this model: (W_1^-, {{H_1^0}}, {{G_L^+}})\n",
      "This interaction is not present in this model: (W_1^-, {{H_1^0}}, {{G_R^+}})\n",
      "This interaction is not present in this model: (W_1^-, {{H_1^0}}, {{H_L^+}})\n",
      "interaction: (W_1^-, {{H_1^0}}, {{H_R^+}})\n",
      "This interaction is not present in this model: (W_1^-, {{H_1^0}}, {{H_1^0}})\n",
      "interaction: (W_2^-, {{G_L^+}}, {{H_1^0}})\n",
      "interaction: (W_2^-, {{G_R^+}}, {{H_1^0}})\n",
      "This interaction is not present in this model: (W_2^-, {{H_L^+}}, {{H_1^0}})\n",
      "This interaction is not present in this model: (W_2^-, {{H_R^+}}, {{H_1^0}})\n",
      "This interaction is not present in this model: (W_2^-, {{H_1^0}}, {{G_L^+}})\n",
      "This interaction is not present in this model: (W_2^-, {{H_1^0}}, {{G_R^+}})\n",
      "This interaction is not present in this model: (W_2^-, {{H_1^0}}, {{H_L^+}})\n",
      "interaction: (W_2^-, {{H_1^0}}, {{H_R^+}})\n",
      "This interaction is not present in this model: (W_2^-, {{H_1^0}}, {{H_1^0}})\n"
     ]
    }
   ],
   "source": [
    "interactionsH10_W1pSm_dict = {}\n",
    "for interaction in interactionsH10_W1pSm:\n",
    "    try:\n",
    "        interactionsH10_W1pSm_dict[interaction] = interactions_gauge_scalars[3][interaction]\n",
    "        print(f'interaction: {interaction}')\n",
    "    except:\n",
    "        print(f'This interaction is not present in this model: {interaction}')\n",
    "\n",
    "interactionsH10_W2pSm_dict = {}\n",
    "for interaction in interactionsH10_W2pSm:\n",
    "    try:\n",
    "        interactionsH10_W2pSm_dict[interaction] = interactions_gauge_scalars[3][interaction]\n",
    "        print(f'interaction: {interaction}')\n",
    "    except:\n",
    "        print(f'This interaction is not present in this model: {interaction}')\n",
    "##############################################################################33\n",
    "print('#'*50)\n",
    "interactionsH10_W1mSp_dict = {}\n",
    "for interaction in interactionsH10_W1mSp:\n",
    "    try:\n",
    "        interactionsH10_W1mSp_dict[interaction] = interactions_gauge_scalars[3][interaction]\n",
    "        print(f'interaction: {interaction}')\n",
    "    except:\n",
    "        print(f'This interaction is not present in this model: {interaction}')\n",
    "\n",
    "interactionsH10_W2mSp_dict = {}\n",
    "for interaction in interactionsH10_W2mSp:\n",
    "    try:\n",
    "        interactionsH10_W2mSp_dict[interaction] = interactions_gauge_scalars[3][interaction]\n",
    "        print(f'interaction: {interaction}')\n",
    "    except:\n",
    "        print(f'This interaction is not present in this model: {interaction}')"
   ]
  },
  {
   "cell_type": "code",
   "execution_count": 92,
   "metadata": {},
   "outputs": [
    {
     "name": "stdout",
     "output_type": "stream",
     "text": [
      "Interaction: \n",
      "(W_1^+, {{G_L^-}}, {{H_1^0}})\n",
      "Coefficient: \n",
      "-2*\\rho_1**2*g*v_R**2*(p({{G_L^-}}) - p({{H_1^0}}))*cos(\\xi)/(\\alpha_1**2*k_1**2 + 2*\\alpha_1*\\alpha_3*k_1**2 + \\alpha_3**2*k_1**2 + 4*\\rho_1**2*v_R**2)\n",
      "Approximation: \n",
      "-g*(p({{G_L^-}}) - p({{H_1^0}}))/2\n",
      "Interaction: \n",
      "(W_1^+, {{G_R^-}}, {{H_1^0}})\n",
      "Coefficient: \n",
      "-\\rho_1*g*k_1*v_R**3*(p({{G_R^-}}) - p({{H_1^0}}))*(\\alpha_1 + \\alpha_3 - 2*\\rho_1)*sin(\\xi)/((k_1**2 + v_R**2)*(\\alpha_1**2*k_1**2 + 2*\\alpha_1*\\alpha_3*k_1**2 + \\alpha_3**2*k_1**2 + 4*\\rho_1**2*v_R**2))\n",
      "Approximation: \n",
      "No approximation available\n",
      "Interaction: \n",
      "(W_1^+, {{H_1^0}}, {{H_R^-}})\n",
      "Coefficient: \n",
      "\\rho_1*g*v_R**2*(p({{H_1^0}}) - p({{H_R^-}}))*(\\alpha_1*k_1**2 + \\alpha_3*k_1**2 + 2*\\rho_1*v_R**2)*sin(\\xi)/((k_1**2 + v_R**2)*(\\alpha_1**2*k_1**2 + 2*\\alpha_1*\\alpha_3*k_1**2 + \\alpha_3**2*k_1**2 + 4*\\rho_1**2*v_R**2))\n",
      "Approximation: \n",
      "No approximation available\n",
      "Interaction: \n",
      "(W_2^+, {{G_L^-}}, {{H_1^0}})\n",
      "Coefficient: \n",
      "2*\\rho_1**2*g*v_R**2*(p({{G_L^-}}) - p({{H_1^0}}))*sin(\\xi)/(\\alpha_1**2*k_1**2 + 2*\\alpha_1*\\alpha_3*k_1**2 + \\alpha_3**2*k_1**2 + 4*\\rho_1**2*v_R**2)\n",
      "Approximation: \n",
      "No approximation available\n",
      "Interaction: \n",
      "(W_2^+, {{G_R^-}}, {{H_1^0}})\n",
      "Coefficient: \n",
      "-\\rho_1*g*k_1*v_R**3*(p({{G_R^-}}) - p({{H_1^0}}))*(\\alpha_1 + \\alpha_3 - 2*\\rho_1)*cos(\\xi)/((k_1**2 + v_R**2)*(\\alpha_1**2*k_1**2 + 2*\\alpha_1*\\alpha_3*k_1**2 + \\alpha_3**2*k_1**2 + 4*\\rho_1**2*v_R**2))\n",
      "Approximation: \n",
      "-g*k_1*(p({{G_R^-}}) - p({{H_1^0}}))*(\\alpha_1 + \\alpha_3 - 2*\\rho_1)/(4*\\rho_1*v_R)\n",
      "Interaction: \n",
      "(W_2^+, {{H_1^0}}, {{H_R^-}})\n",
      "Coefficient: \n",
      "\\rho_1*g*v_R**2*(p({{H_1^0}}) - p({{H_R^-}}))*(\\alpha_1*k_1**2 + \\alpha_3*k_1**2 + 2*\\rho_1*v_R**2)*cos(\\xi)/((k_1**2 + v_R**2)*(\\alpha_1**2*k_1**2 + 2*\\alpha_1*\\alpha_3*k_1**2 + \\alpha_3**2*k_1**2 + 4*\\rho_1**2*v_R**2))\n",
      "Approximation: \n",
      "g*(p({{H_1^0}}) - p({{H_R^-}}))*(\\alpha_1*k_1**2 + \\alpha_3*k_1**2 + 2*\\rho_1*v_R**2)/(4*\\rho_1*v_R**2)\n",
      "Interaction: \n",
      "(W_1^-, {{G_L^+}}, {{H_1^0}})\n",
      "Coefficient: \n",
      "2*\\rho_1**2*g*v_R**2*(p({{G_L^+}}) - p({{H_1^0}}))*cos(\\xi)/(\\alpha_1**2*k_1**2 + 2*\\alpha_1*\\alpha_3*k_1**2 + \\alpha_3**2*k_1**2 + 4*\\rho_1**2*v_R**2)\n",
      "Approximation: \n",
      "g*(p({{G_L^+}}) - p({{H_1^0}}))/2\n",
      "Interaction: \n",
      "(W_1^-, {{G_R^+}}, {{H_1^0}})\n",
      "Coefficient: \n",
      "\\rho_1*g*k_1*v_R**3*(p({{G_R^+}}) - p({{H_1^0}}))*(\\alpha_1 + \\alpha_3 - 2*\\rho_1)*sin(\\xi)/((k_1**2 + v_R**2)*(\\alpha_1**2*k_1**2 + 2*\\alpha_1*\\alpha_3*k_1**2 + \\alpha_3**2*k_1**2 + 4*\\rho_1**2*v_R**2))\n",
      "Approximation: \n",
      "No approximation available\n",
      "Interaction: \n",
      "(W_1^-, {{H_1^0}}, {{H_R^+}})\n",
      "Coefficient: \n",
      "-\\rho_1*g*v_R**2*(p({{H_1^0}}) - p({{H_R^+}}))*(\\alpha_1*k_1**2 + \\alpha_3*k_1**2 + 2*\\rho_1*v_R**2)*sin(\\xi)/((k_1**2 + v_R**2)*(\\alpha_1**2*k_1**2 + 2*\\alpha_1*\\alpha_3*k_1**2 + \\alpha_3**2*k_1**2 + 4*\\rho_1**2*v_R**2))\n",
      "Approximation: \n",
      "No approximation available\n",
      "Interaction: \n",
      "(W_2^-, {{G_L^+}}, {{H_1^0}})\n",
      "Coefficient: \n",
      "-2*\\rho_1**2*g*v_R**2*(p({{G_L^+}}) - p({{H_1^0}}))*sin(\\xi)/(\\alpha_1**2*k_1**2 + 2*\\alpha_1*\\alpha_3*k_1**2 + \\alpha_3**2*k_1**2 + 4*\\rho_1**2*v_R**2)\n",
      "Approximation: \n",
      "No approximation available\n",
      "Interaction: \n",
      "(W_2^-, {{G_R^+}}, {{H_1^0}})\n",
      "Coefficient: \n",
      "\\rho_1*g*k_1*v_R**3*(p({{G_R^+}}) - p({{H_1^0}}))*(\\alpha_1 + \\alpha_3 - 2*\\rho_1)*cos(\\xi)/((k_1**2 + v_R**2)*(\\alpha_1**2*k_1**2 + 2*\\alpha_1*\\alpha_3*k_1**2 + \\alpha_3**2*k_1**2 + 4*\\rho_1**2*v_R**2))\n",
      "Approximation: \n",
      "g*k_1*(p({{G_R^+}}) - p({{H_1^0}}))*(\\alpha_1 + \\alpha_3 - 2*\\rho_1)/(4*\\rho_1*v_R)\n",
      "Interaction: \n",
      "(W_2^-, {{H_1^0}}, {{H_R^+}})\n",
      "Coefficient: \n",
      "-\\rho_1*g*v_R**2*(p({{H_1^0}}) - p({{H_R^+}}))*(\\alpha_1*k_1**2 + \\alpha_3*k_1**2 + 2*\\rho_1*v_R**2)*cos(\\xi)/((k_1**2 + v_R**2)*(\\alpha_1**2*k_1**2 + 2*\\alpha_1*\\alpha_3*k_1**2 + \\alpha_3**2*k_1**2 + 4*\\rho_1**2*v_R**2))\n",
      "Approximation: \n",
      "-g*(p({{H_1^0}}) - p({{H_R^+}}))*(\\alpha_1*k_1**2 + \\alpha_3*k_1**2 + 2*\\rho_1*v_R**2)/(4*\\rho_1*v_R**2)\n"
     ]
    }
   ],
   "source": [
    "interactionsH10_W1pSm_dict_approx = {}\n",
    "for interaction, coeff in interactionsH10_W1pSm_dict.items():\n",
    "    print('Interaction: ')\n",
    "    print(interaction)\n",
    "    print('Coefficient: ')\n",
    "    coeff_factor = coeff.factor()\n",
    "    print(coeff_factor)\n",
    "    interactionsH10_W1pSm_dict[interaction] = coeff_factor\n",
    "    try:\n",
    "        print('Approximation: ')\n",
    "        interactionsH10_W1pSm_dict_approx[interaction] = interactions_gauge_scalars_approx[3][interaction].factor()\n",
    "        print(interactionsH10_W1pSm_dict_approx[interaction])\n",
    "    except:\n",
    "        print('No approximation available')\n",
    "\n",
    "interactionsH10_W2pSm_dict_approx = {}\n",
    "for interaction, coeff in interactionsH10_W2pSm_dict.items():\n",
    "    print('Interaction: ')\n",
    "    print(interaction)\n",
    "    print('Coefficient: ')\n",
    "    coeff_factor = coeff.factor()\n",
    "    print(coeff_factor)\n",
    "    interactionsH10_W2pSm_dict[interaction] = coeff_factor\n",
    "    try:\n",
    "        print('Approximation: ')\n",
    "        interactionsH10_W2pSm_dict_approx[interaction] = interactions_gauge_scalars_approx[3][interaction].factor()\n",
    "        print(interactionsH10_W2pSm_dict_approx[interaction])\n",
    "    except:\n",
    "        print('No approximation available')\n",
    "############################################################\n",
    "interactionsH10_W1mSp_dict_approx = {}\n",
    "for interaction, coeff in interactionsH10_W1mSp_dict.items():\n",
    "    print('Interaction: ')\n",
    "    print(interaction)\n",
    "    print('Coefficient: ')\n",
    "    coeff_factor = coeff.factor()\n",
    "    print(coeff_factor)\n",
    "    interactionsH10_W1mSp_dict[interaction] = coeff_factor\n",
    "    try:\n",
    "        print('Approximation: ')\n",
    "        interactionsH10_W1mSp_dict_approx[interaction] = interactions_gauge_scalars_approx[3][interaction].factor()\n",
    "        print(interactionsH10_W1mSp_dict_approx[interaction])\n",
    "    except:\n",
    "        print('No approximation available')\n",
    "\n",
    "interactionsH10_W2mSp_dict_approx = {}\n",
    "for interaction, coeff in interactionsH10_W2mSp_dict.items():\n",
    "    print('Interaction: ')\n",
    "    print(interaction)\n",
    "    print('Coefficient: ')\n",
    "    coeff_factor = coeff.factor()\n",
    "    print(coeff_factor)\n",
    "    interactionsH10_W2mSp_dict[interaction] = coeff_factor\n",
    "    try:\n",
    "        print('Approximation: ')\n",
    "        interactionsH10_W2mSp_dict_approx[interaction] = interactions_gauge_scalars_approx[3][interaction].factor()\n",
    "        print(interactionsH10_W2mSp_dict_approx[interaction])\n",
    "    except:\n",
    "        print('No approximation available')"
   ]
  },
  {
   "cell_type": "code",
   "execution_count": 93,
   "metadata": {},
   "outputs": [
    {
     "data": {
      "image/png": "[encoded data removed]",
      "text/latex": [
       "$\\displaystyle \\left( \\left\\{ \\left( W^{+}_{1}, \\  {{G_L^-}}, \\  {{H_1^0}}\\right) : - \\frac{g \\left(p{\\left({{G_L^-}} \\right)} - p{\\left({{H_1^0}} \\right)}\\right)}{2}\\right\\}, \\  \\left\\{ \\left( W^{-}_{1}, \\  {{G_L^+}}, \\  {{H_1^0}}\\right) : \\frac{g \\left(p{\\left({{G_L^+}} \\right)} - p{\\left({{H_1^0}} \\right)}\\right)}{2}\\right\\}\\right)$"
      ],
      "text/plain": [
       "⎛⎧                               -g⋅(p({{G_L__-}}) - p({{H_1__0}})) ⎫  ⎧       ↪\n",
       "⎜⎨(W⁺₁, {{G_L__-}}, {{H_1__0}}): ───────────────────────────────────⎬, ⎨(W⁻₁,  ↪\n",
       "⎝⎩                                                2                 ⎭  ⎩       ↪\n",
       "\n",
       "↪                          g⋅(p({{G_L__+}}) - p({{H_1__0}}))⎫⎞\n",
       "↪ {{G_L__+}}, {{H_1__0}}): ─────────────────────────────────⎬⎟\n",
       "↪                                          2                ⎭⎠"
      ]
     },
     "execution_count": 93,
     "metadata": {},
     "output_type": "execute_result"
    }
   ],
   "source": [
    "interactionsH10_W1pSm_dict_approx, interactionsH10_W1mSp_dict_approx"
   ]
  },
  {
   "cell_type": "code",
   "execution_count": 94,
   "metadata": {},
   "outputs": [
    {
     "data": {
      "image/png": "[encoded data removed]",
      "text/latex": [
       "$\\displaystyle \\left( \\left\\{ \\left( W^{+}_{2}, \\  {{G_R^-}}, \\  {{H_1^0}}\\right) : - \\frac{g k_{1} \\left(p{\\left({{G_R^-}} \\right)} - p{\\left({{H_1^0}} \\right)}\\right) \\left(\\alpha_{1} + \\alpha_{3} - 2 \\rho_{1}\\right)}{4 \\rho_{1} v_{R}}, \\  \\left( W^{+}_{2}, \\  {{H_1^0}}, \\  {{H_R^-}}\\right) : \\frac{g \\left(p{\\left({{H_1^0}} \\right)} - p{\\left({{H_R^-}} \\right)}\\right) \\left(\\alpha_{1} k_{1}^{2} + \\alpha_{3} k_{1}^{2} + 2 \\rho_{1} v_{R}^{2}\\right)}{4 \\rho_{1} v_{R}^{2}}\\right\\}, \\  \\left\\{ \\left( W^{-}_{2}, \\  {{G_R^+}}, \\  {{H_1^0}}\\right) : \\frac{g k_{1} \\left(p{\\left({{G_R^+}} \\right)} - p{\\left({{H_1^0}} \\right)}\\right) \\left(\\alpha_{1} + \\alpha_{3} - 2 \\rho_{1}\\right)}{4 \\rho_{1} v_{R}}, \\  \\left( W^{-}_{2}, \\  {{H_1^0}}, \\  {{H_R^+}}\\right) : - \\frac{g \\left(p{\\left({{H_1^0}} \\right)} - p{\\left({{H_R^+}} \\right)}\\right) \\left(\\alpha_{1} k_{1}^{2} + \\alpha_{3} k_{1}^{2} + 2 \\rho_{1} v_{R}^{2}\\right)}{4 \\rho_{1} v_{R}^{2}}\\right\\}\\right)$"
      ],
      "text/plain": [
       "⎛⎧                                                                             ↪\n",
       "⎜⎪                               -g⋅k₁⋅(p({{G_R__-}}) - p({{H_1__0}}))⋅(\\alpha ↪\n",
       "⎜⎨(W⁺₂, {{G_R__-}}, {{H_1__0}}): ───────────────────────────────────────────── ↪\n",
       "⎜⎪                                                           4⋅\\rho₁⋅v_R       ↪\n",
       "⎝⎩                                                                             ↪\n",
       "\n",
       "↪                                                                              ↪\n",
       "↪ ₁ + \\alpha₃ - 2⋅\\rho₁)                                  g⋅(p({{H_1__0}}) - p ↪\n",
       "↪ ───────────────────────, (W⁺₂, {{H_1__0}}, {{H_R__-}}): ──────────────────── ↪\n",
       "↪                                                                              ↪\n",
       "↪                                                                              ↪\n",
       "\n",
       "↪               ⎛          2             2              2⎞⎫  ⎧                 ↪\n",
       "↪ ({{H_R__-}}))⋅⎝\\alpha₁⋅k₁  + \\alpha₃⋅k₁  + 2⋅\\rho₁⋅v_R ⎠⎪  ⎪                 ↪\n",
       "↪ ────────────────────────────────────────────────────────⎬, ⎨(W⁻₂, {{G_R__+}} ↪\n",
       "↪                        2                                ⎪  ⎪                 ↪\n",
       "↪             4⋅\\rho₁⋅v_R                                 ⎭  ⎩                 ↪\n",
       "\n",
       "↪                                                                              ↪\n",
       "↪                g⋅k₁⋅(p({{G_R__+}}) - p({{H_1__0}}))⋅(\\alpha₁ + \\alpha₃ - 2⋅\\ ↪\n",
       "↪ , {{H_1__0}}): ───────────────────────────────────────────────────────────── ↪\n",
       "↪                                           4⋅\\rho₁⋅v_R                        ↪\n",
       "↪                                                                              ↪\n",
       "\n",
       "↪                                                                          ⎛   ↪\n",
       "↪ rho₁)                                 -g⋅(p({{H_1__0}}) - p({{H_R__+}}))⋅⎝\\a ↪\n",
       "↪ ─────, (W⁻₂, {{H_1__0}}, {{H_R__+}}): ────────────────────────────────────── ↪\n",
       "↪                                                                              ↪\n",
       "↪                                                                        4⋅\\rh ↪\n",
       "\n",
       "↪         2             2              2⎞ ⎫⎞\n",
       "↪ lpha₁⋅k₁  + \\alpha₃⋅k₁  + 2⋅\\rho₁⋅v_R ⎠ ⎪⎟\n",
       "↪ ────────────────────────────────────────⎬⎟\n",
       "↪       2                                 ⎪⎟\n",
       "↪ o₁⋅v_R                                  ⎭⎠"
      ]
     },
     "execution_count": 94,
     "metadata": {},
     "output_type": "execute_result"
    }
   ],
   "source": [
    "interactionsH10_W2pSm_dict_approx, interactionsH10_W2mSp_dict_approx"
   ]
  },
  {
   "cell_type": "code",
   "execution_count": 95,
   "metadata": {},
   "outputs": [
    {
     "name": "stdout",
     "output_type": "stream",
     "text": [
      "\\begin{array}{|c|c|}\n",
      "\\hline\n",
      "\\textbf{Interaction} & \\textbf{Coefficient} \\\\\n",
      "\\hline\n",
      "$W^{+}_{1} {{G_L^-}} {{H_1^0}}$ & $- \\frac{2 \\rho_{1}^{2} g v_{R}^{2} \\left(p{\\left({{G_L^-}} \\right)} - p{\\left({{H_1^0}} \\right)}\\right) \\cos{\\left(\\xi \\right)}}{\\alpha_{1}^{2} k_{1}^{2} + 2 \\alpha_{1} \\alpha_{3} k_{1}^{2} + \\alpha_{3}^{2} k_{1}^{2} + 4 \\rho_{1}^{2} v_{R}^{2}}$ \\\\ \n",
      "\\hline\n",
      "$W^{+}_{1} {{G_R^-}} {{H_1^0}}$ & $- \\frac{\\rho_{1} g k_{1} v_{R}^{3} \\left(p{\\left({{G_R^-}} \\right)} - p{\\left({{H_1^0}} \\right)}\\right) \\left(\\alpha_{1} + \\alpha_{3} - 2 \\rho_{1}\\right) \\sin{\\left(\\xi \\right)}}{\\left(k_{1}^{2} + v_{R}^{2}\\right) \\left(\\alpha_{1}^{2} k_{1}^{2} + 2 \\alpha_{1} \\alpha_{3} k_{1}^{2} + \\alpha_{3}^{2} k_{1}^{2} + 4 \\rho_{1}^{2} v_{R}^{2}\\right)}$ \\\\ \n",
      "\\hline\n",
      "$W^{+}_{1} {{H_1^0}} {{H_R^-}}$ & $\\frac{\\rho_{1} g v_{R}^{2} \\left(p{\\left({{H_1^0}} \\right)} - p{\\left({{H_R^-}} \\right)}\\right) \\left(\\alpha_{1} k_{1}^{2} + \\alpha_{3} k_{1}^{2} + 2 \\rho_{1} v_{R}^{2}\\right) \\sin{\\left(\\xi \\right)}}{\\left(k_{1}^{2} + v_{R}^{2}\\right) \\left(\\alpha_{1}^{2} k_{1}^{2} + 2 \\alpha_{1} \\alpha_{3} k_{1}^{2} + \\alpha_{3}^{2} k_{1}^{2} + 4 \\rho_{1}^{2} v_{R}^{2}\\right)}$ \\\\ \n",
      "\\hline\n",
      "\\end{array}\n"
     ]
    }
   ],
   "source": [
    "print(generate_latex_table_dict_2col(interactionsH10_W1pSm_dict))"
   ]
  },
  {
   "cell_type": "code",
   "execution_count": 96,
   "metadata": {},
   "outputs": [
    {
     "name": "stdout",
     "output_type": "stream",
     "text": [
      "\\begin{array}{|c|c|}\n",
      "\\hline\n",
      "\\textbf{Interaction} & \\textbf{Coefficient} \\\\\n",
      "\\hline\n",
      "$W^{+}_{1} {{G_L^-}} {{H_1^0}}$ & $- \\frac{g \\left(p{\\left({{G_L^-}} \\right)} - p{\\left({{H_1^0}} \\right)}\\right)}{2}$ \\\\ \n",
      "\\hline\n",
      "\\end{array}\n"
     ]
    }
   ],
   "source": [
    "print(generate_latex_table_dict_2col(interactionsH10_W1pSm_dict_approx))"
   ]
  },
  {
   "cell_type": "code",
   "execution_count": 97,
   "metadata": {},
   "outputs": [
    {
     "name": "stdout",
     "output_type": "stream",
     "text": [
      "\\begin{array}{|c|c|}\n",
      "\\hline\n",
      "\\textbf{Interaction} & \\textbf{Coefficient} \\\\\n",
      "\\hline\n",
      "$W^{+}_{2} {{G_L^-}} {{H_1^0}}$ & $\\frac{2 \\rho_{1}^{2} g v_{R}^{2} \\left(p{\\left({{G_L^-}} \\right)} - p{\\left({{H_1^0}} \\right)}\\right) \\sin{\\left(\\xi \\right)}}{\\alpha_{1}^{2} k_{1}^{2} + 2 \\alpha_{1} \\alpha_{3} k_{1}^{2} + \\alpha_{3}^{2} k_{1}^{2} + 4 \\rho_{1}^{2} v_{R}^{2}}$ \\\\ \n",
      "\\hline\n",
      "$W^{+}_{2} {{G_R^-}} {{H_1^0}}$ & $- \\frac{\\rho_{1} g k_{1} v_{R}^{3} \\left(p{\\left({{G_R^-}} \\right)} - p{\\left({{H_1^0}} \\right)}\\right) \\left(\\alpha_{1} + \\alpha_{3} - 2 \\rho_{1}\\right) \\cos{\\left(\\xi \\right)}}{\\left(k_{1}^{2} + v_{R}^{2}\\right) \\left(\\alpha_{1}^{2} k_{1}^{2} + 2 \\alpha_{1} \\alpha_{3} k_{1}^{2} + \\alpha_{3}^{2} k_{1}^{2} + 4 \\rho_{1}^{2} v_{R}^{2}\\right)}$ \\\\ \n",
      "\\hline\n",
      "$W^{+}_{2} {{H_1^0}} {{H_R^-}}$ & $\\frac{\\rho_{1} g v_{R}^{2} \\left(p{\\left({{H_1^0}} \\right)} - p{\\left({{H_R^-}} \\right)}\\right) \\left(\\alpha_{1} k_{1}^{2} + \\alpha_{3} k_{1}^{2} + 2 \\rho_{1} v_{R}^{2}\\right) \\cos{\\left(\\xi \\right)}}{\\left(k_{1}^{2} + v_{R}^{2}\\right) \\left(\\alpha_{1}^{2} k_{1}^{2} + 2 \\alpha_{1} \\alpha_{3} k_{1}^{2} + \\alpha_{3}^{2} k_{1}^{2} + 4 \\rho_{1}^{2} v_{R}^{2}\\right)}$ \\\\ \n",
      "\\hline\n",
      "\\end{array}\n"
     ]
    }
   ],
   "source": [
    "print(generate_latex_table_dict_2col(interactionsH10_W2pSm_dict))"
   ]
  },
  {
   "cell_type": "code",
   "execution_count": 98,
   "metadata": {},
   "outputs": [
    {
     "name": "stdout",
     "output_type": "stream",
     "text": [
      "\\begin{array}{|c|c|}\n",
      "\\hline\n",
      "\\textbf{Interaction} & \\textbf{Coefficient} \\\\\n",
      "\\hline\n",
      "$W^{+}_{2} {{G_R^-}} {{H_1^0}}$ & $- \\frac{g k_{1} \\left(p{\\left({{G_R^-}} \\right)} - p{\\left({{H_1^0}} \\right)}\\right) \\left(\\alpha_{1} + \\alpha_{3} - 2 \\rho_{1}\\right)}{4 \\rho_{1} v_{R}}$ \\\\ \n",
      "\\hline\n",
      "$W^{+}_{2} {{H_1^0}} {{H_R^-}}$ & $\\frac{g \\left(p{\\left({{H_1^0}} \\right)} - p{\\left({{H_R^-}} \\right)}\\right) \\left(\\alpha_{1} k_{1}^{2} + \\alpha_{3} k_{1}^{2} + 2 \\rho_{1} v_{R}^{2}\\right)}{4 \\rho_{1} v_{R}^{2}}$ \\\\ \n",
      "\\hline\n",
      "\\end{array}\n"
     ]
    }
   ],
   "source": [
    "print(generate_latex_table_dict_2col(interactionsH10_W2pSm_dict_approx))"
   ]
  },
  {
   "cell_type": "markdown",
   "metadata": {},
   "source": [
    "### Interaction Z1 SS"
   ]
  },
  {
   "cell_type": "code",
   "execution_count": 99,
   "metadata": {},
   "outputs": [
    {
     "name": "stdout",
     "output_type": "stream",
     "text": [
      "Interaction: \n",
      "(A, Z1, {{H_2^0}})\n",
      "Approximation: \n",
      "v_R*(g**2*sin(\\theta_W)**2 - 2*g*g_{B-L}*sin(\\theta_W)*sqrt(cos(2*\\theta_W)) + g_{B-L}**2*cos(2*\\theta_W))*tan(\\theta_W)\n",
      "Interaction: \n",
      "(A, Z1, {{H_1^0}})\n",
      "Approximation: \n",
      "-k_1*(\\alpha_1 + \\alpha_3)*(g**2*sin(\\theta_W)**2 - 2*g*g_{B-L}*sin(\\theta_W)*sqrt(cos(2*\\theta_W)) + g_{B-L}**2*cos(2*\\theta_W))*tan(\\theta_W)/(2*\\rho_1)\n",
      "Interaction: \n",
      "(A, Z1, {{G_{Z_1}}})\n",
      "Approximation: \n",
      "No approximation available\n",
      "Interaction: \n",
      "(A, Z1, {{A_1^0}})\n",
      "Approximation: \n",
      "No approximation available\n",
      "Interaction: \n",
      "(A, Z1, {{H_3^0}})\n",
      "Approximation: \n",
      "No approximation available\n",
      "Interaction: \n",
      "(A, Z1, {{A_2^0}})\n",
      "Approximation: \n",
      "No approximation available\n",
      "Interaction: \n",
      "(A, Z1, {{H_4^0}})\n",
      "Approximation: \n",
      "No approximation available\n",
      "Interaction: \n",
      "(A, Z1, {{G_{Z_2}}})\n",
      "Approximation: \n",
      "I*v_R*(g**2*sin(\\theta_W)**2 - 2*g*g_{B-L}*sin(\\theta_W)*sqrt(cos(2*\\theta_W)) + g_{B-L}**2*cos(2*\\theta_W))*tan(\\theta_W)\n",
      "Interaction: \n",
      "(Z1, Z1, {{H_2^0}})\n",
      "Approximation: \n"
     ]
    },
    {
     "name": "stdout",
     "output_type": "stream",
     "text": [
      "(\\alpha_1*g**2*k_1**2*sin(\\theta_W)**2*tan(\\theta_W)**2 + 2*\\alpha_1*g**2*k_1**2*sin(\\theta_W)*cos(\\theta_W)*tan(\\theta_W) + \\alpha_1*g**2*k_1**2*cos(\\theta_W)**2 + \\alpha_3*g**2*k_1**2*sin(\\theta_W)**2*tan(\\theta_W)**2 + 2*\\alpha_3*g**2*k_1**2*sin(\\theta_W)*cos(\\theta_W)*tan(\\theta_W) + \\alpha_3*g**2*k_1**2*cos(\\theta_W)**2 + 2*\\rho_1*g**2*v_R**2*sin(\\theta_W)**2*tan(\\theta_W)**2 - 4*\\rho_1*g*g_{B-L}*v_R**2*sin(\\theta_W)*sqrt(cos(2*\\theta_W))*tan(\\theta_W)**2 + 2*\\rho_1*g_{B-L}**2*v_R**2*cos(2*\\theta_W)*tan(\\theta_W)**2)/(4*\\rho_1*v_R)\n",
      "Interaction: \n",
      "(Z1, Z1, {{H_1^0}})\n",
      "Approximation: \n",
      "-k_1*(\\alpha_1*g**2*sin(\\theta_W)**2*tan(\\theta_W)**2 - 2*\\alpha_1*g*g_{B-L}*sin(\\theta_W)*sqrt(cos(2*\\theta_W))*tan(\\theta_W)**2 + \\alpha_1*g_{B-L}**2*cos(2*\\theta_W)*tan(\\theta_W)**2 + \\alpha_3*g**2*sin(\\theta_W)**2*tan(\\theta_W)**2 - 2*\\alpha_3*g*g_{B-L}*sin(\\theta_W)*sqrt(cos(2*\\theta_W))*tan(\\theta_W)**2 + \\alpha_3*g_{B-L}**2*cos(2*\\theta_W)*tan(\\theta_W)**2 - 2*\\rho_1*g**2*sin(\\theta_W)**2*tan(\\theta_W)**2 - 4*\\rho_1*g**2*sin(\\theta_W)*cos(\\theta_W)*tan(\\theta_W) - 2*\\rho_1*g**2*cos(\\theta_W)**2)/(4*\\rho_1)\n",
      "Interaction: \n",
      "(Z1, Z1, {{G_{Z_1}}})\n",
      "Approximation: \n",
      "I*g**2*k_1*(sin(\\theta_W)*tan(\\theta_W) + cos(\\theta_W))**2/2\n",
      "Interaction: \n",
      "(Z1, Z1, {{A_1^0}})\n",
      "Approximation: \n",
      "No approximation available\n",
      "Interaction: \n",
      "(Z1, Z1, {{H_3^0}})\n",
      "Approximation: \n",
      "No approximation available\n",
      "Interaction: \n",
      "(Z1, Z1, {{A_2^0}})\n",
      "Approximation: \n",
      "No approximation available\n",
      "Interaction: \n",
      "(Z1, Z1, {{H_4^0}})\n",
      "Approximation: \n",
      "No approximation available\n",
      "Interaction: \n",
      "(Z1, Z2, {{H_2^0}})\n",
      "Approximation: \n",
      "-(\\alpha_1*g**2*k_1**2*sin(\\theta_W)*sqrt(cos(2*\\theta_W))*tan(\\theta_W) + \\alpha_1*g**2*k_1**2*cos(\\theta_W)*sqrt(cos(2*\\theta_W)) + \\alpha_3*g**2*k_1**2*sin(\\theta_W)*sqrt(cos(2*\\theta_W))*tan(\\theta_W) + \\alpha_3*g**2*k_1**2*cos(\\theta_W)*sqrt(cos(2*\\theta_W)) + 2*\\rho_1*g**2*v_R**2*sin(\\theta_W)*sqrt(cos(2*\\theta_W))*tan(\\theta_W) + 2*\\rho_1*g*g_{B-L}*v_R**2*sin(\\theta_W)*cos(\\theta_W)*tan(\\theta_W)**2 - 2*\\rho_1*g*g_{B-L}*v_R**2*cos(2*\\theta_W)*tan(\\theta_W) - 2*\\rho_1*g_{B-L}**2*v_R**2*cos(\\theta_W)*sqrt(cos(2*\\theta_W))*tan(\\theta_W)**2)/(2*\\rho_1*v_R*cos(\\theta_W))\n",
      "Interaction: \n",
      "(Z1, Z2, {{H_1^0}})\n",
      "Approximation: \n",
      "k_1*(\\alpha_1*g**2*sin(\\theta_W)*sqrt(cos(2*\\theta_W))*tan(\\theta_W) + \\alpha_1*g*g_{B-L}*sin(\\theta_W)*cos(\\theta_W)*tan(\\theta_W)**2 - \\alpha_1*g*g_{B-L}*cos(2*\\theta_W)*tan(\\theta_W) - \\alpha_1*g_{B-L}**2*cos(\\theta_W)*sqrt(cos(2*\\theta_W))*tan(\\theta_W)**2 + \\alpha_3*g**2*sin(\\theta_W)*sqrt(cos(2*\\theta_W))*tan(\\theta_W) + \\alpha_3*g*g_{B-L}*sin(\\theta_W)*cos(\\theta_W)*tan(\\theta_W)**2 - \\alpha_3*g*g_{B-L}*cos(2*\\theta_W)*tan(\\theta_W) - \\alpha_3*g_{B-L}**2*cos(\\theta_W)*sqrt(cos(2*\\theta_W))*tan(\\theta_W)**2 - 2*\\rho_1*g**2*sin(\\theta_W)*sqrt(cos(2*\\theta_W))*tan(\\theta_W) - 2*\\rho_1*g**2*cos(\\theta_W)*sqrt(cos(2*\\theta_W)))/(2*\\rho_1*cos(\\theta_W))\n",
      "Interaction: \n",
      "(Z1, Z2, {{G_{Z_1}}})\n",
      "Approximation: \n",
      "-I*g**2*k_1*(sin(\\theta_W)*tan(\\theta_W) + cos(\\theta_W))*sqrt(cos(2*\\theta_W))/cos(\\theta_W)\n",
      "Interaction: \n",
      "(Z1, Z2, {{A_1^0}})\n",
      "Approximation: \n",
      "No approximation available\n",
      "Interaction: \n",
      "(Z1, Z2, {{H_3^0}})\n",
      "Approximation: \n",
      "No approximation available\n",
      "Interaction: \n",
      "(Z1, Z2, {{A_2^0}})\n",
      "Approximation: \n",
      "No approximation available\n",
      "Interaction: \n",
      "(Z1, Z2, {{H_4^0}})\n",
      "Approximation: \n",
      "No approximation available\n",
      "Interaction: \n",
      "(W_1^+, Z1, {{G_R^-}})\n",
      "Approximation: \n",
      "No approximation available\n",
      "Interaction: \n",
      "(W_1^+, Z1, {{H_R^-}})\n",
      "Approximation: \n",
      "No approximation available\n",
      "Interaction: \n",
      "(W_1^+, Z1, {{G_L^-}})\n",
      "Approximation: \n",
      "-g**2*k_1*sin(\\theta_W)*tan(\\theta_W)/2\n",
      "Interaction: \n",
      "(W_1^-, Z1, {{G_R^+}})\n",
      "Approximation: \n",
      "No approximation available\n",
      "Interaction: \n",
      "(W_1^-, Z1, {{H_R^+}})\n",
      "Approximation: \n",
      "No approximation available\n",
      "Interaction: \n",
      "(W_1^-, Z1, {{G_L^+}})\n",
      "Approximation: \n",
      "-g**2*k_1*sin(\\theta_W)*tan(\\theta_W)/2\n",
      "Interaction: \n",
      "(W_2^+, Z1, {{G_R^-}})\n",
      "Approximation: \n",
      "-g*(g*k_1**2*cos(\\theta_W) - g_{B-L}*v_R**2*sqrt(cos(2*\\theta_W))*tan(\\theta_W))/(2*v_R)\n",
      "Interaction: \n",
      "(W_2^+, Z1, {{H_R^-}})\n",
      "Approximation: \n",
      "g*k_1*(g*cos(\\theta_W) + g_{B-L}*sqrt(cos(2*\\theta_W))*tan(\\theta_W))/2\n",
      "Interaction: \n",
      "(W_2^+, Z1, {{G_L^-}})\n",
      "Approximation: \n",
      "No approximation available\n",
      "Interaction: \n",
      "(W_2^-, Z1, {{G_R^+}})\n",
      "Approximation: \n",
      "-g*(g*k_1**2*cos(\\theta_W) - g_{B-L}*v_R**2*sqrt(cos(2*\\theta_W))*tan(\\theta_W))/(2*v_R)\n",
      "Interaction: \n",
      "(W_2^-, Z1, {{H_R^+}})\n",
      "Approximation: \n",
      "g*k_1*(g*cos(\\theta_W) + g_{B-L}*sqrt(cos(2*\\theta_W))*tan(\\theta_W))/2\n",
      "Interaction: \n",
      "(W_2^-, Z1, {{G_L^+}})\n",
      "Approximation: \n",
      "No approximation available\n",
      "Interaction: \n",
      "(Z1, {{G_R^+}}, {{G_R^-}})\n",
      "Approximation: \n",
      "(p({{G_R^+}}) - p({{G_R^-}}))*(-g*k_1**2*sin(\\theta_W)*tan(\\theta_W) + g*k_1**2*cos(\\theta_W) - g*v_R**2*sin(\\theta_W)*tan(\\theta_W) - g_{B-L}*v_R**2*sqrt(cos(2*\\theta_W))*tan(\\theta_W))/(2*v_R**2)\n",
      "Interaction: \n",
      "(Z1, {{G_R^+}}, {{H_R^-}})\n",
      "Approximation: \n",
      "-k_1*(g*cos(\\theta_W) + g_{B-L}*sqrt(cos(2*\\theta_W))*tan(\\theta_W))*(p({{G_R^+}}) - p({{H_R^-}}))/(2*v_R)\n",
      "Interaction: \n",
      "(Z1, {{G_R^-}}, {{H_R^+}})\n",
      "Approximation: \n",
      "k_1*(g*cos(\\theta_W) + g_{B-L}*sqrt(cos(2*\\theta_W))*tan(\\theta_W))*(p({{G_R^-}}) - p({{H_R^+}}))/(2*v_R)\n",
      "Interaction: \n",
      "(Z1, {{H_R^+}}, {{H_R^-}})\n",
      "Approximation: \n",
      "(p({{H_R^+}}) - p({{H_R^-}}))*(-g*k_1**2*sin(\\theta_W)*tan(\\theta_W) - g*v_R**2*sin(\\theta_W)*tan(\\theta_W) + g*v_R**2*cos(\\theta_W) - g_{B-L}*k_1**2*sqrt(cos(2*\\theta_W))*tan(\\theta_W))/(2*v_R**2)\n",
      "Interaction: \n",
      "(Z1, {{G_L^+}}, {{G_L^-}})\n",
      "Approximation: \n",
      "g*(-sin(\\theta_W)*tan(\\theta_W) + cos(\\theta_W))*(p({{G_L^+}}) - p({{G_L^-}}))/2\n",
      "Interaction: \n",
      "(Z1, {{H_L^+}}, {{H_L^-}})\n",
      "Approximation: \n",
      "(g*cos(\\theta_W) - g_{B-L}*sqrt(cos(2*\\theta_W))*tan(\\theta_W))*(p({{H_L^+}}) - p({{H_L^-}}))/2\n",
      "Interaction: \n",
      "(Z1, Z1, {{G_{Z_2}}})\n",
      "Approximation: \n",
      "I*v_R*(g**2*sin(\\theta_W)**2 - 2*g*g_{B-L}*sin(\\theta_W)*sqrt(cos(2*\\theta_W)) + g_{B-L}**2*cos(2*\\theta_W))*tan(\\theta_W)**2/2\n",
      "Interaction: \n",
      "(Z1, Z2, {{G_{Z_2}}})\n",
      "Approximation: \n",
      "-I*v_R*(g**2*sin(\\theta_W)*sqrt(cos(2*\\theta_W)) + g*g_{B-L}*sin(\\theta_W)*cos(\\theta_W)*tan(\\theta_W) - g*g_{B-L}*cos(2*\\theta_W) - g_{B-L}**2*cos(\\theta_W)*sqrt(cos(2*\\theta_W))*tan(\\theta_W))*tan(\\theta_W)/cos(\\theta_W)\n",
      "Interaction: \n",
      "(W_1^+, Z1, {{H_L^-}})\n",
      "Approximation: \n",
      "No approximation available\n",
      "Interaction: \n",
      "(W_1^-, Z1, {{H_L^+}})\n",
      "Approximation: \n",
      "No approximation available\n",
      "Interaction: \n",
      "(W_2^+, Z1, {{H_L^-}})\n",
      "Approximation: \n",
      "No approximation available\n",
      "Interaction: \n",
      "(W_2^-, Z1, {{H_L^+}})\n",
      "Approximation: \n",
      "No approximation available\n"
     ]
    }
   ],
   "source": [
    "for interaction, coeff in interactions_gauge_scalars[3].items():\n",
    "    if Z1 in interaction:\n",
    "        print('Interaction: ')\n",
    "        print(interaction)\n",
    "        try:\n",
    "            print('Approximation: ')\n",
    "            print(interactions_gauge_scalars_approx[3][interaction].factor())\n",
    "        except:\n",
    "            print('No approximation available')"
   ]
  },
  {
   "cell_type": "code",
   "execution_count": 100,
   "metadata": {},
   "outputs": [
    {
     "name": "stdout",
     "output_type": "stream",
     "text": [
      "(Z1, {{G_R^+}}, {{G_R^-}})\n",
      "(Z1, {{G_L^-}}, {{G_R^+}})\n",
      "(Z1, {{G_R^+}}, {{H_L^-}})\n",
      "(Z1, {{G_R^+}}, {{H_R^-}})\n",
      "(W_1^-, Z1, {{G_R^+}})\n",
      "(W_2^-, Z1, {{G_R^+}})\n",
      "(Z1, {{G_L^+}}, {{G_R^-}})\n",
      "(Z1, {{G_L^+}}, {{G_L^-}})\n",
      "(Z1, {{G_L^+}}, {{H_L^-}})\n",
      "(Z1, {{G_L^+}}, {{H_R^-}})\n",
      "(W_1^-, Z1, {{G_L^+}})\n",
      "(W_2^-, Z1, {{G_L^+}})\n",
      "(Z1, {{G_R^-}}, {{H_L^+}})\n",
      "(Z1, {{G_L^-}}, {{H_L^+}})\n",
      "(Z1, {{H_L^+}}, {{H_L^-}})\n",
      "(Z1, {{H_L^+}}, {{H_R^-}})\n",
      "(W_1^-, Z1, {{H_L^+}})\n",
      "(W_2^-, Z1, {{H_L^+}})\n",
      "(Z1, {{G_R^-}}, {{H_R^+}})\n",
      "(Z1, {{G_L^-}}, {{H_R^+}})\n",
      "(Z1, {{H_L^-}}, {{H_R^+}})\n",
      "(Z1, {{H_R^+}}, {{H_R^-}})\n",
      "(W_1^-, Z1, {{H_R^+}})\n",
      "(W_2^-, Z1, {{H_R^+}})\n",
      "(W_1^+, Z1, {{G_R^-}})\n",
      "(W_1^+, Z1, {{G_L^-}})\n",
      "(W_1^+, Z1, {{H_L^-}})\n",
      "(W_1^+, Z1, {{H_R^-}})\n",
      "(W_1^+, W_1^-, Z1)\n",
      "(W_1^+, W_2^-, Z1)\n",
      "(W_2^+, Z1, {{G_R^-}})\n",
      "(W_2^+, Z1, {{G_L^-}})\n",
      "(W_2^+, Z1, {{H_L^-}})\n",
      "(W_2^+, Z1, {{H_R^-}})\n",
      "(W_1^-, W_2^+, Z1)\n",
      "(W_2^+, W_2^-, Z1)\n"
     ]
    }
   ],
   "source": [
    "interactionsZ1_VS = []\n",
    "for Xp in [GRp, GLp, HLp, HRp, W1p, W2p]:\n",
    "    for Xm in [GRm, GLm, HLm, HRm, W1m, W2m]:\n",
    "        fields_tuple = tuple(sorted({Z1, Xp, Xm}, key=lambda x: str(x)))\n",
    "        if fields_tuple not in interactionsZ1_VS:\n",
    "            print(fields_tuple)\n",
    "            interactionsZ1_VS.append(fields_tuple)\n",
    "\n",
    "#for Xp in [GRp, GLp, HLp, HRp]:\n",
    "#    for Xm in [GRm, GLm, HLm, HRm]:\n",
    "#        fields_tuple = tuple(sorted({Z1, partial_mu(Xp), Xm}, key=lambda x: str(x)))\n",
    "#        if fields_tuple not in interactionsZ1_VS:\n",
    "#            print(fields_tuple)\n",
    "#            interactionsZ1_VS.append(fields_tuple)\n",
    "\n",
    "#for Xp in [GRp, GLp, HLp, HRp]:\n",
    "#    for Xm in [GRm, GLm, HLm, HRm]:\n",
    "#        fields_tuple = tuple(sorted({Z1, Xp, partial_mu(Xm)}, key=lambda x: str(x)))\n",
    "#        if fields_tuple not in interactionsZ1_VS:\n",
    "#            print(fields_tuple)\n",
    "#            interactionsZ1_VS.append(fields_tuple)"
   ]
  },
  {
   "cell_type": "code",
   "execution_count": 101,
   "metadata": {},
   "outputs": [
    {
     "name": "stdout",
     "output_type": "stream",
     "text": [
      "(Z1, {{G_R^+}}, {{G_R^-}})\n",
      "(Z1, {{G_L^-}}, {{G_R^+}})\n",
      "Interaction (Z1, {{G_L^-}}, {{G_R^+}}) does not appear in this lagrangian\n",
      "Approximation not available for interaction (Z1, {{G_L^-}}, {{G_R^+}})\n",
      "(Z1, {{G_R^+}}, {{H_L^-}})\n",
      "Interaction (Z1, {{G_R^+}}, {{H_L^-}}) does not appear in this lagrangian\n",
      "Approximation not available for interaction (Z1, {{G_R^+}}, {{H_L^-}})\n",
      "(Z1, {{G_R^+}}, {{H_R^-}})\n",
      "(W_1^-, Z1, {{G_R^+}})\n",
      "Approximation not available for interaction (W_1^-, Z1, {{G_R^+}})\n",
      "(W_2^-, Z1, {{G_R^+}})\n",
      "(Z1, {{G_L^+}}, {{G_R^-}})\n",
      "Interaction (Z1, {{G_L^+}}, {{G_R^-}}) does not appear in this lagrangian\n",
      "Approximation not available for interaction (Z1, {{G_L^+}}, {{G_R^-}})\n",
      "(Z1, {{G_L^+}}, {{G_L^-}})\n",
      "(Z1, {{G_L^+}}, {{H_L^-}})\n",
      "Interaction (Z1, {{G_L^+}}, {{H_L^-}}) does not appear in this lagrangian\n",
      "Approximation not available for interaction (Z1, {{G_L^+}}, {{H_L^-}})\n",
      "(Z1, {{G_L^+}}, {{H_R^-}})\n",
      "Interaction (Z1, {{G_L^+}}, {{H_R^-}}) does not appear in this lagrangian\n",
      "Approximation not available for interaction (Z1, {{G_L^+}}, {{H_R^-}})\n",
      "(W_1^-, Z1, {{G_L^+}})\n",
      "(W_2^-, Z1, {{G_L^+}})\n",
      "Approximation not available for interaction (W_2^-, Z1, {{G_L^+}})\n",
      "(Z1, {{G_R^-}}, {{H_L^+}})\n",
      "Interaction (Z1, {{G_R^-}}, {{H_L^+}}) does not appear in this lagrangian\n",
      "Approximation not available for interaction (Z1, {{G_R^-}}, {{H_L^+}})\n",
      "(Z1, {{G_L^-}}, {{H_L^+}})\n",
      "Interaction (Z1, {{G_L^-}}, {{H_L^+}}) does not appear in this lagrangian\n",
      "Approximation not available for interaction (Z1, {{G_L^-}}, {{H_L^+}})\n",
      "(Z1, {{H_L^+}}, {{H_L^-}})\n",
      "(Z1, {{H_L^+}}, {{H_R^-}})\n",
      "Interaction (Z1, {{H_L^+}}, {{H_R^-}}) does not appear in this lagrangian\n",
      "Approximation not available for interaction (Z1, {{H_L^+}}, {{H_R^-}})\n",
      "(W_1^-, Z1, {{H_L^+}})\n",
      "Approximation not available for interaction (W_1^-, Z1, {{H_L^+}})\n",
      "(W_2^-, Z1, {{H_L^+}})\n",
      "Approximation not available for interaction (W_2^-, Z1, {{H_L^+}})\n",
      "(Z1, {{G_R^-}}, {{H_R^+}})\n",
      "(Z1, {{G_L^-}}, {{H_R^+}})\n",
      "Interaction (Z1, {{G_L^-}}, {{H_R^+}}) does not appear in this lagrangian\n",
      "Approximation not available for interaction (Z1, {{G_L^-}}, {{H_R^+}})\n",
      "(Z1, {{H_L^-}}, {{H_R^+}})\n",
      "Interaction (Z1, {{H_L^-}}, {{H_R^+}}) does not appear in this lagrangian\n",
      "Approximation not available for interaction (Z1, {{H_L^-}}, {{H_R^+}})\n",
      "(Z1, {{H_R^+}}, {{H_R^-}})\n",
      "(W_1^-, Z1, {{H_R^+}})\n",
      "Approximation not available for interaction (W_1^-, Z1, {{H_R^+}})\n",
      "(W_2^-, Z1, {{H_R^+}})\n",
      "(W_1^+, Z1, {{G_R^-}})\n",
      "Approximation not available for interaction (W_1^+, Z1, {{G_R^-}})\n",
      "(W_1^+, Z1, {{G_L^-}})\n",
      "(W_1^+, Z1, {{H_L^-}})\n",
      "Approximation not available for interaction (W_1^+, Z1, {{H_L^-}})\n",
      "(W_1^+, Z1, {{H_R^-}})\n",
      "Approximation not available for interaction (W_1^+, Z1, {{H_R^-}})\n",
      "(W_1^+, W_1^-, Z1)\n",
      "Interaction (W_1^+, W_1^-, Z1) does not appear in this lagrangian\n",
      "Approximation not available for interaction (W_1^+, W_1^-, Z1)\n",
      "(W_1^+, W_2^-, Z1)\n",
      "Interaction (W_1^+, W_2^-, Z1) does not appear in this lagrangian\n",
      "Approximation not available for interaction (W_1^+, W_2^-, Z1)\n",
      "(W_2^+, Z1, {{G_R^-}})\n",
      "(W_2^+, Z1, {{G_L^-}})\n",
      "Approximation not available for interaction (W_2^+, Z1, {{G_L^-}})\n",
      "(W_2^+, Z1, {{H_L^-}})\n",
      "Approximation not available for interaction (W_2^+, Z1, {{H_L^-}})\n",
      "(W_2^+, Z1, {{H_R^-}})\n",
      "(W_1^-, W_2^+, Z1)\n",
      "Interaction (W_1^-, W_2^+, Z1) does not appear in this lagrangian\n",
      "Approximation not available for interaction (W_1^-, W_2^+, Z1)\n",
      "(W_2^+, W_2^-, Z1)\n",
      "Interaction (W_2^+, W_2^-, Z1) does not appear in this lagrangian\n",
      "Approximation not available for interaction (W_2^+, W_2^-, Z1)\n"
     ]
    }
   ],
   "source": [
    "interactionsZ1_VS_dict = {}\n",
    "interactionsZ1_VS_dict_approx = {}\n",
    "for interaction in interactionsZ1_VS:\n",
    "    try:\n",
    "        print(interaction)\n",
    "        interactionsZ1_VS_dict[interaction] = interactions_gauge_scalars[3][interaction]\n",
    "    except:\n",
    "        print(f'Interaction {interaction} does not appear in this lagrangian')\n",
    "    try:\n",
    "        interactionsZ1_VS_dict_approx[interaction] = interactions_gauge_scalars_approx[3][interaction]\n",
    "    except:\n",
    "        print(f'Approximation not available for interaction {interaction}')"
   ]
  },
  {
   "cell_type": "code",
   "execution_count": 102,
   "metadata": {},
   "outputs": [],
   "source": [
    "from potential_senjanovic_HiggsDoublets import epsilon, k1\n",
    "from Gauge_Higgs_senjanovic_HiggsDoublets import R13"
   ]
  },
  {
   "cell_type": "code",
   "execution_count": 103,
   "metadata": {},
   "outputs": [
    {
     "name": "stdout",
     "output_type": "stream",
     "text": [
      "Interaction: \n"
     ]
    },
    {
     "data": {
      "image/png": "[encoded data removed]",
      "text/latex": [
       "$\\displaystyle \\left( Z_{1}, \\  {{G_R^+}}, \\  {{G_R^-}}\\right)$"
      ],
      "text/plain": [
       "(Z₁, {{G_R__+}}, {{G_R__-}})"
      ]
     },
     "metadata": {},
     "output_type": "display_data"
    },
    {
     "name": "stdout",
     "output_type": "stream",
     "text": [
      "Coeff: \n"
     ]
    },
    {
     "data": {
      "image/png": "[encoded data removed]",
      "text/latex": [
       "$\\displaystyle - \\frac{v_{R}^{2} \\left(p{\\left({{G_R^+}} \\right)} - p{\\left({{G_R^-}} \\right)}\\right) \\left(R_{12} g k_{1}^{2} + R_{22} g k_{1}^{2} + R_{22} g v_{R}^{2} + R_{32} g_{B-L} v_{R}^{2}\\right)}{2 \\left(k_{1}^{2} + v_{R}^{2}\\right)^{2}}$"
      ],
      "text/plain": [
       "    2                                 ⎛           2              2             ↪\n",
       "-v_R ⋅(p({{G_R__+}}) - p({{G_R__-}}))⋅⎝R_{12}⋅g⋅k₁  + R_{22}⋅g⋅k₁  + R_{22}⋅g⋅ ↪\n",
       "────────────────────────────────────────────────────────────────────────────── ↪\n",
       "                                                           2                   ↪\n",
       "                                               ⎛  2      2⎞                    ↪\n",
       "                                             2⋅⎝k₁  + v_R ⎠                    ↪\n",
       "\n",
       "↪    2                     2⎞ \n",
       "↪ v_R  + R_{32}⋅g_{B-L}⋅v_R ⎠ \n",
       "↪ ────────────────────────────\n",
       "↪                             \n",
       "↪                             \n",
       "↪                             "
      ]
     },
     "metadata": {},
     "output_type": "display_data"
    },
    {
     "name": "stdout",
     "output_type": "stream",
     "text": [
      "Approximation: \n"
     ]
    },
    {
     "data": {
      "image/png": "[encoded data removed]",
      "text/latex": [
       "$\\displaystyle - \\frac{\\left(g \\sin{\\left(\\theta_{W} \\right)} + g_{B-L} \\sqrt{\\cos{\\left(2 \\theta_{W} \\right)}}\\right) \\left(p{\\left({{G_R^+}} \\right)} - p{\\left({{G_R^-}} \\right)}\\right) \\tan{\\left(\\theta_{W} \\right)}}{2}$"
      ],
      "text/plain": [
       " ⎛                            _________________⎞                               ↪\n",
       "-⎝g⋅sin(\\theta_W) + g_{B-L}⋅╲╱ cos(2⋅\\theta_W) ⎠⋅(p({{G_R__+}}) - p({{G_R__-}} ↪\n",
       "────────────────────────────────────────────────────────────────────────────── ↪\n",
       "                                               2                               ↪\n",
       "\n",
       "↪                  \n",
       "↪ ))⋅tan(\\theta_W) \n",
       "↪ ─────────────────\n",
       "↪                  "
      ]
     },
     "metadata": {},
     "output_type": "display_data"
    },
    {
     "name": "stdout",
     "output_type": "stream",
     "text": [
      "Interaction: \n"
     ]
    },
    {
     "data": {
      "image/png": "[encoded data removed]",
      "text/latex": [
       "$\\displaystyle \\left( Z_{1}, \\  {{G_R^+}}, \\  {{H_R^-}}\\right)$"
      ],
      "text/plain": [
       "(Z₁, {{G_R__+}}, {{H_R__-}})"
      ]
     },
     "metadata": {},
     "output_type": "display_data"
    },
    {
     "name": "stdout",
     "output_type": "stream",
     "text": [
      "Coeff: \n"
     ]
    },
    {
     "data": {
      "image/png": "[encoded data removed]",
      "text/latex": [
       "$\\displaystyle \\frac{k_{1} v_{R}^{3} \\left(R_{12} g - R_{32} g_{B-L}\\right) \\left(p{\\left({{G_R^+}} \\right)} - p{\\left({{H_R^-}} \\right)}\\right)}{2 \\left(k_{1}^{2} + v_{R}^{2}\\right)^{2}}$"
      ],
      "text/plain": [
       "      3                                                            \n",
       "k₁⋅v_R ⋅(R_{12}⋅g - R_{32}⋅g_{B-L})⋅(p({{G_R__+}}) - p({{H_R__-}}))\n",
       "───────────────────────────────────────────────────────────────────\n",
       "                                        2                          \n",
       "                            ⎛  2      2⎞                           \n",
       "                          2⋅⎝k₁  + v_R ⎠                           "
      ]
     },
     "metadata": {},
     "output_type": "display_data"
    },
    {
     "name": "stdout",
     "output_type": "stream",
     "text": [
      "Approximation: \n"
     ]
    },
    {
     "data": {
      "image/png": "[encoded data removed]",
      "text/latex": [
       "$\\displaystyle - \\frac{k_{1} \\left(g \\cos{\\left(\\theta_{W} \\right)} + g_{B-L} \\sqrt{\\cos{\\left(2 \\theta_{W} \\right)}} \\tan{\\left(\\theta_{W} \\right)}\\right) \\left(p{\\left({{G_R^+}} \\right)} - p{\\left({{H_R^-}} \\right)}\\right)}{2 v_{R}}$"
      ],
      "text/plain": [
       "    ⎛                            _________________              ⎞              ↪\n",
       "-k₁⋅⎝g⋅cos(\\theta_W) + g_{B-L}⋅╲╱ cos(2⋅\\theta_W) ⋅tan(\\theta_W)⎠⋅(p({{G_R__+} ↪\n",
       "────────────────────────────────────────────────────────────────────────────── ↪\n",
       "                                              2⋅v_R                            ↪\n",
       "\n",
       "↪                     \n",
       "↪ }) - p({{H_R__-}})) \n",
       "↪ ────────────────────\n",
       "↪                     "
      ]
     },
     "metadata": {},
     "output_type": "display_data"
    },
    {
     "name": "stdout",
     "output_type": "stream",
     "text": [
      "Interaction: \n"
     ]
    },
    {
     "data": {
      "image/png": "[encoded data removed]",
      "text/latex": [
       "$\\displaystyle \\left( W^{-}_{1}, \\  Z_{1}, \\  {{G_R^+}}\\right)$"
      ],
      "text/plain": [
       "(W⁻₁, Z₁, {{G_R__+}})"
      ]
     },
     "metadata": {},
     "output_type": "display_data"
    },
    {
     "name": "stdout",
     "output_type": "stream",
     "text": [
      "Coeff: \n"
     ]
    },
    {
     "data": {
      "image/png": "[encoded data removed]",
      "text/latex": [
       "$\\displaystyle \\frac{g v_{R} \\left(R_{12} g k_{1}^{2} \\sin{\\left(\\xi \\right)} - R_{22} g k_{1} k_{2} \\cos{\\left(\\xi \\right)} + R_{32} g_{B-L} v_{R}^{2} \\sin{\\left(\\xi \\right)}\\right)}{2 \\left(k_{1}^{2} + v_{R}^{2}\\right)}$"
      ],
      "text/plain": [
       "      ⎛           2                                                        2   ↪\n",
       "g⋅v_R⋅⎝R_{12}⋅g⋅k₁ ⋅sin(\\xi) - R_{22}⋅g⋅k₁⋅k₂⋅cos(\\xi) + R_{32}⋅g_{B-L}⋅v_R ⋅s ↪\n",
       "────────────────────────────────────────────────────────────────────────────── ↪\n",
       "                                      ⎛  2      2⎞                             ↪\n",
       "                                    2⋅⎝k₁  + v_R ⎠                             ↪\n",
       "\n",
       "↪        ⎞\n",
       "↪ in(\\xi)⎠\n",
       "↪ ────────\n",
       "↪         \n",
       "↪         "
      ]
     },
     "metadata": {},
     "output_type": "display_data"
    },
    {
     "name": "stdout",
     "output_type": "stream",
     "text": [
      "Approximation: \n",
      "No approximation available\n",
      "Interaction: \n"
     ]
    },
    {
     "data": {
      "image/png": "[encoded data removed]",
      "text/latex": [
       "$\\displaystyle \\left( W^{-}_{2}, \\  Z_{1}, \\  {{G_R^+}}\\right)$"
      ],
      "text/plain": [
       "(W⁻₂, Z₁, {{G_R__+}})"
      ]
     },
     "metadata": {},
     "output_type": "display_data"
    },
    {
     "name": "stdout",
     "output_type": "stream",
     "text": [
      "Coeff: \n"
     ]
    },
    {
     "data": {
      "image/png": "[encoded data removed]",
      "text/latex": [
       "$\\displaystyle \\frac{g v_{R} \\left(R_{12} g k_{1}^{2} \\cos{\\left(\\xi \\right)} + R_{22} g k_{1} k_{2} \\sin{\\left(\\xi \\right)} + R_{32} g_{B-L} v_{R}^{2} \\cos{\\left(\\xi \\right)}\\right)}{2 \\left(k_{1}^{2} + v_{R}^{2}\\right)}$"
      ],
      "text/plain": [
       "      ⎛           2                                                        2   ↪\n",
       "g⋅v_R⋅⎝R_{12}⋅g⋅k₁ ⋅cos(\\xi) + R_{22}⋅g⋅k₁⋅k₂⋅sin(\\xi) + R_{32}⋅g_{B-L}⋅v_R ⋅c ↪\n",
       "────────────────────────────────────────────────────────────────────────────── ↪\n",
       "                                      ⎛  2      2⎞                             ↪\n",
       "                                    2⋅⎝k₁  + v_R ⎠                             ↪\n",
       "\n",
       "↪        ⎞\n",
       "↪ os(\\xi)⎠\n",
       "↪ ────────\n",
       "↪         \n",
       "↪         "
      ]
     },
     "metadata": {},
     "output_type": "display_data"
    },
    {
     "name": "stdout",
     "output_type": "stream",
     "text": [
      "Approximation: \n"
     ]
    },
    {
     "data": {
      "image/png": "[encoded data removed]",
      "text/latex": [
       "$\\displaystyle \\frac{g g_{B-L} v_{R} \\sqrt{\\cos{\\left(2 \\theta_{W} \\right)}} \\tan{\\left(\\theta_{W} \\right)}}{2}$"
      ],
      "text/plain": [
       "                _________________              \n",
       "g⋅g_{B-L}⋅v_R⋅╲╱ cos(2⋅\\theta_W) ⋅tan(\\theta_W)\n",
       "───────────────────────────────────────────────\n",
       "                       2                       "
      ]
     },
     "metadata": {},
     "output_type": "display_data"
    },
    {
     "name": "stdout",
     "output_type": "stream",
     "text": [
      "Interaction: \n"
     ]
    },
    {
     "data": {
      "image/png": "[encoded data removed]",
      "text/latex": [
       "$\\displaystyle \\left( Z_{1}, \\  {{G_L^+}}, \\  {{G_L^-}}\\right)$"
      ],
      "text/plain": [
       "(Z₁, {{G_L__+}}, {{G_L__-}})"
      ]
     },
     "metadata": {},
     "output_type": "display_data"
    },
    {
     "name": "stdout",
     "output_type": "stream",
     "text": [
      "Coeff: \n"
     ]
    },
    {
     "data": {
      "image/png": "[encoded data removed]",
      "text/latex": [
       "$\\displaystyle - \\frac{g \\left(R_{12} + R_{22}\\right) \\left(p{\\left({{G_L^+}} \\right)} - p{\\left({{G_L^-}} \\right)}\\right)}{2}$"
      ],
      "text/plain": [
       "-g⋅(R_{12} + R_{22})⋅(p({{G_L__+}}) - p({{G_L__-}})) \n",
       "─────────────────────────────────────────────────────\n",
       "                          2                          "
      ]
     },
     "metadata": {},
     "output_type": "display_data"
    },
    {
     "name": "stdout",
     "output_type": "stream",
     "text": [
      "Approximation: \n"
     ]
    },
    {
     "data": {
      "image/png": "[encoded data removed]",
      "text/latex": [
       "$\\displaystyle \\frac{g \\left(- \\sin{\\left(\\theta_{W} \\right)} \\tan{\\left(\\theta_{W} \\right)} + \\cos{\\left(\\theta_{W} \\right)}\\right) \\left(p{\\left({{G_L^+}} \\right)} - p{\\left({{G_L^-}} \\right)}\\right)}{2}$"
      ],
      "text/plain": [
       "g⋅(-sin(\\theta_W)⋅tan(\\theta_W) + cos(\\theta_W))⋅(p({{G_L__+}}) - p({{G_L__-}}))\n",
       "────────────────────────────────────────────────────────────────────────────────\n",
       "                                       2                                        "
      ]
     },
     "metadata": {},
     "output_type": "display_data"
    },
    {
     "name": "stdout",
     "output_type": "stream",
     "text": [
      "Interaction: \n"
     ]
    },
    {
     "data": {
      "image/png": "[encoded data removed]",
      "text/latex": [
       "$\\displaystyle \\left( W^{-}_{1}, \\  Z_{1}, \\  {{G_L^+}}\\right)$"
      ],
      "text/plain": [
       "(W⁻₁, Z₁, {{G_L__+}})"
      ]
     },
     "metadata": {},
     "output_type": "display_data"
    },
    {
     "name": "stdout",
     "output_type": "stream",
     "text": [
      "Coeff: \n"
     ]
    },
    {
     "data": {
      "image/png": "[encoded data removed]",
      "text/latex": [
       "$\\displaystyle \\frac{g^{2} \\left(R_{12} k_{2} \\sin{\\left(\\xi \\right)} - R_{22} k_{1} \\cos{\\left(\\xi \\right)}\\right)}{2}$"
      ],
      "text/plain": [
       " 2                                          \n",
       "g ⋅(R_{12}⋅k₂⋅sin(\\xi) - R_{22}⋅k₁⋅cos(\\xi))\n",
       "────────────────────────────────────────────\n",
       "                     2                      "
      ]
     },
     "metadata": {},
     "output_type": "display_data"
    },
    {
     "name": "stdout",
     "output_type": "stream",
     "text": [
      "Approximation: \n"
     ]
    },
    {
     "data": {
      "image/png": "[encoded data removed]",
      "text/latex": [
       "$\\displaystyle - \\frac{g^{2} k_{1} \\sin{\\left(\\theta_{W} \\right)} \\tan{\\left(\\theta_{W} \\right)}}{2}$"
      ],
      "text/plain": [
       "  2                                \n",
       "-g ⋅k₁⋅sin(\\theta_W)⋅tan(\\theta_W) \n",
       "───────────────────────────────────\n",
       "                 2                 "
      ]
     },
     "metadata": {},
     "output_type": "display_data"
    },
    {
     "name": "stdout",
     "output_type": "stream",
     "text": [
      "Interaction: \n"
     ]
    },
    {
     "data": {
      "image/png": "[encoded data removed]",
      "text/latex": [
       "$\\displaystyle \\left( W^{-}_{2}, \\  Z_{1}, \\  {{G_L^+}}\\right)$"
      ],
      "text/plain": [
       "(W⁻₂, Z₁, {{G_L__+}})"
      ]
     },
     "metadata": {},
     "output_type": "display_data"
    },
    {
     "name": "stdout",
     "output_type": "stream",
     "text": [
      "Coeff: \n"
     ]
    },
    {
     "data": {
      "image/png": "[encoded data removed]",
      "text/latex": [
       "$\\displaystyle \\frac{g^{2} \\left(R_{12} k_{2} \\cos{\\left(\\xi \\right)} + R_{22} k_{1} \\sin{\\left(\\xi \\right)}\\right)}{2}$"
      ],
      "text/plain": [
       " 2                                          \n",
       "g ⋅(R_{12}⋅k₂⋅cos(\\xi) + R_{22}⋅k₁⋅sin(\\xi))\n",
       "────────────────────────────────────────────\n",
       "                     2                      "
      ]
     },
     "metadata": {},
     "output_type": "display_data"
    },
    {
     "name": "stdout",
     "output_type": "stream",
     "text": [
      "Approximation: \n",
      "No approximation available\n",
      "Interaction: \n"
     ]
    },
    {
     "data": {
      "image/png": "[encoded data removed]",
      "text/latex": [
       "$\\displaystyle \\left( Z_{1}, \\  {{H_L^+}}, \\  {{H_L^-}}\\right)$"
      ],
      "text/plain": [
       "(Z₁, {{H_L__+}}, {{H_L__-}})"
      ]
     },
     "metadata": {},
     "output_type": "display_data"
    },
    {
     "name": "stdout",
     "output_type": "stream",
     "text": [
      "Coeff: \n"
     ]
    },
    {
     "data": {
      "image/png": "[encoded data removed]",
      "text/latex": [
       "$\\displaystyle - \\frac{\\left(R_{12} g + R_{32} g_{B-L}\\right) \\left(p{\\left({{H_L^+}} \\right)} - p{\\left({{H_L^-}} \\right)}\\right)}{2}$"
      ],
      "text/plain": [
       "-(R_{12}⋅g + R_{32}⋅g_{B-L})⋅(p({{H_L__+}}) - p({{H_L__-}})) \n",
       "─────────────────────────────────────────────────────────────\n",
       "                              2                              "
      ]
     },
     "metadata": {},
     "output_type": "display_data"
    },
    {
     "name": "stdout",
     "output_type": "stream",
     "text": [
      "Approximation: \n"
     ]
    },
    {
     "data": {
      "image/png": "[encoded data removed]",
      "text/latex": [
       "$\\displaystyle \\frac{\\left(g \\cos{\\left(\\theta_{W} \\right)} - g_{B-L} \\sqrt{\\cos{\\left(2 \\theta_{W} \\right)}} \\tan{\\left(\\theta_{W} \\right)}\\right) \\left(p{\\left({{H_L^+}} \\right)} - p{\\left({{H_L^-}} \\right)}\\right)}{2}$"
      ],
      "text/plain": [
       "⎛                            _________________              ⎞                  ↪\n",
       "⎝g⋅cos(\\theta_W) - g_{B-L}⋅╲╱ cos(2⋅\\theta_W) ⋅tan(\\theta_W)⎠⋅(p({{H_L__+}}) - ↪\n",
       "────────────────────────────────────────────────────────────────────────────── ↪\n",
       "                                              2                                ↪\n",
       "\n",
       "↪                \n",
       "↪  p({{H_L__-}}))\n",
       "↪ ───────────────\n",
       "↪                "
      ]
     },
     "metadata": {},
     "output_type": "display_data"
    },
    {
     "name": "stdout",
     "output_type": "stream",
     "text": [
      "Interaction: \n"
     ]
    },
    {
     "data": {
      "image/png": "[encoded data removed]",
      "text/latex": [
       "$\\displaystyle \\left( W^{-}_{1}, \\  Z_{1}, \\  {{H_L^+}}\\right)$"
      ],
      "text/plain": [
       "(W⁻₁, Z₁, {{H_L__+}})"
      ]
     },
     "metadata": {},
     "output_type": "display_data"
    },
    {
     "name": "stdout",
     "output_type": "stream",
     "text": [
      "Coeff: \n"
     ]
    },
    {
     "data": {
      "image/png": "[encoded data removed]",
      "text/latex": [
       "$\\displaystyle \\frac{R_{32} g g_{B-L} v_{L} \\cos{\\left(\\xi \\right)}}{2}$"
      ],
      "text/plain": [
       "R_{32}⋅g⋅g_{B-L}⋅v_L⋅cos(\\xi)\n",
       "─────────────────────────────\n",
       "              2              "
      ]
     },
     "metadata": {},
     "output_type": "display_data"
    },
    {
     "name": "stdout",
     "output_type": "stream",
     "text": [
      "Approximation: \n",
      "No approximation available\n",
      "Interaction: \n"
     ]
    },
    {
     "data": {
      "image/png": "[encoded data removed]",
      "text/latex": [
       "$\\displaystyle \\left( W^{-}_{2}, \\  Z_{1}, \\  {{H_L^+}}\\right)$"
      ],
      "text/plain": [
       "(W⁻₂, Z₁, {{H_L__+}})"
      ]
     },
     "metadata": {},
     "output_type": "display_data"
    },
    {
     "name": "stdout",
     "output_type": "stream",
     "text": [
      "Coeff: \n"
     ]
    },
    {
     "data": {
      "image/png": "[encoded data removed]",
      "text/latex": [
       "$\\displaystyle - \\frac{R_{32} g g_{B-L} v_{L} \\sin{\\left(\\xi \\right)}}{2}$"
      ],
      "text/plain": [
       "-R_{32}⋅g⋅g_{B-L}⋅v_L⋅sin(\\xi) \n",
       "───────────────────────────────\n",
       "               2               "
      ]
     },
     "metadata": {},
     "output_type": "display_data"
    },
    {
     "name": "stdout",
     "output_type": "stream",
     "text": [
      "Approximation: \n",
      "No approximation available\n",
      "Interaction: \n"
     ]
    },
    {
     "data": {
      "image/png": "[encoded data removed]",
      "text/latex": [
       "$\\displaystyle \\left( Z_{1}, \\  {{G_R^-}}, \\  {{H_R^+}}\\right)$"
      ],
      "text/plain": [
       "(Z₁, {{G_R__-}}, {{H_R__+}})"
      ]
     },
     "metadata": {},
     "output_type": "display_data"
    },
    {
     "name": "stdout",
     "output_type": "stream",
     "text": [
      "Coeff: \n"
     ]
    },
    {
     "data": {
      "image/png": "[encoded data removed]",
      "text/latex": [
       "$\\displaystyle - \\frac{k_{1} v_{R}^{3} \\left(R_{12} g - R_{32} g_{B-L}\\right) \\left(p{\\left({{G_R^-}} \\right)} - p{\\left({{H_R^+}} \\right)}\\right)}{2 \\left(k_{1}^{2} + v_{R}^{2}\\right)^{2}}$"
      ],
      "text/plain": [
       "       3                                                             \n",
       "-k₁⋅v_R ⋅(R_{12}⋅g - R_{32}⋅g_{B-L})⋅(p({{G_R__-}}) - p({{H_R__+}})) \n",
       "─────────────────────────────────────────────────────────────────────\n",
       "                                         2                           \n",
       "                             ⎛  2      2⎞                            \n",
       "                           2⋅⎝k₁  + v_R ⎠                            "
      ]
     },
     "metadata": {},
     "output_type": "display_data"
    },
    {
     "name": "stdout",
     "output_type": "stream",
     "text": [
      "Approximation: \n"
     ]
    },
    {
     "data": {
      "image/png": "[encoded data removed]",
      "text/latex": [
       "$\\displaystyle \\frac{k_{1} \\left(g \\cos{\\left(\\theta_{W} \\right)} + g_{B-L} \\sqrt{\\cos{\\left(2 \\theta_{W} \\right)}} \\tan{\\left(\\theta_{W} \\right)}\\right) \\left(p{\\left({{G_R^-}} \\right)} - p{\\left({{H_R^+}} \\right)}\\right)}{2 v_{R}}$"
      ],
      "text/plain": [
       "   ⎛                            _________________              ⎞               ↪\n",
       "k₁⋅⎝g⋅cos(\\theta_W) + g_{B-L}⋅╲╱ cos(2⋅\\theta_W) ⋅tan(\\theta_W)⎠⋅(p({{G_R__-}} ↪\n",
       "────────────────────────────────────────────────────────────────────────────── ↪\n",
       "                                             2⋅v_R                             ↪\n",
       "\n",
       "↪                   \n",
       "↪ ) - p({{H_R__+}}))\n",
       "↪ ──────────────────\n",
       "↪                   "
      ]
     },
     "metadata": {},
     "output_type": "display_data"
    },
    {
     "name": "stdout",
     "output_type": "stream",
     "text": [
      "Interaction: \n"
     ]
    },
    {
     "data": {
      "image/png": "[encoded data removed]",
      "text/latex": [
       "$\\displaystyle \\left( Z_{1}, \\  {{H_R^+}}, \\  {{H_R^-}}\\right)$"
      ],
      "text/plain": [
       "(Z₁, {{H_R__+}}, {{H_R__-}})"
      ]
     },
     "metadata": {},
     "output_type": "display_data"
    },
    {
     "name": "stdout",
     "output_type": "stream",
     "text": [
      "Coeff: \n"
     ]
    },
    {
     "data": {
      "image/png": "[encoded data removed]",
      "text/latex": [
       "$\\displaystyle - \\frac{v_{R}^{2} \\left(p{\\left({{H_R^+}} \\right)} - p{\\left({{H_R^-}} \\right)}\\right) \\left(R_{12} g v_{R}^{2} + R_{22} g k_{1}^{2} + R_{22} g v_{R}^{2} + R_{32} g_{B-L} k_{1}^{2}\\right)}{2 \\left(k_{1}^{2} + v_{R}^{2}\\right)^{2}}$"
      ],
      "text/plain": [
       "    2                                 ⎛            2              2            ↪\n",
       "-v_R ⋅(p({{H_R__+}}) - p({{H_R__-}}))⋅⎝R_{12}⋅g⋅v_R  + R_{22}⋅g⋅k₁  + R_{22}⋅g ↪\n",
       "────────────────────────────────────────────────────────────────────────────── ↪\n",
       "                                                           2                   ↪\n",
       "                                               ⎛  2      2⎞                    ↪\n",
       "                                             2⋅⎝k₁  + v_R ⎠                    ↪\n",
       "\n",
       "↪     2                    2⎞ \n",
       "↪ ⋅v_R  + R_{32}⋅g_{B-L}⋅k₁ ⎠ \n",
       "↪ ────────────────────────────\n",
       "↪                             \n",
       "↪                             \n",
       "↪                             "
      ]
     },
     "metadata": {},
     "output_type": "display_data"
    },
    {
     "name": "stdout",
     "output_type": "stream",
     "text": [
      "Approximation: \n"
     ]
    },
    {
     "data": {
      "image/png": "[encoded data removed]",
      "text/latex": [
       "$\\displaystyle \\frac{g \\left(- \\sin{\\left(\\theta_{W} \\right)} \\tan{\\left(\\theta_{W} \\right)} + \\cos{\\left(\\theta_{W} \\right)}\\right) \\left(p{\\left({{H_R^+}} \\right)} - p{\\left({{H_R^-}} \\right)}\\right)}{2}$"
      ],
      "text/plain": [
       "g⋅(-sin(\\theta_W)⋅tan(\\theta_W) + cos(\\theta_W))⋅(p({{H_R__+}}) - p({{H_R__-}}))\n",
       "────────────────────────────────────────────────────────────────────────────────\n",
       "                                       2                                        "
      ]
     },
     "metadata": {},
     "output_type": "display_data"
    },
    {
     "name": "stdout",
     "output_type": "stream",
     "text": [
      "Interaction: \n"
     ]
    },
    {
     "data": {
      "image/png": "[encoded data removed]",
      "text/latex": [
       "$\\displaystyle \\left( W^{-}_{1}, \\  Z_{1}, \\  {{H_R^+}}\\right)$"
      ],
      "text/plain": [
       "(W⁻₁, Z₁, {{H_R__+}})"
      ]
     },
     "metadata": {},
     "output_type": "display_data"
    },
    {
     "name": "stdout",
     "output_type": "stream",
     "text": [
      "Coeff: \n"
     ]
    },
    {
     "data": {
      "image/png": "[encoded data removed]",
      "text/latex": [
       "$\\displaystyle - \\frac{g v_{R}^{2} \\left(R_{12} g k_{1} \\sin{\\left(\\xi \\right)} - R_{22} g k_{2} \\cos{\\left(\\xi \\right)} - R_{32} g_{B-L} k_{1} \\sin{\\left(\\xi \\right)}\\right)}{2 \\left(k_{1}^{2} + v_{R}^{2}\\right)}$"
      ],
      "text/plain": [
       "      2                                                                        ↪\n",
       "-g⋅v_R ⋅(R_{12}⋅g⋅k₁⋅sin(\\xi) - R_{22}⋅g⋅k₂⋅cos(\\xi) - R_{32}⋅g_{B-L}⋅k₁⋅sin(\\ ↪\n",
       "────────────────────────────────────────────────────────────────────────────── ↪\n",
       "                                    ⎛  2      2⎞                               ↪\n",
       "                                  2⋅⎝k₁  + v_R ⎠                               ↪\n",
       "\n",
       "↪      \n",
       "↪ xi)) \n",
       "↪ ─────\n",
       "↪      \n",
       "↪      "
      ]
     },
     "metadata": {},
     "output_type": "display_data"
    },
    {
     "name": "stdout",
     "output_type": "stream",
     "text": [
      "Approximation: \n",
      "No approximation available\n",
      "Interaction: \n"
     ]
    },
    {
     "data": {
      "image/png": "[encoded data removed]",
      "text/latex": [
       "$\\displaystyle \\left( W^{-}_{2}, \\  Z_{1}, \\  {{H_R^+}}\\right)$"
      ],
      "text/plain": [
       "(W⁻₂, Z₁, {{H_R__+}})"
      ]
     },
     "metadata": {},
     "output_type": "display_data"
    },
    {
     "name": "stdout",
     "output_type": "stream",
     "text": [
      "Coeff: \n"
     ]
    },
    {
     "data": {
      "image/png": "[encoded data removed]",
      "text/latex": [
       "$\\displaystyle - \\frac{g v_{R}^{2} \\left(R_{12} g k_{1} \\cos{\\left(\\xi \\right)} + R_{22} g k_{2} \\sin{\\left(\\xi \\right)} - R_{32} g_{B-L} k_{1} \\cos{\\left(\\xi \\right)}\\right)}{2 \\left(k_{1}^{2} + v_{R}^{2}\\right)}$"
      ],
      "text/plain": [
       "      2                                                                        ↪\n",
       "-g⋅v_R ⋅(R_{12}⋅g⋅k₁⋅cos(\\xi) + R_{22}⋅g⋅k₂⋅sin(\\xi) - R_{32}⋅g_{B-L}⋅k₁⋅cos(\\ ↪\n",
       "────────────────────────────────────────────────────────────────────────────── ↪\n",
       "                                    ⎛  2      2⎞                               ↪\n",
       "                                  2⋅⎝k₁  + v_R ⎠                               ↪\n",
       "\n",
       "↪      \n",
       "↪ xi)) \n",
       "↪ ─────\n",
       "↪      \n",
       "↪      "
      ]
     },
     "metadata": {},
     "output_type": "display_data"
    },
    {
     "name": "stdout",
     "output_type": "stream",
     "text": [
      "Approximation: \n"
     ]
    },
    {
     "data": {
      "image/png": "[encoded data removed]",
      "text/latex": [
       "$\\displaystyle \\frac{g k_{1} \\left(g \\cos{\\left(\\theta_{W} \\right)} + g_{B-L} \\sqrt{\\cos{\\left(2 \\theta_{W} \\right)}} \\tan{\\left(\\theta_{W} \\right)}\\right)}{2}$"
      ],
      "text/plain": [
       "     ⎛                            _________________              ⎞\n",
       "g⋅k₁⋅⎝g⋅cos(\\theta_W) + g_{B-L}⋅╲╱ cos(2⋅\\theta_W) ⋅tan(\\theta_W)⎠\n",
       "──────────────────────────────────────────────────────────────────\n",
       "                                2                                 "
      ]
     },
     "metadata": {},
     "output_type": "display_data"
    },
    {
     "name": "stdout",
     "output_type": "stream",
     "text": [
      "Interaction: \n"
     ]
    },
    {
     "data": {
      "image/png": "[encoded data removed]",
      "text/latex": [
       "$\\displaystyle \\left( W^{+}_{1}, \\  Z_{1}, \\  {{G_R^-}}\\right)$"
      ],
      "text/plain": [
       "(W⁺₁, Z₁, {{G_R__-}})"
      ]
     },
     "metadata": {},
     "output_type": "display_data"
    },
    {
     "name": "stdout",
     "output_type": "stream",
     "text": [
      "Coeff: \n"
     ]
    },
    {
     "data": {
      "image/png": "[encoded data removed]",
      "text/latex": [
       "$\\displaystyle \\frac{g v_{R} \\left(R_{12} g k_{1}^{2} \\sin{\\left(\\xi \\right)} - R_{22} g k_{1} k_{2} \\cos{\\left(\\xi \\right)} + R_{32} g_{B-L} v_{R}^{2} \\sin{\\left(\\xi \\right)}\\right)}{2 \\left(k_{1}^{2} + v_{R}^{2}\\right)}$"
      ],
      "text/plain": [
       "      ⎛           2                                                        2   ↪\n",
       "g⋅v_R⋅⎝R_{12}⋅g⋅k₁ ⋅sin(\\xi) - R_{22}⋅g⋅k₁⋅k₂⋅cos(\\xi) + R_{32}⋅g_{B-L}⋅v_R ⋅s ↪\n",
       "────────────────────────────────────────────────────────────────────────────── ↪\n",
       "                                      ⎛  2      2⎞                             ↪\n",
       "                                    2⋅⎝k₁  + v_R ⎠                             ↪\n",
       "\n",
       "↪        ⎞\n",
       "↪ in(\\xi)⎠\n",
       "↪ ────────\n",
       "↪         \n",
       "↪         "
      ]
     },
     "metadata": {},
     "output_type": "display_data"
    },
    {
     "name": "stdout",
     "output_type": "stream",
     "text": [
      "Approximation: \n",
      "No approximation available\n",
      "Interaction: \n"
     ]
    },
    {
     "data": {
      "image/png": "[encoded data removed]",
      "text/latex": [
       "$\\displaystyle \\left( W^{+}_{1}, \\  Z_{1}, \\  {{G_L^-}}\\right)$"
      ],
      "text/plain": [
       "(W⁺₁, Z₁, {{G_L__-}})"
      ]
     },
     "metadata": {},
     "output_type": "display_data"
    },
    {
     "name": "stdout",
     "output_type": "stream",
     "text": [
      "Coeff: \n"
     ]
    },
    {
     "data": {
      "image/png": "[encoded data removed]",
      "text/latex": [
       "$\\displaystyle \\frac{g^{2} \\left(R_{12} k_{2} \\sin{\\left(\\xi \\right)} - R_{22} k_{1} \\cos{\\left(\\xi \\right)}\\right)}{2}$"
      ],
      "text/plain": [
       " 2                                          \n",
       "g ⋅(R_{12}⋅k₂⋅sin(\\xi) - R_{22}⋅k₁⋅cos(\\xi))\n",
       "────────────────────────────────────────────\n",
       "                     2                      "
      ]
     },
     "metadata": {},
     "output_type": "display_data"
    },
    {
     "name": "stdout",
     "output_type": "stream",
     "text": [
      "Approximation: \n"
     ]
    },
    {
     "data": {
      "image/png": "[encoded data removed]",
      "text/latex": [
       "$\\displaystyle - \\frac{g^{2} k_{1} \\sin{\\left(\\theta_{W} \\right)} \\tan{\\left(\\theta_{W} \\right)}}{2}$"
      ],
      "text/plain": [
       "  2                                \n",
       "-g ⋅k₁⋅sin(\\theta_W)⋅tan(\\theta_W) \n",
       "───────────────────────────────────\n",
       "                 2                 "
      ]
     },
     "metadata": {},
     "output_type": "display_data"
    },
    {
     "name": "stdout",
     "output_type": "stream",
     "text": [
      "Interaction: \n"
     ]
    },
    {
     "data": {
      "image/png": "[encoded data removed]",
      "text/latex": [
       "$\\displaystyle \\left( W^{+}_{1}, \\  Z_{1}, \\  {{H_L^-}}\\right)$"
      ],
      "text/plain": [
       "(W⁺₁, Z₁, {{H_L__-}})"
      ]
     },
     "metadata": {},
     "output_type": "display_data"
    },
    {
     "name": "stdout",
     "output_type": "stream",
     "text": [
      "Coeff: \n"
     ]
    },
    {
     "data": {
      "image/png": "[encoded data removed]",
      "text/latex": [
       "$\\displaystyle \\frac{R_{32} g g_{B-L} v_{L} \\cos{\\left(\\xi \\right)}}{2}$"
      ],
      "text/plain": [
       "R_{32}⋅g⋅g_{B-L}⋅v_L⋅cos(\\xi)\n",
       "─────────────────────────────\n",
       "              2              "
      ]
     },
     "metadata": {},
     "output_type": "display_data"
    },
    {
     "name": "stdout",
     "output_type": "stream",
     "text": [
      "Approximation: \n",
      "No approximation available\n",
      "Interaction: \n"
     ]
    },
    {
     "data": {
      "image/png": "[encoded data removed]",
      "text/latex": [
       "$\\displaystyle \\left( W^{+}_{1}, \\  Z_{1}, \\  {{H_R^-}}\\right)$"
      ],
      "text/plain": [
       "(W⁺₁, Z₁, {{H_R__-}})"
      ]
     },
     "metadata": {},
     "output_type": "display_data"
    },
    {
     "name": "stdout",
     "output_type": "stream",
     "text": [
      "Coeff: \n"
     ]
    },
    {
     "data": {
      "image/png": "[encoded data removed]",
      "text/latex": [
       "$\\displaystyle - \\frac{g v_{R}^{2} \\left(R_{12} g k_{1} \\sin{\\left(\\xi \\right)} - R_{22} g k_{2} \\cos{\\left(\\xi \\right)} - R_{32} g_{B-L} k_{1} \\sin{\\left(\\xi \\right)}\\right)}{2 \\left(k_{1}^{2} + v_{R}^{2}\\right)}$"
      ],
      "text/plain": [
       "      2                                                                        ↪\n",
       "-g⋅v_R ⋅(R_{12}⋅g⋅k₁⋅sin(\\xi) - R_{22}⋅g⋅k₂⋅cos(\\xi) - R_{32}⋅g_{B-L}⋅k₁⋅sin(\\ ↪\n",
       "────────────────────────────────────────────────────────────────────────────── ↪\n",
       "                                    ⎛  2      2⎞                               ↪\n",
       "                                  2⋅⎝k₁  + v_R ⎠                               ↪\n",
       "\n",
       "↪      \n",
       "↪ xi)) \n",
       "↪ ─────\n",
       "↪      \n",
       "↪      "
      ]
     },
     "metadata": {},
     "output_type": "display_data"
    },
    {
     "name": "stdout",
     "output_type": "stream",
     "text": [
      "Approximation: \n",
      "No approximation available\n",
      "Interaction: \n"
     ]
    },
    {
     "data": {
      "image/png": "[encoded data removed]",
      "text/latex": [
       "$\\displaystyle \\left( W^{+}_{2}, \\  Z_{1}, \\  {{G_R^-}}\\right)$"
      ],
      "text/plain": [
       "(W⁺₂, Z₁, {{G_R__-}})"
      ]
     },
     "metadata": {},
     "output_type": "display_data"
    },
    {
     "name": "stdout",
     "output_type": "stream",
     "text": [
      "Coeff: \n"
     ]
    },
    {
     "data": {
      "image/png": "[encoded data removed]",
      "text/latex": [
       "$\\displaystyle \\frac{g v_{R} \\left(R_{12} g k_{1}^{2} \\cos{\\left(\\xi \\right)} + R_{22} g k_{1} k_{2} \\sin{\\left(\\xi \\right)} + R_{32} g_{B-L} v_{R}^{2} \\cos{\\left(\\xi \\right)}\\right)}{2 \\left(k_{1}^{2} + v_{R}^{2}\\right)}$"
      ],
      "text/plain": [
       "      ⎛           2                                                        2   ↪\n",
       "g⋅v_R⋅⎝R_{12}⋅g⋅k₁ ⋅cos(\\xi) + R_{22}⋅g⋅k₁⋅k₂⋅sin(\\xi) + R_{32}⋅g_{B-L}⋅v_R ⋅c ↪\n",
       "────────────────────────────────────────────────────────────────────────────── ↪\n",
       "                                      ⎛  2      2⎞                             ↪\n",
       "                                    2⋅⎝k₁  + v_R ⎠                             ↪\n",
       "\n",
       "↪        ⎞\n",
       "↪ os(\\xi)⎠\n",
       "↪ ────────\n",
       "↪         \n",
       "↪         "
      ]
     },
     "metadata": {},
     "output_type": "display_data"
    },
    {
     "name": "stdout",
     "output_type": "stream",
     "text": [
      "Approximation: \n"
     ]
    },
    {
     "data": {
      "image/png": "[encoded data removed]",
      "text/latex": [
       "$\\displaystyle \\frac{g g_{B-L} v_{R} \\sqrt{\\cos{\\left(2 \\theta_{W} \\right)}} \\tan{\\left(\\theta_{W} \\right)}}{2}$"
      ],
      "text/plain": [
       "                _________________              \n",
       "g⋅g_{B-L}⋅v_R⋅╲╱ cos(2⋅\\theta_W) ⋅tan(\\theta_W)\n",
       "───────────────────────────────────────────────\n",
       "                       2                       "
      ]
     },
     "metadata": {},
     "output_type": "display_data"
    },
    {
     "name": "stdout",
     "output_type": "stream",
     "text": [
      "Interaction: \n"
     ]
    },
    {
     "data": {
      "image/png": "[encoded data removed]",
      "text/latex": [
       "$\\displaystyle \\left( W^{+}_{2}, \\  Z_{1}, \\  {{G_L^-}}\\right)$"
      ],
      "text/plain": [
       "(W⁺₂, Z₁, {{G_L__-}})"
      ]
     },
     "metadata": {},
     "output_type": "display_data"
    },
    {
     "name": "stdout",
     "output_type": "stream",
     "text": [
      "Coeff: \n"
     ]
    },
    {
     "data": {
      "image/png": "[encoded data removed]",
      "text/latex": [
       "$\\displaystyle \\frac{g^{2} \\left(R_{12} k_{2} \\cos{\\left(\\xi \\right)} + R_{22} k_{1} \\sin{\\left(\\xi \\right)}\\right)}{2}$"
      ],
      "text/plain": [
       " 2                                          \n",
       "g ⋅(R_{12}⋅k₂⋅cos(\\xi) + R_{22}⋅k₁⋅sin(\\xi))\n",
       "────────────────────────────────────────────\n",
       "                     2                      "
      ]
     },
     "metadata": {},
     "output_type": "display_data"
    },
    {
     "name": "stdout",
     "output_type": "stream",
     "text": [
      "Approximation: \n",
      "No approximation available\n",
      "Interaction: \n"
     ]
    },
    {
     "data": {
      "image/png": "[encoded data removed]",
      "text/latex": [
       "$\\displaystyle \\left( W^{+}_{2}, \\  Z_{1}, \\  {{H_L^-}}\\right)$"
      ],
      "text/plain": [
       "(W⁺₂, Z₁, {{H_L__-}})"
      ]
     },
     "metadata": {},
     "output_type": "display_data"
    },
    {
     "name": "stdout",
     "output_type": "stream",
     "text": [
      "Coeff: \n"
     ]
    },
    {
     "data": {
      "image/png": "[encoded data removed]",
      "text/latex": [
       "$\\displaystyle - \\frac{R_{32} g g_{B-L} v_{L} \\sin{\\left(\\xi \\right)}}{2}$"
      ],
      "text/plain": [
       "-R_{32}⋅g⋅g_{B-L}⋅v_L⋅sin(\\xi) \n",
       "───────────────────────────────\n",
       "               2               "
      ]
     },
     "metadata": {},
     "output_type": "display_data"
    },
    {
     "name": "stdout",
     "output_type": "stream",
     "text": [
      "Approximation: \n",
      "No approximation available\n",
      "Interaction: \n"
     ]
    },
    {
     "data": {
      "image/png": "[encoded data removed]",
      "text/latex": [
       "$\\displaystyle \\left( W^{+}_{2}, \\  Z_{1}, \\  {{H_R^-}}\\right)$"
      ],
      "text/plain": [
       "(W⁺₂, Z₁, {{H_R__-}})"
      ]
     },
     "metadata": {},
     "output_type": "display_data"
    },
    {
     "name": "stdout",
     "output_type": "stream",
     "text": [
      "Coeff: \n"
     ]
    },
    {
     "data": {
      "image/png": "[encoded data removed]",
      "text/latex": [
       "$\\displaystyle - \\frac{g v_{R}^{2} \\left(R_{12} g k_{1} \\cos{\\left(\\xi \\right)} + R_{22} g k_{2} \\sin{\\left(\\xi \\right)} - R_{32} g_{B-L} k_{1} \\cos{\\left(\\xi \\right)}\\right)}{2 \\left(k_{1}^{2} + v_{R}^{2}\\right)}$"
      ],
      "text/plain": [
       "      2                                                                        ↪\n",
       "-g⋅v_R ⋅(R_{12}⋅g⋅k₁⋅cos(\\xi) + R_{22}⋅g⋅k₂⋅sin(\\xi) - R_{32}⋅g_{B-L}⋅k₁⋅cos(\\ ↪\n",
       "────────────────────────────────────────────────────────────────────────────── ↪\n",
       "                                    ⎛  2      2⎞                               ↪\n",
       "                                  2⋅⎝k₁  + v_R ⎠                               ↪\n",
       "\n",
       "↪      \n",
       "↪ xi)) \n",
       "↪ ─────\n",
       "↪      \n",
       "↪      "
      ]
     },
     "metadata": {},
     "output_type": "display_data"
    },
    {
     "name": "stdout",
     "output_type": "stream",
     "text": [
      "Approximation: \n"
     ]
    },
    {
     "data": {
      "image/png": "[encoded data removed]",
      "text/latex": [
       "$\\displaystyle \\frac{g k_{1} \\left(g \\cos{\\left(\\theta_{W} \\right)} + g_{B-L} \\sqrt{\\cos{\\left(2 \\theta_{W} \\right)}} \\tan{\\left(\\theta_{W} \\right)}\\right)}{2}$"
      ],
      "text/plain": [
       "     ⎛                            _________________              ⎞\n",
       "g⋅k₁⋅⎝g⋅cos(\\theta_W) + g_{B-L}⋅╲╱ cos(2⋅\\theta_W) ⋅tan(\\theta_W)⎠\n",
       "──────────────────────────────────────────────────────────────────\n",
       "                                2                                 "
      ]
     },
     "metadata": {},
     "output_type": "display_data"
    }
   ],
   "source": [
    "for interaction_tuple, coeff in interactionsZ1_VS_dict.items():\n",
    "    print('Interaction: ')\n",
    "    display(interaction_tuple)\n",
    "    print('Coeff: ')\n",
    "    coeff = coeff.subs(R13, 0).factor()\n",
    "    display(coeff)\n",
    "    try:\n",
    "        print('Approximation: ')\n",
    "        coeff_approx = interactionsZ1_VS_dict_approx[interaction_tuple].factor()\n",
    "        display(coeff_approx.subs(k1, epsilon*vR).series(epsilon, 0, 2).removeO().subs(epsilon, k1/vR).factor())\n",
    "    except:\n",
    "        print('No approximation available')"
   ]
  },
  {
   "cell_type": "code",
   "execution_count": 104,
   "metadata": {},
   "outputs": [
    {
     "name": "stdout",
     "output_type": "stream",
     "text": [
      "\\begin{array}{|c|c|}\n",
      "\\hline\n",
      "\\textbf{Interaction} & \\textbf{Coefficient} \\\\\n",
      "\\hline\n",
      "$Z_{1} {{G_R^+}} {{G_R^-}}$ & $- \\frac{v_{R}^{2} \\left(p{\\left({{G_R^+}} \\right)} - p{\\left({{G_R^-}} \\right)}\\right) \\left(R_{12} g k_{1}^{2} + R_{22} g k_{1}^{2} + R_{22} g v_{R}^{2} + R_{32} g_{B-L} v_{R}^{2}\\right)}{2 \\left(k_{1}^{2} + v_{R}^{2}\\right)^{2}}$ \\\\ \n",
      "\\hline\n",
      "$Z_{1} {{G_R^+}} {{H_R^-}}$ & $\\frac{k_{1} v_{R}^{3} \\left(R_{12} g - R_{32} g_{B-L}\\right) \\left(p{\\left({{G_R^+}} \\right)} - p{\\left({{H_R^-}} \\right)}\\right)}{2 \\left(k_{1}^{2} + v_{R}^{2}\\right)^{2}}$ \\\\ \n",
      "\\hline\n",
      "$W^{-}_{1} Z_{1} {{G_R^+}}$ & $\\frac{g v_{R} \\left(R_{12} g k_{1}^{2} \\sin{\\left(\\xi \\right)} - R_{22} g k_{1} k_{2} \\cos{\\left(\\xi \\right)} + R_{32} g_{B-L} v_{R}^{2} \\sin{\\left(\\xi \\right)}\\right)}{2 \\left(k_{1}^{2} + v_{R}^{2}\\right)}$ \\\\ \n",
      "\\hline\n",
      "$W^{-}_{2} Z_{1} {{G_R^+}}$ & $\\frac{g v_{R} \\left(R_{12} g k_{1}^{2} \\cos{\\left(\\xi \\right)} + R_{22} g k_{1} k_{2} \\sin{\\left(\\xi \\right)} + R_{32} g_{B-L} v_{R}^{2} \\cos{\\left(\\xi \\right)}\\right)}{2 \\left(k_{1}^{2} + v_{R}^{2}\\right)}$ \\\\ \n",
      "\\hline\n",
      "$Z_{1} {{G_L^+}} {{G_L^-}}$ & $- \\frac{g \\left(R_{12} + R_{22}\\right) \\left(p{\\left({{G_L^+}} \\right)} - p{\\left({{G_L^-}} \\right)}\\right)}{2}$ \\\\ \n",
      "\\hline\n",
      "$W^{-}_{1} Z_{1} {{G_L^+}}$ & $\\frac{g^{2} \\left(R_{12} k_{2} \\sin{\\left(\\xi \\right)} - R_{22} k_{1} \\cos{\\left(\\xi \\right)}\\right)}{2}$ \\\\ \n",
      "\\hline\n",
      "$W^{-}_{2} Z_{1} {{G_L^+}}$ & $\\frac{g^{2} \\left(R_{12} k_{2} \\cos{\\left(\\xi \\right)} + R_{22} k_{1} \\sin{\\left(\\xi \\right)}\\right)}{2}$ \\\\ \n",
      "\\hline\n",
      "$Z_{1} {{H_L^+}} {{H_L^-}}$ & $- \\frac{\\left(R_{12} g + R_{32} g_{B-L}\\right) \\left(p{\\left({{H_L^+}} \\right)} - p{\\left({{H_L^-}} \\right)}\\right)}{2}$ \\\\ \n",
      "\\hline\n",
      "$W^{-}_{1} Z_{1} {{H_L^+}}$ & $\\frac{R_{32} g g_{B-L} v_{L} \\cos{\\left(\\xi \\right)}}{2}$ \\\\ \n",
      "\\hline\n",
      "$W^{-}_{2} Z_{1} {{H_L^+}}$ & $- \\frac{R_{32} g g_{B-L} v_{L} \\sin{\\left(\\xi \\right)}}{2}$ \\\\ \n",
      "\\hline\n",
      "$Z_{1} {{G_R^-}} {{H_R^+}}$ & $- \\frac{k_{1} v_{R}^{3} \\left(R_{12} g - R_{32} g_{B-L}\\right) \\left(p{\\left({{G_R^-}} \\right)} - p{\\left({{H_R^+}} \\right)}\\right)}{2 \\left(k_{1}^{2} + v_{R}^{2}\\right)^{2}}$ \\\\ \n",
      "\\hline\n",
      "$Z_{1} {{H_R^+}} {{H_R^-}}$ & $- \\frac{v_{R}^{2} \\left(p{\\left({{H_R^+}} \\right)} - p{\\left({{H_R^-}} \\right)}\\right) \\left(R_{12} g v_{R}^{2} + R_{22} g k_{1}^{2} + R_{22} g v_{R}^{2} + R_{32} g_{B-L} k_{1}^{2}\\right)}{2 \\left(k_{1}^{2} + v_{R}^{2}\\right)^{2}}$ \\\\ \n",
      "\\hline\n",
      "$W^{-}_{1} Z_{1} {{H_R^+}}$ & $- \\frac{g v_{R}^{2} \\left(R_{12} g k_{1} \\sin{\\left(\\xi \\right)} - R_{22} g k_{2} \\cos{\\left(\\xi \\right)} - R_{32} g_{B-L} k_{1} \\sin{\\left(\\xi \\right)}\\right)}{2 \\left(k_{1}^{2} + v_{R}^{2}\\right)}$ \\\\ \n",
      "\\hline\n",
      "$W^{-}_{2} Z_{1} {{H_R^+}}$ & $- \\frac{g v_{R}^{2} \\left(R_{12} g k_{1} \\cos{\\left(\\xi \\right)} + R_{22} g k_{2} \\sin{\\left(\\xi \\right)} - R_{32} g_{B-L} k_{1} \\cos{\\left(\\xi \\right)}\\right)}{2 \\left(k_{1}^{2} + v_{R}^{2}\\right)}$ \\\\ \n",
      "\\hline\n",
      "$W^{+}_{1} Z_{1} {{G_R^-}}$ & $\\frac{g v_{R} \\left(R_{12} g k_{1}^{2} \\sin{\\left(\\xi \\right)} - R_{22} g k_{1} k_{2} \\cos{\\left(\\xi \\right)} + R_{32} g_{B-L} v_{R}^{2} \\sin{\\left(\\xi \\right)}\\right)}{2 \\left(k_{1}^{2} + v_{R}^{2}\\right)}$ \\\\ \n",
      "\\hline\n",
      "$W^{+}_{1} Z_{1} {{G_L^-}}$ & $\\frac{g^{2} \\left(R_{12} k_{2} \\sin{\\left(\\xi \\right)} - R_{22} k_{1} \\cos{\\left(\\xi \\right)}\\right)}{2}$ \\\\ \n",
      "\\hline\n",
      "$W^{+}_{1} Z_{1} {{H_L^-}}$ & $\\frac{R_{32} g g_{B-L} v_{L} \\cos{\\left(\\xi \\right)}}{2}$ \\\\ \n",
      "\\hline\n",
      "$W^{+}_{1} Z_{1} {{H_R^-}}$ & $- \\frac{g v_{R}^{2} \\left(R_{12} g k_{1} \\sin{\\left(\\xi \\right)} - R_{22} g k_{2} \\cos{\\left(\\xi \\right)} - R_{32} g_{B-L} k_{1} \\sin{\\left(\\xi \\right)}\\right)}{2 \\left(k_{1}^{2} + v_{R}^{2}\\right)}$ \\\\ \n",
      "\\hline\n",
      "$W^{+}_{2} Z_{1} {{G_R^-}}$ & $\\frac{g v_{R} \\left(R_{12} g k_{1}^{2} \\cos{\\left(\\xi \\right)} + R_{22} g k_{1} k_{2} \\sin{\\left(\\xi \\right)} + R_{32} g_{B-L} v_{R}^{2} \\cos{\\left(\\xi \\right)}\\right)}{2 \\left(k_{1}^{2} + v_{R}^{2}\\right)}$ \\\\ \n",
      "\\hline\n",
      "$W^{+}_{2} Z_{1} {{G_L^-}}$ & $\\frac{g^{2} \\left(R_{12} k_{2} \\cos{\\left(\\xi \\right)} + R_{22} k_{1} \\sin{\\left(\\xi \\right)}\\right)}{2}$ \\\\ \n",
      "\\hline\n",
      "$W^{+}_{2} Z_{1} {{H_L^-}}$ & $- \\frac{R_{32} g g_{B-L} v_{L} \\sin{\\left(\\xi \\right)}}{2}$ \\\\ \n",
      "\\hline\n",
      "$W^{+}_{2} Z_{1} {{H_R^-}}$ & $- \\frac{g v_{R}^{2} \\left(R_{12} g k_{1} \\cos{\\left(\\xi \\right)} + R_{22} g k_{2} \\sin{\\left(\\xi \\right)} - R_{32} g_{B-L} k_{1} \\cos{\\left(\\xi \\right)}\\right)}{2 \\left(k_{1}^{2} + v_{R}^{2}\\right)}$ \\\\ \n",
      "\\hline\n",
      "\\end{array}\n"
     ]
    }
   ],
   "source": [
    "print(generate_latex_table_dict_2col(\n",
    "    interactionsZ1_VS_dict, \n",
    "    simplification_coeff=lambda x:x.factor()\n",
    "))"
   ]
  },
  {
   "cell_type": "code",
   "execution_count": 105,
   "metadata": {},
   "outputs": [
    {
     "name": "stdout",
     "output_type": "stream",
     "text": [
      "\\begin{array}{|c|c|}\n",
      "\\hline\n",
      "\\textbf{Interaction} & \\textbf{Coefficient} \\\\\n",
      "\\hline\n",
      "$Z_{1} {{G_R^+}} {{G_R^-}}$ & $- \\frac{\\left(g \\sin{\\left(\\theta_{W} \\right)} + g_{B-L} \\sqrt{\\cos{\\left(2 \\theta_{W} \\right)}}\\right) \\left(p{\\left({{G_R^+}} \\right)} - p{\\left({{G_R^-}} \\right)}\\right) \\tan{\\left(\\theta_{W} \\right)}}{2}$ \\\\ \n",
      "\\hline\n",
      "$Z_{1} {{G_R^+}} {{H_R^-}}$ & $- \\frac{k_{1} \\left(g \\cos{\\left(\\theta_{W} \\right)} + g_{B-L} \\sqrt{\\cos{\\left(2 \\theta_{W} \\right)}} \\tan{\\left(\\theta_{W} \\right)}\\right) \\left(p{\\left({{G_R^+}} \\right)} - p{\\left({{H_R^-}} \\right)}\\right)}{2 v_{R}}$ \\\\ \n",
      "\\hline\n",
      "$W^{-}_{2} Z_{1} {{G_R^+}}$ & $\\frac{g g_{B-L} v_{R} \\sqrt{\\cos{\\left(2 \\theta_{W} \\right)}} \\tan{\\left(\\theta_{W} \\right)}}{2}$ \\\\ \n",
      "\\hline\n",
      "$Z_{1} {{G_L^+}} {{G_L^-}}$ & $\\frac{g \\left(- \\sin{\\left(\\theta_{W} \\right)} \\tan{\\left(\\theta_{W} \\right)} + \\cos{\\left(\\theta_{W} \\right)}\\right) \\left(p{\\left({{G_L^+}} \\right)} - p{\\left({{G_L^-}} \\right)}\\right)}{2}$ \\\\ \n",
      "\\hline\n",
      "$W^{-}_{1} Z_{1} {{G_L^+}}$ & $- \\frac{g^{2} k_{1} \\sin{\\left(\\theta_{W} \\right)} \\tan{\\left(\\theta_{W} \\right)}}{2}$ \\\\ \n",
      "\\hline\n",
      "$Z_{1} {{H_L^+}} {{H_L^-}}$ & $\\frac{\\left(g \\cos{\\left(\\theta_{W} \\right)} - g_{B-L} \\sqrt{\\cos{\\left(2 \\theta_{W} \\right)}} \\tan{\\left(\\theta_{W} \\right)}\\right) \\left(p{\\left({{H_L^+}} \\right)} - p{\\left({{H_L^-}} \\right)}\\right)}{2}$ \\\\ \n",
      "\\hline\n",
      "$Z_{1} {{G_R^-}} {{H_R^+}}$ & $\\frac{k_{1} \\left(g \\cos{\\left(\\theta_{W} \\right)} + g_{B-L} \\sqrt{\\cos{\\left(2 \\theta_{W} \\right)}} \\tan{\\left(\\theta_{W} \\right)}\\right) \\left(p{\\left({{G_R^-}} \\right)} - p{\\left({{H_R^+}} \\right)}\\right)}{2 v_{R}}$ \\\\ \n",
      "\\hline\n",
      "$Z_{1} {{H_R^+}} {{H_R^-}}$ & $\\frac{g \\left(- \\sin{\\left(\\theta_{W} \\right)} \\tan{\\left(\\theta_{W} \\right)} + \\cos{\\left(\\theta_{W} \\right)}\\right) \\left(p{\\left({{H_R^+}} \\right)} - p{\\left({{H_R^-}} \\right)}\\right)}{2}$ \\\\ \n",
      "\\hline\n",
      "$W^{-}_{2} Z_{1} {{H_R^+}}$ & $\\frac{g k_{1} \\left(g \\cos{\\left(\\theta_{W} \\right)} + g_{B-L} \\sqrt{\\cos{\\left(2 \\theta_{W} \\right)}} \\tan{\\left(\\theta_{W} \\right)}\\right)}{2}$ \\\\ \n",
      "\\hline\n",
      "$W^{+}_{1} Z_{1} {{G_L^-}}$ & $- \\frac{g^{2} k_{1} \\sin{\\left(\\theta_{W} \\right)} \\tan{\\left(\\theta_{W} \\right)}}{2}$ \\\\ \n",
      "\\hline\n",
      "$W^{+}_{2} Z_{1} {{G_R^-}}$ & $\\frac{g g_{B-L} v_{R} \\sqrt{\\cos{\\left(2 \\theta_{W} \\right)}} \\tan{\\left(\\theta_{W} \\right)}}{2}$ \\\\ \n",
      "\\hline\n",
      "$W^{+}_{2} Z_{1} {{H_R^-}}$ & $\\frac{g k_{1} \\left(g \\cos{\\left(\\theta_{W} \\right)} + g_{B-L} \\sqrt{\\cos{\\left(2 \\theta_{W} \\right)}} \\tan{\\left(\\theta_{W} \\right)}\\right)}{2}$ \\\\ \n",
      "\\hline\n",
      "\\end{array}\n"
     ]
    }
   ],
   "source": [
    "print(generate_latex_table_dict_2col(\n",
    "    interactionsZ1_VS_dict_approx, \n",
    "    simplification_coeff=lambda x:x.subs(k1, epsilon*vR).series(epsilon, 0, 2).removeO().subs(epsilon, k1/vR).factor()\n",
    "))"
   ]
  },
  {
   "cell_type": "markdown",
   "metadata": {},
   "source": [
    "## Scalar potential interactions"
   ]
  },
  {
   "cell_type": "markdown",
   "metadata": {},
   "source": [
    "### Interaction H10 SS"
   ]
  },
  {
   "cell_type": "code",
   "execution_count": 106,
   "metadata": {},
   "outputs": [],
   "source": [
    "from FeynmanRules_senjanovic_SW import interactions_scalars, interactions_scalars_approx"
   ]
  },
  {
   "cell_type": "code",
   "execution_count": 107,
   "metadata": {},
   "outputs": [
    {
     "name": "stdout",
     "output_type": "stream",
     "text": [
      "Interaction: \n",
      "({{H_1^0}}, {{H_1^0}}, {{H_2^0}})\n",
      "coeff: \n",
      "16*\\alpha_1**4*\\rho_1**3*k_1**4*v_R**3/(\\alpha_1**6*k_1**6 + 6*\\alpha_1**5*\\alpha_3*k_1**6 + 15*\\alpha_1**4*\\alpha_3**2*k_1**6 + 12*\\alpha_1**4*\\rho_1**2*k_1**4*v_R**2 + 20*\\alpha_1**3*\\alpha_3**3*k_1**6 + 48*\\alpha_1**3*\\alpha_3*\\rho_1**2*k_1**4*v_R**2 + 15*\\alpha_1**2*\\alpha_3**4*k_1**6 + 72*\\alpha_1**2*\\alpha_3**2*\\rho_1**2*k_1**4*v_R**2 + 48*\\alpha_1**2*\\rho_1**4*k_1**2*v_R**4 + 6*\\alpha_1*\\alpha_3**5*k_1**6 + 48*\\alpha_1*\\alpha_3**3*\\rho_1**2*k_1**4*v_R**2 + 96*\\alpha_1*\\alpha_3*\\rho_1**4*k_1**2*v_R**4 + \\alpha_3**6*k_1**6 + 12*\\alpha_3**4*\\rho_1**2*k_1**4*v_R**2 + 48*\\alpha_3**2*\\rho_1**4*k_1**2*v_R**4 + 64*\\rho_1**6*v_R**6) + 64*\\alpha_1**3*\\alpha_3*\\rho_1**3*k_1**4*v_R**3/(\\alpha_1**6*k_1**6 + 6*\\alpha_1**5*\\alpha_3*k_1**6 + 15*\\alpha_1**4*\\alpha_3**2*k_1**6 + 12*\\alpha_1**4*\\rho_1**2*k_1**4*v_R**2 + 20*\\alpha_1**3*\\alpha_3**3*k_1**6 + 48*\\alpha_1**3*\\alpha_3*\\rho_1**2*k_1**4*v_R**2 + 15*\\alpha_1**2*\\alpha_3**4*k_1**6 + 72*\\alpha_1**2*\\alpha_3**2*\\rho_1**2*k_1**4*v_R**2 + 48*\\alpha_1**2*\\rho_1**4*k_1**2*v_R**4 + 6*\\alpha_1*\\alpha_3**5*k_1**6 + 48*\\alpha_1*\\alpha_3**3*\\rho_1**2*k_1**4*v_R**2 + 96*\\alpha_1*\\alpha_3*\\rho_1**4*k_1**2*v_R**4 + \\alpha_3**6*k_1**6 + 12*\\alpha_3**4*\\rho_1**2*k_1**4*v_R**2 + 48*\\alpha_3**2*\\rho_1**4*k_1**2*v_R**4 + 64*\\rho_1**6*v_R**6) - 64*\\alpha_1**3*\\rho_1**4*k_1**2*v_R**5/(\\alpha_1**6*k_1**6 + 6*\\alpha_1**5*\\alpha_3*k_1**6 + 15*\\alpha_1**4*\\alpha_3**2*k_1**6 + 12*\\alpha_1**4*\\rho_1**2*k_1**4*v_R**2 + 20*\\alpha_1**3*\\alpha_3**3*k_1**6 + 48*\\alpha_1**3*\\alpha_3*\\rho_1**2*k_1**4*v_R**2 + 15*\\alpha_1**2*\\alpha_3**4*k_1**6 + 72*\\alpha_1**2*\\alpha_3**2*\\rho_1**2*k_1**4*v_R**2 + 48*\\alpha_1**2*\\rho_1**4*k_1**2*v_R**4 + 6*\\alpha_1*\\alpha_3**5*k_1**6 + 48*\\alpha_1*\\alpha_3**3*\\rho_1**2*k_1**4*v_R**2 + 96*\\alpha_1*\\alpha_3*\\rho_1**4*k_1**2*v_R**4 + \\alpha_3**6*k_1**6 + 12*\\alpha_3**4*\\rho_1**2*k_1**4*v_R**2 + 48*\\alpha_3**2*\\rho_1**4*k_1**2*v_R**4 + 64*\\rho_1**6*v_R**6) + 96*\\alpha_1**2*\\alpha_3**2*\\rho_1**3*k_1**4*v_R**3/(\\alpha_1**6*k_1**6 + 6*\\alpha_1**5*\\alpha_3*k_1**6 + 15*\\alpha_1**4*\\alpha_3**2*k_1**6 + 12*\\alpha_1**4*\\rho_1**2*k_1**4*v_R**2 + 20*\\alpha_1**3*\\alpha_3**3*k_1**6 + 48*\\alpha_1**3*\\alpha_3*\\rho_1**2*k_1**4*v_R**2 + 15*\\alpha_1**2*\\alpha_3**4*k_1**6 + 72*\\alpha_1**2*\\alpha_3**2*\\rho_1**2*k_1**4*v_R**2 + 48*\\alpha_1**2*\\rho_1**4*k_1**2*v_R**4 + 6*\\alpha_1*\\alpha_3**5*k_1**6 + 48*\\alpha_1*\\alpha_3**3*\\rho_1**2*k_1**4*v_R**2 + 96*\\alpha_1*\\alpha_3*\\rho_1**4*k_1**2*v_R**4 + \\alpha_3**6*k_1**6 + 12*\\alpha_3**4*\\rho_1**2*k_1**4*v_R**2 + 48*\\alpha_3**2*\\rho_1**4*k_1**2*v_R**4 + 64*\\rho_1**6*v_R**6) - 192*\\alpha_1**2*\\alpha_3*\\rho_1**4*k_1**2*v_R**5/(\\alpha_1**6*k_1**6 + 6*\\alpha_1**5*\\alpha_3*k_1**6 + 15*\\alpha_1**4*\\alpha_3**2*k_1**6 + 12*\\alpha_1**4*\\rho_1**2*k_1**4*v_R**2 + 20*\\alpha_1**3*\\alpha_3**3*k_1**6 + 48*\\alpha_1**3*\\alpha_3*\\rho_1**2*k_1**4*v_R**2 + 15*\\alpha_1**2*\\alpha_3**4*k_1**6 + 72*\\alpha_1**2*\\alpha_3**2*\\rho_1**2*k_1**4*v_R**2 + 48*\\alpha_1**2*\\rho_1**4*k_1**2*v_R**4 + 6*\\alpha_1*\\alpha_3**5*k_1**6 + 48*\\alpha_1*\\alpha_3**3*\\rho_1**2*k_1**4*v_R**2 + 96*\\alpha_1*\\alpha_3*\\rho_1**4*k_1**2*v_R**4 + \\alpha_3**6*k_1**6 + 12*\\alpha_3**4*\\rho_1**2*k_1**4*v_R**2 + 48*\\alpha_3**2*\\rho_1**4*k_1**2*v_R**4 + 64*\\rho_1**6*v_R**6) + 64*\\alpha_1**2*\\rho_1**5*k_1**2*v_R**5/(\\alpha_1**6*k_1**6 + 6*\\alpha_1**5*\\alpha_3*k_1**6 + 15*\\alpha_1**4*\\alpha_3**2*k_1**6 + 12*\\alpha_1**4*\\rho_1**2*k_1**4*v_R**2 + 20*\\alpha_1**3*\\alpha_3**3*k_1**6 + 48*\\alpha_1**3*\\alpha_3*\\rho_1**2*k_1**4*v_R**2 + 15*\\alpha_1**2*\\alpha_3**4*k_1**6 + 72*\\alpha_1**2*\\alpha_3**2*\\rho_1**2*k_1**4*v_R**2 + 48*\\alpha_1**2*\\rho_1**4*k_1**2*v_R**4 + 6*\\alpha_1*\\alpha_3**5*k_1**6 + 48*\\alpha_1*\\alpha_3**3*\\rho_1**2*k_1**4*v_R**2 + 96*\\alpha_1*\\alpha_3*\\rho_1**4*k_1**2*v_R**4 + \\alpha_3**6*k_1**6 + 12*\\alpha_3**4*\\rho_1**2*k_1**4*v_R**2 + 48*\\alpha_3**2*\\rho_1**4*k_1**2*v_R**4 + 64*\\rho_1**6*v_R**6) + 64*\\alpha_1*\\alpha_3**3*\\rho_1**3*k_1**4*v_R**3/(\\alpha_1**6*k_1**6 + 6*\\alpha_1**5*\\alpha_3*k_1**6 + 15*\\alpha_1**4*\\alpha_3**2*k_1**6 + 12*\\alpha_1**4*\\rho_1**2*k_1**4*v_R**2 + 20*\\alpha_1**3*\\alpha_3**3*k_1**6 + 48*\\alpha_1**3*\\alpha_3*\\rho_1**2*k_1**4*v_R**2 + 15*\\alpha_1**2*\\alpha_3**4*k_1**6 + 72*\\alpha_1**2*\\alpha_3**2*\\rho_1**2*k_1**4*v_R**2 + 48*\\alpha_1**2*\\rho_1**4*k_1**2*v_R**4 + 6*\\alpha_1*\\alpha_3**5*k_1**6 + 48*\\alpha_1*\\alpha_3**3*\\rho_1**2*k_1**4*v_R**2 + 96*\\alpha_1*\\alpha_3*\\rho_1**4*k_1**2*v_R**4 + \\alpha_3**6*k_1**6 + 12*\\alpha_3**4*\\rho_1**2*k_1**4*v_R**2 + 48*\\alpha_3**2*\\rho_1**4*k_1**2*v_R**4 + 64*\\rho_1**6*v_R**6) - 192*\\alpha_1*\\alpha_3**2*\\rho_1**4*k_1**2*v_R**5/(\\alpha_1**6*k_1**6 + 6*\\alpha_1**5*\\alpha_3*k_1**6 + 15*\\alpha_1**4*\\alpha_3**2*k_1**6 + 12*\\alpha_1**4*\\rho_1**2*k_1**4*v_R**2 + 20*\\alpha_1**3*\\alpha_3**3*k_1**6 + 48*\\alpha_1**3*\\alpha_3*\\rho_1**2*k_1**4*v_R**2 + 15*\\alpha_1**2*\\alpha_3**4*k_1**6 + 72*\\alpha_1**2*\\alpha_3**2*\\rho_1**2*k_1**4*v_R**2 + 48*\\alpha_1**2*\\rho_1**4*k_1**2*v_R**4 + 6*\\alpha_1*\\alpha_3**5*k_1**6 + 48*\\alpha_1*\\alpha_3**3*\\rho_1**2*k_1**4*v_R**2 + 96*\\alpha_1*\\alpha_3*\\rho_1**4*k_1**2*v_R**4 + \\alpha_3**6*k_1**6 + 12*\\alpha_3**4*\\rho_1**2*k_1**4*v_R**2 + 48*\\alpha_3**2*\\rho_1**4*k_1**2*v_R**4 + 64*\\rho_1**6*v_R**6) + 128*\\alpha_1*\\alpha_3*\\rho_1**5*k_1**2*v_R**5/(\\alpha_1**6*k_1**6 + 6*\\alpha_1**5*\\alpha_3*k_1**6 + 15*\\alpha_1**4*\\alpha_3**2*k_1**6 + 12*\\alpha_1**4*\\rho_1**2*k_1**4*v_R**2 + 20*\\alpha_1**3*\\alpha_3**3*k_1**6 + 48*\\alpha_1**3*\\alpha_3*\\rho_1**2*k_1**4*v_R**2 + 15*\\alpha_1**2*\\alpha_3**4*k_1**6 + 72*\\alpha_1**2*\\alpha_3**2*\\rho_1**2*k_1**4*v_R**2 + 48*\\alpha_1**2*\\rho_1**4*k_1**2*v_R**4 + 6*\\alpha_1*\\alpha_3**5*k_1**6 + 48*\\alpha_1*\\alpha_3**3*\\rho_1**2*k_1**4*v_R**2 + 96*\\alpha_1*\\alpha_3*\\rho_1**4*k_1**2*v_R**4 + \\alpha_3**6*k_1**6 + 12*\\alpha_3**4*\\rho_1**2*k_1**4*v_R**2 + 48*\\alpha_3**2*\\rho_1**4*k_1**2*v_R**4 + 64*\\rho_1**6*v_R**6) + 384*\\alpha_1*\\lambda_1*\\rho_1**5*k_1**2*v_R**5/(\\alpha_1**6*k_1**6 + 6*\\alpha_1**5*\\alpha_3*k_1**6 + 15*\\alpha_1**4*\\alpha_3**2*k_1**6 + 12*\\alpha_1**4*\\rho_1**2*k_1**4*v_R**2 + 20*\\alpha_1**3*\\alpha_3**3*k_1**6 + 48*\\alpha_1**3*\\alpha_3*\\rho_1**2*k_1**4*v_R**2 + 15*\\alpha_1**2*\\alpha_3**4*k_1**6 + 72*\\alpha_1**2*\\alpha_3**2*\\rho_1**2*k_1**4*v_R**2 + 48*\\alpha_1**2*\\rho_1**4*k_1**2*v_R**4 + 6*\\alpha_1*\\alpha_3**5*k_1**6 + 48*\\alpha_1*\\alpha_3**3*\\rho_1**2*k_1**4*v_R**2 + 96*\\alpha_1*\\alpha_3*\\rho_1**4*k_1**2*v_R**4 + \\alpha_3**6*k_1**6 + 12*\\alpha_3**4*\\rho_1**2*k_1**4*v_R**2 + 48*\\alpha_3**2*\\rho_1**4*k_1**2*v_R**4 + 64*\\rho_1**6*v_R**6) + 384*\\alpha_1*\\lambda_2*\\rho_1**5*k_1**2*v_R**5/(\\alpha_1**6*k_1**6 + 6*\\alpha_1**5*\\alpha_3*k_1**6 + 15*\\alpha_1**4*\\alpha_3**2*k_1**6 + 12*\\alpha_1**4*\\rho_1**2*k_1**4*v_R**2 + 20*\\alpha_1**3*\\alpha_3**3*k_1**6 + 48*\\alpha_1**3*\\alpha_3*\\rho_1**2*k_1**4*v_R**2 + 15*\\alpha_1**2*\\alpha_3**4*k_1**6 + 72*\\alpha_1**2*\\alpha_3**2*\\rho_1**2*k_1**4*v_R**2 + 48*\\alpha_1**2*\\rho_1**4*k_1**2*v_R**4 + 6*\\alpha_1*\\alpha_3**5*k_1**6 + 48*\\alpha_1*\\alpha_3**3*\\rho_1**2*k_1**4*v_R**2 + 96*\\alpha_1*\\alpha_3*\\rho_1**4*k_1**2*v_R**4 + \\alpha_3**6*k_1**6 + 12*\\alpha_3**4*\\rho_1**2*k_1**4*v_R**2 + 48*\\alpha_3**2*\\rho_1**4*k_1**2*v_R**4 + 64*\\rho_1**6*v_R**6) + 128*\\alpha_1*\\rho_1**6*v_R**7/(\\alpha_1**6*k_1**6 + 6*\\alpha_1**5*\\alpha_3*k_1**6 + 15*\\alpha_1**4*\\alpha_3**2*k_1**6 + 12*\\alpha_1**4*\\rho_1**2*k_1**4*v_R**2 + 20*\\alpha_1**3*\\alpha_3**3*k_1**6 + 48*\\alpha_1**3*\\alpha_3*\\rho_1**2*k_1**4*v_R**2 + 15*\\alpha_1**2*\\alpha_3**4*k_1**6 + 72*\\alpha_1**2*\\alpha_3**2*\\rho_1**2*k_1**4*v_R**2 + 48*\\alpha_1**2*\\rho_1**4*k_1**2*v_R**4 + 6*\\alpha_1*\\alpha_3**5*k_1**6 + 48*\\alpha_1*\\alpha_3**3*\\rho_1**2*k_1**4*v_R**2 + 96*\\alpha_1*\\alpha_3*\\rho_1**4*k_1**2*v_R**4 + \\alpha_3**6*k_1**6 + 12*\\alpha_3**4*\\rho_1**2*k_1**4*v_R**2 + 48*\\alpha_3**2*\\rho_1**4*k_1**2*v_R**4 + 64*\\rho_1**6*v_R**6) + 16*\\alpha_3**4*\\rho_1**3*k_1**4*v_R**3/(\\alpha_1**6*k_1**6 + 6*\\alpha_1**5*\\alpha_3*k_1**6 + 15*\\alpha_1**4*\\alpha_3**2*k_1**6 + 12*\\alpha_1**4*\\rho_1**2*k_1**4*v_R**2 + 20*\\alpha_1**3*\\alpha_3**3*k_1**6 + 48*\\alpha_1**3*\\alpha_3*\\rho_1**2*k_1**4*v_R**2 + 15*\\alpha_1**2*\\alpha_3**4*k_1**6 + 72*\\alpha_1**2*\\alpha_3**2*\\rho_1**2*k_1**4*v_R**2 + 48*\\alpha_1**2*\\rho_1**4*k_1**2*v_R**4 + 6*\\alpha_1*\\alpha_3**5*k_1**6 + 48*\\alpha_1*\\alpha_3**3*\\rho_1**2*k_1**4*v_R**2 + 96*\\alpha_1*\\alpha_3*\\rho_1**4*k_1**2*v_R**4 + \\alpha_3**6*k_1**6 + 12*\\alpha_3**4*\\rho_1**2*k_1**4*v_R**2 + 48*\\alpha_3**2*\\rho_1**4*k_1**2*v_R**4 + 64*\\rho_1**6*v_R**6) - 64*\\alpha_3**3*\\rho_1**4*k_1**2*v_R**5/(\\alpha_1**6*k_1**6 + 6*\\alpha_1**5*\\alpha_3*k_1**6 + 15*\\alpha_1**4*\\alpha_3**2*k_1**6 + 12*\\alpha_1**4*\\rho_1**2*k_1**4*v_R**2 + 20*\\alpha_1**3*\\alpha_3**3*k_1**6 + 48*\\alpha_1**3*\\alpha_3*\\rho_1**2*k_1**4*v_R**2 + 15*\\alpha_1**2*\\alpha_3**4*k_1**6 + 72*\\alpha_1**2*\\alpha_3**2*\\rho_1**2*k_1**4*v_R**2 + 48*\\alpha_1**2*\\rho_1**4*k_1**2*v_R**4 + 6*\\alpha_1*\\alpha_3**5*k_1**6 + 48*\\alpha_1*\\alpha_3**3*\\rho_1**2*k_1**4*v_R**2 + 96*\\alpha_1*\\alpha_3*\\rho_1**4*k_1**2*v_R**4 + \\alpha_3**6*k_1**6 + 12*\\alpha_3**4*\\rho_1**2*k_1**4*v_R**2 + 48*\\alpha_3**2*\\rho_1**4*k_1**2*v_R**4 + 64*\\rho_1**6*v_R**6) + 64*\\alpha_3**2*\\rho_1**5*k_1**2*v_R**5/(\\alpha_1**6*k_1**6 + 6*\\alpha_1**5*\\alpha_3*k_1**6 + 15*\\alpha_1**4*\\alpha_3**2*k_1**6 + 12*\\alpha_1**4*\\rho_1**2*k_1**4*v_R**2 + 20*\\alpha_1**3*\\alpha_3**3*k_1**6 + 48*\\alpha_1**3*\\alpha_3*\\rho_1**2*k_1**4*v_R**2 + 15*\\alpha_1**2*\\alpha_3**4*k_1**6 + 72*\\alpha_1**2*\\alpha_3**2*\\rho_1**2*k_1**4*v_R**2 + 48*\\alpha_1**2*\\rho_1**4*k_1**2*v_R**4 + 6*\\alpha_1*\\alpha_3**5*k_1**6 + 48*\\alpha_1*\\alpha_3**3*\\rho_1**2*k_1**4*v_R**2 + 96*\\alpha_1*\\alpha_3*\\rho_1**4*k_1**2*v_R**4 + \\alpha_3**6*k_1**6 + 12*\\alpha_3**4*\\rho_1**2*k_1**4*v_R**2 + 48*\\alpha_3**2*\\rho_1**4*k_1**2*v_R**4 + 64*\\rho_1**6*v_R**6) + 384*\\alpha_3*\\lambda_1*\\rho_1**5*k_1**2*v_R**5/(\\alpha_1**6*k_1**6 + 6*\\alpha_1**5*\\alpha_3*k_1**6 + 15*\\alpha_1**4*\\alpha_3**2*k_1**6 + 12*\\alpha_1**4*\\rho_1**2*k_1**4*v_R**2 + 20*\\alpha_1**3*\\alpha_3**3*k_1**6 + 48*\\alpha_1**3*\\alpha_3*\\rho_1**2*k_1**4*v_R**2 + 15*\\alpha_1**2*\\alpha_3**4*k_1**6 + 72*\\alpha_1**2*\\alpha_3**2*\\rho_1**2*k_1**4*v_R**2 + 48*\\alpha_1**2*\\rho_1**4*k_1**2*v_R**4 + 6*\\alpha_1*\\alpha_3**5*k_1**6 + 48*\\alpha_1*\\alpha_3**3*\\rho_1**2*k_1**4*v_R**2 + 96*\\alpha_1*\\alpha_3*\\rho_1**4*k_1**2*v_R**4 + \\alpha_3**6*k_1**6 + 12*\\alpha_3**4*\\rho_1**2*k_1**4*v_R**2 + 48*\\alpha_3**2*\\rho_1**4*k_1**2*v_R**4 + 64*\\rho_1**6*v_R**6) + 384*\\alpha_3*\\lambda_2*\\rho_1**5*k_1**2*v_R**5/(\\alpha_1**6*k_1**6 + 6*\\alpha_1**5*\\alpha_3*k_1**6 + 15*\\alpha_1**4*\\alpha_3**2*k_1**6 + 12*\\alpha_1**4*\\rho_1**2*k_1**4*v_R**2 + 20*\\alpha_1**3*\\alpha_3**3*k_1**6 + 48*\\alpha_1**3*\\alpha_3*\\rho_1**2*k_1**4*v_R**2 + 15*\\alpha_1**2*\\alpha_3**4*k_1**6 + 72*\\alpha_1**2*\\alpha_3**2*\\rho_1**2*k_1**4*v_R**2 + 48*\\alpha_1**2*\\rho_1**4*k_1**2*v_R**4 + 6*\\alpha_1*\\alpha_3**5*k_1**6 + 48*\\alpha_1*\\alpha_3**3*\\rho_1**2*k_1**4*v_R**2 + 96*\\alpha_1*\\alpha_3*\\rho_1**4*k_1**2*v_R**4 + \\alpha_3**6*k_1**6 + 12*\\alpha_3**4*\\rho_1**2*k_1**4*v_R**2 + 48*\\alpha_3**2*\\rho_1**4*k_1**2*v_R**4 + 64*\\rho_1**6*v_R**6) + 128*\\alpha_3*\\rho_1**6*v_R**7/(\\alpha_1**6*k_1**6 + 6*\\alpha_1**5*\\alpha_3*k_1**6 + 15*\\alpha_1**4*\\alpha_3**2*k_1**6 + 12*\\alpha_1**4*\\rho_1**2*k_1**4*v_R**2 + 20*\\alpha_1**3*\\alpha_3**3*k_1**6 + 48*\\alpha_1**3*\\alpha_3*\\rho_1**2*k_1**4*v_R**2 + 15*\\alpha_1**2*\\alpha_3**4*k_1**6 + 72*\\alpha_1**2*\\alpha_3**2*\\rho_1**2*k_1**4*v_R**2 + 48*\\alpha_1**2*\\rho_1**4*k_1**2*v_R**4 + 6*\\alpha_1*\\alpha_3**5*k_1**6 + 48*\\alpha_1*\\alpha_3**3*\\rho_1**2*k_1**4*v_R**2 + 96*\\alpha_1*\\alpha_3*\\rho_1**4*k_1**2*v_R**4 + \\alpha_3**6*k_1**6 + 12*\\alpha_3**4*\\rho_1**2*k_1**4*v_R**2 + 48*\\alpha_3**2*\\rho_1**4*k_1**2*v_R**4 + 64*\\rho_1**6*v_R**6)\n",
      "Aproximation : \n"
     ]
    },
    {
     "data": {
      "image/png": "[encoded data removed]",
      "text/latex": [
       "$\\displaystyle 2 v_{R} \\left(\\alpha_{1} + \\alpha_{3}\\right)$"
      ],
      "text/plain": [
       "2⋅v_R⋅(\\alpha₁ + \\alpha₃)"
      ]
     },
     "metadata": {},
     "output_type": "display_data"
    },
    {
     "name": "stdout",
     "output_type": "stream",
     "text": [
      "Interaction: \n",
      "({{H_1^0}}, {{H_2^0}}, {{H_2^0}})\n",
      "coeff: \n",
      "-16*\\alpha_1**4*\\rho_1**3*k_1**3*v_R**4/(\\alpha_1**6*k_1**6 + 6*\\alpha_1**5*\\alpha_3*k_1**6 + 15*\\alpha_1**4*\\alpha_3**2*k_1**6 + 12*\\alpha_1**4*\\rho_1**2*k_1**4*v_R**2 + 20*\\alpha_1**3*\\alpha_3**3*k_1**6 + 48*\\alpha_1**3*\\alpha_3*\\rho_1**2*k_1**4*v_R**2 + 15*\\alpha_1**2*\\alpha_3**4*k_1**6 + 72*\\alpha_1**2*\\alpha_3**2*\\rho_1**2*k_1**4*v_R**2 + 48*\\alpha_1**2*\\rho_1**4*k_1**2*v_R**4 + 6*\\alpha_1*\\alpha_3**5*k_1**6 + 48*\\alpha_1*\\alpha_3**3*\\rho_1**2*k_1**4*v_R**2 + 96*\\alpha_1*\\alpha_3*\\rho_1**4*k_1**2*v_R**4 + \\alpha_3**6*k_1**6 + 12*\\alpha_3**4*\\rho_1**2*k_1**4*v_R**2 + 48*\\alpha_3**2*\\rho_1**4*k_1**2*v_R**4 + 64*\\rho_1**6*v_R**6) - 64*\\alpha_1**3*\\alpha_3*\\rho_1**3*k_1**3*v_R**4/(\\alpha_1**6*k_1**6 + 6*\\alpha_1**5*\\alpha_3*k_1**6 + 15*\\alpha_1**4*\\alpha_3**2*k_1**6 + 12*\\alpha_1**4*\\rho_1**2*k_1**4*v_R**2 + 20*\\alpha_1**3*\\alpha_3**3*k_1**6 + 48*\\alpha_1**3*\\alpha_3*\\rho_1**2*k_1**4*v_R**2 + 15*\\alpha_1**2*\\alpha_3**4*k_1**6 + 72*\\alpha_1**2*\\alpha_3**2*\\rho_1**2*k_1**4*v_R**2 + 48*\\alpha_1**2*\\rho_1**4*k_1**2*v_R**4 + 6*\\alpha_1*\\alpha_3**5*k_1**6 + 48*\\alpha_1*\\alpha_3**3*\\rho_1**2*k_1**4*v_R**2 + 96*\\alpha_1*\\alpha_3*\\rho_1**4*k_1**2*v_R**4 + \\alpha_3**6*k_1**6 + 12*\\alpha_3**4*\\rho_1**2*k_1**4*v_R**2 + 48*\\alpha_3**2*\\rho_1**4*k_1**2*v_R**4 + 64*\\rho_1**6*v_R**6) - 64*\\alpha_1**3*\\rho_1**4*k_1**3*v_R**4/(\\alpha_1**6*k_1**6 + 6*\\alpha_1**5*\\alpha_3*k_1**6 + 15*\\alpha_1**4*\\alpha_3**2*k_1**6 + 12*\\alpha_1**4*\\rho_1**2*k_1**4*v_R**2 + 20*\\alpha_1**3*\\alpha_3**3*k_1**6 + 48*\\alpha_1**3*\\alpha_3*\\rho_1**2*k_1**4*v_R**2 + 15*\\alpha_1**2*\\alpha_3**4*k_1**6 + 72*\\alpha_1**2*\\alpha_3**2*\\rho_1**2*k_1**4*v_R**2 + 48*\\alpha_1**2*\\rho_1**4*k_1**2*v_R**4 + 6*\\alpha_1*\\alpha_3**5*k_1**6 + 48*\\alpha_1*\\alpha_3**3*\\rho_1**2*k_1**4*v_R**2 + 96*\\alpha_1*\\alpha_3*\\rho_1**4*k_1**2*v_R**4 + \\alpha_3**6*k_1**6 + 12*\\alpha_3**4*\\rho_1**2*k_1**4*v_R**2 + 48*\\alpha_3**2*\\rho_1**4*k_1**2*v_R**4 + 64*\\rho_1**6*v_R**6) - 96*\\alpha_1**2*\\alpha_3**2*\\rho_1**3*k_1**3*v_R**4/(\\alpha_1**6*k_1**6 + 6*\\alpha_1**5*\\alpha_3*k_1**6 + 15*\\alpha_1**4*\\alpha_3**2*k_1**6 + 12*\\alpha_1**4*\\rho_1**2*k_1**4*v_R**2 + 20*\\alpha_1**3*\\alpha_3**3*k_1**6 + 48*\\alpha_1**3*\\alpha_3*\\rho_1**2*k_1**4*v_R**2 + 15*\\alpha_1**2*\\alpha_3**4*k_1**6 + 72*\\alpha_1**2*\\alpha_3**2*\\rho_1**2*k_1**4*v_R**2 + 48*\\alpha_1**2*\\rho_1**4*k_1**2*v_R**4 + 6*\\alpha_1*\\alpha_3**5*k_1**6 + 48*\\alpha_1*\\alpha_3**3*\\rho_1**2*k_1**4*v_R**2 + 96*\\alpha_1*\\alpha_3*\\rho_1**4*k_1**2*v_R**4 + \\alpha_3**6*k_1**6 + 12*\\alpha_3**4*\\rho_1**2*k_1**4*v_R**2 + 48*\\alpha_3**2*\\rho_1**4*k_1**2*v_R**4 + 64*\\rho_1**6*v_R**6) - 192*\\alpha_1**2*\\alpha_3*\\rho_1**4*k_1**3*v_R**4/(\\alpha_1**6*k_1**6 + 6*\\alpha_1**5*\\alpha_3*k_1**6 + 15*\\alpha_1**4*\\alpha_3**2*k_1**6 + 12*\\alpha_1**4*\\rho_1**2*k_1**4*v_R**2 + 20*\\alpha_1**3*\\alpha_3**3*k_1**6 + 48*\\alpha_1**3*\\alpha_3*\\rho_1**2*k_1**4*v_R**2 + 15*\\alpha_1**2*\\alpha_3**4*k_1**6 + 72*\\alpha_1**2*\\alpha_3**2*\\rho_1**2*k_1**4*v_R**2 + 48*\\alpha_1**2*\\rho_1**4*k_1**2*v_R**4 + 6*\\alpha_1*\\alpha_3**5*k_1**6 + 48*\\alpha_1*\\alpha_3**3*\\rho_1**2*k_1**4*v_R**2 + 96*\\alpha_1*\\alpha_3*\\rho_1**4*k_1**2*v_R**4 + \\alpha_3**6*k_1**6 + 12*\\alpha_3**4*\\rho_1**2*k_1**4*v_R**2 + 48*\\alpha_3**2*\\rho_1**4*k_1**2*v_R**4 + 64*\\rho_1**6*v_R**6) + 192*\\alpha_1**2*\\lambda_1*\\rho_1**4*k_1**3*v_R**4/(\\alpha_1**6*k_1**6 + 6*\\alpha_1**5*\\alpha_3*k_1**6 + 15*\\alpha_1**4*\\alpha_3**2*k_1**6 + 12*\\alpha_1**4*\\rho_1**2*k_1**4*v_R**2 + 20*\\alpha_1**3*\\alpha_3**3*k_1**6 + 48*\\alpha_1**3*\\alpha_3*\\rho_1**2*k_1**4*v_R**2 + 15*\\alpha_1**2*\\alpha_3**4*k_1**6 + 72*\\alpha_1**2*\\alpha_3**2*\\rho_1**2*k_1**4*v_R**2 + 48*\\alpha_1**2*\\rho_1**4*k_1**2*v_R**4 + 6*\\alpha_1*\\alpha_3**5*k_1**6 + 48*\\alpha_1*\\alpha_3**3*\\rho_1**2*k_1**4*v_R**2 + 96*\\alpha_1*\\alpha_3*\\rho_1**4*k_1**2*v_R**4 + \\alpha_3**6*k_1**6 + 12*\\alpha_3**4*\\rho_1**2*k_1**4*v_R**2 + 48*\\alpha_3**2*\\rho_1**4*k_1**2*v_R**4 + 64*\\rho_1**6*v_R**6) + 192*\\alpha_1**2*\\lambda_2*\\rho_1**4*k_1**3*v_R**4/(\\alpha_1**6*k_1**6 + 6*\\alpha_1**5*\\alpha_3*k_1**6 + 15*\\alpha_1**4*\\alpha_3**2*k_1**6 + 12*\\alpha_1**4*\\rho_1**2*k_1**4*v_R**2 + 20*\\alpha_1**3*\\alpha_3**3*k_1**6 + 48*\\alpha_1**3*\\alpha_3*\\rho_1**2*k_1**4*v_R**2 + 15*\\alpha_1**2*\\alpha_3**4*k_1**6 + 72*\\alpha_1**2*\\alpha_3**2*\\rho_1**2*k_1**4*v_R**2 + 48*\\alpha_1**2*\\rho_1**4*k_1**2*v_R**4 + 6*\\alpha_1*\\alpha_3**5*k_1**6 + 48*\\alpha_1*\\alpha_3**3*\\rho_1**2*k_1**4*v_R**2 + 96*\\alpha_1*\\alpha_3*\\rho_1**4*k_1**2*v_R**4 + \\alpha_3**6*k_1**6 + 12*\\alpha_3**4*\\rho_1**2*k_1**4*v_R**2 + 48*\\alpha_3**2*\\rho_1**4*k_1**2*v_R**4 + 64*\\rho_1**6*v_R**6) + 128*\\alpha_1**2*\\rho_1**5*k_1*v_R**6/(\\alpha_1**6*k_1**6 + 6*\\alpha_1**5*\\alpha_3*k_1**6 + 15*\\alpha_1**4*\\alpha_3**2*k_1**6 + 12*\\alpha_1**4*\\rho_1**2*k_1**4*v_R**2 + 20*\\alpha_1**3*\\alpha_3**3*k_1**6 + 48*\\alpha_1**3*\\alpha_3*\\rho_1**2*k_1**4*v_R**2 + 15*\\alpha_1**2*\\alpha_3**4*k_1**6 + 72*\\alpha_1**2*\\alpha_3**2*\\rho_1**2*k_1**4*v_R**2 + 48*\\alpha_1**2*\\rho_1**4*k_1**2*v_R**4 + 6*\\alpha_1*\\alpha_3**5*k_1**6 + 48*\\alpha_1*\\alpha_3**3*\\rho_1**2*k_1**4*v_R**2 + 96*\\alpha_1*\\alpha_3*\\rho_1**4*k_1**2*v_R**4 + \\alpha_3**6*k_1**6 + 12*\\alpha_3**4*\\rho_1**2*k_1**4*v_R**2 + 48*\\alpha_3**2*\\rho_1**4*k_1**2*v_R**4 + 64*\\rho_1**6*v_R**6) - 64*\\alpha_1*\\alpha_3**3*\\rho_1**3*k_1**3*v_R**4/(\\alpha_1**6*k_1**6 + 6*\\alpha_1**5*\\alpha_3*k_1**6 + 15*\\alpha_1**4*\\alpha_3**2*k_1**6 + 12*\\alpha_1**4*\\rho_1**2*k_1**4*v_R**2 + 20*\\alpha_1**3*\\alpha_3**3*k_1**6 + 48*\\alpha_1**3*\\alpha_3*\\rho_1**2*k_1**4*v_R**2 + 15*\\alpha_1**2*\\alpha_3**4*k_1**6 + 72*\\alpha_1**2*\\alpha_3**2*\\rho_1**2*k_1**4*v_R**2 + 48*\\alpha_1**2*\\rho_1**4*k_1**2*v_R**4 + 6*\\alpha_1*\\alpha_3**5*k_1**6 + 48*\\alpha_1*\\alpha_3**3*\\rho_1**2*k_1**4*v_R**2 + 96*\\alpha_1*\\alpha_3*\\rho_1**4*k_1**2*v_R**4 + \\alpha_3**6*k_1**6 + 12*\\alpha_3**4*\\rho_1**2*k_1**4*v_R**2 + 48*\\alpha_3**2*\\rho_1**4*k_1**2*v_R**4 + 64*\\rho_1**6*v_R**6) - 192*\\alpha_1*\\alpha_3**2*\\rho_1**4*k_1**3*v_R**4/(\\alpha_1**6*k_1**6 + 6*\\alpha_1**5*\\alpha_3*k_1**6 + 15*\\alpha_1**4*\\alpha_3**2*k_1**6 + 12*\\alpha_1**4*\\rho_1**2*k_1**4*v_R**2 + 20*\\alpha_1**3*\\alpha_3**3*k_1**6 + 48*\\alpha_1**3*\\alpha_3*\\rho_1**2*k_1**4*v_R**2 + 15*\\alpha_1**2*\\alpha_3**4*k_1**6 + 72*\\alpha_1**2*\\alpha_3**2*\\rho_1**2*k_1**4*v_R**2 + 48*\\alpha_1**2*\\rho_1**4*k_1**2*v_R**4 + 6*\\alpha_1*\\alpha_3**5*k_1**6 + 48*\\alpha_1*\\alpha_3**3*\\rho_1**2*k_1**4*v_R**2 + 96*\\alpha_1*\\alpha_3*\\rho_1**4*k_1**2*v_R**4 + \\alpha_3**6*k_1**6 + 12*\\alpha_3**4*\\rho_1**2*k_1**4*v_R**2 + 48*\\alpha_3**2*\\rho_1**4*k_1**2*v_R**4 + 64*\\rho_1**6*v_R**6) + 384*\\alpha_1*\\alpha_3*\\lambda_1*\\rho_1**4*k_1**3*v_R**4/(\\alpha_1**6*k_1**6 + 6*\\alpha_1**5*\\alpha_3*k_1**6 + 15*\\alpha_1**4*\\alpha_3**2*k_1**6 + 12*\\alpha_1**4*\\rho_1**2*k_1**4*v_R**2 + 20*\\alpha_1**3*\\alpha_3**3*k_1**6 + 48*\\alpha_1**3*\\alpha_3*\\rho_1**2*k_1**4*v_R**2 + 15*\\alpha_1**2*\\alpha_3**4*k_1**6 + 72*\\alpha_1**2*\\alpha_3**2*\\rho_1**2*k_1**4*v_R**2 + 48*\\alpha_1**2*\\rho_1**4*k_1**2*v_R**4 + 6*\\alpha_1*\\alpha_3**5*k_1**6 + 48*\\alpha_1*\\alpha_3**3*\\rho_1**2*k_1**4*v_R**2 + 96*\\alpha_1*\\alpha_3*\\rho_1**4*k_1**2*v_R**4 + \\alpha_3**6*k_1**6 + 12*\\alpha_3**4*\\rho_1**2*k_1**4*v_R**2 + 48*\\alpha_3**2*\\rho_1**4*k_1**2*v_R**4 + 64*\\rho_1**6*v_R**6) + 384*\\alpha_1*\\alpha_3*\\lambda_2*\\rho_1**4*k_1**3*v_R**4/(\\alpha_1**6*k_1**6 + 6*\\alpha_1**5*\\alpha_3*k_1**6 + 15*\\alpha_1**4*\\alpha_3**2*k_1**6 + 12*\\alpha_1**4*\\rho_1**2*k_1**4*v_R**2 + 20*\\alpha_1**3*\\alpha_3**3*k_1**6 + 48*\\alpha_1**3*\\alpha_3*\\rho_1**2*k_1**4*v_R**2 + 15*\\alpha_1**2*\\alpha_3**4*k_1**6 + 72*\\alpha_1**2*\\alpha_3**2*\\rho_1**2*k_1**4*v_R**2 + 48*\\alpha_1**2*\\rho_1**4*k_1**2*v_R**4 + 6*\\alpha_1*\\alpha_3**5*k_1**6 + 48*\\alpha_1*\\alpha_3**3*\\rho_1**2*k_1**4*v_R**2 + 96*\\alpha_1*\\alpha_3*\\rho_1**4*k_1**2*v_R**4 + \\alpha_3**6*k_1**6 + 12*\\alpha_3**4*\\rho_1**2*k_1**4*v_R**2 + 48*\\alpha_3**2*\\rho_1**4*k_1**2*v_R**4 + 64*\\rho_1**6*v_R**6) + 256*\\alpha_1*\\alpha_3*\\rho_1**5*k_1*v_R**6/(\\alpha_1**6*k_1**6 + 6*\\alpha_1**5*\\alpha_3*k_1**6 + 15*\\alpha_1**4*\\alpha_3**2*k_1**6 + 12*\\alpha_1**4*\\rho_1**2*k_1**4*v_R**2 + 20*\\alpha_1**3*\\alpha_3**3*k_1**6 + 48*\\alpha_1**3*\\alpha_3*\\rho_1**2*k_1**4*v_R**2 + 15*\\alpha_1**2*\\alpha_3**4*k_1**6 + 72*\\alpha_1**2*\\alpha_3**2*\\rho_1**2*k_1**4*v_R**2 + 48*\\alpha_1**2*\\rho_1**4*k_1**2*v_R**4 + 6*\\alpha_1*\\alpha_3**5*k_1**6 + 48*\\alpha_1*\\alpha_3**3*\\rho_1**2*k_1**4*v_R**2 + 96*\\alpha_1*\\alpha_3*\\rho_1**4*k_1**2*v_R**4 + \\alpha_3**6*k_1**6 + 12*\\alpha_3**4*\\rho_1**2*k_1**4*v_R**2 + 48*\\alpha_3**2*\\rho_1**4*k_1**2*v_R**4 + 64*\\rho_1**6*v_R**6) - 256*\\alpha_1*\\rho_1**6*k_1*v_R**6/(\\alpha_1**6*k_1**6 + 6*\\alpha_1**5*\\alpha_3*k_1**6 + 15*\\alpha_1**4*\\alpha_3**2*k_1**6 + 12*\\alpha_1**4*\\rho_1**2*k_1**4*v_R**2 + 20*\\alpha_1**3*\\alpha_3**3*k_1**6 + 48*\\alpha_1**3*\\alpha_3*\\rho_1**2*k_1**4*v_R**2 + 15*\\alpha_1**2*\\alpha_3**4*k_1**6 + 72*\\alpha_1**2*\\alpha_3**2*\\rho_1**2*k_1**4*v_R**2 + 48*\\alpha_1**2*\\rho_1**4*k_1**2*v_R**4 + 6*\\alpha_1*\\alpha_3**5*k_1**6 + 48*\\alpha_1*\\alpha_3**3*\\rho_1**2*k_1**4*v_R**2 + 96*\\alpha_1*\\alpha_3*\\rho_1**4*k_1**2*v_R**4 + \\alpha_3**6*k_1**6 + 12*\\alpha_3**4*\\rho_1**2*k_1**4*v_R**2 + 48*\\alpha_3**2*\\rho_1**4*k_1**2*v_R**4 + 64*\\rho_1**6*v_R**6) - 16*\\alpha_3**4*\\rho_1**3*k_1**3*v_R**4/(\\alpha_1**6*k_1**6 + 6*\\alpha_1**5*\\alpha_3*k_1**6 + 15*\\alpha_1**4*\\alpha_3**2*k_1**6 + 12*\\alpha_1**4*\\rho_1**2*k_1**4*v_R**2 + 20*\\alpha_1**3*\\alpha_3**3*k_1**6 + 48*\\alpha_1**3*\\alpha_3*\\rho_1**2*k_1**4*v_R**2 + 15*\\alpha_1**2*\\alpha_3**4*k_1**6 + 72*\\alpha_1**2*\\alpha_3**2*\\rho_1**2*k_1**4*v_R**2 + 48*\\alpha_1**2*\\rho_1**4*k_1**2*v_R**4 + 6*\\alpha_1*\\alpha_3**5*k_1**6 + 48*\\alpha_1*\\alpha_3**3*\\rho_1**2*k_1**4*v_R**2 + 96*\\alpha_1*\\alpha_3*\\rho_1**4*k_1**2*v_R**4 + \\alpha_3**6*k_1**6 + 12*\\alpha_3**4*\\rho_1**2*k_1**4*v_R**2 + 48*\\alpha_3**2*\\rho_1**4*k_1**2*v_R**4 + 64*\\rho_1**6*v_R**6) - 64*\\alpha_3**3*\\rho_1**4*k_1**3*v_R**4/(\\alpha_1**6*k_1**6 + 6*\\alpha_1**5*\\alpha_3*k_1**6 + 15*\\alpha_1**4*\\alpha_3**2*k_1**6 + 12*\\alpha_1**4*\\rho_1**2*k_1**4*v_R**2 + 20*\\alpha_1**3*\\alpha_3**3*k_1**6 + 48*\\alpha_1**3*\\alpha_3*\\rho_1**2*k_1**4*v_R**2 + 15*\\alpha_1**2*\\alpha_3**4*k_1**6 + 72*\\alpha_1**2*\\alpha_3**2*\\rho_1**2*k_1**4*v_R**2 + 48*\\alpha_1**2*\\rho_1**4*k_1**2*v_R**4 + 6*\\alpha_1*\\alpha_3**5*k_1**6 + 48*\\alpha_1*\\alpha_3**3*\\rho_1**2*k_1**4*v_R**2 + 96*\\alpha_1*\\alpha_3*\\rho_1**4*k_1**2*v_R**4 + \\alpha_3**6*k_1**6 + 12*\\alpha_3**4*\\rho_1**2*k_1**4*v_R**2 + 48*\\alpha_3**2*\\rho_1**4*k_1**2*v_R**4 + 64*\\rho_1**6*v_R**6) + 192*\\alpha_3**2*\\lambda_1*\\rho_1**4*k_1**3*v_R**4/(\\alpha_1**6*k_1**6 + 6*\\alpha_1**5*\\alpha_3*k_1**6 + 15*\\alpha_1**4*\\alpha_3**2*k_1**6 + 12*\\alpha_1**4*\\rho_1**2*k_1**4*v_R**2 + 20*\\alpha_1**3*\\alpha_3**3*k_1**6 + 48*\\alpha_1**3*\\alpha_3*\\rho_1**2*k_1**4*v_R**2 + 15*\\alpha_1**2*\\alpha_3**4*k_1**6 + 72*\\alpha_1**2*\\alpha_3**2*\\rho_1**2*k_1**4*v_R**2 + 48*\\alpha_1**2*\\rho_1**4*k_1**2*v_R**4 + 6*\\alpha_1*\\alpha_3**5*k_1**6 + 48*\\alpha_1*\\alpha_3**3*\\rho_1**2*k_1**4*v_R**2 + 96*\\alpha_1*\\alpha_3*\\rho_1**4*k_1**2*v_R**4 + \\alpha_3**6*k_1**6 + 12*\\alpha_3**4*\\rho_1**2*k_1**4*v_R**2 + 48*\\alpha_3**2*\\rho_1**4*k_1**2*v_R**4 + 64*\\rho_1**6*v_R**6) + 192*\\alpha_3**2*\\lambda_2*\\rho_1**4*k_1**3*v_R**4/(\\alpha_1**6*k_1**6 + 6*\\alpha_1**5*\\alpha_3*k_1**6 + 15*\\alpha_1**4*\\alpha_3**2*k_1**6 + 12*\\alpha_1**4*\\rho_1**2*k_1**4*v_R**2 + 20*\\alpha_1**3*\\alpha_3**3*k_1**6 + 48*\\alpha_1**3*\\alpha_3*\\rho_1**2*k_1**4*v_R**2 + 15*\\alpha_1**2*\\alpha_3**4*k_1**6 + 72*\\alpha_1**2*\\alpha_3**2*\\rho_1**2*k_1**4*v_R**2 + 48*\\alpha_1**2*\\rho_1**4*k_1**2*v_R**4 + 6*\\alpha_1*\\alpha_3**5*k_1**6 + 48*\\alpha_1*\\alpha_3**3*\\rho_1**2*k_1**4*v_R**2 + 96*\\alpha_1*\\alpha_3*\\rho_1**4*k_1**2*v_R**4 + \\alpha_3**6*k_1**6 + 12*\\alpha_3**4*\\rho_1**2*k_1**4*v_R**2 + 48*\\alpha_3**2*\\rho_1**4*k_1**2*v_R**4 + 64*\\rho_1**6*v_R**6) + 128*\\alpha_3**2*\\rho_1**5*k_1*v_R**6/(\\alpha_1**6*k_1**6 + 6*\\alpha_1**5*\\alpha_3*k_1**6 + 15*\\alpha_1**4*\\alpha_3**2*k_1**6 + 12*\\alpha_1**4*\\rho_1**2*k_1**4*v_R**2 + 20*\\alpha_1**3*\\alpha_3**3*k_1**6 + 48*\\alpha_1**3*\\alpha_3*\\rho_1**2*k_1**4*v_R**2 + 15*\\alpha_1**2*\\alpha_3**4*k_1**6 + 72*\\alpha_1**2*\\alpha_3**2*\\rho_1**2*k_1**4*v_R**2 + 48*\\alpha_1**2*\\rho_1**4*k_1**2*v_R**4 + 6*\\alpha_1*\\alpha_3**5*k_1**6 + 48*\\alpha_1*\\alpha_3**3*\\rho_1**2*k_1**4*v_R**2 + 96*\\alpha_1*\\alpha_3*\\rho_1**4*k_1**2*v_R**4 + \\alpha_3**6*k_1**6 + 12*\\alpha_3**4*\\rho_1**2*k_1**4*v_R**2 + 48*\\alpha_3**2*\\rho_1**4*k_1**2*v_R**4 + 64*\\rho_1**6*v_R**6) - 256*\\alpha_3*\\rho_1**6*k_1*v_R**6/(\\alpha_1**6*k_1**6 + 6*\\alpha_1**5*\\alpha_3*k_1**6 + 15*\\alpha_1**4*\\alpha_3**2*k_1**6 + 12*\\alpha_1**4*\\rho_1**2*k_1**4*v_R**2 + 20*\\alpha_1**3*\\alpha_3**3*k_1**6 + 48*\\alpha_1**3*\\alpha_3*\\rho_1**2*k_1**4*v_R**2 + 15*\\alpha_1**2*\\alpha_3**4*k_1**6 + 72*\\alpha_1**2*\\alpha_3**2*\\rho_1**2*k_1**4*v_R**2 + 48*\\alpha_1**2*\\rho_1**4*k_1**2*v_R**4 + 6*\\alpha_1*\\alpha_3**5*k_1**6 + 48*\\alpha_1*\\alpha_3**3*\\rho_1**2*k_1**4*v_R**2 + 96*\\alpha_1*\\alpha_3*\\rho_1**4*k_1**2*v_R**4 + \\alpha_3**6*k_1**6 + 12*\\alpha_3**4*\\rho_1**2*k_1**4*v_R**2 + 48*\\alpha_3**2*\\rho_1**4*k_1**2*v_R**4 + 64*\\rho_1**6*v_R**6)\n",
      "Aproximation : \n"
     ]
    },
    {
     "data": {
      "image/png": "[encoded data removed]",
      "text/latex": [
       "$\\displaystyle \\frac{2 k_{1} \\left(\\alpha_{1} + \\alpha_{3}\\right) \\left(\\alpha_{1} + \\alpha_{3} - 2 \\rho_{1}\\right)}{\\rho_{1}}$"
      ],
      "text/plain": [
       "2⋅k₁⋅(\\alpha₁ + \\alpha₃)⋅(\\alpha₁ + \\alpha₃ - 2⋅\\rho₁)\n",
       "──────────────────────────────────────────────────────\n",
       "                        \\rho₁                         "
      ]
     },
     "metadata": {},
     "output_type": "display_data"
    },
    {
     "name": "stdout",
     "output_type": "stream",
     "text": [
      "Interaction: \n",
      "({{H_1^0}}, {{H_1^0}}, {{H_3^0}})\n",
      "coeff: \n",
      "8*\\alpha_1**3*\\rho_1**2*k_1**2*k_2*v_R**2/(\\alpha_1**4*k_1**4 + 4*\\alpha_1**3*\\alpha_3*k_1**4 + 6*\\alpha_1**2*\\alpha_3**2*k_1**4 + 8*\\alpha_1**2*\\rho_1**2*k_1**2*v_R**2 + 4*\\alpha_1*\\alpha_3**3*k_1**4 + 16*\\alpha_1*\\alpha_3*\\rho_1**2*k_1**2*v_R**2 + \\alpha_3**4*k_1**4 + 8*\\alpha_3**2*\\rho_1**2*k_1**2*v_R**2 + 16*\\rho_1**4*v_R**4) + 8*\\alpha_1**2*\\alpha_2*\\rho_1**2*k_1**2*k_2*v_R**2/(\\alpha_1**4*k_1**4 + 4*\\alpha_1**3*\\alpha_3*k_1**4 + 6*\\alpha_1**2*\\alpha_3**2*k_1**4 + 8*\\alpha_1**2*\\rho_1**2*k_1**2*v_R**2 + 4*\\alpha_1*\\alpha_3**3*k_1**4 + 16*\\alpha_1*\\alpha_3*\\rho_1**2*k_1**2*v_R**2 + \\alpha_3**4*k_1**4 + 8*\\alpha_3**2*\\rho_1**2*k_1**2*v_R**2 + 16*\\rho_1**4*v_R**4) + 16*\\alpha_1**2*\\alpha_3*\\rho_1**2*k_1**2*k_2*v_R**2/(\\alpha_1**4*k_1**4 + 4*\\alpha_1**3*\\alpha_3*k_1**4 + 6*\\alpha_1**2*\\alpha_3**2*k_1**4 + 8*\\alpha_1**2*\\rho_1**2*k_1**2*v_R**2 + 4*\\alpha_1*\\alpha_3**3*k_1**4 + 16*\\alpha_1*\\alpha_3*\\rho_1**2*k_1**2*v_R**2 + \\alpha_3**4*k_1**4 + 8*\\alpha_3**2*\\rho_1**2*k_1**2*v_R**2 + 16*\\rho_1**4*v_R**4) + 16*\\alpha_1*\\alpha_2*\\alpha_3*\\rho_1**2*k_1**2*k_2*v_R**2/(\\alpha_1**4*k_1**4 + 4*\\alpha_1**3*\\alpha_3*k_1**4 + 6*\\alpha_1**2*\\alpha_3**2*k_1**4 + 8*\\alpha_1**2*\\rho_1**2*k_1**2*v_R**2 + 4*\\alpha_1*\\alpha_3**3*k_1**4 + 16*\\alpha_1*\\alpha_3*\\rho_1**2*k_1**2*v_R**2 + \\alpha_3**4*k_1**4 + 8*\\alpha_3**2*\\rho_1**2*k_1**2*v_R**2 + 16*\\rho_1**4*v_R**4) + 8*\\alpha_1*\\alpha_3**2*\\rho_1**2*k_1**2*k_2*v_R**2/(\\alpha_1**4*k_1**4 + 4*\\alpha_1**3*\\alpha_3*k_1**4 + 6*\\alpha_1**2*\\alpha_3**2*k_1**4 + 8*\\alpha_1**2*\\rho_1**2*k_1**2*v_R**2 + 4*\\alpha_1*\\alpha_3**3*k_1**4 + 16*\\alpha_1*\\alpha_3*\\rho_1**2*k_1**2*v_R**2 + \\alpha_3**4*k_1**4 + 8*\\alpha_3**2*\\rho_1**2*k_1**2*v_R**2 + 16*\\rho_1**4*v_R**4) + 8*\\alpha_2*\\alpha_3**2*\\rho_1**2*k_1**2*k_2*v_R**2/(\\alpha_1**4*k_1**4 + 4*\\alpha_1**3*\\alpha_3*k_1**4 + 6*\\alpha_1**2*\\alpha_3**2*k_1**4 + 8*\\alpha_1**2*\\rho_1**2*k_1**2*v_R**2 + 4*\\alpha_1*\\alpha_3**3*k_1**4 + 16*\\alpha_1*\\alpha_3*\\rho_1**2*k_1**2*v_R**2 + \\alpha_3**4*k_1**4 + 8*\\alpha_3**2*\\rho_1**2*k_1**2*v_R**2 + 16*\\rho_1**4*v_R**4) + 64*\\lambda_1*\\rho_1**4*k_2*v_R**4/(\\alpha_1**4*k_1**4 + 4*\\alpha_1**3*\\alpha_3*k_1**4 + 6*\\alpha_1**2*\\alpha_3**2*k_1**4 + 8*\\alpha_1**2*\\rho_1**2*k_1**2*v_R**2 + 4*\\alpha_1*\\alpha_3**3*k_1**4 + 16*\\alpha_1*\\alpha_3*\\rho_1**2*k_1**2*v_R**2 + \\alpha_3**4*k_1**4 + 8*\\alpha_3**2*\\rho_1**2*k_1**2*v_R**2 + 16*\\rho_1**4*v_R**4) + 256*\\lambda_3*\\rho_1**4*k_2*v_R**4/(\\alpha_1**4*k_1**4 + 4*\\alpha_1**3*\\alpha_3*k_1**4 + 6*\\alpha_1**2*\\alpha_3**2*k_1**4 + 8*\\alpha_1**2*\\rho_1**2*k_1**2*v_R**2 + 4*\\alpha_1*\\alpha_3**3*k_1**4 + 16*\\alpha_1*\\alpha_3*\\rho_1**2*k_1**2*v_R**2 + \\alpha_3**4*k_1**4 + 8*\\alpha_3**2*\\rho_1**2*k_1**2*v_R**2 + 16*\\rho_1**4*v_R**4) + 64*\\lambda_5*\\rho_1**4*k_2*v_R**4/(\\alpha_1**4*k_1**4 + 4*\\alpha_1**3*\\alpha_3*k_1**4 + 6*\\alpha_1**2*\\alpha_3**2*k_1**4 + 8*\\alpha_1**2*\\rho_1**2*k_1**2*v_R**2 + 4*\\alpha_1*\\alpha_3**3*k_1**4 + 16*\\alpha_1*\\alpha_3*\\rho_1**2*k_1**2*v_R**2 + \\alpha_3**4*k_1**4 + 8*\\alpha_3**2*\\rho_1**2*k_1**2*v_R**2 + 16*\\rho_1**4*v_R**4) + 64*\\lambda_6*\\rho_1**4*k_2*v_R**4/(\\alpha_1**4*k_1**4 + 4*\\alpha_1**3*\\alpha_3*k_1**4 + 6*\\alpha_1**2*\\alpha_3**2*k_1**4 + 8*\\alpha_1**2*\\rho_1**2*k_1**2*v_R**2 + 4*\\alpha_1*\\alpha_3**3*k_1**4 + 16*\\alpha_1*\\alpha_3*\\rho_1**2*k_1**2*v_R**2 + \\alpha_3**4*k_1**4 + 8*\\alpha_3**2*\\rho_1**2*k_1**2*v_R**2 + 16*\\rho_1**4*v_R**4)\n",
      "Aproximation : \n",
      "This interaction is not present in the approximation\n",
      "Interaction: \n",
      "({{H_1^0}}, {{H_1^0}}, {{H_1^0}})\n",
      "coeff: \n",
      "-64*\\alpha_1**2*\\rho_1**5*k_1*v_R**6/(\\alpha_1**6*k_1**6 + 6*\\alpha_1**5*\\alpha_3*k_1**6 + 15*\\alpha_1**4*\\alpha_3**2*k_1**6 + 12*\\alpha_1**4*\\rho_1**2*k_1**4*v_R**2 + 20*\\alpha_1**3*\\alpha_3**3*k_1**6 + 48*\\alpha_1**3*\\alpha_3*\\rho_1**2*k_1**4*v_R**2 + 15*\\alpha_1**2*\\alpha_3**4*k_1**6 + 72*\\alpha_1**2*\\alpha_3**2*\\rho_1**2*k_1**4*v_R**2 + 48*\\alpha_1**2*\\rho_1**4*k_1**2*v_R**4 + 6*\\alpha_1*\\alpha_3**5*k_1**6 + 48*\\alpha_1*\\alpha_3**3*\\rho_1**2*k_1**4*v_R**2 + 96*\\alpha_1*\\alpha_3*\\rho_1**4*k_1**2*v_R**4 + \\alpha_3**6*k_1**6 + 12*\\alpha_3**4*\\rho_1**2*k_1**4*v_R**2 + 48*\\alpha_3**2*\\rho_1**4*k_1**2*v_R**4 + 64*\\rho_1**6*v_R**6) - 128*\\alpha_1*\\alpha_3*\\rho_1**5*k_1*v_R**6/(\\alpha_1**6*k_1**6 + 6*\\alpha_1**5*\\alpha_3*k_1**6 + 15*\\alpha_1**4*\\alpha_3**2*k_1**6 + 12*\\alpha_1**4*\\rho_1**2*k_1**4*v_R**2 + 20*\\alpha_1**3*\\alpha_3**3*k_1**6 + 48*\\alpha_1**3*\\alpha_3*\\rho_1**2*k_1**4*v_R**2 + 15*\\alpha_1**2*\\alpha_3**4*k_1**6 + 72*\\alpha_1**2*\\alpha_3**2*\\rho_1**2*k_1**4*v_R**2 + 48*\\alpha_1**2*\\rho_1**4*k_1**2*v_R**4 + 6*\\alpha_1*\\alpha_3**5*k_1**6 + 48*\\alpha_1*\\alpha_3**3*\\rho_1**2*k_1**4*v_R**2 + 96*\\alpha_1*\\alpha_3*\\rho_1**4*k_1**2*v_R**4 + \\alpha_3**6*k_1**6 + 12*\\alpha_3**4*\\rho_1**2*k_1**4*v_R**2 + 48*\\alpha_3**2*\\rho_1**4*k_1**2*v_R**4 + 64*\\rho_1**6*v_R**6) - 64*\\alpha_3**2*\\rho_1**5*k_1*v_R**6/(\\alpha_1**6*k_1**6 + 6*\\alpha_1**5*\\alpha_3*k_1**6 + 15*\\alpha_1**4*\\alpha_3**2*k_1**6 + 12*\\alpha_1**4*\\rho_1**2*k_1**4*v_R**2 + 20*\\alpha_1**3*\\alpha_3**3*k_1**6 + 48*\\alpha_1**3*\\alpha_3*\\rho_1**2*k_1**4*v_R**2 + 15*\\alpha_1**2*\\alpha_3**4*k_1**6 + 72*\\alpha_1**2*\\alpha_3**2*\\rho_1**2*k_1**4*v_R**2 + 48*\\alpha_1**2*\\rho_1**4*k_1**2*v_R**4 + 6*\\alpha_1*\\alpha_3**5*k_1**6 + 48*\\alpha_1*\\alpha_3**3*\\rho_1**2*k_1**4*v_R**2 + 96*\\alpha_1*\\alpha_3*\\rho_1**4*k_1**2*v_R**4 + \\alpha_3**6*k_1**6 + 12*\\alpha_3**4*\\rho_1**2*k_1**4*v_R**2 + 48*\\alpha_3**2*\\rho_1**4*k_1**2*v_R**4 + 64*\\rho_1**6*v_R**6) + 256*\\lambda_1*\\rho_1**6*k_1*v_R**6/(\\alpha_1**6*k_1**6 + 6*\\alpha_1**5*\\alpha_3*k_1**6 + 15*\\alpha_1**4*\\alpha_3**2*k_1**6 + 12*\\alpha_1**4*\\rho_1**2*k_1**4*v_R**2 + 20*\\alpha_1**3*\\alpha_3**3*k_1**6 + 48*\\alpha_1**3*\\alpha_3*\\rho_1**2*k_1**4*v_R**2 + 15*\\alpha_1**2*\\alpha_3**4*k_1**6 + 72*\\alpha_1**2*\\alpha_3**2*\\rho_1**2*k_1**4*v_R**2 + 48*\\alpha_1**2*\\rho_1**4*k_1**2*v_R**4 + 6*\\alpha_1*\\alpha_3**5*k_1**6 + 48*\\alpha_1*\\alpha_3**3*\\rho_1**2*k_1**4*v_R**2 + 96*\\alpha_1*\\alpha_3*\\rho_1**4*k_1**2*v_R**4 + \\alpha_3**6*k_1**6 + 12*\\alpha_3**4*\\rho_1**2*k_1**4*v_R**2 + 48*\\alpha_3**2*\\rho_1**4*k_1**2*v_R**4 + 64*\\rho_1**6*v_R**6) + 256*\\lambda_2*\\rho_1**6*k_1*v_R**6/(\\alpha_1**6*k_1**6 + 6*\\alpha_1**5*\\alpha_3*k_1**6 + 15*\\alpha_1**4*\\alpha_3**2*k_1**6 + 12*\\alpha_1**4*\\rho_1**2*k_1**4*v_R**2 + 20*\\alpha_1**3*\\alpha_3**3*k_1**6 + 48*\\alpha_1**3*\\alpha_3*\\rho_1**2*k_1**4*v_R**2 + 15*\\alpha_1**2*\\alpha_3**4*k_1**6 + 72*\\alpha_1**2*\\alpha_3**2*\\rho_1**2*k_1**4*v_R**2 + 48*\\alpha_1**2*\\rho_1**4*k_1**2*v_R**4 + 6*\\alpha_1*\\alpha_3**5*k_1**6 + 48*\\alpha_1*\\alpha_3**3*\\rho_1**2*k_1**4*v_R**2 + 96*\\alpha_1*\\alpha_3*\\rho_1**4*k_1**2*v_R**4 + \\alpha_3**6*k_1**6 + 12*\\alpha_3**4*\\rho_1**2*k_1**4*v_R**2 + 48*\\alpha_3**2*\\rho_1**4*k_1**2*v_R**4 + 64*\\rho_1**6*v_R**6)\n",
      "Aproximation : \n"
     ]
    },
    {
     "data": {
      "image/png": "[encoded data removed]",
      "text/latex": [
       "$\\displaystyle - \\frac{k_{1} \\left(\\alpha_{1}^{2} + 2 \\alpha_{1} \\alpha_{3} + \\alpha_{3}^{2} - 4 \\lambda_{1} \\rho_{1} - 4 \\lambda_{2} \\rho_{1}\\right)}{\\rho_{1}}$"
      ],
      "text/plain": [
       "    ⎛       2                              2                                   ↪\n",
       "-k₁⋅⎝\\alpha₁  + 2⋅\\alpha₁⋅\\alpha₃ + \\alpha₃  - 4⋅\\lambda₁⋅\\rho₁ - 4⋅\\lambda₂⋅\\ ↪\n",
       "────────────────────────────────────────────────────────────────────────────── ↪\n",
       "                                       \\rho₁                                   ↪\n",
       "\n",
       "↪     ⎞ \n",
       "↪ rho₁⎠ \n",
       "↪ ──────\n",
       "↪       "
      ]
     },
     "metadata": {},
     "output_type": "display_data"
    },
    {
     "name": "stdout",
     "output_type": "stream",
     "text": [
      "Interaction: \n",
      "({{H_1^0}}, {{H_2^0}}, {{H_3^0}})\n",
      "coeff: \n",
      "-32*\\alpha_1**2*\\rho_1**3*k_1*k_2*v_R**3/(\\alpha_1**4*k_1**4 + 4*\\alpha_1**3*\\alpha_3*k_1**4 + 6*\\alpha_1**2*\\alpha_3**2*k_1**4 + 8*\\alpha_1**2*\\rho_1**2*k_1**2*v_R**2 + 4*\\alpha_1*\\alpha_3**3*k_1**4 + 16*\\alpha_1*\\alpha_3*\\rho_1**2*k_1**2*v_R**2 + \\alpha_3**4*k_1**4 + 8*\\alpha_3**2*\\rho_1**2*k_1**2*v_R**2 + 16*\\rho_1**4*v_R**4) - 32*\\alpha_1*\\alpha_2*\\rho_1**3*k_1*k_2*v_R**3/(\\alpha_1**4*k_1**4 + 4*\\alpha_1**3*\\alpha_3*k_1**4 + 6*\\alpha_1**2*\\alpha_3**2*k_1**4 + 8*\\alpha_1**2*\\rho_1**2*k_1**2*v_R**2 + 4*\\alpha_1*\\alpha_3**3*k_1**4 + 16*\\alpha_1*\\alpha_3*\\rho_1**2*k_1**2*v_R**2 + \\alpha_3**4*k_1**4 + 8*\\alpha_3**2*\\rho_1**2*k_1**2*v_R**2 + 16*\\rho_1**4*v_R**4) - 32*\\alpha_1*\\alpha_3*\\rho_1**3*k_1*k_2*v_R**3/(\\alpha_1**4*k_1**4 + 4*\\alpha_1**3*\\alpha_3*k_1**4 + 6*\\alpha_1**2*\\alpha_3**2*k_1**4 + 8*\\alpha_1**2*\\rho_1**2*k_1**2*v_R**2 + 4*\\alpha_1*\\alpha_3**3*k_1**4 + 16*\\alpha_1*\\alpha_3*\\rho_1**2*k_1**2*v_R**2 + \\alpha_3**4*k_1**4 + 8*\\alpha_3**2*\\rho_1**2*k_1**2*v_R**2 + 16*\\rho_1**4*v_R**4) + 64*\\alpha_1*\\lambda_1*\\rho_1**3*k_1*k_2*v_R**3/(\\alpha_1**4*k_1**4 + 4*\\alpha_1**3*\\alpha_3*k_1**4 + 6*\\alpha_1**2*\\alpha_3**2*k_1**4 + 8*\\alpha_1**2*\\rho_1**2*k_1**2*v_R**2 + 4*\\alpha_1*\\alpha_3**3*k_1**4 + 16*\\alpha_1*\\alpha_3*\\rho_1**2*k_1**2*v_R**2 + \\alpha_3**4*k_1**4 + 8*\\alpha_3**2*\\rho_1**2*k_1**2*v_R**2 + 16*\\rho_1**4*v_R**4) + 256*\\alpha_1*\\lambda_3*\\rho_1**3*k_1*k_2*v_R**3/(\\alpha_1**4*k_1**4 + 4*\\alpha_1**3*\\alpha_3*k_1**4 + 6*\\alpha_1**2*\\alpha_3**2*k_1**4 + 8*\\alpha_1**2*\\rho_1**2*k_1**2*v_R**2 + 4*\\alpha_1*\\alpha_3**3*k_1**4 + 16*\\alpha_1*\\alpha_3*\\rho_1**2*k_1**2*v_R**2 + \\alpha_3**4*k_1**4 + 8*\\alpha_3**2*\\rho_1**2*k_1**2*v_R**2 + 16*\\rho_1**4*v_R**4) + 64*\\alpha_1*\\lambda_5*\\rho_1**3*k_1*k_2*v_R**3/(\\alpha_1**4*k_1**4 + 4*\\alpha_1**3*\\alpha_3*k_1**4 + 6*\\alpha_1**2*\\alpha_3**2*k_1**4 + 8*\\alpha_1**2*\\rho_1**2*k_1**2*v_R**2 + 4*\\alpha_1*\\alpha_3**3*k_1**4 + 16*\\alpha_1*\\alpha_3*\\rho_1**2*k_1**2*v_R**2 + \\alpha_3**4*k_1**4 + 8*\\alpha_3**2*\\rho_1**2*k_1**2*v_R**2 + 16*\\rho_1**4*v_R**4) + 64*\\alpha_1*\\lambda_6*\\rho_1**3*k_1*k_2*v_R**3/(\\alpha_1**4*k_1**4 + 4*\\alpha_1**3*\\alpha_3*k_1**4 + 6*\\alpha_1**2*\\alpha_3**2*k_1**4 + 8*\\alpha_1**2*\\rho_1**2*k_1**2*v_R**2 + 4*\\alpha_1*\\alpha_3**3*k_1**4 + 16*\\alpha_1*\\alpha_3*\\rho_1**2*k_1**2*v_R**2 + \\alpha_3**4*k_1**4 + 8*\\alpha_3**2*\\rho_1**2*k_1**2*v_R**2 + 16*\\rho_1**4*v_R**4) - 32*\\alpha_2*\\alpha_3*\\rho_1**3*k_1*k_2*v_R**3/(\\alpha_1**4*k_1**4 + 4*\\alpha_1**3*\\alpha_3*k_1**4 + 6*\\alpha_1**2*\\alpha_3**2*k_1**4 + 8*\\alpha_1**2*\\rho_1**2*k_1**2*v_R**2 + 4*\\alpha_1*\\alpha_3**3*k_1**4 + 16*\\alpha_1*\\alpha_3*\\rho_1**2*k_1**2*v_R**2 + \\alpha_3**4*k_1**4 + 8*\\alpha_3**2*\\rho_1**2*k_1**2*v_R**2 + 16*\\rho_1**4*v_R**4) + 64*\\alpha_3*\\lambda_1*\\rho_1**3*k_1*k_2*v_R**3/(\\alpha_1**4*k_1**4 + 4*\\alpha_1**3*\\alpha_3*k_1**4 + 6*\\alpha_1**2*\\alpha_3**2*k_1**4 + 8*\\alpha_1**2*\\rho_1**2*k_1**2*v_R**2 + 4*\\alpha_1*\\alpha_3**3*k_1**4 + 16*\\alpha_1*\\alpha_3*\\rho_1**2*k_1**2*v_R**2 + \\alpha_3**4*k_1**4 + 8*\\alpha_3**2*\\rho_1**2*k_1**2*v_R**2 + 16*\\rho_1**4*v_R**4) + 256*\\alpha_3*\\lambda_3*\\rho_1**3*k_1*k_2*v_R**3/(\\alpha_1**4*k_1**4 + 4*\\alpha_1**3*\\alpha_3*k_1**4 + 6*\\alpha_1**2*\\alpha_3**2*k_1**4 + 8*\\alpha_1**2*\\rho_1**2*k_1**2*v_R**2 + 4*\\alpha_1*\\alpha_3**3*k_1**4 + 16*\\alpha_1*\\alpha_3*\\rho_1**2*k_1**2*v_R**2 + \\alpha_3**4*k_1**4 + 8*\\alpha_3**2*\\rho_1**2*k_1**2*v_R**2 + 16*\\rho_1**4*v_R**4) + 64*\\alpha_3*\\lambda_5*\\rho_1**3*k_1*k_2*v_R**3/(\\alpha_1**4*k_1**4 + 4*\\alpha_1**3*\\alpha_3*k_1**4 + 6*\\alpha_1**2*\\alpha_3**2*k_1**4 + 8*\\alpha_1**2*\\rho_1**2*k_1**2*v_R**2 + 4*\\alpha_1*\\alpha_3**3*k_1**4 + 16*\\alpha_1*\\alpha_3*\\rho_1**2*k_1**2*v_R**2 + \\alpha_3**4*k_1**4 + 8*\\alpha_3**2*\\rho_1**2*k_1**2*v_R**2 + 16*\\rho_1**4*v_R**4) + 64*\\alpha_3*\\lambda_6*\\rho_1**3*k_1*k_2*v_R**3/(\\alpha_1**4*k_1**4 + 4*\\alpha_1**3*\\alpha_3*k_1**4 + 6*\\alpha_1**2*\\alpha_3**2*k_1**4 + 8*\\alpha_1**2*\\rho_1**2*k_1**2*v_R**2 + 4*\\alpha_1*\\alpha_3**3*k_1**4 + 16*\\alpha_1*\\alpha_3*\\rho_1**2*k_1**2*v_R**2 + \\alpha_3**4*k_1**4 + 8*\\alpha_3**2*\\rho_1**2*k_1**2*v_R**2 + 16*\\rho_1**4*v_R**4)\n",
      "Aproximation : \n",
      "This interaction is not present in the approximation\n",
      "Interaction: \n",
      "({{H_1^0}}, {{H_2^0}}, {{H_4^0}})\n",
      "coeff: \n",
      "32*\\alpha_1**2*\\rho_1**3*k_1*v_L*v_R**3/(\\alpha_1**4*k_1**4 + 4*\\alpha_1**3*\\alpha_3*k_1**4 + 6*\\alpha_1**2*\\alpha_3**2*k_1**4 + 8*\\alpha_1**2*\\rho_1**2*k_1**2*v_R**2 + 4*\\alpha_1*\\alpha_3**3*k_1**4 + 16*\\alpha_1*\\alpha_3*\\rho_1**2*k_1**2*v_R**2 + \\alpha_3**4*k_1**4 + 8*\\alpha_3**2*\\rho_1**2*k_1**2*v_R**2 + 16*\\rho_1**4*v_R**4) + 64*\\alpha_1*\\alpha_3*\\rho_1**3*k_1*v_L*v_R**3/(\\alpha_1**4*k_1**4 + 4*\\alpha_1**3*\\alpha_3*k_1**4 + 6*\\alpha_1**2*\\alpha_3**2*k_1**4 + 8*\\alpha_1**2*\\rho_1**2*k_1**2*v_R**2 + 4*\\alpha_1*\\alpha_3**3*k_1**4 + 16*\\alpha_1*\\alpha_3*\\rho_1**2*k_1**2*v_R**2 + \\alpha_3**4*k_1**4 + 8*\\alpha_3**2*\\rho_1**2*k_1**2*v_R**2 + 16*\\rho_1**4*v_R**4) - 32*\\alpha_1*\\rho_1**3*\\rho_2*k_1*v_L*v_R**3/(\\alpha_1**4*k_1**4 + 4*\\alpha_1**3*\\alpha_3*k_1**4 + 6*\\alpha_1**2*\\alpha_3**2*k_1**4 + 8*\\alpha_1**2*\\rho_1**2*k_1**2*v_R**2 + 4*\\alpha_1*\\alpha_3**3*k_1**4 + 16*\\alpha_1*\\alpha_3*\\rho_1**2*k_1**2*v_R**2 + \\alpha_3**4*k_1**4 + 8*\\alpha_3**2*\\rho_1**2*k_1**2*v_R**2 + 16*\\rho_1**4*v_R**4) + 32*\\alpha_3**2*\\rho_1**3*k_1*v_L*v_R**3/(\\alpha_1**4*k_1**4 + 4*\\alpha_1**3*\\alpha_3*k_1**4 + 6*\\alpha_1**2*\\alpha_3**2*k_1**4 + 8*\\alpha_1**2*\\rho_1**2*k_1**2*v_R**2 + 4*\\alpha_1*\\alpha_3**3*k_1**4 + 16*\\alpha_1*\\alpha_3*\\rho_1**2*k_1**2*v_R**2 + \\alpha_3**4*k_1**4 + 8*\\alpha_3**2*\\rho_1**2*k_1**2*v_R**2 + 16*\\rho_1**4*v_R**4) - 32*\\alpha_3*\\rho_1**3*\\rho_2*k_1*v_L*v_R**3/(\\alpha_1**4*k_1**4 + 4*\\alpha_1**3*\\alpha_3*k_1**4 + 6*\\alpha_1**2*\\alpha_3**2*k_1**4 + 8*\\alpha_1**2*\\rho_1**2*k_1**2*v_R**2 + 4*\\alpha_1*\\alpha_3**3*k_1**4 + 16*\\alpha_1*\\alpha_3*\\rho_1**2*k_1**2*v_R**2 + \\alpha_3**4*k_1**4 + 8*\\alpha_3**2*\\rho_1**2*k_1**2*v_R**2 + 16*\\rho_1**4*v_R**4)\n",
      "Aproximation : \n",
      "This interaction is not present in the approximation\n",
      "Interaction: \n",
      "({{H_1^0}}, {{H_1^0}}, {{H_4^0}})\n",
      "coeff: \n",
      "8*\\alpha_1**2*\\rho_1**2*\\rho_2*k_1**2*v_L*v_R**2/(\\alpha_1**4*k_1**4 + 4*\\alpha_1**3*\\alpha_3*k_1**4 + 6*\\alpha_1**2*\\alpha_3**2*k_1**4 + 8*\\alpha_1**2*\\rho_1**2*k_1**2*v_R**2 + 4*\\alpha_1*\\alpha_3**3*k_1**4 + 16*\\alpha_1*\\alpha_3*\\rho_1**2*k_1**2*v_R**2 + \\alpha_3**4*k_1**4 + 8*\\alpha_3**2*\\rho_1**2*k_1**2*v_R**2 + 16*\\rho_1**4*v_R**4) + 16*\\alpha_1*\\alpha_3*\\rho_1**2*\\rho_2*k_1**2*v_L*v_R**2/(\\alpha_1**4*k_1**4 + 4*\\alpha_1**3*\\alpha_3*k_1**4 + 6*\\alpha_1**2*\\alpha_3**2*k_1**4 + 8*\\alpha_1**2*\\rho_1**2*k_1**2*v_R**2 + 4*\\alpha_1*\\alpha_3**3*k_1**4 + 16*\\alpha_1*\\alpha_3*\\rho_1**2*k_1**2*v_R**2 + \\alpha_3**4*k_1**4 + 8*\\alpha_3**2*\\rho_1**2*k_1**2*v_R**2 + 16*\\rho_1**4*v_R**4) + 32*\\alpha_1*\\rho_1**4*v_L*v_R**4/(\\alpha_1**4*k_1**4 + 4*\\alpha_1**3*\\alpha_3*k_1**4 + 6*\\alpha_1**2*\\alpha_3**2*k_1**4 + 8*\\alpha_1**2*\\rho_1**2*k_1**2*v_R**2 + 4*\\alpha_1*\\alpha_3**3*k_1**4 + 16*\\alpha_1*\\alpha_3*\\rho_1**2*k_1**2*v_R**2 + \\alpha_3**4*k_1**4 + 8*\\alpha_3**2*\\rho_1**2*k_1**2*v_R**2 + 16*\\rho_1**4*v_R**4) + 8*\\alpha_3**2*\\rho_1**2*\\rho_2*k_1**2*v_L*v_R**2/(\\alpha_1**4*k_1**4 + 4*\\alpha_1**3*\\alpha_3*k_1**4 + 6*\\alpha_1**2*\\alpha_3**2*k_1**4 + 8*\\alpha_1**2*\\rho_1**2*k_1**2*v_R**2 + 4*\\alpha_1*\\alpha_3**3*k_1**4 + 16*\\alpha_1*\\alpha_3*\\rho_1**2*k_1**2*v_R**2 + \\alpha_3**4*k_1**4 + 8*\\alpha_3**2*\\rho_1**2*k_1**2*v_R**2 + 16*\\rho_1**4*v_R**4) + 32*\\alpha_3*\\rho_1**4*v_L*v_R**4/(\\alpha_1**4*k_1**4 + 4*\\alpha_1**3*\\alpha_3*k_1**4 + 6*\\alpha_1**2*\\alpha_3**2*k_1**4 + 8*\\alpha_1**2*\\rho_1**2*k_1**2*v_R**2 + 4*\\alpha_1*\\alpha_3**3*k_1**4 + 16*\\alpha_1*\\alpha_3*\\rho_1**2*k_1**2*v_R**2 + \\alpha_3**4*k_1**4 + 8*\\alpha_3**2*\\rho_1**2*k_1**2*v_R**2 + 16*\\rho_1**4*v_R**4)\n",
      "Aproximation : \n",
      "This interaction is not present in the approximation\n",
      "Interaction: \n",
      "({{G_R^+}}, {{G_R^-}}, {{H_1^0}})\n",
      "coeff: \n",
      "-4*\\alpha_1**2*\\rho_1*k_1**3*v_R**4/(\\alpha_1**2*k_1**6 + 2*\\alpha_1**2*k_1**4*v_R**2 + \\alpha_1**2*k_1**2*v_R**4 + 2*\\alpha_1*\\alpha_3*k_1**6 + 4*\\alpha_1*\\alpha_3*k_1**4*v_R**2 + 2*\\alpha_1*\\alpha_3*k_1**2*v_R**4 + \\alpha_3**2*k_1**6 + 2*\\alpha_3**2*k_1**4*v_R**2 + \\alpha_3**2*k_1**2*v_R**4 + 4*\\rho_1**2*k_1**4*v_R**2 + 8*\\rho_1**2*k_1**2*v_R**4 + 4*\\rho_1**2*v_R**6) - 8*\\alpha_1*\\alpha_3*\\rho_1*k_1**3*v_R**4/(\\alpha_1**2*k_1**6 + 2*\\alpha_1**2*k_1**4*v_R**2 + \\alpha_1**2*k_1**2*v_R**4 + 2*\\alpha_1*\\alpha_3*k_1**6 + 4*\\alpha_1*\\alpha_3*k_1**4*v_R**2 + 2*\\alpha_1*\\alpha_3*k_1**2*v_R**4 + \\alpha_3**2*k_1**6 + 2*\\alpha_3**2*k_1**4*v_R**2 + \\alpha_3**2*k_1**2*v_R**4 + 4*\\rho_1**2*k_1**4*v_R**2 + 8*\\rho_1**2*k_1**2*v_R**4 + 4*\\rho_1**2*v_R**6) - 4*\\alpha_3**2*\\rho_1*k_1**3*v_R**4/(\\alpha_1**2*k_1**6 + 2*\\alpha_1**2*k_1**4*v_R**2 + \\alpha_1**2*k_1**2*v_R**4 + 2*\\alpha_1*\\alpha_3*k_1**6 + 4*\\alpha_1*\\alpha_3*k_1**4*v_R**2 + 2*\\alpha_1*\\alpha_3*k_1**2*v_R**4 + \\alpha_3**2*k_1**6 + 2*\\alpha_3**2*k_1**4*v_R**2 + \\alpha_3**2*k_1**2*v_R**4 + 4*\\rho_1**2*k_1**4*v_R**2 + 8*\\rho_1**2*k_1**2*v_R**4 + 4*\\rho_1**2*v_R**6) + 16*\\lambda_1*\\rho_1**2*k_1**3*v_R**4/(\\alpha_1**2*k_1**6 + 2*\\alpha_1**2*k_1**4*v_R**2 + \\alpha_1**2*k_1**2*v_R**4 + 2*\\alpha_1*\\alpha_3*k_1**6 + 4*\\alpha_1*\\alpha_3*k_1**4*v_R**2 + 2*\\alpha_1*\\alpha_3*k_1**2*v_R**4 + \\alpha_3**2*k_1**6 + 2*\\alpha_3**2*k_1**4*v_R**2 + \\alpha_3**2*k_1**2*v_R**4 + 4*\\rho_1**2*k_1**4*v_R**2 + 8*\\rho_1**2*k_1**2*v_R**4 + 4*\\rho_1**2*v_R**6) + 16*\\lambda_2*\\rho_1**2*k_1**3*v_R**4/(\\alpha_1**2*k_1**6 + 2*\\alpha_1**2*k_1**4*v_R**2 + \\alpha_1**2*k_1**2*v_R**4 + 2*\\alpha_1*\\alpha_3*k_1**6 + 4*\\alpha_1*\\alpha_3*k_1**4*v_R**2 + 2*\\alpha_1*\\alpha_3*k_1**2*v_R**4 + \\alpha_3**2*k_1**6 + 2*\\alpha_3**2*k_1**4*v_R**2 + \\alpha_3**2*k_1**2*v_R**4 + 4*\\rho_1**2*k_1**4*v_R**2 + 8*\\rho_1**2*k_1**2*v_R**4 + 4*\\rho_1**2*v_R**6)\n",
      "Aproximation : \n"
     ]
    },
    {
     "data": {
      "image/png": "[encoded data removed]",
      "text/latex": [
       "$\\displaystyle 0$"
      ],
      "text/plain": [
       "0"
      ]
     },
     "metadata": {},
     "output_type": "display_data"
    },
    {
     "name": "stdout",
     "output_type": "stream",
     "text": [
      "Interaction: \n",
      "({{G_R^+}}, {{H_1^0}}, {{H_R^-}})\n",
      "coeff: \n",
      "4*\\alpha_1**2*\\rho_1*k_1**2*v_R**5/(\\alpha_1**2*k_1**6 + 2*\\alpha_1**2*k_1**4*v_R**2 + \\alpha_1**2*k_1**2*v_R**4 + 2*\\alpha_1*\\alpha_3*k_1**6 + 4*\\alpha_1*\\alpha_3*k_1**4*v_R**2 + 2*\\alpha_1*\\alpha_3*k_1**2*v_R**4 + \\alpha_3**2*k_1**6 + 2*\\alpha_3**2*k_1**4*v_R**2 + \\alpha_3**2*k_1**2*v_R**4 + 4*\\rho_1**2*k_1**4*v_R**2 + 8*\\rho_1**2*k_1**2*v_R**4 + 4*\\rho_1**2*v_R**6) + 2*\\alpha_1*\\alpha_2*\\rho_1*k_1**4*v_R**3/(\\alpha_1**2*k_1**6 + 2*\\alpha_1**2*k_1**4*v_R**2 + \\alpha_1**2*k_1**2*v_R**4 + 2*\\alpha_1*\\alpha_3*k_1**6 + 4*\\alpha_1*\\alpha_3*k_1**4*v_R**2 + 2*\\alpha_1*\\alpha_3*k_1**2*v_R**4 + \\alpha_3**2*k_1**6 + 2*\\alpha_3**2*k_1**4*v_R**2 + \\alpha_3**2*k_1**2*v_R**4 + 4*\\rho_1**2*k_1**4*v_R**2 + 8*\\rho_1**2*k_1**2*v_R**4 + 4*\\rho_1**2*v_R**6) + 2*\\alpha_1*\\alpha_2*\\rho_1*k_1**2*v_R**5/(\\alpha_1**2*k_1**6 + 2*\\alpha_1**2*k_1**4*v_R**2 + \\alpha_1**2*k_1**2*v_R**4 + 2*\\alpha_1*\\alpha_3*k_1**6 + 4*\\alpha_1*\\alpha_3*k_1**4*v_R**2 + 2*\\alpha_1*\\alpha_3*k_1**2*v_R**4 + \\alpha_3**2*k_1**6 + 2*\\alpha_3**2*k_1**4*v_R**2 + \\alpha_3**2*k_1**2*v_R**4 + 4*\\rho_1**2*k_1**4*v_R**2 + 8*\\rho_1**2*k_1**2*v_R**4 + 4*\\rho_1**2*v_R**6) - 2*\\alpha_1*\\alpha_3*\\rho_1*k_1**4*v_R**3/(\\alpha_1**2*k_1**6 + 2*\\alpha_1**2*k_1**4*v_R**2 + \\alpha_1**2*k_1**2*v_R**4 + 2*\\alpha_1*\\alpha_3*k_1**6 + 4*\\alpha_1*\\alpha_3*k_1**4*v_R**2 + 2*\\alpha_1*\\alpha_3*k_1**2*v_R**4 + \\alpha_3**2*k_1**6 + 2*\\alpha_3**2*k_1**4*v_R**2 + \\alpha_3**2*k_1**2*v_R**4 + 4*\\rho_1**2*k_1**4*v_R**2 + 8*\\rho_1**2*k_1**2*v_R**4 + 4*\\rho_1**2*v_R**6) + 6*\\alpha_1*\\alpha_3*\\rho_1*k_1**2*v_R**5/(\\alpha_1**2*k_1**6 + 2*\\alpha_1**2*k_1**4*v_R**2 + \\alpha_1**2*k_1**2*v_R**4 + 2*\\alpha_1*\\alpha_3*k_1**6 + 4*\\alpha_1*\\alpha_3*k_1**4*v_R**2 + 2*\\alpha_1*\\alpha_3*k_1**2*v_R**4 + \\alpha_3**2*k_1**6 + 2*\\alpha_3**2*k_1**4*v_R**2 + \\alpha_3**2*k_1**2*v_R**4 + 4*\\rho_1**2*k_1**4*v_R**2 + 8*\\rho_1**2*k_1**2*v_R**4 + 4*\\rho_1**2*v_R**6) + 2*\\alpha_2*\\alpha_3*\\rho_1*k_1**4*v_R**3/(\\alpha_1**2*k_1**6 + 2*\\alpha_1**2*k_1**4*v_R**2 + \\alpha_1**2*k_1**2*v_R**4 + 2*\\alpha_1*\\alpha_3*k_1**6 + 4*\\alpha_1*\\alpha_3*k_1**4*v_R**2 + 2*\\alpha_1*\\alpha_3*k_1**2*v_R**4 + \\alpha_3**2*k_1**6 + 2*\\alpha_3**2*k_1**4*v_R**2 + \\alpha_3**2*k_1**2*v_R**4 + 4*\\rho_1**2*k_1**4*v_R**2 + 8*\\rho_1**2*k_1**2*v_R**4 + 4*\\rho_1**2*v_R**6) + 2*\\alpha_2*\\alpha_3*\\rho_1*k_1**2*v_R**5/(\\alpha_1**2*k_1**6 + 2*\\alpha_1**2*k_1**4*v_R**2 + \\alpha_1**2*k_1**2*v_R**4 + 2*\\alpha_1*\\alpha_3*k_1**6 + 4*\\alpha_1*\\alpha_3*k_1**4*v_R**2 + 2*\\alpha_1*\\alpha_3*k_1**2*v_R**4 + \\alpha_3**2*k_1**6 + 2*\\alpha_3**2*k_1**4*v_R**2 + \\alpha_3**2*k_1**2*v_R**4 + 4*\\rho_1**2*k_1**4*v_R**2 + 8*\\rho_1**2*k_1**2*v_R**4 + 4*\\rho_1**2*v_R**6) + 4*\\alpha_2*\\rho_1**2*k_1**2*v_R**5/(\\alpha_1**2*k_1**6 + 2*\\alpha_1**2*k_1**4*v_R**2 + \\alpha_1**2*k_1**2*v_R**4 + 2*\\alpha_1*\\alpha_3*k_1**6 + 4*\\alpha_1*\\alpha_3*k_1**4*v_R**2 + 2*\\alpha_1*\\alpha_3*k_1**2*v_R**4 + \\alpha_3**2*k_1**6 + 2*\\alpha_3**2*k_1**4*v_R**2 + \\alpha_3**2*k_1**2*v_R**4 + 4*\\rho_1**2*k_1**4*v_R**2 + 8*\\rho_1**2*k_1**2*v_R**4 + 4*\\rho_1**2*v_R**6) + 4*\\alpha_2*\\rho_1**2*v_R**7/(\\alpha_1**2*k_1**6 + 2*\\alpha_1**2*k_1**4*v_R**2 + \\alpha_1**2*k_1**2*v_R**4 + 2*\\alpha_1*\\alpha_3*k_1**6 + 4*\\alpha_1*\\alpha_3*k_1**4*v_R**2 + 2*\\alpha_1*\\alpha_3*k_1**2*v_R**4 + \\alpha_3**2*k_1**6 + 2*\\alpha_3**2*k_1**4*v_R**2 + \\alpha_3**2*k_1**2*v_R**4 + 4*\\rho_1**2*k_1**4*v_R**2 + 8*\\rho_1**2*k_1**2*v_R**4 + 4*\\rho_1**2*v_R**6) - 2*\\alpha_3**2*\\rho_1*k_1**4*v_R**3/(\\alpha_1**2*k_1**6 + 2*\\alpha_1**2*k_1**4*v_R**2 + \\alpha_1**2*k_1**2*v_R**4 + 2*\\alpha_1*\\alpha_3*k_1**6 + 4*\\alpha_1*\\alpha_3*k_1**4*v_R**2 + 2*\\alpha_1*\\alpha_3*k_1**2*v_R**4 + \\alpha_3**2*k_1**6 + 2*\\alpha_3**2*k_1**4*v_R**2 + \\alpha_3**2*k_1**2*v_R**4 + 4*\\rho_1**2*k_1**4*v_R**2 + 8*\\rho_1**2*k_1**2*v_R**4 + 4*\\rho_1**2*v_R**6) + 2*\\alpha_3**2*\\rho_1*k_1**2*v_R**5/(\\alpha_1**2*k_1**6 + 2*\\alpha_1**2*k_1**4*v_R**2 + \\alpha_1**2*k_1**2*v_R**4 + 2*\\alpha_1*\\alpha_3*k_1**6 + 4*\\alpha_1*\\alpha_3*k_1**4*v_R**2 + 2*\\alpha_1*\\alpha_3*k_1**2*v_R**4 + \\alpha_3**2*k_1**6 + 2*\\alpha_3**2*k_1**4*v_R**2 + \\alpha_3**2*k_1**2*v_R**4 + 4*\\rho_1**2*k_1**4*v_R**2 + 8*\\rho_1**2*k_1**2*v_R**4 + 4*\\rho_1**2*v_R**6) - 4*\\alpha_3*\\rho_1**2*k_1**2*v_R**5/(\\alpha_1**2*k_1**6 + 2*\\alpha_1**2*k_1**4*v_R**2 + \\alpha_1**2*k_1**2*v_R**4 + 2*\\alpha_1*\\alpha_3*k_1**6 + 4*\\alpha_1*\\alpha_3*k_1**4*v_R**2 + 2*\\alpha_1*\\alpha_3*k_1**2*v_R**4 + \\alpha_3**2*k_1**6 + 2*\\alpha_3**2*k_1**4*v_R**2 + \\alpha_3**2*k_1**2*v_R**4 + 4*\\rho_1**2*k_1**4*v_R**2 + 8*\\rho_1**2*k_1**2*v_R**4 + 4*\\rho_1**2*v_R**6) - 4*\\alpha_3*\\rho_1**2*v_R**7/(\\alpha_1**2*k_1**6 + 2*\\alpha_1**2*k_1**4*v_R**2 + \\alpha_1**2*k_1**2*v_R**4 + 2*\\alpha_1*\\alpha_3*k_1**6 + 4*\\alpha_1*\\alpha_3*k_1**4*v_R**2 + 2*\\alpha_1*\\alpha_3*k_1**2*v_R**4 + \\alpha_3**2*k_1**6 + 2*\\alpha_3**2*k_1**4*v_R**2 + \\alpha_3**2*k_1**2*v_R**4 + 4*\\rho_1**2*k_1**4*v_R**2 + 8*\\rho_1**2*k_1**2*v_R**4 + 4*\\rho_1**2*v_R**6) - 16*\\lambda_1*\\rho_1**2*k_1**2*v_R**5/(\\alpha_1**2*k_1**6 + 2*\\alpha_1**2*k_1**4*v_R**2 + \\alpha_1**2*k_1**2*v_R**4 + 2*\\alpha_1*\\alpha_3*k_1**6 + 4*\\alpha_1*\\alpha_3*k_1**4*v_R**2 + 2*\\alpha_1*\\alpha_3*k_1**2*v_R**4 + \\alpha_3**2*k_1**6 + 2*\\alpha_3**2*k_1**4*v_R**2 + \\alpha_3**2*k_1**2*v_R**4 + 4*\\rho_1**2*k_1**4*v_R**2 + 8*\\rho_1**2*k_1**2*v_R**4 + 4*\\rho_1**2*v_R**6) - 16*\\lambda_2*\\rho_1**2*k_1**2*v_R**5/(\\alpha_1**2*k_1**6 + 2*\\alpha_1**2*k_1**4*v_R**2 + \\alpha_1**2*k_1**2*v_R**4 + 2*\\alpha_1*\\alpha_3*k_1**6 + 4*\\alpha_1*\\alpha_3*k_1**4*v_R**2 + 2*\\alpha_1*\\alpha_3*k_1**2*v_R**4 + \\alpha_3**2*k_1**6 + 2*\\alpha_3**2*k_1**4*v_R**2 + \\alpha_3**2*k_1**2*v_R**4 + 4*\\rho_1**2*k_1**4*v_R**2 + 8*\\rho_1**2*k_1**2*v_R**4 + 4*\\rho_1**2*v_R**6)\n",
      "Aproximation : \n"
     ]
    },
    {
     "data": {
      "image/png": "[encoded data removed]",
      "text/latex": [
       "$\\displaystyle v_{R} \\left(\\alpha_{2} - \\alpha_{3}\\right)$"
      ],
      "text/plain": [
       "v_R⋅(\\alpha₂ - \\alpha₃)"
      ]
     },
     "metadata": {},
     "output_type": "display_data"
    },
    {
     "name": "stdout",
     "output_type": "stream",
     "text": [
      "Interaction: \n",
      "({{G_R^-}}, {{H_1^0}}, {{H_R^+}})\n",
      "coeff: \n",
      "4*\\alpha_1**2*\\rho_1*k_1**2*v_R**5/(\\alpha_1**2*k_1**6 + 2*\\alpha_1**2*k_1**4*v_R**2 + \\alpha_1**2*k_1**2*v_R**4 + 2*\\alpha_1*\\alpha_3*k_1**6 + 4*\\alpha_1*\\alpha_3*k_1**4*v_R**2 + 2*\\alpha_1*\\alpha_3*k_1**2*v_R**4 + \\alpha_3**2*k_1**6 + 2*\\alpha_3**2*k_1**4*v_R**2 + \\alpha_3**2*k_1**2*v_R**4 + 4*\\rho_1**2*k_1**4*v_R**2 + 8*\\rho_1**2*k_1**2*v_R**4 + 4*\\rho_1**2*v_R**6) + 2*\\alpha_1*\\alpha_2*\\rho_1*k_1**4*v_R**3/(\\alpha_1**2*k_1**6 + 2*\\alpha_1**2*k_1**4*v_R**2 + \\alpha_1**2*k_1**2*v_R**4 + 2*\\alpha_1*\\alpha_3*k_1**6 + 4*\\alpha_1*\\alpha_3*k_1**4*v_R**2 + 2*\\alpha_1*\\alpha_3*k_1**2*v_R**4 + \\alpha_3**2*k_1**6 + 2*\\alpha_3**2*k_1**4*v_R**2 + \\alpha_3**2*k_1**2*v_R**4 + 4*\\rho_1**2*k_1**4*v_R**2 + 8*\\rho_1**2*k_1**2*v_R**4 + 4*\\rho_1**2*v_R**6) + 2*\\alpha_1*\\alpha_2*\\rho_1*k_1**2*v_R**5/(\\alpha_1**2*k_1**6 + 2*\\alpha_1**2*k_1**4*v_R**2 + \\alpha_1**2*k_1**2*v_R**4 + 2*\\alpha_1*\\alpha_3*k_1**6 + 4*\\alpha_1*\\alpha_3*k_1**4*v_R**2 + 2*\\alpha_1*\\alpha_3*k_1**2*v_R**4 + \\alpha_3**2*k_1**6 + 2*\\alpha_3**2*k_1**4*v_R**2 + \\alpha_3**2*k_1**2*v_R**4 + 4*\\rho_1**2*k_1**4*v_R**2 + 8*\\rho_1**2*k_1**2*v_R**4 + 4*\\rho_1**2*v_R**6) - 2*\\alpha_1*\\alpha_3*\\rho_1*k_1**4*v_R**3/(\\alpha_1**2*k_1**6 + 2*\\alpha_1**2*k_1**4*v_R**2 + \\alpha_1**2*k_1**2*v_R**4 + 2*\\alpha_1*\\alpha_3*k_1**6 + 4*\\alpha_1*\\alpha_3*k_1**4*v_R**2 + 2*\\alpha_1*\\alpha_3*k_1**2*v_R**4 + \\alpha_3**2*k_1**6 + 2*\\alpha_3**2*k_1**4*v_R**2 + \\alpha_3**2*k_1**2*v_R**4 + 4*\\rho_1**2*k_1**4*v_R**2 + 8*\\rho_1**2*k_1**2*v_R**4 + 4*\\rho_1**2*v_R**6) + 6*\\alpha_1*\\alpha_3*\\rho_1*k_1**2*v_R**5/(\\alpha_1**2*k_1**6 + 2*\\alpha_1**2*k_1**4*v_R**2 + \\alpha_1**2*k_1**2*v_R**4 + 2*\\alpha_1*\\alpha_3*k_1**6 + 4*\\alpha_1*\\alpha_3*k_1**4*v_R**2 + 2*\\alpha_1*\\alpha_3*k_1**2*v_R**4 + \\alpha_3**2*k_1**6 + 2*\\alpha_3**2*k_1**4*v_R**2 + \\alpha_3**2*k_1**2*v_R**4 + 4*\\rho_1**2*k_1**4*v_R**2 + 8*\\rho_1**2*k_1**2*v_R**4 + 4*\\rho_1**2*v_R**6) + 2*\\alpha_2*\\alpha_3*\\rho_1*k_1**4*v_R**3/(\\alpha_1**2*k_1**6 + 2*\\alpha_1**2*k_1**4*v_R**2 + \\alpha_1**2*k_1**2*v_R**4 + 2*\\alpha_1*\\alpha_3*k_1**6 + 4*\\alpha_1*\\alpha_3*k_1**4*v_R**2 + 2*\\alpha_1*\\alpha_3*k_1**2*v_R**4 + \\alpha_3**2*k_1**6 + 2*\\alpha_3**2*k_1**4*v_R**2 + \\alpha_3**2*k_1**2*v_R**4 + 4*\\rho_1**2*k_1**4*v_R**2 + 8*\\rho_1**2*k_1**2*v_R**4 + 4*\\rho_1**2*v_R**6) + 2*\\alpha_2*\\alpha_3*\\rho_1*k_1**2*v_R**5/(\\alpha_1**2*k_1**6 + 2*\\alpha_1**2*k_1**4*v_R**2 + \\alpha_1**2*k_1**2*v_R**4 + 2*\\alpha_1*\\alpha_3*k_1**6 + 4*\\alpha_1*\\alpha_3*k_1**4*v_R**2 + 2*\\alpha_1*\\alpha_3*k_1**2*v_R**4 + \\alpha_3**2*k_1**6 + 2*\\alpha_3**2*k_1**4*v_R**2 + \\alpha_3**2*k_1**2*v_R**4 + 4*\\rho_1**2*k_1**4*v_R**2 + 8*\\rho_1**2*k_1**2*v_R**4 + 4*\\rho_1**2*v_R**6) + 4*\\alpha_2*\\rho_1**2*k_1**2*v_R**5/(\\alpha_1**2*k_1**6 + 2*\\alpha_1**2*k_1**4*v_R**2 + \\alpha_1**2*k_1**2*v_R**4 + 2*\\alpha_1*\\alpha_3*k_1**6 + 4*\\alpha_1*\\alpha_3*k_1**4*v_R**2 + 2*\\alpha_1*\\alpha_3*k_1**2*v_R**4 + \\alpha_3**2*k_1**6 + 2*\\alpha_3**2*k_1**4*v_R**2 + \\alpha_3**2*k_1**2*v_R**4 + 4*\\rho_1**2*k_1**4*v_R**2 + 8*\\rho_1**2*k_1**2*v_R**4 + 4*\\rho_1**2*v_R**6) + 4*\\alpha_2*\\rho_1**2*v_R**7/(\\alpha_1**2*k_1**6 + 2*\\alpha_1**2*k_1**4*v_R**2 + \\alpha_1**2*k_1**2*v_R**4 + 2*\\alpha_1*\\alpha_3*k_1**6 + 4*\\alpha_1*\\alpha_3*k_1**4*v_R**2 + 2*\\alpha_1*\\alpha_3*k_1**2*v_R**4 + \\alpha_3**2*k_1**6 + 2*\\alpha_3**2*k_1**4*v_R**2 + \\alpha_3**2*k_1**2*v_R**4 + 4*\\rho_1**2*k_1**4*v_R**2 + 8*\\rho_1**2*k_1**2*v_R**4 + 4*\\rho_1**2*v_R**6) - 2*\\alpha_3**2*\\rho_1*k_1**4*v_R**3/(\\alpha_1**2*k_1**6 + 2*\\alpha_1**2*k_1**4*v_R**2 + \\alpha_1**2*k_1**2*v_R**4 + 2*\\alpha_1*\\alpha_3*k_1**6 + 4*\\alpha_1*\\alpha_3*k_1**4*v_R**2 + 2*\\alpha_1*\\alpha_3*k_1**2*v_R**4 + \\alpha_3**2*k_1**6 + 2*\\alpha_3**2*k_1**4*v_R**2 + \\alpha_3**2*k_1**2*v_R**4 + 4*\\rho_1**2*k_1**4*v_R**2 + 8*\\rho_1**2*k_1**2*v_R**4 + 4*\\rho_1**2*v_R**6) + 2*\\alpha_3**2*\\rho_1*k_1**2*v_R**5/(\\alpha_1**2*k_1**6 + 2*\\alpha_1**2*k_1**4*v_R**2 + \\alpha_1**2*k_1**2*v_R**4 + 2*\\alpha_1*\\alpha_3*k_1**6 + 4*\\alpha_1*\\alpha_3*k_1**4*v_R**2 + 2*\\alpha_1*\\alpha_3*k_1**2*v_R**4 + \\alpha_3**2*k_1**6 + 2*\\alpha_3**2*k_1**4*v_R**2 + \\alpha_3**2*k_1**2*v_R**4 + 4*\\rho_1**2*k_1**4*v_R**2 + 8*\\rho_1**2*k_1**2*v_R**4 + 4*\\rho_1**2*v_R**6) - 4*\\alpha_3*\\rho_1**2*k_1**2*v_R**5/(\\alpha_1**2*k_1**6 + 2*\\alpha_1**2*k_1**4*v_R**2 + \\alpha_1**2*k_1**2*v_R**4 + 2*\\alpha_1*\\alpha_3*k_1**6 + 4*\\alpha_1*\\alpha_3*k_1**4*v_R**2 + 2*\\alpha_1*\\alpha_3*k_1**2*v_R**4 + \\alpha_3**2*k_1**6 + 2*\\alpha_3**2*k_1**4*v_R**2 + \\alpha_3**2*k_1**2*v_R**4 + 4*\\rho_1**2*k_1**4*v_R**2 + 8*\\rho_1**2*k_1**2*v_R**4 + 4*\\rho_1**2*v_R**6) - 4*\\alpha_3*\\rho_1**2*v_R**7/(\\alpha_1**2*k_1**6 + 2*\\alpha_1**2*k_1**4*v_R**2 + \\alpha_1**2*k_1**2*v_R**4 + 2*\\alpha_1*\\alpha_3*k_1**6 + 4*\\alpha_1*\\alpha_3*k_1**4*v_R**2 + 2*\\alpha_1*\\alpha_3*k_1**2*v_R**4 + \\alpha_3**2*k_1**6 + 2*\\alpha_3**2*k_1**4*v_R**2 + \\alpha_3**2*k_1**2*v_R**4 + 4*\\rho_1**2*k_1**4*v_R**2 + 8*\\rho_1**2*k_1**2*v_R**4 + 4*\\rho_1**2*v_R**6) - 16*\\lambda_1*\\rho_1**2*k_1**2*v_R**5/(\\alpha_1**2*k_1**6 + 2*\\alpha_1**2*k_1**4*v_R**2 + \\alpha_1**2*k_1**2*v_R**4 + 2*\\alpha_1*\\alpha_3*k_1**6 + 4*\\alpha_1*\\alpha_3*k_1**4*v_R**2 + 2*\\alpha_1*\\alpha_3*k_1**2*v_R**4 + \\alpha_3**2*k_1**6 + 2*\\alpha_3**2*k_1**4*v_R**2 + \\alpha_3**2*k_1**2*v_R**4 + 4*\\rho_1**2*k_1**4*v_R**2 + 8*\\rho_1**2*k_1**2*v_R**4 + 4*\\rho_1**2*v_R**6) - 16*\\lambda_2*\\rho_1**2*k_1**2*v_R**5/(\\alpha_1**2*k_1**6 + 2*\\alpha_1**2*k_1**4*v_R**2 + \\alpha_1**2*k_1**2*v_R**4 + 2*\\alpha_1*\\alpha_3*k_1**6 + 4*\\alpha_1*\\alpha_3*k_1**4*v_R**2 + 2*\\alpha_1*\\alpha_3*k_1**2*v_R**4 + \\alpha_3**2*k_1**6 + 2*\\alpha_3**2*k_1**4*v_R**2 + \\alpha_3**2*k_1**2*v_R**4 + 4*\\rho_1**2*k_1**4*v_R**2 + 8*\\rho_1**2*k_1**2*v_R**4 + 4*\\rho_1**2*v_R**6)\n",
      "Aproximation : \n"
     ]
    },
    {
     "data": {
      "image/png": "[encoded data removed]",
      "text/latex": [
       "$\\displaystyle v_{R} \\left(\\alpha_{2} - \\alpha_{3}\\right)$"
      ],
      "text/plain": [
       "v_R⋅(\\alpha₂ - \\alpha₃)"
      ]
     },
     "metadata": {},
     "output_type": "display_data"
    },
    {
     "name": "stdout",
     "output_type": "stream",
     "text": [
      "Interaction: \n",
      "({{H_1^0}}, {{H_R^+}}, {{H_R^-}})\n",
      "coeff: \n",
      "-4*\\alpha_1**2*\\rho_1*k_1*v_R**6/(\\alpha_1**2*k_1**6 + 2*\\alpha_1**2*k_1**4*v_R**2 + \\alpha_1**2*k_1**2*v_R**4 + 2*\\alpha_1*\\alpha_3*k_1**6 + 4*\\alpha_1*\\alpha_3*k_1**4*v_R**2 + 2*\\alpha_1*\\alpha_3*k_1**2*v_R**4 + \\alpha_3**2*k_1**6 + 2*\\alpha_3**2*k_1**4*v_R**2 + \\alpha_3**2*k_1**2*v_R**4 + 4*\\rho_1**2*k_1**4*v_R**2 + 8*\\rho_1**2*k_1**2*v_R**4 + 4*\\rho_1**2*v_R**6) - 4*\\alpha_1*\\alpha_2*\\rho_1*k_1**3*v_R**4/(\\alpha_1**2*k_1**6 + 2*\\alpha_1**2*k_1**4*v_R**2 + \\alpha_1**2*k_1**2*v_R**4 + 2*\\alpha_1*\\alpha_3*k_1**6 + 4*\\alpha_1*\\alpha_3*k_1**4*v_R**2 + 2*\\alpha_1*\\alpha_3*k_1**2*v_R**4 + \\alpha_3**2*k_1**6 + 2*\\alpha_3**2*k_1**4*v_R**2 + \\alpha_3**2*k_1**2*v_R**4 + 4*\\rho_1**2*k_1**4*v_R**2 + 8*\\rho_1**2*k_1**2*v_R**4 + 4*\\rho_1**2*v_R**6) - 4*\\alpha_1*\\alpha_2*\\rho_1*k_1*v_R**6/(\\alpha_1**2*k_1**6 + 2*\\alpha_1**2*k_1**4*v_R**2 + \\alpha_1**2*k_1**2*v_R**4 + 2*\\alpha_1*\\alpha_3*k_1**6 + 4*\\alpha_1*\\alpha_3*k_1**4*v_R**2 + 2*\\alpha_1*\\alpha_3*k_1**2*v_R**4 + \\alpha_3**2*k_1**6 + 2*\\alpha_3**2*k_1**4*v_R**2 + \\alpha_3**2*k_1**2*v_R**4 + 4*\\rho_1**2*k_1**4*v_R**2 + 8*\\rho_1**2*k_1**2*v_R**4 + 4*\\rho_1**2*v_R**6) + 4*\\alpha_1*\\alpha_3*\\rho_1*k_1**3*v_R**4/(\\alpha_1**2*k_1**6 + 2*\\alpha_1**2*k_1**4*v_R**2 + \\alpha_1**2*k_1**2*v_R**4 + 2*\\alpha_1*\\alpha_3*k_1**6 + 4*\\alpha_1*\\alpha_3*k_1**4*v_R**2 + 2*\\alpha_1*\\alpha_3*k_1**2*v_R**4 + \\alpha_3**2*k_1**6 + 2*\\alpha_3**2*k_1**4*v_R**2 + \\alpha_3**2*k_1**2*v_R**4 + 4*\\rho_1**2*k_1**4*v_R**2 + 8*\\rho_1**2*k_1**2*v_R**4 + 4*\\rho_1**2*v_R**6) - 4*\\alpha_1*\\alpha_3*\\rho_1*k_1*v_R**6/(\\alpha_1**2*k_1**6 + 2*\\alpha_1**2*k_1**4*v_R**2 + \\alpha_1**2*k_1**2*v_R**4 + 2*\\alpha_1*\\alpha_3*k_1**6 + 4*\\alpha_1*\\alpha_3*k_1**4*v_R**2 + 2*\\alpha_1*\\alpha_3*k_1**2*v_R**4 + \\alpha_3**2*k_1**6 + 2*\\alpha_3**2*k_1**4*v_R**2 + \\alpha_3**2*k_1**2*v_R**4 + 4*\\rho_1**2*k_1**4*v_R**2 + 8*\\rho_1**2*k_1**2*v_R**4 + 4*\\rho_1**2*v_R**6) - 4*\\alpha_2*\\alpha_3*\\rho_1*k_1**3*v_R**4/(\\alpha_1**2*k_1**6 + 2*\\alpha_1**2*k_1**4*v_R**2 + \\alpha_1**2*k_1**2*v_R**4 + 2*\\alpha_1*\\alpha_3*k_1**6 + 4*\\alpha_1*\\alpha_3*k_1**4*v_R**2 + 2*\\alpha_1*\\alpha_3*k_1**2*v_R**4 + \\alpha_3**2*k_1**6 + 2*\\alpha_3**2*k_1**4*v_R**2 + \\alpha_3**2*k_1**2*v_R**4 + 4*\\rho_1**2*k_1**4*v_R**2 + 8*\\rho_1**2*k_1**2*v_R**4 + 4*\\rho_1**2*v_R**6) - 4*\\alpha_2*\\alpha_3*\\rho_1*k_1*v_R**6/(\\alpha_1**2*k_1**6 + 2*\\alpha_1**2*k_1**4*v_R**2 + \\alpha_1**2*k_1**2*v_R**4 + 2*\\alpha_1*\\alpha_3*k_1**6 + 4*\\alpha_1*\\alpha_3*k_1**4*v_R**2 + 2*\\alpha_1*\\alpha_3*k_1**2*v_R**4 + \\alpha_3**2*k_1**6 + 2*\\alpha_3**2*k_1**4*v_R**2 + \\alpha_3**2*k_1**2*v_R**4 + 4*\\rho_1**2*k_1**4*v_R**2 + 8*\\rho_1**2*k_1**2*v_R**4 + 4*\\rho_1**2*v_R**6) + 8*\\alpha_2*\\rho_1**2*k_1**3*v_R**4/(\\alpha_1**2*k_1**6 + 2*\\alpha_1**2*k_1**4*v_R**2 + \\alpha_1**2*k_1**2*v_R**4 + 2*\\alpha_1*\\alpha_3*k_1**6 + 4*\\alpha_1*\\alpha_3*k_1**4*v_R**2 + 2*\\alpha_1*\\alpha_3*k_1**2*v_R**4 + \\alpha_3**2*k_1**6 + 2*\\alpha_3**2*k_1**4*v_R**2 + \\alpha_3**2*k_1**2*v_R**4 + 4*\\rho_1**2*k_1**4*v_R**2 + 8*\\rho_1**2*k_1**2*v_R**4 + 4*\\rho_1**2*v_R**6) + 8*\\alpha_2*\\rho_1**2*k_1*v_R**6/(\\alpha_1**2*k_1**6 + 2*\\alpha_1**2*k_1**4*v_R**2 + \\alpha_1**2*k_1**2*v_R**4 + 2*\\alpha_1*\\alpha_3*k_1**6 + 4*\\alpha_1*\\alpha_3*k_1**4*v_R**2 + 2*\\alpha_1*\\alpha_3*k_1**2*v_R**4 + \\alpha_3**2*k_1**6 + 2*\\alpha_3**2*k_1**4*v_R**2 + \\alpha_3**2*k_1**2*v_R**4 + 4*\\rho_1**2*k_1**4*v_R**2 + 8*\\rho_1**2*k_1**2*v_R**4 + 4*\\rho_1**2*v_R**6) + 4*\\alpha_3**2*\\rho_1*k_1**3*v_R**4/(\\alpha_1**2*k_1**6 + 2*\\alpha_1**2*k_1**4*v_R**2 + \\alpha_1**2*k_1**2*v_R**4 + 2*\\alpha_1*\\alpha_3*k_1**6 + 4*\\alpha_1*\\alpha_3*k_1**4*v_R**2 + 2*\\alpha_1*\\alpha_3*k_1**2*v_R**4 + \\alpha_3**2*k_1**6 + 2*\\alpha_3**2*k_1**4*v_R**2 + \\alpha_3**2*k_1**2*v_R**4 + 4*\\rho_1**2*k_1**4*v_R**2 + 8*\\rho_1**2*k_1**2*v_R**4 + 4*\\rho_1**2*v_R**6) - 8*\\alpha_3*\\rho_1**2*k_1**3*v_R**4/(\\alpha_1**2*k_1**6 + 2*\\alpha_1**2*k_1**4*v_R**2 + \\alpha_1**2*k_1**2*v_R**4 + 2*\\alpha_1*\\alpha_3*k_1**6 + 4*\\alpha_1*\\alpha_3*k_1**4*v_R**2 + 2*\\alpha_1*\\alpha_3*k_1**2*v_R**4 + \\alpha_3**2*k_1**6 + 2*\\alpha_3**2*k_1**4*v_R**2 + \\alpha_3**2*k_1**2*v_R**4 + 4*\\rho_1**2*k_1**4*v_R**2 + 8*\\rho_1**2*k_1**2*v_R**4 + 4*\\rho_1**2*v_R**6) - 8*\\alpha_3*\\rho_1**2*k_1*v_R**6/(\\alpha_1**2*k_1**6 + 2*\\alpha_1**2*k_1**4*v_R**2 + \\alpha_1**2*k_1**2*v_R**4 + 2*\\alpha_1*\\alpha_3*k_1**6 + 4*\\alpha_1*\\alpha_3*k_1**4*v_R**2 + 2*\\alpha_1*\\alpha_3*k_1**2*v_R**4 + \\alpha_3**2*k_1**6 + 2*\\alpha_3**2*k_1**4*v_R**2 + \\alpha_3**2*k_1**2*v_R**4 + 4*\\rho_1**2*k_1**4*v_R**2 + 8*\\rho_1**2*k_1**2*v_R**4 + 4*\\rho_1**2*v_R**6) + 16*\\lambda_1*\\rho_1**2*k_1*v_R**6/(\\alpha_1**2*k_1**6 + 2*\\alpha_1**2*k_1**4*v_R**2 + \\alpha_1**2*k_1**2*v_R**4 + 2*\\alpha_1*\\alpha_3*k_1**6 + 4*\\alpha_1*\\alpha_3*k_1**4*v_R**2 + 2*\\alpha_1*\\alpha_3*k_1**2*v_R**4 + \\alpha_3**2*k_1**6 + 2*\\alpha_3**2*k_1**4*v_R**2 + \\alpha_3**2*k_1**2*v_R**4 + 4*\\rho_1**2*k_1**4*v_R**2 + 8*\\rho_1**2*k_1**2*v_R**4 + 4*\\rho_1**2*v_R**6) + 16*\\lambda_2*\\rho_1**2*k_1*v_R**6/(\\alpha_1**2*k_1**6 + 2*\\alpha_1**2*k_1**4*v_R**2 + \\alpha_1**2*k_1**2*v_R**4 + 2*\\alpha_1*\\alpha_3*k_1**6 + 4*\\alpha_1*\\alpha_3*k_1**4*v_R**2 + 2*\\alpha_1*\\alpha_3*k_1**2*v_R**4 + \\alpha_3**2*k_1**6 + 2*\\alpha_3**2*k_1**4*v_R**2 + \\alpha_3**2*k_1**2*v_R**4 + 4*\\rho_1**2*k_1**4*v_R**2 + 8*\\rho_1**2*k_1**2*v_R**4 + 4*\\rho_1**2*v_R**6)\n",
      "Aproximation : \n"
     ]
    },
    {
     "data": {
      "image/png": "[encoded data removed]",
      "text/latex": [
       "$\\displaystyle - \\frac{k_{1} \\left(\\alpha_{1}^{2} + \\alpha_{1} \\alpha_{2} + \\alpha_{1} \\alpha_{3} + \\alpha_{2} \\alpha_{3} - 2 \\alpha_{2} \\rho_{1} + 2 \\alpha_{3} \\rho_{1} - 4 \\lambda_{1} \\rho_{1} - 4 \\lambda_{2} \\rho_{1}\\right)}{\\rho_{1}}$"
      ],
      "text/plain": [
       "    ⎛       2                                                                  ↪\n",
       "-k₁⋅⎝\\alpha₁  + \\alpha₁⋅\\alpha₂ + \\alpha₁⋅\\alpha₃ + \\alpha₂⋅\\alpha₃ - 2⋅\\alpha ↪\n",
       "────────────────────────────────────────────────────────────────────────────── ↪\n",
       "                                                                     \\rho₁     ↪\n",
       "\n",
       "↪                                                                ⎞ \n",
       "↪ ₂⋅\\rho₁ + 2⋅\\alpha₃⋅\\rho₁ - 4⋅\\lambda₁⋅\\rho₁ - 4⋅\\lambda₂⋅\\rho₁⎠ \n",
       "↪ ─────────────────────────────────────────────────────────────────\n",
       "↪                                                                  "
      ]
     },
     "metadata": {},
     "output_type": "display_data"
    },
    {
     "name": "stdout",
     "output_type": "stream",
     "text": [
      "Interaction: \n",
      "({{A_1^0}}, {{A_1^0}}, {{H_1^0}})\n",
      "coeff: \n",
      "-4*\\alpha_1**2*\\rho_1*k_1*v_R**2/(\\alpha_1**2*k_1**2 + 2*\\alpha_1*\\alpha_3*k_1**2 + \\alpha_3**2*k_1**2 + 4*\\rho_1**2*v_R**2) - 4*\\alpha_1*\\alpha_2*\\rho_1*k_1*v_R**2/(\\alpha_1**2*k_1**2 + 2*\\alpha_1*\\alpha_3*k_1**2 + \\alpha_3**2*k_1**2 + 4*\\rho_1**2*v_R**2) - 4*\\alpha_1*\\alpha_3*\\rho_1*k_1*v_R**2/(\\alpha_1**2*k_1**2 + 2*\\alpha_1*\\alpha_3*k_1**2 + \\alpha_3**2*k_1**2 + 4*\\rho_1**2*v_R**2) - 4*\\alpha_2*\\alpha_3*\\rho_1*k_1*v_R**2/(\\alpha_1**2*k_1**2 + 2*\\alpha_1*\\alpha_3*k_1**2 + \\alpha_3**2*k_1**2 + 4*\\rho_1**2*v_R**2) + 16*\\lambda_1*\\rho_1**2*k_1*v_R**2/(\\alpha_1**2*k_1**2 + 2*\\alpha_1*\\alpha_3*k_1**2 + \\alpha_3**2*k_1**2 + 4*\\rho_1**2*v_R**2) - 64*\\lambda_4*\\rho_1**2*k_1*v_R**2/(\\alpha_1**2*k_1**2 + 2*\\alpha_1*\\alpha_3*k_1**2 + \\alpha_3**2*k_1**2 + 4*\\rho_1**2*v_R**2) + 16*\\lambda_5*\\rho_1**2*k_1*v_R**2/(\\alpha_1**2*k_1**2 + 2*\\alpha_1*\\alpha_3*k_1**2 + \\alpha_3**2*k_1**2 + 4*\\rho_1**2*v_R**2) - 16*\\lambda_6*\\rho_1**2*k_1*v_R**2/(\\alpha_1**2*k_1**2 + 2*\\alpha_1*\\alpha_3*k_1**2 + \\alpha_3**2*k_1**2 + 4*\\rho_1**2*v_R**2)\n",
      "Aproximation : \n"
     ]
    },
    {
     "data": {
      "image/png": "[encoded data removed]",
      "text/latex": [
       "$\\displaystyle - \\frac{k_{1} \\left(\\alpha_{1}^{2} + \\alpha_{1} \\alpha_{2} + \\alpha_{1} \\alpha_{3} + \\alpha_{2} \\alpha_{3} - 4 \\lambda_{1} \\rho_{1} + 16 \\lambda_{4} \\rho_{1} - 4 \\lambda_{5} \\rho_{1} + 4 \\lambda_{6} \\rho_{1}\\right)}{\\rho_{1}}$"
      ],
      "text/plain": [
       "    ⎛       2                                                                  ↪\n",
       "-k₁⋅⎝\\alpha₁  + \\alpha₁⋅\\alpha₂ + \\alpha₁⋅\\alpha₃ + \\alpha₂⋅\\alpha₃ - 4⋅\\lambd ↪\n",
       "────────────────────────────────────────────────────────────────────────────── ↪\n",
       "                                                                      \\rho₁    ↪\n",
       "\n",
       "↪                                                                   ⎞ \n",
       "↪ a₁⋅\\rho₁ + 16⋅\\lambda₄⋅\\rho₁ - 4⋅\\lambda₅⋅\\rho₁ + 4⋅\\lambda₆⋅\\rho₁⎠ \n",
       "↪ ────────────────────────────────────────────────────────────────────\n",
       "↪                                                                     "
      ]
     },
     "metadata": {},
     "output_type": "display_data"
    },
    {
     "name": "stdout",
     "output_type": "stream",
     "text": [
      "Interaction: \n",
      "({{G_L^+}}, {{G_L^-}}, {{H_1^0}})\n",
      "coeff: \n",
      "-4*\\alpha_1**2*\\rho_1*k_1*v_R**2/(\\alpha_1**2*k_1**2 + 2*\\alpha_1*\\alpha_3*k_1**2 + \\alpha_3**2*k_1**2 + 4*\\rho_1**2*v_R**2) - 8*\\alpha_1*\\alpha_3*\\rho_1*k_1*v_R**2/(\\alpha_1**2*k_1**2 + 2*\\alpha_1*\\alpha_3*k_1**2 + \\alpha_3**2*k_1**2 + 4*\\rho_1**2*v_R**2) - 4*\\alpha_3**2*\\rho_1*k_1*v_R**2/(\\alpha_1**2*k_1**2 + 2*\\alpha_1*\\alpha_3*k_1**2 + \\alpha_3**2*k_1**2 + 4*\\rho_1**2*v_R**2) + 16*\\lambda_1*\\rho_1**2*k_1*v_R**2/(\\alpha_1**2*k_1**2 + 2*\\alpha_1*\\alpha_3*k_1**2 + \\alpha_3**2*k_1**2 + 4*\\rho_1**2*v_R**2) + 16*\\lambda_2*\\rho_1**2*k_1*v_R**2/(\\alpha_1**2*k_1**2 + 2*\\alpha_1*\\alpha_3*k_1**2 + \\alpha_3**2*k_1**2 + 4*\\rho_1**2*v_R**2)\n",
      "Aproximation : \n"
     ]
    },
    {
     "data": {
      "image/png": "[encoded data removed]",
      "text/latex": [
       "$\\displaystyle - \\frac{k_{1} \\left(\\alpha_{1}^{2} + 2 \\alpha_{1} \\alpha_{3} + \\alpha_{3}^{2} - 4 \\lambda_{1} \\rho_{1} - 4 \\lambda_{2} \\rho_{1}\\right)}{\\rho_{1}}$"
      ],
      "text/plain": [
       "    ⎛       2                              2                                   ↪\n",
       "-k₁⋅⎝\\alpha₁  + 2⋅\\alpha₁⋅\\alpha₃ + \\alpha₃  - 4⋅\\lambda₁⋅\\rho₁ - 4⋅\\lambda₂⋅\\ ↪\n",
       "────────────────────────────────────────────────────────────────────────────── ↪\n",
       "                                       \\rho₁                                   ↪\n",
       "\n",
       "↪     ⎞ \n",
       "↪ rho₁⎠ \n",
       "↪ ──────\n",
       "↪       "
      ]
     },
     "metadata": {},
     "output_type": "display_data"
    },
    {
     "name": "stdout",
     "output_type": "stream",
     "text": [
      "Interaction: \n",
      "({{G_{Z_1}}}, {{G_{Z_1}}}, {{H_1^0}})\n",
      "coeff: \n",
      "-4*\\alpha_1**2*\\rho_1*k_1*v_R**2/(\\alpha_1**2*k_1**2 + 2*\\alpha_1*\\alpha_3*k_1**2 + \\alpha_3**2*k_1**2 + 4*\\rho_1**2*v_R**2) - 8*\\alpha_1*\\alpha_3*\\rho_1*k_1*v_R**2/(\\alpha_1**2*k_1**2 + 2*\\alpha_1*\\alpha_3*k_1**2 + \\alpha_3**2*k_1**2 + 4*\\rho_1**2*v_R**2) - 4*\\alpha_3**2*\\rho_1*k_1*v_R**2/(\\alpha_1**2*k_1**2 + 2*\\alpha_1*\\alpha_3*k_1**2 + \\alpha_3**2*k_1**2 + 4*\\rho_1**2*v_R**2) + 16*\\lambda_1*\\rho_1**2*k_1*v_R**2/(\\alpha_1**2*k_1**2 + 2*\\alpha_1*\\alpha_3*k_1**2 + \\alpha_3**2*k_1**2 + 4*\\rho_1**2*v_R**2) + 16*\\lambda_2*\\rho_1**2*k_1*v_R**2/(\\alpha_1**2*k_1**2 + 2*\\alpha_1*\\alpha_3*k_1**2 + \\alpha_3**2*k_1**2 + 4*\\rho_1**2*v_R**2)\n",
      "Aproximation : \n"
     ]
    },
    {
     "data": {
      "image/png": "[encoded data removed]",
      "text/latex": [
       "$\\displaystyle - \\frac{k_{1} \\left(\\alpha_{1}^{2} + 2 \\alpha_{1} \\alpha_{3} + \\alpha_{3}^{2} - 4 \\lambda_{1} \\rho_{1} - 4 \\lambda_{2} \\rho_{1}\\right)}{\\rho_{1}}$"
      ],
      "text/plain": [
       "    ⎛       2                              2                                   ↪\n",
       "-k₁⋅⎝\\alpha₁  + 2⋅\\alpha₁⋅\\alpha₃ + \\alpha₃  - 4⋅\\lambda₁⋅\\rho₁ - 4⋅\\lambda₂⋅\\ ↪\n",
       "────────────────────────────────────────────────────────────────────────────── ↪\n",
       "                                       \\rho₁                                   ↪\n",
       "\n",
       "↪     ⎞ \n",
       "↪ rho₁⎠ \n",
       "↪ ──────\n",
       "↪       "
      ]
     },
     "metadata": {},
     "output_type": "display_data"
    },
    {
     "name": "stdout",
     "output_type": "stream",
     "text": [
      "Interaction: \n",
      "({{H_1^0}}, {{H_3^0}}, {{H_3^0}})\n",
      "coeff: \n",
      "-4*\\alpha_1**2*\\rho_1*k_1*v_R**2/(\\alpha_1**2*k_1**2 + 2*\\alpha_1*\\alpha_3*k_1**2 + \\alpha_3**2*k_1**2 + 4*\\rho_1**2*v_R**2) - 4*\\alpha_1*\\alpha_2*\\rho_1*k_1*v_R**2/(\\alpha_1**2*k_1**2 + 2*\\alpha_1*\\alpha_3*k_1**2 + \\alpha_3**2*k_1**2 + 4*\\rho_1**2*v_R**2) - 4*\\alpha_1*\\alpha_3*\\rho_1*k_1*v_R**2/(\\alpha_1**2*k_1**2 + 2*\\alpha_1*\\alpha_3*k_1**2 + \\alpha_3**2*k_1**2 + 4*\\rho_1**2*v_R**2) - 4*\\alpha_2*\\alpha_3*\\rho_1*k_1*v_R**2/(\\alpha_1**2*k_1**2 + 2*\\alpha_1*\\alpha_3*k_1**2 + \\alpha_3**2*k_1**2 + 4*\\rho_1**2*v_R**2) + 16*\\lambda_1*\\rho_1**2*k_1*v_R**2/(\\alpha_1**2*k_1**2 + 2*\\alpha_1*\\alpha_3*k_1**2 + \\alpha_3**2*k_1**2 + 4*\\rho_1**2*v_R**2) + 64*\\lambda_3*\\rho_1**2*k_1*v_R**2/(\\alpha_1**2*k_1**2 + 2*\\alpha_1*\\alpha_3*k_1**2 + \\alpha_3**2*k_1**2 + 4*\\rho_1**2*v_R**2) + 16*\\lambda_5*\\rho_1**2*k_1*v_R**2/(\\alpha_1**2*k_1**2 + 2*\\alpha_1*\\alpha_3*k_1**2 + \\alpha_3**2*k_1**2 + 4*\\rho_1**2*v_R**2) + 16*\\lambda_6*\\rho_1**2*k_1*v_R**2/(\\alpha_1**2*k_1**2 + 2*\\alpha_1*\\alpha_3*k_1**2 + \\alpha_3**2*k_1**2 + 4*\\rho_1**2*v_R**2)\n",
      "Aproximation : \n"
     ]
    },
    {
     "data": {
      "image/png": "[encoded data removed]",
      "text/latex": [
       "$\\displaystyle - \\frac{k_{1} \\left(\\alpha_{1}^{2} + \\alpha_{1} \\alpha_{2} + \\alpha_{1} \\alpha_{3} + \\alpha_{2} \\alpha_{3} - 4 \\lambda_{1} \\rho_{1} - 16 \\lambda_{3} \\rho_{1} - 4 \\lambda_{5} \\rho_{1} - 4 \\lambda_{6} \\rho_{1}\\right)}{\\rho_{1}}$"
      ],
      "text/plain": [
       "    ⎛       2                                                                  ↪\n",
       "-k₁⋅⎝\\alpha₁  + \\alpha₁⋅\\alpha₂ + \\alpha₁⋅\\alpha₃ + \\alpha₂⋅\\alpha₃ - 4⋅\\lambd ↪\n",
       "────────────────────────────────────────────────────────────────────────────── ↪\n",
       "                                                                      \\rho₁    ↪\n",
       "\n",
       "↪                                                                   ⎞ \n",
       "↪ a₁⋅\\rho₁ - 16⋅\\lambda₃⋅\\rho₁ - 4⋅\\lambda₅⋅\\rho₁ - 4⋅\\lambda₆⋅\\rho₁⎠ \n",
       "↪ ────────────────────────────────────────────────────────────────────\n",
       "↪                                                                     "
      ]
     },
     "metadata": {},
     "output_type": "display_data"
    },
    {
     "name": "stdout",
     "output_type": "stream",
     "text": [
      "Interaction: \n",
      "({{G_L^+}}, {{H_1^0}}, {{H_R^-}})\n",
      "coeff: \n",
      "-2*\\alpha_1*\\alpha_2*\\rho_1*k_1**2*k_2*v_R**2/(\\alpha_1**2*k_1**4 + \\alpha_1**2*k_1**2*v_R**2 + 2*\\alpha_1*\\alpha_3*k_1**4 + 2*\\alpha_1*\\alpha_3*k_1**2*v_R**2 + \\alpha_3**2*k_1**4 + \\alpha_3**2*k_1**2*v_R**2 + 4*\\rho_1**2*k_1**2*v_R**2 + 4*\\rho_1**2*v_R**4) + 2*\\alpha_1*\\alpha_3*\\rho_1*k_1**2*k_2*v_R**2/(\\alpha_1**2*k_1**4 + \\alpha_1**2*k_1**2*v_R**2 + 2*\\alpha_1*\\alpha_3*k_1**4 + 2*\\alpha_1*\\alpha_3*k_1**2*v_R**2 + \\alpha_3**2*k_1**4 + \\alpha_3**2*k_1**2*v_R**2 + 4*\\rho_1**2*k_1**2*v_R**2 + 4*\\rho_1**2*v_R**4) - 2*\\alpha_2*\\alpha_3*\\rho_1*k_1**2*k_2*v_R**2/(\\alpha_1**2*k_1**4 + \\alpha_1**2*k_1**2*v_R**2 + 2*\\alpha_1*\\alpha_3*k_1**4 + 2*\\alpha_1*\\alpha_3*k_1**2*v_R**2 + \\alpha_3**2*k_1**4 + \\alpha_3**2*k_1**2*v_R**2 + 4*\\rho_1**2*k_1**2*v_R**2 + 4*\\rho_1**2*v_R**4) + 2*\\alpha_3**2*\\rho_1*k_1**2*k_2*v_R**2/(\\alpha_1**2*k_1**4 + \\alpha_1**2*k_1**2*v_R**2 + 2*\\alpha_1*\\alpha_3*k_1**4 + 2*\\alpha_1*\\alpha_3*k_1**2*v_R**2 + \\alpha_3**2*k_1**4 + \\alpha_3**2*k_1**2*v_R**2 + 4*\\rho_1**2*k_1**2*v_R**2 + 4*\\rho_1**2*v_R**4) + 8*\\lambda_2*\\rho_1**2*k_2*v_R**4/(\\alpha_1**2*k_1**4 + \\alpha_1**2*k_1**2*v_R**2 + 2*\\alpha_1*\\alpha_3*k_1**4 + 2*\\alpha_1*\\alpha_3*k_1**2*v_R**2 + \\alpha_3**2*k_1**4 + \\alpha_3**2*k_1**2*v_R**2 + 4*\\rho_1**2*k_1**2*v_R**2 + 4*\\rho_1**2*v_R**4) - 32*\\lambda_3*\\rho_1**2*k_2*v_R**4/(\\alpha_1**2*k_1**4 + \\alpha_1**2*k_1**2*v_R**2 + 2*\\alpha_1*\\alpha_3*k_1**4 + 2*\\alpha_1*\\alpha_3*k_1**2*v_R**2 + \\alpha_3**2*k_1**4 + \\alpha_3**2*k_1**2*v_R**2 + 4*\\rho_1**2*k_1**2*v_R**2 + 4*\\rho_1**2*v_R**4) - 8*\\lambda_5*\\rho_1**2*k_2*v_R**4/(\\alpha_1**2*k_1**4 + \\alpha_1**2*k_1**2*v_R**2 + 2*\\alpha_1*\\alpha_3*k_1**4 + 2*\\alpha_1*\\alpha_3*k_1**2*v_R**2 + \\alpha_3**2*k_1**4 + \\alpha_3**2*k_1**2*v_R**2 + 4*\\rho_1**2*k_1**2*v_R**2 + 4*\\rho_1**2*v_R**4) - 8*\\lambda_6*\\rho_1**2*k_2*v_R**4/(\\alpha_1**2*k_1**4 + \\alpha_1**2*k_1**2*v_R**2 + 2*\\alpha_1*\\alpha_3*k_1**4 + 2*\\alpha_1*\\alpha_3*k_1**2*v_R**2 + \\alpha_3**2*k_1**4 + \\alpha_3**2*k_1**2*v_R**2 + 4*\\rho_1**2*k_1**2*v_R**2 + 4*\\rho_1**2*v_R**4)\n",
      "Aproximation : \n",
      "This interaction is not present in the approximation\n",
      "Interaction: \n",
      "({{G_L^-}}, {{H_1^0}}, {{H_R^+}})\n",
      "coeff: \n",
      "-2*\\alpha_1*\\alpha_2*\\rho_1*k_1**2*k_2*v_R**2/(\\alpha_1**2*k_1**4 + \\alpha_1**2*k_1**2*v_R**2 + 2*\\alpha_1*\\alpha_3*k_1**4 + 2*\\alpha_1*\\alpha_3*k_1**2*v_R**2 + \\alpha_3**2*k_1**4 + \\alpha_3**2*k_1**2*v_R**2 + 4*\\rho_1**2*k_1**2*v_R**2 + 4*\\rho_1**2*v_R**4) + 2*\\alpha_1*\\alpha_3*\\rho_1*k_1**2*k_2*v_R**2/(\\alpha_1**2*k_1**4 + \\alpha_1**2*k_1**2*v_R**2 + 2*\\alpha_1*\\alpha_3*k_1**4 + 2*\\alpha_1*\\alpha_3*k_1**2*v_R**2 + \\alpha_3**2*k_1**4 + \\alpha_3**2*k_1**2*v_R**2 + 4*\\rho_1**2*k_1**2*v_R**2 + 4*\\rho_1**2*v_R**4) - 2*\\alpha_2*\\alpha_3*\\rho_1*k_1**2*k_2*v_R**2/(\\alpha_1**2*k_1**4 + \\alpha_1**2*k_1**2*v_R**2 + 2*\\alpha_1*\\alpha_3*k_1**4 + 2*\\alpha_1*\\alpha_3*k_1**2*v_R**2 + \\alpha_3**2*k_1**4 + \\alpha_3**2*k_1**2*v_R**2 + 4*\\rho_1**2*k_1**2*v_R**2 + 4*\\rho_1**2*v_R**4) + 2*\\alpha_3**2*\\rho_1*k_1**2*k_2*v_R**2/(\\alpha_1**2*k_1**4 + \\alpha_1**2*k_1**2*v_R**2 + 2*\\alpha_1*\\alpha_3*k_1**4 + 2*\\alpha_1*\\alpha_3*k_1**2*v_R**2 + \\alpha_3**2*k_1**4 + \\alpha_3**2*k_1**2*v_R**2 + 4*\\rho_1**2*k_1**2*v_R**2 + 4*\\rho_1**2*v_R**4) + 8*\\lambda_2*\\rho_1**2*k_2*v_R**4/(\\alpha_1**2*k_1**4 + \\alpha_1**2*k_1**2*v_R**2 + 2*\\alpha_1*\\alpha_3*k_1**4 + 2*\\alpha_1*\\alpha_3*k_1**2*v_R**2 + \\alpha_3**2*k_1**4 + \\alpha_3**2*k_1**2*v_R**2 + 4*\\rho_1**2*k_1**2*v_R**2 + 4*\\rho_1**2*v_R**4) - 32*\\lambda_3*\\rho_1**2*k_2*v_R**4/(\\alpha_1**2*k_1**4 + \\alpha_1**2*k_1**2*v_R**2 + 2*\\alpha_1*\\alpha_3*k_1**4 + 2*\\alpha_1*\\alpha_3*k_1**2*v_R**2 + \\alpha_3**2*k_1**4 + \\alpha_3**2*k_1**2*v_R**2 + 4*\\rho_1**2*k_1**2*v_R**2 + 4*\\rho_1**2*v_R**4) - 8*\\lambda_5*\\rho_1**2*k_2*v_R**4/(\\alpha_1**2*k_1**4 + \\alpha_1**2*k_1**2*v_R**2 + 2*\\alpha_1*\\alpha_3*k_1**4 + 2*\\alpha_1*\\alpha_3*k_1**2*v_R**2 + \\alpha_3**2*k_1**4 + \\alpha_3**2*k_1**2*v_R**2 + 4*\\rho_1**2*k_1**2*v_R**2 + 4*\\rho_1**2*v_R**4) - 8*\\lambda_6*\\rho_1**2*k_2*v_R**4/(\\alpha_1**2*k_1**4 + \\alpha_1**2*k_1**2*v_R**2 + 2*\\alpha_1*\\alpha_3*k_1**4 + 2*\\alpha_1*\\alpha_3*k_1**2*v_R**2 + \\alpha_3**2*k_1**4 + \\alpha_3**2*k_1**2*v_R**2 + 4*\\rho_1**2*k_1**2*v_R**2 + 4*\\rho_1**2*v_R**4)\n",
      "Aproximation : \n",
      "This interaction is not present in the approximation\n",
      "Interaction: \n",
      "({{G_L^+}}, {{G_R^-}}, {{H_1^0}})\n",
      "coeff: \n",
      "-2*\\alpha_1*\\alpha_2*\\rho_1*k_1*k_2*v_R**3/(\\alpha_1**2*k_1**4 + \\alpha_1**2*k_1**2*v_R**2 + 2*\\alpha_1*\\alpha_3*k_1**4 + 2*\\alpha_1*\\alpha_3*k_1**2*v_R**2 + \\alpha_3**2*k_1**4 + \\alpha_3**2*k_1**2*v_R**2 + 4*\\rho_1**2*k_1**2*v_R**2 + 4*\\rho_1**2*v_R**4) + 2*\\alpha_1*\\alpha_3*\\rho_1*k_1*k_2*v_R**3/(\\alpha_1**2*k_1**4 + \\alpha_1**2*k_1**2*v_R**2 + 2*\\alpha_1*\\alpha_3*k_1**4 + 2*\\alpha_1*\\alpha_3*k_1**2*v_R**2 + \\alpha_3**2*k_1**4 + \\alpha_3**2*k_1**2*v_R**2 + 4*\\rho_1**2*k_1**2*v_R**2 + 4*\\rho_1**2*v_R**4) - 2*\\alpha_2*\\alpha_3*\\rho_1*k_1*k_2*v_R**3/(\\alpha_1**2*k_1**4 + \\alpha_1**2*k_1**2*v_R**2 + 2*\\alpha_1*\\alpha_3*k_1**4 + 2*\\alpha_1*\\alpha_3*k_1**2*v_R**2 + \\alpha_3**2*k_1**4 + \\alpha_3**2*k_1**2*v_R**2 + 4*\\rho_1**2*k_1**2*v_R**2 + 4*\\rho_1**2*v_R**4) + 2*\\alpha_3**2*\\rho_1*k_1*k_2*v_R**3/(\\alpha_1**2*k_1**4 + \\alpha_1**2*k_1**2*v_R**2 + 2*\\alpha_1*\\alpha_3*k_1**4 + 2*\\alpha_1*\\alpha_3*k_1**2*v_R**2 + \\alpha_3**2*k_1**4 + \\alpha_3**2*k_1**2*v_R**2 + 4*\\rho_1**2*k_1**2*v_R**2 + 4*\\rho_1**2*v_R**4) - 8*\\lambda_2*\\rho_1**2*k_1*k_2*v_R**3/(\\alpha_1**2*k_1**4 + \\alpha_1**2*k_1**2*v_R**2 + 2*\\alpha_1*\\alpha_3*k_1**4 + 2*\\alpha_1*\\alpha_3*k_1**2*v_R**2 + \\alpha_3**2*k_1**4 + \\alpha_3**2*k_1**2*v_R**2 + 4*\\rho_1**2*k_1**2*v_R**2 + 4*\\rho_1**2*v_R**4) + 32*\\lambda_3*\\rho_1**2*k_1*k_2*v_R**3/(\\alpha_1**2*k_1**4 + \\alpha_1**2*k_1**2*v_R**2 + 2*\\alpha_1*\\alpha_3*k_1**4 + 2*\\alpha_1*\\alpha_3*k_1**2*v_R**2 + \\alpha_3**2*k_1**4 + \\alpha_3**2*k_1**2*v_R**2 + 4*\\rho_1**2*k_1**2*v_R**2 + 4*\\rho_1**2*v_R**4) + 8*\\lambda_5*\\rho_1**2*k_1*k_2*v_R**3/(\\alpha_1**2*k_1**4 + \\alpha_1**2*k_1**2*v_R**2 + 2*\\alpha_1*\\alpha_3*k_1**4 + 2*\\alpha_1*\\alpha_3*k_1**2*v_R**2 + \\alpha_3**2*k_1**4 + \\alpha_3**2*k_1**2*v_R**2 + 4*\\rho_1**2*k_1**2*v_R**2 + 4*\\rho_1**2*v_R**4) + 8*\\lambda_6*\\rho_1**2*k_1*k_2*v_R**3/(\\alpha_1**2*k_1**4 + \\alpha_1**2*k_1**2*v_R**2 + 2*\\alpha_1*\\alpha_3*k_1**4 + 2*\\alpha_1*\\alpha_3*k_1**2*v_R**2 + \\alpha_3**2*k_1**4 + \\alpha_3**2*k_1**2*v_R**2 + 4*\\rho_1**2*k_1**2*v_R**2 + 4*\\rho_1**2*v_R**4)\n",
      "Aproximation : \n",
      "This interaction is not present in the approximation\n",
      "Interaction: \n",
      "({{G_L^-}}, {{G_R^+}}, {{H_1^0}})\n",
      "coeff: \n",
      "-2*\\alpha_1*\\alpha_2*\\rho_1*k_1*k_2*v_R**3/(\\alpha_1**2*k_1**4 + \\alpha_1**2*k_1**2*v_R**2 + 2*\\alpha_1*\\alpha_3*k_1**4 + 2*\\alpha_1*\\alpha_3*k_1**2*v_R**2 + \\alpha_3**2*k_1**4 + \\alpha_3**2*k_1**2*v_R**2 + 4*\\rho_1**2*k_1**2*v_R**2 + 4*\\rho_1**2*v_R**4) + 2*\\alpha_1*\\alpha_3*\\rho_1*k_1*k_2*v_R**3/(\\alpha_1**2*k_1**4 + \\alpha_1**2*k_1**2*v_R**2 + 2*\\alpha_1*\\alpha_3*k_1**4 + 2*\\alpha_1*\\alpha_3*k_1**2*v_R**2 + \\alpha_3**2*k_1**4 + \\alpha_3**2*k_1**2*v_R**2 + 4*\\rho_1**2*k_1**2*v_R**2 + 4*\\rho_1**2*v_R**4) - 2*\\alpha_2*\\alpha_3*\\rho_1*k_1*k_2*v_R**3/(\\alpha_1**2*k_1**4 + \\alpha_1**2*k_1**2*v_R**2 + 2*\\alpha_1*\\alpha_3*k_1**4 + 2*\\alpha_1*\\alpha_3*k_1**2*v_R**2 + \\alpha_3**2*k_1**4 + \\alpha_3**2*k_1**2*v_R**2 + 4*\\rho_1**2*k_1**2*v_R**2 + 4*\\rho_1**2*v_R**4) + 2*\\alpha_3**2*\\rho_1*k_1*k_2*v_R**3/(\\alpha_1**2*k_1**4 + \\alpha_1**2*k_1**2*v_R**2 + 2*\\alpha_1*\\alpha_3*k_1**4 + 2*\\alpha_1*\\alpha_3*k_1**2*v_R**2 + \\alpha_3**2*k_1**4 + \\alpha_3**2*k_1**2*v_R**2 + 4*\\rho_1**2*k_1**2*v_R**2 + 4*\\rho_1**2*v_R**4) - 8*\\lambda_2*\\rho_1**2*k_1*k_2*v_R**3/(\\alpha_1**2*k_1**4 + \\alpha_1**2*k_1**2*v_R**2 + 2*\\alpha_1*\\alpha_3*k_1**4 + 2*\\alpha_1*\\alpha_3*k_1**2*v_R**2 + \\alpha_3**2*k_1**4 + \\alpha_3**2*k_1**2*v_R**2 + 4*\\rho_1**2*k_1**2*v_R**2 + 4*\\rho_1**2*v_R**4) + 32*\\lambda_3*\\rho_1**2*k_1*k_2*v_R**3/(\\alpha_1**2*k_1**4 + \\alpha_1**2*k_1**2*v_R**2 + 2*\\alpha_1*\\alpha_3*k_1**4 + 2*\\alpha_1*\\alpha_3*k_1**2*v_R**2 + \\alpha_3**2*k_1**4 + \\alpha_3**2*k_1**2*v_R**2 + 4*\\rho_1**2*k_1**2*v_R**2 + 4*\\rho_1**2*v_R**4) + 8*\\lambda_5*\\rho_1**2*k_1*k_2*v_R**3/(\\alpha_1**2*k_1**4 + \\alpha_1**2*k_1**2*v_R**2 + 2*\\alpha_1*\\alpha_3*k_1**4 + 2*\\alpha_1*\\alpha_3*k_1**2*v_R**2 + \\alpha_3**2*k_1**4 + \\alpha_3**2*k_1**2*v_R**2 + 4*\\rho_1**2*k_1**2*v_R**2 + 4*\\rho_1**2*v_R**4) + 8*\\lambda_6*\\rho_1**2*k_1*k_2*v_R**3/(\\alpha_1**2*k_1**4 + \\alpha_1**2*k_1**2*v_R**2 + 2*\\alpha_1*\\alpha_3*k_1**4 + 2*\\alpha_1*\\alpha_3*k_1**2*v_R**2 + \\alpha_3**2*k_1**4 + \\alpha_3**2*k_1**2*v_R**2 + 4*\\rho_1**2*k_1**2*v_R**2 + 4*\\rho_1**2*v_R**4)\n",
      "Aproximation : \n",
      "This interaction is not present in the approximation\n",
      "Interaction: \n",
      "({{A_2^0}}, {{A_2^0}}, {{H_1^0}})\n",
      "coeff: \n",
      "8*\\alpha_1*\\rho_1**2*k_1*v_R**2/(\\alpha_1**2*k_1**2 + 2*\\alpha_1*\\alpha_3*k_1**2 + \\alpha_3**2*k_1**2 + 4*\\rho_1**2*v_R**2) - 4*\\alpha_1*\\rho_1*\\rho_2*k_1*v_R**2/(\\alpha_1**2*k_1**2 + 2*\\alpha_1*\\alpha_3*k_1**2 + \\alpha_3**2*k_1**2 + 4*\\rho_1**2*v_R**2) + 8*\\alpha_3*\\rho_1**2*k_1*v_R**2/(\\alpha_1**2*k_1**2 + 2*\\alpha_1*\\alpha_3*k_1**2 + \\alpha_3**2*k_1**2 + 4*\\rho_1**2*v_R**2) - 4*\\alpha_3*\\rho_1*\\rho_2*k_1*v_R**2/(\\alpha_1**2*k_1**2 + 2*\\alpha_1*\\alpha_3*k_1**2 + \\alpha_3**2*k_1**2 + 4*\\rho_1**2*v_R**2)\n",
      "Aproximation : \n"
     ]
    },
    {
     "data": {
      "image/png": "[encoded data removed]",
      "text/latex": [
       "$\\displaystyle \\frac{k_{1} \\left(\\alpha_{1} + \\alpha_{3}\\right) \\left(2 \\rho_{1} - \\rho_{2}\\right)}{\\rho_{1}}$"
      ],
      "text/plain": [
       "k₁⋅(\\alpha₁ + \\alpha₃)⋅(2⋅\\rho₁ - \\rho₂)\n",
       "────────────────────────────────────────\n",
       "                 \\rho₁                  "
      ]
     },
     "metadata": {},
     "output_type": "display_data"
    },
    {
     "name": "stdout",
     "output_type": "stream",
     "text": [
      "Interaction: \n",
      "({{H_1^0}}, {{H_4^0}}, {{H_4^0}})\n",
      "coeff: \n",
      "8*\\alpha_1*\\rho_1**2*k_1*v_R**2/(\\alpha_1**2*k_1**2 + 2*\\alpha_1*\\alpha_3*k_1**2 + \\alpha_3**2*k_1**2 + 4*\\rho_1**2*v_R**2) - 4*\\alpha_1*\\rho_1*\\rho_2*k_1*v_R**2/(\\alpha_1**2*k_1**2 + 2*\\alpha_1*\\alpha_3*k_1**2 + \\alpha_3**2*k_1**2 + 4*\\rho_1**2*v_R**2) + 8*\\alpha_3*\\rho_1**2*k_1*v_R**2/(\\alpha_1**2*k_1**2 + 2*\\alpha_1*\\alpha_3*k_1**2 + \\alpha_3**2*k_1**2 + 4*\\rho_1**2*v_R**2) - 4*\\alpha_3*\\rho_1*\\rho_2*k_1*v_R**2/(\\alpha_1**2*k_1**2 + 2*\\alpha_1*\\alpha_3*k_1**2 + \\alpha_3**2*k_1**2 + 4*\\rho_1**2*v_R**2)\n",
      "Aproximation : \n"
     ]
    },
    {
     "data": {
      "image/png": "[encoded data removed]",
      "text/latex": [
       "$\\displaystyle \\frac{k_{1} \\left(\\alpha_{1} + \\alpha_{3}\\right) \\left(2 \\rho_{1} - \\rho_{2}\\right)}{\\rho_{1}}$"
      ],
      "text/plain": [
       "k₁⋅(\\alpha₁ + \\alpha₃)⋅(2⋅\\rho₁ - \\rho₂)\n",
       "────────────────────────────────────────\n",
       "                 \\rho₁                  "
      ]
     },
     "metadata": {},
     "output_type": "display_data"
    },
    {
     "name": "stdout",
     "output_type": "stream",
     "text": [
      "Interaction: \n",
      "({{H_1^0}}, {{H_L^+}}, {{H_L^-}})\n",
      "coeff: \n",
      "8*\\alpha_1*\\rho_1**2*k_1*v_R**2/(\\alpha_1**2*k_1**2 + 2*\\alpha_1*\\alpha_3*k_1**2 + \\alpha_3**2*k_1**2 + 4*\\rho_1**2*v_R**2) - 4*\\alpha_1*\\rho_1*\\rho_2*k_1*v_R**2/(\\alpha_1**2*k_1**2 + 2*\\alpha_1*\\alpha_3*k_1**2 + \\alpha_3**2*k_1**2 + 4*\\rho_1**2*v_R**2) + 8*\\alpha_2*\\rho_1**2*k_1*v_R**2/(\\alpha_1**2*k_1**2 + 2*\\alpha_1*\\alpha_3*k_1**2 + \\alpha_3**2*k_1**2 + 4*\\rho_1**2*v_R**2) - 4*\\alpha_3*\\rho_1*\\rho_2*k_1*v_R**2/(\\alpha_1**2*k_1**2 + 2*\\alpha_1*\\alpha_3*k_1**2 + \\alpha_3**2*k_1**2 + 4*\\rho_1**2*v_R**2)\n",
      "Aproximation : \n"
     ]
    },
    {
     "data": {
      "image/png": "[encoded data removed]",
      "text/latex": [
       "$\\displaystyle \\frac{k_{1} \\left(2 \\alpha_{1} \\rho_{1} - \\alpha_{1} \\rho_{2} + 2 \\alpha_{2} \\rho_{1} - \\alpha_{3} \\rho_{2}\\right)}{\\rho_{1}}$"
      ],
      "text/plain": [
       "k₁⋅(2⋅\\alpha₁⋅\\rho₁ - \\alpha₁⋅\\rho₂ + 2⋅\\alpha₂⋅\\rho₁ - \\alpha₃⋅\\rho₂)\n",
       "──────────────────────────────────────────────────────────────────────\n",
       "                                \\rho₁                                 "
      ]
     },
     "metadata": {},
     "output_type": "display_data"
    },
    {
     "name": "stdout",
     "output_type": "stream",
     "text": [
      "Interaction: \n",
      "({{G_L^+}}, {{H_1^0}}, {{H_L^-}})\n",
      "coeff: \n",
      "4*\\alpha_2*\\rho_1**2*v_L*v_R**2/(\\alpha_1**2*k_1**2 + 2*\\alpha_1*\\alpha_3*k_1**2 + \\alpha_3**2*k_1**2 + 4*\\rho_1**2*v_R**2) - 4*\\alpha_3*\\rho_1**2*v_L*v_R**2/(\\alpha_1**2*k_1**2 + 2*\\alpha_1*\\alpha_3*k_1**2 + \\alpha_3**2*k_1**2 + 4*\\rho_1**2*v_R**2)\n",
      "Aproximation : \n",
      "This interaction is not present in the approximation\n",
      "Interaction: \n",
      "({{G_L^-}}, {{H_1^0}}, {{H_L^+}})\n",
      "coeff: \n",
      "4*\\alpha_2*\\rho_1**2*v_L*v_R**2/(\\alpha_1**2*k_1**2 + 2*\\alpha_1*\\alpha_3*k_1**2 + \\alpha_3**2*k_1**2 + 4*\\rho_1**2*v_R**2) - 4*\\alpha_3*\\rho_1**2*v_L*v_R**2/(\\alpha_1**2*k_1**2 + 2*\\alpha_1*\\alpha_3*k_1**2 + \\alpha_3**2*k_1**2 + 4*\\rho_1**2*v_R**2)\n",
      "Aproximation : \n",
      "This interaction is not present in the approximation\n",
      "Interaction: \n",
      "({{A_1^0}}, {{G_{Z_1}}}, {{H_1^0}})\n",
      "coeff: \n",
      "-64*\\lambda_3*\\rho_1**2*k_2*v_R**2/(\\alpha_1**2*k_1**2 + 2*\\alpha_1*\\alpha_3*k_1**2 + \\alpha_3**2*k_1**2 + 4*\\rho_1**2*v_R**2) - 64*\\lambda_4*\\rho_1**2*k_2*v_R**2/(\\alpha_1**2*k_1**2 + 2*\\alpha_1*\\alpha_3*k_1**2 + \\alpha_3**2*k_1**2 + 4*\\rho_1**2*v_R**2) - 32*\\lambda_6*\\rho_1**2*k_2*v_R**2/(\\alpha_1**2*k_1**2 + 2*\\alpha_1*\\alpha_3*k_1**2 + \\alpha_3**2*k_1**2 + 4*\\rho_1**2*v_R**2)\n",
      "Aproximation : \n",
      "This interaction is not present in the approximation\n"
     ]
    }
   ],
   "source": [
    "for interaction, coeff in interactions_scalars[3].items():\n",
    "    if H10 in interaction:\n",
    "        print('Interaction: ')\n",
    "        print(interaction)\n",
    "        print('coeff: ')\n",
    "        print(coeff)\n",
    "        try:\n",
    "            print('Aproximation : ')\n",
    "            display(interactions_scalars_approx[3][interaction].subs(k1, epsilon*vR).series(\n",
    "                epsilon, 0, 2\n",
    "            ).removeO().subs(epsilon, k1/vR).factor())\n",
    "        except:\n",
    "            print('This interaction is not present in the approximation')"
   ]
  },
  {
   "cell_type": "code",
   "execution_count": 108,
   "metadata": {},
   "outputs": [
    {
     "name": "stdout",
     "output_type": "stream",
     "text": [
      "({{G_R^+}}, {{G_R^-}}, {{H_1^0}})\n",
      "({{G_L^-}}, {{G_R^+}}, {{H_1^0}})\n",
      "({{G_R^+}}, {{H_1^0}}, {{H_L^-}})\n",
      "({{G_R^+}}, {{H_1^0}}, {{H_R^-}})\n",
      "({{G_L^+}}, {{G_R^-}}, {{H_1^0}})\n",
      "({{G_L^+}}, {{G_L^-}}, {{H_1^0}})\n",
      "({{G_L^+}}, {{H_1^0}}, {{H_L^-}})\n",
      "({{G_L^+}}, {{H_1^0}}, {{H_R^-}})\n",
      "({{G_R^-}}, {{H_1^0}}, {{H_L^+}})\n",
      "({{G_L^-}}, {{H_1^0}}, {{H_L^+}})\n",
      "({{H_1^0}}, {{H_L^+}}, {{H_L^-}})\n",
      "({{H_1^0}}, {{H_L^+}}, {{H_R^-}})\n",
      "({{G_R^-}}, {{H_1^0}}, {{H_R^+}})\n",
      "({{G_L^-}}, {{H_1^0}}, {{H_R^+}})\n",
      "({{H_1^0}}, {{H_L^-}}, {{H_R^+}})\n",
      "({{H_1^0}}, {{H_R^+}}, {{H_R^-}})\n"
     ]
    }
   ],
   "source": [
    "interactionsH10_SS = []\n",
    "for Xp in [GRp, GLp, HLp, HRp]:\n",
    "    for Xm in [GRm, GLm, HLm, HRm]:\n",
    "        fields = tuple(sorted({H10, Xp, Xm}, key=lambda x: str(x)))\n",
    "        if fields not in interactionsH10_SS:\n",
    "            print(fields)\n",
    "            interactionsH10_SS.append(fields)"
   ]
  },
  {
   "cell_type": "code",
   "execution_count": 109,
   "metadata": {},
   "outputs": [
    {
     "name": "stdout",
     "output_type": "stream",
     "text": [
      "Interaction ({{G_R^+}}, {{H_1^0}}, {{H_L^-}}) does not appear in this lagrangian\n",
      "Interaction ({{G_R^-}}, {{H_1^0}}, {{H_L^+}}) does not appear in this lagrangian\n",
      "Interaction ({{H_1^0}}, {{H_L^+}}, {{H_R^-}}) does not appear in this lagrangian\n",
      "Interaction ({{H_1^0}}, {{H_L^-}}, {{H_R^+}}) does not appear in this lagrangian\n"
     ]
    }
   ],
   "source": [
    "interactionsH10_SS_dict = {}\n",
    "for interaction in interactionsH10_SS:\n",
    "    try:\n",
    "        interactionsH10_SS_dict[interaction] = interactions_scalars[3][interaction]\n",
    "    except:\n",
    "        print(f'Interaction {interaction} does not appear in this lagrangian')\n"
   ]
  },
  {
   "cell_type": "code",
   "execution_count": 110,
   "metadata": {},
   "outputs": [],
   "source": [
    "from potential_senjanovic_HiggsDoublets import rho1\n",
    "def factor_fraction_vR(expr):\n",
    "    \"\"\"\n",
    "    Factorizes both the numerator and denominator of a given expression.\n",
    "    \n",
    "    Parameters:\n",
    "    expr (sympy expression): The input expression to be factorized.\n",
    "    \n",
    "    Returns:\n",
    "    sympy expression: The fully factorized expression.\n",
    "    \"\"\"\n",
    "    # Separate numerator and denominator\n",
    "    numerator, denominator = fraction(expr)\n",
    "    numerator = numerator.collect(vR, lambda x:x.collect([rho1], lambda x:x.factor(deep=True)))\n",
    "    denominator = denominator.collect(vR, lambda x:x.factor(deep=True))\n",
    "    \n",
    "    # Factorize both\n",
    "    factored_expr = numerator / denominator\n",
    "    \n",
    "    return factored_expr"
   ]
  },
  {
   "cell_type": "code",
   "execution_count": 111,
   "metadata": {},
   "outputs": [
    {
     "name": "stdout",
     "output_type": "stream",
     "text": [
      "Interaction: \n"
     ]
    },
    {
     "data": {
      "image/png": "[encoded data removed]",
      "text/latex": [
       "$\\displaystyle {{G_R^+}} {{G_R^-}} {{H_1^0}}$"
      ],
      "text/plain": [
       "{{G_R__+}}⋅{{G_R__-}}⋅{{H_1__0}}"
      ]
     },
     "metadata": {},
     "output_type": "display_data"
    },
    {
     "name": "stdout",
     "output_type": "stream",
     "text": [
      "Coefficient: \n"
     ]
    },
    {
     "data": {
      "image/png": "[encoded data removed]",
      "text/latex": [
       "$\\displaystyle - \\frac{4 \\rho_{1} k_{1}^{3} v_{R}^{4} \\left(- 4 \\rho_{1} \\left(\\lambda_{1} + \\lambda_{2}\\right) + \\left(\\alpha_{1} + \\alpha_{3}\\right)^{2}\\right)}{\\left(k_{1}^{2} + v_{R}^{2}\\right)^{2} \\left(4 \\rho_{1}^{2} v_{R}^{2} + k_{1}^{2} \\left(\\alpha_{1} + \\alpha_{3}\\right)^{2}\\right)}$"
      ],
      "text/plain": [
       "           3    4 ⎛                                                    2⎞ \n",
       "-4⋅\\rho₁⋅k₁ ⋅v_R ⋅⎝-4⋅\\rho₁⋅(\\lambda₁ + \\lambda₂) + (\\alpha₁ + \\alpha₃) ⎠ \n",
       "──────────────────────────────────────────────────────────────────────────\n",
       "                     2                                                    \n",
       "         ⎛  2      2⎞  ⎛       2    2     2                    2⎞         \n",
       "         ⎝k₁  + v_R ⎠ ⋅⎝4⋅\\rho₁ ⋅v_R  + k₁ ⋅(\\alpha₁ + \\alpha₃) ⎠         "
      ]
     },
     "metadata": {},
     "output_type": "display_data"
    },
    {
     "name": "stdout",
     "output_type": "stream",
     "text": [
      "Coefficient approximation: \n"
     ]
    },
    {
     "data": {
      "image/png": "[encoded data removed]",
      "text/latex": [
       "$\\displaystyle 0$"
      ],
      "text/plain": [
       "0"
      ]
     },
     "metadata": {},
     "output_type": "display_data"
    },
    {
     "name": "stdout",
     "output_type": "stream",
     "text": [
      "Interaction: \n"
     ]
    },
    {
     "data": {
      "image/png": "[encoded data removed]",
      "text/latex": [
       "$\\displaystyle {{G_L^-}} {{G_R^+}} {{H_1^0}}$"
      ],
      "text/plain": [
       "{{G_L__-}}⋅{{G_R__+}}⋅{{H_1__0}}"
      ]
     },
     "metadata": {},
     "output_type": "display_data"
    },
    {
     "name": "stdout",
     "output_type": "stream",
     "text": [
      "Coefficient: \n"
     ]
    },
    {
     "data": {
      "image/png": "[encoded data removed]",
      "text/latex": [
       "$\\displaystyle - \\frac{2 \\rho_{1} k_{1} k_{2} v_{R}^{3} \\left(4 \\rho_{1} \\left(\\lambda_{2} - 4 \\lambda_{3} - \\lambda_{5} - \\lambda_{6}\\right) + \\left(\\alpha_{1} + \\alpha_{3}\\right) \\left(\\alpha_{2} - \\alpha_{3}\\right)\\right)}{\\left(k_{1}^{2} + v_{R}^{2}\\right) \\left(4 \\rho_{1}^{2} v_{R}^{2} + k_{1}^{2} \\left(\\alpha_{1} + \\alpha_{3}\\right)^{2}\\right)}$"
      ],
      "text/plain": [
       "                  3                                                            ↪\n",
       "-2⋅\\rho₁⋅k₁⋅k₂⋅v_R ⋅(4⋅\\rho₁⋅(\\lambda₂ - 4⋅\\lambda₃ - \\lambda₅ - \\lambda₆) + ( ↪\n",
       "────────────────────────────────────────────────────────────────────────────── ↪\n",
       "                               ⎛  2      2⎞ ⎛       2    2     2               ↪\n",
       "                               ⎝k₁  + v_R ⎠⋅⎝4⋅\\rho₁ ⋅v_R  + k₁ ⋅(\\alpha₁ + \\a ↪\n",
       "\n",
       "↪                                         \n",
       "↪ \\alpha₁ + \\alpha₃)⋅(\\alpha₂ - \\alpha₃)) \n",
       "↪ ────────────────────────────────────────\n",
       "↪       2⎞                                \n",
       "↪ lpha₃) ⎠                                "
      ]
     },
     "metadata": {},
     "output_type": "display_data"
    },
    {
     "name": "stdout",
     "output_type": "stream",
     "text": [
      "Coefficient approximation: \n",
      "This interaction is not present in the approximation\n",
      "Interaction: \n"
     ]
    },
    {
     "data": {
      "image/png": "[encoded data removed]",
      "text/latex": [
       "$\\displaystyle {{G_R^+}} {{H_1^0}} {{H_R^-}}$"
      ],
      "text/plain": [
       "{{G_R__+}}⋅{{H_1__0}}⋅{{H_R__-}}"
      ]
     },
     "metadata": {},
     "output_type": "display_data"
    },
    {
     "name": "stdout",
     "output_type": "stream",
     "text": [
      "Coefficient: \n"
     ]
    },
    {
     "data": {
      "image/png": "[encoded data removed]",
      "text/latex": [
       "$\\displaystyle \\frac{2 \\rho_{1} v_{R}^{3} \\left(2 \\rho_{1} v_{R}^{4} \\left(\\alpha_{2} - \\alpha_{3}\\right) + k_{1}^{4} \\left(\\alpha_{1} + \\alpha_{3}\\right) \\left(\\alpha_{2} - \\alpha_{3}\\right) + v_{R}^{2} \\left(2 \\rho_{1} k_{1}^{2} \\left(\\alpha_{2} - \\alpha_{3} - 4 \\lambda_{1} - 4 \\lambda_{2}\\right) + k_{1}^{2} \\left(\\alpha_{1} + \\alpha_{3}\\right) \\left(2 \\alpha_{1} + \\alpha_{2} + \\alpha_{3}\\right)\\right)\\right)}{\\left(k_{1}^{2} + v_{R}^{2}\\right)^{2} \\left(4 \\rho_{1}^{2} v_{R}^{2} + k_{1}^{2} \\left(\\alpha_{1} + \\alpha_{3}\\right)^{2}\\right)}$"
      ],
      "text/plain": [
       "           3 ⎛           4                         4                           ↪\n",
       "2⋅\\rho₁⋅v_R ⋅⎝2⋅\\rho₁⋅v_R ⋅(\\alpha₂ - \\alpha₃) + k₁ ⋅(\\alpha₁ + \\alpha₃)⋅(\\alp ↪\n",
       "────────────────────────────────────────────────────────────────────────────── ↪\n",
       "                                                                               ↪\n",
       "                                                                               ↪\n",
       "                                                                               ↪\n",
       "\n",
       "↪                     2 ⎛          2                                           ↪\n",
       "↪ ha₂ - \\alpha₃) + v_R ⋅⎝2⋅\\rho₁⋅k₁ ⋅(\\alpha₂ - \\alpha₃ - 4⋅\\lambda₁ - 4⋅\\lamb ↪\n",
       "↪ ──────────────────────────────────────────────────────────────────────────── ↪\n",
       "↪                2                                                             ↪\n",
       "↪    ⎛  2      2⎞  ⎛       2    2     2                    2⎞                  ↪\n",
       "↪    ⎝k₁  + v_R ⎠ ⋅⎝4⋅\\rho₁ ⋅v_R  + k₁ ⋅(\\alpha₁ + \\alpha₃) ⎠                  ↪\n",
       "\n",
       "↪          2                                                    ⎞⎞\n",
       "↪ da₂) + k₁ ⋅(\\alpha₁ + \\alpha₃)⋅(2⋅\\alpha₁ + \\alpha₂ + \\alpha₃)⎠⎠\n",
       "↪ ────────────────────────────────────────────────────────────────\n",
       "↪                                                                 \n",
       "↪                                                                 \n",
       "↪                                                                 "
      ]
     },
     "metadata": {},
     "output_type": "display_data"
    },
    {
     "name": "stdout",
     "output_type": "stream",
     "text": [
      "Coefficient approximation: \n"
     ]
    },
    {
     "data": {
      "image/png": "[encoded data removed]",
      "text/latex": [
       "$\\displaystyle v_{R} \\left(\\alpha_{2} - \\alpha_{3}\\right)$"
      ],
      "text/plain": [
       "v_R⋅(\\alpha₂ - \\alpha₃)"
      ]
     },
     "metadata": {},
     "output_type": "display_data"
    },
    {
     "name": "stdout",
     "output_type": "stream",
     "text": [
      "Interaction: \n"
     ]
    },
    {
     "data": {
      "image/png": "[encoded data removed]",
      "text/latex": [
       "$\\displaystyle {{G_L^+}} {{G_R^-}} {{H_1^0}}$"
      ],
      "text/plain": [
       "{{G_L__+}}⋅{{G_R__-}}⋅{{H_1__0}}"
      ]
     },
     "metadata": {},
     "output_type": "display_data"
    },
    {
     "name": "stdout",
     "output_type": "stream",
     "text": [
      "Coefficient: \n"
     ]
    },
    {
     "data": {
      "image/png": "[encoded data removed]",
      "text/latex": [
       "$\\displaystyle - \\frac{2 \\rho_{1} k_{1} k_{2} v_{R}^{3} \\left(4 \\rho_{1} \\left(\\lambda_{2} - 4 \\lambda_{3} - \\lambda_{5} - \\lambda_{6}\\right) + \\left(\\alpha_{1} + \\alpha_{3}\\right) \\left(\\alpha_{2} - \\alpha_{3}\\right)\\right)}{\\left(k_{1}^{2} + v_{R}^{2}\\right) \\left(4 \\rho_{1}^{2} v_{R}^{2} + k_{1}^{2} \\left(\\alpha_{1} + \\alpha_{3}\\right)^{2}\\right)}$"
      ],
      "text/plain": [
       "                  3                                                            ↪\n",
       "-2⋅\\rho₁⋅k₁⋅k₂⋅v_R ⋅(4⋅\\rho₁⋅(\\lambda₂ - 4⋅\\lambda₃ - \\lambda₅ - \\lambda₆) + ( ↪\n",
       "────────────────────────────────────────────────────────────────────────────── ↪\n",
       "                               ⎛  2      2⎞ ⎛       2    2     2               ↪\n",
       "                               ⎝k₁  + v_R ⎠⋅⎝4⋅\\rho₁ ⋅v_R  + k₁ ⋅(\\alpha₁ + \\a ↪\n",
       "\n",
       "↪                                         \n",
       "↪ \\alpha₁ + \\alpha₃)⋅(\\alpha₂ - \\alpha₃)) \n",
       "↪ ────────────────────────────────────────\n",
       "↪       2⎞                                \n",
       "↪ lpha₃) ⎠                                "
      ]
     },
     "metadata": {},
     "output_type": "display_data"
    },
    {
     "name": "stdout",
     "output_type": "stream",
     "text": [
      "Coefficient approximation: \n",
      "This interaction is not present in the approximation\n",
      "Interaction: \n"
     ]
    },
    {
     "data": {
      "image/png": "[encoded data removed]",
      "text/latex": [
       "$\\displaystyle {{G_L^+}} {{G_L^-}} {{H_1^0}}$"
      ],
      "text/plain": [
       "{{G_L__+}}⋅{{G_L__-}}⋅{{H_1__0}}"
      ]
     },
     "metadata": {},
     "output_type": "display_data"
    },
    {
     "name": "stdout",
     "output_type": "stream",
     "text": [
      "Coefficient: \n"
     ]
    },
    {
     "data": {
      "image/png": "[encoded data removed]",
      "text/latex": [
       "$\\displaystyle - \\frac{4 \\rho_{1} k_{1} v_{R}^{2} \\left(- 4 \\rho_{1} \\left(\\lambda_{1} + \\lambda_{2}\\right) + \\left(\\alpha_{1} + \\alpha_{3}\\right)^{2}\\right)}{4 \\rho_{1}^{2} v_{R}^{2} + k_{1}^{2} \\left(\\alpha_{1} + \\alpha_{3}\\right)^{2}}$"
      ],
      "text/plain": [
       "               2 ⎛                                                    2⎞ \n",
       "-4⋅\\rho₁⋅k₁⋅v_R ⋅⎝-4⋅\\rho₁⋅(\\lambda₁ + \\lambda₂) + (\\alpha₁ + \\alpha₃) ⎠ \n",
       "─────────────────────────────────────────────────────────────────────────\n",
       "                       2    2     2                    2                 \n",
       "                4⋅\\rho₁ ⋅v_R  + k₁ ⋅(\\alpha₁ + \\alpha₃)                  "
      ]
     },
     "metadata": {},
     "output_type": "display_data"
    },
    {
     "name": "stdout",
     "output_type": "stream",
     "text": [
      "Coefficient approximation: \n"
     ]
    },
    {
     "data": {
      "image/png": "[encoded data removed]",
      "text/latex": [
       "$\\displaystyle - \\frac{k_{1} \\left(- 4 \\rho_{1} \\left(\\lambda_{1} + \\lambda_{2}\\right) + \\left(\\alpha_{1} + \\alpha_{3}\\right)^{2}\\right)}{\\rho_{1}}$"
      ],
      "text/plain": [
       "    ⎛                                                    2⎞ \n",
       "-k₁⋅⎝-4⋅\\rho₁⋅(\\lambda₁ + \\lambda₂) + (\\alpha₁ + \\alpha₃) ⎠ \n",
       "────────────────────────────────────────────────────────────\n",
       "                           \\rho₁                            "
      ]
     },
     "metadata": {},
     "output_type": "display_data"
    },
    {
     "name": "stdout",
     "output_type": "stream",
     "text": [
      "Interaction: \n"
     ]
    },
    {
     "data": {
      "image/png": "[encoded data removed]",
      "text/latex": [
       "$\\displaystyle {{G_L^+}} {{H_1^0}} {{H_L^-}}$"
      ],
      "text/plain": [
       "{{G_L__+}}⋅{{H_1__0}}⋅{{H_L__-}}"
      ]
     },
     "metadata": {},
     "output_type": "display_data"
    },
    {
     "name": "stdout",
     "output_type": "stream",
     "text": [
      "Coefficient: \n"
     ]
    },
    {
     "data": {
      "image/png": "[encoded data removed]",
      "text/latex": [
       "$\\displaystyle \\frac{4 \\rho_{1}^{2} v_{L} v_{R}^{2} \\left(\\alpha_{2} - \\alpha_{3}\\right)}{4 \\rho_{1}^{2} v_{R}^{2} + k_{1}^{2} \\left(\\alpha_{1} + \\alpha_{3}\\right)^{2}}$"
      ],
      "text/plain": [
       "        2        2                      \n",
       " 4⋅\\rho₁ ⋅v_L⋅v_R ⋅(\\alpha₂ - \\alpha₃)  \n",
       "────────────────────────────────────────\n",
       "       2    2     2                    2\n",
       "4⋅\\rho₁ ⋅v_R  + k₁ ⋅(\\alpha₁ + \\alpha₃) "
      ]
     },
     "metadata": {},
     "output_type": "display_data"
    },
    {
     "name": "stdout",
     "output_type": "stream",
     "text": [
      "Coefficient approximation: \n",
      "This interaction is not present in the approximation\n",
      "Interaction: \n"
     ]
    },
    {
     "data": {
      "image/png": "[encoded data removed]",
      "text/latex": [
       "$\\displaystyle {{G_L^+}} {{H_1^0}} {{H_R^-}}$"
      ],
      "text/plain": [
       "{{G_L__+}}⋅{{H_1__0}}⋅{{H_R__-}}"
      ]
     },
     "metadata": {},
     "output_type": "display_data"
    },
    {
     "name": "stdout",
     "output_type": "stream",
     "text": [
      "Coefficient: \n"
     ]
    },
    {
     "data": {
      "image/png": "[encoded data removed]",
      "text/latex": [
       "$\\displaystyle - \\frac{2 \\rho_{1} k_{2} v_{R}^{2} \\left(- 4 \\rho_{1} v_{R}^{2} \\left(\\lambda_{2} - 4 \\lambda_{3} - \\lambda_{5} - \\lambda_{6}\\right) + k_{1}^{2} \\left(\\alpha_{1} + \\alpha_{3}\\right) \\left(\\alpha_{2} - \\alpha_{3}\\right)\\right)}{\\left(k_{1}^{2} + v_{R}^{2}\\right) \\left(4 \\rho_{1}^{2} v_{R}^{2} + k_{1}^{2} \\left(\\alpha_{1} + \\alpha_{3}\\right)^{2}\\right)}$"
      ],
      "text/plain": [
       "               2 ⎛             2                                               ↪\n",
       "-2⋅\\rho₁⋅k₂⋅v_R ⋅⎝- 4⋅\\rho₁⋅v_R ⋅(\\lambda₂ - 4⋅\\lambda₃ - \\lambda₅ - \\lambda₆) ↪\n",
       "────────────────────────────────────────────────────────────────────────────── ↪\n",
       "                                   ⎛  2      2⎞ ⎛       2    2     2           ↪\n",
       "                                   ⎝k₁  + v_R ⎠⋅⎝4⋅\\rho₁ ⋅v_R  + k₁ ⋅(\\alpha₁  ↪\n",
       "\n",
       "↪      2                                        ⎞ \n",
       "↪  + k₁ ⋅(\\alpha₁ + \\alpha₃)⋅(\\alpha₂ - \\alpha₃)⎠ \n",
       "↪ ────────────────────────────────────────────────\n",
       "↪           2⎞                                    \n",
       "↪ + \\alpha₃) ⎠                                    "
      ]
     },
     "metadata": {},
     "output_type": "display_data"
    },
    {
     "name": "stdout",
     "output_type": "stream",
     "text": [
      "Coefficient approximation: \n",
      "This interaction is not present in the approximation\n",
      "Interaction: \n"
     ]
    },
    {
     "data": {
      "image/png": "[encoded data removed]",
      "text/latex": [
       "$\\displaystyle {{G_L^-}} {{H_1^0}} {{H_L^+}}$"
      ],
      "text/plain": [
       "{{G_L__-}}⋅{{H_1__0}}⋅{{H_L__+}}"
      ]
     },
     "metadata": {},
     "output_type": "display_data"
    },
    {
     "name": "stdout",
     "output_type": "stream",
     "text": [
      "Coefficient: \n"
     ]
    },
    {
     "data": {
      "image/png": "[encoded data removed]",
      "text/latex": [
       "$\\displaystyle \\frac{4 \\rho_{1}^{2} v_{L} v_{R}^{2} \\left(\\alpha_{2} - \\alpha_{3}\\right)}{4 \\rho_{1}^{2} v_{R}^{2} + k_{1}^{2} \\left(\\alpha_{1} + \\alpha_{3}\\right)^{2}}$"
      ],
      "text/plain": [
       "        2        2                      \n",
       " 4⋅\\rho₁ ⋅v_L⋅v_R ⋅(\\alpha₂ - \\alpha₃)  \n",
       "────────────────────────────────────────\n",
       "       2    2     2                    2\n",
       "4⋅\\rho₁ ⋅v_R  + k₁ ⋅(\\alpha₁ + \\alpha₃) "
      ]
     },
     "metadata": {},
     "output_type": "display_data"
    },
    {
     "name": "stdout",
     "output_type": "stream",
     "text": [
      "Coefficient approximation: \n",
      "This interaction is not present in the approximation\n",
      "Interaction: \n"
     ]
    },
    {
     "data": {
      "image/png": "[encoded data removed]",
      "text/latex": [
       "$\\displaystyle {{H_1^0}} {{H_L^+}} {{H_L^-}}$"
      ],
      "text/plain": [
       "{{H_1__0}}⋅{{H_L__+}}⋅{{H_L__-}}"
      ]
     },
     "metadata": {},
     "output_type": "display_data"
    },
    {
     "name": "stdout",
     "output_type": "stream",
     "text": [
      "Coefficient: \n"
     ]
    },
    {
     "data": {
      "image/png": "[encoded data removed]",
      "text/latex": [
       "$\\displaystyle \\frac{4 \\rho_{1} k_{1} v_{R}^{2} \\left(2 \\rho_{1} \\left(\\alpha_{1} + \\alpha_{2}\\right) - \\rho_{2} \\left(\\alpha_{1} + \\alpha_{3}\\right)\\right)}{4 \\rho_{1}^{2} v_{R}^{2} + k_{1}^{2} \\left(\\alpha_{1} + \\alpha_{3}\\right)^{2}}$"
      ],
      "text/plain": [
       "              2                                                          \n",
       "4⋅\\rho₁⋅k₁⋅v_R ⋅(2⋅\\rho₁⋅(\\alpha₁ + \\alpha₂) - \\rho₂⋅(\\alpha₁ + \\alpha₃))\n",
       "─────────────────────────────────────────────────────────────────────────\n",
       "                       2    2     2                    2                 \n",
       "                4⋅\\rho₁ ⋅v_R  + k₁ ⋅(\\alpha₁ + \\alpha₃)                  "
      ]
     },
     "metadata": {},
     "output_type": "display_data"
    },
    {
     "name": "stdout",
     "output_type": "stream",
     "text": [
      "Coefficient approximation: \n"
     ]
    },
    {
     "data": {
      "image/png": "[encoded data removed]",
      "text/latex": [
       "$\\displaystyle \\frac{k_{1} \\left(2 \\rho_{1} \\left(\\alpha_{1} + \\alpha_{2}\\right) - \\rho_{2} \\left(\\alpha_{1} + \\alpha_{3}\\right)\\right)}{\\rho_{1}}$"
      ],
      "text/plain": [
       "k₁⋅(2⋅\\rho₁⋅(\\alpha₁ + \\alpha₂) - \\rho₂⋅(\\alpha₁ + \\alpha₃))\n",
       "────────────────────────────────────────────────────────────\n",
       "                           \\rho₁                            "
      ]
     },
     "metadata": {},
     "output_type": "display_data"
    },
    {
     "name": "stdout",
     "output_type": "stream",
     "text": [
      "Interaction: \n"
     ]
    },
    {
     "data": {
      "image/png": "[encoded data removed]",
      "text/latex": [
       "$\\displaystyle {{G_R^-}} {{H_1^0}} {{H_R^+}}$"
      ],
      "text/plain": [
       "{{G_R__-}}⋅{{H_1__0}}⋅{{H_R__+}}"
      ]
     },
     "metadata": {},
     "output_type": "display_data"
    },
    {
     "name": "stdout",
     "output_type": "stream",
     "text": [
      "Coefficient: \n"
     ]
    },
    {
     "data": {
      "image/png": "[encoded data removed]",
      "text/latex": [
       "$\\displaystyle \\frac{2 \\rho_{1} v_{R}^{3} \\left(2 \\rho_{1} v_{R}^{4} \\left(\\alpha_{2} - \\alpha_{3}\\right) + k_{1}^{4} \\left(\\alpha_{1} + \\alpha_{3}\\right) \\left(\\alpha_{2} - \\alpha_{3}\\right) + v_{R}^{2} \\left(2 \\rho_{1} k_{1}^{2} \\left(\\alpha_{2} - \\alpha_{3} - 4 \\lambda_{1} - 4 \\lambda_{2}\\right) + k_{1}^{2} \\left(\\alpha_{1} + \\alpha_{3}\\right) \\left(2 \\alpha_{1} + \\alpha_{2} + \\alpha_{3}\\right)\\right)\\right)}{\\left(k_{1}^{2} + v_{R}^{2}\\right)^{2} \\left(4 \\rho_{1}^{2} v_{R}^{2} + k_{1}^{2} \\left(\\alpha_{1} + \\alpha_{3}\\right)^{2}\\right)}$"
      ],
      "text/plain": [
       "           3 ⎛           4                         4                           ↪\n",
       "2⋅\\rho₁⋅v_R ⋅⎝2⋅\\rho₁⋅v_R ⋅(\\alpha₂ - \\alpha₃) + k₁ ⋅(\\alpha₁ + \\alpha₃)⋅(\\alp ↪\n",
       "────────────────────────────────────────────────────────────────────────────── ↪\n",
       "                                                                               ↪\n",
       "                                                                               ↪\n",
       "                                                                               ↪\n",
       "\n",
       "↪                     2 ⎛          2                                           ↪\n",
       "↪ ha₂ - \\alpha₃) + v_R ⋅⎝2⋅\\rho₁⋅k₁ ⋅(\\alpha₂ - \\alpha₃ - 4⋅\\lambda₁ - 4⋅\\lamb ↪\n",
       "↪ ──────────────────────────────────────────────────────────────────────────── ↪\n",
       "↪                2                                                             ↪\n",
       "↪    ⎛  2      2⎞  ⎛       2    2     2                    2⎞                  ↪\n",
       "↪    ⎝k₁  + v_R ⎠ ⋅⎝4⋅\\rho₁ ⋅v_R  + k₁ ⋅(\\alpha₁ + \\alpha₃) ⎠                  ↪\n",
       "\n",
       "↪          2                                                    ⎞⎞\n",
       "↪ da₂) + k₁ ⋅(\\alpha₁ + \\alpha₃)⋅(2⋅\\alpha₁ + \\alpha₂ + \\alpha₃)⎠⎠\n",
       "↪ ────────────────────────────────────────────────────────────────\n",
       "↪                                                                 \n",
       "↪                                                                 \n",
       "↪                                                                 "
      ]
     },
     "metadata": {},
     "output_type": "display_data"
    },
    {
     "name": "stdout",
     "output_type": "stream",
     "text": [
      "Coefficient approximation: \n"
     ]
    },
    {
     "data": {
      "image/png": "[encoded data removed]",
      "text/latex": [
       "$\\displaystyle v_{R} \\left(\\alpha_{2} - \\alpha_{3}\\right)$"
      ],
      "text/plain": [
       "v_R⋅(\\alpha₂ - \\alpha₃)"
      ]
     },
     "metadata": {},
     "output_type": "display_data"
    },
    {
     "name": "stdout",
     "output_type": "stream",
     "text": [
      "Interaction: \n"
     ]
    },
    {
     "data": {
      "image/png": "[encoded data removed]",
      "text/latex": [
       "$\\displaystyle {{G_L^-}} {{H_1^0}} {{H_R^+}}$"
      ],
      "text/plain": [
       "{{G_L__-}}⋅{{H_1__0}}⋅{{H_R__+}}"
      ]
     },
     "metadata": {},
     "output_type": "display_data"
    },
    {
     "name": "stdout",
     "output_type": "stream",
     "text": [
      "Coefficient: \n"
     ]
    },
    {
     "data": {
      "image/png": "[encoded data removed]",
      "text/latex": [
       "$\\displaystyle - \\frac{2 \\rho_{1} k_{2} v_{R}^{2} \\left(- 4 \\rho_{1} v_{R}^{2} \\left(\\lambda_{2} - 4 \\lambda_{3} - \\lambda_{5} - \\lambda_{6}\\right) + k_{1}^{2} \\left(\\alpha_{1} + \\alpha_{3}\\right) \\left(\\alpha_{2} - \\alpha_{3}\\right)\\right)}{\\left(k_{1}^{2} + v_{R}^{2}\\right) \\left(4 \\rho_{1}^{2} v_{R}^{2} + k_{1}^{2} \\left(\\alpha_{1} + \\alpha_{3}\\right)^{2}\\right)}$"
      ],
      "text/plain": [
       "               2 ⎛             2                                               ↪\n",
       "-2⋅\\rho₁⋅k₂⋅v_R ⋅⎝- 4⋅\\rho₁⋅v_R ⋅(\\lambda₂ - 4⋅\\lambda₃ - \\lambda₅ - \\lambda₆) ↪\n",
       "────────────────────────────────────────────────────────────────────────────── ↪\n",
       "                                   ⎛  2      2⎞ ⎛       2    2     2           ↪\n",
       "                                   ⎝k₁  + v_R ⎠⋅⎝4⋅\\rho₁ ⋅v_R  + k₁ ⋅(\\alpha₁  ↪\n",
       "\n",
       "↪      2                                        ⎞ \n",
       "↪  + k₁ ⋅(\\alpha₁ + \\alpha₃)⋅(\\alpha₂ - \\alpha₃)⎠ \n",
       "↪ ────────────────────────────────────────────────\n",
       "↪           2⎞                                    \n",
       "↪ + \\alpha₃) ⎠                                    "
      ]
     },
     "metadata": {},
     "output_type": "display_data"
    },
    {
     "name": "stdout",
     "output_type": "stream",
     "text": [
      "Coefficient approximation: \n",
      "This interaction is not present in the approximation\n",
      "Interaction: \n"
     ]
    },
    {
     "data": {
      "image/png": "[encoded data removed]",
      "text/latex": [
       "$\\displaystyle {{H_1^0}} {{H_R^+}} {{H_R^-}}$"
      ],
      "text/plain": [
       "{{H_1__0}}⋅{{H_R__+}}⋅{{H_R__-}}"
      ]
     },
     "metadata": {},
     "output_type": "display_data"
    },
    {
     "name": "stdout",
     "output_type": "stream",
     "text": [
      "Coefficient: \n"
     ]
    },
    {
     "data": {
      "image/png": "[encoded data removed]",
      "text/latex": [
       "$\\displaystyle - \\frac{4 \\rho_{1} k_{1} v_{R}^{4} \\left(- 2 \\rho_{1} k_{1}^{2} \\left(\\alpha_{2} - \\alpha_{3}\\right) + k_{1}^{2} \\left(\\alpha_{1} + \\alpha_{3}\\right) \\left(\\alpha_{2} - \\alpha_{3}\\right) + v_{R}^{2} \\left(- 2 \\rho_{1} \\left(\\alpha_{2} - \\alpha_{3} + 2 \\lambda_{1} + 2 \\lambda_{2}\\right) + \\left(\\alpha_{1} + \\alpha_{2}\\right) \\left(\\alpha_{1} + \\alpha_{3}\\right)\\right)\\right)}{\\left(k_{1}^{2} + v_{R}^{2}\\right)^{2} \\left(4 \\rho_{1}^{2} v_{R}^{2} + k_{1}^{2} \\left(\\alpha_{1} + \\alpha_{3}\\right)^{2}\\right)}$"
      ],
      "text/plain": [
       "               4 ⎛            2                         2                      ↪\n",
       "-4⋅\\rho₁⋅k₁⋅v_R ⋅⎝- 2⋅\\rho₁⋅k₁ ⋅(\\alpha₂ - \\alpha₃) + k₁ ⋅(\\alpha₁ + \\alpha₃)⋅ ↪\n",
       "────────────────────────────────────────────────────────────────────────────── ↪\n",
       "                                                                               ↪\n",
       "                                                                          ⎛  2 ↪\n",
       "                                                                          ⎝k₁  ↪\n",
       "\n",
       "↪                          2                                                   ↪\n",
       "↪ (\\alpha₂ - \\alpha₃) + v_R ⋅(-2⋅\\rho₁⋅(\\alpha₂ - \\alpha₃ + 2⋅\\lambda₁ + 2⋅\\la ↪\n",
       "↪ ──────────────────────────────────────────────────────────────────────────── ↪\n",
       "↪         2                                                                    ↪\n",
       "↪       2⎞  ⎛       2    2     2                    2⎞                         ↪\n",
       "↪  + v_R ⎠ ⋅⎝4⋅\\rho₁ ⋅v_R  + k₁ ⋅(\\alpha₁ + \\alpha₃) ⎠                         ↪\n",
       "\n",
       "↪                                                  ⎞ \n",
       "↪ mbda₂) + (\\alpha₁ + \\alpha₂)⋅(\\alpha₁ + \\alpha₃))⎠ \n",
       "↪ ───────────────────────────────────────────────────\n",
       "↪                                                    \n",
       "↪                                                    \n",
       "↪                                                    "
      ]
     },
     "metadata": {},
     "output_type": "display_data"
    },
    {
     "name": "stdout",
     "output_type": "stream",
     "text": [
      "Coefficient approximation: \n"
     ]
    },
    {
     "data": {
      "image/png": "[encoded data removed]",
      "text/latex": [
       "$\\displaystyle - \\frac{k_{1} \\left(- 2 \\rho_{1} \\left(\\alpha_{2} - \\alpha_{3} + 2 \\lambda_{1} + 2 \\lambda_{2}\\right) + \\left(\\alpha_{1} + \\alpha_{2}\\right) \\left(\\alpha_{1} + \\alpha_{3}\\right)\\right)}{\\rho_{1}}$"
      ],
      "text/plain": [
       "-k₁⋅(-2⋅\\rho₁⋅(\\alpha₂ - \\alpha₃ + 2⋅\\lambda₁ + 2⋅\\lambda₂) + (\\alpha₁ + \\alph ↪\n",
       "────────────────────────────────────────────────────────────────────────────── ↪\n",
       "                                                 \\rho₁                         ↪\n",
       "\n",
       "↪ a₂)⋅(\\alpha₁ + \\alpha₃)) \n",
       "↪ ─────────────────────────\n",
       "↪                          "
      ]
     },
     "metadata": {},
     "output_type": "display_data"
    }
   ],
   "source": [
    "interactionsH10_SS_dict_approx = {}\n",
    "for interaction_tuple, coeff in interactionsH10_SS_dict.items():\n",
    "    print('Interaction: ')\n",
    "    display(Mul(*interaction_tuple))\n",
    "    print('Coefficient: ')\n",
    "    coeff_simplified = factor_fraction_vR(\n",
    "            coeff.factor()\n",
    "        )#.expand().collect(vR, lambda x:x.collect(rho1, factor))\n",
    "    interactionsH10_SS_dict[interaction_tuple] = coeff_simplified\n",
    "    display(coeff_simplified)\n",
    "    print('Coefficient approximation: ')\n",
    "    try:\n",
    "        interactionsH10_SS_dict_approx[interaction_tuple] = factor_fraction_vR(\n",
    "        interactions_scalars_approx[3][interaction_tuple].subs(k1, epsilon*vR).series(\n",
    "                epsilon, 0, 2\n",
    "            ).removeO().subs(epsilon, k1/vR).expand().factor()\n",
    "        )\n",
    "        display(\n",
    "            interactionsH10_SS_dict_approx[interaction_tuple]\n",
    "        )\n",
    "    except:\n",
    "        print('This interaction is not present in the approximation')"
   ]
  },
  {
   "cell_type": "code",
   "execution_count": 112,
   "metadata": {},
   "outputs": [
    {
     "data": {
      "image/png": "[encoded data removed]",
      "text/latex": [
       "$\\displaystyle \\left\\{ \\left( {{G_L^+}}, \\  {{G_L^-}}, \\  {{H_1^0}}\\right) : - \\frac{k_{1} \\left(- 4 \\rho_{1} \\left(\\lambda_{1} + \\lambda_{2}\\right) + \\left(\\alpha_{1} + \\alpha_{3}\\right)^{2}\\right)}{\\rho_{1}}, \\  \\left( {{G_R^+}}, \\  {{G_R^-}}, \\  {{H_1^0}}\\right) : 0, \\  \\left( {{G_R^+}}, \\  {{H_1^0}}, \\  {{H_R^-}}\\right) : v_{R} \\left(\\alpha_{2} - \\alpha_{3}\\right), \\  \\left( {{G_R^-}}, \\  {{H_1^0}}, \\  {{H_R^+}}\\right) : v_{R} \\left(\\alpha_{2} - \\alpha_{3}\\right), \\  \\left( {{H_1^0}}, \\  {{H_L^+}}, \\  {{H_L^-}}\\right) : \\frac{k_{1} \\left(2 \\rho_{1} \\left(\\alpha_{1} + \\alpha_{2}\\right) - \\rho_{2} \\left(\\alpha_{1} + \\alpha_{3}\\right)\\right)}{\\rho_{1}}, \\  \\left( {{H_1^0}}, \\  {{H_R^+}}, \\  {{H_R^-}}\\right) : - \\frac{k_{1} \\left(- 2 \\rho_{1} \\left(\\alpha_{2} - \\alpha_{3} + 2 \\lambda_{1} + 2 \\lambda_{2}\\right) + \\left(\\alpha_{1} + \\alpha_{2}\\right) \\left(\\alpha_{1} + \\alpha_{3}\\right)\\right)}{\\rho_{1}}\\right\\}$"
      ],
      "text/plain": [
       "⎧                                          ⎛                                   ↪\n",
       "⎪                                      -k₁⋅⎝-4⋅\\rho₁⋅(\\lambda₁ + \\lambda₂) + ( ↪\n",
       "⎨({{G_L__+}}, {{G_L__-}}, {{H_1__0}}): ─────────────────────────────────────── ↪\n",
       "⎪                                                                 \\rho₁        ↪\n",
       "⎩                                                                              ↪\n",
       "\n",
       "↪                   2⎞                                                         ↪\n",
       "↪ \\alpha₁ + \\alpha₃) ⎠                                                         ↪\n",
       "↪ ─────────────────────, ({{G_R__+}}, {{G_R__-}}, {{H_1__0}}): 0, ({{G_R__+}}, ↪\n",
       "↪                                                                              ↪\n",
       "↪                                                                              ↪\n",
       "\n",
       "↪                                                                              ↪\n",
       "↪                                                                              ↪\n",
       "↪  {{H_1__0}}, {{H_R__-}}): v_R⋅(\\alpha₂ - \\alpha₃), ({{G_R__-}}, {{H_1__0}},  ↪\n",
       "↪                                                                              ↪\n",
       "↪                                                                              ↪\n",
       "\n",
       "↪                                                                              ↪\n",
       "↪                                                                              ↪\n",
       "↪ {{H_R__+}}): v_R⋅(\\alpha₂ - \\alpha₃), ({{H_1__0}}, {{H_L__+}}, {{H_L__-}}):  ↪\n",
       "↪                                                                              ↪\n",
       "↪                                                                              ↪\n",
       "\n",
       "↪                                                                              ↪\n",
       "↪ k₁⋅(2⋅\\rho₁⋅(\\alpha₁ + \\alpha₂) - \\rho₂⋅(\\alpha₁ + \\alpha₃))                 ↪\n",
       "↪ ────────────────────────────────────────────────────────────, ({{H_1__0}}, { ↪\n",
       "↪                            \\rho₁                                             ↪\n",
       "↪                                                                              ↪\n",
       "\n",
       "↪                                                                              ↪\n",
       "↪                         -k₁⋅(-2⋅\\rho₁⋅(\\alpha₂ - \\alpha₃ + 2⋅\\lambda₁ + 2⋅\\l ↪\n",
       "↪ {H_R__+}}, {{H_R__-}}): ──────────────────────────────────────────────────── ↪\n",
       "↪                                                                          \\rh ↪\n",
       "↪                                                                              ↪\n",
       "\n",
       "↪                                                    ⎫\n",
       "↪ ambda₂) + (\\alpha₁ + \\alpha₂)⋅(\\alpha₁ + \\alpha₃)) ⎪\n",
       "↪ ───────────────────────────────────────────────────⎬\n",
       "↪ o₁                                                 ⎪\n",
       "↪                                                    ⎭"
      ]
     },
     "execution_count": 112,
     "metadata": {},
     "output_type": "execute_result"
    }
   ],
   "source": [
    "interactionsH10_SS_dict_approx"
   ]
  },
  {
   "cell_type": "code",
   "execution_count": 113,
   "metadata": {},
   "outputs": [
    {
     "name": "stdout",
     "output_type": "stream",
     "text": [
      "\\begin{array}{|c|c|}\n",
      "\\hline\n",
      "\\textbf{Interaction} & \\textbf{Coefficient} \\\\\n",
      "\\hline\n",
      "${{G_R^+}} {{G_R^-}} {{H_1^0}}$ & $- \\frac{4 \\rho_{1} k_{1}^{3} v_{R}^{4} \\left(- 4 \\rho_{1} \\left(\\lambda_{1} + \\lambda_{2}\\right) + \\left(\\alpha_{1} + \\alpha_{3}\\right)^{2}\\right)}{\\left(k_{1}^{2} + v_{R}^{2}\\right)^{2} \\left(4 \\rho_{1}^{2} v_{R}^{2} + k_{1}^{2} \\left(\\alpha_{1} + \\alpha_{3}\\right)^{2}\\right)}$ \\\\ \n",
      "\\hline\n",
      "${{G_L^-}} {{G_R^+}} {{H_1^0}}$ & $- \\frac{2 \\rho_{1} k_{1} k_{2} v_{R}^{3} \\left(4 \\rho_{1} \\left(\\lambda_{2} - 4 \\lambda_{3} - \\lambda_{5} - \\lambda_{6}\\right) + \\left(\\alpha_{1} + \\alpha_{3}\\right) \\left(\\alpha_{2} - \\alpha_{3}\\right)\\right)}{\\left(k_{1}^{2} + v_{R}^{2}\\right) \\left(4 \\rho_{1}^{2} v_{R}^{2} + k_{1}^{2} \\left(\\alpha_{1} + \\alpha_{3}\\right)^{2}\\right)}$ \\\\ \n",
      "\\hline\n",
      "${{G_R^+}} {{H_1^0}} {{H_R^-}}$ & $\\frac{2 \\rho_{1} v_{R}^{3} \\left(2 \\rho_{1} v_{R}^{4} \\left(\\alpha_{2} - \\alpha_{3}\\right) + k_{1}^{4} \\left(\\alpha_{1} + \\alpha_{3}\\right) \\left(\\alpha_{2} - \\alpha_{3}\\right) + v_{R}^{2} \\left(2 \\rho_{1} k_{1}^{2} \\left(\\alpha_{2} - \\alpha_{3} - 4 \\lambda_{1} - 4 \\lambda_{2}\\right) + k_{1}^{2} \\left(\\alpha_{1} + \\alpha_{3}\\right) \\left(2 \\alpha_{1} + \\alpha_{2} + \\alpha_{3}\\right)\\right)\\right)}{\\left(k_{1}^{2} + v_{R}^{2}\\right)^{2} \\left(4 \\rho_{1}^{2} v_{R}^{2} + k_{1}^{2} \\left(\\alpha_{1} + \\alpha_{3}\\right)^{2}\\right)}$ \\\\ \n",
      "\\hline\n",
      "${{G_L^+}} {{G_R^-}} {{H_1^0}}$ & $- \\frac{2 \\rho_{1} k_{1} k_{2} v_{R}^{3} \\left(4 \\rho_{1} \\left(\\lambda_{2} - 4 \\lambda_{3} - \\lambda_{5} - \\lambda_{6}\\right) + \\left(\\alpha_{1} + \\alpha_{3}\\right) \\left(\\alpha_{2} - \\alpha_{3}\\right)\\right)}{\\left(k_{1}^{2} + v_{R}^{2}\\right) \\left(4 \\rho_{1}^{2} v_{R}^{2} + k_{1}^{2} \\left(\\alpha_{1} + \\alpha_{3}\\right)^{2}\\right)}$ \\\\ \n",
      "\\hline\n",
      "${{G_L^+}} {{G_L^-}} {{H_1^0}}$ & $- \\frac{4 \\rho_{1} k_{1} v_{R}^{2} \\left(- 4 \\rho_{1} \\left(\\lambda_{1} + \\lambda_{2}\\right) + \\left(\\alpha_{1} + \\alpha_{3}\\right)^{2}\\right)}{4 \\rho_{1}^{2} v_{R}^{2} + k_{1}^{2} \\left(\\alpha_{1} + \\alpha_{3}\\right)^{2}}$ \\\\ \n",
      "\\hline\n",
      "${{G_L^+}} {{H_1^0}} {{H_L^-}}$ & $\\frac{4 \\rho_{1}^{2} v_{L} v_{R}^{2} \\left(\\alpha_{2} - \\alpha_{3}\\right)}{4 \\rho_{1}^{2} v_{R}^{2} + k_{1}^{2} \\left(\\alpha_{1} + \\alpha_{3}\\right)^{2}}$ \\\\ \n",
      "\\hline\n",
      "${{G_L^+}} {{H_1^0}} {{H_R^-}}$ & $- \\frac{2 \\rho_{1} k_{2} v_{R}^{2} \\left(- 4 \\rho_{1} v_{R}^{2} \\left(\\lambda_{2} - 4 \\lambda_{3} - \\lambda_{5} - \\lambda_{6}\\right) + k_{1}^{2} \\left(\\alpha_{1} + \\alpha_{3}\\right) \\left(\\alpha_{2} - \\alpha_{3}\\right)\\right)}{\\left(k_{1}^{2} + v_{R}^{2}\\right) \\left(4 \\rho_{1}^{2} v_{R}^{2} + k_{1}^{2} \\left(\\alpha_{1} + \\alpha_{3}\\right)^{2}\\right)}$ \\\\ \n",
      "\\hline\n",
      "${{G_L^-}} {{H_1^0}} {{H_L^+}}$ & $\\frac{4 \\rho_{1}^{2} v_{L} v_{R}^{2} \\left(\\alpha_{2} - \\alpha_{3}\\right)}{4 \\rho_{1}^{2} v_{R}^{2} + k_{1}^{2} \\left(\\alpha_{1} + \\alpha_{3}\\right)^{2}}$ \\\\ \n",
      "\\hline\n",
      "${{H_1^0}} {{H_L^+}} {{H_L^-}}$ & $\\frac{4 \\rho_{1} k_{1} v_{R}^{2} \\left(2 \\rho_{1} \\left(\\alpha_{1} + \\alpha_{2}\\right) - \\rho_{2} \\left(\\alpha_{1} + \\alpha_{3}\\right)\\right)}{4 \\rho_{1}^{2} v_{R}^{2} + k_{1}^{2} \\left(\\alpha_{1} + \\alpha_{3}\\right)^{2}}$ \\\\ \n",
      "\\hline\n",
      "${{G_R^-}} {{H_1^0}} {{H_R^+}}$ & $\\frac{2 \\rho_{1} v_{R}^{3} \\left(2 \\rho_{1} v_{R}^{4} \\left(\\alpha_{2} - \\alpha_{3}\\right) + k_{1}^{4} \\left(\\alpha_{1} + \\alpha_{3}\\right) \\left(\\alpha_{2} - \\alpha_{3}\\right) + v_{R}^{2} \\left(2 \\rho_{1} k_{1}^{2} \\left(\\alpha_{2} - \\alpha_{3} - 4 \\lambda_{1} - 4 \\lambda_{2}\\right) + k_{1}^{2} \\left(\\alpha_{1} + \\alpha_{3}\\right) \\left(2 \\alpha_{1} + \\alpha_{2} + \\alpha_{3}\\right)\\right)\\right)}{\\left(k_{1}^{2} + v_{R}^{2}\\right)^{2} \\left(4 \\rho_{1}^{2} v_{R}^{2} + k_{1}^{2} \\left(\\alpha_{1} + \\alpha_{3}\\right)^{2}\\right)}$ \\\\ \n",
      "\\hline\n",
      "${{G_L^-}} {{H_1^0}} {{H_R^+}}$ & $- \\frac{2 \\rho_{1} k_{2} v_{R}^{2} \\left(- 4 \\rho_{1} v_{R}^{2} \\left(\\lambda_{2} - 4 \\lambda_{3} - \\lambda_{5} - \\lambda_{6}\\right) + k_{1}^{2} \\left(\\alpha_{1} + \\alpha_{3}\\right) \\left(\\alpha_{2} - \\alpha_{3}\\right)\\right)}{\\left(k_{1}^{2} + v_{R}^{2}\\right) \\left(4 \\rho_{1}^{2} v_{R}^{2} + k_{1}^{2} \\left(\\alpha_{1} + \\alpha_{3}\\right)^{2}\\right)}$ \\\\ \n",
      "\\hline\n",
      "${{H_1^0}} {{H_R^+}} {{H_R^-}}$ & $- \\frac{4 \\rho_{1} k_{1} v_{R}^{4} \\left(- 2 \\rho_{1} k_{1}^{2} \\left(\\alpha_{2} - \\alpha_{3}\\right) + k_{1}^{2} \\left(\\alpha_{1} + \\alpha_{3}\\right) \\left(\\alpha_{2} - \\alpha_{3}\\right) + v_{R}^{2} \\left(- 2 \\rho_{1} \\left(\\alpha_{2} - \\alpha_{3} + 2 \\lambda_{1} + 2 \\lambda_{2}\\right) + \\left(\\alpha_{1} + \\alpha_{2}\\right) \\left(\\alpha_{1} + \\alpha_{3}\\right)\\right)\\right)}{\\left(k_{1}^{2} + v_{R}^{2}\\right)^{2} \\left(4 \\rho_{1}^{2} v_{R}^{2} + k_{1}^{2} \\left(\\alpha_{1} + \\alpha_{3}\\right)^{2}\\right)}$ \\\\ \n",
      "\\hline\n",
      "\\end{array}\n"
     ]
    }
   ],
   "source": [
    "print(\n",
    "    generate_latex_table_dict_2col(\n",
    "    interactions=interactionsH10_SS_dict\n",
    "    )\n",
    ")"
   ]
  },
  {
   "cell_type": "code",
   "execution_count": 114,
   "metadata": {},
   "outputs": [
    {
     "name": "stdout",
     "output_type": "stream",
     "text": [
      "\\begin{array}{|c|c|}\n",
      "\\hline\n",
      "\\textbf{Interaction} & \\textbf{Coefficient} \\\\\n",
      "\\hline\n",
      "${{G_R^+}} {{G_R^-}} {{H_1^0}}$ & $0$ \\\\ \n",
      "\\hline\n",
      "${{G_R^+}} {{H_1^0}} {{H_R^-}}$ & $v_{R} \\left(\\alpha_{2} - \\alpha_{3}\\right)$ \\\\ \n",
      "\\hline\n",
      "${{G_L^+}} {{G_L^-}} {{H_1^0}}$ & $- \\frac{k_{1} \\left(- 4 \\rho_{1} \\left(\\lambda_{1} + \\lambda_{2}\\right) + \\left(\\alpha_{1} + \\alpha_{3}\\right)^{2}\\right)}{\\rho_{1}}$ \\\\ \n",
      "\\hline\n",
      "${{H_1^0}} {{H_L^+}} {{H_L^-}}$ & $\\frac{k_{1} \\left(2 \\rho_{1} \\left(\\alpha_{1} + \\alpha_{2}\\right) - \\rho_{2} \\left(\\alpha_{1} + \\alpha_{3}\\right)\\right)}{\\rho_{1}}$ \\\\ \n",
      "\\hline\n",
      "${{G_R^-}} {{H_1^0}} {{H_R^+}}$ & $v_{R} \\left(\\alpha_{2} - \\alpha_{3}\\right)$ \\\\ \n",
      "\\hline\n",
      "${{H_1^0}} {{H_R^+}} {{H_R^-}}$ & $- \\frac{k_{1} \\left(- 2 \\rho_{1} \\left(\\alpha_{2} - \\alpha_{3} + 2 \\lambda_{1} + 2 \\lambda_{2}\\right) + \\left(\\alpha_{1} + \\alpha_{2}\\right) \\left(\\alpha_{1} + \\alpha_{3}\\right)\\right)}{\\rho_{1}}$ \\\\ \n",
      "\\hline\n",
      "\\end{array}\n"
     ]
    }
   ],
   "source": [
    "print(\n",
    "    generate_latex_table_dict_2col(\n",
    "    interactions=interactionsH10_SS_dict_approx\n",
    "    )\n",
    ")"
   ]
  },
  {
   "cell_type": "markdown",
   "metadata": {},
   "source": [
    "# Yukawa lepton sector"
   ]
  },
  {
   "cell_type": "markdown",
   "metadata": {},
   "source": [
    "$$\\mathcal{L}\\supset-\\overline{L}_{iR}Y_{ij}\\Phi^{\\dagger}L_{jL}-\\overline{L}_{iR}\\tilde{Y}_{ij}\\tilde{\\Phi}^{\\dagger}L_{jL}-\\overline{S}_{i}Y_{ijL}\\tilde{\\chi}_{L}L_{ijL}-\\overline{S}_{i}^{c}Y_{ijR}\\tilde{\\chi}_{R}L_{jR}-\\frac{1}{2}\\overline{S}_{i}^{c}\\mu_{ij}S_{j}+\\text{h.c.}$$"
   ]
  },
  {
   "cell_type": "markdown",
   "metadata": {},
   "source": [
    "## interaction_W1 ni la"
   ]
  },
  {
   "cell_type": "code",
   "execution_count": 115,
   "metadata": {},
   "outputs": [],
   "source": [
    "from sympy import IndexedBase, symbols, conjugate\n",
    "from Gauge_Higgs_senjanovic_HiggsDoublets import g\n",
    "from dirac import diracPL, diracPR, DiracGamma"
   ]
  },
  {
   "cell_type": "code",
   "execution_count": 116,
   "metadata": {},
   "outputs": [
    {
     "name": "stderr",
     "output_type": "stream",
     "text": [
      "<>:2: SyntaxWarning: invalid escape sequence '\\m'\n",
      "<>:2: SyntaxWarning: invalid escape sequence '\\m'\n",
      "/tmp/ipykernel_59228/1725654359.py:2: SyntaxWarning: invalid escape sequence '\\m'\n",
      "  mu, nu = symbols('\\mu, \\nu', integer=True)\n"
     ]
    },
    {
     "data": {
      "image/png": "[encoded data removed]",
      "text/latex": [
       "$\\displaystyle \\left( {n}_{i}, \\  {\\overline{\\ell}}_{a}\\right)$"
      ],
      "text/plain": [
       "(n[i], \\overline{\\ell}[a])"
      ]
     },
     "execution_count": 116,
     "metadata": {},
     "output_type": "execute_result"
    }
   ],
   "source": [
    "i, j, a, b = symbols('i, j, a, b', integer=True)\n",
    "mu, nu = symbols('\\mu, \\nu', integer=True)\n",
    "gamma_mu = DiracGamma(mu)\n",
    "gamma_nu = DiracGamma(nu)\n",
    "QL = IndexedBase('Q_L')\n",
    "QR = IndexedBase('Q_R')\n",
    "n = IndexedBase('n')\n",
    "nadj = IndexedBase(r'\\overline{n}')\n",
    "l = IndexedBase(r'\\ell')\n",
    "ladj = IndexedBase(r'\\overline{\\ell}')\n",
    "n[i], ladj[a]"
   ]
  },
  {
   "cell_type": "code",
   "execution_count": 117,
   "metadata": {},
   "outputs": [],
   "source": [
    "interactionsW1p_n_l = lambda i,a: {\n",
    "    (W1p, nadj[i], l[a]): (g/2)*conjugate(QL[i,a])*gamma_mu*diracPL\n",
    "}\n",
    "\n",
    "interactionsW1m_n_l = lambda i,a: {\n",
    "    (W1m, ladj[a], n[i]): (g/2)*QL[a,i]*gamma_mu*diracPL\n",
    "}"
   ]
  },
  {
   "cell_type": "code",
   "execution_count": 118,
   "metadata": {},
   "outputs": [
    {
     "data": {
      "text/latex": [
       "$\\displaystyle \\left( \\left\\{ \\left( W^{+}_{1}, \\  {\\overline{n}}_{i}, \\  {\\ell}_{a}\\right) : \\frac{g \\overline{{Q_{L}}_{i,a}} \\gamma^{\\mu} P_L}{2}\\right\\}, \\  \\left\\{ \\left( W^{-}_{1}, \\  {\\overline{\\ell}}_{a}, \\  {n}_{i}\\right) : \\frac{g {Q_{L}}_{a,i} \\gamma^{\\mu} P_L}{2}\\right\\}\\right)$"
      ],
      "text/plain": [
       "⎛⎧                                   _________              ⎫                  ↪\n",
       "⎜⎪                                 g⋅Q_L[i, a]⋅gamma(\\mu)⋅PL⎪  ⎧               ↪\n",
       "⎜⎨(W⁺₁, \\overline{n}[i], \\ell[a]): ─────────────────────────⎬, ⎨(W⁻₁, \\overlin ↪\n",
       "⎜⎪                                             2            ⎪  ⎩               ↪\n",
       "⎝⎩                                                          ⎭                  ↪\n",
       "\n",
       "↪                                              ⎞\n",
       "↪                    g⋅Q_L[a, i]⋅gamma(\\mu)⋅PL⎫⎟\n",
       "↪ e{\\ell}[a], n[i]): ─────────────────────────⎬⎟\n",
       "↪                                2            ⎭⎟\n",
       "↪                                              ⎠"
      ]
     },
     "execution_count": 118,
     "metadata": {},
     "output_type": "execute_result"
    }
   ],
   "source": [
    "interactionsW1p_n_l(i,a), interactionsW1m_n_l(i,a)"
   ]
  },
  {
   "cell_type": "code",
   "execution_count": 119,
   "metadata": {},
   "outputs": [],
   "source": [
    "interactionsW2p_n_l = lambda i,a: {\n",
    "    (W2p, nadj[i], l[a]): (g/2)*conjugate(QR[i,a])*gamma_mu*diracPR\n",
    "}\n",
    "\n",
    "interactionsW2m_n_l = lambda i,a: {\n",
    "    (W2m, ladj[a], n[i]): (g/2)*QR[a,i]*gamma_mu*diracPR\n",
    "}"
   ]
  },
  {
   "cell_type": "code",
   "execution_count": 120,
   "metadata": {},
   "outputs": [
    {
     "data": {
      "text/latex": [
       "$\\displaystyle \\left( \\left\\{ \\left( W^{+}_{2}, \\  {\\overline{n}}_{i}, \\  {\\ell}_{a}\\right) : \\frac{g \\overline{{Q_{R}}_{i,a}} \\gamma^{\\mu} P_R}{2}\\right\\}, \\  \\left\\{ \\left( W^{-}_{2}, \\  {\\overline{\\ell}}_{a}, \\  {n}_{i}\\right) : \\frac{g {Q_{R}}_{a,i} \\gamma^{\\mu} P_R}{2}\\right\\}\\right)$"
      ],
      "text/plain": [
       "⎛⎧                                   _________              ⎫                  ↪\n",
       "⎜⎪                                 g⋅Q_R[i, a]⋅gamma(\\mu)⋅PR⎪  ⎧               ↪\n",
       "⎜⎨(W⁺₂, \\overline{n}[i], \\ell[a]): ─────────────────────────⎬, ⎨(W⁻₂, \\overlin ↪\n",
       "⎜⎪                                             2            ⎪  ⎩               ↪\n",
       "⎝⎩                                                          ⎭                  ↪\n",
       "\n",
       "↪                                              ⎞\n",
       "↪                    g⋅Q_R[a, i]⋅gamma(\\mu)⋅PR⎫⎟\n",
       "↪ e{\\ell}[a], n[i]): ─────────────────────────⎬⎟\n",
       "↪                                2            ⎭⎟\n",
       "↪                                              ⎠"
      ]
     },
     "execution_count": 120,
     "metadata": {},
     "output_type": "execute_result"
    }
   ],
   "source": [
    "interactionsW2p_n_l(i,a), interactionsW2m_n_l(i,a)"
   ]
  },
  {
   "cell_type": "code",
   "execution_count": 121,
   "metadata": {},
   "outputs": [
    {
     "data": {
      "text/latex": [
       "$\\displaystyle \\left\\{ \\left( W^{+}_{1}, \\  {\\overline{n}}_{i}, \\  {\\ell}_{a}\\right) : \\frac{g \\overline{{Q_{L}}_{i,a}} \\gamma^{\\mu} P_L}{2}, \\  \\left( W^{+}_{2}, \\  {\\overline{n}}_{i}, \\  {\\ell}_{a}\\right) : \\frac{g \\overline{{Q_{R}}_{i,a}} \\gamma^{\\mu} P_R}{2}\\right\\}$"
      ],
      "text/plain": [
       "⎧                                   _________                                  ↪\n",
       "⎪                                 g⋅Q_L[i, a]⋅gamma(\\mu)⋅PL                    ↪\n",
       "⎨(W⁺₁, \\overline{n}[i], \\ell[a]): ─────────────────────────, (W⁺₂, \\overline{n ↪\n",
       "⎪                                             2                                ↪\n",
       "⎩                                                                              ↪\n",
       "\n",
       "↪                   _________              ⎫\n",
       "↪                 g⋅Q_R[i, a]⋅gamma(\\mu)⋅PR⎪\n",
       "↪ }[i], \\ell[a]): ─────────────────────────⎬\n",
       "↪                             2            ⎪\n",
       "↪                                          ⎭"
      ]
     },
     "execution_count": 121,
     "metadata": {},
     "output_type": "execute_result"
    }
   ],
   "source": [
    "interactionsWp_n_l = lambda i,a: {\n",
    "    list(dict_interaction.keys())[0]:list(dict_interaction.values())[0]\n",
    "    for dict_interaction in [interactionsW1p_n_l(i,a), interactionsW2p_n_l(i,a)]\n",
    "}\n",
    "interactionsWp_n_l(i,a)"
   ]
  },
  {
   "cell_type": "code",
   "execution_count": 122,
   "metadata": {},
   "outputs": [
    {
     "data": {
      "text/latex": [
       "$\\displaystyle \\left\\{ \\left( W^{-}_{1}, \\  {\\overline{\\ell}}_{a}, \\  {n}_{i}\\right) : \\frac{g {Q_{L}}_{a,i} \\gamma^{\\mu} P_L}{2}, \\  \\left( W^{-}_{2}, \\  {\\overline{\\ell}}_{a}, \\  {n}_{i}\\right) : \\frac{g {Q_{R}}_{a,i} \\gamma^{\\mu} P_R}{2}\\right\\}$"
      ],
      "text/plain": [
       "⎧                                 g⋅Q_L[a, i]⋅gamma(\\mu)⋅PL                    ↪\n",
       "⎨(W⁻₁, \\overline{\\ell}[a], n[i]): ─────────────────────────, (W⁻₂, \\overline{\\ ↪\n",
       "⎩                                             2                                ↪\n",
       "\n",
       "↪                 g⋅Q_R[a, i]⋅gamma(\\mu)⋅PR⎫\n",
       "↪ ell}[a], n[i]): ─────────────────────────⎬\n",
       "↪                             2            ⎭"
      ]
     },
     "execution_count": 122,
     "metadata": {},
     "output_type": "execute_result"
    }
   ],
   "source": [
    "interactionsWm_n_l = lambda i,a: {\n",
    "    list(dict_interaction.keys())[0]:list(dict_interaction.values())[0]\n",
    "    for dict_interaction in [interactionsW1m_n_l(i,a), interactionsW2m_n_l(i,a)]\n",
    "}\n",
    "interactionsWm_n_l(i,a)"
   ]
  },
  {
   "cell_type": "markdown",
   "metadata": {},
   "source": [
    "## interaction_GLp ni la"
   ]
  },
  {
   "cell_type": "markdown",
   "metadata": {},
   "source": [
    "$$\n",
    "-\\mathcal{L}_{Y}^{\\pm}=\\frac{\\sqrt{2}}{k_{1}}G_{L}^{-}\\overline{\\ell}_{i}\\left(T_{RL,ji}^{*}P_{R}-m_{\\ell_{i}}Q_{L,ij}P_{L}\\right)n_{j}+\\frac{\\sqrt{2}}{k_{1}}G_{L}^{+}\\overline{n_{j}}\\left(T_{RL,ij}P_{L}-Q_{L,ji}^{*}m_{\\ell_{i}}P_{R}\\right)\\ell_{i}\n",
    "$$"
   ]
  },
  {
   "cell_type": "code",
   "execution_count": 123,
   "metadata": {},
   "outputs": [],
   "source": [
    "from sympy import sqrt"
   ]
  },
  {
   "cell_type": "code",
   "execution_count": 124,
   "metadata": {},
   "outputs": [],
   "source": [
    "TRL = IndexedBase('T_{RL}')\n",
    "K = IndexedBase('K')\n",
    "J = IndexedBase('J')\n",
    "OmegaRL = IndexedBase(r'\\Omega_{RL}')\n",
    "OmegaSR = IndexedBase(r'\\Omega_{SR}')\n",
    "ml = IndexedBase(r'm_\\ell')\n",
    "mn = IndexedBase('m_n')\n",
    "sqrt2 = sqrt(2)"
   ]
  },
  {
   "cell_type": "code",
   "execution_count": 125,
   "metadata": {},
   "outputs": [],
   "source": [
    "interactionsGLm_n_l = lambda i,a: {\n",
    "    (GLm, ladj[a], n[i]): (sqrt2/k1)*(\n",
    "        - conjugate(TRL[i,a])*diracPR\n",
    "        + ml[a]*QL[a,i]*diracPL\n",
    "    )\n",
    "}\n",
    "interactionsGLp_n_l = lambda i,a: {\n",
    "    (GLp, nadj[i], l[a]): (sqrt2/k1)*(\n",
    "        - TRL[a,i]*diracPL\n",
    "        + ml[a]*conjugate(QL[i,a])*diracPR\n",
    "    )\n",
    "}"
   ]
  },
  {
   "cell_type": "code",
   "execution_count": 126,
   "metadata": {},
   "outputs": [
    {
     "data": {
      "image/png": "[encoded data removed]",
      "text/latex": [
       "$\\displaystyle \\left( \\left\\{ \\left( {{G_L^+}}, \\  {\\overline{n}}_{i}, \\  {\\ell}_{a}\\right) : \\frac{\\sqrt{2} \\left(\\overline{{Q_{L}}_{i,a}} {m_{\\ell}}_{a} P_R - {T_{RL}}_{a,i} P_L\\right)}{k_{1}}\\right\\}, \\  \\left\\{ \\left( {{G_L^-}}, \\  {\\overline{\\ell}}_{a}, \\  {n}_{i}\\right) : \\frac{\\sqrt{2} \\left(- \\overline{{T_{RL}}_{i,a}} P_R + {Q_{L}}_{a,i} {m_{\\ell}}_{a} P_L\\right)}{k_{1}}\\right\\}\\right)$"
      ],
      "text/plain": [
       "⎛⎧                                           ⎛_________                        ↪\n",
       "⎜⎪                                        √2⋅⎝Q_L[i, a]⋅m_\\ell[a]⋅PR - T_{RL}[ ↪\n",
       "⎜⎨({{G_L__+}}, \\overline{n}[i], \\ell[a]): ──────────────────────────────────── ↪\n",
       "⎜⎪                                                             k₁              ↪\n",
       "⎝⎩                                                                             ↪\n",
       "\n",
       "↪         ⎞⎫  ⎧                                           ⎛  ____________      ↪\n",
       "↪ a, i]⋅PL⎠⎪  ⎪                                        √2⋅⎝- T_{RL}[i, a]⋅PR + ↪\n",
       "↪ ─────────⎬, ⎨({{G_L__-}}, \\overline{\\ell}[a], n[i]): ─────────────────────── ↪\n",
       "↪          ⎪  ⎪                                                              k ↪\n",
       "↪          ⎭  ⎩                                                                ↪\n",
       "\n",
       "↪                        ⎞⎫⎞\n",
       "↪  Q_L[a, i]⋅m_\\ell[a]⋅PL⎠⎪⎟\n",
       "↪ ────────────────────────⎬⎟\n",
       "↪ ₁                       ⎪⎟\n",
       "↪                         ⎭⎠"
      ]
     },
     "execution_count": 126,
     "metadata": {},
     "output_type": "execute_result"
    }
   ],
   "source": [
    "interactionsGLp_n_l(i,a), interactionsGLm_n_l(i,a)"
   ]
  },
  {
   "cell_type": "markdown",
   "metadata": {},
   "source": [
    "$$\n",
    "-\\mathcal{L}_{Y}^{\\pm}=\\frac{\\sqrt{2}}{v_{R}}G_{R}^{-}\\overline{\\ell_{i}}\\left[\\left(m_{\\ell_{i}}Q_{R,ij}P_{R}-J_{ij}P_{L}\\right)\\right]n_{j}+\\frac{\\sqrt{2}}{v_{R}}G_{R}^{+}\\overline{n_{j}}\\left[\\left(Q_{R,ji}^{*}m_{\\ell_{i}}P_{L}-J_{ji}^{*}P_{R}\\right)\\right]\\ell_{i}\n",
    "$$"
   ]
  },
  {
   "cell_type": "code",
   "execution_count": 127,
   "metadata": {},
   "outputs": [],
   "source": [
    "interactionsGRm_n_l = lambda i,a: {\n",
    "    (GRm, ladj[a], n[i]): (sqrt2/vR)*(\n",
    "        - ml[a]*QR[a,i]*diracPR\n",
    "        + J[a,i]*diracPL\n",
    "    )\n",
    "}\n",
    "interactionsGRp_n_l = lambda i,a: {\n",
    "    (GRp, nadj[i], l[a]): (sqrt2/vR)*(\n",
    "        - ml[a]*conjugate(QR[i,a])*diracPL\n",
    "        + conjugate(J[i,a])*diracPR\n",
    "    )\n",
    "}"
   ]
  },
  {
   "cell_type": "code",
   "execution_count": 128,
   "metadata": {},
   "outputs": [
    {
     "data": {
      "image/png": "[encoded data removed]",
      "text/latex": [
       "$\\displaystyle \\left( \\left\\{ \\left( {{G_R^+}}, \\  {\\overline{n}}_{i}, \\  {\\ell}_{a}\\right) : \\frac{\\sqrt{2} \\left(\\overline{{J}_{i,a}} P_R - \\overline{{Q_{R}}_{i,a}} {m_{\\ell}}_{a} P_L\\right)}{v_{R}}\\right\\}, \\  \\left\\{ \\left( {{G_R^-}}, \\  {\\overline{\\ell}}_{a}, \\  {n}_{i}\\right) : \\frac{\\sqrt{2} \\left({J}_{a,i} P_L - {Q_{R}}_{a,i} {m_{\\ell}}_{a} P_R\\right)}{v_{R}}\\right\\}\\right)$"
      ],
      "text/plain": [
       "⎛⎧                                           ⎛_______      _________           ↪\n",
       "⎜⎪                                        √2⋅⎝J[i, a]⋅PR - Q_R[i, a]⋅m_\\ell[a] ↪\n",
       "⎜⎨({{G_R__+}}, \\overline{n}[i], \\ell[a]): ──────────────────────────────────── ↪\n",
       "⎜⎪                                                          v_R                ↪\n",
       "⎝⎩                                                                             ↪\n",
       "\n",
       "↪    ⎞⎫                                                                        ↪\n",
       "↪ ⋅PL⎠⎪  ⎧                                        √2⋅(J[a, i]⋅PL - Q_R[a, i]⋅m ↪\n",
       "↪ ────⎬, ⎨({{G_R__-}}, \\overline{\\ell}[a], n[i]): ──────────────────────────── ↪\n",
       "↪     ⎪  ⎩                                                          v_R        ↪\n",
       "↪     ⎭                                                                        ↪\n",
       "\n",
       "↪              ⎞\n",
       "↪ _\\ell[a]⋅PR)⎫⎟\n",
       "↪ ────────────⎬⎟\n",
       "↪             ⎭⎟\n",
       "↪              ⎠"
      ]
     },
     "execution_count": 128,
     "metadata": {},
     "output_type": "execute_result"
    }
   ],
   "source": [
    "interactionsGRp_n_l(i,a), interactionsGRm_n_l(i,a)"
   ]
  },
  {
   "cell_type": "markdown",
   "metadata": {},
   "source": [
    "$$\n",
    "-\\mathcal{L}_{Y}^{\\pm}=\\frac{\\sqrt{2}}{k_{1}}H_{R}^{-}\\overline{\\ell_{i}}\\left(K_{ij}P_{L}-m_{\\ell_{i}}Q_{R,ij}P_{R}\\right)n_{j}+\\frac{\\sqrt{2}}{k_{1}}H_{R}^{+}\\overline{n_{j}}\\left(K_{ji}^{*}P_{R}-Q_{R,ji}^{*}m_{\\ell_{i}}P_{L}\\right)\\ell_{i}\n",
    "$$"
   ]
  },
  {
   "cell_type": "code",
   "execution_count": 129,
   "metadata": {},
   "outputs": [],
   "source": [
    "interactionsHRm_n_l = lambda i,a: {\n",
    "    (HRm, ladj[a], n[i]): (sqrt2/k1)*(\n",
    "        - K[a,i]*diracPL\n",
    "        + ml[a]*QR[a,i]*diracPR\n",
    "    )\n",
    "}\n",
    "interactionsHRp_n_l = lambda i,a: {\n",
    "    (HRp, nadj[i], l[a]): (sqrt2/k1)*(\n",
    "        - conjugate(K[i,a])*diracPR\n",
    "        + ml[a]*conjugate(QR[i,a])*diracPL\n",
    "    )\n",
    "}"
   ]
  },
  {
   "cell_type": "code",
   "execution_count": 130,
   "metadata": {},
   "outputs": [
    {
     "data": {
      "image/png": "[encoded data removed]",
      "text/latex": [
       "$\\displaystyle \\left( \\left\\{ \\left( {{H_R^+}}, \\  {\\overline{n}}_{i}, \\  {\\ell}_{a}\\right) : \\frac{\\sqrt{2} \\left(- \\overline{{K}_{i,a}} P_R + \\overline{{Q_{R}}_{i,a}} {m_{\\ell}}_{a} P_L\\right)}{k_{1}}\\right\\}, \\  \\left\\{ \\left( {{H_R^-}}, \\  {\\overline{\\ell}}_{a}, \\  {n}_{i}\\right) : \\frac{\\sqrt{2} \\left(- {K}_{a,i} P_L + {Q_{R}}_{a,i} {m_{\\ell}}_{a} P_R\\right)}{k_{1}}\\right\\}\\right)$"
      ],
      "text/plain": [
       "⎛⎧                                           ⎛  _______      _________         ↪\n",
       "⎜⎪                                        √2⋅⎝- K[i, a]⋅PR + Q_R[i, a]⋅m_\\ell[ ↪\n",
       "⎜⎨({{H_R__+}}, \\overline{n}[i], \\ell[a]): ──────────────────────────────────── ↪\n",
       "⎜⎪                                                            k₁               ↪\n",
       "⎝⎩                                                                             ↪\n",
       "\n",
       "↪      ⎞⎫                                                                      ↪\n",
       "↪ a]⋅PL⎠⎪  ⎧                                        √2⋅(-K[a, i]⋅PL + Q_R[a, i ↪\n",
       "↪ ──────⎬, ⎨({{H_R__-}}, \\overline{\\ell}[a], n[i]): ────────────────────────── ↪\n",
       "↪       ⎪  ⎩                                                           k₁      ↪\n",
       "↪       ⎭                                                                      ↪\n",
       "\n",
       "↪                 ⎞\n",
       "↪ ]⋅m_\\ell[a]⋅PR)⎫⎟\n",
       "↪ ───────────────⎬⎟\n",
       "↪                ⎭⎟\n",
       "↪                 ⎠"
      ]
     },
     "execution_count": 130,
     "metadata": {},
     "output_type": "execute_result"
    }
   ],
   "source": [
    "interactionsHRp_n_l(i,a), interactionsHRm_n_l(i,a)"
   ]
  },
  {
   "cell_type": "code",
   "execution_count": 131,
   "metadata": {},
   "outputs": [
    {
     "data": {
      "image/png": "[encoded data removed]",
      "text/latex": [
       "$\\displaystyle \\left\\{ \\left( {{G_L^+}}, \\  {\\overline{n}}_{i}, \\  {\\ell}_{a}\\right) : \\frac{\\sqrt{2} \\left(\\overline{{Q_{L}}_{i,a}} {m_{\\ell}}_{a} P_R - {T_{RL}}_{a,i} P_L\\right)}{k_{1}}, \\  \\left( {{G_R^+}}, \\  {\\overline{n}}_{i}, \\  {\\ell}_{a}\\right) : \\frac{\\sqrt{2} \\left(\\overline{{J}_{i,a}} P_R - \\overline{{Q_{R}}_{i,a}} {m_{\\ell}}_{a} P_L\\right)}{v_{R}}, \\  \\left( {{H_R^+}}, \\  {\\overline{n}}_{i}, \\  {\\ell}_{a}\\right) : \\frac{\\sqrt{2} \\left(- \\overline{{K}_{i,a}} P_R + \\overline{{Q_{R}}_{i,a}} {m_{\\ell}}_{a} P_L\\right)}{k_{1}}\\right\\}$"
      ],
      "text/plain": [
       "⎧                                           ⎛_________                         ↪\n",
       "⎪                                        √2⋅⎝Q_L[i, a]⋅m_\\ell[a]⋅PR - T_{RL}[a ↪\n",
       "⎨({{G_L__+}}, \\overline{n}[i], \\ell[a]): ───────────────────────────────────── ↪\n",
       "⎪                                                             k₁               ↪\n",
       "⎩                                                                              ↪\n",
       "\n",
       "↪        ⎞                                             ⎛_______      _________ ↪\n",
       "↪ , i]⋅PL⎠                                          √2⋅⎝J[i, a]⋅PR - Q_R[i, a] ↪\n",
       "↪ ────────, ({{G_R__+}}, \\overline{n}[i], \\ell[a]): ────────────────────────── ↪\n",
       "↪                                                                     v_R      ↪\n",
       "↪                                                                              ↪\n",
       "\n",
       "↪              ⎞                                             ⎛  _______      _ ↪\n",
       "↪ ⋅m_\\ell[a]⋅PL⎠                                          √2⋅⎝- K[i, a]⋅PR + Q ↪\n",
       "↪ ──────────────, ({{H_R__+}}, \\overline{n}[i], \\ell[a]): ──────────────────── ↪\n",
       "↪                                                                              ↪\n",
       "↪                                                                              ↪\n",
       "\n",
       "↪ ________             ⎞⎫\n",
       "↪ _R[i, a]⋅m_\\ell[a]⋅PL⎠⎪\n",
       "↪ ──────────────────────⎬\n",
       "↪ k₁                    ⎪\n",
       "↪                       ⎭"
      ]
     },
     "execution_count": 131,
     "metadata": {},
     "output_type": "execute_result"
    }
   ],
   "source": [
    "interactionsSp_n_l = lambda i,a: {\n",
    "    list(dict_interaction.keys())[0]:list(dict_interaction.values())[0]\n",
    "    for dict_interaction in [interactionsGLp_n_l(i,a), interactionsGRp_n_l(i,a), interactionsHRp_n_l(i,a)]\n",
    "}\n",
    "interactionsSp_n_l(i,a)"
   ]
  },
  {
   "cell_type": "code",
   "execution_count": 132,
   "metadata": {},
   "outputs": [
    {
     "data": {
      "image/png": "[encoded data removed]",
      "text/latex": [
       "$\\displaystyle \\left\\{ \\left( {{G_L^-}}, \\  {\\overline{\\ell}}_{a}, \\  {n}_{i}\\right) : \\frac{\\sqrt{2} \\left(- \\overline{{T_{RL}}_{i,a}} P_R + {Q_{L}}_{a,i} {m_{\\ell}}_{a} P_L\\right)}{k_{1}}, \\  \\left( {{G_R^-}}, \\  {\\overline{\\ell}}_{a}, \\  {n}_{i}\\right) : \\frac{\\sqrt{2} \\left({J}_{a,i} P_L - {Q_{R}}_{a,i} {m_{\\ell}}_{a} P_R\\right)}{v_{R}}, \\  \\left( {{H_R^-}}, \\  {\\overline{\\ell}}_{a}, \\  {n}_{i}\\right) : \\frac{\\sqrt{2} \\left(- {K}_{a,i} P_L + {Q_{R}}_{a,i} {m_{\\ell}}_{a} P_R\\right)}{k_{1}}\\right\\}$"
      ],
      "text/plain": [
       "⎧                                           ⎛  ____________                    ↪\n",
       "⎪                                        √2⋅⎝- T_{RL}[i, a]⋅PR + Q_L[a, i]⋅m_\\ ↪\n",
       "⎨({{G_L__-}}, \\overline{\\ell}[a], n[i]): ───────────────────────────────────── ↪\n",
       "⎪                                                              k₁              ↪\n",
       "⎩                                                                              ↪\n",
       "\n",
       "↪          ⎞                                                                   ↪\n",
       "↪ ell[a]⋅PL⎠                                          √2⋅(J[a, i]⋅PL - Q_R[a,  ↪\n",
       "↪ ──────────, ({{G_R__-}}, \\overline{\\ell}[a], n[i]): ──────────────────────── ↪\n",
       "↪                                                                       v_R    ↪\n",
       "↪                                                                              ↪\n",
       "\n",
       "↪                                                                              ↪\n",
       "↪ i]⋅m_\\ell[a]⋅PR)                                          √2⋅(-K[a, i]⋅PL +  ↪\n",
       "↪ ────────────────, ({{H_R__-}}, \\overline{\\ell}[a], n[i]): ────────────────── ↪\n",
       "↪                                                                              ↪\n",
       "↪                                                                              ↪\n",
       "\n",
       "↪                        ⎫\n",
       "↪ Q_R[a, i]⋅m_\\ell[a]⋅PR)⎪\n",
       "↪ ───────────────────────⎬\n",
       "↪  k₁                    ⎪\n",
       "↪                        ⎭"
      ]
     },
     "execution_count": 132,
     "metadata": {},
     "output_type": "execute_result"
    }
   ],
   "source": [
    "interactionsSm_n_l = lambda i,a: {\n",
    "    list(dict_interaction.keys())[0]:list(dict_interaction.values())[0]\n",
    "    for dict_interaction in [interactionsGLm_n_l(i,a), interactionsGRm_n_l(i,a), interactionsHRm_n_l(i,a)]\n",
    "}\n",
    "interactionsSm_n_l(i,a)"
   ]
  },
  {
   "cell_type": "code",
   "execution_count": 133,
   "metadata": {},
   "outputs": [],
   "source": [
    "interactionsH10_ll = lambda a: {\n",
    "    (H10, ladj[a], l[a]): (sqrt2 / k1) * ml[a] * diracPL + (sqrt2 / k1) * ml[a] * diracPR\n",
    "}"
   ]
  },
  {
   "cell_type": "code",
   "execution_count": 134,
   "metadata": {},
   "outputs": [],
   "source": [
    "from potential_senjanovic_HiggsDoublets import alpha13, rho1"
   ]
  },
  {
   "cell_type": "code",
   "execution_count": null,
   "metadata": {},
   "outputs": [],
   "source": []
  },
  {
   "cell_type": "code",
   "execution_count": null,
   "metadata": {},
   "outputs": [],
   "source": [
    "interactionsH10_nn = lambda i, j: {\n",
    "    (H10, n[i], nadj[j]): (\n",
    "        (1 / (sqrt2*k1)) * (OmegaRL[i,j] - alpha13/(2*rho1)*epsilon**2*conjugate(OmegaSR[i,j])) * diracPL + \n",
    "        (1 / (sqrt2*k1)) * (conjugate(OmegaRL[i,j]) - alpha13/(2*rho1)*epsilon**2*OmegaSR[i,j]) * diracPR\n",
    "    )\n",
    "}"
   ]
  }
 ],
 "metadata": {
  "kernelspec": {
   "display_name": "base",
   "language": "python",
   "name": "python3"
  },
  "language_info": {
   "codemirror_mode": {
    "name": "ipython",
    "version": 3
   },
   "file_extension": ".py",
   "mimetype": "text/x-python",
   "name": "python",
   "nbconvert_exporter": "python",
   "pygments_lexer": "ipython3",
   "version": "3.13.2"
  }
 },
 "nbformat": 4,
 "nbformat_minor": 2
}
