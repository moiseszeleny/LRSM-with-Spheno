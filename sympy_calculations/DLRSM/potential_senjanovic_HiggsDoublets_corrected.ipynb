{
 "cells": [
  {
   "cell_type": "markdown",
   "metadata": {},
   "source": [
    "# Minimal Left Right Symmetric models with Higgs doublets"
   ]
  },
  {
   "cell_type": "markdown",
   "metadata": {},
   "source": [
    "In this notebook we work the potential of MLRSM with Higgs doublets "
   ]
  },
  {
   "cell_type": "code",
   "execution_count": 2,
   "metadata": {},
   "outputs": [],
   "source": [
    "from sympy import symbols, init_printing, Matrix, I, sqrt, conjugate, trace, factor, simplify\n",
    "from sympy.physics import msigma \n",
    "init_printing()"
   ]
  },
  {
   "cell_type": "markdown",
   "metadata": {},
   "source": [
    "## Scalars"
   ]
  },
  {
   "cell_type": "markdown",
   "metadata": {},
   "source": [
    "### Bidoublet"
   ]
  },
  {
   "cell_type": "code",
   "execution_count": 3,
   "metadata": {},
   "outputs": [],
   "source": [
    "phi1p = symbols(r'{{\\phi_1^+}}')\n",
    "phi2p = symbols(r'{{\\phi_2^+}}')\n",
    "\n",
    "phi10, phi20 = symbols(r'\\phi_1^0, \\phi_2^0')"
   ]
  },
  {
   "cell_type": "code",
   "execution_count": 4,
   "metadata": {},
   "outputs": [
    {
     "data": {
      "text/latex": [
       "$\\displaystyle \\left[\\begin{matrix}\\phi^{0}_{1} & {{\\phi_1^+}}\\\\\\overline{{{\\phi_2^+}}} & \\phi^{0}_{2}\\end{matrix}\\right]$"
      ],
      "text/plain": [
       "⎡   \\phi⁰₁      {{\\phi_1__+}}⎤\n",
       "⎢                            ⎥\n",
       "⎢_____________               ⎥\n",
       "⎣{{\\phi_2__+}}     \\phi⁰₂    ⎦"
      ]
     },
     "execution_count": 4,
     "metadata": {},
     "output_type": "execute_result"
    }
   ],
   "source": [
    "Phi = Matrix(\n",
    "    [\n",
    "        [phi10, phi1p],\n",
    "        [conjugate(phi2p), phi20]\n",
    "    ]\n",
    ")\n",
    "Phi"
   ]
  },
  {
   "cell_type": "code",
   "execution_count": 5,
   "metadata": {},
   "outputs": [
    {
     "data": {
      "text/latex": [
       "$\\displaystyle \\left[\\begin{matrix}k_{1} & 0\\\\0 & k_{2}\\end{matrix}\\right]$"
      ],
      "text/plain": [
       "⎡k₁  0 ⎤\n",
       "⎢      ⎥\n",
       "⎣0   k₂⎦"
      ]
     },
     "execution_count": 5,
     "metadata": {},
     "output_type": "execute_result"
    }
   ],
   "source": [
    "k1, k2 = symbols(r\"k_1, k_2\", positive=True)\n",
    "sqrt2 = sqrt(2)\n",
    "vevPhi = {phi10:k1, phi20:k2, phi1p:0, phi2p:0}\n",
    "Phi.subs(vevPhi)"
   ]
  },
  {
   "cell_type": "markdown",
   "metadata": {},
   "source": [
    "### Doublets"
   ]
  },
  {
   "cell_type": "code",
   "execution_count": 6,
   "metadata": {},
   "outputs": [],
   "source": [
    "chiL0 = symbols(r'\\chi_L^0')\n",
    "chiR0 = symbols(r'\\chi_R^0')\n",
    "\n",
    "chiLp = symbols(r'{{\\chi_L^+}}')\n",
    "chiRp = symbols(r'{{\\chi_R^+}}')"
   ]
  },
  {
   "cell_type": "code",
   "execution_count": 7,
   "metadata": {},
   "outputs": [],
   "source": [
    "ChiL = Matrix(\n",
    "    [\n",
    "        [chiLp],\n",
    "        [chiL0]\n",
    "    ]\n",
    ")\n",
    "\n",
    "ChiR = Matrix(\n",
    "    [\n",
    "        [chiRp],\n",
    "        [chiR0]\n",
    "    ]\n",
    ")"
   ]
  },
  {
   "cell_type": "code",
   "execution_count": 8,
   "metadata": {},
   "outputs": [
    {
     "data": {
      "text/latex": [
       "$\\displaystyle \\left( \\left[\\begin{matrix}{{\\chi_L^+}}\\\\\\chi^{0}_{L}\\end{matrix}\\right], \\  \\left[\\begin{matrix}{{\\chi_R^+}}\\\\\\chi^{0}_{R}\\end{matrix}\\right]\\right)$"
      ],
      "text/plain": [
       "⎛⎡{{\\chi_L__+}}⎤  ⎡{{\\chi_R__+}}⎤⎞\n",
       "⎜⎢             ⎥, ⎢             ⎥⎟\n",
       "⎝⎣  \\chi_L__0  ⎦  ⎣  \\chi_R__0  ⎦⎠"
      ]
     },
     "execution_count": 8,
     "metadata": {},
     "output_type": "execute_result"
    }
   ],
   "source": [
    "ChiL, ChiR"
   ]
  },
  {
   "cell_type": "code",
   "execution_count": 9,
   "metadata": {},
   "outputs": [
    {
     "data": {
      "text/latex": [
       "$\\displaystyle \\left( \\left[\\begin{matrix}0\\\\v_{L}\\end{matrix}\\right], \\  \\left[\\begin{matrix}0\\\\v_{R}\\end{matrix}\\right]\\right)$"
      ],
      "text/plain": [
       "⎛⎡ 0 ⎤  ⎡ 0 ⎤⎞\n",
       "⎜⎢   ⎥, ⎢   ⎥⎟\n",
       "⎝⎣v_L⎦  ⎣v_R⎦⎠"
      ]
     },
     "execution_count": 9,
     "metadata": {},
     "output_type": "execute_result"
    }
   ],
   "source": [
    "vL, vR = symbols(r'v_L, v_R', positive=True)\n",
    "vevL = {chiL0:vL, chiLp:0}\n",
    "vevR = {chiR0:vR, chiRp:0}\n",
    "ChiL.subs(vevL), ChiR.subs(vevR)"
   ]
  },
  {
   "cell_type": "markdown",
   "metadata": {},
   "source": [
    "## Scalar potential"
   ]
  },
  {
   "cell_type": "code",
   "execution_count": 10,
   "metadata": {},
   "outputs": [],
   "source": [
    "from sympy.physics.quantum import Dagger\n",
    "from sympy import solve"
   ]
  },
  {
   "cell_type": "code",
   "execution_count": 11,
   "metadata": {},
   "outputs": [
    {
     "data": {
      "text/latex": [
       "$\\displaystyle \\left[\\begin{matrix}\\phi^{0}_{1} \\overline{\\phi^{0}_{1}} + {{\\phi_2^+}} \\overline{{{\\phi_2^+}}} & \\phi^{0}_{2} {{\\phi_2^+}} + {{\\phi_1^+}} \\overline{\\phi^{0}_{1}}\\\\\\phi^{0}_{1} \\overline{{{\\phi_1^+}}} + \\overline{\\phi^{0}_{2}} \\overline{{{\\phi_2^+}}} & \\phi^{0}_{2} \\overline{\\phi^{0}_{2}} + {{\\phi_1^+}} \\overline{{{\\phi_1^+}}}\\end{matrix}\\right]$"
      ],
      "text/plain": [
       "⎡       ______                 _____________                                   ↪\n",
       "⎢\\phi⁰₁⋅\\phi⁰₁ + {{\\phi_2__+}}⋅{{\\phi_2__+}}  \\phi⁰₂⋅{{\\phi_2__+}} + {{\\phi_1_ ↪\n",
       "⎢                                                                              ↪\n",
       "⎢       _____________   ______ _____________         ______                 __ ↪\n",
       "⎣\\phi⁰₁⋅{{\\phi_1__+}} + \\phi⁰₂⋅{{\\phi_2__+}}  \\phi⁰₂⋅\\phi⁰₂ + {{\\phi_1__+}}⋅{{ ↪\n",
       "\n",
       "↪      ______⎤\n",
       "↪ _+}}⋅\\phi⁰₁⎥\n",
       "↪            ⎥\n",
       "↪ ___________⎥\n",
       "↪ \\phi_1__+}}⎦"
      ]
     },
     "metadata": {},
     "output_type": "display_data"
    },
    {
     "data": {
      "text/latex": [
       "$\\displaystyle \\left[\\begin{matrix}\\overline{\\phi^{0}_{2}} & - {{\\phi_2^+}}\\\\- \\overline{{{\\phi_1^+}}} & \\overline{\\phi^{0}_{1}}\\end{matrix}\\right]$"
      ],
      "text/plain": [
       "⎡    ______                    ⎤\n",
       "⎢    \\phi⁰₂      -{{\\phi_2__+}}⎥\n",
       "⎢                              ⎥\n",
       "⎢ _____________      ______    ⎥\n",
       "⎣-{{\\phi_1__+}}      \\phi⁰₁    ⎦"
      ]
     },
     "metadata": {},
     "output_type": "display_data"
    },
    {
     "data": {
      "text/latex": [
       "$\\displaystyle \\left[\\begin{matrix}- {{\\phi_2^+}} \\overline{{{\\phi_1^+}}} + \\overline{\\phi^{0}_{1}} \\overline{\\phi^{0}_{2}} & 0\\\\0 & - {{\\phi_2^+}} \\overline{{{\\phi_1^+}}} + \\overline{\\phi^{0}_{1}} \\overline{\\phi^{0}_{2}}\\end{matrix}\\right]$"
      ],
      "text/plain": [
       "⎡                _____________   ______ ______                                 ↪\n",
       "⎢- {{\\phi_2__+}}⋅{{\\phi_1__+}} + \\phi⁰₁⋅\\phi⁰₂                        0        ↪\n",
       "⎢                                                                              ↪\n",
       "⎢                                                               _____________  ↪\n",
       "⎣                      0                        - {{\\phi_2__+}}⋅{{\\phi_1__+}}  ↪\n",
       "\n",
       "↪                ⎤\n",
       "↪                ⎥\n",
       "↪                ⎥\n",
       "↪   ______ ______⎥\n",
       "↪ + \\phi⁰₁⋅\\phi⁰₂⎦"
      ]
     },
     "metadata": {},
     "output_type": "display_data"
    },
    {
     "data": {
      "text/latex": [
       "$\\displaystyle \\left[\\begin{matrix}\\phi^{0}_{2} & - {{\\phi_1^+}}\\\\- \\overline{{{\\phi_2^+}}} & \\phi^{0}_{1}\\end{matrix}\\right]$"
      ],
      "text/plain": [
       "⎡    \\phi⁰₂      -{{\\phi_1__+}}⎤\n",
       "⎢                              ⎥\n",
       "⎢ _____________                ⎥\n",
       "⎣-{{\\phi_2__+}}      \\phi⁰₁    ⎦"
      ]
     },
     "metadata": {},
     "output_type": "display_data"
    },
    {
     "data": {
      "text/latex": [
       "$\\displaystyle \\left[\\begin{matrix}\\phi^{0}_{1} \\phi^{0}_{2} - {{\\phi_1^+}} \\overline{{{\\phi_2^+}}} & 0\\\\0 & \\phi^{0}_{1} \\phi^{0}_{2} - {{\\phi_1^+}} \\overline{{{\\phi_2^+}}}\\end{matrix}\\right]$"
      ],
      "text/plain": [
       "⎡                              _____________                                   ↪\n",
       "⎢\\phi⁰₁⋅\\phi⁰₂ - {{\\phi_1__+}}⋅{{\\phi_2__+}}                       0           ↪\n",
       "⎢                                                                              ↪\n",
       "⎢                                                                           __ ↪\n",
       "⎣                     0                       \\phi⁰₁⋅\\phi⁰₂ - {{\\phi_1__+}}⋅{{ ↪\n",
       "\n",
       "↪            ⎤\n",
       "↪            ⎥\n",
       "↪            ⎥\n",
       "↪ ___________⎥\n",
       "↪ \\phi_2__+}}⎦"
      ]
     },
     "metadata": {},
     "output_type": "display_data"
    },
    {
     "data": {
      "text/latex": [
       "$\\displaystyle \\left[\\begin{matrix}\\phi^{0}_{2} \\overline{\\phi^{0}_{2}} + {{\\phi_1^+}} \\overline{{{\\phi_1^+}}} & - \\phi^{0}_{2} {{\\phi_2^+}} - {{\\phi_1^+}} \\overline{\\phi^{0}_{1}}\\\\- \\phi^{0}_{1} \\overline{{{\\phi_1^+}}} - \\overline{\\phi^{0}_{2}} \\overline{{{\\phi_2^+}}} & \\phi^{0}_{1} \\overline{\\phi^{0}_{1}} + {{\\phi_2^+}} \\overline{{{\\phi_2^+}}}\\end{matrix}\\right]$"
      ],
      "text/plain": [
       "⎡        ______                 _____________                                  ↪\n",
       "⎢ \\phi⁰₂⋅\\phi⁰₂ + {{\\phi_1__+}}⋅{{\\phi_1__+}}   -\\phi⁰₂⋅{{\\phi_2__+}} - {{\\phi ↪\n",
       "⎢                                                                              ↪\n",
       "⎢         _____________   ______ _____________         ______                  ↪\n",
       "⎣- \\phi⁰₁⋅{{\\phi_1__+}} - \\phi⁰₂⋅{{\\phi_2__+}}  \\phi⁰₁⋅\\phi⁰₁ + {{\\phi_2__+}}⋅ ↪\n",
       "\n",
       "↪         ______⎤\n",
       "↪ _1__+}}⋅\\phi⁰₁⎥\n",
       "↪               ⎥\n",
       "↪ _____________ ⎥\n",
       "↪ {{\\phi_2__+}} ⎦"
      ]
     },
     "metadata": {},
     "output_type": "display_data"
    },
    {
     "data": {
      "text/latex": [
       "$\\displaystyle \\left[\\begin{matrix}\\phi^{0}_{1} \\overline{\\phi^{0}_{1}} + {{\\phi_1^+}} \\overline{{{\\phi_1^+}}} & \\phi^{0}_{1} {{\\phi_2^+}} + {{\\phi_1^+}} \\overline{\\phi^{0}_{2}}\\\\\\phi^{0}_{2} \\overline{{{\\phi_1^+}}} + \\overline{\\phi^{0}_{1}} \\overline{{{\\phi_2^+}}} & \\phi^{0}_{2} \\overline{\\phi^{0}_{2}} + {{\\phi_2^+}} \\overline{{{\\phi_2^+}}}\\end{matrix}\\right]$"
      ],
      "text/plain": [
       "⎡       ______                 _____________                                   ↪\n",
       "⎢\\phi⁰₁⋅\\phi⁰₁ + {{\\phi_1__+}}⋅{{\\phi_1__+}}  \\phi⁰₁⋅{{\\phi_2__+}} + {{\\phi_1_ ↪\n",
       "⎢                                                                              ↪\n",
       "⎢       _____________   ______ _____________         ______                 __ ↪\n",
       "⎣\\phi⁰₂⋅{{\\phi_1__+}} + \\phi⁰₁⋅{{\\phi_2__+}}  \\phi⁰₂⋅\\phi⁰₂ + {{\\phi_2__+}}⋅{{ ↪\n",
       "\n",
       "↪      ______⎤\n",
       "↪ _+}}⋅\\phi⁰₂⎥\n",
       "↪            ⎥\n",
       "↪ ___________⎥\n",
       "↪ \\phi_2__+}}⎦"
      ]
     },
     "metadata": {},
     "output_type": "display_data"
    },
    {
     "data": {
      "text/latex": [
       "$\\displaystyle \\left[\\begin{matrix}\\phi^{0}_{1} \\phi^{0}_{2} - {{\\phi_1^+}} \\overline{{{\\phi_2^+}}} & 0\\\\0 & \\phi^{0}_{1} \\phi^{0}_{2} - {{\\phi_1^+}} \\overline{{{\\phi_2^+}}}\\end{matrix}\\right]$"
      ],
      "text/plain": [
       "⎡                              _____________                                   ↪\n",
       "⎢\\phi⁰₁⋅\\phi⁰₂ - {{\\phi_1__+}}⋅{{\\phi_2__+}}                       0           ↪\n",
       "⎢                                                                              ↪\n",
       "⎢                                                                           __ ↪\n",
       "⎣                     0                       \\phi⁰₁⋅\\phi⁰₂ - {{\\phi_1__+}}⋅{{ ↪\n",
       "\n",
       "↪            ⎤\n",
       "↪            ⎥\n",
       "↪            ⎥\n",
       "↪ ___________⎥\n",
       "↪ \\phi_2__+}}⎦"
      ]
     },
     "metadata": {},
     "output_type": "display_data"
    }
   ],
   "source": [
    "PhiDagger = Dagger(Phi)\n",
    "#PhiDagger\n",
    "PhiDaggerPhi = PhiDagger*Phi\n",
    "display(PhiDaggerPhi)\n",
    "Phitilde = (msigma(2)*conjugate(Phi)*msigma(2))\n",
    "#Phitilde\n",
    "display(Phitilde)\n",
    "PhitildeDagger = Dagger(Phitilde)\n",
    "PhiDaggerPhitilde = PhiDagger*Phitilde\n",
    "display(PhiDaggerPhitilde)\n",
    "#PhitildeDagger\n",
    "display(PhitildeDagger)\n",
    "PhitildeDaggerPhi = PhitildeDagger*Phi\n",
    "display(PhitildeDaggerPhi)\n",
    "PhitildeDaggerPhitilde = PhitildeDagger*Phitilde\n",
    "display(PhitildeDaggerPhitilde)\n",
    "PhiPhiDagger = Phi*PhiDagger\n",
    "display(PhiPhiDagger)\n",
    "PhiPhitildeDagger = Phi*PhitildeDagger\n",
    "display(PhiPhitildeDagger)"
   ]
  },
  {
   "cell_type": "code",
   "execution_count": 12,
   "metadata": {},
   "outputs": [
    {
     "data": {
      "image/png": "[encoded data removed]",
      "text/latex": [
       "$\\displaystyle \\chi^{0}_{L} \\overline{\\chi^{0}_{L}} + {{\\chi_L^+}} \\overline{{{\\chi_L^+}}}$"
      ],
      "text/plain": [
       "          _________                 _____________\n",
       "\\chi_L__0⋅\\chi_L__0 + {{\\chi_L__+}}⋅{{\\chi_L__+}}"
      ]
     },
     "metadata": {},
     "output_type": "display_data"
    },
    {
     "data": {
      "image/png": "[encoded data removed]",
      "text/latex": [
       "$\\displaystyle \\chi^{0}_{R} \\overline{\\chi^{0}_{R}} + {{\\chi_R^+}} \\overline{{{\\chi_R^+}}}$"
      ],
      "text/plain": [
       "          _________                 _____________\n",
       "\\chi_R__0⋅\\chi_R__0 + {{\\chi_R__+}}⋅{{\\chi_R__+}}"
      ]
     },
     "metadata": {},
     "output_type": "display_data"
    }
   ],
   "source": [
    "ChiLDagger = Dagger(ChiL)\n",
    "ChiRDagger = Dagger(ChiR)\n",
    "\n",
    "ChiLDaggerChiL = (ChiLDagger*ChiL)[0]\n",
    "display(ChiLDaggerChiL)\n",
    "ChiRDaggerChiR = (ChiRDagger*ChiR)[0]\n",
    "display(ChiRDaggerChiR)"
   ]
  },
  {
   "cell_type": "code",
   "execution_count": 13,
   "metadata": {},
   "outputs": [],
   "source": [
    "mu12, mu22 = symbols(r'\\mu_1^2, \\mu_2^2', real=True)\n",
    "lamb1, lamb2, lamb3, lamb4, lamb5, lamb6 = symbols(r'\\lambda_1, \\lambda_2, \\lambda_3, \\lambda_4, \\lambda_5, \\lambda_6', real=True)\n",
    "alpha1, alpha2, alpha3 = symbols(r'\\alpha_1, \\alpha_2, \\alpha_3', real=True)\n",
    "rho1, rho2,= symbols(r'\\rho_1, \\rho_2', real=True)\n"
   ]
  },
  {
   "cell_type": "code",
   "execution_count": 14,
   "metadata": {},
   "outputs": [],
   "source": [
    "#conjugate(trace(PhiDaggerPhitilde*PhiDaggerPhitilde))"
   ]
  },
  {
   "cell_type": "code",
   "execution_count": 15,
   "metadata": {},
   "outputs": [],
   "source": [
    "#trace(PhitildeDaggerPhi*PhitildeDaggerPhi)"
   ]
  },
  {
   "cell_type": "code",
   "execution_count": 16,
   "metadata": {},
   "outputs": [],
   "source": [
    "V = (\n",
    "    - mu12*trace(PhiDaggerPhi)\n",
    "    + lamb1*trace(PhiDaggerPhi)**2\n",
    "    + lamb2*trace(PhiDaggerPhi*PhiDaggerPhi)\n",
    "    + lamb3/2*(trace(PhiDaggerPhitilde) + trace(PhitildeDaggerPhi))**2\n",
    "    + lamb4/2*(trace(PhiDaggerPhitilde) - trace(PhitildeDaggerPhi))**2\n",
    "    + lamb5*trace(PhiDaggerPhi*PhitildeDaggerPhitilde)\n",
    "    + lamb6/2*(trace(PhiDaggerPhitilde*PhiDaggerPhitilde) + conjugate(trace(PhiDaggerPhitilde*PhiDaggerPhitilde)))\n",
    "    - mu22*(ChiLDaggerChiL + ChiRDaggerChiR)\n",
    "    + rho1*(ChiLDaggerChiL**2 + ChiRDaggerChiR**2)\n",
    "    + rho2*(ChiLDaggerChiL*ChiRDaggerChiR)\n",
    "    + alpha1*trace(PhiDaggerPhi)*(ChiLDaggerChiL + ChiRDaggerChiR)\n",
    "    + alpha2*(\n",
    "        ChiLDagger*Phi*PhiDagger*ChiL\n",
    "        + ChiRDagger*PhiDagger*Phi*ChiR\n",
    "    )[0]\n",
    "    + alpha3*(\n",
    "        ChiLDagger*Phitilde*PhitildeDagger*ChiL\n",
    "        + ChiRDagger*PhitildeDagger*Phitilde*ChiR\n",
    "    )[0]\n",
    ")"
   ]
  },
  {
   "cell_type": "code",
   "execution_count": 17,
   "metadata": {},
   "outputs": [
    {
     "data": {
      "image/png": "[encoded data removed]",
      "text/latex": [
       "$\\displaystyle \\left\\{ \\chi^{0}_{R} : v_{R}, \\  {{\\chi_R^+}} : 0\\right\\}$"
      ],
      "text/plain": [
       "{\\chi_R__0: v_R, {{\\chi_R__+}}: 0}"
      ]
     },
     "execution_count": 17,
     "metadata": {},
     "output_type": "execute_result"
    }
   ],
   "source": [
    "vevR"
   ]
  },
  {
   "cell_type": "code",
   "execution_count": 18,
   "metadata": {},
   "outputs": [
    {
     "data": {
      "image/png": "[encoded data removed]",
      "text/latex": [
       "$\\displaystyle \\alpha_{1} \\left(k_{1}^{2} + k_{2}^{2}\\right) \\left(v_{L}^{2} + v_{R}^{2}\\right) + \\alpha_{2} k_{2}^{2} \\left(v_{L}^{2} + v_{R}^{2}\\right) + \\alpha_{3} k_{1}^{2} \\left(v_{L}^{2} + v_{R}^{2}\\right) + \\lambda_{1} \\left(k_{1}^{2} + k_{2}^{2}\\right)^{2} + \\lambda_{2} \\left(k_{1}^{4} + k_{2}^{4}\\right) + 8 \\lambda_{3} k_{1}^{2} k_{2}^{2} + 2 \\lambda_{5} k_{1}^{2} k_{2}^{2} + 2 \\lambda_{6} k_{1}^{2} k_{2}^{2} - \\mu^{2}_{1} \\left(k_{1}^{2} + k_{2}^{2}\\right) - \\mu^{2}_{2} \\left(v_{L}^{2} + v_{R}^{2}\\right) + \\rho_{1} \\left(v_{L}^{4} + v_{R}^{4}\\right) + \\rho_{2} v_{L}^{2} v_{R}^{2}$"
      ],
      "text/plain": [
       "                                                                               ↪\n",
       "        ⎛  2     2⎞ ⎛   2      2⎞             2 ⎛   2      2⎞             2 ⎛  ↪\n",
       "\\alpha₁⋅⎝k₁  + k₂ ⎠⋅⎝v_L  + v_R ⎠ + \\alpha₂⋅k₂ ⋅⎝v_L  + v_R ⎠ + \\alpha₃⋅k₁ ⋅⎝v ↪\n",
       "\n",
       "↪                                   2                                          ↪\n",
       "↪   2      2⎞            ⎛  2     2⎞             ⎛  4     4⎞                2  ↪\n",
       "↪ _L  + v_R ⎠ + \\lambda₁⋅⎝k₁  + k₂ ⎠  + \\lambda₂⋅⎝k₁  + k₂ ⎠ + 8⋅\\lambda₃⋅k₁ ⋅ ↪\n",
       "\n",
       "↪                                                                              ↪\n",
       "↪   2                2   2                2   2         ⎛  2     2⎞         ⎛  ↪\n",
       "↪ k₂  + 2⋅\\lambda₅⋅k₁ ⋅k₂  + 2⋅\\lambda₆⋅k₁ ⋅k₂  - \\mu²₁⋅⎝k₁  + k₂ ⎠ - \\mu²₂⋅⎝v ↪\n",
       "\n",
       "↪                                                    \n",
       "↪   2      2⎞         ⎛   4      4⎞            2    2\n",
       "↪ _L  + v_R ⎠ + \\rho₁⋅⎝v_L  + v_R ⎠ + \\rho₂⋅v_L ⋅v_R "
      ]
     },
     "execution_count": 18,
     "metadata": {},
     "output_type": "execute_result"
    }
   ],
   "source": [
    "VLRPhi_vev = V.subs(vevL).subs(vevR).subs(vevPhi).simplify()#.collect([mu12, mu22, mu32, lamb2, rho1, beta2], factor)#.subs(k1ri)\n",
    "VLRPhi_vev"
   ]
  },
  {
   "cell_type": "markdown",
   "metadata": {},
   "source": [
    "### Tadpole conditions"
   ]
  },
  {
   "cell_type": "code",
   "execution_count": 19,
   "metadata": {},
   "outputs": [],
   "source": [
    "scalar_vevs = [k1, k2, vL, vR]\n",
    "tadpoles_relations = {}\n",
    "for vev in scalar_vevs:\n",
    "    tadpoles_relations[vev] = VLRPhi_vev.diff(vev).factor()"
   ]
  },
  {
   "cell_type": "code",
   "execution_count": 20,
   "metadata": {},
   "outputs": [
    {
     "data": {
      "image/png": "[encoded data removed]",
      "text/latex": [
       "$\\displaystyle k_{1}$"
      ],
      "text/plain": [
       "k₁"
      ]
     },
     "metadata": {},
     "output_type": "display_data"
    },
    {
     "data": {
      "image/png": "[encoded data removed]",
      "text/latex": [
       "$\\displaystyle 2 k_{1} \\left(- \\mu^{2}_{1} + 2 k_{1}^{2} \\left(\\lambda_{1} + \\lambda_{2}\\right) + 2 k_{2}^{2} \\left(\\lambda_{1} + 4 \\lambda_{3} + \\lambda_{5} + \\lambda_{6}\\right) + v_{L}^{2} \\left(\\alpha_{1} + \\alpha_{3}\\right) + v_{R}^{2} \\left(\\alpha_{1} + \\alpha_{3}\\right)\\right)$"
      ],
      "text/plain": [
       "     ⎛             2                             2                             ↪\n",
       "2⋅k₁⋅⎝-\\mu²₁ + 2⋅k₁ ⋅(\\lambda₁ + \\lambda₂) + 2⋅k₂ ⋅(\\lambda₁ + 4⋅\\lambda₃ + \\l ↪\n",
       "\n",
       "↪                         2                          2                    ⎞\n",
       "↪ ambda₅ + \\lambda₆) + v_L ⋅(\\alpha₁ + \\alpha₃) + v_R ⋅(\\alpha₁ + \\alpha₃)⎠"
      ]
     },
     "metadata": {},
     "output_type": "display_data"
    },
    {
     "data": {
      "image/png": "[encoded data removed]",
      "text/latex": [
       "$\\displaystyle k_{2}$"
      ],
      "text/plain": [
       "k₂"
      ]
     },
     "metadata": {},
     "output_type": "display_data"
    },
    {
     "data": {
      "image/png": "[encoded data removed]",
      "text/latex": [
       "$\\displaystyle 2 k_{2} \\left(- \\mu^{2}_{1} + 2 k_{1}^{2} \\left(\\lambda_{1} + 4 \\lambda_{3} + \\lambda_{5} + \\lambda_{6}\\right) + 2 k_{2}^{2} \\left(\\lambda_{1} + \\lambda_{2}\\right) + v_{L}^{2} \\left(\\alpha_{1} + \\alpha_{2}\\right) + v_{R}^{2} \\left(\\alpha_{1} + \\alpha_{2}\\right)\\right)$"
      ],
      "text/plain": [
       "     ⎛             2                                                     2     ↪\n",
       "2⋅k₂⋅⎝-\\mu²₁ + 2⋅k₁ ⋅(\\lambda₁ + 4⋅\\lambda₃ + \\lambda₅ + \\lambda₆) + 2⋅k₂ ⋅(\\l ↪\n",
       "\n",
       "↪                         2                          2                    ⎞\n",
       "↪ ambda₁ + \\lambda₂) + v_L ⋅(\\alpha₁ + \\alpha₂) + v_R ⋅(\\alpha₁ + \\alpha₂)⎠"
      ]
     },
     "metadata": {},
     "output_type": "display_data"
    },
    {
     "data": {
      "image/png": "[encoded data removed]",
      "text/latex": [
       "$\\displaystyle v_{L}$"
      ],
      "text/plain": [
       "v_L"
      ]
     },
     "metadata": {},
     "output_type": "display_data"
    },
    {
     "data": {
      "image/png": "[encoded data removed]",
      "text/latex": [
       "$\\displaystyle 2 v_{L} \\left(- \\mu^{2}_{2} + 2 \\rho_{1} v_{L}^{2} + \\rho_{2} v_{R}^{2} + k_{1}^{2} \\left(\\alpha_{1} + \\alpha_{3}\\right) + k_{2}^{2} \\left(\\alpha_{1} + \\alpha_{2}\\right)\\right)$"
      ],
      "text/plain": [
       "      ⎛                    2            2     2                         2      ↪\n",
       "2⋅v_L⋅⎝-\\mu²₂ + 2⋅\\rho₁⋅v_L  + \\rho₂⋅v_R  + k₁ ⋅(\\alpha₁ + \\alpha₃) + k₂ ⋅(\\al ↪\n",
       "\n",
       "↪                ⎞\n",
       "↪ pha₁ + \\alpha₂)⎠"
      ]
     },
     "metadata": {},
     "output_type": "display_data"
    },
    {
     "data": {
      "image/png": "[encoded data removed]",
      "text/latex": [
       "$\\displaystyle v_{R}$"
      ],
      "text/plain": [
       "v_R"
      ]
     },
     "metadata": {},
     "output_type": "display_data"
    },
    {
     "data": {
      "image/png": "[encoded data removed]",
      "text/latex": [
       "$\\displaystyle 2 v_{R} \\left(- \\mu^{2}_{2} + 2 \\rho_{1} v_{R}^{2} + \\rho_{2} v_{L}^{2} + k_{1}^{2} \\left(\\alpha_{1} + \\alpha_{3}\\right) + k_{2}^{2} \\left(\\alpha_{1} + \\alpha_{2}\\right)\\right)$"
      ],
      "text/plain": [
       "      ⎛                    2            2     2                         2      ↪\n",
       "2⋅v_R⋅⎝-\\mu²₂ + 2⋅\\rho₁⋅v_R  + \\rho₂⋅v_L  + k₁ ⋅(\\alpha₁ + \\alpha₃) + k₂ ⋅(\\al ↪\n",
       "\n",
       "↪                ⎞\n",
       "↪ pha₁ + \\alpha₂)⎠"
      ]
     },
     "metadata": {},
     "output_type": "display_data"
    }
   ],
   "source": [
    "for muij, tadpole in tadpoles_relations.items():\n",
    "    display(muij)\n",
    "    tadpole_simplified = tadpole.collect([k1, k2, vL, vR], factor)\n",
    "    display(tadpole_simplified)"
   ]
  },
  {
   "cell_type": "code",
   "execution_count": 21,
   "metadata": {},
   "outputs": [
    {
     "data": {
      "image/png": "[encoded data removed]",
      "text/latex": [
       "$\\displaystyle 2 k_{1} \\left(\\alpha_{1} v_{L}^{2} + \\alpha_{1} v_{R}^{2} + \\alpha_{3} v_{L}^{2} + \\alpha_{3} v_{R}^{2} + 2 \\lambda_{1} k_{1}^{2} + 2 \\lambda_{1} k_{2}^{2} + 2 \\lambda_{2} k_{1}^{2} + 8 \\lambda_{3} k_{2}^{2} + 2 \\lambda_{5} k_{2}^{2} + 2 \\lambda_{6} k_{2}^{2} - \\mu^{2}_{1}\\right)$"
      ],
      "text/plain": [
       "     ⎛           2              2              2              2                ↪\n",
       "2⋅k₁⋅⎝\\alpha₁⋅v_L  + \\alpha₁⋅v_R  + \\alpha₃⋅v_L  + \\alpha₃⋅v_R  + 2⋅\\lambda₁⋅k ↪\n",
       "\n",
       "↪  2                2                2                2                2       ↪\n",
       "↪ ₁  + 2⋅\\lambda₁⋅k₂  + 2⋅\\lambda₂⋅k₁  + 8⋅\\lambda₃⋅k₂  + 2⋅\\lambda₅⋅k₂  + 2⋅\\ ↪\n",
       "\n",
       "↪           2        ⎞\n",
       "↪ lambda₆⋅k₂  - \\mu²₁⎠"
      ]
     },
     "execution_count": 21,
     "metadata": {},
     "output_type": "execute_result"
    }
   ],
   "source": [
    "tadpoles_relations[k1]"
   ]
  },
  {
   "cell_type": "code",
   "execution_count": 22,
   "metadata": {},
   "outputs": [
    {
     "data": {
      "image/png": "[encoded data removed]",
      "text/latex": [
       "$\\displaystyle 2 v_{R} \\left(\\alpha_{1} k_{1}^{2} + \\alpha_{3} k_{1}^{2} - \\mu^{2}_{2} + 2 \\rho_{1} v_{R}^{2}\\right)$"
      ],
      "text/plain": [
       "      ⎛          2             2                      2⎞\n",
       "2⋅v_R⋅⎝\\alpha₁⋅k₁  + \\alpha₃⋅k₁  - \\mu²₂ + 2⋅\\rho₁⋅v_R ⎠"
      ]
     },
     "execution_count": 22,
     "metadata": {},
     "output_type": "execute_result"
    }
   ],
   "source": [
    "tadpoles_relations[vR].subs(k2,0).subs(vL, 0)"
   ]
  },
  {
   "cell_type": "code",
   "execution_count": 23,
   "metadata": {},
   "outputs": [
    {
     "data": {
      "image/png": "[encoded data removed]",
      "text/latex": [
       "$\\displaystyle \\left\\{ \\mu^{2}_{1} : \\alpha_{1} v_{L}^{2} + \\alpha_{1} v_{R}^{2} + \\alpha_{3} v_{L}^{2} + \\alpha_{3} v_{R}^{2} + 2 \\lambda_{1} k_{1}^{2} + 2 \\lambda_{1} k_{2}^{2} + 2 \\lambda_{2} k_{1}^{2} + 8 \\lambda_{3} k_{2}^{2} + 2 \\lambda_{5} k_{2}^{2} + 2 \\lambda_{6} k_{2}^{2}, \\  \\mu^{2}_{2} : \\alpha_{1} k_{1}^{2} + \\alpha_{1} k_{2}^{2} + \\alpha_{2} k_{2}^{2} + \\alpha_{3} k_{1}^{2} + 2 \\rho_{1} v_{R}^{2} + \\rho_{2} v_{L}^{2}\\right\\}$"
      ],
      "text/plain": [
       "⎧                  2              2              2              2              ↪\n",
       "⎨\\mu²₁: \\alpha₁⋅v_L  + \\alpha₁⋅v_R  + \\alpha₃⋅v_L  + \\alpha₃⋅v_R  + 2⋅\\lambda₁ ↪\n",
       "⎩                                                                              ↪\n",
       "\n",
       "↪    2                2                2                2                2     ↪\n",
       "↪ ⋅k₁  + 2⋅\\lambda₁⋅k₂  + 2⋅\\lambda₂⋅k₁  + 8⋅\\lambda₃⋅k₂  + 2⋅\\lambda₅⋅k₂  + 2 ↪\n",
       "↪                                                                              ↪\n",
       "\n",
       "↪             2                   2             2             2             2  ↪\n",
       "↪ ⋅\\lambda₆⋅k₂ , \\mu²₂: \\alpha₁⋅k₁  + \\alpha₁⋅k₂  + \\alpha₂⋅k₂  + \\alpha₃⋅k₁   ↪\n",
       "↪                                                                              ↪\n",
       "\n",
       "↪              2            2⎫\n",
       "↪ + 2⋅\\rho₁⋅v_R  + \\rho₂⋅v_L ⎬\n",
       "↪                            ⎭"
      ]
     },
     "execution_count": 23,
     "metadata": {},
     "output_type": "execute_result"
    }
   ],
   "source": [
    "tadpole12_sol = solve([tadpoles_relations[k1], tadpoles_relations[vR]], [mu12, mu22], dict=True)[0]\n",
    "tadpole12_sol"
   ]
  },
  {
   "cell_type": "code",
   "execution_count": 24,
   "metadata": {},
   "outputs": [
    {
     "data": {
      "image/png": "[encoded data removed]",
      "text/latex": [
       "$\\displaystyle \\mu^{2}_{1}$"
      ],
      "text/plain": [
       "\\mu²₁"
      ]
     },
     "metadata": {},
     "output_type": "display_data"
    },
    {
     "data": {
      "image/png": "[encoded data removed]",
      "text/latex": [
       "$\\displaystyle 2 k_{1}^{2} \\left(\\lambda_{1} + \\lambda_{2}\\right) + v_{R}^{2} \\left(\\alpha_{1} + \\alpha_{3}\\right)$"
      ],
      "text/plain": [
       "    2                            2                    \n",
       "2⋅k₁ ⋅(\\lambda₁ + \\lambda₂) + v_R ⋅(\\alpha₁ + \\alpha₃)"
      ]
     },
     "metadata": {},
     "output_type": "display_data"
    },
    {
     "data": {
      "image/png": "[encoded data removed]",
      "text/latex": [
       "$\\displaystyle \\mu^{2}_{2}$"
      ],
      "text/plain": [
       "\\mu²₂"
      ]
     },
     "metadata": {},
     "output_type": "display_data"
    },
    {
     "data": {
      "image/png": "[encoded data removed]",
      "text/latex": [
       "$\\displaystyle 2 \\rho_{1} v_{R}^{2} + k_{1}^{2} \\left(\\alpha_{1} + \\alpha_{3}\\right)$"
      ],
      "text/plain": [
       "           2     2                    \n",
       "2⋅\\rho₁⋅v_R  + k₁ ⋅(\\alpha₁ + \\alpha₃)"
      ]
     },
     "metadata": {},
     "output_type": "display_data"
    }
   ],
   "source": [
    "tadpoles_relations_simplified = {}\n",
    "for muij, tadpole in tadpole12_sol.items():\n",
    "    display(muij)\n",
    "    tadpole_simplified = tadpole.collect([k1, k2, vL, vR], factor).subs(k2,0).subs(vL, 0) # remove vL and vR\n",
    "    display(tadpole_simplified)\n",
    "    tadpoles_relations_simplified[muij] = tadpole_simplified"
   ]
  },
  {
   "cell_type": "code",
   "execution_count": 25,
   "metadata": {},
   "outputs": [
    {
     "data": {
      "image/png": "[encoded data removed]",
      "text/latex": [
       "$\\displaystyle \\left\\{ \\alpha_{1} : \\frac{\\mu^{2}_{2}}{k_{1}^{2}} + \\frac{- \\alpha_{3} k_{1}^{2} v_{L}^{2} - \\alpha_{3} k_{1}^{2} v_{R}^{2} + 2 \\lambda_{1} k_{1}^{2} k_{2}^{2} + 2 \\lambda_{1} k_{2}^{4} + 2 \\lambda_{2} k_{2}^{4} + 8 \\lambda_{3} k_{1}^{2} k_{2}^{2} + 2 \\lambda_{5} k_{1}^{2} k_{2}^{2} + 2 \\lambda_{6} k_{1}^{2} k_{2}^{2} - \\mu^{2}_{1} k_{2}^{2} - 2 \\rho_{1} v_{L}^{4} - 2 \\rho_{1} v_{L}^{2} v_{R}^{2} - \\rho_{2} v_{L}^{2} v_{R}^{2} - \\rho_{2} v_{R}^{4}}{k_{1}^{2} v_{L}^{2} + k_{1}^{2} v_{R}^{2}}, \\  \\alpha_{2} : - \\frac{\\mu^{2}_{2}}{k_{1}^{2}} + \\frac{\\alpha_{3} k_{1}^{2} v_{L}^{2} + \\alpha_{3} k_{1}^{2} v_{R}^{2} - 2 \\lambda_{1} k_{1}^{4} - 4 \\lambda_{1} k_{1}^{2} k_{2}^{2} - 2 \\lambda_{1} k_{2}^{4} - 2 \\lambda_{2} k_{1}^{2} k_{2}^{2} - 2 \\lambda_{2} k_{2}^{4} - 8 \\lambda_{3} k_{1}^{4} - 8 \\lambda_{3} k_{1}^{2} k_{2}^{2} - 2 \\lambda_{5} k_{1}^{4} - 2 \\lambda_{5} k_{1}^{2} k_{2}^{2} - 2 \\lambda_{6} k_{1}^{4} - 2 \\lambda_{6} k_{1}^{2} k_{2}^{2} + \\mu^{2}_{1} k_{1}^{2} + \\mu^{2}_{1} k_{2}^{2} + 2 \\rho_{1} v_{L}^{4} + 2 \\rho_{1} v_{L}^{2} v_{R}^{2} + \\rho_{2} v_{L}^{2} v_{R}^{2} + \\rho_{2} v_{R}^{4}}{k_{1}^{2} v_{L}^{2} + k_{1}^{2} v_{R}^{2}}\\right\\}$"
      ],
      "text/plain": [
       "⎧                             2    2             2    2                2   2   ↪\n",
       "⎪         \\mu²₂   - \\alpha₃⋅k₁ ⋅v_L  - \\alpha₃⋅k₁ ⋅v_R  + 2⋅\\lambda₁⋅k₁ ⋅k₂  + ↪\n",
       "⎨\\alpha₁: ───── + ──────────────────────────────────────────────────────────── ↪\n",
       "⎪            2                                                                 ↪\n",
       "⎩          k₁                                                                  ↪\n",
       "\n",
       "↪               4                4                2   2                2   2   ↪\n",
       "↪  2⋅\\lambda₁⋅k₂  + 2⋅\\lambda₂⋅k₂  + 8⋅\\lambda₃⋅k₁ ⋅k₂  + 2⋅\\lambda₅⋅k₁ ⋅k₂  + ↪\n",
       "↪ ──────────────────────────────────────────────────────────────────────────── ↪\n",
       "↪                                                  2    2     2    2           ↪\n",
       "↪                                                k₁ ⋅v_L  + k₁ ⋅v_R            ↪\n",
       "\n",
       "↪               2   2           2              4              2    2           ↪\n",
       "↪  2⋅\\lambda₆⋅k₁ ⋅k₂  - \\mu²₁⋅k₂  - 2⋅\\rho₁⋅v_L  - 2⋅\\rho₁⋅v_L ⋅v_R  - \\rho₂⋅v ↪\n",
       "↪ ──────────────────────────────────────────────────────────────────────────── ↪\n",
       "↪                                                                              ↪\n",
       "↪                                                                              ↪\n",
       "\n",
       "↪   2    2            4                               2    2             2     ↪\n",
       "↪ _L ⋅v_R  - \\rho₂⋅v_R              \\mu²₂   \\alpha₃⋅k₁ ⋅v_L  + \\alpha₃⋅k₁ ⋅v_R ↪\n",
       "↪ ─────────────────────, \\alpha₂: - ───── + ────────────────────────────────── ↪\n",
       "↪                                      2                                       ↪\n",
       "↪                                    k₁                                        ↪\n",
       "\n",
       "↪ 2                4                2   2                4                2    ↪\n",
       "↪   - 2⋅\\lambda₁⋅k₁  - 4⋅\\lambda₁⋅k₁ ⋅k₂  - 2⋅\\lambda₁⋅k₂  - 2⋅\\lambda₂⋅k₁ ⋅k₂ ↪\n",
       "↪ ──────────────────────────────────────────────────────────────────────────── ↪\n",
       "↪                                                                              ↪\n",
       "↪                                                                              ↪\n",
       "\n",
       "↪ 2                4                4                2   2                4    ↪\n",
       "↪   - 2⋅\\lambda₂⋅k₂  - 8⋅\\lambda₃⋅k₁  - 8⋅\\lambda₃⋅k₁ ⋅k₂  - 2⋅\\lambda₅⋅k₁  -  ↪\n",
       "↪ ──────────────────────────────────────────────────────────────────────────── ↪\n",
       "↪                                                 2    2     2    2            ↪\n",
       "↪                                               k₁ ⋅v_L  + k₁ ⋅v_R             ↪\n",
       "\n",
       "↪              2   2                4                2   2           2         ↪\n",
       "↪ 2⋅\\lambda₅⋅k₁ ⋅k₂  - 2⋅\\lambda₆⋅k₁  - 2⋅\\lambda₆⋅k₁ ⋅k₂  + \\mu²₁⋅k₁  + \\mu²₁ ↪\n",
       "↪ ──────────────────────────────────────────────────────────────────────────── ↪\n",
       "↪                                                                              ↪\n",
       "↪                                                                              ↪\n",
       "\n",
       "↪    2              4              2    2            2    2            4⎫\n",
       "↪ ⋅k₂  + 2⋅\\rho₁⋅v_L  + 2⋅\\rho₁⋅v_L ⋅v_R  + \\rho₂⋅v_L ⋅v_R  + \\rho₂⋅v_R ⎪\n",
       "↪ ──────────────────────────────────────────────────────────────────────⎬\n",
       "↪                                                                       ⎪\n",
       "↪                                                                       ⎭"
      ]
     },
     "execution_count": 25,
     "metadata": {},
     "output_type": "execute_result"
    }
   ],
   "source": [
    "tadpole12_sol_2L = solve([tadpoles_relations[k2], tadpoles_relations[vL]], [alpha1, alpha2, mu22], dict=True)[0]\n",
    "tadpole12_sol_2L"
   ]
  },
  {
   "cell_type": "code",
   "execution_count": 26,
   "metadata": {},
   "outputs": [
    {
     "data": {
      "image/png": "[encoded data removed]",
      "text/latex": [
       "$\\displaystyle \\alpha_{1}$"
      ],
      "text/plain": [
       "\\alpha₁"
      ]
     },
     "metadata": {},
     "output_type": "display_data"
    },
    {
     "data": {
      "image/png": "[encoded data removed]",
      "text/latex": [
       "$\\displaystyle - \\alpha_{3} + \\frac{\\mu^{2}_{2} v_{R}^{2} - \\rho_{2} v_{R}^{4}}{k_{1}^{2} v_{R}^{2}}$"
      ],
      "text/plain": [
       "                    2            4\n",
       "           \\mu²₂⋅v_R  - \\rho₂⋅v_R \n",
       "-\\alpha₃ + ───────────────────────\n",
       "                    2    2        \n",
       "                  k₁ ⋅v_R         "
      ]
     },
     "metadata": {},
     "output_type": "display_data"
    },
    {
     "data": {
      "image/png": "[encoded data removed]",
      "text/latex": [
       "$\\displaystyle \\alpha_{2}$"
      ],
      "text/plain": [
       "\\alpha₂"
      ]
     },
     "metadata": {},
     "output_type": "display_data"
    },
    {
     "data": {
      "image/png": "[encoded data removed]",
      "text/latex": [
       "$\\displaystyle \\alpha_{3} + \\frac{\\mu^{2}_{1}}{v_{R}^{2}} - \\frac{2 k_{1}^{2} \\left(\\lambda_{1} + 4 \\lambda_{3} + \\lambda_{5} + \\lambda_{6}\\right)}{v_{R}^{2}} - \\frac{\\mu^{2}_{2} v_{R}^{2} - \\rho_{2} v_{R}^{4}}{k_{1}^{2} v_{R}^{2}}$"
      ],
      "text/plain": [
       "                      2                                                        ↪\n",
       "          \\mu²₁   2⋅k₁ ⋅(\\lambda₁ + 4⋅\\lambda₃ + \\lambda₅ + \\lambda₆)   \\mu²₂⋅ ↪\n",
       "\\alpha₃ + ───── - ─────────────────────────────────────────────────── - ────── ↪\n",
       "             2                              2                                  ↪\n",
       "          v_R                            v_R                                   ↪\n",
       "\n",
       "↪    2            4\n",
       "↪ v_R  - \\rho₂⋅v_R \n",
       "↪ ─────────────────\n",
       "↪    2    2        \n",
       "↪  k₁ ⋅v_R         "
      ]
     },
     "metadata": {},
     "output_type": "display_data"
    }
   ],
   "source": [
    "tadpoles_relations_simplified_2L = {}\n",
    "for muij, tadpole in tadpole12_sol_2L.items():\n",
    "    display(muij)\n",
    "    tadpole_simplified = tadpole.expand().collect([k1, k2, vL, vR], factor).subs(k2,0).subs(vL, 0)\n",
    "    display(tadpole_simplified)\n",
    "    tadpoles_relations_simplified_2L[muij] = tadpole_simplified"
   ]
  },
  {
   "cell_type": "markdown",
   "metadata": {},
   "source": [
    "## Mass matrices"
   ]
  },
  {
   "cell_type": "code",
   "execution_count": 27,
   "metadata": {},
   "outputs": [],
   "source": [
    "phi10r, phi10i = symbols(r'\\phi_1^{0r}, \\phi_1^{0i}', real=True)\n",
    "phi20r, phi20i = symbols(r'\\phi_2^{0r}, \\phi_2^{0i}', real=True)\n",
    "chiR0r, chiR0i = symbols(r'\\chi_R^{0r}, \\chi_R^{0i}', real=True)\n",
    "chiL0r, chiL0i = symbols(r'\\chi_L^{0r}, \\chi_L^{0i}', real=True)\n",
    "complex_scalar_fields = {\n",
    "    phi10: (k1 + phi10r + I*phi10i),\n",
    "    phi20: (k2 + phi20r + I*phi20i),\n",
    "    chiR0: (vR + chiR0r + I*chiR0i),\n",
    "    chiL0: (vL + chiL0r + I*chiL0i)\n",
    "}"
   ]
  },
  {
   "cell_type": "code",
   "execution_count": 28,
   "metadata": {},
   "outputs": [],
   "source": [
    "VLRPhi_ri = V.subs(complex_scalar_fields)"
   ]
  },
  {
   "cell_type": "code",
   "execution_count": 29,
   "metadata": {},
   "outputs": [
    {
     "data": {
      "image/png": "[encoded data removed]",
      "text/latex": [
       "$\\displaystyle \\alpha_{1} \\left({{\\chi_L^+}} \\overline{{{\\chi_L^+}}} + {{\\chi_R^+}} \\overline{{{\\chi_R^+}}} + \\left(- i \\chi_L^{0i} + \\chi_L^{0r} + v_{L}\\right) \\left(i \\chi_L^{0i} + \\chi_L^{0r} + v_{L}\\right) + \\left(- i \\chi_R^{0i} + \\chi_R^{0r} + v_{R}\\right) \\left(i \\chi_R^{0i} + \\chi_R^{0r} + v_{R}\\right)\\right) \\left({{\\phi_1^+}} \\overline{{{\\phi_1^+}}} + {{\\phi_2^+}} \\overline{{{\\phi_2^+}}} + \\left(- i \\phi_1^{0i} + \\phi_1^{0r} + k_{1}\\right) \\left(i \\phi_1^{0i} + \\phi_1^{0r} + k_{1}\\right) + \\left(- i \\phi_2^{0i} + \\phi_2^{0r} + k_{2}\\right) \\left(i \\phi_2^{0i} + \\phi_2^{0r} + k_{2}\\right)\\right) + \\alpha_{2} \\left({{\\chi_L^+}} \\left(\\left({{\\phi_1^+}} \\overline{{{\\chi_L^+}}} + \\left(- i \\chi_L^{0i} + \\chi_L^{0r} + v_{L}\\right) \\left(i \\phi_2^{0i} + \\phi_2^{0r} + k_{2}\\right)\\right) \\overline{{{\\phi_1^+}}} + \\left(\\left(- i \\chi_L^{0i} + \\chi_L^{0r} + v_{L}\\right) \\overline{{{\\phi_2^+}}} + \\left(i \\phi_1^{0i} + \\phi_1^{0r} + k_{1}\\right) \\overline{{{\\chi_L^+}}}\\right) \\left(- i \\phi_1^{0i} + \\phi_1^{0r} + k_{1}\\right)\\right) + {{\\chi_R^+}} \\left(\\left({{\\phi_2^+}} \\overline{{{\\chi_R^+}}} + \\left(- i \\chi_R^{0i} + \\chi_R^{0r} + v_{R}\\right) \\left(- i \\phi_2^{0i} + \\phi_2^{0r} + k_{2}\\right)\\right) \\overline{{{\\phi_2^+}}} + \\left(\\left(- i \\chi_R^{0i} + \\chi_R^{0r} + v_{R}\\right) \\overline{{{\\phi_1^+}}} + \\left(- i \\phi_1^{0i} + \\phi_1^{0r} + k_{1}\\right) \\overline{{{\\chi_R^+}}}\\right) \\left(i \\phi_1^{0i} + \\phi_1^{0r} + k_{1}\\right)\\right) + \\left({{\\phi_1^+}} \\left(\\left(- i \\chi_R^{0i} + \\chi_R^{0r} + v_{R}\\right) \\overline{{{\\phi_1^+}}} + \\left(- i \\phi_1^{0i} + \\phi_1^{0r} + k_{1}\\right) \\overline{{{\\chi_R^+}}}\\right) + \\left({{\\phi_2^+}} \\overline{{{\\chi_R^+}}} + \\left(- i \\chi_R^{0i} + \\chi_R^{0r} + v_{R}\\right) \\left(- i \\phi_2^{0i} + \\phi_2^{0r} + k_{2}\\right)\\right) \\left(i \\phi_2^{0i} + \\phi_2^{0r} + k_{2}\\right)\\right) \\left(i \\chi_R^{0i} + \\chi_R^{0r} + v_{R}\\right) + \\left({{\\phi_2^+}} \\left(\\left(- i \\chi_L^{0i} + \\chi_L^{0r} + v_{L}\\right) \\overline{{{\\phi_2^+}}} + \\left(i \\phi_1^{0i} + \\phi_1^{0r} + k_{1}\\right) \\overline{{{\\chi_L^+}}}\\right) + \\left({{\\phi_1^+}} \\overline{{{\\chi_L^+}}} + \\left(- i \\chi_L^{0i} + \\chi_L^{0r} + v_{L}\\right) \\left(i \\phi_2^{0i} + \\phi_2^{0r} + k_{2}\\right)\\right) \\left(- i \\phi_2^{0i} + \\phi_2^{0r} + k_{2}\\right)\\right) \\left(i \\chi_L^{0i} + \\chi_L^{0r} + v_{L}\\right)\\right) + \\alpha_{3} \\left({{\\chi_L^+}} \\left(- \\left(- {{\\phi_2^+}} \\overline{{{\\chi_L^+}}} + \\left(- i \\chi_L^{0i} + \\chi_L^{0r} + v_{L}\\right) \\left(- i \\phi_1^{0i} + \\phi_1^{0r} + k_{1}\\right)\\right) \\overline{{{\\phi_2^+}}} + \\left(- \\left(- i \\chi_L^{0i} + \\chi_L^{0r} + v_{L}\\right) \\overline{{{\\phi_1^+}}} + \\left(- i \\phi_2^{0i} + \\phi_2^{0r} + k_{2}\\right) \\overline{{{\\chi_L^+}}}\\right) \\left(i \\phi_2^{0i} + \\phi_2^{0r} + k_{2}\\right)\\right) + {{\\chi_R^+}} \\left(- \\left(- {{\\phi_1^+}} \\overline{{{\\chi_R^+}}} + \\left(- i \\chi_R^{0i} + \\chi_R^{0r} + v_{R}\\right) \\left(i \\phi_1^{0i} + \\phi_1^{0r} + k_{1}\\right)\\right) \\overline{{{\\phi_1^+}}} + \\left(- \\left(- i \\chi_R^{0i} + \\chi_R^{0r} + v_{R}\\right) \\overline{{{\\phi_2^+}}} + \\left(i \\phi_2^{0i} + \\phi_2^{0r} + k_{2}\\right) \\overline{{{\\chi_R^+}}}\\right) \\left(- i \\phi_2^{0i} + \\phi_2^{0r} + k_{2}\\right)\\right) + \\left(- {{\\phi_1^+}} \\left(- \\left(- i \\chi_L^{0i} + \\chi_L^{0r} + v_{L}\\right) \\overline{{{\\phi_1^+}}} + \\left(- i \\phi_2^{0i} + \\phi_2^{0r} + k_{2}\\right) \\overline{{{\\chi_L^+}}}\\right) + \\left(- {{\\phi_2^+}} \\overline{{{\\chi_L^+}}} + \\left(- i \\chi_L^{0i} + \\chi_L^{0r} + v_{L}\\right) \\left(- i \\phi_1^{0i} + \\phi_1^{0r} + k_{1}\\right)\\right) \\left(i \\phi_1^{0i} + \\phi_1^{0r} + k_{1}\\right)\\right) \\left(i \\chi_L^{0i} + \\chi_L^{0r} + v_{L}\\right) + \\left(- {{\\phi_2^+}} \\left(- \\left(- i \\chi_R^{0i} + \\chi_R^{0r} + v_{R}\\right) \\overline{{{\\phi_2^+}}} + \\left(i \\phi_2^{0i} + \\phi_2^{0r} + k_{2}\\right) \\overline{{{\\chi_R^+}}}\\right) + \\left(- {{\\phi_1^+}} \\overline{{{\\chi_R^+}}} + \\left(- i \\chi_R^{0i} + \\chi_R^{0r} + v_{R}\\right) \\left(i \\phi_1^{0i} + \\phi_1^{0r} + k_{1}\\right)\\right) \\left(- i \\phi_1^{0i} + \\phi_1^{0r} + k_{1}\\right)\\right) \\left(i \\chi_R^{0i} + \\chi_R^{0r} + v_{R}\\right)\\right) + \\lambda_{1} \\left({{\\phi_1^+}} \\overline{{{\\phi_1^+}}} + {{\\phi_2^+}} \\overline{{{\\phi_2^+}}} + \\left(- i \\phi_1^{0i} + \\phi_1^{0r} + k_{1}\\right) \\left(i \\phi_1^{0i} + \\phi_1^{0r} + k_{1}\\right) + \\left(- i \\phi_2^{0i} + \\phi_2^{0r} + k_{2}\\right) \\left(i \\phi_2^{0i} + \\phi_2^{0r} + k_{2}\\right)\\right)^{2} + \\lambda_{2} \\left(2 \\left({{\\phi_1^+}} \\left(- i \\phi_1^{0i} + \\phi_1^{0r} + k_{1}\\right) + {{\\phi_2^+}} \\left(i \\phi_2^{0i} + \\phi_2^{0r} + k_{2}\\right)\\right) \\left(\\left(i \\phi_1^{0i} + \\phi_1^{0r} + k_{1}\\right) \\overline{{{\\phi_1^+}}} + \\left(- i \\phi_2^{0i} + \\phi_2^{0r} + k_{2}\\right) \\overline{{{\\phi_2^+}}}\\right) + \\left({{\\phi_1^+}} \\overline{{{\\phi_1^+}}} + \\left(- i \\phi_2^{0i} + \\phi_2^{0r} + k_{2}\\right) \\left(i \\phi_2^{0i} + \\phi_2^{0r} + k_{2}\\right)\\right)^{2} + \\left({{\\phi_2^+}} \\overline{{{\\phi_2^+}}} + \\left(- i \\phi_1^{0i} + \\phi_1^{0r} + k_{1}\\right) \\left(i \\phi_1^{0i} + \\phi_1^{0r} + k_{1}\\right)\\right)^{2}\\right) + \\frac{\\lambda_{3} \\left(- 2 {{\\phi_1^+}} \\overline{{{\\phi_2^+}}} - 2 {{\\phi_2^+}} \\overline{{{\\phi_1^+}}} + 2 \\left(- i \\phi_1^{0i} + \\phi_1^{0r} + k_{1}\\right) \\left(- i \\phi_2^{0i} + \\phi_2^{0r} + k_{2}\\right) + 2 \\left(i \\phi_1^{0i} + \\phi_1^{0r} + k_{1}\\right) \\left(i \\phi_2^{0i} + \\phi_2^{0r} + k_{2}\\right)\\right)^{2}}{2} + \\frac{\\lambda_{4} \\left(2 {{\\phi_1^+}} \\overline{{{\\phi_2^+}}} - 2 {{\\phi_2^+}} \\overline{{{\\phi_1^+}}} + 2 \\left(- i \\phi_1^{0i} + \\phi_1^{0r} + k_{1}\\right) \\left(- i \\phi_2^{0i} + \\phi_2^{0r} + k_{2}\\right) - 2 \\left(i \\phi_1^{0i} + \\phi_1^{0r} + k_{1}\\right) \\left(i \\phi_2^{0i} + \\phi_2^{0r} + k_{2}\\right)\\right)^{2}}{2} + \\lambda_{5} \\left(\\left(- {{\\phi_1^+}} \\left(- i \\phi_1^{0i} + \\phi_1^{0r} + k_{1}\\right) - {{\\phi_2^+}} \\left(i \\phi_2^{0i} + \\phi_2^{0r} + k_{2}\\right)\\right) \\left(\\left(i \\phi_1^{0i} + \\phi_1^{0r} + k_{1}\\right) \\overline{{{\\phi_1^+}}} + \\left(- i \\phi_2^{0i} + \\phi_2^{0r} + k_{2}\\right) \\overline{{{\\phi_2^+}}}\\right) + \\left({{\\phi_1^+}} \\left(- i \\phi_1^{0i} + \\phi_1^{0r} + k_{1}\\right) + {{\\phi_2^+}} \\left(i \\phi_2^{0i} + \\phi_2^{0r} + k_{2}\\right)\\right) \\left(- \\left(i \\phi_1^{0i} + \\phi_1^{0r} + k_{1}\\right) \\overline{{{\\phi_1^+}}} - \\left(- i \\phi_2^{0i} + \\phi_2^{0r} + k_{2}\\right) \\overline{{{\\phi_2^+}}}\\right) + 2 \\left({{\\phi_1^+}} \\overline{{{\\phi_1^+}}} + \\left(- i \\phi_2^{0i} + \\phi_2^{0r} + k_{2}\\right) \\left(i \\phi_2^{0i} + \\phi_2^{0r} + k_{2}\\right)\\right) \\left({{\\phi_2^+}} \\overline{{{\\phi_2^+}}} + \\left(- i \\phi_1^{0i} + \\phi_1^{0r} + k_{1}\\right) \\left(i \\phi_1^{0i} + \\phi_1^{0r} + k_{1}\\right)\\right)\\right) + \\frac{\\lambda_{6} \\left(2 \\left(- {{\\phi_1^+}} \\overline{{{\\phi_2^+}}} + \\left(i \\phi_1^{0i} + \\phi_1^{0r} + k_{1}\\right) \\left(i \\phi_2^{0i} + \\phi_2^{0r} + k_{2}\\right)\\right)^{2} + 2 \\left(- {{\\phi_2^+}} \\overline{{{\\phi_1^+}}} + \\left(- i \\phi_1^{0i} + \\phi_1^{0r} + k_{1}\\right) \\left(- i \\phi_2^{0i} + \\phi_2^{0r} + k_{2}\\right)\\right)^{2}\\right)}{2} + \\rho_{1} \\left(\\left({{\\chi_L^+}} \\overline{{{\\chi_L^+}}} + \\left(- i \\chi_L^{0i} + \\chi_L^{0r} + v_{L}\\right) \\left(i \\chi_L^{0i} + \\chi_L^{0r} + v_{L}\\right)\\right)^{2} + \\left({{\\chi_R^+}} \\overline{{{\\chi_R^+}}} + \\left(- i \\chi_R^{0i} + \\chi_R^{0r} + v_{R}\\right) \\left(i \\chi_R^{0i} + \\chi_R^{0r} + v_{R}\\right)\\right)^{2}\\right) + \\rho_{2} \\left({{\\chi_L^+}} \\overline{{{\\chi_L^+}}} + \\left(- i \\chi_L^{0i} + \\chi_L^{0r} + v_{L}\\right) \\left(i \\chi_L^{0i} + \\chi_L^{0r} + v_{L}\\right)\\right) \\left({{\\chi_R^+}} \\overline{{{\\chi_R^+}}} + \\left(- i \\chi_R^{0i} + \\chi_R^{0r} + v_{R}\\right) \\left(i \\chi_R^{0i} + \\chi_R^{0r} + v_{R}\\right)\\right) - \\left(2 \\rho_{1} v_{R}^{2} + k_{1}^{2} \\left(\\alpha_{1} + \\alpha_{3}\\right)\\right) \\left({{\\chi_L^+}} \\overline{{{\\chi_L^+}}} + {{\\chi_R^+}} \\overline{{{\\chi_R^+}}} + \\left(- i \\chi_L^{0i} + \\chi_L^{0r} + v_{L}\\right) \\left(i \\chi_L^{0i} + \\chi_L^{0r} + v_{L}\\right) + \\left(- i \\chi_R^{0i} + \\chi_R^{0r} + v_{R}\\right) \\left(i \\chi_R^{0i} + \\chi_R^{0r} + v_{R}\\right)\\right) - \\left(2 k_{1}^{2} \\left(\\lambda_{1} + \\lambda_{2}\\right) + v_{R}^{2} \\left(\\alpha_{1} + \\alpha_{3}\\right)\\right) \\left({{\\phi_1^+}} \\overline{{{\\phi_1^+}}} + {{\\phi_2^+}} \\overline{{{\\phi_2^+}}} + \\left(- i \\phi_1^{0i} + \\phi_1^{0r} + k_{1}\\right) \\left(i \\phi_1^{0i} + \\phi_1^{0r} + k_{1}\\right) + \\left(- i \\phi_2^{0i} + \\phi_2^{0r} + k_{2}\\right) \\left(i \\phi_2^{0i} + \\phi_2^{0r} + k_{2}\\right)\\right)$"
      ],
      "text/plain": [
       "                                                                               ↪\n",
       "                                                                               ↪\n",
       "        ⎛              _____________                 _____________             ↪\n",
       "\\alpha₁⋅⎝{{\\chi_L__+}}⋅{{\\chi_L__+}} + {{\\chi_R__+}}⋅{{\\chi_R__+}} + (-ⅈ⋅\\chi_ ↪\n",
       "                                                                               ↪\n",
       "\n",
       "↪                                                                              ↪\n",
       "↪                                                                              ↪\n",
       "↪                                                                              ↪\n",
       "↪ L__{0i} + \\chi_L__{0r} + v_L)⋅(ⅈ⋅\\chi_L__{0i} + \\chi_L__{0r} + v_L) + (-ⅈ⋅\\c ↪\n",
       "↪                                                                              ↪\n",
       "\n",
       "↪                                                                              ↪\n",
       "↪                                                                              ↪\n",
       "↪                                                                       ⎞ ⎛    ↪\n",
       "↪ hi_R__{0i} + \\chi_R__{0r} + v_R)⋅(ⅈ⋅\\chi_R__{0i} + \\chi_R__{0r} + v_R)⎠⋅⎝{{\\ ↪\n",
       "↪                                                                              ↪\n",
       "\n",
       "↪                                                                              ↪\n",
       "↪                                                                              ↪\n",
       "↪            _____________                 _____________                       ↪\n",
       "↪ phi_1__+}}⋅{{\\phi_1__+}} + {{\\phi_2__+}}⋅{{\\phi_2__+}} + (-ⅈ⋅\\phi_1__{0i} +  ↪\n",
       "↪                                                                              ↪\n",
       "\n",
       "↪                                                                              ↪\n",
       "↪                                                                              ↪\n",
       "↪                                                                              ↪\n",
       "↪ \\phi_1__{0r} + k₁)⋅(ⅈ⋅\\phi_1__{0i} + \\phi_1__{0r} + k₁) + (-ⅈ⋅\\phi_2__{0i} + ↪\n",
       "↪                                                                              ↪\n",
       "\n",
       "↪                                                                              ↪\n",
       "↪                                                                              ↪\n",
       "↪                                                         ⎞           ⎛        ↪\n",
       "↪  \\phi_2__{0r} + k₂)⋅(ⅈ⋅\\phi_2__{0i} + \\phi_2__{0r} + k₂)⎠ + \\alpha₂⋅⎝{{\\chi_ ↪\n",
       "↪                                                                              ↪\n",
       "\n",
       "↪                                                                              ↪\n",
       "↪                                                                              ↪\n",
       "↪        ⎛⎛              _____________                                         ↪\n",
       "↪ L__+}}⋅⎝⎝{{\\phi_1__+}}⋅{{\\chi_L__+}} + (-ⅈ⋅\\chi_L__{0i} + \\chi_L__{0r} + v_L ↪\n",
       "↪                                                                              ↪\n",
       "\n",
       "↪                                                                              ↪\n",
       "↪                                                                              ↪\n",
       "↪                                       ⎞ _____________   ⎛                    ↪\n",
       "↪ )⋅(ⅈ⋅\\phi_2__{0i} + \\phi_2__{0r} + k₂)⎠⋅{{\\phi_1__+}} + ⎝(-ⅈ⋅\\chi_L__{0i} +  ↪\n",
       "↪                                                                              ↪\n",
       "\n",
       "↪                                                                              ↪\n",
       "↪                                                                              ↪\n",
       "↪                     _____________                                        ___ ↪\n",
       "↪ \\chi_L__{0r} + v_L)⋅{{\\phi_2__+}} + (ⅈ⋅\\phi_1__{0i} + \\phi_1__{0r} + k₁)⋅{{\\ ↪\n",
       "↪                                                                              ↪\n",
       "\n",
       "↪                                                                              ↪\n",
       "↪                                                                              ↪\n",
       "↪ __________⎞                                      ⎞                 ⎛⎛        ↪\n",
       "↪ chi_L__+}}⎠⋅(-ⅈ⋅\\phi_1__{0i} + \\phi_1__{0r} + k₁)⎠ + {{\\chi_R__+}}⋅⎝⎝{{\\phi_ ↪\n",
       "↪                                                                              ↪\n",
       "\n",
       "↪                                                                              ↪\n",
       "↪                                                                              ↪\n",
       "↪        _____________                                                         ↪\n",
       "↪ 2__+}}⋅{{\\chi_R__+}} + (-ⅈ⋅\\chi_R__{0i} + \\chi_R__{0r} + v_R)⋅(-ⅈ⋅\\phi_2__{0 ↪\n",
       "↪                                                                              ↪\n",
       "\n",
       "↪                                                                              ↪\n",
       "↪                                                                              ↪\n",
       "↪                        ⎞ _____________   ⎛                                   ↪\n",
       "↪ i} + \\phi_2__{0r} + k₂)⎠⋅{{\\phi_2__+}} + ⎝(-ⅈ⋅\\chi_R__{0i} + \\chi_R__{0r} +  ↪\n",
       "↪                                                                              ↪\n",
       "\n",
       "↪                                                                              ↪\n",
       "↪                                                                              ↪\n",
       "↪      _____________                                         _____________⎞    ↪\n",
       "↪ v_R)⋅{{\\phi_1__+}} + (-ⅈ⋅\\phi_1__{0i} + \\phi_1__{0r} + k₁)⋅{{\\chi_R__+}}⎠⋅(ⅈ ↪\n",
       "↪                                                                              ↪\n",
       "\n",
       "↪                                                                              ↪\n",
       "↪                                                                              ↪\n",
       "↪                                   ⎞   ⎛              ⎛                       ↪\n",
       "↪ ⋅\\phi_1__{0i} + \\phi_1__{0r} + k₁)⎠ + ⎝{{\\phi_1__+}}⋅⎝(-ⅈ⋅\\chi_R__{0i} + \\ch ↪\n",
       "↪                                                                              ↪\n",
       "\n",
       "↪                                                                              ↪\n",
       "↪                                                                              ↪\n",
       "↪                  _____________                                         _____ ↪\n",
       "↪ i_R__{0r} + v_R)⋅{{\\phi_1__+}} + (-ⅈ⋅\\phi_1__{0i} + \\phi_1__{0r} + k₁)⋅{{\\ch ↪\n",
       "↪                                                                              ↪\n",
       "\n",
       "↪                                                                              ↪\n",
       "↪                                                                              ↪\n",
       "↪ ________⎞   ⎛              _____________                                     ↪\n",
       "↪ i_R__+}}⎠ + ⎝{{\\phi_2__+}}⋅{{\\chi_R__+}} + (-ⅈ⋅\\chi_R__{0i} + \\chi_R__{0r} + ↪\n",
       "↪                                                                              ↪\n",
       "\n",
       "↪                                                                              ↪\n",
       "↪                                                                              ↪\n",
       "↪                                            ⎞                                 ↪\n",
       "↪  v_R)⋅(-ⅈ⋅\\phi_2__{0i} + \\phi_2__{0r} + k₂)⎠⋅(ⅈ⋅\\phi_2__{0i} + \\phi_2__{0r}  ↪\n",
       "↪                                                                              ↪\n",
       "\n",
       "↪                                                                              ↪\n",
       "↪                                                                              ↪\n",
       "↪      ⎞                                         ⎛              ⎛              ↪\n",
       "↪ + k₂)⎠⋅(ⅈ⋅\\chi_R__{0i} + \\chi_R__{0r} + v_R) + ⎝{{\\phi_2__+}}⋅⎝(-ⅈ⋅\\chi_L__{ ↪\n",
       "↪                                                                              ↪\n",
       "\n",
       "↪                                                                              ↪\n",
       "↪                                                                              ↪\n",
       "↪                           _____________                                      ↪\n",
       "↪ 0i} + \\chi_L__{0r} + v_L)⋅{{\\phi_2__+}} + (ⅈ⋅\\phi_1__{0i} + \\phi_1__{0r} + k ↪\n",
       "↪                                                                              ↪\n",
       "\n",
       "↪                                                                              ↪\n",
       "↪                                                                              ↪\n",
       "↪    _____________⎞   ⎛              _____________                             ↪\n",
       "↪ ₁)⋅{{\\chi_L__+}}⎠ + ⎝{{\\phi_1__+}}⋅{{\\chi_L__+}} + (-ⅈ⋅\\chi_L__{0i} + \\chi_L ↪\n",
       "↪                                                                              ↪\n",
       "\n",
       "↪                                                                              ↪\n",
       "↪                                                                              ↪\n",
       "↪                                                   ⎞                          ↪\n",
       "↪ __{0r} + v_L)⋅(ⅈ⋅\\phi_2__{0i} + \\phi_2__{0r} + k₂)⎠⋅(-ⅈ⋅\\phi_2__{0i} + \\phi_ ↪\n",
       "↪                                                                              ↪\n",
       "\n",
       "↪                                                                              ↪\n",
       "↪                                                                              ↪\n",
       "↪              ⎞                                      ⎞           ⎛            ↪\n",
       "↪ 2__{0r} + k₂)⎠⋅(ⅈ⋅\\chi_L__{0i} + \\chi_L__{0r} + v_L)⎠ + \\alpha₃⋅⎝{{\\chi_L__+ ↪\n",
       "↪                                                                              ↪\n",
       "\n",
       "↪                                                                              ↪\n",
       "↪                                                                              ↪\n",
       "↪    ⎛  ⎛                _____________                                         ↪\n",
       "↪ }}⋅⎝- ⎝- {{\\phi_2__+}}⋅{{\\chi_L__+}} + (-ⅈ⋅\\chi_L__{0i} + \\chi_L__{0r} + v_L ↪\n",
       "↪                                                                              ↪\n",
       "\n",
       "↪                                                                              ↪\n",
       "↪                                                                              ↪\n",
       "↪                                        ⎞ _____________   ⎛                   ↪\n",
       "↪ )⋅(-ⅈ⋅\\phi_1__{0i} + \\phi_1__{0r} + k₁)⎠⋅{{\\phi_2__+}} + ⎝- (-ⅈ⋅\\chi_L__{0i} ↪\n",
       "↪                                                                              ↪\n",
       "\n",
       "↪                                                                              ↪\n",
       "↪                                                                              ↪\n",
       "↪                        _____________                                         ↪\n",
       "↪  + \\chi_L__{0r} + v_L)⋅{{\\phi_1__+}} + (-ⅈ⋅\\phi_2__{0i} + \\phi_2__{0r} + k₂) ↪\n",
       "↪                                                                              ↪\n",
       "\n",
       "↪                                                                              ↪\n",
       "↪                                                                              ↪\n",
       "↪  _____________⎞                                     ⎞                 ⎛  ⎛   ↪\n",
       "↪ ⋅{{\\chi_L__+}}⎠⋅(ⅈ⋅\\phi_2__{0i} + \\phi_2__{0r} + k₂)⎠ + {{\\chi_R__+}}⋅⎝- ⎝-  ↪\n",
       "↪                                                                              ↪\n",
       "\n",
       "↪                                                                              ↪\n",
       "↪                                                                              ↪\n",
       "↪               _____________                                                  ↪\n",
       "↪ {{\\phi_1__+}}⋅{{\\chi_R__+}} + (-ⅈ⋅\\chi_R__{0i} + \\chi_R__{0r} + v_R)⋅(ⅈ⋅\\phi ↪\n",
       "↪                                                                              ↪\n",
       "\n",
       "↪                                                                              ↪\n",
       "↪                                                                              ↪\n",
       "↪                              ⎞ _____________   ⎛                             ↪\n",
       "↪ _1__{0i} + \\phi_1__{0r} + k₁)⎠⋅{{\\phi_1__+}} + ⎝- (-ⅈ⋅\\chi_R__{0i} + \\chi_R_ ↪\n",
       "↪                                                                              ↪\n",
       "\n",
       "↪                                                                              ↪\n",
       "↪                                                                              ↪\n",
       "↪              _____________                                        __________ ↪\n",
       "↪ _{0r} + v_R)⋅{{\\phi_2__+}} + (ⅈ⋅\\phi_2__{0i} + \\phi_2__{0r} + k₂)⋅{{\\chi_R__ ↪\n",
       "↪                                                                              ↪\n",
       "\n",
       "↪                                                                              ↪\n",
       "↪                                                                              ↪\n",
       "↪ ___⎞                                      ⎞   ⎛                ⎛             ↪\n",
       "↪ +}}⎠⋅(-ⅈ⋅\\phi_2__{0i} + \\phi_2__{0r} + k₂)⎠ + ⎝- {{\\phi_1__+}}⋅⎝- (-ⅈ⋅\\chi_L ↪\n",
       "↪                                                                              ↪\n",
       "\n",
       "↪                                                                              ↪\n",
       "↪                                                                              ↪\n",
       "↪                              _____________                                   ↪\n",
       "↪ __{0i} + \\chi_L__{0r} + v_L)⋅{{\\phi_1__+}} + (-ⅈ⋅\\phi_2__{0i} + \\phi_2__{0r} ↪\n",
       "↪                                                                              ↪\n",
       "\n",
       "↪                                                                              ↪\n",
       "↪                                                                              ↪\n",
       "↪        _____________⎞   ⎛                _____________                       ↪\n",
       "↪  + k₂)⋅{{\\chi_L__+}}⎠ + ⎝- {{\\phi_2__+}}⋅{{\\chi_L__+}} + (-ⅈ⋅\\chi_L__{0i} +  ↪\n",
       "↪                                                                              ↪\n",
       "\n",
       "↪                                                                              ↪\n",
       "↪                                                                              ↪\n",
       "↪                                                          ⎞                   ↪\n",
       "↪ \\chi_L__{0r} + v_L)⋅(-ⅈ⋅\\phi_1__{0i} + \\phi_1__{0r} + k₁)⎠⋅(ⅈ⋅\\phi_1__{0i} + ↪\n",
       "↪                                                                              ↪\n",
       "\n",
       "↪                                                                              ↪\n",
       "↪                                                                              ↪\n",
       "↪                    ⎞                                         ⎛               ↪\n",
       "↪  \\phi_1__{0r} + k₁)⎠⋅(ⅈ⋅\\chi_L__{0i} + \\chi_L__{0r} + v_L) + ⎝- {{\\phi_2__+} ↪\n",
       "↪                                                                              ↪\n",
       "\n",
       "↪                                                                              ↪\n",
       "↪                                                                              ↪\n",
       "↪   ⎛                                         _____________                    ↪\n",
       "↪ }⋅⎝- (-ⅈ⋅\\chi_R__{0i} + \\chi_R__{0r} + v_R)⋅{{\\phi_2__+}} + (ⅈ⋅\\phi_2__{0i}  ↪\n",
       "↪                                                                              ↪\n",
       "\n",
       "↪                                                                              ↪\n",
       "↪                                                                              ↪\n",
       "↪                      _____________⎞   ⎛                _____________         ↪\n",
       "↪ + \\phi_2__{0r} + k₂)⋅{{\\chi_R__+}}⎠ + ⎝- {{\\phi_1__+}}⋅{{\\chi_R__+}} + (-ⅈ⋅\\ ↪\n",
       "↪                                                                              ↪\n",
       "\n",
       "↪                                                                              ↪\n",
       "↪                                                                              ↪\n",
       "↪                                                                       ⎞      ↪\n",
       "↪ chi_R__{0i} + \\chi_R__{0r} + v_R)⋅(ⅈ⋅\\phi_1__{0i} + \\phi_1__{0r} + k₁)⎠⋅(-ⅈ⋅ ↪\n",
       "↪                                                                              ↪\n",
       "\n",
       "↪                                                                              ↪\n",
       "↪                                                                              ↪\n",
       "↪                                  ⎞                                      ⎞    ↪\n",
       "↪ \\phi_1__{0i} + \\phi_1__{0r} + k₁)⎠⋅(ⅈ⋅\\chi_R__{0i} + \\chi_R__{0r} + v_R)⎠ +  ↪\n",
       "↪                                                                              ↪\n",
       "\n",
       "↪                                                                              ↪\n",
       "↪                                                                              ↪\n",
       "↪          ⎛              _____________                 _____________          ↪\n",
       "↪ \\lambda₁⋅⎝{{\\phi_1__+}}⋅{{\\phi_1__+}} + {{\\phi_2__+}}⋅{{\\phi_2__+}} + (-ⅈ⋅\\p ↪\n",
       "↪                                                                              ↪\n",
       "\n",
       "↪                                                                              ↪\n",
       "↪                                                                              ↪\n",
       "↪                                                                              ↪\n",
       "↪ hi_1__{0i} + \\phi_1__{0r} + k₁)⋅(ⅈ⋅\\phi_1__{0i} + \\phi_1__{0r} + k₁) + (-ⅈ⋅\\ ↪\n",
       "↪                                                                              ↪\n",
       "\n",
       "↪                                                                              ↪\n",
       "↪                                                                       2      ↪\n",
       "↪                                                                      ⎞       ↪\n",
       "↪ phi_2__{0i} + \\phi_2__{0r} + k₂)⋅(ⅈ⋅\\phi_2__{0i} + \\phi_2__{0r} + k₂)⎠  + \\l ↪\n",
       "↪                                                                              ↪\n",
       "\n",
       "↪                                                                              ↪\n",
       "↪        ⎛                                                                     ↪\n",
       "↪        ⎜                                                                     ↪\n",
       "↪ ambda₂⋅⎝2⋅({{\\phi_1__+}}⋅(-ⅈ⋅\\phi_1__{0i} + \\phi_1__{0r} + k₁) + {{\\phi_2__+ ↪\n",
       "↪                                                                              ↪\n",
       "\n",
       "↪                                                                              ↪\n",
       "↪                                                                              ↪\n",
       "↪                                          ⎛                                   ↪\n",
       "↪ }}⋅(ⅈ⋅\\phi_2__{0i} + \\phi_2__{0r} + k₂))⋅⎝(ⅈ⋅\\phi_1__{0i} + \\phi_1__{0r} + k ↪\n",
       "↪                                                                              ↪\n",
       "\n",
       "↪                                                                              ↪\n",
       "↪                                                                              ↪\n",
       "↪    _____________                                         _____________⎞   ⎛  ↪\n",
       "↪ ₁)⋅{{\\phi_1__+}} + (-ⅈ⋅\\phi_2__{0i} + \\phi_2__{0r} + k₂)⋅{{\\phi_2__+}}⎠ + ⎝{ ↪\n",
       "↪                                                                              ↪\n",
       "\n",
       "↪                                                                              ↪\n",
       "↪                                                                              ↪\n",
       "↪              _____________                                                   ↪\n",
       "↪ {\\phi_1__+}}⋅{{\\phi_1__+}} + (-ⅈ⋅\\phi_2__{0i} + \\phi_2__{0r} + k₂)⋅(ⅈ⋅\\phi_2 ↪\n",
       "↪                                                                              ↪\n",
       "\n",
       "↪                                                                              ↪\n",
       "↪                             2                                                ↪\n",
       "↪                            ⎞    ⎛              _____________                 ↪\n",
       "↪ __{0i} + \\phi_2__{0r} + k₂)⎠  + ⎝{{\\phi_2__+}}⋅{{\\phi_2__+}} + (-ⅈ⋅\\phi_1__{ ↪\n",
       "↪                                                                              ↪\n",
       "\n",
       "↪                                                                              ↪\n",
       "↪                                                               2⎞             ↪\n",
       "↪                                                              ⎞ ⎟   \\lambda₃⋅ ↪\n",
       "↪ 0i} + \\phi_1__{0r} + k₁)⋅(ⅈ⋅\\phi_1__{0i} + \\phi_1__{0r} + k₁)⎠ ⎠ + ───────── ↪\n",
       "↪                                                                              ↪\n",
       "\n",
       "↪                                                                              ↪\n",
       "↪ ⎛                  _____________                   _____________             ↪\n",
       "↪ ⎝- 2⋅{{\\phi_1__+}}⋅{{\\phi_2__+}} - 2⋅{{\\phi_2__+}}⋅{{\\phi_1__+}} + 2⋅(-ⅈ⋅\\ph ↪\n",
       "↪ ──────────────────────────────────────────────────────────────────────────── ↪\n",
       "↪                                                                              ↪\n",
       "\n",
       "↪                                                                              ↪\n",
       "↪                                                                              ↪\n",
       "↪ i_1__{0i} + \\phi_1__{0r} + k₁)⋅(-ⅈ⋅\\phi_2__{0i} + \\phi_2__{0r} + k₂) + 2⋅(ⅈ⋅ ↪\n",
       "↪ ──────────────────────────────────────────────────────────────────────────── ↪\n",
       "↪                                2                                             ↪\n",
       "\n",
       "↪                                                                        2     ↪\n",
       "↪                                                                       ⎞      ↪\n",
       "↪ \\phi_1__{0i} + \\phi_1__{0r} + k₁)⋅(ⅈ⋅\\phi_2__{0i} + \\phi_2__{0r} + k₂)⎠    \\ ↪\n",
       "↪ ──────────────────────────────────────────────────────────────────────── + ─ ↪\n",
       "↪                                                                              ↪\n",
       "\n",
       "↪                                                                              ↪\n",
       "↪         ⎛                _____________                   _____________       ↪\n",
       "↪ lambda₄⋅⎝2⋅{{\\phi_1__+}}⋅{{\\phi_2__+}} - 2⋅{{\\phi_2__+}}⋅{{\\phi_1__+}} + 2⋅( ↪\n",
       "↪ ──────────────────────────────────────────────────────────────────────────── ↪\n",
       "↪                                                                              ↪\n",
       "\n",
       "↪                                                                              ↪\n",
       "↪                                                                              ↪\n",
       "↪ -ⅈ⋅\\phi_1__{0i} + \\phi_1__{0r} + k₁)⋅(-ⅈ⋅\\phi_2__{0i} + \\phi_2__{0r} + k₂) - ↪\n",
       "↪ ──────────────────────────────────────────────────────────────────────────── ↪\n",
       "↪                                       2                                      ↪\n",
       "\n",
       "↪                                                                              ↪\n",
       "↪                                                                              ↪\n",
       "↪  2⋅(ⅈ⋅\\phi_1__{0i} + \\phi_1__{0r} + k₁)⋅(ⅈ⋅\\phi_2__{0i} + \\phi_2__{0r} + k₂) ↪\n",
       "↪ ──────────────────────────────────────────────────────────────────────────── ↪\n",
       "↪                                                                              ↪\n",
       "\n",
       "↪  2                                                                           ↪\n",
       "↪ ⎞                                                                            ↪\n",
       "↪ ⎠             ⎛                                                              ↪\n",
       "↪ ── + \\lambda₅⋅⎝(-{{\\phi_1__+}}⋅(-ⅈ⋅\\phi_1__{0i} + \\phi_1__{0r} + k₁) - {{\\ph ↪\n",
       "↪                                                                              ↪\n",
       "\n",
       "↪                                                                              ↪\n",
       "↪                                                                              ↪\n",
       "↪                                                ⎛                             ↪\n",
       "↪ i_2__+}}⋅(ⅈ⋅\\phi_2__{0i} + \\phi_2__{0r} + k₂))⋅⎝(ⅈ⋅\\phi_1__{0i} + \\phi_1__{0 ↪\n",
       "↪                                                                              ↪\n",
       "\n",
       "↪                                                                              ↪\n",
       "↪                                                                              ↪\n",
       "↪          _____________                                         _____________ ↪\n",
       "↪ r} + k₁)⋅{{\\phi_1__+}} + (-ⅈ⋅\\phi_2__{0i} + \\phi_2__{0r} + k₂)⋅{{\\phi_2__+}} ↪\n",
       "↪                                                                              ↪\n",
       "\n",
       "↪                                                                              ↪\n",
       "↪                                                                              ↪\n",
       "↪ ⎞                                                                            ↪\n",
       "↪ ⎠ + ({{\\phi_1__+}}⋅(-ⅈ⋅\\phi_1__{0i} + \\phi_1__{0r} + k₁) + {{\\phi_2__+}}⋅(ⅈ⋅ ↪\n",
       "↪                                                                              ↪\n",
       "\n",
       "↪                                                                              ↪\n",
       "↪                                                                              ↪\n",
       "↪                                    ⎛                                       _ ↪\n",
       "↪ \\phi_2__{0i} + \\phi_2__{0r} + k₂))⋅⎝- (ⅈ⋅\\phi_1__{0i} + \\phi_1__{0r} + k₁)⋅{ ↪\n",
       "↪                                                                              ↪\n",
       "\n",
       "↪                                                                              ↪\n",
       "↪                                                                              ↪\n",
       "↪ ____________                                         _____________⎞     ⎛    ↪\n",
       "↪ {\\phi_1__+}} - (-ⅈ⋅\\phi_2__{0i} + \\phi_2__{0r} + k₂)⋅{{\\phi_2__+}}⎠ + 2⋅⎝{{\\ ↪\n",
       "↪                                                                              ↪\n",
       "\n",
       "↪                                                                              ↪\n",
       "↪                                                                              ↪\n",
       "↪            _____________                                                     ↪\n",
       "↪ phi_1__+}}⋅{{\\phi_1__+}} + (-ⅈ⋅\\phi_2__{0i} + \\phi_2__{0r} + k₂)⋅(ⅈ⋅\\phi_2__ ↪\n",
       "↪                                                                              ↪\n",
       "\n",
       "↪                                                                              ↪\n",
       "↪                                                                              ↪\n",
       "↪                          ⎞ ⎛              _____________                      ↪\n",
       "↪ {0i} + \\phi_2__{0r} + k₂)⎠⋅⎝{{\\phi_2__+}}⋅{{\\phi_2__+}} + (-ⅈ⋅\\phi_1__{0i} + ↪\n",
       "↪                                                                              ↪\n",
       "\n",
       "↪                                                                       ⎛      ↪\n",
       "↪                                                                       ⎜  ⎛   ↪\n",
       "↪                                                         ⎞⎞   \\lambda₆⋅⎝2⋅⎝-  ↪\n",
       "↪  \\phi_1__{0r} + k₁)⋅(ⅈ⋅\\phi_1__{0i} + \\phi_1__{0r} + k₁)⎠⎠ + ─────────────── ↪\n",
       "↪                                                                              ↪\n",
       "\n",
       "↪                                                                              ↪\n",
       "↪               _____________                                                  ↪\n",
       "↪ {{\\phi_1__+}}⋅{{\\phi_2__+}} + (ⅈ⋅\\phi_1__{0i} + \\phi_1__{0r} + k₁)⋅(ⅈ⋅\\phi_2 ↪\n",
       "↪ ──────────────────────────────────────────────────────────────────────────── ↪\n",
       "↪                                                                              ↪\n",
       "\n",
       "↪                             2                                                ↪\n",
       "↪                            ⎞      ⎛                _____________             ↪\n",
       "↪ __{0i} + \\phi_2__{0r} + k₂)⎠  + 2⋅⎝- {{\\phi_2__+}}⋅{{\\phi_1__+}} + (-ⅈ⋅\\phi_ ↪\n",
       "↪ ──────────────────────────────────────────────────────────────────────────── ↪\n",
       "↪                           2                                                  ↪\n",
       "\n",
       "↪                                                                    2⎞        ↪\n",
       "↪                                                                   ⎞ ⎟        ↪\n",
       "↪ 1__{0i} + \\phi_1__{0r} + k₁)⋅(-ⅈ⋅\\phi_2__{0i} + \\phi_2__{0r} + k₂)⎠ ⎠        ↪\n",
       "↪ ───────────────────────────────────────────────────────────────────── + \\rho ↪\n",
       "↪                                                                              ↪\n",
       "\n",
       "↪                                                                              ↪\n",
       "↪   ⎛                                                                          ↪\n",
       "↪   ⎜⎛              _____________                                              ↪\n",
       "↪ ₁⋅⎝⎝{{\\chi_L__+}}⋅{{\\chi_L__+}} + (-ⅈ⋅\\chi_L__{0i} + \\chi_L__{0r} + v_L)⋅(ⅈ⋅ ↪\n",
       "↪                                                                              ↪\n",
       "\n",
       "↪                                                                              ↪\n",
       "↪                                    2                                         ↪\n",
       "↪                                   ⎞    ⎛              _____________          ↪\n",
       "↪ \\chi_L__{0i} + \\chi_L__{0r} + v_L)⎠  + ⎝{{\\chi_R__+}}⋅{{\\chi_R__+}} + (-ⅈ⋅\\c ↪\n",
       "↪                                                                              ↪\n",
       "\n",
       "↪                                                                              ↪\n",
       "↪                                                                        2⎞    ↪\n",
       "↪                                                                       ⎞ ⎟    ↪\n",
       "↪ hi_R__{0i} + \\chi_R__{0r} + v_R)⋅(ⅈ⋅\\chi_R__{0i} + \\chi_R__{0r} + v_R)⎠ ⎠ +  ↪\n",
       "↪                                                                              ↪\n",
       "\n",
       "↪                                                                              ↪\n",
       "↪                                                                              ↪\n",
       "↪       ⎛              _____________                                           ↪\n",
       "↪ \\rho₂⋅⎝{{\\chi_L__+}}⋅{{\\chi_L__+}} + (-ⅈ⋅\\chi_L__{0i} + \\chi_L__{0r} + v_L)⋅ ↪\n",
       "↪                                                                              ↪\n",
       "\n",
       "↪                                                                              ↪\n",
       "↪                                                                              ↪\n",
       "↪                                      ⎞ ⎛              _____________          ↪\n",
       "↪ (ⅈ⋅\\chi_L__{0i} + \\chi_L__{0r} + v_L)⎠⋅⎝{{\\chi_R__+}}⋅{{\\chi_R__+}} + (-ⅈ⋅\\c ↪\n",
       "↪                                                                              ↪\n",
       "\n",
       "↪                                                                              ↪\n",
       "↪                                                                              ↪\n",
       "↪                                                                       ⎞   ⎛  ↪\n",
       "↪ hi_R__{0i} + \\chi_R__{0r} + v_R)⋅(ⅈ⋅\\chi_R__{0i} + \\chi_R__{0r} + v_R)⎠ - ⎝2 ↪\n",
       "↪                                                                              ↪\n",
       "\n",
       "↪                                                                              ↪\n",
       "↪                                                                              ↪\n",
       "↪           2     2                    ⎞ ⎛              _____________          ↪\n",
       "↪ ⋅\\rho₁⋅v_R  + k₁ ⋅(\\alpha₁ + \\alpha₃)⎠⋅⎝{{\\chi_L__+}}⋅{{\\chi_L__+}} + {{\\chi ↪\n",
       "↪                                                                              ↪\n",
       "\n",
       "↪                                                                              ↪\n",
       "↪                                                                              ↪\n",
       "↪         _____________                                                        ↪\n",
       "↪ _R__+}}⋅{{\\chi_R__+}} + (-ⅈ⋅\\chi_L__{0i} + \\chi_L__{0r} + v_L)⋅(ⅈ⋅\\chi_L__{0 ↪\n",
       "↪                                                                              ↪\n",
       "\n",
       "↪                                                                              ↪\n",
       "↪                                                                              ↪\n",
       "↪                                                                              ↪\n",
       "↪ i} + \\chi_L__{0r} + v_L) + (-ⅈ⋅\\chi_R__{0i} + \\chi_R__{0r} + v_R)⋅(ⅈ⋅\\chi_R_ ↪\n",
       "↪                                                                              ↪\n",
       "\n",
       "↪                                                                              ↪\n",
       "↪                                                                              ↪\n",
       "↪                            ⎞   ⎛    2                            2           ↪\n",
       "↪ _{0i} + \\chi_R__{0r} + v_R)⎠ - ⎝2⋅k₁ ⋅(\\lambda₁ + \\lambda₂) + v_R ⋅(\\alpha₁  ↪\n",
       "↪                                                                              ↪\n",
       "\n",
       "↪                                                                              ↪\n",
       "↪                                                                              ↪\n",
       "↪           ⎞ ⎛              _____________                 _____________       ↪\n",
       "↪ + \\alpha₃)⎠⋅⎝{{\\phi_1__+}}⋅{{\\phi_1__+}} + {{\\phi_2__+}}⋅{{\\phi_2__+}} + (-ⅈ ↪\n",
       "↪                                                                              ↪\n",
       "\n",
       "↪                                                                              ↪\n",
       "↪                                                                              ↪\n",
       "↪                                                                              ↪\n",
       "↪ ⋅\\phi_1__{0i} + \\phi_1__{0r} + k₁)⋅(ⅈ⋅\\phi_1__{0i} + \\phi_1__{0r} + k₁) + (- ↪\n",
       "↪                                                                              ↪\n",
       "\n",
       "↪                                                                          \n",
       "↪                                                                          \n",
       "↪                                                                         ⎞\n",
       "↪ ⅈ⋅\\phi_2__{0i} + \\phi_2__{0r} + k₂)⋅(ⅈ⋅\\phi_2__{0i} + \\phi_2__{0r} + k₂)⎠\n",
       "↪                                                                          "
      ]
     },
     "execution_count": 29,
     "metadata": {},
     "output_type": "execute_result"
    }
   ],
   "source": [
    "VLRPhi_ri_tadpole_caso1 = VLRPhi_ri.subs(tadpoles_relations_simplified)\n",
    "VLRPhi_ri_tadpole_caso1"
   ]
  },
  {
   "cell_type": "code",
   "execution_count": 30,
   "metadata": {},
   "outputs": [],
   "source": [
    "vevPhi[phi10r] = 0#vevPhi[phi10]\n",
    "vevPhi[phi10i] = 0\n",
    "vevPhi[phi20r] = 0#vevPhi[phi20]\n",
    "vevPhi[phi20i] = 0"
   ]
  },
  {
   "cell_type": "code",
   "execution_count": 31,
   "metadata": {},
   "outputs": [],
   "source": [
    "vevL[chiL0r] = 0#vevL[deltaL0]\n",
    "vevL[chiL0i] = 0\n",
    "vevR[chiR0r] = 0#vevR[deltaR0]\n",
    "vevR[chiR0i] = 0"
   ]
  },
  {
   "cell_type": "code",
   "execution_count": 32,
   "metadata": {},
   "outputs": [],
   "source": [
    "from sympy import derive_by_array"
   ]
  },
  {
   "cell_type": "code",
   "execution_count": 33,
   "metadata": {},
   "outputs": [],
   "source": [
    "def build_mass_matrix(potential, fields1, fields2):\n",
    "    \"\"\"\n",
    "    Build the mass matrix for a given potential and fields.\n",
    "    \"\"\"\n",
    "    # Initialize the mass matrix\n",
    "    Matrix_elements = derive_by_array(derive_by_array(potential, fields1), fields2)\n",
    "\n",
    "    return Matrix_elements.tomatrix()"
   ]
  },
  {
   "cell_type": "markdown",
   "metadata": {},
   "source": [
    "### Charged scalar mass matrix"
   ]
  },
  {
   "cell_type": "code",
   "execution_count": 34,
   "metadata": {},
   "outputs": [],
   "source": [
    "from sympy import Dummy"
   ]
  },
  {
   "cell_type": "code",
   "execution_count": 35,
   "metadata": {},
   "outputs": [
    {
     "data": {
      "text/latex": [
       "$\\displaystyle \\left[\\begin{matrix}\\alpha_{1} v_{R}^{2} + \\alpha_{3} v_{R}^{2} + 2 \\lambda_{1} k_{1}^{2} + 2 \\lambda_{2} k_{1}^{2} - 2 k_{1}^{2} \\left(\\lambda_{1} + \\lambda_{2}\\right) - v_{R}^{2} \\left(\\alpha_{1} + \\alpha_{3}\\right) & 0 & 0 & 0\\\\0 & \\alpha_{1} k_{1}^{2} + \\alpha_{2} k_{1}^{2} - 2 \\rho_{1} v_{R}^{2} + \\rho_{2} v_{R}^{2} - k_{1}^{2} \\left(\\alpha_{1} + \\alpha_{3}\\right) & 0 & 0\\\\0 & 0 & \\alpha_{1} v_{R}^{2} + \\alpha_{2} v_{R}^{2} + 2 \\lambda_{1} k_{1}^{2} + 2 \\lambda_{2} k_{1}^{2} - 2 k_{1}^{2} \\left(\\lambda_{1} + \\lambda_{2}\\right) - v_{R}^{2} \\left(\\alpha_{1} + \\alpha_{3}\\right) & \\alpha_{2} k_{1} v_{R} - \\alpha_{3} k_{1} v_{R}\\\\0 & 0 & \\alpha_{2} k_{1} v_{R} - \\alpha_{3} k_{1} v_{R} & \\alpha_{1} k_{1}^{2} + \\alpha_{2} k_{1}^{2} - k_{1}^{2} \\left(\\alpha_{1} + \\alpha_{3}\\right)\\end{matrix}\\right]$"
      ],
      "text/plain": [
       "⎡           2              2                2                2       2         ↪\n",
       "⎢\\alpha₁⋅v_R  + \\alpha₃⋅v_R  + 2⋅\\lambda₁⋅k₁  + 2⋅\\lambda₂⋅k₁  - 2⋅k₁ ⋅(\\lambd ↪\n",
       "⎢                                                                              ↪\n",
       "⎢                                                                              ↪\n",
       "⎢                                                          0                   ↪\n",
       "⎢                                                                              ↪\n",
       "⎢                                                                              ↪\n",
       "⎢                                                          0                   ↪\n",
       "⎢                                                                              ↪\n",
       "⎢                                                                              ↪\n",
       "⎣                                                          0                   ↪\n",
       "\n",
       "↪                     2                                                        ↪\n",
       "↪ a₁ + \\lambda₂) - v_R ⋅(\\alpha₁ + \\alpha₃)                                    ↪\n",
       "↪                                                                              ↪\n",
       "↪                                                      2             2         ↪\n",
       "↪                                            \\alpha₁⋅k₁  + \\alpha₂⋅k₁  - 2⋅\\rh ↪\n",
       "↪                                                                              ↪\n",
       "↪                                                                              ↪\n",
       "↪                                                                              ↪\n",
       "↪                                                                              ↪\n",
       "↪                                                                              ↪\n",
       "↪                                                                              ↪\n",
       "\n",
       "↪                                                                              ↪\n",
       "↪       0                                                                      ↪\n",
       "↪                                                                              ↪\n",
       "↪       2            2     2                                                   ↪\n",
       "↪ o₁⋅v_R  + \\rho₂⋅v_R  - k₁ ⋅(\\alpha₁ + \\alpha₃)                               ↪\n",
       "↪                                                                              ↪\n",
       "↪                                                            2              2  ↪\n",
       "↪       0                                         \\alpha₁⋅v_R  + \\alpha₂⋅v_R   ↪\n",
       "↪                                                                              ↪\n",
       "↪                                                                              ↪\n",
       "↪       0                                                                      ↪\n",
       "\n",
       "↪                                                                              ↪\n",
       "↪                               0                                              ↪\n",
       "↪                                                                              ↪\n",
       "↪                                                                              ↪\n",
       "↪                               0                                              ↪\n",
       "↪                                                                              ↪\n",
       "↪                2                2       2                            2       ↪\n",
       "↪ + 2⋅\\lambda₁⋅k₁  + 2⋅\\lambda₂⋅k₁  - 2⋅k₁ ⋅(\\lambda₁ + \\lambda₂) - v_R ⋅(\\alp ↪\n",
       "↪                                                                              ↪\n",
       "↪                                                                              ↪\n",
       "↪                \\alpha₂⋅k₁⋅v_R - \\alpha₃⋅k₁⋅v_R                               ↪\n",
       "\n",
       "↪                                                                    ⎤\n",
       "↪                                          0                         ⎥\n",
       "↪                                                                    ⎥\n",
       "↪                                                                    ⎥\n",
       "↪                                          0                         ⎥\n",
       "↪                                                                    ⎥\n",
       "↪                                                                    ⎥\n",
       "↪ ha₁ + \\alpha₃)            \\alpha₂⋅k₁⋅v_R - \\alpha₃⋅k₁⋅v_R          ⎥\n",
       "↪                                                                    ⎥\n",
       "↪                           2             2     2                    ⎥\n",
       "↪                 \\alpha₁⋅k₁  + \\alpha₂⋅k₁  - k₁ ⋅(\\alpha₁ + \\alpha₃)⎦"
      ]
     },
     "execution_count": 35,
     "metadata": {},
     "output_type": "execute_result"
    }
   ],
   "source": [
    "phip_fields = [phi2p, chiLp, phi1p, chiRp]\n",
    "\n",
    "dummyconjugate1p = Dummy(r'\\phi_1^{+,d}')\n",
    "dummyconjugate2p = Dummy(r'\\phi_2^{+,d}')\n",
    "dummyconjugateRp = Dummy(r'\\chi_R^{+,d}')\n",
    "dummyconjugateLp = Dummy(r'\\chi_L^{+,d}')\n",
    "\n",
    "dummychangep = {\n",
    "    conjugate(phi1p):dummyconjugate1p,\n",
    "    conjugate(phi2p):dummyconjugate2p,\n",
    "    conjugate(chiRp):dummyconjugateRp,\n",
    "    conjugate(chiLp):dummyconjugateLp\n",
    "}\n",
    "phim_fields = [dummyconjugate2p, dummyconjugateLp, dummyconjugate1p, dummyconjugateRp] \n",
    "Mp_square = (derive_by_array(derive_by_array(VLRPhi_ri_tadpole_caso1.subs(dummychangep), phim_fields), phip_fields)).subs(\n",
    "    {value:key for key, value in dummychangep.items()}\n",
    ").subs(\n",
    "    vevPhi\n",
    ").subs(vevL).subs(vevR).subs(k2,0).subs(vL, 0)\n",
    "Mp_square"
   ]
  },
  {
   "cell_type": "code",
   "execution_count": 36,
   "metadata": {},
   "outputs": [
    {
     "data": {
      "text/latex": [
       "$\\displaystyle \\left[\\begin{matrix}0 & 0 & 0 & 0\\\\0 & k_{1}^{2} \\left(\\alpha_{2} - \\alpha_{3}\\right) + v_{R}^{2} \\left(- 2 \\rho_{1} + \\rho_{2}\\right) & 0 & 0\\\\0 & 0 & v_{R}^{2} \\left(\\alpha_{2} - \\alpha_{3}\\right) & k_{1} v_{R} \\left(\\alpha_{2} - \\alpha_{3}\\right)\\\\0 & 0 & k_{1} v_{R} \\left(\\alpha_{2} - \\alpha_{3}\\right) & k_{1}^{2} \\left(\\alpha_{2} - \\alpha_{3}\\right)\\end{matrix}\\right]$"
      ],
      "text/plain": [
       "⎡0                          0                                      0           ↪\n",
       "⎢                                                                              ↪\n",
       "⎢     2                          2                                             ↪\n",
       "⎢0  k₁ ⋅(\\alpha₂ - \\alpha₃) + v_R ⋅(-2⋅\\rho₁ + \\rho₂)              0           ↪\n",
       "⎢                                                                              ↪\n",
       "⎢                                                          2                   ↪\n",
       "⎢0                          0                           v_R ⋅(\\alpha₂ - \\alpha ↪\n",
       "⎢                                                                              ↪\n",
       "⎢                                                                              ↪\n",
       "⎣0                          0                          k₁⋅v_R⋅(\\alpha₂ - \\alph ↪\n",
       "\n",
       "↪                  0             ⎤\n",
       "↪                                ⎥\n",
       "↪                                ⎥\n",
       "↪                  0             ⎥\n",
       "↪                                ⎥\n",
       "↪                                ⎥\n",
       "↪ ₃)   k₁⋅v_R⋅(\\alpha₂ - \\alpha₃)⎥\n",
       "↪                                ⎥\n",
       "↪         2                      ⎥\n",
       "↪ a₃)   k₁ ⋅(\\alpha₂ - \\alpha₃)  ⎦"
      ]
     },
     "execution_count": 36,
     "metadata": {},
     "output_type": "execute_result"
    }
   ],
   "source": [
    "Mp_square = Mp_square.applyfunc(lambda x:x.collect([k1, vR], factor)).tomatrix()\n",
    "Mp_square"
   ]
  },
  {
   "cell_type": "code",
   "execution_count": 37,
   "metadata": {},
   "outputs": [],
   "source": [
    "from sympy import eye"
   ]
  },
  {
   "cell_type": "code",
   "execution_count": 38,
   "metadata": {},
   "outputs": [],
   "source": [
    "z = symbols('z')\n",
    "poly_p = (Mp_square - z*eye(4)).det()\n",
    "eigenvals_p = solve(poly_p.expand().factor(), z, dict=True)"
   ]
  },
  {
   "cell_type": "code",
   "execution_count": 39,
   "metadata": {},
   "outputs": [
    {
     "data": {
      "image/png": "[encoded data removed]",
      "text/latex": [
       "$\\displaystyle \\left[ \\left\\{ z : 0\\right\\}, \\  \\left\\{ z : \\alpha_{2} k_{1}^{2} + \\alpha_{2} v_{R}^{2} - \\alpha_{3} k_{1}^{2} - \\alpha_{3} v_{R}^{2}\\right\\}, \\  \\left\\{ z : \\alpha_{2} k_{1}^{2} - \\alpha_{3} k_{1}^{2} - 2 \\rho_{1} v_{R}^{2} + \\rho_{2} v_{R}^{2}\\right\\}\\right]$"
      ],
      "text/plain": [
       "⎡        ⎧             2              2             2              2⎫  ⎧       ↪\n",
       "⎢{z: 0}, ⎨z: \\alpha₂⋅k₁  + \\alpha₂⋅v_R  - \\alpha₃⋅k₁  - \\alpha₃⋅v_R ⎬, ⎨z: \\al ↪\n",
       "⎣        ⎩                                                          ⎭  ⎩       ↪\n",
       "\n",
       "↪        2             2              2            2⎫⎤\n",
       "↪ pha₂⋅k₁  - \\alpha₃⋅k₁  - 2⋅\\rho₁⋅v_R  + \\rho₂⋅v_R ⎬⎥\n",
       "↪                                                   ⎭⎦"
      ]
     },
     "execution_count": 39,
     "metadata": {},
     "output_type": "execute_result"
    }
   ],
   "source": [
    "eigenvals_p"
   ]
  },
  {
   "cell_type": "code",
   "execution_count": 40,
   "metadata": {},
   "outputs": [],
   "source": [
    "x1, x2, x3, x4 = symbols('x_1, x_2, x_3, x_4')\n",
    "x = Matrix(\n",
    "    [\n",
    "        [x1],\n",
    "        [x2],\n",
    "        [x3],\n",
    "        [x4]\n",
    "    ]\n",
    ")"
   ]
  },
  {
   "cell_type": "code",
   "execution_count": 41,
   "metadata": {},
   "outputs": [
    {
     "data": {
      "text/latex": [
       "$\\displaystyle \\left[\\begin{matrix}0\\\\0\\\\\\frac{v_{R}}{\\sqrt{k_{1}^{2} + v_{R}^{2}}}\\\\\\frac{k_{1}}{\\sqrt{k_{1}^{2} + v_{R}^{2}}}\\end{matrix}\\right]$"
      ],
      "text/plain": [
       "⎡       0       ⎤\n",
       "⎢               ⎥\n",
       "⎢       0       ⎥\n",
       "⎢               ⎥\n",
       "⎢      v_R      ⎥\n",
       "⎢───────────────⎥\n",
       "⎢   ____________⎥\n",
       "⎢  ╱   2      2 ⎥\n",
       "⎢╲╱  k₁  + v_R  ⎥\n",
       "⎢               ⎥\n",
       "⎢      k₁       ⎥\n",
       "⎢───────────────⎥\n",
       "⎢   ____________⎥\n",
       "⎢  ╱   2      2 ⎥\n",
       "⎣╲╱  k₁  + v_R  ⎦"
      ]
     },
     "execution_count": 41,
     "metadata": {},
     "output_type": "execute_result"
    }
   ],
   "source": [
    "eigevector_sol3 = solve((Mp_square - eigenvals_p[1][z]*eye(4)).applyfunc(factor)*x, [x1, x2, x3, x4], dict=True)[0]\n",
    "#eigevector_sol1\n",
    "eigevector3 = x.subs(eigevector_sol3).subs(x4,1)\n",
    "eigevector3 = (eigevector3/eigevector3.norm()).applyfunc(factor)\n",
    "eigevector3"
   ]
  },
  {
   "cell_type": "code",
   "execution_count": 42,
   "metadata": {},
   "outputs": [
    {
     "data": {
      "image/png": "[encoded data removed]",
      "text/latex": [
       "$\\displaystyle \\left\\{ x_{1} : 0, \\  x_{3} : 0, \\  x_{4} : 0\\right\\}$"
      ],
      "text/plain": [
       "{x₁: 0, x₃: 0, x₄: 0}"
      ]
     },
     "execution_count": 42,
     "metadata": {},
     "output_type": "execute_result"
    }
   ],
   "source": [
    "eigevector_sol2 = solve((Mp_square - eigenvals_p[2][z]*eye(4)).applyfunc(factor)*x, [x1, x2, x3, x4], dict=True)[0]\n",
    "eigevector_sol2\n"
   ]
  },
  {
   "cell_type": "code",
   "execution_count": 43,
   "metadata": {},
   "outputs": [
    {
     "data": {
      "text/latex": [
       "$\\displaystyle \\left[\\begin{matrix}0\\\\1\\\\0\\\\0\\end{matrix}\\right]$"
      ],
      "text/plain": [
       "⎡0⎤\n",
       "⎢ ⎥\n",
       "⎢1⎥\n",
       "⎢ ⎥\n",
       "⎢0⎥\n",
       "⎢ ⎥\n",
       "⎣0⎦"
      ]
     },
     "execution_count": 43,
     "metadata": {},
     "output_type": "execute_result"
    }
   ],
   "source": [
    "eigevector2 = x.subs(eigevector_sol2).subs(x2,1)\n",
    "eigevector2 = (eigevector2/eigevector2.norm()).applyfunc(factor)\n",
    "eigevector2"
   ]
  },
  {
   "cell_type": "code",
   "execution_count": 44,
   "metadata": {},
   "outputs": [
    {
     "data": {
      "image/png": "[encoded data removed]",
      "text/latex": [
       "$\\displaystyle \\left\\{ x_{2} : 0, \\  x_{3} : - \\frac{k_{1} x_{4}}{v_{R}}\\right\\}$"
      ],
      "text/plain": [
       "⎧           -k₁⋅x₄ ⎫\n",
       "⎨x₂: 0, x₃: ───────⎬\n",
       "⎩             v_R  ⎭"
      ]
     },
     "execution_count": 44,
     "metadata": {},
     "output_type": "execute_result"
    }
   ],
   "source": [
    "eigevector_sol4 = solve((Mp_square - eigenvals_p[0][z]*eye(4)).applyfunc(factor)*x, [x1, x2, x3, x4], dict=True)[0]\n",
    "eigevector_sol4"
   ]
  },
  {
   "cell_type": "code",
   "execution_count": 45,
   "metadata": {},
   "outputs": [
    {
     "data": {
      "text/latex": [
       "$\\displaystyle \\left[\\begin{matrix}0\\\\0\\\\- \\frac{k_{1}}{\\sqrt{k_{1}^{2} + v_{R}^{2}}}\\\\\\frac{v_{R}}{\\sqrt{k_{1}^{2} + v_{R}^{2}}}\\end{matrix}\\right]$"
      ],
      "text/plain": [
       "⎡       0       ⎤\n",
       "⎢               ⎥\n",
       "⎢       0       ⎥\n",
       "⎢               ⎥\n",
       "⎢     -k₁       ⎥\n",
       "⎢───────────────⎥\n",
       "⎢   ____________⎥\n",
       "⎢  ╱   2      2 ⎥\n",
       "⎢╲╱  k₁  + v_R  ⎥\n",
       "⎢               ⎥\n",
       "⎢      v_R      ⎥\n",
       "⎢───────────────⎥\n",
       "⎢   ____________⎥\n",
       "⎢  ╱   2      2 ⎥\n",
       "⎣╲╱  k₁  + v_R  ⎦"
      ]
     },
     "execution_count": 45,
     "metadata": {},
     "output_type": "execute_result"
    }
   ],
   "source": [
    "eigevector4 = x.subs(eigevector_sol4).subs(x4,1).subs(x1,0)\n",
    "eigevector4 = (eigevector4/eigevector4.norm()).applyfunc(factor)\n",
    "eigevector4"
   ]
  },
  {
   "cell_type": "code",
   "execution_count": 46,
   "metadata": {},
   "outputs": [
    {
     "data": {
      "image/png": "[encoded data removed]",
      "text/latex": [
       "$\\displaystyle \\left\\{ x_{2} : 0, \\  x_{3} : 0, \\  x_{4} : 0\\right\\}$"
      ],
      "text/plain": [
       "{x₂: 0, x₃: 0, x₄: 0}"
      ]
     },
     "execution_count": 46,
     "metadata": {},
     "output_type": "execute_result"
    }
   ],
   "source": [
    "eigevector_sol1 = solve([x.dot(eigevector2), x.dot(eigevector3), x.dot(eigevector4)], [x1, x2, x3, x4] , dict=True)[0]\n",
    "eigevector_sol1"
   ]
  },
  {
   "cell_type": "code",
   "execution_count": 47,
   "metadata": {},
   "outputs": [
    {
     "data": {
      "text/latex": [
       "$\\displaystyle \\left[\\begin{matrix}1\\\\0\\\\0\\\\0\\end{matrix}\\right]$"
      ],
      "text/plain": [
       "⎡1⎤\n",
       "⎢ ⎥\n",
       "⎢0⎥\n",
       "⎢ ⎥\n",
       "⎢0⎥\n",
       "⎢ ⎥\n",
       "⎣0⎦"
      ]
     },
     "execution_count": 47,
     "metadata": {},
     "output_type": "execute_result"
    }
   ],
   "source": [
    "eigevector1 = x.subs(eigevector_sol1).subs(x1,1)\n",
    "eigevector1 = (eigevector1/eigevector1.norm()).applyfunc(factor)\n",
    "eigevector1"
   ]
  },
  {
   "cell_type": "code",
   "execution_count": 48,
   "metadata": {},
   "outputs": [
    {
     "data": {
      "text/latex": [
       "$\\displaystyle \\left[\\begin{matrix}1 & 0 & 0 & 0\\\\0 & 1 & 0 & 0\\\\0 & 0 & \\frac{v_{R}}{\\sqrt{k_{1}^{2} + v_{R}^{2}}} & - \\frac{k_{1}}{\\sqrt{k_{1}^{2} + v_{R}^{2}}}\\\\0 & 0 & \\frac{k_{1}}{\\sqrt{k_{1}^{2} + v_{R}^{2}}} & \\frac{v_{R}}{\\sqrt{k_{1}^{2} + v_{R}^{2}}}\\end{matrix}\\right]$"
      ],
      "text/plain": [
       "⎡1  0         0                0       ⎤\n",
       "⎢                                      ⎥\n",
       "⎢0  1         0                0       ⎥\n",
       "⎢                                      ⎥\n",
       "⎢            v_R             -k₁       ⎥\n",
       "⎢0  0  ───────────────  ───────────────⎥\n",
       "⎢         ____________     ____________⎥\n",
       "⎢        ╱   2      2     ╱   2      2 ⎥\n",
       "⎢      ╲╱  k₁  + v_R    ╲╱  k₁  + v_R  ⎥\n",
       "⎢                                      ⎥\n",
       "⎢            k₁               v_R      ⎥\n",
       "⎢0  0  ───────────────  ───────────────⎥\n",
       "⎢         ____________     ____________⎥\n",
       "⎢        ╱   2      2     ╱   2      2 ⎥\n",
       "⎣      ╲╱  k₁  + v_R    ╲╱  k₁  + v_R  ⎦"
      ]
     },
     "execution_count": 48,
     "metadata": {},
     "output_type": "execute_result"
    }
   ],
   "source": [
    "Pp = Matrix.hstack(eigevector1, eigevector2, eigevector3, eigevector4)\n",
    "Pp"
   ]
  },
  {
   "cell_type": "code",
   "execution_count": 49,
   "metadata": {},
   "outputs": [
    {
     "data": {
      "text/latex": [
       "$\\displaystyle \\left[\\begin{matrix}0 & 0 & 0 & 0\\\\0 & \\alpha_{2} k_{1}^{2} - \\alpha_{3} k_{1}^{2} - 2 \\rho_{1} v_{R}^{2} + \\rho_{2} v_{R}^{2} & 0 & 0\\\\0 & 0 & \\left(\\alpha_{2} - \\alpha_{3}\\right) \\left(k_{1}^{2} + v_{R}^{2}\\right) & 0\\\\0 & 0 & 0 & 0\\end{matrix}\\right]$"
      ],
      "text/plain": [
       "⎡0                            0                                           0    ↪\n",
       "⎢                                                                              ↪\n",
       "⎢             2             2              2            2                      ↪\n",
       "⎢0  \\alpha₂⋅k₁  - \\alpha₃⋅k₁  - 2⋅\\rho₁⋅v_R  + \\rho₂⋅v_R                  0    ↪\n",
       "⎢                                                                              ↪\n",
       "⎢                                                                              ↪\n",
       "⎢0                            0                            (\\alpha₂ - \\alpha₃) ↪\n",
       "⎢                                                                              ↪\n",
       "⎣0                            0                                           0    ↪\n",
       "\n",
       "↪                0⎤\n",
       "↪                 ⎥\n",
       "↪                 ⎥\n",
       "↪                0⎥\n",
       "↪                 ⎥\n",
       "↪  ⎛  2      2⎞   ⎥\n",
       "↪ ⋅⎝k₁  + v_R ⎠  0⎥\n",
       "↪                 ⎥\n",
       "↪                0⎦"
      ]
     },
     "execution_count": 49,
     "metadata": {},
     "output_type": "execute_result"
    }
   ],
   "source": [
    "Dp = (Pp.T*Mp_square*Pp).applyfunc(factor)\n",
    "Dp"
   ]
  },
  {
   "cell_type": "code",
   "execution_count": 50,
   "metadata": {},
   "outputs": [],
   "source": [
    "Ppinv = Pp.T"
   ]
  },
  {
   "cell_type": "code",
   "execution_count": 51,
   "metadata": {},
   "outputs": [],
   "source": [
    "Ppinv = Ppinv.applyfunc(lambda x:x.collect([k1, vR], factor))"
   ]
  },
  {
   "cell_type": "code",
   "execution_count": 52,
   "metadata": {},
   "outputs": [
    {
     "data": {
      "text/latex": [
       "$\\displaystyle \\left[\\begin{matrix}1 & 0 & 0 & 0\\\\0 & 1 & 0 & 0\\\\0 & 0 & 1 & 0\\\\0 & 0 & 0 & 1\\end{matrix}\\right]$"
      ],
      "text/plain": [
       "⎡1  0  0  0⎤\n",
       "⎢          ⎥\n",
       "⎢0  1  0  0⎥\n",
       "⎢          ⎥\n",
       "⎢0  0  1  0⎥\n",
       "⎢          ⎥\n",
       "⎣0  0  0  1⎦"
      ]
     },
     "execution_count": 52,
     "metadata": {},
     "output_type": "execute_result"
    }
   ],
   "source": [
    "(Pp*Ppinv).applyfunc(factor)"
   ]
  },
  {
   "cell_type": "code",
   "execution_count": 53,
   "metadata": {},
   "outputs": [
    {
     "data": {
      "text/latex": [
       "$\\displaystyle \\left[\\begin{matrix}0 & 0 & 0 & 0\\\\0 & 0 & 0 & 0\\\\0 & 0 & 0 & 0\\\\0 & 0 & 0 & 0\\end{matrix}\\right]$"
      ],
      "text/plain": [
       "⎡0  0  0  0⎤\n",
       "⎢          ⎥\n",
       "⎢0  0  0  0⎥\n",
       "⎢          ⎥\n",
       "⎢0  0  0  0⎥\n",
       "⎢          ⎥\n",
       "⎣0  0  0  0⎦"
      ]
     },
     "execution_count": 53,
     "metadata": {},
     "output_type": "execute_result"
    }
   ],
   "source": [
    "((Pp*Dp*Ppinv).applyfunc(factor) - Mp_square).applyfunc(factor)"
   ]
  },
  {
   "cell_type": "code",
   "execution_count": 54,
   "metadata": {},
   "outputs": [
    {
     "data": {
      "text/latex": [
       "$\\displaystyle \\left[\\begin{matrix}0 & 0 & 0 & 0\\\\0 & \\alpha_{2} k_{1}^{2} - \\alpha_{3} k_{1}^{2} - 2 \\rho_{1} v_{R}^{2} + \\rho_{2} v_{R}^{2} & 0 & 0\\\\0 & 0 & \\left(\\alpha_{2} - \\alpha_{3}\\right) \\left(k_{1}^{2} + v_{R}^{2}\\right) & 0\\\\0 & 0 & 0 & 0\\end{matrix}\\right]$"
      ],
      "text/plain": [
       "⎡0                            0                                           0    ↪\n",
       "⎢                                                                              ↪\n",
       "⎢             2             2              2            2                      ↪\n",
       "⎢0  \\alpha₂⋅k₁  - \\alpha₃⋅k₁  - 2⋅\\rho₁⋅v_R  + \\rho₂⋅v_R                  0    ↪\n",
       "⎢                                                                              ↪\n",
       "⎢                                                                              ↪\n",
       "⎢0                            0                            (\\alpha₂ - \\alpha₃) ↪\n",
       "⎢                                                                              ↪\n",
       "⎣0                            0                                           0    ↪\n",
       "\n",
       "↪                0⎤\n",
       "↪                 ⎥\n",
       "↪                 ⎥\n",
       "↪                0⎥\n",
       "↪                 ⎥\n",
       "↪  ⎛  2      2⎞   ⎥\n",
       "↪ ⋅⎝k₁  + v_R ⎠  0⎥\n",
       "↪                 ⎥\n",
       "↪                0⎦"
      ]
     },
     "execution_count": 54,
     "metadata": {},
     "output_type": "execute_result"
    }
   ],
   "source": [
    "(Ppinv*Mp_square*Pp).applyfunc(factor)"
   ]
  },
  {
   "cell_type": "code",
   "execution_count": 55,
   "metadata": {},
   "outputs": [
    {
     "data": {
      "text/latex": [
       "$\\displaystyle \\left[\\begin{matrix}{{\\phi_2^+}}\\\\{{\\chi_L^+}}\\\\\\frac{k_{1} {{\\chi_R^+}} + v_{R} {{\\phi_1^+}}}{\\sqrt{k_{1}^{2} + v_{R}^{2}}}\\\\- \\frac{k_{1} {{\\phi_1^+}} - v_{R} {{\\chi_R^+}}}{\\sqrt{k_{1}^{2} + v_{R}^{2}}}\\end{matrix}\\right]$"
      ],
      "text/plain": [
       "⎡             {{\\phi_2__+}}              ⎤\n",
       "⎢                                        ⎥\n",
       "⎢             {{\\chi_L__+}}              ⎥\n",
       "⎢                                        ⎥\n",
       "⎢  k₁⋅{{\\chi_R__+}} + v_R⋅{{\\phi_1__+}}  ⎥\n",
       "⎢  ────────────────────────────────────  ⎥\n",
       "⎢               ____________             ⎥\n",
       "⎢              ╱   2      2              ⎥\n",
       "⎢            ╲╱  k₁  + v_R               ⎥\n",
       "⎢                                        ⎥\n",
       "⎢-(k₁⋅{{\\phi_1__+}} - v_R⋅{{\\chi_R__+}}) ⎥\n",
       "⎢────────────────────────────────────────⎥\n",
       "⎢               ____________             ⎥\n",
       "⎢              ╱   2      2              ⎥\n",
       "⎣            ╲╱  k₁  + v_R               ⎦"
      ]
     },
     "execution_count": 55,
     "metadata": {},
     "output_type": "execute_result"
    }
   ],
   "source": [
    "physical_charged_scalars_plus = (Ppinv*Matrix(phip_fields)).applyfunc(factor)\n",
    "physical_charged_scalars_plus"
   ]
  },
  {
   "cell_type": "code",
   "execution_count": 56,
   "metadata": {},
   "outputs": [],
   "source": [
    "epsilon = symbols('epsilon')"
   ]
  },
  {
   "cell_type": "code",
   "execution_count": 57,
   "metadata": {},
   "outputs": [
    {
     "data": {
      "text/latex": [
       "$\\displaystyle \\left[\\begin{matrix}{{\\phi_2^+}}\\\\{{\\chi_L^+}}\\\\\\frac{k_{1} {{\\chi_R^+}}}{v_{R}} + {{\\phi_1^+}}\\\\- \\frac{k_{1} {{\\phi_1^+}}}{v_{R}} + {{\\chi_R^+}}\\end{matrix}\\right]$"
      ],
      "text/plain": [
       "⎡          {{\\phi_2__+}}           ⎤\n",
       "⎢                                  ⎥\n",
       "⎢          {{\\chi_L__+}}           ⎥\n",
       "⎢                                  ⎥\n",
       "⎢ k₁⋅{{\\chi_R__+}}                 ⎥\n",
       "⎢ ──────────────── + {{\\phi_1__+}} ⎥\n",
       "⎢       v_R                        ⎥\n",
       "⎢                                  ⎥\n",
       "⎢  k₁⋅{{\\phi_1__+}}                ⎥\n",
       "⎢- ──────────────── + {{\\chi_R__+}}⎥\n",
       "⎣        v_R                       ⎦"
      ]
     },
     "execution_count": 57,
     "metadata": {},
     "output_type": "execute_result"
    }
   ],
   "source": [
    "physical_charged_scalars_plus_approx = physical_charged_scalars_plus.applyfunc(\n",
    "    lambda x:x.subs(k1, epsilon*vR).series(x=epsilon, x0=0, n=2).removeO().subs(epsilon, k1/vR)\n",
    ")\n",
    "physical_charged_scalars_plus_approx"
   ]
  },
  {
   "cell_type": "code",
   "execution_count": 58,
   "metadata": {},
   "outputs": [],
   "source": [
    "phi1m, phi2m, chiLm, chiRm = symbols(r'\\phi_1^-, \\phi_2^-, \\chi_L^-, \\chi_R^-')"
   ]
  },
  {
   "cell_type": "code",
   "execution_count": 59,
   "metadata": {},
   "outputs": [
    {
     "data": {
      "text/latex": [
       "$\\displaystyle \\left[\\begin{matrix}\\phi^{-}_{2}\\\\\\chi^{-}_{L}\\\\\\frac{\\chi^{-}_{R} k_{1} + \\phi^{-}_{1} v_{R}}{\\sqrt{k_{1}^{2} + v_{R}^{2}}}\\\\\\frac{\\chi^{-}_{R} v_{R} - \\phi^{-}_{1} k_{1}}{\\sqrt{k_{1}^{2} + v_{R}^{2}}}\\end{matrix}\\right]$"
      ],
      "text/plain": [
       "⎡         \\phi⁻₂          ⎤\n",
       "⎢                         ⎥\n",
       "⎢        \\chi_L__-        ⎥\n",
       "⎢                         ⎥\n",
       "⎢\\chi_R__-⋅k₁ + \\phi⁻₁⋅v_R⎥\n",
       "⎢─────────────────────────⎥\n",
       "⎢        ____________     ⎥\n",
       "⎢       ╱   2      2      ⎥\n",
       "⎢     ╲╱  k₁  + v_R       ⎥\n",
       "⎢                         ⎥\n",
       "⎢\\chi_R__-⋅v_R - \\phi⁻₁⋅k₁⎥\n",
       "⎢─────────────────────────⎥\n",
       "⎢        ____________     ⎥\n",
       "⎢       ╱   2      2      ⎥\n",
       "⎣     ╲╱  k₁  + v_R       ⎦"
      ]
     },
     "execution_count": 59,
     "metadata": {},
     "output_type": "execute_result"
    }
   ],
   "source": [
    "physical_charged_scalars_minus = (Ppinv*Matrix(phip_fields).subs(\n",
    "    {\n",
    "        phi1p: phi1m,\n",
    "        phi2p: phi2m,\n",
    "        chiLp: chiLm,\n",
    "        chiRp: chiRm,\n",
    "    }\n",
    ")).applyfunc(factor)\n",
    "physical_charged_scalars_minus"
   ]
  },
  {
   "cell_type": "code",
   "execution_count": 60,
   "metadata": {},
   "outputs": [
    {
     "data": {
      "text/latex": [
       "$\\displaystyle \\left[\\begin{matrix}\\phi^{-}_{2}\\\\\\chi^{-}_{L}\\\\\\frac{\\chi^{-}_{R} k_{1}}{v_{R}} + \\phi^{-}_{1}\\\\\\chi^{-}_{R} - \\frac{\\phi^{-}_{1} k_{1}}{v_{R}}\\end{matrix}\\right]$"
      ],
      "text/plain": [
       "⎡       \\phi⁻₂        ⎤\n",
       "⎢                     ⎥\n",
       "⎢      \\chi_L__-      ⎥\n",
       "⎢                     ⎥\n",
       "⎢\\chi_R__-⋅k₁         ⎥\n",
       "⎢──────────── + \\phi⁻₁⎥\n",
       "⎢    v_R              ⎥\n",
       "⎢                     ⎥\n",
       "⎢            \\phi⁻₁⋅k₁⎥\n",
       "⎢\\chi_R__- - ─────────⎥\n",
       "⎣               v_R   ⎦"
      ]
     },
     "execution_count": 60,
     "metadata": {},
     "output_type": "execute_result"
    }
   ],
   "source": [
    "physical_charged_scalars_minus_approx = physical_charged_scalars_minus.applyfunc(\n",
    "    lambda x:x.subs(k1, epsilon*vR).series(x=epsilon, x0=0, n=2).removeO().subs(epsilon, k1/vR)\n",
    ")\n",
    "physical_charged_scalars_minus_approx"
   ]
  },
  {
   "cell_type": "markdown",
   "metadata": {},
   "source": [
    "Pp"
   ]
  },
  {
   "cell_type": "code",
   "execution_count": 61,
   "metadata": {},
   "outputs": [],
   "source": [
    "from sympy import Eq"
   ]
  },
  {
   "cell_type": "code",
   "execution_count": 62,
   "metadata": {},
   "outputs": [],
   "source": [
    "GRp = symbols(r'{{G_R^+}}')\n",
    "HRp = symbols(r'{{H_R^+}}')\n",
    "eqHRp = Eq(HRp, physical_charged_scalars_plus_approx[2])\n",
    "eqGRp = Eq(GRp, physical_charged_scalars_plus_approx[3])\n",
    "\n",
    "GRm = symbols(r'{{G_R^-}}')\n",
    "HRm = symbols(r'{{H_R^-}}')\n",
    "eqHRm = Eq(HRm, physical_charged_scalars_minus_approx[2])\n",
    "eqGRm = Eq(GRm, physical_charged_scalars_minus_approx[3])"
   ]
  },
  {
   "cell_type": "code",
   "execution_count": 63,
   "metadata": {},
   "outputs": [
    {
     "data": {
      "image/png": "[encoded data removed]",
      "text/latex": [
       "$\\displaystyle \\left( \\left\\{ {{\\chi_R^+}} : \\frac{k_{1} v_{R} {{H_R^+}} + v_{R}^{2} {{G_R^+}}}{k_{1}^{2} + v_{R}^{2}}, \\  {{\\phi_1^+}} : \\frac{- k_{1} v_{R} {{G_R^+}} + v_{R}^{2} {{H_R^+}}}{k_{1}^{2} + v_{R}^{2}}\\right\\}, \\  \\left\\{ \\chi^{-}_{R} : \\frac{k_{1} v_{R} {{H_R^-}} + v_{R}^{2} {{G_R^-}}}{k_{1}^{2} + v_{R}^{2}}, \\  \\phi^{-}_{1} : \\frac{- k_{1} v_{R} {{G_R^-}} + v_{R}^{2} {{H_R^-}}}{k_{1}^{2} + v_{R}^{2}}\\right\\}\\right)$"
      ],
      "text/plain": [
       "⎛⎧                                      2                                      ↪\n",
       "⎜⎪               k₁⋅v_R⋅{{H_R__+}} + v_R ⋅{{G_R__+}}                 -k₁⋅v_R⋅{ ↪\n",
       "⎜⎨{{\\chi_R__+}}: ───────────────────────────────────, {{\\phi_1__+}}: ───────── ↪\n",
       "⎜⎪                             2      2                                        ↪\n",
       "⎝⎩                           k₁  + v_R                                         ↪\n",
       "\n",
       "↪                2           ⎫  ⎧                                  2           ↪\n",
       "↪ {G_R__+}} + v_R ⋅{{H_R__+}}⎪  ⎪           k₁⋅v_R⋅{{H_R__-}} + v_R ⋅{{G_R__-} ↪\n",
       "↪ ───────────────────────────⎬, ⎨\\chi_R__-: ────────────────────────────────── ↪\n",
       "↪       2      2             ⎪  ⎪                         2      2             ↪\n",
       "↪     k₁  + v_R              ⎭  ⎩                       k₁  + v_R              ↪\n",
       "\n",
       "↪                                    2           ⎫⎞\n",
       "↪ }          -k₁⋅v_R⋅{{G_R__-}} + v_R ⋅{{H_R__-}}⎪⎟\n",
       "↪ ─, \\phi⁻₁: ────────────────────────────────────⎬⎟\n",
       "↪                           2      2             ⎪⎟\n",
       "↪                         k₁  + v_R              ⎭⎠"
      ]
     },
     "execution_count": 63,
     "metadata": {},
     "output_type": "execute_result"
    }
   ],
   "source": [
    "change_charged_higgs_plus = solve([eqGRp, eqHRp], [phi1p, chiRp])\n",
    "change_charged_higgs_minus = solve([eqGRm, eqHRm], [phi1m, chiRm])\n",
    "change_charged_higgs_plus, change_charged_higgs_minus"
   ]
  },
  {
   "cell_type": "code",
   "execution_count": 64,
   "metadata": {},
   "outputs": [],
   "source": [
    "GLp = symbols(r'{{G_L^+}}')\n",
    "HLp = symbols(r'{{H_L^+}}')\n",
    "change_charged_higgs_plus[phi2p] = GLp\n",
    "change_charged_higgs_plus[chiLp] = HLp\n",
    "\n",
    "GLm = symbols(r'{{G_L^-}}')\n",
    "HLm = symbols(r'{{H_L^-}}')\n",
    "change_charged_higgs_minus[phi2m] = GLm\n",
    "change_charged_higgs_minus[chiLm] = HLm"
   ]
  },
  {
   "cell_type": "code",
   "execution_count": 65,
   "metadata": {},
   "outputs": [
    {
     "data": {
      "image/png": "[encoded data removed]",
      "text/latex": [
       "$\\displaystyle \\left( \\left\\{ {{\\chi_L^+}} : {{H_L^+}}, \\  {{\\chi_R^+}} : \\frac{k_{1} v_{R} {{H_R^+}} + v_{R}^{2} {{G_R^+}}}{k_{1}^{2} + v_{R}^{2}}, \\  {{\\phi_1^+}} : \\frac{- k_{1} v_{R} {{G_R^+}} + v_{R}^{2} {{H_R^+}}}{k_{1}^{2} + v_{R}^{2}}, \\  {{\\phi_2^+}} : {{G_L^+}}\\right\\}, \\  \\left\\{ \\chi^{-}_{L} : {{H_L^-}}, \\  \\chi^{-}_{R} : \\frac{k_{1} v_{R} {{H_R^-}} + v_{R}^{2} {{G_R^-}}}{k_{1}^{2} + v_{R}^{2}}, \\  \\phi^{-}_{1} : \\frac{- k_{1} v_{R} {{G_R^-}} + v_{R}^{2} {{H_R^-}}}{k_{1}^{2} + v_{R}^{2}}, \\  \\phi^{-}_{2} : {{G_L^-}}\\right\\}\\right)$"
      ],
      "text/plain": [
       "⎛⎧                                                                 2           ↪\n",
       "⎜⎪                                          k₁⋅v_R⋅{{H_R__+}} + v_R ⋅{{G_R__+} ↪\n",
       "⎜⎨{{\\chi_L__+}}: {{H_L__+}}, {{\\chi_R__+}}: ────────────────────────────────── ↪\n",
       "⎜⎪                                                        2      2             ↪\n",
       "⎝⎩                                                      k₁  + v_R              ↪\n",
       "\n",
       "↪                                           2                                  ↪\n",
       "↪ }                 -k₁⋅v_R⋅{{G_R__+}} + v_R ⋅{{H_R__+}}                       ↪\n",
       "↪ ─, {{\\phi_1__+}}: ────────────────────────────────────, {{\\phi_2__+}}: {{G_L ↪\n",
       "↪                                  2      2                                    ↪\n",
       "↪                                k₁  + v_R                                     ↪\n",
       "\n",
       "↪      ⎫  ⎧                                                         2          ↪\n",
       "↪      ⎪  ⎪                                  k₁⋅v_R⋅{{H_R__-}} + v_R ⋅{{G_R__- ↪\n",
       "↪ __+}}⎬, ⎨\\chi_L__-: {{H_L__-}}, \\chi_R__-: ───────────────────────────────── ↪\n",
       "↪      ⎪  ⎪                                                2      2            ↪\n",
       "↪      ⎭  ⎩                                              k₁  + v_R             ↪\n",
       "\n",
       "↪                                     2                               ⎫⎞\n",
       "↪ }}          -k₁⋅v_R⋅{{G_R__-}} + v_R ⋅{{H_R__-}}                    ⎪⎟\n",
       "↪ ──, \\phi⁻₁: ────────────────────────────────────, \\phi⁻₂: {{G_L__-}}⎬⎟\n",
       "↪                            2      2                                 ⎪⎟\n",
       "↪                          k₁  + v_R                                  ⎭⎠"
      ]
     },
     "execution_count": 65,
     "metadata": {},
     "output_type": "execute_result"
    }
   ],
   "source": [
    "change_charged_higgs_plus, change_charged_higgs_minus"
   ]
  },
  {
   "cell_type": "code",
   "execution_count": 66,
   "metadata": {},
   "outputs": [],
   "source": [
    "change_charged_higgs = {\n",
    "    **change_charged_higgs_plus,\n",
    "    **change_charged_higgs_minus\n",
    "}"
   ]
  },
  {
   "cell_type": "code",
   "execution_count": 67,
   "metadata": {},
   "outputs": [
    {
     "data": {
      "image/png": "[encoded data removed]",
      "text/latex": [
       "$\\displaystyle \\left\\{ \\chi^{-}_{L} : {{H_L^-}}, \\  \\chi^{-}_{R} : \\frac{k_{1} v_{R} {{H_R^-}} + v_{R}^{2} {{G_R^-}}}{k_{1}^{2} + v_{R}^{2}}, \\  \\phi^{-}_{1} : \\frac{- k_{1} v_{R} {{G_R^-}} + v_{R}^{2} {{H_R^-}}}{k_{1}^{2} + v_{R}^{2}}, \\  \\phi^{-}_{2} : {{G_L^-}}, \\  {{\\chi_L^+}} : {{H_L^+}}, \\  {{\\chi_R^+}} : \\frac{k_{1} v_{R} {{H_R^+}} + v_{R}^{2} {{G_R^+}}}{k_{1}^{2} + v_{R}^{2}}, \\  {{\\phi_1^+}} : \\frac{- k_{1} v_{R} {{G_R^+}} + v_{R}^{2} {{H_R^+}}}{k_{1}^{2} + v_{R}^{2}}, \\  {{\\phi_2^+}} : {{G_L^+}}\\right\\}$"
      ],
      "text/plain": [
       "⎧                                                         2                    ↪\n",
       "⎪                                  k₁⋅v_R⋅{{H_R__-}} + v_R ⋅{{G_R__-}}         ↪\n",
       "⎨\\chi_L__-: {{H_L__-}}, \\chi_R__-: ───────────────────────────────────, \\phi⁻₁ ↪\n",
       "⎪                                                2      2                      ↪\n",
       "⎩                                              k₁  + v_R                       ↪\n",
       "\n",
       "↪                           2                                                  ↪\n",
       "↪   -k₁⋅v_R⋅{{G_R__-}} + v_R ⋅{{H_R__-}}                                       ↪\n",
       "↪ : ────────────────────────────────────, \\phi⁻₂: {{G_L__-}}, {{\\chi_L__+}}: { ↪\n",
       "↪                  2      2                                                    ↪\n",
       "↪                k₁  + v_R                                                     ↪\n",
       "\n",
       "↪                                                  2                           ↪\n",
       "↪                           k₁⋅v_R⋅{{H_R__+}} + v_R ⋅{{G_R__+}}                ↪\n",
       "↪ {H_L__+}}, {{\\chi_R__+}}: ───────────────────────────────────, {{\\phi_1__+}} ↪\n",
       "↪                                         2      2                             ↪\n",
       "↪                                       k₁  + v_R                              ↪\n",
       "\n",
       "↪                           2                                      ⎫\n",
       "↪   -k₁⋅v_R⋅{{G_R__+}} + v_R ⋅{{H_R__+}}                           ⎪\n",
       "↪ : ────────────────────────────────────, {{\\phi_2__+}}: {{G_L__+}}⎬\n",
       "↪                  2      2                                        ⎪\n",
       "↪                k₁  + v_R                                         ⎭"
      ]
     },
     "execution_count": 67,
     "metadata": {},
     "output_type": "execute_result"
    }
   ],
   "source": [
    "change_charged_higgs"
   ]
  },
  {
   "cell_type": "code",
   "execution_count": 68,
   "metadata": {},
   "outputs": [],
   "source": [
    "VLRPhi_ri_tadpole_caso1_physical = VLRPhi_ri_tadpole_caso1.subs(change_charged_higgs)"
   ]
  },
  {
   "cell_type": "code",
   "execution_count": 69,
   "metadata": {},
   "outputs": [],
   "source": [
    "vev_physical_charged_scalars = {\n",
    "    GLp:0, GRp:0, HLp:0, HRp:0,\n",
    "    GLm:0, GRm:0, HLm:0, HRm:0\n",
    "}"
   ]
  },
  {
   "cell_type": "code",
   "execution_count": 70,
   "metadata": {},
   "outputs": [
    {
     "data": {
      "text/latex": [
       "$\\displaystyle \\left[\\begin{matrix}\\alpha_{1} v_{R}^{2} + \\alpha_{3} v_{R}^{2} + 2 \\lambda_{1} k_{1}^{2} + 2 \\lambda_{2} k_{1}^{2} - 2 k_{1}^{2} \\left(\\lambda_{1} + \\lambda_{2}\\right) - v_{R}^{2} \\left(\\alpha_{1} + \\alpha_{3}\\right) & 0 & 0 & 0\\\\0 & \\frac{2 \\alpha_{1} k_{1}^{2} v_{R}^{4}}{\\left(k_{1}^{2} + v_{R}^{2}\\right)^{2}} + \\frac{2 \\alpha_{3} k_{1}^{2} v_{R}^{4}}{\\left(k_{1}^{2} + v_{R}^{2}\\right)^{2}} + \\frac{2 \\lambda_{1} k_{1}^{4} v_{R}^{2}}{\\left(k_{1}^{2} + v_{R}^{2}\\right)^{2}} + \\frac{2 \\lambda_{2} k_{1}^{4} v_{R}^{2}}{\\left(k_{1}^{2} + v_{R}^{2}\\right)^{2}} + \\frac{2 \\rho_{1} v_{R}^{6}}{\\left(k_{1}^{2} + v_{R}^{2}\\right)^{2}} - \\frac{k_{1}^{2} v_{R}^{2} \\left(2 k_{1}^{2} \\left(\\lambda_{1} + \\lambda_{2}\\right) + v_{R}^{2} \\left(\\alpha_{1} + \\alpha_{3}\\right)\\right)}{\\left(k_{1}^{2} + v_{R}^{2}\\right)^{2}} - \\frac{v_{R}^{4} \\left(2 \\rho_{1} v_{R}^{2} + k_{1}^{2} \\left(\\alpha_{1} + \\alpha_{3}\\right)\\right)}{\\left(k_{1}^{2} + v_{R}^{2}\\right)^{2}} & 0 & \\frac{\\alpha_{1} k_{1}^{3} v_{R}^{3}}{\\left(k_{1}^{2} + v_{R}^{2}\\right)^{2}} - \\frac{\\alpha_{1} k_{1} v_{R}^{5}}{\\left(k_{1}^{2} + v_{R}^{2}\\right)^{2}} + \\alpha_{3} \\left(\\frac{k_{1}^{3} v_{R}^{3}}{\\left(k_{1}^{2} + v_{R}^{2}\\right)^{2}} - \\frac{k_{1} v_{R}^{5}}{\\left(k_{1}^{2} + v_{R}^{2}\\right)^{2}}\\right) - \\frac{2 \\lambda_{1} k_{1}^{3} v_{R}^{3}}{\\left(k_{1}^{2} + v_{R}^{2}\\right)^{2}} - \\frac{2 \\lambda_{2} k_{1}^{3} v_{R}^{3}}{\\left(k_{1}^{2} + v_{R}^{2}\\right)^{2}} + \\frac{2 \\rho_{1} k_{1} v_{R}^{5}}{\\left(k_{1}^{2} + v_{R}^{2}\\right)^{2}} - \\frac{k_{1} v_{R}^{3} \\left(2 \\rho_{1} v_{R}^{2} + k_{1}^{2} \\left(\\alpha_{1} + \\alpha_{3}\\right)\\right)}{\\left(k_{1}^{2} + v_{R}^{2}\\right)^{2}} + \\frac{k_{1} v_{R}^{3} \\left(2 k_{1}^{2} \\left(\\lambda_{1} + \\lambda_{2}\\right) + v_{R}^{2} \\left(\\alpha_{1} + \\alpha_{3}\\right)\\right)}{\\left(k_{1}^{2} + v_{R}^{2}\\right)^{2}}\\\\0 & 0 & \\alpha_{1} k_{1}^{2} + \\alpha_{2} k_{1}^{2} - 2 \\rho_{1} v_{R}^{2} + \\rho_{2} v_{R}^{2} - k_{1}^{2} \\left(\\alpha_{1} + \\alpha_{3}\\right) & 0\\\\0 & \\frac{\\alpha_{1} k_{1}^{3} v_{R}^{3}}{\\left(k_{1}^{2} + v_{R}^{2}\\right)^{2}} - \\frac{\\alpha_{1} k_{1} v_{R}^{5}}{\\left(k_{1}^{2} + v_{R}^{2}\\right)^{2}} + \\alpha_{3} \\left(\\frac{k_{1}^{3} v_{R}^{3}}{\\left(k_{1}^{2} + v_{R}^{2}\\right)^{2}} - \\frac{k_{1} v_{R}^{5}}{\\left(k_{1}^{2} + v_{R}^{2}\\right)^{2}}\\right) - \\frac{2 \\lambda_{1} k_{1}^{3} v_{R}^{3}}{\\left(k_{1}^{2} + v_{R}^{2}\\right)^{2}} - \\frac{2 \\lambda_{2} k_{1}^{3} v_{R}^{3}}{\\left(k_{1}^{2} + v_{R}^{2}\\right)^{2}} + \\frac{2 \\rho_{1} k_{1} v_{R}^{5}}{\\left(k_{1}^{2} + v_{R}^{2}\\right)^{2}} - \\frac{k_{1} v_{R}^{3} \\left(2 \\rho_{1} v_{R}^{2} + k_{1}^{2} \\left(\\alpha_{1} + \\alpha_{3}\\right)\\right)}{\\left(k_{1}^{2} + v_{R}^{2}\\right)^{2}} + \\frac{k_{1} v_{R}^{3} \\left(2 k_{1}^{2} \\left(\\lambda_{1} + \\lambda_{2}\\right) + v_{R}^{2} \\left(\\alpha_{1} + \\alpha_{3}\\right)\\right)}{\\left(k_{1}^{2} + v_{R}^{2}\\right)^{2}} & 0 & \\frac{\\alpha_{1} k_{1}^{4} v_{R}^{2}}{\\left(k_{1}^{2} + v_{R}^{2}\\right)^{2}} + \\frac{\\alpha_{1} v_{R}^{6}}{\\left(k_{1}^{2} + v_{R}^{2}\\right)^{2}} + \\alpha_{2} \\left(\\frac{k_{1}^{2} v_{R} \\left(\\frac{k_{1}^{2} v_{R}}{k_{1}^{2} + v_{R}^{2}} + \\frac{v_{R}^{3}}{k_{1}^{2} + v_{R}^{2}}\\right)}{k_{1}^{2} + v_{R}^{2}} + \\frac{v_{R}^{3} \\left(\\frac{k_{1}^{2} v_{R}}{k_{1}^{2} + v_{R}^{2}} + \\frac{v_{R}^{3}}{k_{1}^{2} + v_{R}^{2}}\\right)}{k_{1}^{2} + v_{R}^{2}}\\right) - \\frac{2 \\alpha_{3} k_{1}^{2} v_{R}^{4}}{\\left(k_{1}^{2} + v_{R}^{2}\\right)^{2}} + \\frac{2 \\lambda_{1} k_{1}^{2} v_{R}^{4}}{\\left(k_{1}^{2} + v_{R}^{2}\\right)^{2}} + \\frac{2 \\lambda_{2} k_{1}^{2} v_{R}^{4}}{\\left(k_{1}^{2} + v_{R}^{2}\\right)^{2}} + \\frac{2 \\rho_{1} k_{1}^{2} v_{R}^{4}}{\\left(k_{1}^{2} + v_{R}^{2}\\right)^{2}} - \\frac{k_{1}^{2} v_{R}^{2} \\left(2 \\rho_{1} v_{R}^{2} + k_{1}^{2} \\left(\\alpha_{1} + \\alpha_{3}\\right)\\right)}{\\left(k_{1}^{2} + v_{R}^{2}\\right)^{2}} - \\frac{v_{R}^{4} \\left(2 k_{1}^{2} \\left(\\lambda_{1} + \\lambda_{2}\\right) + v_{R}^{2} \\left(\\alpha_{1} + \\alpha_{3}\\right)\\right)}{\\left(k_{1}^{2} + v_{R}^{2}\\right)^{2}}\\end{matrix}\\right]$"
      ],
      "text/plain": [
       "⎡           2              2                2                2       2         ↪\n",
       "⎢\\alpha₁⋅v_R  + \\alpha₃⋅v_R  + 2⋅\\lambda₁⋅k₁  + 2⋅\\lambda₂⋅k₁  - 2⋅k₁ ⋅(\\lambd ↪\n",
       "⎢                                                                              ↪\n",
       "⎢                                                                              ↪\n",
       "⎢                                                                              ↪\n",
       "⎢                                                          0                   ↪\n",
       "⎢                                                                              ↪\n",
       "⎢                                                                              ↪\n",
       "⎢                                                                              ↪\n",
       "⎢                                                                              ↪\n",
       "⎢                                                                              ↪\n",
       "⎢                                                          0                   ↪\n",
       "⎢                                                                              ↪\n",
       "⎢                                                                              ↪\n",
       "⎢                                                                              ↪\n",
       "⎢                                                                              ↪\n",
       "⎢                                                                              ↪\n",
       "⎢                                                                              ↪\n",
       "⎢                                                          0                   ↪\n",
       "⎢                                                                              ↪\n",
       "⎢                                                                              ↪\n",
       "⎣                                                                              ↪\n",
       "\n",
       "↪                     2                                                        ↪\n",
       "↪ a₁ + \\lambda₂) - v_R ⋅(\\alpha₁ + \\alpha₃)                                    ↪\n",
       "↪                                                                              ↪\n",
       "↪                                                                            2 ↪\n",
       "↪                                                                2⋅\\alpha₁⋅k₁  ↪\n",
       "↪                                                                ───────────── ↪\n",
       "↪                                                                              ↪\n",
       "↪                                                                  ⎛  2      2 ↪\n",
       "↪                                                                  ⎝k₁  + v_R  ↪\n",
       "↪                                                                              ↪\n",
       "↪                                                                              ↪\n",
       "↪                                                                              ↪\n",
       "↪                                                                              ↪\n",
       "↪                                                                              ↪\n",
       "↪                                                                              ↪\n",
       "↪                                                                              ↪\n",
       "↪                                                      3    3                  ↪\n",
       "↪                                            \\alpha₁⋅k₁ ⋅v_R    \\alpha₁⋅k₁⋅v_R ↪\n",
       "↪                                            ──────────────── - ────────────── ↪\n",
       "↪                                                         2                  2 ↪\n",
       "↪                                             ⎛  2      2⎞       ⎛  2      2⎞  ↪\n",
       "↪                                             ⎝k₁  + v_R ⎠       ⎝k₁  + v_R ⎠  ↪\n",
       "\n",
       "↪                                                                              ↪\n",
       "↪                                                                              ↪\n",
       "↪                                                                              ↪\n",
       "↪     4               2    4                4    2                4    2       ↪\n",
       "↪ ⋅v_R    2⋅\\alpha₃⋅k₁ ⋅v_R    2⋅\\lambda₁⋅k₁ ⋅v_R    2⋅\\lambda₂⋅k₁ ⋅v_R    2⋅\\ ↪\n",
       "↪ ───── + ────────────────── + ─────────────────── + ─────────────────── + ─── ↪\n",
       "↪  2                    2                     2                     2          ↪\n",
       "↪ ⎞         ⎛  2      2⎞          ⎛  2      2⎞          ⎛  2      2⎞       ⎛   ↪\n",
       "↪ ⎠         ⎝k₁  + v_R ⎠          ⎝k₁  + v_R ⎠          ⎝k₁  + v_R ⎠       ⎝k₁ ↪\n",
       "↪                                                                              ↪\n",
       "↪                                                                              ↪\n",
       "↪                                                                              ↪\n",
       "↪                                                                              ↪\n",
       "↪                                                                              ↪\n",
       "↪                                                                              ↪\n",
       "↪                                                                              ↪\n",
       "↪ 5           ⎛    3    3               5   ⎞                3    3            ↪\n",
       "↪             ⎜  k₁ ⋅v_R          k₁⋅v_R    ⎟   2⋅\\lambda₁⋅k₁ ⋅v_R    2⋅\\lambd ↪\n",
       "↪ ─ + \\alpha₃⋅⎜───────────── - ─────────────⎟ - ─────────────────── - ──────── ↪\n",
       "↪             ⎜            2               2⎟                  2               ↪\n",
       "↪             ⎜⎛  2      2⎞    ⎛  2      2⎞ ⎟      ⎛  2      2⎞          ⎛  2  ↪\n",
       "↪             ⎝⎝k₁  + v_R ⎠    ⎝k₁  + v_R ⎠ ⎠      ⎝k₁  + v_R ⎠          ⎝k₁   ↪\n",
       "\n",
       "↪                                                                              ↪\n",
       "↪                   0                                                          ↪\n",
       "↪                                                                              ↪\n",
       "↪         6      2    2 ⎛    2                            2                    ↪\n",
       "↪ rho₁⋅v_R     k₁ ⋅v_R ⋅⎝2⋅k₁ ⋅(\\lambda₁ + \\lambda₂) + v_R ⋅(\\alpha₁ + \\alpha₃ ↪\n",
       "↪ ────────── - ─────────────────────────────────────────────────────────────── ↪\n",
       "↪          2                                         2                         ↪\n",
       "↪ 2      2⎞                              ⎛  2      2⎞                          ↪\n",
       "↪   + v_R ⎠                              ⎝k₁  + v_R ⎠                          ↪\n",
       "↪                                                                              ↪\n",
       "↪                                                                              ↪\n",
       "↪                   0                                                          ↪\n",
       "↪                                                                              ↪\n",
       "↪                                                                              ↪\n",
       "↪                                                                              ↪\n",
       "↪                                                                              ↪\n",
       "↪      3    3                 5         3 ⎛           2     2                  ↪\n",
       "↪ a₂⋅k₁ ⋅v_R    2⋅\\rho₁⋅k₁⋅v_R    k₁⋅v_R ⋅⎝2⋅\\rho₁⋅v_R  + k₁ ⋅(\\alpha₁ + \\alph ↪\n",
       "↪ ─────────── + ─────────────── - ──────────────────────────────────────────── ↪\n",
       "↪        2                   2                                 2               ↪\n",
       "↪      2⎞        ⎛  2      2⎞                      ⎛  2      2⎞                ↪\n",
       "↪ + v_R ⎠        ⎝k₁  + v_R ⎠                      ⎝k₁  + v_R ⎠                ↪\n",
       "\n",
       "↪                                                                              ↪\n",
       "↪                                                                              ↪\n",
       "↪                                                                              ↪\n",
       "↪  ⎞      4 ⎛           2     2                    ⎞                           ↪\n",
       "↪ )⎠   v_R ⋅⎝2⋅\\rho₁⋅v_R  + k₁ ⋅(\\alpha₁ + \\alpha₃)⎠                           ↪\n",
       "↪ ── - ─────────────────────────────────────────────                           ↪\n",
       "↪                                  2                                           ↪\n",
       "↪                      ⎛  2      2⎞                                            ↪\n",
       "↪                      ⎝k₁  + v_R ⎠                                            ↪\n",
       "↪                                                                              ↪\n",
       "↪                                                                              ↪\n",
       "↪                                                                          \\al ↪\n",
       "↪                                                                              ↪\n",
       "↪                                                                              ↪\n",
       "↪                                                                              ↪\n",
       "↪                                                                              ↪\n",
       "↪    ⎞         3 ⎛    2                            2                    ⎞      ↪\n",
       "↪ a₃)⎠   k₁⋅v_R ⋅⎝2⋅k₁ ⋅(\\lambda₁ + \\lambda₂) + v_R ⋅(\\alpha₁ + \\alpha₃)⎠      ↪\n",
       "↪ ──── + ────────────────────────────────────────────────────────────────      ↪\n",
       "↪                                             2                                ↪\n",
       "↪                                 ⎛  2      2⎞                                 ↪\n",
       "↪                                 ⎝k₁  + v_R ⎠                                 ↪\n",
       "\n",
       "↪                                                                              ↪\n",
       "↪                                     0                                        ↪\n",
       "↪                                                                              ↪\n",
       "↪                                                                              ↪\n",
       "↪                                                                              ↪\n",
       "↪                                     0                                        ↪\n",
       "↪                                                                              ↪\n",
       "↪                                                                              ↪\n",
       "↪                                                                              ↪\n",
       "↪                                                                              ↪\n",
       "↪        2             2              2            2     2                     ↪\n",
       "↪ pha₁⋅k₁  + \\alpha₂⋅k₁  - 2⋅\\rho₁⋅v_R  + \\rho₂⋅v_R  - k₁ ⋅(\\alpha₁ + \\alpha₃) ↪\n",
       "↪                                                                              ↪\n",
       "↪                                                                              ↪\n",
       "↪                                                                              ↪\n",
       "↪                                                                              ↪\n",
       "↪                                                                              ↪\n",
       "↪                                                                              ↪\n",
       "↪                                     0                                        ↪\n",
       "↪                                                                              ↪\n",
       "↪                                                                              ↪\n",
       "↪                                                                              ↪\n",
       "\n",
       "↪                                                                              ↪\n",
       "↪                                                                              ↪\n",
       "↪                                                                              ↪\n",
       "↪                                        3    3                 5           ⎛  ↪\n",
       "↪                              \\alpha₁⋅k₁ ⋅v_R    \\alpha₁⋅k₁⋅v_R            ⎜  ↪\n",
       "↪                              ──────────────── - ─────────────── + \\alpha₃⋅⎜─ ↪\n",
       "↪                                           2                  2            ⎜  ↪\n",
       "↪                               ⎛  2      2⎞       ⎛  2      2⎞             ⎜⎛ ↪\n",
       "↪                               ⎝k₁  + v_R ⎠       ⎝k₁  + v_R ⎠             ⎝⎝ ↪\n",
       "↪                                                                              ↪\n",
       "↪                                                                              ↪\n",
       "↪                                                                              ↪\n",
       "↪                                                                              ↪\n",
       "↪                                              ⎛        ⎛   2               3  ↪\n",
       "↪                                              ⎜  2     ⎜ k₁ ⋅v_R        v_R   ↪\n",
       "↪                                              ⎜k₁ ⋅v_R⋅⎜────────── + ──────── ↪\n",
       "↪             4    2              6            ⎜        ⎜  2      2     2      ↪\n",
       "↪   \\alpha₁⋅k₁ ⋅v_R    \\alpha₁⋅v_R             ⎜        ⎝k₁  + v_R    k₁  + v_ ↪\n",
       "↪   ──────────────── + ───────────── + \\alpha₂⋅⎜────────────────────────────── ↪\n",
       "↪                2                 2           ⎜             2      2          ↪\n",
       "↪    ⎛  2      2⎞      ⎛  2      2⎞            ⎝           k₁  + v_R           ↪\n",
       "↪    ⎝k₁  + v_R ⎠      ⎝k₁  + v_R ⎠                                            ↪\n",
       "\n",
       "↪                                                                              ↪\n",
       "↪                                                                              ↪\n",
       "↪                                                                              ↪\n",
       "↪    3    3               5   ⎞                3    3                3    3    ↪\n",
       "↪  k₁ ⋅v_R          k₁⋅v_R    ⎟   2⋅\\lambda₁⋅k₁ ⋅v_R    2⋅\\lambda₂⋅k₁ ⋅v_R     ↪\n",
       "↪ ──────────── - ─────────────⎟ - ─────────────────── - ─────────────────── +  ↪\n",
       "↪            2               2⎟                  2                     2       ↪\n",
       "↪   2      2⎞    ⎛  2      2⎞ ⎟      ⎛  2      2⎞          ⎛  2      2⎞        ↪\n",
       "↪ k₁  + v_R ⎠    ⎝k₁  + v_R ⎠ ⎠      ⎝k₁  + v_R ⎠          ⎝k₁  + v_R ⎠        ↪\n",
       "↪                                                                              ↪\n",
       "↪                                                                              ↪\n",
       "↪                                                                              ↪\n",
       "↪                                                                              ↪\n",
       "↪   ⎞        ⎛   2               3   ⎞⎞                                        ↪\n",
       "↪   ⎟      3 ⎜ k₁ ⋅v_R        v_R    ⎟⎟                                        ↪\n",
       "↪ ──⎟   v_R ⋅⎜────────── + ──────────⎟⎟                                        ↪\n",
       "↪  2⎟        ⎜  2      2     2      2⎟⎟               2    4                2  ↪\n",
       "↪ R ⎠        ⎝k₁  + v_R    k₁  + v_R ⎠⎟   2⋅\\alpha₃⋅k₁ ⋅v_R    2⋅\\lambda₁⋅k₁ ⋅ ↪\n",
       "↪ ─── + ──────────────────────────────⎟ - ────────────────── + ─────────────── ↪\n",
       "↪                   2      2          ⎟                 2                      ↪\n",
       "↪                 k₁  + v_R           ⎠     ⎛  2      2⎞          ⎛  2      2⎞ ↪\n",
       "↪                                           ⎝k₁  + v_R ⎠          ⎝k₁  + v_R ⎠ ↪\n",
       "\n",
       "↪                                                                              ↪\n",
       "↪      0                                                                       ↪\n",
       "↪                                                                              ↪\n",
       "↪               5         3 ⎛           2     2                    ⎞         3 ↪\n",
       "↪ 2⋅\\rho₁⋅k₁⋅v_R    k₁⋅v_R ⋅⎝2⋅\\rho₁⋅v_R  + k₁ ⋅(\\alpha₁ + \\alpha₃)⎠   k₁⋅v_R  ↪\n",
       "↪ ─────────────── - ──────────────────────────────────────────────── + ─────── ↪\n",
       "↪              2                                 2                             ↪\n",
       "↪  ⎛  2      2⎞                      ⎛  2      2⎞                              ↪\n",
       "↪  ⎝k₁  + v_R ⎠                      ⎝k₁  + v_R ⎠                              ↪\n",
       "↪                                                                              ↪\n",
       "↪                                                                              ↪\n",
       "↪      0                                                                       ↪\n",
       "↪                                                                              ↪\n",
       "↪                                                                              ↪\n",
       "↪                                                                              ↪\n",
       "↪                                                                              ↪\n",
       "↪    4                2    4             2    4     2    2 ⎛           2     2 ↪\n",
       "↪ v_R    2⋅\\lambda₂⋅k₁ ⋅v_R    2⋅\\rho₁⋅k₁ ⋅v_R    k₁ ⋅v_R ⋅⎝2⋅\\rho₁⋅v_R  + k₁  ↪\n",
       "↪ ──── + ─────────────────── + ──────────────── - ──────────────────────────── ↪\n",
       "↪ 2                     2                   2                                  ↪\n",
       "↪           ⎛  2      2⎞        ⎛  2      2⎞                        ⎛  2       ↪\n",
       "↪           ⎝k₁  + v_R ⎠        ⎝k₁  + v_R ⎠                        ⎝k₁  + v_R ↪\n",
       "\n",
       "↪                                                                              ↪\n",
       "↪                                                                              ↪\n",
       "↪                                                                              ↪\n",
       "↪  ⎛    2                            2                    ⎞                    ↪\n",
       "↪ ⋅⎝2⋅k₁ ⋅(\\lambda₁ + \\lambda₂) + v_R ⋅(\\alpha₁ + \\alpha₃)⎠                    ↪\n",
       "↪ ─────────────────────────────────────────────────────────                    ↪\n",
       "↪                               2                                              ↪\n",
       "↪                   ⎛  2      2⎞                                               ↪\n",
       "↪                   ⎝k₁  + v_R ⎠                                               ↪\n",
       "↪                                                                              ↪\n",
       "↪                                                                              ↪\n",
       "↪                                                                              ↪\n",
       "↪                                                                              ↪\n",
       "↪                                                                              ↪\n",
       "↪                                                                              ↪\n",
       "↪                                                                              ↪\n",
       "↪                     ⎞      4 ⎛    2                            2             ↪\n",
       "↪ ⋅(\\alpha₁ + \\alpha₃)⎠   v_R ⋅⎝2⋅k₁ ⋅(\\lambda₁ + \\lambda₂) + v_R ⋅(\\alpha₁ +  ↪\n",
       "↪ ───────────────────── - ──────────────────────────────────────────────────── ↪\n",
       "↪   2                                                         2                ↪\n",
       "↪ 2⎞                                              ⎛  2      2⎞                 ↪\n",
       "↪  ⎠                                              ⎝k₁  + v_R ⎠                 ↪\n",
       "\n",
       "↪          ⎤\n",
       "↪          ⎥\n",
       "↪          ⎥\n",
       "↪          ⎥\n",
       "↪          ⎥\n",
       "↪          ⎥\n",
       "↪          ⎥\n",
       "↪          ⎥\n",
       "↪          ⎥\n",
       "↪          ⎥\n",
       "↪          ⎥\n",
       "↪          ⎥\n",
       "↪          ⎥\n",
       "↪          ⎥\n",
       "↪          ⎥\n",
       "↪          ⎥\n",
       "↪         ⎞⎥\n",
       "↪ \\alpha₃)⎠⎥\n",
       "↪ ─────────⎥\n",
       "↪          ⎥\n",
       "↪          ⎥\n",
       "↪          ⎦"
      ]
     },
     "execution_count": 70,
     "metadata": {},
     "output_type": "execute_result"
    }
   ],
   "source": [
    "phip_fields = [GLp, GRp, HLp, HRp]\n",
    "\n",
    "dummyconjugateGLp = Dummy(r'G_L^{+,d}')\n",
    "dummyconjugateGRp = Dummy(r'G_R^{+,d}')\n",
    "dummyconjugateHRp = Dummy(r'H_R^{+,d}')\n",
    "dummyconjugateHLp = Dummy(r'H_L^{+,d}')\n",
    "\n",
    "dummychangep = {\n",
    "    conjugate(GLp):dummyconjugateGLp,\n",
    "    conjugate(GRp):dummyconjugateGRp,\n",
    "    conjugate(HRp):dummyconjugateHRp,\n",
    "    conjugate(HLp):dummyconjugateHLp\n",
    "}\n",
    "phim_fields = [dummyconjugateGLp, dummyconjugateGRp, dummyconjugateHLp, dummyconjugateHRp] \n",
    "Mp_square_physical = (derive_by_array(derive_by_array(VLRPhi_ri_tadpole_caso1_physical.subs(dummychangep), phim_fields), phip_fields)).subs(\n",
    "    {value:key for key, value in dummychangep.items()}\n",
    ").subs(\n",
    "    vevPhi\n",
    ").subs(vevL).subs(vevR).subs(k2,0).subs(vL, 0).subs(vev_physical_charged_scalars)\n",
    "Mp_square_physical"
   ]
  },
  {
   "cell_type": "code",
   "execution_count": 71,
   "metadata": {},
   "outputs": [
    {
     "data": {
      "text/latex": [
       "$\\displaystyle \\left[\\begin{matrix}0 & 0 & 0 & 0\\\\0 & 0 & 0 & 0\\\\0 & 0 & k_{1}^{2} \\left(\\alpha_{2} - \\alpha_{3}\\right) + v_{R}^{2} \\left(- 2 \\rho_{1} + \\rho_{2}\\right) & 0\\\\0 & 0 & 0 & v_{R}^{2} \\left(\\alpha_{2} - \\alpha_{3}\\right)\\end{matrix}\\right]$"
      ],
      "text/plain": [
       "⎡0  0                          0                                     0         ↪\n",
       "⎢                                                                              ↪\n",
       "⎢0  0                          0                                     0         ↪\n",
       "⎢                                                                              ↪\n",
       "⎢        2                          2                                          ↪\n",
       "⎢0  0  k₁ ⋅(\\alpha₂ - \\alpha₃) + v_R ⋅(-2⋅\\rho₁ + \\rho₂)             0         ↪\n",
       "⎢                                                                              ↪\n",
       "⎢                                                            2                 ↪\n",
       "⎣0  0                          0                          v_R ⋅(\\alpha₂ - \\alp ↪\n",
       "\n",
       "↪     ⎤\n",
       "↪     ⎥\n",
       "↪     ⎥\n",
       "↪     ⎥\n",
       "↪     ⎥\n",
       "↪     ⎥\n",
       "↪     ⎥\n",
       "↪     ⎥\n",
       "↪ ha₃)⎦"
      ]
     },
     "execution_count": 71,
     "metadata": {},
     "output_type": "execute_result"
    }
   ],
   "source": [
    "Mp_square_physical = Mp_square_physical.applyfunc(factor).applyfunc(lambda x:x.collect([k1, vR], factor))\n",
    "Mp_square_physical"
   ]
  },
  {
   "cell_type": "code",
   "execution_count": 72,
   "metadata": {},
   "outputs": [],
   "source": [
    "mHL, mHR = symbols('m_{H_L^+}, m_{H_R^+}', positive=True)"
   ]
  },
  {
   "cell_type": "code",
   "execution_count": 73,
   "metadata": {},
   "outputs": [],
   "source": [
    "\n",
    "alpha12_rho12_masses_relations = solve(\n",
    "    [\n",
    "        mHL**2 - Mp_square_physical[2,2],\n",
    "        mHR**2 - Mp_square_physical[3,3]\n",
    "    ],\n",
    "    [alpha2-alpha3, rho2-2*rho1], dict=True\n",
    ")[0]"
   ]
  },
  {
   "cell_type": "code",
   "execution_count": 74,
   "metadata": {},
   "outputs": [
    {
     "data": {
      "image/png": "[encoded data removed]",
      "text/latex": [
       "$\\displaystyle \\left\\{ \\alpha_{2} - \\alpha_{3} : \\frac{\\left(m_{H_R^+}\\right)^{2}}{v_{R}^{2}}, \\  - 2 \\rho_{1} + \\rho_{2} : \\frac{- k_{1}^{2} \\left(m_{H_R^+}\\right)^{2} + \\left(m_{H_L^+}\\right)^{2} v_{R}^{2}}{v_{R}^{4}}\\right\\}$"
      ],
      "text/plain": [
       "⎧                             2                        2           2           ↪\n",
       "⎪                   m_{H_R__+}                     - k₁ ⋅m_{H_R__+}  + m_{H_L_ ↪\n",
       "⎨\\alpha₂ - \\alpha₃: ───────────, -2⋅\\rho₁ + \\rho₂: ─────────────────────────── ↪\n",
       "⎪                         2                                           4        ↪\n",
       "⎩                      v_R                                         v_R         ↪\n",
       "\n",
       "↪    2    2⎫\n",
       "↪ _+} ⋅v_R ⎪\n",
       "↪ ─────────⎬\n",
       "↪          ⎪\n",
       "↪          ⎭"
      ]
     },
     "execution_count": 74,
     "metadata": {},
     "output_type": "execute_result"
    }
   ],
   "source": [
    "alpha12_rho12_masses_relations"
   ]
  },
  {
   "cell_type": "code",
   "execution_count": 75,
   "metadata": {},
   "outputs": [],
   "source": [
    "for param, exp in alpha12_rho12_masses_relations.items():\n",
    "    exp_factor = exp.factor()\n",
    "    #display(exp_factor)\n",
    "    alpha12_rho12_masses_relations[param] = exp_factor"
   ]
  },
  {
   "cell_type": "code",
   "execution_count": 76,
   "metadata": {},
   "outputs": [
    {
     "data": {
      "image/png": "[encoded data removed]",
      "text/latex": [
       "$\\displaystyle \\left\\{ \\alpha_{2} - \\alpha_{3} : \\frac{\\left(m_{H_R^+}\\right)^{2}}{v_{R}^{2}}, \\  - 2 \\rho_{1} + \\rho_{2} : - \\frac{\\left(k_{1} m_{H_R^+} - m_{H_L^+} v_{R}\\right) \\left(k_{1} m_{H_R^+} + m_{H_L^+} v_{R}\\right)}{v_{R}^{4}}\\right\\}$"
      ],
      "text/plain": [
       "⎧                             2                                                ↪\n",
       "⎪                   m_{H_R__+}                     -(k₁⋅m_{H_R__+} - m_{H_L__+ ↪\n",
       "⎨\\alpha₂ - \\alpha₃: ───────────, -2⋅\\rho₁ + \\rho₂: ─────────────────────────── ↪\n",
       "⎪                         2                                                    ↪\n",
       "⎩                      v_R                                                     ↪\n",
       "\n",
       "↪                                         ⎫\n",
       "↪ }⋅v_R)⋅(k₁⋅m_{H_R__+} + m_{H_L__+}⋅v_R) ⎪\n",
       "↪ ────────────────────────────────────────⎬\n",
       "↪        4                                ⎪\n",
       "↪     v_R                                 ⎭"
      ]
     },
     "execution_count": 76,
     "metadata": {},
     "output_type": "execute_result"
    }
   ],
   "source": [
    "alpha12_rho12_masses_relations"
   ]
  },
  {
   "cell_type": "markdown",
   "metadata": {},
   "source": [
    "### Neutral mass matrix"
   ]
  },
  {
   "cell_type": "code",
   "execution_count": 77,
   "metadata": {},
   "outputs": [
    {
     "data": {
      "text/latex": [
       "$\\displaystyle \\left[\\begin{matrix}2 \\alpha_{1} v_{R}^{2} + 2 \\alpha_{3} v_{R}^{2} + 12 \\lambda_{1} k_{1}^{2} + 12 \\lambda_{2} k_{1}^{2} - 4 k_{1}^{2} \\left(\\lambda_{1} + \\lambda_{2}\\right) - 2 v_{R}^{2} \\left(\\alpha_{1} + \\alpha_{3}\\right) & 0 & 0 & 4 \\alpha_{1} k_{1} v_{R} + 4 \\alpha_{3} k_{1} v_{R} & 0 & 0 & 0 & 0\\\\0 & 2 \\alpha_{1} v_{R}^{2} + 2 \\alpha_{2} v_{R}^{2} + 4 \\lambda_{1} k_{1}^{2} + 16 \\lambda_{3} k_{1}^{2} + 4 \\lambda_{5} k_{1}^{2} + 4 \\lambda_{6} k_{1}^{2} - 4 k_{1}^{2} \\left(\\lambda_{1} + \\lambda_{2}\\right) - 2 v_{R}^{2} \\left(\\alpha_{1} + \\alpha_{3}\\right) & 0 & 0 & 0 & 0 & 0 & 0\\\\0 & 0 & 2 \\alpha_{1} k_{1}^{2} + 2 \\alpha_{3} k_{1}^{2} - 4 \\rho_{1} v_{R}^{2} + 2 \\rho_{2} v_{R}^{2} - 2 k_{1}^{2} \\left(\\alpha_{1} + \\alpha_{3}\\right) & 0 & 0 & 0 & 0 & 0\\\\4 \\alpha_{1} k_{1} v_{R} + 4 \\alpha_{3} k_{1} v_{R} & 0 & 0 & 2 \\alpha_{1} k_{1}^{2} + 2 \\alpha_{3} k_{1}^{2} + 8 \\rho_{1} v_{R}^{2} - 2 k_{1}^{2} \\left(\\alpha_{1} + \\alpha_{3}\\right) & 0 & 0 & 0 & 0\\\\0 & 0 & 0 & 0 & 2 \\alpha_{1} v_{R}^{2} + 2 \\alpha_{3} v_{R}^{2} + 4 \\lambda_{1} k_{1}^{2} + 4 \\lambda_{2} k_{1}^{2} - 4 k_{1}^{2} \\left(\\lambda_{1} + \\lambda_{2}\\right) - 2 v_{R}^{2} \\left(\\alpha_{1} + \\alpha_{3}\\right) & 0 & 0 & 0\\\\0 & 0 & 0 & 0 & 0 & 2 \\alpha_{1} v_{R}^{2} + 2 \\alpha_{2} v_{R}^{2} + 4 \\lambda_{1} k_{1}^{2} - 16 \\lambda_{4} k_{1}^{2} + 4 \\lambda_{5} k_{1}^{2} - 4 \\lambda_{6} k_{1}^{2} - 4 k_{1}^{2} \\left(\\lambda_{1} + \\lambda_{2}\\right) - 2 v_{R}^{2} \\left(\\alpha_{1} + \\alpha_{3}\\right) & 0 & 0\\\\0 & 0 & 0 & 0 & 0 & 0 & 2 \\alpha_{1} k_{1}^{2} + 2 \\alpha_{3} k_{1}^{2} - 4 \\rho_{1} v_{R}^{2} + 2 \\rho_{2} v_{R}^{2} - 2 k_{1}^{2} \\left(\\alpha_{1} + \\alpha_{3}\\right) & 0\\\\0 & 0 & 0 & 0 & 0 & 0 & 0 & 2 \\alpha_{1} k_{1}^{2} + 2 \\alpha_{3} k_{1}^{2} - 2 k_{1}^{2} \\left(\\alpha_{1} + \\alpha_{3}\\right)\\end{matrix}\\right]$"
      ],
      "text/plain": [
       "⎡             2                2                 2                 2       2   ↪\n",
       "⎢2⋅\\alpha₁⋅v_R  + 2⋅\\alpha₃⋅v_R  + 12⋅\\lambda₁⋅k₁  + 12⋅\\lambda₂⋅k₁  - 4⋅k₁ ⋅( ↪\n",
       "⎢                                                                              ↪\n",
       "⎢                                                                              ↪\n",
       "⎢                                                              0               ↪\n",
       "⎢                                                                              ↪\n",
       "⎢                                                                              ↪\n",
       "⎢                                                              0               ↪\n",
       "⎢                                                                              ↪\n",
       "⎢                                                                              ↪\n",
       "⎢                                             4⋅\\alpha₁⋅k₁⋅v_R + 4⋅\\alpha₃⋅k₁⋅ ↪\n",
       "⎢                                                                              ↪\n",
       "⎢                                                                              ↪\n",
       "⎢                                                              0               ↪\n",
       "⎢                                                                              ↪\n",
       "⎢                                                                              ↪\n",
       "⎢                                                              0               ↪\n",
       "⎢                                                                              ↪\n",
       "⎢                                                                              ↪\n",
       "⎢                                                              0               ↪\n",
       "⎢                                                                              ↪\n",
       "⎢                                                                              ↪\n",
       "⎣                                                              0               ↪\n",
       "\n",
       "↪                             2                                                ↪\n",
       "↪ \\lambda₁ + \\lambda₂) - 2⋅v_R ⋅(\\alpha₁ + \\alpha₃)                            ↪\n",
       "↪                                                                              ↪\n",
       "↪                                                                 2            ↪\n",
       "↪                                                    2⋅\\alpha₁⋅v_R  + 2⋅\\alpha ↪\n",
       "↪                                                                              ↪\n",
       "↪                                                                              ↪\n",
       "↪                                                                              ↪\n",
       "↪                                                                              ↪\n",
       "↪                                                                              ↪\n",
       "↪ v_R                                                                          ↪\n",
       "↪                                                                              ↪\n",
       "↪                                                                              ↪\n",
       "↪                                                                              ↪\n",
       "↪                                                                              ↪\n",
       "↪                                                                              ↪\n",
       "↪                                                                              ↪\n",
       "↪                                                                              ↪\n",
       "↪                                                                              ↪\n",
       "↪                                                                              ↪\n",
       "↪                                                                              ↪\n",
       "↪                                                                              ↪\n",
       "↪                                                                              ↪\n",
       "\n",
       "↪                                                                              ↪\n",
       "↪                                                       0                      ↪\n",
       "↪                                                                              ↪\n",
       "↪      2                2                 2                2                2  ↪\n",
       "↪ ₂⋅v_R  + 4⋅\\lambda₁⋅k₁  + 16⋅\\lambda₃⋅k₁  + 4⋅\\lambda₅⋅k₁  + 4⋅\\lambda₆⋅k₁   ↪\n",
       "↪                                                                              ↪\n",
       "↪                                                                              ↪\n",
       "↪                                                       0                      ↪\n",
       "↪                                                                              ↪\n",
       "↪                                                                              ↪\n",
       "↪                                                       0                      ↪\n",
       "↪                                                                              ↪\n",
       "↪                                                                              ↪\n",
       "↪                                                       0                      ↪\n",
       "↪                                                                              ↪\n",
       "↪                                                                              ↪\n",
       "↪                                                       0                      ↪\n",
       "↪                                                                              ↪\n",
       "↪                                                                              ↪\n",
       "↪                                                       0                      ↪\n",
       "↪                                                                              ↪\n",
       "↪                                                                              ↪\n",
       "↪                                                       0                      ↪\n",
       "\n",
       "↪                                                                              ↪\n",
       "↪                                                                              ↪\n",
       "↪                                                                              ↪\n",
       "↪       2                              2                                       ↪\n",
       "↪ - 4⋅k₁ ⋅(\\lambda₁ + \\lambda₂) - 2⋅v_R ⋅(\\alpha₁ + \\alpha₃)                   ↪\n",
       "↪                                                                              ↪\n",
       "↪                                                                         2    ↪\n",
       "↪                                                             2⋅\\alpha₁⋅k₁  +  ↪\n",
       "↪                                                                              ↪\n",
       "↪                                                                              ↪\n",
       "↪                                                                              ↪\n",
       "↪                                                                              ↪\n",
       "↪                                                                              ↪\n",
       "↪                                                                              ↪\n",
       "↪                                                                              ↪\n",
       "↪                                                                              ↪\n",
       "↪                                                                              ↪\n",
       "↪                                                                              ↪\n",
       "↪                                                                              ↪\n",
       "↪                                                                              ↪\n",
       "↪                                                                              ↪\n",
       "↪                                                                              ↪\n",
       "↪                                                                              ↪\n",
       "\n",
       "↪                                                                              ↪\n",
       "↪                            0                                                 ↪\n",
       "↪                                                                              ↪\n",
       "↪                                                                              ↪\n",
       "↪                            0                                                 ↪\n",
       "↪                                                                              ↪\n",
       "↪             2              2              2       2                          ↪\n",
       "↪ 2⋅\\alpha₃⋅k₁  - 4⋅\\rho₁⋅v_R  + 2⋅\\rho₂⋅v_R  - 2⋅k₁ ⋅(\\alpha₁ + \\alpha₃)      ↪\n",
       "↪                                                                              ↪\n",
       "↪                                                                              ↪\n",
       "↪                            0                                             2⋅\\ ↪\n",
       "↪                                                                              ↪\n",
       "↪                                                                              ↪\n",
       "↪                            0                                                 ↪\n",
       "↪                                                                              ↪\n",
       "↪                                                                              ↪\n",
       "↪                            0                                                 ↪\n",
       "↪                                                                              ↪\n",
       "↪                                                                              ↪\n",
       "↪                            0                                                 ↪\n",
       "↪                                                                              ↪\n",
       "↪                                                                              ↪\n",
       "↪                            0                                                 ↪\n",
       "\n",
       "↪                                                                              ↪\n",
       "↪                4⋅\\alpha₁⋅k₁⋅v_R + 4⋅\\alpha₃⋅k₁⋅v_R                           ↪\n",
       "↪                                                                              ↪\n",
       "↪                                                                              ↪\n",
       "↪                                 0                                            ↪\n",
       "↪                                                                              ↪\n",
       "↪                                                                              ↪\n",
       "↪                                 0                                            ↪\n",
       "↪                                                                              ↪\n",
       "↪          2               2              2       2                            ↪\n",
       "↪ alpha₁⋅k₁  + 2⋅\\alpha₃⋅k₁  + 8⋅\\rho₁⋅v_R  - 2⋅k₁ ⋅(\\alpha₁ + \\alpha₃)        ↪\n",
       "↪                                                                              ↪\n",
       "↪                                                                              ↪\n",
       "↪                                 0                                      2⋅\\al ↪\n",
       "↪                                                                              ↪\n",
       "↪                                                                              ↪\n",
       "↪                                 0                                            ↪\n",
       "↪                                                                              ↪\n",
       "↪                                                                              ↪\n",
       "↪                                 0                                            ↪\n",
       "↪                                                                              ↪\n",
       "↪                                                                              ↪\n",
       "↪                                 0                                            ↪\n",
       "\n",
       "↪                                                                              ↪\n",
       "↪                                                         0                    ↪\n",
       "↪                                                                              ↪\n",
       "↪                                                                              ↪\n",
       "↪                                                         0                    ↪\n",
       "↪                                                                              ↪\n",
       "↪                                                                              ↪\n",
       "↪                                                         0                    ↪\n",
       "↪                                                                              ↪\n",
       "↪                                                                              ↪\n",
       "↪                                                         0                    ↪\n",
       "↪                                                                              ↪\n",
       "↪         2                2                2                2       2         ↪\n",
       "↪ pha₁⋅v_R  + 2⋅\\alpha₃⋅v_R  + 4⋅\\lambda₁⋅k₁  + 4⋅\\lambda₂⋅k₁  - 4⋅k₁ ⋅(\\lambd ↪\n",
       "↪                                                                              ↪\n",
       "↪                                                                              ↪\n",
       "↪                                                         0                    ↪\n",
       "↪                                                                              ↪\n",
       "↪                                                                              ↪\n",
       "↪                                                         0                    ↪\n",
       "↪                                                                              ↪\n",
       "↪                                                                              ↪\n",
       "↪                                                         0                    ↪\n",
       "\n",
       "↪                                                                              ↪\n",
       "↪                                                                              ↪\n",
       "↪                                                                              ↪\n",
       "↪                                                                              ↪\n",
       "↪                                                                              ↪\n",
       "↪                                                                              ↪\n",
       "↪                                                                              ↪\n",
       "↪                                                                              ↪\n",
       "↪                                                                              ↪\n",
       "↪                                                                              ↪\n",
       "↪                                                                              ↪\n",
       "↪                                                                              ↪\n",
       "↪                       2                                                      ↪\n",
       "↪ a₁ + \\lambda₂) - 2⋅v_R ⋅(\\alpha₁ + \\alpha₃)                                  ↪\n",
       "↪                                                                              ↪\n",
       "↪                                                           2                2 ↪\n",
       "↪                                              2⋅\\alpha₁⋅v_R  + 2⋅\\alpha₂⋅v_R  ↪\n",
       "↪                                                                              ↪\n",
       "↪                                                                              ↪\n",
       "↪                                                                              ↪\n",
       "↪                                                                              ↪\n",
       "↪                                                                              ↪\n",
       "↪                                                                              ↪\n",
       "\n",
       "↪                                                                              ↪\n",
       "↪                                                 0                            ↪\n",
       "↪                                                                              ↪\n",
       "↪                                                                              ↪\n",
       "↪                                                 0                            ↪\n",
       "↪                                                                              ↪\n",
       "↪                                                                              ↪\n",
       "↪                                                 0                            ↪\n",
       "↪                                                                              ↪\n",
       "↪                                                                              ↪\n",
       "↪                                                 0                            ↪\n",
       "↪                                                                              ↪\n",
       "↪                                                                              ↪\n",
       "↪                                                 0                            ↪\n",
       "↪                                                                              ↪\n",
       "↪                 2                 2                2                2        ↪\n",
       "↪  + 4⋅\\lambda₁⋅k₁  - 16⋅\\lambda₄⋅k₁  + 4⋅\\lambda₅⋅k₁  - 4⋅\\lambda₆⋅k₁  - 4⋅k₁ ↪\n",
       "↪                                                                              ↪\n",
       "↪                                                                              ↪\n",
       "↪                                                 0                            ↪\n",
       "↪                                                                              ↪\n",
       "↪                                                                              ↪\n",
       "↪                                                 0                            ↪\n",
       "\n",
       "↪                                                                              ↪\n",
       "↪                                                                              ↪\n",
       "↪                                                                              ↪\n",
       "↪                                                                              ↪\n",
       "↪                                                                              ↪\n",
       "↪                                                                              ↪\n",
       "↪                                                                              ↪\n",
       "↪                                                                              ↪\n",
       "↪                                                                              ↪\n",
       "↪                                                                              ↪\n",
       "↪                                                                              ↪\n",
       "↪                                                                              ↪\n",
       "↪                                                                              ↪\n",
       "↪                                                                              ↪\n",
       "↪                                                                              ↪\n",
       "↪ 2                              2                                             ↪\n",
       "↪  ⋅(\\lambda₁ + \\lambda₂) - 2⋅v_R ⋅(\\alpha₁ + \\alpha₃)                         ↪\n",
       "↪                                                                              ↪\n",
       "↪                                                                   2          ↪\n",
       "↪                                                       2⋅\\alpha₁⋅k₁  + 2⋅\\alp ↪\n",
       "↪                                                                              ↪\n",
       "↪                                                                              ↪\n",
       "↪                                                                              ↪\n",
       "\n",
       "↪                                                                              ↪\n",
       "↪                      0                                                       ↪\n",
       "↪                                                                              ↪\n",
       "↪                                                                              ↪\n",
       "↪                      0                                                       ↪\n",
       "↪                                                                              ↪\n",
       "↪                                                                              ↪\n",
       "↪                      0                                                       ↪\n",
       "↪                                                                              ↪\n",
       "↪                                                                              ↪\n",
       "↪                      0                                                       ↪\n",
       "↪                                                                              ↪\n",
       "↪                                                                              ↪\n",
       "↪                      0                                                       ↪\n",
       "↪                                                                              ↪\n",
       "↪                                                                              ↪\n",
       "↪                      0                                                       ↪\n",
       "↪                                                                              ↪\n",
       "↪       2              2              2       2                                ↪\n",
       "↪ ha₃⋅k₁  - 4⋅\\rho₁⋅v_R  + 2⋅\\rho₂⋅v_R  - 2⋅k₁ ⋅(\\alpha₁ + \\alpha₃)            ↪\n",
       "↪                                                                              ↪\n",
       "↪                                                                              ↪\n",
       "↪                      0                                             2⋅\\alpha₁ ↪\n",
       "\n",
       "↪                                                 ⎤\n",
       "↪                    0                            ⎥\n",
       "↪                                                 ⎥\n",
       "↪                                                 ⎥\n",
       "↪                    0                            ⎥\n",
       "↪                                                 ⎥\n",
       "↪                                                 ⎥\n",
       "↪                    0                            ⎥\n",
       "↪                                                 ⎥\n",
       "↪                                                 ⎥\n",
       "↪                    0                            ⎥\n",
       "↪                                                 ⎥\n",
       "↪                                                 ⎥\n",
       "↪                    0                            ⎥\n",
       "↪                                                 ⎥\n",
       "↪                                                 ⎥\n",
       "↪                    0                            ⎥\n",
       "↪                                                 ⎥\n",
       "↪                                                 ⎥\n",
       "↪                    0                            ⎥\n",
       "↪                                                 ⎥\n",
       "↪    2               2       2                    ⎥\n",
       "↪ ⋅k₁  + 2⋅\\alpha₃⋅k₁  - 2⋅k₁ ⋅(\\alpha₁ + \\alpha₃)⎦"
      ]
     },
     "execution_count": 77,
     "metadata": {},
     "output_type": "execute_result"
    }
   ],
   "source": [
    "phir_fields = [phi10r, phi20r, chiL0r, chiR0r]\n",
    "phii_fields = [phi10i, phi20i, chiL0i, chiR0i]\n",
    "phiri_fields = phir_fields + phii_fields\n",
    "\n",
    "MRI_square = (build_mass_matrix(VLRPhi_ri_tadpole_caso1, phiri_fields, phiri_fields)).subs(\n",
    "    vevPhi\n",
    ").subs(vevL).subs(vevR).subs(k2,0).subs(vL, 0)\n",
    "MRI_square"
   ]
  },
  {
   "cell_type": "markdown",
   "metadata": {},
   "source": [
    "### Pseudocalar and goldstone"
   ]
  },
  {
   "cell_type": "code",
   "execution_count": 78,
   "metadata": {},
   "outputs": [
    {
     "data": {
      "text/latex": [
       "$\\displaystyle \\left[\\begin{matrix}0 & 0 & 0 & 0\\\\0 & - 4 k_{1}^{2} \\left(\\lambda_{2} + 4 \\lambda_{4} - \\lambda_{5} + \\lambda_{6}\\right) + 2 v_{R}^{2} \\left(\\alpha_{2} - \\alpha_{3}\\right) & 0 & 0\\\\0 & 0 & - 2 v_{R}^{2} \\left(2 \\rho_{1} - \\rho_{2}\\right) & 0\\\\0 & 0 & 0 & 0\\end{matrix}\\right]$"
      ],
      "text/plain": [
       "⎡0                                          0                                  ↪\n",
       "⎢                                                                              ↪\n",
       "⎢         2                                                      2             ↪\n",
       "⎢0  - 4⋅k₁ ⋅(\\lambda₂ + 4⋅\\lambda₄ - \\lambda₅ + \\lambda₆) + 2⋅v_R ⋅(\\alpha₂ -  ↪\n",
       "⎢                                                                              ↪\n",
       "⎢                                                                              ↪\n",
       "⎢0                                          0                                  ↪\n",
       "⎢                                                                              ↪\n",
       "⎣0                                          0                                  ↪\n",
       "\n",
       "↪                       0              0⎤\n",
       "↪                                       ⎥\n",
       "↪                                       ⎥\n",
       "↪ \\alpha₃)              0              0⎥\n",
       "↪                                       ⎥\n",
       "↪                 2                     ⎥\n",
       "↪           -2⋅v_R ⋅(2⋅\\rho₁ - \\rho₂)  0⎥\n",
       "↪                                       ⎥\n",
       "↪                       0              0⎦"
      ]
     },
     "execution_count": 78,
     "metadata": {},
     "output_type": "execute_result"
    }
   ],
   "source": [
    "Mii = MRI_square[4:, 4:].applyfunc(lambda x:x.collect([k1, vR], factor))\n",
    "Mii"
   ]
  },
  {
   "cell_type": "code",
   "execution_count": 79,
   "metadata": {},
   "outputs": [
    {
     "data": {
      "text/latex": [
       "$\\displaystyle \\left[\\begin{matrix}0 & 0 & 0 & 0\\\\0 & - 4 k_{1}^{2} \\left(\\lambda_{2} + 4 \\lambda_{4} - \\lambda_{5} + \\lambda_{6}\\right) + 2 v_{R}^{2} \\left(\\alpha_{2} - \\alpha_{3}\\right) & 0 & 0\\\\0 & 0 & - 2 v_{R}^{2} \\left(2 \\rho_{1} - \\rho_{2}\\right) & 0\\\\0 & 0 & 0 & 0\\end{matrix}\\right]$"
      ],
      "text/plain": [
       "⎡0                                          0                                  ↪\n",
       "⎢                                                                              ↪\n",
       "⎢         2                                                      2             ↪\n",
       "⎢0  - 4⋅k₁ ⋅(\\lambda₂ + 4⋅\\lambda₄ - \\lambda₅ + \\lambda₆) + 2⋅v_R ⋅(\\alpha₂ -  ↪\n",
       "⎢                                                                              ↪\n",
       "⎢                                                                              ↪\n",
       "⎢0                                          0                                  ↪\n",
       "⎢                                                                              ↪\n",
       "⎣0                                          0                                  ↪\n",
       "\n",
       "↪                       0              0⎤\n",
       "↪                                       ⎥\n",
       "↪                                       ⎥\n",
       "↪ \\alpha₃)              0              0⎥\n",
       "↪                                       ⎥\n",
       "↪                 2                     ⎥\n",
       "↪           -2⋅v_R ⋅(2⋅\\rho₁ - \\rho₂)  0⎥\n",
       "↪                                       ⎥\n",
       "↪                       0              0⎦"
      ]
     },
     "execution_count": 79,
     "metadata": {},
     "output_type": "execute_result"
    }
   ],
   "source": [
    "Mii"
   ]
  },
  {
   "cell_type": "code",
   "execution_count": 80,
   "metadata": {},
   "outputs": [
    {
     "data": {
      "text/latex": [
       "$\\displaystyle \\left[\\begin{matrix}1 & 0 & 0 & 0\\\\0 & 1 & 0 & 0\\\\0 & 0 & 1 & 0\\\\0 & 0 & 0 & 1\\end{matrix}\\right]$"
      ],
      "text/plain": [
       "⎡1  0  0  0⎤\n",
       "⎢          ⎥\n",
       "⎢0  1  0  0⎥\n",
       "⎢          ⎥\n",
       "⎢0  0  1  0⎥\n",
       "⎢          ⎥\n",
       "⎣0  0  0  1⎦"
      ]
     },
     "execution_count": 80,
     "metadata": {},
     "output_type": "execute_result"
    }
   ],
   "source": [
    "Pii = Matrix(\n",
    "    [\n",
    "        [1, 0, 0, 0],\n",
    "        [0, 1, 0, 0],\n",
    "        [0, 0, 1, 0],\n",
    "        [0, 0, 0, 1]\n",
    "    ]\n",
    ")\n",
    "Pii"
   ]
  },
  {
   "cell_type": "code",
   "execution_count": 81,
   "metadata": {},
   "outputs": [
    {
     "data": {
      "text/latex": [
       "$\\displaystyle \\left[\\begin{matrix}0 & 0 & 0 & 0\\\\0 & - 4 k_{1}^{2} \\left(\\lambda_{2} + 4 \\lambda_{4} - \\lambda_{5} + \\lambda_{6}\\right) + 2 v_{R}^{2} \\left(\\alpha_{2} - \\alpha_{3}\\right) & 0 & 0\\\\0 & 0 & - 2 v_{R}^{2} \\left(2 \\rho_{1} - \\rho_{2}\\right) & 0\\\\0 & 0 & 0 & 0\\end{matrix}\\right]$"
      ],
      "text/plain": [
       "⎡0                                          0                                  ↪\n",
       "⎢                                                                              ↪\n",
       "⎢         2                                                      2             ↪\n",
       "⎢0  - 4⋅k₁ ⋅(\\lambda₂ + 4⋅\\lambda₄ - \\lambda₅ + \\lambda₆) + 2⋅v_R ⋅(\\alpha₂ -  ↪\n",
       "⎢                                                                              ↪\n",
       "⎢                                                                              ↪\n",
       "⎢0                                          0                                  ↪\n",
       "⎢                                                                              ↪\n",
       "⎣0                                          0                                  ↪\n",
       "\n",
       "↪                       0              0⎤\n",
       "↪                                       ⎥\n",
       "↪                                       ⎥\n",
       "↪ \\alpha₃)              0              0⎥\n",
       "↪                                       ⎥\n",
       "↪                 2                     ⎥\n",
       "↪           -2⋅v_R ⋅(2⋅\\rho₁ - \\rho₂)  0⎥\n",
       "↪                                       ⎥\n",
       "↪                       0              0⎦"
      ]
     },
     "execution_count": 81,
     "metadata": {},
     "output_type": "execute_result"
    }
   ],
   "source": [
    "Dii = (Pii.T*Mii*Pii)\n",
    "Dii"
   ]
  },
  {
   "cell_type": "code",
   "execution_count": 82,
   "metadata": {},
   "outputs": [
    {
     "data": {
      "text/latex": [
       "$\\displaystyle \\left[\\begin{matrix}\\phi_1^{0i}\\\\\\phi_2^{0i}\\\\\\chi_L^{0i}\\\\\\chi_R^{0i}\\end{matrix}\\right]$"
      ],
      "text/plain": [
       "⎡\\phi_1__{0i}⎤\n",
       "⎢            ⎥\n",
       "⎢\\phi_2__{0i}⎥\n",
       "⎢            ⎥\n",
       "⎢\\chi_L__{0i}⎥\n",
       "⎢            ⎥\n",
       "⎣\\chi_R__{0i}⎦"
      ]
     },
     "execution_count": 82,
     "metadata": {},
     "output_type": "execute_result"
    }
   ],
   "source": [
    "physical_pseudo_scalars = (Pii.T*Matrix(phii_fields)).applyfunc(factor)\n",
    "physical_pseudo_scalars"
   ]
  },
  {
   "cell_type": "code",
   "execution_count": 83,
   "metadata": {},
   "outputs": [],
   "source": [
    "A10 = symbols(r'{{A_1^0}}')\n",
    "A20 = symbols(r'{{A_2^0}}')\n",
    "GZ1 = symbols(r'{{G_{Z_1}}}')\n",
    "GZ2 = symbols(r'{{G_{Z_2}}}')\n",
    "eqA10 = Eq(A10, physical_pseudo_scalars[1])\n",
    "eqA20 = Eq(A20, physical_pseudo_scalars[2])\n",
    "eqGZ1 = Eq(GZ1, physical_pseudo_scalars[0])\n",
    "eqGZ2 = Eq(GZ2, physical_pseudo_scalars[3])"
   ]
  },
  {
   "cell_type": "code",
   "execution_count": 84,
   "metadata": {},
   "outputs": [
    {
     "data": {
      "image/png": "[encoded data removed]",
      "text/latex": [
       "$\\displaystyle \\left\\{ \\chi_L^{0i} : {{A_2^0}}, \\  \\chi_R^{0i} : {{G_{Z_2}}}, \\  \\phi_1^{0i} : {{G_{Z_1}}}, \\  \\phi_2^{0i} : {{A_1^0}}\\right\\}$"
      ],
      "text/plain": [
       "{\\chi_L__{0i}: {{A_2__0}}, \\chi_R__{0i}: {{G_{Z_2}}}, \\phi_1__{0i}: {{G_{Z_1}} ↪\n",
       "\n",
       "↪ }, \\phi_2__{0i}: {{A_1__0}}}"
      ]
     },
     "execution_count": 84,
     "metadata": {},
     "output_type": "execute_result"
    }
   ],
   "source": [
    "change_pseudo_scalars = solve([eqA10, eqA20, eqGZ1, eqGZ2], [chiL0i, chiR0i, phi10i, phi20i])\n",
    "change_pseudo_scalars"
   ]
  },
  {
   "cell_type": "code",
   "execution_count": 85,
   "metadata": {},
   "outputs": [],
   "source": [
    "mA10, mA20 = symbols('m_{A_1^0}, m_{A_2^0}', positive=True)\n",
    "lamb2456 = lamb2 + 4*lamb4 - lamb5 + lamb6\n",
    "lambdas2456_masses_relations = solve(\n",
    "    [\n",
    "        mA10**2 - Dii[1,1]\n",
    "    ],\n",
    "    [lamb2456], dict=True\n",
    ")[0]"
   ]
  },
  {
   "cell_type": "code",
   "execution_count": 86,
   "metadata": {},
   "outputs": [],
   "source": [
    "lambdas2456_masses_relations[lamb2456] = lambdas2456_masses_relations[lamb2456].factor()"
   ]
  },
  {
   "cell_type": "code",
   "execution_count": 87,
   "metadata": {},
   "outputs": [
    {
     "data": {
      "image/png": "[encoded data removed]",
      "text/latex": [
       "$\\displaystyle \\left\\{ \\lambda_{2} + 4 \\lambda_{4} - \\lambda_{5} + \\lambda_{6} : \\frac{2 \\alpha_{2} v_{R}^{2} - 2 \\alpha_{3} v_{R}^{2} - \\left(m_{A_1^0}\\right)^{2}}{4 k_{1}^{2}}\\right\\}$"
      ],
      "text/plain": [
       "⎧                                                          2                2  ↪\n",
       "⎪                                             2⋅\\alpha₂⋅v_R  - 2⋅\\alpha₃⋅v_R   ↪\n",
       "⎨\\lambda₂ + 4⋅\\lambda₄ - \\lambda₅ + \\lambda₆: ──────────────────────────────── ↪\n",
       "⎪                                                                     2        ↪\n",
       "⎩                                                                 4⋅k₁         ↪\n",
       "\n",
       "↪             2⎫\n",
       "↪ - m_{A_1__0} ⎪\n",
       "↪ ─────────────⎬\n",
       "↪              ⎪\n",
       "↪              ⎭"
      ]
     },
     "execution_count": 87,
     "metadata": {},
     "output_type": "execute_result"
    }
   ],
   "source": [
    "lambdas2456_masses_relations"
   ]
  },
  {
   "cell_type": "code",
   "execution_count": 88,
   "metadata": {},
   "outputs": [],
   "source": [
    "rho12_relations = solve(\n",
    "    [\n",
    "        mA20**2 - Dii[2,2]\n",
    "    ],\n",
    "    [-2*rho1 + rho2], dict=True\n",
    ")[0]"
   ]
  },
  {
   "cell_type": "code",
   "execution_count": 89,
   "metadata": {},
   "outputs": [
    {
     "data": {
      "image/png": "[encoded data removed]",
      "text/latex": [
       "$\\displaystyle \\left\\{ - 2 \\rho_{1} + \\rho_{2} : \\frac{\\left(m_{A_2^0}\\right)^{2}}{2 v_{R}^{2}}\\right\\}$"
      ],
      "text/plain": [
       "⎧                            2⎫\n",
       "⎪                  m_{A_2__0} ⎪\n",
       "⎨-2⋅\\rho₁ + \\rho₂: ───────────⎬\n",
       "⎪                         2   ⎪\n",
       "⎩                    2⋅v_R    ⎭"
      ]
     },
     "execution_count": 89,
     "metadata": {},
     "output_type": "execute_result"
    }
   ],
   "source": [
    "rho12_relations"
   ]
  },
  {
   "cell_type": "code",
   "execution_count": 90,
   "metadata": {},
   "outputs": [
    {
     "data": {
      "image/png": "[encoded data removed]",
      "text/latex": [
       "$\\displaystyle \\left\\{ \\alpha_{2} - \\alpha_{3} : \\frac{\\left(m_{H_R^+}\\right)^{2}}{v_{R}^{2}}, \\  - 2 \\rho_{1} + \\rho_{2} : - \\frac{\\left(k_{1} m_{H_R^+} - m_{H_L^+} v_{R}\\right) \\left(k_{1} m_{H_R^+} + m_{H_L^+} v_{R}\\right)}{v_{R}^{4}}\\right\\}$"
      ],
      "text/plain": [
       "⎧                             2                                                ↪\n",
       "⎪                   m_{H_R__+}                     -(k₁⋅m_{H_R__+} - m_{H_L__+ ↪\n",
       "⎨\\alpha₂ - \\alpha₃: ───────────, -2⋅\\rho₁ + \\rho₂: ─────────────────────────── ↪\n",
       "⎪                         2                                                    ↪\n",
       "⎩                      v_R                                                     ↪\n",
       "\n",
       "↪                                         ⎫\n",
       "↪ }⋅v_R)⋅(k₁⋅m_{H_R__+} + m_{H_L__+}⋅v_R) ⎪\n",
       "↪ ────────────────────────────────────────⎬\n",
       "↪        4                                ⎪\n",
       "↪     v_R                                 ⎭"
      ]
     },
     "execution_count": 90,
     "metadata": {},
     "output_type": "execute_result"
    }
   ],
   "source": [
    "alpha12_rho12_masses_relations"
   ]
  },
  {
   "cell_type": "markdown",
   "metadata": {},
   "source": [
    "### Scalars"
   ]
  },
  {
   "cell_type": "code",
   "execution_count": 91,
   "metadata": {},
   "outputs": [
    {
     "data": {
      "text/latex": [
       "$\\displaystyle \\left[\\begin{matrix}2 \\alpha_{1} v_{R}^{2} + 2 \\alpha_{2} v_{R}^{2} + 4 \\lambda_{1} k_{1}^{2} + 16 \\lambda_{3} k_{1}^{2} + 4 \\lambda_{5} k_{1}^{2} + 4 \\lambda_{6} k_{1}^{2} - 4 k_{1}^{2} \\left(\\lambda_{1} + \\lambda_{2}\\right) - 2 v_{R}^{2} \\left(\\alpha_{1} + \\alpha_{3}\\right) & 0 & 0 & 0\\\\0 & 2 \\alpha_{1} k_{1}^{2} + 2 \\alpha_{3} k_{1}^{2} - 4 \\rho_{1} v_{R}^{2} + 2 \\rho_{2} v_{R}^{2} - 2 k_{1}^{2} \\left(\\alpha_{1} + \\alpha_{3}\\right) & 0 & 0\\\\0 & 0 & 2 \\alpha_{1} v_{R}^{2} + 2 \\alpha_{3} v_{R}^{2} + 12 \\lambda_{1} k_{1}^{2} + 12 \\lambda_{2} k_{1}^{2} - 4 k_{1}^{2} \\left(\\lambda_{1} + \\lambda_{2}\\right) - 2 v_{R}^{2} \\left(\\alpha_{1} + \\alpha_{3}\\right) & 4 \\alpha_{1} k_{1} v_{R} + 4 \\alpha_{3} k_{1} v_{R}\\\\0 & 0 & 4 \\alpha_{1} k_{1} v_{R} + 4 \\alpha_{3} k_{1} v_{R} & 2 \\alpha_{1} k_{1}^{2} + 2 \\alpha_{3} k_{1}^{2} + 8 \\rho_{1} v_{R}^{2} - 2 k_{1}^{2} \\left(\\alpha_{1} + \\alpha_{3}\\right)\\end{matrix}\\right]$"
      ],
      "text/plain": [
       "⎡             2                2                2                 2            ↪\n",
       "⎢2⋅\\alpha₁⋅v_R  + 2⋅\\alpha₂⋅v_R  + 4⋅\\lambda₁⋅k₁  + 16⋅\\lambda₃⋅k₁  + 4⋅\\lambd ↪\n",
       "⎢                                                                              ↪\n",
       "⎢                                                                              ↪\n",
       "⎢                                                                              ↪\n",
       "⎢                                                                              ↪\n",
       "⎢                                                                              ↪\n",
       "⎢                                                                              ↪\n",
       "⎢                                                                              ↪\n",
       "⎢                                                                              ↪\n",
       "⎣                                                                              ↪\n",
       "\n",
       "↪      2                2       2                              2               ↪\n",
       "↪ a₅⋅k₁  + 4⋅\\lambda₆⋅k₁  - 4⋅k₁ ⋅(\\lambda₁ + \\lambda₂) - 2⋅v_R ⋅(\\alpha₁ + \\a ↪\n",
       "↪                                                                              ↪\n",
       "↪                                                                              ↪\n",
       "↪   0                                                                          ↪\n",
       "↪                                                                              ↪\n",
       "↪                                                                              ↪\n",
       "↪   0                                                                          ↪\n",
       "↪                                                                              ↪\n",
       "↪                                                                              ↪\n",
       "↪   0                                                                          ↪\n",
       "\n",
       "↪                                                                              ↪\n",
       "↪ lpha₃)                                             0                         ↪\n",
       "↪                                                                              ↪\n",
       "↪                     2               2              2              2       2  ↪\n",
       "↪         2⋅\\alpha₁⋅k₁  + 2⋅\\alpha₃⋅k₁  - 4⋅\\rho₁⋅v_R  + 2⋅\\rho₂⋅v_R  - 2⋅k₁ ⋅ ↪\n",
       "↪                                                                              ↪\n",
       "↪                                                                              ↪\n",
       "↪                                                    0                         ↪\n",
       "↪                                                                              ↪\n",
       "↪                                                                              ↪\n",
       "↪                                                    0                         ↪\n",
       "\n",
       "↪                                                                              ↪\n",
       "↪                                                                              ↪\n",
       "↪                                                                              ↪\n",
       "↪                                                                              ↪\n",
       "↪ (\\alpha₁ + \\alpha₃)                                                          ↪\n",
       "↪                                                                              ↪\n",
       "↪                                   2                2                 2       ↪\n",
       "↪                      2⋅\\alpha₁⋅v_R  + 2⋅\\alpha₃⋅v_R  + 12⋅\\lambda₁⋅k₁  + 12⋅ ↪\n",
       "↪                                                                              ↪\n",
       "↪                                                                              ↪\n",
       "↪                                                                   4⋅\\alpha₁⋅ ↪\n",
       "\n",
       "↪                                                                              ↪\n",
       "↪        0                                                                     ↪\n",
       "↪                                                                              ↪\n",
       "↪                                                                              ↪\n",
       "↪        0                                                                     ↪\n",
       "↪                                                                              ↪\n",
       "↪            2       2                              2                          ↪\n",
       "↪ \\lambda₂⋅k₁  - 4⋅k₁ ⋅(\\lambda₁ + \\lambda₂) - 2⋅v_R ⋅(\\alpha₁ + \\alpha₃)      ↪\n",
       "↪                                                                              ↪\n",
       "↪                                                                              ↪\n",
       "↪ k₁⋅v_R + 4⋅\\alpha₃⋅k₁⋅v_R                                                2⋅\\ ↪\n",
       "\n",
       "↪                                                                      ⎤\n",
       "↪                                 0                                    ⎥\n",
       "↪                                                                      ⎥\n",
       "↪                                                                      ⎥\n",
       "↪                                 0                                    ⎥\n",
       "↪                                                                      ⎥\n",
       "↪                                                                      ⎥\n",
       "↪                4⋅\\alpha₁⋅k₁⋅v_R + 4⋅\\alpha₃⋅k₁⋅v_R                   ⎥\n",
       "↪                                                                      ⎥\n",
       "↪          2               2              2       2                    ⎥\n",
       "↪ alpha₁⋅k₁  + 2⋅\\alpha₃⋅k₁  + 8⋅\\rho₁⋅v_R  - 2⋅k₁ ⋅(\\alpha₁ + \\alpha₃)⎦"
      ]
     },
     "execution_count": 91,
     "metadata": {},
     "output_type": "execute_result"
    }
   ],
   "source": [
    "phir_fields = [phi20r, chiL0r, phi10r, chiR0r]\n",
    "\n",
    "Mrr = (build_mass_matrix(VLRPhi_ri_tadpole_caso1, phir_fields, phir_fields)).subs(\n",
    "    vevPhi\n",
    ").subs(vevL).subs(vevR).subs(k2,0).subs(vL, 0)\n",
    "Mrr"
   ]
  },
  {
   "cell_type": "code",
   "execution_count": 92,
   "metadata": {},
   "outputs": [
    {
     "data": {
      "text/latex": [
       "$\\displaystyle \\left[\\begin{matrix}- 4 k_{1}^{2} \\left(\\lambda_{2} - 4 \\lambda_{3} - \\lambda_{5} - \\lambda_{6}\\right) + 2 v_{R}^{2} \\left(\\alpha_{2} - \\alpha_{3}\\right) & 0 & 0 & 0\\\\0 & - 2 v_{R}^{2} \\left(2 \\rho_{1} - \\rho_{2}\\right) & 0 & 0\\\\0 & 0 & 8 k_{1}^{2} \\left(\\lambda_{1} + \\lambda_{2}\\right) & 4 k_{1} v_{R} \\left(\\alpha_{1} + \\alpha_{3}\\right)\\\\0 & 0 & 4 k_{1} v_{R} \\left(\\alpha_{1} + \\alpha_{3}\\right) & 8 \\rho_{1} v_{R}^{2}\\end{matrix}\\right]$"
      ],
      "text/plain": [
       "⎡      2                                                      2                ↪\n",
       "⎢- 4⋅k₁ ⋅(\\lambda₂ - 4⋅\\lambda₃ - \\lambda₅ - \\lambda₆) + 2⋅v_R ⋅(\\alpha₂ - \\al ↪\n",
       "⎢                                                                              ↪\n",
       "⎢                                                                              ↪\n",
       "⎢                                        0                                     ↪\n",
       "⎢                                                                              ↪\n",
       "⎢                                                                              ↪\n",
       "⎢                                        0                                     ↪\n",
       "⎢                                                                              ↪\n",
       "⎢                                                                              ↪\n",
       "⎣                                        0                                     ↪\n",
       "\n",
       "↪                                                                              ↪\n",
       "↪ pha₃)              0                           0                             ↪\n",
       "↪                                                                              ↪\n",
       "↪              2                                                               ↪\n",
       "↪        -2⋅v_R ⋅(2⋅\\rho₁ - \\rho₂)               0                             ↪\n",
       "↪                                                                              ↪\n",
       "↪                                       2                                      ↪\n",
       "↪                    0              8⋅k₁ ⋅(\\lambda₁ + \\lambda₂)   4⋅k₁⋅v_R⋅(\\a ↪\n",
       "↪                                                                              ↪\n",
       "↪                                                                              ↪\n",
       "↪                    0              4⋅k₁⋅v_R⋅(\\alpha₁ + \\alpha₃)          8⋅\\r ↪\n",
       "\n",
       "↪                 ⎤\n",
       "↪  0              ⎥\n",
       "↪                 ⎥\n",
       "↪                 ⎥\n",
       "↪  0              ⎥\n",
       "↪                 ⎥\n",
       "↪                 ⎥\n",
       "↪ lpha₁ + \\alpha₃)⎥\n",
       "↪                 ⎥\n",
       "↪        2        ⎥\n",
       "↪ ho₁⋅v_R         ⎦"
      ]
     },
     "execution_count": 92,
     "metadata": {},
     "output_type": "execute_result"
    }
   ],
   "source": [
    "Mrr = Mrr.applyfunc(lambda x:x.collect([k1, vR], factor))\n",
    "Mrr"
   ]
  },
  {
   "cell_type": "code",
   "execution_count": 93,
   "metadata": {},
   "outputs": [
    {
     "data": {
      "text/latex": [
       "$\\displaystyle \\left[\\begin{matrix}8 k_{1}^{2} \\left(\\lambda_{1} + \\lambda_{2}\\right) & 4 k_{1} v_{R} \\left(\\alpha_{1} + \\alpha_{3}\\right)\\\\4 k_{1} v_{R} \\left(\\alpha_{1} + \\alpha_{3}\\right) & 8 \\rho_{1} v_{R}^{2}\\end{matrix}\\right]$"
      ],
      "text/plain": [
       "⎡    2                                                     ⎤\n",
       "⎢8⋅k₁ ⋅(\\lambda₁ + \\lambda₂)   4⋅k₁⋅v_R⋅(\\alpha₁ + \\alpha₃)⎥\n",
       "⎢                                                          ⎥\n",
       "⎢                                                 2        ⎥\n",
       "⎣4⋅k₁⋅v_R⋅(\\alpha₁ + \\alpha₃)          8⋅\\rho₁⋅v_R         ⎦"
      ]
     },
     "execution_count": 93,
     "metadata": {},
     "output_type": "execute_result"
    }
   ],
   "source": [
    "mrr_mix = Matrix(\n",
    "    [\n",
    "        [Mrr[2,2], Mrr[2,3]],\n",
    "        [Mrr[3,2], Mrr[3,3]]\n",
    "    ]\n",
    ")\n",
    "mrr_mix"
   ]
  },
  {
   "cell_type": "code",
   "execution_count": 94,
   "metadata": {},
   "outputs": [],
   "source": [
    "from sympy import sin, cos, tan\n",
    "th = symbols(r'\\theta')"
   ]
  },
  {
   "cell_type": "code",
   "execution_count": 95,
   "metadata": {},
   "outputs": [
    {
     "data": {
      "text/latex": [
       "$\\displaystyle \\left[\\begin{matrix}- 8 \\left(\\alpha_{1} k_{1} v_{R} \\sin{\\left(\\theta \\right)} \\cos{\\left(\\theta \\right)} + \\alpha_{3} k_{1} v_{R} \\sin{\\left(\\theta \\right)} \\cos{\\left(\\theta \\right)} - \\lambda_{1} k_{1}^{2} \\cos^{2}{\\left(\\theta \\right)} - \\lambda_{2} k_{1}^{2} \\cos^{2}{\\left(\\theta \\right)} - \\rho_{1} v_{R}^{2} \\sin^{2}{\\left(\\theta \\right)}\\right) & 4 \\left(- \\alpha_{1} k_{1} v_{R} \\sin^{2}{\\left(\\theta \\right)} + \\alpha_{1} k_{1} v_{R} \\cos^{2}{\\left(\\theta \\right)} - \\alpha_{3} k_{1} v_{R} \\sin^{2}{\\left(\\theta \\right)} + \\alpha_{3} k_{1} v_{R} \\cos^{2}{\\left(\\theta \\right)} + 2 \\lambda_{1} k_{1}^{2} \\sin{\\left(\\theta \\right)} \\cos{\\left(\\theta \\right)} + 2 \\lambda_{2} k_{1}^{2} \\sin{\\left(\\theta \\right)} \\cos{\\left(\\theta \\right)} - 2 \\rho_{1} v_{R}^{2} \\sin{\\left(\\theta \\right)} \\cos{\\left(\\theta \\right)}\\right)\\\\4 \\left(- \\alpha_{1} k_{1} v_{R} \\sin^{2}{\\left(\\theta \\right)} + \\alpha_{1} k_{1} v_{R} \\cos^{2}{\\left(\\theta \\right)} - \\alpha_{3} k_{1} v_{R} \\sin^{2}{\\left(\\theta \\right)} + \\alpha_{3} k_{1} v_{R} \\cos^{2}{\\left(\\theta \\right)} + 2 \\lambda_{1} k_{1}^{2} \\sin{\\left(\\theta \\right)} \\cos{\\left(\\theta \\right)} + 2 \\lambda_{2} k_{1}^{2} \\sin{\\left(\\theta \\right)} \\cos{\\left(\\theta \\right)} - 2 \\rho_{1} v_{R}^{2} \\sin{\\left(\\theta \\right)} \\cos{\\left(\\theta \\right)}\\right) & 8 \\left(\\alpha_{1} k_{1} v_{R} \\sin{\\left(\\theta \\right)} \\cos{\\left(\\theta \\right)} + \\alpha_{3} k_{1} v_{R} \\sin{\\left(\\theta \\right)} \\cos{\\left(\\theta \\right)} + \\lambda_{1} k_{1}^{2} \\sin^{2}{\\left(\\theta \\right)} + \\lambda_{2} k_{1}^{2} \\sin^{2}{\\left(\\theta \\right)} + \\rho_{1} v_{R}^{2} \\cos^{2}{\\left(\\theta \\right)}\\right)\\end{matrix}\\right]$"
      ],
      "text/plain": [
       "⎡                                          ⎛                                   ↪\n",
       "⎢                                       -8⋅⎝\\alpha₁⋅k₁⋅v_R⋅sin(\\theta)⋅cos(\\th ↪\n",
       "⎢                                                                              ↪\n",
       "⎢  ⎛                    2                             2                        ↪\n",
       "⎣4⋅⎝- \\alpha₁⋅k₁⋅v_R⋅sin (\\theta) + \\alpha₁⋅k₁⋅v_R⋅cos (\\theta) - \\alpha₃⋅k₁⋅v ↪\n",
       "\n",
       "↪                                                            2    2            ↪\n",
       "↪ eta) + \\alpha₃⋅k₁⋅v_R⋅sin(\\theta)⋅cos(\\theta) - \\lambda₁⋅k₁ ⋅cos (\\theta) -  ↪\n",
       "↪                                                                              ↪\n",
       "↪       2                             2                        2               ↪\n",
       "↪ _R⋅sin (\\theta) + \\alpha₃⋅k₁⋅v_R⋅cos (\\theta) + 2⋅\\lambda₁⋅k₁ ⋅sin(\\theta)⋅c ↪\n",
       "\n",
       "↪            2    2                    2    2        ⎞                         ↪\n",
       "↪ \\lambda₂⋅k₁ ⋅cos (\\theta) - \\rho₁⋅v_R ⋅sin (\\theta)⎠                         ↪\n",
       "↪                                                                              ↪\n",
       "↪                           2                                      2           ↪\n",
       "↪ os(\\theta) + 2⋅\\lambda₂⋅k₁ ⋅sin(\\theta)⋅cos(\\theta) - 2⋅\\rho₁⋅v_R ⋅sin(\\thet ↪\n",
       "\n",
       "↪                    ⎛                    2                             2      ↪\n",
       "↪                  4⋅⎝- \\alpha₁⋅k₁⋅v_R⋅sin (\\theta) + \\alpha₁⋅k₁⋅v_R⋅cos (\\the ↪\n",
       "↪                                                                              ↪\n",
       "↪               ⎞                                           ⎛                  ↪\n",
       "↪ a)⋅cos(\\theta)⎠                                         8⋅⎝\\alpha₁⋅k₁⋅v_R⋅si ↪\n",
       "\n",
       "↪                         2                             2                      ↪\n",
       "↪ ta) - \\alpha₃⋅k₁⋅v_R⋅sin (\\theta) + \\alpha₃⋅k₁⋅v_R⋅cos (\\theta) + 2⋅\\lambda₁ ↪\n",
       "↪                                                                              ↪\n",
       "↪                                                                              ↪\n",
       "↪ n(\\theta)⋅cos(\\theta) + \\alpha₃⋅k₁⋅v_R⋅sin(\\theta)⋅cos(\\theta) + \\lambda₁⋅k₁ ↪\n",
       "\n",
       "↪    2                                        2                                ↪\n",
       "↪ ⋅k₁ ⋅sin(\\theta)⋅cos(\\theta) + 2⋅\\lambda₂⋅k₁ ⋅sin(\\theta)⋅cos(\\theta) - 2⋅\\r ↪\n",
       "↪                                                                              ↪\n",
       "↪ 2    2                      2    2                    2    2        ⎞        ↪\n",
       "↪  ⋅sin (\\theta) + \\lambda₂⋅k₁ ⋅sin (\\theta) + \\rho₁⋅v_R ⋅cos (\\theta)⎠        ↪\n",
       "\n",
       "↪        2                        ⎞⎤\n",
       "↪ ho₁⋅v_R ⋅sin(\\theta)⋅cos(\\theta)⎠⎥\n",
       "↪                                  ⎥\n",
       "↪                                  ⎥\n",
       "↪                                  ⎦"
      ]
     },
     "execution_count": 95,
     "metadata": {},
     "output_type": "execute_result"
    }
   ],
   "source": [
    "Oth = Matrix(\n",
    "    [\n",
    "        [cos(th), sin(th)],\n",
    "        [-sin(th), cos(th)]\n",
    "    ]\n",
    ")\n",
    "\n",
    "mrr_mix_rotate = (Oth.T*mrr_mix*Oth).applyfunc(factor)\n",
    "mrr_mix_rotate"
   ]
  },
  {
   "cell_type": "code",
   "execution_count": 96,
   "metadata": {},
   "outputs": [
    {
     "data": {
      "image/png": "[encoded data removed]",
      "text/latex": [
       "$\\displaystyle \\left\\{ \\sin{\\left(2 \\theta \\right)} : \\frac{k_{1} v_{R} \\left(- \\alpha_{1} - \\alpha_{3}\\right) \\cos{\\left(2 \\theta \\right)}}{\\lambda_{1} k_{1}^{2} + \\lambda_{2} k_{1}^{2} - \\rho_{1} v_{R}^{2}}\\right\\}$"
      ],
      "text/plain": [
       "⎧               k₁⋅v_R⋅(-\\alpha₁ - \\alpha₃)⋅cos(2⋅\\theta)⎫\n",
       "⎪sin(2⋅\\theta): ─────────────────────────────────────────⎪\n",
       "⎨                          2              2            2 ⎬\n",
       "⎪               \\lambda₁⋅k₁  + \\lambda₂⋅k₁  - \\rho₁⋅v_R  ⎪\n",
       "⎩                                                        ⎭"
      ]
     },
     "execution_count": 96,
     "metadata": {},
     "output_type": "execute_result"
    }
   ],
   "source": [
    "sin2th_sol = solve(mrr_mix_rotate[0,1].trigsimp(), sin(2*th), dict=True)[0]\n",
    "sin2th_sol"
   ]
  },
  {
   "cell_type": "code",
   "execution_count": 97,
   "metadata": {},
   "outputs": [
    {
     "data": {
      "image/png": "[encoded data removed]",
      "text/latex": [
       "$\\displaystyle \\left\\{ \\tan{\\left(2 \\theta \\right)} : \\frac{k_{1} v_{R} \\left(- \\alpha_{1} - \\alpha_{3}\\right)}{\\lambda_{1} k_{1}^{2} + \\lambda_{2} k_{1}^{2} - \\rho_{1} v_{R}^{2}}\\right\\}$"
      ],
      "text/plain": [
       "⎧                     k₁⋅v_R⋅(-\\alpha₁ - \\alpha₃)       ⎫\n",
       "⎪tan(2⋅\\theta): ────────────────────────────────────────⎪\n",
       "⎨                          2              2            2⎬\n",
       "⎪               \\lambda₁⋅k₁  + \\lambda₂⋅k₁  - \\rho₁⋅v_R ⎪\n",
       "⎩                                                       ⎭"
      ]
     },
     "execution_count": 97,
     "metadata": {},
     "output_type": "execute_result"
    }
   ],
   "source": [
    "tan2th_sol = {tan(2*th): (sin(2*th)/cos(2*th)).subs(sin2th_sol)}\n",
    "tan2th_sol"
   ]
  },
  {
   "cell_type": "code",
   "execution_count": 98,
   "metadata": {},
   "outputs": [],
   "source": [
    "from sympy import series\n",
    "#epsilon = symbols(r'\\epsilon')"
   ]
  },
  {
   "cell_type": "code",
   "execution_count": 99,
   "metadata": {},
   "outputs": [
    {
     "data": {
      "image/png": "[encoded data removed]",
      "text/latex": [
       "$\\displaystyle \\frac{k_{1} \\left(\\alpha_{1} + \\alpha_{3}\\right)}{\\rho_{1} v_{R}}$"
      ],
      "text/plain": [
       "k₁⋅(\\alpha₁ + \\alpha₃)\n",
       "──────────────────────\n",
       "      \\rho₁⋅v_R       "
      ]
     },
     "execution_count": 99,
     "metadata": {},
     "output_type": "execute_result"
    }
   ],
   "source": [
    "tan2th_approx = series(tan2th_sol[tan(2*th)].subs(k1, epsilon*vR), x=epsilon, x0=0, n=2).removeO().factor().subs(epsilon, k1/vR)\n",
    "tan2th_approx"
   ]
  },
  {
   "cell_type": "code",
   "execution_count": 100,
   "metadata": {},
   "outputs": [
    {
     "data": {
      "text/latex": [
       "$\\displaystyle \\left[\\begin{matrix}1 & \\frac{k_{1} \\left(\\alpha_{1} + \\alpha_{3}\\right)}{2 \\rho_{1} v_{R}}\\\\- \\frac{k_{1} \\left(\\alpha_{1} + \\alpha_{3}\\right)}{2 \\rho_{1} v_{R}} & 1\\end{matrix}\\right]$"
      ],
      "text/plain": [
       "⎡                          k₁⋅(\\alpha₁ + \\alpha₃)⎤\n",
       "⎢           1              ──────────────────────⎥\n",
       "⎢                               2⋅\\rho₁⋅v_R      ⎥\n",
       "⎢                                                ⎥\n",
       "⎢-k₁⋅(\\alpha₁ + \\alpha₃)                         ⎥\n",
       "⎢────────────────────────            1           ⎥\n",
       "⎣      2⋅\\rho₁⋅v_R                               ⎦"
      ]
     },
     "execution_count": 100,
     "metadata": {},
     "output_type": "execute_result"
    }
   ],
   "source": [
    "Oth_approx = Oth.subs(sin(th), tan2th_approx/2).subs(cos(th), 1)\n",
    "Oth_approx\n"
   ]
  },
  {
   "cell_type": "code",
   "execution_count": 101,
   "metadata": {},
   "outputs": [
    {
     "data": {
      "text/latex": [
       "$\\displaystyle \\left[\\begin{matrix}1 & - \\frac{k_{1} \\left(\\alpha_{1} + \\alpha_{3}\\right)}{2 \\rho_{1} v_{R}}\\\\\\frac{k_{1} \\left(\\alpha_{1} + \\alpha_{3}\\right)}{2 \\rho_{1} v_{R}} & 1\\end{matrix}\\right]$"
      ],
      "text/plain": [
       "⎡                        -k₁⋅(\\alpha₁ + \\alpha₃) ⎤\n",
       "⎢          1             ────────────────────────⎥\n",
       "⎢                              2⋅\\rho₁⋅v_R       ⎥\n",
       "⎢                                                ⎥\n",
       "⎢k₁⋅(\\alpha₁ + \\alpha₃)                          ⎥\n",
       "⎢──────────────────────             1            ⎥\n",
       "⎣     2⋅\\rho₁⋅v_R                                ⎦"
      ]
     },
     "execution_count": 101,
     "metadata": {},
     "output_type": "execute_result"
    }
   ],
   "source": [
    "Oth_approx_inv = (Oth.T).subs(sin(th), tan2th_approx/2).subs(cos(th), 1)\n",
    "Oth_approx_inv"
   ]
  },
  {
   "cell_type": "code",
   "execution_count": 102,
   "metadata": {},
   "outputs": [
    {
     "data": {
      "text/latex": [
       "$\\displaystyle \\left[\\begin{matrix}1 & 0\\\\0 & 1\\end{matrix}\\right]$"
      ],
      "text/plain": [
       "⎡1  0⎤\n",
       "⎢    ⎥\n",
       "⎣0  1⎦"
      ]
     },
     "execution_count": 102,
     "metadata": {},
     "output_type": "execute_result"
    }
   ],
   "source": [
    "(Oth_approx_inv*Oth_approx).subs(k1, epsilon*vR).subs(epsilon, 0)"
   ]
  },
  {
   "cell_type": "code",
   "execution_count": 103,
   "metadata": {},
   "outputs": [
    {
     "data": {
      "image/png": "[encoded data removed]",
      "text/latex": [
       "$\\displaystyle 8 k_{1}^{2} \\left(\\lambda_{1} + \\lambda_{2}\\right) - \\frac{2 k_{1}^{2} \\left(\\alpha_{1} + \\alpha_{3}\\right)^{2}}{\\rho_{1}}$"
      ],
      "text/plain": [
       "                                  2                    2\n",
       "    2                         2⋅k₁ ⋅(\\alpha₁ + \\alpha₃) \n",
       "8⋅k₁ ⋅(\\lambda₁ + \\lambda₂) - ──────────────────────────\n",
       "                                        \\rho₁           "
      ]
     },
     "execution_count": 103,
     "metadata": {},
     "output_type": "execute_result"
    }
   ],
   "source": [
    "mH10_square = mrr_mix_rotate[0,0].subs(sin(th), tan2th_approx/2).subs(cos(th), 1).expand().collect(rho1, factor)\n",
    "mH10_square"
   ]
  },
  {
   "cell_type": "code",
   "execution_count": 104,
   "metadata": {},
   "outputs": [
    {
     "data": {
      "image/png": "[encoded data removed]",
      "text/latex": [
       "$\\displaystyle 8 \\rho_{1} v_{R}^{2} + \\frac{4 k_{1}^{2} \\left(\\alpha_{1} + \\alpha_{3}\\right)^{2}}{\\rho_{1}} + \\frac{2 k_{1}^{4} \\left(\\alpha_{1} + \\alpha_{3}\\right)^{2} \\left(\\lambda_{1} + \\lambda_{2}\\right)}{\\rho_{1}^{2} v_{R}^{2}}$"
      ],
      "text/plain": [
       "                   2                    2       4                    2         ↪\n",
       "           2   4⋅k₁ ⋅(\\alpha₁ + \\alpha₃)    2⋅k₁ ⋅(\\alpha₁ + \\alpha₃) ⋅(\\lambd ↪\n",
       "8⋅\\rho₁⋅v_R  + ────────────────────────── + ────────────────────────────────── ↪\n",
       "                         \\rho₁                                     2    2      ↪\n",
       "                                                              \\rho₁ ⋅v_R       ↪\n",
       "\n",
       "↪               \n",
       "↪ a₁ + \\lambda₂)\n",
       "↪ ──────────────\n",
       "↪               \n",
       "↪               "
      ]
     },
     "execution_count": 104,
     "metadata": {},
     "output_type": "execute_result"
    }
   ],
   "source": [
    "mH20_square = mrr_mix_rotate[1,1].subs(sin(th), tan2th_approx/2).subs(cos(th), 1).expand().collect(rho1, factor)\n",
    "mH20_square"
   ]
  },
  {
   "cell_type": "code",
   "execution_count": 105,
   "metadata": {},
   "outputs": [],
   "source": [
    "mH10, mH20, mH30, mH40 = symbols('m_{H_1^0}, m_{H_2^0}, m_{H_3^0}, m_{H_4^0}', positive=True)"
   ]
  },
  {
   "cell_type": "code",
   "execution_count": 106,
   "metadata": {},
   "outputs": [
    {
     "data": {
      "image/png": "[encoded data removed]",
      "text/latex": [
       "$\\displaystyle \\left\\{ \\left(\\alpha_{1} + \\alpha_{3}\\right)^{2} : \\frac{\\rho_{1} \\left(8 k_{1}^{2} \\left(- \\frac{16 \\rho_{1} v_{R}^{2} - \\left(m_{H_1^0}\\right)^{2}}{16 k_{1}^{2}} - \\frac{\\sqrt{32 \\rho_{1} \\left(m_{H_1^0}\\right)^{2} v_{R}^{2} + 32 \\rho_{1} \\left(m_{H_2^0}\\right)^{2} v_{R}^{2} + \\left(m_{H_1^0}\\right)^{4}}}{16 k_{1}^{2}}\\right) - \\left(m_{H_1^0}\\right)^{2}\\right)}{2 k_{1}^{2}}, \\  \\lambda_{1} + \\lambda_{2} : - \\frac{16 \\rho_{1} v_{R}^{2} - \\left(m_{H_1^0}\\right)^{2}}{16 k_{1}^{2}} - \\frac{\\sqrt{32 \\rho_{1} \\left(m_{H_1^0}\\right)^{2} v_{R}^{2} + 32 \\rho_{1} \\left(m_{H_2^0}\\right)^{2} v_{R}^{2} + \\left(m_{H_1^0}\\right)^{4}}}{16 k_{1}^{2}}\\right\\}$"
      ],
      "text/plain": [
       "⎧                            ⎛      ⎛                                   ______ ↪\n",
       "⎪                            ⎜      ⎜              2             2     ╱       ↪\n",
       "⎪                            ⎜    2 ⎜  16⋅\\rho₁⋅v_R  - m_{H_1__0}    ╲╱  32⋅\\r ↪\n",
       "⎪                      \\rho₁⋅⎜8⋅k₁ ⋅⎜- ─────────────────────────── - ───────── ↪\n",
       "⎨                            ⎜      ⎜                 2                        ↪\n",
       "⎪                   2        ⎝      ⎝            16⋅k₁                         ↪\n",
       "⎪(\\alpha₁ + \\alpha₃) : ─────────────────────────────────────────────────────── ↪\n",
       "⎪                                                                              ↪\n",
       "⎩                                                                              ↪\n",
       "\n",
       "↪ _______________________________________________________________⎞             ↪\n",
       "↪               2    2                      2    2             4 ⎟             ↪\n",
       "↪ ho₁⋅m_{H_1__0} ⋅v_R  + 32⋅\\rho₁⋅m_{H_2__0} ⋅v_R  + m_{H_1__0}  ⎟             ↪\n",
       "↪ ───────────────────────────────────────────────────────────────⎟ - m_{H_1__0 ↪\n",
       "↪                              2                                 ⎟             ↪\n",
       "↪                         16⋅k₁                                  ⎠             ↪\n",
       "↪ ──────────────────────────────────────────────────────────────────────────── ↪\n",
       "↪              2                                                               ↪\n",
       "↪          2⋅k₁                                                                ↪\n",
       "\n",
       "↪   ⎞                                                                          ↪\n",
       "↪   ⎟                                                                          ↪\n",
       "↪  2⎟                                                                          ↪\n",
       "↪ } ⎟                                                          _______________ ↪\n",
       "↪   ⎟                                     2             2     ╱                ↪\n",
       "↪   ⎠                         16⋅\\rho₁⋅v_R  - m_{H_1__0}    ╲╱  32⋅\\rho₁⋅m_{H_ ↪\n",
       "↪ ───, \\lambda₁ + \\lambda₂: - ─────────────────────────── - ────────────────── ↪\n",
       "↪                                            2                                 ↪\n",
       "↪                                       16⋅k₁                                  ↪\n",
       "\n",
       "↪                                                       ⎫\n",
       "↪                                                       ⎪\n",
       "↪                                                       ⎪\n",
       "↪ ______________________________________________________⎪\n",
       "↪      2    2                      2    2             4 ⎬\n",
       "↪ 1__0} ⋅v_R  + 32⋅\\rho₁⋅m_{H_2__0} ⋅v_R  + m_{H_1__0}  ⎪\n",
       "↪ ──────────────────────────────────────────────────────⎪\n",
       "↪                     2                                 ⎪\n",
       "↪                16⋅k₁                                  ⎭"
      ]
     },
     "execution_count": 106,
     "metadata": {},
     "output_type": "execute_result"
    }
   ],
   "source": [
    "alpha13_lamb12_sol = solve(\n",
    "    [\n",
    "        Eq(mH10_square, mH10**2),\n",
    "        Eq(mH20_square, mH20**2)\n",
    "    ], \n",
    "    [(alpha1 + alpha3)**2, lamb1 + lamb2], dict=True\n",
    ")[0]\n",
    "alpha13_lamb12_sol"
   ]
  },
  {
   "cell_type": "code",
   "execution_count": 107,
   "metadata": {},
   "outputs": [
    {
     "data": {
      "image/png": "[encoded data removed]",
      "text/latex": [
       "$\\displaystyle - \\frac{4 \\rho_{1}^{2} v_{R}^{2}}{k_{1}^{2}} - \\frac{\\rho_{1} \\left(m_{H_1^0}\\right)^{2}}{4 k_{1}^{2}} - \\frac{\\rho_{1} \\sqrt{32 \\rho_{1} \\left(m_{H_1^0}\\right)^{2} v_{R}^{2} + 32 \\rho_{1} \\left(m_{H_2^0}\\right)^{2} v_{R}^{2} + \\left(m_{H_1^0}\\right)^{4}}}{4 k_{1}^{2}}$"
      ],
      "text/plain": [
       "                                               _______________________________ ↪\n",
       "         2    2                   2           ╱                    2    2      ↪\n",
       "  4⋅\\rho₁ ⋅v_R    \\rho₁⋅m_{H_1__0}    \\rho₁⋅╲╱  32⋅\\rho₁⋅m_{H_1__0} ⋅v_R  + 32 ↪\n",
       "- ───────────── - ───────────────── - ──────────────────────────────────────── ↪\n",
       "         2                  2                                                  ↪\n",
       "       k₁               4⋅k₁                                              4⋅k₁ ↪\n",
       "\n",
       "↪ ______________________________________\n",
       "↪                  2    2             4 \n",
       "↪ ⋅\\rho₁⋅m_{H_2__0} ⋅v_R  + m_{H_1__0}  \n",
       "↪ ──────────────────────────────────────\n",
       "↪ 2                                     \n",
       "↪                                       "
      ]
     },
     "execution_count": 107,
     "metadata": {},
     "output_type": "execute_result"
    }
   ],
   "source": [
    "alpha13_lamb12_sol[(alpha1 + alpha3)**2].expand()#.subs(vR, k1/epsilon).series(epsilon, 0, n=2).removeO(\n",
    "#\n",
    "#).subs(epsilon, k1/vR).factor()"
   ]
  },
  {
   "cell_type": "code",
   "execution_count": 108,
   "metadata": {},
   "outputs": [
    {
     "data": {
      "image/png": "[encoded data removed]",
      "text/latex": [
       "$\\displaystyle \\left(m_{H_1^0}\\right)^{2} + \\left(m_{H_2^0}\\right)^{2}$"
      ],
      "text/plain": [
       "          2             2\n",
       "m_{H_1__0}  + m_{H_2__0} "
      ]
     },
     "execution_count": 108,
     "metadata": {},
     "output_type": "execute_result"
    }
   ],
   "source": [
    "(mH10_square + mH20_square).collect(vR, lambda x:x.collect(rho1, factor)).subs(alpha13_lamb12_sol).factor()"
   ]
  },
  {
   "cell_type": "code",
   "execution_count": 109,
   "metadata": {},
   "outputs": [
    {
     "data": {
      "image/png": "[encoded data removed]",
      "text/latex": [
       "$\\displaystyle \\left(m_{H_1^0} - m_{H_2^0}\\right) \\left(m_{H_1^0} + m_{H_2^0}\\right)$"
      ],
      "text/plain": [
       "(m_{H_1__0} - m_{H_2__0})⋅(m_{H_1__0} + m_{H_2__0})"
      ]
     },
     "execution_count": 109,
     "metadata": {},
     "output_type": "execute_result"
    }
   ],
   "source": [
    "(mH10_square - mH20_square).collect(vR, lambda x:x.collect(rho1, factor)).subs(alpha13_lamb12_sol).factor()"
   ]
  },
  {
   "cell_type": "code",
   "execution_count": 110,
   "metadata": {},
   "outputs": [
    {
     "data": {
      "image/png": "[encoded data removed]",
      "text/latex": [
       "$\\displaystyle \\left( - 4 k_{1}^{2} \\left(\\lambda_{2} - 4 \\lambda_{3} - \\lambda_{5} - \\lambda_{6}\\right) + 2 v_{R}^{2} \\left(\\alpha_{2} - \\alpha_{3}\\right), \\  - 4 k_{1}^{2} \\left(\\lambda_{2} - 4 \\lambda_{3} - \\lambda_{5} - \\lambda_{6}\\right) + 2 \\left(m_{H_R^+}\\right)^{2}\\right)$"
      ],
      "text/plain": [
       "⎛      2                                                      2                ↪\n",
       "⎝- 4⋅k₁ ⋅(\\lambda₂ - 4⋅\\lambda₃ - \\lambda₅ - \\lambda₆) + 2⋅v_R ⋅(\\alpha₂ - \\al ↪\n",
       "\n",
       "↪              2                                                             2 ↪\n",
       "↪ pha₃), - 4⋅k₁ ⋅(\\lambda₂ - 4⋅\\lambda₃ - \\lambda₅ - \\lambda₆) + 2⋅m_{H_R__+}  ↪\n",
       "\n",
       "↪ ⎞\n",
       "↪ ⎠"
      ]
     },
     "execution_count": 110,
     "metadata": {},
     "output_type": "execute_result"
    }
   ],
   "source": [
    "mH30_square = Mrr[0,0]\n",
    "mH30_square, mH30_square.subs(alpha12_rho12_masses_relations)"
   ]
  },
  {
   "cell_type": "code",
   "execution_count": 111,
   "metadata": {},
   "outputs": [
    {
     "data": {
      "image/png": "[encoded data removed]",
      "text/latex": [
       "$\\displaystyle \\left\\{ - \\lambda_{2} + 4 \\lambda_{3} + \\lambda_{5} + \\lambda_{6} : \\frac{- 2 \\alpha_{2} v_{R}^{2} + 2 \\alpha_{3} v_{R}^{2} + \\left(m_{H_3^0}\\right)^{2}}{4 k_{1}^{2}}\\right\\}$"
      ],
      "text/plain": [
       "⎧                                                             2                ↪\n",
       "⎪                                              - 2⋅\\alpha₂⋅v_R  + 2⋅\\alpha₃⋅v_ ↪\n",
       "⎨-\\lambda₂ + 4⋅\\lambda₃ + \\lambda₅ + \\lambda₆: ─────────────────────────────── ↪\n",
       "⎪                                                                       2      ↪\n",
       "⎩                                                                   4⋅k₁       ↪\n",
       "\n",
       "↪  2             2⎫\n",
       "↪ R  + m_{H_3__0} ⎪\n",
       "↪ ────────────────⎬\n",
       "↪                 ⎪\n",
       "↪                 ⎭"
      ]
     },
     "execution_count": 111,
     "metadata": {},
     "output_type": "execute_result"
    }
   ],
   "source": [
    "lamb2356_sol = solve(Eq(mH30_square, mH30**2), - lamb2 + 4*lamb3 + lamb5 + lamb6, dict=True)[0]\n",
    "lamb2356_sol"
   ]
  },
  {
   "cell_type": "code",
   "execution_count": 112,
   "metadata": {},
   "outputs": [
    {
     "data": {
      "image/png": "[encoded data removed]",
      "text/latex": [
       "$\\displaystyle \\left( - 2 v_{R}^{2} \\left(2 \\rho_{1} - \\rho_{2}\\right), \\  - \\frac{2 \\left(k_{1} m_{H_R^+} - m_{H_L^+} v_{R}\\right) \\left(k_{1} m_{H_R^+} + m_{H_L^+} v_{R}\\right)}{v_{R}^{2}}\\right)$"
      ],
      "text/plain": [
       "⎛      2                    -2⋅(k₁⋅m_{H_R__+} - m_{H_L__+}⋅v_R)⋅(k₁⋅m_{H_R__+} ↪\n",
       "⎜-2⋅v_R ⋅(2⋅\\rho₁ - \\rho₂), ────────────────────────────────────────────────── ↪\n",
       "⎜                                                              2               ↪\n",
       "⎝                                                           v_R                ↪\n",
       "\n",
       "↪  + m_{H_L__+}⋅v_R) ⎞\n",
       "↪ ───────────────────⎟\n",
       "↪                    ⎟\n",
       "↪                    ⎠"
      ]
     },
     "execution_count": 112,
     "metadata": {},
     "output_type": "execute_result"
    }
   ],
   "source": [
    "mH40_square = Mrr[1,1]\n",
    "mH40_square, mH40_square.subs(alpha12_rho12_masses_relations)"
   ]
  },
  {
   "cell_type": "code",
   "execution_count": 113,
   "metadata": {},
   "outputs": [
    {
     "data": {
      "image/png": "[encoded data removed]",
      "text/latex": [
       "$\\displaystyle \\left\\{ - 2 \\rho_{1} + \\rho_{2} : \\frac{\\left(m_{H_4^0}\\right)^{2}}{2 v_{R}^{2}}\\right\\}$"
      ],
      "text/plain": [
       "⎧                            2⎫\n",
       "⎪                  m_{H_4__0} ⎪\n",
       "⎨-2⋅\\rho₁ + \\rho₂: ───────────⎬\n",
       "⎪                         2   ⎪\n",
       "⎩                    2⋅v_R    ⎭"
      ]
     },
     "execution_count": 113,
     "metadata": {},
     "output_type": "execute_result"
    }
   ],
   "source": [
    "rho21_neutral_sol = solve(Eq(mH40_square, mH40**2), rho2 - 2*rho1, dict=True)[0]\n",
    "rho21_neutral_sol"
   ]
  },
  {
   "cell_type": "code",
   "execution_count": 114,
   "metadata": {},
   "outputs": [
    {
     "data": {
      "image/png": "[encoded data removed]",
      "text/latex": [
       "$\\displaystyle \\left\\{ - 2 \\rho_{1} + \\rho_{2} : \\frac{\\left(m_{A_2^0}\\right)^{2}}{2 v_{R}^{2}}\\right\\}$"
      ],
      "text/plain": [
       "⎧                            2⎫\n",
       "⎪                  m_{A_2__0} ⎪\n",
       "⎨-2⋅\\rho₁ + \\rho₂: ───────────⎬\n",
       "⎪                         2   ⎪\n",
       "⎩                    2⋅v_R    ⎭"
      ]
     },
     "execution_count": 114,
     "metadata": {},
     "output_type": "execute_result"
    }
   ],
   "source": [
    "rho12_relations"
   ]
  },
  {
   "cell_type": "code",
   "execution_count": 115,
   "metadata": {},
   "outputs": [
    {
     "data": {
      "text/latex": [
       "$\\displaystyle \\left[\\begin{matrix}- \\frac{\\chi_R^{0r} k_{1} \\left(\\alpha_{1} + \\alpha_{3}\\right)}{2 \\rho_{1} v_{R}} + \\phi_1^{0r}\\\\\\chi_R^{0r} + \\frac{\\phi_1^{0r} k_{1} \\left(\\alpha_{1} + \\alpha_{3}\\right)}{2 \\rho_{1} v_{R}}\\end{matrix}\\right]$"
      ],
      "text/plain": [
       "⎡  \\chi_R__{0r}⋅k₁⋅(\\alpha₁ + \\alpha₃)               ⎤\n",
       "⎢- ─────────────────────────────────── + \\phi_1__{0r}⎥\n",
       "⎢              2⋅\\rho₁⋅v_R                           ⎥\n",
       "⎢                                                    ⎥\n",
       "⎢                \\phi_1__{0r}⋅k₁⋅(\\alpha₁ + \\alpha₃) ⎥\n",
       "⎢ \\chi_R__{0r} + ─────────────────────────────────── ⎥\n",
       "⎣                            2⋅\\rho₁⋅v_R             ⎦"
      ]
     },
     "execution_count": 115,
     "metadata": {},
     "output_type": "execute_result"
    }
   ],
   "source": [
    "physical_scalars = Oth_approx_inv*Matrix(\n",
    "    [\n",
    "        [phi10r],\n",
    "        [chiR0r]\n",
    "    ]\n",
    ")\n",
    "physical_scalars"
   ]
  },
  {
   "cell_type": "code",
   "execution_count": 116,
   "metadata": {},
   "outputs": [],
   "source": [
    "H10 = symbols(r'{{H_1^0}}')\n",
    "H20 = symbols(r'{{H_2^0}}')\n",
    "H30 = symbols(r'{{H_3^0}}')\n",
    "H40 = symbols(r'{{H_4^0}}')\n",
    "eqH10 = Eq(H10, physical_scalars[0])\n",
    "eqH20 = Eq(H20, physical_scalars[1])\n",
    "eqH30 = Eq(H30, phi20r)\n",
    "eqH40 = Eq(H40, chiL0r)\n"
   ]
  },
  {
   "cell_type": "code",
   "execution_count": 117,
   "metadata": {},
   "outputs": [
    {
     "data": {
      "image/png": "[encoded data removed]",
      "text/latex": [
       "$\\displaystyle \\left\\{ \\chi_L^{0r} : {{H_4^0}}, \\  \\chi_R^{0r} : \\frac{- 2 \\alpha_{1} \\rho_{1} k_{1} v_{R} {{H_1^0}} - 2 \\alpha_{3} \\rho_{1} k_{1} v_{R} {{H_1^0}} + 4 \\rho_{1}^{2} v_{R}^{2} {{H_2^0}}}{\\alpha_{1}^{2} k_{1}^{2} + 2 \\alpha_{1} \\alpha_{3} k_{1}^{2} + \\alpha_{3}^{2} k_{1}^{2} + 4 \\rho_{1}^{2} v_{R}^{2}}, \\  \\phi_1^{0r} : \\frac{2 \\alpha_{1} \\rho_{1} k_{1} v_{R} {{H_2^0}} + 2 \\alpha_{3} \\rho_{1} k_{1} v_{R} {{H_2^0}} + 4 \\rho_{1}^{2} v_{R}^{2} {{H_1^0}}}{\\alpha_{1}^{2} k_{1}^{2} + 2 \\alpha_{1} \\alpha_{3} k_{1}^{2} + \\alpha_{3}^{2} k_{1}^{2} + 4 \\rho_{1}^{2} v_{R}^{2}}, \\  \\phi_2^{0r} : {{H_3^0}}\\right\\}$"
      ],
      "text/plain": [
       "⎧                                                                              ↪\n",
       "⎪                                        -2⋅\\alpha₁⋅\\rho₁⋅k₁⋅v_R⋅{{H_1__0}} -  ↪\n",
       "⎨\\chi_L__{0r}: {{H_4__0}}, \\chi_R__{0r}: ───────────────────────────────────── ↪\n",
       "⎪                                                              2   2           ↪\n",
       "⎩                                                       \\alpha₁ ⋅k₁  + 2⋅\\alph ↪\n",
       "\n",
       "↪                                            2    2                            ↪\n",
       "↪ 2⋅\\alpha₃⋅\\rho₁⋅k₁⋅v_R⋅{{H_1__0}} + 4⋅\\rho₁ ⋅v_R ⋅{{H_2__0}}                 ↪\n",
       "↪ ────────────────────────────────────────────────────────────, \\phi_1__{0r}:  ↪\n",
       "↪              2          2   2          2    2                                ↪\n",
       "↪ a₁⋅\\alpha₃⋅k₁  + \\alpha₃ ⋅k₁  + 4⋅\\rho₁ ⋅v_R                                 ↪\n",
       "\n",
       "↪                                                                              ↪\n",
       "↪ 2⋅\\alpha₁⋅\\rho₁⋅k₁⋅v_R⋅{{H_2__0}} + 2⋅\\alpha₃⋅\\rho₁⋅k₁⋅v_R⋅{{H_2__0}} + 4⋅\\r ↪\n",
       "↪ ──────────────────────────────────────────────────────────────────────────── ↪\n",
       "↪                      2   2                       2          2   2          2 ↪\n",
       "↪               \\alpha₁ ⋅k₁  + 2⋅\\alpha₁⋅\\alpha₃⋅k₁  + \\alpha₃ ⋅k₁  + 4⋅\\rho₁  ↪\n",
       "\n",
       "↪    2    2                                     ⎫\n",
       "↪ ho₁ ⋅v_R ⋅{{H_1__0}}                          ⎪\n",
       "↪ ────────────────────, \\phi_2__{0r}: {{H_3__0}}⎬\n",
       "↪     2                                         ⎪\n",
       "↪ ⋅v_R                                          ⎭"
      ]
     },
     "execution_count": 117,
     "metadata": {},
     "output_type": "execute_result"
    }
   ],
   "source": [
    "change_scalars = solve([eqH10, eqH20, eqH30, eqH40], [chiL0r, chiR0r, phi10r, phi20r], dict=True)[0]\n",
    "change_scalars"
   ]
  },
  {
   "cell_type": "code",
   "execution_count": 118,
   "metadata": {},
   "outputs": [],
   "source": [
    "for key, value in change_scalars.items():\n",
    "    change_scalars[key] = value.factor(deep=True)"
   ]
  },
  {
   "cell_type": "code",
   "execution_count": 119,
   "metadata": {},
   "outputs": [
    {
     "data": {
      "image/png": "[encoded data removed]",
      "text/latex": [
       "$\\displaystyle \\left\\{ \\chi_L^{0r} : {{H_4^0}}, \\  \\chi_R^{0r} : - \\frac{2 \\rho_{1} v_{R} \\left(\\alpha_{1} k_{1} {{H_1^0}} + \\alpha_{3} k_{1} {{H_1^0}} - 2 \\rho_{1} v_{R} {{H_2^0}}\\right)}{\\alpha_{1}^{2} k_{1}^{2} + 2 \\alpha_{1} \\alpha_{3} k_{1}^{2} + \\alpha_{3}^{2} k_{1}^{2} + 4 \\rho_{1}^{2} v_{R}^{2}}, \\  \\phi_1^{0r} : \\frac{2 \\rho_{1} v_{R} \\left(\\alpha_{1} k_{1} {{H_2^0}} + \\alpha_{3} k_{1} {{H_2^0}} + 2 \\rho_{1} v_{R} {{H_1^0}}\\right)}{\\alpha_{1}^{2} k_{1}^{2} + 2 \\alpha_{1} \\alpha_{3} k_{1}^{2} + \\alpha_{3}^{2} k_{1}^{2} + 4 \\rho_{1}^{2} v_{R}^{2}}, \\  \\phi_2^{0r} : {{H_3^0}}\\right\\}$"
      ],
      "text/plain": [
       "⎧                                        -2⋅\\rho₁⋅v_R⋅(\\alpha₁⋅k₁⋅{{H_1__0}} + ↪\n",
       "⎪\\chi_L__{0r}: {{H_4__0}}, \\chi_R__{0r}: ───────────────────────────────────── ↪\n",
       "⎨                                                        2   2                 ↪\n",
       "⎪                                                 \\alpha₁ ⋅k₁  + 2⋅\\alpha₁⋅\\al ↪\n",
       "⎩                                                                              ↪\n",
       "\n",
       "↪  \\alpha₃⋅k₁⋅{{H_1__0}} - 2⋅\\rho₁⋅v_R⋅{{H_2__0}})                 2⋅\\rho₁⋅v_R ↪\n",
       "↪ ─────────────────────────────────────────────────, \\phi_1__{0r}: ─────────── ↪\n",
       "↪        2          2   2          2    2                                      ↪\n",
       "↪ pha₃⋅k₁  + \\alpha₃ ⋅k₁  + 4⋅\\rho₁ ⋅v_R                                   \\al ↪\n",
       "↪                                                                              ↪\n",
       "\n",
       "↪ ⋅(\\alpha₁⋅k₁⋅{{H_2__0}} + \\alpha₃⋅k₁⋅{{H_2__0}} + 2⋅\\rho₁⋅v_R⋅{{H_1__0}})    ↪\n",
       "↪ ─────────────────────────────────────────────────────────────────────────, \\ ↪\n",
       "↪     2   2                       2          2   2          2    2             ↪\n",
       "↪ pha₁ ⋅k₁  + 2⋅\\alpha₁⋅\\alpha₃⋅k₁  + \\alpha₃ ⋅k₁  + 4⋅\\rho₁ ⋅v_R              ↪\n",
       "↪                                                                              ↪\n",
       "\n",
       "↪                        ⎫\n",
       "↪ phi_2__{0r}: {{H_3__0}}⎪\n",
       "↪                        ⎬\n",
       "↪                        ⎪\n",
       "↪                        ⎭"
      ]
     },
     "execution_count": 119,
     "metadata": {},
     "output_type": "execute_result"
    }
   ],
   "source": [
    "change_scalars"
   ]
  },
  {
   "cell_type": "code",
   "execution_count": 120,
   "metadata": {},
   "outputs": [],
   "source": [
    "from sympy import fraction\n",
    "def simplify_fraction(frac):\n",
    "    num, den = fraction(frac)\n",
    "    num_simplify = num.expand().collect([vR], factor)\n",
    "    den_simplify = den.expand().collect([vR], factor)\n",
    "    return num_simplify/den_simplify"
   ]
  },
  {
   "cell_type": "code",
   "execution_count": 121,
   "metadata": {},
   "outputs": [
    {
     "data": {
      "image/png": "[encoded data removed]",
      "text/latex": [
       "$\\displaystyle \\frac{4 \\rho_{1}^{2} v_{R}^{2} {{H_2^0}} - 2 \\rho_{1} k_{1} v_{R} {{H_1^0}} \\left(\\alpha_{1} + \\alpha_{3}\\right)}{4 \\rho_{1}^{2} v_{R}^{2} + k_{1}^{2} \\left(\\alpha_{1} + \\alpha_{3}\\right)^{2}}$"
      ],
      "text/plain": [
       "       2    2                                                           \n",
       "4⋅\\rho₁ ⋅v_R ⋅{{H_2__0}} - 2⋅\\rho₁⋅k₁⋅v_R⋅{{H_1__0}}⋅(\\alpha₁ + \\alpha₃)\n",
       "────────────────────────────────────────────────────────────────────────\n",
       "                       2    2     2                    2                \n",
       "                4⋅\\rho₁ ⋅v_R  + k₁ ⋅(\\alpha₁ + \\alpha₃)                 "
      ]
     },
     "execution_count": 121,
     "metadata": {},
     "output_type": "execute_result"
    }
   ],
   "source": [
    "simplify_fraction(change_scalars[chiR0r])"
   ]
  },
  {
   "cell_type": "code",
   "execution_count": 122,
   "metadata": {},
   "outputs": [
    {
     "data": {
      "image/png": "[encoded data removed]",
      "text/latex": [
       "$\\displaystyle \\frac{4 \\rho_{1}^{2} v_{R}^{2} {{H_1^0}} + 2 \\rho_{1} k_{1} v_{R} {{H_2^0}} \\left(\\alpha_{1} + \\alpha_{3}\\right)}{4 \\rho_{1}^{2} v_{R}^{2} + k_{1}^{2} \\left(\\alpha_{1} + \\alpha_{3}\\right)^{2}}$"
      ],
      "text/plain": [
       "       2    2                                                           \n",
       "4⋅\\rho₁ ⋅v_R ⋅{{H_1__0}} + 2⋅\\rho₁⋅k₁⋅v_R⋅{{H_2__0}}⋅(\\alpha₁ + \\alpha₃)\n",
       "────────────────────────────────────────────────────────────────────────\n",
       "                       2    2     2                    2                \n",
       "                4⋅\\rho₁ ⋅v_R  + k₁ ⋅(\\alpha₁ + \\alpha₃)                 "
      ]
     },
     "execution_count": 122,
     "metadata": {},
     "output_type": "execute_result"
    }
   ],
   "source": [
    "simplify_fraction(change_scalars[phi10r])"
   ]
  },
  {
   "cell_type": "code",
   "execution_count": 123,
   "metadata": {},
   "outputs": [],
   "source": [
    "alpha13 = symbols(r'\\alpha_{13}') \n",
    "change_scalars[chiR0r] = simplify_fraction(change_scalars[chiR0r]).subs(alpha1 + alpha3, alpha13)\n",
    "change_scalars[phi10r] = simplify_fraction(change_scalars[phi10r]).subs(alpha1 + alpha3, alpha13)"
   ]
  },
  {
   "cell_type": "code",
   "execution_count": 124,
   "metadata": {},
   "outputs": [],
   "source": [
    "change_scalar_fields = {\n",
    "    **change_scalars,\n",
    "    **change_pseudo_scalars,\n",
    "    **change_charged_higgs\n",
    "}"
   ]
  },
  {
   "cell_type": "code",
   "execution_count": 125,
   "metadata": {},
   "outputs": [
    {
     "data": {
      "image/png": "[encoded data removed]",
      "text/latex": [
       "$\\displaystyle \\left\\{ \\chi^{-}_{L} : {{H_L^-}}, \\  \\chi_L^{0i} : {{A_2^0}}, \\  \\chi_L^{0r} : {{H_4^0}}, \\  \\chi^{-}_{R} : \\frac{k_{1} v_{R} {{H_R^-}} + v_{R}^{2} {{G_R^-}}}{k_{1}^{2} + v_{R}^{2}}, \\  \\chi_R^{0i} : {{G_{Z_2}}}, \\  \\chi_R^{0r} : \\frac{- 2 \\alpha_{13} \\rho_{1} k_{1} v_{R} {{H_1^0}} + 4 \\rho_{1}^{2} v_{R}^{2} {{H_2^0}}}{\\alpha_{13}^{2} k_{1}^{2} + 4 \\rho_{1}^{2} v_{R}^{2}}, \\  \\phi^{-}_{1} : \\frac{- k_{1} v_{R} {{G_R^-}} + v_{R}^{2} {{H_R^-}}}{k_{1}^{2} + v_{R}^{2}}, \\  \\phi_1^{0i} : {{G_{Z_1}}}, \\  \\phi_1^{0r} : \\frac{2 \\alpha_{13} \\rho_{1} k_{1} v_{R} {{H_2^0}} + 4 \\rho_{1}^{2} v_{R}^{2} {{H_1^0}}}{\\alpha_{13}^{2} k_{1}^{2} + 4 \\rho_{1}^{2} v_{R}^{2}}, \\  \\phi^{-}_{2} : {{G_L^-}}, \\  \\phi_2^{0i} : {{A_1^0}}, \\  \\phi_2^{0r} : {{H_3^0}}, \\  {{\\chi_L^+}} : {{H_L^+}}, \\  {{\\chi_R^+}} : \\frac{k_{1} v_{R} {{H_R^+}} + v_{R}^{2} {{G_R^+}}}{k_{1}^{2} + v_{R}^{2}}, \\  {{\\phi_1^+}} : \\frac{- k_{1} v_{R} {{G_R^+}} + v_{R}^{2} {{H_R^+}}}{k_{1}^{2} + v_{R}^{2}}, \\  {{\\phi_2^+}} : {{G_L^+}}\\right\\}$"
      ],
      "text/plain": [
       "⎧                                                                              ↪\n",
       "⎪                                                                              ↪\n",
       "⎨\\chi_L__-: {{H_L__-}}, \\chi_L__{0i}: {{A_2__0}}, \\chi_L__{0r}: {{H_4__0}}, \\c ↪\n",
       "⎪                                                                              ↪\n",
       "⎩                                                                              ↪\n",
       "\n",
       "↪                                 2                                            ↪\n",
       "↪          k₁⋅v_R⋅{{H_R__-}} + v_R ⋅{{G_R__-}}                                 ↪\n",
       "↪ hi_R__-: ───────────────────────────────────, \\chi_R__{0i}: {{G_{Z_2}}}, \\ch ↪\n",
       "↪                        2      2                                              ↪\n",
       "↪                      k₁  + v_R                                               ↪\n",
       "\n",
       "↪                                                            2    2            ↪\n",
       "↪            -2⋅\\alpha_{13}⋅\\rho₁⋅k₁⋅v_R⋅{{H_1__0}} + 4⋅\\rho₁ ⋅v_R ⋅{{H_2__0}} ↪\n",
       "↪ i_R__{0r}: ───────────────────────────────────────────────────────────────── ↪\n",
       "↪                                       2   2          2    2                  ↪\n",
       "↪                            \\alpha_{13} ⋅k₁  + 4⋅\\rho₁ ⋅v_R                   ↪\n",
       "\n",
       "↪                                   2                                          ↪\n",
       "↪           -k₁⋅v_R⋅{{G_R__-}} + v_R ⋅{{H_R__-}}                               ↪\n",
       "↪ , \\phi⁻₁: ────────────────────────────────────, \\phi_1__{0i}: {{G_{Z_1}}}, \\ ↪\n",
       "↪                          2      2                                            ↪\n",
       "↪                        k₁  + v_R                                             ↪\n",
       "\n",
       "↪                                                             2    2           ↪\n",
       "↪              2⋅\\alpha_{13}⋅\\rho₁⋅k₁⋅v_R⋅{{H_2__0}} + 4⋅\\rho₁ ⋅v_R ⋅{{H_1__0} ↪\n",
       "↪ phi_1__{0r}: ─────────────────────────────────────────────────────────────── ↪\n",
       "↪                                         2   2          2    2                ↪\n",
       "↪                              \\alpha_{13} ⋅k₁  + 4⋅\\rho₁ ⋅v_R                 ↪\n",
       "\n",
       "↪                                                                              ↪\n",
       "↪ }                                                                            ↪\n",
       "↪ ─, \\phi⁻₂: {{G_L__-}}, \\phi_2__{0i}: {{A_1__0}}, \\phi_2__{0r}: {{H_3__0}}, { ↪\n",
       "↪                                                                              ↪\n",
       "↪                                                                              ↪\n",
       "\n",
       "↪                                                                 2            ↪\n",
       "↪                                          k₁⋅v_R⋅{{H_R__+}} + v_R ⋅{{G_R__+}} ↪\n",
       "↪ {\\chi_L__+}}: {{H_L__+}}, {{\\chi_R__+}}: ─────────────────────────────────── ↪\n",
       "↪                                                        2      2              ↪\n",
       "↪                                                      k₁  + v_R               ↪\n",
       "\n",
       "↪                                          2                                   ↪\n",
       "↪                  -k₁⋅v_R⋅{{G_R__+}} + v_R ⋅{{H_R__+}}                        ↪\n",
       "↪ , {{\\phi_1__+}}: ────────────────────────────────────, {{\\phi_2__+}}: {{G_L_ ↪\n",
       "↪                                 2      2                                     ↪\n",
       "↪                               k₁  + v_R                                      ↪\n",
       "\n",
       "↪     ⎫\n",
       "↪     ⎪\n",
       "↪ _+}}⎬\n",
       "↪     ⎪\n",
       "↪     ⎭"
      ]
     },
     "execution_count": 125,
     "metadata": {},
     "output_type": "execute_result"
    }
   ],
   "source": [
    "change_scalar_fields"
   ]
  },
  {
   "cell_type": "code",
   "execution_count": 126,
   "metadata": {},
   "outputs": [
    {
     "data": {
      "image/png": "[encoded data removed]",
      "text/latex": [
       "$\\displaystyle \\frac{- 2 \\alpha_{13} \\rho_{1} k_{1} v_{R} {{H_1^0}} + 4 \\rho_{1}^{2} v_{R}^{2} {{H_2^0}}}{\\alpha_{13}^{2} k_{1}^{2} + 4 \\rho_{1}^{2} v_{R}^{2}}$"
      ],
      "text/plain": [
       "                                                2    2           \n",
       "-2⋅\\alpha_{13}⋅\\rho₁⋅k₁⋅v_R⋅{{H_1__0}} + 4⋅\\rho₁ ⋅v_R ⋅{{H_2__0}}\n",
       "─────────────────────────────────────────────────────────────────\n",
       "                           2   2          2    2                 \n",
       "                \\alpha_{13} ⋅k₁  + 4⋅\\rho₁ ⋅v_R                  "
      ]
     },
     "execution_count": 126,
     "metadata": {},
     "output_type": "execute_result"
    }
   ],
   "source": [
    "change_scalar_fields[chiR0r]"
   ]
  },
  {
   "cell_type": "code",
   "execution_count": 127,
   "metadata": {},
   "outputs": [
    {
     "data": {
      "image/png": "[encoded data removed]",
      "text/latex": [
       "$\\displaystyle \\frac{\\alpha_{13} k_{1} {{H_2^0}}}{2 \\rho_{1} v_{R}} + {{H_1^0}}$"
      ],
      "text/plain": [
       "\\alpha_{13}⋅k₁⋅{{H_2__0}}             \n",
       "───────────────────────── + {{H_1__0}}\n",
       "       2⋅\\rho₁⋅v_R                    "
      ]
     },
     "execution_count": 127,
     "metadata": {},
     "output_type": "execute_result"
    }
   ],
   "source": [
    "change_scalar_fields[phi10r].subs(k1, epsilon*vR).series(epsilon, 0, 2).removeO().subs(epsilon, k1/vR).expand()"
   ]
  },
  {
   "cell_type": "code",
   "execution_count": 128,
   "metadata": {},
   "outputs": [
    {
     "data": {
      "image/png": "[encoded data removed]",
      "text/latex": [
       "$\\displaystyle \\chi^{-}_{R} = \\frac{k_{1} {{H_R^-}}}{v_{R}} + {{G_R^-}}$"
      ],
      "text/plain": [
       "            k₁⋅{{H_R__-}}             \n",
       "\\chi_R__- = ───────────── + {{G_R__-}}\n",
       "                 v_R                  "
      ]
     },
     "metadata": {},
     "output_type": "display_data"
    },
    {
     "data": {
      "image/png": "[encoded data removed]",
      "text/latex": [
       "$\\displaystyle {{\\chi_R^+}} = \\frac{k_{1} {{H_R^+}}}{v_{R}} + {{G_R^+}}$"
      ],
      "text/plain": [
       "                k₁⋅{{H_R__+}}             \n",
       "{{\\chi_R__+}} = ───────────── + {{G_R__+}}\n",
       "                     v_R                  "
      ]
     },
     "metadata": {},
     "output_type": "display_data"
    },
    {
     "data": {
      "image/png": "[encoded data removed]",
      "text/latex": [
       "$\\displaystyle \\chi_R^{0r} = - \\frac{\\alpha_{13} k_{1} {{H_1^0}}}{2 \\rho_{1} v_{R}} + {{H_2^0}}$"
      ],
      "text/plain": [
       "                 \\alpha_{13}⋅k₁⋅{{H_1__0}}             \n",
       "\\chi_R__{0r} = - ───────────────────────── + {{H_2__0}}\n",
       "                        2⋅\\rho₁⋅v_R                    "
      ]
     },
     "metadata": {},
     "output_type": "display_data"
    },
    {
     "data": {
      "image/png": "[encoded data removed]",
      "text/latex": [
       "$\\displaystyle \\phi^{-}_{1} = - \\frac{k_{1} {{G_R^-}}}{v_{R}} + {{H_R^-}}$"
      ],
      "text/plain": [
       "           k₁⋅{{G_R__-}}             \n",
       "\\phi⁻₁ = - ───────────── + {{H_R__-}}\n",
       "                v_R                  "
      ]
     },
     "metadata": {},
     "output_type": "display_data"
    },
    {
     "data": {
      "image/png": "[encoded data removed]",
      "text/latex": [
       "$\\displaystyle \\phi_1^{0r} = \\frac{\\alpha_{13} k_{1} {{H_2^0}}}{2 \\rho_{1} v_{R}} + {{H_1^0}}$"
      ],
      "text/plain": [
       "               \\alpha_{13}⋅k₁⋅{{H_2__0}}             \n",
       "\\phi_1__{0r} = ───────────────────────── + {{H_1__0}}\n",
       "                      2⋅\\rho₁⋅v_R                    "
      ]
     },
     "metadata": {},
     "output_type": "display_data"
    },
    {
     "data": {
      "image/png": "[encoded data removed]",
      "text/latex": [
       "$\\displaystyle {{\\phi_1^+}} = - \\frac{k_{1} {{G_R^+}}}{v_{R}} + {{H_R^+}}$"
      ],
      "text/plain": [
       "                  k₁⋅{{G_R__+}}             \n",
       "{{\\phi_1__+}} = - ───────────── + {{H_R__+}}\n",
       "                       v_R                  "
      ]
     },
     "metadata": {},
     "output_type": "display_data"
    }
   ],
   "source": [
    "for field in [chiRm, chiRp, chiR0r, phi1m, phi10r, phi1p]:\n",
    "    display(\n",
    "        Eq(\n",
    "            field, change_scalar_fields[field].subs(k1, epsilon*vR).series(\n",
    "            epsilon, 0, 2\n",
    "        ).removeO().subs(epsilon, k1/vR).expand()\n",
    "        )\n",
    "    )"
   ]
  },
  {
   "cell_type": "code",
   "execution_count": 129,
   "metadata": {},
   "outputs": [],
   "source": [
    "change_scalar_fields_approx = {field: exp for field, exp in change_scalar_fields.items()}\n",
    "for field in [chiRm, chiRp, chiR0r, phi1m, phi10r, phi1p]:\n",
    "    change_scalar_fields_approx[field] = change_scalar_fields_approx[field].subs(k1, epsilon*vR).series(\n",
    "            epsilon, 0, 2\n",
    "        ).removeO().subs(epsilon, k1/vR).expand()"
   ]
  },
  {
   "cell_type": "code",
   "execution_count": 130,
   "metadata": {},
   "outputs": [
    {
     "data": {
      "image/png": "[encoded data removed]",
      "text/latex": [
       "$\\displaystyle \\left\\{ \\chi^{-}_{L} : {{H_L^-}}, \\  \\chi_L^{0i} : {{A_2^0}}, \\  \\chi_L^{0r} : {{H_4^0}}, \\  \\chi^{-}_{R} : \\frac{k_{1} {{H_R^-}}}{v_{R}} + {{G_R^-}}, \\  \\chi_R^{0i} : {{G_{Z_2}}}, \\  \\chi_R^{0r} : - \\frac{\\alpha_{13} k_{1} {{H_1^0}}}{2 \\rho_{1} v_{R}} + {{H_2^0}}, \\  \\phi^{-}_{1} : - \\frac{k_{1} {{G_R^-}}}{v_{R}} + {{H_R^-}}, \\  \\phi_1^{0i} : {{G_{Z_1}}}, \\  \\phi_1^{0r} : \\frac{\\alpha_{13} k_{1} {{H_2^0}}}{2 \\rho_{1} v_{R}} + {{H_1^0}}, \\  \\phi^{-}_{2} : {{G_L^-}}, \\  \\phi_2^{0i} : {{A_1^0}}, \\  \\phi_2^{0r} : {{H_3^0}}, \\  {{\\chi_L^+}} : {{H_L^+}}, \\  {{\\chi_R^+}} : \\frac{k_{1} {{H_R^+}}}{v_{R}} + {{G_R^+}}, \\  {{\\phi_1^+}} : - \\frac{k_{1} {{G_R^+}}}{v_{R}} + {{H_R^+}}, \\  {{\\phi_2^+}} : {{G_L^+}}\\right\\}$"
      ],
      "text/plain": [
       "⎧                                                                              ↪\n",
       "⎨\\chi_L__-: {{H_L__-}}, \\chi_L__{0i}: {{A_2__0}}, \\chi_L__{0r}: {{H_4__0}}, \\c ↪\n",
       "⎩                                                                              ↪\n",
       "\n",
       "↪          k₁⋅{{H_R__-}}                                                       ↪\n",
       "↪ hi_R__-: ───────────── + {{G_R__-}}, \\chi_R__{0i}: {{G_{Z_2}}}, \\chi_R__{0r} ↪\n",
       "↪               v_R                                                            ↪\n",
       "\n",
       "↪     \\alpha_{13}⋅k₁⋅{{H_1__0}}                         k₁⋅{{G_R__-}}          ↪\n",
       "↪ : - ───────────────────────── + {{H_2__0}}, \\phi⁻₁: - ───────────── + {{H_R_ ↪\n",
       "↪            2⋅\\rho₁⋅v_R                                     v_R               ↪\n",
       "\n",
       "↪                                                \\alpha_{13}⋅k₁⋅{{H_2__0}}     ↪\n",
       "↪ _-}}, \\phi_1__{0i}: {{G_{Z_1}}}, \\phi_1__{0r}: ───────────────────────── + { ↪\n",
       "↪                                                       2⋅\\rho₁⋅v_R            ↪\n",
       "\n",
       "↪                                                                              ↪\n",
       "↪ {H_1__0}}, \\phi⁻₂: {{G_L__-}}, \\phi_2__{0i}: {{A_1__0}}, \\phi_2__{0r}: {{H_3 ↪\n",
       "↪                                                                              ↪\n",
       "\n",
       "↪                                                  k₁⋅{{H_R__+}}               ↪\n",
       "↪ __0}}, {{\\chi_L__+}}: {{H_L__+}}, {{\\chi_R__+}}: ───────────── + {{G_R__+}}, ↪\n",
       "↪                                                       v_R                    ↪\n",
       "\n",
       "↪                   k₁⋅{{G_R__+}}                                        ⎫\n",
       "↪  {{\\phi_1__+}}: - ───────────── + {{H_R__+}}, {{\\phi_2__+}}: {{G_L__+}}⎬\n",
       "↪                        v_R                                             ⎭"
      ]
     },
     "execution_count": 130,
     "metadata": {},
     "output_type": "execute_result"
    }
   ],
   "source": [
    "change_scalar_fields_approx"
   ]
  },
  {
   "cell_type": "code",
   "execution_count": 132,
   "metadata": {},
   "outputs": [
    {
     "data": {
      "image/png": "[encoded data removed]",
      "text/latex": [
       "$\\displaystyle \\left\\{\\alpha_{1}, \\alpha_{2}, \\alpha_{3}, \\chi_L^{0i}, \\chi_L^{0r}, \\chi_R^{0i}, \\chi_R^{0r}, \\lambda_{1}, \\lambda_{2}, \\lambda_{3}, \\lambda_{4}, \\lambda_{5}, \\lambda_{6}, \\phi_1^{0i}, \\phi_1^{0r}, \\phi_2^{0i}, \\phi_2^{0r}, \\rho_{1}, \\rho_{2}, k_{1}, k_{2}, v_{L}, v_{R}, {{\\chi_L^+}}, {{\\chi_R^+}}, {{\\phi_1^+}}, {{\\phi_2^+}}\\right\\}$"
      ],
      "text/plain": [
       "{\\alpha₁, \\alpha₂, \\alpha₃, \\chi_L__{0i}, \\chi_L__{0r}, \\chi_R__{0i}, \\chi_R__ ↪\n",
       "\n",
       "↪ {0r}, \\lambda₁, \\lambda₂, \\lambda₃, \\lambda₄, \\lambda₅, \\lambda₆, \\phi_1__{0 ↪\n",
       "\n",
       "↪ i}, \\phi_1__{0r}, \\phi_2__{0i}, \\phi_2__{0r}, \\rho₁, \\rho₂, k₁, k₂, v_L, v_R ↪\n",
       "\n",
       "↪ , {{\\chi_L__+}}, {{\\chi_R__+}}, {{\\phi_1__+}}, {{\\phi_2__+}}}"
      ]
     },
     "execution_count": 132,
     "metadata": {},
     "output_type": "execute_result"
    }
   ],
   "source": [
    "VLRPhi_ri_tadpole_caso1.free_symbols"
   ]
  },
  {
   "cell_type": "code",
   "execution_count": 147,
   "metadata": {},
   "outputs": [
    {
     "data": {
      "image/png": "[encoded data removed]",
      "text/latex": [
       "$\\displaystyle \\left\\{\\alpha_{2}, \\alpha_{3}, \\alpha_{13}, \\chi_L^{0i}, \\chi_L^{0r}, \\chi_R^{0i}, \\chi_R^{0r}, \\lambda_{1}, \\lambda_{2}, \\lambda_{3}, \\lambda_{4}, \\lambda_{5}, \\lambda_{6}, \\phi_1^{0i}, \\phi_1^{0r}, \\phi_2^{0i}, \\phi_2^{0r}, \\rho_{1}, \\rho_{2}, k_{1}, k_{2}, v_{L}, v_{R}, {{\\chi_L^+}}, {{\\chi_R^+}}, {{\\phi_1^+}}, {{\\phi_2^+}}\\right\\}$"
      ],
      "text/plain": [
       "{\\alpha₂, \\alpha₃, \\alpha_{13}, \\chi_L__{0i}, \\chi_L__{0r}, \\chi_R__{0i}, \\chi ↪\n",
       "\n",
       "↪ _R__{0r}, \\lambda₁, \\lambda₂, \\lambda₃, \\lambda₄, \\lambda₅, \\lambda₆, \\phi_1 ↪\n",
       "\n",
       "↪ __{0i}, \\phi_1__{0r}, \\phi_2__{0i}, \\phi_2__{0r}, \\rho₁, \\rho₂, k₁, k₂, v_L, ↪\n",
       "\n",
       "↪  v_R, {{\\chi_L__+}}, {{\\chi_R__+}}, {{\\phi_1__+}}, {{\\phi_2__+}}}"
      ]
     },
     "execution_count": 147,
     "metadata": {},
     "output_type": "execute_result"
    }
   ],
   "source": [
    "VLRPhi_ri_tadpole_caso1.subs(alpha1, alpha13 - alpha3).free_symbols"
   ]
  },
  {
   "cell_type": "code",
   "execution_count": 143,
   "metadata": {},
   "outputs": [],
   "source": [
    "VLR_physical = VLRPhi_ri_tadpole_caso1.subs(complex_scalar_fields).subs(change_scalar_fields).subs(alpha1, alpha13 - alpha3)"
   ]
  },
  {
   "cell_type": "code",
   "execution_count": 144,
   "metadata": {},
   "outputs": [
    {
     "data": {
      "image/png": "[encoded data removed]",
      "text/latex": [
       "$\\displaystyle \\left\\{\\alpha_{2}, \\alpha_{3}, \\alpha_{13}, \\lambda_{1}, \\lambda_{2}, \\lambda_{3}, \\lambda_{4}, \\lambda_{5}, \\lambda_{6}, \\rho_{1}, \\rho_{2}, k_{1}, k_{2}, v_{L}, v_{R}, {{A_1^0}}, {{A_2^0}}, {{G_L^+}}, {{G_R^+}}, {{G_{Z_1}}}, {{G_{Z_2}}}, {{H_1^0}}, {{H_2^0}}, {{H_3^0}}, {{H_4^0}}, {{H_L^+}}, {{H_R^+}}\\right\\}$"
      ],
      "text/plain": [
       "{\\alpha₂, \\alpha₃, \\alpha_{13}, \\lambda₁, \\lambda₂, \\lambda₃, \\lambda₄, \\lambd ↪\n",
       "\n",
       "↪ a₅, \\lambda₆, \\rho₁, \\rho₂, k₁, k₂, v_L, v_R, {{A_1__0}}, {{A_2__0}}, {{G_L_ ↪\n",
       "\n",
       "↪ _+}}, {{G_R__+}}, {{G_{Z_1}}}, {{G_{Z_2}}}, {{H_1__0}}, {{H_2__0}}, {{H_3__0 ↪\n",
       "\n",
       "↪ }}, {{H_4__0}}, {{H_L__+}}, {{H_R__+}}}"
      ]
     },
     "execution_count": 144,
     "metadata": {},
     "output_type": "execute_result"
    }
   ],
   "source": [
    "VLR_physical.free_symbols"
   ]
  },
  {
   "cell_type": "code",
   "execution_count": null,
   "metadata": {},
   "outputs": [],
   "source": [
    "VLR_physical_approx = VLRPhi_ri_tadpole_caso1.subs(complex_scalar_fields).subs(change_scalar_fields_approx).subs(k2,0).subs(vL, 0).subs(alpha1, alpha13 - alpha3)"
   ]
  },
  {
   "cell_type": "code",
   "execution_count": 137,
   "metadata": {},
   "outputs": [
    {
     "data": {
      "image/png": "[encoded data removed]",
      "text/latex": [
       "$\\displaystyle \\left\\{\\alpha_{1}, \\alpha_{2}, \\alpha_{3}, \\alpha_{13}, \\lambda_{1}, \\lambda_{2}, \\lambda_{3}, \\lambda_{4}, \\lambda_{5}, \\lambda_{6}, \\rho_{1}, \\rho_{2}, k_{1}, v_{R}, {{A_1^0}}, {{A_2^0}}, {{G_L^+}}, {{G_R^+}}, {{G_{Z_1}}}, {{G_{Z_2}}}, {{H_1^0}}, {{H_2^0}}, {{H_3^0}}, {{H_4^0}}, {{H_L^+}}, {{H_R^+}}\\right\\}$"
      ],
      "text/plain": [
       "{\\alpha₁, \\alpha₂, \\alpha₃, \\alpha_{13}, \\lambda₁, \\lambda₂, \\lambda₃, \\lambda ↪\n",
       "\n",
       "↪ ₄, \\lambda₅, \\lambda₆, \\rho₁, \\rho₂, k₁, v_R, {{A_1__0}}, {{A_2__0}}, {{G_L_ ↪\n",
       "\n",
       "↪ _+}}, {{G_R__+}}, {{G_{Z_1}}}, {{G_{Z_2}}}, {{H_1__0}}, {{H_2__0}}, {{H_3__0 ↪\n",
       "\n",
       "↪ }}, {{H_4__0}}, {{H_L__+}}, {{H_R__+}}}"
      ]
     },
     "execution_count": 137,
     "metadata": {},
     "output_type": "execute_result"
    }
   ],
   "source": [
    "VLR_physical_approx.free_symbols"
   ]
  },
  {
   "cell_type": "code",
   "execution_count": 137,
   "metadata": {},
   "outputs": [
    {
     "data": {
      "image/png": "[encoded data removed]",
      "text/latex": [
       "$\\displaystyle \\alpha_{1} \\left({{G_L^+}} \\overline{{{G_L^+}}} + \\left(- i {{A_1^0}} + {{H_3^0}}\\right) \\left(i {{A_1^0}} + {{H_3^0}}\\right) + \\left(- \\frac{k_{1} {{G_R^+}}}{v_{R}} + {{H_R^+}}\\right) \\left(- \\frac{k_{1} \\overline{{{G_R^+}}}}{v_{R}} + \\overline{{{H_R^+}}}\\right) + \\left(\\frac{\\alpha_{13} k_{1} {{H_2^0}}}{2 \\rho_{1} v_{R}} + k_{1} - i {{G_{Z_1}}} + {{H_1^0}}\\right) \\left(\\frac{\\alpha_{13} k_{1} {{H_2^0}}}{2 \\rho_{1} v_{R}} + k_{1} + i {{G_{Z_1}}} + {{H_1^0}}\\right)\\right) \\left({{H_L^+}} \\overline{{{H_L^+}}} + \\left(- i {{A_2^0}} + {{H_4^0}}\\right) \\left(i {{A_2^0}} + {{H_4^0}}\\right) + \\left(\\frac{k_{1} {{H_R^+}}}{v_{R}} + {{G_R^+}}\\right) \\left(\\frac{k_{1} \\overline{{{H_R^+}}}}{v_{R}} + \\overline{{{G_R^+}}}\\right) + \\left(- \\frac{\\alpha_{13} k_{1} {{H_1^0}}}{2 \\rho_{1} v_{R}} + v_{R} - i {{G_{Z_2}}} + {{H_2^0}}\\right) \\left(- \\frac{\\alpha_{13} k_{1} {{H_1^0}}}{2 \\rho_{1} v_{R}} + v_{R} + i {{G_{Z_2}}} + {{H_2^0}}\\right)\\right) + \\alpha_{2} \\left({{H_L^+}} \\left(\\left(\\left(i {{A_1^0}} + {{H_3^0}}\\right) \\left(- i {{A_2^0}} + {{H_4^0}}\\right) + \\left(- \\frac{k_{1} {{G_R^+}}}{v_{R}} + {{H_R^+}}\\right) \\overline{{{H_L^+}}}\\right) \\left(- \\frac{k_{1} \\overline{{{G_R^+}}}}{v_{R}} + \\overline{{{H_R^+}}}\\right) + \\left(\\left(- i {{A_2^0}} + {{H_4^0}}\\right) \\overline{{{G_L^+}}} + \\left(\\frac{\\alpha_{13} k_{1} {{H_2^0}}}{2 \\rho_{1} v_{R}} + k_{1} + i {{G_{Z_1}}} + {{H_1^0}}\\right) \\overline{{{H_L^+}}}\\right) \\left(\\frac{\\alpha_{13} k_{1} {{H_2^0}}}{2 \\rho_{1} v_{R}} + k_{1} - i {{G_{Z_1}}} + {{H_1^0}}\\right)\\right) + \\left(i {{A_2^0}} + {{H_4^0}}\\right) \\left({{G_L^+}} \\left(\\left(- i {{A_2^0}} + {{H_4^0}}\\right) \\overline{{{G_L^+}}} + \\left(\\frac{\\alpha_{13} k_{1} {{H_2^0}}}{2 \\rho_{1} v_{R}} + k_{1} + i {{G_{Z_1}}} + {{H_1^0}}\\right) \\overline{{{H_L^+}}}\\right) + \\left(- i {{A_1^0}} + {{H_3^0}}\\right) \\left(\\left(i {{A_1^0}} + {{H_3^0}}\\right) \\left(- i {{A_2^0}} + {{H_4^0}}\\right) + \\left(- \\frac{k_{1} {{G_R^+}}}{v_{R}} + {{H_R^+}}\\right) \\overline{{{H_L^+}}}\\right)\\right) + \\left(\\left(i {{A_1^0}} + {{H_3^0}}\\right) \\left({{G_L^+}} \\left(\\frac{k_{1} \\overline{{{H_R^+}}}}{v_{R}} + \\overline{{{G_R^+}}}\\right) + \\left(- i {{A_1^0}} + {{H_3^0}}\\right) \\left(- \\frac{\\alpha_{13} k_{1} {{H_1^0}}}{2 \\rho_{1} v_{R}} + v_{R} - i {{G_{Z_2}}} + {{H_2^0}}\\right)\\right) + \\left(\\left(- \\frac{k_{1} \\overline{{{G_R^+}}}}{v_{R}} + \\overline{{{H_R^+}}}\\right) \\left(- \\frac{\\alpha_{13} k_{1} {{H_1^0}}}{2 \\rho_{1} v_{R}} + v_{R} - i {{G_{Z_2}}} + {{H_2^0}}\\right) + \\left(\\frac{k_{1} \\overline{{{H_R^+}}}}{v_{R}} + \\overline{{{G_R^+}}}\\right) \\left(\\frac{\\alpha_{13} k_{1} {{H_2^0}}}{2 \\rho_{1} v_{R}} + k_{1} - i {{G_{Z_1}}} + {{H_1^0}}\\right)\\right) \\left(- \\frac{k_{1} {{G_R^+}}}{v_{R}} + {{H_R^+}}\\right)\\right) \\left(- \\frac{\\alpha_{13} k_{1} {{H_1^0}}}{2 \\rho_{1} v_{R}} + v_{R} + i {{G_{Z_2}}} + {{H_2^0}}\\right) + \\left(\\left({{G_L^+}} \\left(\\frac{k_{1} \\overline{{{H_R^+}}}}{v_{R}} + \\overline{{{G_R^+}}}\\right) + \\left(- i {{A_1^0}} + {{H_3^0}}\\right) \\left(- \\frac{\\alpha_{13} k_{1} {{H_1^0}}}{2 \\rho_{1} v_{R}} + v_{R} - i {{G_{Z_2}}} + {{H_2^0}}\\right)\\right) \\overline{{{G_L^+}}} + \\left(\\left(- \\frac{k_{1} \\overline{{{G_R^+}}}}{v_{R}} + \\overline{{{H_R^+}}}\\right) \\left(- \\frac{\\alpha_{13} k_{1} {{H_1^0}}}{2 \\rho_{1} v_{R}} + v_{R} - i {{G_{Z_2}}} + {{H_2^0}}\\right) + \\left(\\frac{k_{1} \\overline{{{H_R^+}}}}{v_{R}} + \\overline{{{G_R^+}}}\\right) \\left(\\frac{\\alpha_{13} k_{1} {{H_2^0}}}{2 \\rho_{1} v_{R}} + k_{1} - i {{G_{Z_1}}} + {{H_1^0}}\\right)\\right) \\left(\\frac{\\alpha_{13} k_{1} {{H_2^0}}}{2 \\rho_{1} v_{R}} + k_{1} + i {{G_{Z_1}}} + {{H_1^0}}\\right)\\right) \\left(\\frac{k_{1} {{H_R^+}}}{v_{R}} + {{G_R^+}}\\right)\\right) + \\alpha_{3} \\left({{H_L^+}} \\left(\\left(i {{A_1^0}} + {{H_3^0}}\\right) \\left(\\left(- i {{A_1^0}} + {{H_3^0}}\\right) \\overline{{{H_L^+}}} - \\left(- i {{A_2^0}} + {{H_4^0}}\\right) \\left(- \\frac{k_{1} \\overline{{{G_R^+}}}}{v_{R}} + \\overline{{{H_R^+}}}\\right)\\right) - \\left(- {{G_L^+}} \\overline{{{H_L^+}}} + \\left(- i {{A_2^0}} + {{H_4^0}}\\right) \\left(\\frac{\\alpha_{13} k_{1} {{H_2^0}}}{2 \\rho_{1} v_{R}} + k_{1} - i {{G_{Z_1}}} + {{H_1^0}}\\right)\\right) \\overline{{{G_L^+}}}\\right) + \\left(i {{A_2^0}} + {{H_4^0}}\\right) \\left(\\left(- {{G_L^+}} \\overline{{{H_L^+}}} + \\left(- i {{A_2^0}} + {{H_4^0}}\\right) \\left(\\frac{\\alpha_{13} k_{1} {{H_2^0}}}{2 \\rho_{1} v_{R}} + k_{1} - i {{G_{Z_1}}} + {{H_1^0}}\\right)\\right) \\left(\\frac{\\alpha_{13} k_{1} {{H_2^0}}}{2 \\rho_{1} v_{R}} + k_{1} + i {{G_{Z_1}}} + {{H_1^0}}\\right) - \\left(\\left(- i {{A_1^0}} + {{H_3^0}}\\right) \\overline{{{H_L^+}}} - \\left(- i {{A_2^0}} + {{H_4^0}}\\right) \\left(- \\frac{k_{1} \\overline{{{G_R^+}}}}{v_{R}} + \\overline{{{H_R^+}}}\\right)\\right) \\left(- \\frac{k_{1} {{G_R^+}}}{v_{R}} + {{H_R^+}}\\right)\\right) + \\left(- {{G_L^+}} \\left(\\left(i {{A_1^0}} + {{H_3^0}}\\right) \\left(\\frac{k_{1} \\overline{{{H_R^+}}}}{v_{R}} + \\overline{{{G_R^+}}}\\right) - \\left(- \\frac{\\alpha_{13} k_{1} {{H_1^0}}}{2 \\rho_{1} v_{R}} + v_{R} - i {{G_{Z_2}}} + {{H_2^0}}\\right) \\overline{{{G_L^+}}}\\right) + \\left(- \\left(- \\frac{k_{1} {{G_R^+}}}{v_{R}} + {{H_R^+}}\\right) \\left(\\frac{k_{1} \\overline{{{H_R^+}}}}{v_{R}} + \\overline{{{G_R^+}}}\\right) + \\left(- \\frac{\\alpha_{13} k_{1} {{H_1^0}}}{2 \\rho_{1} v_{R}} + v_{R} - i {{G_{Z_2}}} + {{H_2^0}}\\right) \\left(\\frac{\\alpha_{13} k_{1} {{H_2^0}}}{2 \\rho_{1} v_{R}} + k_{1} + i {{G_{Z_1}}} + {{H_1^0}}\\right)\\right) \\left(\\frac{\\alpha_{13} k_{1} {{H_2^0}}}{2 \\rho_{1} v_{R}} + k_{1} - i {{G_{Z_1}}} + {{H_1^0}}\\right)\\right) \\left(- \\frac{\\alpha_{13} k_{1} {{H_1^0}}}{2 \\rho_{1} v_{R}} + v_{R} + i {{G_{Z_2}}} + {{H_2^0}}\\right) + \\left(\\left(- i {{A_1^0}} + {{H_3^0}}\\right) \\left(\\left(i {{A_1^0}} + {{H_3^0}}\\right) \\left(\\frac{k_{1} \\overline{{{H_R^+}}}}{v_{R}} + \\overline{{{G_R^+}}}\\right) - \\left(- \\frac{\\alpha_{13} k_{1} {{H_1^0}}}{2 \\rho_{1} v_{R}} + v_{R} - i {{G_{Z_2}}} + {{H_2^0}}\\right) \\overline{{{G_L^+}}}\\right) - \\left(- \\left(- \\frac{k_{1} {{G_R^+}}}{v_{R}} + {{H_R^+}}\\right) \\left(\\frac{k_{1} \\overline{{{H_R^+}}}}{v_{R}} + \\overline{{{G_R^+}}}\\right) + \\left(- \\frac{\\alpha_{13} k_{1} {{H_1^0}}}{2 \\rho_{1} v_{R}} + v_{R} - i {{G_{Z_2}}} + {{H_2^0}}\\right) \\left(\\frac{\\alpha_{13} k_{1} {{H_2^0}}}{2 \\rho_{1} v_{R}} + k_{1} + i {{G_{Z_1}}} + {{H_1^0}}\\right)\\right) \\left(- \\frac{k_{1} \\overline{{{G_R^+}}}}{v_{R}} + \\overline{{{H_R^+}}}\\right)\\right) \\left(\\frac{k_{1} {{H_R^+}}}{v_{R}} + {{G_R^+}}\\right)\\right) + \\lambda_{1} \\left({{G_L^+}} \\overline{{{G_L^+}}} + \\left(- i {{A_1^0}} + {{H_3^0}}\\right) \\left(i {{A_1^0}} + {{H_3^0}}\\right) + \\left(- \\frac{k_{1} {{G_R^+}}}{v_{R}} + {{H_R^+}}\\right) \\left(- \\frac{k_{1} \\overline{{{G_R^+}}}}{v_{R}} + \\overline{{{H_R^+}}}\\right) + \\left(\\frac{\\alpha_{13} k_{1} {{H_2^0}}}{2 \\rho_{1} v_{R}} + k_{1} - i {{G_{Z_1}}} + {{H_1^0}}\\right) \\left(\\frac{\\alpha_{13} k_{1} {{H_2^0}}}{2 \\rho_{1} v_{R}} + k_{1} + i {{G_{Z_1}}} + {{H_1^0}}\\right)\\right)^{2} + \\lambda_{2} \\left(2 \\left({{G_L^+}} \\left(i {{A_1^0}} + {{H_3^0}}\\right) + \\left(- \\frac{k_{1} {{G_R^+}}}{v_{R}} + {{H_R^+}}\\right) \\left(\\frac{\\alpha_{13} k_{1} {{H_2^0}}}{2 \\rho_{1} v_{R}} + k_{1} - i {{G_{Z_1}}} + {{H_1^0}}\\right)\\right) \\left(\\left(- i {{A_1^0}} + {{H_3^0}}\\right) \\overline{{{G_L^+}}} + \\left(- \\frac{k_{1} \\overline{{{G_R^+}}}}{v_{R}} + \\overline{{{H_R^+}}}\\right) \\left(\\frac{\\alpha_{13} k_{1} {{H_2^0}}}{2 \\rho_{1} v_{R}} + k_{1} + i {{G_{Z_1}}} + {{H_1^0}}\\right)\\right) + \\left({{G_L^+}} \\overline{{{G_L^+}}} + \\left(\\frac{\\alpha_{13} k_{1} {{H_2^0}}}{2 \\rho_{1} v_{R}} + k_{1} - i {{G_{Z_1}}} + {{H_1^0}}\\right) \\left(\\frac{\\alpha_{13} k_{1} {{H_2^0}}}{2 \\rho_{1} v_{R}} + k_{1} + i {{G_{Z_1}}} + {{H_1^0}}\\right)\\right)^{2} + \\left(\\left(- i {{A_1^0}} + {{H_3^0}}\\right) \\left(i {{A_1^0}} + {{H_3^0}}\\right) + \\left(- \\frac{k_{1} {{G_R^+}}}{v_{R}} + {{H_R^+}}\\right) \\left(- \\frac{k_{1} \\overline{{{G_R^+}}}}{v_{R}} + \\overline{{{H_R^+}}}\\right)\\right)^{2}\\right) + \\frac{\\lambda_{3} \\left(- 2 {{G_L^+}} \\left(- \\frac{k_{1} \\overline{{{G_R^+}}}}{v_{R}} + \\overline{{{H_R^+}}}\\right) + 2 \\left(- i {{A_1^0}} + {{H_3^0}}\\right) \\left(\\frac{\\alpha_{13} k_{1} {{H_2^0}}}{2 \\rho_{1} v_{R}} + k_{1} - i {{G_{Z_1}}} + {{H_1^0}}\\right) + 2 \\left(i {{A_1^0}} + {{H_3^0}}\\right) \\left(\\frac{\\alpha_{13} k_{1} {{H_2^0}}}{2 \\rho_{1} v_{R}} + k_{1} + i {{G_{Z_1}}} + {{H_1^0}}\\right) - 2 \\left(- \\frac{k_{1} {{G_R^+}}}{v_{R}} + {{H_R^+}}\\right) \\overline{{{G_L^+}}}\\right)^{2}}{2} + \\frac{\\lambda_{4} \\left(- 2 {{G_L^+}} \\left(- \\frac{k_{1} \\overline{{{G_R^+}}}}{v_{R}} + \\overline{{{H_R^+}}}\\right) + 2 \\left(- i {{A_1^0}} + {{H_3^0}}\\right) \\left(\\frac{\\alpha_{13} k_{1} {{H_2^0}}}{2 \\rho_{1} v_{R}} + k_{1} - i {{G_{Z_1}}} + {{H_1^0}}\\right) - 2 \\left(i {{A_1^0}} + {{H_3^0}}\\right) \\left(\\frac{\\alpha_{13} k_{1} {{H_2^0}}}{2 \\rho_{1} v_{R}} + k_{1} + i {{G_{Z_1}}} + {{H_1^0}}\\right) + 2 \\left(- \\frac{k_{1} {{G_R^+}}}{v_{R}} + {{H_R^+}}\\right) \\overline{{{G_L^+}}}\\right)^{2}}{2} + \\lambda_{5} \\left(\\left(- {{G_L^+}} \\left(i {{A_1^0}} + {{H_3^0}}\\right) - \\left(- \\frac{k_{1} {{G_R^+}}}{v_{R}} + {{H_R^+}}\\right) \\left(\\frac{\\alpha_{13} k_{1} {{H_2^0}}}{2 \\rho_{1} v_{R}} + k_{1} - i {{G_{Z_1}}} + {{H_1^0}}\\right)\\right) \\left(\\left(- i {{A_1^0}} + {{H_3^0}}\\right) \\overline{{{G_L^+}}} + \\left(- \\frac{k_{1} \\overline{{{G_R^+}}}}{v_{R}} + \\overline{{{H_R^+}}}\\right) \\left(\\frac{\\alpha_{13} k_{1} {{H_2^0}}}{2 \\rho_{1} v_{R}} + k_{1} + i {{G_{Z_1}}} + {{H_1^0}}\\right)\\right) + \\left({{G_L^+}} \\left(i {{A_1^0}} + {{H_3^0}}\\right) + \\left(- \\frac{k_{1} {{G_R^+}}}{v_{R}} + {{H_R^+}}\\right) \\left(\\frac{\\alpha_{13} k_{1} {{H_2^0}}}{2 \\rho_{1} v_{R}} + k_{1} - i {{G_{Z_1}}} + {{H_1^0}}\\right)\\right) \\left(- \\left(- i {{A_1^0}} + {{H_3^0}}\\right) \\overline{{{G_L^+}}} - \\left(- \\frac{k_{1} \\overline{{{G_R^+}}}}{v_{R}} + \\overline{{{H_R^+}}}\\right) \\left(\\frac{\\alpha_{13} k_{1} {{H_2^0}}}{2 \\rho_{1} v_{R}} + k_{1} + i {{G_{Z_1}}} + {{H_1^0}}\\right)\\right) + 2 \\left({{G_L^+}} \\overline{{{G_L^+}}} + \\left(\\frac{\\alpha_{13} k_{1} {{H_2^0}}}{2 \\rho_{1} v_{R}} + k_{1} - i {{G_{Z_1}}} + {{H_1^0}}\\right) \\left(\\frac{\\alpha_{13} k_{1} {{H_2^0}}}{2 \\rho_{1} v_{R}} + k_{1} + i {{G_{Z_1}}} + {{H_1^0}}\\right)\\right) \\left(\\left(- i {{A_1^0}} + {{H_3^0}}\\right) \\left(i {{A_1^0}} + {{H_3^0}}\\right) + \\left(- \\frac{k_{1} {{G_R^+}}}{v_{R}} + {{H_R^+}}\\right) \\left(- \\frac{k_{1} \\overline{{{G_R^+}}}}{v_{R}} + \\overline{{{H_R^+}}}\\right)\\right)\\right) + \\frac{\\lambda_{6} \\left(2 \\left(- {{G_L^+}} \\left(- \\frac{k_{1} \\overline{{{G_R^+}}}}{v_{R}} + \\overline{{{H_R^+}}}\\right) + \\left(- i {{A_1^0}} + {{H_3^0}}\\right) \\left(\\frac{\\alpha_{13} k_{1} {{H_2^0}}}{2 \\rho_{1} v_{R}} + k_{1} - i {{G_{Z_1}}} + {{H_1^0}}\\right)\\right)^{2} + 2 \\left(\\left(i {{A_1^0}} + {{H_3^0}}\\right) \\left(\\frac{\\alpha_{13} k_{1} {{H_2^0}}}{2 \\rho_{1} v_{R}} + k_{1} + i {{G_{Z_1}}} + {{H_1^0}}\\right) - \\left(- \\frac{k_{1} {{G_R^+}}}{v_{R}} + {{H_R^+}}\\right) \\overline{{{G_L^+}}}\\right)^{2}\\right)}{2} + \\rho_{1} \\left(\\left({{H_L^+}} \\overline{{{H_L^+}}} + \\left(- i {{A_2^0}} + {{H_4^0}}\\right) \\left(i {{A_2^0}} + {{H_4^0}}\\right)\\right)^{2} + \\left(\\left(\\frac{k_{1} {{H_R^+}}}{v_{R}} + {{G_R^+}}\\right) \\left(\\frac{k_{1} \\overline{{{H_R^+}}}}{v_{R}} + \\overline{{{G_R^+}}}\\right) + \\left(- \\frac{\\alpha_{13} k_{1} {{H_1^0}}}{2 \\rho_{1} v_{R}} + v_{R} - i {{G_{Z_2}}} + {{H_2^0}}\\right) \\left(- \\frac{\\alpha_{13} k_{1} {{H_1^0}}}{2 \\rho_{1} v_{R}} + v_{R} + i {{G_{Z_2}}} + {{H_2^0}}\\right)\\right)^{2}\\right) + \\rho_{2} \\left({{H_L^+}} \\overline{{{H_L^+}}} + \\left(- i {{A_2^0}} + {{H_4^0}}\\right) \\left(i {{A_2^0}} + {{H_4^0}}\\right)\\right) \\left(\\left(\\frac{k_{1} {{H_R^+}}}{v_{R}} + {{G_R^+}}\\right) \\left(\\frac{k_{1} \\overline{{{H_R^+}}}}{v_{R}} + \\overline{{{G_R^+}}}\\right) + \\left(- \\frac{\\alpha_{13} k_{1} {{H_1^0}}}{2 \\rho_{1} v_{R}} + v_{R} - i {{G_{Z_2}}} + {{H_2^0}}\\right) \\left(- \\frac{\\alpha_{13} k_{1} {{H_1^0}}}{2 \\rho_{1} v_{R}} + v_{R} + i {{G_{Z_2}}} + {{H_2^0}}\\right)\\right) - \\left(2 \\rho_{1} v_{R}^{2} + k_{1}^{2} \\left(\\alpha_{1} + \\alpha_{3}\\right)\\right) \\left({{H_L^+}} \\overline{{{H_L^+}}} + \\left(- i {{A_2^0}} + {{H_4^0}}\\right) \\left(i {{A_2^0}} + {{H_4^0}}\\right) + \\left(\\frac{k_{1} {{H_R^+}}}{v_{R}} + {{G_R^+}}\\right) \\left(\\frac{k_{1} \\overline{{{H_R^+}}}}{v_{R}} + \\overline{{{G_R^+}}}\\right) + \\left(- \\frac{\\alpha_{13} k_{1} {{H_1^0}}}{2 \\rho_{1} v_{R}} + v_{R} - i {{G_{Z_2}}} + {{H_2^0}}\\right) \\left(- \\frac{\\alpha_{13} k_{1} {{H_1^0}}}{2 \\rho_{1} v_{R}} + v_{R} + i {{G_{Z_2}}} + {{H_2^0}}\\right)\\right) - \\left(2 k_{1}^{2} \\left(\\lambda_{1} + \\lambda_{2}\\right) + v_{R}^{2} \\left(\\alpha_{1} + \\alpha_{3}\\right)\\right) \\left({{G_L^+}} \\overline{{{G_L^+}}} + \\left(- i {{A_1^0}} + {{H_3^0}}\\right) \\left(i {{A_1^0}} + {{H_3^0}}\\right) + \\left(- \\frac{k_{1} {{G_R^+}}}{v_{R}} + {{H_R^+}}\\right) \\left(- \\frac{k_{1} \\overline{{{G_R^+}}}}{v_{R}} + \\overline{{{H_R^+}}}\\right) + \\left(\\frac{\\alpha_{13} k_{1} {{H_2^0}}}{2 \\rho_{1} v_{R}} + k_{1} - i {{G_{Z_1}}} + {{H_1^0}}\\right) \\left(\\frac{\\alpha_{13} k_{1} {{H_2^0}}}{2 \\rho_{1} v_{R}} + k_{1} + i {{G_{Z_1}}} + {{H_1^0}}\\right)\\right)$"
      ],
      "text/plain": [
       "                                                                               ↪\n",
       "                                                                               ↪\n",
       "                                                                               ↪\n",
       "        ⎛                                                                      ↪\n",
       "        ⎜           __________                                                 ↪\n",
       "\\alpha₁⋅⎜{{G_L__+}}⋅{{G_L__+}} + (-ⅈ⋅{{A_1__0}} + {{H_3__0}})⋅(ⅈ⋅{{A_1__0}} +  ↪\n",
       "        ⎝                                                                      ↪\n",
       "\n",
       "↪                                                                              ↪\n",
       "↪                                                                              ↪\n",
       "↪                                                                              ↪\n",
       "↪                                              ⎛     __________             ⎞  ↪\n",
       "↪               ⎛  k₁⋅{{G_R__+}}             ⎞ ⎜  k₁⋅{{G_R__+}}   __________⎟  ↪\n",
       "↪ {{H_3__0}}) + ⎜- ───────────── + {{H_R__+}}⎟⋅⎜- ───────────── + {{H_R__+}}⎟  ↪\n",
       "↪               ⎝       v_R                  ⎠ ⎝       v_R                  ⎠  ↪\n",
       "\n",
       "↪                                                                              ↪\n",
       "↪                                                                              ↪\n",
       "↪                                                                              ↪\n",
       "↪                                                                              ↪\n",
       "↪   ⎛\\alpha_{13}⋅k₁⋅{{H_2__0}}                                  ⎞ ⎛\\alpha_{13} ↪\n",
       "↪ + ⎜───────────────────────── + k₁ - ⅈ⋅{{G_{Z_1}}} + {{H_1__0}}⎟⋅⎜─────────── ↪\n",
       "↪   ⎝       2⋅\\rho₁⋅v_R                                         ⎠ ⎝       2⋅\\r ↪\n",
       "\n",
       "↪                                                                              ↪\n",
       "↪                                                                              ↪\n",
       "↪                                                                              ↪\n",
       "↪                                                  ⎞ ⎛                         ↪\n",
       "↪ ⋅k₁⋅{{H_2__0}}                                  ⎞⎟ ⎜           __________    ↪\n",
       "↪ ────────────── + k₁ + ⅈ⋅{{G_{Z_1}}} + {{H_1__0}}⎟⎟⋅⎜{{H_L__+}}⋅{{H_L__+}} +  ↪\n",
       "↪ ho₁⋅v_R                                         ⎠⎠ ⎝                         ↪\n",
       "\n",
       "↪                                                                              ↪\n",
       "↪                                                                              ↪\n",
       "↪                                                                              ↪\n",
       "↪                                                                              ↪\n",
       "↪                                                            ⎛k₁⋅{{H_R__+}}    ↪\n",
       "↪ (-ⅈ⋅{{A_2__0}} + {{H_4__0}})⋅(ⅈ⋅{{A_2__0}} + {{H_4__0}}) + ⎜───────────── +  ↪\n",
       "↪                                                            ⎝     v_R         ↪\n",
       "\n",
       "↪                                                                              ↪\n",
       "↪                                                                              ↪\n",
       "↪                                                                              ↪\n",
       "↪             ⎛   __________             ⎞                                     ↪\n",
       "↪           ⎞ ⎜k₁⋅{{H_R__+}}   __________⎟   ⎛  \\alpha_{13}⋅k₁⋅{{H_1__0}}      ↪\n",
       "↪ {{G_R__+}}⎟⋅⎜───────────── + {{G_R__+}}⎟ + ⎜- ───────────────────────── + v_ ↪\n",
       "↪           ⎠ ⎝     v_R                  ⎠   ⎝         2⋅\\rho₁⋅v_R             ↪\n",
       "\n",
       "↪                                                                              ↪\n",
       "↪                                                                              ↪\n",
       "↪                                                                              ↪\n",
       "↪                                                                              ↪\n",
       "↪                               ⎞ ⎛  \\alpha_{13}⋅k₁⋅{{H_1__0}}                 ↪\n",
       "↪ R - ⅈ⋅{{G_{Z_2}}} + {{H_2__0}}⎟⋅⎜- ───────────────────────── + v_R + ⅈ⋅{{G_{ ↪\n",
       "↪                               ⎠ ⎝         2⋅\\rho₁⋅v_R                        ↪\n",
       "\n",
       "↪                                                                              ↪\n",
       "↪                                                                              ↪\n",
       "↪                                                                              ↪\n",
       "↪                     ⎞           ⎛           ⎛                                ↪\n",
       "↪                    ⎞⎟           ⎜           ⎜⎛                               ↪\n",
       "↪ Z_2}}} + {{H_2__0}}⎟⎟ + \\alpha₂⋅⎜{{H_L__+}}⋅⎜⎜(ⅈ⋅{{A_1__0}} + {{H_3__0}})⋅(- ↪\n",
       "↪                    ⎠⎠           ⎝           ⎝⎝                               ↪\n",
       "\n",
       "↪                                                                              ↪\n",
       "↪                                                                              ↪\n",
       "↪                                                                              ↪\n",
       "↪                                                                         ⎛    ↪\n",
       "↪                              ⎛  k₁⋅{{G_R__+}}             ⎞ __________⎞ ⎜  k ↪\n",
       "↪ ⅈ⋅{{A_2__0}} + {{H_4__0}}) + ⎜- ───────────── + {{H_R__+}}⎟⋅{{H_L__+}}⎟⋅⎜- ─ ↪\n",
       "↪                              ⎝       v_R                  ⎠           ⎠ ⎝    ↪\n",
       "\n",
       "↪                                                                              ↪\n",
       "↪                                                                              ↪\n",
       "↪                                                                              ↪\n",
       "↪   __________             ⎞                                                   ↪\n",
       "↪ ₁⋅{{G_R__+}}   __________⎟   ⎛                             __________   ⎛\\al ↪\n",
       "↪ ──────────── + {{H_R__+}}⎟ + ⎜(-ⅈ⋅{{A_2__0}} + {{H_4__0}})⋅{{G_L__+}} + ⎜─── ↪\n",
       "↪     v_R                  ⎠   ⎝                                          ⎝    ↪\n",
       "\n",
       "↪                                                                              ↪\n",
       "↪                                                                              ↪\n",
       "↪                                                                              ↪\n",
       "↪                                                                              ↪\n",
       "↪ pha_{13}⋅k₁⋅{{H_2__0}}                                  ⎞ __________⎞ ⎛\\alph ↪\n",
       "↪ ────────────────────── + k₁ + ⅈ⋅{{G_{Z_1}}} + {{H_1__0}}⎟⋅{{H_L__+}}⎟⋅⎜───── ↪\n",
       "↪     2⋅\\rho₁⋅v_R                                         ⎠           ⎠ ⎝      ↪\n",
       "\n",
       "↪                                                                              ↪\n",
       "↪                                                                              ↪\n",
       "↪                                                                              ↪\n",
       "↪                                                        ⎞                     ↪\n",
       "↪ a_{13}⋅k₁⋅{{H_2__0}}                                  ⎞⎟                     ↪\n",
       "↪ ──────────────────── + k₁ - ⅈ⋅{{G_{Z_1}}} + {{H_1__0}}⎟⎟ + (ⅈ⋅{{A_2__0}} + { ↪\n",
       "↪   2⋅\\rho₁⋅v_R                                         ⎠⎠                     ↪\n",
       "\n",
       "↪                                                                              ↪\n",
       "↪                                                                              ↪\n",
       "↪                                                                              ↪\n",
       "↪                                                                              ↪\n",
       "↪            ⎛           ⎛                             __________   ⎛\\alpha_{1 ↪\n",
       "↪ {H_4__0}})⋅⎜{{G_L__+}}⋅⎜(-ⅈ⋅{{A_2__0}} + {{H_4__0}})⋅{{G_L__+}} + ⎜───────── ↪\n",
       "↪            ⎝           ⎝                                          ⎝       2⋅ ↪\n",
       "\n",
       "↪                                                                              ↪\n",
       "↪                                                                              ↪\n",
       "↪                                                                              ↪\n",
       "↪                                                                              ↪\n",
       "↪ 3}⋅k₁⋅{{H_2__0}}                                  ⎞ __________⎞              ↪\n",
       "↪ ──────────────── + k₁ + ⅈ⋅{{G_{Z_1}}} + {{H_1__0}}⎟⋅{{H_L__+}}⎟ + (-ⅈ⋅{{A_1_ ↪\n",
       "↪ \\rho₁⋅v_R                                         ⎠           ⎠              ↪\n",
       "\n",
       "↪                                                                              ↪\n",
       "↪                                                                              ↪\n",
       "↪                                                                              ↪\n",
       "↪                                                                              ↪\n",
       "↪                    ⎛                                                         ↪\n",
       "↪ _0}} + {{H_3__0}})⋅⎜(ⅈ⋅{{A_1__0}} + {{H_3__0}})⋅(-ⅈ⋅{{A_2__0}} + {{H_4__0}}) ↪\n",
       "↪                    ⎝                                                         ↪\n",
       "\n",
       "↪                                                                              ↪\n",
       "↪                                                                              ↪\n",
       "↪                                                                              ↪\n",
       "↪                                                  ⎛                           ↪\n",
       "↪    ⎛  k₁⋅{{G_R__+}}             ⎞ __________⎞⎞   ⎜                           ↪\n",
       "↪  + ⎜- ───────────── + {{H_R__+}}⎟⋅{{H_L__+}}⎟⎟ + ⎜(ⅈ⋅{{A_1__0}} + {{H_3__0}} ↪\n",
       "↪    ⎝       v_R                  ⎠           ⎠⎠   ⎝                           ↪\n",
       "\n",
       "↪                                                                              ↪\n",
       "↪                                                                              ↪\n",
       "↪                                                                              ↪\n",
       "↪   ⎛           ⎛   __________             ⎞                                   ↪\n",
       "↪   ⎜           ⎜k₁⋅{{H_R__+}}   __________⎟                                ⎛  ↪\n",
       "↪ )⋅⎜{{G_L__+}}⋅⎜───────────── + {{G_R__+}}⎟ + (-ⅈ⋅{{A_1__0}} + {{H_3__0}})⋅⎜- ↪\n",
       "↪   ⎝           ⎝     v_R                  ⎠                                ⎝  ↪\n",
       "\n",
       "↪                                                                              ↪\n",
       "↪                                                                              ↪\n",
       "↪                                                                              ↪\n",
       "↪                                                               ⎞   ⎛⎛     ___ ↪\n",
       "↪  \\alpha_{13}⋅k₁⋅{{H_1__0}}                                   ⎞⎟   ⎜⎜  k₁⋅{{G ↪\n",
       "↪  ───────────────────────── + v_R - ⅈ⋅{{G_{Z_2}}} + {{H_2__0}}⎟⎟ + ⎜⎜- ────── ↪\n",
       "↪         2⋅\\rho₁⋅v_R                                          ⎠⎠   ⎝⎝       v ↪\n",
       "\n",
       "↪                                                                              ↪\n",
       "↪                                                                              ↪\n",
       "↪                                                                              ↪\n",
       "↪ _______             ⎞                                                        ↪\n",
       "↪ _R__+}}   __________⎟ ⎛  \\alpha_{13}⋅k₁⋅{{H_1__0}}                           ↪\n",
       "↪ ─────── + {{H_R__+}}⎟⋅⎜- ───────────────────────── + v_R - ⅈ⋅{{G_{Z_2}}} + { ↪\n",
       "↪ _R                  ⎠ ⎝         2⋅\\rho₁⋅v_R                                  ↪\n",
       "\n",
       "↪                                                                              ↪\n",
       "↪                                                                              ↪\n",
       "↪                                                                              ↪\n",
       "↪              ⎛   __________             ⎞                                    ↪\n",
       "↪          ⎞   ⎜k₁⋅{{H_R__+}}   __________⎟ ⎛\\alpha_{13}⋅k₁⋅{{H_2__0}}         ↪\n",
       "↪ {H_2__0}}⎟ + ⎜───────────── + {{G_R__+}}⎟⋅⎜───────────────────────── + k₁ -  ↪\n",
       "↪          ⎠   ⎝     v_R                  ⎠ ⎝       2⋅\\rho₁⋅v_R                ↪\n",
       "\n",
       "↪                                                                              ↪\n",
       "↪                                                                              ↪\n",
       "↪                                                                              ↪\n",
       "↪                            ⎞                               ⎞                 ↪\n",
       "↪                           ⎞⎟ ⎛  k₁⋅{{G_R__+}}             ⎞⎟ ⎛  \\alpha_{13}⋅ ↪\n",
       "↪ ⅈ⋅{{G_{Z_1}}} + {{H_1__0}}⎟⎟⋅⎜- ───────────── + {{H_R__+}}⎟⎟⋅⎜- ──────────── ↪\n",
       "↪                           ⎠⎠ ⎝       v_R                  ⎠⎠ ⎝         2⋅\\rh ↪\n",
       "\n",
       "↪                                                                              ↪\n",
       "↪                                                                              ↪\n",
       "↪                                                                              ↪\n",
       "↪                                                     ⎛⎛           ⎛   _______ ↪\n",
       "↪ k₁⋅{{H_1__0}}                                   ⎞   ⎜⎜           ⎜k₁⋅{{H_R__ ↪\n",
       "↪ ───────────── + v_R + ⅈ⋅{{G_{Z_2}}} + {{H_2__0}}⎟ + ⎜⎜{{G_L__+}}⋅⎜────────── ↪\n",
       "↪ o₁⋅v_R                                          ⎠   ⎝⎝           ⎝     v_R   ↪\n",
       "\n",
       "↪                                                                              ↪\n",
       "↪                                                                              ↪\n",
       "↪                                                                              ↪\n",
       "↪ ___             ⎞                                                            ↪\n",
       "↪ +}}   __________⎟                                ⎛  \\alpha_{13}⋅k₁⋅{{H_1__0} ↪\n",
       "↪ ─── + {{G_R__+}}⎟ + (-ⅈ⋅{{A_1__0}} + {{H_3__0}})⋅⎜- ──────────────────────── ↪\n",
       "↪                 ⎠                                ⎝         2⋅\\rho₁⋅v_R       ↪\n",
       "\n",
       "↪                                                                              ↪\n",
       "↪                                                                              ↪\n",
       "↪                                                                              ↪\n",
       "↪                                      ⎞              ⎛⎛     __________        ↪\n",
       "↪ }                                   ⎞⎟ __________   ⎜⎜  k₁⋅{{G_R__+}}   ____ ↪\n",
       "↪ ─ + v_R - ⅈ⋅{{G_{Z_2}}} + {{H_2__0}}⎟⎟⋅{{G_L__+}} + ⎜⎜- ───────────── + {{H_ ↪\n",
       "↪                                     ⎠⎠              ⎝⎝       v_R             ↪\n",
       "\n",
       "↪                                                                              ↪\n",
       "↪                                                                              ↪\n",
       "↪                                                                              ↪\n",
       "↪       ⎞                                                                    ⎛ ↪\n",
       "↪ ______⎟ ⎛  \\alpha_{13}⋅k₁⋅{{H_1__0}}                                   ⎞   ⎜ ↪\n",
       "↪ R__+}}⎟⋅⎜- ───────────────────────── + v_R - ⅈ⋅{{G_{Z_2}}} + {{H_2__0}}⎟ + ⎜ ↪\n",
       "↪       ⎠ ⎝         2⋅\\rho₁⋅v_R                                          ⎠   ⎝ ↪\n",
       "\n",
       "↪                                                                              ↪\n",
       "↪                                                                              ↪\n",
       "↪                                                                              ↪\n",
       "↪    __________             ⎞                                                  ↪\n",
       "↪ k₁⋅{{H_R__+}}   __________⎟ ⎛\\alpha_{13}⋅k₁⋅{{H_2__0}}                       ↪\n",
       "↪ ───────────── + {{G_R__+}}⎟⋅⎜───────────────────────── + k₁ - ⅈ⋅{{G_{Z_1}}}  ↪\n",
       "↪      v_R                  ⎠ ⎝       2⋅\\rho₁⋅v_R                              ↪\n",
       "\n",
       "↪                                                                              ↪\n",
       "↪                                                                              ↪\n",
       "↪                                                                              ↪\n",
       "↪              ⎞                                                               ↪\n",
       "↪             ⎞⎟ ⎛\\alpha_{13}⋅k₁⋅{{H_2__0}}                                  ⎞ ↪\n",
       "↪ + {{H_1__0}}⎟⎟⋅⎜───────────────────────── + k₁ + ⅈ⋅{{G_{Z_1}}} + {{H_1__0}}⎟ ↪\n",
       "↪             ⎠⎠ ⎝       2⋅\\rho₁⋅v_R                                         ⎠ ↪\n",
       "\n",
       "↪                                                                              ↪\n",
       "↪                                                                              ↪\n",
       "↪                                                                              ↪\n",
       "↪ ⎞                             ⎞           ⎛           ⎛                      ↪\n",
       "↪ ⎟ ⎛k₁⋅{{H_R__+}}             ⎞⎟           ⎜           ⎜                      ↪\n",
       "↪ ⎟⋅⎜───────────── + {{G_R__+}}⎟⎟ + \\alpha₃⋅⎜{{H_L__+}}⋅⎜(ⅈ⋅{{A_1__0}} + {{H_3 ↪\n",
       "↪ ⎠ ⎝     v_R                  ⎠⎠           ⎝           ⎝                      ↪\n",
       "\n",
       "↪                                                                              ↪\n",
       "↪                                                                              ↪\n",
       "↪                                                                              ↪\n",
       "↪        ⎛                                                                     ↪\n",
       "↪        ⎜                             __________                              ↪\n",
       "↪ __0}})⋅⎜(-ⅈ⋅{{A_1__0}} + {{H_3__0}})⋅{{H_L__+}} - (-ⅈ⋅{{A_2__0}} + {{H_4__0} ↪\n",
       "↪        ⎝                                                                     ↪\n",
       "\n",
       "↪                                                                              ↪\n",
       "↪                                                                              ↪\n",
       "↪                                                                              ↪\n",
       "↪    ⎛     __________             ⎞⎞                                           ↪\n",
       "↪    ⎜  k₁⋅{{G_R__+}}   __________⎟⎟   ⎛             __________                ↪\n",
       "↪ })⋅⎜- ───────────── + {{H_R__+}}⎟⎟ - ⎜- {{G_L__+}}⋅{{H_L__+}} + (-ⅈ⋅{{A_2__0 ↪\n",
       "↪    ⎝       v_R                  ⎠⎠   ⎝                                       ↪\n",
       "\n",
       "↪                                                                              ↪\n",
       "↪                                                                              ↪\n",
       "↪                                                                              ↪\n",
       "↪                                                                              ↪\n",
       "↪                  ⎛\\alpha_{13}⋅k₁⋅{{H_2__0}}                                  ↪\n",
       "↪ }} + {{H_4__0}})⋅⎜───────────────────────── + k₁ - ⅈ⋅{{G_{Z_1}}} + {{H_1__0} ↪\n",
       "↪                  ⎝       2⋅\\rho₁⋅v_R                                         ↪\n",
       "\n",
       "↪                                                                              ↪\n",
       "↪                                                                              ↪\n",
       "↪                                                                              ↪\n",
       "↪               ⎞                               ⎛                              ↪\n",
       "↪  ⎞⎞ __________⎟                               ⎜⎛             __________      ↪\n",
       "↪ }⎟⎟⋅{{G_L__+}}⎟ + (ⅈ⋅{{A_2__0}} + {{H_4__0}})⋅⎜⎜- {{G_L__+}}⋅{{H_L__+}} + (- ↪\n",
       "↪  ⎠⎠           ⎠                               ⎝⎝                             ↪\n",
       "\n",
       "↪                                                                              ↪\n",
       "↪                                                                              ↪\n",
       "↪                                                                              ↪\n",
       "↪                                                                              ↪\n",
       "↪                            ⎛\\alpha_{13}⋅k₁⋅{{H_2__0}}                        ↪\n",
       "↪ ⅈ⋅{{A_2__0}} + {{H_4__0}})⋅⎜───────────────────────── + k₁ - ⅈ⋅{{G_{Z_1}}} + ↪\n",
       "↪                            ⎝       2⋅\\rho₁⋅v_R                               ↪\n",
       "\n",
       "↪                                                                              ↪\n",
       "↪                                                                              ↪\n",
       "↪                                                                              ↪\n",
       "↪                                                                              ↪\n",
       "↪            ⎞⎞ ⎛\\alpha_{13}⋅k₁⋅{{H_2__0}}                                  ⎞  ↪\n",
       "↪  {{H_1__0}}⎟⎟⋅⎜───────────────────────── + k₁ + ⅈ⋅{{G_{Z_1}}} + {{H_1__0}}⎟  ↪\n",
       "↪            ⎠⎠ ⎝       2⋅\\rho₁⋅v_R                                         ⎠  ↪\n",
       "\n",
       "↪                                                                              ↪\n",
       "↪                                                                              ↪\n",
       "↪                                                                              ↪\n",
       "↪   ⎛                                                                       ⎛  ↪\n",
       "↪   ⎜                             __________                                ⎜  ↪\n",
       "↪ - ⎜(-ⅈ⋅{{A_1__0}} + {{H_3__0}})⋅{{H_L__+}} - (-ⅈ⋅{{A_2__0}} + {{H_4__0}})⋅⎜- ↪\n",
       "↪   ⎝                                                                       ⎝  ↪\n",
       "\n",
       "↪                                                                              ↪\n",
       "↪                                                                              ↪\n",
       "↪                                                                              ↪\n",
       "↪     __________             ⎞⎞                               ⎞   ⎛            ↪\n",
       "↪  k₁⋅{{G_R__+}}   __________⎟⎟ ⎛  k₁⋅{{G_R__+}}             ⎞⎟   ⎜            ↪\n",
       "↪  ───────────── + {{H_R__+}}⎟⎟⋅⎜- ───────────── + {{H_R__+}}⎟⎟ + ⎜- {{G_L__+} ↪\n",
       "↪       v_R                  ⎠⎠ ⎝       v_R                  ⎠⎠   ⎝            ↪\n",
       "\n",
       "↪                                                                              ↪\n",
       "↪                                                                              ↪\n",
       "↪                                                                              ↪\n",
       "↪   ⎛                            ⎛   __________             ⎞                  ↪\n",
       "↪   ⎜                            ⎜k₁⋅{{H_R__+}}   __________⎟   ⎛  \\alpha_{13} ↪\n",
       "↪ }⋅⎜(ⅈ⋅{{A_1__0}} + {{H_3__0}})⋅⎜───────────── + {{G_R__+}}⎟ - ⎜- ─────────── ↪\n",
       "↪   ⎝                            ⎝     v_R                  ⎠   ⎝         2⋅\\r ↪\n",
       "\n",
       "↪                                                                              ↪\n",
       "↪                                                                              ↪\n",
       "↪                                                                              ↪\n",
       "↪                                                              ⎞   ⎛           ↪\n",
       "↪ ⋅k₁⋅{{H_1__0}}                                   ⎞ __________⎟   ⎜  ⎛  k₁⋅{{ ↪\n",
       "↪ ────────────── + v_R - ⅈ⋅{{G_{Z_2}}} + {{H_2__0}}⎟⋅{{G_L__+}}⎟ + ⎜- ⎜- ───── ↪\n",
       "↪ ho₁⋅v_R                                          ⎠           ⎠   ⎝  ⎝        ↪\n",
       "\n",
       "↪                                                                              ↪\n",
       "↪                                                                              ↪\n",
       "↪                                                                              ↪\n",
       "↪                        ⎛   __________             ⎞                          ↪\n",
       "↪ G_R__+}}             ⎞ ⎜k₁⋅{{H_R__+}}   __________⎟   ⎛  \\alpha_{13}⋅k₁⋅{{H_ ↪\n",
       "↪ ──────── + {{H_R__+}}⎟⋅⎜───────────── + {{G_R__+}}⎟ + ⎜- ─────────────────── ↪\n",
       "↪ v_R                  ⎠ ⎝     v_R                  ⎠   ⎝         2⋅\\rho₁⋅v_R  ↪\n",
       "\n",
       "↪                                                                              ↪\n",
       "↪                                                                              ↪\n",
       "↪                                                                              ↪\n",
       "↪                                                                              ↪\n",
       "↪ 1__0}}                                   ⎞ ⎛\\alpha_{13}⋅k₁⋅{{H_2__0}}        ↪\n",
       "↪ ────── + v_R - ⅈ⋅{{G_{Z_2}}} + {{H_2__0}}⎟⋅⎜───────────────────────── + k₁ + ↪\n",
       "↪                                          ⎠ ⎝       2⋅\\rho₁⋅v_R               ↪\n",
       "\n",
       "↪                                                                              ↪\n",
       "↪                                                                              ↪\n",
       "↪                                                                              ↪\n",
       "↪                             ⎞                                                ↪\n",
       "↪                            ⎞⎟ ⎛\\alpha_{13}⋅k₁⋅{{H_2__0}}                     ↪\n",
       "↪  ⅈ⋅{{G_{Z_1}}} + {{H_1__0}}⎟⎟⋅⎜───────────────────────── + k₁ - ⅈ⋅{{G_{Z_1}} ↪\n",
       "↪                            ⎠⎠ ⎝       2⋅\\rho₁⋅v_R                            ↪\n",
       "\n",
       "↪                                                                              ↪\n",
       "↪                                                                              ↪\n",
       "↪                                                                              ↪\n",
       "↪                ⎞                                                             ↪\n",
       "↪               ⎞⎟ ⎛  \\alpha_{13}⋅k₁⋅{{H_1__0}}                                ↪\n",
       "↪ } + {{H_1__0}}⎟⎟⋅⎜- ───────────────────────── + v_R + ⅈ⋅{{G_{Z_2}}} + {{H_2_ ↪\n",
       "↪               ⎠⎠ ⎝         2⋅\\rho₁⋅v_R                                       ↪\n",
       "\n",
       "↪                                                                              ↪\n",
       "↪                                                                              ↪\n",
       "↪                                                                              ↪\n",
       "↪         ⎛                             ⎛                            ⎛   _____ ↪\n",
       "↪     ⎞   ⎜                             ⎜                            ⎜k₁⋅{{H_R ↪\n",
       "↪ _0}}⎟ + ⎜(-ⅈ⋅{{A_1__0}} + {{H_3__0}})⋅⎜(ⅈ⋅{{A_1__0}} + {{H_3__0}})⋅⎜──────── ↪\n",
       "↪     ⎠   ⎝                             ⎝                            ⎝     v_R ↪\n",
       "\n",
       "↪                                                                              ↪\n",
       "↪                                                                              ↪\n",
       "↪                                                                              ↪\n",
       "↪ _____             ⎞                                                          ↪\n",
       "↪ __+}}   __________⎟   ⎛  \\alpha_{13}⋅k₁⋅{{H_1__0}}                           ↪\n",
       "↪ ───── + {{G_R__+}}⎟ - ⎜- ───────────────────────── + v_R - ⅈ⋅{{G_{Z_2}}} + { ↪\n",
       "↪                   ⎠   ⎝         2⋅\\rho₁⋅v_R                                  ↪\n",
       "\n",
       "↪                                                                              ↪\n",
       "↪                                                                              ↪\n",
       "↪                                                                              ↪\n",
       "↪                      ⎞   ⎛                                 ⎛   __________    ↪\n",
       "↪          ⎞ __________⎟   ⎜  ⎛  k₁⋅{{G_R__+}}             ⎞ ⎜k₁⋅{{H_R__+}}    ↪\n",
       "↪ {H_2__0}}⎟⋅{{G_L__+}}⎟ - ⎜- ⎜- ───────────── + {{H_R__+}}⎟⋅⎜───────────── +  ↪\n",
       "↪          ⎠           ⎠   ⎝  ⎝       v_R                  ⎠ ⎝     v_R         ↪\n",
       "\n",
       "↪                                                                              ↪\n",
       "↪                                                                              ↪\n",
       "↪                                                                              ↪\n",
       "↪           ⎞                                                                  ↪\n",
       "↪ __________⎟   ⎛  \\alpha_{13}⋅k₁⋅{{H_1__0}}                                   ↪\n",
       "↪ {{G_R__+}}⎟ + ⎜- ───────────────────────── + v_R - ⅈ⋅{{G_{Z_2}}} + {{H_2__0} ↪\n",
       "↪           ⎠   ⎝         2⋅\\rho₁⋅v_R                                          ↪\n",
       "\n",
       "↪                                                                              ↪\n",
       "↪                                                                              ↪\n",
       "↪                                                                              ↪\n",
       "↪                                                                 ⎞ ⎛     ____ ↪\n",
       "↪  ⎞ ⎛\\alpha_{13}⋅k₁⋅{{H_2__0}}                                  ⎞⎟ ⎜  k₁⋅{{G_ ↪\n",
       "↪ }⎟⋅⎜───────────────────────── + k₁ + ⅈ⋅{{G_{Z_1}}} + {{H_1__0}}⎟⎟⋅⎜- ─────── ↪\n",
       "↪  ⎠ ⎝       2⋅\\rho₁⋅v_R                                         ⎠⎠ ⎝       v_ ↪\n",
       "\n",
       "↪                                                                              ↪\n",
       "↪                                                                              ↪\n",
       "↪                                                                              ↪\n",
       "↪ ______             ⎞⎞                             ⎞            ⎛             ↪\n",
       "↪ R__+}}   __________⎟⎟ ⎛k₁⋅{{H_R__+}}             ⎞⎟            ⎜           _ ↪\n",
       "↪ ────── + {{H_R__+}}⎟⎟⋅⎜───────────── + {{G_R__+}}⎟⎟ + \\lambda₁⋅⎜{{G_L__+}}⋅{ ↪\n",
       "↪ R                  ⎠⎠ ⎝     v_R                  ⎠⎠            ⎝             ↪\n",
       "\n",
       "↪                                                                              ↪\n",
       "↪                                                                              ↪\n",
       "↪                                                                              ↪\n",
       "↪                                                                              ↪\n",
       "↪ _________                                                              ⎛  k₁ ↪\n",
       "↪ {G_L__+}} + (-ⅈ⋅{{A_1__0}} + {{H_3__0}})⋅(ⅈ⋅{{A_1__0}} + {{H_3__0}}) + ⎜- ── ↪\n",
       "↪                                                                        ⎝     ↪\n",
       "\n",
       "↪                                                                              ↪\n",
       "↪                                                                              ↪\n",
       "↪                                                                              ↪\n",
       "↪                           ⎛     __________             ⎞                     ↪\n",
       "↪ ⋅{{G_R__+}}             ⎞ ⎜  k₁⋅{{G_R__+}}   __________⎟   ⎛\\alpha_{13}⋅k₁⋅{ ↪\n",
       "↪ ─────────── + {{H_R__+}}⎟⋅⎜- ───────────── + {{H_R__+}}⎟ + ⎜──────────────── ↪\n",
       "↪    v_R                  ⎠ ⎝       v_R                  ⎠   ⎝       2⋅\\rho₁⋅v ↪\n",
       "\n",
       "↪                                                                              ↪\n",
       "↪                                                                              ↪\n",
       "↪                                                                              ↪\n",
       "↪                                                                              ↪\n",
       "↪ {H_2__0}}                                  ⎞ ⎛\\alpha_{13}⋅k₁⋅{{H_2__0}}      ↪\n",
       "↪ ───────── + k₁ - ⅈ⋅{{G_{Z_1}}} + {{H_1__0}}⎟⋅⎜───────────────────────── + k₁ ↪\n",
       "↪ _R                                         ⎠ ⎝       2⋅\\rho₁⋅v_R             ↪\n",
       "\n",
       "↪                                                                              ↪\n",
       "↪                                                                              ↪\n",
       "↪                                2            ⎛                                ↪\n",
       "↪                               ⎞             ⎜                                ↪\n",
       "↪                              ⎞⎟             ⎜  ⎛                             ↪\n",
       "↪  + ⅈ⋅{{G_{Z_1}}} + {{H_1__0}}⎟⎟  + \\lambda₂⋅⎜2⋅⎜{{G_L__+}}⋅(ⅈ⋅{{A_1__0}} + { ↪\n",
       "↪                              ⎠⎠             ⎝  ⎝                             ↪\n",
       "\n",
       "↪                                                                              ↪\n",
       "↪                                                                              ↪\n",
       "↪                                                                              ↪\n",
       "↪                                                                              ↪\n",
       "↪              ⎛  k₁⋅{{G_R__+}}             ⎞ ⎛\\alpha_{13}⋅k₁⋅{{H_2__0}}       ↪\n",
       "↪ {H_3__0}}) + ⎜- ───────────── + {{H_R__+}}⎟⋅⎜───────────────────────── + k₁  ↪\n",
       "↪              ⎝       v_R                  ⎠ ⎝       2⋅\\rho₁⋅v_R              ↪\n",
       "\n",
       "↪                                                                              ↪\n",
       "↪                                                                              ↪\n",
       "↪                                                                              ↪\n",
       "↪                                ⎛                                          ⎛  ↪\n",
       "↪                             ⎞⎞ ⎜                             __________   ⎜  ↪\n",
       "↪ - ⅈ⋅{{G_{Z_1}}} + {{H_1__0}}⎟⎟⋅⎜(-ⅈ⋅{{A_1__0}} + {{H_3__0}})⋅{{G_L__+}} + ⎜- ↪\n",
       "↪                             ⎠⎠ ⎝                                          ⎝  ↪\n",
       "\n",
       "↪                                                                              ↪\n",
       "↪                                                                              ↪\n",
       "↪                                                                              ↪\n",
       "↪     __________             ⎞                                                 ↪\n",
       "↪  k₁⋅{{G_R__+}}   __________⎟ ⎛\\alpha_{13}⋅k₁⋅{{H_2__0}}                      ↪\n",
       "↪  ───────────── + {{H_R__+}}⎟⋅⎜───────────────────────── + k₁ + ⅈ⋅{{G_{Z_1}}} ↪\n",
       "↪       v_R                  ⎠ ⎝       2⋅\\rho₁⋅v_R                             ↪\n",
       "\n",
       "↪                                                                              ↪\n",
       "↪                                                                              ↪\n",
       "↪                                                                              ↪\n",
       "↪               ⎞                                                              ↪\n",
       "↪              ⎞⎟   ⎛           __________   ⎛\\alpha_{13}⋅k₁⋅{{H_2__0}}        ↪\n",
       "↪  + {{H_1__0}}⎟⎟ + ⎜{{G_L__+}}⋅{{G_L__+}} + ⎜───────────────────────── + k₁ - ↪\n",
       "↪              ⎠⎠   ⎝                        ⎝       2⋅\\rho₁⋅v_R               ↪\n",
       "\n",
       "↪                                                                              ↪\n",
       "↪                                                                              ↪\n",
       "↪                                                                              ↪\n",
       "↪                                                                              ↪\n",
       "↪                            ⎞ ⎛\\alpha_{13}⋅k₁⋅{{H_2__0}}                      ↪\n",
       "↪  ⅈ⋅{{G_{Z_1}}} + {{H_1__0}}⎟⋅⎜───────────────────────── + k₁ + ⅈ⋅{{G_{Z_1}}} ↪\n",
       "↪                            ⎠ ⎝       2⋅\\rho₁⋅v_R                             ↪\n",
       "\n",
       "↪                                                                              ↪\n",
       "↪                                                                              ↪\n",
       "↪                                                                              ↪\n",
       "↪                2   ⎛                                                         ↪\n",
       "↪              ⎞⎞    ⎜                                                         ↪\n",
       "↪  + {{H_1__0}}⎟⎟  + ⎜(-ⅈ⋅{{A_1__0}} + {{H_3__0}})⋅(ⅈ⋅{{A_1__0}} + {{H_3__0}}) ↪\n",
       "↪              ⎠⎠    ⎝                                                         ↪\n",
       "\n",
       "↪                                                                              ↪\n",
       "↪                                                                              ↪\n",
       "↪                                                                  2⎞          ↪\n",
       "↪                                   ⎛     __________             ⎞⎞ ⎟   \\lambd ↪\n",
       "↪    ⎛  k₁⋅{{G_R__+}}             ⎞ ⎜  k₁⋅{{G_R__+}}   __________⎟⎟ ⎟          ↪\n",
       "↪  + ⎜- ───────────── + {{H_R__+}}⎟⋅⎜- ───────────── + {{H_R__+}}⎟⎟ ⎟ + ────── ↪\n",
       "↪    ⎝       v_R                  ⎠ ⎝       v_R                  ⎠⎠ ⎠          ↪\n",
       "\n",
       "↪                                                                              ↪\n",
       "↪    ⎛               ⎛     __________             ⎞                            ↪\n",
       "↪    ⎜               ⎜  k₁⋅{{G_R__+}}   __________⎟                            ↪\n",
       "↪ a₃⋅⎜- 2⋅{{G_L__+}}⋅⎜- ───────────── + {{H_R__+}}⎟ + 2⋅(-ⅈ⋅{{A_1__0}} + {{H_3 ↪\n",
       "↪    ⎝               ⎝       v_R                  ⎠                            ↪\n",
       "↪ ──────────────────────────────────────────────────────────────────────────── ↪\n",
       "↪                                                                              ↪\n",
       "\n",
       "↪                                                                              ↪\n",
       "↪                                                                              ↪\n",
       "↪        ⎛\\alpha_{13}⋅k₁⋅{{H_2__0}}                                  ⎞         ↪\n",
       "↪ __0}})⋅⎜───────────────────────── + k₁ - ⅈ⋅{{G_{Z_1}}} + {{H_1__0}}⎟ + 2⋅(ⅈ⋅ ↪\n",
       "↪        ⎝       2⋅\\rho₁⋅v_R                                         ⎠         ↪\n",
       "↪ ──────────────────────────────────────────────────────────────────────────── ↪\n",
       "↪                                                                2             ↪\n",
       "\n",
       "↪                                                                              ↪\n",
       "↪                                                                              ↪\n",
       "↪                          ⎛\\alpha_{13}⋅k₁⋅{{H_2__0}}                          ↪\n",
       "↪ {{A_1__0}} + {{H_3__0}})⋅⎜───────────────────────── + k₁ + ⅈ⋅{{G_{Z_1}}} + { ↪\n",
       "↪                          ⎝       2⋅\\rho₁⋅v_R                                 ↪\n",
       "↪ ──────────────────────────────────────────────────────────────────────────── ↪\n",
       "↪                                                                              ↪\n",
       "\n",
       "↪                                                          2                   ↪\n",
       "↪                                                         ⎞             ⎛      ↪\n",
       "↪          ⎞     ⎛  k₁⋅{{G_R__+}}             ⎞ __________⎟             ⎜      ↪\n",
       "↪ {H_1__0}}⎟ - 2⋅⎜- ───────────── + {{H_R__+}}⎟⋅{{G_L__+}}⎟    \\lambda₄⋅⎜- 2⋅{ ↪\n",
       "↪          ⎠     ⎝       v_R                  ⎠           ⎠             ⎝      ↪\n",
       "↪ ────────────────────────────────────────────────────────── + ─────────────── ↪\n",
       "↪                                                                              ↪\n",
       "\n",
       "↪                                                                              ↪\n",
       "↪           ⎛     __________             ⎞                                     ↪\n",
       "↪           ⎜  k₁⋅{{G_R__+}}   __________⎟                                  ⎛\\ ↪\n",
       "↪ {G_L__+}}⋅⎜- ───────────── + {{H_R__+}}⎟ + 2⋅(-ⅈ⋅{{A_1__0}} + {{H_3__0}})⋅⎜─ ↪\n",
       "↪           ⎝       v_R                  ⎠                                  ⎝  ↪\n",
       "↪ ──────────────────────────────────────────────────────────────────────────── ↪\n",
       "↪                                                                              ↪\n",
       "\n",
       "↪                                                                              ↪\n",
       "↪                                                                              ↪\n",
       "↪ alpha_{13}⋅k₁⋅{{H_2__0}}                                  ⎞                  ↪\n",
       "↪ ──────────────────────── + k₁ - ⅈ⋅{{G_{Z_1}}} + {{H_1__0}}⎟ - 2⋅(ⅈ⋅{{A_1__0} ↪\n",
       "↪       2⋅\\rho₁⋅v_R                                         ⎠                  ↪\n",
       "↪ ──────────────────────────────────────────────────────────────────────────── ↪\n",
       "↪                                                       2                      ↪\n",
       "\n",
       "↪                                                                              ↪\n",
       "↪                                                                              ↪\n",
       "↪                 ⎛\\alpha_{13}⋅k₁⋅{{H_2__0}}                                   ↪\n",
       "↪ } + {{H_3__0}})⋅⎜───────────────────────── + k₁ + ⅈ⋅{{G_{Z_1}}} + {{H_1__0}} ↪\n",
       "↪                 ⎝       2⋅\\rho₁⋅v_R                                          ↪\n",
       "↪ ──────────────────────────────────────────────────────────────────────────── ↪\n",
       "↪                                                                              ↪\n",
       "\n",
       "↪                                                 2                            ↪\n",
       "↪                                                ⎞                             ↪\n",
       "↪ ⎞     ⎛  k₁⋅{{G_R__+}}             ⎞ __________⎟                             ↪\n",
       "↪ ⎟ + 2⋅⎜- ───────────── + {{H_R__+}}⎟⋅{{G_L__+}}⎟             ⎛               ↪\n",
       "↪ ⎠     ⎝       v_R                  ⎠           ⎠             ⎜⎛              ↪\n",
       "↪ ───────────────────────────────────────────────── + \\lambda₅⋅⎜⎜-{{G_L__+}}⋅( ↪\n",
       "↪                                                              ⎝⎝              ↪\n",
       "\n",
       "↪                                                                              ↪\n",
       "↪                                                                              ↪\n",
       "↪                                                                              ↪\n",
       "↪                                                                              ↪\n",
       "↪                              ⎛  k₁⋅{{G_R__+}}             ⎞ ⎛\\alpha_{13}⋅k₁⋅ ↪\n",
       "↪ ⅈ⋅{{A_1__0}} + {{H_3__0}}) - ⎜- ───────────── + {{H_R__+}}⎟⋅⎜─────────────── ↪\n",
       "↪                              ⎝       v_R                  ⎠ ⎝       2⋅\\rho₁⋅ ↪\n",
       "\n",
       "↪                                                                              ↪\n",
       "↪                                                                              ↪\n",
       "↪                                                                              ↪\n",
       "↪                                                ⎛                             ↪\n",
       "↪ {{H_2__0}}                                  ⎞⎞ ⎜                             ↪\n",
       "↪ ────────── + k₁ - ⅈ⋅{{G_{Z_1}}} + {{H_1__0}}⎟⎟⋅⎜(-ⅈ⋅{{A_1__0}} + {{H_3__0}}) ↪\n",
       "↪ v_R                                         ⎠⎠ ⎝                             ↪\n",
       "\n",
       "↪                                                                              ↪\n",
       "↪                                                                              ↪\n",
       "↪                                                                              ↪\n",
       "↪               ⎛     __________             ⎞                                 ↪\n",
       "↪  __________   ⎜  k₁⋅{{G_R__+}}   __________⎟ ⎛\\alpha_{13}⋅k₁⋅{{H_2__0}}      ↪\n",
       "↪ ⋅{{G_L__+}} + ⎜- ───────────── + {{H_R__+}}⎟⋅⎜───────────────────────── + k₁ ↪\n",
       "↪               ⎝       v_R                  ⎠ ⎝       2⋅\\rho₁⋅v_R             ↪\n",
       "\n",
       "↪                                                                              ↪\n",
       "↪                                                                              ↪\n",
       "↪                                                                              ↪\n",
       "↪                               ⎞                                              ↪\n",
       "↪                              ⎞⎟   ⎛                                          ↪\n",
       "↪  + ⅈ⋅{{G_{Z_1}}} + {{H_1__0}}⎟⎟ + ⎜{{G_L__+}}⋅(ⅈ⋅{{A_1__0}} + {{H_3__0}}) +  ↪\n",
       "↪                              ⎠⎠   ⎝                                          ↪\n",
       "\n",
       "↪                                                                              ↪\n",
       "↪                                                                              ↪\n",
       "↪                                                                              ↪\n",
       "↪                                                                              ↪\n",
       "↪ ⎛  k₁⋅{{G_R__+}}             ⎞ ⎛\\alpha_{13}⋅k₁⋅{{H_2__0}}                    ↪\n",
       "↪ ⎜- ───────────── + {{H_R__+}}⎟⋅⎜───────────────────────── + k₁ - ⅈ⋅{{G_{Z_1} ↪\n",
       "↪ ⎝       v_R                  ⎠ ⎝       2⋅\\rho₁⋅v_R                           ↪\n",
       "\n",
       "↪                                                                              ↪\n",
       "↪                                                                              ↪\n",
       "↪                                                                              ↪\n",
       "↪                   ⎛                                            ⎛     _______ ↪\n",
       "↪                ⎞⎞ ⎜                               __________   ⎜  k₁⋅{{G_R__ ↪\n",
       "↪ }} + {{H_1__0}}⎟⎟⋅⎜- (-ⅈ⋅{{A_1__0}} + {{H_3__0}})⋅{{G_L__+}} - ⎜- ────────── ↪\n",
       "↪                ⎠⎠ ⎝                                            ⎝       v_R   ↪\n",
       "\n",
       "↪                                                                              ↪\n",
       "↪                                                                              ↪\n",
       "↪                                                                              ↪\n",
       "↪ ___             ⎞                                                            ↪\n",
       "↪ +}}   __________⎟ ⎛\\alpha_{13}⋅k₁⋅{{H_2__0}}                                 ↪\n",
       "↪ ─── + {{H_R__+}}⎟⋅⎜───────────────────────── + k₁ + ⅈ⋅{{G_{Z_1}}} + {{H_1__0 ↪\n",
       "↪                 ⎠ ⎝       2⋅\\rho₁⋅v_R                                        ↪\n",
       "\n",
       "↪                                                                              ↪\n",
       "↪                                                                              ↪\n",
       "↪                                                                              ↪\n",
       "↪    ⎞                                                                         ↪\n",
       "↪   ⎞⎟     ⎛           __________   ⎛\\alpha_{13}⋅k₁⋅{{H_2__0}}                 ↪\n",
       "↪ }}⎟⎟ + 2⋅⎜{{G_L__+}}⋅{{G_L__+}} + ⎜───────────────────────── + k₁ - ⅈ⋅{{G_{Z ↪\n",
       "↪   ⎠⎠     ⎝                        ⎝       2⋅\\rho₁⋅v_R                        ↪\n",
       "\n",
       "↪                                                                              ↪\n",
       "↪                                                                              ↪\n",
       "↪                                                                              ↪\n",
       "↪                                                                              ↪\n",
       "↪                   ⎞ ⎛\\alpha_{13}⋅k₁⋅{{H_2__0}}                               ↪\n",
       "↪ _1}}} + {{H_1__0}}⎟⋅⎜───────────────────────── + k₁ + ⅈ⋅{{G_{Z_1}}} + {{H_1_ ↪\n",
       "↪                   ⎠ ⎝       2⋅\\rho₁⋅v_R                                      ↪\n",
       "\n",
       "↪                                                                              ↪\n",
       "↪                                                                              ↪\n",
       "↪                                                                              ↪\n",
       "↪        ⎛                                                                     ↪\n",
       "↪     ⎞⎞ ⎜                                                           ⎛  k₁⋅{{G ↪\n",
       "↪ _0}}⎟⎟⋅⎜(-ⅈ⋅{{A_1__0}} + {{H_3__0}})⋅(ⅈ⋅{{A_1__0}} + {{H_3__0}}) + ⎜- ────── ↪\n",
       "↪     ⎠⎠ ⎝                                                           ⎝       v ↪\n",
       "\n",
       "↪                                                                   ⎛          ↪\n",
       "↪                                                                   ⎜  ⎛       ↪\n",
       "↪                                                                   ⎜  ⎜       ↪\n",
       "↪                       ⎛     __________             ⎞⎞⎞   \\lambda₆⋅⎜2⋅⎜- {{G_ ↪\n",
       "↪ _R__+}}             ⎞ ⎜  k₁⋅{{G_R__+}}   __________⎟⎟⎟            ⎝  ⎝       ↪\n",
       "↪ ─────── + {{H_R__+}}⎟⋅⎜- ───────────── + {{H_R__+}}⎟⎟⎟ + ─────────────────── ↪\n",
       "↪ _R                  ⎠ ⎝       v_R                  ⎠⎠⎠                       ↪\n",
       "\n",
       "↪                                                                              ↪\n",
       "↪        ⎛     __________             ⎞                                        ↪\n",
       "↪        ⎜  k₁⋅{{G_R__+}}   __________⎟                                ⎛\\alpha ↪\n",
       "↪ L__+}}⋅⎜- ───────────── + {{H_R__+}}⎟ + (-ⅈ⋅{{A_1__0}} + {{H_3__0}})⋅⎜────── ↪\n",
       "↪        ⎝       v_R                  ⎠                                ⎝       ↪\n",
       "↪ ──────────────────────────────────────────────────────────────────────────── ↪\n",
       "↪                                                                              ↪\n",
       "\n",
       "↪                                                        2                     ↪\n",
       "↪                                                       ⎞                      ↪\n",
       "↪ _{13}⋅k₁⋅{{H_2__0}}                                  ⎞⎟      ⎛               ↪\n",
       "↪ ─────────────────── + k₁ - ⅈ⋅{{G_{Z_1}}} + {{H_1__0}}⎟⎟  + 2⋅⎜(ⅈ⋅{{A_1__0}}  ↪\n",
       "↪  2⋅\\rho₁⋅v_R                                         ⎠⎠      ⎝               ↪\n",
       "↪ ──────────────────────────────────────────────────────────────────────────── ↪\n",
       "↪                                                    2                         ↪\n",
       "\n",
       "↪                                                                              ↪\n",
       "↪                                                                              ↪\n",
       "↪               ⎛\\alpha_{13}⋅k₁⋅{{H_2__0}}                                  ⎞  ↪\n",
       "↪ + {{H_3__0}})⋅⎜───────────────────────── + k₁ + ⅈ⋅{{G_{Z_1}}} + {{H_1__0}}⎟  ↪\n",
       "↪               ⎝       2⋅\\rho₁⋅v_R                                         ⎠  ↪\n",
       "↪ ──────────────────────────────────────────────────────────────────────────── ↪\n",
       "↪                                                                              ↪\n",
       "\n",
       "↪                                              ⎞                               ↪\n",
       "↪                                             2⎟                               ↪\n",
       "↪   ⎛  k₁⋅{{G_R__+}}             ⎞ __________⎞ ⎟         ⎛                     ↪\n",
       "↪ - ⎜- ───────────── + {{H_R__+}}⎟⋅{{G_L__+}}⎟ ⎟         ⎜                     ↪\n",
       "↪   ⎝       v_R                  ⎠           ⎠ ⎠         ⎜⎛           ________ ↪\n",
       "↪ ────────────────────────────────────────────── + \\rho₁⋅⎜⎝{{H_L__+}}⋅{{H_L__+ ↪\n",
       "↪                                                        ⎝                     ↪\n",
       "\n",
       "↪                                                                              ↪\n",
       "↪                                                                              ↪\n",
       "↪                                                                              ↪\n",
       "↪                                                               2   ⎛          ↪\n",
       "↪ __                                                           ⎞    ⎜⎛k₁⋅{{H_R ↪\n",
       "↪ }} + (-ⅈ⋅{{A_2__0}} + {{H_4__0}})⋅(ⅈ⋅{{A_2__0}} + {{H_4__0}})⎠  + ⎜⎜──────── ↪\n",
       "↪                                                                   ⎝⎝     v_R ↪\n",
       "\n",
       "↪                                                                              ↪\n",
       "↪                                                                              ↪\n",
       "↪                                                                              ↪\n",
       "↪                     ⎛   __________             ⎞                             ↪\n",
       "↪ __+}}             ⎞ ⎜k₁⋅{{H_R__+}}   __________⎟   ⎛  \\alpha_{13}⋅k₁⋅{{H_1__ ↪\n",
       "↪ ───── + {{G_R__+}}⎟⋅⎜───────────── + {{G_R__+}}⎟ + ⎜- ────────────────────── ↪\n",
       "↪                   ⎠ ⎝     v_R                  ⎠   ⎝         2⋅\\rho₁⋅v_R     ↪\n",
       "\n",
       "↪                                                                              ↪\n",
       "↪                                                                              ↪\n",
       "↪                                                                              ↪\n",
       "↪                                                                              ↪\n",
       "↪ 0}}                                   ⎞ ⎛  \\alpha_{13}⋅k₁⋅{{H_1__0}}         ↪\n",
       "↪ ─── + v_R - ⅈ⋅{{G_{Z_2}}} + {{H_2__0}}⎟⋅⎜- ───────────────────────── + v_R + ↪\n",
       "↪                                       ⎠ ⎝         2⋅\\rho₁⋅v_R                ↪\n",
       "\n",
       "↪                                                                              ↪\n",
       "↪                                                                              ↪\n",
       "↪                              2⎞                                              ↪\n",
       "↪                             ⎞ ⎟                                              ↪\n",
       "↪                            ⎞⎟ ⎟         ⎛           __________               ↪\n",
       "↪  ⅈ⋅{{G_{Z_2}}} + {{H_2__0}}⎟⎟ ⎟ + \\rho₂⋅⎝{{H_L__+}}⋅{{H_L__+}} + (-ⅈ⋅{{A_2__ ↪\n",
       "↪                            ⎠⎠ ⎠                                              ↪\n",
       "\n",
       "↪                                                                              ↪\n",
       "↪                                                                              ↪\n",
       "↪                                                                              ↪\n",
       "↪                                                ⎛                             ↪\n",
       "↪                                              ⎞ ⎜⎛k₁⋅{{H_R__+}}             ⎞ ↪\n",
       "↪ 0}} + {{H_4__0}})⋅(ⅈ⋅{{A_2__0}} + {{H_4__0}})⎠⋅⎜⎜───────────── + {{G_R__+}}⎟ ↪\n",
       "↪                                                ⎝⎝     v_R                  ⎠ ↪\n",
       "\n",
       "↪                                                                              ↪\n",
       "↪                                                                              ↪\n",
       "↪                                                                              ↪\n",
       "↪  ⎛   __________             ⎞                                                ↪\n",
       "↪  ⎜k₁⋅{{H_R__+}}   __________⎟   ⎛  \\alpha_{13}⋅k₁⋅{{H_1__0}}                 ↪\n",
       "↪ ⋅⎜───────────── + {{G_R__+}}⎟ + ⎜- ───────────────────────── + v_R - ⅈ⋅{{G_{ ↪\n",
       "↪  ⎝     v_R                  ⎠   ⎝         2⋅\\rho₁⋅v_R                        ↪\n",
       "\n",
       "↪                                                                              ↪\n",
       "↪                                                                              ↪\n",
       "↪                                                                              ↪\n",
       "↪                                                                              ↪\n",
       "↪                    ⎞ ⎛  \\alpha_{13}⋅k₁⋅{{H_1__0}}                            ↪\n",
       "↪ Z_2}}} + {{H_2__0}}⎟⋅⎜- ───────────────────────── + v_R + ⅈ⋅{{G_{Z_2}}} + {{ ↪\n",
       "↪                    ⎠ ⎝         2⋅\\rho₁⋅v_R                                   ↪\n",
       "\n",
       "↪                                                                              ↪\n",
       "↪                                                                              ↪\n",
       "↪                                                                              ↪\n",
       "↪          ⎞                                            ⎛                      ↪\n",
       "↪         ⎞⎟   ⎛           2     2                    ⎞ ⎜           __________ ↪\n",
       "↪ H_2__0}}⎟⎟ - ⎝2⋅\\rho₁⋅v_R  + k₁ ⋅(\\alpha₁ + \\alpha₃)⎠⋅⎜{{H_L__+}}⋅{{H_L__+}} ↪\n",
       "↪         ⎠⎠                                            ⎝                      ↪\n",
       "\n",
       "↪                                                                              ↪\n",
       "↪                                                                              ↪\n",
       "↪                                                                              ↪\n",
       "↪                                                                              ↪\n",
       "↪                                                               ⎛k₁⋅{{H_R__+}} ↪\n",
       "↪  + (-ⅈ⋅{{A_2__0}} + {{H_4__0}})⋅(ⅈ⋅{{A_2__0}} + {{H_4__0}}) + ⎜───────────── ↪\n",
       "↪                                                               ⎝     v_R      ↪\n",
       "\n",
       "↪                                                                              ↪\n",
       "↪                                                                              ↪\n",
       "↪                                                                              ↪\n",
       "↪                ⎛   __________             ⎞                                  ↪\n",
       "↪              ⎞ ⎜k₁⋅{{H_R__+}}   __________⎟   ⎛  \\alpha_{13}⋅k₁⋅{{H_1__0}}   ↪\n",
       "↪  + {{G_R__+}}⎟⋅⎜───────────── + {{G_R__+}}⎟ + ⎜- ───────────────────────── + ↪\n",
       "↪              ⎠ ⎝     v_R                  ⎠   ⎝         2⋅\\rho₁⋅v_R          ↪\n",
       "\n",
       "↪                                                                              ↪\n",
       "↪                                                                              ↪\n",
       "↪                                                                              ↪\n",
       "↪                                                                              ↪\n",
       "↪                                  ⎞ ⎛  \\alpha_{13}⋅k₁⋅{{H_1__0}}              ↪\n",
       "↪  v_R - ⅈ⋅{{G_{Z_2}}} + {{H_2__0}}⎟⋅⎜- ───────────────────────── + v_R + ⅈ⋅{{ ↪\n",
       "↪                                  ⎠ ⎝         2⋅\\rho₁⋅v_R                     ↪\n",
       "\n",
       "↪                                                                              ↪\n",
       "↪                                                                              ↪\n",
       "↪                                                                              ↪\n",
       "↪                        ⎞                                                     ↪\n",
       "↪                       ⎞⎟   ⎛    2                            2               ↪\n",
       "↪ G_{Z_2}}} + {{H_2__0}}⎟⎟ - ⎝2⋅k₁ ⋅(\\lambda₁ + \\lambda₂) + v_R ⋅(\\alpha₁ + \\a ↪\n",
       "↪                       ⎠⎠                                                     ↪\n",
       "\n",
       "↪                                                                              ↪\n",
       "↪                                                                              ↪\n",
       "↪                                                                              ↪\n",
       "↪         ⎛                                                                    ↪\n",
       "↪       ⎞ ⎜           __________                                               ↪\n",
       "↪ lpha₃)⎠⋅⎜{{G_L__+}}⋅{{G_L__+}} + (-ⅈ⋅{{A_1__0}} + {{H_3__0}})⋅(ⅈ⋅{{A_1__0}}  ↪\n",
       "↪         ⎝                                                                    ↪\n",
       "\n",
       "↪                                                                              ↪\n",
       "↪                                                                              ↪\n",
       "↪                                                                              ↪\n",
       "↪                                                ⎛     __________              ↪\n",
       "↪                 ⎛  k₁⋅{{G_R__+}}             ⎞ ⎜  k₁⋅{{G_R__+}}   __________ ↪\n",
       "↪ + {{H_3__0}}) + ⎜- ───────────── + {{H_R__+}}⎟⋅⎜- ───────────── + {{H_R__+}} ↪\n",
       "↪                 ⎝       v_R                  ⎠ ⎝       v_R                   ↪\n",
       "\n",
       "↪                                                                              ↪\n",
       "↪                                                                              ↪\n",
       "↪                                                                              ↪\n",
       "↪ ⎞                                                                            ↪\n",
       "↪ ⎟   ⎛\\alpha_{13}⋅k₁⋅{{H_2__0}}                                  ⎞ ⎛\\alpha_{1 ↪\n",
       "↪ ⎟ + ⎜───────────────────────── + k₁ - ⅈ⋅{{G_{Z_1}}} + {{H_1__0}}⎟⋅⎜───────── ↪\n",
       "↪ ⎠   ⎝       2⋅\\rho₁⋅v_R                                         ⎠ ⎝       2⋅ ↪\n",
       "\n",
       "↪                                                     \n",
       "↪                                                     \n",
       "↪                                                     \n",
       "↪                                                    ⎞\n",
       "↪ 3}⋅k₁⋅{{H_2__0}}                                  ⎞⎟\n",
       "↪ ──────────────── + k₁ + ⅈ⋅{{G_{Z_1}}} + {{H_1__0}}⎟⎟\n",
       "↪ \\rho₁⋅v_R                                         ⎠⎠"
      ]
     },
     "execution_count": 137,
     "metadata": {},
     "output_type": "execute_result"
    }
   ],
   "source": [
    "VLR_physical_approx"
   ]
  },
  {
   "cell_type": "code",
   "execution_count": null,
   "metadata": {},
   "outputs": [],
   "source": []
  }
 ],
 "metadata": {
  "kernelspec": {
   "display_name": "base",
   "language": "python",
   "name": "python3"
  },
  "language_info": {
   "codemirror_mode": {
    "name": "ipython",
    "version": 3
   },
   "file_extension": ".py",
   "mimetype": "text/x-python",
   "name": "python",
   "nbconvert_exporter": "python",
   "pygments_lexer": "ipython3",
   "version": "3.13.2"
  }
 },
 "nbformat": 4,
 "nbformat_minor": 2
}
