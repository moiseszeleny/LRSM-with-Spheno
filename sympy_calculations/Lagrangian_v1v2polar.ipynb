{
 "cells": [
  {
   "cell_type": "markdown",
   "metadata": {},
   "source": [
    "# Left-Right symmetric model Lagrangian"
   ]
  },
  {
   "cell_type": "code",
   "execution_count": 1,
   "metadata": {},
   "outputs": [],
   "source": [
    "from sympy import symbols, init_printing, Matrix, I, Add, eye, sqrt, conjugate, trace, factor, sin, cos, tan\n",
    "from sympy.physics import msigma \n",
    "init_printing()"
   ]
  },
  {
   "cell_type": "markdown",
   "metadata": {},
   "source": [
    "## Covariant derivative"
   ]
  },
  {
   "cell_type": "code",
   "execution_count": 2,
   "metadata": {},
   "outputs": [],
   "source": [
    "g, gBL = symbols('g, g_{B-L}', positive=True)\n",
    "W1L, W2L, W3L = symbols('W^1_L, W^2_L, W^3_L', real=True)\n",
    "WL = [W1L, W2L, W3L]\n",
    "W1R, W2R, W3R = symbols('W^1_R, W^2_R, W^3_R', real=True)\n",
    "WR = [W1R, W2R, W3R]\n",
    "Bmu = symbols(r'B_\\mu', real=True)\n",
    "B, L = symbols(r'B, L', real=True)"
   ]
  },
  {
   "cell_type": "code",
   "execution_count": 3,
   "metadata": {},
   "outputs": [
    {
     "data": {
      "text/latex": [
       "$\\displaystyle \\left[\\begin{matrix}0 & W^{1}_{L}\\\\W^{1}_{L} & 0\\end{matrix}\\right]$"
      ],
      "text/plain": [
       "⎡  0     W_L__1⎤\n",
       "⎢              ⎥\n",
       "⎣W_L__1    0   ⎦"
      ]
     },
     "execution_count": 3,
     "metadata": {},
     "output_type": "execute_result"
    }
   ],
   "source": [
    "WL[0]*msigma(1)"
   ]
  },
  {
   "cell_type": "code",
   "execution_count": 4,
   "metadata": {},
   "outputs": [],
   "source": [
    "WsigmaL = Add(*[WL[i]*msigma(i+1) for i in range(3)])\n",
    "WsigmaR = Add(*[WR[i]*msigma(i+1) for i in range(3)])"
   ]
  },
  {
   "cell_type": "code",
   "execution_count": 5,
   "metadata": {},
   "outputs": [
    {
     "data": {
      "text/latex": [
       "$\\displaystyle \\left[\\begin{matrix}W^{3}_{L} & W^{1}_{L} - i W^{2}_{L}\\\\W^{1}_{L} + i W^{2}_{L} & - W^{3}_{L}\\end{matrix}\\right]$"
      ],
      "text/plain": [
       "⎡     W_L__3        W_L__1 - ⅈ⋅W_L__2⎤\n",
       "⎢                                    ⎥\n",
       "⎣W_L__1 + ⅈ⋅W_L__2       -W_L__3     ⎦"
      ]
     },
     "execution_count": 5,
     "metadata": {},
     "output_type": "execute_result"
    }
   ],
   "source": [
    "WsigmaL"
   ]
  },
  {
   "cell_type": "code",
   "execution_count": 6,
   "metadata": {},
   "outputs": [
    {
     "data": {
      "text/latex": [
       "$\\displaystyle \\left[\\begin{matrix}W^{3}_{R} & W^{1}_{R} - i W^{2}_{R}\\\\W^{1}_{R} + i W^{2}_{R} & - W^{3}_{R}\\end{matrix}\\right]$"
      ],
      "text/plain": [
       "⎡     W_R__3        W_R__1 - ⅈ⋅W_R__2⎤\n",
       "⎢                                    ⎥\n",
       "⎣W_R__1 + ⅈ⋅W_R__2       -W_R__3     ⎦"
      ]
     },
     "execution_count": 6,
     "metadata": {},
     "output_type": "execute_result"
    }
   ],
   "source": [
    "WsigmaR"
   ]
  },
  {
   "cell_type": "code",
   "execution_count": 7,
   "metadata": {},
   "outputs": [],
   "source": [
    "WLp, WLm, WRp, WRm = symbols('W_L^+, W_L^-, W_R^+, W_R^-')\n",
    "Wcharge_subs = {\n",
    "    W1L - I*W2L:WLp,\n",
    "    W1L + I*W2L:WLm,\n",
    "    W1R - I*W2R:WRp,\n",
    "    W1R + I*W2R:WRm\n",
    "}"
   ]
  },
  {
   "cell_type": "code",
   "execution_count": 8,
   "metadata": {},
   "outputs": [],
   "source": [
    "WsigmaL, WsigmaR = WsigmaL.subs(Wcharge_subs), WsigmaR.subs(Wcharge_subs)"
   ]
  },
  {
   "cell_type": "code",
   "execution_count": 9,
   "metadata": {},
   "outputs": [
    {
     "data": {
      "text/latex": [
       "$\\displaystyle \\left( \\left[\\begin{matrix}W^{3}_{L} & W^{+}_{L}\\\\W^{-}_{L} & - W^{3}_{L}\\end{matrix}\\right], \\  \\left[\\begin{matrix}W^{3}_{R} & W^{+}_{R}\\\\W^{-}_{R} & - W^{3}_{R}\\end{matrix}\\right]\\right)$"
      ],
      "text/plain": [
       "⎛⎡W_L__3  W_L__+ ⎤  ⎡W_R__3  W_R__+ ⎤⎞\n",
       "⎜⎢               ⎥, ⎢               ⎥⎟\n",
       "⎝⎣W_L__-  -W_L__3⎦  ⎣W_R__-  -W_R__3⎦⎠"
      ]
     },
     "execution_count": 9,
     "metadata": {},
     "output_type": "execute_result"
    }
   ],
   "source": [
    "WsigmaL, WsigmaR"
   ]
  },
  {
   "cell_type": "markdown",
   "metadata": {},
   "source": [
    "## Scalars"
   ]
  },
  {
   "cell_type": "markdown",
   "metadata": {},
   "source": [
    "### Triplets"
   ]
  },
  {
   "cell_type": "code",
   "execution_count": 10,
   "metadata": {},
   "outputs": [],
   "source": [
    "deltaLp, deltaLpp = symbols(r'\\delta_L^+, \\delta_L^{++}')\n",
    "deltaRp, deltaRpp = symbols(r'\\delta_R^+, \\delta_R^{++}')\n",
    "\n",
    "deltaLm, deltaLmm = symbols(r'\\delta_L^-, \\delta_L^{--}')\n",
    "deltaRm, deltaRmm = symbols(r'\\delta_R^-, \\delta_R^{--}')\n",
    "\n",
    "deltaL0 = symbols(r'\\delta_L^0', real=True)\n",
    "deltaR0 = symbols(r'\\delta_R^0', real=True)"
   ]
  },
  {
   "cell_type": "code",
   "execution_count": 11,
   "metadata": {},
   "outputs": [],
   "source": [
    "sqrt2 = sqrt(2)\n",
    "DeltaL = Matrix(\n",
    "    [\n",
    "        [deltaLp/sqrt2, deltaLpp],\n",
    "        [deltaL0, -deltaLp/sqrt2]\n",
    "    ]\n",
    ")\n",
    "DeltaR = Matrix(\n",
    "    [\n",
    "        [deltaRp/sqrt2, deltaRpp],\n",
    "        [deltaR0, -deltaRp/sqrt2]\n",
    "    ]\n",
    ")"
   ]
  },
  {
   "cell_type": "code",
   "execution_count": 12,
   "metadata": {},
   "outputs": [
    {
     "data": {
      "text/latex": [
       "$\\displaystyle \\left( \\left[\\begin{matrix}\\frac{\\sqrt{2} \\delta^{+}_{L}}{2} & \\delta_L^{++}\\\\\\delta^{0}_{L} & - \\frac{\\sqrt{2} \\delta^{+}_{L}}{2}\\end{matrix}\\right], \\  \\left[\\begin{matrix}\\frac{\\sqrt{2} \\delta^{+}_{R}}{2} & \\delta_R^{++}\\\\\\delta^{0}_{R} & - \\frac{\\sqrt{2} \\delta^{+}_{R}}{2}\\end{matrix}\\right]\\right)$"
      ],
      "text/plain": [
       "⎛⎡√2⋅\\delta_L__+                  ⎤  ⎡√2⋅\\delta_R__+                  ⎤⎞\n",
       "⎜⎢──────────────   \\delta_L__{++} ⎥  ⎢──────────────   \\delta_R__{++} ⎥⎟\n",
       "⎜⎢      2                         ⎥  ⎢      2                         ⎥⎟\n",
       "⎜⎢                                ⎥, ⎢                                ⎥⎟\n",
       "⎜⎢                -√2⋅\\delta_L__+ ⎥  ⎢                -√2⋅\\delta_R__+ ⎥⎟\n",
       "⎜⎢ \\delta_L__0    ────────────────⎥  ⎢ \\delta_R__0    ────────────────⎥⎟\n",
       "⎝⎣                       2        ⎦  ⎣                       2        ⎦⎠"
      ]
     },
     "execution_count": 12,
     "metadata": {},
     "output_type": "execute_result"
    }
   ],
   "source": [
    "DeltaL, DeltaR"
   ]
  },
  {
   "cell_type": "code",
   "execution_count": 13,
   "metadata": {},
   "outputs": [
    {
     "data": {
      "text/latex": [
       "$\\displaystyle \\left( \\left[\\begin{matrix}0 & 0\\\\v_{L} & 0\\end{matrix}\\right], \\  \\left[\\begin{matrix}0 & 0\\\\v_{R} & 0\\end{matrix}\\right]\\right)$"
      ],
      "text/plain": [
       "⎛⎡ 0   0⎤  ⎡ 0   0⎤⎞\n",
       "⎜⎢      ⎥, ⎢      ⎥⎟\n",
       "⎝⎣v_L  0⎦  ⎣v_R  0⎦⎠"
      ]
     },
     "execution_count": 13,
     "metadata": {},
     "output_type": "execute_result"
    }
   ],
   "source": [
    "vL, vR = symbols('v_L, v_R', positive=True)\n",
    "vevL = {deltaL0:vL, deltaLp:0, deltaLpp:0}\n",
    "vevR = {deltaR0:vR, deltaRp:0, deltaRpp:0}\n",
    "DeltaL.subs(vevL), DeltaR.subs(vevR)"
   ]
  },
  {
   "cell_type": "code",
   "execution_count": 14,
   "metadata": {},
   "outputs": [],
   "source": [
    "Dmu_DeltaL = (-I*g/2*(WsigmaL*DeltaL - DeltaL*WsigmaL) - I*gBL*(B-L)/2*Bmu*DeltaL).subs(B-L, 2) # B -L = 2 for triplets L and R\n",
    "Dmu_DeltaR = (-I*g/2*(WsigmaR*DeltaR - DeltaR*WsigmaR) - I*gBL*(B-L)/2*Bmu*DeltaR).subs(B-L, 2)"
   ]
  },
  {
   "cell_type": "code",
   "execution_count": 15,
   "metadata": {},
   "outputs": [
    {
     "data": {
      "text/latex": [
       "$\\displaystyle \\left[\\begin{matrix}- \\frac{\\sqrt{2} i B_{\\mu} \\delta^{+}_{L} g_{B-L}}{2} - \\frac{i g \\left(W^{+}_{L} \\delta^{0}_{L} - W^{-}_{L} \\delta_L^{++}\\right)}{2} & - i B_{\\mu} \\delta_L^{++} g_{B-L} - \\frac{i g \\left(2 W^{3}_{L} \\delta_L^{++} - \\sqrt{2} W^{+}_{L} \\delta^{+}_{L}\\right)}{2}\\\\- i B_{\\mu} \\delta^{0}_{L} g_{B-L} - \\frac{i g \\left(- 2 W^{3}_{L} \\delta^{0}_{L} + \\sqrt{2} W^{-}_{L} \\delta^{+}_{L}\\right)}{2} & \\frac{\\sqrt{2} i B_{\\mu} \\delta^{+}_{L} g_{B-L}}{2} - \\frac{i g \\left(- W^{+}_{L} \\delta^{0}_{L} + W^{-}_{L} \\delta_L^{++}\\right)}{2}\\end{matrix}\\right]$"
      ],
      "text/plain": [
       "⎡  √2⋅ⅈ⋅B_\\mu⋅\\delta_L__+⋅g_{B-L}   ⅈ⋅g⋅(W_L__+⋅\\delta_L__0 - W_L__-⋅\\delta_L_\n",
       "⎢- ────────────────────────────── - ──────────────────────────────────────────\n",
       "⎢                2                                         2                  \n",
       "⎢                                                                             \n",
       "⎢                               ⅈ⋅g⋅(-2⋅W_L__3⋅\\delta_L__0 + √2⋅W_L__-⋅\\delta_\n",
       "⎢-ⅈ⋅B_\\mu⋅\\delta_L__0⋅g_{B-L} - ──────────────────────────────────────────────\n",
       "⎣                                                        2                    \n",
       "\n",
       "_{++})                                    ⅈ⋅g⋅(2⋅W_L__3⋅\\delta_L__{++} - √2⋅W_\n",
       "──────  -ⅈ⋅B_\\mu⋅\\delta_L__{++}⋅g_{B-L} - ────────────────────────────────────\n",
       "                                                                    2         \n",
       "                                                                              \n",
       "L__+)     √2⋅ⅈ⋅B_\\mu⋅\\delta_L__+⋅g_{B-L}   ⅈ⋅g⋅(-W_L__+⋅\\delta_L__0 + W_L__-⋅\\\n",
       "─────     ────────────────────────────── - ───────────────────────────────────\n",
       "                        2                                          2          \n",
       "\n",
       "L__+⋅\\delta_L__+)⎤\n",
       "─────────────────⎥\n",
       "                 ⎥\n",
       "                 ⎥\n",
       "delta_L__{++})   ⎥\n",
       "──────────────   ⎥\n",
       "                 ⎦"
      ]
     },
     "execution_count": 15,
     "metadata": {},
     "output_type": "execute_result"
    }
   ],
   "source": [
    "Dmu_DeltaL"
   ]
  },
  {
   "cell_type": "code",
   "execution_count": 16,
   "metadata": {},
   "outputs": [
    {
     "data": {
      "text/latex": [
       "$\\displaystyle \\left[\\begin{matrix}- \\frac{\\sqrt{2} i B_{\\mu} \\delta^{+}_{R} g_{B-L}}{2} - \\frac{i g \\left(W^{+}_{R} \\delta^{0}_{R} - W^{-}_{R} \\delta_R^{++}\\right)}{2} & - i B_{\\mu} \\delta_R^{++} g_{B-L} - \\frac{i g \\left(2 W^{3}_{R} \\delta_R^{++} - \\sqrt{2} W^{+}_{R} \\delta^{+}_{R}\\right)}{2}\\\\- i B_{\\mu} \\delta^{0}_{R} g_{B-L} - \\frac{i g \\left(- 2 W^{3}_{R} \\delta^{0}_{R} + \\sqrt{2} W^{-}_{R} \\delta^{+}_{R}\\right)}{2} & \\frac{\\sqrt{2} i B_{\\mu} \\delta^{+}_{R} g_{B-L}}{2} - \\frac{i g \\left(- W^{+}_{R} \\delta^{0}_{R} + W^{-}_{R} \\delta_R^{++}\\right)}{2}\\end{matrix}\\right]$"
      ],
      "text/plain": [
       "⎡  √2⋅ⅈ⋅B_\\mu⋅\\delta_R__+⋅g_{B-L}   ⅈ⋅g⋅(W_R__+⋅\\delta_R__0 - W_R__-⋅\\delta_R_\n",
       "⎢- ────────────────────────────── - ──────────────────────────────────────────\n",
       "⎢                2                                         2                  \n",
       "⎢                                                                             \n",
       "⎢                               ⅈ⋅g⋅(-2⋅W_R__3⋅\\delta_R__0 + √2⋅W_R__-⋅\\delta_\n",
       "⎢-ⅈ⋅B_\\mu⋅\\delta_R__0⋅g_{B-L} - ──────────────────────────────────────────────\n",
       "⎣                                                        2                    \n",
       "\n",
       "_{++})                                    ⅈ⋅g⋅(2⋅W_R__3⋅\\delta_R__{++} - √2⋅W_\n",
       "──────  -ⅈ⋅B_\\mu⋅\\delta_R__{++}⋅g_{B-L} - ────────────────────────────────────\n",
       "                                                                    2         \n",
       "                                                                              \n",
       "R__+)     √2⋅ⅈ⋅B_\\mu⋅\\delta_R__+⋅g_{B-L}   ⅈ⋅g⋅(-W_R__+⋅\\delta_R__0 + W_R__-⋅\\\n",
       "─────     ────────────────────────────── - ───────────────────────────────────\n",
       "                        2                                          2          \n",
       "\n",
       "R__+⋅\\delta_R__+)⎤\n",
       "─────────────────⎥\n",
       "                 ⎥\n",
       "                 ⎥\n",
       "delta_R__{++})   ⎥\n",
       "──────────────   ⎥\n",
       "                 ⎦"
      ]
     },
     "execution_count": 16,
     "metadata": {},
     "output_type": "execute_result"
    }
   ],
   "source": [
    "Dmu_DeltaR"
   ]
  },
  {
   "cell_type": "code",
   "execution_count": 17,
   "metadata": {},
   "outputs": [],
   "source": [
    "conjugate_fields = {\n",
    "    conjugate(deltaLp):deltaLm,\n",
    "    conjugate(deltaLm):deltaLp,\n",
    "    conjugate(deltaLpp):deltaLmm,\n",
    "    conjugate(deltaLmm):deltaLpp,\n",
    "    conjugate(deltaRm):deltaRp,\n",
    "    conjugate(deltaRp):deltaRm,\n",
    "    conjugate(deltaRmm):deltaRpp,\n",
    "    conjugate(deltaRpp):deltaRmm,\n",
    "    conjugate(WLp):WLm,\n",
    "    conjugate(WLm):WLp,\n",
    "    conjugate(WRm):WRp,\n",
    "    conjugate(WRp):WRm\n",
    "}"
   ]
  },
  {
   "cell_type": "code",
   "execution_count": 18,
   "metadata": {},
   "outputs": [
    {
     "data": {
      "text/latex": [
       "$\\displaystyle \\left( \\left[\\begin{matrix}\\frac{\\sqrt{2} i B_{\\mu} \\delta^{-}_{L} g_{B-L}}{2} + \\frac{i g \\left(- W^{+}_{L} \\delta_L^{--} + W^{-}_{L} \\delta^{0}_{L}\\right)}{2} & i B_{\\mu} \\delta^{0}_{L} g_{B-L} + \\frac{i g \\left(- 2 W^{3}_{L} \\delta^{0}_{L} + \\sqrt{2} W^{+}_{L} \\delta^{-}_{L}\\right)}{2}\\\\i B_{\\mu} \\delta_L^{--} g_{B-L} + \\frac{i g \\left(2 W^{3}_{L} \\delta_L^{--} - \\sqrt{2} W^{-}_{L} \\delta^{-}_{L}\\right)}{2} & - \\frac{\\sqrt{2} i B_{\\mu} \\delta^{-}_{L} g_{B-L}}{2} + \\frac{i g \\left(W^{+}_{L} \\delta_L^{--} - W^{-}_{L} \\delta^{0}_{L}\\right)}{2}\\end{matrix}\\right], \\  \\left[\\begin{matrix}\\frac{\\sqrt{2} i B_{\\mu} \\delta^{-}_{R} g_{B-L}}{2} + \\frac{i g \\left(- W^{+}_{R} \\delta_R^{--} + W^{-}_{R} \\delta^{0}_{R}\\right)}{2} & i B_{\\mu} \\delta^{0}_{R} g_{B-L} + \\frac{i g \\left(- 2 W^{3}_{R} \\delta^{0}_{R} + \\sqrt{2} W^{+}_{R} \\delta^{-}_{R}\\right)}{2}\\\\i B_{\\mu} \\delta_R^{--} g_{B-L} + \\frac{i g \\left(2 W^{3}_{R} \\delta_R^{--} - \\sqrt{2} W^{-}_{R} \\delta^{-}_{R}\\right)}{2} & - \\frac{\\sqrt{2} i B_{\\mu} \\delta^{-}_{R} g_{B-L}}{2} + \\frac{i g \\left(W^{+}_{R} \\delta_R^{--} - W^{-}_{R} \\delta^{0}_{R}\\right)}{2}\\end{matrix}\\right]\\right)$"
      ],
      "text/plain": [
       "⎛⎡  √2⋅ⅈ⋅B_\\mu⋅\\delta_L__-⋅g_{B-L}   ⅈ⋅g⋅(-W_L__+⋅\\delta_L__{--} + W_L__-⋅\\del\n",
       "⎜⎢  ────────────────────────────── + ─────────────────────────────────────────\n",
       "⎜⎢                2                                          2                \n",
       "⎜⎢                                                                            \n",
       "⎜⎢                                 ⅈ⋅g⋅(2⋅W_L__3⋅\\delta_L__{--} - √2⋅W_L__-⋅\\d\n",
       "⎜⎢ⅈ⋅B_\\mu⋅\\delta_L__{--}⋅g_{B-L} + ───────────────────────────────────────────\n",
       "⎝⎣                                                           2                \n",
       "\n",
       "ta_L__0)                                   ⅈ⋅g⋅(-2⋅W_L__3⋅\\delta_L__0 + √2⋅W_L\n",
       "────────     ⅈ⋅B_\\mu⋅\\delta_L__0⋅g_{B-L} + ───────────────────────────────────\n",
       "                                                                    2         \n",
       "                                                                              \n",
       "elta_L__-)    √2⋅ⅈ⋅B_\\mu⋅\\delta_L__-⋅g_{B-L}   ⅈ⋅g⋅(W_L__+⋅\\delta_L__{--} - W_\n",
       "──────────  - ────────────────────────────── + ───────────────────────────────\n",
       "                            2                                         2       \n",
       "\n",
       "__+⋅\\delta_L__-) ⎤  ⎡  √2⋅ⅈ⋅B_\\mu⋅\\delta_R__-⋅g_{B-L}   ⅈ⋅g⋅(-W_R__+⋅\\delta_R_\n",
       "──────────────── ⎥  ⎢  ────────────────────────────── + ──────────────────────\n",
       "                 ⎥  ⎢                2                                        \n",
       "                 ⎥, ⎢                                                         \n",
       "L__-⋅\\delta_L__0)⎥  ⎢                                 ⅈ⋅g⋅(2⋅W_R__3⋅\\delta_R__\n",
       "─────────────────⎥  ⎢ⅈ⋅B_\\mu⋅\\delta_R__{--}⋅g_{B-L} + ────────────────────────\n",
       "                 ⎦  ⎣                                                         \n",
       "\n",
       "_{--} + W_R__-⋅\\delta_R__0)                                   ⅈ⋅g⋅(-2⋅W_R__3⋅\\\n",
       "───────────────────────────     ⅈ⋅B_\\mu⋅\\delta_R__0⋅g_{B-L} + ────────────────\n",
       "  2                                                                           \n",
       "                                                                              \n",
       "{--} - √2⋅W_R__-⋅\\delta_R__-)    √2⋅ⅈ⋅B_\\mu⋅\\delta_R__-⋅g_{B-L}   ⅈ⋅g⋅(W_R__+⋅\n",
       "─────────────────────────────  - ────────────────────────────── + ────────────\n",
       "  2                                            2                              \n",
       "\n",
       "delta_R__0 + √2⋅W_R__+⋅\\delta_R__-) ⎤⎞\n",
       "─────────────────────────────────── ⎥⎟\n",
       "         2                          ⎥⎟\n",
       "                                    ⎥⎟\n",
       "\\delta_R__{--} - W_R__-⋅\\delta_R__0)⎥⎟\n",
       "────────────────────────────────────⎥⎟\n",
       "           2                        ⎦⎠"
      ]
     },
     "execution_count": 18,
     "metadata": {},
     "output_type": "execute_result"
    }
   ],
   "source": [
    "Dmu_DeltaL_dagger = conjugate(Dmu_DeltaL.T).subs(conjugate_fields)\n",
    "Dmu_DeltaR_dagger = conjugate(Dmu_DeltaR.T).subs(conjugate_fields)\n",
    "\n",
    "Dmu_DeltaL_dagger, Dmu_DeltaR_dagger\n"
   ]
  },
  {
   "cell_type": "code",
   "execution_count": 19,
   "metadata": {},
   "outputs": [
    {
     "data": {
      "image/png": "[encoded data removed]",
      "text/latex": [
       "$\\displaystyle \\left( 2, \\  2\\right)$"
      ],
      "text/plain": [
       "(2, 2)"
      ]
     },
     "execution_count": 19,
     "metadata": {},
     "output_type": "execute_result"
    }
   ],
   "source": [
    "Dmu_DL_Dmu = (Dmu_DeltaL_dagger*Dmu_DeltaL).subs(vevL)\n",
    "Dmu_DL_Dmu.shape"
   ]
  },
  {
   "cell_type": "code",
   "execution_count": 20,
   "metadata": {},
   "outputs": [
    {
     "data": {
      "image/png": "[encoded data removed]",
      "text/latex": [
       "$\\displaystyle \\frac{v_{L} \\left(W^{+}_{L} g \\left(\\sqrt{2} B_{\\mu} \\delta^{-}_{L} g_{B-L} - g \\left(W^{+}_{L} \\delta_L^{--} - W^{-}_{L} v_{L}\\right)\\right) + 2 \\left(B_{\\mu} g_{B-L} - W^{3}_{L} g\\right) \\left(2 B_{\\mu} g_{B-L} v_{L} - g \\left(2 W^{3}_{L} v_{L} - \\sqrt{2} W^{+}_{L} \\delta^{-}_{L}\\right)\\right)\\right)}{4}$"
      ],
      "text/plain": [
       "v_L⋅(W_L__+⋅g⋅(√2⋅B_\\mu⋅\\delta_L__-⋅g_{B-L} - g⋅(W_L__+⋅\\delta_L__{--} - W_L__\n",
       "──────────────────────────────────────────────────────────────────────────────\n",
       "                                                                              \n",
       "\n",
       "-⋅v_L)) + 2⋅(B_\\mu⋅g_{B-L} - W_L__3⋅g)⋅(2⋅B_\\mu⋅g_{B-L}⋅v_L - g⋅(2⋅W_L__3⋅v_L \n",
       "──────────────────────────────────────────────────────────────────────────────\n",
       "            4                                                                 \n",
       "\n",
       "- √2⋅W_L__+⋅\\delta_L__-)))\n",
       "──────────────────────────\n",
       "                          "
      ]
     },
     "execution_count": 20,
     "metadata": {},
     "output_type": "execute_result"
    }
   ],
   "source": [
    "Dmu_DL_Dmu[0,0].simplify()"
   ]
  },
  {
   "cell_type": "code",
   "execution_count": 21,
   "metadata": {},
   "outputs": [
    {
     "data": {
      "image/png": "[encoded data removed]",
      "text/latex": [
       "$\\displaystyle \\frac{W^{+}_{L} g v_{L} \\left(\\sqrt{2} B_{\\mu} \\delta^{-}_{L} g_{B-L} - g \\left(W^{+}_{L} \\delta_L^{--} - W^{-}_{L} v_{L}\\right)\\right)}{4}$"
      ],
      "text/plain": [
       "W_L__+⋅g⋅v_L⋅(√2⋅B_\\mu⋅\\delta_L__-⋅g_{B-L} - g⋅(W_L__+⋅\\delta_L__{--} - W_L__-\n",
       "──────────────────────────────────────────────────────────────────────────────\n",
       "                                         4                                    \n",
       "\n",
       "⋅v_L))\n",
       "──────\n",
       "      "
      ]
     },
     "execution_count": 21,
     "metadata": {},
     "output_type": "execute_result"
    }
   ],
   "source": [
    "Dmu_DL_Dmu[1,1].simplify()"
   ]
  },
  {
   "cell_type": "code",
   "execution_count": 22,
   "metadata": {},
   "outputs": [
    {
     "data": {
      "image/png": "[encoded data removed]",
      "text/latex": [
       "$\\displaystyle v_{L}^{2} \\left(B_{\\mu}^{2} g_{B-L}^{2} - 2 B_{\\mu} W^{3}_{L} g g_{B-L} + \\left(W^{3}_{L}\\right)^{2} g^{2} + \\frac{W^{+}_{L} W^{-}_{L} g^{2}}{2}\\right) + v_{L} \\left(\\sqrt{2} B_{\\mu} W^{+}_{L} \\delta^{-}_{L} g g_{B-L} - \\frac{\\sqrt{2} W^{3}_{L} W^{+}_{L} \\delta^{-}_{L} g^{2}}{2} - \\frac{\\left(W^{+}_{L}\\right)^{2} \\delta_L^{--} g^{2}}{2}\\right)$"
      ],
      "text/plain": [
       "     ⎛                                                                        \n",
       "   2 ⎜     2        2                                    2  2   W_L__+⋅W_L__-⋅\n",
       "v_L ⋅⎜B_\\mu ⋅g_{B-L}  - 2⋅B_\\mu⋅W_L__3⋅g⋅g_{B-L} + W_L__3 ⋅g  + ──────────────\n",
       "     ⎝                                                                 2      \n",
       "\n",
       " 2⎞       ⎛                                                                   \n",
       "g ⎟       ⎜                                        √2⋅W_L__3⋅W_L__+⋅\\delta_L__\n",
       "──⎟ + v_L⋅⎜√2⋅B_\\mu⋅W_L__+⋅\\delta_L__-⋅g⋅g_{B-L} - ───────────────────────────\n",
       "  ⎠       ⎝                                                       2           \n",
       "\n",
       "   2         2                 2⎞\n",
       "-⋅g    W_L__+ ⋅\\delta_L__{--}⋅g ⎟\n",
       "──── - ─────────────────────────⎟\n",
       "                   2            ⎠"
      ]
     },
     "execution_count": 22,
     "metadata": {},
     "output_type": "execute_result"
    }
   ],
   "source": [
    "Tr_DmuL = trace(Dmu_DL_Dmu).expand().collect(vL)\n",
    "Tr_DmuL"
   ]
  },
  {
   "cell_type": "code",
   "execution_count": 23,
   "metadata": {},
   "outputs": [],
   "source": [
    "Dmu_DR_Dmu = (Dmu_DeltaR_dagger*Dmu_DeltaR).subs(vevR)"
   ]
  },
  {
   "cell_type": "code",
   "execution_count": 24,
   "metadata": {},
   "outputs": [
    {
     "data": {
      "text/latex": [
       "$\\displaystyle \\left[\\begin{matrix}- \\frac{i W^{+}_{R} g v_{R} \\left(\\frac{\\sqrt{2} i B_{\\mu} \\delta^{-}_{R} g_{B-L}}{2} + \\frac{i g \\left(- W^{+}_{R} \\delta_R^{--} + W^{-}_{R} v_{R}\\right)}{2}\\right)}{2} + \\left(- i B_{\\mu} g_{B-L} v_{R} + i W^{3}_{R} g v_{R}\\right) \\left(i B_{\\mu} g_{B-L} v_{R} + \\frac{i g \\left(- 2 W^{3}_{R} v_{R} + \\sqrt{2} W^{+}_{R} \\delta^{-}_{R}\\right)}{2}\\right) & \\frac{i W^{+}_{R} g v_{R} \\left(i B_{\\mu} g_{B-L} v_{R} + \\frac{i g \\left(- 2 W^{3}_{R} v_{R} + \\sqrt{2} W^{+}_{R} \\delta^{-}_{R}\\right)}{2}\\right)}{2}\\\\- \\frac{i W^{+}_{R} g v_{R} \\left(i B_{\\mu} \\delta_R^{--} g_{B-L} + \\frac{i g \\left(2 W^{3}_{R} \\delta_R^{--} - \\sqrt{2} W^{-}_{R} \\delta^{-}_{R}\\right)}{2}\\right)}{2} + \\left(- i B_{\\mu} g_{B-L} v_{R} + i W^{3}_{R} g v_{R}\\right) \\left(- \\frac{\\sqrt{2} i B_{\\mu} \\delta^{-}_{R} g_{B-L}}{2} + \\frac{i g \\left(W^{+}_{R} \\delta_R^{--} - W^{-}_{R} v_{R}\\right)}{2}\\right) & \\frac{i W^{+}_{R} g v_{R} \\left(- \\frac{\\sqrt{2} i B_{\\mu} \\delta^{-}_{R} g_{B-L}}{2} + \\frac{i g \\left(W^{+}_{R} \\delta_R^{--} - W^{-}_{R} v_{R}\\right)}{2}\\right)}{2}\\end{matrix}\\right]$"
      ],
      "text/plain": [
       "⎡                            ⎛√2⋅ⅈ⋅B_\\mu⋅\\delta_R__-⋅g_{B-L}   ⅈ⋅g⋅(-W_R__+⋅\\d\n",
       "⎢             ⅈ⋅W_R__+⋅g⋅v_R⋅⎜────────────────────────────── + ───────────────\n",
       "⎢                            ⎝              2                                 \n",
       "⎢           - ────────────────────────────────────────────────────────────────\n",
       "⎢                                                          2                  \n",
       "⎢                                                                             \n",
       "⎢                 ⎛                                 ⅈ⋅g⋅(2⋅W_R__3⋅\\delta_R__{-\n",
       "⎢  ⅈ⋅W_R__+⋅g⋅v_R⋅⎜ⅈ⋅B_\\mu⋅\\delta_R__{--}⋅g_{B-L} + ──────────────────────────\n",
       "⎢                 ⎝                                                           \n",
       "⎢- ───────────────────────────────────────────────────────────────────────────\n",
       "⎣                                                     2                       \n",
       "\n",
       "elta_R__{--} + W_R__-⋅v_R)⎞                                                   \n",
       "──────────────────────────⎟                                                   \n",
       "     2                    ⎠                                           ⎛       \n",
       "─────────────────────────── + (-ⅈ⋅B_\\mu⋅g_{B-L}⋅v_R + ⅈ⋅W_R__3⋅g⋅v_R)⋅⎜ⅈ⋅B_\\mu\n",
       "                                                                      ⎝       \n",
       "                                                                              \n",
       "-} - √2⋅W_R__-⋅\\delta_R__-)⎞                                                  \n",
       "───────────────────────────⎟                                                  \n",
       "2                          ⎠                                           ⎛  √2⋅ⅈ\n",
       "──────────────────────────── + (-ⅈ⋅B_\\mu⋅g_{B-L}⋅v_R + ⅈ⋅W_R__3⋅g⋅v_R)⋅⎜- ────\n",
       "                                                                       ⎝      \n",
       "\n",
       "                                                                              \n",
       "                                                                             ⅈ\n",
       "               ⅈ⋅g⋅(-2⋅W_R__3⋅v_R + √2⋅W_R__+⋅\\delta_R__-)⎞                   \n",
       "⋅g_{B-L}⋅v_R + ───────────────────────────────────────────⎟                  ─\n",
       "                                    2                     ⎠                   \n",
       "                                                                              \n",
       "                                                                              \n",
       "                                                                        ⅈ⋅W_R_\n",
       "⋅B_\\mu⋅\\delta_R__-⋅g_{B-L}   ⅈ⋅g⋅(W_R__+⋅\\delta_R__{--} - W_R__-⋅v_R)⎞        \n",
       "────────────────────────── + ────────────────────────────────────────⎟  ──────\n",
       "          2                                     2                    ⎠        \n",
       "\n",
       "              ⎛                      ⅈ⋅g⋅(-2⋅W_R__3⋅v_R + √2⋅W_R__+⋅\\delta_R__\n",
       "⋅W_R__+⋅g⋅v_R⋅⎜ⅈ⋅B_\\mu⋅g_{B-L}⋅v_R + ─────────────────────────────────────────\n",
       "              ⎝                                           2                   \n",
       "──────────────────────────────────────────────────────────────────────────────\n",
       "                                       2                                      \n",
       "                                                                              \n",
       "         ⎛  √2⋅ⅈ⋅B_\\mu⋅\\delta_R__-⋅g_{B-L}   ⅈ⋅g⋅(W_R__+⋅\\delta_R__{--} - W_R_\n",
       "_+⋅g⋅v_R⋅⎜- ────────────────────────────── + ─────────────────────────────────\n",
       "         ⎝                2                                     2             \n",
       "──────────────────────────────────────────────────────────────────────────────\n",
       "                                       2                                      \n",
       "\n",
       "-)⎞     ⎤\n",
       "──⎟     ⎥\n",
       "  ⎠     ⎥\n",
       "───     ⎥\n",
       "        ⎥\n",
       "        ⎥\n",
       "_-⋅v_R)⎞⎥\n",
       "───────⎟⎥\n",
       "       ⎠⎥\n",
       "────────⎥\n",
       "        ⎦"
      ]
     },
     "execution_count": 24,
     "metadata": {},
     "output_type": "execute_result"
    }
   ],
   "source": [
    "Dmu_DR_Dmu"
   ]
  },
  {
   "cell_type": "code",
   "execution_count": 25,
   "metadata": {},
   "outputs": [
    {
     "data": {
      "image/png": "[encoded data removed]",
      "text/latex": [
       "$\\displaystyle \\frac{v_{R} \\left(W^{+}_{R} g \\left(\\sqrt{2} B_{\\mu} \\delta^{-}_{R} g_{B-L} - g \\left(W^{+}_{R} \\delta_R^{--} - W^{-}_{R} v_{R}\\right)\\right) + 2 \\left(B_{\\mu} g_{B-L} - W^{3}_{R} g\\right) \\left(2 B_{\\mu} g_{B-L} v_{R} - g \\left(2 W^{3}_{R} v_{R} - \\sqrt{2} W^{+}_{R} \\delta^{-}_{R}\\right)\\right)\\right)}{4}$"
      ],
      "text/plain": [
       "v_R⋅(W_R__+⋅g⋅(√2⋅B_\\mu⋅\\delta_R__-⋅g_{B-L} - g⋅(W_R__+⋅\\delta_R__{--} - W_R__\n",
       "──────────────────────────────────────────────────────────────────────────────\n",
       "                                                                              \n",
       "\n",
       "-⋅v_R)) + 2⋅(B_\\mu⋅g_{B-L} - W_R__3⋅g)⋅(2⋅B_\\mu⋅g_{B-L}⋅v_R - g⋅(2⋅W_R__3⋅v_R \n",
       "──────────────────────────────────────────────────────────────────────────────\n",
       "            4                                                                 \n",
       "\n",
       "- √2⋅W_R__+⋅\\delta_R__-)))\n",
       "──────────────────────────\n",
       "                          "
      ]
     },
     "execution_count": 25,
     "metadata": {},
     "output_type": "execute_result"
    }
   ],
   "source": [
    "Dmu_DR_Dmu[0,0].simplify()"
   ]
  },
  {
   "cell_type": "code",
   "execution_count": 26,
   "metadata": {},
   "outputs": [
    {
     "data": {
      "image/png": "[encoded data removed]",
      "text/latex": [
       "$\\displaystyle \\frac{W^{+}_{R} g v_{R} \\left(\\sqrt{2} B_{\\mu} \\delta^{-}_{R} g_{B-L} - g \\left(W^{+}_{R} \\delta_R^{--} - W^{-}_{R} v_{R}\\right)\\right)}{4}$"
      ],
      "text/plain": [
       "W_R__+⋅g⋅v_R⋅(√2⋅B_\\mu⋅\\delta_R__-⋅g_{B-L} - g⋅(W_R__+⋅\\delta_R__{--} - W_R__-\n",
       "──────────────────────────────────────────────────────────────────────────────\n",
       "                                         4                                    \n",
       "\n",
       "⋅v_R))\n",
       "──────\n",
       "      "
      ]
     },
     "execution_count": 26,
     "metadata": {},
     "output_type": "execute_result"
    }
   ],
   "source": [
    "Dmu_DR_Dmu[1,1].simplify()"
   ]
  },
  {
   "cell_type": "code",
   "execution_count": 27,
   "metadata": {},
   "outputs": [
    {
     "data": {
      "image/png": "[encoded data removed]",
      "text/latex": [
       "$\\displaystyle v_{R}^{2} \\left(B_{\\mu}^{2} g_{B-L}^{2} - 2 B_{\\mu} W^{3}_{R} g g_{B-L} + \\left(W^{3}_{R}\\right)^{2} g^{2} + \\frac{W^{+}_{R} W^{-}_{R} g^{2}}{2}\\right) + v_{R} \\left(\\sqrt{2} B_{\\mu} W^{+}_{R} \\delta^{-}_{R} g g_{B-L} - \\frac{\\sqrt{2} W^{3}_{R} W^{+}_{R} \\delta^{-}_{R} g^{2}}{2} - \\frac{\\left(W^{+}_{R}\\right)^{2} \\delta_R^{--} g^{2}}{2}\\right)$"
      ],
      "text/plain": [
       "     ⎛                                                                        \n",
       "   2 ⎜     2        2                                    2  2   W_R__+⋅W_R__-⋅\n",
       "v_R ⋅⎜B_\\mu ⋅g_{B-L}  - 2⋅B_\\mu⋅W_R__3⋅g⋅g_{B-L} + W_R__3 ⋅g  + ──────────────\n",
       "     ⎝                                                                 2      \n",
       "\n",
       " 2⎞       ⎛                                                                   \n",
       "g ⎟       ⎜                                        √2⋅W_R__3⋅W_R__+⋅\\delta_R__\n",
       "──⎟ + v_R⋅⎜√2⋅B_\\mu⋅W_R__+⋅\\delta_R__-⋅g⋅g_{B-L} - ───────────────────────────\n",
       "  ⎠       ⎝                                                       2           \n",
       "\n",
       "   2         2                 2⎞\n",
       "-⋅g    W_R__+ ⋅\\delta_R__{--}⋅g ⎟\n",
       "──── - ─────────────────────────⎟\n",
       "                   2            ⎠"
      ]
     },
     "execution_count": 27,
     "metadata": {},
     "output_type": "execute_result"
    }
   ],
   "source": [
    "Tr_DmuR = trace(Dmu_DR_Dmu).expand().collect(vR)\n",
    "Tr_DmuR"
   ]
  },
  {
   "cell_type": "markdown",
   "metadata": {},
   "source": [
    "### Bidoublet"
   ]
  },
  {
   "cell_type": "code",
   "execution_count": 28,
   "metadata": {},
   "outputs": [],
   "source": [
    "phi1p, phi1m = symbols(r'\\phi_1^+, \\phi_1^-')\n",
    "phi2p, phi2m = symbols(r'\\phi_2^+, \\phi_2^-')\n",
    "\n",
    "phi10, phi20 = symbols(r'\\phi_1^0, \\phi_2^0', real=True)"
   ]
  },
  {
   "cell_type": "code",
   "execution_count": 29,
   "metadata": {},
   "outputs": [
    {
     "data": {
      "text/latex": [
       "$\\displaystyle \\left[\\begin{matrix}\\phi^{0}_{1} & \\phi^{+}_{1}\\\\\\phi^{-}_{2} & \\phi^{0}_{2}\\end{matrix}\\right]$"
      ],
      "text/plain": [
       "⎡\\phi⁰₁  \\phi⁺₁⎤\n",
       "⎢              ⎥\n",
       "⎣\\phi⁻₂  \\phi⁰₂⎦"
      ]
     },
     "execution_count": 29,
     "metadata": {},
     "output_type": "execute_result"
    }
   ],
   "source": [
    "Phi = Matrix(\n",
    "    [\n",
    "        [phi10, phi1p],\n",
    "        [phi2m, phi20]\n",
    "    ]\n",
    ")\n",
    "Phi"
   ]
  },
  {
   "cell_type": "code",
   "execution_count": 30,
   "metadata": {},
   "outputs": [
    {
     "data": {
      "text/latex": [
       "$\\displaystyle \\left[\\begin{matrix}v \\cos{\\left(\\beta \\right)} & 0\\\\0 & v \\sin{\\left(\\beta \\right)}\\end{matrix}\\right]$"
      ],
      "text/plain": [
       "⎡v⋅cos(\\beta)       0      ⎤\n",
       "⎢                          ⎥\n",
       "⎣     0        v⋅sin(\\beta)⎦"
      ]
     },
     "execution_count": 30,
     "metadata": {},
     "output_type": "execute_result"
    }
   ],
   "source": [
    "v, beta = symbols(r\"v, \\beta\", positive=True)\n",
    "vevPhi = {phi10:v*cos(beta), phi20:v*sin(beta), phi1p:0, phi2m:0, phi2p:0, phi1m:0}\n",
    "Phi.subs(vevPhi)"
   ]
  },
  {
   "cell_type": "code",
   "execution_count": 31,
   "metadata": {},
   "outputs": [
    {
     "data": {
      "text/latex": [
       "$\\displaystyle \\left[\\begin{matrix}- \\frac{i g \\left(W^{3}_{L} \\phi^{0}_{1} - W^{3}_{R} \\phi^{0}_{1} + W^{+}_{L} \\phi^{-}_{2} - W^{-}_{R} \\phi^{+}_{1}\\right)}{2} & - \\frac{i g \\left(W^{3}_{L} \\phi^{+}_{1} + W^{3}_{R} \\phi^{+}_{1} + W^{+}_{L} \\phi^{0}_{2} - W^{+}_{R} \\phi^{0}_{1}\\right)}{2}\\\\- \\frac{i g \\left(- W^{3}_{L} \\phi^{-}_{2} - W^{3}_{R} \\phi^{-}_{2} + W^{-}_{L} \\phi^{0}_{1} - W^{-}_{R} \\phi^{0}_{2}\\right)}{2} & - \\frac{i g \\left(- W^{3}_{L} \\phi^{0}_{2} + W^{3}_{R} \\phi^{0}_{2} + W^{-}_{L} \\phi^{+}_{1} - W^{+}_{R} \\phi^{-}_{2}\\right)}{2}\\end{matrix}\\right]$"
      ],
      "text/plain": [
       "⎡-ⅈ⋅g⋅(W_L__3⋅\\phi⁰₁ - W_R__3⋅\\phi⁰₁ + W_L__+⋅\\phi⁻₂ - W_R__-⋅\\phi⁺₁)    -ⅈ⋅g⋅\n",
       "⎢─────────────────────────────────────────────────────────────────────   ─────\n",
       "⎢                                  2                                          \n",
       "⎢                                                                             \n",
       "⎢-ⅈ⋅g⋅(-W_L__3⋅\\phi⁻₂ - W_R__3⋅\\phi⁻₂ + W_L__-⋅\\phi⁰₁ - W_R__-⋅\\phi⁰₂)   -ⅈ⋅g⋅\n",
       "⎢──────────────────────────────────────────────────────────────────────  ─────\n",
       "⎣                                  2                                          \n",
       "\n",
       "(W_L__3⋅\\phi⁺₁ + W_R__3⋅\\phi⁺₁ + W_L__+⋅\\phi⁰₂ - W_R__+⋅\\phi⁰₁)  ⎤\n",
       "──────────────────────────────────────────────────────────────── ⎥\n",
       "                             2                                   ⎥\n",
       "                                                                 ⎥\n",
       "(-W_L__3⋅\\phi⁰₂ + W_R__3⋅\\phi⁰₂ + W_L__-⋅\\phi⁺₁ - W_R__+⋅\\phi⁻₂) ⎥\n",
       "─────────────────────────────────────────────────────────────────⎥\n",
       "                             2                                   ⎦"
      ]
     },
     "execution_count": 31,
     "metadata": {},
     "output_type": "execute_result"
    }
   ],
   "source": [
    "Dmu_Phi = -I*g/2*(WsigmaL*Phi - Phi*WsigmaR) # B - L = 0 for the bidoublet\n",
    "Dmu_Phi"
   ]
  },
  {
   "cell_type": "code",
   "execution_count": 32,
   "metadata": {},
   "outputs": [],
   "source": [
    "conjugate_scalarsPhi = {\n",
    "    conjugate(phi1p):phi1m,\n",
    "    conjugate(phi2p):phi2m,\n",
    "    conjugate(phi1m):phi1p,\n",
    "    conjugate(phi2m):phi2p\n",
    "}"
   ]
  },
  {
   "cell_type": "code",
   "execution_count": 33,
   "metadata": {},
   "outputs": [
    {
     "data": {
      "text/latex": [
       "$\\displaystyle \\left[\\begin{matrix}\\frac{i g \\left(W^{3}_{L} \\phi^{0}_{1} - W^{3}_{R} \\phi^{0}_{1} + W^{-}_{L} \\phi^{+}_{2} - W^{+}_{R} \\phi^{-}_{1}\\right)}{2} & \\frac{i g \\left(- W^{3}_{L} \\phi^{+}_{2} - W^{3}_{R} \\phi^{+}_{2} + W^{+}_{L} \\phi^{0}_{1} - W^{+}_{R} \\phi^{0}_{2}\\right)}{2}\\\\\\frac{i g \\left(W^{3}_{L} \\phi^{-}_{1} + W^{3}_{R} \\phi^{-}_{1} + W^{-}_{L} \\phi^{0}_{2} - W^{-}_{R} \\phi^{0}_{1}\\right)}{2} & \\frac{i g \\left(- W^{3}_{L} \\phi^{0}_{2} + W^{3}_{R} \\phi^{0}_{2} + W^{+}_{L} \\phi^{-}_{1} - W^{-}_{R} \\phi^{+}_{2}\\right)}{2}\\end{matrix}\\right]$"
      ],
      "text/plain": [
       "⎡ⅈ⋅g⋅(W_L__3⋅\\phi⁰₁ - W_R__3⋅\\phi⁰₁ + W_L__-⋅\\phi⁺₂ - W_R__+⋅\\phi⁻₁)  ⅈ⋅g⋅(-W_\n",
       "⎢───────────────────────────────────────────────────────────────────  ────────\n",
       "⎢                                 2                                           \n",
       "⎢                                                                             \n",
       "⎢ⅈ⋅g⋅(W_L__3⋅\\phi⁻₁ + W_R__3⋅\\phi⁻₁ + W_L__-⋅\\phi⁰₂ - W_R__-⋅\\phi⁰₁)  ⅈ⋅g⋅(-W_\n",
       "⎢───────────────────────────────────────────────────────────────────  ────────\n",
       "⎣                                 2                                           \n",
       "\n",
       "L__3⋅\\phi⁺₂ - W_R__3⋅\\phi⁺₂ + W_L__+⋅\\phi⁰₁ - W_R__+⋅\\phi⁰₂)⎤\n",
       "────────────────────────────────────────────────────────────⎥\n",
       "                         2                                  ⎥\n",
       "                                                            ⎥\n",
       "L__3⋅\\phi⁰₂ + W_R__3⋅\\phi⁰₂ + W_L__+⋅\\phi⁻₁ - W_R__-⋅\\phi⁺₂)⎥\n",
       "────────────────────────────────────────────────────────────⎥\n",
       "                         2                                  ⎦"
      ]
     },
     "execution_count": 33,
     "metadata": {},
     "output_type": "execute_result"
    }
   ],
   "source": [
    "Dmu_Phi_dagger = conjugate(Dmu_Phi.T).subs(conjugate_scalarsPhi).subs(conjugate_fields)\n",
    "Dmu_Phi_dagger"
   ]
  },
  {
   "cell_type": "code",
   "execution_count": 34,
   "metadata": {},
   "outputs": [
    {
     "data": {
      "text/latex": [
       "$\\displaystyle \\left[\\begin{matrix}\\frac{g^{2} v^{2} \\left(\\left(W^{3}_{L} - W^{3}_{R}\\right)^{2} \\cos^{2}{\\left(\\beta \\right)} + \\left(W^{+}_{L} \\cos{\\left(\\beta \\right)} - W^{+}_{R} \\sin{\\left(\\beta \\right)}\\right) \\left(W^{-}_{L} \\cos{\\left(\\beta \\right)} - W^{-}_{R} \\sin{\\left(\\beta \\right)}\\right)\\right)}{4} & \\frac{W^{+}_{R} g^{2} v^{2} \\left(- W^{3}_{L} + W^{3}_{R}\\right) \\cos{\\left(2 \\beta \\right)}}{4}\\\\\\frac{W^{-}_{R} g^{2} v^{2} \\left(- W^{3}_{L} + W^{3}_{R}\\right) \\cos{\\left(2 \\beta \\right)}}{4} & \\frac{g^{2} v^{2} \\left(\\left(W^{3}_{L} - W^{3}_{R}\\right)^{2} \\sin^{2}{\\left(\\beta \\right)} + \\left(W^{+}_{L} \\sin{\\left(\\beta \\right)} - W^{+}_{R} \\cos{\\left(\\beta \\right)}\\right) \\left(W^{-}_{L} \\sin{\\left(\\beta \\right)} - W^{-}_{R} \\cos{\\left(\\beta \\right)}\\right)\\right)}{4}\\end{matrix}\\right]$"
      ],
      "text/plain": [
       "⎡ 2  2 ⎛                 2    2                                               \n",
       "⎢g ⋅v ⋅⎝(W_L__3 - W_R__3) ⋅cos (\\beta) + (W_L__+⋅cos(\\beta) - W_R__+⋅sin(\\beta\n",
       "⎢─────────────────────────────────────────────────────────────────────────────\n",
       "⎢                                                           4                 \n",
       "⎢                                                                             \n",
       "⎢                                              2  2                           \n",
       "⎢                                      W_R__-⋅g ⋅v ⋅(-W_L__3 + W_R__3)⋅cos(2⋅\\\n",
       "⎢                                      ───────────────────────────────────────\n",
       "⎣                                                           4                 \n",
       "\n",
       "                                          ⎞                                   \n",
       "))⋅(W_L__-⋅cos(\\beta) - W_R__-⋅sin(\\beta))⎠                                   \n",
       "───────────────────────────────────────────                                   \n",
       "                                                                              \n",
       "                                                                              \n",
       "                                              2  2 ⎛                 2    2   \n",
       "beta)                                        g ⋅v ⋅⎝(W_L__3 - W_R__3) ⋅sin (\\b\n",
       "─────                                        ─────────────────────────────────\n",
       "                                                                              \n",
       "\n",
       "             2  2                                                             \n",
       "     W_R__+⋅g ⋅v ⋅(-W_L__3 + W_R__3)⋅cos(2⋅\\beta)                             \n",
       "     ────────────────────────────────────────────                             \n",
       "                          4                                                   \n",
       "                                                                              \n",
       "                                                                              \n",
       "eta) + (W_L__+⋅sin(\\beta) - W_R__+⋅cos(\\beta))⋅(W_L__-⋅sin(\\beta) - W_R__-⋅cos\n",
       "──────────────────────────────────────────────────────────────────────────────\n",
       "                          4                                                   \n",
       "\n",
       "         ⎤\n",
       "         ⎥\n",
       "         ⎥\n",
       "         ⎥\n",
       "         ⎥\n",
       "        ⎞⎥\n",
       "(\\beta))⎠⎥\n",
       "─────────⎥\n",
       "         ⎦"
      ]
     },
     "execution_count": 34,
     "metadata": {},
     "output_type": "execute_result"
    }
   ],
   "source": [
    "Dmu_Phi_Dmu = (Dmu_Phi_dagger*Dmu_Phi).subs(vevPhi).simplify()\n",
    "Dmu_Phi_Dmu"
   ]
  },
  {
   "cell_type": "code",
   "execution_count": 35,
   "metadata": {},
   "outputs": [],
   "source": [
    "from sympy import simplify"
   ]
  },
  {
   "cell_type": "code",
   "execution_count": 36,
   "metadata": {},
   "outputs": [
    {
     "data": {
      "image/png": "[encoded data removed]",
      "text/latex": [
       "$\\displaystyle \\frac{g^{2} v^{2} \\left(\\left(W^{3}_{L}\\right)^{2} - 2 W^{3}_{L} W^{3}_{R} + \\left(W^{3}_{R}\\right)^{2} + W^{+}_{L} W^{-}_{L} - W^{+}_{L} W^{-}_{R} \\sin{\\left(2 \\beta \\right)} - W^{-}_{L} W^{+}_{R} \\sin{\\left(2 \\beta \\right)} + W^{+}_{R} W^{-}_{R}\\right)}{4}$"
      ],
      "text/plain": [
       " 2  2 ⎛      2                           2                                    \n",
       "g ⋅v ⋅⎝W_L__3  - 2⋅W_L__3⋅W_R__3 + W_R__3  + W_L__+⋅W_L__- - W_L__+⋅W_R__-⋅sin\n",
       "──────────────────────────────────────────────────────────────────────────────\n",
       "                                                                  4           \n",
       "\n",
       "                                                      ⎞\n",
       "(2⋅\\beta) - W_L__-⋅W_R__+⋅sin(2⋅\\beta) + W_R__+⋅W_R__-⎠\n",
       "───────────────────────────────────────────────────────\n",
       "                                                       "
      ]
     },
     "execution_count": 36,
     "metadata": {},
     "output_type": "execute_result"
    }
   ],
   "source": [
    "Tr_DmuPhi = trace(Dmu_Phi_Dmu).expand().collect([cos(beta), sin(beta)]).simplify()\n",
    "Tr_DmuPhi "
   ]
  },
  {
   "cell_type": "markdown",
   "metadata": {},
   "source": [
    "### Kinetic Higgs lagrangian"
   ]
  },
  {
   "cell_type": "code",
   "execution_count": 37,
   "metadata": {},
   "outputs": [],
   "source": [
    "LHiggs = Tr_DmuL + Tr_DmuR + Tr_DmuPhi "
   ]
  },
  {
   "cell_type": "code",
   "execution_count": 38,
   "metadata": {},
   "outputs": [
    {
     "data": {
      "image/png": "[encoded data removed]",
      "text/latex": [
       "$\\displaystyle \\frac{g^{2} v^{2} \\left(\\left(W^{3}_{L}\\right)^{2} - 2 W^{3}_{L} W^{3}_{R} + \\left(W^{3}_{R}\\right)^{2} + W^{+}_{L} W^{-}_{L} - W^{+}_{L} W^{-}_{R} \\sin{\\left(2 \\beta \\right)} - W^{-}_{L} W^{+}_{R} \\sin{\\left(2 \\beta \\right)} + W^{+}_{R} W^{-}_{R}\\right)}{4} + v_{L}^{2} \\left(B_{\\mu}^{2} g_{B-L}^{2} - 2 B_{\\mu} W^{3}_{L} g g_{B-L} + \\left(W^{3}_{L}\\right)^{2} g^{2} + \\frac{W^{+}_{L} W^{-}_{L} g^{2}}{2}\\right) + v_{L} \\left(\\sqrt{2} B_{\\mu} W^{+}_{L} \\delta^{-}_{L} g g_{B-L} - \\frac{\\sqrt{2} W^{3}_{L} W^{+}_{L} \\delta^{-}_{L} g^{2}}{2} - \\frac{\\left(W^{+}_{L}\\right)^{2} \\delta_L^{--} g^{2}}{2}\\right) + v_{R}^{2} \\left(B_{\\mu}^{2} g_{B-L}^{2} - 2 B_{\\mu} W^{3}_{R} g g_{B-L} + \\left(W^{3}_{R}\\right)^{2} g^{2} + \\frac{W^{+}_{R} W^{-}_{R} g^{2}}{2}\\right) + v_{R} \\left(\\sqrt{2} B_{\\mu} W^{+}_{R} \\delta^{-}_{R} g g_{B-L} - \\frac{\\sqrt{2} W^{3}_{R} W^{+}_{R} \\delta^{-}_{R} g^{2}}{2} - \\frac{\\left(W^{+}_{R}\\right)^{2} \\delta_R^{--} g^{2}}{2}\\right)$"
      ],
      "text/plain": [
       " 2  2 ⎛      2                           2                                    \n",
       "g ⋅v ⋅⎝W_L__3  - 2⋅W_L__3⋅W_R__3 + W_R__3  + W_L__+⋅W_L__- - W_L__+⋅W_R__-⋅sin\n",
       "──────────────────────────────────────────────────────────────────────────────\n",
       "                                                                  4           \n",
       "\n",
       "                                                      ⎞        ⎛              \n",
       "(2⋅\\beta) - W_L__-⋅W_R__+⋅sin(2⋅\\beta) + W_R__+⋅W_R__-⎠      2 ⎜     2        \n",
       "─────────────────────────────────────────────────────── + v_L ⋅⎜B_\\mu ⋅g_{B-L}\n",
       "                                                               ⎝              \n",
       "\n",
       "                                                           2⎞       ⎛         \n",
       "2                                    2  2   W_L__+⋅W_L__-⋅g ⎟       ⎜         \n",
       "  - 2⋅B_\\mu⋅W_L__3⋅g⋅g_{B-L} + W_L__3 ⋅g  + ────────────────⎟ + v_L⋅⎜√2⋅B_\\mu⋅\n",
       "                                                   2        ⎠       ⎝         \n",
       "\n",
       "                                                             2         2      \n",
       "                               √2⋅W_L__3⋅W_L__+⋅\\delta_L__-⋅g    W_L__+ ⋅\\delt\n",
       "W_L__+⋅\\delta_L__-⋅g⋅g_{B-L} - ─────────────────────────────── - ─────────────\n",
       "                                              2                              2\n",
       "\n",
       "           2⎞        ⎛                                                        \n",
       "a_L__{--}⋅g ⎟      2 ⎜     2        2                                    2  2 \n",
       "────────────⎟ + v_R ⋅⎜B_\\mu ⋅g_{B-L}  - 2⋅B_\\mu⋅W_R__3⋅g⋅g_{B-L} + W_R__3 ⋅g  \n",
       "            ⎠        ⎝                                                        \n",
       "\n",
       "                 2⎞       ⎛                                                   \n",
       "  W_R__+⋅W_R__-⋅g ⎟       ⎜                                        √2⋅W_R__3⋅W\n",
       "+ ────────────────⎟ + v_R⋅⎜√2⋅B_\\mu⋅W_R__+⋅\\delta_R__-⋅g⋅g_{B-L} - ───────────\n",
       "         2        ⎠       ⎝                                                   \n",
       "\n",
       "                   2         2                 2⎞\n",
       "_R__+⋅\\delta_R__-⋅g    W_R__+ ⋅\\delta_R__{--}⋅g ⎟\n",
       "──────────────────── - ─────────────────────────⎟\n",
       "    2                              2            ⎠"
      ]
     },
     "execution_count": 38,
     "metadata": {},
     "output_type": "execute_result"
    }
   ],
   "source": [
    "LHiggs"
   ]
  },
  {
   "cell_type": "markdown",
   "metadata": {},
   "source": [
    "#### $W^\\pm$ mass matrix"
   ]
  },
  {
   "cell_type": "code",
   "execution_count": 39,
   "metadata": {},
   "outputs": [
    {
     "data": {
      "text/latex": [
       "$\\displaystyle \\left[\\begin{matrix}\\frac{g^{2} \\left(v^{2} + 2 v_{L}^{2}\\right)}{8} & - \\frac{g^{2} v^{2} \\sin{\\left(2 \\beta \\right)}}{8}\\\\- \\frac{g^{2} v^{2} \\sin{\\left(2 \\beta \\right)}}{8} & \\frac{g^{2} \\left(v^{2} + 2 v_{R}^{2}\\right)}{8}\\end{matrix}\\right]$"
      ],
      "text/plain": [
       "⎡   2 ⎛ 2        2⎞      2  2              ⎤\n",
       "⎢  g ⋅⎝v  + 2⋅v_L ⎠    -g ⋅v ⋅sin(2⋅\\beta) ⎥\n",
       "⎢  ────────────────    ────────────────────⎥\n",
       "⎢         8                     8          ⎥\n",
       "⎢                                          ⎥\n",
       "⎢  2  2                   2 ⎛ 2        2⎞  ⎥\n",
       "⎢-g ⋅v ⋅sin(2⋅\\beta)     g ⋅⎝v  + 2⋅v_R ⎠  ⎥\n",
       "⎢────────────────────    ────────────────  ⎥\n",
       "⎣         8                     8          ⎦"
      ]
     },
     "execution_count": 39,
     "metadata": {},
     "output_type": "execute_result"
    }
   ],
   "source": [
    "MW11 = LHiggs.diff(WLm, WLp)/2\n",
    "MW12 = LHiggs.diff(WLm, WRp)/2\n",
    "MW21 = LHiggs.diff(WRm, WLp)/2\n",
    "MW22 = LHiggs.diff(WRm, WRp)/2\n",
    "\n",
    "MW = Matrix(\n",
    "    [\n",
    "        [MW11, MW12],\n",
    "        [MW21, MW22]\n",
    "    ]\n",
    ")\n",
    "MW"
   ]
  },
  {
   "cell_type": "code",
   "execution_count": 40,
   "metadata": {},
   "outputs": [
    {
     "data": {
      "image/png": "[encoded data removed]",
      "text/latex": [
       "$\\displaystyle \\left( \\frac{g^{2} \\left(v^{2} + v_{L}^{2} + v_{R}^{2}\\right)}{8} - \\frac{g^{2} \\sqrt{v^{4} \\sin^{2}{\\left(2 \\beta \\right)} + v_{L}^{4} - 2 v_{L}^{2} v_{R}^{2} + v_{R}^{4}}}{8}, \\  \\frac{g^{2} \\left(v^{2} + v_{L}^{2} + v_{R}^{2}\\right)}{8} + \\frac{g^{2} \\sqrt{v^{4} \\sin^{2}{\\left(2 \\beta \\right)} + v_{L}^{4} - 2 v_{L}^{2} v_{R}^{2} + v_{R}^{4}}}{8}\\right)$"
      ],
      "text/plain": [
       "⎛                              ______________________________________________ \n",
       "⎜ 2 ⎛ 2      2      2⎞    2   ╱  4    2               4        2    2      4  \n",
       "⎜g ⋅⎝v  + v_L  + v_R ⎠   g ⋅╲╱  v ⋅sin (2⋅\\beta) + v_L  - 2⋅v_L ⋅v_R  + v_R   \n",
       "⎜───────────────────── - ────────────────────────────────────────────────────,\n",
       "⎝          8                                      8                           \n",
       "\n",
       "                               ______________________________________________⎞\n",
       "  2 ⎛ 2      2      2⎞    2   ╱  4    2               4        2    2      4 ⎟\n",
       " g ⋅⎝v  + v_L  + v_R ⎠   g ⋅╲╱  v ⋅sin (2⋅\\beta) + v_L  - 2⋅v_L ⋅v_R  + v_R  ⎟\n",
       " ───────────────────── + ────────────────────────────────────────────────────⎟\n",
       "           8                                      8                          ⎠"
      ]
     },
     "execution_count": 40,
     "metadata": {},
     "output_type": "execute_result"
    }
   ],
   "source": [
    "MW1square, MW2square = list(MW.eigenvals().keys())\n",
    "MW1square, MW2square"
   ]
  },
  {
   "cell_type": "code",
   "execution_count": 41,
   "metadata": {},
   "outputs": [
    {
     "data": {
      "image/png": "[encoded data removed]",
      "text/latex": [
       "$\\displaystyle \\sqrt{v^{4} \\sin^{2}{\\left(2 \\beta \\right)} + v_{L}^{4} - 2 v_{L}^{2} v_{R}^{2} + v_{R}^{4}}$"
      ],
      "text/plain": [
       "   ______________________________________________\n",
       "  ╱  4    2               4        2    2      4 \n",
       "╲╱  v ⋅sin (2⋅\\beta) + v_L  - 2⋅v_L ⋅v_R  + v_R  "
      ]
     },
     "execution_count": 41,
     "metadata": {},
     "output_type": "execute_result"
    }
   ],
   "source": [
    "sqrt_vevs = MW1square.args[0].args[2]\n",
    "sqrt_vevs"
   ]
  },
  {
   "cell_type": "code",
   "execution_count": 42,
   "metadata": {},
   "outputs": [
    {
     "data": {
      "image/png": "[encoded data removed]",
      "text/latex": [
       "$\\displaystyle v^{4} \\sin^{2}{\\left(2 \\beta \\right)} + \\left(v_{L} - v_{R}\\right)^{2} \\left(v_{L} + v_{R}\\right)^{2}$"
      ],
      "text/plain": [
       " 4    2                       2            2\n",
       "v ⋅sin (2⋅\\beta) + (v_L - v_R) ⋅(v_L + v_R) "
      ]
     },
     "execution_count": 42,
     "metadata": {},
     "output_type": "execute_result"
    }
   ],
   "source": [
    "sqrt_vevs_sim = (sqrt_vevs.args[0] - v**4*sin(2*beta)**2).factor() + v**4*sin(2*beta)**2\n",
    "sqrt_vevs_sim"
   ]
  },
  {
   "cell_type": "markdown",
   "metadata": {},
   "source": [
    "Following the hierarchy $v_R >> v_1 = v \\cos\\beta$ and $v_2 = v \\sin\\beta >> v_L$\n",
    "$$ \\sqrt{v^4 \\sin^2{(2\\beta)} + \\left(v_{L} - v_{R}\\right)^{2} \\left(v_{L} + v_{R}\\right)^{2}} \\approx \n",
    "\\sqrt{v^4 \\sin^2{(2\\beta)} + v_{R}^4} = \\frac{v_R^2}{2}\\sqrt{1+x}\n",
    "$$\n",
    "where $x = \\frac{v^4 \\sin^2{(2\\beta)}}{v_R^4} << 1$. Then we can use the aproximation $\\sqrt{1+x} \\approx 1 +\\frac{x}{2}$ "
   ]
  },
  {
   "cell_type": "code",
   "execution_count": 43,
   "metadata": {},
   "outputs": [
    {
     "data": {
      "image/png": "[encoded data removed]",
      "text/latex": [
       "$\\displaystyle \\frac{v^{4} \\sin^{2}{\\left(2 \\beta \\right)}}{2} + v_{R}^{2}$"
      ],
      "text/plain": [
       " 4    2                \n",
       "v ⋅sin (2⋅\\beta)      2\n",
       "──────────────── + v_R \n",
       "       2               "
      ]
     },
     "execution_count": 43,
     "metadata": {},
     "output_type": "execute_result"
    }
   ],
   "source": [
    "x = (v**4*sin(2*beta)**2)/vR**2\n",
    "sqrt_vevs_approx = ((vR**2)*(1 + x/2)).simplify()\n",
    "sqrt_vevs_approx"
   ]
  },
  {
   "cell_type": "code",
   "execution_count": 44,
   "metadata": {},
   "outputs": [
    {
     "data": {
      "image/png": "[encoded data removed]",
      "text/latex": [
       "$\\displaystyle \\frac{g^{2} \\left(v^{2} + v_{L}^{2} + v_{R}^{2}\\right)}{8} - \\frac{g^{2} \\sqrt{v^{4} \\sin^{2}{\\left(2 \\beta \\right)} + v_{L}^{4} - 2 v_{L}^{2} v_{R}^{2} + v_{R}^{4}}}{8}$"
      ],
      "text/plain": [
       "                              ______________________________________________\n",
       " 2 ⎛ 2      2      2⎞    2   ╱  4    2               4        2    2      4 \n",
       "g ⋅⎝v  + v_L  + v_R ⎠   g ⋅╲╱  v ⋅sin (2⋅\\beta) + v_L  - 2⋅v_L ⋅v_R  + v_R  \n",
       "───────────────────── - ────────────────────────────────────────────────────\n",
       "          8                                      8                          "
      ]
     },
     "execution_count": 44,
     "metadata": {},
     "output_type": "execute_result"
    }
   ],
   "source": [
    "MW1square"
   ]
  },
  {
   "cell_type": "code",
   "execution_count": 45,
   "metadata": {},
   "outputs": [
    {
     "data": {
      "image/png": "[encoded data removed]",
      "text/latex": [
       "$\\displaystyle \\frac{g^{2} v^{2}}{8}$"
      ],
      "text/plain": [
       " 2  2\n",
       "g ⋅v \n",
       "─────\n",
       "  8  "
      ]
     },
     "execution_count": 45,
     "metadata": {},
     "output_type": "execute_result"
    }
   ],
   "source": [
    "MW1square_approx = MW1square.subs(sqrt_vevs, sqrt_vevs_approx).subs(vL,0).subs(beta,0).expand()\n",
    "MW1square_approx "
   ]
  },
  {
   "cell_type": "code",
   "execution_count": 46,
   "metadata": {},
   "outputs": [
    {
     "data": {
      "image/png": "[encoded data removed]",
      "text/latex": [
       "$\\displaystyle \\frac{g^{2} v^{2}}{8} + \\frac{g^{2} v_{R}^{2}}{4}$"
      ],
      "text/plain": [
       " 2  2    2    2\n",
       "g ⋅v    g ⋅v_R \n",
       "───── + ───────\n",
       "  8        4   "
      ]
     },
     "execution_count": 46,
     "metadata": {},
     "output_type": "execute_result"
    }
   ],
   "source": [
    "MW2square.subs(sqrt_vevs, sqrt_vevs_approx).subs(vL,0).subs(beta,0).expand()"
   ]
  },
  {
   "cell_type": "code",
   "execution_count": 47,
   "metadata": {},
   "outputs": [],
   "source": [
    "MW2square_approx = g**2/4*vR**2"
   ]
  },
  {
   "cell_type": "markdown",
   "metadata": {},
   "source": [
    "In this approximation \n",
    "$$M_{W_1}^2 \\approx \\frac{g^2v^2}{8}$$\n",
    "$$M_{W_2}^2 \\approx \\frac{g^2}{4}v_R^2$$"
   ]
  },
  {
   "cell_type": "code",
   "execution_count": 48,
   "metadata": {},
   "outputs": [
    {
     "data": {
      "text/latex": [
       "$\\displaystyle \\left[\\begin{matrix}\\frac{g^{2} v^{2}}{8} & 0\\\\0 & \\frac{g^{2} v_{R}^{2}}{4}\\end{matrix}\\right]$"
      ],
      "text/plain": [
       "⎡ 2  2         ⎤\n",
       "⎢g ⋅v          ⎥\n",
       "⎢─────     0   ⎥\n",
       "⎢  8           ⎥\n",
       "⎢              ⎥\n",
       "⎢        2    2⎥\n",
       "⎢       g ⋅v_R ⎥\n",
       "⎢  0    ───────⎥\n",
       "⎣          4   ⎦"
      ]
     },
     "execution_count": 48,
     "metadata": {},
     "output_type": "execute_result"
    }
   ],
   "source": [
    "MW_approx = Matrix(\n",
    "    [\n",
    "        [MW1square_approx, 0 ],\n",
    "        [0, MW2square_approx]\n",
    "    ]\n",
    ")\n",
    "MW_approx"
   ]
  },
  {
   "cell_type": "markdown",
   "metadata": {},
   "source": [
    "In this approximation the gauge eigenstates are also approximate mass eigenstates, ans since the expressions for current, etc., are simpler in the $W_{L,R}\\pm$ basis ,it is often used in phenomenological studies. The mixing is given by \n",
    "\n",
    "$$\\binom{W_L^{ \\pm}}{W_R^{ \\pm}}=\\left(\\begin{array}{cc}\n",
    "\\cos \\zeta & -\\sin \\zeta e^{i \\lambda} \\\\\n",
    "\\sin \\zeta e^{-i \\lambda} & \\cos \\zeta\n",
    "\\end{array}\\right)\\binom{W_1^{ \\pm}}{W_2^{ \\pm}} .$$"
   ]
  },
  {
   "cell_type": "code",
   "execution_count": 49,
   "metadata": {},
   "outputs": [],
   "source": [
    "from sympy import cos, sin, tan"
   ]
  },
  {
   "cell_type": "code",
   "execution_count": 50,
   "metadata": {},
   "outputs": [
    {
     "data": {
      "image/png": "[encoded data removed]",
      "text/latex": [
       "$\\displaystyle \\left( \\sin{\\left(\\zeta \\right)}, \\  \\cos{\\left(\\zeta \\right)}\\right)$"
      ],
      "text/plain": [
       "(sin(\\zeta), cos(\\zeta))"
      ]
     },
     "execution_count": 50,
     "metadata": {},
     "output_type": "execute_result"
    }
   ],
   "source": [
    "zeta = symbols(r'\\zeta', positive=True)\n",
    "cz = cos(zeta)\n",
    "sz = sin(zeta)\n",
    "sz, cz"
   ]
  },
  {
   "cell_type": "code",
   "execution_count": 51,
   "metadata": {},
   "outputs": [
    {
     "data": {
      "text/latex": [
       "$\\displaystyle \\left[\\begin{matrix}\\cos{\\left(\\zeta \\right)} & - \\sin{\\left(\\zeta \\right)}\\\\\\sin{\\left(\\zeta \\right)} & \\cos{\\left(\\zeta \\right)}\\end{matrix}\\right]$"
      ],
      "text/plain": [
       "⎡cos(\\zeta)  -sin(\\zeta)⎤\n",
       "⎢                       ⎥\n",
       "⎣sin(\\zeta)  cos(\\zeta) ⎦"
      ]
     },
     "execution_count": 51,
     "metadata": {},
     "output_type": "execute_result"
    }
   ],
   "source": [
    "RW = Matrix(\n",
    "    [\n",
    "        [cz, -sz],\n",
    "        [sz, cz]\n",
    "    ]\n",
    ")\n",
    "RW"
   ]
  },
  {
   "cell_type": "code",
   "execution_count": 52,
   "metadata": {},
   "outputs": [],
   "source": [
    "W1p, W2p = symbols('W_1^+, W_2^+', real=True)"
   ]
  },
  {
   "cell_type": "code",
   "execution_count": 53,
   "metadata": {},
   "outputs": [
    {
     "data": {
      "text/latex": [
       "$\\displaystyle \\left[\\begin{matrix}W^{+}_{1}\\\\W^{+}_{2}\\end{matrix}\\right]$"
      ],
      "text/plain": [
       "⎡W⁺₁⎤\n",
       "⎢   ⎥\n",
       "⎣W⁺₂⎦"
      ]
     },
     "execution_count": 53,
     "metadata": {},
     "output_type": "execute_result"
    }
   ],
   "source": [
    "W12p_doublet = Matrix(\n",
    "    [\n",
    "        [W1p],\n",
    "        [W2p]\n",
    "    ]\n",
    ")\n",
    "W12p_doublet"
   ]
  },
  {
   "cell_type": "code",
   "execution_count": 54,
   "metadata": {},
   "outputs": [
    {
     "data": {
      "text/latex": [
       "$\\displaystyle \\left[\\begin{matrix}W^{+}_{1} \\cos{\\left(\\zeta \\right)} - W^{+}_{2} \\sin{\\left(\\zeta \\right)}\\\\W^{+}_{1} \\sin{\\left(\\zeta \\right)} + W^{+}_{2} \\cos{\\left(\\zeta \\right)}\\end{matrix}\\right]$"
      ],
      "text/plain": [
       "⎡W⁺₁⋅cos(\\zeta) - W⁺₂⋅sin(\\zeta)⎤\n",
       "⎢                               ⎥\n",
       "⎣W⁺₁⋅sin(\\zeta) + W⁺₂⋅cos(\\zeta)⎦"
      ]
     },
     "execution_count": 54,
     "metadata": {},
     "output_type": "execute_result"
    }
   ],
   "source": [
    "mixingW12 = RW*W12p_doublet\n",
    "mixingW12"
   ]
  },
  {
   "cell_type": "code",
   "execution_count": 55,
   "metadata": {},
   "outputs": [
    {
     "data": {
      "image/png": "[encoded data removed]",
      "text/latex": [
       "$\\displaystyle W^{+}_{L}$"
      ],
      "text/plain": [
       "W_L__+"
      ]
     },
     "execution_count": 55,
     "metadata": {},
     "output_type": "execute_result"
    }
   ],
   "source": [
    "WLp"
   ]
  },
  {
   "cell_type": "code",
   "execution_count": 56,
   "metadata": {},
   "outputs": [
    {
     "data": {
      "image/png": "[encoded data removed]",
      "text/latex": [
       "$\\displaystyle \\left( W^{+}_{1} \\cos{\\left(\\zeta \\right)} - W^{+}_{2} \\sin{\\left(\\zeta \\right)}, \\  W^{+}_{1} \\sin{\\left(\\zeta \\right)} + W^{+}_{2} \\cos{\\left(\\zeta \\right)}\\right)$"
      ],
      "text/plain": [
       "(W⁺₁⋅cos(\\zeta) - W⁺₂⋅sin(\\zeta), W⁺₁⋅sin(\\zeta) + W⁺₂⋅cos(\\zeta))"
      ]
     },
     "execution_count": 56,
     "metadata": {},
     "output_type": "execute_result"
    }
   ],
   "source": [
    "WLp_mix = mixingW12[0]\n",
    "WRp_mix = mixingW12[1]\n",
    "WLp_mix, WRp_mix"
   ]
  },
  {
   "cell_type": "markdown",
   "metadata": {},
   "source": [
    "In the limit $\\zeta \\to 0$, we have"
   ]
  },
  {
   "cell_type": "code",
   "execution_count": 57,
   "metadata": {},
   "outputs": [
    {
     "data": {
      "image/png": "[encoded data removed]",
      "text/latex": [
       "$\\displaystyle W^{+}_{1}$"
      ],
      "text/plain": [
       "W⁺₁"
      ]
     },
     "execution_count": 57,
     "metadata": {},
     "output_type": "execute_result"
    }
   ],
   "source": [
    "WLp_mix.subs(zeta, 0)"
   ]
  },
  {
   "cell_type": "code",
   "execution_count": 58,
   "metadata": {},
   "outputs": [
    {
     "data": {
      "image/png": "[encoded data removed]",
      "text/latex": [
       "$\\displaystyle W^{+}_{2}$"
      ],
      "text/plain": [
       "W⁺₂"
      ]
     },
     "execution_count": 58,
     "metadata": {},
     "output_type": "execute_result"
    }
   ],
   "source": [
    "WRp_mix.subs(zeta, 0)"
   ]
  },
  {
   "cell_type": "markdown",
   "metadata": {},
   "source": [
    "The weak eigenstates are equal to the mass eigenstates"
   ]
  },
  {
   "cell_type": "markdown",
   "metadata": {},
   "source": [
    "#### Neutral boson mass matrix"
   ]
  },
  {
   "cell_type": "code",
   "execution_count": 59,
   "metadata": {},
   "outputs": [],
   "source": [
    "from sympy.tensor.array import derive_by_array"
   ]
  },
  {
   "cell_type": "code",
   "execution_count": 60,
   "metadata": {},
   "outputs": [
    {
     "data": {
      "text/latex": [
       "$\\displaystyle \\left[\\begin{matrix}\\frac{g^{2} \\left(v^{2} + 4 v_{L}^{2}\\right)}{4} & - \\frac{g^{2} v^{2}}{4} & - g g_{B-L} v_{L}^{2}\\\\- \\frac{g^{2} v^{2}}{4} & \\frac{g^{2} \\left(v^{2} + 4 v_{R}^{2}\\right)}{4} & - g g_{B-L} v_{R}^{2}\\\\- g g_{B-L} v_{L}^{2} & - g g_{B-L} v_{R}^{2} & g_{B-L}^{2} \\left(v_{L}^{2} + v_{R}^{2}\\right)\\end{matrix}\\right]$"
      ],
      "text/plain": [
       "⎡ 2 ⎛ 2        2⎞        2  2                              ⎤\n",
       "⎢g ⋅⎝v  + 4⋅v_L ⎠      -g ⋅v                          2    ⎥\n",
       "⎢────────────────      ───────          -g⋅g_{B-L}⋅v_L     ⎥\n",
       "⎢       4                 4                                ⎥\n",
       "⎢                                                          ⎥\n",
       "⎢      2  2         2 ⎛ 2        2⎞                        ⎥\n",
       "⎢    -g ⋅v         g ⋅⎝v  + 4⋅v_R ⎠                   2    ⎥\n",
       "⎢    ───────       ────────────────     -g⋅g_{B-L}⋅v_R     ⎥\n",
       "⎢       4                 4                                ⎥\n",
       "⎢                                                          ⎥\n",
       "⎢              2                 2          2 ⎛   2      2⎞⎥\n",
       "⎣-g⋅g_{B-L}⋅v_L    -g⋅g_{B-L}⋅v_R    g_{B-L} ⋅⎝v_L  + v_R ⎠⎦"
      ]
     },
     "execution_count": 60,
     "metadata": {},
     "output_type": "execute_result"
    }
   ],
   "source": [
    "WLWRB = [W3L, W3R, Bmu]\n",
    "M0_square = derive_by_array(derive_by_array(LHiggs, WLWRB), WLWRB).simplify().tomatrix()/2\n",
    "M0_square"
   ]
  },
  {
   "cell_type": "code",
   "execution_count": 61,
   "metadata": {},
   "outputs": [
    {
     "data": {
      "text/latex": [
       "$\\displaystyle \\left[\\begin{matrix}\\frac{g^{2} v^{2}}{4} & - \\frac{g^{2} v^{2}}{4} & 0\\\\- \\frac{g^{2} v^{2}}{4} & \\frac{g^{2} \\left(v^{2} + 4 v_{R}^{2}\\right)}{4} & - g g_{B-L} v_{R}^{2}\\\\0 & - g g_{B-L} v_{R}^{2} & g_{B-L}^{2} v_{R}^{2}\\end{matrix}\\right]$"
      ],
      "text/plain": [
       "⎡  2  2         2  2                       ⎤\n",
       "⎢ g ⋅v        -g ⋅v                        ⎥\n",
       "⎢ ─────       ───────              0       ⎥\n",
       "⎢   4            4                         ⎥\n",
       "⎢                                          ⎥\n",
       "⎢  2  2    2 ⎛ 2        2⎞                 ⎥\n",
       "⎢-g ⋅v    g ⋅⎝v  + 4⋅v_R ⎠                2⎥\n",
       "⎢───────  ────────────────  -g⋅g_{B-L}⋅v_R ⎥\n",
       "⎢   4            4                         ⎥\n",
       "⎢                                          ⎥\n",
       "⎢                       2           2    2 ⎥\n",
       "⎣   0     -g⋅g_{B-L}⋅v_R     g_{B-L} ⋅v_R  ⎦"
      ]
     },
     "execution_count": 61,
     "metadata": {},
     "output_type": "execute_result"
    }
   ],
   "source": [
    "M0_square.subs(vL, 0)"
   ]
  },
  {
   "cell_type": "code",
   "execution_count": 62,
   "metadata": {},
   "outputs": [],
   "source": [
    "MZ1_square, MZ2_square, MA_square = list((M0_square.subs(vL,0)).eigenvals().keys()) # list(MW.eigenvals().keys())"
   ]
  },
  {
   "cell_type": "code",
   "execution_count": 63,
   "metadata": {},
   "outputs": [
    {
     "data": {
      "image/png": "[encoded data removed]",
      "text/latex": [
       "$\\displaystyle 0$"
      ],
      "text/plain": [
       "0"
      ]
     },
     "execution_count": 63,
     "metadata": {},
     "output_type": "execute_result"
    }
   ],
   "source": [
    "MA_square"
   ]
  },
  {
   "cell_type": "code",
   "execution_count": 64,
   "metadata": {},
   "outputs": [
    {
     "data": {
      "image/png": "[encoded data removed]",
      "text/latex": [
       "$\\displaystyle \\frac{g^{2} v^{2}}{4} + \\frac{g^{2} v_{R}^{2}}{2} + \\frac{g_{B-L}^{2} v_{R}^{2}}{2} - \\frac{\\sqrt{g^{4} v^{4} + 4 g^{4} v_{R}^{4} - 4 g^{2} g_{B-L}^{2} v^{2} v_{R}^{2} + 8 g^{2} g_{B-L}^{2} v_{R}^{4} + 4 g_{B-L}^{4} v_{R}^{4}}}{4}$"
      ],
      "text/plain": [
       "                                     _________________________________________\n",
       " 2  2    2    2          2    2     ╱  4  4      4    4      2        2  2    \n",
       "g ⋅v    g ⋅v_R    g_{B-L} ⋅v_R    ╲╱  g ⋅v  + 4⋅g ⋅v_R  - 4⋅g ⋅g_{B-L} ⋅v ⋅v_R\n",
       "───── + ─────── + ───────────── - ────────────────────────────────────────────\n",
       "  4        2            2                                                   4 \n",
       "\n",
       "_________________________________________\n",
       "2      2        2    4            4    4 \n",
       "  + 8⋅g ⋅g_{B-L} ⋅v_R  + 4⋅g_{B-L} ⋅v_R  \n",
       "─────────────────────────────────────────\n",
       "                                         "
      ]
     },
     "execution_count": 64,
     "metadata": {},
     "output_type": "execute_result"
    }
   ],
   "source": [
    "MZ1_square.simplify()"
   ]
  },
  {
   "cell_type": "code",
   "execution_count": 65,
   "metadata": {},
   "outputs": [
    {
     "data": {
      "image/png": "[encoded data removed]",
      "text/latex": [
       "$\\displaystyle \\frac{g^{2} v^{2}}{4} + \\frac{g^{2} v_{R}^{2}}{2} + \\frac{g_{B-L}^{2} v_{R}^{2}}{2} + \\frac{\\sqrt{g^{4} v^{4} + 4 g^{4} v_{R}^{4} - 4 g^{2} g_{B-L}^{2} v^{2} v_{R}^{2} + 8 g^{2} g_{B-L}^{2} v_{R}^{4} + 4 g_{B-L}^{4} v_{R}^{4}}}{4}$"
      ],
      "text/plain": [
       "                                     _________________________________________\n",
       " 2  2    2    2          2    2     ╱  4  4      4    4      2        2  2    \n",
       "g ⋅v    g ⋅v_R    g_{B-L} ⋅v_R    ╲╱  g ⋅v  + 4⋅g ⋅v_R  - 4⋅g ⋅g_{B-L} ⋅v ⋅v_R\n",
       "───── + ─────── + ───────────── + ────────────────────────────────────────────\n",
       "  4        2            2                                                   4 \n",
       "\n",
       "_________________________________________\n",
       "2      2        2    4            4    4 \n",
       "  + 8⋅g ⋅g_{B-L} ⋅v_R  + 4⋅g_{B-L} ⋅v_R  \n",
       "─────────────────────────────────────────\n",
       "                                         "
      ]
     },
     "execution_count": 65,
     "metadata": {},
     "output_type": "execute_result"
    }
   ],
   "source": [
    "MZ2_square"
   ]
  },
  {
   "cell_type": "markdown",
   "metadata": {},
   "source": [
    "If $v_R$ is large"
   ]
  },
  {
   "cell_type": "code",
   "execution_count": 66,
   "metadata": {},
   "outputs": [
    {
     "data": {
      "image/png": "[encoded data removed]",
      "text/latex": [
       "$\\displaystyle v_{R}^{2} \\left(\\frac{g^{2}}{2} + \\frac{g_{B-L}^{2}}{2}\\right) - \\frac{\\sqrt{- 4 g^{2} g_{B-L}^{2} v^{2} v_{R}^{2} + v_{R}^{4} \\cdot \\left(4 g^{4} + 8 g^{2} g_{B-L}^{2} + 4 g_{B-L}^{4}\\right)}}{4}$"
      ],
      "text/plain": [
       "                          ____________________________________________________\n",
       "     ⎛ 2          2⎞     ╱      2        2  2    2      4 ⎛   4      2        \n",
       "   2 ⎜g    g_{B-L} ⎟   ╲╱  - 4⋅g ⋅g_{B-L} ⋅v ⋅v_R  + v_R ⋅⎝4⋅g  + 8⋅g ⋅g_{B-L}\n",
       "v_R ⋅⎜── + ────────⎟ - ───────────────────────────────────────────────────────\n",
       "     ⎝2       2    ⎠                                      4                   \n",
       "\n",
       "________________\n",
       "2            4⎞ \n",
       "  + 4⋅g_{B-L} ⎠ \n",
       "────────────────\n",
       "                "
      ]
     },
     "execution_count": 66,
     "metadata": {},
     "output_type": "execute_result"
    }
   ],
   "source": [
    "MZ1_square_approx = MZ1_square.subs(g**2*v**2/4,0).subs(g**4*v**4, 0).collect(vR)\n",
    "MZ1_square_approx "
   ]
  },
  {
   "cell_type": "code",
   "execution_count": 67,
   "metadata": {},
   "outputs": [
    {
     "data": {
      "image/png": "[encoded data removed]",
      "text/latex": [
       "$\\displaystyle v_{R}^{2} \\left(\\frac{g^{2}}{2} + \\frac{g_{B-L}^{2}}{2}\\right) + \\frac{\\sqrt{- 4 g^{2} g_{B-L}^{2} v^{2} v_{R}^{2} + v_{R}^{4} \\cdot \\left(4 g^{4} + 8 g^{2} g_{B-L}^{2} + 4 g_{B-L}^{4}\\right)}}{4}$"
      ],
      "text/plain": [
       "                          ____________________________________________________\n",
       "     ⎛ 2          2⎞     ╱      2        2  2    2      4 ⎛   4      2        \n",
       "   2 ⎜g    g_{B-L} ⎟   ╲╱  - 4⋅g ⋅g_{B-L} ⋅v ⋅v_R  + v_R ⋅⎝4⋅g  + 8⋅g ⋅g_{B-L}\n",
       "v_R ⋅⎜── + ────────⎟ + ───────────────────────────────────────────────────────\n",
       "     ⎝2       2    ⎠                                      4                   \n",
       "\n",
       "________________\n",
       "2            4⎞ \n",
       "  + 4⋅g_{B-L} ⎠ \n",
       "────────────────\n",
       "                "
      ]
     },
     "execution_count": 67,
     "metadata": {},
     "output_type": "execute_result"
    }
   ],
   "source": [
    "MZ2_square_approx = MZ2_square.subs(g**2*v**2/4,0).subs(g**4*v**4, 0).collect(vR)\n",
    "MZ2_square_approx "
   ]
  },
  {
   "cell_type": "code",
   "execution_count": 68,
   "metadata": {},
   "outputs": [
    {
     "data": {
      "image/png": "[encoded data removed]",
      "text/latex": [
       "$\\displaystyle - 4 g^{2} g_{B-L}^{2} v^{2} v_{R}^{2} + 4 v_{R}^{4} \\left(g^{2} + g_{B-L}^{2}\\right)^{2}$"
      ],
      "text/plain": [
       "                                                2\n",
       "     2        2  2    2        4 ⎛ 2          2⎞ \n",
       "- 4⋅g ⋅g_{B-L} ⋅v ⋅v_R  + 4⋅v_R ⋅⎝g  + g_{B-L} ⎠ "
      ]
     },
     "execution_count": 68,
     "metadata": {},
     "output_type": "execute_result"
    }
   ],
   "source": [
    "MZ_root = ((MZ2_square_approx - MZ1_square_approx)*2).args[0].collect(vR, factor)\n",
    "MZ_root"
   ]
  },
  {
   "cell_type": "code",
   "execution_count": 69,
   "metadata": {},
   "outputs": [
    {
     "data": {
      "image/png": "[encoded data removed]",
      "text/latex": [
       "$\\displaystyle \\sqrt{- 4 g^{2} g_{B-L}^{2} v^{2} v_{R}^{2} + v_{R}^{4} \\cdot \\left(4 g^{4} + 8 g^{2} g_{B-L}^{2} + 4 g_{B-L}^{4}\\right)}$"
      ],
      "text/plain": [
       "   ____________________________________________________________________\n",
       "  ╱      2        2  2    2      4 ⎛   4      2        2            4⎞ \n",
       "╲╱  - 4⋅g ⋅g_{B-L} ⋅v ⋅v_R  + v_R ⋅⎝4⋅g  + 8⋅g ⋅g_{B-L}  + 4⋅g_{B-L} ⎠ "
      ]
     },
     "execution_count": 69,
     "metadata": {},
     "output_type": "execute_result"
    }
   ],
   "source": [
    "sqrt_Z = (MZ2_square_approx - MZ1_square_approx)*2\n",
    "sqrt_Z"
   ]
  },
  {
   "cell_type": "markdown",
   "metadata": {},
   "source": [
    "Following the limit $v_R$ large \n",
    "$$ \\sqrt{- 4 g^{2} g_{B-L}^{2} v^{2} v_{R}^{2} + 4 v_{R}^{4} \\left(g^{2} + g_{B-L}^{2}\\right)^{2}} = \n",
    "2v_R^2(g^2 + g_{B-L}^2) \\sqrt{1 - \\frac{g^{2} g_{B-L}^{2} v^2 }{v_R^2 \\left(g^{2} + g_{B-L}^{2}\\right)^{2}}}\n",
    "$$\n",
    "if we consider $x = - \\frac{g^{2} g_{B-L}^{2} v^2}{v_R^2 \\left(g^{2} + g_{B-L}^{2}\\right)^{2}} << 1$. Then we can use the aproximation $\\sqrt{1+x} \\approx 1 +\\frac{x}{2}$ "
   ]
  },
  {
   "cell_type": "code",
   "execution_count": 70,
   "metadata": {},
   "outputs": [
    {
     "data": {
      "image/png": "[encoded data removed]",
      "text/latex": [
       "$\\displaystyle \\left( - \\frac{g^{2} g_{B-L}^{2} v^{2}}{v_{R}^{2} \\left(g^{2} + g_{B-L}^{2}\\right)^{2}}, \\  \\frac{- g^{2} g_{B-L}^{2} v^{2} + 2 v_{R}^{2} \\left(g^{2} + g_{B-L}^{2}\\right)^{2}}{g^{2} + g_{B-L}^{2}}\\right)$"
      ],
      "text/plain": [
       "⎛                                                                2⎞\n",
       "⎜     2        2  2        2        2  2        2 ⎛ 2          2⎞ ⎟\n",
       "⎜   -g ⋅g_{B-L} ⋅v      - g ⋅g_{B-L} ⋅v  + 2⋅v_R ⋅⎝g  + g_{B-L} ⎠ ⎟\n",
       "⎜─────────────────────, ──────────────────────────────────────────⎟\n",
       "⎜                    2                 2          2               ⎟\n",
       "⎜   2 ⎛ 2          2⎞                 g  + g_{B-L}                ⎟\n",
       "⎝v_R ⋅⎝g  + g_{B-L} ⎠                                             ⎠"
      ]
     },
     "execution_count": 70,
     "metadata": {},
     "output_type": "execute_result"
    }
   ],
   "source": [
    "x = - (g**2*gBL**2*v**2)/(vR**2*(g**2 + gBL**2)**2)\n",
    "sqrt_Z_approx = ((2*vR**2*(g**2 + gBL**2))*(1 + x/2)).simplify()\n",
    "x, sqrt_Z_approx"
   ]
  },
  {
   "cell_type": "code",
   "execution_count": 71,
   "metadata": {},
   "outputs": [
    {
     "data": {
      "image/png": "[encoded data removed]",
      "text/latex": [
       "$\\displaystyle \\sqrt{- 4 g^{2} g_{B-L}^{2} v^{2} v_{R}^{2} + v_{R}^{4} \\cdot \\left(4 g^{4} + 8 g^{2} g_{B-L}^{2} + 4 g_{B-L}^{4}\\right)}$"
      ],
      "text/plain": [
       "   ____________________________________________________________________\n",
       "  ╱      2        2  2    2      4 ⎛   4      2        2            4⎞ \n",
       "╲╱  - 4⋅g ⋅g_{B-L} ⋅v ⋅v_R  + v_R ⋅⎝4⋅g  + 8⋅g ⋅g_{B-L}  + 4⋅g_{B-L} ⎠ "
      ]
     },
     "execution_count": 71,
     "metadata": {},
     "output_type": "execute_result"
    }
   ],
   "source": [
    "sqrt_Z"
   ]
  },
  {
   "cell_type": "code",
   "execution_count": 72,
   "metadata": {},
   "outputs": [
    {
     "data": {
      "image/png": "[encoded data removed]",
      "text/latex": [
       "$\\displaystyle \\frac{g^{2} g_{B-L}^{2} v^{2}}{4 \\left(g^{2} + g_{B-L}^{2}\\right)}$"
      ],
      "text/plain": [
       "   2        2  2 \n",
       "  g ⋅g_{B-L} ⋅v  \n",
       "─────────────────\n",
       "  ⎛ 2          2⎞\n",
       "4⋅⎝g  + g_{B-L} ⎠"
      ]
     },
     "execution_count": 72,
     "metadata": {},
     "output_type": "execute_result"
    }
   ],
   "source": [
    "MZ1_square_approx2 = MZ1_square_approx.subs(sqrt_Z, sqrt_Z_approx).simplify()\n",
    "MZ1_square_approx2"
   ]
  },
  {
   "cell_type": "code",
   "execution_count": 73,
   "metadata": {},
   "outputs": [
    {
     "data": {
      "image/png": "[encoded data removed]",
      "text/latex": [
       "$\\displaystyle v_{R}^{2} \\left(g^{2} + g_{B-L}^{2}\\right)$"
      ],
      "text/plain": [
       "   2 ⎛ 2          2⎞\n",
       "v_R ⋅⎝g  + g_{B-L} ⎠"
      ]
     },
     "execution_count": 73,
     "metadata": {},
     "output_type": "execute_result"
    }
   ],
   "source": [
    "MZ2_square_approx = MZ2_square_approx.subs(sqrt_Z, sqrt_Z_approx).expand().collect(vR, factor).subs(v,0)\n",
    "MZ2_square_approx"
   ]
  },
  {
   "cell_type": "markdown",
   "metadata": {},
   "source": [
    "Following the definition\n",
    "\n",
    "$$\n",
    "\\begin{aligned}\n",
    "& s_W \\equiv \\sin \\theta_W=\\frac{g^{\\prime}}{\\sqrt{g^2+2 g^{\\prime 2}}}, \\\\\n",
    "& c_W \\equiv \\cos \\theta_W=\\sqrt{\\frac{g^2+g^{\\prime 2}}{g^2+2 g^{\\prime 2}}} \\\\\n",
    "& s_Y \\equiv \\sin \\theta_Y=\\frac{g^{\\prime}}{\\sqrt{g^2+g^{\\prime 2}}} \\\\\n",
    "& c_Y \\equiv \\cos \\theta_Y=\\frac{g}{\\sqrt{g^2+g^{\\prime 2}}}\n",
    "\\end{aligned}\n",
    "$$"
   ]
  },
  {
   "cell_type": "markdown",
   "metadata": {},
   "source": [
    "Then the mixing among, the weak eigenstates $W_L^3$ $W_R^3$ and $B$ with the physical eigen states is given by\n",
    "$$\n",
    "\\left(\\begin{array}{c}\n",
    "A \\\\\n",
    "Z_1 \\\\\n",
    "Z_2\n",
    "\\end{array}\\right)=\\left(\\begin{array}{ccc}\n",
    "s_W & c_W s_Y & c_W c_Y \\\\\n",
    "-c_W & s_W s_Y & s_W c_Y \\\\\n",
    "0 & -c_Y & s_Y\n",
    "\\end{array}\\right)\\left(\\begin{array}{c}\n",
    "W_L^3 \\\\\n",
    "W_R^3 \\\\\n",
    "B\n",
    "\\end{array}\\right)\n",
    "$$"
   ]
  },
  {
   "cell_type": "code",
   "execution_count": 74,
   "metadata": {},
   "outputs": [],
   "source": [
    "thW, thY = symbols(r'\\theta_W, \\theta_Y', positive=True)\n",
    "cW, sW = cos(thW), sin(thW)\n",
    "cY, sY = cos(thY), sin(thY)"
   ]
  },
  {
   "cell_type": "code",
   "execution_count": 75,
   "metadata": {},
   "outputs": [
    {
     "data": {
      "text/latex": [
       "$\\displaystyle \\left[\\begin{matrix}\\sin{\\left(\\theta_{W} \\right)} & \\sin{\\left(\\theta_{Y} \\right)} \\cos{\\left(\\theta_{W} \\right)} & \\cos{\\left(\\theta_{W} \\right)} \\cos{\\left(\\theta_{Y} \\right)}\\\\- \\cos{\\left(\\theta_{W} \\right)} & \\sin{\\left(\\theta_{W} \\right)} \\sin{\\left(\\theta_{Y} \\right)} & \\sin{\\left(\\theta_{W} \\right)} \\cos{\\left(\\theta_{Y} \\right)}\\\\0 & - \\cos{\\left(\\theta_{Y} \\right)} & \\sin{\\left(\\theta_{Y} \\right)}\\end{matrix}\\right]$"
      ],
      "text/plain": [
       "⎡sin(\\theta_W)   sin(\\theta_Y)⋅cos(\\theta_W)  cos(\\theta_W)⋅cos(\\theta_Y)⎤\n",
       "⎢                                                                        ⎥\n",
       "⎢-cos(\\theta_W)  sin(\\theta_W)⋅sin(\\theta_Y)  sin(\\theta_W)⋅cos(\\theta_Y)⎥\n",
       "⎢                                                                        ⎥\n",
       "⎣      0               -cos(\\theta_Y)                sin(\\theta_Y)       ⎦"
      ]
     },
     "execution_count": 75,
     "metadata": {},
     "output_type": "execute_result"
    }
   ],
   "source": [
    "RZ = Matrix(\n",
    "    [\n",
    "        [sW, cW*sY, cW*cY],\n",
    "        [-cW, sW*sY, sW*cY],\n",
    "        [0, -cY, sY]\n",
    "    ]\n",
    ")\n",
    "RZ"
   ]
  },
  {
   "cell_type": "code",
   "execution_count": 76,
   "metadata": {},
   "outputs": [
    {
     "data": {
      "text/latex": [
       "$\\displaystyle \\left[\\begin{matrix}A\\\\Z_{1}\\\\Z_{2}\\end{matrix}\\right]$"
      ],
      "text/plain": [
       "⎡A ⎤\n",
       "⎢  ⎥\n",
       "⎢Z₁⎥\n",
       "⎢  ⎥\n",
       "⎣Z₂⎦"
      ]
     },
     "execution_count": 76,
     "metadata": {},
     "output_type": "execute_result"
    }
   ],
   "source": [
    "A, Z1, Z2 = symbols('A, Z_1, Z_2', real=True)\n",
    "AZ12_triplet =  Matrix(\n",
    "    [\n",
    "        [A],\n",
    "        [Z1],\n",
    "        [Z2]\n",
    "    ]\n",
    ")\n",
    "AZ12_triplet"
   ]
  },
  {
   "cell_type": "code",
   "execution_count": 77,
   "metadata": {},
   "outputs": [
    {
     "data": {
      "text/latex": [
       "$\\displaystyle \\left[\\begin{matrix}A \\sin{\\left(\\theta_{W} \\right)} - Z_{1} \\cos{\\left(\\theta_{W} \\right)}\\\\A \\sin{\\left(\\theta_{Y} \\right)} \\cos{\\left(\\theta_{W} \\right)} + Z_{1} \\sin{\\left(\\theta_{W} \\right)} \\sin{\\left(\\theta_{Y} \\right)} - Z_{2} \\cos{\\left(\\theta_{Y} \\right)}\\\\A \\cos{\\left(\\theta_{W} \\right)} \\cos{\\left(\\theta_{Y} \\right)} + Z_{1} \\sin{\\left(\\theta_{W} \\right)} \\cos{\\left(\\theta_{Y} \\right)} + Z_{2} \\sin{\\left(\\theta_{Y} \\right)}\\end{matrix}\\right]$"
      ],
      "text/plain": [
       "⎡                       A⋅sin(\\theta_W) - Z₁⋅cos(\\theta_W)                    \n",
       "⎢                                                                             \n",
       "⎢A⋅sin(\\theta_Y)⋅cos(\\theta_W) + Z₁⋅sin(\\theta_W)⋅sin(\\theta_Y) - Z₂⋅cos(\\thet\n",
       "⎢                                                                             \n",
       "⎣A⋅cos(\\theta_W)⋅cos(\\theta_Y) + Z₁⋅sin(\\theta_W)⋅cos(\\theta_Y) + Z₂⋅sin(\\thet\n",
       "\n",
       "    ⎤\n",
       "    ⎥\n",
       "a_Y)⎥\n",
       "    ⎥\n",
       "a_Y)⎦"
      ]
     },
     "execution_count": 77,
     "metadata": {},
     "output_type": "execute_result"
    }
   ],
   "source": [
    "mixingAZ12 = RZ.T*AZ12_triplet\n",
    "mixingAZ12"
   ]
  },
  {
   "cell_type": "code",
   "execution_count": 78,
   "metadata": {},
   "outputs": [],
   "source": [
    "W3L_mix = mixingAZ12[0]\n",
    "W3R_mix = mixingAZ12[1]\n",
    "B_mix = mixingAZ12[2]"
   ]
  },
  {
   "cell_type": "code",
   "execution_count": 79,
   "metadata": {},
   "outputs": [
    {
     "data": {
      "image/png": "[encoded data removed]",
      "text/latex": [
       "$\\displaystyle \\left( A \\sin{\\left(\\theta_{W} \\right)} - Z_{1} \\cos{\\left(\\theta_{W} \\right)}, \\  A \\sin{\\left(\\theta_{W} \\right)} - Z_{1} \\cos{\\left(\\theta_{W} \\right)}\\right)$"
      ],
      "text/plain": [
       "(A⋅sin(\\theta_W) - Z₁⋅cos(\\theta_W), A⋅sin(\\theta_W) - Z₁⋅cos(\\theta_W))"
      ]
     },
     "execution_count": 79,
     "metadata": {},
     "output_type": "execute_result"
    }
   ],
   "source": [
    "W3L_mix, W3L_mix.subs(thY,0)"
   ]
  },
  {
   "cell_type": "code",
   "execution_count": 80,
   "metadata": {},
   "outputs": [
    {
     "data": {
      "image/png": "[encoded data removed]",
      "text/latex": [
       "$\\displaystyle \\left( A \\sin{\\left(\\theta_{Y} \\right)} \\cos{\\left(\\theta_{W} \\right)} + Z_{1} \\sin{\\left(\\theta_{W} \\right)} \\sin{\\left(\\theta_{Y} \\right)} - Z_{2} \\cos{\\left(\\theta_{Y} \\right)}, \\  - Z_{2}\\right)$"
      ],
      "text/plain": [
       "(A⋅sin(\\theta_Y)⋅cos(\\theta_W) + Z₁⋅sin(\\theta_W)⋅sin(\\theta_Y) - Z₂⋅cos(\\thet\n",
       "a_Y), -Z₂)"
      ]
     },
     "execution_count": 80,
     "metadata": {},
     "output_type": "execute_result"
    }
   ],
   "source": [
    "W3R_mix, W3R_mix.subs(thY,0)"
   ]
  },
  {
   "cell_type": "code",
   "execution_count": 81,
   "metadata": {},
   "outputs": [
    {
     "data": {
      "image/png": "[encoded data removed]",
      "text/latex": [
       "$\\displaystyle \\left( A \\cos{\\left(\\theta_{W} \\right)} \\cos{\\left(\\theta_{Y} \\right)} + Z_{1} \\sin{\\left(\\theta_{W} \\right)} \\cos{\\left(\\theta_{Y} \\right)} + Z_{2} \\sin{\\left(\\theta_{Y} \\right)}, \\  A \\cos{\\left(\\theta_{W} \\right)} + Z_{1} \\sin{\\left(\\theta_{W} \\right)}\\right)$"
      ],
      "text/plain": [
       "(A⋅cos(\\theta_W)⋅cos(\\theta_Y) + Z₁⋅sin(\\theta_W)⋅cos(\\theta_Y) + Z₂⋅sin(\\thet\n",
       "a_Y), A⋅cos(\\theta_W) + Z₁⋅sin(\\theta_W))"
      ]
     },
     "execution_count": 81,
     "metadata": {},
     "output_type": "execute_result"
    }
   ],
   "source": [
    "B_mix, B_mix.subs(thY,0)"
   ]
  },
  {
   "cell_type": "markdown",
   "metadata": {},
   "source": [
    "## Scalar potential and Higgs mass spectrum"
   ]
  },
  {
   "cell_type": "code",
   "execution_count": 82,
   "metadata": {},
   "outputs": [],
   "source": [
    "from sympy.physics.quantum import Dagger\n",
    "from sympy import solve"
   ]
  },
  {
   "cell_type": "code",
   "execution_count": 83,
   "metadata": {},
   "outputs": [
    {
     "data": {
      "text/latex": [
       "$\\displaystyle \\left[\\begin{matrix}\\left(\\phi^{0}_{1}\\right)^{2} + \\phi^{+}_{2} \\phi^{-}_{2} & \\phi^{+}_{1} \\phi^{0}_{1} + \\phi^{+}_{2} \\phi^{0}_{2}\\\\\\phi^{-}_{1} \\phi^{0}_{1} + \\phi^{-}_{2} \\phi^{0}_{2} & \\phi^{+}_{1} \\phi^{-}_{1} + \\left(\\phi^{0}_{2}\\right)^{2}\\end{matrix}\\right]$"
      ],
      "text/plain": [
       "⎡         2                                                  ⎤\n",
       "⎢   \\phi⁰₁  + \\phi⁺₂⋅\\phi⁻₂     \\phi⁺₁⋅\\phi⁰₁ + \\phi⁺₂⋅\\phi⁰₂⎥\n",
       "⎢                                                            ⎥\n",
       "⎢                                                        2   ⎥\n",
       "⎣\\phi⁻₁⋅\\phi⁰₁ + \\phi⁻₂⋅\\phi⁰₂     \\phi⁺₁⋅\\phi⁻₁ + \\phi⁰₂    ⎦"
      ]
     },
     "metadata": {},
     "output_type": "display_data"
    },
    {
     "data": {
      "text/latex": [
       "$\\displaystyle \\left[\\begin{matrix}- \\phi^{-}_{1} \\phi^{-}_{2} + \\phi^{0}_{1} \\phi^{0}_{2} & \\phi^{+}_{2} \\phi^{0}_{2} - \\phi^{-}_{2} \\phi^{0}_{2}\\\\- \\phi^{+}_{1} \\phi^{0}_{1} + \\phi^{-}_{1} \\phi^{0}_{1} & - \\phi^{+}_{1} \\phi^{+}_{2} + \\phi^{0}_{1} \\phi^{0}_{2}\\end{matrix}\\right]$"
      ],
      "text/plain": [
       "⎡-\\phi⁻₁⋅\\phi⁻₂ + \\phi⁰₁⋅\\phi⁰₂  \\phi⁺₂⋅\\phi⁰₂ - \\phi⁻₂⋅\\phi⁰₂ ⎤\n",
       "⎢                                                              ⎥\n",
       "⎣-\\phi⁺₁⋅\\phi⁰₁ + \\phi⁻₁⋅\\phi⁰₁  -\\phi⁺₁⋅\\phi⁺₂ + \\phi⁰₁⋅\\phi⁰₂⎦"
      ]
     },
     "metadata": {},
     "output_type": "display_data"
    },
    {
     "data": {
      "text/latex": [
       "$\\displaystyle \\left[\\begin{matrix}- \\phi^{-}_{1} \\phi^{-}_{2} + \\phi^{0}_{1} \\phi^{0}_{2} & \\phi^{+}_{1} \\phi^{0}_{2} - \\phi^{-}_{1} \\phi^{0}_{2}\\\\- \\phi^{0}_{1} \\phi^{+}_{2} + \\phi^{0}_{1} \\phi^{-}_{2} & - \\phi^{+}_{1} \\phi^{+}_{2} + \\phi^{0}_{1} \\phi^{0}_{2}\\end{matrix}\\right]$"
      ],
      "text/plain": [
       "⎡-\\phi⁻₁⋅\\phi⁻₂ + \\phi⁰₁⋅\\phi⁰₂  \\phi⁺₁⋅\\phi⁰₂ - \\phi⁻₁⋅\\phi⁰₂ ⎤\n",
       "⎢                                                              ⎥\n",
       "⎣-\\phi⁰₁⋅\\phi⁺₂ + \\phi⁰₁⋅\\phi⁻₂  -\\phi⁺₁⋅\\phi⁺₂ + \\phi⁰₁⋅\\phi⁰₂⎦"
      ]
     },
     "metadata": {},
     "output_type": "display_data"
    },
    {
     "data": {
      "text/latex": [
       "$\\displaystyle \\left[\\begin{matrix}\\phi^{+}_{1} \\phi^{-}_{1} + \\left(\\phi^{0}_{1}\\right)^{2} & \\phi^{+}_{1} \\phi^{0}_{2} + \\phi^{0}_{1} \\phi^{+}_{2}\\\\\\phi^{-}_{1} \\phi^{0}_{2} + \\phi^{0}_{1} \\phi^{-}_{2} & \\phi^{+}_{2} \\phi^{-}_{2} + \\left(\\phi^{0}_{2}\\right)^{2}\\end{matrix}\\right]$"
      ],
      "text/plain": [
       "⎡                         2                                  ⎤\n",
       "⎢   \\phi⁺₁⋅\\phi⁻₁ + \\phi⁰₁      \\phi⁺₁⋅\\phi⁰₂ + \\phi⁰₁⋅\\phi⁺₂⎥\n",
       "⎢                                                            ⎥\n",
       "⎢                                                        2   ⎥\n",
       "⎣\\phi⁻₁⋅\\phi⁰₂ + \\phi⁰₁⋅\\phi⁻₂     \\phi⁺₂⋅\\phi⁻₂ + \\phi⁰₂    ⎦"
      ]
     },
     "metadata": {},
     "output_type": "display_data"
    }
   ],
   "source": [
    "PhiDagger = Dagger(Phi).subs(conjugate_scalarsPhi)\n",
    "#PhiDagger\n",
    "PhiDaggerPhi = PhiDagger*Phi\n",
    "display(PhiDaggerPhi)\n",
    "Phitilde = msigma(2)*Phi*msigma(2)\n",
    "#Phitilde\n",
    "PhitildePhiDagger = Phitilde*PhiDagger\n",
    "display(PhitildePhiDagger)\n",
    "PhitildeDagger = Dagger(Phitilde).subs(conjugate_scalarsPhi)\n",
    "#PhitildeDagger\n",
    "PhitildeDaggerPhi = PhitildeDagger*Phi\n",
    "display(PhitildeDaggerPhi)\n",
    "PhiPhiDagger = Phi*PhiDagger\n",
    "display(PhiPhiDagger)"
   ]
  },
  {
   "cell_type": "code",
   "execution_count": 84,
   "metadata": {},
   "outputs": [],
   "source": [
    "conjugate_scalars_deltaL = {\n",
    "    conjugate(deltaLp):deltaLm,\n",
    "    conjugate(deltaLm):deltaLp,\n",
    "    conjugate(deltaLpp):deltaLmm,\n",
    "    conjugate(deltaLmm):deltaLpp\n",
    "}\n",
    "\n",
    "conjugate_scalars_deltaR = {\n",
    "    conjugate(deltaRp):deltaRm,\n",
    "    conjugate(deltaRm):deltaRp,\n",
    "    conjugate(deltaRpp):deltaRmm,\n",
    "    conjugate(deltaRmm):deltaRpp\n",
    "}"
   ]
  },
  {
   "cell_type": "code",
   "execution_count": 85,
   "metadata": {},
   "outputs": [
    {
     "data": {
      "text/latex": [
       "$\\displaystyle \\left[\\begin{matrix}\\frac{\\sqrt{2} \\delta^{+}_{L}}{2} & \\delta_L^{++}\\\\\\delta^{0}_{L} & - \\frac{\\sqrt{2} \\delta^{+}_{L}}{2}\\end{matrix}\\right]$"
      ],
      "text/plain": [
       "⎡√2⋅\\delta_L__+                  ⎤\n",
       "⎢──────────────   \\delta_L__{++} ⎥\n",
       "⎢      2                         ⎥\n",
       "⎢                                ⎥\n",
       "⎢                -√2⋅\\delta_L__+ ⎥\n",
       "⎢ \\delta_L__0    ────────────────⎥\n",
       "⎣                       2        ⎦"
      ]
     },
     "execution_count": 85,
     "metadata": {},
     "output_type": "execute_result"
    }
   ],
   "source": [
    "DeltaL"
   ]
  },
  {
   "cell_type": "code",
   "execution_count": 86,
   "metadata": {},
   "outputs": [
    {
     "data": {
      "text/latex": [
       "$\\displaystyle \\left[\\begin{matrix}\\frac{\\sqrt{2} \\delta^{-}_{L}}{2} & \\delta^{0}_{L}\\\\\\delta_L^{--} & - \\frac{\\sqrt{2} \\delta^{-}_{L}}{2}\\end{matrix}\\right]$"
      ],
      "text/plain": [
       "⎡√2⋅\\delta_L__-                  ⎤\n",
       "⎢──────────────    \\delta_L__0   ⎥\n",
       "⎢      2                         ⎥\n",
       "⎢                                ⎥\n",
       "⎢                -√2⋅\\delta_L__- ⎥\n",
       "⎢\\delta_L__{--}  ────────────────⎥\n",
       "⎣                       2        ⎦"
      ]
     },
     "execution_count": 86,
     "metadata": {},
     "output_type": "execute_result"
    }
   ],
   "source": [
    "DeltaLDagger = Dagger(DeltaL).subs(conjugate_scalars_deltaL)\n",
    "DeltaLDagger"
   ]
  },
  {
   "cell_type": "code",
   "execution_count": 87,
   "metadata": {},
   "outputs": [
    {
     "data": {
      "text/latex": [
       "$\\displaystyle \\left[\\begin{matrix}\\frac{\\sqrt{2} \\delta^{-}_{R}}{2} & \\delta^{0}_{R}\\\\\\delta_R^{--} & - \\frac{\\sqrt{2} \\delta^{-}_{R}}{2}\\end{matrix}\\right]$"
      ],
      "text/plain": [
       "⎡√2⋅\\delta_R__-                  ⎤\n",
       "⎢──────────────    \\delta_R__0   ⎥\n",
       "⎢      2                         ⎥\n",
       "⎢                                ⎥\n",
       "⎢                -√2⋅\\delta_R__- ⎥\n",
       "⎢\\delta_R__{--}  ────────────────⎥\n",
       "⎣                       2        ⎦"
      ]
     },
     "execution_count": 87,
     "metadata": {},
     "output_type": "execute_result"
    }
   ],
   "source": [
    "DeltaRDagger = Dagger(DeltaR).subs(conjugate_scalars_deltaR)\n",
    "DeltaRDagger"
   ]
  },
  {
   "cell_type": "code",
   "execution_count": 88,
   "metadata": {},
   "outputs": [
    {
     "data": {
      "text/latex": [
       "$\\displaystyle \\left[\\begin{matrix}\\frac{\\delta^{+}_{L} \\delta^{-}_{L}}{2} + \\delta_L^{++} \\delta_L^{--} & \\frac{\\sqrt{2} \\delta^{+}_{L} \\delta^{0}_{L}}{2} - \\frac{\\sqrt{2} \\delta^{-}_{L} \\delta_L^{++}}{2}\\\\- \\frac{\\sqrt{2} \\delta^{+}_{L} \\delta_L^{--}}{2} + \\frac{\\sqrt{2} \\delta^{-}_{L} \\delta^{0}_{L}}{2} & \\frac{\\delta^{+}_{L} \\delta^{-}_{L}}{2} + \\left(\\delta^{0}_{L}\\right)^{2}\\end{matrix}\\right]$"
      ],
      "text/plain": [
       "⎡  \\delta_L__+⋅\\delta_L__-                                     √2⋅\\delta_L__+⋅\n",
       "⎢  ─────────────────────── + \\delta_L__{++}⋅\\delta_L__{--}     ───────────────\n",
       "⎢             2                                                            2  \n",
       "⎢                                                                             \n",
       "⎢  √2⋅\\delta_L__+⋅\\delta_L__{--}   √2⋅\\delta_L__-⋅\\delta_L__0            \\delt\n",
       "⎢- ───────────────────────────── + ──────────────────────────            ─────\n",
       "⎣                2                             2                              \n",
       "\n",
       "\\delta_L__0   √2⋅\\delta_L__-⋅\\delta_L__{++}⎤\n",
       "─────────── - ─────────────────────────────⎥\n",
       "                            2              ⎥\n",
       "                                           ⎥\n",
       "a_L__+⋅\\delta_L__-              2          ⎥\n",
       "────────────────── + \\delta_L__0           ⎥\n",
       "      2                                    ⎦"
      ]
     },
     "metadata": {},
     "output_type": "display_data"
    },
    {
     "data": {
      "text/latex": [
       "$\\displaystyle \\left[\\begin{matrix}\\frac{\\left(\\delta^{+}_{L}\\right)^{2}}{2} + \\delta^{0}_{L} \\delta_L^{++} & 0\\\\0 & \\frac{\\left(\\delta^{+}_{L}\\right)^{2}}{2} + \\delta^{0}_{L} \\delta_L^{++}\\end{matrix}\\right]$"
      ],
      "text/plain": [
       "⎡           2                                                                 \n",
       "⎢\\delta_L__+                                                                  \n",
       "⎢──────────── + \\delta_L__0⋅\\delta_L__{++}                      0             \n",
       "⎢     2                                                                       \n",
       "⎢                                                                             \n",
       "⎢                                                      2                      \n",
       "⎢                                           \\delta_L__+                       \n",
       "⎢                    0                      ──────────── + \\delta_L__0⋅\\delta_\n",
       "⎣                                                2                            \n",
       "\n",
       "       ⎤\n",
       "       ⎥\n",
       "       ⎥\n",
       "       ⎥\n",
       "       ⎥\n",
       "       ⎥\n",
       "       ⎥\n",
       "L__{++}⎥\n",
       "       ⎦"
      ]
     },
     "metadata": {},
     "output_type": "display_data"
    },
    {
     "data": {
      "text/latex": [
       "$\\displaystyle \\left[\\begin{matrix}\\frac{\\delta^{+}_{L} \\delta^{-}_{L}}{2} + \\left(\\delta^{0}_{L}\\right)^{2} & - \\frac{\\sqrt{2} \\delta^{+}_{L} \\delta^{0}_{L}}{2} + \\frac{\\sqrt{2} \\delta^{-}_{L} \\delta_L^{++}}{2}\\\\\\frac{\\sqrt{2} \\delta^{+}_{L} \\delta_L^{--}}{2} - \\frac{\\sqrt{2} \\delta^{-}_{L} \\delta^{0}_{L}}{2} & \\frac{\\delta^{+}_{L} \\delta^{-}_{L}}{2} + \\delta_L^{++} \\delta_L^{--}\\end{matrix}\\right]$"
      ],
      "text/plain": [
       "⎡          \\delta_L__+⋅\\delta_L__-              2              √2⋅\\delta_L__+⋅\n",
       "⎢          ─────────────────────── + \\delta_L__0             - ───────────────\n",
       "⎢                     2                                                    2  \n",
       "⎢                                                                             \n",
       "⎢√2⋅\\delta_L__+⋅\\delta_L__{--}   √2⋅\\delta_L__-⋅\\delta_L__0    \\delta_L__+⋅\\de\n",
       "⎢───────────────────────────── - ──────────────────────────    ───────────────\n",
       "⎣              2                             2                            2   \n",
       "\n",
       "\\delta_L__0   √2⋅\\delta_L__-⋅\\delta_L__{++}⎤\n",
       "─────────── + ─────────────────────────────⎥\n",
       "                            2              ⎥\n",
       "                                           ⎥\n",
       "lta_L__-                                   ⎥\n",
       "──────── + \\delta_L__{++}⋅\\delta_L__{--}   ⎥\n",
       "                                           ⎦"
      ]
     },
     "metadata": {},
     "output_type": "display_data"
    },
    {
     "data": {
      "text/latex": [
       "$\\displaystyle \\left[\\begin{matrix}\\frac{\\left(\\delta^{-}_{L}\\right)^{2}}{2} + \\delta^{0}_{L} \\delta_L^{--} & 0\\\\0 & \\frac{\\left(\\delta^{-}_{L}\\right)^{2}}{2} + \\delta^{0}_{L} \\delta_L^{--}\\end{matrix}\\right]$"
      ],
      "text/plain": [
       "⎡           2                                                                 \n",
       "⎢\\delta_L__-                                                                  \n",
       "⎢──────────── + \\delta_L__0⋅\\delta_L__{--}                      0             \n",
       "⎢     2                                                                       \n",
       "⎢                                                                             \n",
       "⎢                                                      2                      \n",
       "⎢                                           \\delta_L__-                       \n",
       "⎢                    0                      ──────────── + \\delta_L__0⋅\\delta_\n",
       "⎣                                                2                            \n",
       "\n",
       "       ⎤\n",
       "       ⎥\n",
       "       ⎥\n",
       "       ⎥\n",
       "       ⎥\n",
       "       ⎥\n",
       "       ⎥\n",
       "L__{--}⎥\n",
       "       ⎦"
      ]
     },
     "metadata": {},
     "output_type": "display_data"
    }
   ],
   "source": [
    "DeltaLDeltaLDagger = DeltaL*DeltaLDagger\n",
    "display(DeltaLDeltaLDagger)\n",
    "DeltaLDeltaL = DeltaL*DeltaL\n",
    "display(DeltaLDeltaL)\n",
    "DeltaLDaggerDeltaL = DeltaLDagger*DeltaL\n",
    "display(DeltaLDaggerDeltaL)\n",
    "DeltaLDaggerDeltaLDagger = DeltaLDagger*DeltaLDagger\n",
    "display(DeltaLDaggerDeltaLDagger)"
   ]
  },
  {
   "cell_type": "code",
   "execution_count": 89,
   "metadata": {},
   "outputs": [
    {
     "data": {
      "text/latex": [
       "$\\displaystyle \\left[\\begin{matrix}\\frac{\\delta^{+}_{R} \\delta^{-}_{R}}{2} + \\delta_R^{++} \\delta_R^{--} & \\frac{\\sqrt{2} \\delta^{+}_{R} \\delta^{0}_{R}}{2} - \\frac{\\sqrt{2} \\delta^{-}_{R} \\delta_R^{++}}{2}\\\\- \\frac{\\sqrt{2} \\delta^{+}_{R} \\delta_R^{--}}{2} + \\frac{\\sqrt{2} \\delta^{-}_{R} \\delta^{0}_{R}}{2} & \\frac{\\delta^{+}_{R} \\delta^{-}_{R}}{2} + \\left(\\delta^{0}_{R}\\right)^{2}\\end{matrix}\\right]$"
      ],
      "text/plain": [
       "⎡  \\delta_R__+⋅\\delta_R__-                                     √2⋅\\delta_R__+⋅\n",
       "⎢  ─────────────────────── + \\delta_R__{++}⋅\\delta_R__{--}     ───────────────\n",
       "⎢             2                                                            2  \n",
       "⎢                                                                             \n",
       "⎢  √2⋅\\delta_R__+⋅\\delta_R__{--}   √2⋅\\delta_R__-⋅\\delta_R__0            \\delt\n",
       "⎢- ───────────────────────────── + ──────────────────────────            ─────\n",
       "⎣                2                             2                              \n",
       "\n",
       "\\delta_R__0   √2⋅\\delta_R__-⋅\\delta_R__{++}⎤\n",
       "─────────── - ─────────────────────────────⎥\n",
       "                            2              ⎥\n",
       "                                           ⎥\n",
       "a_R__+⋅\\delta_R__-              2          ⎥\n",
       "────────────────── + \\delta_R__0           ⎥\n",
       "      2                                    ⎦"
      ]
     },
     "metadata": {},
     "output_type": "display_data"
    },
    {
     "data": {
      "text/latex": [
       "$\\displaystyle \\left[\\begin{matrix}\\frac{\\left(\\delta^{+}_{R}\\right)^{2}}{2} + \\delta^{0}_{R} \\delta_R^{++} & 0\\\\0 & \\frac{\\left(\\delta^{+}_{R}\\right)^{2}}{2} + \\delta^{0}_{R} \\delta_R^{++}\\end{matrix}\\right]$"
      ],
      "text/plain": [
       "⎡           2                                                                 \n",
       "⎢\\delta_R__+                                                                  \n",
       "⎢──────────── + \\delta_R__0⋅\\delta_R__{++}                      0             \n",
       "⎢     2                                                                       \n",
       "⎢                                                                             \n",
       "⎢                                                      2                      \n",
       "⎢                                           \\delta_R__+                       \n",
       "⎢                    0                      ──────────── + \\delta_R__0⋅\\delta_\n",
       "⎣                                                2                            \n",
       "\n",
       "       ⎤\n",
       "       ⎥\n",
       "       ⎥\n",
       "       ⎥\n",
       "       ⎥\n",
       "       ⎥\n",
       "       ⎥\n",
       "R__{++}⎥\n",
       "       ⎦"
      ]
     },
     "metadata": {},
     "output_type": "display_data"
    },
    {
     "data": {
      "text/latex": [
       "$\\displaystyle \\left[\\begin{matrix}\\frac{\\delta^{+}_{R} \\delta^{-}_{R}}{2} + \\left(\\delta^{0}_{R}\\right)^{2} & - \\frac{\\sqrt{2} \\delta^{+}_{R} \\delta^{0}_{R}}{2} + \\frac{\\sqrt{2} \\delta^{-}_{R} \\delta_R^{++}}{2}\\\\\\frac{\\sqrt{2} \\delta^{+}_{R} \\delta_R^{--}}{2} - \\frac{\\sqrt{2} \\delta^{-}_{R} \\delta^{0}_{R}}{2} & \\frac{\\delta^{+}_{R} \\delta^{-}_{R}}{2} + \\delta_R^{++} \\delta_R^{--}\\end{matrix}\\right]$"
      ],
      "text/plain": [
       "⎡          \\delta_R__+⋅\\delta_R__-              2              √2⋅\\delta_R__+⋅\n",
       "⎢          ─────────────────────── + \\delta_R__0             - ───────────────\n",
       "⎢                     2                                                    2  \n",
       "⎢                                                                             \n",
       "⎢√2⋅\\delta_R__+⋅\\delta_R__{--}   √2⋅\\delta_R__-⋅\\delta_R__0    \\delta_R__+⋅\\de\n",
       "⎢───────────────────────────── - ──────────────────────────    ───────────────\n",
       "⎣              2                             2                            2   \n",
       "\n",
       "\\delta_R__0   √2⋅\\delta_R__-⋅\\delta_R__{++}⎤\n",
       "─────────── + ─────────────────────────────⎥\n",
       "                            2              ⎥\n",
       "                                           ⎥\n",
       "lta_R__-                                   ⎥\n",
       "──────── + \\delta_R__{++}⋅\\delta_R__{--}   ⎥\n",
       "                                           ⎦"
      ]
     },
     "metadata": {},
     "output_type": "display_data"
    },
    {
     "data": {
      "text/latex": [
       "$\\displaystyle \\left[\\begin{matrix}\\frac{\\left(\\delta^{-}_{R}\\right)^{2}}{2} + \\delta^{0}_{R} \\delta_R^{--} & 0\\\\0 & \\frac{\\left(\\delta^{-}_{R}\\right)^{2}}{2} + \\delta^{0}_{R} \\delta_R^{--}\\end{matrix}\\right]$"
      ],
      "text/plain": [
       "⎡           2                                                                 \n",
       "⎢\\delta_R__-                                                                  \n",
       "⎢──────────── + \\delta_R__0⋅\\delta_R__{--}                      0             \n",
       "⎢     2                                                                       \n",
       "⎢                                                                             \n",
       "⎢                                                      2                      \n",
       "⎢                                           \\delta_R__-                       \n",
       "⎢                    0                      ──────────── + \\delta_R__0⋅\\delta_\n",
       "⎣                                                2                            \n",
       "\n",
       "       ⎤\n",
       "       ⎥\n",
       "       ⎥\n",
       "       ⎥\n",
       "       ⎥\n",
       "       ⎥\n",
       "       ⎥\n",
       "R__{--}⎥\n",
       "       ⎦"
      ]
     },
     "metadata": {},
     "output_type": "display_data"
    }
   ],
   "source": [
    "DeltaRDeltaRDagger = DeltaR*DeltaRDagger\n",
    "display(DeltaRDeltaRDagger)\n",
    "DeltaRDeltaR = DeltaR*DeltaR\n",
    "display(DeltaRDeltaR)\n",
    "DeltaRDaggerDeltaR = DeltaRDagger*DeltaR\n",
    "display(DeltaRDaggerDeltaR)\n",
    "DeltaRDaggerDeltaRDagger = DeltaRDagger*DeltaRDagger\n",
    "display(DeltaRDaggerDeltaRDagger)"
   ]
  },
  {
   "cell_type": "markdown",
   "metadata": {},
   "source": [
    "### Higgs potential"
   ]
  },
  {
   "cell_type": "code",
   "execution_count": 90,
   "metadata": {},
   "outputs": [],
   "source": [
    "mu12, mu22, mu32 = symbols(r'\\mu_1^2, \\mu_2^2, \\mu_3^2', real=True)\n",
    "lamb1, lamb2, lamb3, lamb4 = symbols(r'\\lambda_1, \\lambda_2, \\lambda_3, \\lambda_4', real=True)\n",
    "rho1, rho2, rho3, rho4 = symbols(r'\\rho_1, \\rho_2, \\rho_3, \\rho_4', real=True)\n",
    "alpha1, alpha2, alpha3 = symbols(r'\\alpha_1, \\alpha_2, \\alpha_3', real=True)\n",
    "beta1, beta2, beta3 = symbols(r'beta_1, beta_2, beta_3', real=True)"
   ]
  },
  {
   "cell_type": "code",
   "execution_count": 91,
   "metadata": {},
   "outputs": [
    {
     "data": {
      "image/png": "[encoded data removed]",
      "text/latex": [
       "$\\displaystyle \\alpha_{1} \\left(v_{L}^{2} + v_{R}^{2}\\right) \\left(v^{2} \\sin^{2}{\\left(\\beta \\right)} + v^{2} \\cos^{2}{\\left(\\beta \\right)}\\right) + \\alpha_{2} \\cdot \\left(4 v^{2} v_{L}^{2} \\sin{\\left(\\beta \\right)} \\cos{\\left(\\beta \\right)} + 4 v^{2} v_{R}^{2} \\sin{\\left(\\beta \\right)} \\cos{\\left(\\beta \\right)}\\right) + \\alpha_{3} \\left(v^{2} v_{L}^{2} \\sin^{2}{\\left(\\beta \\right)} + v^{2} v_{R}^{2} \\sin^{2}{\\left(\\beta \\right)}\\right) + \\lambda_{1} \\left(v^{2} \\sin^{2}{\\left(\\beta \\right)} + v^{2} \\cos^{2}{\\left(\\beta \\right)}\\right)^{2} + 8 \\lambda_{2} v^{4} \\sin^{2}{\\left(\\beta \\right)} \\cos^{2}{\\left(\\beta \\right)} + 4 \\lambda_{3} v^{4} \\sin^{2}{\\left(\\beta \\right)} \\cos^{2}{\\left(\\beta \\right)} + 4 \\lambda_{4} v^{2} \\left(v^{2} \\sin^{2}{\\left(\\beta \\right)} + v^{2} \\cos^{2}{\\left(\\beta \\right)}\\right) \\sin{\\left(\\beta \\right)} \\cos{\\left(\\beta \\right)} - \\mu^{2}_{1} \\left(v^{2} \\sin^{2}{\\left(\\beta \\right)} + v^{2} \\cos^{2}{\\left(\\beta \\right)}\\right) - 4 \\mu^{2}_{2} v^{2} \\sin{\\left(\\beta \\right)} \\cos{\\left(\\beta \\right)} - \\mu^{2}_{3} \\left(v_{L}^{2} + v_{R}^{2}\\right) + \\rho_{1} \\left(v_{L}^{4} + v_{R}^{4}\\right) + \\rho_{3} v_{L}^{2} v_{R}^{2} + 2 \\beta_{1} v^{2} v_{L} v_{R} \\sin{\\left(\\beta \\right)} \\cos{\\left(\\beta \\right)} + 2 \\beta_{2} v^{2} v_{L} v_{R} \\cos^{2}{\\left(\\beta \\right)} + 2 \\beta_{3} v^{2} v_{L} v_{R} \\sin^{2}{\\left(\\beta \\right)}$"
      ],
      "text/plain": [
       "                                                                              \n",
       "        ⎛   2      2⎞ ⎛ 2    2           2    2       ⎞           ⎛   2    2  \n",
       "\\alpha₁⋅⎝v_L  + v_R ⎠⋅⎝v ⋅sin (\\beta) + v ⋅cos (\\beta)⎠ + \\alpha₂⋅⎝4⋅v ⋅v_L ⋅s\n",
       "\n",
       "                                                                              \n",
       "                          2    2                      ⎞           ⎛ 2    2    \n",
       "in(\\beta)⋅cos(\\beta) + 4⋅v ⋅v_R ⋅sin(\\beta)⋅cos(\\beta)⎠ + \\alpha₃⋅⎝v ⋅v_L ⋅sin\n",
       "\n",
       "                                                                            2 \n",
       "2           2    2    2       ⎞            ⎛ 2    2           2    2       ⎞  \n",
       " (\\beta) + v ⋅v_R ⋅sin (\\beta)⎠ + \\lambda₁⋅⎝v ⋅sin (\\beta) + v ⋅cos (\\beta)⎠  \n",
       "\n",
       "                                                                              \n",
       "              4    2           2                      4    2           2      \n",
       "+ 8⋅\\lambda₂⋅v ⋅sin (\\beta)⋅cos (\\beta) + 4⋅\\lambda₃⋅v ⋅sin (\\beta)⋅cos (\\beta\n",
       "\n",
       "                                                                              \n",
       "                2 ⎛ 2    2           2    2       ⎞                           \n",
       ") + 4⋅\\lambda₄⋅v ⋅⎝v ⋅sin (\\beta) + v ⋅cos (\\beta)⎠⋅sin(\\beta)⋅cos(\\beta) - \\m\n",
       "\n",
       "                                                                              \n",
       "    ⎛ 2    2           2    2       ⎞            2                            \n",
       "u²₁⋅⎝v ⋅sin (\\beta) + v ⋅cos (\\beta)⎠ - 4⋅\\mu²₂⋅v ⋅sin(\\beta)⋅cos(\\beta) - \\mu\n",
       "\n",
       "                                                                              \n",
       "   ⎛   2      2⎞         ⎛   4      4⎞            2    2         2            \n",
       "²₃⋅⎝v_L  + v_R ⎠ + \\rho₁⋅⎝v_L  + v_R ⎠ + \\rho₃⋅v_L ⋅v_R  + 2⋅β₁⋅v ⋅v_L⋅v_R⋅sin\n",
       "\n",
       "                                                                              \n",
       "                           2            2                2            2       \n",
       "(\\beta)⋅cos(\\beta) + 2⋅β₂⋅v ⋅v_L⋅v_R⋅cos (\\beta) + 2⋅β₃⋅v ⋅v_L⋅v_R⋅sin (\\beta)"
      ]
     },
     "execution_count": 91,
     "metadata": {},
     "output_type": "execute_result"
    }
   ],
   "source": [
    "VLRPhi = (\n",
    "    -mu12*trace(PhiDaggerPhi)\n",
    "    - mu22*(trace(Phitilde*PhiDagger) + trace(PhitildeDagger*Phi))\n",
    "    -mu32*(trace(DeltaLDeltaLDagger) + trace(DeltaRDeltaRDagger))\n",
    "    + lamb1*(trace(PhiDaggerPhi))**2\n",
    "    + lamb2*(trace(PhitildePhiDagger)**2 + trace(PhitildeDaggerPhi)**2)\n",
    "    + lamb3*trace(PhitildePhiDagger)*trace(PhitildeDaggerPhi)\n",
    "    + lamb4*trace(PhiDaggerPhi)*(trace(PhitildePhiDagger) + trace(PhitildeDaggerPhi))\n",
    "    + rho1*(trace(DeltaLDeltaLDagger)**2 + trace(DeltaRDeltaRDagger)**2)\n",
    "    + rho2*(trace(DeltaLDeltaL)*trace(DeltaLDaggerDeltaLDagger) + trace(DeltaRDeltaR)*trace(DeltaRDaggerDeltaRDagger))\n",
    "    + rho3*trace(DeltaLDeltaLDagger)*trace(DeltaRDeltaRDagger)\n",
    "    + rho4*(trace(DeltaLDeltaL)*trace(DeltaRDaggerDeltaRDagger) + trace(DeltaLDaggerDeltaLDagger)*trace(DeltaRDeltaR))\n",
    "    + alpha1*trace(PhiDaggerPhi)*(trace(DeltaLDeltaLDagger) + trace(DeltaRDeltaRDagger))\n",
    "    + alpha2*(\n",
    "        trace(PhitildePhiDagger)*trace(DeltaLDeltaLDagger) + trace(PhitildeDaggerPhi)*trace(DeltaRDeltaRDagger) \n",
    "        + trace(PhitildeDaggerPhi)*trace(DeltaLDaggerDeltaL) + trace(PhitildePhiDagger)*trace(DeltaRDaggerDeltaR)\n",
    "    )\n",
    "    + alpha3*(trace(PhiPhiDagger*DeltaLDeltaLDagger) + trace(PhiDaggerPhi*DeltaRDeltaRDagger))\n",
    "    + beta1*(trace(Phi*DeltaR*PhiDagger*DeltaLDagger) + trace(PhiDagger*DeltaL*Phi*DeltaRDagger))\n",
    "    + beta2*(trace(Phitilde*DeltaR*PhiDagger*DeltaLDagger) + trace(PhitildeDagger*DeltaL*Phi*DeltaRDagger))\n",
    "    + beta3*(trace(Phi*DeltaR*PhitildeDagger*DeltaLDagger) + trace(PhiDagger*DeltaL*Phitilde*DeltaRDagger))\n",
    ")\n",
    "VLRPhi.subs(vevL).subs(vevR).subs(vevPhi)"
   ]
  },
  {
   "cell_type": "code",
   "execution_count": 92,
   "metadata": {},
   "outputs": [],
   "source": [
    "VLRPhi_vev = VLRPhi.subs(vevL).subs(vevR).subs(vevPhi)"
   ]
  },
  {
   "cell_type": "code",
   "execution_count": 93,
   "metadata": {},
   "outputs": [],
   "source": [
    "#scalar_vevs = [cos(beta), sin(beta), vL, vR]\n",
    "#for vev in scalar_vevs:\n",
    "#    display(VLRPhi_vev.diff(vev))"
   ]
  },
  {
   "cell_type": "markdown",
   "metadata": {},
   "source": [
    "Expand neutral fields in terms of real and imaginary parts\n",
    "$$F = \\frac{1}{\\sqrt{2}}(F^r + i F^i)$$"
   ]
  },
  {
   "cell_type": "code",
   "execution_count": 94,
   "metadata": {},
   "outputs": [],
   "source": [
    "phi10r, phi10i = symbols(r'\\phi_1^{0r}, \\phi_1^{0i}', real=True)\n",
    "phi20r, phi20i = symbols(r'\\phi_2^{0r}, \\phi_2^{0i}', real=True)\n",
    "deltaR0r, deltaR0i = symbols(r'\\delta_R^{0r}, \\delta_R^{0i}', real=True)\n",
    "deltaL0r, deltaL0i = symbols(r'\\delta_L^{0r}, \\delta_L^{0i}', real=True)\n",
    "complex_scalar_fields = {\n",
    "    phi10: (phi10r + I*phi10i)/sqrt2,\n",
    "    phi20: (phi20r + I*phi20i)/sqrt2,\n",
    "    deltaR0: (deltaR0r + I*deltaR0i)/sqrt2,\n",
    "    deltaL0: (deltaL0r + I*deltaL0i)/sqrt2\n",
    "}"
   ]
  },
  {
   "cell_type": "code",
   "execution_count": 95,
   "metadata": {},
   "outputs": [],
   "source": [
    "VLRPhi_ri = VLRPhi.subs(complex_scalar_fields)"
   ]
  },
  {
   "cell_type": "code",
   "execution_count": 96,
   "metadata": {},
   "outputs": [],
   "source": [
    "vevPhi[phi10r] = v*cos(beta)\n",
    "vevPhi[phi10i] = 0\n",
    "vevPhi[phi20r] = v*sin(beta)\n",
    "vevPhi[phi20i] = 0"
   ]
  },
  {
   "cell_type": "code",
   "execution_count": 97,
   "metadata": {},
   "outputs": [],
   "source": [
    "vevL[deltaL0r] = vL\n",
    "vevL[deltaL0i] = 0\n",
    "vevR[deltaR0r] = vR\n",
    "vevR[deltaR0i] = 0"
   ]
  },
  {
   "cell_type": "code",
   "execution_count": 98,
   "metadata": {},
   "outputs": [
    {
     "data": {
      "image/png": "[encoded data removed]",
      "text/latex": [
       "$\\displaystyle \\frac{v \\left(\\alpha_{1} \\left(v_{L}^{2} + v_{R}^{2}\\right) \\cos{\\left(\\beta \\right)} + 2 \\alpha_{2} \\left(v_{L}^{2} + v_{R}^{2}\\right) \\sin{\\left(\\beta \\right)} + 2 \\lambda_{1} v^{2} \\cos{\\left(\\beta \\right)} + 8 \\lambda_{2} v^{2} \\sin^{2}{\\left(\\beta \\right)} \\cos{\\left(\\beta \\right)} + 4 \\lambda_{3} v^{2} \\sin^{2}{\\left(\\beta \\right)} \\cos{\\left(\\beta \\right)} + 4 \\lambda_{4} v^{2} \\sin{\\left(\\beta \\right)} \\cos^{2}{\\left(\\beta \\right)} + 2 \\lambda_{4} v^{2} \\sin{\\left(\\beta \\right)} - 2 \\mu^{2}_{1} \\cos{\\left(\\beta \\right)} - 4 \\mu^{2}_{2} \\sin{\\left(\\beta \\right)} + \\beta_{1} v_{L} v_{R} \\sin{\\left(\\beta \\right)} + 2 \\beta_{2} v_{L} v_{R} \\cos{\\left(\\beta \\right)}\\right)}{2}$"
      ],
      "text/plain": [
       "  ⎛        ⎛   2      2⎞                        ⎛   2      2⎞                 \n",
       "v⋅⎝\\alpha₁⋅⎝v_L  + v_R ⎠⋅cos(\\beta) + 2⋅\\alpha₂⋅⎝v_L  + v_R ⎠⋅sin(\\beta) + 2⋅\\\n",
       "──────────────────────────────────────────────────────────────────────────────\n",
       "                                                                              \n",
       "\n",
       "         2                          2    2                                 2  \n",
       "lambda₁⋅v ⋅cos(\\beta) + 8⋅\\lambda₂⋅v ⋅sin (\\beta)⋅cos(\\beta) + 4⋅\\lambda₃⋅v ⋅s\n",
       "──────────────────────────────────────────────────────────────────────────────\n",
       "                                                                              \n",
       "\n",
       "  2                                 2               2                      2  \n",
       "in (\\beta)⋅cos(\\beta) + 4⋅\\lambda₄⋅v ⋅sin(\\beta)⋅cos (\\beta) + 2⋅\\lambda₄⋅v ⋅s\n",
       "──────────────────────────────────────────────────────────────────────────────\n",
       "           2                                                                  \n",
       "\n",
       "                                                                              \n",
       "in(\\beta) - 2⋅\\mu²₁⋅cos(\\beta) - 4⋅\\mu²₂⋅sin(\\beta) + β₁⋅v_L⋅v_R⋅sin(\\beta) + \n",
       "──────────────────────────────────────────────────────────────────────────────\n",
       "                                                                              \n",
       "\n",
       "                       ⎞\n",
       "2⋅β₂⋅v_L⋅v_R⋅cos(\\beta)⎠\n",
       "────────────────────────\n",
       "                        "
      ]
     },
     "metadata": {},
     "output_type": "display_data"
    },
    {
     "data": {
      "image/png": "[encoded data removed]",
      "text/latex": [
       "$\\displaystyle \\frac{v \\left(\\alpha_{1} \\left(v_{L}^{2} + v_{R}^{2}\\right) \\sin{\\left(\\beta \\right)} + 2 \\alpha_{2} \\left(v_{L}^{2} + v_{R}^{2}\\right) \\cos{\\left(\\beta \\right)} + \\alpha_{3} \\left(v_{L}^{2} + v_{R}^{2}\\right) \\sin{\\left(\\beta \\right)} + 2 \\lambda_{1} v^{2} \\sin{\\left(\\beta \\right)} + 8 \\lambda_{2} v^{2} \\sin{\\left(\\beta \\right)} \\cos^{2}{\\left(\\beta \\right)} + 4 \\lambda_{3} v^{2} \\sin{\\left(\\beta \\right)} \\cos^{2}{\\left(\\beta \\right)} + 4 \\lambda_{4} v^{2} \\sin^{2}{\\left(\\beta \\right)} \\cos{\\left(\\beta \\right)} + 2 \\lambda_{4} v^{2} \\cos{\\left(\\beta \\right)} - 2 \\mu^{2}_{1} \\sin{\\left(\\beta \\right)} - 4 \\mu^{2}_{2} \\cos{\\left(\\beta \\right)} + \\beta_{1} v_{L} v_{R} \\cos{\\left(\\beta \\right)} + 2 \\beta_{3} v_{L} v_{R} \\sin{\\left(\\beta \\right)}\\right)}{2}$"
      ],
      "text/plain": [
       "  ⎛        ⎛   2      2⎞                        ⎛   2      2⎞                 \n",
       "v⋅⎝\\alpha₁⋅⎝v_L  + v_R ⎠⋅sin(\\beta) + 2⋅\\alpha₂⋅⎝v_L  + v_R ⎠⋅cos(\\beta) + \\al\n",
       "──────────────────────────────────────────────────────────────────────────────\n",
       "                                                                              \n",
       "\n",
       "     ⎛   2      2⎞                          2                          2      \n",
       "pha₃⋅⎝v_L  + v_R ⎠⋅sin(\\beta) + 2⋅\\lambda₁⋅v ⋅sin(\\beta) + 8⋅\\lambda₂⋅v ⋅sin(\\\n",
       "──────────────────────────────────────────────────────────────────────────────\n",
       "                                                                              \n",
       "\n",
       "         2                      2               2                      2    2 \n",
       "beta)⋅cos (\\beta) + 4⋅\\lambda₃⋅v ⋅sin(\\beta)⋅cos (\\beta) + 4⋅\\lambda₄⋅v ⋅sin (\n",
       "──────────────────────────────────────────────────────────────────────────────\n",
       "                             2                                                \n",
       "\n",
       "                                2                                             \n",
       "\\beta)⋅cos(\\beta) + 2⋅\\lambda₄⋅v ⋅cos(\\beta) - 2⋅\\mu²₁⋅sin(\\beta) - 4⋅\\mu²₂⋅co\n",
       "──────────────────────────────────────────────────────────────────────────────\n",
       "                                                                              \n",
       "\n",
       "                                                          ⎞\n",
       "s(\\beta) + β₁⋅v_L⋅v_R⋅cos(\\beta) + 2⋅β₃⋅v_L⋅v_R⋅sin(\\beta)⎠\n",
       "───────────────────────────────────────────────────────────\n",
       "                                                           "
      ]
     },
     "execution_count": 98,
     "metadata": {},
     "output_type": "execute_result"
    }
   ],
   "source": [
    "tadpol1 = VLRPhi_ri.diff(phi10r).subs(vevPhi).subs(vevL).subs(vevR).simplify()\n",
    "display(tadpol1)\n",
    "tadpol2 = VLRPhi_ri.diff(phi20r).subs(vevPhi).subs(vevL).subs(vevR).simplify()\n",
    "tadpol2"
   ]
  },
  {
   "cell_type": "code",
   "execution_count": 99,
   "metadata": {},
   "outputs": [
    {
     "data": {
      "image/png": "[encoded data removed]",
      "text/latex": [
       "$\\displaystyle \\alpha_{1} v_{R} \\left(v^{2} \\sin^{2}{\\left(\\beta \\right)} + v^{2} \\cos^{2}{\\left(\\beta \\right)}\\right) + 4 \\alpha_{2} v^{2} v_{R} \\sin{\\left(\\beta \\right)} \\cos{\\left(\\beta \\right)} + \\alpha_{3} v^{2} v_{R} \\sin^{2}{\\left(\\beta \\right)} - \\mu^{2}_{3} v_{R} + \\rho_{1} v_{R}^{3} + \\rho_{3} v_{L}^{2} v_{R} + \\sqrt{2} \\beta_{1} v^{2} v_{L} \\sin{\\left(\\beta \\right)} \\cos{\\left(\\beta \\right)} + \\sqrt{2} \\beta_{2} v^{2} v_{L} \\cos^{2}{\\left(\\beta \\right)} + \\sqrt{2} \\beta_{3} v^{2} v_{L} \\sin^{2}{\\left(\\beta \\right)}$"
      ],
      "text/plain": [
       "            ⎛ 2    2           2    2       ⎞              2                  \n",
       "\\alpha₁⋅v_R⋅⎝v ⋅sin (\\beta) + v ⋅cos (\\beta)⎠ + 4⋅\\alpha₂⋅v ⋅v_R⋅sin(\\beta)⋅co\n",
       "\n",
       "                    2        2                               3            2   \n",
       "s(\\beta) + \\alpha₃⋅v ⋅v_R⋅sin (\\beta) - \\mu²₃⋅v_R + \\rho₁⋅v_R  + \\rho₃⋅v_L ⋅v_\n",
       "\n",
       "           2                                    2        2                 2  \n",
       "R + √2⋅β₁⋅v ⋅v_L⋅sin(\\beta)⋅cos(\\beta) + √2⋅β₂⋅v ⋅v_L⋅cos (\\beta) + √2⋅β₃⋅v ⋅v\n",
       "\n",
       "      2       \n",
       "_L⋅sin (\\beta)"
      ]
     },
     "metadata": {},
     "output_type": "display_data"
    },
    {
     "data": {
      "image/png": "[encoded data removed]",
      "text/latex": [
       "$\\displaystyle \\alpha_{1} v_{L} \\left(v^{2} \\sin^{2}{\\left(\\beta \\right)} + v^{2} \\cos^{2}{\\left(\\beta \\right)}\\right) + 4 \\alpha_{2} v^{2} v_{L} \\sin{\\left(\\beta \\right)} \\cos{\\left(\\beta \\right)} + \\alpha_{3} v^{2} v_{L} \\sin^{2}{\\left(\\beta \\right)} - \\mu^{2}_{3} v_{L} + \\rho_{1} v_{L}^{3} + \\rho_{3} v_{L} v_{R}^{2} + \\sqrt{2} \\beta_{1} v^{2} v_{R} \\sin{\\left(\\beta \\right)} \\cos{\\left(\\beta \\right)} + \\sqrt{2} \\beta_{2} v^{2} v_{R} \\cos^{2}{\\left(\\beta \\right)} + \\sqrt{2} \\beta_{3} v^{2} v_{R} \\sin^{2}{\\left(\\beta \\right)}$"
      ],
      "text/plain": [
       "            ⎛ 2    2           2    2       ⎞              2                  \n",
       "\\alpha₁⋅v_L⋅⎝v ⋅sin (\\beta) + v ⋅cos (\\beta)⎠ + 4⋅\\alpha₂⋅v ⋅v_L⋅sin(\\beta)⋅co\n",
       "\n",
       "                    2        2                               3                \n",
       "s(\\beta) + \\alpha₃⋅v ⋅v_L⋅sin (\\beta) - \\mu²₃⋅v_L + \\rho₁⋅v_L  + \\rho₃⋅v_L⋅v_R\n",
       "\n",
       "2          2                                    2        2                 2  \n",
       "  + √2⋅β₁⋅v ⋅v_R⋅sin(\\beta)⋅cos(\\beta) + √2⋅β₂⋅v ⋅v_R⋅cos (\\beta) + √2⋅β₃⋅v ⋅v\n",
       "\n",
       "      2       \n",
       "_R⋅sin (\\beta)"
      ]
     },
     "execution_count": 99,
     "metadata": {},
     "output_type": "execute_result"
    }
   ],
   "source": [
    "tadpol3 = VLRPhi.subs(deltaR0, (deltaR0r + I*deltaR0i)/sqrt2).diff(deltaR0r).subs(vevR).subs(vevPhi).subs(vevL)\n",
    "display(tadpol3)\n",
    "tadpol4 = VLRPhi.subs(deltaL0, (deltaL0r + I*deltaL0i)/sqrt2).diff(deltaL0r).subs(vevL).subs(vevPhi).subs(vevR)\n",
    "tadpol4"
   ]
  },
  {
   "cell_type": "code",
   "execution_count": 100,
   "metadata": {},
   "outputs": [],
   "source": [
    "tadpole12_sol = solve([tadpol1, tadpol2], [mu12, mu22], dict=True)[0]"
   ]
  },
  {
   "cell_type": "code",
   "execution_count": 101,
   "metadata": {},
   "outputs": [
    {
     "data": {
      "image/png": "[encoded data removed]",
      "text/latex": [
       "$\\displaystyle \\frac{\\alpha_{1} v_{L}^{2}}{2} + \\frac{\\alpha_{1} v_{R}^{2}}{2} + \\frac{\\alpha_{3} v_{L}^{2}}{4} - \\frac{\\alpha_{3} v_{L}^{2}}{4 \\cos{\\left(2 \\beta \\right)}} + \\frac{\\alpha_{3} v_{R}^{2}}{4} - \\frac{\\alpha_{3} v_{R}^{2}}{4 \\cos{\\left(2 \\beta \\right)}} + \\lambda_{1} v^{2} + \\frac{\\lambda_{4} v^{2} \\sin{\\left(4 \\beta \\right)}}{2 \\cos{\\left(2 \\beta \\right)}} + \\frac{\\beta_{2} v_{L} v_{R}}{2} + \\frac{\\beta_{2} v_{L} v_{R}}{2 \\cos{\\left(2 \\beta \\right)}} + \\frac{\\beta_{3} v_{L} v_{R}}{2} - \\frac{\\beta_{3} v_{L} v_{R}}{2 \\cos{\\left(2 \\beta \\right)}}$"
      ],
      "text/plain": [
       "           2              2              2               2               2    \n",
       "\\alpha₁⋅v_L    \\alpha₁⋅v_R    \\alpha₃⋅v_L     \\alpha₃⋅v_L     \\alpha₃⋅v_R     \n",
       "──────────── + ──────────── + ──────────── - ────────────── + ──────────── - ─\n",
       "     2              2              4         4⋅cos(2⋅\\beta)        4         4\n",
       "\n",
       "           2                            2                                     \n",
       "\\alpha₃⋅v_R               2   \\lambda₄⋅v ⋅sin(4⋅\\beta)   β₂⋅v_L⋅v_R     β₂⋅v_L\n",
       "───────────── + \\lambda₁⋅v  + ──────────────────────── + ────────── + ────────\n",
       "⋅cos(2⋅\\beta)                      2⋅cos(2⋅\\beta)            2        2⋅cos(2⋅\n",
       "\n",
       "                                    \n",
       "⋅v_R     β₃⋅v_L⋅v_R     β₃⋅v_L⋅v_R  \n",
       "────── + ────────── - ──────────────\n",
       "\\beta)       2        2⋅cos(2⋅\\beta)"
      ]
     },
     "execution_count": 101,
     "metadata": {},
     "output_type": "execute_result"
    }
   ],
   "source": [
    "tadpole12_sol[mu12].collect([v, vL, vR], factor).simplify()#.factor()"
   ]
  },
  {
   "cell_type": "code",
   "execution_count": 102,
   "metadata": {},
   "outputs": [
    {
     "data": {
      "image/png": "[encoded data removed]",
      "text/latex": [
       "$\\displaystyle \\frac{\\alpha_{2} v_{L}^{2}}{2} + \\frac{\\alpha_{2} v_{R}^{2}}{2} + \\frac{\\alpha_{3} v_{L}^{2} \\tan{\\left(2 \\beta \\right)}}{8} + \\frac{\\alpha_{3} v_{R}^{2} \\tan{\\left(2 \\beta \\right)}}{8} + \\frac{\\lambda_{2} v^{2} \\sin{\\left(4 \\beta \\right)}}{2 \\cos{\\left(2 \\beta \\right)}} + \\frac{\\lambda_{3} v^{2} \\sin{\\left(4 \\beta \\right)}}{4 \\cos{\\left(2 \\beta \\right)}} + \\frac{\\lambda_{4} v^{2}}{2} + \\frac{\\beta_{1} v_{L} v_{R}}{4} - \\frac{\\beta_{2} v_{L} v_{R} \\tan{\\left(2 \\beta \\right)}}{4} + \\frac{\\beta_{3} v_{L} v_{R} \\tan{\\left(2 \\beta \\right)}}{4}$"
      ],
      "text/plain": [
       "           2              2              2                           2        \n",
       "\\alpha₂⋅v_L    \\alpha₂⋅v_R    \\alpha₃⋅v_L ⋅tan(2⋅\\beta)   \\alpha₃⋅v_R ⋅tan(2⋅\\\n",
       "──────────── + ──────────── + ───────────────────────── + ────────────────────\n",
       "     2              2                     8                           8       \n",
       "\n",
       "                  2                          2                          2     \n",
       "beta)   \\lambda₂⋅v ⋅sin(4⋅\\beta)   \\lambda₃⋅v ⋅sin(4⋅\\beta)   \\lambda₄⋅v    β₁\n",
       "───── + ──────────────────────── + ──────────────────────── + ─────────── + ──\n",
       "             2⋅cos(2⋅\\beta)             4⋅cos(2⋅\\beta)             2          \n",
       "\n",
       "                                                            \n",
       "⋅v_L⋅v_R   β₂⋅v_L⋅v_R⋅tan(2⋅\\beta)   β₃⋅v_L⋅v_R⋅tan(2⋅\\beta)\n",
       "──────── - ─────────────────────── + ───────────────────────\n",
       "  4                   4                         4           "
      ]
     },
     "execution_count": 102,
     "metadata": {},
     "output_type": "execute_result"
    }
   ],
   "source": [
    "tadpole12_sol[mu22].simplify().collect([v, vL, vR], factor).simplify()"
   ]
  },
  {
   "cell_type": "code",
   "execution_count": 103,
   "metadata": {},
   "outputs": [],
   "source": [
    "tadpole34_sol = solve([tadpol3, tadpol4], [mu32, beta2], dict=True)[0]"
   ]
  },
  {
   "cell_type": "code",
   "execution_count": 104,
   "metadata": {},
   "outputs": [
    {
     "data": {
      "image/png": "[encoded data removed]",
      "text/latex": [
       "$\\displaystyle \\alpha_{1} v^{2} \\left(\\sin^{2}{\\left(\\beta \\right)} + \\cos^{2}{\\left(\\beta \\right)}\\right) + 4 \\alpha_{2} v^{2} \\sin{\\left(\\beta \\right)} \\cos{\\left(\\beta \\right)} + \\alpha_{3} v^{2} \\sin^{2}{\\left(\\beta \\right)} + \\rho_{1} \\left(v_{L}^{2} + v_{R}^{2}\\right)$"
      ],
      "text/plain": [
       "         2 ⎛   2             2       ⎞              2                         \n",
       "\\alpha₁⋅v ⋅⎝sin (\\beta) + cos (\\beta)⎠ + 4⋅\\alpha₂⋅v ⋅sin(\\beta)⋅cos(\\beta) + \n",
       "\n",
       "         2    2                ⎛   2      2⎞\n",
       "\\alpha₃⋅v ⋅sin (\\beta) + \\rho₁⋅⎝v_L  + v_R ⎠"
      ]
     },
     "execution_count": 104,
     "metadata": {},
     "output_type": "execute_result"
    }
   ],
   "source": [
    "tadpole34_sol[mu32].collect(alpha1, factor).collect(rho1)"
   ]
  },
  {
   "cell_type": "code",
   "execution_count": 105,
   "metadata": {},
   "outputs": [
    {
     "data": {
      "image/png": "[encoded data removed]",
      "text/latex": [
       "$\\displaystyle \\frac{- \\beta_{1} v^{2} \\sin{\\left(2 \\beta \\right)} - 2 \\beta_{3} v^{2} \\sin^{2}{\\left(\\beta \\right)} + \\sqrt{2} v_{L} v_{R} \\left(\\rho_{1} - \\rho_{3}\\right)}{2 v^{2} \\cos^{2}{\\left(\\beta \\right)}}$"
      ],
      "text/plain": [
       "      2                      2    2                                    \n",
       "- β₁⋅v ⋅sin(2⋅\\beta) - 2⋅β₃⋅v ⋅sin (\\beta) + √2⋅v_L⋅v_R⋅(\\rho₁ - \\rho₃)\n",
       "───────────────────────────────────────────────────────────────────────\n",
       "                               2    2                                  \n",
       "                            2⋅v ⋅cos (\\beta)                           "
      ]
     },
     "execution_count": 105,
     "metadata": {},
     "output_type": "execute_result"
    }
   ],
   "source": [
    "tadpole34_sol[beta2].simplify()"
   ]
  },
  {
   "cell_type": "code",
   "execution_count": 106,
   "metadata": {},
   "outputs": [
    {
     "data": {
      "image/png": "[encoded data removed]",
      "text/latex": [
       "$\\displaystyle \\frac{\\sqrt{2} v_{L} v_{R} \\left(\\rho_{1} - \\rho_{3}\\right)}{2 v^{2} \\cos^{2}{\\left(\\beta \\right)}}$"
      ],
      "text/plain": [
       "√2⋅v_L⋅v_R⋅(\\rho₁ - \\rho₃)\n",
       "──────────────────────────\n",
       "        2    2            \n",
       "     2⋅v ⋅cos (\\beta)     "
      ]
     },
     "execution_count": 106,
     "metadata": {},
     "output_type": "execute_result"
    }
   ],
   "source": [
    "tadpole34_sol[beta2].simplify().subs(beta3, beta1).subs(beta1,0).simplify()"
   ]
  },
  {
   "cell_type": "markdown",
   "metadata": {},
   "source": [
    "# Scalar masses"
   ]
  },
  {
   "cell_type": "code",
   "execution_count": 107,
   "metadata": {},
   "outputs": [],
   "source": [
    "#betas_zero = {beta1:0, beta2:0, beta3:0}"
   ]
  },
  {
   "cell_type": "code",
   "execution_count": 108,
   "metadata": {},
   "outputs": [],
   "source": [
    "#for mu in tadpole12_sol:\n",
    "#    tadpole12_sol[mu] = tadpole12_sol[mu].subs(betas_zero).simplify()\n",
    "\n",
    "#for mu in tadpole34_sol:\n",
    "#    tadpole34_sol[mu] = tadpole34_sol[mu].subs(betas_zero).simplify()"
   ]
  },
  {
   "cell_type": "code",
   "execution_count": 109,
   "metadata": {},
   "outputs": [],
   "source": [
    "#tadpole12_sol"
   ]
  },
  {
   "cell_type": "code",
   "execution_count": 110,
   "metadata": {},
   "outputs": [],
   "source": [
    "#tadpole34_sol"
   ]
  },
  {
   "cell_type": "code",
   "execution_count": 111,
   "metadata": {},
   "outputs": [],
   "source": [
    "#tadpole34_sol[beta2]"
   ]
  },
  {
   "cell_type": "code",
   "execution_count": 112,
   "metadata": {},
   "outputs": [],
   "source": [
    "#vL_sol = {vL:0}\n",
    "#vL_sol "
   ]
  },
  {
   "cell_type": "code",
   "execution_count": 113,
   "metadata": {},
   "outputs": [
    {
     "data": {
      "image/png": "[encoded data removed]",
      "text/latex": [
       "$\\displaystyle \\alpha_{1} \\left(\\phi^{+}_{1} \\phi^{-}_{1} + \\phi^{+}_{2} \\phi^{-}_{2} + \\frac{\\left(i \\phi_1^{0i} + \\phi_1^{0r}\\right)^{2}}{2} + \\frac{\\left(i \\phi_2^{0i} + \\phi_2^{0r}\\right)^{2}}{2}\\right) \\left(\\delta^{+}_{L} \\delta^{-}_{L} + \\delta_L^{++} \\delta_L^{--} + \\delta^{+}_{R} \\delta^{-}_{R} + \\delta_R^{++} \\delta_R^{--} + \\frac{\\left(i \\delta_L^{0i} + \\delta_L^{0r}\\right)^{2}}{2} + \\frac{\\left(i \\delta_R^{0i} + \\delta_R^{0r}\\right)^{2}}{2}\\right) + \\alpha_{2} \\cdot \\left(2 \\left(\\delta^{+}_{L} \\delta^{-}_{L} + \\delta_L^{++} \\delta_L^{--} + \\frac{\\left(i \\delta_L^{0i} + \\delta_L^{0r}\\right)^{2}}{2}\\right) \\left(- \\phi^{+}_{1} \\phi^{+}_{2} - \\phi^{-}_{1} \\phi^{-}_{2} + \\left(i \\phi_1^{0i} + \\phi_1^{0r}\\right) \\left(i \\phi_2^{0i} + \\phi_2^{0r}\\right)\\right) + 2 \\left(\\delta^{+}_{R} \\delta^{-}_{R} + \\delta_R^{++} \\delta_R^{--} + \\frac{\\left(i \\delta_R^{0i} + \\delta_R^{0r}\\right)^{2}}{2}\\right) \\left(- \\phi^{+}_{1} \\phi^{+}_{2} - \\phi^{-}_{1} \\phi^{-}_{2} + \\left(i \\phi_1^{0i} + \\phi_1^{0r}\\right) \\left(i \\phi_2^{0i} + \\phi_2^{0r}\\right)\\right)\\right) + \\alpha_{3} \\left(\\left(\\frac{\\delta^{+}_{L} \\delta^{-}_{L}}{2} + \\delta_L^{++} \\delta_L^{--}\\right) \\left(\\phi^{+}_{1} \\phi^{-}_{1} + \\frac{\\left(i \\phi_1^{0i} + \\phi_1^{0r}\\right)^{2}}{2}\\right) + \\left(\\frac{\\delta^{+}_{L} \\delta^{-}_{L}}{2} + \\frac{\\left(i \\delta_L^{0i} + \\delta_L^{0r}\\right)^{2}}{2}\\right) \\left(\\phi^{+}_{2} \\phi^{-}_{2} + \\frac{\\left(i \\phi_2^{0i} + \\phi_2^{0r}\\right)^{2}}{2}\\right) + \\left(\\frac{\\delta^{+}_{L} \\left(i \\delta_L^{0i} + \\delta_L^{0r}\\right)}{2} - \\frac{\\sqrt{2} \\delta^{-}_{L} \\delta_L^{++}}{2}\\right) \\left(\\frac{\\sqrt{2} \\phi^{-}_{1} \\left(i \\phi_2^{0i} + \\phi_2^{0r}\\right)}{2} + \\frac{\\sqrt{2} \\phi^{-}_{2} \\left(i \\phi_1^{0i} + \\phi_1^{0r}\\right)}{2}\\right) + \\left(\\frac{\\delta^{+}_{R} \\delta^{-}_{R}}{2} + \\delta_R^{++} \\delta_R^{--}\\right) \\left(\\phi^{+}_{2} \\phi^{-}_{2} + \\frac{\\left(i \\phi_1^{0i} + \\phi_1^{0r}\\right)^{2}}{2}\\right) + \\left(\\frac{\\delta^{+}_{R} \\delta^{-}_{R}}{2} + \\frac{\\left(i \\delta_R^{0i} + \\delta_R^{0r}\\right)^{2}}{2}\\right) \\left(\\phi^{+}_{1} \\phi^{-}_{1} + \\frac{\\left(i \\phi_2^{0i} + \\phi_2^{0r}\\right)^{2}}{2}\\right) + \\left(\\frac{\\delta^{+}_{R} \\left(i \\delta_R^{0i} + \\delta_R^{0r}\\right)}{2} - \\frac{\\sqrt{2} \\delta^{-}_{R} \\delta_R^{++}}{2}\\right) \\left(\\frac{\\sqrt{2} \\phi^{-}_{1} \\left(i \\phi_1^{0i} + \\phi_1^{0r}\\right)}{2} + \\frac{\\sqrt{2} \\phi^{-}_{2} \\left(i \\phi_2^{0i} + \\phi_2^{0r}\\right)}{2}\\right) + \\left(- \\frac{\\sqrt{2} \\delta^{+}_{L} \\delta_L^{--}}{2} + \\frac{\\delta^{-}_{L} \\left(i \\delta_L^{0i} + \\delta_L^{0r}\\right)}{2}\\right) \\left(\\frac{\\sqrt{2} \\phi^{+}_{1} \\left(i \\phi_2^{0i} + \\phi_2^{0r}\\right)}{2} + \\frac{\\sqrt{2} \\phi^{+}_{2} \\left(i \\phi_1^{0i} + \\phi_1^{0r}\\right)}{2}\\right) + \\left(- \\frac{\\sqrt{2} \\delta^{+}_{R} \\delta_R^{--}}{2} + \\frac{\\delta^{-}_{R} \\left(i \\delta_R^{0i} + \\delta_R^{0r}\\right)}{2}\\right) \\left(\\frac{\\sqrt{2} \\phi^{+}_{1} \\left(i \\phi_1^{0i} + \\phi_1^{0r}\\right)}{2} + \\frac{\\sqrt{2} \\phi^{+}_{2} \\left(i \\phi_2^{0i} + \\phi_2^{0r}\\right)}{2}\\right)\\right) + \\lambda_{1} \\left(\\phi^{+}_{1} \\phi^{-}_{1} + \\phi^{+}_{2} \\phi^{-}_{2} + \\frac{\\left(i \\phi_1^{0i} + \\phi_1^{0r}\\right)^{2}}{2} + \\frac{\\left(i \\phi_2^{0i} + \\phi_2^{0r}\\right)^{2}}{2}\\right)^{2} + 2 \\lambda_{2} \\left(- \\phi^{+}_{1} \\phi^{+}_{2} - \\phi^{-}_{1} \\phi^{-}_{2} + \\left(i \\phi_1^{0i} + \\phi_1^{0r}\\right) \\left(i \\phi_2^{0i} + \\phi_2^{0r}\\right)\\right)^{2} + \\lambda_{3} \\left(- \\phi^{+}_{1} \\phi^{+}_{2} - \\phi^{-}_{1} \\phi^{-}_{2} + \\left(i \\phi_1^{0i} + \\phi_1^{0r}\\right) \\left(i \\phi_2^{0i} + \\phi_2^{0r}\\right)\\right)^{2} + \\lambda_{4} \\left(- 2 \\phi^{+}_{1} \\phi^{+}_{2} - 2 \\phi^{-}_{1} \\phi^{-}_{2} + 2 \\left(i \\phi_1^{0i} + \\phi_1^{0r}\\right) \\left(i \\phi_2^{0i} + \\phi_2^{0r}\\right)\\right) \\left(\\phi^{+}_{1} \\phi^{-}_{1} + \\phi^{+}_{2} \\phi^{-}_{2} + \\frac{\\left(i \\phi_1^{0i} + \\phi_1^{0r}\\right)^{2}}{2} + \\frac{\\left(i \\phi_2^{0i} + \\phi_2^{0r}\\right)^{2}}{2}\\right) + \\rho_{1} \\left(\\left(\\delta^{+}_{L} \\delta^{-}_{L} + \\delta_L^{++} \\delta_L^{--} + \\frac{\\left(i \\delta_L^{0i} + \\delta_L^{0r}\\right)^{2}}{2}\\right)^{2} + \\left(\\delta^{+}_{R} \\delta^{-}_{R} + \\delta_R^{++} \\delta_R^{--} + \\frac{\\left(i \\delta_R^{0i} + \\delta_R^{0r}\\right)^{2}}{2}\\right)^{2}\\right) + \\rho_{2} \\left(\\left(\\left(\\delta^{+}_{L}\\right)^{2} + \\sqrt{2} \\delta_L^{++} \\left(i \\delta_L^{0i} + \\delta_L^{0r}\\right)\\right) \\left(\\left(\\delta^{-}_{L}\\right)^{2} + \\sqrt{2} \\delta_L^{--} \\left(i \\delta_L^{0i} + \\delta_L^{0r}\\right)\\right) + \\left(\\left(\\delta^{+}_{R}\\right)^{2} + \\sqrt{2} \\delta_R^{++} \\left(i \\delta_R^{0i} + \\delta_R^{0r}\\right)\\right) \\left(\\left(\\delta^{-}_{R}\\right)^{2} + \\sqrt{2} \\delta_R^{--} \\left(i \\delta_R^{0i} + \\delta_R^{0r}\\right)\\right)\\right) + \\rho_{3} \\left(\\delta^{+}_{L} \\delta^{-}_{L} + \\delta_L^{++} \\delta_L^{--} + \\frac{\\left(i \\delta_L^{0i} + \\delta_L^{0r}\\right)^{2}}{2}\\right) \\left(\\delta^{+}_{R} \\delta^{-}_{R} + \\delta_R^{++} \\delta_R^{--} + \\frac{\\left(i \\delta_R^{0i} + \\delta_R^{0r}\\right)^{2}}{2}\\right) + \\rho_{4} \\left(\\left(\\left(\\delta^{+}_{L}\\right)^{2} + \\sqrt{2} \\delta_L^{++} \\left(i \\delta_L^{0i} + \\delta_L^{0r}\\right)\\right) \\left(\\left(\\delta^{-}_{R}\\right)^{2} + \\sqrt{2} \\delta_R^{--} \\left(i \\delta_R^{0i} + \\delta_R^{0r}\\right)\\right) + \\left(\\left(\\delta^{-}_{L}\\right)^{2} + \\sqrt{2} \\delta_L^{--} \\left(i \\delta_L^{0i} + \\delta_L^{0r}\\right)\\right) \\left(\\left(\\delta^{+}_{R}\\right)^{2} + \\sqrt{2} \\delta_R^{++} \\left(i \\delta_R^{0i} + \\delta_R^{0r}\\right)\\right)\\right) + \\beta_{1} \\left(\\frac{\\sqrt{2} \\delta^{-}_{L} \\left(\\phi^{-}_{1} \\left(- \\frac{\\sqrt{2} \\delta^{+}_{R} \\phi^{+}_{1}}{2} + \\frac{\\sqrt{2} \\delta_R^{++} \\left(i \\phi_1^{0i} + \\phi_1^{0r}\\right)}{2}\\right) + \\frac{\\sqrt{2} \\left(i \\phi_1^{0i} + \\phi_1^{0r}\\right) \\left(\\frac{\\delta^{+}_{R} \\left(i \\phi_1^{0i} + \\phi_1^{0r}\\right)}{2} + \\frac{\\sqrt{2} \\phi^{+}_{1} \\left(i \\delta_R^{0i} + \\delta_R^{0r}\\right)}{2}\\right)}{2}\\right)}{2} - \\frac{\\sqrt{2} \\delta^{-}_{L} \\left(\\phi^{+}_{2} \\left(\\frac{\\sqrt{2} \\delta^{+}_{R} \\phi^{-}_{2}}{2} + \\frac{\\left(i \\delta_R^{0i} + \\delta_R^{0r}\\right) \\left(i \\phi_2^{0i} + \\phi_2^{0r}\\right)}{2}\\right) + \\frac{\\sqrt{2} \\left(i \\phi_2^{0i} + \\phi_2^{0r}\\right) \\left(- \\frac{\\delta^{+}_{R} \\left(i \\phi_2^{0i} + \\phi_2^{0r}\\right)}{2} + \\delta_R^{++} \\phi^{-}_{2}\\right)}{2}\\right)}{2} + \\delta_L^{--} \\left(\\phi^{+}_{2} \\left(\\frac{\\delta^{+}_{R} \\left(i \\phi_1^{0i} + \\phi_1^{0r}\\right)}{2} + \\frac{\\sqrt{2} \\phi^{+}_{1} \\left(i \\delta_R^{0i} + \\delta_R^{0r}\\right)}{2}\\right) + \\frac{\\sqrt{2} \\left(i \\phi_2^{0i} + \\phi_2^{0r}\\right) \\left(- \\frac{\\sqrt{2} \\delta^{+}_{R} \\phi^{+}_{1}}{2} + \\frac{\\sqrt{2} \\delta_R^{++} \\left(i \\phi_1^{0i} + \\phi_1^{0r}\\right)}{2}\\right)}{2}\\right) - \\frac{\\sqrt{2} \\delta^{-}_{R} \\left(\\phi^{+}_{1} \\left(\\frac{\\sqrt{2} \\delta^{+}_{L} \\phi^{-}_{1}}{2} + \\frac{\\left(i \\delta_L^{0i} + \\delta_L^{0r}\\right) \\left(i \\phi_2^{0i} + \\phi_2^{0r}\\right)}{2}\\right) + \\frac{\\sqrt{2} \\left(i \\phi_2^{0i} + \\phi_2^{0r}\\right) \\left(- \\frac{\\delta^{+}_{L} \\left(i \\phi_2^{0i} + \\phi_2^{0r}\\right)}{2} + \\delta_L^{++} \\phi^{-}_{1}\\right)}{2}\\right)}{2} + \\frac{\\sqrt{2} \\delta^{-}_{R} \\left(\\phi^{-}_{2} \\left(- \\frac{\\sqrt{2} \\delta^{+}_{L} \\phi^{+}_{2}}{2} + \\frac{\\sqrt{2} \\delta_L^{++} \\left(i \\phi_1^{0i} + \\phi_1^{0r}\\right)}{2}\\right) + \\frac{\\sqrt{2} \\left(i \\phi_1^{0i} + \\phi_1^{0r}\\right) \\left(\\frac{\\delta^{+}_{L} \\left(i \\phi_1^{0i} + \\phi_1^{0r}\\right)}{2} + \\frac{\\sqrt{2} \\phi^{+}_{2} \\left(i \\delta_L^{0i} + \\delta_L^{0r}\\right)}{2}\\right)}{2}\\right)}{2} + \\delta_R^{--} \\left(\\phi^{+}_{1} \\left(\\frac{\\delta^{+}_{L} \\left(i \\phi_1^{0i} + \\phi_1^{0r}\\right)}{2} + \\frac{\\sqrt{2} \\phi^{+}_{2} \\left(i \\delta_L^{0i} + \\delta_L^{0r}\\right)}{2}\\right) + \\frac{\\sqrt{2} \\left(i \\phi_2^{0i} + \\phi_2^{0r}\\right) \\left(- \\frac{\\sqrt{2} \\delta^{+}_{L} \\phi^{+}_{2}}{2} + \\frac{\\sqrt{2} \\delta_L^{++} \\left(i \\phi_1^{0i} + \\phi_1^{0r}\\right)}{2}\\right)}{2}\\right) + \\frac{\\sqrt{2} \\left(i \\delta_L^{0i} + \\delta_L^{0r}\\right) \\left(\\phi^{-}_{1} \\left(- \\frac{\\delta^{+}_{R} \\left(i \\phi_2^{0i} + \\phi_2^{0r}\\right)}{2} + \\delta_R^{++} \\phi^{-}_{2}\\right) + \\frac{\\sqrt{2} \\left(i \\phi_1^{0i} + \\phi_1^{0r}\\right) \\left(\\frac{\\sqrt{2} \\delta^{+}_{R} \\phi^{-}_{2}}{2} + \\frac{\\left(i \\delta_R^{0i} + \\delta_R^{0r}\\right) \\left(i \\phi_2^{0i} + \\phi_2^{0r}\\right)}{2}\\right)}{2}\\right)}{2} + \\frac{\\sqrt{2} \\left(i \\delta_R^{0i} + \\delta_R^{0r}\\right) \\left(\\phi^{-}_{2} \\left(- \\frac{\\delta^{+}_{L} \\left(i \\phi_2^{0i} + \\phi_2^{0r}\\right)}{2} + \\delta_L^{++} \\phi^{-}_{1}\\right) + \\frac{\\sqrt{2} \\left(i \\phi_1^{0i} + \\phi_1^{0r}\\right) \\left(\\frac{\\sqrt{2} \\delta^{+}_{L} \\phi^{-}_{1}}{2} + \\frac{\\left(i \\delta_L^{0i} + \\delta_L^{0r}\\right) \\left(i \\phi_2^{0i} + \\phi_2^{0r}\\right)}{2}\\right)}{2}\\right)}{2}\\right) + \\beta_{3} \\left(- \\frac{\\sqrt{2} \\delta^{-}_{L} \\left(- \\phi^{-}_{1} \\left(\\frac{\\sqrt{2} \\delta^{+}_{R} \\phi^{-}_{2}}{2} + \\frac{\\left(i \\delta_R^{0i} + \\delta_R^{0r}\\right) \\left(i \\phi_2^{0i} + \\phi_2^{0r}\\right)}{2}\\right) + \\frac{\\sqrt{2} \\left(i \\phi_1^{0i} + \\phi_1^{0r}\\right) \\left(- \\frac{\\delta^{+}_{R} \\left(i \\phi_2^{0i} + \\phi_2^{0r}\\right)}{2} + \\delta_R^{++} \\phi^{-}_{2}\\right)}{2}\\right)}{2} + \\frac{\\sqrt{2} \\delta^{-}_{L} \\left(- \\phi^{+}_{2} \\left(- \\frac{\\sqrt{2} \\delta^{+}_{R} \\phi^{+}_{1}}{2} + \\frac{\\sqrt{2} \\delta_R^{++} \\left(i \\phi_1^{0i} + \\phi_1^{0r}\\right)}{2}\\right) + \\frac{\\sqrt{2} \\left(i \\phi_2^{0i} + \\phi_2^{0r}\\right) \\left(\\frac{\\delta^{+}_{R} \\left(i \\phi_1^{0i} + \\phi_1^{0r}\\right)}{2} + \\frac{\\sqrt{2} \\phi^{+}_{1} \\left(i \\delta_R^{0i} + \\delta_R^{0r}\\right)}{2}\\right)}{2}\\right)}{2} + \\delta_L^{--} \\left(- \\phi^{-}_{1} \\left(\\frac{\\delta^{+}_{R} \\left(i \\phi_1^{0i} + \\phi_1^{0r}\\right)}{2} + \\frac{\\sqrt{2} \\phi^{+}_{1} \\left(i \\delta_R^{0i} + \\delta_R^{0r}\\right)}{2}\\right) + \\frac{\\sqrt{2} \\left(i \\phi_1^{0i} + \\phi_1^{0r}\\right) \\left(- \\frac{\\sqrt{2} \\delta^{+}_{R} \\phi^{+}_{1}}{2} + \\frac{\\sqrt{2} \\delta_R^{++} \\left(i \\phi_1^{0i} + \\phi_1^{0r}\\right)}{2}\\right)}{2}\\right) + \\frac{\\sqrt{2} \\delta^{-}_{R} \\left(- \\phi^{+}_{1} \\left(- \\frac{\\sqrt{2} \\delta^{+}_{L} \\phi^{+}_{2}}{2} + \\frac{\\sqrt{2} \\delta_L^{++} \\left(i \\phi_1^{0i} + \\phi_1^{0r}\\right)}{2}\\right) + \\frac{\\sqrt{2} \\left(i \\phi_2^{0i} + \\phi_2^{0r}\\right) \\left(\\frac{\\delta^{+}_{L} \\left(i \\phi_1^{0i} + \\phi_1^{0r}\\right)}{2} + \\frac{\\sqrt{2} \\phi^{+}_{2} \\left(i \\delta_L^{0i} + \\delta_L^{0r}\\right)}{2}\\right)}{2}\\right)}{2} - \\frac{\\sqrt{2} \\delta^{-}_{R} \\left(- \\phi^{-}_{2} \\left(\\frac{\\sqrt{2} \\delta^{+}_{L} \\phi^{-}_{1}}{2} + \\frac{\\left(i \\delta_L^{0i} + \\delta_L^{0r}\\right) \\left(i \\phi_2^{0i} + \\phi_2^{0r}\\right)}{2}\\right) + \\frac{\\sqrt{2} \\left(i \\phi_1^{0i} + \\phi_1^{0r}\\right) \\left(- \\frac{\\delta^{+}_{L} \\left(i \\phi_2^{0i} + \\phi_2^{0r}\\right)}{2} + \\delta_L^{++} \\phi^{-}_{1}\\right)}{2}\\right)}{2} + \\delta_R^{--} \\left(- \\phi^{-}_{2} \\left(\\frac{\\delta^{+}_{L} \\left(i \\phi_1^{0i} + \\phi_1^{0r}\\right)}{2} + \\frac{\\sqrt{2} \\phi^{+}_{2} \\left(i \\delta_L^{0i} + \\delta_L^{0r}\\right)}{2}\\right) + \\frac{\\sqrt{2} \\left(i \\phi_1^{0i} + \\phi_1^{0r}\\right) \\left(- \\frac{\\sqrt{2} \\delta^{+}_{L} \\phi^{+}_{2}}{2} + \\frac{\\sqrt{2} \\delta_L^{++} \\left(i \\phi_1^{0i} + \\phi_1^{0r}\\right)}{2}\\right)}{2}\\right) + \\frac{\\sqrt{2} \\left(i \\delta_L^{0i} + \\delta_L^{0r}\\right) \\left(- \\phi^{+}_{2} \\left(- \\frac{\\delta^{+}_{R} \\left(i \\phi_2^{0i} + \\phi_2^{0r}\\right)}{2} + \\delta_R^{++} \\phi^{-}_{2}\\right) + \\frac{\\sqrt{2} \\left(i \\phi_2^{0i} + \\phi_2^{0r}\\right) \\left(\\frac{\\sqrt{2} \\delta^{+}_{R} \\phi^{-}_{2}}{2} + \\frac{\\left(i \\delta_R^{0i} + \\delta_R^{0r}\\right) \\left(i \\phi_2^{0i} + \\phi_2^{0r}\\right)}{2}\\right)}{2}\\right)}{2} + \\frac{\\sqrt{2} \\left(i \\delta_R^{0i} + \\delta_R^{0r}\\right) \\left(- \\phi^{+}_{1} \\left(- \\frac{\\delta^{+}_{L} \\left(i \\phi_2^{0i} + \\phi_2^{0r}\\right)}{2} + \\delta_L^{++} \\phi^{-}_{1}\\right) + \\frac{\\sqrt{2} \\left(i \\phi_2^{0i} + \\phi_2^{0r}\\right) \\left(\\frac{\\sqrt{2} \\delta^{+}_{L} \\phi^{-}_{1}}{2} + \\frac{\\left(i \\delta_L^{0i} + \\delta_L^{0r}\\right) \\left(i \\phi_2^{0i} + \\phi_2^{0r}\\right)}{2}\\right)}{2}\\right)}{2}\\right) - \\left(- 2 \\phi^{+}_{1} \\phi^{+}_{2} - 2 \\phi^{-}_{1} \\phi^{-}_{2} + 2 \\left(i \\phi_1^{0i} + \\phi_1^{0r}\\right) \\left(i \\phi_2^{0i} + \\phi_2^{0r}\\right)\\right) \\left(- \\frac{2 \\alpha_{2} v_{L}^{2} \\sin^{2}{\\left(\\beta \\right)}}{- 4 \\sin^{2}{\\left(\\beta \\right)} + 4 \\cos^{2}{\\left(\\beta \\right)}} + \\frac{2 \\alpha_{2} v_{L}^{2} \\cos^{2}{\\left(\\beta \\right)}}{- 4 \\sin^{2}{\\left(\\beta \\right)} + 4 \\cos^{2}{\\left(\\beta \\right)}} - \\frac{2 \\alpha_{2} v_{R}^{2} \\sin^{2}{\\left(\\beta \\right)}}{- 4 \\sin^{2}{\\left(\\beta \\right)} + 4 \\cos^{2}{\\left(\\beta \\right)}} + \\frac{2 \\alpha_{2} v_{R}^{2} \\cos^{2}{\\left(\\beta \\right)}}{- 4 \\sin^{2}{\\left(\\beta \\right)} + 4 \\cos^{2}{\\left(\\beta \\right)}} + \\frac{\\alpha_{3} v_{L}^{2} \\sin{\\left(\\beta \\right)} \\cos{\\left(\\beta \\right)}}{- 4 \\sin^{2}{\\left(\\beta \\right)} + 4 \\cos^{2}{\\left(\\beta \\right)}} + \\frac{\\alpha_{3} v_{R}^{2} \\sin{\\left(\\beta \\right)} \\cos{\\left(\\beta \\right)}}{- 4 \\sin^{2}{\\left(\\beta \\right)} + 4 \\cos^{2}{\\left(\\beta \\right)}} - \\frac{8 \\lambda_{2} v^{2} \\sin^{3}{\\left(\\beta \\right)} \\cos{\\left(\\beta \\right)}}{- 4 \\sin^{2}{\\left(\\beta \\right)} + 4 \\cos^{2}{\\left(\\beta \\right)}} + \\frac{8 \\lambda_{2} v^{2} \\sin{\\left(\\beta \\right)} \\cos^{3}{\\left(\\beta \\right)}}{- 4 \\sin^{2}{\\left(\\beta \\right)} + 4 \\cos^{2}{\\left(\\beta \\right)}} - \\frac{4 \\lambda_{3} v^{2} \\sin^{3}{\\left(\\beta \\right)} \\cos{\\left(\\beta \\right)}}{- 4 \\sin^{2}{\\left(\\beta \\right)} + 4 \\cos^{2}{\\left(\\beta \\right)}} + \\frac{4 \\lambda_{3} v^{2} \\sin{\\left(\\beta \\right)} \\cos^{3}{\\left(\\beta \\right)}}{- 4 \\sin^{2}{\\left(\\beta \\right)} + 4 \\cos^{2}{\\left(\\beta \\right)}} - \\frac{2 \\lambda_{4} v^{2} \\sin^{2}{\\left(\\beta \\right)}}{- 4 \\sin^{2}{\\left(\\beta \\right)} + 4 \\cos^{2}{\\left(\\beta \\right)}} + \\frac{2 \\lambda_{4} v^{2} \\cos^{2}{\\left(\\beta \\right)}}{- 4 \\sin^{2}{\\left(\\beta \\right)} + 4 \\cos^{2}{\\left(\\beta \\right)}} - \\frac{\\beta_{1} v_{L} v_{R} \\sin^{2}{\\left(\\beta \\right)}}{- 4 \\sin^{2}{\\left(\\beta \\right)} + 4 \\cos^{2}{\\left(\\beta \\right)}} + \\frac{\\beta_{1} v_{L} v_{R} \\cos^{2}{\\left(\\beta \\right)}}{- 4 \\sin^{2}{\\left(\\beta \\right)} + 4 \\cos^{2}{\\left(\\beta \\right)}} + \\frac{2 \\beta_{3} v_{L} v_{R} \\sin{\\left(\\beta \\right)} \\cos{\\left(\\beta \\right)}}{- 4 \\sin^{2}{\\left(\\beta \\right)} + 4 \\cos^{2}{\\left(\\beta \\right)}} - \\frac{2 v_{L} v_{R} \\left(\\frac{\\sqrt{2} \\rho_{1} v_{L} v_{R}}{2 v^{2} \\cos^{2}{\\left(\\beta \\right)}} - \\frac{\\sqrt{2} \\rho_{3} v_{L} v_{R}}{2 v^{2} \\cos^{2}{\\left(\\beta \\right)}} - \\frac{\\beta_{1} \\sin{\\left(\\beta \\right)}}{\\cos{\\left(\\beta \\right)}} - \\frac{\\beta_{3} \\sin^{2}{\\left(\\beta \\right)}}{\\cos^{2}{\\left(\\beta \\right)}}\\right) \\sin{\\left(\\beta \\right)} \\cos{\\left(\\beta \\right)}}{- 4 \\sin^{2}{\\left(\\beta \\right)} + 4 \\cos^{2}{\\left(\\beta \\right)}}\\right) - \\left(\\phi^{+}_{1} \\phi^{-}_{1} + \\phi^{+}_{2} \\phi^{-}_{2} + \\frac{\\left(i \\phi_1^{0i} + \\phi_1^{0r}\\right)^{2}}{2} + \\frac{\\left(i \\phi_2^{0i} + \\phi_2^{0r}\\right)^{2}}{2}\\right) \\left(- \\frac{\\alpha_{1} v_{L}^{2} \\sin^{2}{\\left(\\beta \\right)}}{- 2 \\sin^{2}{\\left(\\beta \\right)} + 2 \\cos^{2}{\\left(\\beta \\right)}} + \\frac{\\alpha_{1} v_{L}^{2} \\cos^{2}{\\left(\\beta \\right)}}{- 2 \\sin^{2}{\\left(\\beta \\right)} + 2 \\cos^{2}{\\left(\\beta \\right)}} - \\frac{\\alpha_{1} v_{R}^{2} \\sin^{2}{\\left(\\beta \\right)}}{- 2 \\sin^{2}{\\left(\\beta \\right)} + 2 \\cos^{2}{\\left(\\beta \\right)}} + \\frac{\\alpha_{1} v_{R}^{2} \\cos^{2}{\\left(\\beta \\right)}}{- 2 \\sin^{2}{\\left(\\beta \\right)} + 2 \\cos^{2}{\\left(\\beta \\right)}} - \\frac{\\alpha_{3} v_{L}^{2} \\sin^{2}{\\left(\\beta \\right)}}{- 2 \\sin^{2}{\\left(\\beta \\right)} + 2 \\cos^{2}{\\left(\\beta \\right)}} - \\frac{\\alpha_{3} v_{R}^{2} \\sin^{2}{\\left(\\beta \\right)}}{- 2 \\sin^{2}{\\left(\\beta \\right)} + 2 \\cos^{2}{\\left(\\beta \\right)}} - \\frac{2 \\lambda_{1} v^{2} \\sin^{2}{\\left(\\beta \\right)}}{- 2 \\sin^{2}{\\left(\\beta \\right)} + 2 \\cos^{2}{\\left(\\beta \\right)}} + \\frac{2 \\lambda_{1} v^{2} \\cos^{2}{\\left(\\beta \\right)}}{- 2 \\sin^{2}{\\left(\\beta \\right)} + 2 \\cos^{2}{\\left(\\beta \\right)}} - \\frac{4 \\lambda_{4} v^{2} \\sin^{3}{\\left(\\beta \\right)} \\cos{\\left(\\beta \\right)}}{- 2 \\sin^{2}{\\left(\\beta \\right)} + 2 \\cos^{2}{\\left(\\beta \\right)}} + \\frac{4 \\lambda_{4} v^{2} \\sin{\\left(\\beta \\right)} \\cos^{3}{\\left(\\beta \\right)}}{- 2 \\sin^{2}{\\left(\\beta \\right)} + 2 \\cos^{2}{\\left(\\beta \\right)}} - \\frac{2 \\beta_{3} v_{L} v_{R} \\sin^{2}{\\left(\\beta \\right)}}{- 2 \\sin^{2}{\\left(\\beta \\right)} + 2 \\cos^{2}{\\left(\\beta \\right)}} + \\frac{2 v_{L} v_{R} \\left(\\frac{\\sqrt{2} \\rho_{1} v_{L} v_{R}}{2 v^{2} \\cos^{2}{\\left(\\beta \\right)}} - \\frac{\\sqrt{2} \\rho_{3} v_{L} v_{R}}{2 v^{2} \\cos^{2}{\\left(\\beta \\right)}} - \\frac{\\beta_{1} \\sin{\\left(\\beta \\right)}}{\\cos{\\left(\\beta \\right)}} - \\frac{\\beta_{3} \\sin^{2}{\\left(\\beta \\right)}}{\\cos^{2}{\\left(\\beta \\right)}}\\right) \\cos^{2}{\\left(\\beta \\right)}}{- 2 \\sin^{2}{\\left(\\beta \\right)} + 2 \\cos^{2}{\\left(\\beta \\right)}}\\right) + \\left(\\frac{\\sqrt{2} \\rho_{1} v_{L} v_{R}}{2 v^{2} \\cos^{2}{\\left(\\beta \\right)}} - \\frac{\\sqrt{2} \\rho_{3} v_{L} v_{R}}{2 v^{2} \\cos^{2}{\\left(\\beta \\right)}} - \\frac{\\beta_{1} \\sin{\\left(\\beta \\right)}}{\\cos{\\left(\\beta \\right)}} - \\frac{\\beta_{3} \\sin^{2}{\\left(\\beta \\right)}}{\\cos^{2}{\\left(\\beta \\right)}}\\right) \\left(\\frac{\\sqrt{2} \\delta^{-}_{L} \\left(\\phi^{-}_{1} \\left(\\frac{\\sqrt{2} \\delta^{+}_{R} \\phi^{-}_{2}}{2} + \\frac{\\sqrt{2} \\delta_R^{++} \\left(i \\phi_2^{0i} + \\phi_2^{0r}\\right)}{2}\\right) + \\frac{\\sqrt{2} \\left(i \\phi_1^{0i} + \\phi_1^{0r}\\right) \\left(\\frac{\\delta^{+}_{R} \\left(i \\phi_2^{0i} + \\phi_2^{0r}\\right)}{2} - \\frac{\\sqrt{2} \\phi^{-}_{2} \\left(i \\delta_R^{0i} + \\delta_R^{0r}\\right)}{2}\\right)}{2}\\right)}{2} - \\frac{\\sqrt{2} \\delta^{-}_{L} \\left(\\phi^{+}_{2} \\left(- \\frac{\\sqrt{2} \\delta^{+}_{R} \\phi^{+}_{1}}{2} + \\frac{\\left(i \\delta_R^{0i} + \\delta_R^{0r}\\right) \\left(i \\phi_1^{0i} + \\phi_1^{0r}\\right)}{2}\\right) + \\frac{\\sqrt{2} \\left(i \\phi_2^{0i} + \\phi_2^{0r}\\right) \\left(- \\frac{\\delta^{+}_{R} \\left(i \\phi_1^{0i} + \\phi_1^{0r}\\right)}{2} - \\delta_R^{++} \\phi^{+}_{1}\\right)}{2}\\right)}{2} + \\delta_L^{--} \\left(\\phi^{+}_{2} \\left(\\frac{\\delta^{+}_{R} \\left(i \\phi_2^{0i} + \\phi_2^{0r}\\right)}{2} - \\frac{\\sqrt{2} \\phi^{-}_{2} \\left(i \\delta_R^{0i} + \\delta_R^{0r}\\right)}{2}\\right) + \\frac{\\sqrt{2} \\left(i \\phi_2^{0i} + \\phi_2^{0r}\\right) \\left(\\frac{\\sqrt{2} \\delta^{+}_{R} \\phi^{-}_{2}}{2} + \\frac{\\sqrt{2} \\delta_R^{++} \\left(i \\phi_2^{0i} + \\phi_2^{0r}\\right)}{2}\\right)}{2}\\right) - \\frac{\\sqrt{2} \\delta^{-}_{R} \\left(\\phi^{+}_{1} \\left(- \\frac{\\sqrt{2} \\delta^{+}_{L} \\phi^{+}_{2}}{2} + \\frac{\\left(i \\delta_L^{0i} + \\delta_L^{0r}\\right) \\left(i \\phi_1^{0i} + \\phi_1^{0r}\\right)}{2}\\right) + \\frac{\\sqrt{2} \\left(i \\phi_2^{0i} + \\phi_2^{0r}\\right) \\left(- \\frac{\\delta^{+}_{L} \\left(i \\phi_1^{0i} + \\phi_1^{0r}\\right)}{2} - \\delta_L^{++} \\phi^{+}_{2}\\right)}{2}\\right)}{2} + \\frac{\\sqrt{2} \\delta^{-}_{R} \\left(\\phi^{-}_{2} \\left(\\frac{\\sqrt{2} \\delta^{+}_{L} \\phi^{-}_{1}}{2} + \\frac{\\sqrt{2} \\delta_L^{++} \\left(i \\phi_2^{0i} + \\phi_2^{0r}\\right)}{2}\\right) + \\frac{\\sqrt{2} \\left(i \\phi_1^{0i} + \\phi_1^{0r}\\right) \\left(\\frac{\\delta^{+}_{L} \\left(i \\phi_2^{0i} + \\phi_2^{0r}\\right)}{2} - \\frac{\\sqrt{2} \\phi^{-}_{1} \\left(i \\delta_L^{0i} + \\delta_L^{0r}\\right)}{2}\\right)}{2}\\right)}{2} + \\delta_R^{--} \\left(\\phi^{+}_{1} \\left(\\frac{\\delta^{+}_{L} \\left(i \\phi_2^{0i} + \\phi_2^{0r}\\right)}{2} - \\frac{\\sqrt{2} \\phi^{-}_{1} \\left(i \\delta_L^{0i} + \\delta_L^{0r}\\right)}{2}\\right) + \\frac{\\sqrt{2} \\left(i \\phi_2^{0i} + \\phi_2^{0r}\\right) \\left(\\frac{\\sqrt{2} \\delta^{+}_{L} \\phi^{-}_{1}}{2} + \\frac{\\sqrt{2} \\delta_L^{++} \\left(i \\phi_2^{0i} + \\phi_2^{0r}\\right)}{2}\\right)}{2}\\right) + \\frac{\\sqrt{2} \\left(i \\delta_L^{0i} + \\delta_L^{0r}\\right) \\left(\\phi^{-}_{1} \\left(- \\frac{\\delta^{+}_{R} \\left(i \\phi_1^{0i} + \\phi_1^{0r}\\right)}{2} - \\delta_R^{++} \\phi^{+}_{1}\\right) + \\frac{\\sqrt{2} \\left(i \\phi_1^{0i} + \\phi_1^{0r}\\right) \\left(- \\frac{\\sqrt{2} \\delta^{+}_{R} \\phi^{+}_{1}}{2} + \\frac{\\left(i \\delta_R^{0i} + \\delta_R^{0r}\\right) \\left(i \\phi_1^{0i} + \\phi_1^{0r}\\right)}{2}\\right)}{2}\\right)}{2} + \\frac{\\sqrt{2} \\left(i \\delta_R^{0i} + \\delta_R^{0r}\\right) \\left(\\phi^{-}_{2} \\left(- \\frac{\\delta^{+}_{L} \\left(i \\phi_1^{0i} + \\phi_1^{0r}\\right)}{2} - \\delta_L^{++} \\phi^{+}_{2}\\right) + \\frac{\\sqrt{2} \\left(i \\phi_1^{0i} + \\phi_1^{0r}\\right) \\left(- \\frac{\\sqrt{2} \\delta^{+}_{L} \\phi^{+}_{2}}{2} + \\frac{\\left(i \\delta_L^{0i} + \\delta_L^{0r}\\right) \\left(i \\phi_1^{0i} + \\phi_1^{0r}\\right)}{2}\\right)}{2}\\right)}{2}\\right) - \\left(\\delta^{+}_{L} \\delta^{-}_{L} + \\delta_L^{++} \\delta_L^{--} + \\delta^{+}_{R} \\delta^{-}_{R} + \\delta_R^{++} \\delta_R^{--} + \\frac{\\left(i \\delta_L^{0i} + \\delta_L^{0r}\\right)^{2}}{2} + \\frac{\\left(i \\delta_R^{0i} + \\delta_R^{0r}\\right)^{2}}{2}\\right) \\left(\\alpha_{1} v^{2} \\sin^{2}{\\left(\\beta \\right)} + \\alpha_{1} v^{2} \\cos^{2}{\\left(\\beta \\right)} + 4 \\alpha_{2} v^{2} \\sin{\\left(\\beta \\right)} \\cos{\\left(\\beta \\right)} + \\alpha_{3} v^{2} \\sin^{2}{\\left(\\beta \\right)} + \\rho_{1} v_{L}^{2} + \\rho_{1} v_{R}^{2}\\right)$"
      ],
      "text/plain": [
       "                                                                              \n",
       "                                                                              \n",
       "                                                                              \n",
       "        ⎛                                                               2     \n",
       "        ⎜                                (ⅈ⋅\\phi_1__{0i} + \\phi_1__{0r})    (ⅈ\n",
       "\\alpha₁⋅⎜\\phi⁺₁⋅\\phi⁻₁ + \\phi⁺₂⋅\\phi⁻₂ + ──────────────────────────────── + ──\n",
       "        ⎝                                               2                     \n",
       "                                                                              \n",
       "\n",
       "                                                                              \n",
       "                                                                              \n",
       "                                                                              \n",
       "                             2⎞ ⎛                                             \n",
       "⋅\\phi_2__{0i} + \\phi_2__{0r}) ⎟ ⎜                                             \n",
       "──────────────────────────────⎟⋅⎜\\delta_L__+⋅\\delta_L__- + \\delta_L__{++}⋅\\del\n",
       "             2                ⎠ ⎝                                             \n",
       "                                                                              \n",
       "\n",
       "                                                                              \n",
       "                                                                              \n",
       "                                                                              \n",
       "                                                                              \n",
       "                                                                       (ⅈ⋅\\del\n",
       "ta_L__{--} + \\delta_R__+⋅\\delta_R__- + \\delta_R__{++}⋅\\delta_R__{--} + ───────\n",
       "                                                                              \n",
       "                                                                              \n",
       "\n",
       "                                                                              \n",
       "                                                                              \n",
       "                                                                              \n",
       "                            2                                      2⎞         \n",
       "ta_L__{0i} + \\delta_L__{0r})    (ⅈ⋅\\delta_R__{0i} + \\delta_R__{0r}) ⎟         \n",
       "───────────────────────────── + ────────────────────────────────────⎟ + \\alpha\n",
       "          2                                      2                  ⎠         \n",
       "                                                                              \n",
       "\n",
       "                                                                              \n",
       "                                                                              \n",
       "                                                                              \n",
       "  ⎛  ⎛                                                                        \n",
       "  ⎜  ⎜                                                          (ⅈ⋅\\delta_L__{\n",
       "₂⋅⎜2⋅⎜\\delta_L__+⋅\\delta_L__- + \\delta_L__{++}⋅\\delta_L__{--} + ──────────────\n",
       "  ⎝  ⎝                                                                        \n",
       "                                                                              \n",
       "\n",
       "                                                                              \n",
       "                                                                              \n",
       "                                                                              \n",
       "                     2⎞                                                       \n",
       "0i} + \\delta_L__{0r}) ⎟                                                       \n",
       "──────────────────────⎟⋅(-\\phi⁺₁⋅\\phi⁺₂ - \\phi⁻₁⋅\\phi⁻₂ + (ⅈ⋅\\phi_1__{0i} + \\p\n",
       "   2                  ⎠                                                       \n",
       "                                                                              \n",
       "\n",
       "                                                                              \n",
       "                                                                              \n",
       "                                                                              \n",
       "                                                 ⎛                            \n",
       "                                                 ⎜                            \n",
       "hi_1__{0r})⋅(ⅈ⋅\\phi_2__{0i} + \\phi_2__{0r})) + 2⋅⎜\\delta_R__+⋅\\delta_R__- + \\d\n",
       "                                                 ⎝                            \n",
       "                                                                              \n",
       "\n",
       "                                                                              \n",
       "                                                                              \n",
       "                                                                              \n",
       "                                                                 2⎞           \n",
       "                              (ⅈ⋅\\delta_R__{0i} + \\delta_R__{0r}) ⎟           \n",
       "elta_R__{++}⋅\\delta_R__{--} + ────────────────────────────────────⎟⋅(-\\phi⁺₁⋅\\\n",
       "                                               2                  ⎠           \n",
       "                                                                              \n",
       "\n",
       "                                                                              \n",
       "                                                                              \n",
       "                                                                              \n",
       "                                                                              \n",
       "                                                                              \n",
       "phi⁺₂ - \\phi⁻₁⋅\\phi⁻₂ + (ⅈ⋅\\phi_1__{0i} + \\phi_1__{0r})⋅(ⅈ⋅\\phi_2__{0i} + \\phi\n",
       "                                                                              \n",
       "                                                                              \n",
       "\n",
       "                                                                              \n",
       "                                                                              \n",
       "                                                                              \n",
       "          ⎞           ⎛                                                       \n",
       "          ⎟           ⎜⎛\\delta_L__+⋅\\delta_L__-                               \n",
       "_2__{0r}))⎟ + \\alpha₃⋅⎜⎜─────────────────────── + \\delta_L__{++}⋅\\delta_L__{--\n",
       "          ⎠           ⎝⎝           2                                          \n",
       "                                                                              \n",
       "\n",
       "                                                                              \n",
       "                                                                              \n",
       "                                                                              \n",
       "   ⎛                                               2⎞   ⎛                     \n",
       " ⎞ ⎜                (ⅈ⋅\\phi_1__{0i} + \\phi_1__{0r}) ⎟   ⎜\\delta_L__+⋅\\delta_L_\n",
       "}⎟⋅⎜\\phi⁺₁⋅\\phi⁻₁ + ────────────────────────────────⎟ + ⎜─────────────────────\n",
       " ⎠ ⎝                               2                ⎠   ⎝           2         \n",
       "                                                                              \n",
       "\n",
       "                                                                              \n",
       "                                                                              \n",
       "                                                                              \n",
       "                                        2⎞ ⎛                                  \n",
       "_-   (ⅈ⋅\\delta_L__{0i} + \\delta_L__{0r}) ⎟ ⎜                (ⅈ⋅\\phi_2__{0i} + \n",
       "── + ────────────────────────────────────⎟⋅⎜\\phi⁺₂⋅\\phi⁻₂ + ──────────────────\n",
       "                      2                  ⎠ ⎝                               2  \n",
       "                                                                              \n",
       "\n",
       "                                                                              \n",
       "                                                                              \n",
       "                                                                              \n",
       "             2⎞                                                               \n",
       "\\phi_2__{0r}) ⎟   ⎛\\delta_L__+⋅(ⅈ⋅\\delta_L__{0i} + \\delta_L__{0r})   √2⋅\\delta\n",
       "──────────────⎟ + ⎜─────────────────────────────────────────────── - ─────────\n",
       "              ⎠   ⎝                       2                                   \n",
       "                                                                              \n",
       "\n",
       "                                                                              \n",
       "                                                                              \n",
       "                                                                              \n",
       "                                                                              \n",
       "_L__-⋅\\delta_L__{++}⎞ ⎛√2⋅\\phi⁻₁⋅(ⅈ⋅\\phi_2__{0i} + \\phi_2__{0r})   √2⋅\\phi⁻₂⋅(\n",
       "────────────────────⎟⋅⎜───────────────────────────────────────── + ───────────\n",
       "     2              ⎠ ⎝                    2                                  \n",
       "                                                                              \n",
       "\n",
       "                                                                              \n",
       "                                                                              \n",
       "                                                                              \n",
       "                                                                              \n",
       "ⅈ⋅\\phi_1__{0i} + \\phi_1__{0r})⎞   ⎛\\delta_R__+⋅\\delta_R__-                    \n",
       "──────────────────────────────⎟ + ⎜─────────────────────── + \\delta_R__{++}⋅\\d\n",
       "         2                    ⎠   ⎝           2                               \n",
       "                                                                              \n",
       "\n",
       "                                                                              \n",
       "                                                                              \n",
       "                                                                              \n",
       "              ⎛                                               2⎞   ⎛          \n",
       "            ⎞ ⎜                (ⅈ⋅\\phi_1__{0i} + \\phi_1__{0r}) ⎟   ⎜\\delta_R__\n",
       "elta_R__{--}⎟⋅⎜\\phi⁺₂⋅\\phi⁻₂ + ────────────────────────────────⎟ + ⎜──────────\n",
       "            ⎠ ⎝                               2                ⎠   ⎝          \n",
       "                                                                              \n",
       "\n",
       "                                                                              \n",
       "                                                                              \n",
       "                                                                              \n",
       "                                                   2⎞ ⎛                       \n",
       "+⋅\\delta_R__-   (ⅈ⋅\\delta_R__{0i} + \\delta_R__{0r}) ⎟ ⎜                (ⅈ⋅\\phi\n",
       "───────────── + ────────────────────────────────────⎟⋅⎜\\phi⁺₁⋅\\phi⁻₁ + ───────\n",
       " 2                               2                  ⎠ ⎝                       \n",
       "                                                                              \n",
       "\n",
       "                                                                              \n",
       "                                                                              \n",
       "                                                                              \n",
       "                        2⎞                                                    \n",
       "_2__{0i} + \\phi_2__{0r}) ⎟   ⎛\\delta_R__+⋅(ⅈ⋅\\delta_R__{0i} + \\delta_R__{0r}) \n",
       "─────────────────────────⎟ + ⎜─────────────────────────────────────────────── \n",
       "        2                ⎠   ⎝                       2                        \n",
       "                                                                              \n",
       "\n",
       "                                                                              \n",
       "                                                                              \n",
       "                                                                              \n",
       "                                                                              \n",
       "  √2⋅\\delta_R__-⋅\\delta_R__{++}⎞ ⎛√2⋅\\phi⁻₁⋅(ⅈ⋅\\phi_1__{0i} + \\phi_1__{0r})   \n",
       "- ─────────────────────────────⎟⋅⎜───────────────────────────────────────── + \n",
       "                2              ⎠ ⎝                    2                       \n",
       "                                                                              \n",
       "\n",
       "                                                                              \n",
       "                                                                              \n",
       "                                                                              \n",
       "                                                                              \n",
       "√2⋅\\phi⁻₂⋅(ⅈ⋅\\phi_2__{0i} + \\phi_2__{0r})⎞   ⎛  √2⋅\\delta_L__+⋅\\delta_L__{--} \n",
       "─────────────────────────────────────────⎟ + ⎜- ───────────────────────────── \n",
       "                    2                    ⎠   ⎝                2               \n",
       "                                                                              \n",
       "\n",
       "                                                                              \n",
       "                                                                              \n",
       "                                                                              \n",
       "                                                                              \n",
       "  \\delta_L__-⋅(ⅈ⋅\\delta_L__{0i} + \\delta_L__{0r})⎞ ⎛√2⋅\\phi⁺₁⋅(ⅈ⋅\\phi_2__{0i} \n",
       "+ ───────────────────────────────────────────────⎟⋅⎜──────────────────────────\n",
       "                         2                       ⎠ ⎝                    2     \n",
       "                                                                              \n",
       "\n",
       "                                                                              \n",
       "                                                                              \n",
       "                                                                              \n",
       "                                                                              \n",
       "+ \\phi_2__{0r})   √2⋅\\phi⁺₂⋅(ⅈ⋅\\phi_1__{0i} + \\phi_1__{0r})⎞   ⎛  √2⋅\\delta_R_\n",
       "─────────────── + ─────────────────────────────────────────⎟ + ⎜- ────────────\n",
       "                                      2                    ⎠   ⎝              \n",
       "                                                                              \n",
       "\n",
       "                                                                              \n",
       "                                                                              \n",
       "                                                                              \n",
       "                                                                              \n",
       "_+⋅\\delta_R__{--}   \\delta_R__-⋅(ⅈ⋅\\delta_R__{0i} + \\delta_R__{0r})⎞ ⎛√2⋅\\phi⁺\n",
       "───────────────── + ───────────────────────────────────────────────⎟⋅⎜────────\n",
       "  2                                        2                       ⎠ ⎝        \n",
       "                                                                              \n",
       "\n",
       "                                                                              \n",
       "                                                                              \n",
       "                                                                              \n",
       "                                                                              \n",
       "₁⋅(ⅈ⋅\\phi_1__{0i} + \\phi_1__{0r})   √2⋅\\phi⁺₂⋅(ⅈ⋅\\phi_2__{0i} + \\phi_2__{0r})⎞\n",
       "───────────────────────────────── + ─────────────────────────────────────────⎟\n",
       "            2                                           2                    ⎠\n",
       "                                                                              \n",
       "\n",
       "                                                                              \n",
       "                                                                              \n",
       "                                                                              \n",
       "⎞            ⎛                                                               2\n",
       "⎟            ⎜                                (ⅈ⋅\\phi_1__{0i} + \\phi_1__{0r}) \n",
       "⎟ + \\lambda₁⋅⎜\\phi⁺₁⋅\\phi⁻₁ + \\phi⁺₂⋅\\phi⁻₂ + ────────────────────────────────\n",
       "⎠            ⎝                                               2                \n",
       "                                                                              \n",
       "\n",
       "                                                                              \n",
       "                                                                              \n",
       "                                    2                                         \n",
       "                                  2⎞                                          \n",
       "   (ⅈ⋅\\phi_2__{0i} + \\phi_2__{0r}) ⎟                                          \n",
       " + ────────────────────────────────⎟  + 2⋅\\lambda₂⋅(-\\phi⁺₁⋅\\phi⁺₂ - \\phi⁻₁⋅\\p\n",
       "                  2                ⎠                                          \n",
       "                                                                              \n",
       "\n",
       "                                                                              \n",
       "                                                                              \n",
       "                                                                              \n",
       "                                                                              \n",
       "                                                                       2      \n",
       "hi⁻₂ + (ⅈ⋅\\phi_1__{0i} + \\phi_1__{0r})⋅(ⅈ⋅\\phi_2__{0i} + \\phi_2__{0r}))  + \\la\n",
       "                                                                              \n",
       "                                                                              \n",
       "\n",
       "                                                                              \n",
       "                                                                              \n",
       "                                                                              \n",
       "                                                                              \n",
       "                                                                              \n",
       "mbda₃⋅(-\\phi⁺₁⋅\\phi⁺₂ - \\phi⁻₁⋅\\phi⁻₂ + (ⅈ⋅\\phi_1__{0i} + \\phi_1__{0r})⋅(ⅈ⋅\\ph\n",
       "                                                                              \n",
       "                                                                              \n",
       "\n",
       "                                                                              \n",
       "                                                                              \n",
       "                                                                              \n",
       "                                                                              \n",
       "                          2                                                   \n",
       "i_2__{0i} + \\phi_2__{0r}))  + \\lambda₄⋅(-2⋅\\phi⁺₁⋅\\phi⁺₂ - 2⋅\\phi⁻₁⋅\\phi⁻₂ + 2\n",
       "                                                                              \n",
       "                                                                              \n",
       "\n",
       "                                                                              \n",
       "                                                                              \n",
       "                                                                              \n",
       "                                                                  ⎛           \n",
       "                                                                  ⎜           \n",
       "⋅(ⅈ⋅\\phi_1__{0i} + \\phi_1__{0r})⋅(ⅈ⋅\\phi_2__{0i} + \\phi_2__{0r}))⋅⎜\\phi⁺₁⋅\\phi\n",
       "                                                                  ⎝           \n",
       "                                                                              \n",
       "\n",
       "                                                                              \n",
       "                                                                              \n",
       "                                                                              \n",
       "                                                    2                         \n",
       "                     (ⅈ⋅\\phi_1__{0i} + \\phi_1__{0r})    (ⅈ⋅\\phi_2__{0i} + \\phi\n",
       "⁻₁ + \\phi⁺₂⋅\\phi⁻₂ + ──────────────────────────────── + ──────────────────────\n",
       "                                    2                                  2      \n",
       "                                                                              \n",
       "\n",
       "                                                                              \n",
       "                                                                              \n",
       "                    ⎛                                                         \n",
       "         2⎞         ⎜⎛                                                        \n",
       "_2__{0r}) ⎟         ⎜⎜                                                        \n",
       "──────────⎟ + \\rho₁⋅⎜⎜\\delta_L__+⋅\\delta_L__- + \\delta_L__{++}⋅\\delta_L__{--} \n",
       "          ⎠         ⎝⎝                                                        \n",
       "                                                                              \n",
       "\n",
       "                                                                              \n",
       "                                                                              \n",
       "                                       2                                      \n",
       "                                     2⎞    ⎛                                  \n",
       "  (ⅈ⋅\\delta_L__{0i} + \\delta_L__{0r}) ⎟    ⎜                                  \n",
       "+ ────────────────────────────────────⎟  + ⎜\\delta_R__+⋅\\delta_R__- + \\delta_R\n",
       "                   2                  ⎠    ⎝                                  \n",
       "                                                                              \n",
       "\n",
       "                                                                              \n",
       "                                                                              \n",
       "                                                             2⎞               \n",
       "                                                           2⎞ ⎟               \n",
       "                        (ⅈ⋅\\delta_R__{0i} + \\delta_R__{0r}) ⎟ ⎟         ⎛⎛    \n",
       "__{++}⋅\\delta_R__{--} + ────────────────────────────────────⎟ ⎟ + \\rho₂⋅⎝⎝\\del\n",
       "                                         2                  ⎠ ⎠               \n",
       "                                                                              \n",
       "\n",
       "                                                                              \n",
       "                                                                              \n",
       "                                                                              \n",
       "                                                                              \n",
       "       2                                                        ⎞ ⎛           \n",
       "ta_L__+  + √2⋅\\delta_L__{++}⋅(ⅈ⋅\\delta_L__{0i} + \\delta_L__{0r})⎠⋅⎝\\delta_L__-\n",
       "                                                                              \n",
       "                                                                              \n",
       "\n",
       "                                                                              \n",
       "                                                                              \n",
       "                                                                              \n",
       "                                                                              \n",
       "2                                                        ⎞   ⎛           2    \n",
       "  + √2⋅\\delta_L__{--}⋅(ⅈ⋅\\delta_L__{0i} + \\delta_L__{0r})⎠ + ⎝\\delta_R__+  + √\n",
       "                                                                              \n",
       "                                                                              \n",
       "\n",
       "                                                                              \n",
       "                                                                              \n",
       "                                                                              \n",
       "                                                                              \n",
       "                                                    ⎞ ⎛           2           \n",
       "2⋅\\delta_R__{++}⋅(ⅈ⋅\\delta_R__{0i} + \\delta_R__{0r})⎠⋅⎝\\delta_R__-  + √2⋅\\delt\n",
       "                                                                              \n",
       "                                                                              \n",
       "\n",
       "                                                                              \n",
       "                                                                              \n",
       "                                                                              \n",
       "                                                        ⎛                     \n",
       "                                             ⎞⎞         ⎜                     \n",
       "a_R__{--}⋅(ⅈ⋅\\delta_R__{0i} + \\delta_R__{0r})⎠⎠ + \\rho₃⋅⎜\\delta_L__+⋅\\delta_L_\n",
       "                                                        ⎝                     \n",
       "                                                                              \n",
       "\n",
       "                                                                              \n",
       "                                                                              \n",
       "                                                                              \n",
       "                                                                        2⎞ ⎛  \n",
       "                                     (ⅈ⋅\\delta_L__{0i} + \\delta_L__{0r}) ⎟ ⎜  \n",
       "_- + \\delta_L__{++}⋅\\delta_L__{--} + ────────────────────────────────────⎟⋅⎜\\d\n",
       "                                                      2                  ⎠ ⎝  \n",
       "                                                                              \n",
       "\n",
       "                                                                              \n",
       "                                                                              \n",
       "                                                                              \n",
       "                                                                              \n",
       "                                                        (ⅈ⋅\\delta_R__{0i} + \\d\n",
       "elta_R__+⋅\\delta_R__- + \\delta_R__{++}⋅\\delta_R__{--} + ──────────────────────\n",
       "                                                                         2    \n",
       "                                                                              \n",
       "\n",
       "                                                                              \n",
       "                                                                              \n",
       "                                                                              \n",
       "             2⎞                                                               \n",
       "elta_R__{0r}) ⎟         ⎛⎛           2                                        \n",
       "──────────────⎟ + \\rho₄⋅⎝⎝\\delta_L__+  + √2⋅\\delta_L__{++}⋅(ⅈ⋅\\delta_L__{0i} +\n",
       "              ⎠                                                               \n",
       "                                                                              \n",
       "\n",
       "                                                                              \n",
       "                                                                              \n",
       "                                                                              \n",
       "                                                                              \n",
       "                ⎞ ⎛           2                                               \n",
       " \\delta_L__{0r})⎠⋅⎝\\delta_R__-  + √2⋅\\delta_R__{--}⋅(ⅈ⋅\\delta_R__{0i} + \\delta\n",
       "                                                                              \n",
       "                                                                              \n",
       "\n",
       "                                                                              \n",
       "                                                                              \n",
       "                                                                              \n",
       "                                                                              \n",
       "         ⎞   ⎛           2                                                    \n",
       "_R__{0r})⎠ + ⎝\\delta_L__-  + √2⋅\\delta_L__{--}⋅(ⅈ⋅\\delta_L__{0i} + \\delta_L__{\n",
       "                                                                              \n",
       "                                                                              \n",
       "\n",
       "                                                                              \n",
       "                                                                              \n",
       "                                                                              \n",
       "                                                                              \n",
       "    ⎞ ⎛           2                                                        ⎞⎞ \n",
       "0r})⎠⋅⎝\\delta_R__+  + √2⋅\\delta_R__{++}⋅(ⅈ⋅\\delta_R__{0i} + \\delta_R__{0r})⎠⎠ \n",
       "                                                                              \n",
       "                                                                              \n",
       "\n",
       "     ⎛               ⎛                                                        \n",
       "     ⎜               ⎜                                                        \n",
       "     ⎜               ⎜       ⎛  √2⋅\\delta_R__+⋅\\phi⁺₁   √2⋅\\delta_R__{++}⋅(ⅈ⋅\\\n",
       "     ⎜√2⋅\\delta_L__-⋅⎜\\phi⁻₁⋅⎜- ───────────────────── + ──────────────────────\n",
       "     ⎜               ⎝       ⎝            2                                   \n",
       "+ β₁⋅⎜────────────────────────────────────────────────────────────────────────\n",
       "     ⎝                                                                        \n",
       "                                                                              \n",
       "\n",
       "                                                                  ⎛\\delta_R__+\n",
       "                               √2⋅(ⅈ⋅\\phi_1__{0i} + \\phi_1__{0r})⋅⎜───────────\n",
       "phi_1__{0i} + \\phi_1__{0r})⎞                                      ⎝           \n",
       "───────────────────────────⎟ + ───────────────────────────────────────────────\n",
       "  2                        ⎠                                                  \n",
       "──────────────────────────────────────────────────────────────────────────────\n",
       "                                           2                                  \n",
       "                                                                              \n",
       "\n",
       "⋅(ⅈ⋅\\phi_1__{0i} + \\phi_1__{0r})   √2⋅\\phi⁺₁⋅(ⅈ⋅\\delta_R__{0i} + \\delta_R__{0r\n",
       "──────────────────────────────── + ───────────────────────────────────────────\n",
       "          2                                              2                    \n",
       "──────────────────────────────────────────────────────────────────────────────\n",
       "                2                                                             \n",
       "──────────────────────────────────────────────────────────────────────────────\n",
       "                                                                              \n",
       "                                                                              \n",
       "\n",
       "})⎞⎞                  ⎛                                                       \n",
       "──⎟⎟                  ⎜                                                       \n",
       "  ⎠⎟                  ⎜       ⎛√2⋅\\delta_R__+⋅\\phi⁻₂   (ⅈ⋅\\delta_R__{0i} + \\de\n",
       "───⎟   √2⋅\\delta_L__-⋅⎜\\phi⁺₂⋅⎜───────────────────── + ───────────────────────\n",
       "   ⎠                  ⎝       ⎝          2                                    \n",
       "──── - ───────────────────────────────────────────────────────────────────────\n",
       "                                                                              \n",
       "                                                                              \n",
       "\n",
       "                                                                              \n",
       "                                                √2⋅(ⅈ⋅\\phi_2__{0i} + \\phi_2__{\n",
       "lta_R__{0r})⋅(ⅈ⋅\\phi_2__{0i} + \\phi_2__{0r})⎞                                 \n",
       "────────────────────────────────────────────⎟ + ──────────────────────────────\n",
       "          2                                 ⎠                                 \n",
       "──────────────────────────────────────────────────────────────────────────────\n",
       "                                         2                                    \n",
       "                                                                              \n",
       "\n",
       "     ⎛  \\delta_R__+⋅(ⅈ⋅\\phi_2__{0i} + \\phi_2__{0r})                        ⎞⎞ \n",
       "0r})⋅⎜- ─────────────────────────────────────────── + \\delta_R__{++}⋅\\phi⁻₂⎟⎟ \n",
       "     ⎝                       2                                             ⎠⎟ \n",
       "────────────────────────────────────────────────────────────────────────────⎟ \n",
       "                      2                                                     ⎠ \n",
       "───────────────────────────────────────────────────────────────────────────── \n",
       "                                                                              \n",
       "                                                                              \n",
       "\n",
       "                                                                              \n",
       "                                                                              \n",
       "                 ⎛                                                            \n",
       "                 ⎜                                                            \n",
       "                 ⎜       ⎛\\delta_R__+⋅(ⅈ⋅\\phi_1__{0i} + \\phi_1__{0r})   √2⋅\\ph\n",
       "+ \\delta_L__{--}⋅⎜\\phi⁺₂⋅⎜─────────────────────────────────────────── + ──────\n",
       "                 ⎝       ⎝                     2                              \n",
       "                                                                              \n",
       "\n",
       "                                                                              \n",
       "                                                                              \n",
       "                                                                              \n",
       "                                           √2⋅(ⅈ⋅\\phi_2__{0i} + \\phi_2__{0r})⋅\n",
       "i⁺₁⋅(ⅈ⋅\\delta_R__{0i} + \\delta_R__{0r})⎞                                      \n",
       "───────────────────────────────────────⎟ + ───────────────────────────────────\n",
       "                2                      ⎠                                      \n",
       "                                                                              \n",
       "\n",
       "                                                                              \n",
       "                                                                              \n",
       "⎛  √2⋅\\delta_R__+⋅\\phi⁺₁   √2⋅\\delta_R__{++}⋅(ⅈ⋅\\phi_1__{0i} + \\phi_1__{0r})⎞⎞\n",
       "⎜- ───────────────────── + ─────────────────────────────────────────────────⎟⎟\n",
       "⎝            2                                     2                        ⎠⎟\n",
       "─────────────────────────────────────────────────────────────────────────────⎟\n",
       "                    2                                                        ⎠\n",
       "                                                                              \n",
       "\n",
       "                  ⎛                                                           \n",
       "                  ⎜                                                           \n",
       "                  ⎜       ⎛√2⋅\\delta_L__+⋅\\phi⁻₁   (ⅈ⋅\\delta_L__{0i} + \\delta_\n",
       "   √2⋅\\delta_R__-⋅⎜\\phi⁺₁⋅⎜───────────────────── + ───────────────────────────\n",
       "                  ⎝       ⎝          2                                        \n",
       " - ───────────────────────────────────────────────────────────────────────────\n",
       "                                                                              \n",
       "                                                                              \n",
       "\n",
       "                                                                              \n",
       "                                            √2⋅(ⅈ⋅\\phi_2__{0i} + \\phi_2__{0r})\n",
       "L__{0r})⋅(ⅈ⋅\\phi_2__{0i} + \\phi_2__{0r})⎞                                     \n",
       "────────────────────────────────────────⎟ + ──────────────────────────────────\n",
       "      2                                 ⎠                                     \n",
       "──────────────────────────────────────────────────────────────────────────────\n",
       "                                     2                                        \n",
       "                                                                              \n",
       "\n",
       " ⎛  \\delta_L__+⋅(ⅈ⋅\\phi_2__{0i} + \\phi_2__{0r})                        ⎞⎞     \n",
       "⋅⎜- ─────────────────────────────────────────── + \\delta_L__{++}⋅\\phi⁻₁⎟⎟     \n",
       " ⎝                       2                                             ⎠⎟     \n",
       "────────────────────────────────────────────────────────────────────────⎟   √2\n",
       "                  2                                                     ⎠     \n",
       "───────────────────────────────────────────────────────────────────────── + ──\n",
       "                                                                              \n",
       "                                                                              \n",
       "\n",
       "             ⎛                                                                \n",
       "             ⎜                                                                \n",
       "             ⎜       ⎛  √2⋅\\delta_L__+⋅\\phi⁺₂   √2⋅\\delta_L__{++}⋅(ⅈ⋅\\phi_1__{\n",
       "⋅\\delta_R__-⋅⎜\\phi⁻₂⋅⎜- ───────────────────── + ──────────────────────────────\n",
       "             ⎝       ⎝            2                                     2     \n",
       "──────────────────────────────────────────────────────────────────────────────\n",
       "                                                                              \n",
       "                                                                              \n",
       "\n",
       "                                                          ⎛\\delta_L__+⋅(ⅈ⋅\\phi\n",
       "                       √2⋅(ⅈ⋅\\phi_1__{0i} + \\phi_1__{0r})⋅⎜───────────────────\n",
       "0i} + \\phi_1__{0r})⎞                                      ⎝                   \n",
       "───────────────────⎟ + ───────────────────────────────────────────────────────\n",
       "                   ⎠                                                          \n",
       "──────────────────────────────────────────────────────────────────────────────\n",
       "                                   2                                          \n",
       "                                                                              \n",
       "\n",
       "_1__{0i} + \\phi_1__{0r})   √2⋅\\phi⁺₂⋅(ⅈ⋅\\delta_L__{0i} + \\delta_L__{0r})⎞⎞    \n",
       "──────────────────────── + ─────────────────────────────────────────────⎟⎟    \n",
       "  2                                              2                      ⎠⎟    \n",
       "─────────────────────────────────────────────────────────────────────────⎟    \n",
       "        2                                                                ⎠    \n",
       "────────────────────────────────────────────────────────────────────────── + \\\n",
       "                                                                              \n",
       "                                                                              \n",
       "\n",
       "                                                                              \n",
       "                                                                              \n",
       "              ⎛                                                               \n",
       "              ⎜                                                               \n",
       "              ⎜       ⎛\\delta_L__+⋅(ⅈ⋅\\phi_1__{0i} + \\phi_1__{0r})   √2⋅\\phi⁺₂\n",
       "delta_R__{--}⋅⎜\\phi⁺₁⋅⎜─────────────────────────────────────────── + ─────────\n",
       "              ⎝       ⎝                     2                                 \n",
       "                                                                              \n",
       "\n",
       "                                                                              \n",
       "                                                                              \n",
       "                                                                           ⎛  \n",
       "                                        √2⋅(ⅈ⋅\\phi_2__{0i} + \\phi_2__{0r})⋅⎜- \n",
       "⋅(ⅈ⋅\\delta_L__{0i} + \\delta_L__{0r})⎞                                      ⎝  \n",
       "────────────────────────────────────⎟ + ──────────────────────────────────────\n",
       "             2                      ⎠                                         \n",
       "                                                                              \n",
       "\n",
       "                                                                              \n",
       "                                                                              \n",
       "√2⋅\\delta_L__+⋅\\phi⁺₂   √2⋅\\delta_L__{++}⋅(ⅈ⋅\\phi_1__{0i} + \\phi_1__{0r})⎞⎞   \n",
       "───────────────────── + ─────────────────────────────────────────────────⎟⎟   \n",
       "          2                                     2                        ⎠⎟   \n",
       "──────────────────────────────────────────────────────────────────────────⎟ + \n",
       "                 2                                                        ⎠   \n",
       "                                                                              \n",
       "\n",
       "                                       ⎛                                      \n",
       "                                       ⎜                                      \n",
       "                                       ⎜       ⎛  \\delta_R__+⋅(ⅈ⋅\\phi_2__{0i} \n",
       "√2⋅(ⅈ⋅\\delta_L__{0i} + \\delta_L__{0r})⋅⎜\\phi⁻₁⋅⎜- ────────────────────────────\n",
       "                                       ⎝       ⎝                       2      \n",
       "──────────────────────────────────────────────────────────────────────────────\n",
       "                                                                              \n",
       "                                                                              \n",
       "\n",
       "                                                                              \n",
       "                                           √2⋅(ⅈ⋅\\phi_1__{0i} + \\phi_1__{0r})⋅\n",
       "+ \\phi_2__{0r})                        ⎞                                      \n",
       "─────────────── + \\delta_R__{++}⋅\\phi⁻₂⎟ + ───────────────────────────────────\n",
       "                                       ⎠                                      \n",
       "──────────────────────────────────────────────────────────────────────────────\n",
       "                                              2                               \n",
       "                                                                              \n",
       "\n",
       "⎛√2⋅\\delta_R__+⋅\\phi⁻₂   (ⅈ⋅\\delta_R__{0i} + \\delta_R__{0r})⋅(ⅈ⋅\\phi_2__{0i} +\n",
       "⎜───────────────────── + ─────────────────────────────────────────────────────\n",
       "⎝          2                                              2                   \n",
       "──────────────────────────────────────────────────────────────────────────────\n",
       "                            2                                                 \n",
       "──────────────────────────────────────────────────────────────────────────────\n",
       "                                                                              \n",
       "                                                                              \n",
       "\n",
       " \\phi_2__{0r})⎞⎞                                          ⎛                   \n",
       "──────────────⎟⎟                                          ⎜                   \n",
       "              ⎠⎟                                          ⎜       ⎛  \\delta_L_\n",
       "───────────────⎟   √2⋅(ⅈ⋅\\delta_R__{0i} + \\delta_R__{0r})⋅⎜\\phi⁻₂⋅⎜- ─────────\n",
       "               ⎠                                          ⎝       ⎝           \n",
       "──────────────── + ───────────────────────────────────────────────────────────\n",
       "                                                                              \n",
       "                                                                              \n",
       "\n",
       "                                                                              \n",
       "                                                              √2⋅(ⅈ⋅\\phi_1__{0\n",
       "_+⋅(ⅈ⋅\\phi_2__{0i} + \\phi_2__{0r})                        ⎞                   \n",
       "────────────────────────────────── + \\delta_L__{++}⋅\\phi⁻₁⎟ + ────────────────\n",
       "            2                                             ⎠                   \n",
       "──────────────────────────────────────────────────────────────────────────────\n",
       "                                                                 2            \n",
       "                                                                              \n",
       "\n",
       "                   ⎛√2⋅\\delta_L__+⋅\\phi⁻₁   (ⅈ⋅\\delta_L__{0i} + \\delta_L__{0r}\n",
       "i} + \\phi_1__{0r})⋅⎜───────────────────── + ──────────────────────────────────\n",
       "                   ⎝          2                                              2\n",
       "──────────────────────────────────────────────────────────────────────────────\n",
       "                                               2                              \n",
       "──────────────────────────────────────────────────────────────────────────────\n",
       "                                                                              \n",
       "                                                                              \n",
       "\n",
       ")⋅(ⅈ⋅\\phi_2__{0i} + \\phi_2__{0r})⎞⎞⎞      ⎛                 ⎛                 \n",
       "─────────────────────────────────⎟⎟⎟      ⎜                 ⎜                 \n",
       "                                 ⎠⎟⎟      ⎜                 ⎜         ⎛√2⋅\\del\n",
       "──────────────────────────────────⎟⎟      ⎜  √2⋅\\delta_L__-⋅⎜- \\phi⁻₁⋅⎜───────\n",
       "                                  ⎠⎟      ⎜                 ⎝         ⎝       \n",
       "───────────────────────────────────⎟ + β₃⋅⎜- ─────────────────────────────────\n",
       "                                   ⎠      ⎝                                   \n",
       "                                                                              \n",
       "\n",
       "                                                                              \n",
       "                                                                              \n",
       "ta_R__+⋅\\phi⁻₂   (ⅈ⋅\\delta_R__{0i} + \\delta_R__{0r})⋅(ⅈ⋅\\phi_2__{0i} + \\phi_2_\n",
       "────────────── + ─────────────────────────────────────────────────────────────\n",
       "   2                                              2                           \n",
       "──────────────────────────────────────────────────────────────────────────────\n",
       "                                                                              \n",
       "                                                                              \n",
       "\n",
       "                                             ⎛  \\delta_R__+⋅(ⅈ⋅\\phi_2__{0i} + \n",
       "          √2⋅(ⅈ⋅\\phi_1__{0i} + \\phi_1__{0r})⋅⎜- ──────────────────────────────\n",
       "_{0r})⎞                                      ⎝                       2        \n",
       "──────⎟ + ────────────────────────────────────────────────────────────────────\n",
       "      ⎠                                                       2               \n",
       "──────────────────────────────────────────────────────────────────────────────\n",
       "  2                                                                           \n",
       "                                                                              \n",
       "\n",
       "\\phi_2__{0r})                        ⎞⎞                  ⎛                    \n",
       "───────────── + \\delta_R__{++}⋅\\phi⁻₂⎟⎟                  ⎜                    \n",
       "                                     ⎠⎟                  ⎜         ⎛  √2⋅\\delt\n",
       "──────────────────────────────────────⎟   √2⋅\\delta_L__-⋅⎜- \\phi⁺₂⋅⎜- ────────\n",
       "                                      ⎠                  ⎝         ⎝          \n",
       "─────────────────────────────────────── + ────────────────────────────────────\n",
       "                                                                              \n",
       "                                                                              \n",
       "\n",
       "                                                                              \n",
       "                                                                     √2⋅(ⅈ⋅\\ph\n",
       "a_R__+⋅\\phi⁺₁   √2⋅\\delta_R__{++}⋅(ⅈ⋅\\phi_1__{0i} + \\phi_1__{0r})⎞            \n",
       "───────────── + ─────────────────────────────────────────────────⎟ + ─────────\n",
       "  2                                     2                        ⎠            \n",
       "──────────────────────────────────────────────────────────────────────────────\n",
       "                                                                              \n",
       "                                                                              \n",
       "\n",
       "                          ⎛\\delta_R__+⋅(ⅈ⋅\\phi_1__{0i} + \\phi_1__{0r})   √2⋅\\p\n",
       "i_2__{0i} + \\phi_2__{0r})⋅⎜─────────────────────────────────────────── + ─────\n",
       "                          ⎝                     2                             \n",
       "──────────────────────────────────────────────────────────────────────────────\n",
       "                                                      2                       \n",
       "──────────────────────────────────────────────────────────────────────────────\n",
       "  2                                                                           \n",
       "                                                                              \n",
       "\n",
       "hi⁺₁⋅(ⅈ⋅\\delta_R__{0i} + \\delta_R__{0r})⎞⎞                                    \n",
       "────────────────────────────────────────⎟⎟                                    \n",
       "                 2                      ⎠⎟                  ⎛                 \n",
       "─────────────────────────────────────────⎟                  ⎜                 \n",
       "                                         ⎠                  ⎜         ⎛\\delta_\n",
       "────────────────────────────────────────── + \\delta_L__{--}⋅⎜- \\phi⁻₁⋅⎜───────\n",
       "                                                            ⎝         ⎝       \n",
       "                                                                              \n",
       "\n",
       "                                                                              \n",
       "                                                                              \n",
       "                                                                              \n",
       "                                                                              \n",
       "R__+⋅(ⅈ⋅\\phi_1__{0i} + \\phi_1__{0r})   √2⋅\\phi⁺₁⋅(ⅈ⋅\\delta_R__{0i} + \\delta_R_\n",
       "──────────────────────────────────── + ───────────────────────────────────────\n",
       "              2                                              2                \n",
       "                                                                              \n",
       "\n",
       "                                                                              \n",
       "                                                                              \n",
       "                                             ⎛  √2⋅\\delta_R__+⋅\\phi⁺₁   √2⋅\\de\n",
       "          √2⋅(ⅈ⋅\\phi_1__{0i} + \\phi_1__{0r})⋅⎜- ───────────────────── + ──────\n",
       "_{0r})⎞                                      ⎝            2                   \n",
       "──────⎟ + ────────────────────────────────────────────────────────────────────\n",
       "      ⎠                                                          2            \n",
       "                                                                              \n",
       "\n",
       "                                                               ⎛              \n",
       "                                                               ⎜              \n",
       "lta_R__{++}⋅(ⅈ⋅\\phi_1__{0i} + \\phi_1__{0r})⎞⎞                  ⎜         ⎛  √2\n",
       "───────────────────────────────────────────⎟⎟   √2⋅\\delta_R__-⋅⎜- \\phi⁺₁⋅⎜- ──\n",
       "                  2                        ⎠⎟                  ⎝         ⎝    \n",
       "────────────────────────────────────────────⎟ + ──────────────────────────────\n",
       "                                            ⎠                                 \n",
       "                                                                              \n",
       "\n",
       "                                                                              \n",
       "                                                                           √2⋅\n",
       "⋅\\delta_L__+⋅\\phi⁺₂   √2⋅\\delta_L__{++}⋅(ⅈ⋅\\phi_1__{0i} + \\phi_1__{0r})⎞      \n",
       "─────────────────── + ─────────────────────────────────────────────────⎟ + ───\n",
       "        2                                     2                        ⎠      \n",
       "──────────────────────────────────────────────────────────────────────────────\n",
       "                                                                              \n",
       "                                                                              \n",
       "\n",
       "                                ⎛\\delta_L__+⋅(ⅈ⋅\\phi_1__{0i} + \\phi_1__{0r})  \n",
       "(ⅈ⋅\\phi_2__{0i} + \\phi_2__{0r})⋅⎜─────────────────────────────────────────── +\n",
       "                                ⎝                     2                       \n",
       "──────────────────────────────────────────────────────────────────────────────\n",
       "                                                            2                 \n",
       "──────────────────────────────────────────────────────────────────────────────\n",
       "        2                                                                     \n",
       "                                                                              \n",
       "\n",
       " √2⋅\\phi⁺₂⋅(ⅈ⋅\\delta_L__{0i} + \\delta_L__{0r})⎞⎞                  ⎛           \n",
       " ─────────────────────────────────────────────⎟⎟                  ⎜           \n",
       "                       2                      ⎠⎟                  ⎜         ⎛√\n",
       "───────────────────────────────────────────────⎟   √2⋅\\delta_R__-⋅⎜- \\phi⁻₂⋅⎜─\n",
       "                                               ⎠                  ⎝         ⎝ \n",
       "──────────────────────────────────────────────── - ───────────────────────────\n",
       "                                                                              \n",
       "                                                                              \n",
       "\n",
       "                                                                              \n",
       "                                                                              \n",
       "2⋅\\delta_L__+⋅\\phi⁻₁   (ⅈ⋅\\delta_L__{0i} + \\delta_L__{0r})⋅(ⅈ⋅\\phi_2__{0i} + \\\n",
       "──────────────────── + ───────────────────────────────────────────────────────\n",
       "         2                                              2                     \n",
       "──────────────────────────────────────────────────────────────────────────────\n",
       "                                                                              \n",
       "                                                                              \n",
       "\n",
       "                                                   ⎛  \\delta_L__+⋅(ⅈ⋅\\phi_2__{\n",
       "                √2⋅(ⅈ⋅\\phi_1__{0i} + \\phi_1__{0r})⋅⎜- ────────────────────────\n",
       "phi_2__{0r})⎞                                      ⎝                       2  \n",
       "────────────⎟ + ──────────────────────────────────────────────────────────────\n",
       "            ⎠                                                       2         \n",
       "──────────────────────────────────────────────────────────────────────────────\n",
       "        2                                                                     \n",
       "                                                                              \n",
       "\n",
       "0i} + \\phi_2__{0r})                        ⎞⎞                                 \n",
       "─────────────────── + \\delta_L__{++}⋅\\phi⁻₁⎟⎟                                 \n",
       "                                           ⎠⎟                  ⎛              \n",
       "────────────────────────────────────────────⎟                  ⎜              \n",
       "                                            ⎠                  ⎜         ⎛\\del\n",
       "───────────────────────────────────────────── + \\delta_R__{--}⋅⎜- \\phi⁻₂⋅⎜────\n",
       "                                                               ⎝         ⎝    \n",
       "                                                                              \n",
       "\n",
       "                                                                              \n",
       "                                                                              \n",
       "                                                                              \n",
       "                                                                              \n",
       "ta_L__+⋅(ⅈ⋅\\phi_1__{0i} + \\phi_1__{0r})   √2⋅\\phi⁺₂⋅(ⅈ⋅\\delta_L__{0i} + \\delta\n",
       "─────────────────────────────────────── + ────────────────────────────────────\n",
       "                 2                                              2             \n",
       "                                                                              \n",
       "\n",
       "                                                                              \n",
       "                                                                              \n",
       "                                                ⎛  √2⋅\\delta_L__+⋅\\phi⁺₂   √2⋅\n",
       "             √2⋅(ⅈ⋅\\phi_1__{0i} + \\phi_1__{0r})⋅⎜- ───────────────────── + ───\n",
       "_L__{0r})⎞                                      ⎝            2                \n",
       "─────────⎟ + ─────────────────────────────────────────────────────────────────\n",
       "         ⎠                                                          2         \n",
       "                                                                              \n",
       "\n",
       "                                                                              \n",
       "                                                                              \n",
       "\\delta_L__{++}⋅(ⅈ⋅\\phi_1__{0i} + \\phi_1__{0r})⎞⎞                              \n",
       "──────────────────────────────────────────────⎟⎟   √2⋅(ⅈ⋅\\delta_L__{0i} + \\del\n",
       "                     2                        ⎠⎟                              \n",
       "───────────────────────────────────────────────⎟ + ───────────────────────────\n",
       "                                               ⎠                              \n",
       "                                                                              \n",
       "\n",
       "            ⎛                                                                 \n",
       "            ⎜                                                                 \n",
       "            ⎜         ⎛  \\delta_R__+⋅(ⅈ⋅\\phi_2__{0i} + \\phi_2__{0r})          \n",
       "ta_L__{0r})⋅⎜- \\phi⁺₂⋅⎜- ─────────────────────────────────────────── + \\delta_\n",
       "            ⎝         ⎝                       2                               \n",
       "──────────────────────────────────────────────────────────────────────────────\n",
       "                                                                              \n",
       "                                                                              \n",
       "\n",
       "                                                     ⎛√2⋅\\delta_R__+⋅\\phi⁻₂   \n",
       "                  √2⋅(ⅈ⋅\\phi_2__{0i} + \\phi_2__{0r})⋅⎜───────────────────── + \n",
       "              ⎞                                      ⎝          2             \n",
       "R__{++}⋅\\phi⁻₂⎟ + ────────────────────────────────────────────────────────────\n",
       "              ⎠                                                               \n",
       "──────────────────────────────────────────────────────────────────────────────\n",
       "                    2                                                         \n",
       "                                                                              \n",
       "\n",
       "(ⅈ⋅\\delta_R__{0i} + \\delta_R__{0r})⋅(ⅈ⋅\\phi_2__{0i} + \\phi_2__{0r})⎞⎞         \n",
       "───────────────────────────────────────────────────────────────────⎟⎟         \n",
       "                                 2                                 ⎠⎟         \n",
       "────────────────────────────────────────────────────────────────────⎟   √2⋅(ⅈ⋅\n",
       "   2                                                                ⎠         \n",
       "───────────────────────────────────────────────────────────────────── + ──────\n",
       "                                                                              \n",
       "                                                                              \n",
       "\n",
       "                                 ⎛                                            \n",
       "                                 ⎜                                            \n",
       "                                 ⎜         ⎛  \\delta_L__+⋅(ⅈ⋅\\phi_2__{0i} + \\p\n",
       "\\delta_R__{0i} + \\delta_R__{0r})⋅⎜- \\phi⁺₁⋅⎜- ────────────────────────────────\n",
       "                                 ⎝         ⎝                       2          \n",
       "──────────────────────────────────────────────────────────────────────────────\n",
       "                                                                              \n",
       "                                                                              \n",
       "\n",
       "                                                                          ⎛√2⋅\n",
       "                                       √2⋅(ⅈ⋅\\phi_2__{0i} + \\phi_2__{0r})⋅⎜───\n",
       "hi_2__{0r})                        ⎞                                      ⎝   \n",
       "─────────── + \\delta_L__{++}⋅\\phi⁻₁⎟ + ───────────────────────────────────────\n",
       "                                   ⎠                                          \n",
       "──────────────────────────────────────────────────────────────────────────────\n",
       "                                         2                                    \n",
       "                                                                              \n",
       "\n",
       "\\delta_L__+⋅\\phi⁻₁   (ⅈ⋅\\delta_L__{0i} + \\delta_L__{0r})⋅(ⅈ⋅\\phi_2__{0i} + \\ph\n",
       "────────────────── + ─────────────────────────────────────────────────────────\n",
       "       2                                              2                       \n",
       "──────────────────────────────────────────────────────────────────────────────\n",
       "                        2                                                     \n",
       "──────────────────────────────────────────────────────────────────────────────\n",
       "                                                                              \n",
       "                                                                              \n",
       "\n",
       "i_2__{0r})⎞⎞⎞                                                                 \n",
       "──────────⎟⎟⎟                                                                 \n",
       "          ⎠⎟⎟                                                                 \n",
       "───────────⎟⎟                                                                 \n",
       "           ⎠⎟                                                                 \n",
       "────────────⎟ - (-2⋅\\phi⁺₁⋅\\phi⁺₂ - 2⋅\\phi⁻₁⋅\\phi⁻₂ + 2⋅(ⅈ⋅\\phi_1__{0i} + \\phi\n",
       "            ⎠                                                                 \n",
       "                                                                              \n",
       "\n",
       "                                           ⎛                                  \n",
       "                                           ⎜                                  \n",
       "                                           ⎜                                  \n",
       "                                           ⎜                  2    2          \n",
       "                                           ⎜     2⋅\\alpha₂⋅v_L ⋅sin (\\beta)   \n",
       "_1__{0r})⋅(ⅈ⋅\\phi_2__{0i} + \\phi_2__{0r}))⋅⎜- ─────────────────────────────── \n",
       "                                           ⎜         2               2        \n",
       "                                           ⎝  - 4⋅sin (\\beta) + 4⋅cos (\\beta) \n",
       "\n",
       "                                                                              \n",
       "                                                                              \n",
       "                                                                              \n",
       "                  2    2                            2    2                    \n",
       "     2⋅\\alpha₂⋅v_L ⋅cos (\\beta)        2⋅\\alpha₂⋅v_R ⋅sin (\\beta)        2⋅\\al\n",
       "+ ─────────────────────────────── - ─────────────────────────────── + ────────\n",
       "         2               2                 2               2                 2\n",
       "  - 4⋅sin (\\beta) + 4⋅cos (\\beta)   - 4⋅sin (\\beta) + 4⋅cos (\\beta)   - 4⋅sin \n",
       "\n",
       "                                                                              \n",
       "                                                                              \n",
       "                                                                              \n",
       "        2    2                       2                                    2   \n",
       "pha₂⋅v_R ⋅cos (\\beta)     \\alpha₃⋅v_L ⋅sin(\\beta)⋅cos(\\beta)   \\alpha₃⋅v_R ⋅si\n",
       "─────────────────────── + ────────────────────────────────── + ───────────────\n",
       "               2                  2               2                    2      \n",
       "(\\beta) + 4⋅cos (\\beta)    - 4⋅sin (\\beta) + 4⋅cos (\\beta)      - 4⋅sin (\\beta\n",
       "\n",
       "                                                                              \n",
       "                                                                              \n",
       "                                                                              \n",
       "                                  2    3                                 2    \n",
       "n(\\beta)⋅cos(\\beta)   8⋅\\lambda₂⋅v ⋅sin (\\beta)⋅cos(\\beta)   8⋅\\lambda₂⋅v ⋅sin\n",
       "─────────────────── - ──────────────────────────────────── + ─────────────────\n",
       "         2                     2               2                      2       \n",
       ") + 4⋅cos (\\beta)       - 4⋅sin (\\beta) + 4⋅cos (\\beta)        - 4⋅sin (\\beta)\n",
       "\n",
       "                                                                              \n",
       "                                                                              \n",
       "                                                                              \n",
       "           3                      2    3                                 2    \n",
       "(\\beta)⋅cos (\\beta)   4⋅\\lambda₃⋅v ⋅sin (\\beta)⋅cos(\\beta)   4⋅\\lambda₃⋅v ⋅sin\n",
       "─────────────────── - ──────────────────────────────────── + ─────────────────\n",
       "        2                      2               2                      2       \n",
       " + 4⋅cos (\\beta)        - 4⋅sin (\\beta) + 4⋅cos (\\beta)        - 4⋅sin (\\beta)\n",
       "\n",
       "                                                                              \n",
       "                                                                              \n",
       "                                                                              \n",
       "           3                         2    2                            2    2 \n",
       "(\\beta)⋅cos (\\beta)      2⋅\\lambda₄⋅v ⋅sin (\\beta)         2⋅\\lambda₄⋅v ⋅cos (\n",
       "─────────────────── - ─────────────────────────────── + ──────────────────────\n",
       "        2                    2               2                 2              \n",
       " + 4⋅cos (\\beta)      - 4⋅sin (\\beta) + 4⋅cos (\\beta)   - 4⋅sin (\\beta) + 4⋅co\n",
       "\n",
       "                                                                              \n",
       "                                                                              \n",
       "                                                                              \n",
       "                               2                                 2            \n",
       "\\beta)           β₁⋅v_L⋅v_R⋅sin (\\beta)            β₁⋅v_L⋅v_R⋅cos (\\beta)     \n",
       "───────── - ─────────────────────────────── + ─────────────────────────────── \n",
       " 2                 2               2                 2               2        \n",
       "s (\\beta)   - 4⋅sin (\\beta) + 4⋅cos (\\beta)   - 4⋅sin (\\beta) + 4⋅cos (\\beta) \n",
       "\n",
       "                                                 ⎛                            \n",
       "                                                 ⎜√2⋅\\rho₁⋅v_L⋅v_R   √2⋅\\rho₃⋅\n",
       "                                       2⋅v_L⋅v_R⋅⎜──────────────── - ─────────\n",
       "                                                 ⎜   2    2             2    2\n",
       "  2⋅β₃⋅v_L⋅v_R⋅sin(\\beta)⋅cos(\\beta)             ⎝2⋅v ⋅cos (\\beta)   2⋅v ⋅cos \n",
       "+ ────────────────────────────────── - ───────────────────────────────────────\n",
       "          2               2                                                   \n",
       "   - 4⋅sin (\\beta) + 4⋅cos (\\beta)                                        - 4⋅\n",
       "\n",
       "                                2       ⎞                      ⎞              \n",
       "v_L⋅v_R   β₁⋅sin(\\beta)   β₃⋅sin (\\beta)⎟                      ⎟              \n",
       "─────── - ───────────── - ──────────────⎟⋅sin(\\beta)⋅cos(\\beta)⎟              \n",
       "            cos(\\beta)        2         ⎟                      ⎟   ⎛          \n",
       "(\\beta)                    cos (\\beta)  ⎠                      ⎟   ⎜          \n",
       "───────────────────────────────────────────────────────────────⎟ - ⎜\\phi⁺₁⋅\\ph\n",
       "   2               2                                           ⎟   ⎝          \n",
       "sin (\\beta) + 4⋅cos (\\beta)                                    ⎠              \n",
       "\n",
       "                                                                              \n",
       "                                                                              \n",
       "                                                                              \n",
       "                                                     2                        \n",
       "                      (ⅈ⋅\\phi_1__{0i} + \\phi_1__{0r})    (ⅈ⋅\\phi_2__{0i} + \\ph\n",
       "i⁻₁ + \\phi⁺₂⋅\\phi⁻₂ + ──────────────────────────────── + ─────────────────────\n",
       "                                     2                                  2     \n",
       "                                                                              \n",
       "\n",
       "             ⎛                                                                \n",
       "             ⎜                                                                \n",
       "             ⎜                                                                \n",
       "          2⎞ ⎜                 2    2                            2    2       \n",
       "i_2__{0r}) ⎟ ⎜      \\alpha₁⋅v_L ⋅sin (\\beta)          \\alpha₁⋅v_L ⋅cos (\\beta)\n",
       "───────────⎟⋅⎜- ─────────────────────────────── + ────────────────────────────\n",
       "           ⎠ ⎜         2               2                 2               2    \n",
       "             ⎝  - 2⋅sin (\\beta) + 2⋅cos (\\beta)   - 2⋅sin (\\beta) + 2⋅cos (\\be\n",
       "\n",
       "                                                                              \n",
       "                                                                              \n",
       "                                                                              \n",
       "                     2    2                            2    2                 \n",
       "          \\alpha₁⋅v_R ⋅sin (\\beta)          \\alpha₁⋅v_R ⋅cos (\\beta)          \n",
       "─── - ─────────────────────────────── + ─────────────────────────────── - ────\n",
       "             2               2                 2               2              \n",
       "ta)   - 2⋅sin (\\beta) + 2⋅cos (\\beta)   - 2⋅sin (\\beta) + 2⋅cos (\\beta)   - 2⋅\n",
       "\n",
       "                                                                              \n",
       "                                                                              \n",
       "                                                                              \n",
       "           2    2                            2    2                           \n",
       "\\alpha₃⋅v_L ⋅sin (\\beta)          \\alpha₃⋅v_R ⋅sin (\\beta)         2⋅\\lambda₁⋅\n",
       "─────────────────────────── - ─────────────────────────────── - ──────────────\n",
       "   2               2                 2               2                 2      \n",
       "sin (\\beta) + 2⋅cos (\\beta)   - 2⋅sin (\\beta) + 2⋅cos (\\beta)   - 2⋅sin (\\beta\n",
       "\n",
       "                                                                              \n",
       "                                                                              \n",
       "                                                                              \n",
       " 2    2                            2    2                         2    3      \n",
       "v ⋅sin (\\beta)         2⋅\\lambda₁⋅v ⋅cos (\\beta)      4⋅\\lambda₄⋅v ⋅sin (\\beta\n",
       "───────────────── + ─────────────────────────────── - ────────────────────────\n",
       "         2                 2               2                   2              \n",
       ") + 2⋅cos (\\beta)   - 2⋅sin (\\beta) + 2⋅cos (\\beta)     - 2⋅sin (\\beta) + 2⋅co\n",
       "\n",
       "                                                                              \n",
       "                                                                              \n",
       "                                                                              \n",
       "                           2               3                              2   \n",
       ")⋅cos(\\beta)   4⋅\\lambda₄⋅v ⋅sin(\\beta)⋅cos (\\beta)       2⋅β₃⋅v_L⋅v_R⋅sin (\\b\n",
       "──────────── + ──────────────────────────────────── - ────────────────────────\n",
       " 2                      2               2                    2               2\n",
       "s (\\beta)        - 2⋅sin (\\beta) + 2⋅cos (\\beta)      - 2⋅sin (\\beta) + 2⋅cos \n",
       "\n",
       "                    ⎛                                                         \n",
       "                    ⎜√2⋅\\rho₁⋅v_L⋅v_R   √2⋅\\rho₃⋅v_L⋅v_R   β₁⋅sin(\\beta)   β₃⋅\n",
       "          2⋅v_L⋅v_R⋅⎜──────────────── - ──────────────── - ───────────── - ───\n",
       "                    ⎜   2    2             2    2            cos(\\beta)       \n",
       "eta)                ⎝2⋅v ⋅cos (\\beta)   2⋅v ⋅cos (\\beta)                    co\n",
       "─────── + ────────────────────────────────────────────────────────────────────\n",
       "                                               2               2              \n",
       "(\\beta)                                 - 2⋅sin (\\beta) + 2⋅cos (\\beta)       \n",
       "\n",
       "   2       ⎞            ⎞                                                     \n",
       "sin (\\beta)⎟    2       ⎟                                                     \n",
       "───────────⎟⋅cos (\\beta)⎟                                                     \n",
       " 2         ⎟            ⎟   ⎛                                                 \n",
       "s (\\beta)  ⎠            ⎟   ⎜√2⋅\\rho₁⋅v_L⋅v_R   √2⋅\\rho₃⋅v_L⋅v_R   β₁⋅sin(\\bet\n",
       "────────────────────────⎟ + ⎜──────────────── - ──────────────── - ───────────\n",
       "                        ⎟   ⎜   2    2             2    2            cos(\\beta\n",
       "                        ⎠   ⎝2⋅v ⋅cos (\\beta)   2⋅v ⋅cos (\\beta)              \n",
       "\n",
       "                     ⎛               ⎛                                        \n",
       "                     ⎜               ⎜                                        \n",
       "                     ⎜               ⎜       ⎛√2⋅\\delta_R__+⋅\\phi⁻₂   √2⋅\\delt\n",
       "           2       ⎞ ⎜√2⋅\\delta_L__-⋅⎜\\phi⁻₁⋅⎜───────────────────── + ────────\n",
       "a)   β₃⋅sin (\\beta)⎟ ⎜               ⎝       ⎝          2                     \n",
       "── - ──────────────⎟⋅⎜────────────────────────────────────────────────────────\n",
       ")        2         ⎟ ⎝                                                        \n",
       "      cos (\\beta)  ⎠                                                          \n",
       "\n",
       "                                                                              \n",
       "                                             √2⋅(ⅈ⋅\\phi_1__{0i} + \\phi_1__{0r}\n",
       "a_R__{++}⋅(ⅈ⋅\\phi_2__{0i} + \\phi_2__{0r})⎞                                    \n",
       "─────────────────────────────────────────⎟ + ─────────────────────────────────\n",
       "                2                        ⎠                                    \n",
       "──────────────────────────────────────────────────────────────────────────────\n",
       "                                                          2                   \n",
       "                                                                              \n",
       "\n",
       "  ⎛\\delta_R__+⋅(ⅈ⋅\\phi_2__{0i} + \\phi_2__{0r})   √2⋅\\phi⁻₂⋅(ⅈ⋅\\delta_R__{0i} +\n",
       ")⋅⎜─────────────────────────────────────────── - ─────────────────────────────\n",
       "  ⎝                     2                                              2      \n",
       "──────────────────────────────────────────────────────────────────────────────\n",
       "                              2                                               \n",
       "──────────────────────────────────────────────────────────────────────────────\n",
       "                                                                              \n",
       "                                                                              \n",
       "\n",
       " \\delta_R__{0r})⎞⎞                  ⎛                                         \n",
       "────────────────⎟⎟                  ⎜                                         \n",
       "                ⎠⎟                  ⎜       ⎛  √2⋅\\delta_R__+⋅\\phi⁺₁   (ⅈ⋅\\del\n",
       "─────────────────⎟   √2⋅\\delta_L__-⋅⎜\\phi⁺₂⋅⎜- ───────────────────── + ───────\n",
       "                 ⎠                  ⎝       ⎝            2                    \n",
       "────────────────── - ─────────────────────────────────────────────────────────\n",
       "                                                                              \n",
       "                                                                              \n",
       "\n",
       "                                                                              \n",
       "                                                                √2⋅(ⅈ⋅\\phi_2__\n",
       "ta_R__{0i} + \\delta_R__{0r})⋅(ⅈ⋅\\phi_1__{0i} + \\phi_1__{0r})⎞                 \n",
       "────────────────────────────────────────────────────────────⎟ + ──────────────\n",
       "                          2                                 ⎠                 \n",
       "──────────────────────────────────────────────────────────────────────────────\n",
       "                                                        2                     \n",
       "                                                                              \n",
       "\n",
       "                     ⎛  \\delta_R__+⋅(ⅈ⋅\\phi_1__{0i} + \\phi_1__{0r})           \n",
       "{0i} + \\phi_2__{0r})⋅⎜- ─────────────────────────────────────────── - \\delta_R\n",
       "                     ⎝                       2                                \n",
       "──────────────────────────────────────────────────────────────────────────────\n",
       "                                      2                                       \n",
       "──────────────────────────────────────────────────────────────────────────────\n",
       "                                                                              \n",
       "                                                                              \n",
       "\n",
       "             ⎞⎞                                                               \n",
       "__{++}⋅\\phi⁺₁⎟⎟                                                               \n",
       "             ⎠⎟                  ⎛                                            \n",
       "──────────────⎟                  ⎜                                            \n",
       "              ⎠                  ⎜       ⎛\\delta_R__+⋅(ⅈ⋅\\phi_2__{0i} + \\phi_2\n",
       "─────────────── + \\delta_L__{--}⋅⎜\\phi⁺₂⋅⎜────────────────────────────────────\n",
       "                                 ⎝       ⎝                     2              \n",
       "                                                                              \n",
       "\n",
       "                                                                              \n",
       "                                                                              \n",
       "                                                                              \n",
       "                                                           √2⋅(ⅈ⋅\\phi_2__{0i} \n",
       "__{0r})   √2⋅\\phi⁻₂⋅(ⅈ⋅\\delta_R__{0i} + \\delta_R__{0r})⎞                      \n",
       "─────── - ─────────────────────────────────────────────⎟ + ───────────────────\n",
       "                                2                      ⎠                      \n",
       "                                                                              \n",
       "\n",
       "                                                                              \n",
       "                                                                              \n",
       "                ⎛√2⋅\\delta_R__+⋅\\phi⁻₂   √2⋅\\delta_R__{++}⋅(ⅈ⋅\\phi_2__{0i} + \\\n",
       "+ \\phi_2__{0r})⋅⎜───────────────────── + ─────────────────────────────────────\n",
       "                ⎝          2                                     2            \n",
       "──────────────────────────────────────────────────────────────────────────────\n",
       "                                   2                                          \n",
       "                                                                              \n",
       "\n",
       "                                ⎛                                             \n",
       "                                ⎜                                             \n",
       "phi_2__{0r})⎞⎞                  ⎜       ⎛  √2⋅\\delta_L__+⋅\\phi⁺₂   (ⅈ⋅\\delta_L\n",
       "────────────⎟⎟   √2⋅\\delta_R__-⋅⎜\\phi⁺₁⋅⎜- ───────────────────── + ───────────\n",
       "            ⎠⎟                  ⎝       ⎝            2                        \n",
       "─────────────⎟ - ─────────────────────────────────────────────────────────────\n",
       "             ⎠                                                                \n",
       "                                                                              \n",
       "\n",
       "                                                                              \n",
       "                                                            √2⋅(ⅈ⋅\\phi_2__{0i}\n",
       "__{0i} + \\delta_L__{0r})⋅(ⅈ⋅\\phi_1__{0i} + \\phi_1__{0r})⎞                     \n",
       "────────────────────────────────────────────────────────⎟ + ──────────────────\n",
       "                      2                                 ⎠                     \n",
       "──────────────────────────────────────────────────────────────────────────────\n",
       "                                                    2                         \n",
       "                                                                              \n",
       "\n",
       "                 ⎛  \\delta_L__+⋅(ⅈ⋅\\phi_1__{0i} + \\phi_1__{0r})               \n",
       " + \\phi_2__{0r})⋅⎜- ─────────────────────────────────────────── - \\delta_L__{+\n",
       "                 ⎝                       2                                    \n",
       "──────────────────────────────────────────────────────────────────────────────\n",
       "                                  2                                           \n",
       "──────────────────────────────────────────────────────────────────────────────\n",
       "                                                                              \n",
       "                                                                              \n",
       "\n",
       "         ⎞⎞                  ⎛                                                \n",
       "+}⋅\\phi⁺₂⎟⎟                  ⎜                                                \n",
       "         ⎠⎟                  ⎜       ⎛√2⋅\\delta_L__+⋅\\phi⁻₁   √2⋅\\delta_L__{++\n",
       "──────────⎟   √2⋅\\delta_R__-⋅⎜\\phi⁻₂⋅⎜───────────────────── + ────────────────\n",
       "          ⎠                  ⎝       ⎝          2                             \n",
       "─────────── + ────────────────────────────────────────────────────────────────\n",
       "                                                                              \n",
       "                                                                              \n",
       "\n",
       "                                                                        ⎛\\delt\n",
       "                                     √2⋅(ⅈ⋅\\phi_1__{0i} + \\phi_1__{0r})⋅⎜─────\n",
       "}⋅(ⅈ⋅\\phi_2__{0i} + \\phi_2__{0r})⎞                                      ⎝     \n",
       "─────────────────────────────────⎟ + ─────────────────────────────────────────\n",
       "        2                        ⎠                                            \n",
       "──────────────────────────────────────────────────────────────────────────────\n",
       "                                                  2                           \n",
       "                                                                              \n",
       "\n",
       "a_L__+⋅(ⅈ⋅\\phi_2__{0i} + \\phi_2__{0r})   √2⋅\\phi⁻₁⋅(ⅈ⋅\\delta_L__{0i} + \\delta_\n",
       "────────────────────────────────────── - ─────────────────────────────────────\n",
       "                2                                              2              \n",
       "──────────────────────────────────────────────────────────────────────────────\n",
       "                      2                                                       \n",
       "──────────────────────────────────────────────────────────────────────────────\n",
       "                                                                              \n",
       "                                                                              \n",
       "\n",
       "L__{0r})⎞⎞                                                                    \n",
       "────────⎟⎟                                                                    \n",
       "        ⎠⎟                  ⎛                                                 \n",
       "─────────⎟                  ⎜                                                 \n",
       "         ⎠                  ⎜       ⎛\\delta_L__+⋅(ⅈ⋅\\phi_2__{0i} + \\phi_2__{0r\n",
       "────────── + \\delta_R__{--}⋅⎜\\phi⁺₁⋅⎜─────────────────────────────────────────\n",
       "                            ⎝       ⎝                     2                   \n",
       "                                                                              \n",
       "\n",
       "                                                                              \n",
       "                                                                              \n",
       "                                                                              \n",
       "                                                      √2⋅(ⅈ⋅\\phi_2__{0i} + \\ph\n",
       "})   √2⋅\\phi⁻₁⋅(ⅈ⋅\\delta_L__{0i} + \\delta_L__{0r})⎞                           \n",
       "── - ─────────────────────────────────────────────⎟ + ────────────────────────\n",
       "                           2                      ⎠                           \n",
       "                                                                              \n",
       "\n",
       "                                                                              \n",
       "                                                                              \n",
       "           ⎛√2⋅\\delta_L__+⋅\\phi⁻₁   √2⋅\\delta_L__{++}⋅(ⅈ⋅\\phi_2__{0i} + \\phi_2\n",
       "i_2__{0r})⋅⎜───────────────────── + ──────────────────────────────────────────\n",
       "           ⎝          2                                     2                 \n",
       "──────────────────────────────────────────────────────────────────────────────\n",
       "                              2                                               \n",
       "                                                                              \n",
       "\n",
       "                                                   ⎛                          \n",
       "                                                   ⎜                          \n",
       "__{0r})⎞⎞                                          ⎜       ⎛  \\delta_R__+⋅(ⅈ⋅\\\n",
       "───────⎟⎟   √2⋅(ⅈ⋅\\delta_L__{0i} + \\delta_L__{0r})⋅⎜\\phi⁻₁⋅⎜- ────────────────\n",
       "       ⎠⎟                                          ⎝       ⎝                  \n",
       "────────⎟ + ──────────────────────────────────────────────────────────────────\n",
       "        ⎠                                                                     \n",
       "                                                                              \n",
       "\n",
       "                                                                              \n",
       "                                                       √2⋅(ⅈ⋅\\phi_1__{0i} + \\p\n",
       "phi_1__{0i} + \\phi_1__{0r})                        ⎞                          \n",
       "─────────────────────────── - \\delta_R__{++}⋅\\phi⁺₁⎟ + ───────────────────────\n",
       "     2                                             ⎠                          \n",
       "──────────────────────────────────────────────────────────────────────────────\n",
       "                                                           2                  \n",
       "                                                                              \n",
       "\n",
       "            ⎛  √2⋅\\delta_R__+⋅\\phi⁺₁   (ⅈ⋅\\delta_R__{0i} + \\delta_R__{0r})⋅(ⅈ⋅\n",
       "hi_1__{0r})⋅⎜- ───────────────────── + ───────────────────────────────────────\n",
       "            ⎝            2                                              2     \n",
       "──────────────────────────────────────────────────────────────────────────────\n",
       "                                         2                                    \n",
       "──────────────────────────────────────────────────────────────────────────────\n",
       "                                                                              \n",
       "                                                                              \n",
       "\n",
       "\\phi_1__{0i} + \\phi_1__{0r})⎞⎞                                          ⎛     \n",
       "────────────────────────────⎟⎟                                          ⎜     \n",
       "                            ⎠⎟                                          ⎜     \n",
       "─────────────────────────────⎟   √2⋅(ⅈ⋅\\delta_R__{0i} + \\delta_R__{0r})⋅⎜\\phi⁻\n",
       "                             ⎠                                          ⎝     \n",
       "────────────────────────────── + ─────────────────────────────────────────────\n",
       "                                                                              \n",
       "                                                                              \n",
       "\n",
       "                                                                              \n",
       "                                                                            √2\n",
       "  ⎛  \\delta_L__+⋅(ⅈ⋅\\phi_1__{0i} + \\phi_1__{0r})                        ⎞     \n",
       "₂⋅⎜- ─────────────────────────────────────────── - \\delta_L__{++}⋅\\phi⁺₂⎟ + ──\n",
       "  ⎝                       2                                             ⎠     \n",
       "──────────────────────────────────────────────────────────────────────────────\n",
       "                                                                              \n",
       "                                                                              \n",
       "\n",
       "                                 ⎛  √2⋅\\delta_L__+⋅\\phi⁺₂   (ⅈ⋅\\delta_L__{0i} \n",
       "⋅(ⅈ⋅\\phi_1__{0i} + \\phi_1__{0r})⋅⎜- ───────────────────── + ──────────────────\n",
       "                                 ⎝            2                               \n",
       "──────────────────────────────────────────────────────────────────────────────\n",
       "                                                              2               \n",
       "──────────────────────────────────────────────────────────────────────────────\n",
       "  2                                                                           \n",
       "                                                                              \n",
       "\n",
       "+ \\delta_L__{0r})⋅(ⅈ⋅\\phi_1__{0i} + \\phi_1__{0r})⎞⎞⎞                          \n",
       "─────────────────────────────────────────────────⎟⎟⎟                          \n",
       "               2                                 ⎠⎟⎟                          \n",
       "──────────────────────────────────────────────────⎟⎟   ⎛                      \n",
       "                                                  ⎠⎟   ⎜                      \n",
       "───────────────────────────────────────────────────⎟ - ⎜\\delta_L__+⋅\\delta_L__\n",
       "                                                   ⎠   ⎝                      \n",
       "                                                                              \n",
       "\n",
       "                                                                              \n",
       "                                                                              \n",
       "                                                                              \n",
       "                                                                              \n",
       "                                                                              \n",
       "- + \\delta_L__{++}⋅\\delta_L__{--} + \\delta_R__+⋅\\delta_R__- + \\delta_R__{++}⋅\\\n",
       "                                                                              \n",
       "                                                                              \n",
       "\n",
       "                                                                              \n",
       "                                                                              \n",
       "                                                                              \n",
       "                                                   2                          \n",
       "                (ⅈ⋅\\delta_L__{0i} + \\delta_L__{0r})    (ⅈ⋅\\delta_R__{0i} + \\de\n",
       "delta_R__{--} + ──────────────────────────────────── + ───────────────────────\n",
       "                                 2                                      2     \n",
       "                                                                              \n",
       "\n",
       "                                                                              \n",
       "                                                                              \n",
       "                                                                              \n",
       "            2⎞                                                                \n",
       "lta_R__{0r}) ⎟ ⎛         2    2                   2    2                     2\n",
       "─────────────⎟⋅⎝\\alpha₁⋅v ⋅sin (\\beta) + \\alpha₁⋅v ⋅cos (\\beta) + 4⋅\\alpha₂⋅v \n",
       "             ⎠                                                                \n",
       "                                                                              \n",
       "\n",
       "                                                                          \n",
       "                                                                          \n",
       "                                                                          \n",
       "                                                                          \n",
       "                                  2    2                   2            2⎞\n",
       "⋅sin(\\beta)⋅cos(\\beta) + \\alpha₃⋅v ⋅sin (\\beta) + \\rho₁⋅v_L  + \\rho₁⋅v_R ⎠\n",
       "                                                                          \n",
       "                                                                          "
      ]
     },
     "execution_count": 113,
     "metadata": {},
     "output_type": "execute_result"
    }
   ],
   "source": [
    "VLRPhi_ri_tadpole = VLRPhi_ri.subs(tadpole12_sol).subs(tadpole34_sol)\n",
    "VLRPhi_ri_tadpole"
   ]
  },
  {
   "cell_type": "code",
   "execution_count": 114,
   "metadata": {},
   "outputs": [],
   "source": [
    "#Phi.subs(complex_scalar_fields)"
   ]
  },
  {
   "cell_type": "code",
   "execution_count": 115,
   "metadata": {},
   "outputs": [],
   "source": [
    "#vevPhi[phi10r] = k\n",
    "#vevPhi[phi10i] = 0\n",
    "#vevPhi[phi20r] = k1\n",
    "#vevPhi[phi20i] = 0"
   ]
  },
  {
   "cell_type": "code",
   "execution_count": 116,
   "metadata": {},
   "outputs": [],
   "source": [
    "#DeltaL.subs(complex_scalar_fields)"
   ]
  },
  {
   "cell_type": "code",
   "execution_count": 170,
   "metadata": {},
   "outputs": [],
   "source": [
    "#vevL[deltaL0r] = vL\n",
    "#vevL[deltaL0i] = 0\n",
    "#vevR[deltaR0r] = vR\n",
    "#vevR[deltaR0i] = 0"
   ]
  },
  {
   "cell_type": "code",
   "execution_count": 117,
   "metadata": {},
   "outputs": [
    {
     "data": {
      "text/latex": [
       "$\\displaystyle \\left[\\begin{matrix}\\frac{- \\alpha_{3} v^{2} v_{L}^{2} \\sin^{4}{\\left(\\beta \\right)} + \\alpha_{3} v^{2} v_{L}^{2} \\sin^{2}{\\left(\\beta \\right)} - \\alpha_{3} v^{2} v_{R}^{2} \\sin^{4}{\\left(\\beta \\right)} + \\alpha_{3} v^{2} v_{R}^{2} \\sin^{2}{\\left(\\beta \\right)} - 2 \\lambda_{1} v^{4} \\sin^{6}{\\left(\\beta \\right)} + 2 \\lambda_{1} v^{4} \\sin^{4}{\\left(\\beta \\right)} + 2 \\lambda_{1} v^{4} \\sin^{2}{\\left(\\beta \\right)} + 6 \\lambda_{1} v^{4} \\cos^{6}{\\left(\\beta \\right)} - 2 \\lambda_{1} v^{4} + 16 \\lambda_{2} v^{4} \\sin^{6}{\\left(\\beta \\right)} - 24 \\lambda_{2} v^{4} \\sin^{4}{\\left(\\beta \\right)} + 8 \\lambda_{2} v^{4} \\sin^{2}{\\left(\\beta \\right)} + 8 \\lambda_{3} v^{4} \\sin^{6}{\\left(\\beta \\right)} - 12 \\lambda_{3} v^{4} \\sin^{4}{\\left(\\beta \\right)} + 4 \\lambda_{3} v^{4} \\sin^{2}{\\left(\\beta \\right)} + 8 \\lambda_{4} v^{4} \\sin^{5}{\\left(\\beta \\right)} \\cos{\\left(\\beta \\right)} - 8 \\lambda_{4} v^{4} \\sin^{3}{\\left(\\beta \\right)} \\cos{\\left(\\beta \\right)} + 8 \\lambda_{4} v^{4} \\sin{\\left(\\beta \\right)} \\cos^{5}{\\left(\\beta \\right)} - \\sqrt{2} \\rho_{1} v_{L}^{2} v_{R}^{2} \\sin^{2}{\\left(\\beta \\right)} + \\sqrt{2} \\rho_{3} v_{L}^{2} v_{R}^{2} \\sin^{2}{\\left(\\beta \\right)} + 2 \\beta_{1} v^{2} v_{L} v_{R} \\sin^{3}{\\left(\\beta \\right)} \\cos{\\left(\\beta \\right)} + 2 \\beta_{3} v^{2} v_{L} v_{R} \\sin^{2}{\\left(\\beta \\right)}}{4 v^{2} \\cos^{2}{\\left(\\beta \\right)} \\cos{\\left(2 \\beta \\right)}} & \\frac{\\alpha_{3} v^{2} v_{L}^{2} \\sin^{3}{\\left(\\beta \\right)} - \\alpha_{3} v^{2} v_{L}^{2} \\sin{\\left(\\beta \\right)} + \\alpha_{3} v^{2} v_{R}^{2} \\sin^{3}{\\left(\\beta \\right)} - \\alpha_{3} v^{2} v_{R}^{2} \\sin{\\left(\\beta \\right)} + 8 \\lambda_{1} v^{4} \\sin^{5}{\\left(\\beta \\right)} - 12 \\lambda_{1} v^{4} \\sin^{3}{\\left(\\beta \\right)} + 4 \\lambda_{1} v^{4} \\sin{\\left(\\beta \\right)} + 16 \\lambda_{2} v^{4} \\sin^{5}{\\left(\\beta \\right)} - 24 \\lambda_{2} v^{4} \\sin^{3}{\\left(\\beta \\right)} + 8 \\lambda_{2} v^{4} \\sin{\\left(\\beta \\right)} + 8 \\lambda_{3} v^{4} \\sin^{5}{\\left(\\beta \\right)} - 12 \\lambda_{3} v^{4} \\sin^{3}{\\left(\\beta \\right)} + 4 \\lambda_{3} v^{4} \\sin{\\left(\\beta \\right)} - 6 \\lambda_{4} v^{4} \\sin^{4}{\\left(\\beta \\right)} \\cos{\\left(\\beta \\right)} + 4 \\lambda_{4} v^{4} \\sin^{2}{\\left(\\beta \\right)} \\cos{\\left(\\beta \\right)} + 6 \\lambda_{4} v^{4} \\cos^{5}{\\left(\\beta \\right)} - 2 \\lambda_{4} v^{4} \\cos{\\left(\\beta \\right)} + \\sqrt{2} \\rho_{1} v_{L}^{2} v_{R}^{2} \\sin{\\left(\\beta \\right)} - \\sqrt{2} \\rho_{3} v_{L}^{2} v_{R}^{2} \\sin{\\left(\\beta \\right)} - 2 \\beta_{1} v^{2} v_{L} v_{R} \\sin^{2}{\\left(\\beta \\right)} \\cos{\\left(\\beta \\right)} - 2 \\beta_{3} v^{2} v_{L} v_{R} \\sin{\\left(\\beta \\right)}}{4 v^{2} \\cos{\\left(\\beta \\right)} \\cos{\\left(2 \\beta \\right)}} & \\frac{\\alpha_{1} v^{2} v_{R} \\cos{\\left(2 \\beta \\right)} + \\alpha_{1} v^{2} v_{R} + 2 \\alpha_{2} v^{2} v_{R} \\sin{\\left(2 \\beta \\right)} + \\sqrt{2} \\rho_{1} v_{L}^{2} v_{R} - \\sqrt{2} \\rho_{3} v_{L}^{2} v_{R} - \\frac{\\beta_{1} v^{2} v_{L} \\sin{\\left(2 \\beta \\right)}}{2} + \\beta_{3} v^{2} v_{L} \\cos{\\left(2 \\beta \\right)} - \\beta_{3} v^{2} v_{L}}{4 v \\cos{\\left(\\beta \\right)}} & \\frac{\\alpha_{1} v^{2} v_{L} \\cos{\\left(2 \\beta \\right)} + \\alpha_{1} v^{2} v_{L} + 2 \\alpha_{2} v^{2} v_{L} \\sin{\\left(2 \\beta \\right)} + \\sqrt{2} \\rho_{1} v_{L} v_{R}^{2} - \\sqrt{2} \\rho_{3} v_{L} v_{R}^{2} - \\frac{\\beta_{1} v^{2} v_{R} \\sin{\\left(2 \\beta \\right)}}{2} + \\beta_{3} v^{2} v_{R} \\cos{\\left(2 \\beta \\right)} - \\beta_{3} v^{2} v_{R}}{4 v \\cos{\\left(\\beta \\right)}}\\\\\\frac{\\alpha_{3} v^{2} v_{L}^{2} \\sin^{3}{\\left(\\beta \\right)} - \\alpha_{3} v^{2} v_{L}^{2} \\sin{\\left(\\beta \\right)} + \\alpha_{3} v^{2} v_{R}^{2} \\sin^{3}{\\left(\\beta \\right)} - \\alpha_{3} v^{2} v_{R}^{2} \\sin{\\left(\\beta \\right)} + 8 \\lambda_{1} v^{4} \\sin^{5}{\\left(\\beta \\right)} - 12 \\lambda_{1} v^{4} \\sin^{3}{\\left(\\beta \\right)} + 4 \\lambda_{1} v^{4} \\sin{\\left(\\beta \\right)} + 16 \\lambda_{2} v^{4} \\sin^{5}{\\left(\\beta \\right)} - 24 \\lambda_{2} v^{4} \\sin^{3}{\\left(\\beta \\right)} + 8 \\lambda_{2} v^{4} \\sin{\\left(\\beta \\right)} + 8 \\lambda_{3} v^{4} \\sin^{5}{\\left(\\beta \\right)} - 12 \\lambda_{3} v^{4} \\sin^{3}{\\left(\\beta \\right)} + 4 \\lambda_{3} v^{4} \\sin{\\left(\\beta \\right)} - 6 \\lambda_{4} v^{4} \\sin^{4}{\\left(\\beta \\right)} \\cos{\\left(\\beta \\right)} + 4 \\lambda_{4} v^{4} \\sin^{2}{\\left(\\beta \\right)} \\cos{\\left(\\beta \\right)} + 6 \\lambda_{4} v^{4} \\cos^{5}{\\left(\\beta \\right)} - 2 \\lambda_{4} v^{4} \\cos{\\left(\\beta \\right)} + \\sqrt{2} \\rho_{1} v_{L}^{2} v_{R}^{2} \\sin{\\left(\\beta \\right)} - \\sqrt{2} \\rho_{3} v_{L}^{2} v_{R}^{2} \\sin{\\left(\\beta \\right)} - 2 \\beta_{1} v^{2} v_{L} v_{R} \\sin^{2}{\\left(\\beta \\right)} \\cos{\\left(\\beta \\right)} - 2 \\beta_{3} v^{2} v_{L} v_{R} \\sin{\\left(\\beta \\right)}}{4 v^{2} \\cos{\\left(\\beta \\right)} \\cos{\\left(2 \\beta \\right)}} & \\frac{\\alpha_{3} v_{L}^{2}}{8} + \\frac{\\alpha_{3} v_{L}^{2}}{8 \\cos{\\left(2 \\beta \\right)}} + \\frac{\\alpha_{3} v_{R}^{2}}{8} + \\frac{\\alpha_{3} v_{R}^{2}}{8 \\cos{\\left(2 \\beta \\right)}} - \\frac{\\lambda_{1} v^{2} \\cos{\\left(2 \\beta \\right)}}{2} + \\frac{\\lambda_{1} v^{2}}{2} + \\lambda_{2} v^{2} \\cos{\\left(2 \\beta \\right)} + \\lambda_{2} v^{2} + \\frac{\\lambda_{3} v^{2} \\cos{\\left(2 \\beta \\right)}}{2} + \\frac{\\lambda_{3} v^{2}}{2} + \\frac{\\lambda_{4} v^{2} \\sin{\\left(4 \\beta \\right)}}{2 \\cos{\\left(2 \\beta \\right)}} - \\frac{\\sqrt{2} \\rho_{1} v_{L}^{2} v_{R}^{2}}{4 v^{2} \\cos{\\left(2 \\beta \\right)}} + \\frac{\\sqrt{2} \\rho_{3} v_{L}^{2} v_{R}^{2}}{4 v^{2} \\cos{\\left(2 \\beta \\right)}} + \\frac{\\beta_{1} v_{L} v_{R} \\tan{\\left(2 \\beta \\right)}}{4} + \\frac{\\beta_{3} v_{L} v_{R}}{2 \\cos{\\left(2 \\beta \\right)}} & \\frac{v \\left(2 \\alpha_{1} v_{R} \\sin{\\left(\\beta \\right)} + 4 \\alpha_{2} v_{R} \\cos{\\left(\\beta \\right)} + 2 \\alpha_{3} v_{R} \\sin{\\left(\\beta \\right)} + \\beta_{1} v_{L} \\cos{\\left(\\beta \\right)} + 2 \\beta_{3} v_{L} \\sin{\\left(\\beta \\right)}\\right)}{4} & \\frac{v \\left(2 \\alpha_{1} v_{L} \\sin{\\left(\\beta \\right)} + 4 \\alpha_{2} v_{L} \\cos{\\left(\\beta \\right)} + 2 \\alpha_{3} v_{L} \\sin{\\left(\\beta \\right)} + \\beta_{1} v_{R} \\cos{\\left(\\beta \\right)} + 2 \\beta_{3} v_{R} \\sin{\\left(\\beta \\right)}\\right)}{4}\\\\\\frac{\\alpha_{1} v^{2} v_{R} \\cos{\\left(2 \\beta \\right)} + \\alpha_{1} v^{2} v_{R} + 2 \\alpha_{2} v^{2} v_{R} \\sin{\\left(2 \\beta \\right)} + \\sqrt{2} \\rho_{1} v_{L}^{2} v_{R} - \\sqrt{2} \\rho_{3} v_{L}^{2} v_{R} - \\frac{\\beta_{1} v^{2} v_{L} \\sin{\\left(2 \\beta \\right)}}{2} + \\beta_{3} v^{2} v_{L} \\cos{\\left(2 \\beta \\right)} - \\beta_{3} v^{2} v_{L}}{4 v \\cos{\\left(\\beta \\right)}} & \\frac{v \\left(2 \\alpha_{1} v_{R} \\sin{\\left(\\beta \\right)} + 4 \\alpha_{2} v_{R} \\cos{\\left(\\beta \\right)} + 2 \\alpha_{3} v_{R} \\sin{\\left(\\beta \\right)} + \\beta_{1} v_{L} \\cos{\\left(\\beta \\right)} + 2 \\beta_{3} v_{L} \\sin{\\left(\\beta \\right)}\\right)}{4} & - \\frac{\\alpha_{1} v^{2}}{4} - \\frac{\\alpha_{2} v^{2} \\sin{\\left(2 \\beta \\right)}}{2} + \\frac{\\alpha_{3} v^{2} \\cos{\\left(2 \\beta \\right)}}{8} - \\frac{\\alpha_{3} v^{2}}{8} - \\frac{\\rho_{1} v_{L}^{2}}{2} + \\rho_{1} v_{R}^{2} + \\frac{\\rho_{3} v_{L}^{2}}{4} & \\frac{v_{L} v_{R} \\left(4 \\rho_{3} + \\sqrt{2} \\left(\\rho_{1} - \\rho_{3}\\right)\\right)}{8}\\\\\\frac{\\alpha_{1} v^{2} v_{L} \\cos{\\left(2 \\beta \\right)} + \\alpha_{1} v^{2} v_{L} + 2 \\alpha_{2} v^{2} v_{L} \\sin{\\left(2 \\beta \\right)} + \\sqrt{2} \\rho_{1} v_{L} v_{R}^{2} - \\sqrt{2} \\rho_{3} v_{L} v_{R}^{2} - \\frac{\\beta_{1} v^{2} v_{R} \\sin{\\left(2 \\beta \\right)}}{2} + \\beta_{3} v^{2} v_{R} \\cos{\\left(2 \\beta \\right)} - \\beta_{3} v^{2} v_{R}}{4 v \\cos{\\left(\\beta \\right)}} & \\frac{v \\left(2 \\alpha_{1} v_{L} \\sin{\\left(\\beta \\right)} + 4 \\alpha_{2} v_{L} \\cos{\\left(\\beta \\right)} + 2 \\alpha_{3} v_{L} \\sin{\\left(\\beta \\right)} + \\beta_{1} v_{R} \\cos{\\left(\\beta \\right)} + 2 \\beta_{3} v_{R} \\sin{\\left(\\beta \\right)}\\right)}{4} & \\frac{v_{L} v_{R} \\left(4 \\rho_{3} + \\sqrt{2} \\left(\\rho_{1} - \\rho_{3}\\right)\\right)}{8} & - \\frac{\\alpha_{1} v^{2}}{4} - \\frac{\\alpha_{2} v^{2} \\sin{\\left(2 \\beta \\right)}}{2} + \\frac{\\alpha_{3} v^{2} \\cos{\\left(2 \\beta \\right)}}{8} - \\frac{\\alpha_{3} v^{2}}{8} + \\rho_{1} v_{L}^{2} - \\frac{\\rho_{1} v_{R}^{2}}{2} + \\frac{\\rho_{3} v_{R}^{2}}{4}\\end{matrix}\\right]$"
      ],
      "text/plain": [
       "⎡                                                                             \n",
       "⎢                                                                             \n",
       "⎢           2    2    4                   2    2    2                   2    2\n",
       "⎢- \\alpha₃⋅v ⋅v_L ⋅sin (\\beta) + \\alpha₃⋅v ⋅v_L ⋅sin (\\beta) - \\alpha₃⋅v ⋅v_R \n",
       "⎢─────────────────────────────────────────────────────────────────────────────\n",
       "⎢                                                                             \n",
       "⎢                                                                             \n",
       "⎢                                                                             \n",
       "⎢                           2    2    3                   2    2              \n",
       "⎢                  \\alpha₃⋅v ⋅v_L ⋅sin (\\beta) - \\alpha₃⋅v ⋅v_L ⋅sin(\\beta) + \n",
       "⎢                  ───────────────────────────────────────────────────────────\n",
       "⎢                                                                             \n",
       "⎢                                                                             \n",
       "⎢                                                                             \n",
       "⎢                                                                             \n",
       "⎢                                                                             \n",
       "⎢                                                                             \n",
       "⎢                                                                             \n",
       "⎢                                                                             \n",
       "⎢                                                                             \n",
       "⎢                                                                             \n",
       "⎢                                                                             \n",
       "⎢                                                                             \n",
       "⎢                                                                             \n",
       "⎢                                                                             \n",
       "⎢                                                                             \n",
       "⎣                                                                             \n",
       "\n",
       "                                                                              \n",
       "                                                                              \n",
       "    4                   2    2    2                      4    6               \n",
       "⋅sin (\\beta) + \\alpha₃⋅v ⋅v_R ⋅sin (\\beta) - 2⋅\\lambda₁⋅v ⋅sin (\\beta) + 2⋅\\la\n",
       "──────────────────────────────────────────────────────────────────────────────\n",
       "                                                                              \n",
       "                                                                              \n",
       "                                                                              \n",
       "         2    2    3                   2    2                          4    5 \n",
       "\\alpha₃⋅v ⋅v_R ⋅sin (\\beta) - \\alpha₃⋅v ⋅v_R ⋅sin(\\beta) + 8⋅\\lambda₁⋅v ⋅sin (\n",
       "──────────────────────────────────────────────────────────────────────────────\n",
       "                                                                              \n",
       "                                                                              \n",
       "                                                                              \n",
       "                                                                              \n",
       "                                                                              \n",
       "                                                                              \n",
       "                                                                              \n",
       "                                                                              \n",
       "                                                                              \n",
       "                                                                              \n",
       "                                                                              \n",
       "                                                                              \n",
       "                                                                              \n",
       "                                                                              \n",
       "                                                                              \n",
       "                                                                              \n",
       "\n",
       "                                                                              \n",
       "                                                                              \n",
       "       4    4                      4    2                      4    6         \n",
       "mbda₁⋅v ⋅sin (\\beta) + 2⋅\\lambda₁⋅v ⋅sin (\\beta) + 6⋅\\lambda₁⋅v ⋅cos (\\beta) -\n",
       "──────────────────────────────────────────────────────────────────────────────\n",
       "                                                                              \n",
       "                                                                              \n",
       "                                                                              \n",
       "                      4    3                      4                           \n",
       "\\beta) - 12⋅\\lambda₁⋅v ⋅sin (\\beta) + 4⋅\\lambda₁⋅v ⋅sin(\\beta) + 16⋅\\lambda₂⋅v\n",
       "──────────────────────────────────────────────────────────────────────────────\n",
       "                                                                              \n",
       "                                                                              \n",
       "                                                                              \n",
       "                                                                              \n",
       "                                                                              \n",
       "                                                                              \n",
       "                                                                              \n",
       "                                                                              \n",
       "                                                                              \n",
       "                                                                              \n",
       "                                                                              \n",
       "                                                                              \n",
       "                                                                              \n",
       "                                                                              \n",
       "                                                                              \n",
       "                                                                              \n",
       "\n",
       "                                                                              \n",
       "                                                                              \n",
       "             4                4    6                       4    4             \n",
       " 2⋅\\lambda₁⋅v  + 16⋅\\lambda₂⋅v ⋅sin (\\beta) - 24⋅\\lambda₂⋅v ⋅sin (\\beta) + 8⋅\\\n",
       "──────────────────────────────────────────────────────────────────────────────\n",
       "                                                                              \n",
       "                                                                              \n",
       "                                                                              \n",
       "4    5                       4    3                      4                    \n",
       " ⋅sin (\\beta) - 24⋅\\lambda₂⋅v ⋅sin (\\beta) + 8⋅\\lambda₂⋅v ⋅sin(\\beta) + 8⋅\\lam\n",
       "──────────────────────────────────────────────────────────────────────────────\n",
       "                                                                              \n",
       "                                                                              \n",
       "                                                                              \n",
       "                                                                              \n",
       "                       2                             2                  2     \n",
       "              \\alpha₁⋅v ⋅v_R⋅cos(2⋅\\beta) + \\alpha₁⋅v ⋅v_R + 2⋅\\alpha₂⋅v ⋅v_R⋅\n",
       "                                                                              \n",
       "              ────────────────────────────────────────────────────────────────\n",
       "                                                                              \n",
       "                                                                              \n",
       "                                                                              \n",
       "                       2                             2                  2     \n",
       "              \\alpha₁⋅v ⋅v_L⋅cos(2⋅\\beta) + \\alpha₁⋅v ⋅v_L + 2⋅\\alpha₂⋅v ⋅v_L⋅\n",
       "                                                                              \n",
       "              ────────────────────────────────────────────────────────────────\n",
       "                                                                              \n",
       "\n",
       "                                                                              \n",
       "                                                                              \n",
       "         4    2                      4    6                       4    4      \n",
       "lambda₂⋅v ⋅sin (\\beta) + 8⋅\\lambda₃⋅v ⋅sin (\\beta) - 12⋅\\lambda₃⋅v ⋅sin (\\beta\n",
       "──────────────────────────────────────────────────────────────────────────────\n",
       "             2    2                                                           \n",
       "          4⋅v ⋅cos (\\beta)⋅cos(2⋅\\beta)                                       \n",
       "                                                                              \n",
       "      4    5                       4    3                      4              \n",
       "bda₃⋅v ⋅sin (\\beta) - 12⋅\\lambda₃⋅v ⋅sin (\\beta) + 4⋅\\lambda₃⋅v ⋅sin(\\beta) - \n",
       "──────────────────────────────────────────────────────────────────────────────\n",
       "              2                                                               \n",
       "           4⋅v ⋅cos(\\beta)⋅cos(2⋅\\beta)                                       \n",
       "                                                                              \n",
       "                                                           2                  \n",
       "                           2                   2       β₁⋅v ⋅v_L⋅sin(2⋅\\beta) \n",
       "sin(2⋅\\beta) + √2⋅\\rho₁⋅v_L ⋅v_R - √2⋅\\rho₃⋅v_L ⋅v_R - ────────────────────── \n",
       "                                                                 2            \n",
       "──────────────────────────────────────────────────────────────────────────────\n",
       "                  4⋅v⋅cos(\\beta)                                              \n",
       "                                                                              \n",
       "                                                           2                  \n",
       "                               2                   2   β₁⋅v ⋅v_R⋅sin(2⋅\\beta) \n",
       "sin(2⋅\\beta) + √2⋅\\rho₁⋅v_L⋅v_R  - √2⋅\\rho₃⋅v_L⋅v_R  - ────────────────────── \n",
       "                                                                 2            \n",
       "──────────────────────────────────────────────────────────────────────────────\n",
       "                  4⋅v⋅cos(\\beta)                                              \n",
       "\n",
       "                                                                              \n",
       "                                                                              \n",
       "                4    2                      4    5                            \n",
       ") + 4⋅\\lambda₃⋅v ⋅sin (\\beta) + 8⋅\\lambda₄⋅v ⋅sin (\\beta)⋅cos(\\beta) - 8⋅\\lamb\n",
       "──────────────────────────────────────────────────────────────────────────────\n",
       "                                                                              \n",
       "                                                                              \n",
       "                                                                              \n",
       "            4    4                                 4    2                     \n",
       "6⋅\\lambda₄⋅v ⋅sin (\\beta)⋅cos(\\beta) + 4⋅\\lambda₄⋅v ⋅sin (\\beta)⋅cos(\\beta) + \n",
       "──────────────────────────────────────────────────────────────────────────────\n",
       "                                                                              \n",
       "                                                                              \n",
       "                                                                              \n",
       "                                                                              \n",
       "      2                        2                                              \n",
       "+ β₃⋅v ⋅v_L⋅cos(2⋅\\beta) - β₃⋅v ⋅v_L                                          \n",
       "                                                                              \n",
       "────────────────────────────────────                                          \n",
       "                                                                              \n",
       "                                                                              \n",
       "                                                                              \n",
       "      2                        2                                              \n",
       "+ β₃⋅v ⋅v_R⋅cos(2⋅\\beta) - β₃⋅v ⋅v_R                                          \n",
       "                                                                              \n",
       "────────────────────────────────────                                          \n",
       "                                                                              \n",
       "\n",
       "                                                                              \n",
       "                                                                              \n",
       "     4    3                                 4               5                 \n",
       "da₄⋅v ⋅sin (\\beta)⋅cos(\\beta) + 8⋅\\lambda₄⋅v ⋅sin(\\beta)⋅cos (\\beta) - √2⋅\\rho\n",
       "──────────────────────────────────────────────────────────────────────────────\n",
       "                                                                              \n",
       "                                                                              \n",
       "                                                                              \n",
       "            4    5                      4                          2    2     \n",
       "6⋅\\lambda₄⋅v ⋅cos (\\beta) - 2⋅\\lambda₄⋅v ⋅cos(\\beta) + √2⋅\\rho₁⋅v_L ⋅v_R ⋅sin(\n",
       "──────────────────────────────────────────────────────────────────────────────\n",
       "                                                                              \n",
       "                                                                              \n",
       "                                                                              \n",
       "                                                                              \n",
       "                                                                              \n",
       "                                                                              \n",
       "                                                                              \n",
       "                                                                              \n",
       "                                                                              \n",
       "                                                                              \n",
       "                                                                              \n",
       "                                                                              \n",
       "                                                                              \n",
       "                                                                              \n",
       "                                                                              \n",
       "                                                                              \n",
       "\n",
       "                                                                              \n",
       "                                                                              \n",
       "     2    2    2                      2    2    2                2            \n",
       "₁⋅v_L ⋅v_R ⋅sin (\\beta) + √2⋅\\rho₃⋅v_L ⋅v_R ⋅sin (\\beta) + 2⋅β₁⋅v ⋅v_L⋅v_R⋅sin\n",
       "──────────────────────────────────────────────────────────────────────────────\n",
       "                                                                              \n",
       "                                                                              \n",
       "                                                                              \n",
       "                     2    2                    2            2                 \n",
       "\\beta) - √2⋅\\rho₃⋅v_L ⋅v_R ⋅sin(\\beta) - 2⋅β₁⋅v ⋅v_L⋅v_R⋅sin (\\beta)⋅cos(\\beta\n",
       "──────────────────────────────────────────────────────────────────────────────\n",
       "                                                                              \n",
       "                                                                              \n",
       "                                                                              \n",
       "                                                                              \n",
       "                                                                              \n",
       "                                                                              \n",
       "                                                                              \n",
       "                                                                              \n",
       "                                                                              \n",
       "                                                                              \n",
       "                                                                              \n",
       "                                                                              \n",
       "                                                                              \n",
       "                                                                              \n",
       "                                                                              \n",
       "                                                                              \n",
       "\n",
       "                                                                              \n",
       "                                                                              \n",
       "3                           2            2                  2    2    3       \n",
       " (\\beta)⋅cos(\\beta) + 2⋅β₃⋅v ⋅v_L⋅v_R⋅sin (\\beta)  \\alpha₃⋅v ⋅v_L ⋅sin (\\beta)\n",
       "─────────────────────────────────────────────────  ───────────────────────────\n",
       "                                                                              \n",
       "                                                                              \n",
       "                                                                              \n",
       "          2                                                                   \n",
       ") - 2⋅β₃⋅v ⋅v_L⋅v_R⋅sin(\\beta)                                                \n",
       "──────────────────────────────                                                \n",
       "                                                                              \n",
       "                                                                              \n",
       "                                                                              \n",
       "                                                                              \n",
       "                                                                              \n",
       "                                                                              \n",
       "                                                                              \n",
       "                                                                              \n",
       "                                                                              \n",
       "                                                                              \n",
       "                                                                              \n",
       "                                                                              \n",
       "                                                                              \n",
       "                                                                              \n",
       "                                                                              \n",
       "                                                                              \n",
       "\n",
       "                                                                              \n",
       "                                                                              \n",
       "            2    2                       2    2    3                   2    2 \n",
       " - \\alpha₃⋅v ⋅v_L ⋅sin(\\beta) + \\alpha₃⋅v ⋅v_R ⋅sin (\\beta) - \\alpha₃⋅v ⋅v_R ⋅\n",
       "──────────────────────────────────────────────────────────────────────────────\n",
       "                                                                              \n",
       "                                                                              \n",
       "                                                                              \n",
       "                                                                              \n",
       "                                                                              \n",
       "                                                                              \n",
       "                                                                              \n",
       "                                                                              \n",
       "                                                                              \n",
       "                                                                              \n",
       "                                                                              \n",
       "                                                                              \n",
       "                                                                              \n",
       "                                                                              \n",
       "                                                                              \n",
       "                                                                              \n",
       "                                                                              \n",
       "                                                                              \n",
       "                                                                              \n",
       "                                                                              \n",
       "                                                                              \n",
       "                                                                              \n",
       "\n",
       "                                                                              \n",
       "                                                                              \n",
       "                         4    5                       4    3                  \n",
       "sin(\\beta) + 8⋅\\lambda₁⋅v ⋅sin (\\beta) - 12⋅\\lambda₁⋅v ⋅sin (\\beta) + 4⋅\\lambd\n",
       "──────────────────────────────────────────────────────────────────────────────\n",
       "                                                                              \n",
       "                                                                              \n",
       "                                                                              \n",
       "                                                                           2  \n",
       "                                                                \\alpha₃⋅v_L   \n",
       "                                                                ──────────── +\n",
       "                                                                     8        \n",
       "                                                                              \n",
       "                                                                              \n",
       "                                                                              \n",
       "                                                                              \n",
       "                                                                              \n",
       "                                                                              \n",
       "                                                                              \n",
       "                                                                              \n",
       "                                                                              \n",
       "                                                                              \n",
       "                                                                              \n",
       "                                                                              \n",
       "                                                                              \n",
       "                                                                              \n",
       "                                                                              \n",
       "\n",
       "                                                                              \n",
       "                                                                              \n",
       "    4                           4    5                       4    3           \n",
       "a₁⋅v ⋅sin(\\beta) + 16⋅\\lambda₂⋅v ⋅sin (\\beta) - 24⋅\\lambda₂⋅v ⋅sin (\\beta) + 8\n",
       "──────────────────────────────────────────────────────────────────────────────\n",
       "                                                                              \n",
       "                                                                              \n",
       "                                                                              \n",
       "             2               2               2              2                 \n",
       "  \\alpha₃⋅v_L     \\alpha₃⋅v_R     \\alpha₃⋅v_R     \\lambda₁⋅v ⋅cos(2⋅\\beta)   \\\n",
       " ────────────── + ──────────── + ────────────── - ──────────────────────── + ─\n",
       " 8⋅cos(2⋅\\beta)        8         8⋅cos(2⋅\\beta)              2                \n",
       "                                                                              \n",
       "                                                                              \n",
       "                                                                              \n",
       "                                                                              \n",
       "                                                                              \n",
       "                                                                        v⋅(2⋅\\\n",
       "                                                                        ──────\n",
       "                                                                              \n",
       "                                                                              \n",
       "                                                                              \n",
       "                                                                              \n",
       "                                                                              \n",
       "                                                                        v⋅(2⋅\\\n",
       "                                                                        ──────\n",
       "                                                                              \n",
       "\n",
       "                                                                              \n",
       "                                                                              \n",
       "           4                          4    5                       4    3     \n",
       "⋅\\lambda₂⋅v ⋅sin(\\beta) + 8⋅\\lambda₃⋅v ⋅sin (\\beta) - 12⋅\\lambda₃⋅v ⋅sin (\\bet\n",
       "──────────────────────────────────────────────────────────────────────────────\n",
       "                                              2                               \n",
       "                                           4⋅v ⋅cos(\\beta)⋅cos(2⋅\\beta)       \n",
       "                                                                              \n",
       "         2                                                      2             \n",
       "lambda₁⋅v              2                          2   \\lambda₃⋅v ⋅cos(2⋅\\beta)\n",
       "────────── + \\lambda₂⋅v ⋅cos(2⋅\\beta) + \\lambda₂⋅v  + ────────────────────────\n",
       "    2                                                            2            \n",
       "                                                                              \n",
       "                                                                              \n",
       "                                                                              \n",
       "                                                                              \n",
       "                                                                              \n",
       "alpha₁⋅v_R⋅sin(\\beta) + 4⋅\\alpha₂⋅v_R⋅cos(\\beta) + 2⋅\\alpha₃⋅v_R⋅sin(\\beta) + \n",
       "──────────────────────────────────────────────────────────────────────────────\n",
       "                                                       4                      \n",
       "                                                                              \n",
       "                                                                              \n",
       "                                                                              \n",
       "                                                                              \n",
       "alpha₁⋅v_L⋅sin(\\beta) + 4⋅\\alpha₂⋅v_L⋅cos(\\beta) + 2⋅\\alpha₃⋅v_L⋅sin(\\beta) + \n",
       "──────────────────────────────────────────────────────────────────────────────\n",
       "                                                       4                      \n",
       "\n",
       "                                                                              \n",
       "                                                                              \n",
       "                 4                          4    4                            \n",
       "a) + 4⋅\\lambda₃⋅v ⋅sin(\\beta) - 6⋅\\lambda₄⋅v ⋅sin (\\beta)⋅cos(\\beta) + 4⋅\\lamb\n",
       "──────────────────────────────────────────────────────────────────────────────\n",
       "                                                                              \n",
       "                                                                              \n",
       "                                                                              \n",
       "             2             2                            2    2               2\n",
       "   \\lambda₃⋅v    \\lambda₄⋅v ⋅sin(4⋅\\beta)   √2⋅\\rho₁⋅v_L ⋅v_R    √2⋅\\rho₃⋅v_L \n",
       " + ─────────── + ──────────────────────── - ────────────────── + ─────────────\n",
       "        2             2⋅cos(2⋅\\beta)           2                    2         \n",
       "                                            4⋅v ⋅cos(2⋅\\beta)    4⋅v ⋅cos(2⋅\\b\n",
       "                                                                              \n",
       "                                                                              \n",
       "                                                                              \n",
       "                                                                              \n",
       "β₁⋅v_L⋅cos(\\beta) + 2⋅β₃⋅v_L⋅sin(\\beta))                                      \n",
       "────────────────────────────────────────                                      \n",
       "                                                                              \n",
       "                                                                              \n",
       "                                                                              \n",
       "                                                                              \n",
       "                                                                              \n",
       "β₁⋅v_R⋅cos(\\beta) + 2⋅β₃⋅v_R⋅sin(\\beta))                                      \n",
       "────────────────────────────────────────                                      \n",
       "                                                                              \n",
       "\n",
       "                                                                              \n",
       "                                                                              \n",
       "     4    2                                 4    5                      4     \n",
       "da₄⋅v ⋅sin (\\beta)⋅cos(\\beta) + 6⋅\\lambda₄⋅v ⋅cos (\\beta) - 2⋅\\lambda₄⋅v ⋅cos(\n",
       "──────────────────────────────────────────────────────────────────────────────\n",
       "                                                                              \n",
       "                                                                              \n",
       "                                                                              \n",
       "    2                                                                         \n",
       "⋅v_R    β₁⋅v_L⋅v_R⋅tan(2⋅\\beta)     β₃⋅v_L⋅v_R                                \n",
       "───── + ─────────────────────── + ──────────────                              \n",
       "                   4              2⋅cos(2⋅\\beta)                              \n",
       "eta)                                                                          \n",
       "                                                                              \n",
       "                                                                              \n",
       "                                                                              \n",
       "                                                                              \n",
       "                                                                              \n",
       "                                                                              \n",
       "                                                                              \n",
       "                                                                              \n",
       "                                                                              \n",
       "                                                                              \n",
       "                                                                              \n",
       "                                                                              \n",
       "                                                                              \n",
       "                                                                              \n",
       "\n",
       "                                                                              \n",
       "                                                                              \n",
       "                     2    2                          2    2                   \n",
       "\\beta) + √2⋅\\rho₁⋅v_L ⋅v_R ⋅sin(\\beta) - √2⋅\\rho₃⋅v_L ⋅v_R ⋅sin(\\beta) - 2⋅β₁⋅\n",
       "──────────────────────────────────────────────────────────────────────────────\n",
       "                                                                              \n",
       "                                                                              \n",
       "                                                                              \n",
       "                                                                              \n",
       "                                                                              \n",
       "                                                                              \n",
       "                                                                              \n",
       "                                                                              \n",
       "                                                                              \n",
       "                                                                              \n",
       "                                                                              \n",
       "                                                                              \n",
       "                                                                              \n",
       "                                                                              \n",
       "                                                                              \n",
       "                                                                              \n",
       "                                                                              \n",
       "                                                                              \n",
       "                                                                              \n",
       "                                                                              \n",
       "                                                                              \n",
       "                                                                              \n",
       "\n",
       "                                                                              \n",
       "                                                                         2    \n",
       " 2            2                           2                     \\alpha₁⋅v ⋅v_R\n",
       "v ⋅v_L⋅v_R⋅sin (\\beta)⋅cos(\\beta) - 2⋅β₃⋅v ⋅v_L⋅v_R⋅sin(\\beta)                \n",
       "──────────────────────────────────────────────────────────────  ──────────────\n",
       "                                                                              \n",
       "                                                                              \n",
       "                                                                              \n",
       "                                                                              \n",
       "                                                                              \n",
       "                                                                              \n",
       "                                                                              \n",
       "                                                                              \n",
       "                                                                              \n",
       "                                                                              \n",
       "                                                                              \n",
       "                                                                              \n",
       "                                                                              \n",
       "                                                                              \n",
       "                                                                              \n",
       "                                                                              \n",
       "                                                                              \n",
       "                                                                              \n",
       "                                                                              \n",
       "                                                                              \n",
       "                                                                              \n",
       "                                                                              \n",
       "\n",
       "                                                                              \n",
       "                         2                  2                                2\n",
       "⋅cos(2⋅\\beta) + \\alpha₁⋅v ⋅v_R + 2⋅\\alpha₂⋅v ⋅v_R⋅sin(2⋅\\beta) + √2⋅\\rho₁⋅v_L \n",
       "                                                                              \n",
       "──────────────────────────────────────────────────────────────────────────────\n",
       "                                                                    4⋅v⋅cos(\\b\n",
       "                                                                              \n",
       "                                                                              \n",
       "                                                                              \n",
       "             v⋅(2⋅\\alpha₁⋅v_R⋅sin(\\beta) + 4⋅\\alpha₂⋅v_R⋅cos(\\beta) + 2⋅\\alpha\n",
       "             ─────────────────────────────────────────────────────────────────\n",
       "                                                                          4   \n",
       "                                                                              \n",
       "                                                                              \n",
       "                                                                              \n",
       "                                                                              \n",
       "                            2            2                         2          \n",
       "                   \\alpha₁⋅v    \\alpha₂⋅v ⋅sin(2⋅\\beta)   \\alpha₃⋅v ⋅cos(2⋅\\be\n",
       "                 - ────────── - ─────────────────────── + ────────────────────\n",
       "                       4                   2                         8        \n",
       "                                                                              \n",
       "                                                                              \n",
       "                                                                              \n",
       "                                                                              \n",
       "                                                        v_L⋅v_R⋅(4⋅\\rho₃ + √2⋅\n",
       "                                                        ──────────────────────\n",
       "                                                                          8   \n",
       "\n",
       "                               2                                              \n",
       "                   2       β₁⋅v ⋅v_L⋅sin(2⋅\\beta)       2                     \n",
       "⋅v_R - √2⋅\\rho₃⋅v_L ⋅v_R - ────────────────────── + β₃⋅v ⋅v_L⋅cos(2⋅\\beta) - β\n",
       "                                     2                                        \n",
       "──────────────────────────────────────────────────────────────────────────────\n",
       "eta)                                                                          \n",
       "                                                                              \n",
       "                                                                              \n",
       "                                                                              \n",
       "₃⋅v_R⋅sin(\\beta) + β₁⋅v_L⋅cos(\\beta) + 2⋅β₃⋅v_L⋅sin(\\beta))                   \n",
       "───────────────────────────────────────────────────────────                   \n",
       "                                                                              \n",
       "                                                                              \n",
       "                                                                              \n",
       "                                                                              \n",
       "                                                                              \n",
       "               2            2                         2                       \n",
       "ta)   \\alpha₃⋅v    \\rho₁⋅v_L             2   \\rho₃⋅v_L                        \n",
       "─── - ────────── - ────────── + \\rho₁⋅v_R  + ──────────                       \n",
       "          8            2                         4                            \n",
       "                                                                              \n",
       "                                                                              \n",
       "                                                                              \n",
       "                                                                              \n",
       "(\\rho₁ - \\rho₃))                                                              \n",
       "────────────────                                                              \n",
       "                                                                              \n",
       "\n",
       "                                                                              \n",
       "   2               2                             2                  2         \n",
       "₃⋅v ⋅v_L  \\alpha₁⋅v ⋅v_L⋅cos(2⋅\\beta) + \\alpha₁⋅v ⋅v_L + 2⋅\\alpha₂⋅v ⋅v_L⋅sin(\n",
       "                                                                              \n",
       "────────  ────────────────────────────────────────────────────────────────────\n",
       "                                                                              \n",
       "                                                                              \n",
       "                                                                              \n",
       "                                                                              \n",
       "                                     v⋅(2⋅\\alpha₁⋅v_L⋅sin(\\beta) + 4⋅\\alpha₂⋅v\n",
       "                                     ─────────────────────────────────────────\n",
       "                                                                              \n",
       "                                                                              \n",
       "                                                                              \n",
       "                                                                              \n",
       "                                                                              \n",
       "                                                                              \n",
       "                                                                              \n",
       "                                                                              \n",
       "                                                                              \n",
       "                                                                              \n",
       "                                                                              \n",
       "                                                                              \n",
       "                                                    2            2            \n",
       "                                           \\alpha₁⋅v    \\alpha₂⋅v ⋅sin(2⋅\\beta\n",
       "                                         - ────────── - ──────────────────────\n",
       "                                               4                   2          \n",
       "\n",
       "                                                       2                      \n",
       "                           2                   2   β₁⋅v ⋅v_R⋅sin(2⋅\\beta)     \n",
       "2⋅\\beta) + √2⋅\\rho₁⋅v_L⋅v_R  - √2⋅\\rho₃⋅v_L⋅v_R  - ────────────────────── + β₃\n",
       "                                                             2                \n",
       "──────────────────────────────────────────────────────────────────────────────\n",
       "              4⋅v⋅cos(\\beta)                                                  \n",
       "                                                                              \n",
       "                                                                              \n",
       "                                                                              \n",
       "_L⋅cos(\\beta) + 2⋅\\alpha₃⋅v_L⋅sin(\\beta) + β₁⋅v_R⋅cos(\\beta) + 2⋅β₃⋅v_R⋅sin(\\b\n",
       "──────────────────────────────────────────────────────────────────────────────\n",
       "                    4                                                         \n",
       "                                                                              \n",
       "                                                                              \n",
       "                                                                              \n",
       "                                                                              \n",
       "                                                                              \n",
       "  v_L⋅v_R⋅(4⋅\\rho₃ + √2⋅(\\rho₁ - \\rho₃))                                      \n",
       "  ──────────────────────────────────────                                      \n",
       "                    8                                                         \n",
       "                                                                              \n",
       "                                                                              \n",
       "                                                                              \n",
       "             2                         2                         2            \n",
       ")   \\alpha₃⋅v ⋅cos(2⋅\\beta)   \\alpha₃⋅v             2   \\rho₁⋅v_R    \\rho₃⋅v_R\n",
       "─ + ─────────────────────── - ────────── + \\rho₁⋅v_L  - ────────── + ─────────\n",
       "               8                  8                         2            4    \n",
       "\n",
       "                                ⎤\n",
       "  2                        2    ⎥\n",
       "⋅v ⋅v_R⋅cos(2⋅\\beta) - β₃⋅v ⋅v_R⎥\n",
       "                                ⎥\n",
       "────────────────────────────────⎥\n",
       "                                ⎥\n",
       "                                ⎥\n",
       "                                ⎥\n",
       "                                ⎥\n",
       "eta))                           ⎥\n",
       "─────                           ⎥\n",
       "                                ⎥\n",
       "                                ⎥\n",
       "                                ⎥\n",
       "                                ⎥\n",
       "                                ⎥\n",
       "                                ⎥\n",
       "                                ⎥\n",
       "                                ⎥\n",
       "                                ⎥\n",
       "                                ⎥\n",
       "                                ⎥\n",
       "                                ⎥\n",
       "2                               ⎥\n",
       "                                ⎥\n",
       "─                               ⎥\n",
       "                                ⎦"
      ]
     },
     "execution_count": 117,
     "metadata": {},
     "output_type": "execute_result"
    }
   ],
   "source": [
    "phir_fields = [phi10r, phi20r, deltaR0r, deltaL0r]\n",
    "MR_square = (derive_by_array(derive_by_array(VLRPhi_ri_tadpole, phir_fields), phir_fields)/2).subs(\n",
    "    vevPhi\n",
    ").subs(vevL).subs(vevR).simplify()\n",
    "MR_square"
   ]
  },
  {
   "cell_type": "code",
   "execution_count": 118,
   "metadata": {},
   "outputs": [
    {
     "data": {
      "text/latex": [
       "$\\displaystyle \\left[\\begin{matrix}\\frac{\\alpha_{3} v^{2} v_{L}^{2} \\sin^{4}{\\left(\\beta \\right)} - \\alpha_{3} v^{2} v_{L}^{2} \\sin^{2}{\\left(\\beta \\right)} + \\alpha_{3} v^{2} v_{R}^{2} \\sin^{4}{\\left(\\beta \\right)} - \\alpha_{3} v^{2} v_{R}^{2} \\sin^{2}{\\left(\\beta \\right)} + 2 \\lambda_{1} v^{4} \\sin^{6}{\\left(\\beta \\right)} - 2 \\lambda_{1} v^{4} \\sin^{4}{\\left(\\beta \\right)} - 2 \\lambda_{1} v^{4} \\sin^{2}{\\left(\\beta \\right)} - 6 \\lambda_{1} v^{4} \\cos^{6}{\\left(\\beta \\right)} + 2 \\lambda_{1} v^{4} - 16 \\lambda_{2} v^{4} \\sin^{6}{\\left(\\beta \\right)} + 24 \\lambda_{2} v^{4} \\sin^{4}{\\left(\\beta \\right)} - 8 \\lambda_{2} v^{4} \\sin^{2}{\\left(\\beta \\right)} - 8 \\lambda_{3} v^{4} \\sin^{6}{\\left(\\beta \\right)} + 12 \\lambda_{3} v^{4} \\sin^{4}{\\left(\\beta \\right)} - 4 \\lambda_{3} v^{4} \\sin^{2}{\\left(\\beta \\right)} - 8 \\lambda_{4} v^{4} \\sin^{5}{\\left(\\beta \\right)} \\cos{\\left(\\beta \\right)} + 8 \\lambda_{4} v^{4} \\sin^{3}{\\left(\\beta \\right)} \\cos{\\left(\\beta \\right)} - 8 \\lambda_{4} v^{4} \\sin{\\left(\\beta \\right)} \\cos^{5}{\\left(\\beta \\right)} + \\sqrt{2} \\rho_{1} v_{L}^{2} v_{R}^{2} \\sin^{2}{\\left(\\beta \\right)} - \\sqrt{2} \\rho_{3} v_{L}^{2} v_{R}^{2} \\sin^{2}{\\left(\\beta \\right)} - 2 \\beta_{1} v^{2} v_{L} v_{R} \\sin^{3}{\\left(\\beta \\right)} \\cos{\\left(\\beta \\right)} - 2 \\beta_{3} v^{2} v_{L} v_{R} \\sin^{2}{\\left(\\beta \\right)}}{4 v^{2} \\cos^{2}{\\left(\\beta \\right)} \\cos{\\left(2 \\beta \\right)}} & \\frac{- \\alpha_{3} v^{2} v_{L}^{2} \\sin^{3}{\\left(\\beta \\right)} + \\alpha_{3} v^{2} v_{L}^{2} \\sin{\\left(\\beta \\right)} - \\alpha_{3} v^{2} v_{R}^{2} \\sin^{3}{\\left(\\beta \\right)} + \\alpha_{3} v^{2} v_{R}^{2} \\sin{\\left(\\beta \\right)} - 8 \\lambda_{1} v^{4} \\sin^{5}{\\left(\\beta \\right)} + 12 \\lambda_{1} v^{4} \\sin^{3}{\\left(\\beta \\right)} - 4 \\lambda_{1} v^{4} \\sin{\\left(\\beta \\right)} - 16 \\lambda_{2} v^{4} \\sin^{5}{\\left(\\beta \\right)} + 24 \\lambda_{2} v^{4} \\sin^{3}{\\left(\\beta \\right)} - 8 \\lambda_{2} v^{4} \\sin{\\left(\\beta \\right)} - 8 \\lambda_{3} v^{4} \\sin^{5}{\\left(\\beta \\right)} + 12 \\lambda_{3} v^{4} \\sin^{3}{\\left(\\beta \\right)} - 4 \\lambda_{3} v^{4} \\sin{\\left(\\beta \\right)} + 6 \\lambda_{4} v^{4} \\sin^{4}{\\left(\\beta \\right)} \\cos{\\left(\\beta \\right)} - 4 \\lambda_{4} v^{4} \\sin^{2}{\\left(\\beta \\right)} \\cos{\\left(\\beta \\right)} - 6 \\lambda_{4} v^{4} \\cos^{5}{\\left(\\beta \\right)} + 2 \\lambda_{4} v^{4} \\cos{\\left(\\beta \\right)} - \\sqrt{2} \\rho_{1} v_{L}^{2} v_{R}^{2} \\sin{\\left(\\beta \\right)} + \\sqrt{2} \\rho_{3} v_{L}^{2} v_{R}^{2} \\sin{\\left(\\beta \\right)} + 2 \\beta_{1} v^{2} v_{L} v_{R} \\sin^{2}{\\left(\\beta \\right)} \\cos{\\left(\\beta \\right)} + 2 \\beta_{3} v^{2} v_{L} v_{R} \\sin{\\left(\\beta \\right)}}{4 v^{2} \\cos{\\left(\\beta \\right)} \\cos{\\left(2 \\beta \\right)}} & \\frac{- \\alpha_{1} v^{2} v_{R} \\cos{\\left(2 \\beta \\right)} - \\alpha_{1} v^{2} v_{R} - 2 \\alpha_{2} v^{2} v_{R} \\sin{\\left(2 \\beta \\right)} - \\sqrt{2} \\rho_{1} v_{L}^{2} v_{R} + \\sqrt{2} \\rho_{3} v_{L}^{2} v_{R} + \\frac{\\beta_{1} v^{2} v_{L} \\sin{\\left(2 \\beta \\right)}}{2} - \\beta_{3} v^{2} v_{L} \\cos{\\left(2 \\beta \\right)} + \\beta_{3} v^{2} v_{L}}{4 v \\cos{\\left(\\beta \\right)}} & \\frac{- \\alpha_{1} v^{2} v_{L} \\cos{\\left(2 \\beta \\right)} - \\alpha_{1} v^{2} v_{L} - 2 \\alpha_{2} v^{2} v_{L} \\sin{\\left(2 \\beta \\right)} - \\sqrt{2} \\rho_{1} v_{L} v_{R}^{2} + \\sqrt{2} \\rho_{3} v_{L} v_{R}^{2} + \\frac{\\beta_{1} v^{2} v_{R} \\sin{\\left(2 \\beta \\right)}}{2} - \\beta_{3} v^{2} v_{R} \\cos{\\left(2 \\beta \\right)} + \\beta_{3} v^{2} v_{R}}{4 v \\cos{\\left(\\beta \\right)}}\\\\\\frac{- \\alpha_{3} v^{2} v_{L}^{2} \\sin^{3}{\\left(\\beta \\right)} + \\alpha_{3} v^{2} v_{L}^{2} \\sin{\\left(\\beta \\right)} - \\alpha_{3} v^{2} v_{R}^{2} \\sin^{3}{\\left(\\beta \\right)} + \\alpha_{3} v^{2} v_{R}^{2} \\sin{\\left(\\beta \\right)} - 8 \\lambda_{1} v^{4} \\sin^{5}{\\left(\\beta \\right)} + 12 \\lambda_{1} v^{4} \\sin^{3}{\\left(\\beta \\right)} - 4 \\lambda_{1} v^{4} \\sin{\\left(\\beta \\right)} - 16 \\lambda_{2} v^{4} \\sin^{5}{\\left(\\beta \\right)} + 24 \\lambda_{2} v^{4} \\sin^{3}{\\left(\\beta \\right)} - 8 \\lambda_{2} v^{4} \\sin{\\left(\\beta \\right)} - 8 \\lambda_{3} v^{4} \\sin^{5}{\\left(\\beta \\right)} + 12 \\lambda_{3} v^{4} \\sin^{3}{\\left(\\beta \\right)} - 4 \\lambda_{3} v^{4} \\sin{\\left(\\beta \\right)} + 6 \\lambda_{4} v^{4} \\sin^{4}{\\left(\\beta \\right)} \\cos{\\left(\\beta \\right)} - 4 \\lambda_{4} v^{4} \\sin^{2}{\\left(\\beta \\right)} \\cos{\\left(\\beta \\right)} - 6 \\lambda_{4} v^{4} \\cos^{5}{\\left(\\beta \\right)} + 2 \\lambda_{4} v^{4} \\cos{\\left(\\beta \\right)} - \\sqrt{2} \\rho_{1} v_{L}^{2} v_{R}^{2} \\sin{\\left(\\beta \\right)} + \\sqrt{2} \\rho_{3} v_{L}^{2} v_{R}^{2} \\sin{\\left(\\beta \\right)} + 2 \\beta_{1} v^{2} v_{L} v_{R} \\sin^{2}{\\left(\\beta \\right)} \\cos{\\left(\\beta \\right)} + 2 \\beta_{3} v^{2} v_{L} v_{R} \\sin{\\left(\\beta \\right)}}{4 v^{2} \\cos{\\left(\\beta \\right)} \\cos{\\left(2 \\beta \\right)}} & - \\frac{\\alpha_{3} v_{L}^{2}}{8} - \\frac{\\alpha_{3} v_{L}^{2}}{8 \\cos{\\left(2 \\beta \\right)}} - \\frac{\\alpha_{3} v_{R}^{2}}{8} - \\frac{\\alpha_{3} v_{R}^{2}}{8 \\cos{\\left(2 \\beta \\right)}} + \\frac{\\lambda_{1} v^{2} \\cos{\\left(2 \\beta \\right)}}{2} - \\frac{\\lambda_{1} v^{2}}{2} - \\lambda_{2} v^{2} \\cos{\\left(2 \\beta \\right)} - \\lambda_{2} v^{2} - \\frac{\\lambda_{3} v^{2} \\cos{\\left(2 \\beta \\right)}}{2} - \\frac{\\lambda_{3} v^{2}}{2} - \\frac{\\lambda_{4} v^{2} \\sin{\\left(4 \\beta \\right)}}{2 \\cos{\\left(2 \\beta \\right)}} + \\frac{\\sqrt{2} \\rho_{1} v_{L}^{2} v_{R}^{2}}{4 v^{2} \\cos{\\left(2 \\beta \\right)}} - \\frac{\\sqrt{2} \\rho_{3} v_{L}^{2} v_{R}^{2}}{4 v^{2} \\cos{\\left(2 \\beta \\right)}} - \\frac{\\beta_{1} v_{L} v_{R} \\tan{\\left(2 \\beta \\right)}}{4} - \\frac{\\beta_{3} v_{L} v_{R}}{2 \\cos{\\left(2 \\beta \\right)}} & - \\frac{v \\left(2 \\alpha_{1} v_{R} \\sin{\\left(\\beta \\right)} + 4 \\alpha_{2} v_{R} \\cos{\\left(\\beta \\right)} + 2 \\alpha_{3} v_{R} \\sin{\\left(\\beta \\right)} + \\beta_{1} v_{L} \\cos{\\left(\\beta \\right)} + 2 \\beta_{3} v_{L} \\sin{\\left(\\beta \\right)}\\right)}{4} & - \\frac{v \\left(2 \\alpha_{1} v_{L} \\sin{\\left(\\beta \\right)} + 4 \\alpha_{2} v_{L} \\cos{\\left(\\beta \\right)} + 2 \\alpha_{3} v_{L} \\sin{\\left(\\beta \\right)} + \\beta_{1} v_{R} \\cos{\\left(\\beta \\right)} + 2 \\beta_{3} v_{R} \\sin{\\left(\\beta \\right)}\\right)}{4}\\\\\\frac{- \\alpha_{1} v^{2} v_{R} \\cos{\\left(2 \\beta \\right)} - \\alpha_{1} v^{2} v_{R} - 2 \\alpha_{2} v^{2} v_{R} \\sin{\\left(2 \\beta \\right)} - \\sqrt{2} \\rho_{1} v_{L}^{2} v_{R} + \\sqrt{2} \\rho_{3} v_{L}^{2} v_{R} + \\frac{\\beta_{1} v^{2} v_{L} \\sin{\\left(2 \\beta \\right)}}{2} - \\beta_{3} v^{2} v_{L} \\cos{\\left(2 \\beta \\right)} + \\beta_{3} v^{2} v_{L}}{4 v \\cos{\\left(\\beta \\right)}} & - \\frac{v \\left(2 \\alpha_{1} v_{R} \\sin{\\left(\\beta \\right)} + 4 \\alpha_{2} v_{R} \\cos{\\left(\\beta \\right)} + 2 \\alpha_{3} v_{R} \\sin{\\left(\\beta \\right)} + \\beta_{1} v_{L} \\cos{\\left(\\beta \\right)} + 2 \\beta_{3} v_{L} \\sin{\\left(\\beta \\right)}\\right)}{4} & \\frac{\\alpha_{1} v^{2}}{4} + \\frac{\\alpha_{2} v^{2} \\sin{\\left(2 \\beta \\right)}}{2} - \\frac{\\alpha_{3} v^{2} \\cos{\\left(2 \\beta \\right)}}{8} + \\frac{\\alpha_{3} v^{2}}{8} + \\frac{\\rho_{1} v_{L}^{2}}{2} - \\rho_{1} v_{R}^{2} - \\frac{\\rho_{3} v_{L}^{2}}{4} & \\frac{v_{L} v_{R} \\left(- 4 \\rho_{3} + \\sqrt{2} \\left(- \\rho_{1} + \\rho_{3}\\right)\\right)}{8}\\\\\\frac{- \\alpha_{1} v^{2} v_{L} \\cos{\\left(2 \\beta \\right)} - \\alpha_{1} v^{2} v_{L} - 2 \\alpha_{2} v^{2} v_{L} \\sin{\\left(2 \\beta \\right)} - \\sqrt{2} \\rho_{1} v_{L} v_{R}^{2} + \\sqrt{2} \\rho_{3} v_{L} v_{R}^{2} + \\frac{\\beta_{1} v^{2} v_{R} \\sin{\\left(2 \\beta \\right)}}{2} - \\beta_{3} v^{2} v_{R} \\cos{\\left(2 \\beta \\right)} + \\beta_{3} v^{2} v_{R}}{4 v \\cos{\\left(\\beta \\right)}} & - \\frac{v \\left(2 \\alpha_{1} v_{L} \\sin{\\left(\\beta \\right)} + 4 \\alpha_{2} v_{L} \\cos{\\left(\\beta \\right)} + 2 \\alpha_{3} v_{L} \\sin{\\left(\\beta \\right)} + \\beta_{1} v_{R} \\cos{\\left(\\beta \\right)} + 2 \\beta_{3} v_{R} \\sin{\\left(\\beta \\right)}\\right)}{4} & \\frac{v_{L} v_{R} \\left(- 4 \\rho_{3} + \\sqrt{2} \\left(- \\rho_{1} + \\rho_{3}\\right)\\right)}{8} & \\frac{\\alpha_{1} v^{2}}{4} + \\frac{\\alpha_{2} v^{2} \\sin{\\left(2 \\beta \\right)}}{2} - \\frac{\\alpha_{3} v^{2} \\cos{\\left(2 \\beta \\right)}}{8} + \\frac{\\alpha_{3} v^{2}}{8} - \\rho_{1} v_{L}^{2} + \\frac{\\rho_{1} v_{R}^{2}}{2} - \\frac{\\rho_{3} v_{R}^{2}}{4}\\end{matrix}\\right]$"
      ],
      "text/plain": [
       "⎡                                                                             \n",
       "⎢                                                                             \n",
       "⎢         2    2    4                   2    2    2                   2    2  \n",
       "⎢\\alpha₃⋅v ⋅v_L ⋅sin (\\beta) - \\alpha₃⋅v ⋅v_L ⋅sin (\\beta) + \\alpha₃⋅v ⋅v_R ⋅s\n",
       "⎢─────────────────────────────────────────────────────────────────────────────\n",
       "⎢                                                                             \n",
       "⎢                                                                             \n",
       "⎢                                                                             \n",
       "⎢                           2    2    3                   2    2              \n",
       "⎢                - \\alpha₃⋅v ⋅v_L ⋅sin (\\beta) + \\alpha₃⋅v ⋅v_L ⋅sin(\\beta) - \n",
       "⎢                ─────────────────────────────────────────────────────────────\n",
       "⎢                                                                             \n",
       "⎢                                                                             \n",
       "⎢                                                                             \n",
       "⎢                                                                             \n",
       "⎢                                                                             \n",
       "⎢                                                                             \n",
       "⎢                                                                             \n",
       "⎢                                                                             \n",
       "⎢                                                                             \n",
       "⎢                                                                             \n",
       "⎢                                                                             \n",
       "⎢                                                                             \n",
       "⎢                                                                             \n",
       "⎢                                                                             \n",
       "⎢                                                                             \n",
       "⎣                                                                             \n",
       "\n",
       "                                                                              \n",
       "                                                                              \n",
       "  4                   2    2    2                      4    6                 \n",
       "in (\\beta) - \\alpha₃⋅v ⋅v_R ⋅sin (\\beta) + 2⋅\\lambda₁⋅v ⋅sin (\\beta) - 2⋅\\lamb\n",
       "──────────────────────────────────────────────────────────────────────────────\n",
       "                                                                              \n",
       "                                                                              \n",
       "                                                                              \n",
       "         2    2    3                   2    2                          4    5 \n",
       "\\alpha₃⋅v ⋅v_R ⋅sin (\\beta) + \\alpha₃⋅v ⋅v_R ⋅sin(\\beta) - 8⋅\\lambda₁⋅v ⋅sin (\n",
       "──────────────────────────────────────────────────────────────────────────────\n",
       "                                                                              \n",
       "                                                                              \n",
       "                                                                              \n",
       "                                                                              \n",
       "                                                                              \n",
       "                                                                              \n",
       "                                                                              \n",
       "                                                                              \n",
       "                                                                              \n",
       "                                                                              \n",
       "                                                                              \n",
       "                                                                              \n",
       "                                                                              \n",
       "                                                                              \n",
       "                                                                              \n",
       "                                                                              \n",
       "\n",
       "                                                                              \n",
       "                                                                              \n",
       "     4    4                      4    2                      4    6           \n",
       "da₁⋅v ⋅sin (\\beta) - 2⋅\\lambda₁⋅v ⋅sin (\\beta) - 6⋅\\lambda₁⋅v ⋅cos (\\beta) + 2\n",
       "──────────────────────────────────────────────────────────────────────────────\n",
       "                                                                              \n",
       "                                                                              \n",
       "                                                                              \n",
       "                      4    3                      4                           \n",
       "\\beta) + 12⋅\\lambda₁⋅v ⋅sin (\\beta) - 4⋅\\lambda₁⋅v ⋅sin(\\beta) - 16⋅\\lambda₂⋅v\n",
       "──────────────────────────────────────────────────────────────────────────────\n",
       "                                                                              \n",
       "                                                                              \n",
       "                                                                              \n",
       "                                                                              \n",
       "                                                                              \n",
       "                                                                              \n",
       "                                                                              \n",
       "                                                                              \n",
       "                                                                              \n",
       "                                                                              \n",
       "                                                                              \n",
       "                                                                              \n",
       "                                                                              \n",
       "                                                                              \n",
       "                                                                              \n",
       "                                                                              \n",
       "\n",
       "                                                                              \n",
       "                                                                              \n",
       "           4                4    6                       4    4               \n",
       "⋅\\lambda₁⋅v  - 16⋅\\lambda₂⋅v ⋅sin (\\beta) + 24⋅\\lambda₂⋅v ⋅sin (\\beta) - 8⋅\\la\n",
       "──────────────────────────────────────────────────────────────────────────────\n",
       "                                                                              \n",
       "                                                                              \n",
       "                                                                              \n",
       "4    5                       4    3                      4                    \n",
       " ⋅sin (\\beta) + 24⋅\\lambda₂⋅v ⋅sin (\\beta) - 8⋅\\lambda₂⋅v ⋅sin(\\beta) - 8⋅\\lam\n",
       "──────────────────────────────────────────────────────────────────────────────\n",
       "                                                                              \n",
       "                                                                              \n",
       "                                                                              \n",
       "                                                                              \n",
       "                       2                             2                  2     \n",
       "            - \\alpha₁⋅v ⋅v_R⋅cos(2⋅\\beta) - \\alpha₁⋅v ⋅v_R - 2⋅\\alpha₂⋅v ⋅v_R⋅\n",
       "                                                                              \n",
       "            ──────────────────────────────────────────────────────────────────\n",
       "                                                                              \n",
       "                                                                              \n",
       "                                                                              \n",
       "                       2                             2                  2     \n",
       "            - \\alpha₁⋅v ⋅v_L⋅cos(2⋅\\beta) - \\alpha₁⋅v ⋅v_L - 2⋅\\alpha₂⋅v ⋅v_L⋅\n",
       "                                                                              \n",
       "            ──────────────────────────────────────────────────────────────────\n",
       "                                                                              \n",
       "\n",
       "                                                                              \n",
       "                                                                              \n",
       "       4    2                      4    6                       4    4        \n",
       "mbda₂⋅v ⋅sin (\\beta) - 8⋅\\lambda₃⋅v ⋅sin (\\beta) + 12⋅\\lambda₃⋅v ⋅sin (\\beta) \n",
       "──────────────────────────────────────────────────────────────────────────────\n",
       "            2    2                                                            \n",
       "         4⋅v ⋅cos (\\beta)⋅cos(2⋅\\beta)                                        \n",
       "                                                                              \n",
       "      4    5                       4    3                      4              \n",
       "bda₃⋅v ⋅sin (\\beta) + 12⋅\\lambda₃⋅v ⋅sin (\\beta) - 4⋅\\lambda₃⋅v ⋅sin(\\beta) + \n",
       "──────────────────────────────────────────────────────────────────────────────\n",
       "             2                                                                \n",
       "          4⋅v ⋅cos(\\beta)⋅cos(2⋅\\beta)                                        \n",
       "                                                                              \n",
       "                                                           2                  \n",
       "                           2                   2       β₁⋅v ⋅v_L⋅sin(2⋅\\beta) \n",
       "sin(2⋅\\beta) - √2⋅\\rho₁⋅v_L ⋅v_R + √2⋅\\rho₃⋅v_L ⋅v_R + ────────────────────── \n",
       "                                                                 2            \n",
       "──────────────────────────────────────────────────────────────────────────────\n",
       "                 4⋅v⋅cos(\\beta)                                               \n",
       "                                                                              \n",
       "                                                           2                  \n",
       "                               2                   2   β₁⋅v ⋅v_R⋅sin(2⋅\\beta) \n",
       "sin(2⋅\\beta) - √2⋅\\rho₁⋅v_L⋅v_R  + √2⋅\\rho₃⋅v_L⋅v_R  + ────────────────────── \n",
       "                                                                 2            \n",
       "──────────────────────────────────────────────────────────────────────────────\n",
       "                 4⋅v⋅cos(\\beta)                                               \n",
       "\n",
       "                                                                              \n",
       "                                                                              \n",
       "              4    2                      4    5                              \n",
       "- 4⋅\\lambda₃⋅v ⋅sin (\\beta) - 8⋅\\lambda₄⋅v ⋅sin (\\beta)⋅cos(\\beta) + 8⋅\\lambda\n",
       "──────────────────────────────────────────────────────────────────────────────\n",
       "                                                                              \n",
       "                                                                              \n",
       "                                                                              \n",
       "            4    4                                 4    2                     \n",
       "6⋅\\lambda₄⋅v ⋅sin (\\beta)⋅cos(\\beta) - 4⋅\\lambda₄⋅v ⋅sin (\\beta)⋅cos(\\beta) - \n",
       "──────────────────────────────────────────────────────────────────────────────\n",
       "                                                                              \n",
       "                                                                              \n",
       "                                                                              \n",
       "                                                                              \n",
       "      2                        2                                              \n",
       "- β₃⋅v ⋅v_L⋅cos(2⋅\\beta) + β₃⋅v ⋅v_L                                          \n",
       "                                                                              \n",
       "────────────────────────────────────                                          \n",
       "                                                                              \n",
       "                                                                              \n",
       "                                                                              \n",
       "      2                        2                                              \n",
       "- β₃⋅v ⋅v_R⋅cos(2⋅\\beta) + β₃⋅v ⋅v_R                                          \n",
       "                                                                              \n",
       "────────────────────────────────────                                          \n",
       "                                                                              \n",
       "\n",
       "                                                                              \n",
       "                                                                              \n",
       "   4    3                                 4               5                   \n",
       "₄⋅v ⋅sin (\\beta)⋅cos(\\beta) - 8⋅\\lambda₄⋅v ⋅sin(\\beta)⋅cos (\\beta) + √2⋅\\rho₁⋅\n",
       "──────────────────────────────────────────────────────────────────────────────\n",
       "                                                                              \n",
       "                                                                              \n",
       "                                                                              \n",
       "            4    5                      4                          2    2     \n",
       "6⋅\\lambda₄⋅v ⋅cos (\\beta) + 2⋅\\lambda₄⋅v ⋅cos(\\beta) - √2⋅\\rho₁⋅v_L ⋅v_R ⋅sin(\n",
       "──────────────────────────────────────────────────────────────────────────────\n",
       "                                                                              \n",
       "                                                                              \n",
       "                                                                              \n",
       "                                                                              \n",
       "                                                                              \n",
       "                                                                              \n",
       "                                                                              \n",
       "                                                                              \n",
       "                                                                              \n",
       "                                                                              \n",
       "                                                                              \n",
       "                                                                              \n",
       "                                                                              \n",
       "                                                                              \n",
       "                                                                              \n",
       "                                                                              \n",
       "\n",
       "                                                                              \n",
       "                                                                              \n",
       "   2    2    2                      2    2    2                2            3 \n",
       "v_L ⋅v_R ⋅sin (\\beta) - √2⋅\\rho₃⋅v_L ⋅v_R ⋅sin (\\beta) - 2⋅β₁⋅v ⋅v_L⋅v_R⋅sin (\n",
       "──────────────────────────────────────────────────────────────────────────────\n",
       "                                                                              \n",
       "                                                                              \n",
       "                                                                              \n",
       "                     2    2                    2            2                 \n",
       "\\beta) + √2⋅\\rho₃⋅v_L ⋅v_R ⋅sin(\\beta) + 2⋅β₁⋅v ⋅v_L⋅v_R⋅sin (\\beta)⋅cos(\\beta\n",
       "──────────────────────────────────────────────────────────────────────────────\n",
       "                                                                              \n",
       "                                                                              \n",
       "                                                                              \n",
       "                                                                              \n",
       "                                                                              \n",
       "                                                                              \n",
       "                                                                              \n",
       "                                                                              \n",
       "                                                                              \n",
       "                                                                              \n",
       "                                                                              \n",
       "                                                                              \n",
       "                                                                              \n",
       "                                                                              \n",
       "                                                                              \n",
       "                                                                              \n",
       "\n",
       "                                                                              \n",
       "                                                                              \n",
       "                          2            2                    2    2    3       \n",
       "\\beta)⋅cos(\\beta) - 2⋅β₃⋅v ⋅v_L⋅v_R⋅sin (\\beta)  - \\alpha₃⋅v ⋅v_L ⋅sin (\\beta)\n",
       "───────────────────────────────────────────────  ─────────────────────────────\n",
       "                                                                              \n",
       "                                                                              \n",
       "                                                                              \n",
       "          2                                                                   \n",
       ") + 2⋅β₃⋅v ⋅v_L⋅v_R⋅sin(\\beta)                                                \n",
       "──────────────────────────────                                                \n",
       "                                                                              \n",
       "                                                                              \n",
       "                                                                              \n",
       "                                                                              \n",
       "                                                                              \n",
       "                                                                              \n",
       "                                                                              \n",
       "                                                                              \n",
       "                                                                              \n",
       "                                                                              \n",
       "                                                                              \n",
       "                                                                              \n",
       "                                                                              \n",
       "                                                                              \n",
       "                                                                              \n",
       "                                                                              \n",
       "\n",
       "                                                                              \n",
       "                                                                              \n",
       "            2    2                       2    2    3                   2    2 \n",
       " + \\alpha₃⋅v ⋅v_L ⋅sin(\\beta) - \\alpha₃⋅v ⋅v_R ⋅sin (\\beta) + \\alpha₃⋅v ⋅v_R ⋅\n",
       "──────────────────────────────────────────────────────────────────────────────\n",
       "                                                                              \n",
       "                                                                              \n",
       "                                                                              \n",
       "                                                                              \n",
       "                                                                              \n",
       "                                                                              \n",
       "                                                                              \n",
       "                                                                              \n",
       "                                                                              \n",
       "                                                                              \n",
       "                                                                              \n",
       "                                                                              \n",
       "                                                                              \n",
       "                                                                              \n",
       "                                                                              \n",
       "                                                                              \n",
       "                                                                              \n",
       "                                                                              \n",
       "                                                                              \n",
       "                                                                              \n",
       "                                                                              \n",
       "                                                                              \n",
       "\n",
       "                                                                              \n",
       "                                                                              \n",
       "                         4    5                       4    3                  \n",
       "sin(\\beta) - 8⋅\\lambda₁⋅v ⋅sin (\\beta) + 12⋅\\lambda₁⋅v ⋅sin (\\beta) - 4⋅\\lambd\n",
       "──────────────────────────────────────────────────────────────────────────────\n",
       "                                                                              \n",
       "                                                                              \n",
       "                                                                              \n",
       "                                                                           2  \n",
       "                                                                \\alpha₃⋅v_L   \n",
       "                                                              - ──────────── -\n",
       "                                                                     8        \n",
       "                                                                              \n",
       "                                                                              \n",
       "                                                                              \n",
       "                                                                              \n",
       "                                                                              \n",
       "                                                                              \n",
       "                                                                              \n",
       "                                                                              \n",
       "                                                                              \n",
       "                                                                              \n",
       "                                                                              \n",
       "                                                                              \n",
       "                                                                              \n",
       "                                                                              \n",
       "                                                                              \n",
       "\n",
       "                                                                              \n",
       "                                                                              \n",
       "    4                           4    5                       4    3           \n",
       "a₁⋅v ⋅sin(\\beta) - 16⋅\\lambda₂⋅v ⋅sin (\\beta) + 24⋅\\lambda₂⋅v ⋅sin (\\beta) - 8\n",
       "──────────────────────────────────────────────────────────────────────────────\n",
       "                                                                              \n",
       "                                                                              \n",
       "                                                                              \n",
       "             2               2               2              2                 \n",
       "  \\alpha₃⋅v_L     \\alpha₃⋅v_R     \\alpha₃⋅v_R     \\lambda₁⋅v ⋅cos(2⋅\\beta)   \\\n",
       " ────────────── - ──────────── - ────────────── + ──────────────────────── - ─\n",
       " 8⋅cos(2⋅\\beta)        8         8⋅cos(2⋅\\beta)              2                \n",
       "                                                                              \n",
       "                                                                              \n",
       "                                                                              \n",
       "                                                                              \n",
       "                                                                              \n",
       "                                                                      -v⋅(2⋅\\a\n",
       "                                                                      ────────\n",
       "                                                                              \n",
       "                                                                              \n",
       "                                                                              \n",
       "                                                                              \n",
       "                                                                              \n",
       "                                                                      -v⋅(2⋅\\a\n",
       "                                                                      ────────\n",
       "                                                                              \n",
       "\n",
       "                                                                              \n",
       "                                                                              \n",
       "           4                          4    5                       4    3     \n",
       "⋅\\lambda₂⋅v ⋅sin(\\beta) - 8⋅\\lambda₃⋅v ⋅sin (\\beta) + 12⋅\\lambda₃⋅v ⋅sin (\\bet\n",
       "──────────────────────────────────────────────────────────────────────────────\n",
       "                                             2                                \n",
       "                                          4⋅v ⋅cos(\\beta)⋅cos(2⋅\\beta)        \n",
       "                                                                              \n",
       "         2                                                      2             \n",
       "lambda₁⋅v              2                          2   \\lambda₃⋅v ⋅cos(2⋅\\beta)\n",
       "────────── - \\lambda₂⋅v ⋅cos(2⋅\\beta) - \\lambda₂⋅v  - ────────────────────────\n",
       "    2                                                            2            \n",
       "                                                                              \n",
       "                                                                              \n",
       "                                                                              \n",
       "                                                                              \n",
       "                                                                              \n",
       "lpha₁⋅v_R⋅sin(\\beta) + 4⋅\\alpha₂⋅v_R⋅cos(\\beta) + 2⋅\\alpha₃⋅v_R⋅sin(\\beta) + β\n",
       "──────────────────────────────────────────────────────────────────────────────\n",
       "                                                      4                       \n",
       "                                                                              \n",
       "                                                                              \n",
       "                                                                              \n",
       "                                                                              \n",
       "lpha₁⋅v_L⋅sin(\\beta) + 4⋅\\alpha₂⋅v_L⋅cos(\\beta) + 2⋅\\alpha₃⋅v_L⋅sin(\\beta) + β\n",
       "──────────────────────────────────────────────────────────────────────────────\n",
       "                                                      4                       \n",
       "\n",
       "                                                                              \n",
       "                                                                              \n",
       "                 4                          4    4                            \n",
       "a) - 4⋅\\lambda₃⋅v ⋅sin(\\beta) + 6⋅\\lambda₄⋅v ⋅sin (\\beta)⋅cos(\\beta) - 4⋅\\lamb\n",
       "──────────────────────────────────────────────────────────────────────────────\n",
       "                                                                              \n",
       "                                                                              \n",
       "                                                                              \n",
       "             2             2                            2    2               2\n",
       "   \\lambda₃⋅v    \\lambda₄⋅v ⋅sin(4⋅\\beta)   √2⋅\\rho₁⋅v_L ⋅v_R    √2⋅\\rho₃⋅v_L \n",
       " - ─────────── - ──────────────────────── + ────────────────── - ─────────────\n",
       "        2             2⋅cos(2⋅\\beta)           2                    2         \n",
       "                                            4⋅v ⋅cos(2⋅\\beta)    4⋅v ⋅cos(2⋅\\b\n",
       "                                                                              \n",
       "                                                                              \n",
       "                                                                              \n",
       "                                                                              \n",
       "₁⋅v_L⋅cos(\\beta) + 2⋅β₃⋅v_L⋅sin(\\beta))                                       \n",
       "────────────────────────────────────────                                      \n",
       "                                                                              \n",
       "                                                                              \n",
       "                                                                              \n",
       "                                                                              \n",
       "                                                                              \n",
       "₁⋅v_R⋅cos(\\beta) + 2⋅β₃⋅v_R⋅sin(\\beta))                                       \n",
       "────────────────────────────────────────                                      \n",
       "                                                                              \n",
       "\n",
       "                                                                              \n",
       "                                                                              \n",
       "     4    2                                 4    5                      4     \n",
       "da₄⋅v ⋅sin (\\beta)⋅cos(\\beta) - 6⋅\\lambda₄⋅v ⋅cos (\\beta) + 2⋅\\lambda₄⋅v ⋅cos(\n",
       "──────────────────────────────────────────────────────────────────────────────\n",
       "                                                                              \n",
       "                                                                              \n",
       "                                                                              \n",
       "    2                                                                         \n",
       "⋅v_R    β₁⋅v_L⋅v_R⋅tan(2⋅\\beta)     β₃⋅v_L⋅v_R                                \n",
       "───── - ─────────────────────── - ──────────────                              \n",
       "                   4              2⋅cos(2⋅\\beta)                              \n",
       "eta)                                                                          \n",
       "                                                                              \n",
       "                                                                              \n",
       "                                                                              \n",
       "                                                                              \n",
       "                                                                              \n",
       "                                                                              \n",
       "                                                                              \n",
       "                                                                              \n",
       "                                                                              \n",
       "                                                                              \n",
       "                                                                              \n",
       "                                                                              \n",
       "                                                                              \n",
       "                                                                              \n",
       "\n",
       "                                                                              \n",
       "                                                                              \n",
       "                     2    2                          2    2                   \n",
       "\\beta) - √2⋅\\rho₁⋅v_L ⋅v_R ⋅sin(\\beta) + √2⋅\\rho₃⋅v_L ⋅v_R ⋅sin(\\beta) + 2⋅β₁⋅\n",
       "──────────────────────────────────────────────────────────────────────────────\n",
       "                                                                              \n",
       "                                                                              \n",
       "                                                                              \n",
       "                                                                              \n",
       "                                                                              \n",
       "                                                                              \n",
       "                                                                              \n",
       "                                                                              \n",
       "                                                                              \n",
       "                                                                              \n",
       "                                                                              \n",
       "                                                                              \n",
       "                                                                              \n",
       "                                                                              \n",
       "                                                                              \n",
       "                                                                              \n",
       "                                                                              \n",
       "                                                                              \n",
       "                                                                              \n",
       "                                                                              \n",
       "                                                                              \n",
       "                                                                              \n",
       "\n",
       "                                                                              \n",
       "                                                                           2  \n",
       " 2            2                           2                     - \\alpha₁⋅v ⋅v\n",
       "v ⋅v_L⋅v_R⋅sin (\\beta)⋅cos(\\beta) + 2⋅β₃⋅v ⋅v_L⋅v_R⋅sin(\\beta)                \n",
       "──────────────────────────────────────────────────────────────  ──────────────\n",
       "                                                                              \n",
       "                                                                              \n",
       "                                                                              \n",
       "                                                                              \n",
       "                                                                              \n",
       "                                                                              \n",
       "                                                                              \n",
       "                                                                              \n",
       "                                                                              \n",
       "                                                                              \n",
       "                                                                              \n",
       "                                                                              \n",
       "                                                                              \n",
       "                                                                              \n",
       "                                                                              \n",
       "                                                                              \n",
       "                                                                              \n",
       "                                                                              \n",
       "                                                                              \n",
       "                                                                              \n",
       "                                                                              \n",
       "                                                                              \n",
       "\n",
       "                                                                              \n",
       "                           2                  2                               \n",
       "_R⋅cos(2⋅\\beta) - \\alpha₁⋅v ⋅v_R - 2⋅\\alpha₂⋅v ⋅v_R⋅sin(2⋅\\beta) - √2⋅\\rho₁⋅v_\n",
       "                                                                              \n",
       "──────────────────────────────────────────────────────────────────────────────\n",
       "                                                                     4⋅v⋅cos(\\\n",
       "                                                                              \n",
       "                                                                              \n",
       "                                                                              \n",
       "             -v⋅(2⋅\\alpha₁⋅v_R⋅sin(\\beta) + 4⋅\\alpha₂⋅v_R⋅cos(\\beta) + 2⋅\\alph\n",
       "             ─────────────────────────────────────────────────────────────────\n",
       "                                                                           4  \n",
       "                                                                              \n",
       "                                                                              \n",
       "                                                                              \n",
       "                                                                              \n",
       "                            2            2                         2          \n",
       "                   \\alpha₁⋅v    \\alpha₂⋅v ⋅sin(2⋅\\beta)   \\alpha₃⋅v ⋅cos(2⋅\\be\n",
       "                   ────────── + ─────────────────────── - ────────────────────\n",
       "                       4                   2                         8        \n",
       "                                                                              \n",
       "                                                                              \n",
       "                                                                              \n",
       "                                                                              \n",
       "                                                        v_L⋅v_R⋅(-4⋅\\rho₃ + √2\n",
       "                                                        ──────────────────────\n",
       "                                                                           8  \n",
       "\n",
       "                                 2                                            \n",
       " 2                   2       β₁⋅v ⋅v_L⋅sin(2⋅\\beta)       2                   \n",
       "L ⋅v_R + √2⋅\\rho₃⋅v_L ⋅v_R + ────────────────────── - β₃⋅v ⋅v_L⋅cos(2⋅\\beta) +\n",
       "                                       2                                      \n",
       "──────────────────────────────────────────────────────────────────────────────\n",
       "beta)                                                                         \n",
       "                                                                              \n",
       "                                                                              \n",
       "                                                                              \n",
       "a₃⋅v_R⋅sin(\\beta) + β₁⋅v_L⋅cos(\\beta) + 2⋅β₃⋅v_L⋅sin(\\beta))                  \n",
       "─────────────────────────────────────────────────────────────                 \n",
       "                                                                              \n",
       "                                                                              \n",
       "                                                                              \n",
       "                                                                              \n",
       "                                                                              \n",
       "               2            2                         2                       \n",
       "ta)   \\alpha₃⋅v    \\rho₁⋅v_L             2   \\rho₃⋅v_L                        \n",
       "─── + ────────── + ────────── - \\rho₁⋅v_R  - ──────────                       \n",
       "          8            2                         4                            \n",
       "                                                                              \n",
       "                                                                              \n",
       "                                                                              \n",
       "                                                                              \n",
       "⋅(-\\rho₁ + \\rho₃))                                                            \n",
       "──────────────────                                                            \n",
       "                                                                              \n",
       "\n",
       "                                                                              \n",
       "     2                 2                             2                  2     \n",
       " β₃⋅v ⋅v_L  - \\alpha₁⋅v ⋅v_L⋅cos(2⋅\\beta) - \\alpha₁⋅v ⋅v_L - 2⋅\\alpha₂⋅v ⋅v_L⋅\n",
       "                                                                              \n",
       "──────────  ──────────────────────────────────────────────────────────────────\n",
       "                                                                              \n",
       "                                                                              \n",
       "                                                                              \n",
       "                                                                              \n",
       "                                       -v⋅(2⋅\\alpha₁⋅v_L⋅sin(\\beta) + 4⋅\\alpha\n",
       "                                       ───────────────────────────────────────\n",
       "                                                                              \n",
       "                                                                              \n",
       "                                                                              \n",
       "                                                                              \n",
       "                                                                              \n",
       "                                                                              \n",
       "                                                                              \n",
       "                                                                              \n",
       "                                                                              \n",
       "                                                                              \n",
       "                                                                              \n",
       "                                                                              \n",
       "                                                      2            2          \n",
       "                                             \\alpha₁⋅v    \\alpha₂⋅v ⋅sin(2⋅\\be\n",
       "                                             ────────── + ────────────────────\n",
       "                                                 4                   2        \n",
       "\n",
       "                                                           2                  \n",
       "                               2                   2   β₁⋅v ⋅v_R⋅sin(2⋅\\beta) \n",
       "sin(2⋅\\beta) - √2⋅\\rho₁⋅v_L⋅v_R  + √2⋅\\rho₃⋅v_L⋅v_R  + ────────────────────── \n",
       "                                                                 2            \n",
       "──────────────────────────────────────────────────────────────────────────────\n",
       "                 4⋅v⋅cos(\\beta)                                               \n",
       "                                                                              \n",
       "                                                                              \n",
       "                                                                              \n",
       "₂⋅v_L⋅cos(\\beta) + 2⋅\\alpha₃⋅v_L⋅sin(\\beta) + β₁⋅v_R⋅cos(\\beta) + 2⋅β₃⋅v_R⋅sin\n",
       "──────────────────────────────────────────────────────────────────────────────\n",
       "                       4                                                      \n",
       "                                                                              \n",
       "                                                                              \n",
       "                                                                              \n",
       "                                                                              \n",
       "                                                                              \n",
       "    v_L⋅v_R⋅(-4⋅\\rho₃ + √2⋅(-\\rho₁ + \\rho₃))                                  \n",
       "    ────────────────────────────────────────                                  \n",
       "                       8                                                      \n",
       "                                                                              \n",
       "                                                                              \n",
       "                                                                              \n",
       "               2                         2                         2          \n",
       "ta)   \\alpha₃⋅v ⋅cos(2⋅\\beta)   \\alpha₃⋅v             2   \\rho₁⋅v_R    \\rho₃⋅v\n",
       "─── - ─────────────────────── + ────────── - \\rho₁⋅v_L  + ────────── - ───────\n",
       "                 8                  8                         2            4  \n",
       "\n",
       "                                    ⎤\n",
       "      2                        2    ⎥\n",
       "- β₃⋅v ⋅v_R⋅cos(2⋅\\beta) + β₃⋅v ⋅v_R⎥\n",
       "                                    ⎥\n",
       "────────────────────────────────────⎥\n",
       "                                    ⎥\n",
       "                                    ⎥\n",
       "                                    ⎥\n",
       "                                    ⎥\n",
       "(\\beta))                            ⎥\n",
       "─────────                           ⎥\n",
       "                                    ⎥\n",
       "                                    ⎥\n",
       "                                    ⎥\n",
       "                                    ⎥\n",
       "                                    ⎥\n",
       "                                    ⎥\n",
       "                                    ⎥\n",
       "                                    ⎥\n",
       "                                    ⎥\n",
       "                                    ⎥\n",
       "                                    ⎥\n",
       "                                    ⎥\n",
       "  2                                 ⎥\n",
       "_R                                  ⎥\n",
       "───                                 ⎥\n",
       "                                    ⎦"
      ]
     },
     "execution_count": 118,
     "metadata": {},
     "output_type": "execute_result"
    }
   ],
   "source": [
    "phii_fields = [phi10i, phi20i, deltaR0i, deltaL0i]\n",
    "MI_square = (derive_by_array(derive_by_array(VLRPhi_ri_tadpole, phii_fields), phii_fields)/2).subs(\n",
    "    vevPhi\n",
    ").subs(vevL).subs(vevR).simplify()\n",
    "MI_square"
   ]
  },
  {
   "cell_type": "code",
   "execution_count": 119,
   "metadata": {},
   "outputs": [],
   "source": [
    "from sympy import simplify"
   ]
  },
  {
   "cell_type": "code",
   "execution_count": 120,
   "metadata": {},
   "outputs": [
    {
     "data": {
      "image/png": "[encoded data removed]",
      "text/latex": [
       "$\\displaystyle \\frac{- \\alpha_{3} v^{2} \\cos^{2}{\\left(\\beta \\right)} \\tan^{2}{\\left(\\beta \\right)} + \\sqrt{2} \\rho_{1} v_{L}^{2} \\tan^{2}{\\left(\\beta \\right)} - \\sqrt{2} \\rho_{3} v_{L}^{2} \\tan^{2}{\\left(\\beta \\right)}}{4 v^{2} \\cos{\\left(2 \\beta \\right)}}$"
      ],
      "text/plain": [
       "           2    2           2                      2    2                     \n",
       "- \\alpha₃⋅v ⋅cos (\\beta)⋅tan (\\beta) + √2⋅\\rho₁⋅v_L ⋅tan (\\beta) - √2⋅\\rho₃⋅v_\n",
       "──────────────────────────────────────────────────────────────────────────────\n",
       "                                        2                                     \n",
       "                                     4⋅v ⋅cos(2⋅\\beta)                        \n",
       "\n",
       " 2    2       \n",
       "L ⋅tan (\\beta)\n",
       "──────────────\n",
       "              \n",
       "              "
      ]
     },
     "execution_count": 120,
     "metadata": {},
     "output_type": "execute_result"
    }
   ],
   "source": [
    "MI_square[0, 0].expand().collect(vR, simplify, evaluate=False)[vR**2].cancel()"
   ]
  },
  {
   "cell_type": "code",
   "execution_count": 121,
   "metadata": {},
   "outputs": [
    {
     "data": {
      "image/png": "[encoded data removed]",
      "text/latex": [
       "$\\displaystyle \\frac{\\alpha_{1} v^{2}}{4} + \\frac{\\alpha_{2} v^{2} \\sin{\\left(2 \\beta \\right)}}{2} - \\frac{\\alpha_{3} v^{2} \\cos{\\left(2 \\beta \\right)}}{8} + \\frac{\\alpha_{3} v^{2}}{8} - \\rho_{1} v_{L}^{2} + v_{R}^{2} \\left(\\frac{\\rho_{1}}{2} - \\frac{\\rho_{3}}{4}\\right)$"
      ],
      "text/plain": [
       "         2            2                         2                         2   \n",
       "\\alpha₁⋅v    \\alpha₂⋅v ⋅sin(2⋅\\beta)   \\alpha₃⋅v ⋅cos(2⋅\\beta)   \\alpha₃⋅v    \n",
       "────────── + ─────────────────────── - ─────────────────────── + ────────── - \n",
       "    4                   2                         8                  8        \n",
       "\n",
       "                                 \n",
       "         2      2 ⎛\\rho₁   \\rho₃⎞\n",
       "\\rho₁⋅v_L  + v_R ⋅⎜───── - ─────⎟\n",
       "                  ⎝  2       4  ⎠"
      ]
     },
     "execution_count": 121,
     "metadata": {},
     "output_type": "execute_result"
    }
   ],
   "source": [
    "MI_square[3, 3].expand().collect(vR, simplify)"
   ]
  },
  {
   "cell_type": "code",
   "execution_count": 122,
   "metadata": {},
   "outputs": [
    {
     "data": {
      "image/png": "[encoded data removed]",
      "text/latex": [
       "$\\displaystyle \\left\\{ \\delta^{+}_{L} : 0, \\  \\delta^{0}_{L} : v_{L}, \\  \\delta_L^{++} : 0, \\  \\delta_L^{0i} : 0, \\  \\delta_L^{0r} : v_{L}\\right\\}$"
      ],
      "text/plain": [
       "{\\delta_L__+: 0, \\delta_L__0: v_L, \\delta_L__{++}: 0, \\delta_L__{0i}: 0, \\delt\n",
       "a_L__{0r}: v_L}"
      ]
     },
     "execution_count": 122,
     "metadata": {},
     "output_type": "execute_result"
    }
   ],
   "source": [
    "vevL"
   ]
  },
  {
   "cell_type": "code",
   "execution_count": 123,
   "metadata": {},
   "outputs": [],
   "source": [
    "vevL[deltaLmm] = 0\n",
    "vevL[deltaRmm] = 0\n",
    "vevL[deltaLm] = 0\n",
    "vevL[deltaRm] = 0"
   ]
  },
  {
   "cell_type": "code",
   "execution_count": 124,
   "metadata": {},
   "outputs": [
    {
     "data": {
      "text/latex": [
       "$\\displaystyle \\left[\\begin{matrix}0 & \\frac{- \\alpha_{3} v^{2} v_{L}^{2} \\sin{\\left(\\beta \\right)} \\cos{\\left(\\beta \\right)} - \\alpha_{3} v^{2} v_{R}^{2} \\sin{\\left(\\beta \\right)} \\cos{\\left(\\beta \\right)} + \\sqrt{2} \\rho_{1} v_{L}^{2} v_{R}^{2} \\tan{\\left(\\beta \\right)} - \\sqrt{2} \\rho_{3} v_{L}^{2} v_{R}^{2} \\tan{\\left(\\beta \\right)} - \\beta_{1} v^{2} v_{L} v_{R} - 2 \\beta_{3} v^{2} v_{L} v_{R} \\tan{\\left(\\beta \\right)}}{4 v^{2} \\cdot \\left(1 - 2 \\cos^{2}{\\left(\\beta \\right)}\\right)} & \\frac{\\sqrt{2} v_{L} \\left(\\beta_{1} v^{2} \\sin{\\left(2 \\beta \\right)} + 2 \\beta_{3} v^{2} \\sin^{2}{\\left(\\beta \\right)} + \\sqrt{2} v_{L} v_{R} \\left(- \\rho_{1} + \\rho_{3}\\right)\\right)}{16 v \\cos{\\left(\\beta \\right)}} & \\frac{\\sqrt{2} \\beta_{3} v v_{R} \\sin{\\left(\\beta \\right)}}{8}\\\\\\frac{- \\alpha_{3} v^{2} v_{L}^{2} \\sin{\\left(\\beta \\right)} \\cos{\\left(\\beta \\right)} - \\alpha_{3} v^{2} v_{R}^{2} \\sin{\\left(\\beta \\right)} \\cos{\\left(\\beta \\right)} + \\sqrt{2} \\rho_{1} v_{L}^{2} v_{R}^{2} \\tan{\\left(\\beta \\right)} - \\sqrt{2} \\rho_{3} v_{L}^{2} v_{R}^{2} \\tan{\\left(\\beta \\right)} - \\beta_{1} v^{2} v_{L} v_{R} - 2 \\beta_{3} v^{2} v_{L} v_{R} \\tan{\\left(\\beta \\right)}}{4 v^{2} \\cdot \\left(1 - 2 \\cos^{2}{\\left(\\beta \\right)}\\right)} & 0 & \\frac{\\sqrt{2} \\beta_{3} v v_{L} \\sin{\\left(\\beta \\right)}}{8} & \\frac{\\sqrt{2} v_{R} \\left(\\beta_{1} v^{2} \\sin{\\left(2 \\beta \\right)} + 2 \\beta_{3} v^{2} \\sin^{2}{\\left(\\beta \\right)} + \\sqrt{2} v_{L} v_{R} \\left(- \\rho_{1} + \\rho_{3}\\right)\\right)}{16 v \\cos{\\left(\\beta \\right)}}\\\\\\frac{\\sqrt{2} v_{L} \\left(\\beta_{1} v^{2} \\sin{\\left(2 \\beta \\right)} + 2 \\beta_{3} v^{2} \\sin^{2}{\\left(\\beta \\right)} + \\sqrt{2} v_{L} v_{R} \\left(- \\rho_{1} + \\rho_{3}\\right)\\right)}{16 v \\cos{\\left(\\beta \\right)}} & \\frac{\\sqrt{2} \\beta_{3} v v_{L} \\sin{\\left(\\beta \\right)}}{8} & 0 & 0\\\\\\frac{\\sqrt{2} \\beta_{3} v v_{R} \\sin{\\left(\\beta \\right)}}{8} & \\frac{\\sqrt{2} v_{R} \\left(\\beta_{1} v^{2} \\sin{\\left(2 \\beta \\right)} + 2 \\beta_{3} v^{2} \\sin^{2}{\\left(\\beta \\right)} + \\sqrt{2} v_{L} v_{R} \\left(- \\rho_{1} + \\rho_{3}\\right)\\right)}{16 v \\cos{\\left(\\beta \\right)}} & 0 & 0\\end{matrix}\\right]$"
      ],
      "text/plain": [
       "⎡                                                                             \n",
       "⎢                                                                             \n",
       "⎢                                                                             \n",
       "⎢                                                                             \n",
       "⎢                                                                             \n",
       "⎢                                                                             \n",
       "⎢           2    2                                  2    2                    \n",
       "⎢- \\alpha₃⋅v ⋅v_L ⋅sin(\\beta)⋅cos(\\beta) - \\alpha₃⋅v ⋅v_R ⋅sin(\\beta)⋅cos(\\bet\n",
       "⎢─────────────────────────────────────────────────────────────────────────────\n",
       "⎢                                                                             \n",
       "⎢                                                                             \n",
       "⎢                                                                             \n",
       "⎢                                                             ⎛    2          \n",
       "⎢                                                      √2⋅v_L⋅⎝β₁⋅v ⋅sin(2⋅\\be\n",
       "⎢                                                      ───────────────────────\n",
       "⎢                                                                             \n",
       "⎢                                                                             \n",
       "⎢                                                                             \n",
       "⎢                                                                             \n",
       "⎢                                                                             \n",
       "⎣                                                                             \n",
       "\n",
       "                                                                              \n",
       "                                                                              \n",
       "                0                                                             \n",
       "                                                                              \n",
       "                                                                              \n",
       "                                                                              \n",
       "                 2    2                          2    2                  2    \n",
       "a) + √2⋅\\rho₁⋅v_L ⋅v_R ⋅tan(\\beta) - √2⋅\\rho₃⋅v_L ⋅v_R ⋅tan(\\beta) - β₁⋅v ⋅v_L\n",
       "──────────────────────────────────────────────────────────────────────────────\n",
       "        2 ⎛         2       ⎞                                                 \n",
       "     4⋅v ⋅⎝1 - 2⋅cos (\\beta)⎠                                                 \n",
       "                                                                              \n",
       "            2    2                                     ⎞                      \n",
       "ta) + 2⋅β₃⋅v ⋅sin (\\beta) + √2⋅v_L⋅v_R⋅(-\\rho₁ + \\rho₃)⎠                      \n",
       "────────────────────────────────────────────────────────                      \n",
       "         16⋅v⋅cos(\\beta)                                                      \n",
       "                                                                              \n",
       "                                                                              \n",
       "      √2⋅β₃⋅v⋅v_R⋅sin(\\beta)                                                  \n",
       "      ──────────────────────                                                  \n",
       "                8                                                             \n",
       "\n",
       "                                              2    2                          \n",
       "                                   - \\alpha₃⋅v ⋅v_L ⋅sin(\\beta)⋅cos(\\beta) - \\\n",
       "                                   ───────────────────────────────────────────\n",
       "                                                                              \n",
       "                                                                              \n",
       "                                                                              \n",
       "             2                                                                \n",
       "⋅v_R - 2⋅β₃⋅v ⋅v_L⋅v_R⋅tan(\\beta)                                             \n",
       "─────────────────────────────────                                             \n",
       "                                                                              \n",
       "                                                                              \n",
       "                                                                              \n",
       "                                                                              \n",
       "                                                                              \n",
       "                                                                              \n",
       "                                                                              \n",
       "                                                                              \n",
       "                                                                              \n",
       "                                                                              \n",
       "                                                                              \n",
       "                                                                              \n",
       "\n",
       "        2    2                                     2    2                     \n",
       "alpha₃⋅v ⋅v_R ⋅sin(\\beta)⋅cos(\\beta) + √2⋅\\rho₁⋅v_L ⋅v_R ⋅tan(\\beta) - √2⋅\\rho\n",
       "──────────────────────────────────────────────────────────────────────────────\n",
       "                                          2 ⎛         2       ⎞               \n",
       "                                       4⋅v ⋅⎝1 - 2⋅cos (\\beta)⎠               \n",
       "                                                                              \n",
       "                                                                              \n",
       "                                                                              \n",
       "                                                  0                           \n",
       "                                                                              \n",
       "                                                                              \n",
       "                                                                              \n",
       "                                                                              \n",
       "                                        √2⋅β₃⋅v⋅v_L⋅sin(\\beta)                \n",
       "                                        ──────────────────────                \n",
       "                                                  8                           \n",
       "                                                                              \n",
       "                  ⎛    2                      2    2                          \n",
       "           √2⋅v_R⋅⎝β₁⋅v ⋅sin(2⋅\\beta) + 2⋅β₃⋅v ⋅sin (\\beta) + √2⋅v_L⋅v_R⋅(-\\rh\n",
       "           ───────────────────────────────────────────────────────────────────\n",
       "                                           16⋅v⋅cos(\\beta)                    \n",
       "\n",
       "     2    2                  2                 2                            ⎛ \n",
       "₃⋅v_L ⋅v_R ⋅tan(\\beta) - β₁⋅v ⋅v_L⋅v_R - 2⋅β₃⋅v ⋅v_L⋅v_R⋅tan(\\beta)  √2⋅v_L⋅⎝β\n",
       "───────────────────────────────────────────────────────────────────  ─────────\n",
       "                                                                              \n",
       "                                                                              \n",
       "                                                                              \n",
       "                                                                              \n",
       "                                                                              \n",
       "                                                                              \n",
       "                                                                              \n",
       "                                                                              \n",
       "                                                                              \n",
       "                                                                              \n",
       "                                                                              \n",
       "                                                                              \n",
       "                                                                              \n",
       "                                                                              \n",
       "           ⎞                                                                  \n",
       "o₁ + \\rho₃)⎠                                                                  \n",
       "────────────                                                                  \n",
       "                                                                              \n",
       "\n",
       "   2                      2    2                                     ⎞        \n",
       "₁⋅v ⋅sin(2⋅\\beta) + 2⋅β₃⋅v ⋅sin (\\beta) + √2⋅v_L⋅v_R⋅(-\\rho₁ + \\rho₃)⎠        \n",
       "──────────────────────────────────────────────────────────────────────        \n",
       "                       16⋅v⋅cos(\\beta)                                        \n",
       "                                                                              \n",
       "                                                                              \n",
       "                                                                              \n",
       "                   √2⋅β₃⋅v⋅v_L⋅sin(\\beta)                               √2⋅v_R\n",
       "                   ──────────────────────                               ──────\n",
       "                             8                                                \n",
       "                                                                              \n",
       "                                                                              \n",
       "                                                                              \n",
       "                                                                              \n",
       "                              0                                               \n",
       "                                                                              \n",
       "                                                                              \n",
       "                                                                              \n",
       "                                                                              \n",
       "                              0                                               \n",
       "                                                                              \n",
       "\n",
       "                                                                         ⎤\n",
       "                      √2⋅β₃⋅v⋅v_R⋅sin(\\beta)                             ⎥\n",
       "                      ──────────────────────                             ⎥\n",
       "                                8                                        ⎥\n",
       "                                                                         ⎥\n",
       "                                                                         ⎥\n",
       " ⎛    2                      2    2                                     ⎞⎥\n",
       "⋅⎝β₁⋅v ⋅sin(2⋅\\beta) + 2⋅β₃⋅v ⋅sin (\\beta) + √2⋅v_L⋅v_R⋅(-\\rho₁ + \\rho₃)⎠⎥\n",
       "─────────────────────────────────────────────────────────────────────────⎥\n",
       "                          16⋅v⋅cos(\\beta)                                ⎥\n",
       "                                                                         ⎥\n",
       "                                                                         ⎥\n",
       "                                                                         ⎥\n",
       "                                                                         ⎥\n",
       "                                 0                                       ⎥\n",
       "                                                                         ⎥\n",
       "                                                                         ⎥\n",
       "                                                                         ⎥\n",
       "                                                                         ⎥\n",
       "                                 0                                       ⎥\n",
       "                                                                         ⎦"
      ]
     },
     "execution_count": 124,
     "metadata": {},
     "output_type": "execute_result"
    }
   ],
   "source": [
    "phip_fields = [phi1p, phi2p, deltaRp, deltaLp]\n",
    "Mp_square = (derive_by_array(derive_by_array(VLRPhi_ri_tadpole, phip_fields), phip_fields)/2).subs(\n",
    "    vevPhi\n",
    ").subs(vevL).subs(vevR).simplify()\n",
    "Mp_square"
   ]
  },
  {
   "cell_type": "code",
   "execution_count": 126,
   "metadata": {},
   "outputs": [
    {
     "data": {
      "text/latex": [
       "$\\displaystyle \\left[\\begin{matrix}\\left(\\delta_R^{++}\\right)^{2} \\rho_{1} & \\frac{\\delta_L^{++} \\delta_R^{++} \\rho_{3}}{2}\\\\\\frac{\\delta_L^{++} \\delta_R^{++} \\rho_{3}}{2} & \\left(\\delta_L^{++}\\right)^{2} \\rho_{1}\\end{matrix}\\right]$"
      ],
      "text/plain": [
       "⎡                     2               \\delta_L__{++}⋅\\delta_R__{++}⋅\\rho₃⎤\n",
       "⎢       \\delta_R__{++} ⋅\\rho₁         ───────────────────────────────────⎥\n",
       "⎢                                                      2                 ⎥\n",
       "⎢                                                                        ⎥\n",
       "⎢\\delta_L__{++}⋅\\delta_R__{++}⋅\\rho₃                       2             ⎥\n",
       "⎢───────────────────────────────────         \\delta_L__{++} ⋅\\rho₁       ⎥\n",
       "⎣                 2                                                      ⎦"
      ]
     },
     "execution_count": 126,
     "metadata": {},
     "output_type": "execute_result"
    }
   ],
   "source": [
    "phipp_fields = [deltaRmm, deltaLmm]\n",
    "Mpp_square = (derive_by_array(derive_by_array(VLRPhi_ri_tadpole, phipp_fields), phipp_fields)/2).subs(\n",
    "    vevPhi\n",
    ")#.subs(vevL).subs(vevR).subs(vL_sol).simplify()\n",
    "Mpp_square"
   ]
  },
  {
   "cell_type": "markdown",
   "metadata": {},
   "source": [
    "## Scalar mass spectrum"
   ]
  },
  {
   "cell_type": "markdown",
   "metadata": {},
   "source": [
    "Following thr hierarchy $v_R >> k, k_1$"
   ]
  },
  {
   "cell_type": "code",
   "execution_count": 127,
   "metadata": {},
   "outputs": [],
   "source": [
    "from sympy import ZeroMatrix"
   ]
  },
  {
   "cell_type": "code",
   "execution_count": 128,
   "metadata": {},
   "outputs": [],
   "source": [
    "def Mass_matrix_approximation(Mass_matrix): # approximation of the mass matrix only terms proportional to vR\n",
    "    l = Mass_matrix.shape[0]\n",
    "    M_approx = ZeroMatrix(l,l).as_explicit().as_mutable()\n",
    "    for i in range(l):\n",
    "        for j in range(l):\n",
    "            factors = Mass_matrix[i, j].expand().collect(vR, evaluate=False)\n",
    "            for key in factors:\n",
    "                if key == 1:\n",
    "                    pass\n",
    "                else:\n",
    "                    M_approx[i, j] += factors[key]*key\n",
    "    return M_approx"
   ]
  },
  {
   "cell_type": "code",
   "execution_count": 129,
   "metadata": {},
   "outputs": [
    {
     "data": {
      "text/latex": [
       "$\\displaystyle \\left[\\begin{matrix}v_{R}^{2} \\left(- \\frac{\\alpha_{3} \\sin^{4}{\\left(\\beta \\right)}}{4 \\cos^{2}{\\left(\\beta \\right)} \\cos{\\left(2 \\beta \\right)}} + \\frac{\\alpha_{3} \\sin^{2}{\\left(\\beta \\right)}}{4 \\cos^{2}{\\left(\\beta \\right)} \\cos{\\left(2 \\beta \\right)}} - \\frac{\\sqrt{2} \\rho_{1} v_{L}^{2} \\sin^{2}{\\left(\\beta \\right)}}{4 v^{2} \\cos^{2}{\\left(\\beta \\right)} \\cos{\\left(2 \\beta \\right)}} + \\frac{\\sqrt{2} \\rho_{3} v_{L}^{2} \\sin^{2}{\\left(\\beta \\right)}}{4 v^{2} \\cos^{2}{\\left(\\beta \\right)} \\cos{\\left(2 \\beta \\right)}}\\right) + v_{R} \\left(\\frac{\\beta_{1} v_{L} \\sin^{3}{\\left(\\beta \\right)}}{2 \\cos{\\left(\\beta \\right)} \\cos{\\left(2 \\beta \\right)}} + \\frac{\\beta_{3} v_{L} \\sin^{2}{\\left(\\beta \\right)}}{2 \\cos^{2}{\\left(\\beta \\right)} \\cos{\\left(2 \\beta \\right)}}\\right) & v_{R}^{2} \\left(\\frac{\\alpha_{3} \\sin^{3}{\\left(\\beta \\right)}}{4 \\cos{\\left(\\beta \\right)} \\cos{\\left(2 \\beta \\right)}} - \\frac{\\alpha_{3} \\sin{\\left(\\beta \\right)}}{4 \\cos{\\left(\\beta \\right)} \\cos{\\left(2 \\beta \\right)}} + \\frac{\\sqrt{2} \\rho_{1} v_{L}^{2} \\sin{\\left(\\beta \\right)}}{4 v^{2} \\cos{\\left(\\beta \\right)} \\cos{\\left(2 \\beta \\right)}} - \\frac{\\sqrt{2} \\rho_{3} v_{L}^{2} \\sin{\\left(\\beta \\right)}}{4 v^{2} \\cos{\\left(\\beta \\right)} \\cos{\\left(2 \\beta \\right)}}\\right) + v_{R} \\left(- \\frac{\\beta_{1} v_{L} \\sin^{2}{\\left(\\beta \\right)}}{2 \\cos{\\left(2 \\beta \\right)}} - \\frac{\\beta_{3} v_{L} \\sin{\\left(\\beta \\right)}}{2 \\cos{\\left(\\beta \\right)} \\cos{\\left(2 \\beta \\right)}}\\right) & v_{R} \\left(\\frac{\\alpha_{1} v \\cos{\\left(2 \\beta \\right)}}{4 \\cos{\\left(\\beta \\right)}} + \\frac{\\alpha_{1} v}{4 \\cos{\\left(\\beta \\right)}} + \\frac{\\alpha_{2} v \\sin{\\left(2 \\beta \\right)}}{2 \\cos{\\left(\\beta \\right)}} + \\frac{\\sqrt{2} \\rho_{1} v_{L}^{2}}{4 v \\cos{\\left(\\beta \\right)}} - \\frac{\\sqrt{2} \\rho_{3} v_{L}^{2}}{4 v \\cos{\\left(\\beta \\right)}}\\right) & v_{R}^{2} \\left(\\frac{\\sqrt{2} \\rho_{1} v_{L}}{4 v \\cos{\\left(\\beta \\right)}} - \\frac{\\sqrt{2} \\rho_{3} v_{L}}{4 v \\cos{\\left(\\beta \\right)}}\\right) + v_{R} \\left(- \\frac{\\beta_{1} v \\sin{\\left(2 \\beta \\right)}}{8 \\cos{\\left(\\beta \\right)}} + \\frac{\\beta_{3} v \\cos{\\left(2 \\beta \\right)}}{4 \\cos{\\left(\\beta \\right)}} - \\frac{\\beta_{3} v}{4 \\cos{\\left(\\beta \\right)}}\\right)\\\\v_{R}^{2} \\left(\\frac{\\alpha_{3} \\sin^{3}{\\left(\\beta \\right)}}{4 \\cos{\\left(\\beta \\right)} \\cos{\\left(2 \\beta \\right)}} - \\frac{\\alpha_{3} \\sin{\\left(\\beta \\right)}}{4 \\cos{\\left(\\beta \\right)} \\cos{\\left(2 \\beta \\right)}} + \\frac{\\sqrt{2} \\rho_{1} v_{L}^{2} \\sin{\\left(\\beta \\right)}}{4 v^{2} \\cos{\\left(\\beta \\right)} \\cos{\\left(2 \\beta \\right)}} - \\frac{\\sqrt{2} \\rho_{3} v_{L}^{2} \\sin{\\left(\\beta \\right)}}{4 v^{2} \\cos{\\left(\\beta \\right)} \\cos{\\left(2 \\beta \\right)}}\\right) + v_{R} \\left(- \\frac{\\beta_{1} v_{L} \\sin^{2}{\\left(\\beta \\right)}}{2 \\cos{\\left(2 \\beta \\right)}} - \\frac{\\beta_{3} v_{L} \\sin{\\left(\\beta \\right)}}{2 \\cos{\\left(\\beta \\right)} \\cos{\\left(2 \\beta \\right)}}\\right) & v_{R}^{2} \\left(\\frac{\\alpha_{3}}{8} + \\frac{\\alpha_{3}}{8 \\cos{\\left(2 \\beta \\right)}} - \\frac{\\sqrt{2} \\rho_{1} v_{L}^{2}}{4 v^{2} \\cos{\\left(2 \\beta \\right)}} + \\frac{\\sqrt{2} \\rho_{3} v_{L}^{2}}{4 v^{2} \\cos{\\left(2 \\beta \\right)}}\\right) + v_{R} \\left(\\frac{\\beta_{1} v_{L} \\tan{\\left(2 \\beta \\right)}}{4} + \\frac{\\beta_{3} v_{L}}{2 \\cos{\\left(2 \\beta \\right)}}\\right) & v_{R} \\left(\\frac{\\alpha_{1} v \\sin{\\left(\\beta \\right)}}{2} + \\alpha_{2} v \\cos{\\left(\\beta \\right)} + \\frac{\\alpha_{3} v \\sin{\\left(\\beta \\right)}}{2}\\right) & v_{R} \\left(\\frac{\\beta_{1} v \\cos{\\left(\\beta \\right)}}{4} + \\frac{\\beta_{3} v \\sin{\\left(\\beta \\right)}}{2}\\right)\\\\v_{R} \\left(\\frac{\\alpha_{1} v \\cos{\\left(2 \\beta \\right)}}{4 \\cos{\\left(\\beta \\right)}} + \\frac{\\alpha_{1} v}{4 \\cos{\\left(\\beta \\right)}} + \\frac{\\alpha_{2} v \\sin{\\left(2 \\beta \\right)}}{2 \\cos{\\left(\\beta \\right)}} + \\frac{\\sqrt{2} \\rho_{1} v_{L}^{2}}{4 v \\cos{\\left(\\beta \\right)}} - \\frac{\\sqrt{2} \\rho_{3} v_{L}^{2}}{4 v \\cos{\\left(\\beta \\right)}}\\right) & v_{R} \\left(\\frac{\\alpha_{1} v \\sin{\\left(\\beta \\right)}}{2} + \\alpha_{2} v \\cos{\\left(\\beta \\right)} + \\frac{\\alpha_{3} v \\sin{\\left(\\beta \\right)}}{2}\\right) & \\rho_{1} v_{R}^{2} & v_{R} \\left(\\frac{\\sqrt{2} \\rho_{1} v_{L}}{8} - \\frac{\\sqrt{2} \\rho_{3} v_{L}}{8} + \\frac{\\rho_{3} v_{L}}{2}\\right)\\\\v_{R}^{2} \\left(\\frac{\\sqrt{2} \\rho_{1} v_{L}}{4 v \\cos{\\left(\\beta \\right)}} - \\frac{\\sqrt{2} \\rho_{3} v_{L}}{4 v \\cos{\\left(\\beta \\right)}}\\right) + v_{R} \\left(- \\frac{\\beta_{1} v \\sin{\\left(2 \\beta \\right)}}{8 \\cos{\\left(\\beta \\right)}} + \\frac{\\beta_{3} v \\cos{\\left(2 \\beta \\right)}}{4 \\cos{\\left(\\beta \\right)}} - \\frac{\\beta_{3} v}{4 \\cos{\\left(\\beta \\right)}}\\right) & v_{R} \\left(\\frac{\\beta_{1} v \\cos{\\left(\\beta \\right)}}{4} + \\frac{\\beta_{3} v \\sin{\\left(\\beta \\right)}}{2}\\right) & v_{R} \\left(\\frac{\\sqrt{2} \\rho_{1} v_{L}}{8} - \\frac{\\sqrt{2} \\rho_{3} v_{L}}{8} + \\frac{\\rho_{3} v_{L}}{2}\\right) & v_{R}^{2} \\left(- \\frac{\\rho_{1}}{2} + \\frac{\\rho_{3}}{4}\\right)\\end{matrix}\\right]$"
      ],
      "text/plain": [
       "⎡     ⎛                4                            2                         \n",
       "⎢   2 ⎜     \\alpha₃⋅sin (\\beta)          \\alpha₃⋅sin (\\beta)         √2⋅\\rho₁⋅\n",
       "⎢v_R ⋅⎜- ────────────────────────── + ────────────────────────── - ───────────\n",
       "⎢     ⎜       2                            2                          2    2  \n",
       "⎢     ⎝  4⋅cos (\\beta)⋅cos(2⋅\\beta)   4⋅cos (\\beta)⋅cos(2⋅\\beta)   4⋅v ⋅cos (\\\n",
       "⎢                                                                             \n",
       "⎢           ⎛              3                                                  \n",
       "⎢         2 ⎜   \\alpha₃⋅sin (\\beta)          \\alpha₃⋅sin(\\beta)        √2⋅\\rho\n",
       "⎢      v_R ⋅⎜───────────────────────── - ───────────────────────── + ─────────\n",
       "⎢           ⎜4⋅cos(\\beta)⋅cos(2⋅\\beta)   4⋅cos(\\beta)⋅cos(2⋅\\beta)      2     \n",
       "⎢           ⎝                                                        4⋅v ⋅cos(\n",
       "⎢                                                                             \n",
       "⎢                                                ⎛                            \n",
       "⎢                                                ⎜\\alpha₁⋅v⋅cos(2⋅\\beta)    \\a\n",
       "⎢                                            v_R⋅⎜────────────────────── + ───\n",
       "⎢                                                ⎝     4⋅cos(\\beta)        4⋅c\n",
       "⎢                                                                             \n",
       "⎢                                                2 ⎛ √2⋅\\rho₁⋅v_L     √2⋅\\rho₃\n",
       "⎢                                             v_R ⋅⎜────────────── - ─────────\n",
       "⎣                                                  ⎝4⋅v⋅cos(\\beta)   4⋅v⋅cos(\\\n",
       "\n",
       "   2    2                          2    2         ⎞       ⎛              3    \n",
       "v_L ⋅sin (\\beta)       √2⋅\\rho₃⋅v_L ⋅sin (\\beta)  ⎟       ⎜    β₁⋅v_L⋅sin (\\be\n",
       "────────────────── + ─────────────────────────────⎟ + v_R⋅⎜───────────────────\n",
       "                        2    2                    ⎟       ⎜2⋅cos(\\beta)⋅cos(2⋅\n",
       "beta)⋅cos(2⋅\\beta)   4⋅v ⋅cos (\\beta)⋅cos(2⋅\\beta)⎠       ⎝                   \n",
       "                                                                              \n",
       "     2                              2             ⎞       ⎛            2      \n",
       "₁⋅v_L ⋅sin(\\beta)       √2⋅\\rho₃⋅v_L ⋅sin(\\beta)  ⎟       ⎜  β₁⋅v_L⋅sin (\\beta\n",
       "─────────────────── - ────────────────────────────⎟ + v_R⋅⎜- ─────────────────\n",
       "                         2                        ⎟       ⎝    2⋅cos(2⋅\\beta) \n",
       "\\beta)⋅cos(2⋅\\beta)   4⋅v ⋅cos(\\beta)⋅cos(2⋅\\beta)⎠                           \n",
       "                                                                              \n",
       "                                                 2                2 ⎞         \n",
       "lpha₁⋅v     \\alpha₂⋅v⋅sin(2⋅\\beta)   √2⋅\\rho₁⋅v_L     √2⋅\\rho₃⋅v_L  ⎟         \n",
       "───────── + ────────────────────── + ────────────── - ──────────────⎟         \n",
       "os(\\beta)        2⋅cos(\\beta)        4⋅v⋅cos(\\beta)   4⋅v⋅cos(\\beta)⎠         \n",
       "                                                                              \n",
       "⋅v_L ⎞       ⎛  β₁⋅v⋅sin(2⋅\\beta)   β₃⋅v⋅cos(2⋅\\beta)       β₃⋅v    ⎞         \n",
       "─────⎟ + v_R⋅⎜- ───────────────── + ───────────────── - ────────────⎟         \n",
       "beta)⎠       ⎝     8⋅cos(\\beta)        4⋅cos(\\beta)     4⋅cos(\\beta)⎠         \n",
       "\n",
       "                       2           ⎞       ⎛              3                   \n",
       "ta)          β₃⋅v_L⋅sin (\\beta)    ⎟     2 ⎜   \\alpha₃⋅sin (\\beta)          \\a\n",
       "────── + ──────────────────────────⎟  v_R ⋅⎜───────────────────────── - ──────\n",
       "\\beta)        2                    ⎟       ⎜4⋅cos(\\beta)⋅cos(2⋅\\beta)   4⋅cos(\n",
       "         2⋅cos (\\beta)⋅cos(2⋅\\beta)⎠       ⎝                                  \n",
       "                                                                              \n",
       "                             ⎞                                            ⎛   \n",
       ")       β₃⋅v_L⋅sin(\\beta)    ⎟                                          2 ⎜\\al\n",
       "─ - ─────────────────────────⎟                                       v_R ⋅⎜───\n",
       "    2⋅cos(\\beta)⋅cos(2⋅\\beta)⎠                                            ⎜   \n",
       "                                                                          ⎝   \n",
       "                                                                              \n",
       "                                                                              \n",
       "                                                                              \n",
       "                                                                              \n",
       "                                                                              \n",
       "                                                                              \n",
       "                                                                              \n",
       "                                                                              \n",
       "                                                                              \n",
       "\n",
       "                                    2                              2          \n",
       "lpha₃⋅sin(\\beta)        √2⋅\\rho₁⋅v_L ⋅sin(\\beta)       √2⋅\\rho₃⋅v_L ⋅sin(\\beta\n",
       "─────────────────── + ──────────────────────────── - ─────────────────────────\n",
       "\\beta)⋅cos(2⋅\\beta)      2                              2                     \n",
       "                      4⋅v ⋅cos(\\beta)⋅cos(2⋅\\beta)   4⋅v ⋅cos(\\beta)⋅cos(2⋅\\be\n",
       "                                                                              \n",
       "                                      2                   2  ⎞                \n",
       "pha₃      \\alpha₃         √2⋅\\rho₁⋅v_L        √2⋅\\rho₃⋅v_L   ⎟       ⎛β₁⋅v_L⋅t\n",
       "──── + ────────────── - ───────────────── + ─────────────────⎟ + v_R⋅⎜────────\n",
       "8      8⋅cos(2⋅\\beta)      2                   2             ⎟       ⎝        \n",
       "                        4⋅v ⋅cos(2⋅\\beta)   4⋅v ⋅cos(2⋅\\beta)⎠                \n",
       "                                                                              \n",
       "                                                                              \n",
       "                 ⎛\\alpha₁⋅v⋅sin(\\beta)                          \\alpha₃⋅v⋅sin(\n",
       "             v_R⋅⎜──────────────────── + \\alpha₂⋅v⋅cos(\\beta) + ──────────────\n",
       "                 ⎝         2                                             2    \n",
       "                                                                              \n",
       "                                  ⎛β₁⋅v⋅cos(\\beta)   β₃⋅v⋅sin(\\beta)⎞         \n",
       "                              v_R⋅⎜─────────────── + ───────────────⎟         \n",
       "                                  ⎝       4                 2       ⎠         \n",
       "\n",
       "   ⎞       ⎛            2                                   ⎞      ⎛          \n",
       ")  ⎟       ⎜  β₁⋅v_L⋅sin (\\beta)       β₃⋅v_L⋅sin(\\beta)    ⎟      ⎜\\alpha₁⋅v⋅\n",
       "───⎟ + v_R⋅⎜- ────────────────── - ─────────────────────────⎟  v_R⋅⎜──────────\n",
       "   ⎟       ⎝    2⋅cos(2⋅\\beta)     2⋅cos(\\beta)⋅cos(2⋅\\beta)⎠      ⎝     4⋅cos\n",
       "ta)⎠                                                                          \n",
       "                                                                              \n",
       "                                                                              \n",
       "an(2⋅\\beta)       β₃⋅v_L    ⎞                                                 \n",
       "─────────── + ──────────────⎟                                                 \n",
       " 4            2⋅cos(2⋅\\beta)⎠                                                 \n",
       "                                                                              \n",
       "                                                                              \n",
       "                                                                              \n",
       "\\beta)⎞                                                                       \n",
       "──────⎟                                                                       \n",
       "      ⎠                                                                       \n",
       "                                                                              \n",
       "                                                                              \n",
       "                                                                              \n",
       "                                                                              \n",
       "\n",
       "                                                                   2          \n",
       "cos(2⋅\\beta)    \\alpha₁⋅v     \\alpha₂⋅v⋅sin(2⋅\\beta)   √2⋅\\rho₁⋅v_L     √2⋅\\rh\n",
       "──────────── + ──────────── + ────────────────────── + ────────────── - ──────\n",
       "(\\beta)        4⋅cos(\\beta)        2⋅cos(\\beta)        4⋅v⋅cos(\\beta)   4⋅v⋅co\n",
       "                                                                              \n",
       "                                                                              \n",
       "                                                                              \n",
       "    ⎛\\alpha₁⋅v⋅sin(\\beta)                          \\alpha₃⋅v⋅sin(\\beta)⎞      \n",
       "v_R⋅⎜──────────────────── + \\alpha₂⋅v⋅cos(\\beta) + ────────────────────⎟      \n",
       "    ⎝         2                                             2          ⎠      \n",
       "                                                                              \n",
       "                                                                              \n",
       "                                                                              \n",
       "                                        2                                     \n",
       "                               \\rho₁⋅v_R                                      \n",
       "                                                                              \n",
       "                                                                              \n",
       "                 ⎛√2⋅\\rho₁⋅v_L   √2⋅\\rho₃⋅v_L   \\rho₃⋅v_L⎞                    \n",
       "             v_R⋅⎜──────────── - ──────────── + ─────────⎟                    \n",
       "                 ⎝     8              8             2    ⎠                    \n",
       "\n",
       "      2 ⎞                                                                     \n",
       "o₃⋅v_L  ⎟     2 ⎛ √2⋅\\rho₁⋅v_L     √2⋅\\rho₃⋅v_L ⎞       ⎛  β₁⋅v⋅sin(2⋅\\beta)  \n",
       "────────⎟  v_R ⋅⎜────────────── - ──────────────⎟ + v_R⋅⎜- ───────────────── +\n",
       "s(\\beta)⎠       ⎝4⋅v⋅cos(\\beta)   4⋅v⋅cos(\\beta)⎠       ⎝     8⋅cos(\\beta)    \n",
       "                                                                              \n",
       "                                                                              \n",
       "                                                                              \n",
       "                                              ⎛β₁⋅v⋅cos(\\beta)   β₃⋅v⋅sin(\\bet\n",
       "                                          v_R⋅⎜─────────────── + ─────────────\n",
       "                                              ⎝       4                 2     \n",
       "                                                                              \n",
       "                                                                              \n",
       "                                                                              \n",
       "                                           ⎛√2⋅\\rho₁⋅v_L   √2⋅\\rho₃⋅v_L   \\rho\n",
       "                                       v_R⋅⎜──────────── - ──────────── + ────\n",
       "                                           ⎝     8              8             \n",
       "                                                                              \n",
       "                                                     2 ⎛  \\rho₁   \\rho₃⎞      \n",
       "                                                  v_R ⋅⎜- ───── + ─────⎟      \n",
       "                                                       ⎝    2       4  ⎠      \n",
       "\n",
       "                                  ⎤\n",
       " β₃⋅v⋅cos(2⋅\\beta)       β₃⋅v    ⎞⎥\n",
       " ───────────────── - ────────────⎟⎥\n",
       "    4⋅cos(\\beta)     4⋅cos(\\beta)⎠⎥\n",
       "                                  ⎥\n",
       "                                  ⎥\n",
       "                                  ⎥\n",
       "a)⎞                               ⎥\n",
       "──⎟                               ⎥\n",
       "  ⎠                               ⎥\n",
       "                                  ⎥\n",
       "                                  ⎥\n",
       "                                  ⎥\n",
       "₃⋅v_L⎞                            ⎥\n",
       "─────⎟                            ⎥\n",
       "2    ⎠                            ⎥\n",
       "                                  ⎥\n",
       "                                  ⎥\n",
       "                                  ⎥\n",
       "                                  ⎦"
      ]
     },
     "execution_count": 129,
     "metadata": {},
     "output_type": "execute_result"
    }
   ],
   "source": [
    "MR_square_approx = Mass_matrix_approximation(MR_square)\n",
    "MR_square_approx"
   ]
  },
  {
   "cell_type": "code",
   "execution_count": 130,
   "metadata": {},
   "outputs": [
    {
     "data": {
      "text/latex": [
       "$\\displaystyle \\left[\\begin{matrix}0 & 0 & v_{R} \\left(\\frac{\\alpha_{1} v}{2} + \\frac{\\sqrt{2} \\rho_{1} v_{L}^{2}}{4 v} - \\frac{\\sqrt{2} \\rho_{3} v_{L}^{2}}{4 v}\\right) & v_{R}^{2} \\left(\\frac{\\sqrt{2} \\rho_{1} v_{L}}{4 v} - \\frac{\\sqrt{2} \\rho_{3} v_{L}}{4 v}\\right)\\\\0 & \\frac{\\beta_{3} v_{L} v_{R}}{2} + v_{R}^{2} \\left(\\frac{\\alpha_{3}}{4} - \\frac{\\sqrt{2} \\rho_{1} v_{L}^{2}}{4 v^{2}} + \\frac{\\sqrt{2} \\rho_{3} v_{L}^{2}}{4 v^{2}}\\right) & \\alpha_{2} v v_{R} & \\frac{\\beta_{1} v v_{R}}{4}\\\\v_{R} \\left(\\frac{\\alpha_{1} v}{2} + \\frac{\\sqrt{2} \\rho_{1} v_{L}^{2}}{4 v} - \\frac{\\sqrt{2} \\rho_{3} v_{L}^{2}}{4 v}\\right) & \\alpha_{2} v v_{R} & \\rho_{1} v_{R}^{2} & v_{R} \\left(\\frac{\\sqrt{2} \\rho_{1} v_{L}}{8} - \\frac{\\sqrt{2} \\rho_{3} v_{L}}{8} + \\frac{\\rho_{3} v_{L}}{2}\\right)\\\\v_{R}^{2} \\left(\\frac{\\sqrt{2} \\rho_{1} v_{L}}{4 v} - \\frac{\\sqrt{2} \\rho_{3} v_{L}}{4 v}\\right) & \\frac{\\beta_{1} v v_{R}}{4} & v_{R} \\left(\\frac{\\sqrt{2} \\rho_{1} v_{L}}{8} - \\frac{\\sqrt{2} \\rho_{3} v_{L}}{8} + \\frac{\\rho_{3} v_{L}}{2}\\right) & v_{R}^{2} \\left(- \\frac{\\rho_{1}}{2} + \\frac{\\rho_{3}}{4}\\right)\\end{matrix}\\right]$"
      ],
      "text/plain": [
       "⎡                                                                             \n",
       "⎢                                                                             \n",
       "⎢                       0                                                     \n",
       "⎢                                                                             \n",
       "⎢                                                                             \n",
       "⎢                                                                   ⎛         \n",
       "⎢                                                 β₃⋅v_L⋅v_R      2 ⎜\\alpha₃  \n",
       "⎢                       0                         ────────── + v_R ⋅⎜─────── -\n",
       "⎢                                                     2             ⎜   4     \n",
       "⎢                                                                   ⎝         \n",
       "⎢                                                                             \n",
       "⎢    ⎛                        2               2⎞                              \n",
       "⎢    ⎜\\alpha₁⋅v   √2⋅\\rho₁⋅v_L    √2⋅\\rho₃⋅v_L ⎟                              \n",
       "⎢v_R⋅⎜───────── + ───────────── - ─────────────⎟                         \\alph\n",
       "⎢    ⎝    2            4⋅v             4⋅v     ⎠                              \n",
       "⎢                                                                             \n",
       "⎢         2 ⎛√2⋅\\rho₁⋅v_L   √2⋅\\rho₃⋅v_L⎞                                  β₁⋅\n",
       "⎢      v_R ⋅⎜──────────── - ────────────⎟                                  ───\n",
       "⎣           ⎝    4⋅v            4⋅v     ⎠                                     \n",
       "\n",
       "                                     ⎛                        2               \n",
       "                                     ⎜\\alpha₁⋅v   √2⋅\\rho₁⋅v_L    √2⋅\\rho₃⋅v_L\n",
       " 0                               v_R⋅⎜───────── + ───────────── - ────────────\n",
       "                                     ⎝    2            4⋅v             4⋅v    \n",
       "                                                                              \n",
       "             2               2⎞                                               \n",
       " √2⋅\\rho₁⋅v_L    √2⋅\\rho₃⋅v_L ⎟                                               \n",
       " ───────────── + ─────────────⎟                   \\alpha₂⋅v⋅v_R               \n",
       "         2               2    ⎟                                               \n",
       "      4⋅v             4⋅v     ⎠                                               \n",
       "                                                                              \n",
       "                                                                              \n",
       "                                                            2                 \n",
       "a₂⋅v⋅v_R                                           \\rho₁⋅v_R                  \n",
       "                                                                              \n",
       "                                                                              \n",
       "v⋅v_R                                 ⎛√2⋅\\rho₁⋅v_L   √2⋅\\rho₃⋅v_L   \\rho₃⋅v_L\n",
       "─────                             v_R⋅⎜──────────── - ──────────── + ─────────\n",
       "4                                     ⎝     8              8             2    \n",
       "\n",
       "2⎞                                               ⎤\n",
       " ⎟          2 ⎛√2⋅\\rho₁⋅v_L   √2⋅\\rho₃⋅v_L⎞      ⎥\n",
       "─⎟       v_R ⋅⎜──────────── - ────────────⎟      ⎥\n",
       " ⎠            ⎝    4⋅v            4⋅v     ⎠      ⎥\n",
       "                                                 ⎥\n",
       "                                                 ⎥\n",
       "                      β₁⋅v⋅v_R                   ⎥\n",
       "                      ────────                   ⎥\n",
       "                         4                       ⎥\n",
       "                                                 ⎥\n",
       "                                                 ⎥\n",
       "                                                 ⎥\n",
       "        ⎛√2⋅\\rho₁⋅v_L   √2⋅\\rho₃⋅v_L   \\rho₃⋅v_L⎞⎥\n",
       "    v_R⋅⎜──────────── - ──────────── + ─────────⎟⎥\n",
       "        ⎝     8              8             2    ⎠⎥\n",
       "                                                 ⎥\n",
       "⎞                 2 ⎛  \\rho₁   \\rho₃⎞            ⎥\n",
       "⎟              v_R ⋅⎜- ───── + ─────⎟            ⎥\n",
       "⎠                   ⎝    2       4  ⎠            ⎦"
      ]
     },
     "execution_count": 130,
     "metadata": {},
     "output_type": "execute_result"
    }
   ],
   "source": [
    "MR_square_approx.subs(beta,0)"
   ]
  },
  {
   "cell_type": "code",
   "execution_count": 131,
   "metadata": {},
   "outputs": [
    {
     "data": {
      "text/latex": [
       "$\\displaystyle \\left[\\begin{matrix}v_{R}^{2} \\left(\\frac{\\alpha_{3} \\sin^{4}{\\left(\\beta \\right)}}{4 \\cos^{2}{\\left(\\beta \\right)} \\cos{\\left(2 \\beta \\right)}} - \\frac{\\alpha_{3} \\sin^{2}{\\left(\\beta \\right)}}{4 \\cos^{2}{\\left(\\beta \\right)} \\cos{\\left(2 \\beta \\right)}} + \\frac{\\sqrt{2} \\rho_{1} v_{L}^{2} \\sin^{2}{\\left(\\beta \\right)}}{4 v^{2} \\cos^{2}{\\left(\\beta \\right)} \\cos{\\left(2 \\beta \\right)}} - \\frac{\\sqrt{2} \\rho_{3} v_{L}^{2} \\sin^{2}{\\left(\\beta \\right)}}{4 v^{2} \\cos^{2}{\\left(\\beta \\right)} \\cos{\\left(2 \\beta \\right)}}\\right) + v_{R} \\left(- \\frac{\\beta_{1} v_{L} \\sin^{3}{\\left(\\beta \\right)}}{2 \\cos{\\left(\\beta \\right)} \\cos{\\left(2 \\beta \\right)}} - \\frac{\\beta_{3} v_{L} \\sin^{2}{\\left(\\beta \\right)}}{2 \\cos^{2}{\\left(\\beta \\right)} \\cos{\\left(2 \\beta \\right)}}\\right) & v_{R}^{2} \\left(- \\frac{\\alpha_{3} \\sin^{3}{\\left(\\beta \\right)}}{4 \\cos{\\left(\\beta \\right)} \\cos{\\left(2 \\beta \\right)}} + \\frac{\\alpha_{3} \\sin{\\left(\\beta \\right)}}{4 \\cos{\\left(\\beta \\right)} \\cos{\\left(2 \\beta \\right)}} - \\frac{\\sqrt{2} \\rho_{1} v_{L}^{2} \\sin{\\left(\\beta \\right)}}{4 v^{2} \\cos{\\left(\\beta \\right)} \\cos{\\left(2 \\beta \\right)}} + \\frac{\\sqrt{2} \\rho_{3} v_{L}^{2} \\sin{\\left(\\beta \\right)}}{4 v^{2} \\cos{\\left(\\beta \\right)} \\cos{\\left(2 \\beta \\right)}}\\right) + v_{R} \\left(\\frac{\\beta_{1} v_{L} \\sin^{2}{\\left(\\beta \\right)}}{2 \\cos{\\left(2 \\beta \\right)}} + \\frac{\\beta_{3} v_{L} \\sin{\\left(\\beta \\right)}}{2 \\cos{\\left(\\beta \\right)} \\cos{\\left(2 \\beta \\right)}}\\right) & v_{R} \\left(- \\frac{\\alpha_{1} v \\cos{\\left(2 \\beta \\right)}}{4 \\cos{\\left(\\beta \\right)}} - \\frac{\\alpha_{1} v}{4 \\cos{\\left(\\beta \\right)}} - \\frac{\\alpha_{2} v \\sin{\\left(2 \\beta \\right)}}{2 \\cos{\\left(\\beta \\right)}} - \\frac{\\sqrt{2} \\rho_{1} v_{L}^{2}}{4 v \\cos{\\left(\\beta \\right)}} + \\frac{\\sqrt{2} \\rho_{3} v_{L}^{2}}{4 v \\cos{\\left(\\beta \\right)}}\\right) & v_{R}^{2} \\left(- \\frac{\\sqrt{2} \\rho_{1} v_{L}}{4 v \\cos{\\left(\\beta \\right)}} + \\frac{\\sqrt{2} \\rho_{3} v_{L}}{4 v \\cos{\\left(\\beta \\right)}}\\right) + v_{R} \\left(\\frac{\\beta_{1} v \\sin{\\left(2 \\beta \\right)}}{8 \\cos{\\left(\\beta \\right)}} - \\frac{\\beta_{3} v \\cos{\\left(2 \\beta \\right)}}{4 \\cos{\\left(\\beta \\right)}} + \\frac{\\beta_{3} v}{4 \\cos{\\left(\\beta \\right)}}\\right)\\\\v_{R}^{2} \\left(- \\frac{\\alpha_{3} \\sin^{3}{\\left(\\beta \\right)}}{4 \\cos{\\left(\\beta \\right)} \\cos{\\left(2 \\beta \\right)}} + \\frac{\\alpha_{3} \\sin{\\left(\\beta \\right)}}{4 \\cos{\\left(\\beta \\right)} \\cos{\\left(2 \\beta \\right)}} - \\frac{\\sqrt{2} \\rho_{1} v_{L}^{2} \\sin{\\left(\\beta \\right)}}{4 v^{2} \\cos{\\left(\\beta \\right)} \\cos{\\left(2 \\beta \\right)}} + \\frac{\\sqrt{2} \\rho_{3} v_{L}^{2} \\sin{\\left(\\beta \\right)}}{4 v^{2} \\cos{\\left(\\beta \\right)} \\cos{\\left(2 \\beta \\right)}}\\right) + v_{R} \\left(\\frac{\\beta_{1} v_{L} \\sin^{2}{\\left(\\beta \\right)}}{2 \\cos{\\left(2 \\beta \\right)}} + \\frac{\\beta_{3} v_{L} \\sin{\\left(\\beta \\right)}}{2 \\cos{\\left(\\beta \\right)} \\cos{\\left(2 \\beta \\right)}}\\right) & v_{R}^{2} \\left(- \\frac{\\alpha_{3}}{8} - \\frac{\\alpha_{3}}{8 \\cos{\\left(2 \\beta \\right)}} + \\frac{\\sqrt{2} \\rho_{1} v_{L}^{2}}{4 v^{2} \\cos{\\left(2 \\beta \\right)}} - \\frac{\\sqrt{2} \\rho_{3} v_{L}^{2}}{4 v^{2} \\cos{\\left(2 \\beta \\right)}}\\right) + v_{R} \\left(- \\frac{\\beta_{1} v_{L} \\tan{\\left(2 \\beta \\right)}}{4} - \\frac{\\beta_{3} v_{L}}{2 \\cos{\\left(2 \\beta \\right)}}\\right) & v_{R} \\left(- \\frac{\\alpha_{1} v \\sin{\\left(\\beta \\right)}}{2} - \\alpha_{2} v \\cos{\\left(\\beta \\right)} - \\frac{\\alpha_{3} v \\sin{\\left(\\beta \\right)}}{2}\\right) & v_{R} \\left(- \\frac{\\beta_{1} v \\cos{\\left(\\beta \\right)}}{4} - \\frac{\\beta_{3} v \\sin{\\left(\\beta \\right)}}{2}\\right)\\\\v_{R} \\left(- \\frac{\\alpha_{1} v \\cos{\\left(2 \\beta \\right)}}{4 \\cos{\\left(\\beta \\right)}} - \\frac{\\alpha_{1} v}{4 \\cos{\\left(\\beta \\right)}} - \\frac{\\alpha_{2} v \\sin{\\left(2 \\beta \\right)}}{2 \\cos{\\left(\\beta \\right)}} - \\frac{\\sqrt{2} \\rho_{1} v_{L}^{2}}{4 v \\cos{\\left(\\beta \\right)}} + \\frac{\\sqrt{2} \\rho_{3} v_{L}^{2}}{4 v \\cos{\\left(\\beta \\right)}}\\right) & v_{R} \\left(- \\frac{\\alpha_{1} v \\sin{\\left(\\beta \\right)}}{2} - \\alpha_{2} v \\cos{\\left(\\beta \\right)} - \\frac{\\alpha_{3} v \\sin{\\left(\\beta \\right)}}{2}\\right) & - \\rho_{1} v_{R}^{2} & v_{R} \\left(- \\frac{\\sqrt{2} \\rho_{1} v_{L}}{8} - \\frac{\\rho_{3} v_{L}}{2} + \\frac{\\sqrt{2} \\rho_{3} v_{L}}{8}\\right)\\\\v_{R}^{2} \\left(- \\frac{\\sqrt{2} \\rho_{1} v_{L}}{4 v \\cos{\\left(\\beta \\right)}} + \\frac{\\sqrt{2} \\rho_{3} v_{L}}{4 v \\cos{\\left(\\beta \\right)}}\\right) + v_{R} \\left(\\frac{\\beta_{1} v \\sin{\\left(2 \\beta \\right)}}{8 \\cos{\\left(\\beta \\right)}} - \\frac{\\beta_{3} v \\cos{\\left(2 \\beta \\right)}}{4 \\cos{\\left(\\beta \\right)}} + \\frac{\\beta_{3} v}{4 \\cos{\\left(\\beta \\right)}}\\right) & v_{R} \\left(- \\frac{\\beta_{1} v \\cos{\\left(\\beta \\right)}}{4} - \\frac{\\beta_{3} v \\sin{\\left(\\beta \\right)}}{2}\\right) & v_{R} \\left(- \\frac{\\sqrt{2} \\rho_{1} v_{L}}{8} - \\frac{\\rho_{3} v_{L}}{2} + \\frac{\\sqrt{2} \\rho_{3} v_{L}}{8}\\right) & v_{R}^{2} \\left(\\frac{\\rho_{1}}{2} - \\frac{\\rho_{3}}{4}\\right)\\end{matrix}\\right]$"
      ],
      "text/plain": [
       "⎡     ⎛              4                            2                           \n",
       "⎢   2 ⎜   \\alpha₃⋅sin (\\beta)          \\alpha₃⋅sin (\\beta)         √2⋅\\rho₁⋅v_\n",
       "⎢v_R ⋅⎜────────────────────────── - ────────────────────────── + ─────────────\n",
       "⎢     ⎜     2                            2                          2    2    \n",
       "⎢     ⎝4⋅cos (\\beta)⋅cos(2⋅\\beta)   4⋅cos (\\beta)⋅cos(2⋅\\beta)   4⋅v ⋅cos (\\be\n",
       "⎢                                                                             \n",
       "⎢           ⎛                3                                                \n",
       "⎢         2 ⎜     \\alpha₃⋅sin (\\beta)          \\alpha₃⋅sin(\\beta)        √2⋅\\r\n",
       "⎢      v_R ⋅⎜- ───────────────────────── + ───────────────────────── - ───────\n",
       "⎢           ⎜  4⋅cos(\\beta)⋅cos(2⋅\\beta)   4⋅cos(\\beta)⋅cos(2⋅\\beta)      2   \n",
       "⎢           ⎝                                                          4⋅v ⋅co\n",
       "⎢                                                                             \n",
       "⎢                                               ⎛                             \n",
       "⎢                                               ⎜  \\alpha₁⋅v⋅cos(2⋅\\beta)    \\\n",
       "⎢                                           v_R⋅⎜- ────────────────────── - ──\n",
       "⎢                                               ⎝       4⋅cos(\\beta)        4⋅\n",
       "⎢                                                                             \n",
       "⎢                                                2 ⎛   √2⋅\\rho₁⋅v_L     √2⋅\\rh\n",
       "⎢                                             v_R ⋅⎜- ────────────── + ───────\n",
       "⎣                                                  ⎝  4⋅v⋅cos(\\beta)   4⋅v⋅cos\n",
       "\n",
       " 2    2                          2    2         ⎞       ⎛                3    \n",
       "L ⋅sin (\\beta)       √2⋅\\rho₃⋅v_L ⋅sin (\\beta)  ⎟       ⎜      β₁⋅v_L⋅sin (\\be\n",
       "──────────────── - ─────────────────────────────⎟ + v_R⋅⎜- ───────────────────\n",
       "                      2    2                    ⎟       ⎜  2⋅cos(\\beta)⋅cos(2⋅\n",
       "ta)⋅cos(2⋅\\beta)   4⋅v ⋅cos (\\beta)⋅cos(2⋅\\beta)⎠       ⎝                     \n",
       "                                                                              \n",
       "       2                              2             ⎞       ⎛          2      \n",
       "ho₁⋅v_L ⋅sin(\\beta)       √2⋅\\rho₃⋅v_L ⋅sin(\\beta)  ⎟       ⎜β₁⋅v_L⋅sin (\\beta\n",
       "───────────────────── + ────────────────────────────⎟ + v_R⋅⎜─────────────────\n",
       "                           2                        ⎟       ⎝  2⋅cos(2⋅\\beta) \n",
       "s(\\beta)⋅cos(2⋅\\beta)   4⋅v ⋅cos(\\beta)⋅cos(2⋅\\beta)⎠                         \n",
       "                                                                              \n",
       "                                                  2                2 ⎞        \n",
       "alpha₁⋅v     \\alpha₂⋅v⋅sin(2⋅\\beta)   √2⋅\\rho₁⋅v_L     √2⋅\\rho₃⋅v_L  ⎟        \n",
       "────────── - ────────────────────── - ────────────── + ──────────────⎟        \n",
       "cos(\\beta)        2⋅cos(\\beta)        4⋅v⋅cos(\\beta)   4⋅v⋅cos(\\beta)⎠        \n",
       "                                                                              \n",
       "o₃⋅v_L ⎞       ⎛β₁⋅v⋅sin(2⋅\\beta)   β₃⋅v⋅cos(2⋅\\beta)       β₃⋅v    ⎞         \n",
       "───────⎟ + v_R⋅⎜───────────────── - ───────────────── + ────────────⎟         \n",
       "(\\beta)⎠       ⎝   8⋅cos(\\beta)        4⋅cos(\\beta)     4⋅cos(\\beta)⎠         \n",
       "\n",
       "                       2           ⎞       ⎛                3                 \n",
       "ta)          β₃⋅v_L⋅sin (\\beta)    ⎟     2 ⎜     \\alpha₃⋅sin (\\beta)          \n",
       "────── - ──────────────────────────⎟  v_R ⋅⎜- ───────────────────────── + ────\n",
       "\\beta)        2                    ⎟       ⎜  4⋅cos(\\beta)⋅cos(2⋅\\beta)   4⋅co\n",
       "         2⋅cos (\\beta)⋅cos(2⋅\\beta)⎠       ⎝                                  \n",
       "                                                                              \n",
       "                             ⎞                                          ⎛     \n",
       ")       β₃⋅v_L⋅sin(\\beta)    ⎟                                        2 ⎜  \\al\n",
       "─ + ─────────────────────────⎟                                     v_R ⋅⎜- ───\n",
       "    2⋅cos(\\beta)⋅cos(2⋅\\beta)⎠                                          ⎜     \n",
       "                                                                        ⎝     \n",
       "                                                                              \n",
       "                                                                              \n",
       "                                                                              \n",
       "                                                                              \n",
       "                                                                              \n",
       "                                                                              \n",
       "                                                                              \n",
       "                                                                              \n",
       "                                                                              \n",
       "\n",
       "                                      2                              2        \n",
       "\\alpha₃⋅sin(\\beta)        √2⋅\\rho₁⋅v_L ⋅sin(\\beta)       √2⋅\\rho₃⋅v_L ⋅sin(\\be\n",
       "───────────────────── - ──────────────────────────── + ───────────────────────\n",
       "s(\\beta)⋅cos(2⋅\\beta)      2                              2                   \n",
       "                        4⋅v ⋅cos(\\beta)⋅cos(2⋅\\beta)   4⋅v ⋅cos(\\beta)⋅cos(2⋅\\\n",
       "                                                                              \n",
       "                                      2                   2  ⎞                \n",
       "pha₃      \\alpha₃         √2⋅\\rho₁⋅v_L        √2⋅\\rho₃⋅v_L   ⎟       ⎛  β₁⋅v_L\n",
       "──── - ────────────── + ───────────────── - ─────────────────⎟ + v_R⋅⎜- ──────\n",
       "8      8⋅cos(2⋅\\beta)      2                   2             ⎟       ⎝        \n",
       "                        4⋅v ⋅cos(2⋅\\beta)   4⋅v ⋅cos(2⋅\\beta)⎠                \n",
       "                                                                              \n",
       "                                                                              \n",
       "                ⎛  \\alpha₁⋅v⋅sin(\\beta)                          \\alpha₃⋅v⋅sin\n",
       "            v_R⋅⎜- ──────────────────── - \\alpha₂⋅v⋅cos(\\beta) - ─────────────\n",
       "                ⎝           2                                             2   \n",
       "                                                                              \n",
       "                                 ⎛  β₁⋅v⋅cos(\\beta)   β₃⋅v⋅sin(\\beta)⎞        \n",
       "                             v_R⋅⎜- ─────────────── - ───────────────⎟        \n",
       "                                 ⎝         4                 2       ⎠        \n",
       "\n",
       "     ⎞       ⎛          2                                   ⎞      ⎛          \n",
       "ta)  ⎟       ⎜β₁⋅v_L⋅sin (\\beta)       β₃⋅v_L⋅sin(\\beta)    ⎟      ⎜  \\alpha₁⋅\n",
       "─────⎟ + v_R⋅⎜────────────────── + ─────────────────────────⎟  v_R⋅⎜- ────────\n",
       "     ⎟       ⎝  2⋅cos(2⋅\\beta)     2⋅cos(\\beta)⋅cos(2⋅\\beta)⎠      ⎝       4⋅c\n",
       "beta)⎠                                                                        \n",
       "                                                                              \n",
       "                                                                              \n",
       "⋅tan(2⋅\\beta)       β₃⋅v_L    ⎞                                               \n",
       "───────────── - ──────────────⎟                                               \n",
       "   4            2⋅cos(2⋅\\beta)⎠                                               \n",
       "                                                                              \n",
       "                                                                              \n",
       "                                                                              \n",
       "(\\beta)⎞                                                                      \n",
       "───────⎟                                                                      \n",
       "       ⎠                                                                      \n",
       "                                                                              \n",
       "                                                                              \n",
       "                                                                              \n",
       "                                                                              \n",
       "\n",
       "                                                                     2        \n",
       "v⋅cos(2⋅\\beta)    \\alpha₁⋅v     \\alpha₂⋅v⋅sin(2⋅\\beta)   √2⋅\\rho₁⋅v_L     √2⋅\\\n",
       "────────────── - ──────────── - ────────────────────── - ────────────── + ────\n",
       "os(\\beta)        4⋅cos(\\beta)        2⋅cos(\\beta)        4⋅v⋅cos(\\beta)   4⋅v⋅\n",
       "                                                                              \n",
       "                                                                              \n",
       "                                                                              \n",
       "    ⎛  \\alpha₁⋅v⋅sin(\\beta)                          \\alpha₃⋅v⋅sin(\\beta)⎞    \n",
       "v_R⋅⎜- ──────────────────── - \\alpha₂⋅v⋅cos(\\beta) - ────────────────────⎟    \n",
       "    ⎝           2                                             2          ⎠    \n",
       "                                                                              \n",
       "                                                                              \n",
       "                                                                              \n",
       "                                         2                                    \n",
       "                               -\\rho₁⋅v_R                                     \n",
       "                                                                              \n",
       "                                                                              \n",
       "                 ⎛  √2⋅\\rho₁⋅v_L   \\rho₃⋅v_L   √2⋅\\rho₃⋅v_L⎞                  \n",
       "             v_R⋅⎜- ──────────── - ───────── + ────────────⎟                  \n",
       "                 ⎝       8             2            8      ⎠                  \n",
       "\n",
       "        2 ⎞                                                                   \n",
       "rho₃⋅v_L  ⎟     2 ⎛   √2⋅\\rho₁⋅v_L     √2⋅\\rho₃⋅v_L ⎞       ⎛β₁⋅v⋅sin(2⋅\\beta)\n",
       "──────────⎟  v_R ⋅⎜- ────────────── + ──────────────⎟ + v_R⋅⎜─────────────────\n",
       "cos(\\beta)⎠       ⎝  4⋅v⋅cos(\\beta)   4⋅v⋅cos(\\beta)⎠       ⎝   8⋅cos(\\beta)  \n",
       "                                                                              \n",
       "                                                                              \n",
       "                                                                              \n",
       "                                               ⎛  β₁⋅v⋅cos(\\beta)   β₃⋅v⋅sin(\\\n",
       "                                           v_R⋅⎜- ─────────────── - ──────────\n",
       "                                               ⎝         4                 2  \n",
       "                                                                              \n",
       "                                                                              \n",
       "                                                                              \n",
       "                                            ⎛  √2⋅\\rho₁⋅v_L   \\rho₃⋅v_L   √2⋅\\\n",
       "                                        v_R⋅⎜- ──────────── - ───────── + ────\n",
       "                                            ⎝       8             2           \n",
       "                                                                              \n",
       "                                                        2 ⎛\\rho₁   \\rho₃⎞     \n",
       "                                                     v_R ⋅⎜───── - ─────⎟     \n",
       "                                                          ⎝  2       4  ⎠     \n",
       "\n",
       "                                    ⎤\n",
       "   β₃⋅v⋅cos(2⋅\\beta)       β₃⋅v    ⎞⎥\n",
       " - ───────────────── + ────────────⎟⎥\n",
       "      4⋅cos(\\beta)     4⋅cos(\\beta)⎠⎥\n",
       "                                    ⎥\n",
       "                                    ⎥\n",
       "                                    ⎥\n",
       "beta)⎞                              ⎥\n",
       "─────⎟                              ⎥\n",
       "     ⎠                              ⎥\n",
       "                                    ⎥\n",
       "                                    ⎥\n",
       "                                    ⎥\n",
       "rho₃⋅v_L⎞                           ⎥\n",
       "────────⎟                           ⎥\n",
       " 8      ⎠                           ⎥\n",
       "                                    ⎥\n",
       "                                    ⎥\n",
       "                                    ⎥\n",
       "                                    ⎦"
      ]
     },
     "execution_count": 131,
     "metadata": {},
     "output_type": "execute_result"
    }
   ],
   "source": [
    "MI_square_approx = Mass_matrix_approximation(MI_square)\n",
    "MI_square_approx"
   ]
  },
  {
   "cell_type": "code",
   "execution_count": 132,
   "metadata": {},
   "outputs": [
    {
     "data": {
      "text/latex": [
       "$\\displaystyle \\left[\\begin{matrix}0 & 0 & v_{R} \\left(- \\frac{\\alpha_{1} v}{2} - \\frac{\\sqrt{2} \\rho_{1} v_{L}^{2}}{4 v} + \\frac{\\sqrt{2} \\rho_{3} v_{L}^{2}}{4 v}\\right) & v_{R}^{2} \\left(- \\frac{\\sqrt{2} \\rho_{1} v_{L}}{4 v} + \\frac{\\sqrt{2} \\rho_{3} v_{L}}{4 v}\\right)\\\\0 & - \\frac{\\beta_{3} v_{L} v_{R}}{2} + v_{R}^{2} \\left(- \\frac{\\alpha_{3}}{4} + \\frac{\\sqrt{2} \\rho_{1} v_{L}^{2}}{4 v^{2}} - \\frac{\\sqrt{2} \\rho_{3} v_{L}^{2}}{4 v^{2}}\\right) & - \\alpha_{2} v v_{R} & - \\frac{\\beta_{1} v v_{R}}{4}\\\\v_{R} \\left(- \\frac{\\alpha_{1} v}{2} - \\frac{\\sqrt{2} \\rho_{1} v_{L}^{2}}{4 v} + \\frac{\\sqrt{2} \\rho_{3} v_{L}^{2}}{4 v}\\right) & - \\alpha_{2} v v_{R} & - \\rho_{1} v_{R}^{2} & v_{R} \\left(- \\frac{\\sqrt{2} \\rho_{1} v_{L}}{8} - \\frac{\\rho_{3} v_{L}}{2} + \\frac{\\sqrt{2} \\rho_{3} v_{L}}{8}\\right)\\\\v_{R}^{2} \\left(- \\frac{\\sqrt{2} \\rho_{1} v_{L}}{4 v} + \\frac{\\sqrt{2} \\rho_{3} v_{L}}{4 v}\\right) & - \\frac{\\beta_{1} v v_{R}}{4} & v_{R} \\left(- \\frac{\\sqrt{2} \\rho_{1} v_{L}}{8} - \\frac{\\rho_{3} v_{L}}{2} + \\frac{\\sqrt{2} \\rho_{3} v_{L}}{8}\\right) & v_{R}^{2} \\left(\\frac{\\rho_{1}}{2} - \\frac{\\rho_{3}}{4}\\right)\\end{matrix}\\right]$"
      ],
      "text/plain": [
       "⎡                                                                             \n",
       "⎢                                                                             \n",
       "⎢                        0                                                    \n",
       "⎢                                                                             \n",
       "⎢                                                                             \n",
       "⎢                                                                       ⎛     \n",
       "⎢                                                     β₃⋅v_L⋅v_R      2 ⎜  \\al\n",
       "⎢                        0                          - ────────── + v_R ⋅⎜- ───\n",
       "⎢                                                         2             ⎜     \n",
       "⎢                                                                       ⎝     \n",
       "⎢                                                                             \n",
       "⎢    ⎛                          2               2⎞                            \n",
       "⎢    ⎜  \\alpha₁⋅v   √2⋅\\rho₁⋅v_L    √2⋅\\rho₃⋅v_L ⎟                            \n",
       "⎢v_R⋅⎜- ───────── - ───────────── + ─────────────⎟                          -\\\n",
       "⎢    ⎝      2            4⋅v             4⋅v     ⎠                            \n",
       "⎢                                                                             \n",
       "⎢         2 ⎛  √2⋅\\rho₁⋅v_L   √2⋅\\rho₃⋅v_L⎞                                   \n",
       "⎢      v_R ⋅⎜- ──────────── + ────────────⎟                                   \n",
       "⎣           ⎝      4⋅v            4⋅v     ⎠                                   \n",
       "\n",
       "                                           ⎛                          2       \n",
       "                                           ⎜  \\alpha₁⋅v   √2⋅\\rho₁⋅v_L    √2⋅\\\n",
       "     0                                 v_R⋅⎜- ───────── - ───────────── + ────\n",
       "                                           ⎝      2            4⋅v            \n",
       "                                                                              \n",
       "                   2               2⎞                                         \n",
       "pha₃   √2⋅\\rho₁⋅v_L    √2⋅\\rho₃⋅v_L ⎟                                         \n",
       "──── + ───────────── - ─────────────⎟                   -\\alpha₂⋅v⋅v_R        \n",
       "4              2               2    ⎟                                         \n",
       "            4⋅v             4⋅v     ⎠                                         \n",
       "                                                                              \n",
       "                                                                              \n",
       "                                                                    2         \n",
       "alpha₂⋅v⋅v_R                                              -\\rho₁⋅v_R          \n",
       "                                                                              \n",
       "                                                                              \n",
       "-β₁⋅v⋅v_R                                   ⎛  √2⋅\\rho₁⋅v_L   \\rho₃⋅v_L   √2⋅\\\n",
       "──────────                              v_R⋅⎜- ──────────── - ───────── + ────\n",
       "    4                                       ⎝       8             2           \n",
       "\n",
       "        2⎞                                                 ⎤\n",
       "rho₃⋅v_L ⎟          2 ⎛  √2⋅\\rho₁⋅v_L   √2⋅\\rho₃⋅v_L⎞      ⎥\n",
       "─────────⎟       v_R ⋅⎜- ──────────── + ────────────⎟      ⎥\n",
       " 4⋅v     ⎠            ⎝      4⋅v            4⋅v     ⎠      ⎥\n",
       "                                                           ⎥\n",
       "                                                           ⎥\n",
       "                              -β₁⋅v⋅v_R                    ⎥\n",
       "                              ──────────                   ⎥\n",
       "                                  4                        ⎥\n",
       "                                                           ⎥\n",
       "                                                           ⎥\n",
       "                                                           ⎥\n",
       "                ⎛  √2⋅\\rho₁⋅v_L   \\rho₃⋅v_L   √2⋅\\rho₃⋅v_L⎞⎥\n",
       "            v_R⋅⎜- ──────────── - ───────── + ────────────⎟⎥\n",
       "                ⎝       8             2            8      ⎠⎥\n",
       "                                                           ⎥\n",
       "rho₃⋅v_L⎞                   2 ⎛\\rho₁   \\rho₃⎞              ⎥\n",
       "────────⎟                v_R ⋅⎜───── - ─────⎟              ⎥\n",
       " 8      ⎠                     ⎝  2       4  ⎠              ⎦"
      ]
     },
     "execution_count": 132,
     "metadata": {},
     "output_type": "execute_result"
    }
   ],
   "source": [
    "MI_square_approx.subs(beta, 0)"
   ]
  },
  {
   "cell_type": "code",
   "execution_count": 133,
   "metadata": {},
   "outputs": [
    {
     "data": {
      "text/latex": [
       "$\\displaystyle \\left[\\begin{matrix}0 & v_{R}^{2} \\left(- \\frac{\\alpha_{3} v^{2} \\sin{\\left(\\beta \\right)} \\cos{\\left(\\beta \\right)}}{- 8 v^{2} \\cos^{2}{\\left(\\beta \\right)} + 4 v^{2}} + \\frac{\\sqrt{2} \\rho_{1} v_{L}^{2} \\tan{\\left(\\beta \\right)}}{- 8 v^{2} \\cos^{2}{\\left(\\beta \\right)} + 4 v^{2}} - \\frac{\\sqrt{2} \\rho_{3} v_{L}^{2} \\tan{\\left(\\beta \\right)}}{- 8 v^{2} \\cos^{2}{\\left(\\beta \\right)} + 4 v^{2}}\\right) + v_{R} \\left(- \\frac{\\beta_{1} v^{2} v_{L}}{- 8 v^{2} \\cos^{2}{\\left(\\beta \\right)} + 4 v^{2}} - \\frac{2 \\beta_{3} v^{2} v_{L} \\tan{\\left(\\beta \\right)}}{- 8 v^{2} \\cos^{2}{\\left(\\beta \\right)} + 4 v^{2}}\\right) & v_{R} \\left(- \\frac{\\rho_{1} v_{L}^{2}}{8 v \\cos{\\left(\\beta \\right)}} + \\frac{\\rho_{3} v_{L}^{2}}{8 v \\cos{\\left(\\beta \\right)}}\\right) & \\frac{\\sqrt{2} \\beta_{3} v v_{R} \\sin{\\left(\\beta \\right)}}{8}\\\\v_{R}^{2} \\left(- \\frac{\\alpha_{3} v^{2} \\sin{\\left(\\beta \\right)} \\cos{\\left(\\beta \\right)}}{- 8 v^{2} \\cos^{2}{\\left(\\beta \\right)} + 4 v^{2}} + \\frac{\\sqrt{2} \\rho_{1} v_{L}^{2} \\tan{\\left(\\beta \\right)}}{- 8 v^{2} \\cos^{2}{\\left(\\beta \\right)} + 4 v^{2}} - \\frac{\\sqrt{2} \\rho_{3} v_{L}^{2} \\tan{\\left(\\beta \\right)}}{- 8 v^{2} \\cos^{2}{\\left(\\beta \\right)} + 4 v^{2}}\\right) + v_{R} \\left(- \\frac{\\beta_{1} v^{2} v_{L}}{- 8 v^{2} \\cos^{2}{\\left(\\beta \\right)} + 4 v^{2}} - \\frac{2 \\beta_{3} v^{2} v_{L} \\tan{\\left(\\beta \\right)}}{- 8 v^{2} \\cos^{2}{\\left(\\beta \\right)} + 4 v^{2}}\\right) & 0 & 0 & v_{R}^{2} \\left(- \\frac{\\rho_{1} v_{L}}{8 v \\cos{\\left(\\beta \\right)}} + \\frac{\\rho_{3} v_{L}}{8 v \\cos{\\left(\\beta \\right)}}\\right) + v_{R} \\left(\\frac{\\sqrt{2} \\beta_{1} v \\sin{\\left(2 \\beta \\right)}}{16 \\cos{\\left(\\beta \\right)}} + \\frac{\\sqrt{2} \\beta_{3} v \\sin^{2}{\\left(\\beta \\right)}}{8 \\cos{\\left(\\beta \\right)}}\\right)\\\\v_{R} \\left(- \\frac{\\rho_{1} v_{L}^{2}}{8 v \\cos{\\left(\\beta \\right)}} + \\frac{\\rho_{3} v_{L}^{2}}{8 v \\cos{\\left(\\beta \\right)}}\\right) & 0 & 0 & 0\\\\\\frac{\\sqrt{2} \\beta_{3} v v_{R} \\sin{\\left(\\beta \\right)}}{8} & v_{R}^{2} \\left(- \\frac{\\rho_{1} v_{L}}{8 v \\cos{\\left(\\beta \\right)}} + \\frac{\\rho_{3} v_{L}}{8 v \\cos{\\left(\\beta \\right)}}\\right) + v_{R} \\left(\\frac{\\sqrt{2} \\beta_{1} v \\sin{\\left(2 \\beta \\right)}}{16 \\cos{\\left(\\beta \\right)}} + \\frac{\\sqrt{2} \\beta_{3} v \\sin^{2}{\\left(\\beta \\right)}}{8 \\cos{\\left(\\beta \\right)}}\\right) & 0 & 0\\end{matrix}\\right]$"
      ],
      "text/plain": [
       "⎡                                                                             \n",
       "⎢                                                                             \n",
       "⎢                                                                             \n",
       "⎢                                                                             \n",
       "⎢                                                                             \n",
       "⎢                                                                             \n",
       "⎢     ⎛           2                                      2                    \n",
       "⎢   2 ⎜  \\alpha₃⋅v ⋅sin(\\beta)⋅cos(\\beta)    √2⋅\\rho₁⋅v_L ⋅tan(\\beta)    √2⋅\\r\n",
       "⎢v_R ⋅⎜- ──────────────────────────────── + ───────────────────────── - ──────\n",
       "⎢     ⎜          2    2             2            2    2             2        2\n",
       "⎢     ⎝     - 8⋅v ⋅cos (\\beta) + 4⋅v        - 8⋅v ⋅cos (\\beta) + 4⋅v    - 8⋅v \n",
       "⎢                                                                             \n",
       "⎢                                                                 ⎛           \n",
       "⎢                                                                 ⎜    \\rho₁⋅v\n",
       "⎢                                                             v_R⋅⎜- ─────────\n",
       "⎢                                                                 ⎝  8⋅v⋅cos(\\\n",
       "⎢                                                                             \n",
       "⎢                                                                             \n",
       "⎢                                                                     √2⋅β₃⋅v⋅\n",
       "⎢                                                                     ────────\n",
       "⎣                                                                             \n",
       "\n",
       "                                                                              \n",
       "                                                                              \n",
       "   0                                                                          \n",
       "                                                                              \n",
       "                                                                              \n",
       "                                                                              \n",
       "       2           ⎞       ⎛              2                       2           \n",
       "ho₃⋅v_L ⋅tan(\\beta)⎟       ⎜          β₁⋅v ⋅v_L             2⋅β₃⋅v ⋅v_L⋅tan(\\b\n",
       "───────────────────⎟ + v_R⋅⎜- ───────────────────────── - ────────────────────\n",
       "    2             2⎟       ⎜       2    2             2        2    2         \n",
       "⋅cos (\\beta) + 4⋅v ⎠       ⎝  - 8⋅v ⋅cos (\\beta) + 4⋅v    - 8⋅v ⋅cos (\\beta) +\n",
       "                                                                              \n",
       "  2                2  ⎞                                                       \n",
       "_L        \\rho₃⋅v_L   ⎟                                                       \n",
       "───── + ──────────────⎟                                                       \n",
       "beta)   8⋅v⋅cos(\\beta)⎠                                                       \n",
       "                                                                              \n",
       "                                                                              \n",
       "v_R⋅sin(\\beta)                                                                \n",
       "──────────────                                                                \n",
       "  8                                                                           \n",
       "\n",
       "             ⎛           2                                      2             \n",
       "           2 ⎜  \\alpha₃⋅v ⋅sin(\\beta)⋅cos(\\beta)    √2⋅\\rho₁⋅v_L ⋅tan(\\beta)  \n",
       "        v_R ⋅⎜- ──────────────────────────────── + ───────────────────────── -\n",
       "             ⎜          2    2             2            2    2             2  \n",
       "             ⎝     - 8⋅v ⋅cos (\\beta) + 4⋅v        - 8⋅v ⋅cos (\\beta) + 4⋅v   \n",
       "                                                                              \n",
       "     ⎞                                                                        \n",
       "eta) ⎟                                                                        \n",
       "─────⎟                                                                        \n",
       "    2⎟                                                                        \n",
       " 4⋅v ⎠                                                                        \n",
       "                                                                              \n",
       "                                                                              \n",
       "                                                                              \n",
       "                                                                              \n",
       "                                                                              \n",
       "                                                                              \n",
       "                                                                              \n",
       "                                              2 ⎛    \\rho₁⋅v_L        \\rho₃⋅v_\n",
       "                                           v_R ⋅⎜- ────────────── + ──────────\n",
       "                                                ⎝  8⋅v⋅cos(\\beta)   8⋅v⋅cos(\\b\n",
       "\n",
       "              2           ⎞       ⎛              2                       2    \n",
       "  √2⋅\\rho₃⋅v_L ⋅tan(\\beta)⎟       ⎜          β₁⋅v ⋅v_L             2⋅β₃⋅v ⋅v_L\n",
       " ─────────────────────────⎟ + v_R⋅⎜- ───────────────────────── - ─────────────\n",
       "      2    2             2⎟       ⎜       2    2             2        2    2  \n",
       " - 8⋅v ⋅cos (\\beta) + 4⋅v ⎠       ⎝  - 8⋅v ⋅cos (\\beta) + 4⋅v    - 8⋅v ⋅cos (\\\n",
       "                                                                              \n",
       "                                                                              \n",
       "                                                                              \n",
       "          0                                                                   \n",
       "                                                                              \n",
       "                                                                              \n",
       "                                                                              \n",
       "                                                                              \n",
       "                                                                              \n",
       "          0                                                                   \n",
       "                                                                              \n",
       "                                                                              \n",
       "            ⎛                                  2       ⎞                      \n",
       "L   ⎞       ⎜√2⋅β₁⋅v⋅sin(2⋅\\beta)   √2⋅β₃⋅v⋅sin (\\beta)⎟                      \n",
       "────⎟ + v_R⋅⎜──────────────────── + ───────────────────⎟                      \n",
       "eta)⎠       ⎝   16⋅cos(\\beta)           8⋅cos(\\beta)   ⎠                      \n",
       "\n",
       "            ⎞      ⎛             2                2  ⎞                        \n",
       "⋅tan(\\beta) ⎟      ⎜    \\rho₁⋅v_L        \\rho₃⋅v_L   ⎟                        \n",
       "────────────⎟  v_R⋅⎜- ────────────── + ──────────────⎟                        \n",
       "           2⎟      ⎝  8⋅v⋅cos(\\beta)   8⋅v⋅cos(\\beta)⎠                        \n",
       "beta) + 4⋅v ⎠                                                                 \n",
       "                                                                              \n",
       "                                                                              \n",
       "                                                           2 ⎛    \\rho₁⋅v_L   \n",
       "                                  0                     v_R ⋅⎜- ──────────────\n",
       "                                                             ⎝  8⋅v⋅cos(\\beta)\n",
       "                                                                              \n",
       "                                                                              \n",
       "                                                                              \n",
       "                                                                              \n",
       "                                  0                                           \n",
       "                                                                              \n",
       "                                                                              \n",
       "                                                                              \n",
       "                                                                              \n",
       "                                  0                                           \n",
       "                                                                              \n",
       "\n",
       "                                                                     ⎤\n",
       "            √2⋅β₃⋅v⋅v_R⋅sin(\\beta)                                   ⎥\n",
       "            ──────────────────────                                   ⎥\n",
       "                      8                                              ⎥\n",
       "                                                                     ⎥\n",
       "                                                                     ⎥\n",
       "                         ⎛                                  2       ⎞⎥\n",
       "     \\rho₃⋅v_L   ⎞       ⎜√2⋅β₁⋅v⋅sin(2⋅\\beta)   √2⋅β₃⋅v⋅sin (\\beta)⎟⎥\n",
       " + ──────────────⎟ + v_R⋅⎜──────────────────── + ───────────────────⎟⎥\n",
       "   8⋅v⋅cos(\\beta)⎠       ⎝   16⋅cos(\\beta)           8⋅cos(\\beta)   ⎠⎥\n",
       "                                                                     ⎥\n",
       "                                                                     ⎥\n",
       "                                                                     ⎥\n",
       "                                                                     ⎥\n",
       "                       0                                             ⎥\n",
       "                                                                     ⎥\n",
       "                                                                     ⎥\n",
       "                                                                     ⎥\n",
       "                                                                     ⎥\n",
       "                       0                                             ⎥\n",
       "                                                                     ⎦"
      ]
     },
     "execution_count": 133,
     "metadata": {},
     "output_type": "execute_result"
    }
   ],
   "source": [
    "Mp_square_approx = Mass_matrix_approximation(Mp_square)\n",
    "Mp_square_approx"
   ]
  },
  {
   "cell_type": "code",
   "execution_count": 134,
   "metadata": {},
   "outputs": [
    {
     "data": {
      "text/latex": [
       "$\\displaystyle \\left[\\begin{matrix}0 & \\frac{\\beta_{1} v_{L} v_{R}}{4} & v_{R} \\left(- \\frac{\\rho_{1} v_{L}^{2}}{8 v} + \\frac{\\rho_{3} v_{L}^{2}}{8 v}\\right) & 0\\\\\\frac{\\beta_{1} v_{L} v_{R}}{4} & 0 & 0 & v_{R}^{2} \\left(- \\frac{\\rho_{1} v_{L}}{8 v} + \\frac{\\rho_{3} v_{L}}{8 v}\\right)\\\\v_{R} \\left(- \\frac{\\rho_{1} v_{L}^{2}}{8 v} + \\frac{\\rho_{3} v_{L}^{2}}{8 v}\\right) & 0 & 0 & 0\\\\0 & v_{R}^{2} \\left(- \\frac{\\rho_{1} v_{L}}{8 v} + \\frac{\\rho_{3} v_{L}}{8 v}\\right) & 0 & 0\\end{matrix}\\right]$"
      ],
      "text/plain": [
       "⎡                                                                     ⎛       \n",
       "⎢                                           β₁⋅v_L⋅v_R                ⎜  \\rho₁\n",
       "⎢               0                           ──────────            v_R⋅⎜- ─────\n",
       "⎢                                               4                     ⎝     8⋅\n",
       "⎢                                                                             \n",
       "⎢          β₁⋅v_L⋅v_R                                                         \n",
       "⎢          ──────────                           0                             \n",
       "⎢              4                                                              \n",
       "⎢                                                                             \n",
       "⎢    ⎛           2            2⎞                                              \n",
       "⎢    ⎜  \\rho₁⋅v_L    \\rho₃⋅v_L ⎟                                              \n",
       "⎢v_R⋅⎜- ────────── + ──────────⎟                0                             \n",
       "⎢    ⎝     8⋅v          8⋅v    ⎠                                              \n",
       "⎢                                                                             \n",
       "⎢                                    2 ⎛  \\rho₁⋅v_L   \\rho₃⋅v_L⎞              \n",
       "⎢               0                 v_R ⋅⎜- ───────── + ─────────⎟              \n",
       "⎣                                      ⎝     8⋅v         8⋅v   ⎠              \n",
       "\n",
       "    2            2⎞                                ⎤\n",
       "⋅v_L    \\rho₃⋅v_L ⎟                                ⎥\n",
       "───── + ──────────⎟                0               ⎥\n",
       "v          8⋅v    ⎠                                ⎥\n",
       "                                                   ⎥\n",
       "                        2 ⎛  \\rho₁⋅v_L   \\rho₃⋅v_L⎞⎥\n",
       "   0                 v_R ⋅⎜- ───────── + ─────────⎟⎥\n",
       "                          ⎝     8⋅v         8⋅v   ⎠⎥\n",
       "                                                   ⎥\n",
       "                                                   ⎥\n",
       "                                                   ⎥\n",
       "   0                               0               ⎥\n",
       "                                                   ⎥\n",
       "                                                   ⎥\n",
       "                                                   ⎥\n",
       "   0                               0               ⎥\n",
       "                                                   ⎦"
      ]
     },
     "execution_count": 134,
     "metadata": {},
     "output_type": "execute_result"
    }
   ],
   "source": [
    "Mp_square_approx.subs(beta,0)"
   ]
  },
  {
   "cell_type": "code",
   "execution_count": 135,
   "metadata": {},
   "outputs": [
    {
     "data": {
      "image/png": "[encoded data removed]",
      "text/latex": [
       "$\\displaystyle \\left\\{ - \\frac{\\sqrt{2} \\sqrt{\\rho_{1}^{2} v_{L}^{4} v_{R}^{2} + \\rho_{1}^{2} v_{L}^{2} v_{R}^{4} - 2 \\rho_{1} \\rho_{3} v_{L}^{4} v_{R}^{2} - 2 \\rho_{1} \\rho_{3} v_{L}^{2} v_{R}^{4} + \\rho_{3}^{2} v_{L}^{4} v_{R}^{2} + \\rho_{3}^{2} v_{L}^{2} v_{R}^{4} + 4 \\beta_{1}^{2} v^{2} v_{L}^{2} v_{R}^{2} - v_{L}^{2} v_{R}^{2} \\sqrt{\\rho_{1}^{4} v_{L}^{4} - 2 \\rho_{1}^{4} v_{L}^{2} v_{R}^{2} + \\rho_{1}^{4} v_{R}^{4} - 4 \\rho_{1}^{3} \\rho_{3} v_{L}^{4} + 8 \\rho_{1}^{3} \\rho_{3} v_{L}^{2} v_{R}^{2} - 4 \\rho_{1}^{3} \\rho_{3} v_{R}^{4} + 6 \\rho_{1}^{2} \\rho_{3}^{2} v_{L}^{4} - 12 \\rho_{1}^{2} \\rho_{3}^{2} v_{L}^{2} v_{R}^{2} + 6 \\rho_{1}^{2} \\rho_{3}^{2} v_{R}^{4} + 8 \\rho_{1}^{2} \\beta_{1}^{2} v^{2} v_{L}^{2} + 8 \\rho_{1}^{2} \\beta_{1}^{2} v^{2} v_{R}^{2} - 4 \\rho_{1} \\rho_{3}^{3} v_{L}^{4} + 8 \\rho_{1} \\rho_{3}^{3} v_{L}^{2} v_{R}^{2} - 4 \\rho_{1} \\rho_{3}^{3} v_{R}^{4} - 16 \\rho_{1} \\rho_{3} \\beta_{1}^{2} v^{2} v_{L}^{2} - 16 \\rho_{1} \\rho_{3} \\beta_{1}^{2} v^{2} v_{R}^{2} + \\rho_{3}^{4} v_{L}^{4} - 2 \\rho_{3}^{4} v_{L}^{2} v_{R}^{2} + \\rho_{3}^{4} v_{R}^{4} + 8 \\rho_{3}^{2} \\beta_{1}^{2} v^{2} v_{L}^{2} + 8 \\rho_{3}^{2} \\beta_{1}^{2} v^{2} v_{R}^{2} + 16 \\beta_{1}^{4} v^{4}}}}{16 v} : 1, \\  \\frac{\\sqrt{2} \\sqrt{\\rho_{1}^{2} v_{L}^{4} v_{R}^{2} + \\rho_{1}^{2} v_{L}^{2} v_{R}^{4} - 2 \\rho_{1} \\rho_{3} v_{L}^{4} v_{R}^{2} - 2 \\rho_{1} \\rho_{3} v_{L}^{2} v_{R}^{4} + \\rho_{3}^{2} v_{L}^{4} v_{R}^{2} + \\rho_{3}^{2} v_{L}^{2} v_{R}^{4} + 4 \\beta_{1}^{2} v^{2} v_{L}^{2} v_{R}^{2} - v_{L}^{2} v_{R}^{2} \\sqrt{\\rho_{1}^{4} v_{L}^{4} - 2 \\rho_{1}^{4} v_{L}^{2} v_{R}^{2} + \\rho_{1}^{4} v_{R}^{4} - 4 \\rho_{1}^{3} \\rho_{3} v_{L}^{4} + 8 \\rho_{1}^{3} \\rho_{3} v_{L}^{2} v_{R}^{2} - 4 \\rho_{1}^{3} \\rho_{3} v_{R}^{4} + 6 \\rho_{1}^{2} \\rho_{3}^{2} v_{L}^{4} - 12 \\rho_{1}^{2} \\rho_{3}^{2} v_{L}^{2} v_{R}^{2} + 6 \\rho_{1}^{2} \\rho_{3}^{2} v_{R}^{4} + 8 \\rho_{1}^{2} \\beta_{1}^{2} v^{2} v_{L}^{2} + 8 \\rho_{1}^{2} \\beta_{1}^{2} v^{2} v_{R}^{2} - 4 \\rho_{1} \\rho_{3}^{3} v_{L}^{4} + 8 \\rho_{1} \\rho_{3}^{3} v_{L}^{2} v_{R}^{2} - 4 \\rho_{1} \\rho_{3}^{3} v_{R}^{4} - 16 \\rho_{1} \\rho_{3} \\beta_{1}^{2} v^{2} v_{L}^{2} - 16 \\rho_{1} \\rho_{3} \\beta_{1}^{2} v^{2} v_{R}^{2} + \\rho_{3}^{4} v_{L}^{4} - 2 \\rho_{3}^{4} v_{L}^{2} v_{R}^{2} + \\rho_{3}^{4} v_{R}^{4} + 8 \\rho_{3}^{2} \\beta_{1}^{2} v^{2} v_{L}^{2} + 8 \\rho_{3}^{2} \\beta_{1}^{2} v^{2} v_{R}^{2} + 16 \\beta_{1}^{4} v^{4}}}}{16 v} : 1, \\  - \\frac{\\sqrt{2} \\sqrt{\\rho_{1}^{2} v_{L}^{4} v_{R}^{2} + \\rho_{1}^{2} v_{L}^{2} v_{R}^{4} - 2 \\rho_{1} \\rho_{3} v_{L}^{4} v_{R}^{2} - 2 \\rho_{1} \\rho_{3} v_{L}^{2} v_{R}^{4} + \\rho_{3}^{2} v_{L}^{4} v_{R}^{2} + \\rho_{3}^{2} v_{L}^{2} v_{R}^{4} + 4 \\beta_{1}^{2} v^{2} v_{L}^{2} v_{R}^{2} + v_{L}^{2} v_{R}^{2} \\sqrt{\\rho_{1}^{4} v_{L}^{4} - 2 \\rho_{1}^{4} v_{L}^{2} v_{R}^{2} + \\rho_{1}^{4} v_{R}^{4} - 4 \\rho_{1}^{3} \\rho_{3} v_{L}^{4} + 8 \\rho_{1}^{3} \\rho_{3} v_{L}^{2} v_{R}^{2} - 4 \\rho_{1}^{3} \\rho_{3} v_{R}^{4} + 6 \\rho_{1}^{2} \\rho_{3}^{2} v_{L}^{4} - 12 \\rho_{1}^{2} \\rho_{3}^{2} v_{L}^{2} v_{R}^{2} + 6 \\rho_{1}^{2} \\rho_{3}^{2} v_{R}^{4} + 8 \\rho_{1}^{2} \\beta_{1}^{2} v^{2} v_{L}^{2} + 8 \\rho_{1}^{2} \\beta_{1}^{2} v^{2} v_{R}^{2} - 4 \\rho_{1} \\rho_{3}^{3} v_{L}^{4} + 8 \\rho_{1} \\rho_{3}^{3} v_{L}^{2} v_{R}^{2} - 4 \\rho_{1} \\rho_{3}^{3} v_{R}^{4} - 16 \\rho_{1} \\rho_{3} \\beta_{1}^{2} v^{2} v_{L}^{2} - 16 \\rho_{1} \\rho_{3} \\beta_{1}^{2} v^{2} v_{R}^{2} + \\rho_{3}^{4} v_{L}^{4} - 2 \\rho_{3}^{4} v_{L}^{2} v_{R}^{2} + \\rho_{3}^{4} v_{R}^{4} + 8 \\rho_{3}^{2} \\beta_{1}^{2} v^{2} v_{L}^{2} + 8 \\rho_{3}^{2} \\beta_{1}^{2} v^{2} v_{R}^{2} + 16 \\beta_{1}^{4} v^{4}}}}{16 v} : 1, \\  \\frac{\\sqrt{2} \\sqrt{\\rho_{1}^{2} v_{L}^{4} v_{R}^{2} + \\rho_{1}^{2} v_{L}^{2} v_{R}^{4} - 2 \\rho_{1} \\rho_{3} v_{L}^{4} v_{R}^{2} - 2 \\rho_{1} \\rho_{3} v_{L}^{2} v_{R}^{4} + \\rho_{3}^{2} v_{L}^{4} v_{R}^{2} + \\rho_{3}^{2} v_{L}^{2} v_{R}^{4} + 4 \\beta_{1}^{2} v^{2} v_{L}^{2} v_{R}^{2} + v_{L}^{2} v_{R}^{2} \\sqrt{\\rho_{1}^{4} v_{L}^{4} - 2 \\rho_{1}^{4} v_{L}^{2} v_{R}^{2} + \\rho_{1}^{4} v_{R}^{4} - 4 \\rho_{1}^{3} \\rho_{3} v_{L}^{4} + 8 \\rho_{1}^{3} \\rho_{3} v_{L}^{2} v_{R}^{2} - 4 \\rho_{1}^{3} \\rho_{3} v_{R}^{4} + 6 \\rho_{1}^{2} \\rho_{3}^{2} v_{L}^{4} - 12 \\rho_{1}^{2} \\rho_{3}^{2} v_{L}^{2} v_{R}^{2} + 6 \\rho_{1}^{2} \\rho_{3}^{2} v_{R}^{4} + 8 \\rho_{1}^{2} \\beta_{1}^{2} v^{2} v_{L}^{2} + 8 \\rho_{1}^{2} \\beta_{1}^{2} v^{2} v_{R}^{2} - 4 \\rho_{1} \\rho_{3}^{3} v_{L}^{4} + 8 \\rho_{1} \\rho_{3}^{3} v_{L}^{2} v_{R}^{2} - 4 \\rho_{1} \\rho_{3}^{3} v_{R}^{4} - 16 \\rho_{1} \\rho_{3} \\beta_{1}^{2} v^{2} v_{L}^{2} - 16 \\rho_{1} \\rho_{3} \\beta_{1}^{2} v^{2} v_{R}^{2} + \\rho_{3}^{4} v_{L}^{4} - 2 \\rho_{3}^{4} v_{L}^{2} v_{R}^{2} + \\rho_{3}^{4} v_{R}^{4} + 8 \\rho_{3}^{2} \\beta_{1}^{2} v^{2} v_{L}^{2} + 8 \\rho_{3}^{2} \\beta_{1}^{2} v^{2} v_{R}^{2} + 16 \\beta_{1}^{4} v^{4}}}}{16 v} : 1\\right\\}$"
      ],
      "text/plain": [
       "⎧        _____________________________________________________________________\n",
       "⎪       ╱                                                                     \n",
       "⎪      ╱       2    4    2        2    2    4                    4    2       \n",
       "⎨-√2⋅╲╱   \\rho₁ ⋅v_L ⋅v_R  + \\rho₁ ⋅v_L ⋅v_R  - 2⋅\\rho₁⋅\\rho₃⋅v_L ⋅v_R  - 2⋅\\r\n",
       "⎪─────────────────────────────────────────────────────────────────────────────\n",
       "⎪                                                                             \n",
       "⎩                                                                             \n",
       "\n",
       "______________________________________________________________________________\n",
       "                                                                              \n",
       "             2    4        2    4    2        2    2    4       2  2    2    2\n",
       "ho₁⋅\\rho₃⋅v_L ⋅v_R  + \\rho₃ ⋅v_L ⋅v_R  + \\rho₃ ⋅v_L ⋅v_R  + 4⋅β₁ ⋅v ⋅v_L ⋅v_R \n",
       "──────────────────────────────────────────────────────────────────────────────\n",
       "                                                                              \n",
       "                                                                              \n",
       "\n",
       "______________________________________________________________________________\n",
       "                ______________________________________________________________\n",
       "      2    2   ╱      4    4          4    2    2        4    4          3    \n",
       " - v_L ⋅v_R ⋅╲╱  \\rho₁ ⋅v_L  - 2⋅\\rho₁ ⋅v_L ⋅v_R  + \\rho₁ ⋅v_R  - 4⋅\\rho₁ ⋅\\rh\n",
       "──────────────────────────────────────────────────────────────────────────────\n",
       "                                                                              \n",
       "                                                                              \n",
       "\n",
       "______________________________________________________________________________\n",
       "______________________________________________________________________________\n",
       "      4          3          2    2          3          4          2      2    \n",
       "o₃⋅v_L  + 8⋅\\rho₁ ⋅\\rho₃⋅v_L ⋅v_R  - 4⋅\\rho₁ ⋅\\rho₃⋅v_R  + 6⋅\\rho₁ ⋅\\rho₃ ⋅v_L\n",
       "──────────────────────────────────────────────────────────────────────────────\n",
       "                                                                              \n",
       "                                                                              \n",
       "\n",
       "______________________________________________________________________________\n",
       "______________________________________________________________________________\n",
       "4           2      2    2    2          2      2    4          2   2  2    2  \n",
       "  - 12⋅\\rho₁ ⋅\\rho₃ ⋅v_L ⋅v_R  + 6⋅\\rho₁ ⋅\\rho₃ ⋅v_R  + 8⋅\\rho₁ ⋅β₁ ⋅v ⋅v_L  +\n",
       "──────────────────────────────────────────────────────────────────────────────\n",
       "            16⋅v                                                              \n",
       "                                                                              \n",
       "\n",
       "______________________________________________________________________________\n",
       "______________________________________________________________________________\n",
       "        2   2  2    2                3    4                3    2    2        \n",
       " 8⋅\\rho₁ ⋅β₁ ⋅v ⋅v_R  - 4⋅\\rho₁⋅\\rho₃ ⋅v_L  + 8⋅\\rho₁⋅\\rho₃ ⋅v_L ⋅v_R  - 4⋅\\rh\n",
       "──────────────────────────────────────────────────────────────────────────────\n",
       "                                                                              \n",
       "                                                                              \n",
       "\n",
       "______________________________________________________________________________\n",
       "______________________________________________________________________________\n",
       "        3    4                    2  2    2                    2  2    2      \n",
       "o₁⋅\\rho₃ ⋅v_R  - 16⋅\\rho₁⋅\\rho₃⋅β₁ ⋅v ⋅v_L  - 16⋅\\rho₁⋅\\rho₃⋅β₁ ⋅v ⋅v_R  + \\rh\n",
       "──────────────────────────────────────────────────────────────────────────────\n",
       "                                                                              \n",
       "                                                                              \n",
       "\n",
       "______________________________________________________________________________\n",
       "______________________________________________________________________________\n",
       "  4    4          4    2    2        4    4          2   2  2    2          2 \n",
       "o₃ ⋅v_L  - 2⋅\\rho₃ ⋅v_L ⋅v_R  + \\rho₃ ⋅v_R  + 8⋅\\rho₃ ⋅β₁ ⋅v ⋅v_L  + 8⋅\\rho₃ ⋅\n",
       "──────────────────────────────────────────────────────────────────────────────\n",
       "                                                                              \n",
       "                                                                              \n",
       "\n",
       "_________________________             ________________________________________\n",
       "________________________             ╱                                        \n",
       "  2  2    2        4  4             ╱       2    4    2        2    2    4    \n",
       "β₁ ⋅v ⋅v_R  + 16⋅β₁ ⋅v         √2⋅╲╱   \\rho₁ ⋅v_L ⋅v_R  + \\rho₁ ⋅v_L ⋅v_R  - 2\n",
       "──────────────────────────: 1, ───────────────────────────────────────────────\n",
       "                                                                              \n",
       "                                                                              \n",
       "\n",
       "______________________________________________________________________________\n",
       "                                                                              \n",
       "                4    2                    2    4        2    4    2        2  \n",
       "⋅\\rho₁⋅\\rho₃⋅v_L ⋅v_R  - 2⋅\\rho₁⋅\\rho₃⋅v_L ⋅v_R  + \\rho₃ ⋅v_L ⋅v_R  + \\rho₃ ⋅v\n",
       "──────────────────────────────────────────────────────────────────────────────\n",
       "                                                                              \n",
       "                                                                              \n",
       "\n",
       "______________________________________________________________________________\n",
       "                                             _________________________________\n",
       "  2    4       2  2    2    2      2    2   ╱      4    4          4    2    2\n",
       "_L ⋅v_R  + 4⋅β₁ ⋅v ⋅v_L ⋅v_R  - v_L ⋅v_R ⋅╲╱  \\rho₁ ⋅v_L  - 2⋅\\rho₁ ⋅v_L ⋅v_R \n",
       "──────────────────────────────────────────────────────────────────────────────\n",
       "                                                                              \n",
       "                                                                              \n",
       "\n",
       "______________________________________________________________________________\n",
       "______________________________________________________________________________\n",
       "        4    4          3          4          3          2    2          3    \n",
       " + \\rho₁ ⋅v_R  - 4⋅\\rho₁ ⋅\\rho₃⋅v_L  + 8⋅\\rho₁ ⋅\\rho₃⋅v_L ⋅v_R  - 4⋅\\rho₁ ⋅\\rh\n",
       "──────────────────────────────────────────────────────────────────────────────\n",
       "                                                                              \n",
       "                                                                              \n",
       "\n",
       "______________________________________________________________________________\n",
       "______________________________________________________________________________\n",
       "      4          2      2    4           2      2    2    2          2      2 \n",
       "o₃⋅v_R  + 6⋅\\rho₁ ⋅\\rho₃ ⋅v_L  - 12⋅\\rho₁ ⋅\\rho₃ ⋅v_L ⋅v_R  + 6⋅\\rho₁ ⋅\\rho₃ ⋅\n",
       "──────────────────────────────────────────────────────────────────────────────\n",
       "                                         16⋅v                                 \n",
       "                                                                              \n",
       "\n",
       "______________________________________________________________________________\n",
       "______________________________________________________________________________\n",
       "   4          2   2  2    2          2   2  2    2                3    4      \n",
       "v_R  + 8⋅\\rho₁ ⋅β₁ ⋅v ⋅v_L  + 8⋅\\rho₁ ⋅β₁ ⋅v ⋅v_R  - 4⋅\\rho₁⋅\\rho₃ ⋅v_L  + 8⋅\\\n",
       "──────────────────────────────────────────────────────────────────────────────\n",
       "                                                                              \n",
       "                                                                              \n",
       "\n",
       "______________________________________________________________________________\n",
       "______________________________________________________________________________\n",
       "          3    2    2                3    4                    2  2    2      \n",
       "rho₁⋅\\rho₃ ⋅v_L ⋅v_R  - 4⋅\\rho₁⋅\\rho₃ ⋅v_R  - 16⋅\\rho₁⋅\\rho₃⋅β₁ ⋅v ⋅v_L  - 16⋅\n",
       "──────────────────────────────────────────────────────────────────────────────\n",
       "                                                                              \n",
       "                                                                              \n",
       "\n",
       "______________________________________________________________________________\n",
       "______________________________________________________________________________\n",
       "              2  2    2        4    4          4    2    2        4    4      \n",
       "\\rho₁⋅\\rho₃⋅β₁ ⋅v ⋅v_R  + \\rho₃ ⋅v_L  - 2⋅\\rho₃ ⋅v_L ⋅v_R  + \\rho₃ ⋅v_R  + 8⋅\\\n",
       "──────────────────────────────────────────────────────────────────────────────\n",
       "                                                                              \n",
       "                                                                              \n",
       "\n",
       "______________________________________________________             ___________\n",
       "_____________________________________________________             ╱           \n",
       "    2   2  2    2          2   2  2    2        4  4             ╱       2    \n",
       "rho₃ ⋅β₁ ⋅v ⋅v_L  + 8⋅\\rho₃ ⋅β₁ ⋅v ⋅v_R  + 16⋅β₁ ⋅v        -√2⋅╲╱   \\rho₁ ⋅v_L\n",
       "──────────────────────────────────────────────────────: 1, ───────────────────\n",
       "                                                                              \n",
       "                                                                              \n",
       "\n",
       "______________________________________________________________________________\n",
       "                                                                              \n",
       "4    2        2    2    4                    4    2                    2    4 \n",
       " ⋅v_R  + \\rho₁ ⋅v_L ⋅v_R  - 2⋅\\rho₁⋅\\rho₃⋅v_L ⋅v_R  - 2⋅\\rho₁⋅\\rho₃⋅v_L ⋅v_R  \n",
       "──────────────────────────────────────────────────────────────────────────────\n",
       "                                                                              \n",
       "                                                                              \n",
       "\n",
       "______________________________________________________________________________\n",
       "                                                                          ____\n",
       "       2    4    2        2    2    4       2  2    2    2      2    2   ╱    \n",
       "+ \\rho₃ ⋅v_L ⋅v_R  + \\rho₃ ⋅v_L ⋅v_R  + 4⋅β₁ ⋅v ⋅v_L ⋅v_R  + v_L ⋅v_R ⋅╲╱  \\rh\n",
       "──────────────────────────────────────────────────────────────────────────────\n",
       "                                                                              \n",
       "                                                                              \n",
       "\n",
       "______________________________________________________________________________\n",
       "______________________________________________________________________________\n",
       "  4    4          4    2    2        4    4          3          4          3  \n",
       "o₁ ⋅v_L  - 2⋅\\rho₁ ⋅v_L ⋅v_R  + \\rho₁ ⋅v_R  - 4⋅\\rho₁ ⋅\\rho₃⋅v_L  + 8⋅\\rho₁ ⋅\\\n",
       "──────────────────────────────────────────────────────────────────────────────\n",
       "                                                                              \n",
       "                                                                              \n",
       "\n",
       "______________________________________________________________________________\n",
       "______________________________________________________________________________\n",
       "        2    2          3          4          2      2    4           2      2\n",
       "rho₃⋅v_L ⋅v_R  - 4⋅\\rho₁ ⋅\\rho₃⋅v_R  + 6⋅\\rho₁ ⋅\\rho₃ ⋅v_L  - 12⋅\\rho₁ ⋅\\rho₃ \n",
       "──────────────────────────────────────────────────────────────────────────────\n",
       "                                                                      16⋅v    \n",
       "                                                                              \n",
       "\n",
       "______________________________________________________________________________\n",
       "______________________________________________________________________________\n",
       "    2    2          2      2    4          2   2  2    2          2   2  2    \n",
       "⋅v_L ⋅v_R  + 6⋅\\rho₁ ⋅\\rho₃ ⋅v_R  + 8⋅\\rho₁ ⋅β₁ ⋅v ⋅v_L  + 8⋅\\rho₁ ⋅β₁ ⋅v ⋅v_R\n",
       "──────────────────────────────────────────────────────────────────────────────\n",
       "                                                                              \n",
       "                                                                              \n",
       "\n",
       "______________________________________________________________________________\n",
       "______________________________________________________________________________\n",
       "2                3    4                3    2    2                3    4      \n",
       "  - 4⋅\\rho₁⋅\\rho₃ ⋅v_L  + 8⋅\\rho₁⋅\\rho₃ ⋅v_L ⋅v_R  - 4⋅\\rho₁⋅\\rho₃ ⋅v_R  - 16⋅\n",
       "──────────────────────────────────────────────────────────────────────────────\n",
       "                                                                              \n",
       "                                                                              \n",
       "\n",
       "______________________________________________________________________________\n",
       "______________________________________________________________________________\n",
       "              2  2    2                    2  2    2        4    4          4 \n",
       "\\rho₁⋅\\rho₃⋅β₁ ⋅v ⋅v_L  - 16⋅\\rho₁⋅\\rho₃⋅β₁ ⋅v ⋅v_R  + \\rho₃ ⋅v_L  - 2⋅\\rho₃ ⋅\n",
       "──────────────────────────────────────────────────────────────────────────────\n",
       "                                                                              \n",
       "                                                                              \n",
       "\n",
       "______________________________________________________________________________\n",
       "______________________________________________________________________________\n",
       "   2    2        4    4          2   2  2    2          2   2  2    2        4\n",
       "v_L ⋅v_R  + \\rho₃ ⋅v_R  + 8⋅\\rho₃ ⋅β₁ ⋅v ⋅v_L  + 8⋅\\rho₃ ⋅β₁ ⋅v ⋅v_R  + 16⋅β₁ \n",
       "──────────────────────────────────────────────────────────────────────────────\n",
       "                                                                              \n",
       "                                                                              \n",
       "\n",
       "_____             ____________________________________________________________\n",
       "____             ╱                                                            \n",
       "  4             ╱       2    4    2        2    2    4                    4   \n",
       "⋅v         √2⋅╲╱   \\rho₁ ⋅v_L ⋅v_R  + \\rho₁ ⋅v_L ⋅v_R  - 2⋅\\rho₁⋅\\rho₃⋅v_L ⋅v_\n",
       "──────: 1, ───────────────────────────────────────────────────────────────────\n",
       "                                                                              \n",
       "                                                                              \n",
       "\n",
       "______________________________________________________________________________\n",
       "                                                                              \n",
       " 2                    2    4        2    4    2        2    2    4       2  2 \n",
       "R  - 2⋅\\rho₁⋅\\rho₃⋅v_L ⋅v_R  + \\rho₃ ⋅v_L ⋅v_R  + \\rho₃ ⋅v_L ⋅v_R  + 4⋅β₁ ⋅v ⋅\n",
       "──────────────────────────────────────────────────────────────────────────────\n",
       "                                                                              \n",
       "                                                                              \n",
       "\n",
       "______________________________________________________________________________\n",
       "                         _____________________________________________________\n",
       "   2    2      2    2   ╱      4    4          4    2    2        4    4      \n",
       "v_L ⋅v_R  + v_L ⋅v_R ⋅╲╱  \\rho₁ ⋅v_L  - 2⋅\\rho₁ ⋅v_L ⋅v_R  + \\rho₁ ⋅v_R  - 4⋅\\\n",
       "──────────────────────────────────────────────────────────────────────────────\n",
       "                                                                              \n",
       "                                                                              \n",
       "\n",
       "______________________________________________________________________________\n",
       "______________________________________________________________________________\n",
       "    3          4          3          2    2          3          4          2  \n",
       "rho₁ ⋅\\rho₃⋅v_L  + 8⋅\\rho₁ ⋅\\rho₃⋅v_L ⋅v_R  - 4⋅\\rho₁ ⋅\\rho₃⋅v_R  + 6⋅\\rho₁ ⋅\\\n",
       "──────────────────────────────────────────────────────────────────────────────\n",
       "                                                                              \n",
       "                                                                              \n",
       "\n",
       "______________________________________________________________________________\n",
       "______________________________________________________________________________\n",
       "    2    4           2      2    2    2          2      2    4          2   2 \n",
       "rho₃ ⋅v_L  - 12⋅\\rho₁ ⋅\\rho₃ ⋅v_L ⋅v_R  + 6⋅\\rho₁ ⋅\\rho₃ ⋅v_R  + 8⋅\\rho₁ ⋅β₁ ⋅\n",
       "──────────────────────────────────────────────────────────────────────────────\n",
       "                     16⋅v                                                     \n",
       "                                                                              \n",
       "\n",
       "______________________________________________________________________________\n",
       "______________________________________________________________________________\n",
       " 2    2          2   2  2    2                3    4                3    2    \n",
       "v ⋅v_L  + 8⋅\\rho₁ ⋅β₁ ⋅v ⋅v_R  - 4⋅\\rho₁⋅\\rho₃ ⋅v_L  + 8⋅\\rho₁⋅\\rho₃ ⋅v_L ⋅v_R\n",
       "──────────────────────────────────────────────────────────────────────────────\n",
       "                                                                              \n",
       "                                                                              \n",
       "\n",
       "______________________________________________________________________________\n",
       "______________________________________________________________________________\n",
       "2                3    4                    2  2    2                    2  2  \n",
       "  - 4⋅\\rho₁⋅\\rho₃ ⋅v_R  - 16⋅\\rho₁⋅\\rho₃⋅β₁ ⋅v ⋅v_L  - 16⋅\\rho₁⋅\\rho₃⋅β₁ ⋅v ⋅v\n",
       "──────────────────────────────────────────────────────────────────────────────\n",
       "                                                                              \n",
       "                                                                              \n",
       "\n",
       "______________________________________________________________________________\n",
       "______________________________________________________________________________\n",
       "  2        4    4          4    2    2        4    4          2   2  2    2   \n",
       "_R  + \\rho₃ ⋅v_L  - 2⋅\\rho₃ ⋅v_L ⋅v_R  + \\rho₃ ⋅v_R  + 8⋅\\rho₃ ⋅β₁ ⋅v ⋅v_L  + \n",
       "──────────────────────────────────────────────────────────────────────────────\n",
       "                                                                              \n",
       "                                                                              \n",
       "\n",
       "__________________________________   ⎫\n",
       "_________________________________    ⎪\n",
       "       2   2  2    2        4  4     ⎪\n",
       "8⋅\\rho₃ ⋅β₁ ⋅v ⋅v_R  + 16⋅β₁ ⋅v      ⎬\n",
       "──────────────────────────────────: 1⎪\n",
       "                                     ⎪\n",
       "                                     ⎭"
      ]
     },
     "execution_count": 135,
     "metadata": {},
     "output_type": "execute_result"
    }
   ],
   "source": [
    "Mp_square_approx.subs(beta,0).eigenvals()"
   ]
  },
  {
   "cell_type": "code",
   "execution_count": 140,
   "metadata": {},
   "outputs": [
    {
     "data": {
      "text/latex": [
       "$\\displaystyle \\left[\\begin{matrix}0 & 0\\\\0 & 0\\end{matrix}\\right]$"
      ],
      "text/plain": [
       "⎡0  0⎤\n",
       "⎢    ⎥\n",
       "⎣0  0⎦"
      ]
     },
     "execution_count": 140,
     "metadata": {},
     "output_type": "execute_result"
    }
   ],
   "source": [
    "Mpp_square_approx = Mass_matrix_approximation(Mpp_square)\n",
    "Mpp_square_approx"
   ]
  },
  {
   "cell_type": "markdown",
   "metadata": {},
   "source": [
    "## Yukawa charged lepton sector"
   ]
  },
  {
   "cell_type": "code",
   "execution_count": 106,
   "metadata": {},
   "outputs": [],
   "source": [
    "from sympy import IndexedBase, Idx"
   ]
  },
  {
   "cell_type": "code",
   "execution_count": 107,
   "metadata": {},
   "outputs": [],
   "source": [
    "#Indexed?"
   ]
  },
  {
   "cell_type": "code",
   "execution_count": 108,
   "metadata": {},
   "outputs": [],
   "source": [
    "i,j = symbols('i, j', cls=Idx)\n",
    "#h = IndexedBase('h')\n",
    "#ht = IndexedBase(r'\\tilde{h}')\n",
    "hij = symbols('h_{ij}')\n",
    "htij = symbols(r'\\tilde{h}_{ij}')"
   ]
  },
  {
   "cell_type": "code",
   "execution_count": 109,
   "metadata": {},
   "outputs": [],
   "source": [
    "#ht[i, j]"
   ]
  },
  {
   "cell_type": "code",
   "execution_count": 110,
   "metadata": {},
   "outputs": [],
   "source": [
    "nueL, numuL, nutauL = symbols(r'{{\\nu_{L}}}_e, {{\\nu_{L}}}_\\mu, {{\\nu_{L}}}_\\tau')\n",
    "nueR, numuR, nutauR = symbols(r'{{\\nu_{R}}}_e, {{\\nu_{R}}}_\\mu, {{\\nu_{R}}}_\\tau')\n",
    "nuL = IndexedBase(r'{{\\nu_{L}}}')\n",
    "nuR = IndexedBase(r'{{\\nu_{R}}}')\n",
    "eL, muL, tauL = symbols(r'e_L, \\mu_L, \\tau_L')\n",
    "eR, muR, tauR = symbols(r'e_R, \\mu_R, \\tau_R')\n",
    "lL = IndexedBase('{{l_L}}')\n",
    "lR = IndexedBase('{{l_R}}')"
   ]
  },
  {
   "cell_type": "code",
   "execution_count": 111,
   "metadata": {},
   "outputs": [
    {
     "data": {
      "image/png": "[encoded data removed]",
      "text/latex": [
       "$\\displaystyle \\left( {{\\nu_{L}}}_e, \\  {{{\\nu_{L}}}}_{i}\\right)$"
      ],
      "text/plain": [
       "({{\\nu_{L}}}_e, {{\\nu_{L}}}[i])"
      ]
     },
     "execution_count": 111,
     "metadata": {},
     "output_type": "execute_result"
    }
   ],
   "source": [
    "nueL, nuL[i]"
   ]
  },
  {
   "cell_type": "code",
   "execution_count": 112,
   "metadata": {},
   "outputs": [
    {
     "data": {
      "text/latex": [
       "$\\displaystyle \\left( \\left[\\begin{matrix}\\overline{{{{\\nu_{L}}}}_{i}} & \\overline{{{{l_L}}}_{i}}\\end{matrix}\\right], \\  \\left[\\begin{matrix}{{{\\nu_{R}}}}_{j}\\\\{{{l_R}}}_{j}\\end{matrix}\\right]\\right)$"
      ],
      "text/plain": [
       "⎛⎡______________  __________⎤  ⎡{{\\nu_{R}}}[j]⎤⎞\n",
       "⎜⎣{{\\nu_{L}}}[i]  {{l_L}}[i]⎦, ⎢              ⎥⎟\n",
       "⎝                              ⎣  {{l_R}}[j]  ⎦⎠"
      ]
     },
     "execution_count": 112,
     "metadata": {},
     "output_type": "execute_result"
    }
   ],
   "source": [
    "LLi = Matrix(\n",
    "    [\n",
    "        [nuL[i]],\n",
    "        [lL[i]]\n",
    "    ]\n",
    ")\n",
    "LRj = Matrix(\n",
    "    [\n",
    "        [nuR[j]],\n",
    "        [lR[j]]\n",
    "    ]\n",
    ")\n",
    "Dagger(LLi), LRj"
   ]
  },
  {
   "cell_type": "code",
   "execution_count": 113,
   "metadata": {},
   "outputs": [
    {
     "data": {
      "text/latex": [
       "$\\displaystyle \\left[\\begin{matrix}\\phi^{0}_{2} & - \\phi^{-}_{2}\\\\- \\phi^{+}_{1} & \\phi^{0}_{1}\\end{matrix}\\right]$"
      ],
      "text/plain": [
       "⎡\\phi⁰₂   -\\phi⁻₂⎤\n",
       "⎢                ⎥\n",
       "⎣-\\phi⁺₁  \\phi⁰₁ ⎦"
      ]
     },
     "execution_count": 113,
     "metadata": {},
     "output_type": "execute_result"
    }
   ],
   "source": [
    "Phitilde"
   ]
  },
  {
   "cell_type": "code",
   "execution_count": 114,
   "metadata": {},
   "outputs": [],
   "source": [
    "LY = (Dagger(LLi)*(hij*Phi + htij*Phitilde)*LRj)[0].subs(vevPhi)"
   ]
  },
  {
   "cell_type": "code",
   "execution_count": 115,
   "metadata": {},
   "outputs": [
    {
     "data": {
      "image/png": "[encoded data removed]",
      "text/latex": [
       "$\\displaystyle \\left(\\tilde{h}_{ij} k + h_{ij} k_{1}\\right) \\overline{{{{l_L}}}_{i}} {{{l_R}}}_{j} + \\left(\\tilde{h}_{ij} k_{1} + h_{ij} k\\right) \\overline{{{{\\nu_{L}}}}_{i}} {{{\\nu_{R}}}}_{j}$"
      ],
      "text/plain": [
       "                               __________                                     \n",
       "(\\tilde{h}_{ij}⋅k + h_{ij}⋅k₁)⋅{{l_L}}[i]⋅{{l_R}}[j] + (\\tilde{h}_{ij}⋅k₁ + h_\n",
       "\n",
       "        ______________               \n",
       "{ij}⋅k)⋅{{\\nu_{L}}}[i]⋅{{\\nu_{R}}}[j]"
      ]
     },
     "execution_count": 115,
     "metadata": {},
     "output_type": "execute_result"
    }
   ],
   "source": [
    "LY"
   ]
  },
  {
   "cell_type": "markdown",
   "metadata": {},
   "source": [
    "Charged lepton mass"
   ]
  },
  {
   "cell_type": "code",
   "execution_count": 116,
   "metadata": {},
   "outputs": [
    {
     "data": {
      "image/png": "[encoded data removed]",
      "text/latex": [
       "$\\displaystyle \\tilde{h}_{ij} k + h_{ij} k_{1}$"
      ],
      "text/plain": [
       "\\tilde{h}_{ij}⋅k + h_{ij}⋅k₁"
      ]
     },
     "execution_count": 116,
     "metadata": {},
     "output_type": "execute_result"
    }
   ],
   "source": [
    "Ml = LY.args[0].args[0]\n",
    "Ml"
   ]
  },
  {
   "cell_type": "markdown",
   "metadata": {},
   "source": [
    "Dirac neutrino mass"
   ]
  },
  {
   "cell_type": "code",
   "execution_count": 117,
   "metadata": {},
   "outputs": [
    {
     "data": {
      "image/png": "[encoded data removed]",
      "text/latex": [
       "$\\displaystyle \\tilde{h}_{ij} k_{1} + h_{ij} k$"
      ],
      "text/plain": [
       "\\tilde{h}_{ij}⋅k₁ + h_{ij}⋅k"
      ]
     },
     "execution_count": 117,
     "metadata": {},
     "output_type": "execute_result"
    }
   ],
   "source": [
    "MnuD = LY.args[1].args[0]\n",
    "MnuD"
   ]
  },
  {
   "cell_type": "markdown",
   "metadata": {},
   "source": [
    "As we know, the scale of mass of charged leptons is greater than neutrino mass scale. Thus, we assume $k >> k_1$ and $h_{ij} >> \\tilde{h}_{ij}$. In this aproximation"
   ]
  },
  {
   "cell_type": "code",
   "execution_count": 118,
   "metadata": {},
   "outputs": [
    {
     "data": {
      "image/png": "[encoded data removed]",
      "text/latex": [
       "$\\displaystyle h_{ij} k$"
      ],
      "text/plain": [
       "h_{ij}⋅k"
      ]
     },
     "execution_count": 118,
     "metadata": {},
     "output_type": "execute_result"
    }
   ],
   "source": [
    "Ml = k*hij\n",
    "Ml"
   ]
  },
  {
   "cell_type": "code",
   "execution_count": null,
   "metadata": {},
   "outputs": [],
   "source": []
  }
 ],
 "metadata": {
  "kernelspec": {
   "display_name": "Python 3",
   "language": "python",
   "name": "python3"
  },
  "language_info": {
   "codemirror_mode": {
    "name": "ipython",
    "version": 3
   },
   "file_extension": ".py",
   "mimetype": "text/x-python",
   "name": "python",
   "nbconvert_exporter": "python",
   "pygments_lexer": "ipython3",
   "version": "3.12.1"
  }
 },
 "nbformat": 4,
 "nbformat_minor": 2
}
