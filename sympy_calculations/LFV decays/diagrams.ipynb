{
 "cells": [
  {
   "cell_type": "code",
   "execution_count": 6,
   "id": "298a3a0b",
   "metadata": {},
   "outputs": [
    {
     "name": "stdout",
     "output_type": "stream",
     "text": [
      "Current Working Directory: c:\\Users\\moise\\OneDrive\\Escritorio\\LRSM-with-Spheno\\sympy_calculations\\LFV decays\n",
      "Calculated sympy_calc_path: c:\\Users\\moise\\OneDrive\\Escritorio\\LRSM-with-Spheno\\sympy_calculations\n",
      "Adding c:\\Users\\moise\\OneDrive\\Escritorio\\LRSM-with-Spheno\\sympy_calculations to sys.path\n",
      "Loading DLRSM1 Feynman Rules...\n",
      "Error importing DLRSM package components: No module named 'symbolic_tools'\n",
      "ERROR: Still cannot find DLRSM1. Check the calculated path and structure.\n"
     ]
    }
   ],
   "source": [
    "# In your Jupyter cell (Cell In[4])\n",
    "\n",
    "import sys\n",
    "import os\n",
    "\n",
    "# Get the current working directory (where the notebook server is running from,\n",
    "# or where you launched the interactive session)\n",
    "current_working_directory = os.getcwd()\n",
    "print(f\"Current Working Directory: {current_working_directory}\") # Check this path\n",
    "\n",
    "# Construct the path relative to the CWD\n",
    "# Adjust the relative path ('..', 'sympy_calculations') if your CWD is different\n",
    "# This assumes CWD is something like '.../LRSM-with-Spheno/other_project_folder'\n",
    "# Go up one level from CWD to reach the directory containing DLRSM1\n",
    "sympy_calc_path = os.path.abspath(os.path.join(current_working_directory, '..'))\n",
    "\n",
    "print(f\"Calculated sympy_calc_path: {sympy_calc_path}\") # Check this path\n",
    "\n",
    "# Add the path to sys.path if it's not already there\n",
    "if sympy_calc_path not in sys.path:\n",
    "    print(f\"Adding {sympy_calc_path} to sys.path\")\n",
    "    sys.path.insert(0, sympy_calc_path) # Insert at the beginning\n",
    "else:\n",
    "    print(f\"{sympy_calc_path} already in sys.path\")\n",
    "\n",
    "# Now try the import\n",
    "try:\n",
    "    import DLRSM1\n",
    "    print(\"Successfully imported DLRSM1\")\n",
    "    # You can now use DLRSM1.interactionsH10_WW_dict etc.\n",
    "except ModuleNotFoundError:\n",
    "    print(f\"ERROR: Still cannot find DLRSM1. Check the calculated path and structure.\")\n",
    "except Exception as e:\n",
    "    print(f\"ERROR during import or package loading: {e}\")\n"
   ]
  },
  {
   "cell_type": "code",
   "execution_count": null,
   "id": "a86983de",
   "metadata": {},
   "outputs": [
    {
     "name": "stdout",
     "output_type": "stream",
     "text": [
      "Current Working Directory: c:\\Users\\moise\\OneDrive\\Escritorio\\LRSM-with-Spheno\\sympy_calculations\\LFV decays\n",
      "Calculated sympy_calc_path: c:\\Users\\moise\\OneDrive\\Escritorio\\LRSM-with-Spheno\\sympy_calculations\n",
      "Adding c:\\Users\\moise\\OneDrive\\Escritorio\\LRSM-with-Spheno\\sympy_calculations to sys.path\n",
      "Loading DLRSM1 Feynman Rules...\n",
      "Error importing DLRSM package components: No module named 'symbolic_tools'\n",
      "ERROR: Still cannot find DLRSM1. Check the calculated path and structure.\n"
     ]
    }
   ],
   "source": [
    "# In your Jupyter cell (Cell In[4])\n",
    "\n",
    "import sys\n",
    "import os\n",
    "\n",
    "# Get the current working directory (where the notebook server is running from,\n",
    "# or where you launched the interactive session)\n",
    "current_working_directory = os.getcwd()\n",
    "print(f\"Current Working Directory: {current_working_directory}\") # Check this path\n",
    "\n",
    "# Construct the path relative to the CWD\n",
    "# Adjust the relative path ('..', 'sympy_calculations') if your CWD is different\n",
    "# This assumes CWD is something like '.../LRSM-with-Spheno/other_project_folder'\n",
    "# Go up one level from CWD to reach the directory containing DLRSM1\n",
    "sympy_calc_path = os.path.abspath(os.path.join(current_working_directory, '..'))\n",
    "\n",
    "print(f\"Calculated sympy_calc_path: {sympy_calc_path}\") # Check this path\n",
    "\n",
    "# Add the path to sys.path if it's not already there\n",
    "if sympy_calc_path not in sys.path:\n",
    "    print(f\"Adding {sympy_calc_path} to sys.path\")\n",
    "    sys.path.insert(0, sympy_calc_path) # Insert at the beginning\n",
    "else:\n",
    "    print(f\"{sympy_calc_path} already in sys.path\")\n",
    "\n",
    "# Now try the import\n",
    "try:\n",
    "    import DLRSM1\n",
    "    print(\"Successfully imported DLRSM1\")\n",
    "    # You can now use DLRSM1.interactionsH10_WW_dict etc.\n",
    "except ModuleNotFoundError:\n",
    "    print(f\"ERROR: Still cannot find DLRSM1. Check the calculated path and structure.\")\n",
    "except Exception as e:\n",
    "    print(f\"ERROR during import or package loading: {e}\")\n"
   ]
  },
  {
   "cell_type": "code",
   "execution_count": null,
   "id": "8b406d3e",
   "metadata": {},
   "outputs": [
    {
     "name": "stdout",
     "output_type": "stream",
     "text": [
      "Current Working Directory: c:\\Users\\moise\\OneDrive\\Escritorio\\LRSM-with-Spheno\\sympy_calculations\\LFV decays\n",
      "Calculated sympy_calc_path: c:\\Users\\moise\\OneDrive\\Escritorio\\LRSM-with-Spheno\\sympy_calculations\n",
      "Adding c:\\Users\\moise\\OneDrive\\Escritorio\\LRSM-with-Spheno\\sympy_calculations to sys.path\n",
      "Loading DLRSM1 Feynman Rules...\n",
      "Error importing DLRSM package components: No module named 'symbolic_tools'\n",
      "ERROR: Still cannot find DLRSM1. Check the calculated path and structure.\n"
     ]
    }
   ],
   "source": [
    "# In your Jupyter cell (Cell In[4])\n",
    "\n",
    "import sys\n",
    "import os\n",
    "\n",
    "# Get the current working directory (where the notebook server is running from,\n",
    "# or where you launched the interactive session)\n",
    "current_working_directory = os.getcwd()\n",
    "print(f\"Current Working Directory: {current_working_directory}\") # Check this path\n",
    "\n",
    "# Construct the path relative to the CWD\n",
    "# Adjust the relative path ('..', 'sympy_calculations') if your CWD is different\n",
    "# This assumes CWD is something like '.../LRSM-with-Spheno/other_project_folder'\n",
    "# Go up one level from CWD to reach the directory containing DLRSM1\n",
    "sympy_calc_path = os.path.abspath(os.path.join(current_working_directory, '..'))\n",
    "\n",
    "print(f\"Calculated sympy_calc_path: {sympy_calc_path}\") # Check this path\n",
    "\n",
    "# Add the path to sys.path if it's not already there\n",
    "if sympy_calc_path not in sys.path:\n",
    "    print(f\"Adding {sympy_calc_path} to sys.path\")\n",
    "    sys.path.insert(0, sympy_calc_path) # Insert at the beginning\n",
    "else:\n",
    "    print(f\"{sympy_calc_path} already in sys.path\")\n",
    "\n",
    "# Now try the import\n",
    "try:\n",
    "    import DLRSM1\n",
    "    print(\"Successfully imported DLRSM1\")\n",
    "    # You can now use DLRSM1.interactionsH10_WW_dict etc.\n",
    "except ModuleNotFoundError:\n",
    "    print(f\"ERROR: Still cannot find DLRSM1. Check the calculated path and structure.\")\n",
    "except Exception as e:\n",
    "    print(f\"ERROR during import or package loading: {e}\")\n"
   ]
  },
  {
   "cell_type": "code",
   "execution_count": 2,
   "id": "b1c46d13",
   "metadata": {},
   "outputs": [
    {
     "ename": "ModuleNotFoundError",
     "evalue": "No module named 'DLRSM1'",
     "output_type": "error",
     "traceback": [
      "\u001b[1;31m---------------------------------------------------------------------------\u001b[0m",
      "\u001b[1;31mModuleNotFoundError\u001b[0m                       Traceback (most recent call last)",
      "Cell \u001b[1;32mIn[2], line 1\u001b[0m\n\u001b[1;32m----> 1\u001b[0m \u001b[38;5;28;01mfrom\u001b[39;00m \u001b[38;5;21;01mDLRSM1\u001b[39;00m \u001b[38;5;28;01mimport\u001b[39;00m (\n\u001b[0;32m      2\u001b[0m     interactionsWp_n_l, interactionsWm_n_l,\n\u001b[0;32m      3\u001b[0m     interactionsSp_n_l, interactionsSm_n_l,\n\u001b[0;32m      4\u001b[0m     interactionsH10_SS_dict_approx,\n\u001b[0;32m      5\u001b[0m     interactionsH10_W1mSp_dict_approx,\n\u001b[0;32m      6\u001b[0m     interactionsH10_W1pSm_dict_approx,\n\u001b[0;32m      7\u001b[0m     interactionsH10_W2pSm_dict_approx,\n\u001b[0;32m      8\u001b[0m     interactionsH10_W2mSp_dict_approx,\n\u001b[0;32m      9\u001b[0m     interactionsH10_SS_dict,\n\u001b[0;32m     10\u001b[0m     interactionsH10_WW_dict_approx\n\u001b[0;32m     11\u001b[0m )\n",
      "\u001b[1;31mModuleNotFoundError\u001b[0m: No module named 'DLRSM1'"
     ]
    }
   ],
   "source": [
    "from DLRSM1 import (\n",
    "    interactionsWp_n_l, interactionsWm_n_l,\n",
    "    interactionsSp_n_l, interactionsSm_n_l,\n",
    "    interactionsH10_SS_dict_approx,\n",
    "    interactionsH10_W1mSp_dict_approx,\n",
    "    interactionsH10_W1pSm_dict_approx,\n",
    "    interactionsH10_W2pSm_dict_approx,\n",
    "    interactionsH10_W2mSp_dict_approx,\n",
    "    interactionsH10_SS_dict,\n",
    "    interactionsH10_WW_dict_approx\n",
    ")"
   ]
  },
  {
   "cell_type": "code",
   "execution_count": 3,
   "id": "52be2d38",
   "metadata": {},
   "outputs": [
    {
     "ename": "ModuleNotFoundError",
     "evalue": "No module named 'DLRSM1'",
     "output_type": "error",
     "traceback": [
      "\u001b[1;31m---------------------------------------------------------------------------\u001b[0m",
      "\u001b[1;31mModuleNotFoundError\u001b[0m                       Traceback (most recent call last)",
      "Cell \u001b[1;32mIn[3], line 1\u001b[0m\n\u001b[1;32m----> 1\u001b[0m \u001b[38;5;28;01mimport\u001b[39;00m \u001b[38;5;21;01mDLRSM1\u001b[39;00m\n",
      "\u001b[1;31mModuleNotFoundError\u001b[0m: No module named 'DLRSM1'"
     ]
    }
   ],
   "source": [
    "import DLRSM1"
   ]
  },
  {
   "cell_type": "code",
   "execution_count": null,
   "id": "352a4975",
   "metadata": {},
   "outputs": [],
   "source": []
  }
 ],
 "metadata": {
  "kernelspec": {
   "display_name": "py311",
   "language": "python",
   "name": "python3"
  },
  "language_info": {
   "codemirror_mode": {
    "name": "ipython",
    "version": 3
   },
   "file_extension": ".py",
   "mimetype": "text/x-python",
   "name": "python",
   "nbconvert_exporter": "python",
   "pygments_lexer": "ipython3",
   "version": "3.11.11"
  }
 },
 "nbformat": 4,
 "nbformat_minor": 5
}
