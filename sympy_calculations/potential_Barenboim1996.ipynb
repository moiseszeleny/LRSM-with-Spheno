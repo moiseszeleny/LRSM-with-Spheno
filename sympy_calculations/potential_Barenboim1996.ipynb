{
 "cells": [
  {
   "cell_type": "markdown",
   "metadata": {},
   "source": [
    "# Left-Right symmetric model Lagrangian"
   ]
  },
  {
   "cell_type": "code",
   "execution_count": 1,
   "metadata": {},
   "outputs": [],
   "source": [
    "from sympy import symbols, init_printing, Matrix, I, Add, eye, sqrt, conjugate, trace, factor, simplify\n",
    "from sympy.physics import msigma \n",
    "init_printing()"
   ]
  },
  {
   "cell_type": "markdown",
   "metadata": {},
   "source": [
    "## Scalars"
   ]
  },
  {
   "cell_type": "markdown",
   "metadata": {},
   "source": [
    "### Triplets"
   ]
  },
  {
   "cell_type": "code",
   "execution_count": 2,
   "metadata": {},
   "outputs": [],
   "source": [
    "deltaLp, deltaLpp = symbols(r'\\delta_L^+, \\delta_L^{++}')\n",
    "deltaRp, deltaRpp = symbols(r'\\delta_R^+, \\delta_R^{++}')\n",
    "\n",
    "deltaLm, deltaLmm = symbols(r'\\delta_L^-, \\delta_L^{--}')\n",
    "deltaRm, deltaRmm = symbols(r'\\delta_R^-, \\delta_R^{--}')\n",
    "\n",
    "deltaL0 = symbols(r'\\delta_L^0')\n",
    "deltaR0 = symbols(r'\\delta_R^0') ####### debe de ser complejo por que tiene un vev complejo"
   ]
  },
  {
   "cell_type": "code",
   "execution_count": 3,
   "metadata": {},
   "outputs": [],
   "source": [
    "sqrt2 = sqrt(2)\n",
    "DeltaL = Matrix(\n",
    "    [\n",
    "        [deltaLp/sqrt2, deltaLpp],\n",
    "        [deltaL0, -deltaLp/sqrt2]\n",
    "    ]\n",
    ")\n",
    "DeltaR = Matrix(\n",
    "    [\n",
    "        [deltaRp/sqrt2, deltaRpp],\n",
    "        [deltaR0, -deltaRp/sqrt2]\n",
    "    ]\n",
    ")"
   ]
  },
  {
   "cell_type": "code",
   "execution_count": 4,
   "metadata": {},
   "outputs": [
    {
     "data": {
      "image/png": "[encoded data removed]",
      "text/latex": [
       "$\\displaystyle \\left( \\left[\\begin{matrix}\\frac{\\sqrt{2} \\delta^{+}_{L}}{2} & \\delta_L^{++}\\\\\\delta^{0}_{L} & - \\frac{\\sqrt{2} \\delta^{+}_{L}}{2}\\end{matrix}\\right], \\  \\left[\\begin{matrix}\\frac{\\sqrt{2} \\delta^{+}_{R}}{2} & \\delta_R^{++}\\\\\\delta^{0}_{R} & - \\frac{\\sqrt{2} \\delta^{+}_{R}}{2}\\end{matrix}\\right]\\right)$"
      ],
      "text/plain": [
       "⎛⎡√2⋅\\delta_L__+                  ⎤  ⎡√2⋅\\delta_R__+                  ⎤⎞\n",
       "⎜⎢──────────────   \\delta_L__{++} ⎥  ⎢──────────────   \\delta_R__{++} ⎥⎟\n",
       "⎜⎢      2                         ⎥  ⎢      2                         ⎥⎟\n",
       "⎜⎢                                ⎥, ⎢                                ⎥⎟\n",
       "⎜⎢                -√2⋅\\delta_L__+ ⎥  ⎢                -√2⋅\\delta_R__+ ⎥⎟\n",
       "⎜⎢ \\delta_L__0    ────────────────⎥  ⎢ \\delta_R__0    ────────────────⎥⎟\n",
       "⎝⎣                       2        ⎦  ⎣                       2        ⎦⎠"
      ]
     },
     "execution_count": 4,
     "metadata": {},
     "output_type": "execute_result"
    }
   ],
   "source": [
    "DeltaL, DeltaR"
   ]
  },
  {
   "cell_type": "code",
   "execution_count": 5,
   "metadata": {},
   "outputs": [],
   "source": [
    "from sympy import sin, cos"
   ]
  },
  {
   "cell_type": "code",
   "execution_count": 6,
   "metadata": {},
   "outputs": [
    {
     "data": {
      "image/png": "[encoded data removed]",
      "text/latex": [
       "$\\displaystyle \\left( \\left[\\begin{matrix}0 & 0\\\\\\frac{\\sqrt{2} v_{L}}{2} & 0\\end{matrix}\\right], \\  \\left[\\begin{matrix}0 & 0\\\\\\frac{\\sqrt{2} \\left(i v_{Ri} + v_{Rr}\\right)}{2} & 0\\end{matrix}\\right]\\right)$"
      ],
      "text/plain": [
       "⎛⎡  0     0⎤  ⎡          0             0⎤⎞\n",
       "⎜⎢         ⎥  ⎢                         ⎥⎟\n",
       "⎜⎢√2⋅v_L   ⎥, ⎢√2⋅(ⅈ⋅v_{Ri} + v_{Rr})   ⎥⎟\n",
       "⎜⎢──────  0⎥  ⎢──────────────────────  0⎥⎟\n",
       "⎝⎣  2      ⎦  ⎣          2              ⎦⎠"
      ]
     },
     "execution_count": 6,
     "metadata": {},
     "output_type": "execute_result"
    }
   ],
   "source": [
    "vL, vR, vRr, vRi, theta = symbols(r'v_L, v_R, v_{Rr}, v_{Ri}, \\theta', positive=True)\n",
    "vevL = {deltaL0:vL/sqrt2, deltaLp:0, deltaLpp:0}\n",
    "vevR = {deltaR0:(vRr + I*vRi)/sqrt2, deltaRp:0, deltaRpp:0}\n",
    "vRri = {vRr:vR*cos(theta), vRi: vR*sin(theta)}\n",
    "DeltaL.subs(vevL), DeltaR.subs(vevR)"
   ]
  },
  {
   "cell_type": "code",
   "execution_count": 7,
   "metadata": {},
   "outputs": [],
   "source": [
    "conjugate_fields = {\n",
    "    conjugate(deltaLp):deltaLm,\n",
    "    conjugate(deltaLm):deltaLp,\n",
    "    conjugate(deltaLpp):deltaLmm,\n",
    "    conjugate(deltaLmm):deltaLpp,\n",
    "    conjugate(deltaRm):deltaRp,\n",
    "    conjugate(deltaRp):deltaRm,\n",
    "    conjugate(deltaRmm):deltaRpp,\n",
    "    conjugate(deltaRpp):deltaRmm,\n",
    "    #conjugate(WLp):WLm,\n",
    "    #conjugate(WLm):WLp,\n",
    "    #conjugate(WRm):WRp,\n",
    "    #conjugate(WRp):WRm\n",
    "}"
   ]
  },
  {
   "cell_type": "markdown",
   "metadata": {},
   "source": [
    "### Bidoublet"
   ]
  },
  {
   "cell_type": "code",
   "execution_count": 8,
   "metadata": {},
   "outputs": [],
   "source": [
    "phi1p, phi1m = symbols(r'\\phi_1^+, \\phi_1^-')\n",
    "phi2p, phi2m = symbols(r'\\phi_2^+, \\phi_2^-')\n",
    "\n",
    "phi10, phi20 = symbols(r'\\phi_1^0, \\phi_2^0')"
   ]
  },
  {
   "cell_type": "code",
   "execution_count": 9,
   "metadata": {},
   "outputs": [
    {
     "data": {
      "image/png": "[encoded data removed]",
      "text/latex": [
       "$\\displaystyle \\left[\\begin{matrix}\\phi^{0}_{1} & \\phi^{+}_{1}\\\\\\phi^{-}_{2} & \\phi^{0}_{2}\\end{matrix}\\right]$"
      ],
      "text/plain": [
       "⎡\\phi⁰₁  \\phi⁺₁⎤\n",
       "⎢              ⎥\n",
       "⎣\\phi⁻₂  \\phi⁰₂⎦"
      ]
     },
     "execution_count": 9,
     "metadata": {},
     "output_type": "execute_result"
    }
   ],
   "source": [
    "Phi = Matrix(\n",
    "    [\n",
    "        [phi10, phi1p],\n",
    "        [phi2m, phi20]\n",
    "    ]\n",
    ")\n",
    "Phi"
   ]
  },
  {
   "cell_type": "code",
   "execution_count": 10,
   "metadata": {},
   "outputs": [
    {
     "data": {
      "image/png": "[encoded data removed]",
      "text/latex": [
       "$\\displaystyle \\left[\\begin{matrix}\\frac{\\sqrt{2} \\left(i k_{1i} + k_{1r}\\right)}{2} & 0\\\\0 & \\frac{\\sqrt{2} k_{2}}{2}\\end{matrix}\\right]$"
      ],
      "text/plain": [
       "⎡√2⋅(ⅈ⋅k_{1i} + k_{1r})       ⎤\n",
       "⎢──────────────────────    0  ⎥\n",
       "⎢          2                  ⎥\n",
       "⎢                             ⎥\n",
       "⎢                        √2⋅k₂⎥\n",
       "⎢          0             ─────⎥\n",
       "⎣                          2  ⎦"
      ]
     },
     "execution_count": 10,
     "metadata": {},
     "output_type": "execute_result"
    }
   ],
   "source": [
    "k1, k2, k1r, k1i, alpha = symbols(r\"k_1, k_2, k_{1r}, k_{1i}, \\alpha\", positive=True)\n",
    "vevPhi = {phi10:(k1r + I*k1i)/sqrt2, phi20:k2/sqrt2, phi1p:0, phi2m:0, phi2p:0, phi1m:0}\n",
    "k1ri = {k1r:k1*cos(alpha), k1i: k1*sin(alpha)}\n",
    "Phi.subs(vevPhi)"
   ]
  },
  {
   "cell_type": "markdown",
   "metadata": {},
   "source": [
    "## Scalar potential and Higgs mass spectrum"
   ]
  },
  {
   "cell_type": "code",
   "execution_count": 11,
   "metadata": {},
   "outputs": [],
   "source": [
    "from sympy.physics.quantum import Dagger\n",
    "from sympy import solve"
   ]
  },
  {
   "cell_type": "code",
   "execution_count": 12,
   "metadata": {},
   "outputs": [],
   "source": [
    "conjugate_scalarsPhi = {\n",
    "    conjugate(phi1p):phi1m,\n",
    "    conjugate(phi2p):phi2m,\n",
    "    conjugate(phi1m):phi1p,\n",
    "    conjugate(phi2m):phi2p\n",
    "}"
   ]
  },
  {
   "cell_type": "code",
   "execution_count": 13,
   "metadata": {},
   "outputs": [
    {
     "data": {
      "image/png": "[encoded data removed]",
      "text/latex": [
       "$\\displaystyle \\left[\\begin{matrix}\\phi^{0}_{1} \\overline{\\phi^{0}_{1}} + \\phi^{+}_{2} \\phi^{-}_{2} & \\phi^{+}_{1} \\overline{\\phi^{0}_{1}} + \\phi^{+}_{2} \\phi^{0}_{2}\\\\\\phi^{-}_{1} \\phi^{0}_{1} + \\phi^{-}_{2} \\overline{\\phi^{0}_{2}} & \\phi^{+}_{1} \\phi^{-}_{1} + \\phi^{0}_{2} \\overline{\\phi^{0}_{2}}\\end{matrix}\\right]$"
      ],
      "text/plain": [
       "⎡       ______                         ______                ⎤\n",
       "⎢\\phi⁰₁⋅\\phi⁰₁ + \\phi⁺₂⋅\\phi⁻₂  \\phi⁺₁⋅\\phi⁰₁ + \\phi⁺₂⋅\\phi⁰₂⎥\n",
       "⎢                                                            ⎥\n",
       "⎢                       ______                         ______⎥\n",
       "⎣\\phi⁻₁⋅\\phi⁰₁ + \\phi⁻₂⋅\\phi⁰₂  \\phi⁺₁⋅\\phi⁻₁ + \\phi⁰₂⋅\\phi⁰₂⎦"
      ]
     },
     "metadata": {},
     "output_type": "display_data"
    },
    {
     "data": {
      "image/png": "[encoded data removed]",
      "text/latex": [
       "$\\displaystyle \\left[\\begin{matrix}\\overline{\\phi^{0}_{2}} & - \\phi^{+}_{2}\\\\- \\phi^{-}_{1} & \\overline{\\phi^{0}_{1}}\\end{matrix}\\right]$"
      ],
      "text/plain": [
       "⎡______          ⎤\n",
       "⎢\\phi⁰₂   -\\phi⁺₂⎥\n",
       "⎢                ⎥\n",
       "⎢         ______ ⎥\n",
       "⎣-\\phi⁻₁  \\phi⁰₁ ⎦"
      ]
     },
     "metadata": {},
     "output_type": "display_data"
    },
    {
     "data": {
      "image/png": "[encoded data removed]",
      "text/latex": [
       "$\\displaystyle \\left[\\begin{matrix}- \\phi^{-}_{1} \\phi^{+}_{2} + \\overline{\\phi^{0}_{1}} \\overline{\\phi^{0}_{2}} & 0\\\\0 & - \\phi^{-}_{1} \\phi^{+}_{2} + \\overline{\\phi^{0}_{1}} \\overline{\\phi^{0}_{2}}\\end{matrix}\\right]$"
      ],
      "text/plain": [
       "⎡                 ______ ______                                ⎤\n",
       "⎢-\\phi⁻₁⋅\\phi⁺₂ + \\phi⁰₁⋅\\phi⁰₂                0               ⎥\n",
       "⎢                                                              ⎥\n",
       "⎢                                                 ______ ______⎥\n",
       "⎣              0                 -\\phi⁻₁⋅\\phi⁺₂ + \\phi⁰₁⋅\\phi⁰₂⎦"
      ]
     },
     "metadata": {},
     "output_type": "display_data"
    },
    {
     "data": {
      "image/png": "[encoded data removed]",
      "text/latex": [
       "$\\displaystyle \\left[\\begin{matrix}\\phi^{0}_{2} & - \\phi^{+}_{1}\\\\- \\phi^{-}_{2} & \\phi^{0}_{1}\\end{matrix}\\right]$"
      ],
      "text/plain": [
       "⎡\\phi⁰₂   -\\phi⁺₁⎤\n",
       "⎢                ⎥\n",
       "⎣-\\phi⁻₂  \\phi⁰₁ ⎦"
      ]
     },
     "metadata": {},
     "output_type": "display_data"
    },
    {
     "data": {
      "image/png": "[encoded data removed]",
      "text/latex": [
       "$\\displaystyle \\left[\\begin{matrix}- \\phi^{+}_{1} \\phi^{-}_{2} + \\phi^{0}_{1} \\phi^{0}_{2} & 0\\\\0 & - \\phi^{+}_{1} \\phi^{-}_{2} + \\phi^{0}_{1} \\phi^{0}_{2}\\end{matrix}\\right]$"
      ],
      "text/plain": [
       "⎡-\\phi⁺₁⋅\\phi⁻₂ + \\phi⁰₁⋅\\phi⁰₂                0               ⎤\n",
       "⎢                                                              ⎥\n",
       "⎣              0                 -\\phi⁺₁⋅\\phi⁻₂ + \\phi⁰₁⋅\\phi⁰₂⎦"
      ]
     },
     "metadata": {},
     "output_type": "display_data"
    },
    {
     "data": {
      "image/png": "[encoded data removed]",
      "text/latex": [
       "$\\displaystyle \\left[\\begin{matrix}\\phi^{+}_{1} \\phi^{-}_{1} + \\phi^{0}_{1} \\overline{\\phi^{0}_{1}} & \\phi^{+}_{1} \\overline{\\phi^{0}_{2}} + \\phi^{0}_{1} \\phi^{+}_{2}\\\\\\phi^{-}_{1} \\phi^{0}_{2} + \\phi^{-}_{2} \\overline{\\phi^{0}_{1}} & \\phi^{+}_{2} \\phi^{-}_{2} + \\phi^{0}_{2} \\overline{\\phi^{0}_{2}}\\end{matrix}\\right]$"
      ],
      "text/plain": [
       "⎡                       ______         ______                ⎤\n",
       "⎢\\phi⁺₁⋅\\phi⁻₁ + \\phi⁰₁⋅\\phi⁰₁  \\phi⁺₁⋅\\phi⁰₂ + \\phi⁰₁⋅\\phi⁺₂⎥\n",
       "⎢                                                            ⎥\n",
       "⎢                       ______                         ______⎥\n",
       "⎣\\phi⁻₁⋅\\phi⁰₂ + \\phi⁻₂⋅\\phi⁰₁  \\phi⁺₂⋅\\phi⁻₂ + \\phi⁰₂⋅\\phi⁰₂⎦"
      ]
     },
     "metadata": {},
     "output_type": "display_data"
    },
    {
     "data": {
      "image/png": "[encoded data removed]",
      "text/latex": [
       "$\\displaystyle \\left[\\begin{matrix}- \\phi^{+}_{1} \\phi^{-}_{2} + \\phi^{0}_{1} \\phi^{0}_{2} & 0\\\\0 & - \\phi^{+}_{1} \\phi^{-}_{2} + \\phi^{0}_{1} \\phi^{0}_{2}\\end{matrix}\\right]$"
      ],
      "text/plain": [
       "⎡-\\phi⁺₁⋅\\phi⁻₂ + \\phi⁰₁⋅\\phi⁰₂                0               ⎤\n",
       "⎢                                                              ⎥\n",
       "⎣              0                 -\\phi⁺₁⋅\\phi⁻₂ + \\phi⁰₁⋅\\phi⁰₂⎦"
      ]
     },
     "metadata": {},
     "output_type": "display_data"
    }
   ],
   "source": [
    "PhiDagger = Dagger(Phi).subs(conjugate_scalarsPhi)\n",
    "#PhiDagger\n",
    "PhiDaggerPhi = PhiDagger*Phi\n",
    "display(PhiDaggerPhi)\n",
    "Phitilde = (msigma(2)*conjugate(Phi)*msigma(2)).subs(conjugate_scalarsPhi)\n",
    "#Phitilde\n",
    "display(Phitilde)\n",
    "PhitildePhiDagger = Phitilde*PhiDagger\n",
    "display(PhitildePhiDagger)\n",
    "PhitildeDagger = Dagger(Phitilde).subs(conjugate_scalarsPhi)\n",
    "#PhitildeDagger\n",
    "display(PhitildeDagger)\n",
    "PhitildeDaggerPhi = PhitildeDagger*Phi\n",
    "display(PhitildeDaggerPhi)\n",
    "PhiPhiDagger = Phi*PhiDagger\n",
    "display(PhiPhiDagger)\n",
    "PhiPhitildeDagger = Phi*PhitildeDagger\n",
    "display(PhiPhitildeDagger)"
   ]
  },
  {
   "cell_type": "code",
   "execution_count": 14,
   "metadata": {},
   "outputs": [],
   "source": [
    "conjugate_scalars_deltaL = {\n",
    "    conjugate(deltaLp):deltaLm,\n",
    "    conjugate(deltaLm):deltaLp,\n",
    "    conjugate(deltaLpp):deltaLmm,\n",
    "    conjugate(deltaLmm):deltaLpp\n",
    "}\n",
    "\n",
    "conjugate_scalars_deltaR = {\n",
    "    conjugate(deltaRp):deltaRm,\n",
    "    conjugate(deltaRm):deltaRp,\n",
    "    conjugate(deltaRpp):deltaRmm,\n",
    "    conjugate(deltaRmm):deltaRpp\n",
    "}"
   ]
  },
  {
   "cell_type": "code",
   "execution_count": 15,
   "metadata": {},
   "outputs": [
    {
     "data": {
      "image/png": "[encoded data removed]",
      "text/latex": [
       "$\\displaystyle \\left[\\begin{matrix}\\frac{\\sqrt{2} \\delta^{+}_{L}}{2} & \\delta_L^{++}\\\\\\delta^{0}_{L} & - \\frac{\\sqrt{2} \\delta^{+}_{L}}{2}\\end{matrix}\\right]$"
      ],
      "text/plain": [
       "⎡√2⋅\\delta_L__+                  ⎤\n",
       "⎢──────────────   \\delta_L__{++} ⎥\n",
       "⎢      2                         ⎥\n",
       "⎢                                ⎥\n",
       "⎢                -√2⋅\\delta_L__+ ⎥\n",
       "⎢ \\delta_L__0    ────────────────⎥\n",
       "⎣                       2        ⎦"
      ]
     },
     "execution_count": 15,
     "metadata": {},
     "output_type": "execute_result"
    }
   ],
   "source": [
    "DeltaL"
   ]
  },
  {
   "cell_type": "code",
   "execution_count": 16,
   "metadata": {},
   "outputs": [
    {
     "data": {
      "image/png": "[encoded data removed]",
      "text/latex": [
       "$\\displaystyle \\left[\\begin{matrix}\\frac{\\sqrt{2} \\delta^{-}_{L}}{2} & \\overline{\\delta^{0}_{L}}\\\\\\delta_L^{--} & - \\frac{\\sqrt{2} \\delta^{-}_{L}}{2}\\end{matrix}\\right]$"
      ],
      "text/plain": [
       "⎡√2⋅\\delta_L__-    ___________   ⎤\n",
       "⎢──────────────    \\delta_L__0   ⎥\n",
       "⎢      2                         ⎥\n",
       "⎢                                ⎥\n",
       "⎢                -√2⋅\\delta_L__- ⎥\n",
       "⎢\\delta_L__{--}  ────────────────⎥\n",
       "⎣                       2        ⎦"
      ]
     },
     "execution_count": 16,
     "metadata": {},
     "output_type": "execute_result"
    }
   ],
   "source": [
    "DeltaLDagger = Dagger(DeltaL).subs(conjugate_scalars_deltaL)\n",
    "DeltaLDagger"
   ]
  },
  {
   "cell_type": "code",
   "execution_count": 17,
   "metadata": {},
   "outputs": [
    {
     "data": {
      "image/png": "[encoded data removed]",
      "text/latex": [
       "$\\displaystyle \\left[\\begin{matrix}\\frac{\\sqrt{2} \\delta^{-}_{R}}{2} & \\overline{\\delta^{0}_{R}}\\\\\\delta_R^{--} & - \\frac{\\sqrt{2} \\delta^{-}_{R}}{2}\\end{matrix}\\right]$"
      ],
      "text/plain": [
       "⎡√2⋅\\delta_R__-    ___________   ⎤\n",
       "⎢──────────────    \\delta_R__0   ⎥\n",
       "⎢      2                         ⎥\n",
       "⎢                                ⎥\n",
       "⎢                -√2⋅\\delta_R__- ⎥\n",
       "⎢\\delta_R__{--}  ────────────────⎥\n",
       "⎣                       2        ⎦"
      ]
     },
     "execution_count": 17,
     "metadata": {},
     "output_type": "execute_result"
    }
   ],
   "source": [
    "DeltaRDagger = Dagger(DeltaR).subs(conjugate_scalars_deltaR)\n",
    "DeltaRDagger"
   ]
  },
  {
   "cell_type": "code",
   "execution_count": 18,
   "metadata": {},
   "outputs": [
    {
     "data": {
      "image/png": "[encoded data removed]",
      "text/latex": [
       "$\\displaystyle \\left[\\begin{matrix}\\frac{\\delta^{+}_{L} \\delta^{-}_{L}}{2} + \\delta_L^{++} \\delta_L^{--} & \\frac{\\sqrt{2} \\delta^{+}_{L} \\overline{\\delta^{0}_{L}}}{2} - \\frac{\\sqrt{2} \\delta^{-}_{L} \\delta_L^{++}}{2}\\\\- \\frac{\\sqrt{2} \\delta^{+}_{L} \\delta_L^{--}}{2} + \\frac{\\sqrt{2} \\delta^{-}_{L} \\delta^{0}_{L}}{2} & \\frac{\\delta^{+}_{L} \\delta^{-}_{L}}{2} + \\delta^{0}_{L} \\overline{\\delta^{0}_{L}}\\end{matrix}\\right]$"
      ],
      "text/plain": [
       "⎡                                                                             \n",
       "⎢  \\delta_L__+⋅\\delta_L__-                                     √2⋅\\delta_L__+⋅\n",
       "⎢  ─────────────────────── + \\delta_L__{++}⋅\\delta_L__{--}     ───────────────\n",
       "⎢             2                                                            2  \n",
       "⎢                                                                             \n",
       "⎢  √2⋅\\delta_L__+⋅\\delta_L__{--}   √2⋅\\delta_L__-⋅\\delta_L__0      \\delta_L__+\n",
       "⎢- ───────────────────────────── + ──────────────────────────      ───────────\n",
       "⎣                2                             2                              \n",
       "\n",
       "___________                                ⎤\n",
       "\\delta_L__0   √2⋅\\delta_L__-⋅\\delta_L__{++}⎥\n",
       "─────────── - ─────────────────────────────⎥\n",
       "                            2              ⎥\n",
       "                                           ⎥\n",
       "⋅\\delta_L__-               ___________     ⎥\n",
       "──────────── + \\delta_L__0⋅\\delta_L__0     ⎥\n",
       "2                                          ⎦"
      ]
     },
     "metadata": {},
     "output_type": "display_data"
    },
    {
     "data": {
      "image/png": "[encoded data removed]",
      "text/latex": [
       "$\\displaystyle \\left[\\begin{matrix}\\frac{\\left(\\delta^{+}_{L}\\right)^{2}}{2} + \\delta^{0}_{L} \\delta_L^{++} & 0\\\\0 & \\frac{\\left(\\delta^{+}_{L}\\right)^{2}}{2} + \\delta^{0}_{L} \\delta_L^{++}\\end{matrix}\\right]$"
      ],
      "text/plain": [
       "⎡           2                                                                 \n",
       "⎢\\delta_L__+                                                                  \n",
       "⎢──────────── + \\delta_L__0⋅\\delta_L__{++}                      0             \n",
       "⎢     2                                                                       \n",
       "⎢                                                                             \n",
       "⎢                                                      2                      \n",
       "⎢                                           \\delta_L__+                       \n",
       "⎢                    0                      ──────────── + \\delta_L__0⋅\\delta_\n",
       "⎣                                                2                            \n",
       "\n",
       "       ⎤\n",
       "       ⎥\n",
       "       ⎥\n",
       "       ⎥\n",
       "       ⎥\n",
       "       ⎥\n",
       "       ⎥\n",
       "L__{++}⎥\n",
       "       ⎦"
      ]
     },
     "metadata": {},
     "output_type": "display_data"
    },
    {
     "data": {
      "image/png": "[encoded data removed]",
      "text/latex": [
       "$\\displaystyle \\left[\\begin{matrix}\\frac{\\delta^{+}_{L} \\delta^{-}_{L}}{2} + \\delta^{0}_{L} \\overline{\\delta^{0}_{L}} & - \\frac{\\sqrt{2} \\delta^{+}_{L} \\overline{\\delta^{0}_{L}}}{2} + \\frac{\\sqrt{2} \\delta^{-}_{L} \\delta_L^{++}}{2}\\\\\\frac{\\sqrt{2} \\delta^{+}_{L} \\delta_L^{--}}{2} - \\frac{\\sqrt{2} \\delta^{-}_{L} \\delta^{0}_{L}}{2} & \\frac{\\delta^{+}_{L} \\delta^{-}_{L}}{2} + \\delta_L^{++} \\delta_L^{--}\\end{matrix}\\right]$"
      ],
      "text/plain": [
       "⎡                                                                             \n",
       "⎢    \\delta_L__+⋅\\delta_L__-               ___________         √2⋅\\delta_L__+⋅\n",
       "⎢    ─────────────────────── + \\delta_L__0⋅\\delta_L__0       - ───────────────\n",
       "⎢               2                                                          2  \n",
       "⎢                                                                             \n",
       "⎢√2⋅\\delta_L__+⋅\\delta_L__{--}   √2⋅\\delta_L__-⋅\\delta_L__0    \\delta_L__+⋅\\de\n",
       "⎢───────────────────────────── - ──────────────────────────    ───────────────\n",
       "⎣              2                             2                            2   \n",
       "\n",
       "___________                                ⎤\n",
       "\\delta_L__0   √2⋅\\delta_L__-⋅\\delta_L__{++}⎥\n",
       "─────────── + ─────────────────────────────⎥\n",
       "                            2              ⎥\n",
       "                                           ⎥\n",
       "lta_L__-                                   ⎥\n",
       "──────── + \\delta_L__{++}⋅\\delta_L__{--}   ⎥\n",
       "                                           ⎦"
      ]
     },
     "metadata": {},
     "output_type": "display_data"
    },
    {
     "data": {
      "image/png": "[encoded data removed]",
      "text/latex": [
       "$\\displaystyle \\left[\\begin{matrix}\\frac{\\left(\\delta^{-}_{L}\\right)^{2}}{2} + \\delta_L^{--} \\overline{\\delta^{0}_{L}} & 0\\\\0 & \\frac{\\left(\\delta^{-}_{L}\\right)^{2}}{2} + \\delta_L^{--} \\overline{\\delta^{0}_{L}}\\end{matrix}\\right]$"
      ],
      "text/plain": [
       "⎡           2                                                                 \n",
       "⎢\\delta_L__-                   ___________                                    \n",
       "⎢──────────── + \\delta_L__{--}⋅\\delta_L__0                      0             \n",
       "⎢     2                                                                       \n",
       "⎢                                                                             \n",
       "⎢                                                      2                      \n",
       "⎢                                           \\delta_L__-                   ____\n",
       "⎢                    0                      ──────────── + \\delta_L__{--}⋅\\del\n",
       "⎣                                                2                            \n",
       "\n",
       "       ⎤\n",
       "       ⎥\n",
       "       ⎥\n",
       "       ⎥\n",
       "       ⎥\n",
       "       ⎥\n",
       "_______⎥\n",
       "ta_L__0⎥\n",
       "       ⎦"
      ]
     },
     "metadata": {},
     "output_type": "display_data"
    }
   ],
   "source": [
    "DeltaLDeltaLDagger = DeltaL*DeltaLDagger\n",
    "display(DeltaLDeltaLDagger)\n",
    "DeltaLDeltaL = DeltaL*DeltaL\n",
    "display(DeltaLDeltaL)\n",
    "DeltaLDaggerDeltaL = DeltaLDagger*DeltaL\n",
    "display(DeltaLDaggerDeltaL)\n",
    "DeltaLDaggerDeltaLDagger = DeltaLDagger*DeltaLDagger\n",
    "display(DeltaLDaggerDeltaLDagger)"
   ]
  },
  {
   "cell_type": "code",
   "execution_count": 19,
   "metadata": {},
   "outputs": [
    {
     "data": {
      "image/png": "[encoded data removed]",
      "text/latex": [
       "$\\displaystyle \\left[\\begin{matrix}\\frac{\\delta^{+}_{R} \\delta^{-}_{R}}{2} + \\delta_R^{++} \\delta_R^{--} & \\frac{\\sqrt{2} \\delta^{+}_{R} \\overline{\\delta^{0}_{R}}}{2} - \\frac{\\sqrt{2} \\delta^{-}_{R} \\delta_R^{++}}{2}\\\\- \\frac{\\sqrt{2} \\delta^{+}_{R} \\delta_R^{--}}{2} + \\frac{\\sqrt{2} \\delta^{-}_{R} \\delta^{0}_{R}}{2} & \\frac{\\delta^{+}_{R} \\delta^{-}_{R}}{2} + \\delta^{0}_{R} \\overline{\\delta^{0}_{R}}\\end{matrix}\\right]$"
      ],
      "text/plain": [
       "⎡                                                                             \n",
       "⎢  \\delta_R__+⋅\\delta_R__-                                     √2⋅\\delta_R__+⋅\n",
       "⎢  ─────────────────────── + \\delta_R__{++}⋅\\delta_R__{--}     ───────────────\n",
       "⎢             2                                                            2  \n",
       "⎢                                                                             \n",
       "⎢  √2⋅\\delta_R__+⋅\\delta_R__{--}   √2⋅\\delta_R__-⋅\\delta_R__0      \\delta_R__+\n",
       "⎢- ───────────────────────────── + ──────────────────────────      ───────────\n",
       "⎣                2                             2                              \n",
       "\n",
       "___________                                ⎤\n",
       "\\delta_R__0   √2⋅\\delta_R__-⋅\\delta_R__{++}⎥\n",
       "─────────── - ─────────────────────────────⎥\n",
       "                            2              ⎥\n",
       "                                           ⎥\n",
       "⋅\\delta_R__-               ___________     ⎥\n",
       "──────────── + \\delta_R__0⋅\\delta_R__0     ⎥\n",
       "2                                          ⎦"
      ]
     },
     "metadata": {},
     "output_type": "display_data"
    },
    {
     "data": {
      "image/png": "[encoded data removed]",
      "text/latex": [
       "$\\displaystyle \\left[\\begin{matrix}\\frac{\\left(\\delta^{+}_{R}\\right)^{2}}{2} + \\delta^{0}_{R} \\delta_R^{++} & 0\\\\0 & \\frac{\\left(\\delta^{+}_{R}\\right)^{2}}{2} + \\delta^{0}_{R} \\delta_R^{++}\\end{matrix}\\right]$"
      ],
      "text/plain": [
       "⎡           2                                                                 \n",
       "⎢\\delta_R__+                                                                  \n",
       "⎢──────────── + \\delta_R__0⋅\\delta_R__{++}                      0             \n",
       "⎢     2                                                                       \n",
       "⎢                                                                             \n",
       "⎢                                                      2                      \n",
       "⎢                                           \\delta_R__+                       \n",
       "⎢                    0                      ──────────── + \\delta_R__0⋅\\delta_\n",
       "⎣                                                2                            \n",
       "\n",
       "       ⎤\n",
       "       ⎥\n",
       "       ⎥\n",
       "       ⎥\n",
       "       ⎥\n",
       "       ⎥\n",
       "       ⎥\n",
       "R__{++}⎥\n",
       "       ⎦"
      ]
     },
     "metadata": {},
     "output_type": "display_data"
    },
    {
     "data": {
      "image/png": "[encoded data removed]",
      "text/latex": [
       "$\\displaystyle \\left[\\begin{matrix}\\frac{\\delta^{+}_{R} \\delta^{-}_{R}}{2} + \\delta^{0}_{R} \\overline{\\delta^{0}_{R}} & - \\frac{\\sqrt{2} \\delta^{+}_{R} \\overline{\\delta^{0}_{R}}}{2} + \\frac{\\sqrt{2} \\delta^{-}_{R} \\delta_R^{++}}{2}\\\\\\frac{\\sqrt{2} \\delta^{+}_{R} \\delta_R^{--}}{2} - \\frac{\\sqrt{2} \\delta^{-}_{R} \\delta^{0}_{R}}{2} & \\frac{\\delta^{+}_{R} \\delta^{-}_{R}}{2} + \\delta_R^{++} \\delta_R^{--}\\end{matrix}\\right]$"
      ],
      "text/plain": [
       "⎡                                                                             \n",
       "⎢    \\delta_R__+⋅\\delta_R__-               ___________         √2⋅\\delta_R__+⋅\n",
       "⎢    ─────────────────────── + \\delta_R__0⋅\\delta_R__0       - ───────────────\n",
       "⎢               2                                                          2  \n",
       "⎢                                                                             \n",
       "⎢√2⋅\\delta_R__+⋅\\delta_R__{--}   √2⋅\\delta_R__-⋅\\delta_R__0    \\delta_R__+⋅\\de\n",
       "⎢───────────────────────────── - ──────────────────────────    ───────────────\n",
       "⎣              2                             2                            2   \n",
       "\n",
       "___________                                ⎤\n",
       "\\delta_R__0   √2⋅\\delta_R__-⋅\\delta_R__{++}⎥\n",
       "─────────── + ─────────────────────────────⎥\n",
       "                            2              ⎥\n",
       "                                           ⎥\n",
       "lta_R__-                                   ⎥\n",
       "──────── + \\delta_R__{++}⋅\\delta_R__{--}   ⎥\n",
       "                                           ⎦"
      ]
     },
     "metadata": {},
     "output_type": "display_data"
    },
    {
     "data": {
      "image/png": "[encoded data removed]",
      "text/latex": [
       "$\\displaystyle \\left[\\begin{matrix}\\frac{\\left(\\delta^{-}_{R}\\right)^{2}}{2} + \\delta_R^{--} \\overline{\\delta^{0}_{R}} & 0\\\\0 & \\frac{\\left(\\delta^{-}_{R}\\right)^{2}}{2} + \\delta_R^{--} \\overline{\\delta^{0}_{R}}\\end{matrix}\\right]$"
      ],
      "text/plain": [
       "⎡           2                                                                 \n",
       "⎢\\delta_R__-                   ___________                                    \n",
       "⎢──────────── + \\delta_R__{--}⋅\\delta_R__0                      0             \n",
       "⎢     2                                                                       \n",
       "⎢                                                                             \n",
       "⎢                                                      2                      \n",
       "⎢                                           \\delta_R__-                   ____\n",
       "⎢                    0                      ──────────── + \\delta_R__{--}⋅\\del\n",
       "⎣                                                2                            \n",
       "\n",
       "       ⎤\n",
       "       ⎥\n",
       "       ⎥\n",
       "       ⎥\n",
       "       ⎥\n",
       "       ⎥\n",
       "_______⎥\n",
       "ta_R__0⎥\n",
       "       ⎦"
      ]
     },
     "metadata": {},
     "output_type": "display_data"
    }
   ],
   "source": [
    "DeltaRDeltaRDagger = DeltaR*DeltaRDagger\n",
    "display(DeltaRDeltaRDagger)\n",
    "DeltaRDeltaR = DeltaR*DeltaR\n",
    "display(DeltaRDeltaR)\n",
    "DeltaRDaggerDeltaR = DeltaRDagger*DeltaR\n",
    "display(DeltaRDaggerDeltaR)\n",
    "DeltaRDaggerDeltaRDagger = DeltaRDagger*DeltaRDagger\n",
    "display(DeltaRDaggerDeltaRDagger)"
   ]
  },
  {
   "cell_type": "markdown",
   "metadata": {},
   "source": [
    "### Higgs potential"
   ]
  },
  {
   "cell_type": "code",
   "execution_count": 20,
   "metadata": {},
   "outputs": [],
   "source": [
    "mu12, mu22, mu32 = symbols(r'\\mu_1^2, \\mu_2^2, \\mu_3^2', real=True)\n",
    "lamb1, lamb2, lamb3, lamb4 = symbols(r'\\lambda_1, \\lambda_2, \\lambda_3, \\lambda_4', real=True)\n",
    "rho1, rho2, rho3, rho4 = symbols(r'\\rho_1, \\rho_2, \\rho_3, \\rho_4', real=True)\n",
    "alpha1, alpha2, alpha3 = symbols(r'\\alpha_1, \\alpha_2, \\alpha_3', real=True)\n",
    "beta1, beta2, beta3 = symbols(r'beta_1, beta_2, beta_3', real=True)"
   ]
  },
  {
   "cell_type": "code",
   "execution_count": 21,
   "metadata": {},
   "outputs": [
    {
     "data": {
      "image/png": "[encoded data removed]",
      "text/latex": [
       "$\\displaystyle \\alpha_{2} \\left(k_{2} v_{L}^{2} \\left(i k_{1i} + k_{1r}\\right) + \\frac{k_{2} \\left(- i k_{1i} + k_{1r}\\right) \\left(- i v_{Ri} + v_{Rr}\\right) \\left(i v_{Ri} + v_{Rr}\\right)}{2} + \\frac{k_{2} \\left(i k_{1i} + k_{1r}\\right) \\left(- i v_{Ri} + v_{Rr}\\right) \\left(i v_{Ri} + v_{Rr}\\right)}{2}\\right)$"
      ],
      "text/plain": [
       "        ⎛      2                       k₂⋅(-ⅈ⋅k_{1i} + k_{1r})⋅(-ⅈ⋅v_{Ri} + v_\n",
       "\\alpha₂⋅⎜k₂⋅v_L ⋅(ⅈ⋅k_{1i} + k_{1r}) + ───────────────────────────────────────\n",
       "        ⎝                                                             2       \n",
       "\n",
       "{Rr})⋅(ⅈ⋅v_{Ri} + v_{Rr})   k₂⋅(ⅈ⋅k_{1i} + k_{1r})⋅(-ⅈ⋅v_{Ri} + v_{Rr})⋅(ⅈ⋅v_{\n",
       "───────────────────────── + ──────────────────────────────────────────────────\n",
       "                                                           2                  \n",
       "\n",
       "Ri} + v_{Rr})⎞\n",
       "─────────────⎟\n",
       "             ⎠"
      ]
     },
     "execution_count": 21,
     "metadata": {},
     "output_type": "execute_result"
    }
   ],
   "source": [
    "term2 = alpha2*(\n",
    "        trace(PhitildeDaggerPhi)*trace(DeltaRDeltaRDagger) + trace(PhiPhitildeDagger)*trace(DeltaLDeltaLDagger) +\n",
    "        trace(PhitildePhiDagger)*trace(DeltaRDeltaRDagger) + trace(PhitildeDaggerPhi)*trace(DeltaLDeltaLDagger)\n",
    "    ).subs(vevR).subs(vevL).subs(vevPhi)#.expand()#.collect(I, evaluate=False)\n",
    "\n",
    "term2"
   ]
  },
  {
   "cell_type": "code",
   "execution_count": 22,
   "metadata": {},
   "outputs": [
    {
     "data": {
      "image/png": "[encoded data removed]",
      "text/latex": [
       "$\\displaystyle i \\alpha_{2} k_{2} v_{L}^{2}$"
      ],
      "text/plain": [
       "                2\n",
       "ⅈ⋅\\alpha₂⋅k₂⋅v_L "
      ]
     },
     "execution_count": 22,
     "metadata": {},
     "output_type": "execute_result"
    }
   ],
   "source": [
    "term2.diff(k1i).simplify()"
   ]
  },
  {
   "cell_type": "code",
   "execution_count": 23,
   "metadata": {},
   "outputs": [
    {
     "data": {
      "image/png": "[encoded data removed]",
      "text/latex": [
       "$\\displaystyle \\left( \\left[\\begin{matrix}\\phi^{0}_{1} & \\phi^{+}_{1}\\\\\\phi^{-}_{2} & \\phi^{0}_{2}\\end{matrix}\\right], \\  \\left[\\begin{matrix}\\overline{\\phi^{0}_{2}} & - \\phi^{+}_{2}\\\\- \\phi^{-}_{1} & \\overline{\\phi^{0}_{1}}\\end{matrix}\\right], \\  \\left[\\begin{matrix}\\phi^{0}_{2} & - \\overline{\\phi^{-}_{1}}\\\\- \\overline{\\phi^{+}_{2}} & \\phi^{0}_{1}\\end{matrix}\\right], \\  \\left[\\begin{matrix}\\phi^{0}_{2} & - \\phi^{+}_{1}\\\\- \\phi^{-}_{2} & \\phi^{0}_{1}\\end{matrix}\\right], \\  \\left[\\begin{matrix}- \\phi^{+}_{1} \\phi^{-}_{2} + \\phi^{0}_{1} \\phi^{0}_{2} & 0\\\\0 & - \\phi^{+}_{1} \\phi^{-}_{2} + \\phi^{0}_{1} \\phi^{0}_{2}\\end{matrix}\\right], \\  \\left[\\begin{matrix}\\frac{k_{2} \\left(i k_{1i} + k_{1r}\\right)}{2} & 0\\\\0 & \\frac{k_{2} \\left(i k_{1i} + k_{1r}\\right)}{2}\\end{matrix}\\right]\\right)$"
      ],
      "text/plain": [
       "⎛                                                                             \n",
       "⎜                  ⎡______          ⎤  ⎡          ______⎤                     \n",
       "⎜⎡\\phi⁰₁  \\phi⁺₁⎤  ⎢\\phi⁰₂   -\\phi⁺₂⎥  ⎢\\phi⁰₂   -\\phi⁻₁⎥  ⎡\\phi⁰₂   -\\phi⁺₁⎤ \n",
       "⎜⎢              ⎥, ⎢                ⎥, ⎢                ⎥, ⎢                ⎥,\n",
       "⎜⎣\\phi⁻₂  \\phi⁰₂⎦  ⎢         ______ ⎥  ⎢ ______         ⎥  ⎣-\\phi⁻₂  \\phi⁰₁ ⎦ \n",
       "⎜                  ⎣-\\phi⁻₁  \\phi⁰₁ ⎦  ⎣-\\phi⁺₂  \\phi⁰₁ ⎦                     \n",
       "⎝                                                                             \n",
       "\n",
       "                                                                   ⎡k₂⋅(ⅈ⋅k_{1\n",
       "                                                                   ⎢──────────\n",
       " ⎡-\\phi⁺₁⋅\\phi⁻₂ + \\phi⁰₁⋅\\phi⁰₂                0               ⎤  ⎢          \n",
       " ⎢                                                              ⎥, ⎢          \n",
       " ⎣              0                 -\\phi⁺₁⋅\\phi⁻₂ + \\phi⁰₁⋅\\phi⁰₂⎦  ⎢          \n",
       "                                                                   ⎢          \n",
       "                                                                   ⎣          \n",
       "\n",
       "i} + k_{1r})                        ⎤⎞\n",
       "────────────            0           ⎥⎟\n",
       "2                                   ⎥⎟\n",
       "                                    ⎥⎟\n",
       "              k₂⋅(ⅈ⋅k_{1i} + k_{1r})⎥⎟\n",
       "0             ──────────────────────⎥⎟\n",
       "                        2           ⎦⎠"
      ]
     },
     "execution_count": 23,
     "metadata": {},
     "output_type": "execute_result"
    }
   ],
   "source": [
    "Phi, Phitilde, Dagger(Phitilde), PhitildeDagger, PhiPhitildeDagger, PhiPhitildeDagger.subs(vevPhi)"
   ]
  },
  {
   "cell_type": "code",
   "execution_count": 24,
   "metadata": {},
   "outputs": [
    {
     "data": {
      "image/png": "[encoded data removed]",
      "text/latex": [
       "$\\displaystyle \\frac{k_{2} \\left(i k_{1i} + k_{1r}\\right)}{2}$"
      ],
      "text/plain": [
       "k₂⋅(ⅈ⋅k_{1i} + k_{1r})\n",
       "──────────────────────\n",
       "          2           "
      ]
     },
     "execution_count": 24,
     "metadata": {},
     "output_type": "execute_result"
    }
   ],
   "source": [
    "(phi10*conjugate(phi20)).subs(vevPhi)"
   ]
  },
  {
   "cell_type": "code",
   "execution_count": 25,
   "metadata": {},
   "outputs": [
    {
     "data": {
      "image/png": "[encoded data removed]",
      "text/latex": [
       "$\\displaystyle \\alpha_{1} \\left(\\frac{k_{2}^{2}}{2} + \\frac{\\left(- i k_{1i} + k_{1r}\\right) \\left(i k_{1i} + k_{1r}\\right)}{2}\\right) \\left(\\frac{v_{L}^{2}}{2} + \\frac{\\left(- i v_{Ri} + v_{Rr}\\right) \\left(i v_{Ri} + v_{Rr}\\right)}{2}\\right) + \\alpha_{2} \\left(k_{2} v_{L}^{2} \\left(i k_{1i} + k_{1r}\\right) + \\frac{k_{2} \\left(- i k_{1i} + k_{1r}\\right) \\left(- i v_{Ri} + v_{Rr}\\right) \\left(i v_{Ri} + v_{Rr}\\right)}{2} + \\frac{k_{2} \\left(i k_{1i} + k_{1r}\\right) \\left(- i v_{Ri} + v_{Rr}\\right) \\left(i v_{Ri} + v_{Rr}\\right)}{2}\\right) + \\lambda_{1} \\left(\\frac{k_{2}^{2}}{2} + \\frac{\\left(- i k_{1i} + k_{1r}\\right) \\left(i k_{1i} + k_{1r}\\right)}{2}\\right)^{2} + \\lambda_{2} \\left(k_{2}^{2} \\left(- i k_{1i} + k_{1r}\\right)^{2} + k_{2}^{2} \\left(i k_{1i} + k_{1r}\\right)^{2}\\right) + \\lambda_{3} k_{2}^{2} \\left(- i k_{1i} + k_{1r}\\right) \\left(i k_{1i} + k_{1r}\\right) + \\lambda_{4} \\left(\\frac{k_{2}^{2}}{2} + \\frac{\\left(- i k_{1i} + k_{1r}\\right) \\left(i k_{1i} + k_{1r}\\right)}{2}\\right) \\left(k_{2} \\left(- i k_{1i} + k_{1r}\\right) + k_{2} \\left(i k_{1i} + k_{1r}\\right)\\right) - \\mu^{2}_{1} \\left(\\frac{k_{2}^{2}}{2} + \\frac{\\left(- i k_{1i} + k_{1r}\\right) \\left(i k_{1i} + k_{1r}\\right)}{2}\\right) - \\mu^{2}_{2} \\left(k_{2} \\left(- i k_{1i} + k_{1r}\\right) + k_{2} \\left(i k_{1i} + k_{1r}\\right)\\right) - \\mu^{2}_{3} \\left(\\frac{v_{L}^{2}}{2} + \\frac{\\left(- i v_{Ri} + v_{Rr}\\right) \\left(i v_{Ri} + v_{Rr}\\right)}{2}\\right) + \\rho_{1} \\left(\\frac{v_{L}^{4}}{4} + \\frac{\\left(- i v_{Ri} + v_{Rr}\\right)^{2} \\left(i v_{Ri} + v_{Rr}\\right)^{2}}{4}\\right) + \\frac{\\rho_{3} v_{L}^{2} \\left(- i v_{Ri} + v_{Rr}\\right) \\left(i v_{Ri} + v_{Rr}\\right)}{4} + \\beta_{1} \\left(\\frac{k_{2} v_{L} \\left(- i k_{1i} + k_{1r}\\right) \\left(i v_{Ri} + v_{Rr}\\right)}{4} + \\frac{k_{2} v_{L} \\left(i k_{1i} + k_{1r}\\right) \\left(- i v_{Ri} + v_{Rr}\\right)}{4}\\right) + \\beta_{2} \\left(\\frac{k_{2}^{2} v_{L} \\left(- i v_{Ri} + v_{Rr}\\right)}{4} + \\frac{k_{2}^{2} v_{L} \\left(i v_{Ri} + v_{Rr}\\right)}{4}\\right) + \\beta_{2} \\left(\\frac{v_{L} \\left(- i k_{1i} + k_{1r}\\right)^{2} \\left(i v_{Ri} + v_{Rr}\\right)}{4} + \\frac{v_{L} \\left(i k_{1i} + k_{1r}\\right)^{2} \\left(- i v_{Ri} + v_{Rr}\\right)}{4}\\right)$"
      ],
      "text/plain": [
       "                                                                              \n",
       "        ⎛  2                                           ⎞ ⎛   2                \n",
       "        ⎜k₂    (-ⅈ⋅k_{1i} + k_{1r})⋅(ⅈ⋅k_{1i} + k_{1r})⎟ ⎜v_L    (-ⅈ⋅v_{Ri} + \n",
       "\\alpha₁⋅⎜─── + ────────────────────────────────────────⎟⋅⎜──── + ─────────────\n",
       "        ⎝ 2                       2                    ⎠ ⎝ 2                  \n",
       "\n",
       "                                                                              \n",
       "                           ⎞                                                  \n",
       "v_{Rr})⋅(ⅈ⋅v_{Ri} + v_{Rr})⎟           ⎛      2                       k₂⋅(-ⅈ⋅k\n",
       "───────────────────────────⎟ + \\alpha₂⋅⎜k₂⋅v_L ⋅(ⅈ⋅k_{1i} + k_{1r}) + ────────\n",
       "      2                    ⎠           ⎝                                      \n",
       "\n",
       "                                                                              \n",
       "                                                                              \n",
       "_{1i} + k_{1r})⋅(-ⅈ⋅v_{Ri} + v_{Rr})⋅(ⅈ⋅v_{Ri} + v_{Rr})   k₂⋅(ⅈ⋅k_{1i} + k_{1\n",
       "──────────────────────────────────────────────────────── + ───────────────────\n",
       "                       2                                                      \n",
       "\n",
       "                                                                              \n",
       "                                                         ⎛  2                 \n",
       "r})⋅(-ⅈ⋅v_{Ri} + v_{Rr})⋅(ⅈ⋅v_{Ri} + v_{Rr})⎞            ⎜k₂    (-ⅈ⋅k_{1i} + k\n",
       "────────────────────────────────────────────⎟ + \\lambda₁⋅⎜─── + ──────────────\n",
       "            2                               ⎠            ⎝ 2                  \n",
       "\n",
       "                           2                                                  \n",
       "                          ⎞                                                   \n",
       "_{1r})⋅(ⅈ⋅k_{1i} + k_{1r})⎟             ⎛  2                     2     2      \n",
       "──────────────────────────⎟  + \\lambda₂⋅⎝k₂ ⋅(-ⅈ⋅k_{1i} + k_{1r})  + k₂ ⋅(ⅈ⋅k_\n",
       "     2                    ⎠                                                   \n",
       "\n",
       "                                                                              \n",
       "                                                                              \n",
       "              2⎞              2                                               \n",
       "{1i} + k_{1r}) ⎠ + \\lambda₃⋅k₂ ⋅(-ⅈ⋅k_{1i} + k_{1r})⋅(ⅈ⋅k_{1i} + k_{1r}) + \\la\n",
       "                                                                              \n",
       "\n",
       "                                                                              \n",
       "      ⎛  2                                           ⎞                        \n",
       "      ⎜k₂    (-ⅈ⋅k_{1i} + k_{1r})⋅(ⅈ⋅k_{1i} + k_{1r})⎟                        \n",
       "mbda₄⋅⎜─── + ────────────────────────────────────────⎟⋅(k₂⋅(-ⅈ⋅k_{1i} + k_{1r}\n",
       "      ⎝ 2                       2                    ⎠                        \n",
       "\n",
       "                                                                              \n",
       "                                    ⎛  2                                      \n",
       "                                    ⎜k₂    (-ⅈ⋅k_{1i} + k_{1r})⋅(ⅈ⋅k_{1i} + k_\n",
       ") + k₂⋅(ⅈ⋅k_{1i} + k_{1r})) - \\mu²₁⋅⎜─── + ───────────────────────────────────\n",
       "                                    ⎝ 2                       2               \n",
       "\n",
       "                                                                              \n",
       "     ⎞                                                                    ⎛   \n",
       "{1r})⎟                                                                    ⎜v_L\n",
       "─────⎟ - \\mu²₂⋅(k₂⋅(-ⅈ⋅k_{1i} + k_{1r}) + k₂⋅(ⅈ⋅k_{1i} + k_{1r})) - \\mu²₃⋅⎜───\n",
       "     ⎠                                                                    ⎝ 2 \n",
       "\n",
       "                                                                              \n",
       "2                                           ⎞         ⎛   4                   \n",
       "    (-ⅈ⋅v_{Ri} + v_{Rr})⋅(ⅈ⋅v_{Ri} + v_{Rr})⎟         ⎜v_L    (-ⅈ⋅v_{Ri} + v_{\n",
       "─ + ────────────────────────────────────────⎟ + \\rho₁⋅⎜──── + ────────────────\n",
       "                       2                    ⎠         ⎝ 4                     \n",
       "\n",
       "                                                                              \n",
       "    2                    2⎞            2                                      \n",
       "Rr}) ⋅(ⅈ⋅v_{Ri} + v_{Rr}) ⎟   \\rho₃⋅v_L ⋅(-ⅈ⋅v_{Ri} + v_{Rr})⋅(ⅈ⋅v_{Ri} + v_{R\n",
       "──────────────────────────⎟ + ────────────────────────────────────────────────\n",
       "    4                     ⎠                            4                      \n",
       "\n",
       "                                                                              \n",
       "                                                                              \n",
       "r})      ⎛k₂⋅v_L⋅(-ⅈ⋅k_{1i} + k_{1r})⋅(ⅈ⋅v_{Ri} + v_{Rr})   k₂⋅v_L⋅(ⅈ⋅k_{1i} +\n",
       "─── + β₁⋅⎜─────────────────────────────────────────────── + ──────────────────\n",
       "         ⎝                       4                                            \n",
       "\n",
       "                                                                              \n",
       "                                    ⎛  2                              2       \n",
       " k_{1r})⋅(-ⅈ⋅v_{Ri} + v_{Rr})⎞      ⎜k₂ ⋅v_L⋅(-ⅈ⋅v_{Ri} + v_{Rr})   k₂ ⋅v_L⋅(ⅈ\n",
       "─────────────────────────────⎟ + β₂⋅⎜──────────────────────────── + ──────────\n",
       "     4                       ⎠      ⎝             4                           \n",
       "\n",
       "                                                                              \n",
       "                 ⎞      ⎛                        2                            \n",
       "⋅v_{Ri} + v_{Rr})⎟      ⎜v_L⋅(-ⅈ⋅k_{1i} + k_{1r}) ⋅(ⅈ⋅v_{Ri} + v_{Rr})   v_L⋅(\n",
       "─────────────────⎟ + β₂⋅⎜───────────────────────────────────────────── + ─────\n",
       "   4             ⎠      ⎝                      4                              \n",
       "\n",
       "                                         \n",
       "                  2                     ⎞\n",
       "ⅈ⋅k_{1i} + k_{1r}) ⋅(-ⅈ⋅v_{Ri} + v_{Rr})⎟\n",
       "────────────────────────────────────────⎟\n",
       "                 4                      ⎠"
      ]
     },
     "execution_count": 25,
     "metadata": {},
     "output_type": "execute_result"
    }
   ],
   "source": [
    "VLRPhi = (\n",
    "    # Vphi\n",
    "    -mu12*trace(PhiDaggerPhi)\n",
    "    - mu22*(trace(Phitilde*PhiDagger) + trace(PhitildeDagger*Phi))\n",
    "    #\n",
    "    + lamb1*(trace(PhiPhiDagger))**2\n",
    "    + lamb2*(trace(PhitildePhiDagger)**2 + trace(PhitildeDaggerPhi)**2)\n",
    "    + lamb3*trace(PhitildePhiDagger)*trace(PhitildeDaggerPhi)\n",
    "    + lamb4*trace(PhiDaggerPhi)*(trace(PhitildePhiDagger) + trace(PhitildeDaggerPhi))\n",
    "    # Vtriplet\n",
    "    -mu32*(trace(DeltaLDeltaLDagger) + trace(DeltaRDeltaRDagger))\n",
    "    + rho1*(trace(DeltaLDeltaLDagger)**2 + trace(DeltaRDeltaRDagger)**2)\n",
    "    + rho2*(trace(DeltaLDeltaL)*trace(DeltaLDaggerDeltaLDagger) + trace(DeltaRDeltaR)*trace(DeltaRDaggerDeltaRDagger))\n",
    "    + rho3*trace(DeltaLDeltaLDagger)*trace(DeltaRDeltaRDagger)\n",
    "    + rho4*(trace(DeltaLDeltaL)*trace(DeltaRDaggerDeltaRDagger) + trace(DeltaLDaggerDeltaLDagger)*trace(DeltaRDeltaR))\n",
    "    # Vdoubletriplet\n",
    "    + alpha1*trace(PhiDaggerPhi)*(trace(DeltaLDeltaLDagger) + trace(DeltaRDeltaRDagger))\n",
    "    + alpha2*(\n",
    "        trace(PhiPhitildeDagger)*trace(DeltaLDeltaLDagger) + trace(PhitildeDaggerPhi)*trace(DeltaRDeltaRDagger) ####checar\n",
    "        + trace(PhitildeDaggerPhi)*trace(DeltaLDeltaLDagger) + trace(PhitildePhiDagger)*trace(DeltaRDeltaRDagger)\n",
    "    )\n",
    "    # + alpha3*(trace(PhiPhiDagger*DeltaLDeltaLDagger) + trace(PhiDaggerPhi*DeltaRDeltaRDagger))\n",
    "    + beta1*(trace(Phi*DeltaR*PhiDagger*DeltaLDagger) + trace(PhiDagger*DeltaL*Phi*DeltaRDagger))\n",
    "    + beta2*(trace(Phitilde*DeltaR*PhiDagger*DeltaLDagger) + trace(PhitildeDagger*DeltaL*Phi*DeltaRDagger))\n",
    "    # beta3 = beta2 in this case\n",
    "    + beta2*(trace(Phi*DeltaR*PhitildeDagger*DeltaLDagger) + trace(PhiDagger*DeltaL*Phitilde*DeltaRDagger))\n",
    ")\n",
    "VLRPhi.subs(vevL).subs(vevR).subs(vevPhi)"
   ]
  },
  {
   "cell_type": "code",
   "execution_count": 26,
   "metadata": {},
   "outputs": [
    {
     "data": {
      "image/png": "[encoded data removed]",
      "text/latex": [
       "$\\displaystyle \\left\\{ \\phi^{+}_{1} : 0, \\  \\phi^{-}_{1} : 0, \\  \\phi^{0}_{1} : \\frac{\\sqrt{2} \\left(i k_{1i} + k_{1r}\\right)}{2}, \\  \\phi^{+}_{2} : 0, \\  \\phi^{-}_{2} : 0, \\  \\phi^{0}_{2} : \\frac{\\sqrt{2} k_{2}}{2}\\right\\}$"
      ],
      "text/plain": [
       "⎧                              √2⋅(ⅈ⋅k_{1i} + k_{1r})                         \n",
       "⎨\\phi⁺₁: 0, \\phi⁻₁: 0, \\phi⁰₁: ──────────────────────, \\phi⁺₂: 0, \\phi⁻₂: 0, \\\n",
       "⎩                                        2                                    \n",
       "\n",
       "       √2⋅k₂⎫\n",
       "phi⁰₂: ─────⎬\n",
       "         2  ⎭"
      ]
     },
     "execution_count": 26,
     "metadata": {},
     "output_type": "execute_result"
    }
   ],
   "source": [
    "vevPhi"
   ]
  },
  {
   "cell_type": "code",
   "execution_count": 27,
   "metadata": {},
   "outputs": [
    {
     "data": {
      "image/png": "[encoded data removed]",
      "text/latex": [
       "$\\displaystyle \\frac{\\alpha_{1} \\left(k_{2}^{2} - \\left(i k_{1i} - k_{1r}\\right) \\left(i k_{1i} + k_{1r}\\right)\\right) \\left(v_{L}^{2} - \\left(i v_{Ri} - v_{Rr}\\right) \\left(i v_{Ri} + v_{Rr}\\right)\\right)}{4} + \\frac{\\alpha_{2} k_{2} \\cdot \\left(2 v_{L}^{2} \\left(i k_{1i} + k_{1r}\\right) + \\left(i k_{1i} - k_{1r}\\right) \\left(i v_{Ri} - v_{Rr}\\right) \\left(i v_{Ri} + v_{Rr}\\right) - \\left(i k_{1i} + k_{1r}\\right) \\left(i v_{Ri} - v_{Rr}\\right) \\left(i v_{Ri} + v_{Rr}\\right)\\right)}{2} + \\frac{\\lambda_{1} \\left(k_{2}^{2} - \\left(i k_{1i} - k_{1r}\\right) \\left(i k_{1i} + k_{1r}\\right)\\right)^{2}}{4} + \\lambda_{2} k_{2}^{2} \\left(\\left(i k_{1i} - k_{1r}\\right)^{2} + \\left(i k_{1i} + k_{1r}\\right)^{2}\\right) - \\lambda_{3} k_{2}^{2} \\left(i k_{1i} - k_{1r}\\right) \\left(i k_{1i} + k_{1r}\\right) + \\lambda_{4} k_{2} k_{1r} \\left(k_{2}^{2} - \\left(i k_{1i} - k_{1r}\\right) \\left(i k_{1i} + k_{1r}\\right)\\right) - \\frac{\\mu^{2}_{1} \\left(k_{2}^{2} - \\left(i k_{1i} - k_{1r}\\right) \\left(i k_{1i} + k_{1r}\\right)\\right)}{2} - 2 \\mu^{2}_{2} k_{2} k_{1r} - \\frac{\\mu^{2}_{3} \\left(v_{L}^{2} - \\left(i v_{Ri} - v_{Rr}\\right) \\left(i v_{Ri} + v_{Rr}\\right)\\right)}{2} + \\frac{\\rho_{1} \\left(v_{L}^{4} + \\left(i v_{Ri} - v_{Rr}\\right)^{2} \\left(i v_{Ri} + v_{Rr}\\right)^{2}\\right)}{4} - \\frac{\\rho_{3} v_{L}^{2} \\left(i v_{Ri} - v_{Rr}\\right) \\left(i v_{Ri} + v_{Rr}\\right)}{4} - \\frac{\\beta_{1} k_{2} v_{L} \\left(\\left(i k_{1i} - k_{1r}\\right) \\left(i v_{Ri} + v_{Rr}\\right) + \\left(i k_{1i} + k_{1r}\\right) \\left(i v_{Ri} - v_{Rr}\\right)\\right)}{4} + \\frac{\\beta_{2} k_{2}^{2} v_{L} v_{Rr}}{2} + \\frac{\\beta_{2} v_{L} \\left(\\left(i k_{1i} - k_{1r}\\right)^{2} \\left(i v_{Ri} + v_{Rr}\\right) - \\left(i k_{1i} + k_{1r}\\right)^{2} \\left(i v_{Ri} - v_{Rr}\\right)\\right)}{4}$"
      ],
      "text/plain": [
       "                                                                              \n",
       "        ⎛  2                                          ⎞ ⎛   2                 \n",
       "\\alpha₁⋅⎝k₂  - (ⅈ⋅k_{1i} - k_{1r})⋅(ⅈ⋅k_{1i} + k_{1r})⎠⋅⎝v_L  - (ⅈ⋅v_{Ri} - v_\n",
       "──────────────────────────────────────────────────────────────────────────────\n",
       "                                                   4                          \n",
       "\n",
       "                                                                              \n",
       "                         ⎞              ⎛     2                               \n",
       "{Rr})⋅(ⅈ⋅v_{Ri} + v_{Rr})⎠   \\alpha₂⋅k₂⋅⎝2⋅v_L ⋅(ⅈ⋅k_{1i} + k_{1r}) + (ⅈ⋅k_{1i\n",
       "────────────────────────── + ─────────────────────────────────────────────────\n",
       "                                                                              \n",
       "\n",
       "                                                                              \n",
       "                                                                              \n",
       "} - k_{1r})⋅(ⅈ⋅v_{Ri} - v_{Rr})⋅(ⅈ⋅v_{Ri} + v_{Rr}) - (ⅈ⋅k_{1i} + k_{1r})⋅(ⅈ⋅v\n",
       "──────────────────────────────────────────────────────────────────────────────\n",
       "                                2                                             \n",
       "\n",
       "                                                                              \n",
       "                                   ⎞            ⎛  2                          \n",
       "_{Ri} - v_{Rr})⋅(ⅈ⋅v_{Ri} + v_{Rr})⎠   \\lambda₁⋅⎝k₂  - (ⅈ⋅k_{1i} - k_{1r})⋅(ⅈ⋅\n",
       "──────────────────────────────────── + ───────────────────────────────────────\n",
       "                                                                   4          \n",
       "\n",
       "                 2                                                            \n",
       "                ⎞                                                             \n",
       "k_{1i} + k_{1r})⎠               2 ⎛                   2                      2\n",
       "────────────────── + \\lambda₂⋅k₂ ⋅⎝(ⅈ⋅k_{1i} - k_{1r})  + (ⅈ⋅k_{1i} + k_{1r}) \n",
       "                                                                              \n",
       "\n",
       "                                                                              \n",
       "                                                                              \n",
       "⎞              2                                                              \n",
       "⎠ - \\lambda₃⋅k₂ ⋅(ⅈ⋅k_{1i} - k_{1r})⋅(ⅈ⋅k_{1i} + k_{1r}) + \\lambda₄⋅k₂⋅k_{1r}⋅\n",
       "                                                                              \n",
       "\n",
       "                                                                              \n",
       "                                                        ⎛  2                  \n",
       "⎛  2                                          ⎞   \\mu²₁⋅⎝k₂  - (ⅈ⋅k_{1i} - k_{\n",
       "⎝k₂  - (ⅈ⋅k_{1i} - k_{1r})⋅(ⅈ⋅k_{1i} + k_{1r})⎠ - ────────────────────────────\n",
       "                                                                            2 \n",
       "\n",
       "                                                                              \n",
       "                        ⎞                             ⎛   2                   \n",
       "1r})⋅(ⅈ⋅k_{1i} + k_{1r})⎠                       \\mu²₃⋅⎝v_L  - (ⅈ⋅v_{Ri} - v_{R\n",
       "───────────────────────── - 2⋅\\mu²₂⋅k₂⋅k_{1r} - ──────────────────────────────\n",
       "                                                                          2   \n",
       "\n",
       "                                                                              \n",
       "                       ⎞         ⎛   4                      2                 \n",
       "r})⋅(ⅈ⋅v_{Ri} + v_{Rr})⎠   \\rho₁⋅⎝v_L  + (ⅈ⋅v_{Ri} - v_{Rr}) ⋅(ⅈ⋅v_{Ri} + v_{R\n",
       "──────────────────────── + ───────────────────────────────────────────────────\n",
       "                                                      4                       \n",
       "\n",
       "                                                                              \n",
       "   2⎞            2                                                            \n",
       "r}) ⎠   \\rho₃⋅v_L ⋅(ⅈ⋅v_{Ri} - v_{Rr})⋅(ⅈ⋅v_{Ri} + v_{Rr})   β₁⋅k₂⋅v_L⋅((ⅈ⋅k_{\n",
       "───── - ────────────────────────────────────────────────── - ─────────────────\n",
       "                                4                                             \n",
       "\n",
       "                                                                              \n",
       "                                                                              \n",
       "1i} - k_{1r})⋅(ⅈ⋅v_{Ri} + v_{Rr}) + (ⅈ⋅k_{1i} + k_{1r})⋅(ⅈ⋅v_{Ri} - v_{Rr}))  \n",
       "──────────────────────────────────────────────────────────────────────────── +\n",
       "                             4                                                \n",
       "\n",
       "                                                                              \n",
       "      2                     ⎛                   2                             \n",
       " β₂⋅k₂ ⋅v_L⋅v_{Rr}   β₂⋅v_L⋅⎝(ⅈ⋅k_{1i} - k_{1r}) ⋅(ⅈ⋅v_{Ri} + v_{Rr}) - (ⅈ⋅k_{\n",
       " ───────────────── + ─────────────────────────────────────────────────────────\n",
       "         2                                                        4           \n",
       "\n",
       "                                   \n",
       "             2                    ⎞\n",
       "1i} + k_{1r}) ⋅(ⅈ⋅v_{Ri} - v_{Rr})⎠\n",
       "───────────────────────────────────\n",
       "                                   "
      ]
     },
     "execution_count": 27,
     "metadata": {},
     "output_type": "execute_result"
    }
   ],
   "source": [
    "VLRPhi_vev = VLRPhi.subs(vevL).subs(vevR).subs(vevPhi).simplify()#.collect([mu12, mu22, mu32, lamb2, rho1, beta2], factor)#.subs(k1ri)\n",
    "VLRPhi_vev"
   ]
  },
  {
   "cell_type": "code",
   "execution_count": 28,
   "metadata": {},
   "outputs": [],
   "source": [
    "scalar_vevs = [k1r, k1i, k2, vRr, vRi, vL]\n",
    "tadpoles_relations = {}\n",
    "for vev in scalar_vevs:\n",
    "    tadpoles_relations[vev] = VLRPhi_vev.diff(vev).subs(k1ri).subs(vRri).expand().collect(\n",
    "    [alpha1, alpha2, lamb1, lamb2, lamb3, lamb4, beta1, beta2], factor)"
   ]
  },
  {
   "cell_type": "code",
   "execution_count": 29,
   "metadata": {},
   "outputs": [],
   "source": [
    "from sympy import Symbol"
   ]
  },
  {
   "cell_type": "markdown",
   "metadata": {},
   "source": [
    "## Caso $k_2=k_1$"
   ]
  },
  {
   "cell_type": "markdown",
   "metadata": {},
   "source": [
    "### sub case $\\alpha = \\theta$"
   ]
  },
  {
   "cell_type": "code",
   "execution_count": 36,
   "metadata": {},
   "outputs": [],
   "source": [
    "from sympy import trigsimp"
   ]
  },
  {
   "cell_type": "code",
   "execution_count": 37,
   "metadata": {},
   "outputs": [],
   "source": [
    "tadpoles_relations_caso1 = {}\n",
    "for vev in tadpoles_relations:\n",
    "    tadpoles_relations_caso1[vev] = tadpoles_relations[vev].subs(k2, k1).subs(theta, alpha)"
   ]
  },
  {
   "cell_type": "code",
   "execution_count": 38,
   "metadata": {},
   "outputs": [
    {
     "data": {
      "image/png": "[encoded data removed]",
      "text/latex": [
       "$\\displaystyle \\frac{\\alpha_{1} k_{1} \\left(v_{L}^{2} + v_{R}^{2}\\right) \\cos{\\left(\\alpha \\right)}}{2} + \\alpha_{2} k_{1} \\left(v_{L}^{2} + v_{R}^{2}\\right) + 2 \\lambda_{1} k_{1}^{3} \\cos{\\left(\\alpha \\right)} + 4 \\lambda_{2} k_{1}^{3} \\cos{\\left(\\alpha \\right)} + 2 \\lambda_{3} k_{1}^{3} \\cos{\\left(\\alpha \\right)} + 2 \\lambda_{4} k_{1}^{3} \\left(\\cos^{2}{\\left(\\alpha \\right)} + 1\\right) - \\mu^{2}_{1} k_{1} \\cos{\\left(\\alpha \\right)} - 2 \\mu^{2}_{2} k_{1} + \\frac{\\beta_{1} k_{1} v_{L} v_{R} \\cos{\\left(\\alpha \\right)}}{2} + \\beta_{2} k_{1} v_{L} v_{R}$"
      ],
      "text/plain": [
       "           ⎛   2      2⎞                                                      \n",
       "\\alpha₁⋅k₁⋅⎝v_L  + v_R ⎠⋅cos(\\alpha)              ⎛   2      2⎞               \n",
       "──────────────────────────────────── + \\alpha₂⋅k₁⋅⎝v_L  + v_R ⎠ + 2⋅\\lambda₁⋅k\n",
       "                 2                                                            \n",
       "\n",
       "                                                                              \n",
       " 3                            3                            3                  \n",
       "₁ ⋅cos(\\alpha) + 4⋅\\lambda₂⋅k₁ ⋅cos(\\alpha) + 2⋅\\lambda₃⋅k₁ ⋅cos(\\alpha) + 2⋅\\\n",
       "                                                                              \n",
       "\n",
       "                                                                              \n",
       "          3 ⎛   2            ⎞                                       β₁⋅k₁⋅v_L\n",
       "lambda₄⋅k₁ ⋅⎝cos (\\alpha) + 1⎠ - \\mu²₁⋅k₁⋅cos(\\alpha) - 2⋅\\mu²₂⋅k₁ + ─────────\n",
       "                                                                              \n",
       "\n",
       "                                \n",
       "⋅v_R⋅cos(\\alpha)                \n",
       "──────────────── + β₂⋅k₁⋅v_L⋅v_R\n",
       "   2                            "
      ]
     },
     "execution_count": 38,
     "metadata": {},
     "output_type": "execute_result"
    }
   ],
   "source": [
    "tadpole1_caso1 = tadpoles_relations_caso1[k1r].trigsimp()\n",
    "tadpole1_caso1"
   ]
  },
  {
   "cell_type": "code",
   "execution_count": 39,
   "metadata": {},
   "outputs": [
    {
     "data": {
      "image/png": "[encoded data removed]",
      "text/latex": [
       "$\\displaystyle \\frac{\\alpha_{1} k_{1} \\left(v_{L}^{2} + v_{R}^{2}\\right)}{2} + \\alpha_{2} k_{1} \\left(i v_{L}^{2} \\sin{\\left(\\alpha \\right)} + v_{L}^{2} \\cos{\\left(\\alpha \\right)} + v_{R}^{2} \\cos{\\left(\\alpha \\right)}\\right) + 2 \\lambda_{1} k_{1}^{3} + 4 \\lambda_{2} k_{1}^{3} \\cos{\\left(2 \\alpha \\right)} + 2 \\lambda_{3} k_{1}^{3} + 4 \\lambda_{4} k_{1}^{3} \\cos{\\left(\\alpha \\right)} - \\mu^{2}_{1} k_{1} - 2 \\mu^{2}_{2} k_{1} \\cos{\\left(\\alpha \\right)} + \\frac{\\beta_{1} k_{1} v_{L} v_{R}}{2} + \\beta_{2} k_{1} v_{L} v_{R} \\cos{\\left(\\alpha \\right)}$"
      ],
      "text/plain": [
       "           ⎛   2      2⎞                                                      \n",
       "\\alpha₁⋅k₁⋅⎝v_L  + v_R ⎠              ⎛     2                  2              \n",
       "──────────────────────── + \\alpha₂⋅k₁⋅⎝ⅈ⋅v_L ⋅sin(\\alpha) + v_L ⋅cos(\\alpha) +\n",
       "           2                                                                  \n",
       "\n",
       "                                                                              \n",
       "    2            ⎞                3                3                          \n",
       " v_R ⋅cos(\\alpha)⎠ + 2⋅\\lambda₁⋅k₁  + 4⋅\\lambda₂⋅k₁ ⋅cos(2⋅\\alpha) + 2⋅\\lambda\n",
       "                                                                              \n",
       "\n",
       "                                                                              \n",
       "    3                3                                                   β₁⋅k₁\n",
       "₃⋅k₁  + 4⋅\\lambda₄⋅k₁ ⋅cos(\\alpha) - \\mu²₁⋅k₁ - 2⋅\\mu²₂⋅k₁⋅cos(\\alpha) + ─────\n",
       "                                                                              \n",
       "\n",
       "                                    \n",
       "⋅v_L⋅v_R                            \n",
       "──────── + β₂⋅k₁⋅v_L⋅v_R⋅cos(\\alpha)\n",
       " 2                                  "
      ]
     },
     "execution_count": 39,
     "metadata": {},
     "output_type": "execute_result"
    }
   ],
   "source": [
    "tadpole2_caso1 = tadpoles_relations_caso1[k2].trigsimp()\n",
    "tadpole2_caso1"
   ]
  },
  {
   "cell_type": "code",
   "execution_count": 40,
   "metadata": {},
   "outputs": [],
   "source": [
    "tadpole12_sol_caso1 = solve([tadpole1_caso1, tadpole2_caso1], [mu12, mu22], dict=True)[0]"
   ]
  },
  {
   "cell_type": "code",
   "execution_count": 41,
   "metadata": {},
   "outputs": [],
   "source": [
    "for vev in tadpole12_sol_caso1:\n",
    "    tadpole12_sol_caso1[vev] = tadpole12_sol_caso1[vev].collect([k1, alpha1, alpha2, beta1],  trigsimp)"
   ]
  },
  {
   "cell_type": "code",
   "execution_count": 42,
   "metadata": {},
   "outputs": [
    {
     "data": {
      "image/png": "[encoded data removed]",
      "text/latex": [
       "$\\displaystyle \\left\\{ \\mu^{2}_{1} : \\alpha_{1} \\left(\\frac{v_{L}^{2}}{2} + \\frac{v_{R}^{2}}{2}\\right) + \\frac{\\beta_{1} v_{L} v_{R}}{2} + k_{1}^{2} \\cdot \\left(2 \\lambda_{1} - 4 \\lambda_{2} + 2 \\lambda_{3} + 2 \\lambda_{4} \\cos{\\left(\\alpha \\right)}\\right), \\  \\mu^{2}_{2} : \\alpha_{2} \\left(\\frac{v_{L}^{2}}{2} + \\frac{v_{R}^{2}}{2}\\right) + \\frac{\\beta_{2} v_{L} v_{R}}{2} + k_{1}^{2} \\cdot \\left(4 \\lambda_{2} \\cos{\\left(\\alpha \\right)} + \\lambda_{4}\\right)\\right\\}$"
      ],
      "text/plain": [
       "⎧               ⎛   2      2⎞                                                 \n",
       "⎪               ⎜v_L    v_R ⎟   β₁⋅v_L⋅v_R     2                              \n",
       "⎨\\mu²₁: \\alpha₁⋅⎜──── + ────⎟ + ────────── + k₁ ⋅(2⋅\\lambda₁ - 4⋅\\lambda₂ + 2⋅\n",
       "⎪               ⎝ 2      2  ⎠       2                                         \n",
       "⎩                                                                             \n",
       "\n",
       "                                                   ⎛   2      2⎞              \n",
       "                                                   ⎜v_L    v_R ⎟   β₂⋅v_L⋅v_R \n",
       "\\lambda₃ + 2⋅\\lambda₄⋅cos(\\alpha)), \\mu²₂: \\alpha₂⋅⎜──── + ────⎟ + ────────── \n",
       "                                                   ⎝ 2      2  ⎠       2      \n",
       "                                                                              \n",
       "\n",
       "                                         ⎫\n",
       "    2                                    ⎪\n",
       "+ k₁ ⋅(4⋅\\lambda₂⋅cos(\\alpha) + \\lambda₄)⎬\n",
       "                                         ⎪\n",
       "                                         ⎭"
      ]
     },
     "execution_count": 42,
     "metadata": {},
     "output_type": "execute_result"
    }
   ],
   "source": [
    "tadpole12_sol_caso1"
   ]
  },
  {
   "cell_type": "markdown",
   "metadata": {},
   "source": [
    "the last solution coincides with the result of equation (15) in the work of Barenboim1996."
   ]
  },
  {
   "cell_type": "code",
   "execution_count": 43,
   "metadata": {},
   "outputs": [
    {
     "data": {
      "image/png": "[encoded data removed]",
      "text/latex": [
       "$\\displaystyle \\alpha_{1} k_{1}^{2} v_{L} + 2 \\alpha_{2} k_{1}^{2} v_{L} \\left(i \\sin{\\left(\\alpha \\right)} + \\cos{\\left(\\alpha \\right)}\\right) + \\frac{\\beta_{1} k_{1}^{2} v_{R}}{2} + \\beta_{2} k_{1}^{2} v_{R} \\cos{\\left(\\alpha \\right)} - \\frac{v_{L} \\left(2 \\mu^{2}_{3} - 2 \\rho_{1} v_{L}^{2} - \\rho_{3} v_{R}^{2}\\right)}{2}$"
      ],
      "text/plain": [
       "                                                                         2    \n",
       "          2                   2                                     β₁⋅k₁ ⋅v_R\n",
       "\\alpha₁⋅k₁ ⋅v_L + 2⋅\\alpha₂⋅k₁ ⋅v_L⋅(ⅈ⋅sin(\\alpha) + cos(\\alpha)) + ──────────\n",
       "                                                                        2     \n",
       "\n",
       "                                ⎛                     2            2⎞\n",
       "        2                   v_L⋅⎝2⋅\\mu²₃ - 2⋅\\rho₁⋅v_L  - \\rho₃⋅v_R ⎠\n",
       " + β₂⋅k₁ ⋅v_R⋅cos(\\alpha) - ─────────────────────────────────────────\n",
       "                                                2                    "
      ]
     },
     "execution_count": 43,
     "metadata": {},
     "output_type": "execute_result"
    }
   ],
   "source": [
    "tadpole3_caso1 = tadpoles_relations_caso1[vL].trigsimp()\n",
    "tadpole3_caso1"
   ]
  },
  {
   "cell_type": "code",
   "execution_count": 86,
   "metadata": {},
   "outputs": [
    {
     "data": {
      "image/png": "[encoded data removed]",
      "text/latex": [
       "$\\displaystyle \\left(\\alpha_{1} k_{1}^{2} v_{R} + 2 \\alpha_{2} k_{1}^{2} v_{R} \\cos{\\left(\\alpha \\right)} - \\mu^{2}_{3} v_{R} + \\rho_{1} v_{R}^{3} + \\frac{\\rho_{3} v_{L}^{2} v_{R}}{2} + \\frac{\\beta_{1} k_{1}^{2} v_{L}}{2} + \\beta_{2} k_{1}^{2} v_{L} \\cos{\\left(\\alpha \\right)}\\right) \\cos{\\left(\\alpha \\right)}$"
      ],
      "text/plain": [
       "⎛                                                                             \n",
       "⎜          2                   2                                        3   \\r\n",
       "⎜\\alpha₁⋅k₁ ⋅v_R + 2⋅\\alpha₂⋅k₁ ⋅v_R⋅cos(\\alpha) - \\mu²₃⋅v_R + \\rho₁⋅v_R  + ──\n",
       "⎝                                                                             \n",
       "\n",
       "       2            2                             ⎞            \n",
       "ho₃⋅v_L ⋅v_R   β₁⋅k₁ ⋅v_L        2                ⎟            \n",
       "──────────── + ────────── + β₂⋅k₁ ⋅v_L⋅cos(\\alpha)⎟⋅cos(\\alpha)\n",
       "    2              2                              ⎠            "
      ]
     },
     "execution_count": 86,
     "metadata": {},
     "output_type": "execute_result"
    }
   ],
   "source": [
    "tadpole4_caso1 = tadpoles_relations_caso1[vRr].trigsimp()\n",
    "tadpole4_caso1"
   ]
  },
  {
   "cell_type": "code",
   "execution_count": 87,
   "metadata": {},
   "outputs": [
    {
     "data": {
      "image/png": "[encoded data removed]",
      "text/latex": [
       "$\\displaystyle \\left\\{ \\mu^{2}_{3} : \\frac{2 \\alpha_{1} k_{1}^{2} v_{L} v_{R} + 4 \\alpha_{2} k_{1}^{2} v_{L} v_{R} \\cos{\\left(\\alpha \\right)} + \\rho_{3} v_{L}^{3} v_{R} + \\rho_{3} v_{L} v_{R}^{3} + \\beta_{1} k_{1}^{2} v_{L}^{2} + \\beta_{1} k_{1}^{2} v_{R}^{2} + 2 \\beta_{2} k_{1}^{2} v_{L}^{2} \\cos{\\left(\\alpha \\right)} + 2 \\beta_{2} k_{1}^{2} v_{R}^{2} \\cos{\\left(\\alpha \\right)}}{2 v_{L} v_{R}}, \\  \\rho_{1} : \\frac{\\rho_{3} v_{L} v_{R} + \\beta_{1} k_{1}^{2} + 2 \\beta_{2} k_{1}^{2} \\cos{\\left(\\alpha \\right)}}{2 v_{L} v_{R}}\\right\\}$"
      ],
      "text/plain": [
       "⎧                   2                       2                                3\n",
       "⎪       2⋅\\alpha₁⋅k₁ ⋅v_L⋅v_R + 4⋅\\alpha₂⋅k₁ ⋅v_L⋅v_R⋅cos(\\alpha) + \\rho₃⋅v_L \n",
       "⎨\\mu²₃: ──────────────────────────────────────────────────────────────────────\n",
       "⎪                                                                             \n",
       "⎩                                                                             \n",
       "\n",
       "                    3        2    2        2    2          2    2             \n",
       "⋅v_R + \\rho₃⋅v_L⋅v_R  + β₁⋅k₁ ⋅v_L  + β₁⋅k₁ ⋅v_R  + 2⋅β₂⋅k₁ ⋅v_L ⋅cos(\\alpha) \n",
       "──────────────────────────────────────────────────────────────────────────────\n",
       "             2⋅v_L⋅v_R                                                        \n",
       "                                                                              \n",
       "\n",
       "         2    2                                          2          2         \n",
       "+ 2⋅β₂⋅k₁ ⋅v_R ⋅cos(\\alpha)         \\rho₃⋅v_L⋅v_R + β₁⋅k₁  + 2⋅β₂⋅k₁ ⋅cos(\\alp\n",
       "───────────────────────────, \\rho₁: ──────────────────────────────────────────\n",
       "                                                      2⋅v_L⋅v_R               \n",
       "                                                                              \n",
       "\n",
       "   ⎫\n",
       "ha)⎪\n",
       "───⎬\n",
       "   ⎪\n",
       "   ⎭"
      ]
     },
     "execution_count": 87,
     "metadata": {},
     "output_type": "execute_result"
    }
   ],
   "source": [
    "tadpole34_sol_caso1 = solve([tadpole3_caso1, tadpole4_caso1], [mu32, rho1], dict=True)[0]\n",
    "tadpole34_sol_caso1"
   ]
  },
  {
   "cell_type": "code",
   "execution_count": 88,
   "metadata": {},
   "outputs": [],
   "source": [
    "for vev in tadpole34_sol_caso1:\n",
    "    tadpole34_sol_caso1[vev] = tadpole34_sol_caso1[vev].collect([k1, rho3],  trigsimp)"
   ]
  },
  {
   "cell_type": "code",
   "execution_count": 89,
   "metadata": {},
   "outputs": [],
   "source": [
    "tadpole34_sol_caso1[mu32] = tadpole34_sol_caso1[mu32].expand().collect([k1, rho3], lambda x: x.collect([beta1, beta2], factor))"
   ]
  },
  {
   "cell_type": "code",
   "execution_count": 90,
   "metadata": {},
   "outputs": [
    {
     "data": {
      "image/png": "[encoded data removed]",
      "text/latex": [
       "$\\displaystyle \\left\\{ \\mu^{2}_{3} : \\frac{\\rho_{3} \\left(v_{L}^{2} + v_{R}^{2}\\right)}{2} + k_{1}^{2} \\left(\\alpha_{1} + 2 \\alpha_{2} \\cos{\\left(\\alpha \\right)} + \\frac{\\beta_{1} \\left(v_{L}^{2} + v_{R}^{2}\\right)}{2 v_{L} v_{R}} + \\frac{\\beta_{2} \\left(v_{L}^{2} + v_{R}^{2}\\right) \\cos{\\left(\\alpha \\right)}}{v_{L} v_{R}}\\right), \\  \\rho_{1} : \\frac{\\rho_{3} v_{L} v_{R} + k_{1}^{2} \\left(\\beta_{1} + 2 \\beta_{2} \\cos{\\left(\\alpha \\right)}\\right)}{2 v_{L} v_{R}}\\right\\}$"
      ],
      "text/plain": [
       "⎧             ⎛   2      2⎞       ⎛                                     ⎛   2 \n",
       "⎪       \\rho₃⋅⎝v_L  + v_R ⎠     2 ⎜                                  β₁⋅⎝v_L  \n",
       "⎨\\mu²₃: ─────────────────── + k₁ ⋅⎜\\alpha₁ + 2⋅\\alpha₂⋅cos(\\alpha) + ─────────\n",
       "⎪                2                ⎝                                     2⋅v_L⋅\n",
       "⎩                                                                             \n",
       "\n",
       "     2⎞      ⎛   2      2⎞            ⎞                           2           \n",
       "+ v_R ⎠   β₂⋅⎝v_L  + v_R ⎠⋅cos(\\alpha)⎟         \\rho₃⋅v_L⋅v_R + k₁ ⋅(β₁ + 2⋅β₂\n",
       "─────── + ────────────────────────────⎟, \\rho₁: ──────────────────────────────\n",
       "v_R                 v_L⋅v_R           ⎠                          2⋅v_L⋅v_R    \n",
       "                                                                              \n",
       "\n",
       "             ⎫\n",
       "⋅cos(\\alpha))⎪\n",
       "─────────────⎬\n",
       "             ⎪\n",
       "             ⎭"
      ]
     },
     "execution_count": 90,
     "metadata": {},
     "output_type": "execute_result"
    }
   ],
   "source": [
    "tadpole34_sol_caso1"
   ]
  },
  {
   "cell_type": "code",
   "execution_count": 91,
   "metadata": {},
   "outputs": [
    {
     "data": {
      "image/png": "[encoded data removed]",
      "text/latex": [
       "$\\displaystyle i \\alpha_{2} k_{1} v_{L}^{2}$"
      ],
      "text/plain": [
       "                2\n",
       "ⅈ⋅\\alpha₂⋅k₁⋅v_L "
      ]
     },
     "execution_count": 91,
     "metadata": {},
     "output_type": "execute_result"
    }
   ],
   "source": [
    "tadpole5_caso1 = tadpoles_relations_caso1[k1i].subs(tadpole12_sol_caso1).trigsimp()\n",
    "tadpole5_caso1"
   ]
  },
  {
   "cell_type": "code",
   "execution_count": 93,
   "metadata": {},
   "outputs": [
    {
     "data": {
      "image/png": "[encoded data removed]",
      "text/latex": [
       "$\\displaystyle 0$"
      ],
      "text/plain": [
       "0"
      ]
     },
     "execution_count": 93,
     "metadata": {},
     "output_type": "execute_result"
    }
   ],
   "source": [
    "tadpole6_caso1 = tadpoles_relations_caso1[vRi].subs(tadpole34_sol_caso1).trigsimp()\n",
    "tadpole6_caso1"
   ]
  },
  {
   "cell_type": "markdown",
   "metadata": {},
   "source": [
    "### sub case $\\beta_1 = \\beta_2 = 0$"
   ]
  },
  {
   "cell_type": "code",
   "execution_count": 95,
   "metadata": {},
   "outputs": [],
   "source": [
    "tadpoles_relations_caso2 = {}\n",
    "for vev in tadpoles_relations:\n",
    "    tadpoles_relations_caso2[vev] = tadpoles_relations[vev].subs(k2, k1).subs(beta1, 0).subs(beta2, 0).subs(beta3, 0)"
   ]
  },
  {
   "cell_type": "code",
   "execution_count": 96,
   "metadata": {},
   "outputs": [],
   "source": [
    "tadpole1_caso2 = tadpoles_relations_caso2[k1r].trigsimp()\n",
    "tadpole2_caso2 = tadpoles_relations_caso2[k2].trigsimp()"
   ]
  },
  {
   "cell_type": "code",
   "execution_count": 97,
   "metadata": {},
   "outputs": [],
   "source": [
    "tadpole12_sol_caso2 = solve([tadpole1_caso2, tadpole2_caso2], [mu12, mu22], dict=True)[0]\n",
    "for vev in tadpole12_sol_caso2:\n",
    "    tadpole12_sol_caso2[vev] = tadpole12_sol_caso2[vev].collect([k1, alpha1, alpha2, beta1],  trigsimp)"
   ]
  },
  {
   "cell_type": "code",
   "execution_count": 98,
   "metadata": {},
   "outputs": [
    {
     "data": {
      "image/png": "[encoded data removed]",
      "text/latex": [
       "$\\displaystyle \\left\\{ \\mu^{2}_{1} : \\alpha_{1} \\left(\\frac{v_{L}^{2}}{2} + \\frac{v_{R}^{2}}{2}\\right) + k_{1}^{2} \\cdot \\left(2 \\lambda_{1} - 4 \\lambda_{2} + 2 \\lambda_{3} + 2 \\lambda_{4} \\cos{\\left(\\alpha \\right)}\\right), \\  \\mu^{2}_{2} : \\alpha_{2} \\left(\\frac{v_{L}^{2}}{2} + \\frac{v_{R}^{2}}{2}\\right) + k_{1}^{2} \\cdot \\left(4 \\lambda_{2} \\cos{\\left(\\alpha \\right)} + \\lambda_{4}\\right)\\right\\}$"
      ],
      "text/plain": [
       "⎧               ⎛   2      2⎞                                                 \n",
       "⎪               ⎜v_L    v_R ⎟     2                                           \n",
       "⎨\\mu²₁: \\alpha₁⋅⎜──── + ────⎟ + k₁ ⋅(2⋅\\lambda₁ - 4⋅\\lambda₂ + 2⋅\\lambda₃ + 2⋅\n",
       "⎪               ⎝ 2      2  ⎠                                                 \n",
       "⎩                                                                             \n",
       "\n",
       "                                      ⎛   2      2⎞                           \n",
       "                                      ⎜v_L    v_R ⎟     2                     \n",
       "\\lambda₄⋅cos(\\alpha)), \\mu²₂: \\alpha₂⋅⎜──── + ────⎟ + k₁ ⋅(4⋅\\lambda₂⋅cos(\\alp\n",
       "                                      ⎝ 2      2  ⎠                           \n",
       "                                                                              \n",
       "\n",
       "               ⎫\n",
       "               ⎪\n",
       "ha) + \\lambda₄)⎬\n",
       "               ⎪\n",
       "               ⎭"
      ]
     },
     "execution_count": 98,
     "metadata": {},
     "output_type": "execute_result"
    }
   ],
   "source": [
    "tadpole12_sol_caso2"
   ]
  },
  {
   "cell_type": "code",
   "execution_count": 99,
   "metadata": {},
   "outputs": [],
   "source": [
    "tadpole3_caso2 = tadpoles_relations_caso2[vL].trigsimp()\n",
    "tadpole4_caso2 = tadpoles_relations_caso2[vRr].trigsimp()"
   ]
  },
  {
   "cell_type": "code",
   "execution_count": 100,
   "metadata": {},
   "outputs": [],
   "source": [
    "tadpole34_sol_caso2 = solve([tadpole3_caso2, tadpole4_caso2], [mu32, rho1], dict=True)[0]\n",
    "for vev in tadpole34_sol_caso2:\n",
    "    tadpole34_sol_caso2[vev] = tadpole34_sol_caso2[vev].collect([k1, rho3],  trigsimp)"
   ]
  },
  {
   "cell_type": "code",
   "execution_count": 101,
   "metadata": {},
   "outputs": [
    {
     "data": {
      "image/png": "[encoded data removed]",
      "text/latex": [
       "$\\displaystyle \\left\\{ \\mu^{2}_{3} : \\rho_{3} \\left(\\frac{v_{L}^{2}}{2} + \\frac{v_{R}^{2}}{2}\\right) + k_{1}^{2} \\left(\\alpha_{1} + 2 \\alpha_{2} \\cos{\\left(\\alpha \\right)}\\right), \\  \\rho_{1} : \\frac{\\rho_{3}}{2}\\right\\}$"
      ],
      "text/plain": [
       "⎧             ⎛   2      2⎞                                                   \n",
       "⎪             ⎜v_L    v_R ⎟     2                                           \\r\n",
       "⎨\\mu²₃: \\rho₃⋅⎜──── + ────⎟ + k₁ ⋅(\\alpha₁ + 2⋅\\alpha₂⋅cos(\\alpha)), \\rho₁: ──\n",
       "⎪             ⎝ 2      2  ⎠                                                   \n",
       "⎩                                                                             \n",
       "\n",
       "   ⎫\n",
       "ho₃⎪\n",
       "───⎬\n",
       "2  ⎪\n",
       "   ⎭"
      ]
     },
     "execution_count": 101,
     "metadata": {},
     "output_type": "execute_result"
    }
   ],
   "source": [
    "tadpole34_sol_caso2"
   ]
  },
  {
   "cell_type": "code",
   "execution_count": 103,
   "metadata": {},
   "outputs": [
    {
     "data": {
      "image/png": "[encoded data removed]",
      "text/latex": [
       "$\\displaystyle i \\alpha_{2} k_{1} v_{L}^{2}$"
      ],
      "text/plain": [
       "                2\n",
       "ⅈ⋅\\alpha₂⋅k₁⋅v_L "
      ]
     },
     "execution_count": 103,
     "metadata": {},
     "output_type": "execute_result"
    }
   ],
   "source": [
    "tadpole5_caso2 = tadpoles_relations_caso2[k1i].subs(tadpole12_sol_caso2).trigsimp()\n",
    "tadpole5_caso2"
   ]
  },
  {
   "cell_type": "code",
   "execution_count": 104,
   "metadata": {},
   "outputs": [
    {
     "data": {
      "image/png": "[encoded data removed]",
      "text/latex": [
       "$\\displaystyle 0$"
      ],
      "text/plain": [
       "0"
      ]
     },
     "execution_count": 104,
     "metadata": {},
     "output_type": "execute_result"
    }
   ],
   "source": [
    "tadpole6_caso2 = tadpoles_relations_caso2[vRi].subs(tadpole34_sol_caso2).trigsimp()\n",
    "tadpole6_caso2"
   ]
  },
  {
   "cell_type": "markdown",
   "metadata": {},
   "source": [
    "Expand neutral fields in terms of real and imaginary parts\n",
    "$$F = \\frac{1}{\\sqrt{2}}(F^r + i F^i)$$"
   ]
  },
  {
   "cell_type": "code",
   "execution_count": 105,
   "metadata": {},
   "outputs": [],
   "source": [
    "phi10r, phi10i = symbols(r'\\phi_1^{0r}, \\phi_1^{0i}', real=True)\n",
    "phi20r, phi20i = symbols(r'\\phi_2^{0r}, \\phi_2^{0i}', real=True)\n",
    "deltaR0r, deltaR0i = symbols(r'\\delta_R^{0r}, \\delta_R^{0i}', real=True)\n",
    "deltaL0r, deltaL0i = symbols(r'\\delta_L^{0r}, \\delta_L^{0i}', real=True)\n",
    "complex_scalar_fields = {\n",
    "    phi10: (phi10r + I*phi10i)/sqrt2,\n",
    "    phi20: (phi20r + I*phi20i)/sqrt2,\n",
    "    deltaR0: (deltaR0r + I*deltaR0i)/sqrt2,\n",
    "    deltaL0: (deltaL0r + I*deltaL0i)/sqrt2\n",
    "}"
   ]
  },
  {
   "cell_type": "code",
   "execution_count": 106,
   "metadata": {},
   "outputs": [],
   "source": [
    "VLRPhi_ri = VLRPhi.subs(complex_scalar_fields)"
   ]
  },
  {
   "cell_type": "markdown",
   "metadata": {},
   "source": [
    "# Scalar ms"
   ]
  },
  {
   "cell_type": "code",
   "execution_count": null,
   "metadata": {},
   "outputs": [
    {
     "data": {
      "image/png": "[encoded data removed]",
      "text/latex": [
       "$\\displaystyle \\alpha_{1} \\left(\\phi^{+}_{1} \\phi^{-}_{1} + \\phi^{+}_{2} \\phi^{-}_{2} + \\frac{\\left(i \\phi_1^{0i} + \\phi_1^{0r}\\right)^{2}}{2} + \\frac{\\left(i \\phi_2^{0i} + \\phi_2^{0r}\\right)^{2}}{2}\\right) \\left(\\delta^{+}_{L} \\delta^{-}_{L} + \\delta_L^{++} \\delta_L^{--} + \\delta^{+}_{R} \\delta^{-}_{R} + \\delta_R^{++} \\delta_R^{--} + \\frac{\\left(i \\delta_L^{0i} + \\delta_L^{0r}\\right)^{2}}{2} + \\frac{\\left(i \\delta_R^{0i} + \\delta_R^{0r}\\right)^{2}}{2}\\right) + \\alpha_{2} \\cdot \\left(2 \\left(\\delta^{+}_{L} \\delta^{-}_{L} + \\delta_L^{++} \\delta_L^{--} + \\frac{\\left(i \\delta_L^{0i} + \\delta_L^{0r}\\right)^{2}}{2}\\right) \\left(- \\phi^{+}_{1} \\phi^{+}_{2} - \\phi^{-}_{1} \\phi^{-}_{2} + \\left(i \\phi_1^{0i} + \\phi_1^{0r}\\right) \\left(i \\phi_2^{0i} + \\phi_2^{0r}\\right)\\right) + 2 \\left(\\delta^{+}_{R} \\delta^{-}_{R} + \\delta_R^{++} \\delta_R^{--} + \\frac{\\left(i \\delta_R^{0i} + \\delta_R^{0r}\\right)^{2}}{2}\\right) \\left(- \\phi^{+}_{1} \\phi^{+}_{2} - \\phi^{-}_{1} \\phi^{-}_{2} + \\left(i \\phi_1^{0i} + \\phi_1^{0r}\\right) \\left(i \\phi_2^{0i} + \\phi_2^{0r}\\right)\\right)\\right) + \\lambda_{1} \\left(\\phi^{+}_{1} \\phi^{-}_{1} + \\phi^{+}_{2} \\phi^{-}_{2} + \\frac{\\left(i \\phi_1^{0i} + \\phi_1^{0r}\\right)^{2}}{2} + \\frac{\\left(i \\phi_2^{0i} + \\phi_2^{0r}\\right)^{2}}{2}\\right)^{2} + 2 \\lambda_{2} \\left(- \\phi^{+}_{1} \\phi^{+}_{2} - \\phi^{-}_{1} \\phi^{-}_{2} + \\left(i \\phi_1^{0i} + \\phi_1^{0r}\\right) \\left(i \\phi_2^{0i} + \\phi_2^{0r}\\right)\\right)^{2} + \\lambda_{3} \\left(- \\phi^{+}_{1} \\phi^{+}_{2} - \\phi^{-}_{1} \\phi^{-}_{2} + \\left(i \\phi_1^{0i} + \\phi_1^{0r}\\right) \\left(i \\phi_2^{0i} + \\phi_2^{0r}\\right)\\right)^{2} + \\lambda_{4} \\left(- 2 \\phi^{+}_{1} \\phi^{+}_{2} - 2 \\phi^{-}_{1} \\phi^{-}_{2} + 2 \\left(i \\phi_1^{0i} + \\phi_1^{0r}\\right) \\left(i \\phi_2^{0i} + \\phi_2^{0r}\\right)\\right) \\left(\\phi^{+}_{1} \\phi^{-}_{1} + \\phi^{+}_{2} \\phi^{-}_{2} + \\frac{\\left(i \\phi_1^{0i} + \\phi_1^{0r}\\right)^{2}}{2} + \\frac{\\left(i \\phi_2^{0i} + \\phi_2^{0r}\\right)^{2}}{2}\\right) + \\rho_{1} \\left(\\left(\\delta^{+}_{L} \\delta^{-}_{L} + \\delta_L^{++} \\delta_L^{--} + \\frac{\\left(i \\delta_L^{0i} + \\delta_L^{0r}\\right)^{2}}{2}\\right)^{2} + \\left(\\delta^{+}_{R} \\delta^{-}_{R} + \\delta_R^{++} \\delta_R^{--} + \\frac{\\left(i \\delta_R^{0i} + \\delta_R^{0r}\\right)^{2}}{2}\\right)^{2}\\right) + \\rho_{2} \\left(\\left(\\left(\\delta^{+}_{L}\\right)^{2} + \\sqrt{2} \\delta_L^{++} \\left(i \\delta_L^{0i} + \\delta_L^{0r}\\right)\\right) \\left(\\left(\\delta^{-}_{L}\\right)^{2} + \\sqrt{2} \\delta_L^{--} \\left(i \\delta_L^{0i} + \\delta_L^{0r}\\right)\\right) + \\left(\\left(\\delta^{+}_{R}\\right)^{2} + \\sqrt{2} \\delta_R^{++} \\left(i \\delta_R^{0i} + \\delta_R^{0r}\\right)\\right) \\left(\\left(\\delta^{-}_{R}\\right)^{2} + \\sqrt{2} \\delta_R^{--} \\left(i \\delta_R^{0i} + \\delta_R^{0r}\\right)\\right)\\right) + \\rho_{3} \\left(\\delta^{+}_{L} \\delta^{-}_{L} + \\delta_L^{++} \\delta_L^{--} + \\frac{\\left(i \\delta_L^{0i} + \\delta_L^{0r}\\right)^{2}}{2}\\right) \\left(\\delta^{+}_{R} \\delta^{-}_{R} + \\delta_R^{++} \\delta_R^{--} + \\frac{\\left(i \\delta_R^{0i} + \\delta_R^{0r}\\right)^{2}}{2}\\right) + \\rho_{4} \\left(\\left(\\left(\\delta^{+}_{L}\\right)^{2} + \\sqrt{2} \\delta_L^{++} \\left(i \\delta_L^{0i} + \\delta_L^{0r}\\right)\\right) \\left(\\left(\\delta^{-}_{R}\\right)^{2} + \\sqrt{2} \\delta_R^{--} \\left(i \\delta_R^{0i} + \\delta_R^{0r}\\right)\\right) + \\left(\\left(\\delta^{-}_{L}\\right)^{2} + \\sqrt{2} \\delta_L^{--} \\left(i \\delta_L^{0i} + \\delta_L^{0r}\\right)\\right) \\left(\\left(\\delta^{+}_{R}\\right)^{2} + \\sqrt{2} \\delta_R^{++} \\left(i \\delta_R^{0i} + \\delta_R^{0r}\\right)\\right)\\right) + \\beta_{1} \\left(\\frac{\\sqrt{2} \\delta^{-}_{L} \\left(\\phi^{-}_{1} \\left(- \\frac{\\sqrt{2} \\delta^{+}_{R} \\phi^{+}_{1}}{2} + \\frac{\\sqrt{2} \\delta_R^{++} \\left(i \\phi_1^{0i} + \\phi_1^{0r}\\right)}{2}\\right) + \\frac{\\sqrt{2} \\left(i \\phi_1^{0i} + \\phi_1^{0r}\\right) \\left(\\frac{\\delta^{+}_{R} \\left(i \\phi_1^{0i} + \\phi_1^{0r}\\right)}{2} + \\frac{\\sqrt{2} \\phi^{+}_{1} \\left(i \\delta_R^{0i} + \\delta_R^{0r}\\right)}{2}\\right)}{2}\\right)}{2} - \\frac{\\sqrt{2} \\delta^{-}_{L} \\left(\\phi^{+}_{2} \\left(\\frac{\\sqrt{2} \\delta^{+}_{R} \\phi^{-}_{2}}{2} + \\frac{\\left(i \\delta_R^{0i} + \\delta_R^{0r}\\right) \\left(i \\phi_2^{0i} + \\phi_2^{0r}\\right)}{2}\\right) + \\frac{\\sqrt{2} \\left(i \\phi_2^{0i} + \\phi_2^{0r}\\right) \\left(- \\frac{\\delta^{+}_{R} \\left(i \\phi_2^{0i} + \\phi_2^{0r}\\right)}{2} + \\delta_R^{++} \\phi^{-}_{2}\\right)}{2}\\right)}{2} + \\delta_L^{--} \\left(\\phi^{+}_{2} \\left(\\frac{\\delta^{+}_{R} \\left(i \\phi_1^{0i} + \\phi_1^{0r}\\right)}{2} + \\frac{\\sqrt{2} \\phi^{+}_{1} \\left(i \\delta_R^{0i} + \\delta_R^{0r}\\right)}{2}\\right) + \\frac{\\sqrt{2} \\left(i \\phi_2^{0i} + \\phi_2^{0r}\\right) \\left(- \\frac{\\sqrt{2} \\delta^{+}_{R} \\phi^{+}_{1}}{2} + \\frac{\\sqrt{2} \\delta_R^{++} \\left(i \\phi_1^{0i} + \\phi_1^{0r}\\right)}{2}\\right)}{2}\\right) - \\frac{\\sqrt{2} \\delta^{-}_{R} \\left(\\phi^{+}_{1} \\left(\\frac{\\sqrt{2} \\delta^{+}_{L} \\phi^{-}_{1}}{2} + \\frac{\\left(i \\delta_L^{0i} + \\delta_L^{0r}\\right) \\left(i \\phi_2^{0i} + \\phi_2^{0r}\\right)}{2}\\right) + \\frac{\\sqrt{2} \\left(i \\phi_2^{0i} + \\phi_2^{0r}\\right) \\left(- \\frac{\\delta^{+}_{L} \\left(i \\phi_2^{0i} + \\phi_2^{0r}\\right)}{2} + \\delta_L^{++} \\phi^{-}_{1}\\right)}{2}\\right)}{2} + \\frac{\\sqrt{2} \\delta^{-}_{R} \\left(\\phi^{-}_{2} \\left(- \\frac{\\sqrt{2} \\delta^{+}_{L} \\phi^{+}_{2}}{2} + \\frac{\\sqrt{2} \\delta_L^{++} \\left(i \\phi_1^{0i} + \\phi_1^{0r}\\right)}{2}\\right) + \\frac{\\sqrt{2} \\left(i \\phi_1^{0i} + \\phi_1^{0r}\\right) \\left(\\frac{\\delta^{+}_{L} \\left(i \\phi_1^{0i} + \\phi_1^{0r}\\right)}{2} + \\frac{\\sqrt{2} \\phi^{+}_{2} \\left(i \\delta_L^{0i} + \\delta_L^{0r}\\right)}{2}\\right)}{2}\\right)}{2} + \\delta_R^{--} \\left(\\phi^{+}_{1} \\left(\\frac{\\delta^{+}_{L} \\left(i \\phi_1^{0i} + \\phi_1^{0r}\\right)}{2} + \\frac{\\sqrt{2} \\phi^{+}_{2} \\left(i \\delta_L^{0i} + \\delta_L^{0r}\\right)}{2}\\right) + \\frac{\\sqrt{2} \\left(i \\phi_2^{0i} + \\phi_2^{0r}\\right) \\left(- \\frac{\\sqrt{2} \\delta^{+}_{L} \\phi^{+}_{2}}{2} + \\frac{\\sqrt{2} \\delta_L^{++} \\left(i \\phi_1^{0i} + \\phi_1^{0r}\\right)}{2}\\right)}{2}\\right) + \\frac{\\sqrt{2} \\left(i \\delta_L^{0i} + \\delta_L^{0r}\\right) \\left(\\phi^{-}_{1} \\left(- \\frac{\\delta^{+}_{R} \\left(i \\phi_2^{0i} + \\phi_2^{0r}\\right)}{2} + \\delta_R^{++} \\phi^{-}_{2}\\right) + \\frac{\\sqrt{2} \\left(i \\phi_1^{0i} + \\phi_1^{0r}\\right) \\left(\\frac{\\sqrt{2} \\delta^{+}_{R} \\phi^{-}_{2}}{2} + \\frac{\\left(i \\delta_R^{0i} + \\delta_R^{0r}\\right) \\left(i \\phi_2^{0i} + \\phi_2^{0r}\\right)}{2}\\right)}{2}\\right)}{2} + \\frac{\\sqrt{2} \\left(i \\delta_R^{0i} + \\delta_R^{0r}\\right) \\left(\\phi^{-}_{2} \\left(- \\frac{\\delta^{+}_{L} \\left(i \\phi_2^{0i} + \\phi_2^{0r}\\right)}{2} + \\delta_L^{++} \\phi^{-}_{1}\\right) + \\frac{\\sqrt{2} \\left(i \\phi_1^{0i} + \\phi_1^{0r}\\right) \\left(\\frac{\\sqrt{2} \\delta^{+}_{L} \\phi^{-}_{1}}{2} + \\frac{\\left(i \\delta_L^{0i} + \\delta_L^{0r}\\right) \\left(i \\phi_2^{0i} + \\phi_2^{0r}\\right)}{2}\\right)}{2}\\right)}{2}\\right) + \\beta_{2} \\left(- \\frac{\\sqrt{2} \\delta^{-}_{L} \\left(- \\phi^{-}_{1} \\left(\\frac{\\sqrt{2} \\delta^{+}_{R} \\phi^{-}_{2}}{2} + \\frac{\\left(i \\delta_R^{0i} + \\delta_R^{0r}\\right) \\left(i \\phi_2^{0i} + \\phi_2^{0r}\\right)}{2}\\right) + \\frac{\\sqrt{2} \\left(i \\phi_1^{0i} + \\phi_1^{0r}\\right) \\left(- \\frac{\\delta^{+}_{R} \\left(i \\phi_2^{0i} + \\phi_2^{0r}\\right)}{2} + \\delta_R^{++} \\phi^{-}_{2}\\right)}{2}\\right)}{2} + \\frac{\\sqrt{2} \\delta^{-}_{L} \\left(- \\phi^{+}_{2} \\left(- \\frac{\\sqrt{2} \\delta^{+}_{R} \\phi^{+}_{1}}{2} + \\frac{\\sqrt{2} \\delta_R^{++} \\left(i \\phi_1^{0i} + \\phi_1^{0r}\\right)}{2}\\right) + \\frac{\\sqrt{2} \\left(i \\phi_2^{0i} + \\phi_2^{0r}\\right) \\left(\\frac{\\delta^{+}_{R} \\left(i \\phi_1^{0i} + \\phi_1^{0r}\\right)}{2} + \\frac{\\sqrt{2} \\phi^{+}_{1} \\left(i \\delta_R^{0i} + \\delta_R^{0r}\\right)}{2}\\right)}{2}\\right)}{2} + \\delta_L^{--} \\left(- \\phi^{-}_{1} \\left(\\frac{\\delta^{+}_{R} \\left(i \\phi_1^{0i} + \\phi_1^{0r}\\right)}{2} + \\frac{\\sqrt{2} \\phi^{+}_{1} \\left(i \\delta_R^{0i} + \\delta_R^{0r}\\right)}{2}\\right) + \\frac{\\sqrt{2} \\left(i \\phi_1^{0i} + \\phi_1^{0r}\\right) \\left(- \\frac{\\sqrt{2} \\delta^{+}_{R} \\phi^{+}_{1}}{2} + \\frac{\\sqrt{2} \\delta_R^{++} \\left(i \\phi_1^{0i} + \\phi_1^{0r}\\right)}{2}\\right)}{2}\\right) + \\frac{\\sqrt{2} \\delta^{-}_{R} \\left(- \\phi^{+}_{1} \\left(- \\frac{\\sqrt{2} \\delta^{+}_{L} \\phi^{+}_{2}}{2} + \\frac{\\sqrt{2} \\delta_L^{++} \\left(i \\phi_1^{0i} + \\phi_1^{0r}\\right)}{2}\\right) + \\frac{\\sqrt{2} \\left(i \\phi_2^{0i} + \\phi_2^{0r}\\right) \\left(\\frac{\\delta^{+}_{L} \\left(i \\phi_1^{0i} + \\phi_1^{0r}\\right)}{2} + \\frac{\\sqrt{2} \\phi^{+}_{2} \\left(i \\delta_L^{0i} + \\delta_L^{0r}\\right)}{2}\\right)}{2}\\right)}{2} - \\frac{\\sqrt{2} \\delta^{-}_{R} \\left(- \\phi^{-}_{2} \\left(\\frac{\\sqrt{2} \\delta^{+}_{L} \\phi^{-}_{1}}{2} + \\frac{\\left(i \\delta_L^{0i} + \\delta_L^{0r}\\right) \\left(i \\phi_2^{0i} + \\phi_2^{0r}\\right)}{2}\\right) + \\frac{\\sqrt{2} \\left(i \\phi_1^{0i} + \\phi_1^{0r}\\right) \\left(- \\frac{\\delta^{+}_{L} \\left(i \\phi_2^{0i} + \\phi_2^{0r}\\right)}{2} + \\delta_L^{++} \\phi^{-}_{1}\\right)}{2}\\right)}{2} + \\delta_R^{--} \\left(- \\phi^{-}_{2} \\left(\\frac{\\delta^{+}_{L} \\left(i \\phi_1^{0i} + \\phi_1^{0r}\\right)}{2} + \\frac{\\sqrt{2} \\phi^{+}_{2} \\left(i \\delta_L^{0i} + \\delta_L^{0r}\\right)}{2}\\right) + \\frac{\\sqrt{2} \\left(i \\phi_1^{0i} + \\phi_1^{0r}\\right) \\left(- \\frac{\\sqrt{2} \\delta^{+}_{L} \\phi^{+}_{2}}{2} + \\frac{\\sqrt{2} \\delta_L^{++} \\left(i \\phi_1^{0i} + \\phi_1^{0r}\\right)}{2}\\right)}{2}\\right) + \\frac{\\sqrt{2} \\left(i \\delta_L^{0i} + \\delta_L^{0r}\\right) \\left(- \\phi^{+}_{2} \\left(- \\frac{\\delta^{+}_{R} \\left(i \\phi_2^{0i} + \\phi_2^{0r}\\right)}{2} + \\delta_R^{++} \\phi^{-}_{2}\\right) + \\frac{\\sqrt{2} \\left(i \\phi_2^{0i} + \\phi_2^{0r}\\right) \\left(\\frac{\\sqrt{2} \\delta^{+}_{R} \\phi^{-}_{2}}{2} + \\frac{\\left(i \\delta_R^{0i} + \\delta_R^{0r}\\right) \\left(i \\phi_2^{0i} + \\phi_2^{0r}\\right)}{2}\\right)}{2}\\right)}{2} + \\frac{\\sqrt{2} \\left(i \\delta_R^{0i} + \\delta_R^{0r}\\right) \\left(- \\phi^{+}_{1} \\left(- \\frac{\\delta^{+}_{L} \\left(i \\phi_2^{0i} + \\phi_2^{0r}\\right)}{2} + \\delta_L^{++} \\phi^{-}_{1}\\right) + \\frac{\\sqrt{2} \\left(i \\phi_2^{0i} + \\phi_2^{0r}\\right) \\left(\\frac{\\sqrt{2} \\delta^{+}_{L} \\phi^{-}_{1}}{2} + \\frac{\\left(i \\delta_L^{0i} + \\delta_L^{0r}\\right) \\left(i \\phi_2^{0i} + \\phi_2^{0r}\\right)}{2}\\right)}{2}\\right)}{2}\\right) + \\beta_{2} \\left(\\frac{\\sqrt{2} \\delta^{-}_{L} \\left(\\phi^{-}_{1} \\left(\\frac{\\sqrt{2} \\delta^{+}_{R} \\phi^{-}_{2}}{2} + \\frac{\\sqrt{2} \\delta_R^{++} \\left(i \\phi_2^{0i} + \\phi_2^{0r}\\right)}{2}\\right) + \\frac{\\sqrt{2} \\left(i \\phi_1^{0i} + \\phi_1^{0r}\\right) \\left(\\frac{\\delta^{+}_{R} \\left(i \\phi_2^{0i} + \\phi_2^{0r}\\right)}{2} - \\frac{\\sqrt{2} \\phi^{-}_{2} \\left(i \\delta_R^{0i} + \\delta_R^{0r}\\right)}{2}\\right)}{2}\\right)}{2} - \\frac{\\sqrt{2} \\delta^{-}_{L} \\left(\\phi^{+}_{2} \\left(- \\frac{\\sqrt{2} \\delta^{+}_{R} \\phi^{+}_{1}}{2} + \\frac{\\left(i \\delta_R^{0i} + \\delta_R^{0r}\\right) \\left(i \\phi_1^{0i} + \\phi_1^{0r}\\right)}{2}\\right) + \\frac{\\sqrt{2} \\left(i \\phi_2^{0i} + \\phi_2^{0r}\\right) \\left(- \\frac{\\delta^{+}_{R} \\left(i \\phi_1^{0i} + \\phi_1^{0r}\\right)}{2} - \\delta_R^{++} \\phi^{+}_{1}\\right)}{2}\\right)}{2} + \\delta_L^{--} \\left(\\phi^{+}_{2} \\left(\\frac{\\delta^{+}_{R} \\left(i \\phi_2^{0i} + \\phi_2^{0r}\\right)}{2} - \\frac{\\sqrt{2} \\phi^{-}_{2} \\left(i \\delta_R^{0i} + \\delta_R^{0r}\\right)}{2}\\right) + \\frac{\\sqrt{2} \\left(i \\phi_2^{0i} + \\phi_2^{0r}\\right) \\left(\\frac{\\sqrt{2} \\delta^{+}_{R} \\phi^{-}_{2}}{2} + \\frac{\\sqrt{2} \\delta_R^{++} \\left(i \\phi_2^{0i} + \\phi_2^{0r}\\right)}{2}\\right)}{2}\\right) - \\frac{\\sqrt{2} \\delta^{-}_{R} \\left(\\phi^{+}_{1} \\left(- \\frac{\\sqrt{2} \\delta^{+}_{L} \\phi^{+}_{2}}{2} + \\frac{\\left(i \\delta_L^{0i} + \\delta_L^{0r}\\right) \\left(i \\phi_1^{0i} + \\phi_1^{0r}\\right)}{2}\\right) + \\frac{\\sqrt{2} \\left(i \\phi_2^{0i} + \\phi_2^{0r}\\right) \\left(- \\frac{\\delta^{+}_{L} \\left(i \\phi_1^{0i} + \\phi_1^{0r}\\right)}{2} - \\delta_L^{++} \\phi^{+}_{2}\\right)}{2}\\right)}{2} + \\frac{\\sqrt{2} \\delta^{-}_{R} \\left(\\phi^{-}_{2} \\left(\\frac{\\sqrt{2} \\delta^{+}_{L} \\phi^{-}_{1}}{2} + \\frac{\\sqrt{2} \\delta_L^{++} \\left(i \\phi_2^{0i} + \\phi_2^{0r}\\right)}{2}\\right) + \\frac{\\sqrt{2} \\left(i \\phi_1^{0i} + \\phi_1^{0r}\\right) \\left(\\frac{\\delta^{+}_{L} \\left(i \\phi_2^{0i} + \\phi_2^{0r}\\right)}{2} - \\frac{\\sqrt{2} \\phi^{-}_{1} \\left(i \\delta_L^{0i} + \\delta_L^{0r}\\right)}{2}\\right)}{2}\\right)}{2} + \\delta_R^{--} \\left(\\phi^{+}_{1} \\left(\\frac{\\delta^{+}_{L} \\left(i \\phi_2^{0i} + \\phi_2^{0r}\\right)}{2} - \\frac{\\sqrt{2} \\phi^{-}_{1} \\left(i \\delta_L^{0i} + \\delta_L^{0r}\\right)}{2}\\right) + \\frac{\\sqrt{2} \\left(i \\phi_2^{0i} + \\phi_2^{0r}\\right) \\left(\\frac{\\sqrt{2} \\delta^{+}_{L} \\phi^{-}_{1}}{2} + \\frac{\\sqrt{2} \\delta_L^{++} \\left(i \\phi_2^{0i} + \\phi_2^{0r}\\right)}{2}\\right)}{2}\\right) + \\frac{\\sqrt{2} \\left(i \\delta_L^{0i} + \\delta_L^{0r}\\right) \\left(\\phi^{-}_{1} \\left(- \\frac{\\delta^{+}_{R} \\left(i \\phi_1^{0i} + \\phi_1^{0r}\\right)}{2} - \\delta_R^{++} \\phi^{+}_{1}\\right) + \\frac{\\sqrt{2} \\left(i \\phi_1^{0i} + \\phi_1^{0r}\\right) \\left(- \\frac{\\sqrt{2} \\delta^{+}_{R} \\phi^{+}_{1}}{2} + \\frac{\\left(i \\delta_R^{0i} + \\delta_R^{0r}\\right) \\left(i \\phi_1^{0i} + \\phi_1^{0r}\\right)}{2}\\right)}{2}\\right)}{2} + \\frac{\\sqrt{2} \\left(i \\delta_R^{0i} + \\delta_R^{0r}\\right) \\left(\\phi^{-}_{2} \\left(- \\frac{\\delta^{+}_{L} \\left(i \\phi_1^{0i} + \\phi_1^{0r}\\right)}{2} - \\delta_L^{++} \\phi^{+}_{2}\\right) + \\frac{\\sqrt{2} \\left(i \\phi_1^{0i} + \\phi_1^{0r}\\right) \\left(- \\frac{\\sqrt{2} \\delta^{+}_{L} \\phi^{+}_{2}}{2} + \\frac{\\left(i \\delta_L^{0i} + \\delta_L^{0r}\\right) \\left(i \\phi_1^{0i} + \\phi_1^{0r}\\right)}{2}\\right)}{2}\\right)}{2}\\right) - \\left(\\alpha_{1} v_{R}^{2} + k_{1}^{2} \\cdot \\left(2 \\lambda_{1} + \\sqrt{2} \\lambda_{4}\\right)\\right) \\left(\\phi^{+}_{1} \\phi^{-}_{1} + \\phi^{+}_{2} \\phi^{-}_{2} + \\frac{\\left(i \\phi_1^{0i} + \\phi_1^{0r}\\right)^{2}}{2} + \\frac{\\left(i \\phi_2^{0i} + \\phi_2^{0r}\\right)^{2}}{2}\\right) - \\left(\\alpha_{2} v_{R}^{2} + \\frac{k_{1}^{2} \\left(\\sqrt{2} \\lambda_{1} + 8 \\sqrt{2} \\lambda_{2} + 4 \\sqrt{2} \\lambda_{3} + 8 \\lambda_{4}\\right)}{4}\\right) \\left(- 2 \\phi^{+}_{1} \\phi^{+}_{2} - 2 \\phi^{-}_{1} \\phi^{-}_{2} + 2 \\left(i \\phi_1^{0i} + \\phi_1^{0r}\\right) \\left(i \\phi_2^{0i} + \\phi_2^{0r}\\right)\\right) - \\left(\\rho_{3} \\left(v_{L}^{2} + v_{R}^{2}\\right) + \\frac{k_{1}^{2} \\cdot \\left(2 \\alpha_{1} v_{L} v_{R} + 4 \\alpha_{2} v_{L} v_{R} + \\sqrt{2} \\beta_{1} v_{L}^{2} + \\sqrt{2} \\beta_{1} v_{R}^{2} + 2 \\sqrt{2} \\beta_{2} v_{L}^{2} + 2 \\sqrt{2} \\beta_{2} v_{R}^{2}\\right)}{v_{L} v_{R}}\\right) \\left(\\delta^{+}_{L} \\delta^{-}_{L} + \\delta_L^{++} \\delta_L^{--} + \\delta^{+}_{R} \\delta^{-}_{R} + \\delta_R^{++} \\delta_R^{--} + \\frac{\\left(i \\delta_L^{0i} + \\delta_L^{0r}\\right)^{2}}{2} + \\frac{\\left(i \\delta_R^{0i} + \\delta_R^{0r}\\right)^{2}}{2}\\right)$"
      ],
      "text/plain": [
       "                                                                              \n",
       "                                                                              \n",
       "                                                                              \n",
       "        ⎛                                                               2     \n",
       "        ⎜                                (ⅈ⋅\\phi_1__{0i} + \\phi_1__{0r})    (ⅈ\n",
       "\\alpha₁⋅⎜\\phi⁺₁⋅\\phi⁻₁ + \\phi⁺₂⋅\\phi⁻₂ + ──────────────────────────────── + ──\n",
       "        ⎝                                               2                     \n",
       "\n",
       "                                                                              \n",
       "                                                                              \n",
       "                                                                              \n",
       "                             2⎞ ⎛                                             \n",
       "⋅\\phi_2__{0i} + \\phi_2__{0r}) ⎟ ⎜                                             \n",
       "──────────────────────────────⎟⋅⎜\\delta_L__+⋅\\delta_L__- + \\delta_L__{++}⋅\\del\n",
       "             2                ⎠ ⎝                                             \n",
       "\n",
       "                                                                              \n",
       "                                                                              \n",
       "                                                                              \n",
       "                                                                              \n",
       "                                                                       (ⅈ⋅\\del\n",
       "ta_L__{--} + \\delta_R__+⋅\\delta_R__- + \\delta_R__{++}⋅\\delta_R__{--} + ───────\n",
       "                                                                              \n",
       "\n",
       "                                                                              \n",
       "                                                                              \n",
       "                                                                              \n",
       "                            2                                      2⎞         \n",
       "ta_L__{0i} + \\delta_L__{0r})    (ⅈ⋅\\delta_R__{0i} + \\delta_R__{0r}) ⎟         \n",
       "───────────────────────────── + ────────────────────────────────────⎟ + \\alpha\n",
       "          2                                      2                  ⎠         \n",
       "\n",
       "                                                                              \n",
       "                                                                              \n",
       "                                                                              \n",
       "  ⎛  ⎛                                                                        \n",
       "  ⎜  ⎜                                                          (ⅈ⋅\\delta_L__{\n",
       "₂⋅⎜2⋅⎜\\delta_L__+⋅\\delta_L__- + \\delta_L__{++}⋅\\delta_L__{--} + ──────────────\n",
       "  ⎝  ⎝                                                                        \n",
       "\n",
       "                                                                              \n",
       "                                                                              \n",
       "                                                                              \n",
       "                     2⎞                                                       \n",
       "0i} + \\delta_L__{0r}) ⎟                                                       \n",
       "──────────────────────⎟⋅(-\\phi⁺₁⋅\\phi⁺₂ - \\phi⁻₁⋅\\phi⁻₂ + (ⅈ⋅\\phi_1__{0i} + \\p\n",
       "   2                  ⎠                                                       \n",
       "\n",
       "                                                                              \n",
       "                                                                              \n",
       "                                                                              \n",
       "                                                 ⎛                            \n",
       "                                                 ⎜                            \n",
       "hi_1__{0r})⋅(ⅈ⋅\\phi_2__{0i} + \\phi_2__{0r})) + 2⋅⎜\\delta_R__+⋅\\delta_R__- + \\d\n",
       "                                                 ⎝                            \n",
       "\n",
       "                                                                              \n",
       "                                                                              \n",
       "                                                                              \n",
       "                                                                 2⎞           \n",
       "                              (ⅈ⋅\\delta_R__{0i} + \\delta_R__{0r}) ⎟           \n",
       "elta_R__{++}⋅\\delta_R__{--} + ────────────────────────────────────⎟⋅(-\\phi⁺₁⋅\\\n",
       "                                               2                  ⎠           \n",
       "\n",
       "                                                                              \n",
       "                                                                              \n",
       "                                                                              \n",
       "                                                                              \n",
       "                                                                              \n",
       "phi⁺₂ - \\phi⁻₁⋅\\phi⁻₂ + (ⅈ⋅\\phi_1__{0i} + \\phi_1__{0r})⋅(ⅈ⋅\\phi_2__{0i} + \\phi\n",
       "                                                                              \n",
       "\n",
       "                                                                              \n",
       "                                                                              \n",
       "                                                                              \n",
       "          ⎞            ⎛                                                      \n",
       "          ⎟            ⎜                                (ⅈ⋅\\phi_1__{0i} + \\phi\n",
       "_2__{0r}))⎟ + \\lambda₁⋅⎜\\phi⁺₁⋅\\phi⁻₁ + \\phi⁺₂⋅\\phi⁻₂ + ──────────────────────\n",
       "          ⎠            ⎝                                               2      \n",
       "\n",
       "                                                                              \n",
       "                                                                              \n",
       "                                              2                               \n",
       "         2                                  2⎞                                \n",
       "_1__{0r})    (ⅈ⋅\\phi_2__{0i} + \\phi_2__{0r}) ⎟                                \n",
       "────────── + ────────────────────────────────⎟  + 2⋅\\lambda₂⋅(-\\phi⁺₁⋅\\phi⁺₂ -\n",
       "                            2                ⎠                                \n",
       "\n",
       "                                                                              \n",
       "                                                                              \n",
       "                                                                              \n",
       "                                                                              \n",
       "                                                                              \n",
       " \\phi⁻₁⋅\\phi⁻₂ + (ⅈ⋅\\phi_1__{0i} + \\phi_1__{0r})⋅(ⅈ⋅\\phi_2__{0i} + \\phi_2__{0r\n",
       "                                                                              \n",
       "\n",
       "                                                                              \n",
       "                                                                              \n",
       "                                                                              \n",
       "                                                                              \n",
       "   2                                                                          \n",
       "}))  + \\lambda₃⋅(-\\phi⁺₁⋅\\phi⁺₂ - \\phi⁻₁⋅\\phi⁻₂ + (ⅈ⋅\\phi_1__{0i} + \\phi_1__{0\n",
       "                                                                              \n",
       "\n",
       "                                                                              \n",
       "                                                                              \n",
       "                                                                              \n",
       "                                                                              \n",
       "                                    2                                         \n",
       "r})⋅(ⅈ⋅\\phi_2__{0i} + \\phi_2__{0r}))  + \\lambda₄⋅(-2⋅\\phi⁺₁⋅\\phi⁺₂ - 2⋅\\phi⁻₁⋅\n",
       "                                                                              \n",
       "\n",
       "                                                                              \n",
       "                                                                              \n",
       "                                                                              \n",
       "                                                                            ⎛ \n",
       "                                                                            ⎜ \n",
       "\\phi⁻₂ + 2⋅(ⅈ⋅\\phi_1__{0i} + \\phi_1__{0r})⋅(ⅈ⋅\\phi_2__{0i} + \\phi_2__{0r}))⋅⎜\\\n",
       "                                                                            ⎝ \n",
       "\n",
       "                                                                              \n",
       "                                                                              \n",
       "                                                                              \n",
       "                                                              2               \n",
       "                               (ⅈ⋅\\phi_1__{0i} + \\phi_1__{0r})    (ⅈ⋅\\phi_2__{\n",
       "phi⁺₁⋅\\phi⁻₁ + \\phi⁺₂⋅\\phi⁻₂ + ──────────────────────────────── + ────────────\n",
       "                                              2                               \n",
       "\n",
       "                                                                              \n",
       "                                                                              \n",
       "                              ⎛                                               \n",
       "                   2⎞         ⎜⎛                                              \n",
       "0i} + \\phi_2__{0r}) ⎟         ⎜⎜                                              \n",
       "────────────────────⎟ + \\rho₁⋅⎜⎜\\delta_L__+⋅\\delta_L__- + \\delta_L__{++}⋅\\delt\n",
       "   2                ⎠         ⎝⎝                                              \n",
       "\n",
       "                                                                              \n",
       "                                                                              \n",
       "                                                 2                            \n",
       "                                               2⎞    ⎛                        \n",
       "            (ⅈ⋅\\delta_L__{0i} + \\delta_L__{0r}) ⎟    ⎜                        \n",
       "a_L__{--} + ────────────────────────────────────⎟  + ⎜\\delta_R__+⋅\\delta_R__- \n",
       "                             2                  ⎠    ⎝                        \n",
       "\n",
       "                                                                              \n",
       "                                                                              \n",
       "                                                                       2⎞     \n",
       "                                                                     2⎞ ⎟     \n",
       "                                  (ⅈ⋅\\delta_R__{0i} + \\delta_R__{0r}) ⎟ ⎟     \n",
       "+ \\delta_R__{++}⋅\\delta_R__{--} + ────────────────────────────────────⎟ ⎟ + \\r\n",
       "                                                   2                  ⎠ ⎠     \n",
       "\n",
       "                                                                              \n",
       "                                                                              \n",
       "                                                                              \n",
       "                                                                              \n",
       "    ⎛⎛           2                                                        ⎞ ⎛ \n",
       "ho₂⋅⎝⎝\\delta_L__+  + √2⋅\\delta_L__{++}⋅(ⅈ⋅\\delta_L__{0i} + \\delta_L__{0r})⎠⋅⎝\\\n",
       "                                                                              \n",
       "\n",
       "                                                                              \n",
       "                                                                              \n",
       "                                                                              \n",
       "                                                                              \n",
       "          2                                                        ⎞   ⎛      \n",
       "delta_L__-  + √2⋅\\delta_L__{--}⋅(ⅈ⋅\\delta_L__{0i} + \\delta_L__{0r})⎠ + ⎝\\delta\n",
       "                                                                              \n",
       "\n",
       "                                                                              \n",
       "                                                                              \n",
       "                                                                              \n",
       "                                                                              \n",
       "     2                                                        ⎞ ⎛           2 \n",
       "_R__+  + √2⋅\\delta_R__{++}⋅(ⅈ⋅\\delta_R__{0i} + \\delta_R__{0r})⎠⋅⎝\\delta_R__-  \n",
       "                                                                              \n",
       "\n",
       "                                                                              \n",
       "                                                                              \n",
       "                                                                              \n",
       "                                                                  ⎛           \n",
       "                                                       ⎞⎞         ⎜           \n",
       "+ √2⋅\\delta_R__{--}⋅(ⅈ⋅\\delta_R__{0i} + \\delta_R__{0r})⎠⎠ + \\rho₃⋅⎜\\delta_L__+\n",
       "                                                                  ⎝           \n",
       "\n",
       "                                                                              \n",
       "                                                                              \n",
       "                                                                              \n",
       "                                                                              \n",
       "                                               (ⅈ⋅\\delta_L__{0i} + \\delta_L__{\n",
       "⋅\\delta_L__- + \\delta_L__{++}⋅\\delta_L__{--} + ───────────────────────────────\n",
       "                                                                2             \n",
       "\n",
       "                                                                              \n",
       "                                                                              \n",
       "                                                                              \n",
       "    2⎞ ⎛                                                                      \n",
       "0r}) ⎟ ⎜                                                          (ⅈ⋅\\delta_R_\n",
       "─────⎟⋅⎜\\delta_R__+⋅\\delta_R__- + \\delta_R__{++}⋅\\delta_R__{--} + ────────────\n",
       "     ⎠ ⎝                                                                      \n",
       "\n",
       "                                                                              \n",
       "                                                                              \n",
       "                                                                              \n",
       "                       2⎞                                                     \n",
       "_{0i} + \\delta_R__{0r}) ⎟         ⎛⎛           2                              \n",
       "────────────────────────⎟ + \\rho₄⋅⎝⎝\\delta_L__+  + √2⋅\\delta_L__{++}⋅(ⅈ⋅\\delta\n",
       "     2                  ⎠                                                     \n",
       "\n",
       "                                                                              \n",
       "                                                                              \n",
       "                                                                              \n",
       "                                                                              \n",
       "                          ⎞ ⎛           2                                     \n",
       "_L__{0i} + \\delta_L__{0r})⎠⋅⎝\\delta_R__-  + √2⋅\\delta_R__{--}⋅(ⅈ⋅\\delta_R__{0i\n",
       "                                                                              \n",
       "\n",
       "                                                                              \n",
       "                                                                              \n",
       "                                                                              \n",
       "                                                                              \n",
       "                   ⎞   ⎛           2                                          \n",
       "} + \\delta_R__{0r})⎠ + ⎝\\delta_L__-  + √2⋅\\delta_L__{--}⋅(ⅈ⋅\\delta_L__{0i} + \\\n",
       "                                                                              \n",
       "\n",
       "                                                                              \n",
       "                                                                              \n",
       "                                                                              \n",
       "                                                                              \n",
       "              ⎞ ⎛           2                                                 \n",
       "delta_L__{0r})⎠⋅⎝\\delta_R__+  + √2⋅\\delta_R__{++}⋅(ⅈ⋅\\delta_R__{0i} + \\delta_R\n",
       "                                                                              \n",
       "\n",
       "               ⎛               ⎛                                              \n",
       "               ⎜               ⎜                                              \n",
       "               ⎜               ⎜       ⎛  √2⋅\\delta_R__+⋅\\phi⁺₁   √2⋅\\delta_R_\n",
       "               ⎜√2⋅\\delta_L__-⋅⎜\\phi⁻₁⋅⎜- ───────────────────── + ────────────\n",
       "       ⎞⎞      ⎜               ⎝       ⎝            2                         \n",
       "__{0r})⎠⎠ + β₁⋅⎜──────────────────────────────────────────────────────────────\n",
       "               ⎝                                                              \n",
       "\n",
       "                                                                            ⎛\\\n",
       "                                         √2⋅(ⅈ⋅\\phi_1__{0i} + \\phi_1__{0r})⋅⎜─\n",
       "_{++}⋅(ⅈ⋅\\phi_1__{0i} + \\phi_1__{0r})⎞                                      ⎝ \n",
       "─────────────────────────────────────⎟ + ─────────────────────────────────────\n",
       "            2                        ⎠                                        \n",
       "──────────────────────────────────────────────────────────────────────────────\n",
       "                                                     2                        \n",
       "\n",
       "delta_R__+⋅(ⅈ⋅\\phi_1__{0i} + \\phi_1__{0r})   √2⋅\\phi⁺₁⋅(ⅈ⋅\\delta_R__{0i} + \\de\n",
       "────────────────────────────────────────── + ─────────────────────────────────\n",
       "                    2                                              2          \n",
       "──────────────────────────────────────────────────────────────────────────────\n",
       "                          2                                                   \n",
       "──────────────────────────────────────────────────────────────────────────────\n",
       "                                                                              \n",
       "\n",
       "lta_R__{0r})⎞⎞                  ⎛                                             \n",
       "────────────⎟⎟                  ⎜                                             \n",
       "            ⎠⎟                  ⎜       ⎛√2⋅\\delta_R__+⋅\\phi⁻₂   (ⅈ⋅\\delta_R__\n",
       "─────────────⎟   √2⋅\\delta_L__-⋅⎜\\phi⁺₂⋅⎜───────────────────── + ─────────────\n",
       "             ⎠                  ⎝       ⎝          2                          \n",
       "────────────── - ─────────────────────────────────────────────────────────────\n",
       "                                                                              \n",
       "\n",
       "                                                                              \n",
       "                                                          √2⋅(ⅈ⋅\\phi_2__{0i} +\n",
       "{0i} + \\delta_R__{0r})⋅(ⅈ⋅\\phi_2__{0i} + \\phi_2__{0r})⎞                       \n",
       "──────────────────────────────────────────────────────⎟ + ────────────────────\n",
       "                    2                                 ⎠                       \n",
       "──────────────────────────────────────────────────────────────────────────────\n",
       "                                                   2                          \n",
       "\n",
       "               ⎛  \\delta_R__+⋅(ⅈ⋅\\phi_2__{0i} + \\phi_2__{0r})                 \n",
       " \\phi_2__{0r})⋅⎜- ─────────────────────────────────────────── + \\delta_R__{++}\n",
       "               ⎝                       2                                      \n",
       "──────────────────────────────────────────────────────────────────────────────\n",
       "                                2                                             \n",
       "──────────────────────────────────────────────────────────────────────────────\n",
       "                                                                              \n",
       "\n",
       "       ⎞⎞                                                                     \n",
       "⋅\\phi⁻₂⎟⎟                                                                     \n",
       "       ⎠⎟                  ⎛                                                  \n",
       "────────⎟                  ⎜                                                  \n",
       "        ⎠                  ⎜       ⎛\\delta_R__+⋅(ⅈ⋅\\phi_1__{0i} + \\phi_1__{0r}\n",
       "───────── + \\delta_L__{--}⋅⎜\\phi⁺₂⋅⎜──────────────────────────────────────────\n",
       "                           ⎝       ⎝                     2                    \n",
       "\n",
       "                                                                              \n",
       "                                                                              \n",
       "                                                                              \n",
       "                                                     √2⋅(ⅈ⋅\\phi_2__{0i} + \\phi\n",
       ")   √2⋅\\phi⁺₁⋅(ⅈ⋅\\delta_R__{0i} + \\delta_R__{0r})⎞                            \n",
       "─ + ─────────────────────────────────────────────⎟ + ─────────────────────────\n",
       "                          2                      ⎠                            \n",
       "\n",
       "                                                                              \n",
       "                                                                              \n",
       "          ⎛  √2⋅\\delta_R__+⋅\\phi⁺₁   √2⋅\\delta_R__{++}⋅(ⅈ⋅\\phi_1__{0i} + \\phi_\n",
       "_2__{0r})⋅⎜- ───────────────────── + ─────────────────────────────────────────\n",
       "          ⎝            2                                     2                \n",
       "──────────────────────────────────────────────────────────────────────────────\n",
       "                              2                                               \n",
       "\n",
       "                            ⎛                                                 \n",
       "                            ⎜                                                 \n",
       "1__{0r})⎞⎞                  ⎜       ⎛√2⋅\\delta_L__+⋅\\phi⁻₁   (ⅈ⋅\\delta_L__{0i}\n",
       "────────⎟⎟   √2⋅\\delta_R__-⋅⎜\\phi⁺₁⋅⎜───────────────────── + ─────────────────\n",
       "        ⎠⎟                  ⎝       ⎝          2                              \n",
       "─────────⎟ - ─────────────────────────────────────────────────────────────────\n",
       "         ⎠                                                                    \n",
       "\n",
       "                                                                              \n",
       "                                                      √2⋅(ⅈ⋅\\phi_2__{0i} + \\ph\n",
       " + \\delta_L__{0r})⋅(ⅈ⋅\\phi_2__{0i} + \\phi_2__{0r})⎞                           \n",
       "──────────────────────────────────────────────────⎟ + ────────────────────────\n",
       "                2                                 ⎠                           \n",
       "──────────────────────────────────────────────────────────────────────────────\n",
       "                                               2                              \n",
       "\n",
       "           ⎛  \\delta_L__+⋅(ⅈ⋅\\phi_2__{0i} + \\phi_2__{0r})                     \n",
       "i_2__{0r})⋅⎜- ─────────────────────────────────────────── + \\delta_L__{++}⋅\\ph\n",
       "           ⎝                       2                                          \n",
       "──────────────────────────────────────────────────────────────────────────────\n",
       "                            2                                                 \n",
       "──────────────────────────────────────────────────────────────────────────────\n",
       "                                                                              \n",
       "\n",
       "   ⎞⎞                  ⎛                                                      \n",
       "i⁻₁⎟⎟                  ⎜                                                      \n",
       "   ⎠⎟                  ⎜       ⎛  √2⋅\\delta_L__+⋅\\phi⁺₂   √2⋅\\delta_L__{++}⋅(ⅈ\n",
       "────⎟   √2⋅\\delta_R__-⋅⎜\\phi⁻₂⋅⎜- ───────────────────── + ────────────────────\n",
       "    ⎠                  ⎝       ⎝            2                                 \n",
       "───── + ──────────────────────────────────────────────────────────────────────\n",
       "                                                                              \n",
       "\n",
       "                                                                    ⎛\\delta_L_\n",
       "                                 √2⋅(ⅈ⋅\\phi_1__{0i} + \\phi_1__{0r})⋅⎜─────────\n",
       "⋅\\phi_1__{0i} + \\phi_1__{0r})⎞                                      ⎝         \n",
       "─────────────────────────────⎟ + ─────────────────────────────────────────────\n",
       "    2                        ⎠                                                \n",
       "──────────────────────────────────────────────────────────────────────────────\n",
       "                                             2                                \n",
       "\n",
       "_+⋅(ⅈ⋅\\phi_1__{0i} + \\phi_1__{0r})   √2⋅\\phi⁺₂⋅(ⅈ⋅\\delta_L__{0i} + \\delta_L__{\n",
       "────────────────────────────────── + ─────────────────────────────────────────\n",
       "            2                                              2                  \n",
       "──────────────────────────────────────────────────────────────────────────────\n",
       "                  2                                                           \n",
       "──────────────────────────────────────────────────────────────────────────────\n",
       "                                                                              \n",
       "\n",
       "0r})⎞⎞                                                                        \n",
       "────⎟⎟                                                                        \n",
       "    ⎠⎟                  ⎛                                                     \n",
       "─────⎟                  ⎜                                                     \n",
       "     ⎠                  ⎜       ⎛\\delta_L__+⋅(ⅈ⋅\\phi_1__{0i} + \\phi_1__{0r})  \n",
       "────── + \\delta_R__{--}⋅⎜\\phi⁺₁⋅⎜─────────────────────────────────────────── +\n",
       "                        ⎝       ⎝                     2                       \n",
       "\n",
       "                                                                              \n",
       "                                                                              \n",
       "                                                                              \n",
       "                                                  √2⋅(ⅈ⋅\\phi_2__{0i} + \\phi_2_\n",
       " √2⋅\\phi⁺₂⋅(ⅈ⋅\\delta_L__{0i} + \\delta_L__{0r})⎞                               \n",
       " ─────────────────────────────────────────────⎟ + ────────────────────────────\n",
       "                       2                      ⎠                               \n",
       "\n",
       "                                                                              \n",
       "                                                                              \n",
       "       ⎛  √2⋅\\delta_L__+⋅\\phi⁺₂   √2⋅\\delta_L__{++}⋅(ⅈ⋅\\phi_1__{0i} + \\phi_1__\n",
       "_{0r})⋅⎜- ───────────────────── + ────────────────────────────────────────────\n",
       "       ⎝            2                                     2                   \n",
       "──────────────────────────────────────────────────────────────────────────────\n",
       "                           2                                                  \n",
       "\n",
       "                                                 ⎛                            \n",
       "                                                 ⎜                            \n",
       "{0r})⎞⎞                                          ⎜       ⎛  \\delta_R__+⋅(ⅈ⋅\\ph\n",
       "─────⎟⎟   √2⋅(ⅈ⋅\\delta_L__{0i} + \\delta_L__{0r})⋅⎜\\phi⁻₁⋅⎜- ──────────────────\n",
       "     ⎠⎟                                          ⎝       ⎝                    \n",
       "──────⎟ + ────────────────────────────────────────────────────────────────────\n",
       "      ⎠                                                                       \n",
       "\n",
       "                                                                              \n",
       "                                                     √2⋅(ⅈ⋅\\phi_1__{0i} + \\phi\n",
       "i_2__{0i} + \\phi_2__{0r})                        ⎞                            \n",
       "───────────────────────── + \\delta_R__{++}⋅\\phi⁻₂⎟ + ─────────────────────────\n",
       "   2                                             ⎠                            \n",
       "──────────────────────────────────────────────────────────────────────────────\n",
       "                                                        2                     \n",
       "\n",
       "          ⎛√2⋅\\delta_R__+⋅\\phi⁻₂   (ⅈ⋅\\delta_R__{0i} + \\delta_R__{0r})⋅(ⅈ⋅\\phi\n",
       "_1__{0r})⋅⎜───────────────────── + ───────────────────────────────────────────\n",
       "          ⎝          2                                              2         \n",
       "──────────────────────────────────────────────────────────────────────────────\n",
       "                                      2                                       \n",
       "──────────────────────────────────────────────────────────────────────────────\n",
       "                                                                              \n",
       "\n",
       "_2__{0i} + \\phi_2__{0r})⎞⎞                                          ⎛         \n",
       "────────────────────────⎟⎟                                          ⎜         \n",
       "                        ⎠⎟                                          ⎜       ⎛ \n",
       "─────────────────────────⎟   √2⋅(ⅈ⋅\\delta_R__{0i} + \\delta_R__{0r})⋅⎜\\phi⁻₂⋅⎜-\n",
       "                         ⎠                                          ⎝       ⎝ \n",
       "────────────────────────── + ─────────────────────────────────────────────────\n",
       "                                                                              \n",
       "\n",
       "                                                                              \n",
       "                                                                        √2⋅(ⅈ⋅\n",
       " \\delta_L__+⋅(ⅈ⋅\\phi_2__{0i} + \\phi_2__{0r})                        ⎞         \n",
       " ─────────────────────────────────────────── + \\delta_L__{++}⋅\\phi⁻₁⎟ + ──────\n",
       "                      2                                             ⎠         \n",
       "──────────────────────────────────────────────────────────────────────────────\n",
       "                                                                           2  \n",
       "\n",
       "                             ⎛√2⋅\\delta_L__+⋅\\phi⁻₁   (ⅈ⋅\\delta_L__{0i} + \\del\n",
       "\\phi_1__{0i} + \\phi_1__{0r})⋅⎜───────────────────── + ────────────────────────\n",
       "                             ⎝          2                                     \n",
       "──────────────────────────────────────────────────────────────────────────────\n",
       "                                                         2                    \n",
       "──────────────────────────────────────────────────────────────────────────────\n",
       "                                                                              \n",
       "\n",
       "ta_L__{0r})⋅(ⅈ⋅\\phi_2__{0i} + \\phi_2__{0r})⎞⎞⎞      ⎛                 ⎛       \n",
       "───────────────────────────────────────────⎟⎟⎟      ⎜                 ⎜       \n",
       "         2                                 ⎠⎟⎟      ⎜                 ⎜       \n",
       "────────────────────────────────────────────⎟⎟      ⎜  √2⋅\\delta_L__-⋅⎜- \\phi⁻\n",
       "                                            ⎠⎟      ⎜                 ⎝       \n",
       "─────────────────────────────────────────────⎟ + β₂⋅⎜- ───────────────────────\n",
       "                                             ⎠      ⎝                         \n",
       "\n",
       "                                                                              \n",
       "                                                                              \n",
       "  ⎛√2⋅\\delta_R__+⋅\\phi⁻₂   (ⅈ⋅\\delta_R__{0i} + \\delta_R__{0r})⋅(ⅈ⋅\\phi_2__{0i}\n",
       "₁⋅⎜───────────────────── + ───────────────────────────────────────────────────\n",
       "  ⎝          2                                              2                 \n",
       "──────────────────────────────────────────────────────────────────────────────\n",
       "                                                                              \n",
       "\n",
       "                                                       ⎛  \\delta_R__+⋅(ⅈ⋅\\phi_\n",
       "                    √2⋅(ⅈ⋅\\phi_1__{0i} + \\phi_1__{0r})⋅⎜- ────────────────────\n",
       " + \\phi_2__{0r})⎞                                      ⎝                      \n",
       "────────────────⎟ + ──────────────────────────────────────────────────────────\n",
       "                ⎠                                                       2     \n",
       "──────────────────────────────────────────────────────────────────────────────\n",
       "            2                                                                 \n",
       "\n",
       "2__{0i} + \\phi_2__{0r})                        ⎞⎞                  ⎛          \n",
       "─────────────────────── + \\delta_R__{++}⋅\\phi⁻₂⎟⎟                  ⎜          \n",
       " 2                                             ⎠⎟                  ⎜         ⎛\n",
       "────────────────────────────────────────────────⎟   √2⋅\\delta_L__-⋅⎜- \\phi⁺₂⋅⎜\n",
       "                                                ⎠                  ⎝         ⎝\n",
       "───────────────────────────────────────────────── + ──────────────────────────\n",
       "                                                                              \n",
       "\n",
       "                                                                              \n",
       "                                                                              \n",
       "  √2⋅\\delta_R__+⋅\\phi⁺₁   √2⋅\\delta_R__{++}⋅(ⅈ⋅\\phi_1__{0i} + \\phi_1__{0r})⎞  \n",
       "- ───────────────────── + ─────────────────────────────────────────────────⎟ +\n",
       "            2                                     2                        ⎠  \n",
       "──────────────────────────────────────────────────────────────────────────────\n",
       "                                                                              \n",
       "\n",
       "                                    ⎛\\delta_R__+⋅(ⅈ⋅\\phi_1__{0i} + \\phi_1__{0r\n",
       " √2⋅(ⅈ⋅\\phi_2__{0i} + \\phi_2__{0r})⋅⎜─────────────────────────────────────────\n",
       "                                    ⎝                     2                   \n",
       " ─────────────────────────────────────────────────────────────────────────────\n",
       "                                                                2             \n",
       "──────────────────────────────────────────────────────────────────────────────\n",
       "            2                                                                 \n",
       "\n",
       "})   √2⋅\\phi⁺₁⋅(ⅈ⋅\\delta_R__{0i} + \\delta_R__{0r})⎞⎞                          \n",
       "── + ─────────────────────────────────────────────⎟⎟                          \n",
       "                           2                      ⎠⎟                  ⎛       \n",
       "───────────────────────────────────────────────────⎟                  ⎜       \n",
       "                                                   ⎠                  ⎜       \n",
       "──────────────────────────────────────────────────── + \\delta_L__{--}⋅⎜- \\phi⁻\n",
       "                                                                      ⎝       \n",
       "\n",
       "                                                                              \n",
       "                                                                              \n",
       "                                                                              \n",
       "                                                                              \n",
       "  ⎛\\delta_R__+⋅(ⅈ⋅\\phi_1__{0i} + \\phi_1__{0r})   √2⋅\\phi⁺₁⋅(ⅈ⋅\\delta_R__{0i} +\n",
       "₁⋅⎜─────────────────────────────────────────── + ─────────────────────────────\n",
       "  ⎝                     2                                              2      \n",
       "\n",
       "                                                                              \n",
       "                                                                              \n",
       "                                                       ⎛  √2⋅\\delta_R__+⋅\\phi⁺\n",
       "                    √2⋅(ⅈ⋅\\phi_1__{0i} + \\phi_1__{0r})⋅⎜- ────────────────────\n",
       " \\delta_R__{0r})⎞                                      ⎝            2         \n",
       "────────────────⎟ + ──────────────────────────────────────────────────────────\n",
       "                ⎠                                                          2  \n",
       "\n",
       "                                                                         ⎛    \n",
       "                                                                         ⎜    \n",
       "₁   √2⋅\\delta_R__{++}⋅(ⅈ⋅\\phi_1__{0i} + \\phi_1__{0r})⎞⎞                  ⎜    \n",
       "─ + ─────────────────────────────────────────────────⎟⎟   √2⋅\\delta_R__-⋅⎜- \\p\n",
       "                            2                        ⎠⎟                  ⎝    \n",
       "──────────────────────────────────────────────────────⎟ + ────────────────────\n",
       "                                                      ⎠                       \n",
       "\n",
       "                                                                              \n",
       "                                                                              \n",
       "     ⎛  √2⋅\\delta_L__+⋅\\phi⁺₂   √2⋅\\delta_L__{++}⋅(ⅈ⋅\\phi_1__{0i} + \\phi_1__{0\n",
       "hi⁺₁⋅⎜- ───────────────────── + ──────────────────────────────────────────────\n",
       "     ⎝            2                                     2                     \n",
       "──────────────────────────────────────────────────────────────────────────────\n",
       "                                                                              \n",
       "\n",
       "                                          ⎛\\delta_L__+⋅(ⅈ⋅\\phi_1__{0i} + \\phi_\n",
       "       √2⋅(ⅈ⋅\\phi_2__{0i} + \\phi_2__{0r})⋅⎜───────────────────────────────────\n",
       "r})⎞                                      ⎝                     2             \n",
       "───⎟ + ───────────────────────────────────────────────────────────────────────\n",
       "   ⎠                                                                  2       \n",
       "──────────────────────────────────────────────────────────────────────────────\n",
       "                  2                                                           \n",
       "\n",
       "1__{0r})   √2⋅\\phi⁺₂⋅(ⅈ⋅\\delta_L__{0i} + \\delta_L__{0r})⎞⎞                  ⎛ \n",
       "──────── + ─────────────────────────────────────────────⎟⎟                  ⎜ \n",
       "                                 2                      ⎠⎟                  ⎜ \n",
       "─────────────────────────────────────────────────────────⎟   √2⋅\\delta_R__-⋅⎜-\n",
       "                                                         ⎠                  ⎝ \n",
       "────────────────────────────────────────────────────────── - ─────────────────\n",
       "                                                                              \n",
       "\n",
       "                                                                              \n",
       "                                                                              \n",
       "        ⎛√2⋅\\delta_L__+⋅\\phi⁻₁   (ⅈ⋅\\delta_L__{0i} + \\delta_L__{0r})⋅(ⅈ⋅\\phi_2\n",
       " \\phi⁻₂⋅⎜───────────────────── + ─────────────────────────────────────────────\n",
       "        ⎝          2                                              2           \n",
       "──────────────────────────────────────────────────────────────────────────────\n",
       "                                                                              \n",
       "\n",
       "                                                             ⎛  \\delta_L__+⋅(ⅈ\n",
       "                          √2⋅(ⅈ⋅\\phi_1__{0i} + \\phi_1__{0r})⋅⎜- ──────────────\n",
       "__{0i} + \\phi_2__{0r})⎞                                      ⎝                \n",
       "──────────────────────⎟ + ────────────────────────────────────────────────────\n",
       "                      ⎠                                                       \n",
       "──────────────────────────────────────────────────────────────────────────────\n",
       "                  2                                                           \n",
       "\n",
       "⋅\\phi_2__{0i} + \\phi_2__{0r})                        ⎞⎞                       \n",
       "───────────────────────────── + \\delta_L__{++}⋅\\phi⁻₁⎟⎟                       \n",
       "       2                                             ⎠⎟                  ⎛    \n",
       "──────────────────────────────────────────────────────⎟                  ⎜    \n",
       "2                                                     ⎠                  ⎜    \n",
       "─────────────────────────────────────────────────────── + \\delta_R__{--}⋅⎜- \\p\n",
       "                                                                         ⎝    \n",
       "\n",
       "                                                                              \n",
       "                                                                              \n",
       "                                                                              \n",
       "                                                                              \n",
       "     ⎛\\delta_L__+⋅(ⅈ⋅\\phi_1__{0i} + \\phi_1__{0r})   √2⋅\\phi⁺₂⋅(ⅈ⋅\\delta_L__{0i\n",
       "hi⁻₂⋅⎜─────────────────────────────────────────── + ──────────────────────────\n",
       "     ⎝                     2                                              2   \n",
       "\n",
       "                                                                              \n",
       "                                                                              \n",
       "                                                          ⎛  √2⋅\\delta_L__+⋅\\p\n",
       "                       √2⋅(ⅈ⋅\\phi_1__{0i} + \\phi_1__{0r})⋅⎜- ─────────────────\n",
       "} + \\delta_L__{0r})⎞                                      ⎝            2      \n",
       "───────────────────⎟ + ───────────────────────────────────────────────────────\n",
       "                   ⎠                                                          \n",
       "\n",
       "                                                                              \n",
       "                                                                              \n",
       "hi⁺₂   √2⋅\\delta_L__{++}⋅(ⅈ⋅\\phi_1__{0i} + \\phi_1__{0r})⎞⎞                    \n",
       "──── + ─────────────────────────────────────────────────⎟⎟   √2⋅(ⅈ⋅\\delta_L__{\n",
       "                               2                        ⎠⎟                    \n",
       "─────────────────────────────────────────────────────────⎟ + ─────────────────\n",
       "2                                                        ⎠                    \n",
       "\n",
       "                      ⎛                                                       \n",
       "                      ⎜                                                       \n",
       "                      ⎜         ⎛  \\delta_R__+⋅(ⅈ⋅\\phi_2__{0i} + \\phi_2__{0r})\n",
       "0i} + \\delta_L__{0r})⋅⎜- \\phi⁺₂⋅⎜- ───────────────────────────────────────────\n",
       "                      ⎝         ⎝                       2                     \n",
       "──────────────────────────────────────────────────────────────────────────────\n",
       "                                                                              \n",
       "\n",
       "                                                               ⎛√2⋅\\delta_R__+\n",
       "                            √2⋅(ⅈ⋅\\phi_2__{0i} + \\phi_2__{0r})⋅⎜──────────────\n",
       "                        ⎞                                      ⎝          2   \n",
       " + \\delta_R__{++}⋅\\phi⁻₂⎟ + ──────────────────────────────────────────────────\n",
       "                        ⎠                                                     \n",
       "──────────────────────────────────────────────────────────────────────────────\n",
       "                              2                                               \n",
       "\n",
       "⋅\\phi⁻₂   (ⅈ⋅\\delta_R__{0i} + \\delta_R__{0r})⋅(ⅈ⋅\\phi_2__{0i} + \\phi_2__{0r})⎞\n",
       "─────── + ───────────────────────────────────────────────────────────────────⎟\n",
       "                                           2                                 ⎠\n",
       "──────────────────────────────────────────────────────────────────────────────\n",
       "             2                                                                \n",
       "──────────────────────────────────────────────────────────────────────────────\n",
       "                                                                              \n",
       "\n",
       "⎞                                          ⎛                                  \n",
       "⎟                                          ⎜                                  \n",
       "⎟                                          ⎜         ⎛  \\delta_L__+⋅(ⅈ⋅\\phi_2_\n",
       "⎟   √2⋅(ⅈ⋅\\delta_R__{0i} + \\delta_R__{0r})⋅⎜- \\phi⁺₁⋅⎜- ──────────────────────\n",
       "⎠                                          ⎝         ⎝                       2\n",
       "─ + ──────────────────────────────────────────────────────────────────────────\n",
       "                                                                              \n",
       "\n",
       "                                                                              \n",
       "                                                 √2⋅(ⅈ⋅\\phi_2__{0i} + \\phi_2__\n",
       "_{0i} + \\phi_2__{0r})                        ⎞                                \n",
       "───────────────────── + \\delta_L__{++}⋅\\phi⁻₁⎟ + ─────────────────────────────\n",
       "                                             ⎠                                \n",
       "──────────────────────────────────────────────────────────────────────────────\n",
       "                                                   2                          \n",
       "\n",
       "      ⎛√2⋅\\delta_L__+⋅\\phi⁻₁   (ⅈ⋅\\delta_L__{0i} + \\delta_L__{0r})⋅(ⅈ⋅\\phi_2__\n",
       "{0r})⋅⎜───────────────────── + ───────────────────────────────────────────────\n",
       "      ⎝          2                                              2             \n",
       "──────────────────────────────────────────────────────────────────────────────\n",
       "                                  2                                           \n",
       "──────────────────────────────────────────────────────────────────────────────\n",
       "                                                                              \n",
       "\n",
       "{0i} + \\phi_2__{0r})⎞⎞⎞      ⎛               ⎛                                \n",
       "────────────────────⎟⎟⎟      ⎜               ⎜                                \n",
       "                    ⎠⎟⎟      ⎜               ⎜       ⎛√2⋅\\delta_R__+⋅\\phi⁻₂   \n",
       "─────────────────────⎟⎟      ⎜√2⋅\\delta_L__-⋅⎜\\phi⁻₁⋅⎜───────────────────── + \n",
       "                     ⎠⎟      ⎜               ⎝       ⎝          2             \n",
       "──────────────────────⎟ + β₂⋅⎜────────────────────────────────────────────────\n",
       "                      ⎠      ⎝                                                \n",
       "\n",
       "                                                                              \n",
       "                                                     √2⋅(ⅈ⋅\\phi_1__{0i} + \\phi\n",
       "√2⋅\\delta_R__{++}⋅(ⅈ⋅\\phi_2__{0i} + \\phi_2__{0r})⎞                            \n",
       "─────────────────────────────────────────────────⎟ + ─────────────────────────\n",
       "                        2                        ⎠                            \n",
       "──────────────────────────────────────────────────────────────────────────────\n",
       "                                                                  2           \n",
       "\n",
       "          ⎛\\delta_R__+⋅(ⅈ⋅\\phi_2__{0i} + \\phi_2__{0r})   √2⋅\\phi⁻₂⋅(ⅈ⋅\\delta_R\n",
       "_1__{0r})⋅⎜─────────────────────────────────────────── - ─────────────────────\n",
       "          ⎝                     2                                             \n",
       "──────────────────────────────────────────────────────────────────────────────\n",
       "                                      2                                       \n",
       "──────────────────────────────────────────────────────────────────────────────\n",
       "                                                                              \n",
       "\n",
       "__{0i} + \\delta_R__{0r})⎞⎞                  ⎛                                 \n",
       "────────────────────────⎟⎟                  ⎜                                 \n",
       " 2                      ⎠⎟                  ⎜       ⎛  √2⋅\\delta_R__+⋅\\phi⁺₁  \n",
       "─────────────────────────⎟   √2⋅\\delta_L__-⋅⎜\\phi⁺₂⋅⎜- ───────────────────── +\n",
       "                         ⎠                  ⎝       ⎝            2            \n",
       "────────────────────────── - ─────────────────────────────────────────────────\n",
       "                                                                              \n",
       "\n",
       "                                                                              \n",
       "                                                                        √2⋅(ⅈ⋅\n",
       " (ⅈ⋅\\delta_R__{0i} + \\delta_R__{0r})⋅(ⅈ⋅\\phi_1__{0i} + \\phi_1__{0r})⎞         \n",
       " ───────────────────────────────────────────────────────────────────⎟ + ──────\n",
       "                                  2                                 ⎠         \n",
       "──────────────────────────────────────────────────────────────────────────────\n",
       "                                                                2             \n",
       "\n",
       "                             ⎛  \\delta_R__+⋅(ⅈ⋅\\phi_1__{0i} + \\phi_1__{0r})   \n",
       "\\phi_2__{0i} + \\phi_2__{0r})⋅⎜- ─────────────────────────────────────────── - \n",
       "                             ⎝                       2                        \n",
       "──────────────────────────────────────────────────────────────────────────────\n",
       "                                              2                               \n",
       "──────────────────────────────────────────────────────────────────────────────\n",
       "                                                                              \n",
       "\n",
       "                     ⎞⎞                                                       \n",
       "\\delta_R__{++}⋅\\phi⁺₁⎟⎟                                                       \n",
       "                     ⎠⎟                  ⎛                                    \n",
       "──────────────────────⎟                  ⎜                                    \n",
       "                      ⎠                  ⎜       ⎛\\delta_R__+⋅(ⅈ⋅\\phi_2__{0i} \n",
       "─────────────────────── + \\delta_L__{--}⋅⎜\\phi⁺₂⋅⎜────────────────────────────\n",
       "                                         ⎝       ⎝                     2      \n",
       "\n",
       "                                                                              \n",
       "                                                                              \n",
       "                                                                              \n",
       "                                                                   √2⋅(ⅈ⋅\\phi_\n",
       "+ \\phi_2__{0r})   √2⋅\\phi⁻₂⋅(ⅈ⋅\\delta_R__{0i} + \\delta_R__{0r})⎞              \n",
       "─────────────── - ─────────────────────────────────────────────⎟ + ───────────\n",
       "                                        2                      ⎠              \n",
       "\n",
       "                                                                              \n",
       "                                                                              \n",
       "                        ⎛√2⋅\\delta_R__+⋅\\phi⁻₂   √2⋅\\delta_R__{++}⋅(ⅈ⋅\\phi_2__\n",
       "2__{0i} + \\phi_2__{0r})⋅⎜───────────────────── + ─────────────────────────────\n",
       "                        ⎝          2                                     2    \n",
       "──────────────────────────────────────────────────────────────────────────────\n",
       "                                           2                                  \n",
       "\n",
       "                                        ⎛                                     \n",
       "                                        ⎜                                     \n",
       "{0i} + \\phi_2__{0r})⎞⎞                  ⎜       ⎛  √2⋅\\delta_L__+⋅\\phi⁺₂   (ⅈ⋅\n",
       "────────────────────⎟⎟   √2⋅\\delta_R__-⋅⎜\\phi⁺₁⋅⎜- ───────────────────── + ───\n",
       "                    ⎠⎟                  ⎝       ⎝            2                \n",
       "─────────────────────⎟ - ─────────────────────────────────────────────────────\n",
       "                     ⎠                                                        \n",
       "\n",
       "                                                                              \n",
       "                                                                    √2⋅(ⅈ⋅\\phi\n",
       "\\delta_L__{0i} + \\delta_L__{0r})⋅(ⅈ⋅\\phi_1__{0i} + \\phi_1__{0r})⎞             \n",
       "────────────────────────────────────────────────────────────────⎟ + ──────────\n",
       "                              2                                 ⎠             \n",
       "──────────────────────────────────────────────────────────────────────────────\n",
       "                                                            2                 \n",
       "\n",
       "                         ⎛  \\delta_L__+⋅(ⅈ⋅\\phi_1__{0i} + \\phi_1__{0r})       \n",
       "_2__{0i} + \\phi_2__{0r})⋅⎜- ─────────────────────────────────────────── - \\del\n",
       "                         ⎝                       2                            \n",
       "──────────────────────────────────────────────────────────────────────────────\n",
       "                                          2                                   \n",
       "──────────────────────────────────────────────────────────────────────────────\n",
       "                                                                              \n",
       "\n",
       "                 ⎞⎞                  ⎛                                        \n",
       "ta_L__{++}⋅\\phi⁺₂⎟⎟                  ⎜                                        \n",
       "                 ⎠⎟                  ⎜       ⎛√2⋅\\delta_L__+⋅\\phi⁻₁   √2⋅\\delt\n",
       "──────────────────⎟   √2⋅\\delta_R__-⋅⎜\\phi⁻₂⋅⎜───────────────────── + ────────\n",
       "                  ⎠                  ⎝       ⎝          2                     \n",
       "─────────────────── + ────────────────────────────────────────────────────────\n",
       "                                                                              \n",
       "\n",
       "                                                                              \n",
       "                                             √2⋅(ⅈ⋅\\phi_1__{0i} + \\phi_1__{0r}\n",
       "a_L__{++}⋅(ⅈ⋅\\phi_2__{0i} + \\phi_2__{0r})⎞                                    \n",
       "─────────────────────────────────────────⎟ + ─────────────────────────────────\n",
       "                2                        ⎠                                    \n",
       "──────────────────────────────────────────────────────────────────────────────\n",
       "                                                          2                   \n",
       "\n",
       "  ⎛\\delta_L__+⋅(ⅈ⋅\\phi_2__{0i} + \\phi_2__{0r})   √2⋅\\phi⁻₁⋅(ⅈ⋅\\delta_L__{0i} +\n",
       ")⋅⎜─────────────────────────────────────────── - ─────────────────────────────\n",
       "  ⎝                     2                                              2      \n",
       "──────────────────────────────────────────────────────────────────────────────\n",
       "                              2                                               \n",
       "──────────────────────────────────────────────────────────────────────────────\n",
       "                                                                              \n",
       "\n",
       " \\delta_L__{0r})⎞⎞                                                            \n",
       "────────────────⎟⎟                                                            \n",
       "                ⎠⎟                  ⎛                                         \n",
       "─────────────────⎟                  ⎜                                         \n",
       "                 ⎠                  ⎜       ⎛\\delta_L__+⋅(ⅈ⋅\\phi_2__{0i} + \\ph\n",
       "────────────────── + \\delta_R__{--}⋅⎜\\phi⁺₁⋅⎜─────────────────────────────────\n",
       "                                    ⎝       ⎝                     2           \n",
       "\n",
       "                                                                              \n",
       "                                                                              \n",
       "                                                                              \n",
       "                                                              √2⋅(ⅈ⋅\\phi_2__{0\n",
       "i_2__{0r})   √2⋅\\phi⁻₁⋅(ⅈ⋅\\delta_L__{0i} + \\delta_L__{0r})⎞                   \n",
       "────────── - ─────────────────────────────────────────────⎟ + ────────────────\n",
       "                                   2                      ⎠                   \n",
       "\n",
       "                                                                              \n",
       "                                                                              \n",
       "                   ⎛√2⋅\\delta_L__+⋅\\phi⁻₁   √2⋅\\delta_L__{++}⋅(ⅈ⋅\\phi_2__{0i} \n",
       "i} + \\phi_2__{0r})⋅⎜───────────────────── + ──────────────────────────────────\n",
       "                   ⎝          2                                     2         \n",
       "──────────────────────────────────────────────────────────────────────────────\n",
       "                                      2                                       \n",
       "\n",
       "                                                           ⎛                  \n",
       "                                                           ⎜                  \n",
       "+ \\phi_2__{0r})⎞⎞                                          ⎜       ⎛  \\delta_R\n",
       "───────────────⎟⎟   √2⋅(ⅈ⋅\\delta_L__{0i} + \\delta_L__{0r})⋅⎜\\phi⁻₁⋅⎜- ────────\n",
       "               ⎠⎟                                          ⎝       ⎝          \n",
       "────────────────⎟ + ──────────────────────────────────────────────────────────\n",
       "                ⎠                                                             \n",
       "\n",
       "                                                                              \n",
       "                                                               √2⋅(ⅈ⋅\\phi_1__{\n",
       "__+⋅(ⅈ⋅\\phi_1__{0i} + \\phi_1__{0r})                        ⎞                  \n",
       "─────────────────────────────────── - \\delta_R__{++}⋅\\phi⁺₁⎟ + ───────────────\n",
       "             2                                             ⎠                  \n",
       "──────────────────────────────────────────────────────────────────────────────\n",
       "                                                                   2          \n",
       "\n",
       "                    ⎛  √2⋅\\delta_R__+⋅\\phi⁺₁   (ⅈ⋅\\delta_R__{0i} + \\delta_R__{\n",
       "0i} + \\phi_1__{0r})⋅⎜- ───────────────────── + ───────────────────────────────\n",
       "                    ⎝            2                                            \n",
       "──────────────────────────────────────────────────────────────────────────────\n",
       "                                                 2                            \n",
       "──────────────────────────────────────────────────────────────────────────────\n",
       "                                                                              \n",
       "\n",
       "0r})⋅(ⅈ⋅\\phi_1__{0i} + \\phi_1__{0r})⎞⎞                                        \n",
       "────────────────────────────────────⎟⎟                                        \n",
       "  2                                 ⎠⎟                                        \n",
       "─────────────────────────────────────⎟   √2⋅(ⅈ⋅\\delta_R__{0i} + \\delta_R__{0r}\n",
       "                                     ⎠                                        \n",
       "────────────────────────────────────── + ─────────────────────────────────────\n",
       "                                                                              \n",
       "\n",
       "  ⎛                                                                           \n",
       "  ⎜                                                                           \n",
       "  ⎜       ⎛  \\delta_L__+⋅(ⅈ⋅\\phi_1__{0i} + \\phi_1__{0r})                      \n",
       ")⋅⎜\\phi⁻₂⋅⎜- ─────────────────────────────────────────── - \\delta_L__{++}⋅\\phi\n",
       "  ⎝       ⎝                       2                                           \n",
       "──────────────────────────────────────────────────────────────────────────────\n",
       "                                                                              \n",
       "\n",
       "                                         ⎛  √2⋅\\delta_L__+⋅\\phi⁺₂   (ⅈ⋅\\delta_\n",
       "      √2⋅(ⅈ⋅\\phi_1__{0i} + \\phi_1__{0r})⋅⎜- ───────────────────── + ──────────\n",
       "  ⎞                                      ⎝            2                       \n",
       "⁺₂⎟ + ────────────────────────────────────────────────────────────────────────\n",
       "  ⎠                                                                   2       \n",
       "──────────────────────────────────────────────────────────────────────────────\n",
       "          2                                                                   \n",
       "\n",
       "L__{0i} + \\delta_L__{0r})⋅(ⅈ⋅\\phi_1__{0i} + \\phi_1__{0r})⎞⎞⎞                  \n",
       "─────────────────────────────────────────────────────────⎟⎟⎟                  \n",
       "                       2                                 ⎠⎟⎟                  \n",
       "──────────────────────────────────────────────────────────⎟⎟                  \n",
       "                                                          ⎠⎟   ⎛           2  \n",
       "───────────────────────────────────────────────────────────⎟ - ⎝\\alpha₁⋅v_R  +\n",
       "                                                           ⎠                  \n",
       "\n",
       "                                                                              \n",
       "                                                                              \n",
       "                                                                              \n",
       "                                 ⎛                                            \n",
       "   2                           ⎞ ⎜                                (ⅈ⋅\\phi_1__{\n",
       " k₁ ⋅(2⋅\\lambda₁ + √2⋅\\lambda₄)⎠⋅⎜\\phi⁺₁⋅\\phi⁻₁ + \\phi⁺₂⋅\\phi⁻₂ + ────────────\n",
       "                                 ⎝                                            \n",
       "\n",
       "                                                                              \n",
       "                                                                              \n",
       "                                                                              \n",
       "                   2                                  2⎞   ⎛                 2\n",
       "0i} + \\phi_1__{0r})    (ⅈ⋅\\phi_2__{0i} + \\phi_2__{0r}) ⎟   ⎜           2   k₁ \n",
       "──────────────────── + ────────────────────────────────⎟ - ⎜\\alpha₂⋅v_R  + ───\n",
       "   2                                  2                ⎠   ⎝                  \n",
       "\n",
       "                                                                              \n",
       "                                                                              \n",
       "                                                                              \n",
       "                                                           ⎞                  \n",
       "⋅(√2⋅\\lambda₁ + 8⋅√2⋅\\lambda₂ + 4⋅√2⋅\\lambda₃ + 8⋅\\lambda₄)⎟                  \n",
       "───────────────────────────────────────────────────────────⎟⋅(-2⋅\\phi⁺₁⋅\\phi⁺₂\n",
       "                           4                               ⎠                  \n",
       "\n",
       "                                                                              \n",
       "                                                                              \n",
       "                                                                              \n",
       "                                                                              \n",
       "                                                                              \n",
       " - 2⋅\\phi⁻₁⋅\\phi⁻₂ + 2⋅(ⅈ⋅\\phi_1__{0i} + \\phi_1__{0r})⋅(ⅈ⋅\\phi_2__{0i} + \\phi_\n",
       "                                                                              \n",
       "\n",
       "                                                                              \n",
       "                                                                              \n",
       "                                                                              \n",
       "            ⎛                        2 ⎛                                      \n",
       "            ⎜      ⎛   2      2⎞   k₁ ⋅⎝2⋅\\alpha₁⋅v_L⋅v_R + 4⋅\\alpha₂⋅v_L⋅v_R \n",
       "2__{0r})) - ⎜\\rho₃⋅⎝v_L  + v_R ⎠ + ───────────────────────────────────────────\n",
       "            ⎝                                                                 \n",
       "\n",
       "                                                                              \n",
       "                                                                              \n",
       "                                                                              \n",
       "           2            2              2              2⎞⎞ ⎛                   \n",
       "+ √2⋅β₁⋅v_L  + √2⋅β₁⋅v_R  + 2⋅√2⋅β₂⋅v_L  + 2⋅√2⋅β₂⋅v_R ⎠⎟ ⎜                   \n",
       "────────────────────────────────────────────────────────⎟⋅⎜\\delta_L__+⋅\\delta_\n",
       "   v_L⋅v_R                                              ⎠ ⎝                   \n",
       "\n",
       "                                                                              \n",
       "                                                                              \n",
       "                                                                              \n",
       "                                                                              \n",
       "                                                                              \n",
       "L__- + \\delta_L__{++}⋅\\delta_L__{--} + \\delta_R__+⋅\\delta_R__- + \\delta_R__{++\n",
       "                                                                              \n",
       "\n",
       "                                                                              \n",
       "                                                                              \n",
       "                                                                              \n",
       "                                                      2                       \n",
       "                   (ⅈ⋅\\delta_L__{0i} + \\delta_L__{0r})    (ⅈ⋅\\delta_R__{0i} + \n",
       "}⋅\\delta_R__{--} + ──────────────────────────────────── + ────────────────────\n",
       "                                    2                                      2  \n",
       "\n",
       "                 \n",
       "                 \n",
       "                 \n",
       "               2⎞\n",
       "\\delta_R__{0r}) ⎟\n",
       "────────────────⎟\n",
       "                ⎠"
      ]
     },
     "execution_count": 140,
     "metadata": {},
     "output_type": "execute_result"
    }
   ],
   "source": [
    "VLRPhi_ri_tadpole_caso1 = VLRPhi_ri\n",
    "VLRPhi_ri_tadpole_caso1"
   ]
  },
  {
   "cell_type": "code",
   "execution_count": 141,
   "metadata": {},
   "outputs": [
    {
     "data": {
      "text/latex": [
       "$\\displaystyle \\left[\\begin{matrix}\\frac{\\sqrt{2} \\left(i \\phi_1^{0i} + \\phi_1^{0r}\\right)}{2} & \\phi^{+}_{1}\\\\\\phi^{-}_{2} & \\frac{\\sqrt{2} \\left(i \\phi_2^{0i} + \\phi_2^{0r}\\right)}{2}\\end{matrix}\\right]$"
      ],
      "text/plain": [
       "⎡√2⋅(ⅈ⋅\\phi_1__{0i} + \\phi_1__{0r})                                    ⎤\n",
       "⎢──────────────────────────────────                \\phi⁺₁              ⎥\n",
       "⎢                2                                                     ⎥\n",
       "⎢                                                                      ⎥\n",
       "⎢                                    √2⋅(ⅈ⋅\\phi_2__{0i} + \\phi_2__{0r})⎥\n",
       "⎢              \\phi⁻₂                ──────────────────────────────────⎥\n",
       "⎣                                                    2                 ⎦"
      ]
     },
     "execution_count": 141,
     "metadata": {},
     "output_type": "execute_result"
    }
   ],
   "source": [
    "Phi.subs(complex_scalar_fields)"
   ]
  },
  {
   "cell_type": "code",
   "execution_count": 142,
   "metadata": {},
   "outputs": [],
   "source": [
    "vevPhi[phi10r] = k1\n",
    "vevPhi[phi10i] = 0\n",
    "vevPhi[phi20r] = k2\n",
    "vevPhi[phi20i] = 0"
   ]
  },
  {
   "cell_type": "code",
   "execution_count": 143,
   "metadata": {},
   "outputs": [
    {
     "data": {
      "text/latex": [
       "$\\displaystyle \\left[\\begin{matrix}\\frac{\\sqrt{2} \\delta^{+}_{L}}{2} & \\delta_L^{++}\\\\\\frac{\\sqrt{2} \\left(i \\delta_L^{0i} + \\delta_L^{0r}\\right)}{2} & - \\frac{\\sqrt{2} \\delta^{+}_{L}}{2}\\end{matrix}\\right]$"
      ],
      "text/plain": [
       "⎡            √2⋅\\delta_L__+                              ⎤\n",
       "⎢            ──────────────               \\delta_L__{++} ⎥\n",
       "⎢                  2                                     ⎥\n",
       "⎢                                                        ⎥\n",
       "⎢√2⋅(ⅈ⋅\\delta_L__{0i} + \\delta_L__{0r})  -√2⋅\\delta_L__+ ⎥\n",
       "⎢──────────────────────────────────────  ────────────────⎥\n",
       "⎣                  2                            2        ⎦"
      ]
     },
     "execution_count": 143,
     "metadata": {},
     "output_type": "execute_result"
    }
   ],
   "source": [
    "DeltaL.subs(complex_scalar_fields)"
   ]
  },
  {
   "cell_type": "code",
   "execution_count": 144,
   "metadata": {},
   "outputs": [],
   "source": [
    "vevL[deltaL0r] = vL\n",
    "vevL[deltaL0i] = 0\n",
    "vevR[deltaR0r] = vR\n",
    "vevR[deltaR0i] = 0"
   ]
  },
  {
   "cell_type": "code",
   "execution_count": null,
   "metadata": {},
   "outputs": [
    {
     "data": {
      "text/latex": [
       "$\\displaystyle \\left[\\begin{matrix}\\frac{\\alpha_{1} v_{L}^{2}}{4} - \\frac{\\alpha_{1} v_{R}^{2}}{4} + \\lambda_{1} k_{1}^{2} + 2 \\lambda_{2} k_{1}^{2} + \\lambda_{3} k_{1}^{2} - \\frac{\\sqrt{2} \\lambda_{4} k_{1}^{2}}{2} + 3 \\lambda_{4} k_{1}^{2} + \\frac{\\beta_{2} v_{L} v_{R}}{2} & \\frac{\\alpha_{2} v_{L}^{2}}{2} - \\frac{\\alpha_{2} v_{R}^{2}}{2} - \\frac{\\sqrt{2} \\lambda_{1} k_{1}^{2}}{4} + \\lambda_{1} k_{1}^{2} - 2 \\sqrt{2} \\lambda_{2} k_{1}^{2} + 4 \\lambda_{2} k_{1}^{2} - \\sqrt{2} \\lambda_{3} k_{1}^{2} + 2 \\lambda_{3} k_{1}^{2} + \\lambda_{4} k_{1}^{2} + \\frac{\\beta_{1} v_{L} v_{R}}{4} & \\frac{k_{1} \\cdot \\left(2 \\alpha_{1} v_{R} + 4 \\alpha_{2} v_{R} + \\beta_{1} v_{L} + 2 \\beta_{2} v_{L}\\right)}{4} & \\frac{k_{1} \\cdot \\left(2 \\alpha_{1} v_{L} + 4 \\alpha_{2} v_{L} + \\beta_{1} v_{R} + 2 \\beta_{2} v_{R}\\right)}{4} & i \\left(\\frac{\\alpha_{1} v_{L}^{2}}{4} - \\frac{\\alpha_{1} v_{R}^{2}}{4} + \\lambda_{1} k_{1}^{2} + 2 \\lambda_{2} k_{1}^{2} + \\lambda_{3} k_{1}^{2} - \\frac{\\sqrt{2} \\lambda_{4} k_{1}^{2}}{2} + 3 \\lambda_{4} k_{1}^{2} + \\frac{\\beta_{2} v_{L} v_{R}}{2}\\right) & \\frac{i \\left(- 4 \\alpha_{2} v_{R}^{2} + 2 \\alpha_{2} \\left(v_{L}^{2} + v_{R}^{2}\\right) + 4 \\lambda_{1} k_{1}^{2} + 16 \\lambda_{2} k_{1}^{2} + 8 \\lambda_{3} k_{1}^{2} + 12 \\lambda_{4} k_{1}^{2} + \\beta_{1} v_{L} v_{R} - k_{1}^{2} \\left(\\sqrt{2} \\lambda_{1} + 8 \\sqrt{2} \\lambda_{2} + 4 \\sqrt{2} \\lambda_{3} + 8 \\lambda_{4}\\right)\\right)}{4} & \\frac{i k_{1} \\cdot \\left(2 \\alpha_{1} v_{R} + 4 \\alpha_{2} v_{R} + \\beta_{1} v_{L} + 2 \\beta_{2} v_{L}\\right)}{4} & \\frac{i k_{1} \\cdot \\left(2 \\alpha_{1} v_{L} + 4 \\alpha_{2} v_{L} + \\beta_{1} v_{R} + 2 \\beta_{2} v_{R}\\right)}{4}\\\\\\frac{\\alpha_{2} v_{L}^{2}}{2} - \\frac{\\alpha_{2} v_{R}^{2}}{2} - \\frac{\\sqrt{2} \\lambda_{1} k_{1}^{2}}{4} + \\lambda_{1} k_{1}^{2} - 2 \\sqrt{2} \\lambda_{2} k_{1}^{2} + 4 \\lambda_{2} k_{1}^{2} - \\sqrt{2} \\lambda_{3} k_{1}^{2} + 2 \\lambda_{3} k_{1}^{2} + \\lambda_{4} k_{1}^{2} + \\frac{\\beta_{1} v_{L} v_{R}}{4} & \\frac{\\alpha_{1} v_{L}^{2}}{4} - \\frac{\\alpha_{1} v_{R}^{2}}{4} + \\lambda_{1} k_{1}^{2} + 2 \\lambda_{2} k_{1}^{2} + \\lambda_{3} k_{1}^{2} - \\frac{\\sqrt{2} \\lambda_{4} k_{1}^{2}}{2} + 3 \\lambda_{4} k_{1}^{2} + \\frac{\\beta_{2} v_{L} v_{R}}{2} & \\frac{k_{1} \\cdot \\left(2 \\alpha_{1} v_{R} + 4 \\alpha_{2} v_{R} + \\beta_{1} v_{L} + 2 \\beta_{2} v_{L}\\right)}{4} & \\frac{k_{1} \\cdot \\left(2 \\alpha_{1} v_{L} + 4 \\alpha_{2} v_{L} + \\beta_{1} v_{R} + 2 \\beta_{2} v_{R}\\right)}{4} & \\frac{i \\left(- 4 \\alpha_{2} v_{R}^{2} + 2 \\alpha_{2} \\left(v_{L}^{2} + v_{R}^{2}\\right) + 4 \\lambda_{1} k_{1}^{2} + 16 \\lambda_{2} k_{1}^{2} + 8 \\lambda_{3} k_{1}^{2} + 12 \\lambda_{4} k_{1}^{2} + \\beta_{1} v_{L} v_{R} - k_{1}^{2} \\left(\\sqrt{2} \\lambda_{1} + 8 \\sqrt{2} \\lambda_{2} + 4 \\sqrt{2} \\lambda_{3} + 8 \\lambda_{4}\\right)\\right)}{4} & i \\left(\\frac{\\alpha_{1} v_{L}^{2}}{4} - \\frac{\\alpha_{1} v_{R}^{2}}{4} + \\lambda_{1} k_{1}^{2} + 2 \\lambda_{2} k_{1}^{2} + \\lambda_{3} k_{1}^{2} - \\frac{\\sqrt{2} \\lambda_{4} k_{1}^{2}}{2} + 3 \\lambda_{4} k_{1}^{2} + \\frac{\\beta_{2} v_{L} v_{R}}{2}\\right) & \\frac{i k_{1} \\cdot \\left(2 \\alpha_{1} v_{R} + 4 \\alpha_{2} v_{R} + \\beta_{1} v_{L} + 2 \\beta_{2} v_{L}\\right)}{4} & \\frac{i k_{1} \\cdot \\left(2 \\alpha_{1} v_{L} + 4 \\alpha_{2} v_{L} + \\beta_{1} v_{R} + 2 \\beta_{2} v_{R}\\right)}{4}\\\\\\frac{k_{1} \\cdot \\left(2 \\alpha_{1} v_{R} + 4 \\alpha_{2} v_{R} + \\beta_{1} v_{L} + 2 \\beta_{2} v_{L}\\right)}{4} & \\frac{k_{1} \\cdot \\left(2 \\alpha_{1} v_{R} + 4 \\alpha_{2} v_{R} + \\beta_{1} v_{L} + 2 \\beta_{2} v_{L}\\right)}{4} & - \\frac{\\alpha_{1} k_{1}^{2}}{2} - \\alpha_{2} k_{1}^{2} + \\frac{3 \\rho_{1} v_{R}^{2}}{2} - \\frac{\\rho_{3} v_{L}^{2}}{4} - \\frac{\\rho_{3} v_{R}^{2}}{2} - \\frac{\\sqrt{2} \\beta_{1} k_{1}^{2} v_{L}}{2 v_{R}} - \\frac{\\sqrt{2} \\beta_{1} k_{1}^{2} v_{R}}{2 v_{L}} - \\frac{\\sqrt{2} \\beta_{2} k_{1}^{2} v_{L}}{v_{R}} - \\frac{\\sqrt{2} \\beta_{2} k_{1}^{2} v_{R}}{v_{L}} & \\frac{\\rho_{3} v_{L} v_{R}}{2} + \\frac{\\beta_{1} k_{1}^{2}}{4} + \\frac{\\beta_{2} k_{1}^{2}}{2} & \\frac{i k_{1} \\cdot \\left(2 \\alpha_{1} v_{R} + 4 \\alpha_{2} v_{R} + \\beta_{1} v_{L} + 2 \\beta_{2} v_{L}\\right)}{4} & \\frac{i k_{1} \\cdot \\left(2 \\alpha_{1} v_{R} + 4 \\alpha_{2} v_{R} + \\beta_{1} v_{L} + 2 \\beta_{2} v_{L}\\right)}{4} & - \\frac{i \\alpha_{1} k_{1}^{2}}{2} - i \\alpha_{2} k_{1}^{2} + \\frac{3 i \\rho_{1} v_{R}^{2}}{2} - \\frac{i \\rho_{3} v_{L}^{2}}{4} - \\frac{i \\rho_{3} v_{R}^{2}}{2} - \\frac{\\sqrt{2} i \\beta_{1} k_{1}^{2} v_{L}}{2 v_{R}} - \\frac{\\sqrt{2} i \\beta_{1} k_{1}^{2} v_{R}}{2 v_{L}} - \\frac{\\sqrt{2} i \\beta_{2} k_{1}^{2} v_{L}}{v_{R}} - \\frac{\\sqrt{2} i \\beta_{2} k_{1}^{2} v_{R}}{v_{L}} & \\frac{i \\left(2 \\rho_{3} v_{L} v_{R} + \\beta_{1} k_{1}^{2} + 2 \\beta_{2} k_{1}^{2}\\right)}{4}\\\\\\frac{k_{1} \\cdot \\left(2 \\alpha_{1} v_{L} + 4 \\alpha_{2} v_{L} + \\beta_{1} v_{R} + 2 \\beta_{2} v_{R}\\right)}{4} & \\frac{k_{1} \\cdot \\left(2 \\alpha_{1} v_{L} + 4 \\alpha_{2} v_{L} + \\beta_{1} v_{R} + 2 \\beta_{2} v_{R}\\right)}{4} & \\frac{\\rho_{3} v_{L} v_{R}}{2} + \\frac{\\beta_{1} k_{1}^{2}}{4} + \\frac{\\beta_{2} k_{1}^{2}}{2} & - \\frac{\\alpha_{1} k_{1}^{2}}{2} - \\alpha_{2} k_{1}^{2} + \\frac{3 \\rho_{1} v_{L}^{2}}{2} - \\frac{\\rho_{3} v_{L}^{2}}{2} - \\frac{\\rho_{3} v_{R}^{2}}{4} - \\frac{\\sqrt{2} \\beta_{1} k_{1}^{2} v_{L}}{2 v_{R}} - \\frac{\\sqrt{2} \\beta_{1} k_{1}^{2} v_{R}}{2 v_{L}} - \\frac{\\sqrt{2} \\beta_{2} k_{1}^{2} v_{L}}{v_{R}} - \\frac{\\sqrt{2} \\beta_{2} k_{1}^{2} v_{R}}{v_{L}} & \\frac{i k_{1} \\cdot \\left(2 \\alpha_{1} v_{L} + 4 \\alpha_{2} v_{L} + \\beta_{1} v_{R} + 2 \\beta_{2} v_{R}\\right)}{4} & \\frac{i k_{1} \\cdot \\left(2 \\alpha_{1} v_{L} + 4 \\alpha_{2} v_{L} + \\beta_{1} v_{R} + 2 \\beta_{2} v_{R}\\right)}{4} & \\frac{i \\left(2 \\rho_{3} v_{L} v_{R} + \\beta_{1} k_{1}^{2} + 2 \\beta_{2} k_{1}^{2}\\right)}{4} & - \\frac{i \\alpha_{1} k_{1}^{2}}{2} - i \\alpha_{2} k_{1}^{2} + \\frac{3 i \\rho_{1} v_{L}^{2}}{2} - \\frac{i \\rho_{3} v_{L}^{2}}{2} - \\frac{i \\rho_{3} v_{R}^{2}}{4} - \\frac{\\sqrt{2} i \\beta_{1} k_{1}^{2} v_{L}}{2 v_{R}} - \\frac{\\sqrt{2} i \\beta_{1} k_{1}^{2} v_{R}}{2 v_{L}} - \\frac{\\sqrt{2} i \\beta_{2} k_{1}^{2} v_{L}}{v_{R}} - \\frac{\\sqrt{2} i \\beta_{2} k_{1}^{2} v_{R}}{v_{L}}\\\\i \\left(\\frac{\\alpha_{1} v_{L}^{2}}{4} - \\frac{\\alpha_{1} v_{R}^{2}}{4} + \\lambda_{1} k_{1}^{2} + 2 \\lambda_{2} k_{1}^{2} + \\lambda_{3} k_{1}^{2} - \\frac{\\sqrt{2} \\lambda_{4} k_{1}^{2}}{2} + 3 \\lambda_{4} k_{1}^{2} + \\frac{\\beta_{2} v_{L} v_{R}}{2}\\right) & \\frac{i \\left(- 4 \\alpha_{2} v_{R}^{2} + 2 \\alpha_{2} \\left(v_{L}^{2} + v_{R}^{2}\\right) + 4 \\lambda_{1} k_{1}^{2} + 16 \\lambda_{2} k_{1}^{2} + 8 \\lambda_{3} k_{1}^{2} + 12 \\lambda_{4} k_{1}^{2} + \\beta_{1} v_{L} v_{R} - k_{1}^{2} \\left(\\sqrt{2} \\lambda_{1} + 8 \\sqrt{2} \\lambda_{2} + 4 \\sqrt{2} \\lambda_{3} + 8 \\lambda_{4}\\right)\\right)}{4} & \\frac{i k_{1} \\cdot \\left(2 \\alpha_{1} v_{R} + 4 \\alpha_{2} v_{R} + \\beta_{1} v_{L} + 2 \\beta_{2} v_{L}\\right)}{4} & \\frac{i k_{1} \\cdot \\left(2 \\alpha_{1} v_{L} + 4 \\alpha_{2} v_{L} + \\beta_{1} v_{R} + 2 \\beta_{2} v_{R}\\right)}{4} & - \\frac{\\alpha_{1} v_{L}^{2}}{4} + \\frac{\\alpha_{1} v_{R}^{2}}{4} - \\lambda_{1} k_{1}^{2} - 2 \\lambda_{2} k_{1}^{2} - \\lambda_{3} k_{1}^{2} - 3 \\lambda_{4} k_{1}^{2} + \\frac{\\sqrt{2} \\lambda_{4} k_{1}^{2}}{2} - \\frac{\\beta_{2} v_{L} v_{R}}{2} & - \\frac{\\alpha_{2} v_{L}^{2}}{2} + \\frac{\\alpha_{2} v_{R}^{2}}{2} - \\lambda_{1} k_{1}^{2} + \\frac{\\sqrt{2} \\lambda_{1} k_{1}^{2}}{4} - 4 \\lambda_{2} k_{1}^{2} + 2 \\sqrt{2} \\lambda_{2} k_{1}^{2} - 2 \\lambda_{3} k_{1}^{2} + \\sqrt{2} \\lambda_{3} k_{1}^{2} - \\lambda_{4} k_{1}^{2} - \\frac{\\beta_{1} v_{L} v_{R}}{4} & \\frac{k_{1} \\left(- 2 \\alpha_{1} v_{R} - 4 \\alpha_{2} v_{R} - \\beta_{1} v_{L} - 2 \\beta_{2} v_{L}\\right)}{4} & \\frac{k_{1} \\left(- 2 \\alpha_{1} v_{L} - 4 \\alpha_{2} v_{L} - \\beta_{1} v_{R} - 2 \\beta_{2} v_{R}\\right)}{4}\\\\\\frac{i \\left(- 4 \\alpha_{2} v_{R}^{2} + 2 \\alpha_{2} \\left(v_{L}^{2} + v_{R}^{2}\\right) + 4 \\lambda_{1} k_{1}^{2} + 16 \\lambda_{2} k_{1}^{2} + 8 \\lambda_{3} k_{1}^{2} + 12 \\lambda_{4} k_{1}^{2} + \\beta_{1} v_{L} v_{R} - k_{1}^{2} \\left(\\sqrt{2} \\lambda_{1} + 8 \\sqrt{2} \\lambda_{2} + 4 \\sqrt{2} \\lambda_{3} + 8 \\lambda_{4}\\right)\\right)}{4} & i \\left(\\frac{\\alpha_{1} v_{L}^{2}}{4} - \\frac{\\alpha_{1} v_{R}^{2}}{4} + \\lambda_{1} k_{1}^{2} + 2 \\lambda_{2} k_{1}^{2} + \\lambda_{3} k_{1}^{2} - \\frac{\\sqrt{2} \\lambda_{4} k_{1}^{2}}{2} + 3 \\lambda_{4} k_{1}^{2} + \\frac{\\beta_{2} v_{L} v_{R}}{2}\\right) & \\frac{i k_{1} \\cdot \\left(2 \\alpha_{1} v_{R} + 4 \\alpha_{2} v_{R} + \\beta_{1} v_{L} + 2 \\beta_{2} v_{L}\\right)}{4} & \\frac{i k_{1} \\cdot \\left(2 \\alpha_{1} v_{L} + 4 \\alpha_{2} v_{L} + \\beta_{1} v_{R} + 2 \\beta_{2} v_{R}\\right)}{4} & - \\frac{\\alpha_{2} v_{L}^{2}}{2} + \\frac{\\alpha_{2} v_{R}^{2}}{2} - \\lambda_{1} k_{1}^{2} + \\frac{\\sqrt{2} \\lambda_{1} k_{1}^{2}}{4} - 4 \\lambda_{2} k_{1}^{2} + 2 \\sqrt{2} \\lambda_{2} k_{1}^{2} - 2 \\lambda_{3} k_{1}^{2} + \\sqrt{2} \\lambda_{3} k_{1}^{2} - \\lambda_{4} k_{1}^{2} - \\frac{\\beta_{1} v_{L} v_{R}}{4} & - \\frac{\\alpha_{1} v_{L}^{2}}{4} + \\frac{\\alpha_{1} v_{R}^{2}}{4} - \\lambda_{1} k_{1}^{2} - 2 \\lambda_{2} k_{1}^{2} - \\lambda_{3} k_{1}^{2} - 3 \\lambda_{4} k_{1}^{2} + \\frac{\\sqrt{2} \\lambda_{4} k_{1}^{2}}{2} - \\frac{\\beta_{2} v_{L} v_{R}}{2} & \\frac{k_{1} \\left(- 2 \\alpha_{1} v_{R} - 4 \\alpha_{2} v_{R} - \\beta_{1} v_{L} - 2 \\beta_{2} v_{L}\\right)}{4} & \\frac{k_{1} \\left(- 2 \\alpha_{1} v_{L} - 4 \\alpha_{2} v_{L} - \\beta_{1} v_{R} - 2 \\beta_{2} v_{R}\\right)}{4}\\\\\\frac{i k_{1} \\cdot \\left(2 \\alpha_{1} v_{R} + 4 \\alpha_{2} v_{R} + \\beta_{1} v_{L} + 2 \\beta_{2} v_{L}\\right)}{4} & \\frac{i k_{1} \\cdot \\left(2 \\alpha_{1} v_{R} + 4 \\alpha_{2} v_{R} + \\beta_{1} v_{L} + 2 \\beta_{2} v_{L}\\right)}{4} & - \\frac{i \\alpha_{1} k_{1}^{2}}{2} - i \\alpha_{2} k_{1}^{2} + \\frac{3 i \\rho_{1} v_{R}^{2}}{2} - \\frac{i \\rho_{3} v_{L}^{2}}{4} - \\frac{i \\rho_{3} v_{R}^{2}}{2} - \\frac{\\sqrt{2} i \\beta_{1} k_{1}^{2} v_{L}}{2 v_{R}} - \\frac{\\sqrt{2} i \\beta_{1} k_{1}^{2} v_{R}}{2 v_{L}} - \\frac{\\sqrt{2} i \\beta_{2} k_{1}^{2} v_{L}}{v_{R}} - \\frac{\\sqrt{2} i \\beta_{2} k_{1}^{2} v_{R}}{v_{L}} & \\frac{i \\left(2 \\rho_{3} v_{L} v_{R} + \\beta_{1} k_{1}^{2} + 2 \\beta_{2} k_{1}^{2}\\right)}{4} & \\frac{k_{1} \\left(- 2 \\alpha_{1} v_{R} - 4 \\alpha_{2} v_{R} - \\beta_{1} v_{L} - 2 \\beta_{2} v_{L}\\right)}{4} & \\frac{k_{1} \\left(- 2 \\alpha_{1} v_{R} - 4 \\alpha_{2} v_{R} - \\beta_{1} v_{L} - 2 \\beta_{2} v_{L}\\right)}{4} & \\frac{\\alpha_{1} k_{1}^{2}}{2} + \\alpha_{2} k_{1}^{2} - \\frac{3 \\rho_{1} v_{R}^{2}}{2} + \\frac{\\rho_{3} v_{L}^{2}}{4} + \\frac{\\rho_{3} v_{R}^{2}}{2} + \\frac{\\sqrt{2} \\beta_{1} k_{1}^{2} v_{L}}{2 v_{R}} + \\frac{\\sqrt{2} \\beta_{1} k_{1}^{2} v_{R}}{2 v_{L}} + \\frac{\\sqrt{2} \\beta_{2} k_{1}^{2} v_{L}}{v_{R}} + \\frac{\\sqrt{2} \\beta_{2} k_{1}^{2} v_{R}}{v_{L}} & - \\frac{\\rho_{3} v_{L} v_{R}}{2} - \\frac{\\beta_{1} k_{1}^{2}}{4} - \\frac{\\beta_{2} k_{1}^{2}}{2}\\\\\\frac{i k_{1} \\cdot \\left(2 \\alpha_{1} v_{L} + 4 \\alpha_{2} v_{L} + \\beta_{1} v_{R} + 2 \\beta_{2} v_{R}\\right)}{4} & \\frac{i k_{1} \\cdot \\left(2 \\alpha_{1} v_{L} + 4 \\alpha_{2} v_{L} + \\beta_{1} v_{R} + 2 \\beta_{2} v_{R}\\right)}{4} & \\frac{i \\left(2 \\rho_{3} v_{L} v_{R} + \\beta_{1} k_{1}^{2} + 2 \\beta_{2} k_{1}^{2}\\right)}{4} & - \\frac{i \\alpha_{1} k_{1}^{2}}{2} - i \\alpha_{2} k_{1}^{2} + \\frac{3 i \\rho_{1} v_{L}^{2}}{2} - \\frac{i \\rho_{3} v_{L}^{2}}{2} - \\frac{i \\rho_{3} v_{R}^{2}}{4} - \\frac{\\sqrt{2} i \\beta_{1} k_{1}^{2} v_{L}}{2 v_{R}} - \\frac{\\sqrt{2} i \\beta_{1} k_{1}^{2} v_{R}}{2 v_{L}} - \\frac{\\sqrt{2} i \\beta_{2} k_{1}^{2} v_{L}}{v_{R}} - \\frac{\\sqrt{2} i \\beta_{2} k_{1}^{2} v_{R}}{v_{L}} & \\frac{k_{1} \\left(- 2 \\alpha_{1} v_{L} - 4 \\alpha_{2} v_{L} - \\beta_{1} v_{R} - 2 \\beta_{2} v_{R}\\right)}{4} & \\frac{k_{1} \\left(- 2 \\alpha_{1} v_{L} - 4 \\alpha_{2} v_{L} - \\beta_{1} v_{R} - 2 \\beta_{2} v_{R}\\right)}{4} & - \\frac{\\rho_{3} v_{L} v_{R}}{2} - \\frac{\\beta_{1} k_{1}^{2}}{4} - \\frac{\\beta_{2} k_{1}^{2}}{2} & \\frac{\\alpha_{1} k_{1}^{2}}{2} + \\alpha_{2} k_{1}^{2} - \\frac{3 \\rho_{1} v_{L}^{2}}{2} + \\frac{\\rho_{3} v_{L}^{2}}{2} + \\frac{\\rho_{3} v_{R}^{2}}{4} + \\frac{\\sqrt{2} \\beta_{1} k_{1}^{2} v_{L}}{2 v_{R}} + \\frac{\\sqrt{2} \\beta_{1} k_{1}^{2} v_{R}}{2 v_{L}} + \\frac{\\sqrt{2} \\beta_{2} k_{1}^{2} v_{L}}{v_{R}} + \\frac{\\sqrt{2} \\beta_{2} k_{1}^{2} v_{R}}{v_{L}}\\end{matrix}\\right]$"
      ],
      "text/plain": [
       "⎡                                               2              2              \n",
       "⎢                                    \\alpha₁⋅v_L    \\alpha₁⋅v_R               \n",
       "⎢                                    ──────────── - ──────────── + \\lambda₁⋅k₁\n",
       "⎢                                         4              4                    \n",
       "⎢                                                                             \n",
       "⎢                            2              2                 2               \n",
       "⎢                 \\alpha₂⋅v_L    \\alpha₂⋅v_R    √2⋅\\lambda₁⋅k₁               2\n",
       "⎢                 ──────────── - ──────────── - ─────────────── + \\lambda₁⋅k₁ \n",
       "⎢                      2              2                4                      \n",
       "⎢                                                                             \n",
       "⎢                                                                             \n",
       "⎢                                                                      k₁⋅(2⋅\\\n",
       "⎢                                                                      ───────\n",
       "⎢                                                                             \n",
       "⎢                                                                             \n",
       "⎢                                                                             \n",
       "⎢                                                                      k₁⋅(2⋅\\\n",
       "⎢                                                                      ───────\n",
       "⎢                                                                             \n",
       "⎢                                                                             \n",
       "⎢                                    ⎛           2              2             \n",
       "⎢                                    ⎜\\alpha₁⋅v_L    \\alpha₁⋅v_R              \n",
       "⎢                                  ⅈ⋅⎜──────────── - ──────────── + \\lambda₁⋅k\n",
       "⎢                                    ⎝     4              4                   \n",
       "⎢                                                                             \n",
       "⎢  ⎛               2             ⎛   2      2⎞                2               \n",
       "⎢ⅈ⋅⎝- 4⋅\\alpha₂⋅v_R  + 2⋅\\alpha₂⋅⎝v_L  + v_R ⎠ + 4⋅\\lambda₁⋅k₁  + 16⋅\\lambda₂⋅\n",
       "⎢─────────────────────────────────────────────────────────────────────────────\n",
       "⎢                                                                             \n",
       "⎢                                                                             \n",
       "⎢                                                                             \n",
       "⎢                                                                     ⅈ⋅k₁⋅(2⋅\n",
       "⎢                                                                     ────────\n",
       "⎢                                                                             \n",
       "⎢                                                                             \n",
       "⎢                                                                             \n",
       "⎢                                                                     ⅈ⋅k₁⋅(2⋅\n",
       "⎢                                                                     ────────\n",
       "⎣                                                                             \n",
       "\n",
       "                                                  2                           \n",
       "2                2              2   √2⋅\\lambda₄⋅k₁                 2   β₂⋅v_L⋅\n",
       "  + 2⋅\\lambda₂⋅k₁  + \\lambda₃⋅k₁  - ─────────────── + 3⋅\\lambda₄⋅k₁  + ───────\n",
       "                                           2                               2  \n",
       "                                                                              \n",
       "                                                                              \n",
       "                   2                2                 2                2      \n",
       " - 2⋅√2⋅\\lambda₂⋅k₁  + 4⋅\\lambda₂⋅k₁  - √2⋅\\lambda₃⋅k₁  + 2⋅\\lambda₃⋅k₁  + \\la\n",
       "                                                                              \n",
       "                                                                              \n",
       "                                                                              \n",
       "alpha₁⋅v_R + 4⋅\\alpha₂⋅v_R + β₁⋅v_L + 2⋅β₂⋅v_L)                               \n",
       "───────────────────────────────────────────────                               \n",
       "                   4                                                          \n",
       "                                                                              \n",
       "                                                                              \n",
       "alpha₁⋅v_L + 4⋅\\alpha₂⋅v_L + β₁⋅v_R + 2⋅β₂⋅v_R)                               \n",
       "───────────────────────────────────────────────                               \n",
       "                   4                                                          \n",
       "                                                                              \n",
       "                                                   2                          \n",
       " 2                2              2   √2⋅\\lambda₄⋅k₁                 2   β₂⋅v_L\n",
       "₁  + 2⋅\\lambda₂⋅k₁  + \\lambda₃⋅k₁  - ─────────────── + 3⋅\\lambda₄⋅k₁  + ──────\n",
       "                                            2                               2 \n",
       "                                                                              \n",
       "  2                2                 2                  2                     \n",
       "k₁  + 8⋅\\lambda₃⋅k₁  + 12⋅\\lambda₄⋅k₁  + β₁⋅v_L⋅v_R - k₁ ⋅(√2⋅\\lambda₁ + 8⋅√2⋅\n",
       "──────────────────────────────────────────────────────────────────────────────\n",
       "                   4                                                          \n",
       "                                                                              \n",
       "                                                                              \n",
       "\\alpha₁⋅v_R + 4⋅\\alpha₂⋅v_R + β₁⋅v_L + 2⋅β₂⋅v_L)                              \n",
       "────────────────────────────────────────────────                              \n",
       "                   4                                                          \n",
       "                                                                              \n",
       "                                                                              \n",
       "\\alpha₁⋅v_L + 4⋅\\alpha₂⋅v_L + β₁⋅v_R + 2⋅β₂⋅v_R)                              \n",
       "────────────────────────────────────────────────                              \n",
       "                   4                                                          \n",
       "\n",
       "                                                                     2        \n",
       "v_R                                                       \\alpha₂⋅v_L    \\alph\n",
       "───                                                       ──────────── - ─────\n",
       "                                                               2              \n",
       "                                                                              \n",
       "                                                                              \n",
       "        2   β₁⋅v_L⋅v_R                                                       \\\n",
       "mbda₄⋅k₁  + ──────────                                                       ─\n",
       "                4                                                             \n",
       "                                                                              \n",
       "                                                                              \n",
       "                                                                              \n",
       "                                                                              \n",
       "                                                                              \n",
       "                                                                              \n",
       "                                                                              \n",
       "                                                                              \n",
       "                                                                              \n",
       "                                                                              \n",
       "                                                                              \n",
       "    ⎞                                      ⎛               2             ⎛   2\n",
       "⋅v_R⎟                                    ⅈ⋅⎝- 4⋅\\alpha₂⋅v_R  + 2⋅\\alpha₂⋅⎝v_L \n",
       "────⎟                                    ─────────────────────────────────────\n",
       "    ⎠                                                                         \n",
       "                                                                              \n",
       "                                      ⎞                                      ⎛\n",
       "\\lambda₂ + 4⋅√2⋅\\lambda₃ + 8⋅\\lambda₄)⎠                                      ⎜\n",
       "───────────────────────────────────────                                    ⅈ⋅⎜\n",
       "                                                                             ⎝\n",
       "                                                                              \n",
       "                                                                              \n",
       "                                                                              \n",
       "                                                                              \n",
       "                                                                              \n",
       "                                                                              \n",
       "                                                                              \n",
       "                                                                              \n",
       "                                                                              \n",
       "                                                                              \n",
       "\n",
       "      2                 2                                                     \n",
       "a₂⋅v_R    √2⋅\\lambda₁⋅k₁               2                   2                2 \n",
       "─────── - ─────────────── + \\lambda₁⋅k₁  - 2⋅√2⋅\\lambda₂⋅k₁  + 4⋅\\lambda₂⋅k₁  \n",
       "2                4                                                            \n",
       "                                                                              \n",
       "          2              2                                                    \n",
       "alpha₁⋅v_L    \\alpha₁⋅v_R               2                2              2   √2\n",
       "─────────── - ──────────── + \\lambda₁⋅k₁  + 2⋅\\lambda₂⋅k₁  + \\lambda₃⋅k₁  - ──\n",
       "    4              4                                                          \n",
       "                                                                              \n",
       "                                                                              \n",
       "                                 k₁⋅(2⋅\\alpha₁⋅v_R + 4⋅\\alpha₂⋅v_R + β₁⋅v_L + \n",
       "                                 ─────────────────────────────────────────────\n",
       "                                                           4                  \n",
       "                                                                              \n",
       "                                                                              \n",
       "                                 k₁⋅(2⋅\\alpha₁⋅v_L + 4⋅\\alpha₂⋅v_L + β₁⋅v_R + \n",
       "                                 ─────────────────────────────────────────────\n",
       "                                                           4                  \n",
       "                                                                              \n",
       "      2⎞                2                 2                2                 2\n",
       " + v_R ⎠ + 4⋅\\lambda₁⋅k₁  + 16⋅\\lambda₂⋅k₁  + 8⋅\\lambda₃⋅k₁  + 12⋅\\lambda₄⋅k₁ \n",
       "──────────────────────────────────────────────────────────────────────────────\n",
       "                                                           4                  \n",
       "                                                                              \n",
       "           2              2                                                   \n",
       "\\alpha₁⋅v_L    \\alpha₁⋅v_R               2                2              2   √\n",
       "──────────── - ──────────── + \\lambda₁⋅k₁  + 2⋅\\lambda₂⋅k₁  + \\lambda₃⋅k₁  - ─\n",
       "     4              4                                                         \n",
       "                                                                              \n",
       "                                                                              \n",
       "                                ⅈ⋅k₁⋅(2⋅\\alpha₁⋅v_R + 4⋅\\alpha₂⋅v_R + β₁⋅v_L +\n",
       "                                ──────────────────────────────────────────────\n",
       "                                                           4                  \n",
       "                                                                              \n",
       "                                                                              \n",
       "                                ⅈ⋅k₁⋅(2⋅\\alpha₁⋅v_L + 4⋅\\alpha₂⋅v_L + β₁⋅v_R +\n",
       "                                ──────────────────────────────────────────────\n",
       "                                                           4                  \n",
       "\n",
       "                                                                              \n",
       "                2                2              2   β₁⋅v_L⋅v_R                \n",
       "- √2⋅\\lambda₃⋅k₁  + 2⋅\\lambda₃⋅k₁  + \\lambda₄⋅k₁  + ──────────                \n",
       "                                                        4                     \n",
       "                                                                              \n",
       "            2                                                                 \n",
       "⋅\\lambda₄⋅k₁                 2   β₂⋅v_L⋅v_R                                   \n",
       "───────────── + 3⋅\\lambda₄⋅k₁  + ──────────                                   \n",
       "     2                               2                                        \n",
       "                                                                              \n",
       "                                                                              \n",
       "2⋅β₂⋅v_L)                                                                     \n",
       "─────────                                                                     \n",
       "                                                                              \n",
       "                                                                              \n",
       "                                                                              \n",
       "2⋅β₂⋅v_R)                                                                     \n",
       "─────────                                                                     \n",
       "                                                                              \n",
       "                                                                              \n",
       "                  2                                                           \n",
       " + β₁⋅v_L⋅v_R - k₁ ⋅(√2⋅\\lambda₁ + 8⋅√2⋅\\lambda₂ + 4⋅√2⋅\\lambda₃ + 8⋅\\lambda₄)\n",
       "──────────────────────────────────────────────────────────────────────────────\n",
       "                                                                              \n",
       "                                                                              \n",
       "             2                              ⎞                                 \n",
       "2⋅\\lambda₄⋅k₁                 2   β₂⋅v_L⋅v_R⎟                                 \n",
       "────────────── + 3⋅\\lambda₄⋅k₁  + ──────────⎟                                 \n",
       "      2                               2     ⎠                                 \n",
       "                                                                              \n",
       "                                                                              \n",
       " 2⋅β₂⋅v_L)                                                                    \n",
       "──────────                                                                    \n",
       "                                                                              \n",
       "                                                                              \n",
       "                                                                              \n",
       " 2⋅β₂⋅v_R)                                                                    \n",
       "──────────                                                                    \n",
       "                                                                              \n",
       "\n",
       "                                                                              \n",
       "                                                   k₁⋅(2⋅\\alpha₁⋅v_R + 4⋅\\alph\n",
       "                                                   ───────────────────────────\n",
       "                                                                             4\n",
       "                                                                              \n",
       "                                                                              \n",
       "                                                   k₁⋅(2⋅\\alpha₁⋅v_R + 4⋅\\alph\n",
       "                                                   ───────────────────────────\n",
       "                                                                             4\n",
       "                                                                              \n",
       "                        2                            2            2           \n",
       "              \\alpha₁⋅k₁              2   3⋅\\rho₁⋅v_R    \\rho₃⋅v_L    \\rho₃⋅v_\n",
       "            - ─────────── - \\alpha₂⋅k₁  + ──────────── - ────────── - ────────\n",
       "                   2                           2             4            2   \n",
       "                                                                              \n",
       "                                                                              \n",
       "                                                              \\rho₃⋅v_L⋅v_R   \n",
       "                                                              ───────────── + \n",
       "                                                                    2         \n",
       "                                                                              \n",
       "⎞                                                                             \n",
       "⎠                                                 ⅈ⋅k₁⋅(2⋅\\alpha₁⋅v_R + 4⋅\\alp\n",
       "─                                                 ────────────────────────────\n",
       "                                                                             4\n",
       "                                                                              \n",
       "                                                                              \n",
       "                                                  ⅈ⋅k₁⋅(2⋅\\alpha₁⋅v_R + 4⋅\\alp\n",
       "                                                  ────────────────────────────\n",
       "                                                                             4\n",
       "                                                                              \n",
       "                 2                                2              2            \n",
       "     ⅈ⋅\\alpha₁⋅k₁                2   3⋅ⅈ⋅\\rho₁⋅v_R    ⅈ⋅\\rho₃⋅v_L    ⅈ⋅\\rho₃⋅v\n",
       "   - ───────────── - ⅈ⋅\\alpha₂⋅k₁  + ────────────── - ──────────── - ─────────\n",
       "           2                               2               4              2   \n",
       "                                                                              \n",
       "                                                            ⎛                 \n",
       "                                                          ⅈ⋅⎝2⋅\\rho₃⋅v_L⋅v_R +\n",
       "                                                          ────────────────────\n",
       "                                                                             4\n",
       "\n",
       "                                                                              \n",
       "a₂⋅v_R + β₁⋅v_L + 2⋅β₂⋅v_L)                                                   \n",
       "───────────────────────────                                                   \n",
       "                                                                              \n",
       "                                                                              \n",
       "                                                                              \n",
       "a₂⋅v_R + β₁⋅v_L + 2⋅β₂⋅v_L)                                                   \n",
       "───────────────────────────                                                   \n",
       "                                                                              \n",
       "                                                                              \n",
       " 2           2               2               2               2                \n",
       "R    √2⋅β₁⋅k₁ ⋅v_L   √2⋅β₁⋅k₁ ⋅v_R   √2⋅β₂⋅k₁ ⋅v_L   √2⋅β₂⋅k₁ ⋅v_R            \n",
       "── - ───────────── - ───────────── - ───────────── - ─────────────            \n",
       "         2⋅v_R           2⋅v_L            v_R             v_L                 \n",
       "                                                                              \n",
       "     2        2                                                               \n",
       "β₁⋅k₁    β₂⋅k₁                                                                \n",
       "────── + ──────                                                               \n",
       "  4        2                                                                  \n",
       "                                                                              \n",
       "                                                                              \n",
       "ha₂⋅v_R + β₁⋅v_L + 2⋅β₂⋅v_L)                                                  \n",
       "────────────────────────────                                                  \n",
       "                                                                              \n",
       "                                                                              \n",
       "                                                                              \n",
       "ha₂⋅v_R + β₁⋅v_L + 2⋅β₂⋅v_L)                                                  \n",
       "────────────────────────────                                                  \n",
       "                                                                              \n",
       "                                                                              \n",
       "  2             2                 2                 2                 2       \n",
       "_R    √2⋅ⅈ⋅β₁⋅k₁ ⋅v_L   √2⋅ⅈ⋅β₁⋅k₁ ⋅v_R   √2⋅ⅈ⋅β₂⋅k₁ ⋅v_L   √2⋅ⅈ⋅β₂⋅k₁ ⋅v_R   \n",
       "─── - ─────────────── - ─────────────── - ─────────────── - ───────────────   \n",
       "           2⋅v_R             2⋅v_L              v_R               v_L         \n",
       "                                                                              \n",
       "      2          2⎞                                                           \n",
       " β₁⋅k₁  + 2⋅β₂⋅k₁ ⎠                                                           \n",
       "───────────────────                                                          -\n",
       "                                                                              \n",
       "\n",
       "                                                                              \n",
       "                                               k₁⋅(2⋅\\alpha₁⋅v_L + 4⋅\\alpha₂⋅v\n",
       "                                               ───────────────────────────────\n",
       "                                                                         4    \n",
       "                                                                              \n",
       "                                                                              \n",
       "                                               k₁⋅(2⋅\\alpha₁⋅v_L + 4⋅\\alpha₂⋅v\n",
       "                                               ───────────────────────────────\n",
       "                                                                         4    \n",
       "                                                                              \n",
       "                                                                              \n",
       "                                                          \\rho₃⋅v_L⋅v_R   β₁⋅k\n",
       "                                                          ───────────── + ────\n",
       "                                                                2           4 \n",
       "                                                                              \n",
       "                    2                            2            2            2  \n",
       "          \\alpha₁⋅k₁              2   3⋅\\rho₁⋅v_L    \\rho₃⋅v_L    \\rho₃⋅v_R   \n",
       "        - ─────────── - \\alpha₂⋅k₁  + ──────────── - ────────── - ────────── -\n",
       "               2                           2             2            4       \n",
       "                                                                              \n",
       "                                                                              \n",
       "                                              ⅈ⋅k₁⋅(2⋅\\alpha₁⋅v_L + 4⋅\\alpha₂⋅\n",
       "                                              ────────────────────────────────\n",
       "                                                                         4    \n",
       "                                                                              \n",
       "                                                                              \n",
       "                                              ⅈ⋅k₁⋅(2⋅\\alpha₁⋅v_L + 4⋅\\alpha₂⋅\n",
       "                                              ────────────────────────────────\n",
       "                                                                         4    \n",
       "                                                                              \n",
       "                                                        ⎛                     \n",
       "                                                      ⅈ⋅⎝2⋅\\rho₃⋅v_L⋅v_R + β₁⋅\n",
       "                                                      ────────────────────────\n",
       "                                                                         4    \n",
       "                                                                              \n",
       "             2                                2              2              2 \n",
       " ⅈ⋅\\alpha₁⋅k₁                2   3⋅ⅈ⋅\\rho₁⋅v_L    ⅈ⋅\\rho₃⋅v_L    ⅈ⋅\\rho₃⋅v_R  \n",
       " ───────────── - ⅈ⋅\\alpha₂⋅k₁  + ────────────── - ──────────── - ──────────── \n",
       "       2                               2               2              4       \n",
       "\n",
       "                                                                              \n",
       "_L + β₁⋅v_R + 2⋅β₂⋅v_R)                                                       \n",
       "───────────────────────                                                       \n",
       "                                                                              \n",
       "                                                                              \n",
       "                                                                           ⎛  \n",
       "_L + β₁⋅v_R + 2⋅β₂⋅v_R)                                                  ⅈ⋅⎝- \n",
       "───────────────────────                                                  ─────\n",
       "                                                                              \n",
       "                                                                              \n",
       " 2        2                                                                   \n",
       "₁    β₂⋅k₁                                                                    \n",
       "── + ──────                                                                   \n",
       "       2                                                                      \n",
       "                                                                              \n",
       "         2               2               2               2                    \n",
       " √2⋅β₁⋅k₁ ⋅v_L   √2⋅β₁⋅k₁ ⋅v_R   √2⋅β₂⋅k₁ ⋅v_L   √2⋅β₂⋅k₁ ⋅v_R                \n",
       " ───────────── - ───────────── - ───────────── - ─────────────                \n",
       "     2⋅v_R           2⋅v_L            v_R             v_L                     \n",
       "                                                                              \n",
       "                                                                              \n",
       "v_L + β₁⋅v_R + 2⋅β₂⋅v_R)                                                      \n",
       "────────────────────────                                                      \n",
       "                                                                              \n",
       "                                                                              \n",
       "                                                                              \n",
       "v_L + β₁⋅v_R + 2⋅β₂⋅v_R)                                                      \n",
       "────────────────────────                                                      \n",
       "                                                                              \n",
       "                                                                              \n",
       "  2          2⎞                                                               \n",
       "k₁  + 2⋅β₂⋅k₁ ⎠                                                               \n",
       "───────────────                                                               \n",
       "                                                                              \n",
       "                                                                              \n",
       "            2                 2                 2                 2           \n",
       "  √2⋅ⅈ⋅β₁⋅k₁ ⋅v_L   √2⋅ⅈ⋅β₁⋅k₁ ⋅v_R   √2⋅ⅈ⋅β₂⋅k₁ ⋅v_L   √2⋅ⅈ⋅β₂⋅k₁ ⋅v_R       \n",
       "- ─────────────── - ─────────────── - ─────────────── - ───────────────       \n",
       "       2⋅v_R             2⋅v_L              v_R               v_L             \n",
       "\n",
       "                               ⎛           2              2                   \n",
       "                               ⎜\\alpha₁⋅v_L    \\alpha₁⋅v_R               2    \n",
       "                             ⅈ⋅⎜──────────── - ──────────── + \\lambda₁⋅k₁  + 2\n",
       "                               ⎝     4              4                         \n",
       "                                                                              \n",
       "             2             ⎛   2      2⎞                2                 2   \n",
       "4⋅\\alpha₂⋅v_R  + 2⋅\\alpha₂⋅⎝v_L  + v_R ⎠ + 4⋅\\lambda₁⋅k₁  + 16⋅\\lambda₂⋅k₁  + \n",
       "──────────────────────────────────────────────────────────────────────────────\n",
       "                                                                              \n",
       "                                                                              \n",
       "                                                                              \n",
       "                                                                ⅈ⋅k₁⋅(2⋅\\alpha\n",
       "                                                                ──────────────\n",
       "                                                                              \n",
       "                                                                              \n",
       "                                                                              \n",
       "                                                                ⅈ⋅k₁⋅(2⋅\\alpha\n",
       "                                                                ──────────────\n",
       "                                                                              \n",
       "                                                                              \n",
       "                                           2              2                   \n",
       "                                \\alpha₁⋅v_L    \\alpha₁⋅v_R               2    \n",
       "                              - ──────────── + ──────────── - \\lambda₁⋅k₁  - 2\n",
       "                                     4              4                         \n",
       "                                                                              \n",
       "                        2              2                                2     \n",
       "             \\alpha₂⋅v_L    \\alpha₂⋅v_R               2   √2⋅\\lambda₁⋅k₁      \n",
       "           - ──────────── + ──────────── - \\lambda₁⋅k₁  + ─────────────── - 4⋅\n",
       "                  2              2                               4            \n",
       "                                                                              \n",
       "                                                                              \n",
       "                                                                k₁⋅(-2⋅\\alpha₁\n",
       "                                                                ──────────────\n",
       "                                                                              \n",
       "                                                                              \n",
       "                                                                              \n",
       "                                                                k₁⋅(-2⋅\\alpha₁\n",
       "                                                                ──────────────\n",
       "                                                                              \n",
       "\n",
       "                                             2                              ⎞ \n",
       "            2              2   √2⋅\\lambda₄⋅k₁                 2   β₂⋅v_L⋅v_R⎟ \n",
       "⋅\\lambda₂⋅k₁  + \\lambda₃⋅k₁  - ─────────────── + 3⋅\\lambda₄⋅k₁  + ──────────⎟ \n",
       "                                      2                               2     ⎠ \n",
       "                                                                              \n",
       "             2                 2                  2                           \n",
       "8⋅\\lambda₃⋅k₁  + 12⋅\\lambda₄⋅k₁  + β₁⋅v_L⋅v_R - k₁ ⋅(√2⋅\\lambda₁ + 8⋅√2⋅\\lambd\n",
       "──────────────────────────────────────────────────────────────────────────────\n",
       "             4                                                                \n",
       "                                                                              \n",
       "                                                                              \n",
       "₁⋅v_R + 4⋅\\alpha₂⋅v_R + β₁⋅v_L + 2⋅β₂⋅v_L)                                    \n",
       "──────────────────────────────────────────                                    \n",
       "             4                                                                \n",
       "                                                                              \n",
       "                                                                              \n",
       "₁⋅v_L + 4⋅\\alpha₂⋅v_L + β₁⋅v_R + 2⋅β₂⋅v_R)                                    \n",
       "──────────────────────────────────────────                                    \n",
       "             4                                                                \n",
       "                                                                              \n",
       "                                                              2               \n",
       "            2              2                2   √2⋅\\lambda₄⋅k₁    β₂⋅v_L⋅v_R  \n",
       "⋅\\lambda₂⋅k₁  - \\lambda₃⋅k₁  - 3⋅\\lambda₄⋅k₁  + ─────────────── - ──────────  \n",
       "                                                       2              2       \n",
       "                                                                              \n",
       "                                                                              \n",
       "           2                   2                2                 2           \n",
       "\\lambda₂⋅k₁  + 2⋅√2⋅\\lambda₂⋅k₁  - 2⋅\\lambda₃⋅k₁  + √2⋅\\lambda₃⋅k₁  - \\lambda₄\n",
       "                                                                              \n",
       "                                                                              \n",
       "                                                                              \n",
       "⋅v_R - 4⋅\\alpha₂⋅v_R - β₁⋅v_L - 2⋅β₂⋅v_L)                                     \n",
       "─────────────────────────────────────────                                     \n",
       "             4                                                                \n",
       "                                                                              \n",
       "                                                                              \n",
       "⋅v_L - 4⋅\\alpha₂⋅v_L - β₁⋅v_R - 2⋅β₂⋅v_R)                                     \n",
       "─────────────────────────────────────────                                     \n",
       "             4                                                                \n",
       "\n",
       "                                     ⎛               2             ⎛   2      \n",
       "                                   ⅈ⋅⎝- 4⋅\\alpha₂⋅v_R  + 2⋅\\alpha₂⋅⎝v_L  + v_R\n",
       "                                   ───────────────────────────────────────────\n",
       "                                                                              \n",
       "                                                                              \n",
       "                                ⎞                                      ⎛      \n",
       "a₂ + 4⋅√2⋅\\lambda₃ + 8⋅\\lambda₄)⎠                                      ⎜\\alpha\n",
       "─────────────────────────────────                                    ⅈ⋅⎜──────\n",
       "                                                                       ⎝     4\n",
       "                                                                              \n",
       "                                                                              \n",
       "                                                                              \n",
       "                                                                              \n",
       "                                                                              \n",
       "                                                                              \n",
       "                                                                              \n",
       "                                                                              \n",
       "                                                                              \n",
       "                                                                              \n",
       "                                                                              \n",
       "                                                                2             \n",
       "                                                     \\alpha₂⋅v_L    \\alpha₂⋅v_\n",
       "                                                   - ──────────── + ──────────\n",
       "                                                          2              2    \n",
       "                                                                              \n",
       "                                                                              \n",
       "   2   β₁⋅v_L⋅v_R                                                       \\alpha\n",
       "⋅k₁  - ──────────                                                     - ──────\n",
       "           4                                                                 4\n",
       "                                                                              \n",
       "                                                                              \n",
       "                                                                              \n",
       "                                                                              \n",
       "                                                                              \n",
       "                                                                              \n",
       "                                                                              \n",
       "                                                                              \n",
       "                                                                              \n",
       "                                                                              \n",
       "\n",
       "2⎞                2                 2                2                 2      \n",
       " ⎠ + 4⋅\\lambda₁⋅k₁  + 16⋅\\lambda₂⋅k₁  + 8⋅\\lambda₃⋅k₁  + 12⋅\\lambda₄⋅k₁  + β₁⋅\n",
       "──────────────────────────────────────────────────────────────────────────────\n",
       "                                                     4                        \n",
       "                                                                              \n",
       "     2              2                                                         \n",
       "₁⋅v_L    \\alpha₁⋅v_R               2                2              2   √2⋅\\lam\n",
       "────── - ──────────── + \\lambda₁⋅k₁  + 2⋅\\lambda₂⋅k₁  + \\lambda₃⋅k₁  - ───────\n",
       "              4                                                               \n",
       "                                                                              \n",
       "                                                                              \n",
       "                          ⅈ⋅k₁⋅(2⋅\\alpha₁⋅v_R + 4⋅\\alpha₂⋅v_R + β₁⋅v_L + 2⋅β₂⋅\n",
       "                          ────────────────────────────────────────────────────\n",
       "                                                     4                        \n",
       "                                                                              \n",
       "                                                                              \n",
       "                          ⅈ⋅k₁⋅(2⋅\\alpha₁⋅v_L + 4⋅\\alpha₂⋅v_L + β₁⋅v_R + 2⋅β₂⋅\n",
       "                          ────────────────────────────────────────────────────\n",
       "                                                     4                        \n",
       "                                                                              \n",
       " 2                                2                                           \n",
       "R               2   √2⋅\\lambda₁⋅k₁                 2                   2      \n",
       "── - \\lambda₁⋅k₁  + ─────────────── - 4⋅\\lambda₂⋅k₁  + 2⋅√2⋅\\lambda₂⋅k₁  - 2⋅\\\n",
       "                           4                                                  \n",
       "                                                                              \n",
       "     2              2                                                         \n",
       "₁⋅v_L    \\alpha₁⋅v_R               2                2              2          \n",
       "────── + ──────────── - \\lambda₁⋅k₁  - 2⋅\\lambda₂⋅k₁  - \\lambda₃⋅k₁  - 3⋅\\lamb\n",
       "              4                                                               \n",
       "                                                                              \n",
       "                                                                              \n",
       "                          k₁⋅(-2⋅\\alpha₁⋅v_R - 4⋅\\alpha₂⋅v_R - β₁⋅v_L - 2⋅β₂⋅v\n",
       "                          ────────────────────────────────────────────────────\n",
       "                                                     4                        \n",
       "                                                                              \n",
       "                                                                              \n",
       "                          k₁⋅(-2⋅\\alpha₁⋅v_L - 4⋅\\alpha₂⋅v_L - β₁⋅v_R - 2⋅β₂⋅v\n",
       "                          ────────────────────────────────────────────────────\n",
       "                                                     4                        \n",
       "\n",
       "            2                                                           ⎞     \n",
       "v_L⋅v_R - k₁ ⋅(√2⋅\\lambda₁ + 8⋅√2⋅\\lambda₂ + 4⋅√2⋅\\lambda₃ + 8⋅\\lambda₄)⎠     \n",
       "─────────────────────────────────────────────────────────────────────────     \n",
       "                                                                              \n",
       "                                                                              \n",
       "       2                              ⎞                                       \n",
       "bda₄⋅k₁                 2   β₂⋅v_L⋅v_R⎟                                       \n",
       "──────── + 3⋅\\lambda₄⋅k₁  + ──────────⎟                                       \n",
       "2                               2     ⎠                                       \n",
       "                                                                              \n",
       "                                                                              \n",
       "v_L)                                                                         ⅈ\n",
       "────                                                                       - ─\n",
       "                                                                              \n",
       "                                                                              \n",
       "                                                                              \n",
       "v_R)                                                                          \n",
       "────                                                                          \n",
       "                                                                              \n",
       "                                                                              \n",
       "                                                                              \n",
       "          2                 2              2   β₁⋅v_L⋅v_R                     \n",
       "lambda₃⋅k₁  + √2⋅\\lambda₃⋅k₁  - \\lambda₄⋅k₁  - ──────────                     \n",
       "                                                   4                          \n",
       "                                                                              \n",
       "                        2                                                     \n",
       "      2   √2⋅\\lambda₄⋅k₁    β₂⋅v_L⋅v_R                                        \n",
       "da₄⋅k₁  + ─────────────── - ──────────                                        \n",
       "                 2              2                                             \n",
       "                                                                              \n",
       "                                                                              \n",
       "_L)                                                                           \n",
       "───                                                                           \n",
       "                                                                              \n",
       "                                                                              \n",
       "                                                                              \n",
       "_R)                                                                           \n",
       "───                                                                           \n",
       "                                                                              \n",
       "\n",
       "                                                                              \n",
       "                                            ⅈ⋅k₁⋅(2⋅\\alpha₁⋅v_R + 4⋅\\alpha₂⋅v_\n",
       "                                            ──────────────────────────────────\n",
       "                                                                       4      \n",
       "                                                                              \n",
       "                                                                              \n",
       "                                            ⅈ⋅k₁⋅(2⋅\\alpha₁⋅v_R + 4⋅\\alpha₂⋅v_\n",
       "                                            ──────────────────────────────────\n",
       "                                                                       4      \n",
       "                                                                              \n",
       "           2                                2              2              2   \n",
       "⋅\\alpha₁⋅k₁                2   3⋅ⅈ⋅\\rho₁⋅v_R    ⅈ⋅\\rho₃⋅v_L    ⅈ⋅\\rho₃⋅v_R    \n",
       "──────────── - ⅈ⋅\\alpha₂⋅k₁  + ────────────── - ──────────── - ──────────── - \n",
       "     2                               2               4              2         \n",
       "                                                                              \n",
       "                                                      ⎛                       \n",
       "                                                    ⅈ⋅⎝2⋅\\rho₃⋅v_L⋅v_R + β₁⋅k₁\n",
       "                                                    ──────────────────────────\n",
       "                                                                       4      \n",
       "                                                                              \n",
       "                                                                              \n",
       "                                            k₁⋅(-2⋅\\alpha₁⋅v_R - 4⋅\\alpha₂⋅v_R\n",
       "                                            ──────────────────────────────────\n",
       "                                                                       4      \n",
       "                                                                              \n",
       "                                                                              \n",
       "                                            k₁⋅(-2⋅\\alpha₁⋅v_R - 4⋅\\alpha₂⋅v_R\n",
       "                                            ──────────────────────────────────\n",
       "                                                                       4      \n",
       "                                                                              \n",
       "                 2                            2            2            2     \n",
       "       \\alpha₁⋅k₁              2   3⋅\\rho₁⋅v_R    \\rho₃⋅v_L    \\rho₃⋅v_R    √2\n",
       "       ─────────── + \\alpha₂⋅k₁  - ──────────── + ────────── + ────────── + ──\n",
       "            2                           2             4            2          \n",
       "                                                                              \n",
       "                                                                              \n",
       "                                                         \\rho₃⋅v_L⋅v_R   β₁⋅k₁\n",
       "                                                       - ───────────── - ─────\n",
       "                                                               2           4  \n",
       "\n",
       "                                                                              \n",
       "R + β₁⋅v_L + 2⋅β₂⋅v_L)                                                        \n",
       "──────────────────────                                                        \n",
       "                                                                              \n",
       "                                                                              \n",
       "                                                                              \n",
       "R + β₁⋅v_L + 2⋅β₂⋅v_L)                                                        \n",
       "──────────────────────                                                        \n",
       "                                                                              \n",
       "                                                                              \n",
       "          2                 2                 2                 2             \n",
       "√2⋅ⅈ⋅β₁⋅k₁ ⋅v_L   √2⋅ⅈ⋅β₁⋅k₁ ⋅v_R   √2⋅ⅈ⋅β₂⋅k₁ ⋅v_L   √2⋅ⅈ⋅β₂⋅k₁ ⋅v_R         \n",
       "─────────────── - ─────────────── - ─────────────── - ───────────────         \n",
       "     2⋅v_R             2⋅v_L              v_R               v_L               \n",
       "                                                                              \n",
       "2          2⎞                                                                 \n",
       "  + 2⋅β₂⋅k₁ ⎠                                                            ⅈ⋅\\al\n",
       "─────────────                                                          - ─────\n",
       "                                                                              \n",
       "                                                                              \n",
       "                                                                              \n",
       " - β₁⋅v_L - 2⋅β₂⋅v_L)                                                         \n",
       "─────────────────────                                                         \n",
       "                                                                              \n",
       "                                                                              \n",
       "                                                                              \n",
       " - β₁⋅v_L - 2⋅β₂⋅v_L)                                                         \n",
       "─────────────────────                                                         \n",
       "                                                                              \n",
       "                                                                              \n",
       "      2               2               2               2                       \n",
       "⋅β₁⋅k₁ ⋅v_L   √2⋅β₁⋅k₁ ⋅v_R   √2⋅β₂⋅k₁ ⋅v_L   √2⋅β₂⋅k₁ ⋅v_R                   \n",
       "─────────── + ───────────── + ───────────── + ─────────────                   \n",
       "  2⋅v_R           2⋅v_L            v_R             v_L                        \n",
       "                                                                              \n",
       "2        2                                                                    \n",
       "    β₂⋅k₁                                                                     \n",
       "─ - ──────                                                                    \n",
       "      2                                                                       \n",
       "\n",
       "                                                                              \n",
       "                                        ⅈ⋅k₁⋅(2⋅\\alpha₁⋅v_L + 4⋅\\alpha₂⋅v_L + \n",
       "                                        ──────────────────────────────────────\n",
       "                                                                   4          \n",
       "                                                                              \n",
       "                                                                              \n",
       "                                        ⅈ⋅k₁⋅(2⋅\\alpha₁⋅v_L + 4⋅\\alpha₂⋅v_L + \n",
       "                                        ──────────────────────────────────────\n",
       "                                                                   4          \n",
       "                                                                              \n",
       "                                                  ⎛                       2   \n",
       "                                                ⅈ⋅⎝2⋅\\rho₃⋅v_L⋅v_R + β₁⋅k₁  + \n",
       "                                                ──────────────────────────────\n",
       "                                                                   4          \n",
       "                                                                              \n",
       "       2                                2              2              2       \n",
       "pha₁⋅k₁                2   3⋅ⅈ⋅\\rho₁⋅v_L    ⅈ⋅\\rho₃⋅v_L    ⅈ⋅\\rho₃⋅v_R    √2⋅ⅈ\n",
       "──────── - ⅈ⋅\\alpha₂⋅k₁  + ────────────── - ──────────── - ──────────── - ────\n",
       " 2                               2               2              4             \n",
       "                                                                              \n",
       "                                                                              \n",
       "                                        k₁⋅(-2⋅\\alpha₁⋅v_L - 4⋅\\alpha₂⋅v_L - β\n",
       "                                        ──────────────────────────────────────\n",
       "                                                                   4          \n",
       "                                                                              \n",
       "                                                                              \n",
       "                                        k₁⋅(-2⋅\\alpha₁⋅v_L - 4⋅\\alpha₂⋅v_L - β\n",
       "                                        ──────────────────────────────────────\n",
       "                                                                   4          \n",
       "                                                                              \n",
       "                                                                          2   \n",
       "                                                     \\rho₃⋅v_L⋅v_R   β₁⋅k₁    \n",
       "                                                   - ───────────── - ────── - \n",
       "                                                           2           4      \n",
       "                                                                              \n",
       "             2                            2            2            2         \n",
       "   \\alpha₁⋅k₁              2   3⋅\\rho₁⋅v_L    \\rho₃⋅v_L    \\rho₃⋅v_R    √2⋅β₁⋅\n",
       "   ─────────── + \\alpha₂⋅k₁  - ──────────── + ────────── + ────────── + ──────\n",
       "        2                           2             2            4            2⋅\n",
       "\n",
       "                                                                 ⎤\n",
       "β₁⋅v_R + 2⋅β₂⋅v_R)                                               ⎥\n",
       "──────────────────                                               ⎥\n",
       "                                                                 ⎥\n",
       "                                                                 ⎥\n",
       "                                                                 ⎥\n",
       "β₁⋅v_R + 2⋅β₂⋅v_R)                                               ⎥\n",
       "──────────────────                                               ⎥\n",
       "                                                                 ⎥\n",
       "                                                                 ⎥\n",
       "       2⎞                                                        ⎥\n",
       "2⋅β₂⋅k₁ ⎠                                                        ⎥\n",
       "─────────                                                        ⎥\n",
       "                                                                 ⎥\n",
       "                                                                 ⎥\n",
       "      2                 2                 2                 2    ⎥\n",
       "⋅β₁⋅k₁ ⋅v_L   √2⋅ⅈ⋅β₁⋅k₁ ⋅v_R   √2⋅ⅈ⋅β₂⋅k₁ ⋅v_L   √2⋅ⅈ⋅β₂⋅k₁ ⋅v_R⎥\n",
       "─────────── - ─────────────── - ─────────────── - ───────────────⎥\n",
       " 2⋅v_R             2⋅v_L              v_R               v_L      ⎥\n",
       "                                                                 ⎥\n",
       "                                                                 ⎥\n",
       "₁⋅v_R - 2⋅β₂⋅v_R)                                                ⎥\n",
       "─────────────────                                                ⎥\n",
       "                                                                 ⎥\n",
       "                                                                 ⎥\n",
       "                                                                 ⎥\n",
       "₁⋅v_R - 2⋅β₂⋅v_R)                                                ⎥\n",
       "─────────────────                                                ⎥\n",
       "                                                                 ⎥\n",
       "                                                                 ⎥\n",
       "     2                                                           ⎥\n",
       "β₂⋅k₁                                                            ⎥\n",
       "──────                                                           ⎥\n",
       "  2                                                              ⎥\n",
       "                                                                 ⎥\n",
       "  2               2               2               2              ⎥\n",
       "k₁ ⋅v_L   √2⋅β₁⋅k₁ ⋅v_R   √2⋅β₂⋅k₁ ⋅v_L   √2⋅β₂⋅k₁ ⋅v_R          ⎥\n",
       "─────── + ───────────── + ───────────── + ─────────────          ⎥\n",
       "v_R           2⋅v_L            v_R             v_L               ⎦"
      ]
     },
     "execution_count": 147,
     "metadata": {},
     "output_type": "execute_result"
    }
   ],
   "source": [
    "phir_fields = [phi10r, phi20r, deltaR0r, deltaL0r]\n",
    "phii_fields = [phi10i, phi20i, deltaR0i, deltaL0i]\n",
    "phiri_fields = phir_fields + phii_fields\n",
    "MRI_square = (derive_by_array(derive_by_array(VLRPhi_ri_tadpole, phiri_fields), phiri_fields)/2).subs(\n",
    "    vevPhi\n",
    ").subs(vevL).subs(vevR).subs(caso_k1k2_vL).simplify()\n",
    "MRI_square"
   ]
  },
  {
   "cell_type": "code",
   "execution_count": 164,
   "metadata": {},
   "outputs": [
    {
     "data": {
      "text/latex": [
       "$\\displaystyle \\left[\\begin{matrix}- \\frac{\\alpha_{1} v_{R}^{2}}{4} + \\frac{k_{1}^{2} \\cdot \\left(2 \\lambda_{1} + 4 \\lambda_{2} + 2 \\lambda_{3} - \\sqrt{2} \\lambda_{4} + 6 \\lambda_{4}\\right)}{2} & - \\frac{\\alpha_{2} v_{R}^{2}}{2} - \\frac{k_{1}^{2} \\left(- 4 \\lambda_{1} + \\sqrt{2} \\lambda_{1} - 16 \\lambda_{2} + 8 \\sqrt{2} \\lambda_{2} - 8 \\lambda_{3} + 4 \\sqrt{2} \\lambda_{3} - 4 \\lambda_{4}\\right)}{4} & \\frac{k_{1} v_{R} \\left(\\alpha_{1} + 2 \\alpha_{2}\\right)}{2} & 0 & i \\left(- \\frac{\\alpha_{1} v_{R}^{2}}{4} + \\frac{k_{1}^{2} \\cdot \\left(2 \\lambda_{1} + 4 \\lambda_{2} + 2 \\lambda_{3} - \\sqrt{2} \\lambda_{4} + 6 \\lambda_{4}\\right)}{2}\\right) & \\frac{i \\left(- 2 \\alpha_{2} v_{R}^{2} + k_{1}^{2} \\left(- \\sqrt{2} \\lambda_{1} + 4 \\lambda_{1} - 8 \\sqrt{2} \\lambda_{2} + 16 \\lambda_{2} - 4 \\sqrt{2} \\lambda_{3} + 8 \\lambda_{3} + 4 \\lambda_{4}\\right)\\right)}{4} & \\frac{i k_{1} v_{R} \\left(\\alpha_{1} + 2 \\alpha_{2}\\right)}{2} & 0\\\\- \\frac{\\alpha_{2} v_{R}^{2}}{2} - \\frac{k_{1}^{2} \\left(- 4 \\lambda_{1} + \\sqrt{2} \\lambda_{1} - 16 \\lambda_{2} + 8 \\sqrt{2} \\lambda_{2} - 8 \\lambda_{3} + 4 \\sqrt{2} \\lambda_{3} - 4 \\lambda_{4}\\right)}{4} & - \\frac{\\alpha_{1} v_{R}^{2}}{4} + \\frac{k_{1}^{2} \\cdot \\left(2 \\lambda_{1} + 4 \\lambda_{2} + 2 \\lambda_{3} - \\sqrt{2} \\lambda_{4} + 6 \\lambda_{4}\\right)}{2} & \\frac{k_{1} v_{R} \\left(\\alpha_{1} + 2 \\alpha_{2}\\right)}{2} & 0 & \\frac{i \\left(- 2 \\alpha_{2} v_{R}^{2} + k_{1}^{2} \\left(- \\sqrt{2} \\lambda_{1} + 4 \\lambda_{1} - 8 \\sqrt{2} \\lambda_{2} + 16 \\lambda_{2} - 4 \\sqrt{2} \\lambda_{3} + 8 \\lambda_{3} + 4 \\lambda_{4}\\right)\\right)}{4} & i \\left(- \\frac{\\alpha_{1} v_{R}^{2}}{4} + \\frac{k_{1}^{2} \\cdot \\left(2 \\lambda_{1} + 4 \\lambda_{2} + 2 \\lambda_{3} - \\sqrt{2} \\lambda_{4} + 6 \\lambda_{4}\\right)}{2}\\right) & \\frac{i k_{1} v_{R} \\left(\\alpha_{1} + 2 \\alpha_{2}\\right)}{2} & 0\\\\\\frac{k_{1} v_{R} \\left(\\alpha_{1} + 2 \\alpha_{2}\\right)}{2} & \\frac{k_{1} v_{R} \\left(\\alpha_{1} + 2 \\alpha_{2}\\right)}{2} & - \\frac{k_{1}^{2} \\left(\\alpha_{1} + 2 \\alpha_{2}\\right)}{2} + \\frac{v_{R}^{2} \\cdot \\left(3 \\rho_{1} - \\rho_{3}\\right)}{2} & 0 & \\frac{i k_{1} v_{R} \\left(\\alpha_{1} + 2 \\alpha_{2}\\right)}{2} & \\frac{i k_{1} v_{R} \\left(\\alpha_{1} + 2 \\alpha_{2}\\right)}{2} & - \\frac{i k_{1}^{2} \\left(\\alpha_{1} + 2 \\alpha_{2}\\right)}{2} + \\frac{i v_{R}^{2} \\cdot \\left(3 \\rho_{1} - \\rho_{3}\\right)}{2} & 0\\\\0 & 0 & 0 & - \\frac{\\rho_{3} v_{R}^{2}}{4} - \\frac{k_{1}^{2} \\left(\\alpha_{1} + 2 \\alpha_{2}\\right)}{2} & 0 & 0 & 0 & - \\frac{i \\rho_{3} v_{R}^{2}}{4} - \\frac{i k_{1}^{2} \\left(\\alpha_{1} + 2 \\alpha_{2}\\right)}{2}\\\\i \\left(- \\frac{\\alpha_{1} v_{R}^{2}}{4} + \\frac{k_{1}^{2} \\cdot \\left(2 \\lambda_{1} + 4 \\lambda_{2} + 2 \\lambda_{3} - \\sqrt{2} \\lambda_{4} + 6 \\lambda_{4}\\right)}{2}\\right) & \\frac{i \\left(- 2 \\alpha_{2} v_{R}^{2} + k_{1}^{2} \\left(- \\sqrt{2} \\lambda_{1} + 4 \\lambda_{1} - 8 \\sqrt{2} \\lambda_{2} + 16 \\lambda_{2} - 4 \\sqrt{2} \\lambda_{3} + 8 \\lambda_{3} + 4 \\lambda_{4}\\right)\\right)}{4} & \\frac{i k_{1} v_{R} \\left(\\alpha_{1} + 2 \\alpha_{2}\\right)}{2} & 0 & \\frac{\\alpha_{1} v_{R}^{2}}{4} - \\frac{k_{1}^{2} \\cdot \\left(2 \\lambda_{1} + 4 \\lambda_{2} + 2 \\lambda_{3} - \\sqrt{2} \\lambda_{4} + 6 \\lambda_{4}\\right)}{2} & \\frac{\\alpha_{2} v_{R}^{2}}{2} + \\frac{k_{1}^{2} \\left(- 4 \\lambda_{1} + \\sqrt{2} \\lambda_{1} - 16 \\lambda_{2} + 8 \\sqrt{2} \\lambda_{2} - 8 \\lambda_{3} + 4 \\sqrt{2} \\lambda_{3} - 4 \\lambda_{4}\\right)}{4} & - \\frac{k_{1} v_{R} \\left(\\alpha_{1} + 2 \\alpha_{2}\\right)}{2} & 0\\\\\\frac{i \\left(- 2 \\alpha_{2} v_{R}^{2} + k_{1}^{2} \\left(- \\sqrt{2} \\lambda_{1} + 4 \\lambda_{1} - 8 \\sqrt{2} \\lambda_{2} + 16 \\lambda_{2} - 4 \\sqrt{2} \\lambda_{3} + 8 \\lambda_{3} + 4 \\lambda_{4}\\right)\\right)}{4} & i \\left(- \\frac{\\alpha_{1} v_{R}^{2}}{4} + \\frac{k_{1}^{2} \\cdot \\left(2 \\lambda_{1} + 4 \\lambda_{2} + 2 \\lambda_{3} - \\sqrt{2} \\lambda_{4} + 6 \\lambda_{4}\\right)}{2}\\right) & \\frac{i k_{1} v_{R} \\left(\\alpha_{1} + 2 \\alpha_{2}\\right)}{2} & 0 & \\frac{\\alpha_{2} v_{R}^{2}}{2} + \\frac{k_{1}^{2} \\left(- 4 \\lambda_{1} + \\sqrt{2} \\lambda_{1} - 16 \\lambda_{2} + 8 \\sqrt{2} \\lambda_{2} - 8 \\lambda_{3} + 4 \\sqrt{2} \\lambda_{3} - 4 \\lambda_{4}\\right)}{4} & \\frac{\\alpha_{1} v_{R}^{2}}{4} - \\frac{k_{1}^{2} \\cdot \\left(2 \\lambda_{1} + 4 \\lambda_{2} + 2 \\lambda_{3} - \\sqrt{2} \\lambda_{4} + 6 \\lambda_{4}\\right)}{2} & - \\frac{k_{1} v_{R} \\left(\\alpha_{1} + 2 \\alpha_{2}\\right)}{2} & 0\\\\\\frac{i k_{1} v_{R} \\left(\\alpha_{1} + 2 \\alpha_{2}\\right)}{2} & \\frac{i k_{1} v_{R} \\left(\\alpha_{1} + 2 \\alpha_{2}\\right)}{2} & - \\frac{i k_{1}^{2} \\left(\\alpha_{1} + 2 \\alpha_{2}\\right)}{2} + \\frac{i v_{R}^{2} \\cdot \\left(3 \\rho_{1} - \\rho_{3}\\right)}{2} & 0 & - \\frac{k_{1} v_{R} \\left(\\alpha_{1} + 2 \\alpha_{2}\\right)}{2} & - \\frac{k_{1} v_{R} \\left(\\alpha_{1} + 2 \\alpha_{2}\\right)}{2} & \\frac{k_{1}^{2} \\left(\\alpha_{1} + 2 \\alpha_{2}\\right)}{2} - \\frac{v_{R}^{2} \\cdot \\left(3 \\rho_{1} - \\rho_{3}\\right)}{2} & 0\\\\0 & 0 & 0 & - \\frac{i \\rho_{3} v_{R}^{2}}{4} - \\frac{i k_{1}^{2} \\left(\\alpha_{1} + 2 \\alpha_{2}\\right)}{2} & 0 & 0 & 0 & \\frac{\\rho_{3} v_{R}^{2}}{4} + \\frac{k_{1}^{2} \\left(\\alpha_{1} + 2 \\alpha_{2}\\right)}{2}\\end{matrix}\\right]$"
      ],
      "text/plain": [
       "⎡                                 2     2                                     \n",
       "⎢                      \\alpha₁⋅v_R    k₁ ⋅(2⋅\\lambda₁ + 4⋅\\lambda₂ + 2⋅\\lambda\n",
       "⎢                    - ──────────── + ────────────────────────────────────────\n",
       "⎢                           4                                           2     \n",
       "⎢                                                                             \n",
       "⎢                2     2                                                      \n",
       "⎢     \\alpha₂⋅v_R    k₁ ⋅(-4⋅\\lambda₁ + √2⋅\\lambda₁ - 16⋅\\lambda₂ + 8⋅√2⋅\\lamb\n",
       "⎢   - ──────────── - ─────────────────────────────────────────────────────────\n",
       "⎢          2                                                            4     \n",
       "⎢                                                                             \n",
       "⎢                                                                             \n",
       "⎢                                                 k₁⋅v_R⋅(\\alpha₁ + 2⋅\\alpha₂)\n",
       "⎢                                                 ────────────────────────────\n",
       "⎢                                                              2              \n",
       "⎢                                                                             \n",
       "⎢                                                                             \n",
       "⎢                                                                             \n",
       "⎢                                                              0              \n",
       "⎢                                                                             \n",
       "⎢                                                                             \n",
       "⎢                    ⎛             2     2                                    \n",
       "⎢                    ⎜  \\alpha₁⋅v_R    k₁ ⋅(2⋅\\lambda₁ + 4⋅\\lambda₂ + 2⋅\\lambd\n",
       "⎢                  ⅈ⋅⎜- ──────────── + ───────────────────────────────────────\n",
       "⎢                    ⎝       4                                           2    \n",
       "⎢                                                                             \n",
       "⎢  ⎛               2     2                                                    \n",
       "⎢ⅈ⋅⎝- 2⋅\\alpha₂⋅v_R  + k₁ ⋅(-√2⋅\\lambda₁ + 4⋅\\lambda₁ - 8⋅√2⋅\\lambda₂ + 16⋅\\la\n",
       "⎢─────────────────────────────────────────────────────────────────────────────\n",
       "⎢                                                              4              \n",
       "⎢                                                                             \n",
       "⎢                                                                             \n",
       "⎢                                                ⅈ⋅k₁⋅v_R⋅(\\alpha₁ + 2⋅\\alpha₂\n",
       "⎢                                                ─────────────────────────────\n",
       "⎢                                                              2              \n",
       "⎢                                                                             \n",
       "⎢                                                                             \n",
       "⎢                                                                             \n",
       "⎢                                                              0              \n",
       "⎣                                                                             \n",
       "\n",
       "                                                                   2     2    \n",
       "₃ - √2⋅\\lambda₄ + 6⋅\\lambda₄)                           \\alpha₂⋅v_R    k₁ ⋅(-4\n",
       "─────────────────────────────                         - ──────────── - ───────\n",
       "                                                             2                \n",
       "                                                                              \n",
       "                                                                              \n",
       "da₂ - 8⋅\\lambda₃ + 4⋅√2⋅\\lambda₃ - 4⋅\\lambda₄)                           \\alph\n",
       "──────────────────────────────────────────────                         - ─────\n",
       "                                                                              \n",
       "                                                                              \n",
       "                                                                              \n",
       "                                                                              \n",
       "                                                                              \n",
       "                                                                              \n",
       "                                                                              \n",
       "                                                                              \n",
       "                                                                              \n",
       "                                                                              \n",
       "                                                                              \n",
       "                                                                              \n",
       "                              ⎞                      ⎛               2     2  \n",
       "a₃ - √2⋅\\lambda₄ + 6⋅\\lambda₄)⎟                    ⅈ⋅⎝- 2⋅\\alpha₂⋅v_R  + k₁ ⋅(\n",
       "──────────────────────────────⎟                    ───────────────────────────\n",
       "                              ⎠                                               \n",
       "                                                                              \n",
       "                                                ⎞                      ⎛      \n",
       "mbda₂ - 4⋅√2⋅\\lambda₃ + 8⋅\\lambda₃ + 4⋅\\lambda₄)⎠                      ⎜  \\alp\n",
       "─────────────────────────────────────────────────                    ⅈ⋅⎜- ────\n",
       "                                                                       ⎝      \n",
       "                                                                              \n",
       "                                                                              \n",
       ")                                                                             \n",
       "─                                                                             \n",
       "                                                                              \n",
       "                                                                              \n",
       "                                                                              \n",
       "                                                                              \n",
       "                                                                              \n",
       "                                                                              \n",
       "\n",
       "                                                                              \n",
       "⋅\\lambda₁ + √2⋅\\lambda₁ - 16⋅\\lambda₂ + 8⋅√2⋅\\lambda₂ - 8⋅\\lambda₃ + 4⋅√2⋅\\lam\n",
       "──────────────────────────────────────────────────────────────────────────────\n",
       "                                            4                                 \n",
       "                                                                              \n",
       "      2     2                                                                 \n",
       "a₁⋅v_R    k₁ ⋅(2⋅\\lambda₁ + 4⋅\\lambda₂ + 2⋅\\lambda₃ - √2⋅\\lambda₄ + 6⋅\\lambda₄\n",
       "─────── + ────────────────────────────────────────────────────────────────────\n",
       "4                                           2                                 \n",
       "                                                                              \n",
       "                                                                              \n",
       "                      k₁⋅v_R⋅(\\alpha₁ + 2⋅\\alpha₂)                            \n",
       "                      ────────────────────────────                            \n",
       "                                   2                                          \n",
       "                                                                              \n",
       "                                                                              \n",
       "                                                                              \n",
       "                                   0                                          \n",
       "                                                                              \n",
       "                                                                              \n",
       "                                                                              \n",
       "-√2⋅\\lambda₁ + 4⋅\\lambda₁ - 8⋅√2⋅\\lambda₂ + 16⋅\\lambda₂ - 4⋅√2⋅\\lambda₃ + 8⋅\\l\n",
       "──────────────────────────────────────────────────────────────────────────────\n",
       "                                   4                                          \n",
       "                                                                              \n",
       "       2     2                                                                \n",
       "ha₁⋅v_R    k₁ ⋅(2⋅\\lambda₁ + 4⋅\\lambda₂ + 2⋅\\lambda₃ - √2⋅\\lambda₄ + 6⋅\\lambda\n",
       "──────── + ───────────────────────────────────────────────────────────────────\n",
       " 4                                           2                                \n",
       "                                                                              \n",
       "                                                                              \n",
       "                     ⅈ⋅k₁⋅v_R⋅(\\alpha₁ + 2⋅\\alpha₂)                           \n",
       "                     ──────────────────────────────                           \n",
       "                                   2                                          \n",
       "                                                                              \n",
       "                                                                              \n",
       "                                                                              \n",
       "                                   0                                          \n",
       "                                                                              \n",
       "\n",
       "                                                                              \n",
       "bda₃ - 4⋅\\lambda₄)                   k₁⋅v_R⋅(\\alpha₁ + 2⋅\\alpha₂)             \n",
       "──────────────────                   ────────────────────────────             \n",
       "                                                  2                           \n",
       "                                                                              \n",
       "                                                                              \n",
       ")                                    k₁⋅v_R⋅(\\alpha₁ + 2⋅\\alpha₂)             \n",
       "─                                    ────────────────────────────             \n",
       "                                                  2                           \n",
       "                                                                              \n",
       "                             2                            2                   \n",
       "                           k₁ ⋅(\\alpha₁ + 2⋅\\alpha₂)   v_R ⋅(3⋅\\rho₁ - \\rho₃) \n",
       "                         - ───────────────────────── + ────────────────────── \n",
       "                                       2                         2            \n",
       "                                                                              \n",
       "                                                                              \n",
       "                                                                              \n",
       "                                                  0                           \n",
       "                                                                              \n",
       "                                                                              \n",
       "                    ⎞                                                         \n",
       "ambda₃ + 4⋅\\lambda₄)⎠               ⅈ⋅k₁⋅v_R⋅(\\alpha₁ + 2⋅\\alpha₂)            \n",
       "─────────────────────               ──────────────────────────────            \n",
       "                                                  2                           \n",
       "                                                                              \n",
       "  ⎞                                                                           \n",
       "₄)⎟                                 ⅈ⋅k₁⋅v_R⋅(\\alpha₁ + 2⋅\\alpha₂)            \n",
       "──⎟                                 ──────────────────────────────            \n",
       "  ⎠                                               2                           \n",
       "                                                                              \n",
       "                             2                              2                 \n",
       "                         ⅈ⋅k₁ ⋅(\\alpha₁ + 2⋅\\alpha₂)   ⅈ⋅v_R ⋅(3⋅\\rho₁ - \\rho₃\n",
       "                       - ─────────────────────────── + ───────────────────────\n",
       "                                      2                           2           \n",
       "                                                                              \n",
       "                                                                              \n",
       "                                                                              \n",
       "                                                  0                           \n",
       "                                                                              \n",
       "\n",
       "                                                                     ⎛        \n",
       "                                                                     ⎜  \\alpha\n",
       "                        0                                          ⅈ⋅⎜- ──────\n",
       "                                                                     ⎝       4\n",
       "                                                                              \n",
       "                                                   ⎛               2     2    \n",
       "                                                 ⅈ⋅⎝- 2⋅\\alpha₂⋅v_R  + k₁ ⋅(-√\n",
       "                        0                        ─────────────────────────────\n",
       "                                                                              \n",
       "                                                                              \n",
       "                                                                              \n",
       "                                                                              \n",
       "                        0                                                     \n",
       "                                                                              \n",
       "                                                                              \n",
       "                2     2                                                       \n",
       "       \\rho₃⋅v_R    k₁ ⋅(\\alpha₁ + 2⋅\\alpha₂)                                 \n",
       "     - ────────── - ─────────────────────────                                 \n",
       "           4                    2                                             \n",
       "                                                                              \n",
       "                                                                              \n",
       "                                                                      \\alpha₁⋅\n",
       "                        0                                             ────────\n",
       "                                                                           4  \n",
       "                                                                              \n",
       "                                                                2     2       \n",
       "                                                     \\alpha₂⋅v_R    k₁ ⋅(-4⋅\\l\n",
       "                        0                            ──────────── + ──────────\n",
       "                                                          2                   \n",
       "                                                                              \n",
       "                                                                              \n",
       ")                                                                             \n",
       "─                       0                                                     \n",
       "                                                                              \n",
       "                                                                              \n",
       "                2       2                                                     \n",
       "     ⅈ⋅\\rho₃⋅v_R    ⅈ⋅k₁ ⋅(\\alpha₁ + 2⋅\\alpha₂)                               \n",
       "   - ──────────── - ───────────────────────────                               \n",
       "          4                      2                                            \n",
       "\n",
       "     2     2                                                                  \n",
       "₁⋅v_R    k₁ ⋅(2⋅\\lambda₁ + 4⋅\\lambda₂ + 2⋅\\lambda₃ - √2⋅\\lambda₄ + 6⋅\\lambda₄)\n",
       "────── + ─────────────────────────────────────────────────────────────────────\n",
       "                                           2                                  \n",
       "                                                                              \n",
       "                                                                              \n",
       "2⋅\\lambda₁ + 4⋅\\lambda₁ - 8⋅√2⋅\\lambda₂ + 16⋅\\lambda₂ - 4⋅√2⋅\\lambda₃ + 8⋅\\lam\n",
       "──────────────────────────────────────────────────────────────────────────────\n",
       "                                 4                                            \n",
       "                                                                              \n",
       "                                                                              \n",
       "                   ⅈ⋅k₁⋅v_R⋅(\\alpha₁ + 2⋅\\alpha₂)                             \n",
       "                   ──────────────────────────────                             \n",
       "                                 2                                            \n",
       "                                                                              \n",
       "                                                                              \n",
       "                                                                              \n",
       "                                 0                                            \n",
       "                                                                              \n",
       "                                                                              \n",
       "   2     2                                                                    \n",
       "v_R    k₁ ⋅(2⋅\\lambda₁ + 4⋅\\lambda₂ + 2⋅\\lambda₃ - √2⋅\\lambda₄ + 6⋅\\lambda₄)  \n",
       "──── - ─────────────────────────────────────────────────────────────────────  \n",
       "                                         2                                    \n",
       "                                                                              \n",
       "                                                                              \n",
       "ambda₁ + √2⋅\\lambda₁ - 16⋅\\lambda₂ + 8⋅√2⋅\\lambda₂ - 8⋅\\lambda₃ + 4⋅√2⋅\\lambda\n",
       "──────────────────────────────────────────────────────────────────────────────\n",
       "                                         4                                    \n",
       "                                                                              \n",
       "                                                                              \n",
       "                   -k₁⋅v_R⋅(\\alpha₁ + 2⋅\\alpha₂)                              \n",
       "                   ──────────────────────────────                             \n",
       "                                 2                                            \n",
       "                                                                              \n",
       "                                                                              \n",
       "                                                                              \n",
       "                                 0                                            \n",
       "                                                                              \n",
       "\n",
       "⎞                      ⎛               2     2                                \n",
       "⎟                    ⅈ⋅⎝- 2⋅\\alpha₂⋅v_R  + k₁ ⋅(-√2⋅\\lambda₁ + 4⋅\\lambda₁ - 8⋅\n",
       "⎟                    ─────────────────────────────────────────────────────────\n",
       "⎠                                                                             \n",
       "                                                                              \n",
       "                  ⎞                      ⎛             2     2                \n",
       "bda₃ + 4⋅\\lambda₄)⎠                      ⎜  \\alpha₁⋅v_R    k₁ ⋅(2⋅\\lambda₁ + 4\n",
       "───────────────────                    ⅈ⋅⎜- ──────────── + ───────────────────\n",
       "                                         ⎝       4                            \n",
       "                                                                              \n",
       "                                                                              \n",
       "                                                                     ⅈ⋅k₁⋅v_R⋅\n",
       "                                                                     ─────────\n",
       "                                                                              \n",
       "                                                                              \n",
       "                                                                              \n",
       "                                                                              \n",
       "                                                                              \n",
       "                                                                              \n",
       "                                                                              \n",
       "                                    2     2                                   \n",
       "                         \\alpha₂⋅v_R    k₁ ⋅(-4⋅\\lambda₁ + √2⋅\\lambda₁ - 16⋅\\l\n",
       "                         ──────────── + ──────────────────────────────────────\n",
       "                              2                                               \n",
       "                                                                              \n",
       "                                                     2     2                  \n",
       "₃ - 4⋅\\lambda₄)                           \\alpha₁⋅v_R    k₁ ⋅(2⋅\\lambda₁ + 4⋅\\\n",
       "───────────────                           ──────────── - ─────────────────────\n",
       "                                               4                              \n",
       "                                                                              \n",
       "                                                                              \n",
       "                                                                     -k₁⋅v_R⋅(\n",
       "                                                                     ─────────\n",
       "                                                                              \n",
       "                                                                              \n",
       "                                                                              \n",
       "                                                                              \n",
       "                                                                              \n",
       "                                                                              \n",
       "\n",
       "                                                                    ⎞         \n",
       "√2⋅\\lambda₂ + 16⋅\\lambda₂ - 4⋅√2⋅\\lambda₃ + 8⋅\\lambda₃ + 4⋅\\lambda₄)⎠         \n",
       "─────────────────────────────────────────────────────────────────────         \n",
       "     4                                                                        \n",
       "                                                                              \n",
       "                                                  ⎞                           \n",
       "⋅\\lambda₂ + 2⋅\\lambda₃ - √2⋅\\lambda₄ + 6⋅\\lambda₄)⎟                           \n",
       "──────────────────────────────────────────────────⎟                           \n",
       "               2                                  ⎠                           \n",
       "                                                                              \n",
       "                                                                             2\n",
       "(\\alpha₁ + 2⋅\\alpha₂)                                                    ⅈ⋅k₁ \n",
       "─────────────────────                                                  - ─────\n",
       "     2                                                                        \n",
       "                                                                              \n",
       "                                                                              \n",
       "                                                                              \n",
       "     0                                                                        \n",
       "                                                                              \n",
       "                                                                              \n",
       "                                                                              \n",
       "ambda₂ + 8⋅√2⋅\\lambda₂ - 8⋅\\lambda₃ + 4⋅√2⋅\\lambda₃ - 4⋅\\lambda₄)             \n",
       "─────────────────────────────────────────────────────────────────             \n",
       "             4                                                                \n",
       "                                                                              \n",
       "                                                                              \n",
       "lambda₂ + 2⋅\\lambda₃ - √2⋅\\lambda₄ + 6⋅\\lambda₄)                              \n",
       "────────────────────────────────────────────────                              \n",
       "             2                                                                \n",
       "                                                                              \n",
       "                                                                            2 \n",
       "\\alpha₁ + 2⋅\\alpha₂)                                                      k₁ ⋅\n",
       "─────────────────────                                                     ────\n",
       "     2                                                                        \n",
       "                                                                              \n",
       "                                                                              \n",
       "                                                                              \n",
       "     0                                                                        \n",
       "                                                                              \n",
       "\n",
       "                                                                              \n",
       "      ⅈ⋅k₁⋅v_R⋅(\\alpha₁ + 2⋅\\alpha₂)                                          \n",
       "      ──────────────────────────────                                    0     \n",
       "                    2                                                         \n",
       "                                                                              \n",
       "                                                                              \n",
       "      ⅈ⋅k₁⋅v_R⋅(\\alpha₁ + 2⋅\\alpha₂)                                          \n",
       "      ──────────────────────────────                                    0     \n",
       "                    2                                                         \n",
       "                                                                              \n",
       "                              2                                               \n",
       "⋅(\\alpha₁ + 2⋅\\alpha₂)   ⅈ⋅v_R ⋅(3⋅\\rho₁ - \\rho₃)                             \n",
       "────────────────────── + ────────────────────────                       0     \n",
       "        2                           2                                         \n",
       "                                                                              \n",
       "                                                                2       2     \n",
       "                                                     ⅈ⋅\\rho₃⋅v_R    ⅈ⋅k₁ ⋅(\\al\n",
       "                    0                              - ──────────── - ──────────\n",
       "                                                          4                   \n",
       "                                                                              \n",
       "                                                                              \n",
       "      -k₁⋅v_R⋅(\\alpha₁ + 2⋅\\alpha₂)                                           \n",
       "      ──────────────────────────────                                    0     \n",
       "                    2                                                         \n",
       "                                                                              \n",
       "                                                                              \n",
       "      -k₁⋅v_R⋅(\\alpha₁ + 2⋅\\alpha₂)                                           \n",
       "      ──────────────────────────────                                    0     \n",
       "                    2                                                         \n",
       "                                                                              \n",
       "                           2                                                  \n",
       "(\\alpha₁ + 2⋅\\alpha₂)   v_R ⋅(3⋅\\rho₁ - \\rho₃)                                \n",
       "───────────────────── - ──────────────────────                          0     \n",
       "        2                         2                                           \n",
       "                                                                              \n",
       "                                                               2     2        \n",
       "                                                      \\rho₃⋅v_R    k₁ ⋅(\\alpha\n",
       "                    0                                 ────────── + ───────────\n",
       "                                                          4                   \n",
       "\n",
       "                 ⎤\n",
       "                 ⎥\n",
       "                 ⎥\n",
       "                 ⎥\n",
       "                 ⎥\n",
       "                 ⎥\n",
       "                 ⎥\n",
       "                 ⎥\n",
       "                 ⎥\n",
       "                 ⎥\n",
       "                 ⎥\n",
       "                 ⎥\n",
       "                 ⎥\n",
       "                 ⎥\n",
       "                 ⎥\n",
       "                 ⎥\n",
       "pha₁ + 2⋅\\alpha₂)⎥\n",
       "─────────────────⎥\n",
       "   2             ⎥\n",
       "                 ⎥\n",
       "                 ⎥\n",
       "                 ⎥\n",
       "                 ⎥\n",
       "                 ⎥\n",
       "                 ⎥\n",
       "                 ⎥\n",
       "                 ⎥\n",
       "                 ⎥\n",
       "                 ⎥\n",
       "                 ⎥\n",
       "                 ⎥\n",
       "                 ⎥\n",
       "                 ⎥\n",
       "                 ⎥\n",
       "                 ⎥\n",
       "                 ⎥\n",
       "₁ + 2⋅\\alpha₂)   ⎥\n",
       "──────────────   ⎥\n",
       " 2               ⎦"
      ]
     },
     "execution_count": 164,
     "metadata": {},
     "output_type": "execute_result"
    }
   ],
   "source": [
    "MRI_square.subs(beta2, beta1).subs(beta1, 0).subs(vL, 0).applyfunc(lambda x: x.collect(k1, factor))"
   ]
  },
  {
   "cell_type": "code",
   "execution_count": 151,
   "metadata": {},
   "outputs": [
    {
     "data": {
      "image/png": "[encoded data removed]",
      "text/latex": [
       "$\\displaystyle \\left\\{ \\delta^{+}_{L} : 0, \\  \\delta^{0}_{L} : v_{L}, \\  \\delta_L^{++} : 0, \\  \\delta_L^{0i} : 0, \\  \\delta_L^{0r} : v_{L}\\right\\}$"
      ],
      "text/plain": [
       "{\\delta_L__+: 0, \\delta_L__0: v_L, \\delta_L__{++}: 0, \\delta_L__{0i}: 0, \\delt\n",
       "a_L__{0r}: v_L}"
      ]
     },
     "execution_count": 151,
     "metadata": {},
     "output_type": "execute_result"
    }
   ],
   "source": [
    "vevL"
   ]
  },
  {
   "cell_type": "code",
   "execution_count": 152,
   "metadata": {},
   "outputs": [],
   "source": [
    "vevL[deltaLmm] = 0\n",
    "vevL[deltaRmm] = 0\n",
    "vevL[deltaLm] = 0\n",
    "vevL[deltaRm] = 0"
   ]
  },
  {
   "cell_type": "code",
   "execution_count": 155,
   "metadata": {},
   "outputs": [
    {
     "data": {
      "text/latex": [
       "$\\displaystyle \\left[\\begin{matrix}\\frac{\\alpha_{1} v_{L}^{2}}{2} - \\frac{\\alpha_{1} v_{R}^{2}}{2} - \\sqrt{2} \\lambda_{4} k_{1}^{2} + 2 \\lambda_{4} k_{1}^{2} & 0 & \\frac{\\sqrt{2} k_{1} v_{L} \\left(- \\beta_{1} - \\beta_{2}\\right)}{4} & \\frac{\\sqrt{2} k_{1} v_{R} \\left(\\beta_{1} + \\beta_{2}\\right)}{4}\\\\0 & \\frac{\\alpha_{1} v_{L}^{2}}{2} - \\frac{\\alpha_{1} v_{R}^{2}}{2} - \\sqrt{2} \\lambda_{4} k_{1}^{2} + 2 \\lambda_{4} k_{1}^{2} & \\frac{\\sqrt{2} k_{1} v_{L} \\left(\\beta_{1} + \\beta_{2}\\right)}{4} & \\frac{\\sqrt{2} k_{1} v_{R} \\left(- \\beta_{1} - \\beta_{2}\\right)}{4}\\\\\\frac{\\sqrt{2} k_{1} v_{L} \\left(- \\beta_{1} - \\beta_{2}\\right)}{4} & \\frac{\\sqrt{2} k_{1} v_{L} \\left(\\beta_{1} + \\beta_{2}\\right)}{4} & - \\alpha_{1} k_{1}^{2} - 2 \\alpha_{2} k_{1}^{2} + \\rho_{1} v_{R}^{2} - \\frac{\\rho_{3} v_{L}^{2}}{2} - \\rho_{3} v_{R}^{2} - \\frac{\\sqrt{2} \\beta_{1} k_{1}^{2} v_{L}}{v_{R}} - \\frac{\\sqrt{2} \\beta_{1} k_{1}^{2} v_{R}}{v_{L}} - \\frac{2 \\sqrt{2} \\beta_{2} k_{1}^{2} v_{L}}{v_{R}} - \\frac{2 \\sqrt{2} \\beta_{2} k_{1}^{2} v_{R}}{v_{L}} & k_{1}^{2} \\left(\\frac{\\beta_{1}}{2} + \\beta_{2}\\right)\\\\\\frac{\\sqrt{2} k_{1} v_{R} \\left(\\beta_{1} + \\beta_{2}\\right)}{4} & \\frac{\\sqrt{2} k_{1} v_{R} \\left(- \\beta_{1} - \\beta_{2}\\right)}{4} & k_{1}^{2} \\left(\\frac{\\beta_{1}}{2} + \\beta_{2}\\right) & - \\alpha_{1} k_{1}^{2} - 2 \\alpha_{2} k_{1}^{2} + \\rho_{1} v_{L}^{2} - \\rho_{3} v_{L}^{2} - \\frac{\\rho_{3} v_{R}^{2}}{2} - \\frac{\\sqrt{2} \\beta_{1} k_{1}^{2} v_{L}}{v_{R}} - \\frac{\\sqrt{2} \\beta_{1} k_{1}^{2} v_{R}}{v_{L}} - \\frac{2 \\sqrt{2} \\beta_{2} k_{1}^{2} v_{L}}{v_{R}} - \\frac{2 \\sqrt{2} \\beta_{2} k_{1}^{2} v_{R}}{v_{L}}\\end{matrix}\\right]$"
      ],
      "text/plain": [
       "⎡           2              2                                                  \n",
       "⎢\\alpha₁⋅v_L    \\alpha₁⋅v_R                  2                2               \n",
       "⎢──────────── - ──────────── - √2⋅\\lambda₄⋅k₁  + 2⋅\\lambda₄⋅k₁                \n",
       "⎢     2              2                                                        \n",
       "⎢                                                                             \n",
       "⎢                                                                           2 \n",
       "⎢                                                                \\alpha₁⋅v_L  \n",
       "⎢                              0                                 ──────────── \n",
       "⎢                                                                     2       \n",
       "⎢                                                                             \n",
       "⎢                                                                             \n",
       "⎢                     √2⋅k₁⋅v_L⋅(-β₁ - β₂)                                    \n",
       "⎢                     ────────────────────                                    \n",
       "⎢                              4                                              \n",
       "⎢                                                                             \n",
       "⎢                                                                             \n",
       "⎢                     √2⋅k₁⋅v_R⋅(β₁ + β₂)                                     \n",
       "⎢                     ───────────────────                                     \n",
       "⎣                              4                                              \n",
       "\n",
       "                                                                              \n",
       "                                                                              \n",
       "                 0                                                            \n",
       "                                                                              \n",
       "                                                                              \n",
       "             2                                                                \n",
       "  \\alpha₁⋅v_R                  2                2                             \n",
       "- ──────────── - √2⋅\\lambda₄⋅k₁  + 2⋅\\lambda₄⋅k₁                              \n",
       "       2                                                                      \n",
       "                                                                              \n",
       "                                                                              \n",
       "        √2⋅k₁⋅v_L⋅(β₁ + β₂)                                    2              \n",
       "        ───────────────────                        - \\alpha₁⋅k₁  - 2⋅\\alpha₂⋅k\n",
       "                 4                                                            \n",
       "                                                                              \n",
       "                                                                              \n",
       "        √2⋅k₁⋅v_R⋅(-β₁ - β₂)                                                  \n",
       "        ────────────────────                                                  \n",
       "                 4                                                            \n",
       "\n",
       "                                                                              \n",
       "                               √2⋅k₁⋅v_L⋅(-β₁ - β₂)                           \n",
       "                               ────────────────────                           \n",
       "                                        4                                     \n",
       "                                                                              \n",
       "                                                                              \n",
       "                               √2⋅k₁⋅v_L⋅(β₁ + β₂)                            \n",
       "                               ───────────────────                            \n",
       "                                        4                                     \n",
       "                                                                              \n",
       "                           2                        2               2         \n",
       " 2            2   \\rho₃⋅v_L             2   √2⋅β₁⋅k₁ ⋅v_L   √2⋅β₁⋅k₁ ⋅v_R   2⋅\n",
       "₁  + \\rho₁⋅v_R  - ────────── - \\rho₃⋅v_R  - ───────────── - ───────────── - ──\n",
       "                      2                          v_R             v_L          \n",
       "                                                                              \n",
       "                                                                              \n",
       "                                    2 ⎛β₁     ⎞                               \n",
       "                                  k₁ ⋅⎜── + β₂⎟                               \n",
       "                                      ⎝2      ⎠                               \n",
       "\n",
       "                                                                              \n",
       "                                                                              \n",
       "                                                                              \n",
       "                                                                              \n",
       "                                                                              \n",
       "                                                                              \n",
       "                                                                              \n",
       "                                                                              \n",
       "                                                                              \n",
       "                                                                              \n",
       "        2                 2                                                   \n",
       "√2⋅β₂⋅k₁ ⋅v_L   2⋅√2⋅β₂⋅k₁ ⋅v_R                                               \n",
       "───────────── - ───────────────                                               \n",
       "    v_R               v_L                                                     \n",
       "                                                                              \n",
       "                                                                              \n",
       "                                             2               2            2   \n",
       "                                 - \\alpha₁⋅k₁  - 2⋅\\alpha₂⋅k₁  + \\rho₁⋅v_L  - \n",
       "                                                                              \n",
       "\n",
       "                                                                              \n",
       "             √2⋅k₁⋅v_R⋅(β₁ + β₂)                                              \n",
       "             ───────────────────                                              \n",
       "                      4                                                       \n",
       "                                                                              \n",
       "                                                                              \n",
       "             √2⋅k₁⋅v_R⋅(-β₁ - β₂)                                             \n",
       "             ────────────────────                                             \n",
       "                      4                                                       \n",
       "                                                                              \n",
       "                                                                              \n",
       "                  2 ⎛β₁     ⎞                                                 \n",
       "                k₁ ⋅⎜── + β₂⎟                                                 \n",
       "                    ⎝2      ⎠                                                 \n",
       "                                                                              \n",
       "                      2           2               2                 2         \n",
       "         2   \\rho₃⋅v_R    √2⋅β₁⋅k₁ ⋅v_L   √2⋅β₁⋅k₁ ⋅v_R   2⋅√2⋅β₂⋅k₁ ⋅v_L   2⋅\n",
       "\\rho₃⋅v_L  - ────────── - ───────────── - ───────────── - ─────────────── - ──\n",
       "                 2             v_R             v_L              v_R           \n",
       "\n",
       "             ⎤\n",
       "             ⎥\n",
       "             ⎥\n",
       "             ⎥\n",
       "             ⎥\n",
       "             ⎥\n",
       "             ⎥\n",
       "             ⎥\n",
       "             ⎥\n",
       "             ⎥\n",
       "             ⎥\n",
       "             ⎥\n",
       "             ⎥\n",
       "             ⎥\n",
       "             ⎥\n",
       "        2    ⎥\n",
       "√2⋅β₂⋅k₁ ⋅v_R⎥\n",
       "─────────────⎥\n",
       "    v_L      ⎦"
      ]
     },
     "execution_count": 155,
     "metadata": {},
     "output_type": "execute_result"
    }
   ],
   "source": [
    "phip_fields = [phi1p, phi2p, deltaRp, deltaLp]\n",
    "phim_fields = [phi1m, phi2m, deltaRm, deltaLm]\n",
    "Mp_square = (derive_by_array(derive_by_array(VLRPhi_ri_tadpole, phim_fields), phip_fields)).subs(\n",
    "    vevPhi\n",
    ").subs(vevL).subs(vevR).subs(caso_k1k2_vL).simplify()\n",
    "Mp_square"
   ]
  },
  {
   "cell_type": "code",
   "execution_count": 191,
   "metadata": {},
   "outputs": [
    {
     "data": {
      "text/latex": [
       "$\\displaystyle \\left[\\begin{matrix}\\frac{\\alpha_{1} v_{L}^{2}}{2} - \\frac{\\alpha_{1} v_{R}^{2}}{2} - \\sqrt{2} \\lambda_{4} k_{1}^{2} + 2 \\lambda_{4} k_{1}^{2} & 0 & 0 & 0\\\\0 & \\frac{\\alpha_{1} v_{L}^{2}}{2} - \\frac{\\alpha_{1} v_{R}^{2}}{2} - \\sqrt{2} \\lambda_{4} k_{1}^{2} + 2 \\lambda_{4} k_{1}^{2} & 0 & 0\\\\0 & 0 & - \\alpha_{1} k_{1}^{2} - 2 \\alpha_{2} k_{1}^{2} + \\rho_{1} v_{R}^{2} - \\frac{\\rho_{3} v_{L}^{2}}{2} - \\rho_{3} v_{R}^{2} & 0\\\\0 & 0 & 0 & - \\alpha_{1} k_{1}^{2} - 2 \\alpha_{2} k_{1}^{2} + \\rho_{1} v_{L}^{2} - \\rho_{3} v_{L}^{2} - \\frac{\\rho_{3} v_{R}^{2}}{2}\\end{matrix}\\right]$"
      ],
      "text/plain": [
       "⎡           2              2                                                  \n",
       "⎢\\alpha₁⋅v_L    \\alpha₁⋅v_R                  2                2               \n",
       "⎢──────────── - ──────────── - √2⋅\\lambda₄⋅k₁  + 2⋅\\lambda₄⋅k₁                \n",
       "⎢     2              2                                                        \n",
       "⎢                                                                             \n",
       "⎢                                                                           2 \n",
       "⎢                                                                \\alpha₁⋅v_L  \n",
       "⎢                              0                                 ──────────── \n",
       "⎢                                                                     2       \n",
       "⎢                                                                             \n",
       "⎢                                                                             \n",
       "⎢                                                                             \n",
       "⎢                              0                                              \n",
       "⎢                                                                             \n",
       "⎢                                                                             \n",
       "⎢                                                                             \n",
       "⎢                                                                             \n",
       "⎢                              0                                              \n",
       "⎣                                                                             \n",
       "\n",
       "                                                                              \n",
       "                                                                              \n",
       "                 0                                                            \n",
       "                                                                              \n",
       "                                                                              \n",
       "             2                                                                \n",
       "  \\alpha₁⋅v_R                  2                2                             \n",
       "- ──────────── - √2⋅\\lambda₄⋅k₁  + 2⋅\\lambda₄⋅k₁                              \n",
       "       2                                                                      \n",
       "                                                                              \n",
       "                                                                              \n",
       "                                                               2              \n",
       "                 0                                 - \\alpha₁⋅k₁  - 2⋅\\alpha₂⋅k\n",
       "                                                                              \n",
       "                                                                              \n",
       "                                                                              \n",
       "                                                                              \n",
       "                 0                                                            \n",
       "                                                                              \n",
       "\n",
       "                                                                              \n",
       "                                                                              \n",
       "      0                                                                     0 \n",
       "                                                                              \n",
       "                                                                              \n",
       "                                                                              \n",
       "                                                                              \n",
       "      0                                                                     0 \n",
       "                                                                              \n",
       "                                                                              \n",
       "                           2                                                  \n",
       " 2            2   \\rho₃⋅v_L             2                                     \n",
       "₁  + \\rho₁⋅v_R  - ────────── - \\rho₃⋅v_R                                    0 \n",
       "                      2                                                       \n",
       "                                                                              \n",
       "                                                                              \n",
       "                                                       2               2      \n",
       "      0                                    - \\alpha₁⋅k₁  - 2⋅\\alpha₂⋅k₁  + \\rh\n",
       "                                                                              \n",
       "\n",
       "                                 ⎤\n",
       "                                 ⎥\n",
       "                                 ⎥\n",
       "                                 ⎥\n",
       "                                 ⎥\n",
       "                                 ⎥\n",
       "                                 ⎥\n",
       "                                 ⎥\n",
       "                                 ⎥\n",
       "                                 ⎥\n",
       "                                 ⎥\n",
       "                                 ⎥\n",
       "                                 ⎥\n",
       "                                 ⎥\n",
       "                                 ⎥\n",
       "                                2⎥\n",
       "      2            2   \\rho₃⋅v_R ⎥\n",
       "o₁⋅v_L  - \\rho₃⋅v_L  - ──────────⎥\n",
       "                           2     ⎦"
      ]
     },
     "execution_count": 191,
     "metadata": {},
     "output_type": "execute_result"
    }
   ],
   "source": [
    "Mp_square.subs(beta2, beta1).subs(beta1, 0)#.subs(vL, 0)"
   ]
  },
  {
   "cell_type": "code",
   "execution_count": 180,
   "metadata": {},
   "outputs": [],
   "source": [
    "Pp, Dp = Mp_square.subs(beta2, beta1).subs(beta1, 0).subs(vL, 0).tomatrix().diagonalize()"
   ]
  },
  {
   "cell_type": "code",
   "execution_count": 181,
   "metadata": {},
   "outputs": [
    {
     "data": {
      "text/latex": [
       "$\\displaystyle \\left[\\begin{matrix}0 & 1 & 0 & 0\\\\0 & 0 & 1 & 0\\\\0 & 0 & 0 & 1\\\\1 & 0 & 0 & 0\\end{matrix}\\right]$"
      ],
      "text/plain": [
       "⎡0  1  0  0⎤\n",
       "⎢          ⎥\n",
       "⎢0  0  1  0⎥\n",
       "⎢          ⎥\n",
       "⎢0  0  0  1⎥\n",
       "⎢          ⎥\n",
       "⎣1  0  0  0⎦"
      ]
     },
     "execution_count": 181,
     "metadata": {},
     "output_type": "execute_result"
    }
   ],
   "source": [
    "Pp"
   ]
  },
  {
   "cell_type": "code",
   "execution_count": 184,
   "metadata": {},
   "outputs": [
    {
     "data": {
      "text/latex": [
       "$\\displaystyle \\left[\\begin{matrix}0 & 0 & 0 & 1\\\\1 & 0 & 0 & 0\\\\0 & 1 & 0 & 0\\\\0 & 0 & 1 & 0\\end{matrix}\\right]$"
      ],
      "text/plain": [
       "⎡0  0  0  1⎤\n",
       "⎢          ⎥\n",
       "⎢1  0  0  0⎥\n",
       "⎢          ⎥\n",
       "⎢0  1  0  0⎥\n",
       "⎢          ⎥\n",
       "⎣0  0  1  0⎦"
      ]
     },
     "execution_count": 184,
     "metadata": {},
     "output_type": "execute_result"
    }
   ],
   "source": [
    "Ppinv = Pp.inv()\n",
    "Ppinv"
   ]
  },
  {
   "cell_type": "code",
   "execution_count": 185,
   "metadata": {},
   "outputs": [
    {
     "data": {
      "text/latex": [
       "$\\displaystyle \\left[\\begin{matrix}1 & 0 & 0 & 0\\\\0 & 1 & 0 & 0\\\\0 & 0 & 1 & 0\\\\0 & 0 & 0 & 1\\end{matrix}\\right]$"
      ],
      "text/plain": [
       "⎡1  0  0  0⎤\n",
       "⎢          ⎥\n",
       "⎢0  1  0  0⎥\n",
       "⎢          ⎥\n",
       "⎢0  0  1  0⎥\n",
       "⎢          ⎥\n",
       "⎣0  0  0  1⎦"
      ]
     },
     "execution_count": 185,
     "metadata": {},
     "output_type": "execute_result"
    }
   ],
   "source": [
    "Pp*Ppinv"
   ]
  },
  {
   "cell_type": "code",
   "execution_count": 182,
   "metadata": {},
   "outputs": [
    {
     "data": {
      "text/latex": [
       "$\\displaystyle \\left[\\begin{matrix}- \\frac{2 \\alpha_{1} k_{1}^{2} + 4 \\alpha_{2} k_{1}^{2} + \\rho_{3} v_{R}^{2}}{2} & 0 & 0 & 0\\\\0 & - \\frac{\\alpha_{1} v_{R}^{2}}{2} - \\sqrt{2} \\lambda_{4} k_{1}^{2} + 2 \\lambda_{4} k_{1}^{2} & 0 & 0\\\\0 & 0 & - \\frac{\\alpha_{1} v_{R}^{2}}{2} - \\sqrt{2} \\lambda_{4} k_{1}^{2} + 2 \\lambda_{4} k_{1}^{2} & 0\\\\0 & 0 & 0 & - \\alpha_{1} k_{1}^{2} - 2 \\alpha_{2} k_{1}^{2} + \\rho_{1} v_{R}^{2} - \\rho_{3} v_{R}^{2}\\end{matrix}\\right]$"
      ],
      "text/plain": [
       "⎡ ⎛            2               2            2⎞                                \n",
       "⎢-⎝2⋅\\alpha₁⋅k₁  + 4⋅\\alpha₂⋅k₁  + \\rho₃⋅v_R ⎠                                \n",
       "⎢──────────────────────────────────────────────                          0    \n",
       "⎢                      2                                                      \n",
       "⎢                                                                             \n",
       "⎢                                                             2               \n",
       "⎢                                                  \\alpha₁⋅v_R                \n",
       "⎢                      0                         - ──────────── - √2⋅\\lambda₄⋅\n",
       "⎢                                                       2                     \n",
       "⎢                                                                             \n",
       "⎢                                                                             \n",
       "⎢                                                                             \n",
       "⎢                      0                                                 0    \n",
       "⎢                                                                             \n",
       "⎢                                                                             \n",
       "⎢                                                                             \n",
       "⎣                      0                                                 0    \n",
       "\n",
       "                                                                              \n",
       "                                                                              \n",
       "                                              0                               \n",
       "                                                                              \n",
       "                                                                              \n",
       "                                                                              \n",
       "  2                2                                                          \n",
       "k₁  + 2⋅\\lambda₄⋅k₁                           0                               \n",
       "                                                                              \n",
       "                                                                              \n",
       "                                   2                                          \n",
       "                        \\alpha₁⋅v_R                  2                2       \n",
       "                      - ──────────── - √2⋅\\lambda₄⋅k₁  + 2⋅\\lambda₄⋅k₁        \n",
       "                             2                                                \n",
       "                                                                              \n",
       "                                                                              \n",
       "                                              0                          - \\al\n",
       "\n",
       "                                                  ⎤\n",
       "                                                  ⎥\n",
       "                      0                           ⎥\n",
       "                                                  ⎥\n",
       "                                                  ⎥\n",
       "                                                  ⎥\n",
       "                                                  ⎥\n",
       "                      0                           ⎥\n",
       "                                                  ⎥\n",
       "                                                  ⎥\n",
       "                                                  ⎥\n",
       "                                                  ⎥\n",
       "                      0                           ⎥\n",
       "                                                  ⎥\n",
       "                                                  ⎥\n",
       "       2               2            2            2⎥\n",
       "pha₁⋅k₁  - 2⋅\\alpha₂⋅k₁  + \\rho₁⋅v_R  - \\rho₃⋅v_R ⎦"
      ]
     },
     "execution_count": 182,
     "metadata": {},
     "output_type": "execute_result"
    }
   ],
   "source": [
    "Dp"
   ]
  },
  {
   "cell_type": "code",
   "execution_count": 187,
   "metadata": {},
   "outputs": [
    {
     "data": {
      "text/latex": [
       "$\\displaystyle \\left[\\begin{matrix}- \\alpha_{1} k_{1}^{2} - 2 \\alpha_{2} k_{1}^{2} + \\rho_{1} v_{R}^{2} - \\rho_{3} v_{R}^{2} & 0 & 0 & 0\\\\0 & - \\frac{2 \\alpha_{1} k_{1}^{2} + 4 \\alpha_{2} k_{1}^{2} + \\rho_{3} v_{R}^{2}}{2} & 0 & 0\\\\0 & 0 & - \\frac{\\alpha_{1} v_{R}^{2}}{2} - \\sqrt{2} \\lambda_{4} k_{1}^{2} + 2 \\lambda_{4} k_{1}^{2} & 0\\\\0 & 0 & 0 & - \\frac{\\alpha_{1} v_{R}^{2}}{2} - \\sqrt{2} \\lambda_{4} k_{1}^{2} + 2 \\lambda_{4} k_{1}^{2}\\end{matrix}\\right]$"
      ],
      "text/plain": [
       "⎡            2               2            2            2                      \n",
       "⎢- \\alpha₁⋅k₁  - 2⋅\\alpha₂⋅k₁  + \\rho₁⋅v_R  - \\rho₃⋅v_R                       \n",
       "⎢                                                                             \n",
       "⎢                                                          ⎛            2     \n",
       "⎢                                                         -⎝2⋅\\alpha₁⋅k₁  + 4⋅\n",
       "⎢                           0                             ────────────────────\n",
       "⎢                                                                             \n",
       "⎢                                                                             \n",
       "⎢                                                                             \n",
       "⎢                                                                             \n",
       "⎢                           0                                                 \n",
       "⎢                                                                             \n",
       "⎢                                                                             \n",
       "⎢                                                                             \n",
       "⎢                                                                             \n",
       "⎢                           0                                                 \n",
       "⎣                                                                             \n",
       "\n",
       "                                                                              \n",
       "  0                                                 0                         \n",
       "                                                                              \n",
       "          2            2⎞                                                     \n",
       "\\alpha₂⋅k₁  + \\rho₃⋅v_R ⎠                                                     \n",
       "──────────────────────────                          0                         \n",
       "  2                                                                           \n",
       "                                                                              \n",
       "                                         2                                    \n",
       "                              \\alpha₁⋅v_R                  2                2 \n",
       "  0                         - ──────────── - √2⋅\\lambda₄⋅k₁  + 2⋅\\lambda₄⋅k₁  \n",
       "                                   2                                          \n",
       "                                                                              \n",
       "                                                                              \n",
       "                                                                              \n",
       "  0                                                 0                         \n",
       "                                                                              \n",
       "\n",
       "                                                  ⎤\n",
       "                         0                        ⎥\n",
       "                                                  ⎥\n",
       "                                                  ⎥\n",
       "                                                  ⎥\n",
       "                         0                        ⎥\n",
       "                                                  ⎥\n",
       "                                                  ⎥\n",
       "                                                  ⎥\n",
       "                                                  ⎥\n",
       "                         0                        ⎥\n",
       "                                                  ⎥\n",
       "                                                  ⎥\n",
       "              2                                   ⎥\n",
       "   \\alpha₁⋅v_R                  2                2⎥\n",
       " - ──────────── - √2⋅\\lambda₄⋅k₁  + 2⋅\\lambda₄⋅k₁ ⎥\n",
       "        2                                         ⎦"
      ]
     },
     "execution_count": 187,
     "metadata": {},
     "output_type": "execute_result"
    }
   ],
   "source": [
    "Ppinv*Dp*Pp"
   ]
  },
  {
   "cell_type": "code",
   "execution_count": 159,
   "metadata": {},
   "outputs": [
    {
     "data": {
      "text/latex": [
       "$\\displaystyle \\left[\\begin{matrix}- \\frac{\\rho_{3} v_{L}^{2}}{2} - \\frac{\\sqrt{2} k_{1}^{2} v_{L} \\left(\\beta_{1} + 2 \\beta_{2}\\right)}{v_{R}} - k_{1}^{2} \\left(\\alpha_{1} + 2 \\alpha_{2}\\right) - \\frac{\\sqrt{2} k_{1}^{2} v_{R} \\left(\\beta_{1} + 2 \\beta_{2}\\right)}{v_{L}} + v_{R}^{2} \\left(\\rho_{1} + 2 \\rho_{2} - \\rho_{3}\\right) & 2 \\rho_{4} v_{L} v_{R} + \\frac{k_{1}^{2} \\left(\\beta_{1} + 2 \\beta_{2}\\right)}{2}\\\\2 \\rho_{4} v_{L} v_{R} + \\frac{k_{1}^{2} \\left(\\beta_{1} + 2 \\beta_{2}\\right)}{2} & - \\frac{\\rho_{3} v_{R}^{2}}{2} - \\frac{\\sqrt{2} k_{1}^{2} v_{L} \\left(\\beta_{1} + 2 \\beta_{2}\\right)}{v_{R}} - k_{1}^{2} \\left(\\alpha_{1} + 2 \\alpha_{2}\\right) - \\frac{\\sqrt{2} k_{1}^{2} v_{R} \\left(\\beta_{1} + 2 \\beta_{2}\\right)}{v_{L}} + v_{L}^{2} \\left(\\rho_{1} + 2 \\rho_{2} - \\rho_{3}\\right)\\end{matrix}\\right]$"
      ],
      "text/plain": [
       "⎡           2        2                                                    2   \n",
       "⎢  \\rho₃⋅v_L    √2⋅k₁ ⋅v_L⋅(β₁ + 2⋅β₂)     2                         √2⋅k₁ ⋅v_\n",
       "⎢- ────────── - ────────────────────── - k₁ ⋅(\\alpha₁ + 2⋅\\alpha₂) - ─────────\n",
       "⎢      2                 v_R                                                  \n",
       "⎢                                                                             \n",
       "⎢                                                                 2           \n",
       "⎢                                                               k₁ ⋅(β₁ + 2⋅β₂\n",
       "⎢                                             2⋅\\rho₄⋅v_L⋅v_R + ──────────────\n",
       "⎣                                                                      2      \n",
       "\n",
       "                                                                              \n",
       "R⋅(β₁ + 2⋅β₂)      2                                                          \n",
       "───────────── + v_R ⋅(\\rho₁ + 2⋅\\rho₂ - \\rho₃)                                \n",
       "v_L                                                                           \n",
       "                                                                              \n",
       "                                                           2        2         \n",
       ")                                                 \\rho₃⋅v_R    √2⋅k₁ ⋅v_L⋅(β₁ \n",
       "─                                               - ────────── - ───────────────\n",
       "                                                      2                 v_R   \n",
       "\n",
       "                                   2                                          \n",
       "                                 k₁ ⋅(β₁ + 2⋅β₂)                              \n",
       "               2⋅\\rho₄⋅v_L⋅v_R + ───────────────                              \n",
       "                                        2                                     \n",
       "                                                                              \n",
       "                                           2                                  \n",
       "+ 2⋅β₂)     2                         √2⋅k₁ ⋅v_R⋅(β₁ + 2⋅β₂)      2           \n",
       "─────── - k₁ ⋅(\\alpha₁ + 2⋅\\alpha₂) - ────────────────────── + v_L ⋅(\\rho₁ + 2\n",
       "                                               v_L                            \n",
       "\n",
       "               ⎤\n",
       "               ⎥\n",
       "               ⎥\n",
       "               ⎥\n",
       "               ⎥\n",
       "               ⎥\n",
       "               ⎥\n",
       "⋅\\rho₂ - \\rho₃)⎥\n",
       "               ⎦"
      ]
     },
     "execution_count": 159,
     "metadata": {},
     "output_type": "execute_result"
    }
   ],
   "source": [
    "phipp_fields = [deltaRpp, deltaLpp]\n",
    "phippc_fields = [deltaRmm, deltaLmm]\n",
    "Mpp_square = (derive_by_array(derive_by_array(VLRPhi_ri_tadpole, phippc_fields), phipp_fields)).subs(\n",
    "    vevPhi\n",
    ").subs(vevL).subs(vevR).subs(caso_k1k2_vL).simplify().applyfunc(lambda x: x.collect([vL, vR], factor))\n",
    "Mpp_square"
   ]
  },
  {
   "cell_type": "code",
   "execution_count": 175,
   "metadata": {},
   "outputs": [
    {
     "data": {
      "text/latex": [
       "$\\displaystyle \\left[\\begin{matrix}- k_{1}^{2} \\left(\\alpha_{1} + 2 \\alpha_{2}\\right) + v_{R}^{2} \\left(\\rho_{1} + 2 \\rho_{2} - \\rho_{3}\\right) & 0\\\\0 & - \\frac{\\rho_{3} v_{R}^{2}}{2} - k_{1}^{2} \\left(\\alpha_{1} + 2 \\alpha_{2}\\right)\\end{matrix}\\right]$"
      ],
      "text/plain": [
       "⎡    2                            2                                           \n",
       "⎢- k₁ ⋅(\\alpha₁ + 2⋅\\alpha₂) + v_R ⋅(\\rho₁ + 2⋅\\rho₂ - \\rho₃)                 \n",
       "⎢                                                                             \n",
       "⎢                                                                         2   \n",
       "⎢                                                                \\rho₃⋅v_R    \n",
       "⎢                             0                                - ────────── - \n",
       "⎣                                                                    2        \n",
       "\n",
       "                         ⎤\n",
       "    0                    ⎥\n",
       "                         ⎥\n",
       "                         ⎥\n",
       "  2                      ⎥\n",
       "k₁ ⋅(\\alpha₁ + 2⋅\\alpha₂)⎥\n",
       "                         ⎦"
      ]
     },
     "execution_count": 175,
     "metadata": {},
     "output_type": "execute_result"
    }
   ],
   "source": [
    "Mpp_square.subs(beta2, beta1).subs(beta1, 0).subs(vL, 0)"
   ]
  },
  {
   "cell_type": "markdown",
   "metadata": {},
   "source": [
    "## Scalar mass spectrum"
   ]
  },
  {
   "cell_type": "markdown",
   "metadata": {},
   "source": [
    "Following thr hierarchy $v_R >> k, k_1$"
   ]
  },
  {
   "cell_type": "code",
   "execution_count": 171,
   "metadata": {},
   "outputs": [],
   "source": [
    "from sympy import ZeroMatrix"
   ]
  },
  {
   "cell_type": "code",
   "execution_count": 172,
   "metadata": {},
   "outputs": [],
   "source": [
    "def Mass_matrix_approximation(Mass_matrix): # approximation of the mass matrix only terms proportional to vR\n",
    "    l = Mass_matrix.shape[0]\n",
    "    M_approx = ZeroMatrix(l,l).as_explicit().as_mutable()\n",
    "    for i in range(l):\n",
    "        for j in range(l):\n",
    "            factors = Mass_matrix[i, j].expand().collect(vR, evaluate=False)\n",
    "            for key in factors:\n",
    "                if key == 1:\n",
    "                    pass\n",
    "                else:\n",
    "                    M_approx[i, j] += factors[key]*key\n",
    "    return M_approx"
   ]
  },
  {
   "cell_type": "code",
   "execution_count": 174,
   "metadata": {},
   "outputs": [
    {
     "data": {
      "image/png": "[encoded data removed]",
      "text/latex": [
       "$\\displaystyle \\left\\{ \\frac{\\rho_{1} v_{R}^{2}}{2} + \\rho_{2} v_{R}^{2} - \\frac{3 \\rho_{3} v_{R}^{2}}{4} - \\frac{3 \\sqrt{2} \\beta_{1} k_{1}^{2} v_{L}}{v_{R}} - \\frac{3 \\sqrt{2} \\beta_{1} k_{1}^{2} v_{R}}{v_{L}} - \\frac{v_{R} \\sqrt{4 \\rho_{1}^{2} v_{R}^{2} + 16 \\rho_{1} \\rho_{2} v_{R}^{2} - 4 \\rho_{1} \\rho_{3} v_{R}^{2} + 16 \\rho_{2}^{2} v_{R}^{2} - 8 \\rho_{2} \\rho_{3} v_{R}^{2} + \\rho_{3}^{2} v_{R}^{2} + 64 \\rho_{4}^{2} v_{L}^{2}}}{4} : 1, \\  \\frac{\\rho_{1} v_{R}^{2}}{2} + \\rho_{2} v_{R}^{2} - \\frac{3 \\rho_{3} v_{R}^{2}}{4} - \\frac{3 \\sqrt{2} \\beta_{1} k_{1}^{2} v_{L}}{v_{R}} - \\frac{3 \\sqrt{2} \\beta_{1} k_{1}^{2} v_{R}}{v_{L}} + \\frac{v_{R} \\sqrt{4 \\rho_{1}^{2} v_{R}^{2} + 16 \\rho_{1} \\rho_{2} v_{R}^{2} - 4 \\rho_{1} \\rho_{3} v_{R}^{2} + 16 \\rho_{2}^{2} v_{R}^{2} - 8 \\rho_{2} \\rho_{3} v_{R}^{2} + \\rho_{3}^{2} v_{R}^{2} + 64 \\rho_{4}^{2} v_{L}^{2}}}{4} : 1\\right\\}$"
      ],
      "text/plain": [
       "⎧                                                                             \n",
       "⎪         2                           2             2                 2       \n",
       "⎨\\rho₁⋅v_R             2   3⋅\\rho₃⋅v_R    3⋅√2⋅β₁⋅k₁ ⋅v_L   3⋅√2⋅β₁⋅k₁ ⋅v_R   \n",
       "⎪────────── + \\rho₂⋅v_R  - ──────────── - ─────────────── - ─────────────── - \n",
       "⎩    2                          4               v_R               v_L         \n",
       "\n",
       "       _______________________________________________________________________\n",
       "      ╱        2    2                     2                    2           2  \n",
       "v_R⋅╲╱  4⋅\\rho₁ ⋅v_R  + 16⋅\\rho₁⋅\\rho₂⋅v_R  - 4⋅\\rho₁⋅\\rho₃⋅v_R  + 16⋅\\rho₂ ⋅v\n",
       "──────────────────────────────────────────────────────────────────────────────\n",
       "                                                                  4           \n",
       "\n",
       "________________________________________________________                      \n",
       "  2                    2        2    2           2    2               2       \n",
       "_R  - 8⋅\\rho₂⋅\\rho₃⋅v_R  + \\rho₃ ⋅v_R  + 64⋅\\rho₄ ⋅v_L       \\rho₁⋅v_R        \n",
       "────────────────────────────────────────────────────────: 1, ────────── + \\rho\n",
       "                                                                 2            \n",
       "\n",
       "                                                                   ___________\n",
       "                    2             2                 2             ╱        2  \n",
       "     2   3⋅\\rho₃⋅v_R    3⋅√2⋅β₁⋅k₁ ⋅v_L   3⋅√2⋅β₁⋅k₁ ⋅v_R   v_R⋅╲╱  4⋅\\rho₁ ⋅v\n",
       "₂⋅v_R  - ──────────── - ─────────────── - ─────────────── + ──────────────────\n",
       "              4               v_R               v_L                           \n",
       "\n",
       "______________________________________________________________________________\n",
       "  2                     2                    2           2    2               \n",
       "_R  + 16⋅\\rho₁⋅\\rho₂⋅v_R  - 4⋅\\rho₁⋅\\rho₃⋅v_R  + 16⋅\\rho₂ ⋅v_R  - 8⋅\\rho₂⋅\\rho\n",
       "──────────────────────────────────────────────────────────────────────────────\n",
       "                                                4                             \n",
       "\n",
       "______________________________________   ⎫\n",
       "     2        2    2           2    2    ⎪\n",
       "₃⋅v_R  + \\rho₃ ⋅v_R  + 64⋅\\rho₄ ⋅v_L     ⎬\n",
       "──────────────────────────────────────: 1⎪\n",
       "                                         ⎭"
      ]
     },
     "execution_count": 174,
     "metadata": {},
     "output_type": "execute_result"
    }
   ],
   "source": [
    "Mass_matrix_approximation(Mpp_square.subs(beta2, beta1)).eigenvals()"
   ]
  },
  {
   "cell_type": "code",
   "execution_count": 141,
   "metadata": {},
   "outputs": [
    {
     "data": {
      "text/latex": [
       "$\\displaystyle \\left[\\begin{matrix}0 & v_{R}^{2} \\left(\\frac{\\alpha_{2} k^{2}}{2 k^{2} - 2 k_{1}^{2}} - \\frac{\\alpha_{2} k_{1}^{2}}{2 k^{2} - 2 k_{1}^{2}} + \\frac{\\sqrt{2} \\alpha_{3} k k_{1}}{4 k^{2} - 4 k_{1}^{2}}\\right) & 0 & 0\\\\v_{R}^{2} \\left(\\frac{\\alpha_{2} k^{2}}{2 k^{2} - 2 k_{1}^{2}} - \\frac{\\alpha_{2} k_{1}^{2}}{2 k^{2} - 2 k_{1}^{2}} + \\frac{\\sqrt{2} \\alpha_{3} k k_{1}}{4 k^{2} - 4 k_{1}^{2}}\\right) & 0 & 0 & 0\\\\0 & 0 & 0 & 0\\\\0 & 0 & 0 & 0\\end{matrix}\\right]$"
      ],
      "text/plain": [
       "⎡                                                           ⎛          2      \n",
       "⎢                                                         2 ⎜ \\alpha₂⋅k     \\a\n",
       "⎢                         0                            v_R ⋅⎜──────────── - ──\n",
       "⎢                                                           ⎜   2       2     \n",
       "⎢                                                           ⎝2⋅k  - 2⋅k₁    2⋅\n",
       "⎢                                                                             \n",
       "⎢     ⎛          2              2                   ⎞                         \n",
       "⎢   2 ⎜ \\alpha₂⋅k     \\alpha₂⋅k₁     √2⋅\\alpha₃⋅k⋅k₁⎟                         \n",
       "⎢v_R ⋅⎜──────────── - ──────────── + ───────────────⎟                         \n",
       "⎢     ⎜   2       2      2       2        2       2 ⎟                         \n",
       "⎢     ⎝2⋅k  - 2⋅k₁    2⋅k  - 2⋅k₁      4⋅k  - 4⋅k₁  ⎠                         \n",
       "⎢                                                                             \n",
       "⎢                         0                                                   \n",
       "⎢                                                                             \n",
       "⎣                         0                                                   \n",
       "\n",
       "        2                   ⎞      ⎤\n",
       "lpha₂⋅k₁     √2⋅\\alpha₃⋅k⋅k₁⎟      ⎥\n",
       "────────── + ───────────────⎟  0  0⎥\n",
       " 2       2        2       2 ⎟      ⎥\n",
       "k  - 2⋅k₁      4⋅k  - 4⋅k₁  ⎠      ⎥\n",
       "                                   ⎥\n",
       "                                   ⎥\n",
       "                                   ⎥\n",
       "  0                            0  0⎥\n",
       "                                   ⎥\n",
       "                                   ⎥\n",
       "                                   ⎥\n",
       "  0                            0  0⎥\n",
       "                                   ⎥\n",
       "  0                            0  0⎦"
      ]
     },
     "execution_count": 141,
     "metadata": {},
     "output_type": "execute_result"
    }
   ],
   "source": [
    "Mp_square_approx = Mass_matrix_approximation(Mp_square)\n",
    "Mp_square_approx"
   ]
  },
  {
   "cell_type": "code",
   "execution_count": 142,
   "metadata": {},
   "outputs": [
    {
     "data": {
      "text/latex": [
       "$\\displaystyle \\left[\\begin{matrix}0 & \\frac{\\alpha_{2} v_{R}^{2}}{2} & 0 & 0\\\\\\frac{\\alpha_{2} v_{R}^{2}}{2} & 0 & 0 & 0\\\\0 & 0 & 0 & 0\\\\0 & 0 & 0 & 0\\end{matrix}\\right]$"
      ],
      "text/plain": [
       "⎡                         2      ⎤\n",
       "⎢              \\alpha₂⋅v_R       ⎥\n",
       "⎢     0        ────────────  0  0⎥\n",
       "⎢                   2            ⎥\n",
       "⎢                                ⎥\n",
       "⎢           2                    ⎥\n",
       "⎢\\alpha₂⋅v_R                     ⎥\n",
       "⎢────────────       0        0  0⎥\n",
       "⎢     2                          ⎥\n",
       "⎢                                ⎥\n",
       "⎢     0             0        0  0⎥\n",
       "⎢                                ⎥\n",
       "⎣     0             0        0  0⎦"
      ]
     },
     "execution_count": 142,
     "metadata": {},
     "output_type": "execute_result"
    }
   ],
   "source": [
    "Mp_square_approx.subs(k1,0)"
   ]
  },
  {
   "cell_type": "code",
   "execution_count": 140,
   "metadata": {},
   "outputs": [
    {
     "data": {
      "text/latex": [
       "$\\displaystyle \\left[\\begin{matrix}0 & 0\\\\0 & 0\\end{matrix}\\right]$"
      ],
      "text/plain": [
       "⎡0  0⎤\n",
       "⎢    ⎥\n",
       "⎣0  0⎦"
      ]
     },
     "execution_count": 140,
     "metadata": {},
     "output_type": "execute_result"
    }
   ],
   "source": [
    "Mpp_square_approx = Mass_matrix_approximation(Mpp_square)\n",
    "Mpp_square_approx"
   ]
  },
  {
   "cell_type": "markdown",
   "metadata": {},
   "source": [
    "## Yukawa charged lepton sector"
   ]
  },
  {
   "cell_type": "code",
   "execution_count": 106,
   "metadata": {},
   "outputs": [],
   "source": [
    "from sympy import IndexedBase, Idx"
   ]
  },
  {
   "cell_type": "code",
   "execution_count": 107,
   "metadata": {},
   "outputs": [],
   "source": [
    "#Indexed?"
   ]
  },
  {
   "cell_type": "code",
   "execution_count": 108,
   "metadata": {},
   "outputs": [],
   "source": [
    "i,j = symbols('i, j', cls=Idx)\n",
    "#h = IndexedBase('h')\n",
    "#ht = IndexedBase(r'\\tilde{h}')\n",
    "hij = symbols('h_{ij}')\n",
    "htij = symbols(r'\\tilde{h}_{ij}')"
   ]
  },
  {
   "cell_type": "code",
   "execution_count": 109,
   "metadata": {},
   "outputs": [],
   "source": [
    "#ht[i, j]"
   ]
  },
  {
   "cell_type": "code",
   "execution_count": 110,
   "metadata": {},
   "outputs": [],
   "source": [
    "nueL, numuL, nutauL = symbols(r'{{\\nu_{L}}}_e, {{\\nu_{L}}}_\\mu, {{\\nu_{L}}}_\\tau')\n",
    "nueR, numuR, nutauR = symbols(r'{{\\nu_{R}}}_e, {{\\nu_{R}}}_\\mu, {{\\nu_{R}}}_\\tau')\n",
    "nuL = IndexedBase(r'{{\\nu_{L}}}')\n",
    "nuR = IndexedBase(r'{{\\nu_{R}}}')\n",
    "eL, muL, tauL = symbols(r'e_L, \\mu_L, \\tau_L')\n",
    "eR, muR, tauR = symbols(r'e_R, \\mu_R, \\tau_R')\n",
    "lL = IndexedBase('{{l_L}}')\n",
    "lR = IndexedBase('{{l_R}}')"
   ]
  },
  {
   "cell_type": "code",
   "execution_count": 111,
   "metadata": {},
   "outputs": [
    {
     "data": {
      "image/png": "[encoded data removed]",
      "text/latex": [
       "$\\displaystyle \\left( {{\\nu_{L}}}_e, \\  {{{\\nu_{L}}}}_{i}\\right)$"
      ],
      "text/plain": [
       "({{\\nu_{L}}}_e, {{\\nu_{L}}}[i])"
      ]
     },
     "execution_count": 111,
     "metadata": {},
     "output_type": "execute_result"
    }
   ],
   "source": [
    "nueL, nuL[i]"
   ]
  },
  {
   "cell_type": "code",
   "execution_count": 112,
   "metadata": {},
   "outputs": [
    {
     "data": {
      "text/latex": [
       "$\\displaystyle \\left( \\left[\\begin{matrix}\\overline{{{{\\nu_{L}}}}_{i}} & \\overline{{{{l_L}}}_{i}}\\end{matrix}\\right], \\  \\left[\\begin{matrix}{{{\\nu_{R}}}}_{j}\\\\{{{l_R}}}_{j}\\end{matrix}\\right]\\right)$"
      ],
      "text/plain": [
       "⎛⎡______________  __________⎤  ⎡{{\\nu_{R}}}[j]⎤⎞\n",
       "⎜⎣{{\\nu_{L}}}[i]  {{l_L}}[i]⎦, ⎢              ⎥⎟\n",
       "⎝                              ⎣  {{l_R}}[j]  ⎦⎠"
      ]
     },
     "execution_count": 112,
     "metadata": {},
     "output_type": "execute_result"
    }
   ],
   "source": [
    "LLi = Matrix(\n",
    "    [\n",
    "        [nuL[i]],\n",
    "        [lL[i]]\n",
    "    ]\n",
    ")\n",
    "LRj = Matrix(\n",
    "    [\n",
    "        [nuR[j]],\n",
    "        [lR[j]]\n",
    "    ]\n",
    ")\n",
    "Dagger(LLi), LRj"
   ]
  },
  {
   "cell_type": "code",
   "execution_count": 113,
   "metadata": {},
   "outputs": [
    {
     "data": {
      "text/latex": [
       "$\\displaystyle \\left[\\begin{matrix}\\phi^{0}_{2} & - \\phi^{-}_{2}\\\\- \\phi^{+}_{1} & \\phi^{0}_{1}\\end{matrix}\\right]$"
      ],
      "text/plain": [
       "⎡\\phi⁰₂   -\\phi⁻₂⎤\n",
       "⎢                ⎥\n",
       "⎣-\\phi⁺₁  \\phi⁰₁ ⎦"
      ]
     },
     "execution_count": 113,
     "metadata": {},
     "output_type": "execute_result"
    }
   ],
   "source": [
    "Phitilde"
   ]
  },
  {
   "cell_type": "code",
   "execution_count": 114,
   "metadata": {},
   "outputs": [],
   "source": [
    "LY = (Dagger(LLi)*(hij*Phi + htij*Phitilde)*LRj)[0].subs(vevPhi)"
   ]
  },
  {
   "cell_type": "code",
   "execution_count": 115,
   "metadata": {},
   "outputs": [
    {
     "data": {
      "image/png": "[encoded data removed]",
      "text/latex": [
       "$\\displaystyle \\left(\\tilde{h}_{ij} k + h_{ij} k_{1}\\right) \\overline{{{{l_L}}}_{i}} {{{l_R}}}_{j} + \\left(\\tilde{h}_{ij} k_{1} + h_{ij} k\\right) \\overline{{{{\\nu_{L}}}}_{i}} {{{\\nu_{R}}}}_{j}$"
      ],
      "text/plain": [
       "                               __________                                     \n",
       "(\\tilde{h}_{ij}⋅k + h_{ij}⋅k₁)⋅{{l_L}}[i]⋅{{l_R}}[j] + (\\tilde{h}_{ij}⋅k₁ + h_\n",
       "\n",
       "        ______________               \n",
       "{ij}⋅k)⋅{{\\nu_{L}}}[i]⋅{{\\nu_{R}}}[j]"
      ]
     },
     "execution_count": 115,
     "metadata": {},
     "output_type": "execute_result"
    }
   ],
   "source": [
    "LY"
   ]
  },
  {
   "cell_type": "markdown",
   "metadata": {},
   "source": [
    "Charged lepton mass"
   ]
  },
  {
   "cell_type": "code",
   "execution_count": 116,
   "metadata": {},
   "outputs": [
    {
     "data": {
      "image/png": "[encoded data removed]",
      "text/latex": [
       "$\\displaystyle \\tilde{h}_{ij} k + h_{ij} k_{1}$"
      ],
      "text/plain": [
       "\\tilde{h}_{ij}⋅k + h_{ij}⋅k₁"
      ]
     },
     "execution_count": 116,
     "metadata": {},
     "output_type": "execute_result"
    }
   ],
   "source": [
    "Ml = LY.args[0].args[0]\n",
    "Ml"
   ]
  },
  {
   "cell_type": "markdown",
   "metadata": {},
   "source": [
    "Dirac neutrino mass"
   ]
  },
  {
   "cell_type": "code",
   "execution_count": 117,
   "metadata": {},
   "outputs": [
    {
     "data": {
      "image/png": "[encoded data removed]",
      "text/latex": [
       "$\\displaystyle \\tilde{h}_{ij} k_{1} + h_{ij} k$"
      ],
      "text/plain": [
       "\\tilde{h}_{ij}⋅k₁ + h_{ij}⋅k"
      ]
     },
     "execution_count": 117,
     "metadata": {},
     "output_type": "execute_result"
    }
   ],
   "source": [
    "MnuD = LY.args[1].args[0]\n",
    "MnuD"
   ]
  },
  {
   "cell_type": "markdown",
   "metadata": {},
   "source": [
    "As we know, the scale of mass of charged leptons is greater than neutrino mass scale. Thus, we assume $k >> k_1$ and $h_{ij} >> \\tilde{h}_{ij}$. In this aproximation"
   ]
  },
  {
   "cell_type": "code",
   "execution_count": 118,
   "metadata": {},
   "outputs": [
    {
     "data": {
      "image/png": "[encoded data removed]",
      "text/latex": [
       "$\\displaystyle h_{ij} k$"
      ],
      "text/plain": [
       "h_{ij}⋅k"
      ]
     },
     "execution_count": 118,
     "metadata": {},
     "output_type": "execute_result"
    }
   ],
   "source": [
    "Ml = k*hij\n",
    "Ml"
   ]
  },
  {
   "cell_type": "code",
   "execution_count": null,
   "metadata": {},
   "outputs": [],
   "source": []
  }
 ],
 "metadata": {
  "kernelspec": {
   "display_name": "py37",
   "language": "python",
   "name": "python3"
  },
  "language_info": {
   "codemirror_mode": {
    "name": "ipython",
    "version": 3
   },
   "file_extension": ".py",
   "mimetype": "text/x-python",
   "name": "python",
   "nbconvert_exporter": "python",
   "pygments_lexer": "ipython3",
   "version": "3.7.12"
  }
 },
 "nbformat": 4,
 "nbformat_minor": 2
}
