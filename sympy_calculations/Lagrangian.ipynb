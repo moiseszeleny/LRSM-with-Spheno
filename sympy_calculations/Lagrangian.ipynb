{
 "cells": [
  {
   "cell_type": "markdown",
   "metadata": {},
   "source": [
    "# Left-Right symmetric model Lagrangian"
   ]
  },
  {
   "cell_type": "code",
   "execution_count": 1,
   "metadata": {},
   "outputs": [],
   "source": [
    "from sympy import symbols, init_printing, Matrix, I, Add, eye, sqrt, conjugate, trace, factor\n",
    "from sympy.physics import msigma \n",
    "init_printing()"
   ]
  },
  {
   "cell_type": "markdown",
   "metadata": {},
   "source": [
    "## Covariant derivative"
   ]
  },
  {
   "cell_type": "code",
   "execution_count": 2,
   "metadata": {},
   "outputs": [],
   "source": [
    "g, gBL = symbols('g, g_{B-L}', positive=True)\n",
    "W1L, W2L, W3L = symbols('W^1_L, W^2_L, W^3_L', real=True)\n",
    "WL = [W1L, W2L, W3L]\n",
    "W1R, W2R, W3R = symbols('W^1_R, W^2_R, W^3_R', real=True)\n",
    "WR = [W1R, W2R, W3R]\n",
    "Bmu = symbols(r'B_\\mu', real=True)\n",
    "B, L = symbols(r'B, L', real=True)"
   ]
  },
  {
   "cell_type": "code",
   "execution_count": 3,
   "metadata": {},
   "outputs": [
    {
     "data": {
      "text/latex": [
       "$\\displaystyle \\left[\\begin{matrix}0 & W^{1}_{L}\\\\W^{1}_{L} & 0\\end{matrix}\\right]$"
      ],
      "text/plain": [
       "⎡  0     W_L__1⎤\n",
       "⎢              ⎥\n",
       "⎣W_L__1    0   ⎦"
      ]
     },
     "execution_count": 3,
     "metadata": {},
     "output_type": "execute_result"
    }
   ],
   "source": [
    "WL[0]*msigma(1)"
   ]
  },
  {
   "cell_type": "code",
   "execution_count": 4,
   "metadata": {},
   "outputs": [],
   "source": [
    "WsigmaL = Add(*[WL[i]*msigma(i+1) for i in range(3)])\n",
    "WsigmaR = Add(*[WR[i]*msigma(i+1) for i in range(3)])"
   ]
  },
  {
   "cell_type": "code",
   "execution_count": 5,
   "metadata": {},
   "outputs": [
    {
     "data": {
      "text/latex": [
       "$\\displaystyle \\left[\\begin{matrix}W^{3}_{L} & W^{1}_{L} - i W^{2}_{L}\\\\W^{1}_{L} + i W^{2}_{L} & - W^{3}_{L}\\end{matrix}\\right]$"
      ],
      "text/plain": [
       "⎡     W_L__3        W_L__1 - ⅈ⋅W_L__2⎤\n",
       "⎢                                    ⎥\n",
       "⎣W_L__1 + ⅈ⋅W_L__2       -W_L__3     ⎦"
      ]
     },
     "execution_count": 5,
     "metadata": {},
     "output_type": "execute_result"
    }
   ],
   "source": [
    "WsigmaL"
   ]
  },
  {
   "cell_type": "code",
   "execution_count": 6,
   "metadata": {},
   "outputs": [
    {
     "data": {
      "text/latex": [
       "$\\displaystyle \\left[\\begin{matrix}W^{3}_{R} & W^{1}_{R} - i W^{2}_{R}\\\\W^{1}_{R} + i W^{2}_{R} & - W^{3}_{R}\\end{matrix}\\right]$"
      ],
      "text/plain": [
       "⎡     W_R__3        W_R__1 - ⅈ⋅W_R__2⎤\n",
       "⎢                                    ⎥\n",
       "⎣W_R__1 + ⅈ⋅W_R__2       -W_R__3     ⎦"
      ]
     },
     "execution_count": 6,
     "metadata": {},
     "output_type": "execute_result"
    }
   ],
   "source": [
    "WsigmaR"
   ]
  },
  {
   "cell_type": "code",
   "execution_count": 7,
   "metadata": {},
   "outputs": [],
   "source": [
    "WLp, WLm, WRp, WRm = symbols('W_L^+, W_L^-, W_R^+, W_R^-')\n",
    "Wcharge_subs = {\n",
    "    W1L - I*W2L:WLp,\n",
    "    W1L + I*W2L:WLm,\n",
    "    W1R - I*W2R:WRp,\n",
    "    W1R + I*W2R:WRm\n",
    "}"
   ]
  },
  {
   "cell_type": "code",
   "execution_count": 8,
   "metadata": {},
   "outputs": [],
   "source": [
    "WsigmaL, WsigmaR = WsigmaL.subs(Wcharge_subs), WsigmaR.subs(Wcharge_subs)"
   ]
  },
  {
   "cell_type": "code",
   "execution_count": 9,
   "metadata": {},
   "outputs": [
    {
     "data": {
      "text/latex": [
       "$\\displaystyle \\left( \\left[\\begin{matrix}W^{3}_{L} & W^{+}_{L}\\\\W^{-}_{L} & - W^{3}_{L}\\end{matrix}\\right], \\  \\left[\\begin{matrix}W^{3}_{R} & W^{+}_{R}\\\\W^{-}_{R} & - W^{3}_{R}\\end{matrix}\\right]\\right)$"
      ],
      "text/plain": [
       "⎛⎡W_L__3  W_L__+ ⎤  ⎡W_R__3  W_R__+ ⎤⎞\n",
       "⎜⎢               ⎥, ⎢               ⎥⎟\n",
       "⎝⎣W_L__-  -W_L__3⎦  ⎣W_R__-  -W_R__3⎦⎠"
      ]
     },
     "execution_count": 9,
     "metadata": {},
     "output_type": "execute_result"
    }
   ],
   "source": [
    "WsigmaL, WsigmaR"
   ]
  },
  {
   "cell_type": "markdown",
   "metadata": {},
   "source": [
    "## Scalars"
   ]
  },
  {
   "cell_type": "markdown",
   "metadata": {},
   "source": [
    "### Triplets"
   ]
  },
  {
   "cell_type": "code",
   "execution_count": 10,
   "metadata": {},
   "outputs": [],
   "source": [
    "deltaLp, deltaLpp = symbols(r'\\delta_L^+, \\delta_L^{++}')\n",
    "deltaRp, deltaRpp = symbols(r'\\delta_R^+, \\delta_R^{++}')\n",
    "\n",
    "deltaLm, deltaLmm = symbols(r'\\delta_L^-, \\delta_L^{--}')\n",
    "deltaRm, deltaRmm = symbols(r'\\delta_R^-, \\delta_R^{--}')\n",
    "\n",
    "deltaL0 = symbols(r'\\delta_L^0', real=True)\n",
    "deltaR0 = symbols(r'\\delta_R^0', real=True)"
   ]
  },
  {
   "cell_type": "code",
   "execution_count": 11,
   "metadata": {},
   "outputs": [],
   "source": [
    "sqrt2 = sqrt(2)\n",
    "DeltaL = Matrix(\n",
    "    [\n",
    "        [deltaLp/sqrt2, deltaLpp],\n",
    "        [deltaL0, -deltaLp/sqrt2]\n",
    "    ]\n",
    ")\n",
    "DeltaR = Matrix(\n",
    "    [\n",
    "        [deltaRp/sqrt2, deltaRpp],\n",
    "        [deltaR0, -deltaRp/sqrt2]\n",
    "    ]\n",
    ")"
   ]
  },
  {
   "cell_type": "code",
   "execution_count": 12,
   "metadata": {},
   "outputs": [
    {
     "data": {
      "text/latex": [
       "$\\displaystyle \\left( \\left[\\begin{matrix}\\frac{\\sqrt{2} \\delta^{+}_{L}}{2} & \\delta_L^{++}\\\\\\delta^{0}_{L} & - \\frac{\\sqrt{2} \\delta^{+}_{L}}{2}\\end{matrix}\\right], \\  \\left[\\begin{matrix}\\frac{\\sqrt{2} \\delta^{+}_{R}}{2} & \\delta_R^{++}\\\\\\delta^{0}_{R} & - \\frac{\\sqrt{2} \\delta^{+}_{R}}{2}\\end{matrix}\\right]\\right)$"
      ],
      "text/plain": [
       "⎛⎡√2⋅\\delta_L__+                  ⎤  ⎡√2⋅\\delta_R__+                  ⎤⎞\n",
       "⎜⎢──────────────   \\delta_L__{++} ⎥  ⎢──────────────   \\delta_R__{++} ⎥⎟\n",
       "⎜⎢      2                         ⎥  ⎢      2                         ⎥⎟\n",
       "⎜⎢                                ⎥, ⎢                                ⎥⎟\n",
       "⎜⎢                -√2⋅\\delta_L__+ ⎥  ⎢                -√2⋅\\delta_R__+ ⎥⎟\n",
       "⎜⎢ \\delta_L__0    ────────────────⎥  ⎢ \\delta_R__0    ────────────────⎥⎟\n",
       "⎝⎣                       2        ⎦  ⎣                       2        ⎦⎠"
      ]
     },
     "execution_count": 12,
     "metadata": {},
     "output_type": "execute_result"
    }
   ],
   "source": [
    "DeltaL, DeltaR"
   ]
  },
  {
   "cell_type": "code",
   "execution_count": 13,
   "metadata": {},
   "outputs": [
    {
     "data": {
      "text/latex": [
       "$\\displaystyle \\left( \\left[\\begin{matrix}0 & 0\\\\v_{L} & 0\\end{matrix}\\right], \\  \\left[\\begin{matrix}0 & 0\\\\v_{R} & 0\\end{matrix}\\right]\\right)$"
      ],
      "text/plain": [
       "⎛⎡ 0   0⎤  ⎡ 0   0⎤⎞\n",
       "⎜⎢      ⎥, ⎢      ⎥⎟\n",
       "⎝⎣v_L  0⎦  ⎣v_R  0⎦⎠"
      ]
     },
     "execution_count": 13,
     "metadata": {},
     "output_type": "execute_result"
    }
   ],
   "source": [
    "vL, vR = symbols('v_L, v_R', positive=True)\n",
    "vevL = {deltaL0:vL, deltaLp:0, deltaLpp:0}\n",
    "vevR = {deltaR0:vR, deltaRp:0, deltaRpp:0}\n",
    "DeltaL.subs(vevL), DeltaR.subs(vevR)"
   ]
  },
  {
   "cell_type": "code",
   "execution_count": 14,
   "metadata": {},
   "outputs": [],
   "source": [
    "Dmu_DeltaL = (-I*g/2*(WsigmaL*DeltaL - DeltaL*WsigmaL) - I*gBL*(B-L)/2*Bmu*DeltaL).subs(B-L, 2) # B -L = 2 for triplets L and R\n",
    "Dmu_DeltaR = (-I*g/2*(WsigmaR*DeltaR - DeltaR*WsigmaR) - I*gBL*(B-L)/2*Bmu*DeltaR).subs(B-L, 2)"
   ]
  },
  {
   "cell_type": "code",
   "execution_count": 15,
   "metadata": {},
   "outputs": [
    {
     "data": {
      "text/latex": [
       "$\\displaystyle \\left[\\begin{matrix}- \\frac{\\sqrt{2} i B_{\\mu} \\delta^{+}_{L} g_{B-L}}{2} - \\frac{i g \\left(W^{+}_{L} \\delta^{0}_{L} - W^{-}_{L} \\delta_L^{++}\\right)}{2} & - i B_{\\mu} \\delta_L^{++} g_{B-L} - \\frac{i g \\left(2 W^{3}_{L} \\delta_L^{++} - \\sqrt{2} W^{+}_{L} \\delta^{+}_{L}\\right)}{2}\\\\- i B_{\\mu} \\delta^{0}_{L} g_{B-L} - \\frac{i g \\left(- 2 W^{3}_{L} \\delta^{0}_{L} + \\sqrt{2} W^{-}_{L} \\delta^{+}_{L}\\right)}{2} & \\frac{\\sqrt{2} i B_{\\mu} \\delta^{+}_{L} g_{B-L}}{2} - \\frac{i g \\left(- W^{+}_{L} \\delta^{0}_{L} + W^{-}_{L} \\delta_L^{++}\\right)}{2}\\end{matrix}\\right]$"
      ],
      "text/plain": [
       "⎡  √2⋅ⅈ⋅B_\\mu⋅\\delta_L__+⋅g_{B-L}   ⅈ⋅g⋅(W_L__+⋅\\delta_L__0 - W_L__-⋅\\delta_L_\n",
       "⎢- ────────────────────────────── - ──────────────────────────────────────────\n",
       "⎢                2                                         2                  \n",
       "⎢                                                                             \n",
       "⎢                               ⅈ⋅g⋅(-2⋅W_L__3⋅\\delta_L__0 + √2⋅W_L__-⋅\\delta_\n",
       "⎢-ⅈ⋅B_\\mu⋅\\delta_L__0⋅g_{B-L} - ──────────────────────────────────────────────\n",
       "⎣                                                        2                    \n",
       "\n",
       "_{++})                                    ⅈ⋅g⋅(2⋅W_L__3⋅\\delta_L__{++} - √2⋅W_\n",
       "──────  -ⅈ⋅B_\\mu⋅\\delta_L__{++}⋅g_{B-L} - ────────────────────────────────────\n",
       "                                                                    2         \n",
       "                                                                              \n",
       "L__+)     √2⋅ⅈ⋅B_\\mu⋅\\delta_L__+⋅g_{B-L}   ⅈ⋅g⋅(-W_L__+⋅\\delta_L__0 + W_L__-⋅\\\n",
       "─────     ────────────────────────────── - ───────────────────────────────────\n",
       "                        2                                          2          \n",
       "\n",
       "L__+⋅\\delta_L__+)⎤\n",
       "─────────────────⎥\n",
       "                 ⎥\n",
       "                 ⎥\n",
       "delta_L__{++})   ⎥\n",
       "──────────────   ⎥\n",
       "                 ⎦"
      ]
     },
     "execution_count": 15,
     "metadata": {},
     "output_type": "execute_result"
    }
   ],
   "source": [
    "Dmu_DeltaL"
   ]
  },
  {
   "cell_type": "code",
   "execution_count": 16,
   "metadata": {},
   "outputs": [
    {
     "data": {
      "text/latex": [
       "$\\displaystyle \\left[\\begin{matrix}- \\frac{\\sqrt{2} i B_{\\mu} \\delta^{+}_{R} g_{B-L}}{2} - \\frac{i g \\left(W^{+}_{R} \\delta^{0}_{R} - W^{-}_{R} \\delta_R^{++}\\right)}{2} & - i B_{\\mu} \\delta_R^{++} g_{B-L} - \\frac{i g \\left(2 W^{3}_{R} \\delta_R^{++} - \\sqrt{2} W^{+}_{R} \\delta^{+}_{R}\\right)}{2}\\\\- i B_{\\mu} \\delta^{0}_{R} g_{B-L} - \\frac{i g \\left(- 2 W^{3}_{R} \\delta^{0}_{R} + \\sqrt{2} W^{-}_{R} \\delta^{+}_{R}\\right)}{2} & \\frac{\\sqrt{2} i B_{\\mu} \\delta^{+}_{R} g_{B-L}}{2} - \\frac{i g \\left(- W^{+}_{R} \\delta^{0}_{R} + W^{-}_{R} \\delta_R^{++}\\right)}{2}\\end{matrix}\\right]$"
      ],
      "text/plain": [
       "⎡  √2⋅ⅈ⋅B_\\mu⋅\\delta_R__+⋅g_{B-L}   ⅈ⋅g⋅(W_R__+⋅\\delta_R__0 - W_R__-⋅\\delta_R_\n",
       "⎢- ────────────────────────────── - ──────────────────────────────────────────\n",
       "⎢                2                                         2                  \n",
       "⎢                                                                             \n",
       "⎢                               ⅈ⋅g⋅(-2⋅W_R__3⋅\\delta_R__0 + √2⋅W_R__-⋅\\delta_\n",
       "⎢-ⅈ⋅B_\\mu⋅\\delta_R__0⋅g_{B-L} - ──────────────────────────────────────────────\n",
       "⎣                                                        2                    \n",
       "\n",
       "_{++})                                    ⅈ⋅g⋅(2⋅W_R__3⋅\\delta_R__{++} - √2⋅W_\n",
       "──────  -ⅈ⋅B_\\mu⋅\\delta_R__{++}⋅g_{B-L} - ────────────────────────────────────\n",
       "                                                                    2         \n",
       "                                                                              \n",
       "R__+)     √2⋅ⅈ⋅B_\\mu⋅\\delta_R__+⋅g_{B-L}   ⅈ⋅g⋅(-W_R__+⋅\\delta_R__0 + W_R__-⋅\\\n",
       "─────     ────────────────────────────── - ───────────────────────────────────\n",
       "                        2                                          2          \n",
       "\n",
       "R__+⋅\\delta_R__+)⎤\n",
       "─────────────────⎥\n",
       "                 ⎥\n",
       "                 ⎥\n",
       "delta_R__{++})   ⎥\n",
       "──────────────   ⎥\n",
       "                 ⎦"
      ]
     },
     "execution_count": 16,
     "metadata": {},
     "output_type": "execute_result"
    }
   ],
   "source": [
    "Dmu_DeltaR"
   ]
  },
  {
   "cell_type": "code",
   "execution_count": 17,
   "metadata": {},
   "outputs": [],
   "source": [
    "conjugate_fields = {\n",
    "    conjugate(deltaLp):deltaLm,\n",
    "    conjugate(deltaLm):deltaLp,\n",
    "    conjugate(deltaLpp):deltaLmm,\n",
    "    conjugate(deltaLmm):deltaLpp,\n",
    "    conjugate(deltaRm):deltaRp,\n",
    "    conjugate(deltaRp):deltaRm,\n",
    "    conjugate(deltaRmm):deltaRpp,\n",
    "    conjugate(deltaRpp):deltaRmm,\n",
    "    conjugate(WLp):WLm,\n",
    "    conjugate(WLm):WLp,\n",
    "    conjugate(WRm):WRp,\n",
    "    conjugate(WRp):WRm\n",
    "}"
   ]
  },
  {
   "cell_type": "code",
   "execution_count": 18,
   "metadata": {},
   "outputs": [
    {
     "data": {
      "text/latex": [
       "$\\displaystyle \\left( \\left[\\begin{matrix}\\frac{\\sqrt{2} i B_{\\mu} \\delta^{-}_{L} g_{B-L}}{2} + \\frac{i g \\left(- W^{+}_{L} \\delta_L^{--} + W^{-}_{L} \\delta^{0}_{L}\\right)}{2} & i B_{\\mu} \\delta^{0}_{L} g_{B-L} + \\frac{i g \\left(- 2 W^{3}_{L} \\delta^{0}_{L} + \\sqrt{2} W^{+}_{L} \\delta^{-}_{L}\\right)}{2}\\\\i B_{\\mu} \\delta_L^{--} g_{B-L} + \\frac{i g \\left(2 W^{3}_{L} \\delta_L^{--} - \\sqrt{2} W^{-}_{L} \\delta^{-}_{L}\\right)}{2} & - \\frac{\\sqrt{2} i B_{\\mu} \\delta^{-}_{L} g_{B-L}}{2} + \\frac{i g \\left(W^{+}_{L} \\delta_L^{--} - W^{-}_{L} \\delta^{0}_{L}\\right)}{2}\\end{matrix}\\right], \\  \\left[\\begin{matrix}\\frac{\\sqrt{2} i B_{\\mu} \\delta^{-}_{R} g_{B-L}}{2} + \\frac{i g \\left(- W^{+}_{R} \\delta_R^{--} + W^{-}_{R} \\delta^{0}_{R}\\right)}{2} & i B_{\\mu} \\delta^{0}_{R} g_{B-L} + \\frac{i g \\left(- 2 W^{3}_{R} \\delta^{0}_{R} + \\sqrt{2} W^{+}_{R} \\delta^{-}_{R}\\right)}{2}\\\\i B_{\\mu} \\delta_R^{--} g_{B-L} + \\frac{i g \\left(2 W^{3}_{R} \\delta_R^{--} - \\sqrt{2} W^{-}_{R} \\delta^{-}_{R}\\right)}{2} & - \\frac{\\sqrt{2} i B_{\\mu} \\delta^{-}_{R} g_{B-L}}{2} + \\frac{i g \\left(W^{+}_{R} \\delta_R^{--} - W^{-}_{R} \\delta^{0}_{R}\\right)}{2}\\end{matrix}\\right]\\right)$"
      ],
      "text/plain": [
       "⎛⎡  √2⋅ⅈ⋅B_\\mu⋅\\delta_L__-⋅g_{B-L}   ⅈ⋅g⋅(-W_L__+⋅\\delta_L__{--} + W_L__-⋅\\del\n",
       "⎜⎢  ────────────────────────────── + ─────────────────────────────────────────\n",
       "⎜⎢                2                                          2                \n",
       "⎜⎢                                                                            \n",
       "⎜⎢                                 ⅈ⋅g⋅(2⋅W_L__3⋅\\delta_L__{--} - √2⋅W_L__-⋅\\d\n",
       "⎜⎢ⅈ⋅B_\\mu⋅\\delta_L__{--}⋅g_{B-L} + ───────────────────────────────────────────\n",
       "⎝⎣                                                           2                \n",
       "\n",
       "ta_L__0)                                   ⅈ⋅g⋅(-2⋅W_L__3⋅\\delta_L__0 + √2⋅W_L\n",
       "────────     ⅈ⋅B_\\mu⋅\\delta_L__0⋅g_{B-L} + ───────────────────────────────────\n",
       "                                                                    2         \n",
       "                                                                              \n",
       "elta_L__-)    √2⋅ⅈ⋅B_\\mu⋅\\delta_L__-⋅g_{B-L}   ⅈ⋅g⋅(W_L__+⋅\\delta_L__{--} - W_\n",
       "──────────  - ────────────────────────────── + ───────────────────────────────\n",
       "                            2                                         2       \n",
       "\n",
       "__+⋅\\delta_L__-) ⎤  ⎡  √2⋅ⅈ⋅B_\\mu⋅\\delta_R__-⋅g_{B-L}   ⅈ⋅g⋅(-W_R__+⋅\\delta_R_\n",
       "──────────────── ⎥  ⎢  ────────────────────────────── + ──────────────────────\n",
       "                 ⎥  ⎢                2                                        \n",
       "                 ⎥, ⎢                                                         \n",
       "L__-⋅\\delta_L__0)⎥  ⎢                                 ⅈ⋅g⋅(2⋅W_R__3⋅\\delta_R__\n",
       "─────────────────⎥  ⎢ⅈ⋅B_\\mu⋅\\delta_R__{--}⋅g_{B-L} + ────────────────────────\n",
       "                 ⎦  ⎣                                                         \n",
       "\n",
       "_{--} + W_R__-⋅\\delta_R__0)                                   ⅈ⋅g⋅(-2⋅W_R__3⋅\\\n",
       "───────────────────────────     ⅈ⋅B_\\mu⋅\\delta_R__0⋅g_{B-L} + ────────────────\n",
       "  2                                                                           \n",
       "                                                                              \n",
       "{--} - √2⋅W_R__-⋅\\delta_R__-)    √2⋅ⅈ⋅B_\\mu⋅\\delta_R__-⋅g_{B-L}   ⅈ⋅g⋅(W_R__+⋅\n",
       "─────────────────────────────  - ────────────────────────────── + ────────────\n",
       "  2                                            2                              \n",
       "\n",
       "delta_R__0 + √2⋅W_R__+⋅\\delta_R__-) ⎤⎞\n",
       "─────────────────────────────────── ⎥⎟\n",
       "         2                          ⎥⎟\n",
       "                                    ⎥⎟\n",
       "\\delta_R__{--} - W_R__-⋅\\delta_R__0)⎥⎟\n",
       "────────────────────────────────────⎥⎟\n",
       "           2                        ⎦⎠"
      ]
     },
     "execution_count": 18,
     "metadata": {},
     "output_type": "execute_result"
    }
   ],
   "source": [
    "Dmu_DeltaL_dagger = conjugate(Dmu_DeltaL.T).subs(conjugate_fields)\n",
    "Dmu_DeltaR_dagger = conjugate(Dmu_DeltaR.T).subs(conjugate_fields)\n",
    "\n",
    "Dmu_DeltaL_dagger, Dmu_DeltaR_dagger\n"
   ]
  },
  {
   "cell_type": "code",
   "execution_count": 19,
   "metadata": {},
   "outputs": [
    {
     "data": {
      "image/png": "[encoded data removed]",
      "text/latex": [
       "$\\displaystyle \\left( 2, \\  2\\right)$"
      ],
      "text/plain": [
       "(2, 2)"
      ]
     },
     "execution_count": 19,
     "metadata": {},
     "output_type": "execute_result"
    }
   ],
   "source": [
    "Dmu_DL_Dmu = (Dmu_DeltaL_dagger*Dmu_DeltaL).subs(vevL)\n",
    "Dmu_DL_Dmu.shape"
   ]
  },
  {
   "cell_type": "code",
   "execution_count": 20,
   "metadata": {},
   "outputs": [
    {
     "data": {
      "image/png": "[encoded data removed]",
      "text/latex": [
       "$\\displaystyle \\frac{v_{L} \\left(W^{+}_{L} g \\left(\\sqrt{2} B_{\\mu} \\delta^{-}_{L} g_{B-L} - g \\left(W^{+}_{L} \\delta_L^{--} - W^{-}_{L} v_{L}\\right)\\right) + 2 \\left(B_{\\mu} g_{B-L} - W^{3}_{L} g\\right) \\left(2 B_{\\mu} g_{B-L} v_{L} - g \\left(2 W^{3}_{L} v_{L} - \\sqrt{2} W^{+}_{L} \\delta^{-}_{L}\\right)\\right)\\right)}{4}$"
      ],
      "text/plain": [
       "v_L⋅(W_L__+⋅g⋅(√2⋅B_\\mu⋅\\delta_L__-⋅g_{B-L} - g⋅(W_L__+⋅\\delta_L__{--} - W_L__\n",
       "──────────────────────────────────────────────────────────────────────────────\n",
       "                                                                              \n",
       "\n",
       "-⋅v_L)) + 2⋅(B_\\mu⋅g_{B-L} - W_L__3⋅g)⋅(2⋅B_\\mu⋅g_{B-L}⋅v_L - g⋅(2⋅W_L__3⋅v_L \n",
       "──────────────────────────────────────────────────────────────────────────────\n",
       "            4                                                                 \n",
       "\n",
       "- √2⋅W_L__+⋅\\delta_L__-)))\n",
       "──────────────────────────\n",
       "                          "
      ]
     },
     "execution_count": 20,
     "metadata": {},
     "output_type": "execute_result"
    }
   ],
   "source": [
    "Dmu_DL_Dmu[0,0].simplify()"
   ]
  },
  {
   "cell_type": "code",
   "execution_count": 21,
   "metadata": {},
   "outputs": [
    {
     "data": {
      "image/png": "[encoded data removed]",
      "text/latex": [
       "$\\displaystyle \\frac{W^{+}_{L} g v_{L} \\left(\\sqrt{2} B_{\\mu} \\delta^{-}_{L} g_{B-L} - g \\left(W^{+}_{L} \\delta_L^{--} - W^{-}_{L} v_{L}\\right)\\right)}{4}$"
      ],
      "text/plain": [
       "W_L__+⋅g⋅v_L⋅(√2⋅B_\\mu⋅\\delta_L__-⋅g_{B-L} - g⋅(W_L__+⋅\\delta_L__{--} - W_L__-\n",
       "──────────────────────────────────────────────────────────────────────────────\n",
       "                                         4                                    \n",
       "\n",
       "⋅v_L))\n",
       "──────\n",
       "      "
      ]
     },
     "execution_count": 21,
     "metadata": {},
     "output_type": "execute_result"
    }
   ],
   "source": [
    "Dmu_DL_Dmu[1,1].simplify()"
   ]
  },
  {
   "cell_type": "code",
   "execution_count": 22,
   "metadata": {},
   "outputs": [
    {
     "data": {
      "image/png": "[encoded data removed]",
      "text/latex": [
       "$\\displaystyle v_{L}^{2} \\left(B_{\\mu}^{2} g_{B-L}^{2} - 2 B_{\\mu} W^{3}_{L} g g_{B-L} + \\left(W^{3}_{L}\\right)^{2} g^{2} + \\frac{W^{+}_{L} W^{-}_{L} g^{2}}{2}\\right) + v_{L} \\left(\\sqrt{2} B_{\\mu} W^{+}_{L} \\delta^{-}_{L} g g_{B-L} - \\frac{\\sqrt{2} W^{3}_{L} W^{+}_{L} \\delta^{-}_{L} g^{2}}{2} - \\frac{\\left(W^{+}_{L}\\right)^{2} \\delta_L^{--} g^{2}}{2}\\right)$"
      ],
      "text/plain": [
       "     ⎛                                                                        \n",
       "   2 ⎜     2        2                                    2  2   W_L__+⋅W_L__-⋅\n",
       "v_L ⋅⎜B_\\mu ⋅g_{B-L}  - 2⋅B_\\mu⋅W_L__3⋅g⋅g_{B-L} + W_L__3 ⋅g  + ──────────────\n",
       "     ⎝                                                                 2      \n",
       "\n",
       " 2⎞       ⎛                                                                   \n",
       "g ⎟       ⎜                                        √2⋅W_L__3⋅W_L__+⋅\\delta_L__\n",
       "──⎟ + v_L⋅⎜√2⋅B_\\mu⋅W_L__+⋅\\delta_L__-⋅g⋅g_{B-L} - ───────────────────────────\n",
       "  ⎠       ⎝                                                       2           \n",
       "\n",
       "   2         2                 2⎞\n",
       "-⋅g    W_L__+ ⋅\\delta_L__{--}⋅g ⎟\n",
       "──── - ─────────────────────────⎟\n",
       "                   2            ⎠"
      ]
     },
     "execution_count": 22,
     "metadata": {},
     "output_type": "execute_result"
    }
   ],
   "source": [
    "Tr_DmuL = trace(Dmu_DL_Dmu).expand().collect(vL)\n",
    "Tr_DmuL"
   ]
  },
  {
   "cell_type": "code",
   "execution_count": 23,
   "metadata": {},
   "outputs": [],
   "source": [
    "Dmu_DR_Dmu = (Dmu_DeltaR_dagger*Dmu_DeltaR).subs(vevR)"
   ]
  },
  {
   "cell_type": "code",
   "execution_count": 24,
   "metadata": {},
   "outputs": [
    {
     "data": {
      "text/latex": [
       "$\\displaystyle \\left[\\begin{matrix}- \\frac{i W^{+}_{R} g v_{R} \\left(\\frac{\\sqrt{2} i B_{\\mu} \\delta^{-}_{R} g_{B-L}}{2} + \\frac{i g \\left(- W^{+}_{R} \\delta_R^{--} + W^{-}_{R} v_{R}\\right)}{2}\\right)}{2} + \\left(- i B_{\\mu} g_{B-L} v_{R} + i W^{3}_{R} g v_{R}\\right) \\left(i B_{\\mu} g_{B-L} v_{R} + \\frac{i g \\left(- 2 W^{3}_{R} v_{R} + \\sqrt{2} W^{+}_{R} \\delta^{-}_{R}\\right)}{2}\\right) & \\frac{i W^{+}_{R} g v_{R} \\left(i B_{\\mu} g_{B-L} v_{R} + \\frac{i g \\left(- 2 W^{3}_{R} v_{R} + \\sqrt{2} W^{+}_{R} \\delta^{-}_{R}\\right)}{2}\\right)}{2}\\\\- \\frac{i W^{+}_{R} g v_{R} \\left(i B_{\\mu} \\delta_R^{--} g_{B-L} + \\frac{i g \\left(2 W^{3}_{R} \\delta_R^{--} - \\sqrt{2} W^{-}_{R} \\delta^{-}_{R}\\right)}{2}\\right)}{2} + \\left(- i B_{\\mu} g_{B-L} v_{R} + i W^{3}_{R} g v_{R}\\right) \\left(- \\frac{\\sqrt{2} i B_{\\mu} \\delta^{-}_{R} g_{B-L}}{2} + \\frac{i g \\left(W^{+}_{R} \\delta_R^{--} - W^{-}_{R} v_{R}\\right)}{2}\\right) & \\frac{i W^{+}_{R} g v_{R} \\left(- \\frac{\\sqrt{2} i B_{\\mu} \\delta^{-}_{R} g_{B-L}}{2} + \\frac{i g \\left(W^{+}_{R} \\delta_R^{--} - W^{-}_{R} v_{R}\\right)}{2}\\right)}{2}\\end{matrix}\\right]$"
      ],
      "text/plain": [
       "⎡                            ⎛√2⋅ⅈ⋅B_\\mu⋅\\delta_R__-⋅g_{B-L}   ⅈ⋅g⋅(-W_R__+⋅\\d\n",
       "⎢             ⅈ⋅W_R__+⋅g⋅v_R⋅⎜────────────────────────────── + ───────────────\n",
       "⎢                            ⎝              2                                 \n",
       "⎢           - ────────────────────────────────────────────────────────────────\n",
       "⎢                                                          2                  \n",
       "⎢                                                                             \n",
       "⎢                 ⎛                                 ⅈ⋅g⋅(2⋅W_R__3⋅\\delta_R__{-\n",
       "⎢  ⅈ⋅W_R__+⋅g⋅v_R⋅⎜ⅈ⋅B_\\mu⋅\\delta_R__{--}⋅g_{B-L} + ──────────────────────────\n",
       "⎢                 ⎝                                                           \n",
       "⎢- ───────────────────────────────────────────────────────────────────────────\n",
       "⎣                                                     2                       \n",
       "\n",
       "elta_R__{--} + W_R__-⋅v_R)⎞                                                   \n",
       "──────────────────────────⎟                                                   \n",
       "     2                    ⎠                                           ⎛       \n",
       "─────────────────────────── + (-ⅈ⋅B_\\mu⋅g_{B-L}⋅v_R + ⅈ⋅W_R__3⋅g⋅v_R)⋅⎜ⅈ⋅B_\\mu\n",
       "                                                                      ⎝       \n",
       "                                                                              \n",
       "-} - √2⋅W_R__-⋅\\delta_R__-)⎞                                                  \n",
       "───────────────────────────⎟                                                  \n",
       "2                          ⎠                                           ⎛  √2⋅ⅈ\n",
       "──────────────────────────── + (-ⅈ⋅B_\\mu⋅g_{B-L}⋅v_R + ⅈ⋅W_R__3⋅g⋅v_R)⋅⎜- ────\n",
       "                                                                       ⎝      \n",
       "\n",
       "                                                                              \n",
       "                                                                             ⅈ\n",
       "               ⅈ⋅g⋅(-2⋅W_R__3⋅v_R + √2⋅W_R__+⋅\\delta_R__-)⎞                   \n",
       "⋅g_{B-L}⋅v_R + ───────────────────────────────────────────⎟                  ─\n",
       "                                    2                     ⎠                   \n",
       "                                                                              \n",
       "                                                                              \n",
       "                                                                        ⅈ⋅W_R_\n",
       "⋅B_\\mu⋅\\delta_R__-⋅g_{B-L}   ⅈ⋅g⋅(W_R__+⋅\\delta_R__{--} - W_R__-⋅v_R)⎞        \n",
       "────────────────────────── + ────────────────────────────────────────⎟  ──────\n",
       "          2                                     2                    ⎠        \n",
       "\n",
       "              ⎛                      ⅈ⋅g⋅(-2⋅W_R__3⋅v_R + √2⋅W_R__+⋅\\delta_R__\n",
       "⋅W_R__+⋅g⋅v_R⋅⎜ⅈ⋅B_\\mu⋅g_{B-L}⋅v_R + ─────────────────────────────────────────\n",
       "              ⎝                                           2                   \n",
       "──────────────────────────────────────────────────────────────────────────────\n",
       "                                       2                                      \n",
       "                                                                              \n",
       "         ⎛  √2⋅ⅈ⋅B_\\mu⋅\\delta_R__-⋅g_{B-L}   ⅈ⋅g⋅(W_R__+⋅\\delta_R__{--} - W_R_\n",
       "_+⋅g⋅v_R⋅⎜- ────────────────────────────── + ─────────────────────────────────\n",
       "         ⎝                2                                     2             \n",
       "──────────────────────────────────────────────────────────────────────────────\n",
       "                                       2                                      \n",
       "\n",
       "-)⎞     ⎤\n",
       "──⎟     ⎥\n",
       "  ⎠     ⎥\n",
       "───     ⎥\n",
       "        ⎥\n",
       "        ⎥\n",
       "_-⋅v_R)⎞⎥\n",
       "───────⎟⎥\n",
       "       ⎠⎥\n",
       "────────⎥\n",
       "        ⎦"
      ]
     },
     "execution_count": 24,
     "metadata": {},
     "output_type": "execute_result"
    }
   ],
   "source": [
    "Dmu_DR_Dmu"
   ]
  },
  {
   "cell_type": "code",
   "execution_count": 25,
   "metadata": {},
   "outputs": [
    {
     "data": {
      "image/png": "[encoded data removed]",
      "text/latex": [
       "$\\displaystyle \\frac{v_{R} \\left(W^{+}_{R} g \\left(\\sqrt{2} B_{\\mu} \\delta^{-}_{R} g_{B-L} - g \\left(W^{+}_{R} \\delta_R^{--} - W^{-}_{R} v_{R}\\right)\\right) + 2 \\left(B_{\\mu} g_{B-L} - W^{3}_{R} g\\right) \\left(2 B_{\\mu} g_{B-L} v_{R} - g \\left(2 W^{3}_{R} v_{R} - \\sqrt{2} W^{+}_{R} \\delta^{-}_{R}\\right)\\right)\\right)}{4}$"
      ],
      "text/plain": [
       "v_R⋅(W_R__+⋅g⋅(√2⋅B_\\mu⋅\\delta_R__-⋅g_{B-L} - g⋅(W_R__+⋅\\delta_R__{--} - W_R__\n",
       "──────────────────────────────────────────────────────────────────────────────\n",
       "                                                                              \n",
       "\n",
       "-⋅v_R)) + 2⋅(B_\\mu⋅g_{B-L} - W_R__3⋅g)⋅(2⋅B_\\mu⋅g_{B-L}⋅v_R - g⋅(2⋅W_R__3⋅v_R \n",
       "──────────────────────────────────────────────────────────────────────────────\n",
       "            4                                                                 \n",
       "\n",
       "- √2⋅W_R__+⋅\\delta_R__-)))\n",
       "──────────────────────────\n",
       "                          "
      ]
     },
     "execution_count": 25,
     "metadata": {},
     "output_type": "execute_result"
    }
   ],
   "source": [
    "Dmu_DR_Dmu[0,0].simplify()"
   ]
  },
  {
   "cell_type": "code",
   "execution_count": 26,
   "metadata": {},
   "outputs": [
    {
     "data": {
      "image/png": "[encoded data removed]",
      "text/latex": [
       "$\\displaystyle \\frac{W^{+}_{R} g v_{R} \\left(\\sqrt{2} B_{\\mu} \\delta^{-}_{R} g_{B-L} - g \\left(W^{+}_{R} \\delta_R^{--} - W^{-}_{R} v_{R}\\right)\\right)}{4}$"
      ],
      "text/plain": [
       "W_R__+⋅g⋅v_R⋅(√2⋅B_\\mu⋅\\delta_R__-⋅g_{B-L} - g⋅(W_R__+⋅\\delta_R__{--} - W_R__-\n",
       "──────────────────────────────────────────────────────────────────────────────\n",
       "                                         4                                    \n",
       "\n",
       "⋅v_R))\n",
       "──────\n",
       "      "
      ]
     },
     "execution_count": 26,
     "metadata": {},
     "output_type": "execute_result"
    }
   ],
   "source": [
    "Dmu_DR_Dmu[1,1].simplify()"
   ]
  },
  {
   "cell_type": "code",
   "execution_count": 27,
   "metadata": {},
   "outputs": [
    {
     "data": {
      "image/png": "[encoded data removed]",
      "text/latex": [
       "$\\displaystyle v_{R}^{2} \\left(B_{\\mu}^{2} g_{B-L}^{2} - 2 B_{\\mu} W^{3}_{R} g g_{B-L} + \\left(W^{3}_{R}\\right)^{2} g^{2} + \\frac{W^{+}_{R} W^{-}_{R} g^{2}}{2}\\right) + v_{R} \\left(\\sqrt{2} B_{\\mu} W^{+}_{R} \\delta^{-}_{R} g g_{B-L} - \\frac{\\sqrt{2} W^{3}_{R} W^{+}_{R} \\delta^{-}_{R} g^{2}}{2} - \\frac{\\left(W^{+}_{R}\\right)^{2} \\delta_R^{--} g^{2}}{2}\\right)$"
      ],
      "text/plain": [
       "     ⎛                                                                        \n",
       "   2 ⎜     2        2                                    2  2   W_R__+⋅W_R__-⋅\n",
       "v_R ⋅⎜B_\\mu ⋅g_{B-L}  - 2⋅B_\\mu⋅W_R__3⋅g⋅g_{B-L} + W_R__3 ⋅g  + ──────────────\n",
       "     ⎝                                                                 2      \n",
       "\n",
       " 2⎞       ⎛                                                                   \n",
       "g ⎟       ⎜                                        √2⋅W_R__3⋅W_R__+⋅\\delta_R__\n",
       "──⎟ + v_R⋅⎜√2⋅B_\\mu⋅W_R__+⋅\\delta_R__-⋅g⋅g_{B-L} - ───────────────────────────\n",
       "  ⎠       ⎝                                                       2           \n",
       "\n",
       "   2         2                 2⎞\n",
       "-⋅g    W_R__+ ⋅\\delta_R__{--}⋅g ⎟\n",
       "──── - ─────────────────────────⎟\n",
       "                   2            ⎠"
      ]
     },
     "execution_count": 27,
     "metadata": {},
     "output_type": "execute_result"
    }
   ],
   "source": [
    "Tr_DmuR = trace(Dmu_DR_Dmu).expand().collect(vR)\n",
    "Tr_DmuR"
   ]
  },
  {
   "cell_type": "markdown",
   "metadata": {},
   "source": [
    "### Bidoublet"
   ]
  },
  {
   "cell_type": "code",
   "execution_count": 28,
   "metadata": {},
   "outputs": [],
   "source": [
    "phi1p, phi1m = symbols(r'\\phi_1^+, \\phi_1^-')\n",
    "phi2p, phi2m = symbols(r'\\phi_2^+, \\phi_2^-')\n",
    "\n",
    "phi10, phi20 = symbols(r'\\phi_1^0, \\phi_2^0', real=True)"
   ]
  },
  {
   "cell_type": "code",
   "execution_count": 29,
   "metadata": {},
   "outputs": [
    {
     "data": {
      "text/latex": [
       "$\\displaystyle \\left[\\begin{matrix}\\phi^{0}_{1} & \\phi^{+}_{1}\\\\\\phi^{-}_{2} & \\phi^{0}_{2}\\end{matrix}\\right]$"
      ],
      "text/plain": [
       "⎡\\phi⁰₁  \\phi⁺₁⎤\n",
       "⎢              ⎥\n",
       "⎣\\phi⁻₂  \\phi⁰₂⎦"
      ]
     },
     "execution_count": 29,
     "metadata": {},
     "output_type": "execute_result"
    }
   ],
   "source": [
    "Phi = Matrix(\n",
    "    [\n",
    "        [phi10, phi1p],\n",
    "        [phi2m, phi20]\n",
    "    ]\n",
    ")\n",
    "Phi"
   ]
  },
  {
   "cell_type": "code",
   "execution_count": 30,
   "metadata": {},
   "outputs": [
    {
     "data": {
      "text/latex": [
       "$\\displaystyle \\left[\\begin{matrix}k & 0\\\\0 & k_{1}\\end{matrix}\\right]$"
      ],
      "text/plain": [
       "⎡k  0 ⎤\n",
       "⎢     ⎥\n",
       "⎣0  k₁⎦"
      ]
     },
     "execution_count": 30,
     "metadata": {},
     "output_type": "execute_result"
    }
   ],
   "source": [
    "k, k1 = symbols(\"k, k_1\", positive=True)\n",
    "vevPhi = {phi10:k, phi20:k1, phi1p:0, phi2m:0, phi2p:0, phi1m:0}\n",
    "Phi.subs(vevPhi)"
   ]
  },
  {
   "cell_type": "code",
   "execution_count": 31,
   "metadata": {},
   "outputs": [
    {
     "data": {
      "text/latex": [
       "$\\displaystyle \\left[\\begin{matrix}- \\frac{i g \\left(W^{3}_{L} \\phi^{0}_{1} - W^{3}_{R} \\phi^{0}_{1} + W^{+}_{L} \\phi^{-}_{2} - W^{-}_{R} \\phi^{+}_{1}\\right)}{2} & - \\frac{i g \\left(W^{3}_{L} \\phi^{+}_{1} + W^{3}_{R} \\phi^{+}_{1} + W^{+}_{L} \\phi^{0}_{2} - W^{+}_{R} \\phi^{0}_{1}\\right)}{2}\\\\- \\frac{i g \\left(- W^{3}_{L} \\phi^{-}_{2} - W^{3}_{R} \\phi^{-}_{2} + W^{-}_{L} \\phi^{0}_{1} - W^{-}_{R} \\phi^{0}_{2}\\right)}{2} & - \\frac{i g \\left(- W^{3}_{L} \\phi^{0}_{2} + W^{3}_{R} \\phi^{0}_{2} + W^{-}_{L} \\phi^{+}_{1} - W^{+}_{R} \\phi^{-}_{2}\\right)}{2}\\end{matrix}\\right]$"
      ],
      "text/plain": [
       "⎡-ⅈ⋅g⋅(W_L__3⋅\\phi⁰₁ - W_R__3⋅\\phi⁰₁ + W_L__+⋅\\phi⁻₂ - W_R__-⋅\\phi⁺₁)    -ⅈ⋅g⋅\n",
       "⎢─────────────────────────────────────────────────────────────────────   ─────\n",
       "⎢                                  2                                          \n",
       "⎢                                                                             \n",
       "⎢-ⅈ⋅g⋅(-W_L__3⋅\\phi⁻₂ - W_R__3⋅\\phi⁻₂ + W_L__-⋅\\phi⁰₁ - W_R__-⋅\\phi⁰₂)   -ⅈ⋅g⋅\n",
       "⎢──────────────────────────────────────────────────────────────────────  ─────\n",
       "⎣                                  2                                          \n",
       "\n",
       "(W_L__3⋅\\phi⁺₁ + W_R__3⋅\\phi⁺₁ + W_L__+⋅\\phi⁰₂ - W_R__+⋅\\phi⁰₁)  ⎤\n",
       "──────────────────────────────────────────────────────────────── ⎥\n",
       "                             2                                   ⎥\n",
       "                                                                 ⎥\n",
       "(-W_L__3⋅\\phi⁰₂ + W_R__3⋅\\phi⁰₂ + W_L__-⋅\\phi⁺₁ - W_R__+⋅\\phi⁻₂) ⎥\n",
       "─────────────────────────────────────────────────────────────────⎥\n",
       "                             2                                   ⎦"
      ]
     },
     "execution_count": 31,
     "metadata": {},
     "output_type": "execute_result"
    }
   ],
   "source": [
    "Dmu_Phi = -I*g/2*(WsigmaL*Phi - Phi*WsigmaR) # B - L = 0 for the bidoublet\n",
    "Dmu_Phi"
   ]
  },
  {
   "cell_type": "code",
   "execution_count": 32,
   "metadata": {},
   "outputs": [],
   "source": [
    "conjugate_scalarsPhi = {\n",
    "    conjugate(phi1p):phi1m,\n",
    "    conjugate(phi2p):phi2m,\n",
    "    conjugate(phi1m):phi1p,\n",
    "    conjugate(phi2m):phi2p\n",
    "}"
   ]
  },
  {
   "cell_type": "code",
   "execution_count": 33,
   "metadata": {},
   "outputs": [
    {
     "data": {
      "text/latex": [
       "$\\displaystyle \\left[\\begin{matrix}\\frac{i g \\left(W^{3}_{L} \\phi^{0}_{1} - W^{3}_{R} \\phi^{0}_{1} + W^{-}_{L} \\phi^{+}_{2} - W^{+}_{R} \\phi^{-}_{1}\\right)}{2} & \\frac{i g \\left(- W^{3}_{L} \\phi^{+}_{2} - W^{3}_{R} \\phi^{+}_{2} + W^{+}_{L} \\phi^{0}_{1} - W^{+}_{R} \\phi^{0}_{2}\\right)}{2}\\\\\\frac{i g \\left(W^{3}_{L} \\phi^{-}_{1} + W^{3}_{R} \\phi^{-}_{1} + W^{-}_{L} \\phi^{0}_{2} - W^{-}_{R} \\phi^{0}_{1}\\right)}{2} & \\frac{i g \\left(- W^{3}_{L} \\phi^{0}_{2} + W^{3}_{R} \\phi^{0}_{2} + W^{+}_{L} \\phi^{-}_{1} - W^{-}_{R} \\phi^{+}_{2}\\right)}{2}\\end{matrix}\\right]$"
      ],
      "text/plain": [
       "⎡ⅈ⋅g⋅(W_L__3⋅\\phi⁰₁ - W_R__3⋅\\phi⁰₁ + W_L__-⋅\\phi⁺₂ - W_R__+⋅\\phi⁻₁)  ⅈ⋅g⋅(-W_\n",
       "⎢───────────────────────────────────────────────────────────────────  ────────\n",
       "⎢                                 2                                           \n",
       "⎢                                                                             \n",
       "⎢ⅈ⋅g⋅(W_L__3⋅\\phi⁻₁ + W_R__3⋅\\phi⁻₁ + W_L__-⋅\\phi⁰₂ - W_R__-⋅\\phi⁰₁)  ⅈ⋅g⋅(-W_\n",
       "⎢───────────────────────────────────────────────────────────────────  ────────\n",
       "⎣                                 2                                           \n",
       "\n",
       "L__3⋅\\phi⁺₂ - W_R__3⋅\\phi⁺₂ + W_L__+⋅\\phi⁰₁ - W_R__+⋅\\phi⁰₂)⎤\n",
       "────────────────────────────────────────────────────────────⎥\n",
       "                         2                                  ⎥\n",
       "                                                            ⎥\n",
       "L__3⋅\\phi⁰₂ + W_R__3⋅\\phi⁰₂ + W_L__+⋅\\phi⁻₁ - W_R__-⋅\\phi⁺₂)⎥\n",
       "────────────────────────────────────────────────────────────⎥\n",
       "                         2                                  ⎦"
      ]
     },
     "execution_count": 33,
     "metadata": {},
     "output_type": "execute_result"
    }
   ],
   "source": [
    "Dmu_Phi_dagger = conjugate(Dmu_Phi.T).subs(conjugate_scalarsPhi).subs(conjugate_fields)\n",
    "Dmu_Phi_dagger"
   ]
  },
  {
   "cell_type": "code",
   "execution_count": 34,
   "metadata": {},
   "outputs": [
    {
     "data": {
      "text/latex": [
       "$\\displaystyle \\left[\\begin{matrix}\\frac{g^{2} \\left(W^{3}_{L} k - W^{3}_{R} k\\right)^{2}}{4} + \\frac{g^{2} \\left(W^{+}_{L} k - W^{+}_{R} k_{1}\\right) \\left(W^{-}_{L} k - W^{-}_{R} k_{1}\\right)}{4} & \\frac{g^{2} \\left(W^{3}_{L} k - W^{3}_{R} k\\right) \\left(W^{+}_{L} k_{1} - W^{+}_{R} k\\right)}{4} + \\frac{g^{2} \\left(- W^{3}_{L} k_{1} + W^{3}_{R} k_{1}\\right) \\left(W^{+}_{L} k - W^{+}_{R} k_{1}\\right)}{4}\\\\\\frac{g^{2} \\left(W^{3}_{L} k - W^{3}_{R} k\\right) \\left(W^{-}_{L} k_{1} - W^{-}_{R} k\\right)}{4} + \\frac{g^{2} \\left(- W^{3}_{L} k_{1} + W^{3}_{R} k_{1}\\right) \\left(W^{-}_{L} k - W^{-}_{R} k_{1}\\right)}{4} & \\frac{g^{2} \\left(- W^{3}_{L} k_{1} + W^{3}_{R} k_{1}\\right)^{2}}{4} + \\frac{g^{2} \\left(W^{+}_{L} k_{1} - W^{+}_{R} k\\right) \\left(W^{-}_{L} k_{1} - W^{-}_{R} k\\right)}{4}\\end{matrix}\\right]$"
      ],
      "text/plain": [
       "⎡             2                      2    2                                   \n",
       "⎢            g ⋅(W_L__3⋅k - W_R__3⋅k)    g ⋅(W_L__+⋅k - W_R__+⋅k₁)⋅(W_L__-⋅k -\n",
       "⎢            ───────────────────────── + ─────────────────────────────────────\n",
       "⎢                        4                                      4             \n",
       "⎢                                                                             \n",
       "⎢ 2                                                 2                         \n",
       "⎢g ⋅(W_L__3⋅k - W_R__3⋅k)⋅(W_L__-⋅k₁ - W_R__-⋅k)   g ⋅(-W_L__3⋅k₁ + W_R__3⋅k₁)\n",
       "⎢─────────────────────────────────────────────── + ───────────────────────────\n",
       "⎣                       4                                                  4  \n",
       "\n",
       "                          2                                                 2 \n",
       " W_R__-⋅k₁)              g ⋅(W_L__3⋅k - W_R__3⋅k)⋅(W_L__+⋅k₁ - W_R__+⋅k)   g ⋅\n",
       "───────────              ─────────────────────────────────────────────── + ───\n",
       "                                                4                             \n",
       "                                                                              \n",
       "                                    2                         2    2          \n",
       "⋅(W_L__-⋅k - W_R__-⋅k₁)            g ⋅(-W_L__3⋅k₁ + W_R__3⋅k₁)    g ⋅(W_L__+⋅k\n",
       "───────────────────────            ──────────────────────────── + ────────────\n",
       "                                                4                             \n",
       "\n",
       "                                               ⎤\n",
       "(-W_L__3⋅k₁ + W_R__3⋅k₁)⋅(W_L__+⋅k - W_R__+⋅k₁)⎥\n",
       "───────────────────────────────────────────────⎥\n",
       "                     4                         ⎥\n",
       "                                               ⎥\n",
       "                                               ⎥\n",
       "₁ - W_R__+⋅k)⋅(W_L__-⋅k₁ - W_R__-⋅k)           ⎥\n",
       "────────────────────────────────────           ⎥\n",
       "           4                                   ⎦"
      ]
     },
     "execution_count": 34,
     "metadata": {},
     "output_type": "execute_result"
    }
   ],
   "source": [
    "Dmu_Phi_Dmu = (Dmu_Phi_dagger*Dmu_Phi).subs(vevPhi)\n",
    "Dmu_Phi_Dmu"
   ]
  },
  {
   "cell_type": "code",
   "execution_count": 35,
   "metadata": {},
   "outputs": [
    {
     "data": {
      "image/png": "[encoded data removed]",
      "text/latex": [
       "$\\displaystyle k^{2} \\left(\\frac{\\left(W^{3}_{L}\\right)^{2} g^{2}}{4} - \\frac{W^{3}_{L} W^{3}_{R} g^{2}}{2} + \\frac{\\left(W^{3}_{R}\\right)^{2} g^{2}}{4} + \\frac{W^{+}_{L} W^{-}_{L} g^{2}}{4} + \\frac{W^{+}_{R} W^{-}_{R} g^{2}}{4}\\right) + k \\left(- \\frac{W^{+}_{L} W^{-}_{R} g^{2} k_{1}}{2} - \\frac{W^{-}_{L} W^{+}_{R} g^{2} k_{1}}{2}\\right) + k_{1}^{2} \\left(\\frac{\\left(W^{3}_{L}\\right)^{2} g^{2}}{4} - \\frac{W^{3}_{L} W^{3}_{R} g^{2}}{2} + \\frac{\\left(W^{3}_{R}\\right)^{2} g^{2}}{4} + \\frac{W^{+}_{L} W^{-}_{L} g^{2}}{4} + \\frac{W^{+}_{R} W^{-}_{R} g^{2}}{4}\\right)$"
      ],
      "text/plain": [
       "   ⎛      2  2                  2         2  2                  2             \n",
       " 2 ⎜W_L__3 ⋅g    W_L__3⋅W_R__3⋅g    W_R__3 ⋅g    W_L__+⋅W_L__-⋅g    W_R__+⋅W_R\n",
       "k ⋅⎜────────── - ──────────────── + ────────── + ──────────────── + ──────────\n",
       "   ⎝    4               2               4               4                  4  \n",
       "\n",
       "     2⎞     ⎛                 2                     2   ⎞       ⎛      2  2   \n",
       "__-⋅g ⎟     ⎜  W_L__+⋅W_R__-⋅g ⋅k₁   W_L__-⋅W_R__+⋅g ⋅k₁⎟     2 ⎜W_L__3 ⋅g    \n",
       "──────⎟ + k⋅⎜- ─────────────────── - ───────────────────⎟ + k₁ ⋅⎜────────── - \n",
       "      ⎠     ⎝           2                     2         ⎠       ⎝    4        \n",
       "\n",
       "               2         2  2                  2                  2⎞\n",
       "W_L__3⋅W_R__3⋅g    W_R__3 ⋅g    W_L__+⋅W_L__-⋅g    W_R__+⋅W_R__-⋅g ⎟\n",
       "──────────────── + ────────── + ──────────────── + ────────────────⎟\n",
       "       2               4               4                  4        ⎠"
      ]
     },
     "execution_count": 35,
     "metadata": {},
     "output_type": "execute_result"
    }
   ],
   "source": [
    "Tr_DmuPhi = trace(Dmu_Phi_Dmu).expand().collect([k,k1])\n",
    "Tr_DmuPhi "
   ]
  },
  {
   "cell_type": "markdown",
   "metadata": {},
   "source": [
    "### Kinetic Higgs lagrangian"
   ]
  },
  {
   "cell_type": "code",
   "execution_count": 36,
   "metadata": {},
   "outputs": [],
   "source": [
    "LHiggs = Tr_DmuL + Tr_DmuR + Tr_DmuPhi "
   ]
  },
  {
   "cell_type": "code",
   "execution_count": 37,
   "metadata": {},
   "outputs": [
    {
     "data": {
      "image/png": "[encoded data removed]",
      "text/latex": [
       "$\\displaystyle k^{2} \\left(\\frac{\\left(W^{3}_{L}\\right)^{2} g^{2}}{4} - \\frac{W^{3}_{L} W^{3}_{R} g^{2}}{2} + \\frac{\\left(W^{3}_{R}\\right)^{2} g^{2}}{4} + \\frac{W^{+}_{L} W^{-}_{L} g^{2}}{4} + \\frac{W^{+}_{R} W^{-}_{R} g^{2}}{4}\\right) + k \\left(- \\frac{W^{+}_{L} W^{-}_{R} g^{2} k_{1}}{2} - \\frac{W^{-}_{L} W^{+}_{R} g^{2} k_{1}}{2}\\right) + k_{1}^{2} \\left(\\frac{\\left(W^{3}_{L}\\right)^{2} g^{2}}{4} - \\frac{W^{3}_{L} W^{3}_{R} g^{2}}{2} + \\frac{\\left(W^{3}_{R}\\right)^{2} g^{2}}{4} + \\frac{W^{+}_{L} W^{-}_{L} g^{2}}{4} + \\frac{W^{+}_{R} W^{-}_{R} g^{2}}{4}\\right) + v_{L}^{2} \\left(B_{\\mu}^{2} g_{B-L}^{2} - 2 B_{\\mu} W^{3}_{L} g g_{B-L} + \\left(W^{3}_{L}\\right)^{2} g^{2} + \\frac{W^{+}_{L} W^{-}_{L} g^{2}}{2}\\right) + v_{L} \\left(\\sqrt{2} B_{\\mu} W^{+}_{L} \\delta^{-}_{L} g g_{B-L} - \\frac{\\sqrt{2} W^{3}_{L} W^{+}_{L} \\delta^{-}_{L} g^{2}}{2} - \\frac{\\left(W^{+}_{L}\\right)^{2} \\delta_L^{--} g^{2}}{2}\\right) + v_{R}^{2} \\left(B_{\\mu}^{2} g_{B-L}^{2} - 2 B_{\\mu} W^{3}_{R} g g_{B-L} + \\left(W^{3}_{R}\\right)^{2} g^{2} + \\frac{W^{+}_{R} W^{-}_{R} g^{2}}{2}\\right) + v_{R} \\left(\\sqrt{2} B_{\\mu} W^{+}_{R} \\delta^{-}_{R} g g_{B-L} - \\frac{\\sqrt{2} W^{3}_{R} W^{+}_{R} \\delta^{-}_{R} g^{2}}{2} - \\frac{\\left(W^{+}_{R}\\right)^{2} \\delta_R^{--} g^{2}}{2}\\right)$"
      ],
      "text/plain": [
       "   ⎛      2  2                  2         2  2                  2             \n",
       " 2 ⎜W_L__3 ⋅g    W_L__3⋅W_R__3⋅g    W_R__3 ⋅g    W_L__+⋅W_L__-⋅g    W_R__+⋅W_R\n",
       "k ⋅⎜────────── - ──────────────── + ────────── + ──────────────── + ──────────\n",
       "   ⎝    4               2               4               4                  4  \n",
       "\n",
       "     2⎞     ⎛                 2                     2   ⎞       ⎛      2  2   \n",
       "__-⋅g ⎟     ⎜  W_L__+⋅W_R__-⋅g ⋅k₁   W_L__-⋅W_R__+⋅g ⋅k₁⎟     2 ⎜W_L__3 ⋅g    \n",
       "──────⎟ + k⋅⎜- ─────────────────── - ───────────────────⎟ + k₁ ⋅⎜────────── - \n",
       "      ⎠     ⎝           2                     2         ⎠       ⎝    4        \n",
       "\n",
       "               2         2  2                  2                  2⎞        ⎛ \n",
       "W_L__3⋅W_R__3⋅g    W_R__3 ⋅g    W_L__+⋅W_L__-⋅g    W_R__+⋅W_R__-⋅g ⎟      2 ⎜ \n",
       "──────────────── + ────────── + ──────────────── + ────────────────⎟ + v_L ⋅⎜B\n",
       "       2               4               4                  4        ⎠        ⎝ \n",
       "\n",
       "                                                                        2⎞    \n",
       "    2        2                                    2  2   W_L__+⋅W_L__-⋅g ⎟    \n",
       "_\\mu ⋅g_{B-L}  - 2⋅B_\\mu⋅W_L__3⋅g⋅g_{B-L} + W_L__3 ⋅g  + ────────────────⎟ + v\n",
       "                                                                2        ⎠    \n",
       "\n",
       "   ⎛                                                                      2   \n",
       "   ⎜                                        √2⋅W_L__3⋅W_L__+⋅\\delta_L__-⋅g    \n",
       "_L⋅⎜√2⋅B_\\mu⋅W_L__+⋅\\delta_L__-⋅g⋅g_{B-L} - ─────────────────────────────── - \n",
       "   ⎝                                                       2                  \n",
       "\n",
       "      2                 2⎞        ⎛                                           \n",
       "W_L__+ ⋅\\delta_L__{--}⋅g ⎟      2 ⎜     2        2                            \n",
       "─────────────────────────⎟ + v_R ⋅⎜B_\\mu ⋅g_{B-L}  - 2⋅B_\\mu⋅W_R__3⋅g⋅g_{B-L} \n",
       "            2            ⎠        ⎝                                           \n",
       "\n",
       "                              2⎞       ⎛                                      \n",
       "        2  2   W_R__+⋅W_R__-⋅g ⎟       ⎜                                      \n",
       "+ W_R__3 ⋅g  + ────────────────⎟ + v_R⋅⎜√2⋅B_\\mu⋅W_R__+⋅\\delta_R__-⋅g⋅g_{B-L} \n",
       "                      2        ⎠       ⎝                                      \n",
       "\n",
       "                                2         2                 2⎞\n",
       "  √2⋅W_R__3⋅W_R__+⋅\\delta_R__-⋅g    W_R__+ ⋅\\delta_R__{--}⋅g ⎟\n",
       "- ─────────────────────────────── - ─────────────────────────⎟\n",
       "                 2                              2            ⎠"
      ]
     },
     "execution_count": 37,
     "metadata": {},
     "output_type": "execute_result"
    }
   ],
   "source": [
    "LHiggs"
   ]
  },
  {
   "cell_type": "markdown",
   "metadata": {},
   "source": [
    "#### $W^\\pm$ mass matrix"
   ]
  },
  {
   "cell_type": "code",
   "execution_count": 38,
   "metadata": {},
   "outputs": [
    {
     "data": {
      "text/latex": [
       "$\\displaystyle \\left[\\begin{matrix}\\frac{g^{2} \\left(k^{2} + k_{1}^{2} + 2 v_{L}^{2}\\right)}{4} & - \\frac{g^{2} k k_{1}}{2}\\\\- \\frac{g^{2} k k_{1}}{2} & \\frac{g^{2} \\left(k^{2} + k_{1}^{2} + 2 v_{R}^{2}\\right)}{4}\\end{matrix}\\right]$"
      ],
      "text/plain": [
       "⎡ 2 ⎛ 2     2        2⎞          2             ⎤\n",
       "⎢g ⋅⎝k  + k₁  + 2⋅v_L ⎠        -g ⋅k⋅k₁        ⎥\n",
       "⎢──────────────────────        ─────────       ⎥\n",
       "⎢          4                       2           ⎥\n",
       "⎢                                              ⎥\n",
       "⎢        2                2 ⎛ 2     2        2⎞⎥\n",
       "⎢      -g ⋅k⋅k₁          g ⋅⎝k  + k₁  + 2⋅v_R ⎠⎥\n",
       "⎢      ─────────         ──────────────────────⎥\n",
       "⎣          2                       4           ⎦"
      ]
     },
     "execution_count": 38,
     "metadata": {},
     "output_type": "execute_result"
    }
   ],
   "source": [
    "MW11 = LHiggs.diff(WLm, WLp)\n",
    "MW12 = LHiggs.diff(WLm, WRp)\n",
    "MW21 = LHiggs.diff(WRm, WLp)\n",
    "MW22 = LHiggs.diff(WRm, WRp)\n",
    "\n",
    "MW = Matrix(\n",
    "    [\n",
    "        [MW11, MW12],\n",
    "        [MW21, MW22]\n",
    "    ]\n",
    ")\n",
    "MW"
   ]
  },
  {
   "cell_type": "code",
   "execution_count": 39,
   "metadata": {},
   "outputs": [
    {
     "data": {
      "image/png": "[encoded data removed]",
      "text/latex": [
       "$\\displaystyle \\left( \\frac{g^{2} \\left(k^{2} + k_{1}^{2} + v_{L}^{2} + v_{R}^{2}\\right)}{4} - \\frac{g^{2} \\sqrt{k^{2} k_{1}^{2} + \\frac{v_{L}^{4}}{4} - \\frac{v_{L}^{2} v_{R}^{2}}{2} + \\frac{v_{R}^{4}}{4}}}{2}, \\  \\frac{g^{2} \\left(k^{2} + k_{1}^{2} + v_{L}^{2} + v_{R}^{2}\\right)}{4} + \\frac{g^{2} \\sqrt{k^{2} k_{1}^{2} + \\frac{v_{L}^{4}}{4} - \\frac{v_{L}^{2} v_{R}^{2}}{2} + \\frac{v_{R}^{4}}{4}}}{2}\\right)$"
      ],
      "text/plain": [
       "⎛                                      __________________________________     \n",
       "⎜                                     ╱             4      2    2      4      \n",
       "⎜                               2    ╱   2   2   v_L    v_L ⋅v_R    v_R       \n",
       "⎜ 2 ⎛ 2     2      2      2⎞   g ⋅  ╱   k ⋅k₁  + ──── - ───────── + ────    2 \n",
       "⎜g ⋅⎝k  + k₁  + v_L  + v_R ⎠      ╲╱              4         2        4     g ⋅\n",
       "⎜─────────────────────────── - ──────────────────────────────────────────, ───\n",
       "⎝             4                                    2                          \n",
       "\n",
       "                                   __________________________________⎞\n",
       "                                  ╱             4      2    2      4 ⎟\n",
       "                            2    ╱   2   2   v_L    v_L ⋅v_R    v_R  ⎟\n",
       "⎛ 2     2      2      2⎞   g ⋅  ╱   k ⋅k₁  + ──── - ───────── + ──── ⎟\n",
       "⎝k  + k₁  + v_L  + v_R ⎠      ╲╱              4         2        4   ⎟\n",
       "──────────────────────── + ──────────────────────────────────────────⎟\n",
       "          4                                    2                     ⎠"
      ]
     },
     "execution_count": 39,
     "metadata": {},
     "output_type": "execute_result"
    }
   ],
   "source": [
    "MW1square, MW2square = list(MW.eigenvals().keys())\n",
    "MW1square, MW2square"
   ]
  },
  {
   "cell_type": "code",
   "execution_count": 40,
   "metadata": {},
   "outputs": [
    {
     "data": {
      "image/png": "[encoded data removed]",
      "text/latex": [
       "$\\displaystyle \\sqrt{k^{2} k_{1}^{2} + \\frac{v_{L}^{4}}{4} - \\frac{v_{L}^{2} v_{R}^{2}}{2} + \\frac{v_{R}^{4}}{4}}$"
      ],
      "text/plain": [
       "     __________________________________\n",
       "    ╱             4      2    2      4 \n",
       "   ╱   2   2   v_L    v_L ⋅v_R    v_R  \n",
       "  ╱   k ⋅k₁  + ──── - ───────── + ──── \n",
       "╲╱              4         2        4   "
      ]
     },
     "execution_count": 40,
     "metadata": {},
     "output_type": "execute_result"
    }
   ],
   "source": [
    "sqrt_vevs = MW1square.args[0].args[2]\n",
    "sqrt_vevs"
   ]
  },
  {
   "cell_type": "code",
   "execution_count": 41,
   "metadata": {},
   "outputs": [
    {
     "data": {
      "image/png": "[encoded data removed]",
      "text/latex": [
       "$\\displaystyle k^{2} k_{1}^{2} + \\frac{\\left(v_{L} - v_{R}\\right)^{2} \\left(v_{L} + v_{R}\\right)^{2}}{4}$"
      ],
      "text/plain": [
       "                    2            2\n",
       " 2   2   (v_L - v_R) ⋅(v_L + v_R) \n",
       "k ⋅k₁  + ─────────────────────────\n",
       "                     4            "
      ]
     },
     "execution_count": 41,
     "metadata": {},
     "output_type": "execute_result"
    }
   ],
   "source": [
    "sqrt_vevs_sim = (sqrt_vevs.args[0] - k**2*k1**2).factor() + k**2*k1**2\n",
    "sqrt_vevs_sim"
   ]
  },
  {
   "cell_type": "markdown",
   "metadata": {},
   "source": [
    "Following the hierarchy $v_R >> k$ and $k_1 >> v_L$\n",
    "$$ \\sqrt{k^{2} k_{1}^{2} + \\frac{\\left(v_{L} - v_{R}\\right)^{2} \\left(v_{L} + v_{R}\\right)^{2}}{4}} \\approx \n",
    "\\sqrt{k^{2} k_{1}^{2} + \\frac{v_{R}^4}{4}} = \\frac{v_R^2}{2}\\sqrt{1+x}\n",
    "$$\n",
    "where $x = \\frac{4 k^2k_1^2}{v_R^4} << 1$. Then we can use the aproximation $\\sqrt{1+x} \\approx 1 +\\frac{x}{2}$ "
   ]
  },
  {
   "cell_type": "code",
   "execution_count": 42,
   "metadata": {},
   "outputs": [
    {
     "data": {
      "image/png": "[encoded data removed]",
      "text/latex": [
       "$\\displaystyle k^{2} k_{1}^{2} + \\frac{v_{R}^{2}}{2}$"
      ],
      "text/plain": [
       "            2\n",
       " 2   2   v_R \n",
       "k ⋅k₁  + ────\n",
       "          2  "
      ]
     },
     "execution_count": 42,
     "metadata": {},
     "output_type": "execute_result"
    }
   ],
   "source": [
    "x = (4*k**2*k1**2)/vR**2\n",
    "sqrt_vevs_approx = ((vR**2/2)*(1 + x/2)).simplify()\n",
    "sqrt_vevs_approx"
   ]
  },
  {
   "cell_type": "code",
   "execution_count": 43,
   "metadata": {},
   "outputs": [
    {
     "data": {
      "image/png": "[encoded data removed]",
      "text/latex": [
       "$\\displaystyle \\frac{g^{2} \\left(k^{2} + k_{1}^{2} + v_{L}^{2} + v_{R}^{2}\\right)}{4} - \\frac{g^{2} \\sqrt{k^{2} k_{1}^{2} + \\frac{v_{L}^{4}}{4} - \\frac{v_{L}^{2} v_{R}^{2}}{2} + \\frac{v_{R}^{4}}{4}}}{2}$"
      ],
      "text/plain": [
       "                                      __________________________________\n",
       "                                     ╱             4      2    2      4 \n",
       "                               2    ╱   2   2   v_L    v_L ⋅v_R    v_R  \n",
       " 2 ⎛ 2     2      2      2⎞   g ⋅  ╱   k ⋅k₁  + ──── - ───────── + ──── \n",
       "g ⋅⎝k  + k₁  + v_L  + v_R ⎠      ╲╱              4         2        4   \n",
       "─────────────────────────── - ──────────────────────────────────────────\n",
       "             4                                    2                     "
      ]
     },
     "execution_count": 43,
     "metadata": {},
     "output_type": "execute_result"
    }
   ],
   "source": [
    "MW1square"
   ]
  },
  {
   "cell_type": "code",
   "execution_count": 44,
   "metadata": {},
   "outputs": [
    {
     "data": {
      "image/png": "[encoded data removed]",
      "text/latex": [
       "$\\displaystyle \\left\\{ k^{2} - k_{1}^{2} : k^{2}_{-}, \\  k^{2} + k_{1}^{2} : k^{2}_{+}\\right\\}$"
      ],
      "text/plain": [
       "⎧ 2     2        2     2     ⎫\n",
       "⎨k  - k₁ : k²₋, k  + k₁ : k²₊⎬\n",
       "⎩                            ⎭"
      ]
     },
     "execution_count": 44,
     "metadata": {},
     "output_type": "execute_result"
    }
   ],
   "source": [
    "kp_square, km_square = symbols('k_+^2, k_-^2', positive=True)\n",
    "k2pm_subs = {\n",
    "    k**2 + k1**2: kp_square,\n",
    "    k**2 - k1**2: km_square\n",
    "}\n",
    "k2pm_subs"
   ]
  },
  {
   "cell_type": "code",
   "execution_count": 45,
   "metadata": {},
   "outputs": [
    {
     "data": {
      "image/png": "[encoded data removed]",
      "text/latex": [
       "$\\displaystyle - \\frac{g^{2} k^{2} k_{1}^{2}}{2} + \\frac{g^{2} k^{2}_{+}}{4}$"
      ],
      "text/plain": [
       "   2  2   2    2    \n",
       "  g ⋅k ⋅k₁    g ⋅k²₊\n",
       "- ───────── + ──────\n",
       "      2         4   "
      ]
     },
     "execution_count": 45,
     "metadata": {},
     "output_type": "execute_result"
    }
   ],
   "source": [
    "MW1square_approx = MW1square.subs(sqrt_vevs, sqrt_vevs_approx).subs(k2pm_subs).subs(vL,0).expand().collect(kp_square, factor)\n",
    "MW1square_approx "
   ]
  },
  {
   "cell_type": "code",
   "execution_count": 46,
   "metadata": {},
   "outputs": [
    {
     "data": {
      "image/png": "[encoded data removed]",
      "text/latex": [
       "$\\displaystyle \\frac{g^{2} k^{2} k_{1}^{2}}{2} + \\frac{g^{2} k^{2}_{+}}{4} + \\frac{g^{2} v_{R}^{2}}{2}$"
      ],
      "text/plain": [
       " 2  2   2    2        2    2\n",
       "g ⋅k ⋅k₁    g ⋅k²₊   g ⋅v_R \n",
       "───────── + ────── + ───────\n",
       "    2         4         2   "
      ]
     },
     "execution_count": 46,
     "metadata": {},
     "output_type": "execute_result"
    }
   ],
   "source": [
    "MW2square.subs(sqrt_vevs, sqrt_vevs_approx).subs(k2pm_subs).subs(vL,0).expand().collect(kp_square)\n"
   ]
  },
  {
   "cell_type": "code",
   "execution_count": 47,
   "metadata": {},
   "outputs": [],
   "source": [
    "MW2square_approx = g**2/4*vR**2"
   ]
  },
  {
   "cell_type": "markdown",
   "metadata": {},
   "source": [
    "In this approximation \n",
    "$$M_{W_2}^2 \\approx \\frac{g^2}{4}k_+^2\\left(1 - \\frac{2 k^2 k_1^2}{k_+^2} \\right)$$\n",
    "$$M_{W_2}^2 \\approx \\frac{g^2}{4}v_R^2$$"
   ]
  },
  {
   "cell_type": "code",
   "execution_count": 48,
   "metadata": {},
   "outputs": [
    {
     "data": {
      "text/latex": [
       "$\\displaystyle \\left[\\begin{matrix}- \\frac{g^{2} k^{2} k_{1}^{2}}{2} + \\frac{g^{2} k^{2}_{+}}{4} & 0\\\\0 & \\frac{g^{2} v_{R}^{2}}{4}\\end{matrix}\\right]$"
      ],
      "text/plain": [
       "⎡   2  2   2    2             ⎤\n",
       "⎢  g ⋅k ⋅k₁    g ⋅k²₊         ⎥\n",
       "⎢- ───────── + ──────     0   ⎥\n",
       "⎢      2         4            ⎥\n",
       "⎢                             ⎥\n",
       "⎢                       2    2⎥\n",
       "⎢                      g ⋅v_R ⎥\n",
       "⎢         0            ───────⎥\n",
       "⎣                         4   ⎦"
      ]
     },
     "execution_count": 48,
     "metadata": {},
     "output_type": "execute_result"
    }
   ],
   "source": [
    "MW_approx = Matrix(\n",
    "    [\n",
    "        [MW1square_approx, 0 ],\n",
    "        [0, MW2square_approx]\n",
    "    ]\n",
    ")\n",
    "MW_approx"
   ]
  },
  {
   "cell_type": "markdown",
   "metadata": {},
   "source": [
    "In this approximation the gauge eigenstates are also approximate mass eigenstates, ans since the expressions for current, etc., are simpler in the $W_{L,R}\\pm$ basis ,it is often used in phenomenological studies. The mixing is given by \n",
    "\n",
    "$$\\binom{W_L^{ \\pm}}{W_R^{ \\pm}}=\\left(\\begin{array}{cc}\n",
    "\\cos \\zeta & -\\sin \\zeta e^{i \\lambda} \\\\\n",
    "\\sin \\zeta e^{-i \\lambda} & \\cos \\zeta\n",
    "\\end{array}\\right)\\binom{W_1^{ \\pm}}{W_2^{ \\pm}} .$$"
   ]
  },
  {
   "cell_type": "code",
   "execution_count": 49,
   "metadata": {},
   "outputs": [],
   "source": [
    "from sympy import cos, sin, tan"
   ]
  },
  {
   "cell_type": "code",
   "execution_count": 50,
   "metadata": {},
   "outputs": [
    {
     "data": {
      "image/png": "[encoded data removed]",
      "text/latex": [
       "$\\displaystyle \\left( \\sin{\\left(\\zeta \\right)}, \\  \\cos{\\left(\\zeta \\right)}\\right)$"
      ],
      "text/plain": [
       "(sin(\\zeta), cos(\\zeta))"
      ]
     },
     "execution_count": 50,
     "metadata": {},
     "output_type": "execute_result"
    }
   ],
   "source": [
    "zeta = symbols(r'\\zeta', positive=True)\n",
    "cz = cos(zeta)\n",
    "sz = sin(zeta)\n",
    "sz, cz"
   ]
  },
  {
   "cell_type": "code",
   "execution_count": 51,
   "metadata": {},
   "outputs": [
    {
     "data": {
      "text/latex": [
       "$\\displaystyle \\left[\\begin{matrix}\\cos{\\left(\\zeta \\right)} & - \\sin{\\left(\\zeta \\right)}\\\\\\sin{\\left(\\zeta \\right)} & \\cos{\\left(\\zeta \\right)}\\end{matrix}\\right]$"
      ],
      "text/plain": [
       "⎡cos(\\zeta)  -sin(\\zeta)⎤\n",
       "⎢                       ⎥\n",
       "⎣sin(\\zeta)  cos(\\zeta) ⎦"
      ]
     },
     "execution_count": 51,
     "metadata": {},
     "output_type": "execute_result"
    }
   ],
   "source": [
    "RW = Matrix(\n",
    "    [\n",
    "        [cz, -sz],\n",
    "        [sz, cz]\n",
    "    ]\n",
    ")\n",
    "RW"
   ]
  },
  {
   "cell_type": "code",
   "execution_count": 52,
   "metadata": {},
   "outputs": [],
   "source": [
    "W1p, W2p = symbols('W_1^+, W_2^+', real=True)"
   ]
  },
  {
   "cell_type": "code",
   "execution_count": 53,
   "metadata": {},
   "outputs": [
    {
     "data": {
      "text/latex": [
       "$\\displaystyle \\left[\\begin{matrix}W^{+}_{1}\\\\W^{+}_{2}\\end{matrix}\\right]$"
      ],
      "text/plain": [
       "⎡W⁺₁⎤\n",
       "⎢   ⎥\n",
       "⎣W⁺₂⎦"
      ]
     },
     "execution_count": 53,
     "metadata": {},
     "output_type": "execute_result"
    }
   ],
   "source": [
    "W12p_doublet = Matrix(\n",
    "    [\n",
    "        [W1p],\n",
    "        [W2p]\n",
    "    ]\n",
    ")\n",
    "W12p_doublet"
   ]
  },
  {
   "cell_type": "code",
   "execution_count": 54,
   "metadata": {},
   "outputs": [
    {
     "data": {
      "text/latex": [
       "$\\displaystyle \\left[\\begin{matrix}W^{+}_{1} \\cos{\\left(\\zeta \\right)} - W^{+}_{2} \\sin{\\left(\\zeta \\right)}\\\\W^{+}_{1} \\sin{\\left(\\zeta \\right)} + W^{+}_{2} \\cos{\\left(\\zeta \\right)}\\end{matrix}\\right]$"
      ],
      "text/plain": [
       "⎡W⁺₁⋅cos(\\zeta) - W⁺₂⋅sin(\\zeta)⎤\n",
       "⎢                               ⎥\n",
       "⎣W⁺₁⋅sin(\\zeta) + W⁺₂⋅cos(\\zeta)⎦"
      ]
     },
     "execution_count": 54,
     "metadata": {},
     "output_type": "execute_result"
    }
   ],
   "source": [
    "mixingW12 = RW*W12p_doublet\n",
    "mixingW12"
   ]
  },
  {
   "cell_type": "code",
   "execution_count": 55,
   "metadata": {},
   "outputs": [
    {
     "data": {
      "image/png": "[encoded data removed]",
      "text/latex": [
       "$\\displaystyle W^{+}_{L}$"
      ],
      "text/plain": [
       "W_L__+"
      ]
     },
     "execution_count": 55,
     "metadata": {},
     "output_type": "execute_result"
    }
   ],
   "source": [
    "WLp"
   ]
  },
  {
   "cell_type": "code",
   "execution_count": 56,
   "metadata": {},
   "outputs": [
    {
     "data": {
      "image/png": "[encoded data removed]",
      "text/latex": [
       "$\\displaystyle \\left( W^{+}_{1} \\cos{\\left(\\zeta \\right)} - W^{+}_{2} \\sin{\\left(\\zeta \\right)}, \\  W^{+}_{1} \\sin{\\left(\\zeta \\right)} + W^{+}_{2} \\cos{\\left(\\zeta \\right)}\\right)$"
      ],
      "text/plain": [
       "(W⁺₁⋅cos(\\zeta) - W⁺₂⋅sin(\\zeta), W⁺₁⋅sin(\\zeta) + W⁺₂⋅cos(\\zeta))"
      ]
     },
     "execution_count": 56,
     "metadata": {},
     "output_type": "execute_result"
    }
   ],
   "source": [
    "WLp_mix = mixingW12[0]\n",
    "WRp_mix = mixingW12[1]\n",
    "WLp_mix, WRp_mix"
   ]
  },
  {
   "cell_type": "markdown",
   "metadata": {},
   "source": [
    "#### Neutral boson mass matrix"
   ]
  },
  {
   "cell_type": "code",
   "execution_count": 57,
   "metadata": {},
   "outputs": [],
   "source": [
    "from sympy.tensor.array import derive_by_array"
   ]
  },
  {
   "cell_type": "code",
   "execution_count": 58,
   "metadata": {},
   "outputs": [
    {
     "data": {
      "text/latex": [
       "$\\displaystyle \\left[\\begin{matrix}\\frac{g^{2} \\left(k^{2} + k_{1}^{2} + 4 v_{L}^{2}\\right)}{4} & \\frac{g^{2} \\left(- k^{2} - k_{1}^{2}\\right)}{4} & - g g_{B-L} v_{L}^{2}\\\\\\frac{g^{2} \\left(- k^{2} - k_{1}^{2}\\right)}{4} & \\frac{g^{2} \\left(k^{2} + k_{1}^{2} + 4 v_{R}^{2}\\right)}{4} & - g g_{B-L} v_{R}^{2}\\\\- g g_{B-L} v_{L}^{2} & - g g_{B-L} v_{R}^{2} & g_{B-L}^{2} \\left(v_{L}^{2} + v_{R}^{2}\\right)\\end{matrix}\\right]$"
      ],
      "text/plain": [
       "⎡ 2 ⎛ 2     2        2⎞      2 ⎛   2     2⎞                            ⎤\n",
       "⎢g ⋅⎝k  + k₁  + 4⋅v_L ⎠     g ⋅⎝- k  - k₁ ⎠                       2    ⎥\n",
       "⎢──────────────────────     ───────────────         -g⋅g_{B-L}⋅v_L     ⎥\n",
       "⎢          4                       4                                   ⎥\n",
       "⎢                                                                      ⎥\n",
       "⎢    2 ⎛   2     2⎞       2 ⎛ 2     2        2⎞                        ⎥\n",
       "⎢   g ⋅⎝- k  - k₁ ⎠      g ⋅⎝k  + k₁  + 4⋅v_R ⎠                   2    ⎥\n",
       "⎢   ───────────────      ──────────────────────     -g⋅g_{B-L}⋅v_R     ⎥\n",
       "⎢          4                       4                                   ⎥\n",
       "⎢                                                                      ⎥\n",
       "⎢                 2                       2             2 ⎛   2      2⎞⎥\n",
       "⎣   -g⋅g_{B-L}⋅v_L          -g⋅g_{B-L}⋅v_R       g_{B-L} ⋅⎝v_L  + v_R ⎠⎦"
      ]
     },
     "execution_count": 58,
     "metadata": {},
     "output_type": "execute_result"
    }
   ],
   "source": [
    "WLWRB = [W3L, W3R, Bmu]\n",
    "M0_square = derive_by_array(derive_by_array(LHiggs, WLWRB), WLWRB).simplify().tomatrix()/2\n",
    "M0_square"
   ]
  },
  {
   "cell_type": "code",
   "execution_count": 59,
   "metadata": {},
   "outputs": [],
   "source": [
    "M0_square = M0_square.subs(k2pm_subs)"
   ]
  },
  {
   "cell_type": "code",
   "execution_count": 60,
   "metadata": {},
   "outputs": [
    {
     "data": {
      "text/latex": [
       "$\\displaystyle \\left[\\begin{matrix}\\frac{g^{2} \\left(k^{2}_{+} + 4 v_{L}^{2}\\right)}{4} & - \\frac{g^{2} k^{2}_{+}}{4} & - g g_{B-L} v_{L}^{2}\\\\- \\frac{g^{2} k^{2}_{+}}{4} & \\frac{g^{2} \\left(k^{2}_{+} + 4 v_{R}^{2}\\right)}{4} & - g g_{B-L} v_{R}^{2}\\\\- g g_{B-L} v_{L}^{2} & - g g_{B-L} v_{R}^{2} & g_{B-L}^{2} \\left(v_{L}^{2} + v_{R}^{2}\\right)\\end{matrix}\\right]$"
      ],
      "text/plain": [
       "⎡ 2 ⎛           2⎞        2                                  ⎤\n",
       "⎢g ⋅⎝k²₊ + 4⋅v_L ⎠      -g ⋅k²₊                         2    ⎥\n",
       "⎢─────────────────      ────────          -g⋅g_{B-L}⋅v_L     ⎥\n",
       "⎢        4                 4                                 ⎥\n",
       "⎢                                                            ⎥\n",
       "⎢      2             2 ⎛           2⎞                        ⎥\n",
       "⎢    -g ⋅k²₊        g ⋅⎝k²₊ + 4⋅v_R ⎠                   2    ⎥\n",
       "⎢    ────────       ─────────────────     -g⋅g_{B-L}⋅v_R     ⎥\n",
       "⎢       4                   4                                ⎥\n",
       "⎢                                                            ⎥\n",
       "⎢               2                  2          2 ⎛   2      2⎞⎥\n",
       "⎣ -g⋅g_{B-L}⋅v_L     -g⋅g_{B-L}⋅v_R    g_{B-L} ⋅⎝v_L  + v_R ⎠⎦"
      ]
     },
     "execution_count": 60,
     "metadata": {},
     "output_type": "execute_result"
    }
   ],
   "source": [
    "M0_square#.subs(vL, 0)"
   ]
  },
  {
   "cell_type": "code",
   "execution_count": 61,
   "metadata": {},
   "outputs": [
    {
     "data": {
      "text/latex": [
       "$\\displaystyle \\left[\\begin{matrix}\\frac{g^{2} k^{2}_{+}}{4} & - \\frac{g^{2} k^{2}_{+}}{4} & 0\\\\- \\frac{g^{2} k^{2}_{+}}{4} & \\frac{g^{2} \\left(k^{2}_{+} + 4 v_{R}^{2}\\right)}{4} & - g g_{B-L} v_{R}^{2}\\\\0 & - g g_{B-L} v_{R}^{2} & g_{B-L}^{2} v_{R}^{2}\\end{matrix}\\right]$"
      ],
      "text/plain": [
       "⎡  2             2                           ⎤\n",
       "⎢ g ⋅k²₊       -g ⋅k²₊                       ⎥\n",
       "⎢ ──────       ────────              0       ⎥\n",
       "⎢   4             4                          ⎥\n",
       "⎢                                            ⎥\n",
       "⎢  2        2 ⎛           2⎞                 ⎥\n",
       "⎢-g ⋅k²₊   g ⋅⎝k²₊ + 4⋅v_R ⎠                2⎥\n",
       "⎢────────  ─────────────────  -g⋅g_{B-L}⋅v_R ⎥\n",
       "⎢   4              4                         ⎥\n",
       "⎢                                            ⎥\n",
       "⎢                         2           2    2 ⎥\n",
       "⎣   0       -g⋅g_{B-L}⋅v_R     g_{B-L} ⋅v_R  ⎦"
      ]
     },
     "execution_count": 61,
     "metadata": {},
     "output_type": "execute_result"
    }
   ],
   "source": [
    "M0_square.subs(vL, 0)"
   ]
  },
  {
   "cell_type": "code",
   "execution_count": 62,
   "metadata": {},
   "outputs": [],
   "source": [
    "MZ1_square, MZ2_square, MA_square = list((M0_square.subs(vL,0)).eigenvals().keys()) # list(MW.eigenvals().keys())"
   ]
  },
  {
   "cell_type": "code",
   "execution_count": 63,
   "metadata": {},
   "outputs": [
    {
     "data": {
      "image/png": "[encoded data removed]",
      "text/latex": [
       "$\\displaystyle 0$"
      ],
      "text/plain": [
       "0"
      ]
     },
     "execution_count": 63,
     "metadata": {},
     "output_type": "execute_result"
    }
   ],
   "source": [
    "MA_square"
   ]
  },
  {
   "cell_type": "code",
   "execution_count": 64,
   "metadata": {},
   "outputs": [
    {
     "data": {
      "image/png": "[encoded data removed]",
      "text/latex": [
       "$\\displaystyle \\frac{g^{2} k^{2}_{+}}{4} + \\frac{g^{2} v_{R}^{2}}{2} + \\frac{g_{B-L}^{2} v_{R}^{2}}{2} - \\frac{\\sqrt{g^{4} \\left(k^{2}_{+}\\right)^{2} + 4 g^{4} v_{R}^{4} - 4 g^{2} g_{B-L}^{2} k^{2}_{+} v_{R}^{2} + 8 g^{2} g_{B-L}^{2} v_{R}^{4} + 4 g_{B-L}^{4} v_{R}^{4}}}{4}$"
      ],
      "text/plain": [
       "                                      ________________________________________\n",
       " 2        2    2          2    2     ╱  4    2      4    4      2        2    \n",
       "g ⋅k²₊   g ⋅v_R    g_{B-L} ⋅v_R    ╲╱  g ⋅k²₊  + 4⋅g ⋅v_R  - 4⋅g ⋅g_{B-L} ⋅k²₊\n",
       "────── + ─────── + ───────────── - ───────────────────────────────────────────\n",
       "  4         2            2                                                    \n",
       "\n",
       "_____________________________________________\n",
       "    2      2        2    4            4    4 \n",
       "⋅v_R  + 8⋅g ⋅g_{B-L} ⋅v_R  + 4⋅g_{B-L} ⋅v_R  \n",
       "─────────────────────────────────────────────\n",
       "4                                            "
      ]
     },
     "execution_count": 64,
     "metadata": {},
     "output_type": "execute_result"
    }
   ],
   "source": [
    "MZ1_square"
   ]
  },
  {
   "cell_type": "code",
   "execution_count": 65,
   "metadata": {},
   "outputs": [
    {
     "data": {
      "image/png": "[encoded data removed]",
      "text/latex": [
       "$\\displaystyle \\frac{g^{2} k^{2}_{+}}{4} + \\frac{g^{2} v_{R}^{2}}{2} + \\frac{g_{B-L}^{2} v_{R}^{2}}{2} + \\frac{\\sqrt{g^{4} \\left(k^{2}_{+}\\right)^{2} + 4 g^{4} v_{R}^{4} - 4 g^{2} g_{B-L}^{2} k^{2}_{+} v_{R}^{2} + 8 g^{2} g_{B-L}^{2} v_{R}^{4} + 4 g_{B-L}^{4} v_{R}^{4}}}{4}$"
      ],
      "text/plain": [
       "                                      ________________________________________\n",
       " 2        2    2          2    2     ╱  4    2      4    4      2        2    \n",
       "g ⋅k²₊   g ⋅v_R    g_{B-L} ⋅v_R    ╲╱  g ⋅k²₊  + 4⋅g ⋅v_R  - 4⋅g ⋅g_{B-L} ⋅k²₊\n",
       "────── + ─────── + ───────────── + ───────────────────────────────────────────\n",
       "  4         2            2                                                    \n",
       "\n",
       "_____________________________________________\n",
       "    2      2        2    4            4    4 \n",
       "⋅v_R  + 8⋅g ⋅g_{B-L} ⋅v_R  + 4⋅g_{B-L} ⋅v_R  \n",
       "─────────────────────────────────────────────\n",
       "4                                            "
      ]
     },
     "execution_count": 65,
     "metadata": {},
     "output_type": "execute_result"
    }
   ],
   "source": [
    "MZ2_square"
   ]
  },
  {
   "cell_type": "markdown",
   "metadata": {},
   "source": [
    "If $v_R$ is large"
   ]
  },
  {
   "cell_type": "code",
   "execution_count": 66,
   "metadata": {},
   "outputs": [
    {
     "data": {
      "image/png": "[encoded data removed]",
      "text/latex": [
       "$\\displaystyle v_{R}^{2} \\left(\\frac{g^{2}}{2} + \\frac{g_{B-L}^{2}}{2}\\right) - \\frac{\\sqrt{- 4 g^{2} g_{B-L}^{2} k^{2}_{+} v_{R}^{2} + v_{R}^{4} \\cdot \\left(4 g^{4} + 8 g^{2} g_{B-L}^{2} + 4 g_{B-L}^{4}\\right)}}{4}$"
      ],
      "text/plain": [
       "                          ____________________________________________________\n",
       "     ⎛ 2          2⎞     ╱      2        2        2      4 ⎛   4      2       \n",
       "   2 ⎜g    g_{B-L} ⎟   ╲╱  - 4⋅g ⋅g_{B-L} ⋅k²₊⋅v_R  + v_R ⋅⎝4⋅g  + 8⋅g ⋅g_{B-L\n",
       "v_R ⋅⎜── + ────────⎟ - ───────────────────────────────────────────────────────\n",
       "     ⎝2       2    ⎠                                      4                   \n",
       "\n",
       "_________________\n",
       " 2            4⎞ \n",
       "}  + 4⋅g_{B-L} ⎠ \n",
       "─────────────────\n",
       "                 "
      ]
     },
     "execution_count": 66,
     "metadata": {},
     "output_type": "execute_result"
    }
   ],
   "source": [
    "MZ1_square_approx = MZ1_square.subs(g**4*kp_square**2,0).subs(g**2*kp_square/4, 0).collect(vR)\n",
    "MZ1_square_approx "
   ]
  },
  {
   "cell_type": "code",
   "execution_count": 67,
   "metadata": {},
   "outputs": [
    {
     "data": {
      "image/png": "[encoded data removed]",
      "text/latex": [
       "$\\displaystyle v_{R}^{2} \\left(\\frac{g^{2}}{2} + \\frac{g_{B-L}^{2}}{2}\\right) + \\frac{\\sqrt{- 4 g^{2} g_{B-L}^{2} k^{2}_{+} v_{R}^{2} + v_{R}^{4} \\cdot \\left(4 g^{4} + 8 g^{2} g_{B-L}^{2} + 4 g_{B-L}^{4}\\right)}}{4}$"
      ],
      "text/plain": [
       "                          ____________________________________________________\n",
       "     ⎛ 2          2⎞     ╱      2        2        2      4 ⎛   4      2       \n",
       "   2 ⎜g    g_{B-L} ⎟   ╲╱  - 4⋅g ⋅g_{B-L} ⋅k²₊⋅v_R  + v_R ⋅⎝4⋅g  + 8⋅g ⋅g_{B-L\n",
       "v_R ⋅⎜── + ────────⎟ + ───────────────────────────────────────────────────────\n",
       "     ⎝2       2    ⎠                                      4                   \n",
       "\n",
       "_________________\n",
       " 2            4⎞ \n",
       "}  + 4⋅g_{B-L} ⎠ \n",
       "─────────────────\n",
       "                 "
      ]
     },
     "execution_count": 67,
     "metadata": {},
     "output_type": "execute_result"
    }
   ],
   "source": [
    "MZ2_square_approx = MZ2_square.subs(g**4*kp_square**2,0).subs(g**2*kp_square/4, 0).collect(vR)\n",
    "MZ2_square_approx "
   ]
  },
  {
   "cell_type": "code",
   "execution_count": 68,
   "metadata": {},
   "outputs": [
    {
     "data": {
      "image/png": "[encoded data removed]",
      "text/latex": [
       "$\\displaystyle - 4 g^{2} g_{B-L}^{2} k^{2}_{+} v_{R}^{2} + 4 v_{R}^{4} \\left(g^{2} + g_{B-L}^{2}\\right)^{2}$"
      ],
      "text/plain": [
       "                                                 2\n",
       "     2        2        2        4 ⎛ 2          2⎞ \n",
       "- 4⋅g ⋅g_{B-L} ⋅k²₊⋅v_R  + 4⋅v_R ⋅⎝g  + g_{B-L} ⎠ "
      ]
     },
     "execution_count": 68,
     "metadata": {},
     "output_type": "execute_result"
    }
   ],
   "source": [
    "MZ_root = ((MZ2_square_approx - MZ1_square_approx)*2).args[0].collect(vR, factor)\n",
    "MZ_root"
   ]
  },
  {
   "cell_type": "code",
   "execution_count": 69,
   "metadata": {},
   "outputs": [
    {
     "data": {
      "image/png": "[encoded data removed]",
      "text/latex": [
       "$\\displaystyle \\sqrt{- 4 g^{2} g_{B-L}^{2} k^{2}_{+} v_{R}^{2} + v_{R}^{4} \\cdot \\left(4 g^{4} + 8 g^{2} g_{B-L}^{2} + 4 g_{B-L}^{4}\\right)}$"
      ],
      "text/plain": [
       "   _____________________________________________________________________\n",
       "  ╱      2        2        2      4 ⎛   4      2        2            4⎞ \n",
       "╲╱  - 4⋅g ⋅g_{B-L} ⋅k²₊⋅v_R  + v_R ⋅⎝4⋅g  + 8⋅g ⋅g_{B-L}  + 4⋅g_{B-L} ⎠ "
      ]
     },
     "execution_count": 69,
     "metadata": {},
     "output_type": "execute_result"
    }
   ],
   "source": [
    "sqrt_Z = (MZ2_square_approx - MZ1_square_approx)*2\n",
    "sqrt_Z"
   ]
  },
  {
   "cell_type": "markdown",
   "metadata": {},
   "source": [
    "Following the limit $v_R$ large \n",
    "$$ \\sqrt{- 4 g^{2} g_{B-L}^{2} k^{2}_{+} v_{R}^{2} + 4 v_{R}^{4} \\left(g^{2} + g_{B-L}^{2}\\right)^{2}} = \n",
    "2v_R^2(g^2 + g_{B-L}^2) \\sqrt{1 - \\frac{g^{2} g_{B-L}^{2} k^{2}_{+}}{v_{R}^{2} \\left(g^{2} + g_{B-L}^{2}\\right)^{2}}}\n",
    "$$\n",
    "if we consider $x = - \\frac{g^{2} g_{B-L}^{2} k^{2}_{+}}{v_{R}^{2} \\left(g^{2} + g_{B-L}^{2}\\right)^{2}} << 1$. Then we can use the aproximation $\\sqrt{1+x} \\approx 1 +\\frac{x}{2}$ "
   ]
  },
  {
   "cell_type": "code",
   "execution_count": 70,
   "metadata": {},
   "outputs": [
    {
     "data": {
      "image/png": "[encoded data removed]",
      "text/latex": [
       "$\\displaystyle \\left( - \\frac{g^{2} g_{B-L}^{2} k^{2}_{+}}{v_{R}^{2} \\left(g^{2} + g_{B-L}^{2}\\right)^{2}}, \\  \\frac{- g^{2} g_{B-L}^{2} k^{2}_{+} + 2 v_{R}^{2} \\left(g^{2} + g_{B-L}^{2}\\right)^{2}}{g^{2} + g_{B-L}^{2}}\\right)$"
      ],
      "text/plain": [
       "⎛                                                                 2⎞\n",
       "⎜    2        2            2        2            2 ⎛ 2          2⎞ ⎟\n",
       "⎜  -g ⋅g_{B-L} ⋅k²₊     - g ⋅g_{B-L} ⋅k²₊ + 2⋅v_R ⋅⎝g  + g_{B-L} ⎠ ⎟\n",
       "⎜─────────────────────, ───────────────────────────────────────────⎟\n",
       "⎜                    2                  2          2               ⎟\n",
       "⎜   2 ⎛ 2          2⎞                  g  + g_{B-L}                ⎟\n",
       "⎝v_R ⋅⎝g  + g_{B-L} ⎠                                              ⎠"
      ]
     },
     "execution_count": 70,
     "metadata": {},
     "output_type": "execute_result"
    }
   ],
   "source": [
    "x = - (g**2*gBL**2*kp_square)/(vR**2*(g**2 + gBL**2)**2)\n",
    "sqrt_Z_approx = ((2*vR**2*(g**2 + gBL**2))*(1 + x/2)).simplify()\n",
    "x, sqrt_Z_approx"
   ]
  },
  {
   "cell_type": "code",
   "execution_count": 71,
   "metadata": {},
   "outputs": [
    {
     "data": {
      "image/png": "[encoded data removed]",
      "text/latex": [
       "$\\displaystyle \\sqrt{- 4 g^{2} g_{B-L}^{2} k^{2}_{+} v_{R}^{2} + v_{R}^{4} \\cdot \\left(4 g^{4} + 8 g^{2} g_{B-L}^{2} + 4 g_{B-L}^{4}\\right)}$"
      ],
      "text/plain": [
       "   _____________________________________________________________________\n",
       "  ╱      2        2        2      4 ⎛   4      2        2            4⎞ \n",
       "╲╱  - 4⋅g ⋅g_{B-L} ⋅k²₊⋅v_R  + v_R ⋅⎝4⋅g  + 8⋅g ⋅g_{B-L}  + 4⋅g_{B-L} ⎠ "
      ]
     },
     "execution_count": 71,
     "metadata": {},
     "output_type": "execute_result"
    }
   ],
   "source": [
    "sqrt_Z"
   ]
  },
  {
   "cell_type": "code",
   "execution_count": 72,
   "metadata": {},
   "outputs": [
    {
     "data": {
      "image/png": "[encoded data removed]",
      "text/latex": [
       "$\\displaystyle \\frac{g^{2} g_{B-L}^{2} k^{2}_{+}}{4 \\left(g^{2} + g_{B-L}^{2}\\right)}$"
      ],
      "text/plain": [
       "  2        2     \n",
       " g ⋅g_{B-L} ⋅k²₊ \n",
       "─────────────────\n",
       "  ⎛ 2          2⎞\n",
       "4⋅⎝g  + g_{B-L} ⎠"
      ]
     },
     "execution_count": 72,
     "metadata": {},
     "output_type": "execute_result"
    }
   ],
   "source": [
    "MZ1_square_approx2 = MZ1_square_approx.subs(sqrt_Z, sqrt_Z_approx).simplify()\n",
    "MZ1_square_approx2"
   ]
  },
  {
   "cell_type": "code",
   "execution_count": 73,
   "metadata": {},
   "outputs": [
    {
     "data": {
      "image/png": "[encoded data removed]",
      "text/latex": [
       "$\\displaystyle - \\frac{g^{2} g_{B-L}^{2} k^{2}_{+}}{4 \\left(g^{2} + g_{B-L}^{2}\\right)} + v_{R}^{2} \\left(g^{2} + g_{B-L}^{2}\\right)$"
      ],
      "text/plain": [
       "    2        2                            \n",
       "   g ⋅g_{B-L} ⋅k²₊       2 ⎛ 2          2⎞\n",
       "- ───────────────── + v_R ⋅⎝g  + g_{B-L} ⎠\n",
       "    ⎛ 2          2⎞                       \n",
       "  4⋅⎝g  + g_{B-L} ⎠                       "
      ]
     },
     "execution_count": 73,
     "metadata": {},
     "output_type": "execute_result"
    }
   ],
   "source": [
    "MZ2_square_approx = MZ2_square_approx.subs(sqrt_Z, sqrt_Z_approx).expand().collect(vR, factor)\n",
    "MZ2_square_approx"
   ]
  },
  {
   "cell_type": "markdown",
   "metadata": {},
   "source": [
    "Following the definitions ($g' = g_{B-L}$)\n",
    "\n",
    "$$\n",
    "\\begin{aligned}\n",
    "& s_W \\equiv \\sin \\theta_W=\\frac{g^{\\prime}}{\\sqrt{g^2+2 g^{\\prime 2}}}, \\\\\n",
    "& c_W \\equiv \\cos \\theta_W=\\sqrt{\\frac{g^2+g^{\\prime 2}}{g^2+2 g^{\\prime 2}}} \\\\\n",
    "& s_Y \\equiv \\sin \\theta_Y=\\frac{g^{\\prime}}{\\sqrt{g^2+g^{\\prime 2}}} \\\\\n",
    "& c_Y \\equiv \\cos \\theta_Y=\\frac{g}{\\sqrt{g^2+g^{\\prime 2}}}\n",
    "\\end{aligned}\n",
    "$$"
   ]
  },
  {
   "cell_type": "markdown",
   "metadata": {},
   "source": [
    "Then the mixing among, the weak eigenstates $W_L^3$ $W_R^3$ and $B$ with the physical eigen states is given by\n",
    "$$\n",
    "\\left(\\begin{array}{c}\n",
    "A \\\\\n",
    "Z_1 \\\\\n",
    "Z_2\n",
    "\\end{array}\\right)=\\left(\\begin{array}{ccc}\n",
    "s_W & c_W s_Y & c_W c_Y \\\\\n",
    "-c_W & s_W s_Y & s_W c_Y \\\\\n",
    "0 & -c_Y & s_Y\n",
    "\\end{array}\\right)\\left(\\begin{array}{c}\n",
    "W_L^3 \\\\\n",
    "W_R^3 \\\\\n",
    "B\n",
    "\\end{array}\\right)\n",
    "$$"
   ]
  },
  {
   "cell_type": "code",
   "execution_count": 74,
   "metadata": {},
   "outputs": [],
   "source": [
    "thW, thY = symbols(r'\\theta_W, \\theta_Y', positive=True)\n",
    "cW, sW = cos(thW), sin(thW)\n",
    "cY, sY = cos(thY), sin(thY)"
   ]
  },
  {
   "cell_type": "code",
   "execution_count": 75,
   "metadata": {},
   "outputs": [
    {
     "data": {
      "text/latex": [
       "$\\displaystyle \\left[\\begin{matrix}\\sin{\\left(\\theta_{W} \\right)} & \\sin{\\left(\\theta_{Y} \\right)} \\cos{\\left(\\theta_{W} \\right)} & \\cos{\\left(\\theta_{W} \\right)} \\cos{\\left(\\theta_{Y} \\right)}\\\\- \\cos{\\left(\\theta_{W} \\right)} & \\sin{\\left(\\theta_{W} \\right)} \\sin{\\left(\\theta_{Y} \\right)} & \\sin{\\left(\\theta_{W} \\right)} \\cos{\\left(\\theta_{Y} \\right)}\\\\0 & - \\cos{\\left(\\theta_{Y} \\right)} & \\sin{\\left(\\theta_{Y} \\right)}\\end{matrix}\\right]$"
      ],
      "text/plain": [
       "⎡sin(\\theta_W)   sin(\\theta_Y)⋅cos(\\theta_W)  cos(\\theta_W)⋅cos(\\theta_Y)⎤\n",
       "⎢                                                                        ⎥\n",
       "⎢-cos(\\theta_W)  sin(\\theta_W)⋅sin(\\theta_Y)  sin(\\theta_W)⋅cos(\\theta_Y)⎥\n",
       "⎢                                                                        ⎥\n",
       "⎣      0               -cos(\\theta_Y)                sin(\\theta_Y)       ⎦"
      ]
     },
     "execution_count": 75,
     "metadata": {},
     "output_type": "execute_result"
    }
   ],
   "source": [
    "RZ = Matrix(\n",
    "    [\n",
    "        [sW, cW*sY, cW*cY],\n",
    "        [-cW, sW*sY, sW*cY],\n",
    "        [0, -cY, sY]\n",
    "    ]\n",
    ")\n",
    "RZ"
   ]
  },
  {
   "cell_type": "code",
   "execution_count": 76,
   "metadata": {},
   "outputs": [
    {
     "data": {
      "text/latex": [
       "$\\displaystyle \\left[\\begin{matrix}A\\\\Z_{1}\\\\Z_{2}\\end{matrix}\\right]$"
      ],
      "text/plain": [
       "⎡A ⎤\n",
       "⎢  ⎥\n",
       "⎢Z₁⎥\n",
       "⎢  ⎥\n",
       "⎣Z₂⎦"
      ]
     },
     "execution_count": 76,
     "metadata": {},
     "output_type": "execute_result"
    }
   ],
   "source": [
    "A, Z1, Z2 = symbols('A, Z_1, Z_2', real=True)\n",
    "AZ12_triplet =  Matrix(\n",
    "    [\n",
    "        [A],\n",
    "        [Z1],\n",
    "        [Z2]\n",
    "    ]\n",
    ")\n",
    "AZ12_triplet"
   ]
  },
  {
   "cell_type": "code",
   "execution_count": 77,
   "metadata": {},
   "outputs": [
    {
     "data": {
      "text/latex": [
       "$\\displaystyle \\left[\\begin{matrix}A \\sin{\\left(\\theta_{W} \\right)} - Z_{1} \\cos{\\left(\\theta_{W} \\right)}\\\\A \\sin{\\left(\\theta_{Y} \\right)} \\cos{\\left(\\theta_{W} \\right)} + Z_{1} \\sin{\\left(\\theta_{W} \\right)} \\sin{\\left(\\theta_{Y} \\right)} - Z_{2} \\cos{\\left(\\theta_{Y} \\right)}\\\\A \\cos{\\left(\\theta_{W} \\right)} \\cos{\\left(\\theta_{Y} \\right)} + Z_{1} \\sin{\\left(\\theta_{W} \\right)} \\cos{\\left(\\theta_{Y} \\right)} + Z_{2} \\sin{\\left(\\theta_{Y} \\right)}\\end{matrix}\\right]$"
      ],
      "text/plain": [
       "⎡                       A⋅sin(\\theta_W) - Z₁⋅cos(\\theta_W)                    \n",
       "⎢                                                                             \n",
       "⎢A⋅sin(\\theta_Y)⋅cos(\\theta_W) + Z₁⋅sin(\\theta_W)⋅sin(\\theta_Y) - Z₂⋅cos(\\thet\n",
       "⎢                                                                             \n",
       "⎣A⋅cos(\\theta_W)⋅cos(\\theta_Y) + Z₁⋅sin(\\theta_W)⋅cos(\\theta_Y) + Z₂⋅sin(\\thet\n",
       "\n",
       "    ⎤\n",
       "    ⎥\n",
       "a_Y)⎥\n",
       "    ⎥\n",
       "a_Y)⎦"
      ]
     },
     "execution_count": 77,
     "metadata": {},
     "output_type": "execute_result"
    }
   ],
   "source": [
    "mixingAZ12 = RZ.T*AZ12_triplet\n",
    "mixingAZ12"
   ]
  },
  {
   "cell_type": "code",
   "execution_count": 78,
   "metadata": {},
   "outputs": [],
   "source": [
    "W3L_mix = mixingAZ12[0]\n",
    "W3R_mix = mixingAZ12[1]\n",
    "B_mix = mixingAZ12[2]"
   ]
  },
  {
   "cell_type": "code",
   "execution_count": 79,
   "metadata": {},
   "outputs": [
    {
     "data": {
      "image/png": "[encoded data removed]",
      "text/latex": [
       "$\\displaystyle A \\sin{\\left(\\theta_{W} \\right)} - Z_{1} \\cos{\\left(\\theta_{W} \\right)}$"
      ],
      "text/plain": [
       "A⋅sin(\\theta_W) - Z₁⋅cos(\\theta_W)"
      ]
     },
     "execution_count": 79,
     "metadata": {},
     "output_type": "execute_result"
    }
   ],
   "source": [
    "W3L_mix"
   ]
  },
  {
   "cell_type": "code",
   "execution_count": 80,
   "metadata": {},
   "outputs": [
    {
     "data": {
      "image/png": "[encoded data removed]",
      "text/latex": [
       "$\\displaystyle A \\sin{\\left(\\theta_{Y} \\right)} \\cos{\\left(\\theta_{W} \\right)} + Z_{1} \\sin{\\left(\\theta_{W} \\right)} \\sin{\\left(\\theta_{Y} \\right)} - Z_{2} \\cos{\\left(\\theta_{Y} \\right)}$"
      ],
      "text/plain": [
       "A⋅sin(\\theta_Y)⋅cos(\\theta_W) + Z₁⋅sin(\\theta_W)⋅sin(\\theta_Y) - Z₂⋅cos(\\theta\n",
       "_Y)"
      ]
     },
     "execution_count": 80,
     "metadata": {},
     "output_type": "execute_result"
    }
   ],
   "source": [
    "W3R_mix"
   ]
  },
  {
   "cell_type": "code",
   "execution_count": null,
   "metadata": {},
   "outputs": [
    {
     "data": {
      "image/png": "[encoded data removed]",
      "text/latex": [
       "$\\displaystyle A \\cos{\\left(\\theta_{W} \\right)} \\cos{\\left(\\theta_{Y} \\right)} + Z_{1} \\sin{\\left(\\theta_{W} \\right)} \\cos{\\left(\\theta_{Y} \\right)} + Z_{2} \\sin{\\left(\\theta_{Y} \\right)}$"
      ],
      "text/plain": [
       "A⋅cos(\\theta_W)⋅cos(\\theta_Y) + Z₁⋅sin(\\theta_W)⋅cos(\\theta_Y) + Z₂⋅sin(\\theta\n",
       "_Y)"
      ]
     },
     "execution_count": 81,
     "metadata": {},
     "output_type": "execute_result"
    }
   ],
   "source": [
    "B_mix"
   ]
  },
  {
   "cell_type": "markdown",
   "metadata": {},
   "source": [
    "## Scalar potential and Higgs mass spectrum"
   ]
  },
  {
   "cell_type": "code",
   "execution_count": 166,
   "metadata": {},
   "outputs": [],
   "source": [
    "from sympy.physics.quantum import Dagger\n",
    "from sympy import solve"
   ]
  },
  {
   "cell_type": "code",
   "execution_count": 169,
   "metadata": {},
   "outputs": [
    {
     "data": {
      "image/png": "[encoded data removed]",
      "text/latex": [
       "$\\displaystyle \\left[\\begin{matrix}\\left(\\phi^{0}_{1}\\right)^{2} + \\phi^{+}_{2} \\phi^{-}_{2} & \\phi^{+}_{1} \\phi^{0}_{1} + \\phi^{+}_{2} \\phi^{0}_{2}\\\\\\phi^{-}_{1} \\phi^{0}_{1} + \\phi^{-}_{2} \\phi^{0}_{2} & \\phi^{+}_{1} \\phi^{-}_{1} + \\left(\\phi^{0}_{2}\\right)^{2}\\end{matrix}\\right]$"
      ],
      "text/plain": [
       "⎡         2                                                  ⎤\n",
       "⎢   \\phi⁰₁  + \\phi⁺₂⋅\\phi⁻₂     \\phi⁺₁⋅\\phi⁰₁ + \\phi⁺₂⋅\\phi⁰₂⎥\n",
       "⎢                                                            ⎥\n",
       "⎢                                                        2   ⎥\n",
       "⎣\\phi⁻₁⋅\\phi⁰₁ + \\phi⁻₂⋅\\phi⁰₂     \\phi⁺₁⋅\\phi⁻₁ + \\phi⁰₂    ⎦"
      ]
     },
     "metadata": {},
     "output_type": "display_data"
    },
    {
     "data": {
      "image/png": "[encoded data removed]",
      "text/latex": [
       "$\\displaystyle \\left[\\begin{matrix}- \\phi^{-}_{1} \\phi^{-}_{2} + \\phi^{0}_{1} \\phi^{0}_{2} & \\phi^{+}_{2} \\phi^{0}_{2} - \\phi^{-}_{2} \\phi^{0}_{2}\\\\- \\phi^{+}_{1} \\phi^{0}_{1} + \\phi^{-}_{1} \\phi^{0}_{1} & - \\phi^{+}_{1} \\phi^{+}_{2} + \\phi^{0}_{1} \\phi^{0}_{2}\\end{matrix}\\right]$"
      ],
      "text/plain": [
       "⎡-\\phi⁻₁⋅\\phi⁻₂ + \\phi⁰₁⋅\\phi⁰₂  \\phi⁺₂⋅\\phi⁰₂ - \\phi⁻₂⋅\\phi⁰₂ ⎤\n",
       "⎢                                                              ⎥\n",
       "⎣-\\phi⁺₁⋅\\phi⁰₁ + \\phi⁻₁⋅\\phi⁰₁  -\\phi⁺₁⋅\\phi⁺₂ + \\phi⁰₁⋅\\phi⁰₂⎦"
      ]
     },
     "metadata": {},
     "output_type": "display_data"
    },
    {
     "data": {
      "image/png": "[encoded data removed]",
      "text/latex": [
       "$\\displaystyle \\left[\\begin{matrix}- \\phi^{-}_{1} \\phi^{-}_{2} + \\phi^{0}_{1} \\phi^{0}_{2} & \\phi^{+}_{1} \\phi^{0}_{2} - \\phi^{-}_{1} \\phi^{0}_{2}\\\\- \\phi^{0}_{1} \\phi^{+}_{2} + \\phi^{0}_{1} \\phi^{-}_{2} & - \\phi^{+}_{1} \\phi^{+}_{2} + \\phi^{0}_{1} \\phi^{0}_{2}\\end{matrix}\\right]$"
      ],
      "text/plain": [
       "⎡-\\phi⁻₁⋅\\phi⁻₂ + \\phi⁰₁⋅\\phi⁰₂  \\phi⁺₁⋅\\phi⁰₂ - \\phi⁻₁⋅\\phi⁰₂ ⎤\n",
       "⎢                                                              ⎥\n",
       "⎣-\\phi⁰₁⋅\\phi⁺₂ + \\phi⁰₁⋅\\phi⁻₂  -\\phi⁺₁⋅\\phi⁺₂ + \\phi⁰₁⋅\\phi⁰₂⎦"
      ]
     },
     "metadata": {},
     "output_type": "display_data"
    },
    {
     "data": {
      "image/png": "[encoded data removed]",
      "text/latex": [
       "$\\displaystyle \\left[\\begin{matrix}\\phi^{+}_{1} \\phi^{-}_{1} + \\left(\\phi^{0}_{1}\\right)^{2} & \\phi^{+}_{1} \\phi^{0}_{2} + \\phi^{0}_{1} \\phi^{+}_{2}\\\\\\phi^{-}_{1} \\phi^{0}_{2} + \\phi^{0}_{1} \\phi^{-}_{2} & \\phi^{+}_{2} \\phi^{-}_{2} + \\left(\\phi^{0}_{2}\\right)^{2}\\end{matrix}\\right]$"
      ],
      "text/plain": [
       "⎡                         2                                  ⎤\n",
       "⎢   \\phi⁺₁⋅\\phi⁻₁ + \\phi⁰₁      \\phi⁺₁⋅\\phi⁰₂ + \\phi⁰₁⋅\\phi⁺₂⎥\n",
       "⎢                                                            ⎥\n",
       "⎢                                                        2   ⎥\n",
       "⎣\\phi⁻₁⋅\\phi⁰₂ + \\phi⁰₁⋅\\phi⁻₂     \\phi⁺₂⋅\\phi⁻₂ + \\phi⁰₂    ⎦"
      ]
     },
     "metadata": {},
     "output_type": "display_data"
    }
   ],
   "source": [
    "PhiDagger = Dagger(Phi).subs(conjugate_scalarsPhi)\n",
    "#PhiDagger\n",
    "PhiDaggerPhi = PhiDagger*Phi\n",
    "display(PhiDaggerPhi)\n",
    "Phitilde = msigma(2)*Phi*msigma(2)\n",
    "#Phitilde\n",
    "PhitildePhiDagger = Phitilde*PhiDagger\n",
    "display(PhitildePhiDagger)\n",
    "PhitildeDagger = Dagger(Phitilde).subs(conjugate_scalarsPhi)\n",
    "#PhitildeDagger\n",
    "PhitildeDaggerPhi = PhitildeDagger*Phi\n",
    "display(PhitildeDaggerPhi)\n",
    "PhiPhiDagger = Phi*PhiDagger\n",
    "display(PhiPhiDagger)"
   ]
  },
  {
   "cell_type": "code",
   "execution_count": 170,
   "metadata": {},
   "outputs": [],
   "source": [
    "conjugate_scalars_deltaL = {\n",
    "    conjugate(deltaLp):deltaLm,\n",
    "    conjugate(deltaLm):deltaLp,\n",
    "    conjugate(deltaLpp):deltaLmm,\n",
    "    conjugate(deltaLmm):deltaLpp\n",
    "}\n",
    "\n",
    "conjugate_scalars_deltaR = {\n",
    "    conjugate(deltaRp):deltaRm,\n",
    "    conjugate(deltaRm):deltaRp,\n",
    "    conjugate(deltaRpp):deltaRmm,\n",
    "    conjugate(deltaRmm):deltaRpp\n",
    "}"
   ]
  },
  {
   "cell_type": "code",
   "execution_count": 171,
   "metadata": {},
   "outputs": [
    {
     "data": {
      "image/png": "[encoded data removed]",
      "text/latex": [
       "$\\displaystyle \\left[\\begin{matrix}\\frac{\\sqrt{2} \\delta^{+}_{L}}{2} & \\delta_L^{++}\\\\\\delta^{0}_{L} & - \\frac{\\sqrt{2} \\delta^{+}_{L}}{2}\\end{matrix}\\right]$"
      ],
      "text/plain": [
       "⎡√2⋅\\delta_L__+                  ⎤\n",
       "⎢──────────────   \\delta_L__{++} ⎥\n",
       "⎢      2                         ⎥\n",
       "⎢                                ⎥\n",
       "⎢                -√2⋅\\delta_L__+ ⎥\n",
       "⎢ \\delta_L__0    ────────────────⎥\n",
       "⎣                       2        ⎦"
      ]
     },
     "execution_count": 171,
     "metadata": {},
     "output_type": "execute_result"
    }
   ],
   "source": [
    "DeltaL"
   ]
  },
  {
   "cell_type": "code",
   "execution_count": 172,
   "metadata": {},
   "outputs": [
    {
     "data": {
      "image/png": "[encoded data removed]",
      "text/latex": [
       "$\\displaystyle \\left[\\begin{matrix}\\frac{\\sqrt{2} \\delta^{-}_{L}}{2} & \\delta^{0}_{L}\\\\\\delta_L^{--} & - \\frac{\\sqrt{2} \\delta^{-}_{L}}{2}\\end{matrix}\\right]$"
      ],
      "text/plain": [
       "⎡√2⋅\\delta_L__-                  ⎤\n",
       "⎢──────────────    \\delta_L__0   ⎥\n",
       "⎢      2                         ⎥\n",
       "⎢                                ⎥\n",
       "⎢                -√2⋅\\delta_L__- ⎥\n",
       "⎢\\delta_L__{--}  ────────────────⎥\n",
       "⎣                       2        ⎦"
      ]
     },
     "execution_count": 172,
     "metadata": {},
     "output_type": "execute_result"
    }
   ],
   "source": [
    "DeltaLDagger = Dagger(DeltaL).subs(conjugate_scalars_deltaL)\n",
    "DeltaLDagger"
   ]
  },
  {
   "cell_type": "code",
   "execution_count": 173,
   "metadata": {},
   "outputs": [
    {
     "data": {
      "image/png": "[encoded data removed]",
      "text/latex": [
       "$\\displaystyle \\left[\\begin{matrix}\\frac{\\sqrt{2} \\delta^{-}_{R}}{2} & \\delta^{0}_{R}\\\\\\delta_R^{--} & - \\frac{\\sqrt{2} \\delta^{-}_{R}}{2}\\end{matrix}\\right]$"
      ],
      "text/plain": [
       "⎡√2⋅\\delta_R__-                  ⎤\n",
       "⎢──────────────    \\delta_R__0   ⎥\n",
       "⎢      2                         ⎥\n",
       "⎢                                ⎥\n",
       "⎢                -√2⋅\\delta_R__- ⎥\n",
       "⎢\\delta_R__{--}  ────────────────⎥\n",
       "⎣                       2        ⎦"
      ]
     },
     "execution_count": 173,
     "metadata": {},
     "output_type": "execute_result"
    }
   ],
   "source": [
    "DeltaRDagger = Dagger(DeltaR).subs(conjugate_scalars_deltaR)\n",
    "DeltaRDagger"
   ]
  },
  {
   "cell_type": "code",
   "execution_count": 174,
   "metadata": {},
   "outputs": [
    {
     "data": {
      "image/png": "[encoded data removed]",
      "text/latex": [
       "$\\displaystyle \\left[\\begin{matrix}\\frac{\\delta^{+}_{L} \\delta^{-}_{L}}{2} + \\delta_L^{++} \\delta_L^{--} & \\frac{\\sqrt{2} \\delta^{+}_{L} \\delta^{0}_{L}}{2} - \\frac{\\sqrt{2} \\delta^{-}_{L} \\delta_L^{++}}{2}\\\\- \\frac{\\sqrt{2} \\delta^{+}_{L} \\delta_L^{--}}{2} + \\frac{\\sqrt{2} \\delta^{-}_{L} \\delta^{0}_{L}}{2} & \\frac{\\delta^{+}_{L} \\delta^{-}_{L}}{2} + \\left(\\delta^{0}_{L}\\right)^{2}\\end{matrix}\\right]$"
      ],
      "text/plain": [
       "⎡  \\delta_L__+⋅\\delta_L__-                                     √2⋅\\delta_L__+⋅\n",
       "⎢  ─────────────────────── + \\delta_L__{++}⋅\\delta_L__{--}     ───────────────\n",
       "⎢             2                                                            2  \n",
       "⎢                                                                             \n",
       "⎢  √2⋅\\delta_L__+⋅\\delta_L__{--}   √2⋅\\delta_L__-⋅\\delta_L__0            \\delt\n",
       "⎢- ───────────────────────────── + ──────────────────────────            ─────\n",
       "⎣                2                             2                              \n",
       "\n",
       "\\delta_L__0   √2⋅\\delta_L__-⋅\\delta_L__{++}⎤\n",
       "─────────── - ─────────────────────────────⎥\n",
       "                            2              ⎥\n",
       "                                           ⎥\n",
       "a_L__+⋅\\delta_L__-              2          ⎥\n",
       "────────────────── + \\delta_L__0           ⎥\n",
       "      2                                    ⎦"
      ]
     },
     "metadata": {},
     "output_type": "display_data"
    },
    {
     "data": {
      "image/png": "[encoded data removed]",
      "text/latex": [
       "$\\displaystyle \\left[\\begin{matrix}\\frac{\\left(\\delta^{+}_{L}\\right)^{2}}{2} + \\delta^{0}_{L} \\delta_L^{++} & 0\\\\0 & \\frac{\\left(\\delta^{+}_{L}\\right)^{2}}{2} + \\delta^{0}_{L} \\delta_L^{++}\\end{matrix}\\right]$"
      ],
      "text/plain": [
       "⎡           2                                                                 \n",
       "⎢\\delta_L__+                                                                  \n",
       "⎢──────────── + \\delta_L__0⋅\\delta_L__{++}                      0             \n",
       "⎢     2                                                                       \n",
       "⎢                                                                             \n",
       "⎢                                                      2                      \n",
       "⎢                                           \\delta_L__+                       \n",
       "⎢                    0                      ──────────── + \\delta_L__0⋅\\delta_\n",
       "⎣                                                2                            \n",
       "\n",
       "       ⎤\n",
       "       ⎥\n",
       "       ⎥\n",
       "       ⎥\n",
       "       ⎥\n",
       "       ⎥\n",
       "       ⎥\n",
       "L__{++}⎥\n",
       "       ⎦"
      ]
     },
     "metadata": {},
     "output_type": "display_data"
    },
    {
     "data": {
      "image/png": "[encoded data removed]",
      "text/latex": [
       "$\\displaystyle \\left[\\begin{matrix}\\frac{\\delta^{+}_{L} \\delta^{-}_{L}}{2} + \\left(\\delta^{0}_{L}\\right)^{2} & - \\frac{\\sqrt{2} \\delta^{+}_{L} \\delta^{0}_{L}}{2} + \\frac{\\sqrt{2} \\delta^{-}_{L} \\delta_L^{++}}{2}\\\\\\frac{\\sqrt{2} \\delta^{+}_{L} \\delta_L^{--}}{2} - \\frac{\\sqrt{2} \\delta^{-}_{L} \\delta^{0}_{L}}{2} & \\frac{\\delta^{+}_{L} \\delta^{-}_{L}}{2} + \\delta_L^{++} \\delta_L^{--}\\end{matrix}\\right]$"
      ],
      "text/plain": [
       "⎡          \\delta_L__+⋅\\delta_L__-              2              √2⋅\\delta_L__+⋅\n",
       "⎢          ─────────────────────── + \\delta_L__0             - ───────────────\n",
       "⎢                     2                                                    2  \n",
       "⎢                                                                             \n",
       "⎢√2⋅\\delta_L__+⋅\\delta_L__{--}   √2⋅\\delta_L__-⋅\\delta_L__0    \\delta_L__+⋅\\de\n",
       "⎢───────────────────────────── - ──────────────────────────    ───────────────\n",
       "⎣              2                             2                            2   \n",
       "\n",
       "\\delta_L__0   √2⋅\\delta_L__-⋅\\delta_L__{++}⎤\n",
       "─────────── + ─────────────────────────────⎥\n",
       "                            2              ⎥\n",
       "                                           ⎥\n",
       "lta_L__-                                   ⎥\n",
       "──────── + \\delta_L__{++}⋅\\delta_L__{--}   ⎥\n",
       "                                           ⎦"
      ]
     },
     "metadata": {},
     "output_type": "display_data"
    },
    {
     "data": {
      "image/png": "[encoded data removed]",
      "text/latex": [
       "$\\displaystyle \\left[\\begin{matrix}\\frac{\\left(\\delta^{-}_{L}\\right)^{2}}{2} + \\delta^{0}_{L} \\delta_L^{--} & 0\\\\0 & \\frac{\\left(\\delta^{-}_{L}\\right)^{2}}{2} + \\delta^{0}_{L} \\delta_L^{--}\\end{matrix}\\right]$"
      ],
      "text/plain": [
       "⎡           2                                                                 \n",
       "⎢\\delta_L__-                                                                  \n",
       "⎢──────────── + \\delta_L__0⋅\\delta_L__{--}                      0             \n",
       "⎢     2                                                                       \n",
       "⎢                                                                             \n",
       "⎢                                                      2                      \n",
       "⎢                                           \\delta_L__-                       \n",
       "⎢                    0                      ──────────── + \\delta_L__0⋅\\delta_\n",
       "⎣                                                2                            \n",
       "\n",
       "       ⎤\n",
       "       ⎥\n",
       "       ⎥\n",
       "       ⎥\n",
       "       ⎥\n",
       "       ⎥\n",
       "       ⎥\n",
       "L__{--}⎥\n",
       "       ⎦"
      ]
     },
     "metadata": {},
     "output_type": "display_data"
    }
   ],
   "source": [
    "DeltaLDeltaLDagger = DeltaL*DeltaLDagger\n",
    "display(DeltaLDeltaLDagger)\n",
    "DeltaLDeltaL = DeltaL*DeltaL\n",
    "display(DeltaLDeltaL)\n",
    "DeltaLDaggerDeltaL = DeltaLDagger*DeltaL\n",
    "display(DeltaLDaggerDeltaL)\n",
    "DeltaLDaggerDeltaLDagger = DeltaLDagger*DeltaLDagger\n",
    "display(DeltaLDaggerDeltaLDagger)"
   ]
  },
  {
   "cell_type": "code",
   "execution_count": 175,
   "metadata": {},
   "outputs": [
    {
     "data": {
      "image/png": "[encoded data removed]",
      "text/latex": [
       "$\\displaystyle \\left[\\begin{matrix}\\frac{\\delta^{+}_{R} \\delta^{-}_{R}}{2} + \\delta_R^{++} \\delta_R^{--} & \\frac{\\sqrt{2} \\delta^{+}_{R} \\delta^{0}_{R}}{2} - \\frac{\\sqrt{2} \\delta^{-}_{R} \\delta_R^{++}}{2}\\\\- \\frac{\\sqrt{2} \\delta^{+}_{R} \\delta_R^{--}}{2} + \\frac{\\sqrt{2} \\delta^{-}_{R} \\delta^{0}_{R}}{2} & \\frac{\\delta^{+}_{R} \\delta^{-}_{R}}{2} + \\left(\\delta^{0}_{R}\\right)^{2}\\end{matrix}\\right]$"
      ],
      "text/plain": [
       "⎡  \\delta_R__+⋅\\delta_R__-                                     √2⋅\\delta_R__+⋅\n",
       "⎢  ─────────────────────── + \\delta_R__{++}⋅\\delta_R__{--}     ───────────────\n",
       "⎢             2                                                            2  \n",
       "⎢                                                                             \n",
       "⎢  √2⋅\\delta_R__+⋅\\delta_R__{--}   √2⋅\\delta_R__-⋅\\delta_R__0            \\delt\n",
       "⎢- ───────────────────────────── + ──────────────────────────            ─────\n",
       "⎣                2                             2                              \n",
       "\n",
       "\\delta_R__0   √2⋅\\delta_R__-⋅\\delta_R__{++}⎤\n",
       "─────────── - ─────────────────────────────⎥\n",
       "                            2              ⎥\n",
       "                                           ⎥\n",
       "a_R__+⋅\\delta_R__-              2          ⎥\n",
       "────────────────── + \\delta_R__0           ⎥\n",
       "      2                                    ⎦"
      ]
     },
     "metadata": {},
     "output_type": "display_data"
    },
    {
     "data": {
      "image/png": "[encoded data removed]",
      "text/latex": [
       "$\\displaystyle \\left[\\begin{matrix}\\frac{\\left(\\delta^{+}_{R}\\right)^{2}}{2} + \\delta^{0}_{R} \\delta_R^{++} & 0\\\\0 & \\frac{\\left(\\delta^{+}_{R}\\right)^{2}}{2} + \\delta^{0}_{R} \\delta_R^{++}\\end{matrix}\\right]$"
      ],
      "text/plain": [
       "⎡           2                                                                 \n",
       "⎢\\delta_R__+                                                                  \n",
       "⎢──────────── + \\delta_R__0⋅\\delta_R__{++}                      0             \n",
       "⎢     2                                                                       \n",
       "⎢                                                                             \n",
       "⎢                                                      2                      \n",
       "⎢                                           \\delta_R__+                       \n",
       "⎢                    0                      ──────────── + \\delta_R__0⋅\\delta_\n",
       "⎣                                                2                            \n",
       "\n",
       "       ⎤\n",
       "       ⎥\n",
       "       ⎥\n",
       "       ⎥\n",
       "       ⎥\n",
       "       ⎥\n",
       "       ⎥\n",
       "R__{++}⎥\n",
       "       ⎦"
      ]
     },
     "metadata": {},
     "output_type": "display_data"
    },
    {
     "data": {
      "image/png": "[encoded data removed]",
      "text/latex": [
       "$\\displaystyle \\left[\\begin{matrix}\\frac{\\delta^{+}_{R} \\delta^{-}_{R}}{2} + \\left(\\delta^{0}_{R}\\right)^{2} & - \\frac{\\sqrt{2} \\delta^{+}_{R} \\delta^{0}_{R}}{2} + \\frac{\\sqrt{2} \\delta^{-}_{R} \\delta_R^{++}}{2}\\\\\\frac{\\sqrt{2} \\delta^{+}_{R} \\delta_R^{--}}{2} - \\frac{\\sqrt{2} \\delta^{-}_{R} \\delta^{0}_{R}}{2} & \\frac{\\delta^{+}_{R} \\delta^{-}_{R}}{2} + \\delta_R^{++} \\delta_R^{--}\\end{matrix}\\right]$"
      ],
      "text/plain": [
       "⎡          \\delta_R__+⋅\\delta_R__-              2              √2⋅\\delta_R__+⋅\n",
       "⎢          ─────────────────────── + \\delta_R__0             - ───────────────\n",
       "⎢                     2                                                    2  \n",
       "⎢                                                                             \n",
       "⎢√2⋅\\delta_R__+⋅\\delta_R__{--}   √2⋅\\delta_R__-⋅\\delta_R__0    \\delta_R__+⋅\\de\n",
       "⎢───────────────────────────── - ──────────────────────────    ───────────────\n",
       "⎣              2                             2                            2   \n",
       "\n",
       "\\delta_R__0   √2⋅\\delta_R__-⋅\\delta_R__{++}⎤\n",
       "─────────── + ─────────────────────────────⎥\n",
       "                            2              ⎥\n",
       "                                           ⎥\n",
       "lta_R__-                                   ⎥\n",
       "──────── + \\delta_R__{++}⋅\\delta_R__{--}   ⎥\n",
       "                                           ⎦"
      ]
     },
     "metadata": {},
     "output_type": "display_data"
    },
    {
     "data": {
      "image/png": "[encoded data removed]",
      "text/latex": [
       "$\\displaystyle \\left[\\begin{matrix}\\frac{\\left(\\delta^{-}_{R}\\right)^{2}}{2} + \\delta^{0}_{R} \\delta_R^{--} & 0\\\\0 & \\frac{\\left(\\delta^{-}_{R}\\right)^{2}}{2} + \\delta^{0}_{R} \\delta_R^{--}\\end{matrix}\\right]$"
      ],
      "text/plain": [
       "⎡           2                                                                 \n",
       "⎢\\delta_R__-                                                                  \n",
       "⎢──────────── + \\delta_R__0⋅\\delta_R__{--}                      0             \n",
       "⎢     2                                                                       \n",
       "⎢                                                                             \n",
       "⎢                                                      2                      \n",
       "⎢                                           \\delta_R__-                       \n",
       "⎢                    0                      ──────────── + \\delta_R__0⋅\\delta_\n",
       "⎣                                                2                            \n",
       "\n",
       "       ⎤\n",
       "       ⎥\n",
       "       ⎥\n",
       "       ⎥\n",
       "       ⎥\n",
       "       ⎥\n",
       "       ⎥\n",
       "R__{--}⎥\n",
       "       ⎦"
      ]
     },
     "metadata": {},
     "output_type": "display_data"
    }
   ],
   "source": [
    "DeltaRDeltaRDagger = DeltaR*DeltaRDagger\n",
    "display(DeltaRDeltaRDagger)\n",
    "DeltaRDeltaR = DeltaR*DeltaR\n",
    "display(DeltaRDeltaR)\n",
    "DeltaRDaggerDeltaR = DeltaRDagger*DeltaR\n",
    "display(DeltaRDaggerDeltaR)\n",
    "DeltaRDaggerDeltaRDagger = DeltaRDagger*DeltaRDagger\n",
    "display(DeltaRDaggerDeltaRDagger)"
   ]
  },
  {
   "cell_type": "markdown",
   "metadata": {},
   "source": [
    "### Higgs potential"
   ]
  },
  {
   "cell_type": "code",
   "execution_count": 176,
   "metadata": {},
   "outputs": [],
   "source": [
    "mu12, mu22, mu32 = symbols(r'\\mu_1^2, \\mu_2^2, \\mu_3^2', real=True)\n",
    "lamb1, lamb2, lamb3, lamb4 = symbols(r'\\lambda_1, \\lambda_2, \\lambda_3, \\lambda_4', real=True)\n",
    "rho1, rho2, rho3, rho4 = symbols(r'\\rho_1, \\rho_2, \\rho_3, \\rho_4', real=True)\n",
    "alpha1, alpha2, alpha3 = symbols(r'\\alpha_1, \\alpha_2, \\alpha_3', real=True)\n",
    "beta1, beta2, beta3 = symbols(r'beta_1, beta_2, beta_3', real=True)"
   ]
  },
  {
   "cell_type": "code",
   "execution_count": 177,
   "metadata": {},
   "outputs": [
    {
     "data": {
      "image/png": "[encoded data removed]",
      "text/latex": [
       "$\\displaystyle \\alpha_{1} \\left(k^{2} + k_{1}^{2}\\right) \\left(v_{L}^{2} + v_{R}^{2}\\right) + \\alpha_{2} \\cdot \\left(4 k k_{1} v_{L}^{2} + 4 k k_{1} v_{R}^{2}\\right) + \\alpha_{3} \\left(k_{1}^{2} v_{L}^{2} + k_{1}^{2} v_{R}^{2}\\right) + \\lambda_{1} \\left(k^{2} + k_{1}^{2}\\right)^{2} + 8 \\lambda_{2} k^{2} k_{1}^{2} + 4 \\lambda_{3} k^{2} k_{1}^{2} + 4 \\lambda_{4} k k_{1} \\left(k^{2} + k_{1}^{2}\\right) - \\mu^{2}_{1} \\left(k^{2} + k_{1}^{2}\\right) - 4 \\mu^{2}_{2} k k_{1} - \\mu^{2}_{3} \\left(v_{L}^{2} + v_{R}^{2}\\right) + \\rho_{1} \\left(v_{L}^{4} + v_{R}^{4}\\right) + \\rho_{3} v_{L}^{2} v_{R}^{2} + 2 \\beta_{1} k k_{1} v_{L} v_{R} + 2 \\beta_{2} k^{2} v_{L} v_{R} + 2 \\beta_{3} k_{1}^{2} v_{L} v_{R}$"
      ],
      "text/plain": [
       "                                                                              \n",
       "        ⎛ 2     2⎞ ⎛   2      2⎞           ⎛          2             2⎞        \n",
       "\\alpha₁⋅⎝k  + k₁ ⎠⋅⎝v_L  + v_R ⎠ + \\alpha₂⋅⎝4⋅k⋅k₁⋅v_L  + 4⋅k⋅k₁⋅v_R ⎠ + \\alph\n",
       "\n",
       "                                              2                               \n",
       "   ⎛  2    2     2    2⎞            ⎛ 2     2⎞                2   2           \n",
       "a₃⋅⎝k₁ ⋅v_L  + k₁ ⋅v_R ⎠ + \\lambda₁⋅⎝k  + k₁ ⎠  + 8⋅\\lambda₂⋅k ⋅k₁  + 4⋅\\lambd\n",
       "\n",
       "                                                                              \n",
       "    2   2                   ⎛ 2     2⎞         ⎛ 2     2⎞                     \n",
       "a₃⋅k ⋅k₁  + 4⋅\\lambda₄⋅k⋅k₁⋅⎝k  + k₁ ⎠ - \\mu²₁⋅⎝k  + k₁ ⎠ - 4⋅\\mu²₂⋅k⋅k₁ - \\mu\n",
       "\n",
       "                                                                              \n",
       "   ⎛   2      2⎞         ⎛   4      4⎞            2    2                      \n",
       "²₃⋅⎝v_L  + v_R ⎠ + \\rho₁⋅⎝v_L  + v_R ⎠ + \\rho₃⋅v_L ⋅v_R  + 2⋅β₁⋅k⋅k₁⋅v_L⋅v_R +\n",
       "\n",
       "                                   \n",
       "       2                  2        \n",
       " 2⋅β₂⋅k ⋅v_L⋅v_R + 2⋅β₃⋅k₁ ⋅v_L⋅v_R"
      ]
     },
     "execution_count": 177,
     "metadata": {},
     "output_type": "execute_result"
    }
   ],
   "source": [
    "VLRPhi = (\n",
    "    -mu12*trace(PhiDaggerPhi)\n",
    "    - mu22*(trace(Phitilde*PhiDagger) + trace(PhitildeDagger*Phi))\n",
    "    -mu32*(trace(DeltaLDeltaLDagger) + trace(DeltaRDeltaRDagger))\n",
    "    + lamb1*(trace(PhiDaggerPhi))**2\n",
    "    + lamb2*(trace(PhitildePhiDagger)**2 + trace(PhitildeDaggerPhi)**2)\n",
    "    + lamb3*trace(PhitildePhiDagger)*trace(PhitildeDaggerPhi)\n",
    "    + lamb4*trace(PhiDaggerPhi)*(trace(PhitildePhiDagger) + trace(PhitildeDaggerPhi))\n",
    "    + rho1*(trace(DeltaLDeltaLDagger)**2 + trace(DeltaRDeltaRDagger)**2)\n",
    "    + rho2*(trace(DeltaLDeltaL)*trace(DeltaLDaggerDeltaLDagger) + trace(DeltaRDeltaR)*trace(DeltaRDaggerDeltaRDagger))\n",
    "    + rho3*trace(DeltaLDeltaLDagger)*trace(DeltaRDeltaRDagger)\n",
    "    + rho4*(trace(DeltaLDeltaL)*trace(DeltaRDaggerDeltaRDagger) + trace(DeltaLDaggerDeltaLDagger)*trace(DeltaRDeltaR))\n",
    "    + alpha1*trace(PhiDaggerPhi)*(trace(DeltaLDaggerDeltaL) + trace(DeltaRDaggerDeltaR))\n",
    "    + alpha2*(\n",
    "        trace(PhitildePhiDagger)*trace(DeltaLDeltaLDagger) + trace(PhitildeDaggerPhi)*trace(DeltaRDeltaRDagger) \n",
    "        + trace(PhitildeDaggerPhi)*trace(DeltaLDaggerDeltaL) + trace(PhitildePhiDagger)*trace(DeltaRDaggerDeltaR)\n",
    "    )\n",
    "    + alpha3*(trace(PhiPhiDagger*DeltaLDeltaLDagger) + trace(PhiDaggerPhi*DeltaRDeltaRDagger))\n",
    "    + beta1*(trace(Phi*DeltaR*PhiDagger*DeltaLDagger) + trace(PhiDagger*DeltaL*Phi*DeltaRDagger))\n",
    "    + beta2*(trace(Phitilde*DeltaR*PhiDagger*DeltaLDagger) + trace(PhitildeDagger*DeltaL*Phi*DeltaRDagger))\n",
    "    + beta3*(trace(Phi*DeltaR*PhitildeDagger*DeltaLDagger) + trace(PhiDagger*DeltaL*Phitilde*DeltaRDagger))\n",
    ")\n",
    "VLRPhi.subs(vevL).subs(vevR).subs(vevPhi)"
   ]
  },
  {
   "cell_type": "code",
   "execution_count": 178,
   "metadata": {},
   "outputs": [],
   "source": [
    "VLRPhi_vev = VLRPhi.subs(vevL).subs(vevR).subs(vevPhi)"
   ]
  },
  {
   "cell_type": "code",
   "execution_count": 179,
   "metadata": {},
   "outputs": [
    {
     "data": {
      "image/png": "[encoded data removed]",
      "text/latex": [
       "$\\displaystyle 2 \\alpha_{1} v_{L} \\left(k^{2} + k_{1}^{2}\\right) + 8 \\alpha_{2} k k_{1} v_{L} + 2 \\alpha_{3} k_{1}^{2} v_{L} - 2 \\mu^{2}_{3} v_{L} + 4 \\rho_{1} v_{L}^{3} + 2 \\rho_{3} v_{L} v_{R}^{2} + 2 \\beta_{1} k k_{1} v_{R} + 2 \\beta_{2} k^{2} v_{R} + 2 \\beta_{3} k_{1}^{2} v_{R}$"
      ],
      "text/plain": [
       "              ⎛ 2     2⎞                                    2                 \n",
       "2⋅\\alpha₁⋅v_L⋅⎝k  + k₁ ⎠ + 8⋅\\alpha₂⋅k⋅k₁⋅v_L + 2⋅\\alpha₃⋅k₁ ⋅v_L - 2⋅\\mu²₃⋅v_\n",
       "\n",
       "               3                  2                         2              2  \n",
       "L + 4⋅\\rho₁⋅v_L  + 2⋅\\rho₃⋅v_L⋅v_R  + 2⋅β₁⋅k⋅k₁⋅v_R + 2⋅β₂⋅k ⋅v_R + 2⋅β₃⋅k₁ ⋅v\n",
       "\n",
       "  \n",
       "_R"
      ]
     },
     "metadata": {},
     "output_type": "display_data"
    },
    {
     "data": {
      "image/png": "[encoded data removed]",
      "text/latex": [
       "$\\displaystyle 2 \\alpha_{1} v_{R} \\left(k^{2} + k_{1}^{2}\\right) + 8 \\alpha_{2} k k_{1} v_{R} + 2 \\alpha_{3} k_{1}^{2} v_{R} - 2 \\mu^{2}_{3} v_{R} + 4 \\rho_{1} v_{R}^{3} + 2 \\rho_{3} v_{L}^{2} v_{R} + 2 \\beta_{1} k k_{1} v_{L} + 2 \\beta_{2} k^{2} v_{L} + 2 \\beta_{3} k_{1}^{2} v_{L}$"
      ],
      "text/plain": [
       "              ⎛ 2     2⎞                                    2                 \n",
       "2⋅\\alpha₁⋅v_R⋅⎝k  + k₁ ⎠ + 8⋅\\alpha₂⋅k⋅k₁⋅v_R + 2⋅\\alpha₃⋅k₁ ⋅v_R - 2⋅\\mu²₃⋅v_\n",
       "\n",
       "               3              2                             2              2  \n",
       "R + 4⋅\\rho₁⋅v_R  + 2⋅\\rho₃⋅v_L ⋅v_R + 2⋅β₁⋅k⋅k₁⋅v_L + 2⋅β₂⋅k ⋅v_L + 2⋅β₃⋅k₁ ⋅v\n",
       "\n",
       "  \n",
       "_L"
      ]
     },
     "metadata": {},
     "output_type": "display_data"
    },
    {
     "data": {
      "image/png": "[encoded data removed]",
      "text/latex": [
       "$\\displaystyle 2 \\alpha_{1} k \\left(v_{L}^{2} + v_{R}^{2}\\right) + \\alpha_{2} \\cdot \\left(4 k_{1} v_{L}^{2} + 4 k_{1} v_{R}^{2}\\right) + 4 \\lambda_{1} k \\left(k^{2} + k_{1}^{2}\\right) + 16 \\lambda_{2} k k_{1}^{2} + 8 \\lambda_{3} k k_{1}^{2} + 8 \\lambda_{4} k^{2} k_{1} + 4 \\lambda_{4} k_{1} \\left(k^{2} + k_{1}^{2}\\right) - 2 \\mu^{2}_{1} k - 4 \\mu^{2}_{2} k_{1} + 2 \\beta_{1} k_{1} v_{L} v_{R} + 4 \\beta_{2} k v_{L} v_{R}$"
      ],
      "text/plain": [
       "            ⎛   2      2⎞           ⎛        2           2⎞                ⎛ 2\n",
       "2⋅\\alpha₁⋅k⋅⎝v_L  + v_R ⎠ + \\alpha₂⋅⎝4⋅k₁⋅v_L  + 4⋅k₁⋅v_R ⎠ + 4⋅\\lambda₁⋅k⋅⎝k \n",
       "\n",
       "     2⎞                   2                  2               2                \n",
       " + k₁ ⎠ + 16⋅\\lambda₂⋅k⋅k₁  + 8⋅\\lambda₃⋅k⋅k₁  + 8⋅\\lambda₄⋅k ⋅k₁ + 4⋅\\lambda₄\n",
       "\n",
       "    ⎛ 2     2⎞                                                            \n",
       "⋅k₁⋅⎝k  + k₁ ⎠ - 2⋅\\mu²₁⋅k - 4⋅\\mu²₂⋅k₁ + 2⋅β₁⋅k₁⋅v_L⋅v_R + 4⋅β₂⋅k⋅v_L⋅v_R"
      ]
     },
     "metadata": {},
     "output_type": "display_data"
    },
    {
     "data": {
      "image/png": "[encoded data removed]",
      "text/latex": [
       "$\\displaystyle 2 \\alpha_{1} k_{1} \\left(v_{L}^{2} + v_{R}^{2}\\right) + \\alpha_{2} \\cdot \\left(4 k v_{L}^{2} + 4 k v_{R}^{2}\\right) + \\alpha_{3} \\cdot \\left(2 k_{1} v_{L}^{2} + 2 k_{1} v_{R}^{2}\\right) + 4 \\lambda_{1} k_{1} \\left(k^{2} + k_{1}^{2}\\right) + 16 \\lambda_{2} k^{2} k_{1} + 8 \\lambda_{3} k^{2} k_{1} + 8 \\lambda_{4} k k_{1}^{2} + 4 \\lambda_{4} k \\left(k^{2} + k_{1}^{2}\\right) - 2 \\mu^{2}_{1} k_{1} - 4 \\mu^{2}_{2} k + 2 \\beta_{1} k v_{L} v_{R} + 4 \\beta_{3} k_{1} v_{L} v_{R}$"
      ],
      "text/plain": [
       "             ⎛   2      2⎞           ⎛       2          2⎞           ⎛        \n",
       "2⋅\\alpha₁⋅k₁⋅⎝v_L  + v_R ⎠ + \\alpha₂⋅⎝4⋅k⋅v_L  + 4⋅k⋅v_R ⎠ + \\alpha₃⋅⎝2⋅k₁⋅v_L\n",
       "\n",
       "2           2⎞                 ⎛ 2     2⎞                2                  2 \n",
       "  + 2⋅k₁⋅v_R ⎠ + 4⋅\\lambda₁⋅k₁⋅⎝k  + k₁ ⎠ + 16⋅\\lambda₂⋅k ⋅k₁ + 8⋅\\lambda₃⋅k ⋅\n",
       "\n",
       "                    2                ⎛ 2     2⎞                               \n",
       "k₁ + 8⋅\\lambda₄⋅k⋅k₁  + 4⋅\\lambda₄⋅k⋅⎝k  + k₁ ⎠ - 2⋅\\mu²₁⋅k₁ - 4⋅\\mu²₂⋅k + 2⋅β\n",
       "\n",
       "                             \n",
       "₁⋅k⋅v_L⋅v_R + 4⋅β₃⋅k₁⋅v_L⋅v_R"
      ]
     },
     "metadata": {},
     "output_type": "display_data"
    }
   ],
   "source": [
    "scalar_vevs = [vL, vR, k, k1]\n",
    "for vev in scalar_vevs:\n",
    "    display(VLRPhi_vev.diff(vev))"
   ]
  },
  {
   "cell_type": "markdown",
   "metadata": {},
   "source": [
    "Expand neutral fields in terms of real and imaginary parts\n",
    "$$F = \\frac{1}{\\sqrt{2}}(F^r + i F^i)$$"
   ]
  },
  {
   "cell_type": "code",
   "execution_count": 180,
   "metadata": {},
   "outputs": [],
   "source": [
    "phi10r, phi10i = symbols(r'\\phi_1^{0r}, \\phi_1^{0i}', real=True)\n",
    "phi20r, phi20i = symbols(r'\\phi_2^{0r}, \\phi_2^{0i}', real=True)\n",
    "deltaR0r, deltaR0i = symbols(r'\\delta_R^{0r}, \\delta_R^{0i}', real=True)\n",
    "deltaL0r, deltaL0i = symbols(r'\\delta_L^{0r}, \\delta_L^{0i}', real=True)\n",
    "complex_scalar_fields = {\n",
    "    phi10: (phi10r + I*phi10i)/sqrt2,\n",
    "    phi20: (phi20r + I*phi20i)/sqrt2,\n",
    "    deltaR0: (deltaR0r + I*deltaR0i)/sqrt2,\n",
    "    deltaL0: (deltaL0r + I*deltaL0i)/sqrt2\n",
    "}"
   ]
  },
  {
   "cell_type": "code",
   "execution_count": 181,
   "metadata": {},
   "outputs": [],
   "source": [
    "VLRPhi_ri = VLRPhi.subs(complex_scalar_fields)"
   ]
  },
  {
   "cell_type": "code",
   "execution_count": 182,
   "metadata": {},
   "outputs": [
    {
     "data": {
      "image/png": "[encoded data removed]",
      "text/latex": [
       "$\\displaystyle \\alpha_{1} k \\left(v_{L}^{2} + v_{R}^{2}\\right) + \\alpha_{2} \\cdot \\left(2 \\sqrt{2} k_{1} v_{L}^{2} + 2 \\sqrt{2} k_{1} v_{R}^{2}\\right) + 2 \\lambda_{1} k \\left(\\frac{k^{2}}{2} + k_{1}^{2}\\right) + 8 \\lambda_{2} k k_{1}^{2} + 4 \\lambda_{3} k k_{1}^{2} + 2 \\sqrt{2} \\lambda_{4} k^{2} k_{1} + 2 \\sqrt{2} \\lambda_{4} k_{1} \\left(\\frac{k^{2}}{2} + k_{1}^{2}\\right) - \\mu^{2}_{1} k - 2 \\sqrt{2} \\mu^{2}_{2} k_{1} + \\sqrt{2} \\beta_{1} k_{1} v_{L} v_{R} + 2 \\beta_{2} k v_{L} v_{R}$"
      ],
      "text/plain": [
       "                                                                              \n",
       "          ⎛   2      2⎞           ⎛           2              2⎞               \n",
       "\\alpha₁⋅k⋅⎝v_L  + v_R ⎠ + \\alpha₂⋅⎝2⋅√2⋅k₁⋅v_L  + 2⋅√2⋅k₁⋅v_R ⎠ + 2⋅\\lambda₁⋅k\n",
       "                                                                              \n",
       "\n",
       " ⎛ 2      ⎞                                                                   \n",
       " ⎜k      2⎟                  2                  2                  2          \n",
       "⋅⎜── + k₁ ⎟ + 8⋅\\lambda₂⋅k⋅k₁  + 4⋅\\lambda₃⋅k⋅k₁  + 2⋅√2⋅\\lambda₄⋅k ⋅k₁ + 2⋅√2\n",
       " ⎝2       ⎠                                                                   \n",
       "\n",
       "             ⎛ 2      ⎞                                                       \n",
       "             ⎜k      2⎟                                                       \n",
       "⋅\\lambda₄⋅k₁⋅⎜── + k₁ ⎟ - \\mu²₁⋅k - 2⋅√2⋅\\mu²₂⋅k₁ + √2⋅β₁⋅k₁⋅v_L⋅v_R + 2⋅β₂⋅k⋅\n",
       "             ⎝2       ⎠                                                       \n",
       "\n",
       "       \n",
       "       \n",
       "v_L⋅v_R\n",
       "       "
      ]
     },
     "metadata": {},
     "output_type": "display_data"
    },
    {
     "data": {
      "image/png": "[encoded data removed]",
      "text/latex": [
       "$\\displaystyle \\alpha_{1} k_{1} \\left(v_{L}^{2} + v_{R}^{2}\\right) + \\alpha_{2} \\cdot \\left(2 \\sqrt{2} k v_{L}^{2} + 2 \\sqrt{2} k v_{R}^{2}\\right) + \\alpha_{3} \\left(k_{1} v_{L}^{2} + k_{1} v_{R}^{2}\\right) + 2 \\lambda_{1} k_{1} \\left(k^{2} + \\frac{k_{1}^{2}}{2}\\right) + 8 \\lambda_{2} k^{2} k_{1} + 4 \\lambda_{3} k^{2} k_{1} + 2 \\sqrt{2} \\lambda_{4} k k_{1}^{2} + 2 \\sqrt{2} \\lambda_{4} k \\left(k^{2} + \\frac{k_{1}^{2}}{2}\\right) - \\mu^{2}_{1} k_{1} - 2 \\sqrt{2} \\mu^{2}_{2} k + \\sqrt{2} \\beta_{1} k v_{L} v_{R} + 2 \\beta_{3} k_{1} v_{L} v_{R}$"
      ],
      "text/plain": [
       "                                                                              \n",
       "           ⎛   2      2⎞           ⎛          2             2⎞           ⎛    \n",
       "\\alpha₁⋅k₁⋅⎝v_L  + v_R ⎠ + \\alpha₂⋅⎝2⋅√2⋅k⋅v_L  + 2⋅√2⋅k⋅v_R ⎠ + \\alpha₃⋅⎝k₁⋅v\n",
       "                                                                              \n",
       "\n",
       "                               ⎛       2⎞                                     \n",
       "  2         2⎞                 ⎜ 2   k₁ ⎟               2                  2  \n",
       "_L  + k₁⋅v_R ⎠ + 2⋅\\lambda₁⋅k₁⋅⎜k  + ───⎟ + 8⋅\\lambda₂⋅k ⋅k₁ + 4⋅\\lambda₃⋅k ⋅k\n",
       "                               ⎝      2 ⎠                                     \n",
       "\n",
       "                                          ⎛       2⎞                          \n",
       "                      2                   ⎜ 2   k₁ ⎟                          \n",
       "₁ + 2⋅√2⋅\\lambda₄⋅k⋅k₁  + 2⋅√2⋅\\lambda₄⋅k⋅⎜k  + ───⎟ - \\mu²₁⋅k₁ - 2⋅√2⋅\\mu²₂⋅k\n",
       "                                          ⎝      2 ⎠                          \n",
       "\n",
       "                                    \n",
       "                                    \n",
       " + √2⋅β₁⋅k⋅v_L⋅v_R + 2⋅β₃⋅k₁⋅v_L⋅v_R\n",
       "                                    "
      ]
     },
     "execution_count": 182,
     "metadata": {},
     "output_type": "execute_result"
    }
   ],
   "source": [
    "tadpol1 = VLRPhi.subs(phi10, (phi10r + I*phi10i)/sqrt2).diff(phi10r).subs(vevPhi).subs(vevL).subs(vevR).subs(\n",
    "    {\n",
    "        phi10r: k, phi10i: 0\n",
    "    }\n",
    ")\n",
    "display(tadpol1)\n",
    "tadpol2 = VLRPhi.subs(phi20, (phi20r + I*phi20i)/sqrt2).diff(phi20r).subs(vevPhi).subs(vevL).subs(vevR).subs(\n",
    "    {\n",
    "        phi20r: k1, phi20i: 0\n",
    "    }\n",
    ")\n",
    "tadpol2"
   ]
  },
  {
   "cell_type": "code",
   "execution_count": 183,
   "metadata": {},
   "outputs": [
    {
     "data": {
      "image/png": "[encoded data removed]",
      "text/latex": [
       "$\\displaystyle \\alpha_{1} v_{R} \\left(k^{2} + k_{1}^{2}\\right) + 4 \\alpha_{2} k k_{1} v_{R} + \\alpha_{3} k_{1}^{2} v_{R} - \\mu^{2}_{3} v_{R} + \\rho_{1} v_{R}^{3} + \\rho_{3} v_{L}^{2} v_{R} + \\sqrt{2} \\beta_{1} k k_{1} v_{L} + \\sqrt{2} \\beta_{2} k^{2} v_{L} + \\sqrt{2} \\beta_{3} k_{1}^{2} v_{L}$"
      ],
      "text/plain": [
       "            ⎛ 2     2⎞                                  2                     \n",
       "\\alpha₁⋅v_R⋅⎝k  + k₁ ⎠ + 4⋅\\alpha₂⋅k⋅k₁⋅v_R + \\alpha₃⋅k₁ ⋅v_R - \\mu²₃⋅v_R + \\r\n",
       "\n",
       "       3            2                               2               2    \n",
       "ho₁⋅v_R  + \\rho₃⋅v_L ⋅v_R + √2⋅β₁⋅k⋅k₁⋅v_L + √2⋅β₂⋅k ⋅v_L + √2⋅β₃⋅k₁ ⋅v_L"
      ]
     },
     "metadata": {},
     "output_type": "display_data"
    },
    {
     "data": {
      "image/png": "[encoded data removed]",
      "text/latex": [
       "$\\displaystyle \\alpha_{1} v_{L} \\left(k^{2} + k_{1}^{2}\\right) + 4 \\alpha_{2} k k_{1} v_{L} + \\alpha_{3} k_{1}^{2} v_{L} - \\mu^{2}_{3} v_{L} + \\rho_{1} v_{L}^{3} + \\rho_{3} v_{L} v_{R}^{2} + \\sqrt{2} \\beta_{1} k k_{1} v_{R} + \\sqrt{2} \\beta_{2} k^{2} v_{R} + \\sqrt{2} \\beta_{3} k_{1}^{2} v_{R}$"
      ],
      "text/plain": [
       "            ⎛ 2     2⎞                                  2                     \n",
       "\\alpha₁⋅v_L⋅⎝k  + k₁ ⎠ + 4⋅\\alpha₂⋅k⋅k₁⋅v_L + \\alpha₃⋅k₁ ⋅v_L - \\mu²₃⋅v_L + \\r\n",
       "\n",
       "       3                2                           2               2    \n",
       "ho₁⋅v_L  + \\rho₃⋅v_L⋅v_R  + √2⋅β₁⋅k⋅k₁⋅v_R + √2⋅β₂⋅k ⋅v_R + √2⋅β₃⋅k₁ ⋅v_R"
      ]
     },
     "execution_count": 183,
     "metadata": {},
     "output_type": "execute_result"
    }
   ],
   "source": [
    "tadpol3 = VLRPhi.subs(deltaR0, (deltaR0r + I*deltaR0i)/sqrt2).diff(deltaR0r).subs(vevR).subs(vevPhi).subs(vevL).subs(\n",
    "    {\n",
    "        deltaR0r: vR, deltaR0i: 0\n",
    "    }\n",
    ")\n",
    "display(tadpol3)\n",
    "tadpol4 = VLRPhi.subs(deltaL0, (deltaL0r + I*deltaL0i)/sqrt2).diff(deltaL0r).subs(vevL).subs(vevPhi).subs(vevR).subs(\n",
    "    {\n",
    "        deltaL0r: vL, deltaL0i: 0\n",
    "    }\n",
    ")\n",
    "tadpol4"
   ]
  },
  {
   "cell_type": "code",
   "execution_count": 184,
   "metadata": {},
   "outputs": [],
   "source": [
    "tadpole12_sol = solve([tadpol1, tadpol2], [mu12, mu22], dict=True)[0]"
   ]
  },
  {
   "cell_type": "code",
   "execution_count": 185,
   "metadata": {},
   "outputs": [
    {
     "data": {
      "image/png": "[encoded data removed]",
      "text/latex": [
       "$\\displaystyle \\frac{\\alpha_{1} \\left(k - k_{1}\\right) \\left(k + k_{1}\\right) \\left(v_{L}^{2} + v_{R}^{2}\\right) - \\alpha_{3} k_{1}^{2} \\left(v_{L}^{2} + v_{R}^{2}\\right) + \\lambda_{1} \\left(k - k_{1}\\right) \\left(k + k_{1}\\right) \\left(k^{2} + k_{1}^{2}\\right) + \\sqrt{2} \\lambda_{4} k k_{1} \\left(k - k_{1}\\right) \\left(k + k_{1}\\right) + 2 v_{L} v_{R} \\left(\\beta_{2} k^{2} - \\beta_{3} k_{1}^{2}\\right)}{k^{2}_{-}}$"
      ],
      "text/plain": [
       "                          ⎛   2      2⎞             2 ⎛   2      2⎞           \n",
       "\\alpha₁⋅(k - k₁)⋅(k + k₁)⋅⎝v_L  + v_R ⎠ - \\alpha₃⋅k₁ ⋅⎝v_L  + v_R ⎠ + \\lambda₁\n",
       "──────────────────────────────────────────────────────────────────────────────\n",
       "                                                                              \n",
       "\n",
       "                   ⎛ 2     2⎞                                                 \n",
       "⋅(k - k₁)⋅(k + k₁)⋅⎝k  + k₁ ⎠ + √2⋅\\lambda₄⋅k⋅k₁⋅(k - k₁)⋅(k + k₁) + 2⋅v_L⋅v_R\n",
       "──────────────────────────────────────────────────────────────────────────────\n",
       "       k²₋                                                                    \n",
       "\n",
       " ⎛    2        2⎞\n",
       "⋅⎝β₂⋅k  - β₃⋅k₁ ⎠\n",
       "─────────────────\n",
       "                 "
      ]
     },
     "execution_count": 185,
     "metadata": {},
     "output_type": "execute_result"
    }
   ],
   "source": [
    "tadpole12_sol[mu12].subs(k2pm_subs).collect([alpha1, alpha3, lamb1, lamb4], factor).simplify()#.factor()"
   ]
  },
  {
   "cell_type": "code",
   "execution_count": 186,
   "metadata": {},
   "outputs": [
    {
     "data": {
      "image/png": "[encoded data removed]",
      "text/latex": [
       "$\\displaystyle \\frac{\\alpha_{2} \\left(k - k_{1}\\right) \\left(k + k_{1}\\right) \\left(v_{L}^{2} + v_{R}^{2}\\right) + \\frac{\\sqrt{2} \\alpha_{3} k k_{1} \\left(v_{L}^{2} + v_{R}^{2}\\right)}{4} + \\frac{\\sqrt{2} \\lambda_{1} k k_{1} \\left(k - k_{1}\\right) \\left(k + k_{1}\\right)}{4} + 2 \\sqrt{2} \\lambda_{2} k k_{1} \\left(k - k_{1}\\right) \\left(k + k_{1}\\right) + \\sqrt{2} \\lambda_{3} k^{3} k_{1} - \\sqrt{2} \\lambda_{3} k k_{1}^{3} + \\lambda_{4} k^{4} - \\lambda_{4} k_{1}^{4} + \\frac{\\beta_{1} k^{2} v_{L} v_{R}}{2} - \\frac{\\beta_{1} k_{1}^{2} v_{L} v_{R}}{2} - \\frac{\\sqrt{2} \\beta_{2} k k_{1} v_{L} v_{R}}{2} + \\frac{\\sqrt{2} \\beta_{3} k k_{1} v_{L} v_{R}}{2}}{k^{2}_{-}}$"
      ],
      "text/plain": [
       "                                                          ⎛   2      2⎞       \n",
       "                          ⎛   2      2⎞   √2⋅\\alpha₃⋅k⋅k₁⋅⎝v_L  + v_R ⎠   √2⋅\\\n",
       "\\alpha₂⋅(k - k₁)⋅(k + k₁)⋅⎝v_L  + v_R ⎠ + ───────────────────────────── + ────\n",
       "                                                        4                     \n",
       "──────────────────────────────────────────────────────────────────────────────\n",
       "                                                                              \n",
       "\n",
       "                                                                              \n",
       "lambda₁⋅k⋅k₁⋅(k - k₁)⋅(k + k₁)                                                \n",
       "────────────────────────────── + 2⋅√2⋅\\lambda₂⋅k⋅k₁⋅(k - k₁)⋅(k + k₁) + √2⋅\\la\n",
       "            4                                                                 \n",
       "──────────────────────────────────────────────────────────────────────────────\n",
       "                                                                  k²₋         \n",
       "\n",
       "                                                                   2          \n",
       "       3                      3             4              4   β₁⋅k ⋅v_L⋅v_R  \n",
       "mbda₃⋅k ⋅k₁ - √2⋅\\lambda₃⋅k⋅k₁  + \\lambda₄⋅k  - \\lambda₄⋅k₁  + ───────────── -\n",
       "                                                                     2        \n",
       "──────────────────────────────────────────────────────────────────────────────\n",
       "                                                                              \n",
       "\n",
       "      2                                                  \n",
       " β₁⋅k₁ ⋅v_L⋅v_R   √2⋅β₂⋅k⋅k₁⋅v_L⋅v_R   √2⋅β₃⋅k⋅k₁⋅v_L⋅v_R\n",
       " ────────────── - ────────────────── + ──────────────────\n",
       "       2                  2                    2         \n",
       "─────────────────────────────────────────────────────────\n",
       "                                                         "
      ]
     },
     "execution_count": 186,
     "metadata": {},
     "output_type": "execute_result"
    }
   ],
   "source": [
    "tadpole12_sol[mu22].simplify().subs(k2pm_subs).collect([alpha2, alpha3, lamb1, lamb2], factor).simplify()"
   ]
  },
  {
   "cell_type": "code",
   "execution_count": 187,
   "metadata": {},
   "outputs": [],
   "source": [
    "tadpole34_sol = solve([tadpol3, tadpol4], [mu32, beta2], dict=True)[0]"
   ]
  },
  {
   "cell_type": "code",
   "execution_count": 188,
   "metadata": {},
   "outputs": [
    {
     "data": {
      "image/png": "[encoded data removed]",
      "text/latex": [
       "$\\displaystyle \\alpha_{1} k^{2}_{+} + 4 \\alpha_{2} k k_{1} + \\alpha_{3} k_{1}^{2} + \\rho_{1} \\left(v_{L}^{2} + v_{R}^{2}\\right)$"
      ],
      "text/plain": [
       "                                         2         ⎛   2      2⎞\n",
       "\\alpha₁⋅k²₊ + 4⋅\\alpha₂⋅k⋅k₁ + \\alpha₃⋅k₁  + \\rho₁⋅⎝v_L  + v_R ⎠"
      ]
     },
     "execution_count": 188,
     "metadata": {},
     "output_type": "execute_result"
    }
   ],
   "source": [
    "tadpole34_sol[mu32].collect(alpha1, factor).subs(k2pm_subs).collect(rho1)"
   ]
  },
  {
   "cell_type": "code",
   "execution_count": 189,
   "metadata": {},
   "outputs": [
    {
     "data": {
      "image/png": "[encoded data removed]",
      "text/latex": [
       "$\\displaystyle \\frac{\\frac{\\sqrt{2} \\rho_{1} v_{L} v_{R}}{2} - \\frac{\\sqrt{2} \\rho_{3} v_{L} v_{R}}{2} - \\beta_{1} k k_{1} - \\beta_{3} k_{1}^{2}}{k^{2}}$"
      ],
      "text/plain": [
       "√2⋅\\rho₁⋅v_L⋅v_R   √2⋅\\rho₃⋅v_L⋅v_R                  2\n",
       "──────────────── - ──────────────── - β₁⋅k⋅k₁ - β₃⋅k₁ \n",
       "       2                  2                           \n",
       "──────────────────────────────────────────────────────\n",
       "                           2                          \n",
       "                          k                           "
      ]
     },
     "execution_count": 189,
     "metadata": {},
     "output_type": "execute_result"
    }
   ],
   "source": [
    "tadpole34_sol[beta2].simplify()"
   ]
  },
  {
   "cell_type": "code",
   "execution_count": 190,
   "metadata": {},
   "outputs": [
    {
     "data": {
      "image/png": "[encoded data removed]",
      "text/latex": [
       "$\\displaystyle \\frac{\\sqrt{2} v_{L} v_{R} \\left(\\rho_{1} - \\rho_{3}\\right)}{2 k^{2}}$"
      ],
      "text/plain": [
       "√2⋅v_L⋅v_R⋅(\\rho₁ - \\rho₃)\n",
       "──────────────────────────\n",
       "              2           \n",
       "           2⋅k            "
      ]
     },
     "execution_count": 190,
     "metadata": {},
     "output_type": "execute_result"
    }
   ],
   "source": [
    "tadpole34_sol[beta2].simplify().subs(beta3, beta1).subs(beta1,0).simplify()"
   ]
  },
  {
   "cell_type": "markdown",
   "metadata": {},
   "source": [
    "## Yukawa charged lepton sector"
   ]
  },
  {
   "cell_type": "code",
   "execution_count": 221,
   "metadata": {},
   "outputs": [],
   "source": [
    "from sympy import IndexedBase, Idx"
   ]
  },
  {
   "cell_type": "code",
   "execution_count": 192,
   "metadata": {},
   "outputs": [],
   "source": [
    "#Indexed?"
   ]
  },
  {
   "cell_type": "code",
   "execution_count": 203,
   "metadata": {},
   "outputs": [],
   "source": [
    "i,j = symbols('i, j', cls=Idx)\n",
    "#h = IndexedBase('h')\n",
    "#ht = IndexedBase(r'\\tilde{h}')\n",
    "hij = symbols('h_{ij}')\n",
    "htij = symbols(r'\\tilde{h}_{ij}')"
   ]
  },
  {
   "cell_type": "code",
   "execution_count": 204,
   "metadata": {},
   "outputs": [],
   "source": [
    "#ht[i, j]"
   ]
  },
  {
   "cell_type": "code",
   "execution_count": 205,
   "metadata": {},
   "outputs": [],
   "source": [
    "nueL, numuL, nutauL = symbols(r'{{\\nu_{L}}}_e, {{\\nu_{L}}}_\\mu, {{\\nu_{L}}}_\\tau')\n",
    "nueR, numuR, nutauR = symbols(r'{{\\nu_{R}}}_e, {{\\nu_{R}}}_\\mu, {{\\nu_{R}}}_\\tau')\n",
    "nuL = IndexedBase(r'{{\\nu_{L}}}')\n",
    "nuR = IndexedBase(r'{{\\nu_{R}}}')\n",
    "eL, muL, tauL = symbols(r'e_L, \\mu_L, \\tau_L')\n",
    "eR, muR, tauR = symbols(r'e_R, \\mu_R, \\tau_R')\n",
    "lL = IndexedBase('{{l_L}}')\n",
    "lR = IndexedBase('{{l_R}}')"
   ]
  },
  {
   "cell_type": "code",
   "execution_count": 206,
   "metadata": {},
   "outputs": [
    {
     "data": {
      "image/png": "[encoded data removed]",
      "text/latex": [
       "$\\displaystyle \\left( {{\\nu_{L}}}_e, \\  {{{\\nu_{L}}}}_{i}\\right)$"
      ],
      "text/plain": [
       "({{\\nu_{L}}}_e, {{\\nu_{L}}}[i])"
      ]
     },
     "execution_count": 206,
     "metadata": {},
     "output_type": "execute_result"
    }
   ],
   "source": [
    "nueL, nuL[i]"
   ]
  },
  {
   "cell_type": "code",
   "execution_count": 207,
   "metadata": {},
   "outputs": [
    {
     "data": {
      "image/png": "[encoded data removed]",
      "text/latex": [
       "$\\displaystyle \\left( \\left[\\begin{matrix}\\overline{{{{\\nu_{L}}}}_{i}} & \\overline{{{{l_L}}}_{i}}\\end{matrix}\\right], \\  \\left[\\begin{matrix}{{{\\nu_{R}}}}_{j}\\\\{{{l_R}}}_{j}\\end{matrix}\\right]\\right)$"
      ],
      "text/plain": [
       "⎛⎡______________  __________⎤  ⎡{{\\nu_{R}}}[j]⎤⎞\n",
       "⎜⎣{{\\nu_{L}}}[i]  {{l_L}}[i]⎦, ⎢              ⎥⎟\n",
       "⎝                              ⎣  {{l_R}}[j]  ⎦⎠"
      ]
     },
     "execution_count": 207,
     "metadata": {},
     "output_type": "execute_result"
    }
   ],
   "source": [
    "LLi = Matrix(\n",
    "    [\n",
    "        [nuL[i]],\n",
    "        [lL[i]]\n",
    "    ]\n",
    ")\n",
    "LRj = Matrix(\n",
    "    [\n",
    "        [nuR[j]],\n",
    "        [lR[j]]\n",
    "    ]\n",
    ")\n",
    "Dagger(LLi), LRj"
   ]
  },
  {
   "cell_type": "code",
   "execution_count": 208,
   "metadata": {},
   "outputs": [
    {
     "data": {
      "image/png": "[encoded data removed]",
      "text/latex": [
       "$\\displaystyle \\left[\\begin{matrix}\\phi^{0}_{2} & - \\phi^{-}_{2}\\\\- \\phi^{+}_{1} & \\phi^{0}_{1}\\end{matrix}\\right]$"
      ],
      "text/plain": [
       "⎡\\phi⁰₂   -\\phi⁻₂⎤\n",
       "⎢                ⎥\n",
       "⎣-\\phi⁺₁  \\phi⁰₁ ⎦"
      ]
     },
     "execution_count": 208,
     "metadata": {},
     "output_type": "execute_result"
    }
   ],
   "source": [
    "Phitilde"
   ]
  },
  {
   "cell_type": "code",
   "execution_count": 213,
   "metadata": {},
   "outputs": [],
   "source": [
    "LY = (Dagger(LLi)*(hij*Phi + htij*Phitilde)*LRj)[0].subs(vevPhi)"
   ]
  },
  {
   "cell_type": "code",
   "execution_count": 214,
   "metadata": {},
   "outputs": [
    {
     "data": {
      "image/png": "[encoded data removed]",
      "text/latex": [
       "$\\displaystyle \\left(\\tilde{h}_{ij} k + h_{ij} k_{1}\\right) \\overline{{{{l_L}}}_{i}} {{{l_R}}}_{j} + \\left(\\tilde{h}_{ij} k_{1} + h_{ij} k\\right) \\overline{{{{\\nu_{L}}}}_{i}} {{{\\nu_{R}}}}_{j}$"
      ],
      "text/plain": [
       "                               __________                                     \n",
       "(\\tilde{h}_{ij}⋅k + h_{ij}⋅k₁)⋅{{l_L}}[i]⋅{{l_R}}[j] + (\\tilde{h}_{ij}⋅k₁ + h_\n",
       "\n",
       "        ______________               \n",
       "{ij}⋅k)⋅{{\\nu_{L}}}[i]⋅{{\\nu_{R}}}[j]"
      ]
     },
     "execution_count": 214,
     "metadata": {},
     "output_type": "execute_result"
    }
   ],
   "source": [
    "LY"
   ]
  },
  {
   "cell_type": "markdown",
   "metadata": {},
   "source": [
    "Charged lepton mass"
   ]
  },
  {
   "cell_type": "code",
   "execution_count": 217,
   "metadata": {},
   "outputs": [
    {
     "data": {
      "image/png": "[encoded data removed]",
      "text/latex": [
       "$\\displaystyle \\tilde{h}_{ij} k + h_{ij} k_{1}$"
      ],
      "text/plain": [
       "\\tilde{h}_{ij}⋅k + h_{ij}⋅k₁"
      ]
     },
     "execution_count": 217,
     "metadata": {},
     "output_type": "execute_result"
    }
   ],
   "source": [
    "Ml = LY.args[0].args[0]\n",
    "Ml"
   ]
  },
  {
   "cell_type": "markdown",
   "metadata": {},
   "source": [
    "Dirac neutrino mass"
   ]
  },
  {
   "cell_type": "code",
   "execution_count": 218,
   "metadata": {},
   "outputs": [
    {
     "data": {
      "image/png": "[encoded data removed]",
      "text/latex": [
       "$\\displaystyle \\tilde{h}_{ij} k_{1} + h_{ij} k$"
      ],
      "text/plain": [
       "\\tilde{h}_{ij}⋅k₁ + h_{ij}⋅k"
      ]
     },
     "execution_count": 218,
     "metadata": {},
     "output_type": "execute_result"
    }
   ],
   "source": [
    "MnuD = LY.args[1].args[0]\n",
    "MnuD"
   ]
  },
  {
   "cell_type": "markdown",
   "metadata": {},
   "source": [
    "As we know, the scale of mass of charged leptons is greater than neutrino mass scale. Thus, we assume $k >> k_1$ and $h_{ij} >> \\tilde{h}_{ij}$. In this aproximation"
   ]
  },
  {
   "cell_type": "code",
   "execution_count": 220,
   "metadata": {},
   "outputs": [
    {
     "data": {
      "image/png": "[encoded data removed]",
      "text/latex": [
       "$\\displaystyle h_{ij} k$"
      ],
      "text/plain": [
       "h_{ij}⋅k"
      ]
     },
     "execution_count": 220,
     "metadata": {},
     "output_type": "execute_result"
    }
   ],
   "source": [
    "Ml = k*hij\n",
    "Ml"
   ]
  },
  {
   "cell_type": "code",
   "execution_count": null,
   "metadata": {},
   "outputs": [],
   "source": []
  }
 ],
 "metadata": {
  "kernelspec": {
   "display_name": "Python 3",
   "language": "python",
   "name": "python3"
  },
  "language_info": {
   "codemirror_mode": {
    "name": "ipython",
    "version": 3
   },
   "file_extension": ".py",
   "mimetype": "text/x-python",
   "name": "python",
   "nbconvert_exporter": "python",
   "pygments_lexer": "ipython3",
   "version": "3.12.1"
  }
 },
 "nbformat": 4,
 "nbformat_minor": 2
}
