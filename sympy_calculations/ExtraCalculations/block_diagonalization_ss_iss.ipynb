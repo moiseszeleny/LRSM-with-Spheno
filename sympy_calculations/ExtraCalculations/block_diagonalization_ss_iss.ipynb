{
 "cells": [
  {
   "cell_type": "code",
   "execution_count": 491,
   "metadata": {},
   "outputs": [],
   "source": [
    "from sympy import MatrixSymbol, BlockMatrix, init_printing, ZeroMatrix, symbols, Identity, Matrix, block_collapse\n",
    "from sympy import DiagonalMatrix, sqrt\n",
    "init_printing()"
   ]
  },
  {
   "cell_type": "code",
   "execution_count": 473,
   "metadata": {},
   "outputs": [
    {
     "data": {
      "image/png": "[encoded data removed]",
      "text/latex": [
       "$\\displaystyle \\left[\\begin{matrix}A & B\\\\B^{T} & C\\end{matrix}\\right]$"
      ],
      "text/plain": [
       "⎡A   B⎤\n",
       "⎢     ⎥\n",
       "⎢ T   ⎥\n",
       "⎣B   C⎦"
      ]
     },
     "execution_count": 473,
     "metadata": {},
     "output_type": "execute_result"
    }
   ],
   "source": [
    "A = MatrixSymbol('A', 3, 3)\n",
    "B = MatrixSymbol('B', 3, 3)\n",
    "C = MatrixSymbol('C', 3, 3)\n",
    "M = BlockMatrix(\n",
    "    [\n",
    "        [A, B],\n",
    "        [B.T, C]\n",
    "    ]\n",
    ")\n",
    "M"
   ]
  },
  {
   "cell_type": "code",
   "execution_count": 474,
   "metadata": {},
   "outputs": [
    {
     "data": {
      "image/png": "[encoded data removed]",
      "text/latex": [
       "$\\displaystyle \\left[\\begin{matrix}\\lambda \\mathbb{I} & 0\\\\0 & \\lambda \\mathbb{I}\\end{matrix}\\right]$"
      ],
      "text/plain": [
       "⎡\\lambda⋅𝕀      𝟘    ⎤\n",
       "⎢                    ⎥\n",
       "⎣    𝟘      \\lambda⋅𝕀⎦"
      ]
     },
     "execution_count": 474,
     "metadata": {},
     "output_type": "execute_result"
    }
   ],
   "source": [
    "lamb = symbols(r'\\lambda')\n",
    "Id = Identity(3)\n",
    "Z = ZeroMatrix(3,3)\n",
    "Lamb = BlockMatrix(\n",
    "    [\n",
    "        [lamb*Id, Z],\n",
    "        [Z, lamb*Id]\n",
    "    ]\n",
    ")\n",
    "Lamb"
   ]
  },
  {
   "cell_type": "code",
   "execution_count": 475,
   "metadata": {},
   "outputs": [
    {
     "data": {
      "image/png": "[encoded data removed]",
      "text/latex": [
       "$\\displaystyle \\left[\\begin{matrix}- \\lambda \\mathbb{I} + A & B\\\\B^{T} & - \\lambda \\mathbb{I} + C\\end{matrix}\\right]$"
      ],
      "text/plain": [
       "⎡-\\lambda⋅𝕀 + A        B       ⎤\n",
       "⎢                              ⎥\n",
       "⎢       T                      ⎥\n",
       "⎣      B         -\\lambda⋅𝕀 + C⎦"
      ]
     },
     "execution_count": 475,
     "metadata": {},
     "output_type": "execute_result"
    }
   ],
   "source": [
    "MLamb = BlockMatrix(\n",
    "    [\n",
    "        [A - lamb*Id, B],\n",
    "        [B.T, C - lamb*Id]\n",
    "    ]\n",
    ")\n",
    "MLamb"
   ]
  },
  {
   "cell_type": "code",
   "execution_count": 476,
   "metadata": {},
   "outputs": [
    {
     "data": {
      "image/png": "[encoded data removed]",
      "text/latex": [
       "$\\displaystyle - \\lambda \\mathbb{I} + C - B^{T} \\left(- \\lambda \\mathbb{I} + A\\right)^{-1} B$"
      ],
      "text/plain": [
       "             T                 -1      \n",
       "-\\lambda⋅𝕀 -B ⋅(-\\lambda⋅𝕀 + A)  ⋅B + C"
      ]
     },
     "execution_count": 476,
     "metadata": {},
     "output_type": "execute_result"
    }
   ],
   "source": [
    "MLamb_schur = MLamb.schur('A')#.subs(A - lamb*Id, A)\n",
    "MLamb_schur"
   ]
  },
  {
   "cell_type": "code",
   "execution_count": 477,
   "metadata": {},
   "outputs": [
    {
     "data": {
      "image/png": "[encoded data removed]",
      "text/latex": [
       "$\\displaystyle - \\lambda \\mathbb{I} + C - B^{T} \\left(- \\lambda \\mathbb{I} + A\\right)^{-1} B$"
      ],
      "text/plain": [
       "             T                 -1      \n",
       "-\\lambda⋅𝕀 -B ⋅(-\\lambda⋅𝕀 + A)  ⋅B + C"
      ]
     },
     "execution_count": 477,
     "metadata": {},
     "output_type": "execute_result"
    }
   ],
   "source": [
    "MLamb_schur"
   ]
  },
  {
   "cell_type": "code",
   "execution_count": 478,
   "metadata": {},
   "outputs": [
    {
     "data": {
      "image/png": "[encoded data removed]",
      "text/latex": [
       "$\\displaystyle - \\lambda \\mathbb{I} + A - B \\left(- \\lambda \\mathbb{I} + C\\right)^{-1} B^{T}$"
      ],
      "text/plain": [
       "                              -1  T    \n",
       "-\\lambda⋅𝕀 -B⋅(-\\lambda⋅𝕀 + C)  ⋅B  + A"
      ]
     },
     "execution_count": 478,
     "metadata": {},
     "output_type": "execute_result"
    }
   ],
   "source": [
    "MLamb.schur('D')"
   ]
  },
  {
   "cell_type": "code",
   "execution_count": 479,
   "metadata": {},
   "outputs": [
    {
     "data": {
      "image/png": "[encoded data removed]",
      "text/latex": [
       "$\\displaystyle C - B^{T} A^{-1} B$"
      ],
      "text/plain": [
       "  T  -1      \n",
       "-B ⋅A  ⋅B + C"
      ]
     },
     "execution_count": 479,
     "metadata": {},
     "output_type": "execute_result"
    }
   ],
   "source": [
    "M.schur('A')"
   ]
  },
  {
   "cell_type": "code",
   "execution_count": 480,
   "metadata": {},
   "outputs": [
    {
     "data": {
      "image/png": "[encoded data removed]",
      "text/latex": [
       "$\\displaystyle A - B C^{-1} B^{T}$"
      ],
      "text/plain": [
       "    -1  T    \n",
       "-B⋅C  ⋅B  + A"
      ]
     },
     "execution_count": 480,
     "metadata": {},
     "output_type": "execute_result"
    }
   ],
   "source": [
    "M.schur('D')"
   ]
  },
  {
   "cell_type": "code",
   "execution_count": 486,
   "metadata": {},
   "outputs": [
    {
     "data": {
      "image/png": "[encoded data removed]",
      "text/latex": [
       "$\\displaystyle \\left[\\begin{matrix}0 & \\left[\\begin{matrix}m_{D}^{T} & \\left({{m^\\prime_D}}\\right)^{T}\\end{matrix}\\right]\\\\\\left[\\begin{matrix}m_{D}\\\\{{m^\\prime_D}}\\end{matrix}\\right] & \\left[\\begin{matrix}0 & M_{D}^{T}\\\\M_{D} & \\mu\\end{matrix}\\right]\\end{matrix}\\right]$"
      ],
      "text/plain": [
       "⎡               ⎡   T             T⎤⎤\n",
       "⎢      𝟘        ⎣m_D   {{m_D}}__\\′ ⎦⎥\n",
       "⎢                                   ⎥\n",
       "⎢                   ⎡        T⎤     ⎥\n",
       "⎢⎡    m_D    ⎤      ⎢ 𝟘   M_D ⎥     ⎥\n",
       "⎢⎢           ⎥      ⎢         ⎥     ⎥\n",
       "⎣⎣{{m_D}}__\\′⎦      ⎣M_D  \\mu ⎦     ⎦"
      ]
     },
     "execution_count": 486,
     "metadata": {},
     "output_type": "execute_result"
    }
   ],
   "source": [
    "n = 2\n",
    "mD = MatrixSymbol('m_D', n,n)\n",
    "mDp = MatrixSymbol('{{m^\\prime_D}}', n,n)\n",
    "MD = MatrixSymbol('M_D', n,n)\n",
    "mu = MatrixSymbol(r'\\mu', n,n)\n",
    "Z1 = ZeroMatrix(n,n)\n",
    "BD = BlockMatrix(\n",
    "    [\n",
    "        [mD],\n",
    "        [mDp]\n",
    "    ]\n",
    ")\n",
    "CD = BlockMatrix(\n",
    "    [\n",
    "        [Z1, MD.T],\n",
    "        [MD, mu]\n",
    "    ]\n",
    ")\n",
    "MLRiss = BlockMatrix(\n",
    "    [\n",
    "        [Z1, BD.T],\n",
    "        [BD, CD],\n",
    "    ]\n",
    ")\n",
    "MLRiss"
   ]
  },
  {
   "cell_type": "code",
   "execution_count": 487,
   "metadata": {},
   "outputs": [
    {
     "data": {
      "image/png": "[encoded data removed]",
      "text/latex": [
       "$\\displaystyle - \\left[\\begin{matrix}m_{D}^{T} & \\left({{m^\\prime_D}}\\right)^{T}\\end{matrix}\\right] \\left(\\left[\\begin{matrix}0 & M_{D}^{T}\\\\M_{D} & \\mu\\end{matrix}\\right]\\right)^{-1} \\left[\\begin{matrix}m_{D}\\\\{{m^\\prime_D}}\\end{matrix}\\right]$"
      ],
      "text/plain": [
       "                                   -1              \n",
       "                      ⎛⎡        T⎤⎞                \n",
       " ⎡   T             T⎤ ⎜⎢ 𝟘   M_D ⎥⎟   ⎡    m_D    ⎤\n",
       "-⎣m_D   {{m_D}}__\\′ ⎦⋅⎜⎢         ⎥⎟  ⋅⎢           ⎥\n",
       "                      ⎝⎣M_D  \\mu ⎦⎠   ⎣{{m_D}}__\\′⎦"
      ]
     },
     "execution_count": 487,
     "metadata": {},
     "output_type": "execute_result"
    }
   ],
   "source": [
    "MLRiss.schur('D', generalized=True)"
   ]
  },
  {
   "cell_type": "code",
   "execution_count": 499,
   "metadata": {},
   "outputs": [
    {
     "data": {
      "image/png": "[encoded data removed]",
      "text/latex": [
       "$\\displaystyle m_{D}^{T} M_{D}^{-1} \\mu \\left(M_{D}^{T}\\right)^{-1} m_{D} - m_{D}^{T} M_{D}^{-1} {{m^\\prime_D}} - \\left({{m^\\prime_D}}\\right)^{T} \\left(M_{D}^{T}\\right)^{-1} m_{D}$"
      ],
      "text/plain": [
       "                                            -1                            -1    \n",
       "    T    -1                         T ⎛   T⎞            T    -1     ⎛   T⎞      \n",
       "-m_D ⋅M_D  ⋅{{m_D}}__\\′ -{{m_D}}__\\′ ⋅⎝M_D ⎠  ⋅m_D + m_D ⋅M_D  ⋅\\mu⋅⎝M_D ⎠  ⋅m_D"
      ]
     },
     "execution_count": 499,
     "metadata": {},
     "output_type": "execute_result"
    }
   ],
   "source": [
    "MLRiss_schurD = block_collapse(MLRiss.schur('D', generalized=True)).expand()\n",
    "MLRiss_schurD"
   ]
  },
  {
   "cell_type": "code",
   "execution_count": 512,
   "metadata": {},
   "outputs": [],
   "source": [
    "epsilonL = symbols(r'\\epsilon_L')"
   ]
  },
  {
   "cell_type": "code",
   "execution_count": 513,
   "metadata": {},
   "outputs": [
    {
     "data": {
      "image/png": "[encoded data removed]",
      "text/latex": [
       "$\\displaystyle - \\epsilon_{L} m_{D} + - \\epsilon_{L} m_{D}^{T} + m_{D}^{T} M_{D}^{-1} \\mu \\left(M_{D}^{T}\\right)^{-1} m_{D}$"
      ],
      "text/plain": [
       "                                                        -1    \n",
       "                               T      T    -1     ⎛   T⎞      \n",
       "-\\epsilon_L⋅m_D -\\epsilon_L⋅m_D  + m_D ⋅M_D  ⋅\\mu⋅⎝M_D ⎠  ⋅m_D"
      ]
     },
     "execution_count": 513,
     "metadata": {},
     "output_type": "execute_result"
    }
   ],
   "source": [
    "block_collapse(MLRiss_schurD.replace(mDp,epsilonL*MD))"
   ]
  },
  {
   "cell_type": "code",
   "execution_count": 500,
   "metadata": {},
   "outputs": [],
   "source": [
    "k1, vL, vR = symbols('k_1, v_L, v_R', positive=True)\n",
    "Y = MatrixSymbol('Y', n, n)"
   ]
  },
  {
   "cell_type": "code",
   "execution_count": 501,
   "metadata": {},
   "outputs": [
    {
     "data": {
      "image/png": "[encoded data removed]",
      "text/latex": [
       "$\\displaystyle \\frac{k_{1}^{2}}{v_{R}^{2}} \\mu + - \\frac{\\sqrt{2} k_{1} v_{L}}{v_{R}} Y$"
      ],
      "text/plain": [
       "  2                   \n",
       "k₁       -√2⋅k₁⋅v_L   \n",
       "────⋅\\mu ───────────⋅Y\n",
       "   2         v_R      \n",
       "v_R                   "
      ]
     },
     "execution_count": 501,
     "metadata": {},
     "output_type": "execute_result"
    }
   ],
   "source": [
    "block_collapse(\n",
    "    MLRiss_schurD.replace(mD, k1/sqrt(2)*Y).replace(mDp, vL/sqrt(2)*Y).replace(MD, vR/sqrt(2)*Y)\n",
    ").replace(Y.T, Y).expand()"
   ]
  },
  {
   "cell_type": "code",
   "execution_count": 502,
   "metadata": {},
   "outputs": [
    {
     "data": {
      "image/png": "[encoded data removed]",
      "text/latex": [
       "$\\displaystyle m_{D}^{T} M_{D}^{-1} \\mu \\left(M_{D}^{T}\\right)^{-1} m_{D}$"
      ],
      "text/plain": [
       "                     -1    \n",
       "   T    -1     ⎛   T⎞      \n",
       "m_D ⋅M_D  ⋅\\mu⋅⎝M_D ⎠  ⋅m_D"
      ]
     },
     "execution_count": 502,
     "metadata": {},
     "output_type": "execute_result"
    }
   ],
   "source": [
    "MLRiss_schurD_mDp0 = block_collapse(MLRiss.subs(mDp,Z1).schur('D', generalized=True)).expand()\n",
    "MLRiss_schurD_mDp0"
   ]
  },
  {
   "cell_type": "code",
   "execution_count": 503,
   "metadata": {},
   "outputs": [
    {
     "data": {
      "image/png": "[encoded data removed]",
      "text/latex": [
       "$\\displaystyle \\frac{k_{1}^{2}}{v_{R}^{2}} \\mu$"
      ],
      "text/plain": [
       "  2     \n",
       "k₁      \n",
       "────⋅\\mu\n",
       "   2    \n",
       "v_R     "
      ]
     },
     "execution_count": 503,
     "metadata": {},
     "output_type": "execute_result"
    }
   ],
   "source": [
    "block_collapse(\n",
    "    MLRiss_schurD_mDp0.replace(mD, k1/sqrt(2)*Y).replace(MD, vR/sqrt(2)*Y)\n",
    ").replace(Y.T, Y).expand()"
   ]
  },
  {
   "cell_type": "code",
   "execution_count": null,
   "metadata": {},
   "outputs": [],
   "source": []
  }
 ],
 "metadata": {
  "kernelspec": {
   "display_name": "py311",
   "language": "python",
   "name": "python3"
  },
  "language_info": {
   "codemirror_mode": {
    "name": "ipython",
    "version": 3
   },
   "file_extension": ".py",
   "mimetype": "text/x-python",
   "name": "python",
   "nbconvert_exporter": "python",
   "pygments_lexer": "ipython3",
   "version": "3.11.11"
  }
 },
 "nbformat": 4,
 "nbformat_minor": 2
}
