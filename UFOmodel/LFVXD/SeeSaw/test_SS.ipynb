{
 "cells": [
  {
   "cell_type": "code",
   "execution_count": 3,
   "metadata": {},
   "outputs": [],
   "source": [
    "from Unu_seesaw import MD, mn1, mn2, mn3, mn4, mn5, mn6\n",
    "from Unu_seesaw import mlight, Osc_data\n",
    "from sympy.physics.quantum import Dagger\n",
    "from sympy import sqrt, I, init_printing\n",
    "init_printing()"
   ]
  },
  {
   "cell_type": "code",
   "execution_count": 4,
   "metadata": {},
   "outputs": [
    {
     "data": {
      "image/png": "[encoded data removed]",
      "text/latex": [
       "$\\displaystyle \\left\\{ m_{n3} : \\sqrt{m_{n_1}^{2} + 2.523 \\cdot 10^{-21}}, \\  m_{n_2} : \\sqrt{m_{n_1}^{2} + 7.39 \\cdot 10^{-23}}\\right\\}$"
      ],
      "text/plain": [
       "⎧           ______________________              _____________________⎫\n",
       "⎨          ╱        2                          ╱        2            ⎬\n",
       "⎩m_{n3}: ╲╱  m_{n_1}  + 2.523e-21 , m_{n_2}: ╲╱  m_{n_1}  + 7.39e-23 ⎭"
      ]
     },
     "execution_count": 4,
     "metadata": {},
     "output_type": "execute_result"
    }
   ],
   "source": [
    "mlight"
   ]
  },
  {
   "cell_type": "markdown",
   "metadata": {},
   "source": [
    "# Heavy neutrino degenerate"
   ]
  },
  {
   "cell_type": "code",
   "execution_count": 5,
   "metadata": {},
   "outputs": [],
   "source": [
    "mN_deg = {mn4:mn6, mn5:mn6}"
   ]
  },
  {
   "cell_type": "code",
   "execution_count": 6,
   "metadata": {},
   "outputs": [
    {
     "data": {
      "image/png": "[encoded data removed]",
      "text/latex": [
       "$\\displaystyle \\left[\\begin{matrix}i \\sqrt{m_{n_1}} \\sqrt{m_{n_4}} \\cos{\\left(\\theta_{12} \\right)} \\cos{\\left(\\theta_{13} \\right)} & i \\sqrt{m_{n_2}} \\sqrt{m_{n_5}} \\sin{\\left(\\theta_{12} \\right)} \\cos{\\left(\\theta_{13} \\right)} & i \\sqrt{m_{n3}} \\sqrt{m_{n_6}} \\sin{\\left(\\theta_{13} \\right)}\\\\i \\sqrt{m_{n_1}} \\sqrt{m_{n_4}} \\left(- \\sin{\\left(\\theta_{12} \\right)} \\cos{\\left(\\theta_{23} \\right)} - \\sin{\\left(\\theta_{13} \\right)} \\sin{\\left(\\theta_{23} \\right)} \\cos{\\left(\\theta_{12} \\right)}\\right) & i \\sqrt{m_{n_2}} \\sqrt{m_{n_5}} \\left(- \\sin{\\left(\\theta_{12} \\right)} \\sin{\\left(\\theta_{13} \\right)} \\sin{\\left(\\theta_{23} \\right)} + \\cos{\\left(\\theta_{12} \\right)} \\cos{\\left(\\theta_{23} \\right)}\\right) & i \\sqrt{m_{n3}} \\sqrt{m_{n_6}} \\sin{\\left(\\theta_{23} \\right)} \\cos{\\left(\\theta_{13} \\right)}\\\\i \\sqrt{m_{n_1}} \\sqrt{m_{n_4}} \\left(\\sin{\\left(\\theta_{12} \\right)} \\sin{\\left(\\theta_{23} \\right)} - \\sin{\\left(\\theta_{13} \\right)} \\cos{\\left(\\theta_{12} \\right)} \\cos{\\left(\\theta_{23} \\right)}\\right) & i \\sqrt{m_{n_2}} \\sqrt{m_{n_5}} \\left(- \\sin{\\left(\\theta_{12} \\right)} \\sin{\\left(\\theta_{13} \\right)} \\cos{\\left(\\theta_{23} \\right)} - \\sin{\\left(\\theta_{23} \\right)} \\cos{\\left(\\theta_{12} \\right)}\\right) & i \\sqrt{m_{n3}} \\sqrt{m_{n_6}} \\cos{\\left(\\theta_{13} \\right)} \\cos{\\left(\\theta_{23} \\right)}\\end{matrix}\\right]$"
      ],
      "text/plain": [
       "⎡                                _________   _________                        \n",
       "⎢                            ⅈ⋅╲╱ m_{n_1} ⋅╲╱ m_{n_4} ⋅cos(\\theta_{12})⋅cos(\\t\n",
       "⎢                                                                             \n",
       "⎢    _________   _________                                                    \n",
       "⎢ⅈ⋅╲╱ m_{n_1} ⋅╲╱ m_{n_4} ⋅(-sin(\\theta_{12})⋅cos(\\theta_{23}) - sin(\\theta_{1\n",
       "⎢                                                                             \n",
       "⎢    _________   _________                                                    \n",
       "⎣ⅈ⋅╲╱ m_{n_1} ⋅╲╱ m_{n_4} ⋅(sin(\\theta_{12})⋅sin(\\theta_{23}) - sin(\\theta_{13\n",
       "\n",
       "                                                                        ______\n",
       "heta_{13})                                                          ⅈ⋅╲╱ m_{n_\n",
       "                                                                              \n",
       "                                            _________   _________             \n",
       "3})⋅sin(\\theta_{23})⋅cos(\\theta_{12}))  ⅈ⋅╲╱ m_{n_2} ⋅╲╱ m_{n_5} ⋅(-sin(\\theta\n",
       "                                                                              \n",
       "                                            _________   _________             \n",
       "})⋅cos(\\theta_{12})⋅cos(\\theta_{23}))   ⅈ⋅╲╱ m_{n_2} ⋅╲╱ m_{n_5} ⋅(-sin(\\theta\n",
       "\n",
       "___   _________                                                               \n",
       "2} ⋅╲╱ m_{n_5} ⋅sin(\\theta_{12})⋅cos(\\theta_{13})                             \n",
       "                                                                              \n",
       "                                                                              \n",
       "_{12})⋅sin(\\theta_{13})⋅sin(\\theta_{23}) + cos(\\theta_{12})⋅cos(\\theta_{23})) \n",
       "                                                                              \n",
       "                                                                              \n",
       "_{12})⋅sin(\\theta_{13})⋅cos(\\theta_{23}) - sin(\\theta_{23})⋅cos(\\theta_{12})) \n",
       "\n",
       "             ________   _________                          ⎤\n",
       "         ⅈ⋅╲╱ m_{n3} ⋅╲╱ m_{n_6} ⋅sin(\\theta_{13})         ⎥\n",
       "                                                           ⎥\n",
       "     ________   _________                                  ⎥\n",
       " ⅈ⋅╲╱ m_{n3} ⋅╲╱ m_{n_6} ⋅sin(\\theta_{23})⋅cos(\\theta_{13})⎥\n",
       "                                                           ⎥\n",
       "     ________   _________                                  ⎥\n",
       " ⅈ⋅╲╱ m_{n3} ⋅╲╱ m_{n_6} ⋅cos(\\theta_{13})⋅cos(\\theta_{23})⎦"
      ]
     },
     "execution_count": 6,
     "metadata": {},
     "output_type": "execute_result"
    }
   ],
   "source": [
    "MD"
   ]
  },
  {
   "cell_type": "code",
   "execution_count": 9,
   "metadata": {},
   "outputs": [],
   "source": [
    "mn1_val = 1e-12\n",
    "def diferencias_eigenvals_masas(MN):\n",
    "    MD1 = MD.subs(mN_deg).subs(mlight).subs(Osc_data).subs(mn1, mn1_val).subs(mn6, MN).n()\n",
    "    md1 = list((MD1).eigenvals().keys())\n",
    "    #md1\n",
    "    display(1*(md1[0]- mn1_val))\n",
    "    display(1*(md1[1]- mlight[mn2].subs(mn1, mn1_val)))\n",
    "    display(1*(md1[2]- mlight[mn3].subs(mn1, mn1_val)))\n",
    "\n",
    "def diferencias_eigenvals_masas2(MN):\n",
    "    MD1 = I*MD.subs(mN_deg).subs(mlight).subs(Osc_data).subs(mn1, mn1_val).subs(mn6, MN).n()\n",
    "    MD1_dagger = Dagger(MD1)\n",
    "    md1 = list((MD1*MD1_dagger).eigenvals().keys())\n",
    "    #md1\n",
    "    display(1*(sqrt(md1[0]).n() , mn1_val))\n",
    "    display(1*(sqrt(md1[1]).n() , mlight[mn2].subs(mn1, mn1_val)))\n",
    "    display(1*(sqrt(md1[2]).n() , mlight[mn3].subs(mn1, mn1_val)))"
   ]
  },
  {
   "cell_type": "code",
   "execution_count": 11,
   "metadata": {},
   "outputs": [
    {
     "data": {
      "image/png": "[encoded data removed]",
      "text/latex": [
       "$\\displaystyle -0.0846117052773201 + 0.0870825262659057 i$"
      ],
      "text/plain": [
       "-0.0846117052773201 + 0.0870825262659057⋅ⅈ"
      ]
     },
     "metadata": {},
     "output_type": "display_data"
    },
    {
     "data": {
      "image/png": "[encoded data removed]",
      "text/latex": [
       "$\\displaystyle -8.65447860936752 \\cdot 10^{-12} + 0.0447271728603093 i$"
      ],
      "text/plain": [
       "-8.65447860936752e-12 + 0.0447271728603093⋅ⅈ"
      ]
     },
     "metadata": {},
     "output_type": "display_data"
    },
    {
     "data": {
      "image/png": "[encoded data removed]",
      "text/latex": [
       "$\\displaystyle 0.0846117052260807 + 0.0870825262659057 i$"
      ],
      "text/plain": [
       "0.0846117052260807 + 0.0870825262659057⋅ⅈ"
      ]
     },
     "metadata": {},
     "output_type": "display_data"
    },
    {
     "data": {
      "image/png": "[encoded data removed]",
      "text/latex": [
       "$\\displaystyle \\left( 0.224141532849943, \\  1.0 \\cdot 10^{-12}\\right)$"
      ],
      "text/plain": [
       "(0.224141532849943, 1e-12)"
      ]
     },
     "metadata": {},
     "output_type": "display_data"
    },
    {
     "data": {
      "image/png": "[encoded data removed]",
      "text/latex": [
       "$\\displaystyle \\left( 0.0316227766016838, \\  8.65447860936752 \\cdot 10^{-12}\\right)$"
      ],
      "text/plain": [
       "(0.0316227766016838, 8.65447860936752e-12)"
      ]
     },
     "metadata": {},
     "output_type": "display_data"
    },
    {
     "data": {
      "image/png": "[encoded data removed]",
      "text/latex": [
       "$\\displaystyle \\left( 0.0930294502260844, \\  5.02394267483219 \\cdot 10^{-11}\\right)$"
      ],
      "text/plain": [
       "(0.0930294502260844, 5.02394267483219e-11)"
      ]
     },
     "metadata": {},
     "output_type": "display_data"
    }
   ],
   "source": [
    "diferencias_eigenvals_masas(1e9)\n",
    "diferencias_eigenvals_masas2(1e9)"
   ]
  },
  {
   "cell_type": "code",
   "execution_count": 57,
   "metadata": {},
   "outputs": [
    {
     "data": {
      "text/latex": [
       "$\\displaystyle -9.99686200772129 \\cdot 10^{-13} + 40.2820899109278 i$"
      ],
      "text/plain": [
       "-9.99686200772129e-13 + 40.2820899109278*I"
      ]
     },
     "metadata": {},
     "output_type": "display_data"
    },
    {
     "data": {
      "text/latex": [
       "$\\displaystyle 9.99999999998635 + 7.29189623649666 \\cdot 10^{-16} i$"
      ],
      "text/plain": [
       "9.99999999998635 + 7.29189623649666e-16*I"
      ]
     },
     "metadata": {},
     "output_type": "display_data"
    },
    {
     "data": {
      "text/latex": [
       "$\\displaystyle 9.99999999969856 + 3.92274243629439 \\cdot 10^{-15} i$"
      ],
      "text/plain": [
       "9.99999999969856 + 3.92274243629439e-15*I"
      ]
     },
     "metadata": {},
     "output_type": "display_data"
    },
    {
     "data": {
      "text/latex": [
       "$\\displaystyle 40.2820899109268 + 1.0 \\cdot 10^{-69} i$"
      ],
      "text/plain": [
       "40.2820899109268 + 0.e-69*I"
      ]
     },
     "metadata": {},
     "output_type": "display_data"
    },
    {
     "data": {
      "text/latex": [
       "$\\displaystyle 9.99999999998635 + 5.0 \\cdot 10^{-69} i$"
      ],
      "text/plain": [
       "9.99999999998635 + 0.e-69*I"
      ]
     },
     "metadata": {},
     "output_type": "display_data"
    },
    {
     "data": {
      "text/latex": [
       "$\\displaystyle 9.99999999969856 - 2.0 \\cdot 10^{-68} i$"
      ],
      "text/plain": [
       "9.99999999969856 - 0.e-68*I"
      ]
     },
     "metadata": {},
     "output_type": "display_data"
    }
   ],
   "source": [
    "diferencias_eigenvals_masas(100)\n",
    "diferencias_eigenvals_masas2(100)"
   ]
  },
  {
   "cell_type": "code",
   "execution_count": 58,
   "metadata": {},
   "outputs": [
    {
     "data": {
      "text/latex": [
       "$\\displaystyle -1.01186057211874 \\cdot 10^{-12} + 4149.27315031449 i$"
      ],
      "text/plain": [
       "-1.01186057211874e-12 + 4149.27315031449*I"
      ]
     },
     "metadata": {},
     "output_type": "display_data"
    },
    {
     "data": {
      "text/latex": [
       "$\\displaystyle 99.9999999999414 + 4.86274652526825 \\cdot 10^{-14} i$"
      ],
      "text/plain": [
       "99.9999999999414 + 4.86274652526825e-14*I"
      ]
     },
     "metadata": {},
     "output_type": "display_data"
    },
    {
     "data": {
      "text/latex": [
       "$\\displaystyle 99.9999999974378 + 3.0442490597654 \\cdot 10^{-13} i$"
      ],
      "text/plain": [
       "99.9999999974378 + 3.0442490597654e-13*I"
      ]
     },
     "metadata": {},
     "output_type": "display_data"
    },
    {
     "data": {
      "text/latex": [
       "$\\displaystyle 4149.27315031448 - 2.0 \\cdot 10^{-66} i$"
      ],
      "text/plain": [
       "4149.27315031448 - 0.e-66*I"
      ]
     },
     "metadata": {},
     "output_type": "display_data"
    },
    {
     "data": {
      "text/latex": [
       "$\\displaystyle 99.9999999999415 + 4.0 \\cdot 10^{-65} i$"
      ],
      "text/plain": [
       "99.9999999999415 + 0.e-65*I"
      ]
     },
     "metadata": {},
     "output_type": "display_data"
    },
    {
     "data": {
      "text/latex": [
       "$\\displaystyle 99.9999999974355 - 2.0 \\cdot 10^{-65} i$"
      ],
      "text/plain": [
       "99.9999999974355 - 0.e-65*I"
      ]
     },
     "metadata": {},
     "output_type": "display_data"
    }
   ],
   "source": [
    "diferencias_eigenvals_masas(10000)\n",
    "diferencias_eigenvals_masas2(10000)"
   ]
  },
  {
   "cell_type": "code",
   "execution_count": 14,
   "metadata": {},
   "outputs": [],
   "source": [
    "from Unu_seesaw import diagonalizationMnu, Nudata\n",
    "from mpmath import sqrt, \n",
    "d21 = Nudata.squareDm21.central*1e-18\n",
    "d31 = Nudata.squareDm31.central*1e-18"
   ]
  },
  {
   "cell_type": "code",
   "execution_count": 18,
   "metadata": {},
   "outputs": [
    {
     "data": {
      "text/plain": [
       "[mpc(real='9.412504961513101e-13', imag='0.0'),\n",
       " mpc(real='8.7025882072206189e-12', imag='0.0'),\n",
       " mpc(real='5.0239426748324403e-11', imag='0.0'),\n",
       " mpc(real='999.99999999994975', imag='0.0'),\n",
       " mpc(real='999.99999999999136', imag='0.0'),\n",
       " mpc(real='999.99999999999795', imag='0.0')]"
      ]
     },
     "execution_count": 18,
     "metadata": {},
     "output_type": "execute_result"
    }
   ],
   "source": [
    "MN = 1000\n",
    "mn2_val, mn3_val = sqrt(mn1_val**2 + d21),sqrt(mn1_val**2 + d31)\n",
    "mni, UL, UR = diagonalizationMnu(mn1_val, mn2_val, mn3_val, MN, MN, MN)\n",
    "mni"
   ]
  },
  {
   "cell_type": "code",
   "execution_count": 23,
   "metadata": {},
   "outputs": [
    {
     "name": "stdout",
     "output_type": "stream",
     "text": [
      "True\n",
      "True\n",
      "True\n"
     ]
    }
   ],
   "source": [
    "eps = 1e-5\n",
    "print(abs(mni[0]- mn1_val) < eps)\n",
    "print(abs(mni[1]- mn2_val) < eps)\n",
    "print(abs(mni[2]- mn3_val) < eps)"
   ]
  },
  {
   "cell_type": "code",
   "execution_count": null,
   "metadata": {},
   "outputs": [],
   "source": []
  }
 ],
 "metadata": {
  "kernelspec": {
   "display_name": "py37",
   "language": "python",
   "name": "python3"
  },
  "language_info": {
   "codemirror_mode": {
    "name": "ipython",
    "version": 3
   },
   "file_extension": ".py",
   "mimetype": "text/x-python",
   "name": "python",
   "nbconvert_exporter": "python",
   "pygments_lexer": "ipython3",
   "version": "3.7.12"
  }
 },
 "nbformat": 4,
 "nbformat_minor": 2
}
