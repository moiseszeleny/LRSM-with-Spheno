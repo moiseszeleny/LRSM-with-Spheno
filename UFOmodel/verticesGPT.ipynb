{
 "cells": [
  {
   "cell_type": "markdown",
   "metadata": {},
   "source": [
    "In this notebook we investigate the vertexes needed to LFVZD in the MLRSM using the UFO model of [Roitgrund2016](https://www.sciencedirect.com/science/article/pii/S0010465515004476?via%3Dihub)"
   ]
  },
  {
   "cell_type": "code",
   "execution_count": 1,
   "metadata": {},
   "outputs": [],
   "source": [
    "#import sys\n",
    "#sys.path.append('C:/Users/moise/OneDrive/Escritorio/LRSM-with-Spheno/UFOmodel/MLRSM_UFO')"
   ]
  },
  {
   "cell_type": "code",
   "execution_count": 2,
   "metadata": {},
   "outputs": [],
   "source": [
    "from UFOexplorerSympy2 import UFOModelExplorer, ProjM, ProjP"
   ]
  },
  {
   "cell_type": "code",
   "execution_count": 3,
   "metadata": {},
   "outputs": [
    {
     "name": "stdout",
     "output_type": "stream",
     "text": [
      "\n",
      "Loading particles from C:/Users/moise/OneDrive/Escritorio/LRSM-with-Spheno/UFOmodel/MLRSM_UFO_neutrino_mix\\particles.py...\n",
      "Namespace keys after executing C:/Users/moise/OneDrive/Escritorio/LRSM-with-Spheno/UFOmodel/MLRSM_UFO_neutrino_mix\\particles.py: ['__builtins__', 'division', 'all_particles', 'Particle', 'Param', 'Prop', 'a', 'Z', 'W__plus__', 'W__minus__', 'g', 'W2__plus__', 'W2__minus__', 'Z2', 'ghG', 'ghG__tilde__', 'e__minus__', 'e__plus__', 'mu__minus__', 'mu__plus__', 'ta__minus__', 'ta__plus__', 'u', 'u__tilde__', 'c', 'c__tilde__', 't', 't__tilde__', 'd', 'd__tilde__', 's', 's__tilde__', 'b', 'b__tilde__', 'N1', 'N2', 'N3', 'N4', 'N5', 'N6', 'H', 'H01', 'H02', 'H03', 'G01', 'G02', 'GL__plus__', 'GL__minus__', 'GR__plus__', 'GR__minus__', 'HP1', 'HM1', 'HP2', 'HM2', 'HL__plus____plus__', 'HL__minus____minus__', 'HR__plus____plus__', 'HR__minus____minus__', 'A01', 'A02']\n",
      "Namespace contents after executing C:/Users/moise/OneDrive/Escritorio/LRSM-with-Spheno/UFOmodel/MLRSM_UFO_neutrino_mix\\particles.py: {'__builtins__': {'__name__': 'builtins', '__doc__': \"Built-in functions, exceptions, and other objects.\\n\\nNoteworthy: None is the `nil' object; Ellipsis represents `...' in slices.\", '__package__': '', '__loader__': <class '_frozen_importlib.BuiltinImporter'>, '__spec__': ModuleSpec(name='builtins', loader=<class '_frozen_importlib.BuiltinImporter'>, origin='built-in'), '__build_class__': <built-in function __build_class__>, '__import__': <built-in function __import__>, 'abs': <built-in function abs>, 'all': <built-in function all>, 'any': <built-in function any>, 'ascii': <built-in function ascii>, 'bin': <built-in function bin>, 'breakpoint': <built-in function breakpoint>, 'callable': <built-in function callable>, 'chr': <built-in function chr>, 'compile': <built-in function compile>, 'delattr': <built-in function delattr>, 'dir': <built-in function dir>, 'divmod': <built-in function divmod>, 'eval': <built-in function eval>, 'exec': <built-in function exec>, 'format': <built-in function format>, 'getattr': <built-in function getattr>, 'globals': <built-in function globals>, 'hasattr': <built-in function hasattr>, 'hash': <built-in function hash>, 'hex': <built-in function hex>, 'id': <built-in function id>, 'input': <bound method Kernel.raw_input of <ipykernel.ipkernel.IPythonKernel object at 0x000001D03ED69090>>, 'isinstance': <built-in function isinstance>, 'issubclass': <built-in function issubclass>, 'iter': <built-in function iter>, 'aiter': <built-in function aiter>, 'len': <built-in function len>, 'locals': <built-in function locals>, 'max': <built-in function max>, 'min': <built-in function min>, 'next': <built-in function next>, 'anext': <built-in function anext>, 'oct': <built-in function oct>, 'ord': <built-in function ord>, 'pow': <built-in function pow>, 'print': <built-in function print>, 'repr': <built-in function repr>, 'round': <built-in function round>, 'setattr': <built-in function setattr>, 'sorted': <built-in function sorted>, 'sum': <built-in function sum>, 'vars': <built-in function vars>, 'None': None, 'Ellipsis': Ellipsis, 'NotImplemented': NotImplemented, 'False': False, 'True': True, 'bool': <class 'bool'>, 'memoryview': <class 'memoryview'>, 'bytearray': <class 'bytearray'>, 'bytes': <class 'bytes'>, 'classmethod': <class 'classmethod'>, 'complex': <class 'complex'>, 'dict': <class 'dict'>, 'enumerate': <class 'enumerate'>, 'filter': <class 'filter'>, 'float': <class 'float'>, 'frozenset': <class 'frozenset'>, 'property': <class 'property'>, 'int': <class 'int'>, 'list': <class 'list'>, 'map': <class 'map'>, 'object': <class 'object'>, 'range': <class 'range'>, 'reversed': <class 'reversed'>, 'set': <class 'set'>, 'slice': <class 'slice'>, 'staticmethod': <class 'staticmethod'>, 'str': <class 'str'>, 'super': <class 'super'>, 'tuple': <class 'tuple'>, 'type': <class 'type'>, 'zip': <class 'zip'>, '__debug__': True, 'BaseException': <class 'BaseException'>, 'BaseExceptionGroup': <class 'BaseExceptionGroup'>, 'Exception': <class 'Exception'>, 'GeneratorExit': <class 'GeneratorExit'>, 'KeyboardInterrupt': <class 'KeyboardInterrupt'>, 'SystemExit': <class 'SystemExit'>, 'ArithmeticError': <class 'ArithmeticError'>, 'AssertionError': <class 'AssertionError'>, 'AttributeError': <class 'AttributeError'>, 'BufferError': <class 'BufferError'>, 'EOFError': <class 'EOFError'>, 'ImportError': <class 'ImportError'>, 'LookupError': <class 'LookupError'>, 'MemoryError': <class 'MemoryError'>, 'NameError': <class 'NameError'>, 'OSError': <class 'OSError'>, 'ReferenceError': <class 'ReferenceError'>, 'RuntimeError': <class 'RuntimeError'>, 'StopAsyncIteration': <class 'StopAsyncIteration'>, 'StopIteration': <class 'StopIteration'>, 'SyntaxError': <class 'SyntaxError'>, 'SystemError': <class 'SystemError'>, 'TypeError': <class 'TypeError'>, 'ValueError': <class 'ValueError'>, 'Warning': <class 'Warning'>, 'FloatingPointError': <class 'FloatingPointError'>, 'OverflowError': <class 'OverflowError'>, 'ZeroDivisionError': <class 'ZeroDivisionError'>, 'BytesWarning': <class 'BytesWarning'>, 'DeprecationWarning': <class 'DeprecationWarning'>, 'EncodingWarning': <class 'EncodingWarning'>, 'FutureWarning': <class 'FutureWarning'>, 'ImportWarning': <class 'ImportWarning'>, 'PendingDeprecationWarning': <class 'PendingDeprecationWarning'>, 'ResourceWarning': <class 'ResourceWarning'>, 'RuntimeWarning': <class 'RuntimeWarning'>, 'SyntaxWarning': <class 'SyntaxWarning'>, 'UnicodeWarning': <class 'UnicodeWarning'>, 'UserWarning': <class 'UserWarning'>, 'BlockingIOError': <class 'BlockingIOError'>, 'ChildProcessError': <class 'ChildProcessError'>, 'ConnectionError': <class 'ConnectionError'>, 'FileExistsError': <class 'FileExistsError'>, 'FileNotFoundError': <class 'FileNotFoundError'>, 'InterruptedError': <class 'InterruptedError'>, 'IsADirectoryError': <class 'IsADirectoryError'>, 'NotADirectoryError': <class 'NotADirectoryError'>, 'PermissionError': <class 'PermissionError'>, 'ProcessLookupError': <class 'ProcessLookupError'>, 'TimeoutError': <class 'TimeoutError'>, 'IndentationError': <class 'IndentationError'>, 'IndexError': <class 'IndexError'>, 'KeyError': <class 'KeyError'>, 'ModuleNotFoundError': <class 'ModuleNotFoundError'>, 'NotImplementedError': <class 'NotImplementedError'>, 'RecursionError': <class 'RecursionError'>, 'UnboundLocalError': <class 'UnboundLocalError'>, 'UnicodeError': <class 'UnicodeError'>, 'BrokenPipeError': <class 'BrokenPipeError'>, 'ConnectionAbortedError': <class 'ConnectionAbortedError'>, 'ConnectionRefusedError': <class 'ConnectionRefusedError'>, 'ConnectionResetError': <class 'ConnectionResetError'>, 'TabError': <class 'TabError'>, 'UnicodeDecodeError': <class 'UnicodeDecodeError'>, 'UnicodeEncodeError': <class 'UnicodeEncodeError'>, 'UnicodeTranslateError': <class 'UnicodeTranslateError'>, 'ExceptionGroup': <class 'ExceptionGroup'>, 'EnvironmentError': <class 'OSError'>, 'IOError': <class 'OSError'>, 'WindowsError': <class 'OSError'>, 'open': <built-in function open>, 'copyright': Copyright (c) 2001-2022 Python Software Foundation.\n",
      "All Rights Reserved.\n",
      "\n",
      "Copyright (c) 2000 BeOpen.com.\n",
      "All Rights Reserved.\n",
      "\n",
      "Copyright (c) 1995-2001 Corporation for National Research Initiatives.\n",
      "All Rights Reserved.\n",
      "\n",
      "Copyright (c) 1991-1995 Stichting Mathematisch Centrum, Amsterdam.\n",
      "All Rights Reserved., 'credits':     Thanks to CWI, CNRI, BeOpen.com, Zope Corporation and a cast of thousands\n",
      "    for supporting Python development.  See www.python.org for more information., 'license': See https://www.python.org/psf/license/, 'help': Type help() for interactive help, or help(object) for help about object., 'execfile': <function execfile at 0x000001D03EE86C00>, 'runfile': <function runfile at 0x000001D03FF5E340>, '__IPYTHON__': True, 'display': <function display at 0x000001D03D5A2E80>, 'get_ipython': <bound method InteractiveShell.get_ipython of <ipykernel.zmqshell.ZMQInteractiveShell object at 0x000001D040228FD0>>}, 'division': _Feature((2, 2, 0, 'alpha', 2), (3, 0, 0, 'alpha', 0), 131072), 'all_particles': [a, Z, W__plus__, W__minus__, g, W2__plus__, W2__minus__, Z2, ghG, ghG__tilde__, e__minus__, e__plus__, mu__minus__, mu__plus__, ta__minus__, ta__plus__, u, u__tilde__, c, c__tilde__, t, t__tilde__, d, d__tilde__, s, s__tilde__, b, b__tilde__, N1, N2, N3, N4, N5, N6, H, H01, H02, H03, G01, G02, GL__plus__, GL__minus__, GR__plus__, GR__minus__, HP1, HM1, HP2, HM2, HL__plus____plus__, HL__minus____minus__, HR__plus____plus__, HR__minus____minus__, A01, A02], 'Particle': <class 'object_library.Particle'>, 'Param': <module 'parameters' from 'C:\\\\Users/moise/OneDrive/Escritorio/LRSM-with-Spheno/UFOmodel/MLRSM_UFO_neutrino_mix\\\\parameters.py'>, 'Prop': <module 'propagators' from 'C:\\\\Users/moise/OneDrive/Escritorio/LRSM-with-Spheno/UFOmodel/MLRSM_UFO_neutrino_mix\\\\propagators.py'>, 'a': a, 'Z': Z, 'W__plus__': W__plus__, 'W__minus__': W__minus__, 'g': g, 'W2__plus__': W2__plus__, 'W2__minus__': W2__minus__, 'Z2': Z2, 'ghG': ghG, 'ghG__tilde__': ghG__tilde__, 'e__minus__': e__minus__, 'e__plus__': e__plus__, 'mu__minus__': mu__minus__, 'mu__plus__': mu__plus__, 'ta__minus__': ta__minus__, 'ta__plus__': ta__plus__, 'u': u, 'u__tilde__': u__tilde__, 'c': c, 'c__tilde__': c__tilde__, 't': t, 't__tilde__': t__tilde__, 'd': d, 'd__tilde__': d__tilde__, 's': s, 's__tilde__': s__tilde__, 'b': b, 'b__tilde__': b__tilde__, 'N1': N1, 'N2': N2, 'N3': N3, 'N4': N4, 'N5': N5, 'N6': N6, 'H': H, 'H01': H01, 'H02': H02, 'H03': H03, 'G01': G01, 'G02': G02, 'GL__plus__': GL__plus__, 'GL__minus__': GL__minus__, 'GR__plus__': GR__plus__, 'GR__minus__': GR__minus__, 'HP1': HP1, 'HM1': HM1, 'HP2': HP2, 'HM2': HM2, 'HL__plus____plus__': HL__plus____plus__, 'HL__minus____minus__': HL__minus____minus__, 'HR__plus____plus__': HR__plus____plus__, 'HR__minus____minus__': HR__minus____minus__, 'A01': A01, 'A02': A02}\n",
      "Loaded 54 objects for particles.\n",
      "Objects in all_particles: [a, Z, W__plus__, W__minus__, g, W2__plus__, W2__minus__, Z2, ghG, ghG__tilde__, e__minus__, e__plus__, mu__minus__, mu__plus__, ta__minus__, ta__plus__, u, u__tilde__, c, c__tilde__, t, t__tilde__, d, d__tilde__, s, s__tilde__, b, b__tilde__, N1, N2, N3, N4, N5, N6, H, H01, H02, H03, G01, G02, GL__plus__, GL__minus__, GR__plus__, GR__minus__, HP1, HM1, HP2, HM2, HL__plus____plus__, HL__minus____minus__, HR__plus____plus__, HR__minus____minus__, A01, A02]\n",
      "\n",
      "Loading parameters from C:/Users/moise/OneDrive/Escritorio/LRSM-with-Spheno/UFOmodel/MLRSM_UFO_neutrino_mix\\parameters.py...\n",
      "Namespace keys after executing C:/Users/moise/OneDrive/Escritorio/LRSM-with-Spheno/UFOmodel/MLRSM_UFO_neutrino_mix\\parameters.py: ['__builtins__', 'all_parameters', 'Parameter', 'complexconjugate', 're', 'im', 'csc', 'sec', 'acsc', 'asec', 'cot', 'ZERO', 's12', 's23', 's13', 'lambda1', 'lambda2', 'lambda3', 'lambda4', 'rho1', 'rho2', 'rho3', 'rho4', 'alpha1', 'alpha2', 'alpha3', 'VR63', 'Wl11', 'Wl22', 'Wl33', 'WU11', 'WU22', 'WU33', 'WD11', 'WD22', 'WD33', 'aEWM1', 'Gf', 'aS', 'k1', 'vR', 'vL', 'MZ', 'MW', 'Me', 'Mmu', 'Mta', 'MU', 'MC', 'MT', 'MD', 'MS', 'MB', 'MN1', 'MN2', 'MN3', 'MN4', 'MN5', 'MN6', 'WZ', 'WW', 'WW2', 'WZ2', 'WT', 'WN4', 'WN5', 'WN6', 'WH', 'WH01', 'WH02', 'WH03', 'WHP1', 'WHP2', 'WHPPL', 'WHPPR', 'WA01', 'WA02', 'aEW', 'sw2', 'cw', 'gs', 'vev', 'MH02', 'MH03', 'MA02', 'yML1x1', 'yML2x2', 'yML3x3', 'yNL1x1', 'yNL2x2', 'yNL3x3', 'yNL4x4', 'yNL5x5', 'yNL6x6', 'yMU1x1', 'yMU2x2', 'yMU3x3', 'yDO1x1', 'yDO2x2', 'yDO3x3', 'CKML1x1', 'CKML1x2', 'CKML1x3', 'CKML2x1', 'CKML2x2', 'CKML2x3', 'CKML3x1', 'CKML3x2', 'CKML3x3', 'Wl1x1', 'Wl2x2', 'Wl3x3', 'WU1x1', 'WU2x2', 'WU3x3', 'WD1x1', 'WD2x2', 'WD3x3', 'KL1x1', 'KL1x2', 'KL1x3', 'KL2x1', 'KL2x2', 'KL2x3', 'KL3x1', 'KL3x2', 'KL3x3', 'KL4x1', 'KL4x2', 'KL4x3', 'KL5x1', 'KL5x2', 'KL5x3', 'KL6x1', 'KL6x2', 'KL6x3', 'KR1x1', 'KR1x2', 'KR1x3', 'KR2x1', 'KR2x2', 'KR2x3', 'KR3x1', 'KR3x2', 'KR3x3', 'KR4x1', 'KR4x2', 'KR4x3', 'KR5x1', 'KR5x2', 'KR5x3', 'KR6x1', 'KR6x2', 'KR6x3', 'CKMR1x1', 'CKMR1x2', 'CKMR1x3', 'CKMR2x1', 'CKMR2x2', 'CKMR2x3', 'CKMR3x1', 'CKMR3x2', 'CKMR3x3', 'sw', 'ee', 'k2', 'eps', 'sphi', 'sxi', 'g1', 'gw', 'cphi', 'cxi', 'MA01', 'MH', 'MH01', 'MHP1', 'MHP2', 'MHPPL', 'MHPPR', 'MW2', 'MZ2', 'I1a11', 'I1a12', 'I1a13', 'I1a21', 'I1a22', 'I1a23', 'I1a31', 'I1a32', 'I1a33', 'I10a11', 'I10a12', 'I10a13', 'I10a21', 'I10a22', 'I10a23', 'I10a31', 'I10a32', 'I10a33', 'I11a11', 'I11a12', 'I11a13', 'I11a21', 'I11a22', 'I11a23', 'I11a31', 'I11a32', 'I11a33', 'I12a11', 'I12a12', 'I12a13', 'I12a21', 'I12a22', 'I12a23', 'I12a31', 'I12a32', 'I12a33', 'I13a11', 'I13a12', 'I13a13', 'I13a14', 'I13a15', 'I13a16', 'I13a21', 'I13a22', 'I13a23', 'I13a24', 'I13a25', 'I13a26', 'I13a31', 'I13a32', 'I13a33', 'I13a34', 'I13a35', 'I13a36', 'I13a41', 'I13a42', 'I13a43', 'I13a44', 'I13a45', 'I13a46', 'I13a51', 'I13a52', 'I13a53', 'I13a54', 'I13a55', 'I13a56', 'I13a61', 'I13a62', 'I13a63', 'I13a64', 'I13a65', 'I13a66', 'I14a11', 'I14a12', 'I14a13', 'I14a14', 'I14a15', 'I14a16', 'I14a21', 'I14a22', 'I14a23', 'I14a24', 'I14a25', 'I14a26', 'I14a31', 'I14a32', 'I14a33', 'I14a34', 'I14a35', 'I14a36', 'I14a41', 'I14a42', 'I14a43', 'I14a44', 'I14a45', 'I14a46', 'I14a51', 'I14a52', 'I14a53', 'I14a54', 'I14a55', 'I14a56', 'I14a61', 'I14a62', 'I14a63', 'I14a64', 'I14a65', 'I14a66', 'I15a11', 'I15a12', 'I15a13', 'I15a14', 'I15a15', 'I15a16', 'I15a21', 'I15a22', 'I15a23', 'I15a24', 'I15a25', 'I15a26', 'I15a31', 'I15a32', 'I15a33', 'I15a34', 'I15a35', 'I15a36', 'I15a41', 'I15a42', 'I15a43', 'I15a44', 'I15a45', 'I15a46', 'I15a51', 'I15a52', 'I15a53', 'I15a54', 'I15a55', 'I15a56', 'I15a61', 'I15a62', 'I15a63', 'I15a64', 'I15a65', 'I15a66', 'I16a11', 'I16a12', 'I16a13', 'I16a14', 'I16a15', 'I16a16', 'I16a21', 'I16a22', 'I16a23', 'I16a24', 'I16a25', 'I16a26', 'I16a31', 'I16a32', 'I16a33', 'I16a34', 'I16a35', 'I16a36', 'I16a41', 'I16a42', 'I16a43', 'I16a44', 'I16a45', 'I16a46', 'I16a51', 'I16a52', 'I16a53', 'I16a54', 'I16a55', 'I16a56', 'I16a61', 'I16a62', 'I16a63', 'I16a64', 'I16a65', 'I16a66', 'I17a11', 'I17a12', 'I17a13', 'I17a14', 'I17a15', 'I17a16', 'I17a21', 'I17a22', 'I17a23', 'I17a24', 'I17a25', 'I17a26', 'I17a31', 'I17a32', 'I17a33', 'I17a34', 'I17a35', 'I17a36', 'I17a41', 'I17a42', 'I17a43', 'I17a44', 'I17a45', 'I17a46', 'I17a51', 'I17a52', 'I17a53', 'I17a54', 'I17a55', 'I17a56', 'I17a61', 'I17a62', 'I17a63', 'I17a64', 'I17a65', 'I17a66', 'I18a11', 'I18a12', 'I18a13', 'I18a14', 'I18a15', 'I18a16', 'I18a21', 'I18a22', 'I18a23', 'I18a24', 'I18a25', 'I18a26', 'I18a31', 'I18a32', 'I18a33', 'I18a34', 'I18a35', 'I18a36', 'I18a41', 'I18a42', 'I18a43', 'I18a44', 'I18a45', 'I18a46', 'I18a51', 'I18a52', 'I18a53', 'I18a54', 'I18a55', 'I18a56', 'I18a61', 'I18a62', 'I18a63', 'I18a64', 'I18a65', 'I18a66', 'I19a11', 'I19a12', 'I19a13', 'I19a14', 'I19a15', 'I19a16', 'I19a21', 'I19a22', 'I19a23', 'I19a24', 'I19a25', 'I19a26', 'I19a31', 'I19a32', 'I19a33', 'I19a34', 'I19a35', 'I19a36', 'I19a41', 'I19a42', 'I19a43', 'I19a44', 'I19a45', 'I19a46', 'I19a51', 'I19a52', 'I19a53', 'I19a54', 'I19a55', 'I19a56', 'I19a61', 'I19a62', 'I19a63', 'I19a64', 'I19a65', 'I19a66', 'I2a11', 'I2a12', 'I2a13', 'I2a21', 'I2a22', 'I2a23', 'I2a31', 'I2a32', 'I2a33', 'I20a11', 'I20a12', 'I20a13', 'I20a14', 'I20a15', 'I20a16', 'I20a21', 'I20a22', 'I20a23', 'I20a24', 'I20a25', 'I20a26', 'I20a31', 'I20a32', 'I20a33', 'I20a34', 'I20a35', 'I20a36', 'I20a41', 'I20a42', 'I20a43', 'I20a44', 'I20a45', 'I20a46', 'I20a51', 'I20a52', 'I20a53', 'I20a54', 'I20a55', 'I20a56', 'I20a61', 'I20a62', 'I20a63', 'I20a64', 'I20a65', 'I20a66', 'I21a11', 'I21a12', 'I21a13', 'I21a21', 'I21a22', 'I21a23', 'I21a31', 'I21a32', 'I21a33', 'I21a41', 'I21a42', 'I21a43', 'I21a51', 'I21a52', 'I21a53', 'I21a61', 'I21a62', 'I21a63', 'I22a11', 'I22a12', 'I22a13', 'I22a21', 'I22a22', 'I22a23', 'I22a31', 'I22a32', 'I22a33', 'I22a41', 'I22a42', 'I22a43', 'I22a51', 'I22a52', 'I22a53', 'I22a61', 'I22a62', 'I22a63', 'I23a11', 'I23a12', 'I23a13', 'I23a21', 'I23a22', 'I23a23', 'I23a31', 'I23a32', 'I23a33', 'I23a41', 'I23a42', 'I23a43', 'I23a51', 'I23a52', 'I23a53', 'I23a61', 'I23a62', 'I23a63', 'I24a11', 'I24a12', 'I24a13', 'I24a21', 'I24a22', 'I24a23', 'I24a31', 'I24a32', 'I24a33', 'I24a41', 'I24a42', 'I24a43', 'I24a51', 'I24a52', 'I24a53', 'I24a61', 'I24a62', 'I24a63', 'I25a11', 'I25a12', 'I25a13', 'I25a21', 'I25a22', 'I25a23', 'I25a31', 'I25a32', 'I25a33', 'I25a41', 'I25a42', 'I25a43', 'I25a51', 'I25a52', 'I25a53', 'I25a61', 'I25a62', 'I25a63', 'I26a11', 'I26a12', 'I26a13', 'I26a21', 'I26a22', 'I26a23', 'I26a31', 'I26a32', 'I26a33', 'I26a41', 'I26a42', 'I26a43', 'I26a51', 'I26a52', 'I26a53', 'I26a61', 'I26a62', 'I26a63', 'I27a11', 'I27a12', 'I27a13', 'I27a21', 'I27a22', 'I27a23', 'I27a31', 'I27a32', 'I27a33', 'I27a41', 'I27a42', 'I27a43', 'I27a51', 'I27a52', 'I27a53', 'I27a61', 'I27a62', 'I27a63', 'I28a11', 'I28a12', 'I28a13', 'I28a21', 'I28a22', 'I28a23', 'I28a31', 'I28a32', 'I28a33', 'I28a41', 'I28a42', 'I28a43', 'I28a51', 'I28a52', 'I28a53', 'I28a61', 'I28a62', 'I28a63', 'I29a11', 'I29a12', 'I29a13', 'I29a21', 'I29a22', 'I29a23', 'I29a31', 'I29a32', 'I29a33', 'I3a11', 'I3a12', 'I3a13', 'I3a21', 'I3a22', 'I3a23', 'I3a31', 'I3a32', 'I3a33', 'I30a11', 'I30a12', 'I30a13', 'I30a21', 'I30a22', 'I30a23', 'I30a31', 'I30a32', 'I30a33', 'I31a11', 'I31a12', 'I31a13', 'I31a14', 'I31a15', 'I31a16', 'I31a21', 'I31a22', 'I31a23', 'I31a24', 'I31a25', 'I31a26', 'I31a31', 'I31a32', 'I31a33', 'I31a34', 'I31a35', 'I31a36', 'I31a41', 'I31a42', 'I31a43', 'I31a44', 'I31a45', 'I31a46', 'I31a51', 'I31a52', 'I31a53', 'I31a54', 'I31a55', 'I31a56', 'I31a61', 'I31a62', 'I31a63', 'I31a64', 'I31a65', 'I31a66', 'I32a11', 'I32a12', 'I32a13', 'I32a14', 'I32a15', 'I32a16', 'I32a21', 'I32a22', 'I32a23', 'I32a24', 'I32a25', 'I32a26', 'I32a31', 'I32a32', 'I32a33', 'I32a34', 'I32a35', 'I32a36', 'I32a41', 'I32a42', 'I32a43', 'I32a44', 'I32a45', 'I32a46', 'I32a51', 'I32a52', 'I32a53', 'I32a54', 'I32a55', 'I32a56', 'I32a61', 'I32a62', 'I32a63', 'I32a64', 'I32a65', 'I32a66', 'I33a11', 'I33a12', 'I33a13', 'I33a14', 'I33a15', 'I33a16', 'I33a21', 'I33a22', 'I33a23', 'I33a24', 'I33a25', 'I33a26', 'I33a31', 'I33a32', 'I33a33', 'I33a34', 'I33a35', 'I33a36', 'I33a41', 'I33a42', 'I33a43', 'I33a44', 'I33a45', 'I33a46', 'I33a51', 'I33a52', 'I33a53', 'I33a54', 'I33a55', 'I33a56', 'I33a61', 'I33a62', 'I33a63', 'I33a64', 'I33a65', 'I33a66', 'I34a11', 'I34a12', 'I34a13', 'I34a14', 'I34a15', 'I34a16', 'I34a21', 'I34a22', 'I34a23', 'I34a24', 'I34a25', 'I34a26', 'I34a31', 'I34a32', 'I34a33', 'I34a34', 'I34a35', 'I34a36', 'I34a41', 'I34a42', 'I34a43', 'I34a44', 'I34a45', 'I34a46', 'I34a51', 'I34a52', 'I34a53', 'I34a54', 'I34a55', 'I34a56', 'I34a61', 'I34a62', 'I34a63', 'I34a64', 'I34a65', 'I34a66', 'I35a11', 'I35a12', 'I35a13', 'I35a21', 'I35a22', 'I35a23', 'I35a31', 'I35a32', 'I35a33', 'I35a41', 'I35a42', 'I35a43', 'I35a51', 'I35a52', 'I35a53', 'I35a61', 'I35a62', 'I35a63', 'I36a11', 'I36a12', 'I36a13', 'I36a21', 'I36a22', 'I36a23', 'I36a31', 'I36a32', 'I36a33', 'I36a41', 'I36a42', 'I36a43', 'I36a51', 'I36a52', 'I36a53', 'I36a61', 'I36a62', 'I36a63', 'I37a11', 'I37a12', 'I37a13', 'I37a21', 'I37a22', 'I37a23', 'I37a31', 'I37a32', 'I37a33', 'I38a11', 'I38a12', 'I38a13', 'I38a21', 'I38a22', 'I38a23', 'I38a31', 'I38a32', 'I38a33', 'I39a11', 'I39a12', 'I39a13', 'I39a14', 'I39a15', 'I39a16', 'I39a21', 'I39a22', 'I39a23', 'I39a24', 'I39a25', 'I39a26', 'I39a31', 'I39a32', 'I39a33', 'I39a34', 'I39a35', 'I39a36', 'I39a41', 'I39a42', 'I39a43', 'I39a44', 'I39a45', 'I39a46', 'I39a51', 'I39a52', 'I39a53', 'I39a54', 'I39a55', 'I39a56', 'I39a61', 'I39a62', 'I39a63', 'I39a64', 'I39a65', 'I39a66', 'I4a11', 'I4a12', 'I4a13', 'I4a21', 'I4a22', 'I4a23', 'I4a31', 'I4a32', 'I4a33', 'I40a11', 'I40a12', 'I40a13', 'I40a14', 'I40a15', 'I40a16', 'I40a21', 'I40a22', 'I40a23', 'I40a24', 'I40a25', 'I40a26', 'I40a31', 'I40a32', 'I40a33', 'I40a34', 'I40a35', 'I40a36', 'I40a41', 'I40a42', 'I40a43', 'I40a44', 'I40a45', 'I40a46', 'I40a51', 'I40a52', 'I40a53', 'I40a54', 'I40a55', 'I40a56', 'I40a61', 'I40a62', 'I40a63', 'I40a64', 'I40a65', 'I40a66', 'I41a11', 'I41a12', 'I41a13', 'I41a14', 'I41a15', 'I41a16', 'I41a21', 'I41a22', 'I41a23', 'I41a24', 'I41a25', 'I41a26', 'I41a31', 'I41a32', 'I41a33', 'I41a34', 'I41a35', 'I41a36', 'I41a41', 'I41a42', 'I41a43', 'I41a44', 'I41a45', 'I41a46', 'I41a51', 'I41a52', 'I41a53', 'I41a54', 'I41a55', 'I41a56', 'I41a61', 'I41a62', 'I41a63', 'I41a64', 'I41a65', 'I41a66', 'I42a11', 'I42a12', 'I42a13', 'I42a14', 'I42a15', 'I42a16', 'I42a21', 'I42a22', 'I42a23', 'I42a24', 'I42a25', 'I42a26', 'I42a31', 'I42a32', 'I42a33', 'I42a34', 'I42a35', 'I42a36', 'I42a41', 'I42a42', 'I42a43', 'I42a44', 'I42a45', 'I42a46', 'I42a51', 'I42a52', 'I42a53', 'I42a54', 'I42a55', 'I42a56', 'I42a61', 'I42a62', 'I42a63', 'I42a64', 'I42a65', 'I42a66', 'I43a11', 'I43a12', 'I43a13', 'I43a21', 'I43a22', 'I43a23', 'I43a31', 'I43a32', 'I43a33', 'I43a41', 'I43a42', 'I43a43', 'I43a51', 'I43a52', 'I43a53', 'I43a61', 'I43a62', 'I43a63', 'I44a11', 'I44a12', 'I44a13', 'I44a21', 'I44a22', 'I44a23', 'I44a31', 'I44a32', 'I44a33', 'I44a41', 'I44a42', 'I44a43', 'I44a51', 'I44a52', 'I44a53', 'I44a61', 'I44a62', 'I44a63', 'I45a11', 'I45a12', 'I45a13', 'I45a21', 'I45a22', 'I45a23', 'I45a31', 'I45a32', 'I45a33', 'I46a11', 'I46a12', 'I46a13', 'I46a21', 'I46a22', 'I46a23', 'I46a31', 'I46a32', 'I46a33', 'I47a11', 'I47a12', 'I47a13', 'I47a21', 'I47a22', 'I47a23', 'I47a31', 'I47a32', 'I47a33', 'I47a41', 'I47a42', 'I47a43', 'I47a51', 'I47a52', 'I47a53', 'I47a61', 'I47a62', 'I47a63', 'I48a11', 'I48a12', 'I48a13', 'I48a21', 'I48a22', 'I48a23', 'I48a31', 'I48a32', 'I48a33', 'I48a41', 'I48a42', 'I48a43', 'I48a51', 'I48a52', 'I48a53', 'I48a61', 'I48a62', 'I48a63', 'I49a11', 'I49a12', 'I49a13', 'I49a21', 'I49a22', 'I49a23', 'I49a31', 'I49a32', 'I49a33', 'I5a11', 'I5a12', 'I5a13', 'I5a21', 'I5a22', 'I5a23', 'I5a31', 'I5a32', 'I5a33', 'I50a11', 'I50a12', 'I50a13', 'I50a21', 'I50a22', 'I50a23', 'I50a31', 'I50a32', 'I50a33', 'I51a11', 'I51a12', 'I51a13', 'I51a21', 'I51a22', 'I51a23', 'I51a31', 'I51a32', 'I51a33', 'I51a41', 'I51a42', 'I51a43', 'I51a51', 'I51a52', 'I51a53', 'I51a61', 'I51a62', 'I51a63', 'I52a11', 'I52a12', 'I52a13', 'I52a21', 'I52a22', 'I52a23', 'I52a31', 'I52a32', 'I52a33', 'I52a41', 'I52a42', 'I52a43', 'I52a51', 'I52a52', 'I52a53', 'I52a61', 'I52a62', 'I52a63', 'I53a11', 'I53a12', 'I53a13', 'I53a21', 'I53a22', 'I53a23', 'I53a31', 'I53a32', 'I53a33', 'I54a11', 'I54a12', 'I54a13', 'I54a21', 'I54a22', 'I54a23', 'I54a31', 'I54a32', 'I54a33', 'I55a11', 'I55a12', 'I55a13', 'I55a14', 'I55a15', 'I55a16', 'I55a21', 'I55a22', 'I55a23', 'I55a24', 'I55a25', 'I55a26', 'I55a31', 'I55a32', 'I55a33', 'I55a34', 'I55a35', 'I55a36', 'I55a41', 'I55a42', 'I55a43', 'I55a44', 'I55a45', 'I55a46', 'I55a51', 'I55a52', 'I55a53', 'I55a54', 'I55a55', 'I55a56', 'I55a61', 'I55a62', 'I55a63', 'I55a64', 'I55a65', 'I55a66', 'I56a11', 'I56a12', 'I56a13', 'I56a14', 'I56a15', 'I56a16', 'I56a21', 'I56a22', 'I56a23', 'I56a24', 'I56a25', 'I56a26', 'I56a31', 'I56a32', 'I56a33', 'I56a34', 'I56a35', 'I56a36', 'I56a41', 'I56a42', 'I56a43', 'I56a44', 'I56a45', 'I56a46', 'I56a51', 'I56a52', 'I56a53', 'I56a54', 'I56a55', 'I56a56', 'I56a61', 'I56a62', 'I56a63', 'I56a64', 'I56a65', 'I56a66', 'I57a11', 'I57a12', 'I57a13', 'I57a14', 'I57a15', 'I57a16', 'I57a21', 'I57a22', 'I57a23', 'I57a24', 'I57a25', 'I57a26', 'I57a31', 'I57a32', 'I57a33', 'I57a34', 'I57a35', 'I57a36', 'I57a41', 'I57a42', 'I57a43', 'I57a44', 'I57a45', 'I57a46', 'I57a51', 'I57a52', 'I57a53', 'I57a54', 'I57a55', 'I57a56', 'I57a61', 'I57a62', 'I57a63', 'I57a64', 'I57a65', 'I57a66', 'I58a11', 'I58a12', 'I58a13', 'I58a14', 'I58a15', 'I58a16', 'I58a21', 'I58a22', 'I58a23', 'I58a24', 'I58a25', 'I58a26', 'I58a31', 'I58a32', 'I58a33', 'I58a34', 'I58a35', 'I58a36', 'I58a41', 'I58a42', 'I58a43', 'I58a44', 'I58a45', 'I58a46', 'I58a51', 'I58a52', 'I58a53', 'I58a54', 'I58a55', 'I58a56', 'I58a61', 'I58a62', 'I58a63', 'I58a64', 'I58a65', 'I58a66', 'I6a11', 'I6a12', 'I6a13', 'I6a21', 'I6a22', 'I6a23', 'I6a31', 'I6a32', 'I6a33', 'I7a11', 'I7a12', 'I7a13', 'I7a21', 'I7a22', 'I7a23', 'I7a31', 'I7a32', 'I7a33', 'I8a11', 'I8a12', 'I8a13', 'I8a21', 'I8a22', 'I8a23', 'I8a31', 'I8a32', 'I8a33', 'I9a11', 'I9a12', 'I9a13', 'I9a21', 'I9a22', 'I9a23', 'I9a31', 'I9a32', 'I9a33']\n",
      "Namespace contents after executing C:/Users/moise/OneDrive/Escritorio/LRSM-with-Spheno/UFOmodel/MLRSM_UFO_neutrino_mix\\parameters.py: {'__builtins__': {'__name__': 'builtins', '__doc__': \"Built-in functions, exceptions, and other objects.\\n\\nNoteworthy: None is the `nil' object; Ellipsis represents `...' in slices.\", '__package__': '', '__loader__': <class '_frozen_importlib.BuiltinImporter'>, '__spec__': ModuleSpec(name='builtins', loader=<class '_frozen_importlib.BuiltinImporter'>, origin='built-in'), '__build_class__': <built-in function __build_class__>, '__import__': <built-in function __import__>, 'abs': <built-in function abs>, 'all': <built-in function all>, 'any': <built-in function any>, 'ascii': <built-in function ascii>, 'bin': <built-in function bin>, 'breakpoint': <built-in function breakpoint>, 'callable': <built-in function callable>, 'chr': <built-in function chr>, 'compile': <built-in function compile>, 'delattr': <built-in function delattr>, 'dir': <built-in function dir>, 'divmod': <built-in function divmod>, 'eval': <built-in function eval>, 'exec': <built-in function exec>, 'format': <built-in function format>, 'getattr': <built-in function getattr>, 'globals': <built-in function globals>, 'hasattr': <built-in function hasattr>, 'hash': <built-in function hash>, 'hex': <built-in function hex>, 'id': <built-in function id>, 'input': <bound method Kernel.raw_input of <ipykernel.ipkernel.IPythonKernel object at 0x000001D03ED69090>>, 'isinstance': <built-in function isinstance>, 'issubclass': <built-in function issubclass>, 'iter': <built-in function iter>, 'aiter': <built-in function aiter>, 'len': <built-in function len>, 'locals': <built-in function locals>, 'max': <built-in function max>, 'min': <built-in function min>, 'next': <built-in function next>, 'anext': <built-in function anext>, 'oct': <built-in function oct>, 'ord': <built-in function ord>, 'pow': <built-in function pow>, 'print': <built-in function print>, 'repr': <built-in function repr>, 'round': <built-in function round>, 'setattr': <built-in function setattr>, 'sorted': <built-in function sorted>, 'sum': <built-in function sum>, 'vars': <built-in function vars>, 'None': None, 'Ellipsis': Ellipsis, 'NotImplemented': NotImplemented, 'False': False, 'True': True, 'bool': <class 'bool'>, 'memoryview': <class 'memoryview'>, 'bytearray': <class 'bytearray'>, 'bytes': <class 'bytes'>, 'classmethod': <class 'classmethod'>, 'complex': <class 'complex'>, 'dict': <class 'dict'>, 'enumerate': <class 'enumerate'>, 'filter': <class 'filter'>, 'float': <class 'float'>, 'frozenset': <class 'frozenset'>, 'property': <class 'property'>, 'int': <class 'int'>, 'list': <class 'list'>, 'map': <class 'map'>, 'object': <class 'object'>, 'range': <class 'range'>, 'reversed': <class 'reversed'>, 'set': <class 'set'>, 'slice': <class 'slice'>, 'staticmethod': <class 'staticmethod'>, 'str': <class 'str'>, 'super': <class 'super'>, 'tuple': <class 'tuple'>, 'type': <class 'type'>, 'zip': <class 'zip'>, '__debug__': True, 'BaseException': <class 'BaseException'>, 'BaseExceptionGroup': <class 'BaseExceptionGroup'>, 'Exception': <class 'Exception'>, 'GeneratorExit': <class 'GeneratorExit'>, 'KeyboardInterrupt': <class 'KeyboardInterrupt'>, 'SystemExit': <class 'SystemExit'>, 'ArithmeticError': <class 'ArithmeticError'>, 'AssertionError': <class 'AssertionError'>, 'AttributeError': <class 'AttributeError'>, 'BufferError': <class 'BufferError'>, 'EOFError': <class 'EOFError'>, 'ImportError': <class 'ImportError'>, 'LookupError': <class 'LookupError'>, 'MemoryError': <class 'MemoryError'>, 'NameError': <class 'NameError'>, 'OSError': <class 'OSError'>, 'ReferenceError': <class 'ReferenceError'>, 'RuntimeError': <class 'RuntimeError'>, 'StopAsyncIteration': <class 'StopAsyncIteration'>, 'StopIteration': <class 'StopIteration'>, 'SyntaxError': <class 'SyntaxError'>, 'SystemError': <class 'SystemError'>, 'TypeError': <class 'TypeError'>, 'ValueError': <class 'ValueError'>, 'Warning': <class 'Warning'>, 'FloatingPointError': <class 'FloatingPointError'>, 'OverflowError': <class 'OverflowError'>, 'ZeroDivisionError': <class 'ZeroDivisionError'>, 'BytesWarning': <class 'BytesWarning'>, 'DeprecationWarning': <class 'DeprecationWarning'>, 'EncodingWarning': <class 'EncodingWarning'>, 'FutureWarning': <class 'FutureWarning'>, 'ImportWarning': <class 'ImportWarning'>, 'PendingDeprecationWarning': <class 'PendingDeprecationWarning'>, 'ResourceWarning': <class 'ResourceWarning'>, 'RuntimeWarning': <class 'RuntimeWarning'>, 'SyntaxWarning': <class 'SyntaxWarning'>, 'UnicodeWarning': <class 'UnicodeWarning'>, 'UserWarning': <class 'UserWarning'>, 'BlockingIOError': <class 'BlockingIOError'>, 'ChildProcessError': <class 'ChildProcessError'>, 'ConnectionError': <class 'ConnectionError'>, 'FileExistsError': <class 'FileExistsError'>, 'FileNotFoundError': <class 'FileNotFoundError'>, 'InterruptedError': <class 'InterruptedError'>, 'IsADirectoryError': <class 'IsADirectoryError'>, 'NotADirectoryError': <class 'NotADirectoryError'>, 'PermissionError': <class 'PermissionError'>, 'ProcessLookupError': <class 'ProcessLookupError'>, 'TimeoutError': <class 'TimeoutError'>, 'IndentationError': <class 'IndentationError'>, 'IndexError': <class 'IndexError'>, 'KeyError': <class 'KeyError'>, 'ModuleNotFoundError': <class 'ModuleNotFoundError'>, 'NotImplementedError': <class 'NotImplementedError'>, 'RecursionError': <class 'RecursionError'>, 'UnboundLocalError': <class 'UnboundLocalError'>, 'UnicodeError': <class 'UnicodeError'>, 'BrokenPipeError': <class 'BrokenPipeError'>, 'ConnectionAbortedError': <class 'ConnectionAbortedError'>, 'ConnectionRefusedError': <class 'ConnectionRefusedError'>, 'ConnectionResetError': <class 'ConnectionResetError'>, 'TabError': <class 'TabError'>, 'UnicodeDecodeError': <class 'UnicodeDecodeError'>, 'UnicodeEncodeError': <class 'UnicodeEncodeError'>, 'UnicodeTranslateError': <class 'UnicodeTranslateError'>, 'ExceptionGroup': <class 'ExceptionGroup'>, 'EnvironmentError': <class 'OSError'>, 'IOError': <class 'OSError'>, 'WindowsError': <class 'OSError'>, 'open': <built-in function open>, 'copyright': Copyright (c) 2001-2022 Python Software Foundation.\n",
      "All Rights Reserved.\n",
      "\n",
      "Copyright (c) 2000 BeOpen.com.\n",
      "All Rights Reserved.\n",
      "\n",
      "Copyright (c) 1995-2001 Corporation for National Research Initiatives.\n",
      "All Rights Reserved.\n",
      "\n",
      "Copyright (c) 1991-1995 Stichting Mathematisch Centrum, Amsterdam.\n",
      "All Rights Reserved., 'credits':     Thanks to CWI, CNRI, BeOpen.com, Zope Corporation and a cast of thousands\n",
      "    for supporting Python development.  See www.python.org for more information., 'license': See https://www.python.org/psf/license/, 'help': Type help() for interactive help, or help(object) for help about object., 'execfile': <function execfile at 0x000001D03EE86C00>, 'runfile': <function runfile at 0x000001D03FF5E340>, '__IPYTHON__': True, 'display': <function display at 0x000001D03D5A2E80>, 'get_ipython': <bound method InteractiveShell.get_ipython of <ipykernel.zmqshell.ZMQInteractiveShell object at 0x000001D040228FD0>>}, 'all_parameters': [ZERO, s12, s23, s13, lambda1, lambda2, lambda3, lambda4, rho1, rho2, rho3, rho4, alpha1, alpha2, alpha3, VR63, VR63, VR63, VR63, VR63, VR63, VR63, VR63, VR63, VR63, VR63, VR63, VR63, VR63, VR63, VR63, VR63, VR63, VR63, VR63, VR63, VR63, VR63, VR63, VR63, VR63, VR63, VR63, VR63, VR63, VR63, VR63, VR63, VR63, VR63, VR63, Wl11, Wl22, Wl33, WU11, WU22, WU33, WD11, WD22, WD33, aEWM1, Gf, aS, k1, vR, vL, MZ, MW, Me, Mmu, Mta, MU, MC, MT, MD, MS, MB, MN1, MN2, MN3, MN4, MN5, MN6, WZ, WW, WW2, WZ2, WT, WN4, WN5, WN6, WH, WH01, WH02, WH03, WHP1, WHP2, WHPPL, WHPPR, WA01, WA02, aEW, sw2, cw, gs, vev, MH02, MH03, MA02, yML1x1, yML2x2, yML3x3, yNL1x1, yNL2x2, yNL3x3, yNL4x4, yNL5x5, yNL6x6, yMU1x1, yMU2x2, yMU3x3, yDO1x1, yDO2x2, yDO3x3, CKML1x1, CKML1x2, CKML1x3, CKML2x1, CKML2x2, CKML2x3, CKML3x1, CKML3x2, CKML3x3, Wl1x1, Wl2x2, Wl3x3, WU1x1, WU2x2, WU3x3, WD1x1, WD2x2, WD3x3, KL1x1, KL1x2, KL1x3, KL2x1, KL2x2, KL2x3, KL3x1, KL3x2, KL3x3, KL4x1, KL4x2, KL4x3, KL5x1, KL5x2, KL5x3, KL6x1, KL6x2, KL6x3, KR1x1, KR1x2, KR1x3, KR2x1, KR2x2, KR2x3, KR3x1, KR3x2, KR3x3, KR4x1, KR4x2, KR4x3, KR5x1, KR5x2, KR5x3, KR6x1, KR6x2, KR6x3, CKMR1x1, CKMR1x2, CKMR1x3, CKMR2x1, CKMR2x2, CKMR2x3, CKMR3x1, CKMR3x2, CKMR3x3, sw, ee, k2, eps, sphi, sxi, g1, gw, cphi, cxi, MA01, MH, MH01, MHP1, MHP2, MHPPL, MHPPR, MW2, MZ2, I1a11, I1a12, I1a13, I1a21, I1a22, I1a23, I1a31, I1a32, I1a33, I10a11, I10a12, I10a13, I10a21, I10a22, I10a23, I10a31, I10a32, I10a33, I11a11, I11a12, I11a13, I11a21, I11a22, I11a23, I11a31, I11a32, I11a33, I12a11, I12a12, I12a13, I12a21, I12a22, I12a23, I12a31, I12a32, I12a33, I13a11, I13a12, I13a13, I13a14, I13a15, I13a16, I13a21, I13a22, I13a23, I13a24, I13a25, I13a26, I13a31, I13a32, I13a33, I13a34, I13a35, I13a36, I13a41, I13a42, I13a43, I13a44, I13a45, I13a46, I13a51, I13a52, I13a53, I13a54, I13a55, I13a56, I13a61, I13a62, I13a63, I13a64, I13a65, I13a66, I14a11, I14a12, I14a13, I14a14, I14a15, I14a16, I14a21, I14a22, I14a23, I14a24, I14a25, I14a26, I14a31, I14a32, I14a33, I14a34, I14a35, I14a36, I14a41, I14a42, I14a43, I14a44, I14a45, I14a46, I14a51, I14a52, I14a53, I14a54, I14a55, I14a56, I14a61, I14a62, I14a63, I14a64, I14a65, I14a66, I15a11, I15a12, I15a13, I15a14, I15a15, I15a16, I15a21, I15a22, I15a23, I15a24, I15a25, I15a26, I15a31, I15a32, I15a33, I15a34, I15a35, I15a36, I15a41, I15a42, I15a43, I15a44, I15a45, I15a46, I15a51, I15a52, I15a53, I15a54, I15a55, I15a56, I15a61, I15a62, I15a63, I15a64, I15a65, I15a66, I16a11, I16a12, I16a13, I16a14, I16a15, I16a16, I16a21, I16a22, I16a23, I16a24, I16a25, I16a26, I16a31, I16a32, I16a33, I16a34, I16a35, I16a36, I16a41, I16a42, I16a43, I16a44, I16a45, I16a46, I16a51, I16a52, I16a53, I16a54, I16a55, I16a56, I16a61, I16a62, I16a63, I16a64, I16a65, I16a66, I17a11, I17a12, I17a13, I17a14, I17a15, I17a16, I17a21, I17a22, I17a23, I17a24, I17a25, I17a26, I17a31, I17a32, I17a33, I17a34, I17a35, I17a36, I17a41, I17a42, I17a43, I17a44, I17a45, I17a46, I17a51, I17a52, I17a53, I17a54, I17a55, I17a56, I17a61, I17a62, I17a63, I17a64, I17a65, I17a66, I18a11, I18a12, I18a13, I18a14, I18a15, I18a16, I18a21, I18a22, I18a23, I18a24, I18a25, I18a26, I18a31, I18a32, I18a33, I18a34, I18a35, I18a36, I18a41, I18a42, I18a43, I18a44, I18a45, I18a46, I18a51, I18a52, I18a53, I18a54, I18a55, I18a56, I18a61, I18a62, I18a63, I18a64, I18a65, I18a66, I19a11, I19a12, I19a13, I19a14, I19a15, I19a16, I19a21, I19a22, I19a23, I19a24, I19a25, I19a26, I19a31, I19a32, I19a33, I19a34, I19a35, I19a36, I19a41, I19a42, I19a43, I19a44, I19a45, I19a46, I19a51, I19a52, I19a53, I19a54, I19a55, I19a56, I19a61, I19a62, I19a63, I19a64, I19a65, I19a66, I2a11, I2a12, I2a13, I2a21, I2a22, I2a23, I2a31, I2a32, I2a33, I20a11, I20a12, I20a13, I20a14, I20a15, I20a16, I20a21, I20a22, I20a23, I20a24, I20a25, I20a26, I20a31, I20a32, I20a33, I20a34, I20a35, I20a36, I20a41, I20a42, I20a43, I20a44, I20a45, I20a46, I20a51, I20a52, I20a53, I20a54, I20a55, I20a56, I20a61, I20a62, I20a63, I20a64, I20a65, I20a66, I21a11, I21a12, I21a13, I21a21, I21a22, I21a23, I21a31, I21a32, I21a33, I21a41, I21a42, I21a43, I21a51, I21a52, I21a53, I21a61, I21a62, I21a63, I22a11, I22a12, I22a13, I22a21, I22a22, I22a23, I22a31, I22a32, I22a33, I22a41, I22a42, I22a43, I22a51, I22a52, I22a53, I22a61, I22a62, I22a63, I23a11, I23a12, I23a13, I23a21, I23a22, I23a23, I23a31, I23a32, I23a33, I23a41, I23a42, I23a43, I23a51, I23a52, I23a53, I23a61, I23a62, I23a63, I24a11, I24a12, I24a13, I24a21, I24a22, I24a23, I24a31, I24a32, I24a33, I24a41, I24a42, I24a43, I24a51, I24a52, I24a53, I24a61, I24a62, I24a63, I25a11, I25a12, I25a13, I25a21, I25a22, I25a23, I25a31, I25a32, I25a33, I25a41, I25a42, I25a43, I25a51, I25a52, I25a53, I25a61, I25a62, I25a63, I26a11, I26a12, I26a13, I26a21, I26a22, I26a23, I26a31, I26a32, I26a33, I26a41, I26a42, I26a43, I26a51, I26a52, I26a53, I26a61, I26a62, I26a63, I27a11, I27a12, I27a13, I27a21, I27a22, I27a23, I27a31, I27a32, I27a33, I27a41, I27a42, I27a43, I27a51, I27a52, I27a53, I27a61, I27a62, I27a63, I28a11, I28a12, I28a13, I28a21, I28a22, I28a23, I28a31, I28a32, I28a33, I28a41, I28a42, I28a43, I28a51, I28a52, I28a53, I28a61, I28a62, I28a63, I29a11, I29a12, I29a13, I29a21, I29a22, I29a23, I29a31, I29a32, I29a33, I3a11, I3a12, I3a13, I3a21, I3a22, I3a23, I3a31, I3a32, I3a33, I30a11, I30a12, I30a13, I30a21, I30a22, I30a23, I30a31, I30a32, I30a33, I31a11, I31a12, I31a13, I31a14, I31a15, I31a16, I31a21, I31a22, I31a23, I31a24, I31a25, I31a26, I31a31, I31a32, I31a33, I31a34, I31a35, I31a36, I31a41, I31a42, I31a43, I31a44, I31a45, I31a46, I31a51, I31a52, I31a53, I31a54, I31a55, I31a56, I31a61, I31a62, I31a63, I31a64, I31a65, I31a66, I32a11, I32a12, I32a13, I32a14, I32a15, I32a16, I32a21, I32a22, I32a23, I32a24, I32a25, I32a26, I32a31, I32a32, I32a33, I32a34, I32a35, I32a36, I32a41, I32a42, I32a43, I32a44, I32a45, I32a46, I32a51, I32a52, I32a53, I32a54, I32a55, I32a56, I32a61, I32a62, I32a63, I32a64, I32a65, I32a66, I33a11, I33a12, I33a13, I33a14, I33a15, I33a16, I33a21, I33a22, I33a23, I33a24, I33a25, I33a26, I33a31, I33a32, I33a33, I33a34, I33a35, I33a36, I33a41, I33a42, I33a43, I33a44, I33a45, I33a46, I33a51, I33a52, I33a53, I33a54, I33a55, I33a56, I33a61, I33a62, I33a63, I33a64, I33a65, I33a66, I34a11, I34a12, I34a13, I34a14, I34a15, I34a16, I34a21, I34a22, I34a23, I34a24, I34a25, I34a26, I34a31, I34a32, I34a33, I34a34, I34a35, I34a36, I34a41, I34a42, I34a43, I34a44, I34a45, I34a46, I34a51, I34a52, I34a53, I34a54, I34a55, I34a56, I34a61, I34a62, I34a63, I34a64, I34a65, I34a66, I35a11, I35a12, I35a13, I35a21, I35a22, I35a23, I35a31, I35a32, I35a33, I35a41, I35a42, I35a43, I35a51, I35a52, I35a53, I35a61, I35a62, I35a63, I36a11, I36a12, I36a13, I36a21, I36a22, I36a23, I36a31, I36a32, I36a33, I36a41, I36a42, I36a43, I36a51, I36a52, I36a53, I36a61, I36a62, I36a63, I37a11, I37a12, I37a13, I37a21, I37a22, I37a23, I37a31, I37a32, I37a33, I38a11, I38a12, I38a13, I38a21, I38a22, I38a23, I38a31, I38a32, I38a33, I39a11, I39a12, I39a13, I39a14, I39a15, I39a16, I39a21, I39a22, I39a23, I39a24, I39a25, I39a26, I39a31, I39a32, I39a33, I39a34, I39a35, I39a36, I39a41, I39a42, I39a43, I39a44, I39a45, I39a46, I39a51, I39a52, I39a53, I39a54, I39a55, I39a56, I39a61, I39a62, I39a63, I39a64, I39a65, I39a66, I4a11, I4a12, I4a13, I4a21, I4a22, I4a23, I4a31, I4a32, I4a33, I40a11, I40a12, I40a13, I40a14, I40a15, I40a16, I40a21, I40a22, I40a23, I40a24, I40a25, I40a26, I40a31, I40a32, I40a33, I40a34, I40a35, I40a36, I40a41, I40a42, I40a43, I40a44, I40a45, I40a46, I40a51, I40a52, I40a53, I40a54, I40a55, I40a56, I40a61, I40a62, I40a63, I40a64, I40a65, I40a66, I41a11, I41a12, I41a13, I41a14, I41a15, I41a16, I41a21, I41a22, I41a23, I41a24, I41a25, I41a26, I41a31, I41a32, I41a33, I41a34, I41a35, I41a36, I41a41, I41a42, I41a43, I41a44, I41a45, I41a46, I41a51, I41a52, I41a53, I41a54, I41a55, I41a56, I41a61, I41a62, I41a63, I41a64, I41a65, I41a66, I42a11, I42a12, I42a13, I42a14, I42a15, I42a16, I42a21, I42a22, I42a23, I42a24, I42a25, I42a26, I42a31, I42a32, I42a33, I42a34, I42a35, I42a36, I42a41, I42a42, I42a43, I42a44, I42a45, I42a46, I42a51, I42a52, I42a53, I42a54, I42a55, I42a56, I42a61, I42a62, I42a63, I42a64, I42a65, I42a66, I43a11, I43a12, I43a13, I43a21, I43a22, I43a23, I43a31, I43a32, I43a33, I43a41, I43a42, I43a43, I43a51, I43a52, I43a53, I43a61, I43a62, I43a63, I44a11, I44a12, I44a13, I44a21, I44a22, I44a23, I44a31, I44a32, I44a33, I44a41, I44a42, I44a43, I44a51, I44a52, I44a53, I44a61, I44a62, I44a63, I45a11, I45a12, I45a13, I45a21, I45a22, I45a23, I45a31, I45a32, I45a33, I46a11, I46a12, I46a13, I46a21, I46a22, I46a23, I46a31, I46a32, I46a33, I47a11, I47a12, I47a13, I47a21, I47a22, I47a23, I47a31, I47a32, I47a33, I47a41, I47a42, I47a43, I47a51, I47a52, I47a53, I47a61, I47a62, I47a63, I48a11, I48a12, I48a13, I48a21, I48a22, I48a23, I48a31, I48a32, I48a33, I48a41, I48a42, I48a43, I48a51, I48a52, I48a53, I48a61, I48a62, I48a63, I49a11, I49a12, I49a13, I49a21, I49a22, I49a23, I49a31, I49a32, I49a33, I5a11, I5a12, I5a13, I5a21, I5a22, I5a23, I5a31, I5a32, I5a33, I50a11, I50a12, I50a13, I50a21, I50a22, I50a23, I50a31, I50a32, I50a33, I51a11, I51a12, I51a13, I51a21, I51a22, I51a23, I51a31, I51a32, I51a33, I51a41, I51a42, I51a43, I51a51, I51a52, I51a53, I51a61, I51a62, I51a63, I52a11, I52a12, I52a13, I52a21, I52a22, I52a23, I52a31, I52a32, I52a33, I52a41, I52a42, I52a43, I52a51, I52a52, I52a53, I52a61, I52a62, I52a63, I53a11, I53a12, I53a13, I53a21, I53a22, I53a23, I53a31, I53a32, I53a33, I54a11, I54a12, I54a13, I54a21, I54a22, I54a23, I54a31, I54a32, I54a33, I55a11, I55a12, I55a13, I55a14, I55a15, I55a16, I55a21, I55a22, I55a23, I55a24, I55a25, I55a26, I55a31, I55a32, I55a33, I55a34, I55a35, I55a36, I55a41, I55a42, I55a43, I55a44, I55a45, I55a46, I55a51, I55a52, I55a53, I55a54, I55a55, I55a56, I55a61, I55a62, I55a63, I55a64, I55a65, I55a66, I56a11, I56a12, I56a13, I56a14, I56a15, I56a16, I56a21, I56a22, I56a23, I56a24, I56a25, I56a26, I56a31, I56a32, I56a33, I56a34, I56a35, I56a36, I56a41, I56a42, I56a43, I56a44, I56a45, I56a46, I56a51, I56a52, I56a53, I56a54, I56a55, I56a56, I56a61, I56a62, I56a63, I56a64, I56a65, I56a66, I57a11, I57a12, I57a13, I57a14, I57a15, I57a16, I57a21, I57a22, I57a23, I57a24, I57a25, I57a26, I57a31, I57a32, I57a33, I57a34, I57a35, I57a36, I57a41, I57a42, I57a43, I57a44, I57a45, I57a46, I57a51, I57a52, I57a53, I57a54, I57a55, I57a56, I57a61, I57a62, I57a63, I57a64, I57a65, I57a66, I58a11, I58a12, I58a13, I58a14, I58a15, I58a16, I58a21, I58a22, I58a23, I58a24, I58a25, I58a26, I58a31, I58a32, I58a33, I58a34, I58a35, I58a36, I58a41, I58a42, I58a43, I58a44, I58a45, I58a46, I58a51, I58a52, I58a53, I58a54, I58a55, I58a56, I58a61, I58a62, I58a63, I58a64, I58a65, I58a66, I6a11, I6a12, I6a13, I6a21, I6a22, I6a23, I6a31, I6a32, I6a33, I7a11, I7a12, I7a13, I7a21, I7a22, I7a23, I7a31, I7a32, I7a33, I8a11, I8a12, I8a13, I8a21, I8a22, I8a23, I8a31, I8a32, I8a33, I9a11, I9a12, I9a13, I9a21, I9a22, I9a23, I9a31, I9a32, I9a33, ZERO, s12, s23, s13, lambda1, lambda2, lambda3, lambda4, rho1, rho2, rho3, rho4, alpha1, alpha2, alpha3, VR63, VR63, VR63, VR63, VR63, VR63, VR63, VR63, VR63, VR63, VR63, VR63, VR63, VR63, VR63, VR63, VR63, VR63, VR63, VR63, VR63, VR63, VR63, VR63, VR63, VR63, VR63, VR63, VR63, VR63, VR63, VR63, VR63, VR63, VR63, VR63, Wl11, Wl22, Wl33, WU11, WU22, WU33, WD11, WD22, WD33, aEWM1, Gf, aS, k1, vR, vL, MZ, MW, Me, Mmu, Mta, MU, MC, MT, MD, MS, MB, MN1, MN2, MN3, MN4, MN5, MN6, WZ, WW, WW2, WZ2, WT, WN4, WN5, WN6, WH, WH01, WH02, WH03, WHP1, WHP2, WHPPL, WHPPR, WA01, WA02, aEW, sw2, cw, gs, vev, MH02, MH03, MA02, yML1x1, yML2x2, yML3x3, yNL1x1, yNL2x2, yNL3x3, yNL4x4, yNL5x5, yNL6x6, yMU1x1, yMU2x2, yMU3x3, yDO1x1, yDO2x2, yDO3x3, CKML1x1, CKML1x2, CKML1x3, CKML2x1, CKML2x2, CKML2x3, CKML3x1, CKML3x2, CKML3x3, Wl1x1, Wl2x2, Wl3x3, WU1x1, WU2x2, WU3x3, WD1x1, WD2x2, WD3x3, KL1x1, KL1x2, KL1x3, KL2x1, KL2x2, KL2x3, KL3x1, KL3x2, KL3x3, KL4x1, KL4x2, KL4x3, KL5x1, KL5x2, KL5x3, KL6x1, KL6x2, KL6x3, KR1x1, KR1x2, KR1x3, KR2x1, KR2x2, KR2x3, KR3x1, KR3x2, KR3x3, KR4x1, KR4x2, KR4x3, KR5x1, KR5x2, KR5x3, KR6x1, KR6x2, KR6x3, CKMR1x1, CKMR1x2, CKMR1x3, CKMR2x1, CKMR2x2, CKMR2x3, CKMR3x1, CKMR3x2, CKMR3x3, sw, ee, k2, eps, sphi, sxi, g1, gw, cphi, cxi, MA01, MH, MH01, MHP1, MHP2, MHPPL, MHPPR, MW2, MZ2, I1a11, I1a12, I1a13, I1a21, I1a22, I1a23, I1a31, I1a32, I1a33, I10a11, I10a12, I10a13, I10a21, I10a22, I10a23, I10a31, I10a32, I10a33, I11a11, I11a12, I11a13, I11a21, I11a22, I11a23, I11a31, I11a32, I11a33, I12a11, I12a12, I12a13, I12a21, I12a22, I12a23, I12a31, I12a32, I12a33, I13a11, I13a12, I13a13, I13a14, I13a15, I13a16, I13a21, I13a22, I13a23, I13a24, I13a25, I13a26, I13a31, I13a32, I13a33, I13a34, I13a35, I13a36, I13a41, I13a42, I13a43, I13a44, I13a45, I13a46, I13a51, I13a52, I13a53, I13a54, I13a55, I13a56, I13a61, I13a62, I13a63, I13a64, I13a65, I13a66, I14a11, I14a12, I14a13, I14a14, I14a15, I14a16, I14a21, I14a22, I14a23, I14a24, I14a25, I14a26, I14a31, I14a32, I14a33, I14a34, I14a35, I14a36, I14a41, I14a42, I14a43, I14a44, I14a45, I14a46, I14a51, I14a52, I14a53, I14a54, I14a55, I14a56, I14a61, I14a62, I14a63, I14a64, I14a65, I14a66, I15a11, I15a12, I15a13, I15a14, I15a15, I15a16, I15a21, I15a22, I15a23, I15a24, I15a25, I15a26, I15a31, I15a32, I15a33, I15a34, I15a35, I15a36, I15a41, I15a42, I15a43, I15a44, I15a45, I15a46, I15a51, I15a52, I15a53, I15a54, I15a55, I15a56, I15a61, I15a62, I15a63, I15a64, I15a65, I15a66, I16a11, I16a12, I16a13, I16a14, I16a15, I16a16, I16a21, I16a22, I16a23, I16a24, I16a25, I16a26, I16a31, I16a32, I16a33, I16a34, I16a35, I16a36, I16a41, I16a42, I16a43, I16a44, I16a45, I16a46, I16a51, I16a52, I16a53, I16a54, I16a55, I16a56, I16a61, I16a62, I16a63, I16a64, I16a65, I16a66, I17a11, I17a12, I17a13, I17a14, I17a15, I17a16, I17a21, I17a22, I17a23, I17a24, I17a25, I17a26, I17a31, I17a32, I17a33, I17a34, I17a35, I17a36, I17a41, I17a42, I17a43, I17a44, I17a45, I17a46, I17a51, I17a52, I17a53, I17a54, I17a55, I17a56, I17a61, I17a62, I17a63, I17a64, I17a65, I17a66, I18a11, I18a12, I18a13, I18a14, I18a15, I18a16, I18a21, I18a22, I18a23, I18a24, I18a25, I18a26, I18a31, I18a32, I18a33, I18a34, I18a35, I18a36, I18a41, I18a42, I18a43, I18a44, I18a45, I18a46, I18a51, I18a52, I18a53, I18a54, I18a55, I18a56, I18a61, I18a62, I18a63, I18a64, I18a65, I18a66, I19a11, I19a12, I19a13, I19a14, I19a15, I19a16, I19a21, I19a22, I19a23, I19a24, I19a25, I19a26, I19a31, I19a32, I19a33, I19a34, I19a35, I19a36, I19a41, I19a42, I19a43, I19a44, I19a45, I19a46, I19a51, I19a52, I19a53, I19a54, I19a55, I19a56, I19a61, I19a62, I19a63, I19a64, I19a65, I19a66, I2a11, I2a12, I2a13, I2a21, I2a22, I2a23, I2a31, I2a32, I2a33, I20a11, I20a12, I20a13, I20a14, I20a15, I20a16, I20a21, I20a22, I20a23, I20a24, I20a25, I20a26, I20a31, I20a32, I20a33, I20a34, I20a35, I20a36, I20a41, I20a42, I20a43, I20a44, I20a45, I20a46, I20a51, I20a52, I20a53, I20a54, I20a55, I20a56, I20a61, I20a62, I20a63, I20a64, I20a65, I20a66, I21a11, I21a12, I21a13, I21a21, I21a22, I21a23, I21a31, I21a32, I21a33, I21a41, I21a42, I21a43, I21a51, I21a52, I21a53, I21a61, I21a62, I21a63, I22a11, I22a12, I22a13, I22a21, I22a22, I22a23, I22a31, I22a32, I22a33, I22a41, I22a42, I22a43, I22a51, I22a52, I22a53, I22a61, I22a62, I22a63, I23a11, I23a12, I23a13, I23a21, I23a22, I23a23, I23a31, I23a32, I23a33, I23a41, I23a42, I23a43, I23a51, I23a52, I23a53, I23a61, I23a62, I23a63, I24a11, I24a12, I24a13, I24a21, I24a22, I24a23, I24a31, I24a32, I24a33, I24a41, I24a42, I24a43, I24a51, I24a52, I24a53, I24a61, I24a62, I24a63, I25a11, I25a12, I25a13, I25a21, I25a22, I25a23, I25a31, I25a32, I25a33, I25a41, I25a42, I25a43, I25a51, I25a52, I25a53, I25a61, I25a62, I25a63, I26a11, I26a12, I26a13, I26a21, I26a22, I26a23, I26a31, I26a32, I26a33, I26a41, I26a42, I26a43, I26a51, I26a52, I26a53, I26a61, I26a62, I26a63, I27a11, I27a12, I27a13, I27a21, I27a22, I27a23, I27a31, I27a32, I27a33, I27a41, I27a42, I27a43, I27a51, I27a52, I27a53, I27a61, I27a62, I27a63, I28a11, I28a12, I28a13, I28a21, I28a22, I28a23, I28a31, I28a32, I28a33, I28a41, I28a42, I28a43, I28a51, I28a52, I28a53, I28a61, I28a62, I28a63, I29a11, I29a12, I29a13, I29a21, I29a22, I29a23, I29a31, I29a32, I29a33, I3a11, I3a12, I3a13, I3a21, I3a22, I3a23, I3a31, I3a32, I3a33, I30a11, I30a12, I30a13, I30a21, I30a22, I30a23, I30a31, I30a32, I30a33, I31a11, I31a12, I31a13, I31a14, I31a15, I31a16, I31a21, I31a22, I31a23, I31a24, I31a25, I31a26, I31a31, I31a32, I31a33, I31a34, I31a35, I31a36, I31a41, I31a42, I31a43, I31a44, I31a45, I31a46, I31a51, I31a52, I31a53, I31a54, I31a55, I31a56, I31a61, I31a62, I31a63, I31a64, I31a65, I31a66, I32a11, I32a12, I32a13, I32a14, I32a15, I32a16, I32a21, I32a22, I32a23, I32a24, I32a25, I32a26, I32a31, I32a32, I32a33, I32a34, I32a35, I32a36, I32a41, I32a42, I32a43, I32a44, I32a45, I32a46, I32a51, I32a52, I32a53, I32a54, I32a55, I32a56, I32a61, I32a62, I32a63, I32a64, I32a65, I32a66, I33a11, I33a12, I33a13, I33a14, I33a15, I33a16, I33a21, I33a22, I33a23, I33a24, I33a25, I33a26, I33a31, I33a32, I33a33, I33a34, I33a35, I33a36, I33a41, I33a42, I33a43, I33a44, I33a45, I33a46, I33a51, I33a52, I33a53, I33a54, I33a55, I33a56, I33a61, I33a62, I33a63, I33a64, I33a65, I33a66, I34a11, I34a12, I34a13, I34a14, I34a15, I34a16, I34a21, I34a22, I34a23, I34a24, I34a25, I34a26, I34a31, I34a32, I34a33, I34a34, I34a35, I34a36, I34a41, I34a42, I34a43, I34a44, I34a45, I34a46, I34a51, I34a52, I34a53, I34a54, I34a55, I34a56, I34a61, I34a62, I34a63, I34a64, I34a65, I34a66, I35a11, I35a12, I35a13, I35a21, I35a22, I35a23, I35a31, I35a32, I35a33, I35a41, I35a42, I35a43, I35a51, I35a52, I35a53, I35a61, I35a62, I35a63, I36a11, I36a12, I36a13, I36a21, I36a22, I36a23, I36a31, I36a32, I36a33, I36a41, I36a42, I36a43, I36a51, I36a52, I36a53, I36a61, I36a62, I36a63, I37a11, I37a12, I37a13, I37a21, I37a22, I37a23, I37a31, I37a32, I37a33, I38a11, I38a12, I38a13, I38a21, I38a22, I38a23, I38a31, I38a32, I38a33, I39a11, I39a12, I39a13, I39a14, I39a15, I39a16, I39a21, I39a22, I39a23, I39a24, I39a25, I39a26, I39a31, I39a32, I39a33, I39a34, I39a35, I39a36, I39a41, I39a42, I39a43, I39a44, I39a45, I39a46, I39a51, I39a52, I39a53, I39a54, I39a55, I39a56, I39a61, I39a62, I39a63, I39a64, I39a65, I39a66, I4a11, I4a12, I4a13, I4a21, I4a22, I4a23, I4a31, I4a32, I4a33, I40a11, I40a12, I40a13, I40a14, I40a15, I40a16, I40a21, I40a22, I40a23, I40a24, I40a25, I40a26, I40a31, I40a32, I40a33, I40a34, I40a35, I40a36, I40a41, I40a42, I40a43, I40a44, I40a45, I40a46, I40a51, I40a52, I40a53, I40a54, I40a55, I40a56, I40a61, I40a62, I40a63, I40a64, I40a65, I40a66, I41a11, I41a12, I41a13, I41a14, I41a15, I41a16, I41a21, I41a22, I41a23, I41a24, I41a25, I41a26, I41a31, I41a32, I41a33, I41a34, I41a35, I41a36, I41a41, I41a42, I41a43, I41a44, I41a45, I41a46, I41a51, I41a52, I41a53, I41a54, I41a55, I41a56, I41a61, I41a62, I41a63, I41a64, I41a65, I41a66, I42a11, I42a12, I42a13, I42a14, I42a15, I42a16, I42a21, I42a22, I42a23, I42a24, I42a25, I42a26, I42a31, I42a32, I42a33, I42a34, I42a35, I42a36, I42a41, I42a42, I42a43, I42a44, I42a45, I42a46, I42a51, I42a52, I42a53, I42a54, I42a55, I42a56, I42a61, I42a62, I42a63, I42a64, I42a65, I42a66, I43a11, I43a12, I43a13, I43a21, I43a22, I43a23, I43a31, I43a32, I43a33, I43a41, I43a42, I43a43, I43a51, I43a52, I43a53, I43a61, I43a62, I43a63, I44a11, I44a12, I44a13, I44a21, I44a22, I44a23, I44a31, I44a32, I44a33, I44a41, I44a42, I44a43, I44a51, I44a52, I44a53, I44a61, I44a62, I44a63, I45a11, I45a12, I45a13, I45a21, I45a22, I45a23, I45a31, I45a32, I45a33, I46a11, I46a12, I46a13, I46a21, I46a22, I46a23, I46a31, I46a32, I46a33, I47a11, I47a12, I47a13, I47a21, I47a22, I47a23, I47a31, I47a32, I47a33, I47a41, I47a42, I47a43, I47a51, I47a52, I47a53, I47a61, I47a62, I47a63, I48a11, I48a12, I48a13, I48a21, I48a22, I48a23, I48a31, I48a32, I48a33, I48a41, I48a42, I48a43, I48a51, I48a52, I48a53, I48a61, I48a62, I48a63, I49a11, I49a12, I49a13, I49a21, I49a22, I49a23, I49a31, I49a32, I49a33, I5a11, I5a12, I5a13, I5a21, I5a22, I5a23, I5a31, I5a32, I5a33, I50a11, I50a12, I50a13, I50a21, I50a22, I50a23, I50a31, I50a32, I50a33, I51a11, I51a12, I51a13, I51a21, I51a22, I51a23, I51a31, I51a32, I51a33, I51a41, I51a42, I51a43, I51a51, I51a52, I51a53, I51a61, I51a62, I51a63, I52a11, I52a12, I52a13, I52a21, I52a22, I52a23, I52a31, I52a32, I52a33, I52a41, I52a42, I52a43, I52a51, I52a52, I52a53, I52a61, I52a62, I52a63, I53a11, I53a12, I53a13, I53a21, I53a22, I53a23, I53a31, I53a32, I53a33, I54a11, I54a12, I54a13, I54a21, I54a22, I54a23, I54a31, I54a32, I54a33, I55a11, I55a12, I55a13, I55a14, I55a15, I55a16, I55a21, I55a22, I55a23, I55a24, I55a25, I55a26, I55a31, I55a32, I55a33, I55a34, I55a35, I55a36, I55a41, I55a42, I55a43, I55a44, I55a45, I55a46, I55a51, I55a52, I55a53, I55a54, I55a55, I55a56, I55a61, I55a62, I55a63, I55a64, I55a65, I55a66, I56a11, I56a12, I56a13, I56a14, I56a15, I56a16, I56a21, I56a22, I56a23, I56a24, I56a25, I56a26, I56a31, I56a32, I56a33, I56a34, I56a35, I56a36, I56a41, I56a42, I56a43, I56a44, I56a45, I56a46, I56a51, I56a52, I56a53, I56a54, I56a55, I56a56, I56a61, I56a62, I56a63, I56a64, I56a65, I56a66, I57a11, I57a12, I57a13, I57a14, I57a15, I57a16, I57a21, I57a22, I57a23, I57a24, I57a25, I57a26, I57a31, I57a32, I57a33, I57a34, I57a35, I57a36, I57a41, I57a42, I57a43, I57a44, I57a45, I57a46, I57a51, I57a52, I57a53, I57a54, I57a55, I57a56, I57a61, I57a62, I57a63, I57a64, I57a65, I57a66, I58a11, I58a12, I58a13, I58a14, I58a15, I58a16, I58a21, I58a22, I58a23, I58a24, I58a25, I58a26, I58a31, I58a32, I58a33, I58a34, I58a35, I58a36, I58a41, I58a42, I58a43, I58a44, I58a45, I58a46, I58a51, I58a52, I58a53, I58a54, I58a55, I58a56, I58a61, I58a62, I58a63, I58a64, I58a65, I58a66, I6a11, I6a12, I6a13, I6a21, I6a22, I6a23, I6a31, I6a32, I6a33, I7a11, I7a12, I7a13, I7a21, I7a22, I7a23, I7a31, I7a32, I7a33, I8a11, I8a12, I8a13, I8a21, I8a22, I8a23, I8a31, I8a32, I8a33, I9a11, I9a12, I9a13, I9a21, I9a22, I9a23, I9a31, I9a32, I9a33], 'Parameter': <class 'object_library.Parameter'>, 'complexconjugate': <object_library.Function object at 0x000001D041BB6690>, 're': <object_library.Function object at 0x000001D041394110>, 'im': <object_library.Function object at 0x000001D041395350>, 'csc': <object_library.Function object at 0x000001D041BB6790>, 'sec': <object_library.Function object at 0x000001D041BB66D0>, 'acsc': <object_library.Function object at 0x000001D041BB67D0>, 'asec': <object_library.Function object at 0x000001D041BB6710>, 'cot': <object_library.Function object at 0x000001D041BB6810>, 'ZERO': ZERO, 's12': s12, 's23': s23, 's13': s13, 'lambda1': lambda1, 'lambda2': lambda2, 'lambda3': lambda3, 'lambda4': lambda4, 'rho1': rho1, 'rho2': rho2, 'rho3': rho3, 'rho4': rho4, 'alpha1': alpha1, 'alpha2': alpha2, 'alpha3': alpha3, 'VR63': VR63, 'Wl11': Wl11, 'Wl22': Wl22, 'Wl33': Wl33, 'WU11': WU11, 'WU22': WU22, 'WU33': WU33, 'WD11': WD11, 'WD22': WD22, 'WD33': WD33, 'aEWM1': aEWM1, 'Gf': Gf, 'aS': aS, 'k1': k1, 'vR': vR, 'vL': vL, 'MZ': MZ, 'MW': MW, 'Me': Me, 'Mmu': Mmu, 'Mta': Mta, 'MU': MU, 'MC': MC, 'MT': MT, 'MD': MD, 'MS': MS, 'MB': MB, 'MN1': MN1, 'MN2': MN2, 'MN3': MN3, 'MN4': MN4, 'MN5': MN5, 'MN6': MN6, 'WZ': WZ, 'WW': WW, 'WW2': WW2, 'WZ2': WZ2, 'WT': WT, 'WN4': WN4, 'WN5': WN5, 'WN6': WN6, 'WH': WH, 'WH01': WH01, 'WH02': WH02, 'WH03': WH03, 'WHP1': WHP1, 'WHP2': WHP2, 'WHPPL': WHPPL, 'WHPPR': WHPPR, 'WA01': WA01, 'WA02': WA02, 'aEW': aEW, 'sw2': sw2, 'cw': cw, 'gs': gs, 'vev': vev, 'MH02': MH02, 'MH03': MH03, 'MA02': MA02, 'yML1x1': yML1x1, 'yML2x2': yML2x2, 'yML3x3': yML3x3, 'yNL1x1': yNL1x1, 'yNL2x2': yNL2x2, 'yNL3x3': yNL3x3, 'yNL4x4': yNL4x4, 'yNL5x5': yNL5x5, 'yNL6x6': yNL6x6, 'yMU1x1': yMU1x1, 'yMU2x2': yMU2x2, 'yMU3x3': yMU3x3, 'yDO1x1': yDO1x1, 'yDO2x2': yDO2x2, 'yDO3x3': yDO3x3, 'CKML1x1': CKML1x1, 'CKML1x2': CKML1x2, 'CKML1x3': CKML1x3, 'CKML2x1': CKML2x1, 'CKML2x2': CKML2x2, 'CKML2x3': CKML2x3, 'CKML3x1': CKML3x1, 'CKML3x2': CKML3x2, 'CKML3x3': CKML3x3, 'Wl1x1': Wl1x1, 'Wl2x2': Wl2x2, 'Wl3x3': Wl3x3, 'WU1x1': WU1x1, 'WU2x2': WU2x2, 'WU3x3': WU3x3, 'WD1x1': WD1x1, 'WD2x2': WD2x2, 'WD3x3': WD3x3, 'KL1x1': KL1x1, 'KL1x2': KL1x2, 'KL1x3': KL1x3, 'KL2x1': KL2x1, 'KL2x2': KL2x2, 'KL2x3': KL2x3, 'KL3x1': KL3x1, 'KL3x2': KL3x2, 'KL3x3': KL3x3, 'KL4x1': KL4x1, 'KL4x2': KL4x2, 'KL4x3': KL4x3, 'KL5x1': KL5x1, 'KL5x2': KL5x2, 'KL5x3': KL5x3, 'KL6x1': KL6x1, 'KL6x2': KL6x2, 'KL6x3': KL6x3, 'KR1x1': KR1x1, 'KR1x2': KR1x2, 'KR1x3': KR1x3, 'KR2x1': KR2x1, 'KR2x2': KR2x2, 'KR2x3': KR2x3, 'KR3x1': KR3x1, 'KR3x2': KR3x2, 'KR3x3': KR3x3, 'KR4x1': KR4x1, 'KR4x2': KR4x2, 'KR4x3': KR4x3, 'KR5x1': KR5x1, 'KR5x2': KR5x2, 'KR5x3': KR5x3, 'KR6x1': KR6x1, 'KR6x2': KR6x2, 'KR6x3': KR6x3, 'CKMR1x1': CKMR1x1, 'CKMR1x2': CKMR1x2, 'CKMR1x3': CKMR1x3, 'CKMR2x1': CKMR2x1, 'CKMR2x2': CKMR2x2, 'CKMR2x3': CKMR2x3, 'CKMR3x1': CKMR3x1, 'CKMR3x2': CKMR3x2, 'CKMR3x3': CKMR3x3, 'sw': sw, 'ee': ee, 'k2': k2, 'eps': eps, 'sphi': sphi, 'sxi': sxi, 'g1': g1, 'gw': gw, 'cphi': cphi, 'cxi': cxi, 'MA01': MA01, 'MH': MH, 'MH01': MH01, 'MHP1': MHP1, 'MHP2': MHP2, 'MHPPL': MHPPL, 'MHPPR': MHPPR, 'MW2': MW2, 'MZ2': MZ2, 'I1a11': I1a11, 'I1a12': I1a12, 'I1a13': I1a13, 'I1a21': I1a21, 'I1a22': I1a22, 'I1a23': I1a23, 'I1a31': I1a31, 'I1a32': I1a32, 'I1a33': I1a33, 'I10a11': I10a11, 'I10a12': I10a12, 'I10a13': I10a13, 'I10a21': I10a21, 'I10a22': I10a22, 'I10a23': I10a23, 'I10a31': I10a31, 'I10a32': I10a32, 'I10a33': I10a33, 'I11a11': I11a11, 'I11a12': I11a12, 'I11a13': I11a13, 'I11a21': I11a21, 'I11a22': I11a22, 'I11a23': I11a23, 'I11a31': I11a31, 'I11a32': I11a32, 'I11a33': I11a33, 'I12a11': I12a11, 'I12a12': I12a12, 'I12a13': I12a13, 'I12a21': I12a21, 'I12a22': I12a22, 'I12a23': I12a23, 'I12a31': I12a31, 'I12a32': I12a32, 'I12a33': I12a33, 'I13a11': I13a11, 'I13a12': I13a12, 'I13a13': I13a13, 'I13a14': I13a14, 'I13a15': I13a15, 'I13a16': I13a16, 'I13a21': I13a21, 'I13a22': I13a22, 'I13a23': I13a23, 'I13a24': I13a24, 'I13a25': I13a25, 'I13a26': I13a26, 'I13a31': I13a31, 'I13a32': I13a32, 'I13a33': I13a33, 'I13a34': I13a34, 'I13a35': I13a35, 'I13a36': I13a36, 'I13a41': I13a41, 'I13a42': I13a42, 'I13a43': I13a43, 'I13a44': I13a44, 'I13a45': I13a45, 'I13a46': I13a46, 'I13a51': I13a51, 'I13a52': I13a52, 'I13a53': I13a53, 'I13a54': I13a54, 'I13a55': I13a55, 'I13a56': I13a56, 'I13a61': I13a61, 'I13a62': I13a62, 'I13a63': I13a63, 'I13a64': I13a64, 'I13a65': I13a65, 'I13a66': I13a66, 'I14a11': I14a11, 'I14a12': I14a12, 'I14a13': I14a13, 'I14a14': I14a14, 'I14a15': I14a15, 'I14a16': I14a16, 'I14a21': I14a21, 'I14a22': I14a22, 'I14a23': I14a23, 'I14a24': I14a24, 'I14a25': I14a25, 'I14a26': I14a26, 'I14a31': I14a31, 'I14a32': I14a32, 'I14a33': I14a33, 'I14a34': I14a34, 'I14a35': I14a35, 'I14a36': I14a36, 'I14a41': I14a41, 'I14a42': I14a42, 'I14a43': I14a43, 'I14a44': I14a44, 'I14a45': I14a45, 'I14a46': I14a46, 'I14a51': I14a51, 'I14a52': I14a52, 'I14a53': I14a53, 'I14a54': I14a54, 'I14a55': I14a55, 'I14a56': I14a56, 'I14a61': I14a61, 'I14a62': I14a62, 'I14a63': I14a63, 'I14a64': I14a64, 'I14a65': I14a65, 'I14a66': I14a66, 'I15a11': I15a11, 'I15a12': I15a12, 'I15a13': I15a13, 'I15a14': I15a14, 'I15a15': I15a15, 'I15a16': I15a16, 'I15a21': I15a21, 'I15a22': I15a22, 'I15a23': I15a23, 'I15a24': I15a24, 'I15a25': I15a25, 'I15a26': I15a26, 'I15a31': I15a31, 'I15a32': I15a32, 'I15a33': I15a33, 'I15a34': I15a34, 'I15a35': I15a35, 'I15a36': I15a36, 'I15a41': I15a41, 'I15a42': I15a42, 'I15a43': I15a43, 'I15a44': I15a44, 'I15a45': I15a45, 'I15a46': I15a46, 'I15a51': I15a51, 'I15a52': I15a52, 'I15a53': I15a53, 'I15a54': I15a54, 'I15a55': I15a55, 'I15a56': I15a56, 'I15a61': I15a61, 'I15a62': I15a62, 'I15a63': I15a63, 'I15a64': I15a64, 'I15a65': I15a65, 'I15a66': I15a66, 'I16a11': I16a11, 'I16a12': I16a12, 'I16a13': I16a13, 'I16a14': I16a14, 'I16a15': I16a15, 'I16a16': I16a16, 'I16a21': I16a21, 'I16a22': I16a22, 'I16a23': I16a23, 'I16a24': I16a24, 'I16a25': I16a25, 'I16a26': I16a26, 'I16a31': I16a31, 'I16a32': I16a32, 'I16a33': I16a33, 'I16a34': I16a34, 'I16a35': I16a35, 'I16a36': I16a36, 'I16a41': I16a41, 'I16a42': I16a42, 'I16a43': I16a43, 'I16a44': I16a44, 'I16a45': I16a45, 'I16a46': I16a46, 'I16a51': I16a51, 'I16a52': I16a52, 'I16a53': I16a53, 'I16a54': I16a54, 'I16a55': I16a55, 'I16a56': I16a56, 'I16a61': I16a61, 'I16a62': I16a62, 'I16a63': I16a63, 'I16a64': I16a64, 'I16a65': I16a65, 'I16a66': I16a66, 'I17a11': I17a11, 'I17a12': I17a12, 'I17a13': I17a13, 'I17a14': I17a14, 'I17a15': I17a15, 'I17a16': I17a16, 'I17a21': I17a21, 'I17a22': I17a22, 'I17a23': I17a23, 'I17a24': I17a24, 'I17a25': I17a25, 'I17a26': I17a26, 'I17a31': I17a31, 'I17a32': I17a32, 'I17a33': I17a33, 'I17a34': I17a34, 'I17a35': I17a35, 'I17a36': I17a36, 'I17a41': I17a41, 'I17a42': I17a42, 'I17a43': I17a43, 'I17a44': I17a44, 'I17a45': I17a45, 'I17a46': I17a46, 'I17a51': I17a51, 'I17a52': I17a52, 'I17a53': I17a53, 'I17a54': I17a54, 'I17a55': I17a55, 'I17a56': I17a56, 'I17a61': I17a61, 'I17a62': I17a62, 'I17a63': I17a63, 'I17a64': I17a64, 'I17a65': I17a65, 'I17a66': I17a66, 'I18a11': I18a11, 'I18a12': I18a12, 'I18a13': I18a13, 'I18a14': I18a14, 'I18a15': I18a15, 'I18a16': I18a16, 'I18a21': I18a21, 'I18a22': I18a22, 'I18a23': I18a23, 'I18a24': I18a24, 'I18a25': I18a25, 'I18a26': I18a26, 'I18a31': I18a31, 'I18a32': I18a32, 'I18a33': I18a33, 'I18a34': I18a34, 'I18a35': I18a35, 'I18a36': I18a36, 'I18a41': I18a41, 'I18a42': I18a42, 'I18a43': I18a43, 'I18a44': I18a44, 'I18a45': I18a45, 'I18a46': I18a46, 'I18a51': I18a51, 'I18a52': I18a52, 'I18a53': I18a53, 'I18a54': I18a54, 'I18a55': I18a55, 'I18a56': I18a56, 'I18a61': I18a61, 'I18a62': I18a62, 'I18a63': I18a63, 'I18a64': I18a64, 'I18a65': I18a65, 'I18a66': I18a66, 'I19a11': I19a11, 'I19a12': I19a12, 'I19a13': I19a13, 'I19a14': I19a14, 'I19a15': I19a15, 'I19a16': I19a16, 'I19a21': I19a21, 'I19a22': I19a22, 'I19a23': I19a23, 'I19a24': I19a24, 'I19a25': I19a25, 'I19a26': I19a26, 'I19a31': I19a31, 'I19a32': I19a32, 'I19a33': I19a33, 'I19a34': I19a34, 'I19a35': I19a35, 'I19a36': I19a36, 'I19a41': I19a41, 'I19a42': I19a42, 'I19a43': I19a43, 'I19a44': I19a44, 'I19a45': I19a45, 'I19a46': I19a46, 'I19a51': I19a51, 'I19a52': I19a52, 'I19a53': I19a53, 'I19a54': I19a54, 'I19a55': I19a55, 'I19a56': I19a56, 'I19a61': I19a61, 'I19a62': I19a62, 'I19a63': I19a63, 'I19a64': I19a64, 'I19a65': I19a65, 'I19a66': I19a66, 'I2a11': I2a11, 'I2a12': I2a12, 'I2a13': I2a13, 'I2a21': I2a21, 'I2a22': I2a22, 'I2a23': I2a23, 'I2a31': I2a31, 'I2a32': I2a32, 'I2a33': I2a33, 'I20a11': I20a11, 'I20a12': I20a12, 'I20a13': I20a13, 'I20a14': I20a14, 'I20a15': I20a15, 'I20a16': I20a16, 'I20a21': I20a21, 'I20a22': I20a22, 'I20a23': I20a23, 'I20a24': I20a24, 'I20a25': I20a25, 'I20a26': I20a26, 'I20a31': I20a31, 'I20a32': I20a32, 'I20a33': I20a33, 'I20a34': I20a34, 'I20a35': I20a35, 'I20a36': I20a36, 'I20a41': I20a41, 'I20a42': I20a42, 'I20a43': I20a43, 'I20a44': I20a44, 'I20a45': I20a45, 'I20a46': I20a46, 'I20a51': I20a51, 'I20a52': I20a52, 'I20a53': I20a53, 'I20a54': I20a54, 'I20a55': I20a55, 'I20a56': I20a56, 'I20a61': I20a61, 'I20a62': I20a62, 'I20a63': I20a63, 'I20a64': I20a64, 'I20a65': I20a65, 'I20a66': I20a66, 'I21a11': I21a11, 'I21a12': I21a12, 'I21a13': I21a13, 'I21a21': I21a21, 'I21a22': I21a22, 'I21a23': I21a23, 'I21a31': I21a31, 'I21a32': I21a32, 'I21a33': I21a33, 'I21a41': I21a41, 'I21a42': I21a42, 'I21a43': I21a43, 'I21a51': I21a51, 'I21a52': I21a52, 'I21a53': I21a53, 'I21a61': I21a61, 'I21a62': I21a62, 'I21a63': I21a63, 'I22a11': I22a11, 'I22a12': I22a12, 'I22a13': I22a13, 'I22a21': I22a21, 'I22a22': I22a22, 'I22a23': I22a23, 'I22a31': I22a31, 'I22a32': I22a32, 'I22a33': I22a33, 'I22a41': I22a41, 'I22a42': I22a42, 'I22a43': I22a43, 'I22a51': I22a51, 'I22a52': I22a52, 'I22a53': I22a53, 'I22a61': I22a61, 'I22a62': I22a62, 'I22a63': I22a63, 'I23a11': I23a11, 'I23a12': I23a12, 'I23a13': I23a13, 'I23a21': I23a21, 'I23a22': I23a22, 'I23a23': I23a23, 'I23a31': I23a31, 'I23a32': I23a32, 'I23a33': I23a33, 'I23a41': I23a41, 'I23a42': I23a42, 'I23a43': I23a43, 'I23a51': I23a51, 'I23a52': I23a52, 'I23a53': I23a53, 'I23a61': I23a61, 'I23a62': I23a62, 'I23a63': I23a63, 'I24a11': I24a11, 'I24a12': I24a12, 'I24a13': I24a13, 'I24a21': I24a21, 'I24a22': I24a22, 'I24a23': I24a23, 'I24a31': I24a31, 'I24a32': I24a32, 'I24a33': I24a33, 'I24a41': I24a41, 'I24a42': I24a42, 'I24a43': I24a43, 'I24a51': I24a51, 'I24a52': I24a52, 'I24a53': I24a53, 'I24a61': I24a61, 'I24a62': I24a62, 'I24a63': I24a63, 'I25a11': I25a11, 'I25a12': I25a12, 'I25a13': I25a13, 'I25a21': I25a21, 'I25a22': I25a22, 'I25a23': I25a23, 'I25a31': I25a31, 'I25a32': I25a32, 'I25a33': I25a33, 'I25a41': I25a41, 'I25a42': I25a42, 'I25a43': I25a43, 'I25a51': I25a51, 'I25a52': I25a52, 'I25a53': I25a53, 'I25a61': I25a61, 'I25a62': I25a62, 'I25a63': I25a63, 'I26a11': I26a11, 'I26a12': I26a12, 'I26a13': I26a13, 'I26a21': I26a21, 'I26a22': I26a22, 'I26a23': I26a23, 'I26a31': I26a31, 'I26a32': I26a32, 'I26a33': I26a33, 'I26a41': I26a41, 'I26a42': I26a42, 'I26a43': I26a43, 'I26a51': I26a51, 'I26a52': I26a52, 'I26a53': I26a53, 'I26a61': I26a61, 'I26a62': I26a62, 'I26a63': I26a63, 'I27a11': I27a11, 'I27a12': I27a12, 'I27a13': I27a13, 'I27a21': I27a21, 'I27a22': I27a22, 'I27a23': I27a23, 'I27a31': I27a31, 'I27a32': I27a32, 'I27a33': I27a33, 'I27a41': I27a41, 'I27a42': I27a42, 'I27a43': I27a43, 'I27a51': I27a51, 'I27a52': I27a52, 'I27a53': I27a53, 'I27a61': I27a61, 'I27a62': I27a62, 'I27a63': I27a63, 'I28a11': I28a11, 'I28a12': I28a12, 'I28a13': I28a13, 'I28a21': I28a21, 'I28a22': I28a22, 'I28a23': I28a23, 'I28a31': I28a31, 'I28a32': I28a32, 'I28a33': I28a33, 'I28a41': I28a41, 'I28a42': I28a42, 'I28a43': I28a43, 'I28a51': I28a51, 'I28a52': I28a52, 'I28a53': I28a53, 'I28a61': I28a61, 'I28a62': I28a62, 'I28a63': I28a63, 'I29a11': I29a11, 'I29a12': I29a12, 'I29a13': I29a13, 'I29a21': I29a21, 'I29a22': I29a22, 'I29a23': I29a23, 'I29a31': I29a31, 'I29a32': I29a32, 'I29a33': I29a33, 'I3a11': I3a11, 'I3a12': I3a12, 'I3a13': I3a13, 'I3a21': I3a21, 'I3a22': I3a22, 'I3a23': I3a23, 'I3a31': I3a31, 'I3a32': I3a32, 'I3a33': I3a33, 'I30a11': I30a11, 'I30a12': I30a12, 'I30a13': I30a13, 'I30a21': I30a21, 'I30a22': I30a22, 'I30a23': I30a23, 'I30a31': I30a31, 'I30a32': I30a32, 'I30a33': I30a33, 'I31a11': I31a11, 'I31a12': I31a12, 'I31a13': I31a13, 'I31a14': I31a14, 'I31a15': I31a15, 'I31a16': I31a16, 'I31a21': I31a21, 'I31a22': I31a22, 'I31a23': I31a23, 'I31a24': I31a24, 'I31a25': I31a25, 'I31a26': I31a26, 'I31a31': I31a31, 'I31a32': I31a32, 'I31a33': I31a33, 'I31a34': I31a34, 'I31a35': I31a35, 'I31a36': I31a36, 'I31a41': I31a41, 'I31a42': I31a42, 'I31a43': I31a43, 'I31a44': I31a44, 'I31a45': I31a45, 'I31a46': I31a46, 'I31a51': I31a51, 'I31a52': I31a52, 'I31a53': I31a53, 'I31a54': I31a54, 'I31a55': I31a55, 'I31a56': I31a56, 'I31a61': I31a61, 'I31a62': I31a62, 'I31a63': I31a63, 'I31a64': I31a64, 'I31a65': I31a65, 'I31a66': I31a66, 'I32a11': I32a11, 'I32a12': I32a12, 'I32a13': I32a13, 'I32a14': I32a14, 'I32a15': I32a15, 'I32a16': I32a16, 'I32a21': I32a21, 'I32a22': I32a22, 'I32a23': I32a23, 'I32a24': I32a24, 'I32a25': I32a25, 'I32a26': I32a26, 'I32a31': I32a31, 'I32a32': I32a32, 'I32a33': I32a33, 'I32a34': I32a34, 'I32a35': I32a35, 'I32a36': I32a36, 'I32a41': I32a41, 'I32a42': I32a42, 'I32a43': I32a43, 'I32a44': I32a44, 'I32a45': I32a45, 'I32a46': I32a46, 'I32a51': I32a51, 'I32a52': I32a52, 'I32a53': I32a53, 'I32a54': I32a54, 'I32a55': I32a55, 'I32a56': I32a56, 'I32a61': I32a61, 'I32a62': I32a62, 'I32a63': I32a63, 'I32a64': I32a64, 'I32a65': I32a65, 'I32a66': I32a66, 'I33a11': I33a11, 'I33a12': I33a12, 'I33a13': I33a13, 'I33a14': I33a14, 'I33a15': I33a15, 'I33a16': I33a16, 'I33a21': I33a21, 'I33a22': I33a22, 'I33a23': I33a23, 'I33a24': I33a24, 'I33a25': I33a25, 'I33a26': I33a26, 'I33a31': I33a31, 'I33a32': I33a32, 'I33a33': I33a33, 'I33a34': I33a34, 'I33a35': I33a35, 'I33a36': I33a36, 'I33a41': I33a41, 'I33a42': I33a42, 'I33a43': I33a43, 'I33a44': I33a44, 'I33a45': I33a45, 'I33a46': I33a46, 'I33a51': I33a51, 'I33a52': I33a52, 'I33a53': I33a53, 'I33a54': I33a54, 'I33a55': I33a55, 'I33a56': I33a56, 'I33a61': I33a61, 'I33a62': I33a62, 'I33a63': I33a63, 'I33a64': I33a64, 'I33a65': I33a65, 'I33a66': I33a66, 'I34a11': I34a11, 'I34a12': I34a12, 'I34a13': I34a13, 'I34a14': I34a14, 'I34a15': I34a15, 'I34a16': I34a16, 'I34a21': I34a21, 'I34a22': I34a22, 'I34a23': I34a23, 'I34a24': I34a24, 'I34a25': I34a25, 'I34a26': I34a26, 'I34a31': I34a31, 'I34a32': I34a32, 'I34a33': I34a33, 'I34a34': I34a34, 'I34a35': I34a35, 'I34a36': I34a36, 'I34a41': I34a41, 'I34a42': I34a42, 'I34a43': I34a43, 'I34a44': I34a44, 'I34a45': I34a45, 'I34a46': I34a46, 'I34a51': I34a51, 'I34a52': I34a52, 'I34a53': I34a53, 'I34a54': I34a54, 'I34a55': I34a55, 'I34a56': I34a56, 'I34a61': I34a61, 'I34a62': I34a62, 'I34a63': I34a63, 'I34a64': I34a64, 'I34a65': I34a65, 'I34a66': I34a66, 'I35a11': I35a11, 'I35a12': I35a12, 'I35a13': I35a13, 'I35a21': I35a21, 'I35a22': I35a22, 'I35a23': I35a23, 'I35a31': I35a31, 'I35a32': I35a32, 'I35a33': I35a33, 'I35a41': I35a41, 'I35a42': I35a42, 'I35a43': I35a43, 'I35a51': I35a51, 'I35a52': I35a52, 'I35a53': I35a53, 'I35a61': I35a61, 'I35a62': I35a62, 'I35a63': I35a63, 'I36a11': I36a11, 'I36a12': I36a12, 'I36a13': I36a13, 'I36a21': I36a21, 'I36a22': I36a22, 'I36a23': I36a23, 'I36a31': I36a31, 'I36a32': I36a32, 'I36a33': I36a33, 'I36a41': I36a41, 'I36a42': I36a42, 'I36a43': I36a43, 'I36a51': I36a51, 'I36a52': I36a52, 'I36a53': I36a53, 'I36a61': I36a61, 'I36a62': I36a62, 'I36a63': I36a63, 'I37a11': I37a11, 'I37a12': I37a12, 'I37a13': I37a13, 'I37a21': I37a21, 'I37a22': I37a22, 'I37a23': I37a23, 'I37a31': I37a31, 'I37a32': I37a32, 'I37a33': I37a33, 'I38a11': I38a11, 'I38a12': I38a12, 'I38a13': I38a13, 'I38a21': I38a21, 'I38a22': I38a22, 'I38a23': I38a23, 'I38a31': I38a31, 'I38a32': I38a32, 'I38a33': I38a33, 'I39a11': I39a11, 'I39a12': I39a12, 'I39a13': I39a13, 'I39a14': I39a14, 'I39a15': I39a15, 'I39a16': I39a16, 'I39a21': I39a21, 'I39a22': I39a22, 'I39a23': I39a23, 'I39a24': I39a24, 'I39a25': I39a25, 'I39a26': I39a26, 'I39a31': I39a31, 'I39a32': I39a32, 'I39a33': I39a33, 'I39a34': I39a34, 'I39a35': I39a35, 'I39a36': I39a36, 'I39a41': I39a41, 'I39a42': I39a42, 'I39a43': I39a43, 'I39a44': I39a44, 'I39a45': I39a45, 'I39a46': I39a46, 'I39a51': I39a51, 'I39a52': I39a52, 'I39a53': I39a53, 'I39a54': I39a54, 'I39a55': I39a55, 'I39a56': I39a56, 'I39a61': I39a61, 'I39a62': I39a62, 'I39a63': I39a63, 'I39a64': I39a64, 'I39a65': I39a65, 'I39a66': I39a66, 'I4a11': I4a11, 'I4a12': I4a12, 'I4a13': I4a13, 'I4a21': I4a21, 'I4a22': I4a22, 'I4a23': I4a23, 'I4a31': I4a31, 'I4a32': I4a32, 'I4a33': I4a33, 'I40a11': I40a11, 'I40a12': I40a12, 'I40a13': I40a13, 'I40a14': I40a14, 'I40a15': I40a15, 'I40a16': I40a16, 'I40a21': I40a21, 'I40a22': I40a22, 'I40a23': I40a23, 'I40a24': I40a24, 'I40a25': I40a25, 'I40a26': I40a26, 'I40a31': I40a31, 'I40a32': I40a32, 'I40a33': I40a33, 'I40a34': I40a34, 'I40a35': I40a35, 'I40a36': I40a36, 'I40a41': I40a41, 'I40a42': I40a42, 'I40a43': I40a43, 'I40a44': I40a44, 'I40a45': I40a45, 'I40a46': I40a46, 'I40a51': I40a51, 'I40a52': I40a52, 'I40a53': I40a53, 'I40a54': I40a54, 'I40a55': I40a55, 'I40a56': I40a56, 'I40a61': I40a61, 'I40a62': I40a62, 'I40a63': I40a63, 'I40a64': I40a64, 'I40a65': I40a65, 'I40a66': I40a66, 'I41a11': I41a11, 'I41a12': I41a12, 'I41a13': I41a13, 'I41a14': I41a14, 'I41a15': I41a15, 'I41a16': I41a16, 'I41a21': I41a21, 'I41a22': I41a22, 'I41a23': I41a23, 'I41a24': I41a24, 'I41a25': I41a25, 'I41a26': I41a26, 'I41a31': I41a31, 'I41a32': I41a32, 'I41a33': I41a33, 'I41a34': I41a34, 'I41a35': I41a35, 'I41a36': I41a36, 'I41a41': I41a41, 'I41a42': I41a42, 'I41a43': I41a43, 'I41a44': I41a44, 'I41a45': I41a45, 'I41a46': I41a46, 'I41a51': I41a51, 'I41a52': I41a52, 'I41a53': I41a53, 'I41a54': I41a54, 'I41a55': I41a55, 'I41a56': I41a56, 'I41a61': I41a61, 'I41a62': I41a62, 'I41a63': I41a63, 'I41a64': I41a64, 'I41a65': I41a65, 'I41a66': I41a66, 'I42a11': I42a11, 'I42a12': I42a12, 'I42a13': I42a13, 'I42a14': I42a14, 'I42a15': I42a15, 'I42a16': I42a16, 'I42a21': I42a21, 'I42a22': I42a22, 'I42a23': I42a23, 'I42a24': I42a24, 'I42a25': I42a25, 'I42a26': I42a26, 'I42a31': I42a31, 'I42a32': I42a32, 'I42a33': I42a33, 'I42a34': I42a34, 'I42a35': I42a35, 'I42a36': I42a36, 'I42a41': I42a41, 'I42a42': I42a42, 'I42a43': I42a43, 'I42a44': I42a44, 'I42a45': I42a45, 'I42a46': I42a46, 'I42a51': I42a51, 'I42a52': I42a52, 'I42a53': I42a53, 'I42a54': I42a54, 'I42a55': I42a55, 'I42a56': I42a56, 'I42a61': I42a61, 'I42a62': I42a62, 'I42a63': I42a63, 'I42a64': I42a64, 'I42a65': I42a65, 'I42a66': I42a66, 'I43a11': I43a11, 'I43a12': I43a12, 'I43a13': I43a13, 'I43a21': I43a21, 'I43a22': I43a22, 'I43a23': I43a23, 'I43a31': I43a31, 'I43a32': I43a32, 'I43a33': I43a33, 'I43a41': I43a41, 'I43a42': I43a42, 'I43a43': I43a43, 'I43a51': I43a51, 'I43a52': I43a52, 'I43a53': I43a53, 'I43a61': I43a61, 'I43a62': I43a62, 'I43a63': I43a63, 'I44a11': I44a11, 'I44a12': I44a12, 'I44a13': I44a13, 'I44a21': I44a21, 'I44a22': I44a22, 'I44a23': I44a23, 'I44a31': I44a31, 'I44a32': I44a32, 'I44a33': I44a33, 'I44a41': I44a41, 'I44a42': I44a42, 'I44a43': I44a43, 'I44a51': I44a51, 'I44a52': I44a52, 'I44a53': I44a53, 'I44a61': I44a61, 'I44a62': I44a62, 'I44a63': I44a63, 'I45a11': I45a11, 'I45a12': I45a12, 'I45a13': I45a13, 'I45a21': I45a21, 'I45a22': I45a22, 'I45a23': I45a23, 'I45a31': I45a31, 'I45a32': I45a32, 'I45a33': I45a33, 'I46a11': I46a11, 'I46a12': I46a12, 'I46a13': I46a13, 'I46a21': I46a21, 'I46a22': I46a22, 'I46a23': I46a23, 'I46a31': I46a31, 'I46a32': I46a32, 'I46a33': I46a33, 'I47a11': I47a11, 'I47a12': I47a12, 'I47a13': I47a13, 'I47a21': I47a21, 'I47a22': I47a22, 'I47a23': I47a23, 'I47a31': I47a31, 'I47a32': I47a32, 'I47a33': I47a33, 'I47a41': I47a41, 'I47a42': I47a42, 'I47a43': I47a43, 'I47a51': I47a51, 'I47a52': I47a52, 'I47a53': I47a53, 'I47a61': I47a61, 'I47a62': I47a62, 'I47a63': I47a63, 'I48a11': I48a11, 'I48a12': I48a12, 'I48a13': I48a13, 'I48a21': I48a21, 'I48a22': I48a22, 'I48a23': I48a23, 'I48a31': I48a31, 'I48a32': I48a32, 'I48a33': I48a33, 'I48a41': I48a41, 'I48a42': I48a42, 'I48a43': I48a43, 'I48a51': I48a51, 'I48a52': I48a52, 'I48a53': I48a53, 'I48a61': I48a61, 'I48a62': I48a62, 'I48a63': I48a63, 'I49a11': I49a11, 'I49a12': I49a12, 'I49a13': I49a13, 'I49a21': I49a21, 'I49a22': I49a22, 'I49a23': I49a23, 'I49a31': I49a31, 'I49a32': I49a32, 'I49a33': I49a33, 'I5a11': I5a11, 'I5a12': I5a12, 'I5a13': I5a13, 'I5a21': I5a21, 'I5a22': I5a22, 'I5a23': I5a23, 'I5a31': I5a31, 'I5a32': I5a32, 'I5a33': I5a33, 'I50a11': I50a11, 'I50a12': I50a12, 'I50a13': I50a13, 'I50a21': I50a21, 'I50a22': I50a22, 'I50a23': I50a23, 'I50a31': I50a31, 'I50a32': I50a32, 'I50a33': I50a33, 'I51a11': I51a11, 'I51a12': I51a12, 'I51a13': I51a13, 'I51a21': I51a21, 'I51a22': I51a22, 'I51a23': I51a23, 'I51a31': I51a31, 'I51a32': I51a32, 'I51a33': I51a33, 'I51a41': I51a41, 'I51a42': I51a42, 'I51a43': I51a43, 'I51a51': I51a51, 'I51a52': I51a52, 'I51a53': I51a53, 'I51a61': I51a61, 'I51a62': I51a62, 'I51a63': I51a63, 'I52a11': I52a11, 'I52a12': I52a12, 'I52a13': I52a13, 'I52a21': I52a21, 'I52a22': I52a22, 'I52a23': I52a23, 'I52a31': I52a31, 'I52a32': I52a32, 'I52a33': I52a33, 'I52a41': I52a41, 'I52a42': I52a42, 'I52a43': I52a43, 'I52a51': I52a51, 'I52a52': I52a52, 'I52a53': I52a53, 'I52a61': I52a61, 'I52a62': I52a62, 'I52a63': I52a63, 'I53a11': I53a11, 'I53a12': I53a12, 'I53a13': I53a13, 'I53a21': I53a21, 'I53a22': I53a22, 'I53a23': I53a23, 'I53a31': I53a31, 'I53a32': I53a32, 'I53a33': I53a33, 'I54a11': I54a11, 'I54a12': I54a12, 'I54a13': I54a13, 'I54a21': I54a21, 'I54a22': I54a22, 'I54a23': I54a23, 'I54a31': I54a31, 'I54a32': I54a32, 'I54a33': I54a33, 'I55a11': I55a11, 'I55a12': I55a12, 'I55a13': I55a13, 'I55a14': I55a14, 'I55a15': I55a15, 'I55a16': I55a16, 'I55a21': I55a21, 'I55a22': I55a22, 'I55a23': I55a23, 'I55a24': I55a24, 'I55a25': I55a25, 'I55a26': I55a26, 'I55a31': I55a31, 'I55a32': I55a32, 'I55a33': I55a33, 'I55a34': I55a34, 'I55a35': I55a35, 'I55a36': I55a36, 'I55a41': I55a41, 'I55a42': I55a42, 'I55a43': I55a43, 'I55a44': I55a44, 'I55a45': I55a45, 'I55a46': I55a46, 'I55a51': I55a51, 'I55a52': I55a52, 'I55a53': I55a53, 'I55a54': I55a54, 'I55a55': I55a55, 'I55a56': I55a56, 'I55a61': I55a61, 'I55a62': I55a62, 'I55a63': I55a63, 'I55a64': I55a64, 'I55a65': I55a65, 'I55a66': I55a66, 'I56a11': I56a11, 'I56a12': I56a12, 'I56a13': I56a13, 'I56a14': I56a14, 'I56a15': I56a15, 'I56a16': I56a16, 'I56a21': I56a21, 'I56a22': I56a22, 'I56a23': I56a23, 'I56a24': I56a24, 'I56a25': I56a25, 'I56a26': I56a26, 'I56a31': I56a31, 'I56a32': I56a32, 'I56a33': I56a33, 'I56a34': I56a34, 'I56a35': I56a35, 'I56a36': I56a36, 'I56a41': I56a41, 'I56a42': I56a42, 'I56a43': I56a43, 'I56a44': I56a44, 'I56a45': I56a45, 'I56a46': I56a46, 'I56a51': I56a51, 'I56a52': I56a52, 'I56a53': I56a53, 'I56a54': I56a54, 'I56a55': I56a55, 'I56a56': I56a56, 'I56a61': I56a61, 'I56a62': I56a62, 'I56a63': I56a63, 'I56a64': I56a64, 'I56a65': I56a65, 'I56a66': I56a66, 'I57a11': I57a11, 'I57a12': I57a12, 'I57a13': I57a13, 'I57a14': I57a14, 'I57a15': I57a15, 'I57a16': I57a16, 'I57a21': I57a21, 'I57a22': I57a22, 'I57a23': I57a23, 'I57a24': I57a24, 'I57a25': I57a25, 'I57a26': I57a26, 'I57a31': I57a31, 'I57a32': I57a32, 'I57a33': I57a33, 'I57a34': I57a34, 'I57a35': I57a35, 'I57a36': I57a36, 'I57a41': I57a41, 'I57a42': I57a42, 'I57a43': I57a43, 'I57a44': I57a44, 'I57a45': I57a45, 'I57a46': I57a46, 'I57a51': I57a51, 'I57a52': I57a52, 'I57a53': I57a53, 'I57a54': I57a54, 'I57a55': I57a55, 'I57a56': I57a56, 'I57a61': I57a61, 'I57a62': I57a62, 'I57a63': I57a63, 'I57a64': I57a64, 'I57a65': I57a65, 'I57a66': I57a66, 'I58a11': I58a11, 'I58a12': I58a12, 'I58a13': I58a13, 'I58a14': I58a14, 'I58a15': I58a15, 'I58a16': I58a16, 'I58a21': I58a21, 'I58a22': I58a22, 'I58a23': I58a23, 'I58a24': I58a24, 'I58a25': I58a25, 'I58a26': I58a26, 'I58a31': I58a31, 'I58a32': I58a32, 'I58a33': I58a33, 'I58a34': I58a34, 'I58a35': I58a35, 'I58a36': I58a36, 'I58a41': I58a41, 'I58a42': I58a42, 'I58a43': I58a43, 'I58a44': I58a44, 'I58a45': I58a45, 'I58a46': I58a46, 'I58a51': I58a51, 'I58a52': I58a52, 'I58a53': I58a53, 'I58a54': I58a54, 'I58a55': I58a55, 'I58a56': I58a56, 'I58a61': I58a61, 'I58a62': I58a62, 'I58a63': I58a63, 'I58a64': I58a64, 'I58a65': I58a65, 'I58a66': I58a66, 'I6a11': I6a11, 'I6a12': I6a12, 'I6a13': I6a13, 'I6a21': I6a21, 'I6a22': I6a22, 'I6a23': I6a23, 'I6a31': I6a31, 'I6a32': I6a32, 'I6a33': I6a33, 'I7a11': I7a11, 'I7a12': I7a12, 'I7a13': I7a13, 'I7a21': I7a21, 'I7a22': I7a22, 'I7a23': I7a23, 'I7a31': I7a31, 'I7a32': I7a32, 'I7a33': I7a33, 'I8a11': I8a11, 'I8a12': I8a12, 'I8a13': I8a13, 'I8a21': I8a21, 'I8a22': I8a22, 'I8a23': I8a23, 'I8a31': I8a31, 'I8a32': I8a32, 'I8a33': I8a33, 'I9a11': I9a11, 'I9a12': I9a12, 'I9a13': I9a13, 'I9a21': I9a21, 'I9a22': I9a22, 'I9a23': I9a23, 'I9a31': I9a31, 'I9a32': I9a32, 'I9a33': I9a33}\n",
      "Loaded 1377 objects for parameters.\n",
      "Objects in all_parameters: [ZERO, s12, s23, s13, lambda1, lambda2, lambda3, lambda4, rho1, rho2, rho3, rho4, alpha1, alpha2, alpha3, VR63, Wl11, Wl22, Wl33, WU11, WU22, WU33, WD11, WD22, WD33, aEWM1, Gf, aS, k1, vR, vL, MZ, MW, Me, Mmu, Mta, MU, MC, MT, MD, MS, MB, MN1, MN2, MN3, MN4, MN5, MN6, WZ, WW, WW2, WZ2, WT, WN4, WN5, WN6, WH, WH01, WH02, WH03, WHP1, WHP2, WHPPL, WHPPR, WA01, WA02, aEW, sw2, cw, gs, vev, MH02, MH03, MA02, yML1x1, yML2x2, yML3x3, yNL1x1, yNL2x2, yNL3x3, yNL4x4, yNL5x5, yNL6x6, yMU1x1, yMU2x2, yMU3x3, yDO1x1, yDO2x2, yDO3x3, CKML1x1, CKML1x2, CKML1x3, CKML2x1, CKML2x2, CKML2x3, CKML3x1, CKML3x2, CKML3x3, Wl1x1, Wl2x2, Wl3x3, WU1x1, WU2x2, WU3x3, WD1x1, WD2x2, WD3x3, KL1x1, KL1x2, KL1x3, KL2x1, KL2x2, KL2x3, KL3x1, KL3x2, KL3x3, KL4x1, KL4x2, KL4x3, KL5x1, KL5x2, KL5x3, KL6x1, KL6x2, KL6x3, KR1x1, KR1x2, KR1x3, KR2x1, KR2x2, KR2x3, KR3x1, KR3x2, KR3x3, KR4x1, KR4x2, KR4x3, KR5x1, KR5x2, KR5x3, KR6x1, KR6x2, KR6x3, CKMR1x1, CKMR1x2, CKMR1x3, CKMR2x1, CKMR2x2, CKMR2x3, CKMR3x1, CKMR3x2, CKMR3x3, sw, ee, k2, eps, sphi, sxi, g1, gw, cphi, cxi, MA01, MH, MH01, MHP1, MHP2, MHPPL, MHPPR, MW2, MZ2, I1a11, I1a12, I1a13, I1a21, I1a22, I1a23, I1a31, I1a32, I1a33, I10a11, I10a12, I10a13, I10a21, I10a22, I10a23, I10a31, I10a32, I10a33, I11a11, I11a12, I11a13, I11a21, I11a22, I11a23, I11a31, I11a32, I11a33, I12a11, I12a12, I12a13, I12a21, I12a22, I12a23, I12a31, I12a32, I12a33, I13a11, I13a12, I13a13, I13a14, I13a15, I13a16, I13a21, I13a22, I13a23, I13a24, I13a25, I13a26, I13a31, I13a32, I13a33, I13a34, I13a35, I13a36, I13a41, I13a42, I13a43, I13a44, I13a45, I13a46, I13a51, I13a52, I13a53, I13a54, I13a55, I13a56, I13a61, I13a62, I13a63, I13a64, I13a65, I13a66, I14a11, I14a12, I14a13, I14a14, I14a15, I14a16, I14a21, I14a22, I14a23, I14a24, I14a25, I14a26, I14a31, I14a32, I14a33, I14a34, I14a35, I14a36, I14a41, I14a42, I14a43, I14a44, I14a45, I14a46, I14a51, I14a52, I14a53, I14a54, I14a55, I14a56, I14a61, I14a62, I14a63, I14a64, I14a65, I14a66, I15a11, I15a12, I15a13, I15a14, I15a15, I15a16, I15a21, I15a22, I15a23, I15a24, I15a25, I15a26, I15a31, I15a32, I15a33, I15a34, I15a35, I15a36, I15a41, I15a42, I15a43, I15a44, I15a45, I15a46, I15a51, I15a52, I15a53, I15a54, I15a55, I15a56, I15a61, I15a62, I15a63, I15a64, I15a65, I15a66, I16a11, I16a12, I16a13, I16a14, I16a15, I16a16, I16a21, I16a22, I16a23, I16a24, I16a25, I16a26, I16a31, I16a32, I16a33, I16a34, I16a35, I16a36, I16a41, I16a42, I16a43, I16a44, I16a45, I16a46, I16a51, I16a52, I16a53, I16a54, I16a55, I16a56, I16a61, I16a62, I16a63, I16a64, I16a65, I16a66, I17a11, I17a12, I17a13, I17a14, I17a15, I17a16, I17a21, I17a22, I17a23, I17a24, I17a25, I17a26, I17a31, I17a32, I17a33, I17a34, I17a35, I17a36, I17a41, I17a42, I17a43, I17a44, I17a45, I17a46, I17a51, I17a52, I17a53, I17a54, I17a55, I17a56, I17a61, I17a62, I17a63, I17a64, I17a65, I17a66, I18a11, I18a12, I18a13, I18a14, I18a15, I18a16, I18a21, I18a22, I18a23, I18a24, I18a25, I18a26, I18a31, I18a32, I18a33, I18a34, I18a35, I18a36, I18a41, I18a42, I18a43, I18a44, I18a45, I18a46, I18a51, I18a52, I18a53, I18a54, I18a55, I18a56, I18a61, I18a62, I18a63, I18a64, I18a65, I18a66, I19a11, I19a12, I19a13, I19a14, I19a15, I19a16, I19a21, I19a22, I19a23, I19a24, I19a25, I19a26, I19a31, I19a32, I19a33, I19a34, I19a35, I19a36, I19a41, I19a42, I19a43, I19a44, I19a45, I19a46, I19a51, I19a52, I19a53, I19a54, I19a55, I19a56, I19a61, I19a62, I19a63, I19a64, I19a65, I19a66, I2a11, I2a12, I2a13, I2a21, I2a22, I2a23, I2a31, I2a32, I2a33, I20a11, I20a12, I20a13, I20a14, I20a15, I20a16, I20a21, I20a22, I20a23, I20a24, I20a25, I20a26, I20a31, I20a32, I20a33, I20a34, I20a35, I20a36, I20a41, I20a42, I20a43, I20a44, I20a45, I20a46, I20a51, I20a52, I20a53, I20a54, I20a55, I20a56, I20a61, I20a62, I20a63, I20a64, I20a65, I20a66, I21a11, I21a12, I21a13, I21a21, I21a22, I21a23, I21a31, I21a32, I21a33, I21a41, I21a42, I21a43, I21a51, I21a52, I21a53, I21a61, I21a62, I21a63, I22a11, I22a12, I22a13, I22a21, I22a22, I22a23, I22a31, I22a32, I22a33, I22a41, I22a42, I22a43, I22a51, I22a52, I22a53, I22a61, I22a62, I22a63, I23a11, I23a12, I23a13, I23a21, I23a22, I23a23, I23a31, I23a32, I23a33, I23a41, I23a42, I23a43, I23a51, I23a52, I23a53, I23a61, I23a62, I23a63, I24a11, I24a12, I24a13, I24a21, I24a22, I24a23, I24a31, I24a32, I24a33, I24a41, I24a42, I24a43, I24a51, I24a52, I24a53, I24a61, I24a62, I24a63, I25a11, I25a12, I25a13, I25a21, I25a22, I25a23, I25a31, I25a32, I25a33, I25a41, I25a42, I25a43, I25a51, I25a52, I25a53, I25a61, I25a62, I25a63, I26a11, I26a12, I26a13, I26a21, I26a22, I26a23, I26a31, I26a32, I26a33, I26a41, I26a42, I26a43, I26a51, I26a52, I26a53, I26a61, I26a62, I26a63, I27a11, I27a12, I27a13, I27a21, I27a22, I27a23, I27a31, I27a32, I27a33, I27a41, I27a42, I27a43, I27a51, I27a52, I27a53, I27a61, I27a62, I27a63, I28a11, I28a12, I28a13, I28a21, I28a22, I28a23, I28a31, I28a32, I28a33, I28a41, I28a42, I28a43, I28a51, I28a52, I28a53, I28a61, I28a62, I28a63, I29a11, I29a12, I29a13, I29a21, I29a22, I29a23, I29a31, I29a32, I29a33, I3a11, I3a12, I3a13, I3a21, I3a22, I3a23, I3a31, I3a32, I3a33, I30a11, I30a12, I30a13, I30a21, I30a22, I30a23, I30a31, I30a32, I30a33, I31a11, I31a12, I31a13, I31a14, I31a15, I31a16, I31a21, I31a22, I31a23, I31a24, I31a25, I31a26, I31a31, I31a32, I31a33, I31a34, I31a35, I31a36, I31a41, I31a42, I31a43, I31a44, I31a45, I31a46, I31a51, I31a52, I31a53, I31a54, I31a55, I31a56, I31a61, I31a62, I31a63, I31a64, I31a65, I31a66, I32a11, I32a12, I32a13, I32a14, I32a15, I32a16, I32a21, I32a22, I32a23, I32a24, I32a25, I32a26, I32a31, I32a32, I32a33, I32a34, I32a35, I32a36, I32a41, I32a42, I32a43, I32a44, I32a45, I32a46, I32a51, I32a52, I32a53, I32a54, I32a55, I32a56, I32a61, I32a62, I32a63, I32a64, I32a65, I32a66, I33a11, I33a12, I33a13, I33a14, I33a15, I33a16, I33a21, I33a22, I33a23, I33a24, I33a25, I33a26, I33a31, I33a32, I33a33, I33a34, I33a35, I33a36, I33a41, I33a42, I33a43, I33a44, I33a45, I33a46, I33a51, I33a52, I33a53, I33a54, I33a55, I33a56, I33a61, I33a62, I33a63, I33a64, I33a65, I33a66, I34a11, I34a12, I34a13, I34a14, I34a15, I34a16, I34a21, I34a22, I34a23, I34a24, I34a25, I34a26, I34a31, I34a32, I34a33, I34a34, I34a35, I34a36, I34a41, I34a42, I34a43, I34a44, I34a45, I34a46, I34a51, I34a52, I34a53, I34a54, I34a55, I34a56, I34a61, I34a62, I34a63, I34a64, I34a65, I34a66, I35a11, I35a12, I35a13, I35a21, I35a22, I35a23, I35a31, I35a32, I35a33, I35a41, I35a42, I35a43, I35a51, I35a52, I35a53, I35a61, I35a62, I35a63, I36a11, I36a12, I36a13, I36a21, I36a22, I36a23, I36a31, I36a32, I36a33, I36a41, I36a42, I36a43, I36a51, I36a52, I36a53, I36a61, I36a62, I36a63, I37a11, I37a12, I37a13, I37a21, I37a22, I37a23, I37a31, I37a32, I37a33, I38a11, I38a12, I38a13, I38a21, I38a22, I38a23, I38a31, I38a32, I38a33, I39a11, I39a12, I39a13, I39a14, I39a15, I39a16, I39a21, I39a22, I39a23, I39a24, I39a25, I39a26, I39a31, I39a32, I39a33, I39a34, I39a35, I39a36, I39a41, I39a42, I39a43, I39a44, I39a45, I39a46, I39a51, I39a52, I39a53, I39a54, I39a55, I39a56, I39a61, I39a62, I39a63, I39a64, I39a65, I39a66, I4a11, I4a12, I4a13, I4a21, I4a22, I4a23, I4a31, I4a32, I4a33, I40a11, I40a12, I40a13, I40a14, I40a15, I40a16, I40a21, I40a22, I40a23, I40a24, I40a25, I40a26, I40a31, I40a32, I40a33, I40a34, I40a35, I40a36, I40a41, I40a42, I40a43, I40a44, I40a45, I40a46, I40a51, I40a52, I40a53, I40a54, I40a55, I40a56, I40a61, I40a62, I40a63, I40a64, I40a65, I40a66, I41a11, I41a12, I41a13, I41a14, I41a15, I41a16, I41a21, I41a22, I41a23, I41a24, I41a25, I41a26, I41a31, I41a32, I41a33, I41a34, I41a35, I41a36, I41a41, I41a42, I41a43, I41a44, I41a45, I41a46, I41a51, I41a52, I41a53, I41a54, I41a55, I41a56, I41a61, I41a62, I41a63, I41a64, I41a65, I41a66, I42a11, I42a12, I42a13, I42a14, I42a15, I42a16, I42a21, I42a22, I42a23, I42a24, I42a25, I42a26, I42a31, I42a32, I42a33, I42a34, I42a35, I42a36, I42a41, I42a42, I42a43, I42a44, I42a45, I42a46, I42a51, I42a52, I42a53, I42a54, I42a55, I42a56, I42a61, I42a62, I42a63, I42a64, I42a65, I42a66, I43a11, I43a12, I43a13, I43a21, I43a22, I43a23, I43a31, I43a32, I43a33, I43a41, I43a42, I43a43, I43a51, I43a52, I43a53, I43a61, I43a62, I43a63, I44a11, I44a12, I44a13, I44a21, I44a22, I44a23, I44a31, I44a32, I44a33, I44a41, I44a42, I44a43, I44a51, I44a52, I44a53, I44a61, I44a62, I44a63, I45a11, I45a12, I45a13, I45a21, I45a22, I45a23, I45a31, I45a32, I45a33, I46a11, I46a12, I46a13, I46a21, I46a22, I46a23, I46a31, I46a32, I46a33, I47a11, I47a12, I47a13, I47a21, I47a22, I47a23, I47a31, I47a32, I47a33, I47a41, I47a42, I47a43, I47a51, I47a52, I47a53, I47a61, I47a62, I47a63, I48a11, I48a12, I48a13, I48a21, I48a22, I48a23, I48a31, I48a32, I48a33, I48a41, I48a42, I48a43, I48a51, I48a52, I48a53, I48a61, I48a62, I48a63, I49a11, I49a12, I49a13, I49a21, I49a22, I49a23, I49a31, I49a32, I49a33, I5a11, I5a12, I5a13, I5a21, I5a22, I5a23, I5a31, I5a32, I5a33, I50a11, I50a12, I50a13, I50a21, I50a22, I50a23, I50a31, I50a32, I50a33, I51a11, I51a12, I51a13, I51a21, I51a22, I51a23, I51a31, I51a32, I51a33, I51a41, I51a42, I51a43, I51a51, I51a52, I51a53, I51a61, I51a62, I51a63, I52a11, I52a12, I52a13, I52a21, I52a22, I52a23, I52a31, I52a32, I52a33, I52a41, I52a42, I52a43, I52a51, I52a52, I52a53, I52a61, I52a62, I52a63, I53a11, I53a12, I53a13, I53a21, I53a22, I53a23, I53a31, I53a32, I53a33, I54a11, I54a12, I54a13, I54a21, I54a22, I54a23, I54a31, I54a32, I54a33, I55a11, I55a12, I55a13, I55a14, I55a15, I55a16, I55a21, I55a22, I55a23, I55a24, I55a25, I55a26, I55a31, I55a32, I55a33, I55a34, I55a35, I55a36, I55a41, I55a42, I55a43, I55a44, I55a45, I55a46, I55a51, I55a52, I55a53, I55a54, I55a55, I55a56, I55a61, I55a62, I55a63, I55a64, I55a65, I55a66, I56a11, I56a12, I56a13, I56a14, I56a15, I56a16, I56a21, I56a22, I56a23, I56a24, I56a25, I56a26, I56a31, I56a32, I56a33, I56a34, I56a35, I56a36, I56a41, I56a42, I56a43, I56a44, I56a45, I56a46, I56a51, I56a52, I56a53, I56a54, I56a55, I56a56, I56a61, I56a62, I56a63, I56a64, I56a65, I56a66, I57a11, I57a12, I57a13, I57a14, I57a15, I57a16, I57a21, I57a22, I57a23, I57a24, I57a25, I57a26, I57a31, I57a32, I57a33, I57a34, I57a35, I57a36, I57a41, I57a42, I57a43, I57a44, I57a45, I57a46, I57a51, I57a52, I57a53, I57a54, I57a55, I57a56, I57a61, I57a62, I57a63, I57a64, I57a65, I57a66, I58a11, I58a12, I58a13, I58a14, I58a15, I58a16, I58a21, I58a22, I58a23, I58a24, I58a25, I58a26, I58a31, I58a32, I58a33, I58a34, I58a35, I58a36, I58a41, I58a42, I58a43, I58a44, I58a45, I58a46, I58a51, I58a52, I58a53, I58a54, I58a55, I58a56, I58a61, I58a62, I58a63, I58a64, I58a65, I58a66, I6a11, I6a12, I6a13, I6a21, I6a22, I6a23, I6a31, I6a32, I6a33, I7a11, I7a12, I7a13, I7a21, I7a22, I7a23, I7a31, I7a32, I7a33, I8a11, I8a12, I8a13, I8a21, I8a22, I8a23, I8a31, I8a32, I8a33, I9a11, I9a12, I9a13, I9a21, I9a22, I9a23, I9a31, I9a32, I9a33]\n",
      "\n",
      "Loading couplings from C:/Users/moise/OneDrive/Escritorio/LRSM-with-Spheno/UFOmodel/MLRSM_UFO_neutrino_mix\\couplings.py...\n",
      "Namespace keys after executing C:/Users/moise/OneDrive/Escritorio/LRSM-with-Spheno/UFOmodel/MLRSM_UFO_neutrino_mix\\couplings.py: ['__builtins__', 'all_couplings', 'Coupling', 'complexconjugate', 're', 'im', 'csc', 'sec', 'acsc', 'asec', 'cot', 'GC_1', 'GC_2', 'GC_3', 'GC_4', 'GC_5', 'GC_6', 'GC_7', 'GC_8', 'GC_9', 'GC_10', 'GC_11', 'GC_12', 'GC_13', 'GC_14', 'GC_15', 'GC_16', 'GC_17', 'GC_18', 'GC_19', 'GC_20', 'GC_21', 'GC_22', 'GC_23', 'GC_24', 'GC_25', 'GC_26', 'GC_27', 'GC_28', 'GC_29', 'GC_30', 'GC_31', 'GC_32', 'GC_33', 'GC_34', 'GC_35', 'GC_36', 'GC_37', 'GC_38', 'GC_39', 'GC_40', 'GC_41', 'GC_42', 'GC_43', 'GC_44', 'GC_45', 'GC_46', 'GC_47', 'GC_48', 'GC_49', 'GC_50', 'GC_51', 'GC_52', 'GC_53', 'GC_54', 'GC_55', 'GC_56', 'GC_57', 'GC_58', 'GC_59', 'GC_60', 'GC_61', 'GC_62', 'GC_63', 'GC_64', 'GC_65', 'GC_66', 'GC_67', 'GC_68', 'GC_69', 'GC_70', 'GC_71', 'GC_72', 'GC_73', 'GC_74', 'GC_75', 'GC_76', 'GC_77', 'GC_78', 'GC_79', 'GC_80', 'GC_81', 'GC_82', 'GC_83', 'GC_84', 'GC_85', 'GC_86', 'GC_87', 'GC_88', 'GC_89', 'GC_90', 'GC_91', 'GC_92', 'GC_93', 'GC_94', 'GC_95', 'GC_96', 'GC_97', 'GC_98', 'GC_99', 'GC_100', 'GC_101', 'GC_102', 'GC_103', 'GC_104', 'GC_105', 'GC_106', 'GC_107', 'GC_108', 'GC_109', 'GC_110', 'GC_111', 'GC_112', 'GC_113', 'GC_114', 'GC_115', 'GC_116', 'GC_117', 'GC_118', 'GC_119', 'GC_120', 'GC_121', 'GC_122', 'GC_123', 'GC_124', 'GC_125', 'GC_126', 'GC_127', 'GC_128', 'GC_129', 'GC_130', 'GC_131', 'GC_132', 'GC_133', 'GC_134', 'GC_135', 'GC_136', 'GC_137', 'GC_138', 'GC_139', 'GC_140', 'GC_141', 'GC_142', 'GC_143', 'GC_144', 'GC_145', 'GC_146', 'GC_147', 'GC_148', 'GC_149', 'GC_150', 'GC_151', 'GC_152', 'GC_153', 'GC_154', 'GC_155', 'GC_156', 'GC_157', 'GC_158', 'GC_159', 'GC_160', 'GC_161', 'GC_162', 'GC_163', 'GC_164', 'GC_165', 'GC_166', 'GC_167', 'GC_168', 'GC_169', 'GC_170', 'GC_171', 'GC_172', 'GC_173', 'GC_174', 'GC_175', 'GC_176', 'GC_177', 'GC_178', 'GC_179', 'GC_180', 'GC_181', 'GC_182', 'GC_183', 'GC_184', 'GC_185', 'GC_186', 'GC_187', 'GC_188', 'GC_189', 'GC_190', 'GC_191', 'GC_192', 'GC_193', 'GC_194', 'GC_195', 'GC_196', 'GC_197', 'GC_198', 'GC_199', 'GC_200', 'GC_201', 'GC_202', 'GC_203', 'GC_204', 'GC_205', 'GC_206', 'GC_207', 'GC_208', 'GC_209', 'GC_210', 'GC_211', 'GC_212', 'GC_213', 'GC_214', 'GC_215', 'GC_216', 'GC_217', 'GC_218', 'GC_219', 'GC_220', 'GC_221', 'GC_222', 'GC_223', 'GC_224', 'GC_225', 'GC_226', 'GC_227', 'GC_228', 'GC_229', 'GC_230', 'GC_231', 'GC_232', 'GC_233', 'GC_234', 'GC_235', 'GC_236', 'GC_237', 'GC_238', 'GC_239', 'GC_240', 'GC_241', 'GC_242', 'GC_243', 'GC_244', 'GC_245', 'GC_246', 'GC_247', 'GC_248', 'GC_249', 'GC_250', 'GC_251', 'GC_252', 'GC_253', 'GC_254', 'GC_255', 'GC_256', 'GC_257', 'GC_258', 'GC_259', 'GC_260', 'GC_261', 'GC_262', 'GC_263', 'GC_264', 'GC_265', 'GC_266', 'GC_267', 'GC_268', 'GC_269', 'GC_270', 'GC_271', 'GC_272', 'GC_273', 'GC_274', 'GC_275', 'GC_276', 'GC_277', 'GC_278', 'GC_279', 'GC_280', 'GC_281', 'GC_282', 'GC_283', 'GC_284', 'GC_285', 'GC_286', 'GC_287', 'GC_288', 'GC_289', 'GC_290', 'GC_291', 'GC_292', 'GC_293', 'GC_294', 'GC_295', 'GC_296', 'GC_297', 'GC_298', 'GC_299', 'GC_300', 'GC_301', 'GC_302', 'GC_303', 'GC_304', 'GC_305', 'GC_306', 'GC_307', 'GC_308', 'GC_309', 'GC_310', 'GC_311', 'GC_312', 'GC_313', 'GC_314', 'GC_315', 'GC_316', 'GC_317', 'GC_318', 'GC_319', 'GC_320', 'GC_321', 'GC_322', 'GC_323', 'GC_324', 'GC_325', 'GC_326', 'GC_327', 'GC_328', 'GC_329', 'GC_330', 'GC_331', 'GC_332', 'GC_333', 'GC_334', 'GC_335', 'GC_336', 'GC_337', 'GC_338', 'GC_339', 'GC_340', 'GC_341', 'GC_342', 'GC_343', 'GC_344', 'GC_345', 'GC_346', 'GC_347', 'GC_348', 'GC_349', 'GC_350', 'GC_351', 'GC_352', 'GC_353', 'GC_354', 'GC_355', 'GC_356', 'GC_357', 'GC_358', 'GC_359', 'GC_360', 'GC_361', 'GC_362', 'GC_363', 'GC_364', 'GC_365', 'GC_366', 'GC_367', 'GC_368', 'GC_369', 'GC_370', 'GC_371', 'GC_372', 'GC_373', 'GC_374', 'GC_375', 'GC_376', 'GC_377', 'GC_378', 'GC_379', 'GC_380', 'GC_381', 'GC_382', 'GC_383', 'GC_384', 'GC_385', 'GC_386', 'GC_387', 'GC_388', 'GC_389', 'GC_390', 'GC_391', 'GC_392', 'GC_393', 'GC_394', 'GC_395', 'GC_396', 'GC_397', 'GC_398', 'GC_399', 'GC_400', 'GC_401', 'GC_402', 'GC_403', 'GC_404', 'GC_405', 'GC_406', 'GC_407', 'GC_408', 'GC_409', 'GC_410', 'GC_411', 'GC_412', 'GC_413', 'GC_414', 'GC_415', 'GC_416', 'GC_417', 'GC_418', 'GC_419', 'GC_420', 'GC_421', 'GC_422', 'GC_423', 'GC_424', 'GC_425', 'GC_426', 'GC_427', 'GC_428', 'GC_429', 'GC_430', 'GC_431', 'GC_432', 'GC_433', 'GC_434', 'GC_435', 'GC_436', 'GC_437', 'GC_438', 'GC_439', 'GC_440', 'GC_441', 'GC_442', 'GC_443', 'GC_444', 'GC_445', 'GC_446', 'GC_447', 'GC_448', 'GC_449', 'GC_450', 'GC_451', 'GC_452', 'GC_453', 'GC_454', 'GC_455', 'GC_456', 'GC_457', 'GC_458', 'GC_459', 'GC_460', 'GC_461', 'GC_462', 'GC_463', 'GC_464', 'GC_465', 'GC_466', 'GC_467', 'GC_468', 'GC_469', 'GC_470', 'GC_471', 'GC_472', 'GC_473', 'GC_474', 'GC_475', 'GC_476', 'GC_477', 'GC_478', 'GC_479', 'GC_480', 'GC_481', 'GC_482', 'GC_483', 'GC_484', 'GC_485', 'GC_486', 'GC_487', 'GC_488', 'GC_489', 'GC_490', 'GC_491', 'GC_492', 'GC_493', 'GC_494', 'GC_495', 'GC_496', 'GC_497', 'GC_498', 'GC_499', 'GC_500', 'GC_501', 'GC_502', 'GC_503', 'GC_504', 'GC_505', 'GC_506', 'GC_507', 'GC_508', 'GC_509', 'GC_510', 'GC_511', 'GC_512', 'GC_513', 'GC_514', 'GC_515', 'GC_516', 'GC_517', 'GC_518', 'GC_519', 'GC_520', 'GC_521', 'GC_522', 'GC_523', 'GC_524', 'GC_525', 'GC_526', 'GC_527', 'GC_528', 'GC_529', 'GC_530', 'GC_531', 'GC_532', 'GC_533', 'GC_534', 'GC_535', 'GC_536', 'GC_537', 'GC_538', 'GC_539', 'GC_540', 'GC_541', 'GC_542', 'GC_543', 'GC_544', 'GC_545', 'GC_546', 'GC_547', 'GC_548', 'GC_549', 'GC_550', 'GC_551', 'GC_552', 'GC_553', 'GC_554', 'GC_555', 'GC_556', 'GC_557', 'GC_558', 'GC_559', 'GC_560', 'GC_561', 'GC_562', 'GC_563', 'GC_564', 'GC_565', 'GC_566', 'GC_567', 'GC_568', 'GC_569', 'GC_570', 'GC_571', 'GC_572', 'GC_573', 'GC_574', 'GC_575', 'GC_576', 'GC_577', 'GC_578', 'GC_579', 'GC_580', 'GC_581', 'GC_582', 'GC_583', 'GC_584', 'GC_585', 'GC_586', 'GC_587', 'GC_588', 'GC_589', 'GC_590', 'GC_591', 'GC_592', 'GC_593', 'GC_594', 'GC_595', 'GC_596', 'GC_597', 'GC_598', 'GC_599', 'GC_600', 'GC_601', 'GC_602', 'GC_603', 'GC_604', 'GC_605', 'GC_606', 'GC_607', 'GC_608', 'GC_609', 'GC_610', 'GC_611', 'GC_612', 'GC_613', 'GC_614', 'GC_615', 'GC_616', 'GC_617', 'GC_618', 'GC_619', 'GC_620', 'GC_621', 'GC_622', 'GC_623', 'GC_624', 'GC_625', 'GC_626', 'GC_627', 'GC_628', 'GC_629', 'GC_630', 'GC_631', 'GC_632', 'GC_633', 'GC_634', 'GC_635', 'GC_636', 'GC_637', 'GC_638', 'GC_639', 'GC_640', 'GC_641', 'GC_642', 'GC_643', 'GC_644', 'GC_645', 'GC_646', 'GC_647', 'GC_648', 'GC_649', 'GC_650', 'GC_651', 'GC_652', 'GC_653', 'GC_654', 'GC_655', 'GC_656', 'GC_657', 'GC_658', 'GC_659', 'GC_660', 'GC_661', 'GC_662', 'GC_663', 'GC_664', 'GC_665', 'GC_666', 'GC_667', 'GC_668', 'GC_669', 'GC_670', 'GC_671', 'GC_672', 'GC_673', 'GC_674', 'GC_675', 'GC_676', 'GC_677', 'GC_678', 'GC_679', 'GC_680', 'GC_681', 'GC_682', 'GC_683', 'GC_684', 'GC_685', 'GC_686', 'GC_687', 'GC_688', 'GC_689', 'GC_690', 'GC_691', 'GC_692', 'GC_693', 'GC_694', 'GC_695', 'GC_696', 'GC_697', 'GC_698', 'GC_699', 'GC_700', 'GC_701', 'GC_702', 'GC_703', 'GC_704', 'GC_705', 'GC_706', 'GC_707', 'GC_708', 'GC_709', 'GC_710', 'GC_711', 'GC_712', 'GC_713', 'GC_714', 'GC_715', 'GC_716', 'GC_717', 'GC_718', 'GC_719', 'GC_720', 'GC_721', 'GC_722', 'GC_723', 'GC_724', 'GC_725', 'GC_726', 'GC_727', 'GC_728', 'GC_729', 'GC_730', 'GC_731', 'GC_732', 'GC_733', 'GC_734', 'GC_735', 'GC_736', 'GC_737', 'GC_738', 'GC_739', 'GC_740', 'GC_741', 'GC_742', 'GC_743', 'GC_744', 'GC_745', 'GC_746', 'GC_747', 'GC_748', 'GC_749', 'GC_750', 'GC_751', 'GC_752', 'GC_753', 'GC_754', 'GC_755', 'GC_756', 'GC_757', 'GC_758', 'GC_759', 'GC_760', 'GC_761', 'GC_762', 'GC_763', 'GC_764', 'GC_765', 'GC_766', 'GC_767', 'GC_768', 'GC_769', 'GC_770', 'GC_771', 'GC_772', 'GC_773', 'GC_774', 'GC_775', 'GC_776', 'GC_777', 'GC_778', 'GC_779', 'GC_780', 'GC_781', 'GC_782', 'GC_783', 'GC_784', 'GC_785', 'GC_786', 'GC_787', 'GC_788', 'GC_789', 'GC_790', 'GC_791', 'GC_792', 'GC_793', 'GC_794', 'GC_795', 'GC_796', 'GC_797', 'GC_798', 'GC_799', 'GC_800', 'GC_801', 'GC_802', 'GC_803', 'GC_804', 'GC_805', 'GC_806', 'GC_807', 'GC_808', 'GC_809', 'GC_810', 'GC_811', 'GC_812', 'GC_813', 'GC_814', 'GC_815', 'GC_816', 'GC_817', 'GC_818', 'GC_819', 'GC_820', 'GC_821', 'GC_822', 'GC_823', 'GC_824', 'GC_825', 'GC_826', 'GC_827', 'GC_828', 'GC_829', 'GC_830', 'GC_831', 'GC_832', 'GC_833', 'GC_834', 'GC_835', 'GC_836', 'GC_837', 'GC_838', 'GC_839', 'GC_840', 'GC_841', 'GC_842', 'GC_843', 'GC_844', 'GC_845', 'GC_846', 'GC_847', 'GC_848', 'GC_849', 'GC_850', 'GC_851', 'GC_852', 'GC_853', 'GC_854', 'GC_855', 'GC_856', 'GC_857', 'GC_858', 'GC_859', 'GC_860', 'GC_861', 'GC_862', 'GC_863', 'GC_864', 'GC_865', 'GC_866', 'GC_867', 'GC_868', 'GC_869', 'GC_870', 'GC_871', 'GC_872', 'GC_873', 'GC_874', 'GC_875', 'GC_876', 'GC_877', 'GC_878', 'GC_879', 'GC_880', 'GC_881', 'GC_882', 'GC_883', 'GC_884', 'GC_885', 'GC_886', 'GC_887', 'GC_888', 'GC_889', 'GC_890', 'GC_891', 'GC_892', 'GC_893', 'GC_894', 'GC_895', 'GC_896', 'GC_897', 'GC_898', 'GC_899', 'GC_900', 'GC_901', 'GC_902', 'GC_903', 'GC_904', 'GC_905', 'GC_906', 'GC_907', 'GC_908', 'GC_909', 'GC_910', 'GC_911', 'GC_912', 'GC_913', 'GC_914', 'GC_915', 'GC_916', 'GC_917', 'GC_918', 'GC_919', 'GC_920', 'GC_921', 'GC_922', 'GC_923', 'GC_924', 'GC_925', 'GC_926', 'GC_927', 'GC_928', 'GC_929', 'GC_930', 'GC_931', 'GC_932', 'GC_933', 'GC_934', 'GC_935', 'GC_936', 'GC_937', 'GC_938', 'GC_939', 'GC_940', 'GC_941', 'GC_942', 'GC_943', 'GC_944', 'GC_945', 'GC_946', 'GC_947', 'GC_948', 'GC_949', 'GC_950', 'GC_951', 'GC_952', 'GC_953', 'GC_954', 'GC_955', 'GC_956', 'GC_957', 'GC_958', 'GC_959', 'GC_960', 'GC_961', 'GC_962', 'GC_963', 'GC_964', 'GC_965', 'GC_966', 'GC_967', 'GC_968', 'GC_969', 'GC_970', 'GC_971', 'GC_972', 'GC_973', 'GC_974', 'GC_975', 'GC_976', 'GC_977', 'GC_978', 'GC_979', 'GC_980', 'GC_981', 'GC_982', 'GC_983', 'GC_984', 'GC_985', 'GC_986', 'GC_987', 'GC_988', 'GC_989', 'GC_990', 'GC_991', 'GC_992', 'GC_993', 'GC_994', 'GC_995', 'GC_996', 'GC_997', 'GC_998', 'GC_999', 'GC_1000', 'GC_1001', 'GC_1002', 'GC_1003', 'GC_1004', 'GC_1005', 'GC_1006', 'GC_1007', 'GC_1008', 'GC_1009', 'GC_1010', 'GC_1011', 'GC_1012', 'GC_1013', 'GC_1014', 'GC_1015', 'GC_1016', 'GC_1017', 'GC_1018', 'GC_1019', 'GC_1020', 'GC_1021', 'GC_1022', 'GC_1023', 'GC_1024', 'GC_1025', 'GC_1026', 'GC_1027', 'GC_1028', 'GC_1029', 'GC_1030', 'GC_1031', 'GC_1032', 'GC_1033', 'GC_1034', 'GC_1035', 'GC_1036', 'GC_1037', 'GC_1038', 'GC_1039', 'GC_1040', 'GC_1041', 'GC_1042', 'GC_1043', 'GC_1044', 'GC_1045', 'GC_1046', 'GC_1047', 'GC_1048', 'GC_1049', 'GC_1050', 'GC_1051', 'GC_1052', 'GC_1053', 'GC_1054', 'GC_1055', 'GC_1056', 'GC_1057', 'GC_1058', 'GC_1059', 'GC_1060', 'GC_1061', 'GC_1062', 'GC_1063', 'GC_1064', 'GC_1065', 'GC_1066', 'GC_1067', 'GC_1068', 'GC_1069', 'GC_1070', 'GC_1071', 'GC_1072', 'GC_1073', 'GC_1074', 'GC_1075', 'GC_1076', 'GC_1077', 'GC_1078', 'GC_1079', 'GC_1080', 'GC_1081', 'GC_1082', 'GC_1083', 'GC_1084', 'GC_1085', 'GC_1086', 'GC_1087', 'GC_1088', 'GC_1089', 'GC_1090', 'GC_1091', 'GC_1092', 'GC_1093', 'GC_1094', 'GC_1095', 'GC_1096', 'GC_1097', 'GC_1098', 'GC_1099', 'GC_1100', 'GC_1101', 'GC_1102', 'GC_1103', 'GC_1104', 'GC_1105', 'GC_1106', 'GC_1107', 'GC_1108', 'GC_1109', 'GC_1110', 'GC_1111', 'GC_1112', 'GC_1113', 'GC_1114', 'GC_1115', 'GC_1116', 'GC_1117', 'GC_1118', 'GC_1119', 'GC_1120', 'GC_1121', 'GC_1122', 'GC_1123', 'GC_1124', 'GC_1125', 'GC_1126', 'GC_1127', 'GC_1128', 'GC_1129', 'GC_1130', 'GC_1131', 'GC_1132', 'GC_1133', 'GC_1134', 'GC_1135', 'GC_1136', 'GC_1137', 'GC_1138', 'GC_1139', 'GC_1140', 'GC_1141', 'GC_1142', 'GC_1143', 'GC_1144', 'GC_1145', 'GC_1146', 'GC_1147', 'GC_1148', 'GC_1149', 'GC_1150', 'GC_1151', 'GC_1152', 'GC_1153', 'GC_1154', 'GC_1155', 'GC_1156', 'GC_1157', 'GC_1158', 'GC_1159', 'GC_1160', 'GC_1161', 'GC_1162', 'GC_1163', 'GC_1164', 'GC_1165', 'GC_1166', 'GC_1167', 'GC_1168', 'GC_1169', 'GC_1170', 'GC_1171', 'GC_1172', 'GC_1173', 'GC_1174', 'GC_1175', 'GC_1176', 'GC_1177', 'GC_1178', 'GC_1179', 'GC_1180', 'GC_1181', 'GC_1182', 'GC_1183', 'GC_1184', 'GC_1185', 'GC_1186', 'GC_1187', 'GC_1188', 'GC_1189', 'GC_1190', 'GC_1191', 'GC_1192', 'GC_1193', 'GC_1194', 'GC_1195', 'GC_1196', 'GC_1197', 'GC_1198', 'GC_1199', 'GC_1200', 'GC_1201', 'GC_1202', 'GC_1203', 'GC_1204', 'GC_1205', 'GC_1206', 'GC_1207', 'GC_1208', 'GC_1209', 'GC_1210', 'GC_1211', 'GC_1212', 'GC_1213', 'GC_1214', 'GC_1215', 'GC_1216', 'GC_1217', 'GC_1218', 'GC_1219', 'GC_1220', 'GC_1221', 'GC_1222', 'GC_1223', 'GC_1224', 'GC_1225', 'GC_1226', 'GC_1227', 'GC_1228', 'GC_1229', 'GC_1230', 'GC_1231', 'GC_1232', 'GC_1233', 'GC_1234', 'GC_1235', 'GC_1236', 'GC_1237', 'GC_1238', 'GC_1239', 'GC_1240', 'GC_1241', 'GC_1242', 'GC_1243', 'GC_1244', 'GC_1245', 'GC_1246', 'GC_1247', 'GC_1248', 'GC_1249', 'GC_1250', 'GC_1251', 'GC_1252', 'GC_1253', 'GC_1254', 'GC_1255', 'GC_1256', 'GC_1257', 'GC_1258', 'GC_1259', 'GC_1260', 'GC_1261', 'GC_1262', 'GC_1263', 'GC_1264', 'GC_1265', 'GC_1266', 'GC_1267', 'GC_1268', 'GC_1269', 'GC_1270', 'GC_1271', 'GC_1272', 'GC_1273', 'GC_1274', 'GC_1275', 'GC_1276', 'GC_1277', 'GC_1278', 'GC_1279', 'GC_1280', 'GC_1281', 'GC_1282', 'GC_1283', 'GC_1284', 'GC_1285', 'GC_1286', 'GC_1287', 'GC_1288', 'GC_1289', 'GC_1290', 'GC_1291', 'GC_1292', 'GC_1293', 'GC_1294', 'GC_1295', 'GC_1296', 'GC_1297', 'GC_1298', 'GC_1299', 'GC_1300', 'GC_1301', 'GC_1302', 'GC_1303', 'GC_1304', 'GC_1305', 'GC_1306', 'GC_1307', 'GC_1308', 'GC_1309', 'GC_1310', 'GC_1311', 'GC_1312', 'GC_1313', 'GC_1314', 'GC_1315', 'GC_1316', 'GC_1317', 'GC_1318', 'GC_1319', 'GC_1320', 'GC_1321', 'GC_1322', 'GC_1323', 'GC_1324', 'GC_1325', 'GC_1326', 'GC_1327', 'GC_1328', 'GC_1329', 'GC_1330', 'GC_1331', 'GC_1332', 'GC_1333', 'GC_1334', 'GC_1335', 'GC_1336', 'GC_1337', 'GC_1338', 'GC_1339', 'GC_1340', 'GC_1341', 'GC_1342', 'GC_1343', 'GC_1344', 'GC_1345', 'GC_1346', 'GC_1347', 'GC_1348', 'GC_1349', 'GC_1350', 'GC_1351', 'GC_1352', 'GC_1353', 'GC_1354', 'GC_1355', 'GC_1356', 'GC_1357', 'GC_1358', 'GC_1359', 'GC_1360', 'GC_1361', 'GC_1362', 'GC_1363', 'GC_1364', 'GC_1365', 'GC_1366', 'GC_1367', 'GC_1368', 'GC_1369', 'GC_1370', 'GC_1371', 'GC_1372', 'GC_1373', 'GC_1374', 'GC_1375', 'GC_1376', 'GC_1377', 'GC_1378', 'GC_1379', 'GC_1380', 'GC_1381', 'GC_1382', 'GC_1383', 'GC_1384', 'GC_1385', 'GC_1386', 'GC_1387', 'GC_1388', 'GC_1389', 'GC_1390', 'GC_1391', 'GC_1392', 'GC_1393', 'GC_1394', 'GC_1395', 'GC_1396', 'GC_1397', 'GC_1398', 'GC_1399', 'GC_1400', 'GC_1401', 'GC_1402', 'GC_1403', 'GC_1404', 'GC_1405', 'GC_1406', 'GC_1407', 'GC_1408', 'GC_1409', 'GC_1410', 'GC_1411', 'GC_1412', 'GC_1413', 'GC_1414', 'GC_1415', 'GC_1416', 'GC_1417', 'GC_1418', 'GC_1419', 'GC_1420', 'GC_1421', 'GC_1422', 'GC_1423', 'GC_1424', 'GC_1425', 'GC_1426', 'GC_1427', 'GC_1428', 'GC_1429', 'GC_1430', 'GC_1431', 'GC_1432', 'GC_1433', 'GC_1434', 'GC_1435', 'GC_1436', 'GC_1437', 'GC_1438', 'GC_1439', 'GC_1440', 'GC_1441', 'GC_1442', 'GC_1443', 'GC_1444', 'GC_1445', 'GC_1446', 'GC_1447', 'GC_1448', 'GC_1449', 'GC_1450', 'GC_1451', 'GC_1452', 'GC_1453', 'GC_1454', 'GC_1455', 'GC_1456', 'GC_1457', 'GC_1458', 'GC_1459', 'GC_1460', 'GC_1461', 'GC_1462', 'GC_1463', 'GC_1464', 'GC_1465', 'GC_1466', 'GC_1467', 'GC_1468', 'GC_1469', 'GC_1470', 'GC_1471', 'GC_1472', 'GC_1473', 'GC_1474', 'GC_1475', 'GC_1476', 'GC_1477', 'GC_1478', 'GC_1479', 'GC_1480', 'GC_1481', 'GC_1482', 'GC_1483', 'GC_1484', 'GC_1485', 'GC_1486', 'GC_1487', 'GC_1488', 'GC_1489', 'GC_1490', 'GC_1491', 'GC_1492', 'GC_1493', 'GC_1494', 'GC_1495', 'GC_1496', 'GC_1497', 'GC_1498', 'GC_1499', 'GC_1500', 'GC_1501', 'GC_1502', 'GC_1503', 'GC_1504', 'GC_1505', 'GC_1506', 'GC_1507', 'GC_1508', 'GC_1509', 'GC_1510', 'GC_1511', 'GC_1512']\n",
      "Namespace contents after executing C:/Users/moise/OneDrive/Escritorio/LRSM-with-Spheno/UFOmodel/MLRSM_UFO_neutrino_mix\\couplings.py: {'__builtins__': {'__name__': 'builtins', '__doc__': \"Built-in functions, exceptions, and other objects.\\n\\nNoteworthy: None is the `nil' object; Ellipsis represents `...' in slices.\", '__package__': '', '__loader__': <class '_frozen_importlib.BuiltinImporter'>, '__spec__': ModuleSpec(name='builtins', loader=<class '_frozen_importlib.BuiltinImporter'>, origin='built-in'), '__build_class__': <built-in function __build_class__>, '__import__': <built-in function __import__>, 'abs': <built-in function abs>, 'all': <built-in function all>, 'any': <built-in function any>, 'ascii': <built-in function ascii>, 'bin': <built-in function bin>, 'breakpoint': <built-in function breakpoint>, 'callable': <built-in function callable>, 'chr': <built-in function chr>, 'compile': <built-in function compile>, 'delattr': <built-in function delattr>, 'dir': <built-in function dir>, 'divmod': <built-in function divmod>, 'eval': <built-in function eval>, 'exec': <built-in function exec>, 'format': <built-in function format>, 'getattr': <built-in function getattr>, 'globals': <built-in function globals>, 'hasattr': <built-in function hasattr>, 'hash': <built-in function hash>, 'hex': <built-in function hex>, 'id': <built-in function id>, 'input': <bound method Kernel.raw_input of <ipykernel.ipkernel.IPythonKernel object at 0x000001D03ED69090>>, 'isinstance': <built-in function isinstance>, 'issubclass': <built-in function issubclass>, 'iter': <built-in function iter>, 'aiter': <built-in function aiter>, 'len': <built-in function len>, 'locals': <built-in function locals>, 'max': <built-in function max>, 'min': <built-in function min>, 'next': <built-in function next>, 'anext': <built-in function anext>, 'oct': <built-in function oct>, 'ord': <built-in function ord>, 'pow': <built-in function pow>, 'print': <built-in function print>, 'repr': <built-in function repr>, 'round': <built-in function round>, 'setattr': <built-in function setattr>, 'sorted': <built-in function sorted>, 'sum': <built-in function sum>, 'vars': <built-in function vars>, 'None': None, 'Ellipsis': Ellipsis, 'NotImplemented': NotImplemented, 'False': False, 'True': True, 'bool': <class 'bool'>, 'memoryview': <class 'memoryview'>, 'bytearray': <class 'bytearray'>, 'bytes': <class 'bytes'>, 'classmethod': <class 'classmethod'>, 'complex': <class 'complex'>, 'dict': <class 'dict'>, 'enumerate': <class 'enumerate'>, 'filter': <class 'filter'>, 'float': <class 'float'>, 'frozenset': <class 'frozenset'>, 'property': <class 'property'>, 'int': <class 'int'>, 'list': <class 'list'>, 'map': <class 'map'>, 'object': <class 'object'>, 'range': <class 'range'>, 'reversed': <class 'reversed'>, 'set': <class 'set'>, 'slice': <class 'slice'>, 'staticmethod': <class 'staticmethod'>, 'str': <class 'str'>, 'super': <class 'super'>, 'tuple': <class 'tuple'>, 'type': <class 'type'>, 'zip': <class 'zip'>, '__debug__': True, 'BaseException': <class 'BaseException'>, 'BaseExceptionGroup': <class 'BaseExceptionGroup'>, 'Exception': <class 'Exception'>, 'GeneratorExit': <class 'GeneratorExit'>, 'KeyboardInterrupt': <class 'KeyboardInterrupt'>, 'SystemExit': <class 'SystemExit'>, 'ArithmeticError': <class 'ArithmeticError'>, 'AssertionError': <class 'AssertionError'>, 'AttributeError': <class 'AttributeError'>, 'BufferError': <class 'BufferError'>, 'EOFError': <class 'EOFError'>, 'ImportError': <class 'ImportError'>, 'LookupError': <class 'LookupError'>, 'MemoryError': <class 'MemoryError'>, 'NameError': <class 'NameError'>, 'OSError': <class 'OSError'>, 'ReferenceError': <class 'ReferenceError'>, 'RuntimeError': <class 'RuntimeError'>, 'StopAsyncIteration': <class 'StopAsyncIteration'>, 'StopIteration': <class 'StopIteration'>, 'SyntaxError': <class 'SyntaxError'>, 'SystemError': <class 'SystemError'>, 'TypeError': <class 'TypeError'>, 'ValueError': <class 'ValueError'>, 'Warning': <class 'Warning'>, 'FloatingPointError': <class 'FloatingPointError'>, 'OverflowError': <class 'OverflowError'>, 'ZeroDivisionError': <class 'ZeroDivisionError'>, 'BytesWarning': <class 'BytesWarning'>, 'DeprecationWarning': <class 'DeprecationWarning'>, 'EncodingWarning': <class 'EncodingWarning'>, 'FutureWarning': <class 'FutureWarning'>, 'ImportWarning': <class 'ImportWarning'>, 'PendingDeprecationWarning': <class 'PendingDeprecationWarning'>, 'ResourceWarning': <class 'ResourceWarning'>, 'RuntimeWarning': <class 'RuntimeWarning'>, 'SyntaxWarning': <class 'SyntaxWarning'>, 'UnicodeWarning': <class 'UnicodeWarning'>, 'UserWarning': <class 'UserWarning'>, 'BlockingIOError': <class 'BlockingIOError'>, 'ChildProcessError': <class 'ChildProcessError'>, 'ConnectionError': <class 'ConnectionError'>, 'FileExistsError': <class 'FileExistsError'>, 'FileNotFoundError': <class 'FileNotFoundError'>, 'InterruptedError': <class 'InterruptedError'>, 'IsADirectoryError': <class 'IsADirectoryError'>, 'NotADirectoryError': <class 'NotADirectoryError'>, 'PermissionError': <class 'PermissionError'>, 'ProcessLookupError': <class 'ProcessLookupError'>, 'TimeoutError': <class 'TimeoutError'>, 'IndentationError': <class 'IndentationError'>, 'IndexError': <class 'IndexError'>, 'KeyError': <class 'KeyError'>, 'ModuleNotFoundError': <class 'ModuleNotFoundError'>, 'NotImplementedError': <class 'NotImplementedError'>, 'RecursionError': <class 'RecursionError'>, 'UnboundLocalError': <class 'UnboundLocalError'>, 'UnicodeError': <class 'UnicodeError'>, 'BrokenPipeError': <class 'BrokenPipeError'>, 'ConnectionAbortedError': <class 'ConnectionAbortedError'>, 'ConnectionRefusedError': <class 'ConnectionRefusedError'>, 'ConnectionResetError': <class 'ConnectionResetError'>, 'TabError': <class 'TabError'>, 'UnicodeDecodeError': <class 'UnicodeDecodeError'>, 'UnicodeEncodeError': <class 'UnicodeEncodeError'>, 'UnicodeTranslateError': <class 'UnicodeTranslateError'>, 'ExceptionGroup': <class 'ExceptionGroup'>, 'EnvironmentError': <class 'OSError'>, 'IOError': <class 'OSError'>, 'WindowsError': <class 'OSError'>, 'open': <built-in function open>, 'copyright': Copyright (c) 2001-2022 Python Software Foundation.\n",
      "All Rights Reserved.\n",
      "\n",
      "Copyright (c) 2000 BeOpen.com.\n",
      "All Rights Reserved.\n",
      "\n",
      "Copyright (c) 1995-2001 Corporation for National Research Initiatives.\n",
      "All Rights Reserved.\n",
      "\n",
      "Copyright (c) 1991-1995 Stichting Mathematisch Centrum, Amsterdam.\n",
      "All Rights Reserved., 'credits':     Thanks to CWI, CNRI, BeOpen.com, Zope Corporation and a cast of thousands\n",
      "    for supporting Python development.  See www.python.org for more information., 'license': See https://www.python.org/psf/license/, 'help': Type help() for interactive help, or help(object) for help about object., 'execfile': <function execfile at 0x000001D03EE86C00>, 'runfile': <function runfile at 0x000001D03FF5E340>, '__IPYTHON__': True, 'display': <function display at 0x000001D03D5A2E80>, 'get_ipython': <bound method InteractiveShell.get_ipython of <ipykernel.zmqshell.ZMQInteractiveShell object at 0x000001D040228FD0>>}, 'all_couplings': [GC_1, GC_2, GC_3, GC_4, GC_5, GC_6, GC_7, GC_8, GC_9, GC_10, GC_11, GC_12, GC_13, GC_14, GC_15, GC_16, GC_17, GC_18, GC_19, GC_20, GC_21, GC_22, GC_23, GC_24, GC_25, GC_26, GC_27, GC_28, GC_29, GC_30, GC_31, GC_32, GC_33, GC_34, GC_35, GC_36, GC_37, GC_38, GC_39, GC_40, GC_41, GC_42, GC_43, GC_44, GC_45, GC_46, GC_47, GC_48, GC_49, GC_50, GC_51, GC_52, GC_53, GC_54, GC_55, GC_56, GC_57, GC_58, GC_59, GC_60, GC_61, GC_62, GC_63, GC_64, GC_65, GC_66, GC_67, GC_68, GC_69, GC_70, GC_71, GC_72, GC_73, GC_74, GC_75, GC_76, GC_77, GC_78, GC_79, GC_80, GC_81, GC_82, GC_83, GC_84, GC_85, GC_86, GC_87, GC_88, GC_89, GC_90, GC_91, GC_92, GC_93, GC_94, GC_95, GC_96, GC_97, GC_98, GC_99, GC_100, GC_101, GC_102, GC_103, GC_104, GC_105, GC_106, GC_107, GC_108, GC_109, GC_110, GC_111, GC_112, GC_113, GC_114, GC_115, GC_116, GC_117, GC_118, GC_119, GC_120, GC_121, GC_122, GC_123, GC_124, GC_125, GC_126, GC_127, GC_128, GC_129, GC_130, GC_131, GC_132, GC_133, GC_134, GC_135, GC_136, GC_137, GC_138, GC_139, GC_140, GC_141, GC_142, GC_143, GC_144, GC_145, GC_146, GC_147, GC_148, GC_149, GC_150, GC_151, GC_152, GC_153, GC_154, GC_155, GC_156, GC_157, GC_158, GC_159, GC_160, GC_161, GC_162, GC_163, GC_164, GC_165, GC_166, GC_167, GC_168, GC_169, GC_170, GC_171, GC_172, GC_173, GC_174, GC_175, GC_176, GC_177, GC_178, GC_179, GC_180, GC_181, GC_182, GC_183, GC_184, GC_185, GC_186, GC_187, GC_188, GC_189, GC_190, GC_191, GC_192, GC_193, GC_194, GC_195, GC_196, GC_197, GC_198, GC_199, GC_200, GC_201, GC_202, GC_203, GC_204, GC_205, GC_206, GC_207, GC_208, GC_209, GC_210, GC_211, GC_212, GC_213, GC_214, GC_215, GC_216, GC_217, GC_218, GC_219, GC_220, GC_221, GC_222, GC_223, GC_224, GC_225, GC_226, GC_227, GC_228, GC_229, GC_230, GC_231, GC_232, GC_233, GC_234, GC_235, GC_236, GC_237, GC_238, GC_239, GC_240, GC_241, GC_242, GC_243, GC_244, GC_245, GC_246, GC_247, GC_248, GC_249, GC_250, GC_251, GC_252, GC_253, GC_254, GC_255, GC_256, GC_257, GC_258, GC_259, GC_260, GC_261, GC_262, GC_263, GC_264, GC_265, GC_266, GC_267, GC_268, GC_269, GC_270, GC_271, GC_272, GC_273, GC_274, GC_275, GC_276, GC_277, GC_278, GC_279, GC_280, GC_281, GC_282, GC_283, GC_284, GC_285, GC_286, GC_287, GC_288, GC_289, GC_290, GC_291, GC_292, GC_293, GC_294, GC_295, GC_296, GC_297, GC_298, GC_299, GC_300, GC_301, GC_302, GC_303, GC_304, GC_305, GC_306, GC_307, GC_308, GC_309, GC_310, GC_311, GC_312, GC_313, GC_314, GC_315, GC_316, GC_317, GC_318, GC_319, GC_320, GC_321, GC_322, GC_323, GC_324, GC_325, GC_326, GC_327, GC_328, GC_329, GC_330, GC_331, GC_332, GC_333, GC_334, GC_335, GC_336, GC_337, GC_338, GC_339, GC_340, GC_341, GC_342, GC_343, GC_344, GC_345, GC_346, GC_347, GC_348, GC_349, GC_350, GC_351, GC_352, GC_353, GC_354, GC_355, GC_356, GC_357, GC_358, GC_359, GC_360, GC_361, GC_362, GC_363, GC_364, GC_365, GC_366, GC_367, GC_368, GC_369, GC_370, GC_371, GC_372, GC_373, GC_374, GC_375, GC_376, GC_377, GC_378, GC_379, GC_380, GC_381, GC_382, GC_383, GC_384, GC_385, GC_386, GC_387, GC_388, GC_389, GC_390, GC_391, GC_392, GC_393, GC_394, GC_395, GC_396, GC_397, GC_398, GC_399, GC_400, GC_401, GC_402, GC_403, GC_404, GC_405, GC_406, GC_407, GC_408, GC_409, GC_410, GC_411, GC_412, GC_413, GC_414, GC_415, GC_416, GC_417, GC_418, GC_419, GC_420, GC_421, GC_422, GC_423, GC_424, GC_425, GC_426, GC_427, GC_428, GC_429, GC_430, GC_431, GC_432, GC_433, GC_434, GC_435, GC_436, GC_437, GC_438, GC_439, GC_440, GC_441, GC_442, GC_443, GC_444, GC_445, GC_446, GC_447, GC_448, GC_449, GC_450, GC_451, GC_452, GC_453, GC_454, GC_455, GC_456, GC_457, GC_458, GC_459, GC_460, GC_461, GC_462, GC_463, GC_464, GC_465, GC_466, GC_467, GC_468, GC_469, GC_470, GC_471, GC_472, GC_473, GC_474, GC_475, GC_476, GC_477, GC_478, GC_479, GC_480, GC_481, GC_482, GC_483, GC_484, GC_485, GC_486, GC_487, GC_488, GC_489, GC_490, GC_491, GC_492, GC_493, GC_494, GC_495, GC_496, GC_497, GC_498, GC_499, GC_500, GC_501, GC_502, GC_503, GC_504, GC_505, GC_506, GC_507, GC_508, GC_509, GC_510, GC_511, GC_512, GC_513, GC_514, GC_515, GC_516, GC_517, GC_518, GC_519, GC_520, GC_521, GC_522, GC_523, GC_524, GC_525, GC_526, GC_527, GC_528, GC_529, GC_530, GC_531, GC_532, GC_533, GC_534, GC_535, GC_536, GC_537, GC_538, GC_539, GC_540, GC_541, GC_542, GC_543, GC_544, GC_545, GC_546, GC_547, GC_548, GC_549, GC_550, GC_551, GC_552, GC_553, GC_554, GC_555, GC_556, GC_557, GC_558, GC_559, GC_560, GC_561, GC_562, GC_563, GC_564, GC_565, GC_566, GC_567, GC_568, GC_569, GC_570, GC_571, GC_572, GC_573, GC_574, GC_575, GC_576, GC_577, GC_578, GC_579, GC_580, GC_581, GC_582, GC_583, GC_584, GC_585, GC_586, GC_587, GC_588, GC_589, GC_590, GC_591, GC_592, GC_593, GC_594, GC_595, GC_596, GC_597, GC_598, GC_599, GC_600, GC_601, GC_602, GC_603, GC_604, GC_605, GC_606, GC_607, GC_608, GC_609, GC_610, GC_611, GC_612, GC_613, GC_614, GC_615, GC_616, GC_617, GC_618, GC_619, GC_620, GC_621, GC_622, GC_623, GC_624, GC_625, GC_626, GC_627, GC_628, GC_629, GC_630, GC_631, GC_632, GC_633, GC_634, GC_635, GC_636, GC_637, GC_638, GC_639, GC_640, GC_641, GC_642, GC_643, GC_644, GC_645, GC_646, GC_647, GC_648, GC_649, GC_650, GC_651, GC_652, GC_653, GC_654, GC_655, GC_656, GC_657, GC_658, GC_659, GC_660, GC_661, GC_662, GC_663, GC_664, GC_665, GC_666, GC_667, GC_668, GC_669, GC_670, GC_671, GC_672, GC_673, GC_674, GC_675, GC_676, GC_677, GC_678, GC_679, GC_680, GC_681, GC_682, GC_683, GC_684, GC_685, GC_686, GC_687, GC_688, GC_689, GC_690, GC_691, GC_692, GC_693, GC_694, GC_695, GC_696, GC_697, GC_698, GC_699, GC_700, GC_701, GC_702, GC_703, GC_704, GC_705, GC_706, GC_707, GC_708, GC_709, GC_710, GC_711, GC_712, GC_713, GC_714, GC_715, GC_716, GC_717, GC_718, GC_719, GC_720, GC_721, GC_722, GC_723, GC_724, GC_725, GC_726, GC_727, GC_728, GC_729, GC_730, GC_731, GC_732, GC_733, GC_734, GC_735, GC_736, GC_737, GC_738, GC_739, GC_740, GC_741, GC_742, GC_743, GC_744, GC_745, GC_746, GC_747, GC_748, GC_749, GC_750, GC_751, GC_752, GC_753, GC_754, GC_755, GC_756, GC_757, GC_758, GC_759, GC_760, GC_761, GC_762, GC_763, GC_764, GC_765, GC_766, GC_767, GC_768, GC_769, GC_770, GC_771, GC_772, GC_773, GC_774, GC_775, GC_776, GC_777, GC_778, GC_779, GC_780, GC_781, GC_782, GC_783, GC_784, GC_785, GC_786, GC_787, GC_788, GC_789, GC_790, GC_791, GC_792, GC_793, GC_794, GC_795, GC_796, GC_797, GC_798, GC_799, GC_800, GC_801, GC_802, GC_803, GC_804, GC_805, GC_806, GC_807, GC_808, GC_809, GC_810, GC_811, GC_812, GC_813, GC_814, GC_815, GC_816, GC_817, GC_818, GC_819, GC_820, GC_821, GC_822, GC_823, GC_824, GC_825, GC_826, GC_827, GC_828, GC_829, GC_830, GC_831, GC_832, GC_833, GC_834, GC_835, GC_836, GC_837, GC_838, GC_839, GC_840, GC_841, GC_842, GC_843, GC_844, GC_845, GC_846, GC_847, GC_848, GC_849, GC_850, GC_851, GC_852, GC_853, GC_854, GC_855, GC_856, GC_857, GC_858, GC_859, GC_860, GC_861, GC_862, GC_863, GC_864, GC_865, GC_866, GC_867, GC_868, GC_869, GC_870, GC_871, GC_872, GC_873, GC_874, GC_875, GC_876, GC_877, GC_878, GC_879, GC_880, GC_881, GC_882, GC_883, GC_884, GC_885, GC_886, GC_887, GC_888, GC_889, GC_890, GC_891, GC_892, GC_893, GC_894, GC_895, GC_896, GC_897, GC_898, GC_899, GC_900, GC_901, GC_902, GC_903, GC_904, GC_905, GC_906, GC_907, GC_908, GC_909, GC_910, GC_911, GC_912, GC_913, GC_914, GC_915, GC_916, GC_917, GC_918, GC_919, GC_920, GC_921, GC_922, GC_923, GC_924, GC_925, GC_926, GC_927, GC_928, GC_929, GC_930, GC_931, GC_932, GC_933, GC_934, GC_935, GC_936, GC_937, GC_938, GC_939, GC_940, GC_941, GC_942, GC_943, GC_944, GC_945, GC_946, GC_947, GC_948, GC_949, GC_950, GC_951, GC_952, GC_953, GC_954, GC_955, GC_956, GC_957, GC_958, GC_959, GC_960, GC_961, GC_962, GC_963, GC_964, GC_965, GC_966, GC_967, GC_968, GC_969, GC_970, GC_971, GC_972, GC_973, GC_974, GC_975, GC_976, GC_977, GC_978, GC_979, GC_980, GC_981, GC_982, GC_983, GC_984, GC_985, GC_986, GC_987, GC_988, GC_989, GC_990, GC_991, GC_992, GC_993, GC_994, GC_995, GC_996, GC_997, GC_998, GC_999, GC_1000, GC_1001, GC_1002, GC_1003, GC_1004, GC_1005, GC_1006, GC_1007, GC_1008, GC_1009, GC_1010, GC_1011, GC_1012, GC_1013, GC_1014, GC_1015, GC_1016, GC_1017, GC_1018, GC_1019, GC_1020, GC_1021, GC_1022, GC_1023, GC_1024, GC_1025, GC_1026, GC_1027, GC_1028, GC_1029, GC_1030, GC_1031, GC_1032, GC_1033, GC_1034, GC_1035, GC_1036, GC_1037, GC_1038, GC_1039, GC_1040, GC_1041, GC_1042, GC_1043, GC_1044, GC_1045, GC_1046, GC_1047, GC_1048, GC_1049, GC_1050, GC_1051, GC_1052, GC_1053, GC_1054, GC_1055, GC_1056, GC_1057, GC_1058, GC_1059, GC_1060, GC_1061, GC_1062, GC_1063, GC_1064, GC_1065, GC_1066, GC_1067, GC_1068, GC_1069, GC_1070, GC_1071, GC_1072, GC_1073, GC_1074, GC_1075, GC_1076, GC_1077, GC_1078, GC_1079, GC_1080, GC_1081, GC_1082, GC_1083, GC_1084, GC_1085, GC_1086, GC_1087, GC_1088, GC_1089, GC_1090, GC_1091, GC_1092, GC_1093, GC_1094, GC_1095, GC_1096, GC_1097, GC_1098, GC_1099, GC_1100, GC_1101, GC_1102, GC_1103, GC_1104, GC_1105, GC_1106, GC_1107, GC_1108, GC_1109, GC_1110, GC_1111, GC_1112, GC_1113, GC_1114, GC_1115, GC_1116, GC_1117, GC_1118, GC_1119, GC_1120, GC_1121, GC_1122, GC_1123, GC_1124, GC_1125, GC_1126, GC_1127, GC_1128, GC_1129, GC_1130, GC_1131, GC_1132, GC_1133, GC_1134, GC_1135, GC_1136, GC_1137, GC_1138, GC_1139, GC_1140, GC_1141, GC_1142, GC_1143, GC_1144, GC_1145, GC_1146, GC_1147, GC_1148, GC_1149, GC_1150, GC_1151, GC_1152, GC_1153, GC_1154, GC_1155, GC_1156, GC_1157, GC_1158, GC_1159, GC_1160, GC_1161, GC_1162, GC_1163, GC_1164, GC_1165, GC_1166, GC_1167, GC_1168, GC_1169, GC_1170, GC_1171, GC_1172, GC_1173, GC_1174, GC_1175, GC_1176, GC_1177, GC_1178, GC_1179, GC_1180, GC_1181, GC_1182, GC_1183, GC_1184, GC_1185, GC_1186, GC_1187, GC_1188, GC_1189, GC_1190, GC_1191, GC_1192, GC_1193, GC_1194, GC_1195, GC_1196, GC_1197, GC_1198, GC_1199, GC_1200, GC_1201, GC_1202, GC_1203, GC_1204, GC_1205, GC_1206, GC_1207, GC_1208, GC_1209, GC_1210, GC_1211, GC_1212, GC_1213, GC_1214, GC_1215, GC_1216, GC_1217, GC_1218, GC_1219, GC_1220, GC_1221, GC_1222, GC_1223, GC_1224, GC_1225, GC_1226, GC_1227, GC_1228, GC_1229, GC_1230, GC_1231, GC_1232, GC_1233, GC_1234, GC_1235, GC_1236, GC_1237, GC_1238, GC_1239, GC_1240, GC_1241, GC_1242, GC_1243, GC_1244, GC_1245, GC_1246, GC_1247, GC_1248, GC_1249, GC_1250, GC_1251, GC_1252, GC_1253, GC_1254, GC_1255, GC_1256, GC_1257, GC_1258, GC_1259, GC_1260, GC_1261, GC_1262, GC_1263, GC_1264, GC_1265, GC_1266, GC_1267, GC_1268, GC_1269, GC_1270, GC_1271, GC_1272, GC_1273, GC_1274, GC_1275, GC_1276, GC_1277, GC_1278, GC_1279, GC_1280, GC_1281, GC_1282, GC_1283, GC_1284, GC_1285, GC_1286, GC_1287, GC_1288, GC_1289, GC_1290, GC_1291, GC_1292, GC_1293, GC_1294, GC_1295, GC_1296, GC_1297, GC_1298, GC_1299, GC_1300, GC_1301, GC_1302, GC_1303, GC_1304, GC_1305, GC_1306, GC_1307, GC_1308, GC_1309, GC_1310, GC_1311, GC_1312, GC_1313, GC_1314, GC_1315, GC_1316, GC_1317, GC_1318, GC_1319, GC_1320, GC_1321, GC_1322, GC_1323, GC_1324, GC_1325, GC_1326, GC_1327, GC_1328, GC_1329, GC_1330, GC_1331, GC_1332, GC_1333, GC_1334, GC_1335, GC_1336, GC_1337, GC_1338, GC_1339, GC_1340, GC_1341, GC_1342, GC_1343, GC_1344, GC_1345, GC_1346, GC_1347, GC_1348, GC_1349, GC_1350, GC_1351, GC_1352, GC_1353, GC_1354, GC_1355, GC_1356, GC_1357, GC_1358, GC_1359, GC_1360, GC_1361, GC_1362, GC_1363, GC_1364, GC_1365, GC_1366, GC_1367, GC_1368, GC_1369, GC_1370, GC_1371, GC_1372, GC_1373, GC_1374, GC_1375, GC_1376, GC_1377, GC_1378, GC_1379, GC_1380, GC_1381, GC_1382, GC_1383, GC_1384, GC_1385, GC_1386, GC_1387, GC_1388, GC_1389, GC_1390, GC_1391, GC_1392, GC_1393, GC_1394, GC_1395, GC_1396, GC_1397, GC_1398, GC_1399, GC_1400, GC_1401, GC_1402, GC_1403, GC_1404, GC_1405, GC_1406, GC_1407, GC_1408, GC_1409, GC_1410, GC_1411, GC_1412, GC_1413, GC_1414, GC_1415, GC_1416, GC_1417, GC_1418, GC_1419, GC_1420, GC_1421, GC_1422, GC_1423, GC_1424, GC_1425, GC_1426, GC_1427, GC_1428, GC_1429, GC_1430, GC_1431, GC_1432, GC_1433, GC_1434, GC_1435, GC_1436, GC_1437, GC_1438, GC_1439, GC_1440, GC_1441, GC_1442, GC_1443, GC_1444, GC_1445, GC_1446, GC_1447, GC_1448, GC_1449, GC_1450, GC_1451, GC_1452, GC_1453, GC_1454, GC_1455, GC_1456, GC_1457, GC_1458, GC_1459, GC_1460, GC_1461, GC_1462, GC_1463, GC_1464, GC_1465, GC_1466, GC_1467, GC_1468, GC_1469, GC_1470, GC_1471, GC_1472, GC_1473, GC_1474, GC_1475, GC_1476, GC_1477, GC_1478, GC_1479, GC_1480, GC_1481, GC_1482, GC_1483, GC_1484, GC_1485, GC_1486, GC_1487, GC_1488, GC_1489, GC_1490, GC_1491, GC_1492, GC_1493, GC_1494, GC_1495, GC_1496, GC_1497, GC_1498, GC_1499, GC_1500, GC_1501, GC_1502, GC_1503, GC_1504, GC_1505, GC_1506, GC_1507, GC_1508, GC_1509, GC_1510, GC_1511, GC_1512], 'Coupling': <class 'object_library.Coupling'>, 'complexconjugate': <object_library.Function object at 0x000001D041BB6690>, 're': <object_library.Function object at 0x000001D041394110>, 'im': <object_library.Function object at 0x000001D041395350>, 'csc': <object_library.Function object at 0x000001D041BB6790>, 'sec': <object_library.Function object at 0x000001D041BB66D0>, 'acsc': <object_library.Function object at 0x000001D041BB67D0>, 'asec': <object_library.Function object at 0x000001D041BB6710>, 'cot': <object_library.Function object at 0x000001D041BB6810>, 'GC_1': GC_1, 'GC_2': GC_2, 'GC_3': GC_3, 'GC_4': GC_4, 'GC_5': GC_5, 'GC_6': GC_6, 'GC_7': GC_7, 'GC_8': GC_8, 'GC_9': GC_9, 'GC_10': GC_10, 'GC_11': GC_11, 'GC_12': GC_12, 'GC_13': GC_13, 'GC_14': GC_14, 'GC_15': GC_15, 'GC_16': GC_16, 'GC_17': GC_17, 'GC_18': GC_18, 'GC_19': GC_19, 'GC_20': GC_20, 'GC_21': GC_21, 'GC_22': GC_22, 'GC_23': GC_23, 'GC_24': GC_24, 'GC_25': GC_25, 'GC_26': GC_26, 'GC_27': GC_27, 'GC_28': GC_28, 'GC_29': GC_29, 'GC_30': GC_30, 'GC_31': GC_31, 'GC_32': GC_32, 'GC_33': GC_33, 'GC_34': GC_34, 'GC_35': GC_35, 'GC_36': GC_36, 'GC_37': GC_37, 'GC_38': GC_38, 'GC_39': GC_39, 'GC_40': GC_40, 'GC_41': GC_41, 'GC_42': GC_42, 'GC_43': GC_43, 'GC_44': GC_44, 'GC_45': GC_45, 'GC_46': GC_46, 'GC_47': GC_47, 'GC_48': GC_48, 'GC_49': GC_49, 'GC_50': GC_50, 'GC_51': GC_51, 'GC_52': GC_52, 'GC_53': GC_53, 'GC_54': GC_54, 'GC_55': GC_55, 'GC_56': GC_56, 'GC_57': GC_57, 'GC_58': GC_58, 'GC_59': GC_59, 'GC_60': GC_60, 'GC_61': GC_61, 'GC_62': GC_62, 'GC_63': GC_63, 'GC_64': GC_64, 'GC_65': GC_65, 'GC_66': GC_66, 'GC_67': GC_67, 'GC_68': GC_68, 'GC_69': GC_69, 'GC_70': GC_70, 'GC_71': GC_71, 'GC_72': GC_72, 'GC_73': GC_73, 'GC_74': GC_74, 'GC_75': GC_75, 'GC_76': GC_76, 'GC_77': GC_77, 'GC_78': GC_78, 'GC_79': GC_79, 'GC_80': GC_80, 'GC_81': GC_81, 'GC_82': GC_82, 'GC_83': GC_83, 'GC_84': GC_84, 'GC_85': GC_85, 'GC_86': GC_86, 'GC_87': GC_87, 'GC_88': GC_88, 'GC_89': GC_89, 'GC_90': GC_90, 'GC_91': GC_91, 'GC_92': GC_92, 'GC_93': GC_93, 'GC_94': GC_94, 'GC_95': GC_95, 'GC_96': GC_96, 'GC_97': GC_97, 'GC_98': GC_98, 'GC_99': GC_99, 'GC_100': GC_100, 'GC_101': GC_101, 'GC_102': GC_102, 'GC_103': GC_103, 'GC_104': GC_104, 'GC_105': GC_105, 'GC_106': GC_106, 'GC_107': GC_107, 'GC_108': GC_108, 'GC_109': GC_109, 'GC_110': GC_110, 'GC_111': GC_111, 'GC_112': GC_112, 'GC_113': GC_113, 'GC_114': GC_114, 'GC_115': GC_115, 'GC_116': GC_116, 'GC_117': GC_117, 'GC_118': GC_118, 'GC_119': GC_119, 'GC_120': GC_120, 'GC_121': GC_121, 'GC_122': GC_122, 'GC_123': GC_123, 'GC_124': GC_124, 'GC_125': GC_125, 'GC_126': GC_126, 'GC_127': GC_127, 'GC_128': GC_128, 'GC_129': GC_129, 'GC_130': GC_130, 'GC_131': GC_131, 'GC_132': GC_132, 'GC_133': GC_133, 'GC_134': GC_134, 'GC_135': GC_135, 'GC_136': GC_136, 'GC_137': GC_137, 'GC_138': GC_138, 'GC_139': GC_139, 'GC_140': GC_140, 'GC_141': GC_141, 'GC_142': GC_142, 'GC_143': GC_143, 'GC_144': GC_144, 'GC_145': GC_145, 'GC_146': GC_146, 'GC_147': GC_147, 'GC_148': GC_148, 'GC_149': GC_149, 'GC_150': GC_150, 'GC_151': GC_151, 'GC_152': GC_152, 'GC_153': GC_153, 'GC_154': GC_154, 'GC_155': GC_155, 'GC_156': GC_156, 'GC_157': GC_157, 'GC_158': GC_158, 'GC_159': GC_159, 'GC_160': GC_160, 'GC_161': GC_161, 'GC_162': GC_162, 'GC_163': GC_163, 'GC_164': GC_164, 'GC_165': GC_165, 'GC_166': GC_166, 'GC_167': GC_167, 'GC_168': GC_168, 'GC_169': GC_169, 'GC_170': GC_170, 'GC_171': GC_171, 'GC_172': GC_172, 'GC_173': GC_173, 'GC_174': GC_174, 'GC_175': GC_175, 'GC_176': GC_176, 'GC_177': GC_177, 'GC_178': GC_178, 'GC_179': GC_179, 'GC_180': GC_180, 'GC_181': GC_181, 'GC_182': GC_182, 'GC_183': GC_183, 'GC_184': GC_184, 'GC_185': GC_185, 'GC_186': GC_186, 'GC_187': GC_187, 'GC_188': GC_188, 'GC_189': GC_189, 'GC_190': GC_190, 'GC_191': GC_191, 'GC_192': GC_192, 'GC_193': GC_193, 'GC_194': GC_194, 'GC_195': GC_195, 'GC_196': GC_196, 'GC_197': GC_197, 'GC_198': GC_198, 'GC_199': GC_199, 'GC_200': GC_200, 'GC_201': GC_201, 'GC_202': GC_202, 'GC_203': GC_203, 'GC_204': GC_204, 'GC_205': GC_205, 'GC_206': GC_206, 'GC_207': GC_207, 'GC_208': GC_208, 'GC_209': GC_209, 'GC_210': GC_210, 'GC_211': GC_211, 'GC_212': GC_212, 'GC_213': GC_213, 'GC_214': GC_214, 'GC_215': GC_215, 'GC_216': GC_216, 'GC_217': GC_217, 'GC_218': GC_218, 'GC_219': GC_219, 'GC_220': GC_220, 'GC_221': GC_221, 'GC_222': GC_222, 'GC_223': GC_223, 'GC_224': GC_224, 'GC_225': GC_225, 'GC_226': GC_226, 'GC_227': GC_227, 'GC_228': GC_228, 'GC_229': GC_229, 'GC_230': GC_230, 'GC_231': GC_231, 'GC_232': GC_232, 'GC_233': GC_233, 'GC_234': GC_234, 'GC_235': GC_235, 'GC_236': GC_236, 'GC_237': GC_237, 'GC_238': GC_238, 'GC_239': GC_239, 'GC_240': GC_240, 'GC_241': GC_241, 'GC_242': GC_242, 'GC_243': GC_243, 'GC_244': GC_244, 'GC_245': GC_245, 'GC_246': GC_246, 'GC_247': GC_247, 'GC_248': GC_248, 'GC_249': GC_249, 'GC_250': GC_250, 'GC_251': GC_251, 'GC_252': GC_252, 'GC_253': GC_253, 'GC_254': GC_254, 'GC_255': GC_255, 'GC_256': GC_256, 'GC_257': GC_257, 'GC_258': GC_258, 'GC_259': GC_259, 'GC_260': GC_260, 'GC_261': GC_261, 'GC_262': GC_262, 'GC_263': GC_263, 'GC_264': GC_264, 'GC_265': GC_265, 'GC_266': GC_266, 'GC_267': GC_267, 'GC_268': GC_268, 'GC_269': GC_269, 'GC_270': GC_270, 'GC_271': GC_271, 'GC_272': GC_272, 'GC_273': GC_273, 'GC_274': GC_274, 'GC_275': GC_275, 'GC_276': GC_276, 'GC_277': GC_277, 'GC_278': GC_278, 'GC_279': GC_279, 'GC_280': GC_280, 'GC_281': GC_281, 'GC_282': GC_282, 'GC_283': GC_283, 'GC_284': GC_284, 'GC_285': GC_285, 'GC_286': GC_286, 'GC_287': GC_287, 'GC_288': GC_288, 'GC_289': GC_289, 'GC_290': GC_290, 'GC_291': GC_291, 'GC_292': GC_292, 'GC_293': GC_293, 'GC_294': GC_294, 'GC_295': GC_295, 'GC_296': GC_296, 'GC_297': GC_297, 'GC_298': GC_298, 'GC_299': GC_299, 'GC_300': GC_300, 'GC_301': GC_301, 'GC_302': GC_302, 'GC_303': GC_303, 'GC_304': GC_304, 'GC_305': GC_305, 'GC_306': GC_306, 'GC_307': GC_307, 'GC_308': GC_308, 'GC_309': GC_309, 'GC_310': GC_310, 'GC_311': GC_311, 'GC_312': GC_312, 'GC_313': GC_313, 'GC_314': GC_314, 'GC_315': GC_315, 'GC_316': GC_316, 'GC_317': GC_317, 'GC_318': GC_318, 'GC_319': GC_319, 'GC_320': GC_320, 'GC_321': GC_321, 'GC_322': GC_322, 'GC_323': GC_323, 'GC_324': GC_324, 'GC_325': GC_325, 'GC_326': GC_326, 'GC_327': GC_327, 'GC_328': GC_328, 'GC_329': GC_329, 'GC_330': GC_330, 'GC_331': GC_331, 'GC_332': GC_332, 'GC_333': GC_333, 'GC_334': GC_334, 'GC_335': GC_335, 'GC_336': GC_336, 'GC_337': GC_337, 'GC_338': GC_338, 'GC_339': GC_339, 'GC_340': GC_340, 'GC_341': GC_341, 'GC_342': GC_342, 'GC_343': GC_343, 'GC_344': GC_344, 'GC_345': GC_345, 'GC_346': GC_346, 'GC_347': GC_347, 'GC_348': GC_348, 'GC_349': GC_349, 'GC_350': GC_350, 'GC_351': GC_351, 'GC_352': GC_352, 'GC_353': GC_353, 'GC_354': GC_354, 'GC_355': GC_355, 'GC_356': GC_356, 'GC_357': GC_357, 'GC_358': GC_358, 'GC_359': GC_359, 'GC_360': GC_360, 'GC_361': GC_361, 'GC_362': GC_362, 'GC_363': GC_363, 'GC_364': GC_364, 'GC_365': GC_365, 'GC_366': GC_366, 'GC_367': GC_367, 'GC_368': GC_368, 'GC_369': GC_369, 'GC_370': GC_370, 'GC_371': GC_371, 'GC_372': GC_372, 'GC_373': GC_373, 'GC_374': GC_374, 'GC_375': GC_375, 'GC_376': GC_376, 'GC_377': GC_377, 'GC_378': GC_378, 'GC_379': GC_379, 'GC_380': GC_380, 'GC_381': GC_381, 'GC_382': GC_382, 'GC_383': GC_383, 'GC_384': GC_384, 'GC_385': GC_385, 'GC_386': GC_386, 'GC_387': GC_387, 'GC_388': GC_388, 'GC_389': GC_389, 'GC_390': GC_390, 'GC_391': GC_391, 'GC_392': GC_392, 'GC_393': GC_393, 'GC_394': GC_394, 'GC_395': GC_395, 'GC_396': GC_396, 'GC_397': GC_397, 'GC_398': GC_398, 'GC_399': GC_399, 'GC_400': GC_400, 'GC_401': GC_401, 'GC_402': GC_402, 'GC_403': GC_403, 'GC_404': GC_404, 'GC_405': GC_405, 'GC_406': GC_406, 'GC_407': GC_407, 'GC_408': GC_408, 'GC_409': GC_409, 'GC_410': GC_410, 'GC_411': GC_411, 'GC_412': GC_412, 'GC_413': GC_413, 'GC_414': GC_414, 'GC_415': GC_415, 'GC_416': GC_416, 'GC_417': GC_417, 'GC_418': GC_418, 'GC_419': GC_419, 'GC_420': GC_420, 'GC_421': GC_421, 'GC_422': GC_422, 'GC_423': GC_423, 'GC_424': GC_424, 'GC_425': GC_425, 'GC_426': GC_426, 'GC_427': GC_427, 'GC_428': GC_428, 'GC_429': GC_429, 'GC_430': GC_430, 'GC_431': GC_431, 'GC_432': GC_432, 'GC_433': GC_433, 'GC_434': GC_434, 'GC_435': GC_435, 'GC_436': GC_436, 'GC_437': GC_437, 'GC_438': GC_438, 'GC_439': GC_439, 'GC_440': GC_440, 'GC_441': GC_441, 'GC_442': GC_442, 'GC_443': GC_443, 'GC_444': GC_444, 'GC_445': GC_445, 'GC_446': GC_446, 'GC_447': GC_447, 'GC_448': GC_448, 'GC_449': GC_449, 'GC_450': GC_450, 'GC_451': GC_451, 'GC_452': GC_452, 'GC_453': GC_453, 'GC_454': GC_454, 'GC_455': GC_455, 'GC_456': GC_456, 'GC_457': GC_457, 'GC_458': GC_458, 'GC_459': GC_459, 'GC_460': GC_460, 'GC_461': GC_461, 'GC_462': GC_462, 'GC_463': GC_463, 'GC_464': GC_464, 'GC_465': GC_465, 'GC_466': GC_466, 'GC_467': GC_467, 'GC_468': GC_468, 'GC_469': GC_469, 'GC_470': GC_470, 'GC_471': GC_471, 'GC_472': GC_472, 'GC_473': GC_473, 'GC_474': GC_474, 'GC_475': GC_475, 'GC_476': GC_476, 'GC_477': GC_477, 'GC_478': GC_478, 'GC_479': GC_479, 'GC_480': GC_480, 'GC_481': GC_481, 'GC_482': GC_482, 'GC_483': GC_483, 'GC_484': GC_484, 'GC_485': GC_485, 'GC_486': GC_486, 'GC_487': GC_487, 'GC_488': GC_488, 'GC_489': GC_489, 'GC_490': GC_490, 'GC_491': GC_491, 'GC_492': GC_492, 'GC_493': GC_493, 'GC_494': GC_494, 'GC_495': GC_495, 'GC_496': GC_496, 'GC_497': GC_497, 'GC_498': GC_498, 'GC_499': GC_499, 'GC_500': GC_500, 'GC_501': GC_501, 'GC_502': GC_502, 'GC_503': GC_503, 'GC_504': GC_504, 'GC_505': GC_505, 'GC_506': GC_506, 'GC_507': GC_507, 'GC_508': GC_508, 'GC_509': GC_509, 'GC_510': GC_510, 'GC_511': GC_511, 'GC_512': GC_512, 'GC_513': GC_513, 'GC_514': GC_514, 'GC_515': GC_515, 'GC_516': GC_516, 'GC_517': GC_517, 'GC_518': GC_518, 'GC_519': GC_519, 'GC_520': GC_520, 'GC_521': GC_521, 'GC_522': GC_522, 'GC_523': GC_523, 'GC_524': GC_524, 'GC_525': GC_525, 'GC_526': GC_526, 'GC_527': GC_527, 'GC_528': GC_528, 'GC_529': GC_529, 'GC_530': GC_530, 'GC_531': GC_531, 'GC_532': GC_532, 'GC_533': GC_533, 'GC_534': GC_534, 'GC_535': GC_535, 'GC_536': GC_536, 'GC_537': GC_537, 'GC_538': GC_538, 'GC_539': GC_539, 'GC_540': GC_540, 'GC_541': GC_541, 'GC_542': GC_542, 'GC_543': GC_543, 'GC_544': GC_544, 'GC_545': GC_545, 'GC_546': GC_546, 'GC_547': GC_547, 'GC_548': GC_548, 'GC_549': GC_549, 'GC_550': GC_550, 'GC_551': GC_551, 'GC_552': GC_552, 'GC_553': GC_553, 'GC_554': GC_554, 'GC_555': GC_555, 'GC_556': GC_556, 'GC_557': GC_557, 'GC_558': GC_558, 'GC_559': GC_559, 'GC_560': GC_560, 'GC_561': GC_561, 'GC_562': GC_562, 'GC_563': GC_563, 'GC_564': GC_564, 'GC_565': GC_565, 'GC_566': GC_566, 'GC_567': GC_567, 'GC_568': GC_568, 'GC_569': GC_569, 'GC_570': GC_570, 'GC_571': GC_571, 'GC_572': GC_572, 'GC_573': GC_573, 'GC_574': GC_574, 'GC_575': GC_575, 'GC_576': GC_576, 'GC_577': GC_577, 'GC_578': GC_578, 'GC_579': GC_579, 'GC_580': GC_580, 'GC_581': GC_581, 'GC_582': GC_582, 'GC_583': GC_583, 'GC_584': GC_584, 'GC_585': GC_585, 'GC_586': GC_586, 'GC_587': GC_587, 'GC_588': GC_588, 'GC_589': GC_589, 'GC_590': GC_590, 'GC_591': GC_591, 'GC_592': GC_592, 'GC_593': GC_593, 'GC_594': GC_594, 'GC_595': GC_595, 'GC_596': GC_596, 'GC_597': GC_597, 'GC_598': GC_598, 'GC_599': GC_599, 'GC_600': GC_600, 'GC_601': GC_601, 'GC_602': GC_602, 'GC_603': GC_603, 'GC_604': GC_604, 'GC_605': GC_605, 'GC_606': GC_606, 'GC_607': GC_607, 'GC_608': GC_608, 'GC_609': GC_609, 'GC_610': GC_610, 'GC_611': GC_611, 'GC_612': GC_612, 'GC_613': GC_613, 'GC_614': GC_614, 'GC_615': GC_615, 'GC_616': GC_616, 'GC_617': GC_617, 'GC_618': GC_618, 'GC_619': GC_619, 'GC_620': GC_620, 'GC_621': GC_621, 'GC_622': GC_622, 'GC_623': GC_623, 'GC_624': GC_624, 'GC_625': GC_625, 'GC_626': GC_626, 'GC_627': GC_627, 'GC_628': GC_628, 'GC_629': GC_629, 'GC_630': GC_630, 'GC_631': GC_631, 'GC_632': GC_632, 'GC_633': GC_633, 'GC_634': GC_634, 'GC_635': GC_635, 'GC_636': GC_636, 'GC_637': GC_637, 'GC_638': GC_638, 'GC_639': GC_639, 'GC_640': GC_640, 'GC_641': GC_641, 'GC_642': GC_642, 'GC_643': GC_643, 'GC_644': GC_644, 'GC_645': GC_645, 'GC_646': GC_646, 'GC_647': GC_647, 'GC_648': GC_648, 'GC_649': GC_649, 'GC_650': GC_650, 'GC_651': GC_651, 'GC_652': GC_652, 'GC_653': GC_653, 'GC_654': GC_654, 'GC_655': GC_655, 'GC_656': GC_656, 'GC_657': GC_657, 'GC_658': GC_658, 'GC_659': GC_659, 'GC_660': GC_660, 'GC_661': GC_661, 'GC_662': GC_662, 'GC_663': GC_663, 'GC_664': GC_664, 'GC_665': GC_665, 'GC_666': GC_666, 'GC_667': GC_667, 'GC_668': GC_668, 'GC_669': GC_669, 'GC_670': GC_670, 'GC_671': GC_671, 'GC_672': GC_672, 'GC_673': GC_673, 'GC_674': GC_674, 'GC_675': GC_675, 'GC_676': GC_676, 'GC_677': GC_677, 'GC_678': GC_678, 'GC_679': GC_679, 'GC_680': GC_680, 'GC_681': GC_681, 'GC_682': GC_682, 'GC_683': GC_683, 'GC_684': GC_684, 'GC_685': GC_685, 'GC_686': GC_686, 'GC_687': GC_687, 'GC_688': GC_688, 'GC_689': GC_689, 'GC_690': GC_690, 'GC_691': GC_691, 'GC_692': GC_692, 'GC_693': GC_693, 'GC_694': GC_694, 'GC_695': GC_695, 'GC_696': GC_696, 'GC_697': GC_697, 'GC_698': GC_698, 'GC_699': GC_699, 'GC_700': GC_700, 'GC_701': GC_701, 'GC_702': GC_702, 'GC_703': GC_703, 'GC_704': GC_704, 'GC_705': GC_705, 'GC_706': GC_706, 'GC_707': GC_707, 'GC_708': GC_708, 'GC_709': GC_709, 'GC_710': GC_710, 'GC_711': GC_711, 'GC_712': GC_712, 'GC_713': GC_713, 'GC_714': GC_714, 'GC_715': GC_715, 'GC_716': GC_716, 'GC_717': GC_717, 'GC_718': GC_718, 'GC_719': GC_719, 'GC_720': GC_720, 'GC_721': GC_721, 'GC_722': GC_722, 'GC_723': GC_723, 'GC_724': GC_724, 'GC_725': GC_725, 'GC_726': GC_726, 'GC_727': GC_727, 'GC_728': GC_728, 'GC_729': GC_729, 'GC_730': GC_730, 'GC_731': GC_731, 'GC_732': GC_732, 'GC_733': GC_733, 'GC_734': GC_734, 'GC_735': GC_735, 'GC_736': GC_736, 'GC_737': GC_737, 'GC_738': GC_738, 'GC_739': GC_739, 'GC_740': GC_740, 'GC_741': GC_741, 'GC_742': GC_742, 'GC_743': GC_743, 'GC_744': GC_744, 'GC_745': GC_745, 'GC_746': GC_746, 'GC_747': GC_747, 'GC_748': GC_748, 'GC_749': GC_749, 'GC_750': GC_750, 'GC_751': GC_751, 'GC_752': GC_752, 'GC_753': GC_753, 'GC_754': GC_754, 'GC_755': GC_755, 'GC_756': GC_756, 'GC_757': GC_757, 'GC_758': GC_758, 'GC_759': GC_759, 'GC_760': GC_760, 'GC_761': GC_761, 'GC_762': GC_762, 'GC_763': GC_763, 'GC_764': GC_764, 'GC_765': GC_765, 'GC_766': GC_766, 'GC_767': GC_767, 'GC_768': GC_768, 'GC_769': GC_769, 'GC_770': GC_770, 'GC_771': GC_771, 'GC_772': GC_772, 'GC_773': GC_773, 'GC_774': GC_774, 'GC_775': GC_775, 'GC_776': GC_776, 'GC_777': GC_777, 'GC_778': GC_778, 'GC_779': GC_779, 'GC_780': GC_780, 'GC_781': GC_781, 'GC_782': GC_782, 'GC_783': GC_783, 'GC_784': GC_784, 'GC_785': GC_785, 'GC_786': GC_786, 'GC_787': GC_787, 'GC_788': GC_788, 'GC_789': GC_789, 'GC_790': GC_790, 'GC_791': GC_791, 'GC_792': GC_792, 'GC_793': GC_793, 'GC_794': GC_794, 'GC_795': GC_795, 'GC_796': GC_796, 'GC_797': GC_797, 'GC_798': GC_798, 'GC_799': GC_799, 'GC_800': GC_800, 'GC_801': GC_801, 'GC_802': GC_802, 'GC_803': GC_803, 'GC_804': GC_804, 'GC_805': GC_805, 'GC_806': GC_806, 'GC_807': GC_807, 'GC_808': GC_808, 'GC_809': GC_809, 'GC_810': GC_810, 'GC_811': GC_811, 'GC_812': GC_812, 'GC_813': GC_813, 'GC_814': GC_814, 'GC_815': GC_815, 'GC_816': GC_816, 'GC_817': GC_817, 'GC_818': GC_818, 'GC_819': GC_819, 'GC_820': GC_820, 'GC_821': GC_821, 'GC_822': GC_822, 'GC_823': GC_823, 'GC_824': GC_824, 'GC_825': GC_825, 'GC_826': GC_826, 'GC_827': GC_827, 'GC_828': GC_828, 'GC_829': GC_829, 'GC_830': GC_830, 'GC_831': GC_831, 'GC_832': GC_832, 'GC_833': GC_833, 'GC_834': GC_834, 'GC_835': GC_835, 'GC_836': GC_836, 'GC_837': GC_837, 'GC_838': GC_838, 'GC_839': GC_839, 'GC_840': GC_840, 'GC_841': GC_841, 'GC_842': GC_842, 'GC_843': GC_843, 'GC_844': GC_844, 'GC_845': GC_845, 'GC_846': GC_846, 'GC_847': GC_847, 'GC_848': GC_848, 'GC_849': GC_849, 'GC_850': GC_850, 'GC_851': GC_851, 'GC_852': GC_852, 'GC_853': GC_853, 'GC_854': GC_854, 'GC_855': GC_855, 'GC_856': GC_856, 'GC_857': GC_857, 'GC_858': GC_858, 'GC_859': GC_859, 'GC_860': GC_860, 'GC_861': GC_861, 'GC_862': GC_862, 'GC_863': GC_863, 'GC_864': GC_864, 'GC_865': GC_865, 'GC_866': GC_866, 'GC_867': GC_867, 'GC_868': GC_868, 'GC_869': GC_869, 'GC_870': GC_870, 'GC_871': GC_871, 'GC_872': GC_872, 'GC_873': GC_873, 'GC_874': GC_874, 'GC_875': GC_875, 'GC_876': GC_876, 'GC_877': GC_877, 'GC_878': GC_878, 'GC_879': GC_879, 'GC_880': GC_880, 'GC_881': GC_881, 'GC_882': GC_882, 'GC_883': GC_883, 'GC_884': GC_884, 'GC_885': GC_885, 'GC_886': GC_886, 'GC_887': GC_887, 'GC_888': GC_888, 'GC_889': GC_889, 'GC_890': GC_890, 'GC_891': GC_891, 'GC_892': GC_892, 'GC_893': GC_893, 'GC_894': GC_894, 'GC_895': GC_895, 'GC_896': GC_896, 'GC_897': GC_897, 'GC_898': GC_898, 'GC_899': GC_899, 'GC_900': GC_900, 'GC_901': GC_901, 'GC_902': GC_902, 'GC_903': GC_903, 'GC_904': GC_904, 'GC_905': GC_905, 'GC_906': GC_906, 'GC_907': GC_907, 'GC_908': GC_908, 'GC_909': GC_909, 'GC_910': GC_910, 'GC_911': GC_911, 'GC_912': GC_912, 'GC_913': GC_913, 'GC_914': GC_914, 'GC_915': GC_915, 'GC_916': GC_916, 'GC_917': GC_917, 'GC_918': GC_918, 'GC_919': GC_919, 'GC_920': GC_920, 'GC_921': GC_921, 'GC_922': GC_922, 'GC_923': GC_923, 'GC_924': GC_924, 'GC_925': GC_925, 'GC_926': GC_926, 'GC_927': GC_927, 'GC_928': GC_928, 'GC_929': GC_929, 'GC_930': GC_930, 'GC_931': GC_931, 'GC_932': GC_932, 'GC_933': GC_933, 'GC_934': GC_934, 'GC_935': GC_935, 'GC_936': GC_936, 'GC_937': GC_937, 'GC_938': GC_938, 'GC_939': GC_939, 'GC_940': GC_940, 'GC_941': GC_941, 'GC_942': GC_942, 'GC_943': GC_943, 'GC_944': GC_944, 'GC_945': GC_945, 'GC_946': GC_946, 'GC_947': GC_947, 'GC_948': GC_948, 'GC_949': GC_949, 'GC_950': GC_950, 'GC_951': GC_951, 'GC_952': GC_952, 'GC_953': GC_953, 'GC_954': GC_954, 'GC_955': GC_955, 'GC_956': GC_956, 'GC_957': GC_957, 'GC_958': GC_958, 'GC_959': GC_959, 'GC_960': GC_960, 'GC_961': GC_961, 'GC_962': GC_962, 'GC_963': GC_963, 'GC_964': GC_964, 'GC_965': GC_965, 'GC_966': GC_966, 'GC_967': GC_967, 'GC_968': GC_968, 'GC_969': GC_969, 'GC_970': GC_970, 'GC_971': GC_971, 'GC_972': GC_972, 'GC_973': GC_973, 'GC_974': GC_974, 'GC_975': GC_975, 'GC_976': GC_976, 'GC_977': GC_977, 'GC_978': GC_978, 'GC_979': GC_979, 'GC_980': GC_980, 'GC_981': GC_981, 'GC_982': GC_982, 'GC_983': GC_983, 'GC_984': GC_984, 'GC_985': GC_985, 'GC_986': GC_986, 'GC_987': GC_987, 'GC_988': GC_988, 'GC_989': GC_989, 'GC_990': GC_990, 'GC_991': GC_991, 'GC_992': GC_992, 'GC_993': GC_993, 'GC_994': GC_994, 'GC_995': GC_995, 'GC_996': GC_996, 'GC_997': GC_997, 'GC_998': GC_998, 'GC_999': GC_999, 'GC_1000': GC_1000, 'GC_1001': GC_1001, 'GC_1002': GC_1002, 'GC_1003': GC_1003, 'GC_1004': GC_1004, 'GC_1005': GC_1005, 'GC_1006': GC_1006, 'GC_1007': GC_1007, 'GC_1008': GC_1008, 'GC_1009': GC_1009, 'GC_1010': GC_1010, 'GC_1011': GC_1011, 'GC_1012': GC_1012, 'GC_1013': GC_1013, 'GC_1014': GC_1014, 'GC_1015': GC_1015, 'GC_1016': GC_1016, 'GC_1017': GC_1017, 'GC_1018': GC_1018, 'GC_1019': GC_1019, 'GC_1020': GC_1020, 'GC_1021': GC_1021, 'GC_1022': GC_1022, 'GC_1023': GC_1023, 'GC_1024': GC_1024, 'GC_1025': GC_1025, 'GC_1026': GC_1026, 'GC_1027': GC_1027, 'GC_1028': GC_1028, 'GC_1029': GC_1029, 'GC_1030': GC_1030, 'GC_1031': GC_1031, 'GC_1032': GC_1032, 'GC_1033': GC_1033, 'GC_1034': GC_1034, 'GC_1035': GC_1035, 'GC_1036': GC_1036, 'GC_1037': GC_1037, 'GC_1038': GC_1038, 'GC_1039': GC_1039, 'GC_1040': GC_1040, 'GC_1041': GC_1041, 'GC_1042': GC_1042, 'GC_1043': GC_1043, 'GC_1044': GC_1044, 'GC_1045': GC_1045, 'GC_1046': GC_1046, 'GC_1047': GC_1047, 'GC_1048': GC_1048, 'GC_1049': GC_1049, 'GC_1050': GC_1050, 'GC_1051': GC_1051, 'GC_1052': GC_1052, 'GC_1053': GC_1053, 'GC_1054': GC_1054, 'GC_1055': GC_1055, 'GC_1056': GC_1056, 'GC_1057': GC_1057, 'GC_1058': GC_1058, 'GC_1059': GC_1059, 'GC_1060': GC_1060, 'GC_1061': GC_1061, 'GC_1062': GC_1062, 'GC_1063': GC_1063, 'GC_1064': GC_1064, 'GC_1065': GC_1065, 'GC_1066': GC_1066, 'GC_1067': GC_1067, 'GC_1068': GC_1068, 'GC_1069': GC_1069, 'GC_1070': GC_1070, 'GC_1071': GC_1071, 'GC_1072': GC_1072, 'GC_1073': GC_1073, 'GC_1074': GC_1074, 'GC_1075': GC_1075, 'GC_1076': GC_1076, 'GC_1077': GC_1077, 'GC_1078': GC_1078, 'GC_1079': GC_1079, 'GC_1080': GC_1080, 'GC_1081': GC_1081, 'GC_1082': GC_1082, 'GC_1083': GC_1083, 'GC_1084': GC_1084, 'GC_1085': GC_1085, 'GC_1086': GC_1086, 'GC_1087': GC_1087, 'GC_1088': GC_1088, 'GC_1089': GC_1089, 'GC_1090': GC_1090, 'GC_1091': GC_1091, 'GC_1092': GC_1092, 'GC_1093': GC_1093, 'GC_1094': GC_1094, 'GC_1095': GC_1095, 'GC_1096': GC_1096, 'GC_1097': GC_1097, 'GC_1098': GC_1098, 'GC_1099': GC_1099, 'GC_1100': GC_1100, 'GC_1101': GC_1101, 'GC_1102': GC_1102, 'GC_1103': GC_1103, 'GC_1104': GC_1104, 'GC_1105': GC_1105, 'GC_1106': GC_1106, 'GC_1107': GC_1107, 'GC_1108': GC_1108, 'GC_1109': GC_1109, 'GC_1110': GC_1110, 'GC_1111': GC_1111, 'GC_1112': GC_1112, 'GC_1113': GC_1113, 'GC_1114': GC_1114, 'GC_1115': GC_1115, 'GC_1116': GC_1116, 'GC_1117': GC_1117, 'GC_1118': GC_1118, 'GC_1119': GC_1119, 'GC_1120': GC_1120, 'GC_1121': GC_1121, 'GC_1122': GC_1122, 'GC_1123': GC_1123, 'GC_1124': GC_1124, 'GC_1125': GC_1125, 'GC_1126': GC_1126, 'GC_1127': GC_1127, 'GC_1128': GC_1128, 'GC_1129': GC_1129, 'GC_1130': GC_1130, 'GC_1131': GC_1131, 'GC_1132': GC_1132, 'GC_1133': GC_1133, 'GC_1134': GC_1134, 'GC_1135': GC_1135, 'GC_1136': GC_1136, 'GC_1137': GC_1137, 'GC_1138': GC_1138, 'GC_1139': GC_1139, 'GC_1140': GC_1140, 'GC_1141': GC_1141, 'GC_1142': GC_1142, 'GC_1143': GC_1143, 'GC_1144': GC_1144, 'GC_1145': GC_1145, 'GC_1146': GC_1146, 'GC_1147': GC_1147, 'GC_1148': GC_1148, 'GC_1149': GC_1149, 'GC_1150': GC_1150, 'GC_1151': GC_1151, 'GC_1152': GC_1152, 'GC_1153': GC_1153, 'GC_1154': GC_1154, 'GC_1155': GC_1155, 'GC_1156': GC_1156, 'GC_1157': GC_1157, 'GC_1158': GC_1158, 'GC_1159': GC_1159, 'GC_1160': GC_1160, 'GC_1161': GC_1161, 'GC_1162': GC_1162, 'GC_1163': GC_1163, 'GC_1164': GC_1164, 'GC_1165': GC_1165, 'GC_1166': GC_1166, 'GC_1167': GC_1167, 'GC_1168': GC_1168, 'GC_1169': GC_1169, 'GC_1170': GC_1170, 'GC_1171': GC_1171, 'GC_1172': GC_1172, 'GC_1173': GC_1173, 'GC_1174': GC_1174, 'GC_1175': GC_1175, 'GC_1176': GC_1176, 'GC_1177': GC_1177, 'GC_1178': GC_1178, 'GC_1179': GC_1179, 'GC_1180': GC_1180, 'GC_1181': GC_1181, 'GC_1182': GC_1182, 'GC_1183': GC_1183, 'GC_1184': GC_1184, 'GC_1185': GC_1185, 'GC_1186': GC_1186, 'GC_1187': GC_1187, 'GC_1188': GC_1188, 'GC_1189': GC_1189, 'GC_1190': GC_1190, 'GC_1191': GC_1191, 'GC_1192': GC_1192, 'GC_1193': GC_1193, 'GC_1194': GC_1194, 'GC_1195': GC_1195, 'GC_1196': GC_1196, 'GC_1197': GC_1197, 'GC_1198': GC_1198, 'GC_1199': GC_1199, 'GC_1200': GC_1200, 'GC_1201': GC_1201, 'GC_1202': GC_1202, 'GC_1203': GC_1203, 'GC_1204': GC_1204, 'GC_1205': GC_1205, 'GC_1206': GC_1206, 'GC_1207': GC_1207, 'GC_1208': GC_1208, 'GC_1209': GC_1209, 'GC_1210': GC_1210, 'GC_1211': GC_1211, 'GC_1212': GC_1212, 'GC_1213': GC_1213, 'GC_1214': GC_1214, 'GC_1215': GC_1215, 'GC_1216': GC_1216, 'GC_1217': GC_1217, 'GC_1218': GC_1218, 'GC_1219': GC_1219, 'GC_1220': GC_1220, 'GC_1221': GC_1221, 'GC_1222': GC_1222, 'GC_1223': GC_1223, 'GC_1224': GC_1224, 'GC_1225': GC_1225, 'GC_1226': GC_1226, 'GC_1227': GC_1227, 'GC_1228': GC_1228, 'GC_1229': GC_1229, 'GC_1230': GC_1230, 'GC_1231': GC_1231, 'GC_1232': GC_1232, 'GC_1233': GC_1233, 'GC_1234': GC_1234, 'GC_1235': GC_1235, 'GC_1236': GC_1236, 'GC_1237': GC_1237, 'GC_1238': GC_1238, 'GC_1239': GC_1239, 'GC_1240': GC_1240, 'GC_1241': GC_1241, 'GC_1242': GC_1242, 'GC_1243': GC_1243, 'GC_1244': GC_1244, 'GC_1245': GC_1245, 'GC_1246': GC_1246, 'GC_1247': GC_1247, 'GC_1248': GC_1248, 'GC_1249': GC_1249, 'GC_1250': GC_1250, 'GC_1251': GC_1251, 'GC_1252': GC_1252, 'GC_1253': GC_1253, 'GC_1254': GC_1254, 'GC_1255': GC_1255, 'GC_1256': GC_1256, 'GC_1257': GC_1257, 'GC_1258': GC_1258, 'GC_1259': GC_1259, 'GC_1260': GC_1260, 'GC_1261': GC_1261, 'GC_1262': GC_1262, 'GC_1263': GC_1263, 'GC_1264': GC_1264, 'GC_1265': GC_1265, 'GC_1266': GC_1266, 'GC_1267': GC_1267, 'GC_1268': GC_1268, 'GC_1269': GC_1269, 'GC_1270': GC_1270, 'GC_1271': GC_1271, 'GC_1272': GC_1272, 'GC_1273': GC_1273, 'GC_1274': GC_1274, 'GC_1275': GC_1275, 'GC_1276': GC_1276, 'GC_1277': GC_1277, 'GC_1278': GC_1278, 'GC_1279': GC_1279, 'GC_1280': GC_1280, 'GC_1281': GC_1281, 'GC_1282': GC_1282, 'GC_1283': GC_1283, 'GC_1284': GC_1284, 'GC_1285': GC_1285, 'GC_1286': GC_1286, 'GC_1287': GC_1287, 'GC_1288': GC_1288, 'GC_1289': GC_1289, 'GC_1290': GC_1290, 'GC_1291': GC_1291, 'GC_1292': GC_1292, 'GC_1293': GC_1293, 'GC_1294': GC_1294, 'GC_1295': GC_1295, 'GC_1296': GC_1296, 'GC_1297': GC_1297, 'GC_1298': GC_1298, 'GC_1299': GC_1299, 'GC_1300': GC_1300, 'GC_1301': GC_1301, 'GC_1302': GC_1302, 'GC_1303': GC_1303, 'GC_1304': GC_1304, 'GC_1305': GC_1305, 'GC_1306': GC_1306, 'GC_1307': GC_1307, 'GC_1308': GC_1308, 'GC_1309': GC_1309, 'GC_1310': GC_1310, 'GC_1311': GC_1311, 'GC_1312': GC_1312, 'GC_1313': GC_1313, 'GC_1314': GC_1314, 'GC_1315': GC_1315, 'GC_1316': GC_1316, 'GC_1317': GC_1317, 'GC_1318': GC_1318, 'GC_1319': GC_1319, 'GC_1320': GC_1320, 'GC_1321': GC_1321, 'GC_1322': GC_1322, 'GC_1323': GC_1323, 'GC_1324': GC_1324, 'GC_1325': GC_1325, 'GC_1326': GC_1326, 'GC_1327': GC_1327, 'GC_1328': GC_1328, 'GC_1329': GC_1329, 'GC_1330': GC_1330, 'GC_1331': GC_1331, 'GC_1332': GC_1332, 'GC_1333': GC_1333, 'GC_1334': GC_1334, 'GC_1335': GC_1335, 'GC_1336': GC_1336, 'GC_1337': GC_1337, 'GC_1338': GC_1338, 'GC_1339': GC_1339, 'GC_1340': GC_1340, 'GC_1341': GC_1341, 'GC_1342': GC_1342, 'GC_1343': GC_1343, 'GC_1344': GC_1344, 'GC_1345': GC_1345, 'GC_1346': GC_1346, 'GC_1347': GC_1347, 'GC_1348': GC_1348, 'GC_1349': GC_1349, 'GC_1350': GC_1350, 'GC_1351': GC_1351, 'GC_1352': GC_1352, 'GC_1353': GC_1353, 'GC_1354': GC_1354, 'GC_1355': GC_1355, 'GC_1356': GC_1356, 'GC_1357': GC_1357, 'GC_1358': GC_1358, 'GC_1359': GC_1359, 'GC_1360': GC_1360, 'GC_1361': GC_1361, 'GC_1362': GC_1362, 'GC_1363': GC_1363, 'GC_1364': GC_1364, 'GC_1365': GC_1365, 'GC_1366': GC_1366, 'GC_1367': GC_1367, 'GC_1368': GC_1368, 'GC_1369': GC_1369, 'GC_1370': GC_1370, 'GC_1371': GC_1371, 'GC_1372': GC_1372, 'GC_1373': GC_1373, 'GC_1374': GC_1374, 'GC_1375': GC_1375, 'GC_1376': GC_1376, 'GC_1377': GC_1377, 'GC_1378': GC_1378, 'GC_1379': GC_1379, 'GC_1380': GC_1380, 'GC_1381': GC_1381, 'GC_1382': GC_1382, 'GC_1383': GC_1383, 'GC_1384': GC_1384, 'GC_1385': GC_1385, 'GC_1386': GC_1386, 'GC_1387': GC_1387, 'GC_1388': GC_1388, 'GC_1389': GC_1389, 'GC_1390': GC_1390, 'GC_1391': GC_1391, 'GC_1392': GC_1392, 'GC_1393': GC_1393, 'GC_1394': GC_1394, 'GC_1395': GC_1395, 'GC_1396': GC_1396, 'GC_1397': GC_1397, 'GC_1398': GC_1398, 'GC_1399': GC_1399, 'GC_1400': GC_1400, 'GC_1401': GC_1401, 'GC_1402': GC_1402, 'GC_1403': GC_1403, 'GC_1404': GC_1404, 'GC_1405': GC_1405, 'GC_1406': GC_1406, 'GC_1407': GC_1407, 'GC_1408': GC_1408, 'GC_1409': GC_1409, 'GC_1410': GC_1410, 'GC_1411': GC_1411, 'GC_1412': GC_1412, 'GC_1413': GC_1413, 'GC_1414': GC_1414, 'GC_1415': GC_1415, 'GC_1416': GC_1416, 'GC_1417': GC_1417, 'GC_1418': GC_1418, 'GC_1419': GC_1419, 'GC_1420': GC_1420, 'GC_1421': GC_1421, 'GC_1422': GC_1422, 'GC_1423': GC_1423, 'GC_1424': GC_1424, 'GC_1425': GC_1425, 'GC_1426': GC_1426, 'GC_1427': GC_1427, 'GC_1428': GC_1428, 'GC_1429': GC_1429, 'GC_1430': GC_1430, 'GC_1431': GC_1431, 'GC_1432': GC_1432, 'GC_1433': GC_1433, 'GC_1434': GC_1434, 'GC_1435': GC_1435, 'GC_1436': GC_1436, 'GC_1437': GC_1437, 'GC_1438': GC_1438, 'GC_1439': GC_1439, 'GC_1440': GC_1440, 'GC_1441': GC_1441, 'GC_1442': GC_1442, 'GC_1443': GC_1443, 'GC_1444': GC_1444, 'GC_1445': GC_1445, 'GC_1446': GC_1446, 'GC_1447': GC_1447, 'GC_1448': GC_1448, 'GC_1449': GC_1449, 'GC_1450': GC_1450, 'GC_1451': GC_1451, 'GC_1452': GC_1452, 'GC_1453': GC_1453, 'GC_1454': GC_1454, 'GC_1455': GC_1455, 'GC_1456': GC_1456, 'GC_1457': GC_1457, 'GC_1458': GC_1458, 'GC_1459': GC_1459, 'GC_1460': GC_1460, 'GC_1461': GC_1461, 'GC_1462': GC_1462, 'GC_1463': GC_1463, 'GC_1464': GC_1464, 'GC_1465': GC_1465, 'GC_1466': GC_1466, 'GC_1467': GC_1467, 'GC_1468': GC_1468, 'GC_1469': GC_1469, 'GC_1470': GC_1470, 'GC_1471': GC_1471, 'GC_1472': GC_1472, 'GC_1473': GC_1473, 'GC_1474': GC_1474, 'GC_1475': GC_1475, 'GC_1476': GC_1476, 'GC_1477': GC_1477, 'GC_1478': GC_1478, 'GC_1479': GC_1479, 'GC_1480': GC_1480, 'GC_1481': GC_1481, 'GC_1482': GC_1482, 'GC_1483': GC_1483, 'GC_1484': GC_1484, 'GC_1485': GC_1485, 'GC_1486': GC_1486, 'GC_1487': GC_1487, 'GC_1488': GC_1488, 'GC_1489': GC_1489, 'GC_1490': GC_1490, 'GC_1491': GC_1491, 'GC_1492': GC_1492, 'GC_1493': GC_1493, 'GC_1494': GC_1494, 'GC_1495': GC_1495, 'GC_1496': GC_1496, 'GC_1497': GC_1497, 'GC_1498': GC_1498, 'GC_1499': GC_1499, 'GC_1500': GC_1500, 'GC_1501': GC_1501, 'GC_1502': GC_1502, 'GC_1503': GC_1503, 'GC_1504': GC_1504, 'GC_1505': GC_1505, 'GC_1506': GC_1506, 'GC_1507': GC_1507, 'GC_1508': GC_1508, 'GC_1509': GC_1509, 'GC_1510': GC_1510, 'GC_1511': GC_1511, 'GC_1512': GC_1512}\n",
      "Loaded 1512 objects for couplings.\n",
      "Objects in all_couplings: [GC_1, GC_2, GC_3, GC_4, GC_5, GC_6, GC_7, GC_8, GC_9, GC_10, GC_11, GC_12, GC_13, GC_14, GC_15, GC_16, GC_17, GC_18, GC_19, GC_20, GC_21, GC_22, GC_23, GC_24, GC_25, GC_26, GC_27, GC_28, GC_29, GC_30, GC_31, GC_32, GC_33, GC_34, GC_35, GC_36, GC_37, GC_38, GC_39, GC_40, GC_41, GC_42, GC_43, GC_44, GC_45, GC_46, GC_47, GC_48, GC_49, GC_50, GC_51, GC_52, GC_53, GC_54, GC_55, GC_56, GC_57, GC_58, GC_59, GC_60, GC_61, GC_62, GC_63, GC_64, GC_65, GC_66, GC_67, GC_68, GC_69, GC_70, GC_71, GC_72, GC_73, GC_74, GC_75, GC_76, GC_77, GC_78, GC_79, GC_80, GC_81, GC_82, GC_83, GC_84, GC_85, GC_86, GC_87, GC_88, GC_89, GC_90, GC_91, GC_92, GC_93, GC_94, GC_95, GC_96, GC_97, GC_98, GC_99, GC_100, GC_101, GC_102, GC_103, GC_104, GC_105, GC_106, GC_107, GC_108, GC_109, GC_110, GC_111, GC_112, GC_113, GC_114, GC_115, GC_116, GC_117, GC_118, GC_119, GC_120, GC_121, GC_122, GC_123, GC_124, GC_125, GC_126, GC_127, GC_128, GC_129, GC_130, GC_131, GC_132, GC_133, GC_134, GC_135, GC_136, GC_137, GC_138, GC_139, GC_140, GC_141, GC_142, GC_143, GC_144, GC_145, GC_146, GC_147, GC_148, GC_149, GC_150, GC_151, GC_152, GC_153, GC_154, GC_155, GC_156, GC_157, GC_158, GC_159, GC_160, GC_161, GC_162, GC_163, GC_164, GC_165, GC_166, GC_167, GC_168, GC_169, GC_170, GC_171, GC_172, GC_173, GC_174, GC_175, GC_176, GC_177, GC_178, GC_179, GC_180, GC_181, GC_182, GC_183, GC_184, GC_185, GC_186, GC_187, GC_188, GC_189, GC_190, GC_191, GC_192, GC_193, GC_194, GC_195, GC_196, GC_197, GC_198, GC_199, GC_200, GC_201, GC_202, GC_203, GC_204, GC_205, GC_206, GC_207, GC_208, GC_209, GC_210, GC_211, GC_212, GC_213, GC_214, GC_215, GC_216, GC_217, GC_218, GC_219, GC_220, GC_221, GC_222, GC_223, GC_224, GC_225, GC_226, GC_227, GC_228, GC_229, GC_230, GC_231, GC_232, GC_233, GC_234, GC_235, GC_236, GC_237, GC_238, GC_239, GC_240, GC_241, GC_242, GC_243, GC_244, GC_245, GC_246, GC_247, GC_248, GC_249, GC_250, GC_251, GC_252, GC_253, GC_254, GC_255, GC_256, GC_257, GC_258, GC_259, GC_260, GC_261, GC_262, GC_263, GC_264, GC_265, GC_266, GC_267, GC_268, GC_269, GC_270, GC_271, GC_272, GC_273, GC_274, GC_275, GC_276, GC_277, GC_278, GC_279, GC_280, GC_281, GC_282, GC_283, GC_284, GC_285, GC_286, GC_287, GC_288, GC_289, GC_290, GC_291, GC_292, GC_293, GC_294, GC_295, GC_296, GC_297, GC_298, GC_299, GC_300, GC_301, GC_302, GC_303, GC_304, GC_305, GC_306, GC_307, GC_308, GC_309, GC_310, GC_311, GC_312, GC_313, GC_314, GC_315, GC_316, GC_317, GC_318, GC_319, GC_320, GC_321, GC_322, GC_323, GC_324, GC_325, GC_326, GC_327, GC_328, GC_329, GC_330, GC_331, GC_332, GC_333, GC_334, GC_335, GC_336, GC_337, GC_338, GC_339, GC_340, GC_341, GC_342, GC_343, GC_344, GC_345, GC_346, GC_347, GC_348, GC_349, GC_350, GC_351, GC_352, GC_353, GC_354, GC_355, GC_356, GC_357, GC_358, GC_359, GC_360, GC_361, GC_362, GC_363, GC_364, GC_365, GC_366, GC_367, GC_368, GC_369, GC_370, GC_371, GC_372, GC_373, GC_374, GC_375, GC_376, GC_377, GC_378, GC_379, GC_380, GC_381, GC_382, GC_383, GC_384, GC_385, GC_386, GC_387, GC_388, GC_389, GC_390, GC_391, GC_392, GC_393, GC_394, GC_395, GC_396, GC_397, GC_398, GC_399, GC_400, GC_401, GC_402, GC_403, GC_404, GC_405, GC_406, GC_407, GC_408, GC_409, GC_410, GC_411, GC_412, GC_413, GC_414, GC_415, GC_416, GC_417, GC_418, GC_419, GC_420, GC_421, GC_422, GC_423, GC_424, GC_425, GC_426, GC_427, GC_428, GC_429, GC_430, GC_431, GC_432, GC_433, GC_434, GC_435, GC_436, GC_437, GC_438, GC_439, GC_440, GC_441, GC_442, GC_443, GC_444, GC_445, GC_446, GC_447, GC_448, GC_449, GC_450, GC_451, GC_452, GC_453, GC_454, GC_455, GC_456, GC_457, GC_458, GC_459, GC_460, GC_461, GC_462, GC_463, GC_464, GC_465, GC_466, GC_467, GC_468, GC_469, GC_470, GC_471, GC_472, GC_473, GC_474, GC_475, GC_476, GC_477, GC_478, GC_479, GC_480, GC_481, GC_482, GC_483, GC_484, GC_485, GC_486, GC_487, GC_488, GC_489, GC_490, GC_491, GC_492, GC_493, GC_494, GC_495, GC_496, GC_497, GC_498, GC_499, GC_500, GC_501, GC_502, GC_503, GC_504, GC_505, GC_506, GC_507, GC_508, GC_509, GC_510, GC_511, GC_512, GC_513, GC_514, GC_515, GC_516, GC_517, GC_518, GC_519, GC_520, GC_521, GC_522, GC_523, GC_524, GC_525, GC_526, GC_527, GC_528, GC_529, GC_530, GC_531, GC_532, GC_533, GC_534, GC_535, GC_536, GC_537, GC_538, GC_539, GC_540, GC_541, GC_542, GC_543, GC_544, GC_545, GC_546, GC_547, GC_548, GC_549, GC_550, GC_551, GC_552, GC_553, GC_554, GC_555, GC_556, GC_557, GC_558, GC_559, GC_560, GC_561, GC_562, GC_563, GC_564, GC_565, GC_566, GC_567, GC_568, GC_569, GC_570, GC_571, GC_572, GC_573, GC_574, GC_575, GC_576, GC_577, GC_578, GC_579, GC_580, GC_581, GC_582, GC_583, GC_584, GC_585, GC_586, GC_587, GC_588, GC_589, GC_590, GC_591, GC_592, GC_593, GC_594, GC_595, GC_596, GC_597, GC_598, GC_599, GC_600, GC_601, GC_602, GC_603, GC_604, GC_605, GC_606, GC_607, GC_608, GC_609, GC_610, GC_611, GC_612, GC_613, GC_614, GC_615, GC_616, GC_617, GC_618, GC_619, GC_620, GC_621, GC_622, GC_623, GC_624, GC_625, GC_626, GC_627, GC_628, GC_629, GC_630, GC_631, GC_632, GC_633, GC_634, GC_635, GC_636, GC_637, GC_638, GC_639, GC_640, GC_641, GC_642, GC_643, GC_644, GC_645, GC_646, GC_647, GC_648, GC_649, GC_650, GC_651, GC_652, GC_653, GC_654, GC_655, GC_656, GC_657, GC_658, GC_659, GC_660, GC_661, GC_662, GC_663, GC_664, GC_665, GC_666, GC_667, GC_668, GC_669, GC_670, GC_671, GC_672, GC_673, GC_674, GC_675, GC_676, GC_677, GC_678, GC_679, GC_680, GC_681, GC_682, GC_683, GC_684, GC_685, GC_686, GC_687, GC_688, GC_689, GC_690, GC_691, GC_692, GC_693, GC_694, GC_695, GC_696, GC_697, GC_698, GC_699, GC_700, GC_701, GC_702, GC_703, GC_704, GC_705, GC_706, GC_707, GC_708, GC_709, GC_710, GC_711, GC_712, GC_713, GC_714, GC_715, GC_716, GC_717, GC_718, GC_719, GC_720, GC_721, GC_722, GC_723, GC_724, GC_725, GC_726, GC_727, GC_728, GC_729, GC_730, GC_731, GC_732, GC_733, GC_734, GC_735, GC_736, GC_737, GC_738, GC_739, GC_740, GC_741, GC_742, GC_743, GC_744, GC_745, GC_746, GC_747, GC_748, GC_749, GC_750, GC_751, GC_752, GC_753, GC_754, GC_755, GC_756, GC_757, GC_758, GC_759, GC_760, GC_761, GC_762, GC_763, GC_764, GC_765, GC_766, GC_767, GC_768, GC_769, GC_770, GC_771, GC_772, GC_773, GC_774, GC_775, GC_776, GC_777, GC_778, GC_779, GC_780, GC_781, GC_782, GC_783, GC_784, GC_785, GC_786, GC_787, GC_788, GC_789, GC_790, GC_791, GC_792, GC_793, GC_794, GC_795, GC_796, GC_797, GC_798, GC_799, GC_800, GC_801, GC_802, GC_803, GC_804, GC_805, GC_806, GC_807, GC_808, GC_809, GC_810, GC_811, GC_812, GC_813, GC_814, GC_815, GC_816, GC_817, GC_818, GC_819, GC_820, GC_821, GC_822, GC_823, GC_824, GC_825, GC_826, GC_827, GC_828, GC_829, GC_830, GC_831, GC_832, GC_833, GC_834, GC_835, GC_836, GC_837, GC_838, GC_839, GC_840, GC_841, GC_842, GC_843, GC_844, GC_845, GC_846, GC_847, GC_848, GC_849, GC_850, GC_851, GC_852, GC_853, GC_854, GC_855, GC_856, GC_857, GC_858, GC_859, GC_860, GC_861, GC_862, GC_863, GC_864, GC_865, GC_866, GC_867, GC_868, GC_869, GC_870, GC_871, GC_872, GC_873, GC_874, GC_875, GC_876, GC_877, GC_878, GC_879, GC_880, GC_881, GC_882, GC_883, GC_884, GC_885, GC_886, GC_887, GC_888, GC_889, GC_890, GC_891, GC_892, GC_893, GC_894, GC_895, GC_896, GC_897, GC_898, GC_899, GC_900, GC_901, GC_902, GC_903, GC_904, GC_905, GC_906, GC_907, GC_908, GC_909, GC_910, GC_911, GC_912, GC_913, GC_914, GC_915, GC_916, GC_917, GC_918, GC_919, GC_920, GC_921, GC_922, GC_923, GC_924, GC_925, GC_926, GC_927, GC_928, GC_929, GC_930, GC_931, GC_932, GC_933, GC_934, GC_935, GC_936, GC_937, GC_938, GC_939, GC_940, GC_941, GC_942, GC_943, GC_944, GC_945, GC_946, GC_947, GC_948, GC_949, GC_950, GC_951, GC_952, GC_953, GC_954, GC_955, GC_956, GC_957, GC_958, GC_959, GC_960, GC_961, GC_962, GC_963, GC_964, GC_965, GC_966, GC_967, GC_968, GC_969, GC_970, GC_971, GC_972, GC_973, GC_974, GC_975, GC_976, GC_977, GC_978, GC_979, GC_980, GC_981, GC_982, GC_983, GC_984, GC_985, GC_986, GC_987, GC_988, GC_989, GC_990, GC_991, GC_992, GC_993, GC_994, GC_995, GC_996, GC_997, GC_998, GC_999, GC_1000, GC_1001, GC_1002, GC_1003, GC_1004, GC_1005, GC_1006, GC_1007, GC_1008, GC_1009, GC_1010, GC_1011, GC_1012, GC_1013, GC_1014, GC_1015, GC_1016, GC_1017, GC_1018, GC_1019, GC_1020, GC_1021, GC_1022, GC_1023, GC_1024, GC_1025, GC_1026, GC_1027, GC_1028, GC_1029, GC_1030, GC_1031, GC_1032, GC_1033, GC_1034, GC_1035, GC_1036, GC_1037, GC_1038, GC_1039, GC_1040, GC_1041, GC_1042, GC_1043, GC_1044, GC_1045, GC_1046, GC_1047, GC_1048, GC_1049, GC_1050, GC_1051, GC_1052, GC_1053, GC_1054, GC_1055, GC_1056, GC_1057, GC_1058, GC_1059, GC_1060, GC_1061, GC_1062, GC_1063, GC_1064, GC_1065, GC_1066, GC_1067, GC_1068, GC_1069, GC_1070, GC_1071, GC_1072, GC_1073, GC_1074, GC_1075, GC_1076, GC_1077, GC_1078, GC_1079, GC_1080, GC_1081, GC_1082, GC_1083, GC_1084, GC_1085, GC_1086, GC_1087, GC_1088, GC_1089, GC_1090, GC_1091, GC_1092, GC_1093, GC_1094, GC_1095, GC_1096, GC_1097, GC_1098, GC_1099, GC_1100, GC_1101, GC_1102, GC_1103, GC_1104, GC_1105, GC_1106, GC_1107, GC_1108, GC_1109, GC_1110, GC_1111, GC_1112, GC_1113, GC_1114, GC_1115, GC_1116, GC_1117, GC_1118, GC_1119, GC_1120, GC_1121, GC_1122, GC_1123, GC_1124, GC_1125, GC_1126, GC_1127, GC_1128, GC_1129, GC_1130, GC_1131, GC_1132, GC_1133, GC_1134, GC_1135, GC_1136, GC_1137, GC_1138, GC_1139, GC_1140, GC_1141, GC_1142, GC_1143, GC_1144, GC_1145, GC_1146, GC_1147, GC_1148, GC_1149, GC_1150, GC_1151, GC_1152, GC_1153, GC_1154, GC_1155, GC_1156, GC_1157, GC_1158, GC_1159, GC_1160, GC_1161, GC_1162, GC_1163, GC_1164, GC_1165, GC_1166, GC_1167, GC_1168, GC_1169, GC_1170, GC_1171, GC_1172, GC_1173, GC_1174, GC_1175, GC_1176, GC_1177, GC_1178, GC_1179, GC_1180, GC_1181, GC_1182, GC_1183, GC_1184, GC_1185, GC_1186, GC_1187, GC_1188, GC_1189, GC_1190, GC_1191, GC_1192, GC_1193, GC_1194, GC_1195, GC_1196, GC_1197, GC_1198, GC_1199, GC_1200, GC_1201, GC_1202, GC_1203, GC_1204, GC_1205, GC_1206, GC_1207, GC_1208, GC_1209, GC_1210, GC_1211, GC_1212, GC_1213, GC_1214, GC_1215, GC_1216, GC_1217, GC_1218, GC_1219, GC_1220, GC_1221, GC_1222, GC_1223, GC_1224, GC_1225, GC_1226, GC_1227, GC_1228, GC_1229, GC_1230, GC_1231, GC_1232, GC_1233, GC_1234, GC_1235, GC_1236, GC_1237, GC_1238, GC_1239, GC_1240, GC_1241, GC_1242, GC_1243, GC_1244, GC_1245, GC_1246, GC_1247, GC_1248, GC_1249, GC_1250, GC_1251, GC_1252, GC_1253, GC_1254, GC_1255, GC_1256, GC_1257, GC_1258, GC_1259, GC_1260, GC_1261, GC_1262, GC_1263, GC_1264, GC_1265, GC_1266, GC_1267, GC_1268, GC_1269, GC_1270, GC_1271, GC_1272, GC_1273, GC_1274, GC_1275, GC_1276, GC_1277, GC_1278, GC_1279, GC_1280, GC_1281, GC_1282, GC_1283, GC_1284, GC_1285, GC_1286, GC_1287, GC_1288, GC_1289, GC_1290, GC_1291, GC_1292, GC_1293, GC_1294, GC_1295, GC_1296, GC_1297, GC_1298, GC_1299, GC_1300, GC_1301, GC_1302, GC_1303, GC_1304, GC_1305, GC_1306, GC_1307, GC_1308, GC_1309, GC_1310, GC_1311, GC_1312, GC_1313, GC_1314, GC_1315, GC_1316, GC_1317, GC_1318, GC_1319, GC_1320, GC_1321, GC_1322, GC_1323, GC_1324, GC_1325, GC_1326, GC_1327, GC_1328, GC_1329, GC_1330, GC_1331, GC_1332, GC_1333, GC_1334, GC_1335, GC_1336, GC_1337, GC_1338, GC_1339, GC_1340, GC_1341, GC_1342, GC_1343, GC_1344, GC_1345, GC_1346, GC_1347, GC_1348, GC_1349, GC_1350, GC_1351, GC_1352, GC_1353, GC_1354, GC_1355, GC_1356, GC_1357, GC_1358, GC_1359, GC_1360, GC_1361, GC_1362, GC_1363, GC_1364, GC_1365, GC_1366, GC_1367, GC_1368, GC_1369, GC_1370, GC_1371, GC_1372, GC_1373, GC_1374, GC_1375, GC_1376, GC_1377, GC_1378, GC_1379, GC_1380, GC_1381, GC_1382, GC_1383, GC_1384, GC_1385, GC_1386, GC_1387, GC_1388, GC_1389, GC_1390, GC_1391, GC_1392, GC_1393, GC_1394, GC_1395, GC_1396, GC_1397, GC_1398, GC_1399, GC_1400, GC_1401, GC_1402, GC_1403, GC_1404, GC_1405, GC_1406, GC_1407, GC_1408, GC_1409, GC_1410, GC_1411, GC_1412, GC_1413, GC_1414, GC_1415, GC_1416, GC_1417, GC_1418, GC_1419, GC_1420, GC_1421, GC_1422, GC_1423, GC_1424, GC_1425, GC_1426, GC_1427, GC_1428, GC_1429, GC_1430, GC_1431, GC_1432, GC_1433, GC_1434, GC_1435, GC_1436, GC_1437, GC_1438, GC_1439, GC_1440, GC_1441, GC_1442, GC_1443, GC_1444, GC_1445, GC_1446, GC_1447, GC_1448, GC_1449, GC_1450, GC_1451, GC_1452, GC_1453, GC_1454, GC_1455, GC_1456, GC_1457, GC_1458, GC_1459, GC_1460, GC_1461, GC_1462, GC_1463, GC_1464, GC_1465, GC_1466, GC_1467, GC_1468, GC_1469, GC_1470, GC_1471, GC_1472, GC_1473, GC_1474, GC_1475, GC_1476, GC_1477, GC_1478, GC_1479, GC_1480, GC_1481, GC_1482, GC_1483, GC_1484, GC_1485, GC_1486, GC_1487, GC_1488, GC_1489, GC_1490, GC_1491, GC_1492, GC_1493, GC_1494, GC_1495, GC_1496, GC_1497, GC_1498, GC_1499, GC_1500, GC_1501, GC_1502, GC_1503, GC_1504, GC_1505, GC_1506, GC_1507, GC_1508, GC_1509, GC_1510, GC_1511, GC_1512]\n",
      "\n",
      "Loading lorentz from C:/Users/moise/OneDrive/Escritorio/LRSM-with-Spheno/UFOmodel/MLRSM_UFO_neutrino_mix\\lorentz.py...\n",
      "Namespace keys after executing C:/Users/moise/OneDrive/Escritorio/LRSM-with-Spheno/UFOmodel/MLRSM_UFO_neutrino_mix\\lorentz.py: ['__builtins__', 'all_lorentz', 'Lorentz', 'complexconjugate', 're', 'im', 'csc', 'sec', 'acsc', 'asec', 'cot', 'UUV1', 'SSS1', 'FFS1', 'FFS2', 'FFS3', 'FFS4', 'FFV1', 'FFV2', 'FFV3', 'VSS1', 'VSS2', 'VSS3', 'VVS1', 'VVV1', 'SSSS1', 'VVSS1', 'VVVV1', 'VVVV2', 'VVVV3', 'VVVV4', 'VVVV5', 'VVVV6', 'VVVV7']\n",
      "Namespace contents after executing C:/Users/moise/OneDrive/Escritorio/LRSM-with-Spheno/UFOmodel/MLRSM_UFO_neutrino_mix\\lorentz.py: {'__builtins__': {'__name__': 'builtins', '__doc__': \"Built-in functions, exceptions, and other objects.\\n\\nNoteworthy: None is the `nil' object; Ellipsis represents `...' in slices.\", '__package__': '', '__loader__': <class '_frozen_importlib.BuiltinImporter'>, '__spec__': ModuleSpec(name='builtins', loader=<class '_frozen_importlib.BuiltinImporter'>, origin='built-in'), '__build_class__': <built-in function __build_class__>, '__import__': <built-in function __import__>, 'abs': <built-in function abs>, 'all': <built-in function all>, 'any': <built-in function any>, 'ascii': <built-in function ascii>, 'bin': <built-in function bin>, 'breakpoint': <built-in function breakpoint>, 'callable': <built-in function callable>, 'chr': <built-in function chr>, 'compile': <built-in function compile>, 'delattr': <built-in function delattr>, 'dir': <built-in function dir>, 'divmod': <built-in function divmod>, 'eval': <built-in function eval>, 'exec': <built-in function exec>, 'format': <built-in function format>, 'getattr': <built-in function getattr>, 'globals': <built-in function globals>, 'hasattr': <built-in function hasattr>, 'hash': <built-in function hash>, 'hex': <built-in function hex>, 'id': <built-in function id>, 'input': <bound method Kernel.raw_input of <ipykernel.ipkernel.IPythonKernel object at 0x000001D03ED69090>>, 'isinstance': <built-in function isinstance>, 'issubclass': <built-in function issubclass>, 'iter': <built-in function iter>, 'aiter': <built-in function aiter>, 'len': <built-in function len>, 'locals': <built-in function locals>, 'max': <built-in function max>, 'min': <built-in function min>, 'next': <built-in function next>, 'anext': <built-in function anext>, 'oct': <built-in function oct>, 'ord': <built-in function ord>, 'pow': <built-in function pow>, 'print': <built-in function print>, 'repr': <built-in function repr>, 'round': <built-in function round>, 'setattr': <built-in function setattr>, 'sorted': <built-in function sorted>, 'sum': <built-in function sum>, 'vars': <built-in function vars>, 'None': None, 'Ellipsis': Ellipsis, 'NotImplemented': NotImplemented, 'False': False, 'True': True, 'bool': <class 'bool'>, 'memoryview': <class 'memoryview'>, 'bytearray': <class 'bytearray'>, 'bytes': <class 'bytes'>, 'classmethod': <class 'classmethod'>, 'complex': <class 'complex'>, 'dict': <class 'dict'>, 'enumerate': <class 'enumerate'>, 'filter': <class 'filter'>, 'float': <class 'float'>, 'frozenset': <class 'frozenset'>, 'property': <class 'property'>, 'int': <class 'int'>, 'list': <class 'list'>, 'map': <class 'map'>, 'object': <class 'object'>, 'range': <class 'range'>, 'reversed': <class 'reversed'>, 'set': <class 'set'>, 'slice': <class 'slice'>, 'staticmethod': <class 'staticmethod'>, 'str': <class 'str'>, 'super': <class 'super'>, 'tuple': <class 'tuple'>, 'type': <class 'type'>, 'zip': <class 'zip'>, '__debug__': True, 'BaseException': <class 'BaseException'>, 'BaseExceptionGroup': <class 'BaseExceptionGroup'>, 'Exception': <class 'Exception'>, 'GeneratorExit': <class 'GeneratorExit'>, 'KeyboardInterrupt': <class 'KeyboardInterrupt'>, 'SystemExit': <class 'SystemExit'>, 'ArithmeticError': <class 'ArithmeticError'>, 'AssertionError': <class 'AssertionError'>, 'AttributeError': <class 'AttributeError'>, 'BufferError': <class 'BufferError'>, 'EOFError': <class 'EOFError'>, 'ImportError': <class 'ImportError'>, 'LookupError': <class 'LookupError'>, 'MemoryError': <class 'MemoryError'>, 'NameError': <class 'NameError'>, 'OSError': <class 'OSError'>, 'ReferenceError': <class 'ReferenceError'>, 'RuntimeError': <class 'RuntimeError'>, 'StopAsyncIteration': <class 'StopAsyncIteration'>, 'StopIteration': <class 'StopIteration'>, 'SyntaxError': <class 'SyntaxError'>, 'SystemError': <class 'SystemError'>, 'TypeError': <class 'TypeError'>, 'ValueError': <class 'ValueError'>, 'Warning': <class 'Warning'>, 'FloatingPointError': <class 'FloatingPointError'>, 'OverflowError': <class 'OverflowError'>, 'ZeroDivisionError': <class 'ZeroDivisionError'>, 'BytesWarning': <class 'BytesWarning'>, 'DeprecationWarning': <class 'DeprecationWarning'>, 'EncodingWarning': <class 'EncodingWarning'>, 'FutureWarning': <class 'FutureWarning'>, 'ImportWarning': <class 'ImportWarning'>, 'PendingDeprecationWarning': <class 'PendingDeprecationWarning'>, 'ResourceWarning': <class 'ResourceWarning'>, 'RuntimeWarning': <class 'RuntimeWarning'>, 'SyntaxWarning': <class 'SyntaxWarning'>, 'UnicodeWarning': <class 'UnicodeWarning'>, 'UserWarning': <class 'UserWarning'>, 'BlockingIOError': <class 'BlockingIOError'>, 'ChildProcessError': <class 'ChildProcessError'>, 'ConnectionError': <class 'ConnectionError'>, 'FileExistsError': <class 'FileExistsError'>, 'FileNotFoundError': <class 'FileNotFoundError'>, 'InterruptedError': <class 'InterruptedError'>, 'IsADirectoryError': <class 'IsADirectoryError'>, 'NotADirectoryError': <class 'NotADirectoryError'>, 'PermissionError': <class 'PermissionError'>, 'ProcessLookupError': <class 'ProcessLookupError'>, 'TimeoutError': <class 'TimeoutError'>, 'IndentationError': <class 'IndentationError'>, 'IndexError': <class 'IndexError'>, 'KeyError': <class 'KeyError'>, 'ModuleNotFoundError': <class 'ModuleNotFoundError'>, 'NotImplementedError': <class 'NotImplementedError'>, 'RecursionError': <class 'RecursionError'>, 'UnboundLocalError': <class 'UnboundLocalError'>, 'UnicodeError': <class 'UnicodeError'>, 'BrokenPipeError': <class 'BrokenPipeError'>, 'ConnectionAbortedError': <class 'ConnectionAbortedError'>, 'ConnectionRefusedError': <class 'ConnectionRefusedError'>, 'ConnectionResetError': <class 'ConnectionResetError'>, 'TabError': <class 'TabError'>, 'UnicodeDecodeError': <class 'UnicodeDecodeError'>, 'UnicodeEncodeError': <class 'UnicodeEncodeError'>, 'UnicodeTranslateError': <class 'UnicodeTranslateError'>, 'ExceptionGroup': <class 'ExceptionGroup'>, 'EnvironmentError': <class 'OSError'>, 'IOError': <class 'OSError'>, 'WindowsError': <class 'OSError'>, 'open': <built-in function open>, 'copyright': Copyright (c) 2001-2022 Python Software Foundation.\n",
      "All Rights Reserved.\n",
      "\n",
      "Copyright (c) 2000 BeOpen.com.\n",
      "All Rights Reserved.\n",
      "\n",
      "Copyright (c) 1995-2001 Corporation for National Research Initiatives.\n",
      "All Rights Reserved.\n",
      "\n",
      "Copyright (c) 1991-1995 Stichting Mathematisch Centrum, Amsterdam.\n",
      "All Rights Reserved., 'credits':     Thanks to CWI, CNRI, BeOpen.com, Zope Corporation and a cast of thousands\n",
      "    for supporting Python development.  See www.python.org for more information., 'license': See https://www.python.org/psf/license/, 'help': Type help() for interactive help, or help(object) for help about object., 'execfile': <function execfile at 0x000001D03EE86C00>, 'runfile': <function runfile at 0x000001D03FF5E340>, '__IPYTHON__': True, 'display': <function display at 0x000001D03D5A2E80>, 'get_ipython': <bound method InteractiveShell.get_ipython of <ipykernel.zmqshell.ZMQInteractiveShell object at 0x000001D040228FD0>>}, 'all_lorentz': [UUV1, SSS1, FFS1, FFS2, FFS3, FFS4, FFV1, FFV2, FFV3, VSS1, VSS2, VSS3, VVS1, VVV1, SSSS1, VVSS1, VVVV1, VVVV2, VVVV3, VVVV4, VVVV5, VVVV6, VVVV7], 'Lorentz': <class 'object_library.Lorentz'>, 'complexconjugate': <object_library.Function object at 0x000001D041BB6690>, 're': <object_library.Function object at 0x000001D041394110>, 'im': <object_library.Function object at 0x000001D041395350>, 'csc': <object_library.Function object at 0x000001D041BB6790>, 'sec': <object_library.Function object at 0x000001D041BB66D0>, 'acsc': <object_library.Function object at 0x000001D041BB67D0>, 'asec': <object_library.Function object at 0x000001D041BB6710>, 'cot': <object_library.Function object at 0x000001D041BB6810>, 'UUV1': UUV1, 'SSS1': SSS1, 'FFS1': FFS1, 'FFS2': FFS2, 'FFS3': FFS3, 'FFS4': FFS4, 'FFV1': FFV1, 'FFV2': FFV2, 'FFV3': FFV3, 'VSS1': VSS1, 'VSS2': VSS2, 'VSS3': VSS3, 'VVS1': VVS1, 'VVV1': VVV1, 'SSSS1': SSSS1, 'VVSS1': VVSS1, 'VVVV1': VVVV1, 'VVVV2': VVVV2, 'VVVV3': VVVV3, 'VVVV4': VVVV4, 'VVVV5': VVVV5, 'VVVV6': VVVV6, 'VVVV7': VVVV7}\n",
      "Loaded 23 objects for lorentz.\n",
      "Objects in all_lorentz: [UUV1, SSS1, FFS1, FFS2, FFS3, FFS4, FFV1, FFV2, FFV3, VSS1, VSS2, VSS3, VVS1, VVV1, SSSS1, VVSS1, VVVV1, VVVV2, VVVV3, VVVV4, VVVV5, VVVV6, VVVV7]\n",
      "\n",
      "Loading vertices from C:/Users/moise/OneDrive/Escritorio/LRSM-with-Spheno/UFOmodel/MLRSM_UFO_neutrino_mix\\vertices.py...\n",
      "Namespace keys after executing C:/Users/moise/OneDrive/Escritorio/LRSM-with-Spheno/UFOmodel/MLRSM_UFO_neutrino_mix\\vertices.py: ['__builtins__', 'all_vertices', 'Vertex', 'P', 'C', 'L', 'V_1', 'V_2', 'V_3', 'V_4', 'V_5', 'V_6', 'V_7', 'V_8', 'V_9', 'V_10', 'V_11', 'V_12', 'V_13', 'V_14', 'V_15', 'V_16', 'V_17', 'V_18', 'V_19', 'V_20', 'V_21', 'V_22', 'V_23', 'V_24', 'V_25', 'V_26', 'V_27', 'V_28', 'V_29', 'V_30', 'V_31', 'V_32', 'V_33', 'V_34', 'V_35', 'V_36', 'V_37', 'V_38', 'V_39', 'V_40', 'V_41', 'V_42', 'V_43', 'V_44', 'V_45', 'V_46', 'V_47', 'V_48', 'V_49', 'V_50', 'V_51', 'V_52', 'V_53', 'V_54', 'V_55', 'V_56', 'V_57', 'V_58', 'V_59', 'V_60', 'V_61', 'V_62', 'V_63', 'V_64', 'V_65', 'V_66', 'V_67', 'V_68', 'V_69', 'V_70', 'V_71', 'V_72', 'V_73', 'V_74', 'V_75', 'V_76', 'V_77', 'V_78', 'V_79', 'V_80', 'V_81', 'V_82', 'V_83', 'V_84', 'V_85', 'V_86', 'V_87', 'V_88', 'V_89', 'V_90', 'V_91', 'V_92', 'V_93', 'V_94', 'V_95', 'V_96', 'V_97', 'V_98', 'V_99', 'V_100', 'V_101', 'V_102', 'V_103', 'V_104', 'V_105', 'V_106', 'V_107', 'V_108', 'V_109', 'V_110', 'V_111', 'V_112', 'V_113', 'V_114', 'V_115', 'V_116', 'V_117', 'V_118', 'V_119', 'V_120', 'V_121', 'V_122', 'V_123', 'V_124', 'V_125', 'V_126', 'V_127', 'V_128', 'V_129', 'V_130', 'V_131', 'V_132', 'V_133', 'V_134', 'V_135', 'V_136', 'V_137', 'V_138', 'V_139', 'V_140', 'V_141', 'V_142', 'V_143', 'V_144', 'V_145', 'V_146', 'V_147', 'V_148', 'V_149', 'V_150', 'V_151', 'V_152', 'V_153', 'V_154', 'V_155', 'V_156', 'V_157', 'V_158', 'V_159', 'V_160', 'V_161', 'V_162', 'V_163', 'V_164', 'V_165', 'V_166', 'V_167', 'V_168', 'V_169', 'V_170', 'V_171', 'V_172', 'V_173', 'V_174', 'V_175', 'V_176', 'V_177', 'V_178', 'V_179', 'V_180', 'V_181', 'V_182', 'V_183', 'V_184', 'V_185', 'V_186', 'V_187', 'V_188', 'V_189', 'V_190', 'V_191', 'V_192', 'V_193', 'V_194', 'V_195', 'V_196', 'V_197', 'V_198', 'V_199', 'V_200', 'V_201', 'V_202', 'V_203', 'V_204', 'V_205', 'V_206', 'V_207', 'V_208', 'V_209', 'V_210', 'V_211', 'V_212', 'V_213', 'V_214', 'V_215', 'V_216', 'V_217', 'V_218', 'V_219', 'V_220', 'V_221', 'V_222', 'V_223', 'V_224', 'V_225', 'V_226', 'V_227', 'V_228', 'V_229', 'V_230', 'V_231', 'V_232', 'V_233', 'V_234', 'V_235', 'V_236', 'V_237', 'V_238', 'V_239', 'V_240', 'V_241', 'V_242', 'V_243', 'V_244', 'V_245', 'V_246', 'V_247', 'V_248', 'V_249', 'V_250', 'V_251', 'V_252', 'V_253', 'V_254', 'V_255', 'V_256', 'V_257', 'V_258', 'V_259', 'V_260', 'V_261', 'V_262', 'V_263', 'V_264', 'V_265', 'V_266', 'V_267', 'V_268', 'V_269', 'V_270', 'V_271', 'V_272', 'V_273', 'V_274', 'V_275', 'V_276', 'V_277', 'V_278', 'V_279', 'V_280', 'V_281', 'V_282', 'V_283', 'V_284', 'V_285', 'V_286', 'V_287', 'V_288', 'V_289', 'V_290', 'V_291', 'V_292', 'V_293', 'V_294', 'V_295', 'V_296', 'V_297', 'V_298', 'V_299', 'V_300', 'V_301', 'V_302', 'V_303', 'V_304', 'V_305', 'V_306', 'V_307', 'V_308', 'V_309', 'V_310', 'V_311', 'V_312', 'V_313', 'V_314', 'V_315', 'V_316', 'V_317', 'V_318', 'V_319', 'V_320', 'V_321', 'V_322', 'V_323', 'V_324', 'V_325', 'V_326', 'V_327', 'V_328', 'V_329', 'V_330', 'V_331', 'V_332', 'V_333', 'V_334', 'V_335', 'V_336', 'V_337', 'V_338', 'V_339', 'V_340', 'V_341', 'V_342', 'V_343', 'V_344', 'V_345', 'V_346', 'V_347', 'V_348', 'V_349', 'V_350', 'V_351', 'V_352', 'V_353', 'V_354', 'V_355', 'V_356', 'V_357', 'V_358', 'V_359', 'V_360', 'V_361', 'V_362', 'V_363', 'V_364', 'V_365', 'V_366', 'V_367', 'V_368', 'V_369', 'V_370', 'V_371', 'V_372', 'V_373', 'V_374', 'V_375', 'V_376', 'V_377', 'V_378', 'V_379', 'V_380', 'V_381', 'V_382', 'V_383', 'V_384', 'V_385', 'V_386', 'V_387', 'V_388', 'V_389', 'V_390', 'V_391', 'V_392', 'V_393', 'V_394', 'V_395', 'V_396', 'V_397', 'V_398', 'V_399', 'V_400', 'V_401', 'V_402', 'V_403', 'V_404', 'V_405', 'V_406', 'V_407', 'V_408', 'V_409', 'V_410', 'V_411', 'V_412', 'V_413', 'V_414', 'V_415', 'V_416', 'V_417', 'V_418', 'V_419', 'V_420', 'V_421', 'V_422', 'V_423', 'V_424', 'V_425', 'V_426', 'V_427', 'V_428', 'V_429', 'V_430', 'V_431', 'V_432', 'V_433', 'V_434', 'V_435', 'V_436', 'V_437', 'V_438', 'V_439', 'V_440', 'V_441', 'V_442', 'V_443', 'V_444', 'V_445', 'V_446', 'V_447', 'V_448', 'V_449', 'V_450', 'V_451', 'V_452', 'V_453', 'V_454', 'V_455', 'V_456', 'V_457', 'V_458', 'V_459', 'V_460', 'V_461', 'V_462', 'V_463', 'V_464', 'V_465', 'V_466', 'V_467', 'V_468', 'V_469', 'V_470', 'V_471', 'V_472', 'V_473', 'V_474', 'V_475', 'V_476', 'V_477', 'V_478', 'V_479', 'V_480', 'V_481', 'V_482', 'V_483', 'V_484', 'V_485', 'V_486', 'V_487', 'V_488', 'V_489', 'V_490', 'V_491', 'V_492', 'V_493', 'V_494', 'V_495', 'V_496', 'V_497', 'V_498', 'V_499', 'V_500', 'V_501', 'V_502', 'V_503', 'V_504', 'V_505', 'V_506', 'V_507', 'V_508', 'V_509', 'V_510', 'V_511', 'V_512', 'V_513', 'V_514', 'V_515', 'V_516', 'V_517', 'V_518', 'V_519', 'V_520', 'V_521', 'V_522', 'V_523', 'V_524', 'V_525', 'V_526', 'V_527', 'V_528', 'V_529', 'V_530', 'V_531', 'V_532', 'V_533', 'V_534', 'V_535', 'V_536', 'V_537', 'V_538', 'V_539', 'V_540', 'V_541', 'V_542', 'V_543', 'V_544', 'V_545', 'V_546', 'V_547', 'V_548', 'V_549', 'V_550', 'V_551', 'V_552', 'V_553', 'V_554', 'V_555', 'V_556', 'V_557', 'V_558', 'V_559', 'V_560', 'V_561', 'V_562', 'V_563', 'V_564', 'V_565', 'V_566', 'V_567', 'V_568', 'V_569', 'V_570', 'V_571', 'V_572', 'V_573', 'V_574', 'V_575', 'V_576', 'V_577', 'V_578', 'V_579', 'V_580', 'V_581', 'V_582', 'V_583', 'V_584', 'V_585', 'V_586', 'V_587', 'V_588', 'V_589', 'V_590', 'V_591', 'V_592', 'V_593', 'V_594', 'V_595', 'V_596', 'V_597', 'V_598', 'V_599', 'V_600', 'V_601', 'V_602', 'V_603', 'V_604', 'V_605', 'V_606', 'V_607', 'V_608', 'V_609', 'V_610', 'V_611', 'V_612', 'V_613', 'V_614', 'V_615', 'V_616', 'V_617', 'V_618', 'V_619', 'V_620', 'V_621', 'V_622', 'V_623', 'V_624', 'V_625', 'V_626', 'V_627', 'V_628', 'V_629', 'V_630', 'V_631', 'V_632', 'V_633', 'V_634', 'V_635', 'V_636', 'V_637', 'V_638', 'V_639', 'V_640', 'V_641', 'V_642', 'V_643', 'V_644', 'V_645', 'V_646', 'V_647', 'V_648', 'V_649', 'V_650', 'V_651', 'V_652', 'V_653', 'V_654', 'V_655', 'V_656', 'V_657', 'V_658', 'V_659', 'V_660', 'V_661', 'V_662', 'V_663', 'V_664', 'V_665', 'V_666', 'V_667', 'V_668', 'V_669', 'V_670', 'V_671', 'V_672', 'V_673', 'V_674', 'V_675', 'V_676', 'V_677', 'V_678', 'V_679', 'V_680', 'V_681', 'V_682', 'V_683', 'V_684', 'V_685', 'V_686', 'V_687', 'V_688', 'V_689', 'V_690', 'V_691', 'V_692', 'V_693', 'V_694', 'V_695', 'V_696', 'V_697', 'V_698', 'V_699', 'V_700', 'V_701', 'V_702', 'V_703', 'V_704', 'V_705', 'V_706', 'V_707', 'V_708', 'V_709', 'V_710', 'V_711', 'V_712', 'V_713', 'V_714', 'V_715', 'V_716', 'V_717', 'V_718', 'V_719', 'V_720', 'V_721', 'V_722', 'V_723', 'V_724', 'V_725', 'V_726', 'V_727', 'V_728', 'V_729', 'V_730', 'V_731', 'V_732', 'V_733', 'V_734', 'V_735', 'V_736', 'V_737', 'V_738', 'V_739', 'V_740', 'V_741', 'V_742', 'V_743', 'V_744', 'V_745', 'V_746', 'V_747', 'V_748', 'V_749', 'V_750', 'V_751', 'V_752', 'V_753', 'V_754', 'V_755', 'V_756', 'V_757', 'V_758', 'V_759', 'V_760', 'V_761', 'V_762', 'V_763', 'V_764', 'V_765', 'V_766', 'V_767', 'V_768', 'V_769', 'V_770', 'V_771', 'V_772', 'V_773', 'V_774', 'V_775', 'V_776', 'V_777', 'V_778', 'V_779', 'V_780', 'V_781', 'V_782', 'V_783', 'V_784', 'V_785', 'V_786', 'V_787', 'V_788', 'V_789', 'V_790', 'V_791', 'V_792', 'V_793', 'V_794', 'V_795', 'V_796', 'V_797', 'V_798', 'V_799', 'V_800', 'V_801', 'V_802', 'V_803', 'V_804', 'V_805', 'V_806', 'V_807', 'V_808', 'V_809', 'V_810', 'V_811', 'V_812', 'V_813', 'V_814', 'V_815', 'V_816', 'V_817', 'V_818', 'V_819', 'V_820', 'V_821', 'V_822', 'V_823', 'V_824', 'V_825', 'V_826', 'V_827', 'V_828', 'V_829', 'V_830', 'V_831', 'V_832', 'V_833', 'V_834', 'V_835', 'V_836', 'V_837', 'V_838', 'V_839', 'V_840', 'V_841', 'V_842', 'V_843', 'V_844', 'V_845', 'V_846', 'V_847', 'V_848', 'V_849', 'V_850', 'V_851', 'V_852', 'V_853', 'V_854', 'V_855', 'V_856', 'V_857', 'V_858', 'V_859', 'V_860', 'V_861', 'V_862', 'V_863', 'V_864', 'V_865', 'V_866', 'V_867', 'V_868', 'V_869', 'V_870', 'V_871', 'V_872', 'V_873', 'V_874', 'V_875', 'V_876', 'V_877', 'V_878', 'V_879', 'V_880', 'V_881', 'V_882', 'V_883', 'V_884', 'V_885', 'V_886', 'V_887', 'V_888', 'V_889', 'V_890', 'V_891', 'V_892', 'V_893', 'V_894', 'V_895', 'V_896', 'V_897', 'V_898', 'V_899', 'V_900', 'V_901', 'V_902', 'V_903', 'V_904', 'V_905', 'V_906', 'V_907', 'V_908', 'V_909', 'V_910', 'V_911', 'V_912', 'V_913', 'V_914', 'V_915', 'V_916', 'V_917', 'V_918', 'V_919', 'V_920', 'V_921', 'V_922', 'V_923', 'V_924', 'V_925', 'V_926', 'V_927', 'V_928', 'V_929', 'V_930', 'V_931', 'V_932', 'V_933', 'V_934', 'V_935', 'V_936', 'V_937', 'V_938', 'V_939', 'V_940', 'V_941', 'V_942', 'V_943', 'V_944', 'V_945', 'V_946', 'V_947', 'V_948', 'V_949', 'V_950', 'V_951', 'V_952', 'V_953', 'V_954', 'V_955', 'V_956', 'V_957', 'V_958', 'V_959', 'V_960', 'V_961', 'V_962', 'V_963', 'V_964', 'V_965', 'V_966', 'V_967', 'V_968', 'V_969', 'V_970', 'V_971', 'V_972', 'V_973', 'V_974', 'V_975', 'V_976', 'V_977', 'V_978', 'V_979', 'V_980', 'V_981', 'V_982', 'V_983', 'V_984', 'V_985', 'V_986', 'V_987', 'V_988', 'V_989', 'V_990', 'V_991', 'V_992', 'V_993', 'V_994', 'V_995', 'V_996', 'V_997', 'V_998', 'V_999', 'V_1000', 'V_1001', 'V_1002', 'V_1003', 'V_1004', 'V_1005', 'V_1006', 'V_1007', 'V_1008', 'V_1009', 'V_1010', 'V_1011', 'V_1012', 'V_1013', 'V_1014', 'V_1015', 'V_1016', 'V_1017', 'V_1018', 'V_1019', 'V_1020', 'V_1021', 'V_1022', 'V_1023', 'V_1024', 'V_1025', 'V_1026', 'V_1027', 'V_1028', 'V_1029', 'V_1030', 'V_1031', 'V_1032', 'V_1033', 'V_1034', 'V_1035', 'V_1036', 'V_1037', 'V_1038', 'V_1039', 'V_1040', 'V_1041', 'V_1042', 'V_1043', 'V_1044', 'V_1045', 'V_1046', 'V_1047', 'V_1048', 'V_1049', 'V_1050', 'V_1051', 'V_1052', 'V_1053', 'V_1054', 'V_1055', 'V_1056', 'V_1057', 'V_1058', 'V_1059', 'V_1060', 'V_1061', 'V_1062', 'V_1063', 'V_1064', 'V_1065', 'V_1066', 'V_1067', 'V_1068', 'V_1069', 'V_1070', 'V_1071', 'V_1072', 'V_1073', 'V_1074', 'V_1075', 'V_1076', 'V_1077', 'V_1078', 'V_1079', 'V_1080', 'V_1081', 'V_1082', 'V_1083', 'V_1084', 'V_1085', 'V_1086', 'V_1087', 'V_1088', 'V_1089', 'V_1090', 'V_1091', 'V_1092', 'V_1093', 'V_1094', 'V_1095', 'V_1096', 'V_1097', 'V_1098', 'V_1099', 'V_1100', 'V_1101', 'V_1102', 'V_1103', 'V_1104', 'V_1105', 'V_1106', 'V_1107', 'V_1108', 'V_1109', 'V_1110', 'V_1111', 'V_1112', 'V_1113', 'V_1114', 'V_1115', 'V_1116', 'V_1117', 'V_1118', 'V_1119', 'V_1120', 'V_1121', 'V_1122', 'V_1123', 'V_1124', 'V_1125', 'V_1126', 'V_1127', 'V_1128', 'V_1129', 'V_1130', 'V_1131', 'V_1132', 'V_1133', 'V_1134', 'V_1135', 'V_1136', 'V_1137', 'V_1138', 'V_1139', 'V_1140', 'V_1141', 'V_1142', 'V_1143', 'V_1144', 'V_1145', 'V_1146', 'V_1147', 'V_1148', 'V_1149', 'V_1150', 'V_1151', 'V_1152', 'V_1153', 'V_1154', 'V_1155', 'V_1156', 'V_1157', 'V_1158', 'V_1159', 'V_1160', 'V_1161', 'V_1162', 'V_1163', 'V_1164', 'V_1165', 'V_1166', 'V_1167', 'V_1168', 'V_1169', 'V_1170', 'V_1171', 'V_1172', 'V_1173', 'V_1174', 'V_1175', 'V_1176', 'V_1177', 'V_1178', 'V_1179', 'V_1180', 'V_1181', 'V_1182', 'V_1183', 'V_1184', 'V_1185', 'V_1186', 'V_1187', 'V_1188', 'V_1189', 'V_1190', 'V_1191', 'V_1192', 'V_1193', 'V_1194', 'V_1195', 'V_1196', 'V_1197', 'V_1198', 'V_1199', 'V_1200', 'V_1201', 'V_1202', 'V_1203', 'V_1204', 'V_1205', 'V_1206', 'V_1207', 'V_1208', 'V_1209', 'V_1210', 'V_1211', 'V_1212', 'V_1213', 'V_1214', 'V_1215', 'V_1216', 'V_1217', 'V_1218', 'V_1219', 'V_1220', 'V_1221', 'V_1222', 'V_1223', 'V_1224', 'V_1225', 'V_1226', 'V_1227', 'V_1228', 'V_1229', 'V_1230', 'V_1231', 'V_1232', 'V_1233', 'V_1234', 'V_1235', 'V_1236', 'V_1237', 'V_1238', 'V_1239', 'V_1240', 'V_1241', 'V_1242', 'V_1243', 'V_1244', 'V_1245', 'V_1246', 'V_1247', 'V_1248', 'V_1249', 'V_1250', 'V_1251', 'V_1252', 'V_1253', 'V_1254', 'V_1255', 'V_1256', 'V_1257', 'V_1258', 'V_1259', 'V_1260', 'V_1261', 'V_1262', 'V_1263', 'V_1264', 'V_1265', 'V_1266', 'V_1267', 'V_1268', 'V_1269', 'V_1270', 'V_1271', 'V_1272', 'V_1273', 'V_1274', 'V_1275', 'V_1276', 'V_1277', 'V_1278', 'V_1279', 'V_1280', 'V_1281', 'V_1282', 'V_1283', 'V_1284', 'V_1285', 'V_1286', 'V_1287', 'V_1288', 'V_1289', 'V_1290', 'V_1291', 'V_1292', 'V_1293', 'V_1294', 'V_1295', 'V_1296', 'V_1297', 'V_1298', 'V_1299', 'V_1300', 'V_1301', 'V_1302', 'V_1303', 'V_1304', 'V_1305', 'V_1306', 'V_1307', 'V_1308', 'V_1309', 'V_1310', 'V_1311', 'V_1312', 'V_1313', 'V_1314', 'V_1315', 'V_1316', 'V_1317', 'V_1318', 'V_1319', 'V_1320', 'V_1321', 'V_1322', 'V_1323', 'V_1324', 'V_1325', 'V_1326', 'V_1327', 'V_1328', 'V_1329', 'V_1330', 'V_1331', 'V_1332', 'V_1333', 'V_1334', 'V_1335', 'V_1336', 'V_1337', 'V_1338', 'V_1339', 'V_1340', 'V_1341', 'V_1342', 'V_1343', 'V_1344', 'V_1345', 'V_1346', 'V_1347', 'V_1348', 'V_1349', 'V_1350', 'V_1351', 'V_1352', 'V_1353', 'V_1354', 'V_1355', 'V_1356', 'V_1357', 'V_1358', 'V_1359', 'V_1360', 'V_1361', 'V_1362', 'V_1363', 'V_1364', 'V_1365', 'V_1366', 'V_1367', 'V_1368', 'V_1369', 'V_1370', 'V_1371', 'V_1372', 'V_1373', 'V_1374', 'V_1375', 'V_1376', 'V_1377', 'V_1378', 'V_1379', 'V_1380', 'V_1381', 'V_1382', 'V_1383', 'V_1384', 'V_1385', 'V_1386', 'V_1387', 'V_1388', 'V_1389', 'V_1390', 'V_1391', 'V_1392', 'V_1393', 'V_1394', 'V_1395', 'V_1396', 'V_1397', 'V_1398', 'V_1399', 'V_1400', 'V_1401', 'V_1402', 'V_1403', 'V_1404', 'V_1405', 'V_1406', 'V_1407', 'V_1408', 'V_1409', 'V_1410', 'V_1411', 'V_1412', 'V_1413', 'V_1414', 'V_1415', 'V_1416', 'V_1417', 'V_1418', 'V_1419', 'V_1420', 'V_1421', 'V_1422', 'V_1423', 'V_1424', 'V_1425', 'V_1426', 'V_1427', 'V_1428', 'V_1429', 'V_1430', 'V_1431', 'V_1432', 'V_1433', 'V_1434', 'V_1435', 'V_1436', 'V_1437', 'V_1438', 'V_1439', 'V_1440', 'V_1441', 'V_1442', 'V_1443', 'V_1444', 'V_1445', 'V_1446', 'V_1447', 'V_1448', 'V_1449', 'V_1450', 'V_1451', 'V_1452', 'V_1453', 'V_1454', 'V_1455', 'V_1456', 'V_1457', 'V_1458', 'V_1459', 'V_1460', 'V_1461', 'V_1462', 'V_1463', 'V_1464', 'V_1465', 'V_1466', 'V_1467', 'V_1468', 'V_1469', 'V_1470', 'V_1471', 'V_1472', 'V_1473', 'V_1474', 'V_1475', 'V_1476', 'V_1477', 'V_1478', 'V_1479', 'V_1480', 'V_1481', 'V_1482', 'V_1483', 'V_1484', 'V_1485', 'V_1486', 'V_1487', 'V_1488', 'V_1489', 'V_1490', 'V_1491', 'V_1492', 'V_1493', 'V_1494', 'V_1495', 'V_1496', 'V_1497', 'V_1498', 'V_1499', 'V_1500', 'V_1501', 'V_1502', 'V_1503', 'V_1504', 'V_1505', 'V_1506', 'V_1507', 'V_1508', 'V_1509', 'V_1510', 'V_1511', 'V_1512', 'V_1513', 'V_1514', 'V_1515', 'V_1516', 'V_1517', 'V_1518', 'V_1519', 'V_1520', 'V_1521', 'V_1522', 'V_1523', 'V_1524', 'V_1525', 'V_1526', 'V_1527', 'V_1528', 'V_1529', 'V_1530', 'V_1531', 'V_1532', 'V_1533', 'V_1534', 'V_1535', 'V_1536', 'V_1537', 'V_1538', 'V_1539', 'V_1540', 'V_1541', 'V_1542', 'V_1543', 'V_1544', 'V_1545', 'V_1546', 'V_1547', 'V_1548', 'V_1549', 'V_1550', 'V_1551', 'V_1552', 'V_1553', 'V_1554', 'V_1555', 'V_1556', 'V_1557', 'V_1558', 'V_1559', 'V_1560', 'V_1561', 'V_1562', 'V_1563', 'V_1564', 'V_1565', 'V_1566', 'V_1567', 'V_1568', 'V_1569', 'V_1570', 'V_1571', 'V_1572', 'V_1573', 'V_1574', 'V_1575', 'V_1576', 'V_1577', 'V_1578', 'V_1579', 'V_1580', 'V_1581', 'V_1582', 'V_1583', 'V_1584', 'V_1585', 'V_1586', 'V_1587', 'V_1588', 'V_1589', 'V_1590', 'V_1591', 'V_1592', 'V_1593', 'V_1594', 'V_1595', 'V_1596', 'V_1597', 'V_1598', 'V_1599', 'V_1600', 'V_1601', 'V_1602', 'V_1603', 'V_1604', 'V_1605', 'V_1606', 'V_1607', 'V_1608', 'V_1609', 'V_1610', 'V_1611', 'V_1612', 'V_1613', 'V_1614', 'V_1615', 'V_1616', 'V_1617', 'V_1618', 'V_1619', 'V_1620', 'V_1621', 'V_1622', 'V_1623', 'V_1624', 'V_1625', 'V_1626', 'V_1627', 'V_1628', 'V_1629', 'V_1630', 'V_1631', 'V_1632', 'V_1633', 'V_1634', 'V_1635', 'V_1636', 'V_1637', 'V_1638']\n",
      "Namespace contents after executing C:/Users/moise/OneDrive/Escritorio/LRSM-with-Spheno/UFOmodel/MLRSM_UFO_neutrino_mix\\vertices.py: {'__builtins__': {'__name__': 'builtins', '__doc__': \"Built-in functions, exceptions, and other objects.\\n\\nNoteworthy: None is the `nil' object; Ellipsis represents `...' in slices.\", '__package__': '', '__loader__': <class '_frozen_importlib.BuiltinImporter'>, '__spec__': ModuleSpec(name='builtins', loader=<class '_frozen_importlib.BuiltinImporter'>, origin='built-in'), '__build_class__': <built-in function __build_class__>, '__import__': <built-in function __import__>, 'abs': <built-in function abs>, 'all': <built-in function all>, 'any': <built-in function any>, 'ascii': <built-in function ascii>, 'bin': <built-in function bin>, 'breakpoint': <built-in function breakpoint>, 'callable': <built-in function callable>, 'chr': <built-in function chr>, 'compile': <built-in function compile>, 'delattr': <built-in function delattr>, 'dir': <built-in function dir>, 'divmod': <built-in function divmod>, 'eval': <built-in function eval>, 'exec': <built-in function exec>, 'format': <built-in function format>, 'getattr': <built-in function getattr>, 'globals': <built-in function globals>, 'hasattr': <built-in function hasattr>, 'hash': <built-in function hash>, 'hex': <built-in function hex>, 'id': <built-in function id>, 'input': <bound method Kernel.raw_input of <ipykernel.ipkernel.IPythonKernel object at 0x000001D03ED69090>>, 'isinstance': <built-in function isinstance>, 'issubclass': <built-in function issubclass>, 'iter': <built-in function iter>, 'aiter': <built-in function aiter>, 'len': <built-in function len>, 'locals': <built-in function locals>, 'max': <built-in function max>, 'min': <built-in function min>, 'next': <built-in function next>, 'anext': <built-in function anext>, 'oct': <built-in function oct>, 'ord': <built-in function ord>, 'pow': <built-in function pow>, 'print': <built-in function print>, 'repr': <built-in function repr>, 'round': <built-in function round>, 'setattr': <built-in function setattr>, 'sorted': <built-in function sorted>, 'sum': <built-in function sum>, 'vars': <built-in function vars>, 'None': None, 'Ellipsis': Ellipsis, 'NotImplemented': NotImplemented, 'False': False, 'True': True, 'bool': <class 'bool'>, 'memoryview': <class 'memoryview'>, 'bytearray': <class 'bytearray'>, 'bytes': <class 'bytes'>, 'classmethod': <class 'classmethod'>, 'complex': <class 'complex'>, 'dict': <class 'dict'>, 'enumerate': <class 'enumerate'>, 'filter': <class 'filter'>, 'float': <class 'float'>, 'frozenset': <class 'frozenset'>, 'property': <class 'property'>, 'int': <class 'int'>, 'list': <class 'list'>, 'map': <class 'map'>, 'object': <class 'object'>, 'range': <class 'range'>, 'reversed': <class 'reversed'>, 'set': <class 'set'>, 'slice': <class 'slice'>, 'staticmethod': <class 'staticmethod'>, 'str': <class 'str'>, 'super': <class 'super'>, 'tuple': <class 'tuple'>, 'type': <class 'type'>, 'zip': <class 'zip'>, '__debug__': True, 'BaseException': <class 'BaseException'>, 'BaseExceptionGroup': <class 'BaseExceptionGroup'>, 'Exception': <class 'Exception'>, 'GeneratorExit': <class 'GeneratorExit'>, 'KeyboardInterrupt': <class 'KeyboardInterrupt'>, 'SystemExit': <class 'SystemExit'>, 'ArithmeticError': <class 'ArithmeticError'>, 'AssertionError': <class 'AssertionError'>, 'AttributeError': <class 'AttributeError'>, 'BufferError': <class 'BufferError'>, 'EOFError': <class 'EOFError'>, 'ImportError': <class 'ImportError'>, 'LookupError': <class 'LookupError'>, 'MemoryError': <class 'MemoryError'>, 'NameError': <class 'NameError'>, 'OSError': <class 'OSError'>, 'ReferenceError': <class 'ReferenceError'>, 'RuntimeError': <class 'RuntimeError'>, 'StopAsyncIteration': <class 'StopAsyncIteration'>, 'StopIteration': <class 'StopIteration'>, 'SyntaxError': <class 'SyntaxError'>, 'SystemError': <class 'SystemError'>, 'TypeError': <class 'TypeError'>, 'ValueError': <class 'ValueError'>, 'Warning': <class 'Warning'>, 'FloatingPointError': <class 'FloatingPointError'>, 'OverflowError': <class 'OverflowError'>, 'ZeroDivisionError': <class 'ZeroDivisionError'>, 'BytesWarning': <class 'BytesWarning'>, 'DeprecationWarning': <class 'DeprecationWarning'>, 'EncodingWarning': <class 'EncodingWarning'>, 'FutureWarning': <class 'FutureWarning'>, 'ImportWarning': <class 'ImportWarning'>, 'PendingDeprecationWarning': <class 'PendingDeprecationWarning'>, 'ResourceWarning': <class 'ResourceWarning'>, 'RuntimeWarning': <class 'RuntimeWarning'>, 'SyntaxWarning': <class 'SyntaxWarning'>, 'UnicodeWarning': <class 'UnicodeWarning'>, 'UserWarning': <class 'UserWarning'>, 'BlockingIOError': <class 'BlockingIOError'>, 'ChildProcessError': <class 'ChildProcessError'>, 'ConnectionError': <class 'ConnectionError'>, 'FileExistsError': <class 'FileExistsError'>, 'FileNotFoundError': <class 'FileNotFoundError'>, 'InterruptedError': <class 'InterruptedError'>, 'IsADirectoryError': <class 'IsADirectoryError'>, 'NotADirectoryError': <class 'NotADirectoryError'>, 'PermissionError': <class 'PermissionError'>, 'ProcessLookupError': <class 'ProcessLookupError'>, 'TimeoutError': <class 'TimeoutError'>, 'IndentationError': <class 'IndentationError'>, 'IndexError': <class 'IndexError'>, 'KeyError': <class 'KeyError'>, 'ModuleNotFoundError': <class 'ModuleNotFoundError'>, 'NotImplementedError': <class 'NotImplementedError'>, 'RecursionError': <class 'RecursionError'>, 'UnboundLocalError': <class 'UnboundLocalError'>, 'UnicodeError': <class 'UnicodeError'>, 'BrokenPipeError': <class 'BrokenPipeError'>, 'ConnectionAbortedError': <class 'ConnectionAbortedError'>, 'ConnectionRefusedError': <class 'ConnectionRefusedError'>, 'ConnectionResetError': <class 'ConnectionResetError'>, 'TabError': <class 'TabError'>, 'UnicodeDecodeError': <class 'UnicodeDecodeError'>, 'UnicodeEncodeError': <class 'UnicodeEncodeError'>, 'UnicodeTranslateError': <class 'UnicodeTranslateError'>, 'ExceptionGroup': <class 'ExceptionGroup'>, 'EnvironmentError': <class 'OSError'>, 'IOError': <class 'OSError'>, 'WindowsError': <class 'OSError'>, 'open': <built-in function open>, 'copyright': Copyright (c) 2001-2022 Python Software Foundation.\n",
      "All Rights Reserved.\n",
      "\n",
      "Copyright (c) 2000 BeOpen.com.\n",
      "All Rights Reserved.\n",
      "\n",
      "Copyright (c) 1995-2001 Corporation for National Research Initiatives.\n",
      "All Rights Reserved.\n",
      "\n",
      "Copyright (c) 1991-1995 Stichting Mathematisch Centrum, Amsterdam.\n",
      "All Rights Reserved., 'credits':     Thanks to CWI, CNRI, BeOpen.com, Zope Corporation and a cast of thousands\n",
      "    for supporting Python development.  See www.python.org for more information., 'license': See https://www.python.org/psf/license/, 'help': Type help() for interactive help, or help(object) for help about object., 'execfile': <function execfile at 0x000001D03EE86C00>, 'runfile': <function runfile at 0x000001D03FF5E340>, '__IPYTHON__': True, 'display': <function display at 0x000001D03D5A2E80>, 'get_ipython': <bound method InteractiveShell.get_ipython of <ipykernel.zmqshell.ZMQInteractiveShell object at 0x000001D040228FD0>>}, 'all_vertices': [V_1, V_2, V_3, V_4, V_5, V_6, V_7, V_8, V_9, V_10, V_11, V_12, V_13, V_14, V_15, V_16, V_17, V_18, V_19, V_20, V_21, V_22, V_23, V_24, V_25, V_26, V_27, V_28, V_29, V_30, V_31, V_32, V_33, V_34, V_35, V_36, V_37, V_38, V_39, V_40, V_41, V_42, V_43, V_44, V_45, V_46, V_47, V_48, V_49, V_50, V_51, V_52, V_53, V_54, V_55, V_56, V_57, V_58, V_59, V_60, V_61, V_62, V_63, V_64, V_65, V_66, V_67, V_68, V_69, V_70, V_71, V_72, V_73, V_74, V_75, V_76, V_77, V_78, V_79, V_80, V_81, V_82, V_83, V_84, V_85, V_86, V_87, V_88, V_89, V_90, V_91, V_92, V_93, V_94, V_95, V_96, V_97, V_98, V_99, V_100, V_101, V_102, V_103, V_104, V_105, V_106, V_107, V_108, V_109, V_110, V_111, V_112, V_113, V_114, V_115, V_116, V_117, V_118, V_119, V_120, V_121, V_122, V_123, V_124, V_125, V_126, V_127, V_128, V_129, V_130, V_131, V_132, V_133, V_134, V_135, V_136, V_137, V_138, V_139, V_140, V_141, V_142, V_143, V_144, V_145, V_146, V_147, V_148, V_149, V_150, V_151, V_152, V_153, V_154, V_155, V_156, V_157, V_158, V_159, V_160, V_161, V_162, V_163, V_164, V_165, V_166, V_167, V_168, V_169, V_170, V_171, V_172, V_173, V_174, V_175, V_176, V_177, V_178, V_179, V_180, V_181, V_182, V_183, V_184, V_185, V_186, V_187, V_188, V_189, V_190, V_191, V_192, V_193, V_194, V_195, V_196, V_197, V_198, V_199, V_200, V_201, V_202, V_203, V_204, V_205, V_206, V_207, V_208, V_209, V_210, V_211, V_212, V_213, V_214, V_215, V_216, V_217, V_218, V_219, V_220, V_221, V_222, V_223, V_224, V_225, V_226, V_227, V_228, V_229, V_230, V_231, V_232, V_233, V_234, V_235, V_236, V_237, V_238, V_239, V_240, V_241, V_242, V_243, V_244, V_245, V_246, V_247, V_248, V_249, V_250, V_251, V_252, V_253, V_254, V_255, V_256, V_257, V_258, V_259, V_260, V_261, V_262, V_263, V_264, V_265, V_266, V_267, V_268, V_269, V_270, V_271, V_272, V_273, V_274, V_275, V_276, V_277, V_278, V_279, V_280, V_281, V_282, V_283, V_284, V_285, V_286, V_287, V_288, V_289, V_290, V_291, V_292, V_293, V_294, V_295, V_296, V_297, V_298, V_299, V_300, V_301, V_302, V_303, V_304, V_305, V_306, V_307, V_308, V_309, V_310, V_311, V_312, V_313, V_314, V_315, V_316, V_317, V_318, V_319, V_320, V_321, V_322, V_323, V_324, V_325, V_326, V_327, V_328, V_329, V_330, V_331, V_332, V_333, V_334, V_335, V_336, V_337, V_338, V_339, V_340, V_341, V_342, V_343, V_344, V_345, V_346, V_347, V_348, V_349, V_350, V_351, V_352, V_353, V_354, V_355, V_356, V_357, V_358, V_359, V_360, V_361, V_362, V_363, V_364, V_365, V_366, V_367, V_368, V_369, V_370, V_371, V_372, V_373, V_374, V_375, V_376, V_377, V_378, V_379, V_380, V_381, V_382, V_383, V_384, V_385, V_386, V_387, V_388, V_389, V_390, V_391, V_392, V_393, V_394, V_395, V_396, V_397, V_398, V_399, V_400, V_401, V_402, V_403, V_404, V_405, V_406, V_407, V_408, V_409, V_410, V_411, V_412, V_413, V_414, V_415, V_416, V_417, V_418, V_419, V_420, V_421, V_422, V_423, V_424, V_425, V_426, V_427, V_428, V_429, V_430, V_431, V_432, V_433, V_434, V_435, V_436, V_437, V_438, V_439, V_440, V_441, V_442, V_443, V_444, V_445, V_446, V_447, V_448, V_449, V_450, V_451, V_452, V_453, V_454, V_455, V_456, V_457, V_458, V_459, V_460, V_461, V_462, V_463, V_464, V_465, V_466, V_467, V_468, V_469, V_470, V_471, V_472, V_473, V_474, V_475, V_476, V_477, V_478, V_479, V_480, V_481, V_482, V_483, V_484, V_485, V_486, V_487, V_488, V_489, V_490, V_491, V_492, V_493, V_494, V_495, V_496, V_497, V_498, V_499, V_500, V_501, V_502, V_503, V_504, V_505, V_506, V_507, V_508, V_509, V_510, V_511, V_512, V_513, V_514, V_515, V_516, V_517, V_518, V_519, V_520, V_521, V_522, V_523, V_524, V_525, V_526, V_527, V_528, V_529, V_530, V_531, V_532, V_533, V_534, V_535, V_536, V_537, V_538, V_539, V_540, V_541, V_542, V_543, V_544, V_545, V_546, V_547, V_548, V_549, V_550, V_551, V_552, V_553, V_554, V_555, V_556, V_557, V_558, V_559, V_560, V_561, V_562, V_563, V_564, V_565, V_566, V_567, V_568, V_569, V_570, V_571, V_572, V_573, V_574, V_575, V_576, V_577, V_578, V_579, V_580, V_581, V_582, V_583, V_584, V_585, V_586, V_587, V_588, V_589, V_590, V_591, V_592, V_593, V_594, V_595, V_596, V_597, V_598, V_599, V_600, V_601, V_602, V_603, V_604, V_605, V_606, V_607, V_608, V_609, V_610, V_611, V_612, V_613, V_614, V_615, V_616, V_617, V_618, V_619, V_620, V_621, V_622, V_623, V_624, V_625, V_626, V_627, V_628, V_629, V_630, V_631, V_632, V_633, V_634, V_635, V_636, V_637, V_638, V_639, V_640, V_641, V_642, V_643, V_644, V_645, V_646, V_647, V_648, V_649, V_650, V_651, V_652, V_653, V_654, V_655, V_656, V_657, V_658, V_659, V_660, V_661, V_662, V_663, V_664, V_665, V_666, V_667, V_668, V_669, V_670, V_671, V_672, V_673, V_674, V_675, V_676, V_677, V_678, V_679, V_680, V_681, V_682, V_683, V_684, V_685, V_686, V_687, V_688, V_689, V_690, V_691, V_692, V_693, V_694, V_695, V_696, V_697, V_698, V_699, V_700, V_701, V_702, V_703, V_704, V_705, V_706, V_707, V_708, V_709, V_710, V_711, V_712, V_713, V_714, V_715, V_716, V_717, V_718, V_719, V_720, V_721, V_722, V_723, V_724, V_725, V_726, V_727, V_728, V_729, V_730, V_731, V_732, V_733, V_734, V_735, V_736, V_737, V_738, V_739, V_740, V_741, V_742, V_743, V_744, V_745, V_746, V_747, V_748, V_749, V_750, V_751, V_752, V_753, V_754, V_755, V_756, V_757, V_758, V_759, V_760, V_761, V_762, V_763, V_764, V_765, V_766, V_767, V_768, V_769, V_770, V_771, V_772, V_773, V_774, V_775, V_776, V_777, V_778, V_779, V_780, V_781, V_782, V_783, V_784, V_785, V_786, V_787, V_788, V_789, V_790, V_791, V_792, V_793, V_794, V_795, V_796, V_797, V_798, V_799, V_800, V_801, V_802, V_803, V_804, V_805, V_806, V_807, V_808, V_809, V_810, V_811, V_812, V_813, V_814, V_815, V_816, V_817, V_818, V_819, V_820, V_821, V_822, V_823, V_824, V_825, V_826, V_827, V_828, V_829, V_830, V_831, V_832, V_833, V_834, V_835, V_836, V_837, V_838, V_839, V_840, V_841, V_842, V_843, V_844, V_845, V_846, V_847, V_848, V_849, V_850, V_851, V_852, V_853, V_854, V_855, V_856, V_857, V_858, V_859, V_860, V_861, V_862, V_863, V_864, V_865, V_866, V_867, V_868, V_869, V_870, V_871, V_872, V_873, V_874, V_875, V_876, V_877, V_878, V_879, V_880, V_881, V_882, V_883, V_884, V_885, V_886, V_887, V_888, V_889, V_890, V_891, V_892, V_893, V_894, V_895, V_896, V_897, V_898, V_899, V_900, V_901, V_902, V_903, V_904, V_905, V_906, V_907, V_908, V_909, V_910, V_911, V_912, V_913, V_914, V_915, V_916, V_917, V_918, V_919, V_920, V_921, V_922, V_923, V_924, V_925, V_926, V_927, V_928, V_929, V_930, V_931, V_932, V_933, V_934, V_935, V_936, V_937, V_938, V_939, V_940, V_941, V_942, V_943, V_944, V_945, V_946, V_947, V_948, V_949, V_950, V_951, V_952, V_953, V_954, V_955, V_956, V_957, V_958, V_959, V_960, V_961, V_962, V_963, V_964, V_965, V_966, V_967, V_968, V_969, V_970, V_971, V_972, V_973, V_974, V_975, V_976, V_977, V_978, V_979, V_980, V_981, V_982, V_983, V_984, V_985, V_986, V_987, V_988, V_989, V_990, V_991, V_992, V_993, V_994, V_995, V_996, V_997, V_998, V_999, V_1000, V_1001, V_1002, V_1003, V_1004, V_1005, V_1006, V_1007, V_1008, V_1009, V_1010, V_1011, V_1012, V_1013, V_1014, V_1015, V_1016, V_1017, V_1018, V_1019, V_1020, V_1021, V_1022, V_1023, V_1024, V_1025, V_1026, V_1027, V_1028, V_1029, V_1030, V_1031, V_1032, V_1033, V_1034, V_1035, V_1036, V_1037, V_1038, V_1039, V_1040, V_1041, V_1042, V_1043, V_1044, V_1045, V_1046, V_1047, V_1048, V_1049, V_1050, V_1051, V_1052, V_1053, V_1054, V_1055, V_1056, V_1057, V_1058, V_1059, V_1060, V_1061, V_1062, V_1063, V_1064, V_1065, V_1066, V_1067, V_1068, V_1069, V_1070, V_1071, V_1072, V_1073, V_1074, V_1075, V_1076, V_1077, V_1078, V_1079, V_1080, V_1081, V_1082, V_1083, V_1084, V_1085, V_1086, V_1087, V_1088, V_1089, V_1090, V_1091, V_1092, V_1093, V_1094, V_1095, V_1096, V_1097, V_1098, V_1099, V_1100, V_1101, V_1102, V_1103, V_1104, V_1105, V_1106, V_1107, V_1108, V_1109, V_1110, V_1111, V_1112, V_1113, V_1114, V_1115, V_1116, V_1117, V_1118, V_1119, V_1120, V_1121, V_1122, V_1123, V_1124, V_1125, V_1126, V_1127, V_1128, V_1129, V_1130, V_1131, V_1132, V_1133, V_1134, V_1135, V_1136, V_1137, V_1138, V_1139, V_1140, V_1141, V_1142, V_1143, V_1144, V_1145, V_1146, V_1147, V_1148, V_1149, V_1150, V_1151, V_1152, V_1153, V_1154, V_1155, V_1156, V_1157, V_1158, V_1159, V_1160, V_1161, V_1162, V_1163, V_1164, V_1165, V_1166, V_1167, V_1168, V_1169, V_1170, V_1171, V_1172, V_1173, V_1174, V_1175, V_1176, V_1177, V_1178, V_1179, V_1180, V_1181, V_1182, V_1183, V_1184, V_1185, V_1186, V_1187, V_1188, V_1189, V_1190, V_1191, V_1192, V_1193, V_1194, V_1195, V_1196, V_1197, V_1198, V_1199, V_1200, V_1201, V_1202, V_1203, V_1204, V_1205, V_1206, V_1207, V_1208, V_1209, V_1210, V_1211, V_1212, V_1213, V_1214, V_1215, V_1216, V_1217, V_1218, V_1219, V_1220, V_1221, V_1222, V_1223, V_1224, V_1225, V_1226, V_1227, V_1228, V_1229, V_1230, V_1231, V_1232, V_1233, V_1234, V_1235, V_1236, V_1237, V_1238, V_1239, V_1240, V_1241, V_1242, V_1243, V_1244, V_1245, V_1246, V_1247, V_1248, V_1249, V_1250, V_1251, V_1252, V_1253, V_1254, V_1255, V_1256, V_1257, V_1258, V_1259, V_1260, V_1261, V_1262, V_1263, V_1264, V_1265, V_1266, V_1267, V_1268, V_1269, V_1270, V_1271, V_1272, V_1273, V_1274, V_1275, V_1276, V_1277, V_1278, V_1279, V_1280, V_1281, V_1282, V_1283, V_1284, V_1285, V_1286, V_1287, V_1288, V_1289, V_1290, V_1291, V_1292, V_1293, V_1294, V_1295, V_1296, V_1297, V_1298, V_1299, V_1300, V_1301, V_1302, V_1303, V_1304, V_1305, V_1306, V_1307, V_1308, V_1309, V_1310, V_1311, V_1312, V_1313, V_1314, V_1315, V_1316, V_1317, V_1318, V_1319, V_1320, V_1321, V_1322, V_1323, V_1324, V_1325, V_1326, V_1327, V_1328, V_1329, V_1330, V_1331, V_1332, V_1333, V_1334, V_1335, V_1336, V_1337, V_1338, V_1339, V_1340, V_1341, V_1342, V_1343, V_1344, V_1345, V_1346, V_1347, V_1348, V_1349, V_1350, V_1351, V_1352, V_1353, V_1354, V_1355, V_1356, V_1357, V_1358, V_1359, V_1360, V_1361, V_1362, V_1363, V_1364, V_1365, V_1366, V_1367, V_1368, V_1369, V_1370, V_1371, V_1372, V_1373, V_1374, V_1375, V_1376, V_1377, V_1378, V_1379, V_1380, V_1381, V_1382, V_1383, V_1384, V_1385, V_1386, V_1387, V_1388, V_1389, V_1390, V_1391, V_1392, V_1393, V_1394, V_1395, V_1396, V_1397, V_1398, V_1399, V_1400, V_1401, V_1402, V_1403, V_1404, V_1405, V_1406, V_1407, V_1408, V_1409, V_1410, V_1411, V_1412, V_1413, V_1414, V_1415, V_1416, V_1417, V_1418, V_1419, V_1420, V_1421, V_1422, V_1423, V_1424, V_1425, V_1426, V_1427, V_1428, V_1429, V_1430, V_1431, V_1432, V_1433, V_1434, V_1435, V_1436, V_1437, V_1438, V_1439, V_1440, V_1441, V_1442, V_1443, V_1444, V_1445, V_1446, V_1447, V_1448, V_1449, V_1450, V_1451, V_1452, V_1453, V_1454, V_1455, V_1456, V_1457, V_1458, V_1459, V_1460, V_1461, V_1462, V_1463, V_1464, V_1465, V_1466, V_1467, V_1468, V_1469, V_1470, V_1471, V_1472, V_1473, V_1474, V_1475, V_1476, V_1477, V_1478, V_1479, V_1480, V_1481, V_1482, V_1483, V_1484, V_1485, V_1486, V_1487, V_1488, V_1489, V_1490, V_1491, V_1492, V_1493, V_1494, V_1495, V_1496, V_1497, V_1498, V_1499, V_1500, V_1501, V_1502, V_1503, V_1504, V_1505, V_1506, V_1507, V_1508, V_1509, V_1510, V_1511, V_1512, V_1513, V_1514, V_1515, V_1516, V_1517, V_1518, V_1519, V_1520, V_1521, V_1522, V_1523, V_1524, V_1525, V_1526, V_1527, V_1528, V_1529, V_1530, V_1531, V_1532, V_1533, V_1534, V_1535, V_1536, V_1537, V_1538, V_1539, V_1540, V_1541, V_1542, V_1543, V_1544, V_1545, V_1546, V_1547, V_1548, V_1549, V_1550, V_1551, V_1552, V_1553, V_1554, V_1555, V_1556, V_1557, V_1558, V_1559, V_1560, V_1561, V_1562, V_1563, V_1564, V_1565, V_1566, V_1567, V_1568, V_1569, V_1570, V_1571, V_1572, V_1573, V_1574, V_1575, V_1576, V_1577, V_1578, V_1579, V_1580, V_1581, V_1582, V_1583, V_1584, V_1585, V_1586, V_1587, V_1588, V_1589, V_1590, V_1591, V_1592, V_1593, V_1594, V_1595, V_1596, V_1597, V_1598, V_1599, V_1600, V_1601, V_1602, V_1603, V_1604, V_1605, V_1606, V_1607, V_1608, V_1609, V_1610, V_1611, V_1612, V_1613, V_1614, V_1615, V_1616, V_1617, V_1618, V_1619, V_1620, V_1621, V_1622, V_1623, V_1624, V_1625, V_1626, V_1627, V_1628, V_1629, V_1630, V_1631, V_1632, V_1633, V_1634, V_1635, V_1636, V_1637, V_1638], 'Vertex': <class 'object_library.Vertex'>, 'P': <module 'particles' from 'C:\\\\Users/moise/OneDrive/Escritorio/LRSM-with-Spheno/UFOmodel/MLRSM_UFO_neutrino_mix\\\\particles.py'>, 'C': <module 'couplings' from 'C:\\\\Users/moise/OneDrive/Escritorio/LRSM-with-Spheno/UFOmodel/MLRSM_UFO_neutrino_mix\\\\couplings.py'>, 'L': <module 'lorentz' from 'C:\\\\Users/moise/OneDrive/Escritorio/LRSM-with-Spheno/UFOmodel/MLRSM_UFO_neutrino_mix\\\\lorentz.py'>, 'V_1': V_1, 'V_2': V_2, 'V_3': V_3, 'V_4': V_4, 'V_5': V_5, 'V_6': V_6, 'V_7': V_7, 'V_8': V_8, 'V_9': V_9, 'V_10': V_10, 'V_11': V_11, 'V_12': V_12, 'V_13': V_13, 'V_14': V_14, 'V_15': V_15, 'V_16': V_16, 'V_17': V_17, 'V_18': V_18, 'V_19': V_19, 'V_20': V_20, 'V_21': V_21, 'V_22': V_22, 'V_23': V_23, 'V_24': V_24, 'V_25': V_25, 'V_26': V_26, 'V_27': V_27, 'V_28': V_28, 'V_29': V_29, 'V_30': V_30, 'V_31': V_31, 'V_32': V_32, 'V_33': V_33, 'V_34': V_34, 'V_35': V_35, 'V_36': V_36, 'V_37': V_37, 'V_38': V_38, 'V_39': V_39, 'V_40': V_40, 'V_41': V_41, 'V_42': V_42, 'V_43': V_43, 'V_44': V_44, 'V_45': V_45, 'V_46': V_46, 'V_47': V_47, 'V_48': V_48, 'V_49': V_49, 'V_50': V_50, 'V_51': V_51, 'V_52': V_52, 'V_53': V_53, 'V_54': V_54, 'V_55': V_55, 'V_56': V_56, 'V_57': V_57, 'V_58': V_58, 'V_59': V_59, 'V_60': V_60, 'V_61': V_61, 'V_62': V_62, 'V_63': V_63, 'V_64': V_64, 'V_65': V_65, 'V_66': V_66, 'V_67': V_67, 'V_68': V_68, 'V_69': V_69, 'V_70': V_70, 'V_71': V_71, 'V_72': V_72, 'V_73': V_73, 'V_74': V_74, 'V_75': V_75, 'V_76': V_76, 'V_77': V_77, 'V_78': V_78, 'V_79': V_79, 'V_80': V_80, 'V_81': V_81, 'V_82': V_82, 'V_83': V_83, 'V_84': V_84, 'V_85': V_85, 'V_86': V_86, 'V_87': V_87, 'V_88': V_88, 'V_89': V_89, 'V_90': V_90, 'V_91': V_91, 'V_92': V_92, 'V_93': V_93, 'V_94': V_94, 'V_95': V_95, 'V_96': V_96, 'V_97': V_97, 'V_98': V_98, 'V_99': V_99, 'V_100': V_100, 'V_101': V_101, 'V_102': V_102, 'V_103': V_103, 'V_104': V_104, 'V_105': V_105, 'V_106': V_106, 'V_107': V_107, 'V_108': V_108, 'V_109': V_109, 'V_110': V_110, 'V_111': V_111, 'V_112': V_112, 'V_113': V_113, 'V_114': V_114, 'V_115': V_115, 'V_116': V_116, 'V_117': V_117, 'V_118': V_118, 'V_119': V_119, 'V_120': V_120, 'V_121': V_121, 'V_122': V_122, 'V_123': V_123, 'V_124': V_124, 'V_125': V_125, 'V_126': V_126, 'V_127': V_127, 'V_128': V_128, 'V_129': V_129, 'V_130': V_130, 'V_131': V_131, 'V_132': V_132, 'V_133': V_133, 'V_134': V_134, 'V_135': V_135, 'V_136': V_136, 'V_137': V_137, 'V_138': V_138, 'V_139': V_139, 'V_140': V_140, 'V_141': V_141, 'V_142': V_142, 'V_143': V_143, 'V_144': V_144, 'V_145': V_145, 'V_146': V_146, 'V_147': V_147, 'V_148': V_148, 'V_149': V_149, 'V_150': V_150, 'V_151': V_151, 'V_152': V_152, 'V_153': V_153, 'V_154': V_154, 'V_155': V_155, 'V_156': V_156, 'V_157': V_157, 'V_158': V_158, 'V_159': V_159, 'V_160': V_160, 'V_161': V_161, 'V_162': V_162, 'V_163': V_163, 'V_164': V_164, 'V_165': V_165, 'V_166': V_166, 'V_167': V_167, 'V_168': V_168, 'V_169': V_169, 'V_170': V_170, 'V_171': V_171, 'V_172': V_172, 'V_173': V_173, 'V_174': V_174, 'V_175': V_175, 'V_176': V_176, 'V_177': V_177, 'V_178': V_178, 'V_179': V_179, 'V_180': V_180, 'V_181': V_181, 'V_182': V_182, 'V_183': V_183, 'V_184': V_184, 'V_185': V_185, 'V_186': V_186, 'V_187': V_187, 'V_188': V_188, 'V_189': V_189, 'V_190': V_190, 'V_191': V_191, 'V_192': V_192, 'V_193': V_193, 'V_194': V_194, 'V_195': V_195, 'V_196': V_196, 'V_197': V_197, 'V_198': V_198, 'V_199': V_199, 'V_200': V_200, 'V_201': V_201, 'V_202': V_202, 'V_203': V_203, 'V_204': V_204, 'V_205': V_205, 'V_206': V_206, 'V_207': V_207, 'V_208': V_208, 'V_209': V_209, 'V_210': V_210, 'V_211': V_211, 'V_212': V_212, 'V_213': V_213, 'V_214': V_214, 'V_215': V_215, 'V_216': V_216, 'V_217': V_217, 'V_218': V_218, 'V_219': V_219, 'V_220': V_220, 'V_221': V_221, 'V_222': V_222, 'V_223': V_223, 'V_224': V_224, 'V_225': V_225, 'V_226': V_226, 'V_227': V_227, 'V_228': V_228, 'V_229': V_229, 'V_230': V_230, 'V_231': V_231, 'V_232': V_232, 'V_233': V_233, 'V_234': V_234, 'V_235': V_235, 'V_236': V_236, 'V_237': V_237, 'V_238': V_238, 'V_239': V_239, 'V_240': V_240, 'V_241': V_241, 'V_242': V_242, 'V_243': V_243, 'V_244': V_244, 'V_245': V_245, 'V_246': V_246, 'V_247': V_247, 'V_248': V_248, 'V_249': V_249, 'V_250': V_250, 'V_251': V_251, 'V_252': V_252, 'V_253': V_253, 'V_254': V_254, 'V_255': V_255, 'V_256': V_256, 'V_257': V_257, 'V_258': V_258, 'V_259': V_259, 'V_260': V_260, 'V_261': V_261, 'V_262': V_262, 'V_263': V_263, 'V_264': V_264, 'V_265': V_265, 'V_266': V_266, 'V_267': V_267, 'V_268': V_268, 'V_269': V_269, 'V_270': V_270, 'V_271': V_271, 'V_272': V_272, 'V_273': V_273, 'V_274': V_274, 'V_275': V_275, 'V_276': V_276, 'V_277': V_277, 'V_278': V_278, 'V_279': V_279, 'V_280': V_280, 'V_281': V_281, 'V_282': V_282, 'V_283': V_283, 'V_284': V_284, 'V_285': V_285, 'V_286': V_286, 'V_287': V_287, 'V_288': V_288, 'V_289': V_289, 'V_290': V_290, 'V_291': V_291, 'V_292': V_292, 'V_293': V_293, 'V_294': V_294, 'V_295': V_295, 'V_296': V_296, 'V_297': V_297, 'V_298': V_298, 'V_299': V_299, 'V_300': V_300, 'V_301': V_301, 'V_302': V_302, 'V_303': V_303, 'V_304': V_304, 'V_305': V_305, 'V_306': V_306, 'V_307': V_307, 'V_308': V_308, 'V_309': V_309, 'V_310': V_310, 'V_311': V_311, 'V_312': V_312, 'V_313': V_313, 'V_314': V_314, 'V_315': V_315, 'V_316': V_316, 'V_317': V_317, 'V_318': V_318, 'V_319': V_319, 'V_320': V_320, 'V_321': V_321, 'V_322': V_322, 'V_323': V_323, 'V_324': V_324, 'V_325': V_325, 'V_326': V_326, 'V_327': V_327, 'V_328': V_328, 'V_329': V_329, 'V_330': V_330, 'V_331': V_331, 'V_332': V_332, 'V_333': V_333, 'V_334': V_334, 'V_335': V_335, 'V_336': V_336, 'V_337': V_337, 'V_338': V_338, 'V_339': V_339, 'V_340': V_340, 'V_341': V_341, 'V_342': V_342, 'V_343': V_343, 'V_344': V_344, 'V_345': V_345, 'V_346': V_346, 'V_347': V_347, 'V_348': V_348, 'V_349': V_349, 'V_350': V_350, 'V_351': V_351, 'V_352': V_352, 'V_353': V_353, 'V_354': V_354, 'V_355': V_355, 'V_356': V_356, 'V_357': V_357, 'V_358': V_358, 'V_359': V_359, 'V_360': V_360, 'V_361': V_361, 'V_362': V_362, 'V_363': V_363, 'V_364': V_364, 'V_365': V_365, 'V_366': V_366, 'V_367': V_367, 'V_368': V_368, 'V_369': V_369, 'V_370': V_370, 'V_371': V_371, 'V_372': V_372, 'V_373': V_373, 'V_374': V_374, 'V_375': V_375, 'V_376': V_376, 'V_377': V_377, 'V_378': V_378, 'V_379': V_379, 'V_380': V_380, 'V_381': V_381, 'V_382': V_382, 'V_383': V_383, 'V_384': V_384, 'V_385': V_385, 'V_386': V_386, 'V_387': V_387, 'V_388': V_388, 'V_389': V_389, 'V_390': V_390, 'V_391': V_391, 'V_392': V_392, 'V_393': V_393, 'V_394': V_394, 'V_395': V_395, 'V_396': V_396, 'V_397': V_397, 'V_398': V_398, 'V_399': V_399, 'V_400': V_400, 'V_401': V_401, 'V_402': V_402, 'V_403': V_403, 'V_404': V_404, 'V_405': V_405, 'V_406': V_406, 'V_407': V_407, 'V_408': V_408, 'V_409': V_409, 'V_410': V_410, 'V_411': V_411, 'V_412': V_412, 'V_413': V_413, 'V_414': V_414, 'V_415': V_415, 'V_416': V_416, 'V_417': V_417, 'V_418': V_418, 'V_419': V_419, 'V_420': V_420, 'V_421': V_421, 'V_422': V_422, 'V_423': V_423, 'V_424': V_424, 'V_425': V_425, 'V_426': V_426, 'V_427': V_427, 'V_428': V_428, 'V_429': V_429, 'V_430': V_430, 'V_431': V_431, 'V_432': V_432, 'V_433': V_433, 'V_434': V_434, 'V_435': V_435, 'V_436': V_436, 'V_437': V_437, 'V_438': V_438, 'V_439': V_439, 'V_440': V_440, 'V_441': V_441, 'V_442': V_442, 'V_443': V_443, 'V_444': V_444, 'V_445': V_445, 'V_446': V_446, 'V_447': V_447, 'V_448': V_448, 'V_449': V_449, 'V_450': V_450, 'V_451': V_451, 'V_452': V_452, 'V_453': V_453, 'V_454': V_454, 'V_455': V_455, 'V_456': V_456, 'V_457': V_457, 'V_458': V_458, 'V_459': V_459, 'V_460': V_460, 'V_461': V_461, 'V_462': V_462, 'V_463': V_463, 'V_464': V_464, 'V_465': V_465, 'V_466': V_466, 'V_467': V_467, 'V_468': V_468, 'V_469': V_469, 'V_470': V_470, 'V_471': V_471, 'V_472': V_472, 'V_473': V_473, 'V_474': V_474, 'V_475': V_475, 'V_476': V_476, 'V_477': V_477, 'V_478': V_478, 'V_479': V_479, 'V_480': V_480, 'V_481': V_481, 'V_482': V_482, 'V_483': V_483, 'V_484': V_484, 'V_485': V_485, 'V_486': V_486, 'V_487': V_487, 'V_488': V_488, 'V_489': V_489, 'V_490': V_490, 'V_491': V_491, 'V_492': V_492, 'V_493': V_493, 'V_494': V_494, 'V_495': V_495, 'V_496': V_496, 'V_497': V_497, 'V_498': V_498, 'V_499': V_499, 'V_500': V_500, 'V_501': V_501, 'V_502': V_502, 'V_503': V_503, 'V_504': V_504, 'V_505': V_505, 'V_506': V_506, 'V_507': V_507, 'V_508': V_508, 'V_509': V_509, 'V_510': V_510, 'V_511': V_511, 'V_512': V_512, 'V_513': V_513, 'V_514': V_514, 'V_515': V_515, 'V_516': V_516, 'V_517': V_517, 'V_518': V_518, 'V_519': V_519, 'V_520': V_520, 'V_521': V_521, 'V_522': V_522, 'V_523': V_523, 'V_524': V_524, 'V_525': V_525, 'V_526': V_526, 'V_527': V_527, 'V_528': V_528, 'V_529': V_529, 'V_530': V_530, 'V_531': V_531, 'V_532': V_532, 'V_533': V_533, 'V_534': V_534, 'V_535': V_535, 'V_536': V_536, 'V_537': V_537, 'V_538': V_538, 'V_539': V_539, 'V_540': V_540, 'V_541': V_541, 'V_542': V_542, 'V_543': V_543, 'V_544': V_544, 'V_545': V_545, 'V_546': V_546, 'V_547': V_547, 'V_548': V_548, 'V_549': V_549, 'V_550': V_550, 'V_551': V_551, 'V_552': V_552, 'V_553': V_553, 'V_554': V_554, 'V_555': V_555, 'V_556': V_556, 'V_557': V_557, 'V_558': V_558, 'V_559': V_559, 'V_560': V_560, 'V_561': V_561, 'V_562': V_562, 'V_563': V_563, 'V_564': V_564, 'V_565': V_565, 'V_566': V_566, 'V_567': V_567, 'V_568': V_568, 'V_569': V_569, 'V_570': V_570, 'V_571': V_571, 'V_572': V_572, 'V_573': V_573, 'V_574': V_574, 'V_575': V_575, 'V_576': V_576, 'V_577': V_577, 'V_578': V_578, 'V_579': V_579, 'V_580': V_580, 'V_581': V_581, 'V_582': V_582, 'V_583': V_583, 'V_584': V_584, 'V_585': V_585, 'V_586': V_586, 'V_587': V_587, 'V_588': V_588, 'V_589': V_589, 'V_590': V_590, 'V_591': V_591, 'V_592': V_592, 'V_593': V_593, 'V_594': V_594, 'V_595': V_595, 'V_596': V_596, 'V_597': V_597, 'V_598': V_598, 'V_599': V_599, 'V_600': V_600, 'V_601': V_601, 'V_602': V_602, 'V_603': V_603, 'V_604': V_604, 'V_605': V_605, 'V_606': V_606, 'V_607': V_607, 'V_608': V_608, 'V_609': V_609, 'V_610': V_610, 'V_611': V_611, 'V_612': V_612, 'V_613': V_613, 'V_614': V_614, 'V_615': V_615, 'V_616': V_616, 'V_617': V_617, 'V_618': V_618, 'V_619': V_619, 'V_620': V_620, 'V_621': V_621, 'V_622': V_622, 'V_623': V_623, 'V_624': V_624, 'V_625': V_625, 'V_626': V_626, 'V_627': V_627, 'V_628': V_628, 'V_629': V_629, 'V_630': V_630, 'V_631': V_631, 'V_632': V_632, 'V_633': V_633, 'V_634': V_634, 'V_635': V_635, 'V_636': V_636, 'V_637': V_637, 'V_638': V_638, 'V_639': V_639, 'V_640': V_640, 'V_641': V_641, 'V_642': V_642, 'V_643': V_643, 'V_644': V_644, 'V_645': V_645, 'V_646': V_646, 'V_647': V_647, 'V_648': V_648, 'V_649': V_649, 'V_650': V_650, 'V_651': V_651, 'V_652': V_652, 'V_653': V_653, 'V_654': V_654, 'V_655': V_655, 'V_656': V_656, 'V_657': V_657, 'V_658': V_658, 'V_659': V_659, 'V_660': V_660, 'V_661': V_661, 'V_662': V_662, 'V_663': V_663, 'V_664': V_664, 'V_665': V_665, 'V_666': V_666, 'V_667': V_667, 'V_668': V_668, 'V_669': V_669, 'V_670': V_670, 'V_671': V_671, 'V_672': V_672, 'V_673': V_673, 'V_674': V_674, 'V_675': V_675, 'V_676': V_676, 'V_677': V_677, 'V_678': V_678, 'V_679': V_679, 'V_680': V_680, 'V_681': V_681, 'V_682': V_682, 'V_683': V_683, 'V_684': V_684, 'V_685': V_685, 'V_686': V_686, 'V_687': V_687, 'V_688': V_688, 'V_689': V_689, 'V_690': V_690, 'V_691': V_691, 'V_692': V_692, 'V_693': V_693, 'V_694': V_694, 'V_695': V_695, 'V_696': V_696, 'V_697': V_697, 'V_698': V_698, 'V_699': V_699, 'V_700': V_700, 'V_701': V_701, 'V_702': V_702, 'V_703': V_703, 'V_704': V_704, 'V_705': V_705, 'V_706': V_706, 'V_707': V_707, 'V_708': V_708, 'V_709': V_709, 'V_710': V_710, 'V_711': V_711, 'V_712': V_712, 'V_713': V_713, 'V_714': V_714, 'V_715': V_715, 'V_716': V_716, 'V_717': V_717, 'V_718': V_718, 'V_719': V_719, 'V_720': V_720, 'V_721': V_721, 'V_722': V_722, 'V_723': V_723, 'V_724': V_724, 'V_725': V_725, 'V_726': V_726, 'V_727': V_727, 'V_728': V_728, 'V_729': V_729, 'V_730': V_730, 'V_731': V_731, 'V_732': V_732, 'V_733': V_733, 'V_734': V_734, 'V_735': V_735, 'V_736': V_736, 'V_737': V_737, 'V_738': V_738, 'V_739': V_739, 'V_740': V_740, 'V_741': V_741, 'V_742': V_742, 'V_743': V_743, 'V_744': V_744, 'V_745': V_745, 'V_746': V_746, 'V_747': V_747, 'V_748': V_748, 'V_749': V_749, 'V_750': V_750, 'V_751': V_751, 'V_752': V_752, 'V_753': V_753, 'V_754': V_754, 'V_755': V_755, 'V_756': V_756, 'V_757': V_757, 'V_758': V_758, 'V_759': V_759, 'V_760': V_760, 'V_761': V_761, 'V_762': V_762, 'V_763': V_763, 'V_764': V_764, 'V_765': V_765, 'V_766': V_766, 'V_767': V_767, 'V_768': V_768, 'V_769': V_769, 'V_770': V_770, 'V_771': V_771, 'V_772': V_772, 'V_773': V_773, 'V_774': V_774, 'V_775': V_775, 'V_776': V_776, 'V_777': V_777, 'V_778': V_778, 'V_779': V_779, 'V_780': V_780, 'V_781': V_781, 'V_782': V_782, 'V_783': V_783, 'V_784': V_784, 'V_785': V_785, 'V_786': V_786, 'V_787': V_787, 'V_788': V_788, 'V_789': V_789, 'V_790': V_790, 'V_791': V_791, 'V_792': V_792, 'V_793': V_793, 'V_794': V_794, 'V_795': V_795, 'V_796': V_796, 'V_797': V_797, 'V_798': V_798, 'V_799': V_799, 'V_800': V_800, 'V_801': V_801, 'V_802': V_802, 'V_803': V_803, 'V_804': V_804, 'V_805': V_805, 'V_806': V_806, 'V_807': V_807, 'V_808': V_808, 'V_809': V_809, 'V_810': V_810, 'V_811': V_811, 'V_812': V_812, 'V_813': V_813, 'V_814': V_814, 'V_815': V_815, 'V_816': V_816, 'V_817': V_817, 'V_818': V_818, 'V_819': V_819, 'V_820': V_820, 'V_821': V_821, 'V_822': V_822, 'V_823': V_823, 'V_824': V_824, 'V_825': V_825, 'V_826': V_826, 'V_827': V_827, 'V_828': V_828, 'V_829': V_829, 'V_830': V_830, 'V_831': V_831, 'V_832': V_832, 'V_833': V_833, 'V_834': V_834, 'V_835': V_835, 'V_836': V_836, 'V_837': V_837, 'V_838': V_838, 'V_839': V_839, 'V_840': V_840, 'V_841': V_841, 'V_842': V_842, 'V_843': V_843, 'V_844': V_844, 'V_845': V_845, 'V_846': V_846, 'V_847': V_847, 'V_848': V_848, 'V_849': V_849, 'V_850': V_850, 'V_851': V_851, 'V_852': V_852, 'V_853': V_853, 'V_854': V_854, 'V_855': V_855, 'V_856': V_856, 'V_857': V_857, 'V_858': V_858, 'V_859': V_859, 'V_860': V_860, 'V_861': V_861, 'V_862': V_862, 'V_863': V_863, 'V_864': V_864, 'V_865': V_865, 'V_866': V_866, 'V_867': V_867, 'V_868': V_868, 'V_869': V_869, 'V_870': V_870, 'V_871': V_871, 'V_872': V_872, 'V_873': V_873, 'V_874': V_874, 'V_875': V_875, 'V_876': V_876, 'V_877': V_877, 'V_878': V_878, 'V_879': V_879, 'V_880': V_880, 'V_881': V_881, 'V_882': V_882, 'V_883': V_883, 'V_884': V_884, 'V_885': V_885, 'V_886': V_886, 'V_887': V_887, 'V_888': V_888, 'V_889': V_889, 'V_890': V_890, 'V_891': V_891, 'V_892': V_892, 'V_893': V_893, 'V_894': V_894, 'V_895': V_895, 'V_896': V_896, 'V_897': V_897, 'V_898': V_898, 'V_899': V_899, 'V_900': V_900, 'V_901': V_901, 'V_902': V_902, 'V_903': V_903, 'V_904': V_904, 'V_905': V_905, 'V_906': V_906, 'V_907': V_907, 'V_908': V_908, 'V_909': V_909, 'V_910': V_910, 'V_911': V_911, 'V_912': V_912, 'V_913': V_913, 'V_914': V_914, 'V_915': V_915, 'V_916': V_916, 'V_917': V_917, 'V_918': V_918, 'V_919': V_919, 'V_920': V_920, 'V_921': V_921, 'V_922': V_922, 'V_923': V_923, 'V_924': V_924, 'V_925': V_925, 'V_926': V_926, 'V_927': V_927, 'V_928': V_928, 'V_929': V_929, 'V_930': V_930, 'V_931': V_931, 'V_932': V_932, 'V_933': V_933, 'V_934': V_934, 'V_935': V_935, 'V_936': V_936, 'V_937': V_937, 'V_938': V_938, 'V_939': V_939, 'V_940': V_940, 'V_941': V_941, 'V_942': V_942, 'V_943': V_943, 'V_944': V_944, 'V_945': V_945, 'V_946': V_946, 'V_947': V_947, 'V_948': V_948, 'V_949': V_949, 'V_950': V_950, 'V_951': V_951, 'V_952': V_952, 'V_953': V_953, 'V_954': V_954, 'V_955': V_955, 'V_956': V_956, 'V_957': V_957, 'V_958': V_958, 'V_959': V_959, 'V_960': V_960, 'V_961': V_961, 'V_962': V_962, 'V_963': V_963, 'V_964': V_964, 'V_965': V_965, 'V_966': V_966, 'V_967': V_967, 'V_968': V_968, 'V_969': V_969, 'V_970': V_970, 'V_971': V_971, 'V_972': V_972, 'V_973': V_973, 'V_974': V_974, 'V_975': V_975, 'V_976': V_976, 'V_977': V_977, 'V_978': V_978, 'V_979': V_979, 'V_980': V_980, 'V_981': V_981, 'V_982': V_982, 'V_983': V_983, 'V_984': V_984, 'V_985': V_985, 'V_986': V_986, 'V_987': V_987, 'V_988': V_988, 'V_989': V_989, 'V_990': V_990, 'V_991': V_991, 'V_992': V_992, 'V_993': V_993, 'V_994': V_994, 'V_995': V_995, 'V_996': V_996, 'V_997': V_997, 'V_998': V_998, 'V_999': V_999, 'V_1000': V_1000, 'V_1001': V_1001, 'V_1002': V_1002, 'V_1003': V_1003, 'V_1004': V_1004, 'V_1005': V_1005, 'V_1006': V_1006, 'V_1007': V_1007, 'V_1008': V_1008, 'V_1009': V_1009, 'V_1010': V_1010, 'V_1011': V_1011, 'V_1012': V_1012, 'V_1013': V_1013, 'V_1014': V_1014, 'V_1015': V_1015, 'V_1016': V_1016, 'V_1017': V_1017, 'V_1018': V_1018, 'V_1019': V_1019, 'V_1020': V_1020, 'V_1021': V_1021, 'V_1022': V_1022, 'V_1023': V_1023, 'V_1024': V_1024, 'V_1025': V_1025, 'V_1026': V_1026, 'V_1027': V_1027, 'V_1028': V_1028, 'V_1029': V_1029, 'V_1030': V_1030, 'V_1031': V_1031, 'V_1032': V_1032, 'V_1033': V_1033, 'V_1034': V_1034, 'V_1035': V_1035, 'V_1036': V_1036, 'V_1037': V_1037, 'V_1038': V_1038, 'V_1039': V_1039, 'V_1040': V_1040, 'V_1041': V_1041, 'V_1042': V_1042, 'V_1043': V_1043, 'V_1044': V_1044, 'V_1045': V_1045, 'V_1046': V_1046, 'V_1047': V_1047, 'V_1048': V_1048, 'V_1049': V_1049, 'V_1050': V_1050, 'V_1051': V_1051, 'V_1052': V_1052, 'V_1053': V_1053, 'V_1054': V_1054, 'V_1055': V_1055, 'V_1056': V_1056, 'V_1057': V_1057, 'V_1058': V_1058, 'V_1059': V_1059, 'V_1060': V_1060, 'V_1061': V_1061, 'V_1062': V_1062, 'V_1063': V_1063, 'V_1064': V_1064, 'V_1065': V_1065, 'V_1066': V_1066, 'V_1067': V_1067, 'V_1068': V_1068, 'V_1069': V_1069, 'V_1070': V_1070, 'V_1071': V_1071, 'V_1072': V_1072, 'V_1073': V_1073, 'V_1074': V_1074, 'V_1075': V_1075, 'V_1076': V_1076, 'V_1077': V_1077, 'V_1078': V_1078, 'V_1079': V_1079, 'V_1080': V_1080, 'V_1081': V_1081, 'V_1082': V_1082, 'V_1083': V_1083, 'V_1084': V_1084, 'V_1085': V_1085, 'V_1086': V_1086, 'V_1087': V_1087, 'V_1088': V_1088, 'V_1089': V_1089, 'V_1090': V_1090, 'V_1091': V_1091, 'V_1092': V_1092, 'V_1093': V_1093, 'V_1094': V_1094, 'V_1095': V_1095, 'V_1096': V_1096, 'V_1097': V_1097, 'V_1098': V_1098, 'V_1099': V_1099, 'V_1100': V_1100, 'V_1101': V_1101, 'V_1102': V_1102, 'V_1103': V_1103, 'V_1104': V_1104, 'V_1105': V_1105, 'V_1106': V_1106, 'V_1107': V_1107, 'V_1108': V_1108, 'V_1109': V_1109, 'V_1110': V_1110, 'V_1111': V_1111, 'V_1112': V_1112, 'V_1113': V_1113, 'V_1114': V_1114, 'V_1115': V_1115, 'V_1116': V_1116, 'V_1117': V_1117, 'V_1118': V_1118, 'V_1119': V_1119, 'V_1120': V_1120, 'V_1121': V_1121, 'V_1122': V_1122, 'V_1123': V_1123, 'V_1124': V_1124, 'V_1125': V_1125, 'V_1126': V_1126, 'V_1127': V_1127, 'V_1128': V_1128, 'V_1129': V_1129, 'V_1130': V_1130, 'V_1131': V_1131, 'V_1132': V_1132, 'V_1133': V_1133, 'V_1134': V_1134, 'V_1135': V_1135, 'V_1136': V_1136, 'V_1137': V_1137, 'V_1138': V_1138, 'V_1139': V_1139, 'V_1140': V_1140, 'V_1141': V_1141, 'V_1142': V_1142, 'V_1143': V_1143, 'V_1144': V_1144, 'V_1145': V_1145, 'V_1146': V_1146, 'V_1147': V_1147, 'V_1148': V_1148, 'V_1149': V_1149, 'V_1150': V_1150, 'V_1151': V_1151, 'V_1152': V_1152, 'V_1153': V_1153, 'V_1154': V_1154, 'V_1155': V_1155, 'V_1156': V_1156, 'V_1157': V_1157, 'V_1158': V_1158, 'V_1159': V_1159, 'V_1160': V_1160, 'V_1161': V_1161, 'V_1162': V_1162, 'V_1163': V_1163, 'V_1164': V_1164, 'V_1165': V_1165, 'V_1166': V_1166, 'V_1167': V_1167, 'V_1168': V_1168, 'V_1169': V_1169, 'V_1170': V_1170, 'V_1171': V_1171, 'V_1172': V_1172, 'V_1173': V_1173, 'V_1174': V_1174, 'V_1175': V_1175, 'V_1176': V_1176, 'V_1177': V_1177, 'V_1178': V_1178, 'V_1179': V_1179, 'V_1180': V_1180, 'V_1181': V_1181, 'V_1182': V_1182, 'V_1183': V_1183, 'V_1184': V_1184, 'V_1185': V_1185, 'V_1186': V_1186, 'V_1187': V_1187, 'V_1188': V_1188, 'V_1189': V_1189, 'V_1190': V_1190, 'V_1191': V_1191, 'V_1192': V_1192, 'V_1193': V_1193, 'V_1194': V_1194, 'V_1195': V_1195, 'V_1196': V_1196, 'V_1197': V_1197, 'V_1198': V_1198, 'V_1199': V_1199, 'V_1200': V_1200, 'V_1201': V_1201, 'V_1202': V_1202, 'V_1203': V_1203, 'V_1204': V_1204, 'V_1205': V_1205, 'V_1206': V_1206, 'V_1207': V_1207, 'V_1208': V_1208, 'V_1209': V_1209, 'V_1210': V_1210, 'V_1211': V_1211, 'V_1212': V_1212, 'V_1213': V_1213, 'V_1214': V_1214, 'V_1215': V_1215, 'V_1216': V_1216, 'V_1217': V_1217, 'V_1218': V_1218, 'V_1219': V_1219, 'V_1220': V_1220, 'V_1221': V_1221, 'V_1222': V_1222, 'V_1223': V_1223, 'V_1224': V_1224, 'V_1225': V_1225, 'V_1226': V_1226, 'V_1227': V_1227, 'V_1228': V_1228, 'V_1229': V_1229, 'V_1230': V_1230, 'V_1231': V_1231, 'V_1232': V_1232, 'V_1233': V_1233, 'V_1234': V_1234, 'V_1235': V_1235, 'V_1236': V_1236, 'V_1237': V_1237, 'V_1238': V_1238, 'V_1239': V_1239, 'V_1240': V_1240, 'V_1241': V_1241, 'V_1242': V_1242, 'V_1243': V_1243, 'V_1244': V_1244, 'V_1245': V_1245, 'V_1246': V_1246, 'V_1247': V_1247, 'V_1248': V_1248, 'V_1249': V_1249, 'V_1250': V_1250, 'V_1251': V_1251, 'V_1252': V_1252, 'V_1253': V_1253, 'V_1254': V_1254, 'V_1255': V_1255, 'V_1256': V_1256, 'V_1257': V_1257, 'V_1258': V_1258, 'V_1259': V_1259, 'V_1260': V_1260, 'V_1261': V_1261, 'V_1262': V_1262, 'V_1263': V_1263, 'V_1264': V_1264, 'V_1265': V_1265, 'V_1266': V_1266, 'V_1267': V_1267, 'V_1268': V_1268, 'V_1269': V_1269, 'V_1270': V_1270, 'V_1271': V_1271, 'V_1272': V_1272, 'V_1273': V_1273, 'V_1274': V_1274, 'V_1275': V_1275, 'V_1276': V_1276, 'V_1277': V_1277, 'V_1278': V_1278, 'V_1279': V_1279, 'V_1280': V_1280, 'V_1281': V_1281, 'V_1282': V_1282, 'V_1283': V_1283, 'V_1284': V_1284, 'V_1285': V_1285, 'V_1286': V_1286, 'V_1287': V_1287, 'V_1288': V_1288, 'V_1289': V_1289, 'V_1290': V_1290, 'V_1291': V_1291, 'V_1292': V_1292, 'V_1293': V_1293, 'V_1294': V_1294, 'V_1295': V_1295, 'V_1296': V_1296, 'V_1297': V_1297, 'V_1298': V_1298, 'V_1299': V_1299, 'V_1300': V_1300, 'V_1301': V_1301, 'V_1302': V_1302, 'V_1303': V_1303, 'V_1304': V_1304, 'V_1305': V_1305, 'V_1306': V_1306, 'V_1307': V_1307, 'V_1308': V_1308, 'V_1309': V_1309, 'V_1310': V_1310, 'V_1311': V_1311, 'V_1312': V_1312, 'V_1313': V_1313, 'V_1314': V_1314, 'V_1315': V_1315, 'V_1316': V_1316, 'V_1317': V_1317, 'V_1318': V_1318, 'V_1319': V_1319, 'V_1320': V_1320, 'V_1321': V_1321, 'V_1322': V_1322, 'V_1323': V_1323, 'V_1324': V_1324, 'V_1325': V_1325, 'V_1326': V_1326, 'V_1327': V_1327, 'V_1328': V_1328, 'V_1329': V_1329, 'V_1330': V_1330, 'V_1331': V_1331, 'V_1332': V_1332, 'V_1333': V_1333, 'V_1334': V_1334, 'V_1335': V_1335, 'V_1336': V_1336, 'V_1337': V_1337, 'V_1338': V_1338, 'V_1339': V_1339, 'V_1340': V_1340, 'V_1341': V_1341, 'V_1342': V_1342, 'V_1343': V_1343, 'V_1344': V_1344, 'V_1345': V_1345, 'V_1346': V_1346, 'V_1347': V_1347, 'V_1348': V_1348, 'V_1349': V_1349, 'V_1350': V_1350, 'V_1351': V_1351, 'V_1352': V_1352, 'V_1353': V_1353, 'V_1354': V_1354, 'V_1355': V_1355, 'V_1356': V_1356, 'V_1357': V_1357, 'V_1358': V_1358, 'V_1359': V_1359, 'V_1360': V_1360, 'V_1361': V_1361, 'V_1362': V_1362, 'V_1363': V_1363, 'V_1364': V_1364, 'V_1365': V_1365, 'V_1366': V_1366, 'V_1367': V_1367, 'V_1368': V_1368, 'V_1369': V_1369, 'V_1370': V_1370, 'V_1371': V_1371, 'V_1372': V_1372, 'V_1373': V_1373, 'V_1374': V_1374, 'V_1375': V_1375, 'V_1376': V_1376, 'V_1377': V_1377, 'V_1378': V_1378, 'V_1379': V_1379, 'V_1380': V_1380, 'V_1381': V_1381, 'V_1382': V_1382, 'V_1383': V_1383, 'V_1384': V_1384, 'V_1385': V_1385, 'V_1386': V_1386, 'V_1387': V_1387, 'V_1388': V_1388, 'V_1389': V_1389, 'V_1390': V_1390, 'V_1391': V_1391, 'V_1392': V_1392, 'V_1393': V_1393, 'V_1394': V_1394, 'V_1395': V_1395, 'V_1396': V_1396, 'V_1397': V_1397, 'V_1398': V_1398, 'V_1399': V_1399, 'V_1400': V_1400, 'V_1401': V_1401, 'V_1402': V_1402, 'V_1403': V_1403, 'V_1404': V_1404, 'V_1405': V_1405, 'V_1406': V_1406, 'V_1407': V_1407, 'V_1408': V_1408, 'V_1409': V_1409, 'V_1410': V_1410, 'V_1411': V_1411, 'V_1412': V_1412, 'V_1413': V_1413, 'V_1414': V_1414, 'V_1415': V_1415, 'V_1416': V_1416, 'V_1417': V_1417, 'V_1418': V_1418, 'V_1419': V_1419, 'V_1420': V_1420, 'V_1421': V_1421, 'V_1422': V_1422, 'V_1423': V_1423, 'V_1424': V_1424, 'V_1425': V_1425, 'V_1426': V_1426, 'V_1427': V_1427, 'V_1428': V_1428, 'V_1429': V_1429, 'V_1430': V_1430, 'V_1431': V_1431, 'V_1432': V_1432, 'V_1433': V_1433, 'V_1434': V_1434, 'V_1435': V_1435, 'V_1436': V_1436, 'V_1437': V_1437, 'V_1438': V_1438, 'V_1439': V_1439, 'V_1440': V_1440, 'V_1441': V_1441, 'V_1442': V_1442, 'V_1443': V_1443, 'V_1444': V_1444, 'V_1445': V_1445, 'V_1446': V_1446, 'V_1447': V_1447, 'V_1448': V_1448, 'V_1449': V_1449, 'V_1450': V_1450, 'V_1451': V_1451, 'V_1452': V_1452, 'V_1453': V_1453, 'V_1454': V_1454, 'V_1455': V_1455, 'V_1456': V_1456, 'V_1457': V_1457, 'V_1458': V_1458, 'V_1459': V_1459, 'V_1460': V_1460, 'V_1461': V_1461, 'V_1462': V_1462, 'V_1463': V_1463, 'V_1464': V_1464, 'V_1465': V_1465, 'V_1466': V_1466, 'V_1467': V_1467, 'V_1468': V_1468, 'V_1469': V_1469, 'V_1470': V_1470, 'V_1471': V_1471, 'V_1472': V_1472, 'V_1473': V_1473, 'V_1474': V_1474, 'V_1475': V_1475, 'V_1476': V_1476, 'V_1477': V_1477, 'V_1478': V_1478, 'V_1479': V_1479, 'V_1480': V_1480, 'V_1481': V_1481, 'V_1482': V_1482, 'V_1483': V_1483, 'V_1484': V_1484, 'V_1485': V_1485, 'V_1486': V_1486, 'V_1487': V_1487, 'V_1488': V_1488, 'V_1489': V_1489, 'V_1490': V_1490, 'V_1491': V_1491, 'V_1492': V_1492, 'V_1493': V_1493, 'V_1494': V_1494, 'V_1495': V_1495, 'V_1496': V_1496, 'V_1497': V_1497, 'V_1498': V_1498, 'V_1499': V_1499, 'V_1500': V_1500, 'V_1501': V_1501, 'V_1502': V_1502, 'V_1503': V_1503, 'V_1504': V_1504, 'V_1505': V_1505, 'V_1506': V_1506, 'V_1507': V_1507, 'V_1508': V_1508, 'V_1509': V_1509, 'V_1510': V_1510, 'V_1511': V_1511, 'V_1512': V_1512, 'V_1513': V_1513, 'V_1514': V_1514, 'V_1515': V_1515, 'V_1516': V_1516, 'V_1517': V_1517, 'V_1518': V_1518, 'V_1519': V_1519, 'V_1520': V_1520, 'V_1521': V_1521, 'V_1522': V_1522, 'V_1523': V_1523, 'V_1524': V_1524, 'V_1525': V_1525, 'V_1526': V_1526, 'V_1527': V_1527, 'V_1528': V_1528, 'V_1529': V_1529, 'V_1530': V_1530, 'V_1531': V_1531, 'V_1532': V_1532, 'V_1533': V_1533, 'V_1534': V_1534, 'V_1535': V_1535, 'V_1536': V_1536, 'V_1537': V_1537, 'V_1538': V_1538, 'V_1539': V_1539, 'V_1540': V_1540, 'V_1541': V_1541, 'V_1542': V_1542, 'V_1543': V_1543, 'V_1544': V_1544, 'V_1545': V_1545, 'V_1546': V_1546, 'V_1547': V_1547, 'V_1548': V_1548, 'V_1549': V_1549, 'V_1550': V_1550, 'V_1551': V_1551, 'V_1552': V_1552, 'V_1553': V_1553, 'V_1554': V_1554, 'V_1555': V_1555, 'V_1556': V_1556, 'V_1557': V_1557, 'V_1558': V_1558, 'V_1559': V_1559, 'V_1560': V_1560, 'V_1561': V_1561, 'V_1562': V_1562, 'V_1563': V_1563, 'V_1564': V_1564, 'V_1565': V_1565, 'V_1566': V_1566, 'V_1567': V_1567, 'V_1568': V_1568, 'V_1569': V_1569, 'V_1570': V_1570, 'V_1571': V_1571, 'V_1572': V_1572, 'V_1573': V_1573, 'V_1574': V_1574, 'V_1575': V_1575, 'V_1576': V_1576, 'V_1577': V_1577, 'V_1578': V_1578, 'V_1579': V_1579, 'V_1580': V_1580, 'V_1581': V_1581, 'V_1582': V_1582, 'V_1583': V_1583, 'V_1584': V_1584, 'V_1585': V_1585, 'V_1586': V_1586, 'V_1587': V_1587, 'V_1588': V_1588, 'V_1589': V_1589, 'V_1590': V_1590, 'V_1591': V_1591, 'V_1592': V_1592, 'V_1593': V_1593, 'V_1594': V_1594, 'V_1595': V_1595, 'V_1596': V_1596, 'V_1597': V_1597, 'V_1598': V_1598, 'V_1599': V_1599, 'V_1600': V_1600, 'V_1601': V_1601, 'V_1602': V_1602, 'V_1603': V_1603, 'V_1604': V_1604, 'V_1605': V_1605, 'V_1606': V_1606, 'V_1607': V_1607, 'V_1608': V_1608, 'V_1609': V_1609, 'V_1610': V_1610, 'V_1611': V_1611, 'V_1612': V_1612, 'V_1613': V_1613, 'V_1614': V_1614, 'V_1615': V_1615, 'V_1616': V_1616, 'V_1617': V_1617, 'V_1618': V_1618, 'V_1619': V_1619, 'V_1620': V_1620, 'V_1621': V_1621, 'V_1622': V_1622, 'V_1623': V_1623, 'V_1624': V_1624, 'V_1625': V_1625, 'V_1626': V_1626, 'V_1627': V_1627, 'V_1628': V_1628, 'V_1629': V_1629, 'V_1630': V_1630, 'V_1631': V_1631, 'V_1632': V_1632, 'V_1633': V_1633, 'V_1634': V_1634, 'V_1635': V_1635, 'V_1636': V_1636, 'V_1637': V_1637, 'V_1638': V_1638}\n",
      "Loaded 1638 objects for vertices.\n",
      "Objects in all_vertices: [V_1, V_2, V_3, V_4, V_5, V_6, V_7, V_8, V_9, V_10, V_11, V_12, V_13, V_14, V_15, V_16, V_17, V_18, V_19, V_20, V_21, V_22, V_23, V_24, V_25, V_26, V_27, V_28, V_29, V_30, V_31, V_32, V_33, V_34, V_35, V_36, V_37, V_38, V_39, V_40, V_41, V_42, V_43, V_44, V_45, V_46, V_47, V_48, V_49, V_50, V_51, V_52, V_53, V_54, V_55, V_56, V_57, V_58, V_59, V_60, V_61, V_62, V_63, V_64, V_65, V_66, V_67, V_68, V_69, V_70, V_71, V_72, V_73, V_74, V_75, V_76, V_77, V_78, V_79, V_80, V_81, V_82, V_83, V_84, V_85, V_86, V_87, V_88, V_89, V_90, V_91, V_92, V_93, V_94, V_95, V_96, V_97, V_98, V_99, V_100, V_101, V_102, V_103, V_104, V_105, V_106, V_107, V_108, V_109, V_110, V_111, V_112, V_113, V_114, V_115, V_116, V_117, V_118, V_119, V_120, V_121, V_122, V_123, V_124, V_125, V_126, V_127, V_128, V_129, V_130, V_131, V_132, V_133, V_134, V_135, V_136, V_137, V_138, V_139, V_140, V_141, V_142, V_143, V_144, V_145, V_146, V_147, V_148, V_149, V_150, V_151, V_152, V_153, V_154, V_155, V_156, V_157, V_158, V_159, V_160, V_161, V_162, V_163, V_164, V_165, V_166, V_167, V_168, V_169, V_170, V_171, V_172, V_173, V_174, V_175, V_176, V_177, V_178, V_179, V_180, V_181, V_182, V_183, V_184, V_185, V_186, V_187, V_188, V_189, V_190, V_191, V_192, V_193, V_194, V_195, V_196, V_197, V_198, V_199, V_200, V_201, V_202, V_203, V_204, V_205, V_206, V_207, V_208, V_209, V_210, V_211, V_212, V_213, V_214, V_215, V_216, V_217, V_218, V_219, V_220, V_221, V_222, V_223, V_224, V_225, V_226, V_227, V_228, V_229, V_230, V_231, V_232, V_233, V_234, V_235, V_236, V_237, V_238, V_239, V_240, V_241, V_242, V_243, V_244, V_245, V_246, V_247, V_248, V_249, V_250, V_251, V_252, V_253, V_254, V_255, V_256, V_257, V_258, V_259, V_260, V_261, V_262, V_263, V_264, V_265, V_266, V_267, V_268, V_269, V_270, V_271, V_272, V_273, V_274, V_275, V_276, V_277, V_278, V_279, V_280, V_281, V_282, V_283, V_284, V_285, V_286, V_287, V_288, V_289, V_290, V_291, V_292, V_293, V_294, V_295, V_296, V_297, V_298, V_299, V_300, V_301, V_302, V_303, V_304, V_305, V_306, V_307, V_308, V_309, V_310, V_311, V_312, V_313, V_314, V_315, V_316, V_317, V_318, V_319, V_320, V_321, V_322, V_323, V_324, V_325, V_326, V_327, V_328, V_329, V_330, V_331, V_332, V_333, V_334, V_335, V_336, V_337, V_338, V_339, V_340, V_341, V_342, V_343, V_344, V_345, V_346, V_347, V_348, V_349, V_350, V_351, V_352, V_353, V_354, V_355, V_356, V_357, V_358, V_359, V_360, V_361, V_362, V_363, V_364, V_365, V_366, V_367, V_368, V_369, V_370, V_371, V_372, V_373, V_374, V_375, V_376, V_377, V_378, V_379, V_380, V_381, V_382, V_383, V_384, V_385, V_386, V_387, V_388, V_389, V_390, V_391, V_392, V_393, V_394, V_395, V_396, V_397, V_398, V_399, V_400, V_401, V_402, V_403, V_404, V_405, V_406, V_407, V_408, V_409, V_410, V_411, V_412, V_413, V_414, V_415, V_416, V_417, V_418, V_419, V_420, V_421, V_422, V_423, V_424, V_425, V_426, V_427, V_428, V_429, V_430, V_431, V_432, V_433, V_434, V_435, V_436, V_437, V_438, V_439, V_440, V_441, V_442, V_443, V_444, V_445, V_446, V_447, V_448, V_449, V_450, V_451, V_452, V_453, V_454, V_455, V_456, V_457, V_458, V_459, V_460, V_461, V_462, V_463, V_464, V_465, V_466, V_467, V_468, V_469, V_470, V_471, V_472, V_473, V_474, V_475, V_476, V_477, V_478, V_479, V_480, V_481, V_482, V_483, V_484, V_485, V_486, V_487, V_488, V_489, V_490, V_491, V_492, V_493, V_494, V_495, V_496, V_497, V_498, V_499, V_500, V_501, V_502, V_503, V_504, V_505, V_506, V_507, V_508, V_509, V_510, V_511, V_512, V_513, V_514, V_515, V_516, V_517, V_518, V_519, V_520, V_521, V_522, V_523, V_524, V_525, V_526, V_527, V_528, V_529, V_530, V_531, V_532, V_533, V_534, V_535, V_536, V_537, V_538, V_539, V_540, V_541, V_542, V_543, V_544, V_545, V_546, V_547, V_548, V_549, V_550, V_551, V_552, V_553, V_554, V_555, V_556, V_557, V_558, V_559, V_560, V_561, V_562, V_563, V_564, V_565, V_566, V_567, V_568, V_569, V_570, V_571, V_572, V_573, V_574, V_575, V_576, V_577, V_578, V_579, V_580, V_581, V_582, V_583, V_584, V_585, V_586, V_587, V_588, V_589, V_590, V_591, V_592, V_593, V_594, V_595, V_596, V_597, V_598, V_599, V_600, V_601, V_602, V_603, V_604, V_605, V_606, V_607, V_608, V_609, V_610, V_611, V_612, V_613, V_614, V_615, V_616, V_617, V_618, V_619, V_620, V_621, V_622, V_623, V_624, V_625, V_626, V_627, V_628, V_629, V_630, V_631, V_632, V_633, V_634, V_635, V_636, V_637, V_638, V_639, V_640, V_641, V_642, V_643, V_644, V_645, V_646, V_647, V_648, V_649, V_650, V_651, V_652, V_653, V_654, V_655, V_656, V_657, V_658, V_659, V_660, V_661, V_662, V_663, V_664, V_665, V_666, V_667, V_668, V_669, V_670, V_671, V_672, V_673, V_674, V_675, V_676, V_677, V_678, V_679, V_680, V_681, V_682, V_683, V_684, V_685, V_686, V_687, V_688, V_689, V_690, V_691, V_692, V_693, V_694, V_695, V_696, V_697, V_698, V_699, V_700, V_701, V_702, V_703, V_704, V_705, V_706, V_707, V_708, V_709, V_710, V_711, V_712, V_713, V_714, V_715, V_716, V_717, V_718, V_719, V_720, V_721, V_722, V_723, V_724, V_725, V_726, V_727, V_728, V_729, V_730, V_731, V_732, V_733, V_734, V_735, V_736, V_737, V_738, V_739, V_740, V_741, V_742, V_743, V_744, V_745, V_746, V_747, V_748, V_749, V_750, V_751, V_752, V_753, V_754, V_755, V_756, V_757, V_758, V_759, V_760, V_761, V_762, V_763, V_764, V_765, V_766, V_767, V_768, V_769, V_770, V_771, V_772, V_773, V_774, V_775, V_776, V_777, V_778, V_779, V_780, V_781, V_782, V_783, V_784, V_785, V_786, V_787, V_788, V_789, V_790, V_791, V_792, V_793, V_794, V_795, V_796, V_797, V_798, V_799, V_800, V_801, V_802, V_803, V_804, V_805, V_806, V_807, V_808, V_809, V_810, V_811, V_812, V_813, V_814, V_815, V_816, V_817, V_818, V_819, V_820, V_821, V_822, V_823, V_824, V_825, V_826, V_827, V_828, V_829, V_830, V_831, V_832, V_833, V_834, V_835, V_836, V_837, V_838, V_839, V_840, V_841, V_842, V_843, V_844, V_845, V_846, V_847, V_848, V_849, V_850, V_851, V_852, V_853, V_854, V_855, V_856, V_857, V_858, V_859, V_860, V_861, V_862, V_863, V_864, V_865, V_866, V_867, V_868, V_869, V_870, V_871, V_872, V_873, V_874, V_875, V_876, V_877, V_878, V_879, V_880, V_881, V_882, V_883, V_884, V_885, V_886, V_887, V_888, V_889, V_890, V_891, V_892, V_893, V_894, V_895, V_896, V_897, V_898, V_899, V_900, V_901, V_902, V_903, V_904, V_905, V_906, V_907, V_908, V_909, V_910, V_911, V_912, V_913, V_914, V_915, V_916, V_917, V_918, V_919, V_920, V_921, V_922, V_923, V_924, V_925, V_926, V_927, V_928, V_929, V_930, V_931, V_932, V_933, V_934, V_935, V_936, V_937, V_938, V_939, V_940, V_941, V_942, V_943, V_944, V_945, V_946, V_947, V_948, V_949, V_950, V_951, V_952, V_953, V_954, V_955, V_956, V_957, V_958, V_959, V_960, V_961, V_962, V_963, V_964, V_965, V_966, V_967, V_968, V_969, V_970, V_971, V_972, V_973, V_974, V_975, V_976, V_977, V_978, V_979, V_980, V_981, V_982, V_983, V_984, V_985, V_986, V_987, V_988, V_989, V_990, V_991, V_992, V_993, V_994, V_995, V_996, V_997, V_998, V_999, V_1000, V_1001, V_1002, V_1003, V_1004, V_1005, V_1006, V_1007, V_1008, V_1009, V_1010, V_1011, V_1012, V_1013, V_1014, V_1015, V_1016, V_1017, V_1018, V_1019, V_1020, V_1021, V_1022, V_1023, V_1024, V_1025, V_1026, V_1027, V_1028, V_1029, V_1030, V_1031, V_1032, V_1033, V_1034, V_1035, V_1036, V_1037, V_1038, V_1039, V_1040, V_1041, V_1042, V_1043, V_1044, V_1045, V_1046, V_1047, V_1048, V_1049, V_1050, V_1051, V_1052, V_1053, V_1054, V_1055, V_1056, V_1057, V_1058, V_1059, V_1060, V_1061, V_1062, V_1063, V_1064, V_1065, V_1066, V_1067, V_1068, V_1069, V_1070, V_1071, V_1072, V_1073, V_1074, V_1075, V_1076, V_1077, V_1078, V_1079, V_1080, V_1081, V_1082, V_1083, V_1084, V_1085, V_1086, V_1087, V_1088, V_1089, V_1090, V_1091, V_1092, V_1093, V_1094, V_1095, V_1096, V_1097, V_1098, V_1099, V_1100, V_1101, V_1102, V_1103, V_1104, V_1105, V_1106, V_1107, V_1108, V_1109, V_1110, V_1111, V_1112, V_1113, V_1114, V_1115, V_1116, V_1117, V_1118, V_1119, V_1120, V_1121, V_1122, V_1123, V_1124, V_1125, V_1126, V_1127, V_1128, V_1129, V_1130, V_1131, V_1132, V_1133, V_1134, V_1135, V_1136, V_1137, V_1138, V_1139, V_1140, V_1141, V_1142, V_1143, V_1144, V_1145, V_1146, V_1147, V_1148, V_1149, V_1150, V_1151, V_1152, V_1153, V_1154, V_1155, V_1156, V_1157, V_1158, V_1159, V_1160, V_1161, V_1162, V_1163, V_1164, V_1165, V_1166, V_1167, V_1168, V_1169, V_1170, V_1171, V_1172, V_1173, V_1174, V_1175, V_1176, V_1177, V_1178, V_1179, V_1180, V_1181, V_1182, V_1183, V_1184, V_1185, V_1186, V_1187, V_1188, V_1189, V_1190, V_1191, V_1192, V_1193, V_1194, V_1195, V_1196, V_1197, V_1198, V_1199, V_1200, V_1201, V_1202, V_1203, V_1204, V_1205, V_1206, V_1207, V_1208, V_1209, V_1210, V_1211, V_1212, V_1213, V_1214, V_1215, V_1216, V_1217, V_1218, V_1219, V_1220, V_1221, V_1222, V_1223, V_1224, V_1225, V_1226, V_1227, V_1228, V_1229, V_1230, V_1231, V_1232, V_1233, V_1234, V_1235, V_1236, V_1237, V_1238, V_1239, V_1240, V_1241, V_1242, V_1243, V_1244, V_1245, V_1246, V_1247, V_1248, V_1249, V_1250, V_1251, V_1252, V_1253, V_1254, V_1255, V_1256, V_1257, V_1258, V_1259, V_1260, V_1261, V_1262, V_1263, V_1264, V_1265, V_1266, V_1267, V_1268, V_1269, V_1270, V_1271, V_1272, V_1273, V_1274, V_1275, V_1276, V_1277, V_1278, V_1279, V_1280, V_1281, V_1282, V_1283, V_1284, V_1285, V_1286, V_1287, V_1288, V_1289, V_1290, V_1291, V_1292, V_1293, V_1294, V_1295, V_1296, V_1297, V_1298, V_1299, V_1300, V_1301, V_1302, V_1303, V_1304, V_1305, V_1306, V_1307, V_1308, V_1309, V_1310, V_1311, V_1312, V_1313, V_1314, V_1315, V_1316, V_1317, V_1318, V_1319, V_1320, V_1321, V_1322, V_1323, V_1324, V_1325, V_1326, V_1327, V_1328, V_1329, V_1330, V_1331, V_1332, V_1333, V_1334, V_1335, V_1336, V_1337, V_1338, V_1339, V_1340, V_1341, V_1342, V_1343, V_1344, V_1345, V_1346, V_1347, V_1348, V_1349, V_1350, V_1351, V_1352, V_1353, V_1354, V_1355, V_1356, V_1357, V_1358, V_1359, V_1360, V_1361, V_1362, V_1363, V_1364, V_1365, V_1366, V_1367, V_1368, V_1369, V_1370, V_1371, V_1372, V_1373, V_1374, V_1375, V_1376, V_1377, V_1378, V_1379, V_1380, V_1381, V_1382, V_1383, V_1384, V_1385, V_1386, V_1387, V_1388, V_1389, V_1390, V_1391, V_1392, V_1393, V_1394, V_1395, V_1396, V_1397, V_1398, V_1399, V_1400, V_1401, V_1402, V_1403, V_1404, V_1405, V_1406, V_1407, V_1408, V_1409, V_1410, V_1411, V_1412, V_1413, V_1414, V_1415, V_1416, V_1417, V_1418, V_1419, V_1420, V_1421, V_1422, V_1423, V_1424, V_1425, V_1426, V_1427, V_1428, V_1429, V_1430, V_1431, V_1432, V_1433, V_1434, V_1435, V_1436, V_1437, V_1438, V_1439, V_1440, V_1441, V_1442, V_1443, V_1444, V_1445, V_1446, V_1447, V_1448, V_1449, V_1450, V_1451, V_1452, V_1453, V_1454, V_1455, V_1456, V_1457, V_1458, V_1459, V_1460, V_1461, V_1462, V_1463, V_1464, V_1465, V_1466, V_1467, V_1468, V_1469, V_1470, V_1471, V_1472, V_1473, V_1474, V_1475, V_1476, V_1477, V_1478, V_1479, V_1480, V_1481, V_1482, V_1483, V_1484, V_1485, V_1486, V_1487, V_1488, V_1489, V_1490, V_1491, V_1492, V_1493, V_1494, V_1495, V_1496, V_1497, V_1498, V_1499, V_1500, V_1501, V_1502, V_1503, V_1504, V_1505, V_1506, V_1507, V_1508, V_1509, V_1510, V_1511, V_1512, V_1513, V_1514, V_1515, V_1516, V_1517, V_1518, V_1519, V_1520, V_1521, V_1522, V_1523, V_1524, V_1525, V_1526, V_1527, V_1528, V_1529, V_1530, V_1531, V_1532, V_1533, V_1534, V_1535, V_1536, V_1537, V_1538, V_1539, V_1540, V_1541, V_1542, V_1543, V_1544, V_1545, V_1546, V_1547, V_1548, V_1549, V_1550, V_1551, V_1552, V_1553, V_1554, V_1555, V_1556, V_1557, V_1558, V_1559, V_1560, V_1561, V_1562, V_1563, V_1564, V_1565, V_1566, V_1567, V_1568, V_1569, V_1570, V_1571, V_1572, V_1573, V_1574, V_1575, V_1576, V_1577, V_1578, V_1579, V_1580, V_1581, V_1582, V_1583, V_1584, V_1585, V_1586, V_1587, V_1588, V_1589, V_1590, V_1591, V_1592, V_1593, V_1594, V_1595, V_1596, V_1597, V_1598, V_1599, V_1600, V_1601, V_1602, V_1603, V_1604, V_1605, V_1606, V_1607, V_1608, V_1609, V_1610, V_1611, V_1612, V_1613, V_1614, V_1615, V_1616, V_1617, V_1618, V_1619, V_1620, V_1621, V_1622, V_1623, V_1624, V_1625, V_1626, V_1627, V_1628, V_1629, V_1630, V_1631, V_1632, V_1633, V_1634, V_1635, V_1636, V_1637, V_1638]\n",
      "\n",
      "Loading decays from C:/Users/moise/OneDrive/Escritorio/LRSM-with-Spheno/UFOmodel/MLRSM_UFO_neutrino_mix\\decays.py...\n",
      "Namespace keys after executing C:/Users/moise/OneDrive/Escritorio/LRSM-with-Spheno/UFOmodel/MLRSM_UFO_neutrino_mix\\decays.py: ['__builtins__', 'all_decays', 'Decay', 'P', 'Decay_A01', 'Decay_A02', 'Decay_b', 'Decay_c', 'Decay_d', 'Decay_e__minus__', 'Decay_H', 'Decay_H01', 'Decay_H02', 'Decay_H03', 'Decay_HP1', 'Decay_HP2', 'Decay_HL__plus____plus__', 'Decay_HR__plus____plus__', 'Decay_mu__minus__', 'Decay_N1', 'Decay_N2', 'Decay_N3', 'Decay_N4', 'Decay_N5', 'Decay_N6', 'Decay_s', 'Decay_t', 'Decay_ta__minus__', 'Decay_u', 'Decay_W__plus__', 'Decay_W2__plus__', 'Decay_Z', 'Decay_Z2']\n",
      "Namespace contents after executing C:/Users/moise/OneDrive/Escritorio/LRSM-with-Spheno/UFOmodel/MLRSM_UFO_neutrino_mix\\decays.py: {'__builtins__': {'__name__': 'builtins', '__doc__': \"Built-in functions, exceptions, and other objects.\\n\\nNoteworthy: None is the `nil' object; Ellipsis represents `...' in slices.\", '__package__': '', '__loader__': <class '_frozen_importlib.BuiltinImporter'>, '__spec__': ModuleSpec(name='builtins', loader=<class '_frozen_importlib.BuiltinImporter'>, origin='built-in'), '__build_class__': <built-in function __build_class__>, '__import__': <built-in function __import__>, 'abs': <built-in function abs>, 'all': <built-in function all>, 'any': <built-in function any>, 'ascii': <built-in function ascii>, 'bin': <built-in function bin>, 'breakpoint': <built-in function breakpoint>, 'callable': <built-in function callable>, 'chr': <built-in function chr>, 'compile': <built-in function compile>, 'delattr': <built-in function delattr>, 'dir': <built-in function dir>, 'divmod': <built-in function divmod>, 'eval': <built-in function eval>, 'exec': <built-in function exec>, 'format': <built-in function format>, 'getattr': <built-in function getattr>, 'globals': <built-in function globals>, 'hasattr': <built-in function hasattr>, 'hash': <built-in function hash>, 'hex': <built-in function hex>, 'id': <built-in function id>, 'input': <bound method Kernel.raw_input of <ipykernel.ipkernel.IPythonKernel object at 0x000001D03ED69090>>, 'isinstance': <built-in function isinstance>, 'issubclass': <built-in function issubclass>, 'iter': <built-in function iter>, 'aiter': <built-in function aiter>, 'len': <built-in function len>, 'locals': <built-in function locals>, 'max': <built-in function max>, 'min': <built-in function min>, 'next': <built-in function next>, 'anext': <built-in function anext>, 'oct': <built-in function oct>, 'ord': <built-in function ord>, 'pow': <built-in function pow>, 'print': <built-in function print>, 'repr': <built-in function repr>, 'round': <built-in function round>, 'setattr': <built-in function setattr>, 'sorted': <built-in function sorted>, 'sum': <built-in function sum>, 'vars': <built-in function vars>, 'None': None, 'Ellipsis': Ellipsis, 'NotImplemented': NotImplemented, 'False': False, 'True': True, 'bool': <class 'bool'>, 'memoryview': <class 'memoryview'>, 'bytearray': <class 'bytearray'>, 'bytes': <class 'bytes'>, 'classmethod': <class 'classmethod'>, 'complex': <class 'complex'>, 'dict': <class 'dict'>, 'enumerate': <class 'enumerate'>, 'filter': <class 'filter'>, 'float': <class 'float'>, 'frozenset': <class 'frozenset'>, 'property': <class 'property'>, 'int': <class 'int'>, 'list': <class 'list'>, 'map': <class 'map'>, 'object': <class 'object'>, 'range': <class 'range'>, 'reversed': <class 'reversed'>, 'set': <class 'set'>, 'slice': <class 'slice'>, 'staticmethod': <class 'staticmethod'>, 'str': <class 'str'>, 'super': <class 'super'>, 'tuple': <class 'tuple'>, 'type': <class 'type'>, 'zip': <class 'zip'>, '__debug__': True, 'BaseException': <class 'BaseException'>, 'BaseExceptionGroup': <class 'BaseExceptionGroup'>, 'Exception': <class 'Exception'>, 'GeneratorExit': <class 'GeneratorExit'>, 'KeyboardInterrupt': <class 'KeyboardInterrupt'>, 'SystemExit': <class 'SystemExit'>, 'ArithmeticError': <class 'ArithmeticError'>, 'AssertionError': <class 'AssertionError'>, 'AttributeError': <class 'AttributeError'>, 'BufferError': <class 'BufferError'>, 'EOFError': <class 'EOFError'>, 'ImportError': <class 'ImportError'>, 'LookupError': <class 'LookupError'>, 'MemoryError': <class 'MemoryError'>, 'NameError': <class 'NameError'>, 'OSError': <class 'OSError'>, 'ReferenceError': <class 'ReferenceError'>, 'RuntimeError': <class 'RuntimeError'>, 'StopAsyncIteration': <class 'StopAsyncIteration'>, 'StopIteration': <class 'StopIteration'>, 'SyntaxError': <class 'SyntaxError'>, 'SystemError': <class 'SystemError'>, 'TypeError': <class 'TypeError'>, 'ValueError': <class 'ValueError'>, 'Warning': <class 'Warning'>, 'FloatingPointError': <class 'FloatingPointError'>, 'OverflowError': <class 'OverflowError'>, 'ZeroDivisionError': <class 'ZeroDivisionError'>, 'BytesWarning': <class 'BytesWarning'>, 'DeprecationWarning': <class 'DeprecationWarning'>, 'EncodingWarning': <class 'EncodingWarning'>, 'FutureWarning': <class 'FutureWarning'>, 'ImportWarning': <class 'ImportWarning'>, 'PendingDeprecationWarning': <class 'PendingDeprecationWarning'>, 'ResourceWarning': <class 'ResourceWarning'>, 'RuntimeWarning': <class 'RuntimeWarning'>, 'SyntaxWarning': <class 'SyntaxWarning'>, 'UnicodeWarning': <class 'UnicodeWarning'>, 'UserWarning': <class 'UserWarning'>, 'BlockingIOError': <class 'BlockingIOError'>, 'ChildProcessError': <class 'ChildProcessError'>, 'ConnectionError': <class 'ConnectionError'>, 'FileExistsError': <class 'FileExistsError'>, 'FileNotFoundError': <class 'FileNotFoundError'>, 'InterruptedError': <class 'InterruptedError'>, 'IsADirectoryError': <class 'IsADirectoryError'>, 'NotADirectoryError': <class 'NotADirectoryError'>, 'PermissionError': <class 'PermissionError'>, 'ProcessLookupError': <class 'ProcessLookupError'>, 'TimeoutError': <class 'TimeoutError'>, 'IndentationError': <class 'IndentationError'>, 'IndexError': <class 'IndexError'>, 'KeyError': <class 'KeyError'>, 'ModuleNotFoundError': <class 'ModuleNotFoundError'>, 'NotImplementedError': <class 'NotImplementedError'>, 'RecursionError': <class 'RecursionError'>, 'UnboundLocalError': <class 'UnboundLocalError'>, 'UnicodeError': <class 'UnicodeError'>, 'BrokenPipeError': <class 'BrokenPipeError'>, 'ConnectionAbortedError': <class 'ConnectionAbortedError'>, 'ConnectionRefusedError': <class 'ConnectionRefusedError'>, 'ConnectionResetError': <class 'ConnectionResetError'>, 'TabError': <class 'TabError'>, 'UnicodeDecodeError': <class 'UnicodeDecodeError'>, 'UnicodeEncodeError': <class 'UnicodeEncodeError'>, 'UnicodeTranslateError': <class 'UnicodeTranslateError'>, 'ExceptionGroup': <class 'ExceptionGroup'>, 'EnvironmentError': <class 'OSError'>, 'IOError': <class 'OSError'>, 'WindowsError': <class 'OSError'>, 'open': <built-in function open>, 'copyright': Copyright (c) 2001-2022 Python Software Foundation.\n",
      "All Rights Reserved.\n",
      "\n",
      "Copyright (c) 2000 BeOpen.com.\n",
      "All Rights Reserved.\n",
      "\n",
      "Copyright (c) 1995-2001 Corporation for National Research Initiatives.\n",
      "All Rights Reserved.\n",
      "\n",
      "Copyright (c) 1991-1995 Stichting Mathematisch Centrum, Amsterdam.\n",
      "All Rights Reserved., 'credits':     Thanks to CWI, CNRI, BeOpen.com, Zope Corporation and a cast of thousands\n",
      "    for supporting Python development.  See www.python.org for more information., 'license': See https://www.python.org/psf/license/, 'help': Type help() for interactive help, or help(object) for help about object., 'execfile': <function execfile at 0x000001D03EE86C00>, 'runfile': <function runfile at 0x000001D03FF5E340>, '__IPYTHON__': True, 'display': <function display at 0x000001D03D5A2E80>, 'get_ipython': <bound method InteractiveShell.get_ipython of <ipykernel.zmqshell.ZMQInteractiveShell object at 0x000001D040228FD0>>}, 'all_decays': [Decay_A01, Decay_A02, Decay_b, Decay_c, Decay_d, Decay_e__minus__, Decay_H, Decay_H01, Decay_H02, Decay_H03, Decay_HP1, Decay_HP2, Decay_HL__plus____plus__, Decay_HR__plus____plus__, Decay_mu__minus__, Decay_N1, Decay_N2, Decay_N3, Decay_N4, Decay_N5, Decay_N6, Decay_s, Decay_t, Decay_ta__minus__, Decay_u, Decay_W__plus__, Decay_W2__plus__, Decay_Z, Decay_Z2], 'Decay': <class 'object_library.Decay'>, 'P': <module 'particles' from 'C:\\\\Users/moise/OneDrive/Escritorio/LRSM-with-Spheno/UFOmodel/MLRSM_UFO_neutrino_mix\\\\particles.py'>, 'Decay_A01': Decay_A01, 'Decay_A02': Decay_A02, 'Decay_b': Decay_b, 'Decay_c': Decay_c, 'Decay_d': Decay_d, 'Decay_e__minus__': Decay_e__minus__, 'Decay_H': Decay_H, 'Decay_H01': Decay_H01, 'Decay_H02': Decay_H02, 'Decay_H03': Decay_H03, 'Decay_HP1': Decay_HP1, 'Decay_HP2': Decay_HP2, 'Decay_HL__plus____plus__': Decay_HL__plus____plus__, 'Decay_HR__plus____plus__': Decay_HR__plus____plus__, 'Decay_mu__minus__': Decay_mu__minus__, 'Decay_N1': Decay_N1, 'Decay_N2': Decay_N2, 'Decay_N3': Decay_N3, 'Decay_N4': Decay_N4, 'Decay_N5': Decay_N5, 'Decay_N6': Decay_N6, 'Decay_s': Decay_s, 'Decay_t': Decay_t, 'Decay_ta__minus__': Decay_ta__minus__, 'Decay_u': Decay_u, 'Decay_W__plus__': Decay_W__plus__, 'Decay_W2__plus__': Decay_W2__plus__, 'Decay_Z': Decay_Z, 'Decay_Z2': Decay_Z2}\n",
      "Loaded 29 objects for decays.\n",
      "Objects in all_decays: [Decay_A01, Decay_A02, Decay_b, Decay_c, Decay_d, Decay_e__minus__, Decay_H, Decay_H01, Decay_H02, Decay_H03, Decay_HP1, Decay_HP2, Decay_HL__plus____plus__, Decay_HR__plus____plus__, Decay_mu__minus__, Decay_N1, Decay_N2, Decay_N3, Decay_N4, Decay_N5, Decay_N6, Decay_s, Decay_t, Decay_ta__minus__, Decay_u, Decay_W__plus__, Decay_W2__plus__, Decay_Z, Decay_Z2]\n"
     ]
    }
   ],
   "source": [
    "ufo_directory ='C:/Users/moise/OneDrive/Escritorio/LRSM-with-Spheno/UFOmodel/MLRSM_UFO_neutrino_mix'\n",
    "UFOModel = UFOModelExplorer(ufo_directory=ufo_directory)\n",
    "UFOModel.load_model()"
   ]
  },
  {
   "cell_type": "code",
   "execution_count": 4,
   "metadata": {},
   "outputs": [
    {
     "name": "stdout",
     "output_type": "stream",
     "text": [
      "\n",
      "Model Summary:\n",
      "Particles: 54\n",
      "Parameters: 1377\n",
      "Couplings: 1512\n",
      "Lorentz Structures: 23\n",
      "Vertices: 1638\n",
      "Decays: 29\n"
     ]
    }
   ],
   "source": [
    "UFOModel.summarize_model()"
   ]
  },
  {
   "cell_type": "code",
   "execution_count": 5,
   "metadata": {},
   "outputs": [],
   "source": [
    "feynman_rules = UFOModel.list_feynman_rules(number_particles=3)"
   ]
  },
  {
   "cell_type": "markdown",
   "metadata": {},
   "source": [
    "# H interactions"
   ]
  },
  {
   "cell_type": "code",
   "execution_count": 6,
   "metadata": {},
   "outputs": [
    {
     "name": "stdout",
     "output_type": "stream",
     "text": [
      "{(0, 0): GC_414}\n",
      "1\n",
      "name \t: V_119\n",
      "particles \t: [A01, A01, H]\n",
      "color \t: ['1']\n",
      "lorentz \t: [SSS1]\n",
      "couplings \t: {(0, 0): GC_414}\n"
     ]
    }
   ],
   "source": [
    "Vertices3withH = UFOModel.find_vertices_involving('H', number_particles=3)\n",
    "print(Vertices3withH[0].couplings)\n",
    "print(Vertices3withH[0].lorentz[0].structure)\n",
    "print(Vertices3withH[0].nice_string())"
   ]
  },
  {
   "cell_type": "code",
   "execution_count": 7,
   "metadata": {},
   "outputs": [
    {
     "data": {
      "text/plain": [
       "[A01, A01, H]"
      ]
     },
     "metadata": {},
     "output_type": "display_data"
    },
    {
     "data": {
      "text/latex": [
       "$\\displaystyle \\frac{2 i \\left(- k_{1}^{4} \\lambda_{1} + 4 k_{1}^{4} \\lambda_{2} - 2 k_{1}^{4} \\lambda_{3} - 2 k_{1}^{2} k_{2}^{2} \\lambda_{1} + 16 k_{1}^{2} k_{2}^{2} \\lambda_{2} - k_{2}^{4} \\lambda_{1} + 4 k_{2}^{4} \\lambda_{2} - 2 k_{2}^{4} \\lambda_{3}\\right)}{vev^{3}}$"
      ],
      "text/plain": [
       "2*I*(-k1**4*lambda1 + 4*k1**4*lambda2 - 2*k1**4*lambda3 - 2*k1**2*k2**2*lambda1 + 16*k1**2*k2**2*lambda2 - k2**4*lambda1 + 4*k2**4*lambda2 - 2*k2**4*lambda3)/vev**3"
      ]
     },
     "metadata": {},
     "output_type": "display_data"
    }
   ],
   "source": [
    "display(Vertices3withH[0].particles,feynman_rules[Vertices3withH[0]])"
   ]
  },
  {
   "cell_type": "code",
   "execution_count": 8,
   "metadata": {},
   "outputs": [
    {
     "name": "stdout",
     "output_type": "stream",
     "text": [
      "1.0\n"
     ]
    }
   ],
   "source": [
    "print(UFOModel.particles[2].charge)"
   ]
  },
  {
   "cell_type": "code",
   "execution_count": 9,
   "metadata": {},
   "outputs": [
    {
     "name": "stdout",
     "output_type": "stream",
     "text": [
      "[GL__plus__, GR__plus__, HP1, HP2, HL__plus____plus__, HR__plus____plus__]\n",
      "[GL__minus__, GR__minus__, HM1, HM2, HL__minus____minus__, HR__minus____minus__]\n"
     ]
    }
   ],
   "source": [
    "charged_Splus = [ptc for ptc in UFOModel.particles if (ptc.charge >0 and ptc.spin==1)]\n",
    "print(charged_Splus)\n",
    "\n",
    "charged_Sminus = [ptc for ptc in UFOModel.particles if (ptc.charge <0 and ptc.spin==1)]\n",
    "print(charged_Sminus)"
   ]
  },
  {
   "cell_type": "code",
   "execution_count": 10,
   "metadata": {},
   "outputs": [
    {
     "name": "stdout",
     "output_type": "stream",
     "text": [
      "[W__plus__, W2__plus__]\n",
      "[W__minus__, W2__minus__]\n"
     ]
    }
   ],
   "source": [
    "charged_Vplus = [ptc for ptc in UFOModel.particles if (ptc.charge >0 and ptc.spin==3)]\n",
    "print(charged_Vplus)\n",
    "\n",
    "charged_Vminus = [ptc for ptc in UFOModel.particles if (ptc.charge <0 and ptc.spin==3)]\n",
    "print(charged_Vminus)"
   ]
  },
  {
   "cell_type": "code",
   "execution_count": 11,
   "metadata": {},
   "outputs": [],
   "source": [
    "charged_SVplus = charged_Splus + charged_Vminus\n",
    "charged_SVminus = charged_Sminus + charged_Vplus"
   ]
  },
  {
   "cell_type": "code",
   "execution_count": 12,
   "metadata": {},
   "outputs": [],
   "source": [
    "from itertools import chain\n",
    "def flatten_list(lista):\n",
    "    return list(chain.from_iterable(lista))"
   ]
  },
  {
   "cell_type": "code",
   "execution_count": 13,
   "metadata": {},
   "outputs": [
    {
     "name": "stdout",
     "output_type": "stream",
     "text": [
      "[V_121, V_415, V_379, V_136, V_416, V_319, V_436, V_381, V_333, V_394, V_137, V_438, V_396, V_124, V_337, V_341, V_1092, V_1004, V_1120, V_1025]\n"
     ]
    }
   ],
   "source": [
    "VerticesHXplusXminus = flatten_list(\n",
    "    [\n",
    "    UFOModel.find_vertices_involving(['H', X1.name, X2.name], number_particles=3)\n",
    "    for X1 in charged_SVplus for X2 in charged_SVminus if UFOModel.find_vertices_involving(['H', X1.name, X2.name], number_particles=3)\n",
    "]\n",
    ")\n",
    "print(VerticesHXplusXminus)"
   ]
  },
  {
   "cell_type": "code",
   "execution_count": 14,
   "metadata": {},
   "outputs": [
    {
     "name": "stdout",
     "output_type": "stream",
     "text": [
      "V_121  ->  [GL__minus__, GL__plus__, H]\n",
      "V_415  ->  [GL__plus__, GR__minus__, H]\n",
      "V_379  ->  [GL__plus__, H, HM1]\n",
      "V_136  ->  [GL__plus__, H, HM2]\n",
      "V_416  ->  [GL__minus__, GR__plus__, H]\n",
      "V_319  ->  [GR__minus__, GR__plus__, H]\n",
      "V_436  ->  [GR__plus__, H, HM2]\n",
      "V_381  ->  [GL__minus__, H, HP1]\n",
      "V_333  ->  [H, HM1, HP1]\n",
      "V_394  ->  [H, HP1, HM2]\n",
      "V_137  ->  [GL__minus__, H, HP2]\n",
      "V_438  ->  [GR__minus__, H, HP2]\n",
      "V_396  ->  [H, HM1, HP2]\n",
      "V_124  ->  [H, HM2, HP2]\n",
      "V_337  ->  [H, HL__minus____minus__, HL__plus____plus__]\n",
      "V_341  ->  [H, HR__minus____minus__, HR__plus____plus__]\n",
      "V_1092  ->  [W__minus__, W__plus__, H]\n",
      "V_1004  ->  [W__minus__, W2__plus__, H]\n",
      "V_1120  ->  [W2__minus__, W__plus__, H]\n",
      "V_1025  ->  [W2__minus__, W2__plus__, H]\n"
     ]
    }
   ],
   "source": [
    "for v in VerticesHXplusXminus:\n",
    "    print(v, ' -> ', v.particles)"
   ]
  },
  {
   "cell_type": "code",
   "execution_count": 15,
   "metadata": {},
   "outputs": [
    {
     "data": {
      "text/plain": [
       "[N1, N2, N3, N4, N5, N6]"
      ]
     },
     "execution_count": 15,
     "metadata": {},
     "output_type": "execute_result"
    }
   ],
   "source": [
    "neutrinos = [ptc for ptc in UFOModel.particles if ptc.charge==0 and ptc.spin==2]\n",
    "neutrinos"
   ]
  },
  {
   "cell_type": "code",
   "execution_count": 16,
   "metadata": {},
   "outputs": [
    {
     "name": "stdout",
     "output_type": "stream",
     "text": [
      "66 [V_567, V_568, V_569, V_570, V_571, V_572, V_568, V_569, V_570, V_571, V_572, V_568, V_568, V_573, V_574, V_575, V_576, V_577, V_574, V_575, V_576, V_577, V_569, V_574, V_569, V_574, V_578, V_579, V_580, V_581, V_579, V_580, V_581, V_570, V_575, V_579, V_570, V_575, V_579, V_582, V_583, V_584, V_583, V_584, V_571, V_576, V_580, V_583, V_571, V_576, V_580, V_583, V_585, V_586, V_586, V_572, V_577, V_581, V_584, V_586, V_572, V_577, V_581, V_584, V_586, V_587]\n"
     ]
    }
   ],
   "source": [
    "\n",
    "VerticesHNiNj = flatten_list(\n",
    "    [\n",
    "    UFOModel.find_vertices_involving(['H', X1.name, X2.name], number_particles=3)\n",
    "    for X1 in neutrinos for X2 in neutrinos if UFOModel.find_vertices_involving(['H', X1.name, X2.name], number_particles=3)\n",
    "]\n",
    ")\n",
    "print(len(VerticesHNiNj),VerticesHNiNj)"
   ]
  },
  {
   "cell_type": "code",
   "execution_count": 17,
   "metadata": {},
   "outputs": [
    {
     "name": "stdout",
     "output_type": "stream",
     "text": [
      "[ZERO, aEW, sw2, cw, gs, vev, MH02, MH03, MA02, yML1x1, yML2x2, yML3x3, yNL1x1, yNL2x2, yNL3x3, yNL4x4, yNL5x5, yNL6x6, yMU1x1, yMU2x2, yMU3x3, yDO1x1, yDO2x2, yDO3x3, CKML1x1, CKML1x2, CKML1x3, CKML2x1, CKML2x2, CKML2x3, CKML3x1, CKML3x2, CKML3x3, Wl1x1, Wl2x2, Wl3x3, WU1x1, WU2x2, WU3x3, WD1x1, WD2x2, WD3x3, KL1x1, KL1x2, KL1x3, KL2x1, KL2x2, KL2x3, KL3x1, KL3x2, KL3x3, KL4x1, KL4x2, KL4x3, KL5x1, KL5x2, KL5x3, KL6x1, KL6x2, KL6x3, KR1x1, KR1x2, KR1x3, KR2x1, KR2x2, KR2x3, KR3x1, KR3x2, KR3x3, KR4x1, KR4x2, KR4x3, KR5x1, KR5x2, KR5x3, KR6x1, KR6x2, KR6x3, CKMR1x1, CKMR1x2, CKMR1x3, CKMR2x1, CKMR2x2, CKMR2x3, CKMR3x1, CKMR3x2, CKMR3x3, sw, ee, k2, eps, sphi, sxi, g1, gw, cphi, cxi, MA01, MH, MH01, MHP1, MHP2, MHPPL, MHPPR, MW2, MZ2, I1a11, I1a12, I1a13, I1a21, I1a22, I1a23, I1a31, I1a32, I1a33, I10a11, I10a12, I10a13, I10a21, I10a22, I10a23, I10a31, I10a32, I10a33, I11a11, I11a12, I11a13, I11a21, I11a22, I11a23, I11a31, I11a32, I11a33, I12a11, I12a12, I12a13, I12a21, I12a22, I12a23, I12a31, I12a32, I12a33, I13a11, I13a12, I13a13, I13a14, I13a15, I13a16, I13a21, I13a22, I13a23, I13a24, I13a25, I13a26, I13a31, I13a32, I13a33, I13a34, I13a35, I13a36, I13a41, I13a42, I13a43, I13a44, I13a45, I13a46, I13a51, I13a52, I13a53, I13a54, I13a55, I13a56, I13a61, I13a62, I13a63, I13a64, I13a65, I13a66, I14a11, I14a12, I14a13, I14a14, I14a15, I14a16, I14a21, I14a22, I14a23, I14a24, I14a25, I14a26, I14a31, I14a32, I14a33, I14a34, I14a35, I14a36, I14a41, I14a42, I14a43, I14a44, I14a45, I14a46, I14a51, I14a52, I14a53, I14a54, I14a55, I14a56, I14a61, I14a62, I14a63, I14a64, I14a65, I14a66, I15a11, I15a12, I15a13, I15a14, I15a15, I15a16, I15a21, I15a22, I15a23, I15a24, I15a25, I15a26, I15a31, I15a32, I15a33, I15a34, I15a35, I15a36, I15a41, I15a42, I15a43, I15a44, I15a45, I15a46, I15a51, I15a52, I15a53, I15a54, I15a55, I15a56, I15a61, I15a62, I15a63, I15a64, I15a65, I15a66, I16a11, I16a12, I16a13, I16a14, I16a15, I16a16, I16a21, I16a22, I16a23, I16a24, I16a25, I16a26, I16a31, I16a32, I16a33, I16a34, I16a35, I16a36, I16a41, I16a42, I16a43, I16a44, I16a45, I16a46, I16a51, I16a52, I16a53, I16a54, I16a55, I16a56, I16a61, I16a62, I16a63, I16a64, I16a65, I16a66, I17a11, I17a12, I17a13, I17a14, I17a15, I17a16, I17a21, I17a22, I17a23, I17a24, I17a25, I17a26, I17a31, I17a32, I17a33, I17a34, I17a35, I17a36, I17a41, I17a42, I17a43, I17a44, I17a45, I17a46, I17a51, I17a52, I17a53, I17a54, I17a55, I17a56, I17a61, I17a62, I17a63, I17a64, I17a65, I17a66, I18a11, I18a12, I18a13, I18a14, I18a15, I18a16, I18a21, I18a22, I18a23, I18a24, I18a25, I18a26, I18a31, I18a32, I18a33, I18a34, I18a35, I18a36, I18a41, I18a42, I18a43, I18a44, I18a45, I18a46, I18a51, I18a52, I18a53, I18a54, I18a55, I18a56, I18a61, I18a62, I18a63, I18a64, I18a65, I18a66, I19a11, I19a12, I19a13, I19a14, I19a15, I19a16, I19a21, I19a22, I19a23, I19a24, I19a25, I19a26, I19a31, I19a32, I19a33, I19a34, I19a35, I19a36, I19a41, I19a42, I19a43, I19a44, I19a45, I19a46, I19a51, I19a52, I19a53, I19a54, I19a55, I19a56, I19a61, I19a62, I19a63, I19a64, I19a65, I19a66, I2a11, I2a12, I2a13, I2a21, I2a22, I2a23, I2a31, I2a32, I2a33, I20a11, I20a12, I20a13, I20a14, I20a15, I20a16, I20a21, I20a22, I20a23, I20a24, I20a25, I20a26, I20a31, I20a32, I20a33, I20a34, I20a35, I20a36, I20a41, I20a42, I20a43, I20a44, I20a45, I20a46, I20a51, I20a52, I20a53, I20a54, I20a55, I20a56, I20a61, I20a62, I20a63, I20a64, I20a65, I20a66, I21a11, I21a12, I21a13, I21a21, I21a22, I21a23, I21a31, I21a32, I21a33, I21a41, I21a42, I21a43, I21a51, I21a52, I21a53, I21a61, I21a62, I21a63, I22a11, I22a12, I22a13, I22a21, I22a22, I22a23, I22a31, I22a32, I22a33, I22a41, I22a42, I22a43, I22a51, I22a52, I22a53, I22a61, I22a62, I22a63, I23a11, I23a12, I23a13, I23a21, I23a22, I23a23, I23a31, I23a32, I23a33, I23a41, I23a42, I23a43, I23a51, I23a52, I23a53, I23a61, I23a62, I23a63, I24a11, I24a12, I24a13, I24a21, I24a22, I24a23, I24a31, I24a32, I24a33, I24a41, I24a42, I24a43, I24a51, I24a52, I24a53, I24a61, I24a62, I24a63, I25a11, I25a12, I25a13, I25a21, I25a22, I25a23, I25a31, I25a32, I25a33, I25a41, I25a42, I25a43, I25a51, I25a52, I25a53, I25a61, I25a62, I25a63, I26a11, I26a12, I26a13, I26a21, I26a22, I26a23, I26a31, I26a32, I26a33, I26a41, I26a42, I26a43, I26a51, I26a52, I26a53, I26a61, I26a62, I26a63, I27a11, I27a12, I27a13, I27a21, I27a22, I27a23, I27a31, I27a32, I27a33, I27a41, I27a42, I27a43, I27a51, I27a52, I27a53, I27a61, I27a62, I27a63, I28a11, I28a12, I28a13, I28a21, I28a22, I28a23, I28a31, I28a32, I28a33, I28a41, I28a42, I28a43, I28a51, I28a52, I28a53, I28a61, I28a62, I28a63, I29a11, I29a12, I29a13, I29a21, I29a22, I29a23, I29a31, I29a32, I29a33, I3a11, I3a12, I3a13, I3a21, I3a22, I3a23, I3a31, I3a32, I3a33, I30a11, I30a12, I30a13, I30a21, I30a22, I30a23, I30a31, I30a32, I30a33, I31a11, I31a12, I31a13, I31a14, I31a15, I31a16, I31a21, I31a22, I31a23, I31a24, I31a25, I31a26, I31a31, I31a32, I31a33, I31a34, I31a35, I31a36, I31a41, I31a42, I31a43, I31a44, I31a45, I31a46, I31a51, I31a52, I31a53, I31a54, I31a55, I31a56, I31a61, I31a62, I31a63, I31a64, I31a65, I31a66, I32a11, I32a12, I32a13, I32a14, I32a15, I32a16, I32a21, I32a22, I32a23, I32a24, I32a25, I32a26, I32a31, I32a32, I32a33, I32a34, I32a35, I32a36, I32a41, I32a42, I32a43, I32a44, I32a45, I32a46, I32a51, I32a52, I32a53, I32a54, I32a55, I32a56, I32a61, I32a62, I32a63, I32a64, I32a65, I32a66, I33a11, I33a12, I33a13, I33a14, I33a15, I33a16, I33a21, I33a22, I33a23, I33a24, I33a25, I33a26, I33a31, I33a32, I33a33, I33a34, I33a35, I33a36, I33a41, I33a42, I33a43, I33a44, I33a45, I33a46, I33a51, I33a52, I33a53, I33a54, I33a55, I33a56, I33a61, I33a62, I33a63, I33a64, I33a65, I33a66, I34a11, I34a12, I34a13, I34a14, I34a15, I34a16, I34a21, I34a22, I34a23, I34a24, I34a25, I34a26, I34a31, I34a32, I34a33, I34a34, I34a35, I34a36, I34a41, I34a42, I34a43, I34a44, I34a45, I34a46, I34a51, I34a52, I34a53, I34a54, I34a55, I34a56, I34a61, I34a62, I34a63, I34a64, I34a65, I34a66, I35a11, I35a12, I35a13, I35a21, I35a22, I35a23, I35a31, I35a32, I35a33, I35a41, I35a42, I35a43, I35a51, I35a52, I35a53, I35a61, I35a62, I35a63, I36a11, I36a12, I36a13, I36a21, I36a22, I36a23, I36a31, I36a32, I36a33, I36a41, I36a42, I36a43, I36a51, I36a52, I36a53, I36a61, I36a62, I36a63, I37a11, I37a12, I37a13, I37a21, I37a22, I37a23, I37a31, I37a32, I37a33, I38a11, I38a12, I38a13, I38a21, I38a22, I38a23, I38a31, I38a32, I38a33, I39a11, I39a12, I39a13, I39a14, I39a15, I39a16, I39a21, I39a22, I39a23, I39a24, I39a25, I39a26, I39a31, I39a32, I39a33, I39a34, I39a35, I39a36, I39a41, I39a42, I39a43, I39a44, I39a45, I39a46, I39a51, I39a52, I39a53, I39a54, I39a55, I39a56, I39a61, I39a62, I39a63, I39a64, I39a65, I39a66, I4a11, I4a12, I4a13, I4a21, I4a22, I4a23, I4a31, I4a32, I4a33, I40a11, I40a12, I40a13, I40a14, I40a15, I40a16, I40a21, I40a22, I40a23, I40a24, I40a25, I40a26, I40a31, I40a32, I40a33, I40a34, I40a35, I40a36, I40a41, I40a42, I40a43, I40a44, I40a45, I40a46, I40a51, I40a52, I40a53, I40a54, I40a55, I40a56, I40a61, I40a62, I40a63, I40a64, I40a65, I40a66, I41a11, I41a12, I41a13, I41a14, I41a15, I41a16, I41a21, I41a22, I41a23, I41a24, I41a25, I41a26, I41a31, I41a32, I41a33, I41a34, I41a35, I41a36, I41a41, I41a42, I41a43, I41a44, I41a45, I41a46, I41a51, I41a52, I41a53, I41a54, I41a55, I41a56, I41a61, I41a62, I41a63, I41a64, I41a65, I41a66, I42a11, I42a12, I42a13, I42a14, I42a15, I42a16, I42a21, I42a22, I42a23, I42a24, I42a25, I42a26, I42a31, I42a32, I42a33, I42a34, I42a35, I42a36, I42a41, I42a42, I42a43, I42a44, I42a45, I42a46, I42a51, I42a52, I42a53, I42a54, I42a55, I42a56, I42a61, I42a62, I42a63, I42a64, I42a65, I42a66, I43a11, I43a12, I43a13, I43a21, I43a22, I43a23, I43a31, I43a32, I43a33, I43a41, I43a42, I43a43, I43a51, I43a52, I43a53, I43a61, I43a62, I43a63, I44a11, I44a12, I44a13, I44a21, I44a22, I44a23, I44a31, I44a32, I44a33, I44a41, I44a42, I44a43, I44a51, I44a52, I44a53, I44a61, I44a62, I44a63, I45a11, I45a12, I45a13, I45a21, I45a22, I45a23, I45a31, I45a32, I45a33, I46a11, I46a12, I46a13, I46a21, I46a22, I46a23, I46a31, I46a32, I46a33, I47a11, I47a12, I47a13, I47a21, I47a22, I47a23, I47a31, I47a32, I47a33, I47a41, I47a42, I47a43, I47a51, I47a52, I47a53, I47a61, I47a62, I47a63, I48a11, I48a12, I48a13, I48a21, I48a22, I48a23, I48a31, I48a32, I48a33, I48a41, I48a42, I48a43, I48a51, I48a52, I48a53, I48a61, I48a62, I48a63, I49a11, I49a12, I49a13, I49a21, I49a22, I49a23, I49a31, I49a32, I49a33, I5a11, I5a12, I5a13, I5a21, I5a22, I5a23, I5a31, I5a32, I5a33, I50a11, I50a12, I50a13, I50a21, I50a22, I50a23, I50a31, I50a32, I50a33, I51a11, I51a12, I51a13, I51a21, I51a22, I51a23, I51a31, I51a32, I51a33, I51a41, I51a42, I51a43, I51a51, I51a52, I51a53, I51a61, I51a62, I51a63, I52a11, I52a12, I52a13, I52a21, I52a22, I52a23, I52a31, I52a32, I52a33, I52a41, I52a42, I52a43, I52a51, I52a52, I52a53, I52a61, I52a62, I52a63, I53a11, I53a12, I53a13, I53a21, I53a22, I53a23, I53a31, I53a32, I53a33, I54a11, I54a12, I54a13, I54a21, I54a22, I54a23, I54a31, I54a32, I54a33, I55a11, I55a12, I55a13, I55a14, I55a15, I55a16, I55a21, I55a22, I55a23, I55a24, I55a25, I55a26, I55a31, I55a32, I55a33, I55a34, I55a35, I55a36, I55a41, I55a42, I55a43, I55a44, I55a45, I55a46, I55a51, I55a52, I55a53, I55a54, I55a55, I55a56, I55a61, I55a62, I55a63, I55a64, I55a65, I55a66, I56a11, I56a12, I56a13, I56a14, I56a15, I56a16, I56a21, I56a22, I56a23, I56a24, I56a25, I56a26, I56a31, I56a32, I56a33, I56a34, I56a35, I56a36, I56a41, I56a42, I56a43, I56a44, I56a45, I56a46, I56a51, I56a52, I56a53, I56a54, I56a55, I56a56, I56a61, I56a62, I56a63, I56a64, I56a65, I56a66, I57a11, I57a12, I57a13, I57a14, I57a15, I57a16, I57a21, I57a22, I57a23, I57a24, I57a25, I57a26, I57a31, I57a32, I57a33, I57a34, I57a35, I57a36, I57a41, I57a42, I57a43, I57a44, I57a45, I57a46, I57a51, I57a52, I57a53, I57a54, I57a55, I57a56, I57a61, I57a62, I57a63, I57a64, I57a65, I57a66, I58a11, I58a12, I58a13, I58a14, I58a15, I58a16, I58a21, I58a22, I58a23, I58a24, I58a25, I58a26, I58a31, I58a32, I58a33, I58a34, I58a35, I58a36, I58a41, I58a42, I58a43, I58a44, I58a45, I58a46, I58a51, I58a52, I58a53, I58a54, I58a55, I58a56, I58a61, I58a62, I58a63, I58a64, I58a65, I58a66, I6a11, I6a12, I6a13, I6a21, I6a22, I6a23, I6a31, I6a32, I6a33, I7a11, I7a12, I7a13, I7a21, I7a22, I7a23, I7a31, I7a32, I7a33, I8a11, I8a12, I8a13, I8a21, I8a22, I8a23, I8a31, I8a32, I8a33, I9a11, I9a12, I9a13, I9a21, I9a22, I9a23, I9a31, I9a32, I9a33]\n"
     ]
    }
   ],
   "source": [
    "sympy_parameters = UFOModel.classify_parameters()\n",
    "print(sympy_parameters['internal'])"
   ]
  },
  {
   "cell_type": "code",
   "execution_count": 18,
   "metadata": {},
   "outputs": [],
   "source": [
    "#from UFOexplorerSympy2 import preprocess_expression\n",
    "#from sympy import sympify"
   ]
  },
  {
   "cell_type": "code",
   "execution_count": 19,
   "metadata": {},
   "outputs": [],
   "source": [
    "#substitutions_internal = {}\n",
    "#for param in sympy_parameters['internal']:\n",
    "#    if hasattr(param, 'nature') and param.nature == 'internal' and hasattr(param, 'value'):\n",
    "#        value = preprocess_expression(param.value)\n",
    "#        if param.name=='vev':\n",
    "#            value = value.replace('0.25','(1/4)')\n",
    "#        try:\n",
    "#            substitutions_internal[sympify(param.name)] = sympify(value)\n",
    "#        except Exception as e:\n",
    "#            print(f\"Failed to sympify parameter {param.name} with value {param.value}: {e}\")\n",
    "\n",
    "#substitutions_internal"
   ]
  },
  {
   "cell_type": "code",
   "execution_count": 23,
   "metadata": {},
   "outputs": [
    {
     "name": "stdout",
     "output_type": "stream",
     "text": [
      "V_567  ->  [N1, N1, H]\n",
      "CL = -I*(I13a11 + I14a11)/vev,\n",
      "CR = -I*(I15a11 + I16a11)/vev\n",
      "V_568  ->  [N2, N1, H]\n",
      "CL = -I*(I13a12 + I13a21 + I14a12 + I14a21)/(2*vev),\n",
      "CR = -I*(I15a12 + I15a21 + I16a12 + I16a21)/(2*vev)\n",
      "V_569  ->  [N3, N1, H]\n",
      "CL = -I*(I13a13 + I13a31 + I14a13 + I14a31)/(2*vev),\n",
      "CR = -I*(I15a13 + I15a31 + I16a13 + I16a31)/(2*vev)\n",
      "V_570  ->  [N4, N1, H]\n",
      "CL = -I*(I13a14 + I13a41 + I14a14 + I14a41)/(2*vev),\n",
      "CR = -I*(I15a14 + I15a41 + I16a14 + I16a41)/(2*vev)\n",
      "V_571  ->  [N5, N1, H]\n",
      "CL = -I*(I13a15 + I13a51 + I14a15 + I14a51)/(2*vev),\n",
      "CR = -I*(I15a15 + I15a51 + I16a15 + I16a51)/(2*vev)\n",
      "V_572  ->  [N6, N1, H]\n",
      "CL = -I*(I13a16 + I13a61 + I14a16 + I14a61)/(2*vev),\n",
      "CR = -I*(I15a16 + I15a61 + I16a16 + I16a61)/(2*vev)\n",
      "V_568  ->  [N2, N1, H]\n",
      "CL = -I*(I13a12 + I13a21 + I14a12 + I14a21)/(2*vev),\n",
      "CR = -I*(I15a12 + I15a21 + I16a12 + I16a21)/(2*vev)\n",
      "V_569  ->  [N3, N1, H]\n",
      "CL = -I*(I13a13 + I13a31 + I14a13 + I14a31)/(2*vev),\n",
      "CR = -I*(I15a13 + I15a31 + I16a13 + I16a31)/(2*vev)\n",
      "V_570  ->  [N4, N1, H]\n",
      "CL = -I*(I13a14 + I13a41 + I14a14 + I14a41)/(2*vev),\n",
      "CR = -I*(I15a14 + I15a41 + I16a14 + I16a41)/(2*vev)\n",
      "V_571  ->  [N5, N1, H]\n",
      "CL = -I*(I13a15 + I13a51 + I14a15 + I14a51)/(2*vev),\n",
      "CR = -I*(I15a15 + I15a51 + I16a15 + I16a51)/(2*vev)\n",
      "V_572  ->  [N6, N1, H]\n",
      "CL = -I*(I13a16 + I13a61 + I14a16 + I14a61)/(2*vev),\n",
      "CR = -I*(I15a16 + I15a61 + I16a16 + I16a61)/(2*vev)\n",
      "V_568  ->  [N2, N1, H]\n",
      "CL = -I*(I13a12 + I13a21 + I14a12 + I14a21)/(2*vev),\n",
      "CR = -I*(I15a12 + I15a21 + I16a12 + I16a21)/(2*vev)\n",
      "V_568  ->  [N2, N1, H]\n",
      "CL = -I*(I13a12 + I13a21 + I14a12 + I14a21)/(2*vev),\n",
      "CR = -I*(I15a12 + I15a21 + I16a12 + I16a21)/(2*vev)\n",
      "V_573  ->  [N2, N2, H]\n",
      "CL = -I*(I13a22 + I14a22)/vev,\n",
      "CR = -I*(I15a22 + I16a22)/vev\n",
      "V_574  ->  [N3, N2, H]\n",
      "CL = -I*(I13a23 + I13a32 + I14a23 + I14a32)/(2*vev),\n",
      "CR = -I*(I15a23 + I15a32 + I16a23 + I16a32)/(2*vev)\n",
      "V_575  ->  [N4, N2, H]\n",
      "CL = -I*(I13a24 + I13a42 + I14a24 + I14a42)/(2*vev),\n",
      "CR = -I*(I15a24 + I15a42 + I16a24 + I16a42)/(2*vev)\n",
      "V_576  ->  [N5, N2, H]\n",
      "CL = -I*(I13a25 + I13a52 + I14a25 + I14a52)/(2*vev),\n",
      "CR = -I*(I15a25 + I15a52 + I16a25 + I16a52)/(2*vev)\n",
      "V_577  ->  [N6, N2, H]\n",
      "CL = -I*(I13a26 + I13a62 + I14a26 + I14a62)/(2*vev),\n",
      "CR = -I*(I15a26 + I15a62 + I16a26 + I16a62)/(2*vev)\n",
      "V_574  ->  [N3, N2, H]\n",
      "CL = -I*(I13a23 + I13a32 + I14a23 + I14a32)/(2*vev),\n",
      "CR = -I*(I15a23 + I15a32 + I16a23 + I16a32)/(2*vev)\n",
      "V_575  ->  [N4, N2, H]\n",
      "CL = -I*(I13a24 + I13a42 + I14a24 + I14a42)/(2*vev),\n",
      "CR = -I*(I15a24 + I15a42 + I16a24 + I16a42)/(2*vev)\n",
      "V_576  ->  [N5, N2, H]\n",
      "CL = -I*(I13a25 + I13a52 + I14a25 + I14a52)/(2*vev),\n",
      "CR = -I*(I15a25 + I15a52 + I16a25 + I16a52)/(2*vev)\n",
      "V_577  ->  [N6, N2, H]\n",
      "CL = -I*(I13a26 + I13a62 + I14a26 + I14a62)/(2*vev),\n",
      "CR = -I*(I15a26 + I15a62 + I16a26 + I16a62)/(2*vev)\n",
      "V_569  ->  [N3, N1, H]\n",
      "CL = -I*(I13a13 + I13a31 + I14a13 + I14a31)/(2*vev),\n",
      "CR = -I*(I15a13 + I15a31 + I16a13 + I16a31)/(2*vev)\n",
      "V_574  ->  [N3, N2, H]\n",
      "CL = -I*(I13a23 + I13a32 + I14a23 + I14a32)/(2*vev),\n",
      "CR = -I*(I15a23 + I15a32 + I16a23 + I16a32)/(2*vev)\n",
      "V_569  ->  [N3, N1, H]\n",
      "CL = -I*(I13a13 + I13a31 + I14a13 + I14a31)/(2*vev),\n",
      "CR = -I*(I15a13 + I15a31 + I16a13 + I16a31)/(2*vev)\n",
      "V_574  ->  [N3, N2, H]\n",
      "CL = -I*(I13a23 + I13a32 + I14a23 + I14a32)/(2*vev),\n",
      "CR = -I*(I15a23 + I15a32 + I16a23 + I16a32)/(2*vev)\n",
      "V_578  ->  [N3, N3, H]\n",
      "CL = -I*(I13a33 + I14a33)/vev,\n",
      "CR = -I*(I15a33 + I16a33)/vev\n",
      "V_579  ->  [N4, N3, H]\n",
      "CL = -I*(I13a34 + I13a43 + I14a34 + I14a43)/(2*vev),\n",
      "CR = -I*(I15a34 + I15a43 + I16a34 + I16a43)/(2*vev)\n",
      "V_580  ->  [N5, N3, H]\n",
      "CL = -I*(I13a35 + I13a53 + I14a35 + I14a53)/(2*vev),\n",
      "CR = -I*(I15a35 + I15a53 + I16a35 + I16a53)/(2*vev)\n",
      "V_581  ->  [N6, N3, H]\n",
      "CL = -I*(I13a36 + I13a63 + I14a36 + I14a63)/(2*vev),\n",
      "CR = -I*(I15a36 + I15a63 + I16a36 + I16a63)/(2*vev)\n",
      "V_579  ->  [N4, N3, H]\n",
      "CL = -I*(I13a34 + I13a43 + I14a34 + I14a43)/(2*vev),\n",
      "CR = -I*(I15a34 + I15a43 + I16a34 + I16a43)/(2*vev)\n",
      "V_580  ->  [N5, N3, H]\n",
      "CL = -I*(I13a35 + I13a53 + I14a35 + I14a53)/(2*vev),\n",
      "CR = -I*(I15a35 + I15a53 + I16a35 + I16a53)/(2*vev)\n",
      "V_581  ->  [N6, N3, H]\n",
      "CL = -I*(I13a36 + I13a63 + I14a36 + I14a63)/(2*vev),\n",
      "CR = -I*(I15a36 + I15a63 + I16a36 + I16a63)/(2*vev)\n",
      "V_570  ->  [N4, N1, H]\n",
      "CL = -I*(I13a14 + I13a41 + I14a14 + I14a41)/(2*vev),\n",
      "CR = -I*(I15a14 + I15a41 + I16a14 + I16a41)/(2*vev)\n",
      "V_575  ->  [N4, N2, H]\n",
      "CL = -I*(I13a24 + I13a42 + I14a24 + I14a42)/(2*vev),\n",
      "CR = -I*(I15a24 + I15a42 + I16a24 + I16a42)/(2*vev)\n",
      "V_579  ->  [N4, N3, H]\n",
      "CL = -I*(I13a34 + I13a43 + I14a34 + I14a43)/(2*vev),\n",
      "CR = -I*(I15a34 + I15a43 + I16a34 + I16a43)/(2*vev)\n",
      "V_570  ->  [N4, N1, H]\n",
      "CL = -I*(I13a14 + I13a41 + I14a14 + I14a41)/(2*vev),\n",
      "CR = -I*(I15a14 + I15a41 + I16a14 + I16a41)/(2*vev)\n",
      "V_575  ->  [N4, N2, H]\n",
      "CL = -I*(I13a24 + I13a42 + I14a24 + I14a42)/(2*vev),\n",
      "CR = -I*(I15a24 + I15a42 + I16a24 + I16a42)/(2*vev)\n",
      "V_579  ->  [N4, N3, H]\n",
      "CL = -I*(I13a34 + I13a43 + I14a34 + I14a43)/(2*vev),\n",
      "CR = -I*(I15a34 + I15a43 + I16a34 + I16a43)/(2*vev)\n",
      "V_582  ->  [N4, N4, H]\n",
      "CL = -I*(I13a44 + I14a44)/vev,\n",
      "CR = -I*(I15a44 + I16a44)/vev\n",
      "V_583  ->  [N5, N4, H]\n",
      "CL = -I*(I13a45 + I13a54 + I14a45 + I14a54)/(2*vev),\n",
      "CR = -I*(I15a45 + I15a54 + I16a45 + I16a54)/(2*vev)\n",
      "V_584  ->  [N6, N4, H]\n",
      "CL = -I*(I13a46 + I13a64 + I14a46 + I14a64)/(2*vev),\n",
      "CR = -I*(I15a46 + I15a64 + I16a46 + I16a64)/(2*vev)\n",
      "V_583  ->  [N5, N4, H]\n",
      "CL = -I*(I13a45 + I13a54 + I14a45 + I14a54)/(2*vev),\n",
      "CR = -I*(I15a45 + I15a54 + I16a45 + I16a54)/(2*vev)\n",
      "V_584  ->  [N6, N4, H]\n",
      "CL = -I*(I13a46 + I13a64 + I14a46 + I14a64)/(2*vev),\n",
      "CR = -I*(I15a46 + I15a64 + I16a46 + I16a64)/(2*vev)\n",
      "V_571  ->  [N5, N1, H]\n",
      "CL = -I*(I13a15 + I13a51 + I14a15 + I14a51)/(2*vev),\n",
      "CR = -I*(I15a15 + I15a51 + I16a15 + I16a51)/(2*vev)\n",
      "V_576  ->  [N5, N2, H]\n",
      "CL = -I*(I13a25 + I13a52 + I14a25 + I14a52)/(2*vev),\n",
      "CR = -I*(I15a25 + I15a52 + I16a25 + I16a52)/(2*vev)\n",
      "V_580  ->  [N5, N3, H]\n",
      "CL = -I*(I13a35 + I13a53 + I14a35 + I14a53)/(2*vev),\n",
      "CR = -I*(I15a35 + I15a53 + I16a35 + I16a53)/(2*vev)\n",
      "V_583  ->  [N5, N4, H]\n",
      "CL = -I*(I13a45 + I13a54 + I14a45 + I14a54)/(2*vev),\n",
      "CR = -I*(I15a45 + I15a54 + I16a45 + I16a54)/(2*vev)\n",
      "V_571  ->  [N5, N1, H]\n",
      "CL = -I*(I13a15 + I13a51 + I14a15 + I14a51)/(2*vev),\n",
      "CR = -I*(I15a15 + I15a51 + I16a15 + I16a51)/(2*vev)\n",
      "V_576  ->  [N5, N2, H]\n",
      "CL = -I*(I13a25 + I13a52 + I14a25 + I14a52)/(2*vev),\n",
      "CR = -I*(I15a25 + I15a52 + I16a25 + I16a52)/(2*vev)\n",
      "V_580  ->  [N5, N3, H]\n",
      "CL = -I*(I13a35 + I13a53 + I14a35 + I14a53)/(2*vev),\n",
      "CR = -I*(I15a35 + I15a53 + I16a35 + I16a53)/(2*vev)\n",
      "V_583  ->  [N5, N4, H]\n",
      "CL = -I*(I13a45 + I13a54 + I14a45 + I14a54)/(2*vev),\n",
      "CR = -I*(I15a45 + I15a54 + I16a45 + I16a54)/(2*vev)\n",
      "V_585  ->  [N5, N5, H]\n",
      "CL = -I*(I13a55 + I14a55)/vev,\n",
      "CR = -I*(I15a55 + I16a55)/vev\n",
      "V_586  ->  [N6, N5, H]\n",
      "CL = -I*(I13a56 + I13a65 + I14a56 + I14a65)/(2*vev),\n",
      "CR = -I*(I15a56 + I15a65 + I16a56 + I16a65)/(2*vev)\n",
      "V_586  ->  [N6, N5, H]\n",
      "CL = -I*(I13a56 + I13a65 + I14a56 + I14a65)/(2*vev),\n",
      "CR = -I*(I15a56 + I15a65 + I16a56 + I16a65)/(2*vev)\n",
      "V_572  ->  [N6, N1, H]\n",
      "CL = -I*(I13a16 + I13a61 + I14a16 + I14a61)/(2*vev),\n",
      "CR = -I*(I15a16 + I15a61 + I16a16 + I16a61)/(2*vev)\n",
      "V_577  ->  [N6, N2, H]\n",
      "CL = -I*(I13a26 + I13a62 + I14a26 + I14a62)/(2*vev),\n",
      "CR = -I*(I15a26 + I15a62 + I16a26 + I16a62)/(2*vev)\n",
      "V_581  ->  [N6, N3, H]\n",
      "CL = -I*(I13a36 + I13a63 + I14a36 + I14a63)/(2*vev),\n",
      "CR = -I*(I15a36 + I15a63 + I16a36 + I16a63)/(2*vev)\n",
      "V_584  ->  [N6, N4, H]\n",
      "CL = -I*(I13a46 + I13a64 + I14a46 + I14a64)/(2*vev),\n",
      "CR = -I*(I15a46 + I15a64 + I16a46 + I16a64)/(2*vev)\n",
      "V_586  ->  [N6, N5, H]\n",
      "CL = -I*(I13a56 + I13a65 + I14a56 + I14a65)/(2*vev),\n",
      "CR = -I*(I15a56 + I15a65 + I16a56 + I16a65)/(2*vev)\n",
      "V_572  ->  [N6, N1, H]\n",
      "CL = -I*(I13a16 + I13a61 + I14a16 + I14a61)/(2*vev),\n",
      "CR = -I*(I15a16 + I15a61 + I16a16 + I16a61)/(2*vev)\n",
      "V_577  ->  [N6, N2, H]\n",
      "CL = -I*(I13a26 + I13a62 + I14a26 + I14a62)/(2*vev),\n",
      "CR = -I*(I15a26 + I15a62 + I16a26 + I16a62)/(2*vev)\n",
      "V_581  ->  [N6, N3, H]\n",
      "CL = -I*(I13a36 + I13a63 + I14a36 + I14a63)/(2*vev),\n",
      "CR = -I*(I15a36 + I15a63 + I16a36 + I16a63)/(2*vev)\n",
      "V_584  ->  [N6, N4, H]\n",
      "CL = -I*(I13a46 + I13a64 + I14a46 + I14a64)/(2*vev),\n",
      "CR = -I*(I15a46 + I15a64 + I16a46 + I16a64)/(2*vev)\n",
      "V_586  ->  [N6, N5, H]\n",
      "CL = -I*(I13a56 + I13a65 + I14a56 + I14a65)/(2*vev),\n",
      "CR = -I*(I15a56 + I15a65 + I16a56 + I16a65)/(2*vev)\n",
      "V_587  ->  [N6, N6, H]\n",
      "CL = -I*(I13a66 + I14a66)/vev,\n",
      "CR = -I*(I15a66 + I16a66)/vev\n"
     ]
    }
   ],
   "source": [
    "for v in VerticesHNiNj:\n",
    "    print(v, ' -> ', v.particles)\n",
    "    feynrule = feynman_rules[v].expand()\n",
    "    CR, CL = feynrule.coeff(ProjP(2,1)).factor(), feynrule.coeff(ProjM(2,1)).factor()\n",
    "    #print(CR, '\\n', UFOModel.substitute_internal_parameters(CR).simplify())\n",
    "    print(f'CL = {CL},\\nCR = {CR}')\n",
    "    # display(CR.subs(substitutions_internal))"
   ]
  },
  {
   "cell_type": "markdown",
   "metadata": {},
   "source": [
    "# Z interactions"
   ]
  },
  {
   "cell_type": "markdown",
   "metadata": {},
   "source": [
    "## Vertices Z with charged Scalars and vectors"
   ]
  },
  {
   "cell_type": "code",
   "execution_count": 24,
   "metadata": {},
   "outputs": [
    {
     "name": "stdout",
     "output_type": "stream",
     "text": [
      "[V_1213, V_1214, V_1215, V_1216, V_1217, V_1218, V_1097, V_1007, V_1123, V_1030]\n"
     ]
    }
   ],
   "source": [
    "VerticesZXplusXminus = flatten_list(\n",
    "    [\n",
    "    UFOModel.find_vertices_involving(['Z', X1.name, X2.name], number_particles=3)\n",
    "    for X1 in charged_SVplus for X2 in charged_SVminus if UFOModel.find_vertices_involving(['Z', X1.name, X2.name], number_particles=3)\n",
    "]\n",
    ")\n",
    "print(VerticesZXplusXminus)"
   ]
  },
  {
   "cell_type": "code",
   "execution_count": 25,
   "metadata": {},
   "outputs": [
    {
     "name": "stdout",
     "output_type": "stream",
     "text": [
      "V_1213\n",
      "[Z, GL__minus__, GL__plus__]  ->  -I*gw*(k1**2 + k2**2)*(P(1, 2) - P(1, 3))*(cphi*cw**2 - cphi*sw**2 - sphi*sqrt(1 - 2*sw**2))/(2*cw*vev**2)\n",
      "V_1214\n",
      "[Z, GR__minus__, GR__plus__]  ->  I*g1*sw*(cphi*sqrt(1 - 2*sw**2) - sphi)*(P(1, 2) - P(1, 3))/cw\n",
      "V_1215\n",
      "[Z, HM1, HP1]  ->  I*g1*sw*(cphi*sqrt(1 - 2*sw**2) - sphi)*(P(1, 2) - P(1, 3))/cw\n",
      "V_1216\n",
      "[Z, HM2, HP2]  ->  -I*gw*(k1**2 + k2**2)*(P(1, 2) - P(1, 3))*(cphi*cw**2 - cphi*sw**2 - sphi*sqrt(1 - 2*sw**2))/(2*cw*vev**2)\n",
      "V_1217\n",
      "[Z, HL__minus____minus__, HL__plus____plus__]  ->  I*(P(1, 2) - P(1, 3))*(-cphi*cw**2*gw + cphi*g1*sw*sqrt(1 - 2*sw**2) - g1*sphi*sw)/cw\n",
      "V_1218\n",
      "[Z, HR__minus____minus__, HR__plus____plus__]  ->  I*(P(1, 2) - P(1, 3))*(cphi*g1*sw*sqrt(1 - 2*sw**2) + cphi*gw*sw**2 - g1*sphi*sw + gw*sphi*sqrt(1 - 2*sw**2))/cw\n",
      "V_1097\n",
      "[W__minus__, W__plus__, Z]  ->  I*gw*(cphi*cw**2*cxi**2 - cphi*sw**2*sxi**2 - sphi*sxi**2*sqrt(1 - 2*sw**2))*(Metric(1, 2)*P(3, 1) - Metric(1, 2)*P(3, 2) - Metric(1, 3)*P(2, 1) + Metric(1, 3)*P(2, 3) + Metric(2, 3)*P(1, 2) - Metric(2, 3)*P(1, 3))/cw\n",
      "V_1007\n",
      "[W__minus__, W2__plus__, Z]  ->  I*cxi*gw*sxi*(cphi*cw**2 + cphi*sw**2 + sphi*sqrt(1 - 2*sw**2))*(Metric(1, 2)*P(3, 1) - Metric(1, 2)*P(3, 2) - Metric(1, 3)*P(2, 1) + Metric(1, 3)*P(2, 3) + Metric(2, 3)*P(1, 2) - Metric(2, 3)*P(1, 3))/cw\n",
      "V_1123\n",
      "[W2__minus__, W__plus__, Z]  ->  I*cxi*gw*sxi*(cphi*cw**2 + cphi*sw**2 + sphi*sqrt(1 - 2*sw**2))*(Metric(1, 2)*P(3, 1) - Metric(1, 2)*P(3, 2) - Metric(1, 3)*P(2, 1) + Metric(1, 3)*P(2, 3) + Metric(2, 3)*P(1, 2) - Metric(2, 3)*P(1, 3))/cw\n",
      "V_1030\n",
      "[W2__minus__, W2__plus__, Z]  ->  I*gw*(cphi*cw**2*sxi**2 - cphi*cxi**2*sw**2 - cxi**2*sphi*sqrt(1 - 2*sw**2))*(Metric(1, 2)*P(3, 1) - Metric(1, 2)*P(3, 2) - Metric(1, 3)*P(2, 1) + Metric(1, 3)*P(2, 3) + Metric(2, 3)*P(1, 2) - Metric(2, 3)*P(1, 3))/cw\n"
     ]
    }
   ],
   "source": [
    "for v in VerticesZXplusXminus:\n",
    "    print(v)\n",
    "    print(v.particles, ' -> ', feynman_rules[v].factor())\n"
   ]
  },
  {
   "cell_type": "markdown",
   "metadata": {},
   "source": [
    "## Vertexez Z with neutrinos Ni"
   ]
  },
  {
   "cell_type": "code",
   "execution_count": 26,
   "metadata": {},
   "outputs": [
    {
     "name": "stdout",
     "output_type": "stream",
     "text": [
      "66 [V_1579, V_1580, V_1581, V_1582, V_1583, V_1584, V_1580, V_1581, V_1582, V_1583, V_1584, V_1580, V_1580, V_1585, V_1586, V_1587, V_1588, V_1589, V_1586, V_1587, V_1588, V_1589, V_1581, V_1586, V_1581, V_1586, V_1590, V_1591, V_1592, V_1593, V_1591, V_1592, V_1593, V_1582, V_1587, V_1591, V_1582, V_1587, V_1591, V_1594, V_1595, V_1596, V_1595, V_1596, V_1583, V_1588, V_1592, V_1595, V_1583, V_1588, V_1592, V_1595, V_1597, V_1598, V_1598, V_1584, V_1589, V_1593, V_1596, V_1598, V_1584, V_1589, V_1593, V_1596, V_1598, V_1599]\n"
     ]
    }
   ],
   "source": [
    "VerticesZNiNj = flatten_list(\n",
    "    [\n",
    "    UFOModel.find_vertices_involving(['Z', X1.name, X2.name], number_particles=3)\n",
    "    for X1 in neutrinos for X2 in neutrinos if UFOModel.find_vertices_involving(['Z', X1.name, X2.name], number_particles=3)\n",
    "]\n",
    ")\n",
    "print(len(VerticesZNiNj),VerticesZNiNj)"
   ]
  },
  {
   "cell_type": "code",
   "execution_count": 27,
   "metadata": {},
   "outputs": [
    {
     "name": "stdout",
     "output_type": "stream",
     "text": [
      "V_567\n",
      "[N1, N1, H]  ->  -I*(I13a11*ProjM(2, 1) + I14a11*ProjM(2, 1) + I15a11*ProjP(2, 1) + I16a11*ProjP(2, 1))/vev\n",
      "V_568\n",
      "[N2, N1, H]  ->  -I*(I13a12*ProjM(2, 1) + I13a21*ProjM(2, 1) + I14a12*ProjM(2, 1) + I14a21*ProjM(2, 1) + I15a12*ProjP(2, 1) + I15a21*ProjP(2, 1) + I16a12*ProjP(2, 1) + I16a21*ProjP(2, 1))/(2*vev)\n",
      "V_569\n",
      "[N3, N1, H]  ->  -I*(I13a13*ProjM(2, 1) + I13a31*ProjM(2, 1) + I14a13*ProjM(2, 1) + I14a31*ProjM(2, 1) + I15a13*ProjP(2, 1) + I15a31*ProjP(2, 1) + I16a13*ProjP(2, 1) + I16a31*ProjP(2, 1))/(2*vev)\n",
      "V_570\n",
      "[N4, N1, H]  ->  -I*(I13a14*ProjM(2, 1) + I13a41*ProjM(2, 1) + I14a14*ProjM(2, 1) + I14a41*ProjM(2, 1) + I15a14*ProjP(2, 1) + I15a41*ProjP(2, 1) + I16a14*ProjP(2, 1) + I16a41*ProjP(2, 1))/(2*vev)\n",
      "V_571\n",
      "[N5, N1, H]  ->  -I*(I13a15*ProjM(2, 1) + I13a51*ProjM(2, 1) + I14a15*ProjM(2, 1) + I14a51*ProjM(2, 1) + I15a15*ProjP(2, 1) + I15a51*ProjP(2, 1) + I16a15*ProjP(2, 1) + I16a51*ProjP(2, 1))/(2*vev)\n",
      "V_572\n",
      "[N6, N1, H]  ->  -I*(I13a16*ProjM(2, 1) + I13a61*ProjM(2, 1) + I14a16*ProjM(2, 1) + I14a61*ProjM(2, 1) + I15a16*ProjP(2, 1) + I15a61*ProjP(2, 1) + I16a16*ProjP(2, 1) + I16a61*ProjP(2, 1))/(2*vev)\n",
      "V_568\n",
      "[N2, N1, H]  ->  -I*(I13a12*ProjM(2, 1) + I13a21*ProjM(2, 1) + I14a12*ProjM(2, 1) + I14a21*ProjM(2, 1) + I15a12*ProjP(2, 1) + I15a21*ProjP(2, 1) + I16a12*ProjP(2, 1) + I16a21*ProjP(2, 1))/(2*vev)\n",
      "V_569\n",
      "[N3, N1, H]  ->  -I*(I13a13*ProjM(2, 1) + I13a31*ProjM(2, 1) + I14a13*ProjM(2, 1) + I14a31*ProjM(2, 1) + I15a13*ProjP(2, 1) + I15a31*ProjP(2, 1) + I16a13*ProjP(2, 1) + I16a31*ProjP(2, 1))/(2*vev)\n",
      "V_570\n",
      "[N4, N1, H]  ->  -I*(I13a14*ProjM(2, 1) + I13a41*ProjM(2, 1) + I14a14*ProjM(2, 1) + I14a41*ProjM(2, 1) + I15a14*ProjP(2, 1) + I15a41*ProjP(2, 1) + I16a14*ProjP(2, 1) + I16a41*ProjP(2, 1))/(2*vev)\n",
      "V_571\n",
      "[N5, N1, H]  ->  -I*(I13a15*ProjM(2, 1) + I13a51*ProjM(2, 1) + I14a15*ProjM(2, 1) + I14a51*ProjM(2, 1) + I15a15*ProjP(2, 1) + I15a51*ProjP(2, 1) + I16a15*ProjP(2, 1) + I16a51*ProjP(2, 1))/(2*vev)\n",
      "V_572\n",
      "[N6, N1, H]  ->  -I*(I13a16*ProjM(2, 1) + I13a61*ProjM(2, 1) + I14a16*ProjM(2, 1) + I14a61*ProjM(2, 1) + I15a16*ProjP(2, 1) + I15a61*ProjP(2, 1) + I16a16*ProjP(2, 1) + I16a61*ProjP(2, 1))/(2*vev)\n",
      "V_568\n",
      "[N2, N1, H]  ->  -I*(I13a12*ProjM(2, 1) + I13a21*ProjM(2, 1) + I14a12*ProjM(2, 1) + I14a21*ProjM(2, 1) + I15a12*ProjP(2, 1) + I15a21*ProjP(2, 1) + I16a12*ProjP(2, 1) + I16a21*ProjP(2, 1))/(2*vev)\n",
      "V_568\n",
      "[N2, N1, H]  ->  -I*(I13a12*ProjM(2, 1) + I13a21*ProjM(2, 1) + I14a12*ProjM(2, 1) + I14a21*ProjM(2, 1) + I15a12*ProjP(2, 1) + I15a21*ProjP(2, 1) + I16a12*ProjP(2, 1) + I16a21*ProjP(2, 1))/(2*vev)\n",
      "V_573\n",
      "[N2, N2, H]  ->  -I*(I13a22*ProjM(2, 1) + I14a22*ProjM(2, 1) + I15a22*ProjP(2, 1) + I16a22*ProjP(2, 1))/vev\n",
      "V_574\n",
      "[N3, N2, H]  ->  -I*(I13a23*ProjM(2, 1) + I13a32*ProjM(2, 1) + I14a23*ProjM(2, 1) + I14a32*ProjM(2, 1) + I15a23*ProjP(2, 1) + I15a32*ProjP(2, 1) + I16a23*ProjP(2, 1) + I16a32*ProjP(2, 1))/(2*vev)\n",
      "V_575\n",
      "[N4, N2, H]  ->  -I*(I13a24*ProjM(2, 1) + I13a42*ProjM(2, 1) + I14a24*ProjM(2, 1) + I14a42*ProjM(2, 1) + I15a24*ProjP(2, 1) + I15a42*ProjP(2, 1) + I16a24*ProjP(2, 1) + I16a42*ProjP(2, 1))/(2*vev)\n",
      "V_576\n",
      "[N5, N2, H]  ->  -I*(I13a25*ProjM(2, 1) + I13a52*ProjM(2, 1) + I14a25*ProjM(2, 1) + I14a52*ProjM(2, 1) + I15a25*ProjP(2, 1) + I15a52*ProjP(2, 1) + I16a25*ProjP(2, 1) + I16a52*ProjP(2, 1))/(2*vev)\n",
      "V_577\n",
      "[N6, N2, H]  ->  -I*(I13a26*ProjM(2, 1) + I13a62*ProjM(2, 1) + I14a26*ProjM(2, 1) + I14a62*ProjM(2, 1) + I15a26*ProjP(2, 1) + I15a62*ProjP(2, 1) + I16a26*ProjP(2, 1) + I16a62*ProjP(2, 1))/(2*vev)\n",
      "V_574\n",
      "[N3, N2, H]  ->  -I*(I13a23*ProjM(2, 1) + I13a32*ProjM(2, 1) + I14a23*ProjM(2, 1) + I14a32*ProjM(2, 1) + I15a23*ProjP(2, 1) + I15a32*ProjP(2, 1) + I16a23*ProjP(2, 1) + I16a32*ProjP(2, 1))/(2*vev)\n",
      "V_575\n",
      "[N4, N2, H]  ->  -I*(I13a24*ProjM(2, 1) + I13a42*ProjM(2, 1) + I14a24*ProjM(2, 1) + I14a42*ProjM(2, 1) + I15a24*ProjP(2, 1) + I15a42*ProjP(2, 1) + I16a24*ProjP(2, 1) + I16a42*ProjP(2, 1))/(2*vev)\n",
      "V_576\n",
      "[N5, N2, H]  ->  -I*(I13a25*ProjM(2, 1) + I13a52*ProjM(2, 1) + I14a25*ProjM(2, 1) + I14a52*ProjM(2, 1) + I15a25*ProjP(2, 1) + I15a52*ProjP(2, 1) + I16a25*ProjP(2, 1) + I16a52*ProjP(2, 1))/(2*vev)\n",
      "V_577\n",
      "[N6, N2, H]  ->  -I*(I13a26*ProjM(2, 1) + I13a62*ProjM(2, 1) + I14a26*ProjM(2, 1) + I14a62*ProjM(2, 1) + I15a26*ProjP(2, 1) + I15a62*ProjP(2, 1) + I16a26*ProjP(2, 1) + I16a62*ProjP(2, 1))/(2*vev)\n",
      "V_569\n",
      "[N3, N1, H]  ->  -I*(I13a13*ProjM(2, 1) + I13a31*ProjM(2, 1) + I14a13*ProjM(2, 1) + I14a31*ProjM(2, 1) + I15a13*ProjP(2, 1) + I15a31*ProjP(2, 1) + I16a13*ProjP(2, 1) + I16a31*ProjP(2, 1))/(2*vev)\n",
      "V_574\n",
      "[N3, N2, H]  ->  -I*(I13a23*ProjM(2, 1) + I13a32*ProjM(2, 1) + I14a23*ProjM(2, 1) + I14a32*ProjM(2, 1) + I15a23*ProjP(2, 1) + I15a32*ProjP(2, 1) + I16a23*ProjP(2, 1) + I16a32*ProjP(2, 1))/(2*vev)\n",
      "V_569\n",
      "[N3, N1, H]  ->  -I*(I13a13*ProjM(2, 1) + I13a31*ProjM(2, 1) + I14a13*ProjM(2, 1) + I14a31*ProjM(2, 1) + I15a13*ProjP(2, 1) + I15a31*ProjP(2, 1) + I16a13*ProjP(2, 1) + I16a31*ProjP(2, 1))/(2*vev)\n",
      "V_574\n",
      "[N3, N2, H]  ->  -I*(I13a23*ProjM(2, 1) + I13a32*ProjM(2, 1) + I14a23*ProjM(2, 1) + I14a32*ProjM(2, 1) + I15a23*ProjP(2, 1) + I15a32*ProjP(2, 1) + I16a23*ProjP(2, 1) + I16a32*ProjP(2, 1))/(2*vev)\n",
      "V_578\n",
      "[N3, N3, H]  ->  -I*(I13a33*ProjM(2, 1) + I14a33*ProjM(2, 1) + I15a33*ProjP(2, 1) + I16a33*ProjP(2, 1))/vev\n",
      "V_579\n",
      "[N4, N3, H]  ->  -I*(I13a34*ProjM(2, 1) + I13a43*ProjM(2, 1) + I14a34*ProjM(2, 1) + I14a43*ProjM(2, 1) + I15a34*ProjP(2, 1) + I15a43*ProjP(2, 1) + I16a34*ProjP(2, 1) + I16a43*ProjP(2, 1))/(2*vev)\n",
      "V_580\n",
      "[N5, N3, H]  ->  -I*(I13a35*ProjM(2, 1) + I13a53*ProjM(2, 1) + I14a35*ProjM(2, 1) + I14a53*ProjM(2, 1) + I15a35*ProjP(2, 1) + I15a53*ProjP(2, 1) + I16a35*ProjP(2, 1) + I16a53*ProjP(2, 1))/(2*vev)\n",
      "V_581\n",
      "[N6, N3, H]  ->  -I*(I13a36*ProjM(2, 1) + I13a63*ProjM(2, 1) + I14a36*ProjM(2, 1) + I14a63*ProjM(2, 1) + I15a36*ProjP(2, 1) + I15a63*ProjP(2, 1) + I16a36*ProjP(2, 1) + I16a63*ProjP(2, 1))/(2*vev)\n",
      "V_579\n",
      "[N4, N3, H]  ->  -I*(I13a34*ProjM(2, 1) + I13a43*ProjM(2, 1) + I14a34*ProjM(2, 1) + I14a43*ProjM(2, 1) + I15a34*ProjP(2, 1) + I15a43*ProjP(2, 1) + I16a34*ProjP(2, 1) + I16a43*ProjP(2, 1))/(2*vev)\n",
      "V_580\n",
      "[N5, N3, H]  ->  -I*(I13a35*ProjM(2, 1) + I13a53*ProjM(2, 1) + I14a35*ProjM(2, 1) + I14a53*ProjM(2, 1) + I15a35*ProjP(2, 1) + I15a53*ProjP(2, 1) + I16a35*ProjP(2, 1) + I16a53*ProjP(2, 1))/(2*vev)\n",
      "V_581\n",
      "[N6, N3, H]  ->  -I*(I13a36*ProjM(2, 1) + I13a63*ProjM(2, 1) + I14a36*ProjM(2, 1) + I14a63*ProjM(2, 1) + I15a36*ProjP(2, 1) + I15a63*ProjP(2, 1) + I16a36*ProjP(2, 1) + I16a63*ProjP(2, 1))/(2*vev)\n",
      "V_570\n",
      "[N4, N1, H]  ->  -I*(I13a14*ProjM(2, 1) + I13a41*ProjM(2, 1) + I14a14*ProjM(2, 1) + I14a41*ProjM(2, 1) + I15a14*ProjP(2, 1) + I15a41*ProjP(2, 1) + I16a14*ProjP(2, 1) + I16a41*ProjP(2, 1))/(2*vev)\n",
      "V_575\n",
      "[N4, N2, H]  ->  -I*(I13a24*ProjM(2, 1) + I13a42*ProjM(2, 1) + I14a24*ProjM(2, 1) + I14a42*ProjM(2, 1) + I15a24*ProjP(2, 1) + I15a42*ProjP(2, 1) + I16a24*ProjP(2, 1) + I16a42*ProjP(2, 1))/(2*vev)\n",
      "V_579\n",
      "[N4, N3, H]  ->  -I*(I13a34*ProjM(2, 1) + I13a43*ProjM(2, 1) + I14a34*ProjM(2, 1) + I14a43*ProjM(2, 1) + I15a34*ProjP(2, 1) + I15a43*ProjP(2, 1) + I16a34*ProjP(2, 1) + I16a43*ProjP(2, 1))/(2*vev)\n",
      "V_570\n",
      "[N4, N1, H]  ->  -I*(I13a14*ProjM(2, 1) + I13a41*ProjM(2, 1) + I14a14*ProjM(2, 1) + I14a41*ProjM(2, 1) + I15a14*ProjP(2, 1) + I15a41*ProjP(2, 1) + I16a14*ProjP(2, 1) + I16a41*ProjP(2, 1))/(2*vev)\n",
      "V_575\n",
      "[N4, N2, H]  ->  -I*(I13a24*ProjM(2, 1) + I13a42*ProjM(2, 1) + I14a24*ProjM(2, 1) + I14a42*ProjM(2, 1) + I15a24*ProjP(2, 1) + I15a42*ProjP(2, 1) + I16a24*ProjP(2, 1) + I16a42*ProjP(2, 1))/(2*vev)\n",
      "V_579\n",
      "[N4, N3, H]  ->  -I*(I13a34*ProjM(2, 1) + I13a43*ProjM(2, 1) + I14a34*ProjM(2, 1) + I14a43*ProjM(2, 1) + I15a34*ProjP(2, 1) + I15a43*ProjP(2, 1) + I16a34*ProjP(2, 1) + I16a43*ProjP(2, 1))/(2*vev)\n",
      "V_582\n",
      "[N4, N4, H]  ->  -I*(I13a44*ProjM(2, 1) + I14a44*ProjM(2, 1) + I15a44*ProjP(2, 1) + I16a44*ProjP(2, 1))/vev\n",
      "V_583\n",
      "[N5, N4, H]  ->  -I*(I13a45*ProjM(2, 1) + I13a54*ProjM(2, 1) + I14a45*ProjM(2, 1) + I14a54*ProjM(2, 1) + I15a45*ProjP(2, 1) + I15a54*ProjP(2, 1) + I16a45*ProjP(2, 1) + I16a54*ProjP(2, 1))/(2*vev)\n",
      "V_584\n",
      "[N6, N4, H]  ->  -I*(I13a46*ProjM(2, 1) + I13a64*ProjM(2, 1) + I14a46*ProjM(2, 1) + I14a64*ProjM(2, 1) + I15a46*ProjP(2, 1) + I15a64*ProjP(2, 1) + I16a46*ProjP(2, 1) + I16a64*ProjP(2, 1))/(2*vev)\n",
      "V_583\n",
      "[N5, N4, H]  ->  -I*(I13a45*ProjM(2, 1) + I13a54*ProjM(2, 1) + I14a45*ProjM(2, 1) + I14a54*ProjM(2, 1) + I15a45*ProjP(2, 1) + I15a54*ProjP(2, 1) + I16a45*ProjP(2, 1) + I16a54*ProjP(2, 1))/(2*vev)\n",
      "V_584\n",
      "[N6, N4, H]  ->  -I*(I13a46*ProjM(2, 1) + I13a64*ProjM(2, 1) + I14a46*ProjM(2, 1) + I14a64*ProjM(2, 1) + I15a46*ProjP(2, 1) + I15a64*ProjP(2, 1) + I16a46*ProjP(2, 1) + I16a64*ProjP(2, 1))/(2*vev)\n",
      "V_571\n",
      "[N5, N1, H]  ->  -I*(I13a15*ProjM(2, 1) + I13a51*ProjM(2, 1) + I14a15*ProjM(2, 1) + I14a51*ProjM(2, 1) + I15a15*ProjP(2, 1) + I15a51*ProjP(2, 1) + I16a15*ProjP(2, 1) + I16a51*ProjP(2, 1))/(2*vev)\n",
      "V_576\n",
      "[N5, N2, H]  ->  -I*(I13a25*ProjM(2, 1) + I13a52*ProjM(2, 1) + I14a25*ProjM(2, 1) + I14a52*ProjM(2, 1) + I15a25*ProjP(2, 1) + I15a52*ProjP(2, 1) + I16a25*ProjP(2, 1) + I16a52*ProjP(2, 1))/(2*vev)\n",
      "V_580\n",
      "[N5, N3, H]  ->  -I*(I13a35*ProjM(2, 1) + I13a53*ProjM(2, 1) + I14a35*ProjM(2, 1) + I14a53*ProjM(2, 1) + I15a35*ProjP(2, 1) + I15a53*ProjP(2, 1) + I16a35*ProjP(2, 1) + I16a53*ProjP(2, 1))/(2*vev)\n",
      "V_583\n",
      "[N5, N4, H]  ->  -I*(I13a45*ProjM(2, 1) + I13a54*ProjM(2, 1) + I14a45*ProjM(2, 1) + I14a54*ProjM(2, 1) + I15a45*ProjP(2, 1) + I15a54*ProjP(2, 1) + I16a45*ProjP(2, 1) + I16a54*ProjP(2, 1))/(2*vev)\n",
      "V_571\n",
      "[N5, N1, H]  ->  -I*(I13a15*ProjM(2, 1) + I13a51*ProjM(2, 1) + I14a15*ProjM(2, 1) + I14a51*ProjM(2, 1) + I15a15*ProjP(2, 1) + I15a51*ProjP(2, 1) + I16a15*ProjP(2, 1) + I16a51*ProjP(2, 1))/(2*vev)\n",
      "V_576\n",
      "[N5, N2, H]  ->  -I*(I13a25*ProjM(2, 1) + I13a52*ProjM(2, 1) + I14a25*ProjM(2, 1) + I14a52*ProjM(2, 1) + I15a25*ProjP(2, 1) + I15a52*ProjP(2, 1) + I16a25*ProjP(2, 1) + I16a52*ProjP(2, 1))/(2*vev)\n",
      "V_580\n",
      "[N5, N3, H]  ->  -I*(I13a35*ProjM(2, 1) + I13a53*ProjM(2, 1) + I14a35*ProjM(2, 1) + I14a53*ProjM(2, 1) + I15a35*ProjP(2, 1) + I15a53*ProjP(2, 1) + I16a35*ProjP(2, 1) + I16a53*ProjP(2, 1))/(2*vev)\n",
      "V_583\n",
      "[N5, N4, H]  ->  -I*(I13a45*ProjM(2, 1) + I13a54*ProjM(2, 1) + I14a45*ProjM(2, 1) + I14a54*ProjM(2, 1) + I15a45*ProjP(2, 1) + I15a54*ProjP(2, 1) + I16a45*ProjP(2, 1) + I16a54*ProjP(2, 1))/(2*vev)\n",
      "V_585\n",
      "[N5, N5, H]  ->  -I*(I13a55*ProjM(2, 1) + I14a55*ProjM(2, 1) + I15a55*ProjP(2, 1) + I16a55*ProjP(2, 1))/vev\n",
      "V_586\n",
      "[N6, N5, H]  ->  -I*(I13a56*ProjM(2, 1) + I13a65*ProjM(2, 1) + I14a56*ProjM(2, 1) + I14a65*ProjM(2, 1) + I15a56*ProjP(2, 1) + I15a65*ProjP(2, 1) + I16a56*ProjP(2, 1) + I16a65*ProjP(2, 1))/(2*vev)\n",
      "V_586\n",
      "[N6, N5, H]  ->  -I*(I13a56*ProjM(2, 1) + I13a65*ProjM(2, 1) + I14a56*ProjM(2, 1) + I14a65*ProjM(2, 1) + I15a56*ProjP(2, 1) + I15a65*ProjP(2, 1) + I16a56*ProjP(2, 1) + I16a65*ProjP(2, 1))/(2*vev)\n",
      "V_572\n",
      "[N6, N1, H]  ->  -I*(I13a16*ProjM(2, 1) + I13a61*ProjM(2, 1) + I14a16*ProjM(2, 1) + I14a61*ProjM(2, 1) + I15a16*ProjP(2, 1) + I15a61*ProjP(2, 1) + I16a16*ProjP(2, 1) + I16a61*ProjP(2, 1))/(2*vev)\n",
      "V_577\n",
      "[N6, N2, H]  ->  -I*(I13a26*ProjM(2, 1) + I13a62*ProjM(2, 1) + I14a26*ProjM(2, 1) + I14a62*ProjM(2, 1) + I15a26*ProjP(2, 1) + I15a62*ProjP(2, 1) + I16a26*ProjP(2, 1) + I16a62*ProjP(2, 1))/(2*vev)\n",
      "V_581\n",
      "[N6, N3, H]  ->  -I*(I13a36*ProjM(2, 1) + I13a63*ProjM(2, 1) + I14a36*ProjM(2, 1) + I14a63*ProjM(2, 1) + I15a36*ProjP(2, 1) + I15a63*ProjP(2, 1) + I16a36*ProjP(2, 1) + I16a63*ProjP(2, 1))/(2*vev)\n",
      "V_584\n",
      "[N6, N4, H]  ->  -I*(I13a46*ProjM(2, 1) + I13a64*ProjM(2, 1) + I14a46*ProjM(2, 1) + I14a64*ProjM(2, 1) + I15a46*ProjP(2, 1) + I15a64*ProjP(2, 1) + I16a46*ProjP(2, 1) + I16a64*ProjP(2, 1))/(2*vev)\n",
      "V_586\n",
      "[N6, N5, H]  ->  -I*(I13a56*ProjM(2, 1) + I13a65*ProjM(2, 1) + I14a56*ProjM(2, 1) + I14a65*ProjM(2, 1) + I15a56*ProjP(2, 1) + I15a65*ProjP(2, 1) + I16a56*ProjP(2, 1) + I16a65*ProjP(2, 1))/(2*vev)\n",
      "V_572\n",
      "[N6, N1, H]  ->  -I*(I13a16*ProjM(2, 1) + I13a61*ProjM(2, 1) + I14a16*ProjM(2, 1) + I14a61*ProjM(2, 1) + I15a16*ProjP(2, 1) + I15a61*ProjP(2, 1) + I16a16*ProjP(2, 1) + I16a61*ProjP(2, 1))/(2*vev)\n",
      "V_577\n",
      "[N6, N2, H]  ->  -I*(I13a26*ProjM(2, 1) + I13a62*ProjM(2, 1) + I14a26*ProjM(2, 1) + I14a62*ProjM(2, 1) + I15a26*ProjP(2, 1) + I15a62*ProjP(2, 1) + I16a26*ProjP(2, 1) + I16a62*ProjP(2, 1))/(2*vev)\n",
      "V_581\n",
      "[N6, N3, H]  ->  -I*(I13a36*ProjM(2, 1) + I13a63*ProjM(2, 1) + I14a36*ProjM(2, 1) + I14a63*ProjM(2, 1) + I15a36*ProjP(2, 1) + I15a63*ProjP(2, 1) + I16a36*ProjP(2, 1) + I16a63*ProjP(2, 1))/(2*vev)\n",
      "V_584\n",
      "[N6, N4, H]  ->  -I*(I13a46*ProjM(2, 1) + I13a64*ProjM(2, 1) + I14a46*ProjM(2, 1) + I14a64*ProjM(2, 1) + I15a46*ProjP(2, 1) + I15a64*ProjP(2, 1) + I16a46*ProjP(2, 1) + I16a64*ProjP(2, 1))/(2*vev)\n",
      "V_586\n",
      "[N6, N5, H]  ->  -I*(I13a56*ProjM(2, 1) + I13a65*ProjM(2, 1) + I14a56*ProjM(2, 1) + I14a65*ProjM(2, 1) + I15a56*ProjP(2, 1) + I15a65*ProjP(2, 1) + I16a56*ProjP(2, 1) + I16a65*ProjP(2, 1))/(2*vev)\n",
      "V_587\n",
      "[N6, N6, H]  ->  -I*(I13a66*ProjM(2, 1) + I14a66*ProjM(2, 1) + I15a66*ProjP(2, 1) + I16a66*ProjP(2, 1))/vev\n"
     ]
    }
   ],
   "source": [
    "for v in VerticesHNiNj:\n",
    "    print(v)\n",
    "    print(v.particles, ' -> ', feynman_rules[v].factor())"
   ]
  },
  {
   "cell_type": "markdown",
   "metadata": {},
   "source": [
    "# Interactions with Charged scalars"
   ]
  },
  {
   "cell_type": "markdown",
   "metadata": {},
   "source": [
    "## Interactions with $H_{1,2}^+$"
   ]
  },
  {
   "cell_type": "markdown",
   "metadata": {},
   "source": [
    "### Vertexes $H_{1,2}^+$ FF"
   ]
  },
  {
   "cell_type": "code",
   "execution_count": 28,
   "metadata": {},
   "outputs": [
    {
     "data": {
      "text/plain": [
       "[e__minus__,\n",
       " e__plus__,\n",
       " mu__minus__,\n",
       " mu__plus__,\n",
       " ta__minus__,\n",
       " ta__plus__,\n",
       " N1,\n",
       " N2,\n",
       " N3,\n",
       " N4,\n",
       " N5,\n",
       " N6]"
      ]
     },
     "execution_count": 28,
     "metadata": {},
     "output_type": "execute_result"
    }
   ],
   "source": [
    "leptons = [\n",
    "    ptc for ptc in UFOModel.particles if ptc.spin==2 and ptc.color==1\n",
    "]\n",
    "leptons"
   ]
  },
  {
   "cell_type": "code",
   "execution_count": 30,
   "metadata": {},
   "outputs": [],
   "source": [
    "VerticesH1plusFF1 = flatten_list(\n",
    "    [\n",
    "    UFOModel.find_vertices_involving(['HP1', X1.name, X2.name], number_particles=3)\n",
    "    for X1 in leptons for X2 in leptons\n",
    "    if (UFOModel.find_vertices_involving(['HP1', X1.name, X2.name], number_particles=3) )\n",
    "]\n",
    ")\n",
    "VerticesH1plusFF2 = []\n",
    "for v in VerticesH1plusFF1:\n",
    "    if v not in VerticesH1plusFF2:\n",
    "        VerticesH1plusFF2.append(v)\n",
    "\n",
    "VerticesH2plusFF1 = flatten_list(\n",
    "    [\n",
    "    UFOModel.find_vertices_involving(['HP2', X1.name, X2.name], number_particles=3)\n",
    "    for X1 in leptons for X2 in leptons\n",
    "    if (UFOModel.find_vertices_involving(['HP2', X1.name, X2.name], number_particles=3) )\n",
    "]\n",
    ")\n",
    "VerticesH2plusFF2 = []\n",
    "for v in VerticesH2plusFF1:\n",
    "    if v not in VerticesH2plusFF2:\n",
    "        VerticesH2plusFF2.append(v)"
   ]
  },
  {
   "cell_type": "code",
   "execution_count": 31,
   "metadata": {},
   "outputs": [
    {
     "name": "stdout",
     "output_type": "stream",
     "text": [
      "V_834\n",
      "[N1, e__minus__, HP1]  ->  I*(I43a11 + I44a11)*ProjP(2, 1)/(2*vR)\n",
      "V_835\n",
      "[N2, e__minus__, HP1]  ->  I*(I43a21 + I44a21)*ProjP(2, 1)/(2*vR)\n",
      "V_836\n",
      "[N3, e__minus__, HP1]  ->  I*(I43a31 + I44a31)*ProjP(2, 1)/(2*vR)\n",
      "V_837\n",
      "[N4, e__minus__, HP1]  ->  I*(I43a41 + I44a41)*ProjP(2, 1)/(2*vR)\n",
      "V_838\n",
      "[N5, e__minus__, HP1]  ->  I*(I43a51 + I44a51)*ProjP(2, 1)/(2*vR)\n",
      "V_839\n",
      "[N6, e__minus__, HP1]  ->  I*(I43a61 + I44a61)*ProjP(2, 1)/(2*vR)\n",
      "V_840\n",
      "[N1, mu__minus__, HP1]  ->  I*(I43a12 + I44a12)*ProjP(2, 1)/(2*vR)\n",
      "V_841\n",
      "[N2, mu__minus__, HP1]  ->  I*(I43a22 + I44a22)*ProjP(2, 1)/(2*vR)\n",
      "V_842\n",
      "[N3, mu__minus__, HP1]  ->  I*(I43a32 + I44a32)*ProjP(2, 1)/(2*vR)\n",
      "V_843\n",
      "[N4, mu__minus__, HP1]  ->  I*(I43a42 + I44a42)*ProjP(2, 1)/(2*vR)\n",
      "V_844\n",
      "[N5, mu__minus__, HP1]  ->  I*(I43a52 + I44a52)*ProjP(2, 1)/(2*vR)\n",
      "V_845\n",
      "[N6, mu__minus__, HP1]  ->  I*(I43a62 + I44a62)*ProjP(2, 1)/(2*vR)\n",
      "V_846\n",
      "[N1, ta__minus__, HP1]  ->  I*(I43a13 + I44a13)*ProjP(2, 1)/(2*vR)\n",
      "V_847\n",
      "[N2, ta__minus__, HP1]  ->  I*(I43a23 + I44a23)*ProjP(2, 1)/(2*vR)\n",
      "V_848\n",
      "[N3, ta__minus__, HP1]  ->  I*(I43a33 + I44a33)*ProjP(2, 1)/(2*vR)\n",
      "V_849\n",
      "[N4, ta__minus__, HP1]  ->  I*(I43a43 + I44a43)*ProjP(2, 1)/(2*vR)\n",
      "V_850\n",
      "[N5, ta__minus__, HP1]  ->  I*(I43a53 + I44a53)*ProjP(2, 1)/(2*vR)\n",
      "V_851\n",
      "[N6, ta__minus__, HP1]  ->  I*(I43a63 + I44a63)*ProjP(2, 1)/(2*vR)\n",
      "V_630\n",
      "[N1, e__minus__, HP2]  ->  sqrt(2)*I*((I23a11*k1**2 + I23a11*k2**2 - 2*I24a11*k1*k2)*ProjP(2, 1) - (-2*I21a11*k1*k2 + I22a11*k1**2 + I22a11*k2**2)*ProjM(2, 1))/(vev*(k1 - k2)*(k1 + k2))\n",
      "V_631\n",
      "[N2, e__minus__, HP2]  ->  sqrt(2)*I*((I23a21*k1**2 + I23a21*k2**2 - 2*I24a21*k1*k2)*ProjP(2, 1) - (-2*I21a21*k1*k2 + I22a21*k1**2 + I22a21*k2**2)*ProjM(2, 1))/(vev*(k1 - k2)*(k1 + k2))\n",
      "V_632\n",
      "[N3, e__minus__, HP2]  ->  sqrt(2)*I*((I23a31*k1**2 + I23a31*k2**2 - 2*I24a31*k1*k2)*ProjP(2, 1) - (-2*I21a31*k1*k2 + I22a31*k1**2 + I22a31*k2**2)*ProjM(2, 1))/(vev*(k1 - k2)*(k1 + k2))\n",
      "V_633\n",
      "[N4, e__minus__, HP2]  ->  sqrt(2)*I*((I23a41*k1**2 + I23a41*k2**2 - 2*I24a41*k1*k2)*ProjP(2, 1) - (-2*I21a41*k1*k2 + I22a41*k1**2 + I22a41*k2**2)*ProjM(2, 1))/(vev*(k1 - k2)*(k1 + k2))\n",
      "V_634\n",
      "[N5, e__minus__, HP2]  ->  sqrt(2)*I*((I23a51*k1**2 + I23a51*k2**2 - 2*I24a51*k1*k2)*ProjP(2, 1) - (-2*I21a51*k1*k2 + I22a51*k1**2 + I22a51*k2**2)*ProjM(2, 1))/(vev*(k1 - k2)*(k1 + k2))\n",
      "V_635\n",
      "[N6, e__minus__, HP2]  ->  sqrt(2)*I*((I23a61*k1**2 + I23a61*k2**2 - 2*I24a61*k1*k2)*ProjP(2, 1) - (-2*I21a61*k1*k2 + I22a61*k1**2 + I22a61*k2**2)*ProjM(2, 1))/(vev*(k1 - k2)*(k1 + k2))\n",
      "V_636\n",
      "[N1, mu__minus__, HP2]  ->  sqrt(2)*I*((I23a12*k1**2 + I23a12*k2**2 - 2*I24a12*k1*k2)*ProjP(2, 1) - (-2*I21a12*k1*k2 + I22a12*k1**2 + I22a12*k2**2)*ProjM(2, 1))/(vev*(k1 - k2)*(k1 + k2))\n",
      "V_637\n",
      "[N2, mu__minus__, HP2]  ->  sqrt(2)*I*((I23a22*k1**2 + I23a22*k2**2 - 2*I24a22*k1*k2)*ProjP(2, 1) - (-2*I21a22*k1*k2 + I22a22*k1**2 + I22a22*k2**2)*ProjM(2, 1))/(vev*(k1 - k2)*(k1 + k2))\n",
      "V_638\n",
      "[N3, mu__minus__, HP2]  ->  sqrt(2)*I*((I23a32*k1**2 + I23a32*k2**2 - 2*I24a32*k1*k2)*ProjP(2, 1) - (-2*I21a32*k1*k2 + I22a32*k1**2 + I22a32*k2**2)*ProjM(2, 1))/(vev*(k1 - k2)*(k1 + k2))\n",
      "V_639\n",
      "[N4, mu__minus__, HP2]  ->  sqrt(2)*I*((I23a42*k1**2 + I23a42*k2**2 - 2*I24a42*k1*k2)*ProjP(2, 1) - (-2*I21a42*k1*k2 + I22a42*k1**2 + I22a42*k2**2)*ProjM(2, 1))/(vev*(k1 - k2)*(k1 + k2))\n",
      "V_640\n",
      "[N5, mu__minus__, HP2]  ->  sqrt(2)*I*((I23a52*k1**2 + I23a52*k2**2 - 2*I24a52*k1*k2)*ProjP(2, 1) - (-2*I21a52*k1*k2 + I22a52*k1**2 + I22a52*k2**2)*ProjM(2, 1))/(vev*(k1 - k2)*(k1 + k2))\n",
      "V_641\n",
      "[N6, mu__minus__, HP2]  ->  sqrt(2)*I*((I23a62*k1**2 + I23a62*k2**2 - 2*I24a62*k1*k2)*ProjP(2, 1) - (-2*I21a62*k1*k2 + I22a62*k1**2 + I22a62*k2**2)*ProjM(2, 1))/(vev*(k1 - k2)*(k1 + k2))\n",
      "V_642\n",
      "[N1, ta__minus__, HP2]  ->  sqrt(2)*I*((I23a13*k1**2 + I23a13*k2**2 - 2*I24a13*k1*k2)*ProjP(2, 1) - (-2*I21a13*k1*k2 + I22a13*k1**2 + I22a13*k2**2)*ProjM(2, 1))/(vev*(k1 - k2)*(k1 + k2))\n",
      "V_643\n",
      "[N2, ta__minus__, HP2]  ->  sqrt(2)*I*((I23a23*k1**2 + I23a23*k2**2 - 2*I24a23*k1*k2)*ProjP(2, 1) - (-2*I21a23*k1*k2 + I22a23*k1**2 + I22a23*k2**2)*ProjM(2, 1))/(vev*(k1 - k2)*(k1 + k2))\n",
      "V_644\n",
      "[N3, ta__minus__, HP2]  ->  sqrt(2)*I*((I23a33*k1**2 + I23a33*k2**2 - 2*I24a33*k1*k2)*ProjP(2, 1) - (-2*I21a33*k1*k2 + I22a33*k1**2 + I22a33*k2**2)*ProjM(2, 1))/(vev*(k1 - k2)*(k1 + k2))\n",
      "V_645\n",
      "[N4, ta__minus__, HP2]  ->  sqrt(2)*I*((I23a43*k1**2 + I23a43*k2**2 - 2*I24a43*k1*k2)*ProjP(2, 1) - (-2*I21a43*k1*k2 + I22a43*k1**2 + I22a43*k2**2)*ProjM(2, 1))/(vev*(k1 - k2)*(k1 + k2))\n",
      "V_646\n",
      "[N5, ta__minus__, HP2]  ->  sqrt(2)*I*((I23a53*k1**2 + I23a53*k2**2 - 2*I24a53*k1*k2)*ProjP(2, 1) - (-2*I21a53*k1*k2 + I22a53*k1**2 + I22a53*k2**2)*ProjM(2, 1))/(vev*(k1 - k2)*(k1 + k2))\n",
      "V_647\n",
      "[N6, ta__minus__, HP2]  ->  sqrt(2)*I*((I23a63*k1**2 + I23a63*k2**2 - 2*I24a63*k1*k2)*ProjP(2, 1) - (-2*I21a63*k1*k2 + I22a63*k1**2 + I22a63*k2**2)*ProjM(2, 1))/(vev*(k1 - k2)*(k1 + k2))\n"
     ]
    }
   ],
   "source": [
    "for v in VerticesH1plusFF2:\n",
    "    print(v)\n",
    "    print(v.particles, ' -> ', feynman_rules[v])\n",
    "\n",
    "for v in VerticesH2plusFF2:\n",
    "    print(v)\n",
    "    print(v.particles, ' -> ', feynman_rules[v])"
   ]
  },
  {
   "cell_type": "code",
   "execution_count": 32,
   "metadata": {},
   "outputs": [],
   "source": [
    "VerticesH1minusFF1 = flatten_list(\n",
    "    [\n",
    "    UFOModel.find_vertices_involving(['HM1', X1.name, X2.name], number_particles=3)\n",
    "    for X1 in leptons for X2 in leptons\n",
    "    if (UFOModel.find_vertices_involving(['HM1', X1.name, X2.name], number_particles=3) )\n",
    "]\n",
    ")\n",
    "VerticesH1minusFF2 = []\n",
    "for v in VerticesH1minusFF1:\n",
    "    if v not in VerticesH1minusFF2:\n",
    "        VerticesH1minusFF2.append(v)\n",
    "\n",
    "VerticesH2minusFF1 = flatten_list(\n",
    "    [\n",
    "    UFOModel.find_vertices_involving(['HM2', X1.name, X2.name], number_particles=3)\n",
    "    for X1 in leptons for X2 in leptons\n",
    "    if (UFOModel.find_vertices_involving(['HM2', X1.name, X2.name], number_particles=3) )\n",
    "]\n",
    ")\n",
    "VerticesH2minusFF2 = []\n",
    "for v in VerticesH2minusFF1:\n",
    "    if v not in VerticesH2minusFF2:\n",
    "        VerticesH2minusFF2.append(v)"
   ]
  },
  {
   "cell_type": "code",
   "execution_count": 33,
   "metadata": {},
   "outputs": [
    {
     "name": "stdout",
     "output_type": "stream",
     "text": [
      "V_1173\n",
      "[e__plus__, N1, HM1]  ->  I*(I51a11 + I52a11)*ProjM(2, 1)/(2*vR)\n",
      "V_1176\n",
      "[e__plus__, N2, HM1]  ->  I*(I51a21 + I52a21)*ProjM(2, 1)/(2*vR)\n",
      "V_1179\n",
      "[e__plus__, N3, HM1]  ->  I*(I51a31 + I52a31)*ProjM(2, 1)/(2*vR)\n",
      "V_1182\n",
      "[e__plus__, N4, HM1]  ->  I*(I51a41 + I52a41)*ProjM(2, 1)/(2*vR)\n",
      "V_1185\n",
      "[e__plus__, N5, HM1]  ->  I*(I51a51 + I52a51)*ProjM(2, 1)/(2*vR)\n",
      "V_1188\n",
      "[e__plus__, N6, HM1]  ->  I*(I51a61 + I52a61)*ProjM(2, 1)/(2*vR)\n",
      "V_1174\n",
      "[mu__plus__, N1, HM1]  ->  I*(I51a12 + I52a12)*ProjM(2, 1)/(2*vR)\n",
      "V_1177\n",
      "[mu__plus__, N2, HM1]  ->  I*(I51a22 + I52a22)*ProjM(2, 1)/(2*vR)\n",
      "V_1180\n",
      "[mu__plus__, N3, HM1]  ->  I*(I51a32 + I52a32)*ProjM(2, 1)/(2*vR)\n",
      "V_1183\n",
      "[mu__plus__, N4, HM1]  ->  I*(I51a42 + I52a42)*ProjM(2, 1)/(2*vR)\n",
      "V_1186\n",
      "[mu__plus__, N5, HM1]  ->  I*(I51a52 + I52a52)*ProjM(2, 1)/(2*vR)\n",
      "V_1189\n",
      "[mu__plus__, N6, HM1]  ->  I*(I51a62 + I52a62)*ProjM(2, 1)/(2*vR)\n",
      "V_1175\n",
      "[ta__plus__, N1, HM1]  ->  I*(I51a13 + I52a13)*ProjM(2, 1)/(2*vR)\n",
      "V_1178\n",
      "[ta__plus__, N2, HM1]  ->  I*(I51a23 + I52a23)*ProjM(2, 1)/(2*vR)\n",
      "V_1181\n",
      "[ta__plus__, N3, HM1]  ->  I*(I51a33 + I52a33)*ProjM(2, 1)/(2*vR)\n",
      "V_1184\n",
      "[ta__plus__, N4, HM1]  ->  I*(I51a43 + I52a43)*ProjM(2, 1)/(2*vR)\n",
      "V_1187\n",
      "[ta__plus__, N5, HM1]  ->  I*(I51a53 + I52a53)*ProjM(2, 1)/(2*vR)\n",
      "V_1190\n",
      "[ta__plus__, N6, HM1]  ->  I*(I51a63 + I52a63)*ProjM(2, 1)/(2*vR)\n",
      "V_684\n",
      "[e__plus__, N1, HM2]  ->  sqrt(2)*I*((-2*I25a11*k1*k2 + I27a11*k1**2 + I27a11*k2**2)*ProjM(2, 1) - (-2*I26a11*k1*k2 + I28a11*k1**2 + I28a11*k2**2)*ProjP(2, 1))/(vev*(k1 - k2)*(k1 + k2))\n",
      "V_687\n",
      "[e__plus__, N2, HM2]  ->  sqrt(2)*I*((-2*I25a21*k1*k2 + I27a21*k1**2 + I27a21*k2**2)*ProjM(2, 1) - (-2*I26a21*k1*k2 + I28a21*k1**2 + I28a21*k2**2)*ProjP(2, 1))/(vev*(k1 - k2)*(k1 + k2))\n",
      "V_690\n",
      "[e__plus__, N3, HM2]  ->  sqrt(2)*I*((-2*I25a31*k1*k2 + I27a31*k1**2 + I27a31*k2**2)*ProjM(2, 1) - (-2*I26a31*k1*k2 + I28a31*k1**2 + I28a31*k2**2)*ProjP(2, 1))/(vev*(k1 - k2)*(k1 + k2))\n",
      "V_693\n",
      "[e__plus__, N4, HM2]  ->  sqrt(2)*I*((-2*I25a41*k1*k2 + I27a41*k1**2 + I27a41*k2**2)*ProjM(2, 1) - (-2*I26a41*k1*k2 + I28a41*k1**2 + I28a41*k2**2)*ProjP(2, 1))/(vev*(k1 - k2)*(k1 + k2))\n",
      "V_696\n",
      "[e__plus__, N5, HM2]  ->  sqrt(2)*I*((-2*I25a51*k1*k2 + I27a51*k1**2 + I27a51*k2**2)*ProjM(2, 1) - (-2*I26a51*k1*k2 + I28a51*k1**2 + I28a51*k2**2)*ProjP(2, 1))/(vev*(k1 - k2)*(k1 + k2))\n",
      "V_699\n",
      "[e__plus__, N6, HM2]  ->  sqrt(2)*I*((-2*I25a61*k1*k2 + I27a61*k1**2 + I27a61*k2**2)*ProjM(2, 1) - (-2*I26a61*k1*k2 + I28a61*k1**2 + I28a61*k2**2)*ProjP(2, 1))/(vev*(k1 - k2)*(k1 + k2))\n",
      "V_685\n",
      "[mu__plus__, N1, HM2]  ->  sqrt(2)*I*((-2*I25a12*k1*k2 + I27a12*k1**2 + I27a12*k2**2)*ProjM(2, 1) - (-2*I26a12*k1*k2 + I28a12*k1**2 + I28a12*k2**2)*ProjP(2, 1))/(vev*(k1 - k2)*(k1 + k2))\n",
      "V_688\n",
      "[mu__plus__, N2, HM2]  ->  sqrt(2)*I*((-2*I25a22*k1*k2 + I27a22*k1**2 + I27a22*k2**2)*ProjM(2, 1) - (-2*I26a22*k1*k2 + I28a22*k1**2 + I28a22*k2**2)*ProjP(2, 1))/(vev*(k1 - k2)*(k1 + k2))\n",
      "V_691\n",
      "[mu__plus__, N3, HM2]  ->  sqrt(2)*I*((-2*I25a32*k1*k2 + I27a32*k1**2 + I27a32*k2**2)*ProjM(2, 1) - (-2*I26a32*k1*k2 + I28a32*k1**2 + I28a32*k2**2)*ProjP(2, 1))/(vev*(k1 - k2)*(k1 + k2))\n",
      "V_694\n",
      "[mu__plus__, N4, HM2]  ->  sqrt(2)*I*((-2*I25a42*k1*k2 + I27a42*k1**2 + I27a42*k2**2)*ProjM(2, 1) - (-2*I26a42*k1*k2 + I28a42*k1**2 + I28a42*k2**2)*ProjP(2, 1))/(vev*(k1 - k2)*(k1 + k2))\n",
      "V_697\n",
      "[mu__plus__, N5, HM2]  ->  sqrt(2)*I*((-2*I25a52*k1*k2 + I27a52*k1**2 + I27a52*k2**2)*ProjM(2, 1) - (-2*I26a52*k1*k2 + I28a52*k1**2 + I28a52*k2**2)*ProjP(2, 1))/(vev*(k1 - k2)*(k1 + k2))\n",
      "V_700\n",
      "[mu__plus__, N6, HM2]  ->  sqrt(2)*I*((-2*I25a62*k1*k2 + I27a62*k1**2 + I27a62*k2**2)*ProjM(2, 1) - (-2*I26a62*k1*k2 + I28a62*k1**2 + I28a62*k2**2)*ProjP(2, 1))/(vev*(k1 - k2)*(k1 + k2))\n",
      "V_686\n",
      "[ta__plus__, N1, HM2]  ->  sqrt(2)*I*((-2*I25a13*k1*k2 + I27a13*k1**2 + I27a13*k2**2)*ProjM(2, 1) - (-2*I26a13*k1*k2 + I28a13*k1**2 + I28a13*k2**2)*ProjP(2, 1))/(vev*(k1 - k2)*(k1 + k2))\n",
      "V_689\n",
      "[ta__plus__, N2, HM2]  ->  sqrt(2)*I*((-2*I25a23*k1*k2 + I27a23*k1**2 + I27a23*k2**2)*ProjM(2, 1) - (-2*I26a23*k1*k2 + I28a23*k1**2 + I28a23*k2**2)*ProjP(2, 1))/(vev*(k1 - k2)*(k1 + k2))\n",
      "V_692\n",
      "[ta__plus__, N3, HM2]  ->  sqrt(2)*I*((-2*I25a33*k1*k2 + I27a33*k1**2 + I27a33*k2**2)*ProjM(2, 1) - (-2*I26a33*k1*k2 + I28a33*k1**2 + I28a33*k2**2)*ProjP(2, 1))/(vev*(k1 - k2)*(k1 + k2))\n",
      "V_695\n",
      "[ta__plus__, N4, HM2]  ->  sqrt(2)*I*((-2*I25a43*k1*k2 + I27a43*k1**2 + I27a43*k2**2)*ProjM(2, 1) - (-2*I26a43*k1*k2 + I28a43*k1**2 + I28a43*k2**2)*ProjP(2, 1))/(vev*(k1 - k2)*(k1 + k2))\n",
      "V_698\n",
      "[ta__plus__, N5, HM2]  ->  sqrt(2)*I*((-2*I25a53*k1*k2 + I27a53*k1**2 + I27a53*k2**2)*ProjM(2, 1) - (-2*I26a53*k1*k2 + I28a53*k1**2 + I28a53*k2**2)*ProjP(2, 1))/(vev*(k1 - k2)*(k1 + k2))\n",
      "V_701\n",
      "[ta__plus__, N6, HM2]  ->  sqrt(2)*I*((-2*I25a63*k1*k2 + I27a63*k1**2 + I27a63*k2**2)*ProjM(2, 1) - (-2*I26a63*k1*k2 + I28a63*k1**2 + I28a63*k2**2)*ProjP(2, 1))/(vev*(k1 - k2)*(k1 + k2))\n"
     ]
    }
   ],
   "source": [
    "for v in VerticesH1minusFF2:\n",
    "    print(v)\n",
    "    print(v.particles, ' -> ', feynman_rules[v])\n",
    "\n",
    "for v in VerticesH2minusFF2:\n",
    "    print(v)\n",
    "    print(v.particles, ' -> ', feynman_rules[v])"
   ]
  },
  {
   "cell_type": "markdown",
   "metadata": {},
   "source": [
    "## Vertexes $X^\\pm_{L,R}FF$ with $X=S,V$"
   ]
  },
  {
   "cell_type": "code",
   "execution_count": 34,
   "metadata": {},
   "outputs": [
    {
     "name": "stdout",
     "output_type": "stream",
     "text": [
      "[a, Z, W__plus__, W__minus__, g, W2__plus__, W2__minus__, Z2, ghG, ghG__tilde__, e__minus__, e__plus__, mu__minus__, mu__plus__, ta__minus__, ta__plus__, u, u__tilde__, c, c__tilde__, t, t__tilde__, d, d__tilde__, s, s__tilde__, b, b__tilde__, N1, N2, N3, N4, N5, N6, H, H01, H02, H03, G01, G02, GL__plus__, GL__minus__, GR__plus__, GR__minus__, HP1, HM1, HP2, HM2, HL__plus____plus__, HL__minus____minus__, HR__plus____plus__, HR__minus____minus__, A01, A02]\n"
     ]
    }
   ],
   "source": [
    "print(UFOModel.particles)"
   ]
  },
  {
   "cell_type": "code",
   "execution_count": 35,
   "metadata": {},
   "outputs": [
    {
     "name": "stdout",
     "output_type": "stream",
     "text": [
      "[]\n"
     ]
    }
   ],
   "source": [
    "VerticesGLplus = UFOModel.find_vertices_involving(['GL__minus__'])\n",
    "print(VerticesGLplus)"
   ]
  },
  {
   "cell_type": "code",
   "execution_count": 36,
   "metadata": {},
   "outputs": [
    {
     "data": {
      "text/plain": [
       "False"
      ]
     },
     "execution_count": 36,
     "metadata": {},
     "output_type": "execute_result"
    }
   ],
   "source": [
    "leptons[0].charge != -leptons[1].charge"
   ]
  },
  {
   "cell_type": "code",
   "execution_count": 37,
   "metadata": {},
   "outputs": [],
   "source": [
    "VerticesXplusminusFF1 = flatten_list(\n",
    "    [\n",
    "    UFOModel.find_vertices_involving([ X1.name, X2.name, X3.name], number_particles=3)\n",
    "    for X1 in leptons for X2 in leptons for X3 in charged_SVplus\n",
    "    if (UFOModel.find_vertices_involving([ X1.name, X2.name], number_particles=3) and X1 != X2)\n",
    "]\n",
    ")\n",
    "VerticesXplusminusFF2 = []\n",
    "for v in VerticesXplusminusFF1:\n",
    "    if v not in VerticesXplusminusFF2:\n",
    "        VerticesXplusminusFF2.append(v)"
   ]
  },
  {
   "cell_type": "code",
   "execution_count": 38,
   "metadata": {},
   "outputs": [
    {
     "name": "stdout",
     "output_type": "stream",
     "text": [
      "V_853\n",
      "[mu__minus__, e__minus__, HL__plus____plus__]  ->  sqrt(2)*I*(I45a12 + I45a21 + I46a12 + I46a21)*ProjP(2, 1)/(4*vR)\n",
      "V_787\n",
      "[mu__minus__, e__minus__, HR__plus____plus__]  ->  sqrt(2)*I*(I37a12 + I37a21 + I38a12 + I38a21)*ProjM(2, 1)/(4*vR)\n",
      "V_854\n",
      "[ta__minus__, e__minus__, HL__plus____plus__]  ->  sqrt(2)*I*(I45a13 + I45a31 + I46a13 + I46a31)*ProjP(2, 1)/(4*vR)\n",
      "V_788\n",
      "[ta__minus__, e__minus__, HR__plus____plus__]  ->  sqrt(2)*I*(I37a13 + I37a31 + I38a13 + I38a31)*ProjM(2, 1)/(4*vR)\n",
      "V_648\n",
      "[N1, e__minus__, GL__plus__]  ->  sqrt(2)*I*(I21a11*ProjM(2, 1) - I24a11*ProjP(2, 1))/vev\n",
      "V_768\n",
      "[N1, e__minus__, GR__plus__]  ->  I*(I35a11 + I36a11)*ProjM(2, 1)/(2*vR)\n",
      "V_834\n",
      "[N1, e__minus__, HP1]  ->  I*(I43a11 + I44a11)*ProjP(2, 1)/(2*vR)\n",
      "V_630\n",
      "[N1, e__minus__, HP2]  ->  sqrt(2)*I*((I23a11*k1**2 + I23a11*k2**2 - 2*I24a11*k1*k2)*ProjP(2, 1) - (-2*I21a11*k1*k2 + I22a11*k1**2 + I22a11*k2**2)*ProjM(2, 1))/(vev*(k1 - k2)*(k1 + k2))\n",
      "V_649\n",
      "[N2, e__minus__, GL__plus__]  ->  sqrt(2)*I*(I21a21*ProjM(2, 1) - I24a21*ProjP(2, 1))/vev\n",
      "V_769\n",
      "[N2, e__minus__, GR__plus__]  ->  I*(I35a21 + I36a21)*ProjM(2, 1)/(2*vR)\n",
      "V_835\n",
      "[N2, e__minus__, HP1]  ->  I*(I43a21 + I44a21)*ProjP(2, 1)/(2*vR)\n",
      "V_631\n",
      "[N2, e__minus__, HP2]  ->  sqrt(2)*I*((I23a21*k1**2 + I23a21*k2**2 - 2*I24a21*k1*k2)*ProjP(2, 1) - (-2*I21a21*k1*k2 + I22a21*k1**2 + I22a21*k2**2)*ProjM(2, 1))/(vev*(k1 - k2)*(k1 + k2))\n",
      "V_650\n",
      "[N3, e__minus__, GL__plus__]  ->  sqrt(2)*I*(I21a31*ProjM(2, 1) - I24a31*ProjP(2, 1))/vev\n",
      "V_770\n",
      "[N3, e__minus__, GR__plus__]  ->  I*(I35a31 + I36a31)*ProjM(2, 1)/(2*vR)\n",
      "V_836\n",
      "[N3, e__minus__, HP1]  ->  I*(I43a31 + I44a31)*ProjP(2, 1)/(2*vR)\n",
      "V_632\n",
      "[N3, e__minus__, HP2]  ->  sqrt(2)*I*((I23a31*k1**2 + I23a31*k2**2 - 2*I24a31*k1*k2)*ProjP(2, 1) - (-2*I21a31*k1*k2 + I22a31*k1**2 + I22a31*k2**2)*ProjM(2, 1))/(vev*(k1 - k2)*(k1 + k2))\n",
      "V_651\n",
      "[N4, e__minus__, GL__plus__]  ->  sqrt(2)*I*(I21a41*ProjM(2, 1) - I24a41*ProjP(2, 1))/vev\n",
      "V_771\n",
      "[N4, e__minus__, GR__plus__]  ->  I*(I35a41 + I36a41)*ProjM(2, 1)/(2*vR)\n",
      "V_837\n",
      "[N4, e__minus__, HP1]  ->  I*(I43a41 + I44a41)*ProjP(2, 1)/(2*vR)\n",
      "V_633\n",
      "[N4, e__minus__, HP2]  ->  sqrt(2)*I*((I23a41*k1**2 + I23a41*k2**2 - 2*I24a41*k1*k2)*ProjP(2, 1) - (-2*I21a41*k1*k2 + I22a41*k1**2 + I22a41*k2**2)*ProjM(2, 1))/(vev*(k1 - k2)*(k1 + k2))\n",
      "V_652\n",
      "[N5, e__minus__, GL__plus__]  ->  sqrt(2)*I*(I21a51*ProjM(2, 1) - I24a51*ProjP(2, 1))/vev\n",
      "V_772\n",
      "[N5, e__minus__, GR__plus__]  ->  I*(I35a51 + I36a51)*ProjM(2, 1)/(2*vR)\n",
      "V_838\n",
      "[N5, e__minus__, HP1]  ->  I*(I43a51 + I44a51)*ProjP(2, 1)/(2*vR)\n",
      "V_634\n",
      "[N5, e__minus__, HP2]  ->  sqrt(2)*I*((I23a51*k1**2 + I23a51*k2**2 - 2*I24a51*k1*k2)*ProjP(2, 1) - (-2*I21a51*k1*k2 + I22a51*k1**2 + I22a51*k2**2)*ProjM(2, 1))/(vev*(k1 - k2)*(k1 + k2))\n",
      "V_653\n",
      "[N6, e__minus__, GL__plus__]  ->  sqrt(2)*I*(I21a61*ProjM(2, 1) - I24a61*ProjP(2, 1))/vev\n",
      "V_773\n",
      "[N6, e__minus__, GR__plus__]  ->  I*(I35a61 + I36a61)*ProjM(2, 1)/(2*vR)\n",
      "V_839\n",
      "[N6, e__minus__, HP1]  ->  I*(I43a61 + I44a61)*ProjP(2, 1)/(2*vR)\n",
      "V_635\n",
      "[N6, e__minus__, HP2]  ->  sqrt(2)*I*((I23a61*k1**2 + I23a61*k2**2 - 2*I24a61*k1*k2)*ProjP(2, 1) - (-2*I21a61*k1*k2 + I22a61*k1**2 + I22a61*k2**2)*ProjM(2, 1))/(vev*(k1 - k2)*(k1 + k2))\n",
      "V_1471\n",
      "[e__plus__, N1, W__minus__]  ->  sqrt(2)*I*gw*(KL1x1*cxi*ProjM(-1, 1) - KR1x1*sxi*ProjP(-1, 1))*Gamma(3, 2, -1)/2\n",
      "V_1489\n",
      "[e__plus__, N1, W2__minus__]  ->  sqrt(2)*I*gw*(KL1x1*sxi*ProjM(-1, 1) + KR1x1*cxi*ProjP(-1, 1))*Gamma(3, 2, -1)/2\n",
      "V_1474\n",
      "[e__plus__, N2, W__minus__]  ->  sqrt(2)*I*gw*(KL2x1*cxi*ProjM(-1, 1) - KR2x1*sxi*ProjP(-1, 1))*Gamma(3, 2, -1)/2\n",
      "V_1492\n",
      "[e__plus__, N2, W2__minus__]  ->  sqrt(2)*I*gw*(KL2x1*sxi*ProjM(-1, 1) + KR2x1*cxi*ProjP(-1, 1))*Gamma(3, 2, -1)/2\n",
      "V_1477\n",
      "[e__plus__, N3, W__minus__]  ->  sqrt(2)*I*gw*(KL3x1*cxi*ProjM(-1, 1) - KR3x1*sxi*ProjP(-1, 1))*Gamma(3, 2, -1)/2\n",
      "V_1495\n",
      "[e__plus__, N3, W2__minus__]  ->  sqrt(2)*I*gw*(KL3x1*sxi*ProjM(-1, 1) + KR3x1*cxi*ProjP(-1, 1))*Gamma(3, 2, -1)/2\n",
      "V_1480\n",
      "[e__plus__, N4, W__minus__]  ->  sqrt(2)*I*gw*(KL4x1*cxi*ProjM(-1, 1) - KR4x1*sxi*ProjP(-1, 1))*Gamma(3, 2, -1)/2\n",
      "V_1498\n",
      "[e__plus__, N4, W2__minus__]  ->  sqrt(2)*I*gw*(KL4x1*sxi*ProjM(-1, 1) + KR4x1*cxi*ProjP(-1, 1))*Gamma(3, 2, -1)/2\n",
      "V_1483\n",
      "[e__plus__, N5, W__minus__]  ->  sqrt(2)*I*gw*(KL5x1*cxi*ProjM(-1, 1) - KR5x1*sxi*ProjP(-1, 1))*Gamma(3, 2, -1)/2\n",
      "V_1501\n",
      "[e__plus__, N5, W2__minus__]  ->  sqrt(2)*I*gw*(KL5x1*sxi*ProjM(-1, 1) + KR5x1*cxi*ProjP(-1, 1))*Gamma(3, 2, -1)/2\n",
      "V_1486\n",
      "[e__plus__, N6, W__minus__]  ->  sqrt(2)*I*gw*(KL6x1*cxi*ProjM(-1, 1) - KR6x1*sxi*ProjP(-1, 1))*Gamma(3, 2, -1)/2\n",
      "V_1504\n",
      "[e__plus__, N6, W2__minus__]  ->  sqrt(2)*I*gw*(KL6x1*sxi*ProjM(-1, 1) + KR6x1*cxi*ProjP(-1, 1))*Gamma(3, 2, -1)/2\n",
      "V_856\n",
      "[ta__minus__, mu__minus__, HL__plus____plus__]  ->  sqrt(2)*I*(I45a23 + I45a32 + I46a23 + I46a32)*ProjP(2, 1)/(4*vR)\n",
      "V_790\n",
      "[ta__minus__, mu__minus__, HR__plus____plus__]  ->  sqrt(2)*I*(I37a23 + I37a32 + I38a23 + I38a32)*ProjM(2, 1)/(4*vR)\n",
      "V_654\n",
      "[N1, mu__minus__, GL__plus__]  ->  sqrt(2)*I*(I21a12*ProjM(2, 1) - I24a12*ProjP(2, 1))/vev\n",
      "V_774\n",
      "[N1, mu__minus__, GR__plus__]  ->  I*(I35a12 + I36a12)*ProjM(2, 1)/(2*vR)\n",
      "V_840\n",
      "[N1, mu__minus__, HP1]  ->  I*(I43a12 + I44a12)*ProjP(2, 1)/(2*vR)\n",
      "V_636\n",
      "[N1, mu__minus__, HP2]  ->  sqrt(2)*I*((I23a12*k1**2 + I23a12*k2**2 - 2*I24a12*k1*k2)*ProjP(2, 1) - (-2*I21a12*k1*k2 + I22a12*k1**2 + I22a12*k2**2)*ProjM(2, 1))/(vev*(k1 - k2)*(k1 + k2))\n",
      "V_655\n",
      "[N2, mu__minus__, GL__plus__]  ->  sqrt(2)*I*(I21a22*ProjM(2, 1) - I24a22*ProjP(2, 1))/vev\n",
      "V_775\n",
      "[N2, mu__minus__, GR__plus__]  ->  I*(I35a22 + I36a22)*ProjM(2, 1)/(2*vR)\n",
      "V_841\n",
      "[N2, mu__minus__, HP1]  ->  I*(I43a22 + I44a22)*ProjP(2, 1)/(2*vR)\n",
      "V_637\n",
      "[N2, mu__minus__, HP2]  ->  sqrt(2)*I*((I23a22*k1**2 + I23a22*k2**2 - 2*I24a22*k1*k2)*ProjP(2, 1) - (-2*I21a22*k1*k2 + I22a22*k1**2 + I22a22*k2**2)*ProjM(2, 1))/(vev*(k1 - k2)*(k1 + k2))\n",
      "V_656\n",
      "[N3, mu__minus__, GL__plus__]  ->  sqrt(2)*I*(I21a32*ProjM(2, 1) - I24a32*ProjP(2, 1))/vev\n",
      "V_776\n",
      "[N3, mu__minus__, GR__plus__]  ->  I*(I35a32 + I36a32)*ProjM(2, 1)/(2*vR)\n",
      "V_842\n",
      "[N3, mu__minus__, HP1]  ->  I*(I43a32 + I44a32)*ProjP(2, 1)/(2*vR)\n",
      "V_638\n",
      "[N3, mu__minus__, HP2]  ->  sqrt(2)*I*((I23a32*k1**2 + I23a32*k2**2 - 2*I24a32*k1*k2)*ProjP(2, 1) - (-2*I21a32*k1*k2 + I22a32*k1**2 + I22a32*k2**2)*ProjM(2, 1))/(vev*(k1 - k2)*(k1 + k2))\n",
      "V_657\n",
      "[N4, mu__minus__, GL__plus__]  ->  sqrt(2)*I*(I21a42*ProjM(2, 1) - I24a42*ProjP(2, 1))/vev\n",
      "V_777\n",
      "[N4, mu__minus__, GR__plus__]  ->  I*(I35a42 + I36a42)*ProjM(2, 1)/(2*vR)\n",
      "V_843\n",
      "[N4, mu__minus__, HP1]  ->  I*(I43a42 + I44a42)*ProjP(2, 1)/(2*vR)\n",
      "V_639\n",
      "[N4, mu__minus__, HP2]  ->  sqrt(2)*I*((I23a42*k1**2 + I23a42*k2**2 - 2*I24a42*k1*k2)*ProjP(2, 1) - (-2*I21a42*k1*k2 + I22a42*k1**2 + I22a42*k2**2)*ProjM(2, 1))/(vev*(k1 - k2)*(k1 + k2))\n",
      "V_658\n",
      "[N5, mu__minus__, GL__plus__]  ->  sqrt(2)*I*(I21a52*ProjM(2, 1) - I24a52*ProjP(2, 1))/vev\n",
      "V_778\n",
      "[N5, mu__minus__, GR__plus__]  ->  I*(I35a52 + I36a52)*ProjM(2, 1)/(2*vR)\n",
      "V_844\n",
      "[N5, mu__minus__, HP1]  ->  I*(I43a52 + I44a52)*ProjP(2, 1)/(2*vR)\n",
      "V_640\n",
      "[N5, mu__minus__, HP2]  ->  sqrt(2)*I*((I23a52*k1**2 + I23a52*k2**2 - 2*I24a52*k1*k2)*ProjP(2, 1) - (-2*I21a52*k1*k2 + I22a52*k1**2 + I22a52*k2**2)*ProjM(2, 1))/(vev*(k1 - k2)*(k1 + k2))\n",
      "V_659\n",
      "[N6, mu__minus__, GL__plus__]  ->  sqrt(2)*I*(I21a62*ProjM(2, 1) - I24a62*ProjP(2, 1))/vev\n",
      "V_779\n",
      "[N6, mu__minus__, GR__plus__]  ->  I*(I35a62 + I36a62)*ProjM(2, 1)/(2*vR)\n",
      "V_845\n",
      "[N6, mu__minus__, HP1]  ->  I*(I43a62 + I44a62)*ProjP(2, 1)/(2*vR)\n",
      "V_641\n",
      "[N6, mu__minus__, HP2]  ->  sqrt(2)*I*((I23a62*k1**2 + I23a62*k2**2 - 2*I24a62*k1*k2)*ProjP(2, 1) - (-2*I21a62*k1*k2 + I22a62*k1**2 + I22a62*k2**2)*ProjM(2, 1))/(vev*(k1 - k2)*(k1 + k2))\n",
      "V_1472\n",
      "[mu__plus__, N1, W__minus__]  ->  sqrt(2)*I*gw*(KL1x2*cxi*ProjM(-1, 1) - KR1x2*sxi*ProjP(-1, 1))*Gamma(3, 2, -1)/2\n",
      "V_1490\n",
      "[mu__plus__, N1, W2__minus__]  ->  sqrt(2)*I*gw*(KL1x2*sxi*ProjM(-1, 1) + KR1x2*cxi*ProjP(-1, 1))*Gamma(3, 2, -1)/2\n",
      "V_1475\n",
      "[mu__plus__, N2, W__minus__]  ->  sqrt(2)*I*gw*(KL2x2*cxi*ProjM(-1, 1) - KR2x2*sxi*ProjP(-1, 1))*Gamma(3, 2, -1)/2\n",
      "V_1493\n",
      "[mu__plus__, N2, W2__minus__]  ->  sqrt(2)*I*gw*(KL2x2*sxi*ProjM(-1, 1) + KR2x2*cxi*ProjP(-1, 1))*Gamma(3, 2, -1)/2\n",
      "V_1478\n",
      "[mu__plus__, N3, W__minus__]  ->  sqrt(2)*I*gw*(KL3x2*cxi*ProjM(-1, 1) - KR3x2*sxi*ProjP(-1, 1))*Gamma(3, 2, -1)/2\n",
      "V_1496\n",
      "[mu__plus__, N3, W2__minus__]  ->  sqrt(2)*I*gw*(KL3x2*sxi*ProjM(-1, 1) + KR3x2*cxi*ProjP(-1, 1))*Gamma(3, 2, -1)/2\n",
      "V_1481\n",
      "[mu__plus__, N4, W__minus__]  ->  sqrt(2)*I*gw*(KL4x2*cxi*ProjM(-1, 1) - KR4x2*sxi*ProjP(-1, 1))*Gamma(3, 2, -1)/2\n",
      "V_1499\n",
      "[mu__plus__, N4, W2__minus__]  ->  sqrt(2)*I*gw*(KL4x2*sxi*ProjM(-1, 1) + KR4x2*cxi*ProjP(-1, 1))*Gamma(3, 2, -1)/2\n",
      "V_1484\n",
      "[mu__plus__, N5, W__minus__]  ->  sqrt(2)*I*gw*(KL5x2*cxi*ProjM(-1, 1) - KR5x2*sxi*ProjP(-1, 1))*Gamma(3, 2, -1)/2\n",
      "V_1502\n",
      "[mu__plus__, N5, W2__minus__]  ->  sqrt(2)*I*gw*(KL5x2*sxi*ProjM(-1, 1) + KR5x2*cxi*ProjP(-1, 1))*Gamma(3, 2, -1)/2\n",
      "V_1487\n",
      "[mu__plus__, N6, W__minus__]  ->  sqrt(2)*I*gw*(KL6x2*cxi*ProjM(-1, 1) - KR6x2*sxi*ProjP(-1, 1))*Gamma(3, 2, -1)/2\n",
      "V_1505\n",
      "[mu__plus__, N6, W2__minus__]  ->  sqrt(2)*I*gw*(KL6x2*sxi*ProjM(-1, 1) + KR6x2*cxi*ProjP(-1, 1))*Gamma(3, 2, -1)/2\n",
      "V_660\n",
      "[N1, ta__minus__, GL__plus__]  ->  sqrt(2)*I*(I21a13*ProjM(2, 1) - I24a13*ProjP(2, 1))/vev\n",
      "V_780\n",
      "[N1, ta__minus__, GR__plus__]  ->  I*(I35a13 + I36a13)*ProjM(2, 1)/(2*vR)\n",
      "V_846\n",
      "[N1, ta__minus__, HP1]  ->  I*(I43a13 + I44a13)*ProjP(2, 1)/(2*vR)\n",
      "V_642\n",
      "[N1, ta__minus__, HP2]  ->  sqrt(2)*I*((I23a13*k1**2 + I23a13*k2**2 - 2*I24a13*k1*k2)*ProjP(2, 1) - (-2*I21a13*k1*k2 + I22a13*k1**2 + I22a13*k2**2)*ProjM(2, 1))/(vev*(k1 - k2)*(k1 + k2))\n",
      "V_661\n",
      "[N2, ta__minus__, GL__plus__]  ->  sqrt(2)*I*(I21a23*ProjM(2, 1) - I24a23*ProjP(2, 1))/vev\n",
      "V_781\n",
      "[N2, ta__minus__, GR__plus__]  ->  I*(I35a23 + I36a23)*ProjM(2, 1)/(2*vR)\n",
      "V_847\n",
      "[N2, ta__minus__, HP1]  ->  I*(I43a23 + I44a23)*ProjP(2, 1)/(2*vR)\n",
      "V_643\n",
      "[N2, ta__minus__, HP2]  ->  sqrt(2)*I*((I23a23*k1**2 + I23a23*k2**2 - 2*I24a23*k1*k2)*ProjP(2, 1) - (-2*I21a23*k1*k2 + I22a23*k1**2 + I22a23*k2**2)*ProjM(2, 1))/(vev*(k1 - k2)*(k1 + k2))\n",
      "V_662\n",
      "[N3, ta__minus__, GL__plus__]  ->  sqrt(2)*I*(I21a33*ProjM(2, 1) - I24a33*ProjP(2, 1))/vev\n",
      "V_782\n",
      "[N3, ta__minus__, GR__plus__]  ->  I*(I35a33 + I36a33)*ProjM(2, 1)/(2*vR)\n",
      "V_848\n",
      "[N3, ta__minus__, HP1]  ->  I*(I43a33 + I44a33)*ProjP(2, 1)/(2*vR)\n",
      "V_644\n",
      "[N3, ta__minus__, HP2]  ->  sqrt(2)*I*((I23a33*k1**2 + I23a33*k2**2 - 2*I24a33*k1*k2)*ProjP(2, 1) - (-2*I21a33*k1*k2 + I22a33*k1**2 + I22a33*k2**2)*ProjM(2, 1))/(vev*(k1 - k2)*(k1 + k2))\n",
      "V_663\n",
      "[N4, ta__minus__, GL__plus__]  ->  sqrt(2)*I*(I21a43*ProjM(2, 1) - I24a43*ProjP(2, 1))/vev\n",
      "V_783\n",
      "[N4, ta__minus__, GR__plus__]  ->  I*(I35a43 + I36a43)*ProjM(2, 1)/(2*vR)\n",
      "V_849\n",
      "[N4, ta__minus__, HP1]  ->  I*(I43a43 + I44a43)*ProjP(2, 1)/(2*vR)\n",
      "V_645\n",
      "[N4, ta__minus__, HP2]  ->  sqrt(2)*I*((I23a43*k1**2 + I23a43*k2**2 - 2*I24a43*k1*k2)*ProjP(2, 1) - (-2*I21a43*k1*k2 + I22a43*k1**2 + I22a43*k2**2)*ProjM(2, 1))/(vev*(k1 - k2)*(k1 + k2))\n",
      "V_664\n",
      "[N5, ta__minus__, GL__plus__]  ->  sqrt(2)*I*(I21a53*ProjM(2, 1) - I24a53*ProjP(2, 1))/vev\n",
      "V_784\n",
      "[N5, ta__minus__, GR__plus__]  ->  I*(I35a53 + I36a53)*ProjM(2, 1)/(2*vR)\n",
      "V_850\n",
      "[N5, ta__minus__, HP1]  ->  I*(I43a53 + I44a53)*ProjP(2, 1)/(2*vR)\n",
      "V_646\n",
      "[N5, ta__minus__, HP2]  ->  sqrt(2)*I*((I23a53*k1**2 + I23a53*k2**2 - 2*I24a53*k1*k2)*ProjP(2, 1) - (-2*I21a53*k1*k2 + I22a53*k1**2 + I22a53*k2**2)*ProjM(2, 1))/(vev*(k1 - k2)*(k1 + k2))\n",
      "V_665\n",
      "[N6, ta__minus__, GL__plus__]  ->  sqrt(2)*I*(I21a63*ProjM(2, 1) - I24a63*ProjP(2, 1))/vev\n",
      "V_785\n",
      "[N6, ta__minus__, GR__plus__]  ->  I*(I35a63 + I36a63)*ProjM(2, 1)/(2*vR)\n",
      "V_851\n",
      "[N6, ta__minus__, HP1]  ->  I*(I43a63 + I44a63)*ProjP(2, 1)/(2*vR)\n",
      "V_647\n",
      "[N6, ta__minus__, HP2]  ->  sqrt(2)*I*((I23a63*k1**2 + I23a63*k2**2 - 2*I24a63*k1*k2)*ProjP(2, 1) - (-2*I21a63*k1*k2 + I22a63*k1**2 + I22a63*k2**2)*ProjM(2, 1))/(vev*(k1 - k2)*(k1 + k2))\n",
      "V_1473\n",
      "[ta__plus__, N1, W__minus__]  ->  sqrt(2)*I*gw*(KL1x3*cxi*ProjM(-1, 1) - KR1x3*sxi*ProjP(-1, 1))*Gamma(3, 2, -1)/2\n",
      "V_1491\n",
      "[ta__plus__, N1, W2__minus__]  ->  sqrt(2)*I*gw*(KL1x3*sxi*ProjM(-1, 1) + KR1x3*cxi*ProjP(-1, 1))*Gamma(3, 2, -1)/2\n",
      "V_1476\n",
      "[ta__plus__, N2, W__minus__]  ->  sqrt(2)*I*gw*(KL2x3*cxi*ProjM(-1, 1) - KR2x3*sxi*ProjP(-1, 1))*Gamma(3, 2, -1)/2\n",
      "V_1494\n",
      "[ta__plus__, N2, W2__minus__]  ->  sqrt(2)*I*gw*(KL2x3*sxi*ProjM(-1, 1) + KR2x3*cxi*ProjP(-1, 1))*Gamma(3, 2, -1)/2\n",
      "V_1479\n",
      "[ta__plus__, N3, W__minus__]  ->  sqrt(2)*I*gw*(KL3x3*cxi*ProjM(-1, 1) - KR3x3*sxi*ProjP(-1, 1))*Gamma(3, 2, -1)/2\n",
      "V_1497\n",
      "[ta__plus__, N3, W2__minus__]  ->  sqrt(2)*I*gw*(KL3x3*sxi*ProjM(-1, 1) + KR3x3*cxi*ProjP(-1, 1))*Gamma(3, 2, -1)/2\n",
      "V_1482\n",
      "[ta__plus__, N4, W__minus__]  ->  sqrt(2)*I*gw*(KL4x3*cxi*ProjM(-1, 1) - KR4x3*sxi*ProjP(-1, 1))*Gamma(3, 2, -1)/2\n",
      "V_1500\n",
      "[ta__plus__, N4, W2__minus__]  ->  sqrt(2)*I*gw*(KL4x3*sxi*ProjM(-1, 1) + KR4x3*cxi*ProjP(-1, 1))*Gamma(3, 2, -1)/2\n",
      "V_1485\n",
      "[ta__plus__, N5, W__minus__]  ->  sqrt(2)*I*gw*(KL5x3*cxi*ProjM(-1, 1) - KR5x3*sxi*ProjP(-1, 1))*Gamma(3, 2, -1)/2\n",
      "V_1503\n",
      "[ta__plus__, N5, W2__minus__]  ->  sqrt(2)*I*gw*(KL5x3*sxi*ProjM(-1, 1) + KR5x3*cxi*ProjP(-1, 1))*Gamma(3, 2, -1)/2\n",
      "V_1488\n",
      "[ta__plus__, N6, W__minus__]  ->  sqrt(2)*I*gw*(KL6x3*cxi*ProjM(-1, 1) - KR6x3*sxi*ProjP(-1, 1))*Gamma(3, 2, -1)/2\n",
      "V_1506\n",
      "[ta__plus__, N6, W2__minus__]  ->  sqrt(2)*I*gw*(KL6x3*sxi*ProjM(-1, 1) + KR6x3*cxi*ProjP(-1, 1))*Gamma(3, 2, -1)/2\n"
     ]
    }
   ],
   "source": [
    "for v in VerticesXplusminusFF2:\n",
    "    print(v)\n",
    "    print(v.particles, ' -> ', feynman_rules[v])"
   ]
  },
  {
   "cell_type": "markdown",
   "metadata": {},
   "source": [
    "# Calculating the lepton Flavor violating Higgs and Z decays"
   ]
  },
  {
   "cell_type": "markdown",
   "metadata": {},
   "source": [
    "We start considering the LFVHD. As we know in the Manifest Left-Right Symmetric model,  we have 4 neutral scalars $H_r^0$ with $r=0,1,2,3$, and $H_0^0 = h^{\\text{SM}}$, there are two singly charged Higgs $H_{1,2}^\\pm$ y two doubly charged Higgs $H_{L,R}^{\\pm \\pm}$, all this scalars represents 12 degrees of freedom of the model. Also we have two neutral vector bosons $Z$ and $Z_2$, also, we have two charged vector bosons $W^\\pm$ and $W_2^\\pm$.Adittionally, we have to neutral $G_{1,2}^0$ and two charged $G_{L,R}^\\pm$ goldstone bosons, associated to the corresponding vector neutral and charged bosons."
   ]
  },
  {
   "cell_type": "markdown",
   "metadata": {},
   "source": [
    "With our UFOModelExplorer class we are able to explore the feynman rules of the MLRSM UFO files and classify them as we did it."
   ]
  },
  {
   "cell_type": "code",
   "execution_count": 39,
   "metadata": {},
   "outputs": [
    {
     "data": {
      "text/plain": [
       "[mu__minus__, ta__plus__, H]"
      ]
     },
     "execution_count": 39,
     "metadata": {},
     "output_type": "execute_result"
    }
   ],
   "source": [
    "particles_htomutau_names = ['H', 'mu-', 'ta+']\n",
    "particles_htomutau = [\n",
    "    ptc for ptc in UFOModel.particles if ptc.name in particles_htomutau_names\n",
    "]\n",
    "particles_htomutau"
   ]
  },
  {
   "cell_type": "code",
   "execution_count": 40,
   "metadata": {},
   "outputs": [
    {
     "data": {
      "text/plain": [
       "(mu__minus__, ta__plus__, H)"
      ]
     },
     "execution_count": 40,
     "metadata": {},
     "output_type": "execute_result"
    }
   ],
   "source": [
    "mubar, tau, H = particles_htomutau\n",
    "mubar, tau, H"
   ]
  },
  {
   "cell_type": "code",
   "execution_count": 41,
   "metadata": {},
   "outputs": [],
   "source": [
    "from sympy import symbols, init_printing, sympify\n",
    "init_printing()"
   ]
  },
  {
   "cell_type": "code",
   "execution_count": 42,
   "metadata": {},
   "outputs": [
    {
     "data": {
      "image/png": "[encoded data removed]",
      "text/latex": [
       "$\\displaystyle \\left( MH, \\  Mmu, \\  Mta\\right)$"
      ],
      "text/plain": [
       "(MH, Mmu, Mta)"
      ]
     },
     "execution_count": 42,
     "metadata": {},
     "output_type": "execute_result"
    }
   ],
   "source": [
    "Mmu = sympify(str(mubar.mass))\n",
    "Mtau = sympify(str(tau.mass))\n",
    "Mh = sympify(str(H.mass))\n",
    "Mh, Mmu, Mtau"
   ]
  },
  {
   "cell_type": "code",
   "execution_count": 43,
   "metadata": {},
   "outputs": [
    {
     "data": {
      "text/plain": [
       "{N1: MN1, N2: MN2, N3: MN3, N4: MN4, N5: MN5, N6: MN6}"
      ]
     },
     "execution_count": 43,
     "metadata": {},
     "output_type": "execute_result"
    }
   ],
   "source": [
    "MN = {N:sympify(str(N.mass)) for N in neutrinos}\n",
    "MN"
   ]
  },
  {
   "cell_type": "code",
   "execution_count": 44,
   "metadata": {},
   "outputs": [
    {
     "data": {
      "text/plain": [
       "([HP1, HP2], [HM1, HM2])"
      ]
     },
     "execution_count": 44,
     "metadata": {},
     "output_type": "execute_result"
    }
   ],
   "source": [
    "chargedHPi = UFOModel.find_particles(['HP1', 'HP2'])\n",
    "chargedHMi = UFOModel.find_particles(['HM1', 'HM2'])\n",
    "chargedHPi, chargedHMi"
   ]
  },
  {
   "cell_type": "code",
   "execution_count": 45,
   "metadata": {},
   "outputs": [
    {
     "data": {
      "image/png": "[encoded data removed]",
      "text/latex": [
       "$\\displaystyle \\left( MHP_{1}, \\  MHP_{2}\\right)$"
      ],
      "text/plain": [
       "(MHP₁, MHP₂)"
      ]
     },
     "execution_count": 45,
     "metadata": {},
     "output_type": "execute_result"
    }
   ],
   "source": [
    "HP1, HP2 = chargedHPi\n",
    "HM1, HM2 = chargedHMi\n",
    "\n",
    "MHP1 = sympify(str(HP1.mass))\n",
    "MHP2 = sympify(str(HP2.mass))\n",
    "\n",
    "MHP1, MHP2"
   ]
  },
  {
   "cell_type": "code",
   "execution_count": 46,
   "metadata": {},
   "outputs": [
    {
     "data": {
      "text/plain": [
       "True"
      ]
     },
     "execution_count": 46,
     "metadata": {},
     "output_type": "execute_result"
    }
   ],
   "source": [
    "HM1.mass == HP1.mass"
   ]
  },
  {
   "cell_type": "code",
   "execution_count": 47,
   "metadata": {},
   "outputs": [
    {
     "data": {
      "image/png": "[encoded data removed]",
      "text/latex": [
       "$\\displaystyle \\left( k_{1}, \\  k_{2}\\right)$"
      ],
      "text/plain": [
       "(k₁, k₂)"
      ]
     },
     "execution_count": 47,
     "metadata": {},
     "output_type": "execute_result"
    }
   ],
   "source": [
    "#ks = UFOModel.sympify_parameters(['k1','k2'])\n",
    "ks = symbols('k1, k2') #UFOModel.sympify_parameters(['k1','k2'])\n",
    "ks"
   ]
  },
  {
   "cell_type": "code",
   "execution_count": 48,
   "metadata": {},
   "outputs": [
    {
     "data": {
      "text/plain": [
       "{'k2': sqrt(-k1**2 + vev**2)}"
      ]
     },
     "execution_count": 48,
     "metadata": {},
     "output_type": "execute_result"
    }
   ],
   "source": [
    "UFOModel.sympify_parameters(['k2'])"
   ]
  },
  {
   "cell_type": "code",
   "execution_count": 49,
   "metadata": {},
   "outputs": [
    {
     "data": {
      "text/plain": [
       "{'vev': 2**(3/4)/(2*sqrt(Gf))}"
      ]
     },
     "execution_count": 49,
     "metadata": {},
     "output_type": "execute_result"
    }
   ],
   "source": [
    "UFOModel.sympify_parameters(['vev'])"
   ]
  },
  {
   "cell_type": "code",
   "execution_count": 472,
   "metadata": {},
   "outputs": [],
   "source": [
    "def extract_chiral_coefficients_optimized(vertex, ufo_model):\n",
    "    \"\"\"\n",
    "    Extract the coefficients of ProjP and ProjM from a given Feynman rule for a vertex.\n",
    "    :param vertex: Vertex object containing particles and couplings.\n",
    "    :param ufo_model: Instance of the UFOModelExplorer.\n",
    "    :return: Dictionary with coefficients of ProjP and ProjM indexed by specific indices.\n",
    "    \"\"\"\n",
    "\n",
    "    # Get the Feynman rule\n",
    "    feynman_rule = ufo_model.generate_symbolic_feynman_rule(vertex)\n",
    "\n",
    "    # Ensure the vertex has a Feynman rule\n",
    "    #if bool(feynman_rule):\n",
    "    #    raise ValueError(f\"No Feynman rule found for the vertex: {vertex}\")\n",
    "\n",
    "    # Initialize dictionary to store coefficients\n",
    "    coefficients = {}\n",
    "\n",
    "    # Split the Feynman rule into terms\n",
    "    terms = feynman_rule.expand().as_ordered_terms()\n",
    "\n",
    "    # Loop through terms to identify ProjP and ProjM terms\n",
    "    for term in terms:\n",
    "        # Find all instances of ProjP in the term\n",
    "        proj_p_instances = term.atoms(ProjP)\n",
    "        for proj in proj_p_instances:\n",
    "            indices = proj.args  # Extract indices from ProjP(i, j)\n",
    "            coefficient = term.coeff(proj)\n",
    "            coefficients[(indices[0], indices[1], 'ProjP')] = coefficient\n",
    "\n",
    "        # Find all instances of ProjM in the term\n",
    "        proj_m_instances = term.atoms(ProjM)\n",
    "        for proj in proj_m_instances:\n",
    "            indices = proj.args  # Extract indices from ProjM(i, j)\n",
    "            coefficient = term.coeff(proj)\n",
    "            coefficients[(indices[0], indices[1], 'ProjM')] = coefficient\n",
    "\n",
    "    return coefficients"
   ]
  },
  {
   "cell_type": "code",
   "execution_count": 473,
   "metadata": {},
   "outputs": [
    {
     "name": "stdout",
     "output_type": "stream",
     "text": [
      "vertex:  V_648\n",
      "particles:  [N1, e__minus__, GL__plus__]\n",
      "Feynman rule:  sqrt(2)*I*(I21a11*ProjM(2, 1) - I24a11*ProjP(2, 1))/vev\n",
      "True\n",
      "Chiral coefficients:\n",
      "\t {(2, 1, 'ProjM'): sqrt(2)*I*I21a11/vev, (2, 1, 'ProjP'): -sqrt(2)*I*I24a11/vev}\n",
      "vertex:  V_654\n",
      "particles:  [N1, mu__minus__, GL__plus__]\n",
      "Feynman rule:  sqrt(2)*I*(I21a12*ProjM(2, 1) - I24a12*ProjP(2, 1))/vev\n",
      "True\n",
      "Chiral coefficients:\n",
      "\t {(2, 1, 'ProjM'): sqrt(2)*I*I21a12/vev, (2, 1, 'ProjP'): -sqrt(2)*I*I24a12/vev}\n",
      "vertex:  V_660\n",
      "particles:  [N1, ta__minus__, GL__plus__]\n",
      "Feynman rule:  sqrt(2)*I*(I21a13*ProjM(2, 1) - I24a13*ProjP(2, 1))/vev\n",
      "True\n",
      "Chiral coefficients:\n",
      "\t {(2, 1, 'ProjM'): sqrt(2)*I*I21a13/vev, (2, 1, 'ProjP'): -sqrt(2)*I*I24a13/vev}\n"
     ]
    }
   ],
   "source": [
    "for v in UFOModel.find_vertices_involving(['N1', 'GL+']):\n",
    "    print('vertex: ', v)\n",
    "    print('particles: ', v.particles)\n",
    "    print('Feynman rule: ', UFOModel.generate_symbolic_feynman_rule(v))\n",
    "    print(bool(UFOModel.generate_symbolic_feynman_rule(v)))\n",
    "    print(\n",
    "        'Chiral coefficients:\\n\\t',\n",
    "        extract_chiral_coefficients_optimized(v, ufo_model=UFOModel)# feynman_rules=feynman_rules)\n",
    "    )\n"
   ]
  },
  {
   "cell_type": "code",
   "execution_count": 474,
   "metadata": {},
   "outputs": [],
   "source": [
    "def extract_chiral_coefficients_vertexlfv(vertex, ufo_model):\n",
    "    \"\"\"\n",
    "    Extract the chiral coefficients ProjP and ProjM from the Feynman rule for a given vertex.\n",
    "    :param vertex: The vertex object containing the particles and couplings.\n",
    "    :param ufo_model: Instance of the UFOModelExplorer.\n",
    "    :return: A dictionary with keys 'ProjP' and 'ProjM' mapping to their respective coefficients.\n",
    "    \"\"\"\n",
    "    # Initialize coefficients\n",
    "    XR = None\n",
    "    XL = None\n",
    "\n",
    "    # Extract chiral coefficients\n",
    "    coeff_dict = extract_chiral_coefficients_optimized(vertex, ufo_model=ufo_model)\n",
    "\n",
    "    # Process the coefficients\n",
    "    for key, value in coeff_dict.items():\n",
    "        #print(f\"Key: {key}, Coefficient: {value}\")\n",
    "        if key[2] == 'ProjM':\n",
    "            XL = value\n",
    "        elif key[2] == 'ProjP':\n",
    "            XR = value\n",
    "        else:\n",
    "            raise ValueError(f\"Unexpected projection operator: {key[2]}\")\n",
    "\n",
    "    # Check if coefficients were found\n",
    "    if XR is None:\n",
    "        print(f\"Warning: XR (ProjP coefficient) not found in the Feynman rule of vertex {vertex} with paticles {vertex.particles}.\")\n",
    "        XR = 0\n",
    "    if XL is None:\n",
    "        print(f\"Warning: XL (ProjM coefficient) not found in the Feynman rule of vertex {vertex} with paticles {vertex.particles}.\")\n",
    "        XL = 0\n",
    "\n",
    "    # Return the coefficients in a dictionary\n",
    "    return {'ProjP': XR, 'ProjM': XL}"
   ]
  },
  {
   "cell_type": "code",
   "execution_count": 475,
   "metadata": {},
   "outputs": [],
   "source": [
    "import sys\n",
    "sys.path.append('C:/Users/moise/OneDrive/Escritorio/LRSM-with-Spheno/UFOmodel/LFVXD')\n"
   ]
  },
  {
   "cell_type": "code",
   "execution_count": 476,
   "metadata": {},
   "outputs": [
    {
     "name": "stdout",
     "output_type": "stream",
     "text": [
      "Warning: XR (ProjP coefficient) not found in the Feynman rule of vertex V_1175 with paticles [ta__plus__, N1, HM1].\n",
      "Warning: XL (ProjM coefficient) not found in the Feynman rule of vertex V_840 with paticles [N1, mu__minus__, HP1].\n"
     ]
    }
   ],
   "source": [
    "\n",
    "from LFVXD import Hdecay_diagrams as D\n",
    "from LFVXD import vertexes as v_lfvxd\n",
    "\n",
    "neutrinos = [ptc for ptc in UFOModel.particles if ptc.charge==0 and ptc.spin==2]\n",
    "\n",
    "N1, N2, N3, N4, N5, N6 = neutrinos\n",
    "\n",
    "MN = {N:sympify(str(N.mass)) for N in neutrinos}\n",
    "\n",
    "vertexH_HP1_HM1 = UFOModel.find_vertices_involving(\n",
    "                ['H', 'HP1', 'HM1'], number_particles=3\n",
    "            )[0]\n",
    "\n",
    "coeff_H_HP1_HM1 = feynman_rules[vertexH_HP1_HM1].factor()\n",
    "\n",
    "vertexHM1_taplus_N1 = UFOModel.find_vertices_involving(\n",
    "    ['HM1', tau.name, N1.name], number_particles=3\n",
    ")[0]  # Get the first vertex involving HM1, tau+, and N1\n",
    "\n",
    "chiral_coeff_HM1_taplus_N1 = extract_chiral_coefficients_vertexlfv(vertexHM1_taplus_N1, ufo_model=UFOModel)\n",
    "\n",
    "vertexHP1_muminus_N1 = UFOModel.find_vertices_involving(\n",
    "    ['HP1', mubar.name, N1.name], number_particles=3\n",
    ")[0]  # Get the first vertex involving HM1, tau+, and N1\n",
    "\n",
    "chiral_coeff_HP1_muminus_N1 = extract_chiral_coefficients_vertexlfv(vertexHP1_muminus_N1, ufo_model=UFOModel)\n",
    "\n",
    "triangleH_HP1_HM1 = D.TriangleFSS(\n",
    "    v_lfvxd.VertexSSS(coeff_H_HP1_HM1),\n",
    "    v_lfvxd.VertexSFF(\n",
    "        cR=chiral_coeff_HM1_taplus_N1['ProjP'],\n",
    "        cL=chiral_coeff_HM1_taplus_N1['ProjM']\n",
    "    ),\n",
    "    v_lfvxd.VertexSFF(\n",
    "        cR=chiral_coeff_HP1_muminus_N1['ProjP'],\n",
    "        cL=chiral_coeff_HP1_muminus_N1['ProjM']\n",
    "    ),\n",
    "    [Mh, Mmu, Mtau, MN[N1], MHP1, MHP1]\n",
    ")"
   ]
  },
  {
   "cell_type": "code",
   "execution_count": 477,
   "metadata": {},
   "outputs": [
    {
     "data": {
      "text/plain": [
       "(V_660, V_667)"
      ]
     },
     "execution_count": 477,
     "metadata": {},
     "output_type": "execute_result"
    }
   ],
   "source": [
    "vertexGLplus_taminus_N1 = UFOModel.find_vertices_involving(\n",
    "    ['GL+', 'ta-', N1.name], number_particles=3\n",
    ")[0]\n",
    "\n",
    "vertexGLminus_muplus_N1 = UFOModel.find_vertices_involving(\n",
    "    ['GL-', 'mu+', N1.name], number_particles=3\n",
    ")[0]\n",
    "\n",
    "vertexGLplus_taminus_N1, vertexGLminus_muplus_N1"
   ]
  },
  {
   "cell_type": "code",
   "execution_count": 506,
   "metadata": {},
   "outputs": [],
   "source": [
    "def check_charge_conservation(vertex_particles, ufo_model, charge_relation):\n",
    "    \"\"\"\n",
    "    General function to check charge conservation for a vertex.\n",
    "    :param vertex_particles: List of particle names in the vertex.\n",
    "    :param ufo_model: Instance of the UFOModelExplorer.\n",
    "    :param charge_relation: Function defining the expected charge relationship.\n",
    "    :raises ValueError: If charge conservation is violated.\n",
    "    \"\"\"\n",
    "    charges = [p.charge for p in ufo_model.find_particles(vertex_particles)]\n",
    "    if len(charges) != len(vertex_particles):\n",
    "        raise ValueError(f\"Error finding charges for particles: {vertex_particles}.\")\n",
    "    if not charge_relation(charges):\n",
    "        raise ValueError(\n",
    "            f\"Charge conservation violated for particles {vertex_particles}. \"\n",
    "            f\"Charges: {charges}. Relation failed: {charge_relation.__doc__ or 'unspecified'}\"\n",
    "        )\n"
   ]
  },
  {
   "cell_type": "code",
   "execution_count": 507,
   "metadata": {},
   "outputs": [],
   "source": [
    "def construct_triangle_diagram_FSS(loop_fermion: str, scalar1: str, scalar2: str,\n",
    "                                    external_scalars: list[str], external_fermions: list[str],\n",
    "                                    ufo_model: UFOModelExplorer, mass_dict: dict = None):\n",
    "    \"\"\"\n",
    "    Construct a triangle diagram FSS for Higgs decay with charge conservation checks.\n",
    "    \"\"\"\n",
    "    from LFVXD import Hdecay_diagrams as D\n",
    "    from LFVXD import vertexes as v_lfvxd\n",
    "\n",
    "    # Calculate mass_dict if not provided\n",
    "    if mass_dict is None:\n",
    "        mass_dict = {p.name: sympify(str(p.mass)) for p in ufo_model.particles}\n",
    "\n",
    "    # Debug: Log particle names\n",
    "    print(f\"External scalar: {external_scalars[0]}\")\n",
    "    print(f\"External fermions: {external_fermions}\")\n",
    "    print(f\"Loop fermion: {loop_fermion}\")\n",
    "    print(f\"Scalars in loop: {scalar1}, {scalar2}\")\n",
    "\n",
    "    # Check charge conservation for Vertex 1: Q(S_1) + Q(S_2) = Q(H_r)\n",
    "    check_charge_conservation(\n",
    "        [scalar1, scalar2, external_scalars[0]],\n",
    "        ufo_model=ufo_model,\n",
    "        charge_relation=lambda Q: Q[0] + Q[1] == Q[2],\n",
    "    )\n",
    "\n",
    "    # Check charge conservation for Vertex 2: Q(F) = Q(S_1) + Q(l_a^+)\n",
    "    check_charge_conservation(\n",
    "        [loop_fermion, scalar1, external_fermions[0]],\n",
    "        ufo_model=ufo_model,\n",
    "        charge_relation=lambda Q: Q[0] == Q[1] + Q[2],\n",
    "    )\n",
    "\n",
    "    # Check charge conservation for Vertex 3: Q(F) = Q(S_2) + Q(l_b^-)\n",
    "    check_charge_conservation(\n",
    "        [loop_fermion, scalar2, external_fermions[1]],\n",
    "        ufo_model=ufo_model,\n",
    "        charge_relation=lambda Q: Q[0] == Q[1] + Q[2],\n",
    "    )\n",
    "\n",
    "    # Retrieve vertices using ufo_model\n",
    "    vertex_scalar_scalar_scalar = ufo_model.find_vertices_involving(\n",
    "        [external_scalars[0], scalar1, scalar2], number_particles=3\n",
    "    )\n",
    "    if not vertex_scalar_scalar_scalar:\n",
    "        raise ValueError(f\"No vertex found for particles: {external_scalars[0]}, {scalar1}, {scalar2}\")\n",
    "    vertex_scalar_scalar_scalar = vertex_scalar_scalar_scalar[0]\n",
    "\n",
    "    vertex_scalar_fermion_a = ufo_model.find_vertices_involving(\n",
    "        [scalar1, loop_fermion, external_fermions[0]], number_particles=3\n",
    "    )\n",
    "    if not vertex_scalar_fermion_a:\n",
    "        raise ValueError(f\"No vertex found for particles: {scalar1}, {loop_fermion}, {external_fermions[0]}\")\n",
    "    vertex_scalar_fermion_a = vertex_scalar_fermion_a[0]\n",
    "\n",
    "    vertex_scalar_fermion_b = ufo_model.find_vertices_involving(\n",
    "        [scalar2, loop_fermion, external_fermions[1]], number_particles=3\n",
    "    )\n",
    "    if not vertex_scalar_fermion_b:\n",
    "        raise ValueError(f\"No vertex found for particles: {scalar2}, {loop_fermion}, {external_fermions[1]}\")\n",
    "    vertex_scalar_fermion_b = vertex_scalar_fermion_b[0]\n",
    "\n",
    "    # Retrieve coefficients\n",
    "    coeff_scalar_scalar_scalar = ufo_model.generate_symbolic_feynman_rule(vertex_scalar_scalar_scalar).factor()\n",
    "    chiral_coeff_scalar_fermion_a = extract_chiral_coefficients_vertexlfv(\n",
    "        vertex_scalar_fermion_a, ufo_model=ufo_model\n",
    "    )\n",
    "    chiral_coeff_scalar_fermion_b = extract_chiral_coefficients_vertexlfv(\n",
    "        vertex_scalar_fermion_b, ufo_model=ufo_model\n",
    "    )\n",
    "\n",
    "    # Masses\n",
    "    M_loop_fermion = mass_dict.get(loop_fermion, 0)\n",
    "    M_scalar1 = mass_dict.get(scalar1, 0)\n",
    "    M_scalar2 = mass_dict.get(scalar2, 0)\n",
    "    M_ext_scalar = mass_dict.get(external_scalars[0], 0)\n",
    "    M_ext_fermion_a = mass_dict.get(external_fermions[0], 0)\n",
    "    M_ext_fermion_b = mass_dict.get(external_fermions[1], 0)\n",
    "\n",
    "    # Build diagram\n",
    "    return D.TriangleFSS(\n",
    "        v_lfvxd.VertexSSS(coeff_scalar_scalar_scalar),\n",
    "        v_lfvxd.VertexSFF(\n",
    "            cR=chiral_coeff_scalar_fermion_a['ProjP'],\n",
    "            cL=chiral_coeff_scalar_fermion_a['ProjM']\n",
    "        ),\n",
    "        v_lfvxd.VertexSFF(\n",
    "            cR=chiral_coeff_scalar_fermion_b['ProjP'],\n",
    "            cL=chiral_coeff_scalar_fermion_b['ProjM']\n",
    "        ),\n",
    "        [M_ext_scalar, M_ext_fermion_a, M_ext_fermion_b, M_loop_fermion, M_scalar1, M_scalar2]\n",
    "    )\n"
   ]
  },
  {
   "cell_type": "code",
   "execution_count": 508,
   "metadata": {},
   "outputs": [
    {
     "name": "stdout",
     "output_type": "stream",
     "text": [
      "External scalar: H\n",
      "External fermions: ['mu-', 'ta+']\n",
      "Loop fermion: N1\n",
      "Scalars in loop: HP1, HM1\n",
      "Warning: XL (ProjM coefficient) not found in the Feynman rule of vertex V_840 with paticles [N1, mu__minus__, HP1].\n",
      "Warning: XR (ProjP coefficient) not found in the Feynman rule of vertex V_1175 with paticles [ta__plus__, N1, HM1].\n",
      "TriangleFSS(VertexSSS(-I*(2*alpha1*k1**2 + 2*alpha1*k2**2 + 8*alpha2*k1*k2 + alpha3*k1**2 + alpha3*k2**2)/(2*vev)), VertexSFF(I*I44a12/(2*vR),0), {self.v3!r}, {self.masas!r})\n"
     ]
    }
   ],
   "source": [
    "triangle_fss = construct_triangle_diagram_FSS(\n",
    "    loop_fermion='N1',\n",
    "    scalar1='HP1',\n",
    "    scalar2='HM1',\n",
    "    external_scalars=['H'],\n",
    "    external_fermions=['mu-', 'ta+'],\n",
    "    ufo_model=UFOModel\n",
    ")\n",
    "print(triangle_fss)"
   ]
  },
  {
   "cell_type": "code",
   "execution_count": 481,
   "metadata": {},
   "outputs": [
    {
     "name": "stdout",
     "output_type": "stream",
     "text": [
      "****************************************************************************************************\n",
      "External scalar: H\n",
      "External fermions: mu-, ta+\n",
      "Loop fermion: N1\n",
      "Scalars in loop: GL+, GL-\n",
      "TriangleFSS(VertexSSS(-2*I*(k1**4*lambda1 + 4*k1**3*k2*lambda4 + 2*k1**2*k2**2*lambda1 + 8*k1**2*k2**2*lambda2 + 4*k1**2*k2**2*lambda3 + 4*k1*k2**3*lambda4 + k2**4*lambda1)/vev**3), VertexSFF(-sqrt(2)*I*I24a12/vev,sqrt(2)*I*I21a12/vev), {self.v3!r}, {self.masas!r})\n",
      "****************************************************************************************************\n",
      "External scalar: H\n",
      "External fermions: mu-, ta+\n",
      "Loop fermion: N1\n",
      "Scalars in loop: GL+, GR-\n",
      "Warning: XL (ProjM coefficient) not found in the Feynman rule of vertex V_1151 with paticles [ta__plus__, N1, GR__minus__].\n",
      "TriangleFSS(VertexSSS(-sqrt(2)*I*alpha3*vR*(k1 - k2)*(k1 + k2)/(4*vev**2)), VertexSFF(-sqrt(2)*I*I24a12/vev,sqrt(2)*I*I21a12/vev), {self.v3!r}, {self.masas!r})\n",
      "****************************************************************************************************\n",
      "External scalar: H\n",
      "External fermions: mu-, ta+\n",
      "Loop fermion: N1\n",
      "Scalars in loop: GL+, HM1\n",
      "Warning: XR (ProjP coefficient) not found in the Feynman rule of vertex V_1175 with paticles [ta__plus__, N1, HM1].\n",
      "TriangleFSS(VertexSSS(-sqrt(2)*I*alpha3*vL*(k1 - k2)*(k1 + k2)/(4*vev**2)), VertexSFF(-sqrt(2)*I*I24a12/vev,sqrt(2)*I*I21a12/vev), {self.v3!r}, {self.masas!r})\n",
      "****************************************************************************************************\n",
      "External scalar: H\n",
      "External fermions: mu-, ta+\n",
      "Loop fermion: N1\n",
      "Scalars in loop: GL+, HM2\n",
      "TriangleFSS(VertexSSS(2*I*(k1 - k2)*(k1 + k2)*(k1**2*lambda4 + 4*k1*k2*lambda2 + 2*k1*k2*lambda3 + k2**2*lambda4)/vev**3), VertexSFF(-sqrt(2)*I*I24a12/vev,sqrt(2)*I*I21a12/vev), {self.v3!r}, {self.masas!r})\n",
      "****************************************************************************************************\n",
      "External scalar: H\n",
      "External fermions: mu-, ta+\n",
      "Loop fermion: N1\n",
      "Scalars in loop: GR+, GL-\n",
      "Warning: XR (ProjP coefficient) not found in the Feynman rule of vertex V_774 with paticles [N1, mu__minus__, GR__plus__].\n",
      "TriangleFSS(VertexSSS(-sqrt(2)*I*alpha3*vR*(k1 - k2)*(k1 + k2)/(4*vev**2)), VertexSFF(0,I*I36a12/(2*vR)), {self.v3!r}, {self.masas!r})\n",
      "****************************************************************************************************\n",
      "External scalar: H\n",
      "External fermions: mu-, ta+\n",
      "Loop fermion: N1\n",
      "Scalars in loop: GR+, GR-\n",
      "Warning: XR (ProjP coefficient) not found in the Feynman rule of vertex V_774 with paticles [N1, mu__minus__, GR__plus__].\n",
      "Warning: XL (ProjM coefficient) not found in the Feynman rule of vertex V_1151 with paticles [ta__plus__, N1, GR__minus__].\n",
      "TriangleFSS(VertexSSS(-I*(2*alpha1*k1**2 + 2*alpha1*k2**2 + 8*alpha2*k1*k2 + alpha3*k1**2 + alpha3*k2**2)/(2*vev)), VertexSFF(0,I*I36a12/(2*vR)), {self.v3!r}, {self.masas!r})\n",
      "****************************************************************************************************\n",
      "External scalar: H\n",
      "External fermions: mu-, ta+\n",
      "Loop fermion: N1\n",
      "Scalars in loop: GR+, HM1\n",
      "No diagram for Splus = GR+ and Sminus = HM1\n",
      "TriangleFSS(VertexSSS(-I*(2*alpha1*k1**2 + 2*alpha1*k2**2 + 8*alpha2*k1*k2 + alpha3*k1**2 + alpha3*k2**2)/(2*vev)), VertexSFF(0,I*I36a12/(2*vR)), {self.v3!r}, {self.masas!r})\n",
      "****************************************************************************************************\n",
      "External scalar: H\n",
      "External fermions: mu-, ta+\n",
      "Loop fermion: N1\n",
      "Scalars in loop: GR+, HM2\n",
      "Warning: XR (ProjP coefficient) not found in the Feynman rule of vertex V_774 with paticles [N1, mu__minus__, GR__plus__].\n",
      "TriangleFSS(VertexSSS(-sqrt(2)*I*alpha3*k1*k2*vR/(2*vev**2)), VertexSFF(0,I*I36a12/(2*vR)), {self.v3!r}, {self.masas!r})\n",
      "****************************************************************************************************\n",
      "External scalar: H\n",
      "External fermions: mu-, ta+\n",
      "Loop fermion: N1\n",
      "Scalars in loop: HP1, GL-\n",
      "Warning: XL (ProjM coefficient) not found in the Feynman rule of vertex V_840 with paticles [N1, mu__minus__, HP1].\n",
      "TriangleFSS(VertexSSS(-sqrt(2)*I*alpha3*vL*(k1 - k2)*(k1 + k2)/(4*vev**2)), VertexSFF(I*I44a12/(2*vR),0), {self.v3!r}, {self.masas!r})\n",
      "****************************************************************************************************\n",
      "External scalar: H\n",
      "External fermions: mu-, ta+\n",
      "Loop fermion: N1\n",
      "Scalars in loop: HP1, GR-\n",
      "No diagram for Splus = HP1 and Sminus = GR-\n",
      "TriangleFSS(VertexSSS(-sqrt(2)*I*alpha3*vL*(k1 - k2)*(k1 + k2)/(4*vev**2)), VertexSFF(I*I44a12/(2*vR),0), {self.v3!r}, {self.masas!r})\n",
      "****************************************************************************************************\n",
      "External scalar: H\n",
      "External fermions: mu-, ta+\n",
      "Loop fermion: N1\n",
      "Scalars in loop: HP1, HM1\n",
      "Warning: XL (ProjM coefficient) not found in the Feynman rule of vertex V_840 with paticles [N1, mu__minus__, HP1].\n",
      "Warning: XR (ProjP coefficient) not found in the Feynman rule of vertex V_1175 with paticles [ta__plus__, N1, HM1].\n",
      "TriangleFSS(VertexSSS(-I*(2*alpha1*k1**2 + 2*alpha1*k2**2 + 8*alpha2*k1*k2 + alpha3*k1**2 + alpha3*k2**2)/(2*vev)), VertexSFF(I*I44a12/(2*vR),0), {self.v3!r}, {self.masas!r})\n",
      "****************************************************************************************************\n",
      "External scalar: H\n",
      "External fermions: mu-, ta+\n",
      "Loop fermion: N1\n",
      "Scalars in loop: HP1, HM2\n",
      "Warning: XL (ProjM coefficient) not found in the Feynman rule of vertex V_840 with paticles [N1, mu__minus__, HP1].\n",
      "TriangleFSS(VertexSSS(-sqrt(2)*I*alpha3*k1*k2*vL/(2*vev**2)), VertexSFF(I*I44a12/(2*vR),0), {self.v3!r}, {self.masas!r})\n",
      "****************************************************************************************************\n",
      "External scalar: H\n",
      "External fermions: mu-, ta+\n",
      "Loop fermion: N1\n",
      "Scalars in loop: HP2, GL-\n",
      "TriangleFSS(VertexSSS(2*I*(k1 - k2)*(k1 + k2)*(k1**2*lambda4 + 4*k1*k2*lambda2 + 2*k1*k2*lambda3 + k2**2*lambda4)/vev**3), VertexSFF(-2*sqrt(2)*I*I24a12*k1*k2/(k1**2*vev - k2**2*vev),-sqrt(2)*I*I22a12*k2**2/(k1**2*vev - k2**2*vev)), {self.v3!r}, {self.masas!r})\n",
      "****************************************************************************************************\n",
      "External scalar: H\n",
      "External fermions: mu-, ta+\n",
      "Loop fermion: N1\n",
      "Scalars in loop: HP2, GR-\n",
      "Warning: XL (ProjM coefficient) not found in the Feynman rule of vertex V_1151 with paticles [ta__plus__, N1, GR__minus__].\n",
      "TriangleFSS(VertexSSS(-sqrt(2)*I*alpha3*k1*k2*vR/(2*vev**2)), VertexSFF(-2*sqrt(2)*I*I24a12*k1*k2/(k1**2*vev - k2**2*vev),-sqrt(2)*I*I22a12*k2**2/(k1**2*vev - k2**2*vev)), {self.v3!r}, {self.masas!r})\n",
      "****************************************************************************************************\n",
      "External scalar: H\n",
      "External fermions: mu-, ta+\n",
      "Loop fermion: N1\n",
      "Scalars in loop: HP2, HM1\n",
      "Warning: XR (ProjP coefficient) not found in the Feynman rule of vertex V_1175 with paticles [ta__plus__, N1, HM1].\n",
      "TriangleFSS(VertexSSS(-sqrt(2)*I*alpha3*k1*k2*vL/(2*vev**2)), VertexSFF(-2*sqrt(2)*I*I24a12*k1*k2/(k1**2*vev - k2**2*vev),-sqrt(2)*I*I22a12*k2**2/(k1**2*vev - k2**2*vev)), {self.v3!r}, {self.masas!r})\n",
      "****************************************************************************************************\n",
      "External scalar: H\n",
      "External fermions: mu-, ta+\n",
      "Loop fermion: N1\n",
      "Scalars in loop: HP2, HM2\n",
      "TriangleFSS(VertexSSS(-2*I*(k1**4*lambda1 + 2*k1**2*k2**2*lambda1 - 8*k1**2*k2**2*lambda2 - 4*k1**2*k2**2*lambda3 + k2**4*lambda1)/vev**3), VertexSFF(-2*sqrt(2)*I*I24a12*k1*k2/(k1**2*vev - k2**2*vev),-sqrt(2)*I*I22a12*k2**2/(k1**2*vev - k2**2*vev)), {self.v3!r}, {self.masas!r})\n"
     ]
    }
   ],
   "source": [
    "charged_SVplus_names = [S.name for S in UFOModel.particles if S.spin == 1 and S.charge==1]\n",
    "charged_SVplus_names.sort()\n",
    "charged_SVminus_names = [S.name for S in UFOModel.particles if S.spin == 1 and S.charge==-1]\n",
    "charged_SVminus_names.sort()\n",
    "\n",
    "#print(charged_SVplus_names, charged_SVminus_names)\n",
    "\n",
    "diagrams_fss = {}\n",
    "nu = 'N1'\n",
    "for Splus in charged_SVplus_names:\n",
    "    for Sminus in charged_SVminus_names:\n",
    "        print('*'*100)\n",
    "        try:\n",
    "            triangle_fss = construct_triangle_diagram_FSS(\n",
    "                loop_fermion=nu,\n",
    "                scalar1=Splus,\n",
    "                scalar2=Sminus,\n",
    "                external_scalars=['H'],\n",
    "                external_fermions=['mu-', 'ta+'],\n",
    "                ufo_model=UFOModel\n",
    "            )\n",
    "            diagrams_fss[(nu, Splus, Sminus)] = triangle_fss\n",
    "        except:\n",
    "            print(f'No diagram for Splus = {Splus} and Sminus = {Sminus}')\n",
    "            diagrams_fss[(nu, Splus, Sminus)] = 0\n",
    "        print(triangle_fss)\n"
   ]
  },
  {
   "cell_type": "code",
   "execution_count": 482,
   "metadata": {},
   "outputs": [
    {
     "data": {
      "text/plain": [
       "{('N1',\n",
       "  'GL+',\n",
       "  'GL-'): TriangleFSS(VertexSSS(-2*I*(k1**4*lambda1 + 4*k1**3*k2*lambda4 + 2*k1**2*k2**2*lambda1 + 8*k1**2*k2**2*lambda2 + 4*k1**2*k2**2*lambda3 + 4*k1*k2**3*lambda4 + k2**4*lambda1)/vev**3), VertexSFF(-sqrt(2)*I*I24a12/vev,sqrt(2)*I*I21a12/vev), {self.v3!r}, {self.masas!r}),\n",
       " ('N1',\n",
       "  'GL+',\n",
       "  'GR-'): TriangleFSS(VertexSSS(-sqrt(2)*I*alpha3*vR*(k1 - k2)*(k1 + k2)/(4*vev**2)), VertexSFF(-sqrt(2)*I*I24a12/vev,sqrt(2)*I*I21a12/vev), {self.v3!r}, {self.masas!r}),\n",
       " ('N1',\n",
       "  'GL+',\n",
       "  'HM1'): TriangleFSS(VertexSSS(-sqrt(2)*I*alpha3*vL*(k1 - k2)*(k1 + k2)/(4*vev**2)), VertexSFF(-sqrt(2)*I*I24a12/vev,sqrt(2)*I*I21a12/vev), {self.v3!r}, {self.masas!r}),\n",
       " ('N1',\n",
       "  'GL+',\n",
       "  'HM2'): TriangleFSS(VertexSSS(2*I*(k1 - k2)*(k1 + k2)*(k1**2*lambda4 + 4*k1*k2*lambda2 + 2*k1*k2*lambda3 + k2**2*lambda4)/vev**3), VertexSFF(-sqrt(2)*I*I24a12/vev,sqrt(2)*I*I21a12/vev), {self.v3!r}, {self.masas!r}),\n",
       " ('N1',\n",
       "  'GR+',\n",
       "  'GL-'): TriangleFSS(VertexSSS(-sqrt(2)*I*alpha3*vR*(k1 - k2)*(k1 + k2)/(4*vev**2)), VertexSFF(0,I*I36a12/(2*vR)), {self.v3!r}, {self.masas!r}),\n",
       " ('N1',\n",
       "  'GR+',\n",
       "  'GR-'): TriangleFSS(VertexSSS(-I*(2*alpha1*k1**2 + 2*alpha1*k2**2 + 8*alpha2*k1*k2 + alpha3*k1**2 + alpha3*k2**2)/(2*vev)), VertexSFF(0,I*I36a12/(2*vR)), {self.v3!r}, {self.masas!r}),\n",
       " ('N1', 'GR+', 'HM1'): 0,\n",
       " ('N1',\n",
       "  'GR+',\n",
       "  'HM2'): TriangleFSS(VertexSSS(-sqrt(2)*I*alpha3*k1*k2*vR/(2*vev**2)), VertexSFF(0,I*I36a12/(2*vR)), {self.v3!r}, {self.masas!r}),\n",
       " ('N1',\n",
       "  'HP1',\n",
       "  'GL-'): TriangleFSS(VertexSSS(-sqrt(2)*I*alpha3*vL*(k1 - k2)*(k1 + k2)/(4*vev**2)), VertexSFF(I*I44a12/(2*vR),0), {self.v3!r}, {self.masas!r}),\n",
       " ('N1', 'HP1', 'GR-'): 0,\n",
       " ('N1',\n",
       "  'HP1',\n",
       "  'HM1'): TriangleFSS(VertexSSS(-I*(2*alpha1*k1**2 + 2*alpha1*k2**2 + 8*alpha2*k1*k2 + alpha3*k1**2 + alpha3*k2**2)/(2*vev)), VertexSFF(I*I44a12/(2*vR),0), {self.v3!r}, {self.masas!r}),\n",
       " ('N1',\n",
       "  'HP1',\n",
       "  'HM2'): TriangleFSS(VertexSSS(-sqrt(2)*I*alpha3*k1*k2*vL/(2*vev**2)), VertexSFF(I*I44a12/(2*vR),0), {self.v3!r}, {self.masas!r}),\n",
       " ('N1',\n",
       "  'HP2',\n",
       "  'GL-'): TriangleFSS(VertexSSS(2*I*(k1 - k2)*(k1 + k2)*(k1**2*lambda4 + 4*k1*k2*lambda2 + 2*k1*k2*lambda3 + k2**2*lambda4)/vev**3), VertexSFF(-2*sqrt(2)*I*I24a12*k1*k2/(k1**2*vev - k2**2*vev),-sqrt(2)*I*I22a12*k2**2/(k1**2*vev - k2**2*vev)), {self.v3!r}, {self.masas!r}),\n",
       " ('N1',\n",
       "  'HP2',\n",
       "  'GR-'): TriangleFSS(VertexSSS(-sqrt(2)*I*alpha3*k1*k2*vR/(2*vev**2)), VertexSFF(-2*sqrt(2)*I*I24a12*k1*k2/(k1**2*vev - k2**2*vev),-sqrt(2)*I*I22a12*k2**2/(k1**2*vev - k2**2*vev)), {self.v3!r}, {self.masas!r}),\n",
       " ('N1',\n",
       "  'HP2',\n",
       "  'HM1'): TriangleFSS(VertexSSS(-sqrt(2)*I*alpha3*k1*k2*vL/(2*vev**2)), VertexSFF(-2*sqrt(2)*I*I24a12*k1*k2/(k1**2*vev - k2**2*vev),-sqrt(2)*I*I22a12*k2**2/(k1**2*vev - k2**2*vev)), {self.v3!r}, {self.masas!r}),\n",
       " ('N1',\n",
       "  'HP2',\n",
       "  'HM2'): TriangleFSS(VertexSSS(-2*I*(k1**4*lambda1 + 2*k1**2*k2**2*lambda1 - 8*k1**2*k2**2*lambda2 - 4*k1**2*k2**2*lambda3 + k2**4*lambda1)/vev**3), VertexSFF(-2*sqrt(2)*I*I24a12*k1*k2/(k1**2*vev - k2**2*vev),-sqrt(2)*I*I22a12*k2**2/(k1**2*vev - k2**2*vev)), {self.v3!r}, {self.masas!r})}"
      ]
     },
     "execution_count": 482,
     "metadata": {},
     "output_type": "execute_result"
    }
   ],
   "source": [
    "diagrams_fss"
   ]
  },
  {
   "cell_type": "code",
   "execution_count": 484,
   "metadata": {},
   "outputs": [
    {
     "name": "stdout",
     "output_type": "stream",
     "text": [
      "Particles in the loop: ('N1', 'GL+', 'GL-')\n",
      "AL('N1', 'GL+', 'GL-') = -(I21a12*I25a13*MN1*C0(MH, Mmu, Mta, MN1, MW, MW) - I21a12*I26a13*Mmu*C1(MH, Mmu, Mta, MN1, MW, MW) + I24a12*I25a13*Mta*C2(MH, Mmu, Mta, MN1, MW, MW))*(k1**4*lambda1 + 4*k1**3*k2*lambda4 + 2*k1**2*k2**2*lambda1 + 8*k1**2*k2**2*lambda2 + 4*k1**2*k2**2*lambda3 + 4*k1*k2**3*lambda4 + k2**4*lambda1)/(4*pi**2*vev**5)\n",
      "AR('N1', 'GL+', 'GL-') = -(I21a12*I26a13*Mta*C2(MH, Mmu, Mta, MN1, MW, MW) - I24a12*I25a13*Mmu*C1(MH, Mmu, Mta, MN1, MW, MW) + I24a12*I26a13*MN1*C0(MH, Mmu, Mta, MN1, MW, MW))*(k1**4*lambda1 + 4*k1**3*k2*lambda4 + 2*k1**2*k2**2*lambda1 + 8*k1**2*k2**2*lambda2 + 4*k1**2*k2**2*lambda3 + 4*k1*k2**3*lambda4 + k2**4*lambda1)/(4*pi**2*vev**5)\n",
      "Particles in the loop: ('N1', 'GL+', 'GR-')\n",
      "AL('N1', 'GL+', 'GR-') = I21a12*I48a13*Mmu*alpha3*(k1 - k2)*(k1 + k2)*C1(MH, Mmu, Mta, MN1, MW, MW2)/(64*pi**2*vev**3)\n",
      "AR('N1', 'GL+', 'GR-') = -I48a13*alpha3*(k1 - k2)*(k1 + k2)*(I21a12*Mta*C2(MH, Mmu, Mta, MN1, MW, MW2) + I24a12*MN1*C0(MH, Mmu, Mta, MN1, MW, MW2))/(64*pi**2*vev**3)\n",
      "Particles in the loop: ('N1', 'GL+', 'HM1')\n",
      "AL('N1', 'GL+', 'HM1') = I52a13*alpha3*vL*(k1 - k2)*(k1 + k2)*(I21a12*MN1*C0(MH, Mmu, Mta, MN1, MW, MHP1) + I24a12*Mta*C2(MH, Mmu, Mta, MN1, MW, MHP1))/(64*pi**2*vR*vev**3)\n",
      "AR('N1', 'GL+', 'HM1') = -I24a12*I52a13*Mmu*alpha3*vL*(k1 - k2)*(k1 + k2)*C1(MH, Mmu, Mta, MN1, MW, MHP1)/(64*pi**2*vR*vev**3)\n",
      "Particles in the loop: ('N1', 'GL+', 'HM2')\n",
      "AL('N1', 'GL+', 'HM2') = -k2**2*(I21a12*I27a13*MN1*C0(MH, Mmu, Mta, MN1, MW, MHP2) - I21a12*I28a13*Mmu*C1(MH, Mmu, Mta, MN1, MW, MHP2) + I24a12*I27a13*Mta*C2(MH, Mmu, Mta, MN1, MW, MHP2))*(k1**2*lambda4 + 4*k1*k2*lambda2 + 2*k1*k2*lambda3 + k2**2*lambda4)/(4*pi**2*vev**5)\n",
      "AR('N1', 'GL+', 'HM2') = -k2**2*(I21a12*I28a13*Mta*C2(MH, Mmu, Mta, MN1, MW, MHP2) - I24a12*I27a13*Mmu*C1(MH, Mmu, Mta, MN1, MW, MHP2) + I24a12*I28a13*MN1*C0(MH, Mmu, Mta, MN1, MW, MHP2))*(k1**2*lambda4 + 4*k1*k2*lambda2 + 2*k1*k2*lambda3 + k2**2*lambda4)/(4*pi**2*vev**5)\n",
      "Particles in the loop: ('N1', 'GR+', 'GL-')\n",
      "AL('N1', 'GR+', 'GL-') = -I36a12*alpha3*(k1 - k2)*(k1 + k2)*(I25a13*MN1*C0(MH, Mmu, Mta, MN1, MW2, MW) - I26a13*Mmu*C1(MH, Mmu, Mta, MN1, MW2, MW))/(64*pi**2*vev**3)\n",
      "AR('N1', 'GR+', 'GL-') = -I26a13*I36a12*Mta*alpha3*(k1 - k2)*(k1 + k2)*C2(MH, Mmu, Mta, MN1, MW2, MW)/(64*pi**2*vev**3)\n",
      "Particles in the loop: ('N1', 'GR+', 'GR-')\n",
      "AL('N1', 'GR+', 'GR-') = I36a12*I48a13*Mmu*(2*alpha1*k1**2 + 2*alpha1*k2**2 + 8*alpha2*k1*k2 + alpha3*k1**2 + alpha3*k2**2)*C1(MH, Mmu, Mta, MN1, MW2, MW2)/(128*pi**2*vR**2*vev)\n",
      "AR('N1', 'GR+', 'GR-') = -I36a12*I48a13*Mta*(2*alpha1*k1**2 + 2*alpha1*k2**2 + 8*alpha2*k1*k2 + alpha3*k1**2 + alpha3*k2**2)*C2(MH, Mmu, Mta, MN1, MW2, MW2)/(128*pi**2*vR**2*vev)\n",
      "Particles in the loop: ('N1', 'GR+', 'HM1')\n",
      "No form factors for ('N1', 'GR+', 'HM1')\n",
      "Particles in the loop: ('N1', 'GR+', 'HM2')\n",
      "AL('N1', 'GR+', 'HM2') = I36a12*alpha3*k1*k2**3*(I27a13*MN1*C0(MH, Mmu, Mta, MN1, MW2, MHP2) - I28a13*Mmu*C1(MH, Mmu, Mta, MN1, MW2, MHP2))/(32*pi**2*vev**3*(k1 - k2)*(k1 + k2))\n",
      "AR('N1', 'GR+', 'HM2') = I28a13*I36a12*Mta*alpha3*k1*k2**3*C2(MH, Mmu, Mta, MN1, MW2, MHP2)/(32*pi**2*vev**3*(k1 - k2)*(k1 + k2))\n",
      "Particles in the loop: ('N1', 'HP1', 'GL-')\n",
      "AL('N1', 'HP1', 'GL-') = I25a13*I44a12*Mta*alpha3*vL*(k1 - k2)*(k1 + k2)*C2(MH, Mmu, Mta, MN1, MHP1, MW)/(64*pi**2*vR*vev**3)\n",
      "AR('N1', 'HP1', 'GL-') = I44a12*alpha3*vL*(k1 - k2)*(k1 + k2)*(-I25a13*Mmu*C1(MH, Mmu, Mta, MN1, MHP1, MW) + I26a13*MN1*C0(MH, Mmu, Mta, MN1, MHP1, MW))/(64*pi**2*vR*vev**3)\n",
      "Particles in the loop: ('N1', 'HP1', 'GR-')\n",
      "No form factors for ('N1', 'HP1', 'GR-')\n",
      "Particles in the loop: ('N1', 'HP1', 'HM1')\n",
      "AL('N1', 'HP1', 'HM1') = -I44a12*I52a13*Mta*(2*alpha1*k1**2 + 2*alpha1*k2**2 + 8*alpha2*k1*k2 + alpha3*k1**2 + alpha3*k2**2)*C2(MH, Mmu, Mta, MN1, MHP1, MHP1)/(128*pi**2*vR**2*vev)\n",
      "AR('N1', 'HP1', 'HM1') = I44a12*I52a13*Mmu*(2*alpha1*k1**2 + 2*alpha1*k2**2 + 8*alpha2*k1*k2 + alpha3*k1**2 + alpha3*k2**2)*C1(MH, Mmu, Mta, MN1, MHP1, MHP1)/(128*pi**2*vR**2*vev)\n",
      "Particles in the loop: ('N1', 'HP1', 'HM2')\n",
      "AL('N1', 'HP1', 'HM2') = -I27a13*I44a12*Mta*alpha3*k1*k2**3*vL*C2(MH, Mmu, Mta, MN1, MHP1, MHP2)/(32*pi**2*vR*vev**3*(k1 - k2)*(k1 + k2))\n",
      "AR('N1', 'HP1', 'HM2') = -I44a12*alpha3*k1*k2**3*vL*(-I27a13*Mmu*C1(MH, Mmu, Mta, MN1, MHP1, MHP2) + I28a13*MN1*C0(MH, Mmu, Mta, MN1, MHP1, MHP2))/(32*pi**2*vR*vev**3*(k1 - k2)*(k1 + k2))\n",
      "Particles in the loop: ('N1', 'HP2', 'GL-')\n",
      "AL('N1', 'HP2', 'GL-') = k2*(-I22a12*I25a13*MN1*k2*C0(MH, Mmu, Mta, MN1, MHP2, MW) + I22a12*I26a13*Mmu*k2*C1(MH, Mmu, Mta, MN1, MHP2, MW) + 2*I24a12*I25a13*Mta*k1*C2(MH, Mmu, Mta, MN1, MHP2, MW))*(k1**2*lambda4 + 4*k1*k2*lambda2 + 2*k1*k2*lambda3 + k2**2*lambda4)/(4*pi**2*vev**5)\n",
      "AR('N1', 'HP2', 'GL-') = k2*(-I22a12*I26a13*Mta*k2*C2(MH, Mmu, Mta, MN1, MHP2, MW) - 2*I24a12*I25a13*Mmu*k1*C1(MH, Mmu, Mta, MN1, MHP2, MW) + 2*I24a12*I26a13*MN1*k1*C0(MH, Mmu, Mta, MN1, MHP2, MW))*(k1**2*lambda4 + 4*k1*k2*lambda2 + 2*k1*k2*lambda3 + k2**2*lambda4)/(4*pi**2*vev**5)\n",
      "Particles in the loop: ('N1', 'HP2', 'GR-')\n",
      "AL('N1', 'HP2', 'GR-') = -I22a12*I48a13*Mmu*alpha3*k1*k2**3*C1(MH, Mmu, Mta, MN1, MHP2, MW2)/(32*pi**2*vev**3*(k1 - k2)*(k1 + k2))\n",
      "AR('N1', 'HP2', 'GR-') = -I48a13*alpha3*k1*k2**2*(-I22a12*Mta*k2*C2(MH, Mmu, Mta, MN1, MHP2, MW2) + 2*I24a12*MN1*k1*C0(MH, Mmu, Mta, MN1, MHP2, MW2))/(32*pi**2*vev**3*(k1 - k2)*(k1 + k2))\n",
      "Particles in the loop: ('N1', 'HP2', 'HM1')\n",
      "AL('N1', 'HP2', 'HM1') = I52a13*alpha3*k1*k2**2*vL*(-I22a12*MN1*k2*C0(MH, Mmu, Mta, MN1, MHP2, MHP1) + 2*I24a12*Mta*k1*C2(MH, Mmu, Mta, MN1, MHP2, MHP1))/(32*pi**2*vR*vev**3*(k1 - k2)*(k1 + k2))\n",
      "AR('N1', 'HP2', 'HM1') = -I24a12*I52a13*Mmu*alpha3*k1**2*k2**2*vL*C1(MH, Mmu, Mta, MN1, MHP2, MHP1)/(16*pi**2*vR*vev**3*(k1 - k2)*(k1 + k2))\n",
      "Particles in the loop: ('N1', 'HP2', 'HM2')\n",
      "AL('N1', 'HP2', 'HM2') = k2**3*(-I22a12*I27a13*MN1*k2*C0(MH, Mmu, Mta, MN1, MHP2, MHP2) + I22a12*I28a13*Mmu*k2*C1(MH, Mmu, Mta, MN1, MHP2, MHP2) + 2*I24a12*I27a13*Mta*k1*C2(MH, Mmu, Mta, MN1, MHP2, MHP2))*(k1**4*lambda1 + 2*k1**2*k2**2*lambda1 - 8*k1**2*k2**2*lambda2 - 4*k1**2*k2**2*lambda3 + k2**4*lambda1)/(4*pi**2*vev**5*(k1 - k2)**2*(k1 + k2)**2)\n",
      "AR('N1', 'HP2', 'HM2') = k2**3*(-I22a12*I28a13*Mta*k2*C2(MH, Mmu, Mta, MN1, MHP2, MHP2) - 2*I24a12*I27a13*Mmu*k1*C1(MH, Mmu, Mta, MN1, MHP2, MHP2) + 2*I24a12*I28a13*MN1*k1*C0(MH, Mmu, Mta, MN1, MHP2, MHP2))*(k1**4*lambda1 + 2*k1**2*k2**2*lambda1 - 8*k1**2*k2**2*lambda2 - 4*k1**2*k2**2*lambda3 + k2**4*lambda1)/(4*pi**2*vev**5*(k1 - k2)**2*(k1 + k2)**2)\n"
     ]
    }
   ],
   "source": [
    "diagrams_fss_formfactors = {}\n",
    "for particles, diagram in diagrams_fss.items():\n",
    "    print(f'Particles in the loop: {particles}')\n",
    "    try:\n",
    "        AL_fss = diagram.AL().factor()\n",
    "        print(f\"AL{particles} = {AL_fss}\")\n",
    "        AR_fss = diagram.AR().factor()\n",
    "        print(f\"AR{particles} = {AR_fss}\")\n",
    "        diagrams_fss_formfactors[particles] = {'Left':AL_fss, 'Right':AR_fss}\n",
    "    except:\n",
    "        print(f'No form factors for {particles}')\n",
    "        diagrams_fss_formfactors[particles] = {'Left':AL_fss, 'Right':AR_fss}"
   ]
  },
  {
   "cell_type": "code",
   "execution_count": 485,
   "metadata": {},
   "outputs": [
    {
     "data": {
      "image/png": "[encoded data removed]",
      "text/latex": [
       "$\\displaystyle - \\frac{\\left(I21a12 I25a13 MN_{1} C_0(MH, Mmu, Mta, MN_{1}, MW, MW) - I21a12 I26a13 Mmu C_1(MH, Mmu, Mta, MN_{1}, MW, MW) + I24a12 I25a13 Mta C_2(MH, Mmu, Mta, MN_{1}, MW, MW)\\right) \\left(k_{1}^{4} \\lambda_{1} + 4 k_{1}^{3} k_{2} \\lambda_{4} + 2 k_{1}^{2} k_{2}^{2} \\lambda_{1} + 8 k_{1}^{2} k_{2}^{2} \\lambda_{2} + 4 k_{1}^{2} k_{2}^{2} \\lambda_{3} + 4 k_{1} k_{2}^{3} \\lambda_{4} + k_{2}^{4} \\lambda_{1}\\right)}{4 \\pi^{2} vev^{5}}$"
      ],
      "text/plain": [
       "                                                                               ↪\n",
       "-(I21a12⋅I25a13⋅MN₁⋅C₀(MH, Mmu, Mta, MN₁, MW, MW) - I21a12⋅I26a13⋅Mmu⋅C₁(MH, M ↪\n",
       "────────────────────────────────────────────────────────────────────────────── ↪\n",
       "                                                                               ↪\n",
       "                                                                               ↪\n",
       "\n",
       "↪                                                                          ⎛   ↪\n",
       "↪ mu, Mta, MN₁, MW, MW) + I24a12⋅I25a13⋅Mta⋅C₂(MH, Mmu, Mta, MN₁, MW, MW))⋅⎝k₁ ↪\n",
       "↪ ──────────────────────────────────────────────────────────────────────────── ↪\n",
       "↪                                          2    5                              ↪\n",
       "↪                                       4⋅π ⋅vev                               ↪\n",
       "\n",
       "↪ 4          3             2   2          2   2          2   2             3   ↪\n",
       "↪  ⋅λ₁ + 4⋅k₁ ⋅k₂⋅λ₄ + 2⋅k₁ ⋅k₂ ⋅λ₁ + 8⋅k₁ ⋅k₂ ⋅λ₂ + 4⋅k₁ ⋅k₂ ⋅λ₃ + 4⋅k₁⋅k₂ ⋅λ ↪\n",
       "↪ ──────────────────────────────────────────────────────────────────────────── ↪\n",
       "↪                                                                              ↪\n",
       "↪                                                                              ↪\n",
       "\n",
       "↪       4   ⎞ \n",
       "↪ ₄ + k₂ ⋅λ₁⎠ \n",
       "↪ ────────────\n",
       "↪             \n",
       "↪             "
      ]
     },
     "execution_count": 485,
     "metadata": {},
     "output_type": "execute_result"
    }
   ],
   "source": [
    "diagrams_fss_formfactors[('N1','GL+', 'GL-')]['Left']"
   ]
  },
  {
   "cell_type": "code",
   "execution_count": 240,
   "metadata": {},
   "outputs": [
    {
     "name": "stdout",
     "output_type": "stream",
     "text": [
      "[N1, e__minus__, GL__plus__]\n",
      "[N1, mu__minus__, GL__plus__]\n",
      "[N1, ta__minus__, GL__plus__]\n"
     ]
    }
   ],
   "source": [
    "for v in UFOModel.find_vertices_involving(\n",
    "    ['GL+', N1.name], number_particles=3\n",
    "):\n",
    "    print(v.particles)"
   ]
  },
  {
   "cell_type": "code",
   "execution_count": 250,
   "metadata": {},
   "outputs": [
    {
     "data": {
      "text/plain": [
       "V_660"
      ]
     },
     "execution_count": 250,
     "metadata": {},
     "output_type": "execute_result"
    }
   ],
   "source": [
    "UFOModel.find_vertices_involving(\n",
    "    ['GL+', 'ta-', N1.name], number_particles=3\n",
    ")[0]"
   ]
  },
  {
   "cell_type": "code",
   "execution_count": null,
   "metadata": {},
   "outputs": [
    {
     "name": "stdout",
     "output_type": "stream",
     "text": [
      "External scalar: H\n",
      "External fermions: mu+, ta-\n",
      "Loop fermion: N1\n",
      "Scalars in loop: HP1, HM1\n"
     ]
    },
    {
     "ename": "ValueError",
     "evalue": "No vertex found for particles: HP1, mu+, N1",
     "output_type": "error",
     "traceback": [
      "\u001b[1;31m---------------------------------------------------------------------------\u001b[0m",
      "\u001b[1;31mValueError\u001b[0m                                Traceback (most recent call last)",
      "Cell \u001b[1;32mIn[247], line 1\u001b[0m\n\u001b[1;32m----> 1\u001b[0m triangle_fss \u001b[38;5;241m=\u001b[39m \u001b[43mconstruct_triangle_diagram\u001b[49m\u001b[43m(\u001b[49m\n\u001b[0;32m      2\u001b[0m \u001b[43m    \u001b[49m\u001b[43mloop_fermion\u001b[49m\u001b[38;5;241;43m=\u001b[39;49m\u001b[38;5;124;43m'\u001b[39;49m\u001b[38;5;124;43mN1\u001b[39;49m\u001b[38;5;124;43m'\u001b[39;49m\u001b[43m,\u001b[49m\n\u001b[0;32m      3\u001b[0m \u001b[43m    \u001b[49m\u001b[43mscalar1\u001b[49m\u001b[38;5;241;43m=\u001b[39;49m\u001b[38;5;124;43m'\u001b[39;49m\u001b[38;5;124;43mHP1\u001b[39;49m\u001b[38;5;124;43m'\u001b[39;49m\u001b[43m,\u001b[49m\n\u001b[0;32m      4\u001b[0m \u001b[43m    \u001b[49m\u001b[43mscalar2\u001b[49m\u001b[38;5;241;43m=\u001b[39;49m\u001b[38;5;124;43m'\u001b[39;49m\u001b[38;5;124;43mHM1\u001b[39;49m\u001b[38;5;124;43m'\u001b[39;49m\u001b[43m,\u001b[49m\n\u001b[0;32m      5\u001b[0m \u001b[43m    \u001b[49m\u001b[43mexternal_scalars\u001b[49m\u001b[38;5;241;43m=\u001b[39;49m\u001b[43m[\u001b[49m\u001b[38;5;124;43m'\u001b[39;49m\u001b[38;5;124;43mH\u001b[39;49m\u001b[38;5;124;43m'\u001b[39;49m\u001b[43m]\u001b[49m\u001b[43m,\u001b[49m\n\u001b[0;32m      6\u001b[0m \u001b[43m    \u001b[49m\u001b[43mexternal_fermions\u001b[49m\u001b[38;5;241;43m=\u001b[39;49m\u001b[43m[\u001b[49m\u001b[38;5;124;43m'\u001b[39;49m\u001b[38;5;124;43mmu+\u001b[39;49m\u001b[38;5;124;43m'\u001b[39;49m\u001b[43m,\u001b[49m\u001b[43m \u001b[49m\u001b[38;5;124;43m'\u001b[39;49m\u001b[38;5;124;43mta-\u001b[39;49m\u001b[38;5;124;43m'\u001b[39;49m\u001b[43m]\u001b[49m\u001b[43m,\u001b[49m\n\u001b[0;32m      7\u001b[0m \u001b[43m    \u001b[49m\u001b[43mdiagram_type\u001b[49m\u001b[38;5;241;43m=\u001b[39;49m\u001b[38;5;124;43m'\u001b[39;49m\u001b[38;5;124;43mFSS\u001b[39;49m\u001b[38;5;124;43m'\u001b[39;49m\n\u001b[0;32m      8\u001b[0m \u001b[43m)\u001b[49m\n\u001b[0;32m      9\u001b[0m \u001b[38;5;28mprint\u001b[39m(triangle_fss)\n",
      "Cell \u001b[1;32mIn[198], line 43\u001b[0m, in \u001b[0;36mconstruct_triangle_diagram\u001b[1;34m(loop_fermion, scalar1, scalar2, external_scalars, external_fermions, diagram_type, mass_dict)\u001b[0m\n\u001b[0;32m     39\u001b[0m vertex_scalar_fermion_a \u001b[38;5;241m=\u001b[39m UFOModel\u001b[38;5;241m.\u001b[39mfind_vertices_involving(\n\u001b[0;32m     40\u001b[0m     [scalar1, ext_fermion_a_name, loop_fermion], number_particles\u001b[38;5;241m=\u001b[39m\u001b[38;5;241m3\u001b[39m\n\u001b[0;32m     41\u001b[0m )\n\u001b[0;32m     42\u001b[0m \u001b[38;5;28;01mif\u001b[39;00m \u001b[38;5;129;01mnot\u001b[39;00m vertex_scalar_fermion_a:\n\u001b[1;32m---> 43\u001b[0m     \u001b[38;5;28;01mraise\u001b[39;00m \u001b[38;5;167;01mValueError\u001b[39;00m(\u001b[38;5;124mf\u001b[39m\u001b[38;5;124m\"\u001b[39m\u001b[38;5;124mNo vertex found for particles: \u001b[39m\u001b[38;5;132;01m{\u001b[39;00mscalar1\u001b[38;5;132;01m}\u001b[39;00m\u001b[38;5;124m, \u001b[39m\u001b[38;5;132;01m{\u001b[39;00mext_fermion_a_name\u001b[38;5;132;01m}\u001b[39;00m\u001b[38;5;124m, \u001b[39m\u001b[38;5;132;01m{\u001b[39;00mloop_fermion\u001b[38;5;132;01m}\u001b[39;00m\u001b[38;5;124m\"\u001b[39m)\n\u001b[0;32m     44\u001b[0m vertex_scalar_fermion_a \u001b[38;5;241m=\u001b[39m vertex_scalar_fermion_a[\u001b[38;5;241m0\u001b[39m]\n\u001b[0;32m     46\u001b[0m vertex_scalar_fermion_b \u001b[38;5;241m=\u001b[39m UFOModel\u001b[38;5;241m.\u001b[39mfind_vertices_involving(\n\u001b[0;32m     47\u001b[0m     [scalar2, ext_fermion_b_name, loop_fermion], number_particles\u001b[38;5;241m=\u001b[39m\u001b[38;5;241m3\u001b[39m\n\u001b[0;32m     48\u001b[0m )\n",
      "\u001b[1;31mValueError\u001b[0m: No vertex found for particles: HP1, mu+, N1"
     ]
    }
   ],
   "source": [
    "triangle_fss = construct_triangle_diagram(\n",
    "    loop_fermion='N1',\n",
    "    scalar1='HP1',\n",
    "    scalar2='HM1',\n",
    "    external_scalars=['H'],\n",
    "    external_fermions=['mu-', 'ta+'],\n",
    "    diagram_type='FSS'\n",
    ")\n",
    "print(triangle_fss)"
   ]
  },
  {
   "cell_type": "code",
   "execution_count": 246,
   "metadata": {},
   "outputs": [
    {
     "data": {
      "image/png": "[encoded data removed]",
      "text/latex": [
       "$\\displaystyle - \\frac{Mta \\left(I43a12 + I44a12\\right) \\left(I51a13 + I52a13\\right) \\left(2 \\alpha_{1} k_{1}^{2} + 2 \\alpha_{1} k_{2}^{2} + 8 \\alpha_{2} k_{1} k_{2} + \\alpha_{3} k_{1}^{2} + \\alpha_{3} k_{2}^{2}\\right) C_2(MH, Mmu, Mta, MN_{1}, MHP_{1}, MHP_{1})}{128 \\pi^{2} vR^{2} vev}$"
      ],
      "text/plain": [
       "                                         ⎛       2          2                  ↪\n",
       "-Mta⋅(I43a12 + I44a12)⋅(I51a13 + I52a13)⋅⎝2⋅α₁⋅k₁  + 2⋅α₁⋅k₂  + 8⋅α₂⋅k₁⋅k₂ + α ↪\n",
       "────────────────────────────────────────────────────────────────────────────── ↪\n",
       "                                                              2   2            ↪\n",
       "                                                         128⋅π ⋅vR ⋅vev        ↪\n",
       "\n",
       "↪     2        2⎞                                   \n",
       "↪ ₃⋅k₁  + α₃⋅k₂ ⎠⋅C₂(MH, Mmu, Mta, MN₁, MHP₁, MHP₁) \n",
       "↪ ──────────────────────────────────────────────────\n",
       "↪                                                   \n",
       "↪                                                   "
      ]
     },
     "execution_count": 246,
     "metadata": {},
     "output_type": "execute_result"
    }
   ],
   "source": [
    "triangle_fss.AL()"
   ]
  },
  {
   "cell_type": "code",
   "execution_count": 186,
   "metadata": {},
   "outputs": [
    {
     "name": "stdout",
     "output_type": "stream",
     "text": [
      "[a, Z, W__plus__, W__minus__, g, W2__plus__, W2__minus__, Z2, ghG, ghG__tilde__, e__minus__, e__plus__, mu__minus__, mu__plus__, ta__minus__, ta__plus__, u, u__tilde__, c, c__tilde__, t, t__tilde__, d, d__tilde__, s, s__tilde__, b, b__tilde__, N1, N2, N3, N4, N5, N6, H, H01, H02, H03, G01, G02, GL__plus__, GL__minus__, GR__plus__, GR__minus__, HP1, HM1, HP2, HM2, HL__plus____plus__, HL__minus____minus__, HR__plus____plus__, HR__minus____minus__, A01, A02]\n"
     ]
    }
   ],
   "source": [
    "print(UFOModel.particles)"
   ]
  },
  {
   "cell_type": "code",
   "execution_count": 244,
   "metadata": {},
   "outputs": [
    {
     "name": "stdout",
     "output_type": "stream",
     "text": [
      "[N1, ta__minus__, HP1]\n"
     ]
    }
   ],
   "source": [
    "matching_vertices = UFOModel.find_vertices_involving(['HP1', 'ta-', 'N1'])\n",
    "for vertex in matching_vertices:\n",
    "    print(vertex.particles)"
   ]
  },
  {
   "cell_type": "code",
   "execution_count": 152,
   "metadata": {},
   "outputs": [
    {
     "data": {
      "image/png": "[encoded data removed]",
      "text/latex": [
       "$\\displaystyle - \\frac{Mta \\left(I43a12 + I44a12\\right) \\left(I51a13 + I52a13\\right) \\left(2 \\alpha_{1} k_{1}^{2} + 2 \\alpha_{1} k_{2}^{2} + 8 \\alpha_{2} k_{1} k_{2} + \\alpha_{3} k_{1}^{2} + \\alpha_{3} k_{2}^{2}\\right) C_2(MH, Mmu, Mta, MN_{1}, MHP_{1}, MHP_{1})}{128 \\pi^{2} vR^{2} vev}$"
      ],
      "text/plain": [
       "                                         ⎛       2          2                  ↪\n",
       "-Mta⋅(I43a12 + I44a12)⋅(I51a13 + I52a13)⋅⎝2⋅α₁⋅k₁  + 2⋅α₁⋅k₂  + 8⋅α₂⋅k₁⋅k₂ + α ↪\n",
       "────────────────────────────────────────────────────────────────────────────── ↪\n",
       "                                                              2   2            ↪\n",
       "                                                         128⋅π ⋅vR ⋅vev        ↪\n",
       "\n",
       "↪     2        2⎞                                   \n",
       "↪ ₃⋅k₁  + α₃⋅k₂ ⎠⋅C₂(MH, Mmu, Mta, MN₁, MHP₁, MHP₁) \n",
       "↪ ──────────────────────────────────────────────────\n",
       "↪                                                   \n",
       "↪                                                   "
      ]
     },
     "execution_count": 152,
     "metadata": {},
     "output_type": "execute_result"
    }
   ],
   "source": [
    "triangleH_HP1_HM1.AR()"
   ]
  },
  {
   "cell_type": "code",
   "execution_count": null,
   "metadata": {},
   "outputs": [],
   "source": []
  }
 ],
 "metadata": {
  "kernelspec": {
   "display_name": "py311",
   "language": "python",
   "name": "python3"
  },
  "language_info": {
   "codemirror_mode": {
    "name": "ipython",
    "version": 3
   },
   "file_extension": ".py",
   "mimetype": "text/x-python",
   "name": "python",
   "nbconvert_exporter": "python",
   "pygments_lexer": "ipython3",
   "version": "3.11.0"
  }
 },
 "nbformat": 4,
 "nbformat_minor": 2
}
